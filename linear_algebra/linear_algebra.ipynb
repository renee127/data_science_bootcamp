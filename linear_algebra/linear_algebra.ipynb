{
 "cells": [
  {
   "cell_type": "markdown",
   "metadata": {},
   "source": [
    "# Statement"
   ]
  },
  {
   "cell_type": "markdown",
   "metadata": {},
   "source": [
    "The Sure Tomorrow insurance company wants to solve several tasks with the help of Machine Learning and you are asked to evaluate that possibility.\n",
    "\n",
    "- Task 1: Find customers who are similar to a given customer. This will help the company's agents with marketing.\n",
    "- Task 2: Predict whether a new customer is likely to receive an insurance benefit. Can a prediction model do better than a dummy model?\n",
    "- Task 3: Predict the number of insurance benefits a new customer is likely to receive using a linear regression model.\n",
    "- Task 4: Protect clients' personal data without breaking the model from the previous task. It's necessary to develop a data transformation algorithm that would make it hard to recover personal information if the data fell into the wrong hands. This is called data masking, or data obfuscation. But the data should be protected in such a way that the quality of machine learning models doesn't suffer. You don't need to pick the best model, just prove that the algorithm works correctly."
   ]
  },
  {
   "cell_type": "markdown",
   "metadata": {},
   "source": [
    "# Data Preprocessing & Exploration\n",
    "\n",
    "## Initialization"
   ]
  },
  {
   "cell_type": "code",
   "execution_count": 1,
   "metadata": {},
   "outputs": [
    {
     "name": "stdout",
     "output_type": "stream",
     "text": [
      "Defaulting to user installation because normal site-packages is not writeable\n",
      "Requirement already up-to-date: scikit-learn in /home/jovyan/.local/lib/python3.7/site-packages (1.0.2)\n",
      "Requirement already satisfied, skipping upgrade: numpy>=1.14.6 in /opt/conda/lib/python3.7/site-packages (from scikit-learn) (1.19.5)\n",
      "Requirement already satisfied, skipping upgrade: joblib>=0.11 in /opt/conda/lib/python3.7/site-packages (from scikit-learn) (1.0.1)\n",
      "Requirement already satisfied, skipping upgrade: threadpoolctl>=2.0.0 in /home/jovyan/.local/lib/python3.7/site-packages (from scikit-learn) (3.0.0)\n",
      "Requirement already satisfied, skipping upgrade: scipy>=1.1.0 in /opt/conda/lib/python3.7/site-packages (from scikit-learn) (1.4.1)\n",
      "Note: you may need to restart the kernel to use updated packages.\n"
     ]
    }
   ],
   "source": [
    "pip install scikit-learn --upgrade"
   ]
  },
  {
   "cell_type": "code",
   "execution_count": 2,
   "metadata": {},
   "outputs": [],
   "source": [
    "import numpy as np\n",
    "import pandas as pd\n",
    "import math\n",
    "\n",
    "import seaborn as sns\n",
    "import matplotlib.pyplot as plt\n",
    "import math\n",
    "\n",
    "\n",
    "import sklearn.linear_model\n",
    "import sklearn.metrics\n",
    "import sklearn.neighbors\n",
    "import sklearn.preprocessing\n",
    "\n",
    "from sklearn.model_selection import train_test_split\n",
    "\n",
    "from sklearn.neighbors import NearestNeighbors # for kNN\n",
    "from sklearn.neighbors import KNeighborsClassifier\n",
    "\n",
    "from IPython.display import display\n",
    "\n",
    "# import sys and insert code to ignore warnings \n",
    "import sys\n",
    "\n",
    "if not sys.warnoptions:\n",
    "    import warnings\n",
    "    warnings.simplefilter(\"ignore\")"
   ]
  },
  {
   "cell_type": "markdown",
   "metadata": {},
   "source": [
    "## Load Data"
   ]
  },
  {
   "cell_type": "markdown",
   "metadata": {},
   "source": [
    "Load data and conduct a basic check that it's free from obvious issues."
   ]
  },
  {
   "cell_type": "code",
   "execution_count": 3,
   "metadata": {},
   "outputs": [],
   "source": [
    "df = pd.read_csv('/datasets/insurance_us.csv')"
   ]
  },
  {
   "cell_type": "markdown",
   "metadata": {},
   "source": [
    "We rename the colums to make the code look more consistent with its style."
   ]
  },
  {
   "cell_type": "code",
   "execution_count": 4,
   "metadata": {},
   "outputs": [],
   "source": [
    "df = df.rename(columns={'Gender': 'gender', 'Age': 'age', 'Salary': 'income', 'Family members': 'family_members', 'Insurance benefits': 'insurance_benefits'})"
   ]
  },
  {
   "cell_type": "code",
   "execution_count": 5,
   "metadata": {},
   "outputs": [
    {
     "data": {
      "text/html": [
       "<div>\n",
       "<style scoped>\n",
       "    .dataframe tbody tr th:only-of-type {\n",
       "        vertical-align: middle;\n",
       "    }\n",
       "\n",
       "    .dataframe tbody tr th {\n",
       "        vertical-align: top;\n",
       "    }\n",
       "\n",
       "    .dataframe thead th {\n",
       "        text-align: right;\n",
       "    }\n",
       "</style>\n",
       "<table border=\"1\" class=\"dataframe\">\n",
       "  <thead>\n",
       "    <tr style=\"text-align: right;\">\n",
       "      <th></th>\n",
       "      <th>gender</th>\n",
       "      <th>age</th>\n",
       "      <th>income</th>\n",
       "      <th>family_members</th>\n",
       "      <th>insurance_benefits</th>\n",
       "    </tr>\n",
       "  </thead>\n",
       "  <tbody>\n",
       "    <tr>\n",
       "      <td>522</td>\n",
       "      <td>1</td>\n",
       "      <td>46.0</td>\n",
       "      <td>20700.0</td>\n",
       "      <td>1</td>\n",
       "      <td>1</td>\n",
       "    </tr>\n",
       "    <tr>\n",
       "      <td>2695</td>\n",
       "      <td>1</td>\n",
       "      <td>33.0</td>\n",
       "      <td>37500.0</td>\n",
       "      <td>4</td>\n",
       "      <td>0</td>\n",
       "    </tr>\n",
       "    <tr>\n",
       "      <td>2069</td>\n",
       "      <td>1</td>\n",
       "      <td>24.0</td>\n",
       "      <td>42000.0</td>\n",
       "      <td>3</td>\n",
       "      <td>0</td>\n",
       "    </tr>\n",
       "    <tr>\n",
       "      <td>1748</td>\n",
       "      <td>1</td>\n",
       "      <td>20.0</td>\n",
       "      <td>28100.0</td>\n",
       "      <td>1</td>\n",
       "      <td>0</td>\n",
       "    </tr>\n",
       "    <tr>\n",
       "      <td>2775</td>\n",
       "      <td>1</td>\n",
       "      <td>41.0</td>\n",
       "      <td>42400.0</td>\n",
       "      <td>1</td>\n",
       "      <td>0</td>\n",
       "    </tr>\n",
       "  </tbody>\n",
       "</table>\n",
       "</div>"
      ],
      "text/plain": [
       "      gender   age   income  family_members  insurance_benefits\n",
       "522        1  46.0  20700.0               1                   1\n",
       "2695       1  33.0  37500.0               4                   0\n",
       "2069       1  24.0  42000.0               3                   0\n",
       "1748       1  20.0  28100.0               1                   0\n",
       "2775       1  41.0  42400.0               1                   0"
      ]
     },
     "execution_count": 5,
     "metadata": {},
     "output_type": "execute_result"
    }
   ],
   "source": [
    "df.sample(5)"
   ]
  },
  {
   "cell_type": "code",
   "execution_count": 6,
   "metadata": {},
   "outputs": [
    {
     "name": "stdout",
     "output_type": "stream",
     "text": [
      "<class 'pandas.core.frame.DataFrame'>\n",
      "RangeIndex: 5000 entries, 0 to 4999\n",
      "Data columns (total 5 columns):\n",
      "gender                5000 non-null int64\n",
      "age                   5000 non-null float64\n",
      "income                5000 non-null float64\n",
      "family_members        5000 non-null int64\n",
      "insurance_benefits    5000 non-null int64\n",
      "dtypes: float64(2), int64(3)\n",
      "memory usage: 195.4 KB\n"
     ]
    }
   ],
   "source": [
    "df.info()"
   ]
  },
  {
   "cell_type": "code",
   "execution_count": 7,
   "metadata": {},
   "outputs": [],
   "source": [
    "# we may want to fix the age type (from float to int) though this is not critical\n",
    "\n",
    "# write your conversion here if you choose:\n",
    "df['age'] = df['age'].astype('int16')"
   ]
  },
  {
   "cell_type": "code",
   "execution_count": 8,
   "metadata": {},
   "outputs": [
    {
     "name": "stdout",
     "output_type": "stream",
     "text": [
      "<class 'pandas.core.frame.DataFrame'>\n",
      "RangeIndex: 5000 entries, 0 to 4999\n",
      "Data columns (total 5 columns):\n",
      "gender                5000 non-null int64\n",
      "age                   5000 non-null int16\n",
      "income                5000 non-null float64\n",
      "family_members        5000 non-null int64\n",
      "insurance_benefits    5000 non-null int64\n",
      "dtypes: float64(1), int16(1), int64(3)\n",
      "memory usage: 166.1 KB\n"
     ]
    }
   ],
   "source": [
    "# check to see that the conversion was successful\n",
    "df.info()"
   ]
  },
  {
   "cell_type": "code",
   "execution_count": 9,
   "metadata": {},
   "outputs": [
    {
     "data": {
      "text/html": [
       "<div>\n",
       "<style scoped>\n",
       "    .dataframe tbody tr th:only-of-type {\n",
       "        vertical-align: middle;\n",
       "    }\n",
       "\n",
       "    .dataframe tbody tr th {\n",
       "        vertical-align: top;\n",
       "    }\n",
       "\n",
       "    .dataframe thead th {\n",
       "        text-align: right;\n",
       "    }\n",
       "</style>\n",
       "<table border=\"1\" class=\"dataframe\">\n",
       "  <thead>\n",
       "    <tr style=\"text-align: right;\">\n",
       "      <th></th>\n",
       "      <th>gender</th>\n",
       "      <th>age</th>\n",
       "      <th>income</th>\n",
       "      <th>family_members</th>\n",
       "      <th>insurance_benefits</th>\n",
       "    </tr>\n",
       "  </thead>\n",
       "  <tbody>\n",
       "    <tr>\n",
       "      <td>count</td>\n",
       "      <td>5000.000000</td>\n",
       "      <td>5000.000000</td>\n",
       "      <td>5000.000000</td>\n",
       "      <td>5000.000000</td>\n",
       "      <td>5000.000000</td>\n",
       "    </tr>\n",
       "    <tr>\n",
       "      <td>mean</td>\n",
       "      <td>0.499000</td>\n",
       "      <td>30.952800</td>\n",
       "      <td>39916.360000</td>\n",
       "      <td>1.194200</td>\n",
       "      <td>0.148000</td>\n",
       "    </tr>\n",
       "    <tr>\n",
       "      <td>std</td>\n",
       "      <td>0.500049</td>\n",
       "      <td>8.440807</td>\n",
       "      <td>9900.083569</td>\n",
       "      <td>1.091387</td>\n",
       "      <td>0.463183</td>\n",
       "    </tr>\n",
       "    <tr>\n",
       "      <td>min</td>\n",
       "      <td>0.000000</td>\n",
       "      <td>18.000000</td>\n",
       "      <td>5300.000000</td>\n",
       "      <td>0.000000</td>\n",
       "      <td>0.000000</td>\n",
       "    </tr>\n",
       "    <tr>\n",
       "      <td>25%</td>\n",
       "      <td>0.000000</td>\n",
       "      <td>24.000000</td>\n",
       "      <td>33300.000000</td>\n",
       "      <td>0.000000</td>\n",
       "      <td>0.000000</td>\n",
       "    </tr>\n",
       "    <tr>\n",
       "      <td>50%</td>\n",
       "      <td>0.000000</td>\n",
       "      <td>30.000000</td>\n",
       "      <td>40200.000000</td>\n",
       "      <td>1.000000</td>\n",
       "      <td>0.000000</td>\n",
       "    </tr>\n",
       "    <tr>\n",
       "      <td>75%</td>\n",
       "      <td>1.000000</td>\n",
       "      <td>37.000000</td>\n",
       "      <td>46600.000000</td>\n",
       "      <td>2.000000</td>\n",
       "      <td>0.000000</td>\n",
       "    </tr>\n",
       "    <tr>\n",
       "      <td>max</td>\n",
       "      <td>1.000000</td>\n",
       "      <td>65.000000</td>\n",
       "      <td>79000.000000</td>\n",
       "      <td>6.000000</td>\n",
       "      <td>5.000000</td>\n",
       "    </tr>\n",
       "  </tbody>\n",
       "</table>\n",
       "</div>"
      ],
      "text/plain": [
       "            gender          age        income  family_members  \\\n",
       "count  5000.000000  5000.000000   5000.000000     5000.000000   \n",
       "mean      0.499000    30.952800  39916.360000        1.194200   \n",
       "std       0.500049     8.440807   9900.083569        1.091387   \n",
       "min       0.000000    18.000000   5300.000000        0.000000   \n",
       "25%       0.000000    24.000000  33300.000000        0.000000   \n",
       "50%       0.000000    30.000000  40200.000000        1.000000   \n",
       "75%       1.000000    37.000000  46600.000000        2.000000   \n",
       "max       1.000000    65.000000  79000.000000        6.000000   \n",
       "\n",
       "       insurance_benefits  \n",
       "count         5000.000000  \n",
       "mean             0.148000  \n",
       "std              0.463183  \n",
       "min              0.000000  \n",
       "25%              0.000000  \n",
       "50%              0.000000  \n",
       "75%              0.000000  \n",
       "max              5.000000  "
      ]
     },
     "execution_count": 9,
     "metadata": {},
     "output_type": "execute_result"
    }
   ],
   "source": [
    "# now have a look at the data's descriptive statistics. \n",
    "# Does everything look okay?\n",
    "df.describe()"
   ]
  },
  {
   "cell_type": "markdown",
   "metadata": {},
   "source": [
    "We note no missing values, the balance of male to female is almost equal, mean and median age are 30 with a min of 18 and a max of 65. The income varies from 5K to almost 80K with close mean/median of about 40K. The mean/median number of family members is 1. All of this info appears reasonable.\n",
    "\n",
    "We note many insured don't have any family members. We will investigate this further to make sure there are no problems.\n",
    "\n",
    "We will also dive deeper into the insurance benefit info."
   ]
  },
  {
   "cell_type": "code",
   "execution_count": 10,
   "metadata": {},
   "outputs": [
    {
     "data": {
      "text/html": [
       "<div>\n",
       "<style scoped>\n",
       "    .dataframe tbody tr th:only-of-type {\n",
       "        vertical-align: middle;\n",
       "    }\n",
       "\n",
       "    .dataframe tbody tr th {\n",
       "        vertical-align: top;\n",
       "    }\n",
       "\n",
       "    .dataframe thead th {\n",
       "        text-align: right;\n",
       "    }\n",
       "</style>\n",
       "<table border=\"1\" class=\"dataframe\">\n",
       "  <thead>\n",
       "    <tr style=\"text-align: right;\">\n",
       "      <th></th>\n",
       "      <th>gender</th>\n",
       "      <th>age</th>\n",
       "      <th>income</th>\n",
       "      <th>family_members</th>\n",
       "      <th>insurance_benefits</th>\n",
       "    </tr>\n",
       "  </thead>\n",
       "  <tbody>\n",
       "    <tr>\n",
       "      <td>count</td>\n",
       "      <td>1513.000000</td>\n",
       "      <td>1513.000000</td>\n",
       "      <td>1513.000000</td>\n",
       "      <td>1513.0</td>\n",
       "      <td>1513.000000</td>\n",
       "    </tr>\n",
       "    <tr>\n",
       "      <td>mean</td>\n",
       "      <td>0.495043</td>\n",
       "      <td>30.977528</td>\n",
       "      <td>40273.562459</td>\n",
       "      <td>0.0</td>\n",
       "      <td>0.159947</td>\n",
       "    </tr>\n",
       "    <tr>\n",
       "      <td>std</td>\n",
       "      <td>0.500141</td>\n",
       "      <td>8.488680</td>\n",
       "      <td>9889.134867</td>\n",
       "      <td>0.0</td>\n",
       "      <td>0.490177</td>\n",
       "    </tr>\n",
       "    <tr>\n",
       "      <td>min</td>\n",
       "      <td>0.000000</td>\n",
       "      <td>18.000000</td>\n",
       "      <td>7400.000000</td>\n",
       "      <td>0.0</td>\n",
       "      <td>0.000000</td>\n",
       "    </tr>\n",
       "    <tr>\n",
       "      <td>25%</td>\n",
       "      <td>0.000000</td>\n",
       "      <td>24.000000</td>\n",
       "      <td>33700.000000</td>\n",
       "      <td>0.0</td>\n",
       "      <td>0.000000</td>\n",
       "    </tr>\n",
       "    <tr>\n",
       "      <td>50%</td>\n",
       "      <td>0.000000</td>\n",
       "      <td>30.000000</td>\n",
       "      <td>40700.000000</td>\n",
       "      <td>0.0</td>\n",
       "      <td>0.000000</td>\n",
       "    </tr>\n",
       "    <tr>\n",
       "      <td>75%</td>\n",
       "      <td>1.000000</td>\n",
       "      <td>37.000000</td>\n",
       "      <td>46700.000000</td>\n",
       "      <td>0.0</td>\n",
       "      <td>0.000000</td>\n",
       "    </tr>\n",
       "    <tr>\n",
       "      <td>max</td>\n",
       "      <td>1.000000</td>\n",
       "      <td>62.000000</td>\n",
       "      <td>75200.000000</td>\n",
       "      <td>0.0</td>\n",
       "      <td>4.000000</td>\n",
       "    </tr>\n",
       "  </tbody>\n",
       "</table>\n",
       "</div>"
      ],
      "text/plain": [
       "            gender          age        income  family_members  \\\n",
       "count  1513.000000  1513.000000   1513.000000          1513.0   \n",
       "mean      0.495043    30.977528  40273.562459             0.0   \n",
       "std       0.500141     8.488680   9889.134867             0.0   \n",
       "min       0.000000    18.000000   7400.000000             0.0   \n",
       "25%       0.000000    24.000000  33700.000000             0.0   \n",
       "50%       0.000000    30.000000  40700.000000             0.0   \n",
       "75%       1.000000    37.000000  46700.000000             0.0   \n",
       "max       1.000000    62.000000  75200.000000             0.0   \n",
       "\n",
       "       insurance_benefits  \n",
       "count         1513.000000  \n",
       "mean             0.159947  \n",
       "std              0.490177  \n",
       "min              0.000000  \n",
       "25%              0.000000  \n",
       "50%              0.000000  \n",
       "75%              0.000000  \n",
       "max              4.000000  "
      ]
     },
     "execution_count": 10,
     "metadata": {},
     "output_type": "execute_result"
    }
   ],
   "source": [
    "# investigate rows where family members == 0\n",
    "absent_family = df[df.family_members == 0]\n",
    "absent_family.describe()"
   ]
  },
  {
   "cell_type": "markdown",
   "metadata": {},
   "source": [
    "We find about 30% of our sample have not listed any additional family_members, but the metrics for this sample (gender, age, income, insurance benefits) are comparable with the larger sample, so we don't see any issues."
   ]
  },
  {
   "cell_type": "code",
   "execution_count": 11,
   "metadata": {
    "scrolled": true
   },
   "outputs": [
    {
     "name": "stdout",
     "output_type": "stream",
     "text": [
      "Percent of members who received benefits: 11.28%\n",
      "This is good information to keep in mind for our analysis since it indicates an imbalance.\n"
     ]
    }
   ],
   "source": [
    "# investigate percent of members who recieved benefits \n",
    "pct = (len(df[df.insurance_benefits != 0]))/len(df)\n",
    "print(\"Percent of members who received benefits: {:.2%}\".format(pct))\n",
    "print('This is good information to keep in mind for our analysis since it indicates an imbalance.')"
   ]
  },
  {
   "cell_type": "markdown",
   "metadata": {},
   "source": [
    "## EDA"
   ]
  },
  {
   "cell_type": "markdown",
   "metadata": {},
   "source": [
    "Let's quickly check whether there are certain groups of customers by looking at the pair plot."
   ]
  },
  {
   "cell_type": "code",
   "execution_count": 12,
   "metadata": {},
   "outputs": [
    {
     "data": {
      "image/png": "[encoded data removed]",
      "text/plain": [
       "<Figure size 864x864 with 30 Axes>"
      ]
     },
     "metadata": {
      "needs_background": "light"
     },
     "output_type": "display_data"
    }
   ],
   "source": [
    "g = sns.pairplot(df, kind='hist')\n",
    "g.fig.set_size_inches(12, 12)"
   ]
  },
  {
   "cell_type": "markdown",
   "metadata": {},
   "source": [
    "Ok, it is a bit difficult to spot obvious groups (clusters) as it is difficult to combine several variables simultaneously (to analyze multivariate distributions). That's where LA and ML can be quite handy."
   ]
  },
  {
   "cell_type": "markdown",
   "metadata": {},
   "source": [
    "# Task 1. Similar Customers"
   ]
  },
  {
   "cell_type": "markdown",
   "metadata": {},
   "source": [
    "In the language of ML, it is necessary to develop a procedure that returns k nearest neighbors (objects) for a given object based on the distance between the objects.\n",
    "\n",
    "You may want to review the following lessons (chapter -> lesson)\n",
    "- Distance Between Vectors -> Euclidean Distance\n",
    "- Distance Between Vectors -> Manhattan Distance\n",
    "\n",
    "To solve the task, we can try different distance metrics."
   ]
  },
  {
   "cell_type": "markdown",
   "metadata": {},
   "source": [
    "Write a function that returns k nearest neighbors for an $n^{th}$ object based on a specified distance metric. The number of received insurance benefits should not be taken into account for this task. \n",
    "\n",
    "You can use a ready implementation of the kNN algorithm from scikit-learn (check [the link](https://scikit-learn.org/stable/modules/generated/sklearn.neighbors.NearestNeighbors.html#sklearn.neighbors.NearestNeighbors)) or use your own.\n",
    "\n",
    "Test it for four combination of two cases\n",
    "- Scaling\n",
    "  - the data is not scaled\n",
    "  - the data is scaled with the [MaxAbsScaler](https://scikit-learn.org/stable/modules/generated/sklearn.preprocessing.MaxAbsScaler.html) scaler\n",
    "- Distance Metrics\n",
    "  - Euclidean\n",
    "  - Manhattan\n",
    "\n",
    "Answer these questions:\n",
    "- Does the data being not scaled affect the kNN algorithm? If so, how does that appear?\n",
    "- How similar are the results using the Manhattan distance metric (regardless of the scaling)?"
   ]
  },
  {
   "cell_type": "code",
   "execution_count": 13,
   "metadata": {},
   "outputs": [],
   "source": [
    "feature_names = ['gender', 'age', 'income', 'family_members']"
   ]
  },
  {
   "cell_type": "code",
   "execution_count": 14,
   "metadata": {},
   "outputs": [],
   "source": [
    "def get_knn(df, n, k, metric):\n",
    "    \n",
    "    \"\"\"\n",
    "    Returns k nearest neighbors\n",
    "\n",
    "    :param df: pandas DataFrame used to find similar objects within\n",
    "    :param n: object no for which the nearest neighbours are looked for\n",
    "    :param k: the number of the nearest neighbours to return\n",
    "    :param metric: name of distance metric\n",
    "    \"\"\"\n",
    "    \n",
    "    features = df[feature_names] # \n",
    "    target = df.drop(columns = ['insurance_benefits'], axis=1) #\n",
    "    nbrs = NearestNeighbors(n_neighbors=k, metric=metric).fit(features)\n",
    "    # class sklearn.neighbors.NearestNeighbors(*, n_neighbors=5, radius=1.0, algorithm='auto', \n",
    "    # leaf_size=30, metric='minkowski', p=2, metric_params=None, n_jobs=None) Defaults\n",
    "    # metric either “euclidean” or “manhattan”\n",
    "\n",
    "    nbrs_distances, nbrs_indices = nbrs.kneighbors([df.iloc[n][feature_names]], k, return_distance=True)\n",
    "    \n",
    "    df_res = pd.concat([\n",
    "        df.iloc[nbrs_indices[0]], \n",
    "        pd.DataFrame(nbrs_distances.T, index=nbrs_indices[0], columns=['distance'])\n",
    "        ], axis=1)\n",
    "    \n",
    "    return df_res"
   ]
  },
  {
   "cell_type": "markdown",
   "metadata": {},
   "source": [
    "Scaling the data."
   ]
  },
  {
   "cell_type": "code",
   "execution_count": 15,
   "metadata": {},
   "outputs": [
    {
     "data": {
      "text/html": [
       "<div>\n",
       "<style scoped>\n",
       "    .dataframe tbody tr th:only-of-type {\n",
       "        vertical-align: middle;\n",
       "    }\n",
       "\n",
       "    .dataframe tbody tr th {\n",
       "        vertical-align: top;\n",
       "    }\n",
       "\n",
       "    .dataframe thead th {\n",
       "        text-align: right;\n",
       "    }\n",
       "</style>\n",
       "<table border=\"1\" class=\"dataframe\">\n",
       "  <thead>\n",
       "    <tr style=\"text-align: right;\">\n",
       "      <th></th>\n",
       "      <th>gender</th>\n",
       "      <th>age</th>\n",
       "      <th>income</th>\n",
       "      <th>family_members</th>\n",
       "      <th>insurance_benefits</th>\n",
       "    </tr>\n",
       "  </thead>\n",
       "  <tbody>\n",
       "    <tr>\n",
       "      <td>2260</td>\n",
       "      <td>0</td>\n",
       "      <td>26</td>\n",
       "      <td>30600.0</td>\n",
       "      <td>2</td>\n",
       "      <td>0</td>\n",
       "    </tr>\n",
       "    <tr>\n",
       "      <td>4577</td>\n",
       "      <td>1</td>\n",
       "      <td>31</td>\n",
       "      <td>44600.0</td>\n",
       "      <td>2</td>\n",
       "      <td>0</td>\n",
       "    </tr>\n",
       "    <tr>\n",
       "      <td>3761</td>\n",
       "      <td>1</td>\n",
       "      <td>33</td>\n",
       "      <td>54000.0</td>\n",
       "      <td>3</td>\n",
       "      <td>0</td>\n",
       "    </tr>\n",
       "    <tr>\n",
       "      <td>3816</td>\n",
       "      <td>1</td>\n",
       "      <td>36</td>\n",
       "      <td>50700.0</td>\n",
       "      <td>1</td>\n",
       "      <td>0</td>\n",
       "    </tr>\n",
       "    <tr>\n",
       "      <td>813</td>\n",
       "      <td>1</td>\n",
       "      <td>18</td>\n",
       "      <td>35600.0</td>\n",
       "      <td>0</td>\n",
       "      <td>0</td>\n",
       "    </tr>\n",
       "  </tbody>\n",
       "</table>\n",
       "</div>"
      ],
      "text/plain": [
       "      gender  age   income  family_members  insurance_benefits\n",
       "2260       0   26  30600.0               2                   0\n",
       "4577       1   31  44600.0               2                   0\n",
       "3761       1   33  54000.0               3                   0\n",
       "3816       1   36  50700.0               1                   0\n",
       "813        1   18  35600.0               0                   0"
      ]
     },
     "execution_count": 15,
     "metadata": {},
     "output_type": "execute_result"
    }
   ],
   "source": [
    "df.sample(5)"
   ]
  },
  {
   "cell_type": "code",
   "execution_count": 16,
   "metadata": {},
   "outputs": [],
   "source": [
    "feature_names = ['gender', 'age', 'income', 'family_members']\n",
    "\n",
    "transformer_mas = sklearn.preprocessing.MaxAbsScaler().fit(df[feature_names].to_numpy())\n",
    "\n",
    "df_scaled = df.copy()\n",
    "df_scaled.loc[:, feature_names] = transformer_mas.transform(df[feature_names].to_numpy())"
   ]
  },
  {
   "cell_type": "code",
   "execution_count": 17,
   "metadata": {},
   "outputs": [
    {
     "data": {
      "text/html": [
       "<div>\n",
       "<style scoped>\n",
       "    .dataframe tbody tr th:only-of-type {\n",
       "        vertical-align: middle;\n",
       "    }\n",
       "\n",
       "    .dataframe tbody tr th {\n",
       "        vertical-align: top;\n",
       "    }\n",
       "\n",
       "    .dataframe thead th {\n",
       "        text-align: right;\n",
       "    }\n",
       "</style>\n",
       "<table border=\"1\" class=\"dataframe\">\n",
       "  <thead>\n",
       "    <tr style=\"text-align: right;\">\n",
       "      <th></th>\n",
       "      <th>gender</th>\n",
       "      <th>age</th>\n",
       "      <th>income</th>\n",
       "      <th>family_members</th>\n",
       "      <th>insurance_benefits</th>\n",
       "    </tr>\n",
       "  </thead>\n",
       "  <tbody>\n",
       "    <tr>\n",
       "      <td>1581</td>\n",
       "      <td>0.0</td>\n",
       "      <td>0.369231</td>\n",
       "      <td>0.726582</td>\n",
       "      <td>0.166667</td>\n",
       "      <td>0</td>\n",
       "    </tr>\n",
       "    <tr>\n",
       "      <td>3308</td>\n",
       "      <td>0.0</td>\n",
       "      <td>0.492308</td>\n",
       "      <td>0.589873</td>\n",
       "      <td>0.166667</td>\n",
       "      <td>0</td>\n",
       "    </tr>\n",
       "    <tr>\n",
       "      <td>3350</td>\n",
       "      <td>1.0</td>\n",
       "      <td>0.338462</td>\n",
       "      <td>0.491139</td>\n",
       "      <td>0.666667</td>\n",
       "      <td>0</td>\n",
       "    </tr>\n",
       "    <tr>\n",
       "      <td>3961</td>\n",
       "      <td>0.0</td>\n",
       "      <td>0.430769</td>\n",
       "      <td>0.525316</td>\n",
       "      <td>0.166667</td>\n",
       "      <td>0</td>\n",
       "    </tr>\n",
       "    <tr>\n",
       "      <td>1709</td>\n",
       "      <td>1.0</td>\n",
       "      <td>0.446154</td>\n",
       "      <td>0.708861</td>\n",
       "      <td>0.333333</td>\n",
       "      <td>0</td>\n",
       "    </tr>\n",
       "  </tbody>\n",
       "</table>\n",
       "</div>"
      ],
      "text/plain": [
       "      gender       age    income  family_members  insurance_benefits\n",
       "1581     0.0  0.369231  0.726582        0.166667                   0\n",
       "3308     0.0  0.492308  0.589873        0.166667                   0\n",
       "3350     1.0  0.338462  0.491139        0.666667                   0\n",
       "3961     0.0  0.430769  0.525316        0.166667                   0\n",
       "1709     1.0  0.446154  0.708861        0.333333                   0"
      ]
     },
     "execution_count": 17,
     "metadata": {},
     "output_type": "execute_result"
    }
   ],
   "source": [
    "df_scaled.sample(5)"
   ]
  },
  {
   "cell_type": "markdown",
   "metadata": {},
   "source": [
    "Now, let's get similar records for a given one for every combination."
   ]
  },
  {
   "cell_type": "code",
   "execution_count": 18,
   "metadata": {},
   "outputs": [
    {
     "data": {
      "text/plain": [
       "gender                1.0\n",
       "age                  35.0\n",
       "income            30700.0\n",
       "family_members        1.0\n",
       "Name: 1127, dtype: float64"
      ]
     },
     "execution_count": 18,
     "metadata": {},
     "output_type": "execute_result"
    }
   ],
   "source": [
    "# select a record number to use with the nearest neighbor call\n",
    "# (we selected record # 1127 randomly) \n",
    "df.iloc[1127][feature_names]"
   ]
  },
  {
   "cell_type": "code",
   "execution_count": 19,
   "metadata": {},
   "outputs": [
    {
     "data": {
      "text/html": [
       "<div>\n",
       "<style scoped>\n",
       "    .dataframe tbody tr th:only-of-type {\n",
       "        vertical-align: middle;\n",
       "    }\n",
       "\n",
       "    .dataframe tbody tr th {\n",
       "        vertical-align: top;\n",
       "    }\n",
       "\n",
       "    .dataframe thead th {\n",
       "        text-align: right;\n",
       "    }\n",
       "</style>\n",
       "<table border=\"1\" class=\"dataframe\">\n",
       "  <thead>\n",
       "    <tr style=\"text-align: right;\">\n",
       "      <th></th>\n",
       "      <th>gender</th>\n",
       "      <th>age</th>\n",
       "      <th>income</th>\n",
       "      <th>family_members</th>\n",
       "      <th>insurance_benefits</th>\n",
       "      <th>distance</th>\n",
       "    </tr>\n",
       "  </thead>\n",
       "  <tbody>\n",
       "    <tr>\n",
       "      <td>1127</td>\n",
       "      <td>1</td>\n",
       "      <td>35</td>\n",
       "      <td>30700.0</td>\n",
       "      <td>1</td>\n",
       "      <td>0</td>\n",
       "      <td>0.0</td>\n",
       "    </tr>\n",
       "    <tr>\n",
       "      <td>126</td>\n",
       "      <td>0</td>\n",
       "      <td>35</td>\n",
       "      <td>30700.0</td>\n",
       "      <td>1</td>\n",
       "      <td>0</td>\n",
       "      <td>1.0</td>\n",
       "    </tr>\n",
       "    <tr>\n",
       "      <td>696</td>\n",
       "      <td>1</td>\n",
       "      <td>34</td>\n",
       "      <td>30700.0</td>\n",
       "      <td>0</td>\n",
       "      <td>0</td>\n",
       "      <td>2.0</td>\n",
       "    </tr>\n",
       "    <tr>\n",
       "      <td>230</td>\n",
       "      <td>0</td>\n",
       "      <td>35</td>\n",
       "      <td>30700.0</td>\n",
       "      <td>0</td>\n",
       "      <td>0</td>\n",
       "      <td>2.0</td>\n",
       "    </tr>\n",
       "    <tr>\n",
       "      <td>1792</td>\n",
       "      <td>1</td>\n",
       "      <td>33</td>\n",
       "      <td>30700.0</td>\n",
       "      <td>1</td>\n",
       "      <td>0</td>\n",
       "      <td>2.0</td>\n",
       "    </tr>\n",
       "    <tr>\n",
       "      <td>3818</td>\n",
       "      <td>1</td>\n",
       "      <td>37</td>\n",
       "      <td>30700.0</td>\n",
       "      <td>1</td>\n",
       "      <td>0</td>\n",
       "      <td>2.0</td>\n",
       "    </tr>\n",
       "    <tr>\n",
       "      <td>3450</td>\n",
       "      <td>0</td>\n",
       "      <td>37</td>\n",
       "      <td>30700.0</td>\n",
       "      <td>3</td>\n",
       "      <td>0</td>\n",
       "      <td>5.0</td>\n",
       "    </tr>\n",
       "    <tr>\n",
       "      <td>672</td>\n",
       "      <td>1</td>\n",
       "      <td>30</td>\n",
       "      <td>30700.0</td>\n",
       "      <td>1</td>\n",
       "      <td>0</td>\n",
       "      <td>5.0</td>\n",
       "    </tr>\n",
       "    <tr>\n",
       "      <td>576</td>\n",
       "      <td>1</td>\n",
       "      <td>40</td>\n",
       "      <td>30700.0</td>\n",
       "      <td>3</td>\n",
       "      <td>0</td>\n",
       "      <td>7.0</td>\n",
       "    </tr>\n",
       "    <tr>\n",
       "      <td>2569</td>\n",
       "      <td>0</td>\n",
       "      <td>30</td>\n",
       "      <td>30700.0</td>\n",
       "      <td>4</td>\n",
       "      <td>0</td>\n",
       "      <td>9.0</td>\n",
       "    </tr>\n",
       "  </tbody>\n",
       "</table>\n",
       "</div>"
      ],
      "text/plain": [
       "      gender  age   income  family_members  insurance_benefits  distance\n",
       "1127       1   35  30700.0               1                   0       0.0\n",
       "126        0   35  30700.0               1                   0       1.0\n",
       "696        1   34  30700.0               0                   0       2.0\n",
       "230        0   35  30700.0               0                   0       2.0\n",
       "1792       1   33  30700.0               1                   0       2.0\n",
       "3818       1   37  30700.0               1                   0       2.0\n",
       "3450       0   37  30700.0               3                   0       5.0\n",
       "672        1   30  30700.0               1                   0       5.0\n",
       "576        1   40  30700.0               3                   0       7.0\n",
       "2569       0   30  30700.0               4                   0       9.0"
      ]
     },
     "execution_count": 19,
     "metadata": {},
     "output_type": "execute_result"
    }
   ],
   "source": [
    "# combination of data not scaled, Manhattan distance metric\n",
    "get_knn(df,1127,10,'manhattan')"
   ]
  },
  {
   "cell_type": "code",
   "execution_count": 20,
   "metadata": {},
   "outputs": [
    {
     "data": {
      "text/html": [
       "<div>\n",
       "<style scoped>\n",
       "    .dataframe tbody tr th:only-of-type {\n",
       "        vertical-align: middle;\n",
       "    }\n",
       "\n",
       "    .dataframe tbody tr th {\n",
       "        vertical-align: top;\n",
       "    }\n",
       "\n",
       "    .dataframe thead th {\n",
       "        text-align: right;\n",
       "    }\n",
       "</style>\n",
       "<table border=\"1\" class=\"dataframe\">\n",
       "  <thead>\n",
       "    <tr style=\"text-align: right;\">\n",
       "      <th></th>\n",
       "      <th>gender</th>\n",
       "      <th>age</th>\n",
       "      <th>income</th>\n",
       "      <th>family_members</th>\n",
       "      <th>insurance_benefits</th>\n",
       "      <th>distance</th>\n",
       "    </tr>\n",
       "  </thead>\n",
       "  <tbody>\n",
       "    <tr>\n",
       "      <td>1127</td>\n",
       "      <td>1</td>\n",
       "      <td>35</td>\n",
       "      <td>30700.0</td>\n",
       "      <td>1</td>\n",
       "      <td>0</td>\n",
       "      <td>0.000000</td>\n",
       "    </tr>\n",
       "    <tr>\n",
       "      <td>126</td>\n",
       "      <td>0</td>\n",
       "      <td>35</td>\n",
       "      <td>30700.0</td>\n",
       "      <td>1</td>\n",
       "      <td>0</td>\n",
       "      <td>1.000000</td>\n",
       "    </tr>\n",
       "    <tr>\n",
       "      <td>696</td>\n",
       "      <td>1</td>\n",
       "      <td>34</td>\n",
       "      <td>30700.0</td>\n",
       "      <td>0</td>\n",
       "      <td>0</td>\n",
       "      <td>1.414214</td>\n",
       "    </tr>\n",
       "    <tr>\n",
       "      <td>230</td>\n",
       "      <td>0</td>\n",
       "      <td>35</td>\n",
       "      <td>30700.0</td>\n",
       "      <td>0</td>\n",
       "      <td>0</td>\n",
       "      <td>1.414214</td>\n",
       "    </tr>\n",
       "    <tr>\n",
       "      <td>3818</td>\n",
       "      <td>1</td>\n",
       "      <td>37</td>\n",
       "      <td>30700.0</td>\n",
       "      <td>1</td>\n",
       "      <td>0</td>\n",
       "      <td>2.000000</td>\n",
       "    </tr>\n",
       "    <tr>\n",
       "      <td>1792</td>\n",
       "      <td>1</td>\n",
       "      <td>33</td>\n",
       "      <td>30700.0</td>\n",
       "      <td>1</td>\n",
       "      <td>0</td>\n",
       "      <td>2.000000</td>\n",
       "    </tr>\n",
       "    <tr>\n",
       "      <td>3450</td>\n",
       "      <td>0</td>\n",
       "      <td>37</td>\n",
       "      <td>30700.0</td>\n",
       "      <td>3</td>\n",
       "      <td>0</td>\n",
       "      <td>3.000000</td>\n",
       "    </tr>\n",
       "    <tr>\n",
       "      <td>672</td>\n",
       "      <td>1</td>\n",
       "      <td>30</td>\n",
       "      <td>30700.0</td>\n",
       "      <td>1</td>\n",
       "      <td>0</td>\n",
       "      <td>5.000000</td>\n",
       "    </tr>\n",
       "    <tr>\n",
       "      <td>576</td>\n",
       "      <td>1</td>\n",
       "      <td>40</td>\n",
       "      <td>30700.0</td>\n",
       "      <td>3</td>\n",
       "      <td>0</td>\n",
       "      <td>5.385165</td>\n",
       "    </tr>\n",
       "    <tr>\n",
       "      <td>2569</td>\n",
       "      <td>0</td>\n",
       "      <td>30</td>\n",
       "      <td>30700.0</td>\n",
       "      <td>4</td>\n",
       "      <td>0</td>\n",
       "      <td>5.916080</td>\n",
       "    </tr>\n",
       "  </tbody>\n",
       "</table>\n",
       "</div>"
      ],
      "text/plain": [
       "      gender  age   income  family_members  insurance_benefits  distance\n",
       "1127       1   35  30700.0               1                   0  0.000000\n",
       "126        0   35  30700.0               1                   0  1.000000\n",
       "696        1   34  30700.0               0                   0  1.414214\n",
       "230        0   35  30700.0               0                   0  1.414214\n",
       "3818       1   37  30700.0               1                   0  2.000000\n",
       "1792       1   33  30700.0               1                   0  2.000000\n",
       "3450       0   37  30700.0               3                   0  3.000000\n",
       "672        1   30  30700.0               1                   0  5.000000\n",
       "576        1   40  30700.0               3                   0  5.385165\n",
       "2569       0   30  30700.0               4                   0  5.916080"
      ]
     },
     "execution_count": 20,
     "metadata": {},
     "output_type": "execute_result"
    }
   ],
   "source": [
    "# combination of data not scaled, Euclidean distance metric\n",
    "get_knn(df,1127,10,'euclidean')"
   ]
  },
  {
   "cell_type": "code",
   "execution_count": 21,
   "metadata": {},
   "outputs": [
    {
     "data": {
      "text/html": [
       "<div>\n",
       "<style scoped>\n",
       "    .dataframe tbody tr th:only-of-type {\n",
       "        vertical-align: middle;\n",
       "    }\n",
       "\n",
       "    .dataframe tbody tr th {\n",
       "        vertical-align: top;\n",
       "    }\n",
       "\n",
       "    .dataframe thead th {\n",
       "        text-align: right;\n",
       "    }\n",
       "</style>\n",
       "<table border=\"1\" class=\"dataframe\">\n",
       "  <thead>\n",
       "    <tr style=\"text-align: right;\">\n",
       "      <th></th>\n",
       "      <th>gender</th>\n",
       "      <th>age</th>\n",
       "      <th>income</th>\n",
       "      <th>family_members</th>\n",
       "      <th>insurance_benefits</th>\n",
       "      <th>distance</th>\n",
       "    </tr>\n",
       "  </thead>\n",
       "  <tbody>\n",
       "    <tr>\n",
       "      <td>1127</td>\n",
       "      <td>1.0</td>\n",
       "      <td>0.538462</td>\n",
       "      <td>0.388608</td>\n",
       "      <td>0.166667</td>\n",
       "      <td>0</td>\n",
       "      <td>0.000000</td>\n",
       "    </tr>\n",
       "    <tr>\n",
       "      <td>1934</td>\n",
       "      <td>1.0</td>\n",
       "      <td>0.553846</td>\n",
       "      <td>0.382278</td>\n",
       "      <td>0.166667</td>\n",
       "      <td>0</td>\n",
       "      <td>0.016636</td>\n",
       "    </tr>\n",
       "    <tr>\n",
       "      <td>2743</td>\n",
       "      <td>1.0</td>\n",
       "      <td>0.523077</td>\n",
       "      <td>0.397468</td>\n",
       "      <td>0.166667</td>\n",
       "      <td>0</td>\n",
       "      <td>0.017754</td>\n",
       "    </tr>\n",
       "    <tr>\n",
       "      <td>2008</td>\n",
       "      <td>1.0</td>\n",
       "      <td>0.538462</td>\n",
       "      <td>0.412658</td>\n",
       "      <td>0.166667</td>\n",
       "      <td>0</td>\n",
       "      <td>0.024051</td>\n",
       "    </tr>\n",
       "    <tr>\n",
       "      <td>1630</td>\n",
       "      <td>1.0</td>\n",
       "      <td>0.523077</td>\n",
       "      <td>0.410127</td>\n",
       "      <td>0.166667</td>\n",
       "      <td>0</td>\n",
       "      <td>0.026453</td>\n",
       "    </tr>\n",
       "    <tr>\n",
       "      <td>1275</td>\n",
       "      <td>1.0</td>\n",
       "      <td>0.523077</td>\n",
       "      <td>0.367089</td>\n",
       "      <td>0.166667</td>\n",
       "      <td>0</td>\n",
       "      <td>0.026453</td>\n",
       "    </tr>\n",
       "    <tr>\n",
       "      <td>4828</td>\n",
       "      <td>1.0</td>\n",
       "      <td>0.523077</td>\n",
       "      <td>0.365823</td>\n",
       "      <td>0.166667</td>\n",
       "      <td>0</td>\n",
       "      <td>0.027492</td>\n",
       "    </tr>\n",
       "    <tr>\n",
       "      <td>4220</td>\n",
       "      <td>1.0</td>\n",
       "      <td>0.553846</td>\n",
       "      <td>0.364557</td>\n",
       "      <td>0.166667</td>\n",
       "      <td>0</td>\n",
       "      <td>0.028550</td>\n",
       "    </tr>\n",
       "    <tr>\n",
       "      <td>2385</td>\n",
       "      <td>1.0</td>\n",
       "      <td>0.553846</td>\n",
       "      <td>0.413924</td>\n",
       "      <td>0.166667</td>\n",
       "      <td>0</td>\n",
       "      <td>0.029624</td>\n",
       "    </tr>\n",
       "    <tr>\n",
       "      <td>1792</td>\n",
       "      <td>1.0</td>\n",
       "      <td>0.507692</td>\n",
       "      <td>0.388608</td>\n",
       "      <td>0.166667</td>\n",
       "      <td>0</td>\n",
       "      <td>0.030769</td>\n",
       "    </tr>\n",
       "  </tbody>\n",
       "</table>\n",
       "</div>"
      ],
      "text/plain": [
       "      gender       age    income  family_members  insurance_benefits  distance\n",
       "1127     1.0  0.538462  0.388608        0.166667                   0  0.000000\n",
       "1934     1.0  0.553846  0.382278        0.166667                   0  0.016636\n",
       "2743     1.0  0.523077  0.397468        0.166667                   0  0.017754\n",
       "2008     1.0  0.538462  0.412658        0.166667                   0  0.024051\n",
       "1630     1.0  0.523077  0.410127        0.166667                   0  0.026453\n",
       "1275     1.0  0.523077  0.367089        0.166667                   0  0.026453\n",
       "4828     1.0  0.523077  0.365823        0.166667                   0  0.027492\n",
       "4220     1.0  0.553846  0.364557        0.166667                   0  0.028550\n",
       "2385     1.0  0.553846  0.413924        0.166667                   0  0.029624\n",
       "1792     1.0  0.507692  0.388608        0.166667                   0  0.030769"
      ]
     },
     "execution_count": 21,
     "metadata": {},
     "output_type": "execute_result"
    }
   ],
   "source": [
    "# combination of data scaled, Euclidean distance metric\n",
    "get_knn(df_scaled,1127,10,'euclidean')"
   ]
  },
  {
   "cell_type": "code",
   "execution_count": 22,
   "metadata": {},
   "outputs": [
    {
     "data": {
      "text/html": [
       "<div>\n",
       "<style scoped>\n",
       "    .dataframe tbody tr th:only-of-type {\n",
       "        vertical-align: middle;\n",
       "    }\n",
       "\n",
       "    .dataframe tbody tr th {\n",
       "        vertical-align: top;\n",
       "    }\n",
       "\n",
       "    .dataframe thead th {\n",
       "        text-align: right;\n",
       "    }\n",
       "</style>\n",
       "<table border=\"1\" class=\"dataframe\">\n",
       "  <thead>\n",
       "    <tr style=\"text-align: right;\">\n",
       "      <th></th>\n",
       "      <th>gender</th>\n",
       "      <th>age</th>\n",
       "      <th>income</th>\n",
       "      <th>family_members</th>\n",
       "      <th>insurance_benefits</th>\n",
       "      <th>distance</th>\n",
       "    </tr>\n",
       "  </thead>\n",
       "  <tbody>\n",
       "    <tr>\n",
       "      <td>1127</td>\n",
       "      <td>1.0</td>\n",
       "      <td>0.538462</td>\n",
       "      <td>0.388608</td>\n",
       "      <td>0.166667</td>\n",
       "      <td>0</td>\n",
       "      <td>0.000000</td>\n",
       "    </tr>\n",
       "    <tr>\n",
       "      <td>1934</td>\n",
       "      <td>1.0</td>\n",
       "      <td>0.553846</td>\n",
       "      <td>0.382278</td>\n",
       "      <td>0.166667</td>\n",
       "      <td>0</td>\n",
       "      <td>0.021714</td>\n",
       "    </tr>\n",
       "    <tr>\n",
       "      <td>2008</td>\n",
       "      <td>1.0</td>\n",
       "      <td>0.538462</td>\n",
       "      <td>0.412658</td>\n",
       "      <td>0.166667</td>\n",
       "      <td>0</td>\n",
       "      <td>0.024051</td>\n",
       "    </tr>\n",
       "    <tr>\n",
       "      <td>2743</td>\n",
       "      <td>1.0</td>\n",
       "      <td>0.523077</td>\n",
       "      <td>0.397468</td>\n",
       "      <td>0.166667</td>\n",
       "      <td>0</td>\n",
       "      <td>0.024245</td>\n",
       "    </tr>\n",
       "    <tr>\n",
       "      <td>1792</td>\n",
       "      <td>1.0</td>\n",
       "      <td>0.507692</td>\n",
       "      <td>0.388608</td>\n",
       "      <td>0.166667</td>\n",
       "      <td>0</td>\n",
       "      <td>0.030769</td>\n",
       "    </tr>\n",
       "    <tr>\n",
       "      <td>3818</td>\n",
       "      <td>1.0</td>\n",
       "      <td>0.569231</td>\n",
       "      <td>0.388608</td>\n",
       "      <td>0.166667</td>\n",
       "      <td>0</td>\n",
       "      <td>0.030769</td>\n",
       "    </tr>\n",
       "    <tr>\n",
       "      <td>1738</td>\n",
       "      <td>1.0</td>\n",
       "      <td>0.538462</td>\n",
       "      <td>0.355696</td>\n",
       "      <td>0.166667</td>\n",
       "      <td>0</td>\n",
       "      <td>0.032911</td>\n",
       "    </tr>\n",
       "    <tr>\n",
       "      <td>3334</td>\n",
       "      <td>1.0</td>\n",
       "      <td>0.569231</td>\n",
       "      <td>0.393671</td>\n",
       "      <td>0.166667</td>\n",
       "      <td>0</td>\n",
       "      <td>0.035833</td>\n",
       "    </tr>\n",
       "    <tr>\n",
       "      <td>1630</td>\n",
       "      <td>1.0</td>\n",
       "      <td>0.523077</td>\n",
       "      <td>0.410127</td>\n",
       "      <td>0.166667</td>\n",
       "      <td>0</td>\n",
       "      <td>0.036904</td>\n",
       "    </tr>\n",
       "    <tr>\n",
       "      <td>1275</td>\n",
       "      <td>1.0</td>\n",
       "      <td>0.523077</td>\n",
       "      <td>0.367089</td>\n",
       "      <td>0.166667</td>\n",
       "      <td>0</td>\n",
       "      <td>0.036904</td>\n",
       "    </tr>\n",
       "  </tbody>\n",
       "</table>\n",
       "</div>"
      ],
      "text/plain": [
       "      gender       age    income  family_members  insurance_benefits  distance\n",
       "1127     1.0  0.538462  0.388608        0.166667                   0  0.000000\n",
       "1934     1.0  0.553846  0.382278        0.166667                   0  0.021714\n",
       "2008     1.0  0.538462  0.412658        0.166667                   0  0.024051\n",
       "2743     1.0  0.523077  0.397468        0.166667                   0  0.024245\n",
       "1792     1.0  0.507692  0.388608        0.166667                   0  0.030769\n",
       "3818     1.0  0.569231  0.388608        0.166667                   0  0.030769\n",
       "1738     1.0  0.538462  0.355696        0.166667                   0  0.032911\n",
       "3334     1.0  0.569231  0.393671        0.166667                   0  0.035833\n",
       "1630     1.0  0.523077  0.410127        0.166667                   0  0.036904\n",
       "1275     1.0  0.523077  0.367089        0.166667                   0  0.036904"
      ]
     },
     "execution_count": 22,
     "metadata": {},
     "output_type": "execute_result"
    }
   ],
   "source": [
    "# combination of data scaled, Manhattan distance metric\n",
    "get_knn(df_scaled,1127,10,'manhattan')"
   ]
  },
  {
   "cell_type": "markdown",
   "metadata": {},
   "source": [
    "Answers to the questions"
   ]
  },
  {
   "cell_type": "markdown",
   "metadata": {},
   "source": [
    "**Does the data being not scaled affect the kNN algorithm? If so, how does that appear?** \n",
    "\n",
    "As expected, when the data is not scaled the features with the greater number (in this case income) are weighted more than features with a small range (binary features such as gender and family_members). \n",
    "\n",
    "Running the algorithm on an unscaled df results in top matches having the exact same income, but gender and family_members vary. This is inaccurate. Our results should not focus on income as the primary feature to discern similarity."
   ]
  },
  {
   "cell_type": "markdown",
   "metadata": {},
   "source": [
    "**How similar are the results using the Manhattan distance metric (regardless of the scaling)?** \n",
    "\n",
    "There is notable similarity between both methods when we compare runs of scaled data and also when we compare runs of unscaled data. This is expected. The top ten of the unscaled groups, where income is weighted so heavily, match almost perfectly (there is a minor swap of one place). The scaled runs are also very similar, but we observe only 7 of the top ten match (again, there are some swaps in order). This also makes sense because the scaled data allows for a better alogorithmic analysis."
   ]
  },
  {
   "cell_type": "markdown",
   "metadata": {},
   "source": [
    "# Task 2. Is Customer Likely to Receive Insurance Benefit?"
   ]
  },
  {
   "cell_type": "markdown",
   "metadata": {},
   "source": [
    "In terms of machine learning we can look at this like a binary classification task."
   ]
  },
  {
   "cell_type": "markdown",
   "metadata": {},
   "source": [
    "With `insurance_benefits` being more than zero as the target, evaluate whether the kNN classification approach can do better than a dummy model.\n",
    "\n",
    "Instructions:\n",
    "- Build a KNN-based classifier and measure its quality with the F1 metric for k=1..10 for both the original data and the scaled one. That'd be interesting to see how k may influece the evaluation metric, and whether scaling the data makes any difference. You can use a ready implemention of the kNN classification algorithm from scikit-learn (check [the link](https://scikit-learn.org/stable/modules/generated/sklearn.neighbors.KNeighborsClassifier.html)) or use your own.\n",
    "- Build the dummy model which is just random for this case. It should return \"1\" with some probability. Let's test the model with four probability values: 0, the probability of paying any insurance benefit, 0.5, 1.\n",
    "\n",
    "The probability of paying any insurance benefit can be defined as\n",
    "\n",
    "$$\n",
    "P\\{\\text{insurance benefit received}\\}=\\frac{\\text{number of clients received any insurance benefit}}{\\text{total number of clients}}.\n",
    "$$\n",
    "\n",
    "Split the whole data in the 70:30 proportion for the training/testing parts."
   ]
  },
  {
   "cell_type": "code",
   "execution_count": 23,
   "metadata": {},
   "outputs": [
    {
     "name": "stdout",
     "output_type": "stream",
     "text": [
      "Training: (3500, 4) (3500,)\n",
      "Testing: (1500, 4) (1500,)\n"
     ]
    }
   ],
   "source": [
    "# calculate the targets scaled and unscaled\n",
    "df['insurance_benefits_received'] = df['insurance_benefits'] >= 1\n",
    "df.loc[df['insurance_benefits_received'] == True, 'insurance_benefits_received'] = 1\n",
    "df.loc[df['insurance_benefits_received'] == False, 'insurance_benefits_received'] = 0\n",
    "df_scaled['insurance_benefits_received'] = df_scaled['insurance_benefits'] >= 1\n",
    "df_scaled.loc[df['insurance_benefits_received'] == True, 'insurance_benefits_received'] = 1\n",
    "df_scaled.loc[df['insurance_benefits_received'] == False, 'insurance_benefits_received'] = 0\n",
    "features = df.drop(['insurance_benefits_received', 'insurance_benefits'], axis=1)\n",
    "target = df['insurance_benefits_received']\n",
    "features_train, features_test, target_train, target_test = train_test_split(features, target, test_size = 0.3, random_state=0)\n",
    "print('Training:', features_train.shape, target_train.shape)\n",
    "print('Testing:', features_test.shape, target_test.shape)"
   ]
  },
  {
   "cell_type": "code",
   "execution_count": 24,
   "metadata": {},
   "outputs": [
    {
     "name": "stdout",
     "output_type": "stream",
     "text": [
      "0    4436\n",
      "1     564\n",
      "Name: insurance_benefits_received, dtype: int64\n",
      "0    4436\n",
      "1     564\n",
      "Name: insurance_benefits_received, dtype: int64\n"
     ]
    }
   ],
   "source": [
    "# check for the class imbalance with value_counts()\n",
    "print(df['insurance_benefits_received'].value_counts())\n",
    "print(df_scaled['insurance_benefits_received'].value_counts())"
   ]
  },
  {
   "cell_type": "markdown",
   "metadata": {},
   "source": [
    "We observe an imbalance data in the insurance_benefits_received so we can not use accuracy to evaluate model. Using accuracy will result in skewed result. We can use f1 score, which combines precision and recall. We can also use the confusion matrix."
   ]
  },
  {
   "cell_type": "code",
   "execution_count": 25,
   "metadata": {},
   "outputs": [],
   "source": [
    "# scale data\n",
    "scaler = sklearn.preprocessing.MaxAbsScaler()\n",
    "scaler.fit(features_train) # fit to training data\n",
    "features_train_scaled = scaler.transform(features_train)\n",
    "features_test_scaled = scaler.transform(features_test)"
   ]
  },
  {
   "cell_type": "code",
   "execution_count": 26,
   "metadata": {},
   "outputs": [],
   "source": [
    "def eval_classifier(y_true, y_pred):\n",
    "    \n",
    "    f1_score = sklearn.metrics.f1_score(y_true, y_pred)\n",
    "    print(f'F1: {f1_score:.2f}')\n",
    "    \n",
    "# if you have an issue with the following line, restart the kernel and run the notebook again\n",
    "    cmpct = sklearn.metrics.confusion_matrix(y_true, y_pred, normalize='all') # if want %\n",
    "    cm = sklearn.metrics.confusion_matrix(y_true, y_pred)\n",
    "    print('Confusion Matrix')\n",
    "    print(cm)\n",
    "    print(cmpct)\n",
    "    # added plot for conf_matrix\n",
    "    plt.figure(figsize=(9,9))\n",
    "    sns.heatmap(cmpct, annot=True, fmt=\".3f\", linewidths=0.5, square = True, cmap = 'Blues_r');\n",
    "    plt.ylabel('Actual label');\n",
    "    plt.xlabel('Predicted label');\n",
    "    all_sample_title = 'Confusion Matrix' \n",
    "    plt.title(all_sample_title, size = 15);\n",
    "    plt.show()"
   ]
  },
  {
   "cell_type": "code",
   "execution_count": 27,
   "metadata": {},
   "outputs": [
    {
     "data": {
      "text/plain": [
       "KNeighborsClassifier(n_neighbors=3)"
      ]
     },
     "execution_count": 27,
     "metadata": {},
     "output_type": "execute_result"
    }
   ],
   "source": [
    "# set up the knn algorithm\n",
    "knn = KNeighborsClassifier(n_neighbors = 3)\n",
    "knn.fit(features_train, target_train)"
   ]
  },
  {
   "cell_type": "code",
   "execution_count": 28,
   "metadata": {
    "scrolled": true
   },
   "outputs": [
    {
     "name": "stdout",
     "output_type": "stream",
     "text": [
      "F1: 0.44\n",
      "Confusion Matrix\n",
      "[[1324   22]\n",
      " [ 105   49]]\n",
      "[[0.88266667 0.01466667]\n",
      " [0.07       0.03266667]]\n"
     ]
    },
    {
     "data": {
      "image/png": "[encoded data removed]",
      "text/plain": [
       "<Figure size 648x648 with 2 Axes>"
      ]
     },
     "metadata": {
      "needs_background": "light"
     },
     "output_type": "display_data"
    }
   ],
   "source": [
    "# evaluate dummy model\n",
    "eval_classifier(target_test, knn.predict(features_test))"
   ]
  },
  {
   "cell_type": "markdown",
   "metadata": {},
   "source": [
    "We note poor performance of our model using kNN = 3. The F1 score is only 0.44. The true positives prediction is fair at close to 0.9, but the true negative score is quite low."
   ]
  },
  {
   "cell_type": "code",
   "execution_count": 29,
   "metadata": {},
   "outputs": [],
   "source": [
    "# generating output of a random model\n",
    "\n",
    "def rnd_model_predict(P, size, seed=42):\n",
    "\n",
    "    rng = np.random.default_rng(seed=seed)\n",
    "    # sample one value from binomial distribution\n",
    "    return rng.binomial(n=1, p=P, size=size)"
   ]
  },
  {
   "cell_type": "code",
   "execution_count": 30,
   "metadata": {
    "scrolled": false
   },
   "outputs": [
    {
     "name": "stdout",
     "output_type": "stream",
     "text": [
      "The probability: 0.00\n",
      "F1: 0.00\n",
      "Confusion Matrix\n",
      "[[4436    0]\n",
      " [ 564    0]]\n",
      "[[0.8872 0.    ]\n",
      " [0.1128 0.    ]]\n"
     ]
    },
    {
     "data": {
      "image/png": "[encoded data removed]",
      "text/plain": [
       "<Figure size 648x648 with 2 Axes>"
      ]
     },
     "metadata": {
      "needs_background": "light"
     },
     "output_type": "display_data"
    },
    {
     "name": "stdout",
     "output_type": "stream",
     "text": [
      "\n",
      "The probability: 0.11\n",
      "F1: 0.12\n",
      "Confusion Matrix\n",
      "[[3957  479]\n",
      " [ 497   67]]\n",
      "[[0.7914 0.0958]\n",
      " [0.0994 0.0134]]\n"
     ]
    },
    {
     "data": {
      "image/png": "[encoded data removed]",
      "text/plain": [
       "<Figure size 648x648 with 2 Axes>"
      ]
     },
     "metadata": {
      "needs_background": "light"
     },
     "output_type": "display_data"
    },
    {
     "name": "stdout",
     "output_type": "stream",
     "text": [
      "\n",
      "The probability: 0.50\n",
      "F1: 0.20\n",
      "Confusion Matrix\n",
      "[[2280 2156]\n",
      " [ 265  299]]\n",
      "[[0.456  0.4312]\n",
      " [0.053  0.0598]]\n"
     ]
    },
    {
     "data": {
      "image/png": "[encoded data removed]",
      "text/plain": [
       "<Figure size 648x648 with 2 Axes>"
      ]
     },
     "metadata": {
      "needs_background": "light"
     },
     "output_type": "display_data"
    },
    {
     "name": "stdout",
     "output_type": "stream",
     "text": [
      "\n",
      "The probability: 1.00\n",
      "F1: 0.20\n",
      "Confusion Matrix\n",
      "[[   0 4436]\n",
      " [   0  564]]\n",
      "[[0.     0.8872]\n",
      " [0.     0.1128]]\n"
     ]
    },
    {
     "data": {
      "image/png": "[encoded data removed]",
      "text/plain": [
       "<Figure size 648x648 with 2 Axes>"
      ]
     },
     "metadata": {
      "needs_background": "light"
     },
     "output_type": "display_data"
    },
    {
     "name": "stdout",
     "output_type": "stream",
     "text": [
      "\n"
     ]
    }
   ],
   "source": [
    "# df['insurance_benefits_received'].sum() / len(df) is the prob of paying any insurance benefit\n",
    "for P in [0, df['insurance_benefits_received'].sum() / len(df), 0.5, 1]:\n",
    "    \n",
    "    print(f'The probability: {P:.2f}')\n",
    "    # used df['insurance_benefits_received'] to reflect eval_classifier \n",
    "    y_pred_rnd = rnd_model_predict(P, df['insurance_benefits_received'].shape[0])\n",
    "        \n",
    "    eval_classifier(df['insurance_benefits_received'], y_pred_rnd)\n",
    "    \n",
    "    print()"
   ]
  },
  {
   "cell_type": "markdown",
   "metadata": {},
   "source": [
    "As expected, the F1 scores are pretty low (the highest is 0.20) for these dummy models."
   ]
  },
  {
   "cell_type": "code",
   "execution_count": 31,
   "metadata": {},
   "outputs": [
    {
     "name": "stdout",
     "output_type": "stream",
     "text": [
      "\n",
      "Unscaled data used for kNN\n",
      "N_neighbors: 1, F1: 0.61\n",
      "N_neighbors: 2, F1: 0.44\n",
      "N_neighbors: 3, F1: 0.44\n",
      "N_neighbors: 4, F1: 0.20\n",
      "N_neighbors: 5, F1: 0.20\n",
      "N_neighbors: 6, F1: 0.09\n",
      "N_neighbors: 7, F1: 0.16\n",
      "N_neighbors: 8, F1: 0.10\n",
      "N_neighbors: 9, F1: 0.11\n",
      "N_neighbors: 10, F1: 0.00\n"
     ]
    }
   ],
   "source": [
    "#K-NeighborsClassifier for k in range 10 + f1_score. Unscaled data\n",
    "print('\\nUnscaled data used for kNN')\n",
    "unscaled_f1 = []\n",
    "for k in range(1,11):\n",
    "    knc = sklearn.neighbors.KNeighborsClassifier(n_neighbors=k)\n",
    "    knc.fit(features_train, target_train)\n",
    "    knc_pred = knc.predict(features_test)\n",
    "    f1_score = sklearn.metrics.f1_score(target_test, knc_pred)\n",
    "    unscaled_f1.append(f1_score)\n",
    "    print(f'N_neighbors: {k}, F1: {f1_score:.2f}')"
   ]
  },
  {
   "cell_type": "code",
   "execution_count": 32,
   "metadata": {},
   "outputs": [
    {
     "name": "stdout",
     "output_type": "stream",
     "text": [
      "\n",
      "Scaled data used for kNN\n",
      "N_neighbors: 1, F1: 0.95\n",
      "N_neighbors: 2, F1: 0.92\n",
      "N_neighbors: 3, F1: 0.94\n",
      "N_neighbors: 4, F1: 0.89\n",
      "N_neighbors: 5, F1: 0.91\n",
      "N_neighbors: 6, F1: 0.89\n",
      "N_neighbors: 7, F1: 0.91\n",
      "N_neighbors: 8, F1: 0.89\n",
      "N_neighbors: 9, F1: 0.91\n",
      "N_neighbors: 10, F1: 0.90\n"
     ]
    }
   ],
   "source": [
    "#K-NeighborsClassifier for k in range 10 + f1_score. Scaled data\n",
    "print('\\nScaled data used for kNN')\n",
    "scaled_f1 = []\n",
    "for k in range(1,11):\n",
    "    knc = sklearn.neighbors.KNeighborsClassifier(n_neighbors=k)\n",
    "    knc.fit(features_train_scaled, target_train)\n",
    "    knc_pred = knc.predict(features_test_scaled)\n",
    "    f1_score = sklearn.metrics.f1_score(target_test, knc_pred)\n",
    "    scaled_f1.append(f1_score)\n",
    "    print(f'N_neighbors: {k}, F1: {f1_score:.2f}')"
   ]
  },
  {
   "cell_type": "markdown",
   "metadata": {},
   "source": [
    "We use the f1 score, reflecting precision and recall, to measure kNN runs. We observe the kNN algorithm does indeed perform better than the dummy model, where we reached a maximum f1 score of 0.20. For the scaled data we reach a maximum f1 score of .61 when kNN = 1, and .44 when kNN = 1 or kNN = 2. The results of the kNN for the scaled data are impressive, >= 0.89 for kNN 1 - 10. The highest value, 0.95 occurs when kNN = 1, but when kNN = 3 the f1 = .94, still impressive. "
   ]
  },
  {
   "cell_type": "markdown",
   "metadata": {},
   "source": [
    "# Task 3. Regression (with Linear Regression)"
   ]
  },
  {
   "cell_type": "markdown",
   "metadata": {},
   "source": [
    "With `insurance_benefits` as the target, evaluate what RMSE would be for a Linear Regression model."
   ]
  },
  {
   "cell_type": "markdown",
   "metadata": {},
   "source": [
    "Build your own implementation of LR. For that, recall how the linear regression task's solution is formulated in terms of LA. Check RMSE for both the original data and the scaled one. Can you see any difference in RMSE between these two cases?\n",
    "\n",
    "Let's denote\n",
    "- $X$ — feature matrix, each row is a case, each column is a feature, the first column consists of unities\n",
    "- $y$ — target (a vector)\n",
    "- $\\hat{y}$ — estimated tagret (a vector)\n",
    "- $w$ — weight vector\n",
    "\n",
    "The task of linear regression in the language of matrices can be formulated as\n",
    "\n",
    "$$\n",
    "y = Xw\n",
    "$$\n",
    "\n",
    "The training objective then is to find such $w$ that it would minimize the L2-distance (MSE) between $Xw$ and $y$:\n",
    "\n",
    "$$\n",
    "\\min_w d_2(Xw, y) \\quad \\text{or} \\quad \\min_w \\text{MSE}(Xw, y)\n",
    "$$\n",
    "\n",
    "It appears that there is analytical solution for the above:\n",
    "\n",
    "$$\n",
    "w = (X^T X)^{-1} X^T y\n",
    "$$\n",
    "\n",
    "The formula above can be used to find the weights $w$ and the latter can be used to calculate predicted values\n",
    "\n",
    "$$\n",
    "\\hat{y} = X_{val}w\n",
    "$$"
   ]
  },
  {
   "cell_type": "markdown",
   "metadata": {},
   "source": [
    "Split the whole data in the 70:30 proportion for the training/validation parts. Use the RMSE metric for the model evaluation."
   ]
  },
  {
   "cell_type": "code",
   "execution_count": 33,
   "metadata": {},
   "outputs": [],
   "source": [
    "class MyLinearRegression:\n",
    "    \n",
    "    def __init__(self):\n",
    "        \n",
    "        self.weights = None\n",
    "    \n",
    "    def fit(self, X, y):\n",
    "        # adding the unities\n",
    "        # note need to add column so matrix multiplication works \n",
    "        X2 = np.append(np.ones([len(X), 1]), X, axis=1) \n",
    "        # use the weight formula from above\n",
    "        self.weights = np.linalg.inv(X2.T.dot(X2)).dot(X2.T).dot(y)\n",
    "\n",
    "    def predict(self, X):       \n",
    "        # adding the unities\n",
    "        # note need to add column so matrix multiplication works \n",
    "        X2 = np.append(np.ones([len(X), 1]), X, axis=1)\n",
    "        # use the formula for predicted values formula from above\n",
    "        y_pred = X2.dot(self.weights)\n",
    "        \n",
    "        return y_pred"
   ]
  },
  {
   "cell_type": "code",
   "execution_count": 34,
   "metadata": {},
   "outputs": [],
   "source": [
    "def eval_regressor(y_true, y_pred):\n",
    "    \n",
    "    rmse = math.sqrt(sklearn.metrics.mean_squared_error(y_true, y_pred))\n",
    "    print(f'RMSE: {rmse:.2f}')\n",
    "    \n",
    "    r2_score = math.sqrt(sklearn.metrics.r2_score(y_true, y_pred))\n",
    "    print(f'R2: {r2_score:.2f}')    "
   ]
  },
  {
   "cell_type": "code",
   "execution_count": 35,
   "metadata": {},
   "outputs": [
    {
     "name": "stdout",
     "output_type": "stream",
     "text": [
      "Results with unscaled data\n",
      "\n",
      "Linear Regression weights:\n",
      " [-9.43539012e-01  3.57495491e-02  1.64272726e-02 -2.60743659e-07\n",
      " -1.16902127e-02]\n",
      "RMSE: 0.34\n",
      "R2: 0.66\n"
     ]
    }
   ],
   "source": [
    "# results with unscaled data\n",
    "\n",
    "print('Results with unscaled data\\n')\n",
    "\n",
    "X = df[['age', 'gender', 'income', 'family_members']].to_numpy()\n",
    "y = df['insurance_benefits'].to_numpy()\n",
    "\n",
    "X_train, X_test, y_train, y_test = train_test_split(X, y, test_size=0.3, random_state=12345)\n",
    "\n",
    "lr = MyLinearRegression()\n",
    "\n",
    "lr.fit(X_train, y_train)\n",
    "print('Linear Regression weights:\\n', lr.weights)\n",
    "\n",
    "y_test_pred = lr.predict(X_test)\n",
    "eval_regressor(y_test, y_test_pred)"
   ]
  },
  {
   "cell_type": "code",
   "execution_count": 36,
   "metadata": {},
   "outputs": [
    {
     "name": "stdout",
     "output_type": "stream",
     "text": [
      "Results with scaled data\n",
      "\n",
      "Linear Regression weights:\n",
      " [-0.94353901  2.32372069  0.01642727 -0.02059875 -0.07014128]\n",
      "RMSE: 0.34\n",
      "R2: 0.66\n"
     ]
    }
   ],
   "source": [
    "# results with scaled data\n",
    "\n",
    "print('Results with scaled data\\n')\n",
    "\n",
    "X = df_scaled[['age', 'gender', 'income', 'family_members']].to_numpy()\n",
    "y = df_scaled['insurance_benefits'].to_numpy()\n",
    "\n",
    "X_train, X_test, y_train, y_test = train_test_split(X, y, test_size=0.3, random_state=12345)\n",
    "\n",
    "lr = MyLinearRegression()\n",
    "\n",
    "lr.fit(X_train, y_train)\n",
    "print('Linear Regression weights:\\n', lr.weights)\n",
    "\n",
    "y_test_pred = lr.predict(X_test)\n",
    "eval_regressor(y_test, y_test_pred)"
   ]
  },
  {
   "cell_type": "code",
   "execution_count": 37,
   "metadata": {},
   "outputs": [
    {
     "name": "stdout",
     "output_type": "stream",
     "text": [
      "Results with scaled data\n",
      "\n",
      "Linear Regression weights:\n",
      " [-9.65464676e-01  2.36997150e+00  6.34628613e-03  7.22175049e-04\n",
      " -7.83293864e-02]\n",
      "RMSE: 0.34\n",
      "R2: 0.65\n"
     ]
    }
   ],
   "source": [
    "# results with unscaled, stratified data\n",
    "\n",
    "print('Results with scaled data\\n')\n",
    "\n",
    "X = df_scaled[['age', 'gender', 'income', 'family_members']].to_numpy()\n",
    "y = df_scaled['insurance_benefits'].to_numpy()\n",
    "\n",
    "X_train, X_test, y_train, y_test = train_test_split(X, y, test_size=0.3, stratify = df['insurance_benefits_received'], random_state=12345)\n",
    "\n",
    "lr = MyLinearRegression()\n",
    "\n",
    "lr.fit(X_train, y_train)\n",
    "print('Linear Regression weights:\\n', lr.weights)\n",
    "\n",
    "y_test_pred = lr.predict(X_test)\n",
    "eval_regressor(y_test, y_test_pred)"
   ]
  },
  {
   "cell_type": "code",
   "execution_count": 38,
   "metadata": {},
   "outputs": [
    {
     "name": "stdout",
     "output_type": "stream",
     "text": [
      "Results with scaled data\n",
      "\n",
      "Linear Regression weights:\n",
      " [-9.65464676e-01  2.36997150e+00  6.34628613e-03  7.22175049e-04\n",
      " -7.83293864e-02]\n",
      "RMSE: 0.34\n",
      "R2: 0.65\n"
     ]
    }
   ],
   "source": [
    "# results with scaled, stratified data\n",
    "\n",
    "print('Results with scaled data\\n')\n",
    "\n",
    "X = df_scaled[['age', 'gender', 'income', 'family_members']].to_numpy()\n",
    "y = df_scaled['insurance_benefits'].to_numpy()\n",
    "\n",
    "X_train, X_test, y_train, y_test = train_test_split(X, y, test_size=0.3, stratify = df['insurance_benefits_received'], random_state=12345)\n",
    "\n",
    "lr = MyLinearRegression()\n",
    "\n",
    "lr.fit(X_train, y_train)\n",
    "print('Linear Regression weights:\\n', lr.weights)\n",
    "\n",
    "y_test_pred = lr.predict(X_test)\n",
    "eval_regressor(y_test, y_test_pred)"
   ]
  },
  {
   "cell_type": "markdown",
   "metadata": {},
   "source": [
    "Our comparison of scaled and unscaled dataframes ends up with about the same RMSE and R2 values. The RMSE score measured around 34%, indicating a high percentage of errors made by the model in predictions. The R2 score, at 66% suggests a moderate to poor fit. A score of 100% would indicate a perfect match between predicted and actual target values."
   ]
  },
  {
   "cell_type": "markdown",
   "metadata": {},
   "source": [
    "# Task 4. Obfuscating Data"
   ]
  },
  {
   "cell_type": "markdown",
   "metadata": {},
   "source": [
    "It best to obfuscate data by multiplying the numerical features (remember, they can be seen as the matrix $X$) by an invertible matrix $P$. \n",
    "\n",
    "$$\n",
    "X' = X \\times P\n",
    "$$\n",
    "\n",
    "Try to do that and check how the features' values will look like after the transformation. By the way, the intertible property is important here so make sure that $P$ is indeed invertible.\n",
    "\n",
    "You may want to review the 'Matrices and Matrix Operations -> Matrix Multiplication' lesson to recall the rule of matrix multiplication and its implementation with NumPy."
   ]
  },
  {
   "cell_type": "code",
   "execution_count": 39,
   "metadata": {},
   "outputs": [],
   "source": [
    "# create df with 4 features\n",
    "personal_info_column_list = ['gender', 'age', 'income', 'family_members']\n",
    "df_pn = df[personal_info_column_list]"
   ]
  },
  {
   "cell_type": "code",
   "execution_count": 40,
   "metadata": {},
   "outputs": [],
   "source": [
    "# create a matrix X to compare with transformed\n",
    "Xoriginal = df_pn.to_numpy()"
   ]
  },
  {
   "cell_type": "code",
   "execution_count": 41,
   "metadata": {},
   "outputs": [],
   "source": [
    "# create a matrix X\n",
    "X = df_pn.to_numpy()"
   ]
  },
  {
   "cell_type": "markdown",
   "metadata": {},
   "source": [
    "Generating a random matrix $P$."
   ]
  },
  {
   "cell_type": "code",
   "execution_count": 42,
   "metadata": {},
   "outputs": [],
   "source": [
    "rng = np.random.default_rng(seed=42)\n",
    "P = rng.random(size=(X.shape[1], X.shape[1]))"
   ]
  },
  {
   "cell_type": "markdown",
   "metadata": {},
   "source": [
    "Checking the matrix $P$ is invertible"
   ]
  },
  {
   "cell_type": "code",
   "execution_count": 43,
   "metadata": {},
   "outputs": [
    {
     "data": {
      "text/plain": [
       "array([[ 0.41467992, -1.43783972,  0.62798546,  1.14001268],\n",
       "       [-1.06101789,  0.44219337,  0.1329549 ,  1.18425933],\n",
       "       [ 1.42362442,  1.60461607, -2.0553823 , -1.53699695],\n",
       "       [-0.11128575, -0.65813802,  1.74995517, -0.11816316]])"
      ]
     },
     "execution_count": 43,
     "metadata": {},
     "output_type": "execute_result"
    }
   ],
   "source": [
    "# create inverse of P\n",
    "inv_P = np.linalg.inv(P)\n",
    "inv_P"
   ]
  },
  {
   "cell_type": "code",
   "execution_count": 44,
   "metadata": {},
   "outputs": [
    {
     "data": {
      "text/plain": [
       "array([[ 1.,  0., -0., -0.],\n",
       "       [ 0.,  1., -0.,  0.],\n",
       "       [ 0.,  0.,  1., -0.],\n",
       "       [-0., -0., -0.,  1.]])"
      ]
     },
     "execution_count": 44,
     "metadata": {},
     "output_type": "execute_result"
    }
   ],
   "source": [
    "# multiply P by the inverse to check for invertibility\n",
    "P.dot(inv_P).round(1)"
   ]
  },
  {
   "cell_type": "markdown",
   "metadata": {},
   "source": [
    "While we note some minor fluctuations from 0 and 1, they can be explained by the way float math is calculated. All the values on the diagonal are 1 and those not on the diagonal are very, very close to 0. \n",
    "\n",
    "The matrix $P$ is invertible. inv(P) did not return an error here, so P is confirmed to be invertible."
   ]
  },
  {
   "cell_type": "code",
   "execution_count": 45,
   "metadata": {},
   "outputs": [
    {
     "data": {
      "text/plain": [
       "(5000, 4)"
      ]
     },
     "execution_count": 45,
     "metadata": {},
     "output_type": "execute_result"
    }
   ],
   "source": [
    "# print shapes of X and P\n",
    "X.shape"
   ]
  },
  {
   "cell_type": "code",
   "execution_count": 46,
   "metadata": {},
   "outputs": [
    {
     "data": {
      "text/plain": [
       "(4, 4)"
      ]
     },
     "execution_count": 46,
     "metadata": {},
     "output_type": "execute_result"
    }
   ],
   "source": [
    "# print shape of P\n",
    "P.shape"
   ]
  },
  {
   "cell_type": "code",
   "execution_count": 47,
   "metadata": {},
   "outputs": [
    {
     "data": {
      "text/plain": [
       "(5000, 4)"
      ]
     },
     "execution_count": 47,
     "metadata": {},
     "output_type": "execute_result"
    }
   ],
   "source": [
    "# use matrix multiplication with order of shapes (col=row)\n",
    "# to transform data (obfuscate the data by multiplying by P)\n",
    "Xprime = X.dot(P)\n",
    "Xprime.shape"
   ]
  },
  {
   "cell_type": "markdown",
   "metadata": {},
   "source": [
    "Can you guess the customers' ages or income after the transformation?"
   ]
  },
  {
   "cell_type": "code",
   "execution_count": 48,
   "metadata": {},
   "outputs": [
    {
     "data": {
      "text/plain": [
       "array([[ 6359.71527314, 22380.40467609, 18424.09074184, 46000.69669016],\n",
       "       [ 4873.29406479, 17160.36702982, 14125.78076133, 35253.45577301],\n",
       "       [ 2693.11742928,  9486.397744  ,  7808.83156024, 19484.86063067],\n",
       "       ...,\n",
       "       [ 4346.2234249 , 15289.24126492, 12586.16264392, 31433.50888552],\n",
       "       [ 4194.09324155, 14751.9910242 , 12144.02930637, 30323.88763426],\n",
       "       [ 5205.46827354, 18314.24814446, 15077.01370762, 37649.59295455]])"
      ]
     },
     "execution_count": 48,
     "metadata": {},
     "output_type": "execute_result"
    }
   ],
   "source": [
    "# print obfuscated data\n",
    "Xprime"
   ]
  },
  {
   "cell_type": "markdown",
   "metadata": {},
   "source": [
    "We would be able to use the obfuscated data to guess customer ages or income."
   ]
  },
  {
   "cell_type": "markdown",
   "metadata": {},
   "source": [
    "Can you recover the original data from $X'$ if you know $P$? Try to check that with calculations by moving $P$ from the right side of the formula above to the left one. The rules of matrix multiplcation are really helpful here."
   ]
  },
  {
   "cell_type": "markdown",
   "metadata": {},
   "source": [
    "$$\n",
    "X' = X \\times P \n",
    "$$\n",
    "\n",
    "$$ \n",
    "X' \\times P^{-1} = X \n",
    "$$\n",
    "\n",
    "\n",
    "$$ \n",
    "X = X' \\times P^{-1}\n",
    "$$"
   ]
  },
  {
   "cell_type": "code",
   "execution_count": 49,
   "metadata": {},
   "outputs": [
    {
     "data": {
      "text/plain": [
       "array([[ 1.00000000e+00,  4.10000000e+01,  4.96000000e+04,\n",
       "         1.00000000e+00],\n",
       "       [ 1.67952800e-12,  4.60000000e+01,  3.80000000e+04,\n",
       "         1.00000000e+00],\n",
       "       [-6.23021448e-13,  2.90000000e+01,  2.10000000e+04,\n",
       "        -2.03032656e-13],\n",
       "       ...,\n",
       "       [ 1.57996161e-12,  2.00000000e+01,  3.39000000e+04,\n",
       "         2.00000000e+00],\n",
       "       [ 1.00000000e+00,  2.20000000e+01,  3.27000000e+04,\n",
       "         3.00000000e+00],\n",
       "       [ 1.00000000e+00,  2.80000000e+01,  4.06000000e+04,\n",
       "         1.00000000e+00]])"
      ]
     },
     "execution_count": 49,
     "metadata": {},
     "output_type": "execute_result"
    }
   ],
   "source": [
    "# recover original data from Xprime\n",
    "Xreverse = Xprime.dot(np.linalg.inv(P))\n",
    "Xreverse"
   ]
  },
  {
   "cell_type": "code",
   "execution_count": 50,
   "metadata": {},
   "outputs": [
    {
     "data": {
      "text/plain": [
       "array([[1.00e+00, 4.10e+01, 4.96e+04, 1.00e+00],\n",
       "       [0.00e+00, 4.60e+01, 3.80e+04, 1.00e+00],\n",
       "       [0.00e+00, 2.90e+01, 2.10e+04, 0.00e+00],\n",
       "       ...,\n",
       "       [0.00e+00, 2.00e+01, 3.39e+04, 2.00e+00],\n",
       "       [1.00e+00, 2.20e+01, 3.27e+04, 3.00e+00],\n",
       "       [1.00e+00, 2.80e+01, 4.06e+04, 1.00e+00]])"
      ]
     },
     "execution_count": 50,
     "metadata": {},
     "output_type": "execute_result"
    }
   ],
   "source": [
    "# verify match with pre transformation matrix\n",
    "Xoriginal"
   ]
  },
  {
   "cell_type": "markdown",
   "metadata": {},
   "source": [
    "Print all three cases for a few customers\n",
    "- The original data\n",
    "- The transformed one\n",
    "- The reversed (recovered) one"
   ]
  },
  {
   "cell_type": "code",
   "execution_count": 51,
   "metadata": {},
   "outputs": [
    {
     "name": "stdout",
     "output_type": "stream",
     "text": [
      "Verify original and reversed values match\n",
      "gender    age    income    family_members\n",
      "\n",
      "original [1.00e+00 3.20e+01 4.32e+04 0.00e+00]\n",
      "transformed [ 5538.29656276 19488.33131078 16043.68971523 40062.09894406]\n",
      "reversed [ 1.00000000e+00  3.20000000e+01  4.32000000e+04 -7.45166047e-13]\n",
      "\n",
      "original [0.00e+00 2.30e+01 3.45e+04 2.00e+00]\n",
      "transformed [ 4423.37413655 15562.39969471 12810.92487757 31991.92607174]\n",
      "reversed [1.15555714e-12 2.30000000e+01 3.45000000e+04 2.00000000e+00]\n",
      "\n",
      "original [0.00e+00 2.50e+01 4.94e+04 1.00e+00]\n",
      "transformed [ 6331.81175299 22274.27865245 18336.89430384 45802.06929547]\n",
      "reversed [4.76452781e-12 2.50000000e+01 4.94000000e+04 1.00000000e+00]\n"
     ]
    }
   ],
   "source": [
    "rows = [277, 1202, 2345]\n",
    "print('Verify original and reversed values match')\n",
    "print('gender    age    income    family_members')\n",
    "for x in rows:\n",
    "    print('\\noriginal', Xoriginal[x,:])\n",
    "    print('transformed', Xprime[x,:])\n",
    "    print('reversed', Xreverse[x,:])"
   ]
  },
  {
   "cell_type": "markdown",
   "metadata": {},
   "source": [
    "You can probably see that some values are not exactly the same as they are in the original data. What might be the reason for that?"
   ]
  },
  {
   "cell_type": "markdown",
   "metadata": {},
   "source": [
    "These slight differences between the original values and reversed values are likely due to float math calculations."
   ]
  },
  {
   "cell_type": "markdown",
   "metadata": {},
   "source": [
    "## Proof That Data Obfuscation Can Work with LR"
   ]
  },
  {
   "cell_type": "markdown",
   "metadata": {},
   "source": [
    "The regression task has been solved with linear regression in this project. Your next task is to prove _analytically_ that the given obfuscation method won't affect linear regression in terms of predicted values i.e. their values will remain the same. Can you believe that? Well, you don't have to, you should prove it!"
   ]
  },
  {
   "cell_type": "markdown",
   "metadata": {},
   "source": [
    "So, the data is obfuscated and there is $X \\times P$ instead of just $X$ now. Consequently, there are other weights $w_P$ as\n",
    "$$\n",
    "w = (X^T X)^{-1} X^T y \\quad \\Rightarrow \\quad w_P = [(XP)^T XP]^{-1} (XP)^T y\n",
    "$$\n",
    "\n",
    "How would $w$ and $w_P$ be linked if you simplify the formula for $w_P$ above? \n",
    "\n",
    "What would be predicted values with $w_P$? \n",
    "\n",
    "What does that mean for the quality of linear regression if you measure it with RMSE?\n",
    "\n",
    "Check Appendix B Properties of Matrices in the end of the notebook. There are useful formulas in there!\n",
    "\n",
    "No code is necessary in this section, only analytical explanation!"
   ]
  },
  {
   "cell_type": "markdown",
   "metadata": {},
   "source": [
    "**Answer**"
   ]
  },
  {
   "cell_type": "markdown",
   "metadata": {},
   "source": [
    "$w$ and $w_P$ will be linked by the inverse of matrix P, as in the formula $w_P = [P]^{-1}w$. The predicted values with $w_P$ will be the inverse of the corresponding P value matrix multiplied by w. The RMSE and R2 should remain stable for both runs of the algorithm (with and without obfuscated data). "
   ]
  },
  {
   "cell_type": "markdown",
   "metadata": {},
   "source": [
    "<table>\n",
    "<tr>\n",
    "<td>Distributivity</td><td>$A(B+C)=AB+AC$</td>\n",
    "</tr>\n",
    "<tr>\n",
    "<td>Non-commutativity</td><td>$AB \\neq BA$</td>\n",
    "</tr>\n",
    "<tr>\n",
    "<td>Associative property of multiplication</td><td>$(AB)C = A(BC)$</td>\n",
    "</tr>\n",
    "<tr>\n",
    "<td>Multiplicative identity property</td><td>$IA = AI = A$</td>\n",
    "</tr>\n",
    "<tr>\n",
    "<td></td><td>$A^{-1}A = AA^{-1} = I$\n",
    "</td>\n",
    "</tr>    \n",
    "<tr>\n",
    "<td></td><td>$(AB)^{-1} = B^{-1}A^{-1}$</td>\n",
    "</tr>    \n",
    "<tr>\n",
    "<td>Reversivity of the transpose of a product of matrices,</td><td>$(AB)^T = B^TA^T$</td>\n",
    "</tr>    \n",
    "</table>"
   ]
  },
  {
   "cell_type": "markdown",
   "metadata": {},
   "source": [
    "**Analytical proof**"
   ]
  },
  {
   "cell_type": "markdown",
   "metadata": {},
   "source": [
    "\n",
    "$$\n",
    "w = (X^T X)^{-1} X^T y\n",
    "$$\n",
    "\n",
    "$$\n",
    "w_P = [(XP)^T XP]^{-1} (XP)^T y\n",
    "$$\n",
    "\n",
    "$$\n",
    "w_P = [(P^TX^T)XP)]^{-1} (XP)^T y\n",
    "$$\n",
    "\n",
    "$$\n",
    "w_P = [P^T(X^TX)P]^{-1} (P^TX^T) y\n",
    "$$\n",
    "\n",
    "$$\n",
    "w_P = [P^T]^{-1}[(X^TX)]^{-1}[P]^{-1} P^TX^T y\n",
    "$$\n",
    "\n",
    "$$\n",
    "w_P = [(X^TX)]^{-1}[P]^{-1} (X^T) y\n",
    "$$\n",
    "\n",
    "$$\n",
    "Pw_P = P[(X^TX)]^{-1}[P]^{-1} (X^T) y\n",
    "$$\n",
    "\n",
    "$$\n",
    "Pw_P = (X^TX)^{-1}(X^T) y\n",
    "$$\n",
    "\n",
    "So now we can substitute $$\n",
    "w = (X^T X)^{-1} X^T y\n",
    "$$\n",
    "and find that\n",
    "\n",
    "$$\n",
    "Pw_P = w \\quad \\Rightarrow \\quad  ([P]^{-1})Pw_P = [P]^{-1}w \\quad \\Rightarrow \\quad w_P = [P]^{-1}w\n",
    "$$\n",
    "\n",
    "So with our formula for predictions transformed for $w_P$\n",
    "\n",
    "$$\n",
    "y = Xw \\quad \\Rightarrow \\quad y_P = X_Pw_P = XP[P]^{-1}w = Xw \\quad \\Rightarrow \\quad y_P = Xw\n",
    "$$\n",
    "\n",
    "Using $X_P$ = XP in the formula above we demonstrate that the predictions of the original dataset and the obfuscated dataset will match."
   ]
  },
  {
   "cell_type": "markdown",
   "metadata": {},
   "source": [
    "<div class=\"alert alert-warning\">\n",
    "<b>Reviewer's comment V2</b>\n",
    "\n",
    "Ok, almost, but not quite! Up to this line everything is correct:\n",
    "    \n",
    "$$\n",
    "w_P = [P^T(X^TX)P]^{-1} (P^TX^T) y\n",
    "$$\n",
    "    \n",
    "But in the next line you forgot to switch the order when applying inversion:\n",
    "    \n",
    "$$\n",
    "w_P = [P^T]^{-1}[(X^TX)]^{-1}[P]^{-1} P^TX^T y\n",
    "$$\n",
    "should be \n",
    "    \n",
    "$$\n",
    "w_P = [P]^{-1}[(X^TX)]^{-1}[P^T]^{-1} P^TX^T y\n",
    "$$\n",
    "    \n",
    "Then $P^T$ and its inverse kill each other off, and we immediately get that $$w_P = P^{-1} w$$\n",
    "\n",
    "</div>"
   ]
  },
  {
   "cell_type": "markdown",
   "metadata": {},
   "source": [
    "## Test Linear Regression With Data Obfuscation"
   ]
  },
  {
   "cell_type": "markdown",
   "metadata": {},
   "source": [
    "Now, let's prove Linear Regression can work computationally with the chosen obfuscation transformation.\n",
    "\n",
    "Build a procedure or a class that runs Linear Regression optionally with the obfuscation. You can use either a ready implementation of Linear Regression from sciki-learn or your own.\n",
    "\n",
    "Run Linear Regression for the original data and the obfuscated one, compare the predicted values and the RMSE, $R^2$ metric values. Is there any difference?"
   ]
  },
  {
   "cell_type": "markdown",
   "metadata": {},
   "source": [
    "**Procedure**\n",
    "\n",
    "- Create a square matrix $P$ of random numbers.\n",
    "- Check that it is invertible. If not, repeat the first point until we get an invertible matrix.\n",
    "- <! your comment here !>\n",
    "- Use $XP$ as the new feature matrix"
   ]
  },
  {
   "cell_type": "code",
   "execution_count": 52,
   "metadata": {},
   "outputs": [],
   "source": [
    "class MyLinearRegression2:\n",
    "    \n",
    "    def __init__(self, data):\n",
    "        self.weights = None\n",
    "        self.data = data\n",
    "        \n",
    "    def fit(self, X, y):\n",
    "        # adding the unities\n",
    "        X2 = np.append(np.ones([len(X), 1]), X, axis=1)\n",
    "        weights = np.linalg.inv(X2.T.dot(X2)).dot(X2.T).dot(y)\n",
    "        self.weights = weights[1:]\n",
    "        self.bias = weights[0]\n",
    "\n",
    "    def predict(self, X):\n",
    "        # adding the unities\n",
    "        X2 = np.append(np.ones([len(X), 1]), X, axis=1)\n",
    "        y_pred = X.dot(self.weights) + self.bias\n",
    "        return y_pred"
   ]
  },
  {
   "cell_type": "code",
   "execution_count": 53,
   "metadata": {},
   "outputs": [
    {
     "name": "stdout",
     "output_type": "stream",
     "text": [
      "[ 1.64272726e-02  3.57495491e-02 -2.60743659e-07 -1.16902127e-02]\n",
      "RMSE: 0.34\n",
      "R2: 0.66\n"
     ]
    }
   ],
   "source": [
    "# MyLinearRegression2 on the normal dataset.\n",
    "X = Xoriginal\n",
    "y = df['insurance_benefits'].to_numpy()\n",
    "\n",
    "X_train, X_test, y_train, y_test = train_test_split(X, y, test_size=0.3, random_state=12345)\n",
    "\n",
    "lr = MyLinearRegression2(X)\n",
    "\n",
    "lr.fit(X_train, y_train)\n",
    "print(lr.weights)\n",
    "\n",
    "y_test_pred = lr.predict(X_test)\n",
    "eval_regressor(y_test, y_test_pred)"
   ]
  },
  {
   "cell_type": "code",
   "execution_count": 54,
   "metadata": {},
   "outputs": [
    {
     "name": "stdout",
     "output_type": "stream",
     "text": [
      "[-0.05791721 -0.01546567  0.09871889 -0.02397536]\n",
      "RMSE: 0.34\n",
      "R2: 0.66\n"
     ]
    }
   ],
   "source": [
    "# MyLinearRegression2 on the obfuscated dataset.\n",
    "X = Xprime\n",
    "y = df['insurance_benefits'].to_numpy()\n",
    "\n",
    "X_train, X_test, y_train, y_test = train_test_split(X, y, test_size=0.3, random_state=12345)\n",
    "\n",
    "lr = MyLinearRegression2(Xprime)\n",
    "\n",
    "lr.fit(X_train, y_train)\n",
    "print(lr.weights)\n",
    "\n",
    "y_test_pred = lr.predict(X_test)\n",
    "eval_regressor(y_test, y_test_pred)\n"
   ]
  },
  {
   "cell_type": "markdown",
   "metadata": {},
   "source": [
    "We observe no difference in the RMSE and R2 scores for both linear regression models (with and without transformation). The quality of the linear regression remains the same after transformation."
   ]
  },
  {
   "cell_type": "markdown",
   "metadata": {},
   "source": [
    "# Conclusions"
   ]
  },
  {
   "cell_type": "markdown",
   "metadata": {},
   "source": [
    "Task 1: We imported and inspected the data. We did note an imbalance of about 1:9 for those receiving benefits. We discovered scaling the data dramatically changed the results for both distance metrics with runs because the unscaled data gave too much weight to the income, and perhaps age, features over the bianary features. \n",
    "\n",
    "Task 2: When we compared f1 scores on dummy/random and scaled/unscaled kNN classification, we discovered our scaled kNN classification to perform the best. In fact, we reached a f1 of 0.95 and 0.94 on scaled data with kNN 1 and kNN = 3, respectively.\n",
    "\n",
    "Task 3: The linear regression model demonstrated lower R2 and RMSE scores (34% and 66%). We did find that scaling data made no difference in RMSE or R2 scores.\n",
    "\n",
    "Task 4: We obfuscated the data and demonstrated the invertibility of our data matrix by proofs and practical demonstrations (lr runs and printing row information for df before, df obfuscated, df reversed to original). While there were minor math differences, they are easily explained by float math. We clearly demonstrated obfuscating the data does not impact or change the predictive quality of the model."
   ]
  },
  {
   "cell_type": "markdown",
   "metadata": {},
   "source": [
    "# Appendices \n",
    "\n",
    "## Appendix A: Writing Formulas in Jupyter Notebooks"
   ]
  },
  {
   "cell_type": "markdown",
   "metadata": {},
   "source": [
    "You can write formulas in your Jupyter Notebook in a markup language provided by a high-quality publishing system called $\\LaTeX$ (pronounced \"Lah-tech\"), and they will look like formulas in textbooks.\n",
    "\n",
    "To put a formula in a text, put the dollar sign (\\\\$) before and after the formula's text e.g. $\\frac{1}{2} \\times \\frac{3}{2} = \\frac{3}{4}$ or $y = x^2, x \\ge 1$.\n",
    "\n",
    "If a formula should be in its own paragraph, put the double dollar sign (\\\\$\\\\$) before and after the formula text e.g.\n",
    "\n",
    "$$\n",
    "\\bar{x} = \\frac{1}{n}\\sum_{i=1}^{n} x_i.\n",
    "$$\n",
    "\n",
    "The markup language of [LaTeX](https://en.wikipedia.org/wiki/LaTeX) is very popular among people who use formulas in their articles, books and texts. It can be complex but its basics are easy. Check this two page [cheatsheet](http://tug.ctan.org/info/undergradmath/undergradmath.pdf) for learning how to compose the most common formulas."
   ]
  },
  {
   "cell_type": "markdown",
   "metadata": {},
   "source": [
    "## Appendix B: Properties of Matrices"
   ]
  },
  {
   "cell_type": "markdown",
   "metadata": {},
   "source": [
    "Matrices have many properties in Linear Algebra. A few of them are listed here which can help with the analytical proof in this project."
   ]
  },
  {
   "cell_type": "markdown",
   "metadata": {},
   "source": [
    "<table>\n",
    "<tr>\n",
    "<td>Distributivity</td><td>$A(B+C)=AB+AC$</td>\n",
    "</tr>\n",
    "<tr>\n",
    "<td>Non-commutativity</td><td>$AB \\neq BA$</td>\n",
    "</tr>\n",
    "<tr>\n",
    "<td>Associative property of multiplication</td><td>$(AB)C = A(BC)$</td>\n",
    "</tr>\n",
    "<tr>\n",
    "<td>Multiplicative identity property</td><td>$IA = AI = A$</td>\n",
    "</tr>\n",
    "<tr>\n",
    "<td></td><td>$A^{-1}A = AA^{-1} = I$\n",
    "</td>\n",
    "</tr>    \n",
    "<tr>\n",
    "<td></td><td>$(AB)^{-1} = B^{-1}A^{-1}$</td>\n",
    "</tr>    \n",
    "<tr>\n",
    "<td>Reversivity of the transpose of a product of matrices,</td><td>$(AB)^T = B^TA^T$</td>\n",
    "</tr>    \n",
    "</table>"
   ]
  },
  {
   "cell_type": "markdown",
   "metadata": {},
   "source": [
    "## References\n",
    "[LR from scratch](https://kenzotakahashi.github.io/linear-regression-from-scratch-in-python.html)\n",
    "\n",
    "[Fitting knn model](https://stats.stackexchange.com/questions/349842/why-do-we-need-to-fit-a-k-nearest-neighbors-classifier)\n",
    "\n",
    "[Fix error: last 2 dimensions of array must be square](https://flutterq.com/solved-linalgerror-last-2-dimensions-of-the-array-must-be-square/)\n",
    "\n",
    "[F1 score explained](https://www.mikulskibartosz.name/f1-score-explained/)"
   ]
  }
 ],
 "metadata": {
  "ExecuteTimeLog": [
   {
    "duration": 95605,
    "start_time": "2021-12-30T23:20:05.814Z"
   },
   {
    "duration": 1151,
    "start_time": "2021-12-30T23:21:41.421Z"
   },
   {
    "duration": 17,
    "start_time": "2021-12-30T23:21:42.575Z"
   },
   {
    "duration": 5,
    "start_time": "2021-12-30T23:21:42.594Z"
   },
   {
    "duration": 14,
    "start_time": "2021-12-30T23:21:42.600Z"
   },
   {
    "duration": 7,
    "start_time": "2021-12-30T23:21:42.615Z"
   },
   {
    "duration": 2,
    "start_time": "2021-12-30T23:21:42.624Z"
   },
   {
    "duration": 3,
    "start_time": "2021-12-30T23:21:42.629Z"
   },
   {
    "duration": 4,
    "start_time": "2021-12-30T23:21:42.633Z"
   },
   {
    "duration": 5360,
    "start_time": "2021-12-30T23:21:42.638Z"
   },
   {
    "duration": 3,
    "start_time": "2021-12-30T23:21:48.000Z"
   },
   {
    "duration": 81,
    "start_time": "2021-12-30T23:21:48.005Z"
   },
   {
    "duration": -383,
    "start_time": "2021-12-30T23:21:48.471Z"
   },
   {
    "duration": -387,
    "start_time": "2021-12-30T23:21:48.475Z"
   },
   {
    "duration": -390,
    "start_time": "2021-12-30T23:21:48.479Z"
   },
   {
    "duration": -394,
    "start_time": "2021-12-30T23:21:48.484Z"
   },
   {
    "duration": -398,
    "start_time": "2021-12-30T23:21:48.489Z"
   },
   {
    "duration": -401,
    "start_time": "2021-12-30T23:21:48.492Z"
   },
   {
    "duration": -404,
    "start_time": "2021-12-30T23:21:48.496Z"
   },
   {
    "duration": -405,
    "start_time": "2021-12-30T23:21:48.498Z"
   },
   {
    "duration": -407,
    "start_time": "2021-12-30T23:21:48.501Z"
   },
   {
    "duration": -410,
    "start_time": "2021-12-30T23:21:48.504Z"
   },
   {
    "duration": -413,
    "start_time": "2021-12-30T23:21:48.508Z"
   },
   {
    "duration": -415,
    "start_time": "2021-12-30T23:21:48.511Z"
   },
   {
    "duration": -417,
    "start_time": "2021-12-30T23:21:48.514Z"
   },
   {
    "duration": 104986,
    "start_time": "2021-12-31T01:34:51.890Z"
   },
   {
    "duration": 1172,
    "start_time": "2021-12-31T01:36:36.878Z"
   },
   {
    "duration": 17,
    "start_time": "2021-12-31T01:36:38.052Z"
   },
   {
    "duration": 4,
    "start_time": "2021-12-31T01:36:38.071Z"
   },
   {
    "duration": 18,
    "start_time": "2021-12-31T01:36:38.077Z"
   },
   {
    "duration": 7,
    "start_time": "2021-12-31T01:36:38.096Z"
   },
   {
    "duration": 5,
    "start_time": "2021-12-31T01:36:38.105Z"
   },
   {
    "duration": 3,
    "start_time": "2021-12-31T01:36:38.112Z"
   },
   {
    "duration": 6,
    "start_time": "2021-12-31T01:36:38.117Z"
   },
   {
    "duration": 5212,
    "start_time": "2021-12-31T01:36:38.124Z"
   },
   {
    "duration": 3,
    "start_time": "2021-12-31T01:36:43.337Z"
   },
   {
    "duration": 63,
    "start_time": "2021-12-31T01:36:43.341Z"
   },
   {
    "duration": -372,
    "start_time": "2021-12-31T01:36:43.778Z"
   },
   {
    "duration": -376,
    "start_time": "2021-12-31T01:36:43.783Z"
   },
   {
    "duration": -380,
    "start_time": "2021-12-31T01:36:43.788Z"
   },
   {
    "duration": -383,
    "start_time": "2021-12-31T01:36:43.792Z"
   },
   {
    "duration": -385,
    "start_time": "2021-12-31T01:36:43.795Z"
   },
   {
    "duration": -388,
    "start_time": "2021-12-31T01:36:43.799Z"
   },
   {
    "duration": -390,
    "start_time": "2021-12-31T01:36:43.802Z"
   },
   {
    "duration": -392,
    "start_time": "2021-12-31T01:36:43.805Z"
   },
   {
    "duration": -395,
    "start_time": "2021-12-31T01:36:43.809Z"
   },
   {
    "duration": -398,
    "start_time": "2021-12-31T01:36:43.812Z"
   },
   {
    "duration": -402,
    "start_time": "2021-12-31T01:36:43.817Z"
   },
   {
    "duration": -403,
    "start_time": "2021-12-31T01:36:43.820Z"
   },
   {
    "duration": -407,
    "start_time": "2021-12-31T01:36:43.824Z"
   },
   {
    "duration": 4,
    "start_time": "2021-12-31T01:41:50.913Z"
   },
   {
    "duration": 7,
    "start_time": "2021-12-31T01:41:59.289Z"
   },
   {
    "duration": 4,
    "start_time": "2021-12-31T01:42:15.827Z"
   },
   {
    "duration": 8,
    "start_time": "2021-12-31T01:42:20.734Z"
   },
   {
    "duration": 7,
    "start_time": "2021-12-31T01:42:55.414Z"
   },
   {
    "duration": 8,
    "start_time": "2021-12-31T01:42:57.124Z"
   },
   {
    "duration": 104909,
    "start_time": "2021-12-31T01:44:02.762Z"
   },
   {
    "duration": 1177,
    "start_time": "2021-12-31T01:45:47.673Z"
   },
   {
    "duration": 16,
    "start_time": "2021-12-31T01:45:48.852Z"
   },
   {
    "duration": 6,
    "start_time": "2021-12-31T01:45:48.870Z"
   },
   {
    "duration": 14,
    "start_time": "2021-12-31T01:45:48.877Z"
   },
   {
    "duration": 7,
    "start_time": "2021-12-31T01:45:48.892Z"
   },
   {
    "duration": 3,
    "start_time": "2021-12-31T01:45:48.901Z"
   },
   {
    "duration": 7,
    "start_time": "2021-12-31T01:45:48.906Z"
   },
   {
    "duration": 2,
    "start_time": "2021-12-31T01:45:48.915Z"
   },
   {
    "duration": 5200,
    "start_time": "2021-12-31T01:45:48.919Z"
   },
   {
    "duration": 2,
    "start_time": "2021-12-31T01:45:54.121Z"
   },
   {
    "duration": 73,
    "start_time": "2021-12-31T01:45:54.125Z"
   },
   {
    "duration": -357,
    "start_time": "2021-12-31T01:45:54.557Z"
   },
   {
    "duration": -360,
    "start_time": "2021-12-31T01:45:54.561Z"
   },
   {
    "duration": -362,
    "start_time": "2021-12-31T01:45:54.564Z"
   },
   {
    "duration": -365,
    "start_time": "2021-12-31T01:45:54.568Z"
   },
   {
    "duration": -367,
    "start_time": "2021-12-31T01:45:54.571Z"
   },
   {
    "duration": -370,
    "start_time": "2021-12-31T01:45:54.575Z"
   },
   {
    "duration": -371,
    "start_time": "2021-12-31T01:45:54.578Z"
   },
   {
    "duration": -375,
    "start_time": "2021-12-31T01:45:54.582Z"
   },
   {
    "duration": -377,
    "start_time": "2021-12-31T01:45:54.585Z"
   },
   {
    "duration": -380,
    "start_time": "2021-12-31T01:45:54.589Z"
   },
   {
    "duration": -382,
    "start_time": "2021-12-31T01:45:54.592Z"
   },
   {
    "duration": -385,
    "start_time": "2021-12-31T01:45:54.596Z"
   },
   {
    "duration": -387,
    "start_time": "2021-12-31T01:45:54.599Z"
   },
   {
    "duration": 23,
    "start_time": "2021-12-31T01:48:32.747Z"
   },
   {
    "duration": 9,
    "start_time": "2021-12-31T01:50:27.688Z"
   },
   {
    "duration": 4,
    "start_time": "2021-12-31T01:57:35.696Z"
   },
   {
    "duration": 7,
    "start_time": "2021-12-31T01:57:36.888Z"
   },
   {
    "duration": 376,
    "start_time": "2021-12-31T03:41:24.487Z"
   },
   {
    "duration": 453,
    "start_time": "2021-12-31T03:41:36.453Z"
   },
   {
    "duration": 185,
    "start_time": "2021-12-31T03:43:11.639Z"
   },
   {
    "duration": 9,
    "start_time": "2021-12-31T03:43:35.001Z"
   },
   {
    "duration": 11,
    "start_time": "2021-12-31T03:44:22.253Z"
   },
   {
    "duration": 24,
    "start_time": "2021-12-31T03:45:23.915Z"
   },
   {
    "duration": 5,
    "start_time": "2021-12-31T03:49:57.350Z"
   },
   {
    "duration": 5,
    "start_time": "2021-12-31T03:50:27.891Z"
   },
   {
    "duration": 6,
    "start_time": "2021-12-31T03:54:14.602Z"
   },
   {
    "duration": 24,
    "start_time": "2021-12-31T03:54:36.671Z"
   },
   {
    "duration": 6,
    "start_time": "2021-12-31T03:56:22.476Z"
   },
   {
    "duration": 7,
    "start_time": "2021-12-31T03:57:44.047Z"
   },
   {
    "duration": 7,
    "start_time": "2021-12-31T03:58:38.498Z"
   },
   {
    "duration": 6,
    "start_time": "2021-12-31T03:58:48.468Z"
   },
   {
    "duration": 7,
    "start_time": "2021-12-31T04:04:36.043Z"
   },
   {
    "duration": 10,
    "start_time": "2021-12-31T04:08:01.067Z"
   },
   {
    "duration": 24,
    "start_time": "2021-12-31T04:08:23.653Z"
   },
   {
    "duration": 28,
    "start_time": "2021-12-31T04:08:37.732Z"
   },
   {
    "duration": 23,
    "start_time": "2021-12-31T04:09:46.672Z"
   },
   {
    "duration": 10,
    "start_time": "2021-12-31T04:15:40.279Z"
   },
   {
    "duration": 10,
    "start_time": "2021-12-31T04:15:52.901Z"
   },
   {
    "duration": 7,
    "start_time": "2021-12-31T04:16:12.751Z"
   },
   {
    "duration": 5442,
    "start_time": "2021-12-31T04:16:37.452Z"
   },
   {
    "duration": 11,
    "start_time": "2021-12-31T04:32:35.031Z"
   },
   {
    "duration": 9,
    "start_time": "2021-12-31T04:32:36.019Z"
   },
   {
    "duration": 5,
    "start_time": "2021-12-31T04:45:52.738Z"
   },
   {
    "duration": 359,
    "start_time": "2021-12-31T04:49:04.735Z"
   },
   {
    "duration": 4,
    "start_time": "2021-12-31T04:49:42.770Z"
   },
   {
    "duration": 364,
    "start_time": "2021-12-31T04:49:56.088Z"
   },
   {
    "duration": 5,
    "start_time": "2021-12-31T04:52:19.845Z"
   },
   {
    "duration": 419,
    "start_time": "2021-12-31T04:52:31.010Z"
   },
   {
    "duration": 4,
    "start_time": "2021-12-31T04:54:39.772Z"
   },
   {
    "duration": 351,
    "start_time": "2021-12-31T04:54:48.577Z"
   },
   {
    "duration": 5,
    "start_time": "2021-12-31T05:02:18.047Z"
   },
   {
    "duration": 359,
    "start_time": "2021-12-31T05:02:26.590Z"
   },
   {
    "duration": 4,
    "start_time": "2021-12-31T05:02:59.517Z"
   },
   {
    "duration": 73,
    "start_time": "2021-12-31T05:03:05.421Z"
   },
   {
    "duration": 26,
    "start_time": "2021-12-31T05:03:39.068Z"
   },
   {
    "duration": 106,
    "start_time": "2021-12-31T05:06:47.289Z"
   },
   {
    "duration": 22,
    "start_time": "2021-12-31T05:06:58.183Z"
   },
   {
    "duration": 102,
    "start_time": "2021-12-31T05:08:57.992Z"
   },
   {
    "duration": 16,
    "start_time": "2021-12-31T05:09:52.723Z"
   },
   {
    "duration": 15,
    "start_time": "2021-12-31T05:09:59.533Z"
   },
   {
    "duration": 7279,
    "start_time": "2022-01-02T04:07:28.636Z"
   },
   {
    "duration": 1140,
    "start_time": "2022-01-02T04:07:35.917Z"
   },
   {
    "duration": 58,
    "start_time": "2022-01-02T04:07:37.059Z"
   },
   {
    "duration": 4,
    "start_time": "2022-01-02T04:07:37.118Z"
   },
   {
    "duration": 12,
    "start_time": "2022-01-02T04:07:37.123Z"
   },
   {
    "duration": 5,
    "start_time": "2022-01-02T04:07:37.136Z"
   },
   {
    "duration": 3,
    "start_time": "2022-01-02T04:07:37.145Z"
   },
   {
    "duration": 6,
    "start_time": "2022-01-02T04:07:37.151Z"
   },
   {
    "duration": 19,
    "start_time": "2022-01-02T04:07:37.160Z"
   },
   {
    "duration": 19,
    "start_time": "2022-01-02T04:07:37.180Z"
   },
   {
    "duration": 29,
    "start_time": "2022-01-02T04:07:37.200Z"
   },
   {
    "duration": 5,
    "start_time": "2022-01-02T04:07:37.230Z"
   },
   {
    "duration": 19,
    "start_time": "2022-01-02T04:07:37.236Z"
   },
   {
    "duration": 5,
    "start_time": "2022-01-02T04:07:37.256Z"
   },
   {
    "duration": 4370,
    "start_time": "2022-01-02T04:07:37.263Z"
   },
   {
    "duration": 3,
    "start_time": "2022-01-02T04:07:41.634Z"
   },
   {
    "duration": 5,
    "start_time": "2022-01-02T04:07:41.638Z"
   },
   {
    "duration": 912,
    "start_time": "2022-01-02T04:07:41.644Z"
   },
   {
    "duration": -214,
    "start_time": "2022-01-02T04:07:42.772Z"
   },
   {
    "duration": -217,
    "start_time": "2022-01-02T04:07:42.776Z"
   },
   {
    "duration": -221,
    "start_time": "2022-01-02T04:07:42.781Z"
   },
   {
    "duration": -227,
    "start_time": "2022-01-02T04:07:42.788Z"
   },
   {
    "duration": -233,
    "start_time": "2022-01-02T04:07:42.794Z"
   },
   {
    "duration": -236,
    "start_time": "2022-01-02T04:07:42.798Z"
   },
   {
    "duration": -357,
    "start_time": "2022-01-02T04:07:42.920Z"
   },
   {
    "duration": -364,
    "start_time": "2022-01-02T04:07:42.928Z"
   },
   {
    "duration": -368,
    "start_time": "2022-01-02T04:07:42.933Z"
   },
   {
    "duration": -373,
    "start_time": "2022-01-02T04:07:42.939Z"
   },
   {
    "duration": -378,
    "start_time": "2022-01-02T04:07:42.944Z"
   },
   {
    "duration": -381,
    "start_time": "2022-01-02T04:07:42.949Z"
   },
   {
    "duration": -388,
    "start_time": "2022-01-02T04:07:42.957Z"
   },
   {
    "duration": -394,
    "start_time": "2022-01-02T04:07:42.963Z"
   },
   {
    "duration": -397,
    "start_time": "2022-01-02T04:07:42.967Z"
   },
   {
    "duration": -403,
    "start_time": "2022-01-02T04:07:42.974Z"
   },
   {
    "duration": -408,
    "start_time": "2022-01-02T04:07:42.980Z"
   },
   {
    "duration": -412,
    "start_time": "2022-01-02T04:07:42.984Z"
   },
   {
    "duration": 4517,
    "start_time": "2022-01-02T04:08:21.900Z"
   },
   {
    "duration": 2519,
    "start_time": "2022-01-02T04:09:21.427Z"
   },
   {
    "duration": 1101,
    "start_time": "2022-01-02T04:09:23.947Z"
   },
   {
    "duration": 17,
    "start_time": "2022-01-02T04:09:25.050Z"
   },
   {
    "duration": 3,
    "start_time": "2022-01-02T04:09:25.069Z"
   },
   {
    "duration": 14,
    "start_time": "2022-01-02T04:09:25.074Z"
   },
   {
    "duration": 6,
    "start_time": "2022-01-02T04:09:25.089Z"
   },
   {
    "duration": 5,
    "start_time": "2022-01-02T04:09:25.096Z"
   },
   {
    "duration": 6,
    "start_time": "2022-01-02T04:09:25.102Z"
   },
   {
    "duration": 26,
    "start_time": "2022-01-02T04:09:25.111Z"
   },
   {
    "duration": 18,
    "start_time": "2022-01-02T04:09:25.138Z"
   },
   {
    "duration": 4,
    "start_time": "2022-01-02T04:09:25.157Z"
   },
   {
    "duration": 5,
    "start_time": "2022-01-02T04:09:25.162Z"
   },
   {
    "duration": 20,
    "start_time": "2022-01-02T04:09:25.168Z"
   },
   {
    "duration": 6,
    "start_time": "2022-01-02T04:09:25.189Z"
   },
   {
    "duration": 4431,
    "start_time": "2022-01-02T04:09:25.197Z"
   },
   {
    "duration": 2,
    "start_time": "2022-01-02T04:09:29.629Z"
   },
   {
    "duration": 5,
    "start_time": "2022-01-02T04:09:29.633Z"
   },
   {
    "duration": 395,
    "start_time": "2022-01-02T04:09:29.639Z"
   },
   {
    "duration": -97,
    "start_time": "2022-01-02T04:09:30.133Z"
   },
   {
    "duration": -105,
    "start_time": "2022-01-02T04:09:30.142Z"
   },
   {
    "duration": -109,
    "start_time": "2022-01-02T04:09:30.147Z"
   },
   {
    "duration": -117,
    "start_time": "2022-01-02T04:09:30.156Z"
   },
   {
    "duration": -122,
    "start_time": "2022-01-02T04:09:30.162Z"
   },
   {
    "duration": -127,
    "start_time": "2022-01-02T04:09:30.168Z"
   },
   {
    "duration": -133,
    "start_time": "2022-01-02T04:09:30.175Z"
   },
   {
    "duration": -138,
    "start_time": "2022-01-02T04:09:30.181Z"
   },
   {
    "duration": -145,
    "start_time": "2022-01-02T04:09:30.189Z"
   },
   {
    "duration": -151,
    "start_time": "2022-01-02T04:09:30.195Z"
   },
   {
    "duration": -155,
    "start_time": "2022-01-02T04:09:30.200Z"
   },
   {
    "duration": -162,
    "start_time": "2022-01-02T04:09:30.208Z"
   },
   {
    "duration": -166,
    "start_time": "2022-01-02T04:09:30.213Z"
   },
   {
    "duration": -170,
    "start_time": "2022-01-02T04:09:30.218Z"
   },
   {
    "duration": -178,
    "start_time": "2022-01-02T04:09:30.227Z"
   },
   {
    "duration": -182,
    "start_time": "2022-01-02T04:09:30.232Z"
   },
   {
    "duration": -189,
    "start_time": "2022-01-02T04:09:30.240Z"
   },
   {
    "duration": -194,
    "start_time": "2022-01-02T04:09:30.246Z"
   },
   {
    "duration": -203,
    "start_time": "2022-01-02T04:09:30.255Z"
   },
   {
    "duration": 9,
    "start_time": "2022-01-02T04:11:07.812Z"
   },
   {
    "duration": 11,
    "start_time": "2022-01-02T04:11:09.944Z"
   },
   {
    "duration": 749,
    "start_time": "2022-01-02T04:15:00.516Z"
   },
   {
    "duration": 4,
    "start_time": "2022-01-02T04:16:09.660Z"
   },
   {
    "duration": 10,
    "start_time": "2022-01-02T04:16:15.255Z"
   },
   {
    "duration": 8,
    "start_time": "2022-01-02T04:16:16.218Z"
   },
   {
    "duration": 17,
    "start_time": "2022-01-02T04:16:21.747Z"
   },
   {
    "duration": 16,
    "start_time": "2022-01-02T04:18:07.377Z"
   },
   {
    "duration": 16,
    "start_time": "2022-01-02T04:18:08.587Z"
   },
   {
    "duration": 15,
    "start_time": "2022-01-02T04:18:09.304Z"
   },
   {
    "duration": 4,
    "start_time": "2022-01-02T04:20:22.403Z"
   },
   {
    "duration": 10,
    "start_time": "2022-01-02T04:20:31.788Z"
   },
   {
    "duration": 9,
    "start_time": "2022-01-02T04:20:32.325Z"
   },
   {
    "duration": 16,
    "start_time": "2022-01-02T04:20:34.183Z"
   },
   {
    "duration": 8,
    "start_time": "2022-01-02T04:21:20.214Z"
   },
   {
    "duration": 8182,
    "start_time": "2022-01-02T04:22:06.009Z"
   },
   {
    "duration": 5,
    "start_time": "2022-01-02T04:22:21.868Z"
   },
   {
    "duration": 18,
    "start_time": "2022-01-02T04:23:23.430Z"
   },
   {
    "duration": 17,
    "start_time": "2022-01-02T04:24:56.343Z"
   },
   {
    "duration": 9865,
    "start_time": "2022-01-05T20:08:26.176Z"
   },
   {
    "duration": 1574,
    "start_time": "2022-01-05T20:08:36.045Z"
   },
   {
    "duration": 27,
    "start_time": "2022-01-05T20:08:37.622Z"
   },
   {
    "duration": 6,
    "start_time": "2022-01-05T20:08:37.652Z"
   },
   {
    "duration": 17,
    "start_time": "2022-01-05T20:08:37.660Z"
   },
   {
    "duration": 21,
    "start_time": "2022-01-05T20:08:37.680Z"
   },
   {
    "duration": 9,
    "start_time": "2022-01-05T20:08:37.704Z"
   },
   {
    "duration": 13,
    "start_time": "2022-01-05T20:08:37.716Z"
   },
   {
    "duration": 54,
    "start_time": "2022-01-05T20:08:37.732Z"
   },
   {
    "duration": 34,
    "start_time": "2022-01-05T20:08:37.788Z"
   },
   {
    "duration": 7,
    "start_time": "2022-01-05T20:08:37.825Z"
   },
   {
    "duration": 9,
    "start_time": "2022-01-05T20:08:37.863Z"
   },
   {
    "duration": 47,
    "start_time": "2022-01-05T20:08:37.874Z"
   },
   {
    "duration": 9,
    "start_time": "2022-01-05T20:08:37.924Z"
   },
   {
    "duration": 8675,
    "start_time": "2022-01-05T20:08:37.935Z"
   },
   {
    "duration": 3,
    "start_time": "2022-01-05T20:08:46.613Z"
   },
   {
    "duration": 7,
    "start_time": "2022-01-05T20:08:46.618Z"
   },
   {
    "duration": 427,
    "start_time": "2022-01-05T20:08:46.627Z"
   },
   {
    "duration": -269,
    "start_time": "2022-01-05T20:08:47.327Z"
   },
   {
    "duration": -273,
    "start_time": "2022-01-05T20:08:47.332Z"
   },
   {
    "duration": -279,
    "start_time": "2022-01-05T20:08:47.340Z"
   },
   {
    "duration": -284,
    "start_time": "2022-01-05T20:08:47.346Z"
   },
   {
    "duration": -287,
    "start_time": "2022-01-05T20:08:47.350Z"
   },
   {
    "duration": -294,
    "start_time": "2022-01-05T20:08:47.359Z"
   },
   {
    "duration": -296,
    "start_time": "2022-01-05T20:08:47.363Z"
   },
   {
    "duration": -301,
    "start_time": "2022-01-05T20:08:47.369Z"
   },
   {
    "duration": -307,
    "start_time": "2022-01-05T20:08:47.377Z"
   },
   {
    "duration": -310,
    "start_time": "2022-01-05T20:08:47.382Z"
   },
   {
    "duration": -316,
    "start_time": "2022-01-05T20:08:47.389Z"
   },
   {
    "duration": -319,
    "start_time": "2022-01-05T20:08:47.394Z"
   },
   {
    "duration": -322,
    "start_time": "2022-01-05T20:08:47.399Z"
   },
   {
    "duration": -329,
    "start_time": "2022-01-05T20:08:47.407Z"
   },
   {
    "duration": -332,
    "start_time": "2022-01-05T20:08:47.412Z"
   },
   {
    "duration": -336,
    "start_time": "2022-01-05T20:08:47.418Z"
   },
   {
    "duration": -343,
    "start_time": "2022-01-05T20:08:47.426Z"
   },
   {
    "duration": -347,
    "start_time": "2022-01-05T20:08:47.431Z"
   },
   {
    "duration": -352,
    "start_time": "2022-01-05T20:08:47.439Z"
   },
   {
    "duration": -356,
    "start_time": "2022-01-05T20:08:47.444Z"
   },
   {
    "duration": -360,
    "start_time": "2022-01-05T20:08:47.449Z"
   },
   {
    "duration": -366,
    "start_time": "2022-01-05T20:08:47.457Z"
   },
   {
    "duration": 16,
    "start_time": "2022-01-05T20:09:36.321Z"
   },
   {
    "duration": 29,
    "start_time": "2022-01-05T20:09:37.499Z"
   },
   {
    "duration": 29,
    "start_time": "2022-01-05T20:09:49.255Z"
   },
   {
    "duration": 3990,
    "start_time": "2022-01-05T20:10:47.376Z"
   },
   {
    "duration": 1556,
    "start_time": "2022-01-05T20:10:51.368Z"
   },
   {
    "duration": 21,
    "start_time": "2022-01-05T20:10:52.927Z"
   },
   {
    "duration": 5,
    "start_time": "2022-01-05T20:10:52.951Z"
   },
   {
    "duration": 19,
    "start_time": "2022-01-05T20:10:52.962Z"
   },
   {
    "duration": 9,
    "start_time": "2022-01-05T20:10:52.983Z"
   },
   {
    "duration": 6,
    "start_time": "2022-01-05T20:10:52.995Z"
   },
   {
    "duration": 9,
    "start_time": "2022-01-05T20:10:53.004Z"
   },
   {
    "duration": 75,
    "start_time": "2022-01-05T20:10:53.016Z"
   },
   {
    "duration": 35,
    "start_time": "2022-01-05T20:10:53.093Z"
   },
   {
    "duration": 6,
    "start_time": "2022-01-05T20:10:53.131Z"
   },
   {
    "duration": 7,
    "start_time": "2022-01-05T20:10:53.164Z"
   },
   {
    "duration": 34,
    "start_time": "2022-01-05T20:10:53.174Z"
   },
   {
    "duration": 5,
    "start_time": "2022-01-05T20:10:53.211Z"
   },
   {
    "duration": 8557,
    "start_time": "2022-01-05T20:10:53.218Z"
   },
   {
    "duration": 5,
    "start_time": "2022-01-05T20:11:01.778Z"
   },
   {
    "duration": 15,
    "start_time": "2022-01-05T20:11:01.787Z"
   },
   {
    "duration": 30,
    "start_time": "2022-01-05T20:11:01.805Z"
   },
   {
    "duration": 49,
    "start_time": "2022-01-05T20:11:01.838Z"
   },
   {
    "duration": 446,
    "start_time": "2022-01-05T20:11:01.890Z"
   },
   {
    "duration": -195,
    "start_time": "2022-01-05T20:11:02.535Z"
   },
   {
    "duration": -213,
    "start_time": "2022-01-05T20:11:02.554Z"
   },
   {
    "duration": -219,
    "start_time": "2022-01-05T20:11:02.562Z"
   },
   {
    "duration": -222,
    "start_time": "2022-01-05T20:11:02.566Z"
   },
   {
    "duration": -229,
    "start_time": "2022-01-05T20:11:02.574Z"
   },
   {
    "duration": -233,
    "start_time": "2022-01-05T20:11:02.580Z"
   },
   {
    "duration": -238,
    "start_time": "2022-01-05T20:11:02.586Z"
   },
   {
    "duration": -244,
    "start_time": "2022-01-05T20:11:02.594Z"
   },
   {
    "duration": -247,
    "start_time": "2022-01-05T20:11:02.598Z"
   },
   {
    "duration": -251,
    "start_time": "2022-01-05T20:11:02.603Z"
   },
   {
    "duration": -259,
    "start_time": "2022-01-05T20:11:02.612Z"
   },
   {
    "duration": -263,
    "start_time": "2022-01-05T20:11:02.618Z"
   },
   {
    "duration": -269,
    "start_time": "2022-01-05T20:11:02.625Z"
   },
   {
    "duration": -274,
    "start_time": "2022-01-05T20:11:02.631Z"
   },
   {
    "duration": -276,
    "start_time": "2022-01-05T20:11:02.635Z"
   },
   {
    "duration": -284,
    "start_time": "2022-01-05T20:11:02.644Z"
   },
   {
    "duration": -288,
    "start_time": "2022-01-05T20:11:02.649Z"
   },
   {
    "duration": -291,
    "start_time": "2022-01-05T20:11:02.654Z"
   },
   {
    "duration": -298,
    "start_time": "2022-01-05T20:11:02.662Z"
   },
   {
    "duration": -302,
    "start_time": "2022-01-05T20:11:02.667Z"
   },
   {
    "duration": -307,
    "start_time": "2022-01-05T20:11:02.674Z"
   },
   {
    "duration": 12,
    "start_time": "2022-01-05T20:14:19.790Z"
   },
   {
    "duration": 8577,
    "start_time": "2022-01-05T20:14:41.286Z"
   },
   {
    "duration": 9,
    "start_time": "2022-01-05T20:15:00.358Z"
   },
   {
    "duration": 9156,
    "start_time": "2022-01-05T20:15:03.978Z"
   },
   {
    "duration": 4,
    "start_time": "2022-01-05T20:15:31.767Z"
   },
   {
    "duration": 6,
    "start_time": "2022-01-05T20:15:32.635Z"
   },
   {
    "duration": 16,
    "start_time": "2022-01-05T20:15:40.313Z"
   },
   {
    "duration": 29,
    "start_time": "2022-01-05T20:15:40.332Z"
   },
   {
    "duration": 5,
    "start_time": "2022-01-05T20:16:22.110Z"
   },
   {
    "duration": 5,
    "start_time": "2022-01-05T20:16:39.743Z"
   },
   {
    "duration": 4330,
    "start_time": "2022-01-05T20:24:18.500Z"
   },
   {
    "duration": 1577,
    "start_time": "2022-01-05T20:24:22.833Z"
   },
   {
    "duration": 20,
    "start_time": "2022-01-05T20:24:24.413Z"
   },
   {
    "duration": 6,
    "start_time": "2022-01-05T20:24:24.437Z"
   },
   {
    "duration": 32,
    "start_time": "2022-01-05T20:24:24.445Z"
   },
   {
    "duration": 9,
    "start_time": "2022-01-05T20:24:24.479Z"
   },
   {
    "duration": 6,
    "start_time": "2022-01-05T20:24:24.491Z"
   },
   {
    "duration": 9,
    "start_time": "2022-01-05T20:24:24.501Z"
   },
   {
    "duration": 79,
    "start_time": "2022-01-05T20:24:24.513Z"
   },
   {
    "duration": 36,
    "start_time": "2022-01-05T20:24:24.594Z"
   },
   {
    "duration": 35,
    "start_time": "2022-01-05T20:24:24.633Z"
   },
   {
    "duration": 8426,
    "start_time": "2022-01-05T20:24:24.671Z"
   },
   {
    "duration": 4,
    "start_time": "2022-01-05T20:24:33.100Z"
   },
   {
    "duration": 9,
    "start_time": "2022-01-05T20:24:33.107Z"
   },
   {
    "duration": 9,
    "start_time": "2022-01-05T20:24:33.119Z"
   },
   {
    "duration": 53,
    "start_time": "2022-01-05T20:24:33.132Z"
   },
   {
    "duration": 7,
    "start_time": "2022-01-05T20:24:33.188Z"
   },
   {
    "duration": 65,
    "start_time": "2022-01-05T20:24:33.198Z"
   },
   {
    "duration": 736,
    "start_time": "2022-01-05T20:24:33.267Z"
   },
   {
    "duration": -99,
    "start_time": "2022-01-05T20:24:34.108Z"
   },
   {
    "duration": -104,
    "start_time": "2022-01-05T20:24:34.115Z"
   },
   {
    "duration": -111,
    "start_time": "2022-01-05T20:24:34.124Z"
   },
   {
    "duration": -114,
    "start_time": "2022-01-05T20:24:34.129Z"
   },
   {
    "duration": -117,
    "start_time": "2022-01-05T20:24:34.134Z"
   },
   {
    "duration": -124,
    "start_time": "2022-01-05T20:24:34.143Z"
   },
   {
    "duration": -126,
    "start_time": "2022-01-05T20:24:34.148Z"
   },
   {
    "duration": -133,
    "start_time": "2022-01-05T20:24:34.157Z"
   },
   {
    "duration": -136,
    "start_time": "2022-01-05T20:24:34.162Z"
   },
   {
    "duration": -139,
    "start_time": "2022-01-05T20:24:34.167Z"
   },
   {
    "duration": -202,
    "start_time": "2022-01-05T20:24:34.232Z"
   },
   {
    "duration": -209,
    "start_time": "2022-01-05T20:24:34.241Z"
   },
   {
    "duration": -215,
    "start_time": "2022-01-05T20:24:34.249Z"
   },
   {
    "duration": -222,
    "start_time": "2022-01-05T20:24:34.258Z"
   },
   {
    "duration": -225,
    "start_time": "2022-01-05T20:24:34.263Z"
   },
   {
    "duration": -229,
    "start_time": "2022-01-05T20:24:34.269Z"
   },
   {
    "duration": -239,
    "start_time": "2022-01-05T20:24:34.281Z"
   },
   {
    "duration": -243,
    "start_time": "2022-01-05T20:24:34.287Z"
   },
   {
    "duration": -251,
    "start_time": "2022-01-05T20:24:34.296Z"
   },
   {
    "duration": -254,
    "start_time": "2022-01-05T20:24:34.301Z"
   },
   {
    "duration": -249,
    "start_time": "2022-01-05T20:24:34.311Z"
   },
   {
    "duration": 3982,
    "start_time": "2022-01-05T20:29:31.964Z"
   },
   {
    "duration": 1583,
    "start_time": "2022-01-05T20:29:35.950Z"
   },
   {
    "duration": 23,
    "start_time": "2022-01-05T20:29:37.536Z"
   },
   {
    "duration": 7,
    "start_time": "2022-01-05T20:29:37.562Z"
   },
   {
    "duration": 18,
    "start_time": "2022-01-05T20:29:37.571Z"
   },
   {
    "duration": 10,
    "start_time": "2022-01-05T20:29:37.591Z"
   },
   {
    "duration": 5,
    "start_time": "2022-01-05T20:29:37.603Z"
   },
   {
    "duration": 8,
    "start_time": "2022-01-05T20:29:37.612Z"
   },
   {
    "duration": 34,
    "start_time": "2022-01-05T20:29:37.663Z"
   },
   {
    "duration": 35,
    "start_time": "2022-01-05T20:29:37.700Z"
   },
   {
    "duration": 31,
    "start_time": "2022-01-05T20:29:37.737Z"
   },
   {
    "duration": 3,
    "start_time": "2022-01-05T20:29:37.771Z"
   },
   {
    "duration": 8489,
    "start_time": "2022-01-05T20:29:37.777Z"
   },
   {
    "duration": 3,
    "start_time": "2022-01-05T20:29:46.268Z"
   },
   {
    "duration": 8,
    "start_time": "2022-01-05T20:29:46.273Z"
   },
   {
    "duration": 17,
    "start_time": "2022-01-05T20:29:46.283Z"
   },
   {
    "duration": 26,
    "start_time": "2022-01-05T20:29:46.302Z"
   },
   {
    "duration": 15,
    "start_time": "2022-01-05T20:29:46.362Z"
   },
   {
    "duration": 13,
    "start_time": "2022-01-05T20:29:46.380Z"
   },
   {
    "duration": 9,
    "start_time": "2022-01-05T20:29:46.395Z"
   },
   {
    "duration": 63,
    "start_time": "2022-01-05T20:29:46.406Z"
   },
   {
    "duration": 5,
    "start_time": "2022-01-05T20:29:46.471Z"
   },
   {
    "duration": 26,
    "start_time": "2022-01-05T20:29:46.481Z"
   },
   {
    "duration": 58,
    "start_time": "2022-01-05T20:29:46.510Z"
   },
   {
    "duration": 25,
    "start_time": "2022-01-05T20:29:46.570Z"
   },
   {
    "duration": 478,
    "start_time": "2022-01-05T20:29:46.598Z"
   },
   {
    "duration": -1778,
    "start_time": "2022-01-05T20:29:48.856Z"
   },
   {
    "duration": -1783,
    "start_time": "2022-01-05T20:29:48.862Z"
   },
   {
    "duration": -1791,
    "start_time": "2022-01-05T20:29:48.872Z"
   },
   {
    "duration": -1795,
    "start_time": "2022-01-05T20:29:48.877Z"
   },
   {
    "duration": -1803,
    "start_time": "2022-01-05T20:29:48.887Z"
   },
   {
    "duration": -1808,
    "start_time": "2022-01-05T20:29:48.893Z"
   },
   {
    "duration": -1810,
    "start_time": "2022-01-05T20:29:48.897Z"
   },
   {
    "duration": -1819,
    "start_time": "2022-01-05T20:29:48.907Z"
   },
   {
    "duration": -1823,
    "start_time": "2022-01-05T20:29:48.913Z"
   },
   {
    "duration": -1831,
    "start_time": "2022-01-05T20:29:48.922Z"
   },
   {
    "duration": -1836,
    "start_time": "2022-01-05T20:29:48.928Z"
   },
   {
    "duration": 28,
    "start_time": "2022-01-05T20:32:57.685Z"
   },
   {
    "duration": 917,
    "start_time": "2022-01-05T20:35:24.384Z"
   },
   {
    "duration": 26,
    "start_time": "2022-01-05T20:35:38.761Z"
   },
   {
    "duration": 26,
    "start_time": "2022-01-05T20:35:46.966Z"
   },
   {
    "duration": 25,
    "start_time": "2022-01-05T20:37:20.903Z"
   },
   {
    "duration": 8,
    "start_time": "2022-01-05T20:38:27.831Z"
   },
   {
    "duration": 9,
    "start_time": "2022-01-05T20:51:32.793Z"
   },
   {
    "duration": 26,
    "start_time": "2022-01-05T20:51:41.706Z"
   },
   {
    "duration": 8,
    "start_time": "2022-01-05T20:51:56.559Z"
   },
   {
    "duration": 26,
    "start_time": "2022-01-05T20:52:42.601Z"
   },
   {
    "duration": 8,
    "start_time": "2022-01-05T20:53:10.155Z"
   },
   {
    "duration": 25,
    "start_time": "2022-01-05T21:08:51.065Z"
   },
   {
    "duration": 28,
    "start_time": "2022-01-05T21:08:57.010Z"
   },
   {
    "duration": 3839,
    "start_time": "2022-01-05T21:09:23.431Z"
   },
   {
    "duration": 1531,
    "start_time": "2022-01-05T21:09:27.272Z"
   },
   {
    "duration": 22,
    "start_time": "2022-01-05T21:09:28.806Z"
   },
   {
    "duration": 5,
    "start_time": "2022-01-05T21:09:28.831Z"
   },
   {
    "duration": 27,
    "start_time": "2022-01-05T21:09:28.838Z"
   },
   {
    "duration": 10,
    "start_time": "2022-01-05T21:09:28.867Z"
   },
   {
    "duration": 5,
    "start_time": "2022-01-05T21:09:28.879Z"
   },
   {
    "duration": 9,
    "start_time": "2022-01-05T21:09:28.887Z"
   },
   {
    "duration": 71,
    "start_time": "2022-01-05T21:09:28.899Z"
   },
   {
    "duration": 34,
    "start_time": "2022-01-05T21:09:28.972Z"
   },
   {
    "duration": 6,
    "start_time": "2022-01-05T21:09:29.009Z"
   },
   {
    "duration": 5,
    "start_time": "2022-01-05T21:09:29.017Z"
   },
   {
    "duration": 8831,
    "start_time": "2022-01-05T21:09:29.024Z"
   },
   {
    "duration": 3,
    "start_time": "2022-01-05T21:09:37.862Z"
   },
   {
    "duration": 6,
    "start_time": "2022-01-05T21:09:37.868Z"
   },
   {
    "duration": 19,
    "start_time": "2022-01-05T21:09:37.876Z"
   },
   {
    "duration": 18,
    "start_time": "2022-01-05T21:09:37.897Z"
   },
   {
    "duration": 47,
    "start_time": "2022-01-05T21:09:37.918Z"
   },
   {
    "duration": 5,
    "start_time": "2022-01-05T21:09:37.967Z"
   },
   {
    "duration": 29,
    "start_time": "2022-01-05T21:09:37.975Z"
   },
   {
    "duration": 9,
    "start_time": "2022-01-05T21:09:38.007Z"
   },
   {
    "duration": 73,
    "start_time": "2022-01-05T21:09:38.019Z"
   },
   {
    "duration": 10,
    "start_time": "2022-01-05T21:09:38.098Z"
   },
   {
    "duration": 54,
    "start_time": "2022-01-05T21:09:38.111Z"
   },
   {
    "duration": 25,
    "start_time": "2022-01-05T21:09:38.168Z"
   },
   {
    "duration": 522,
    "start_time": "2022-01-05T21:09:38.196Z"
   },
   {
    "duration": -99,
    "start_time": "2022-01-05T21:09:38.820Z"
   },
   {
    "duration": -106,
    "start_time": "2022-01-05T21:09:38.829Z"
   },
   {
    "duration": -109,
    "start_time": "2022-01-05T21:09:38.834Z"
   },
   {
    "duration": -113,
    "start_time": "2022-01-05T21:09:38.840Z"
   },
   {
    "duration": -121,
    "start_time": "2022-01-05T21:09:38.849Z"
   },
   {
    "duration": -124,
    "start_time": "2022-01-05T21:09:38.853Z"
   },
   {
    "duration": -132,
    "start_time": "2022-01-05T21:09:38.863Z"
   },
   {
    "duration": -239,
    "start_time": "2022-01-05T21:09:38.971Z"
   },
   {
    "duration": -247,
    "start_time": "2022-01-05T21:09:38.980Z"
   },
   {
    "duration": -250,
    "start_time": "2022-01-05T21:09:38.985Z"
   },
   {
    "duration": -259,
    "start_time": "2022-01-05T21:09:38.996Z"
   },
   {
    "duration": 3860,
    "start_time": "2022-01-05T21:47:07.313Z"
   },
   {
    "duration": 1570,
    "start_time": "2022-01-05T21:47:11.176Z"
   },
   {
    "duration": 22,
    "start_time": "2022-01-05T21:47:12.749Z"
   },
   {
    "duration": 6,
    "start_time": "2022-01-05T21:47:12.773Z"
   },
   {
    "duration": 23,
    "start_time": "2022-01-05T21:47:12.781Z"
   },
   {
    "duration": 8,
    "start_time": "2022-01-05T21:47:12.806Z"
   },
   {
    "duration": 6,
    "start_time": "2022-01-05T21:47:12.816Z"
   },
   {
    "duration": 46,
    "start_time": "2022-01-05T21:47:12.826Z"
   },
   {
    "duration": 33,
    "start_time": "2022-01-05T21:47:12.875Z"
   },
   {
    "duration": 66,
    "start_time": "2022-01-05T21:47:12.911Z"
   },
   {
    "duration": 6,
    "start_time": "2022-01-05T21:47:12.980Z"
   },
   {
    "duration": 13,
    "start_time": "2022-01-05T21:47:12.989Z"
   },
   {
    "duration": 8663,
    "start_time": "2022-01-05T21:47:13.004Z"
   },
   {
    "duration": 5,
    "start_time": "2022-01-05T21:47:21.670Z"
   },
   {
    "duration": 10,
    "start_time": "2022-01-05T21:47:21.678Z"
   },
   {
    "duration": 18,
    "start_time": "2022-01-05T21:47:21.691Z"
   },
   {
    "duration": 58,
    "start_time": "2022-01-05T21:47:21.711Z"
   },
   {
    "duration": 9,
    "start_time": "2022-01-05T21:47:21.772Z"
   },
   {
    "duration": 6,
    "start_time": "2022-01-05T21:47:21.784Z"
   },
   {
    "duration": 28,
    "start_time": "2022-01-05T21:47:21.793Z"
   },
   {
    "duration": 10,
    "start_time": "2022-01-05T21:47:21.864Z"
   },
   {
    "duration": 29,
    "start_time": "2022-01-05T21:47:21.878Z"
   },
   {
    "duration": 8,
    "start_time": "2022-01-05T21:47:21.914Z"
   },
   {
    "duration": 27,
    "start_time": "2022-01-05T21:47:21.962Z"
   },
   {
    "duration": 27,
    "start_time": "2022-01-05T21:47:21.992Z"
   },
   {
    "duration": 473,
    "start_time": "2022-01-05T21:47:22.022Z"
   },
   {
    "duration": -101,
    "start_time": "2022-01-05T21:47:22.599Z"
   },
   {
    "duration": -105,
    "start_time": "2022-01-05T21:47:22.604Z"
   },
   {
    "duration": -109,
    "start_time": "2022-01-05T21:47:22.609Z"
   },
   {
    "duration": -111,
    "start_time": "2022-01-05T21:47:22.613Z"
   },
   {
    "duration": -114,
    "start_time": "2022-01-05T21:47:22.617Z"
   },
   {
    "duration": -289,
    "start_time": "2022-01-05T21:47:22.793Z"
   },
   {
    "duration": -635,
    "start_time": "2022-01-05T21:47:23.141Z"
   },
   {
    "duration": -820,
    "start_time": "2022-01-05T21:47:23.328Z"
   },
   {
    "duration": -824,
    "start_time": "2022-01-05T21:47:23.333Z"
   },
   {
    "duration": -829,
    "start_time": "2022-01-05T21:47:23.339Z"
   },
   {
    "duration": -832,
    "start_time": "2022-01-05T21:47:23.344Z"
   },
   {
    "duration": 27,
    "start_time": "2022-01-05T21:51:37.399Z"
   },
   {
    "duration": 27,
    "start_time": "2022-01-05T21:51:40.774Z"
   },
   {
    "duration": 12166,
    "start_time": "2022-01-06T19:21:30.063Z"
   },
   {
    "duration": 2194,
    "start_time": "2022-01-06T19:21:42.233Z"
   },
   {
    "duration": 80,
    "start_time": "2022-01-06T19:21:50.895Z"
   },
   {
    "duration": 6,
    "start_time": "2022-01-06T19:21:54.300Z"
   },
   {
    "duration": 3,
    "start_time": "2022-01-06T19:21:56.160Z"
   },
   {
    "duration": 9,
    "start_time": "2022-01-06T19:21:58.264Z"
   },
   {
    "duration": 3,
    "start_time": "2022-01-06T19:21:59.744Z"
   },
   {
    "duration": 2,
    "start_time": "2022-01-06T19:22:01.371Z"
   },
   {
    "duration": 41,
    "start_time": "2022-01-06T19:22:04.008Z"
   },
   {
    "duration": 3,
    "start_time": "2022-01-06T19:22:08.439Z"
   },
   {
    "duration": 8,
    "start_time": "2022-01-06T19:22:13.500Z"
   },
   {
    "duration": 535,
    "start_time": "2022-01-06T19:22:14.738Z"
   },
   {
    "duration": 8094,
    "start_time": "2022-01-06T19:22:20.200Z"
   },
   {
    "duration": 33,
    "start_time": "2022-01-06T19:23:25.089Z"
   },
   {
    "duration": 12,
    "start_time": "2022-01-06T19:23:54.436Z"
   },
   {
    "duration": 9,
    "start_time": "2022-01-06T19:23:55.002Z"
   },
   {
    "duration": 5,
    "start_time": "2022-01-06T19:23:55.904Z"
   },
   {
    "duration": 9,
    "start_time": "2022-01-06T19:23:56.759Z"
   },
   {
    "duration": 35,
    "start_time": "2022-01-06T19:23:58.031Z"
   },
   {
    "duration": 36,
    "start_time": "2022-01-06T19:24:00.434Z"
   },
   {
    "duration": 7,
    "start_time": "2022-01-06T19:24:03.472Z"
   },
   {
    "duration": 3,
    "start_time": "2022-01-06T19:24:04.885Z"
   },
   {
    "duration": 8235,
    "start_time": "2022-01-06T19:24:08.878Z"
   },
   {
    "duration": 3751,
    "start_time": "2022-01-06T19:25:31.861Z"
   },
   {
    "duration": 2528,
    "start_time": "2022-01-06T19:25:35.615Z"
   },
   {
    "duration": 18,
    "start_time": "2022-01-06T19:25:38.145Z"
   },
   {
    "duration": 5,
    "start_time": "2022-01-06T19:25:38.166Z"
   },
   {
    "duration": 8052,
    "start_time": "2022-01-06T19:25:38.174Z"
   },
   {
    "duration": 440,
    "start_time": "2022-01-06T19:25:46.228Z"
   },
   {
    "duration": -109,
    "start_time": "2022-01-06T19:25:46.781Z"
   },
   {
    "duration": -112,
    "start_time": "2022-01-06T19:25:46.785Z"
   },
   {
    "duration": -116,
    "start_time": "2022-01-06T19:25:46.790Z"
   },
   {
    "duration": -123,
    "start_time": "2022-01-06T19:25:46.798Z"
   },
   {
    "duration": -125,
    "start_time": "2022-01-06T19:25:46.802Z"
   },
   {
    "duration": -132,
    "start_time": "2022-01-06T19:25:46.810Z"
   },
   {
    "duration": -135,
    "start_time": "2022-01-06T19:25:46.815Z"
   },
   {
    "duration": -236,
    "start_time": "2022-01-06T19:25:46.917Z"
   },
   {
    "duration": -252,
    "start_time": "2022-01-06T19:25:46.934Z"
   },
   {
    "duration": -256,
    "start_time": "2022-01-06T19:25:46.940Z"
   },
   {
    "duration": -264,
    "start_time": "2022-01-06T19:25:46.949Z"
   },
   {
    "duration": -267,
    "start_time": "2022-01-06T19:25:46.954Z"
   },
   {
    "duration": -274,
    "start_time": "2022-01-06T19:25:46.962Z"
   },
   {
    "duration": -277,
    "start_time": "2022-01-06T19:25:46.966Z"
   },
   {
    "duration": -291,
    "start_time": "2022-01-06T19:25:46.981Z"
   },
   {
    "duration": -303,
    "start_time": "2022-01-06T19:25:46.995Z"
   },
   {
    "duration": -307,
    "start_time": "2022-01-06T19:25:47.000Z"
   },
   {
    "duration": -310,
    "start_time": "2022-01-06T19:25:47.004Z"
   },
   {
    "duration": -316,
    "start_time": "2022-01-06T19:25:47.011Z"
   },
   {
    "duration": -382,
    "start_time": "2022-01-06T19:25:47.078Z"
   },
   {
    "duration": -387,
    "start_time": "2022-01-06T19:25:47.085Z"
   },
   {
    "duration": -391,
    "start_time": "2022-01-06T19:25:47.090Z"
   },
   {
    "duration": -396,
    "start_time": "2022-01-06T19:25:47.096Z"
   },
   {
    "duration": -401,
    "start_time": "2022-01-06T19:25:47.102Z"
   },
   {
    "duration": -405,
    "start_time": "2022-01-06T19:25:47.107Z"
   },
   {
    "duration": -410,
    "start_time": "2022-01-06T19:25:47.113Z"
   },
   {
    "duration": -413,
    "start_time": "2022-01-06T19:25:47.118Z"
   },
   {
    "duration": -417,
    "start_time": "2022-01-06T19:25:47.123Z"
   },
   {
    "duration": -436,
    "start_time": "2022-01-06T19:25:47.143Z"
   },
   {
    "duration": -440,
    "start_time": "2022-01-06T19:25:47.148Z"
   },
   {
    "duration": -444,
    "start_time": "2022-01-06T19:25:47.153Z"
   },
   {
    "duration": -434,
    "start_time": "2022-01-06T19:25:47.157Z"
   },
   {
    "duration": 3828,
    "start_time": "2022-01-06T19:28:14.383Z"
   },
   {
    "duration": 1525,
    "start_time": "2022-01-06T19:28:18.214Z"
   },
   {
    "duration": 16,
    "start_time": "2022-01-06T19:28:19.742Z"
   },
   {
    "duration": 6,
    "start_time": "2022-01-06T19:28:19.761Z"
   },
   {
    "duration": 18,
    "start_time": "2022-01-06T19:28:19.769Z"
   },
   {
    "duration": 9,
    "start_time": "2022-01-06T19:28:19.789Z"
   },
   {
    "duration": 5,
    "start_time": "2022-01-06T19:28:19.824Z"
   },
   {
    "duration": 10,
    "start_time": "2022-01-06T19:28:19.831Z"
   },
   {
    "duration": 35,
    "start_time": "2022-01-06T19:28:19.846Z"
   },
   {
    "duration": 69,
    "start_time": "2022-01-06T19:28:19.884Z"
   },
   {
    "duration": 7,
    "start_time": "2022-01-06T19:28:19.956Z"
   },
   {
    "duration": 4,
    "start_time": "2022-01-06T19:28:19.965Z"
   },
   {
    "duration": 5,
    "start_time": "2022-01-06T19:28:19.971Z"
   },
   {
    "duration": 8400,
    "start_time": "2022-01-06T19:28:19.978Z"
   },
   {
    "duration": 4,
    "start_time": "2022-01-06T19:28:28.381Z"
   },
   {
    "duration": 9,
    "start_time": "2022-01-06T19:28:28.387Z"
   },
   {
    "duration": 38,
    "start_time": "2022-01-06T19:28:28.398Z"
   },
   {
    "duration": 13,
    "start_time": "2022-01-06T19:28:28.438Z"
   },
   {
    "duration": 8,
    "start_time": "2022-01-06T19:28:28.453Z"
   },
   {
    "duration": 23,
    "start_time": "2022-01-06T19:28:28.463Z"
   },
   {
    "duration": 7,
    "start_time": "2022-01-06T19:28:28.524Z"
   },
   {
    "duration": 28,
    "start_time": "2022-01-06T19:28:28.534Z"
   },
   {
    "duration": 7,
    "start_time": "2022-01-06T19:28:28.565Z"
   },
   {
    "duration": 60,
    "start_time": "2022-01-06T19:28:28.575Z"
   },
   {
    "duration": 23,
    "start_time": "2022-01-06T19:28:28.638Z"
   },
   {
    "duration": 436,
    "start_time": "2022-01-06T19:28:28.663Z"
   },
   {
    "duration": -92,
    "start_time": "2022-01-06T19:28:29.193Z"
   },
   {
    "duration": -98,
    "start_time": "2022-01-06T19:28:29.201Z"
   },
   {
    "duration": -102,
    "start_time": "2022-01-06T19:28:29.206Z"
   },
   {
    "duration": -106,
    "start_time": "2022-01-06T19:28:29.211Z"
   },
   {
    "duration": -112,
    "start_time": "2022-01-06T19:28:29.219Z"
   },
   {
    "duration": -116,
    "start_time": "2022-01-06T19:28:29.224Z"
   },
   {
    "duration": -119,
    "start_time": "2022-01-06T19:28:29.229Z"
   },
   {
    "duration": -126,
    "start_time": "2022-01-06T19:28:29.237Z"
   },
   {
    "duration": -130,
    "start_time": "2022-01-06T19:28:29.242Z"
   },
   {
    "duration": -136,
    "start_time": "2022-01-06T19:28:29.250Z"
   },
   {
    "duration": -139,
    "start_time": "2022-01-06T19:28:29.254Z"
   },
   {
    "duration": 8694,
    "start_time": "2022-01-06T19:29:26.596Z"
   },
   {
    "duration": 12573,
    "start_time": "2022-01-09T15:23:19.383Z"
   },
   {
    "duration": 2066,
    "start_time": "2022-01-09T15:23:31.960Z"
   },
   {
    "duration": 21,
    "start_time": "2022-01-09T15:23:34.031Z"
   },
   {
    "duration": 7,
    "start_time": "2022-01-09T15:23:34.055Z"
   },
   {
    "duration": 26,
    "start_time": "2022-01-09T15:23:34.065Z"
   },
   {
    "duration": 30,
    "start_time": "2022-01-09T15:23:34.094Z"
   },
   {
    "duration": 8,
    "start_time": "2022-01-09T15:23:34.126Z"
   },
   {
    "duration": 8,
    "start_time": "2022-01-09T15:23:34.137Z"
   },
   {
    "duration": 33,
    "start_time": "2022-01-09T15:23:34.149Z"
   },
   {
    "duration": 70,
    "start_time": "2022-01-09T15:23:34.185Z"
   },
   {
    "duration": 7,
    "start_time": "2022-01-09T15:23:34.257Z"
   },
   {
    "duration": 10,
    "start_time": "2022-01-09T15:23:34.267Z"
   },
   {
    "duration": 8215,
    "start_time": "2022-01-09T15:23:34.279Z"
   },
   {
    "duration": 4,
    "start_time": "2022-01-09T15:23:42.496Z"
   },
   {
    "duration": 21,
    "start_time": "2022-01-09T15:23:42.502Z"
   },
   {
    "duration": 18,
    "start_time": "2022-01-09T15:23:42.526Z"
   },
   {
    "duration": 13,
    "start_time": "2022-01-09T15:23:42.547Z"
   },
   {
    "duration": 11,
    "start_time": "2022-01-09T15:23:42.562Z"
   },
   {
    "duration": 53,
    "start_time": "2022-01-09T15:23:42.575Z"
   },
   {
    "duration": 7,
    "start_time": "2022-01-09T15:23:42.631Z"
   },
   {
    "duration": 25,
    "start_time": "2022-01-09T15:23:42.640Z"
   },
   {
    "duration": 10,
    "start_time": "2022-01-09T15:23:42.667Z"
   },
   {
    "duration": 59,
    "start_time": "2022-01-09T15:23:42.683Z"
   },
   {
    "duration": 36,
    "start_time": "2022-01-09T15:23:42.745Z"
   },
   {
    "duration": 565,
    "start_time": "2022-01-09T15:23:42.785Z"
   },
   {
    "duration": -99,
    "start_time": "2022-01-09T15:23:43.453Z"
   },
   {
    "duration": -109,
    "start_time": "2022-01-09T15:23:43.465Z"
   },
   {
    "duration": -113,
    "start_time": "2022-01-09T15:23:43.471Z"
   },
   {
    "duration": -122,
    "start_time": "2022-01-09T15:23:43.482Z"
   },
   {
    "duration": -125,
    "start_time": "2022-01-09T15:23:43.487Z"
   },
   {
    "duration": -133,
    "start_time": "2022-01-09T15:23:43.497Z"
   },
   {
    "duration": -235,
    "start_time": "2022-01-09T15:23:43.602Z"
   },
   {
    "duration": -243,
    "start_time": "2022-01-09T15:23:43.612Z"
   },
   {
    "duration": -245,
    "start_time": "2022-01-09T15:23:43.616Z"
   },
   {
    "duration": -254,
    "start_time": "2022-01-09T15:23:43.627Z"
   },
   {
    "duration": -257,
    "start_time": "2022-01-09T15:23:43.633Z"
   },
   {
    "duration": 5,
    "start_time": "2022-01-09T15:28:17.079Z"
   },
   {
    "duration": 8,
    "start_time": "2022-01-09T15:28:18.225Z"
   },
   {
    "duration": 6,
    "start_time": "2022-01-09T15:31:59.434Z"
   },
   {
    "duration": 4,
    "start_time": "2022-01-09T15:32:08.333Z"
   },
   {
    "duration": 5,
    "start_time": "2022-01-09T15:32:27.249Z"
   },
   {
    "duration": 281,
    "start_time": "2022-01-09T15:41:43.820Z"
   },
   {
    "duration": 6,
    "start_time": "2022-01-09T15:41:55.277Z"
   },
   {
    "duration": 296,
    "start_time": "2022-01-09T15:41:55.918Z"
   },
   {
    "duration": 15,
    "start_time": "2022-01-09T15:41:56.573Z"
   },
   {
    "duration": 3776,
    "start_time": "2022-01-09T15:43:20.722Z"
   },
   {
    "duration": 1572,
    "start_time": "2022-01-09T15:43:24.501Z"
   },
   {
    "duration": 18,
    "start_time": "2022-01-09T15:43:26.076Z"
   },
   {
    "duration": 6,
    "start_time": "2022-01-09T15:43:26.097Z"
   },
   {
    "duration": 26,
    "start_time": "2022-01-09T15:43:26.105Z"
   },
   {
    "duration": 8,
    "start_time": "2022-01-09T15:43:26.134Z"
   },
   {
    "duration": 8,
    "start_time": "2022-01-09T15:43:26.144Z"
   },
   {
    "duration": 9,
    "start_time": "2022-01-09T15:43:26.156Z"
   },
   {
    "duration": 74,
    "start_time": "2022-01-09T15:43:26.168Z"
   },
   {
    "duration": 36,
    "start_time": "2022-01-09T15:43:26.245Z"
   },
   {
    "duration": 6,
    "start_time": "2022-01-09T15:43:26.283Z"
   },
   {
    "duration": 2,
    "start_time": "2022-01-09T15:43:26.323Z"
   },
   {
    "duration": 8202,
    "start_time": "2022-01-09T15:43:26.328Z"
   },
   {
    "duration": 4,
    "start_time": "2022-01-09T15:43:34.532Z"
   },
   {
    "duration": 14,
    "start_time": "2022-01-09T15:43:34.539Z"
   },
   {
    "duration": 17,
    "start_time": "2022-01-09T15:43:34.555Z"
   },
   {
    "duration": 13,
    "start_time": "2022-01-09T15:43:34.574Z"
   },
   {
    "duration": 37,
    "start_time": "2022-01-09T15:43:34.589Z"
   },
   {
    "duration": 25,
    "start_time": "2022-01-09T15:43:34.629Z"
   },
   {
    "duration": 8,
    "start_time": "2022-01-09T15:43:34.656Z"
   },
   {
    "duration": 57,
    "start_time": "2022-01-09T15:43:34.666Z"
   },
   {
    "duration": 8,
    "start_time": "2022-01-09T15:43:34.725Z"
   },
   {
    "duration": 24,
    "start_time": "2022-01-09T15:43:34.737Z"
   },
   {
    "duration": 25,
    "start_time": "2022-01-09T15:43:34.764Z"
   },
   {
    "duration": 5,
    "start_time": "2022-01-09T15:43:34.824Z"
   },
   {
    "duration": 9,
    "start_time": "2022-01-09T15:43:34.831Z"
   },
   {
    "duration": 5,
    "start_time": "2022-01-09T15:43:34.842Z"
   },
   {
    "duration": 6,
    "start_time": "2022-01-09T15:43:34.849Z"
   },
   {
    "duration": 15,
    "start_time": "2022-01-09T15:43:34.857Z"
   },
   {
    "duration": 90,
    "start_time": "2022-01-09T15:43:34.874Z"
   },
   {
    "duration": -229,
    "start_time": "2022-01-09T15:43:35.196Z"
   },
   {
    "duration": -233,
    "start_time": "2022-01-09T15:43:35.202Z"
   },
   {
    "duration": -241,
    "start_time": "2022-01-09T15:43:35.211Z"
   },
   {
    "duration": -245,
    "start_time": "2022-01-09T15:43:35.217Z"
   },
   {
    "duration": -252,
    "start_time": "2022-01-09T15:43:35.226Z"
   },
   {
    "duration": -256,
    "start_time": "2022-01-09T15:43:35.231Z"
   },
   {
    "duration": 413,
    "start_time": "2022-01-09T15:44:35.434Z"
   },
   {
    "duration": 286,
    "start_time": "2022-01-09T15:48:24.507Z"
   },
   {
    "duration": 3731,
    "start_time": "2022-01-09T15:49:04.932Z"
   },
   {
    "duration": 1386,
    "start_time": "2022-01-09T15:49:08.666Z"
   },
   {
    "duration": 17,
    "start_time": "2022-01-09T15:49:10.055Z"
   },
   {
    "duration": 5,
    "start_time": "2022-01-09T15:49:10.075Z"
   },
   {
    "duration": 17,
    "start_time": "2022-01-09T15:49:10.083Z"
   },
   {
    "duration": 25,
    "start_time": "2022-01-09T15:49:10.103Z"
   },
   {
    "duration": 6,
    "start_time": "2022-01-09T15:49:10.130Z"
   },
   {
    "duration": 9,
    "start_time": "2022-01-09T15:49:10.140Z"
   },
   {
    "duration": 33,
    "start_time": "2022-01-09T15:49:10.152Z"
   },
   {
    "duration": 35,
    "start_time": "2022-01-09T15:49:10.224Z"
   },
   {
    "duration": 6,
    "start_time": "2022-01-09T15:49:10.262Z"
   },
   {
    "duration": 4,
    "start_time": "2022-01-09T15:49:10.270Z"
   },
   {
    "duration": 8562,
    "start_time": "2022-01-09T15:49:10.276Z"
   },
   {
    "duration": 4,
    "start_time": "2022-01-09T15:49:18.841Z"
   },
   {
    "duration": 7,
    "start_time": "2022-01-09T15:49:18.847Z"
   },
   {
    "duration": 18,
    "start_time": "2022-01-09T15:49:18.857Z"
   },
   {
    "duration": 48,
    "start_time": "2022-01-09T15:49:18.877Z"
   },
   {
    "duration": 8,
    "start_time": "2022-01-09T15:49:18.927Z"
   },
   {
    "duration": 26,
    "start_time": "2022-01-09T15:49:18.937Z"
   },
   {
    "duration": 7,
    "start_time": "2022-01-09T15:49:18.965Z"
   },
   {
    "duration": 56,
    "start_time": "2022-01-09T15:49:18.974Z"
   },
   {
    "duration": 8,
    "start_time": "2022-01-09T15:49:19.032Z"
   },
   {
    "duration": 25,
    "start_time": "2022-01-09T15:49:19.047Z"
   },
   {
    "duration": 57,
    "start_time": "2022-01-09T15:49:19.075Z"
   },
   {
    "duration": 7,
    "start_time": "2022-01-09T15:49:19.135Z"
   },
   {
    "duration": 10,
    "start_time": "2022-01-09T15:49:19.145Z"
   },
   {
    "duration": 7,
    "start_time": "2022-01-09T15:49:19.158Z"
   },
   {
    "duration": 7,
    "start_time": "2022-01-09T15:49:19.168Z"
   },
   {
    "duration": 58,
    "start_time": "2022-01-09T15:49:19.177Z"
   },
   {
    "duration": 419,
    "start_time": "2022-01-09T15:49:19.237Z"
   },
   {
    "duration": -100,
    "start_time": "2022-01-09T15:49:19.760Z"
   },
   {
    "duration": -110,
    "start_time": "2022-01-09T15:49:19.772Z"
   },
   {
    "duration": -113,
    "start_time": "2022-01-09T15:49:19.778Z"
   },
   {
    "duration": -121,
    "start_time": "2022-01-09T15:49:19.788Z"
   },
   {
    "duration": -124,
    "start_time": "2022-01-09T15:49:19.794Z"
   },
   {
    "duration": -132,
    "start_time": "2022-01-09T15:49:19.804Z"
   },
   {
    "duration": -133,
    "start_time": "2022-01-09T15:49:19.808Z"
   },
   {
    "duration": 13,
    "start_time": "2022-01-09T15:49:33.574Z"
   },
   {
    "duration": 73,
    "start_time": "2022-01-09T15:50:03.268Z"
   },
   {
    "duration": 73,
    "start_time": "2022-01-09T15:51:48.059Z"
   },
   {
    "duration": 786,
    "start_time": "2022-01-09T15:55:31.689Z"
   },
   {
    "duration": 39,
    "start_time": "2022-01-09T15:55:51.811Z"
   },
   {
    "duration": 3,
    "start_time": "2022-01-09T17:00:40.376Z"
   },
   {
    "duration": 3981,
    "start_time": "2022-01-09T17:15:17.749Z"
   },
   {
    "duration": 1560,
    "start_time": "2022-01-09T17:15:21.733Z"
   },
   {
    "duration": 17,
    "start_time": "2022-01-09T17:15:23.296Z"
   },
   {
    "duration": 26,
    "start_time": "2022-01-09T17:15:23.316Z"
   },
   {
    "duration": 31,
    "start_time": "2022-01-09T17:15:23.345Z"
   },
   {
    "duration": 10,
    "start_time": "2022-01-09T17:15:23.379Z"
   },
   {
    "duration": 13,
    "start_time": "2022-01-09T17:15:23.392Z"
   },
   {
    "duration": 23,
    "start_time": "2022-01-09T17:15:23.410Z"
   },
   {
    "duration": 44,
    "start_time": "2022-01-09T17:15:23.436Z"
   },
   {
    "duration": 41,
    "start_time": "2022-01-09T17:15:23.483Z"
   },
   {
    "duration": 11,
    "start_time": "2022-01-09T17:15:23.527Z"
   },
   {
    "duration": 21,
    "start_time": "2022-01-09T17:15:23.547Z"
   },
   {
    "duration": 8769,
    "start_time": "2022-01-09T17:15:23.571Z"
   },
   {
    "duration": 4,
    "start_time": "2022-01-09T17:15:32.343Z"
   },
   {
    "duration": 8,
    "start_time": "2022-01-09T17:15:32.349Z"
   },
   {
    "duration": 20,
    "start_time": "2022-01-09T17:15:32.360Z"
   },
   {
    "duration": 15,
    "start_time": "2022-01-09T17:15:32.382Z"
   },
   {
    "duration": 7,
    "start_time": "2022-01-09T17:15:32.424Z"
   },
   {
    "duration": 30,
    "start_time": "2022-01-09T17:15:32.433Z"
   },
   {
    "duration": 7,
    "start_time": "2022-01-09T17:15:32.466Z"
   },
   {
    "duration": 65,
    "start_time": "2022-01-09T17:15:32.476Z"
   },
   {
    "duration": 8,
    "start_time": "2022-01-09T17:15:32.544Z"
   },
   {
    "duration": 24,
    "start_time": "2022-01-09T17:15:32.562Z"
   },
   {
    "duration": 58,
    "start_time": "2022-01-09T17:15:32.590Z"
   },
   {
    "duration": 6,
    "start_time": "2022-01-09T17:15:32.651Z"
   },
   {
    "duration": 11,
    "start_time": "2022-01-09T17:15:32.660Z"
   },
   {
    "duration": 6,
    "start_time": "2022-01-09T17:15:32.674Z"
   },
   {
    "duration": 19,
    "start_time": "2022-01-09T17:15:32.722Z"
   },
   {
    "duration": 14,
    "start_time": "2022-01-09T17:15:32.744Z"
   },
   {
    "duration": 103,
    "start_time": "2022-01-09T17:15:32.761Z"
   },
   {
    "duration": 93,
    "start_time": "2022-01-09T17:15:32.867Z"
   },
   {
    "duration": 5,
    "start_time": "2022-01-09T17:15:32.962Z"
   },
   {
    "duration": 53,
    "start_time": "2022-01-09T17:15:32.970Z"
   },
   {
    "duration": 4,
    "start_time": "2022-01-09T17:15:33.028Z"
   },
   {
    "duration": 107,
    "start_time": "2022-01-09T17:15:33.035Z"
   },
   {
    "duration": -109,
    "start_time": "2022-01-09T17:15:33.254Z"
   },
   {
    "duration": -119,
    "start_time": "2022-01-09T17:15:33.265Z"
   },
   {
    "duration": -132,
    "start_time": "2022-01-09T17:15:33.280Z"
   },
   {
    "duration": -135,
    "start_time": "2022-01-09T17:15:33.285Z"
   },
   {
    "duration": -139,
    "start_time": "2022-01-09T17:15:33.290Z"
   },
   {
    "duration": -148,
    "start_time": "2022-01-09T17:15:33.301Z"
   },
   {
    "duration": -152,
    "start_time": "2022-01-09T17:15:33.306Z"
   },
   {
    "duration": 7,
    "start_time": "2022-01-09T17:19:37.970Z"
   },
   {
    "duration": 441,
    "start_time": "2022-01-09T17:22:32.656Z"
   },
   {
    "duration": 602,
    "start_time": "2022-01-09T17:22:49.694Z"
   },
   {
    "duration": 3887,
    "start_time": "2022-01-09T17:23:16.595Z"
   },
   {
    "duration": 1505,
    "start_time": "2022-01-09T17:23:20.487Z"
   },
   {
    "duration": 18,
    "start_time": "2022-01-09T17:23:21.995Z"
   },
   {
    "duration": 17,
    "start_time": "2022-01-09T17:23:22.016Z"
   },
   {
    "duration": 21,
    "start_time": "2022-01-09T17:23:22.037Z"
   },
   {
    "duration": 9,
    "start_time": "2022-01-09T17:23:22.061Z"
   },
   {
    "duration": 13,
    "start_time": "2022-01-09T17:23:22.073Z"
   },
   {
    "duration": 12,
    "start_time": "2022-01-09T17:23:22.091Z"
   },
   {
    "duration": 41,
    "start_time": "2022-01-09T17:23:22.125Z"
   },
   {
    "duration": 67,
    "start_time": "2022-01-09T17:23:22.168Z"
   },
   {
    "duration": 10,
    "start_time": "2022-01-09T17:23:22.239Z"
   },
   {
    "duration": 6,
    "start_time": "2022-01-09T17:23:22.252Z"
   },
   {
    "duration": 9015,
    "start_time": "2022-01-09T17:23:22.260Z"
   },
   {
    "duration": 4,
    "start_time": "2022-01-09T17:23:31.277Z"
   },
   {
    "duration": 13,
    "start_time": "2022-01-09T17:23:31.283Z"
   },
   {
    "duration": 31,
    "start_time": "2022-01-09T17:23:31.299Z"
   },
   {
    "duration": 17,
    "start_time": "2022-01-09T17:23:31.333Z"
   },
   {
    "duration": 14,
    "start_time": "2022-01-09T17:23:31.353Z"
   },
   {
    "duration": 35,
    "start_time": "2022-01-09T17:23:31.370Z"
   },
   {
    "duration": 10,
    "start_time": "2022-01-09T17:23:31.423Z"
   },
   {
    "duration": 35,
    "start_time": "2022-01-09T17:23:31.435Z"
   },
   {
    "duration": 9,
    "start_time": "2022-01-09T17:23:31.473Z"
   },
   {
    "duration": 59,
    "start_time": "2022-01-09T17:23:31.487Z"
   },
   {
    "duration": 24,
    "start_time": "2022-01-09T17:23:31.549Z"
   },
   {
    "duration": 6,
    "start_time": "2022-01-09T17:23:31.575Z"
   },
   {
    "duration": 22,
    "start_time": "2022-01-09T17:23:31.584Z"
   },
   {
    "duration": 17,
    "start_time": "2022-01-09T17:23:31.609Z"
   },
   {
    "duration": 17,
    "start_time": "2022-01-09T17:23:31.628Z"
   },
   {
    "duration": 12,
    "start_time": "2022-01-09T17:23:31.648Z"
   },
   {
    "duration": 111,
    "start_time": "2022-01-09T17:23:31.663Z"
   },
   {
    "duration": 89,
    "start_time": "2022-01-09T17:23:31.776Z"
   },
   {
    "duration": 4,
    "start_time": "2022-01-09T17:23:31.867Z"
   },
   {
    "duration": 51,
    "start_time": "2022-01-09T17:23:31.873Z"
   },
   {
    "duration": 4,
    "start_time": "2022-01-09T17:23:31.927Z"
   },
   {
    "duration": 8,
    "start_time": "2022-01-09T17:23:31.934Z"
   },
   {
    "duration": 795,
    "start_time": "2022-01-09T17:23:31.944Z"
   },
   {
    "duration": -133,
    "start_time": "2022-01-09T17:23:32.875Z"
   },
   {
    "duration": -281,
    "start_time": "2022-01-09T17:23:33.024Z"
   },
   {
    "duration": -287,
    "start_time": "2022-01-09T17:23:33.032Z"
   },
   {
    "duration": -295,
    "start_time": "2022-01-09T17:23:33.042Z"
   },
   {
    "duration": -301,
    "start_time": "2022-01-09T17:23:33.049Z"
   },
   {
    "duration": -310,
    "start_time": "2022-01-09T17:23:33.060Z"
   },
   {
    "duration": -316,
    "start_time": "2022-01-09T17:23:33.067Z"
   },
   {
    "duration": -325,
    "start_time": "2022-01-09T17:23:33.077Z"
   },
   {
    "duration": -329,
    "start_time": "2022-01-09T17:23:33.083Z"
   },
   {
    "duration": -337,
    "start_time": "2022-01-09T17:23:33.093Z"
   },
   {
    "duration": 7,
    "start_time": "2022-01-09T17:29:22.582Z"
   },
   {
    "duration": 588,
    "start_time": "2022-01-09T17:29:23.912Z"
   },
   {
    "duration": 7,
    "start_time": "2022-01-09T17:29:43.015Z"
   },
   {
    "duration": 10,
    "start_time": "2022-01-09T17:29:44.435Z"
   },
   {
    "duration": 1021,
    "start_time": "2022-01-09T17:29:50.145Z"
   },
   {
    "duration": 8,
    "start_time": "2022-01-09T17:31:12.376Z"
   },
   {
    "duration": 19,
    "start_time": "2022-01-09T17:36:08.267Z"
   },
   {
    "duration": 9,
    "start_time": "2022-01-09T17:50:55.578Z"
   },
   {
    "duration": 16,
    "start_time": "2022-01-09T17:51:00.811Z"
   },
   {
    "duration": 18,
    "start_time": "2022-01-09T17:51:01.882Z"
   },
   {
    "duration": 71,
    "start_time": "2022-01-09T17:51:03.492Z"
   },
   {
    "duration": 7,
    "start_time": "2022-01-09T17:51:24.124Z"
   },
   {
    "duration": 15,
    "start_time": "2022-01-09T17:51:25.028Z"
   },
   {
    "duration": 11,
    "start_time": "2022-01-09T17:51:25.627Z"
   },
   {
    "duration": 68,
    "start_time": "2022-01-09T17:51:26.606Z"
   },
   {
    "duration": 723,
    "start_time": "2022-01-09T17:51:30.398Z"
   },
   {
    "duration": 3831,
    "start_time": "2022-01-09T17:52:30.127Z"
   },
   {
    "duration": 1481,
    "start_time": "2022-01-09T17:52:33.961Z"
   },
   {
    "duration": 18,
    "start_time": "2022-01-09T17:52:35.445Z"
   },
   {
    "duration": 7,
    "start_time": "2022-01-09T17:52:35.466Z"
   },
   {
    "duration": 19,
    "start_time": "2022-01-09T17:52:35.476Z"
   },
   {
    "duration": 32,
    "start_time": "2022-01-09T17:52:35.498Z"
   },
   {
    "duration": 10,
    "start_time": "2022-01-09T17:52:35.533Z"
   },
   {
    "duration": 10,
    "start_time": "2022-01-09T17:52:35.547Z"
   },
   {
    "duration": 65,
    "start_time": "2022-01-09T17:52:35.560Z"
   },
   {
    "duration": 39,
    "start_time": "2022-01-09T17:52:35.628Z"
   },
   {
    "duration": 8,
    "start_time": "2022-01-09T17:52:35.670Z"
   },
   {
    "duration": 11408,
    "start_time": "2022-01-09T17:52:35.680Z"
   },
   {
    "duration": 4,
    "start_time": "2022-01-09T17:52:47.092Z"
   },
   {
    "duration": 24,
    "start_time": "2022-01-09T17:52:47.100Z"
   },
   {
    "duration": 19,
    "start_time": "2022-01-09T17:52:47.127Z"
   },
   {
    "duration": 15,
    "start_time": "2022-01-09T17:52:47.149Z"
   },
   {
    "duration": 9,
    "start_time": "2022-01-09T17:52:47.166Z"
   },
   {
    "duration": 66,
    "start_time": "2022-01-09T17:52:47.177Z"
   },
   {
    "duration": 8,
    "start_time": "2022-01-09T17:52:47.246Z"
   },
   {
    "duration": 35,
    "start_time": "2022-01-09T17:52:47.256Z"
   },
   {
    "duration": 35,
    "start_time": "2022-01-09T17:52:47.293Z"
   },
   {
    "duration": 37,
    "start_time": "2022-01-09T17:52:47.331Z"
   },
   {
    "duration": 26,
    "start_time": "2022-01-09T17:52:47.375Z"
   },
   {
    "duration": 24,
    "start_time": "2022-01-09T17:52:47.405Z"
   },
   {
    "duration": 11,
    "start_time": "2022-01-09T17:52:47.432Z"
   },
   {
    "duration": 8,
    "start_time": "2022-01-09T17:52:47.446Z"
   },
   {
    "duration": 14,
    "start_time": "2022-01-09T17:52:47.457Z"
   },
   {
    "duration": 52,
    "start_time": "2022-01-09T17:52:47.474Z"
   },
   {
    "duration": 106,
    "start_time": "2022-01-09T17:52:47.528Z"
   },
   {
    "duration": 1475,
    "start_time": "2022-01-09T17:52:47.637Z"
   },
   {
    "duration": -323,
    "start_time": "2022-01-09T17:52:49.445Z"
   },
   {
    "duration": -328,
    "start_time": "2022-01-09T17:52:49.453Z"
   },
   {
    "duration": -338,
    "start_time": "2022-01-09T17:52:49.466Z"
   },
   {
    "duration": -347,
    "start_time": "2022-01-09T17:52:49.477Z"
   },
   {
    "duration": -353,
    "start_time": "2022-01-09T17:52:49.485Z"
   },
   {
    "duration": -362,
    "start_time": "2022-01-09T17:52:49.497Z"
   },
   {
    "duration": -368,
    "start_time": "2022-01-09T17:52:49.505Z"
   },
   {
    "duration": -372,
    "start_time": "2022-01-09T17:52:49.512Z"
   },
   {
    "duration": -376,
    "start_time": "2022-01-09T17:52:49.518Z"
   },
   {
    "duration": -382,
    "start_time": "2022-01-09T17:52:49.527Z"
   },
   {
    "duration": -387,
    "start_time": "2022-01-09T17:52:49.534Z"
   },
   {
    "duration": -393,
    "start_time": "2022-01-09T17:52:49.543Z"
   },
   {
    "duration": -397,
    "start_time": "2022-01-09T17:52:49.549Z"
   },
   {
    "duration": -406,
    "start_time": "2022-01-09T17:52:49.561Z"
   },
   {
    "duration": -411,
    "start_time": "2022-01-09T17:52:49.568Z"
   },
   {
    "duration": 10,
    "start_time": "2022-01-09T17:53:38.975Z"
   },
   {
    "duration": 21,
    "start_time": "2022-01-09T17:53:39.569Z"
   },
   {
    "duration": 18,
    "start_time": "2022-01-09T17:53:40.234Z"
   },
   {
    "duration": 154,
    "start_time": "2022-01-09T17:53:41.073Z"
   },
   {
    "duration": 1198,
    "start_time": "2022-01-09T17:53:41.854Z"
   },
   {
    "duration": 7,
    "start_time": "2022-01-09T17:54:41.761Z"
   },
   {
    "duration": 15,
    "start_time": "2022-01-09T17:54:44.086Z"
   },
   {
    "duration": 13,
    "start_time": "2022-01-09T17:54:44.789Z"
   },
   {
    "duration": 80,
    "start_time": "2022-01-09T17:54:45.609Z"
   },
   {
    "duration": 731,
    "start_time": "2022-01-09T17:54:46.829Z"
   },
   {
    "duration": 5,
    "start_time": "2022-01-09T17:55:05.742Z"
   },
   {
    "duration": 545,
    "start_time": "2022-01-09T17:55:11.655Z"
   },
   {
    "duration": 4,
    "start_time": "2022-01-09T17:55:22.593Z"
   },
   {
    "duration": 1926,
    "start_time": "2022-01-09T17:55:23.587Z"
   },
   {
    "duration": 8,
    "start_time": "2022-01-09T18:00:09.720Z"
   },
   {
    "duration": 4,
    "start_time": "2022-01-09T18:00:11.033Z"
   },
   {
    "duration": 5,
    "start_time": "2022-01-09T18:00:13.640Z"
   },
   {
    "duration": 8,
    "start_time": "2022-01-09T18:00:16.114Z"
   },
   {
    "duration": 7,
    "start_time": "2022-01-09T18:02:42.620Z"
   },
   {
    "duration": 8,
    "start_time": "2022-01-09T18:03:42.194Z"
   },
   {
    "duration": 8,
    "start_time": "2022-01-09T18:03:43.717Z"
   },
   {
    "duration": 7,
    "start_time": "2022-01-09T18:03:58.018Z"
   },
   {
    "duration": 7,
    "start_time": "2022-01-09T18:04:29.374Z"
   },
   {
    "duration": 8,
    "start_time": "2022-01-09T18:04:33.055Z"
   },
   {
    "duration": 6,
    "start_time": "2022-01-09T18:04:50.730Z"
   },
   {
    "duration": 7,
    "start_time": "2022-01-09T18:05:26.250Z"
   },
   {
    "duration": 6,
    "start_time": "2022-01-09T18:11:27.219Z"
   },
   {
    "duration": 12197,
    "start_time": "2022-01-09T21:59:57.177Z"
   },
   {
    "duration": 1836,
    "start_time": "2022-01-09T22:00:09.377Z"
   },
   {
    "duration": 61,
    "start_time": "2022-01-09T22:00:11.216Z"
   },
   {
    "duration": 5,
    "start_time": "2022-01-09T22:00:11.280Z"
   },
   {
    "duration": 20,
    "start_time": "2022-01-09T22:00:11.287Z"
   },
   {
    "duration": 8,
    "start_time": "2022-01-09T22:00:11.310Z"
   },
   {
    "duration": 9,
    "start_time": "2022-01-09T22:00:11.320Z"
   },
   {
    "duration": 11,
    "start_time": "2022-01-09T22:00:11.332Z"
   },
   {
    "duration": 35,
    "start_time": "2022-01-09T22:00:11.360Z"
   },
   {
    "duration": 63,
    "start_time": "2022-01-09T22:00:11.397Z"
   },
   {
    "duration": 6,
    "start_time": "2022-01-09T22:00:11.463Z"
   },
   {
    "duration": 8323,
    "start_time": "2022-01-09T22:00:11.471Z"
   },
   {
    "duration": 3,
    "start_time": "2022-01-09T22:00:19.797Z"
   },
   {
    "duration": 7,
    "start_time": "2022-01-09T22:00:19.802Z"
   },
   {
    "duration": 52,
    "start_time": "2022-01-09T22:00:19.811Z"
   },
   {
    "duration": 15,
    "start_time": "2022-01-09T22:00:19.865Z"
   },
   {
    "duration": 8,
    "start_time": "2022-01-09T22:00:19.883Z"
   },
   {
    "duration": 66,
    "start_time": "2022-01-09T22:00:19.893Z"
   },
   {
    "duration": 9,
    "start_time": "2022-01-09T22:00:19.962Z"
   },
   {
    "duration": 28,
    "start_time": "2022-01-09T22:00:19.974Z"
   },
   {
    "duration": 8,
    "start_time": "2022-01-09T22:00:20.004Z"
   },
   {
    "duration": 60,
    "start_time": "2022-01-09T22:00:20.014Z"
   },
   {
    "duration": 25,
    "start_time": "2022-01-09T22:00:20.080Z"
   },
   {
    "duration": 5,
    "start_time": "2022-01-09T22:00:20.108Z"
   },
   {
    "duration": 43,
    "start_time": "2022-01-09T22:00:20.116Z"
   },
   {
    "duration": 6,
    "start_time": "2022-01-09T22:00:20.162Z"
   },
   {
    "duration": 14,
    "start_time": "2022-01-09T22:00:20.171Z"
   },
   {
    "duration": 15,
    "start_time": "2022-01-09T22:00:20.188Z"
   },
   {
    "duration": 114,
    "start_time": "2022-01-09T22:00:20.206Z"
   },
   {
    "duration": 586,
    "start_time": "2022-01-09T22:00:20.323Z"
   },
   {
    "duration": 5,
    "start_time": "2022-01-09T22:00:20.911Z"
   },
   {
    "duration": 2690,
    "start_time": "2022-01-09T22:00:20.919Z"
   },
   {
    "duration": 4,
    "start_time": "2022-01-09T22:00:23.612Z"
   },
   {
    "duration": 11,
    "start_time": "2022-01-09T22:00:23.620Z"
   },
   {
    "duration": 35,
    "start_time": "2022-01-09T22:00:23.634Z"
   },
   {
    "duration": 2078,
    "start_time": "2022-01-09T22:00:23.673Z"
   },
   {
    "duration": -297,
    "start_time": "2022-01-09T22:00:26.051Z"
   },
   {
    "duration": -304,
    "start_time": "2022-01-09T22:00:26.061Z"
   },
   {
    "duration": -308,
    "start_time": "2022-01-09T22:00:26.067Z"
   },
   {
    "duration": -310,
    "start_time": "2022-01-09T22:00:26.071Z"
   },
   {
    "duration": -317,
    "start_time": "2022-01-09T22:00:26.080Z"
   },
   {
    "duration": -319,
    "start_time": "2022-01-09T22:00:26.085Z"
   },
   {
    "duration": -322,
    "start_time": "2022-01-09T22:00:26.090Z"
   },
   {
    "duration": -330,
    "start_time": "2022-01-09T22:00:26.100Z"
   },
   {
    "duration": -335,
    "start_time": "2022-01-09T22:00:26.107Z"
   },
   {
    "duration": -340,
    "start_time": "2022-01-09T22:00:26.115Z"
   },
   {
    "duration": -344,
    "start_time": "2022-01-09T22:00:26.121Z"
   },
   {
    "duration": -350,
    "start_time": "2022-01-09T22:00:26.129Z"
   },
   {
    "duration": 4455,
    "start_time": "2022-01-09T22:09:19.616Z"
   },
   {
    "duration": 1623,
    "start_time": "2022-01-09T22:09:24.075Z"
   },
   {
    "duration": 20,
    "start_time": "2022-01-09T22:09:25.701Z"
   },
   {
    "duration": 7,
    "start_time": "2022-01-09T22:09:25.724Z"
   },
   {
    "duration": 27,
    "start_time": "2022-01-09T22:09:25.733Z"
   },
   {
    "duration": 8,
    "start_time": "2022-01-09T22:09:25.763Z"
   },
   {
    "duration": 12,
    "start_time": "2022-01-09T22:09:25.774Z"
   },
   {
    "duration": 12,
    "start_time": "2022-01-09T22:09:25.793Z"
   },
   {
    "duration": 85,
    "start_time": "2022-01-09T22:09:25.809Z"
   },
   {
    "duration": 75,
    "start_time": "2022-01-09T22:09:25.898Z"
   },
   {
    "duration": 10,
    "start_time": "2022-01-09T22:09:25.976Z"
   },
   {
    "duration": 8533,
    "start_time": "2022-01-09T22:09:25.989Z"
   },
   {
    "duration": 4,
    "start_time": "2022-01-09T22:09:34.525Z"
   },
   {
    "duration": 28,
    "start_time": "2022-01-09T22:09:34.531Z"
   },
   {
    "duration": 21,
    "start_time": "2022-01-09T22:09:34.561Z"
   },
   {
    "duration": 14,
    "start_time": "2022-01-09T22:09:34.584Z"
   },
   {
    "duration": 8,
    "start_time": "2022-01-09T22:09:34.600Z"
   },
   {
    "duration": 51,
    "start_time": "2022-01-09T22:09:34.610Z"
   },
   {
    "duration": 9,
    "start_time": "2022-01-09T22:09:34.663Z"
   },
   {
    "duration": 30,
    "start_time": "2022-01-09T22:09:34.674Z"
   },
   {
    "duration": 12,
    "start_time": "2022-01-09T22:09:34.706Z"
   },
   {
    "duration": 54,
    "start_time": "2022-01-09T22:09:34.720Z"
   },
   {
    "duration": 33,
    "start_time": "2022-01-09T22:09:34.779Z"
   },
   {
    "duration": 9,
    "start_time": "2022-01-09T22:09:34.815Z"
   },
   {
    "duration": 28,
    "start_time": "2022-01-09T22:09:34.826Z"
   },
   {
    "duration": 12,
    "start_time": "2022-01-09T22:09:34.856Z"
   },
   {
    "duration": 43,
    "start_time": "2022-01-09T22:09:34.871Z"
   },
   {
    "duration": 15,
    "start_time": "2022-01-09T22:09:34.917Z"
   },
   {
    "duration": 76,
    "start_time": "2022-01-09T22:09:34.935Z"
   },
   {
    "duration": 554,
    "start_time": "2022-01-09T22:09:35.014Z"
   },
   {
    "duration": 5,
    "start_time": "2022-01-09T22:09:35.570Z"
   },
   {
    "duration": 2054,
    "start_time": "2022-01-09T22:09:35.578Z"
   },
   {
    "duration": 3,
    "start_time": "2022-01-09T22:09:37.635Z"
   },
   {
    "duration": 7,
    "start_time": "2022-01-09T22:09:37.640Z"
   },
   {
    "duration": 18,
    "start_time": "2022-01-09T22:09:37.649Z"
   },
   {
    "duration": 1366,
    "start_time": "2022-01-09T22:09:37.669Z"
   },
   {
    "duration": -198,
    "start_time": "2022-01-09T22:09:39.235Z"
   },
   {
    "duration": -208,
    "start_time": "2022-01-09T22:09:39.247Z"
   },
   {
    "duration": -343,
    "start_time": "2022-01-09T22:09:39.383Z"
   },
   {
    "duration": -351,
    "start_time": "2022-01-09T22:09:39.392Z"
   },
   {
    "duration": -354,
    "start_time": "2022-01-09T22:09:39.397Z"
   },
   {
    "duration": -357,
    "start_time": "2022-01-09T22:09:39.401Z"
   },
   {
    "duration": -366,
    "start_time": "2022-01-09T22:09:39.411Z"
   },
   {
    "duration": -370,
    "start_time": "2022-01-09T22:09:39.416Z"
   },
   {
    "duration": -377,
    "start_time": "2022-01-09T22:09:39.425Z"
   },
   {
    "duration": -380,
    "start_time": "2022-01-09T22:09:39.429Z"
   },
   {
    "duration": -384,
    "start_time": "2022-01-09T22:09:39.434Z"
   },
   {
    "duration": -391,
    "start_time": "2022-01-09T22:09:39.442Z"
   },
   {
    "duration": 6,
    "start_time": "2022-01-09T22:11:15.068Z"
   },
   {
    "duration": 4,
    "start_time": "2022-01-09T22:11:16.001Z"
   },
   {
    "duration": 7,
    "start_time": "2022-01-09T22:11:22.738Z"
   },
   {
    "duration": 8,
    "start_time": "2022-01-09T22:11:55.611Z"
   },
   {
    "duration": 7,
    "start_time": "2022-01-09T22:11:56.801Z"
   },
   {
    "duration": 1032,
    "start_time": "2022-01-09T22:12:05.863Z"
   },
   {
    "duration": 6,
    "start_time": "2022-01-09T22:12:25.059Z"
   },
   {
    "duration": 6,
    "start_time": "2022-01-09T22:14:13.440Z"
   },
   {
    "duration": 7,
    "start_time": "2022-01-09T22:14:27.841Z"
   },
   {
    "duration": 6,
    "start_time": "2022-01-09T22:14:55.991Z"
   },
   {
    "duration": 6,
    "start_time": "2022-01-09T22:14:56.806Z"
   },
   {
    "duration": 7,
    "start_time": "2022-01-09T22:15:33.673Z"
   },
   {
    "duration": 9,
    "start_time": "2022-01-09T22:47:12.714Z"
   },
   {
    "duration": 7,
    "start_time": "2022-01-09T22:49:19.099Z"
   },
   {
    "duration": 7,
    "start_time": "2022-01-09T22:49:20.037Z"
   },
   {
    "duration": 629,
    "start_time": "2022-01-09T22:49:25.824Z"
   },
   {
    "duration": 9,
    "start_time": "2022-01-09T22:52:03.748Z"
   },
   {
    "duration": 4,
    "start_time": "2022-01-09T22:52:21.970Z"
   },
   {
    "duration": 981,
    "start_time": "2022-01-09T22:52:28.780Z"
   },
   {
    "duration": 3,
    "start_time": "2022-01-09T22:53:10.131Z"
   },
   {
    "duration": 6,
    "start_time": "2022-01-09T22:53:11.912Z"
   },
   {
    "duration": 4,
    "start_time": "2022-01-09T22:53:22.193Z"
   },
   {
    "duration": 991,
    "start_time": "2022-01-09T22:53:25.199Z"
   },
   {
    "duration": 3821,
    "start_time": "2022-01-09T22:59:26.212Z"
   },
   {
    "duration": 2294,
    "start_time": "2022-01-09T22:59:30.038Z"
   },
   {
    "duration": 20,
    "start_time": "2022-01-09T22:59:32.335Z"
   },
   {
    "duration": 6,
    "start_time": "2022-01-09T22:59:32.358Z"
   },
   {
    "duration": 19,
    "start_time": "2022-01-09T22:59:32.367Z"
   },
   {
    "duration": 9,
    "start_time": "2022-01-09T22:59:32.388Z"
   },
   {
    "duration": 9,
    "start_time": "2022-01-09T22:59:32.399Z"
   },
   {
    "duration": 9,
    "start_time": "2022-01-09T22:59:32.412Z"
   },
   {
    "duration": 34,
    "start_time": "2022-01-09T22:59:32.460Z"
   },
   {
    "duration": 33,
    "start_time": "2022-01-09T22:59:32.496Z"
   },
   {
    "duration": 30,
    "start_time": "2022-01-09T22:59:32.532Z"
   },
   {
    "duration": 8097,
    "start_time": "2022-01-09T22:59:32.565Z"
   },
   {
    "duration": 4,
    "start_time": "2022-01-09T22:59:40.665Z"
   },
   {
    "duration": 10,
    "start_time": "2022-01-09T22:59:40.671Z"
   },
   {
    "duration": 25,
    "start_time": "2022-01-09T22:59:40.683Z"
   },
   {
    "duration": 15,
    "start_time": "2022-01-09T22:59:40.710Z"
   },
   {
    "duration": 36,
    "start_time": "2022-01-09T22:59:40.728Z"
   },
   {
    "duration": 30,
    "start_time": "2022-01-09T22:59:40.767Z"
   },
   {
    "duration": 8,
    "start_time": "2022-01-09T22:59:40.800Z"
   },
   {
    "duration": 52,
    "start_time": "2022-01-09T22:59:40.811Z"
   },
   {
    "duration": 7,
    "start_time": "2022-01-09T22:59:40.865Z"
   },
   {
    "duration": 26,
    "start_time": "2022-01-09T22:59:40.875Z"
   },
   {
    "duration": 54,
    "start_time": "2022-01-09T22:59:40.907Z"
   },
   {
    "duration": 7,
    "start_time": "2022-01-09T22:59:40.965Z"
   },
   {
    "duration": 11,
    "start_time": "2022-01-09T22:59:40.975Z"
   },
   {
    "duration": 7,
    "start_time": "2022-01-09T22:59:40.989Z"
   },
   {
    "duration": 17,
    "start_time": "2022-01-09T22:59:40.999Z"
   },
   {
    "duration": 51,
    "start_time": "2022-01-09T22:59:41.019Z"
   },
   {
    "duration": 153,
    "start_time": "2022-01-09T22:59:41.073Z"
   },
   {
    "duration": 556,
    "start_time": "2022-01-09T22:59:41.228Z"
   },
   {
    "duration": 5,
    "start_time": "2022-01-09T22:59:41.786Z"
   },
   {
    "duration": 2454,
    "start_time": "2022-01-09T22:59:41.793Z"
   },
   {
    "duration": 5,
    "start_time": "2022-01-09T22:59:44.259Z"
   },
   {
    "duration": 10,
    "start_time": "2022-01-09T22:59:44.267Z"
   },
   {
    "duration": 11,
    "start_time": "2022-01-09T22:59:44.280Z"
   },
   {
    "duration": 1345,
    "start_time": "2022-01-09T22:59:44.294Z"
   },
   {
    "duration": -113,
    "start_time": "2022-01-09T22:59:45.754Z"
   },
   {
    "duration": -119,
    "start_time": "2022-01-09T22:59:45.762Z"
   },
   {
    "duration": -129,
    "start_time": "2022-01-09T22:59:45.773Z"
   },
   {
    "duration": -135,
    "start_time": "2022-01-09T22:59:45.781Z"
   },
   {
    "duration": -145,
    "start_time": "2022-01-09T22:59:45.792Z"
   },
   {
    "duration": -276,
    "start_time": "2022-01-09T22:59:45.925Z"
   },
   {
    "duration": -287,
    "start_time": "2022-01-09T22:59:45.937Z"
   },
   {
    "duration": -291,
    "start_time": "2022-01-09T22:59:45.943Z"
   },
   {
    "duration": -299,
    "start_time": "2022-01-09T22:59:45.952Z"
   },
   {
    "duration": -304,
    "start_time": "2022-01-09T22:59:45.959Z"
   },
   {
    "duration": -311,
    "start_time": "2022-01-09T22:59:45.967Z"
   },
   {
    "duration": -318,
    "start_time": "2022-01-09T22:59:45.976Z"
   },
   {
    "duration": -324,
    "start_time": "2022-01-09T22:59:45.983Z"
   },
   {
    "duration": -332,
    "start_time": "2022-01-09T22:59:45.993Z"
   },
   {
    "duration": 7,
    "start_time": "2022-01-09T23:00:52.355Z"
   },
   {
    "duration": 9,
    "start_time": "2022-01-09T23:00:53.448Z"
   },
   {
    "duration": 450,
    "start_time": "2022-01-09T23:00:54.281Z"
   },
   {
    "duration": 72,
    "start_time": "2022-01-09T23:00:56.945Z"
   },
   {
    "duration": 552,
    "start_time": "2022-01-09T23:00:59.008Z"
   },
   {
    "duration": 463,
    "start_time": "2022-01-09T23:01:05.699Z"
   },
   {
    "duration": 127,
    "start_time": "2022-01-09T23:01:16.039Z"
   },
   {
    "duration": 130,
    "start_time": "2022-01-09T23:01:42.760Z"
   },
   {
    "duration": 137,
    "start_time": "2022-01-09T23:02:27.523Z"
   },
   {
    "duration": 125,
    "start_time": "2022-01-09T23:03:14.675Z"
   },
   {
    "duration": 123,
    "start_time": "2022-01-09T23:04:07.001Z"
   },
   {
    "duration": 6,
    "start_time": "2022-01-09T23:05:18.617Z"
   },
   {
    "duration": 7,
    "start_time": "2022-01-09T23:05:55.195Z"
   },
   {
    "duration": 5,
    "start_time": "2022-01-09T23:06:13.159Z"
   },
   {
    "duration": 1183,
    "start_time": "2022-01-09T23:06:22.833Z"
   },
   {
    "duration": 6,
    "start_time": "2022-01-09T23:07:45.672Z"
   },
   {
    "duration": 5,
    "start_time": "2022-01-09T23:07:50.459Z"
   },
   {
    "duration": 1640,
    "start_time": "2022-01-09T23:07:51.270Z"
   },
   {
    "duration": 5,
    "start_time": "2022-01-09T23:14:58.038Z"
   },
   {
    "duration": 4,
    "start_time": "2022-01-09T23:15:08.483Z"
   },
   {
    "duration": 1061,
    "start_time": "2022-01-09T23:15:27.583Z"
   },
   {
    "duration": 6,
    "start_time": "2022-01-09T23:16:25.488Z"
   },
   {
    "duration": 4,
    "start_time": "2022-01-09T23:16:30.813Z"
   },
   {
    "duration": 714,
    "start_time": "2022-01-09T23:16:39.896Z"
   },
   {
    "duration": 112,
    "start_time": "2022-01-10T00:29:22.983Z"
   },
   {
    "duration": 132,
    "start_time": "2022-01-10T00:33:00.048Z"
   },
   {
    "duration": 8,
    "start_time": "2022-01-10T00:33:36.180Z"
   },
   {
    "duration": 7,
    "start_time": "2022-01-10T00:33:37.375Z"
   },
   {
    "duration": 775,
    "start_time": "2022-01-10T00:33:39.494Z"
   },
   {
    "duration": 9,
    "start_time": "2022-01-10T00:35:12.523Z"
   },
   {
    "duration": 6,
    "start_time": "2022-01-10T00:35:30.621Z"
   },
   {
    "duration": 5,
    "start_time": "2022-01-10T00:35:31.642Z"
   },
   {
    "duration": 16,
    "start_time": "2022-01-10T00:35:33.120Z"
   },
   {
    "duration": 7,
    "start_time": "2022-01-10T00:36:20.061Z"
   },
   {
    "duration": 5,
    "start_time": "2022-01-10T00:36:20.847Z"
   },
   {
    "duration": 732,
    "start_time": "2022-01-10T00:36:21.570Z"
   },
   {
    "duration": 7,
    "start_time": "2022-01-10T00:37:22.188Z"
   },
   {
    "duration": 5,
    "start_time": "2022-01-10T00:37:22.787Z"
   },
   {
    "duration": 14,
    "start_time": "2022-01-10T00:37:23.407Z"
   },
   {
    "duration": 7,
    "start_time": "2022-01-10T00:38:42.912Z"
   },
   {
    "duration": 4,
    "start_time": "2022-01-10T00:38:46.039Z"
   },
   {
    "duration": 19,
    "start_time": "2022-01-10T00:38:46.675Z"
   },
   {
    "duration": 7,
    "start_time": "2022-01-10T00:42:35.361Z"
   },
   {
    "duration": 5,
    "start_time": "2022-01-10T00:42:36.055Z"
   },
   {
    "duration": 14,
    "start_time": "2022-01-10T00:42:36.746Z"
   },
   {
    "duration": 6,
    "start_time": "2022-01-10T00:42:51.762Z"
   },
   {
    "duration": 4,
    "start_time": "2022-01-10T00:42:52.308Z"
   },
   {
    "duration": 15,
    "start_time": "2022-01-10T00:42:53.463Z"
   },
   {
    "duration": 6,
    "start_time": "2022-01-10T00:47:51.761Z"
   },
   {
    "duration": 5,
    "start_time": "2022-01-10T00:48:00.114Z"
   },
   {
    "duration": 14,
    "start_time": "2022-01-10T00:48:02.267Z"
   },
   {
    "duration": 13,
    "start_time": "2022-01-10T00:48:04.711Z"
   },
   {
    "duration": 10,
    "start_time": "2022-01-10T00:59:40.967Z"
   },
   {
    "duration": 6,
    "start_time": "2022-01-10T00:59:41.870Z"
   },
   {
    "duration": 16,
    "start_time": "2022-01-10T00:59:42.789Z"
   },
   {
    "duration": 17,
    "start_time": "2022-01-10T00:59:58.718Z"
   },
   {
    "duration": 18,
    "start_time": "2022-01-10T01:00:17.030Z"
   },
   {
    "duration": 358,
    "start_time": "2022-01-10T01:00:55.847Z"
   },
   {
    "duration": 14,
    "start_time": "2022-01-10T01:01:08.295Z"
   },
   {
    "duration": 15,
    "start_time": "2022-01-10T01:01:20.455Z"
   },
   {
    "duration": 6,
    "start_time": "2022-01-10T01:01:32.721Z"
   },
   {
    "duration": 6,
    "start_time": "2022-01-10T01:01:35.422Z"
   },
   {
    "duration": 26,
    "start_time": "2022-01-10T01:01:37.906Z"
   },
   {
    "duration": 17,
    "start_time": "2022-01-10T01:01:39.592Z"
   },
   {
    "duration": 19,
    "start_time": "2022-01-10T01:04:02.028Z"
   },
   {
    "duration": 22,
    "start_time": "2022-01-10T01:04:46.068Z"
   },
   {
    "duration": 4206,
    "start_time": "2022-01-10T01:21:12.667Z"
   },
   {
    "duration": 1522,
    "start_time": "2022-01-10T01:21:16.876Z"
   },
   {
    "duration": 19,
    "start_time": "2022-01-10T01:21:18.401Z"
   },
   {
    "duration": 5,
    "start_time": "2022-01-10T01:21:18.423Z"
   },
   {
    "duration": 35,
    "start_time": "2022-01-10T01:21:18.430Z"
   },
   {
    "duration": 8,
    "start_time": "2022-01-10T01:21:18.467Z"
   },
   {
    "duration": 9,
    "start_time": "2022-01-10T01:21:18.477Z"
   },
   {
    "duration": 9,
    "start_time": "2022-01-10T01:21:18.489Z"
   },
   {
    "duration": 68,
    "start_time": "2022-01-10T01:21:18.500Z"
   },
   {
    "duration": 35,
    "start_time": "2022-01-10T01:21:18.571Z"
   },
   {
    "duration": 6,
    "start_time": "2022-01-10T01:21:18.608Z"
   },
   {
    "duration": 8038,
    "start_time": "2022-01-10T01:21:18.617Z"
   },
   {
    "duration": 4,
    "start_time": "2022-01-10T01:21:26.659Z"
   },
   {
    "duration": 7,
    "start_time": "2022-01-10T01:21:26.665Z"
   },
   {
    "duration": 17,
    "start_time": "2022-01-10T01:21:26.674Z"
   },
   {
    "duration": 14,
    "start_time": "2022-01-10T01:21:26.693Z"
   },
   {
    "duration": 7,
    "start_time": "2022-01-10T01:21:26.709Z"
   },
   {
    "duration": 77,
    "start_time": "2022-01-10T01:21:26.718Z"
   },
   {
    "duration": 10,
    "start_time": "2022-01-10T01:21:26.799Z"
   },
   {
    "duration": 68,
    "start_time": "2022-01-10T01:21:26.812Z"
   },
   {
    "duration": 11,
    "start_time": "2022-01-10T01:21:26.884Z"
   },
   {
    "duration": 63,
    "start_time": "2022-01-10T01:21:26.898Z"
   },
   {
    "duration": 40,
    "start_time": "2022-01-10T01:21:26.970Z"
   },
   {
    "duration": 7,
    "start_time": "2022-01-10T01:21:27.015Z"
   },
   {
    "duration": 36,
    "start_time": "2022-01-10T01:21:27.025Z"
   },
   {
    "duration": 9,
    "start_time": "2022-01-10T01:21:27.065Z"
   },
   {
    "duration": 22,
    "start_time": "2022-01-10T01:21:27.077Z"
   },
   {
    "duration": 18,
    "start_time": "2022-01-10T01:21:27.102Z"
   },
   {
    "duration": 142,
    "start_time": "2022-01-10T01:21:27.159Z"
   },
   {
    "duration": 662,
    "start_time": "2022-01-10T01:21:27.304Z"
   },
   {
    "duration": 4,
    "start_time": "2022-01-10T01:21:27.969Z"
   },
   {
    "duration": 1873,
    "start_time": "2022-01-10T01:21:27.976Z"
   },
   {
    "duration": 8,
    "start_time": "2022-01-10T01:21:29.851Z"
   },
   {
    "duration": 8,
    "start_time": "2022-01-10T01:21:29.861Z"
   },
   {
    "duration": 10,
    "start_time": "2022-01-10T01:21:29.871Z"
   },
   {
    "duration": 482,
    "start_time": "2022-01-10T01:21:29.883Z"
   },
   {
    "duration": 107,
    "start_time": "2022-01-10T01:21:30.368Z"
   },
   {
    "duration": 532,
    "start_time": "2022-01-10T01:21:30.478Z"
   },
   {
    "duration": 551,
    "start_time": "2022-01-10T01:21:31.012Z"
   },
   {
    "duration": -162,
    "start_time": "2022-01-10T01:21:31.727Z"
   },
   {
    "duration": -167,
    "start_time": "2022-01-10T01:21:31.734Z"
   },
   {
    "duration": -177,
    "start_time": "2022-01-10T01:21:31.745Z"
   },
   {
    "duration": -182,
    "start_time": "2022-01-10T01:21:31.752Z"
   },
   {
    "duration": -291,
    "start_time": "2022-01-10T01:21:31.863Z"
   },
   {
    "duration": -301,
    "start_time": "2022-01-10T01:21:31.874Z"
   },
   {
    "duration": -306,
    "start_time": "2022-01-10T01:21:31.881Z"
   },
   {
    "duration": -310,
    "start_time": "2022-01-10T01:21:31.886Z"
   },
   {
    "duration": -317,
    "start_time": "2022-01-10T01:21:31.894Z"
   },
   {
    "duration": -321,
    "start_time": "2022-01-10T01:21:31.900Z"
   },
   {
    "duration": -328,
    "start_time": "2022-01-10T01:21:31.908Z"
   },
   {
    "duration": -332,
    "start_time": "2022-01-10T01:21:31.915Z"
   },
   {
    "duration": -335,
    "start_time": "2022-01-10T01:21:31.920Z"
   },
   {
    "duration": -342,
    "start_time": "2022-01-10T01:21:31.929Z"
   },
   {
    "duration": 7,
    "start_time": "2022-01-10T01:22:43.841Z"
   },
   {
    "duration": 5,
    "start_time": "2022-01-10T01:22:44.575Z"
   },
   {
    "duration": 16,
    "start_time": "2022-01-10T01:22:45.206Z"
   },
   {
    "duration": 15,
    "start_time": "2022-01-10T01:22:46.541Z"
   },
   {
    "duration": 23,
    "start_time": "2022-01-10T01:22:47.544Z"
   },
   {
    "duration": 18,
    "start_time": "2022-01-10T01:22:48.877Z"
   },
   {
    "duration": 5,
    "start_time": "2022-01-10T01:22:56.131Z"
   },
   {
    "duration": 4,
    "start_time": "2022-01-10T01:23:08.980Z"
   },
   {
    "duration": 8,
    "start_time": "2022-01-10T01:23:10.826Z"
   },
   {
    "duration": 7,
    "start_time": "2022-01-10T01:23:56.002Z"
   },
   {
    "duration": 6,
    "start_time": "2022-01-10T01:23:56.808Z"
   },
   {
    "duration": 8,
    "start_time": "2022-01-10T01:23:57.855Z"
   },
   {
    "duration": 956,
    "start_time": "2022-01-10T01:28:56.456Z"
   },
   {
    "duration": 6,
    "start_time": "2022-01-10T01:29:52.031Z"
   },
   {
    "duration": 6,
    "start_time": "2022-01-10T01:30:18.198Z"
   },
   {
    "duration": 7,
    "start_time": "2022-01-10T01:30:41.080Z"
   },
   {
    "duration": 6,
    "start_time": "2022-01-10T01:30:58.185Z"
   },
   {
    "duration": 5,
    "start_time": "2022-01-10T01:39:43.552Z"
   },
   {
    "duration": 7,
    "start_time": "2022-01-10T01:39:44.197Z"
   },
   {
    "duration": 6,
    "start_time": "2022-01-10T01:39:59.110Z"
   },
   {
    "duration": 7,
    "start_time": "2022-01-10T01:40:06.119Z"
   },
   {
    "duration": 8,
    "start_time": "2022-01-10T01:40:11.092Z"
   },
   {
    "duration": 7,
    "start_time": "2022-01-10T01:41:37.624Z"
   },
   {
    "duration": 6,
    "start_time": "2022-01-10T01:43:49.595Z"
   },
   {
    "duration": 5,
    "start_time": "2022-01-10T01:44:07.700Z"
   },
   {
    "duration": 6,
    "start_time": "2022-01-10T01:45:03.665Z"
   },
   {
    "duration": 25,
    "start_time": "2022-01-10T01:48:55.880Z"
   },
   {
    "duration": 121,
    "start_time": "2022-01-10T02:41:19.160Z"
   },
   {
    "duration": 382,
    "start_time": "2022-01-10T02:41:30.659Z"
   },
   {
    "duration": 25,
    "start_time": "2022-01-10T02:42:09.520Z"
   },
   {
    "duration": 24,
    "start_time": "2022-01-10T02:43:03.833Z"
   },
   {
    "duration": 6227,
    "start_time": "2022-01-10T02:44:05.853Z"
   },
   {
    "duration": 1543,
    "start_time": "2022-01-10T02:44:12.083Z"
   },
   {
    "duration": 20,
    "start_time": "2022-01-10T02:44:13.630Z"
   },
   {
    "duration": 10,
    "start_time": "2022-01-10T02:44:13.653Z"
   },
   {
    "duration": 17,
    "start_time": "2022-01-10T02:44:13.666Z"
   },
   {
    "duration": 8,
    "start_time": "2022-01-10T02:44:13.686Z"
   },
   {
    "duration": 10,
    "start_time": "2022-01-10T02:44:13.696Z"
   },
   {
    "duration": 17,
    "start_time": "2022-01-10T02:44:13.708Z"
   },
   {
    "duration": 34,
    "start_time": "2022-01-10T02:44:13.762Z"
   },
   {
    "duration": 60,
    "start_time": "2022-01-10T02:44:13.799Z"
   },
   {
    "duration": 6,
    "start_time": "2022-01-10T02:44:13.862Z"
   },
   {
    "duration": 8821,
    "start_time": "2022-01-10T02:44:13.871Z"
   },
   {
    "duration": 4,
    "start_time": "2022-01-10T02:44:22.694Z"
   },
   {
    "duration": 9,
    "start_time": "2022-01-10T02:44:22.701Z"
   },
   {
    "duration": 50,
    "start_time": "2022-01-10T02:44:22.713Z"
   },
   {
    "duration": 16,
    "start_time": "2022-01-10T02:44:22.766Z"
   },
   {
    "duration": 8,
    "start_time": "2022-01-10T02:44:22.785Z"
   },
   {
    "duration": 25,
    "start_time": "2022-01-10T02:44:22.796Z"
   },
   {
    "duration": 40,
    "start_time": "2022-01-10T02:44:22.823Z"
   },
   {
    "duration": 24,
    "start_time": "2022-01-10T02:44:22.866Z"
   },
   {
    "duration": 8,
    "start_time": "2022-01-10T02:44:22.892Z"
   },
   {
    "duration": 61,
    "start_time": "2022-01-10T02:44:22.903Z"
   },
   {
    "duration": 25,
    "start_time": "2022-01-10T02:44:22.966Z"
   },
   {
    "duration": 6,
    "start_time": "2022-01-10T02:44:22.994Z"
   },
   {
    "duration": 7,
    "start_time": "2022-01-10T02:44:23.002Z"
   },
   {
    "duration": 13,
    "start_time": "2022-01-10T02:44:23.012Z"
   },
   {
    "duration": 14,
    "start_time": "2022-01-10T02:44:23.060Z"
   },
   {
    "duration": 12,
    "start_time": "2022-01-10T02:44:23.077Z"
   },
   {
    "duration": 103,
    "start_time": "2022-01-10T02:44:23.092Z"
   },
   {
    "duration": 541,
    "start_time": "2022-01-10T02:44:23.197Z"
   },
   {
    "duration": 4,
    "start_time": "2022-01-10T02:44:23.741Z"
   },
   {
    "duration": 1945,
    "start_time": "2022-01-10T02:44:23.748Z"
   },
   {
    "duration": 3,
    "start_time": "2022-01-10T02:44:25.696Z"
   },
   {
    "duration": 7,
    "start_time": "2022-01-10T02:44:25.702Z"
   },
   {
    "duration": 10,
    "start_time": "2022-01-10T02:44:25.712Z"
   },
   {
    "duration": 601,
    "start_time": "2022-01-10T02:44:25.725Z"
   },
   {
    "duration": 83,
    "start_time": "2022-01-10T02:44:26.329Z"
   },
   {
    "duration": 505,
    "start_time": "2022-01-10T02:44:26.415Z"
   },
   {
    "duration": 653,
    "start_time": "2022-01-10T02:44:26.923Z"
   },
   {
    "duration": -455,
    "start_time": "2022-01-10T02:44:28.034Z"
   },
   {
    "duration": -460,
    "start_time": "2022-01-10T02:44:28.042Z"
   },
   {
    "duration": -465,
    "start_time": "2022-01-10T02:44:28.049Z"
   },
   {
    "duration": -609,
    "start_time": "2022-01-10T02:44:28.195Z"
   },
   {
    "duration": -618,
    "start_time": "2022-01-10T02:44:28.206Z"
   },
   {
    "duration": -624,
    "start_time": "2022-01-10T02:44:28.214Z"
   },
   {
    "duration": -629,
    "start_time": "2022-01-10T02:44:28.221Z"
   },
   {
    "duration": -635,
    "start_time": "2022-01-10T02:44:28.229Z"
   },
   {
    "duration": -640,
    "start_time": "2022-01-10T02:44:28.236Z"
   },
   {
    "duration": -649,
    "start_time": "2022-01-10T02:44:28.247Z"
   },
   {
    "duration": -654,
    "start_time": "2022-01-10T02:44:28.255Z"
   },
   {
    "duration": -662,
    "start_time": "2022-01-10T02:44:28.264Z"
   },
   {
    "duration": -667,
    "start_time": "2022-01-10T02:44:28.271Z"
   },
   {
    "duration": -676,
    "start_time": "2022-01-10T02:44:28.281Z"
   },
   {
    "duration": -690,
    "start_time": "2022-01-10T02:44:28.297Z"
   },
   {
    "duration": -697,
    "start_time": "2022-01-10T02:44:28.305Z"
   },
   {
    "duration": -702,
    "start_time": "2022-01-10T02:44:28.312Z"
   },
   {
    "duration": -709,
    "start_time": "2022-01-10T02:44:28.321Z"
   },
   {
    "duration": -717,
    "start_time": "2022-01-10T02:44:28.330Z"
   },
   {
    "duration": -725,
    "start_time": "2022-01-10T02:44:28.339Z"
   },
   {
    "duration": 14,
    "start_time": "2022-01-10T02:53:00.787Z"
   },
   {
    "duration": 8,
    "start_time": "2022-01-10T02:53:54.516Z"
   },
   {
    "duration": 8,
    "start_time": "2022-01-10T02:54:27.123Z"
   },
   {
    "duration": 25,
    "start_time": "2022-01-10T02:54:28.420Z"
   },
   {
    "duration": 8,
    "start_time": "2022-01-10T02:54:29.051Z"
   },
   {
    "duration": 26,
    "start_time": "2022-01-10T02:54:29.914Z"
   },
   {
    "duration": 9,
    "start_time": "2022-01-10T02:54:31.232Z"
   },
   {
    "duration": 26,
    "start_time": "2022-01-10T02:54:32.752Z"
   },
   {
    "duration": 26,
    "start_time": "2022-01-10T02:54:33.707Z"
   },
   {
    "duration": 4463,
    "start_time": "2022-01-10T02:57:41.783Z"
   },
   {
    "duration": 1588,
    "start_time": "2022-01-10T02:57:46.249Z"
   },
   {
    "duration": 19,
    "start_time": "2022-01-10T02:57:47.840Z"
   },
   {
    "duration": 5,
    "start_time": "2022-01-10T02:57:47.862Z"
   },
   {
    "duration": 18,
    "start_time": "2022-01-10T02:57:47.870Z"
   },
   {
    "duration": 8,
    "start_time": "2022-01-10T02:57:47.890Z"
   },
   {
    "duration": 10,
    "start_time": "2022-01-10T02:57:47.901Z"
   },
   {
    "duration": 50,
    "start_time": "2022-01-10T02:57:47.915Z"
   },
   {
    "duration": 33,
    "start_time": "2022-01-10T02:57:47.968Z"
   },
   {
    "duration": 57,
    "start_time": "2022-01-10T02:57:48.003Z"
   },
   {
    "duration": 6,
    "start_time": "2022-01-10T02:57:48.063Z"
   },
   {
    "duration": 12161,
    "start_time": "2022-01-10T02:57:48.072Z"
   },
   {
    "duration": 5,
    "start_time": "2022-01-10T02:58:00.236Z"
   },
   {
    "duration": 20,
    "start_time": "2022-01-10T02:58:00.244Z"
   },
   {
    "duration": 17,
    "start_time": "2022-01-10T02:58:00.267Z"
   },
   {
    "duration": 17,
    "start_time": "2022-01-10T02:58:00.287Z"
   },
   {
    "duration": 54,
    "start_time": "2022-01-10T02:58:00.306Z"
   },
   {
    "duration": 28,
    "start_time": "2022-01-10T02:58:00.363Z"
   },
   {
    "duration": 9,
    "start_time": "2022-01-10T02:58:00.394Z"
   },
   {
    "duration": 71,
    "start_time": "2022-01-10T02:58:00.406Z"
   },
   {
    "duration": 8,
    "start_time": "2022-01-10T02:58:00.480Z"
   },
   {
    "duration": 43,
    "start_time": "2022-01-10T02:58:00.491Z"
   },
   {
    "duration": 30,
    "start_time": "2022-01-10T02:58:00.558Z"
   },
   {
    "duration": 6,
    "start_time": "2022-01-10T02:58:00.591Z"
   },
   {
    "duration": 14,
    "start_time": "2022-01-10T02:58:00.599Z"
   },
   {
    "duration": 6,
    "start_time": "2022-01-10T02:58:00.615Z"
   },
   {
    "duration": 554,
    "start_time": "2022-01-10T02:58:00.624Z"
   },
   {
    "duration": -250,
    "start_time": "2022-01-10T02:58:01.431Z"
   },
   {
    "duration": -263,
    "start_time": "2022-01-10T02:58:01.445Z"
   },
   {
    "duration": -274,
    "start_time": "2022-01-10T02:58:01.458Z"
   },
   {
    "duration": -286,
    "start_time": "2022-01-10T02:58:01.471Z"
   },
   {
    "duration": -293,
    "start_time": "2022-01-10T02:58:01.479Z"
   },
   {
    "duration": -304,
    "start_time": "2022-01-10T02:58:01.492Z"
   },
   {
    "duration": -382,
    "start_time": "2022-01-10T02:58:01.571Z"
   },
   {
    "duration": -389,
    "start_time": "2022-01-10T02:58:01.579Z"
   },
   {
    "duration": -401,
    "start_time": "2022-01-10T02:58:01.592Z"
   },
   {
    "duration": -411,
    "start_time": "2022-01-10T02:58:01.604Z"
   },
   {
    "duration": -418,
    "start_time": "2022-01-10T02:58:01.612Z"
   },
   {
    "duration": -427,
    "start_time": "2022-01-10T02:58:01.622Z"
   },
   {
    "duration": -432,
    "start_time": "2022-01-10T02:58:01.629Z"
   },
   {
    "duration": -440,
    "start_time": "2022-01-10T02:58:01.638Z"
   },
   {
    "duration": -445,
    "start_time": "2022-01-10T02:58:01.644Z"
   },
   {
    "duration": -452,
    "start_time": "2022-01-10T02:58:01.654Z"
   },
   {
    "duration": -457,
    "start_time": "2022-01-10T02:58:01.660Z"
   },
   {
    "duration": -466,
    "start_time": "2022-01-10T02:58:01.670Z"
   },
   {
    "duration": -471,
    "start_time": "2022-01-10T02:58:01.676Z"
   },
   {
    "duration": -480,
    "start_time": "2022-01-10T02:58:01.686Z"
   },
   {
    "duration": -484,
    "start_time": "2022-01-10T02:58:01.692Z"
   },
   {
    "duration": -494,
    "start_time": "2022-01-10T02:58:01.703Z"
   },
   {
    "duration": -499,
    "start_time": "2022-01-10T02:58:01.709Z"
   },
   {
    "duration": -508,
    "start_time": "2022-01-10T02:58:01.719Z"
   },
   {
    "duration": -513,
    "start_time": "2022-01-10T02:58:01.725Z"
   },
   {
    "duration": -519,
    "start_time": "2022-01-10T02:58:01.733Z"
   },
   {
    "duration": -530,
    "start_time": "2022-01-10T02:58:01.745Z"
   },
   {
    "duration": -540,
    "start_time": "2022-01-10T02:58:01.756Z"
   },
   {
    "duration": -545,
    "start_time": "2022-01-10T02:58:01.762Z"
   },
   {
    "duration": -553,
    "start_time": "2022-01-10T02:58:01.771Z"
   },
   {
    "duration": -514,
    "start_time": "2022-01-10T02:58:01.777Z"
   },
   {
    "duration": 8,
    "start_time": "2022-01-10T02:59:46.664Z"
   },
   {
    "duration": 8,
    "start_time": "2022-01-10T02:59:47.760Z"
   },
   {
    "duration": 11,
    "start_time": "2022-01-10T03:00:06.214Z"
   },
   {
    "duration": 64,
    "start_time": "2022-01-10T03:00:08.504Z"
   },
   {
    "duration": 776,
    "start_time": "2022-01-10T03:00:18.761Z"
   },
   {
    "duration": 16,
    "start_time": "2022-01-10T03:01:20.617Z"
   },
   {
    "duration": 13,
    "start_time": "2022-01-10T03:01:29.150Z"
   },
   {
    "duration": 83,
    "start_time": "2022-01-10T03:01:30.513Z"
   },
   {
    "duration": 571,
    "start_time": "2022-01-10T03:01:32.415Z"
   },
   {
    "duration": 4,
    "start_time": "2022-01-10T03:02:02.969Z"
   },
   {
    "duration": 1910,
    "start_time": "2022-01-10T03:02:04.483Z"
   },
   {
    "duration": 6,
    "start_time": "2022-01-10T03:09:32.132Z"
   },
   {
    "duration": 7,
    "start_time": "2022-01-10T03:09:33.207Z"
   },
   {
    "duration": 11,
    "start_time": "2022-01-10T03:09:36.960Z"
   },
   {
    "duration": 440,
    "start_time": "2022-01-10T03:10:02.603Z"
   },
   {
    "duration": 68,
    "start_time": "2022-01-10T03:10:04.205Z"
   },
   {
    "duration": 505,
    "start_time": "2022-01-10T03:10:05.746Z"
   },
   {
    "duration": 7,
    "start_time": "2022-01-10T03:10:22.393Z"
   },
   {
    "duration": 6,
    "start_time": "2022-01-10T03:10:24.342Z"
   },
   {
    "duration": 14,
    "start_time": "2022-01-10T03:10:26.462Z"
   },
   {
    "duration": 13,
    "start_time": "2022-01-10T03:10:29.474Z"
   },
   {
    "duration": 17,
    "start_time": "2022-01-10T03:10:32.785Z"
   },
   {
    "duration": 16,
    "start_time": "2022-01-10T03:10:34.566Z"
   },
   {
    "duration": 7,
    "start_time": "2022-01-10T03:11:15.788Z"
   },
   {
    "duration": 4,
    "start_time": "2022-01-10T03:11:18.279Z"
   },
   {
    "duration": 4,
    "start_time": "2022-01-10T03:11:20.446Z"
   },
   {
    "duration": 8,
    "start_time": "2022-01-10T03:11:27.743Z"
   },
   {
    "duration": 8,
    "start_time": "2022-01-10T03:11:30.194Z"
   },
   {
    "duration": 8,
    "start_time": "2022-01-10T03:11:35.231Z"
   },
   {
    "duration": 8,
    "start_time": "2022-01-10T03:11:58.373Z"
   },
   {
    "duration": 6,
    "start_time": "2022-01-10T03:12:01.271Z"
   },
   {
    "duration": 6,
    "start_time": "2022-01-10T03:12:08.000Z"
   },
   {
    "duration": 6,
    "start_time": "2022-01-10T03:12:10.972Z"
   },
   {
    "duration": 16,
    "start_time": "2022-01-10T03:12:18.887Z"
   },
   {
    "duration": 5,
    "start_time": "2022-01-10T03:18:13.700Z"
   },
   {
    "duration": 385,
    "start_time": "2022-01-10T03:19:00.968Z"
   },
   {
    "duration": 6,
    "start_time": "2022-01-10T03:19:09.091Z"
   },
   {
    "duration": 6,
    "start_time": "2022-01-10T03:19:27.952Z"
   },
   {
    "duration": 6,
    "start_time": "2022-01-10T03:19:41.509Z"
   },
   {
    "duration": 6,
    "start_time": "2022-01-10T03:20:02.898Z"
   },
   {
    "duration": 662,
    "start_time": "2022-01-10T03:22:07.492Z"
   },
   {
    "duration": 6,
    "start_time": "2022-01-10T03:23:01.259Z"
   },
   {
    "duration": 610,
    "start_time": "2022-01-10T03:23:26.164Z"
   },
   {
    "duration": 635,
    "start_time": "2022-01-10T03:24:33.375Z"
   },
   {
    "duration": 25,
    "start_time": "2022-01-10T03:29:43.194Z"
   },
   {
    "duration": 19,
    "start_time": "2022-01-10T03:29:49.803Z"
   },
   {
    "duration": 18,
    "start_time": "2022-01-10T03:30:38.208Z"
   },
   {
    "duration": 4,
    "start_time": "2022-01-10T03:36:01.016Z"
   },
   {
    "duration": 18,
    "start_time": "2022-01-10T03:36:14.256Z"
   },
   {
    "duration": 13107,
    "start_time": "2022-01-10T22:34:23.533Z"
   },
   {
    "duration": 2121,
    "start_time": "2022-01-10T22:34:36.644Z"
   },
   {
    "duration": 64,
    "start_time": "2022-01-10T22:34:38.769Z"
   },
   {
    "duration": 7,
    "start_time": "2022-01-10T22:34:38.837Z"
   },
   {
    "duration": 31,
    "start_time": "2022-01-10T22:34:38.848Z"
   },
   {
    "duration": 12,
    "start_time": "2022-01-10T22:34:38.882Z"
   },
   {
    "duration": 13,
    "start_time": "2022-01-10T22:34:38.898Z"
   },
   {
    "duration": 14,
    "start_time": "2022-01-10T22:34:38.917Z"
   },
   {
    "duration": 52,
    "start_time": "2022-01-10T22:34:38.962Z"
   },
   {
    "duration": 75,
    "start_time": "2022-01-10T22:34:39.017Z"
   },
   {
    "duration": 9,
    "start_time": "2022-01-10T22:34:39.096Z"
   },
   {
    "duration": 14154,
    "start_time": "2022-01-10T22:34:39.108Z"
   },
   {
    "duration": 5,
    "start_time": "2022-01-10T22:34:53.266Z"
   },
   {
    "duration": 10,
    "start_time": "2022-01-10T22:34:53.274Z"
   },
   {
    "duration": 20,
    "start_time": "2022-01-10T22:34:53.288Z"
   },
   {
    "duration": 16,
    "start_time": "2022-01-10T22:34:53.311Z"
   },
   {
    "duration": 9,
    "start_time": "2022-01-10T22:34:53.360Z"
   },
   {
    "duration": 27,
    "start_time": "2022-01-10T22:34:53.372Z"
   },
   {
    "duration": 7,
    "start_time": "2022-01-10T22:34:53.401Z"
   },
   {
    "duration": 66,
    "start_time": "2022-01-10T22:34:53.410Z"
   },
   {
    "duration": 9,
    "start_time": "2022-01-10T22:34:53.479Z"
   },
   {
    "duration": 26,
    "start_time": "2022-01-10T22:34:53.491Z"
   },
   {
    "duration": 25,
    "start_time": "2022-01-10T22:34:53.561Z"
   },
   {
    "duration": 7,
    "start_time": "2022-01-10T22:34:53.593Z"
   },
   {
    "duration": 16,
    "start_time": "2022-01-10T22:34:53.603Z"
   },
   {
    "duration": 7,
    "start_time": "2022-01-10T22:34:53.621Z"
   },
   {
    "duration": 40,
    "start_time": "2022-01-10T22:34:53.630Z"
   },
   {
    "duration": 3,
    "start_time": "2022-01-10T22:34:53.672Z"
   },
   {
    "duration": 3,
    "start_time": "2022-01-10T22:34:53.677Z"
   },
   {
    "duration": 4,
    "start_time": "2022-01-10T22:34:53.683Z"
   },
   {
    "duration": 14,
    "start_time": "2022-01-10T22:34:53.689Z"
   },
   {
    "duration": 123,
    "start_time": "2022-01-10T22:34:53.706Z"
   },
   {
    "duration": 558,
    "start_time": "2022-01-10T22:34:53.832Z"
   },
   {
    "duration": 5,
    "start_time": "2022-01-10T22:34:54.393Z"
   },
   {
    "duration": 1952,
    "start_time": "2022-01-10T22:34:54.401Z"
   },
   {
    "duration": 3,
    "start_time": "2022-01-10T22:34:56.360Z"
   },
   {
    "duration": 10,
    "start_time": "2022-01-10T22:34:56.368Z"
   },
   {
    "duration": 14,
    "start_time": "2022-01-10T22:34:56.381Z"
   },
   {
    "duration": 564,
    "start_time": "2022-01-10T22:34:56.398Z"
   },
   {
    "duration": 70,
    "start_time": "2022-01-10T22:34:56.965Z"
   },
   {
    "duration": 639,
    "start_time": "2022-01-10T22:34:57.037Z"
   },
   {
    "duration": 6,
    "start_time": "2022-01-10T22:34:57.678Z"
   },
   {
    "duration": 7,
    "start_time": "2022-01-10T22:34:57.687Z"
   },
   {
    "duration": 62,
    "start_time": "2022-01-10T22:34:57.697Z"
   },
   {
    "duration": 98,
    "start_time": "2022-01-10T22:34:57.763Z"
   },
   {
    "duration": 96,
    "start_time": "2022-01-10T22:34:57.864Z"
   },
   {
    "duration": 96,
    "start_time": "2022-01-10T22:34:57.963Z"
   },
   {
    "duration": 8,
    "start_time": "2022-01-10T22:34:58.062Z"
   },
   {
    "duration": 87,
    "start_time": "2022-01-10T22:34:58.073Z"
   },
   {
    "duration": 5,
    "start_time": "2022-01-10T22:34:58.163Z"
   },
   {
    "duration": 10,
    "start_time": "2022-01-10T22:34:58.171Z"
   },
   {
    "duration": 78,
    "start_time": "2022-01-10T22:34:58.184Z"
   },
   {
    "duration": 10,
    "start_time": "2022-01-10T22:34:58.265Z"
   },
   {
    "duration": 86,
    "start_time": "2022-01-10T22:34:58.278Z"
   },
   {
    "duration": 5,
    "start_time": "2022-01-10T22:34:58.366Z"
   },
   {
    "duration": 5,
    "start_time": "2022-01-10T22:34:58.373Z"
   },
   {
    "duration": 6,
    "start_time": "2022-01-10T22:34:58.381Z"
   },
   {
    "duration": 7,
    "start_time": "2022-01-10T22:34:58.389Z"
   },
   {
    "duration": 7,
    "start_time": "2022-01-10T22:34:58.398Z"
   },
   {
    "duration": 54,
    "start_time": "2022-01-10T22:34:58.407Z"
   },
   {
    "duration": 6,
    "start_time": "2022-01-10T22:34:58.463Z"
   },
   {
    "duration": 15,
    "start_time": "2022-01-10T22:34:58.472Z"
   },
   {
    "duration": 74,
    "start_time": "2022-01-10T22:34:58.489Z"
   },
   {
    "duration": 17,
    "start_time": "2022-01-10T22:34:58.566Z"
   },
   {
    "duration": 8,
    "start_time": "2022-01-10T22:34:58.660Z"
   },
   {
    "duration": 88,
    "start_time": "2022-01-10T22:34:58.671Z"
   },
   {
    "duration": 7,
    "start_time": "2022-01-10T22:34:58.762Z"
   },
   {
    "duration": 86,
    "start_time": "2022-01-10T22:34:58.775Z"
   },
   {
    "duration": 129,
    "start_time": "2022-01-10T22:34:58.864Z"
   },
   {
    "duration": -107,
    "start_time": "2022-01-10T22:34:59.103Z"
   },
   {
    "duration": -112,
    "start_time": "2022-01-10T22:34:59.110Z"
   },
   {
    "duration": 7,
    "start_time": "2022-01-10T22:39:00.113Z"
   },
   {
    "duration": 7,
    "start_time": "2022-01-10T22:39:11.645Z"
   },
   {
    "duration": 6,
    "start_time": "2022-01-10T22:40:11.144Z"
   },
   {
    "duration": 6,
    "start_time": "2022-01-10T22:40:22.365Z"
   },
   {
    "duration": 6,
    "start_time": "2022-01-10T22:40:31.395Z"
   },
   {
    "duration": 8934,
    "start_time": "2022-01-10T22:49:20.530Z"
   },
   {
    "duration": 9842,
    "start_time": "2022-01-10T22:49:58.383Z"
   },
   {
    "duration": 9,
    "start_time": "2022-01-10T22:50:49.459Z"
   },
   {
    "duration": 8,
    "start_time": "2022-01-10T22:52:37.632Z"
   },
   {
    "duration": 1148,
    "start_time": "2022-01-10T22:52:54.352Z"
   },
   {
    "duration": 8758,
    "start_time": "2022-01-10T22:54:04.145Z"
   },
   {
    "duration": 19,
    "start_time": "2022-01-10T22:54:28.477Z"
   },
   {
    "duration": 14,
    "start_time": "2022-01-10T22:54:40.186Z"
   },
   {
    "duration": 12,
    "start_time": "2022-01-10T22:55:16.115Z"
   },
   {
    "duration": 4421,
    "start_time": "2022-01-10T22:57:01.401Z"
   },
   {
    "duration": 1592,
    "start_time": "2022-01-10T22:57:05.826Z"
   },
   {
    "duration": 20,
    "start_time": "2022-01-10T22:57:07.422Z"
   },
   {
    "duration": 5,
    "start_time": "2022-01-10T22:57:07.445Z"
   },
   {
    "duration": 20,
    "start_time": "2022-01-10T22:57:07.453Z"
   },
   {
    "duration": 9,
    "start_time": "2022-01-10T22:57:07.475Z"
   },
   {
    "duration": 12,
    "start_time": "2022-01-10T22:57:07.487Z"
   },
   {
    "duration": 9,
    "start_time": "2022-01-10T22:57:07.503Z"
   },
   {
    "duration": 72,
    "start_time": "2022-01-10T22:57:07.515Z"
   },
   {
    "duration": 36,
    "start_time": "2022-01-10T22:57:07.590Z"
   },
   {
    "duration": 33,
    "start_time": "2022-01-10T22:57:07.628Z"
   },
   {
    "duration": 8553,
    "start_time": "2022-01-10T22:57:07.663Z"
   },
   {
    "duration": 5,
    "start_time": "2022-01-10T22:57:16.219Z"
   },
   {
    "duration": 9,
    "start_time": "2022-01-10T22:57:16.227Z"
   },
   {
    "duration": 15,
    "start_time": "2022-01-10T22:57:16.259Z"
   },
   {
    "duration": 14,
    "start_time": "2022-01-10T22:57:16.276Z"
   },
   {
    "duration": 11,
    "start_time": "2022-01-10T22:57:16.294Z"
   },
   {
    "duration": 70,
    "start_time": "2022-01-10T22:57:16.308Z"
   },
   {
    "duration": 8,
    "start_time": "2022-01-10T22:57:16.381Z"
   },
   {
    "duration": 70,
    "start_time": "2022-01-10T22:57:16.392Z"
   },
   {
    "duration": 12,
    "start_time": "2022-01-10T22:57:16.465Z"
   },
   {
    "duration": 27,
    "start_time": "2022-01-10T22:57:16.480Z"
   },
   {
    "duration": 59,
    "start_time": "2022-01-10T22:57:16.515Z"
   },
   {
    "duration": 5,
    "start_time": "2022-01-10T22:57:16.578Z"
   },
   {
    "duration": 8,
    "start_time": "2022-01-10T22:57:16.585Z"
   },
   {
    "duration": 7,
    "start_time": "2022-01-10T22:57:16.595Z"
   },
   {
    "duration": 56,
    "start_time": "2022-01-10T22:57:16.604Z"
   },
   {
    "duration": 3,
    "start_time": "2022-01-10T22:57:16.663Z"
   },
   {
    "duration": 4,
    "start_time": "2022-01-10T22:57:16.669Z"
   },
   {
    "duration": 7,
    "start_time": "2022-01-10T22:57:16.676Z"
   },
   {
    "duration": 16,
    "start_time": "2022-01-10T22:57:16.685Z"
   },
   {
    "duration": 106,
    "start_time": "2022-01-10T22:57:16.703Z"
   },
   {
    "duration": 551,
    "start_time": "2022-01-10T22:57:16.812Z"
   },
   {
    "duration": 4,
    "start_time": "2022-01-10T22:57:17.366Z"
   },
   {
    "duration": 2031,
    "start_time": "2022-01-10T22:57:17.372Z"
   },
   {
    "duration": 4,
    "start_time": "2022-01-10T22:57:19.406Z"
   },
   {
    "duration": 9,
    "start_time": "2022-01-10T22:57:19.412Z"
   },
   {
    "duration": 36,
    "start_time": "2022-01-10T22:57:19.423Z"
   },
   {
    "duration": 487,
    "start_time": "2022-01-10T22:57:19.462Z"
   },
   {
    "duration": 73,
    "start_time": "2022-01-10T22:57:19.951Z"
   },
   {
    "duration": 524,
    "start_time": "2022-01-10T22:57:20.026Z"
   },
   {
    "duration": 6,
    "start_time": "2022-01-10T22:57:20.560Z"
   },
   {
    "duration": 6,
    "start_time": "2022-01-10T22:57:20.568Z"
   },
   {
    "duration": 17,
    "start_time": "2022-01-10T22:57:20.576Z"
   },
   {
    "duration": 106,
    "start_time": "2022-01-10T22:57:20.661Z"
   },
   {
    "duration": 110,
    "start_time": "2022-01-10T22:57:20.770Z"
   },
   {
    "duration": 182,
    "start_time": "2022-01-10T22:57:20.884Z"
   },
   {
    "duration": 92,
    "start_time": "2022-01-10T22:57:21.069Z"
   },
   {
    "duration": 5,
    "start_time": "2022-01-10T22:57:21.164Z"
   },
   {
    "duration": 5,
    "start_time": "2022-01-10T22:57:21.172Z"
   },
   {
    "duration": 9,
    "start_time": "2022-01-10T22:57:21.180Z"
   },
   {
    "duration": 89,
    "start_time": "2022-01-10T22:57:21.192Z"
   },
   {
    "duration": 82,
    "start_time": "2022-01-10T22:57:21.284Z"
   },
   {
    "duration": 8,
    "start_time": "2022-01-10T22:57:21.369Z"
   },
   {
    "duration": 8,
    "start_time": "2022-01-10T22:57:21.380Z"
   },
   {
    "duration": 7,
    "start_time": "2022-01-10T22:57:21.391Z"
   },
   {
    "duration": 9,
    "start_time": "2022-01-10T22:57:21.402Z"
   },
   {
    "duration": 50,
    "start_time": "2022-01-10T22:57:21.413Z"
   },
   {
    "duration": 7,
    "start_time": "2022-01-10T22:57:21.466Z"
   },
   {
    "duration": 10,
    "start_time": "2022-01-10T22:57:21.475Z"
   },
   {
    "duration": 8,
    "start_time": "2022-01-10T22:57:21.488Z"
   },
   {
    "duration": 18,
    "start_time": "2022-01-10T22:57:21.498Z"
   },
   {
    "duration": 63,
    "start_time": "2022-01-10T22:57:21.519Z"
   },
   {
    "duration": 90,
    "start_time": "2022-01-10T22:57:21.585Z"
   },
   {
    "duration": 88,
    "start_time": "2022-01-10T22:57:21.679Z"
   },
   {
    "duration": 90,
    "start_time": "2022-01-10T22:57:21.770Z"
   },
   {
    "duration": 8,
    "start_time": "2022-01-10T22:57:21.863Z"
   },
   {
    "duration": 87,
    "start_time": "2022-01-10T22:57:21.878Z"
   },
   {
    "duration": 118,
    "start_time": "2022-01-10T22:57:21.967Z"
   },
   {
    "duration": -108,
    "start_time": "2022-01-10T22:57:22.196Z"
   },
   {
    "duration": -112,
    "start_time": "2022-01-10T22:57:22.201Z"
   },
   {
    "duration": 508,
    "start_time": "2022-01-10T22:57:49.384Z"
   },
   {
    "duration": 141,
    "start_time": "2022-01-10T22:58:06.999Z"
   },
   {
    "duration": 9,
    "start_time": "2022-01-10T22:58:12.592Z"
   },
   {
    "duration": 9,
    "start_time": "2022-01-10T22:58:31.015Z"
   },
   {
    "duration": 8,
    "start_time": "2022-01-10T22:58:58.850Z"
   },
   {
    "duration": 4,
    "start_time": "2022-01-10T23:00:51.048Z"
   },
   {
    "duration": 742,
    "start_time": "2022-01-10T23:29:35.744Z"
   },
   {
    "duration": 15,
    "start_time": "2022-01-10T23:29:53.522Z"
   },
   {
    "duration": 430,
    "start_time": "2022-01-10T23:30:42.656Z"
   },
   {
    "duration": 5,
    "start_time": "2022-01-10T23:32:22.477Z"
   },
   {
    "duration": 6,
    "start_time": "2022-01-10T23:32:47.133Z"
   },
   {
    "duration": 17,
    "start_time": "2022-01-10T23:33:10.011Z"
   },
   {
    "duration": 5899,
    "start_time": "2022-01-10T23:34:05.192Z"
   },
   {
    "duration": 1633,
    "start_time": "2022-01-10T23:34:11.093Z"
   },
   {
    "duration": 21,
    "start_time": "2022-01-10T23:34:12.729Z"
   },
   {
    "duration": 5,
    "start_time": "2022-01-10T23:34:12.752Z"
   },
   {
    "duration": 22,
    "start_time": "2022-01-10T23:34:12.759Z"
   },
   {
    "duration": 10,
    "start_time": "2022-01-10T23:34:12.783Z"
   },
   {
    "duration": 9,
    "start_time": "2022-01-10T23:34:12.795Z"
   },
   {
    "duration": 11,
    "start_time": "2022-01-10T23:34:12.808Z"
   },
   {
    "duration": 46,
    "start_time": "2022-01-10T23:34:12.824Z"
   },
   {
    "duration": 37,
    "start_time": "2022-01-10T23:34:12.872Z"
   },
   {
    "duration": 7,
    "start_time": "2022-01-10T23:34:12.911Z"
   },
   {
    "duration": 12157,
    "start_time": "2022-01-10T23:34:12.921Z"
   },
   {
    "duration": 5,
    "start_time": "2022-01-10T23:34:25.082Z"
   },
   {
    "duration": 11,
    "start_time": "2022-01-10T23:34:25.090Z"
   },
   {
    "duration": 23,
    "start_time": "2022-01-10T23:34:25.104Z"
   },
   {
    "duration": 22,
    "start_time": "2022-01-10T23:34:25.159Z"
   },
   {
    "duration": 9,
    "start_time": "2022-01-10T23:34:25.184Z"
   },
   {
    "duration": 65,
    "start_time": "2022-01-10T23:34:25.195Z"
   },
   {
    "duration": 9,
    "start_time": "2022-01-10T23:34:25.263Z"
   },
   {
    "duration": 27,
    "start_time": "2022-01-10T23:34:25.274Z"
   },
   {
    "duration": 8,
    "start_time": "2022-01-10T23:34:25.304Z"
   },
   {
    "duration": 61,
    "start_time": "2022-01-10T23:34:25.314Z"
   },
   {
    "duration": 28,
    "start_time": "2022-01-10T23:34:25.383Z"
   },
   {
    "duration": 6,
    "start_time": "2022-01-10T23:34:25.415Z"
   },
   {
    "duration": 38,
    "start_time": "2022-01-10T23:34:25.423Z"
   },
   {
    "duration": 8,
    "start_time": "2022-01-10T23:34:25.463Z"
   },
   {
    "duration": 15,
    "start_time": "2022-01-10T23:34:25.473Z"
   },
   {
    "duration": 4,
    "start_time": "2022-01-10T23:34:25.491Z"
   },
   {
    "duration": 7,
    "start_time": "2022-01-10T23:34:25.498Z"
   },
   {
    "duration": 52,
    "start_time": "2022-01-10T23:34:25.508Z"
   },
   {
    "duration": 15,
    "start_time": "2022-01-10T23:34:25.563Z"
   },
   {
    "duration": 93,
    "start_time": "2022-01-10T23:34:25.580Z"
   },
   {
    "duration": 645,
    "start_time": "2022-01-10T23:34:25.676Z"
   },
   {
    "duration": 7,
    "start_time": "2022-01-10T23:34:26.324Z"
   },
   {
    "duration": 2091,
    "start_time": "2022-01-10T23:34:26.334Z"
   },
   {
    "duration": 4,
    "start_time": "2022-01-10T23:34:28.428Z"
   },
   {
    "duration": 26,
    "start_time": "2022-01-10T23:34:28.436Z"
   },
   {
    "duration": 12,
    "start_time": "2022-01-10T23:34:28.464Z"
   },
   {
    "duration": 483,
    "start_time": "2022-01-10T23:34:28.479Z"
   },
   {
    "duration": 68,
    "start_time": "2022-01-10T23:34:28.964Z"
   },
   {
    "duration": 616,
    "start_time": "2022-01-10T23:34:29.034Z"
   },
   {
    "duration": 6,
    "start_time": "2022-01-10T23:34:29.660Z"
   },
   {
    "duration": 21,
    "start_time": "2022-01-10T23:34:29.668Z"
   },
   {
    "duration": 69,
    "start_time": "2022-01-10T23:34:29.691Z"
   },
   {
    "duration": 104,
    "start_time": "2022-01-10T23:34:29.764Z"
   },
   {
    "duration": 190,
    "start_time": "2022-01-10T23:34:29.872Z"
   },
   {
    "duration": 108,
    "start_time": "2022-01-10T23:34:30.066Z"
   },
   {
    "duration": 91,
    "start_time": "2022-01-10T23:34:30.178Z"
   },
   {
    "duration": 101,
    "start_time": "2022-01-10T23:34:30.273Z"
   },
   {
    "duration": 11,
    "start_time": "2022-01-10T23:34:30.376Z"
   },
   {
    "duration": 17,
    "start_time": "2022-01-10T23:34:30.390Z"
   },
   {
    "duration": 55,
    "start_time": "2022-01-10T23:34:30.410Z"
   },
   {
    "duration": 103,
    "start_time": "2022-01-10T23:34:30.469Z"
   },
   {
    "duration": 11,
    "start_time": "2022-01-10T23:34:30.576Z"
   },
   {
    "duration": 22,
    "start_time": "2022-01-10T23:34:30.591Z"
   },
   {
    "duration": 23,
    "start_time": "2022-01-10T23:34:30.616Z"
   },
   {
    "duration": 19,
    "start_time": "2022-01-10T23:34:30.642Z"
   },
   {
    "duration": 27,
    "start_time": "2022-01-10T23:34:30.664Z"
   },
   {
    "duration": 21,
    "start_time": "2022-01-10T23:34:30.693Z"
   },
   {
    "duration": 15,
    "start_time": "2022-01-10T23:34:30.716Z"
   },
   {
    "duration": 32,
    "start_time": "2022-01-10T23:34:30.734Z"
   },
   {
    "duration": 20,
    "start_time": "2022-01-10T23:34:30.769Z"
   },
   {
    "duration": 28,
    "start_time": "2022-01-10T23:34:30.792Z"
   },
   {
    "duration": 706,
    "start_time": "2022-01-10T23:34:30.823Z"
   },
   {
    "duration": -106,
    "start_time": "2022-01-10T23:34:31.638Z"
   },
   {
    "duration": -110,
    "start_time": "2022-01-10T23:34:31.644Z"
   },
   {
    "duration": -116,
    "start_time": "2022-01-10T23:34:31.651Z"
   },
   {
    "duration": -120,
    "start_time": "2022-01-10T23:34:31.656Z"
   },
   {
    "duration": -124,
    "start_time": "2022-01-10T23:34:31.662Z"
   },
   {
    "duration": -217,
    "start_time": "2022-01-10T23:34:31.756Z"
   },
   {
    "duration": -233,
    "start_time": "2022-01-10T23:34:31.773Z"
   },
   {
    "duration": -237,
    "start_time": "2022-01-10T23:34:31.778Z"
   },
   {
    "duration": 443,
    "start_time": "2022-01-10T23:50:04.944Z"
   },
   {
    "duration": 6,
    "start_time": "2022-01-10T23:55:01.255Z"
   },
   {
    "duration": 120,
    "start_time": "2022-01-10T23:55:49.612Z"
   },
   {
    "duration": 7,
    "start_time": "2022-01-10T23:55:57.123Z"
   },
   {
    "duration": 6,
    "start_time": "2022-01-10T23:56:16.928Z"
   },
   {
    "duration": 6,
    "start_time": "2022-01-10T23:56:41.530Z"
   },
   {
    "duration": 6,
    "start_time": "2022-01-10T23:56:54.285Z"
   },
   {
    "duration": 6751,
    "start_time": "2022-01-15T01:50:56.533Z"
   },
   {
    "duration": 1195,
    "start_time": "2022-01-15T01:51:03.286Z"
   },
   {
    "duration": 22,
    "start_time": "2022-01-15T01:51:04.483Z"
   },
   {
    "duration": 3,
    "start_time": "2022-01-15T01:51:04.507Z"
   },
   {
    "duration": 13,
    "start_time": "2022-01-15T01:51:04.512Z"
   },
   {
    "duration": 6,
    "start_time": "2022-01-15T01:51:04.526Z"
   },
   {
    "duration": 7,
    "start_time": "2022-01-15T01:51:04.533Z"
   },
   {
    "duration": 7,
    "start_time": "2022-01-15T01:51:04.542Z"
   },
   {
    "duration": 20,
    "start_time": "2022-01-15T01:51:04.551Z"
   },
   {
    "duration": 21,
    "start_time": "2022-01-15T01:51:04.572Z"
   },
   {
    "duration": 4,
    "start_time": "2022-01-15T01:51:04.595Z"
   },
   {
    "duration": 4913,
    "start_time": "2022-01-15T01:51:04.600Z"
   },
   {
    "duration": 3,
    "start_time": "2022-01-15T01:51:09.514Z"
   },
   {
    "duration": 6,
    "start_time": "2022-01-15T01:51:09.518Z"
   },
   {
    "duration": 14,
    "start_time": "2022-01-15T01:51:09.526Z"
   },
   {
    "duration": 22,
    "start_time": "2022-01-15T01:51:09.541Z"
   },
   {
    "duration": 5,
    "start_time": "2022-01-15T01:51:09.565Z"
   },
   {
    "duration": 18,
    "start_time": "2022-01-15T01:51:09.571Z"
   },
   {
    "duration": 5,
    "start_time": "2022-01-15T01:51:09.591Z"
   },
   {
    "duration": 18,
    "start_time": "2022-01-15T01:51:09.597Z"
   },
   {
    "duration": 6,
    "start_time": "2022-01-15T01:51:09.616Z"
   },
   {
    "duration": 18,
    "start_time": "2022-01-15T01:51:09.661Z"
   },
   {
    "duration": 16,
    "start_time": "2022-01-15T01:51:09.683Z"
   },
   {
    "duration": 3,
    "start_time": "2022-01-15T01:51:09.702Z"
   },
   {
    "duration": 13,
    "start_time": "2022-01-15T01:51:09.707Z"
   },
   {
    "duration": 39,
    "start_time": "2022-01-15T01:51:09.722Z"
   },
   {
    "duration": 10,
    "start_time": "2022-01-15T01:51:09.763Z"
   },
   {
    "duration": 2,
    "start_time": "2022-01-15T01:51:09.775Z"
   },
   {
    "duration": 7,
    "start_time": "2022-01-15T01:51:09.779Z"
   },
   {
    "duration": 8,
    "start_time": "2022-01-15T01:51:09.788Z"
   },
   {
    "duration": 14,
    "start_time": "2022-01-15T01:51:09.797Z"
   },
   {
    "duration": 69,
    "start_time": "2022-01-15T01:51:09.813Z"
   },
   {
    "duration": 391,
    "start_time": "2022-01-15T01:51:09.884Z"
   },
   {
    "duration": 5,
    "start_time": "2022-01-15T01:51:10.277Z"
   },
   {
    "duration": 1307,
    "start_time": "2022-01-15T01:51:10.284Z"
   },
   {
    "duration": 2,
    "start_time": "2022-01-15T01:51:11.593Z"
   },
   {
    "duration": 7,
    "start_time": "2022-01-15T01:51:11.597Z"
   },
   {
    "duration": 11,
    "start_time": "2022-01-15T01:51:11.606Z"
   },
   {
    "duration": 267,
    "start_time": "2022-01-15T01:51:11.619Z"
   },
   {
    "duration": 45,
    "start_time": "2022-01-15T01:51:11.888Z"
   },
   {
    "duration": 371,
    "start_time": "2022-01-15T01:51:11.935Z"
   },
   {
    "duration": 5,
    "start_time": "2022-01-15T01:51:12.308Z"
   },
   {
    "duration": 7,
    "start_time": "2022-01-15T01:51:12.314Z"
   },
   {
    "duration": 38,
    "start_time": "2022-01-15T01:51:12.323Z"
   },
   {
    "duration": 13,
    "start_time": "2022-01-15T01:51:12.363Z"
   },
   {
    "duration": 104,
    "start_time": "2022-01-15T01:51:12.462Z"
   },
   {
    "duration": 100,
    "start_time": "2022-01-15T01:51:12.568Z"
   },
   {
    "duration": 91,
    "start_time": "2022-01-15T01:51:12.671Z"
   },
   {
    "duration": 97,
    "start_time": "2022-01-15T01:51:12.764Z"
   },
   {
    "duration": 7,
    "start_time": "2022-01-15T01:51:12.863Z"
   },
   {
    "duration": 7,
    "start_time": "2022-01-15T01:51:12.872Z"
   },
   {
    "duration": 6,
    "start_time": "2022-01-15T01:51:12.880Z"
   },
   {
    "duration": 75,
    "start_time": "2022-01-15T01:51:12.888Z"
   },
   {
    "duration": 5,
    "start_time": "2022-01-15T01:51:12.965Z"
   },
   {
    "duration": 8,
    "start_time": "2022-01-15T01:51:12.971Z"
   },
   {
    "duration": 5,
    "start_time": "2022-01-15T01:51:13.060Z"
   },
   {
    "duration": 10,
    "start_time": "2022-01-15T01:51:13.067Z"
   },
   {
    "duration": 5,
    "start_time": "2022-01-15T01:51:13.078Z"
   },
   {
    "duration": 11,
    "start_time": "2022-01-15T01:51:13.085Z"
   },
   {
    "duration": 11,
    "start_time": "2022-01-15T01:51:13.097Z"
   },
   {
    "duration": 5,
    "start_time": "2022-01-15T01:51:13.109Z"
   },
   {
    "duration": 45,
    "start_time": "2022-01-15T01:51:13.116Z"
   },
   {
    "duration": 13,
    "start_time": "2022-01-15T01:51:13.163Z"
   },
   {
    "duration": 9,
    "start_time": "2022-01-15T01:51:13.178Z"
   },
   {
    "duration": 76,
    "start_time": "2022-01-15T01:51:13.188Z"
   },
   {
    "duration": 357,
    "start_time": "2022-01-15T01:51:13.267Z"
   },
   {
    "duration": -167,
    "start_time": "2022-01-15T01:51:13.793Z"
   },
   {
    "duration": -172,
    "start_time": "2022-01-15T01:51:13.799Z"
   },
   {
    "duration": -176,
    "start_time": "2022-01-15T01:51:13.804Z"
   },
   {
    "duration": -180,
    "start_time": "2022-01-15T01:51:13.809Z"
   },
   {
    "duration": -185,
    "start_time": "2022-01-15T01:51:13.815Z"
   },
   {
    "duration": -188,
    "start_time": "2022-01-15T01:51:13.819Z"
   },
   {
    "duration": -193,
    "start_time": "2022-01-15T01:51:13.825Z"
   },
   {
    "duration": -197,
    "start_time": "2022-01-15T01:51:13.830Z"
   },
   {
    "duration": -202,
    "start_time": "2022-01-15T01:51:13.835Z"
   },
   {
    "duration": 4,
    "start_time": "2022-01-15T01:52:28.313Z"
   },
   {
    "duration": 1230,
    "start_time": "2022-01-15T01:52:28.322Z"
   },
   {
    "duration": 17,
    "start_time": "2022-01-15T01:52:29.554Z"
   },
   {
    "duration": 4,
    "start_time": "2022-01-15T01:52:29.574Z"
   },
   {
    "duration": 14,
    "start_time": "2022-01-15T01:52:29.580Z"
   },
   {
    "duration": 7,
    "start_time": "2022-01-15T01:52:29.596Z"
   },
   {
    "duration": 10,
    "start_time": "2022-01-15T01:52:29.604Z"
   },
   {
    "duration": 8,
    "start_time": "2022-01-15T01:52:29.616Z"
   },
   {
    "duration": 53,
    "start_time": "2022-01-15T01:52:29.627Z"
   },
   {
    "duration": 21,
    "start_time": "2022-01-15T01:52:29.682Z"
   },
   {
    "duration": 5,
    "start_time": "2022-01-15T01:52:29.705Z"
   },
   {
    "duration": 5052,
    "start_time": "2022-01-15T01:52:29.711Z"
   },
   {
    "duration": 2,
    "start_time": "2022-01-15T01:52:34.765Z"
   },
   {
    "duration": 36,
    "start_time": "2022-01-15T01:52:34.768Z"
   },
   {
    "duration": 23,
    "start_time": "2022-01-15T01:52:34.806Z"
   },
   {
    "duration": 25,
    "start_time": "2022-01-15T01:52:34.831Z"
   },
   {
    "duration": 29,
    "start_time": "2022-01-15T01:52:34.858Z"
   },
   {
    "duration": 41,
    "start_time": "2022-01-15T01:52:34.888Z"
   },
   {
    "duration": 11,
    "start_time": "2022-01-15T01:52:34.930Z"
   },
   {
    "duration": 38,
    "start_time": "2022-01-15T01:52:34.943Z"
   },
   {
    "duration": 8,
    "start_time": "2022-01-15T01:52:34.982Z"
   },
   {
    "duration": 42,
    "start_time": "2022-01-15T01:52:34.991Z"
   },
   {
    "duration": 25,
    "start_time": "2022-01-15T01:52:35.035Z"
   },
   {
    "duration": 7,
    "start_time": "2022-01-15T01:52:35.064Z"
   },
   {
    "duration": 23,
    "start_time": "2022-01-15T01:52:35.074Z"
   },
   {
    "duration": 22,
    "start_time": "2022-01-15T01:52:35.098Z"
   },
   {
    "duration": 11,
    "start_time": "2022-01-15T01:52:35.122Z"
   },
   {
    "duration": 4,
    "start_time": "2022-01-15T01:52:35.135Z"
   },
   {
    "duration": 6,
    "start_time": "2022-01-15T01:52:35.140Z"
   },
   {
    "duration": 6,
    "start_time": "2022-01-15T01:52:35.148Z"
   },
   {
    "duration": 12,
    "start_time": "2022-01-15T01:52:35.155Z"
   },
   {
    "duration": 45,
    "start_time": "2022-01-15T01:52:35.168Z"
   },
   {
    "duration": 372,
    "start_time": "2022-01-15T01:52:35.215Z"
   },
   {
    "duration": 3,
    "start_time": "2022-01-15T01:52:35.589Z"
   },
   {
    "duration": 1406,
    "start_time": "2022-01-15T01:52:35.593Z"
   },
   {
    "duration": 4,
    "start_time": "2022-01-15T01:52:37.001Z"
   },
   {
    "duration": 6,
    "start_time": "2022-01-15T01:52:37.006Z"
   },
   {
    "duration": 11,
    "start_time": "2022-01-15T01:52:37.014Z"
   },
   {
    "duration": 295,
    "start_time": "2022-01-15T01:52:37.026Z"
   },
   {
    "duration": 59,
    "start_time": "2022-01-15T01:52:37.323Z"
   },
   {
    "duration": 265,
    "start_time": "2022-01-15T01:52:37.383Z"
   },
   {
    "duration": 5,
    "start_time": "2022-01-15T01:52:37.649Z"
   },
   {
    "duration": 6,
    "start_time": "2022-01-15T01:52:37.655Z"
   },
   {
    "duration": 14,
    "start_time": "2022-01-15T01:52:37.662Z"
   },
   {
    "duration": 87,
    "start_time": "2022-01-15T01:52:37.678Z"
   },
   {
    "duration": 98,
    "start_time": "2022-01-15T01:52:37.767Z"
   },
   {
    "duration": 100,
    "start_time": "2022-01-15T01:52:37.867Z"
   },
   {
    "duration": 6,
    "start_time": "2022-01-15T01:52:37.969Z"
   },
   {
    "duration": 4,
    "start_time": "2022-01-15T01:52:38.063Z"
   },
   {
    "duration": 92,
    "start_time": "2022-01-15T01:52:38.070Z"
   },
   {
    "duration": 7,
    "start_time": "2022-01-15T01:52:38.164Z"
   },
   {
    "duration": 7,
    "start_time": "2022-01-15T01:52:38.172Z"
   },
   {
    "duration": 81,
    "start_time": "2022-01-15T01:52:38.180Z"
   },
   {
    "duration": 5,
    "start_time": "2022-01-15T01:52:38.263Z"
   },
   {
    "duration": 6,
    "start_time": "2022-01-15T01:52:38.272Z"
   },
   {
    "duration": 82,
    "start_time": "2022-01-15T01:52:38.280Z"
   },
   {
    "duration": 8,
    "start_time": "2022-01-15T01:52:38.364Z"
   },
   {
    "duration": 4,
    "start_time": "2022-01-15T01:52:38.374Z"
   },
   {
    "duration": 12,
    "start_time": "2022-01-15T01:52:38.379Z"
   },
   {
    "duration": 6,
    "start_time": "2022-01-15T01:52:38.393Z"
   },
   {
    "duration": 8,
    "start_time": "2022-01-15T01:52:38.400Z"
   },
   {
    "duration": 5,
    "start_time": "2022-01-15T01:52:38.410Z"
   },
   {
    "duration": 52,
    "start_time": "2022-01-15T01:52:38.417Z"
   },
   {
    "duration": 4,
    "start_time": "2022-01-15T01:52:38.472Z"
   },
   {
    "duration": 5,
    "start_time": "2022-01-15T01:52:38.478Z"
   },
   {
    "duration": 429,
    "start_time": "2022-01-15T01:52:38.562Z"
   },
   {
    "duration": -105,
    "start_time": "2022-01-15T01:52:39.098Z"
   },
   {
    "duration": -110,
    "start_time": "2022-01-15T01:52:39.104Z"
   },
   {
    "duration": -115,
    "start_time": "2022-01-15T01:52:39.110Z"
   },
   {
    "duration": -123,
    "start_time": "2022-01-15T01:52:39.119Z"
   },
   {
    "duration": -127,
    "start_time": "2022-01-15T01:52:39.124Z"
   },
   {
    "duration": -131,
    "start_time": "2022-01-15T01:52:39.129Z"
   },
   {
    "duration": -135,
    "start_time": "2022-01-15T01:52:39.134Z"
   },
   {
    "duration": -140,
    "start_time": "2022-01-15T01:52:39.140Z"
   },
   {
    "duration": -144,
    "start_time": "2022-01-15T01:52:39.145Z"
   },
   {
    "duration": 2569,
    "start_time": "2022-01-15T01:53:07.788Z"
   },
   {
    "duration": 1181,
    "start_time": "2022-01-15T01:53:10.359Z"
   },
   {
    "duration": 6,
    "start_time": "2022-01-15T01:53:11.543Z"
   },
   {
    "duration": 26,
    "start_time": "2022-01-15T01:53:11.551Z"
   },
   {
    "duration": 5,
    "start_time": "2022-01-15T01:53:11.579Z"
   },
   {
    "duration": 33,
    "start_time": "2022-01-15T01:53:11.586Z"
   },
   {
    "duration": 14,
    "start_time": "2022-01-15T01:53:11.621Z"
   },
   {
    "duration": 9,
    "start_time": "2022-01-15T01:53:11.638Z"
   },
   {
    "duration": 29,
    "start_time": "2022-01-15T01:53:11.649Z"
   },
   {
    "duration": 37,
    "start_time": "2022-01-15T01:53:11.680Z"
   },
   {
    "duration": 21,
    "start_time": "2022-01-15T01:53:11.719Z"
   },
   {
    "duration": 5,
    "start_time": "2022-01-15T01:53:11.742Z"
   },
   {
    "duration": 5069,
    "start_time": "2022-01-15T01:53:11.749Z"
   },
   {
    "duration": 3,
    "start_time": "2022-01-15T01:53:16.820Z"
   },
   {
    "duration": 16,
    "start_time": "2022-01-15T01:53:16.824Z"
   },
   {
    "duration": 37,
    "start_time": "2022-01-15T01:53:16.842Z"
   },
   {
    "duration": 24,
    "start_time": "2022-01-15T01:53:16.881Z"
   },
   {
    "duration": 15,
    "start_time": "2022-01-15T01:53:16.906Z"
   },
   {
    "duration": 34,
    "start_time": "2022-01-15T01:53:16.923Z"
   },
   {
    "duration": 27,
    "start_time": "2022-01-15T01:53:16.959Z"
   },
   {
    "duration": 32,
    "start_time": "2022-01-15T01:53:16.988Z"
   },
   {
    "duration": 7,
    "start_time": "2022-01-15T01:53:17.022Z"
   },
   {
    "duration": 18,
    "start_time": "2022-01-15T01:53:17.033Z"
   },
   {
    "duration": 23,
    "start_time": "2022-01-15T01:53:17.054Z"
   },
   {
    "duration": 18,
    "start_time": "2022-01-15T01:53:17.079Z"
   },
   {
    "duration": 20,
    "start_time": "2022-01-15T01:53:17.099Z"
   },
   {
    "duration": 17,
    "start_time": "2022-01-15T01:53:17.121Z"
   },
   {
    "duration": 21,
    "start_time": "2022-01-15T01:53:17.139Z"
   },
   {
    "duration": 11,
    "start_time": "2022-01-15T01:53:17.162Z"
   },
   {
    "duration": 20,
    "start_time": "2022-01-15T01:53:17.174Z"
   },
   {
    "duration": 14,
    "start_time": "2022-01-15T01:53:17.196Z"
   },
   {
    "duration": 24,
    "start_time": "2022-01-15T01:53:17.212Z"
   },
   {
    "duration": 56,
    "start_time": "2022-01-15T01:53:17.237Z"
   },
   {
    "duration": 384,
    "start_time": "2022-01-15T01:53:17.294Z"
   },
   {
    "duration": 3,
    "start_time": "2022-01-15T01:53:17.680Z"
   },
   {
    "duration": 1346,
    "start_time": "2022-01-15T01:53:17.684Z"
   },
   {
    "duration": 3,
    "start_time": "2022-01-15T01:53:19.032Z"
   },
   {
    "duration": 24,
    "start_time": "2022-01-15T01:53:19.036Z"
   },
   {
    "duration": 15,
    "start_time": "2022-01-15T01:53:19.062Z"
   },
   {
    "duration": 241,
    "start_time": "2022-01-15T01:53:19.079Z"
   },
   {
    "duration": 51,
    "start_time": "2022-01-15T01:53:19.321Z"
   },
   {
    "duration": 262,
    "start_time": "2022-01-15T01:53:19.373Z"
   },
   {
    "duration": 4,
    "start_time": "2022-01-15T01:53:19.637Z"
   },
   {
    "duration": 18,
    "start_time": "2022-01-15T01:53:19.643Z"
   },
   {
    "duration": 29,
    "start_time": "2022-01-15T01:53:19.663Z"
   },
   {
    "duration": 83,
    "start_time": "2022-01-15T01:53:19.694Z"
   },
   {
    "duration": 192,
    "start_time": "2022-01-15T01:53:19.778Z"
   },
   {
    "duration": 93,
    "start_time": "2022-01-15T01:53:19.972Z"
   },
   {
    "duration": 6,
    "start_time": "2022-01-15T01:53:20.067Z"
   },
   {
    "duration": 99,
    "start_time": "2022-01-15T01:53:20.075Z"
   },
   {
    "duration": 3,
    "start_time": "2022-01-15T01:53:20.261Z"
   },
   {
    "duration": 13,
    "start_time": "2022-01-15T01:53:20.265Z"
   },
   {
    "duration": 83,
    "start_time": "2022-01-15T01:53:20.280Z"
   },
   {
    "duration": 97,
    "start_time": "2022-01-15T01:53:20.365Z"
   },
   {
    "duration": 4,
    "start_time": "2022-01-15T01:53:20.463Z"
   },
   {
    "duration": 16,
    "start_time": "2022-01-15T01:53:20.469Z"
   },
   {
    "duration": 26,
    "start_time": "2022-01-15T01:53:20.487Z"
   },
   {
    "duration": 22,
    "start_time": "2022-01-15T01:53:20.515Z"
   },
   {
    "duration": 22,
    "start_time": "2022-01-15T01:53:20.539Z"
   },
   {
    "duration": 387,
    "start_time": "2022-01-15T01:53:20.563Z"
   },
   {
    "duration": 11,
    "start_time": "2022-01-15T01:53:20.951Z"
   },
   {
    "duration": 17,
    "start_time": "2022-01-15T01:53:20.964Z"
   },
   {
    "duration": 12,
    "start_time": "2022-01-15T01:53:20.983Z"
   },
   {
    "duration": 65,
    "start_time": "2022-01-15T01:53:20.997Z"
   },
   {
    "duration": 4,
    "start_time": "2022-01-15T01:53:21.064Z"
   },
   {
    "duration": 92,
    "start_time": "2022-01-15T01:53:21.070Z"
   },
   {
    "duration": 366,
    "start_time": "2022-01-15T01:53:21.163Z"
   },
   {
    "duration": -1706,
    "start_time": "2022-01-15T01:53:23.237Z"
   },
   {
    "duration": -1741,
    "start_time": "2022-01-15T01:53:23.273Z"
   },
   {
    "duration": -1751,
    "start_time": "2022-01-15T01:53:23.284Z"
   },
   {
    "duration": -1770,
    "start_time": "2022-01-15T01:53:23.303Z"
   },
   {
    "duration": -1781,
    "start_time": "2022-01-15T01:53:23.315Z"
   },
   {
    "duration": -1790,
    "start_time": "2022-01-15T01:53:23.325Z"
   },
   {
    "duration": -1799,
    "start_time": "2022-01-15T01:53:23.335Z"
   },
   {
    "duration": -1806,
    "start_time": "2022-01-15T01:53:23.343Z"
   },
   {
    "duration": -1816,
    "start_time": "2022-01-15T01:53:23.353Z"
   },
   {
    "duration": 2649,
    "start_time": "2022-01-15T01:53:51.249Z"
   },
   {
    "duration": 1142,
    "start_time": "2022-01-15T01:53:53.900Z"
   },
   {
    "duration": 7,
    "start_time": "2022-01-15T01:53:55.044Z"
   },
   {
    "duration": 18,
    "start_time": "2022-01-15T01:53:55.060Z"
   },
   {
    "duration": 4,
    "start_time": "2022-01-15T01:53:55.080Z"
   },
   {
    "duration": 14,
    "start_time": "2022-01-15T01:53:55.086Z"
   },
   {
    "duration": 6,
    "start_time": "2022-01-15T01:53:55.102Z"
   },
   {
    "duration": 8,
    "start_time": "2022-01-15T01:53:55.110Z"
   },
   {
    "duration": 8,
    "start_time": "2022-01-15T01:53:55.120Z"
   },
   {
    "duration": 49,
    "start_time": "2022-01-15T01:53:55.129Z"
   },
   {
    "duration": 19,
    "start_time": "2022-01-15T01:53:55.180Z"
   },
   {
    "duration": 4,
    "start_time": "2022-01-15T01:53:55.201Z"
   },
   {
    "duration": 5077,
    "start_time": "2022-01-15T01:53:55.206Z"
   },
   {
    "duration": 3,
    "start_time": "2022-01-15T01:54:00.286Z"
   },
   {
    "duration": 7,
    "start_time": "2022-01-15T01:54:00.291Z"
   },
   {
    "duration": 16,
    "start_time": "2022-01-15T01:54:00.300Z"
   },
   {
    "duration": 45,
    "start_time": "2022-01-15T01:54:00.317Z"
   },
   {
    "duration": 7,
    "start_time": "2022-01-15T01:54:00.364Z"
   },
   {
    "duration": 32,
    "start_time": "2022-01-15T01:54:00.373Z"
   },
   {
    "duration": 12,
    "start_time": "2022-01-15T01:54:00.407Z"
   },
   {
    "duration": 25,
    "start_time": "2022-01-15T01:54:00.421Z"
   },
   {
    "duration": 8,
    "start_time": "2022-01-15T01:54:00.459Z"
   },
   {
    "duration": 18,
    "start_time": "2022-01-15T01:54:00.473Z"
   },
   {
    "duration": 19,
    "start_time": "2022-01-15T01:54:00.495Z"
   },
   {
    "duration": 5,
    "start_time": "2022-01-15T01:54:00.516Z"
   },
   {
    "duration": 7,
    "start_time": "2022-01-15T01:54:00.562Z"
   },
   {
    "duration": 5,
    "start_time": "2022-01-15T01:54:00.571Z"
   },
   {
    "duration": 14,
    "start_time": "2022-01-15T01:54:00.577Z"
   },
   {
    "duration": 2,
    "start_time": "2022-01-15T01:54:00.593Z"
   },
   {
    "duration": 11,
    "start_time": "2022-01-15T01:54:00.596Z"
   },
   {
    "duration": 11,
    "start_time": "2022-01-15T01:54:00.608Z"
   },
   {
    "duration": 13,
    "start_time": "2022-01-15T01:54:00.621Z"
   },
   {
    "duration": 43,
    "start_time": "2022-01-15T01:54:00.660Z"
   },
   {
    "duration": 405,
    "start_time": "2022-01-15T01:54:00.704Z"
   },
   {
    "duration": 3,
    "start_time": "2022-01-15T01:54:01.111Z"
   },
   {
    "duration": 1581,
    "start_time": "2022-01-15T01:54:01.116Z"
   },
   {
    "duration": 3,
    "start_time": "2022-01-15T01:54:02.699Z"
   },
   {
    "duration": 19,
    "start_time": "2022-01-15T01:54:02.703Z"
   },
   {
    "duration": 22,
    "start_time": "2022-01-15T01:54:02.723Z"
   },
   {
    "duration": 292,
    "start_time": "2022-01-15T01:54:02.747Z"
   },
   {
    "duration": 52,
    "start_time": "2022-01-15T01:54:03.041Z"
   },
   {
    "duration": 289,
    "start_time": "2022-01-15T01:54:03.095Z"
   },
   {
    "duration": 4,
    "start_time": "2022-01-15T01:54:03.386Z"
   },
   {
    "duration": 33,
    "start_time": "2022-01-15T01:54:03.391Z"
   },
   {
    "duration": 22,
    "start_time": "2022-01-15T01:54:03.425Z"
   },
   {
    "duration": 104,
    "start_time": "2022-01-15T01:54:03.461Z"
   },
   {
    "duration": 104,
    "start_time": "2022-01-15T01:54:03.568Z"
   },
   {
    "duration": 99,
    "start_time": "2022-01-15T01:54:03.675Z"
   },
   {
    "duration": 6,
    "start_time": "2022-01-15T01:54:03.862Z"
   },
   {
    "duration": 91,
    "start_time": "2022-01-15T01:54:03.870Z"
   },
   {
    "duration": 25,
    "start_time": "2022-01-15T01:54:03.963Z"
   },
   {
    "duration": 20,
    "start_time": "2022-01-15T01:54:03.989Z"
   },
   {
    "duration": 52,
    "start_time": "2022-01-15T01:54:04.010Z"
   },
   {
    "duration": 98,
    "start_time": "2022-01-15T01:54:04.064Z"
   },
   {
    "duration": 8,
    "start_time": "2022-01-15T01:54:04.164Z"
   },
   {
    "duration": 29,
    "start_time": "2022-01-15T01:54:04.173Z"
   },
   {
    "duration": 16,
    "start_time": "2022-01-15T01:54:04.203Z"
   },
   {
    "duration": 29,
    "start_time": "2022-01-15T01:54:04.221Z"
   },
   {
    "duration": 18,
    "start_time": "2022-01-15T01:54:04.251Z"
   },
   {
    "duration": 403,
    "start_time": "2022-01-15T01:54:04.271Z"
   },
   {
    "duration": 4,
    "start_time": "2022-01-15T01:54:04.676Z"
   },
   {
    "duration": 7,
    "start_time": "2022-01-15T01:54:04.682Z"
   },
   {
    "duration": 15,
    "start_time": "2022-01-15T01:54:04.691Z"
   },
   {
    "duration": 57,
    "start_time": "2022-01-15T01:54:04.708Z"
   },
   {
    "duration": 6,
    "start_time": "2022-01-15T01:54:04.767Z"
   },
   {
    "duration": 87,
    "start_time": "2022-01-15T01:54:04.776Z"
   },
   {
    "duration": 331,
    "start_time": "2022-01-15T01:54:04.865Z"
   },
   {
    "duration": -2133,
    "start_time": "2022-01-15T01:54:07.331Z"
   },
   {
    "duration": -2149,
    "start_time": "2022-01-15T01:54:07.348Z"
   },
   {
    "duration": -2163,
    "start_time": "2022-01-15T01:54:07.363Z"
   },
   {
    "duration": -2170,
    "start_time": "2022-01-15T01:54:07.371Z"
   },
   {
    "duration": -2180,
    "start_time": "2022-01-15T01:54:07.382Z"
   },
   {
    "duration": -2189,
    "start_time": "2022-01-15T01:54:07.391Z"
   },
   {
    "duration": -2198,
    "start_time": "2022-01-15T01:54:07.401Z"
   },
   {
    "duration": -2207,
    "start_time": "2022-01-15T01:54:07.411Z"
   },
   {
    "duration": -2215,
    "start_time": "2022-01-15T01:54:07.420Z"
   },
   {
    "duration": 2581,
    "start_time": "2022-01-15T01:58:28.556Z"
   },
   {
    "duration": 1202,
    "start_time": "2022-01-15T01:58:31.140Z"
   },
   {
    "duration": 18,
    "start_time": "2022-01-15T01:58:32.344Z"
   },
   {
    "duration": 3,
    "start_time": "2022-01-15T01:58:32.364Z"
   },
   {
    "duration": 12,
    "start_time": "2022-01-15T01:58:32.369Z"
   },
   {
    "duration": 7,
    "start_time": "2022-01-15T01:58:32.383Z"
   },
   {
    "duration": 6,
    "start_time": "2022-01-15T01:58:32.391Z"
   },
   {
    "duration": 7,
    "start_time": "2022-01-15T01:58:32.399Z"
   },
   {
    "duration": 54,
    "start_time": "2022-01-15T01:58:32.408Z"
   },
   {
    "duration": 24,
    "start_time": "2022-01-15T01:58:32.463Z"
   },
   {
    "duration": 5,
    "start_time": "2022-01-15T01:58:32.489Z"
   },
   {
    "duration": 5134,
    "start_time": "2022-01-15T01:58:32.495Z"
   },
   {
    "duration": 3,
    "start_time": "2022-01-15T01:58:37.631Z"
   },
   {
    "duration": 18,
    "start_time": "2022-01-15T01:58:37.635Z"
   },
   {
    "duration": 26,
    "start_time": "2022-01-15T01:58:37.655Z"
   },
   {
    "duration": 10,
    "start_time": "2022-01-15T01:58:37.682Z"
   },
   {
    "duration": 31,
    "start_time": "2022-01-15T01:58:37.693Z"
   },
   {
    "duration": 35,
    "start_time": "2022-01-15T01:58:37.725Z"
   },
   {
    "duration": 12,
    "start_time": "2022-01-15T01:58:37.761Z"
   },
   {
    "duration": 45,
    "start_time": "2022-01-15T01:58:37.774Z"
   },
   {
    "duration": 13,
    "start_time": "2022-01-15T01:58:37.821Z"
   },
   {
    "duration": 28,
    "start_time": "2022-01-15T01:58:37.836Z"
   },
   {
    "duration": 24,
    "start_time": "2022-01-15T01:58:37.867Z"
   },
   {
    "duration": 4,
    "start_time": "2022-01-15T01:58:37.893Z"
   },
   {
    "duration": 30,
    "start_time": "2022-01-15T01:58:37.898Z"
   },
   {
    "duration": 18,
    "start_time": "2022-01-15T01:58:37.930Z"
   },
   {
    "duration": 40,
    "start_time": "2022-01-15T01:58:37.949Z"
   },
   {
    "duration": 16,
    "start_time": "2022-01-15T01:58:37.991Z"
   },
   {
    "duration": 27,
    "start_time": "2022-01-15T01:58:38.009Z"
   },
   {
    "duration": 22,
    "start_time": "2022-01-15T01:58:38.038Z"
   },
   {
    "duration": 28,
    "start_time": "2022-01-15T01:58:38.062Z"
   },
   {
    "duration": 70,
    "start_time": "2022-01-15T01:58:38.092Z"
   },
   {
    "duration": 380,
    "start_time": "2022-01-15T01:58:38.164Z"
   },
   {
    "duration": 3,
    "start_time": "2022-01-15T01:58:38.546Z"
   },
   {
    "duration": 1435,
    "start_time": "2022-01-15T01:58:38.561Z"
   },
   {
    "duration": 3,
    "start_time": "2022-01-15T01:58:39.998Z"
   },
   {
    "duration": 28,
    "start_time": "2022-01-15T01:58:40.004Z"
   },
   {
    "duration": 37,
    "start_time": "2022-01-15T01:58:40.034Z"
   },
   {
    "duration": 262,
    "start_time": "2022-01-15T01:58:40.073Z"
   },
   {
    "duration": 53,
    "start_time": "2022-01-15T01:58:40.338Z"
   },
   {
    "duration": 280,
    "start_time": "2022-01-15T01:58:40.393Z"
   },
   {
    "duration": 4,
    "start_time": "2022-01-15T01:58:40.675Z"
   },
   {
    "duration": 21,
    "start_time": "2022-01-15T01:58:40.681Z"
   },
   {
    "duration": 35,
    "start_time": "2022-01-15T01:58:40.704Z"
   },
   {
    "duration": 125,
    "start_time": "2022-01-15T01:58:40.741Z"
   },
   {
    "duration": 100,
    "start_time": "2022-01-15T01:58:40.869Z"
   },
   {
    "duration": 104,
    "start_time": "2022-01-15T01:58:40.971Z"
   },
   {
    "duration": 85,
    "start_time": "2022-01-15T01:58:41.077Z"
   },
   {
    "duration": 8,
    "start_time": "2022-01-15T01:58:41.164Z"
   },
   {
    "duration": 6,
    "start_time": "2022-01-15T01:58:41.174Z"
   },
   {
    "duration": 5,
    "start_time": "2022-01-15T01:58:41.262Z"
   },
   {
    "duration": 6,
    "start_time": "2022-01-15T01:58:41.269Z"
   },
   {
    "duration": 84,
    "start_time": "2022-01-15T01:58:41.277Z"
   },
   {
    "duration": 12,
    "start_time": "2022-01-15T01:58:41.363Z"
   },
   {
    "duration": 88,
    "start_time": "2022-01-15T01:58:41.377Z"
   },
   {
    "duration": 6,
    "start_time": "2022-01-15T01:58:41.467Z"
   },
   {
    "duration": 10,
    "start_time": "2022-01-15T01:58:41.475Z"
   },
   {
    "duration": 7,
    "start_time": "2022-01-15T01:58:41.487Z"
   },
   {
    "duration": 12,
    "start_time": "2022-01-15T01:58:41.496Z"
   },
   {
    "duration": 5,
    "start_time": "2022-01-15T01:58:41.510Z"
   },
   {
    "duration": 45,
    "start_time": "2022-01-15T01:58:41.517Z"
   },
   {
    "duration": 5,
    "start_time": "2022-01-15T01:58:41.564Z"
   },
   {
    "duration": 14,
    "start_time": "2022-01-15T01:58:41.571Z"
   },
   {
    "duration": 74,
    "start_time": "2022-01-15T01:58:41.587Z"
   },
   {
    "duration": 5,
    "start_time": "2022-01-15T01:58:41.663Z"
   },
   {
    "duration": 431,
    "start_time": "2022-01-15T01:58:41.670Z"
   },
   {
    "duration": -192,
    "start_time": "2022-01-15T01:58:42.295Z"
   },
   {
    "duration": -194,
    "start_time": "2022-01-15T01:58:42.299Z"
   },
   {
    "duration": -199,
    "start_time": "2022-01-15T01:58:42.305Z"
   },
   {
    "duration": -203,
    "start_time": "2022-01-15T01:58:42.310Z"
   },
   {
    "duration": -206,
    "start_time": "2022-01-15T01:58:42.314Z"
   },
   {
    "duration": -210,
    "start_time": "2022-01-15T01:58:42.319Z"
   },
   {
    "duration": -212,
    "start_time": "2022-01-15T01:58:42.322Z"
   },
   {
    "duration": -215,
    "start_time": "2022-01-15T01:58:42.326Z"
   },
   {
    "duration": -218,
    "start_time": "2022-01-15T01:58:42.330Z"
   },
   {
    "duration": 2660,
    "start_time": "2022-01-15T02:00:21.627Z"
   },
   {
    "duration": 1404,
    "start_time": "2022-01-15T02:00:24.290Z"
   },
   {
    "duration": 17,
    "start_time": "2022-01-15T02:00:25.696Z"
   },
   {
    "duration": 5,
    "start_time": "2022-01-15T02:00:25.715Z"
   },
   {
    "duration": 14,
    "start_time": "2022-01-15T02:00:25.722Z"
   },
   {
    "duration": 23,
    "start_time": "2022-01-15T02:00:25.739Z"
   },
   {
    "duration": 5,
    "start_time": "2022-01-15T02:00:25.764Z"
   },
   {
    "duration": 10,
    "start_time": "2022-01-15T02:00:25.771Z"
   },
   {
    "duration": 22,
    "start_time": "2022-01-15T02:00:25.783Z"
   },
   {
    "duration": 24,
    "start_time": "2022-01-15T02:00:25.806Z"
   },
   {
    "duration": 33,
    "start_time": "2022-01-15T02:00:25.831Z"
   },
   {
    "duration": 4953,
    "start_time": "2022-01-15T02:00:25.865Z"
   },
   {
    "duration": 3,
    "start_time": "2022-01-15T02:00:30.820Z"
   },
   {
    "duration": 15,
    "start_time": "2022-01-15T02:00:30.825Z"
   },
   {
    "duration": 26,
    "start_time": "2022-01-15T02:00:30.842Z"
   },
   {
    "duration": 10,
    "start_time": "2022-01-15T02:00:30.870Z"
   },
   {
    "duration": 8,
    "start_time": "2022-01-15T02:00:30.882Z"
   },
   {
    "duration": 22,
    "start_time": "2022-01-15T02:00:30.892Z"
   },
   {
    "duration": 6,
    "start_time": "2022-01-15T02:00:30.916Z"
   },
   {
    "duration": 48,
    "start_time": "2022-01-15T02:00:30.923Z"
   },
   {
    "duration": 6,
    "start_time": "2022-01-15T02:00:30.973Z"
   },
   {
    "duration": 31,
    "start_time": "2022-01-15T02:00:30.980Z"
   },
   {
    "duration": 18,
    "start_time": "2022-01-15T02:00:31.016Z"
   },
   {
    "duration": 23,
    "start_time": "2022-01-15T02:00:31.038Z"
   },
   {
    "duration": 7,
    "start_time": "2022-01-15T02:00:31.063Z"
   },
   {
    "duration": 12,
    "start_time": "2022-01-15T02:00:31.072Z"
   },
   {
    "duration": 19,
    "start_time": "2022-01-15T02:00:31.086Z"
   },
   {
    "duration": 6,
    "start_time": "2022-01-15T02:00:31.107Z"
   },
   {
    "duration": 6,
    "start_time": "2022-01-15T02:00:31.115Z"
   },
   {
    "duration": 8,
    "start_time": "2022-01-15T02:00:31.123Z"
   },
   {
    "duration": 37,
    "start_time": "2022-01-15T02:00:31.133Z"
   },
   {
    "duration": 57,
    "start_time": "2022-01-15T02:00:31.173Z"
   },
   {
    "duration": 375,
    "start_time": "2022-01-15T02:00:31.233Z"
   },
   {
    "duration": 4,
    "start_time": "2022-01-15T02:00:31.610Z"
   },
   {
    "duration": 1381,
    "start_time": "2022-01-15T02:00:31.616Z"
   },
   {
    "duration": 3,
    "start_time": "2022-01-15T02:00:32.999Z"
   },
   {
    "duration": 10,
    "start_time": "2022-01-15T02:00:33.004Z"
   },
   {
    "duration": 9,
    "start_time": "2022-01-15T02:00:33.016Z"
   },
   {
    "duration": 271,
    "start_time": "2022-01-15T02:00:33.026Z"
   },
   {
    "duration": 44,
    "start_time": "2022-01-15T02:00:33.299Z"
   },
   {
    "duration": 265,
    "start_time": "2022-01-15T02:00:33.361Z"
   },
   {
    "duration": 4,
    "start_time": "2022-01-15T02:00:33.628Z"
   },
   {
    "duration": 35,
    "start_time": "2022-01-15T02:00:33.634Z"
   },
   {
    "duration": 36,
    "start_time": "2022-01-15T02:00:33.671Z"
   },
   {
    "duration": 157,
    "start_time": "2022-01-15T02:00:33.709Z"
   },
   {
    "duration": 102,
    "start_time": "2022-01-15T02:00:33.868Z"
   },
   {
    "duration": 100,
    "start_time": "2022-01-15T02:00:33.973Z"
   },
   {
    "duration": 91,
    "start_time": "2022-01-15T02:00:34.075Z"
   },
   {
    "duration": 95,
    "start_time": "2022-01-15T02:00:34.168Z"
   },
   {
    "duration": 7,
    "start_time": "2022-01-15T02:00:34.264Z"
   },
   {
    "duration": 9,
    "start_time": "2022-01-15T02:00:34.272Z"
   },
   {
    "duration": 10,
    "start_time": "2022-01-15T02:00:34.283Z"
   },
   {
    "duration": 7,
    "start_time": "2022-01-15T02:00:34.362Z"
   },
   {
    "duration": 6,
    "start_time": "2022-01-15T02:00:34.371Z"
   },
   {
    "duration": 88,
    "start_time": "2022-01-15T02:00:34.379Z"
   },
   {
    "duration": 102,
    "start_time": "2022-01-15T02:00:34.469Z"
   },
   {
    "duration": 173,
    "start_time": "2022-01-15T02:00:34.573Z"
   },
   {
    "duration": 117,
    "start_time": "2022-01-15T02:00:34.749Z"
   },
   {
    "duration": 27,
    "start_time": "2022-01-15T02:00:34.868Z"
   },
   {
    "duration": 9,
    "start_time": "2022-01-15T02:00:34.898Z"
   },
   {
    "duration": 8,
    "start_time": "2022-01-15T02:00:34.909Z"
   },
   {
    "duration": 6,
    "start_time": "2022-01-15T02:00:34.919Z"
   },
   {
    "duration": 39,
    "start_time": "2022-01-15T02:00:34.928Z"
   },
   {
    "duration": 6,
    "start_time": "2022-01-15T02:00:34.970Z"
   },
   {
    "duration": 87,
    "start_time": "2022-01-15T02:00:34.978Z"
   },
   {
    "duration": 344,
    "start_time": "2022-01-15T02:00:35.068Z"
   },
   {
    "duration": -133,
    "start_time": "2022-01-15T02:00:35.547Z"
   },
   {
    "duration": -137,
    "start_time": "2022-01-15T02:00:35.552Z"
   },
   {
    "duration": -141,
    "start_time": "2022-01-15T02:00:35.557Z"
   },
   {
    "duration": -145,
    "start_time": "2022-01-15T02:00:35.562Z"
   },
   {
    "duration": -150,
    "start_time": "2022-01-15T02:00:35.568Z"
   },
   {
    "duration": -153,
    "start_time": "2022-01-15T02:00:35.572Z"
   },
   {
    "duration": -157,
    "start_time": "2022-01-15T02:00:35.577Z"
   },
   {
    "duration": -161,
    "start_time": "2022-01-15T02:00:35.582Z"
   },
   {
    "duration": -165,
    "start_time": "2022-01-15T02:00:35.587Z"
   },
   {
    "duration": 8798,
    "start_time": "2022-01-15T23:31:54.673Z"
   },
   {
    "duration": 1090,
    "start_time": "2022-01-15T23:32:03.473Z"
   },
   {
    "duration": 86,
    "start_time": "2022-01-15T23:32:04.565Z"
   },
   {
    "duration": 5,
    "start_time": "2022-01-15T23:32:04.652Z"
   },
   {
    "duration": 12,
    "start_time": "2022-01-15T23:32:04.659Z"
   },
   {
    "duration": 6,
    "start_time": "2022-01-15T23:32:04.673Z"
   },
   {
    "duration": 5,
    "start_time": "2022-01-15T23:32:04.681Z"
   },
   {
    "duration": 5,
    "start_time": "2022-01-15T23:32:04.689Z"
   },
   {
    "duration": 31,
    "start_time": "2022-01-15T23:32:04.697Z"
   },
   {
    "duration": 19,
    "start_time": "2022-01-15T23:32:04.729Z"
   },
   {
    "duration": 4,
    "start_time": "2022-01-15T23:32:04.749Z"
   },
   {
    "duration": 4669,
    "start_time": "2022-01-15T23:32:04.754Z"
   },
   {
    "duration": 3,
    "start_time": "2022-01-15T23:32:09.424Z"
   },
   {
    "duration": 5,
    "start_time": "2022-01-15T23:32:09.429Z"
   },
   {
    "duration": 13,
    "start_time": "2022-01-15T23:32:09.435Z"
   },
   {
    "duration": 8,
    "start_time": "2022-01-15T23:32:09.450Z"
   },
   {
    "duration": 6,
    "start_time": "2022-01-15T23:32:09.459Z"
   },
   {
    "duration": 18,
    "start_time": "2022-01-15T23:32:09.466Z"
   },
   {
    "duration": 4,
    "start_time": "2022-01-15T23:32:09.485Z"
   },
   {
    "duration": 44,
    "start_time": "2022-01-15T23:32:09.491Z"
   },
   {
    "duration": 5,
    "start_time": "2022-01-15T23:32:09.536Z"
   },
   {
    "duration": 16,
    "start_time": "2022-01-15T23:32:09.542Z"
   },
   {
    "duration": 14,
    "start_time": "2022-01-15T23:32:09.561Z"
   },
   {
    "duration": 115,
    "start_time": "2022-01-15T23:32:09.577Z"
   },
   {
    "duration": -580,
    "start_time": "2022-01-15T23:32:10.274Z"
   },
   {
    "duration": -584,
    "start_time": "2022-01-15T23:32:10.279Z"
   },
   {
    "duration": -589,
    "start_time": "2022-01-15T23:32:10.284Z"
   },
   {
    "duration": -594,
    "start_time": "2022-01-15T23:32:10.290Z"
   },
   {
    "duration": -598,
    "start_time": "2022-01-15T23:32:10.295Z"
   },
   {
    "duration": -602,
    "start_time": "2022-01-15T23:32:10.300Z"
   },
   {
    "duration": -605,
    "start_time": "2022-01-15T23:32:10.304Z"
   },
   {
    "duration": -609,
    "start_time": "2022-01-15T23:32:10.309Z"
   },
   {
    "duration": -645,
    "start_time": "2022-01-15T23:32:10.345Z"
   },
   {
    "duration": -699,
    "start_time": "2022-01-15T23:32:10.400Z"
   },
   {
    "duration": -703,
    "start_time": "2022-01-15T23:32:10.405Z"
   },
   {
    "duration": -708,
    "start_time": "2022-01-15T23:32:10.411Z"
   },
   {
    "duration": -713,
    "start_time": "2022-01-15T23:32:10.417Z"
   },
   {
    "duration": -718,
    "start_time": "2022-01-15T23:32:10.423Z"
   },
   {
    "duration": -722,
    "start_time": "2022-01-15T23:32:10.428Z"
   },
   {
    "duration": -728,
    "start_time": "2022-01-15T23:32:10.435Z"
   },
   {
    "duration": -733,
    "start_time": "2022-01-15T23:32:10.441Z"
   },
   {
    "duration": -738,
    "start_time": "2022-01-15T23:32:10.447Z"
   },
   {
    "duration": -743,
    "start_time": "2022-01-15T23:32:10.453Z"
   },
   {
    "duration": -748,
    "start_time": "2022-01-15T23:32:10.459Z"
   },
   {
    "duration": -752,
    "start_time": "2022-01-15T23:32:10.464Z"
   },
   {
    "duration": -757,
    "start_time": "2022-01-15T23:32:10.470Z"
   },
   {
    "duration": -763,
    "start_time": "2022-01-15T23:32:10.476Z"
   },
   {
    "duration": -767,
    "start_time": "2022-01-15T23:32:10.481Z"
   },
   {
    "duration": -772,
    "start_time": "2022-01-15T23:32:10.487Z"
   },
   {
    "duration": -776,
    "start_time": "2022-01-15T23:32:10.492Z"
   },
   {
    "duration": -780,
    "start_time": "2022-01-15T23:32:10.497Z"
   },
   {
    "duration": -786,
    "start_time": "2022-01-15T23:32:10.504Z"
   },
   {
    "duration": -790,
    "start_time": "2022-01-15T23:32:10.509Z"
   },
   {
    "duration": -795,
    "start_time": "2022-01-15T23:32:10.515Z"
   },
   {
    "duration": -800,
    "start_time": "2022-01-15T23:32:10.521Z"
   },
   {
    "duration": -804,
    "start_time": "2022-01-15T23:32:10.526Z"
   },
   {
    "duration": -808,
    "start_time": "2022-01-15T23:32:10.531Z"
   },
   {
    "duration": -815,
    "start_time": "2022-01-15T23:32:10.538Z"
   },
   {
    "duration": -820,
    "start_time": "2022-01-15T23:32:10.544Z"
   },
   {
    "duration": -825,
    "start_time": "2022-01-15T23:32:10.550Z"
   },
   {
    "duration": -829,
    "start_time": "2022-01-15T23:32:10.555Z"
   },
   {
    "duration": -834,
    "start_time": "2022-01-15T23:32:10.561Z"
   },
   {
    "duration": -837,
    "start_time": "2022-01-15T23:32:10.565Z"
   },
   {
    "duration": -842,
    "start_time": "2022-01-15T23:32:10.571Z"
   },
   {
    "duration": -845,
    "start_time": "2022-01-15T23:32:10.575Z"
   },
   {
    "duration": -850,
    "start_time": "2022-01-15T23:32:10.580Z"
   },
   {
    "duration": -854,
    "start_time": "2022-01-15T23:32:10.585Z"
   },
   {
    "duration": -858,
    "start_time": "2022-01-15T23:32:10.590Z"
   },
   {
    "duration": -861,
    "start_time": "2022-01-15T23:32:10.594Z"
   },
   {
    "duration": -866,
    "start_time": "2022-01-15T23:32:10.600Z"
   },
   {
    "duration": -869,
    "start_time": "2022-01-15T23:32:10.604Z"
   },
   {
    "duration": -873,
    "start_time": "2022-01-15T23:32:10.609Z"
   },
   {
    "duration": -877,
    "start_time": "2022-01-15T23:32:10.614Z"
   },
   {
    "duration": -901,
    "start_time": "2022-01-15T23:32:10.639Z"
   },
   {
    "duration": -905,
    "start_time": "2022-01-15T23:32:10.644Z"
   },
   {
    "duration": -910,
    "start_time": "2022-01-15T23:32:10.650Z"
   },
   {
    "duration": 426,
    "start_time": "2022-01-15T23:34:33.325Z"
   },
   {
    "duration": 9,
    "start_time": "2022-01-15T23:34:46.899Z"
   },
   {
    "duration": 9,
    "start_time": "2022-01-15T23:35:05.694Z"
   },
   {
    "duration": 10,
    "start_time": "2022-01-15T23:37:48.575Z"
   },
   {
    "duration": 8,
    "start_time": "2022-01-15T23:38:43.743Z"
   },
   {
    "duration": 2557,
    "start_time": "2022-01-15T23:39:37.825Z"
   },
   {
    "duration": 1086,
    "start_time": "2022-01-15T23:39:40.384Z"
   },
   {
    "duration": 18,
    "start_time": "2022-01-15T23:39:41.472Z"
   },
   {
    "duration": 3,
    "start_time": "2022-01-15T23:39:41.492Z"
   },
   {
    "duration": 11,
    "start_time": "2022-01-15T23:39:41.497Z"
   },
   {
    "duration": 5,
    "start_time": "2022-01-15T23:39:41.509Z"
   },
   {
    "duration": 3,
    "start_time": "2022-01-15T23:39:41.516Z"
   },
   {
    "duration": 5,
    "start_time": "2022-01-15T23:39:41.527Z"
   },
   {
    "duration": 20,
    "start_time": "2022-01-15T23:39:41.533Z"
   },
   {
    "duration": 20,
    "start_time": "2022-01-15T23:39:41.554Z"
   },
   {
    "duration": 4,
    "start_time": "2022-01-15T23:39:41.575Z"
   },
   {
    "duration": 4515,
    "start_time": "2022-01-15T23:39:41.580Z"
   },
   {
    "duration": 2,
    "start_time": "2022-01-15T23:39:46.097Z"
   },
   {
    "duration": 4,
    "start_time": "2022-01-15T23:39:46.101Z"
   },
   {
    "duration": 26,
    "start_time": "2022-01-15T23:39:46.107Z"
   },
   {
    "duration": 8,
    "start_time": "2022-01-15T23:39:46.135Z"
   },
   {
    "duration": 4,
    "start_time": "2022-01-15T23:39:46.145Z"
   },
   {
    "duration": 17,
    "start_time": "2022-01-15T23:39:46.151Z"
   },
   {
    "duration": 14,
    "start_time": "2022-01-15T23:39:46.169Z"
   },
   {
    "duration": 7,
    "start_time": "2022-01-15T23:39:46.185Z"
   },
   {
    "duration": 47,
    "start_time": "2022-01-15T23:39:46.193Z"
   },
   {
    "duration": 14,
    "start_time": "2022-01-15T23:39:46.242Z"
   },
   {
    "duration": 7,
    "start_time": "2022-01-15T23:39:46.260Z"
   },
   {
    "duration": 109,
    "start_time": "2022-01-15T23:39:46.269Z"
   },
   {
    "duration": -765,
    "start_time": "2022-01-15T23:39:47.145Z"
   },
   {
    "duration": -772,
    "start_time": "2022-01-15T23:39:47.153Z"
   },
   {
    "duration": -777,
    "start_time": "2022-01-15T23:39:47.159Z"
   },
   {
    "duration": -784,
    "start_time": "2022-01-15T23:39:47.166Z"
   },
   {
    "duration": -788,
    "start_time": "2022-01-15T23:39:47.171Z"
   },
   {
    "duration": -792,
    "start_time": "2022-01-15T23:39:47.176Z"
   },
   {
    "duration": -797,
    "start_time": "2022-01-15T23:39:47.181Z"
   },
   {
    "duration": -801,
    "start_time": "2022-01-15T23:39:47.186Z"
   },
   {
    "duration": -807,
    "start_time": "2022-01-15T23:39:47.192Z"
   },
   {
    "duration": -812,
    "start_time": "2022-01-15T23:39:47.198Z"
   },
   {
    "duration": -815,
    "start_time": "2022-01-15T23:39:47.202Z"
   },
   {
    "duration": -820,
    "start_time": "2022-01-15T23:39:47.207Z"
   },
   {
    "duration": -824,
    "start_time": "2022-01-15T23:39:47.212Z"
   },
   {
    "duration": -827,
    "start_time": "2022-01-15T23:39:47.216Z"
   },
   {
    "duration": -831,
    "start_time": "2022-01-15T23:39:47.220Z"
   },
   {
    "duration": -835,
    "start_time": "2022-01-15T23:39:47.225Z"
   },
   {
    "duration": -838,
    "start_time": "2022-01-15T23:39:47.229Z"
   },
   {
    "duration": -843,
    "start_time": "2022-01-15T23:39:47.234Z"
   },
   {
    "duration": -847,
    "start_time": "2022-01-15T23:39:47.239Z"
   },
   {
    "duration": -871,
    "start_time": "2022-01-15T23:39:47.264Z"
   },
   {
    "duration": -876,
    "start_time": "2022-01-15T23:39:47.269Z"
   },
   {
    "duration": -881,
    "start_time": "2022-01-15T23:39:47.275Z"
   },
   {
    "duration": -885,
    "start_time": "2022-01-15T23:39:47.280Z"
   },
   {
    "duration": -891,
    "start_time": "2022-01-15T23:39:47.286Z"
   },
   {
    "duration": -894,
    "start_time": "2022-01-15T23:39:47.290Z"
   },
   {
    "duration": -898,
    "start_time": "2022-01-15T23:39:47.295Z"
   },
   {
    "duration": -902,
    "start_time": "2022-01-15T23:39:47.299Z"
   },
   {
    "duration": -906,
    "start_time": "2022-01-15T23:39:47.304Z"
   },
   {
    "duration": -909,
    "start_time": "2022-01-15T23:39:47.308Z"
   },
   {
    "duration": -913,
    "start_time": "2022-01-15T23:39:47.312Z"
   },
   {
    "duration": -916,
    "start_time": "2022-01-15T23:39:47.316Z"
   },
   {
    "duration": -920,
    "start_time": "2022-01-15T23:39:47.321Z"
   },
   {
    "duration": -924,
    "start_time": "2022-01-15T23:39:47.325Z"
   },
   {
    "duration": -928,
    "start_time": "2022-01-15T23:39:47.330Z"
   },
   {
    "duration": -931,
    "start_time": "2022-01-15T23:39:47.334Z"
   },
   {
    "duration": -936,
    "start_time": "2022-01-15T23:39:47.339Z"
   },
   {
    "duration": -939,
    "start_time": "2022-01-15T23:39:47.343Z"
   },
   {
    "duration": -943,
    "start_time": "2022-01-15T23:39:47.348Z"
   },
   {
    "duration": -947,
    "start_time": "2022-01-15T23:39:47.352Z"
   },
   {
    "duration": -951,
    "start_time": "2022-01-15T23:39:47.357Z"
   },
   {
    "duration": -954,
    "start_time": "2022-01-15T23:39:47.361Z"
   },
   {
    "duration": -974,
    "start_time": "2022-01-15T23:39:47.381Z"
   },
   {
    "duration": -978,
    "start_time": "2022-01-15T23:39:47.386Z"
   },
   {
    "duration": -983,
    "start_time": "2022-01-15T23:39:47.392Z"
   },
   {
    "duration": -988,
    "start_time": "2022-01-15T23:39:47.397Z"
   },
   {
    "duration": -993,
    "start_time": "2022-01-15T23:39:47.403Z"
   },
   {
    "duration": -997,
    "start_time": "2022-01-15T23:39:47.408Z"
   },
   {
    "duration": -1001,
    "start_time": "2022-01-15T23:39:47.413Z"
   },
   {
    "duration": -1005,
    "start_time": "2022-01-15T23:39:47.418Z"
   },
   {
    "duration": -1009,
    "start_time": "2022-01-15T23:39:47.422Z"
   },
   {
    "duration": -1013,
    "start_time": "2022-01-15T23:39:47.427Z"
   },
   {
    "duration": -1018,
    "start_time": "2022-01-15T23:39:47.432Z"
   },
   {
    "duration": 2990,
    "start_time": "2022-01-15T23:40:55.333Z"
   },
   {
    "duration": 1240,
    "start_time": "2022-01-15T23:40:58.325Z"
   },
   {
    "duration": 18,
    "start_time": "2022-01-15T23:40:59.567Z"
   },
   {
    "duration": 3,
    "start_time": "2022-01-15T23:40:59.587Z"
   },
   {
    "duration": 13,
    "start_time": "2022-01-15T23:40:59.591Z"
   },
   {
    "duration": 5,
    "start_time": "2022-01-15T23:40:59.606Z"
   },
   {
    "duration": 5,
    "start_time": "2022-01-15T23:40:59.612Z"
   },
   {
    "duration": 5,
    "start_time": "2022-01-15T23:40:59.620Z"
   },
   {
    "duration": 18,
    "start_time": "2022-01-15T23:40:59.627Z"
   },
   {
    "duration": 20,
    "start_time": "2022-01-15T23:40:59.646Z"
   },
   {
    "duration": 4,
    "start_time": "2022-01-15T23:40:59.667Z"
   },
   {
    "duration": 4547,
    "start_time": "2022-01-15T23:40:59.673Z"
   },
   {
    "duration": 5,
    "start_time": "2022-01-15T23:41:04.222Z"
   },
   {
    "duration": 6,
    "start_time": "2022-01-15T23:41:04.229Z"
   },
   {
    "duration": 16,
    "start_time": "2022-01-15T23:41:04.237Z"
   },
   {
    "duration": 10,
    "start_time": "2022-01-15T23:41:04.255Z"
   },
   {
    "duration": 6,
    "start_time": "2022-01-15T23:41:04.266Z"
   },
   {
    "duration": 20,
    "start_time": "2022-01-15T23:41:04.273Z"
   },
   {
    "duration": 16,
    "start_time": "2022-01-15T23:41:04.327Z"
   },
   {
    "duration": 9,
    "start_time": "2022-01-15T23:41:04.344Z"
   },
   {
    "duration": 16,
    "start_time": "2022-01-15T23:41:04.354Z"
   },
   {
    "duration": 15,
    "start_time": "2022-01-15T23:41:04.372Z"
   },
   {
    "duration": 37,
    "start_time": "2022-01-15T23:41:04.391Z"
   },
   {
    "duration": 124,
    "start_time": "2022-01-15T23:41:04.431Z"
   },
   {
    "duration": -511,
    "start_time": "2022-01-15T23:41:05.068Z"
   },
   {
    "duration": -515,
    "start_time": "2022-01-15T23:41:05.073Z"
   },
   {
    "duration": -519,
    "start_time": "2022-01-15T23:41:05.078Z"
   },
   {
    "duration": -523,
    "start_time": "2022-01-15T23:41:05.083Z"
   },
   {
    "duration": -527,
    "start_time": "2022-01-15T23:41:05.088Z"
   },
   {
    "duration": -610,
    "start_time": "2022-01-15T23:41:05.171Z"
   },
   {
    "duration": -615,
    "start_time": "2022-01-15T23:41:05.177Z"
   },
   {
    "duration": -620,
    "start_time": "2022-01-15T23:41:05.183Z"
   },
   {
    "duration": -624,
    "start_time": "2022-01-15T23:41:05.188Z"
   },
   {
    "duration": -629,
    "start_time": "2022-01-15T23:41:05.194Z"
   },
   {
    "duration": -633,
    "start_time": "2022-01-15T23:41:05.199Z"
   },
   {
    "duration": -637,
    "start_time": "2022-01-15T23:41:05.204Z"
   },
   {
    "duration": -641,
    "start_time": "2022-01-15T23:41:05.209Z"
   },
   {
    "duration": -645,
    "start_time": "2022-01-15T23:41:05.214Z"
   },
   {
    "duration": -648,
    "start_time": "2022-01-15T23:41:05.218Z"
   },
   {
    "duration": -652,
    "start_time": "2022-01-15T23:41:05.223Z"
   },
   {
    "duration": -656,
    "start_time": "2022-01-15T23:41:05.227Z"
   },
   {
    "duration": -660,
    "start_time": "2022-01-15T23:41:05.232Z"
   },
   {
    "duration": -663,
    "start_time": "2022-01-15T23:41:05.236Z"
   },
   {
    "duration": -667,
    "start_time": "2022-01-15T23:41:05.241Z"
   },
   {
    "duration": -670,
    "start_time": "2022-01-15T23:41:05.245Z"
   },
   {
    "duration": -674,
    "start_time": "2022-01-15T23:41:05.250Z"
   },
   {
    "duration": -678,
    "start_time": "2022-01-15T23:41:05.255Z"
   },
   {
    "duration": -682,
    "start_time": "2022-01-15T23:41:05.260Z"
   },
   {
    "duration": -686,
    "start_time": "2022-01-15T23:41:05.265Z"
   },
   {
    "duration": -707,
    "start_time": "2022-01-15T23:41:05.287Z"
   },
   {
    "duration": -712,
    "start_time": "2022-01-15T23:41:05.293Z"
   },
   {
    "duration": -717,
    "start_time": "2022-01-15T23:41:05.299Z"
   },
   {
    "duration": -721,
    "start_time": "2022-01-15T23:41:05.304Z"
   },
   {
    "duration": -726,
    "start_time": "2022-01-15T23:41:05.310Z"
   },
   {
    "duration": -732,
    "start_time": "2022-01-15T23:41:05.316Z"
   },
   {
    "duration": -736,
    "start_time": "2022-01-15T23:41:05.321Z"
   },
   {
    "duration": -741,
    "start_time": "2022-01-15T23:41:05.327Z"
   },
   {
    "duration": -745,
    "start_time": "2022-01-15T23:41:05.332Z"
   },
   {
    "duration": -749,
    "start_time": "2022-01-15T23:41:05.337Z"
   },
   {
    "duration": -755,
    "start_time": "2022-01-15T23:41:05.344Z"
   },
   {
    "duration": -759,
    "start_time": "2022-01-15T23:41:05.349Z"
   },
   {
    "duration": -765,
    "start_time": "2022-01-15T23:41:05.355Z"
   },
   {
    "duration": -770,
    "start_time": "2022-01-15T23:41:05.361Z"
   },
   {
    "duration": -775,
    "start_time": "2022-01-15T23:41:05.367Z"
   },
   {
    "duration": -780,
    "start_time": "2022-01-15T23:41:05.373Z"
   },
   {
    "duration": -785,
    "start_time": "2022-01-15T23:41:05.379Z"
   },
   {
    "duration": -790,
    "start_time": "2022-01-15T23:41:05.385Z"
   },
   {
    "duration": -796,
    "start_time": "2022-01-15T23:41:05.392Z"
   },
   {
    "duration": -801,
    "start_time": "2022-01-15T23:41:05.397Z"
   },
   {
    "duration": -805,
    "start_time": "2022-01-15T23:41:05.402Z"
   },
   {
    "duration": -810,
    "start_time": "2022-01-15T23:41:05.408Z"
   },
   {
    "duration": -788,
    "start_time": "2022-01-15T23:41:05.414Z"
   },
   {
    "duration": -791,
    "start_time": "2022-01-15T23:41:05.418Z"
   },
   {
    "duration": -796,
    "start_time": "2022-01-15T23:41:05.424Z"
   },
   {
    "duration": -801,
    "start_time": "2022-01-15T23:41:05.430Z"
   },
   {
    "duration": -806,
    "start_time": "2022-01-15T23:41:05.436Z"
   },
   {
    "duration": 6,
    "start_time": "2022-01-15T23:41:21.429Z"
   },
   {
    "duration": 7,
    "start_time": "2022-01-15T23:46:37.596Z"
   },
   {
    "duration": 8,
    "start_time": "2022-01-15T23:55:05.708Z"
   },
   {
    "duration": 16,
    "start_time": "2022-01-15T23:56:07.260Z"
   },
   {
    "duration": 15,
    "start_time": "2022-01-15T23:56:09.196Z"
   },
   {
    "duration": 17,
    "start_time": "2022-01-15T23:56:39.031Z"
   },
   {
    "duration": 16,
    "start_time": "2022-01-15T23:56:39.881Z"
   },
   {
    "duration": 22,
    "start_time": "2022-01-15T23:57:19.604Z"
   },
   {
    "duration": 23,
    "start_time": "2022-01-15T23:57:34.938Z"
   },
   {
    "duration": 22,
    "start_time": "2022-01-15T23:58:23.958Z"
   },
   {
    "duration": 6,
    "start_time": "2022-01-16T00:00:56.089Z"
   },
   {
    "duration": 17,
    "start_time": "2022-01-16T00:01:03.340Z"
   },
   {
    "duration": 16,
    "start_time": "2022-01-16T00:01:12.560Z"
   },
   {
    "duration": 23,
    "start_time": "2022-01-16T00:03:37.541Z"
   },
   {
    "duration": 2529,
    "start_time": "2022-01-16T00:09:01.432Z"
   },
   {
    "duration": 1106,
    "start_time": "2022-01-16T00:09:03.963Z"
   },
   {
    "duration": 18,
    "start_time": "2022-01-16T00:09:05.071Z"
   },
   {
    "duration": 4,
    "start_time": "2022-01-16T00:09:05.091Z"
   },
   {
    "duration": 11,
    "start_time": "2022-01-16T00:09:05.097Z"
   },
   {
    "duration": 5,
    "start_time": "2022-01-16T00:09:05.109Z"
   },
   {
    "duration": 7,
    "start_time": "2022-01-16T00:09:05.116Z"
   },
   {
    "duration": 5,
    "start_time": "2022-01-16T00:09:05.125Z"
   },
   {
    "duration": 20,
    "start_time": "2022-01-16T00:09:05.132Z"
   },
   {
    "duration": 21,
    "start_time": "2022-01-16T00:09:05.153Z"
   },
   {
    "duration": 4,
    "start_time": "2022-01-16T00:09:05.175Z"
   },
   {
    "duration": 4546,
    "start_time": "2022-01-16T00:09:05.181Z"
   },
   {
    "duration": 2,
    "start_time": "2022-01-16T00:09:09.729Z"
   },
   {
    "duration": 8,
    "start_time": "2022-01-16T00:09:09.732Z"
   },
   {
    "duration": 12,
    "start_time": "2022-01-16T00:09:09.741Z"
   },
   {
    "duration": 10,
    "start_time": "2022-01-16T00:09:09.754Z"
   },
   {
    "duration": 8,
    "start_time": "2022-01-16T00:09:09.765Z"
   },
   {
    "duration": 4,
    "start_time": "2022-01-16T00:09:09.775Z"
   },
   {
    "duration": 16,
    "start_time": "2022-01-16T00:09:09.781Z"
   },
   {
    "duration": 42,
    "start_time": "2022-01-16T00:09:09.798Z"
   },
   {
    "duration": 14,
    "start_time": "2022-01-16T00:09:09.841Z"
   },
   {
    "duration": 14,
    "start_time": "2022-01-16T00:09:09.857Z"
   },
   {
    "duration": 3,
    "start_time": "2022-01-16T00:09:09.874Z"
   },
   {
    "duration": 8,
    "start_time": "2022-01-16T00:09:09.879Z"
   },
   {
    "duration": 6,
    "start_time": "2022-01-16T00:09:09.888Z"
   },
   {
    "duration": 34,
    "start_time": "2022-01-16T00:09:09.896Z"
   },
   {
    "duration": 2,
    "start_time": "2022-01-16T00:09:09.932Z"
   },
   {
    "duration": 6,
    "start_time": "2022-01-16T00:09:09.935Z"
   },
   {
    "duration": 6,
    "start_time": "2022-01-16T00:09:09.942Z"
   },
   {
    "duration": 14,
    "start_time": "2022-01-16T00:09:09.950Z"
   },
   {
    "duration": 41,
    "start_time": "2022-01-16T00:09:09.965Z"
   },
   {
    "duration": 354,
    "start_time": "2022-01-16T00:09:10.007Z"
   },
   {
    "duration": 2,
    "start_time": "2022-01-16T00:09:10.363Z"
   },
   {
    "duration": 1388,
    "start_time": "2022-01-16T00:09:10.367Z"
   },
   {
    "duration": 3,
    "start_time": "2022-01-16T00:09:11.756Z"
   },
   {
    "duration": 6,
    "start_time": "2022-01-16T00:09:11.760Z"
   },
   {
    "duration": 10,
    "start_time": "2022-01-16T00:09:11.767Z"
   },
   {
    "duration": 213,
    "start_time": "2022-01-16T00:09:11.778Z"
   },
   {
    "duration": 50,
    "start_time": "2022-01-16T00:09:11.993Z"
   },
   {
    "duration": 238,
    "start_time": "2022-01-16T00:09:12.045Z"
   },
   {
    "duration": 4,
    "start_time": "2022-01-16T00:09:12.285Z"
   },
   {
    "duration": 15,
    "start_time": "2022-01-16T00:09:12.290Z"
   },
   {
    "duration": 22,
    "start_time": "2022-01-16T00:09:12.306Z"
   },
   {
    "duration": 100,
    "start_time": "2022-01-16T00:09:12.330Z"
   },
   {
    "duration": 10,
    "start_time": "2022-01-16T00:09:12.432Z"
   },
   {
    "duration": 100,
    "start_time": "2022-01-16T00:09:12.528Z"
   },
   {
    "duration": 5,
    "start_time": "2022-01-16T00:09:12.630Z"
   },
   {
    "duration": 90,
    "start_time": "2022-01-16T00:09:12.637Z"
   },
   {
    "duration": 5,
    "start_time": "2022-01-16T00:09:12.729Z"
   },
   {
    "duration": 5,
    "start_time": "2022-01-16T00:09:12.736Z"
   },
   {
    "duration": 9,
    "start_time": "2022-01-16T00:09:12.743Z"
   },
   {
    "duration": 75,
    "start_time": "2022-01-16T00:09:12.753Z"
   },
   {
    "duration": 6,
    "start_time": "2022-01-16T00:09:12.830Z"
   },
   {
    "duration": 10,
    "start_time": "2022-01-16T00:09:12.837Z"
   },
   {
    "duration": 83,
    "start_time": "2022-01-16T00:09:12.848Z"
   },
   {
    "duration": 5,
    "start_time": "2022-01-16T00:09:12.933Z"
   },
   {
    "duration": 5,
    "start_time": "2022-01-16T00:09:12.939Z"
   },
   {
    "duration": 10,
    "start_time": "2022-01-16T00:09:12.945Z"
   },
   {
    "duration": 5,
    "start_time": "2022-01-16T00:09:12.957Z"
   },
   {
    "duration": 5,
    "start_time": "2022-01-16T00:09:12.963Z"
   },
   {
    "duration": 6,
    "start_time": "2022-01-16T00:09:12.970Z"
   },
   {
    "duration": 50,
    "start_time": "2022-01-16T00:09:12.977Z"
   },
   {
    "duration": 4,
    "start_time": "2022-01-16T00:09:13.029Z"
   },
   {
    "duration": 6,
    "start_time": "2022-01-16T00:09:13.035Z"
   },
   {
    "duration": 411,
    "start_time": "2022-01-16T00:09:13.042Z"
   },
   {
    "duration": -170,
    "start_time": "2022-01-16T00:09:13.625Z"
   },
   {
    "duration": -176,
    "start_time": "2022-01-16T00:09:13.632Z"
   },
   {
    "duration": -193,
    "start_time": "2022-01-16T00:09:13.650Z"
   },
   {
    "duration": -210,
    "start_time": "2022-01-16T00:09:13.668Z"
   },
   {
    "duration": -214,
    "start_time": "2022-01-16T00:09:13.673Z"
   },
   {
    "duration": -218,
    "start_time": "2022-01-16T00:09:13.678Z"
   },
   {
    "duration": -223,
    "start_time": "2022-01-16T00:09:13.684Z"
   },
   {
    "duration": -240,
    "start_time": "2022-01-16T00:09:13.702Z"
   },
   {
    "duration": -245,
    "start_time": "2022-01-16T00:09:13.708Z"
   },
   {
    "duration": 15,
    "start_time": "2022-01-16T00:27:17.091Z"
   },
   {
    "duration": 7,
    "start_time": "2022-01-16T00:27:18.102Z"
   },
   {
    "duration": 20,
    "start_time": "2022-01-16T00:29:11.876Z"
   },
   {
    "duration": 21,
    "start_time": "2022-01-16T00:29:23.160Z"
   },
   {
    "duration": 8,
    "start_time": "2022-01-16T00:29:24.232Z"
   },
   {
    "duration": 370,
    "start_time": "2022-01-16T00:30:02.478Z"
   },
   {
    "duration": 2792,
    "start_time": "2022-01-16T00:32:22.657Z"
   },
   {
    "duration": 1113,
    "start_time": "2022-01-16T00:32:25.452Z"
   },
   {
    "duration": 19,
    "start_time": "2022-01-16T00:32:26.567Z"
   },
   {
    "duration": 4,
    "start_time": "2022-01-16T00:32:26.588Z"
   },
   {
    "duration": 13,
    "start_time": "2022-01-16T00:32:26.593Z"
   },
   {
    "duration": 5,
    "start_time": "2022-01-16T00:32:26.608Z"
   },
   {
    "duration": 6,
    "start_time": "2022-01-16T00:32:26.615Z"
   },
   {
    "duration": 6,
    "start_time": "2022-01-16T00:32:26.627Z"
   },
   {
    "duration": 22,
    "start_time": "2022-01-16T00:32:26.635Z"
   },
   {
    "duration": 21,
    "start_time": "2022-01-16T00:32:26.658Z"
   },
   {
    "duration": 5,
    "start_time": "2022-01-16T00:32:26.680Z"
   },
   {
    "duration": 5279,
    "start_time": "2022-01-16T00:32:26.686Z"
   },
   {
    "duration": 2,
    "start_time": "2022-01-16T00:32:31.967Z"
   },
   {
    "duration": 6,
    "start_time": "2022-01-16T00:32:31.971Z"
   },
   {
    "duration": 11,
    "start_time": "2022-01-16T00:32:31.979Z"
   },
   {
    "duration": 10,
    "start_time": "2022-01-16T00:32:31.991Z"
   },
   {
    "duration": 30,
    "start_time": "2022-01-16T00:32:32.002Z"
   },
   {
    "duration": 6,
    "start_time": "2022-01-16T00:32:32.034Z"
   },
   {
    "duration": 22,
    "start_time": "2022-01-16T00:32:32.041Z"
   },
   {
    "duration": 16,
    "start_time": "2022-01-16T00:32:32.064Z"
   },
   {
    "duration": 15,
    "start_time": "2022-01-16T00:32:32.081Z"
   },
   {
    "duration": 42,
    "start_time": "2022-01-16T00:32:32.097Z"
   },
   {
    "duration": 28,
    "start_time": "2022-01-16T00:32:32.144Z"
   },
   {
    "duration": 7,
    "start_time": "2022-01-16T00:32:32.175Z"
   },
   {
    "duration": 402,
    "start_time": "2022-01-16T00:32:32.184Z"
   },
   {
    "duration": -313,
    "start_time": "2022-01-16T00:32:32.902Z"
   },
   {
    "duration": -317,
    "start_time": "2022-01-16T00:32:32.907Z"
   },
   {
    "duration": -322,
    "start_time": "2022-01-16T00:32:32.913Z"
   },
   {
    "duration": -326,
    "start_time": "2022-01-16T00:32:32.918Z"
   },
   {
    "duration": -329,
    "start_time": "2022-01-16T00:32:32.923Z"
   },
   {
    "duration": -332,
    "start_time": "2022-01-16T00:32:32.928Z"
   },
   {
    "duration": -336,
    "start_time": "2022-01-16T00:32:32.933Z"
   },
   {
    "duration": -339,
    "start_time": "2022-01-16T00:32:32.937Z"
   },
   {
    "duration": -341,
    "start_time": "2022-01-16T00:32:32.941Z"
   },
   {
    "duration": -343,
    "start_time": "2022-01-16T00:32:32.945Z"
   },
   {
    "duration": -347,
    "start_time": "2022-01-16T00:32:32.949Z"
   },
   {
    "duration": -350,
    "start_time": "2022-01-16T00:32:32.953Z"
   },
   {
    "duration": -354,
    "start_time": "2022-01-16T00:32:32.958Z"
   },
   {
    "duration": -357,
    "start_time": "2022-01-16T00:32:32.962Z"
   },
   {
    "duration": -360,
    "start_time": "2022-01-16T00:32:32.966Z"
   },
   {
    "duration": -363,
    "start_time": "2022-01-16T00:32:32.970Z"
   },
   {
    "duration": -366,
    "start_time": "2022-01-16T00:32:32.974Z"
   },
   {
    "duration": -369,
    "start_time": "2022-01-16T00:32:32.978Z"
   },
   {
    "duration": -373,
    "start_time": "2022-01-16T00:32:32.983Z"
   },
   {
    "duration": -376,
    "start_time": "2022-01-16T00:32:32.987Z"
   },
   {
    "duration": -379,
    "start_time": "2022-01-16T00:32:32.991Z"
   },
   {
    "duration": -397,
    "start_time": "2022-01-16T00:32:33.010Z"
   },
   {
    "duration": -400,
    "start_time": "2022-01-16T00:32:33.015Z"
   },
   {
    "duration": -404,
    "start_time": "2022-01-16T00:32:33.020Z"
   },
   {
    "duration": -408,
    "start_time": "2022-01-16T00:32:33.025Z"
   },
   {
    "duration": -411,
    "start_time": "2022-01-16T00:32:33.029Z"
   },
   {
    "duration": -414,
    "start_time": "2022-01-16T00:32:33.033Z"
   },
   {
    "duration": -417,
    "start_time": "2022-01-16T00:32:33.037Z"
   },
   {
    "duration": -422,
    "start_time": "2022-01-16T00:32:33.042Z"
   },
   {
    "duration": -425,
    "start_time": "2022-01-16T00:32:33.046Z"
   },
   {
    "duration": -428,
    "start_time": "2022-01-16T00:32:33.051Z"
   },
   {
    "duration": -433,
    "start_time": "2022-01-16T00:32:33.056Z"
   },
   {
    "duration": -437,
    "start_time": "2022-01-16T00:32:33.061Z"
   },
   {
    "duration": -440,
    "start_time": "2022-01-16T00:32:33.065Z"
   },
   {
    "duration": -445,
    "start_time": "2022-01-16T00:32:33.071Z"
   },
   {
    "duration": -449,
    "start_time": "2022-01-16T00:32:33.076Z"
   },
   {
    "duration": -453,
    "start_time": "2022-01-16T00:32:33.081Z"
   },
   {
    "duration": -456,
    "start_time": "2022-01-16T00:32:33.085Z"
   },
   {
    "duration": -459,
    "start_time": "2022-01-16T00:32:33.089Z"
   },
   {
    "duration": -462,
    "start_time": "2022-01-16T00:32:33.093Z"
   },
   {
    "duration": -466,
    "start_time": "2022-01-16T00:32:33.098Z"
   },
   {
    "duration": -467,
    "start_time": "2022-01-16T00:32:33.102Z"
   },
   {
    "duration": -469,
    "start_time": "2022-01-16T00:32:33.106Z"
   },
   {
    "duration": -486,
    "start_time": "2022-01-16T00:32:33.123Z"
   },
   {
    "duration": -490,
    "start_time": "2022-01-16T00:32:33.128Z"
   },
   {
    "duration": -493,
    "start_time": "2022-01-16T00:32:33.133Z"
   },
   {
    "duration": -498,
    "start_time": "2022-01-16T00:32:33.139Z"
   },
   {
    "duration": -502,
    "start_time": "2022-01-16T00:32:33.144Z"
   },
   {
    "duration": 9,
    "start_time": "2022-01-16T00:34:11.975Z"
   },
   {
    "duration": 8,
    "start_time": "2022-01-16T00:34:39.903Z"
   },
   {
    "duration": 4,
    "start_time": "2022-01-16T00:36:51.077Z"
   },
   {
    "duration": 319,
    "start_time": "2022-01-16T00:37:58.965Z"
   },
   {
    "duration": 4,
    "start_time": "2022-01-16T00:38:59.227Z"
   },
   {
    "duration": 1320,
    "start_time": "2022-01-16T00:39:00.964Z"
   },
   {
    "duration": 8,
    "start_time": "2022-01-16T00:41:03.678Z"
   },
   {
    "duration": 51,
    "start_time": "2022-01-16T00:41:22.890Z"
   },
   {
    "duration": 349,
    "start_time": "2022-01-16T00:41:55.647Z"
   },
   {
    "duration": 2,
    "start_time": "2022-01-16T00:44:35.468Z"
   },
   {
    "duration": 4,
    "start_time": "2022-01-16T00:44:43.128Z"
   },
   {
    "duration": 2589,
    "start_time": "2022-01-16T00:44:58.708Z"
   },
   {
    "duration": 1178,
    "start_time": "2022-01-16T00:45:01.299Z"
   },
   {
    "duration": 20,
    "start_time": "2022-01-16T00:45:02.479Z"
   },
   {
    "duration": 4,
    "start_time": "2022-01-16T00:45:02.501Z"
   },
   {
    "duration": 12,
    "start_time": "2022-01-16T00:45:02.506Z"
   },
   {
    "duration": 11,
    "start_time": "2022-01-16T00:45:02.519Z"
   },
   {
    "duration": 5,
    "start_time": "2022-01-16T00:45:02.531Z"
   },
   {
    "duration": 9,
    "start_time": "2022-01-16T00:45:02.539Z"
   },
   {
    "duration": 18,
    "start_time": "2022-01-16T00:45:02.549Z"
   },
   {
    "duration": 20,
    "start_time": "2022-01-16T00:45:02.569Z"
   },
   {
    "duration": 5,
    "start_time": "2022-01-16T00:45:02.590Z"
   },
   {
    "duration": 4823,
    "start_time": "2022-01-16T00:45:02.596Z"
   },
   {
    "duration": 3,
    "start_time": "2022-01-16T00:45:07.420Z"
   },
   {
    "duration": 4,
    "start_time": "2022-01-16T00:45:07.426Z"
   },
   {
    "duration": 10,
    "start_time": "2022-01-16T00:45:07.432Z"
   },
   {
    "duration": 10,
    "start_time": "2022-01-16T00:45:07.443Z"
   },
   {
    "duration": 8,
    "start_time": "2022-01-16T00:45:07.454Z"
   },
   {
    "duration": 5,
    "start_time": "2022-01-16T00:45:07.463Z"
   },
   {
    "duration": 18,
    "start_time": "2022-01-16T00:45:07.469Z"
   },
   {
    "duration": 44,
    "start_time": "2022-01-16T00:45:07.488Z"
   },
   {
    "duration": 15,
    "start_time": "2022-01-16T00:45:07.533Z"
   },
   {
    "duration": 14,
    "start_time": "2022-01-16T00:45:07.549Z"
   },
   {
    "duration": 17,
    "start_time": "2022-01-16T00:45:07.567Z"
   },
   {
    "duration": 4,
    "start_time": "2022-01-16T00:45:07.587Z"
   },
   {
    "duration": 9,
    "start_time": "2022-01-16T00:45:07.593Z"
   },
   {
    "duration": 4,
    "start_time": "2022-01-16T00:45:07.627Z"
   },
   {
    "duration": 11,
    "start_time": "2022-01-16T00:45:07.632Z"
   },
   {
    "duration": 37,
    "start_time": "2022-01-16T00:45:07.645Z"
   },
   {
    "duration": 347,
    "start_time": "2022-01-16T00:45:07.684Z"
   },
   {
    "duration": 3,
    "start_time": "2022-01-16T00:45:08.033Z"
   },
   {
    "duration": 1315,
    "start_time": "2022-01-16T00:45:08.037Z"
   },
   {
    "duration": 404,
    "start_time": "2022-01-16T00:45:09.353Z"
   },
   {
    "duration": -139,
    "start_time": "2022-01-16T00:45:09.898Z"
   },
   {
    "duration": -144,
    "start_time": "2022-01-16T00:45:09.904Z"
   },
   {
    "duration": -149,
    "start_time": "2022-01-16T00:45:09.910Z"
   },
   {
    "duration": -153,
    "start_time": "2022-01-16T00:45:09.914Z"
   },
   {
    "duration": -157,
    "start_time": "2022-01-16T00:45:09.919Z"
   },
   {
    "duration": -161,
    "start_time": "2022-01-16T00:45:09.924Z"
   },
   {
    "duration": -164,
    "start_time": "2022-01-16T00:45:09.928Z"
   },
   {
    "duration": -168,
    "start_time": "2022-01-16T00:45:09.933Z"
   },
   {
    "duration": -388,
    "start_time": "2022-01-16T00:45:10.154Z"
   },
   {
    "duration": -432,
    "start_time": "2022-01-16T00:45:10.199Z"
   },
   {
    "duration": -436,
    "start_time": "2022-01-16T00:45:10.204Z"
   },
   {
    "duration": -439,
    "start_time": "2022-01-16T00:45:10.208Z"
   },
   {
    "duration": -454,
    "start_time": "2022-01-16T00:45:10.224Z"
   },
   {
    "duration": -458,
    "start_time": "2022-01-16T00:45:10.229Z"
   },
   {
    "duration": -464,
    "start_time": "2022-01-16T00:45:10.235Z"
   },
   {
    "duration": -469,
    "start_time": "2022-01-16T00:45:10.241Z"
   },
   {
    "duration": -475,
    "start_time": "2022-01-16T00:45:10.248Z"
   },
   {
    "duration": -479,
    "start_time": "2022-01-16T00:45:10.253Z"
   },
   {
    "duration": -485,
    "start_time": "2022-01-16T00:45:10.260Z"
   },
   {
    "duration": -490,
    "start_time": "2022-01-16T00:45:10.266Z"
   },
   {
    "duration": -494,
    "start_time": "2022-01-16T00:45:10.271Z"
   },
   {
    "duration": -498,
    "start_time": "2022-01-16T00:45:10.276Z"
   },
   {
    "duration": -503,
    "start_time": "2022-01-16T00:45:10.282Z"
   },
   {
    "duration": -507,
    "start_time": "2022-01-16T00:45:10.287Z"
   },
   {
    "duration": -512,
    "start_time": "2022-01-16T00:45:10.292Z"
   },
   {
    "duration": -516,
    "start_time": "2022-01-16T00:45:10.297Z"
   },
   {
    "duration": -520,
    "start_time": "2022-01-16T00:45:10.302Z"
   },
   {
    "duration": -525,
    "start_time": "2022-01-16T00:45:10.308Z"
   },
   {
    "duration": -530,
    "start_time": "2022-01-16T00:45:10.314Z"
   },
   {
    "duration": -534,
    "start_time": "2022-01-16T00:45:10.319Z"
   },
   {
    "duration": -554,
    "start_time": "2022-01-16T00:45:10.340Z"
   },
   {
    "duration": -558,
    "start_time": "2022-01-16T00:45:10.345Z"
   },
   {
    "duration": -563,
    "start_time": "2022-01-16T00:45:10.351Z"
   },
   {
    "duration": -566,
    "start_time": "2022-01-16T00:45:10.355Z"
   },
   {
    "duration": -571,
    "start_time": "2022-01-16T00:45:10.361Z"
   },
   {
    "duration": -576,
    "start_time": "2022-01-16T00:45:10.366Z"
   },
   {
    "duration": -581,
    "start_time": "2022-01-16T00:45:10.372Z"
   },
   {
    "duration": -584,
    "start_time": "2022-01-16T00:45:10.376Z"
   },
   {
    "duration": -589,
    "start_time": "2022-01-16T00:45:10.382Z"
   },
   {
    "duration": -592,
    "start_time": "2022-01-16T00:45:10.386Z"
   },
   {
    "duration": -597,
    "start_time": "2022-01-16T00:45:10.392Z"
   },
   {
    "duration": 5,
    "start_time": "2022-01-16T00:46:54.427Z"
   },
   {
    "duration": 8,
    "start_time": "2022-01-16T00:46:55.037Z"
   },
   {
    "duration": 57,
    "start_time": "2022-01-16T00:46:55.580Z"
   },
   {
    "duration": 348,
    "start_time": "2022-01-16T00:46:56.365Z"
   },
   {
    "duration": 3,
    "start_time": "2022-01-16T00:47:23.873Z"
   },
   {
    "duration": 1228,
    "start_time": "2022-01-16T00:47:24.527Z"
   },
   {
    "duration": 399,
    "start_time": "2022-01-16T00:48:53.945Z"
   },
   {
    "duration": 385,
    "start_time": "2022-01-16T00:50:29.449Z"
   },
   {
    "duration": 404,
    "start_time": "2022-01-16T00:50:34.910Z"
   },
   {
    "duration": 5,
    "start_time": "2022-01-16T01:01:51.370Z"
   },
   {
    "duration": 90,
    "start_time": "2022-01-16T01:01:51.377Z"
   },
   {
    "duration": 11,
    "start_time": "2022-01-16T01:01:52.517Z"
   },
   {
    "duration": 10,
    "start_time": "2022-01-16T01:01:54.624Z"
   },
   {
    "duration": 11,
    "start_time": "2022-01-16T01:01:56.249Z"
   },
   {
    "duration": 11,
    "start_time": "2022-01-16T01:01:57.245Z"
   },
   {
    "duration": 3,
    "start_time": "2022-01-16T01:17:58.883Z"
   },
   {
    "duration": 4,
    "start_time": "2022-01-16T01:17:59.776Z"
   },
   {
    "duration": 4,
    "start_time": "2022-01-16T01:18:01.558Z"
   },
   {
    "duration": 8,
    "start_time": "2022-01-16T01:18:11.900Z"
   },
   {
    "duration": 4,
    "start_time": "2022-01-16T01:19:17.379Z"
   },
   {
    "duration": 4,
    "start_time": "2022-01-16T01:19:23.190Z"
   },
   {
    "duration": 3504,
    "start_time": "2022-01-16T01:20:00.814Z"
   },
   {
    "duration": 1756,
    "start_time": "2022-01-16T01:20:04.320Z"
   },
   {
    "duration": 18,
    "start_time": "2022-01-16T01:20:06.078Z"
   },
   {
    "duration": 3,
    "start_time": "2022-01-16T01:20:06.098Z"
   },
   {
    "duration": 11,
    "start_time": "2022-01-16T01:20:06.103Z"
   },
   {
    "duration": 5,
    "start_time": "2022-01-16T01:20:06.116Z"
   },
   {
    "duration": 5,
    "start_time": "2022-01-16T01:20:06.122Z"
   },
   {
    "duration": 6,
    "start_time": "2022-01-16T01:20:06.129Z"
   },
   {
    "duration": 23,
    "start_time": "2022-01-16T01:20:06.137Z"
   },
   {
    "duration": 26,
    "start_time": "2022-01-16T01:20:06.162Z"
   },
   {
    "duration": 5,
    "start_time": "2022-01-16T01:20:06.189Z"
   },
   {
    "duration": 4720,
    "start_time": "2022-01-16T01:20:06.195Z"
   },
   {
    "duration": 2,
    "start_time": "2022-01-16T01:20:10.917Z"
   },
   {
    "duration": 9,
    "start_time": "2022-01-16T01:20:10.920Z"
   },
   {
    "duration": 12,
    "start_time": "2022-01-16T01:20:10.930Z"
   },
   {
    "duration": 11,
    "start_time": "2022-01-16T01:20:10.944Z"
   },
   {
    "duration": 12,
    "start_time": "2022-01-16T01:20:10.956Z"
   },
   {
    "duration": 12,
    "start_time": "2022-01-16T01:20:10.970Z"
   },
   {
    "duration": 24,
    "start_time": "2022-01-16T01:20:10.983Z"
   },
   {
    "duration": 21,
    "start_time": "2022-01-16T01:20:11.008Z"
   },
   {
    "duration": 15,
    "start_time": "2022-01-16T01:20:11.030Z"
   },
   {
    "duration": 15,
    "start_time": "2022-01-16T01:20:11.047Z"
   },
   {
    "duration": 18,
    "start_time": "2022-01-16T01:20:11.065Z"
   },
   {
    "duration": 7,
    "start_time": "2022-01-16T01:20:11.085Z"
   },
   {
    "duration": 35,
    "start_time": "2022-01-16T01:20:11.093Z"
   },
   {
    "duration": 4,
    "start_time": "2022-01-16T01:20:11.129Z"
   },
   {
    "duration": 11,
    "start_time": "2022-01-16T01:20:11.134Z"
   },
   {
    "duration": 57,
    "start_time": "2022-01-16T01:20:11.146Z"
   },
   {
    "duration": 352,
    "start_time": "2022-01-16T01:20:11.204Z"
   },
   {
    "duration": 3,
    "start_time": "2022-01-16T01:20:11.558Z"
   },
   {
    "duration": 1275,
    "start_time": "2022-01-16T01:20:11.563Z"
   },
   {
    "duration": 419,
    "start_time": "2022-01-16T01:20:12.840Z"
   },
   {
    "duration": 424,
    "start_time": "2022-01-16T01:20:13.261Z"
   },
   {
    "duration": 4,
    "start_time": "2022-01-16T01:20:13.687Z"
   },
   {
    "duration": 6,
    "start_time": "2022-01-16T01:20:13.692Z"
   },
   {
    "duration": 28,
    "start_time": "2022-01-16T01:20:13.699Z"
   },
   {
    "duration": 13,
    "start_time": "2022-01-16T01:20:13.729Z"
   },
   {
    "duration": 11,
    "start_time": "2022-01-16T01:20:13.827Z"
   },
   {
    "duration": 97,
    "start_time": "2022-01-16T01:20:13.840Z"
   },
   {
    "duration": 88,
    "start_time": "2022-01-16T01:20:13.939Z"
   },
   {
    "duration": 6,
    "start_time": "2022-01-16T01:20:14.030Z"
   },
   {
    "duration": 90,
    "start_time": "2022-01-16T01:20:14.038Z"
   },
   {
    "duration": 5,
    "start_time": "2022-01-16T01:20:14.130Z"
   },
   {
    "duration": 6,
    "start_time": "2022-01-16T01:20:14.137Z"
   },
   {
    "duration": 83,
    "start_time": "2022-01-16T01:20:14.145Z"
   },
   {
    "duration": 1142,
    "start_time": "2022-01-16T01:20:14.230Z"
   },
   {
    "duration": -125,
    "start_time": "2022-01-16T01:20:15.499Z"
   },
   {
    "duration": -129,
    "start_time": "2022-01-16T01:20:15.504Z"
   },
   {
    "duration": -133,
    "start_time": "2022-01-16T01:20:15.509Z"
   },
   {
    "duration": -137,
    "start_time": "2022-01-16T01:20:15.514Z"
   },
   {
    "duration": -249,
    "start_time": "2022-01-16T01:20:15.627Z"
   },
   {
    "duration": -253,
    "start_time": "2022-01-16T01:20:15.632Z"
   },
   {
    "duration": -256,
    "start_time": "2022-01-16T01:20:15.636Z"
   },
   {
    "duration": -292,
    "start_time": "2022-01-16T01:20:15.673Z"
   },
   {
    "duration": -299,
    "start_time": "2022-01-16T01:20:15.681Z"
   },
   {
    "duration": -304,
    "start_time": "2022-01-16T01:20:15.687Z"
   },
   {
    "duration": -309,
    "start_time": "2022-01-16T01:20:15.693Z"
   },
   {
    "duration": -314,
    "start_time": "2022-01-16T01:20:15.699Z"
   },
   {
    "duration": -318,
    "start_time": "2022-01-16T01:20:15.704Z"
   },
   {
    "duration": -322,
    "start_time": "2022-01-16T01:20:15.709Z"
   },
   {
    "duration": -328,
    "start_time": "2022-01-16T01:20:15.715Z"
   },
   {
    "duration": -332,
    "start_time": "2022-01-16T01:20:15.720Z"
   },
   {
    "duration": -336,
    "start_time": "2022-01-16T01:20:15.725Z"
   },
   {
    "duration": -340,
    "start_time": "2022-01-16T01:20:15.730Z"
   },
   {
    "duration": -345,
    "start_time": "2022-01-16T01:20:15.736Z"
   },
   {
    "duration": -348,
    "start_time": "2022-01-16T01:20:15.740Z"
   },
   {
    "duration": -353,
    "start_time": "2022-01-16T01:20:15.746Z"
   },
   {
    "duration": -357,
    "start_time": "2022-01-16T01:20:15.751Z"
   },
   {
    "duration": 3,
    "start_time": "2022-01-16T01:21:26.476Z"
   },
   {
    "duration": 4,
    "start_time": "2022-01-16T01:21:27.609Z"
   },
   {
    "duration": 4,
    "start_time": "2022-01-16T01:22:07.584Z"
   },
   {
    "duration": 4,
    "start_time": "2022-01-16T01:22:13.211Z"
   },
   {
    "duration": 4,
    "start_time": "2022-01-16T01:26:14.203Z"
   },
   {
    "duration": 2450,
    "start_time": "2022-01-16T01:28:03.550Z"
   },
   {
    "duration": 1163,
    "start_time": "2022-01-16T01:28:06.002Z"
   },
   {
    "duration": 19,
    "start_time": "2022-01-16T01:28:07.167Z"
   },
   {
    "duration": 3,
    "start_time": "2022-01-16T01:28:07.188Z"
   },
   {
    "duration": 12,
    "start_time": "2022-01-16T01:28:07.193Z"
   },
   {
    "duration": 5,
    "start_time": "2022-01-16T01:28:07.207Z"
   },
   {
    "duration": 4,
    "start_time": "2022-01-16T01:28:07.213Z"
   },
   {
    "duration": 5,
    "start_time": "2022-01-16T01:28:07.226Z"
   },
   {
    "duration": 19,
    "start_time": "2022-01-16T01:28:07.233Z"
   },
   {
    "duration": 18,
    "start_time": "2022-01-16T01:28:07.254Z"
   },
   {
    "duration": 4,
    "start_time": "2022-01-16T01:28:07.273Z"
   },
   {
    "duration": 4442,
    "start_time": "2022-01-16T01:28:07.279Z"
   },
   {
    "duration": 3,
    "start_time": "2022-01-16T01:28:11.726Z"
   },
   {
    "duration": 9,
    "start_time": "2022-01-16T01:28:11.730Z"
   },
   {
    "duration": 9,
    "start_time": "2022-01-16T01:28:11.740Z"
   },
   {
    "duration": 9,
    "start_time": "2022-01-16T01:28:11.751Z"
   },
   {
    "duration": 8,
    "start_time": "2022-01-16T01:28:11.761Z"
   },
   {
    "duration": 4,
    "start_time": "2022-01-16T01:28:11.770Z"
   },
   {
    "duration": 16,
    "start_time": "2022-01-16T01:28:11.776Z"
   },
   {
    "duration": 43,
    "start_time": "2022-01-16T01:28:11.793Z"
   },
   {
    "duration": 14,
    "start_time": "2022-01-16T01:28:11.837Z"
   },
   {
    "duration": 15,
    "start_time": "2022-01-16T01:28:11.852Z"
   },
   {
    "duration": 18,
    "start_time": "2022-01-16T01:28:11.868Z"
   },
   {
    "duration": 5,
    "start_time": "2022-01-16T01:28:11.887Z"
   },
   {
    "duration": 36,
    "start_time": "2022-01-16T01:28:11.893Z"
   },
   {
    "duration": 4,
    "start_time": "2022-01-16T01:28:11.931Z"
   },
   {
    "duration": 12,
    "start_time": "2022-01-16T01:28:11.938Z"
   },
   {
    "duration": 40,
    "start_time": "2022-01-16T01:28:11.952Z"
   },
   {
    "duration": 342,
    "start_time": "2022-01-16T01:28:11.994Z"
   },
   {
    "duration": 3,
    "start_time": "2022-01-16T01:28:12.337Z"
   },
   {
    "duration": 1294,
    "start_time": "2022-01-16T01:28:12.341Z"
   },
   {
    "duration": 390,
    "start_time": "2022-01-16T01:28:13.637Z"
   },
   {
    "duration": 430,
    "start_time": "2022-01-16T01:28:14.029Z"
   },
   {
    "duration": 4,
    "start_time": "2022-01-16T01:28:14.460Z"
   },
   {
    "duration": 5,
    "start_time": "2022-01-16T01:28:14.465Z"
   },
   {
    "duration": 9,
    "start_time": "2022-01-16T01:28:14.471Z"
   },
   {
    "duration": 55,
    "start_time": "2022-01-16T01:28:14.482Z"
   },
   {
    "duration": 101,
    "start_time": "2022-01-16T01:28:14.539Z"
   },
   {
    "duration": 15,
    "start_time": "2022-01-16T01:28:14.727Z"
   },
   {
    "duration": 5,
    "start_time": "2022-01-16T01:28:14.827Z"
   },
   {
    "duration": 7,
    "start_time": "2022-01-16T01:28:14.834Z"
   },
   {
    "duration": 3,
    "start_time": "2022-01-16T01:28:14.927Z"
   },
   {
    "duration": 5,
    "start_time": "2022-01-16T01:28:14.931Z"
   },
   {
    "duration": 7,
    "start_time": "2022-01-16T01:28:14.937Z"
   },
   {
    "duration": 6,
    "start_time": "2022-01-16T01:28:14.946Z"
   },
   {
    "duration": 75,
    "start_time": "2022-01-16T01:28:14.954Z"
   },
   {
    "duration": 4,
    "start_time": "2022-01-16T01:28:15.031Z"
   },
   {
    "duration": 90,
    "start_time": "2022-01-16T01:28:15.037Z"
   },
   {
    "duration": 4,
    "start_time": "2022-01-16T01:28:15.129Z"
   },
   {
    "duration": 4,
    "start_time": "2022-01-16T01:28:15.135Z"
   },
   {
    "duration": 11,
    "start_time": "2022-01-16T01:28:15.141Z"
   },
   {
    "duration": 4,
    "start_time": "2022-01-16T01:28:15.153Z"
   },
   {
    "duration": 4,
    "start_time": "2022-01-16T01:28:15.159Z"
   },
   {
    "duration": 4,
    "start_time": "2022-01-16T01:28:15.165Z"
   },
   {
    "duration": 4,
    "start_time": "2022-01-16T01:28:15.170Z"
   },
   {
    "duration": 457,
    "start_time": "2022-01-16T01:28:15.176Z"
   },
   {
    "duration": -159,
    "start_time": "2022-01-16T01:28:15.794Z"
   },
   {
    "duration": -163,
    "start_time": "2022-01-16T01:28:15.799Z"
   },
   {
    "duration": -166,
    "start_time": "2022-01-16T01:28:15.803Z"
   },
   {
    "duration": -169,
    "start_time": "2022-01-16T01:28:15.808Z"
   },
   {
    "duration": -172,
    "start_time": "2022-01-16T01:28:15.812Z"
   },
   {
    "duration": -177,
    "start_time": "2022-01-16T01:28:15.818Z"
   },
   {
    "duration": -180,
    "start_time": "2022-01-16T01:28:15.823Z"
   },
   {
    "duration": -185,
    "start_time": "2022-01-16T01:28:15.829Z"
   },
   {
    "duration": 4,
    "start_time": "2022-01-16T01:33:19.220Z"
   },
   {
    "duration": 4,
    "start_time": "2022-01-16T01:33:20.098Z"
   },
   {
    "duration": 4,
    "start_time": "2022-01-16T01:33:20.970Z"
   },
   {
    "duration": 5,
    "start_time": "2022-01-16T01:36:36.049Z"
   },
   {
    "duration": 5,
    "start_time": "2022-01-16T01:37:02.334Z"
   },
   {
    "duration": 4,
    "start_time": "2022-01-16T01:37:52.774Z"
   },
   {
    "duration": 6,
    "start_time": "2022-01-16T01:41:23.091Z"
   },
   {
    "duration": 4,
    "start_time": "2022-01-16T01:41:43.569Z"
   },
   {
    "duration": 106,
    "start_time": "2022-01-16T01:42:45.596Z"
   },
   {
    "duration": 4,
    "start_time": "2022-01-16T01:45:45.010Z"
   },
   {
    "duration": 4,
    "start_time": "2022-01-16T01:46:08.758Z"
   },
   {
    "duration": 4,
    "start_time": "2022-01-16T01:46:28.862Z"
   },
   {
    "duration": 4,
    "start_time": "2022-01-16T01:46:38.018Z"
   },
   {
    "duration": 4,
    "start_time": "2022-01-16T01:47:06.777Z"
   },
   {
    "duration": 6,
    "start_time": "2022-01-16T01:49:52.121Z"
   },
   {
    "duration": 8,
    "start_time": "2022-01-16T01:50:38.997Z"
   },
   {
    "duration": 6,
    "start_time": "2022-01-16T01:51:19.722Z"
   },
   {
    "duration": 10,
    "start_time": "2022-01-16T01:53:56.415Z"
   },
   {
    "duration": 7,
    "start_time": "2022-01-16T01:54:45.833Z"
   },
   {
    "duration": 6,
    "start_time": "2022-01-16T01:55:05.065Z"
   },
   {
    "duration": 4,
    "start_time": "2022-01-16T01:58:33.193Z"
   },
   {
    "duration": 7,
    "start_time": "2022-01-16T02:00:13.878Z"
   },
   {
    "duration": 7,
    "start_time": "2022-01-16T02:00:26.184Z"
   },
   {
    "duration": 320,
    "start_time": "2022-01-16T02:01:15.923Z"
   },
   {
    "duration": 323,
    "start_time": "2022-01-16T02:01:29.162Z"
   },
   {
    "duration": 4,
    "start_time": "2022-01-16T02:01:35.114Z"
   },
   {
    "duration": 7,
    "start_time": "2022-01-16T02:01:37.360Z"
   },
   {
    "duration": 371,
    "start_time": "2022-01-16T02:02:13.342Z"
   },
   {
    "duration": 8,
    "start_time": "2022-01-16T02:02:23.463Z"
   },
   {
    "duration": 116,
    "start_time": "2022-01-16T02:13:43.353Z"
   },
   {
    "duration": 2455,
    "start_time": "2022-01-16T03:29:54.598Z"
   },
   {
    "duration": 1177,
    "start_time": "2022-01-16T03:29:57.055Z"
   },
   {
    "duration": 18,
    "start_time": "2022-01-16T03:29:58.234Z"
   },
   {
    "duration": 3,
    "start_time": "2022-01-16T03:29:58.254Z"
   },
   {
    "duration": 12,
    "start_time": "2022-01-16T03:29:58.259Z"
   },
   {
    "duration": 5,
    "start_time": "2022-01-16T03:29:58.273Z"
   },
   {
    "duration": 7,
    "start_time": "2022-01-16T03:29:58.279Z"
   },
   {
    "duration": 8,
    "start_time": "2022-01-16T03:29:58.288Z"
   },
   {
    "duration": 23,
    "start_time": "2022-01-16T03:29:58.298Z"
   },
   {
    "duration": 19,
    "start_time": "2022-01-16T03:29:58.323Z"
   },
   {
    "duration": 4,
    "start_time": "2022-01-16T03:29:58.344Z"
   },
   {
    "duration": 4729,
    "start_time": "2022-01-16T03:29:58.349Z"
   },
   {
    "duration": 3,
    "start_time": "2022-01-16T03:30:03.079Z"
   },
   {
    "duration": 5,
    "start_time": "2022-01-16T03:30:03.083Z"
   },
   {
    "duration": 10,
    "start_time": "2022-01-16T03:30:03.090Z"
   },
   {
    "duration": 32,
    "start_time": "2022-01-16T03:30:03.101Z"
   },
   {
    "duration": 9,
    "start_time": "2022-01-16T03:30:03.134Z"
   },
   {
    "duration": 5,
    "start_time": "2022-01-16T03:30:03.144Z"
   },
   {
    "duration": 20,
    "start_time": "2022-01-16T03:30:03.150Z"
   },
   {
    "duration": 16,
    "start_time": "2022-01-16T03:30:03.171Z"
   },
   {
    "duration": 40,
    "start_time": "2022-01-16T03:30:03.188Z"
   },
   {
    "duration": 16,
    "start_time": "2022-01-16T03:30:03.230Z"
   },
   {
    "duration": 19,
    "start_time": "2022-01-16T03:30:03.249Z"
   },
   {
    "duration": 6,
    "start_time": "2022-01-16T03:30:03.270Z"
   },
   {
    "duration": 7,
    "start_time": "2022-01-16T03:30:03.278Z"
   },
   {
    "duration": 4,
    "start_time": "2022-01-16T03:30:03.287Z"
   },
   {
    "duration": 41,
    "start_time": "2022-01-16T03:30:03.292Z"
   },
   {
    "duration": 340,
    "start_time": "2022-01-16T03:30:03.335Z"
   },
   {
    "duration": 3,
    "start_time": "2022-01-16T03:30:03.676Z"
   },
   {
    "duration": 1368,
    "start_time": "2022-01-16T03:30:03.680Z"
   },
   {
    "duration": 399,
    "start_time": "2022-01-16T03:30:05.050Z"
   },
   {
    "duration": 447,
    "start_time": "2022-01-16T03:30:05.451Z"
   },
   {
    "duration": 4,
    "start_time": "2022-01-16T03:30:05.900Z"
   },
   {
    "duration": 5,
    "start_time": "2022-01-16T03:30:05.905Z"
   },
   {
    "duration": 22,
    "start_time": "2022-01-16T03:30:05.911Z"
   },
   {
    "duration": 101,
    "start_time": "2022-01-16T03:30:05.935Z"
   },
   {
    "duration": 101,
    "start_time": "2022-01-16T03:30:06.038Z"
   },
   {
    "duration": 101,
    "start_time": "2022-01-16T03:30:06.141Z"
   },
   {
    "duration": 5,
    "start_time": "2022-01-16T03:30:06.328Z"
   },
   {
    "duration": 7,
    "start_time": "2022-01-16T03:30:06.335Z"
   },
   {
    "duration": 2,
    "start_time": "2022-01-16T03:30:06.428Z"
   },
   {
    "duration": 5,
    "start_time": "2022-01-16T03:30:06.432Z"
   },
   {
    "duration": 6,
    "start_time": "2022-01-16T03:30:06.439Z"
   },
   {
    "duration": 82,
    "start_time": "2022-01-16T03:30:06.446Z"
   },
   {
    "duration": 3,
    "start_time": "2022-01-16T03:30:06.530Z"
   },
   {
    "duration": 93,
    "start_time": "2022-01-16T03:30:06.535Z"
   },
   {
    "duration": 7,
    "start_time": "2022-01-16T03:30:06.630Z"
   },
   {
    "duration": 7,
    "start_time": "2022-01-16T03:30:06.638Z"
   },
   {
    "duration": 7,
    "start_time": "2022-01-16T03:30:06.647Z"
   },
   {
    "duration": 72,
    "start_time": "2022-01-16T03:30:06.656Z"
   },
   {
    "duration": 8,
    "start_time": "2022-01-16T03:30:06.730Z"
   },
   {
    "duration": 6,
    "start_time": "2022-01-16T03:30:06.740Z"
   },
   {
    "duration": 85,
    "start_time": "2022-01-16T03:30:06.748Z"
   },
   {
    "duration": 96,
    "start_time": "2022-01-16T03:30:06.835Z"
   },
   {
    "duration": 8,
    "start_time": "2022-01-16T03:33:28.306Z"
   },
   {
    "duration": 327,
    "start_time": "2022-01-16T03:33:30.221Z"
   },
   {
    "duration": 8,
    "start_time": "2022-01-16T03:33:38.944Z"
   },
   {
    "duration": 333,
    "start_time": "2022-01-16T03:33:40.596Z"
   },
   {
    "duration": 8,
    "start_time": "2022-01-16T03:33:55.441Z"
   },
   {
    "duration": 335,
    "start_time": "2022-01-16T03:33:56.196Z"
   },
   {
    "duration": 2597,
    "start_time": "2022-01-16T03:34:29.337Z"
   },
   {
    "duration": 1132,
    "start_time": "2022-01-16T03:34:31.936Z"
   },
   {
    "duration": 18,
    "start_time": "2022-01-16T03:34:33.070Z"
   },
   {
    "duration": 4,
    "start_time": "2022-01-16T03:34:33.090Z"
   },
   {
    "duration": 15,
    "start_time": "2022-01-16T03:34:33.095Z"
   },
   {
    "duration": 5,
    "start_time": "2022-01-16T03:34:33.112Z"
   },
   {
    "duration": 6,
    "start_time": "2022-01-16T03:34:33.119Z"
   },
   {
    "duration": 7,
    "start_time": "2022-01-16T03:34:33.127Z"
   },
   {
    "duration": 20,
    "start_time": "2022-01-16T03:34:33.136Z"
   },
   {
    "duration": 21,
    "start_time": "2022-01-16T03:34:33.157Z"
   },
   {
    "duration": 5,
    "start_time": "2022-01-16T03:34:33.179Z"
   },
   {
    "duration": 4488,
    "start_time": "2022-01-16T03:34:33.185Z"
   },
   {
    "duration": 3,
    "start_time": "2022-01-16T03:34:37.676Z"
   },
   {
    "duration": 7,
    "start_time": "2022-01-16T03:34:37.680Z"
   },
   {
    "duration": 11,
    "start_time": "2022-01-16T03:34:37.689Z"
   },
   {
    "duration": 28,
    "start_time": "2022-01-16T03:34:37.702Z"
   },
   {
    "duration": 8,
    "start_time": "2022-01-16T03:34:37.732Z"
   },
   {
    "duration": 4,
    "start_time": "2022-01-16T03:34:37.742Z"
   },
   {
    "duration": 17,
    "start_time": "2022-01-16T03:34:37.748Z"
   },
   {
    "duration": 15,
    "start_time": "2022-01-16T03:34:37.766Z"
   },
   {
    "duration": 15,
    "start_time": "2022-01-16T03:34:37.782Z"
   },
   {
    "duration": 40,
    "start_time": "2022-01-16T03:34:37.798Z"
   },
   {
    "duration": 18,
    "start_time": "2022-01-16T03:34:37.842Z"
   },
   {
    "duration": 6,
    "start_time": "2022-01-16T03:34:37.862Z"
   },
   {
    "duration": 9,
    "start_time": "2022-01-16T03:34:37.869Z"
   },
   {
    "duration": 4,
    "start_time": "2022-01-16T03:34:37.879Z"
   },
   {
    "duration": 44,
    "start_time": "2022-01-16T03:34:37.885Z"
   },
   {
    "duration": 354,
    "start_time": "2022-01-16T03:34:37.930Z"
   },
   {
    "duration": 2,
    "start_time": "2022-01-16T03:34:38.286Z"
   },
   {
    "duration": 1344,
    "start_time": "2022-01-16T03:34:38.290Z"
   },
   {
    "duration": 407,
    "start_time": "2022-01-16T03:34:39.635Z"
   },
   {
    "duration": 437,
    "start_time": "2022-01-16T03:34:40.044Z"
   },
   {
    "duration": 5,
    "start_time": "2022-01-16T03:34:40.483Z"
   },
   {
    "duration": 4,
    "start_time": "2022-01-16T03:34:40.490Z"
   },
   {
    "duration": 32,
    "start_time": "2022-01-16T03:34:40.495Z"
   },
   {
    "duration": 12,
    "start_time": "2022-01-16T03:34:40.529Z"
   },
   {
    "duration": 13,
    "start_time": "2022-01-16T03:34:40.627Z"
   },
   {
    "duration": 99,
    "start_time": "2022-01-16T03:34:40.642Z"
   },
   {
    "duration": 5,
    "start_time": "2022-01-16T03:34:40.829Z"
   },
   {
    "duration": 92,
    "start_time": "2022-01-16T03:34:40.836Z"
   },
   {
    "duration": 3,
    "start_time": "2022-01-16T03:34:40.929Z"
   },
   {
    "duration": 5,
    "start_time": "2022-01-16T03:34:40.933Z"
   },
   {
    "duration": 6,
    "start_time": "2022-01-16T03:34:40.939Z"
   },
   {
    "duration": 10,
    "start_time": "2022-01-16T03:34:40.947Z"
   },
   {
    "duration": 71,
    "start_time": "2022-01-16T03:34:40.959Z"
   },
   {
    "duration": 7,
    "start_time": "2022-01-16T03:34:41.032Z"
   },
   {
    "duration": 86,
    "start_time": "2022-01-16T03:34:41.041Z"
   },
   {
    "duration": 4,
    "start_time": "2022-01-16T03:34:41.129Z"
   },
   {
    "duration": 6,
    "start_time": "2022-01-16T03:34:41.135Z"
   },
   {
    "duration": 6,
    "start_time": "2022-01-16T03:34:41.143Z"
   },
   {
    "duration": 82,
    "start_time": "2022-01-16T03:34:41.151Z"
   },
   {
    "duration": 4,
    "start_time": "2022-01-16T03:34:41.235Z"
   },
   {
    "duration": 90,
    "start_time": "2022-01-16T03:34:41.241Z"
   },
   {
    "duration": 98,
    "start_time": "2022-01-16T03:34:41.332Z"
   },
   {
    "duration": 83,
    "start_time": "2022-01-17T18:51:33.818Z"
   },
   {
    "duration": 7343,
    "start_time": "2022-01-17T18:51:50.417Z"
   },
   {
    "duration": 1177,
    "start_time": "2022-01-17T18:51:57.762Z"
   },
   {
    "duration": 20,
    "start_time": "2022-01-17T18:51:58.941Z"
   },
   {
    "duration": 4,
    "start_time": "2022-01-17T18:51:58.963Z"
   },
   {
    "duration": 14,
    "start_time": "2022-01-17T18:51:58.969Z"
   },
   {
    "duration": 6,
    "start_time": "2022-01-17T18:51:58.985Z"
   },
   {
    "duration": 5,
    "start_time": "2022-01-17T18:51:58.993Z"
   },
   {
    "duration": 6,
    "start_time": "2022-01-17T18:51:59.001Z"
   },
   {
    "duration": 53,
    "start_time": "2022-01-17T18:51:59.009Z"
   },
   {
    "duration": 23,
    "start_time": "2022-01-17T18:51:59.063Z"
   },
   {
    "duration": 5,
    "start_time": "2022-01-17T18:51:59.088Z"
   },
   {
    "duration": 5125,
    "start_time": "2022-01-17T18:51:59.095Z"
   },
   {
    "duration": 3,
    "start_time": "2022-01-17T18:52:04.222Z"
   },
   {
    "duration": 6,
    "start_time": "2022-01-17T18:52:04.226Z"
   },
   {
    "duration": 28,
    "start_time": "2022-01-17T18:52:04.233Z"
   },
   {
    "duration": 11,
    "start_time": "2022-01-17T18:52:04.262Z"
   },
   {
    "duration": 10,
    "start_time": "2022-01-17T18:52:04.274Z"
   },
   {
    "duration": 5,
    "start_time": "2022-01-17T18:52:04.285Z"
   },
   {
    "duration": 19,
    "start_time": "2022-01-17T18:52:04.292Z"
   },
   {
    "duration": 18,
    "start_time": "2022-01-17T18:52:04.312Z"
   },
   {
    "duration": 18,
    "start_time": "2022-01-17T18:52:04.361Z"
   },
   {
    "duration": 18,
    "start_time": "2022-01-17T18:52:04.381Z"
   },
   {
    "duration": 19,
    "start_time": "2022-01-17T18:52:04.403Z"
   },
   {
    "duration": 5,
    "start_time": "2022-01-17T18:52:04.425Z"
   },
   {
    "duration": 35,
    "start_time": "2022-01-17T18:52:04.432Z"
   },
   {
    "duration": 7,
    "start_time": "2022-01-17T18:52:04.468Z"
   },
   {
    "duration": 13,
    "start_time": "2022-01-17T18:52:04.477Z"
   },
   {
    "duration": 421,
    "start_time": "2022-01-17T18:52:04.491Z"
   },
   {
    "duration": 4,
    "start_time": "2022-01-17T18:52:04.914Z"
   },
   {
    "duration": 1495,
    "start_time": "2022-01-17T18:52:04.919Z"
   },
   {
    "duration": 505,
    "start_time": "2022-01-17T18:52:06.416Z"
   },
   {
    "duration": 586,
    "start_time": "2022-01-17T18:52:06.923Z"
   },
   {
    "duration": 5,
    "start_time": "2022-01-17T18:52:07.510Z"
   },
   {
    "duration": 5,
    "start_time": "2022-01-17T18:52:07.517Z"
   },
   {
    "duration": 38,
    "start_time": "2022-01-17T18:52:07.524Z"
   },
   {
    "duration": 14,
    "start_time": "2022-01-17T18:52:07.564Z"
   },
   {
    "duration": 104,
    "start_time": "2022-01-17T18:52:07.662Z"
   },
   {
    "duration": 99,
    "start_time": "2022-01-17T18:52:07.768Z"
   },
   {
    "duration": 5,
    "start_time": "2022-01-17T18:52:07.869Z"
   },
   {
    "duration": 86,
    "start_time": "2022-01-17T18:52:07.875Z"
   },
   {
    "duration": 4,
    "start_time": "2022-01-17T18:52:07.963Z"
   },
   {
    "duration": 93,
    "start_time": "2022-01-17T18:52:07.968Z"
   },
   {
    "duration": 5,
    "start_time": "2022-01-17T18:52:08.063Z"
   },
   {
    "duration": 91,
    "start_time": "2022-01-17T18:52:08.070Z"
   },
   {
    "duration": 4,
    "start_time": "2022-01-17T18:52:08.164Z"
   },
   {
    "duration": 5,
    "start_time": "2022-01-17T18:52:08.170Z"
   },
   {
    "duration": 86,
    "start_time": "2022-01-17T18:52:08.176Z"
   },
   {
    "duration": 4,
    "start_time": "2022-01-17T18:52:08.264Z"
   },
   {
    "duration": 6,
    "start_time": "2022-01-17T18:52:08.270Z"
   },
   {
    "duration": 9,
    "start_time": "2022-01-17T18:52:08.277Z"
   },
   {
    "duration": 79,
    "start_time": "2022-01-17T18:52:08.288Z"
   },
   {
    "duration": 93,
    "start_time": "2022-01-17T18:52:08.369Z"
   },
   {
    "duration": -129,
    "start_time": "2022-01-17T18:52:08.593Z"
   },
   {
    "duration": -135,
    "start_time": "2022-01-17T18:52:08.600Z"
   },
   {
    "duration": -139,
    "start_time": "2022-01-17T18:52:08.606Z"
   },
   {
    "duration": 196,
    "start_time": "2022-01-17T18:53:18.825Z"
   },
   {
    "duration": 2677,
    "start_time": "2022-01-17T19:29:29.207Z"
   },
   {
    "duration": 1282,
    "start_time": "2022-01-17T19:29:31.887Z"
   },
   {
    "duration": 20,
    "start_time": "2022-01-17T19:29:33.171Z"
   },
   {
    "duration": 39,
    "start_time": "2022-01-17T19:29:33.193Z"
   },
   {
    "duration": 35,
    "start_time": "2022-01-17T19:29:33.234Z"
   },
   {
    "duration": 28,
    "start_time": "2022-01-17T19:29:33.271Z"
   },
   {
    "duration": 13,
    "start_time": "2022-01-17T19:29:33.301Z"
   },
   {
    "duration": 46,
    "start_time": "2022-01-17T19:29:33.317Z"
   },
   {
    "duration": 23,
    "start_time": "2022-01-17T19:29:33.365Z"
   },
   {
    "duration": 24,
    "start_time": "2022-01-17T19:29:33.390Z"
   },
   {
    "duration": 45,
    "start_time": "2022-01-17T19:29:33.416Z"
   },
   {
    "duration": 5161,
    "start_time": "2022-01-17T19:29:33.463Z"
   },
   {
    "duration": 3,
    "start_time": "2022-01-17T19:29:38.625Z"
   },
   {
    "duration": 6,
    "start_time": "2022-01-17T19:29:38.629Z"
   },
   {
    "duration": 25,
    "start_time": "2022-01-17T19:29:38.636Z"
   },
   {
    "duration": 15,
    "start_time": "2022-01-17T19:29:38.662Z"
   },
   {
    "duration": 20,
    "start_time": "2022-01-17T19:29:38.679Z"
   },
   {
    "duration": 22,
    "start_time": "2022-01-17T19:29:38.701Z"
   },
   {
    "duration": 36,
    "start_time": "2022-01-17T19:29:38.725Z"
   },
   {
    "duration": 23,
    "start_time": "2022-01-17T19:29:38.763Z"
   },
   {
    "duration": 34,
    "start_time": "2022-01-17T19:29:38.788Z"
   },
   {
    "duration": 21,
    "start_time": "2022-01-17T19:29:38.824Z"
   },
   {
    "duration": 21,
    "start_time": "2022-01-17T19:29:38.849Z"
   },
   {
    "duration": 6,
    "start_time": "2022-01-17T19:29:38.872Z"
   },
   {
    "duration": 14,
    "start_time": "2022-01-17T19:29:38.879Z"
   },
   {
    "duration": 35,
    "start_time": "2022-01-17T19:29:38.894Z"
   },
   {
    "duration": 50,
    "start_time": "2022-01-17T19:29:38.930Z"
   },
   {
    "duration": 379,
    "start_time": "2022-01-17T19:29:38.981Z"
   },
   {
    "duration": 3,
    "start_time": "2022-01-17T19:29:39.362Z"
   },
   {
    "duration": 1443,
    "start_time": "2022-01-17T19:29:39.366Z"
   },
   {
    "duration": 464,
    "start_time": "2022-01-17T19:29:40.810Z"
   },
   {
    "duration": 485,
    "start_time": "2022-01-17T19:29:41.276Z"
   },
   {
    "duration": 6,
    "start_time": "2022-01-17T19:29:41.762Z"
   },
   {
    "duration": 6,
    "start_time": "2022-01-17T19:29:41.770Z"
   },
   {
    "duration": 13,
    "start_time": "2022-01-17T19:29:41.778Z"
   },
   {
    "duration": 74,
    "start_time": "2022-01-17T19:29:41.793Z"
   },
   {
    "duration": 104,
    "start_time": "2022-01-17T19:29:41.869Z"
   },
   {
    "duration": 101,
    "start_time": "2022-01-17T19:29:42.061Z"
   },
   {
    "duration": 8,
    "start_time": "2022-01-17T19:29:42.164Z"
   },
   {
    "duration": 93,
    "start_time": "2022-01-17T19:29:42.174Z"
   },
   {
    "duration": 4,
    "start_time": "2022-01-17T19:29:42.269Z"
   },
   {
    "duration": 5,
    "start_time": "2022-01-17T19:29:42.275Z"
   },
   {
    "duration": 10,
    "start_time": "2022-01-17T19:29:42.281Z"
   },
   {
    "duration": 7,
    "start_time": "2022-01-17T19:29:42.293Z"
   },
   {
    "duration": 64,
    "start_time": "2022-01-17T19:29:42.301Z"
   },
   {
    "duration": 5,
    "start_time": "2022-01-17T19:29:42.367Z"
   },
   {
    "duration": 88,
    "start_time": "2022-01-17T19:29:42.374Z"
   },
   {
    "duration": 4,
    "start_time": "2022-01-17T19:29:42.463Z"
   },
   {
    "duration": 9,
    "start_time": "2022-01-17T19:29:42.469Z"
   },
   {
    "duration": 7,
    "start_time": "2022-01-17T19:29:42.480Z"
   },
   {
    "duration": 77,
    "start_time": "2022-01-17T19:29:42.488Z"
   },
   {
    "duration": 6,
    "start_time": "2022-01-17T19:29:42.567Z"
   },
   {
    "duration": 89,
    "start_time": "2022-01-17T19:29:42.575Z"
   },
   {
    "duration": 10,
    "start_time": "2022-01-17T19:29:42.666Z"
   }
  ],
  "kernelspec": {
   "display_name": "Python 3",
   "language": "python",
   "name": "python3"
  },
  "language_info": {
   "codemirror_mode": {
    "name": "ipython",
    "version": 3
   },
   "file_extension": ".py",
   "mimetype": "text/x-python",
   "name": "python",
   "nbconvert_exporter": "python",
   "pygments_lexer": "ipython3",
   "version": "3.7.6"
  },
  "toc": {
   "base_numbering": 1,
   "nav_menu": {},
   "number_sections": true,
   "sideBar": true,
   "skip_h1_title": true,
   "title_cell": "Table of Contents",
   "title_sidebar": "Contents",
   "toc_cell": false,
   "toc_position": {},
   "toc_section_display": true,
   "toc_window_display": false
  }
 },
 "nbformat": 4,
 "nbformat_minor": 4
}

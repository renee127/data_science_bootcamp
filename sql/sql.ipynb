{
 "cells": [
  {
   "cell_type": "markdown",
   "metadata": {},
   "source": [
    "Scenario:\n",
    "We are working as an analyst for Zuber, a new ride-sharing company that's launching in Chicago. We are looking for patterns in the available information from competing ride-sharing companies. We will:\n",
    "- identify the top 10 neighborhoods in terms of drop-offs\n",
    "- examine the relationship between top 10 neighborhoods by number of dropoffs with graphs\n",
    "- examine the relationship between taxi companies and number of rides with graphs\n",
    "- test the hypothesis \"The average duration of rides from the Loop to O'Hare International Airport changes on rainy Saturdays.\""
   ]
  },
  {
   "cell_type": "code",
   "execution_count": 1,
   "metadata": {},
   "outputs": [],
   "source": [
    "# import libraries\n",
    "import pandas as pd\n",
    "import numpy as np \n",
    "import matplotlib.pyplot as plt\n",
    "import seaborn as sns\n",
    "from scipy import stats as st"
   ]
  },
  {
   "cell_type": "code",
   "execution_count": 2,
   "metadata": {},
   "outputs": [],
   "source": [
    "# global settings for graphs\n",
    "sns.set_style('darkgrid') # darkgrid, white grid, dark, white and ticksplt.rc('axes', titlesize=18)     # fontsize of the axes title\n",
    "plt.rc('axes', labelsize=14)    # fontsize of the x and y labels\n",
    "plt.rc('xtick', labelsize=13)    # fontsize of the tick labels\n",
    "plt.rc('ytick', labelsize=13)    # fontsize of the tick labels\n",
    "plt.rc('legend', fontsize=13)    # legend fontsize\n",
    "plt.rc('font', size=13)          # controls default text sizes"
   ]
  },
  {
   "cell_type": "code",
   "execution_count": 3,
   "metadata": {},
   "outputs": [],
   "source": [
    "# import sys and insert code to ignore warnings \n",
    "import sys\n",
    "if not sys.warnoptions:\n",
    "    import warnings\n",
    "    warnings.simplefilter(\"ignore\")"
   ]
  },
  {
   "cell_type": "code",
   "execution_count": 4,
   "metadata": {},
   "outputs": [],
   "source": [
    "# import the files\n",
    "try:\n",
    "    name_df = pd.read_csv('/datasets/project_sql_result_01.csv')\n",
    "    dropoff_df = pd.read_csv('/datasets/project_sql_result_04.csv')\n",
    "    start_df = pd.read_csv('/datasets/project_sql_result_07.csv')\n",
    "except:\n",
    "    print('ERROR: Unable to find or access file.')"
   ]
  },
  {
   "cell_type": "code",
   "execution_count": 5,
   "metadata": {},
   "outputs": [
    {
     "name": "stdout",
     "output_type": "stream",
     "text": [
      "\n",
      "Rows of name_df table\n"
     ]
    },
    {
     "data": {
      "text/html": [
       "<div>\n",
       "<style scoped>\n",
       "    .dataframe tbody tr th:only-of-type {\n",
       "        vertical-align: middle;\n",
       "    }\n",
       "\n",
       "    .dataframe tbody tr th {\n",
       "        vertical-align: top;\n",
       "    }\n",
       "\n",
       "    .dataframe thead th {\n",
       "        text-align: right;\n",
       "    }\n",
       "</style>\n",
       "<table border=\"1\" class=\"dataframe\">\n",
       "  <thead>\n",
       "    <tr style=\"text-align: right;\">\n",
       "      <th></th>\n",
       "      <th>company_name</th>\n",
       "      <th>trips_amount</th>\n",
       "    </tr>\n",
       "  </thead>\n",
       "  <tbody>\n",
       "    <tr>\n",
       "      <td>0</td>\n",
       "      <td>Flash Cab</td>\n",
       "      <td>19558</td>\n",
       "    </tr>\n",
       "    <tr>\n",
       "      <td>1</td>\n",
       "      <td>Taxi Affiliation Services</td>\n",
       "      <td>11422</td>\n",
       "    </tr>\n",
       "    <tr>\n",
       "      <td>2</td>\n",
       "      <td>Medallion Leasing</td>\n",
       "      <td>10367</td>\n",
       "    </tr>\n",
       "    <tr>\n",
       "      <td>3</td>\n",
       "      <td>Yellow Cab</td>\n",
       "      <td>9888</td>\n",
       "    </tr>\n",
       "    <tr>\n",
       "      <td>4</td>\n",
       "      <td>Taxi Affiliation Service Yellow</td>\n",
       "      <td>9299</td>\n",
       "    </tr>\n",
       "  </tbody>\n",
       "</table>\n",
       "</div>"
      ],
      "text/plain": [
       "                      company_name  trips_amount\n",
       "0                        Flash Cab         19558\n",
       "1        Taxi Affiliation Services         11422\n",
       "2                Medallion Leasing         10367\n",
       "3                       Yellow Cab          9888\n",
       "4  Taxi Affiliation Service Yellow          9299"
      ]
     },
     "execution_count": 5,
     "metadata": {},
     "output_type": "execute_result"
    }
   ],
   "source": [
    "# print the first 5 rows\n",
    "print('\\nRows of name_df table')\n",
    "name_df.head()"
   ]
  },
  {
   "cell_type": "code",
   "execution_count": 6,
   "metadata": {},
   "outputs": [
    {
     "name": "stdout",
     "output_type": "stream",
     "text": [
      "\n",
      "General info of name_df table\n",
      "\n",
      "<class 'pandas.core.frame.DataFrame'>\n",
      "RangeIndex: 64 entries, 0 to 63\n",
      "Data columns (total 2 columns):\n",
      "company_name    64 non-null object\n",
      "trips_amount    64 non-null int64\n",
      "dtypes: int64(1), object(1)\n",
      "memory usage: 1.1+ KB\n",
      "None\n",
      "\n",
      "Number of duplicate rows: 0\n",
      "\n",
      "Number rows and columns: (64, 2)\n",
      "\n",
      "Number of unique company names: 64\n"
     ]
    }
   ],
   "source": [
    "# df general info\n",
    "print('\\nGeneral info of name_df table\\n')\n",
    "print(name_df.info())\n",
    "# check df for duplicates \n",
    "print('\\nNumber of duplicate rows:', name_df.duplicated().sum())\n",
    "# check df for shape \n",
    "print('\\nNumber rows and columns:', name_df.shape)\n",
    "# check df col for unique values\n",
    "print('\\nNumber of unique company names:', name_df.company_name.nunique())"
   ]
  },
  {
   "cell_type": "markdown",
   "metadata": {},
   "source": [
    "We note:\n",
    "- name_df has 2 columns (company_name, trips_amount) in 64 rows\n",
    "- the datatypes for company_name (object) and trips_amount (int64) are appropriate\n",
    "- company_name is the unique name of the cab company\n",
    "- trips_amount is the number of rides for each taxi company on November 15-16, 2017"
   ]
  },
  {
   "cell_type": "code",
   "execution_count": 7,
   "metadata": {},
   "outputs": [
    {
     "name": "stdout",
     "output_type": "stream",
     "text": [
      "\n",
      "First 5 rows of dropoff_df table\n"
     ]
    },
    {
     "data": {
      "text/html": [
       "<div>\n",
       "<style scoped>\n",
       "    .dataframe tbody tr th:only-of-type {\n",
       "        vertical-align: middle;\n",
       "    }\n",
       "\n",
       "    .dataframe tbody tr th {\n",
       "        vertical-align: top;\n",
       "    }\n",
       "\n",
       "    .dataframe thead th {\n",
       "        text-align: right;\n",
       "    }\n",
       "</style>\n",
       "<table border=\"1\" class=\"dataframe\">\n",
       "  <thead>\n",
       "    <tr style=\"text-align: right;\">\n",
       "      <th></th>\n",
       "      <th>dropoff_location_name</th>\n",
       "      <th>average_trips</th>\n",
       "    </tr>\n",
       "  </thead>\n",
       "  <tbody>\n",
       "    <tr>\n",
       "      <td>0</td>\n",
       "      <td>Loop</td>\n",
       "      <td>10727.466667</td>\n",
       "    </tr>\n",
       "    <tr>\n",
       "      <td>1</td>\n",
       "      <td>River North</td>\n",
       "      <td>9523.666667</td>\n",
       "    </tr>\n",
       "    <tr>\n",
       "      <td>2</td>\n",
       "      <td>Streeterville</td>\n",
       "      <td>6664.666667</td>\n",
       "    </tr>\n",
       "    <tr>\n",
       "      <td>3</td>\n",
       "      <td>West Loop</td>\n",
       "      <td>5163.666667</td>\n",
       "    </tr>\n",
       "    <tr>\n",
       "      <td>4</td>\n",
       "      <td>O'Hare</td>\n",
       "      <td>2546.900000</td>\n",
       "    </tr>\n",
       "  </tbody>\n",
       "</table>\n",
       "</div>"
      ],
      "text/plain": [
       "  dropoff_location_name  average_trips\n",
       "0                  Loop   10727.466667\n",
       "1           River North    9523.666667\n",
       "2         Streeterville    6664.666667\n",
       "3             West Loop    5163.666667\n",
       "4                O'Hare    2546.900000"
      ]
     },
     "execution_count": 7,
     "metadata": {},
     "output_type": "execute_result"
    }
   ],
   "source": [
    "# print the first 5 rows of the dataframe\n",
    "print('\\nFirst 5 rows of dropoff_df table')\n",
    "dropoff_df.head()"
   ]
  },
  {
   "cell_type": "code",
   "execution_count": 8,
   "metadata": {},
   "outputs": [
    {
     "name": "stdout",
     "output_type": "stream",
     "text": [
      "\n",
      "General info of dropoff_df table\n",
      "\n",
      "<class 'pandas.core.frame.DataFrame'>\n",
      "RangeIndex: 94 entries, 0 to 93\n",
      "Data columns (total 2 columns):\n",
      "dropoff_location_name    94 non-null object\n",
      "average_trips            94 non-null float64\n",
      "dtypes: float64(1), object(1)\n",
      "memory usage: 1.6+ KB\n",
      "None\n",
      "\n",
      "Number of duplicate rows: 0\n",
      "\n",
      "Number rows and columns: (94, 2)\n",
      "\n",
      "Number of unique dropoff locations: 94\n"
     ]
    }
   ],
   "source": [
    "# df general info\n",
    "print('\\nGeneral info of dropoff_df table\\n')\n",
    "print(dropoff_df.info())\n",
    "# check df for duplicates \n",
    "print('\\nNumber of duplicate rows:', dropoff_df.duplicated().sum())\n",
    "# check df for shape \n",
    "print('\\nNumber rows and columns:', dropoff_df.shape)\n",
    "# check df col for unique values\n",
    "print('\\nNumber of unique dropoff locations:', \\\n",
    "      dropoff_df.dropoff_location_name.nunique())"
   ]
  },
  {
   "cell_type": "markdown",
   "metadata": {},
   "source": [
    "We note:\n",
    "- name_df has 2 columns (dropoff_location_name, average_trips) in 94 rows\n",
    "- the datatype for company_name (object) is appropriate\n",
    "- the datatype for average_trips (float64) should be changed to int\n",
    "- dropoff_location_name is the unique name of the cab company\n",
    "- average_trips is the average number of rides that ended in each neighborhood in November 2017."
   ]
  },
  {
   "cell_type": "code",
   "execution_count": 9,
   "metadata": {},
   "outputs": [
    {
     "name": "stdout",
     "output_type": "stream",
     "text": [
      "Data type for average_trips: int64\n"
     ]
    }
   ],
   "source": [
    "# change datatype for average_trips to int\n",
    "dropoff_df.average_trips = dropoff_df.average_trips.apply(np.int)\n",
    "dropoff_df.average_trips = dropoff_df.average_trips.astype('int64')\n",
    "print('Data type for average_trips:', dropoff_df.average_trips.dtype)"
   ]
  },
  {
   "cell_type": "code",
   "execution_count": 10,
   "metadata": {},
   "outputs": [
    {
     "name": "stdout",
     "output_type": "stream",
     "text": [
      "Top 10 dropoff locations\n"
     ]
    },
    {
     "data": {
      "text/html": [
       "<div>\n",
       "<style scoped>\n",
       "    .dataframe tbody tr th:only-of-type {\n",
       "        vertical-align: middle;\n",
       "    }\n",
       "\n",
       "    .dataframe tbody tr th {\n",
       "        vertical-align: top;\n",
       "    }\n",
       "\n",
       "    .dataframe thead th {\n",
       "        text-align: right;\n",
       "    }\n",
       "</style>\n",
       "<table border=\"1\" class=\"dataframe\">\n",
       "  <thead>\n",
       "    <tr style=\"text-align: right;\">\n",
       "      <th></th>\n",
       "      <th>dropoff_location_name</th>\n",
       "      <th>average_trips</th>\n",
       "    </tr>\n",
       "  </thead>\n",
       "  <tbody>\n",
       "    <tr>\n",
       "      <td>0</td>\n",
       "      <td>Loop</td>\n",
       "      <td>10727</td>\n",
       "    </tr>\n",
       "    <tr>\n",
       "      <td>1</td>\n",
       "      <td>River North</td>\n",
       "      <td>9523</td>\n",
       "    </tr>\n",
       "    <tr>\n",
       "      <td>2</td>\n",
       "      <td>Streeterville</td>\n",
       "      <td>6664</td>\n",
       "    </tr>\n",
       "    <tr>\n",
       "      <td>3</td>\n",
       "      <td>West Loop</td>\n",
       "      <td>5163</td>\n",
       "    </tr>\n",
       "    <tr>\n",
       "      <td>4</td>\n",
       "      <td>O'Hare</td>\n",
       "      <td>2546</td>\n",
       "    </tr>\n",
       "    <tr>\n",
       "      <td>5</td>\n",
       "      <td>Lake View</td>\n",
       "      <td>2420</td>\n",
       "    </tr>\n",
       "    <tr>\n",
       "      <td>6</td>\n",
       "      <td>Grant Park</td>\n",
       "      <td>2068</td>\n",
       "    </tr>\n",
       "    <tr>\n",
       "      <td>7</td>\n",
       "      <td>Museum Campus</td>\n",
       "      <td>1510</td>\n",
       "    </tr>\n",
       "    <tr>\n",
       "      <td>8</td>\n",
       "      <td>Gold Coast</td>\n",
       "      <td>1364</td>\n",
       "    </tr>\n",
       "    <tr>\n",
       "      <td>9</td>\n",
       "      <td>Sheffield &amp; DePaul</td>\n",
       "      <td>1259</td>\n",
       "    </tr>\n",
       "  </tbody>\n",
       "</table>\n",
       "</div>"
      ],
      "text/plain": [
       "  dropoff_location_name  average_trips\n",
       "0                  Loop          10727\n",
       "1           River North           9523\n",
       "2         Streeterville           6664\n",
       "3             West Loop           5163\n",
       "4                O'Hare           2546\n",
       "5             Lake View           2420\n",
       "6            Grant Park           2068\n",
       "7         Museum Campus           1510\n",
       "8            Gold Coast           1364\n",
       "9    Sheffield & DePaul           1259"
      ]
     },
     "execution_count": 10,
     "metadata": {},
     "output_type": "execute_result"
    }
   ],
   "source": [
    "# identify the top 10 neighborhoods in terms of drop-offs\n",
    "print('Top 10 dropoff locations')\n",
    "dropoff_df.head(10)"
   ]
  },
  {
   "cell_type": "code",
   "execution_count": 11,
   "metadata": {},
   "outputs": [
    {
     "data": {
      "image/png": "[encoded data removed]",
      "text/plain": [
       "<Figure size 648x648 with 1 Axes>"
      ]
     },
     "metadata": {},
     "output_type": "display_data"
    }
   ],
   "source": [
    "# create bar chart to demonstrate proportionality of top 10\n",
    "top_dropoff_df = dropoff_df.head(10)\n",
    "top_dropoff_df.plot(kind='barh', figsize=(9,9), y='average_trips',\\\n",
    "                    legend=False, x='dropoff_location_name')\n",
    "plt.title('Top 10 Neighborhoods by Dropoffs\\n')\n",
    "plt.ylabel(\"\")\n",
    "plt.xlabel(\"\\nAverage number of trips\")\n",
    "plt.show()"
   ]
  },
  {
   "cell_type": "markdown",
   "metadata": {},
   "source": [
    "From this bar graph, we observe the top 3 dropoff locations appear to account for over half the rides. We will use a pie chart for further visualization and then follow up with some calculations."
   ]
  },
  {
   "cell_type": "code",
   "execution_count": 12,
   "metadata": {},
   "outputs": [
    {
     "data": {
      "image/png": "[encoded data removed]",
      "text/plain": [
       "<Figure size 648x648 with 1 Axes>"
      ]
     },
     "metadata": {},
     "output_type": "display_data"
    }
   ],
   "source": [
    "# create pie chart to demonstrate proportionality of top 10\n",
    "top_dropoff_df = dropoff_df.head(10)\n",
    "explode = (0.1, 0.1, 0.1, 0, 0, 0, 0, 0, 0, 0)\n",
    "top_dropoff_df.plot(kind='pie', figsize=(9,9), autopct='%1.1f%%', y='average_trips', \\\n",
    "                    labels=top_dropoff_df.dropoff_location_name, explode = explode)\n",
    "plt.title('Top 10 Neighborhoods by Dropoffs')\n",
    "plt.legend(loc=\"upper left\", bbox_to_anchor=(1, 1.15), ncol=1)\n",
    "plt.ylabel(\"\")\n",
    "plt.show()"
   ]
  },
  {
   "cell_type": "markdown",
   "metadata": {},
   "source": [
    "It is clear that the top 3 locations, Loop, River North, and Streeterville, account for over half of the total percent for the top 10. \n",
    "\n",
    "It is important for Zuber to understand their market. We now know the clear top 3 neighborhoods (from the top 10 of 94) account for over half of the top 10's market share. This  will help Zuber with resource allocation and marketing.\n",
    "\n",
    "This leads to a questions about the overall market share for the top 10 neighborhoods versus the other 54 neighborhoods. "
   ]
  },
  {
   "cell_type": "code",
   "execution_count": 13,
   "metadata": {},
   "outputs": [
    {
     "name": "stdout",
     "output_type": "stream",
     "text": [
      "For November 2017, there were a total of 56351 Zuber trips and 43244 Zuber trips ended at one of the top 10 neighborhoods by number of dropoffs. That means over 77% of the trips ended in a top 10 location. Also, over 48% of the total trips ended in one of the top 3 locations.\n"
     ]
    }
   ],
   "source": [
    "total_rides = sum(dropoff_df.average_trips)\n",
    "total_rides_top_3 = sum(dropoff_df.average_trips[0:3])\n",
    "total_rides_top_10 = sum(dropoff_df.average_trips[0:10])\n",
    "pct_top_10 = \"{:.0%}\". format((total_rides_top_10/total_rides))\n",
    "pct_top_3 = \"{:.0%}\". format((total_rides_top_3/total_rides))\n",
    "print('For November 2017, there were a total of', total_rides, 'Zuber trips and',\\\n",
    "     total_rides_top_10, 'Zuber trips ended at one of the top 10 neighborhoods by', \\\n",
    "     'number of dropoffs. That means over', pct_top_10, 'of the trips ended in a top',\\\n",
    "     '10 location. Also, over', pct_top_3, 'of the total trips ended in one of the top 3',\\\n",
    "     'locations.')"
   ]
  },
  {
   "cell_type": "code",
   "execution_count": 14,
   "metadata": {},
   "outputs": [
    {
     "data": {
      "image/png": "[encoded data removed]",
      "text/plain": [
       "<Figure size 1152x864 with 1 Axes>"
      ]
     },
     "metadata": {},
     "output_type": "display_data"
    }
   ],
   "source": [
    "# graph taxi companies and number of rides\n",
    "\n",
    "name_df.plot(kind='bar', x= 'company_name', figsize=(16,12), legend=False)\n",
    "plt.title('Taxi Companies & Number of Rides for November 15-16, 2017')\n",
    "#plt.legend(loc=\"upper left\", bbox_to_anchor=(1, 1.15), ncol=1, )\n",
    "plt.ylabel(\"Number of trips for November 15-16, 2017\\n\")\n",
    "plt.xlabel('Taxi Company')\n",
    "plt.show()"
   ]
  },
  {
   "cell_type": "code",
   "execution_count": 15,
   "metadata": {},
   "outputs": [
    {
     "name": "stdout",
     "output_type": "stream",
     "text": [
      "There were a total of 137311 rides for November 15-16, 2017 and 19558 were from the Flash Cab company. \n",
      "So Flash Cab accounted for 14.24 percent of the total rides. We also observe that the top 7 Taxi Companies \n",
      "accounted for 50.77 percent of total rides.\n"
     ]
    }
   ],
   "source": [
    "total = sum(name_df.trips_amount)\n",
    "flash = (name_df.trips_amount[0])\n",
    "pct_flash = flash/total * 100\n",
    "pct_flash = pct_flash.round(2)\n",
    "top_10 = sum(name_df.trips_amount[0:6])\n",
    "pct_top_10 = top_10/total * 100\n",
    "pct_top_10 = round(pct_top_10, 2) \n",
    "print('There were a total of', total, 'rides for November 15-16, 2017 and', flash, 'were from the Flash Cab company. \\n'\n",
    "'So Flash Cab accounted for', pct_flash, 'percent of the total rides. We also observe that the top 7 Taxi Companies \\n'\n",
    "      'accounted for', pct_top_10, 'percent of total rides.')"
   ]
  },
  {
   "cell_type": "markdown",
   "metadata": {},
   "source": [
    "We observe that Flash Cab has a majority of the rides from all rides per company on November 15-16, 2017 and recommend further analysis of Flash Cab's data to help guide the marketing and resource allocation of Zuber. It would be interesting to see Flash Cab dropoff location data to discover if a majority of their dropoffs are in the top 10 or even top 3 dropoffs for November. Additionally, since a majority of the total rides are serviced by the top 7 performing Taxi Companies it would be useful to focus on those 7 companies as Zuber's main competitors.\n",
    "\n",
    "Now we will test the the hypothesis \"The average duration of rides from the Loop to O'Hare International Airport changes on rainy Saturdays.\"\n",
    "\n",
    "We will use the results of a query on the trips table that retrieved all the rides for a Saturday that started in the Loop and ended at O'Hare where weather conditions can be catgorized as Bad (description includes rain or storm) or Good (all other descriptions)."
   ]
  },
  {
   "cell_type": "code",
   "execution_count": 16,
   "metadata": {},
   "outputs": [
    {
     "name": "stdout",
     "output_type": "stream",
     "text": [
      "The distribution of weather conditions\n"
     ]
    },
    {
     "data": {
      "text/plain": [
       "Good    888\n",
       "Bad     180\n",
       "Name: weather_conditions, dtype: int64"
      ]
     },
     "execution_count": 16,
     "metadata": {},
     "output_type": "execute_result"
    }
   ],
   "source": [
    "print('The distribution of weather conditions')\n",
    "start_df.weather_conditions.value_counts()"
   ]
  },
  {
   "cell_type": "code",
   "execution_count": 17,
   "metadata": {},
   "outputs": [
    {
     "name": "stdout",
     "output_type": "stream",
     "text": [
      "\n",
      "General info of start_df table\n",
      "\n",
      "<class 'pandas.core.frame.DataFrame'>\n",
      "RangeIndex: 1068 entries, 0 to 1067\n",
      "Data columns (total 3 columns):\n",
      "start_ts              1068 non-null object\n",
      "weather_conditions    1068 non-null object\n",
      "duration_seconds      1068 non-null float64\n",
      "dtypes: float64(1), object(2)\n",
      "memory usage: 25.2+ KB\n",
      "None\n",
      "\n",
      "Number of duplicate rows: 197\n",
      "\n",
      "Number rows and columns: (1068, 3)\n"
     ]
    }
   ],
   "source": [
    "# df general info\n",
    "print('\\nGeneral info of start_df table\\n')\n",
    "print(start_df.info())\n",
    "# check df for duplicates \n",
    "print('\\nNumber of duplicate rows:', start_df.duplicated().sum())\n",
    "# check df for shape \n",
    "print('\\nNumber rows and columns:', start_df.shape)"
   ]
  },
  {
   "cell_type": "markdown",
   "metadata": {},
   "source": [
    "start_ts needs to be changed to date time from object type.\n",
    "\n",
    "Additionally, we observe there are many duplicate rows. Those duplicate rows may have been data entry errors in the original tables. We will run the hypothesis without the duplicate rows and with, just to make sure there is no difference in outcome."
   ]
  },
  {
   "cell_type": "code",
   "execution_count": 18,
   "metadata": {},
   "outputs": [
    {
     "name": "stdout",
     "output_type": "stream",
     "text": [
      "\n",
      "General info of no_duplicates_df table\n",
      "\n",
      "<class 'pandas.core.frame.DataFrame'>\n",
      "Int64Index: 871 entries, 0 to 1067\n",
      "Data columns (total 3 columns):\n",
      "start_ts              871 non-null datetime64[ns]\n",
      "weather_conditions    871 non-null object\n",
      "duration_seconds      871 non-null float64\n",
      "dtypes: datetime64[ns](1), float64(1), object(1)\n",
      "memory usage: 27.2+ KB\n",
      "None\n",
      "\n",
      "Number of duplicate rows: 0\n",
      "\n",
      "Number rows and columns: (871, 3)\n"
     ]
    }
   ],
   "source": [
    "# change start_ts to datetime\n",
    "start_df.start_ts = pd.to_datetime(start_df.start_ts)\n",
    "# creat a no_duplicates_df\n",
    "no_duplicates_df = start_df.drop_duplicates()\n",
    "# no_duplicates_df general info\n",
    "print('\\nGeneral info of no_duplicates_df table\\n')\n",
    "print(no_duplicates_df.info())\n",
    "# check df for duplicates \n",
    "print('\\nNumber of duplicate rows:', no_duplicates_df.duplicated().sum())\n",
    "# check df for shape \n",
    "print('\\nNumber rows and columns:', no_duplicates_df.shape)"
   ]
  },
  {
   "cell_type": "code",
   "execution_count": 19,
   "metadata": {},
   "outputs": [
    {
     "name": "stdout",
     "output_type": "stream",
     "text": [
      "start_df variance = 591516.0504451949\n"
     ]
    },
    {
     "data": {
      "text/html": [
       "<div>\n",
       "<style scoped>\n",
       "    .dataframe tbody tr th:only-of-type {\n",
       "        vertical-align: middle;\n",
       "    }\n",
       "\n",
       "    .dataframe tbody tr th {\n",
       "        vertical-align: top;\n",
       "    }\n",
       "\n",
       "    .dataframe thead th {\n",
       "        text-align: right;\n",
       "    }\n",
       "</style>\n",
       "<table border=\"1\" class=\"dataframe\">\n",
       "  <thead>\n",
       "    <tr style=\"text-align: right;\">\n",
       "      <th></th>\n",
       "      <th>duration_seconds</th>\n",
       "    </tr>\n",
       "  </thead>\n",
       "  <tbody>\n",
       "    <tr>\n",
       "      <td>count</td>\n",
       "      <td>1068.000000</td>\n",
       "    </tr>\n",
       "    <tr>\n",
       "      <td>mean</td>\n",
       "      <td>2071.731273</td>\n",
       "    </tr>\n",
       "    <tr>\n",
       "      <td>std</td>\n",
       "      <td>769.461125</td>\n",
       "    </tr>\n",
       "    <tr>\n",
       "      <td>min</td>\n",
       "      <td>0.000000</td>\n",
       "    </tr>\n",
       "    <tr>\n",
       "      <td>25%</td>\n",
       "      <td>1438.250000</td>\n",
       "    </tr>\n",
       "    <tr>\n",
       "      <td>50%</td>\n",
       "      <td>1980.000000</td>\n",
       "    </tr>\n",
       "    <tr>\n",
       "      <td>75%</td>\n",
       "      <td>2580.000000</td>\n",
       "    </tr>\n",
       "    <tr>\n",
       "      <td>max</td>\n",
       "      <td>7440.000000</td>\n",
       "    </tr>\n",
       "  </tbody>\n",
       "</table>\n",
       "</div>"
      ],
      "text/plain": [
       "       duration_seconds\n",
       "count       1068.000000\n",
       "mean        2071.731273\n",
       "std          769.461125\n",
       "min            0.000000\n",
       "25%         1438.250000\n",
       "50%         1980.000000\n",
       "75%         2580.000000\n",
       "max         7440.000000"
      ]
     },
     "execution_count": 19,
     "metadata": {},
     "output_type": "execute_result"
    }
   ],
   "source": [
    "# info on start_df\n",
    "print('start_df variance =', np.var(start_df.duration_seconds))\n",
    "start_df.describe()"
   ]
  },
  {
   "cell_type": "code",
   "execution_count": 20,
   "metadata": {},
   "outputs": [
    {
     "name": "stdout",
     "output_type": "stream",
     "text": [
      "no_duplicates_df variance = 611251.1457197805\n"
     ]
    },
    {
     "data": {
      "text/html": [
       "<div>\n",
       "<style scoped>\n",
       "    .dataframe tbody tr th:only-of-type {\n",
       "        vertical-align: middle;\n",
       "    }\n",
       "\n",
       "    .dataframe tbody tr th {\n",
       "        vertical-align: top;\n",
       "    }\n",
       "\n",
       "    .dataframe thead th {\n",
       "        text-align: right;\n",
       "    }\n",
       "</style>\n",
       "<table border=\"1\" class=\"dataframe\">\n",
       "  <thead>\n",
       "    <tr style=\"text-align: right;\">\n",
       "      <th></th>\n",
       "      <th>duration_seconds</th>\n",
       "    </tr>\n",
       "  </thead>\n",
       "  <tbody>\n",
       "    <tr>\n",
       "      <td>count</td>\n",
       "      <td>871.000000</td>\n",
       "    </tr>\n",
       "    <tr>\n",
       "      <td>mean</td>\n",
       "      <td>2096.308840</td>\n",
       "    </tr>\n",
       "    <tr>\n",
       "      <td>std</td>\n",
       "      <td>782.274717</td>\n",
       "    </tr>\n",
       "    <tr>\n",
       "      <td>min</td>\n",
       "      <td>0.000000</td>\n",
       "    </tr>\n",
       "    <tr>\n",
       "      <td>25%</td>\n",
       "      <td>1440.000000</td>\n",
       "    </tr>\n",
       "    <tr>\n",
       "      <td>50%</td>\n",
       "      <td>2015.000000</td>\n",
       "    </tr>\n",
       "    <tr>\n",
       "      <td>75%</td>\n",
       "      <td>2584.000000</td>\n",
       "    </tr>\n",
       "    <tr>\n",
       "      <td>max</td>\n",
       "      <td>7440.000000</td>\n",
       "    </tr>\n",
       "  </tbody>\n",
       "</table>\n",
       "</div>"
      ],
      "text/plain": [
       "       duration_seconds\n",
       "count        871.000000\n",
       "mean        2096.308840\n",
       "std          782.274717\n",
       "min            0.000000\n",
       "25%         1440.000000\n",
       "50%         2015.000000\n",
       "75%         2584.000000\n",
       "max         7440.000000"
      ]
     },
     "execution_count": 20,
     "metadata": {},
     "output_type": "execute_result"
    }
   ],
   "source": [
    "# info on no_duplicates_df\n",
    "print('no_duplicates_df variance =', np.var(no_duplicates_df.duration_seconds))\n",
    "no_duplicates_df.describe()"
   ]
  },
  {
   "cell_type": "markdown",
   "metadata": {},
   "source": [
    "We note there is an uneven distribution of good days and bad days, but there are enough of each to make a valid comparison.\n",
    "\n",
    "We note there is a high variance in both dataframes (with and without duplicates), so we will use equal_var = False in our hypothesis test.\n",
    "\n",
    "We will use an alpha of 0.05, the standard value because there is no reason to use a stricter or more forgiving benchmark.\n",
    "\n",
    "Our task is to test \"The average duration of rides from the Loop to O'Hare International Airport changes on rainy Saturdays.\" \n",
    "\n",
    "$H_0$ The average duration of rides from the Loop to O'Hare International Airport on Saturdays when it is rainy (bad weather) - The average duration of rides from the Loop to O'Hare International Airport on Saturdays when there is no rain (good weather) = 0.\n",
    "\n",
    "$H_A$ The average duration of rides from the Loop to O'Hare International Airport on Saturdays when it is rainy (bad weather) - The average duration of rides from the Loop to O'Hare International Airport on Saturdays when there is no rain (good weather) != 0."
   ]
  },
  {
   "cell_type": "code",
   "execution_count": 21,
   "metadata": {},
   "outputs": [
    {
     "name": "stdout",
     "output_type": "stream",
     "text": [
      "Test for dataframe with duplicate values\n",
      "\n",
      "The average duration of rides when the weather is Good is 1999.68\n",
      "The average duration of rides when the weather is Bad is 2427.21\n",
      "\n",
      "Null hypothesis test for good weather and bad weather days\n",
      "where dataframe includes duplicate values.\n",
      "\n",
      "p-value: 6.738994326108734e-12\n",
      "\n",
      "We reject the null hypothesis\n"
     ]
    }
   ],
   "source": [
    "print('Test for dataframe with duplicate values\\n')\n",
    "\n",
    "good_days = start_df[start_df.weather_conditions.isin(['Good'])]\n",
    "bad_days = start_df[start_df.weather_conditions.isin(['Bad'])]\n",
    "print('The average duration of rides when the weather is Good is', round(good_days['duration_seconds'].mean(), 2))\n",
    "print('The average duration of rides when the weather is Bad is', round(bad_days['duration_seconds'].mean(), 2))\n",
    "\n",
    "# use the standard critical value\n",
    "alpha = 0.05 \n",
    "\n",
    "# test the hypothesis that the means of the two independent populations are equal\n",
    "results = st.ttest_ind(good_days.duration_seconds, bad_days.duration_seconds, equal_var = False)\n",
    "print('\\nNull hypothesis test for good weather and bad weather days')\n",
    "print('where dataframe includes duplicate values.\\n')\n",
    "print('p-value:', results.pvalue)\n",
    "\n",
    "# compare the p-value you get with the significance level\n",
    "if np.all(results.pvalue < alpha):\n",
    "    print(\"\\nWe reject the null hypothesis\")\n",
    "else:\n",
    "    print(\"\\nWe can't reject the null hypothesis\")\n",
    "\n",
    "results = st.ttest_ind"
   ]
  },
  {
   "cell_type": "code",
   "execution_count": 22,
   "metadata": {},
   "outputs": [
    {
     "name": "stdout",
     "output_type": "stream",
     "text": [
      "Test for dataframe without duplicate values\n",
      "\n",
      "The average duration of rides when the weather is Good is 1999.68\n",
      "The average duration of rides when the weather is Bad is 2427.21\n",
      "\n",
      "Null hypothesis test for good weather and bad weather days\n",
      "where dataframe doesn't includes duplicate values.\n",
      "\n",
      "p-value: 9.126383933880083e-08\n",
      "\n",
      "We reject the null hypothesis\n"
     ]
    }
   ],
   "source": [
    "print('Test for dataframe without duplicate values\\n')\n",
    "\n",
    "good_days_no_dup = no_duplicates_df[no_duplicates_df.weather_conditions.isin(['Good'])]\n",
    "bad_days_no_dup = no_duplicates_df[no_duplicates_df.weather_conditions.isin(['Bad'])]\n",
    "print('The average duration of rides when the weather is Good is', round(good_days['duration_seconds'].mean(), 2))\n",
    "print('The average duration of rides when the weather is Bad is', round(bad_days['duration_seconds'].mean(), 2))\n",
    "\n",
    "# use the standard critical value\n",
    "alpha = 0.05 \n",
    "\n",
    "# test the hypothesis that the means of the two independent populations are equal\n",
    "results = st.ttest_ind(good_days_no_dup.duration_seconds, bad_days_no_dup.duration_seconds, equal_var = False)\n",
    "print('\\nNull hypothesis test for good weather and bad weather days')\n",
    "print('where dataframe doesn\\'t includes duplicate values.\\n')\n",
    "print('p-value:', results.pvalue)\n",
    "\n",
    "# compare the p-value you get with the significance level\n",
    "if np.all(results.pvalue < alpha):\n",
    "    print(\"\\nWe reject the null hypothesis\")\n",
    "else:\n",
    "    print(\"\\nWe can't reject the null hypothesis\")\n",
    "\n",
    "results = st.ttest_ind"
   ]
  },
  {
   "cell_type": "markdown",
   "metadata": {},
   "source": [
    "We note the p-values are quite small and that the p-value for the dataframe with duplicates is smaller than the p-value for the dataframe without duplicates.\n",
    "\n",
    "The small p-values indicate we can safely reject the null hypothesis and accept the alternate hypothesis as highly likely: \n",
    "\n",
    "$H_A$ The average duration of rides from the Loop to O'Hare International Airport on Saturdays when it is rainy (bad weather) - The average duration of rides from the Loop to O'Hare International Airport on Saturdays when there is no rain (good weather) != 0.\n",
    "\n",
    "And that means we can accept the hypothesis we were assigned to test as very likely:\n",
    "\n",
    "\"The average duration of rides from the Loop to O'Hare International Airport changes on rainy Saturdays.\"\n",
    "\n",
    "Additionally, we note that the rides on rainy/bad weather days are of a longer duration. This accords with common sense because people are often more cautious and drive slower during bad weather conditions."
   ]
  },
  {
   "cell_type": "markdown",
   "metadata": {},
   "source": [
    "References\n",
    "\n",
    "[A Simple Guide to Beautiful Visulizations](https://towardsdatascience.com/a-simple-guide-to-beautiful-visualizations-in-python-f564e6b9d392)\n",
    "\n",
    "[Using round with float](https://stackoverflow.com/questions/65277758/float-object-has-no-attribute-round)"
   ]
  }
 ],
 "metadata": {
  "ExecuteTimeLog": [
   {
    "duration": 1039,
    "start_time": "2021-10-17T02:29:00.121Z"
   },
   {
    "duration": 3,
    "start_time": "2021-10-17T02:29:01.162Z"
   },
   {
    "duration": 38,
    "start_time": "2021-10-17T02:29:01.168Z"
   },
   {
    "duration": 13,
    "start_time": "2021-10-17T02:29:01.208Z"
   },
   {
    "duration": 9,
    "start_time": "2021-10-17T02:29:57.491Z"
   },
   {
    "duration": 8,
    "start_time": "2021-10-17T02:31:00.454Z"
   },
   {
    "duration": 7,
    "start_time": "2021-10-17T02:31:33.910Z"
   },
   {
    "duration": 7,
    "start_time": "2021-10-17T02:31:50.758Z"
   },
   {
    "duration": 1093,
    "start_time": "2021-10-17T02:33:49.645Z"
   },
   {
    "duration": 3,
    "start_time": "2021-10-17T02:33:50.740Z"
   },
   {
    "duration": 58,
    "start_time": "2021-10-17T02:33:50.745Z"
   },
   {
    "duration": 9,
    "start_time": "2021-10-17T02:33:50.805Z"
   },
   {
    "duration": 9,
    "start_time": "2021-10-17T02:33:50.816Z"
   },
   {
    "duration": 7,
    "start_time": "2021-10-17T02:33:50.826Z"
   },
   {
    "duration": 7,
    "start_time": "2021-10-17T02:33:50.835Z"
   },
   {
    "duration": 8,
    "start_time": "2021-10-17T02:35:02.906Z"
   },
   {
    "duration": 8,
    "start_time": "2021-10-17T02:35:06.448Z"
   },
   {
    "duration": 437,
    "start_time": "2021-10-17T02:40:19.864Z"
   },
   {
    "duration": 9,
    "start_time": "2021-10-17T02:40:39.558Z"
   },
   {
    "duration": 8,
    "start_time": "2021-10-17T02:45:24.305Z"
   },
   {
    "duration": 8,
    "start_time": "2021-10-17T02:46:21.196Z"
   },
   {
    "duration": 348,
    "start_time": "2021-10-17T03:13:15.570Z"
   },
   {
    "duration": 108,
    "start_time": "2021-10-17T03:13:30.106Z"
   },
   {
    "duration": 6,
    "start_time": "2021-10-17T03:13:37.176Z"
   },
   {
    "duration": 5,
    "start_time": "2021-10-17T03:25:05.628Z"
   },
   {
    "duration": 336,
    "start_time": "2021-10-17T03:26:02.412Z"
   },
   {
    "duration": 8,
    "start_time": "2021-10-17T03:26:11.414Z"
   },
   {
    "duration": 7,
    "start_time": "2021-10-17T03:27:40.915Z"
   },
   {
    "duration": 6,
    "start_time": "2021-10-17T03:32:14.420Z"
   },
   {
    "duration": 172,
    "start_time": "2021-10-17T03:32:30.659Z"
   },
   {
    "duration": 159,
    "start_time": "2021-10-17T03:32:45.114Z"
   },
   {
    "duration": 157,
    "start_time": "2021-10-17T03:33:10.406Z"
   },
   {
    "duration": 335,
    "start_time": "2021-10-17T03:33:50.365Z"
   },
   {
    "duration": 1306,
    "start_time": "2021-10-17T03:34:11.017Z"
   },
   {
    "duration": 122,
    "start_time": "2021-10-17T03:34:44.093Z"
   },
   {
    "duration": 111,
    "start_time": "2021-10-17T03:36:31.957Z"
   },
   {
    "duration": 113,
    "start_time": "2021-10-17T03:37:07.016Z"
   },
   {
    "duration": 1307,
    "start_time": "2021-10-17T03:37:37.532Z"
   },
   {
    "duration": 9310,
    "start_time": "2021-10-17T03:38:24.340Z"
   },
   {
    "duration": 8048,
    "start_time": "2021-10-17T03:38:36.191Z"
   },
   {
    "duration": 117,
    "start_time": "2021-10-17T03:38:47.227Z"
   },
   {
    "duration": 107,
    "start_time": "2021-10-17T03:56:10.861Z"
   },
   {
    "duration": 576,
    "start_time": "2021-10-17T03:56:32.219Z"
   },
   {
    "duration": 335,
    "start_time": "2021-10-17T03:56:45.421Z"
   },
   {
    "duration": 134,
    "start_time": "2021-10-17T03:57:05.151Z"
   },
   {
    "duration": 199,
    "start_time": "2021-10-17T03:57:44.833Z"
   },
   {
    "duration": 867,
    "start_time": "2021-10-17T03:59:29.793Z"
   },
   {
    "duration": 472,
    "start_time": "2021-10-17T03:59:38.232Z"
   },
   {
    "duration": 511,
    "start_time": "2021-10-17T04:00:05.608Z"
   },
   {
    "duration": 486,
    "start_time": "2021-10-17T04:01:03.604Z"
   },
   {
    "duration": 481,
    "start_time": "2021-10-17T04:01:17.137Z"
   },
   {
    "duration": 459,
    "start_time": "2021-10-17T04:01:26.967Z"
   },
   {
    "duration": 492,
    "start_time": "2021-10-17T04:11:29.845Z"
   },
   {
    "duration": 466,
    "start_time": "2021-10-17T04:11:46.814Z"
   },
   {
    "duration": 470,
    "start_time": "2021-10-17T04:12:06.022Z"
   },
   {
    "duration": 138,
    "start_time": "2021-10-17T04:13:06.518Z"
   },
   {
    "duration": 127,
    "start_time": "2021-10-17T04:14:24.130Z"
   },
   {
    "duration": 237,
    "start_time": "2021-10-17T04:14:44.383Z"
   },
   {
    "duration": 291,
    "start_time": "2021-10-17T04:16:59.311Z"
   },
   {
    "duration": 563,
    "start_time": "2021-10-17T04:18:28.416Z"
   },
   {
    "duration": 543,
    "start_time": "2021-10-17T04:18:56.815Z"
   },
   {
    "duration": 103,
    "start_time": "2021-10-17T14:05:31.406Z"
   },
   {
    "duration": 120,
    "start_time": "2021-10-17T14:05:39.073Z"
   },
   {
    "duration": 1459,
    "start_time": "2021-10-17T14:19:30.184Z"
   },
   {
    "duration": 6,
    "start_time": "2021-10-17T14:19:31.646Z"
   },
   {
    "duration": 3,
    "start_time": "2021-10-17T14:19:31.663Z"
   },
   {
    "duration": 47,
    "start_time": "2021-10-17T14:19:31.669Z"
   },
   {
    "duration": 14,
    "start_time": "2021-10-17T14:19:31.719Z"
   },
   {
    "duration": 12,
    "start_time": "2021-10-17T14:19:31.735Z"
   },
   {
    "duration": 22,
    "start_time": "2021-10-17T14:19:31.750Z"
   },
   {
    "duration": 12,
    "start_time": "2021-10-17T14:19:31.775Z"
   },
   {
    "duration": 9,
    "start_time": "2021-10-17T14:19:31.790Z"
   },
   {
    "duration": 64,
    "start_time": "2021-10-17T14:19:31.801Z"
   },
   {
    "duration": 101,
    "start_time": "2021-10-17T14:19:31.868Z"
   },
   {
    "duration": -310,
    "start_time": "2021-10-17T14:19:32.281Z"
   },
   {
    "duration": -311,
    "start_time": "2021-10-17T14:19:32.283Z"
   },
   {
    "duration": -310,
    "start_time": "2021-10-17T14:19:32.284Z"
   },
   {
    "duration": 4819,
    "start_time": "2021-10-17T14:19:57.963Z"
   },
   {
    "duration": 8377,
    "start_time": "2021-10-17T14:20:25.454Z"
   },
   {
    "duration": 394,
    "start_time": "2021-10-17T14:21:12.824Z"
   },
   {
    "duration": 957,
    "start_time": "2021-10-17T14:22:03.091Z"
   },
   {
    "duration": 852,
    "start_time": "2021-10-17T14:22:47.297Z"
   },
   {
    "duration": 415,
    "start_time": "2021-10-17T14:23:09.912Z"
   },
   {
    "duration": 408,
    "start_time": "2021-10-17T14:23:16.997Z"
   },
   {
    "duration": 421,
    "start_time": "2021-10-17T14:23:30.247Z"
   },
   {
    "duration": 106,
    "start_time": "2021-10-17T14:25:20.169Z"
   },
   {
    "duration": 926,
    "start_time": "2021-10-17T14:25:28.682Z"
   },
   {
    "duration": 398,
    "start_time": "2021-10-17T14:25:38.039Z"
   },
   {
    "duration": 392,
    "start_time": "2021-10-17T14:26:23.229Z"
   },
   {
    "duration": 921,
    "start_time": "2021-10-17T14:26:34.833Z"
   },
   {
    "duration": 399,
    "start_time": "2021-10-17T14:27:35.520Z"
   },
   {
    "duration": 1029,
    "start_time": "2021-10-17T14:28:59.258Z"
   },
   {
    "duration": 946,
    "start_time": "2021-10-17T14:29:11.249Z"
   },
   {
    "duration": 1130,
    "start_time": "2021-10-17T14:29:25.901Z"
   },
   {
    "duration": 1089,
    "start_time": "2021-10-17T14:29:53.654Z"
   },
   {
    "duration": 393,
    "start_time": "2021-10-17T14:33:31.497Z"
   },
   {
    "duration": 440,
    "start_time": "2021-10-17T14:33:45.996Z"
   },
   {
    "duration": 430,
    "start_time": "2021-10-17T14:34:03.590Z"
   },
   {
    "duration": 662,
    "start_time": "2021-10-17T14:34:15.866Z"
   },
   {
    "duration": 478,
    "start_time": "2021-10-17T14:34:26.026Z"
   },
   {
    "duration": 565,
    "start_time": "2021-10-17T14:34:34.266Z"
   },
   {
    "duration": 432,
    "start_time": "2021-10-17T14:34:44.208Z"
   },
   {
    "duration": 564,
    "start_time": "2021-10-17T21:45:45.672Z"
   },
   {
    "duration": 1126,
    "start_time": "2021-10-17T21:46:11.801Z"
   },
   {
    "duration": 3,
    "start_time": "2021-10-17T21:46:12.929Z"
   },
   {
    "duration": 4,
    "start_time": "2021-10-17T21:46:12.934Z"
   },
   {
    "duration": 101,
    "start_time": "2021-10-17T21:46:12.939Z"
   },
   {
    "duration": 10,
    "start_time": "2021-10-17T21:46:13.041Z"
   },
   {
    "duration": 8,
    "start_time": "2021-10-17T21:46:13.053Z"
   },
   {
    "duration": 10,
    "start_time": "2021-10-17T21:46:13.062Z"
   },
   {
    "duration": 9,
    "start_time": "2021-10-17T21:46:13.074Z"
   },
   {
    "duration": 5,
    "start_time": "2021-10-17T21:46:13.084Z"
   },
   {
    "duration": 7,
    "start_time": "2021-10-17T21:46:13.091Z"
   },
   {
    "duration": 698,
    "start_time": "2021-10-17T21:46:13.100Z"
   },
   {
    "duration": -319,
    "start_time": "2021-10-17T21:46:14.119Z"
   },
   {
    "duration": -321,
    "start_time": "2021-10-17T21:46:14.121Z"
   },
   {
    "duration": -322,
    "start_time": "2021-10-17T21:46:14.123Z"
   },
   {
    "duration": 232,
    "start_time": "2021-10-17T21:46:34.489Z"
   },
   {
    "duration": 616,
    "start_time": "2021-10-17T21:46:58.568Z"
   },
   {
    "duration": 233,
    "start_time": "2021-10-17T21:47:08.899Z"
   },
   {
    "duration": 363,
    "start_time": "2021-10-17T21:48:45.210Z"
   },
   {
    "duration": 228,
    "start_time": "2021-10-17T21:49:22.214Z"
   },
   {
    "duration": 242,
    "start_time": "2021-10-17T21:49:36.061Z"
   },
   {
    "duration": 238,
    "start_time": "2021-10-17T22:38:00.364Z"
   },
   {
    "duration": 292,
    "start_time": "2021-10-17T22:38:14.086Z"
   },
   {
    "duration": 4,
    "start_time": "2021-10-17T22:57:14.390Z"
   },
   {
    "duration": 4,
    "start_time": "2021-10-17T22:58:01.070Z"
   },
   {
    "duration": 4,
    "start_time": "2021-10-17T23:02:54.584Z"
   },
   {
    "duration": 5,
    "start_time": "2021-10-17T23:03:39.143Z"
   },
   {
    "duration": 343,
    "start_time": "2021-10-17T23:06:15.391Z"
   },
   {
    "duration": 5,
    "start_time": "2021-10-17T23:07:00.361Z"
   },
   {
    "duration": 4,
    "start_time": "2021-10-17T23:07:33.001Z"
   },
   {
    "duration": 1174,
    "start_time": "2021-10-18T00:24:41.947Z"
   },
   {
    "duration": 3,
    "start_time": "2021-10-18T00:24:43.123Z"
   },
   {
    "duration": 7,
    "start_time": "2021-10-18T00:24:43.128Z"
   },
   {
    "duration": 58,
    "start_time": "2021-10-18T00:24:43.137Z"
   },
   {
    "duration": 9,
    "start_time": "2021-10-18T00:24:43.197Z"
   },
   {
    "duration": 8,
    "start_time": "2021-10-18T00:24:43.208Z"
   },
   {
    "duration": 8,
    "start_time": "2021-10-18T00:24:43.218Z"
   },
   {
    "duration": 8,
    "start_time": "2021-10-18T00:24:43.228Z"
   },
   {
    "duration": 5,
    "start_time": "2021-10-18T00:24:43.237Z"
   },
   {
    "duration": 10,
    "start_time": "2021-10-18T00:24:43.243Z"
   },
   {
    "duration": 257,
    "start_time": "2021-10-18T00:24:43.255Z"
   },
   {
    "duration": 4,
    "start_time": "2021-10-18T00:24:43.514Z"
   },
   {
    "duration": 9,
    "start_time": "2021-10-18T00:24:43.520Z"
   },
   {
    "duration": 8,
    "start_time": "2021-10-18T00:24:43.531Z"
   },
   {
    "duration": -357,
    "start_time": "2021-10-18T00:25:06.594Z"
   },
   {
    "duration": 8714,
    "start_time": "2021-10-18T00:25:18.832Z"
   },
   {
    "duration": 229,
    "start_time": "2021-10-18T00:25:44.274Z"
   },
   {
    "duration": 4407,
    "start_time": "2021-10-18T00:27:11.664Z"
   },
   {
    "duration": 3,
    "start_time": "2021-10-18T00:27:58.806Z"
   },
   {
    "duration": 5,
    "start_time": "2021-10-18T00:28:13.672Z"
   },
   {
    "duration": 4,
    "start_time": "2021-10-18T00:28:55.056Z"
   },
   {
    "duration": 404,
    "start_time": "2021-10-18T00:30:07.877Z"
   },
   {
    "duration": 7,
    "start_time": "2021-10-18T00:30:18.256Z"
   },
   {
    "duration": 110,
    "start_time": "2021-10-18T00:30:44.319Z"
   },
   {
    "duration": 5,
    "start_time": "2021-10-18T00:30:51.329Z"
   },
   {
    "duration": 6,
    "start_time": "2021-10-18T01:16:01.483Z"
   },
   {
    "duration": 5,
    "start_time": "2021-10-18T01:17:21.970Z"
   },
   {
    "duration": 5,
    "start_time": "2021-10-18T01:17:47.652Z"
   },
   {
    "duration": 323,
    "start_time": "2021-10-18T01:42:10.364Z"
   },
   {
    "duration": 5,
    "start_time": "2021-10-18T01:42:23.358Z"
   },
   {
    "duration": 5,
    "start_time": "2021-10-18T02:36:12.412Z"
   },
   {
    "duration": 5,
    "start_time": "2021-10-18T02:37:59.652Z"
   },
   {
    "duration": 3,
    "start_time": "2021-10-18T02:38:26.814Z"
   },
   {
    "duration": 4,
    "start_time": "2021-10-18T02:38:35.189Z"
   },
   {
    "duration": 8496,
    "start_time": "2021-10-18T02:41:11.180Z"
   },
   {
    "duration": 329,
    "start_time": "2021-10-18T02:41:30.454Z"
   },
   {
    "duration": 462,
    "start_time": "2021-10-18T02:42:49.569Z"
   },
   {
    "duration": 306,
    "start_time": "2021-10-18T02:46:40.816Z"
   },
   {
    "duration": 309,
    "start_time": "2021-10-18T02:46:58.948Z"
   },
   {
    "duration": 1479,
    "start_time": "2021-10-18T02:51:59.983Z"
   },
   {
    "duration": 792,
    "start_time": "2021-10-18T02:54:27.784Z"
   },
   {
    "duration": 126,
    "start_time": "2021-10-18T02:54:55.659Z"
   },
   {
    "duration": 119,
    "start_time": "2021-10-18T02:55:26.825Z"
   },
   {
    "duration": 6,
    "start_time": "2021-10-18T02:55:43.680Z"
   },
   {
    "duration": 5,
    "start_time": "2021-10-18T02:56:26.703Z"
   },
   {
    "duration": 1326,
    "start_time": "2021-10-20T03:28:08.623Z"
   },
   {
    "duration": 4,
    "start_time": "2021-10-20T03:28:09.952Z"
   },
   {
    "duration": 9,
    "start_time": "2021-10-20T03:28:09.960Z"
   },
   {
    "duration": 79,
    "start_time": "2021-10-20T03:28:09.971Z"
   },
   {
    "duration": 15,
    "start_time": "2021-10-20T03:28:10.052Z"
   },
   {
    "duration": 14,
    "start_time": "2021-10-20T03:28:10.069Z"
   },
   {
    "duration": 12,
    "start_time": "2021-10-20T03:28:10.086Z"
   },
   {
    "duration": 16,
    "start_time": "2021-10-20T03:28:10.103Z"
   },
   {
    "duration": 6,
    "start_time": "2021-10-20T03:28:10.122Z"
   },
   {
    "duration": 19,
    "start_time": "2021-10-20T03:28:10.130Z"
   },
   {
    "duration": 410,
    "start_time": "2021-10-20T03:28:10.182Z"
   },
   {
    "duration": 378,
    "start_time": "2021-10-20T03:28:10.594Z"
   },
   {
    "duration": -391,
    "start_time": "2021-10-20T03:28:11.366Z"
   },
   {
    "duration": -408,
    "start_time": "2021-10-20T03:28:11.384Z"
   },
   {
    "duration": -416,
    "start_time": "2021-10-20T03:28:11.394Z"
   },
   {
    "duration": -417,
    "start_time": "2021-10-20T03:28:11.396Z"
   },
   {
    "duration": -417,
    "start_time": "2021-10-20T03:28:11.398Z"
   },
   {
    "duration": -417,
    "start_time": "2021-10-20T03:28:11.399Z"
   },
   {
    "duration": -472,
    "start_time": "2021-10-20T03:28:11.456Z"
   },
   {
    "duration": -511,
    "start_time": "2021-10-20T03:28:11.496Z"
   },
   {
    "duration": 380,
    "start_time": "2021-10-20T03:28:36.652Z"
   },
   {
    "duration": 395,
    "start_time": "2021-10-20T03:29:00.393Z"
   },
   {
    "duration": 716,
    "start_time": "2021-10-20T03:29:46.921Z"
   },
   {
    "duration": 731,
    "start_time": "2021-10-20T03:30:18.516Z"
   },
   {
    "duration": 444,
    "start_time": "2021-10-20T03:30:43.666Z"
   },
   {
    "duration": 378,
    "start_time": "2021-10-20T03:31:24.333Z"
   },
   {
    "duration": 288,
    "start_time": "2021-10-20T03:31:57.963Z"
   },
   {
    "duration": 8,
    "start_time": "2021-10-20T03:36:14.925Z"
   },
   {
    "duration": 9,
    "start_time": "2021-10-20T03:40:54.117Z"
   },
   {
    "duration": 8,
    "start_time": "2021-10-20T03:41:04.166Z"
   },
   {
    "duration": 470,
    "start_time": "2021-10-20T03:41:25.185Z"
   },
   {
    "duration": 431,
    "start_time": "2021-10-20T03:41:40.048Z"
   },
   {
    "duration": 494,
    "start_time": "2021-10-20T03:43:39.571Z"
   },
   {
    "duration": 302,
    "start_time": "2021-10-20T03:44:06.698Z"
   },
   {
    "duration": 532,
    "start_time": "2021-10-20T03:48:46.359Z"
   },
   {
    "duration": 528,
    "start_time": "2021-10-20T03:49:46.557Z"
   },
   {
    "duration": 505,
    "start_time": "2021-10-20T03:50:00.829Z"
   },
   {
    "duration": 498,
    "start_time": "2021-10-20T03:50:32.543Z"
   },
   {
    "duration": 490,
    "start_time": "2021-10-20T03:50:59.462Z"
   },
   {
    "duration": 494,
    "start_time": "2021-10-20T03:51:14.636Z"
   },
   {
    "duration": 482,
    "start_time": "2021-10-20T03:51:50.660Z"
   },
   {
    "duration": 10,
    "start_time": "2021-10-20T03:55:21.217Z"
   },
   {
    "duration": 1592,
    "start_time": "2021-10-20T04:00:11.098Z"
   },
   {
    "duration": 681,
    "start_time": "2021-10-20T04:00:12.694Z"
   },
   {
    "duration": -251,
    "start_time": "2021-10-20T04:00:13.629Z"
   },
   {
    "duration": -251,
    "start_time": "2021-10-20T04:00:13.631Z"
   },
   {
    "duration": -252,
    "start_time": "2021-10-20T04:00:13.633Z"
   },
   {
    "duration": -252,
    "start_time": "2021-10-20T04:00:13.635Z"
   },
   {
    "duration": -252,
    "start_time": "2021-10-20T04:00:13.636Z"
   },
   {
    "duration": -252,
    "start_time": "2021-10-20T04:00:13.638Z"
   },
   {
    "duration": -252,
    "start_time": "2021-10-20T04:00:13.639Z"
   },
   {
    "duration": -252,
    "start_time": "2021-10-20T04:00:13.641Z"
   },
   {
    "duration": -252,
    "start_time": "2021-10-20T04:00:13.642Z"
   },
   {
    "duration": -253,
    "start_time": "2021-10-20T04:00:13.644Z"
   },
   {
    "duration": -252,
    "start_time": "2021-10-20T04:00:13.645Z"
   },
   {
    "duration": -253,
    "start_time": "2021-10-20T04:00:13.647Z"
   },
   {
    "duration": -253,
    "start_time": "2021-10-20T04:00:13.649Z"
   },
   {
    "duration": -254,
    "start_time": "2021-10-20T04:00:13.651Z"
   },
   {
    "duration": -253,
    "start_time": "2021-10-20T04:00:13.652Z"
   },
   {
    "duration": -254,
    "start_time": "2021-10-20T04:00:13.654Z"
   },
   {
    "duration": -254,
    "start_time": "2021-10-20T04:00:13.655Z"
   },
   {
    "duration": -254,
    "start_time": "2021-10-20T04:00:13.657Z"
   },
   {
    "duration": -254,
    "start_time": "2021-10-20T04:00:13.658Z"
   },
   {
    "duration": -255,
    "start_time": "2021-10-20T04:00:13.660Z"
   },
   {
    "duration": 534,
    "start_time": "2021-10-20T04:00:42.852Z"
   },
   {
    "duration": 2154,
    "start_time": "2021-10-20T04:01:04.493Z"
   },
   {
    "duration": 631,
    "start_time": "2021-10-20T04:01:06.650Z"
   },
   {
    "duration": -267,
    "start_time": "2021-10-20T04:01:07.552Z"
   },
   {
    "duration": -267,
    "start_time": "2021-10-20T04:01:07.554Z"
   },
   {
    "duration": -335,
    "start_time": "2021-10-20T04:01:07.625Z"
   },
   {
    "duration": -334,
    "start_time": "2021-10-20T04:01:07.626Z"
   },
   {
    "duration": -334,
    "start_time": "2021-10-20T04:01:07.628Z"
   },
   {
    "duration": -333,
    "start_time": "2021-10-20T04:01:07.629Z"
   },
   {
    "duration": -332,
    "start_time": "2021-10-20T04:01:07.631Z"
   },
   {
    "duration": -331,
    "start_time": "2021-10-20T04:01:07.632Z"
   },
   {
    "duration": -336,
    "start_time": "2021-10-20T04:01:07.639Z"
   },
   {
    "duration": -335,
    "start_time": "2021-10-20T04:01:07.640Z"
   },
   {
    "duration": -334,
    "start_time": "2021-10-20T04:01:07.642Z"
   },
   {
    "duration": -334,
    "start_time": "2021-10-20T04:01:07.644Z"
   },
   {
    "duration": -334,
    "start_time": "2021-10-20T04:01:07.646Z"
   },
   {
    "duration": -334,
    "start_time": "2021-10-20T04:01:07.648Z"
   },
   {
    "duration": -334,
    "start_time": "2021-10-20T04:01:07.650Z"
   },
   {
    "duration": -338,
    "start_time": "2021-10-20T04:01:07.656Z"
   },
   {
    "duration": -337,
    "start_time": "2021-10-20T04:01:07.658Z"
   },
   {
    "duration": -337,
    "start_time": "2021-10-20T04:01:07.660Z"
   },
   {
    "duration": -280,
    "start_time": "2021-10-20T04:01:07.662Z"
   },
   {
    "duration": -279,
    "start_time": "2021-10-20T04:01:07.663Z"
   },
   {
    "duration": 1420,
    "start_time": "2021-10-20T04:01:43.617Z"
   },
   {
    "duration": 5,
    "start_time": "2021-10-20T04:01:45.040Z"
   },
   {
    "duration": 15,
    "start_time": "2021-10-20T04:01:45.048Z"
   },
   {
    "duration": 55,
    "start_time": "2021-10-20T04:01:45.066Z"
   },
   {
    "duration": 14,
    "start_time": "2021-10-20T04:01:45.124Z"
   },
   {
    "duration": 14,
    "start_time": "2021-10-20T04:01:45.140Z"
   },
   {
    "duration": 14,
    "start_time": "2021-10-20T04:01:45.156Z"
   },
   {
    "duration": 13,
    "start_time": "2021-10-20T04:01:45.174Z"
   },
   {
    "duration": 7,
    "start_time": "2021-10-20T04:01:45.190Z"
   },
   {
    "duration": 14,
    "start_time": "2021-10-20T04:01:45.199Z"
   },
   {
    "duration": 566,
    "start_time": "2021-10-20T04:01:45.216Z"
   },
   {
    "duration": 431,
    "start_time": "2021-10-20T04:01:45.785Z"
   },
   {
    "duration": 9,
    "start_time": "2021-10-20T04:01:46.218Z"
   },
   {
    "duration": 562,
    "start_time": "2021-10-20T04:01:46.229Z"
   },
   {
    "duration": -104,
    "start_time": "2021-10-20T04:01:46.897Z"
   },
   {
    "duration": -104,
    "start_time": "2021-10-20T04:01:46.899Z"
   },
   {
    "duration": -105,
    "start_time": "2021-10-20T04:01:46.901Z"
   },
   {
    "duration": -105,
    "start_time": "2021-10-20T04:01:46.903Z"
   },
   {
    "duration": -106,
    "start_time": "2021-10-20T04:01:46.905Z"
   },
   {
    "duration": -107,
    "start_time": "2021-10-20T04:01:46.907Z"
   },
   {
    "duration": -107,
    "start_time": "2021-10-20T04:01:46.909Z"
   },
   {
    "duration": -108,
    "start_time": "2021-10-20T04:01:46.911Z"
   },
   {
    "duration": 734,
    "start_time": "2021-10-20T04:03:36.972Z"
   },
   {
    "duration": 9,
    "start_time": "2021-10-20T04:04:19.357Z"
   },
   {
    "duration": 12,
    "start_time": "2021-10-20T04:04:43.607Z"
   },
   {
    "duration": 629,
    "start_time": "2021-10-20T04:06:39.437Z"
   },
   {
    "duration": 661,
    "start_time": "2021-10-20T04:07:18.591Z"
   },
   {
    "duration": 536,
    "start_time": "2021-10-20T04:07:32.267Z"
   },
   {
    "duration": 534,
    "start_time": "2021-10-20T04:07:46.619Z"
   },
   {
    "duration": 529,
    "start_time": "2021-10-20T04:08:07.336Z"
   },
   {
    "duration": 500,
    "start_time": "2021-10-20T04:08:17.701Z"
   },
   {
    "duration": 529,
    "start_time": "2021-10-20T04:08:29.974Z"
   },
   {
    "duration": 562,
    "start_time": "2021-10-20T04:09:41.506Z"
   },
   {
    "duration": 387,
    "start_time": "2021-10-20T04:11:20.148Z"
   },
   {
    "duration": 390,
    "start_time": "2021-10-20T04:11:43.699Z"
   },
   {
    "duration": 476,
    "start_time": "2021-10-20T04:12:14.533Z"
   },
   {
    "duration": 399,
    "start_time": "2021-10-20T04:25:16.887Z"
   },
   {
    "duration": 416,
    "start_time": "2021-10-20T04:25:27.778Z"
   },
   {
    "duration": 805,
    "start_time": "2021-10-20T04:25:44.178Z"
   },
   {
    "duration": 1054,
    "start_time": "2021-11-03T15:04:33.895Z"
   },
   {
    "duration": 4,
    "start_time": "2021-11-03T15:04:34.950Z"
   },
   {
    "duration": 6,
    "start_time": "2021-11-03T15:04:34.956Z"
   },
   {
    "duration": 167,
    "start_time": "2021-11-03T15:04:34.964Z"
   },
   {
    "duration": 11,
    "start_time": "2021-11-03T15:04:35.133Z"
   },
   {
    "duration": 10,
    "start_time": "2021-11-03T15:04:35.146Z"
   },
   {
    "duration": 7,
    "start_time": "2021-11-03T15:04:35.158Z"
   },
   {
    "duration": 11,
    "start_time": "2021-11-03T15:04:35.167Z"
   },
   {
    "duration": 10,
    "start_time": "2021-11-03T15:04:35.181Z"
   },
   {
    "duration": 16,
    "start_time": "2021-11-03T15:04:35.193Z"
   },
   {
    "duration": 336,
    "start_time": "2021-11-03T15:04:35.211Z"
   },
   {
    "duration": 262,
    "start_time": "2021-11-03T15:04:35.548Z"
   },
   {
    "duration": 6,
    "start_time": "2021-11-03T15:04:35.811Z"
   },
   {
    "duration": 66,
    "start_time": "2021-11-03T15:04:35.819Z"
   },
   {
    "duration": -1117,
    "start_time": "2021-11-03T15:04:37.004Z"
   },
   {
    "duration": -1118,
    "start_time": "2021-11-03T15:04:37.006Z"
   },
   {
    "duration": -1133,
    "start_time": "2021-11-03T15:04:37.022Z"
   },
   {
    "duration": -1135,
    "start_time": "2021-11-03T15:04:37.025Z"
   },
   {
    "duration": -1136,
    "start_time": "2021-11-03T15:04:37.028Z"
   },
   {
    "duration": -1140,
    "start_time": "2021-11-03T15:04:37.033Z"
   },
   {
    "duration": -1191,
    "start_time": "2021-11-03T15:04:37.085Z"
   },
   {
    "duration": -1194,
    "start_time": "2021-11-03T15:04:37.088Z"
   },
   {
    "duration": -1200,
    "start_time": "2021-11-03T15:04:37.095Z"
   },
   {
    "duration": -1201,
    "start_time": "2021-11-03T15:04:37.098Z"
   },
   {
    "duration": -1204,
    "start_time": "2021-11-03T15:04:37.101Z"
   },
   {
    "duration": -1205,
    "start_time": "2021-11-03T15:04:37.103Z"
   },
   {
    "duration": -1259,
    "start_time": "2021-11-03T15:04:37.158Z"
   },
   {
    "duration": -1261,
    "start_time": "2021-11-03T15:04:37.161Z"
   },
   {
    "duration": 271,
    "start_time": "2021-11-03T15:08:54.653Z"
   },
   {
    "duration": 1512,
    "start_time": "2021-11-03T15:09:11.031Z"
   },
   {
    "duration": 1540,
    "start_time": "2021-11-03T15:09:41.921Z"
   },
   {
    "duration": 1637,
    "start_time": "2021-11-03T15:09:59.969Z"
   },
   {
    "duration": 1658,
    "start_time": "2021-11-03T15:10:13.050Z"
   },
   {
    "duration": 1679,
    "start_time": "2021-11-03T15:11:00.192Z"
   },
   {
    "duration": 1704,
    "start_time": "2021-11-03T15:12:21.849Z"
   },
   {
    "duration": 3261,
    "start_time": "2021-11-03T15:13:17.049Z"
   },
   {
    "duration": 175,
    "start_time": "2021-11-03T16:23:56.947Z"
   },
   {
    "duration": 176,
    "start_time": "2021-11-03T16:24:10.577Z"
   },
   {
    "duration": 4,
    "start_time": "2021-11-03T16:24:48.013Z"
   },
   {
    "duration": 2264,
    "start_time": "2021-11-03T16:26:51.766Z"
   },
   {
    "duration": 3211,
    "start_time": "2021-11-03T16:28:33.677Z"
   },
   {
    "duration": 3161,
    "start_time": "2021-11-03T16:29:35.603Z"
   },
   {
    "duration": 2304,
    "start_time": "2021-11-03T16:30:16.687Z"
   },
   {
    "duration": 176,
    "start_time": "2021-11-03T16:31:07.725Z"
   },
   {
    "duration": 4,
    "start_time": "2021-11-03T16:31:26.927Z"
   },
   {
    "duration": 4,
    "start_time": "2021-11-03T16:31:40.431Z"
   },
   {
    "duration": 58,
    "start_time": "2021-11-03T16:31:54.260Z"
   },
   {
    "duration": 3,
    "start_time": "2021-11-03T16:37:10.247Z"
   },
   {
    "duration": 4,
    "start_time": "2021-11-03T16:38:07.871Z"
   },
   {
    "duration": 174,
    "start_time": "2021-11-03T16:42:08.822Z"
   },
   {
    "duration": 183,
    "start_time": "2021-11-03T16:43:01.449Z"
   },
   {
    "duration": 177,
    "start_time": "2021-11-03T16:45:09.539Z"
   },
   {
    "duration": 188,
    "start_time": "2021-11-03T16:45:30.641Z"
   },
   {
    "duration": 4,
    "start_time": "2021-11-03T16:45:39.361Z"
   },
   {
    "duration": 5,
    "start_time": "2021-11-03T16:46:08.333Z"
   },
   {
    "duration": 4,
    "start_time": "2021-11-03T16:46:39.706Z"
   },
   {
    "duration": 5,
    "start_time": "2021-11-03T16:46:53.962Z"
   },
   {
    "duration": 5,
    "start_time": "2021-11-03T16:48:00.405Z"
   },
   {
    "duration": 8,
    "start_time": "2021-11-03T17:02:03.789Z"
   },
   {
    "duration": 189,
    "start_time": "2021-11-03T17:02:54.256Z"
   },
   {
    "duration": 6,
    "start_time": "2021-11-03T17:03:17.535Z"
   },
   {
    "duration": 6,
    "start_time": "2021-11-03T17:03:32.693Z"
   },
   {
    "duration": 6,
    "start_time": "2021-11-03T17:03:40.364Z"
   },
   {
    "duration": 170,
    "start_time": "2021-11-03T17:03:54.529Z"
   },
   {
    "duration": 5,
    "start_time": "2021-11-03T17:06:49.529Z"
   },
   {
    "duration": 5,
    "start_time": "2021-11-03T17:09:03.344Z"
   },
   {
    "duration": 8,
    "start_time": "2021-11-03T17:11:37.396Z"
   },
   {
    "duration": 9,
    "start_time": "2021-11-03T17:33:18.984Z"
   },
   {
    "duration": 8,
    "start_time": "2021-11-03T17:33:33.263Z"
   },
   {
    "duration": 181,
    "start_time": "2021-11-03T17:34:02.053Z"
   },
   {
    "duration": 5,
    "start_time": "2021-11-03T17:34:59.693Z"
   },
   {
    "duration": 178,
    "start_time": "2021-11-03T17:35:09.773Z"
   },
   {
    "duration": 3,
    "start_time": "2021-11-03T17:41:11.766Z"
   },
   {
    "duration": 5,
    "start_time": "2021-11-03T17:44:04.049Z"
   },
   {
    "duration": 6,
    "start_time": "2021-11-03T17:44:14.667Z"
   },
   {
    "duration": 6,
    "start_time": "2021-11-03T17:44:37.322Z"
   },
   {
    "duration": 10,
    "start_time": "2021-11-03T17:44:54.967Z"
   },
   {
    "duration": 55,
    "start_time": "2021-11-03T17:46:12.064Z"
   },
   {
    "duration": 6,
    "start_time": "2021-11-03T17:46:25.368Z"
   },
   {
    "duration": 10,
    "start_time": "2021-11-03T17:50:45.485Z"
   },
   {
    "duration": 8,
    "start_time": "2021-11-03T17:53:21.754Z"
   },
   {
    "duration": 176,
    "start_time": "2021-11-03T17:53:49.557Z"
   },
   {
    "duration": 172,
    "start_time": "2021-11-03T18:08:36.443Z"
   },
   {
    "duration": 6,
    "start_time": "2021-11-03T18:11:51.596Z"
   },
   {
    "duration": 179,
    "start_time": "2021-11-03T18:11:57.610Z"
   },
   {
    "duration": 9,
    "start_time": "2021-11-03T18:12:34.057Z"
   },
   {
    "duration": 174,
    "start_time": "2021-11-03T20:35:44.624Z"
   },
   {
    "duration": 5895,
    "start_time": "2021-11-03T20:36:08.767Z"
   },
   {
    "duration": 5,
    "start_time": "2021-11-03T20:36:46.562Z"
   },
   {
    "duration": 184,
    "start_time": "2021-11-03T20:57:38.444Z"
   },
   {
    "duration": 1067,
    "start_time": "2021-11-03T20:58:36.964Z"
   },
   {
    "duration": 3,
    "start_time": "2021-11-03T20:58:38.033Z"
   },
   {
    "duration": 7,
    "start_time": "2021-11-03T20:58:38.038Z"
   },
   {
    "duration": 94,
    "start_time": "2021-11-03T20:58:38.046Z"
   },
   {
    "duration": 10,
    "start_time": "2021-11-03T20:58:38.142Z"
   },
   {
    "duration": 8,
    "start_time": "2021-11-03T20:58:38.153Z"
   },
   {
    "duration": 9,
    "start_time": "2021-11-03T20:58:38.162Z"
   },
   {
    "duration": 9,
    "start_time": "2021-11-03T20:58:38.172Z"
   },
   {
    "duration": 4,
    "start_time": "2021-11-03T20:58:38.183Z"
   },
   {
    "duration": 12,
    "start_time": "2021-11-03T20:58:38.189Z"
   },
   {
    "duration": 327,
    "start_time": "2021-11-03T20:58:38.203Z"
   },
   {
    "duration": 257,
    "start_time": "2021-11-03T20:58:38.532Z"
   },
   {
    "duration": 5,
    "start_time": "2021-11-03T20:58:38.790Z"
   },
   {
    "duration": 3115,
    "start_time": "2021-11-03T20:58:38.797Z"
   },
   {
    "duration": 6,
    "start_time": "2021-11-03T20:58:41.914Z"
   },
   {
    "duration": 10,
    "start_time": "2021-11-03T20:58:41.922Z"
   },
   {
    "duration": 5,
    "start_time": "2021-11-03T20:58:41.933Z"
   },
   {
    "duration": 10,
    "start_time": "2021-11-03T20:58:41.940Z"
   },
   {
    "duration": 44,
    "start_time": "2021-11-03T20:58:41.951Z"
   },
   {
    "duration": 10,
    "start_time": "2021-11-03T20:58:41.996Z"
   },
   {
    "duration": 268,
    "start_time": "2021-11-03T20:58:42.007Z"
   },
   {
    "duration": -910,
    "start_time": "2021-11-03T20:58:43.187Z"
   },
   {
    "duration": -913,
    "start_time": "2021-11-03T20:58:43.191Z"
   },
   {
    "duration": -913,
    "start_time": "2021-11-03T20:58:43.192Z"
   },
   {
    "duration": -914,
    "start_time": "2021-11-03T20:58:43.194Z"
   },
   {
    "duration": 173,
    "start_time": "2021-11-03T21:00:46.237Z"
   },
   {
    "duration": 186,
    "start_time": "2021-11-03T21:02:15.703Z"
   },
   {
    "duration": 180,
    "start_time": "2021-11-03T21:03:00.938Z"
   },
   {
    "duration": 8,
    "start_time": "2021-11-03T21:06:31.515Z"
   },
   {
    "duration": 173,
    "start_time": "2021-11-03T21:07:31.226Z"
   },
   {
    "duration": 200,
    "start_time": "2021-11-03T21:08:30.207Z"
   },
   {
    "duration": 187,
    "start_time": "2021-11-03T21:09:10.866Z"
   },
   {
    "duration": 9,
    "start_time": "2021-11-03T21:09:36.400Z"
   },
   {
    "duration": 7,
    "start_time": "2021-11-03T21:10:28.652Z"
   },
   {
    "duration": 189,
    "start_time": "2021-11-03T21:29:14.058Z"
   },
   {
    "duration": 209,
    "start_time": "2021-11-03T21:29:48.978Z"
   },
   {
    "duration": 182,
    "start_time": "2021-11-03T21:30:09.884Z"
   },
   {
    "duration": 60,
    "start_time": "2021-11-03T21:30:43.526Z"
   },
   {
    "duration": 7,
    "start_time": "2021-11-03T21:30:52.173Z"
   },
   {
    "duration": 188,
    "start_time": "2021-11-03T21:31:00.124Z"
   },
   {
    "duration": 7,
    "start_time": "2021-11-03T21:31:25.097Z"
   },
   {
    "duration": 8,
    "start_time": "2021-11-03T21:32:07.519Z"
   },
   {
    "duration": 1207,
    "start_time": "2021-11-04T00:43:09.526Z"
   },
   {
    "duration": 3,
    "start_time": "2021-11-04T00:43:10.735Z"
   },
   {
    "duration": 17,
    "start_time": "2021-11-04T00:43:10.740Z"
   },
   {
    "duration": 143,
    "start_time": "2021-11-04T00:43:10.759Z"
   },
   {
    "duration": 10,
    "start_time": "2021-11-04T00:43:10.904Z"
   },
   {
    "duration": 10,
    "start_time": "2021-11-04T00:43:10.916Z"
   },
   {
    "duration": 10,
    "start_time": "2021-11-04T00:43:10.927Z"
   },
   {
    "duration": 13,
    "start_time": "2021-11-04T00:43:10.940Z"
   },
   {
    "duration": 8,
    "start_time": "2021-11-04T00:43:11.601Z"
   },
   {
    "duration": 12,
    "start_time": "2021-11-04T00:43:11.763Z"
   },
   {
    "duration": 587,
    "start_time": "2021-11-04T00:43:11.991Z"
   },
   {
    "duration": 348,
    "start_time": "2021-11-04T00:43:12.691Z"
   },
   {
    "duration": 6,
    "start_time": "2021-11-04T00:43:13.168Z"
   },
   {
    "duration": 4685,
    "start_time": "2021-11-04T00:43:13.604Z"
   },
   {
    "duration": 6,
    "start_time": "2021-11-04T00:43:18.291Z"
   },
   {
    "duration": 24,
    "start_time": "2021-11-04T00:43:18.299Z"
   },
   {
    "duration": 9,
    "start_time": "2021-11-04T00:43:18.325Z"
   },
   {
    "duration": 31,
    "start_time": "2021-11-04T00:43:18.336Z"
   },
   {
    "duration": 11,
    "start_time": "2021-11-04T00:43:18.369Z"
   },
   {
    "duration": 15,
    "start_time": "2021-11-04T00:43:18.382Z"
   },
   {
    "duration": 19,
    "start_time": "2021-11-04T00:43:18.399Z"
   },
   {
    "duration": 16,
    "start_time": "2021-11-04T00:43:18.420Z"
   },
   {
    "duration": 328,
    "start_time": "2021-11-04T00:43:18.438Z"
   },
   {
    "duration": -950,
    "start_time": "2021-11-04T00:43:19.718Z"
   },
   {
    "duration": -949,
    "start_time": "2021-11-04T00:43:19.718Z"
   },
   {
    "duration": 7,
    "start_time": "2021-11-04T00:43:19.934Z"
   },
   {
    "duration": 1090,
    "start_time": "2021-11-04T02:57:34.385Z"
   },
   {
    "duration": 3,
    "start_time": "2021-11-04T02:57:35.477Z"
   },
   {
    "duration": 15,
    "start_time": "2021-11-04T02:57:35.490Z"
   },
   {
    "duration": 85,
    "start_time": "2021-11-04T02:57:35.507Z"
   },
   {
    "duration": 10,
    "start_time": "2021-11-04T02:57:35.593Z"
   },
   {
    "duration": 17,
    "start_time": "2021-11-04T02:57:35.604Z"
   },
   {
    "duration": 25,
    "start_time": "2021-11-04T02:57:35.622Z"
   },
   {
    "duration": 27,
    "start_time": "2021-11-04T02:57:35.649Z"
   },
   {
    "duration": 14,
    "start_time": "2021-11-04T02:57:35.677Z"
   },
   {
    "duration": 29,
    "start_time": "2021-11-04T02:57:35.692Z"
   },
   {
    "duration": 333,
    "start_time": "2021-11-04T02:57:35.722Z"
   },
   {
    "duration": 249,
    "start_time": "2021-11-04T02:57:36.056Z"
   },
   {
    "duration": 5,
    "start_time": "2021-11-04T02:57:36.307Z"
   },
   {
    "duration": 3114,
    "start_time": "2021-11-04T02:57:36.313Z"
   },
   {
    "duration": 6,
    "start_time": "2021-11-04T02:57:39.428Z"
   },
   {
    "duration": 10,
    "start_time": "2021-11-04T02:57:39.435Z"
   },
   {
    "duration": 13,
    "start_time": "2021-11-04T02:57:39.446Z"
   },
   {
    "duration": 32,
    "start_time": "2021-11-04T02:57:39.461Z"
   },
   {
    "duration": 7,
    "start_time": "2021-11-04T02:57:39.494Z"
   },
   {
    "duration": 19,
    "start_time": "2021-11-04T02:59:28.271Z"
   },
   {
    "duration": 11,
    "start_time": "2021-11-04T02:59:49.527Z"
   },
   {
    "duration": 12,
    "start_time": "2021-11-04T03:00:10.720Z"
   },
   {
    "duration": 11,
    "start_time": "2021-11-04T03:00:27.362Z"
   },
   {
    "duration": 12,
    "start_time": "2021-11-04T03:01:53.570Z"
   },
   {
    "duration": 262,
    "start_time": "2021-11-04T03:02:08.460Z"
   },
   {
    "duration": 12,
    "start_time": "2021-11-04T03:02:17.864Z"
   },
   {
    "duration": 13,
    "start_time": "2021-11-04T03:02:49.455Z"
   },
   {
    "duration": 13,
    "start_time": "2021-11-04T03:03:25.934Z"
   },
   {
    "duration": 11,
    "start_time": "2021-11-04T03:14:51.708Z"
   },
   {
    "duration": 10,
    "start_time": "2021-11-04T03:15:18.235Z"
   },
   {
    "duration": 10,
    "start_time": "2021-11-04T03:18:23.018Z"
   },
   {
    "duration": 10,
    "start_time": "2021-11-04T03:18:45.718Z"
   },
   {
    "duration": 9,
    "start_time": "2021-11-04T03:20:13.796Z"
   },
   {
    "duration": 1066,
    "start_time": "2021-11-04T03:29:13.964Z"
   },
   {
    "duration": 4,
    "start_time": "2021-11-04T03:29:15.031Z"
   },
   {
    "duration": 7,
    "start_time": "2021-11-04T03:29:15.037Z"
   },
   {
    "duration": 56,
    "start_time": "2021-11-04T03:29:15.046Z"
   },
   {
    "duration": 10,
    "start_time": "2021-11-04T03:29:15.103Z"
   },
   {
    "duration": 8,
    "start_time": "2021-11-04T03:29:15.114Z"
   },
   {
    "duration": 8,
    "start_time": "2021-11-04T03:29:15.123Z"
   },
   {
    "duration": 8,
    "start_time": "2021-11-04T03:29:15.133Z"
   },
   {
    "duration": 4,
    "start_time": "2021-11-04T03:29:15.144Z"
   },
   {
    "duration": 45,
    "start_time": "2021-11-04T03:29:15.150Z"
   },
   {
    "duration": 337,
    "start_time": "2021-11-04T03:29:15.197Z"
   },
   {
    "duration": 251,
    "start_time": "2021-11-04T03:29:15.535Z"
   },
   {
    "duration": 4,
    "start_time": "2021-11-04T03:29:15.791Z"
   },
   {
    "duration": 3183,
    "start_time": "2021-11-04T03:29:15.797Z"
   },
   {
    "duration": 5,
    "start_time": "2021-11-04T03:29:18.981Z"
   },
   {
    "duration": 12,
    "start_time": "2021-11-04T03:29:18.991Z"
   },
   {
    "duration": 14,
    "start_time": "2021-11-04T03:29:19.004Z"
   },
   {
    "duration": 11,
    "start_time": "2021-11-04T03:29:19.020Z"
   },
   {
    "duration": 11,
    "start_time": "2021-11-04T03:29:19.033Z"
   },
   {
    "duration": 53,
    "start_time": "2021-11-04T03:29:19.046Z"
   },
   {
    "duration": 9,
    "start_time": "2021-11-04T03:29:19.100Z"
   },
   {
    "duration": 10,
    "start_time": "2021-11-04T03:29:19.111Z"
   },
   {
    "duration": 1046,
    "start_time": "2021-11-04T03:33:30.279Z"
   },
   {
    "duration": 4,
    "start_time": "2021-11-04T03:33:31.326Z"
   },
   {
    "duration": 7,
    "start_time": "2021-11-04T03:33:31.332Z"
   },
   {
    "duration": 57,
    "start_time": "2021-11-04T03:33:31.341Z"
   },
   {
    "duration": 10,
    "start_time": "2021-11-04T03:33:31.400Z"
   },
   {
    "duration": 8,
    "start_time": "2021-11-04T03:33:31.411Z"
   },
   {
    "duration": 8,
    "start_time": "2021-11-04T03:33:31.421Z"
   },
   {
    "duration": 7,
    "start_time": "2021-11-04T03:33:31.431Z"
   },
   {
    "duration": 5,
    "start_time": "2021-11-04T03:33:31.440Z"
   },
   {
    "duration": 46,
    "start_time": "2021-11-04T03:33:31.447Z"
   },
   {
    "duration": 337,
    "start_time": "2021-11-04T03:33:31.494Z"
   },
   {
    "duration": 256,
    "start_time": "2021-11-04T03:33:31.832Z"
   },
   {
    "duration": 6,
    "start_time": "2021-11-04T03:33:32.091Z"
   },
   {
    "duration": 3099,
    "start_time": "2021-11-04T03:33:32.098Z"
   },
   {
    "duration": 5,
    "start_time": "2021-11-04T03:33:35.199Z"
   },
   {
    "duration": 11,
    "start_time": "2021-11-04T03:33:35.206Z"
   },
   {
    "duration": 12,
    "start_time": "2021-11-04T03:33:35.219Z"
   },
   {
    "duration": 10,
    "start_time": "2021-11-04T03:33:35.233Z"
   },
   {
    "duration": 47,
    "start_time": "2021-11-04T03:33:35.245Z"
   },
   {
    "duration": 13,
    "start_time": "2021-11-04T03:33:35.294Z"
   },
   {
    "duration": 10,
    "start_time": "2021-11-04T03:33:35.308Z"
   },
   {
    "duration": 11,
    "start_time": "2021-11-04T03:33:35.319Z"
   }
  ],
  "kernelspec": {
   "display_name": "Python 3",
   "language": "python",
   "name": "python3"
  },
  "language_info": {
   "codemirror_mode": {
    "name": "ipython",
    "version": 3
   },
   "file_extension": ".py",
   "mimetype": "text/x-python",
   "name": "python",
   "nbconvert_exporter": "python",
   "pygments_lexer": "ipython3",
   "version": "3.7.6"
  },
  "toc": {
   "base_numbering": 1,
   "nav_menu": {},
   "number_sections": true,
   "sideBar": true,
   "skip_h1_title": true,
   "title_cell": "Table of Contents",
   "title_sidebar": "Contents",
   "toc_cell": false,
   "toc_position": {},
   "toc_section_display": true,
   "toc_window_display": false
  }
 },
 "nbformat": 4,
 "nbformat_minor": 2
}

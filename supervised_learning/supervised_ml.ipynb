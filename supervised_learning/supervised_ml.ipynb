{
 "cells": [
  {
   "cell_type": "markdown",
   "metadata": {},
   "source": [
    "Scenario:\n",
    "\n",
    "Beta Bank customers are leaving and we've been asked to predict whether a customer will leave the bank soon using data on clients’ past behavior and termination of contracts with the bank.\n",
    "\n",
    "<a class=\"anchor\" id=\"table_of_contents\">Overall Plan / Table of Contents</a>\n",
    "\n",
    "- [Download and prepare the data](#prepare_data)\n",
    "- [Change data types](#datatypes)\n",
    "- [One hot encoding](#ohe)\n",
    "- [Divide dataframes into 3 groups](#split)\n",
    "- [Examine the balance of classes](#balance)\n",
    "- [Write print scores function](#scorefx)\n",
    "- [Train the model without balance adjustments](#unbalanced)\n",
    "- [Train different models and find the best one](#bestmodel)\n",
    "- [Build a model with the maximum possible F1 score (at least 0.59)](#f1)\n",
    "- [Perform final testing where F1 score >= 0.59](#testing)\n",
    "- [Measure the AUC ROC metric and compare it with F1](#aucroc)\n",
    "\n",
    "Data source: https://www.kaggle.com/barelydedicated/bank-customer-churn-\n",
    "\n",
    "Target: Exited — сustomer has left\n",
    "\n",
    "Question: Predict if a customer will leave the bank"
   ]
  },
  {
   "cell_type": "code",
   "execution_count": 1,
   "metadata": {},
   "outputs": [],
   "source": [
    "# import libraries\n",
    "import pandas as pd\n",
    "import numpy as np\n",
    "import matplotlib.pyplot as plt\n",
    "from sklearn.ensemble import RandomForestClassifier\n",
    "from sklearn.tree import DecisionTreeClassifier\n",
    "from sklearn.linear_model import LogisticRegression\n",
    "from sklearn.model_selection import train_test_split\n",
    "from sklearn.metrics import accuracy_score\n",
    "from sklearn.metrics import mean_squared_error\n",
    "from sklearn.dummy import DummyClassifier\n",
    "from sklearn.metrics import recall_score\n",
    "from sklearn.metrics import precision_score\n",
    "from sklearn.metrics import f1_score\n",
    "from sklearn.metrics import confusion_matrix \n",
    "from sklearn.metrics import balanced_accuracy_score\n",
    "from sklearn.metrics import roc_auc_score\n",
    "from sklearn.preprocessing import OrdinalEncoder\n",
    "from sklearn.preprocessing import StandardScaler\n",
    "from sklearn.metrics import classification_report\n",
    "from sklearn.utils import shuffle \n",
    "from sklearn.metrics import roc_curve\n",
    "import random\n",
    "import time\n",
    "\n",
    "\n",
    "# import sys and insert code to ignore warnings \n",
    "import sys\n",
    "if not sys.warnoptions:\n",
    "    import warnings\n",
    "    warnings.simplefilter(\"ignore\")"
   ]
  },
  {
   "cell_type": "markdown",
   "metadata": {},
   "source": [
    "**[Return to table of contents](#table_of_contents)**\n",
    "\n",
    "<a class=\"anchor\" id=\"prepare_data\">Download and prepare the data</a>"
   ]
  },
  {
   "cell_type": "code",
   "execution_count": 2,
   "metadata": {},
   "outputs": [
    {
     "data": {
      "text/html": [
       "<div>\n",
       "<style scoped>\n",
       "    .dataframe tbody tr th:only-of-type {\n",
       "        vertical-align: middle;\n",
       "    }\n",
       "\n",
       "    .dataframe tbody tr th {\n",
       "        vertical-align: top;\n",
       "    }\n",
       "\n",
       "    .dataframe thead th {\n",
       "        text-align: right;\n",
       "    }\n",
       "</style>\n",
       "<table border=\"1\" class=\"dataframe\">\n",
       "  <thead>\n",
       "    <tr style=\"text-align: right;\">\n",
       "      <th></th>\n",
       "      <th>RowNumber</th>\n",
       "      <th>CustomerId</th>\n",
       "      <th>Surname</th>\n",
       "      <th>CreditScore</th>\n",
       "      <th>Geography</th>\n",
       "      <th>Gender</th>\n",
       "      <th>Age</th>\n",
       "      <th>Tenure</th>\n",
       "      <th>Balance</th>\n",
       "      <th>NumOfProducts</th>\n",
       "      <th>HasCrCard</th>\n",
       "      <th>IsActiveMember</th>\n",
       "      <th>EstimatedSalary</th>\n",
       "      <th>Exited</th>\n",
       "    </tr>\n",
       "  </thead>\n",
       "  <tbody>\n",
       "    <tr>\n",
       "      <td>0</td>\n",
       "      <td>1</td>\n",
       "      <td>15634602</td>\n",
       "      <td>Hargrave</td>\n",
       "      <td>619</td>\n",
       "      <td>France</td>\n",
       "      <td>Female</td>\n",
       "      <td>42</td>\n",
       "      <td>2.0</td>\n",
       "      <td>0.00</td>\n",
       "      <td>1</td>\n",
       "      <td>1</td>\n",
       "      <td>1</td>\n",
       "      <td>101348.88</td>\n",
       "      <td>1</td>\n",
       "    </tr>\n",
       "    <tr>\n",
       "      <td>1</td>\n",
       "      <td>2</td>\n",
       "      <td>15647311</td>\n",
       "      <td>Hill</td>\n",
       "      <td>608</td>\n",
       "      <td>Spain</td>\n",
       "      <td>Female</td>\n",
       "      <td>41</td>\n",
       "      <td>1.0</td>\n",
       "      <td>83807.86</td>\n",
       "      <td>1</td>\n",
       "      <td>0</td>\n",
       "      <td>1</td>\n",
       "      <td>112542.58</td>\n",
       "      <td>0</td>\n",
       "    </tr>\n",
       "    <tr>\n",
       "      <td>2</td>\n",
       "      <td>3</td>\n",
       "      <td>15619304</td>\n",
       "      <td>Onio</td>\n",
       "      <td>502</td>\n",
       "      <td>France</td>\n",
       "      <td>Female</td>\n",
       "      <td>42</td>\n",
       "      <td>8.0</td>\n",
       "      <td>159660.80</td>\n",
       "      <td>3</td>\n",
       "      <td>1</td>\n",
       "      <td>0</td>\n",
       "      <td>113931.57</td>\n",
       "      <td>1</td>\n",
       "    </tr>\n",
       "    <tr>\n",
       "      <td>3</td>\n",
       "      <td>4</td>\n",
       "      <td>15701354</td>\n",
       "      <td>Boni</td>\n",
       "      <td>699</td>\n",
       "      <td>France</td>\n",
       "      <td>Female</td>\n",
       "      <td>39</td>\n",
       "      <td>1.0</td>\n",
       "      <td>0.00</td>\n",
       "      <td>2</td>\n",
       "      <td>0</td>\n",
       "      <td>0</td>\n",
       "      <td>93826.63</td>\n",
       "      <td>0</td>\n",
       "    </tr>\n",
       "    <tr>\n",
       "      <td>4</td>\n",
       "      <td>5</td>\n",
       "      <td>15737888</td>\n",
       "      <td>Mitchell</td>\n",
       "      <td>850</td>\n",
       "      <td>Spain</td>\n",
       "      <td>Female</td>\n",
       "      <td>43</td>\n",
       "      <td>2.0</td>\n",
       "      <td>125510.82</td>\n",
       "      <td>1</td>\n",
       "      <td>1</td>\n",
       "      <td>1</td>\n",
       "      <td>79084.10</td>\n",
       "      <td>0</td>\n",
       "    </tr>\n",
       "  </tbody>\n",
       "</table>\n",
       "</div>"
      ],
      "text/plain": [
       "   RowNumber  CustomerId   Surname  CreditScore Geography  Gender  Age  \\\n",
       "0          1    15634602  Hargrave          619    France  Female   42   \n",
       "1          2    15647311      Hill          608     Spain  Female   41   \n",
       "2          3    15619304      Onio          502    France  Female   42   \n",
       "3          4    15701354      Boni          699    France  Female   39   \n",
       "4          5    15737888  Mitchell          850     Spain  Female   43   \n",
       "\n",
       "   Tenure    Balance  NumOfProducts  HasCrCard  IsActiveMember  \\\n",
       "0     2.0       0.00              1          1               1   \n",
       "1     1.0   83807.86              1          0               1   \n",
       "2     8.0  159660.80              3          1               0   \n",
       "3     1.0       0.00              2          0               0   \n",
       "4     2.0  125510.82              1          1               1   \n",
       "\n",
       "   EstimatedSalary  Exited  \n",
       "0        101348.88       1  \n",
       "1        112542.58       0  \n",
       "2        113931.57       1  \n",
       "3         93826.63       0  \n",
       "4         79084.10       0  "
      ]
     },
     "execution_count": 2,
     "metadata": {},
     "output_type": "execute_result"
    }
   ],
   "source": [
    "# load the data \n",
    "try:\n",
    "    df = pd.read_csv('/datasets/Churn.csv')\n",
    "except:\n",
    "    print('ERROR: Unable to find or access file.')\n",
    "df.head()"
   ]
  },
  {
   "cell_type": "code",
   "execution_count": 3,
   "metadata": {},
   "outputs": [
    {
     "data": {
      "text/plain": [
       "(10000, 14)"
      ]
     },
     "execution_count": 3,
     "metadata": {},
     "output_type": "execute_result"
    }
   ],
   "source": [
    "# check columns, rows\n",
    "df.shape"
   ]
  },
  {
   "cell_type": "code",
   "execution_count": 4,
   "metadata": {},
   "outputs": [
    {
     "data": {
      "text/html": [
       "<div>\n",
       "<style scoped>\n",
       "    .dataframe tbody tr th:only-of-type {\n",
       "        vertical-align: middle;\n",
       "    }\n",
       "\n",
       "    .dataframe tbody tr th {\n",
       "        vertical-align: top;\n",
       "    }\n",
       "\n",
       "    .dataframe thead th {\n",
       "        text-align: right;\n",
       "    }\n",
       "</style>\n",
       "<table border=\"1\" class=\"dataframe\">\n",
       "  <thead>\n",
       "    <tr style=\"text-align: right;\">\n",
       "      <th></th>\n",
       "      <th>RowNumber</th>\n",
       "      <th>CustomerId</th>\n",
       "      <th>Surname</th>\n",
       "      <th>CreditScore</th>\n",
       "      <th>Geography</th>\n",
       "      <th>Gender</th>\n",
       "      <th>Age</th>\n",
       "      <th>Tenure</th>\n",
       "      <th>Balance</th>\n",
       "      <th>NumOfProducts</th>\n",
       "      <th>HasCrCard</th>\n",
       "      <th>IsActiveMember</th>\n",
       "      <th>EstimatedSalary</th>\n",
       "      <th>Exited</th>\n",
       "    </tr>\n",
       "  </thead>\n",
       "  <tbody>\n",
       "  </tbody>\n",
       "</table>\n",
       "</div>"
      ],
      "text/plain": [
       "Empty DataFrame\n",
       "Columns: [RowNumber, CustomerId, Surname, CreditScore, Geography, Gender, Age, Tenure, Balance, NumOfProducts, HasCrCard, IsActiveMember, EstimatedSalary, Exited]\n",
       "Index: []"
      ]
     },
     "execution_count": 4,
     "metadata": {},
     "output_type": "execute_result"
    }
   ],
   "source": [
    "# check for duplicates\n",
    "df[df.duplicated()]"
   ]
  },
  {
   "cell_type": "code",
   "execution_count": 5,
   "metadata": {},
   "outputs": [
    {
     "name": "stdout",
     "output_type": "stream",
     "text": [
      "<class 'pandas.core.frame.DataFrame'>\n",
      "RangeIndex: 10000 entries, 0 to 9999\n",
      "Data columns (total 14 columns):\n",
      "RowNumber          10000 non-null int64\n",
      "CustomerId         10000 non-null int64\n",
      "Surname            10000 non-null object\n",
      "CreditScore        10000 non-null int64\n",
      "Geography          10000 non-null object\n",
      "Gender             10000 non-null object\n",
      "Age                10000 non-null int64\n",
      "Tenure             9091 non-null float64\n",
      "Balance            10000 non-null float64\n",
      "NumOfProducts      10000 non-null int64\n",
      "HasCrCard          10000 non-null int64\n",
      "IsActiveMember     10000 non-null int64\n",
      "EstimatedSalary    10000 non-null float64\n",
      "Exited             10000 non-null int64\n",
      "dtypes: float64(3), int64(8), object(3)\n",
      "memory usage: 1.1+ MB\n"
     ]
    }
   ],
   "source": [
    "# check info\n",
    "df.info()"
   ]
  },
  {
   "cell_type": "code",
   "execution_count": 6,
   "metadata": {},
   "outputs": [
    {
     "data": {
      "text/plain": [
       "int64      8\n",
       "object     3\n",
       "float64    3\n",
       "dtype: int64"
      ]
     },
     "execution_count": 6,
     "metadata": {},
     "output_type": "execute_result"
    }
   ],
   "source": [
    "# print composition of data types\n",
    "df.dtypes.value_counts()"
   ]
  },
  {
   "cell_type": "code",
   "execution_count": 7,
   "metadata": {},
   "outputs": [
    {
     "data": {
      "text/plain": [
       "RowNumber            0\n",
       "CustomerId           0\n",
       "Surname              0\n",
       "CreditScore          0\n",
       "Geography            0\n",
       "Gender               0\n",
       "Age                  0\n",
       "Tenure             909\n",
       "Balance              0\n",
       "NumOfProducts        0\n",
       "HasCrCard            0\n",
       "IsActiveMember       0\n",
       "EstimatedSalary      0\n",
       "Exited               0\n",
       "dtype: int64"
      ]
     },
     "execution_count": 7,
     "metadata": {},
     "output_type": "execute_result"
    }
   ],
   "source": [
    "# check for na values\n",
    "df.isna().sum()"
   ]
  },
  {
   "cell_type": "code",
   "execution_count": 8,
   "metadata": {},
   "outputs": [
    {
     "name": "stdout",
     "output_type": "stream",
     "text": [
      "Statistics\n"
     ]
    },
    {
     "data": {
      "text/html": [
       "<div>\n",
       "<style scoped>\n",
       "    .dataframe tbody tr th:only-of-type {\n",
       "        vertical-align: middle;\n",
       "    }\n",
       "\n",
       "    .dataframe tbody tr th {\n",
       "        vertical-align: top;\n",
       "    }\n",
       "\n",
       "    .dataframe thead th {\n",
       "        text-align: right;\n",
       "    }\n",
       "</style>\n",
       "<table border=\"1\" class=\"dataframe\">\n",
       "  <thead>\n",
       "    <tr style=\"text-align: right;\">\n",
       "      <th></th>\n",
       "      <th>count</th>\n",
       "      <th>mean</th>\n",
       "      <th>std</th>\n",
       "      <th>min</th>\n",
       "      <th>25%</th>\n",
       "      <th>50%</th>\n",
       "      <th>75%</th>\n",
       "      <th>max</th>\n",
       "    </tr>\n",
       "  </thead>\n",
       "  <tbody>\n",
       "    <tr>\n",
       "      <td>RowNumber</td>\n",
       "      <td>10000.0</td>\n",
       "      <td>5.000500e+03</td>\n",
       "      <td>2886.895680</td>\n",
       "      <td>1.00</td>\n",
       "      <td>2500.75</td>\n",
       "      <td>5.000500e+03</td>\n",
       "      <td>7.500250e+03</td>\n",
       "      <td>10000.00</td>\n",
       "    </tr>\n",
       "    <tr>\n",
       "      <td>CustomerId</td>\n",
       "      <td>10000.0</td>\n",
       "      <td>1.569094e+07</td>\n",
       "      <td>71936.186123</td>\n",
       "      <td>15565701.00</td>\n",
       "      <td>15628528.25</td>\n",
       "      <td>1.569074e+07</td>\n",
       "      <td>1.575323e+07</td>\n",
       "      <td>15815690.00</td>\n",
       "    </tr>\n",
       "    <tr>\n",
       "      <td>CreditScore</td>\n",
       "      <td>10000.0</td>\n",
       "      <td>6.505288e+02</td>\n",
       "      <td>96.653299</td>\n",
       "      <td>350.00</td>\n",
       "      <td>584.00</td>\n",
       "      <td>6.520000e+02</td>\n",
       "      <td>7.180000e+02</td>\n",
       "      <td>850.00</td>\n",
       "    </tr>\n",
       "    <tr>\n",
       "      <td>Age</td>\n",
       "      <td>10000.0</td>\n",
       "      <td>3.892180e+01</td>\n",
       "      <td>10.487806</td>\n",
       "      <td>18.00</td>\n",
       "      <td>32.00</td>\n",
       "      <td>3.700000e+01</td>\n",
       "      <td>4.400000e+01</td>\n",
       "      <td>92.00</td>\n",
       "    </tr>\n",
       "    <tr>\n",
       "      <td>Tenure</td>\n",
       "      <td>9091.0</td>\n",
       "      <td>4.997690e+00</td>\n",
       "      <td>2.894723</td>\n",
       "      <td>0.00</td>\n",
       "      <td>2.00</td>\n",
       "      <td>5.000000e+00</td>\n",
       "      <td>7.000000e+00</td>\n",
       "      <td>10.00</td>\n",
       "    </tr>\n",
       "    <tr>\n",
       "      <td>Balance</td>\n",
       "      <td>10000.0</td>\n",
       "      <td>7.648589e+04</td>\n",
       "      <td>62397.405202</td>\n",
       "      <td>0.00</td>\n",
       "      <td>0.00</td>\n",
       "      <td>9.719854e+04</td>\n",
       "      <td>1.276442e+05</td>\n",
       "      <td>250898.09</td>\n",
       "    </tr>\n",
       "    <tr>\n",
       "      <td>NumOfProducts</td>\n",
       "      <td>10000.0</td>\n",
       "      <td>1.530200e+00</td>\n",
       "      <td>0.581654</td>\n",
       "      <td>1.00</td>\n",
       "      <td>1.00</td>\n",
       "      <td>1.000000e+00</td>\n",
       "      <td>2.000000e+00</td>\n",
       "      <td>4.00</td>\n",
       "    </tr>\n",
       "    <tr>\n",
       "      <td>HasCrCard</td>\n",
       "      <td>10000.0</td>\n",
       "      <td>7.055000e-01</td>\n",
       "      <td>0.455840</td>\n",
       "      <td>0.00</td>\n",
       "      <td>0.00</td>\n",
       "      <td>1.000000e+00</td>\n",
       "      <td>1.000000e+00</td>\n",
       "      <td>1.00</td>\n",
       "    </tr>\n",
       "    <tr>\n",
       "      <td>IsActiveMember</td>\n",
       "      <td>10000.0</td>\n",
       "      <td>5.151000e-01</td>\n",
       "      <td>0.499797</td>\n",
       "      <td>0.00</td>\n",
       "      <td>0.00</td>\n",
       "      <td>1.000000e+00</td>\n",
       "      <td>1.000000e+00</td>\n",
       "      <td>1.00</td>\n",
       "    </tr>\n",
       "    <tr>\n",
       "      <td>EstimatedSalary</td>\n",
       "      <td>10000.0</td>\n",
       "      <td>1.000902e+05</td>\n",
       "      <td>57510.492818</td>\n",
       "      <td>11.58</td>\n",
       "      <td>51002.11</td>\n",
       "      <td>1.001939e+05</td>\n",
       "      <td>1.493882e+05</td>\n",
       "      <td>199992.48</td>\n",
       "    </tr>\n",
       "    <tr>\n",
       "      <td>Exited</td>\n",
       "      <td>10000.0</td>\n",
       "      <td>2.037000e-01</td>\n",
       "      <td>0.402769</td>\n",
       "      <td>0.00</td>\n",
       "      <td>0.00</td>\n",
       "      <td>0.000000e+00</td>\n",
       "      <td>0.000000e+00</td>\n",
       "      <td>1.00</td>\n",
       "    </tr>\n",
       "  </tbody>\n",
       "</table>\n",
       "</div>"
      ],
      "text/plain": [
       "                   count          mean           std          min  \\\n",
       "RowNumber        10000.0  5.000500e+03   2886.895680         1.00   \n",
       "CustomerId       10000.0  1.569094e+07  71936.186123  15565701.00   \n",
       "CreditScore      10000.0  6.505288e+02     96.653299       350.00   \n",
       "Age              10000.0  3.892180e+01     10.487806        18.00   \n",
       "Tenure            9091.0  4.997690e+00      2.894723         0.00   \n",
       "Balance          10000.0  7.648589e+04  62397.405202         0.00   \n",
       "NumOfProducts    10000.0  1.530200e+00      0.581654         1.00   \n",
       "HasCrCard        10000.0  7.055000e-01      0.455840         0.00   \n",
       "IsActiveMember   10000.0  5.151000e-01      0.499797         0.00   \n",
       "EstimatedSalary  10000.0  1.000902e+05  57510.492818        11.58   \n",
       "Exited           10000.0  2.037000e-01      0.402769         0.00   \n",
       "\n",
       "                         25%           50%           75%          max  \n",
       "RowNumber            2500.75  5.000500e+03  7.500250e+03     10000.00  \n",
       "CustomerId       15628528.25  1.569074e+07  1.575323e+07  15815690.00  \n",
       "CreditScore           584.00  6.520000e+02  7.180000e+02       850.00  \n",
       "Age                    32.00  3.700000e+01  4.400000e+01        92.00  \n",
       "Tenure                  2.00  5.000000e+00  7.000000e+00        10.00  \n",
       "Balance                 0.00  9.719854e+04  1.276442e+05    250898.09  \n",
       "NumOfProducts           1.00  1.000000e+00  2.000000e+00         4.00  \n",
       "HasCrCard               0.00  1.000000e+00  1.000000e+00         1.00  \n",
       "IsActiveMember          0.00  1.000000e+00  1.000000e+00         1.00  \n",
       "EstimatedSalary     51002.11  1.001939e+05  1.493882e+05    199992.48  \n",
       "Exited                  0.00  0.000000e+00  0.000000e+00         1.00  "
      ]
     },
     "execution_count": 8,
     "metadata": {},
     "output_type": "execute_result"
    }
   ],
   "source": [
    "# check general statistics for dataFrame\n",
    "print('Statistics')\n",
    "df.describe().T"
   ]
  },
  {
   "cell_type": "markdown",
   "metadata": {},
   "source": [
    "We note:\n",
    "- The file contains 10000 rows and 14 columns\n",
    "- There are no duplicated rows\n",
    "- Tenure column is missing 909 rows\n",
    "- Data types: 8 int64, 3 object, 3 float64 \n",
    "- Columns: \n",
    "        - RowNumber — data string index\n",
    "        - CustomerId — unique customer identifier\n",
    "        - Surname — surname\n",
    "        - CreditScore — credit score\n",
    "        - Geography — country of residence\n",
    "        - Gender — gender\n",
    "        - Age — age\n",
    "        - Tenure — period of maturation for a customer’s fixed deposit (years)\n",
    "        - Balance — account balance\n",
    "        - NumOfProducts — number of banking products used by the customer\n",
    "        - HasCrCard — customer has a credit card\n",
    "        - IsActiveMember — customer’s activeness\n",
    "        - EstimatedSalary — estimated salary\n",
    "\n",
    "Next steps:\n",
    "- Change column names to lower case\n",
    "- Assess if all columns are relavant to the analysis\n",
    "- Correct datatypes as needed\n",
    "- Investigate Tenure column's missing rows\n",
    "- Address columns (where is OHE appropriate?)\n",
    "- Address columns (where is label encoding appropriate?)"
   ]
  },
  {
   "cell_type": "code",
   "execution_count": 9,
   "metadata": {},
   "outputs": [
    {
     "data": {
      "text/html": [
       "<div>\n",
       "<style scoped>\n",
       "    .dataframe tbody tr th:only-of-type {\n",
       "        vertical-align: middle;\n",
       "    }\n",
       "\n",
       "    .dataframe tbody tr th {\n",
       "        vertical-align: top;\n",
       "    }\n",
       "\n",
       "    .dataframe thead th {\n",
       "        text-align: right;\n",
       "    }\n",
       "</style>\n",
       "<table border=\"1\" class=\"dataframe\">\n",
       "  <thead>\n",
       "    <tr style=\"text-align: right;\">\n",
       "      <th></th>\n",
       "      <th>rownumber</th>\n",
       "      <th>customerid</th>\n",
       "      <th>surname</th>\n",
       "      <th>creditscore</th>\n",
       "      <th>geography</th>\n",
       "      <th>gender</th>\n",
       "      <th>age</th>\n",
       "      <th>tenure</th>\n",
       "      <th>balance</th>\n",
       "      <th>numofproducts</th>\n",
       "      <th>hascrcard</th>\n",
       "      <th>isactivemember</th>\n",
       "      <th>estimatedsalary</th>\n",
       "      <th>exited</th>\n",
       "    </tr>\n",
       "  </thead>\n",
       "  <tbody>\n",
       "    <tr>\n",
       "      <td>0</td>\n",
       "      <td>1</td>\n",
       "      <td>15634602</td>\n",
       "      <td>Hargrave</td>\n",
       "      <td>619</td>\n",
       "      <td>France</td>\n",
       "      <td>Female</td>\n",
       "      <td>42</td>\n",
       "      <td>2.0</td>\n",
       "      <td>0.0</td>\n",
       "      <td>1</td>\n",
       "      <td>1</td>\n",
       "      <td>1</td>\n",
       "      <td>101348.88</td>\n",
       "      <td>1</td>\n",
       "    </tr>\n",
       "  </tbody>\n",
       "</table>\n",
       "</div>"
      ],
      "text/plain": [
       "   rownumber  customerid   surname  creditscore geography  gender  age  \\\n",
       "0          1    15634602  Hargrave          619    France  Female   42   \n",
       "\n",
       "   tenure  balance  numofproducts  hascrcard  isactivemember  estimatedsalary  \\\n",
       "0     2.0      0.0              1          1               1        101348.88   \n",
       "\n",
       "   exited  \n",
       "0       1  "
      ]
     },
     "execution_count": 9,
     "metadata": {},
     "output_type": "execute_result"
    }
   ],
   "source": [
    "# Map the lowering function to all column names\n",
    "df.columns = map(str.lower, df.columns)\n",
    "df.head(1)"
   ]
  },
  {
   "cell_type": "code",
   "execution_count": 10,
   "metadata": {},
   "outputs": [
    {
     "name": "stdout",
     "output_type": "stream",
     "text": [
      "Number of unique customerid values: 10000\n"
     ]
    }
   ],
   "source": [
    "# verify customerid is unique for every user\n",
    "print('Number of unique customerid values:', df.customerid.nunique())"
   ]
  },
  {
   "cell_type": "markdown",
   "metadata": {},
   "source": [
    "Are all columns relevant? rownumber simply indexes the customers, starting at one, so this may not be useful. customerid is also not useful, as every row corresponds to a unique customer already. surname could be useful if it identified familial relationships and family may influence each other to switch banks. But in a pool of 10000 individuals how can one identify relationships? We will investigate it further, but will likely drop surname.\n",
    "\n",
    "creditscore, geography, gender, age, tenure, balance, numofproducts, hasccard, isactivemember, and estimatedsalary are all useful features. We will investigate surname to see if it may be helpful for analysis."
   ]
  },
  {
   "cell_type": "code",
   "execution_count": 11,
   "metadata": {},
   "outputs": [
    {
     "name": "stdout",
     "output_type": "stream",
     "text": [
      "Number of unique surnames 2932\n"
     ]
    },
    {
     "data": {
      "text/plain": [
       "Smith          32\n",
       "Martin         29\n",
       "Scott          29\n",
       "Walker         28\n",
       "Brown          26\n",
       "               ..\n",
       "Thynne          1\n",
       "Hare            1\n",
       "Bruny           1\n",
       "Illingworth     1\n",
       "Cockrum         1\n",
       "Name: surname, Length: 2932, dtype: int64"
      ]
     },
     "execution_count": 11,
     "metadata": {},
     "output_type": "execute_result"
    }
   ],
   "source": [
    "# investigate surname column\n",
    "print('Number of unique surnames', df.surname.nunique())\n",
    "df.surname.value_counts()"
   ]
  },
  {
   "cell_type": "markdown",
   "metadata": {},
   "source": [
    "We will drop the rownumber, customerid, and surname columns since we will not be using them for analysis. Then we investigate the tenure column."
   ]
  },
  {
   "cell_type": "code",
   "execution_count": 12,
   "metadata": {},
   "outputs": [
    {
     "data": {
      "text/html": [
       "<div>\n",
       "<style scoped>\n",
       "    .dataframe tbody tr th:only-of-type {\n",
       "        vertical-align: middle;\n",
       "    }\n",
       "\n",
       "    .dataframe tbody tr th {\n",
       "        vertical-align: top;\n",
       "    }\n",
       "\n",
       "    .dataframe thead th {\n",
       "        text-align: right;\n",
       "    }\n",
       "</style>\n",
       "<table border=\"1\" class=\"dataframe\">\n",
       "  <thead>\n",
       "    <tr style=\"text-align: right;\">\n",
       "      <th></th>\n",
       "      <th>creditscore</th>\n",
       "      <th>geography</th>\n",
       "      <th>gender</th>\n",
       "      <th>age</th>\n",
       "      <th>tenure</th>\n",
       "      <th>balance</th>\n",
       "      <th>numofproducts</th>\n",
       "      <th>hascrcard</th>\n",
       "      <th>isactivemember</th>\n",
       "      <th>estimatedsalary</th>\n",
       "      <th>exited</th>\n",
       "    </tr>\n",
       "  </thead>\n",
       "  <tbody>\n",
       "    <tr>\n",
       "      <td>0</td>\n",
       "      <td>619</td>\n",
       "      <td>France</td>\n",
       "      <td>Female</td>\n",
       "      <td>42</td>\n",
       "      <td>2.0</td>\n",
       "      <td>0.0</td>\n",
       "      <td>1</td>\n",
       "      <td>1</td>\n",
       "      <td>1</td>\n",
       "      <td>101348.88</td>\n",
       "      <td>1</td>\n",
       "    </tr>\n",
       "  </tbody>\n",
       "</table>\n",
       "</div>"
      ],
      "text/plain": [
       "   creditscore geography  gender  age  tenure  balance  numofproducts  \\\n",
       "0          619    France  Female   42     2.0      0.0              1   \n",
       "\n",
       "   hascrcard  isactivemember  estimatedsalary  exited  \n",
       "0          1               1        101348.88       1  "
      ]
     },
     "execution_count": 12,
     "metadata": {},
     "output_type": "execute_result"
    }
   ],
   "source": [
    "# drop rownumber and surname from df\n",
    "df = df.drop(['rownumber', 'customerid', 'surname'], axis=1)\n",
    "df.head(1)"
   ]
  },
  {
   "cell_type": "code",
   "execution_count": 13,
   "metadata": {},
   "outputs": [
    {
     "data": {
      "text/plain": [
       "creditscore          int64\n",
       "geography           object\n",
       "gender              object\n",
       "age                  int64\n",
       "tenure             float64\n",
       "balance            float64\n",
       "numofproducts        int64\n",
       "hascrcard            int64\n",
       "isactivemember       int64\n",
       "estimatedsalary    float64\n",
       "exited               int64\n",
       "dtype: object"
      ]
     },
     "execution_count": 13,
     "metadata": {},
     "output_type": "execute_result"
    }
   ],
   "source": [
    "# check info once again to check datatypes\n",
    "df.dtypes"
   ]
  },
  {
   "cell_type": "code",
   "execution_count": 14,
   "metadata": {},
   "outputs": [
    {
     "data": {
      "text/plain": [
       "1.0     952\n",
       "2.0     950\n",
       "8.0     933\n",
       "3.0     928\n",
       "5.0     927\n",
       "7.0     925\n",
       "NaN     909\n",
       "4.0     885\n",
       "9.0     882\n",
       "6.0     881\n",
       "10.0    446\n",
       "0.0     382\n",
       "Name: tenure, dtype: int64"
      ]
     },
     "execution_count": 14,
     "metadata": {},
     "output_type": "execute_result"
    }
   ],
   "source": [
    "# distribution of values for tenure column\n",
    "df.tenure.value_counts(dropna=False)"
   ]
  },
  {
   "cell_type": "code",
   "execution_count": 15,
   "metadata": {},
   "outputs": [
    {
     "name": "stdout",
     "output_type": "stream",
     "text": [
      "Percent of total customers with a missing value in tenure = 9.09%\n"
     ]
    },
    {
     "data": {
      "text/html": [
       "<div>\n",
       "<style scoped>\n",
       "    .dataframe tbody tr th:only-of-type {\n",
       "        vertical-align: middle;\n",
       "    }\n",
       "\n",
       "    .dataframe tbody tr th {\n",
       "        vertical-align: top;\n",
       "    }\n",
       "\n",
       "    .dataframe thead th {\n",
       "        text-align: right;\n",
       "    }\n",
       "</style>\n",
       "<table border=\"1\" class=\"dataframe\">\n",
       "  <thead>\n",
       "    <tr style=\"text-align: right;\">\n",
       "      <th></th>\n",
       "      <th>creditscore</th>\n",
       "      <th>geography</th>\n",
       "      <th>gender</th>\n",
       "      <th>age</th>\n",
       "      <th>tenure</th>\n",
       "      <th>balance</th>\n",
       "      <th>numofproducts</th>\n",
       "      <th>hascrcard</th>\n",
       "      <th>isactivemember</th>\n",
       "      <th>estimatedsalary</th>\n",
       "      <th>exited</th>\n",
       "    </tr>\n",
       "  </thead>\n",
       "  <tbody>\n",
       "    <tr>\n",
       "      <td>30</td>\n",
       "      <td>591</td>\n",
       "      <td>Spain</td>\n",
       "      <td>Female</td>\n",
       "      <td>39</td>\n",
       "      <td>NaN</td>\n",
       "      <td>0.00</td>\n",
       "      <td>3</td>\n",
       "      <td>1</td>\n",
       "      <td>0</td>\n",
       "      <td>140469.38</td>\n",
       "      <td>1</td>\n",
       "    </tr>\n",
       "    <tr>\n",
       "      <td>48</td>\n",
       "      <td>550</td>\n",
       "      <td>Germany</td>\n",
       "      <td>Male</td>\n",
       "      <td>38</td>\n",
       "      <td>NaN</td>\n",
       "      <td>103391.38</td>\n",
       "      <td>1</td>\n",
       "      <td>0</td>\n",
       "      <td>1</td>\n",
       "      <td>90878.13</td>\n",
       "      <td>0</td>\n",
       "    </tr>\n",
       "    <tr>\n",
       "      <td>51</td>\n",
       "      <td>585</td>\n",
       "      <td>Germany</td>\n",
       "      <td>Male</td>\n",
       "      <td>36</td>\n",
       "      <td>NaN</td>\n",
       "      <td>146050.97</td>\n",
       "      <td>2</td>\n",
       "      <td>0</td>\n",
       "      <td>0</td>\n",
       "      <td>86424.57</td>\n",
       "      <td>0</td>\n",
       "    </tr>\n",
       "    <tr>\n",
       "      <td>53</td>\n",
       "      <td>655</td>\n",
       "      <td>Germany</td>\n",
       "      <td>Male</td>\n",
       "      <td>41</td>\n",
       "      <td>NaN</td>\n",
       "      <td>125561.97</td>\n",
       "      <td>1</td>\n",
       "      <td>0</td>\n",
       "      <td>0</td>\n",
       "      <td>164040.94</td>\n",
       "      <td>1</td>\n",
       "    </tr>\n",
       "    <tr>\n",
       "      <td>60</td>\n",
       "      <td>742</td>\n",
       "      <td>Germany</td>\n",
       "      <td>Male</td>\n",
       "      <td>35</td>\n",
       "      <td>NaN</td>\n",
       "      <td>136857.00</td>\n",
       "      <td>1</td>\n",
       "      <td>0</td>\n",
       "      <td>0</td>\n",
       "      <td>84509.57</td>\n",
       "      <td>0</td>\n",
       "    </tr>\n",
       "  </tbody>\n",
       "</table>\n",
       "</div>"
      ],
      "text/plain": [
       "    creditscore geography  gender  age  tenure    balance  numofproducts  \\\n",
       "30          591     Spain  Female   39     NaN       0.00              3   \n",
       "48          550   Germany    Male   38     NaN  103391.38              1   \n",
       "51          585   Germany    Male   36     NaN  146050.97              2   \n",
       "53          655   Germany    Male   41     NaN  125561.97              1   \n",
       "60          742   Germany    Male   35     NaN  136857.00              1   \n",
       "\n",
       "    hascrcard  isactivemember  estimatedsalary  exited  \n",
       "30          1               0        140469.38       1  \n",
       "48          0               1         90878.13       0  \n",
       "51          0               0         86424.57       0  \n",
       "53          0               0        164040.94       1  \n",
       "60          0               0         84509.57       0  "
      ]
     },
     "execution_count": 15,
     "metadata": {},
     "output_type": "execute_result"
    }
   ],
   "source": [
    "# explore missing values in tenure column\n",
    "missing = df.tenure.isna().sum()\n",
    "pct = missing/len(df)\n",
    "print('Percent of total customers with a missing value in tenure = {:.2%}'.format(pct))\n",
    "df[df.tenure.isna()].head()"
   ]
  },
  {
   "cell_type": "code",
   "execution_count": 16,
   "metadata": {},
   "outputs": [
    {
     "data": {
      "text/html": [
       "<div>\n",
       "<style scoped>\n",
       "    .dataframe tbody tr th:only-of-type {\n",
       "        vertical-align: middle;\n",
       "    }\n",
       "\n",
       "    .dataframe tbody tr th {\n",
       "        vertical-align: top;\n",
       "    }\n",
       "\n",
       "    .dataframe thead th {\n",
       "        text-align: right;\n",
       "    }\n",
       "</style>\n",
       "<table border=\"1\" class=\"dataframe\">\n",
       "  <thead>\n",
       "    <tr style=\"text-align: right;\">\n",
       "      <th></th>\n",
       "      <th>creditscore</th>\n",
       "      <th>age</th>\n",
       "      <th>tenure</th>\n",
       "      <th>balance</th>\n",
       "      <th>numofproducts</th>\n",
       "      <th>hascrcard</th>\n",
       "      <th>isactivemember</th>\n",
       "      <th>estimatedsalary</th>\n",
       "      <th>exited</th>\n",
       "    </tr>\n",
       "  </thead>\n",
       "  <tbody>\n",
       "    <tr>\n",
       "      <td>creditscore</td>\n",
       "      <td>1.000000</td>\n",
       "      <td>-0.003965</td>\n",
       "      <td>-0.000062</td>\n",
       "      <td>0.006268</td>\n",
       "      <td>0.012238</td>\n",
       "      <td>-0.005458</td>\n",
       "      <td>0.025651</td>\n",
       "      <td>-0.001384</td>\n",
       "      <td>-0.027094</td>\n",
       "    </tr>\n",
       "    <tr>\n",
       "      <td>age</td>\n",
       "      <td>-0.003965</td>\n",
       "      <td>1.000000</td>\n",
       "      <td>-0.013134</td>\n",
       "      <td>0.028308</td>\n",
       "      <td>-0.030680</td>\n",
       "      <td>-0.011721</td>\n",
       "      <td>0.085472</td>\n",
       "      <td>-0.007201</td>\n",
       "      <td>0.285323</td>\n",
       "    </tr>\n",
       "    <tr>\n",
       "      <td>tenure</td>\n",
       "      <td>-0.000062</td>\n",
       "      <td>-0.013134</td>\n",
       "      <td>1.000000</td>\n",
       "      <td>-0.007911</td>\n",
       "      <td>0.011979</td>\n",
       "      <td>0.027232</td>\n",
       "      <td>-0.032178</td>\n",
       "      <td>0.010520</td>\n",
       "      <td>-0.016761</td>\n",
       "    </tr>\n",
       "    <tr>\n",
       "      <td>balance</td>\n",
       "      <td>0.006268</td>\n",
       "      <td>0.028308</td>\n",
       "      <td>-0.007911</td>\n",
       "      <td>1.000000</td>\n",
       "      <td>-0.304180</td>\n",
       "      <td>-0.014858</td>\n",
       "      <td>-0.010084</td>\n",
       "      <td>0.012797</td>\n",
       "      <td>0.118533</td>\n",
       "    </tr>\n",
       "    <tr>\n",
       "      <td>numofproducts</td>\n",
       "      <td>0.012238</td>\n",
       "      <td>-0.030680</td>\n",
       "      <td>0.011979</td>\n",
       "      <td>-0.304180</td>\n",
       "      <td>1.000000</td>\n",
       "      <td>0.003183</td>\n",
       "      <td>0.009612</td>\n",
       "      <td>0.014204</td>\n",
       "      <td>-0.047820</td>\n",
       "    </tr>\n",
       "    <tr>\n",
       "      <td>hascrcard</td>\n",
       "      <td>-0.005458</td>\n",
       "      <td>-0.011721</td>\n",
       "      <td>0.027232</td>\n",
       "      <td>-0.014858</td>\n",
       "      <td>0.003183</td>\n",
       "      <td>1.000000</td>\n",
       "      <td>-0.011866</td>\n",
       "      <td>-0.009933</td>\n",
       "      <td>-0.007138</td>\n",
       "    </tr>\n",
       "    <tr>\n",
       "      <td>isactivemember</td>\n",
       "      <td>0.025651</td>\n",
       "      <td>0.085472</td>\n",
       "      <td>-0.032178</td>\n",
       "      <td>-0.010084</td>\n",
       "      <td>0.009612</td>\n",
       "      <td>-0.011866</td>\n",
       "      <td>1.000000</td>\n",
       "      <td>-0.011421</td>\n",
       "      <td>-0.156128</td>\n",
       "    </tr>\n",
       "    <tr>\n",
       "      <td>estimatedsalary</td>\n",
       "      <td>-0.001384</td>\n",
       "      <td>-0.007201</td>\n",
       "      <td>0.010520</td>\n",
       "      <td>0.012797</td>\n",
       "      <td>0.014204</td>\n",
       "      <td>-0.009933</td>\n",
       "      <td>-0.011421</td>\n",
       "      <td>1.000000</td>\n",
       "      <td>0.012097</td>\n",
       "    </tr>\n",
       "    <tr>\n",
       "      <td>exited</td>\n",
       "      <td>-0.027094</td>\n",
       "      <td>0.285323</td>\n",
       "      <td>-0.016761</td>\n",
       "      <td>0.118533</td>\n",
       "      <td>-0.047820</td>\n",
       "      <td>-0.007138</td>\n",
       "      <td>-0.156128</td>\n",
       "      <td>0.012097</td>\n",
       "      <td>1.000000</td>\n",
       "    </tr>\n",
       "  </tbody>\n",
       "</table>\n",
       "</div>"
      ],
      "text/plain": [
       "                 creditscore       age    tenure   balance  numofproducts  \\\n",
       "creditscore         1.000000 -0.003965 -0.000062  0.006268       0.012238   \n",
       "age                -0.003965  1.000000 -0.013134  0.028308      -0.030680   \n",
       "tenure             -0.000062 -0.013134  1.000000 -0.007911       0.011979   \n",
       "balance             0.006268  0.028308 -0.007911  1.000000      -0.304180   \n",
       "numofproducts       0.012238 -0.030680  0.011979 -0.304180       1.000000   \n",
       "hascrcard          -0.005458 -0.011721  0.027232 -0.014858       0.003183   \n",
       "isactivemember      0.025651  0.085472 -0.032178 -0.010084       0.009612   \n",
       "estimatedsalary    -0.001384 -0.007201  0.010520  0.012797       0.014204   \n",
       "exited             -0.027094  0.285323 -0.016761  0.118533      -0.047820   \n",
       "\n",
       "                 hascrcard  isactivemember  estimatedsalary    exited  \n",
       "creditscore      -0.005458        0.025651        -0.001384 -0.027094  \n",
       "age              -0.011721        0.085472        -0.007201  0.285323  \n",
       "tenure            0.027232       -0.032178         0.010520 -0.016761  \n",
       "balance          -0.014858       -0.010084         0.012797  0.118533  \n",
       "numofproducts     0.003183        0.009612         0.014204 -0.047820  \n",
       "hascrcard         1.000000       -0.011866        -0.009933 -0.007138  \n",
       "isactivemember   -0.011866        1.000000        -0.011421 -0.156128  \n",
       "estimatedsalary  -0.009933       -0.011421         1.000000  0.012097  \n",
       "exited           -0.007138       -0.156128         0.012097  1.000000  "
      ]
     },
     "execution_count": 16,
     "metadata": {},
     "output_type": "execute_result"
    }
   ],
   "source": [
    "# investigate any correlations\n",
    "df.corr()"
   ]
  },
  {
   "cell_type": "code",
   "execution_count": 17,
   "metadata": {},
   "outputs": [
    {
     "name": "stdout",
     "output_type": "stream",
     "text": [
      "The mode for the tenure column: 0    1.0\n",
      "dtype: float64\n"
     ]
    },
    {
     "data": {
      "text/plain": [
       "count    9091.000000\n",
       "mean        4.997690\n",
       "std         2.894723\n",
       "min         0.000000\n",
       "25%         2.000000\n",
       "50%         5.000000\n",
       "75%         7.000000\n",
       "max        10.000000\n",
       "Name: tenure, dtype: float64"
      ]
     },
     "execution_count": 17,
     "metadata": {},
     "output_type": "execute_result"
    }
   ],
   "source": [
    "# examine the statistics of the tenure column\n",
    "print('The mode for the tenure column:', df.tenure.mode())\n",
    "df.tenure.describe().T"
   ]
  },
  {
   "cell_type": "markdown",
   "metadata": {},
   "source": [
    "We notice:\n",
    "- Less than 10% of the total customers are missing the value for tenure. Removing those rows is a possibility\n",
    "- There do not appear to be any correlations between tenure and other columns\n",
    "- The mode, most common value, is 1.0\n",
    "- The mean and median are quite close (4.99 and 5.0)\n",
    "\n",
    "Since there are no obvious correlations and it is generally preferable to keep data instead of dropping it. \n",
    "\n",
    "We suspect the reason for the missing values is unknow. We will replace the missing values with the mean of tenure."
   ]
  },
  {
   "cell_type": "code",
   "execution_count": 18,
   "metadata": {},
   "outputs": [
    {
     "name": "stdout",
     "output_type": "stream",
     "text": [
      "Number of missing values in tenure after replacement: 0\n"
     ]
    },
    {
     "data": {
      "text/plain": [
       "count    10000.00000\n",
       "mean         4.99769\n",
       "std          2.76001\n",
       "min          0.00000\n",
       "25%          3.00000\n",
       "50%          4.99769\n",
       "75%          7.00000\n",
       "max         10.00000\n",
       "Name: tenure, dtype: float64"
      ]
     },
     "execution_count": 18,
     "metadata": {},
     "output_type": "execute_result"
    }
   ],
   "source": [
    "# replace missing values in tenure with mean\n",
    "#df.tenure = df.tenure.fillna(df.tenure.mean())\n",
    "print('Number of missing values in tenure after replacement:',\n",
    "     df.tenure.isna().sum()\n",
    "     )\n",
    "df.tenure.describe().T"
   ]
  },
  {
   "cell_type": "code",
   "execution_count": 19,
   "metadata": {},
   "outputs": [
    {
     "data": {
      "text/plain": [
       "\"\\nlimit = len(df)\\n\\n# create a list of random numbers in range 0 to 10\\n#list = []\\n#for i in range(limit):\\n#    r=random.randint(0,10)\\n#    list.append(r)\\n\\n# create a loop to fill NaN values with a number from the list\\nfor i in range(limit):\\n    if np.isnan(df.tenure[i]) == True:  \\n        df['tenure'][i] = list[i]\\n    else:\\n         df.tenure[i] = df.tenure[i] \\ndf.tenure.value_counts()\\n\""
      ]
     },
     "execution_count": 19,
     "metadata": {},
     "output_type": "execute_result"
    }
   ],
   "source": [
    "# will continue working on this in the future\n",
    "\n",
    "# fill in the missing values in tenure with a randomly generated number\n",
    "\n",
    "'''\n",
    "limit = len(df)\n",
    "\n",
    "# create a list of random numbers in range 0 to 10\n",
    "#list = []\n",
    "#for i in range(limit):\n",
    "#    r=random.randint(0,10)\n",
    "#    list.append(r)\n",
    "\n",
    "# create a loop to fill NaN values with a number from the list\n",
    "for i in range(limit):\n",
    "    if np.isnan(df.tenure[i]) == True:  \n",
    "        df['tenure'][i] = list[i]\n",
    "    else:\n",
    "         df.tenure[i] = df.tenure[i] \n",
    "df.tenure.value_counts()\n",
    "'''"
   ]
  },
  {
   "cell_type": "markdown",
   "metadata": {},
   "source": [
    "We've replaced the missing values in tenure and now we will address the data types for the columns.\n",
    "\n",
    "**[Return to table of contents](#table_of_contents)**\n",
    "\n",
    "<a class=\"anchor\" id=\"datatypes\">**Change data types**</a>"
   ]
  },
  {
   "cell_type": "code",
   "execution_count": 20,
   "metadata": {},
   "outputs": [
    {
     "name": "stdout",
     "output_type": "stream",
     "text": [
      "<class 'pandas.core.frame.DataFrame'>\n",
      "RangeIndex: 10000 entries, 0 to 9999\n",
      "Data columns (total 11 columns):\n",
      "creditscore        10000 non-null int64\n",
      "geography          10000 non-null object\n",
      "gender             10000 non-null object\n",
      "age                10000 non-null int64\n",
      "tenure             10000 non-null float64\n",
      "balance            10000 non-null float64\n",
      "numofproducts      10000 non-null int64\n",
      "hascrcard          10000 non-null int64\n",
      "isactivemember     10000 non-null int64\n",
      "estimatedsalary    10000 non-null float64\n",
      "exited             10000 non-null int64\n",
      "dtypes: float64(3), int64(6), object(2)\n",
      "memory usage: 859.5+ KB\n"
     ]
    }
   ],
   "source": [
    "# refresh our memory on current data types\n",
    "df.info()"
   ]
  },
  {
   "cell_type": "code",
   "execution_count": 21,
   "metadata": {
    "scrolled": true
   },
   "outputs": [
    {
     "name": "stdout",
     "output_type": "stream",
     "text": [
      "<class 'pandas.core.frame.DataFrame'>\n",
      "RangeIndex: 10000 entries, 0 to 9999\n",
      "Data columns (total 11 columns):\n",
      "creditscore        10000 non-null int16\n",
      "geography          10000 non-null category\n",
      "gender             10000 non-null category\n",
      "age                10000 non-null int8\n",
      "tenure             10000 non-null int16\n",
      "balance            10000 non-null float32\n",
      "numofproducts      10000 non-null int8\n",
      "hascrcard          10000 non-null int8\n",
      "isactivemember     10000 non-null int8\n",
      "estimatedsalary    10000 non-null float32\n",
      "exited             10000 non-null int8\n",
      "dtypes: category(2), float32(2), int16(2), int8(5)\n",
      "memory usage: 185.9 KB\n"
     ]
    }
   ],
   "source": [
    "# change/downcast datatypes as appropriate\n",
    "# For columns with low cardinality (the amount of unique values is lower than 50% of the count of these values)\n",
    "# changing from object to category will help optimize memory and retrieval\n",
    "# some of these could go to boolean instead, but will stick with integer as there doesn't seem a strong advantage\n",
    "\n",
    "df.creditscore = pd.to_numeric(df.creditscore, downcast='integer')\n",
    "df.geography = df.geography.astype('category')\n",
    "df.gender = df.gender.astype('category')\n",
    "df.age = pd.to_numeric(df.age, downcast='integer')\n",
    "# since tenure is in years, we will change it to integer\n",
    "df.tenure = df.tenure.apply(np.int)\n",
    "df.tenure = df.tenure.astype('int16')\n",
    "df.balance = pd.to_numeric(df.balance, downcast='float')\n",
    "df.numofproducts = pd.to_numeric(df.numofproducts, downcast='integer')\n",
    "df.hascrcard = pd.to_numeric(df.hascrcard, downcast='integer')\n",
    "df.isactivemember  = pd.to_numeric(df.isactivemember, downcast='integer')\n",
    "df.estimatedsalary = pd.to_numeric(df.estimatedsalary, downcast='float')\n",
    "df.exited = pd.to_numeric(df.exited, downcast='integer')\n",
    "\n",
    "# verify new data types\n",
    "df.info()"
   ]
  },
  {
   "cell_type": "markdown",
   "metadata": {},
   "source": [
    "We've verified the new data types and note the reduced memory usage.\n",
    "\n",
    "We note 2 columns with categorical information: geograpy and gender. We need a way to keep that information, but encode it.\n",
    "\n",
    "One way is One Hot Encoding. It breaks the category into however many possible values and creates a new column for each possibility. One danger with OHE is the dummy trap, where the high correlation between all the columns can confuse the model. To avoid this, we drop the first column since its value may be inferred from the other columns. OHE isn't the best choice for tree-based models (decision trees, random forests) because the information gets lost as the algorithm travels deeper down the tree structure. \n",
    "\n",
    "**[Return to table of contents](#table_of_contents)**\n",
    "\n",
    "<a class=\"anchor\" id=\"ohe\">**One hot encoding**</a>"
   ]
  },
  {
   "cell_type": "code",
   "execution_count": 22,
   "metadata": {},
   "outputs": [
    {
     "name": "stdout",
     "output_type": "stream",
     "text": [
      "Distribution of geography column before encoding\n",
      "France     5014\n",
      "Germany    2509\n",
      "Spain      2477\n",
      "Name: geography, dtype: int64\n",
      "Distribution of gender column before encoding\n",
      "Male      5457\n",
      "Female    4543\n",
      "Name: gender, dtype: int64\n"
     ]
    },
    {
     "data": {
      "text/html": [
       "<div>\n",
       "<style scoped>\n",
       "    .dataframe tbody tr th:only-of-type {\n",
       "        vertical-align: middle;\n",
       "    }\n",
       "\n",
       "    .dataframe tbody tr th {\n",
       "        vertical-align: top;\n",
       "    }\n",
       "\n",
       "    .dataframe thead th {\n",
       "        text-align: right;\n",
       "    }\n",
       "</style>\n",
       "<table border=\"1\" class=\"dataframe\">\n",
       "  <thead>\n",
       "    <tr style=\"text-align: right;\">\n",
       "      <th></th>\n",
       "      <th>creditscore</th>\n",
       "      <th>age</th>\n",
       "      <th>tenure</th>\n",
       "      <th>balance</th>\n",
       "      <th>numofproducts</th>\n",
       "      <th>hascrcard</th>\n",
       "      <th>isactivemember</th>\n",
       "      <th>estimatedsalary</th>\n",
       "      <th>exited</th>\n",
       "      <th>geography_Germany</th>\n",
       "      <th>geography_Spain</th>\n",
       "      <th>gender_Male</th>\n",
       "    </tr>\n",
       "  </thead>\n",
       "  <tbody>\n",
       "    <tr>\n",
       "      <td>0</td>\n",
       "      <td>619</td>\n",
       "      <td>42</td>\n",
       "      <td>2</td>\n",
       "      <td>0.000000</td>\n",
       "      <td>1</td>\n",
       "      <td>1</td>\n",
       "      <td>1</td>\n",
       "      <td>101348.882812</td>\n",
       "      <td>1</td>\n",
       "      <td>0</td>\n",
       "      <td>0</td>\n",
       "      <td>0</td>\n",
       "    </tr>\n",
       "    <tr>\n",
       "      <td>1</td>\n",
       "      <td>608</td>\n",
       "      <td>41</td>\n",
       "      <td>1</td>\n",
       "      <td>83807.859375</td>\n",
       "      <td>1</td>\n",
       "      <td>0</td>\n",
       "      <td>1</td>\n",
       "      <td>112542.578125</td>\n",
       "      <td>0</td>\n",
       "      <td>0</td>\n",
       "      <td>1</td>\n",
       "      <td>0</td>\n",
       "    </tr>\n",
       "    <tr>\n",
       "      <td>2</td>\n",
       "      <td>502</td>\n",
       "      <td>42</td>\n",
       "      <td>8</td>\n",
       "      <td>159660.796875</td>\n",
       "      <td>3</td>\n",
       "      <td>1</td>\n",
       "      <td>0</td>\n",
       "      <td>113931.570312</td>\n",
       "      <td>1</td>\n",
       "      <td>0</td>\n",
       "      <td>0</td>\n",
       "      <td>0</td>\n",
       "    </tr>\n",
       "    <tr>\n",
       "      <td>3</td>\n",
       "      <td>699</td>\n",
       "      <td>39</td>\n",
       "      <td>1</td>\n",
       "      <td>0.000000</td>\n",
       "      <td>2</td>\n",
       "      <td>0</td>\n",
       "      <td>0</td>\n",
       "      <td>93826.632812</td>\n",
       "      <td>0</td>\n",
       "      <td>0</td>\n",
       "      <td>0</td>\n",
       "      <td>0</td>\n",
       "    </tr>\n",
       "    <tr>\n",
       "      <td>4</td>\n",
       "      <td>850</td>\n",
       "      <td>43</td>\n",
       "      <td>2</td>\n",
       "      <td>125510.820312</td>\n",
       "      <td>1</td>\n",
       "      <td>1</td>\n",
       "      <td>1</td>\n",
       "      <td>79084.101562</td>\n",
       "      <td>0</td>\n",
       "      <td>0</td>\n",
       "      <td>1</td>\n",
       "      <td>0</td>\n",
       "    </tr>\n",
       "  </tbody>\n",
       "</table>\n",
       "</div>"
      ],
      "text/plain": [
       "   creditscore  age  tenure        balance  numofproducts  hascrcard  \\\n",
       "0          619   42       2       0.000000              1          1   \n",
       "1          608   41       1   83807.859375              1          0   \n",
       "2          502   42       8  159660.796875              3          1   \n",
       "3          699   39       1       0.000000              2          0   \n",
       "4          850   43       2  125510.820312              1          1   \n",
       "\n",
       "   isactivemember  estimatedsalary  exited  geography_Germany  \\\n",
       "0               1    101348.882812       1                  0   \n",
       "1               1    112542.578125       0                  0   \n",
       "2               0    113931.570312       1                  0   \n",
       "3               0     93826.632812       0                  0   \n",
       "4               1     79084.101562       0                  0   \n",
       "\n",
       "   geography_Spain  gender_Male  \n",
       "0                0            0  \n",
       "1                1            0  \n",
       "2                0            0  \n",
       "3                0            0  \n",
       "4                1            0  "
      ]
     },
     "execution_count": 22,
     "metadata": {},
     "output_type": "execute_result"
    }
   ],
   "source": [
    "# use OHE to break out the catgeorical columns\n",
    "\n",
    "print('Distribution of geography column before encoding')\n",
    "print(df.geography.value_counts())\n",
    "\n",
    "print('Distribution of gender column before encoding')\n",
    "print(df.gender.value_counts())\n",
    "\n",
    "df_ohe = pd.get_dummies(df, drop_first = True)\n",
    "\n",
    "# verify new columns\n",
    "df_ohe.head()"
   ]
  },
  {
   "cell_type": "code",
   "execution_count": 23,
   "metadata": {},
   "outputs": [
    {
     "name": "stdout",
     "output_type": "stream",
     "text": [
      "Germany\n",
      "0    7491\n",
      "1    2509\n",
      "Name: geography_Germany, dtype: int64\n",
      "Spain\n",
      "0    7523\n",
      "1    2477\n",
      "Name: geography_Spain, dtype: int64\n",
      "Male\n",
      "1    5457\n",
      "0    4543\n",
      "Name: gender_Male, dtype: int64\n"
     ]
    }
   ],
   "source": [
    "# check counts of new columns\n",
    "print('Germany')\n",
    "print(df_ohe.geography_Germany.value_counts())\n",
    "print('Spain')\n",
    "# check counts of new columns\n",
    "print(df_ohe.geography_Spain.value_counts())\n",
    "print('Male')\n",
    "# check counts of new columns\n",
    "print(df_ohe.gender_Male.value_counts())"
   ]
  },
  {
   "cell_type": "markdown",
   "metadata": {},
   "source": [
    "We've verfied our newly created columns and the numbers from the original df match with the new columns. \n",
    "\n",
    "Next we will divide the dataframes into 3 groups (train, valid, test) for our models.\n",
    "\n",
    "**[Return to table of contents](#table_of_contents)**\n",
    "\n",
    "<a class=\"anchor\" id=\"split\">**Divide dataframes into 3 groups**</a>"
   ]
  },
  {
   "cell_type": "code",
   "execution_count": 24,
   "metadata": {},
   "outputs": [
    {
     "name": "stdout",
     "output_type": "stream",
     "text": [
      "Verify sizes of newly divided target_ohe_\n",
      "train valid test\n",
      "6000 2000 2000\n",
      "\n",
      "Verify sizes of newly divided features_ohe_\n",
      "train valid test\n",
      "6000 2000 2000\n"
     ]
    }
   ],
   "source": [
    "# split dataframes into train, valid, test data sets (3:1:1)\n",
    "\n",
    "# divide df into target and features\n",
    "target_ohe = df_ohe['exited']\n",
    "features_ohe = df_ohe.drop('exited', axis=1)\n",
    "\n",
    "# divide df_ohe (train, valid, test)\n",
    "target_ohe_train, target_ohe_valid = train_test_split(target_ohe, test_size=0.2, random_state=12345) \n",
    "target_ohe_train, target_ohe_test = train_test_split(target_ohe_train, test_size=0.25, random_state=12345)\n",
    "print('Verify sizes of newly divided target_ohe_')\n",
    "print('train valid test')\n",
    "print(len(target_ohe_train), len(target_ohe_valid), len(target_ohe_test))\n",
    "\n",
    "features_ohe_train, features_ohe_valid = train_test_split(features_ohe, test_size=0.2, random_state=12345) \n",
    "features_ohe_train, features_ohe_test = train_test_split(features_ohe_train, test_size=0.25, random_state=12345)\n",
    "print('\\nVerify sizes of newly divided features_ohe_')\n",
    "print('train valid test')\n",
    "print(len(features_ohe_train), len(features_ohe_valid), len(features_ohe_test))"
   ]
  },
  {
   "cell_type": "markdown",
   "metadata": {},
   "source": [
    "We've verified the sizes of our dataframes are correct.\n",
    "\n",
    "Now we briefly examine the balance of classes.\n",
    "\n",
    "**[Return to table of contents](#table_of_contents)**\n",
    "\n",
    "<a class=\"anchor\" id=\"balance\">**Examine the balance of classes**</a>"
   ]
  },
  {
   "cell_type": "code",
   "execution_count": 25,
   "metadata": {},
   "outputs": [
    {
     "name": "stdout",
     "output_type": "stream",
     "text": [
      "Balance for df_ohe target (either 0 or 1)\n",
      "% ohe Training Target balance of exited \n",
      " 0    79.68\n",
      "1    20.32\n",
      "Name: exited, dtype: float64\n",
      "\n",
      "% ohe Validation Target balance of exited \n",
      " 0    78.65\n",
      "1    21.35\n",
      "Name: exited, dtype: float64\n",
      "\n",
      "% ohe Test Target balance of exited \n",
      " 0    80.45\n",
      "1    19.55\n",
      "Name: exited, dtype: float64\n"
     ]
    }
   ],
   "source": [
    "# investigate balance of target in dataframes\n",
    "print('Balance for df_ohe target (either 0 or 1)')\n",
    "train_ohe_frequency = (target_ohe_train.value_counts(normalize=True) * 100).round(2)\n",
    "valid_ohe_frequency = (target_ohe_valid.value_counts(normalize=True) * 100).round(2)\n",
    "test_ohe_frequency = (target_ohe_test.value_counts(normalize=True) * 100).round(2)\n",
    "print('% ohe Training Target balance of exited \\n', train_ohe_frequency)\n",
    "print('\\n% ohe Validation Target balance of exited \\n', valid_ohe_frequency)\n",
    "print('\\n% ohe Test Target balance of exited \\n', test_ohe_frequency)\n",
    "\n",
    "# https://pandas.pydata.org/docs/reference/api/pandas.Series.value_counts.html "
   ]
  },
  {
   "cell_type": "markdown",
   "metadata": {},
   "source": [
    "Our sample is imbalanced, about 80% of our target column indicates no exit, so if we use this unbalanced data for our models our accuracy will be skewed towards no exit. Our model is predicting 0 in every instance because of the unbalanced data.\n",
    "\n",
    "We will first create a print_scores function to increase efficiency and then test unbalanced models.\n",
    "\n",
    "**[Return to table of contents](#table_of_contents)**\n",
    "\n",
    "<a class=\"anchor\" id=\"scorefx\">**Write print scores function**</a>"
   ]
  },
  {
   "cell_type": "code",
   "execution_count": 26,
   "metadata": {},
   "outputs": [],
   "source": [
    "# create efficient print_scores function\n",
    "def print_scores(true, predicted):\n",
    "    print('Precision: ' + str((precision_score(true, predicted)* 100).round(2)) + '%')\n",
    "    print('Recall: ' + str((recall_score(true, predicted)* 100).round(2)) + '%')\n",
    "    print('F1 Score: ' + str((f1_score(true, predicted) * 100).round(2)) + '%')\n",
    "    print('Accuracy Score: ' + str((accuracy_score(true, predicted) * 100).round(2)) + '%')\n",
    "    print('Balanced Accuracy Score: ' + str((balanced_accuracy_score(true, predicted) * 100).round(2)) + '%')\n",
    "    print('ROC AUC score: ' + str((roc_auc_score(true, predicted) * 100).round(2)) + '%')   "
   ]
  },
  {
   "cell_type": "markdown",
   "metadata": {},
   "source": [
    "**[Return to table of contents](#table_of_contents)**\n",
    "\n",
    "<a class=\"anchor\" id=\"unbalanced\">**Train the model without balance adjustments**</a>"
   ]
  },
  {
   "cell_type": "code",
   "execution_count": 27,
   "metadata": {},
   "outputs": [
    {
     "name": "stdout",
     "output_type": "stream",
     "text": [
      "Precision: 0.0%\n",
      "Recall: 0.0%\n",
      "F1 Score: 0.0%\n",
      "Accuracy Score: 78.65%\n",
      "Balanced Accuracy Score: 50.0%\n",
      "ROC AUC score: 50.0%\n"
     ]
    }
   ],
   "source": [
    "# use dummy method to find a baseline\n",
    "dummy_clf = DummyClassifier(strategy='most_frequent')\n",
    "dummy_clf.fit(features_ohe_train, target_ohe_train)\n",
    "# use print_scores fx to get scores\n",
    "print_scores(target_ohe_valid, dummy_clf.predict(features_ohe_valid))"
   ]
  },
  {
   "cell_type": "code",
   "execution_count": 28,
   "metadata": {},
   "outputs": [
    {
     "data": {
      "text/plain": [
       "array([[1573,    0],\n",
       "       [ 427,    0]])"
      ]
     },
     "execution_count": 28,
     "metadata": {},
     "output_type": "execute_result"
    }
   ],
   "source": [
    "# run a confusion matrix\n",
    "confusion_matrix(target_ohe_valid, dummy_clf.predict(features_ohe_valid))"
   ]
  },
  {
   "cell_type": "markdown",
   "metadata": {},
   "source": [
    "As expected, our accuracy score is misleadingly high due to our unbalanced data. The F1 is actually zero, indicating a poorly performing model where either recall or precision or both are very low. In this case both precision and recall are 0.\n",
    "\n",
    "The confusion matrix reveals many true positives, but almost 25% false positives. There are no true or false negatives. Our model is predicting 0 in every instance because of the unbalanced data.\n",
    "\n",
    "Now we will begin building models that take the unbalanced data into account. We will begin with the simple linear model, and use a scaler to account for the different ranges (salary versus age for instance) of data. We don't want columns with larger numbers given more weight in the analysis.\n",
    "\n",
    "**[Return to table of contents](#table_of_contents)**\n",
    "\n",
    "\n",
    "\n",
    "<a class=\"anchor\" id=\"bestmodel\">**Train different models and find the best one**</a>\n",
    "\n",
    "**Logistic Regression Linear Model**"
   ]
  },
  {
   "cell_type": "code",
   "execution_count": 29,
   "metadata": {},
   "outputs": [],
   "source": [
    "# scale model for linear using ohe data\n",
    "scaler = StandardScaler()\n",
    "scaler.fit(features_ohe_train)\n",
    "features_ohe_train_scaled = scaler.transform(features_ohe_train)\n",
    "features_ohe_valid_scaled = scaler.transform(features_ohe_valid)"
   ]
  },
  {
   "cell_type": "code",
   "execution_count": 30,
   "metadata": {},
   "outputs": [
    {
     "data": {
      "text/plain": [
       "LogisticRegression(C=1.0, class_weight=None, dual=False, fit_intercept=True,\n",
       "                   intercept_scaling=1, l1_ratio=None, max_iter=100,\n",
       "                   multi_class='warn', n_jobs=None, penalty='l2',\n",
       "                   random_state=12345, solver='warn', tol=0.0001, verbose=0,\n",
       "                   warm_start=False)"
      ]
     },
     "execution_count": 30,
     "metadata": {},
     "output_type": "execute_result"
    }
   ],
   "source": [
    "# create logistic regression model\n",
    "lr = LogisticRegression(random_state=12345)\n",
    "lr.fit(features_ohe_train_scaled, target_ohe_train)"
   ]
  },
  {
   "cell_type": "code",
   "execution_count": 31,
   "metadata": {},
   "outputs": [
    {
     "data": {
      "text/plain": [
       "array([0, 0, 0, ..., 0, 0, 0], dtype=int8)"
      ]
     },
     "execution_count": 31,
     "metadata": {},
     "output_type": "execute_result"
    }
   ],
   "source": [
    "lr.predict(features_ohe_valid_scaled)"
   ]
  },
  {
   "cell_type": "code",
   "execution_count": 32,
   "metadata": {},
   "outputs": [
    {
     "name": "stdout",
     "output_type": "stream",
     "text": [
      "Precision: 59.59%\n",
      "Recall: 20.37%\n",
      "F1 Score: 30.37%\n",
      "Accuracy Score: 80.05%\n",
      "Balanced Accuracy Score: 58.31%\n",
      "ROC AUC score: 58.31%\n"
     ]
    }
   ],
   "source": [
    "print_scores(target_ohe_valid, lr.predict(features_ohe_valid_scaled))"
   ]
  },
  {
   "cell_type": "code",
   "execution_count": 33,
   "metadata": {},
   "outputs": [
    {
     "data": {
      "text/plain": [
       "array([[1514,   59],\n",
       "       [ 340,   87]])"
      ]
     },
     "execution_count": 33,
     "metadata": {},
     "output_type": "execute_result"
    }
   ],
   "source": [
    "# run a confusion matrix\n",
    "confusion_matrix(target_ohe_valid, lr.predict(features_ohe_valid_scaled))"
   ]
  },
  {
   "cell_type": "markdown",
   "metadata": {},
   "source": [
    "The model shows improvements over the baseline. Our precision, recall, and F1 score all increased. The accuracy stayed about the same, but the balanced accuracy score and ROC AUC scores improved. The confusion matrix reveals fewer false positives and finally some negtives. There are more true negatives than false negatives, indicating improvement.\n",
    "\n",
    "We will attempt to adjust for the unbalanced data by adding class_weight='balanced' to the linear regression initialization. "
   ]
  },
  {
   "cell_type": "code",
   "execution_count": 34,
   "metadata": {},
   "outputs": [
    {
     "data": {
      "text/plain": [
       "LogisticRegression(C=1.0, class_weight='balanced', dual=False,\n",
       "                   fit_intercept=True, intercept_scaling=1, l1_ratio=None,\n",
       "                   max_iter=100, multi_class='warn', n_jobs=None, penalty='l2',\n",
       "                   random_state=12345, solver='warn', tol=0.0001, verbose=0,\n",
       "                   warm_start=False)"
      ]
     },
     "execution_count": 34,
     "metadata": {},
     "output_type": "execute_result"
    }
   ],
   "source": [
    "# create logistic regression model using class_weight='balanced'\n",
    "lr = LogisticRegression(random_state=12345, class_weight='balanced')\n",
    "lr.fit(features_ohe_train_scaled, target_ohe_train)"
   ]
  },
  {
   "cell_type": "code",
   "execution_count": 35,
   "metadata": {},
   "outputs": [
    {
     "name": "stdout",
     "output_type": "stream",
     "text": [
      "Precision: 39.08%\n",
      "Recall: 70.02%\n",
      "F1 Score: 50.17%\n",
      "Accuracy Score: 70.3%\n",
      "Balanced Accuracy Score: 70.2%\n",
      "ROC AUC score: 70.2%\n"
     ]
    },
    {
     "data": {
      "text/plain": [
       "array([[1107,  466],\n",
       "       [ 128,  299]])"
      ]
     },
     "execution_count": 35,
     "metadata": {},
     "output_type": "execute_result"
    }
   ],
   "source": [
    "lr.predict(features_ohe_valid_scaled)\n",
    "print_scores(target_ohe_valid, lr.predict(features_ohe_valid_scaled))\n",
    "# run a confusion matrix\n",
    "confusion_matrix(target_ohe_valid, lr.predict(features_ohe_valid_scaled))"
   ]
  },
  {
   "cell_type": "markdown",
   "metadata": {},
   "source": [
    "We observe a great increase in recall, F1 score, and the ROC AUC score. The accuracy score dropped, as did the precision. The confusion matrix shows an overall better distribution. However, the number of false negatives rose precipitiously. \n",
    "\n",
    "Next we will explore the decision tree classifier.\n",
    "\n",
    "**Decision Tree Classifier**"
   ]
  },
  {
   "cell_type": "code",
   "execution_count": 36,
   "metadata": {},
   "outputs": [
    {
     "data": {
      "text/plain": [
       "DecisionTreeClassifier(class_weight=None, criterion='gini', max_depth=None,\n",
       "                       max_features=None, max_leaf_nodes=None,\n",
       "                       min_impurity_decrease=0.0, min_impurity_split=None,\n",
       "                       min_samples_leaf=1, min_samples_split=2,\n",
       "                       min_weight_fraction_leaf=0.0, presort=False,\n",
       "                       random_state=12345, splitter='best')"
      ]
     },
     "execution_count": 36,
     "metadata": {},
     "output_type": "execute_result"
    }
   ],
   "source": [
    "# build decision tree model\n",
    "model = DecisionTreeClassifier(random_state=12345)\n",
    "model.fit(features_ohe_train, target_ohe_train)"
   ]
  },
  {
   "cell_type": "code",
   "execution_count": 37,
   "metadata": {},
   "outputs": [
    {
     "name": "stdout",
     "output_type": "stream",
     "text": [
      "Precision: 51.18%\n",
      "Recall: 50.82%\n",
      "F1 Score: 51.0%\n",
      "Accuracy Score: 79.15%\n",
      "Balanced Accuracy Score: 68.83%\n",
      "ROC AUC score: 68.83%\n"
     ]
    }
   ],
   "source": [
    "# display scores\n",
    "print_scores(target_ohe_valid, model.predict(features_ohe_valid))"
   ]
  },
  {
   "cell_type": "code",
   "execution_count": 38,
   "metadata": {},
   "outputs": [
    {
     "data": {
      "text/plain": [
       "array([[1366,  207],\n",
       "       [ 210,  217]])"
      ]
     },
     "execution_count": 38,
     "metadata": {},
     "output_type": "execute_result"
    }
   ],
   "source": [
    "# run a confusion matrix\n",
    "confusion_matrix(target_ohe_valid, model.predict(features_ohe_valid))"
   ]
  },
  {
   "cell_type": "markdown",
   "metadata": {},
   "source": [
    "We note even without balancing of classes, the F1 score is above 50%. The false positive and false negatives are still proportionally high. We will add class_weight=balanced to explore how this changes."
   ]
  },
  {
   "cell_type": "code",
   "execution_count": 39,
   "metadata": {},
   "outputs": [
    {
     "name": "stdout",
     "output_type": "stream",
     "text": [
      "Precision: 53.03%\n",
      "Recall: 49.18%\n",
      "F1 Score: 51.03%\n",
      "Accuracy Score: 79.85%\n",
      "Balanced Accuracy Score: 68.68%\n",
      "ROC AUC score: 68.68%\n"
     ]
    },
    {
     "data": {
      "text/plain": [
       "array([[1387,  186],\n",
       "       [ 217,  210]])"
      ]
     },
     "execution_count": 39,
     "metadata": {},
     "output_type": "execute_result"
    }
   ],
   "source": [
    "# build decision tree model\n",
    "model = DecisionTreeClassifier(random_state=12345, class_weight='balanced')\n",
    "model.fit(features_ohe_train, target_ohe_train)\n",
    "# display scores\n",
    "print_scores(target_ohe_valid, model.predict(features_ohe_valid))\n",
    "# run a confusion matrix\n",
    "confusion_matrix(target_ohe_valid, model.predict(features_ohe_valid))"
   ]
  },
  {
   "cell_type": "markdown",
   "metadata": {},
   "source": [
    "Initializing class wight to balanced didn't change the metrics in any appreciable way. Next we will try random forest. It should have higher accuracy.\n",
    "\n",
    "**Random Forest**"
   ]
  },
  {
   "cell_type": "code",
   "execution_count": 40,
   "metadata": {},
   "outputs": [
    {
     "data": {
      "text/plain": [
       "RandomForestClassifier(bootstrap=True, class_weight=None, criterion='gini',\n",
       "                       max_depth=None, max_features='auto', max_leaf_nodes=None,\n",
       "                       min_impurity_decrease=0.0, min_impurity_split=None,\n",
       "                       min_samples_leaf=1, min_samples_split=2,\n",
       "                       min_weight_fraction_leaf=0.0, n_estimators=10,\n",
       "                       n_jobs=None, oob_score=False, random_state=12345,\n",
       "                       verbose=0, warm_start=False)"
      ]
     },
     "execution_count": 40,
     "metadata": {},
     "output_type": "execute_result"
    }
   ],
   "source": [
    "# build random forest model for encode data\n",
    "model = RandomForestClassifier(random_state=12345)\n",
    "model.fit(features_ohe_train, target_ohe_train)"
   ]
  },
  {
   "cell_type": "code",
   "execution_count": 41,
   "metadata": {},
   "outputs": [
    {
     "name": "stdout",
     "output_type": "stream",
     "text": [
      "Precision: 71.03%\n",
      "Recall: 41.92%\n",
      "F1 Score: 52.72%\n",
      "Accuracy Score: 83.95%\n",
      "Balanced Accuracy Score: 68.64%\n",
      "ROC AUC score: 68.64%\n"
     ]
    },
    {
     "data": {
      "text/plain": [
       "array([[1500,   73],\n",
       "       [ 248,  179]])"
      ]
     },
     "execution_count": 41,
     "metadata": {},
     "output_type": "execute_result"
    }
   ],
   "source": [
    "# display scores\n",
    "print_scores(target_ohe_valid, model.predict(features_ohe_valid))\n",
    "# run a confusion matrix\n",
    "confusion_matrix(target_ohe_valid, model.predict(features_ohe_valid))"
   ]
  },
  {
   "cell_type": "markdown",
   "metadata": {},
   "source": [
    "The F1 score is higher than in the other two models. Now we will add class_weight=balanced."
   ]
  },
  {
   "cell_type": "markdown",
   "metadata": {},
   "source": [
    "**[Return to table of contents](#table_of_contents)**\n",
    "\n",
    "<a class=\"anchor\" id=\"f1\">**Build a model with the maximum possible F1 score (at least 0.59)**</a>"
   ]
  },
  {
   "cell_type": "code",
   "execution_count": 42,
   "metadata": {},
   "outputs": [
    {
     "name": "stdout",
     "output_type": "stream",
     "text": [
      "Precision: 75.81%\n",
      "Recall: 38.17%\n",
      "F1 Score: 50.78%\n",
      "Accuracy Score: 84.2%\n",
      "Balanced Accuracy Score: 67.43%\n",
      "ROC AUC score: 67.43%\n"
     ]
    },
    {
     "data": {
      "text/plain": [
       "array([[1521,   52],\n",
       "       [ 264,  163]])"
      ]
     },
     "execution_count": 42,
     "metadata": {},
     "output_type": "execute_result"
    }
   ],
   "source": [
    "# build random forest model \n",
    "model = RandomForestClassifier(random_state=12345, class_weight='balanced')\n",
    "model.fit(features_ohe_train, target_ohe_train)\n",
    "# display scores\n",
    "print_scores(target_ohe_valid, model.predict(features_ohe_valid))\n",
    "# run a confusion matrix\n",
    "confusion_matrix(target_ohe_valid, model.predict(features_ohe_valid))"
   ]
  },
  {
   "cell_type": "markdown",
   "metadata": {},
   "source": [
    "The F1 score actually went down. Next we will explore the optimal depth and n-estimators."
   ]
  },
  {
   "cell_type": "code",
   "execution_count": 43,
   "metadata": {},
   "outputs": [
    {
     "name": "stdout",
     "output_type": "stream",
     "text": [
      "Accuracy for random forest classifier model\n",
      "\n",
      "What is the best max_depth?\n",
      "The best performing depth = 10 :  0.6291618828932263\n",
      "\n"
     ]
    }
   ],
   "source": [
    "print('Accuracy for random forest classifier model\\n')\n",
    "print('What is the best max_depth?')\n",
    "# print('max_depth                    F1 score')\n",
    "\n",
    "# set up list for accuracy score\n",
    "accuracy_list = []\n",
    "\n",
    "# find the accuracy score when n_estimators is between 1 and 100\n",
    "for n in range(1, 100):\n",
    "        # notice need random_state=12345 here\n",
    "        model = RandomForestClassifier(random_state=12345, class_weight ='balanced',\n",
    "                                       max_depth = n) \n",
    "\n",
    "        # train the model/fit model \n",
    "        model.fit(features_ohe_train, target_ohe_train)\n",
    "        \n",
    "        # find the predictions using validation set \n",
    "        # notice not using score...\n",
    "        predictions_valid = model.predict(features_ohe_valid)\n",
    "        \n",
    "        # calculate F1 score\n",
    "        acc_score = f1_score(target_ohe_valid, predictions_valid)          \n",
    "        \n",
    "        # print n value and accuracy score\n",
    "        # print(\"max_depth =\", n, \": \", acc_score)        \n",
    "        \n",
    "        # add n value and accuracy score to list\n",
    "        accuracy_list.append(acc_score)\n",
    "        \n",
    "# find the max n_estimator and save it as best_n_estimator\n",
    "max_accuracy = max(accuracy_list)\n",
    "\n",
    "# add one to calculation because index begins at 0\n",
    "best_max_depth = accuracy_list.index(max_accuracy) + 1\n",
    "\n",
    "# print n_estimator and accuracy score\n",
    "print(\"The best performing depth =\", best_max_depth, \": \", max_accuracy)\n",
    "print('')"
   ]
  },
  {
   "cell_type": "code",
   "execution_count": 44,
   "metadata": {},
   "outputs": [
    {
     "name": "stdout",
     "output_type": "stream",
     "text": [
      "Accuracy for random forest classifier model\n",
      "\n",
      "What is the best n_estimators?\n",
      "The best performing n_estimators = 13 :  0.550595238095238\n",
      "\n"
     ]
    }
   ],
   "source": [
    "print('Accuracy for random forest classifier model\\n')\n",
    "print('What is the best n_estimators?')\n",
    "#print('n_estimators           F1 score')\n",
    "\n",
    "# set up list for accuracy score\n",
    "accuracy_list = []\n",
    "\n",
    "# find the accuracy score when n_estimators is between 50 and 250\n",
    "for n in range(1, 20):\n",
    "        # notice need random_state=12345 here\n",
    "        model = RandomForestClassifier(random_state=12345, class_weight ='balanced',\n",
    "                                       n_estimators = n) \n",
    "\n",
    "        # train the model/fit model \n",
    "        model.fit(features_ohe_train, target_ohe_train)\n",
    "        \n",
    "        # find the predictions using validation set \n",
    "        # notice not using score...\n",
    "        predictions_valid = model.predict(features_ohe_valid)\n",
    "        \n",
    "        # calculate F1 score\n",
    "        acc_score = f1_score(target_ohe_valid, predictions_valid)      \n",
    "        \n",
    "        # calculate accuracy score\n",
    "        #acc_score = accuracy_score(target_encode_valid, predictions_valid)      \n",
    "        \n",
    "        # print n value and accuracy score\n",
    "        # print(\"n_estimators =\", n, \": \", acc_score)        \n",
    "        \n",
    "        # add n value and accuracy score to list\n",
    "        accuracy_list.append(acc_score)\n",
    "        \n",
    "# find the max n_estimator and save it as best_n_estimator\n",
    "max_accuracy = max(accuracy_list)\n",
    "\n",
    "# add one to calculation because index begins at 0\n",
    "best_n_estimator = accuracy_list.index(max_accuracy) + 1\n",
    "\n",
    "# print n_estimator and accuracy score\n",
    "print(\"The best performing n_estimators =\", best_n_estimator, \": \", max_accuracy)\n",
    "print('')"
   ]
  },
  {
   "cell_type": "code",
   "execution_count": 45,
   "metadata": {},
   "outputs": [
    {
     "name": "stdout",
     "output_type": "stream",
     "text": [
      "Precision: 64.17%\n",
      "Recall: 64.17%\n",
      "F1 Score: 64.17%\n",
      "Accuracy Score: 84.7%\n",
      "Balanced Accuracy Score: 77.22%\n",
      "ROC AUC score: 77.22%\n"
     ]
    },
    {
     "data": {
      "text/plain": [
       "array([[1420,  153],\n",
       "       [ 153,  274]])"
      ]
     },
     "execution_count": 45,
     "metadata": {},
     "output_type": "execute_result"
    }
   ],
   "source": [
    "# build random forest model using best max_depth, n_estimators\n",
    "model = RandomForestClassifier(random_state=12345, class_weight='balanced',\n",
    "                              max_depth = 10, n_estimators = 17)\n",
    "model.fit(features_ohe_train, target_ohe_train)\n",
    "# display scores\n",
    "print_scores(target_ohe_valid, model.predict(features_ohe_valid))\n",
    "# run a confusion matrix\n",
    "confusion_matrix(target_ohe_valid, model.predict(features_ohe_valid))"
   ]
  },
  {
   "cell_type": "markdown",
   "metadata": {},
   "source": [
    "Here we have the highest F1 score yet, well above the 59% threshold. Finally, let's unsample the target data and see if we can improve the F1 score."
   ]
  },
  {
   "cell_type": "code",
   "execution_count": 46,
   "metadata": {},
   "outputs": [
    {
     "name": "stdout",
     "output_type": "stream",
     "text": [
      "Precision: 56.17%\n",
      "Recall: 69.32%\n",
      "F1 Score: 62.05%\n",
      "Accuracy Score: 81.9%\n",
      "Balanced Accuracy Score: 77.32%\n",
      "ROC AUC score: 77.32%\n"
     ]
    },
    {
     "data": {
      "text/plain": [
       "array([[1342,  231],\n",
       "       [ 131,  296]])"
      ]
     },
     "execution_count": 46,
     "metadata": {},
     "output_type": "execute_result"
    }
   ],
   "source": [
    "# upsample target data\n",
    "\n",
    "def upsample(features, target, repeat):\n",
    "    features_zeros = features[target == 0]\n",
    "    features_ones = features[target == 1]\n",
    "    target_zeros = target[target == 0]\n",
    "    target_ones = target[target ==1]\n",
    "\n",
    "    return features_upsampled, target_upsampled\n",
    "\n",
    "features_zeros = features_ohe_train[target_ohe_train == 0]\n",
    "features_ones = features_ohe_train[target_ohe_train == 1]\n",
    "target_zeros = target_ohe_train[target_ohe_train == 0]\n",
    "target_ones = target_ohe_train[target_ohe_train == 1]\n",
    "\n",
    "repeat = 10\n",
    "features_upsampled = pd.concat([features_zeros] + [features_ones] * repeat)\n",
    "target_upsampled = pd.concat([target_zeros] + [target_ones] * repeat)\n",
    "\n",
    "features_upsampled, target_upsampled = shuffle(features_upsampled, target_upsampled, random_state=12345)\n",
    "\n",
    "features_upsampled, target_upsampled = upsample(\n",
    "    features_ohe_train, target_ohe_train, 10\n",
    ")\n",
    "\n",
    "# print(features_upsampled.shape)\n",
    "# print(target_upsampled.shape)\n",
    "\n",
    "# shuffle the unsampled\n",
    "features_upsampled, target_upsampled = shuffle(features_upsampled, target_upsampled, random_state=12345) \n",
    "\n",
    "def upsample(features, target, repeat):\n",
    "    features_zeros = features[target == 0]\n",
    "    features_ones = features[target == 1]\n",
    "    target_zeros = target[target == 0]\n",
    "    target_ones = target[target == 1]\n",
    "\n",
    "    features_upsampled = pd.concat([features_zeros] + [features_ones] * repeat)\n",
    "    target_upsampled = pd.concat([target_zeros] + [target_ones] * repeat)\n",
    "\n",
    "    features_upsampled, target_upsampled = shuffle(\n",
    "        features_upsampled, target_upsampled, random_state=12345\n",
    "    )\n",
    "\n",
    "    return features_upsampled, target_upsampled\n",
    "\n",
    "features_upsampled, target_upsampled = upsample(\n",
    "    features_ohe_train, target_ohe_train, 10\n",
    ")\n",
    "\n",
    "model = RandomForestClassifier(random_state=12345, class_weight='balanced',\n",
    "                              max_depth = 10, n_estimators = 17)\n",
    "model.fit(features_upsampled, target_upsampled)\n",
    "\n",
    "predicted_valid = model.predict(features_ohe_valid)\n",
    "\n",
    "# display scores\n",
    "print_scores(target_ohe_valid, model.predict(features_ohe_valid))\n",
    "# run a confusion matrix\n",
    "confusion_matrix(target_ohe_valid, model.predict(features_ohe_valid))"
   ]
  },
  {
   "cell_type": "markdown",
   "metadata": {},
   "source": [
    "Upsampling actually decreased our F1 score. We will continue go back to using the previous model.\n",
    "\n",
    "Finally we have a model we can test. The F1 score is well above the 59% threshold, the accuracy score is above the baseline we tested initially, and the confusion matrix demonstrates a greater number of true positives/negatives than the negative postives/negatives. \n",
    "\n",
    "We will use our test data to verify."
   ]
  },
  {
   "cell_type": "markdown",
   "metadata": {},
   "source": [
    "**[Return to table of contents](#table_of_contents)**\n",
    "\n",
    "<a class=\"anchor\" id=\"testing\">**Perform final testing where F1 score >= 0.59**</a>"
   ]
  },
  {
   "cell_type": "code",
   "execution_count": 47,
   "metadata": {},
   "outputs": [
    {
     "name": "stdout",
     "output_type": "stream",
     "text": [
      "Precision: 64.17%\n",
      "Recall: 64.17%\n",
      "F1 Score: 64.17%\n",
      "Accuracy Score: 84.7%\n",
      "Balanced Accuracy Score: 77.22%\n",
      "ROC AUC score: 77.22%\n"
     ]
    },
    {
     "data": {
      "text/plain": [
       "array([[1420,  153],\n",
       "       [ 153,  274]])"
      ]
     },
     "execution_count": 47,
     "metadata": {},
     "output_type": "execute_result"
    }
   ],
   "source": [
    "# build random forest model using best max_depth, n_estimators\n",
    "model = RandomForestClassifier(random_state=12345, class_weight='balanced',\n",
    "                              max_depth = 10, n_estimators = 17)\n",
    "model.fit(features_ohe_train, target_ohe_train)\n",
    "# display scores\n",
    "print_scores(target_ohe_valid, model.predict(features_ohe_valid))\n",
    "# run a confusion matrix\n",
    "confusion_matrix(target_ohe_valid, model.predict(features_ohe_valid))"
   ]
  },
  {
   "cell_type": "code",
   "execution_count": 48,
   "metadata": {},
   "outputs": [
    {
     "name": "stdout",
     "output_type": "stream",
     "text": [
      "Precision: 58.33%\n",
      "Recall: 60.87%\n",
      "F1 Score: 59.57%\n",
      "Accuracy Score: 83.85%\n",
      "Balanced Accuracy Score: 75.15%\n",
      "ROC AUC score: 75.15%\n"
     ]
    },
    {
     "data": {
      "text/plain": [
       "array([[1439,  170],\n",
       "       [ 153,  238]])"
      ]
     },
     "execution_count": 48,
     "metadata": {},
     "output_type": "execute_result"
    }
   ],
   "source": [
    "# display scores\n",
    "print_scores(target_ohe_test, model.predict(features_ohe_test))\n",
    "# run a confusion matrix\n",
    "confusion_matrix(target_ohe_test, model.predict(features_ohe_test))"
   ]
  },
  {
   "cell_type": "markdown",
   "metadata": {},
   "source": [
    "We find the F1 score is over 59% for the test data, indicating the high correlation between precision and recall. The accuracy score is above the baseline, not by much, but some. The ROC AUC score is pretty robust. A ROC of 50% indicates a model created by chance. \n",
    "\n",
    "**[Return to table of contents](#table_of_contents)**\n",
    "\n",
    "<a class=\"anchor\" id=\"aucroc\">Measure the AUC ROC metric and compare it with F1</a>"
   ]
  },
  {
   "cell_type": "code",
   "execution_count": 49,
   "metadata": {},
   "outputs": [
    {
     "data": {
      "image/png": "[encoded data removed]",
      "text/plain": [
       "<Figure size 432x288 with 1 Axes>"
      ]
     },
     "metadata": {
      "needs_background": "light"
     },
     "output_type": "display_data"
    }
   ],
   "source": [
    "probabilities_valid = model.predict_proba(features_ohe_valid)\n",
    "probabilities_one_valid = probabilities_valid[:, 1]\n",
    "\n",
    "# notice used probabilities_one_valid\n",
    "fpr, tpr, thresholds = roc_curve(target_ohe_valid, probabilities_one_valid) \n",
    "\n",
    "plt.figure()\n",
    "plt.plot(fpr, tpr)\n",
    "# < plot the graph >\n",
    "\n",
    "# ROC curve for random model (looks like a straight line)\n",
    "plt.plot([0, 1], [0, 1], linestyle='--')\n",
    "\n",
    "# < use the functions plt.xlim() and plt.ylim() to\n",
    "#   set the boundary for the axes from 0 to 1 >\n",
    "plt.xlim([0.0, 1.0])\n",
    "plt.ylim([0.0, 1.0])\n",
    "\n",
    "# use the functions plt.xlabel() and plt.ylabel() to\n",
    "plt.xlabel('False Positive Rate')\n",
    "plt.ylabel('True Positive Rate')\n",
    "\n",
    "# add the heading \"ROC curve\" with the function plt.title() \n",
    "plt.title('ROC curve')\n",
    "plt.show()"
   ]
  },
  {
   "cell_type": "markdown",
   "metadata": {},
   "source": [
    "The ROC curve indicates our model will consistently predict those customers who will stay with the bank and those that likely to move on. While not perfect, our model is far better than chance. We recommend using the random forest classification with weighted balance in this situation."
   ]
  },
  {
   "cell_type": "markdown",
   "metadata": {},
   "source": [
    "References\n",
    "\n",
    "- [Downcasting data types and memory](https://hackersandslackers.com/downcast-numerical-columns-python-pandas/)"
   ]
  }
 ],
 "metadata": {
  "ExecuteTimeLog": [
   {
    "duration": 1297,
    "start_time": "2021-11-12T22:11:36.892Z"
   },
   {
    "duration": 57,
    "start_time": "2021-11-12T22:11:38.192Z"
   },
   {
    "duration": 15,
    "start_time": "2021-11-12T22:11:38.252Z"
   },
   {
    "duration": 8,
    "start_time": "2021-11-12T22:11:38.270Z"
   },
   {
    "duration": 22,
    "start_time": "2021-11-12T22:11:38.280Z"
   },
   {
    "duration": 4,
    "start_time": "2021-11-12T22:11:38.304Z"
   },
   {
    "duration": 8,
    "start_time": "2021-11-12T22:28:06.386Z"
   },
   {
    "duration": 62,
    "start_time": "2021-11-12T22:30:51.406Z"
   },
   {
    "duration": 4,
    "start_time": "2021-11-12T22:43:54.004Z"
   },
   {
    "duration": 18,
    "start_time": "2021-11-12T22:44:07.592Z"
   },
   {
    "duration": 11,
    "start_time": "2021-11-12T22:50:52.204Z"
   },
   {
    "duration": 13,
    "start_time": "2021-11-12T22:51:27.536Z"
   },
   {
    "duration": 127,
    "start_time": "2021-11-12T23:42:44.847Z"
   },
   {
    "duration": 17,
    "start_time": "2021-11-12T23:42:53.183Z"
   },
   {
    "duration": 58,
    "start_time": "2021-11-12T23:51:27.111Z"
   },
   {
    "duration": 11,
    "start_time": "2021-11-12T23:51:45.711Z"
   },
   {
    "duration": 1406,
    "start_time": "2021-11-13T00:01:15.769Z"
   },
   {
    "duration": 505,
    "start_time": "2021-11-13T00:01:17.178Z"
   },
   {
    "duration": -157,
    "start_time": "2021-11-13T00:01:17.844Z"
   },
   {
    "duration": -159,
    "start_time": "2021-11-13T00:01:17.847Z"
   },
   {
    "duration": -162,
    "start_time": "2021-11-13T00:01:17.851Z"
   },
   {
    "duration": -297,
    "start_time": "2021-11-13T00:01:17.988Z"
   },
   {
    "duration": -298,
    "start_time": "2021-11-13T00:01:17.990Z"
   },
   {
    "duration": -298,
    "start_time": "2021-11-13T00:01:17.992Z"
   },
   {
    "duration": -298,
    "start_time": "2021-11-13T00:01:17.993Z"
   },
   {
    "duration": -304,
    "start_time": "2021-11-13T00:01:18.000Z"
   },
   {
    "duration": -304,
    "start_time": "2021-11-13T00:01:18.002Z"
   },
   {
    "duration": -307,
    "start_time": "2021-11-13T00:01:18.006Z"
   },
   {
    "duration": -308,
    "start_time": "2021-11-13T00:01:18.008Z"
   },
   {
    "duration": -307,
    "start_time": "2021-11-13T00:01:18.009Z"
   },
   {
    "duration": 1278,
    "start_time": "2021-11-13T00:01:30.891Z"
   },
   {
    "duration": 58,
    "start_time": "2021-11-13T00:01:32.172Z"
   },
   {
    "duration": 5,
    "start_time": "2021-11-13T00:01:32.235Z"
   },
   {
    "duration": 24,
    "start_time": "2021-11-13T00:01:32.259Z"
   },
   {
    "duration": 13,
    "start_time": "2021-11-13T00:01:32.285Z"
   },
   {
    "duration": 9,
    "start_time": "2021-11-13T00:01:32.301Z"
   },
   {
    "duration": 53,
    "start_time": "2021-11-13T00:01:32.313Z"
   },
   {
    "duration": 60,
    "start_time": "2021-11-13T00:01:32.369Z"
   },
   {
    "duration": 17,
    "start_time": "2021-11-13T00:01:32.459Z"
   },
   {
    "duration": 14,
    "start_time": "2021-11-13T00:01:32.479Z"
   },
   {
    "duration": 17,
    "start_time": "2021-11-13T00:01:32.496Z"
   },
   {
    "duration": 45,
    "start_time": "2021-11-13T00:01:32.515Z"
   },
   {
    "duration": 489,
    "start_time": "2021-11-13T00:01:32.563Z"
   },
   {
    "duration": -147,
    "start_time": "2021-11-13T00:01:33.202Z"
   },
   {
    "duration": 12,
    "start_time": "2021-11-13T00:03:15.825Z"
   },
   {
    "duration": 1346,
    "start_time": "2021-11-13T00:05:09.341Z"
   },
   {
    "duration": 58,
    "start_time": "2021-11-13T00:05:10.689Z"
   },
   {
    "duration": 5,
    "start_time": "2021-11-13T00:05:10.749Z"
   },
   {
    "duration": 24,
    "start_time": "2021-11-13T00:05:10.760Z"
   },
   {
    "duration": 10,
    "start_time": "2021-11-13T00:05:10.786Z"
   },
   {
    "duration": 9,
    "start_time": "2021-11-13T00:05:10.799Z"
   },
   {
    "duration": 53,
    "start_time": "2021-11-13T00:05:10.810Z"
   },
   {
    "duration": 62,
    "start_time": "2021-11-13T00:05:10.866Z"
   },
   {
    "duration": 32,
    "start_time": "2021-11-13T00:05:10.930Z"
   },
   {
    "duration": 18,
    "start_time": "2021-11-13T00:05:10.965Z"
   },
   {
    "duration": 18,
    "start_time": "2021-11-13T00:05:10.986Z"
   },
   {
    "duration": 14,
    "start_time": "2021-11-13T00:05:11.006Z"
   },
   {
    "duration": 602,
    "start_time": "2021-11-13T00:05:11.023Z"
   },
   {
    "duration": -204,
    "start_time": "2021-11-13T00:05:11.831Z"
   },
   {
    "duration": 11,
    "start_time": "2021-11-13T00:05:25.183Z"
   },
   {
    "duration": 7,
    "start_time": "2021-11-13T00:07:54.081Z"
   },
   {
    "duration": 9,
    "start_time": "2021-11-13T00:09:30.260Z"
   },
   {
    "duration": 1526,
    "start_time": "2021-11-13T00:17:49.371Z"
   },
   {
    "duration": 67,
    "start_time": "2021-11-13T00:17:50.899Z"
   },
   {
    "duration": 4,
    "start_time": "2021-11-13T00:17:50.969Z"
   },
   {
    "duration": 33,
    "start_time": "2021-11-13T00:17:50.976Z"
   },
   {
    "duration": 11,
    "start_time": "2021-11-13T00:17:51.011Z"
   },
   {
    "duration": 8,
    "start_time": "2021-11-13T00:17:51.025Z"
   },
   {
    "duration": 12,
    "start_time": "2021-11-13T00:17:51.036Z"
   },
   {
    "duration": 86,
    "start_time": "2021-11-13T00:17:51.052Z"
   },
   {
    "duration": 20,
    "start_time": "2021-11-13T00:17:51.141Z"
   },
   {
    "duration": 18,
    "start_time": "2021-11-13T00:17:51.163Z"
   },
   {
    "duration": 17,
    "start_time": "2021-11-13T00:17:51.184Z"
   },
   {
    "duration": 7,
    "start_time": "2021-11-13T00:17:51.204Z"
   },
   {
    "duration": 647,
    "start_time": "2021-11-13T00:17:51.213Z"
   },
   {
    "duration": -593,
    "start_time": "2021-11-13T00:17:52.455Z"
   },
   {
    "duration": -592,
    "start_time": "2021-11-13T00:17:52.456Z"
   },
   {
    "duration": 2079,
    "start_time": "2021-11-13T00:18:35.015Z"
   },
   {
    "duration": 1348,
    "start_time": "2021-11-13T00:19:18.838Z"
   },
   {
    "duration": 59,
    "start_time": "2021-11-13T00:19:20.189Z"
   },
   {
    "duration": 9,
    "start_time": "2021-11-13T00:19:20.251Z"
   },
   {
    "duration": 23,
    "start_time": "2021-11-13T00:19:20.262Z"
   },
   {
    "duration": 11,
    "start_time": "2021-11-13T00:19:20.288Z"
   },
   {
    "duration": 8,
    "start_time": "2021-11-13T00:19:20.302Z"
   },
   {
    "duration": 49,
    "start_time": "2021-11-13T00:19:20.312Z"
   },
   {
    "duration": 59,
    "start_time": "2021-11-13T00:19:20.365Z"
   },
   {
    "duration": 41,
    "start_time": "2021-11-13T00:19:20.427Z"
   },
   {
    "duration": 15,
    "start_time": "2021-11-13T00:19:20.471Z"
   },
   {
    "duration": 17,
    "start_time": "2021-11-13T00:19:20.489Z"
   },
   {
    "duration": 11,
    "start_time": "2021-11-13T00:19:20.508Z"
   },
   {
    "duration": 1582,
    "start_time": "2021-11-13T00:19:20.560Z"
   },
   {
    "duration": -276,
    "start_time": "2021-11-13T00:19:22.420Z"
   },
   {
    "duration": -277,
    "start_time": "2021-11-13T00:19:22.423Z"
   },
   {
    "duration": 8,
    "start_time": "2021-11-13T00:23:38.409Z"
   },
   {
    "duration": 23,
    "start_time": "2021-11-13T00:24:56.138Z"
   },
   {
    "duration": 54,
    "start_time": "2021-11-13T00:31:01.806Z"
   },
   {
    "duration": 11,
    "start_time": "2021-11-13T00:31:58.500Z"
   },
   {
    "duration": 56,
    "start_time": "2021-11-13T00:32:11.504Z"
   },
   {
    "duration": 402,
    "start_time": "2021-11-13T00:33:06.115Z"
   },
   {
    "duration": 370,
    "start_time": "2021-11-13T00:33:27.975Z"
   },
   {
    "duration": 375,
    "start_time": "2021-11-13T00:33:37.994Z"
   },
   {
    "duration": 370,
    "start_time": "2021-11-13T00:33:50.265Z"
   },
   {
    "duration": 56,
    "start_time": "2021-11-13T00:34:07.030Z"
   },
   {
    "duration": 127,
    "start_time": "2021-11-13T00:34:29.500Z"
   },
   {
    "duration": 133,
    "start_time": "2021-11-13T00:34:38.469Z"
   },
   {
    "duration": 126,
    "start_time": "2021-11-13T00:34:46.076Z"
   },
   {
    "duration": 9351,
    "start_time": "2021-11-13T00:34:53.187Z"
   },
   {
    "duration": 232,
    "start_time": "2021-11-13T00:35:07.696Z"
   },
   {
    "duration": 59,
    "start_time": "2021-11-13T00:35:13.095Z"
   },
   {
    "duration": 8,
    "start_time": "2021-11-13T00:49:58.811Z"
   },
   {
    "duration": 27,
    "start_time": "2021-11-13T00:57:18.695Z"
   },
   {
    "duration": 1312,
    "start_time": "2021-11-13T00:57:31.465Z"
   },
   {
    "duration": 56,
    "start_time": "2021-11-13T00:57:32.780Z"
   },
   {
    "duration": 4,
    "start_time": "2021-11-13T00:57:32.839Z"
   },
   {
    "duration": 32,
    "start_time": "2021-11-13T00:57:32.846Z"
   },
   {
    "duration": 11,
    "start_time": "2021-11-13T00:57:32.880Z"
   },
   {
    "duration": 8,
    "start_time": "2021-11-13T00:57:32.893Z"
   },
   {
    "duration": 13,
    "start_time": "2021-11-13T00:57:32.903Z"
   },
   {
    "duration": 94,
    "start_time": "2021-11-13T00:57:32.920Z"
   },
   {
    "duration": 16,
    "start_time": "2021-11-13T00:57:33.017Z"
   },
   {
    "duration": 13,
    "start_time": "2021-11-13T00:57:33.059Z"
   },
   {
    "duration": 16,
    "start_time": "2021-11-13T00:57:33.075Z"
   },
   {
    "duration": 9,
    "start_time": "2021-11-13T00:57:33.094Z"
   },
   {
    "duration": 10,
    "start_time": "2021-11-13T00:57:33.106Z"
   },
   {
    "duration": 60,
    "start_time": "2021-11-13T00:57:33.118Z"
   },
   {
    "duration": 533,
    "start_time": "2021-11-13T00:57:33.180Z"
   },
   {
    "duration": -103,
    "start_time": "2021-11-13T00:57:33.818Z"
   },
   {
    "duration": -105,
    "start_time": "2021-11-13T00:57:33.821Z"
   },
   {
    "duration": -105,
    "start_time": "2021-11-13T00:57:33.823Z"
   },
   {
    "duration": 370,
    "start_time": "2021-11-13T00:58:19.463Z"
   },
   {
    "duration": 25,
    "start_time": "2021-11-13T00:58:40.939Z"
   },
   {
    "duration": 24,
    "start_time": "2021-11-13T00:58:49.879Z"
   },
   {
    "duration": 22,
    "start_time": "2021-11-13T00:59:05.347Z"
   },
   {
    "duration": 24,
    "start_time": "2021-11-13T00:59:16.652Z"
   },
   {
    "duration": 24,
    "start_time": "2021-11-13T01:02:15.883Z"
   },
   {
    "duration": 12,
    "start_time": "2021-11-13T01:03:25.259Z"
   },
   {
    "duration": 15,
    "start_time": "2021-11-13T01:04:44.436Z"
   },
   {
    "duration": 1279,
    "start_time": "2021-11-13T01:10:10.595Z"
   },
   {
    "duration": 58,
    "start_time": "2021-11-13T01:10:11.876Z"
   },
   {
    "duration": 5,
    "start_time": "2021-11-13T01:10:11.936Z"
   },
   {
    "duration": 36,
    "start_time": "2021-11-13T01:10:11.944Z"
   },
   {
    "duration": 9,
    "start_time": "2021-11-13T01:10:11.983Z"
   },
   {
    "duration": 9,
    "start_time": "2021-11-13T01:10:11.995Z"
   },
   {
    "duration": 11,
    "start_time": "2021-11-13T01:10:12.007Z"
   },
   {
    "duration": 88,
    "start_time": "2021-11-13T01:10:12.022Z"
   },
   {
    "duration": 16,
    "start_time": "2021-11-13T01:10:12.113Z"
   },
   {
    "duration": 14,
    "start_time": "2021-11-13T01:10:12.159Z"
   },
   {
    "duration": 17,
    "start_time": "2021-11-13T01:10:12.175Z"
   },
   {
    "duration": 6,
    "start_time": "2021-11-13T01:10:12.195Z"
   },
   {
    "duration": 8,
    "start_time": "2021-11-13T01:10:12.204Z"
   },
   {
    "duration": 21,
    "start_time": "2021-11-13T01:10:12.260Z"
   },
   {
    "duration": 22,
    "start_time": "2021-11-13T01:10:12.283Z"
   },
   {
    "duration": 13,
    "start_time": "2021-11-13T01:10:12.307Z"
   },
   {
    "duration": 486,
    "start_time": "2021-11-13T01:10:12.359Z"
   },
   {
    "duration": -102,
    "start_time": "2021-11-13T01:10:12.949Z"
   },
   {
    "duration": -102,
    "start_time": "2021-11-13T01:10:12.951Z"
   },
   {
    "duration": -110,
    "start_time": "2021-11-13T01:10:12.960Z"
   },
   {
    "duration": -110,
    "start_time": "2021-11-13T01:10:12.962Z"
   },
   {
    "duration": 1356,
    "start_time": "2021-11-13T01:10:48.724Z"
   },
   {
    "duration": 62,
    "start_time": "2021-11-13T01:10:50.083Z"
   },
   {
    "duration": 12,
    "start_time": "2021-11-13T01:10:50.149Z"
   },
   {
    "duration": 26,
    "start_time": "2021-11-13T01:10:50.164Z"
   },
   {
    "duration": 13,
    "start_time": "2021-11-13T01:10:50.193Z"
   },
   {
    "duration": 51,
    "start_time": "2021-11-13T01:10:50.208Z"
   },
   {
    "duration": 12,
    "start_time": "2021-11-13T01:10:50.262Z"
   },
   {
    "duration": 86,
    "start_time": "2021-11-13T01:10:50.278Z"
   },
   {
    "duration": 16,
    "start_time": "2021-11-13T01:10:50.366Z"
   },
   {
    "duration": 18,
    "start_time": "2021-11-13T01:10:50.385Z"
   },
   {
    "duration": 55,
    "start_time": "2021-11-13T01:10:50.406Z"
   },
   {
    "duration": 9,
    "start_time": "2021-11-13T01:10:50.465Z"
   },
   {
    "duration": 12,
    "start_time": "2021-11-13T01:10:50.477Z"
   },
   {
    "duration": 22,
    "start_time": "2021-11-13T01:10:50.491Z"
   },
   {
    "duration": 63,
    "start_time": "2021-11-13T01:10:50.515Z"
   },
   {
    "duration": 14,
    "start_time": "2021-11-13T01:10:50.581Z"
   },
   {
    "duration": 14,
    "start_time": "2021-11-13T01:10:50.598Z"
   },
   {
    "duration": 531,
    "start_time": "2021-11-13T01:10:50.615Z"
   },
   {
    "duration": -188,
    "start_time": "2021-11-13T01:10:51.336Z"
   },
   {
    "duration": -188,
    "start_time": "2021-11-13T01:10:51.338Z"
   },
   {
    "duration": -189,
    "start_time": "2021-11-13T01:10:51.340Z"
   },
   {
    "duration": 15,
    "start_time": "2021-11-13T01:12:31.119Z"
   },
   {
    "duration": 14,
    "start_time": "2021-11-13T01:12:37.809Z"
   },
   {
    "duration": 1359,
    "start_time": "2021-11-13T01:13:40.716Z"
   },
   {
    "duration": 58,
    "start_time": "2021-11-13T01:13:42.078Z"
   },
   {
    "duration": 4,
    "start_time": "2021-11-13T01:13:42.139Z"
   },
   {
    "duration": 37,
    "start_time": "2021-11-13T01:13:42.145Z"
   },
   {
    "duration": 13,
    "start_time": "2021-11-13T01:13:42.185Z"
   },
   {
    "duration": 10,
    "start_time": "2021-11-13T01:13:42.201Z"
   },
   {
    "duration": 51,
    "start_time": "2021-11-13T01:13:42.214Z"
   },
   {
    "duration": 60,
    "start_time": "2021-11-13T01:13:42.268Z"
   },
   {
    "duration": 40,
    "start_time": "2021-11-13T01:13:42.333Z"
   },
   {
    "duration": 16,
    "start_time": "2021-11-13T01:13:42.377Z"
   },
   {
    "duration": 17,
    "start_time": "2021-11-13T01:13:42.396Z"
   },
   {
    "duration": 49,
    "start_time": "2021-11-13T01:13:42.416Z"
   },
   {
    "duration": 11,
    "start_time": "2021-11-13T01:13:42.468Z"
   },
   {
    "duration": 24,
    "start_time": "2021-11-13T01:13:42.483Z"
   },
   {
    "duration": 70,
    "start_time": "2021-11-13T01:13:42.510Z"
   },
   {
    "duration": 12,
    "start_time": "2021-11-13T01:13:42.583Z"
   },
   {
    "duration": 23,
    "start_time": "2021-11-13T01:13:42.597Z"
   },
   {
    "duration": 63,
    "start_time": "2021-11-13T01:13:42.622Z"
   },
   {
    "duration": 901,
    "start_time": "2021-11-13T01:13:42.687Z"
   },
   {
    "duration": -705,
    "start_time": "2021-11-13T01:13:44.295Z"
   },
   {
    "duration": 6,
    "start_time": "2021-11-13T01:16:33.687Z"
   },
   {
    "duration": 7,
    "start_time": "2021-11-13T01:16:54.438Z"
   },
   {
    "duration": 6,
    "start_time": "2021-11-13T01:17:26.317Z"
   },
   {
    "duration": 1351,
    "start_time": "2021-11-13T01:17:57.228Z"
   },
   {
    "duration": 60,
    "start_time": "2021-11-13T01:17:58.582Z"
   },
   {
    "duration": 5,
    "start_time": "2021-11-13T01:17:58.645Z"
   },
   {
    "duration": 24,
    "start_time": "2021-11-13T01:17:58.660Z"
   },
   {
    "duration": 11,
    "start_time": "2021-11-13T01:17:58.686Z"
   },
   {
    "duration": 10,
    "start_time": "2021-11-13T01:17:58.700Z"
   },
   {
    "duration": 53,
    "start_time": "2021-11-13T01:17:58.713Z"
   },
   {
    "duration": 60,
    "start_time": "2021-11-13T01:17:58.771Z"
   },
   {
    "duration": 41,
    "start_time": "2021-11-13T01:17:58.833Z"
   },
   {
    "duration": 7,
    "start_time": "2021-11-13T01:17:58.876Z"
   },
   {
    "duration": 16,
    "start_time": "2021-11-13T01:17:58.885Z"
   },
   {
    "duration": 18,
    "start_time": "2021-11-13T01:17:58.903Z"
   },
   {
    "duration": 41,
    "start_time": "2021-11-13T01:17:58.923Z"
   },
   {
    "duration": 18,
    "start_time": "2021-11-13T01:17:58.967Z"
   },
   {
    "duration": 26,
    "start_time": "2021-11-13T01:17:58.988Z"
   },
   {
    "duration": 57,
    "start_time": "2021-11-13T01:17:59.016Z"
   },
   {
    "duration": 14,
    "start_time": "2021-11-13T01:17:59.076Z"
   },
   {
    "duration": 16,
    "start_time": "2021-11-13T01:17:59.092Z"
   },
   {
    "duration": 505,
    "start_time": "2021-11-13T01:17:59.111Z"
   },
   {
    "duration": -99,
    "start_time": "2021-11-13T01:17:59.717Z"
   },
   {
    "duration": -100,
    "start_time": "2021-11-13T01:17:59.719Z"
   },
   {
    "duration": 30,
    "start_time": "2021-11-13T01:18:11.956Z"
   },
   {
    "duration": 16,
    "start_time": "2021-11-13T01:22:23.626Z"
   },
   {
    "duration": 9,
    "start_time": "2021-11-13T01:22:43.349Z"
   },
   {
    "duration": 363,
    "start_time": "2021-11-13T01:22:54.344Z"
   },
   {
    "duration": 9,
    "start_time": "2021-11-13T01:23:12.917Z"
   },
   {
    "duration": 8,
    "start_time": "2021-11-13T01:23:20.933Z"
   },
   {
    "duration": 9,
    "start_time": "2021-11-13T01:23:38.445Z"
   },
   {
    "duration": 8,
    "start_time": "2021-11-13T01:23:48.893Z"
   },
   {
    "duration": 356,
    "start_time": "2021-11-13T01:30:45.176Z"
   },
   {
    "duration": 1305,
    "start_time": "2021-11-13T01:31:07.887Z"
   },
   {
    "duration": 57,
    "start_time": "2021-11-13T01:31:09.195Z"
   },
   {
    "duration": 4,
    "start_time": "2021-11-13T01:31:09.259Z"
   },
   {
    "duration": 30,
    "start_time": "2021-11-13T01:31:09.266Z"
   },
   {
    "duration": 10,
    "start_time": "2021-11-13T01:31:09.298Z"
   },
   {
    "duration": 9,
    "start_time": "2021-11-13T01:31:09.310Z"
   },
   {
    "duration": 39,
    "start_time": "2021-11-13T01:31:09.322Z"
   },
   {
    "duration": 58,
    "start_time": "2021-11-13T01:31:09.363Z"
   },
   {
    "duration": 37,
    "start_time": "2021-11-13T01:31:09.424Z"
   },
   {
    "duration": 7,
    "start_time": "2021-11-13T01:31:09.463Z"
   },
   {
    "duration": 15,
    "start_time": "2021-11-13T01:31:09.472Z"
   },
   {
    "duration": 16,
    "start_time": "2021-11-13T01:31:09.489Z"
   },
   {
    "duration": 7,
    "start_time": "2021-11-13T01:31:09.507Z"
   },
   {
    "duration": 48,
    "start_time": "2021-11-13T01:31:09.517Z"
   },
   {
    "duration": 23,
    "start_time": "2021-11-13T01:31:09.568Z"
   },
   {
    "duration": 22,
    "start_time": "2021-11-13T01:31:09.594Z"
   },
   {
    "duration": 16,
    "start_time": "2021-11-13T01:31:09.659Z"
   },
   {
    "duration": 16,
    "start_time": "2021-11-13T01:31:09.678Z"
   },
   {
    "duration": 76,
    "start_time": "2021-11-13T01:31:09.697Z"
   },
   {
    "duration": 12,
    "start_time": "2021-11-13T01:31:09.776Z"
   },
   {
    "duration": 497,
    "start_time": "2021-11-13T01:31:09.790Z"
   },
   {
    "duration": -150,
    "start_time": "2021-11-13T01:31:10.441Z"
   },
   {
    "duration": 1354,
    "start_time": "2021-11-13T01:33:22.313Z"
   },
   {
    "duration": 58,
    "start_time": "2021-11-13T01:33:23.670Z"
   },
   {
    "duration": 5,
    "start_time": "2021-11-13T01:33:23.732Z"
   },
   {
    "duration": 26,
    "start_time": "2021-11-13T01:33:23.761Z"
   },
   {
    "duration": 10,
    "start_time": "2021-11-13T01:33:23.790Z"
   },
   {
    "duration": 7,
    "start_time": "2021-11-13T01:33:23.802Z"
   },
   {
    "duration": 15,
    "start_time": "2021-11-13T01:33:23.811Z"
   },
   {
    "duration": 58,
    "start_time": "2021-11-13T01:33:23.861Z"
   },
   {
    "duration": 38,
    "start_time": "2021-11-13T01:33:23.923Z"
   },
   {
    "duration": 6,
    "start_time": "2021-11-13T01:33:23.964Z"
   },
   {
    "duration": 14,
    "start_time": "2021-11-13T01:33:23.973Z"
   },
   {
    "duration": 16,
    "start_time": "2021-11-13T01:33:23.989Z"
   },
   {
    "duration": 8,
    "start_time": "2021-11-13T01:33:24.007Z"
   },
   {
    "duration": 8,
    "start_time": "2021-11-13T01:33:24.060Z"
   },
   {
    "duration": 22,
    "start_time": "2021-11-13T01:33:24.071Z"
   },
   {
    "duration": 20,
    "start_time": "2021-11-13T01:33:24.096Z"
   },
   {
    "duration": 46,
    "start_time": "2021-11-13T01:33:24.119Z"
   },
   {
    "duration": 15,
    "start_time": "2021-11-13T01:33:24.168Z"
   },
   {
    "duration": 29,
    "start_time": "2021-11-13T01:33:24.185Z"
   },
   {
    "duration": 485,
    "start_time": "2021-11-13T01:33:24.217Z"
   },
   {
    "duration": -190,
    "start_time": "2021-11-13T01:33:24.894Z"
   },
   {
    "duration": -190,
    "start_time": "2021-11-13T01:33:24.896Z"
   },
   {
    "duration": 432,
    "start_time": "2021-11-13T01:34:08.738Z"
   },
   {
    "duration": 10,
    "start_time": "2021-11-13T01:34:19.874Z"
   },
   {
    "duration": 30,
    "start_time": "2021-11-13T01:34:22.356Z"
   },
   {
    "duration": 1289,
    "start_time": "2021-11-13T02:08:57.091Z"
   },
   {
    "duration": 57,
    "start_time": "2021-11-13T02:08:58.383Z"
   },
   {
    "duration": 5,
    "start_time": "2021-11-13T02:08:58.443Z"
   },
   {
    "duration": 32,
    "start_time": "2021-11-13T02:08:58.451Z"
   },
   {
    "duration": 10,
    "start_time": "2021-11-13T02:08:58.485Z"
   },
   {
    "duration": 7,
    "start_time": "2021-11-13T02:08:58.498Z"
   },
   {
    "duration": 12,
    "start_time": "2021-11-13T02:08:58.507Z"
   },
   {
    "duration": 65,
    "start_time": "2021-11-13T02:08:58.560Z"
   },
   {
    "duration": 39,
    "start_time": "2021-11-13T02:08:58.629Z"
   },
   {
    "duration": 9,
    "start_time": "2021-11-13T02:08:58.671Z"
   },
   {
    "duration": 16,
    "start_time": "2021-11-13T02:08:58.683Z"
   },
   {
    "duration": 59,
    "start_time": "2021-11-13T02:08:58.702Z"
   },
   {
    "duration": 11,
    "start_time": "2021-11-13T02:08:58.765Z"
   },
   {
    "duration": 23,
    "start_time": "2021-11-13T02:08:58.779Z"
   },
   {
    "duration": 26,
    "start_time": "2021-11-13T02:08:58.805Z"
   },
   {
    "duration": 43,
    "start_time": "2021-11-13T02:08:58.834Z"
   },
   {
    "duration": 14,
    "start_time": "2021-11-13T02:08:58.880Z"
   },
   {
    "duration": 32,
    "start_time": "2021-11-13T02:08:58.897Z"
   },
   {
    "duration": 59,
    "start_time": "2021-11-13T02:08:58.932Z"
   },
   {
    "duration": 479,
    "start_time": "2021-11-13T02:08:58.993Z"
   },
   {
    "duration": -202,
    "start_time": "2021-11-13T02:08:59.677Z"
   },
   {
    "duration": -205,
    "start_time": "2021-11-13T02:08:59.682Z"
   },
   {
    "duration": -207,
    "start_time": "2021-11-13T02:08:59.685Z"
   },
   {
    "duration": -207,
    "start_time": "2021-11-13T02:08:59.687Z"
   },
   {
    "duration": 29,
    "start_time": "2021-11-13T02:09:24.417Z"
   },
   {
    "duration": 13,
    "start_time": "2021-11-13T02:09:41.296Z"
   },
   {
    "duration": 14,
    "start_time": "2021-11-13T02:11:31.534Z"
   },
   {
    "duration": 15,
    "start_time": "2021-11-13T02:11:47.456Z"
   },
   {
    "duration": 15,
    "start_time": "2021-11-13T02:12:03.983Z"
   },
   {
    "duration": 18,
    "start_time": "2021-11-13T02:12:30.062Z"
   },
   {
    "duration": 15,
    "start_time": "2021-11-13T02:12:39.953Z"
   },
   {
    "duration": 16,
    "start_time": "2021-11-13T02:12:56.329Z"
   },
   {
    "duration": 17,
    "start_time": "2021-11-13T02:13:08.871Z"
   },
   {
    "duration": 15,
    "start_time": "2021-11-13T02:13:28.332Z"
   },
   {
    "duration": 14,
    "start_time": "2021-11-13T02:18:02.249Z"
   },
   {
    "duration": 8,
    "start_time": "2021-11-13T02:20:34.785Z"
   },
   {
    "duration": 8,
    "start_time": "2021-11-13T02:20:46.947Z"
   },
   {
    "duration": 9,
    "start_time": "2021-11-13T02:21:21.213Z"
   },
   {
    "duration": 6,
    "start_time": "2021-11-13T02:22:21.084Z"
   },
   {
    "duration": 8,
    "start_time": "2021-11-13T02:22:31.836Z"
   },
   {
    "duration": 9,
    "start_time": "2021-11-13T02:23:13.169Z"
   },
   {
    "duration": 412,
    "start_time": "2021-11-13T02:28:27.518Z"
   },
   {
    "duration": 8,
    "start_time": "2021-11-13T02:28:48.927Z"
   },
   {
    "duration": 138,
    "start_time": "2021-11-13T02:32:19.924Z"
   },
   {
    "duration": 1351,
    "start_time": "2021-11-13T02:32:30.544Z"
   },
   {
    "duration": 64,
    "start_time": "2021-11-13T02:32:31.898Z"
   },
   {
    "duration": 5,
    "start_time": "2021-11-13T02:32:31.965Z"
   },
   {
    "duration": 27,
    "start_time": "2021-11-13T02:32:31.972Z"
   },
   {
    "duration": 11,
    "start_time": "2021-11-13T02:32:32.001Z"
   },
   {
    "duration": 44,
    "start_time": "2021-11-13T02:32:32.015Z"
   },
   {
    "duration": 10,
    "start_time": "2021-11-13T02:32:32.061Z"
   },
   {
    "duration": 63,
    "start_time": "2021-11-13T02:32:32.074Z"
   },
   {
    "duration": 16,
    "start_time": "2021-11-13T02:32:32.161Z"
   },
   {
    "duration": 9,
    "start_time": "2021-11-13T02:32:32.179Z"
   },
   {
    "duration": 15,
    "start_time": "2021-11-13T02:32:32.191Z"
   },
   {
    "duration": 53,
    "start_time": "2021-11-13T02:32:32.208Z"
   },
   {
    "duration": 7,
    "start_time": "2021-11-13T02:32:32.263Z"
   },
   {
    "duration": 12,
    "start_time": "2021-11-13T02:32:32.272Z"
   },
   {
    "duration": 21,
    "start_time": "2021-11-13T02:32:32.287Z"
   },
   {
    "duration": 62,
    "start_time": "2021-11-13T02:32:32.310Z"
   },
   {
    "duration": 13,
    "start_time": "2021-11-13T02:32:32.374Z"
   },
   {
    "duration": 16,
    "start_time": "2021-11-13T02:32:32.389Z"
   },
   {
    "duration": 65,
    "start_time": "2021-11-13T02:32:32.407Z"
   },
   {
    "duration": 33,
    "start_time": "2021-11-13T02:32:32.474Z"
   },
   {
    "duration": 17,
    "start_time": "2021-11-13T02:32:32.510Z"
   },
   {
    "duration": 43,
    "start_time": "2021-11-13T02:32:32.530Z"
   },
   {
    "duration": 14,
    "start_time": "2021-11-13T02:32:32.577Z"
   },
   {
    "duration": 20,
    "start_time": "2021-11-13T02:32:32.594Z"
   },
   {
    "duration": 8,
    "start_time": "2021-11-13T02:32:32.617Z"
   },
   {
    "duration": 132,
    "start_time": "2021-11-13T02:32:32.627Z"
   },
   {
    "duration": -102,
    "start_time": "2021-11-13T02:32:32.863Z"
   },
   {
    "duration": 5,
    "start_time": "2021-11-13T02:32:46.836Z"
   },
   {
    "duration": 123,
    "start_time": "2021-11-13T02:39:02.630Z"
   },
   {
    "duration": 835,
    "start_time": "2021-11-13T02:39:03.240Z"
   },
   {
    "duration": 5,
    "start_time": "2021-11-13T02:39:27.167Z"
   },
   {
    "duration": 700,
    "start_time": "2021-11-13T02:39:32.184Z"
   },
   {
    "duration": 1405,
    "start_time": "2021-11-13T02:41:49.878Z"
   },
   {
    "duration": 57,
    "start_time": "2021-11-13T02:41:51.286Z"
   },
   {
    "duration": 5,
    "start_time": "2021-11-13T02:41:51.346Z"
   },
   {
    "duration": 23,
    "start_time": "2021-11-13T02:41:51.359Z"
   },
   {
    "duration": 10,
    "start_time": "2021-11-13T02:41:51.385Z"
   },
   {
    "duration": 7,
    "start_time": "2021-11-13T02:41:51.398Z"
   },
   {
    "duration": 10,
    "start_time": "2021-11-13T02:41:51.407Z"
   },
   {
    "duration": 60,
    "start_time": "2021-11-13T02:41:51.460Z"
   },
   {
    "duration": 36,
    "start_time": "2021-11-13T02:41:51.523Z"
   },
   {
    "duration": 5,
    "start_time": "2021-11-13T02:41:51.562Z"
   },
   {
    "duration": 14,
    "start_time": "2021-11-13T02:41:51.569Z"
   },
   {
    "duration": 16,
    "start_time": "2021-11-13T02:41:51.585Z"
   },
   {
    "duration": 8,
    "start_time": "2021-11-13T02:41:51.603Z"
   },
   {
    "duration": 50,
    "start_time": "2021-11-13T02:41:51.613Z"
   },
   {
    "duration": 21,
    "start_time": "2021-11-13T02:41:51.666Z"
   },
   {
    "duration": 20,
    "start_time": "2021-11-13T02:41:51.689Z"
   },
   {
    "duration": 50,
    "start_time": "2021-11-13T02:41:51.712Z"
   },
   {
    "duration": 15,
    "start_time": "2021-11-13T02:41:51.765Z"
   },
   {
    "duration": 30,
    "start_time": "2021-11-13T02:41:51.782Z"
   },
   {
    "duration": 72,
    "start_time": "2021-11-13T02:41:51.815Z"
   },
   {
    "duration": 17,
    "start_time": "2021-11-13T02:41:51.889Z"
   },
   {
    "duration": 16,
    "start_time": "2021-11-13T02:41:51.908Z"
   },
   {
    "duration": 8,
    "start_time": "2021-11-13T02:41:51.962Z"
   },
   {
    "duration": 9,
    "start_time": "2021-11-13T02:41:51.973Z"
   },
   {
    "duration": 9,
    "start_time": "2021-11-13T02:41:51.985Z"
   },
   {
    "duration": 8,
    "start_time": "2021-11-13T02:41:51.997Z"
   },
   {
    "duration": 892,
    "start_time": "2021-11-13T02:41:52.007Z"
   },
   {
    "duration": -103,
    "start_time": "2021-11-13T02:41:53.006Z"
   },
   {
    "duration": 1427,
    "start_time": "2021-11-13T02:49:01.360Z"
   },
   {
    "duration": 58,
    "start_time": "2021-11-13T02:49:02.790Z"
   },
   {
    "duration": 7,
    "start_time": "2021-11-13T02:49:02.851Z"
   },
   {
    "duration": 23,
    "start_time": "2021-11-13T02:49:02.861Z"
   },
   {
    "duration": 10,
    "start_time": "2021-11-13T02:49:02.886Z"
   },
   {
    "duration": 11,
    "start_time": "2021-11-13T02:49:02.898Z"
   },
   {
    "duration": 47,
    "start_time": "2021-11-13T02:49:02.912Z"
   },
   {
    "duration": 58,
    "start_time": "2021-11-13T02:49:02.963Z"
   },
   {
    "duration": 35,
    "start_time": "2021-11-13T02:49:03.024Z"
   },
   {
    "duration": 4,
    "start_time": "2021-11-13T02:49:03.061Z"
   },
   {
    "duration": 13,
    "start_time": "2021-11-13T02:49:03.068Z"
   },
   {
    "duration": 16,
    "start_time": "2021-11-13T02:49:03.083Z"
   },
   {
    "duration": 7,
    "start_time": "2021-11-13T02:49:03.102Z"
   },
   {
    "duration": 58,
    "start_time": "2021-11-13T02:49:03.111Z"
   },
   {
    "duration": 19,
    "start_time": "2021-11-13T02:49:03.172Z"
   },
   {
    "duration": 20,
    "start_time": "2021-11-13T02:49:03.193Z"
   },
   {
    "duration": 50,
    "start_time": "2021-11-13T02:49:03.215Z"
   },
   {
    "duration": 15,
    "start_time": "2021-11-13T02:49:03.267Z"
   },
   {
    "duration": 31,
    "start_time": "2021-11-13T02:49:03.285Z"
   },
   {
    "duration": 65,
    "start_time": "2021-11-13T02:49:03.319Z"
   },
   {
    "duration": 19,
    "start_time": "2021-11-13T02:49:03.387Z"
   },
   {
    "duration": 13,
    "start_time": "2021-11-13T02:49:03.408Z"
   },
   {
    "duration": 10,
    "start_time": "2021-11-13T02:49:03.464Z"
   },
   {
    "duration": 10,
    "start_time": "2021-11-13T02:49:03.477Z"
   },
   {
    "duration": 19,
    "start_time": "2021-11-13T02:49:03.489Z"
   },
   {
    "duration": 7,
    "start_time": "2021-11-13T02:49:03.511Z"
   },
   {
    "duration": 51,
    "start_time": "2021-11-13T02:49:03.520Z"
   },
   {
    "duration": 844,
    "start_time": "2021-11-13T02:49:03.574Z"
   },
   {
    "duration": -170,
    "start_time": "2021-11-13T02:49:04.591Z"
   },
   {
    "duration": -171,
    "start_time": "2021-11-13T02:49:04.595Z"
   },
   {
    "duration": 1366,
    "start_time": "2021-11-13T02:50:20.823Z"
   },
   {
    "duration": 60,
    "start_time": "2021-11-13T02:50:22.191Z"
   },
   {
    "duration": 6,
    "start_time": "2021-11-13T02:50:22.254Z"
   },
   {
    "duration": 23,
    "start_time": "2021-11-13T02:50:22.263Z"
   },
   {
    "duration": 10,
    "start_time": "2021-11-13T02:50:22.289Z"
   },
   {
    "duration": 8,
    "start_time": "2021-11-13T02:50:22.302Z"
   },
   {
    "duration": 54,
    "start_time": "2021-11-13T02:50:22.312Z"
   },
   {
    "duration": 59,
    "start_time": "2021-11-13T02:50:22.370Z"
   },
   {
    "duration": 41,
    "start_time": "2021-11-13T02:50:22.432Z"
   },
   {
    "duration": 7,
    "start_time": "2021-11-13T02:50:22.476Z"
   },
   {
    "duration": 15,
    "start_time": "2021-11-13T02:50:22.486Z"
   },
   {
    "duration": 18,
    "start_time": "2021-11-13T02:50:22.504Z"
   },
   {
    "duration": 9,
    "start_time": "2021-11-13T02:50:22.560Z"
   },
   {
    "duration": 11,
    "start_time": "2021-11-13T02:50:22.572Z"
   },
   {
    "duration": 21,
    "start_time": "2021-11-13T02:50:22.585Z"
   },
   {
    "duration": 68,
    "start_time": "2021-11-13T02:50:22.609Z"
   },
   {
    "duration": 12,
    "start_time": "2021-11-13T02:50:22.680Z"
   },
   {
    "duration": 13,
    "start_time": "2021-11-13T02:50:22.694Z"
   },
   {
    "duration": 66,
    "start_time": "2021-11-13T02:50:22.709Z"
   },
   {
    "duration": 29,
    "start_time": "2021-11-13T02:50:22.777Z"
   },
   {
    "duration": 16,
    "start_time": "2021-11-13T02:50:22.808Z"
   },
   {
    "duration": 41,
    "start_time": "2021-11-13T02:50:22.826Z"
   },
   {
    "duration": 8,
    "start_time": "2021-11-13T02:50:22.871Z"
   },
   {
    "duration": 7,
    "start_time": "2021-11-13T02:50:22.881Z"
   },
   {
    "duration": 7,
    "start_time": "2021-11-13T02:50:22.890Z"
   },
   {
    "duration": 6,
    "start_time": "2021-11-13T02:50:22.900Z"
   },
   {
    "duration": 60,
    "start_time": "2021-11-13T02:50:22.908Z"
   },
   {
    "duration": 839,
    "start_time": "2021-11-13T02:50:22.970Z"
   },
   {
    "duration": -139,
    "start_time": "2021-11-13T02:50:23.950Z"
   },
   {
    "duration": -143,
    "start_time": "2021-11-13T02:50:23.956Z"
   },
   {
    "duration": 164,
    "start_time": "2021-11-13T02:53:26.844Z"
   },
   {
    "duration": 351,
    "start_time": "2021-11-13T02:53:37.813Z"
   },
   {
    "duration": 324,
    "start_time": "2021-11-13T02:58:53.793Z"
   },
   {
    "duration": 6,
    "start_time": "2021-11-13T03:01:05.041Z"
   },
   {
    "duration": 12,
    "start_time": "2021-11-13T03:04:39.792Z"
   },
   {
    "duration": 11,
    "start_time": "2021-11-13T03:04:48.446Z"
   },
   {
    "duration": 11,
    "start_time": "2021-11-13T03:05:00.412Z"
   },
   {
    "duration": 14,
    "start_time": "2021-11-13T03:05:51.924Z"
   },
   {
    "duration": 14,
    "start_time": "2021-11-13T03:06:22.075Z"
   },
   {
    "duration": 15,
    "start_time": "2021-11-13T03:06:28.191Z"
   },
   {
    "duration": 402,
    "start_time": "2021-11-13T03:06:51.051Z"
   },
   {
    "duration": 378,
    "start_time": "2021-11-13T03:07:01.645Z"
   },
   {
    "duration": 129,
    "start_time": "2021-11-13T03:07:18.082Z"
   },
   {
    "duration": 16,
    "start_time": "2021-11-13T03:07:25.535Z"
   },
   {
    "duration": 15,
    "start_time": "2021-11-13T03:07:46.507Z"
   },
   {
    "duration": 16,
    "start_time": "2021-11-13T03:08:08.297Z"
   },
   {
    "duration": 15,
    "start_time": "2021-11-13T03:08:17.325Z"
   },
   {
    "duration": 572,
    "start_time": "2021-11-13T03:09:14.267Z"
   },
   {
    "duration": 204,
    "start_time": "2021-11-13T03:09:31.285Z"
   },
   {
    "duration": 429,
    "start_time": "2021-11-13T03:17:45.033Z"
   },
   {
    "duration": 1374,
    "start_time": "2021-11-13T03:18:01.133Z"
   },
   {
    "duration": 1396,
    "start_time": "2021-11-13T03:18:29.591Z"
   },
   {
    "duration": 61,
    "start_time": "2021-11-13T03:18:30.990Z"
   },
   {
    "duration": 7,
    "start_time": "2021-11-13T03:18:31.054Z"
   },
   {
    "duration": 43,
    "start_time": "2021-11-13T03:18:31.064Z"
   },
   {
    "duration": 12,
    "start_time": "2021-11-13T03:18:31.109Z"
   },
   {
    "duration": 15,
    "start_time": "2021-11-13T03:18:31.124Z"
   },
   {
    "duration": 9,
    "start_time": "2021-11-13T03:18:31.159Z"
   },
   {
    "duration": 65,
    "start_time": "2021-11-13T03:18:31.172Z"
   },
   {
    "duration": 17,
    "start_time": "2021-11-13T03:18:31.259Z"
   },
   {
    "duration": 13,
    "start_time": "2021-11-13T03:18:31.278Z"
   },
   {
    "duration": 16,
    "start_time": "2021-11-13T03:18:31.293Z"
   },
   {
    "duration": 47,
    "start_time": "2021-11-13T03:18:31.312Z"
   },
   {
    "duration": 7,
    "start_time": "2021-11-13T03:18:31.362Z"
   },
   {
    "duration": 8,
    "start_time": "2021-11-13T03:18:31.372Z"
   },
   {
    "duration": 20,
    "start_time": "2021-11-13T03:18:31.383Z"
   },
   {
    "duration": 61,
    "start_time": "2021-11-13T03:18:31.405Z"
   },
   {
    "duration": 13,
    "start_time": "2021-11-13T03:18:31.469Z"
   },
   {
    "duration": 14,
    "start_time": "2021-11-13T03:18:31.485Z"
   },
   {
    "duration": 73,
    "start_time": "2021-11-13T03:18:31.502Z"
   },
   {
    "duration": 29,
    "start_time": "2021-11-13T03:18:31.578Z"
   },
   {
    "duration": 17,
    "start_time": "2021-11-13T03:18:31.610Z"
   },
   {
    "duration": 44,
    "start_time": "2021-11-13T03:18:31.629Z"
   },
   {
    "duration": 24,
    "start_time": "2021-11-13T03:18:31.678Z"
   },
   {
    "duration": 7,
    "start_time": "2021-11-13T03:18:31.705Z"
   },
   {
    "duration": 19,
    "start_time": "2021-11-13T03:18:31.714Z"
   },
   {
    "duration": 28,
    "start_time": "2021-11-13T03:18:31.736Z"
   },
   {
    "duration": 7,
    "start_time": "2021-11-13T03:18:31.767Z"
   },
   {
    "duration": 34,
    "start_time": "2021-11-13T03:18:31.776Z"
   },
   {
    "duration": 495,
    "start_time": "2021-11-13T03:18:31.812Z"
   },
   {
    "duration": -122,
    "start_time": "2021-11-13T03:18:32.432Z"
   },
   {
    "duration": -124,
    "start_time": "2021-11-13T03:18:32.435Z"
   },
   {
    "duration": -125,
    "start_time": "2021-11-13T03:18:32.438Z"
   },
   {
    "duration": -125,
    "start_time": "2021-11-13T03:18:32.440Z"
   },
   {
    "duration": 1341,
    "start_time": "2021-11-13T03:19:33.234Z"
   },
   {
    "duration": 57,
    "start_time": "2021-11-13T03:19:34.577Z"
   },
   {
    "duration": 5,
    "start_time": "2021-11-13T03:19:34.637Z"
   },
   {
    "duration": 35,
    "start_time": "2021-11-13T03:19:34.645Z"
   },
   {
    "duration": 10,
    "start_time": "2021-11-13T03:19:34.682Z"
   },
   {
    "duration": 10,
    "start_time": "2021-11-13T03:19:34.694Z"
   },
   {
    "duration": 18,
    "start_time": "2021-11-13T03:19:34.706Z"
   },
   {
    "duration": 87,
    "start_time": "2021-11-13T03:19:34.728Z"
   },
   {
    "duration": 15,
    "start_time": "2021-11-13T03:19:34.818Z"
   },
   {
    "duration": 28,
    "start_time": "2021-11-13T03:19:34.835Z"
   },
   {
    "duration": 28,
    "start_time": "2021-11-13T03:19:34.865Z"
   },
   {
    "duration": 17,
    "start_time": "2021-11-13T03:19:34.896Z"
   },
   {
    "duration": 9,
    "start_time": "2021-11-13T03:19:34.915Z"
   },
   {
    "duration": 36,
    "start_time": "2021-11-13T03:19:34.927Z"
   },
   {
    "duration": 20,
    "start_time": "2021-11-13T03:19:34.965Z"
   },
   {
    "duration": 27,
    "start_time": "2021-11-13T03:19:34.988Z"
   },
   {
    "duration": 47,
    "start_time": "2021-11-13T03:19:35.017Z"
   },
   {
    "duration": 17,
    "start_time": "2021-11-13T03:19:35.067Z"
   },
   {
    "duration": 30,
    "start_time": "2021-11-13T03:19:35.086Z"
   },
   {
    "duration": 66,
    "start_time": "2021-11-13T03:19:35.119Z"
   },
   {
    "duration": 16,
    "start_time": "2021-11-13T03:19:35.187Z"
   },
   {
    "duration": 14,
    "start_time": "2021-11-13T03:19:35.205Z"
   },
   {
    "duration": 50,
    "start_time": "2021-11-13T03:19:35.223Z"
   },
   {
    "duration": 7,
    "start_time": "2021-11-13T03:19:35.275Z"
   },
   {
    "duration": 14,
    "start_time": "2021-11-13T03:19:35.284Z"
   },
   {
    "duration": 12,
    "start_time": "2021-11-13T03:19:35.301Z"
   },
   {
    "duration": 6,
    "start_time": "2021-11-13T03:19:35.315Z"
   },
   {
    "duration": 38,
    "start_time": "2021-11-13T03:19:35.324Z"
   },
   {
    "duration": 509,
    "start_time": "2021-11-13T03:19:35.364Z"
   },
   {
    "duration": -221,
    "start_time": "2021-11-13T03:19:36.097Z"
   },
   {
    "duration": -222,
    "start_time": "2021-11-13T03:19:36.100Z"
   },
   {
    "duration": -222,
    "start_time": "2021-11-13T03:19:36.103Z"
   },
   {
    "duration": -223,
    "start_time": "2021-11-13T03:19:36.106Z"
   },
   {
    "duration": 129,
    "start_time": "2021-11-13T03:19:42.744Z"
   },
   {
    "duration": 48,
    "start_time": "2021-11-13T03:23:07.791Z"
   },
   {
    "duration": 134,
    "start_time": "2021-11-13T04:05:11.375Z"
   },
   {
    "duration": 687,
    "start_time": "2021-11-13T04:07:50.321Z"
   },
   {
    "duration": 1720,
    "start_time": "2021-11-13T04:08:00.822Z"
   },
   {
    "duration": 1365,
    "start_time": "2021-11-13T04:08:21.911Z"
   },
   {
    "duration": 58,
    "start_time": "2021-11-13T04:08:23.279Z"
   },
   {
    "duration": 5,
    "start_time": "2021-11-13T04:08:23.340Z"
   },
   {
    "duration": 23,
    "start_time": "2021-11-13T04:08:23.359Z"
   },
   {
    "duration": 10,
    "start_time": "2021-11-13T04:08:23.385Z"
   },
   {
    "duration": 8,
    "start_time": "2021-11-13T04:08:23.397Z"
   },
   {
    "duration": 10,
    "start_time": "2021-11-13T04:08:23.408Z"
   },
   {
    "duration": 60,
    "start_time": "2021-11-13T04:08:23.458Z"
   },
   {
    "duration": 15,
    "start_time": "2021-11-13T04:08:23.521Z"
   },
   {
    "duration": 23,
    "start_time": "2021-11-13T04:08:23.539Z"
   },
   {
    "duration": 16,
    "start_time": "2021-11-13T04:08:23.564Z"
   },
   {
    "duration": 18,
    "start_time": "2021-11-13T04:08:23.583Z"
   },
   {
    "duration": 12,
    "start_time": "2021-11-13T04:08:23.603Z"
   },
   {
    "duration": 8,
    "start_time": "2021-11-13T04:08:23.660Z"
   },
   {
    "duration": 18,
    "start_time": "2021-11-13T04:08:23.671Z"
   },
   {
    "duration": 20,
    "start_time": "2021-11-13T04:08:23.691Z"
   },
   {
    "duration": 50,
    "start_time": "2021-11-13T04:08:23.714Z"
   },
   {
    "duration": 15,
    "start_time": "2021-11-13T04:08:23.766Z"
   },
   {
    "duration": 29,
    "start_time": "2021-11-13T04:08:23.783Z"
   },
   {
    "duration": 67,
    "start_time": "2021-11-13T04:08:23.814Z"
   },
   {
    "duration": 16,
    "start_time": "2021-11-13T04:08:23.883Z"
   },
   {
    "duration": 13,
    "start_time": "2021-11-13T04:08:23.901Z"
   },
   {
    "duration": 54,
    "start_time": "2021-11-13T04:08:23.918Z"
   },
   {
    "duration": 7,
    "start_time": "2021-11-13T04:08:23.975Z"
   },
   {
    "duration": 13,
    "start_time": "2021-11-13T04:08:23.984Z"
   },
   {
    "duration": 18,
    "start_time": "2021-11-13T04:08:24.000Z"
   },
   {
    "duration": 11,
    "start_time": "2021-11-13T04:08:24.020Z"
   },
   {
    "duration": 29,
    "start_time": "2021-11-13T04:08:24.034Z"
   },
   {
    "duration": 478,
    "start_time": "2021-11-13T04:08:24.066Z"
   },
   {
    "duration": -192,
    "start_time": "2021-11-13T04:08:24.738Z"
   },
   {
    "duration": -195,
    "start_time": "2021-11-13T04:08:24.742Z"
   },
   {
    "duration": -196,
    "start_time": "2021-11-13T04:08:24.745Z"
   },
   {
    "duration": 135,
    "start_time": "2021-11-13T04:13:16.418Z"
   },
   {
    "duration": 132,
    "start_time": "2021-11-13T04:35:20.173Z"
   },
   {
    "duration": 1274,
    "start_time": "2021-11-13T04:36:36.999Z"
   },
   {
    "duration": 57,
    "start_time": "2021-11-13T04:36:38.275Z"
   },
   {
    "duration": 5,
    "start_time": "2021-11-13T04:36:38.335Z"
   },
   {
    "duration": 38,
    "start_time": "2021-11-13T04:36:38.343Z"
   },
   {
    "duration": 10,
    "start_time": "2021-11-13T04:36:38.384Z"
   },
   {
    "duration": 10,
    "start_time": "2021-11-13T04:36:38.396Z"
   },
   {
    "duration": 12,
    "start_time": "2021-11-13T04:36:38.408Z"
   },
   {
    "duration": 88,
    "start_time": "2021-11-13T04:36:38.423Z"
   },
   {
    "duration": 15,
    "start_time": "2021-11-13T04:36:38.514Z"
   },
   {
    "duration": 28,
    "start_time": "2021-11-13T04:36:38.531Z"
   },
   {
    "duration": 15,
    "start_time": "2021-11-13T04:36:38.561Z"
   },
   {
    "duration": 17,
    "start_time": "2021-11-13T04:36:38.578Z"
   },
   {
    "duration": 11,
    "start_time": "2021-11-13T04:36:38.597Z"
   },
   {
    "duration": 11,
    "start_time": "2021-11-13T04:36:38.610Z"
   },
   {
    "duration": 19,
    "start_time": "2021-11-13T04:36:38.660Z"
   },
   {
    "duration": 21,
    "start_time": "2021-11-13T04:36:38.682Z"
   },
   {
    "duration": 12,
    "start_time": "2021-11-13T04:36:38.706Z"
   },
   {
    "duration": 51,
    "start_time": "2021-11-13T04:36:38.720Z"
   },
   {
    "duration": 31,
    "start_time": "2021-11-13T04:36:38.773Z"
   },
   {
    "duration": 59,
    "start_time": "2021-11-13T04:36:38.806Z"
   },
   {
    "duration": 639,
    "start_time": "2021-11-13T04:36:38.868Z"
   },
   {
    "duration": -174,
    "start_time": "2021-11-13T04:36:39.685Z"
   },
   {
    "duration": -176,
    "start_time": "2021-11-13T04:36:39.689Z"
   },
   {
    "duration": -177,
    "start_time": "2021-11-13T04:36:39.692Z"
   },
   {
    "duration": -178,
    "start_time": "2021-11-13T04:36:39.695Z"
   },
   {
    "duration": -179,
    "start_time": "2021-11-13T04:36:39.698Z"
   },
   {
    "duration": -179,
    "start_time": "2021-11-13T04:36:39.700Z"
   },
   {
    "duration": -179,
    "start_time": "2021-11-13T04:36:39.703Z"
   },
   {
    "duration": -181,
    "start_time": "2021-11-13T04:36:39.707Z"
   },
   {
    "duration": -183,
    "start_time": "2021-11-13T04:36:39.711Z"
   },
   {
    "duration": -184,
    "start_time": "2021-11-13T04:36:39.714Z"
   },
   {
    "duration": -184,
    "start_time": "2021-11-13T04:36:39.716Z"
   },
   {
    "duration": -185,
    "start_time": "2021-11-13T04:36:39.719Z"
   },
   {
    "duration": -184,
    "start_time": "2021-11-13T04:36:39.721Z"
   },
   {
    "duration": -183,
    "start_time": "2021-11-13T04:36:39.723Z"
   },
   {
    "duration": -183,
    "start_time": "2021-11-13T04:36:39.725Z"
   },
   {
    "duration": -183,
    "start_time": "2021-11-13T04:36:39.727Z"
   },
   {
    "duration": 109,
    "start_time": "2021-11-13T04:37:11.754Z"
   },
   {
    "duration": 79,
    "start_time": "2021-11-13T04:38:41.794Z"
   },
   {
    "duration": 381,
    "start_time": "2021-11-13T04:44:24.752Z"
   },
   {
    "duration": 7,
    "start_time": "2021-11-13T04:45:33.140Z"
   },
   {
    "duration": 367,
    "start_time": "2021-11-13T04:46:11.563Z"
   },
   {
    "duration": 12,
    "start_time": "2021-11-13T05:06:42.740Z"
   },
   {
    "duration": 387,
    "start_time": "2021-11-13T05:07:21.549Z"
   },
   {
    "duration": 23,
    "start_time": "2021-11-13T05:09:23.514Z"
   },
   {
    "duration": 31,
    "start_time": "2021-11-13T05:25:21.451Z"
   },
   {
    "duration": 1418,
    "start_time": "2021-11-13T05:32:14.772Z"
   },
   {
    "duration": 59,
    "start_time": "2021-11-13T05:32:16.192Z"
   },
   {
    "duration": 6,
    "start_time": "2021-11-13T05:32:16.254Z"
   },
   {
    "duration": 31,
    "start_time": "2021-11-13T05:32:16.263Z"
   },
   {
    "duration": 11,
    "start_time": "2021-11-13T05:32:16.296Z"
   },
   {
    "duration": 8,
    "start_time": "2021-11-13T05:32:16.309Z"
   },
   {
    "duration": 43,
    "start_time": "2021-11-13T05:32:16.320Z"
   },
   {
    "duration": 63,
    "start_time": "2021-11-13T05:32:16.367Z"
   },
   {
    "duration": 18,
    "start_time": "2021-11-13T05:32:16.460Z"
   },
   {
    "duration": 6,
    "start_time": "2021-11-13T05:32:16.481Z"
   },
   {
    "duration": 17,
    "start_time": "2021-11-13T05:32:16.490Z"
   },
   {
    "duration": 52,
    "start_time": "2021-11-13T05:32:16.509Z"
   },
   {
    "duration": 7,
    "start_time": "2021-11-13T05:32:16.564Z"
   },
   {
    "duration": 12,
    "start_time": "2021-11-13T05:32:16.573Z"
   },
   {
    "duration": 20,
    "start_time": "2021-11-13T05:32:16.587Z"
   },
   {
    "duration": 56,
    "start_time": "2021-11-13T05:32:16.609Z"
   },
   {
    "duration": 12,
    "start_time": "2021-11-13T05:32:16.668Z"
   },
   {
    "duration": 22,
    "start_time": "2021-11-13T05:32:16.683Z"
   },
   {
    "duration": 65,
    "start_time": "2021-11-13T05:32:16.708Z"
   },
   {
    "duration": 32,
    "start_time": "2021-11-13T05:32:16.776Z"
   },
   {
    "duration": 150,
    "start_time": "2021-11-13T05:32:16.810Z"
   },
   {
    "duration": 112,
    "start_time": "2021-11-13T05:32:16.963Z"
   },
   {
    "duration": 116,
    "start_time": "2021-11-13T05:32:17.080Z"
   },
   {
    "duration": 25,
    "start_time": "2021-11-13T05:32:17.199Z"
   },
   {
    "duration": 129,
    "start_time": "2021-11-13T05:32:17.226Z"
   },
   {
    "duration": -253,
    "start_time": "2021-11-13T05:32:17.610Z"
   },
   {
    "duration": -262,
    "start_time": "2021-11-13T05:32:17.621Z"
   },
   {
    "duration": -265,
    "start_time": "2021-11-13T05:32:17.625Z"
   },
   {
    "duration": -266,
    "start_time": "2021-11-13T05:32:17.627Z"
   },
   {
    "duration": -297,
    "start_time": "2021-11-13T05:32:17.660Z"
   },
   {
    "duration": -299,
    "start_time": "2021-11-13T05:32:17.664Z"
   },
   {
    "duration": -301,
    "start_time": "2021-11-13T05:32:17.668Z"
   },
   {
    "duration": -302,
    "start_time": "2021-11-13T05:32:17.671Z"
   },
   {
    "duration": -302,
    "start_time": "2021-11-13T05:32:17.673Z"
   },
   {
    "duration": -303,
    "start_time": "2021-11-13T05:32:17.676Z"
   },
   {
    "duration": -303,
    "start_time": "2021-11-13T05:32:17.678Z"
   },
   {
    "duration": -303,
    "start_time": "2021-11-13T05:32:17.680Z"
   },
   {
    "duration": -304,
    "start_time": "2021-11-13T05:32:17.683Z"
   },
   {
    "duration": -304,
    "start_time": "2021-11-13T05:32:17.685Z"
   },
   {
    "duration": -391,
    "start_time": "2021-11-13T05:32:17.774Z"
   },
   {
    "duration": -399,
    "start_time": "2021-11-13T05:32:17.784Z"
   },
   {
    "duration": -402,
    "start_time": "2021-11-13T05:32:17.788Z"
   },
   {
    "duration": -402,
    "start_time": "2021-11-13T05:32:17.790Z"
   },
   {
    "duration": 989,
    "start_time": "2021-11-13T15:30:22.734Z"
   },
   {
    "duration": 42,
    "start_time": "2021-11-13T15:30:23.725Z"
   },
   {
    "duration": 3,
    "start_time": "2021-11-13T15:30:23.769Z"
   },
   {
    "duration": 18,
    "start_time": "2021-11-13T15:30:23.774Z"
   },
   {
    "duration": 7,
    "start_time": "2021-11-13T15:30:23.794Z"
   },
   {
    "duration": 6,
    "start_time": "2021-11-13T15:30:23.802Z"
   },
   {
    "duration": 7,
    "start_time": "2021-11-13T15:30:23.810Z"
   },
   {
    "duration": 40,
    "start_time": "2021-11-13T15:30:23.819Z"
   },
   {
    "duration": 34,
    "start_time": "2021-11-13T15:30:23.861Z"
   },
   {
    "duration": 6,
    "start_time": "2021-11-13T15:30:23.897Z"
   },
   {
    "duration": 10,
    "start_time": "2021-11-13T15:30:23.905Z"
   },
   {
    "duration": 10,
    "start_time": "2021-11-13T15:30:23.916Z"
   },
   {
    "duration": 8,
    "start_time": "2021-11-13T15:30:23.927Z"
   },
   {
    "duration": 8,
    "start_time": "2021-11-13T15:30:23.936Z"
   },
   {
    "duration": 12,
    "start_time": "2021-11-13T15:30:23.946Z"
   },
   {
    "duration": 13,
    "start_time": "2021-11-13T15:30:23.992Z"
   },
   {
    "duration": 8,
    "start_time": "2021-11-13T15:30:24.006Z"
   },
   {
    "duration": 9,
    "start_time": "2021-11-13T15:30:24.016Z"
   },
   {
    "duration": 19,
    "start_time": "2021-11-13T15:30:24.026Z"
   },
   {
    "duration": 6,
    "start_time": "2021-11-13T15:30:24.047Z"
   },
   {
    "duration": 54,
    "start_time": "2021-11-13T15:30:24.055Z"
   },
   {
    "duration": 86,
    "start_time": "2021-11-13T15:30:24.111Z"
   },
   {
    "duration": 105,
    "start_time": "2021-11-13T15:30:24.202Z"
   },
   {
    "duration": 89,
    "start_time": "2021-11-13T15:30:24.309Z"
   },
   {
    "duration": 18,
    "start_time": "2021-11-13T15:30:24.399Z"
   },
   {
    "duration": 68,
    "start_time": "2021-11-13T15:30:24.419Z"
   },
   {
    "duration": -97,
    "start_time": "2021-11-13T15:30:24.585Z"
   },
   {
    "duration": -98,
    "start_time": "2021-11-13T15:30:24.587Z"
   },
   {
    "duration": -100,
    "start_time": "2021-11-13T15:30:24.590Z"
   },
   {
    "duration": -105,
    "start_time": "2021-11-13T15:30:24.596Z"
   },
   {
    "duration": -125,
    "start_time": "2021-11-13T15:30:24.617Z"
   },
   {
    "duration": -129,
    "start_time": "2021-11-13T15:30:24.621Z"
   },
   {
    "duration": -133,
    "start_time": "2021-11-13T15:30:24.626Z"
   },
   {
    "duration": -135,
    "start_time": "2021-11-13T15:30:24.629Z"
   },
   {
    "duration": -137,
    "start_time": "2021-11-13T15:30:24.632Z"
   },
   {
    "duration": -140,
    "start_time": "2021-11-13T15:30:24.635Z"
   },
   {
    "duration": -141,
    "start_time": "2021-11-13T15:30:24.637Z"
   },
   {
    "duration": -155,
    "start_time": "2021-11-13T15:30:24.652Z"
   },
   {
    "duration": -159,
    "start_time": "2021-11-13T15:30:24.656Z"
   },
   {
    "duration": -162,
    "start_time": "2021-11-13T15:30:24.660Z"
   },
   {
    "duration": -165,
    "start_time": "2021-11-13T15:30:24.664Z"
   },
   {
    "duration": -167,
    "start_time": "2021-11-13T15:30:24.667Z"
   },
   {
    "duration": -168,
    "start_time": "2021-11-13T15:30:24.669Z"
   },
   {
    "duration": -171,
    "start_time": "2021-11-13T15:30:24.672Z"
   },
   {
    "duration": 18,
    "start_time": "2021-11-13T15:31:17.040Z"
   },
   {
    "duration": 986,
    "start_time": "2021-11-13T15:32:05.626Z"
   },
   {
    "duration": 42,
    "start_time": "2021-11-13T15:32:06.614Z"
   },
   {
    "duration": 3,
    "start_time": "2021-11-13T15:32:06.658Z"
   },
   {
    "duration": 16,
    "start_time": "2021-11-13T15:32:06.663Z"
   },
   {
    "duration": 11,
    "start_time": "2021-11-13T15:32:06.681Z"
   },
   {
    "duration": 6,
    "start_time": "2021-11-13T15:32:06.693Z"
   },
   {
    "duration": 7,
    "start_time": "2021-11-13T15:32:06.700Z"
   },
   {
    "duration": 38,
    "start_time": "2021-11-13T15:32:06.709Z"
   },
   {
    "duration": 9,
    "start_time": "2021-11-13T15:32:06.750Z"
   },
   {
    "duration": 32,
    "start_time": "2021-11-13T15:32:06.761Z"
   },
   {
    "duration": 9,
    "start_time": "2021-11-13T15:32:06.795Z"
   },
   {
    "duration": 10,
    "start_time": "2021-11-13T15:32:06.805Z"
   },
   {
    "duration": 9,
    "start_time": "2021-11-13T15:32:06.816Z"
   },
   {
    "duration": 16,
    "start_time": "2021-11-13T15:32:06.826Z"
   },
   {
    "duration": 26,
    "start_time": "2021-11-13T15:32:06.844Z"
   },
   {
    "duration": 27,
    "start_time": "2021-11-13T15:32:06.871Z"
   },
   {
    "duration": 9,
    "start_time": "2021-11-13T15:32:06.899Z"
   },
   {
    "duration": 10,
    "start_time": "2021-11-13T15:32:06.909Z"
   },
   {
    "duration": 9,
    "start_time": "2021-11-13T15:32:06.920Z"
   },
   {
    "duration": 23,
    "start_time": "2021-11-13T15:32:06.931Z"
   },
   {
    "duration": 38,
    "start_time": "2021-11-13T15:32:06.955Z"
   },
   {
    "duration": 18,
    "start_time": "2021-11-13T15:32:06.994Z"
   },
   {
    "duration": 78,
    "start_time": "2021-11-13T15:32:07.015Z"
   },
   {
    "duration": 107,
    "start_time": "2021-11-13T15:32:07.095Z"
   },
   {
    "duration": 64,
    "start_time": "2021-11-13T15:32:07.204Z"
   },
   {
    "duration": 36,
    "start_time": "2021-11-13T15:32:07.270Z"
   },
   {
    "duration": 62,
    "start_time": "2021-11-13T15:32:07.307Z"
   },
   {
    "duration": -681,
    "start_time": "2021-11-13T15:32:08.052Z"
   },
   {
    "duration": -686,
    "start_time": "2021-11-13T15:32:08.057Z"
   },
   {
    "duration": -700,
    "start_time": "2021-11-13T15:32:08.072Z"
   },
   {
    "duration": -706,
    "start_time": "2021-11-13T15:32:08.079Z"
   },
   {
    "duration": -711,
    "start_time": "2021-11-13T15:32:08.085Z"
   },
   {
    "duration": -714,
    "start_time": "2021-11-13T15:32:08.089Z"
   },
   {
    "duration": -727,
    "start_time": "2021-11-13T15:32:08.103Z"
   },
   {
    "duration": -732,
    "start_time": "2021-11-13T15:32:08.109Z"
   },
   {
    "duration": -736,
    "start_time": "2021-11-13T15:32:08.114Z"
   },
   {
    "duration": -738,
    "start_time": "2021-11-13T15:32:08.117Z"
   },
   {
    "duration": -739,
    "start_time": "2021-11-13T15:32:08.119Z"
   },
   {
    "duration": -757,
    "start_time": "2021-11-13T15:32:08.137Z"
   },
   {
    "duration": -761,
    "start_time": "2021-11-13T15:32:08.142Z"
   },
   {
    "duration": -774,
    "start_time": "2021-11-13T15:32:08.156Z"
   },
   {
    "duration": -777,
    "start_time": "2021-11-13T15:32:08.160Z"
   },
   {
    "duration": -786,
    "start_time": "2021-11-13T15:32:08.170Z"
   },
   {
    "duration": -790,
    "start_time": "2021-11-13T15:32:08.175Z"
   },
   {
    "duration": -793,
    "start_time": "2021-11-13T15:32:08.179Z"
   },
   {
    "duration": 986,
    "start_time": "2021-11-13T15:34:51.220Z"
   },
   {
    "duration": 42,
    "start_time": "2021-11-13T15:34:52.207Z"
   },
   {
    "duration": 4,
    "start_time": "2021-11-13T15:34:52.250Z"
   },
   {
    "duration": 16,
    "start_time": "2021-11-13T15:34:52.255Z"
   },
   {
    "duration": 18,
    "start_time": "2021-11-13T15:34:52.273Z"
   },
   {
    "duration": 4,
    "start_time": "2021-11-13T15:34:52.293Z"
   },
   {
    "duration": 8,
    "start_time": "2021-11-13T15:34:52.298Z"
   },
   {
    "duration": 37,
    "start_time": "2021-11-13T15:34:52.308Z"
   },
   {
    "duration": 11,
    "start_time": "2021-11-13T15:34:52.347Z"
   },
   {
    "duration": 33,
    "start_time": "2021-11-13T15:34:52.359Z"
   },
   {
    "duration": 10,
    "start_time": "2021-11-13T15:34:52.393Z"
   },
   {
    "duration": 10,
    "start_time": "2021-11-13T15:34:52.404Z"
   },
   {
    "duration": 6,
    "start_time": "2021-11-13T15:34:52.416Z"
   },
   {
    "duration": 9,
    "start_time": "2021-11-13T15:34:52.424Z"
   },
   {
    "duration": 15,
    "start_time": "2021-11-13T15:34:52.434Z"
   },
   {
    "duration": 41,
    "start_time": "2021-11-13T15:34:52.450Z"
   },
   {
    "duration": 9,
    "start_time": "2021-11-13T15:34:52.493Z"
   },
   {
    "duration": 10,
    "start_time": "2021-11-13T15:34:52.503Z"
   },
   {
    "duration": 7,
    "start_time": "2021-11-13T15:34:52.514Z"
   },
   {
    "duration": 21,
    "start_time": "2021-11-13T15:34:52.522Z"
   },
   {
    "duration": 52,
    "start_time": "2021-11-13T15:34:52.545Z"
   },
   {
    "duration": 96,
    "start_time": "2021-11-13T15:34:52.598Z"
   },
   {
    "duration": 106,
    "start_time": "2021-11-13T15:34:52.698Z"
   },
   {
    "duration": 65,
    "start_time": "2021-11-13T15:34:52.805Z"
   },
   {
    "duration": 17,
    "start_time": "2021-11-13T15:34:52.892Z"
   },
   {
    "duration": 67,
    "start_time": "2021-11-13T15:34:52.911Z"
   },
   {
    "duration": -121,
    "start_time": "2021-11-13T15:34:53.101Z"
   },
   {
    "duration": -126,
    "start_time": "2021-11-13T15:34:53.106Z"
   },
   {
    "duration": -130,
    "start_time": "2021-11-13T15:34:53.112Z"
   },
   {
    "duration": -133,
    "start_time": "2021-11-13T15:34:53.115Z"
   },
   {
    "duration": -133,
    "start_time": "2021-11-13T15:34:53.117Z"
   },
   {
    "duration": -137,
    "start_time": "2021-11-13T15:34:53.122Z"
   },
   {
    "duration": -141,
    "start_time": "2021-11-13T15:34:53.127Z"
   },
   {
    "duration": -144,
    "start_time": "2021-11-13T15:34:53.131Z"
   },
   {
    "duration": -148,
    "start_time": "2021-11-13T15:34:53.135Z"
   },
   {
    "duration": -151,
    "start_time": "2021-11-13T15:34:53.139Z"
   },
   {
    "duration": -154,
    "start_time": "2021-11-13T15:34:53.143Z"
   },
   {
    "duration": -157,
    "start_time": "2021-11-13T15:34:53.147Z"
   },
   {
    "duration": -158,
    "start_time": "2021-11-13T15:34:53.149Z"
   },
   {
    "duration": -160,
    "start_time": "2021-11-13T15:34:53.152Z"
   },
   {
    "duration": -163,
    "start_time": "2021-11-13T15:34:53.155Z"
   },
   {
    "duration": -167,
    "start_time": "2021-11-13T15:34:53.160Z"
   },
   {
    "duration": -168,
    "start_time": "2021-11-13T15:34:53.162Z"
   },
   {
    "duration": -170,
    "start_time": "2021-11-13T15:34:53.165Z"
   },
   {
    "duration": 1011,
    "start_time": "2021-11-13T15:37:43.304Z"
   },
   {
    "duration": 43,
    "start_time": "2021-11-13T15:37:44.317Z"
   },
   {
    "duration": 3,
    "start_time": "2021-11-13T15:37:44.362Z"
   },
   {
    "duration": 17,
    "start_time": "2021-11-13T15:37:44.366Z"
   },
   {
    "duration": 12,
    "start_time": "2021-11-13T15:37:44.384Z"
   },
   {
    "duration": 6,
    "start_time": "2021-11-13T15:37:44.397Z"
   },
   {
    "duration": 7,
    "start_time": "2021-11-13T15:37:44.405Z"
   },
   {
    "duration": 36,
    "start_time": "2021-11-13T15:37:44.414Z"
   },
   {
    "duration": 11,
    "start_time": "2021-11-13T15:37:44.452Z"
   },
   {
    "duration": 4,
    "start_time": "2021-11-13T15:37:44.492Z"
   },
   {
    "duration": 12,
    "start_time": "2021-11-13T15:37:44.498Z"
   },
   {
    "duration": 10,
    "start_time": "2021-11-13T15:37:44.511Z"
   },
   {
    "duration": 9,
    "start_time": "2021-11-13T15:37:44.523Z"
   },
   {
    "duration": 7,
    "start_time": "2021-11-13T15:37:44.533Z"
   },
   {
    "duration": 12,
    "start_time": "2021-11-13T15:37:44.542Z"
   },
   {
    "duration": 44,
    "start_time": "2021-11-13T15:37:44.555Z"
   },
   {
    "duration": 8,
    "start_time": "2021-11-13T15:37:44.601Z"
   },
   {
    "duration": 9,
    "start_time": "2021-11-13T15:37:44.610Z"
   },
   {
    "duration": 7,
    "start_time": "2021-11-13T15:37:44.621Z"
   },
   {
    "duration": 23,
    "start_time": "2021-11-13T15:37:44.629Z"
   },
   {
    "duration": 298,
    "start_time": "2021-11-13T15:37:44.653Z"
   },
   {
    "duration": -98,
    "start_time": "2021-11-13T15:37:45.051Z"
   },
   {
    "duration": -101,
    "start_time": "2021-11-13T15:37:45.055Z"
   },
   {
    "duration": -103,
    "start_time": "2021-11-13T15:37:45.058Z"
   },
   {
    "duration": -105,
    "start_time": "2021-11-13T15:37:45.061Z"
   },
   {
    "duration": -106,
    "start_time": "2021-11-13T15:37:45.063Z"
   },
   {
    "duration": -107,
    "start_time": "2021-11-13T15:37:45.065Z"
   },
   {
    "duration": -109,
    "start_time": "2021-11-13T15:37:45.068Z"
   },
   {
    "duration": -117,
    "start_time": "2021-11-13T15:37:45.076Z"
   },
   {
    "duration": -118,
    "start_time": "2021-11-13T15:37:45.078Z"
   },
   {
    "duration": -119,
    "start_time": "2021-11-13T15:37:45.080Z"
   },
   {
    "duration": -159,
    "start_time": "2021-11-13T15:37:45.121Z"
   },
   {
    "duration": -162,
    "start_time": "2021-11-13T15:37:45.125Z"
   },
   {
    "duration": -165,
    "start_time": "2021-11-13T15:37:45.129Z"
   },
   {
    "duration": -168,
    "start_time": "2021-11-13T15:37:45.133Z"
   },
   {
    "duration": -171,
    "start_time": "2021-11-13T15:37:45.136Z"
   },
   {
    "duration": -174,
    "start_time": "2021-11-13T15:37:45.140Z"
   },
   {
    "duration": -176,
    "start_time": "2021-11-13T15:37:45.143Z"
   },
   {
    "duration": -178,
    "start_time": "2021-11-13T15:37:45.146Z"
   },
   {
    "duration": -181,
    "start_time": "2021-11-13T15:37:45.150Z"
   },
   {
    "duration": -184,
    "start_time": "2021-11-13T15:37:45.153Z"
   },
   {
    "duration": -186,
    "start_time": "2021-11-13T15:37:45.156Z"
   },
   {
    "duration": -188,
    "start_time": "2021-11-13T15:37:45.159Z"
   },
   {
    "duration": -190,
    "start_time": "2021-11-13T15:37:45.162Z"
   },
   {
    "duration": -191,
    "start_time": "2021-11-13T15:37:45.164Z"
   },
   {
    "duration": 1042,
    "start_time": "2021-11-13T15:56:39.264Z"
   },
   {
    "duration": 43,
    "start_time": "2021-11-13T15:56:40.308Z"
   },
   {
    "duration": 3,
    "start_time": "2021-11-13T15:56:40.353Z"
   },
   {
    "duration": 18,
    "start_time": "2021-11-13T15:56:40.358Z"
   },
   {
    "duration": 14,
    "start_time": "2021-11-13T15:56:40.377Z"
   },
   {
    "duration": 10,
    "start_time": "2021-11-13T15:56:40.393Z"
   },
   {
    "duration": 10,
    "start_time": "2021-11-13T15:56:40.404Z"
   },
   {
    "duration": 40,
    "start_time": "2021-11-13T15:56:40.416Z"
   },
   {
    "duration": 10,
    "start_time": "2021-11-13T15:56:40.458Z"
   },
   {
    "duration": 23,
    "start_time": "2021-11-13T15:56:40.469Z"
   },
   {
    "duration": 9,
    "start_time": "2021-11-13T15:56:40.493Z"
   },
   {
    "duration": 10,
    "start_time": "2021-11-13T15:56:40.504Z"
   },
   {
    "duration": 7,
    "start_time": "2021-11-13T15:56:40.515Z"
   },
   {
    "duration": 7,
    "start_time": "2021-11-13T15:56:40.523Z"
   },
   {
    "duration": 13,
    "start_time": "2021-11-13T15:56:40.531Z"
   },
   {
    "duration": 46,
    "start_time": "2021-11-13T15:56:40.545Z"
   },
   {
    "duration": 9,
    "start_time": "2021-11-13T15:56:40.593Z"
   },
   {
    "duration": 9,
    "start_time": "2021-11-13T15:56:40.603Z"
   },
   {
    "duration": 7,
    "start_time": "2021-11-13T15:56:40.613Z"
   },
   {
    "duration": 21,
    "start_time": "2021-11-13T15:56:40.621Z"
   },
   {
    "duration": 273,
    "start_time": "2021-11-13T15:56:40.643Z"
   },
   {
    "duration": -628,
    "start_time": "2021-11-13T15:56:41.546Z"
   },
   {
    "duration": -630,
    "start_time": "2021-11-13T15:56:41.549Z"
   },
   {
    "duration": -674,
    "start_time": "2021-11-13T15:56:41.594Z"
   },
   {
    "duration": -681,
    "start_time": "2021-11-13T15:56:41.602Z"
   },
   {
    "duration": -684,
    "start_time": "2021-11-13T15:56:41.606Z"
   },
   {
    "duration": -685,
    "start_time": "2021-11-13T15:56:41.609Z"
   },
   {
    "duration": -687,
    "start_time": "2021-11-13T15:56:41.612Z"
   },
   {
    "duration": -688,
    "start_time": "2021-11-13T15:56:41.614Z"
   },
   {
    "duration": -689,
    "start_time": "2021-11-13T15:56:41.616Z"
   },
   {
    "duration": -691,
    "start_time": "2021-11-13T15:56:41.619Z"
   },
   {
    "duration": -692,
    "start_time": "2021-11-13T15:56:41.621Z"
   },
   {
    "duration": -704,
    "start_time": "2021-11-13T15:56:41.633Z"
   },
   {
    "duration": -707,
    "start_time": "2021-11-13T15:56:41.637Z"
   },
   {
    "duration": -819,
    "start_time": "2021-11-13T15:56:41.750Z"
   },
   {
    "duration": -828,
    "start_time": "2021-11-13T15:56:41.760Z"
   },
   {
    "duration": -830,
    "start_time": "2021-11-13T15:56:41.763Z"
   },
   {
    "duration": -832,
    "start_time": "2021-11-13T15:56:41.766Z"
   },
   {
    "duration": -833,
    "start_time": "2021-11-13T15:56:41.768Z"
   },
   {
    "duration": -842,
    "start_time": "2021-11-13T15:56:41.778Z"
   },
   {
    "duration": -845,
    "start_time": "2021-11-13T15:56:41.782Z"
   },
   {
    "duration": -846,
    "start_time": "2021-11-13T15:56:41.784Z"
   },
   {
    "duration": -848,
    "start_time": "2021-11-13T15:56:41.787Z"
   },
   {
    "duration": -849,
    "start_time": "2021-11-13T15:56:41.789Z"
   },
   {
    "duration": -851,
    "start_time": "2021-11-13T15:56:41.792Z"
   },
   {
    "duration": -853,
    "start_time": "2021-11-13T15:56:41.795Z"
   },
   {
    "duration": -855,
    "start_time": "2021-11-13T15:56:41.798Z"
   },
   {
    "duration": -857,
    "start_time": "2021-11-13T15:56:41.801Z"
   },
   {
    "duration": 200,
    "start_time": "2021-11-13T15:57:53.351Z"
   },
   {
    "duration": 22,
    "start_time": "2021-11-13T15:58:55.817Z"
   },
   {
    "duration": 206,
    "start_time": "2021-11-13T15:59:02.767Z"
   },
   {
    "duration": 984,
    "start_time": "2021-11-13T15:59:26.233Z"
   },
   {
    "duration": 42,
    "start_time": "2021-11-13T15:59:27.219Z"
   },
   {
    "duration": 3,
    "start_time": "2021-11-13T15:59:27.263Z"
   },
   {
    "duration": 18,
    "start_time": "2021-11-13T15:59:27.268Z"
   },
   {
    "duration": 8,
    "start_time": "2021-11-13T15:59:27.288Z"
   },
   {
    "duration": 5,
    "start_time": "2021-11-13T15:59:27.297Z"
   },
   {
    "duration": 11,
    "start_time": "2021-11-13T15:59:27.303Z"
   },
   {
    "duration": 38,
    "start_time": "2021-11-13T15:59:27.316Z"
   },
   {
    "duration": 9,
    "start_time": "2021-11-13T15:59:27.356Z"
   },
   {
    "duration": 28,
    "start_time": "2021-11-13T15:59:27.366Z"
   },
   {
    "duration": 10,
    "start_time": "2021-11-13T15:59:27.395Z"
   },
   {
    "duration": 11,
    "start_time": "2021-11-13T15:59:27.406Z"
   },
   {
    "duration": 6,
    "start_time": "2021-11-13T15:59:27.418Z"
   },
   {
    "duration": 5,
    "start_time": "2021-11-13T15:59:27.426Z"
   },
   {
    "duration": 13,
    "start_time": "2021-11-13T15:59:27.433Z"
   },
   {
    "duration": 53,
    "start_time": "2021-11-13T15:59:27.447Z"
   },
   {
    "duration": 8,
    "start_time": "2021-11-13T15:59:27.502Z"
   },
   {
    "duration": 12,
    "start_time": "2021-11-13T15:59:27.512Z"
   },
   {
    "duration": 7,
    "start_time": "2021-11-13T15:59:27.525Z"
   },
   {
    "duration": 19,
    "start_time": "2021-11-13T15:59:27.533Z"
   },
   {
    "duration": 46,
    "start_time": "2021-11-13T15:59:27.554Z"
   },
   {
    "duration": 309,
    "start_time": "2021-11-13T15:59:27.602Z"
   },
   {
    "duration": -765,
    "start_time": "2021-11-13T15:59:28.678Z"
   },
   {
    "duration": -767,
    "start_time": "2021-11-13T15:59:28.681Z"
   },
   {
    "duration": -809,
    "start_time": "2021-11-13T15:59:28.725Z"
   },
   {
    "duration": -811,
    "start_time": "2021-11-13T15:59:28.728Z"
   },
   {
    "duration": -820,
    "start_time": "2021-11-13T15:59:28.738Z"
   },
   {
    "duration": -822,
    "start_time": "2021-11-13T15:59:28.741Z"
   },
   {
    "duration": -824,
    "start_time": "2021-11-13T15:59:28.744Z"
   },
   {
    "duration": -826,
    "start_time": "2021-11-13T15:59:28.747Z"
   },
   {
    "duration": -828,
    "start_time": "2021-11-13T15:59:28.750Z"
   },
   {
    "duration": -829,
    "start_time": "2021-11-13T15:59:28.752Z"
   },
   {
    "duration": -830,
    "start_time": "2021-11-13T15:59:28.754Z"
   },
   {
    "duration": -831,
    "start_time": "2021-11-13T15:59:28.756Z"
   },
   {
    "duration": -910,
    "start_time": "2021-11-13T15:59:28.836Z"
   },
   {
    "duration": -921,
    "start_time": "2021-11-13T15:59:28.848Z"
   },
   {
    "duration": -923,
    "start_time": "2021-11-13T15:59:28.851Z"
   },
   {
    "duration": -924,
    "start_time": "2021-11-13T15:59:28.853Z"
   },
   {
    "duration": -955,
    "start_time": "2021-11-13T15:59:28.884Z"
   },
   {
    "duration": -963,
    "start_time": "2021-11-13T15:59:28.893Z"
   },
   {
    "duration": -965,
    "start_time": "2021-11-13T15:59:28.896Z"
   },
   {
    "duration": -967,
    "start_time": "2021-11-13T15:59:28.899Z"
   },
   {
    "duration": -969,
    "start_time": "2021-11-13T15:59:28.902Z"
   },
   {
    "duration": -970,
    "start_time": "2021-11-13T15:59:28.904Z"
   },
   {
    "duration": -972,
    "start_time": "2021-11-13T15:59:28.907Z"
   },
   {
    "duration": -981,
    "start_time": "2021-11-13T15:59:28.917Z"
   },
   {
    "duration": -982,
    "start_time": "2021-11-13T15:59:28.919Z"
   },
   {
    "duration": -984,
    "start_time": "2021-11-13T15:59:28.922Z"
   },
   {
    "duration": -986,
    "start_time": "2021-11-13T15:59:28.925Z"
   },
   {
    "duration": 243,
    "start_time": "2021-11-13T16:00:22.036Z"
   },
   {
    "duration": 357,
    "start_time": "2021-11-13T16:00:46.616Z"
   },
   {
    "duration": 1039,
    "start_time": "2021-11-13T16:04:04.665Z"
   },
   {
    "duration": 43,
    "start_time": "2021-11-13T16:04:05.705Z"
   },
   {
    "duration": 3,
    "start_time": "2021-11-13T16:04:05.749Z"
   },
   {
    "duration": 16,
    "start_time": "2021-11-13T16:04:05.754Z"
   },
   {
    "duration": 6,
    "start_time": "2021-11-13T16:04:05.772Z"
   },
   {
    "duration": 20,
    "start_time": "2021-11-13T16:04:05.780Z"
   },
   {
    "duration": 7,
    "start_time": "2021-11-13T16:04:05.802Z"
   },
   {
    "duration": 39,
    "start_time": "2021-11-13T16:04:05.811Z"
   },
   {
    "duration": 9,
    "start_time": "2021-11-13T16:04:05.852Z"
   },
   {
    "duration": 9,
    "start_time": "2021-11-13T16:04:05.863Z"
   },
   {
    "duration": 33,
    "start_time": "2021-11-13T16:04:05.873Z"
   },
   {
    "duration": 12,
    "start_time": "2021-11-13T16:04:05.907Z"
   },
   {
    "duration": 5,
    "start_time": "2021-11-13T16:04:05.921Z"
   },
   {
    "duration": 7,
    "start_time": "2021-11-13T16:04:05.928Z"
   },
   {
    "duration": 13,
    "start_time": "2021-11-13T16:04:05.936Z"
   },
   {
    "duration": 51,
    "start_time": "2021-11-13T16:04:05.950Z"
   },
   {
    "duration": 10,
    "start_time": "2021-11-13T16:04:06.003Z"
   },
   {
    "duration": 11,
    "start_time": "2021-11-13T16:04:06.015Z"
   },
   {
    "duration": 8,
    "start_time": "2021-11-13T16:04:06.028Z"
   },
   {
    "duration": 61,
    "start_time": "2021-11-13T16:04:06.038Z"
   },
   {
    "duration": 20,
    "start_time": "2021-11-13T16:04:06.100Z"
   },
   {
    "duration": 543,
    "start_time": "2021-11-13T16:04:06.122Z"
   },
   {
    "duration": -198,
    "start_time": "2021-11-13T16:04:06.866Z"
   },
   {
    "duration": -200,
    "start_time": "2021-11-13T16:04:06.868Z"
   },
   {
    "duration": -233,
    "start_time": "2021-11-13T16:04:06.902Z"
   },
   {
    "duration": -236,
    "start_time": "2021-11-13T16:04:06.906Z"
   },
   {
    "duration": -239,
    "start_time": "2021-11-13T16:04:06.910Z"
   },
   {
    "duration": -307,
    "start_time": "2021-11-13T16:04:06.979Z"
   },
   {
    "duration": -317,
    "start_time": "2021-11-13T16:04:06.990Z"
   },
   {
    "duration": -320,
    "start_time": "2021-11-13T16:04:06.994Z"
   },
   {
    "duration": -323,
    "start_time": "2021-11-13T16:04:06.998Z"
   },
   {
    "duration": -325,
    "start_time": "2021-11-13T16:04:07.001Z"
   },
   {
    "duration": -337,
    "start_time": "2021-11-13T16:04:07.014Z"
   },
   {
    "duration": -340,
    "start_time": "2021-11-13T16:04:07.017Z"
   },
   {
    "duration": -342,
    "start_time": "2021-11-13T16:04:07.020Z"
   },
   {
    "duration": -333,
    "start_time": "2021-11-13T16:04:07.024Z"
   },
   {
    "duration": -344,
    "start_time": "2021-11-13T16:04:07.035Z"
   },
   {
    "duration": -346,
    "start_time": "2021-11-13T16:04:07.038Z"
   },
   {
    "duration": -348,
    "start_time": "2021-11-13T16:04:07.041Z"
   },
   {
    "duration": -351,
    "start_time": "2021-11-13T16:04:07.045Z"
   },
   {
    "duration": -353,
    "start_time": "2021-11-13T16:04:07.049Z"
   },
   {
    "duration": -366,
    "start_time": "2021-11-13T16:04:07.064Z"
   },
   {
    "duration": -368,
    "start_time": "2021-11-13T16:04:07.067Z"
   },
   {
    "duration": -369,
    "start_time": "2021-11-13T16:04:07.069Z"
   },
   {
    "duration": -441,
    "start_time": "2021-11-13T16:04:07.142Z"
   },
   {
    "duration": -455,
    "start_time": "2021-11-13T16:04:07.157Z"
   },
   {
    "duration": -455,
    "start_time": "2021-11-13T16:04:07.159Z"
   },
   {
    "duration": -465,
    "start_time": "2021-11-13T16:04:07.170Z"
   },
   {
    "duration": -468,
    "start_time": "2021-11-13T16:04:07.174Z"
   },
   {
    "duration": 1091,
    "start_time": "2021-11-13T16:05:50.413Z"
   },
   {
    "duration": 39,
    "start_time": "2021-11-13T16:05:51.506Z"
   },
   {
    "duration": 3,
    "start_time": "2021-11-13T16:05:51.547Z"
   },
   {
    "duration": 18,
    "start_time": "2021-11-13T16:05:51.551Z"
   },
   {
    "duration": 7,
    "start_time": "2021-11-13T16:05:51.570Z"
   },
   {
    "duration": 24,
    "start_time": "2021-11-13T16:05:51.579Z"
   },
   {
    "duration": 8,
    "start_time": "2021-11-13T16:05:51.605Z"
   },
   {
    "duration": 39,
    "start_time": "2021-11-13T16:05:51.617Z"
   },
   {
    "duration": 10,
    "start_time": "2021-11-13T16:05:51.658Z"
   },
   {
    "duration": 4,
    "start_time": "2021-11-13T16:05:51.700Z"
   },
   {
    "duration": 15,
    "start_time": "2021-11-13T16:05:51.705Z"
   },
   {
    "duration": 10,
    "start_time": "2021-11-13T16:05:51.722Z"
   },
   {
    "duration": 8,
    "start_time": "2021-11-13T16:05:51.733Z"
   },
   {
    "duration": 8,
    "start_time": "2021-11-13T16:05:51.743Z"
   },
   {
    "duration": 13,
    "start_time": "2021-11-13T16:05:51.752Z"
   },
   {
    "duration": 39,
    "start_time": "2021-11-13T16:05:51.767Z"
   },
   {
    "duration": 9,
    "start_time": "2021-11-13T16:05:51.808Z"
   },
   {
    "duration": 9,
    "start_time": "2021-11-13T16:05:51.819Z"
   },
   {
    "duration": 6,
    "start_time": "2021-11-13T16:05:51.830Z"
   },
   {
    "duration": 67,
    "start_time": "2021-11-13T16:05:51.838Z"
   },
   {
    "duration": 20,
    "start_time": "2021-11-13T16:05:51.907Z"
   },
   {
    "duration": 189,
    "start_time": "2021-11-13T16:05:51.929Z"
   },
   {
    "duration": 284,
    "start_time": "2021-11-13T16:05:52.122Z"
   },
   {
    "duration": -117,
    "start_time": "2021-11-13T16:05:52.526Z"
   },
   {
    "duration": -120,
    "start_time": "2021-11-13T16:05:52.530Z"
   },
   {
    "duration": -122,
    "start_time": "2021-11-13T16:05:52.534Z"
   },
   {
    "duration": -126,
    "start_time": "2021-11-13T16:05:52.539Z"
   },
   {
    "duration": -130,
    "start_time": "2021-11-13T16:05:52.544Z"
   },
   {
    "duration": -132,
    "start_time": "2021-11-13T16:05:52.548Z"
   },
   {
    "duration": -133,
    "start_time": "2021-11-13T16:05:52.550Z"
   },
   {
    "duration": -135,
    "start_time": "2021-11-13T16:05:52.554Z"
   },
   {
    "duration": -136,
    "start_time": "2021-11-13T16:05:52.556Z"
   },
   {
    "duration": -138,
    "start_time": "2021-11-13T16:05:52.559Z"
   },
   {
    "duration": -138,
    "start_time": "2021-11-13T16:05:52.561Z"
   },
   {
    "duration": -141,
    "start_time": "2021-11-13T16:05:52.565Z"
   },
   {
    "duration": -143,
    "start_time": "2021-11-13T16:05:52.568Z"
   },
   {
    "duration": -154,
    "start_time": "2021-11-13T16:05:52.581Z"
   },
   {
    "duration": -156,
    "start_time": "2021-11-13T16:05:52.584Z"
   },
   {
    "duration": -157,
    "start_time": "2021-11-13T16:05:52.587Z"
   },
   {
    "duration": -158,
    "start_time": "2021-11-13T16:05:52.589Z"
   },
   {
    "duration": -160,
    "start_time": "2021-11-13T16:05:52.592Z"
   },
   {
    "duration": -162,
    "start_time": "2021-11-13T16:05:52.595Z"
   },
   {
    "duration": -165,
    "start_time": "2021-11-13T16:05:52.600Z"
   },
   {
    "duration": -167,
    "start_time": "2021-11-13T16:05:52.603Z"
   },
   {
    "duration": -170,
    "start_time": "2021-11-13T16:05:52.607Z"
   },
   {
    "duration": -204,
    "start_time": "2021-11-13T16:05:52.643Z"
   },
   {
    "duration": -206,
    "start_time": "2021-11-13T16:05:52.646Z"
   },
   {
    "duration": -208,
    "start_time": "2021-11-13T16:05:52.649Z"
   },
   {
    "duration": -209,
    "start_time": "2021-11-13T16:05:52.652Z"
   },
   {
    "duration": 195,
    "start_time": "2021-11-13T16:07:56.035Z"
   },
   {
    "duration": 227,
    "start_time": "2021-11-13T16:09:21.503Z"
   },
   {
    "duration": 232,
    "start_time": "2021-11-13T16:09:33.202Z"
   },
   {
    "duration": 173,
    "start_time": "2021-11-13T16:09:47.550Z"
   },
   {
    "duration": 165,
    "start_time": "2021-11-13T16:41:53.452Z"
   },
   {
    "duration": 63,
    "start_time": "2021-11-13T16:42:37.563Z"
   },
   {
    "duration": 193,
    "start_time": "2021-11-13T16:45:09.494Z"
   },
   {
    "duration": 187,
    "start_time": "2021-11-13T16:46:36.857Z"
   },
   {
    "duration": 185,
    "start_time": "2021-11-13T16:47:33.468Z"
   },
   {
    "duration": 247,
    "start_time": "2021-11-13T16:47:43.367Z"
   },
   {
    "duration": 184,
    "start_time": "2021-11-13T16:47:50.520Z"
   },
   {
    "duration": 182,
    "start_time": "2021-11-13T16:47:57.946Z"
   },
   {
    "duration": 186,
    "start_time": "2021-11-13T16:48:06.065Z"
   },
   {
    "duration": 66,
    "start_time": "2021-11-13T16:52:28.092Z"
   },
   {
    "duration": 190,
    "start_time": "2021-11-13T16:53:04.282Z"
   },
   {
    "duration": 208,
    "start_time": "2021-11-13T16:54:33.761Z"
   },
   {
    "duration": 195,
    "start_time": "2021-11-13T16:55:10.586Z"
   },
   {
    "duration": 185,
    "start_time": "2021-11-13T16:56:11.143Z"
   },
   {
    "duration": 197,
    "start_time": "2021-11-13T16:56:38.412Z"
   },
   {
    "duration": 191,
    "start_time": "2021-11-13T16:56:57.650Z"
   },
   {
    "duration": 197,
    "start_time": "2021-11-13T16:57:14.007Z"
   },
   {
    "duration": 191,
    "start_time": "2021-11-13T16:57:31.402Z"
   },
   {
    "duration": 270,
    "start_time": "2021-11-13T17:27:00.495Z"
   },
   {
    "duration": 1099,
    "start_time": "2021-11-13T17:29:58.306Z"
   },
   {
    "duration": 40,
    "start_time": "2021-11-13T17:29:59.407Z"
   },
   {
    "duration": 4,
    "start_time": "2021-11-13T17:29:59.449Z"
   },
   {
    "duration": 31,
    "start_time": "2021-11-13T17:29:59.454Z"
   },
   {
    "duration": 7,
    "start_time": "2021-11-13T17:29:59.486Z"
   },
   {
    "duration": 15,
    "start_time": "2021-11-13T17:29:59.494Z"
   },
   {
    "duration": 20,
    "start_time": "2021-11-13T17:29:59.510Z"
   },
   {
    "duration": 51,
    "start_time": "2021-11-13T17:29:59.532Z"
   },
   {
    "duration": 9,
    "start_time": "2021-11-13T17:29:59.585Z"
   },
   {
    "duration": 14,
    "start_time": "2021-11-13T17:29:59.596Z"
   },
   {
    "duration": 24,
    "start_time": "2021-11-13T17:29:59.611Z"
   },
   {
    "duration": 21,
    "start_time": "2021-11-13T17:29:59.637Z"
   },
   {
    "duration": 20,
    "start_time": "2021-11-13T17:29:59.660Z"
   },
   {
    "duration": 20,
    "start_time": "2021-11-13T17:29:59.682Z"
   },
   {
    "duration": 13,
    "start_time": "2021-11-13T17:29:59.704Z"
   },
   {
    "duration": 27,
    "start_time": "2021-11-13T17:29:59.718Z"
   },
   {
    "duration": 10,
    "start_time": "2021-11-13T17:29:59.747Z"
   },
   {
    "duration": 17,
    "start_time": "2021-11-13T17:29:59.759Z"
   },
   {
    "duration": 15,
    "start_time": "2021-11-13T17:29:59.777Z"
   },
   {
    "duration": 33,
    "start_time": "2021-11-13T17:29:59.793Z"
   },
   {
    "duration": 18,
    "start_time": "2021-11-13T17:29:59.828Z"
   },
   {
    "duration": 227,
    "start_time": "2021-11-13T17:29:59.847Z"
   },
   {
    "duration": 202,
    "start_time": "2021-11-13T17:30:00.077Z"
   },
   {
    "duration": 65,
    "start_time": "2021-11-13T17:30:00.281Z"
   },
   {
    "duration": -764,
    "start_time": "2021-11-13T17:30:01.112Z"
   },
   {
    "duration": -767,
    "start_time": "2021-11-13T17:30:01.116Z"
   },
   {
    "duration": -769,
    "start_time": "2021-11-13T17:30:01.119Z"
   },
   {
    "duration": -772,
    "start_time": "2021-11-13T17:30:01.122Z"
   },
   {
    "duration": -775,
    "start_time": "2021-11-13T17:30:01.126Z"
   },
   {
    "duration": -777,
    "start_time": "2021-11-13T17:30:01.129Z"
   },
   {
    "duration": -778,
    "start_time": "2021-11-13T17:30:01.132Z"
   },
   {
    "duration": -779,
    "start_time": "2021-11-13T17:30:01.134Z"
   },
   {
    "duration": -781,
    "start_time": "2021-11-13T17:30:01.137Z"
   },
   {
    "duration": -783,
    "start_time": "2021-11-13T17:30:01.139Z"
   },
   {
    "duration": -784,
    "start_time": "2021-11-13T17:30:01.141Z"
   },
   {
    "duration": -785,
    "start_time": "2021-11-13T17:30:01.143Z"
   },
   {
    "duration": -786,
    "start_time": "2021-11-13T17:30:01.145Z"
   },
   {
    "duration": -788,
    "start_time": "2021-11-13T17:30:01.148Z"
   },
   {
    "duration": -789,
    "start_time": "2021-11-13T17:30:01.150Z"
   },
   {
    "duration": -790,
    "start_time": "2021-11-13T17:30:01.152Z"
   },
   {
    "duration": -965,
    "start_time": "2021-11-13T17:30:01.328Z"
   },
   {
    "duration": -967,
    "start_time": "2021-11-13T17:30:01.331Z"
   },
   {
    "duration": -972,
    "start_time": "2021-11-13T17:30:01.337Z"
   },
   {
    "duration": -983,
    "start_time": "2021-11-13T17:30:01.349Z"
   },
   {
    "duration": -985,
    "start_time": "2021-11-13T17:30:01.352Z"
   },
   {
    "duration": -987,
    "start_time": "2021-11-13T17:30:01.355Z"
   },
   {
    "duration": -996,
    "start_time": "2021-11-13T17:30:01.365Z"
   },
   {
    "duration": -998,
    "start_time": "2021-11-13T17:30:01.368Z"
   },
   {
    "duration": -1001,
    "start_time": "2021-11-13T17:30:01.372Z"
   },
   {
    "duration": -1004,
    "start_time": "2021-11-13T17:30:01.376Z"
   },
   {
    "duration": 1110,
    "start_time": "2021-11-13T17:31:45.600Z"
   },
   {
    "duration": 41,
    "start_time": "2021-11-13T17:31:46.712Z"
   },
   {
    "duration": 3,
    "start_time": "2021-11-13T17:31:46.755Z"
   },
   {
    "duration": 19,
    "start_time": "2021-11-13T17:31:46.760Z"
   },
   {
    "duration": 10,
    "start_time": "2021-11-13T17:31:46.781Z"
   },
   {
    "duration": 5,
    "start_time": "2021-11-13T17:31:46.792Z"
   },
   {
    "duration": 7,
    "start_time": "2021-11-13T17:31:46.799Z"
   },
   {
    "duration": 40,
    "start_time": "2021-11-13T17:31:46.808Z"
   },
   {
    "duration": 11,
    "start_time": "2021-11-13T17:31:46.851Z"
   },
   {
    "duration": 30,
    "start_time": "2021-11-13T17:31:46.864Z"
   },
   {
    "duration": 12,
    "start_time": "2021-11-13T17:31:46.895Z"
   },
   {
    "duration": 10,
    "start_time": "2021-11-13T17:31:46.909Z"
   },
   {
    "duration": 10,
    "start_time": "2021-11-13T17:31:46.921Z"
   },
   {
    "duration": 8,
    "start_time": "2021-11-13T17:31:46.933Z"
   },
   {
    "duration": 24,
    "start_time": "2021-11-13T17:31:46.943Z"
   },
   {
    "duration": 30,
    "start_time": "2021-11-13T17:31:46.968Z"
   },
   {
    "duration": 8,
    "start_time": "2021-11-13T17:31:47.000Z"
   },
   {
    "duration": 10,
    "start_time": "2021-11-13T17:31:47.009Z"
   },
   {
    "duration": 7,
    "start_time": "2021-11-13T17:31:47.020Z"
   },
   {
    "duration": 21,
    "start_time": "2021-11-13T17:31:47.028Z"
   },
   {
    "duration": 56,
    "start_time": "2021-11-13T17:31:47.050Z"
   },
   {
    "duration": 216,
    "start_time": "2021-11-13T17:31:47.108Z"
   },
   {
    "duration": 204,
    "start_time": "2021-11-13T17:31:47.326Z"
   },
   {
    "duration": 65,
    "start_time": "2021-11-13T17:31:47.532Z"
   },
   {
    "duration": -115,
    "start_time": "2021-11-13T17:31:47.714Z"
   },
   {
    "duration": -118,
    "start_time": "2021-11-13T17:31:47.718Z"
   },
   {
    "duration": -120,
    "start_time": "2021-11-13T17:31:47.722Z"
   },
   {
    "duration": -165,
    "start_time": "2021-11-13T17:31:47.768Z"
   },
   {
    "duration": -174,
    "start_time": "2021-11-13T17:31:47.779Z"
   },
   {
    "duration": -185,
    "start_time": "2021-11-13T17:31:47.791Z"
   },
   {
    "duration": -188,
    "start_time": "2021-11-13T17:31:47.795Z"
   },
   {
    "duration": -190,
    "start_time": "2021-11-13T17:31:47.799Z"
   },
   {
    "duration": -203,
    "start_time": "2021-11-13T17:31:47.813Z"
   },
   {
    "duration": -205,
    "start_time": "2021-11-13T17:31:47.816Z"
   },
   {
    "duration": -213,
    "start_time": "2021-11-13T17:31:47.826Z"
   },
   {
    "duration": -215,
    "start_time": "2021-11-13T17:31:47.829Z"
   },
   {
    "duration": -217,
    "start_time": "2021-11-13T17:31:47.833Z"
   },
   {
    "duration": -220,
    "start_time": "2021-11-13T17:31:47.837Z"
   },
   {
    "duration": -222,
    "start_time": "2021-11-13T17:31:47.840Z"
   },
   {
    "duration": -222,
    "start_time": "2021-11-13T17:31:47.842Z"
   },
   {
    "duration": -223,
    "start_time": "2021-11-13T17:31:47.844Z"
   },
   {
    "duration": -225,
    "start_time": "2021-11-13T17:31:47.847Z"
   },
   {
    "duration": -225,
    "start_time": "2021-11-13T17:31:47.849Z"
   },
   {
    "duration": -228,
    "start_time": "2021-11-13T17:31:47.853Z"
   },
   {
    "duration": -230,
    "start_time": "2021-11-13T17:31:47.856Z"
   },
   {
    "duration": -231,
    "start_time": "2021-11-13T17:31:47.859Z"
   },
   {
    "duration": -232,
    "start_time": "2021-11-13T17:31:47.861Z"
   },
   {
    "duration": -234,
    "start_time": "2021-11-13T17:31:47.864Z"
   },
   {
    "duration": -235,
    "start_time": "2021-11-13T17:31:47.867Z"
   },
   {
    "duration": -237,
    "start_time": "2021-11-13T17:31:47.870Z"
   },
   {
    "duration": 1102,
    "start_time": "2021-11-13T18:54:22.843Z"
   },
   {
    "duration": 39,
    "start_time": "2021-11-13T18:54:23.948Z"
   },
   {
    "duration": 4,
    "start_time": "2021-11-13T18:54:23.989Z"
   },
   {
    "duration": 21,
    "start_time": "2021-11-13T18:54:23.995Z"
   },
   {
    "duration": 8,
    "start_time": "2021-11-13T18:54:24.018Z"
   },
   {
    "duration": 6,
    "start_time": "2021-11-13T18:54:24.028Z"
   },
   {
    "duration": 13,
    "start_time": "2021-11-13T18:54:24.035Z"
   },
   {
    "duration": 70,
    "start_time": "2021-11-13T18:54:24.050Z"
   },
   {
    "duration": 10,
    "start_time": "2021-11-13T18:54:24.122Z"
   },
   {
    "duration": 7,
    "start_time": "2021-11-13T18:54:24.134Z"
   },
   {
    "duration": 10,
    "start_time": "2021-11-13T18:54:24.142Z"
   },
   {
    "duration": 10,
    "start_time": "2021-11-13T18:54:24.154Z"
   },
   {
    "duration": 29,
    "start_time": "2021-11-13T18:54:24.165Z"
   },
   {
    "duration": 6,
    "start_time": "2021-11-13T18:54:24.196Z"
   },
   {
    "duration": 13,
    "start_time": "2021-11-13T18:54:24.203Z"
   },
   {
    "duration": 14,
    "start_time": "2021-11-13T18:54:24.218Z"
   },
   {
    "duration": 9,
    "start_time": "2021-11-13T18:54:24.234Z"
   },
   {
    "duration": 51,
    "start_time": "2021-11-13T18:54:24.245Z"
   },
   {
    "duration": 10,
    "start_time": "2021-11-13T18:54:24.298Z"
   },
   {
    "duration": 23,
    "start_time": "2021-11-13T18:54:24.310Z"
   },
   {
    "duration": 19,
    "start_time": "2021-11-13T18:54:24.336Z"
   },
   {
    "duration": 265,
    "start_time": "2021-11-13T18:54:24.357Z"
   },
   {
    "duration": 214,
    "start_time": "2021-11-13T18:54:24.625Z"
   },
   {
    "duration": 67,
    "start_time": "2021-11-13T18:54:24.842Z"
   },
   {
    "duration": -129,
    "start_time": "2021-11-13T18:54:25.040Z"
   },
   {
    "duration": -131,
    "start_time": "2021-11-13T18:54:25.043Z"
   },
   {
    "duration": -134,
    "start_time": "2021-11-13T18:54:25.046Z"
   },
   {
    "duration": -177,
    "start_time": "2021-11-13T18:54:25.090Z"
   },
   {
    "duration": -178,
    "start_time": "2021-11-13T18:54:25.092Z"
   },
   {
    "duration": -179,
    "start_time": "2021-11-13T18:54:25.095Z"
   },
   {
    "duration": -181,
    "start_time": "2021-11-13T18:54:25.098Z"
   },
   {
    "duration": -182,
    "start_time": "2021-11-13T18:54:25.100Z"
   },
   {
    "duration": -184,
    "start_time": "2021-11-13T18:54:25.103Z"
   },
   {
    "duration": -185,
    "start_time": "2021-11-13T18:54:25.105Z"
   },
   {
    "duration": -187,
    "start_time": "2021-11-13T18:54:25.108Z"
   },
   {
    "duration": -189,
    "start_time": "2021-11-13T18:54:25.111Z"
   },
   {
    "duration": -191,
    "start_time": "2021-11-13T18:54:25.114Z"
   },
   {
    "duration": -191,
    "start_time": "2021-11-13T18:54:25.116Z"
   },
   {
    "duration": -193,
    "start_time": "2021-11-13T18:54:25.119Z"
   },
   {
    "duration": -195,
    "start_time": "2021-11-13T18:54:25.121Z"
   },
   {
    "duration": -196,
    "start_time": "2021-11-13T18:54:25.123Z"
   },
   {
    "duration": -199,
    "start_time": "2021-11-13T18:54:25.127Z"
   },
   {
    "duration": -200,
    "start_time": "2021-11-13T18:54:25.129Z"
   },
   {
    "duration": -203,
    "start_time": "2021-11-13T18:54:25.133Z"
   },
   {
    "duration": -203,
    "start_time": "2021-11-13T18:54:25.135Z"
   },
   {
    "duration": -204,
    "start_time": "2021-11-13T18:54:25.137Z"
   },
   {
    "duration": -223,
    "start_time": "2021-11-13T18:54:25.157Z"
   },
   {
    "duration": -225,
    "start_time": "2021-11-13T18:54:25.160Z"
   },
   {
    "duration": -225,
    "start_time": "2021-11-13T18:54:25.162Z"
   },
   {
    "duration": -227,
    "start_time": "2021-11-13T18:54:25.165Z"
   },
   {
    "duration": 1050,
    "start_time": "2021-11-13T18:57:09.457Z"
   },
   {
    "duration": 40,
    "start_time": "2021-11-13T18:57:10.509Z"
   },
   {
    "duration": 5,
    "start_time": "2021-11-13T18:57:10.551Z"
   },
   {
    "duration": 18,
    "start_time": "2021-11-13T18:57:10.557Z"
   },
   {
    "duration": 7,
    "start_time": "2021-11-13T18:57:10.577Z"
   },
   {
    "duration": 6,
    "start_time": "2021-11-13T18:57:10.591Z"
   },
   {
    "duration": 7,
    "start_time": "2021-11-13T18:57:10.598Z"
   },
   {
    "duration": 37,
    "start_time": "2021-11-13T18:57:10.608Z"
   },
   {
    "duration": 11,
    "start_time": "2021-11-13T18:57:10.647Z"
   },
   {
    "duration": 32,
    "start_time": "2021-11-13T18:57:10.659Z"
   },
   {
    "duration": 9,
    "start_time": "2021-11-13T18:57:10.693Z"
   },
   {
    "duration": 11,
    "start_time": "2021-11-13T18:57:10.703Z"
   },
   {
    "duration": 6,
    "start_time": "2021-11-13T18:57:10.715Z"
   },
   {
    "duration": 7,
    "start_time": "2021-11-13T18:57:10.723Z"
   },
   {
    "duration": 13,
    "start_time": "2021-11-13T18:57:10.732Z"
   },
   {
    "duration": 50,
    "start_time": "2021-11-13T18:57:10.747Z"
   },
   {
    "duration": 9,
    "start_time": "2021-11-13T18:57:10.798Z"
   },
   {
    "duration": 10,
    "start_time": "2021-11-13T18:57:10.808Z"
   },
   {
    "duration": 6,
    "start_time": "2021-11-13T18:57:10.819Z"
   },
   {
    "duration": 19,
    "start_time": "2021-11-13T18:57:10.827Z"
   },
   {
    "duration": 49,
    "start_time": "2021-11-13T18:57:10.848Z"
   },
   {
    "duration": 222,
    "start_time": "2021-11-13T18:57:10.899Z"
   },
   {
    "duration": 199,
    "start_time": "2021-11-13T18:57:11.124Z"
   },
   {
    "duration": 57,
    "start_time": "2021-11-13T18:57:11.325Z"
   },
   {
    "duration": -115,
    "start_time": "2021-11-13T18:57:11.499Z"
   },
   {
    "duration": -118,
    "start_time": "2021-11-13T18:57:11.503Z"
   },
   {
    "duration": -129,
    "start_time": "2021-11-13T18:57:11.515Z"
   },
   {
    "duration": -132,
    "start_time": "2021-11-13T18:57:11.519Z"
   },
   {
    "duration": -135,
    "start_time": "2021-11-13T18:57:11.523Z"
   },
   {
    "duration": -139,
    "start_time": "2021-11-13T18:57:11.528Z"
   },
   {
    "duration": -141,
    "start_time": "2021-11-13T18:57:11.531Z"
   },
   {
    "duration": -144,
    "start_time": "2021-11-13T18:57:11.534Z"
   },
   {
    "duration": -147,
    "start_time": "2021-11-13T18:57:11.539Z"
   },
   {
    "duration": -150,
    "start_time": "2021-11-13T18:57:11.542Z"
   },
   {
    "duration": -152,
    "start_time": "2021-11-13T18:57:11.545Z"
   },
   {
    "duration": -153,
    "start_time": "2021-11-13T18:57:11.547Z"
   },
   {
    "duration": -155,
    "start_time": "2021-11-13T18:57:11.550Z"
   },
   {
    "duration": -158,
    "start_time": "2021-11-13T18:57:11.554Z"
   },
   {
    "duration": -159,
    "start_time": "2021-11-13T18:57:11.556Z"
   },
   {
    "duration": -161,
    "start_time": "2021-11-13T18:57:11.559Z"
   },
   {
    "duration": -165,
    "start_time": "2021-11-13T18:57:11.564Z"
   },
   {
    "duration": -166,
    "start_time": "2021-11-13T18:57:11.566Z"
   },
   {
    "duration": -169,
    "start_time": "2021-11-13T18:57:11.570Z"
   },
   {
    "duration": -170,
    "start_time": "2021-11-13T18:57:11.572Z"
   },
   {
    "duration": -174,
    "start_time": "2021-11-13T18:57:11.576Z"
   },
   {
    "duration": -176,
    "start_time": "2021-11-13T18:57:11.579Z"
   },
   {
    "duration": -178,
    "start_time": "2021-11-13T18:57:11.582Z"
   },
   {
    "duration": -180,
    "start_time": "2021-11-13T18:57:11.585Z"
   },
   {
    "duration": -182,
    "start_time": "2021-11-13T18:57:11.588Z"
   },
   {
    "duration": -183,
    "start_time": "2021-11-13T18:57:11.590Z"
   },
   {
    "duration": 1114,
    "start_time": "2021-11-13T19:21:10.477Z"
   },
   {
    "duration": 39,
    "start_time": "2021-11-13T19:21:11.593Z"
   },
   {
    "duration": 3,
    "start_time": "2021-11-13T19:21:11.634Z"
   },
   {
    "duration": 20,
    "start_time": "2021-11-13T19:21:11.639Z"
   },
   {
    "duration": 8,
    "start_time": "2021-11-13T19:21:11.661Z"
   },
   {
    "duration": 22,
    "start_time": "2021-11-13T19:21:11.671Z"
   },
   {
    "duration": 10,
    "start_time": "2021-11-13T19:21:11.695Z"
   },
   {
    "duration": 40,
    "start_time": "2021-11-13T19:21:11.708Z"
   },
   {
    "duration": 10,
    "start_time": "2021-11-13T19:21:11.751Z"
   },
   {
    "duration": 6,
    "start_time": "2021-11-13T19:21:11.763Z"
   },
   {
    "duration": 11,
    "start_time": "2021-11-13T19:21:11.790Z"
   },
   {
    "duration": 15,
    "start_time": "2021-11-13T19:21:11.803Z"
   },
   {
    "duration": 4,
    "start_time": "2021-11-13T19:21:11.820Z"
   },
   {
    "duration": 7,
    "start_time": "2021-11-13T19:21:11.825Z"
   },
   {
    "duration": 14,
    "start_time": "2021-11-13T19:21:11.834Z"
   },
   {
    "duration": 49,
    "start_time": "2021-11-13T19:21:11.849Z"
   },
   {
    "duration": 9,
    "start_time": "2021-11-13T19:21:11.899Z"
   },
   {
    "duration": 10,
    "start_time": "2021-11-13T19:21:11.910Z"
   },
   {
    "duration": 7,
    "start_time": "2021-11-13T19:21:11.921Z"
   },
   {
    "duration": 22,
    "start_time": "2021-11-13T19:21:11.929Z"
   },
   {
    "duration": 18,
    "start_time": "2021-11-13T19:21:11.992Z"
   },
   {
    "duration": 237,
    "start_time": "2021-11-13T19:21:12.012Z"
   },
   {
    "duration": 205,
    "start_time": "2021-11-13T19:21:12.252Z"
   },
   {
    "duration": 66,
    "start_time": "2021-11-13T19:21:12.459Z"
   },
   {
    "duration": -643,
    "start_time": "2021-11-13T19:21:13.170Z"
   },
   {
    "duration": -659,
    "start_time": "2021-11-13T19:21:13.187Z"
   },
   {
    "duration": -662,
    "start_time": "2021-11-13T19:21:13.191Z"
   },
   {
    "duration": -665,
    "start_time": "2021-11-13T19:21:13.195Z"
   },
   {
    "duration": -673,
    "start_time": "2021-11-13T19:21:13.204Z"
   },
   {
    "duration": -675,
    "start_time": "2021-11-13T19:21:13.207Z"
   },
   {
    "duration": -677,
    "start_time": "2021-11-13T19:21:13.210Z"
   },
   {
    "duration": -681,
    "start_time": "2021-11-13T19:21:13.215Z"
   },
   {
    "duration": -684,
    "start_time": "2021-11-13T19:21:13.219Z"
   },
   {
    "duration": -747,
    "start_time": "2021-11-13T19:21:13.283Z"
   },
   {
    "duration": -749,
    "start_time": "2021-11-13T19:21:13.286Z"
   },
   {
    "duration": -769,
    "start_time": "2021-11-13T19:21:13.307Z"
   },
   {
    "duration": -777,
    "start_time": "2021-11-13T19:21:13.316Z"
   },
   {
    "duration": -796,
    "start_time": "2021-11-13T19:21:13.336Z"
   },
   {
    "duration": -797,
    "start_time": "2021-11-13T19:21:13.338Z"
   },
   {
    "duration": -799,
    "start_time": "2021-11-13T19:21:13.341Z"
   },
   {
    "duration": -801,
    "start_time": "2021-11-13T19:21:13.344Z"
   },
   {
    "duration": -803,
    "start_time": "2021-11-13T19:21:13.347Z"
   },
   {
    "duration": -804,
    "start_time": "2021-11-13T19:21:13.349Z"
   },
   {
    "duration": -805,
    "start_time": "2021-11-13T19:21:13.351Z"
   },
   {
    "duration": -806,
    "start_time": "2021-11-13T19:21:13.353Z"
   },
   {
    "duration": -808,
    "start_time": "2021-11-13T19:21:13.356Z"
   },
   {
    "duration": -809,
    "start_time": "2021-11-13T19:21:13.358Z"
   },
   {
    "duration": -810,
    "start_time": "2021-11-13T19:21:13.360Z"
   },
   {
    "duration": -813,
    "start_time": "2021-11-13T19:21:13.363Z"
   },
   {
    "duration": -875,
    "start_time": "2021-11-13T19:21:13.427Z"
   },
   {
    "duration": -878,
    "start_time": "2021-11-13T19:21:13.430Z"
   },
   {
    "duration": 65,
    "start_time": "2021-11-13T19:24:03.902Z"
   },
   {
    "duration": 2210,
    "start_time": "2021-11-13T19:29:02.672Z"
   },
   {
    "duration": 47,
    "start_time": "2021-11-13T19:29:04.884Z"
   },
   {
    "duration": 3,
    "start_time": "2021-11-13T19:29:04.933Z"
   },
   {
    "duration": 16,
    "start_time": "2021-11-13T19:29:04.938Z"
   },
   {
    "duration": 7,
    "start_time": "2021-11-13T19:29:04.955Z"
   },
   {
    "duration": 40,
    "start_time": "2021-11-13T19:29:04.964Z"
   },
   {
    "duration": 7,
    "start_time": "2021-11-13T19:29:05.007Z"
   },
   {
    "duration": 43,
    "start_time": "2021-11-13T19:29:05.016Z"
   },
   {
    "duration": 31,
    "start_time": "2021-11-13T19:29:05.070Z"
   },
   {
    "duration": 8,
    "start_time": "2021-11-13T19:29:05.106Z"
   },
   {
    "duration": 12,
    "start_time": "2021-11-13T19:29:05.116Z"
   },
   {
    "duration": 16,
    "start_time": "2021-11-13T19:29:05.130Z"
   },
   {
    "duration": 7,
    "start_time": "2021-11-13T19:29:05.147Z"
   },
   {
    "duration": 51,
    "start_time": "2021-11-13T19:29:05.155Z"
   },
   {
    "duration": 18,
    "start_time": "2021-11-13T19:29:05.209Z"
   },
   {
    "duration": 15,
    "start_time": "2021-11-13T19:29:05.229Z"
   },
   {
    "duration": 10,
    "start_time": "2021-11-13T19:29:05.246Z"
   },
   {
    "duration": 55,
    "start_time": "2021-11-13T19:29:05.258Z"
   },
   {
    "duration": 12,
    "start_time": "2021-11-13T19:29:05.315Z"
   },
   {
    "duration": 28,
    "start_time": "2021-11-13T19:29:05.329Z"
   },
   {
    "duration": 50,
    "start_time": "2021-11-13T19:29:05.359Z"
   },
   {
    "duration": 228,
    "start_time": "2021-11-13T19:29:05.411Z"
   },
   {
    "duration": 232,
    "start_time": "2021-11-13T19:29:05.640Z"
   },
   {
    "duration": 65,
    "start_time": "2021-11-13T19:29:05.873Z"
   },
   {
    "duration": -408,
    "start_time": "2021-11-13T19:29:06.348Z"
   },
   {
    "duration": -409,
    "start_time": "2021-11-13T19:29:06.350Z"
   },
   {
    "duration": -411,
    "start_time": "2021-11-13T19:29:06.353Z"
   },
   {
    "duration": -412,
    "start_time": "2021-11-13T19:29:06.355Z"
   },
   {
    "duration": -485,
    "start_time": "2021-11-13T19:29:06.429Z"
   },
   {
    "duration": -500,
    "start_time": "2021-11-13T19:29:06.445Z"
   },
   {
    "duration": -516,
    "start_time": "2021-11-13T19:29:06.462Z"
   },
   {
    "duration": -520,
    "start_time": "2021-11-13T19:29:06.466Z"
   },
   {
    "duration": -563,
    "start_time": "2021-11-13T19:29:06.510Z"
   },
   {
    "duration": -566,
    "start_time": "2021-11-13T19:29:06.514Z"
   },
   {
    "duration": -570,
    "start_time": "2021-11-13T19:29:06.519Z"
   },
   {
    "duration": -584,
    "start_time": "2021-11-13T19:29:06.534Z"
   },
   {
    "duration": -589,
    "start_time": "2021-11-13T19:29:06.540Z"
   },
   {
    "duration": -592,
    "start_time": "2021-11-13T19:29:06.544Z"
   },
   {
    "duration": -595,
    "start_time": "2021-11-13T19:29:06.548Z"
   },
   {
    "duration": -612,
    "start_time": "2021-11-13T19:29:06.566Z"
   },
   {
    "duration": -618,
    "start_time": "2021-11-13T19:29:06.573Z"
   },
   {
    "duration": -620,
    "start_time": "2021-11-13T19:29:06.576Z"
   },
   {
    "duration": -622,
    "start_time": "2021-11-13T19:29:06.579Z"
   },
   {
    "duration": -625,
    "start_time": "2021-11-13T19:29:06.583Z"
   },
   {
    "duration": -630,
    "start_time": "2021-11-13T19:29:06.589Z"
   },
   {
    "duration": -642,
    "start_time": "2021-11-13T19:29:06.602Z"
   },
   {
    "duration": -647,
    "start_time": "2021-11-13T19:29:06.608Z"
   },
   {
    "duration": -649,
    "start_time": "2021-11-13T19:29:06.611Z"
   },
   {
    "duration": -654,
    "start_time": "2021-11-13T19:29:06.617Z"
   },
   {
    "duration": -660,
    "start_time": "2021-11-13T19:29:06.624Z"
   },
   {
    "duration": -662,
    "start_time": "2021-11-13T19:29:06.627Z"
   },
   {
    "duration": -666,
    "start_time": "2021-11-13T19:29:06.631Z"
   },
   {
    "duration": -668,
    "start_time": "2021-11-13T19:29:06.634Z"
   },
   {
    "duration": -670,
    "start_time": "2021-11-13T19:29:06.637Z"
   },
   {
    "duration": -671,
    "start_time": "2021-11-13T19:29:06.639Z"
   },
   {
    "duration": -675,
    "start_time": "2021-11-13T19:29:06.644Z"
   },
   {
    "duration": 44,
    "start_time": "2021-11-13T20:08:57.340Z"
   },
   {
    "duration": 1052,
    "start_time": "2021-11-13T20:09:18.296Z"
   },
   {
    "duration": 41,
    "start_time": "2021-11-13T20:09:19.350Z"
   },
   {
    "duration": 3,
    "start_time": "2021-11-13T20:09:19.392Z"
   },
   {
    "duration": 26,
    "start_time": "2021-11-13T20:09:19.397Z"
   },
   {
    "duration": 7,
    "start_time": "2021-11-13T20:09:19.424Z"
   },
   {
    "duration": 6,
    "start_time": "2021-11-13T20:09:19.433Z"
   },
   {
    "duration": 7,
    "start_time": "2021-11-13T20:09:19.441Z"
   },
   {
    "duration": 53,
    "start_time": "2021-11-13T20:09:19.450Z"
   },
   {
    "duration": 11,
    "start_time": "2021-11-13T20:09:19.505Z"
   },
   {
    "duration": 9,
    "start_time": "2021-11-13T20:09:19.517Z"
   },
   {
    "duration": 11,
    "start_time": "2021-11-13T20:09:19.528Z"
   },
   {
    "duration": 10,
    "start_time": "2021-11-13T20:09:19.541Z"
   },
   {
    "duration": 16,
    "start_time": "2021-11-13T20:09:19.553Z"
   },
   {
    "duration": 25,
    "start_time": "2021-11-13T20:09:19.571Z"
   },
   {
    "duration": 27,
    "start_time": "2021-11-13T20:09:19.597Z"
   },
   {
    "duration": 15,
    "start_time": "2021-11-13T20:09:19.626Z"
   },
   {
    "duration": 9,
    "start_time": "2021-11-13T20:09:19.648Z"
   },
   {
    "duration": 18,
    "start_time": "2021-11-13T20:09:19.659Z"
   },
   {
    "duration": 7,
    "start_time": "2021-11-13T20:09:19.691Z"
   },
   {
    "duration": 23,
    "start_time": "2021-11-13T20:09:19.700Z"
   },
   {
    "duration": 16,
    "start_time": "2021-11-13T20:09:19.725Z"
   },
   {
    "duration": 61,
    "start_time": "2021-11-13T20:09:19.743Z"
   },
   {
    "duration": 62,
    "start_time": "2021-11-13T20:09:19.807Z"
   },
   {
    "duration": -771,
    "start_time": "2021-11-13T20:09:20.642Z"
   },
   {
    "duration": -774,
    "start_time": "2021-11-13T20:09:20.646Z"
   },
   {
    "duration": -777,
    "start_time": "2021-11-13T20:09:20.650Z"
   },
   {
    "duration": -781,
    "start_time": "2021-11-13T20:09:20.655Z"
   },
   {
    "duration": -785,
    "start_time": "2021-11-13T20:09:20.660Z"
   },
   {
    "duration": -789,
    "start_time": "2021-11-13T20:09:20.665Z"
   },
   {
    "duration": -793,
    "start_time": "2021-11-13T20:09:20.669Z"
   },
   {
    "duration": -795,
    "start_time": "2021-11-13T20:09:20.672Z"
   },
   {
    "duration": -880,
    "start_time": "2021-11-13T20:09:20.758Z"
   },
   {
    "duration": -887,
    "start_time": "2021-11-13T20:09:20.766Z"
   },
   {
    "duration": -889,
    "start_time": "2021-11-13T20:09:20.769Z"
   },
   {
    "duration": -892,
    "start_time": "2021-11-13T20:09:20.773Z"
   },
   {
    "duration": -894,
    "start_time": "2021-11-13T20:09:20.776Z"
   },
   {
    "duration": -918,
    "start_time": "2021-11-13T20:09:20.801Z"
   },
   {
    "duration": -922,
    "start_time": "2021-11-13T20:09:20.806Z"
   },
   {
    "duration": -932,
    "start_time": "2021-11-13T20:09:20.817Z"
   },
   {
    "duration": -934,
    "start_time": "2021-11-13T20:09:20.820Z"
   },
   {
    "duration": -936,
    "start_time": "2021-11-13T20:09:20.823Z"
   },
   {
    "duration": -937,
    "start_time": "2021-11-13T20:09:20.825Z"
   },
   {
    "duration": -940,
    "start_time": "2021-11-13T20:09:20.829Z"
   },
   {
    "duration": -941,
    "start_time": "2021-11-13T20:09:20.831Z"
   },
   {
    "duration": -997,
    "start_time": "2021-11-13T20:09:20.888Z"
   },
   {
    "duration": -999,
    "start_time": "2021-11-13T20:09:20.891Z"
   },
   {
    "duration": -1028,
    "start_time": "2021-11-13T20:09:20.921Z"
   },
   {
    "duration": -1033,
    "start_time": "2021-11-13T20:09:20.926Z"
   },
   {
    "duration": -1034,
    "start_time": "2021-11-13T20:09:20.928Z"
   },
   {
    "duration": -1036,
    "start_time": "2021-11-13T20:09:20.931Z"
   },
   {
    "duration": -1051,
    "start_time": "2021-11-13T20:09:20.947Z"
   },
   {
    "duration": -1054,
    "start_time": "2021-11-13T20:09:20.951Z"
   },
   {
    "duration": -1057,
    "start_time": "2021-11-13T20:09:20.955Z"
   },
   {
    "duration": 45,
    "start_time": "2021-11-13T20:10:15.507Z"
   },
   {
    "duration": 353,
    "start_time": "2021-11-13T20:10:46.649Z"
   },
   {
    "duration": 260,
    "start_time": "2021-11-13T20:10:54.473Z"
   },
   {
    "duration": 302,
    "start_time": "2021-11-13T20:11:06.458Z"
   },
   {
    "duration": 52,
    "start_time": "2021-11-13T20:11:18.476Z"
   },
   {
    "duration": 67,
    "start_time": "2021-11-13T20:12:44.260Z"
   },
   {
    "duration": 56,
    "start_time": "2021-11-13T20:13:06.963Z"
   },
   {
    "duration": 208,
    "start_time": "2021-11-13T20:14:56.991Z"
   },
   {
    "duration": 211,
    "start_time": "2021-11-13T20:15:07.199Z"
   },
   {
    "duration": 25,
    "start_time": "2021-11-13T20:15:15.120Z"
   },
   {
    "duration": 26,
    "start_time": "2021-11-13T20:18:05.322Z"
   },
   {
    "duration": 5,
    "start_time": "2021-11-13T20:19:02.925Z"
   },
   {
    "duration": 9,
    "start_time": "2021-11-13T20:20:10.290Z"
   },
   {
    "duration": 55,
    "start_time": "2021-11-13T20:21:59.353Z"
   },
   {
    "duration": 11,
    "start_time": "2021-11-13T20:37:13.849Z"
   },
   {
    "duration": 209,
    "start_time": "2021-11-13T20:40:35.524Z"
   },
   {
    "duration": 208,
    "start_time": "2021-11-13T20:41:37.191Z"
   },
   {
    "duration": 193,
    "start_time": "2021-11-13T20:41:46.934Z"
   },
   {
    "duration": 5885,
    "start_time": "2021-11-13T20:48:37.289Z"
   },
   {
    "duration": 14,
    "start_time": "2021-11-13T20:53:02.500Z"
   },
   {
    "duration": 1129,
    "start_time": "2021-11-13T20:53:34.278Z"
   },
   {
    "duration": 42,
    "start_time": "2021-11-13T20:53:35.409Z"
   },
   {
    "duration": 3,
    "start_time": "2021-11-13T20:53:35.453Z"
   },
   {
    "duration": 18,
    "start_time": "2021-11-13T20:53:35.458Z"
   },
   {
    "duration": 15,
    "start_time": "2021-11-13T20:53:35.478Z"
   },
   {
    "duration": 5,
    "start_time": "2021-11-13T20:53:35.495Z"
   },
   {
    "duration": 11,
    "start_time": "2021-11-13T20:53:35.502Z"
   },
   {
    "duration": 37,
    "start_time": "2021-11-13T20:53:35.515Z"
   },
   {
    "duration": 9,
    "start_time": "2021-11-13T20:53:35.554Z"
   },
   {
    "duration": 30,
    "start_time": "2021-11-13T20:53:35.565Z"
   },
   {
    "duration": 20,
    "start_time": "2021-11-13T20:53:35.596Z"
   },
   {
    "duration": 10,
    "start_time": "2021-11-13T20:53:35.617Z"
   },
   {
    "duration": 13,
    "start_time": "2021-11-13T20:53:35.628Z"
   },
   {
    "duration": 9,
    "start_time": "2021-11-13T20:53:35.642Z"
   },
   {
    "duration": 12,
    "start_time": "2021-11-13T20:53:35.652Z"
   },
   {
    "duration": 32,
    "start_time": "2021-11-13T20:53:35.666Z"
   },
   {
    "duration": 9,
    "start_time": "2021-11-13T20:53:35.700Z"
   },
   {
    "duration": 9,
    "start_time": "2021-11-13T20:53:35.711Z"
   },
   {
    "duration": 8,
    "start_time": "2021-11-13T20:53:35.722Z"
   },
   {
    "duration": 22,
    "start_time": "2021-11-13T20:53:35.732Z"
   },
   {
    "duration": 55,
    "start_time": "2021-11-13T20:53:35.756Z"
   },
   {
    "duration": 8,
    "start_time": "2021-11-13T20:53:35.813Z"
   },
   {
    "duration": 89,
    "start_time": "2021-11-13T20:53:35.825Z"
   },
   {
    "duration": 12,
    "start_time": "2021-11-13T20:53:35.916Z"
   },
   {
    "duration": 227,
    "start_time": "2021-11-13T20:53:35.929Z"
   },
   {
    "duration": 213,
    "start_time": "2021-11-13T20:53:36.157Z"
   },
   {
    "duration": 64,
    "start_time": "2021-11-13T20:53:36.371Z"
   },
   {
    "duration": -130,
    "start_time": "2021-11-13T20:53:36.566Z"
   },
   {
    "duration": -134,
    "start_time": "2021-11-13T20:53:36.571Z"
   },
   {
    "duration": -146,
    "start_time": "2021-11-13T20:53:36.584Z"
   },
   {
    "duration": -151,
    "start_time": "2021-11-13T20:53:36.590Z"
   },
   {
    "duration": -156,
    "start_time": "2021-11-13T20:53:36.596Z"
   },
   {
    "duration": -160,
    "start_time": "2021-11-13T20:53:36.601Z"
   },
   {
    "duration": -163,
    "start_time": "2021-11-13T20:53:36.605Z"
   },
   {
    "duration": -165,
    "start_time": "2021-11-13T20:53:36.608Z"
   },
   {
    "duration": -168,
    "start_time": "2021-11-13T20:53:36.612Z"
   },
   {
    "duration": -170,
    "start_time": "2021-11-13T20:53:36.615Z"
   },
   {
    "duration": -171,
    "start_time": "2021-11-13T20:53:36.617Z"
   },
   {
    "duration": -174,
    "start_time": "2021-11-13T20:53:36.621Z"
   },
   {
    "duration": -176,
    "start_time": "2021-11-13T20:53:36.624Z"
   },
   {
    "duration": -181,
    "start_time": "2021-11-13T20:53:36.630Z"
   },
   {
    "duration": -183,
    "start_time": "2021-11-13T20:53:36.633Z"
   },
   {
    "duration": -187,
    "start_time": "2021-11-13T20:53:36.637Z"
   },
   {
    "duration": -212,
    "start_time": "2021-11-13T20:53:36.664Z"
   },
   {
    "duration": -214,
    "start_time": "2021-11-13T20:53:36.667Z"
   },
   {
    "duration": -217,
    "start_time": "2021-11-13T20:53:36.670Z"
   },
   {
    "duration": -222,
    "start_time": "2021-11-13T20:53:36.676Z"
   },
   {
    "duration": -225,
    "start_time": "2021-11-13T20:53:36.680Z"
   },
   {
    "duration": -253,
    "start_time": "2021-11-13T20:53:36.709Z"
   },
   {
    "duration": -257,
    "start_time": "2021-11-13T20:53:36.714Z"
   },
   {
    "duration": -260,
    "start_time": "2021-11-13T20:53:36.718Z"
   },
   {
    "duration": -264,
    "start_time": "2021-11-13T20:53:36.723Z"
   },
   {
    "duration": -266,
    "start_time": "2021-11-13T20:53:36.726Z"
   },
   {
    "duration": 9,
    "start_time": "2021-11-13T21:01:42.353Z"
   },
   {
    "duration": 8,
    "start_time": "2021-11-13T21:05:43.312Z"
   },
   {
    "duration": 1120,
    "start_time": "2021-11-13T21:06:36.583Z"
   },
   {
    "duration": 42,
    "start_time": "2021-11-13T21:06:37.704Z"
   },
   {
    "duration": 3,
    "start_time": "2021-11-13T21:06:37.748Z"
   },
   {
    "duration": 16,
    "start_time": "2021-11-13T21:06:37.753Z"
   },
   {
    "duration": 7,
    "start_time": "2021-11-13T21:06:37.771Z"
   },
   {
    "duration": 17,
    "start_time": "2021-11-13T21:06:37.779Z"
   },
   {
    "duration": 8,
    "start_time": "2021-11-13T21:06:37.797Z"
   },
   {
    "duration": 38,
    "start_time": "2021-11-13T21:06:37.808Z"
   },
   {
    "duration": 11,
    "start_time": "2021-11-13T21:06:37.848Z"
   },
   {
    "duration": 4,
    "start_time": "2021-11-13T21:06:37.891Z"
   },
   {
    "duration": 10,
    "start_time": "2021-11-13T21:06:37.897Z"
   },
   {
    "duration": 9,
    "start_time": "2021-11-13T21:06:37.909Z"
   },
   {
    "duration": 4,
    "start_time": "2021-11-13T21:06:37.920Z"
   },
   {
    "duration": 8,
    "start_time": "2021-11-13T21:06:37.925Z"
   },
   {
    "duration": 12,
    "start_time": "2021-11-13T21:06:37.934Z"
   },
   {
    "duration": 53,
    "start_time": "2021-11-13T21:06:37.947Z"
   },
   {
    "duration": 11,
    "start_time": "2021-11-13T21:06:38.001Z"
   },
   {
    "duration": 9,
    "start_time": "2021-11-13T21:06:38.013Z"
   },
   {
    "duration": 6,
    "start_time": "2021-11-13T21:06:38.024Z"
   },
   {
    "duration": 61,
    "start_time": "2021-11-13T21:06:38.032Z"
   },
   {
    "duration": 23,
    "start_time": "2021-11-13T21:06:38.094Z"
   },
   {
    "duration": 7,
    "start_time": "2021-11-13T21:06:38.119Z"
   },
   {
    "duration": 95,
    "start_time": "2021-11-13T21:06:38.130Z"
   },
   {
    "duration": 8,
    "start_time": "2021-11-13T21:06:38.228Z"
   },
   {
    "duration": 275,
    "start_time": "2021-11-13T21:06:38.237Z"
   },
   {
    "duration": -136,
    "start_time": "2021-11-13T21:06:38.650Z"
   },
   {
    "duration": -139,
    "start_time": "2021-11-13T21:06:38.654Z"
   },
   {
    "duration": -140,
    "start_time": "2021-11-13T21:06:38.656Z"
   },
   {
    "duration": -141,
    "start_time": "2021-11-13T21:06:38.659Z"
   },
   {
    "duration": -144,
    "start_time": "2021-11-13T21:06:38.663Z"
   },
   {
    "duration": -147,
    "start_time": "2021-11-13T21:06:38.667Z"
   },
   {
    "duration": -151,
    "start_time": "2021-11-13T21:06:38.672Z"
   },
   {
    "duration": -216,
    "start_time": "2021-11-13T21:06:38.738Z"
   },
   {
    "duration": -219,
    "start_time": "2021-11-13T21:06:38.742Z"
   },
   {
    "duration": -223,
    "start_time": "2021-11-13T21:06:38.747Z"
   },
   {
    "duration": -238,
    "start_time": "2021-11-13T21:06:38.763Z"
   },
   {
    "duration": -251,
    "start_time": "2021-11-13T21:06:38.777Z"
   },
   {
    "duration": -252,
    "start_time": "2021-11-13T21:06:38.779Z"
   },
   {
    "duration": -255,
    "start_time": "2021-11-13T21:06:38.783Z"
   },
   {
    "duration": -266,
    "start_time": "2021-11-13T21:06:38.794Z"
   },
   {
    "duration": -269,
    "start_time": "2021-11-13T21:06:38.798Z"
   },
   {
    "duration": -273,
    "start_time": "2021-11-13T21:06:38.803Z"
   },
   {
    "duration": -276,
    "start_time": "2021-11-13T21:06:38.807Z"
   },
   {
    "duration": -278,
    "start_time": "2021-11-13T21:06:38.810Z"
   },
   {
    "duration": -281,
    "start_time": "2021-11-13T21:06:38.813Z"
   },
   {
    "duration": -283,
    "start_time": "2021-11-13T21:06:38.816Z"
   },
   {
    "duration": -286,
    "start_time": "2021-11-13T21:06:38.820Z"
   },
   {
    "duration": -287,
    "start_time": "2021-11-13T21:06:38.822Z"
   },
   {
    "duration": -290,
    "start_time": "2021-11-13T21:06:38.825Z"
   },
   {
    "duration": -292,
    "start_time": "2021-11-13T21:06:38.828Z"
   },
   {
    "duration": -294,
    "start_time": "2021-11-13T21:06:38.831Z"
   },
   {
    "duration": -295,
    "start_time": "2021-11-13T21:06:38.833Z"
   },
   {
    "duration": -297,
    "start_time": "2021-11-13T21:06:38.836Z"
   },
   {
    "duration": -299,
    "start_time": "2021-11-13T21:06:38.839Z"
   },
   {
    "duration": -301,
    "start_time": "2021-11-13T21:06:38.842Z"
   },
   {
    "duration": 1120,
    "start_time": "2021-11-13T21:07:37.297Z"
   },
   {
    "duration": 40,
    "start_time": "2021-11-13T21:07:38.419Z"
   },
   {
    "duration": 3,
    "start_time": "2021-11-13T21:07:38.461Z"
   },
   {
    "duration": 17,
    "start_time": "2021-11-13T21:07:38.465Z"
   },
   {
    "duration": 6,
    "start_time": "2021-11-13T21:07:38.491Z"
   },
   {
    "duration": 6,
    "start_time": "2021-11-13T21:07:38.499Z"
   },
   {
    "duration": 8,
    "start_time": "2021-11-13T21:07:38.506Z"
   },
   {
    "duration": 40,
    "start_time": "2021-11-13T21:07:38.517Z"
   },
   {
    "duration": 35,
    "start_time": "2021-11-13T21:07:38.559Z"
   },
   {
    "duration": 5,
    "start_time": "2021-11-13T21:07:38.596Z"
   },
   {
    "duration": 11,
    "start_time": "2021-11-13T21:07:38.603Z"
   },
   {
    "duration": 10,
    "start_time": "2021-11-13T21:07:38.616Z"
   },
   {
    "duration": 9,
    "start_time": "2021-11-13T21:07:38.628Z"
   },
   {
    "duration": 7,
    "start_time": "2021-11-13T21:07:38.638Z"
   },
   {
    "duration": 50,
    "start_time": "2021-11-13T21:07:38.647Z"
   },
   {
    "duration": 14,
    "start_time": "2021-11-13T21:07:38.699Z"
   },
   {
    "duration": 9,
    "start_time": "2021-11-13T21:07:38.714Z"
   },
   {
    "duration": 10,
    "start_time": "2021-11-13T21:07:38.724Z"
   },
   {
    "duration": 6,
    "start_time": "2021-11-13T21:07:38.735Z"
   },
   {
    "duration": 61,
    "start_time": "2021-11-13T21:07:38.743Z"
   },
   {
    "duration": 23,
    "start_time": "2021-11-13T21:07:38.805Z"
   },
   {
    "duration": 8,
    "start_time": "2021-11-13T21:07:38.829Z"
   },
   {
    "duration": 88,
    "start_time": "2021-11-13T21:07:38.840Z"
   },
   {
    "duration": 61,
    "start_time": "2021-11-13T21:07:38.930Z"
   },
   {
    "duration": -1080,
    "start_time": "2021-11-13T21:07:40.072Z"
   },
   {
    "duration": -1104,
    "start_time": "2021-11-13T21:07:40.097Z"
   },
   {
    "duration": -1152,
    "start_time": "2021-11-13T21:07:40.146Z"
   },
   {
    "duration": -1154,
    "start_time": "2021-11-13T21:07:40.149Z"
   },
   {
    "duration": -1181,
    "start_time": "2021-11-13T21:07:40.177Z"
   },
   {
    "duration": -1184,
    "start_time": "2021-11-13T21:07:40.181Z"
   },
   {
    "duration": -1192,
    "start_time": "2021-11-13T21:07:40.190Z"
   },
   {
    "duration": -1195,
    "start_time": "2021-11-13T21:07:40.194Z"
   },
   {
    "duration": -1197,
    "start_time": "2021-11-13T21:07:40.197Z"
   },
   {
    "duration": -1213,
    "start_time": "2021-11-13T21:07:40.214Z"
   },
   {
    "duration": -1216,
    "start_time": "2021-11-13T21:07:40.218Z"
   },
   {
    "duration": -1218,
    "start_time": "2021-11-13T21:07:40.221Z"
   },
   {
    "duration": -1220,
    "start_time": "2021-11-13T21:07:40.224Z"
   },
   {
    "duration": -1299,
    "start_time": "2021-11-13T21:07:40.304Z"
   },
   {
    "duration": -1301,
    "start_time": "2021-11-13T21:07:40.307Z"
   },
   {
    "duration": -1303,
    "start_time": "2021-11-13T21:07:40.310Z"
   },
   {
    "duration": -1305,
    "start_time": "2021-11-13T21:07:40.313Z"
   },
   {
    "duration": -1328,
    "start_time": "2021-11-13T21:07:40.337Z"
   },
   {
    "duration": -1336,
    "start_time": "2021-11-13T21:07:40.346Z"
   },
   {
    "duration": -1346,
    "start_time": "2021-11-13T21:07:40.357Z"
   },
   {
    "duration": -1348,
    "start_time": "2021-11-13T21:07:40.360Z"
   },
   {
    "duration": -1351,
    "start_time": "2021-11-13T21:07:40.364Z"
   },
   {
    "duration": -1363,
    "start_time": "2021-11-13T21:07:40.377Z"
   },
   {
    "duration": -1366,
    "start_time": "2021-11-13T21:07:40.381Z"
   },
   {
    "duration": -1369,
    "start_time": "2021-11-13T21:07:40.385Z"
   },
   {
    "duration": -1372,
    "start_time": "2021-11-13T21:07:40.388Z"
   },
   {
    "duration": -1453,
    "start_time": "2021-11-13T21:07:40.470Z"
   },
   {
    "duration": -1455,
    "start_time": "2021-11-13T21:07:40.473Z"
   },
   {
    "duration": -1457,
    "start_time": "2021-11-13T21:07:40.476Z"
   },
   {
    "duration": -1460,
    "start_time": "2021-11-13T21:07:40.480Z"
   },
   {
    "duration": -1483,
    "start_time": "2021-11-13T21:07:40.504Z"
   },
   {
    "duration": 10,
    "start_time": "2021-11-13T21:07:52.293Z"
   },
   {
    "duration": 9,
    "start_time": "2021-11-13T21:08:09.594Z"
   },
   {
    "duration": 15,
    "start_time": "2021-11-13T21:11:06.312Z"
   },
   {
    "duration": 18,
    "start_time": "2021-11-13T21:11:20.025Z"
   },
   {
    "duration": 14,
    "start_time": "2021-11-13T21:11:37.221Z"
   },
   {
    "duration": 33,
    "start_time": "2021-11-13T21:14:28.921Z"
   },
   {
    "duration": 24,
    "start_time": "2021-11-13T21:14:53.277Z"
   },
   {
    "duration": 273,
    "start_time": "2021-11-13T21:50:33.074Z"
   },
   {
    "duration": 201,
    "start_time": "2021-11-13T21:52:22.995Z"
   },
   {
    "duration": 10,
    "start_time": "2021-11-13T21:52:44.493Z"
   },
   {
    "duration": 10,
    "start_time": "2021-11-13T21:53:46.337Z"
   },
   {
    "duration": 17,
    "start_time": "2021-11-13T21:54:10.679Z"
   },
   {
    "duration": 18,
    "start_time": "2021-11-13T21:55:32.325Z"
   },
   {
    "duration": 221,
    "start_time": "2021-11-13T22:08:42.911Z"
   },
   {
    "duration": 1129,
    "start_time": "2021-11-13T22:09:52.389Z"
   },
   {
    "duration": 41,
    "start_time": "2021-11-13T22:09:53.520Z"
   },
   {
    "duration": 3,
    "start_time": "2021-11-13T22:09:53.563Z"
   },
   {
    "duration": 24,
    "start_time": "2021-11-13T22:09:53.568Z"
   },
   {
    "duration": 9,
    "start_time": "2021-11-13T22:09:53.593Z"
   },
   {
    "duration": 5,
    "start_time": "2021-11-13T22:09:53.604Z"
   },
   {
    "duration": 10,
    "start_time": "2021-11-13T22:09:53.611Z"
   },
   {
    "duration": 40,
    "start_time": "2021-11-13T22:09:53.625Z"
   },
   {
    "duration": 12,
    "start_time": "2021-11-13T22:09:53.693Z"
   },
   {
    "duration": 6,
    "start_time": "2021-11-13T22:09:53.707Z"
   },
   {
    "duration": 12,
    "start_time": "2021-11-13T22:09:53.714Z"
   },
   {
    "duration": 11,
    "start_time": "2021-11-13T22:09:53.728Z"
   },
   {
    "duration": 6,
    "start_time": "2021-11-13T22:09:53.740Z"
   },
   {
    "duration": 44,
    "start_time": "2021-11-13T22:09:53.748Z"
   },
   {
    "duration": 13,
    "start_time": "2021-11-13T22:09:53.794Z"
   },
   {
    "duration": 20,
    "start_time": "2021-11-13T22:09:53.809Z"
   },
   {
    "duration": 8,
    "start_time": "2021-11-13T22:09:53.830Z"
   },
   {
    "duration": 9,
    "start_time": "2021-11-13T22:09:53.840Z"
   },
   {
    "duration": 6,
    "start_time": "2021-11-13T22:09:53.851Z"
   },
   {
    "duration": 51,
    "start_time": "2021-11-13T22:09:53.859Z"
   },
   {
    "duration": 21,
    "start_time": "2021-11-13T22:09:53.912Z"
   },
   {
    "duration": 8,
    "start_time": "2021-11-13T22:09:53.935Z"
   },
   {
    "duration": 94,
    "start_time": "2021-11-13T22:09:53.946Z"
   },
   {
    "duration": 27,
    "start_time": "2021-11-13T22:09:54.042Z"
   },
   {
    "duration": 34,
    "start_time": "2021-11-13T22:09:54.071Z"
   },
   {
    "duration": 274,
    "start_time": "2021-11-13T22:09:54.107Z"
   },
   {
    "duration": -213,
    "start_time": "2021-11-13T22:09:54.596Z"
   },
   {
    "duration": -217,
    "start_time": "2021-11-13T22:09:54.601Z"
   },
   {
    "duration": -220,
    "start_time": "2021-11-13T22:09:54.605Z"
   },
   {
    "duration": -223,
    "start_time": "2021-11-13T22:09:54.609Z"
   },
   {
    "duration": -228,
    "start_time": "2021-11-13T22:09:54.615Z"
   },
   {
    "duration": -232,
    "start_time": "2021-11-13T22:09:54.620Z"
   },
   {
    "duration": -236,
    "start_time": "2021-11-13T22:09:54.625Z"
   },
   {
    "duration": -239,
    "start_time": "2021-11-13T22:09:54.629Z"
   },
   {
    "duration": -241,
    "start_time": "2021-11-13T22:09:54.632Z"
   },
   {
    "duration": -244,
    "start_time": "2021-11-13T22:09:54.636Z"
   },
   {
    "duration": -248,
    "start_time": "2021-11-13T22:09:54.641Z"
   },
   {
    "duration": -250,
    "start_time": "2021-11-13T22:09:54.644Z"
   },
   {
    "duration": -252,
    "start_time": "2021-11-13T22:09:54.647Z"
   },
   {
    "duration": -254,
    "start_time": "2021-11-13T22:09:54.650Z"
   },
   {
    "duration": -256,
    "start_time": "2021-11-13T22:09:54.653Z"
   },
   {
    "duration": -258,
    "start_time": "2021-11-13T22:09:54.656Z"
   },
   {
    "duration": -262,
    "start_time": "2021-11-13T22:09:54.661Z"
   },
   {
    "duration": -265,
    "start_time": "2021-11-13T22:09:54.665Z"
   },
   {
    "duration": -267,
    "start_time": "2021-11-13T22:09:54.668Z"
   },
   {
    "duration": -270,
    "start_time": "2021-11-13T22:09:54.672Z"
   },
   {
    "duration": -272,
    "start_time": "2021-11-13T22:09:54.675Z"
   },
   {
    "duration": -275,
    "start_time": "2021-11-13T22:09:54.679Z"
   },
   {
    "duration": -278,
    "start_time": "2021-11-13T22:09:54.683Z"
   },
   {
    "duration": -280,
    "start_time": "2021-11-13T22:09:54.686Z"
   },
   {
    "duration": -295,
    "start_time": "2021-11-13T22:09:54.702Z"
   },
   {
    "duration": -298,
    "start_time": "2021-11-13T22:09:54.706Z"
   },
   {
    "duration": -302,
    "start_time": "2021-11-13T22:09:54.710Z"
   },
   {
    "duration": -304,
    "start_time": "2021-11-13T22:09:54.713Z"
   },
   {
    "duration": -307,
    "start_time": "2021-11-13T22:09:54.717Z"
   },
   {
    "duration": -308,
    "start_time": "2021-11-13T22:09:54.719Z"
   },
   {
    "duration": -311,
    "start_time": "2021-11-13T22:09:54.723Z"
   },
   {
    "duration": 4,
    "start_time": "2021-11-13T22:16:04.275Z"
   },
   {
    "duration": 4,
    "start_time": "2021-11-13T22:18:51.541Z"
   },
   {
    "duration": 65,
    "start_time": "2021-11-13T22:26:42.842Z"
   },
   {
    "duration": 67,
    "start_time": "2021-11-13T22:27:26.754Z"
   },
   {
    "duration": 10,
    "start_time": "2021-11-13T22:27:40.653Z"
   },
   {
    "duration": 7,
    "start_time": "2021-11-13T22:35:31.333Z"
   },
   {
    "duration": 10,
    "start_time": "2021-11-13T22:41:55.063Z"
   },
   {
    "duration": 209,
    "start_time": "2021-11-13T22:47:06.367Z"
   },
   {
    "duration": 1060,
    "start_time": "2021-11-13T22:48:09.446Z"
   },
   {
    "duration": 39,
    "start_time": "2021-11-13T22:48:10.508Z"
   },
   {
    "duration": 3,
    "start_time": "2021-11-13T22:48:10.549Z"
   },
   {
    "duration": 19,
    "start_time": "2021-11-13T22:48:10.553Z"
   },
   {
    "duration": 7,
    "start_time": "2021-11-13T22:48:10.573Z"
   },
   {
    "duration": 13,
    "start_time": "2021-11-13T22:48:10.581Z"
   },
   {
    "duration": 8,
    "start_time": "2021-11-13T22:48:10.596Z"
   },
   {
    "duration": 37,
    "start_time": "2021-11-13T22:48:10.606Z"
   },
   {
    "duration": 10,
    "start_time": "2021-11-13T22:48:10.645Z"
   },
   {
    "duration": 6,
    "start_time": "2021-11-13T22:48:10.656Z"
   },
   {
    "duration": 36,
    "start_time": "2021-11-13T22:48:10.663Z"
   },
   {
    "duration": 10,
    "start_time": "2021-11-13T22:48:10.700Z"
   },
   {
    "duration": 6,
    "start_time": "2021-11-13T22:48:10.712Z"
   },
   {
    "duration": 9,
    "start_time": "2021-11-13T22:48:10.720Z"
   },
   {
    "duration": 20,
    "start_time": "2021-11-13T22:48:10.731Z"
   },
   {
    "duration": 12,
    "start_time": "2021-11-13T22:48:10.753Z"
   },
   {
    "duration": 31,
    "start_time": "2021-11-13T22:48:10.767Z"
   },
   {
    "duration": 10,
    "start_time": "2021-11-13T22:48:10.800Z"
   },
   {
    "duration": 7,
    "start_time": "2021-11-13T22:48:10.811Z"
   },
   {
    "duration": 21,
    "start_time": "2021-11-13T22:48:10.819Z"
   },
   {
    "duration": 59,
    "start_time": "2021-11-13T22:48:10.841Z"
   },
   {
    "duration": 8,
    "start_time": "2021-11-13T22:48:10.902Z"
   },
   {
    "duration": 56,
    "start_time": "2021-11-13T22:48:10.913Z"
   },
   {
    "duration": 26,
    "start_time": "2021-11-13T22:48:10.992Z"
   },
   {
    "duration": 18,
    "start_time": "2021-11-13T22:48:11.020Z"
   },
   {
    "duration": 4,
    "start_time": "2021-11-13T22:48:11.040Z"
   },
   {
    "duration": 12,
    "start_time": "2021-11-13T22:48:11.045Z"
   },
   {
    "duration": 36,
    "start_time": "2021-11-13T22:48:11.059Z"
   },
   {
    "duration": 7,
    "start_time": "2021-11-13T22:48:11.097Z"
   },
   {
    "duration": 272,
    "start_time": "2021-11-13T22:48:11.106Z"
   },
   {
    "duration": -643,
    "start_time": "2021-11-13T22:48:12.022Z"
   },
   {
    "duration": -645,
    "start_time": "2021-11-13T22:48:12.026Z"
   },
   {
    "duration": -647,
    "start_time": "2021-11-13T22:48:12.029Z"
   },
   {
    "duration": -649,
    "start_time": "2021-11-13T22:48:12.032Z"
   },
   {
    "duration": -652,
    "start_time": "2021-11-13T22:48:12.036Z"
   },
   {
    "duration": -664,
    "start_time": "2021-11-13T22:48:12.049Z"
   },
   {
    "duration": -669,
    "start_time": "2021-11-13T22:48:12.055Z"
   },
   {
    "duration": -680,
    "start_time": "2021-11-13T22:48:12.067Z"
   },
   {
    "duration": -683,
    "start_time": "2021-11-13T22:48:12.071Z"
   },
   {
    "duration": -732,
    "start_time": "2021-11-13T22:48:12.120Z"
   },
   {
    "duration": -737,
    "start_time": "2021-11-13T22:48:12.126Z"
   },
   {
    "duration": -739,
    "start_time": "2021-11-13T22:48:12.130Z"
   },
   {
    "duration": -741,
    "start_time": "2021-11-13T22:48:12.133Z"
   },
   {
    "duration": -743,
    "start_time": "2021-11-13T22:48:12.136Z"
   },
   {
    "duration": -751,
    "start_time": "2021-11-13T22:48:12.145Z"
   },
   {
    "duration": -757,
    "start_time": "2021-11-13T22:48:12.152Z"
   },
   {
    "duration": -763,
    "start_time": "2021-11-13T22:48:12.159Z"
   },
   {
    "duration": -770,
    "start_time": "2021-11-13T22:48:12.167Z"
   },
   {
    "duration": -773,
    "start_time": "2021-11-13T22:48:12.171Z"
   },
   {
    "duration": -777,
    "start_time": "2021-11-13T22:48:12.175Z"
   },
   {
    "duration": -780,
    "start_time": "2021-11-13T22:48:12.179Z"
   },
   {
    "duration": -784,
    "start_time": "2021-11-13T22:48:12.184Z"
   },
   {
    "duration": -791,
    "start_time": "2021-11-13T22:48:12.192Z"
   },
   {
    "duration": -798,
    "start_time": "2021-11-13T22:48:12.200Z"
   },
   {
    "duration": -803,
    "start_time": "2021-11-13T22:48:12.205Z"
   },
   {
    "duration": -813,
    "start_time": "2021-11-13T22:48:12.216Z"
   },
   {
    "duration": -828,
    "start_time": "2021-11-13T22:48:12.232Z"
   },
   {
    "duration": -832,
    "start_time": "2021-11-13T22:48:12.237Z"
   },
   {
    "duration": -837,
    "start_time": "2021-11-13T22:48:12.243Z"
   },
   {
    "duration": 10,
    "start_time": "2021-11-13T22:56:28.780Z"
   },
   {
    "duration": 4,
    "start_time": "2021-11-13T22:56:35.497Z"
   },
   {
    "duration": 384,
    "start_time": "2021-11-13T22:56:39.198Z"
   },
   {
    "duration": 4,
    "start_time": "2021-11-13T22:57:01.930Z"
   },
   {
    "duration": 14,
    "start_time": "2021-11-13T22:57:06.897Z"
   },
   {
    "duration": 8,
    "start_time": "2021-11-13T22:57:58.178Z"
   },
   {
    "duration": 8,
    "start_time": "2021-11-13T23:02:42.845Z"
   },
   {
    "duration": 13,
    "start_time": "2021-11-13T23:02:45.646Z"
   },
   {
    "duration": 6,
    "start_time": "2021-11-13T23:03:26.318Z"
   },
   {
    "duration": 90,
    "start_time": "2021-11-13T23:04:19.306Z"
   },
   {
    "duration": 9,
    "start_time": "2021-11-13T23:08:39.830Z"
   },
   {
    "duration": 32,
    "start_time": "2021-11-13T23:14:56.828Z"
   },
   {
    "duration": 377,
    "start_time": "2021-11-13T23:14:58.270Z"
   },
   {
    "duration": 13,
    "start_time": "2021-11-13T23:15:48.659Z"
   },
   {
    "duration": 12,
    "start_time": "2021-11-13T23:15:53.738Z"
   },
   {
    "duration": 31,
    "start_time": "2021-11-13T23:17:25.904Z"
   },
   {
    "duration": 13,
    "start_time": "2021-11-13T23:17:30.191Z"
   },
   {
    "duration": 7,
    "start_time": "2021-11-13T23:17:35.490Z"
   },
   {
    "duration": 29,
    "start_time": "2021-11-13T23:18:42.662Z"
   },
   {
    "duration": 15,
    "start_time": "2021-11-13T23:18:43.924Z"
   },
   {
    "duration": 7,
    "start_time": "2021-11-13T23:18:48.690Z"
   },
   {
    "duration": 60,
    "start_time": "2021-11-13T23:23:32.222Z"
   },
   {
    "duration": 61,
    "start_time": "2021-11-13T23:23:48.012Z"
   },
   {
    "duration": 180,
    "start_time": "2021-11-13T23:23:59.003Z"
   },
   {
    "duration": 1098,
    "start_time": "2021-11-13T23:24:55.817Z"
   },
   {
    "duration": 41,
    "start_time": "2021-11-13T23:24:56.917Z"
   },
   {
    "duration": 3,
    "start_time": "2021-11-13T23:24:56.960Z"
   },
   {
    "duration": 18,
    "start_time": "2021-11-13T23:24:56.965Z"
   },
   {
    "duration": 11,
    "start_time": "2021-11-13T23:24:56.985Z"
   },
   {
    "duration": 8,
    "start_time": "2021-11-13T23:24:56.998Z"
   },
   {
    "duration": 9,
    "start_time": "2021-11-13T23:24:57.008Z"
   },
   {
    "duration": 41,
    "start_time": "2021-11-13T23:24:57.019Z"
   },
   {
    "duration": 33,
    "start_time": "2021-11-13T23:24:57.063Z"
   },
   {
    "duration": 6,
    "start_time": "2021-11-13T23:24:57.098Z"
   },
   {
    "duration": 14,
    "start_time": "2021-11-13T23:24:57.105Z"
   },
   {
    "duration": 14,
    "start_time": "2021-11-13T23:24:57.120Z"
   },
   {
    "duration": 7,
    "start_time": "2021-11-13T23:24:57.135Z"
   },
   {
    "duration": 17,
    "start_time": "2021-11-13T23:24:57.143Z"
   },
   {
    "duration": 21,
    "start_time": "2021-11-13T23:24:57.162Z"
   },
   {
    "duration": 15,
    "start_time": "2021-11-13T23:24:57.191Z"
   },
   {
    "duration": 18,
    "start_time": "2021-11-13T23:24:57.208Z"
   },
   {
    "duration": 9,
    "start_time": "2021-11-13T23:24:57.228Z"
   },
   {
    "duration": 17,
    "start_time": "2021-11-13T23:24:57.238Z"
   },
   {
    "duration": 27,
    "start_time": "2021-11-13T23:24:57.257Z"
   },
   {
    "duration": 23,
    "start_time": "2021-11-13T23:24:57.286Z"
   },
   {
    "duration": 12,
    "start_time": "2021-11-13T23:24:57.311Z"
   },
   {
    "duration": 68,
    "start_time": "2021-11-13T23:24:57.324Z"
   },
   {
    "duration": 25,
    "start_time": "2021-11-13T23:24:57.393Z"
   },
   {
    "duration": 21,
    "start_time": "2021-11-13T23:24:57.419Z"
   },
   {
    "duration": 4,
    "start_time": "2021-11-13T23:24:57.442Z"
   },
   {
    "duration": 17,
    "start_time": "2021-11-13T23:24:57.450Z"
   },
   {
    "duration": 27,
    "start_time": "2021-11-13T23:24:57.469Z"
   },
   {
    "duration": 21,
    "start_time": "2021-11-13T23:24:57.497Z"
   },
   {
    "duration": 15,
    "start_time": "2021-11-13T23:24:57.519Z"
   },
   {
    "duration": 6,
    "start_time": "2021-11-13T23:24:57.535Z"
   },
   {
    "duration": 159,
    "start_time": "2021-11-13T23:24:57.542Z"
   },
   {
    "duration": 9,
    "start_time": "2021-11-13T23:24:57.792Z"
   },
   {
    "duration": 204,
    "start_time": "2021-11-13T23:24:57.803Z"
   },
   {
    "duration": 12,
    "start_time": "2021-11-13T23:24:58.009Z"
   },
   {
    "duration": 6,
    "start_time": "2021-11-13T23:24:58.022Z"
   },
   {
    "duration": 37,
    "start_time": "2021-11-13T23:24:58.029Z"
   },
   {
    "duration": 35,
    "start_time": "2021-11-13T23:24:58.068Z"
   },
   {
    "duration": 8,
    "start_time": "2021-11-13T23:24:58.105Z"
   },
   {
    "duration": 274,
    "start_time": "2021-11-13T23:24:58.115Z"
   },
   {
    "duration": -178,
    "start_time": "2021-11-13T23:24:58.570Z"
   },
   {
    "duration": -181,
    "start_time": "2021-11-13T23:24:58.574Z"
   },
   {
    "duration": -184,
    "start_time": "2021-11-13T23:24:58.578Z"
   },
   {
    "duration": -187,
    "start_time": "2021-11-13T23:24:58.583Z"
   },
   {
    "duration": -190,
    "start_time": "2021-11-13T23:24:58.587Z"
   },
   {
    "duration": -192,
    "start_time": "2021-11-13T23:24:58.590Z"
   },
   {
    "duration": -193,
    "start_time": "2021-11-13T23:24:58.593Z"
   },
   {
    "duration": -231,
    "start_time": "2021-11-13T23:24:58.632Z"
   },
   {
    "duration": -233,
    "start_time": "2021-11-13T23:24:58.636Z"
   },
   {
    "duration": -236,
    "start_time": "2021-11-13T23:24:58.640Z"
   },
   {
    "duration": -237,
    "start_time": "2021-11-13T23:24:58.643Z"
   },
   {
    "duration": -240,
    "start_time": "2021-11-13T23:24:58.647Z"
   },
   {
    "duration": -242,
    "start_time": "2021-11-13T23:24:58.650Z"
   },
   {
    "duration": -244,
    "start_time": "2021-11-13T23:24:58.654Z"
   },
   {
    "duration": -247,
    "start_time": "2021-11-13T23:24:58.658Z"
   },
   {
    "duration": -248,
    "start_time": "2021-11-13T23:24:58.661Z"
   },
   {
    "duration": -251,
    "start_time": "2021-11-13T23:24:58.665Z"
   },
   {
    "duration": -253,
    "start_time": "2021-11-13T23:24:58.668Z"
   },
   {
    "duration": -255,
    "start_time": "2021-11-13T23:24:58.671Z"
   },
   {
    "duration": -257,
    "start_time": "2021-11-13T23:24:58.674Z"
   },
   {
    "duration": -259,
    "start_time": "2021-11-13T23:24:58.677Z"
   },
   {
    "duration": -261,
    "start_time": "2021-11-13T23:24:58.680Z"
   },
   {
    "duration": -263,
    "start_time": "2021-11-13T23:24:58.683Z"
   },
   {
    "duration": -266,
    "start_time": "2021-11-13T23:24:58.687Z"
   },
   {
    "duration": -280,
    "start_time": "2021-11-13T23:24:58.702Z"
   },
   {
    "duration": -283,
    "start_time": "2021-11-13T23:24:58.706Z"
   },
   {
    "duration": -325,
    "start_time": "2021-11-13T23:24:58.749Z"
   },
   {
    "duration": -328,
    "start_time": "2021-11-13T23:24:58.753Z"
   },
   {
    "duration": -359,
    "start_time": "2021-11-13T23:24:58.785Z"
   },
   {
    "duration": -364,
    "start_time": "2021-11-13T23:24:58.791Z"
   },
   {
    "duration": 203,
    "start_time": "2021-11-13T23:26:31.612Z"
   },
   {
    "duration": 9,
    "start_time": "2021-11-13T23:29:10.338Z"
   },
   {
    "duration": 191,
    "start_time": "2021-11-13T23:35:22.544Z"
   },
   {
    "duration": 14,
    "start_time": "2021-11-13T23:35:23.208Z"
   },
   {
    "duration": 255,
    "start_time": "2021-11-13T23:35:33.436Z"
   },
   {
    "duration": 28,
    "start_time": "2021-11-13T23:35:41.558Z"
   },
   {
    "duration": 357,
    "start_time": "2021-11-13T23:39:38.742Z"
   },
   {
    "duration": 249,
    "start_time": "2021-11-13T23:39:52.264Z"
   },
   {
    "duration": 194,
    "start_time": "2021-11-13T23:40:51.452Z"
   },
   {
    "duration": 200,
    "start_time": "2021-11-13T23:41:42.980Z"
   },
   {
    "duration": 33072,
    "start_time": "2021-11-13T23:42:05.721Z"
   },
   {
    "duration": 206,
    "start_time": "2021-11-13T23:43:00.482Z"
   },
   {
    "duration": 220,
    "start_time": "2021-11-13T23:51:22.921Z"
   },
   {
    "duration": 214,
    "start_time": "2021-11-13T23:52:35.436Z"
   },
   {
    "duration": 222,
    "start_time": "2021-11-13T23:57:01.176Z"
   },
   {
    "duration": 67,
    "start_time": "2021-11-13T23:58:21.307Z"
   },
   {
    "duration": 213,
    "start_time": "2021-11-13T23:58:39.733Z"
   },
   {
    "duration": 57,
    "start_time": "2021-11-13T23:59:47.164Z"
   },
   {
    "duration": 406,
    "start_time": "2021-11-14T00:00:03.293Z"
   },
   {
    "duration": 215,
    "start_time": "2021-11-14T00:00:20.828Z"
   },
   {
    "duration": 5838,
    "start_time": "2021-11-14T00:00:40.801Z"
   },
   {
    "duration": 209,
    "start_time": "2021-11-14T00:01:05.631Z"
   },
   {
    "duration": 33123,
    "start_time": "2021-11-14T00:01:25.283Z"
   },
   {
    "duration": 1097,
    "start_time": "2021-11-14T00:02:05.712Z"
   },
   {
    "duration": 42,
    "start_time": "2021-11-14T00:02:06.811Z"
   },
   {
    "duration": 3,
    "start_time": "2021-11-14T00:02:06.855Z"
   },
   {
    "duration": 21,
    "start_time": "2021-11-14T00:02:06.860Z"
   },
   {
    "duration": 11,
    "start_time": "2021-11-14T00:02:06.883Z"
   },
   {
    "duration": 5,
    "start_time": "2021-11-14T00:02:06.896Z"
   },
   {
    "duration": 9,
    "start_time": "2021-11-14T00:02:06.902Z"
   },
   {
    "duration": 41,
    "start_time": "2021-11-14T00:02:06.913Z"
   },
   {
    "duration": 10,
    "start_time": "2021-11-14T00:02:06.956Z"
   },
   {
    "duration": 4,
    "start_time": "2021-11-14T00:02:06.992Z"
   },
   {
    "duration": 13,
    "start_time": "2021-11-14T00:02:06.998Z"
   },
   {
    "duration": 11,
    "start_time": "2021-11-14T00:02:07.013Z"
   },
   {
    "duration": 5,
    "start_time": "2021-11-14T00:02:07.026Z"
   },
   {
    "duration": 14,
    "start_time": "2021-11-14T00:02:07.032Z"
   },
   {
    "duration": 54,
    "start_time": "2021-11-14T00:02:07.048Z"
   },
   {
    "duration": 13,
    "start_time": "2021-11-14T00:02:07.103Z"
   },
   {
    "duration": 8,
    "start_time": "2021-11-14T00:02:07.118Z"
   },
   {
    "duration": 9,
    "start_time": "2021-11-14T00:02:07.128Z"
   },
   {
    "duration": 6,
    "start_time": "2021-11-14T00:02:07.138Z"
   },
   {
    "duration": 52,
    "start_time": "2021-11-14T00:02:07.146Z"
   },
   {
    "duration": 21,
    "start_time": "2021-11-14T00:02:07.200Z"
   },
   {
    "duration": 7,
    "start_time": "2021-11-14T00:02:07.223Z"
   },
   {
    "duration": 80,
    "start_time": "2021-11-14T00:02:07.233Z"
   },
   {
    "duration": 23,
    "start_time": "2021-11-14T00:02:07.316Z"
   },
   {
    "duration": 17,
    "start_time": "2021-11-14T00:02:07.341Z"
   },
   {
    "duration": 4,
    "start_time": "2021-11-14T00:02:07.359Z"
   },
   {
    "duration": 38,
    "start_time": "2021-11-14T00:02:07.365Z"
   },
   {
    "duration": 6,
    "start_time": "2021-11-14T00:02:07.404Z"
   },
   {
    "duration": 7,
    "start_time": "2021-11-14T00:02:07.411Z"
   },
   {
    "duration": 13,
    "start_time": "2021-11-14T00:02:07.420Z"
   },
   {
    "duration": 60,
    "start_time": "2021-11-14T00:02:07.435Z"
   },
   {
    "duration": 199,
    "start_time": "2021-11-14T00:02:07.497Z"
   },
   {
    "duration": 95,
    "start_time": "2021-11-14T00:02:07.698Z"
   },
   {
    "duration": 119,
    "start_time": "2021-11-14T00:02:07.796Z"
   },
   {
    "duration": 13,
    "start_time": "2021-11-14T00:02:07.916Z"
   },
   {
    "duration": 17,
    "start_time": "2021-11-14T00:02:07.930Z"
   },
   {
    "duration": 48,
    "start_time": "2021-11-14T00:02:07.948Z"
   },
   {
    "duration": 13,
    "start_time": "2021-11-14T00:02:07.997Z"
   },
   {
    "duration": 16,
    "start_time": "2021-11-14T00:02:08.011Z"
   },
   {
    "duration": 31,
    "start_time": "2021-11-14T00:02:08.028Z"
   },
   {
    "duration": 252,
    "start_time": "2021-11-14T00:02:08.061Z"
   },
   {
    "duration": 26,
    "start_time": "2021-11-14T00:02:08.314Z"
   },
   {
    "duration": 5785,
    "start_time": "2021-11-14T00:02:08.342Z"
   },
   {
    "duration": 6732,
    "start_time": "2021-11-14T00:02:14.128Z"
   },
   {
    "duration": 33046,
    "start_time": "2021-11-14T00:02:20.862Z"
   },
   {
    "duration": 293,
    "start_time": "2021-11-14T00:02:53.910Z"
   },
   {
    "duration": -94,
    "start_time": "2021-11-14T00:02:54.298Z"
   },
   {
    "duration": -97,
    "start_time": "2021-11-14T00:02:54.302Z"
   },
   {
    "duration": -121,
    "start_time": "2021-11-14T00:02:54.327Z"
   },
   {
    "duration": -156,
    "start_time": "2021-11-14T00:02:54.363Z"
   },
   {
    "duration": -160,
    "start_time": "2021-11-14T00:02:54.368Z"
   },
   {
    "duration": -163,
    "start_time": "2021-11-14T00:02:54.372Z"
   },
   {
    "duration": -241,
    "start_time": "2021-11-14T00:02:54.451Z"
   },
   {
    "duration": -246,
    "start_time": "2021-11-14T00:02:54.457Z"
   },
   {
    "duration": -250,
    "start_time": "2021-11-14T00:02:54.461Z"
   },
   {
    "duration": -254,
    "start_time": "2021-11-14T00:02:54.466Z"
   },
   {
    "duration": -256,
    "start_time": "2021-11-14T00:02:54.469Z"
   },
   {
    "duration": -259,
    "start_time": "2021-11-14T00:02:54.473Z"
   },
   {
    "duration": -262,
    "start_time": "2021-11-14T00:02:54.476Z"
   },
   {
    "duration": -264,
    "start_time": "2021-11-14T00:02:54.479Z"
   },
   {
    "duration": -277,
    "start_time": "2021-11-14T00:02:54.493Z"
   },
   {
    "duration": -281,
    "start_time": "2021-11-14T00:02:54.498Z"
   },
   {
    "duration": -284,
    "start_time": "2021-11-14T00:02:54.502Z"
   },
   {
    "duration": -287,
    "start_time": "2021-11-14T00:02:54.506Z"
   },
   {
    "duration": -290,
    "start_time": "2021-11-14T00:02:54.510Z"
   },
   {
    "duration": -293,
    "start_time": "2021-11-14T00:02:54.514Z"
   },
   {
    "duration": -296,
    "start_time": "2021-11-14T00:02:54.517Z"
   },
   {
    "duration": -299,
    "start_time": "2021-11-14T00:02:54.521Z"
   },
   {
    "duration": -301,
    "start_time": "2021-11-14T00:02:54.524Z"
   },
   {
    "duration": -304,
    "start_time": "2021-11-14T00:02:54.529Z"
   },
   {
    "duration": -307,
    "start_time": "2021-11-14T00:02:54.533Z"
   },
   {
    "duration": -326,
    "start_time": "2021-11-14T00:02:54.552Z"
   },
   {
    "duration": -329,
    "start_time": "2021-11-14T00:02:54.556Z"
   },
   {
    "duration": -332,
    "start_time": "2021-11-14T00:02:54.560Z"
   },
   {
    "duration": -378,
    "start_time": "2021-11-14T00:02:54.607Z"
   },
   {
    "duration": 62011,
    "start_time": "2021-11-14T00:03:35.184Z"
   },
   {
    "duration": 32522,
    "start_time": "2021-11-14T00:04:39.574Z"
   },
   {
    "duration": 5741,
    "start_time": "2021-11-14T00:05:21.250Z"
   },
   {
    "duration": 489,
    "start_time": "2021-11-14T00:06:28.543Z"
   },
   {
    "duration": 29,
    "start_time": "2021-11-14T00:06:38.653Z"
   },
   {
    "duration": 1099,
    "start_time": "2021-11-14T00:07:29.022Z"
   },
   {
    "duration": 40,
    "start_time": "2021-11-14T00:07:30.123Z"
   },
   {
    "duration": 3,
    "start_time": "2021-11-14T00:07:30.165Z"
   },
   {
    "duration": 23,
    "start_time": "2021-11-14T00:07:30.169Z"
   },
   {
    "duration": 6,
    "start_time": "2021-11-14T00:07:30.194Z"
   },
   {
    "duration": 13,
    "start_time": "2021-11-14T00:07:30.202Z"
   },
   {
    "duration": 14,
    "start_time": "2021-11-14T00:07:30.217Z"
   },
   {
    "duration": 49,
    "start_time": "2021-11-14T00:07:30.234Z"
   },
   {
    "duration": 10,
    "start_time": "2021-11-14T00:07:30.286Z"
   },
   {
    "duration": 13,
    "start_time": "2021-11-14T00:07:30.298Z"
   },
   {
    "duration": 15,
    "start_time": "2021-11-14T00:07:30.313Z"
   },
   {
    "duration": 16,
    "start_time": "2021-11-14T00:07:30.330Z"
   },
   {
    "duration": 13,
    "start_time": "2021-11-14T00:07:30.348Z"
   },
   {
    "duration": 21,
    "start_time": "2021-11-14T00:07:30.362Z"
   },
   {
    "duration": 16,
    "start_time": "2021-11-14T00:07:30.385Z"
   },
   {
    "duration": 21,
    "start_time": "2021-11-14T00:07:30.403Z"
   },
   {
    "duration": 10,
    "start_time": "2021-11-14T00:07:30.426Z"
   },
   {
    "duration": 15,
    "start_time": "2021-11-14T00:07:30.437Z"
   },
   {
    "duration": 8,
    "start_time": "2021-11-14T00:07:30.454Z"
   },
   {
    "duration": 38,
    "start_time": "2021-11-14T00:07:30.464Z"
   },
   {
    "duration": 23,
    "start_time": "2021-11-14T00:07:30.505Z"
   },
   {
    "duration": 28,
    "start_time": "2021-11-14T00:07:30.529Z"
   },
   {
    "duration": 68,
    "start_time": "2021-11-14T00:07:30.561Z"
   },
   {
    "duration": 26,
    "start_time": "2021-11-14T00:07:30.632Z"
   },
   {
    "duration": 41,
    "start_time": "2021-11-14T00:07:30.660Z"
   },
   {
    "duration": 3,
    "start_time": "2021-11-14T00:07:30.703Z"
   },
   {
    "duration": 24,
    "start_time": "2021-11-14T00:07:30.708Z"
   },
   {
    "duration": 12,
    "start_time": "2021-11-14T00:07:30.734Z"
   },
   {
    "duration": 20,
    "start_time": "2021-11-14T00:07:30.748Z"
   },
   {
    "duration": 20,
    "start_time": "2021-11-14T00:07:30.770Z"
   },
   {
    "duration": 6,
    "start_time": "2021-11-14T00:07:30.792Z"
   },
   {
    "duration": 192,
    "start_time": "2021-11-14T00:07:30.800Z"
   },
   {
    "duration": 98,
    "start_time": "2021-11-14T00:07:30.994Z"
   },
   {
    "duration": 132,
    "start_time": "2021-11-14T00:07:31.094Z"
   },
   {
    "duration": 13,
    "start_time": "2021-11-14T00:07:31.227Z"
   },
   {
    "duration": 20,
    "start_time": "2021-11-14T00:07:31.242Z"
   },
   {
    "duration": 42,
    "start_time": "2021-11-14T00:07:31.263Z"
   },
   {
    "duration": 13,
    "start_time": "2021-11-14T00:07:31.306Z"
   },
   {
    "duration": 19,
    "start_time": "2021-11-14T00:07:31.321Z"
   },
   {
    "duration": 14,
    "start_time": "2021-11-14T00:07:31.342Z"
   },
   {
    "duration": 258,
    "start_time": "2021-11-14T00:07:31.357Z"
   },
   {
    "duration": 26,
    "start_time": "2021-11-14T00:07:31.617Z"
   },
   {
    "duration": 511,
    "start_time": "2021-11-14T00:07:31.645Z"
   },
   {
    "duration": 36,
    "start_time": "2021-11-14T00:07:32.157Z"
   },
   {
    "duration": 33028,
    "start_time": "2021-11-14T00:07:32.195Z"
   },
   {
    "duration": 33323,
    "start_time": "2021-11-14T00:08:05.225Z"
   },
   {
    "duration": 266,
    "start_time": "2021-11-14T00:08:38.549Z"
   },
   {
    "duration": -93,
    "start_time": "2021-11-14T00:08:38.910Z"
   },
   {
    "duration": -120,
    "start_time": "2021-11-14T00:08:38.938Z"
   },
   {
    "duration": -127,
    "start_time": "2021-11-14T00:08:38.946Z"
   },
   {
    "duration": -175,
    "start_time": "2021-11-14T00:08:38.994Z"
   },
   {
    "duration": -179,
    "start_time": "2021-11-14T00:08:38.999Z"
   },
   {
    "duration": -241,
    "start_time": "2021-11-14T00:08:39.062Z"
   },
   {
    "duration": -245,
    "start_time": "2021-11-14T00:08:39.067Z"
   },
   {
    "duration": -248,
    "start_time": "2021-11-14T00:08:39.071Z"
   },
   {
    "duration": -251,
    "start_time": "2021-11-14T00:08:39.075Z"
   },
   {
    "duration": -255,
    "start_time": "2021-11-14T00:08:39.079Z"
   },
   {
    "duration": -259,
    "start_time": "2021-11-14T00:08:39.084Z"
   },
   {
    "duration": -262,
    "start_time": "2021-11-14T00:08:39.088Z"
   },
   {
    "duration": -265,
    "start_time": "2021-11-14T00:08:39.092Z"
   },
   {
    "duration": -269,
    "start_time": "2021-11-14T00:08:39.097Z"
   },
   {
    "duration": -273,
    "start_time": "2021-11-14T00:08:39.102Z"
   },
   {
    "duration": -277,
    "start_time": "2021-11-14T00:08:39.107Z"
   },
   {
    "duration": -280,
    "start_time": "2021-11-14T00:08:39.111Z"
   },
   {
    "duration": -284,
    "start_time": "2021-11-14T00:08:39.116Z"
   },
   {
    "duration": -288,
    "start_time": "2021-11-14T00:08:39.120Z"
   },
   {
    "duration": -291,
    "start_time": "2021-11-14T00:08:39.124Z"
   },
   {
    "duration": -295,
    "start_time": "2021-11-14T00:08:39.129Z"
   },
   {
    "duration": -297,
    "start_time": "2021-11-14T00:08:39.132Z"
   },
   {
    "duration": -301,
    "start_time": "2021-11-14T00:08:39.137Z"
   },
   {
    "duration": -303,
    "start_time": "2021-11-14T00:08:39.140Z"
   },
   {
    "duration": -308,
    "start_time": "2021-11-14T00:08:39.145Z"
   },
   {
    "duration": -311,
    "start_time": "2021-11-14T00:08:39.149Z"
   },
   {
    "duration": -314,
    "start_time": "2021-11-14T00:08:39.153Z"
   },
   {
    "duration": -317,
    "start_time": "2021-11-14T00:08:39.157Z"
   },
   {
    "duration": -337,
    "start_time": "2021-11-14T00:08:39.178Z"
   },
   {
    "duration": -341,
    "start_time": "2021-11-14T00:08:39.183Z"
   },
   {
    "duration": 41,
    "start_time": "2021-11-14T00:09:03.600Z"
   },
   {
    "duration": 499,
    "start_time": "2021-11-14T00:09:42.703Z"
   },
   {
    "duration": 28,
    "start_time": "2021-11-14T00:09:47.257Z"
   },
   {
    "duration": 1799,
    "start_time": "2021-11-14T00:10:02.494Z"
   },
   {
    "duration": 60,
    "start_time": "2021-11-14T00:10:07.236Z"
   },
   {
    "duration": 29452,
    "start_time": "2021-11-14T00:12:01.657Z"
   },
   {
    "duration": 10005,
    "start_time": "2021-11-14T00:13:56.330Z"
   },
   {
    "duration": 54893,
    "start_time": "2021-11-14T00:14:30.837Z"
   },
   {
    "duration": 62905,
    "start_time": "2021-11-14T00:15:44.884Z"
   },
   {
    "duration": 62936,
    "start_time": "2021-11-14T00:17:25.560Z"
   },
   {
    "duration": 33527,
    "start_time": "2021-11-14T00:19:05.226Z"
   },
   {
    "duration": 4762,
    "start_time": "2021-11-14T00:20:39.572Z"
   },
   {
    "duration": 241,
    "start_time": "2021-11-14T00:23:01.281Z"
   },
   {
    "duration": 28,
    "start_time": "2021-11-14T00:23:02.719Z"
   },
   {
    "duration": 20,
    "start_time": "2021-11-14T00:23:06.052Z"
   },
   {
    "duration": 205,
    "start_time": "2021-11-14T00:24:15.414Z"
   },
   {
    "duration": 254,
    "start_time": "2021-11-14T00:24:45.324Z"
   },
   {
    "duration": 30,
    "start_time": "2021-11-14T00:24:48.358Z"
   },
   {
    "duration": 29,
    "start_time": "2021-11-14T00:26:22.377Z"
   },
   {
    "duration": 23,
    "start_time": "2021-11-14T00:26:24.110Z"
   },
   {
    "duration": 1691,
    "start_time": "2021-11-14T00:27:01.290Z"
   },
   {
    "duration": 65,
    "start_time": "2021-11-14T00:27:08.316Z"
   },
   {
    "duration": 284,
    "start_time": "2021-11-14T00:27:34.921Z"
   },
   {
    "duration": 27,
    "start_time": "2021-11-14T00:27:36.711Z"
   },
   {
    "duration": 23,
    "start_time": "2021-11-14T00:28:03.274Z"
   },
   {
    "duration": 31046,
    "start_time": "2021-11-14T00:28:54.501Z"
   },
   {
    "duration": 30507,
    "start_time": "2021-11-14T00:30:06.547Z"
   },
   {
    "duration": 22226,
    "start_time": "2021-11-14T00:31:06.048Z"
   },
   {
    "duration": 30893,
    "start_time": "2021-11-14T00:34:34.747Z"
   },
   {
    "duration": 31885,
    "start_time": "2021-11-14T00:35:37.753Z"
   },
   {
    "duration": 57979,
    "start_time": "2021-11-14T00:42:15.005Z"
   },
   {
    "duration": 694670,
    "start_time": "2021-11-14T00:43:42.244Z"
   },
   {
    "duration": 4,
    "start_time": "2021-11-14T00:55:16.916Z"
   },
   {
    "duration": 260,
    "start_time": "2021-11-14T01:10:11.666Z"
   },
   {
    "duration": 29,
    "start_time": "2021-11-14T01:10:27.837Z"
   },
   {
    "duration": 209,
    "start_time": "2021-11-14T01:10:38.175Z"
   },
   {
    "duration": 26,
    "start_time": "2021-11-14T01:10:41.615Z"
   },
   {
    "duration": 1096,
    "start_time": "2021-11-14T01:11:08.868Z"
   },
   {
    "duration": 41,
    "start_time": "2021-11-14T01:11:09.966Z"
   },
   {
    "duration": 4,
    "start_time": "2021-11-14T01:11:10.009Z"
   },
   {
    "duration": 26,
    "start_time": "2021-11-14T01:11:10.014Z"
   },
   {
    "duration": 8,
    "start_time": "2021-11-14T01:11:10.041Z"
   },
   {
    "duration": 6,
    "start_time": "2021-11-14T01:11:10.050Z"
   },
   {
    "duration": 10,
    "start_time": "2021-11-14T01:11:10.057Z"
   },
   {
    "duration": 39,
    "start_time": "2021-11-14T01:11:10.092Z"
   },
   {
    "duration": 10,
    "start_time": "2021-11-14T01:11:10.134Z"
   },
   {
    "duration": 7,
    "start_time": "2021-11-14T01:11:10.146Z"
   },
   {
    "duration": 37,
    "start_time": "2021-11-14T01:11:10.154Z"
   },
   {
    "duration": 10,
    "start_time": "2021-11-14T01:11:10.193Z"
   },
   {
    "duration": 6,
    "start_time": "2021-11-14T01:11:10.205Z"
   },
   {
    "duration": 11,
    "start_time": "2021-11-14T01:11:10.213Z"
   },
   {
    "duration": 22,
    "start_time": "2021-11-14T01:11:10.225Z"
   },
   {
    "duration": 14,
    "start_time": "2021-11-14T01:11:10.249Z"
   },
   {
    "duration": 30,
    "start_time": "2021-11-14T01:11:10.265Z"
   },
   {
    "duration": 11,
    "start_time": "2021-11-14T01:11:10.297Z"
   },
   {
    "duration": 8,
    "start_time": "2021-11-14T01:11:10.309Z"
   },
   {
    "duration": 21,
    "start_time": "2021-11-14T01:11:10.319Z"
   },
   {
    "duration": 61,
    "start_time": "2021-11-14T01:11:10.341Z"
   },
   {
    "duration": 9,
    "start_time": "2021-11-14T01:11:10.404Z"
   },
   {
    "duration": 75,
    "start_time": "2021-11-14T01:11:10.416Z"
   },
   {
    "duration": 26,
    "start_time": "2021-11-14T01:11:10.494Z"
   },
   {
    "duration": 18,
    "start_time": "2021-11-14T01:11:10.522Z"
   },
   {
    "duration": 4,
    "start_time": "2021-11-14T01:11:10.541Z"
   },
   {
    "duration": 24,
    "start_time": "2021-11-14T01:11:10.547Z"
   },
   {
    "duration": 6,
    "start_time": "2021-11-14T01:11:10.592Z"
   },
   {
    "duration": 17,
    "start_time": "2021-11-14T01:11:10.599Z"
   },
   {
    "duration": 19,
    "start_time": "2021-11-14T01:11:10.617Z"
   },
   {
    "duration": 11,
    "start_time": "2021-11-14T01:11:10.638Z"
   },
   {
    "duration": 102,
    "start_time": "2021-11-14T01:11:10.695Z"
   },
   {
    "duration": 107,
    "start_time": "2021-11-14T01:11:10.800Z"
   },
   {
    "duration": 203,
    "start_time": "2021-11-14T01:11:10.910Z"
   },
   {
    "duration": 12,
    "start_time": "2021-11-14T01:11:11.114Z"
   },
   {
    "duration": 9,
    "start_time": "2021-11-14T01:11:11.127Z"
   },
   {
    "duration": 38,
    "start_time": "2021-11-14T01:11:11.137Z"
   },
   {
    "duration": 27,
    "start_time": "2021-11-14T01:11:11.176Z"
   },
   {
    "duration": 11,
    "start_time": "2021-11-14T01:11:11.205Z"
   },
   {
    "duration": 15,
    "start_time": "2021-11-14T01:11:11.218Z"
   },
   {
    "duration": 265,
    "start_time": "2021-11-14T01:11:11.234Z"
   },
   {
    "duration": 28,
    "start_time": "2021-11-14T01:11:11.500Z"
   },
   {
    "duration": 20,
    "start_time": "2021-11-14T01:11:11.529Z"
   },
   {
    "duration": 43,
    "start_time": "2021-11-14T01:11:11.550Z"
   },
   {
    "duration": 211,
    "start_time": "2021-11-14T01:11:11.595Z"
   },
   {
    "duration": 24,
    "start_time": "2021-11-14T01:11:11.807Z"
   },
   {
    "duration": 29876,
    "start_time": "2021-11-14T01:11:11.833Z"
   },
   {
    "duration": 21781,
    "start_time": "2021-11-14T01:11:41.711Z"
   },
   {
    "duration": 6350,
    "start_time": "2021-11-14T01:12:03.494Z"
   },
   {
    "duration": -263,
    "start_time": "2021-11-14T01:12:10.110Z"
   },
   {
    "duration": -268,
    "start_time": "2021-11-14T01:12:10.116Z"
   },
   {
    "duration": -271,
    "start_time": "2021-11-14T01:12:10.120Z"
   },
   {
    "duration": -277,
    "start_time": "2021-11-14T01:12:10.127Z"
   },
   {
    "duration": -282,
    "start_time": "2021-11-14T01:12:10.133Z"
   },
   {
    "duration": -286,
    "start_time": "2021-11-14T01:12:10.138Z"
   },
   {
    "duration": -290,
    "start_time": "2021-11-14T01:12:10.143Z"
   },
   {
    "duration": -294,
    "start_time": "2021-11-14T01:12:10.148Z"
   },
   {
    "duration": -299,
    "start_time": "2021-11-14T01:12:10.154Z"
   },
   {
    "duration": -303,
    "start_time": "2021-11-14T01:12:10.159Z"
   },
   {
    "duration": -307,
    "start_time": "2021-11-14T01:12:10.164Z"
   },
   {
    "duration": -311,
    "start_time": "2021-11-14T01:12:10.169Z"
   },
   {
    "duration": -315,
    "start_time": "2021-11-14T01:12:10.175Z"
   },
   {
    "duration": -319,
    "start_time": "2021-11-14T01:12:10.180Z"
   },
   {
    "duration": -339,
    "start_time": "2021-11-14T01:12:10.200Z"
   },
   {
    "duration": -343,
    "start_time": "2021-11-14T01:12:10.206Z"
   },
   {
    "duration": -348,
    "start_time": "2021-11-14T01:12:10.213Z"
   },
   {
    "duration": -352,
    "start_time": "2021-11-14T01:12:10.218Z"
   },
   {
    "duration": -433,
    "start_time": "2021-11-14T01:12:10.300Z"
   },
   {
    "duration": -438,
    "start_time": "2021-11-14T01:12:10.306Z"
   },
   {
    "duration": -443,
    "start_time": "2021-11-14T01:12:10.312Z"
   },
   {
    "duration": -447,
    "start_time": "2021-11-14T01:12:10.317Z"
   },
   {
    "duration": -451,
    "start_time": "2021-11-14T01:12:10.322Z"
   },
   {
    "duration": -454,
    "start_time": "2021-11-14T01:12:10.327Z"
   },
   {
    "duration": -461,
    "start_time": "2021-11-14T01:12:10.335Z"
   },
   {
    "duration": -467,
    "start_time": "2021-11-14T01:12:10.342Z"
   },
   {
    "duration": -471,
    "start_time": "2021-11-14T01:12:10.347Z"
   },
   {
    "duration": -475,
    "start_time": "2021-11-14T01:12:10.352Z"
   },
   {
    "duration": -480,
    "start_time": "2021-11-14T01:12:10.358Z"
   },
   {
    "duration": -484,
    "start_time": "2021-11-14T01:12:10.363Z"
   },
   {
    "duration": -488,
    "start_time": "2021-11-14T01:12:10.368Z"
   },
   {
    "duration": -492,
    "start_time": "2021-11-14T01:12:10.373Z"
   },
   {
    "duration": -496,
    "start_time": "2021-11-14T01:12:10.378Z"
   },
   {
    "duration": 254,
    "start_time": "2021-11-14T01:15:04.032Z"
   },
   {
    "duration": 30,
    "start_time": "2021-11-14T01:15:08.122Z"
   },
   {
    "duration": 257,
    "start_time": "2021-11-14T01:15:26.691Z"
   },
   {
    "duration": 30,
    "start_time": "2021-11-14T01:15:31.254Z"
   },
   {
    "duration": 257,
    "start_time": "2021-11-14T01:15:40.316Z"
   },
   {
    "duration": 28,
    "start_time": "2021-11-14T01:15:45.339Z"
   },
   {
    "duration": 22,
    "start_time": "2021-11-14T01:15:46.426Z"
   },
   {
    "duration": 24,
    "start_time": "2021-11-14T01:15:47.620Z"
   },
   {
    "duration": 254,
    "start_time": "2021-11-14T01:16:02.737Z"
   },
   {
    "duration": 28,
    "start_time": "2021-11-14T01:16:04.034Z"
   },
   {
    "duration": 29,
    "start_time": "2021-11-14T01:16:46.309Z"
   },
   {
    "duration": 251,
    "start_time": "2021-11-14T01:16:52.469Z"
   },
   {
    "duration": 27,
    "start_time": "2021-11-14T01:16:54.205Z"
   },
   {
    "duration": 262,
    "start_time": "2021-11-14T01:18:10.685Z"
   },
   {
    "duration": 27,
    "start_time": "2021-11-14T01:18:15.246Z"
   },
   {
    "duration": 1085,
    "start_time": "2021-11-14T01:18:31.115Z"
   },
   {
    "duration": 39,
    "start_time": "2021-11-14T01:18:32.202Z"
   },
   {
    "duration": 4,
    "start_time": "2021-11-14T01:18:32.242Z"
   },
   {
    "duration": 19,
    "start_time": "2021-11-14T01:18:32.247Z"
   },
   {
    "duration": 7,
    "start_time": "2021-11-14T01:18:32.268Z"
   },
   {
    "duration": 17,
    "start_time": "2021-11-14T01:18:32.276Z"
   },
   {
    "duration": 12,
    "start_time": "2021-11-14T01:18:32.295Z"
   },
   {
    "duration": 40,
    "start_time": "2021-11-14T01:18:32.309Z"
   },
   {
    "duration": 10,
    "start_time": "2021-11-14T01:18:32.351Z"
   },
   {
    "duration": 6,
    "start_time": "2021-11-14T01:18:32.363Z"
   },
   {
    "duration": 29,
    "start_time": "2021-11-14T01:18:32.370Z"
   },
   {
    "duration": 9,
    "start_time": "2021-11-14T01:18:32.401Z"
   },
   {
    "duration": 6,
    "start_time": "2021-11-14T01:18:32.412Z"
   },
   {
    "duration": 8,
    "start_time": "2021-11-14T01:18:32.419Z"
   },
   {
    "duration": 16,
    "start_time": "2021-11-14T01:18:32.428Z"
   },
   {
    "duration": 12,
    "start_time": "2021-11-14T01:18:32.445Z"
   },
   {
    "duration": 39,
    "start_time": "2021-11-14T01:18:32.459Z"
   },
   {
    "duration": 9,
    "start_time": "2021-11-14T01:18:32.500Z"
   },
   {
    "duration": 8,
    "start_time": "2021-11-14T01:18:32.510Z"
   },
   {
    "duration": 20,
    "start_time": "2021-11-14T01:18:32.520Z"
   },
   {
    "duration": 51,
    "start_time": "2021-11-14T01:18:32.541Z"
   },
   {
    "duration": 8,
    "start_time": "2021-11-14T01:18:32.594Z"
   },
   {
    "duration": 56,
    "start_time": "2021-11-14T01:18:32.606Z"
   },
   {
    "duration": 49,
    "start_time": "2021-11-14T01:18:32.664Z"
   },
   {
    "duration": 18,
    "start_time": "2021-11-14T01:18:32.715Z"
   },
   {
    "duration": 26,
    "start_time": "2021-11-14T01:18:32.734Z"
   },
   {
    "duration": 16,
    "start_time": "2021-11-14T01:18:32.762Z"
   },
   {
    "duration": 5,
    "start_time": "2021-11-14T01:18:32.780Z"
   },
   {
    "duration": 9,
    "start_time": "2021-11-14T01:18:32.791Z"
   },
   {
    "duration": 22,
    "start_time": "2021-11-14T01:18:32.802Z"
   },
   {
    "duration": 5,
    "start_time": "2021-11-14T01:18:32.825Z"
   },
   {
    "duration": 260,
    "start_time": "2021-11-14T01:18:32.832Z"
   },
   {
    "duration": 9,
    "start_time": "2021-11-14T01:18:33.094Z"
   },
   {
    "duration": 198,
    "start_time": "2021-11-14T01:18:33.105Z"
   },
   {
    "duration": 12,
    "start_time": "2021-11-14T01:18:33.305Z"
   },
   {
    "duration": 6,
    "start_time": "2021-11-14T01:18:33.318Z"
   },
   {
    "duration": 29,
    "start_time": "2021-11-14T01:18:33.325Z"
   },
   {
    "duration": 46,
    "start_time": "2021-11-14T01:18:33.355Z"
   },
   {
    "duration": 6,
    "start_time": "2021-11-14T01:18:33.402Z"
   },
   {
    "duration": 9,
    "start_time": "2021-11-14T01:18:33.410Z"
   },
   {
    "duration": 273,
    "start_time": "2021-11-14T01:18:33.420Z"
   },
   {
    "duration": 27,
    "start_time": "2021-11-14T01:18:33.695Z"
   },
   {
    "duration": 20,
    "start_time": "2021-11-14T01:18:33.723Z"
   },
   {
    "duration": 22,
    "start_time": "2021-11-14T01:18:33.745Z"
   },
   {
    "duration": 279,
    "start_time": "2021-11-14T01:18:33.769Z"
   },
   {
    "duration": 28,
    "start_time": "2021-11-14T01:18:34.050Z"
   },
   {
    "duration": 262,
    "start_time": "2021-11-14T01:18:34.080Z"
   },
   {
    "duration": 28,
    "start_time": "2021-11-14T01:18:34.344Z"
   },
   {
    "duration": 230,
    "start_time": "2021-11-14T01:18:34.373Z"
   },
   {
    "duration": 25,
    "start_time": "2021-11-14T01:18:34.604Z"
   },
   {
    "duration": 30441,
    "start_time": "2021-11-14T01:18:34.631Z"
   },
   {
    "duration": 21958,
    "start_time": "2021-11-14T01:19:05.074Z"
   },
   {
    "duration": 4842,
    "start_time": "2021-11-14T01:19:27.034Z"
   },
   {
    "duration": -293,
    "start_time": "2021-11-14T01:19:32.171Z"
   },
   {
    "duration": -299,
    "start_time": "2021-11-14T01:19:32.178Z"
   },
   {
    "duration": -305,
    "start_time": "2021-11-14T01:19:32.185Z"
   },
   {
    "duration": -310,
    "start_time": "2021-11-14T01:19:32.191Z"
   },
   {
    "duration": -317,
    "start_time": "2021-11-14T01:19:32.199Z"
   },
   {
    "duration": -321,
    "start_time": "2021-11-14T01:19:32.204Z"
   },
   {
    "duration": -326,
    "start_time": "2021-11-14T01:19:32.210Z"
   },
   {
    "duration": -329,
    "start_time": "2021-11-14T01:19:32.214Z"
   },
   {
    "duration": -333,
    "start_time": "2021-11-14T01:19:32.219Z"
   },
   {
    "duration": -337,
    "start_time": "2021-11-14T01:19:32.224Z"
   },
   {
    "duration": -428,
    "start_time": "2021-11-14T01:19:32.316Z"
   },
   {
    "duration": -469,
    "start_time": "2021-11-14T01:19:32.358Z"
   },
   {
    "duration": -474,
    "start_time": "2021-11-14T01:19:32.364Z"
   },
   {
    "duration": -478,
    "start_time": "2021-11-14T01:19:32.369Z"
   },
   {
    "duration": -481,
    "start_time": "2021-11-14T01:19:32.373Z"
   },
   {
    "duration": -484,
    "start_time": "2021-11-14T01:19:32.377Z"
   },
   {
    "duration": -488,
    "start_time": "2021-11-14T01:19:32.382Z"
   },
   {
    "duration": -490,
    "start_time": "2021-11-14T01:19:32.386Z"
   },
   {
    "duration": -494,
    "start_time": "2021-11-14T01:19:32.391Z"
   },
   {
    "duration": -500,
    "start_time": "2021-11-14T01:19:32.397Z"
   },
   {
    "duration": -504,
    "start_time": "2021-11-14T01:19:32.402Z"
   },
   {
    "duration": -508,
    "start_time": "2021-11-14T01:19:32.407Z"
   },
   {
    "duration": -512,
    "start_time": "2021-11-14T01:19:32.412Z"
   },
   {
    "duration": -514,
    "start_time": "2021-11-14T01:19:32.415Z"
   },
   {
    "duration": -518,
    "start_time": "2021-11-14T01:19:32.420Z"
   },
   {
    "duration": -521,
    "start_time": "2021-11-14T01:19:32.424Z"
   },
   {
    "duration": -525,
    "start_time": "2021-11-14T01:19:32.429Z"
   },
   {
    "duration": -528,
    "start_time": "2021-11-14T01:19:32.433Z"
   },
   {
    "duration": -531,
    "start_time": "2021-11-14T01:19:32.437Z"
   },
   {
    "duration": -534,
    "start_time": "2021-11-14T01:19:32.441Z"
   },
   {
    "duration": -551,
    "start_time": "2021-11-14T01:19:32.459Z"
   },
   {
    "duration": -555,
    "start_time": "2021-11-14T01:19:32.464Z"
   },
   {
    "duration": -560,
    "start_time": "2021-11-14T01:19:32.470Z"
   },
   {
    "duration": 187,
    "start_time": "2021-11-14T01:20:28.731Z"
   },
   {
    "duration": 26,
    "start_time": "2021-11-14T01:20:32.742Z"
   },
   {
    "duration": 639,
    "start_time": "2021-11-14T01:20:42.561Z"
   },
   {
    "duration": 46,
    "start_time": "2021-11-14T01:20:46.320Z"
   },
   {
    "duration": 323,
    "start_time": "2021-11-14T01:20:58.406Z"
   },
   {
    "duration": 32,
    "start_time": "2021-11-14T01:20:59.723Z"
   },
   {
    "duration": 208,
    "start_time": "2021-11-14T01:21:07.190Z"
   },
   {
    "duration": 160,
    "start_time": "2021-11-14T01:21:42.441Z"
   },
   {
    "duration": 25,
    "start_time": "2021-11-14T01:21:45.392Z"
   },
   {
    "duration": 211,
    "start_time": "2021-11-14T01:21:54.208Z"
   },
   {
    "duration": 27,
    "start_time": "2021-11-14T01:21:57.227Z"
   },
   {
    "duration": 1067,
    "start_time": "2021-11-14T01:25:31.159Z"
   },
   {
    "duration": 42,
    "start_time": "2021-11-14T01:25:32.228Z"
   },
   {
    "duration": 3,
    "start_time": "2021-11-14T01:25:32.272Z"
   },
   {
    "duration": 37,
    "start_time": "2021-11-14T01:25:32.277Z"
   },
   {
    "duration": 16,
    "start_time": "2021-11-14T01:25:32.316Z"
   },
   {
    "duration": 12,
    "start_time": "2021-11-14T01:25:32.333Z"
   },
   {
    "duration": 11,
    "start_time": "2021-11-14T01:25:32.347Z"
   },
   {
    "duration": 39,
    "start_time": "2021-11-14T01:25:32.361Z"
   },
   {
    "duration": 10,
    "start_time": "2021-11-14T01:25:32.403Z"
   },
   {
    "duration": 8,
    "start_time": "2021-11-14T01:25:32.415Z"
   },
   {
    "duration": 13,
    "start_time": "2021-11-14T01:25:32.424Z"
   },
   {
    "duration": 10,
    "start_time": "2021-11-14T01:25:32.439Z"
   },
   {
    "duration": 8,
    "start_time": "2021-11-14T01:25:32.451Z"
   },
   {
    "duration": 31,
    "start_time": "2021-11-14T01:25:32.461Z"
   },
   {
    "duration": 14,
    "start_time": "2021-11-14T01:25:32.494Z"
   },
   {
    "duration": 17,
    "start_time": "2021-11-14T01:25:32.510Z"
   },
   {
    "duration": 9,
    "start_time": "2021-11-14T01:25:32.528Z"
   },
   {
    "duration": 13,
    "start_time": "2021-11-14T01:25:32.538Z"
   },
   {
    "duration": 6,
    "start_time": "2021-11-14T01:25:32.553Z"
   },
   {
    "duration": 21,
    "start_time": "2021-11-14T01:25:32.592Z"
   },
   {
    "duration": 21,
    "start_time": "2021-11-14T01:25:32.615Z"
   },
   {
    "duration": 7,
    "start_time": "2021-11-14T01:25:32.637Z"
   },
   {
    "duration": 84,
    "start_time": "2021-11-14T01:25:32.648Z"
   },
   {
    "duration": 24,
    "start_time": "2021-11-14T01:25:32.734Z"
   },
   {
    "duration": 41,
    "start_time": "2021-11-14T01:25:32.760Z"
   },
   {
    "duration": 4,
    "start_time": "2021-11-14T01:25:32.802Z"
   },
   {
    "duration": 19,
    "start_time": "2021-11-14T01:25:32.807Z"
   },
   {
    "duration": 5,
    "start_time": "2021-11-14T01:25:32.828Z"
   },
   {
    "duration": 6,
    "start_time": "2021-11-14T01:25:32.835Z"
   },
   {
    "duration": 14,
    "start_time": "2021-11-14T01:25:32.842Z"
   },
   {
    "duration": 43,
    "start_time": "2021-11-14T01:25:32.858Z"
   },
   {
    "duration": 105,
    "start_time": "2021-11-14T01:25:32.992Z"
   },
   {
    "duration": 11,
    "start_time": "2021-11-14T01:25:33.192Z"
   },
   {
    "duration": 120,
    "start_time": "2021-11-14T01:25:33.295Z"
   },
   {
    "duration": 13,
    "start_time": "2021-11-14T01:25:33.417Z"
   },
   {
    "duration": 6,
    "start_time": "2021-11-14T01:25:33.431Z"
   },
   {
    "duration": 56,
    "start_time": "2021-11-14T01:25:33.439Z"
   },
   {
    "duration": 13,
    "start_time": "2021-11-14T01:25:33.497Z"
   },
   {
    "duration": 6,
    "start_time": "2021-11-14T01:25:33.512Z"
   },
   {
    "duration": 11,
    "start_time": "2021-11-14T01:25:33.520Z"
   },
   {
    "duration": 284,
    "start_time": "2021-11-14T01:25:33.533Z"
   },
   {
    "duration": 29,
    "start_time": "2021-11-14T01:25:33.819Z"
   },
   {
    "duration": 42,
    "start_time": "2021-11-14T01:25:33.850Z"
   },
   {
    "duration": 24,
    "start_time": "2021-11-14T01:25:33.895Z"
   },
   {
    "duration": 271,
    "start_time": "2021-11-14T01:25:33.921Z"
   },
   {
    "duration": 29,
    "start_time": "2021-11-14T01:25:34.194Z"
   },
   {
    "duration": 269,
    "start_time": "2021-11-14T01:25:34.225Z"
   },
   {
    "duration": 29,
    "start_time": "2021-11-14T01:25:34.496Z"
   },
   {
    "duration": 226,
    "start_time": "2021-11-14T01:25:34.527Z"
   },
   {
    "duration": 36,
    "start_time": "2021-11-14T01:25:34.755Z"
   },
   {
    "duration": 30354,
    "start_time": "2021-11-14T01:25:34.793Z"
   },
   {
    "duration": 21840,
    "start_time": "2021-11-14T01:26:05.148Z"
   },
   {
    "duration": 282,
    "start_time": "2021-11-14T01:26:26.991Z"
   },
   {
    "duration": -132,
    "start_time": "2021-11-14T01:26:27.408Z"
   },
   {
    "duration": -136,
    "start_time": "2021-11-14T01:26:27.413Z"
   },
   {
    "duration": -252,
    "start_time": "2021-11-14T01:26:27.530Z"
   },
   {
    "duration": -267,
    "start_time": "2021-11-14T01:26:27.547Z"
   },
   {
    "duration": -272,
    "start_time": "2021-11-14T01:26:27.553Z"
   },
   {
    "duration": -275,
    "start_time": "2021-11-14T01:26:27.558Z"
   },
   {
    "duration": -278,
    "start_time": "2021-11-14T01:26:27.562Z"
   },
   {
    "duration": -282,
    "start_time": "2021-11-14T01:26:27.567Z"
   },
   {
    "duration": -284,
    "start_time": "2021-11-14T01:26:27.571Z"
   },
   {
    "duration": -287,
    "start_time": "2021-11-14T01:26:27.576Z"
   },
   {
    "duration": -290,
    "start_time": "2021-11-14T01:26:27.580Z"
   },
   {
    "duration": -294,
    "start_time": "2021-11-14T01:26:27.585Z"
   },
   {
    "duration": -297,
    "start_time": "2021-11-14T01:26:27.590Z"
   },
   {
    "duration": -301,
    "start_time": "2021-11-14T01:26:27.595Z"
   },
   {
    "duration": -304,
    "start_time": "2021-11-14T01:26:27.600Z"
   },
   {
    "duration": -308,
    "start_time": "2021-11-14T01:26:27.605Z"
   },
   {
    "duration": -311,
    "start_time": "2021-11-14T01:26:27.609Z"
   },
   {
    "duration": -314,
    "start_time": "2021-11-14T01:26:27.614Z"
   },
   {
    "duration": -318,
    "start_time": "2021-11-14T01:26:27.619Z"
   },
   {
    "duration": -321,
    "start_time": "2021-11-14T01:26:27.623Z"
   },
   {
    "duration": -324,
    "start_time": "2021-11-14T01:26:27.627Z"
   },
   {
    "duration": -327,
    "start_time": "2021-11-14T01:26:27.631Z"
   },
   {
    "duration": -331,
    "start_time": "2021-11-14T01:26:27.635Z"
   },
   {
    "duration": -394,
    "start_time": "2021-11-14T01:26:27.699Z"
   },
   {
    "duration": -409,
    "start_time": "2021-11-14T01:26:27.715Z"
   },
   {
    "duration": -414,
    "start_time": "2021-11-14T01:26:27.721Z"
   },
   {
    "duration": -417,
    "start_time": "2021-11-14T01:26:27.725Z"
   },
   {
    "duration": -422,
    "start_time": "2021-11-14T01:26:27.730Z"
   },
   {
    "duration": -425,
    "start_time": "2021-11-14T01:26:27.734Z"
   },
   {
    "duration": -429,
    "start_time": "2021-11-14T01:26:27.739Z"
   },
   {
    "duration": -433,
    "start_time": "2021-11-14T01:26:27.744Z"
   },
   {
    "duration": -438,
    "start_time": "2021-11-14T01:26:27.750Z"
   },
   {
    "duration": -443,
    "start_time": "2021-11-14T01:26:27.755Z"
   },
   {
    "duration": -446,
    "start_time": "2021-11-14T01:26:27.759Z"
   },
   {
    "duration": 214,
    "start_time": "2021-11-14T01:26:48.558Z"
   },
   {
    "duration": 27,
    "start_time": "2021-11-14T01:26:49.171Z"
   },
   {
    "duration": 210,
    "start_time": "2021-11-14T01:26:54.960Z"
   },
   {
    "duration": 27,
    "start_time": "2021-11-14T01:26:55.556Z"
   },
   {
    "duration": 211,
    "start_time": "2021-11-14T01:27:02.345Z"
   },
   {
    "duration": 26,
    "start_time": "2021-11-14T01:27:03.378Z"
   },
   {
    "duration": 201,
    "start_time": "2021-11-14T01:27:12.582Z"
   },
   {
    "duration": 211,
    "start_time": "2021-11-14T01:27:27.979Z"
   },
   {
    "duration": 214,
    "start_time": "2021-11-14T01:27:43.140Z"
   },
   {
    "duration": 209,
    "start_time": "2021-11-14T01:27:51.503Z"
   },
   {
    "duration": 208,
    "start_time": "2021-11-14T01:27:57.716Z"
   },
   {
    "duration": 115,
    "start_time": "2021-11-14T01:28:36.481Z"
   },
   {
    "duration": 22,
    "start_time": "2021-11-14T01:28:37.540Z"
   },
   {
    "duration": 210,
    "start_time": "2021-11-14T01:29:05.386Z"
   },
   {
    "duration": 26,
    "start_time": "2021-11-14T01:29:06.551Z"
   },
   {
    "duration": 209,
    "start_time": "2021-11-14T01:29:30.282Z"
   },
   {
    "duration": 28,
    "start_time": "2021-11-14T01:29:30.945Z"
   },
   {
    "duration": 207,
    "start_time": "2021-11-14T01:29:38.161Z"
   },
   {
    "duration": 28,
    "start_time": "2021-11-14T01:29:43.492Z"
   },
   {
    "duration": 208,
    "start_time": "2021-11-14T01:29:49.363Z"
   },
   {
    "duration": 27,
    "start_time": "2021-11-14T01:29:59.045Z"
   },
   {
    "duration": 30426,
    "start_time": "2021-11-14T01:30:01.476Z"
   },
   {
    "duration": 253,
    "start_time": "2021-11-14T01:32:16.997Z"
   },
   {
    "duration": 29,
    "start_time": "2021-11-14T01:32:18.261Z"
   },
   {
    "duration": 455,
    "start_time": "2021-11-14T01:32:24.373Z"
   },
   {
    "duration": 28,
    "start_time": "2021-11-14T01:32:24.945Z"
   },
   {
    "duration": 135,
    "start_time": "2021-11-14T01:32:32.309Z"
   },
   {
    "duration": 26,
    "start_time": "2021-11-14T01:32:33.191Z"
   },
   {
    "duration": 212,
    "start_time": "2021-11-14T01:33:14.483Z"
   },
   {
    "duration": 208,
    "start_time": "2021-11-14T01:33:22.788Z"
   },
   {
    "duration": 27,
    "start_time": "2021-11-14T01:33:26.601Z"
   },
   {
    "duration": 1061,
    "start_time": "2021-11-14T01:33:37.984Z"
   },
   {
    "duration": 40,
    "start_time": "2021-11-14T01:33:39.046Z"
   },
   {
    "duration": 5,
    "start_time": "2021-11-14T01:33:39.087Z"
   },
   {
    "duration": 18,
    "start_time": "2021-11-14T01:33:39.093Z"
   },
   {
    "duration": 7,
    "start_time": "2021-11-14T01:33:39.112Z"
   },
   {
    "duration": 5,
    "start_time": "2021-11-14T01:33:39.121Z"
   },
   {
    "duration": 10,
    "start_time": "2021-11-14T01:33:39.127Z"
   },
   {
    "duration": 61,
    "start_time": "2021-11-14T01:33:39.140Z"
   },
   {
    "duration": 10,
    "start_time": "2021-11-14T01:33:39.203Z"
   },
   {
    "duration": 8,
    "start_time": "2021-11-14T01:33:39.214Z"
   },
   {
    "duration": 10,
    "start_time": "2021-11-14T01:33:39.223Z"
   },
   {
    "duration": 10,
    "start_time": "2021-11-14T01:33:39.235Z"
   },
   {
    "duration": 8,
    "start_time": "2021-11-14T01:33:39.246Z"
   },
   {
    "duration": 36,
    "start_time": "2021-11-14T01:33:39.256Z"
   },
   {
    "duration": 12,
    "start_time": "2021-11-14T01:33:39.294Z"
   },
   {
    "duration": 12,
    "start_time": "2021-11-14T01:33:39.308Z"
   },
   {
    "duration": 8,
    "start_time": "2021-11-14T01:33:39.322Z"
   },
   {
    "duration": 10,
    "start_time": "2021-11-14T01:33:39.331Z"
   },
   {
    "duration": 6,
    "start_time": "2021-11-14T01:33:39.342Z"
   },
   {
    "duration": 58,
    "start_time": "2021-11-14T01:33:39.350Z"
   },
   {
    "duration": 22,
    "start_time": "2021-11-14T01:33:39.410Z"
   },
   {
    "duration": 7,
    "start_time": "2021-11-14T01:33:39.434Z"
   },
   {
    "duration": 80,
    "start_time": "2021-11-14T01:33:39.445Z"
   },
   {
    "duration": 25,
    "start_time": "2021-11-14T01:33:39.528Z"
   },
   {
    "duration": 41,
    "start_time": "2021-11-14T01:33:39.554Z"
   },
   {
    "duration": 3,
    "start_time": "2021-11-14T01:33:39.597Z"
   },
   {
    "duration": 16,
    "start_time": "2021-11-14T01:33:39.602Z"
   },
   {
    "duration": 5,
    "start_time": "2021-11-14T01:33:39.619Z"
   },
   {
    "duration": 7,
    "start_time": "2021-11-14T01:33:39.626Z"
   },
   {
    "duration": 13,
    "start_time": "2021-11-14T01:33:39.635Z"
   },
   {
    "duration": 144,
    "start_time": "2021-11-14T01:33:39.649Z"
   },
   {
    "duration": 98,
    "start_time": "2021-11-14T01:33:39.794Z"
   },
   {
    "duration": 97,
    "start_time": "2021-11-14T01:33:39.894Z"
   },
   {
    "duration": 116,
    "start_time": "2021-11-14T01:33:39.994Z"
   },
   {
    "duration": 13,
    "start_time": "2021-11-14T01:33:40.111Z"
   },
   {
    "duration": 5,
    "start_time": "2021-11-14T01:33:40.126Z"
   },
   {
    "duration": 33,
    "start_time": "2021-11-14T01:33:40.132Z"
   },
   {
    "duration": 37,
    "start_time": "2021-11-14T01:33:40.166Z"
   },
   {
    "duration": 8,
    "start_time": "2021-11-14T01:33:40.205Z"
   },
   {
    "duration": 13,
    "start_time": "2021-11-14T01:33:40.215Z"
   },
   {
    "duration": 281,
    "start_time": "2021-11-14T01:33:40.230Z"
   },
   {
    "duration": 28,
    "start_time": "2021-11-14T01:33:40.513Z"
   },
   {
    "duration": 22,
    "start_time": "2021-11-14T01:33:40.543Z"
   },
   {
    "duration": 45,
    "start_time": "2021-11-14T01:33:40.566Z"
   },
   {
    "duration": 272,
    "start_time": "2021-11-14T01:33:40.613Z"
   },
   {
    "duration": 32,
    "start_time": "2021-11-14T01:33:40.886Z"
   },
   {
    "duration": 272,
    "start_time": "2021-11-14T01:33:40.920Z"
   },
   {
    "duration": 27,
    "start_time": "2021-11-14T01:33:41.194Z"
   },
   {
    "duration": 219,
    "start_time": "2021-11-14T01:33:41.223Z"
   },
   {
    "duration": 25,
    "start_time": "2021-11-14T01:33:41.444Z"
   },
   {
    "duration": 30100,
    "start_time": "2021-11-14T01:33:41.470Z"
   },
   {
    "duration": 21693,
    "start_time": "2021-11-14T01:34:11.571Z"
   },
   {
    "duration": 314,
    "start_time": "2021-11-14T01:34:33.266Z"
   },
   {
    "duration": -104,
    "start_time": "2021-11-14T01:34:33.686Z"
   },
   {
    "duration": -107,
    "start_time": "2021-11-14T01:34:33.690Z"
   },
   {
    "duration": -257,
    "start_time": "2021-11-14T01:34:33.841Z"
   },
   {
    "duration": -261,
    "start_time": "2021-11-14T01:34:33.846Z"
   },
   {
    "duration": -265,
    "start_time": "2021-11-14T01:34:33.851Z"
   },
   {
    "duration": -291,
    "start_time": "2021-11-14T01:34:33.878Z"
   },
   {
    "duration": -295,
    "start_time": "2021-11-14T01:34:33.883Z"
   },
   {
    "duration": -320,
    "start_time": "2021-11-14T01:34:33.909Z"
   },
   {
    "duration": -323,
    "start_time": "2021-11-14T01:34:33.913Z"
   },
   {
    "duration": -337,
    "start_time": "2021-11-14T01:34:33.928Z"
   },
   {
    "duration": -341,
    "start_time": "2021-11-14T01:34:33.933Z"
   },
   {
    "duration": -354,
    "start_time": "2021-11-14T01:34:33.947Z"
   },
   {
    "duration": -370,
    "start_time": "2021-11-14T01:34:33.963Z"
   },
   {
    "duration": -382,
    "start_time": "2021-11-14T01:34:33.977Z"
   },
   {
    "duration": -385,
    "start_time": "2021-11-14T01:34:33.981Z"
   },
   {
    "duration": -398,
    "start_time": "2021-11-14T01:34:33.995Z"
   },
   {
    "duration": -402,
    "start_time": "2021-11-14T01:34:34.000Z"
   },
   {
    "duration": -416,
    "start_time": "2021-11-14T01:34:34.015Z"
   },
   {
    "duration": -428,
    "start_time": "2021-11-14T01:34:34.028Z"
   },
   {
    "duration": -431,
    "start_time": "2021-11-14T01:34:34.032Z"
   },
   {
    "duration": -443,
    "start_time": "2021-11-14T01:34:34.045Z"
   },
   {
    "duration": -448,
    "start_time": "2021-11-14T01:34:34.050Z"
   },
   {
    "duration": -479,
    "start_time": "2021-11-14T01:34:34.082Z"
   },
   {
    "duration": -491,
    "start_time": "2021-11-14T01:34:34.095Z"
   },
   {
    "duration": -494,
    "start_time": "2021-11-14T01:34:34.099Z"
   },
   {
    "duration": -524,
    "start_time": "2021-11-14T01:34:34.130Z"
   },
   {
    "duration": -537,
    "start_time": "2021-11-14T01:34:34.144Z"
   },
   {
    "duration": -541,
    "start_time": "2021-11-14T01:34:34.149Z"
   },
   {
    "duration": -545,
    "start_time": "2021-11-14T01:34:34.154Z"
   },
   {
    "duration": -548,
    "start_time": "2021-11-14T01:34:34.158Z"
   },
   {
    "duration": -550,
    "start_time": "2021-11-14T01:34:34.161Z"
   },
   {
    "duration": -554,
    "start_time": "2021-11-14T01:34:34.166Z"
   },
   {
    "duration": -557,
    "start_time": "2021-11-14T01:34:34.170Z"
   },
   {
    "duration": -560,
    "start_time": "2021-11-14T01:34:34.174Z"
   },
   {
    "duration": 198,
    "start_time": "2021-11-14T01:36:26.768Z"
   },
   {
    "duration": 26,
    "start_time": "2021-11-14T01:36:27.807Z"
   },
   {
    "duration": 190,
    "start_time": "2021-11-14T01:36:41.278Z"
   },
   {
    "duration": 24,
    "start_time": "2021-11-14T01:36:42.745Z"
   },
   {
    "duration": 252,
    "start_time": "2021-11-14T01:36:49.327Z"
   },
   {
    "duration": 28,
    "start_time": "2021-11-14T01:36:50.530Z"
   },
   {
    "duration": 210,
    "start_time": "2021-11-14T01:36:58.064Z"
   },
   {
    "duration": 26,
    "start_time": "2021-11-14T01:36:59.123Z"
   },
   {
    "duration": 213,
    "start_time": "2021-11-14T01:37:22.179Z"
   },
   {
    "duration": 28,
    "start_time": "2021-11-14T01:37:23.329Z"
   },
   {
    "duration": 252,
    "start_time": "2021-11-14T01:37:30.421Z"
   },
   {
    "duration": 28,
    "start_time": "2021-11-14T01:37:31.805Z"
   },
   {
    "duration": 206,
    "start_time": "2021-11-14T01:37:45.469Z"
   },
   {
    "duration": 25,
    "start_time": "2021-11-14T01:37:46.558Z"
   },
   {
    "duration": 207,
    "start_time": "2021-11-14T01:37:51.691Z"
   },
   {
    "duration": 26,
    "start_time": "2021-11-14T01:37:53.556Z"
   },
   {
    "duration": 209,
    "start_time": "2021-11-14T01:38:14.521Z"
   },
   {
    "duration": 25,
    "start_time": "2021-11-14T01:38:15.801Z"
   },
   {
    "duration": 26,
    "start_time": "2021-11-14T01:38:17.101Z"
   },
   {
    "duration": 44,
    "start_time": "2021-11-14T01:45:06.958Z"
   },
   {
    "duration": 17,
    "start_time": "2021-11-14T01:45:10.977Z"
   },
   {
    "duration": 3586,
    "start_time": "2021-11-14T01:45:17.007Z"
   },
   {
    "duration": 214,
    "start_time": "2021-11-14T01:45:20.595Z"
   },
   {
    "duration": 794,
    "start_time": "2021-11-14T01:45:28.552Z"
   },
   {
    "duration": 63,
    "start_time": "2021-11-14T01:45:29.348Z"
   },
   {
    "duration": 1170,
    "start_time": "2021-11-14T01:45:35.483Z"
   },
   {
    "duration": 83,
    "start_time": "2021-11-14T01:45:36.763Z"
   },
   {
    "duration": 212,
    "start_time": "2021-11-14T01:45:48.876Z"
   },
   {
    "duration": 25,
    "start_time": "2021-11-14T01:45:51.366Z"
   },
   {
    "duration": 192,
    "start_time": "2021-11-14T01:47:07.771Z"
   },
   {
    "duration": 24,
    "start_time": "2021-11-14T01:47:09.333Z"
   },
   {
    "duration": 6048,
    "start_time": "2021-11-14T01:48:52.143Z"
   },
   {
    "duration": 30534,
    "start_time": "2021-11-14T01:50:08.681Z"
   },
   {
    "duration": 95041,
    "start_time": "2021-11-14T01:51:05.520Z"
   },
   {
    "duration": 96,
    "start_time": "2021-11-14T01:54:18.357Z"
   },
   {
    "duration": 200,
    "start_time": "2021-11-14T01:54:19.518Z"
   },
   {
    "duration": 19,
    "start_time": "2021-11-14T01:54:35.170Z"
   },
   {
    "duration": 20,
    "start_time": "2021-11-14T01:55:10.294Z"
   },
   {
    "duration": 1041,
    "start_time": "2021-11-14T02:47:58.581Z"
   },
   {
    "duration": 41,
    "start_time": "2021-11-14T02:47:59.624Z"
   },
   {
    "duration": 4,
    "start_time": "2021-11-14T02:47:59.667Z"
   },
   {
    "duration": 22,
    "start_time": "2021-11-14T02:47:59.672Z"
   },
   {
    "duration": 7,
    "start_time": "2021-11-14T02:47:59.696Z"
   },
   {
    "duration": 5,
    "start_time": "2021-11-14T02:47:59.705Z"
   },
   {
    "duration": 7,
    "start_time": "2021-11-14T02:47:59.711Z"
   },
   {
    "duration": 38,
    "start_time": "2021-11-14T02:47:59.721Z"
   },
   {
    "duration": 38,
    "start_time": "2021-11-14T02:47:59.761Z"
   },
   {
    "duration": 10,
    "start_time": "2021-11-14T02:47:59.800Z"
   },
   {
    "duration": 11,
    "start_time": "2021-11-14T02:47:59.811Z"
   },
   {
    "duration": 10,
    "start_time": "2021-11-14T02:47:59.824Z"
   },
   {
    "duration": 4,
    "start_time": "2021-11-14T02:47:59.835Z"
   },
   {
    "duration": 11,
    "start_time": "2021-11-14T02:47:59.841Z"
   },
   {
    "duration": 19,
    "start_time": "2021-11-14T02:47:59.853Z"
   },
   {
    "duration": 13,
    "start_time": "2021-11-14T02:47:59.891Z"
   },
   {
    "duration": 8,
    "start_time": "2021-11-14T02:47:59.906Z"
   },
   {
    "duration": 8,
    "start_time": "2021-11-14T02:47:59.916Z"
   },
   {
    "duration": 6,
    "start_time": "2021-11-14T02:47:59.926Z"
   },
   {
    "duration": 21,
    "start_time": "2021-11-14T02:47:59.933Z"
   },
   {
    "duration": 57,
    "start_time": "2021-11-14T02:47:59.955Z"
   },
   {
    "duration": 9,
    "start_time": "2021-11-14T02:48:00.014Z"
   },
   {
    "duration": 82,
    "start_time": "2021-11-14T02:48:00.027Z"
   },
   {
    "duration": 26,
    "start_time": "2021-11-14T02:48:00.111Z"
   },
   {
    "duration": 18,
    "start_time": "2021-11-14T02:48:00.138Z"
   },
   {
    "duration": 5,
    "start_time": "2021-11-14T02:48:00.157Z"
   },
   {
    "duration": 39,
    "start_time": "2021-11-14T02:48:00.163Z"
   },
   {
    "duration": 14,
    "start_time": "2021-11-14T02:48:00.204Z"
   },
   {
    "duration": 16,
    "start_time": "2021-11-14T02:48:00.220Z"
   },
   {
    "duration": 32,
    "start_time": "2021-11-14T02:48:00.238Z"
   },
   {
    "duration": 21,
    "start_time": "2021-11-14T02:48:00.272Z"
   },
   {
    "duration": 197,
    "start_time": "2021-11-14T02:48:00.295Z"
   },
   {
    "duration": 9,
    "start_time": "2021-11-14T02:48:00.494Z"
   },
   {
    "duration": 206,
    "start_time": "2021-11-14T02:48:00.505Z"
   },
   {
    "duration": 13,
    "start_time": "2021-11-14T02:48:00.712Z"
   },
   {
    "duration": 9,
    "start_time": "2021-11-14T02:48:00.727Z"
   },
   {
    "duration": 55,
    "start_time": "2021-11-14T02:48:00.737Z"
   },
   {
    "duration": 13,
    "start_time": "2021-11-14T02:48:00.794Z"
   },
   {
    "duration": 12,
    "start_time": "2021-11-14T02:48:00.809Z"
   },
   {
    "duration": 10,
    "start_time": "2021-11-14T02:48:00.822Z"
   },
   {
    "duration": 277,
    "start_time": "2021-11-14T02:48:00.833Z"
   },
   {
    "duration": 28,
    "start_time": "2021-11-14T02:48:01.112Z"
   },
   {
    "duration": 20,
    "start_time": "2021-11-14T02:48:01.142Z"
   },
   {
    "duration": 42,
    "start_time": "2021-11-14T02:48:01.163Z"
   },
   {
    "duration": 213,
    "start_time": "2021-11-14T02:48:01.207Z"
   },
   {
    "duration": 27,
    "start_time": "2021-11-14T02:48:01.422Z"
   },
   {
    "duration": 44,
    "start_time": "2021-11-14T02:48:01.450Z"
   },
   {
    "duration": 266,
    "start_time": "2021-11-14T02:48:01.495Z"
   },
   {
    "duration": 31,
    "start_time": "2021-11-14T02:48:01.763Z"
   },
   {
    "duration": 64,
    "start_time": "2021-11-14T02:48:01.795Z"
   },
   {
    "duration": -121,
    "start_time": "2021-11-14T02:48:01.984Z"
   },
   {
    "duration": -125,
    "start_time": "2021-11-14T02:48:01.989Z"
   },
   {
    "duration": -129,
    "start_time": "2021-11-14T02:48:01.995Z"
   },
   {
    "duration": -133,
    "start_time": "2021-11-14T02:48:02.000Z"
   },
   {
    "duration": -137,
    "start_time": "2021-11-14T02:48:02.005Z"
   },
   {
    "duration": -139,
    "start_time": "2021-11-14T02:48:02.009Z"
   },
   {
    "duration": -142,
    "start_time": "2021-11-14T02:48:02.013Z"
   },
   {
    "duration": -143,
    "start_time": "2021-11-14T02:48:02.016Z"
   },
   {
    "duration": -146,
    "start_time": "2021-11-14T02:48:02.020Z"
   },
   {
    "duration": -150,
    "start_time": "2021-11-14T02:48:02.025Z"
   },
   {
    "duration": -154,
    "start_time": "2021-11-14T02:48:02.030Z"
   },
   {
    "duration": -157,
    "start_time": "2021-11-14T02:48:02.034Z"
   },
   {
    "duration": -160,
    "start_time": "2021-11-14T02:48:02.038Z"
   },
   {
    "duration": -164,
    "start_time": "2021-11-14T02:48:02.043Z"
   },
   {
    "duration": -167,
    "start_time": "2021-11-14T02:48:02.047Z"
   },
   {
    "duration": -170,
    "start_time": "2021-11-14T02:48:02.051Z"
   },
   {
    "duration": -173,
    "start_time": "2021-11-14T02:48:02.055Z"
   },
   {
    "duration": -175,
    "start_time": "2021-11-14T02:48:02.058Z"
   },
   {
    "duration": -179,
    "start_time": "2021-11-14T02:48:02.063Z"
   },
   {
    "duration": -225,
    "start_time": "2021-11-14T02:48:02.110Z"
   },
   {
    "duration": -230,
    "start_time": "2021-11-14T02:48:02.116Z"
   },
   {
    "duration": -234,
    "start_time": "2021-11-14T02:48:02.121Z"
   },
   {
    "duration": -239,
    "start_time": "2021-11-14T02:48:02.127Z"
   },
   {
    "duration": -248,
    "start_time": "2021-11-14T02:48:02.137Z"
   },
   {
    "duration": -253,
    "start_time": "2021-11-14T02:48:02.143Z"
   },
   {
    "duration": -257,
    "start_time": "2021-11-14T02:48:02.148Z"
   },
   {
    "duration": -261,
    "start_time": "2021-11-14T02:48:02.153Z"
   },
   {
    "duration": -264,
    "start_time": "2021-11-14T02:48:02.157Z"
   },
   {
    "duration": -267,
    "start_time": "2021-11-14T02:48:02.161Z"
   },
   {
    "duration": -270,
    "start_time": "2021-11-14T02:48:02.165Z"
   },
   {
    "duration": -273,
    "start_time": "2021-11-14T02:48:02.169Z"
   },
   {
    "duration": -276,
    "start_time": "2021-11-14T02:48:02.173Z"
   },
   {
    "duration": -279,
    "start_time": "2021-11-14T02:48:02.177Z"
   },
   {
    "duration": -283,
    "start_time": "2021-11-14T02:48:02.181Z"
   },
   {
    "duration": -286,
    "start_time": "2021-11-14T02:48:02.185Z"
   },
   {
    "duration": -288,
    "start_time": "2021-11-14T02:48:02.188Z"
   },
   {
    "duration": -292,
    "start_time": "2021-11-14T02:48:02.193Z"
   },
   {
    "duration": -296,
    "start_time": "2021-11-14T02:48:02.198Z"
   },
   {
    "duration": -300,
    "start_time": "2021-11-14T02:48:02.203Z"
   },
   {
    "duration": -302,
    "start_time": "2021-11-14T02:48:02.206Z"
   },
   {
    "duration": -323,
    "start_time": "2021-11-14T02:48:02.228Z"
   },
   {
    "duration": -327,
    "start_time": "2021-11-14T02:48:02.233Z"
   },
   {
    "duration": -330,
    "start_time": "2021-11-14T02:48:02.237Z"
   },
   {
    "duration": -333,
    "start_time": "2021-11-14T02:48:02.241Z"
   },
   {
    "duration": -336,
    "start_time": "2021-11-14T02:48:02.245Z"
   },
   {
    "duration": 1144,
    "start_time": "2021-11-14T02:49:29.372Z"
   },
   {
    "duration": 41,
    "start_time": "2021-11-14T02:49:30.518Z"
   },
   {
    "duration": 3,
    "start_time": "2021-11-14T02:49:30.561Z"
   },
   {
    "duration": 17,
    "start_time": "2021-11-14T02:49:30.566Z"
   },
   {
    "duration": 6,
    "start_time": "2021-11-14T02:49:30.592Z"
   },
   {
    "duration": 9,
    "start_time": "2021-11-14T02:49:30.600Z"
   },
   {
    "duration": 11,
    "start_time": "2021-11-14T02:49:30.611Z"
   },
   {
    "duration": 50,
    "start_time": "2021-11-14T02:49:30.624Z"
   },
   {
    "duration": 16,
    "start_time": "2021-11-14T02:49:30.676Z"
   },
   {
    "duration": 11,
    "start_time": "2021-11-14T02:49:30.694Z"
   },
   {
    "duration": 14,
    "start_time": "2021-11-14T02:49:30.707Z"
   },
   {
    "duration": 18,
    "start_time": "2021-11-14T02:49:30.722Z"
   },
   {
    "duration": 9,
    "start_time": "2021-11-14T02:49:30.742Z"
   },
   {
    "duration": 14,
    "start_time": "2021-11-14T02:49:30.753Z"
   },
   {
    "duration": 16,
    "start_time": "2021-11-14T02:49:30.769Z"
   },
   {
    "duration": 12,
    "start_time": "2021-11-14T02:49:30.791Z"
   },
   {
    "duration": 8,
    "start_time": "2021-11-14T02:49:30.805Z"
   },
   {
    "duration": 16,
    "start_time": "2021-11-14T02:49:30.815Z"
   },
   {
    "duration": 6,
    "start_time": "2021-11-14T02:49:30.833Z"
   },
   {
    "duration": 25,
    "start_time": "2021-11-14T02:49:30.841Z"
   },
   {
    "duration": 43,
    "start_time": "2021-11-14T02:49:30.868Z"
   },
   {
    "duration": 8,
    "start_time": "2021-11-14T02:49:30.912Z"
   },
   {
    "duration": 26,
    "start_time": "2021-11-14T02:49:30.923Z"
   },
   {
    "duration": 339,
    "start_time": "2021-11-14T02:49:30.951Z"
   },
   {
    "duration": -307,
    "start_time": "2021-11-14T02:49:31.599Z"
   },
   {
    "duration": -311,
    "start_time": "2021-11-14T02:49:31.604Z"
   },
   {
    "duration": -361,
    "start_time": "2021-11-14T02:49:31.655Z"
   },
   {
    "duration": -367,
    "start_time": "2021-11-14T02:49:31.662Z"
   },
   {
    "duration": -370,
    "start_time": "2021-11-14T02:49:31.666Z"
   },
   {
    "duration": -374,
    "start_time": "2021-11-14T02:49:31.671Z"
   },
   {
    "duration": -379,
    "start_time": "2021-11-14T02:49:31.676Z"
   },
   {
    "duration": -384,
    "start_time": "2021-11-14T02:49:31.682Z"
   },
   {
    "duration": -388,
    "start_time": "2021-11-14T02:49:31.687Z"
   },
   {
    "duration": -392,
    "start_time": "2021-11-14T02:49:31.692Z"
   },
   {
    "duration": -395,
    "start_time": "2021-11-14T02:49:31.696Z"
   },
   {
    "duration": -400,
    "start_time": "2021-11-14T02:49:31.701Z"
   },
   {
    "duration": -403,
    "start_time": "2021-11-14T02:49:31.705Z"
   },
   {
    "duration": -407,
    "start_time": "2021-11-14T02:49:31.710Z"
   },
   {
    "duration": -409,
    "start_time": "2021-11-14T02:49:31.714Z"
   },
   {
    "duration": -412,
    "start_time": "2021-11-14T02:49:31.718Z"
   },
   {
    "duration": -416,
    "start_time": "2021-11-14T02:49:31.722Z"
   },
   {
    "duration": -419,
    "start_time": "2021-11-14T02:49:31.726Z"
   },
   {
    "duration": -423,
    "start_time": "2021-11-14T02:49:31.731Z"
   },
   {
    "duration": -427,
    "start_time": "2021-11-14T02:49:31.736Z"
   },
   {
    "duration": -454,
    "start_time": "2021-11-14T02:49:31.765Z"
   },
   {
    "duration": -503,
    "start_time": "2021-11-14T02:49:31.815Z"
   },
   {
    "duration": -518,
    "start_time": "2021-11-14T02:49:31.831Z"
   },
   {
    "duration": -522,
    "start_time": "2021-11-14T02:49:31.836Z"
   },
   {
    "duration": -526,
    "start_time": "2021-11-14T02:49:31.841Z"
   },
   {
    "duration": -529,
    "start_time": "2021-11-14T02:49:31.845Z"
   },
   {
    "duration": -532,
    "start_time": "2021-11-14T02:49:31.849Z"
   },
   {
    "duration": -538,
    "start_time": "2021-11-14T02:49:31.855Z"
   },
   {
    "duration": -542,
    "start_time": "2021-11-14T02:49:31.860Z"
   },
   {
    "duration": -557,
    "start_time": "2021-11-14T02:49:31.876Z"
   },
   {
    "duration": -561,
    "start_time": "2021-11-14T02:49:31.881Z"
   },
   {
    "duration": -565,
    "start_time": "2021-11-14T02:49:31.886Z"
   },
   {
    "duration": -568,
    "start_time": "2021-11-14T02:49:31.890Z"
   },
   {
    "duration": -573,
    "start_time": "2021-11-14T02:49:31.895Z"
   },
   {
    "duration": -576,
    "start_time": "2021-11-14T02:49:31.899Z"
   },
   {
    "duration": -579,
    "start_time": "2021-11-14T02:49:31.903Z"
   },
   {
    "duration": -582,
    "start_time": "2021-11-14T02:49:31.907Z"
   },
   {
    "duration": -586,
    "start_time": "2021-11-14T02:49:31.912Z"
   },
   {
    "duration": -588,
    "start_time": "2021-11-14T02:49:31.915Z"
   },
   {
    "duration": -593,
    "start_time": "2021-11-14T02:49:31.920Z"
   },
   {
    "duration": -595,
    "start_time": "2021-11-14T02:49:31.923Z"
   },
   {
    "duration": -598,
    "start_time": "2021-11-14T02:49:31.927Z"
   },
   {
    "duration": -601,
    "start_time": "2021-11-14T02:49:31.931Z"
   },
   {
    "duration": -544,
    "start_time": "2021-11-14T02:49:31.935Z"
   },
   {
    "duration": -546,
    "start_time": "2021-11-14T02:49:31.938Z"
   },
   {
    "duration": -550,
    "start_time": "2021-11-14T02:49:31.943Z"
   },
   {
    "duration": -553,
    "start_time": "2021-11-14T02:49:31.947Z"
   },
   {
    "duration": -557,
    "start_time": "2021-11-14T02:49:31.952Z"
   },
   {
    "duration": -559,
    "start_time": "2021-11-14T02:49:31.955Z"
   },
   {
    "duration": -562,
    "start_time": "2021-11-14T02:49:31.959Z"
   },
   {
    "duration": -567,
    "start_time": "2021-11-14T02:49:31.964Z"
   },
   {
    "duration": -570,
    "start_time": "2021-11-14T02:49:31.968Z"
   },
   {
    "duration": -572,
    "start_time": "2021-11-14T02:49:31.971Z"
   },
   {
    "duration": -590,
    "start_time": "2021-11-14T02:49:31.990Z"
   },
   {
    "duration": -594,
    "start_time": "2021-11-14T02:49:31.995Z"
   },
   {
    "duration": -597,
    "start_time": "2021-11-14T02:49:31.999Z"
   },
   {
    "duration": -599,
    "start_time": "2021-11-14T02:49:32.002Z"
   },
   {
    "duration": -603,
    "start_time": "2021-11-14T02:49:32.007Z"
   },
   {
    "duration": -606,
    "start_time": "2021-11-14T02:49:32.011Z"
   },
   {
    "duration": -610,
    "start_time": "2021-11-14T02:49:32.015Z"
   },
   {
    "duration": -613,
    "start_time": "2021-11-14T02:49:32.019Z"
   },
   {
    "duration": -616,
    "start_time": "2021-11-14T02:49:32.023Z"
   },
   {
    "duration": -618,
    "start_time": "2021-11-14T02:49:32.026Z"
   },
   {
    "duration": -621,
    "start_time": "2021-11-14T02:49:32.030Z"
   },
   {
    "duration": -625,
    "start_time": "2021-11-14T02:49:32.035Z"
   },
   {
    "duration": -629,
    "start_time": "2021-11-14T02:49:32.040Z"
   },
   {
    "duration": -631,
    "start_time": "2021-11-14T02:49:32.043Z"
   },
   {
    "duration": -635,
    "start_time": "2021-11-14T02:49:32.047Z"
   },
   {
    "duration": -637,
    "start_time": "2021-11-14T02:49:32.050Z"
   },
   {
    "duration": -640,
    "start_time": "2021-11-14T02:49:32.054Z"
   },
   {
    "duration": 11,
    "start_time": "2021-11-14T02:50:07.728Z"
   },
   {
    "duration": 4,
    "start_time": "2021-11-14T02:51:09.164Z"
   },
   {
    "duration": 14,
    "start_time": "2021-11-14T02:51:16.014Z"
   },
   {
    "duration": 6,
    "start_time": "2021-11-14T02:51:24.140Z"
   },
   {
    "duration": 1056,
    "start_time": "2021-11-14T02:51:57.045Z"
   },
   {
    "duration": 41,
    "start_time": "2021-11-14T02:51:58.103Z"
   },
   {
    "duration": 3,
    "start_time": "2021-11-14T02:51:58.146Z"
   },
   {
    "duration": 17,
    "start_time": "2021-11-14T02:51:58.151Z"
   },
   {
    "duration": 22,
    "start_time": "2021-11-14T02:51:58.169Z"
   },
   {
    "duration": 5,
    "start_time": "2021-11-14T02:51:58.193Z"
   },
   {
    "duration": 10,
    "start_time": "2021-11-14T02:51:58.199Z"
   },
   {
    "duration": 38,
    "start_time": "2021-11-14T02:51:58.212Z"
   },
   {
    "duration": 10,
    "start_time": "2021-11-14T02:51:58.252Z"
   },
   {
    "duration": 30,
    "start_time": "2021-11-14T02:51:58.264Z"
   },
   {
    "duration": 16,
    "start_time": "2021-11-14T02:51:58.295Z"
   },
   {
    "duration": 9,
    "start_time": "2021-11-14T02:51:58.313Z"
   },
   {
    "duration": 6,
    "start_time": "2021-11-14T02:51:58.324Z"
   },
   {
    "duration": 9,
    "start_time": "2021-11-14T02:51:58.331Z"
   },
   {
    "duration": 18,
    "start_time": "2021-11-14T02:51:58.341Z"
   },
   {
    "duration": 41,
    "start_time": "2021-11-14T02:51:58.361Z"
   },
   {
    "duration": 9,
    "start_time": "2021-11-14T02:51:58.404Z"
   },
   {
    "duration": 9,
    "start_time": "2021-11-14T02:51:58.414Z"
   },
   {
    "duration": 7,
    "start_time": "2021-11-14T02:51:58.425Z"
   },
   {
    "duration": 21,
    "start_time": "2021-11-14T02:51:58.433Z"
   },
   {
    "duration": 22,
    "start_time": "2021-11-14T02:51:58.491Z"
   },
   {
    "duration": 7,
    "start_time": "2021-11-14T02:51:58.515Z"
   },
   {
    "duration": 13,
    "start_time": "2021-11-14T02:51:58.526Z"
   },
   {
    "duration": 10,
    "start_time": "2021-11-14T02:51:58.542Z"
   },
   {
    "duration": 4,
    "start_time": "2021-11-14T02:51:58.553Z"
   },
   {
    "duration": 12,
    "start_time": "2021-11-14T02:51:58.592Z"
   },
   {
    "duration": 5,
    "start_time": "2021-11-14T02:51:58.606Z"
   },
   {
    "duration": 8,
    "start_time": "2021-11-14T02:51:58.613Z"
   },
   {
    "duration": 14,
    "start_time": "2021-11-14T02:51:58.622Z"
   },
   {
    "duration": 57,
    "start_time": "2021-11-14T02:51:58.637Z"
   },
   {
    "duration": 196,
    "start_time": "2021-11-14T02:51:58.696Z"
   },
   {
    "duration": 10,
    "start_time": "2021-11-14T02:51:58.894Z"
   },
   {
    "duration": 117,
    "start_time": "2021-11-14T02:51:58.993Z"
   },
   {
    "duration": 12,
    "start_time": "2021-11-14T02:51:59.112Z"
   },
   {
    "duration": 6,
    "start_time": "2021-11-14T02:51:59.125Z"
   },
   {
    "duration": 816,
    "start_time": "2021-11-14T02:51:59.133Z"
   },
   {
    "duration": -142,
    "start_time": "2021-11-14T02:52:00.093Z"
   },
   {
    "duration": -147,
    "start_time": "2021-11-14T02:52:00.099Z"
   },
   {
    "duration": -151,
    "start_time": "2021-11-14T02:52:00.104Z"
   },
   {
    "duration": -155,
    "start_time": "2021-11-14T02:52:00.109Z"
   },
   {
    "duration": -159,
    "start_time": "2021-11-14T02:52:00.114Z"
   },
   {
    "duration": -165,
    "start_time": "2021-11-14T02:52:00.121Z"
   },
   {
    "duration": -168,
    "start_time": "2021-11-14T02:52:00.125Z"
   },
   {
    "duration": -171,
    "start_time": "2021-11-14T02:52:00.129Z"
   },
   {
    "duration": -175,
    "start_time": "2021-11-14T02:52:00.133Z"
   },
   {
    "duration": -179,
    "start_time": "2021-11-14T02:52:00.138Z"
   },
   {
    "duration": -192,
    "start_time": "2021-11-14T02:52:00.152Z"
   },
   {
    "duration": -259,
    "start_time": "2021-11-14T02:52:00.220Z"
   },
   {
    "duration": -262,
    "start_time": "2021-11-14T02:52:00.224Z"
   },
   {
    "duration": -265,
    "start_time": "2021-11-14T02:52:00.228Z"
   },
   {
    "duration": -267,
    "start_time": "2021-11-14T02:52:00.231Z"
   },
   {
    "duration": -271,
    "start_time": "2021-11-14T02:52:00.235Z"
   },
   {
    "duration": -274,
    "start_time": "2021-11-14T02:52:00.239Z"
   },
   {
    "duration": -277,
    "start_time": "2021-11-14T02:52:00.243Z"
   },
   {
    "duration": -279,
    "start_time": "2021-11-14T02:52:00.246Z"
   },
   {
    "duration": -282,
    "start_time": "2021-11-14T02:52:00.250Z"
   },
   {
    "duration": -284,
    "start_time": "2021-11-14T02:52:00.253Z"
   },
   {
    "duration": -324,
    "start_time": "2021-11-14T02:52:00.294Z"
   },
   {
    "duration": -328,
    "start_time": "2021-11-14T02:52:00.298Z"
   },
   {
    "duration": -332,
    "start_time": "2021-11-14T02:52:00.303Z"
   },
   {
    "duration": -335,
    "start_time": "2021-11-14T02:52:00.307Z"
   },
   {
    "duration": -338,
    "start_time": "2021-11-14T02:52:00.311Z"
   },
   {
    "duration": -341,
    "start_time": "2021-11-14T02:52:00.315Z"
   },
   {
    "duration": -345,
    "start_time": "2021-11-14T02:52:00.320Z"
   },
   {
    "duration": -348,
    "start_time": "2021-11-14T02:52:00.323Z"
   },
   {
    "duration": -351,
    "start_time": "2021-11-14T02:52:00.327Z"
   },
   {
    "duration": -354,
    "start_time": "2021-11-14T02:52:00.331Z"
   },
   {
    "duration": -357,
    "start_time": "2021-11-14T02:52:00.335Z"
   },
   {
    "duration": -359,
    "start_time": "2021-11-14T02:52:00.338Z"
   },
   {
    "duration": -362,
    "start_time": "2021-11-14T02:52:00.342Z"
   },
   {
    "duration": -365,
    "start_time": "2021-11-14T02:52:00.346Z"
   },
   {
    "duration": -368,
    "start_time": "2021-11-14T02:52:00.349Z"
   },
   {
    "duration": -371,
    "start_time": "2021-11-14T02:52:00.353Z"
   },
   {
    "duration": -373,
    "start_time": "2021-11-14T02:52:00.356Z"
   },
   {
    "duration": -376,
    "start_time": "2021-11-14T02:52:00.360Z"
   },
   {
    "duration": -380,
    "start_time": "2021-11-14T02:52:00.364Z"
   },
   {
    "duration": -382,
    "start_time": "2021-11-14T02:52:00.367Z"
   },
   {
    "duration": -386,
    "start_time": "2021-11-14T02:52:00.372Z"
   },
   {
    "duration": -390,
    "start_time": "2021-11-14T02:52:00.377Z"
   },
   {
    "duration": -393,
    "start_time": "2021-11-14T02:52:00.381Z"
   },
   {
    "duration": -407,
    "start_time": "2021-11-14T02:52:00.397Z"
   },
   {
    "duration": -411,
    "start_time": "2021-11-14T02:52:00.402Z"
   },
   {
    "duration": -416,
    "start_time": "2021-11-14T02:52:00.408Z"
   },
   {
    "duration": -420,
    "start_time": "2021-11-14T02:52:00.413Z"
   },
   {
    "duration": -424,
    "start_time": "2021-11-14T02:52:00.417Z"
   },
   {
    "duration": -427,
    "start_time": "2021-11-14T02:52:00.421Z"
   },
   {
    "duration": -430,
    "start_time": "2021-11-14T02:52:00.425Z"
   },
   {
    "duration": -432,
    "start_time": "2021-11-14T02:52:00.428Z"
   },
   {
    "duration": -434,
    "start_time": "2021-11-14T02:52:00.431Z"
   },
   {
    "duration": -439,
    "start_time": "2021-11-14T02:52:00.437Z"
   },
   {
    "duration": -441,
    "start_time": "2021-11-14T02:52:00.440Z"
   },
   {
    "duration": -444,
    "start_time": "2021-11-14T02:52:00.444Z"
   },
   {
    "duration": -447,
    "start_time": "2021-11-14T02:52:00.448Z"
   },
   {
    "duration": -451,
    "start_time": "2021-11-14T02:52:00.453Z"
   },
   {
    "duration": 7,
    "start_time": "2021-11-14T02:53:38.891Z"
   },
   {
    "duration": 12,
    "start_time": "2021-11-14T02:53:39.622Z"
   },
   {
    "duration": 9,
    "start_time": "2021-11-14T02:53:41.890Z"
   },
   {
    "duration": 31,
    "start_time": "2021-11-14T02:56:00.699Z"
   },
   {
    "duration": 14,
    "start_time": "2021-11-14T02:56:05.470Z"
   },
   {
    "duration": 7,
    "start_time": "2021-11-14T02:56:08.533Z"
   },
   {
    "duration": 1092,
    "start_time": "2021-11-14T03:02:50.363Z"
   },
   {
    "duration": 39,
    "start_time": "2021-11-14T03:02:51.456Z"
   },
   {
    "duration": 3,
    "start_time": "2021-11-14T03:02:51.497Z"
   },
   {
    "duration": 16,
    "start_time": "2021-11-14T03:02:51.502Z"
   },
   {
    "duration": 6,
    "start_time": "2021-11-14T03:02:51.520Z"
   },
   {
    "duration": 5,
    "start_time": "2021-11-14T03:02:51.528Z"
   },
   {
    "duration": 7,
    "start_time": "2021-11-14T03:02:51.534Z"
   },
   {
    "duration": 66,
    "start_time": "2021-11-14T03:02:51.543Z"
   },
   {
    "duration": 10,
    "start_time": "2021-11-14T03:02:51.611Z"
   },
   {
    "duration": 6,
    "start_time": "2021-11-14T03:02:51.622Z"
   },
   {
    "duration": 9,
    "start_time": "2021-11-14T03:02:51.629Z"
   },
   {
    "duration": 10,
    "start_time": "2021-11-14T03:02:51.640Z"
   },
   {
    "duration": 4,
    "start_time": "2021-11-14T03:02:51.651Z"
   },
   {
    "duration": 36,
    "start_time": "2021-11-14T03:02:51.657Z"
   },
   {
    "duration": 13,
    "start_time": "2021-11-14T03:02:51.694Z"
   },
   {
    "duration": 13,
    "start_time": "2021-11-14T03:02:51.708Z"
   },
   {
    "duration": 9,
    "start_time": "2021-11-14T03:02:51.722Z"
   },
   {
    "duration": 9,
    "start_time": "2021-11-14T03:02:51.732Z"
   },
   {
    "duration": 49,
    "start_time": "2021-11-14T03:02:51.742Z"
   },
   {
    "duration": 21,
    "start_time": "2021-11-14T03:02:51.793Z"
   },
   {
    "duration": 22,
    "start_time": "2021-11-14T03:02:51.815Z"
   },
   {
    "duration": 8,
    "start_time": "2021-11-14T03:02:51.838Z"
   },
   {
    "duration": 13,
    "start_time": "2021-11-14T03:02:51.850Z"
   },
   {
    "duration": 11,
    "start_time": "2021-11-14T03:02:51.892Z"
   },
   {
    "duration": 4,
    "start_time": "2021-11-14T03:02:51.904Z"
   },
   {
    "duration": 18,
    "start_time": "2021-11-14T03:02:51.910Z"
   },
   {
    "duration": 5,
    "start_time": "2021-11-14T03:02:51.929Z"
   },
   {
    "duration": 8,
    "start_time": "2021-11-14T03:02:51.936Z"
   },
   {
    "duration": 15,
    "start_time": "2021-11-14T03:02:51.945Z"
   },
   {
    "duration": 132,
    "start_time": "2021-11-14T03:02:51.961Z"
   },
   {
    "duration": 101,
    "start_time": "2021-11-14T03:02:52.095Z"
   },
   {
    "duration": 97,
    "start_time": "2021-11-14T03:02:52.199Z"
   },
   {
    "duration": 204,
    "start_time": "2021-11-14T03:02:52.299Z"
   },
   {
    "duration": 13,
    "start_time": "2021-11-14T03:02:52.505Z"
   },
   {
    "duration": 6,
    "start_time": "2021-11-14T03:02:52.519Z"
   },
   {
    "duration": 269,
    "start_time": "2021-11-14T03:02:52.526Z"
   },
   {
    "duration": 26,
    "start_time": "2021-11-14T03:02:52.796Z"
   },
   {
    "duration": 6102,
    "start_time": "2021-11-14T03:02:52.823Z"
   },
   {
    "duration": 74341,
    "start_time": "2021-11-14T03:02:58.927Z"
   },
   {
    "duration": -299,
    "start_time": "2021-11-14T03:04:13.569Z"
   },
   {
    "duration": -302,
    "start_time": "2021-11-14T03:04:13.573Z"
   },
   {
    "duration": -307,
    "start_time": "2021-11-14T03:04:13.578Z"
   },
   {
    "duration": -311,
    "start_time": "2021-11-14T03:04:13.584Z"
   },
   {
    "duration": -315,
    "start_time": "2021-11-14T03:04:13.588Z"
   },
   {
    "duration": -319,
    "start_time": "2021-11-14T03:04:13.593Z"
   },
   {
    "duration": -323,
    "start_time": "2021-11-14T03:04:13.598Z"
   },
   {
    "duration": -326,
    "start_time": "2021-11-14T03:04:13.602Z"
   },
   {
    "duration": -329,
    "start_time": "2021-11-14T03:04:13.606Z"
   },
   {
    "duration": -444,
    "start_time": "2021-11-14T03:04:13.722Z"
   },
   {
    "duration": -447,
    "start_time": "2021-11-14T03:04:13.726Z"
   },
   {
    "duration": -450,
    "start_time": "2021-11-14T03:04:13.730Z"
   },
   {
    "duration": -453,
    "start_time": "2021-11-14T03:04:13.734Z"
   },
   {
    "duration": -456,
    "start_time": "2021-11-14T03:04:13.737Z"
   },
   {
    "duration": -459,
    "start_time": "2021-11-14T03:04:13.741Z"
   },
   {
    "duration": -462,
    "start_time": "2021-11-14T03:04:13.745Z"
   },
   {
    "duration": -465,
    "start_time": "2021-11-14T03:04:13.749Z"
   },
   {
    "duration": -467,
    "start_time": "2021-11-14T03:04:13.752Z"
   },
   {
    "duration": -470,
    "start_time": "2021-11-14T03:04:13.756Z"
   },
   {
    "duration": -473,
    "start_time": "2021-11-14T03:04:13.760Z"
   },
   {
    "duration": -477,
    "start_time": "2021-11-14T03:04:13.764Z"
   },
   {
    "duration": -480,
    "start_time": "2021-11-14T03:04:13.768Z"
   },
   {
    "duration": -483,
    "start_time": "2021-11-14T03:04:13.772Z"
   },
   {
    "duration": -485,
    "start_time": "2021-11-14T03:04:13.775Z"
   },
   {
    "duration": -489,
    "start_time": "2021-11-14T03:04:13.780Z"
   },
   {
    "duration": -491,
    "start_time": "2021-11-14T03:04:13.783Z"
   },
   {
    "duration": -494,
    "start_time": "2021-11-14T03:04:13.787Z"
   },
   {
    "duration": -496,
    "start_time": "2021-11-14T03:04:13.790Z"
   },
   {
    "duration": -498,
    "start_time": "2021-11-14T03:04:13.793Z"
   },
   {
    "duration": -501,
    "start_time": "2021-11-14T03:04:13.796Z"
   },
   {
    "duration": -505,
    "start_time": "2021-11-14T03:04:13.801Z"
   },
   {
    "duration": -508,
    "start_time": "2021-11-14T03:04:13.805Z"
   },
   {
    "duration": -524,
    "start_time": "2021-11-14T03:04:13.822Z"
   },
   {
    "duration": -526,
    "start_time": "2021-11-14T03:04:13.825Z"
   },
   {
    "duration": -530,
    "start_time": "2021-11-14T03:04:13.830Z"
   },
   {
    "duration": -534,
    "start_time": "2021-11-14T03:04:13.834Z"
   },
   {
    "duration": -536,
    "start_time": "2021-11-14T03:04:13.838Z"
   },
   {
    "duration": -538,
    "start_time": "2021-11-14T03:04:13.841Z"
   },
   {
    "duration": -541,
    "start_time": "2021-11-14T03:04:13.845Z"
   },
   {
    "duration": -544,
    "start_time": "2021-11-14T03:04:13.848Z"
   },
   {
    "duration": -547,
    "start_time": "2021-11-14T03:04:13.852Z"
   },
   {
    "duration": -550,
    "start_time": "2021-11-14T03:04:13.856Z"
   },
   {
    "duration": -553,
    "start_time": "2021-11-14T03:04:13.860Z"
   },
   {
    "duration": -556,
    "start_time": "2021-11-14T03:04:13.864Z"
   },
   {
    "duration": -559,
    "start_time": "2021-11-14T03:04:13.868Z"
   },
   {
    "duration": 972,
    "start_time": "2021-11-14T03:04:38.542Z"
   },
   {
    "duration": 40,
    "start_time": "2021-11-14T03:04:39.515Z"
   },
   {
    "duration": 5,
    "start_time": "2021-11-14T03:04:39.557Z"
   },
   {
    "duration": 17,
    "start_time": "2021-11-14T03:04:39.563Z"
   },
   {
    "duration": 13,
    "start_time": "2021-11-14T03:04:39.582Z"
   },
   {
    "duration": 5,
    "start_time": "2021-11-14T03:04:39.597Z"
   },
   {
    "duration": 9,
    "start_time": "2021-11-14T03:04:39.603Z"
   },
   {
    "duration": 38,
    "start_time": "2021-11-14T03:04:39.614Z"
   },
   {
    "duration": 9,
    "start_time": "2021-11-14T03:04:39.654Z"
   },
   {
    "duration": 26,
    "start_time": "2021-11-14T03:04:39.665Z"
   },
   {
    "duration": 8,
    "start_time": "2021-11-14T03:04:39.693Z"
   },
   {
    "duration": 10,
    "start_time": "2021-11-14T03:04:39.703Z"
   },
   {
    "duration": 7,
    "start_time": "2021-11-14T03:04:39.714Z"
   },
   {
    "duration": 7,
    "start_time": "2021-11-14T03:04:39.722Z"
   },
   {
    "duration": 12,
    "start_time": "2021-11-14T03:04:39.731Z"
   },
   {
    "duration": 53,
    "start_time": "2021-11-14T03:04:39.745Z"
   },
   {
    "duration": 9,
    "start_time": "2021-11-14T03:04:39.799Z"
   },
   {
    "duration": 9,
    "start_time": "2021-11-14T03:04:39.809Z"
   },
   {
    "duration": 6,
    "start_time": "2021-11-14T03:04:39.819Z"
   },
   {
    "duration": 20,
    "start_time": "2021-11-14T03:04:39.827Z"
   },
   {
    "duration": 49,
    "start_time": "2021-11-14T03:04:39.848Z"
   },
   {
    "duration": 8,
    "start_time": "2021-11-14T03:04:39.899Z"
   },
   {
    "duration": 14,
    "start_time": "2021-11-14T03:04:39.910Z"
   },
   {
    "duration": 10,
    "start_time": "2021-11-14T03:04:39.926Z"
   },
   {
    "duration": 5,
    "start_time": "2021-11-14T03:04:39.937Z"
   },
   {
    "duration": 48,
    "start_time": "2021-11-14T03:04:39.943Z"
   },
   {
    "duration": 5,
    "start_time": "2021-11-14T03:04:39.993Z"
   },
   {
    "duration": 8,
    "start_time": "2021-11-14T03:04:40.000Z"
   },
   {
    "duration": 15,
    "start_time": "2021-11-14T03:04:40.010Z"
   },
   {
    "duration": 7,
    "start_time": "2021-11-14T03:04:40.026Z"
   },
   {
    "duration": 200,
    "start_time": "2021-11-14T03:04:40.093Z"
   },
   {
    "duration": 13,
    "start_time": "2021-11-14T03:04:40.294Z"
   },
   {
    "duration": 120,
    "start_time": "2021-11-14T03:04:40.392Z"
   },
   {
    "duration": 13,
    "start_time": "2021-11-14T03:04:40.513Z"
   },
   {
    "duration": 6,
    "start_time": "2021-11-14T03:04:40.528Z"
   },
   {
    "duration": 269,
    "start_time": "2021-11-14T03:04:40.536Z"
   },
   {
    "duration": 25,
    "start_time": "2021-11-14T03:04:40.807Z"
   },
   {
    "duration": 6023,
    "start_time": "2021-11-14T03:04:40.834Z"
   },
   {
    "duration": -389,
    "start_time": "2021-11-14T03:06:13.768Z"
   },
   {
    "duration": -391,
    "start_time": "2021-11-14T03:06:13.771Z"
   },
   {
    "duration": -396,
    "start_time": "2021-11-14T03:06:13.776Z"
   },
   {
    "duration": -398,
    "start_time": "2021-11-14T03:06:13.779Z"
   },
   {
    "duration": -416,
    "start_time": "2021-11-14T03:06:13.798Z"
   },
   {
    "duration": -420,
    "start_time": "2021-11-14T03:06:13.803Z"
   },
   {
    "duration": -425,
    "start_time": "2021-11-14T03:06:13.808Z"
   },
   {
    "duration": -479,
    "start_time": "2021-11-14T03:06:13.863Z"
   },
   {
    "duration": -482,
    "start_time": "2021-11-14T03:06:13.867Z"
   },
   {
    "duration": -585,
    "start_time": "2021-11-14T03:06:13.970Z"
   },
   {
    "duration": -588,
    "start_time": "2021-11-14T03:06:13.974Z"
   },
   {
    "duration": -592,
    "start_time": "2021-11-14T03:06:13.978Z"
   },
   {
    "duration": -592,
    "start_time": "2021-11-14T03:06:13.982Z"
   },
   {
    "duration": -594,
    "start_time": "2021-11-14T03:06:13.985Z"
   },
   {
    "duration": -597,
    "start_time": "2021-11-14T03:06:13.989Z"
   },
   {
    "duration": -600,
    "start_time": "2021-11-14T03:06:13.993Z"
   },
   {
    "duration": -603,
    "start_time": "2021-11-14T03:06:13.996Z"
   },
   {
    "duration": -606,
    "start_time": "2021-11-14T03:06:14.000Z"
   },
   {
    "duration": -608,
    "start_time": "2021-11-14T03:06:14.003Z"
   },
   {
    "duration": -611,
    "start_time": "2021-11-14T03:06:14.007Z"
   },
   {
    "duration": -614,
    "start_time": "2021-11-14T03:06:14.010Z"
   },
   {
    "duration": -616,
    "start_time": "2021-11-14T03:06:14.013Z"
   },
   {
    "duration": -619,
    "start_time": "2021-11-14T03:06:14.017Z"
   },
   {
    "duration": -622,
    "start_time": "2021-11-14T03:06:14.021Z"
   },
   {
    "duration": -627,
    "start_time": "2021-11-14T03:06:14.027Z"
   },
   {
    "duration": -631,
    "start_time": "2021-11-14T03:06:14.031Z"
   },
   {
    "duration": -634,
    "start_time": "2021-11-14T03:06:14.035Z"
   },
   {
    "duration": -636,
    "start_time": "2021-11-14T03:06:14.038Z"
   },
   {
    "duration": -640,
    "start_time": "2021-11-14T03:06:14.042Z"
   },
   {
    "duration": -642,
    "start_time": "2021-11-14T03:06:14.045Z"
   },
   {
    "duration": -645,
    "start_time": "2021-11-14T03:06:14.049Z"
   },
   {
    "duration": -647,
    "start_time": "2021-11-14T03:06:14.052Z"
   },
   {
    "duration": -651,
    "start_time": "2021-11-14T03:06:14.056Z"
   },
   {
    "duration": -653,
    "start_time": "2021-11-14T03:06:14.059Z"
   },
   {
    "duration": -656,
    "start_time": "2021-11-14T03:06:14.063Z"
   },
   {
    "duration": -659,
    "start_time": "2021-11-14T03:06:14.066Z"
   },
   {
    "duration": -678,
    "start_time": "2021-11-14T03:06:14.086Z"
   },
   {
    "duration": -681,
    "start_time": "2021-11-14T03:06:14.090Z"
   },
   {
    "duration": -685,
    "start_time": "2021-11-14T03:06:14.094Z"
   },
   {
    "duration": -687,
    "start_time": "2021-11-14T03:06:14.097Z"
   },
   {
    "duration": -690,
    "start_time": "2021-11-14T03:06:14.101Z"
   },
   {
    "duration": -693,
    "start_time": "2021-11-14T03:06:14.105Z"
   },
   {
    "duration": -696,
    "start_time": "2021-11-14T03:06:14.109Z"
   },
   {
    "duration": -699,
    "start_time": "2021-11-14T03:06:14.112Z"
   },
   {
    "duration": -702,
    "start_time": "2021-11-14T03:06:14.116Z"
   },
   {
    "duration": -705,
    "start_time": "2021-11-14T03:06:14.120Z"
   },
   {
    "duration": -707,
    "start_time": "2021-11-14T03:06:14.123Z"
   },
   {
    "duration": -710,
    "start_time": "2021-11-14T03:06:14.127Z"
   },
   {
    "duration": -713,
    "start_time": "2021-11-14T03:06:14.130Z"
   },
   {
    "duration": -716,
    "start_time": "2021-11-14T03:06:14.134Z"
   },
   {
    "duration": -723,
    "start_time": "2021-11-14T03:06:14.141Z"
   },
   {
    "duration": -726,
    "start_time": "2021-11-14T03:06:14.145Z"
   },
   {
    "duration": -730,
    "start_time": "2021-11-14T03:06:14.150Z"
   },
   {
    "duration": -742,
    "start_time": "2021-11-14T03:06:14.163Z"
   },
   {
    "duration": -747,
    "start_time": "2021-11-14T03:06:14.168Z"
   },
   {
    "duration": -749,
    "start_time": "2021-11-14T03:06:14.171Z"
   },
   {
    "duration": -752,
    "start_time": "2021-11-14T03:06:14.175Z"
   },
   {
    "duration": -755,
    "start_time": "2021-11-14T03:06:14.179Z"
   },
   {
    "duration": -759,
    "start_time": "2021-11-14T03:06:14.183Z"
   },
   {
    "duration": -770,
    "start_time": "2021-11-14T03:06:14.195Z"
   },
   {
    "duration": -774,
    "start_time": "2021-11-14T03:06:14.200Z"
   },
   {
    "duration": -780,
    "start_time": "2021-11-14T03:06:14.206Z"
   },
   {
    "duration": -785,
    "start_time": "2021-11-14T03:06:14.212Z"
   },
   {
    "duration": -788,
    "start_time": "2021-11-14T03:06:14.216Z"
   },
   {
    "duration": -793,
    "start_time": "2021-11-14T03:06:14.222Z"
   },
   {
    "duration": -798,
    "start_time": "2021-11-14T03:06:14.228Z"
   },
   {
    "duration": -801,
    "start_time": "2021-11-14T03:06:14.232Z"
   },
   {
    "duration": -806,
    "start_time": "2021-11-14T03:06:14.238Z"
   },
   {
    "duration": -813,
    "start_time": "2021-11-14T03:06:14.245Z"
   },
   {
    "duration": -816,
    "start_time": "2021-11-14T03:06:14.249Z"
   },
   {
    "duration": -821,
    "start_time": "2021-11-14T03:06:14.254Z"
   },
   {
    "duration": -825,
    "start_time": "2021-11-14T03:06:14.259Z"
   },
   {
    "duration": -831,
    "start_time": "2021-11-14T03:06:14.265Z"
   },
   {
    "duration": -779,
    "start_time": "2021-11-14T03:06:14.270Z"
   },
   {
    "duration": -784,
    "start_time": "2021-11-14T03:06:14.276Z"
   },
   {
    "duration": -788,
    "start_time": "2021-11-14T03:06:14.280Z"
   },
   {
    "duration": -791,
    "start_time": "2021-11-14T03:06:14.284Z"
   },
   {
    "duration": -794,
    "start_time": "2021-11-14T03:06:14.288Z"
   },
   {
    "duration": -797,
    "start_time": "2021-11-14T03:06:14.292Z"
   },
   {
    "duration": -815,
    "start_time": "2021-11-14T03:06:14.310Z"
   },
   {
    "duration": -818,
    "start_time": "2021-11-14T03:06:14.314Z"
   },
   {
    "duration": 1064,
    "start_time": "2021-11-14T03:06:20.038Z"
   },
   {
    "duration": 41,
    "start_time": "2021-11-14T03:06:21.104Z"
   },
   {
    "duration": 3,
    "start_time": "2021-11-14T03:06:21.147Z"
   },
   {
    "duration": 19,
    "start_time": "2021-11-14T03:06:21.152Z"
   },
   {
    "duration": 20,
    "start_time": "2021-11-14T03:06:21.172Z"
   },
   {
    "duration": 6,
    "start_time": "2021-11-14T03:06:21.194Z"
   },
   {
    "duration": 11,
    "start_time": "2021-11-14T03:06:21.201Z"
   },
   {
    "duration": 37,
    "start_time": "2021-11-14T03:06:21.215Z"
   },
   {
    "duration": 37,
    "start_time": "2021-11-14T03:06:21.255Z"
   },
   {
    "duration": 5,
    "start_time": "2021-11-14T03:06:21.294Z"
   },
   {
    "duration": 12,
    "start_time": "2021-11-14T03:06:21.300Z"
   },
   {
    "duration": 10,
    "start_time": "2021-11-14T03:06:21.313Z"
   },
   {
    "duration": 8,
    "start_time": "2021-11-14T03:06:21.325Z"
   },
   {
    "duration": 8,
    "start_time": "2021-11-14T03:06:21.334Z"
   },
   {
    "duration": 12,
    "start_time": "2021-11-14T03:06:21.343Z"
   },
   {
    "duration": 13,
    "start_time": "2021-11-14T03:06:21.391Z"
   },
   {
    "duration": 8,
    "start_time": "2021-11-14T03:06:21.406Z"
   },
   {
    "duration": 9,
    "start_time": "2021-11-14T03:06:21.415Z"
   },
   {
    "duration": 21,
    "start_time": "2021-11-14T03:06:21.426Z"
   },
   {
    "duration": 45,
    "start_time": "2021-11-14T03:06:21.448Z"
   },
   {
    "duration": 40,
    "start_time": "2021-11-14T03:06:21.495Z"
   },
   {
    "duration": 14,
    "start_time": "2021-11-14T03:06:21.537Z"
   },
   {
    "duration": 21,
    "start_time": "2021-11-14T03:06:21.556Z"
   },
   {
    "duration": 20,
    "start_time": "2021-11-14T03:06:21.593Z"
   },
   {
    "duration": 5,
    "start_time": "2021-11-14T03:06:21.615Z"
   },
   {
    "duration": 14,
    "start_time": "2021-11-14T03:06:21.622Z"
   },
   {
    "duration": 7,
    "start_time": "2021-11-14T03:06:21.637Z"
   },
   {
    "duration": 8,
    "start_time": "2021-11-14T03:06:21.646Z"
   },
   {
    "duration": 44,
    "start_time": "2021-11-14T03:06:21.655Z"
   },
   {
    "duration": 8,
    "start_time": "2021-11-14T03:06:21.701Z"
   },
   {
    "duration": 188,
    "start_time": "2021-11-14T03:06:21.712Z"
   },
   {
    "duration": 96,
    "start_time": "2021-11-14T03:06:21.902Z"
   },
   {
    "duration": 204,
    "start_time": "2021-11-14T03:06:22.001Z"
   },
   {
    "duration": 13,
    "start_time": "2021-11-14T03:06:22.206Z"
   },
   {
    "duration": 7,
    "start_time": "2021-11-14T03:06:22.220Z"
   },
   {
    "duration": 269,
    "start_time": "2021-11-14T03:06:22.228Z"
   },
   {
    "duration": 26,
    "start_time": "2021-11-14T03:06:22.498Z"
   },
   {
    "duration": 6213,
    "start_time": "2021-11-14T03:06:22.526Z"
   },
   {
    "duration": 94328,
    "start_time": "2021-11-14T03:06:28.741Z"
   },
   {
    "duration": 252,
    "start_time": "2021-11-14T03:08:03.071Z"
   },
   {
    "duration": 25,
    "start_time": "2021-11-14T03:08:03.325Z"
   },
   {
    "duration": 92,
    "start_time": "2021-11-14T03:08:03.351Z"
   },
   {
    "duration": -130,
    "start_time": "2021-11-14T03:08:03.575Z"
   },
   {
    "duration": -168,
    "start_time": "2021-11-14T03:08:03.613Z"
   },
   {
    "duration": -171,
    "start_time": "2021-11-14T03:08:03.617Z"
   },
   {
    "duration": -176,
    "start_time": "2021-11-14T03:08:03.623Z"
   },
   {
    "duration": -180,
    "start_time": "2021-11-14T03:08:03.628Z"
   },
   {
    "duration": -183,
    "start_time": "2021-11-14T03:08:03.632Z"
   },
   {
    "duration": -186,
    "start_time": "2021-11-14T03:08:03.636Z"
   },
   {
    "duration": -189,
    "start_time": "2021-11-14T03:08:03.640Z"
   },
   {
    "duration": -191,
    "start_time": "2021-11-14T03:08:03.643Z"
   },
   {
    "duration": -194,
    "start_time": "2021-11-14T03:08:03.647Z"
   },
   {
    "duration": -196,
    "start_time": "2021-11-14T03:08:03.649Z"
   },
   {
    "duration": -199,
    "start_time": "2021-11-14T03:08:03.653Z"
   },
   {
    "duration": -201,
    "start_time": "2021-11-14T03:08:03.656Z"
   },
   {
    "duration": -203,
    "start_time": "2021-11-14T03:08:03.659Z"
   },
   {
    "duration": -207,
    "start_time": "2021-11-14T03:08:03.664Z"
   },
   {
    "duration": -209,
    "start_time": "2021-11-14T03:08:03.667Z"
   },
   {
    "duration": -212,
    "start_time": "2021-11-14T03:08:03.671Z"
   },
   {
    "duration": -214,
    "start_time": "2021-11-14T03:08:03.674Z"
   },
   {
    "duration": -216,
    "start_time": "2021-11-14T03:08:03.677Z"
   },
   {
    "duration": -219,
    "start_time": "2021-11-14T03:08:03.680Z"
   },
   {
    "duration": -247,
    "start_time": "2021-11-14T03:08:03.709Z"
   },
   {
    "duration": -259,
    "start_time": "2021-11-14T03:08:03.722Z"
   },
   {
    "duration": -263,
    "start_time": "2021-11-14T03:08:03.727Z"
   },
   {
    "duration": -266,
    "start_time": "2021-11-14T03:08:03.731Z"
   },
   {
    "duration": -269,
    "start_time": "2021-11-14T03:08:03.735Z"
   },
   {
    "duration": -273,
    "start_time": "2021-11-14T03:08:03.740Z"
   },
   {
    "duration": -277,
    "start_time": "2021-11-14T03:08:03.744Z"
   },
   {
    "duration": -280,
    "start_time": "2021-11-14T03:08:03.748Z"
   },
   {
    "duration": -283,
    "start_time": "2021-11-14T03:08:03.752Z"
   },
   {
    "duration": -286,
    "start_time": "2021-11-14T03:08:03.756Z"
   },
   {
    "duration": -288,
    "start_time": "2021-11-14T03:08:03.759Z"
   },
   {
    "duration": -290,
    "start_time": "2021-11-14T03:08:03.762Z"
   },
   {
    "duration": -293,
    "start_time": "2021-11-14T03:08:03.766Z"
   },
   {
    "duration": -322,
    "start_time": "2021-11-14T03:08:03.795Z"
   },
   {
    "duration": -324,
    "start_time": "2021-11-14T03:08:03.798Z"
   },
   {
    "duration": -327,
    "start_time": "2021-11-14T03:08:03.803Z"
   },
   {
    "duration": -330,
    "start_time": "2021-11-14T03:08:03.807Z"
   },
   {
    "duration": -336,
    "start_time": "2021-11-14T03:08:03.813Z"
   },
   {
    "duration": -340,
    "start_time": "2021-11-14T03:08:03.818Z"
   },
   {
    "duration": 13,
    "start_time": "2021-11-14T03:10:59.514Z"
   },
   {
    "duration": 110,
    "start_time": "2021-11-14T03:11:00.786Z"
   },
   {
    "duration": 7,
    "start_time": "2021-11-14T03:16:05.299Z"
   },
   {
    "duration": 13,
    "start_time": "2021-11-14T03:16:08.599Z"
   },
   {
    "duration": 8,
    "start_time": "2021-11-14T03:17:14.971Z"
   },
   {
    "duration": 283,
    "start_time": "2021-11-14T03:17:16.067Z"
   },
   {
    "duration": 1099,
    "start_time": "2021-11-14T03:18:08.107Z"
   },
   {
    "duration": 40,
    "start_time": "2021-11-14T03:18:09.208Z"
   },
   {
    "duration": 4,
    "start_time": "2021-11-14T03:18:09.249Z"
   },
   {
    "duration": 17,
    "start_time": "2021-11-14T03:18:09.254Z"
   },
   {
    "duration": 7,
    "start_time": "2021-11-14T03:18:09.273Z"
   },
   {
    "duration": 14,
    "start_time": "2021-11-14T03:18:09.281Z"
   },
   {
    "duration": 8,
    "start_time": "2021-11-14T03:18:09.296Z"
   },
   {
    "duration": 41,
    "start_time": "2021-11-14T03:18:09.306Z"
   },
   {
    "duration": 9,
    "start_time": "2021-11-14T03:18:09.349Z"
   },
   {
    "duration": 5,
    "start_time": "2021-11-14T03:18:09.360Z"
   },
   {
    "duration": 32,
    "start_time": "2021-11-14T03:18:09.366Z"
   },
   {
    "duration": 15,
    "start_time": "2021-11-14T03:18:09.399Z"
   },
   {
    "duration": 4,
    "start_time": "2021-11-14T03:18:09.416Z"
   },
   {
    "duration": 18,
    "start_time": "2021-11-14T03:18:09.421Z"
   },
   {
    "duration": 16,
    "start_time": "2021-11-14T03:18:09.440Z"
   },
   {
    "duration": 23,
    "start_time": "2021-11-14T03:18:09.458Z"
   },
   {
    "duration": 13,
    "start_time": "2021-11-14T03:18:09.482Z"
   },
   {
    "duration": 9,
    "start_time": "2021-11-14T03:18:09.496Z"
   },
   {
    "duration": 17,
    "start_time": "2021-11-14T03:18:09.507Z"
   },
   {
    "duration": 20,
    "start_time": "2021-11-14T03:18:09.526Z"
   },
   {
    "duration": 20,
    "start_time": "2021-11-14T03:18:09.547Z"
   },
   {
    "duration": 29,
    "start_time": "2021-11-14T03:18:09.568Z"
   },
   {
    "duration": 17,
    "start_time": "2021-11-14T03:18:09.600Z"
   },
   {
    "duration": 10,
    "start_time": "2021-11-14T03:18:09.619Z"
   },
   {
    "duration": 16,
    "start_time": "2021-11-14T03:18:09.630Z"
   },
   {
    "duration": 22,
    "start_time": "2021-11-14T03:18:09.647Z"
   },
   {
    "duration": 21,
    "start_time": "2021-11-14T03:18:09.671Z"
   },
   {
    "duration": 7,
    "start_time": "2021-11-14T03:18:09.693Z"
   },
   {
    "duration": 14,
    "start_time": "2021-11-14T03:18:09.701Z"
   },
   {
    "duration": 77,
    "start_time": "2021-11-14T03:18:09.717Z"
   },
   {
    "duration": 201,
    "start_time": "2021-11-14T03:18:09.796Z"
   },
   {
    "duration": 100,
    "start_time": "2021-11-14T03:18:09.999Z"
   },
   {
    "duration": 193,
    "start_time": "2021-11-14T03:18:10.102Z"
   },
   {
    "duration": 196,
    "start_time": "2021-11-14T03:18:10.296Z"
   },
   {
    "duration": 99,
    "start_time": "2021-11-14T03:18:10.494Z"
   },
   {
    "duration": 276,
    "start_time": "2021-11-14T03:18:10.594Z"
   },
   {
    "duration": -239,
    "start_time": "2021-11-14T03:18:11.111Z"
   },
   {
    "duration": -272,
    "start_time": "2021-11-14T03:18:11.145Z"
   },
   {
    "duration": -275,
    "start_time": "2021-11-14T03:18:11.149Z"
   },
   {
    "duration": -279,
    "start_time": "2021-11-14T03:18:11.154Z"
   },
   {
    "duration": -282,
    "start_time": "2021-11-14T03:18:11.158Z"
   },
   {
    "duration": -286,
    "start_time": "2021-11-14T03:18:11.163Z"
   },
   {
    "duration": -289,
    "start_time": "2021-11-14T03:18:11.167Z"
   },
   {
    "duration": -303,
    "start_time": "2021-11-14T03:18:11.182Z"
   },
   {
    "duration": -307,
    "start_time": "2021-11-14T03:18:11.187Z"
   },
   {
    "duration": -314,
    "start_time": "2021-11-14T03:18:11.194Z"
   },
   {
    "duration": -317,
    "start_time": "2021-11-14T03:18:11.198Z"
   },
   {
    "duration": -332,
    "start_time": "2021-11-14T03:18:11.214Z"
   },
   {
    "duration": -336,
    "start_time": "2021-11-14T03:18:11.219Z"
   },
   {
    "duration": -374,
    "start_time": "2021-11-14T03:18:11.258Z"
   },
   {
    "duration": -378,
    "start_time": "2021-11-14T03:18:11.263Z"
   },
   {
    "duration": -382,
    "start_time": "2021-11-14T03:18:11.268Z"
   },
   {
    "duration": -385,
    "start_time": "2021-11-14T03:18:11.272Z"
   },
   {
    "duration": -391,
    "start_time": "2021-11-14T03:18:11.279Z"
   },
   {
    "duration": -394,
    "start_time": "2021-11-14T03:18:11.283Z"
   },
   {
    "duration": -397,
    "start_time": "2021-11-14T03:18:11.287Z"
   },
   {
    "duration": -400,
    "start_time": "2021-11-14T03:18:11.291Z"
   },
   {
    "duration": -444,
    "start_time": "2021-11-14T03:18:11.336Z"
   },
   {
    "duration": -447,
    "start_time": "2021-11-14T03:18:11.340Z"
   },
   {
    "duration": -451,
    "start_time": "2021-11-14T03:18:11.345Z"
   },
   {
    "duration": -454,
    "start_time": "2021-11-14T03:18:11.349Z"
   },
   {
    "duration": -536,
    "start_time": "2021-11-14T03:18:11.432Z"
   },
   {
    "duration": -540,
    "start_time": "2021-11-14T03:18:11.437Z"
   },
   {
    "duration": -604,
    "start_time": "2021-11-14T03:18:11.502Z"
   },
   {
    "duration": -614,
    "start_time": "2021-11-14T03:18:11.513Z"
   },
   {
    "duration": -618,
    "start_time": "2021-11-14T03:18:11.518Z"
   },
   {
    "duration": -621,
    "start_time": "2021-11-14T03:18:11.522Z"
   },
   {
    "duration": -625,
    "start_time": "2021-11-14T03:18:11.526Z"
   },
   {
    "duration": -628,
    "start_time": "2021-11-14T03:18:11.530Z"
   },
   {
    "duration": -633,
    "start_time": "2021-11-14T03:18:11.536Z"
   },
   {
    "duration": -636,
    "start_time": "2021-11-14T03:18:11.540Z"
   },
   {
    "duration": -639,
    "start_time": "2021-11-14T03:18:11.544Z"
   },
   {
    "duration": -641,
    "start_time": "2021-11-14T03:18:11.547Z"
   },
   {
    "duration": -644,
    "start_time": "2021-11-14T03:18:11.551Z"
   },
   {
    "duration": -647,
    "start_time": "2021-11-14T03:18:11.555Z"
   },
   {
    "duration": -650,
    "start_time": "2021-11-14T03:18:11.559Z"
   },
   {
    "duration": -653,
    "start_time": "2021-11-14T03:18:11.563Z"
   },
   {
    "duration": -657,
    "start_time": "2021-11-14T03:18:11.567Z"
   },
   {
    "duration": -674,
    "start_time": "2021-11-14T03:18:11.585Z"
   },
   {
    "duration": -692,
    "start_time": "2021-11-14T03:18:11.604Z"
   },
   {
    "duration": -695,
    "start_time": "2021-11-14T03:18:11.608Z"
   },
   {
    "duration": -699,
    "start_time": "2021-11-14T03:18:11.613Z"
   },
   {
    "duration": -702,
    "start_time": "2021-11-14T03:18:11.616Z"
   },
   {
    "duration": -706,
    "start_time": "2021-11-14T03:18:11.621Z"
   },
   {
    "duration": -710,
    "start_time": "2021-11-14T03:18:11.626Z"
   },
   {
    "duration": -714,
    "start_time": "2021-11-14T03:18:11.631Z"
   },
   {
    "duration": -717,
    "start_time": "2021-11-14T03:18:11.635Z"
   },
   {
    "duration": -720,
    "start_time": "2021-11-14T03:18:11.639Z"
   },
   {
    "duration": -725,
    "start_time": "2021-11-14T03:18:11.645Z"
   },
   {
    "duration": 195,
    "start_time": "2021-11-14T03:22:20.488Z"
   },
   {
    "duration": 195,
    "start_time": "2021-11-14T03:23:20.637Z"
   },
   {
    "duration": 189,
    "start_time": "2021-11-14T03:25:06.090Z"
   },
   {
    "duration": 327,
    "start_time": "2021-11-14T03:25:37.998Z"
   },
   {
    "duration": 349,
    "start_time": "2021-11-14T03:27:10.745Z"
   },
   {
    "duration": 13,
    "start_time": "2021-11-14T03:31:17.988Z"
   },
   {
    "duration": 187,
    "start_time": "2021-11-14T03:31:19.206Z"
   },
   {
    "duration": 30,
    "start_time": "2021-11-14T03:32:39.895Z"
   },
   {
    "duration": 14,
    "start_time": "2021-11-14T03:32:41.172Z"
   },
   {
    "duration": 8,
    "start_time": "2021-11-14T03:32:44.254Z"
   },
   {
    "duration": 43,
    "start_time": "2021-11-14T03:35:16.375Z"
   },
   {
    "duration": 43,
    "start_time": "2021-11-14T03:35:45.476Z"
   },
   {
    "duration": 316,
    "start_time": "2021-11-14T03:36:31.685Z"
   },
   {
    "duration": 347,
    "start_time": "2021-11-14T03:38:12.064Z"
   },
   {
    "duration": 251,
    "start_time": "2021-11-14T03:43:53.441Z"
   },
   {
    "duration": 26,
    "start_time": "2021-11-14T03:44:10.848Z"
   },
   {
    "duration": 67,
    "start_time": "2021-11-14T03:44:34.473Z"
   },
   {
    "duration": 18,
    "start_time": "2021-11-14T03:44:36.639Z"
   },
   {
    "duration": 26,
    "start_time": "2021-11-14T03:45:11.037Z"
   },
   {
    "duration": 64,
    "start_time": "2021-11-14T03:46:53.894Z"
   },
   {
    "duration": 26,
    "start_time": "2021-11-14T03:46:55.060Z"
   },
   {
    "duration": 83,
    "start_time": "2021-11-14T03:47:12.594Z"
   },
   {
    "duration": 5985,
    "start_time": "2021-11-14T03:49:03.506Z"
   },
   {
    "duration": 95576,
    "start_time": "2021-11-14T03:49:31.044Z"
   },
   {
    "duration": 112,
    "start_time": "2021-11-14T03:51:56.436Z"
   },
   {
    "duration": 114,
    "start_time": "2021-11-14T03:53:16.488Z"
   },
   {
    "duration": 328,
    "start_time": "2021-11-14T04:04:02.815Z"
   },
   {
    "duration": 430,
    "start_time": "2021-11-14T04:04:44.786Z"
   },
   {
    "duration": 1662,
    "start_time": "2021-11-14T04:05:50.946Z"
   },
   {
    "duration": 41,
    "start_time": "2021-11-14T04:05:52.610Z"
   },
   {
    "duration": 3,
    "start_time": "2021-11-14T04:05:52.653Z"
   },
   {
    "duration": 16,
    "start_time": "2021-11-14T04:05:52.658Z"
   },
   {
    "duration": 15,
    "start_time": "2021-11-14T04:05:52.676Z"
   },
   {
    "duration": 5,
    "start_time": "2021-11-14T04:05:52.693Z"
   },
   {
    "duration": 8,
    "start_time": "2021-11-14T04:05:52.700Z"
   },
   {
    "duration": 39,
    "start_time": "2021-11-14T04:05:52.710Z"
   },
   {
    "duration": 10,
    "start_time": "2021-11-14T04:05:52.751Z"
   },
   {
    "duration": 30,
    "start_time": "2021-11-14T04:05:52.763Z"
   },
   {
    "duration": 10,
    "start_time": "2021-11-14T04:05:52.795Z"
   },
   {
    "duration": 11,
    "start_time": "2021-11-14T04:05:52.807Z"
   },
   {
    "duration": 8,
    "start_time": "2021-11-14T04:05:52.819Z"
   },
   {
    "duration": 8,
    "start_time": "2021-11-14T04:05:52.828Z"
   },
   {
    "duration": 13,
    "start_time": "2021-11-14T04:05:52.838Z"
   },
   {
    "duration": 45,
    "start_time": "2021-11-14T04:05:52.853Z"
   },
   {
    "duration": 9,
    "start_time": "2021-11-14T04:05:52.899Z"
   },
   {
    "duration": 9,
    "start_time": "2021-11-14T04:05:52.909Z"
   },
   {
    "duration": 6,
    "start_time": "2021-11-14T04:05:52.919Z"
   },
   {
    "duration": 20,
    "start_time": "2021-11-14T04:05:52.927Z"
   },
   {
    "duration": 61,
    "start_time": "2021-11-14T04:05:52.948Z"
   },
   {
    "duration": 8,
    "start_time": "2021-11-14T04:05:53.011Z"
   },
   {
    "duration": 14,
    "start_time": "2021-11-14T04:05:53.021Z"
   },
   {
    "duration": 12,
    "start_time": "2021-11-14T04:05:53.037Z"
   },
   {
    "duration": 5,
    "start_time": "2021-11-14T04:05:53.050Z"
   },
   {
    "duration": 43,
    "start_time": "2021-11-14T04:05:53.056Z"
   },
   {
    "duration": 6,
    "start_time": "2021-11-14T04:05:53.104Z"
   },
   {
    "duration": 8,
    "start_time": "2021-11-14T04:05:53.113Z"
   },
   {
    "duration": 14,
    "start_time": "2021-11-14T04:05:53.122Z"
   },
   {
    "duration": 61,
    "start_time": "2021-11-14T04:05:53.138Z"
   },
   {
    "duration": 189,
    "start_time": "2021-11-14T04:05:53.202Z"
   },
   {
    "duration": 7,
    "start_time": "2021-11-14T04:05:53.393Z"
   },
   {
    "duration": 100,
    "start_time": "2021-11-14T04:05:53.493Z"
   },
   {
    "duration": 106,
    "start_time": "2021-11-14T04:05:53.595Z"
   },
   {
    "duration": 500,
    "start_time": "2021-11-14T04:05:53.793Z"
   },
   {
    "duration": -139,
    "start_time": "2021-11-14T04:05:54.434Z"
   },
   {
    "duration": -142,
    "start_time": "2021-11-14T04:05:54.438Z"
   },
   {
    "duration": -146,
    "start_time": "2021-11-14T04:05:54.443Z"
   },
   {
    "duration": -149,
    "start_time": "2021-11-14T04:05:54.447Z"
   },
   {
    "duration": -152,
    "start_time": "2021-11-14T04:05:54.451Z"
   },
   {
    "duration": -156,
    "start_time": "2021-11-14T04:05:54.456Z"
   },
   {
    "duration": -159,
    "start_time": "2021-11-14T04:05:54.460Z"
   },
   {
    "duration": -162,
    "start_time": "2021-11-14T04:05:54.464Z"
   },
   {
    "duration": -165,
    "start_time": "2021-11-14T04:05:54.468Z"
   },
   {
    "duration": -169,
    "start_time": "2021-11-14T04:05:54.473Z"
   },
   {
    "duration": -174,
    "start_time": "2021-11-14T04:05:54.478Z"
   },
   {
    "duration": -179,
    "start_time": "2021-11-14T04:05:54.484Z"
   },
   {
    "duration": -183,
    "start_time": "2021-11-14T04:05:54.489Z"
   },
   {
    "duration": -187,
    "start_time": "2021-11-14T04:05:54.494Z"
   },
   {
    "duration": -190,
    "start_time": "2021-11-14T04:05:54.497Z"
   },
   {
    "duration": -195,
    "start_time": "2021-11-14T04:05:54.503Z"
   },
   {
    "duration": -198,
    "start_time": "2021-11-14T04:05:54.507Z"
   },
   {
    "duration": -201,
    "start_time": "2021-11-14T04:05:54.511Z"
   },
   {
    "duration": -205,
    "start_time": "2021-11-14T04:05:54.515Z"
   },
   {
    "duration": -207,
    "start_time": "2021-11-14T04:05:54.519Z"
   },
   {
    "duration": -254,
    "start_time": "2021-11-14T04:05:54.567Z"
   },
   {
    "duration": -262,
    "start_time": "2021-11-14T04:05:54.575Z"
   },
   {
    "duration": -265,
    "start_time": "2021-11-14T04:05:54.579Z"
   },
   {
    "duration": -269,
    "start_time": "2021-11-14T04:05:54.584Z"
   },
   {
    "duration": -273,
    "start_time": "2021-11-14T04:05:54.589Z"
   },
   {
    "duration": -278,
    "start_time": "2021-11-14T04:05:54.595Z"
   },
   {
    "duration": -283,
    "start_time": "2021-11-14T04:05:54.601Z"
   },
   {
    "duration": -290,
    "start_time": "2021-11-14T04:05:54.609Z"
   },
   {
    "duration": -392,
    "start_time": "2021-11-14T04:05:54.711Z"
   },
   {
    "duration": -395,
    "start_time": "2021-11-14T04:05:54.715Z"
   },
   {
    "duration": -398,
    "start_time": "2021-11-14T04:05:54.719Z"
   },
   {
    "duration": -402,
    "start_time": "2021-11-14T04:05:54.724Z"
   },
   {
    "duration": -405,
    "start_time": "2021-11-14T04:05:54.728Z"
   },
   {
    "duration": -411,
    "start_time": "2021-11-14T04:05:54.735Z"
   },
   {
    "duration": -428,
    "start_time": "2021-11-14T04:05:54.753Z"
   },
   {
    "duration": -433,
    "start_time": "2021-11-14T04:05:54.758Z"
   },
   {
    "duration": -436,
    "start_time": "2021-11-14T04:05:54.762Z"
   },
   {
    "duration": -439,
    "start_time": "2021-11-14T04:05:54.766Z"
   },
   {
    "duration": -444,
    "start_time": "2021-11-14T04:05:54.771Z"
   },
   {
    "duration": -448,
    "start_time": "2021-11-14T04:05:54.776Z"
   },
   {
    "duration": -465,
    "start_time": "2021-11-14T04:05:54.794Z"
   },
   {
    "duration": -470,
    "start_time": "2021-11-14T04:05:54.800Z"
   },
   {
    "duration": -489,
    "start_time": "2021-11-14T04:05:54.820Z"
   },
   {
    "duration": -494,
    "start_time": "2021-11-14T04:05:54.826Z"
   },
   {
    "duration": -513,
    "start_time": "2021-11-14T04:05:54.846Z"
   },
   {
    "duration": -462,
    "start_time": "2021-11-14T04:05:54.853Z"
   },
   {
    "duration": -467,
    "start_time": "2021-11-14T04:05:54.859Z"
   },
   {
    "duration": -489,
    "start_time": "2021-11-14T04:05:54.882Z"
   },
   {
    "duration": -494,
    "start_time": "2021-11-14T04:05:54.888Z"
   },
   {
    "duration": -512,
    "start_time": "2021-11-14T04:05:54.907Z"
   },
   {
    "duration": -517,
    "start_time": "2021-11-14T04:05:54.913Z"
   },
   {
    "duration": -521,
    "start_time": "2021-11-14T04:05:54.918Z"
   },
   {
    "duration": -527,
    "start_time": "2021-11-14T04:05:54.924Z"
   },
   {
    "duration": 337,
    "start_time": "2021-11-14T04:07:15.151Z"
   },
   {
    "duration": 1589,
    "start_time": "2021-11-14T04:09:45.464Z"
   },
   {
    "duration": -499,
    "start_time": "2021-11-14T04:09:47.556Z"
   },
   {
    "duration": -502,
    "start_time": "2021-11-14T04:09:47.560Z"
   },
   {
    "duration": -638,
    "start_time": "2021-11-14T04:09:47.697Z"
   },
   {
    "duration": -641,
    "start_time": "2021-11-14T04:09:47.701Z"
   },
   {
    "duration": -646,
    "start_time": "2021-11-14T04:09:47.706Z"
   },
   {
    "duration": -664,
    "start_time": "2021-11-14T04:09:47.725Z"
   },
   {
    "duration": -668,
    "start_time": "2021-11-14T04:09:47.730Z"
   },
   {
    "duration": -671,
    "start_time": "2021-11-14T04:09:47.734Z"
   },
   {
    "duration": -677,
    "start_time": "2021-11-14T04:09:47.741Z"
   },
   {
    "duration": -681,
    "start_time": "2021-11-14T04:09:47.746Z"
   },
   {
    "duration": -684,
    "start_time": "2021-11-14T04:09:47.750Z"
   },
   {
    "duration": -687,
    "start_time": "2021-11-14T04:09:47.754Z"
   },
   {
    "duration": -691,
    "start_time": "2021-11-14T04:09:47.759Z"
   },
   {
    "duration": -886,
    "start_time": "2021-11-14T04:09:47.955Z"
   },
   {
    "duration": -892,
    "start_time": "2021-11-14T04:09:47.962Z"
   },
   {
    "duration": -895,
    "start_time": "2021-11-14T04:09:47.966Z"
   },
   {
    "duration": -901,
    "start_time": "2021-11-14T04:09:47.972Z"
   },
   {
    "duration": -904,
    "start_time": "2021-11-14T04:09:47.976Z"
   },
   {
    "duration": -908,
    "start_time": "2021-11-14T04:09:47.981Z"
   },
   {
    "duration": -911,
    "start_time": "2021-11-14T04:09:47.985Z"
   },
   {
    "duration": -915,
    "start_time": "2021-11-14T04:09:47.990Z"
   },
   {
    "duration": -919,
    "start_time": "2021-11-14T04:09:47.994Z"
   },
   {
    "duration": -923,
    "start_time": "2021-11-14T04:09:47.999Z"
   },
   {
    "duration": -927,
    "start_time": "2021-11-14T04:09:48.004Z"
   },
   {
    "duration": -931,
    "start_time": "2021-11-14T04:09:48.009Z"
   },
   {
    "duration": -947,
    "start_time": "2021-11-14T04:09:48.026Z"
   },
   {
    "duration": -951,
    "start_time": "2021-11-14T04:09:48.031Z"
   },
   {
    "duration": -955,
    "start_time": "2021-11-14T04:09:48.035Z"
   },
   {
    "duration": -959,
    "start_time": "2021-11-14T04:09:48.040Z"
   },
   {
    "duration": -973,
    "start_time": "2021-11-14T04:09:48.055Z"
   },
   {
    "duration": -977,
    "start_time": "2021-11-14T04:09:48.060Z"
   },
   {
    "duration": -980,
    "start_time": "2021-11-14T04:09:48.064Z"
   },
   {
    "duration": -984,
    "start_time": "2021-11-14T04:09:48.068Z"
   },
   {
    "duration": -987,
    "start_time": "2021-11-14T04:09:48.072Z"
   },
   {
    "duration": -991,
    "start_time": "2021-11-14T04:09:48.077Z"
   },
   {
    "duration": -993,
    "start_time": "2021-11-14T04:09:48.080Z"
   },
   {
    "duration": -997,
    "start_time": "2021-11-14T04:09:48.085Z"
   },
   {
    "duration": -1192,
    "start_time": "2021-11-14T04:09:48.281Z"
   },
   {
    "duration": -1255,
    "start_time": "2021-11-14T04:09:48.344Z"
   },
   {
    "duration": -1292,
    "start_time": "2021-11-14T04:09:48.382Z"
   },
   {
    "duration": -1296,
    "start_time": "2021-11-14T04:09:48.387Z"
   },
   {
    "duration": -1299,
    "start_time": "2021-11-14T04:09:48.391Z"
   },
   {
    "duration": -1303,
    "start_time": "2021-11-14T04:09:48.396Z"
   },
   {
    "duration": -1305,
    "start_time": "2021-11-14T04:09:48.399Z"
   },
   {
    "duration": -1308,
    "start_time": "2021-11-14T04:09:48.403Z"
   },
   {
    "duration": -1311,
    "start_time": "2021-11-14T04:09:48.407Z"
   },
   {
    "duration": -1315,
    "start_time": "2021-11-14T04:09:48.411Z"
   },
   {
    "duration": -1317,
    "start_time": "2021-11-14T04:09:48.414Z"
   },
   {
    "duration": -1322,
    "start_time": "2021-11-14T04:09:48.420Z"
   },
   {
    "duration": -1325,
    "start_time": "2021-11-14T04:09:48.424Z"
   },
   {
    "duration": -1331,
    "start_time": "2021-11-14T04:09:48.430Z"
   },
   {
    "duration": -1334,
    "start_time": "2021-11-14T04:09:48.434Z"
   },
   {
    "duration": -1337,
    "start_time": "2021-11-14T04:09:48.438Z"
   },
   {
    "duration": -1340,
    "start_time": "2021-11-14T04:09:48.442Z"
   },
   {
    "duration": -1345,
    "start_time": "2021-11-14T04:09:48.447Z"
   },
   {
    "duration": -1348,
    "start_time": "2021-11-14T04:09:48.451Z"
   },
   {
    "duration": -1351,
    "start_time": "2021-11-14T04:09:48.455Z"
   },
   {
    "duration": -1354,
    "start_time": "2021-11-14T04:09:48.459Z"
   },
   {
    "duration": -1356,
    "start_time": "2021-11-14T04:09:48.462Z"
   },
   {
    "duration": -1359,
    "start_time": "2021-11-14T04:09:48.466Z"
   },
   {
    "duration": -1435,
    "start_time": "2021-11-14T04:09:48.543Z"
   },
   {
    "duration": -1562,
    "start_time": "2021-11-14T04:09:48.671Z"
   },
   {
    "duration": -1585,
    "start_time": "2021-11-14T04:09:48.694Z"
   },
   {
    "duration": -1589,
    "start_time": "2021-11-14T04:09:48.699Z"
   },
   {
    "duration": -1592,
    "start_time": "2021-11-14T04:09:48.703Z"
   },
   {
    "duration": -1595,
    "start_time": "2021-11-14T04:09:48.707Z"
   },
   {
    "duration": -1598,
    "start_time": "2021-11-14T04:09:48.712Z"
   },
   {
    "duration": -1600,
    "start_time": "2021-11-14T04:09:48.715Z"
   },
   {
    "duration": -1603,
    "start_time": "2021-11-14T04:09:48.719Z"
   },
   {
    "duration": -1606,
    "start_time": "2021-11-14T04:09:48.723Z"
   },
   {
    "duration": -1608,
    "start_time": "2021-11-14T04:09:48.726Z"
   },
   {
    "duration": -1611,
    "start_time": "2021-11-14T04:09:48.730Z"
   },
   {
    "duration": -1613,
    "start_time": "2021-11-14T04:09:48.733Z"
   },
   {
    "duration": -1633,
    "start_time": "2021-11-14T04:09:48.754Z"
   },
   {
    "duration": -1654,
    "start_time": "2021-11-14T04:09:48.776Z"
   },
   {
    "duration": -1657,
    "start_time": "2021-11-14T04:09:48.780Z"
   },
   {
    "duration": -1661,
    "start_time": "2021-11-14T04:09:48.784Z"
   },
   {
    "duration": -1676,
    "start_time": "2021-11-14T04:09:48.800Z"
   },
   {
    "duration": -1681,
    "start_time": "2021-11-14T04:09:48.806Z"
   },
   {
    "duration": -1685,
    "start_time": "2021-11-14T04:09:48.811Z"
   },
   {
    "duration": -1688,
    "start_time": "2021-11-14T04:09:48.815Z"
   },
   {
    "duration": -1691,
    "start_time": "2021-11-14T04:09:48.819Z"
   },
   {
    "duration": -1695,
    "start_time": "2021-11-14T04:09:48.824Z"
   },
   {
    "duration": -1698,
    "start_time": "2021-11-14T04:09:48.828Z"
   },
   {
    "duration": -1702,
    "start_time": "2021-11-14T04:09:48.832Z"
   },
   {
    "duration": -1704,
    "start_time": "2021-11-14T04:09:48.835Z"
   },
   {
    "duration": -1708,
    "start_time": "2021-11-14T04:09:48.840Z"
   },
   {
    "duration": 60,
    "start_time": "2021-11-14T04:12:05.747Z"
   },
   {
    "duration": -184,
    "start_time": "2021-11-14T04:12:05.993Z"
   },
   {
    "duration": -188,
    "start_time": "2021-11-14T04:12:05.998Z"
   },
   {
    "duration": -192,
    "start_time": "2021-11-14T04:12:06.003Z"
   },
   {
    "duration": -245,
    "start_time": "2021-11-14T04:12:06.057Z"
   },
   {
    "duration": -251,
    "start_time": "2021-11-14T04:12:06.064Z"
   },
   {
    "duration": -256,
    "start_time": "2021-11-14T04:12:06.070Z"
   },
   {
    "duration": -259,
    "start_time": "2021-11-14T04:12:06.074Z"
   },
   {
    "duration": 237,
    "start_time": "2021-11-14T04:12:05.909Z"
   },
   {
    "duration": -142,
    "start_time": "2021-11-14T04:12:06.291Z"
   },
   {
    "duration": -148,
    "start_time": "2021-11-14T04:12:06.297Z"
   },
   {
    "duration": -167,
    "start_time": "2021-11-14T04:12:06.317Z"
   },
   {
    "duration": -170,
    "start_time": "2021-11-14T04:12:06.321Z"
   },
   {
    "duration": -173,
    "start_time": "2021-11-14T04:12:06.325Z"
   },
   {
    "duration": -176,
    "start_time": "2021-11-14T04:12:06.329Z"
   },
   {
    "duration": -182,
    "start_time": "2021-11-14T04:12:06.335Z"
   },
   {
    "duration": -186,
    "start_time": "2021-11-14T04:12:06.340Z"
   },
   {
    "duration": -189,
    "start_time": "2021-11-14T04:12:06.344Z"
   },
   {
    "duration": -193,
    "start_time": "2021-11-14T04:12:06.348Z"
   },
   {
    "duration": -196,
    "start_time": "2021-11-14T04:12:06.352Z"
   },
   {
    "duration": -266,
    "start_time": "2021-11-14T04:12:06.423Z"
   },
   {
    "duration": -270,
    "start_time": "2021-11-14T04:12:06.428Z"
   },
   {
    "duration": -273,
    "start_time": "2021-11-14T04:12:06.432Z"
   },
   {
    "duration": -278,
    "start_time": "2021-11-14T04:12:06.437Z"
   },
   {
    "duration": -281,
    "start_time": "2021-11-14T04:12:06.441Z"
   },
   {
    "duration": -284,
    "start_time": "2021-11-14T04:12:06.445Z"
   },
   {
    "duration": -287,
    "start_time": "2021-11-14T04:12:06.449Z"
   },
   {
    "duration": -291,
    "start_time": "2021-11-14T04:12:06.453Z"
   },
   {
    "duration": -293,
    "start_time": "2021-11-14T04:12:06.456Z"
   },
   {
    "duration": -297,
    "start_time": "2021-11-14T04:12:06.461Z"
   },
   {
    "duration": -299,
    "start_time": "2021-11-14T04:12:06.464Z"
   },
   {
    "duration": -314,
    "start_time": "2021-11-14T04:12:06.480Z"
   },
   {
    "duration": -320,
    "start_time": "2021-11-14T04:12:06.486Z"
   },
   {
    "duration": -323,
    "start_time": "2021-11-14T04:12:06.490Z"
   },
   {
    "duration": -326,
    "start_time": "2021-11-14T04:12:06.494Z"
   },
   {
    "duration": -330,
    "start_time": "2021-11-14T04:12:06.498Z"
   },
   {
    "duration": -354,
    "start_time": "2021-11-14T04:12:06.523Z"
   },
   {
    "duration": -357,
    "start_time": "2021-11-14T04:12:06.527Z"
   },
   {
    "duration": -361,
    "start_time": "2021-11-14T04:12:06.532Z"
   },
   {
    "duration": -365,
    "start_time": "2021-11-14T04:12:06.536Z"
   },
   {
    "duration": -368,
    "start_time": "2021-11-14T04:12:06.540Z"
   },
   {
    "duration": -371,
    "start_time": "2021-11-14T04:12:06.544Z"
   },
   {
    "duration": -376,
    "start_time": "2021-11-14T04:12:06.549Z"
   },
   {
    "duration": -380,
    "start_time": "2021-11-14T04:12:06.554Z"
   },
   {
    "duration": 184,
    "start_time": "2021-11-14T04:12:06.248Z"
   },
   {
    "duration": -218,
    "start_time": "2021-11-14T04:12:06.653Z"
   },
   {
    "duration": -239,
    "start_time": "2021-11-14T04:12:06.675Z"
   },
   {
    "duration": -363,
    "start_time": "2021-11-14T04:12:06.800Z"
   },
   {
    "duration": -367,
    "start_time": "2021-11-14T04:12:06.804Z"
   },
   {
    "duration": -370,
    "start_time": "2021-11-14T04:12:06.808Z"
   },
   {
    "duration": -373,
    "start_time": "2021-11-14T04:12:06.812Z"
   },
   {
    "duration": -464,
    "start_time": "2021-11-14T04:12:06.903Z"
   },
   {
    "duration": -507,
    "start_time": "2021-11-14T04:12:06.947Z"
   },
   {
    "duration": -528,
    "start_time": "2021-11-14T04:12:06.969Z"
   },
   {
    "duration": -532,
    "start_time": "2021-11-14T04:12:06.974Z"
   },
   {
    "duration": -536,
    "start_time": "2021-11-14T04:12:06.979Z"
   },
   {
    "duration": -540,
    "start_time": "2021-11-14T04:12:06.983Z"
   },
   {
    "duration": -545,
    "start_time": "2021-11-14T04:12:06.989Z"
   },
   {
    "duration": -548,
    "start_time": "2021-11-14T04:12:06.993Z"
   },
   {
    "duration": -552,
    "start_time": "2021-11-14T04:12:06.998Z"
   },
   {
    "duration": -556,
    "start_time": "2021-11-14T04:12:07.002Z"
   },
   {
    "duration": -560,
    "start_time": "2021-11-14T04:12:07.007Z"
   },
   {
    "duration": -563,
    "start_time": "2021-11-14T04:12:07.011Z"
   },
   {
    "duration": -567,
    "start_time": "2021-11-14T04:12:07.016Z"
   },
   {
    "duration": -570,
    "start_time": "2021-11-14T04:12:07.020Z"
   },
   {
    "duration": -575,
    "start_time": "2021-11-14T04:12:07.026Z"
   },
   {
    "duration": -579,
    "start_time": "2021-11-14T04:12:07.031Z"
   },
   {
    "duration": -583,
    "start_time": "2021-11-14T04:12:07.036Z"
   },
   {
    "duration": -587,
    "start_time": "2021-11-14T04:12:07.041Z"
   },
   {
    "duration": -590,
    "start_time": "2021-11-14T04:12:07.045Z"
   },
   {
    "duration": -593,
    "start_time": "2021-11-14T04:12:07.049Z"
   },
   {
    "duration": -597,
    "start_time": "2021-11-14T04:12:07.054Z"
   },
   {
    "duration": -600,
    "start_time": "2021-11-14T04:12:07.058Z"
   },
   {
    "duration": -605,
    "start_time": "2021-11-14T04:12:07.063Z"
   },
   {
    "duration": -626,
    "start_time": "2021-11-14T04:12:07.087Z"
   },
   {
    "duration": -629,
    "start_time": "2021-11-14T04:12:07.091Z"
   },
   {
    "duration": -633,
    "start_time": "2021-11-14T04:12:07.096Z"
   },
   {
    "duration": -638,
    "start_time": "2021-11-14T04:12:07.102Z"
   },
   {
    "duration": -642,
    "start_time": "2021-11-14T04:12:07.107Z"
   },
   {
    "duration": -647,
    "start_time": "2021-11-14T04:12:07.113Z"
   },
   {
    "duration": -649,
    "start_time": "2021-11-14T04:12:07.116Z"
   },
   {
    "duration": -653,
    "start_time": "2021-11-14T04:12:07.121Z"
   },
   {
    "duration": -655,
    "start_time": "2021-11-14T04:12:07.124Z"
   },
   {
    "duration": -658,
    "start_time": "2021-11-14T04:12:07.128Z"
   },
   {
    "duration": -661,
    "start_time": "2021-11-14T04:12:07.132Z"
   },
   {
    "duration": -646,
    "start_time": "2021-11-14T04:12:07.137Z"
   },
   {
    "duration": -648,
    "start_time": "2021-11-14T04:12:07.140Z"
   },
   {
    "duration": -652,
    "start_time": "2021-11-14T04:12:07.145Z"
   },
   {
    "duration": 1050,
    "start_time": "2021-11-14T04:12:33.157Z"
   },
   {
    "duration": 42,
    "start_time": "2021-11-14T04:12:34.209Z"
   },
   {
    "duration": 4,
    "start_time": "2021-11-14T04:12:34.253Z"
   },
   {
    "duration": 16,
    "start_time": "2021-11-14T04:12:34.259Z"
   },
   {
    "duration": 20,
    "start_time": "2021-11-14T04:12:34.277Z"
   },
   {
    "duration": 7,
    "start_time": "2021-11-14T04:12:34.299Z"
   },
   {
    "duration": 8,
    "start_time": "2021-11-14T04:12:34.308Z"
   },
   {
    "duration": 39,
    "start_time": "2021-11-14T04:12:34.317Z"
   },
   {
    "duration": 37,
    "start_time": "2021-11-14T04:12:34.359Z"
   },
   {
    "duration": 4,
    "start_time": "2021-11-14T04:12:34.399Z"
   },
   {
    "duration": 10,
    "start_time": "2021-11-14T04:12:34.405Z"
   },
   {
    "duration": 12,
    "start_time": "2021-11-14T04:12:34.416Z"
   },
   {
    "duration": 5,
    "start_time": "2021-11-14T04:12:34.430Z"
   },
   {
    "duration": 7,
    "start_time": "2021-11-14T04:12:34.436Z"
   },
   {
    "duration": 58,
    "start_time": "2021-11-14T04:12:34.444Z"
   },
   {
    "duration": 13,
    "start_time": "2021-11-14T04:12:34.503Z"
   },
   {
    "duration": 9,
    "start_time": "2021-11-14T04:12:34.517Z"
   },
   {
    "duration": 9,
    "start_time": "2021-11-14T04:12:34.527Z"
   },
   {
    "duration": 6,
    "start_time": "2021-11-14T04:12:34.537Z"
   },
   {
    "duration": 56,
    "start_time": "2021-11-14T04:12:34.545Z"
   },
   {
    "duration": 22,
    "start_time": "2021-11-14T04:12:34.603Z"
   },
   {
    "duration": 7,
    "start_time": "2021-11-14T04:12:34.626Z"
   },
   {
    "duration": 13,
    "start_time": "2021-11-14T04:12:34.635Z"
   },
   {
    "duration": 42,
    "start_time": "2021-11-14T04:12:34.650Z"
   },
   {
    "duration": 5,
    "start_time": "2021-11-14T04:12:34.694Z"
   },
   {
    "duration": 15,
    "start_time": "2021-11-14T04:12:34.701Z"
   },
   {
    "duration": 7,
    "start_time": "2021-11-14T04:12:34.721Z"
   },
   {
    "duration": 8,
    "start_time": "2021-11-14T04:12:34.731Z"
   },
   {
    "duration": 14,
    "start_time": "2021-11-14T04:12:34.741Z"
   },
   {
    "duration": 141,
    "start_time": "2021-11-14T04:12:34.756Z"
   },
   {
    "duration": 100,
    "start_time": "2021-11-14T04:12:34.993Z"
   },
   {
    "duration": 101,
    "start_time": "2021-11-14T04:12:35.095Z"
   },
   {
    "duration": 101,
    "start_time": "2021-11-14T04:12:35.201Z"
   },
   {
    "duration": 190,
    "start_time": "2021-11-14T04:12:35.304Z"
   },
   {
    "duration": 526,
    "start_time": "2021-11-14T04:12:35.496Z"
   },
   {
    "duration": -142,
    "start_time": "2021-11-14T04:12:36.166Z"
   },
   {
    "duration": -146,
    "start_time": "2021-11-14T04:12:36.171Z"
   },
   {
    "duration": -150,
    "start_time": "2021-11-14T04:12:36.176Z"
   },
   {
    "duration": -153,
    "start_time": "2021-11-14T04:12:36.180Z"
   },
   {
    "duration": -157,
    "start_time": "2021-11-14T04:12:36.185Z"
   },
   {
    "duration": -160,
    "start_time": "2021-11-14T04:12:36.189Z"
   },
   {
    "duration": -166,
    "start_time": "2021-11-14T04:12:36.195Z"
   },
   {
    "duration": -169,
    "start_time": "2021-11-14T04:12:36.199Z"
   },
   {
    "duration": -173,
    "start_time": "2021-11-14T04:12:36.204Z"
   },
   {
    "duration": -176,
    "start_time": "2021-11-14T04:12:36.208Z"
   },
   {
    "duration": -179,
    "start_time": "2021-11-14T04:12:36.212Z"
   },
   {
    "duration": -182,
    "start_time": "2021-11-14T04:12:36.216Z"
   },
   {
    "duration": -185,
    "start_time": "2021-11-14T04:12:36.220Z"
   },
   {
    "duration": -189,
    "start_time": "2021-11-14T04:12:36.225Z"
   },
   {
    "duration": -195,
    "start_time": "2021-11-14T04:12:36.231Z"
   },
   {
    "duration": -199,
    "start_time": "2021-11-14T04:12:36.236Z"
   },
   {
    "duration": -202,
    "start_time": "2021-11-14T04:12:36.240Z"
   },
   {
    "duration": -205,
    "start_time": "2021-11-14T04:12:36.244Z"
   },
   {
    "duration": -254,
    "start_time": "2021-11-14T04:12:36.294Z"
   },
   {
    "duration": -259,
    "start_time": "2021-11-14T04:12:36.300Z"
   },
   {
    "duration": -264,
    "start_time": "2021-11-14T04:12:36.306Z"
   },
   {
    "duration": -268,
    "start_time": "2021-11-14T04:12:36.311Z"
   },
   {
    "duration": -274,
    "start_time": "2021-11-14T04:12:36.318Z"
   },
   {
    "duration": -278,
    "start_time": "2021-11-14T04:12:36.323Z"
   },
   {
    "duration": -283,
    "start_time": "2021-11-14T04:12:36.329Z"
   },
   {
    "duration": -361,
    "start_time": "2021-11-14T04:12:36.408Z"
   },
   {
    "duration": -413,
    "start_time": "2021-11-14T04:12:36.461Z"
   },
   {
    "duration": -417,
    "start_time": "2021-11-14T04:12:36.466Z"
   },
   {
    "duration": -422,
    "start_time": "2021-11-14T04:12:36.472Z"
   },
   {
    "duration": -425,
    "start_time": "2021-11-14T04:12:36.476Z"
   },
   {
    "duration": -430,
    "start_time": "2021-11-14T04:12:36.482Z"
   },
   {
    "duration": -434,
    "start_time": "2021-11-14T04:12:36.487Z"
   },
   {
    "duration": -438,
    "start_time": "2021-11-14T04:12:36.492Z"
   },
   {
    "duration": -441,
    "start_time": "2021-11-14T04:12:36.496Z"
   },
   {
    "duration": -444,
    "start_time": "2021-11-14T04:12:36.500Z"
   },
   {
    "duration": -446,
    "start_time": "2021-11-14T04:12:36.503Z"
   },
   {
    "duration": -449,
    "start_time": "2021-11-14T04:12:36.507Z"
   },
   {
    "duration": -453,
    "start_time": "2021-11-14T04:12:36.512Z"
   },
   {
    "duration": -457,
    "start_time": "2021-11-14T04:12:36.517Z"
   },
   {
    "duration": -459,
    "start_time": "2021-11-14T04:12:36.520Z"
   },
   {
    "duration": -462,
    "start_time": "2021-11-14T04:12:36.524Z"
   },
   {
    "duration": -437,
    "start_time": "2021-11-14T04:12:36.528Z"
   },
   {
    "duration": -440,
    "start_time": "2021-11-14T04:12:36.532Z"
   },
   {
    "duration": -449,
    "start_time": "2021-11-14T04:12:36.542Z"
   },
   {
    "duration": -452,
    "start_time": "2021-11-14T04:12:36.546Z"
   },
   {
    "duration": -456,
    "start_time": "2021-11-14T04:12:36.551Z"
   },
   {
    "duration": -460,
    "start_time": "2021-11-14T04:12:36.556Z"
   },
   {
    "duration": -462,
    "start_time": "2021-11-14T04:12:36.559Z"
   },
   {
    "duration": -482,
    "start_time": "2021-11-14T04:12:36.580Z"
   },
   {
    "duration": -486,
    "start_time": "2021-11-14T04:12:36.585Z"
   },
   {
    "duration": -490,
    "start_time": "2021-11-14T04:12:36.590Z"
   },
   {
    "duration": -494,
    "start_time": "2021-11-14T04:12:36.595Z"
   },
   {
    "duration": -499,
    "start_time": "2021-11-14T04:12:36.601Z"
   },
   {
    "duration": 5,
    "start_time": "2021-11-14T04:15:42.690Z"
   },
   {
    "duration": 751,
    "start_time": "2021-11-14T04:17:10.248Z"
   },
   {
    "duration": 194,
    "start_time": "2021-11-14T04:18:02.616Z"
   },
   {
    "duration": 10,
    "start_time": "2021-11-14T04:18:25.228Z"
   },
   {
    "duration": 129,
    "start_time": "2021-11-14T04:19:21.764Z"
   },
   {
    "duration": 5,
    "start_time": "2021-11-14T04:20:34.133Z"
   },
   {
    "duration": 6,
    "start_time": "2021-11-14T04:20:52.365Z"
   },
   {
    "duration": 6,
    "start_time": "2021-11-14T04:21:04.457Z"
   },
   {
    "duration": 7,
    "start_time": "2021-11-14T04:23:07.792Z"
   },
   {
    "duration": 191,
    "start_time": "2021-11-14T04:23:11.659Z"
   },
   {
    "duration": 314,
    "start_time": "2021-11-14T04:27:25.491Z"
   },
   {
    "duration": 320,
    "start_time": "2021-11-14T04:28:02.033Z"
   },
   {
    "duration": 323,
    "start_time": "2021-11-14T04:28:30.691Z"
   },
   {
    "duration": 466,
    "start_time": "2021-11-14T04:29:42.869Z"
   },
   {
    "duration": 307,
    "start_time": "2021-11-14T04:29:47.567Z"
   },
   {
    "duration": -135,
    "start_time": "2021-11-14T04:29:48.010Z"
   },
   {
    "duration": 221,
    "start_time": "2021-11-14T04:33:26.491Z"
   },
   {
    "duration": 1109,
    "start_time": "2021-11-14T04:33:42.772Z"
   },
   {
    "duration": 39,
    "start_time": "2021-11-14T04:33:43.883Z"
   },
   {
    "duration": 3,
    "start_time": "2021-11-14T04:33:43.924Z"
   },
   {
    "duration": 17,
    "start_time": "2021-11-14T04:33:43.928Z"
   },
   {
    "duration": 7,
    "start_time": "2021-11-14T04:33:43.946Z"
   },
   {
    "duration": 6,
    "start_time": "2021-11-14T04:33:43.954Z"
   },
   {
    "duration": 7,
    "start_time": "2021-11-14T04:33:43.962Z"
   },
   {
    "duration": 37,
    "start_time": "2021-11-14T04:33:43.992Z"
   },
   {
    "duration": 10,
    "start_time": "2021-11-14T04:33:44.031Z"
   },
   {
    "duration": 6,
    "start_time": "2021-11-14T04:33:44.042Z"
   },
   {
    "duration": 10,
    "start_time": "2021-11-14T04:33:44.050Z"
   },
   {
    "duration": 35,
    "start_time": "2021-11-14T04:33:44.061Z"
   },
   {
    "duration": 5,
    "start_time": "2021-11-14T04:33:44.097Z"
   },
   {
    "duration": 8,
    "start_time": "2021-11-14T04:33:44.103Z"
   },
   {
    "duration": 17,
    "start_time": "2021-11-14T04:33:44.112Z"
   },
   {
    "duration": 13,
    "start_time": "2021-11-14T04:33:44.131Z"
   },
   {
    "duration": 9,
    "start_time": "2021-11-14T04:33:44.145Z"
   },
   {
    "duration": 37,
    "start_time": "2021-11-14T04:33:44.155Z"
   },
   {
    "duration": 6,
    "start_time": "2021-11-14T04:33:44.193Z"
   },
   {
    "duration": 20,
    "start_time": "2021-11-14T04:33:44.201Z"
   },
   {
    "duration": 22,
    "start_time": "2021-11-14T04:33:44.222Z"
   },
   {
    "duration": 8,
    "start_time": "2021-11-14T04:33:44.245Z"
   },
   {
    "duration": 14,
    "start_time": "2021-11-14T04:33:44.292Z"
   },
   {
    "duration": 15,
    "start_time": "2021-11-14T04:33:44.308Z"
   },
   {
    "duration": 13,
    "start_time": "2021-11-14T04:33:44.324Z"
   },
   {
    "duration": 14,
    "start_time": "2021-11-14T04:33:44.339Z"
   },
   {
    "duration": 6,
    "start_time": "2021-11-14T04:33:44.354Z"
   },
   {
    "duration": 7,
    "start_time": "2021-11-14T04:33:44.361Z"
   },
   {
    "duration": 31,
    "start_time": "2021-11-14T04:33:44.369Z"
   },
   {
    "duration": 5,
    "start_time": "2021-11-14T04:33:44.401Z"
   },
   {
    "duration": 186,
    "start_time": "2021-11-14T04:33:44.408Z"
   },
   {
    "duration": 8,
    "start_time": "2021-11-14T04:33:44.595Z"
   },
   {
    "duration": 188,
    "start_time": "2021-11-14T04:33:44.605Z"
   },
   {
    "duration": 105,
    "start_time": "2021-11-14T04:33:44.794Z"
   },
   {
    "duration": 206,
    "start_time": "2021-11-14T04:33:44.901Z"
   },
   {
    "duration": 12,
    "start_time": "2021-11-14T04:33:45.108Z"
   },
   {
    "duration": 6,
    "start_time": "2021-11-14T04:33:45.122Z"
   },
   {
    "duration": 66,
    "start_time": "2021-11-14T04:33:45.129Z"
   },
   {
    "duration": 65,
    "start_time": "2021-11-14T04:33:45.197Z"
   },
   {
    "duration": 40,
    "start_time": "2021-11-14T04:33:45.263Z"
   },
   {
    "duration": 87,
    "start_time": "2021-11-14T04:33:45.305Z"
   },
   {
    "duration": 6233,
    "start_time": "2021-11-14T04:33:45.393Z"
   },
   {
    "duration": 94465,
    "start_time": "2021-11-14T04:33:51.627Z"
   },
   {
    "duration": 122,
    "start_time": "2021-11-14T04:35:26.094Z"
   },
   {
    "duration": 250,
    "start_time": "2021-11-14T04:35:26.218Z"
   },
   {
    "duration": 33,
    "start_time": "2021-11-14T04:35:26.470Z"
   },
   {
    "duration": 71,
    "start_time": "2021-11-14T04:35:26.504Z"
   },
   {
    "duration": -98,
    "start_time": "2021-11-14T04:35:26.676Z"
   },
   {
    "duration": -140,
    "start_time": "2021-11-14T04:35:26.718Z"
   },
   {
    "duration": -143,
    "start_time": "2021-11-14T04:35:26.722Z"
   },
   {
    "duration": -146,
    "start_time": "2021-11-14T04:35:26.726Z"
   },
   {
    "duration": -149,
    "start_time": "2021-11-14T04:35:26.730Z"
   },
   {
    "duration": -164,
    "start_time": "2021-11-14T04:35:26.746Z"
   },
   {
    "duration": -177,
    "start_time": "2021-11-14T04:35:26.760Z"
   },
   {
    "duration": -181,
    "start_time": "2021-11-14T04:35:26.765Z"
   },
   {
    "duration": -184,
    "start_time": "2021-11-14T04:35:26.769Z"
   },
   {
    "duration": -188,
    "start_time": "2021-11-14T04:35:26.774Z"
   },
   {
    "duration": -205,
    "start_time": "2021-11-14T04:35:26.792Z"
   },
   {
    "duration": -240,
    "start_time": "2021-11-14T04:35:26.827Z"
   },
   {
    "duration": -269,
    "start_time": "2021-11-14T04:35:26.857Z"
   },
   {
    "duration": -272,
    "start_time": "2021-11-14T04:35:26.861Z"
   },
   {
    "duration": -276,
    "start_time": "2021-11-14T04:35:26.866Z"
   },
   {
    "duration": -277,
    "start_time": "2021-11-14T04:35:26.869Z"
   },
   {
    "duration": -340,
    "start_time": "2021-11-14T04:35:26.933Z"
   },
   {
    "duration": -343,
    "start_time": "2021-11-14T04:35:26.937Z"
   },
   {
    "duration": -347,
    "start_time": "2021-11-14T04:35:26.942Z"
   },
   {
    "duration": -351,
    "start_time": "2021-11-14T04:35:26.946Z"
   },
   {
    "duration": -355,
    "start_time": "2021-11-14T04:35:26.951Z"
   },
   {
    "duration": -358,
    "start_time": "2021-11-14T04:35:26.955Z"
   },
   {
    "duration": -361,
    "start_time": "2021-11-14T04:35:26.959Z"
   },
   {
    "duration": -363,
    "start_time": "2021-11-14T04:35:26.962Z"
   },
   {
    "duration": -366,
    "start_time": "2021-11-14T04:35:26.966Z"
   },
   {
    "duration": -368,
    "start_time": "2021-11-14T04:35:26.969Z"
   },
   {
    "duration": -371,
    "start_time": "2021-11-14T04:35:26.973Z"
   },
   {
    "duration": -373,
    "start_time": "2021-11-14T04:35:26.976Z"
   },
   {
    "duration": -401,
    "start_time": "2021-11-14T04:35:27.005Z"
   },
   {
    "duration": -418,
    "start_time": "2021-11-14T04:35:27.023Z"
   },
   {
    "duration": -422,
    "start_time": "2021-11-14T04:35:27.028Z"
   },
   {
    "duration": -424,
    "start_time": "2021-11-14T04:35:27.031Z"
   },
   {
    "duration": -428,
    "start_time": "2021-11-14T04:35:27.036Z"
   },
   {
    "duration": -444,
    "start_time": "2021-11-14T04:35:27.053Z"
   },
   {
    "duration": -448,
    "start_time": "2021-11-14T04:35:27.058Z"
   },
   {
    "duration": -451,
    "start_time": "2021-11-14T04:35:27.062Z"
   },
   {
    "duration": -455,
    "start_time": "2021-11-14T04:35:27.067Z"
   },
   {
    "duration": -463,
    "start_time": "2021-11-14T04:35:27.076Z"
   },
   {
    "duration": -466,
    "start_time": "2021-11-14T04:35:27.080Z"
   },
   {
    "duration": -484,
    "start_time": "2021-11-14T04:35:27.098Z"
   },
   {
    "duration": 115,
    "start_time": "2021-11-14T04:35:53.159Z"
   },
   {
    "duration": 18,
    "start_time": "2021-11-14T04:35:55.353Z"
   },
   {
    "duration": 276,
    "start_time": "2021-11-14T04:44:05.249Z"
   },
   {
    "duration": 5,
    "start_time": "2021-11-14T04:45:11.721Z"
   },
   {
    "duration": 170,
    "start_time": "2021-11-14T04:47:01.404Z"
   },
   {
    "duration": 27,
    "start_time": "2021-11-14T04:56:26.028Z"
   },
   {
    "duration": 26,
    "start_time": "2021-11-14T04:56:51.038Z"
   },
   {
    "duration": 994,
    "start_time": "2021-11-14T04:58:41.820Z"
   },
   {
    "duration": 39,
    "start_time": "2021-11-14T04:58:42.816Z"
   },
   {
    "duration": 3,
    "start_time": "2021-11-14T04:58:42.857Z"
   },
   {
    "duration": 16,
    "start_time": "2021-11-14T04:58:42.861Z"
   },
   {
    "duration": 15,
    "start_time": "2021-11-14T04:58:42.878Z"
   },
   {
    "duration": 5,
    "start_time": "2021-11-14T04:58:42.894Z"
   },
   {
    "duration": 8,
    "start_time": "2021-11-14T04:58:42.901Z"
   },
   {
    "duration": 38,
    "start_time": "2021-11-14T04:58:42.910Z"
   },
   {
    "duration": 9,
    "start_time": "2021-11-14T04:58:42.951Z"
   },
   {
    "duration": 30,
    "start_time": "2021-11-14T04:58:42.962Z"
   },
   {
    "duration": 13,
    "start_time": "2021-11-14T04:58:42.994Z"
   },
   {
    "duration": 9,
    "start_time": "2021-11-14T04:58:43.009Z"
   },
   {
    "duration": 6,
    "start_time": "2021-11-14T04:58:43.019Z"
   },
   {
    "duration": 7,
    "start_time": "2021-11-14T04:58:43.027Z"
   },
   {
    "duration": 13,
    "start_time": "2021-11-14T04:58:43.035Z"
   },
   {
    "duration": 46,
    "start_time": "2021-11-14T04:58:43.049Z"
   },
   {
    "duration": 8,
    "start_time": "2021-11-14T04:58:43.097Z"
   },
   {
    "duration": 10,
    "start_time": "2021-11-14T04:58:43.107Z"
   },
   {
    "duration": 6,
    "start_time": "2021-11-14T04:58:43.119Z"
   },
   {
    "duration": 20,
    "start_time": "2021-11-14T04:58:43.127Z"
   },
   {
    "duration": 57,
    "start_time": "2021-11-14T04:58:43.149Z"
   },
   {
    "duration": 8,
    "start_time": "2021-11-14T04:58:43.208Z"
   },
   {
    "duration": 14,
    "start_time": "2021-11-14T04:58:43.217Z"
   },
   {
    "duration": 11,
    "start_time": "2021-11-14T04:58:43.232Z"
   },
   {
    "duration": 4,
    "start_time": "2021-11-14T04:58:43.244Z"
   },
   {
    "duration": 48,
    "start_time": "2021-11-14T04:58:43.249Z"
   },
   {
    "duration": 5,
    "start_time": "2021-11-14T04:58:43.300Z"
   },
   {
    "duration": 9,
    "start_time": "2021-11-14T04:58:43.307Z"
   },
   {
    "duration": 19,
    "start_time": "2021-11-14T04:58:43.318Z"
   },
   {
    "duration": 55,
    "start_time": "2021-11-14T04:58:43.338Z"
   },
   {
    "duration": 197,
    "start_time": "2021-11-14T04:58:43.395Z"
   },
   {
    "duration": 10,
    "start_time": "2021-11-14T04:58:43.593Z"
   },
   {
    "duration": 191,
    "start_time": "2021-11-14T04:58:43.605Z"
   },
   {
    "duration": 196,
    "start_time": "2021-11-14T04:58:43.797Z"
   },
   {
    "duration": 121,
    "start_time": "2021-11-14T04:58:43.995Z"
   },
   {
    "duration": 12,
    "start_time": "2021-11-14T04:58:44.118Z"
   },
   {
    "duration": 6,
    "start_time": "2021-11-14T04:58:44.131Z"
   },
   {
    "duration": 64,
    "start_time": "2021-11-14T04:58:44.138Z"
   },
   {
    "duration": 109,
    "start_time": "2021-11-14T04:58:44.204Z"
   },
   {
    "duration": 23,
    "start_time": "2021-11-14T04:58:44.314Z"
   },
   {
    "duration": 86,
    "start_time": "2021-11-14T04:58:44.339Z"
   },
   {
    "duration": 6141,
    "start_time": "2021-11-14T04:58:44.426Z"
   },
   {
    "duration": 23277,
    "start_time": "2021-11-14T04:58:50.569Z"
   },
   {
    "duration": -252,
    "start_time": "2021-11-14T04:59:14.100Z"
   },
   {
    "duration": -254,
    "start_time": "2021-11-14T04:59:14.103Z"
   },
   {
    "duration": -255,
    "start_time": "2021-11-14T04:59:14.105Z"
   },
   {
    "duration": 1063,
    "start_time": "2021-11-14T04:59:44.586Z"
   },
   {
    "duration": 41,
    "start_time": "2021-11-14T04:59:45.650Z"
   },
   {
    "duration": 3,
    "start_time": "2021-11-14T04:59:45.693Z"
   },
   {
    "duration": 17,
    "start_time": "2021-11-14T04:59:45.698Z"
   },
   {
    "duration": 7,
    "start_time": "2021-11-14T04:59:45.716Z"
   },
   {
    "duration": 5,
    "start_time": "2021-11-14T04:59:45.725Z"
   },
   {
    "duration": 7,
    "start_time": "2021-11-14T04:59:45.732Z"
   },
   {
    "duration": 66,
    "start_time": "2021-11-14T04:59:45.741Z"
   },
   {
    "duration": 10,
    "start_time": "2021-11-14T04:59:45.809Z"
   },
   {
    "duration": 6,
    "start_time": "2021-11-14T04:59:45.821Z"
   },
   {
    "duration": 10,
    "start_time": "2021-11-14T04:59:45.828Z"
   },
   {
    "duration": 9,
    "start_time": "2021-11-14T04:59:45.840Z"
   },
   {
    "duration": 4,
    "start_time": "2021-11-14T04:59:45.850Z"
   },
   {
    "duration": 40,
    "start_time": "2021-11-14T04:59:45.855Z"
   },
   {
    "duration": 13,
    "start_time": "2021-11-14T04:59:45.897Z"
   },
   {
    "duration": 12,
    "start_time": "2021-11-14T04:59:45.912Z"
   },
   {
    "duration": 8,
    "start_time": "2021-11-14T04:59:45.925Z"
   },
   {
    "duration": 8,
    "start_time": "2021-11-14T04:59:45.935Z"
   },
   {
    "duration": 6,
    "start_time": "2021-11-14T04:59:45.945Z"
   },
   {
    "duration": 57,
    "start_time": "2021-11-14T04:59:45.952Z"
   },
   {
    "duration": 21,
    "start_time": "2021-11-14T04:59:46.010Z"
   },
   {
    "duration": 8,
    "start_time": "2021-11-14T04:59:46.032Z"
   },
   {
    "duration": 12,
    "start_time": "2021-11-14T04:59:46.043Z"
   },
   {
    "duration": 42,
    "start_time": "2021-11-14T04:59:46.057Z"
   },
   {
    "duration": 4,
    "start_time": "2021-11-14T04:59:46.101Z"
   },
   {
    "duration": 15,
    "start_time": "2021-11-14T04:59:46.106Z"
   },
   {
    "duration": 5,
    "start_time": "2021-11-14T04:59:46.122Z"
   },
   {
    "duration": 7,
    "start_time": "2021-11-14T04:59:46.128Z"
   },
   {
    "duration": 12,
    "start_time": "2021-11-14T04:59:46.136Z"
   },
   {
    "duration": 44,
    "start_time": "2021-11-14T04:59:46.149Z"
   },
   {
    "duration": 199,
    "start_time": "2021-11-14T04:59:46.195Z"
   },
   {
    "duration": 100,
    "start_time": "2021-11-14T04:59:46.397Z"
   },
   {
    "duration": 12,
    "start_time": "2021-11-14T04:59:46.591Z"
   },
   {
    "duration": 96,
    "start_time": "2021-11-14T04:59:46.605Z"
   },
   {
    "duration": 118,
    "start_time": "2021-11-14T04:59:46.793Z"
   },
   {
    "duration": 12,
    "start_time": "2021-11-14T04:59:46.913Z"
   },
   {
    "duration": 6,
    "start_time": "2021-11-14T04:59:46.927Z"
   },
   {
    "duration": 84,
    "start_time": "2021-11-14T04:59:46.934Z"
   },
   {
    "duration": 72,
    "start_time": "2021-11-14T04:59:47.020Z"
   },
   {
    "duration": 24,
    "start_time": "2021-11-14T04:59:47.093Z"
   },
   {
    "duration": 85,
    "start_time": "2021-11-14T04:59:47.119Z"
   },
   {
    "duration": 6263,
    "start_time": "2021-11-14T04:59:47.205Z"
   },
   {
    "duration": 43202,
    "start_time": "2021-11-14T04:59:53.469Z"
   },
   {
    "duration": -260,
    "start_time": "2021-11-14T05:00:36.933Z"
   },
   {
    "duration": -409,
    "start_time": "2021-11-14T05:00:37.083Z"
   },
   {
    "duration": -418,
    "start_time": "2021-11-14T05:00:37.093Z"
   },
   {
    "duration": 1015,
    "start_time": "2021-11-14T05:00:59.505Z"
   },
   {
    "duration": 42,
    "start_time": "2021-11-14T05:01:00.522Z"
   },
   {
    "duration": 3,
    "start_time": "2021-11-14T05:01:00.566Z"
   },
   {
    "duration": 29,
    "start_time": "2021-11-14T05:01:00.571Z"
   },
   {
    "duration": 7,
    "start_time": "2021-11-14T05:01:00.601Z"
   },
   {
    "duration": 8,
    "start_time": "2021-11-14T05:01:00.610Z"
   },
   {
    "duration": 17,
    "start_time": "2021-11-14T05:01:00.619Z"
   },
   {
    "duration": 48,
    "start_time": "2021-11-14T05:01:00.637Z"
   },
   {
    "duration": 11,
    "start_time": "2021-11-14T05:01:00.692Z"
   },
   {
    "duration": 12,
    "start_time": "2021-11-14T05:01:00.706Z"
   },
   {
    "duration": 17,
    "start_time": "2021-11-14T05:01:00.720Z"
   },
   {
    "duration": 18,
    "start_time": "2021-11-14T05:01:00.739Z"
   },
   {
    "duration": 18,
    "start_time": "2021-11-14T05:01:00.758Z"
   },
   {
    "duration": 25,
    "start_time": "2021-11-14T05:01:00.777Z"
   },
   {
    "duration": 32,
    "start_time": "2021-11-14T05:01:00.803Z"
   },
   {
    "duration": 28,
    "start_time": "2021-11-14T05:01:00.837Z"
   },
   {
    "duration": 10,
    "start_time": "2021-11-14T05:01:00.867Z"
   },
   {
    "duration": 13,
    "start_time": "2021-11-14T05:01:00.879Z"
   },
   {
    "duration": 9,
    "start_time": "2021-11-14T05:01:00.894Z"
   },
   {
    "duration": 24,
    "start_time": "2021-11-14T05:01:00.904Z"
   },
   {
    "duration": 23,
    "start_time": "2021-11-14T05:01:00.930Z"
   },
   {
    "duration": 43,
    "start_time": "2021-11-14T05:01:00.955Z"
   },
   {
    "duration": 16,
    "start_time": "2021-11-14T05:01:01.000Z"
   },
   {
    "duration": 13,
    "start_time": "2021-11-14T05:01:01.018Z"
   },
   {
    "duration": 7,
    "start_time": "2021-11-14T05:01:01.033Z"
   },
   {
    "duration": 24,
    "start_time": "2021-11-14T05:01:01.042Z"
   },
   {
    "duration": 13,
    "start_time": "2021-11-14T05:01:01.094Z"
   },
   {
    "duration": 13,
    "start_time": "2021-11-14T05:01:01.110Z"
   },
   {
    "duration": 18,
    "start_time": "2021-11-14T05:01:01.125Z"
   },
   {
    "duration": 48,
    "start_time": "2021-11-14T05:01:01.145Z"
   },
   {
    "duration": 103,
    "start_time": "2021-11-14T05:01:01.195Z"
   },
   {
    "duration": 9,
    "start_time": "2021-11-14T05:01:01.391Z"
   },
   {
    "duration": 98,
    "start_time": "2021-11-14T05:01:01.402Z"
   },
   {
    "duration": 201,
    "start_time": "2021-11-14T05:01:01.591Z"
   },
   {
    "duration": 121,
    "start_time": "2021-11-14T05:01:01.795Z"
   },
   {
    "duration": 13,
    "start_time": "2021-11-14T05:01:01.918Z"
   },
   {
    "duration": 6,
    "start_time": "2021-11-14T05:01:01.932Z"
   },
   {
    "duration": 66,
    "start_time": "2021-11-14T05:01:01.940Z"
   },
   {
    "duration": 66,
    "start_time": "2021-11-14T05:01:02.008Z"
   },
   {
    "duration": 36,
    "start_time": "2021-11-14T05:01:02.076Z"
   },
   {
    "duration": 94,
    "start_time": "2021-11-14T05:01:02.113Z"
   },
   {
    "duration": 5968,
    "start_time": "2021-11-14T05:01:02.208Z"
   },
   {
    "duration": 1209,
    "start_time": "2021-11-14T05:01:08.177Z"
   },
   {
    "duration": 113,
    "start_time": "2021-11-14T05:01:09.391Z"
   },
   {
    "duration": 26,
    "start_time": "2021-11-14T05:01:09.506Z"
   },
   {
    "duration": 179,
    "start_time": "2021-11-14T05:01:09.534Z"
   },
   {
    "duration": 163,
    "start_time": "2021-11-14T05:02:41.380Z"
   },
   {
    "duration": 168,
    "start_time": "2021-11-14T05:03:01.479Z"
   },
   {
    "duration": 1107,
    "start_time": "2021-11-14T05:29:36.184Z"
   },
   {
    "duration": 43,
    "start_time": "2021-11-14T05:29:37.293Z"
   },
   {
    "duration": 3,
    "start_time": "2021-11-14T05:29:37.339Z"
   },
   {
    "duration": 18,
    "start_time": "2021-11-14T05:29:37.345Z"
   },
   {
    "duration": 8,
    "start_time": "2021-11-14T05:29:37.365Z"
   },
   {
    "duration": 19,
    "start_time": "2021-11-14T05:29:37.375Z"
   },
   {
    "duration": 8,
    "start_time": "2021-11-14T05:29:37.395Z"
   },
   {
    "duration": 39,
    "start_time": "2021-11-14T05:29:37.404Z"
   },
   {
    "duration": 11,
    "start_time": "2021-11-14T05:29:37.446Z"
   },
   {
    "duration": 4,
    "start_time": "2021-11-14T05:29:37.491Z"
   },
   {
    "duration": 11,
    "start_time": "2021-11-14T05:29:37.497Z"
   },
   {
    "duration": 11,
    "start_time": "2021-11-14T05:29:37.510Z"
   },
   {
    "duration": 5,
    "start_time": "2021-11-14T05:29:37.522Z"
   },
   {
    "duration": 8,
    "start_time": "2021-11-14T05:29:37.529Z"
   },
   {
    "duration": 53,
    "start_time": "2021-11-14T05:29:37.539Z"
   },
   {
    "duration": 14,
    "start_time": "2021-11-14T05:29:37.594Z"
   },
   {
    "duration": 9,
    "start_time": "2021-11-14T05:29:37.610Z"
   },
   {
    "duration": 10,
    "start_time": "2021-11-14T05:29:37.621Z"
   },
   {
    "duration": 7,
    "start_time": "2021-11-14T05:29:37.633Z"
   },
   {
    "duration": 58,
    "start_time": "2021-11-14T05:29:37.641Z"
   },
   {
    "duration": 21,
    "start_time": "2021-11-14T05:29:37.701Z"
   },
   {
    "duration": 7,
    "start_time": "2021-11-14T05:29:37.724Z"
   },
   {
    "duration": 14,
    "start_time": "2021-11-14T05:29:37.733Z"
   },
   {
    "duration": 47,
    "start_time": "2021-11-14T05:29:37.748Z"
   },
   {
    "duration": 4,
    "start_time": "2021-11-14T05:29:37.796Z"
   },
   {
    "duration": 18,
    "start_time": "2021-11-14T05:29:37.801Z"
   },
   {
    "duration": 5,
    "start_time": "2021-11-14T05:29:37.822Z"
   },
   {
    "duration": 7,
    "start_time": "2021-11-14T05:29:37.829Z"
   },
   {
    "duration": 14,
    "start_time": "2021-11-14T05:29:37.837Z"
   },
   {
    "duration": 51,
    "start_time": "2021-11-14T05:29:37.852Z"
   },
   {
    "duration": 192,
    "start_time": "2021-11-14T05:29:37.904Z"
   },
   {
    "duration": 98,
    "start_time": "2021-11-14T05:29:38.099Z"
   },
   {
    "duration": 103,
    "start_time": "2021-11-14T05:29:38.199Z"
   },
   {
    "duration": 188,
    "start_time": "2021-11-14T05:29:38.304Z"
   },
   {
    "duration": 115,
    "start_time": "2021-11-14T05:29:38.494Z"
   },
   {
    "duration": 13,
    "start_time": "2021-11-14T05:29:38.610Z"
   },
   {
    "duration": 6,
    "start_time": "2021-11-14T05:29:38.625Z"
   },
   {
    "duration": 68,
    "start_time": "2021-11-14T05:29:38.632Z"
   },
   {
    "duration": 65,
    "start_time": "2021-11-14T05:29:38.701Z"
   },
   {
    "duration": 36,
    "start_time": "2021-11-14T05:29:38.767Z"
   },
   {
    "duration": 95,
    "start_time": "2021-11-14T05:29:38.804Z"
   },
   {
    "duration": 5867,
    "start_time": "2021-11-14T05:29:38.901Z"
   },
   {
    "duration": 1206,
    "start_time": "2021-11-14T05:29:44.770Z"
   },
   {
    "duration": 116,
    "start_time": "2021-11-14T05:29:45.977Z"
   },
   {
    "duration": 24,
    "start_time": "2021-11-14T05:29:46.095Z"
   },
   {
    "duration": 180,
    "start_time": "2021-11-14T05:29:46.121Z"
   },
   {
    "duration": 88,
    "start_time": "2021-11-14T05:30:56.221Z"
   },
   {
    "duration": 1086,
    "start_time": "2021-11-14T05:31:45.021Z"
   },
   {
    "duration": 41,
    "start_time": "2021-11-14T05:31:46.108Z"
   },
   {
    "duration": 3,
    "start_time": "2021-11-14T05:31:46.151Z"
   },
   {
    "duration": 16,
    "start_time": "2021-11-14T05:31:46.156Z"
   },
   {
    "duration": 17,
    "start_time": "2021-11-14T05:31:46.174Z"
   },
   {
    "duration": 5,
    "start_time": "2021-11-14T05:31:46.193Z"
   },
   {
    "duration": 8,
    "start_time": "2021-11-14T05:31:46.200Z"
   },
   {
    "duration": 40,
    "start_time": "2021-11-14T05:31:46.210Z"
   },
   {
    "duration": 10,
    "start_time": "2021-11-14T05:31:46.253Z"
   },
   {
    "duration": 27,
    "start_time": "2021-11-14T05:31:46.265Z"
   },
   {
    "duration": 11,
    "start_time": "2021-11-14T05:31:46.293Z"
   },
   {
    "duration": 10,
    "start_time": "2021-11-14T05:31:46.305Z"
   },
   {
    "duration": 7,
    "start_time": "2021-11-14T05:31:46.317Z"
   },
   {
    "duration": 7,
    "start_time": "2021-11-14T05:31:46.325Z"
   },
   {
    "duration": 14,
    "start_time": "2021-11-14T05:31:46.334Z"
   },
   {
    "duration": 46,
    "start_time": "2021-11-14T05:31:46.349Z"
   },
   {
    "duration": 9,
    "start_time": "2021-11-14T05:31:46.396Z"
   },
   {
    "duration": 10,
    "start_time": "2021-11-14T05:31:46.407Z"
   },
   {
    "duration": 6,
    "start_time": "2021-11-14T05:31:46.419Z"
   },
   {
    "duration": 21,
    "start_time": "2021-11-14T05:31:46.427Z"
   },
   {
    "duration": 62,
    "start_time": "2021-11-14T05:31:46.450Z"
   },
   {
    "duration": 8,
    "start_time": "2021-11-14T05:31:46.513Z"
   },
   {
    "duration": 14,
    "start_time": "2021-11-14T05:31:46.523Z"
   },
   {
    "duration": 12,
    "start_time": "2021-11-14T05:31:46.538Z"
   },
   {
    "duration": 4,
    "start_time": "2021-11-14T05:31:46.552Z"
   },
   {
    "duration": 46,
    "start_time": "2021-11-14T05:31:46.557Z"
   },
   {
    "duration": 6,
    "start_time": "2021-11-14T05:31:46.606Z"
   },
   {
    "duration": 8,
    "start_time": "2021-11-14T05:31:46.614Z"
   },
   {
    "duration": 14,
    "start_time": "2021-11-14T05:31:46.623Z"
   },
   {
    "duration": 55,
    "start_time": "2021-11-14T05:31:46.638Z"
   },
   {
    "duration": 198,
    "start_time": "2021-11-14T05:31:46.696Z"
   },
   {
    "duration": 9,
    "start_time": "2021-11-14T05:31:46.896Z"
   },
   {
    "duration": 185,
    "start_time": "2021-11-14T05:31:46.908Z"
   },
   {
    "duration": 199,
    "start_time": "2021-11-14T05:31:47.094Z"
   },
   {
    "duration": 116,
    "start_time": "2021-11-14T05:31:47.295Z"
   },
   {
    "duration": 14,
    "start_time": "2021-11-14T05:31:47.412Z"
   },
   {
    "duration": 8,
    "start_time": "2021-11-14T05:31:47.428Z"
   },
   {
    "duration": 65,
    "start_time": "2021-11-14T05:31:47.437Z"
   },
   {
    "duration": 64,
    "start_time": "2021-11-14T05:31:47.504Z"
   },
   {
    "duration": 35,
    "start_time": "2021-11-14T05:31:47.569Z"
   },
   {
    "duration": 98,
    "start_time": "2021-11-14T05:31:47.605Z"
   },
   {
    "duration": 6178,
    "start_time": "2021-11-14T05:31:47.704Z"
   },
   {
    "duration": 29710,
    "start_time": "2021-11-14T05:31:53.884Z"
   },
   {
    "duration": 121,
    "start_time": "2021-11-14T05:32:23.595Z"
   },
   {
    "duration": 26,
    "start_time": "2021-11-14T05:32:23.717Z"
   },
   {
    "duration": 182,
    "start_time": "2021-11-14T05:32:23.745Z"
   },
   {
    "duration": 155,
    "start_time": "2021-11-14T05:33:00.199Z"
   },
   {
    "duration": 30,
    "start_time": "2021-11-14T05:33:07.249Z"
   },
   {
    "duration": 1058,
    "start_time": "2021-11-14T05:33:23.559Z"
   },
   {
    "duration": 41,
    "start_time": "2021-11-14T05:33:24.619Z"
   },
   {
    "duration": 3,
    "start_time": "2021-11-14T05:33:24.663Z"
   },
   {
    "duration": 25,
    "start_time": "2021-11-14T05:33:24.668Z"
   },
   {
    "duration": 8,
    "start_time": "2021-11-14T05:33:24.694Z"
   },
   {
    "duration": 20,
    "start_time": "2021-11-14T05:33:24.704Z"
   },
   {
    "duration": 16,
    "start_time": "2021-11-14T05:33:24.726Z"
   },
   {
    "duration": 55,
    "start_time": "2021-11-14T05:33:24.744Z"
   },
   {
    "duration": 10,
    "start_time": "2021-11-14T05:33:24.802Z"
   },
   {
    "duration": 27,
    "start_time": "2021-11-14T05:33:24.814Z"
   },
   {
    "duration": 23,
    "start_time": "2021-11-14T05:33:24.843Z"
   },
   {
    "duration": 12,
    "start_time": "2021-11-14T05:33:24.868Z"
   },
   {
    "duration": 11,
    "start_time": "2021-11-14T05:33:24.881Z"
   },
   {
    "duration": 13,
    "start_time": "2021-11-14T05:33:24.894Z"
   },
   {
    "duration": 25,
    "start_time": "2021-11-14T05:33:24.909Z"
   },
   {
    "duration": 12,
    "start_time": "2021-11-14T05:33:24.936Z"
   },
   {
    "duration": 8,
    "start_time": "2021-11-14T05:33:24.950Z"
   },
   {
    "duration": 10,
    "start_time": "2021-11-14T05:33:24.960Z"
   },
   {
    "duration": 23,
    "start_time": "2021-11-14T05:33:24.972Z"
   },
   {
    "duration": 22,
    "start_time": "2021-11-14T05:33:24.996Z"
   },
   {
    "duration": 23,
    "start_time": "2021-11-14T05:33:25.019Z"
   },
   {
    "duration": 10,
    "start_time": "2021-11-14T05:33:25.044Z"
   },
   {
    "duration": 38,
    "start_time": "2021-11-14T05:33:25.055Z"
   },
   {
    "duration": 11,
    "start_time": "2021-11-14T05:33:25.095Z"
   },
   {
    "duration": 16,
    "start_time": "2021-11-14T05:33:25.107Z"
   },
   {
    "duration": 15,
    "start_time": "2021-11-14T05:33:25.125Z"
   },
   {
    "duration": 5,
    "start_time": "2021-11-14T05:33:25.144Z"
   },
   {
    "duration": 17,
    "start_time": "2021-11-14T05:33:25.151Z"
   },
   {
    "duration": 23,
    "start_time": "2021-11-14T05:33:25.170Z"
   },
   {
    "duration": 11,
    "start_time": "2021-11-14T05:33:25.195Z"
   },
   {
    "duration": 288,
    "start_time": "2021-11-14T05:33:25.208Z"
   },
   {
    "duration": 192,
    "start_time": "2021-11-14T05:33:25.498Z"
   },
   {
    "duration": 13,
    "start_time": "2021-11-14T05:33:25.692Z"
   },
   {
    "duration": 191,
    "start_time": "2021-11-14T05:33:25.707Z"
   },
   {
    "duration": 115,
    "start_time": "2021-11-14T05:33:25.901Z"
   },
   {
    "duration": 14,
    "start_time": "2021-11-14T05:33:26.092Z"
   },
   {
    "duration": 7,
    "start_time": "2021-11-14T05:33:26.107Z"
   },
   {
    "duration": 45,
    "start_time": "2021-11-14T05:33:26.116Z"
   },
   {
    "duration": 91,
    "start_time": "2021-11-14T05:33:26.163Z"
   },
   {
    "duration": 23,
    "start_time": "2021-11-14T05:33:26.256Z"
   },
   {
    "duration": 92,
    "start_time": "2021-11-14T05:33:26.281Z"
   },
   {
    "duration": 5958,
    "start_time": "2021-11-14T05:33:26.374Z"
   },
   {
    "duration": 30047,
    "start_time": "2021-11-14T05:33:32.334Z"
   },
   {
    "duration": 123,
    "start_time": "2021-11-14T05:34:02.383Z"
   },
   {
    "duration": 25,
    "start_time": "2021-11-14T05:34:02.508Z"
   },
   {
    "duration": 185,
    "start_time": "2021-11-14T05:34:02.535Z"
   },
   {
    "duration": 110,
    "start_time": "2021-11-14T05:36:15.329Z"
   },
   {
    "duration": 27,
    "start_time": "2021-11-14T05:36:19.913Z"
   },
   {
    "duration": 115,
    "start_time": "2021-11-14T05:36:27.546Z"
   },
   {
    "duration": 29,
    "start_time": "2021-11-14T05:36:30.518Z"
   },
   {
    "duration": 1091,
    "start_time": "2021-11-14T05:36:42.874Z"
   },
   {
    "duration": 40,
    "start_time": "2021-11-14T05:36:43.967Z"
   },
   {
    "duration": 3,
    "start_time": "2021-11-14T05:36:44.010Z"
   },
   {
    "duration": 16,
    "start_time": "2021-11-14T05:36:44.015Z"
   },
   {
    "duration": 7,
    "start_time": "2021-11-14T05:36:44.032Z"
   },
   {
    "duration": 5,
    "start_time": "2021-11-14T05:36:44.041Z"
   },
   {
    "duration": 8,
    "start_time": "2021-11-14T05:36:44.047Z"
   },
   {
    "duration": 68,
    "start_time": "2021-11-14T05:36:44.056Z"
   },
   {
    "duration": 10,
    "start_time": "2021-11-14T05:36:44.126Z"
   },
   {
    "duration": 13,
    "start_time": "2021-11-14T05:36:44.138Z"
   },
   {
    "duration": 14,
    "start_time": "2021-11-14T05:36:44.152Z"
   },
   {
    "duration": 25,
    "start_time": "2021-11-14T05:36:44.168Z"
   },
   {
    "duration": 4,
    "start_time": "2021-11-14T05:36:44.194Z"
   },
   {
    "duration": 11,
    "start_time": "2021-11-14T05:36:44.200Z"
   },
   {
    "duration": 16,
    "start_time": "2021-11-14T05:36:44.212Z"
   },
   {
    "duration": 13,
    "start_time": "2021-11-14T05:36:44.229Z"
   },
   {
    "duration": 13,
    "start_time": "2021-11-14T05:36:44.243Z"
   },
   {
    "duration": 33,
    "start_time": "2021-11-14T05:36:44.258Z"
   },
   {
    "duration": 7,
    "start_time": "2021-11-14T05:36:44.292Z"
   },
   {
    "duration": 21,
    "start_time": "2021-11-14T05:36:44.301Z"
   },
   {
    "duration": 21,
    "start_time": "2021-11-14T05:36:44.324Z"
   },
   {
    "duration": 7,
    "start_time": "2021-11-14T05:36:44.346Z"
   },
   {
    "duration": 42,
    "start_time": "2021-11-14T05:36:44.355Z"
   },
   {
    "duration": 10,
    "start_time": "2021-11-14T05:36:44.398Z"
   },
   {
    "duration": 14,
    "start_time": "2021-11-14T05:36:44.409Z"
   },
   {
    "duration": 16,
    "start_time": "2021-11-14T05:36:44.425Z"
   },
   {
    "duration": 5,
    "start_time": "2021-11-14T05:36:44.444Z"
   },
   {
    "duration": 7,
    "start_time": "2021-11-14T05:36:44.451Z"
   },
   {
    "duration": 33,
    "start_time": "2021-11-14T05:36:44.460Z"
   },
   {
    "duration": 7,
    "start_time": "2021-11-14T05:36:44.495Z"
   },
   {
    "duration": 193,
    "start_time": "2021-11-14T05:36:44.506Z"
   },
   {
    "duration": 189,
    "start_time": "2021-11-14T05:36:44.702Z"
   },
   {
    "duration": 103,
    "start_time": "2021-11-14T05:36:44.895Z"
   },
   {
    "duration": 98,
    "start_time": "2021-11-14T05:36:45.000Z"
   },
   {
    "duration": 202,
    "start_time": "2021-11-14T05:36:45.101Z"
   },
   {
    "duration": 12,
    "start_time": "2021-11-14T05:36:45.304Z"
   },
   {
    "duration": 7,
    "start_time": "2021-11-14T05:36:45.318Z"
   },
   {
    "duration": 71,
    "start_time": "2021-11-14T05:36:45.327Z"
   },
   {
    "duration": 67,
    "start_time": "2021-11-14T05:36:45.400Z"
   },
   {
    "duration": 41,
    "start_time": "2021-11-14T05:36:45.469Z"
   },
   {
    "duration": 100,
    "start_time": "2021-11-14T05:36:45.512Z"
   },
   {
    "duration": 5978,
    "start_time": "2021-11-14T05:36:45.614Z"
   },
   {
    "duration": 29640,
    "start_time": "2021-11-14T05:36:51.595Z"
   },
   {
    "duration": 119,
    "start_time": "2021-11-14T05:37:21.237Z"
   },
   {
    "duration": 37,
    "start_time": "2021-11-14T05:37:21.358Z"
   },
   {
    "duration": 168,
    "start_time": "2021-11-14T05:37:21.396Z"
   },
   {
    "duration": 1621,
    "start_time": "2021-11-14T14:45:14.203Z"
   },
   {
    "duration": 54,
    "start_time": "2021-11-14T14:45:15.826Z"
   },
   {
    "duration": 5,
    "start_time": "2021-11-14T14:45:15.883Z"
   },
   {
    "duration": 24,
    "start_time": "2021-11-14T14:45:15.891Z"
   },
   {
    "duration": 12,
    "start_time": "2021-11-14T14:45:15.917Z"
   },
   {
    "duration": 9,
    "start_time": "2021-11-14T14:45:15.931Z"
   },
   {
    "duration": 11,
    "start_time": "2021-11-14T14:45:15.983Z"
   },
   {
    "duration": 61,
    "start_time": "2021-11-14T14:45:15.998Z"
   },
   {
    "duration": 17,
    "start_time": "2021-11-14T14:45:16.082Z"
   },
   {
    "duration": 11,
    "start_time": "2021-11-14T14:45:16.101Z"
   },
   {
    "duration": 14,
    "start_time": "2021-11-14T14:45:16.115Z"
   },
   {
    "duration": 53,
    "start_time": "2021-11-14T14:45:16.131Z"
   },
   {
    "duration": 10,
    "start_time": "2021-11-14T14:45:16.186Z"
   },
   {
    "duration": 11,
    "start_time": "2021-11-14T14:45:16.198Z"
   },
   {
    "duration": 20,
    "start_time": "2021-11-14T14:45:16.211Z"
   },
   {
    "duration": 53,
    "start_time": "2021-11-14T14:45:16.233Z"
   },
   {
    "duration": 13,
    "start_time": "2021-11-14T14:45:16.288Z"
   },
   {
    "duration": 1372,
    "start_time": "2021-11-14T14:45:16.304Z"
   },
   {
    "duration": -254,
    "start_time": "2021-11-14T14:45:17.933Z"
   },
   {
    "duration": -263,
    "start_time": "2021-11-14T14:45:17.944Z"
   },
   {
    "duration": -265,
    "start_time": "2021-11-14T14:45:17.947Z"
   },
   {
    "duration": -268,
    "start_time": "2021-11-14T14:45:17.951Z"
   },
   {
    "duration": -269,
    "start_time": "2021-11-14T14:45:17.954Z"
   },
   {
    "duration": -271,
    "start_time": "2021-11-14T14:45:17.957Z"
   },
   {
    "duration": -272,
    "start_time": "2021-11-14T14:45:17.959Z"
   },
   {
    "duration": -276,
    "start_time": "2021-11-14T14:45:17.964Z"
   },
   {
    "duration": -278,
    "start_time": "2021-11-14T14:45:17.968Z"
   },
   {
    "duration": -279,
    "start_time": "2021-11-14T14:45:17.970Z"
   },
   {
    "duration": -281,
    "start_time": "2021-11-14T14:45:17.973Z"
   },
   {
    "duration": -282,
    "start_time": "2021-11-14T14:45:17.975Z"
   },
   {
    "duration": -284,
    "start_time": "2021-11-14T14:45:17.978Z"
   },
   {
    "duration": -285,
    "start_time": "2021-11-14T14:45:17.981Z"
   },
   {
    "duration": -286,
    "start_time": "2021-11-14T14:45:17.983Z"
   },
   {
    "duration": -288,
    "start_time": "2021-11-14T14:45:17.986Z"
   },
   {
    "duration": -289,
    "start_time": "2021-11-14T14:45:17.988Z"
   },
   {
    "duration": -291,
    "start_time": "2021-11-14T14:45:17.991Z"
   },
   {
    "duration": -293,
    "start_time": "2021-11-14T14:45:17.994Z"
   },
   {
    "duration": -293,
    "start_time": "2021-11-14T14:45:17.996Z"
   },
   {
    "duration": -385,
    "start_time": "2021-11-14T14:45:18.089Z"
   },
   {
    "duration": -398,
    "start_time": "2021-11-14T14:45:18.103Z"
   },
   {
    "duration": -400,
    "start_time": "2021-11-14T14:45:18.107Z"
   },
   {
    "duration": -402,
    "start_time": "2021-11-14T14:45:18.110Z"
   },
   {
    "duration": -404,
    "start_time": "2021-11-14T14:45:18.113Z"
   },
   {
    "duration": -421,
    "start_time": "2021-11-14T14:45:18.131Z"
   },
   {
    "duration": -425,
    "start_time": "2021-11-14T14:45:18.136Z"
   },
   {
    "duration": -426,
    "start_time": "2021-11-14T14:45:18.139Z"
   },
   {
    "duration": 17,
    "start_time": "2021-11-14T14:47:34.463Z"
   },
   {
    "duration": 9,
    "start_time": "2021-11-14T14:48:07.888Z"
   },
   {
    "duration": 1432,
    "start_time": "2021-11-14T14:49:24.786Z"
   },
   {
    "duration": 52,
    "start_time": "2021-11-14T14:49:26.221Z"
   },
   {
    "duration": 8,
    "start_time": "2021-11-14T14:49:26.276Z"
   },
   {
    "duration": 22,
    "start_time": "2021-11-14T14:49:26.286Z"
   },
   {
    "duration": 9,
    "start_time": "2021-11-14T14:49:26.311Z"
   },
   {
    "duration": 10,
    "start_time": "2021-11-14T14:49:26.322Z"
   },
   {
    "duration": 48,
    "start_time": "2021-11-14T14:49:26.334Z"
   },
   {
    "duration": 62,
    "start_time": "2021-11-14T14:49:26.384Z"
   },
   {
    "duration": 38,
    "start_time": "2021-11-14T14:49:26.450Z"
   },
   {
    "duration": 6,
    "start_time": "2021-11-14T14:49:26.492Z"
   },
   {
    "duration": 13,
    "start_time": "2021-11-14T14:49:26.501Z"
   },
   {
    "duration": 16,
    "start_time": "2021-11-14T14:49:26.516Z"
   },
   {
    "duration": 49,
    "start_time": "2021-11-14T14:49:26.534Z"
   },
   {
    "duration": 13,
    "start_time": "2021-11-14T14:49:26.586Z"
   },
   {
    "duration": 19,
    "start_time": "2021-11-14T14:49:26.601Z"
   },
   {
    "duration": 20,
    "start_time": "2021-11-14T14:49:26.629Z"
   },
   {
    "duration": 37,
    "start_time": "2021-11-14T14:49:26.652Z"
   },
   {
    "duration": 16,
    "start_time": "2021-11-14T14:49:26.692Z"
   },
   {
    "duration": 480,
    "start_time": "2021-11-14T14:49:26.710Z"
   },
   {
    "duration": -138,
    "start_time": "2021-11-14T14:49:27.331Z"
   },
   {
    "duration": -141,
    "start_time": "2021-11-14T14:49:27.336Z"
   },
   {
    "duration": -145,
    "start_time": "2021-11-14T14:49:27.341Z"
   },
   {
    "duration": -150,
    "start_time": "2021-11-14T14:49:27.348Z"
   },
   {
    "duration": -154,
    "start_time": "2021-11-14T14:49:27.353Z"
   },
   {
    "duration": -156,
    "start_time": "2021-11-14T14:49:27.357Z"
   },
   {
    "duration": -162,
    "start_time": "2021-11-14T14:49:27.364Z"
   },
   {
    "duration": -163,
    "start_time": "2021-11-14T14:49:27.367Z"
   },
   {
    "duration": -167,
    "start_time": "2021-11-14T14:49:27.372Z"
   },
   {
    "duration": -168,
    "start_time": "2021-11-14T14:49:27.375Z"
   },
   {
    "duration": -171,
    "start_time": "2021-11-14T14:49:27.379Z"
   },
   {
    "duration": -173,
    "start_time": "2021-11-14T14:49:27.383Z"
   },
   {
    "duration": -177,
    "start_time": "2021-11-14T14:49:27.388Z"
   },
   {
    "duration": -179,
    "start_time": "2021-11-14T14:49:27.391Z"
   },
   {
    "duration": -182,
    "start_time": "2021-11-14T14:49:27.395Z"
   },
   {
    "duration": -192,
    "start_time": "2021-11-14T14:49:27.407Z"
   },
   {
    "duration": -196,
    "start_time": "2021-11-14T14:49:27.412Z"
   },
   {
    "duration": -199,
    "start_time": "2021-11-14T14:49:27.416Z"
   },
   {
    "duration": -204,
    "start_time": "2021-11-14T14:49:27.422Z"
   },
   {
    "duration": -208,
    "start_time": "2021-11-14T14:49:27.427Z"
   },
   {
    "duration": -210,
    "start_time": "2021-11-14T14:49:27.431Z"
   },
   {
    "duration": -277,
    "start_time": "2021-11-14T14:49:27.499Z"
   },
   {
    "duration": -281,
    "start_time": "2021-11-14T14:49:27.504Z"
   },
   {
    "duration": -286,
    "start_time": "2021-11-14T14:49:27.510Z"
   },
   {
    "duration": -289,
    "start_time": "2021-11-14T14:49:27.515Z"
   },
   {
    "duration": -293,
    "start_time": "2021-11-14T14:49:27.520Z"
   },
   {
    "duration": -297,
    "start_time": "2021-11-14T14:49:27.525Z"
   },
   {
    "duration": -299,
    "start_time": "2021-11-14T14:49:27.529Z"
   },
   {
    "duration": -302,
    "start_time": "2021-11-14T14:49:27.533Z"
   },
   {
    "duration": 1560,
    "start_time": "2021-11-14T14:52:07.464Z"
   },
   {
    "duration": 56,
    "start_time": "2021-11-14T14:52:09.027Z"
   },
   {
    "duration": 5,
    "start_time": "2021-11-14T14:52:09.087Z"
   },
   {
    "duration": 29,
    "start_time": "2021-11-14T14:52:09.095Z"
   },
   {
    "duration": 11,
    "start_time": "2021-11-14T14:52:09.127Z"
   },
   {
    "duration": 41,
    "start_time": "2021-11-14T14:52:09.141Z"
   },
   {
    "duration": 9,
    "start_time": "2021-11-14T14:52:09.185Z"
   },
   {
    "duration": 87,
    "start_time": "2021-11-14T14:52:09.197Z"
   },
   {
    "duration": 18,
    "start_time": "2021-11-14T14:52:09.288Z"
   },
   {
    "duration": 6,
    "start_time": "2021-11-14T14:52:09.309Z"
   },
   {
    "duration": 14,
    "start_time": "2021-11-14T14:52:09.318Z"
   },
   {
    "duration": 55,
    "start_time": "2021-11-14T14:52:09.335Z"
   },
   {
    "duration": 7,
    "start_time": "2021-11-14T14:52:09.392Z"
   },
   {
    "duration": 9,
    "start_time": "2021-11-14T14:52:09.402Z"
   },
   {
    "duration": 21,
    "start_time": "2021-11-14T14:52:09.414Z"
   },
   {
    "duration": 63,
    "start_time": "2021-11-14T14:52:09.437Z"
   },
   {
    "duration": 13,
    "start_time": "2021-11-14T14:52:09.502Z"
   },
   {
    "duration": 15,
    "start_time": "2021-11-14T14:52:09.517Z"
   },
   {
    "duration": 429,
    "start_time": "2021-11-14T14:52:09.534Z"
   },
   {
    "duration": -224,
    "start_time": "2021-11-14T14:52:10.192Z"
   },
   {
    "duration": -228,
    "start_time": "2021-11-14T14:52:10.198Z"
   },
   {
    "duration": -233,
    "start_time": "2021-11-14T14:52:10.205Z"
   },
   {
    "duration": -238,
    "start_time": "2021-11-14T14:52:10.212Z"
   },
   {
    "duration": -241,
    "start_time": "2021-11-14T14:52:10.217Z"
   },
   {
    "duration": -242,
    "start_time": "2021-11-14T14:52:10.221Z"
   },
   {
    "duration": -245,
    "start_time": "2021-11-14T14:52:10.226Z"
   },
   {
    "duration": -246,
    "start_time": "2021-11-14T14:52:10.229Z"
   },
   {
    "duration": -248,
    "start_time": "2021-11-14T14:52:10.233Z"
   },
   {
    "duration": -250,
    "start_time": "2021-11-14T14:52:10.237Z"
   },
   {
    "duration": -252,
    "start_time": "2021-11-14T14:52:10.241Z"
   },
   {
    "duration": -254,
    "start_time": "2021-11-14T14:52:10.245Z"
   },
   {
    "duration": -255,
    "start_time": "2021-11-14T14:52:10.249Z"
   },
   {
    "duration": -256,
    "start_time": "2021-11-14T14:52:10.252Z"
   },
   {
    "duration": -259,
    "start_time": "2021-11-14T14:52:10.257Z"
   },
   {
    "duration": -261,
    "start_time": "2021-11-14T14:52:10.261Z"
   },
   {
    "duration": -262,
    "start_time": "2021-11-14T14:52:10.264Z"
   },
   {
    "duration": -283,
    "start_time": "2021-11-14T14:52:10.287Z"
   },
   {
    "duration": -291,
    "start_time": "2021-11-14T14:52:10.297Z"
   },
   {
    "duration": -296,
    "start_time": "2021-11-14T14:52:10.304Z"
   },
   {
    "duration": -300,
    "start_time": "2021-11-14T14:52:10.310Z"
   },
   {
    "duration": -304,
    "start_time": "2021-11-14T14:52:10.316Z"
   },
   {
    "duration": -310,
    "start_time": "2021-11-14T14:52:10.324Z"
   },
   {
    "duration": -313,
    "start_time": "2021-11-14T14:52:10.330Z"
   },
   {
    "duration": -328,
    "start_time": "2021-11-14T14:52:10.348Z"
   },
   {
    "duration": -332,
    "start_time": "2021-11-14T14:52:10.354Z"
   },
   {
    "duration": -277,
    "start_time": "2021-11-14T14:52:10.360Z"
   },
   {
    "duration": -281,
    "start_time": "2021-11-14T14:52:10.366Z"
   },
   {
    "duration": -283,
    "start_time": "2021-11-14T14:52:10.371Z"
   },
   {
    "duration": 1488,
    "start_time": "2021-11-14T14:56:17.916Z"
   },
   {
    "duration": 54,
    "start_time": "2021-11-14T14:56:19.406Z"
   },
   {
    "duration": 5,
    "start_time": "2021-11-14T14:56:19.463Z"
   },
   {
    "duration": 25,
    "start_time": "2021-11-14T14:56:19.482Z"
   },
   {
    "duration": 11,
    "start_time": "2021-11-14T14:56:19.509Z"
   },
   {
    "duration": 9,
    "start_time": "2021-11-14T14:56:19.522Z"
   },
   {
    "duration": 49,
    "start_time": "2021-11-14T14:56:19.533Z"
   },
   {
    "duration": 62,
    "start_time": "2021-11-14T14:56:19.585Z"
   },
   {
    "duration": 33,
    "start_time": "2021-11-14T14:56:19.651Z"
   },
   {
    "duration": 7,
    "start_time": "2021-11-14T14:56:19.688Z"
   },
   {
    "duration": 15,
    "start_time": "2021-11-14T14:56:19.697Z"
   },
   {
    "duration": 17,
    "start_time": "2021-11-14T14:56:19.714Z"
   },
   {
    "duration": 7,
    "start_time": "2021-11-14T14:56:19.782Z"
   },
   {
    "duration": 11,
    "start_time": "2021-11-14T14:56:19.792Z"
   },
   {
    "duration": 19,
    "start_time": "2021-11-14T14:56:19.806Z"
   },
   {
    "duration": 54,
    "start_time": "2021-11-14T14:56:19.828Z"
   },
   {
    "duration": 14,
    "start_time": "2021-11-14T14:56:19.885Z"
   },
   {
    "duration": 15,
    "start_time": "2021-11-14T14:56:19.901Z"
   },
   {
    "duration": 466,
    "start_time": "2021-11-14T14:56:19.919Z"
   },
   {
    "duration": -224,
    "start_time": "2021-11-14T14:56:20.614Z"
   },
   {
    "duration": -228,
    "start_time": "2021-11-14T14:56:20.619Z"
   },
   {
    "duration": -234,
    "start_time": "2021-11-14T14:56:20.626Z"
   },
   {
    "duration": -235,
    "start_time": "2021-11-14T14:56:20.629Z"
   },
   {
    "duration": -237,
    "start_time": "2021-11-14T14:56:20.632Z"
   },
   {
    "duration": -239,
    "start_time": "2021-11-14T14:56:20.635Z"
   },
   {
    "duration": -242,
    "start_time": "2021-11-14T14:56:20.639Z"
   },
   {
    "duration": -245,
    "start_time": "2021-11-14T14:56:20.643Z"
   },
   {
    "duration": -247,
    "start_time": "2021-11-14T14:56:20.646Z"
   },
   {
    "duration": -248,
    "start_time": "2021-11-14T14:56:20.649Z"
   },
   {
    "duration": -265,
    "start_time": "2021-11-14T14:56:20.667Z"
   },
   {
    "duration": -277,
    "start_time": "2021-11-14T14:56:20.680Z"
   },
   {
    "duration": -278,
    "start_time": "2021-11-14T14:56:20.683Z"
   },
   {
    "duration": -293,
    "start_time": "2021-11-14T14:56:20.699Z"
   },
   {
    "duration": -297,
    "start_time": "2021-11-14T14:56:20.704Z"
   },
   {
    "duration": -307,
    "start_time": "2021-11-14T14:56:20.715Z"
   },
   {
    "duration": -315,
    "start_time": "2021-11-14T14:56:20.725Z"
   },
   {
    "duration": -317,
    "start_time": "2021-11-14T14:56:20.728Z"
   },
   {
    "duration": -318,
    "start_time": "2021-11-14T14:56:20.730Z"
   },
   {
    "duration": -320,
    "start_time": "2021-11-14T14:56:20.733Z"
   },
   {
    "duration": -321,
    "start_time": "2021-11-14T14:56:20.736Z"
   },
   {
    "duration": -322,
    "start_time": "2021-11-14T14:56:20.738Z"
   },
   {
    "duration": -334,
    "start_time": "2021-11-14T14:56:20.751Z"
   },
   {
    "duration": -337,
    "start_time": "2021-11-14T14:56:20.755Z"
   },
   {
    "duration": -419,
    "start_time": "2021-11-14T14:56:20.839Z"
   },
   {
    "duration": -422,
    "start_time": "2021-11-14T14:56:20.843Z"
   },
   {
    "duration": -425,
    "start_time": "2021-11-14T14:56:20.847Z"
   },
   {
    "duration": -443,
    "start_time": "2021-11-14T14:56:20.867Z"
   },
   {
    "duration": -452,
    "start_time": "2021-11-14T14:56:20.877Z"
   },
   {
    "duration": 9,
    "start_time": "2021-11-14T14:57:00.392Z"
   },
   {
    "duration": 1501,
    "start_time": "2021-11-14T15:00:49.126Z"
   },
   {
    "duration": 55,
    "start_time": "2021-11-14T15:00:50.630Z"
   },
   {
    "duration": 5,
    "start_time": "2021-11-14T15:00:50.689Z"
   },
   {
    "duration": 33,
    "start_time": "2021-11-14T15:00:50.698Z"
   },
   {
    "duration": 13,
    "start_time": "2021-11-14T15:00:50.734Z"
   },
   {
    "duration": 41,
    "start_time": "2021-11-14T15:00:50.750Z"
   },
   {
    "duration": 14,
    "start_time": "2021-11-14T15:00:50.794Z"
   },
   {
    "duration": 87,
    "start_time": "2021-11-14T15:00:50.813Z"
   },
   {
    "duration": 17,
    "start_time": "2021-11-14T15:00:50.903Z"
   },
   {
    "duration": 15,
    "start_time": "2021-11-14T15:00:50.922Z"
   },
   {
    "duration": 22,
    "start_time": "2021-11-14T15:00:50.939Z"
   },
   {
    "duration": 19,
    "start_time": "2021-11-14T15:00:50.983Z"
   },
   {
    "duration": 23,
    "start_time": "2021-11-14T15:00:51.005Z"
   },
   {
    "duration": 19,
    "start_time": "2021-11-14T15:00:51.031Z"
   },
   {
    "duration": 45,
    "start_time": "2021-11-14T15:00:51.052Z"
   },
   {
    "duration": 23,
    "start_time": "2021-11-14T15:00:51.099Z"
   },
   {
    "duration": 13,
    "start_time": "2021-11-14T15:00:51.125Z"
   },
   {
    "duration": 472,
    "start_time": "2021-11-14T15:00:51.140Z"
   },
   {
    "duration": -184,
    "start_time": "2021-11-14T15:00:51.800Z"
   },
   {
    "duration": -190,
    "start_time": "2021-11-14T15:00:51.807Z"
   },
   {
    "duration": -192,
    "start_time": "2021-11-14T15:00:51.811Z"
   },
   {
    "duration": -197,
    "start_time": "2021-11-14T15:00:51.817Z"
   },
   {
    "duration": -202,
    "start_time": "2021-11-14T15:00:51.823Z"
   },
   {
    "duration": -210,
    "start_time": "2021-11-14T15:00:51.832Z"
   },
   {
    "duration": -213,
    "start_time": "2021-11-14T15:00:51.837Z"
   },
   {
    "duration": -217,
    "start_time": "2021-11-14T15:00:51.842Z"
   },
   {
    "duration": -220,
    "start_time": "2021-11-14T15:00:51.847Z"
   },
   {
    "duration": -225,
    "start_time": "2021-11-14T15:00:51.853Z"
   },
   {
    "duration": -228,
    "start_time": "2021-11-14T15:00:51.857Z"
   },
   {
    "duration": -230,
    "start_time": "2021-11-14T15:00:51.861Z"
   },
   {
    "duration": -234,
    "start_time": "2021-11-14T15:00:51.866Z"
   },
   {
    "duration": -236,
    "start_time": "2021-11-14T15:00:51.870Z"
   },
   {
    "duration": -239,
    "start_time": "2021-11-14T15:00:51.874Z"
   },
   {
    "duration": -242,
    "start_time": "2021-11-14T15:00:51.878Z"
   },
   {
    "duration": -246,
    "start_time": "2021-11-14T15:00:51.883Z"
   },
   {
    "duration": -248,
    "start_time": "2021-11-14T15:00:51.887Z"
   },
   {
    "duration": -250,
    "start_time": "2021-11-14T15:00:51.891Z"
   },
   {
    "duration": -264,
    "start_time": "2021-11-14T15:00:51.906Z"
   },
   {
    "duration": -269,
    "start_time": "2021-11-14T15:00:51.912Z"
   },
   {
    "duration": -273,
    "start_time": "2021-11-14T15:00:51.918Z"
   },
   {
    "duration": -280,
    "start_time": "2021-11-14T15:00:51.926Z"
   },
   {
    "duration": -340,
    "start_time": "2021-11-14T15:00:51.988Z"
   },
   {
    "duration": -344,
    "start_time": "2021-11-14T15:00:51.994Z"
   },
   {
    "duration": -350,
    "start_time": "2021-11-14T15:00:52.001Z"
   },
   {
    "duration": -327,
    "start_time": "2021-11-14T15:00:52.008Z"
   },
   {
    "duration": -333,
    "start_time": "2021-11-14T15:00:52.016Z"
   },
   {
    "duration": -337,
    "start_time": "2021-11-14T15:00:52.021Z"
   },
   {
    "duration": -340,
    "start_time": "2021-11-14T15:00:52.026Z"
   },
   {
    "duration": -343,
    "start_time": "2021-11-14T15:00:52.030Z"
   },
   {
    "duration": 492,
    "start_time": "2021-11-14T15:01:40.634Z"
   },
   {
    "duration": 108,
    "start_time": "2021-11-14T15:05:07.142Z"
   },
   {
    "duration": 1721,
    "start_time": "2021-11-14T15:05:46.912Z"
   },
   {
    "duration": 1537,
    "start_time": "2021-11-14T15:06:10.508Z"
   },
   {
    "duration": 37,
    "start_time": "2021-11-14T15:09:29.048Z"
   },
   {
    "duration": 8,
    "start_time": "2021-11-14T15:09:57.409Z"
   },
   {
    "duration": 8,
    "start_time": "2021-11-14T15:14:40.719Z"
   },
   {
    "duration": 6,
    "start_time": "2021-11-14T15:14:54.633Z"
   },
   {
    "duration": 7,
    "start_time": "2021-11-14T15:15:54.524Z"
   },
   {
    "duration": 593,
    "start_time": "2021-11-14T15:16:42.581Z"
   },
   {
    "duration": 7,
    "start_time": "2021-11-14T15:17:50.805Z"
   },
   {
    "duration": 7,
    "start_time": "2021-11-14T15:18:29.147Z"
   },
   {
    "duration": 8044,
    "start_time": "2021-11-14T15:21:23.222Z"
   },
   {
    "duration": 1602,
    "start_time": "2021-11-14T15:42:45.541Z"
   },
   {
    "duration": 58,
    "start_time": "2021-11-14T15:42:47.146Z"
   },
   {
    "duration": 5,
    "start_time": "2021-11-14T15:42:47.206Z"
   },
   {
    "duration": 27,
    "start_time": "2021-11-14T15:42:47.213Z"
   },
   {
    "duration": 11,
    "start_time": "2021-11-14T15:42:47.243Z"
   },
   {
    "duration": 8,
    "start_time": "2021-11-14T15:42:47.281Z"
   },
   {
    "duration": 14,
    "start_time": "2021-11-14T15:42:47.292Z"
   },
   {
    "duration": 88,
    "start_time": "2021-11-14T15:42:47.309Z"
   },
   {
    "duration": 17,
    "start_time": "2021-11-14T15:42:47.401Z"
   },
   {
    "duration": 6,
    "start_time": "2021-11-14T15:42:47.422Z"
   },
   {
    "duration": 52,
    "start_time": "2021-11-14T15:42:47.431Z"
   },
   {
    "duration": 18,
    "start_time": "2021-11-14T15:42:47.486Z"
   },
   {
    "duration": 10,
    "start_time": "2021-11-14T15:42:47.507Z"
   },
   {
    "duration": 13,
    "start_time": "2021-11-14T15:42:47.520Z"
   },
   {
    "duration": 60,
    "start_time": "2021-11-14T15:42:47.535Z"
   },
   {
    "duration": 22,
    "start_time": "2021-11-14T15:42:47.597Z"
   },
   {
    "duration": 12,
    "start_time": "2021-11-14T15:42:47.621Z"
   },
   {
    "duration": 548,
    "start_time": "2021-11-14T15:42:47.636Z"
   },
   {
    "duration": -727,
    "start_time": "2021-11-14T15:42:48.915Z"
   },
   {
    "duration": -731,
    "start_time": "2021-11-14T15:42:48.920Z"
   },
   {
    "duration": -733,
    "start_time": "2021-11-14T15:42:48.924Z"
   },
   {
    "duration": -734,
    "start_time": "2021-11-14T15:42:48.927Z"
   },
   {
    "duration": -736,
    "start_time": "2021-11-14T15:42:48.931Z"
   },
   {
    "duration": -738,
    "start_time": "2021-11-14T15:42:48.934Z"
   },
   {
    "duration": -740,
    "start_time": "2021-11-14T15:42:48.937Z"
   },
   {
    "duration": -742,
    "start_time": "2021-11-14T15:42:48.941Z"
   },
   {
    "duration": -745,
    "start_time": "2021-11-14T15:42:48.945Z"
   },
   {
    "duration": -748,
    "start_time": "2021-11-14T15:42:48.950Z"
   },
   {
    "duration": -751,
    "start_time": "2021-11-14T15:42:48.955Z"
   },
   {
    "duration": -752,
    "start_time": "2021-11-14T15:42:48.958Z"
   },
   {
    "duration": -764,
    "start_time": "2021-11-14T15:42:48.971Z"
   },
   {
    "duration": -775,
    "start_time": "2021-11-14T15:42:48.984Z"
   },
   {
    "duration": -791,
    "start_time": "2021-11-14T15:42:49.002Z"
   },
   {
    "duration": -795,
    "start_time": "2021-11-14T15:42:49.008Z"
   },
   {
    "duration": -865,
    "start_time": "2021-11-14T15:42:49.079Z"
   },
   {
    "duration": -906,
    "start_time": "2021-11-14T15:42:49.122Z"
   },
   {
    "duration": -907,
    "start_time": "2021-11-14T15:42:49.126Z"
   },
   {
    "duration": -908,
    "start_time": "2021-11-14T15:42:49.129Z"
   },
   {
    "duration": -909,
    "start_time": "2021-11-14T15:42:49.132Z"
   },
   {
    "duration": -854,
    "start_time": "2021-11-14T15:42:49.135Z"
   },
   {
    "duration": -855,
    "start_time": "2021-11-14T15:42:49.138Z"
   },
   {
    "duration": -865,
    "start_time": "2021-11-14T15:42:49.150Z"
   },
   {
    "duration": -867,
    "start_time": "2021-11-14T15:42:49.154Z"
   },
   {
    "duration": -869,
    "start_time": "2021-11-14T15:42:49.158Z"
   },
   {
    "duration": -870,
    "start_time": "2021-11-14T15:42:49.161Z"
   },
   {
    "duration": -871,
    "start_time": "2021-11-14T15:42:49.164Z"
   },
   {
    "duration": -872,
    "start_time": "2021-11-14T15:42:49.167Z"
   },
   {
    "duration": -873,
    "start_time": "2021-11-14T15:42:49.170Z"
   },
   {
    "duration": -874,
    "start_time": "2021-11-14T15:42:49.173Z"
   },
   {
    "duration": -875,
    "start_time": "2021-11-14T15:42:49.176Z"
   },
   {
    "duration": -876,
    "start_time": "2021-11-14T15:42:49.179Z"
   },
   {
    "duration": -875,
    "start_time": "2021-11-14T15:42:49.181Z"
   },
   {
    "duration": 314,
    "start_time": "2021-11-14T15:43:50.872Z"
   },
   {
    "duration": 4,
    "start_time": "2021-11-14T15:45:00.133Z"
   },
   {
    "duration": 1501,
    "start_time": "2021-11-14T15:45:46.718Z"
   },
   {
    "duration": 54,
    "start_time": "2021-11-14T15:45:48.222Z"
   },
   {
    "duration": 5,
    "start_time": "2021-11-14T15:45:48.282Z"
   },
   {
    "duration": 25,
    "start_time": "2021-11-14T15:45:48.289Z"
   },
   {
    "duration": 11,
    "start_time": "2021-11-14T15:45:48.316Z"
   },
   {
    "duration": 8,
    "start_time": "2021-11-14T15:45:48.330Z"
   },
   {
    "duration": 43,
    "start_time": "2021-11-14T15:45:48.341Z"
   },
   {
    "duration": 63,
    "start_time": "2021-11-14T15:45:48.388Z"
   },
   {
    "duration": 43,
    "start_time": "2021-11-14T15:45:48.454Z"
   },
   {
    "duration": 7,
    "start_time": "2021-11-14T15:45:48.499Z"
   },
   {
    "duration": 14,
    "start_time": "2021-11-14T15:45:48.508Z"
   },
   {
    "duration": 16,
    "start_time": "2021-11-14T15:45:48.524Z"
   },
   {
    "duration": 7,
    "start_time": "2021-11-14T15:45:48.583Z"
   },
   {
    "duration": 9,
    "start_time": "2021-11-14T15:45:48.592Z"
   },
   {
    "duration": 21,
    "start_time": "2021-11-14T15:45:48.603Z"
   },
   {
    "duration": 62,
    "start_time": "2021-11-14T15:45:48.626Z"
   },
   {
    "duration": 13,
    "start_time": "2021-11-14T15:45:48.690Z"
   },
   {
    "duration": 4,
    "start_time": "2021-11-14T15:45:48.705Z"
   },
   {
    "duration": 454,
    "start_time": "2021-11-14T15:45:48.711Z"
   },
   {
    "duration": -815,
    "start_time": "2021-11-14T15:45:49.984Z"
   },
   {
    "duration": -820,
    "start_time": "2021-11-14T15:45:49.991Z"
   },
   {
    "duration": -824,
    "start_time": "2021-11-14T15:45:49.996Z"
   },
   {
    "duration": -826,
    "start_time": "2021-11-14T15:45:50.000Z"
   },
   {
    "duration": -832,
    "start_time": "2021-11-14T15:45:50.007Z"
   },
   {
    "duration": -836,
    "start_time": "2021-11-14T15:45:50.013Z"
   },
   {
    "duration": -840,
    "start_time": "2021-11-14T15:45:50.018Z"
   },
   {
    "duration": -842,
    "start_time": "2021-11-14T15:45:50.022Z"
   },
   {
    "duration": -846,
    "start_time": "2021-11-14T15:45:50.027Z"
   },
   {
    "duration": -849,
    "start_time": "2021-11-14T15:45:50.031Z"
   },
   {
    "duration": -851,
    "start_time": "2021-11-14T15:45:50.035Z"
   },
   {
    "duration": -854,
    "start_time": "2021-11-14T15:45:50.039Z"
   },
   {
    "duration": -856,
    "start_time": "2021-11-14T15:45:50.043Z"
   },
   {
    "duration": -859,
    "start_time": "2021-11-14T15:45:50.047Z"
   },
   {
    "duration": -861,
    "start_time": "2021-11-14T15:45:50.051Z"
   },
   {
    "duration": -864,
    "start_time": "2021-11-14T15:45:50.055Z"
   },
   {
    "duration": -868,
    "start_time": "2021-11-14T15:45:50.060Z"
   },
   {
    "duration": -870,
    "start_time": "2021-11-14T15:45:50.064Z"
   },
   {
    "duration": -873,
    "start_time": "2021-11-14T15:45:50.068Z"
   },
   {
    "duration": -875,
    "start_time": "2021-11-14T15:45:50.072Z"
   },
   {
    "duration": -888,
    "start_time": "2021-11-14T15:45:50.086Z"
   },
   {
    "duration": -892,
    "start_time": "2021-11-14T15:45:50.091Z"
   },
   {
    "duration": -894,
    "start_time": "2021-11-14T15:45:50.095Z"
   },
   {
    "duration": -898,
    "start_time": "2021-11-14T15:45:50.100Z"
   },
   {
    "duration": -903,
    "start_time": "2021-11-14T15:45:50.106Z"
   },
   {
    "duration": -909,
    "start_time": "2021-11-14T15:45:50.113Z"
   },
   {
    "duration": -915,
    "start_time": "2021-11-14T15:45:50.121Z"
   },
   {
    "duration": -918,
    "start_time": "2021-11-14T15:45:50.125Z"
   },
   {
    "duration": -921,
    "start_time": "2021-11-14T15:45:50.129Z"
   },
   {
    "duration": -923,
    "start_time": "2021-11-14T15:45:50.133Z"
   },
   {
    "duration": -927,
    "start_time": "2021-11-14T15:45:50.138Z"
   },
   {
    "duration": -930,
    "start_time": "2021-11-14T15:45:50.142Z"
   },
   {
    "duration": -933,
    "start_time": "2021-11-14T15:45:50.147Z"
   },
   {
    "duration": 9,
    "start_time": "2021-11-14T15:46:17.282Z"
   },
   {
    "duration": 109,
    "start_time": "2021-11-14T17:03:08.492Z"
   },
   {
    "duration": 2255,
    "start_time": "2021-11-14T17:05:45.497Z"
   },
   {
    "duration": 1589,
    "start_time": "2021-11-14T17:08:46.139Z"
   },
   {
    "duration": 54,
    "start_time": "2021-11-14T17:08:47.731Z"
   },
   {
    "duration": 4,
    "start_time": "2021-11-14T17:08:47.788Z"
   },
   {
    "duration": 27,
    "start_time": "2021-11-14T17:08:47.795Z"
   },
   {
    "duration": 11,
    "start_time": "2021-11-14T17:08:47.824Z"
   },
   {
    "duration": 44,
    "start_time": "2021-11-14T17:08:47.837Z"
   },
   {
    "duration": 11,
    "start_time": "2021-11-14T17:08:47.884Z"
   },
   {
    "duration": 87,
    "start_time": "2021-11-14T17:08:47.900Z"
   },
   {
    "duration": 17,
    "start_time": "2021-11-14T17:08:47.990Z"
   },
   {
    "duration": 15,
    "start_time": "2021-11-14T17:08:48.010Z"
   },
   {
    "duration": 16,
    "start_time": "2021-11-14T17:08:48.027Z"
   },
   {
    "duration": 51,
    "start_time": "2021-11-14T17:08:48.045Z"
   },
   {
    "duration": 7,
    "start_time": "2021-11-14T17:08:48.099Z"
   },
   {
    "duration": 10,
    "start_time": "2021-11-14T17:08:48.108Z"
   },
   {
    "duration": 21,
    "start_time": "2021-11-14T17:08:48.120Z"
   },
   {
    "duration": 54,
    "start_time": "2021-11-14T17:08:48.143Z"
   },
   {
    "duration": 16,
    "start_time": "2021-11-14T17:08:48.199Z"
   },
   {
    "duration": 538,
    "start_time": "2021-11-14T17:08:48.218Z"
   },
   {
    "duration": -121,
    "start_time": "2021-11-14T17:08:48.882Z"
   },
   {
    "duration": -130,
    "start_time": "2021-11-14T17:08:48.893Z"
   },
   {
    "duration": -131,
    "start_time": "2021-11-14T17:08:48.897Z"
   },
   {
    "duration": -137,
    "start_time": "2021-11-14T17:08:48.905Z"
   },
   {
    "duration": -139,
    "start_time": "2021-11-14T17:08:48.909Z"
   },
   {
    "duration": -141,
    "start_time": "2021-11-14T17:08:48.914Z"
   },
   {
    "duration": -143,
    "start_time": "2021-11-14T17:08:48.918Z"
   },
   {
    "duration": -145,
    "start_time": "2021-11-14T17:08:48.922Z"
   },
   {
    "duration": -146,
    "start_time": "2021-11-14T17:08:48.926Z"
   },
   {
    "duration": -147,
    "start_time": "2021-11-14T17:08:48.929Z"
   },
   {
    "duration": -148,
    "start_time": "2021-11-14T17:08:48.932Z"
   },
   {
    "duration": -149,
    "start_time": "2021-11-14T17:08:48.936Z"
   },
   {
    "duration": -150,
    "start_time": "2021-11-14T17:08:48.939Z"
   },
   {
    "duration": -151,
    "start_time": "2021-11-14T17:08:48.942Z"
   },
   {
    "duration": -151,
    "start_time": "2021-11-14T17:08:48.945Z"
   },
   {
    "duration": -153,
    "start_time": "2021-11-14T17:08:48.949Z"
   },
   {
    "duration": -163,
    "start_time": "2021-11-14T17:08:48.961Z"
   },
   {
    "duration": -166,
    "start_time": "2021-11-14T17:08:48.967Z"
   },
   {
    "duration": -169,
    "start_time": "2021-11-14T17:08:48.972Z"
   },
   {
    "duration": -171,
    "start_time": "2021-11-14T17:08:48.976Z"
   },
   {
    "duration": -171,
    "start_time": "2021-11-14T17:08:48.979Z"
   },
   {
    "duration": -173,
    "start_time": "2021-11-14T17:08:48.983Z"
   },
   {
    "duration": -182,
    "start_time": "2021-11-14T17:08:48.994Z"
   },
   {
    "duration": -185,
    "start_time": "2021-11-14T17:08:48.999Z"
   },
   {
    "duration": -250,
    "start_time": "2021-11-14T17:08:49.066Z"
   },
   {
    "duration": -272,
    "start_time": "2021-11-14T17:08:49.091Z"
   },
   {
    "duration": -215,
    "start_time": "2021-11-14T17:08:49.096Z"
   },
   {
    "duration": -218,
    "start_time": "2021-11-14T17:08:49.101Z"
   },
   {
    "duration": -221,
    "start_time": "2021-11-14T17:08:49.106Z"
   },
   {
    "duration": -224,
    "start_time": "2021-11-14T17:08:49.111Z"
   },
   {
    "duration": -226,
    "start_time": "2021-11-14T17:08:49.115Z"
   },
   {
    "duration": -229,
    "start_time": "2021-11-14T17:08:49.120Z"
   },
   {
    "duration": -231,
    "start_time": "2021-11-14T17:08:49.123Z"
   },
   {
    "duration": -233,
    "start_time": "2021-11-14T17:08:49.126Z"
   },
   {
    "duration": -236,
    "start_time": "2021-11-14T17:08:49.131Z"
   },
   {
    "duration": -237,
    "start_time": "2021-11-14T17:08:49.134Z"
   },
   {
    "duration": -239,
    "start_time": "2021-11-14T17:08:49.138Z"
   },
   {
    "duration": 314,
    "start_time": "2021-11-14T17:10:04.583Z"
   },
   {
    "duration": 12525,
    "start_time": "2021-11-14T17:10:22.761Z"
   },
   {
    "duration": 1493,
    "start_time": "2021-11-14T17:11:50.536Z"
   },
   {
    "duration": 55,
    "start_time": "2021-11-14T17:11:52.031Z"
   },
   {
    "duration": 4,
    "start_time": "2021-11-14T17:11:52.089Z"
   },
   {
    "duration": 26,
    "start_time": "2021-11-14T17:11:52.095Z"
   },
   {
    "duration": 13,
    "start_time": "2021-11-14T17:11:52.124Z"
   },
   {
    "duration": 43,
    "start_time": "2021-11-14T17:11:52.139Z"
   },
   {
    "duration": 11,
    "start_time": "2021-11-14T17:11:52.185Z"
   },
   {
    "duration": 94,
    "start_time": "2021-11-14T17:11:52.202Z"
   },
   {
    "duration": 17,
    "start_time": "2021-11-14T17:11:52.300Z"
   },
   {
    "duration": 7,
    "start_time": "2021-11-14T17:11:52.320Z"
   },
   {
    "duration": 54,
    "start_time": "2021-11-14T17:11:52.330Z"
   },
   {
    "duration": 18,
    "start_time": "2021-11-14T17:11:52.386Z"
   },
   {
    "duration": 16,
    "start_time": "2021-11-14T17:11:52.407Z"
   },
   {
    "duration": 10,
    "start_time": "2021-11-14T17:11:52.425Z"
   },
   {
    "duration": 57,
    "start_time": "2021-11-14T17:11:52.437Z"
   },
   {
    "duration": 21,
    "start_time": "2021-11-14T17:11:52.496Z"
   },
   {
    "duration": 13,
    "start_time": "2021-11-14T17:11:52.519Z"
   },
   {
    "duration": 7785,
    "start_time": "2021-11-14T17:11:52.534Z"
   },
   {
    "duration": 1119,
    "start_time": "2021-11-14T17:12:00.322Z"
   },
   {
    "duration": -165,
    "start_time": "2021-11-14T17:12:01.610Z"
   },
   {
    "duration": -169,
    "start_time": "2021-11-14T17:12:01.615Z"
   },
   {
    "duration": -172,
    "start_time": "2021-11-14T17:12:01.619Z"
   },
   {
    "duration": -174,
    "start_time": "2021-11-14T17:12:01.623Z"
   },
   {
    "duration": -179,
    "start_time": "2021-11-14T17:12:01.629Z"
   },
   {
    "duration": -182,
    "start_time": "2021-11-14T17:12:01.633Z"
   },
   {
    "duration": -185,
    "start_time": "2021-11-14T17:12:01.638Z"
   },
   {
    "duration": -189,
    "start_time": "2021-11-14T17:12:01.643Z"
   },
   {
    "duration": -193,
    "start_time": "2021-11-14T17:12:01.648Z"
   },
   {
    "duration": -372,
    "start_time": "2021-11-14T17:12:01.829Z"
   },
   {
    "duration": -427,
    "start_time": "2021-11-14T17:12:01.885Z"
   },
   {
    "duration": -430,
    "start_time": "2021-11-14T17:12:01.889Z"
   },
   {
    "duration": -443,
    "start_time": "2021-11-14T17:12:01.903Z"
   },
   {
    "duration": -445,
    "start_time": "2021-11-14T17:12:01.907Z"
   },
   {
    "duration": -460,
    "start_time": "2021-11-14T17:12:01.923Z"
   },
   {
    "duration": -473,
    "start_time": "2021-11-14T17:12:01.937Z"
   },
   {
    "duration": -486,
    "start_time": "2021-11-14T17:12:01.951Z"
   },
   {
    "duration": -489,
    "start_time": "2021-11-14T17:12:01.955Z"
   },
   {
    "duration": -501,
    "start_time": "2021-11-14T17:12:01.969Z"
   },
   {
    "duration": -504,
    "start_time": "2021-11-14T17:12:01.973Z"
   },
   {
    "duration": -516,
    "start_time": "2021-11-14T17:12:01.986Z"
   },
   {
    "duration": -519,
    "start_time": "2021-11-14T17:12:01.991Z"
   },
   {
    "duration": -532,
    "start_time": "2021-11-14T17:12:02.005Z"
   },
   {
    "duration": -545,
    "start_time": "2021-11-14T17:12:02.019Z"
   },
   {
    "duration": -548,
    "start_time": "2021-11-14T17:12:02.023Z"
   },
   {
    "duration": -552,
    "start_time": "2021-11-14T17:12:02.028Z"
   },
   {
    "duration": -553,
    "start_time": "2021-11-14T17:12:02.031Z"
   },
   {
    "duration": -555,
    "start_time": "2021-11-14T17:12:02.034Z"
   },
   {
    "duration": -556,
    "start_time": "2021-11-14T17:12:02.037Z"
   },
   {
    "duration": -560,
    "start_time": "2021-11-14T17:12:02.042Z"
   },
   {
    "duration": -562,
    "start_time": "2021-11-14T17:12:02.046Z"
   },
   {
    "duration": -564,
    "start_time": "2021-11-14T17:12:02.049Z"
   },
   {
    "duration": -565,
    "start_time": "2021-11-14T17:12:02.052Z"
   },
   {
    "duration": -568,
    "start_time": "2021-11-14T17:12:02.056Z"
   },
   {
    "duration": -571,
    "start_time": "2021-11-14T17:12:02.061Z"
   },
   {
    "duration": -573,
    "start_time": "2021-11-14T17:12:02.064Z"
   },
   {
    "duration": 1494,
    "start_time": "2021-11-14T17:12:27.583Z"
   },
   {
    "duration": 54,
    "start_time": "2021-11-14T17:12:29.079Z"
   },
   {
    "duration": 4,
    "start_time": "2021-11-14T17:12:29.136Z"
   },
   {
    "duration": 40,
    "start_time": "2021-11-14T17:12:29.143Z"
   },
   {
    "duration": 11,
    "start_time": "2021-11-14T17:12:29.185Z"
   },
   {
    "duration": 8,
    "start_time": "2021-11-14T17:12:29.199Z"
   },
   {
    "duration": 9,
    "start_time": "2021-11-14T17:12:29.210Z"
   },
   {
    "duration": 102,
    "start_time": "2021-11-14T17:12:29.222Z"
   },
   {
    "duration": 17,
    "start_time": "2021-11-14T17:12:29.328Z"
   },
   {
    "duration": 7,
    "start_time": "2021-11-14T17:12:29.348Z"
   },
   {
    "duration": 35,
    "start_time": "2021-11-14T17:12:29.358Z"
   },
   {
    "duration": 17,
    "start_time": "2021-11-14T17:12:29.396Z"
   },
   {
    "duration": 7,
    "start_time": "2021-11-14T17:12:29.415Z"
   },
   {
    "duration": 10,
    "start_time": "2021-11-14T17:12:29.424Z"
   },
   {
    "duration": 60,
    "start_time": "2021-11-14T17:12:29.436Z"
   },
   {
    "duration": 22,
    "start_time": "2021-11-14T17:12:29.498Z"
   },
   {
    "duration": 12,
    "start_time": "2021-11-14T17:12:29.522Z"
   },
   {
    "duration": 2045,
    "start_time": "2021-11-14T17:12:29.537Z"
   },
   {
    "duration": 474,
    "start_time": "2021-11-14T17:12:31.585Z"
   },
   {
    "duration": -90,
    "start_time": "2021-11-14T17:12:32.154Z"
   },
   {
    "duration": -93,
    "start_time": "2021-11-14T17:12:32.158Z"
   },
   {
    "duration": -122,
    "start_time": "2021-11-14T17:12:32.189Z"
   },
   {
    "duration": -127,
    "start_time": "2021-11-14T17:12:32.195Z"
   },
   {
    "duration": -257,
    "start_time": "2021-11-14T17:12:32.326Z"
   },
   {
    "duration": -267,
    "start_time": "2021-11-14T17:12:32.337Z"
   },
   {
    "duration": -269,
    "start_time": "2021-11-14T17:12:32.341Z"
   },
   {
    "duration": -272,
    "start_time": "2021-11-14T17:12:32.345Z"
   },
   {
    "duration": -275,
    "start_time": "2021-11-14T17:12:32.349Z"
   },
   {
    "duration": -277,
    "start_time": "2021-11-14T17:12:32.353Z"
   },
   {
    "duration": -280,
    "start_time": "2021-11-14T17:12:32.357Z"
   },
   {
    "duration": -282,
    "start_time": "2021-11-14T17:12:32.360Z"
   },
   {
    "duration": -286,
    "start_time": "2021-11-14T17:12:32.365Z"
   },
   {
    "duration": -288,
    "start_time": "2021-11-14T17:12:32.369Z"
   },
   {
    "duration": -292,
    "start_time": "2021-11-14T17:12:32.374Z"
   },
   {
    "duration": -294,
    "start_time": "2021-11-14T17:12:32.377Z"
   },
   {
    "duration": -296,
    "start_time": "2021-11-14T17:12:32.380Z"
   },
   {
    "duration": -298,
    "start_time": "2021-11-14T17:12:32.384Z"
   },
   {
    "duration": -301,
    "start_time": "2021-11-14T17:12:32.388Z"
   },
   {
    "duration": -304,
    "start_time": "2021-11-14T17:12:32.392Z"
   },
   {
    "duration": -305,
    "start_time": "2021-11-14T17:12:32.395Z"
   },
   {
    "duration": -307,
    "start_time": "2021-11-14T17:12:32.398Z"
   },
   {
    "duration": -310,
    "start_time": "2021-11-14T17:12:32.402Z"
   },
   {
    "duration": -313,
    "start_time": "2021-11-14T17:12:32.407Z"
   },
   {
    "duration": -337,
    "start_time": "2021-11-14T17:12:32.432Z"
   },
   {
    "duration": -340,
    "start_time": "2021-11-14T17:12:32.436Z"
   },
   {
    "duration": -402,
    "start_time": "2021-11-14T17:12:32.499Z"
   },
   {
    "duration": -449,
    "start_time": "2021-11-14T17:12:32.548Z"
   },
   {
    "duration": -452,
    "start_time": "2021-11-14T17:12:32.552Z"
   },
   {
    "duration": -454,
    "start_time": "2021-11-14T17:12:32.555Z"
   },
   {
    "duration": -457,
    "start_time": "2021-11-14T17:12:32.559Z"
   },
   {
    "duration": -459,
    "start_time": "2021-11-14T17:12:32.562Z"
   },
   {
    "duration": -461,
    "start_time": "2021-11-14T17:12:32.566Z"
   },
   {
    "duration": -464,
    "start_time": "2021-11-14T17:12:32.570Z"
   },
   {
    "duration": -468,
    "start_time": "2021-11-14T17:12:32.575Z"
   },
   {
    "duration": -470,
    "start_time": "2021-11-14T17:12:32.578Z"
   },
   {
    "duration": 1926,
    "start_time": "2021-11-14T17:12:53.748Z"
   },
   {
    "duration": 1687,
    "start_time": "2021-11-14T17:13:24.766Z"
   },
   {
    "duration": 53,
    "start_time": "2021-11-14T17:13:26.455Z"
   },
   {
    "duration": 5,
    "start_time": "2021-11-14T17:13:26.511Z"
   },
   {
    "duration": 24,
    "start_time": "2021-11-14T17:13:26.519Z"
   },
   {
    "duration": 41,
    "start_time": "2021-11-14T17:13:26.546Z"
   },
   {
    "duration": 9,
    "start_time": "2021-11-14T17:13:26.590Z"
   },
   {
    "duration": 10,
    "start_time": "2021-11-14T17:13:26.601Z"
   },
   {
    "duration": 88,
    "start_time": "2021-11-14T17:13:26.615Z"
   },
   {
    "duration": 17,
    "start_time": "2021-11-14T17:13:26.706Z"
   },
   {
    "duration": 7,
    "start_time": "2021-11-14T17:13:26.725Z"
   },
   {
    "duration": 49,
    "start_time": "2021-11-14T17:13:26.735Z"
   },
   {
    "duration": 17,
    "start_time": "2021-11-14T17:13:26.786Z"
   },
   {
    "duration": 8,
    "start_time": "2021-11-14T17:13:26.806Z"
   },
   {
    "duration": 10,
    "start_time": "2021-11-14T17:13:26.817Z"
   },
   {
    "duration": 67,
    "start_time": "2021-11-14T17:13:26.830Z"
   },
   {
    "duration": 21,
    "start_time": "2021-11-14T17:13:26.900Z"
   },
   {
    "duration": 15,
    "start_time": "2021-11-14T17:13:26.923Z"
   },
   {
    "duration": 5222,
    "start_time": "2021-11-14T17:13:26.941Z"
   },
   {
    "duration": -295,
    "start_time": "2021-11-14T17:13:32.463Z"
   },
   {
    "duration": -297,
    "start_time": "2021-11-14T17:13:32.467Z"
   },
   {
    "duration": -299,
    "start_time": "2021-11-14T17:13:32.471Z"
   },
   {
    "duration": -301,
    "start_time": "2021-11-14T17:13:32.474Z"
   },
   {
    "duration": -303,
    "start_time": "2021-11-14T17:13:32.478Z"
   },
   {
    "duration": -304,
    "start_time": "2021-11-14T17:13:32.481Z"
   },
   {
    "duration": -305,
    "start_time": "2021-11-14T17:13:32.484Z"
   },
   {
    "duration": -308,
    "start_time": "2021-11-14T17:13:32.488Z"
   },
   {
    "duration": -321,
    "start_time": "2021-11-14T17:13:32.503Z"
   },
   {
    "duration": -484,
    "start_time": "2021-11-14T17:13:32.668Z"
   },
   {
    "duration": -510,
    "start_time": "2021-11-14T17:13:32.695Z"
   },
   {
    "duration": -514,
    "start_time": "2021-11-14T17:13:32.701Z"
   },
   {
    "duration": -517,
    "start_time": "2021-11-14T17:13:32.705Z"
   },
   {
    "duration": -519,
    "start_time": "2021-11-14T17:13:32.709Z"
   },
   {
    "duration": -521,
    "start_time": "2021-11-14T17:13:32.712Z"
   },
   {
    "duration": -524,
    "start_time": "2021-11-14T17:13:32.717Z"
   },
   {
    "duration": -526,
    "start_time": "2021-11-14T17:13:32.721Z"
   },
   {
    "duration": -529,
    "start_time": "2021-11-14T17:13:32.725Z"
   },
   {
    "duration": -532,
    "start_time": "2021-11-14T17:13:32.729Z"
   },
   {
    "duration": -534,
    "start_time": "2021-11-14T17:13:32.733Z"
   },
   {
    "duration": -536,
    "start_time": "2021-11-14T17:13:32.736Z"
   },
   {
    "duration": -538,
    "start_time": "2021-11-14T17:13:32.740Z"
   },
   {
    "duration": -552,
    "start_time": "2021-11-14T17:13:32.755Z"
   },
   {
    "duration": -573,
    "start_time": "2021-11-14T17:13:32.778Z"
   },
   {
    "duration": -576,
    "start_time": "2021-11-14T17:13:32.782Z"
   },
   {
    "duration": -589,
    "start_time": "2021-11-14T17:13:32.797Z"
   },
   {
    "duration": -591,
    "start_time": "2021-11-14T17:13:32.801Z"
   },
   {
    "duration": -594,
    "start_time": "2021-11-14T17:13:32.805Z"
   },
   {
    "duration": -595,
    "start_time": "2021-11-14T17:13:32.808Z"
   },
   {
    "duration": -599,
    "start_time": "2021-11-14T17:13:32.813Z"
   },
   {
    "duration": -600,
    "start_time": "2021-11-14T17:13:32.816Z"
   },
   {
    "duration": -604,
    "start_time": "2021-11-14T17:13:32.821Z"
   },
   {
    "duration": -605,
    "start_time": "2021-11-14T17:13:32.824Z"
   },
   {
    "duration": -618,
    "start_time": "2021-11-14T17:13:32.838Z"
   },
   {
    "duration": -620,
    "start_time": "2021-11-14T17:13:32.842Z"
   },
   {
    "duration": -624,
    "start_time": "2021-11-14T17:13:32.847Z"
   },
   {
    "duration": -626,
    "start_time": "2021-11-14T17:13:32.851Z"
   },
   {
    "duration": 1536,
    "start_time": "2021-11-14T17:14:19.287Z"
   },
   {
    "duration": 56,
    "start_time": "2021-11-14T17:14:20.825Z"
   },
   {
    "duration": 4,
    "start_time": "2021-11-14T17:14:20.884Z"
   },
   {
    "duration": 30,
    "start_time": "2021-11-14T17:14:20.890Z"
   },
   {
    "duration": 11,
    "start_time": "2021-11-14T17:14:20.922Z"
   },
   {
    "duration": 18,
    "start_time": "2021-11-14T17:14:20.936Z"
   },
   {
    "duration": 34,
    "start_time": "2021-11-14T17:14:20.956Z"
   },
   {
    "duration": 59,
    "start_time": "2021-11-14T17:14:20.994Z"
   },
   {
    "duration": 38,
    "start_time": "2021-11-14T17:14:21.056Z"
   },
   {
    "duration": 10,
    "start_time": "2021-11-14T17:14:21.096Z"
   },
   {
    "duration": 18,
    "start_time": "2021-11-14T17:14:21.109Z"
   },
   {
    "duration": 55,
    "start_time": "2021-11-14T17:14:21.130Z"
   },
   {
    "duration": 10,
    "start_time": "2021-11-14T17:14:21.188Z"
   },
   {
    "duration": 15,
    "start_time": "2021-11-14T17:14:21.201Z"
   },
   {
    "duration": 22,
    "start_time": "2021-11-14T17:14:21.219Z"
   },
   {
    "duration": 21,
    "start_time": "2021-11-14T17:14:21.282Z"
   },
   {
    "duration": 12,
    "start_time": "2021-11-14T17:14:21.306Z"
   },
   {
    "duration": 2054,
    "start_time": "2021-11-14T17:14:21.321Z"
   },
   {
    "duration": 440,
    "start_time": "2021-11-14T17:14:23.377Z"
   },
   {
    "duration": -123,
    "start_time": "2021-11-14T17:14:23.945Z"
   },
   {
    "duration": -129,
    "start_time": "2021-11-14T17:14:23.953Z"
   },
   {
    "duration": -134,
    "start_time": "2021-11-14T17:14:23.959Z"
   },
   {
    "duration": -257,
    "start_time": "2021-11-14T17:14:24.084Z"
   },
   {
    "duration": -270,
    "start_time": "2021-11-14T17:14:24.098Z"
   },
   {
    "duration": -275,
    "start_time": "2021-11-14T17:14:24.104Z"
   },
   {
    "duration": -278,
    "start_time": "2021-11-14T17:14:24.109Z"
   },
   {
    "duration": -282,
    "start_time": "2021-11-14T17:14:24.114Z"
   },
   {
    "duration": -288,
    "start_time": "2021-11-14T17:14:24.121Z"
   },
   {
    "duration": -292,
    "start_time": "2021-11-14T17:14:24.126Z"
   },
   {
    "duration": -296,
    "start_time": "2021-11-14T17:14:24.132Z"
   },
   {
    "duration": -301,
    "start_time": "2021-11-14T17:14:24.138Z"
   },
   {
    "duration": -306,
    "start_time": "2021-11-14T17:14:24.144Z"
   },
   {
    "duration": -309,
    "start_time": "2021-11-14T17:14:24.149Z"
   },
   {
    "duration": -314,
    "start_time": "2021-11-14T17:14:24.155Z"
   },
   {
    "duration": -317,
    "start_time": "2021-11-14T17:14:24.159Z"
   },
   {
    "duration": -321,
    "start_time": "2021-11-14T17:14:24.164Z"
   },
   {
    "duration": -323,
    "start_time": "2021-11-14T17:14:24.168Z"
   },
   {
    "duration": -417,
    "start_time": "2021-11-14T17:14:24.263Z"
   },
   {
    "duration": -424,
    "start_time": "2021-11-14T17:14:24.271Z"
   },
   {
    "duration": -429,
    "start_time": "2021-11-14T17:14:24.278Z"
   },
   {
    "duration": -434,
    "start_time": "2021-11-14T17:14:24.284Z"
   },
   {
    "duration": -438,
    "start_time": "2021-11-14T17:14:24.290Z"
   },
   {
    "duration": -442,
    "start_time": "2021-11-14T17:14:24.295Z"
   },
   {
    "duration": -445,
    "start_time": "2021-11-14T17:14:24.299Z"
   },
   {
    "duration": -448,
    "start_time": "2021-11-14T17:14:24.304Z"
   },
   {
    "duration": -451,
    "start_time": "2021-11-14T17:14:24.308Z"
   },
   {
    "duration": -430,
    "start_time": "2021-11-14T17:14:24.313Z"
   },
   {
    "duration": -434,
    "start_time": "2021-11-14T17:14:24.318Z"
   },
   {
    "duration": -437,
    "start_time": "2021-11-14T17:14:24.323Z"
   },
   {
    "duration": -438,
    "start_time": "2021-11-14T17:14:24.327Z"
   },
   {
    "duration": -440,
    "start_time": "2021-11-14T17:14:24.331Z"
   },
   {
    "duration": -502,
    "start_time": "2021-11-14T17:14:24.395Z"
   },
   {
    "duration": -513,
    "start_time": "2021-11-14T17:14:24.408Z"
   },
   {
    "duration": -517,
    "start_time": "2021-11-14T17:14:24.414Z"
   },
   {
    "duration": -521,
    "start_time": "2021-11-14T17:14:24.420Z"
   },
   {
    "duration": 1527,
    "start_time": "2021-11-14T17:22:03.693Z"
   },
   {
    "duration": 52,
    "start_time": "2021-11-14T17:22:05.223Z"
   },
   {
    "duration": 6,
    "start_time": "2021-11-14T17:22:05.278Z"
   },
   {
    "duration": 33,
    "start_time": "2021-11-14T17:22:05.287Z"
   },
   {
    "duration": 11,
    "start_time": "2021-11-14T17:22:05.323Z"
   },
   {
    "duration": 8,
    "start_time": "2021-11-14T17:22:05.337Z"
   },
   {
    "duration": 39,
    "start_time": "2021-11-14T17:22:05.347Z"
   },
   {
    "duration": 62,
    "start_time": "2021-11-14T17:22:05.389Z"
   },
   {
    "duration": 43,
    "start_time": "2021-11-14T17:22:05.455Z"
   },
   {
    "duration": 9,
    "start_time": "2021-11-14T17:22:05.501Z"
   },
   {
    "duration": 15,
    "start_time": "2021-11-14T17:22:05.513Z"
   },
   {
    "duration": 18,
    "start_time": "2021-11-14T17:22:05.530Z"
   },
   {
    "duration": 8,
    "start_time": "2021-11-14T17:22:05.582Z"
   },
   {
    "duration": 11,
    "start_time": "2021-11-14T17:22:05.592Z"
   },
   {
    "duration": 22,
    "start_time": "2021-11-14T17:22:05.605Z"
   },
   {
    "duration": 57,
    "start_time": "2021-11-14T17:22:05.629Z"
   },
   {
    "duration": 13,
    "start_time": "2021-11-14T17:22:05.688Z"
   },
   {
    "duration": 2412,
    "start_time": "2021-11-14T17:22:05.703Z"
   },
   {
    "duration": 469,
    "start_time": "2021-11-14T17:22:08.117Z"
   },
   {
    "duration": -162,
    "start_time": "2021-11-14T17:22:08.751Z"
   },
   {
    "duration": -167,
    "start_time": "2021-11-14T17:22:08.758Z"
   },
   {
    "duration": -172,
    "start_time": "2021-11-14T17:22:08.765Z"
   },
   {
    "duration": -303,
    "start_time": "2021-11-14T17:22:08.899Z"
   },
   {
    "duration": -315,
    "start_time": "2021-11-14T17:22:08.913Z"
   },
   {
    "duration": -317,
    "start_time": "2021-11-14T17:22:08.918Z"
   },
   {
    "duration": -319,
    "start_time": "2021-11-14T17:22:08.923Z"
   },
   {
    "duration": -323,
    "start_time": "2021-11-14T17:22:08.929Z"
   },
   {
    "duration": -328,
    "start_time": "2021-11-14T17:22:08.937Z"
   },
   {
    "duration": -330,
    "start_time": "2021-11-14T17:22:08.942Z"
   },
   {
    "duration": -332,
    "start_time": "2021-11-14T17:22:08.947Z"
   },
   {
    "duration": -335,
    "start_time": "2021-11-14T17:22:08.952Z"
   },
   {
    "duration": -337,
    "start_time": "2021-11-14T17:22:08.957Z"
   },
   {
    "duration": -340,
    "start_time": "2021-11-14T17:22:08.962Z"
   },
   {
    "duration": -342,
    "start_time": "2021-11-14T17:22:08.967Z"
   },
   {
    "duration": -398,
    "start_time": "2021-11-14T17:22:09.080Z"
   },
   {
    "duration": -412,
    "start_time": "2021-11-14T17:22:09.096Z"
   },
   {
    "duration": -414,
    "start_time": "2021-11-14T17:22:09.101Z"
   },
   {
    "duration": -418,
    "start_time": "2021-11-14T17:22:09.107Z"
   },
   {
    "duration": -423,
    "start_time": "2021-11-14T17:22:09.114Z"
   },
   {
    "duration": -425,
    "start_time": "2021-11-14T17:22:09.119Z"
   },
   {
    "duration": -428,
    "start_time": "2021-11-14T17:22:09.124Z"
   },
   {
    "duration": -431,
    "start_time": "2021-11-14T17:22:09.129Z"
   },
   {
    "duration": -433,
    "start_time": "2021-11-14T17:22:09.133Z"
   },
   {
    "duration": -436,
    "start_time": "2021-11-14T17:22:09.138Z"
   },
   {
    "duration": -437,
    "start_time": "2021-11-14T17:22:09.142Z"
   },
   {
    "duration": -440,
    "start_time": "2021-11-14T17:22:09.147Z"
   },
   {
    "duration": -475,
    "start_time": "2021-11-14T17:22:09.184Z"
   },
   {
    "duration": -478,
    "start_time": "2021-11-14T17:22:09.188Z"
   },
   {
    "duration": -501,
    "start_time": "2021-11-14T17:22:09.213Z"
   },
   {
    "duration": -505,
    "start_time": "2021-11-14T17:22:09.218Z"
   },
   {
    "duration": -509,
    "start_time": "2021-11-14T17:22:09.223Z"
   },
   {
    "duration": -521,
    "start_time": "2021-11-14T17:22:09.237Z"
   },
   {
    "duration": -526,
    "start_time": "2021-11-14T17:22:09.243Z"
   },
   {
    "duration": -530,
    "start_time": "2021-11-14T17:22:09.248Z"
   },
   {
    "duration": -535,
    "start_time": "2021-11-14T17:22:09.254Z"
   },
   {
    "duration": 1551,
    "start_time": "2021-11-14T17:42:06.284Z"
   },
   {
    "duration": 58,
    "start_time": "2021-11-14T17:42:07.838Z"
   },
   {
    "duration": 5,
    "start_time": "2021-11-14T17:42:07.899Z"
   },
   {
    "duration": 30,
    "start_time": "2021-11-14T17:42:07.907Z"
   },
   {
    "duration": 12,
    "start_time": "2021-11-14T17:42:07.939Z"
   },
   {
    "duration": 34,
    "start_time": "2021-11-14T17:42:07.953Z"
   },
   {
    "duration": 20,
    "start_time": "2021-11-14T17:42:07.990Z"
   },
   {
    "duration": 94,
    "start_time": "2021-11-14T17:42:08.013Z"
   },
   {
    "duration": 20,
    "start_time": "2021-11-14T17:42:08.113Z"
   },
   {
    "duration": 6,
    "start_time": "2021-11-14T17:42:08.138Z"
   },
   {
    "duration": 49,
    "start_time": "2021-11-14T17:42:08.147Z"
   },
   {
    "duration": 20,
    "start_time": "2021-11-14T17:42:08.199Z"
   },
   {
    "duration": 8,
    "start_time": "2021-11-14T17:42:08.222Z"
   },
   {
    "duration": 56,
    "start_time": "2021-11-14T17:42:08.233Z"
   },
   {
    "duration": 23,
    "start_time": "2021-11-14T17:42:08.292Z"
   },
   {
    "duration": 64,
    "start_time": "2021-11-14T17:42:08.318Z"
   },
   {
    "duration": 16,
    "start_time": "2021-11-14T17:42:08.385Z"
   },
   {
    "duration": 5528,
    "start_time": "2021-11-14T17:42:08.404Z"
   },
   {
    "duration": -344,
    "start_time": "2021-11-14T17:42:14.280Z"
   },
   {
    "duration": -355,
    "start_time": "2021-11-14T17:42:14.293Z"
   },
   {
    "duration": -358,
    "start_time": "2021-11-14T17:42:14.297Z"
   },
   {
    "duration": -365,
    "start_time": "2021-11-14T17:42:14.305Z"
   },
   {
    "duration": -368,
    "start_time": "2021-11-14T17:42:14.310Z"
   },
   {
    "duration": -370,
    "start_time": "2021-11-14T17:42:14.313Z"
   },
   {
    "duration": -372,
    "start_time": "2021-11-14T17:42:14.317Z"
   },
   {
    "duration": -374,
    "start_time": "2021-11-14T17:42:14.320Z"
   },
   {
    "duration": -376,
    "start_time": "2021-11-14T17:42:14.323Z"
   },
   {
    "duration": -377,
    "start_time": "2021-11-14T17:42:14.326Z"
   },
   {
    "duration": -380,
    "start_time": "2021-11-14T17:42:14.330Z"
   },
   {
    "duration": -382,
    "start_time": "2021-11-14T17:42:14.333Z"
   },
   {
    "duration": -384,
    "start_time": "2021-11-14T17:42:14.337Z"
   },
   {
    "duration": -386,
    "start_time": "2021-11-14T17:42:14.340Z"
   },
   {
    "duration": -387,
    "start_time": "2021-11-14T17:42:14.342Z"
   },
   {
    "duration": -389,
    "start_time": "2021-11-14T17:42:14.346Z"
   },
   {
    "duration": -391,
    "start_time": "2021-11-14T17:42:14.349Z"
   },
   {
    "duration": -503,
    "start_time": "2021-11-14T17:42:14.462Z"
   },
   {
    "duration": -555,
    "start_time": "2021-11-14T17:42:14.516Z"
   },
   {
    "duration": -566,
    "start_time": "2021-11-14T17:42:14.528Z"
   },
   {
    "duration": -568,
    "start_time": "2021-11-14T17:42:14.532Z"
   },
   {
    "duration": -570,
    "start_time": "2021-11-14T17:42:14.535Z"
   },
   {
    "duration": -571,
    "start_time": "2021-11-14T17:42:14.538Z"
   },
   {
    "duration": -572,
    "start_time": "2021-11-14T17:42:14.541Z"
   },
   {
    "duration": -574,
    "start_time": "2021-11-14T17:42:14.544Z"
   },
   {
    "duration": -576,
    "start_time": "2021-11-14T17:42:14.547Z"
   },
   {
    "duration": -578,
    "start_time": "2021-11-14T17:42:14.551Z"
   },
   {
    "duration": -573,
    "start_time": "2021-11-14T17:42:14.555Z"
   },
   {
    "duration": -576,
    "start_time": "2021-11-14T17:42:14.559Z"
   },
   {
    "duration": -577,
    "start_time": "2021-11-14T17:42:14.562Z"
   },
   {
    "duration": -580,
    "start_time": "2021-11-14T17:42:14.566Z"
   },
   {
    "duration": -581,
    "start_time": "2021-11-14T17:42:14.569Z"
   },
   {
    "duration": -594,
    "start_time": "2021-11-14T17:42:14.583Z"
   },
   {
    "duration": -596,
    "start_time": "2021-11-14T17:42:14.587Z"
   },
   {
    "duration": -599,
    "start_time": "2021-11-14T17:42:14.591Z"
   },
   {
    "duration": -600,
    "start_time": "2021-11-14T17:42:14.594Z"
   },
   {
    "duration": -603,
    "start_time": "2021-11-14T17:42:14.599Z"
   },
   {
    "duration": 110,
    "start_time": "2021-11-14T17:52:22.214Z"
   },
   {
    "duration": 117,
    "start_time": "2021-11-14T17:52:44.013Z"
   },
   {
    "duration": 138,
    "start_time": "2021-11-14T17:53:12.403Z"
   },
   {
    "duration": 105,
    "start_time": "2021-11-14T17:53:53.456Z"
   },
   {
    "duration": 584,
    "start_time": "2021-11-14T17:54:46.444Z"
   },
   {
    "duration": 379,
    "start_time": "2021-11-14T17:55:10.239Z"
   },
   {
    "duration": 123,
    "start_time": "2021-11-14T17:55:25.459Z"
   },
   {
    "duration": 2343,
    "start_time": "2021-11-14T17:55:43.289Z"
   },
   {
    "duration": 385,
    "start_time": "2021-11-14T18:12:52.607Z"
   },
   {
    "duration": 43,
    "start_time": "2021-11-14T18:14:23.413Z"
   },
   {
    "duration": 1734,
    "start_time": "2021-11-14T18:16:27.624Z"
   },
   {
    "duration": 57,
    "start_time": "2021-11-14T18:16:29.361Z"
   },
   {
    "duration": 6,
    "start_time": "2021-11-14T18:16:29.421Z"
   },
   {
    "duration": 31,
    "start_time": "2021-11-14T18:16:29.430Z"
   },
   {
    "duration": 15,
    "start_time": "2021-11-14T18:16:29.482Z"
   },
   {
    "duration": 8,
    "start_time": "2021-11-14T18:16:29.500Z"
   },
   {
    "duration": 17,
    "start_time": "2021-11-14T18:16:29.511Z"
   },
   {
    "duration": 108,
    "start_time": "2021-11-14T18:16:29.530Z"
   },
   {
    "duration": 18,
    "start_time": "2021-11-14T18:16:29.642Z"
   },
   {
    "duration": 27,
    "start_time": "2021-11-14T18:16:29.664Z"
   },
   {
    "duration": 14,
    "start_time": "2021-11-14T18:16:29.694Z"
   },
   {
    "duration": 19,
    "start_time": "2021-11-14T18:16:29.710Z"
   },
   {
    "duration": 52,
    "start_time": "2021-11-14T18:16:29.731Z"
   },
   {
    "duration": 19,
    "start_time": "2021-11-14T18:16:29.786Z"
   },
   {
    "duration": 27,
    "start_time": "2021-11-14T18:16:29.808Z"
   },
   {
    "duration": 50,
    "start_time": "2021-11-14T18:16:29.839Z"
   },
   {
    "duration": 18,
    "start_time": "2021-11-14T18:16:29.892Z"
   },
   {
    "duration": 2119,
    "start_time": "2021-11-14T18:16:29.913Z"
   },
   {
    "duration": 471,
    "start_time": "2021-11-14T18:16:32.034Z"
   },
   {
    "duration": -128,
    "start_time": "2021-11-14T18:16:32.640Z"
   },
   {
    "duration": -132,
    "start_time": "2021-11-14T18:16:32.648Z"
   },
   {
    "duration": -138,
    "start_time": "2021-11-14T18:16:32.656Z"
   },
   {
    "duration": -270,
    "start_time": "2021-11-14T18:16:32.790Z"
   },
   {
    "duration": -275,
    "start_time": "2021-11-14T18:16:32.797Z"
   },
   {
    "duration": -279,
    "start_time": "2021-11-14T18:16:32.803Z"
   },
   {
    "duration": -282,
    "start_time": "2021-11-14T18:16:32.808Z"
   },
   {
    "duration": -285,
    "start_time": "2021-11-14T18:16:32.813Z"
   },
   {
    "duration": -286,
    "start_time": "2021-11-14T18:16:32.817Z"
   },
   {
    "duration": -299,
    "start_time": "2021-11-14T18:16:32.831Z"
   },
   {
    "duration": -305,
    "start_time": "2021-11-14T18:16:32.838Z"
   },
   {
    "duration": -309,
    "start_time": "2021-11-14T18:16:32.844Z"
   },
   {
    "duration": -314,
    "start_time": "2021-11-14T18:16:32.850Z"
   },
   {
    "duration": -319,
    "start_time": "2021-11-14T18:16:32.856Z"
   },
   {
    "duration": -323,
    "start_time": "2021-11-14T18:16:32.861Z"
   },
   {
    "duration": -326,
    "start_time": "2021-11-14T18:16:32.865Z"
   },
   {
    "duration": -329,
    "start_time": "2021-11-14T18:16:32.870Z"
   },
   {
    "duration": -333,
    "start_time": "2021-11-14T18:16:32.875Z"
   },
   {
    "duration": -336,
    "start_time": "2021-11-14T18:16:32.880Z"
   },
   {
    "duration": -338,
    "start_time": "2021-11-14T18:16:32.884Z"
   },
   {
    "duration": -307,
    "start_time": "2021-11-14T18:16:32.889Z"
   },
   {
    "duration": -311,
    "start_time": "2021-11-14T18:16:32.896Z"
   },
   {
    "duration": -315,
    "start_time": "2021-11-14T18:16:32.901Z"
   },
   {
    "duration": -329,
    "start_time": "2021-11-14T18:16:32.917Z"
   },
   {
    "duration": -365,
    "start_time": "2021-11-14T18:16:32.955Z"
   },
   {
    "duration": -369,
    "start_time": "2021-11-14T18:16:32.960Z"
   },
   {
    "duration": -371,
    "start_time": "2021-11-14T18:16:32.964Z"
   },
   {
    "duration": -374,
    "start_time": "2021-11-14T18:16:32.969Z"
   },
   {
    "duration": -377,
    "start_time": "2021-11-14T18:16:32.974Z"
   },
   {
    "duration": -381,
    "start_time": "2021-11-14T18:16:32.980Z"
   },
   {
    "duration": -385,
    "start_time": "2021-11-14T18:16:32.985Z"
   },
   {
    "duration": -387,
    "start_time": "2021-11-14T18:16:32.989Z"
   },
   {
    "duration": -390,
    "start_time": "2021-11-14T18:16:32.994Z"
   },
   {
    "duration": -394,
    "start_time": "2021-11-14T18:16:33.000Z"
   },
   {
    "duration": -398,
    "start_time": "2021-11-14T18:16:33.006Z"
   },
   {
    "duration": -400,
    "start_time": "2021-11-14T18:16:33.010Z"
   },
   {
    "duration": -404,
    "start_time": "2021-11-14T18:16:33.015Z"
   },
   {
    "duration": 6,
    "start_time": "2021-11-14T18:17:29.597Z"
   },
   {
    "duration": 2237,
    "start_time": "2021-11-14T18:18:16.176Z"
   },
   {
    "duration": 1699,
    "start_time": "2021-11-14T18:18:24.444Z"
   },
   {
    "duration": 66,
    "start_time": "2021-11-14T18:18:26.145Z"
   },
   {
    "duration": 4,
    "start_time": "2021-11-14T18:18:26.214Z"
   },
   {
    "duration": 26,
    "start_time": "2021-11-14T18:18:26.220Z"
   },
   {
    "duration": 36,
    "start_time": "2021-11-14T18:18:26.248Z"
   },
   {
    "duration": 10,
    "start_time": "2021-11-14T18:18:26.288Z"
   },
   {
    "duration": 15,
    "start_time": "2021-11-14T18:18:26.301Z"
   },
   {
    "duration": 98,
    "start_time": "2021-11-14T18:18:26.320Z"
   },
   {
    "duration": 17,
    "start_time": "2021-11-14T18:18:26.421Z"
   },
   {
    "duration": 13,
    "start_time": "2021-11-14T18:18:26.441Z"
   },
   {
    "duration": 36,
    "start_time": "2021-11-14T18:18:26.456Z"
   },
   {
    "duration": 19,
    "start_time": "2021-11-14T18:18:26.496Z"
   },
   {
    "duration": 8,
    "start_time": "2021-11-14T18:18:26.517Z"
   },
   {
    "duration": 11,
    "start_time": "2021-11-14T18:18:26.527Z"
   },
   {
    "duration": 31,
    "start_time": "2021-11-14T18:18:26.583Z"
   },
   {
    "duration": 32,
    "start_time": "2021-11-14T18:18:26.617Z"
   },
   {
    "duration": 42,
    "start_time": "2021-11-14T18:18:26.652Z"
   },
   {
    "duration": 2324,
    "start_time": "2021-11-14T18:18:26.696Z"
   },
   {
    "duration": 5,
    "start_time": "2021-11-14T18:18:29.022Z"
   },
   {
    "duration": 69,
    "start_time": "2021-11-14T18:18:29.030Z"
   },
   {
    "duration": 12,
    "start_time": "2021-11-14T18:18:29.102Z"
   },
   {
    "duration": 11,
    "start_time": "2021-11-14T18:18:29.118Z"
   },
   {
    "duration": 465,
    "start_time": "2021-11-14T18:18:29.136Z"
   },
   {
    "duration": -131,
    "start_time": "2021-11-14T18:18:29.736Z"
   },
   {
    "duration": -136,
    "start_time": "2021-11-14T18:18:29.743Z"
   },
   {
    "duration": -141,
    "start_time": "2021-11-14T18:18:29.750Z"
   },
   {
    "duration": -144,
    "start_time": "2021-11-14T18:18:29.756Z"
   },
   {
    "duration": -150,
    "start_time": "2021-11-14T18:18:29.764Z"
   },
   {
    "duration": -154,
    "start_time": "2021-11-14T18:18:29.770Z"
   },
   {
    "duration": -157,
    "start_time": "2021-11-14T18:18:29.775Z"
   },
   {
    "duration": -281,
    "start_time": "2021-11-14T18:18:29.902Z"
   },
   {
    "duration": -286,
    "start_time": "2021-11-14T18:18:29.909Z"
   },
   {
    "duration": -290,
    "start_time": "2021-11-14T18:18:29.915Z"
   },
   {
    "duration": -293,
    "start_time": "2021-11-14T18:18:29.920Z"
   },
   {
    "duration": -297,
    "start_time": "2021-11-14T18:18:29.926Z"
   },
   {
    "duration": -299,
    "start_time": "2021-11-14T18:18:29.931Z"
   },
   {
    "duration": -300,
    "start_time": "2021-11-14T18:18:29.935Z"
   },
   {
    "duration": -303,
    "start_time": "2021-11-14T18:18:29.940Z"
   },
   {
    "duration": -305,
    "start_time": "2021-11-14T18:18:29.944Z"
   },
   {
    "duration": -308,
    "start_time": "2021-11-14T18:18:29.949Z"
   },
   {
    "duration": -272,
    "start_time": "2021-11-14T18:18:29.954Z"
   },
   {
    "duration": -275,
    "start_time": "2021-11-14T18:18:29.959Z"
   },
   {
    "duration": -277,
    "start_time": "2021-11-14T18:18:29.963Z"
   },
   {
    "duration": -280,
    "start_time": "2021-11-14T18:18:29.968Z"
   },
   {
    "duration": -280,
    "start_time": "2021-11-14T18:18:29.972Z"
   },
   {
    "duration": -282,
    "start_time": "2021-11-14T18:18:29.976Z"
   },
   {
    "duration": -284,
    "start_time": "2021-11-14T18:18:29.980Z"
   },
   {
    "duration": -288,
    "start_time": "2021-11-14T18:18:29.985Z"
   },
   {
    "duration": -291,
    "start_time": "2021-11-14T18:18:29.989Z"
   },
   {
    "duration": -294,
    "start_time": "2021-11-14T18:18:29.993Z"
   },
   {
    "duration": -298,
    "start_time": "2021-11-14T18:18:29.998Z"
   },
   {
    "duration": -315,
    "start_time": "2021-11-14T18:18:30.017Z"
   },
   {
    "duration": -319,
    "start_time": "2021-11-14T18:18:30.023Z"
   },
   {
    "duration": -325,
    "start_time": "2021-11-14T18:18:30.030Z"
   },
   {
    "duration": -328,
    "start_time": "2021-11-14T18:18:30.034Z"
   },
   {
    "duration": -331,
    "start_time": "2021-11-14T18:18:30.039Z"
   },
   {
    "duration": 1732,
    "start_time": "2021-11-14T18:22:41.590Z"
   },
   {
    "duration": 53,
    "start_time": "2021-11-14T18:22:43.325Z"
   },
   {
    "duration": 6,
    "start_time": "2021-11-14T18:22:43.382Z"
   },
   {
    "duration": 32,
    "start_time": "2021-11-14T18:22:43.392Z"
   },
   {
    "duration": 12,
    "start_time": "2021-11-14T18:22:43.426Z"
   },
   {
    "duration": 17,
    "start_time": "2021-11-14T18:22:43.441Z"
   },
   {
    "duration": 13,
    "start_time": "2021-11-14T18:22:43.483Z"
   },
   {
    "duration": 85,
    "start_time": "2021-11-14T18:22:43.499Z"
   },
   {
    "duration": 21,
    "start_time": "2021-11-14T18:22:43.588Z"
   },
   {
    "duration": 10,
    "start_time": "2021-11-14T18:22:43.612Z"
   },
   {
    "duration": 18,
    "start_time": "2021-11-14T18:22:43.625Z"
   },
   {
    "duration": 54,
    "start_time": "2021-11-14T18:22:43.645Z"
   },
   {
    "duration": 19,
    "start_time": "2021-11-14T18:22:43.702Z"
   },
   {
    "duration": 14,
    "start_time": "2021-11-14T18:22:43.723Z"
   },
   {
    "duration": 51,
    "start_time": "2021-11-14T18:22:43.739Z"
   },
   {
    "duration": 24,
    "start_time": "2021-11-14T18:22:43.792Z"
   },
   {
    "duration": 13,
    "start_time": "2021-11-14T18:22:43.818Z"
   },
   {
    "duration": 2072,
    "start_time": "2021-11-14T18:22:43.834Z"
   },
   {
    "duration": 483,
    "start_time": "2021-11-14T18:22:45.908Z"
   },
   {
    "duration": -126,
    "start_time": "2021-11-14T18:22:46.522Z"
   },
   {
    "duration": -129,
    "start_time": "2021-11-14T18:22:46.527Z"
   },
   {
    "duration": -133,
    "start_time": "2021-11-14T18:22:46.532Z"
   },
   {
    "duration": -140,
    "start_time": "2021-11-14T18:22:46.540Z"
   },
   {
    "duration": -144,
    "start_time": "2021-11-14T18:22:46.546Z"
   },
   {
    "duration": -264,
    "start_time": "2021-11-14T18:22:46.667Z"
   },
   {
    "duration": -285,
    "start_time": "2021-11-14T18:22:46.689Z"
   },
   {
    "duration": -289,
    "start_time": "2021-11-14T18:22:46.694Z"
   },
   {
    "duration": -293,
    "start_time": "2021-11-14T18:22:46.700Z"
   },
   {
    "duration": -297,
    "start_time": "2021-11-14T18:22:46.705Z"
   },
   {
    "duration": -302,
    "start_time": "2021-11-14T18:22:46.712Z"
   },
   {
    "duration": -304,
    "start_time": "2021-11-14T18:22:46.719Z"
   },
   {
    "duration": -307,
    "start_time": "2021-11-14T18:22:46.724Z"
   },
   {
    "duration": -309,
    "start_time": "2021-11-14T18:22:46.728Z"
   },
   {
    "duration": -311,
    "start_time": "2021-11-14T18:22:46.732Z"
   },
   {
    "duration": -314,
    "start_time": "2021-11-14T18:22:46.737Z"
   },
   {
    "duration": -316,
    "start_time": "2021-11-14T18:22:46.741Z"
   },
   {
    "duration": -318,
    "start_time": "2021-11-14T18:22:46.745Z"
   },
   {
    "duration": -320,
    "start_time": "2021-11-14T18:22:46.749Z"
   },
   {
    "duration": -323,
    "start_time": "2021-11-14T18:22:46.754Z"
   },
   {
    "duration": -326,
    "start_time": "2021-11-14T18:22:46.759Z"
   },
   {
    "duration": -333,
    "start_time": "2021-11-14T18:22:46.767Z"
   },
   {
    "duration": -336,
    "start_time": "2021-11-14T18:22:46.772Z"
   },
   {
    "duration": -295,
    "start_time": "2021-11-14T18:22:46.778Z"
   },
   {
    "duration": -299,
    "start_time": "2021-11-14T18:22:46.783Z"
   },
   {
    "duration": -302,
    "start_time": "2021-11-14T18:22:46.788Z"
   },
   {
    "duration": -316,
    "start_time": "2021-11-14T18:22:46.803Z"
   },
   {
    "duration": -353,
    "start_time": "2021-11-14T18:22:46.842Z"
   },
   {
    "duration": -386,
    "start_time": "2021-11-14T18:22:46.877Z"
   },
   {
    "duration": -389,
    "start_time": "2021-11-14T18:22:46.884Z"
   },
   {
    "duration": -392,
    "start_time": "2021-11-14T18:22:46.889Z"
   },
   {
    "duration": -397,
    "start_time": "2021-11-14T18:22:46.895Z"
   },
   {
    "duration": -400,
    "start_time": "2021-11-14T18:22:46.900Z"
   },
   {
    "duration": -403,
    "start_time": "2021-11-14T18:22:46.905Z"
   },
   {
    "duration": -407,
    "start_time": "2021-11-14T18:22:46.911Z"
   },
   {
    "duration": -412,
    "start_time": "2021-11-14T18:22:46.917Z"
   },
   {
    "duration": -416,
    "start_time": "2021-11-14T18:22:46.922Z"
   },
   {
    "duration": 8,
    "start_time": "2021-11-14T18:23:40.147Z"
   },
   {
    "duration": 2186,
    "start_time": "2021-11-14T18:25:07.961Z"
   },
   {
    "duration": 79,
    "start_time": "2021-11-14T18:25:10.151Z"
   },
   {
    "duration": 7,
    "start_time": "2021-11-14T18:25:10.234Z"
   },
   {
    "duration": 61,
    "start_time": "2021-11-14T18:25:10.245Z"
   },
   {
    "duration": 18,
    "start_time": "2021-11-14T18:25:10.309Z"
   },
   {
    "duration": 12,
    "start_time": "2021-11-14T18:25:10.330Z"
   },
   {
    "duration": 41,
    "start_time": "2021-11-14T18:25:10.345Z"
   },
   {
    "duration": 75,
    "start_time": "2021-11-14T18:25:10.389Z"
   },
   {
    "duration": 32,
    "start_time": "2021-11-14T18:25:10.468Z"
   },
   {
    "duration": 8,
    "start_time": "2021-11-14T18:25:10.504Z"
   },
   {
    "duration": 19,
    "start_time": "2021-11-14T18:25:10.515Z"
   },
   {
    "duration": 55,
    "start_time": "2021-11-14T18:25:10.537Z"
   },
   {
    "duration": 26,
    "start_time": "2021-11-14T18:25:10.595Z"
   },
   {
    "duration": 24,
    "start_time": "2021-11-14T18:25:10.624Z"
   },
   {
    "duration": 30,
    "start_time": "2021-11-14T18:25:10.651Z"
   },
   {
    "duration": 26,
    "start_time": "2021-11-14T18:25:10.684Z"
   },
   {
    "duration": 16,
    "start_time": "2021-11-14T18:25:10.713Z"
   },
   {
    "duration": 2383,
    "start_time": "2021-11-14T18:25:10.732Z"
   },
   {
    "duration": 459,
    "start_time": "2021-11-14T18:25:13.118Z"
   },
   {
    "duration": -102,
    "start_time": "2021-11-14T18:25:13.684Z"
   },
   {
    "duration": -107,
    "start_time": "2021-11-14T18:25:13.691Z"
   },
   {
    "duration": -134,
    "start_time": "2021-11-14T18:25:13.720Z"
   },
   {
    "duration": -253,
    "start_time": "2021-11-14T18:25:13.840Z"
   },
   {
    "duration": -256,
    "start_time": "2021-11-14T18:25:13.845Z"
   },
   {
    "duration": -260,
    "start_time": "2021-11-14T18:25:13.850Z"
   },
   {
    "duration": -262,
    "start_time": "2021-11-14T18:25:13.854Z"
   },
   {
    "duration": -267,
    "start_time": "2021-11-14T18:25:13.860Z"
   },
   {
    "duration": -271,
    "start_time": "2021-11-14T18:25:13.865Z"
   },
   {
    "duration": -273,
    "start_time": "2021-11-14T18:25:13.869Z"
   },
   {
    "duration": -276,
    "start_time": "2021-11-14T18:25:13.875Z"
   },
   {
    "duration": -280,
    "start_time": "2021-11-14T18:25:13.881Z"
   },
   {
    "duration": -283,
    "start_time": "2021-11-14T18:25:13.886Z"
   },
   {
    "duration": -286,
    "start_time": "2021-11-14T18:25:13.890Z"
   },
   {
    "duration": -288,
    "start_time": "2021-11-14T18:25:13.895Z"
   },
   {
    "duration": -290,
    "start_time": "2021-11-14T18:25:13.899Z"
   },
   {
    "duration": -294,
    "start_time": "2021-11-14T18:25:13.905Z"
   },
   {
    "duration": -299,
    "start_time": "2021-11-14T18:25:13.911Z"
   },
   {
    "duration": -303,
    "start_time": "2021-11-14T18:25:13.917Z"
   },
   {
    "duration": -306,
    "start_time": "2021-11-14T18:25:13.922Z"
   },
   {
    "duration": -309,
    "start_time": "2021-11-14T18:25:13.926Z"
   },
   {
    "duration": -313,
    "start_time": "2021-11-14T18:25:13.931Z"
   },
   {
    "duration": -316,
    "start_time": "2021-11-14T18:25:13.936Z"
   },
   {
    "duration": -330,
    "start_time": "2021-11-14T18:25:13.951Z"
   },
   {
    "duration": -390,
    "start_time": "2021-11-14T18:25:14.013Z"
   },
   {
    "duration": -433,
    "start_time": "2021-11-14T18:25:14.058Z"
   },
   {
    "duration": -438,
    "start_time": "2021-11-14T18:25:14.064Z"
   },
   {
    "duration": -440,
    "start_time": "2021-11-14T18:25:14.068Z"
   },
   {
    "duration": -443,
    "start_time": "2021-11-14T18:25:14.072Z"
   },
   {
    "duration": -447,
    "start_time": "2021-11-14T18:25:14.077Z"
   },
   {
    "duration": -450,
    "start_time": "2021-11-14T18:25:14.081Z"
   },
   {
    "duration": -453,
    "start_time": "2021-11-14T18:25:14.085Z"
   },
   {
    "duration": -407,
    "start_time": "2021-11-14T18:25:14.089Z"
   },
   {
    "duration": -409,
    "start_time": "2021-11-14T18:25:14.093Z"
   },
   {
    "duration": -413,
    "start_time": "2021-11-14T18:25:14.098Z"
   },
   {
    "duration": -416,
    "start_time": "2021-11-14T18:25:14.102Z"
   },
   {
    "duration": -418,
    "start_time": "2021-11-14T18:25:14.106Z"
   },
   {
    "duration": 2000,
    "start_time": "2021-11-14T18:26:04.382Z"
   },
   {
    "duration": 56,
    "start_time": "2021-11-14T18:26:06.386Z"
   },
   {
    "duration": 5,
    "start_time": "2021-11-14T18:26:06.445Z"
   },
   {
    "duration": 45,
    "start_time": "2021-11-14T18:26:06.453Z"
   },
   {
    "duration": 13,
    "start_time": "2021-11-14T18:26:06.501Z"
   },
   {
    "duration": 12,
    "start_time": "2021-11-14T18:26:06.516Z"
   },
   {
    "duration": 12,
    "start_time": "2021-11-14T18:26:06.530Z"
   },
   {
    "duration": 67,
    "start_time": "2021-11-14T18:26:06.584Z"
   },
   {
    "duration": 37,
    "start_time": "2021-11-14T18:26:06.655Z"
   },
   {
    "duration": 8,
    "start_time": "2021-11-14T18:26:06.695Z"
   },
   {
    "duration": 20,
    "start_time": "2021-11-14T18:26:06.707Z"
   },
   {
    "duration": 51,
    "start_time": "2021-11-14T18:26:06.730Z"
   },
   {
    "duration": 9,
    "start_time": "2021-11-14T18:26:06.785Z"
   },
   {
    "duration": 12,
    "start_time": "2021-11-14T18:26:06.797Z"
   },
   {
    "duration": 20,
    "start_time": "2021-11-14T18:26:06.812Z"
   },
   {
    "duration": 66,
    "start_time": "2021-11-14T18:26:06.835Z"
   },
   {
    "duration": 14,
    "start_time": "2021-11-14T18:26:06.904Z"
   },
   {
    "duration": 2332,
    "start_time": "2021-11-14T18:26:06.920Z"
   },
   {
    "duration": 484,
    "start_time": "2021-11-14T18:26:09.255Z"
   },
   {
    "duration": -124,
    "start_time": "2021-11-14T18:26:09.868Z"
   },
   {
    "duration": -128,
    "start_time": "2021-11-14T18:26:09.875Z"
   },
   {
    "duration": -135,
    "start_time": "2021-11-14T18:26:09.883Z"
   },
   {
    "duration": -137,
    "start_time": "2021-11-14T18:26:09.887Z"
   },
   {
    "duration": -281,
    "start_time": "2021-11-14T18:26:10.032Z"
   },
   {
    "duration": -284,
    "start_time": "2021-11-14T18:26:10.037Z"
   },
   {
    "duration": -286,
    "start_time": "2021-11-14T18:26:10.041Z"
   },
   {
    "duration": -289,
    "start_time": "2021-11-14T18:26:10.045Z"
   },
   {
    "duration": -291,
    "start_time": "2021-11-14T18:26:10.049Z"
   },
   {
    "duration": -294,
    "start_time": "2021-11-14T18:26:10.054Z"
   },
   {
    "duration": -297,
    "start_time": "2021-11-14T18:26:10.058Z"
   },
   {
    "duration": -299,
    "start_time": "2021-11-14T18:26:10.062Z"
   },
   {
    "duration": -302,
    "start_time": "2021-11-14T18:26:10.067Z"
   },
   {
    "duration": -307,
    "start_time": "2021-11-14T18:26:10.073Z"
   },
   {
    "duration": -310,
    "start_time": "2021-11-14T18:26:10.078Z"
   },
   {
    "duration": -312,
    "start_time": "2021-11-14T18:26:10.082Z"
   },
   {
    "duration": -446,
    "start_time": "2021-11-14T18:26:10.217Z"
   },
   {
    "duration": -450,
    "start_time": "2021-11-14T18:26:10.223Z"
   },
   {
    "duration": -453,
    "start_time": "2021-11-14T18:26:10.228Z"
   },
   {
    "duration": -457,
    "start_time": "2021-11-14T18:26:10.233Z"
   },
   {
    "duration": -460,
    "start_time": "2021-11-14T18:26:10.238Z"
   },
   {
    "duration": -463,
    "start_time": "2021-11-14T18:26:10.243Z"
   },
   {
    "duration": -463,
    "start_time": "2021-11-14T18:26:10.247Z"
   },
   {
    "duration": -467,
    "start_time": "2021-11-14T18:26:10.252Z"
   },
   {
    "duration": -469,
    "start_time": "2021-11-14T18:26:10.256Z"
   },
   {
    "duration": -473,
    "start_time": "2021-11-14T18:26:10.262Z"
   },
   {
    "duration": -477,
    "start_time": "2021-11-14T18:26:10.268Z"
   },
   {
    "duration": -479,
    "start_time": "2021-11-14T18:26:10.273Z"
   },
   {
    "duration": -482,
    "start_time": "2021-11-14T18:26:10.278Z"
   },
   {
    "duration": -486,
    "start_time": "2021-11-14T18:26:10.283Z"
   },
   {
    "duration": -513,
    "start_time": "2021-11-14T18:26:10.312Z"
   },
   {
    "duration": -517,
    "start_time": "2021-11-14T18:26:10.317Z"
   },
   {
    "duration": -521,
    "start_time": "2021-11-14T18:26:10.323Z"
   },
   {
    "duration": -524,
    "start_time": "2021-11-14T18:26:10.328Z"
   },
   {
    "duration": -528,
    "start_time": "2021-11-14T18:26:10.334Z"
   },
   {
    "duration": -531,
    "start_time": "2021-11-14T18:26:10.339Z"
   },
   {
    "duration": -534,
    "start_time": "2021-11-14T18:26:10.344Z"
   },
   {
    "duration": 1619,
    "start_time": "2021-11-14T18:28:50.032Z"
   },
   {
    "duration": 65,
    "start_time": "2021-11-14T18:28:51.654Z"
   },
   {
    "duration": 8,
    "start_time": "2021-11-14T18:28:51.722Z"
   },
   {
    "duration": 50,
    "start_time": "2021-11-14T18:28:51.734Z"
   },
   {
    "duration": 11,
    "start_time": "2021-11-14T18:28:51.787Z"
   },
   {
    "duration": 15,
    "start_time": "2021-11-14T18:28:51.801Z"
   },
   {
    "duration": 21,
    "start_time": "2021-11-14T18:28:51.818Z"
   },
   {
    "duration": 90,
    "start_time": "2021-11-14T18:28:51.842Z"
   },
   {
    "duration": 17,
    "start_time": "2021-11-14T18:28:51.935Z"
   },
   {
    "duration": 28,
    "start_time": "2021-11-14T18:28:51.954Z"
   },
   {
    "duration": 19,
    "start_time": "2021-11-14T18:28:51.985Z"
   },
   {
    "duration": 19,
    "start_time": "2021-11-14T18:28:52.008Z"
   },
   {
    "duration": 8,
    "start_time": "2021-11-14T18:28:52.030Z"
   },
   {
    "duration": 9,
    "start_time": "2021-11-14T18:28:52.082Z"
   },
   {
    "duration": 26,
    "start_time": "2021-11-14T18:28:52.094Z"
   },
   {
    "duration": 23,
    "start_time": "2021-11-14T18:28:52.123Z"
   },
   {
    "duration": 18,
    "start_time": "2021-11-14T18:28:52.181Z"
   },
   {
    "duration": 2333,
    "start_time": "2021-11-14T18:28:52.201Z"
   },
   {
    "duration": 466,
    "start_time": "2021-11-14T18:28:54.536Z"
   },
   {
    "duration": -116,
    "start_time": "2021-11-14T18:28:55.124Z"
   },
   {
    "duration": -119,
    "start_time": "2021-11-14T18:28:55.129Z"
   },
   {
    "duration": -124,
    "start_time": "2021-11-14T18:28:55.135Z"
   },
   {
    "duration": -127,
    "start_time": "2021-11-14T18:28:55.140Z"
   },
   {
    "duration": -265,
    "start_time": "2021-11-14T18:28:55.280Z"
   },
   {
    "duration": -276,
    "start_time": "2021-11-14T18:28:55.292Z"
   },
   {
    "duration": -278,
    "start_time": "2021-11-14T18:28:55.296Z"
   },
   {
    "duration": -279,
    "start_time": "2021-11-14T18:28:55.298Z"
   },
   {
    "duration": -280,
    "start_time": "2021-11-14T18:28:55.301Z"
   },
   {
    "duration": -281,
    "start_time": "2021-11-14T18:28:55.304Z"
   },
   {
    "duration": -285,
    "start_time": "2021-11-14T18:28:55.310Z"
   },
   {
    "duration": -285,
    "start_time": "2021-11-14T18:28:55.312Z"
   },
   {
    "duration": -286,
    "start_time": "2021-11-14T18:28:55.316Z"
   },
   {
    "duration": -288,
    "start_time": "2021-11-14T18:28:55.320Z"
   },
   {
    "duration": -289,
    "start_time": "2021-11-14T18:28:55.323Z"
   },
   {
    "duration": -288,
    "start_time": "2021-11-14T18:28:55.325Z"
   },
   {
    "duration": -288,
    "start_time": "2021-11-14T18:28:55.328Z"
   },
   {
    "duration": -433,
    "start_time": "2021-11-14T18:28:55.475Z"
   },
   {
    "duration": -451,
    "start_time": "2021-11-14T18:28:55.495Z"
   },
   {
    "duration": -417,
    "start_time": "2021-11-14T18:28:55.499Z"
   },
   {
    "duration": -418,
    "start_time": "2021-11-14T18:28:55.502Z"
   },
   {
    "duration": -420,
    "start_time": "2021-11-14T18:28:55.506Z"
   },
   {
    "duration": -423,
    "start_time": "2021-11-14T18:28:55.510Z"
   },
   {
    "duration": -424,
    "start_time": "2021-11-14T18:28:55.513Z"
   },
   {
    "duration": -425,
    "start_time": "2021-11-14T18:28:55.516Z"
   },
   {
    "duration": -426,
    "start_time": "2021-11-14T18:28:55.518Z"
   },
   {
    "duration": -427,
    "start_time": "2021-11-14T18:28:55.521Z"
   },
   {
    "duration": -428,
    "start_time": "2021-11-14T18:28:55.524Z"
   },
   {
    "duration": -427,
    "start_time": "2021-11-14T18:28:55.527Z"
   },
   {
    "duration": -428,
    "start_time": "2021-11-14T18:28:55.530Z"
   },
   {
    "duration": -478,
    "start_time": "2021-11-14T18:28:55.582Z"
   },
   {
    "duration": -480,
    "start_time": "2021-11-14T18:28:55.586Z"
   },
   {
    "duration": -487,
    "start_time": "2021-11-14T18:28:55.595Z"
   },
   {
    "duration": -487,
    "start_time": "2021-11-14T18:28:55.598Z"
   },
   {
    "duration": -488,
    "start_time": "2021-11-14T18:28:55.601Z"
   },
   {
    "duration": -489,
    "start_time": "2021-11-14T18:28:55.604Z"
   },
   {
    "duration": -491,
    "start_time": "2021-11-14T18:28:55.608Z"
   },
   {
    "duration": 1524,
    "start_time": "2021-11-14T18:29:07.707Z"
   },
   {
    "duration": 58,
    "start_time": "2021-11-14T18:29:09.234Z"
   },
   {
    "duration": 7,
    "start_time": "2021-11-14T18:29:09.295Z"
   },
   {
    "duration": 32,
    "start_time": "2021-11-14T18:29:09.305Z"
   },
   {
    "duration": 13,
    "start_time": "2021-11-14T18:29:09.340Z"
   },
   {
    "duration": 35,
    "start_time": "2021-11-14T18:29:09.356Z"
   },
   {
    "duration": 17,
    "start_time": "2021-11-14T18:29:09.395Z"
   },
   {
    "duration": 99,
    "start_time": "2021-11-14T18:29:09.416Z"
   },
   {
    "duration": 17,
    "start_time": "2021-11-14T18:29:09.518Z"
   },
   {
    "duration": 13,
    "start_time": "2021-11-14T18:29:09.538Z"
   },
   {
    "duration": 37,
    "start_time": "2021-11-14T18:29:09.553Z"
   },
   {
    "duration": 19,
    "start_time": "2021-11-14T18:29:09.593Z"
   },
   {
    "duration": 12,
    "start_time": "2021-11-14T18:29:09.615Z"
   },
   {
    "duration": 15,
    "start_time": "2021-11-14T18:29:09.630Z"
   },
   {
    "duration": 57,
    "start_time": "2021-11-14T18:29:09.648Z"
   },
   {
    "duration": 21,
    "start_time": "2021-11-14T18:29:09.708Z"
   },
   {
    "duration": 14,
    "start_time": "2021-11-14T18:29:09.731Z"
   },
   {
    "duration": 2421,
    "start_time": "2021-11-14T18:29:09.782Z"
   },
   {
    "duration": 566,
    "start_time": "2021-11-14T18:29:12.206Z"
   },
   {
    "duration": -125,
    "start_time": "2021-11-14T18:29:12.903Z"
   },
   {
    "duration": -128,
    "start_time": "2021-11-14T18:29:12.908Z"
   },
   {
    "duration": -131,
    "start_time": "2021-11-14T18:29:12.914Z"
   },
   {
    "duration": -268,
    "start_time": "2021-11-14T18:29:13.053Z"
   },
   {
    "duration": -272,
    "start_time": "2021-11-14T18:29:13.059Z"
   },
   {
    "duration": -275,
    "start_time": "2021-11-14T18:29:13.065Z"
   },
   {
    "duration": -282,
    "start_time": "2021-11-14T18:29:13.074Z"
   },
   {
    "duration": -284,
    "start_time": "2021-11-14T18:29:13.078Z"
   },
   {
    "duration": -287,
    "start_time": "2021-11-14T18:29:13.083Z"
   },
   {
    "duration": -289,
    "start_time": "2021-11-14T18:29:13.087Z"
   },
   {
    "duration": -291,
    "start_time": "2021-11-14T18:29:13.091Z"
   },
   {
    "duration": -295,
    "start_time": "2021-11-14T18:29:13.097Z"
   },
   {
    "duration": -299,
    "start_time": "2021-11-14T18:29:13.103Z"
   },
   {
    "duration": -301,
    "start_time": "2021-11-14T18:29:13.107Z"
   },
   {
    "duration": -303,
    "start_time": "2021-11-14T18:29:13.111Z"
   },
   {
    "duration": -340,
    "start_time": "2021-11-14T18:29:13.149Z"
   },
   {
    "duration": -415,
    "start_time": "2021-11-14T18:29:13.226Z"
   },
   {
    "duration": -418,
    "start_time": "2021-11-14T18:29:13.232Z"
   },
   {
    "duration": -421,
    "start_time": "2021-11-14T18:29:13.237Z"
   },
   {
    "duration": -424,
    "start_time": "2021-11-14T18:29:13.242Z"
   },
   {
    "duration": -427,
    "start_time": "2021-11-14T18:29:13.247Z"
   },
   {
    "duration": -429,
    "start_time": "2021-11-14T18:29:13.252Z"
   },
   {
    "duration": -432,
    "start_time": "2021-11-14T18:29:13.256Z"
   },
   {
    "duration": -435,
    "start_time": "2021-11-14T18:29:13.261Z"
   },
   {
    "duration": -439,
    "start_time": "2021-11-14T18:29:13.266Z"
   },
   {
    "duration": -390,
    "start_time": "2021-11-14T18:29:13.271Z"
   },
   {
    "duration": -392,
    "start_time": "2021-11-14T18:29:13.277Z"
   },
   {
    "duration": -394,
    "start_time": "2021-11-14T18:29:13.281Z"
   },
   {
    "duration": -431,
    "start_time": "2021-11-14T18:29:13.320Z"
   },
   {
    "duration": -433,
    "start_time": "2021-11-14T18:29:13.324Z"
   },
   {
    "duration": -443,
    "start_time": "2021-11-14T18:29:13.336Z"
   },
   {
    "duration": -446,
    "start_time": "2021-11-14T18:29:13.341Z"
   },
   {
    "duration": -449,
    "start_time": "2021-11-14T18:29:13.346Z"
   },
   {
    "duration": -454,
    "start_time": "2021-11-14T18:29:13.352Z"
   },
   {
    "duration": -457,
    "start_time": "2021-11-14T18:29:13.357Z"
   },
   {
    "duration": -461,
    "start_time": "2021-11-14T18:29:13.362Z"
   },
   {
    "duration": -464,
    "start_time": "2021-11-14T18:29:13.366Z"
   },
   {
    "duration": 45,
    "start_time": "2021-11-14T18:29:42.310Z"
   },
   {
    "duration": 1647,
    "start_time": "2021-11-14T18:31:39.601Z"
   },
   {
    "duration": 64,
    "start_time": "2021-11-14T18:31:41.251Z"
   },
   {
    "duration": 6,
    "start_time": "2021-11-14T18:31:41.318Z"
   },
   {
    "duration": 26,
    "start_time": "2021-11-14T18:31:41.327Z"
   },
   {
    "duration": 38,
    "start_time": "2021-11-14T18:31:41.355Z"
   },
   {
    "duration": 12,
    "start_time": "2021-11-14T18:31:41.396Z"
   },
   {
    "duration": 10,
    "start_time": "2021-11-14T18:31:41.411Z"
   },
   {
    "duration": 108,
    "start_time": "2021-11-14T18:31:41.425Z"
   },
   {
    "duration": 17,
    "start_time": "2021-11-14T18:31:41.536Z"
   },
   {
    "duration": 29,
    "start_time": "2021-11-14T18:31:41.556Z"
   },
   {
    "duration": 19,
    "start_time": "2021-11-14T18:31:41.588Z"
   },
   {
    "duration": 17,
    "start_time": "2021-11-14T18:31:41.610Z"
   },
   {
    "duration": 8,
    "start_time": "2021-11-14T18:31:41.630Z"
   },
   {
    "duration": 12,
    "start_time": "2021-11-14T18:31:41.682Z"
   },
   {
    "duration": 27,
    "start_time": "2021-11-14T18:31:41.696Z"
   },
   {
    "duration": 61,
    "start_time": "2021-11-14T18:31:41.726Z"
   },
   {
    "duration": 17,
    "start_time": "2021-11-14T18:31:41.792Z"
   },
   {
    "duration": 2116,
    "start_time": "2021-11-14T18:31:41.811Z"
   },
   {
    "duration": 605,
    "start_time": "2021-11-14T18:31:43.929Z"
   },
   {
    "duration": -100,
    "start_time": "2021-11-14T18:31:44.639Z"
   },
   {
    "duration": -166,
    "start_time": "2021-11-14T18:31:44.706Z"
   },
   {
    "duration": -226,
    "start_time": "2021-11-14T18:31:44.767Z"
   },
   {
    "duration": -232,
    "start_time": "2021-11-14T18:31:44.774Z"
   },
   {
    "duration": -673,
    "start_time": "2021-11-14T18:31:45.217Z"
   },
   {
    "duration": -734,
    "start_time": "2021-11-14T18:31:45.279Z"
   },
   {
    "duration": -746,
    "start_time": "2021-11-14T18:31:45.293Z"
   },
   {
    "duration": -881,
    "start_time": "2021-11-14T18:31:45.430Z"
   },
   {
    "duration": -997,
    "start_time": "2021-11-14T18:31:45.547Z"
   },
   {
    "duration": -1016,
    "start_time": "2021-11-14T18:31:45.567Z"
   },
   {
    "duration": -1030,
    "start_time": "2021-11-14T18:31:45.583Z"
   },
   {
    "duration": -1051,
    "start_time": "2021-11-14T18:31:45.606Z"
   },
   {
    "duration": -1069,
    "start_time": "2021-11-14T18:31:45.625Z"
   },
   {
    "duration": -1087,
    "start_time": "2021-11-14T18:31:45.644Z"
   },
   {
    "duration": -1209,
    "start_time": "2021-11-14T18:31:45.768Z"
   },
   {
    "duration": -1219,
    "start_time": "2021-11-14T18:31:45.779Z"
   },
   {
    "duration": -1227,
    "start_time": "2021-11-14T18:31:45.789Z"
   },
   {
    "duration": -1242,
    "start_time": "2021-11-14T18:31:45.805Z"
   },
   {
    "duration": -1255,
    "start_time": "2021-11-14T18:31:45.820Z"
   },
   {
    "duration": -1324,
    "start_time": "2021-11-14T18:31:45.892Z"
   },
   {
    "duration": -1329,
    "start_time": "2021-11-14T18:31:45.899Z"
   },
   {
    "duration": -1337,
    "start_time": "2021-11-14T18:31:45.908Z"
   },
   {
    "duration": -1345,
    "start_time": "2021-11-14T18:31:45.918Z"
   },
   {
    "duration": -1354,
    "start_time": "2021-11-14T18:31:45.929Z"
   },
   {
    "duration": -1360,
    "start_time": "2021-11-14T18:31:45.936Z"
   },
   {
    "duration": -1424,
    "start_time": "2021-11-14T18:31:46.006Z"
   },
   {
    "duration": -1432,
    "start_time": "2021-11-14T18:31:46.015Z"
   },
   {
    "duration": -1442,
    "start_time": "2021-11-14T18:31:46.026Z"
   },
   {
    "duration": -1452,
    "start_time": "2021-11-14T18:31:46.038Z"
   },
   {
    "duration": -1461,
    "start_time": "2021-11-14T18:31:46.050Z"
   },
   {
    "duration": -1559,
    "start_time": "2021-11-14T18:31:46.150Z"
   },
   {
    "duration": -1566,
    "start_time": "2021-11-14T18:31:46.160Z"
   },
   {
    "duration": -1574,
    "start_time": "2021-11-14T18:31:46.170Z"
   },
   {
    "duration": -1582,
    "start_time": "2021-11-14T18:31:46.180Z"
   },
   {
    "duration": -1588,
    "start_time": "2021-11-14T18:31:46.188Z"
   },
   {
    "duration": -1595,
    "start_time": "2021-11-14T18:31:46.197Z"
   },
   {
    "duration": -1603,
    "start_time": "2021-11-14T18:31:46.207Z"
   },
   {
    "duration": -1645,
    "start_time": "2021-11-14T18:31:46.251Z"
   },
   {
    "duration": -1690,
    "start_time": "2021-11-14T18:31:46.298Z"
   },
   {
    "duration": 2003,
    "start_time": "2021-11-14T18:32:24.201Z"
   },
   {
    "duration": 1560,
    "start_time": "2021-11-14T18:33:39.722Z"
   },
   {
    "duration": 54,
    "start_time": "2021-11-14T18:33:41.284Z"
   },
   {
    "duration": 5,
    "start_time": "2021-11-14T18:33:41.341Z"
   },
   {
    "duration": 42,
    "start_time": "2021-11-14T18:33:41.349Z"
   },
   {
    "duration": 12,
    "start_time": "2021-11-14T18:33:41.393Z"
   },
   {
    "duration": 8,
    "start_time": "2021-11-14T18:33:41.408Z"
   },
   {
    "duration": 10,
    "start_time": "2021-11-14T18:33:41.419Z"
   },
   {
    "duration": 101,
    "start_time": "2021-11-14T18:33:41.432Z"
   },
   {
    "duration": 18,
    "start_time": "2021-11-14T18:33:41.536Z"
   },
   {
    "duration": 27,
    "start_time": "2021-11-14T18:33:41.556Z"
   },
   {
    "duration": 16,
    "start_time": "2021-11-14T18:33:41.585Z"
   },
   {
    "duration": 18,
    "start_time": "2021-11-14T18:33:41.604Z"
   },
   {
    "duration": 10,
    "start_time": "2021-11-14T18:33:41.625Z"
   },
   {
    "duration": 51,
    "start_time": "2021-11-14T18:33:41.638Z"
   },
   {
    "duration": 21,
    "start_time": "2021-11-14T18:33:41.691Z"
   },
   {
    "duration": 25,
    "start_time": "2021-11-14T18:33:41.715Z"
   },
   {
    "duration": 48,
    "start_time": "2021-11-14T18:33:41.742Z"
   },
   {
    "duration": 2019,
    "start_time": "2021-11-14T18:33:41.792Z"
   },
   {
    "duration": 442,
    "start_time": "2021-11-14T18:33:43.813Z"
   },
   {
    "duration": -137,
    "start_time": "2021-11-14T18:33:44.398Z"
   },
   {
    "duration": -145,
    "start_time": "2021-11-14T18:33:44.407Z"
   },
   {
    "duration": -151,
    "start_time": "2021-11-14T18:33:44.415Z"
   },
   {
    "duration": -270,
    "start_time": "2021-11-14T18:33:44.535Z"
   },
   {
    "duration": -276,
    "start_time": "2021-11-14T18:33:44.542Z"
   },
   {
    "duration": -281,
    "start_time": "2021-11-14T18:33:44.548Z"
   },
   {
    "duration": -284,
    "start_time": "2021-11-14T18:33:44.553Z"
   },
   {
    "duration": -290,
    "start_time": "2021-11-14T18:33:44.560Z"
   },
   {
    "duration": -293,
    "start_time": "2021-11-14T18:33:44.565Z"
   },
   {
    "duration": -297,
    "start_time": "2021-11-14T18:33:44.570Z"
   },
   {
    "duration": -301,
    "start_time": "2021-11-14T18:33:44.575Z"
   },
   {
    "duration": -304,
    "start_time": "2021-11-14T18:33:44.579Z"
   },
   {
    "duration": -307,
    "start_time": "2021-11-14T18:33:44.584Z"
   },
   {
    "duration": -310,
    "start_time": "2021-11-14T18:33:44.588Z"
   },
   {
    "duration": -313,
    "start_time": "2021-11-14T18:33:44.593Z"
   },
   {
    "duration": -337,
    "start_time": "2021-11-14T18:33:44.618Z"
   },
   {
    "duration": -340,
    "start_time": "2021-11-14T18:33:44.623Z"
   },
   {
    "duration": -344,
    "start_time": "2021-11-14T18:33:44.628Z"
   },
   {
    "duration": -347,
    "start_time": "2021-11-14T18:33:44.633Z"
   },
   {
    "duration": -352,
    "start_time": "2021-11-14T18:33:44.639Z"
   },
   {
    "duration": -355,
    "start_time": "2021-11-14T18:33:44.644Z"
   },
   {
    "duration": -359,
    "start_time": "2021-11-14T18:33:44.649Z"
   },
   {
    "duration": -362,
    "start_time": "2021-11-14T18:33:44.654Z"
   },
   {
    "duration": -366,
    "start_time": "2021-11-14T18:33:44.659Z"
   },
   {
    "duration": -461,
    "start_time": "2021-11-14T18:33:44.756Z"
   },
   {
    "duration": -466,
    "start_time": "2021-11-14T18:33:44.762Z"
   },
   {
    "duration": -468,
    "start_time": "2021-11-14T18:33:44.766Z"
   },
   {
    "duration": -473,
    "start_time": "2021-11-14T18:33:44.772Z"
   },
   {
    "duration": -476,
    "start_time": "2021-11-14T18:33:44.777Z"
   },
   {
    "duration": -480,
    "start_time": "2021-11-14T18:33:44.782Z"
   },
   {
    "duration": -484,
    "start_time": "2021-11-14T18:33:44.787Z"
   },
   {
    "duration": -487,
    "start_time": "2021-11-14T18:33:44.792Z"
   },
   {
    "duration": -490,
    "start_time": "2021-11-14T18:33:44.797Z"
   },
   {
    "duration": -495,
    "start_time": "2021-11-14T18:33:44.803Z"
   },
   {
    "duration": -499,
    "start_time": "2021-11-14T18:33:44.808Z"
   },
   {
    "duration": -503,
    "start_time": "2021-11-14T18:33:44.813Z"
   },
   {
    "duration": -507,
    "start_time": "2021-11-14T18:33:44.818Z"
   },
   {
    "duration": -511,
    "start_time": "2021-11-14T18:33:44.823Z"
   },
   {
    "duration": -514,
    "start_time": "2021-11-14T18:33:44.828Z"
   },
   {
    "duration": 9,
    "start_time": "2021-11-14T18:33:58.119Z"
   },
   {
    "duration": 1488,
    "start_time": "2021-11-14T19:06:27.935Z"
   },
   {
    "duration": 53,
    "start_time": "2021-11-14T19:06:29.426Z"
   },
   {
    "duration": 5,
    "start_time": "2021-11-14T19:06:29.482Z"
   },
   {
    "duration": 26,
    "start_time": "2021-11-14T19:06:29.490Z"
   },
   {
    "duration": 11,
    "start_time": "2021-11-14T19:06:29.519Z"
   },
   {
    "duration": 9,
    "start_time": "2021-11-14T19:06:29.533Z"
   },
   {
    "duration": 9,
    "start_time": "2021-11-14T19:06:29.583Z"
   },
   {
    "duration": 63,
    "start_time": "2021-11-14T19:06:29.595Z"
   },
   {
    "duration": 33,
    "start_time": "2021-11-14T19:06:29.662Z"
   },
   {
    "duration": 9,
    "start_time": "2021-11-14T19:06:29.699Z"
   },
   {
    "duration": 19,
    "start_time": "2021-11-14T19:06:29.711Z"
   },
   {
    "duration": 58,
    "start_time": "2021-11-14T19:06:29.732Z"
   },
   {
    "duration": 8,
    "start_time": "2021-11-14T19:06:29.793Z"
   },
   {
    "duration": 20,
    "start_time": "2021-11-14T19:06:29.804Z"
   },
   {
    "duration": 22,
    "start_time": "2021-11-14T19:06:29.826Z"
   },
   {
    "duration": 21,
    "start_time": "2021-11-14T19:06:29.883Z"
   },
   {
    "duration": 30,
    "start_time": "2021-11-14T19:06:29.906Z"
   },
   {
    "duration": 11,
    "start_time": "2021-11-14T19:06:29.938Z"
   },
   {
    "duration": 1503,
    "start_time": "2021-11-14T19:06:29.951Z"
   },
   {
    "duration": -251,
    "start_time": "2021-11-14T19:06:31.708Z"
   },
   {
    "duration": -260,
    "start_time": "2021-11-14T19:06:31.719Z"
   },
   {
    "duration": -262,
    "start_time": "2021-11-14T19:06:31.722Z"
   },
   {
    "duration": -265,
    "start_time": "2021-11-14T19:06:31.727Z"
   },
   {
    "duration": -267,
    "start_time": "2021-11-14T19:06:31.730Z"
   },
   {
    "duration": -269,
    "start_time": "2021-11-14T19:06:31.734Z"
   },
   {
    "duration": -271,
    "start_time": "2021-11-14T19:06:31.737Z"
   },
   {
    "duration": -272,
    "start_time": "2021-11-14T19:06:31.740Z"
   },
   {
    "duration": -275,
    "start_time": "2021-11-14T19:06:31.744Z"
   },
   {
    "duration": -277,
    "start_time": "2021-11-14T19:06:31.747Z"
   },
   {
    "duration": -279,
    "start_time": "2021-11-14T19:06:31.750Z"
   },
   {
    "duration": -281,
    "start_time": "2021-11-14T19:06:31.754Z"
   },
   {
    "duration": -283,
    "start_time": "2021-11-14T19:06:31.757Z"
   },
   {
    "duration": -285,
    "start_time": "2021-11-14T19:06:31.761Z"
   },
   {
    "duration": -287,
    "start_time": "2021-11-14T19:06:31.764Z"
   },
   {
    "duration": -290,
    "start_time": "2021-11-14T19:06:31.768Z"
   },
   {
    "duration": -292,
    "start_time": "2021-11-14T19:06:31.771Z"
   },
   {
    "duration": -293,
    "start_time": "2021-11-14T19:06:31.774Z"
   },
   {
    "duration": -295,
    "start_time": "2021-11-14T19:06:31.777Z"
   },
   {
    "duration": -298,
    "start_time": "2021-11-14T19:06:31.781Z"
   },
   {
    "duration": -337,
    "start_time": "2021-11-14T19:06:31.822Z"
   },
   {
    "duration": -340,
    "start_time": "2021-11-14T19:06:31.826Z"
   },
   {
    "duration": -383,
    "start_time": "2021-11-14T19:06:31.871Z"
   },
   {
    "duration": -388,
    "start_time": "2021-11-14T19:06:31.877Z"
   },
   {
    "duration": -390,
    "start_time": "2021-11-14T19:06:31.880Z"
   },
   {
    "duration": -393,
    "start_time": "2021-11-14T19:06:31.885Z"
   },
   {
    "duration": 1639,
    "start_time": "2021-11-14T19:07:53.155Z"
   },
   {
    "duration": 54,
    "start_time": "2021-11-14T19:07:54.797Z"
   },
   {
    "duration": 6,
    "start_time": "2021-11-14T19:07:54.855Z"
   },
   {
    "duration": 42,
    "start_time": "2021-11-14T19:07:54.863Z"
   },
   {
    "duration": 13,
    "start_time": "2021-11-14T19:07:54.908Z"
   },
   {
    "duration": 11,
    "start_time": "2021-11-14T19:07:54.923Z"
   },
   {
    "duration": 51,
    "start_time": "2021-11-14T19:07:54.936Z"
   },
   {
    "duration": 93,
    "start_time": "2021-11-14T19:07:54.989Z"
   },
   {
    "duration": 25,
    "start_time": "2021-11-14T19:07:55.088Z"
   },
   {
    "duration": 15,
    "start_time": "2021-11-14T19:07:55.117Z"
   },
   {
    "duration": 17,
    "start_time": "2021-11-14T19:07:55.134Z"
   },
   {
    "duration": 43,
    "start_time": "2021-11-14T19:07:55.154Z"
   },
   {
    "duration": 16,
    "start_time": "2021-11-14T19:07:55.199Z"
   },
   {
    "duration": 16,
    "start_time": "2021-11-14T19:07:55.218Z"
   },
   {
    "duration": 55,
    "start_time": "2021-11-14T19:07:55.237Z"
   },
   {
    "duration": 43,
    "start_time": "2021-11-14T19:07:55.295Z"
   },
   {
    "duration": 15,
    "start_time": "2021-11-14T19:07:55.342Z"
   },
   {
    "duration": 2222,
    "start_time": "2021-11-14T19:07:55.360Z"
   },
   {
    "duration": 443,
    "start_time": "2021-11-14T19:07:57.585Z"
   },
   {
    "duration": -192,
    "start_time": "2021-11-14T19:07:58.224Z"
   },
   {
    "duration": -242,
    "start_time": "2021-11-14T19:07:58.276Z"
   },
   {
    "duration": -266,
    "start_time": "2021-11-14T19:07:58.301Z"
   },
   {
    "duration": -280,
    "start_time": "2021-11-14T19:07:58.316Z"
   },
   {
    "duration": -294,
    "start_time": "2021-11-14T19:07:58.332Z"
   },
   {
    "duration": -308,
    "start_time": "2021-11-14T19:07:58.347Z"
   },
   {
    "duration": -325,
    "start_time": "2021-11-14T19:07:58.365Z"
   },
   {
    "duration": -330,
    "start_time": "2021-11-14T19:07:58.372Z"
   },
   {
    "duration": -336,
    "start_time": "2021-11-14T19:07:58.379Z"
   },
   {
    "duration": -340,
    "start_time": "2021-11-14T19:07:58.384Z"
   },
   {
    "duration": -344,
    "start_time": "2021-11-14T19:07:58.389Z"
   },
   {
    "duration": -347,
    "start_time": "2021-11-14T19:07:58.393Z"
   },
   {
    "duration": -357,
    "start_time": "2021-11-14T19:07:58.404Z"
   },
   {
    "duration": -362,
    "start_time": "2021-11-14T19:07:58.411Z"
   },
   {
    "duration": -681,
    "start_time": "2021-11-14T19:07:58.731Z"
   },
   {
    "duration": -685,
    "start_time": "2021-11-14T19:07:58.736Z"
   },
   {
    "duration": -695,
    "start_time": "2021-11-14T19:07:58.747Z"
   },
   {
    "duration": -699,
    "start_time": "2021-11-14T19:07:58.752Z"
   },
   {
    "duration": -727,
    "start_time": "2021-11-14T19:07:58.781Z"
   },
   {
    "duration": -749,
    "start_time": "2021-11-14T19:07:58.805Z"
   },
   {
    "duration": -784,
    "start_time": "2021-11-14T19:07:58.841Z"
   },
   {
    "duration": -807,
    "start_time": "2021-11-14T19:07:58.865Z"
   },
   {
    "duration": -814,
    "start_time": "2021-11-14T19:07:58.873Z"
   },
   {
    "duration": -842,
    "start_time": "2021-11-14T19:07:58.903Z"
   },
   {
    "duration": -951,
    "start_time": "2021-11-14T19:07:59.013Z"
   },
   {
    "duration": -1003,
    "start_time": "2021-11-14T19:07:59.066Z"
   },
   {
    "duration": -1052,
    "start_time": "2021-11-14T19:07:59.116Z"
   },
   {
    "duration": -1065,
    "start_time": "2021-11-14T19:07:59.130Z"
   },
   {
    "duration": 1493,
    "start_time": "2021-11-14T19:17:12.733Z"
   },
   {
    "duration": 57,
    "start_time": "2021-11-14T19:17:14.228Z"
   },
   {
    "duration": 5,
    "start_time": "2021-11-14T19:17:14.288Z"
   },
   {
    "duration": 25,
    "start_time": "2021-11-14T19:17:14.296Z"
   },
   {
    "duration": 10,
    "start_time": "2021-11-14T19:17:14.323Z"
   },
   {
    "duration": 7,
    "start_time": "2021-11-14T19:17:14.336Z"
   },
   {
    "duration": 9,
    "start_time": "2021-11-14T19:17:14.383Z"
   },
   {
    "duration": 63,
    "start_time": "2021-11-14T19:17:14.396Z"
   },
   {
    "duration": 17,
    "start_time": "2021-11-14T19:17:14.486Z"
   },
   {
    "duration": 10,
    "start_time": "2021-11-14T19:17:14.505Z"
   },
   {
    "duration": 16,
    "start_time": "2021-11-14T19:17:14.517Z"
   },
   {
    "duration": 17,
    "start_time": "2021-11-14T19:17:14.535Z"
   },
   {
    "duration": 9,
    "start_time": "2021-11-14T19:17:14.583Z"
   },
   {
    "duration": 13,
    "start_time": "2021-11-14T19:17:14.595Z"
   },
   {
    "duration": 23,
    "start_time": "2021-11-14T19:17:14.611Z"
   },
   {
    "duration": 62,
    "start_time": "2021-11-14T19:17:14.636Z"
   },
   {
    "duration": 15,
    "start_time": "2021-11-14T19:17:14.701Z"
   },
   {
    "duration": 1979,
    "start_time": "2021-11-14T19:17:14.719Z"
   },
   {
    "duration": 13,
    "start_time": "2021-11-14T19:17:16.701Z"
   },
   {
    "duration": 66,
    "start_time": "2021-11-14T19:17:16.716Z"
   },
   {
    "duration": 41,
    "start_time": "2021-11-14T19:17:16.785Z"
   },
   {
    "duration": 14,
    "start_time": "2021-11-14T19:17:16.828Z"
   },
   {
    "duration": 51,
    "start_time": "2021-11-14T19:17:16.847Z"
   },
   {
    "duration": 22,
    "start_time": "2021-11-14T19:17:16.901Z"
   },
   {
    "duration": 6,
    "start_time": "2021-11-14T19:17:16.926Z"
   },
   {
    "duration": 57,
    "start_time": "2021-11-14T19:17:16.934Z"
   },
   {
    "duration": 8,
    "start_time": "2021-11-14T19:17:16.993Z"
   },
   {
    "duration": 10,
    "start_time": "2021-11-14T19:17:17.004Z"
   },
   {
    "duration": 36,
    "start_time": "2021-11-14T19:17:17.016Z"
   },
   {
    "duration": 38,
    "start_time": "2021-11-14T19:17:17.054Z"
   },
   {
    "duration": 204,
    "start_time": "2021-11-14T19:17:17.185Z"
   },
   {
    "duration": 12,
    "start_time": "2021-11-14T19:17:17.391Z"
   },
   {
    "duration": 23,
    "start_time": "2021-11-14T19:17:17.582Z"
   },
   {
    "duration": 193,
    "start_time": "2021-11-14T19:17:17.607Z"
   },
   {
    "duration": 135,
    "start_time": "2021-11-14T19:17:17.885Z"
   },
   {
    "duration": 22,
    "start_time": "2021-11-14T19:17:18.022Z"
   },
   {
    "duration": 36,
    "start_time": "2021-11-14T19:17:18.047Z"
   },
   {
    "duration": 63,
    "start_time": "2021-11-14T19:17:18.086Z"
   },
   {
    "duration": 130,
    "start_time": "2021-11-14T19:17:18.151Z"
   },
   {
    "duration": 38,
    "start_time": "2021-11-14T19:17:18.284Z"
   },
   {
    "duration": 159,
    "start_time": "2021-11-14T19:17:18.324Z"
   },
   {
    "duration": 9892,
    "start_time": "2021-11-14T19:17:18.485Z"
   },
   {
    "duration": 9473,
    "start_time": "2021-11-14T19:17:28.383Z"
   },
   {
    "duration": 194,
    "start_time": "2021-11-14T19:17:37.859Z"
   },
   {
    "duration": 433,
    "start_time": "2021-11-14T19:17:38.056Z"
   },
   {
    "duration": 3,
    "start_time": "2021-11-14T19:17:38.491Z"
   },
   {
    "duration": 197,
    "start_time": "2021-11-14T19:17:38.496Z"
   },
   {
    "duration": 196,
    "start_time": "2021-11-14T19:17:38.695Z"
   },
   {
    "duration": 46,
    "start_time": "2021-11-14T19:17:38.893Z"
   },
   {
    "duration": 369,
    "start_time": "2021-11-14T19:17:38.942Z"
   },
   {
    "duration": 65395,
    "start_time": "2021-11-14T19:18:35.528Z"
   },
   {
    "duration": 200,
    "start_time": "2021-11-14T19:19:40.925Z"
   },
   {
    "duration": 4,
    "start_time": "2021-11-14T19:22:53.881Z"
   },
   {
    "duration": 176,
    "start_time": "2021-11-14T19:23:13.218Z"
   },
   {
    "duration": 175,
    "start_time": "2021-11-14T19:23:19.132Z"
   },
   {
    "duration": 42,
    "start_time": "2021-11-14T19:23:26.864Z"
   },
   {
    "duration": 176,
    "start_time": "2021-11-14T19:26:18.075Z"
   },
   {
    "duration": 1572,
    "start_time": "2021-11-14T19:33:56.853Z"
   },
   {
    "duration": 62,
    "start_time": "2021-11-14T19:33:58.428Z"
   },
   {
    "duration": 5,
    "start_time": "2021-11-14T19:33:58.494Z"
   },
   {
    "duration": 26,
    "start_time": "2021-11-14T19:33:58.503Z"
   },
   {
    "duration": 14,
    "start_time": "2021-11-14T19:33:58.531Z"
   },
   {
    "duration": 8,
    "start_time": "2021-11-14T19:33:58.583Z"
   },
   {
    "duration": 10,
    "start_time": "2021-11-14T19:33:58.594Z"
   },
   {
    "duration": 90,
    "start_time": "2021-11-14T19:33:58.607Z"
   },
   {
    "duration": 16,
    "start_time": "2021-11-14T19:33:58.701Z"
   },
   {
    "duration": 10,
    "start_time": "2021-11-14T19:33:58.720Z"
   },
   {
    "duration": 14,
    "start_time": "2021-11-14T19:33:58.733Z"
   },
   {
    "duration": 46,
    "start_time": "2021-11-14T19:33:58.749Z"
   },
   {
    "duration": 8,
    "start_time": "2021-11-14T19:33:58.797Z"
   },
   {
    "duration": 21,
    "start_time": "2021-11-14T19:33:58.808Z"
   },
   {
    "duration": 20,
    "start_time": "2021-11-14T19:33:58.832Z"
   },
   {
    "duration": 24,
    "start_time": "2021-11-14T19:33:58.883Z"
   },
   {
    "duration": 17,
    "start_time": "2021-11-14T19:33:58.910Z"
   },
   {
    "duration": 1991,
    "start_time": "2021-11-14T19:33:58.930Z"
   },
   {
    "duration": 10,
    "start_time": "2021-11-14T19:34:00.923Z"
   },
   {
    "duration": 54,
    "start_time": "2021-11-14T19:34:00.936Z"
   },
   {
    "duration": 55,
    "start_time": "2021-11-14T19:34:00.992Z"
   },
   {
    "duration": 14,
    "start_time": "2021-11-14T19:34:01.049Z"
   },
   {
    "duration": 51,
    "start_time": "2021-11-14T19:34:01.065Z"
   },
   {
    "duration": 26,
    "start_time": "2021-11-14T19:34:01.119Z"
   },
   {
    "duration": 9,
    "start_time": "2021-11-14T19:34:01.148Z"
   },
   {
    "duration": 41,
    "start_time": "2021-11-14T19:34:01.160Z"
   },
   {
    "duration": 10,
    "start_time": "2021-11-14T19:34:01.207Z"
   },
   {
    "duration": 12,
    "start_time": "2021-11-14T19:34:01.220Z"
   },
   {
    "duration": 64,
    "start_time": "2021-11-14T19:34:01.235Z"
   },
   {
    "duration": 12,
    "start_time": "2021-11-14T19:34:01.302Z"
   },
   {
    "duration": 208,
    "start_time": "2021-11-14T19:34:01.383Z"
   },
   {
    "duration": 103,
    "start_time": "2021-11-14T19:34:01.683Z"
   },
   {
    "duration": 117,
    "start_time": "2021-11-14T19:34:01.789Z"
   },
   {
    "duration": 276,
    "start_time": "2021-11-14T19:34:01.908Z"
   },
   {
    "duration": 134,
    "start_time": "2021-11-14T19:34:02.188Z"
   },
   {
    "duration": 21,
    "start_time": "2021-11-14T19:34:02.324Z"
   },
   {
    "duration": 10,
    "start_time": "2021-11-14T19:34:02.347Z"
   },
   {
    "duration": 66,
    "start_time": "2021-11-14T19:34:02.382Z"
   },
   {
    "duration": 181,
    "start_time": "2021-11-14T19:34:02.450Z"
   },
   {
    "duration": 66,
    "start_time": "2021-11-14T19:34:02.634Z"
   },
   {
    "duration": 155,
    "start_time": "2021-11-14T19:34:02.703Z"
   },
   {
    "duration": 10174,
    "start_time": "2021-11-14T19:34:02.860Z"
   },
   {
    "duration": 2000,
    "start_time": "2021-11-14T19:34:13.037Z"
   },
   {
    "duration": 192,
    "start_time": "2021-11-14T19:34:15.040Z"
   },
   {
    "duration": 433,
    "start_time": "2021-11-14T19:34:15.235Z"
   },
   {
    "duration": 48,
    "start_time": "2021-11-14T19:34:15.670Z"
   },
   {
    "duration": 309,
    "start_time": "2021-11-14T19:34:15.721Z"
   },
   {
    "duration": 1512,
    "start_time": "2021-11-14T19:34:45.017Z"
   },
   {
    "duration": 55,
    "start_time": "2021-11-14T19:34:46.531Z"
   },
   {
    "duration": 5,
    "start_time": "2021-11-14T19:34:46.589Z"
   },
   {
    "duration": 35,
    "start_time": "2021-11-14T19:34:46.596Z"
   },
   {
    "duration": 11,
    "start_time": "2021-11-14T19:34:46.633Z"
   },
   {
    "duration": 8,
    "start_time": "2021-11-14T19:34:46.647Z"
   },
   {
    "duration": 32,
    "start_time": "2021-11-14T19:34:46.657Z"
   },
   {
    "duration": 87,
    "start_time": "2021-11-14T19:34:46.694Z"
   },
   {
    "duration": 17,
    "start_time": "2021-11-14T19:34:46.785Z"
   },
   {
    "duration": 14,
    "start_time": "2021-11-14T19:34:46.804Z"
   },
   {
    "duration": 17,
    "start_time": "2021-11-14T19:34:46.821Z"
   },
   {
    "duration": 51,
    "start_time": "2021-11-14T19:34:46.841Z"
   },
   {
    "duration": 8,
    "start_time": "2021-11-14T19:34:46.894Z"
   },
   {
    "duration": 14,
    "start_time": "2021-11-14T19:34:46.904Z"
   },
   {
    "duration": 22,
    "start_time": "2021-11-14T19:34:46.920Z"
   },
   {
    "duration": 61,
    "start_time": "2021-11-14T19:34:46.944Z"
   },
   {
    "duration": 14,
    "start_time": "2021-11-14T19:34:47.007Z"
   },
   {
    "duration": 2262,
    "start_time": "2021-11-14T19:34:47.023Z"
   },
   {
    "duration": 11,
    "start_time": "2021-11-14T19:34:49.287Z"
   },
   {
    "duration": 38,
    "start_time": "2021-11-14T19:34:49.300Z"
   },
   {
    "duration": 72,
    "start_time": "2021-11-14T19:34:49.341Z"
   },
   {
    "duration": 14,
    "start_time": "2021-11-14T19:34:49.416Z"
   },
   {
    "duration": 54,
    "start_time": "2021-11-14T19:34:49.435Z"
   },
   {
    "duration": 24,
    "start_time": "2021-11-14T19:34:49.492Z"
   },
   {
    "duration": 6,
    "start_time": "2021-11-14T19:34:49.519Z"
   },
   {
    "duration": 55,
    "start_time": "2021-11-14T19:34:49.527Z"
   },
   {
    "duration": 13,
    "start_time": "2021-11-14T19:34:49.585Z"
   },
   {
    "duration": 12,
    "start_time": "2021-11-14T19:34:49.601Z"
   },
   {
    "duration": 23,
    "start_time": "2021-11-14T19:34:49.616Z"
   },
   {
    "duration": 143,
    "start_time": "2021-11-14T19:34:49.641Z"
   },
   {
    "duration": 202,
    "start_time": "2021-11-14T19:34:49.788Z"
   },
   {
    "duration": 91,
    "start_time": "2021-11-14T19:34:49.993Z"
   },
   {
    "duration": 105,
    "start_time": "2021-11-14T19:34:50.088Z"
   },
   {
    "duration": 97,
    "start_time": "2021-11-14T19:34:50.196Z"
   },
   {
    "duration": 219,
    "start_time": "2021-11-14T19:34:50.296Z"
   },
   {
    "duration": 20,
    "start_time": "2021-11-14T19:34:50.517Z"
   },
   {
    "duration": 10,
    "start_time": "2021-11-14T19:34:50.539Z"
   },
   {
    "duration": 65,
    "start_time": "2021-11-14T19:34:50.582Z"
   },
   {
    "duration": 127,
    "start_time": "2021-11-14T19:34:50.650Z"
   },
   {
    "duration": 38,
    "start_time": "2021-11-14T19:34:50.781Z"
   },
   {
    "duration": 162,
    "start_time": "2021-11-14T19:34:50.821Z"
   },
   {
    "duration": 10045,
    "start_time": "2021-11-14T19:34:50.985Z"
   },
   {
    "duration": 2068,
    "start_time": "2021-11-14T19:35:01.032Z"
   },
   {
    "duration": 196,
    "start_time": "2021-11-14T19:35:03.103Z"
   },
   {
    "duration": 434,
    "start_time": "2021-11-14T19:35:03.301Z"
   },
   {
    "duration": 62,
    "start_time": "2021-11-14T19:35:03.737Z"
   },
   {
    "duration": 290,
    "start_time": "2021-11-14T19:35:03.801Z"
   },
   {
    "duration": 1522,
    "start_time": "2021-11-14T19:40:06.209Z"
   },
   {
    "duration": 54,
    "start_time": "2021-11-14T19:40:07.734Z"
   },
   {
    "duration": 6,
    "start_time": "2021-11-14T19:40:07.791Z"
   },
   {
    "duration": 27,
    "start_time": "2021-11-14T19:40:07.799Z"
   },
   {
    "duration": 10,
    "start_time": "2021-11-14T19:40:07.829Z"
   },
   {
    "duration": 41,
    "start_time": "2021-11-14T19:40:07.842Z"
   },
   {
    "duration": 11,
    "start_time": "2021-11-14T19:40:07.886Z"
   },
   {
    "duration": 93,
    "start_time": "2021-11-14T19:40:07.903Z"
   },
   {
    "duration": 18,
    "start_time": "2021-11-14T19:40:08.000Z"
   },
   {
    "duration": 7,
    "start_time": "2021-11-14T19:40:08.020Z"
   },
   {
    "duration": 53,
    "start_time": "2021-11-14T19:40:08.029Z"
   },
   {
    "duration": 17,
    "start_time": "2021-11-14T19:40:08.084Z"
   },
   {
    "duration": 7,
    "start_time": "2021-11-14T19:40:08.104Z"
   },
   {
    "duration": 14,
    "start_time": "2021-11-14T19:40:08.113Z"
   },
   {
    "duration": 65,
    "start_time": "2021-11-14T19:40:08.130Z"
   },
   {
    "duration": 21,
    "start_time": "2021-11-14T19:40:08.198Z"
   },
   {
    "duration": 15,
    "start_time": "2021-11-14T19:40:08.221Z"
   },
   {
    "duration": 56,
    "start_time": "2021-11-14T19:40:08.238Z"
   },
   {
    "duration": 5,
    "start_time": "2021-11-14T19:40:08.297Z"
   },
   {
    "duration": 15,
    "start_time": "2021-11-14T19:40:08.305Z"
   },
   {
    "duration": 80,
    "start_time": "2021-11-14T19:40:08.323Z"
   },
   {
    "duration": 39,
    "start_time": "2021-11-14T19:40:08.405Z"
   },
   {
    "duration": 44,
    "start_time": "2021-11-14T19:40:08.450Z"
   },
   {
    "duration": 24,
    "start_time": "2021-11-14T19:40:08.497Z"
   },
   {
    "duration": 25,
    "start_time": "2021-11-14T19:40:08.523Z"
   },
   {
    "duration": 8,
    "start_time": "2021-11-14T19:40:08.582Z"
   },
   {
    "duration": 24,
    "start_time": "2021-11-14T19:40:08.593Z"
   },
   {
    "duration": 11,
    "start_time": "2021-11-14T19:40:08.620Z"
   },
   {
    "duration": 12,
    "start_time": "2021-11-14T19:40:08.634Z"
   },
   {
    "duration": 24,
    "start_time": "2021-11-14T19:40:08.684Z"
   },
   {
    "duration": 171,
    "start_time": "2021-11-14T19:40:08.710Z"
   },
   {
    "duration": 203,
    "start_time": "2021-11-14T19:40:08.887Z"
   },
   {
    "duration": 12,
    "start_time": "2021-11-14T19:40:09.093Z"
   },
   {
    "duration": 109,
    "start_time": "2021-11-14T19:40:09.187Z"
   },
   {
    "duration": 195,
    "start_time": "2021-11-14T19:40:09.298Z"
   },
   {
    "duration": 135,
    "start_time": "2021-11-14T19:40:09.584Z"
   },
   {
    "duration": 19,
    "start_time": "2021-11-14T19:40:09.721Z"
   },
   {
    "duration": 10,
    "start_time": "2021-11-14T19:40:09.743Z"
   },
   {
    "duration": 66,
    "start_time": "2021-11-14T19:40:09.783Z"
   },
   {
    "duration": 131,
    "start_time": "2021-11-14T19:40:09.851Z"
   },
   {
    "duration": 37,
    "start_time": "2021-11-14T19:40:09.985Z"
   },
   {
    "duration": 158,
    "start_time": "2021-11-14T19:40:10.025Z"
   },
   {
    "duration": 10956,
    "start_time": "2021-11-14T19:40:10.185Z"
   },
   {
    "duration": 1957,
    "start_time": "2021-11-14T19:40:21.143Z"
   },
   {
    "duration": 184,
    "start_time": "2021-11-14T19:40:23.102Z"
   },
   {
    "duration": 426,
    "start_time": "2021-11-14T19:40:23.288Z"
   },
   {
    "duration": 65,
    "start_time": "2021-11-14T19:40:23.717Z"
   },
   {
    "duration": 282,
    "start_time": "2021-11-14T19:40:23.784Z"
   },
   {
    "duration": 177,
    "start_time": "2021-11-14T19:41:49.477Z"
   },
   {
    "duration": 41,
    "start_time": "2021-11-14T19:41:51.718Z"
   },
   {
    "duration": 261,
    "start_time": "2021-11-14T19:41:55.757Z"
   },
   {
    "duration": 1510,
    "start_time": "2021-11-14T19:49:58.312Z"
   },
   {
    "duration": 54,
    "start_time": "2021-11-14T19:49:59.825Z"
   },
   {
    "duration": 5,
    "start_time": "2021-11-14T19:49:59.882Z"
   },
   {
    "duration": 25,
    "start_time": "2021-11-14T19:49:59.890Z"
   },
   {
    "duration": 11,
    "start_time": "2021-11-14T19:49:59.917Z"
   },
   {
    "duration": 8,
    "start_time": "2021-11-14T19:49:59.930Z"
   },
   {
    "duration": 48,
    "start_time": "2021-11-14T19:49:59.941Z"
   },
   {
    "duration": 62,
    "start_time": "2021-11-14T19:49:59.994Z"
   },
   {
    "duration": 38,
    "start_time": "2021-11-14T19:50:00.059Z"
   },
   {
    "duration": 13,
    "start_time": "2021-11-14T19:50:00.100Z"
   },
   {
    "duration": 29,
    "start_time": "2021-11-14T19:50:00.115Z"
   },
   {
    "duration": 34,
    "start_time": "2021-11-14T19:50:00.147Z"
   },
   {
    "duration": 7,
    "start_time": "2021-11-14T19:50:00.184Z"
   },
   {
    "duration": 17,
    "start_time": "2021-11-14T19:50:00.194Z"
   },
   {
    "duration": 24,
    "start_time": "2021-11-14T19:50:00.214Z"
   },
   {
    "duration": 49,
    "start_time": "2021-11-14T19:50:00.241Z"
   },
   {
    "duration": 13,
    "start_time": "2021-11-14T19:50:00.293Z"
   },
   {
    "duration": 28,
    "start_time": "2021-11-14T19:50:00.308Z"
   },
   {
    "duration": 6,
    "start_time": "2021-11-14T19:50:00.339Z"
   },
   {
    "duration": 45,
    "start_time": "2021-11-14T19:50:00.348Z"
   },
   {
    "duration": 41,
    "start_time": "2021-11-14T19:50:00.395Z"
   },
   {
    "duration": 53,
    "start_time": "2021-11-14T19:50:00.439Z"
   },
   {
    "duration": 13,
    "start_time": "2021-11-14T19:50:00.500Z"
   },
   {
    "duration": 33,
    "start_time": "2021-11-14T19:50:00.517Z"
   },
   {
    "duration": 48,
    "start_time": "2021-11-14T19:50:00.552Z"
   },
   {
    "duration": 8,
    "start_time": "2021-11-14T19:50:00.602Z"
   },
   {
    "duration": 42,
    "start_time": "2021-11-14T19:50:00.614Z"
   },
   {
    "duration": 13,
    "start_time": "2021-11-14T19:50:00.659Z"
   },
   {
    "duration": 11,
    "start_time": "2021-11-14T19:50:00.683Z"
   },
   {
    "duration": 35,
    "start_time": "2021-11-14T19:50:00.697Z"
   },
   {
    "duration": 50,
    "start_time": "2021-11-14T19:50:00.734Z"
   },
   {
    "duration": 194,
    "start_time": "2021-11-14T19:50:00.788Z"
   },
   {
    "duration": 13,
    "start_time": "2021-11-14T19:50:00.985Z"
   },
   {
    "duration": 116,
    "start_time": "2021-11-14T19:50:01.084Z"
   },
   {
    "duration": 280,
    "start_time": "2021-11-14T19:50:01.203Z"
   },
   {
    "duration": 132,
    "start_time": "2021-11-14T19:50:01.486Z"
   },
   {
    "duration": 72,
    "start_time": "2021-11-14T19:50:01.621Z"
   },
   {
    "duration": 10,
    "start_time": "2021-11-14T19:50:01.695Z"
   },
   {
    "duration": 114,
    "start_time": "2021-11-14T19:50:01.707Z"
   },
   {
    "duration": 117,
    "start_time": "2021-11-14T19:50:01.824Z"
   },
   {
    "duration": 46,
    "start_time": "2021-11-14T19:50:01.944Z"
   },
   {
    "duration": 158,
    "start_time": "2021-11-14T19:50:01.993Z"
   },
   {
    "duration": 11570,
    "start_time": "2021-11-14T19:50:02.153Z"
   },
   {
    "duration": 2356,
    "start_time": "2021-11-14T19:50:13.726Z"
   },
   {
    "duration": 180,
    "start_time": "2021-11-14T19:50:16.084Z"
   },
   {
    "duration": 434,
    "start_time": "2021-11-14T19:50:16.266Z"
   },
   {
    "duration": 194,
    "start_time": "2021-11-14T19:50:16.703Z"
   },
   {
    "duration": 42,
    "start_time": "2021-11-14T19:50:16.899Z"
   },
   {
    "duration": 338,
    "start_time": "2021-11-14T19:50:16.944Z"
   }
  ],
  "kernelspec": {
   "display_name": "Python 3",
   "language": "python",
   "name": "python3"
  },
  "language_info": {
   "codemirror_mode": {
    "name": "ipython",
    "version": 3
   },
   "file_extension": ".py",
   "mimetype": "text/x-python",
   "name": "python",
   "nbconvert_exporter": "python",
   "pygments_lexer": "ipython3",
   "version": "3.7.6"
  },
  "toc": {
   "base_numbering": 1,
   "nav_menu": {},
   "number_sections": true,
   "sideBar": true,
   "skip_h1_title": true,
   "title_cell": "Table of Contents",
   "title_sidebar": "Contents",
   "toc_cell": false,
   "toc_position": {},
   "toc_section_display": true,
   "toc_window_display": false
  }
 },
 "nbformat": 4,
 "nbformat_minor": 2
}

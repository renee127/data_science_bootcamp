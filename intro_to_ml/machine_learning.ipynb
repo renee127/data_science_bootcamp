{
 "cells": [
  {
   "cell_type": "markdown",
   "metadata": {},
   "source": [
    "Scenario:\n",
    "\n",
    "Mobile carrier Megaline has 2 newer plans, Smart or Ultra, but many of their subscribers still use a legacy plan.\n",
    "\n",
    "As an analysts for Megaline, we've been asked to create a machine learning model that recommends an appropriate plan based on data about the behavior of those subscribers who've already switched. \n",
    "\n",
    "Accuracy counts. Our model needs an **accuracy >= 75%**.\n",
    "\n",
    "This is a classification task because our **target (is_ultra)** is categorical: Ultra - 1, Smart - 0\n",
    "\n",
    "Our plan:\n",
    "- download the data\n",
    "- investigate the data (it should already be preprocessed)\n",
    "- split the data into train, validation, and test data sets\n",
    "- create models / test different hyperparameters\n",
    "- check the accuracy using the test data set\n",
    "- sanity check the model\n",
    "- discuss findings\n",
    "\n",
    "Because this is a business classification task where accuracy is most important, we will start with the Random Forest Classifier and test other models if needed.\n",
    "\n",
    "Our question becomes: Can we predict which plan to recommend based on behavior of users who've switched to one of the new plans?"
   ]
  },
  {
   "cell_type": "code",
   "execution_count": 1,
   "metadata": {},
   "outputs": [],
   "source": [
    "# import libraries\n",
    "import pandas as pd\n",
    "import numpy as np\n",
    "from sklearn.ensemble import RandomForestClassifier\n",
    "from sklearn.tree import DecisionTreeClassifier\n",
    "from sklearn.linear_model import LogisticRegression\n",
    "from sklearn.model_selection import train_test_split\n",
    "from sklearn.metrics import accuracy_score\n",
    "from sklearn.metrics import mean_squared_error\n",
    "from sklearn.dummy import DummyClassifier"
   ]
  },
  {
   "cell_type": "code",
   "execution_count": 2,
   "metadata": {},
   "outputs": [],
   "source": [
    "# import sys and insert code to ignore warnings \n",
    "import sys\n",
    "if not sys.warnoptions:\n",
    "    import warnings\n",
    "    warnings.simplefilter(\"ignore\")"
   ]
  },
  {
   "cell_type": "code",
   "execution_count": 3,
   "metadata": {},
   "outputs": [
    {
     "data": {
      "text/html": [
       "<div>\n",
       "<style scoped>\n",
       "    .dataframe tbody tr th:only-of-type {\n",
       "        vertical-align: middle;\n",
       "    }\n",
       "\n",
       "    .dataframe tbody tr th {\n",
       "        vertical-align: top;\n",
       "    }\n",
       "\n",
       "    .dataframe thead th {\n",
       "        text-align: right;\n",
       "    }\n",
       "</style>\n",
       "<table border=\"1\" class=\"dataframe\">\n",
       "  <thead>\n",
       "    <tr style=\"text-align: right;\">\n",
       "      <th></th>\n",
       "      <th>calls</th>\n",
       "      <th>minutes</th>\n",
       "      <th>messages</th>\n",
       "      <th>mb_used</th>\n",
       "      <th>is_ultra</th>\n",
       "    </tr>\n",
       "  </thead>\n",
       "  <tbody>\n",
       "    <tr>\n",
       "      <td>0</td>\n",
       "      <td>40.0</td>\n",
       "      <td>311.90</td>\n",
       "      <td>83.0</td>\n",
       "      <td>19915.42</td>\n",
       "      <td>0</td>\n",
       "    </tr>\n",
       "    <tr>\n",
       "      <td>1</td>\n",
       "      <td>85.0</td>\n",
       "      <td>516.75</td>\n",
       "      <td>56.0</td>\n",
       "      <td>22696.96</td>\n",
       "      <td>0</td>\n",
       "    </tr>\n",
       "    <tr>\n",
       "      <td>2</td>\n",
       "      <td>77.0</td>\n",
       "      <td>467.66</td>\n",
       "      <td>86.0</td>\n",
       "      <td>21060.45</td>\n",
       "      <td>0</td>\n",
       "    </tr>\n",
       "    <tr>\n",
       "      <td>3</td>\n",
       "      <td>106.0</td>\n",
       "      <td>745.53</td>\n",
       "      <td>81.0</td>\n",
       "      <td>8437.39</td>\n",
       "      <td>1</td>\n",
       "    </tr>\n",
       "    <tr>\n",
       "      <td>4</td>\n",
       "      <td>66.0</td>\n",
       "      <td>418.74</td>\n",
       "      <td>1.0</td>\n",
       "      <td>14502.75</td>\n",
       "      <td>0</td>\n",
       "    </tr>\n",
       "  </tbody>\n",
       "</table>\n",
       "</div>"
      ],
      "text/plain": [
       "   calls  minutes  messages   mb_used  is_ultra\n",
       "0   40.0   311.90      83.0  19915.42         0\n",
       "1   85.0   516.75      56.0  22696.96         0\n",
       "2   77.0   467.66      86.0  21060.45         0\n",
       "3  106.0   745.53      81.0   8437.39         1\n",
       "4   66.0   418.74       1.0  14502.75         0"
      ]
     },
     "execution_count": 3,
     "metadata": {},
     "output_type": "execute_result"
    }
   ],
   "source": [
    "# load the data \n",
    "try:\n",
    "    df = pd.read_csv('/datasets/users_behavior.csv')\n",
    "except:\n",
    "    print('ERROR: Unable to find or access file.')\n",
    "df.head()"
   ]
  },
  {
   "cell_type": "code",
   "execution_count": 4,
   "metadata": {},
   "outputs": [
    {
     "name": "stdout",
     "output_type": "stream",
     "text": [
      "<class 'pandas.core.frame.DataFrame'>\n",
      "RangeIndex: 3214 entries, 0 to 3213\n",
      "Data columns (total 5 columns):\n",
      "calls       3214 non-null float64\n",
      "minutes     3214 non-null float64\n",
      "messages    3214 non-null float64\n",
      "mb_used     3214 non-null float64\n",
      "is_ultra    3214 non-null int64\n",
      "dtypes: float64(4), int64(1)\n",
      "memory usage: 125.7 KB\n"
     ]
    }
   ],
   "source": [
    "# check info\n",
    "df.info()"
   ]
  },
  {
   "cell_type": "code",
   "execution_count": 5,
   "metadata": {},
   "outputs": [
    {
     "data": {
      "text/plain": [
       "calls       0\n",
       "minutes     0\n",
       "messages    0\n",
       "mb_used     0\n",
       "is_ultra    0\n",
       "dtype: int64"
      ]
     },
     "execution_count": 5,
     "metadata": {},
     "output_type": "execute_result"
    }
   ],
   "source": [
    "# check for na values\n",
    "df.isna().sum()"
   ]
  },
  {
   "cell_type": "code",
   "execution_count": 6,
   "metadata": {},
   "outputs": [
    {
     "data": {
      "text/html": [
       "<div>\n",
       "<style scoped>\n",
       "    .dataframe tbody tr th:only-of-type {\n",
       "        vertical-align: middle;\n",
       "    }\n",
       "\n",
       "    .dataframe tbody tr th {\n",
       "        vertical-align: top;\n",
       "    }\n",
       "\n",
       "    .dataframe thead th {\n",
       "        text-align: right;\n",
       "    }\n",
       "</style>\n",
       "<table border=\"1\" class=\"dataframe\">\n",
       "  <thead>\n",
       "    <tr style=\"text-align: right;\">\n",
       "      <th></th>\n",
       "      <th>calls</th>\n",
       "      <th>minutes</th>\n",
       "      <th>messages</th>\n",
       "      <th>mb_used</th>\n",
       "      <th>is_ultra</th>\n",
       "    </tr>\n",
       "  </thead>\n",
       "  <tbody>\n",
       "  </tbody>\n",
       "</table>\n",
       "</div>"
      ],
      "text/plain": [
       "Empty DataFrame\n",
       "Columns: [calls, minutes, messages, mb_used, is_ultra]\n",
       "Index: []"
      ]
     },
     "execution_count": 6,
     "metadata": {},
     "output_type": "execute_result"
    }
   ],
   "source": [
    "# check for duplicates\n",
    "df[df.duplicated()]"
   ]
  },
  {
   "cell_type": "code",
   "execution_count": 7,
   "metadata": {},
   "outputs": [
    {
     "data": {
      "text/plain": [
       "(3214, 5)"
      ]
     },
     "execution_count": 7,
     "metadata": {},
     "output_type": "execute_result"
    }
   ],
   "source": [
    "df.shape"
   ]
  },
  {
   "cell_type": "markdown",
   "metadata": {},
   "source": [
    "Data description: No missing values, duplicate rows, or other issues noted across the 5 columns and 3214 rows.\n",
    "\n",
    "- сalls — number of calls\n",
    "- minutes — total call duration in minutes\n",
    "- messages — number of text messages\n",
    "- mb_used — Internet traffic used in MB\n",
    "- is_ultra — plan for the current month (Ultra - 1, Smart - 0)"
   ]
  },
  {
   "cell_type": "code",
   "execution_count": 8,
   "metadata": {},
   "outputs": [
    {
     "name": "stdout",
     "output_type": "stream",
     "text": [
      "Verify sizes of newly divided dataframes\n",
      "\n",
      "train valid test\n",
      "\n",
      "1928 643 643\n",
      "\n",
      "Calculate means of is_ultra in each data set\n",
      "train              valid                  test\n",
      "\n",
      "0.30549792531120334 0.3048211508553655 0.3110419906687403\n"
     ]
    }
   ],
   "source": [
    "# split data into train, valid, test data sets (3:1:1)\n",
    "# first split train test into df_train, df_valid, then divide into df_train, df_test\n",
    "df_train, df_valid = train_test_split(df, test_size=0.2, random_state=12345) \n",
    "# print(len(df), len(df_train), len(df_valid))\n",
    "df_train, df_test = train_test_split(df_train, test_size=0.25, random_state=12345)\n",
    "print('Verify sizes of newly divided dataframes\\n')\n",
    "print('train valid test\\n')\n",
    "print(len(df_train), len(df_valid), len(df_test))\n",
    "print('\\nCalculate means of is_ultra in each data set')\n",
    "print('train              valid                  test\\n')\n",
    "print(df_train.is_ultra.mean(), df_valid.is_ultra.mean(), df_test.is_ultra.mean())"
   ]
  },
  {
   "cell_type": "markdown",
   "metadata": {},
   "source": [
    "Our original data frame is divided into 3 new data frames with a ration of train(3):valid(1):test(1). In other words, 60% of the sample is in the train data set, 20% in the valid and 20% in the test.\n",
    "\n",
    "We also note that in each data set around 30% of the populations have the Ultra plan. This distribution verifies that the df dataset has been divided appropriately, at least as far as is_ultra is concerned."
   ]
  },
  {
   "cell_type": "code",
   "execution_count": 9,
   "metadata": {},
   "outputs": [
    {
     "name": "stdout",
     "output_type": "stream",
     "text": [
      "Verify rows and columns of train and valid sets\n",
      "\n",
      "features_train (1928, 4)\n",
      "target_train (1928,)\n",
      "features_valid (643, 4)\n",
      "target_valid (643,)\n",
      "features_test (643, 4)\n",
      "target_test (643,)\n"
     ]
    }
   ],
   "source": [
    "# create features dfs where is_ultra, the target is dropped\n",
    "# create target dfs with only is_ultra\n",
    "print('Verify rows and columns of train and valid sets\\n')\n",
    "\n",
    "features_train = df_train.drop(['is_ultra'], axis=1)\n",
    "target_train = df_train['is_ultra']\n",
    "print('features_train', features_train.shape)\n",
    "print('target_train', target_train.shape)\n",
    "\n",
    "features_valid = df_valid.drop(['is_ultra'], axis=1)\n",
    "target_valid = df_valid['is_ultra']\n",
    "print('features_valid', features_valid.shape)\n",
    "print('target_valid', target_valid.shape)\n",
    "\n",
    "features_test = df_test.drop(['is_ultra'], axis=1)\n",
    "target_test = df_test['is_ultra']\n",
    "print('features_test', features_test.shape)\n",
    "print('target_test', target_test.shape)"
   ]
  },
  {
   "cell_type": "code",
   "execution_count": 10,
   "metadata": {
    "scrolled": true
   },
   "outputs": [
    {
     "name": "stdout",
     "output_type": "stream",
     "text": [
      "Accuracy for random forest classifier model\n",
      "\n",
      "n_estimators           accuracy\n",
      "n_estimators = 1 :  0.7340590979782271\n",
      "n_estimators = 2 :  0.7542768273716952\n",
      "n_estimators = 3 :  0.7729393468118196\n",
      "n_estimators = 4 :  0.7667185069984448\n",
      "n_estimators = 5 :  0.7807153965785381\n",
      "n_estimators = 6 :  0.7744945567651633\n",
      "n_estimators = 7 :  0.7729393468118196\n",
      "n_estimators = 8 :  0.776049766718507\n",
      "n_estimators = 9 :  0.7791601866251944\n",
      "n_estimators = 10 :  0.7869362363919129\n",
      "n_estimators = 11 :  0.7822706065318819\n",
      "n_estimators = 12 :  0.7822706065318819\n",
      "n_estimators = 13 :  0.7916018662519441\n",
      "n_estimators = 14 :  0.7884914463452566\n",
      "n_estimators = 15 :  0.7900466562986003\n",
      "n_estimators = 16 :  0.7838258164852255\n",
      "n_estimators = 17 :  0.7838258164852255\n",
      "n_estimators = 18 :  0.7853810264385692\n",
      "n_estimators = 19 :  0.7838258164852255\n",
      "n_estimators = 20 :  0.7791601866251944\n",
      "n_estimators = 21 :  0.7807153965785381\n",
      "n_estimators = 22 :  0.7838258164852255\n",
      "n_estimators = 23 :  0.7807153965785381\n",
      "n_estimators = 24 :  0.7838258164852255\n",
      "n_estimators = 25 :  0.7838258164852255\n",
      "n_estimators = 26 :  0.7838258164852255\n",
      "n_estimators = 27 :  0.7869362363919129\n",
      "n_estimators = 28 :  0.7916018662519441\n",
      "n_estimators = 29 :  0.7869362363919129\n",
      "n_estimators = 30 :  0.7853810264385692\n",
      "n_estimators = 31 :  0.7884914463452566\n",
      "n_estimators = 32 :  0.7869362363919129\n",
      "n_estimators = 33 :  0.7838258164852255\n",
      "n_estimators = 34 :  0.7884914463452566\n",
      "n_estimators = 35 :  0.7853810264385692\n",
      "n_estimators = 36 :  0.7884914463452566\n",
      "n_estimators = 37 :  0.7853810264385692\n",
      "n_estimators = 38 :  0.7869362363919129\n",
      "n_estimators = 39 :  0.7853810264385692\n",
      "n_estimators = 40 :  0.7900466562986003\n",
      "n_estimators = 41 :  0.7853810264385692\n",
      "n_estimators = 42 :  0.7884914463452566\n",
      "n_estimators = 43 :  0.7884914463452566\n",
      "n_estimators = 44 :  0.7916018662519441\n",
      "n_estimators = 45 :  0.7884914463452566\n",
      "n_estimators = 46 :  0.7900466562986003\n",
      "n_estimators = 47 :  0.7853810264385692\n",
      "n_estimators = 48 :  0.7900466562986003\n",
      "n_estimators = 49 :  0.7853810264385692\n",
      "n_estimators = 50 :  0.7884914463452566\n",
      "n_estimators = 51 :  0.7838258164852255\n",
      "n_estimators = 52 :  0.7884914463452566\n",
      "n_estimators = 53 :  0.7853810264385692\n",
      "n_estimators = 54 :  0.7884914463452566\n",
      "n_estimators = 55 :  0.7853810264385692\n",
      "n_estimators = 56 :  0.7869362363919129\n",
      "n_estimators = 57 :  0.7869362363919129\n",
      "n_estimators = 58 :  0.7807153965785381\n",
      "n_estimators = 59 :  0.7869362363919129\n",
      "n_estimators = 60 :  0.7853810264385692\n",
      "n_estimators = 61 :  0.7838258164852255\n",
      "n_estimators = 62 :  0.7884914463452566\n",
      "n_estimators = 63 :  0.7853810264385692\n",
      "n_estimators = 64 :  0.7869362363919129\n",
      "n_estimators = 65 :  0.7900466562986003\n",
      "n_estimators = 66 :  0.7869362363919129\n",
      "n_estimators = 67 :  0.7869362363919129\n",
      "n_estimators = 68 :  0.7869362363919129\n",
      "n_estimators = 69 :  0.7884914463452566\n",
      "n_estimators = 70 :  0.7838258164852255\n",
      "n_estimators = 71 :  0.7838258164852255\n",
      "n_estimators = 72 :  0.7807153965785381\n",
      "n_estimators = 73 :  0.7838258164852255\n",
      "n_estimators = 74 :  0.7822706065318819\n",
      "n_estimators = 75 :  0.7838258164852255\n",
      "n_estimators = 76 :  0.7869362363919129\n",
      "n_estimators = 77 :  0.7838258164852255\n",
      "n_estimators = 78 :  0.7869362363919129\n",
      "n_estimators = 79 :  0.7822706065318819\n",
      "n_estimators = 80 :  0.7869362363919129\n",
      "n_estimators = 81 :  0.7853810264385692\n",
      "n_estimators = 82 :  0.7900466562986003\n",
      "n_estimators = 83 :  0.7869362363919129\n",
      "n_estimators = 84 :  0.7931570762052877\n",
      "n_estimators = 85 :  0.7900466562986003\n",
      "n_estimators = 86 :  0.7916018662519441\n",
      "n_estimators = 87 :  0.7916018662519441\n",
      "n_estimators = 88 :  0.7900466562986003\n",
      "n_estimators = 89 :  0.7869362363919129\n",
      "n_estimators = 90 :  0.7900466562986003\n",
      "n_estimators = 91 :  0.7884914463452566\n",
      "n_estimators = 92 :  0.7869362363919129\n",
      "n_estimators = 93 :  0.7853810264385692\n",
      "n_estimators = 94 :  0.7853810264385692\n",
      "n_estimators = 95 :  0.7838258164852255\n",
      "n_estimators = 96 :  0.7853810264385692\n",
      "n_estimators = 97 :  0.7853810264385692\n",
      "n_estimators = 98 :  0.7838258164852255\n",
      "n_estimators = 99 :  0.7853810264385692\n",
      "n_estimators = 100 :  0.7838258164852255\n"
     ]
    }
   ],
   "source": [
    "# create random forest classifier model\n",
    "\n",
    "# create loop for n_estimators\n",
    "\n",
    "print('Accuracy for random forest classifier model\\n')\n",
    "print('n_estimators           accuracy')\n",
    "\n",
    "# set up list for accuracy score\n",
    "accuracy_list = []\n",
    "\n",
    "# find the accuracy score when n_estimators is between 1 and 100\n",
    "for n in range(1, 101):\n",
    "        # notice need random_state=12345 here\n",
    "        model = RandomForestClassifier(random_state=12345, n_estimators = n) \n",
    "\n",
    "        # train the model/fit model \n",
    "        model.fit(features_train, target_train)\n",
    "        \n",
    "        # find the predictions using validation set \n",
    "        # notice not using score...\n",
    "        predictions_valid = model.predict(features_valid)\n",
    "        \n",
    "        # calculate accuracy score\n",
    "        acc_score = accuracy_score(target_valid, predictions_valid)      \n",
    "        \n",
    "        # print n value and accuracy score\n",
    "        print(\"n_estimators =\", n, \": \", acc_score)        \n",
    "        \n",
    "        # add n value and accuracy score to list\n",
    "        accuracy_list.append(acc_score)"
   ]
  },
  {
   "cell_type": "code",
   "execution_count": 11,
   "metadata": {},
   "outputs": [
    {
     "name": "stdout",
     "output_type": "stream",
     "text": [
      "The best performing n_estimators = 84 :  0.7931570762052877\n",
      "\n",
      "Our first choice to make this model is the random forest classifier because of the high accuracy. We create a loop to run through n_estimators between 1 and 100. We note the accuracy score is generally 78% to 79%. \n",
      "The best result occurs when the n-estimators = 84 with an accuracy of: 79.32%\n",
      "We will use this n_estimators for a final test.\n"
     ]
    }
   ],
   "source": [
    "# find the max n_estimator and save it as best_n_estimator\n",
    "max_accuracy = max(accuracy_list)\n",
    "\n",
    "# add one to calculation because index begins at 0\n",
    "best_n_estimator = accuracy_list.index(max_accuracy) + 1\n",
    "\n",
    "# print n_estimator and accuracy score\n",
    "print(\"The best performing n_estimators =\", best_n_estimator, \": \", max_accuracy)\n",
    "print('')\n",
    "\n",
    "print('Our first choice to make this model is the random forest classifier because '\n",
    "      'of the high accuracy. We create a loop to run through n_estimators between 1 and 100. '\n",
    "      'We note the accuracy score is generally 78% to 79%. \\nThe best result occurs when the '\n",
    "      'n-estimators =', best_n_estimator, 'with an accuracy of: {:.2%}'.format(max_accuracy))\n",
    "print('We will use this n_estimators for a final test.')"
   ]
  },
  {
   "cell_type": "code",
   "execution_count": 12,
   "metadata": {},
   "outputs": [
    {
     "name": "stdout",
     "output_type": "stream",
     "text": [
      "Accuracy\n",
      "\n",
      "Validation set: 79.32%\n",
      "Training set: 99.95%\n",
      "Test set: 79.78%\n"
     ]
    }
   ],
   "source": [
    "# test random forest classifier model using best result\n",
    "# and compare with train data set, test data set\n",
    "\n",
    "# notice need random_state=12345 here\n",
    "model = RandomForestClassifier(random_state=12345, n_estimators = best_n_estimator) \n",
    "\n",
    "# train the model/fit model \n",
    "model.fit(features_train, target_train)\n",
    "\n",
    "# find the predictions using validation set \n",
    "predictions_valid = model.predict(features_valid)\n",
    "\n",
    "valid_accuracy = accuracy_score(target_valid, predictions_valid)\n",
    "\n",
    "predictions_train = model.predict(features_train)\n",
    "predictions_test = model.predict(features_test)\n",
    "\n",
    "# write code for training set calculations here \n",
    "accuracy = accuracy_score(target_train, predictions_train)\n",
    "\n",
    "# write code for test set calculations here\n",
    "test_accuracy = accuracy_score(target_test, predictions_test)\n",
    "\n",
    "print('Accuracy\\n')\n",
    "print('Validation set: {:.2%}'.format(valid_accuracy))\n",
    "print('Training set: {:.2%}'.format(accuracy))\n",
    "print('Test set: {:.2%}'.format(test_accuracy))"
   ]
  },
  {
   "cell_type": "markdown",
   "metadata": {},
   "source": [
    "As we expect, the model scores almost 100% on the training set. Both the validation set and the test set are over 75%, our threshold, so this may be a good choice for a model to use. \n",
    "\n",
    "However, we would also like to examine the decision tree classifier model (generally known for lower accuracy but greater speed) and the logistic regression model (known for medium accuracy). "
   ]
  },
  {
   "cell_type": "code",
   "execution_count": 13,
   "metadata": {},
   "outputs": [
    {
     "name": "stdout",
     "output_type": "stream",
     "text": [
      "Accuracy for decision tree classifier model\n",
      "\n",
      "max_depth      accuracy\n",
      "max_depth = 1 :  0.7480559875583204\n",
      "max_depth = 2 :  0.7838258164852255\n",
      "max_depth = 3 :  0.7869362363919129\n",
      "max_depth = 4 :  0.7869362363919129\n",
      "max_depth = 5 :  0.7884914463452566\n",
      "max_depth = 6 :  0.7791601866251944\n",
      "max_depth = 7 :  0.7884914463452566\n",
      "max_depth = 8 :  0.7807153965785381\n",
      "max_depth = 9 :  0.7776049766718507\n",
      "max_depth = 10 :  0.7713841368584758\n",
      "max_depth = 11 :  0.7651632970451011\n",
      "max_depth = 12 :  0.7667185069984448\n",
      "max_depth = 13 :  0.749611197511664\n",
      "max_depth = 14 :  0.7542768273716952\n",
      "max_depth = 15 :  0.7418351477449455\n",
      "max_depth = 16 :  0.7433903576982893\n",
      "max_depth = 17 :  0.744945567651633\n",
      "max_depth = 18 :  0.7433903576982893\n",
      "max_depth = 19 :  0.7278382581648523\n",
      "max_depth = 20 :  0.7418351477449455\n"
     ]
    }
   ],
   "source": [
    "# create decision tree classifier model\n",
    "\n",
    "# create loop for max_depth\n",
    "\n",
    "print('Accuracy for decision tree classifier model\\n')\n",
    "print('max_depth      accuracy')\n",
    "\n",
    "# set up list for accuracy score\n",
    "accuracy_list = []\n",
    "\n",
    "for depth in range(1, 21):\n",
    "        # create a model, specify max_depth=depth \n",
    "        # notice need random_state=12345 here\n",
    "        model = DecisionTreeClassifier(random_state=12345, max_depth = depth)\n",
    "\n",
    "        # train the model/fit model \n",
    "        model.fit(features_train, target_train)\n",
    "        \n",
    "        # find the predictions using validation set\n",
    "        # notice not using score...\n",
    "        predictions_valid = model.predict(features_valid)\n",
    "        \n",
    "        # calculate accuracy score\n",
    "        acc_score = accuracy_score(target_valid, predictions_valid)      \n",
    "        \n",
    "        # print n value and accuracy score\n",
    "        print(\"max_depth =\", depth, \": \", acc_score)        \n",
    "        \n",
    "        # add n value and accuracy score to list\n",
    "        accuracy_list.append(acc_score)"
   ]
  },
  {
   "cell_type": "code",
   "execution_count": 14,
   "metadata": {},
   "outputs": [
    {
     "name": "stdout",
     "output_type": "stream",
     "text": [
      "The best performing max_depth = 5 :  0.7884914463452566\n",
      "We create a loop to run through max_depths between 1 and 20 for the decision tree classifier. We note the accuracy score peaks around 78%. \n",
      "The best result occurs when the n-estimators = 5 with an accuracy of: 78.85%\n",
      "We will use this best_max_depth for a final test.\n"
     ]
    }
   ],
   "source": [
    "# find the max depth and save it as best_max_depth\n",
    "max_accuracy = max(accuracy_list)\n",
    "\n",
    "# add one to calculation because index begins at 0\n",
    "best_max_depth = accuracy_list.index(max_accuracy) + 1\n",
    "\n",
    "# print best max depth and accuracy score\n",
    "print(\"The best performing max_depth =\", best_max_depth, \": \", max_accuracy)  \n",
    "\n",
    "print('We create a loop to run through max_depths between 1 and 20 for the decision tree classifier. '\n",
    "      'We note the accuracy score peaks around 78%. \\nThe best result occurs when the '\n",
    "      'n-estimators =', best_max_depth, 'with an accuracy of: {:.2%}'.format(max_accuracy))\n",
    "print('We will use this best_max_depth for a final test.')"
   ]
  },
  {
   "cell_type": "code",
   "execution_count": 15,
   "metadata": {},
   "outputs": [
    {
     "name": "stdout",
     "output_type": "stream",
     "text": [
      "Accuracy\n",
      "\n",
      "Validation set: 78.85%\n",
      "Training set: 82.73%\n",
      "Test set: 75.89%\n"
     ]
    }
   ],
   "source": [
    "# test decision tree classifier model using best result of max_depth = 7\n",
    "# and compare with train data set, test data set\n",
    "\n",
    "# notice need random_state=12345 here\n",
    "model = DecisionTreeClassifier(random_state=12345, max_depth = best_max_depth) \n",
    "\n",
    "# train the model/fit model \n",
    "model.fit(features_train, target_train)\n",
    "\n",
    "# find the predictions using validation set \n",
    "predictions_valid = model.predict(features_valid)\n",
    "\n",
    "valid_accuracy = accuracy_score(target_valid, predictions_valid)\n",
    "\n",
    "predictions_train = model.predict(features_train)\n",
    "predictions_test = model.predict(features_test)\n",
    "\n",
    "# write code for training set calculations here \n",
    "accuracy = accuracy_score(target_train, predictions_train)\n",
    "\n",
    "# write code for test set calculations here\n",
    "test_accuracy = accuracy_score(target_test, predictions_test)\n",
    "\n",
    "print('Accuracy\\n')\n",
    "print('Validation set: {:.2%}'.format(valid_accuracy))\n",
    "print('Training set: {:.2%}'.format(accuracy))\n",
    "print('Test set: {:.2%}'.format(test_accuracy))"
   ]
  },
  {
   "cell_type": "markdown",
   "metadata": {},
   "source": [
    "Once again we note the highest accuracy is for the training set, but it is far less than the 99% of the random forest classifier. Even though the validation and test sets are over 75%, we still believe the best model is the random forest classifier. Finally, we will check out the logistic regression model."
   ]
  },
  {
   "cell_type": "code",
   "execution_count": 16,
   "metadata": {},
   "outputs": [
    {
     "name": "stdout",
     "output_type": "stream",
     "text": [
      "Accuracy\n",
      "\n",
      "Validation set: 70.30%\n",
      "Training set: 70.38%\n",
      "Test set: 69.67%\n"
     ]
    }
   ],
   "source": [
    "# create logistic regression model\n",
    "\n",
    "model = LogisticRegression(random_state=12345, solver='liblinear')\n",
    "# train the model/fit model \n",
    "model.fit(features_train, target_train)\n",
    "\n",
    "# find the predictions using validation set \n",
    "# notice not using score...\n",
    "predictions_valid = model.predict(features_valid)\n",
    "\n",
    "# train the model/fit model \n",
    "model.fit(features_train, target_train)\n",
    "\n",
    "# find the predictions using validation set \n",
    "predictions_valid = model.predict(features_valid)\n",
    "\n",
    "valid_accuracy = accuracy_score(target_valid, predictions_valid)\n",
    "\n",
    "predictions_train = model.predict(features_train)\n",
    "predictions_test = model.predict(features_test)\n",
    "\n",
    "# write code for training set calculations here \n",
    "accuracy = accuracy_score(target_train, predictions_train)\n",
    "\n",
    "# write code for test set calculations here\n",
    "test_accuracy = accuracy_score(target_test, predictions_test)\n",
    "\n",
    "print('Accuracy\\n')\n",
    "print('Validation set: {:.2%}'.format(valid_accuracy))\n",
    "print('Training set: {:.2%}'.format(accuracy))\n",
    "print('Test set: {:.2%}'.format(test_accuracy))"
   ]
  },
  {
   "cell_type": "markdown",
   "metadata": {},
   "source": [
    "The results of the logistic regression model are disappointing and don't even reach our 75% threshold.\n",
    "\n",
    "We recommend the RandomForestClassifier model using the best performing n_estimators value. \n",
    "\n",
    "We will perform a sanity check on the selected test data below: "
   ]
  },
  {
   "cell_type": "code",
   "execution_count": 17,
   "metadata": {},
   "outputs": [
    {
     "name": "stdout",
     "output_type": "stream",
     "text": [
      "Sanity check of test data: 68.90%\n"
     ]
    }
   ],
   "source": [
    "# sanity check the test data\n",
    "\n",
    "# we are using the test data, divided and filtered as below:\n",
    "# features_test = df_test.drop(['is_ultra'], axis=1)\n",
    "# target_test = df_test['is_ultra']\n",
    "\n",
    "dummy_clf = DummyClassifier(strategy=\"most_frequent\")\n",
    "dummy_clf.fit(features_test, target_test)\n",
    "dummy_clf.predict(features_test)\n",
    "dummy_clf.score(features_test, target_test)\n",
    "\n",
    "sanity_score = dummy_clf.score(features_test, target_test)\n",
    "print('Sanity check of test data: {:.2%}'.format(sanity_score))\n"
   ]
  },
  {
   "cell_type": "code",
   "execution_count": 18,
   "metadata": {},
   "outputs": [
    {
     "name": "stdout",
     "output_type": "stream",
     "text": [
      "The RandomForestClassifier (random_state=12345, n_estimators = 84 ) reliably (over 75% of the time) predicts which plan to recommend based on the behavior of users who've switched to one of the new plans. \n",
      "\n",
      "Our selected model passes the sanity check when we use the dummy classifier to determine the percent correct by chance alone for this classification/catagorical problem.\n",
      "\n",
      "Our score, 78.85% is greater than the sanity score 68.90%\n"
     ]
    }
   ],
   "source": [
    "print('The RandomForestClassifier (random_state=12345, n_estimators =', best_n_estimator,') '\n",
    "      'reliably (over 75% of the time) predicts which plan to recommend based on the behavior '\n",
    "      'of users who\\'ve switched to one of the new plans. \\n\\nOur selected model passes '\n",
    "      'the sanity check when we use the dummy classifier to determine the percent correct '\n",
    "      'by chance alone for this classification/catagorical problem.'\n",
    "      '\\n\\nOur score, {:.2%}'.format(max_accuracy), 'is greater than the ' \n",
    "      'sanity score {:.2%}'.format(sanity_score))"
   ]
  },
  {
   "cell_type": "markdown",
   "metadata": {},
   "source": [
    "Refrences\n",
    "\n",
    "[Ways to divide a data set in 3 proportions](https://stackoverflow.com/questions/38250710/how-to-split-data-into-3-sets-train-validation-and-test)\n",
    "\n",
    "<a href=\"https://scikit-learn.org/stable/modules/generated/sklearn.dummy.DummyClassifier.html\"> DummyClassifier </a>\n",
    "\n",
    "\n"
   ]
  },
  {
   "cell_type": "code",
   "execution_count": 19,
   "metadata": {},
   "outputs": [],
   "source": [
    "# alternative way to divide\n",
    "# train, valid, test = \\\n",
    "#              np.split(df.sample(frac=1, random_state=12345), \n",
    "#                       [int(.6*len(df)), int(.8*len(df))])\n",
    "# print(len(train), len(valid), len(test))\n",
    "# results 1928 643 643"
   ]
  }
 ],
 "metadata": {
  "ExecuteTimeLog": [
   {
    "duration": 95,
    "start_time": "2021-11-06T20:35:02.193Z"
   },
   {
    "duration": 3287,
    "start_time": "2021-11-06T20:35:08.067Z"
   },
   {
    "duration": 2040,
    "start_time": "2021-11-06T20:37:07.608Z"
   },
   {
    "duration": 470,
    "start_time": "2021-11-06T20:45:26.700Z"
   },
   {
    "duration": 324,
    "start_time": "2021-11-06T20:47:24.210Z"
   },
   {
    "duration": 313,
    "start_time": "2021-11-06T20:48:32.038Z"
   },
   {
    "duration": 57,
    "start_time": "2021-11-06T20:48:59.505Z"
   },
   {
    "duration": 56,
    "start_time": "2021-11-06T20:49:19.842Z"
   },
   {
    "duration": 142,
    "start_time": "2021-11-06T20:50:44.435Z"
   },
   {
    "duration": 85,
    "start_time": "2021-11-06T20:50:52.415Z"
   },
   {
    "duration": 94,
    "start_time": "2021-11-06T20:51:03.910Z"
   },
   {
    "duration": 79,
    "start_time": "2021-11-06T20:51:18.654Z"
   },
   {
    "duration": 81,
    "start_time": "2021-11-06T22:01:30.266Z"
   },
   {
    "duration": 4,
    "start_time": "2021-11-06T22:49:59.037Z"
   },
   {
    "duration": 4,
    "start_time": "2021-11-06T22:50:02.486Z"
   },
   {
    "duration": 175,
    "start_time": "2021-11-06T22:50:06.417Z"
   },
   {
    "duration": 22,
    "start_time": "2021-11-06T22:50:13.880Z"
   },
   {
    "duration": 34,
    "start_time": "2021-11-06T22:51:10.826Z"
   },
   {
    "duration": 11,
    "start_time": "2021-11-06T22:52:03.243Z"
   },
   {
    "duration": 7,
    "start_time": "2021-11-06T22:52:28.939Z"
   },
   {
    "duration": 13,
    "start_time": "2021-11-06T22:53:10.871Z"
   },
   {
    "duration": 306,
    "start_time": "2021-11-06T22:54:11.166Z"
   },
   {
    "duration": 293,
    "start_time": "2021-11-06T22:54:21.228Z"
   },
   {
    "duration": 6,
    "start_time": "2021-11-06T22:54:31.093Z"
   },
   {
    "duration": 274,
    "start_time": "2021-11-06T23:09:43.270Z"
   },
   {
    "duration": 4,
    "start_time": "2021-11-06T23:09:50.402Z"
   },
   {
    "duration": 10,
    "start_time": "2021-11-06T23:09:57.176Z"
   },
   {
    "duration": 12,
    "start_time": "2021-11-06T23:10:35.673Z"
   },
   {
    "duration": 4,
    "start_time": "2021-11-06T23:11:30.637Z"
   },
   {
    "duration": 101,
    "start_time": "2021-11-06T23:11:31.559Z"
   },
   {
    "duration": 5094,
    "start_time": "2021-11-06T23:11:48.214Z"
   },
   {
    "duration": -146,
    "start_time": "2021-11-06T23:11:53.458Z"
   },
   {
    "duration": -147,
    "start_time": "2021-11-06T23:11:53.460Z"
   },
   {
    "duration": -149,
    "start_time": "2021-11-06T23:11:53.463Z"
   },
   {
    "duration": -287,
    "start_time": "2021-11-06T23:11:53.603Z"
   },
   {
    "duration": -289,
    "start_time": "2021-11-06T23:11:53.606Z"
   },
   {
    "duration": -289,
    "start_time": "2021-11-06T23:11:53.608Z"
   },
   {
    "duration": -290,
    "start_time": "2021-11-06T23:11:53.610Z"
   },
   {
    "duration": -294,
    "start_time": "2021-11-06T23:11:53.616Z"
   },
   {
    "duration": -295,
    "start_time": "2021-11-06T23:11:53.618Z"
   },
   {
    "duration": -295,
    "start_time": "2021-11-06T23:11:53.620Z"
   },
   {
    "duration": 1580,
    "start_time": "2021-11-06T23:12:48.832Z"
   },
   {
    "duration": 136,
    "start_time": "2021-11-06T23:12:50.415Z"
   },
   {
    "duration": -101,
    "start_time": "2021-11-06T23:12:50.656Z"
   },
   {
    "duration": -102,
    "start_time": "2021-11-06T23:12:50.658Z"
   },
   {
    "duration": -179,
    "start_time": "2021-11-06T23:12:50.737Z"
   },
   {
    "duration": -182,
    "start_time": "2021-11-06T23:12:50.742Z"
   },
   {
    "duration": -184,
    "start_time": "2021-11-06T23:12:50.745Z"
   },
   {
    "duration": -184,
    "start_time": "2021-11-06T23:12:50.747Z"
   },
   {
    "duration": -184,
    "start_time": "2021-11-06T23:12:50.748Z"
   },
   {
    "duration": -184,
    "start_time": "2021-11-06T23:12:50.750Z"
   },
   {
    "duration": -184,
    "start_time": "2021-11-06T23:12:50.751Z"
   },
   {
    "duration": 96,
    "start_time": "2021-11-06T23:13:39.636Z"
   },
   {
    "duration": 4,
    "start_time": "2021-11-06T23:14:20.475Z"
   },
   {
    "duration": 41,
    "start_time": "2021-11-06T23:14:22.028Z"
   },
   {
    "duration": 11,
    "start_time": "2021-11-06T23:14:23.513Z"
   },
   {
    "duration": 1381,
    "start_time": "2021-11-06T23:14:31.137Z"
   },
   {
    "duration": 4,
    "start_time": "2021-11-06T23:14:32.520Z"
   },
   {
    "duration": 45,
    "start_time": "2021-11-06T23:14:32.527Z"
   },
   {
    "duration": 9,
    "start_time": "2021-11-06T23:14:32.575Z"
   },
   {
    "duration": 11,
    "start_time": "2021-11-06T23:14:32.586Z"
   },
   {
    "duration": 14,
    "start_time": "2021-11-06T23:14:32.623Z"
   },
   {
    "duration": 5,
    "start_time": "2021-11-06T23:14:32.639Z"
   },
   {
    "duration": 7,
    "start_time": "2021-11-06T23:14:32.647Z"
   },
   {
    "duration": 69,
    "start_time": "2021-11-06T23:14:32.657Z"
   },
   {
    "duration": 75,
    "start_time": "2021-11-06T23:14:32.728Z"
   },
   {
    "duration": 2166,
    "start_time": "2021-11-06T23:14:32.806Z"
   },
   {
    "duration": 1381,
    "start_time": "2021-11-06T23:15:22.728Z"
   },
   {
    "duration": 4,
    "start_time": "2021-11-06T23:15:24.111Z"
   },
   {
    "duration": 43,
    "start_time": "2021-11-06T23:15:24.124Z"
   },
   {
    "duration": 9,
    "start_time": "2021-11-06T23:15:24.170Z"
   },
   {
    "duration": 12,
    "start_time": "2021-11-06T23:15:24.182Z"
   },
   {
    "duration": 43,
    "start_time": "2021-11-06T23:15:24.197Z"
   },
   {
    "duration": 8,
    "start_time": "2021-11-06T23:15:24.243Z"
   },
   {
    "duration": 4,
    "start_time": "2021-11-06T23:15:24.254Z"
   },
   {
    "duration": 13,
    "start_time": "2021-11-06T23:15:24.263Z"
   },
   {
    "duration": 103,
    "start_time": "2021-11-06T23:15:24.322Z"
   },
   {
    "duration": 3213,
    "start_time": "2021-11-06T23:15:24.428Z"
   },
   {
    "duration": 300,
    "start_time": "2021-11-06T23:27:52.885Z"
   },
   {
    "duration": 1404,
    "start_time": "2021-11-06T23:28:01.545Z"
   },
   {
    "duration": 4,
    "start_time": "2021-11-06T23:28:02.951Z"
   },
   {
    "duration": 60,
    "start_time": "2021-11-06T23:28:02.958Z"
   },
   {
    "duration": 10,
    "start_time": "2021-11-06T23:28:03.020Z"
   },
   {
    "duration": 20,
    "start_time": "2021-11-06T23:28:03.032Z"
   },
   {
    "duration": 31,
    "start_time": "2021-11-06T23:28:03.054Z"
   },
   {
    "duration": 14,
    "start_time": "2021-11-06T23:28:03.088Z"
   },
   {
    "duration": 458,
    "start_time": "2021-11-06T23:28:03.104Z"
   },
   {
    "duration": -157,
    "start_time": "2021-11-06T23:28:03.722Z"
   },
   {
    "duration": -158,
    "start_time": "2021-11-06T23:28:03.724Z"
   },
   {
    "duration": -165,
    "start_time": "2021-11-06T23:28:03.732Z"
   },
   {
    "duration": 8,
    "start_time": "2021-11-06T23:29:21.561Z"
   },
   {
    "duration": 1380,
    "start_time": "2021-11-06T23:30:52.629Z"
   },
   {
    "duration": 4,
    "start_time": "2021-11-06T23:30:54.012Z"
   },
   {
    "duration": 44,
    "start_time": "2021-11-06T23:30:54.023Z"
   },
   {
    "duration": 9,
    "start_time": "2021-11-06T23:30:54.070Z"
   },
   {
    "duration": 11,
    "start_time": "2021-11-06T23:30:54.081Z"
   },
   {
    "duration": 34,
    "start_time": "2021-11-06T23:30:54.095Z"
   },
   {
    "duration": 6,
    "start_time": "2021-11-06T23:30:54.132Z"
   },
   {
    "duration": 16,
    "start_time": "2021-11-06T23:30:54.141Z"
   },
   {
    "duration": 11,
    "start_time": "2021-11-06T23:30:54.160Z"
   },
   {
    "duration": 94,
    "start_time": "2021-11-06T23:30:54.174Z"
   },
   {
    "duration": 2496,
    "start_time": "2021-11-06T23:30:54.271Z"
   },
   {
    "duration": 1888,
    "start_time": "2021-11-06T23:31:29.434Z"
   },
   {
    "duration": 5,
    "start_time": "2021-11-06T23:31:31.327Z"
   },
   {
    "duration": 45,
    "start_time": "2021-11-06T23:31:31.335Z"
   },
   {
    "duration": 9,
    "start_time": "2021-11-06T23:31:31.382Z"
   },
   {
    "duration": 32,
    "start_time": "2021-11-06T23:31:31.393Z"
   },
   {
    "duration": 19,
    "start_time": "2021-11-06T23:31:31.428Z"
   },
   {
    "duration": 6,
    "start_time": "2021-11-06T23:31:31.449Z"
   },
   {
    "duration": 18,
    "start_time": "2021-11-06T23:31:31.458Z"
   },
   {
    "duration": 44,
    "start_time": "2021-11-06T23:31:31.479Z"
   },
   {
    "duration": 75,
    "start_time": "2021-11-06T23:31:31.526Z"
   },
   {
    "duration": 2186,
    "start_time": "2021-11-06T23:31:31.604Z"
   },
   {
    "duration": 1854,
    "start_time": "2021-11-06T23:33:37.374Z"
   },
   {
    "duration": 5,
    "start_time": "2021-11-06T23:33:39.232Z"
   },
   {
    "duration": 45,
    "start_time": "2021-11-06T23:33:39.241Z"
   },
   {
    "duration": 10,
    "start_time": "2021-11-06T23:33:39.288Z"
   },
   {
    "duration": 27,
    "start_time": "2021-11-06T23:33:39.300Z"
   },
   {
    "duration": 15,
    "start_time": "2021-11-06T23:33:39.330Z"
   },
   {
    "duration": 6,
    "start_time": "2021-11-06T23:33:39.348Z"
   },
   {
    "duration": 13,
    "start_time": "2021-11-06T23:33:39.358Z"
   },
   {
    "duration": 3,
    "start_time": "2021-11-06T23:33:39.424Z"
   },
   {
    "duration": 77,
    "start_time": "2021-11-06T23:33:39.431Z"
   },
   {
    "duration": 2232,
    "start_time": "2021-11-06T23:33:39.511Z"
   },
   {
    "duration": 1382,
    "start_time": "2021-11-06T23:34:53.786Z"
   },
   {
    "duration": 3,
    "start_time": "2021-11-06T23:34:55.171Z"
   },
   {
    "duration": 46,
    "start_time": "2021-11-06T23:34:55.177Z"
   },
   {
    "duration": 8,
    "start_time": "2021-11-06T23:34:55.226Z"
   },
   {
    "duration": 11,
    "start_time": "2021-11-06T23:34:55.237Z"
   },
   {
    "duration": 14,
    "start_time": "2021-11-06T23:34:55.251Z"
   },
   {
    "duration": 5,
    "start_time": "2021-11-06T23:34:55.267Z"
   },
   {
    "duration": 55,
    "start_time": "2021-11-06T23:34:55.275Z"
   },
   {
    "duration": 4,
    "start_time": "2021-11-06T23:34:55.335Z"
   },
   {
    "duration": 84,
    "start_time": "2021-11-06T23:34:55.342Z"
   },
   {
    "duration": 2316,
    "start_time": "2021-11-06T23:34:55.429Z"
   },
   {
    "duration": 1345,
    "start_time": "2021-11-06T23:41:26.473Z"
   },
   {
    "duration": 4,
    "start_time": "2021-11-06T23:41:27.823Z"
   },
   {
    "duration": 45,
    "start_time": "2021-11-06T23:41:27.830Z"
   },
   {
    "duration": 12,
    "start_time": "2021-11-06T23:41:27.878Z"
   },
   {
    "duration": 31,
    "start_time": "2021-11-06T23:41:27.894Z"
   },
   {
    "duration": 19,
    "start_time": "2021-11-06T23:41:27.927Z"
   },
   {
    "duration": 6,
    "start_time": "2021-11-06T23:41:27.948Z"
   },
   {
    "duration": 15,
    "start_time": "2021-11-06T23:41:27.959Z"
   },
   {
    "duration": 46,
    "start_time": "2021-11-06T23:41:27.977Z"
   },
   {
    "duration": 101,
    "start_time": "2021-11-06T23:41:28.027Z"
   },
   {
    "duration": 3,
    "start_time": "2021-11-06T23:41:28.131Z"
   },
   {
    "duration": 2294,
    "start_time": "2021-11-06T23:41:28.136Z"
   },
   {
    "duration": 1346,
    "start_time": "2021-11-07T00:13:59.792Z"
   },
   {
    "duration": 4,
    "start_time": "2021-11-07T00:14:01.140Z"
   },
   {
    "duration": 63,
    "start_time": "2021-11-07T00:14:01.147Z"
   },
   {
    "duration": 10,
    "start_time": "2021-11-07T00:14:01.213Z"
   },
   {
    "duration": 14,
    "start_time": "2021-11-07T00:14:01.232Z"
   },
   {
    "duration": 26,
    "start_time": "2021-11-07T00:14:01.249Z"
   },
   {
    "duration": 16,
    "start_time": "2021-11-07T00:14:01.278Z"
   },
   {
    "duration": 33,
    "start_time": "2021-11-07T00:14:01.296Z"
   },
   {
    "duration": 80,
    "start_time": "2021-11-07T00:14:01.332Z"
   },
   {
    "duration": 78,
    "start_time": "2021-11-07T00:14:01.415Z"
   },
   {
    "duration": 3,
    "start_time": "2021-11-07T00:14:01.496Z"
   },
   {
    "duration": 2286,
    "start_time": "2021-11-07T00:14:01.501Z"
   },
   {
    "duration": 1328,
    "start_time": "2021-11-07T00:27:20.934Z"
   },
   {
    "duration": 3,
    "start_time": "2021-11-07T00:27:22.264Z"
   },
   {
    "duration": 45,
    "start_time": "2021-11-07T00:27:22.270Z"
   },
   {
    "duration": 13,
    "start_time": "2021-11-07T00:27:22.318Z"
   },
   {
    "duration": 7,
    "start_time": "2021-11-07T00:27:22.335Z"
   },
   {
    "duration": 13,
    "start_time": "2021-11-07T00:27:22.344Z"
   },
   {
    "duration": 5,
    "start_time": "2021-11-07T00:27:22.360Z"
   },
   {
    "duration": 61,
    "start_time": "2021-11-07T00:27:22.370Z"
   },
   {
    "duration": 7,
    "start_time": "2021-11-07T00:27:22.434Z"
   },
   {
    "duration": 569,
    "start_time": "2021-11-07T00:27:22.444Z"
   },
   {
    "duration": 130,
    "start_time": "2021-11-07T00:27:23.021Z"
   },
   {
    "duration": 84,
    "start_time": "2021-11-07T00:27:23.154Z"
   },
   {
    "duration": 3,
    "start_time": "2021-11-07T00:27:23.241Z"
   },
   {
    "duration": 2395,
    "start_time": "2021-11-07T00:27:23.247Z"
   },
   {
    "duration": 15,
    "start_time": "2021-11-07T00:27:56.302Z"
   },
   {
    "duration": 1458,
    "start_time": "2021-11-07T00:29:49.408Z"
   },
   {
    "duration": 4,
    "start_time": "2021-11-07T00:29:50.870Z"
   },
   {
    "duration": 90,
    "start_time": "2021-11-07T00:29:50.878Z"
   },
   {
    "duration": 24,
    "start_time": "2021-11-07T00:29:50.971Z"
   },
   {
    "duration": 64,
    "start_time": "2021-11-07T00:29:50.998Z"
   },
   {
    "duration": 70,
    "start_time": "2021-11-07T00:29:51.065Z"
   },
   {
    "duration": 39,
    "start_time": "2021-11-07T00:29:51.138Z"
   },
   {
    "duration": 67,
    "start_time": "2021-11-07T00:29:51.180Z"
   },
   {
    "duration": 66,
    "start_time": "2021-11-07T00:29:51.249Z"
   },
   {
    "duration": 13978,
    "start_time": "2021-11-07T00:29:51.317Z"
   },
   {
    "duration": 33,
    "start_time": "2021-11-07T00:30:05.298Z"
   },
   {
    "duration": 75,
    "start_time": "2021-11-07T00:30:05.333Z"
   },
   {
    "duration": 4,
    "start_time": "2021-11-07T00:30:05.410Z"
   },
   {
    "duration": 2342,
    "start_time": "2021-11-07T00:30:05.416Z"
   },
   {
    "duration": 1378,
    "start_time": "2021-11-07T00:45:16.428Z"
   },
   {
    "duration": 5,
    "start_time": "2021-11-07T00:45:17.809Z"
   },
   {
    "duration": 52,
    "start_time": "2021-11-07T00:45:17.822Z"
   },
   {
    "duration": 10,
    "start_time": "2021-11-07T00:45:17.876Z"
   },
   {
    "duration": 9,
    "start_time": "2021-11-07T00:45:17.888Z"
   },
   {
    "duration": 42,
    "start_time": "2021-11-07T00:45:17.899Z"
   },
   {
    "duration": 4,
    "start_time": "2021-11-07T00:45:17.944Z"
   },
   {
    "duration": 11,
    "start_time": "2021-11-07T00:45:17.952Z"
   },
   {
    "duration": 7,
    "start_time": "2021-11-07T00:45:17.965Z"
   },
   {
    "duration": 349,
    "start_time": "2021-11-07T00:45:17.974Z"
   },
   {
    "duration": 41,
    "start_time": "2021-11-07T00:45:18.331Z"
   },
   {
    "duration": 396,
    "start_time": "2021-11-07T00:45:18.374Z"
   },
   {
    "duration": -203,
    "start_time": "2021-11-07T00:45:18.975Z"
   },
   {
    "duration": -204,
    "start_time": "2021-11-07T00:45:18.977Z"
   },
   {
    "duration": -205,
    "start_time": "2021-11-07T00:45:18.980Z"
   },
   {
    "duration": -344,
    "start_time": "2021-11-07T00:45:19.120Z"
   },
   {
    "duration": -350,
    "start_time": "2021-11-07T00:45:19.127Z"
   },
   {
    "duration": 260,
    "start_time": "2021-11-07T00:53:38.562Z"
   },
   {
    "duration": 1327,
    "start_time": "2021-11-07T00:53:50.940Z"
   },
   {
    "duration": 4,
    "start_time": "2021-11-07T00:53:52.269Z"
   },
   {
    "duration": 57,
    "start_time": "2021-11-07T00:53:52.276Z"
   },
   {
    "duration": 9,
    "start_time": "2021-11-07T00:53:52.336Z"
   },
   {
    "duration": 9,
    "start_time": "2021-11-07T00:53:52.347Z"
   },
   {
    "duration": 13,
    "start_time": "2021-11-07T00:53:52.358Z"
   },
   {
    "duration": 5,
    "start_time": "2021-11-07T00:53:52.373Z"
   },
   {
    "duration": 42,
    "start_time": "2021-11-07T00:53:52.382Z"
   },
   {
    "duration": 7,
    "start_time": "2021-11-07T00:53:52.428Z"
   },
   {
    "duration": 319,
    "start_time": "2021-11-07T00:53:52.438Z"
   },
   {
    "duration": 41,
    "start_time": "2021-11-07T00:53:52.760Z"
   },
   {
    "duration": 23,
    "start_time": "2021-11-07T00:53:52.823Z"
   },
   {
    "duration": 391,
    "start_time": "2021-11-07T00:53:52.849Z"
   },
   {
    "duration": -200,
    "start_time": "2021-11-07T00:53:53.443Z"
   },
   {
    "duration": -202,
    "start_time": "2021-11-07T00:53:53.446Z"
   },
   {
    "duration": -209,
    "start_time": "2021-11-07T00:53:53.454Z"
   },
   {
    "duration": -210,
    "start_time": "2021-11-07T00:53:53.456Z"
   },
   {
    "duration": -215,
    "start_time": "2021-11-07T00:53:53.463Z"
   },
   {
    "duration": 19,
    "start_time": "2021-11-07T00:55:04.977Z"
   },
   {
    "duration": 1307,
    "start_time": "2021-11-07T00:57:50.747Z"
   },
   {
    "duration": 5,
    "start_time": "2021-11-07T00:57:52.057Z"
   },
   {
    "duration": 45,
    "start_time": "2021-11-07T00:57:52.066Z"
   },
   {
    "duration": 14,
    "start_time": "2021-11-07T00:57:52.115Z"
   },
   {
    "duration": 10,
    "start_time": "2021-11-07T00:57:52.132Z"
   },
   {
    "duration": 15,
    "start_time": "2021-11-07T00:57:52.144Z"
   },
   {
    "duration": 6,
    "start_time": "2021-11-07T00:57:52.161Z"
   },
   {
    "duration": 59,
    "start_time": "2021-11-07T00:57:52.170Z"
   },
   {
    "duration": 7,
    "start_time": "2021-11-07T00:57:52.233Z"
   },
   {
    "duration": 361,
    "start_time": "2021-11-07T00:57:52.244Z"
   },
   {
    "duration": 53,
    "start_time": "2021-11-07T00:57:52.607Z"
   },
   {
    "duration": 17,
    "start_time": "2021-11-07T00:57:52.663Z"
   },
   {
    "duration": 401,
    "start_time": "2021-11-07T00:57:52.682Z"
   },
   {
    "duration": -102,
    "start_time": "2021-11-07T00:57:53.187Z"
   },
   {
    "duration": -102,
    "start_time": "2021-11-07T00:57:53.188Z"
   },
   {
    "duration": -102,
    "start_time": "2021-11-07T00:57:53.190Z"
   },
   {
    "duration": -103,
    "start_time": "2021-11-07T00:57:53.192Z"
   },
   {
    "duration": -103,
    "start_time": "2021-11-07T00:57:53.193Z"
   },
   {
    "duration": 1341,
    "start_time": "2021-11-07T01:06:52.006Z"
   },
   {
    "duration": 5,
    "start_time": "2021-11-07T01:06:53.350Z"
   },
   {
    "duration": 42,
    "start_time": "2021-11-07T01:06:53.359Z"
   },
   {
    "duration": 25,
    "start_time": "2021-11-07T01:06:53.405Z"
   },
   {
    "duration": 12,
    "start_time": "2021-11-07T01:06:53.433Z"
   },
   {
    "duration": 16,
    "start_time": "2021-11-07T01:06:53.448Z"
   },
   {
    "duration": 6,
    "start_time": "2021-11-07T01:06:53.467Z"
   },
   {
    "duration": 52,
    "start_time": "2021-11-07T01:06:53.476Z"
   },
   {
    "duration": 10,
    "start_time": "2021-11-07T01:06:53.533Z"
   },
   {
    "duration": 345,
    "start_time": "2021-11-07T01:06:53.546Z"
   },
   {
    "duration": 55,
    "start_time": "2021-11-07T01:06:53.894Z"
   },
   {
    "duration": 18,
    "start_time": "2021-11-07T01:06:53.952Z"
   },
   {
    "duration": 424,
    "start_time": "2021-11-07T01:06:53.973Z"
   },
   {
    "duration": -103,
    "start_time": "2021-11-07T01:06:54.504Z"
   },
   {
    "duration": -103,
    "start_time": "2021-11-07T01:06:54.506Z"
   },
   {
    "duration": -103,
    "start_time": "2021-11-07T01:06:54.508Z"
   },
   {
    "duration": -103,
    "start_time": "2021-11-07T01:06:54.510Z"
   },
   {
    "duration": -231,
    "start_time": "2021-11-07T01:06:54.640Z"
   },
   {
    "duration": 1386,
    "start_time": "2021-11-07T01:09:07.160Z"
   },
   {
    "duration": 3,
    "start_time": "2021-11-07T01:09:08.549Z"
   },
   {
    "duration": 46,
    "start_time": "2021-11-07T01:09:08.555Z"
   },
   {
    "duration": 18,
    "start_time": "2021-11-07T01:09:08.604Z"
   },
   {
    "duration": 8,
    "start_time": "2021-11-07T01:09:08.624Z"
   },
   {
    "duration": 13,
    "start_time": "2021-11-07T01:09:08.635Z"
   },
   {
    "duration": 5,
    "start_time": "2021-11-07T01:09:08.650Z"
   },
   {
    "duration": 12,
    "start_time": "2021-11-07T01:09:08.659Z"
   },
   {
    "duration": 49,
    "start_time": "2021-11-07T01:09:08.674Z"
   },
   {
    "duration": 11,
    "start_time": "2021-11-07T01:09:08.726Z"
   },
   {
    "duration": 363,
    "start_time": "2021-11-07T01:09:08.739Z"
   },
   {
    "duration": 47,
    "start_time": "2021-11-07T01:09:09.104Z"
   },
   {
    "duration": 18,
    "start_time": "2021-11-07T01:09:09.153Z"
   },
   {
    "duration": 453,
    "start_time": "2021-11-07T01:09:09.173Z"
   },
   {
    "duration": -119,
    "start_time": "2021-11-07T01:09:09.747Z"
   },
   {
    "duration": -121,
    "start_time": "2021-11-07T01:09:09.750Z"
   },
   {
    "duration": -122,
    "start_time": "2021-11-07T01:09:09.752Z"
   },
   {
    "duration": -123,
    "start_time": "2021-11-07T01:09:09.754Z"
   },
   {
    "duration": -123,
    "start_time": "2021-11-07T01:09:09.756Z"
   },
   {
    "duration": 10,
    "start_time": "2021-11-07T01:09:53.903Z"
   },
   {
    "duration": 1349,
    "start_time": "2021-11-07T01:12:07.779Z"
   },
   {
    "duration": 4,
    "start_time": "2021-11-07T01:12:09.131Z"
   },
   {
    "duration": 44,
    "start_time": "2021-11-07T01:12:09.138Z"
   },
   {
    "duration": 8,
    "start_time": "2021-11-07T01:12:09.185Z"
   },
   {
    "duration": 29,
    "start_time": "2021-11-07T01:12:09.195Z"
   },
   {
    "duration": 15,
    "start_time": "2021-11-07T01:12:09.226Z"
   },
   {
    "duration": 6,
    "start_time": "2021-11-07T01:12:09.244Z"
   },
   {
    "duration": 14,
    "start_time": "2021-11-07T01:12:09.253Z"
   },
   {
    "duration": 56,
    "start_time": "2021-11-07T01:12:09.272Z"
   },
   {
    "duration": 340,
    "start_time": "2021-11-07T01:12:09.332Z"
   },
   {
    "duration": 54,
    "start_time": "2021-11-07T01:12:09.675Z"
   },
   {
    "duration": 17,
    "start_time": "2021-11-07T01:12:09.731Z"
   },
   {
    "duration": 406,
    "start_time": "2021-11-07T01:12:09.751Z"
   },
   {
    "duration": -96,
    "start_time": "2021-11-07T01:12:10.255Z"
   },
   {
    "duration": -98,
    "start_time": "2021-11-07T01:12:10.259Z"
   },
   {
    "duration": -99,
    "start_time": "2021-11-07T01:12:10.261Z"
   },
   {
    "duration": -105,
    "start_time": "2021-11-07T01:12:10.269Z"
   },
   {
    "duration": -115,
    "start_time": "2021-11-07T01:12:10.280Z"
   },
   {
    "duration": 21,
    "start_time": "2021-11-07T01:15:31.042Z"
   },
   {
    "duration": 63,
    "start_time": "2021-11-07T01:17:06.391Z"
   },
   {
    "duration": 66,
    "start_time": "2021-11-07T01:17:23.282Z"
   },
   {
    "duration": 67,
    "start_time": "2021-11-07T01:17:32.482Z"
   },
   {
    "duration": 289,
    "start_time": "2021-11-07T01:17:59.052Z"
   },
   {
    "duration": 1313,
    "start_time": "2021-11-07T01:18:41.332Z"
   },
   {
    "duration": 3,
    "start_time": "2021-11-07T01:18:42.648Z"
   },
   {
    "duration": 46,
    "start_time": "2021-11-07T01:18:42.654Z"
   },
   {
    "duration": 9,
    "start_time": "2021-11-07T01:18:42.702Z"
   },
   {
    "duration": 7,
    "start_time": "2021-11-07T01:18:42.723Z"
   },
   {
    "duration": 15,
    "start_time": "2021-11-07T01:18:42.732Z"
   },
   {
    "duration": 6,
    "start_time": "2021-11-07T01:18:42.749Z"
   },
   {
    "duration": 13,
    "start_time": "2021-11-07T01:18:42.757Z"
   },
   {
    "duration": 55,
    "start_time": "2021-11-07T01:18:42.774Z"
   },
   {
    "duration": 344,
    "start_time": "2021-11-07T01:18:42.832Z"
   },
   {
    "duration": 50,
    "start_time": "2021-11-07T01:18:43.178Z"
   },
   {
    "duration": 20,
    "start_time": "2021-11-07T01:18:43.230Z"
   },
   {
    "duration": 18,
    "start_time": "2021-11-07T01:18:43.252Z"
   },
   {
    "duration": 397,
    "start_time": "2021-11-07T01:18:43.272Z"
   },
   {
    "duration": -102,
    "start_time": "2021-11-07T01:18:43.774Z"
   },
   {
    "duration": -104,
    "start_time": "2021-11-07T01:18:43.777Z"
   },
   {
    "duration": -105,
    "start_time": "2021-11-07T01:18:43.780Z"
   },
   {
    "duration": -234,
    "start_time": "2021-11-07T01:18:43.910Z"
   },
   {
    "duration": -235,
    "start_time": "2021-11-07T01:18:43.913Z"
   },
   {
    "duration": 1274,
    "start_time": "2021-11-07T01:21:20.678Z"
   },
   {
    "duration": 4,
    "start_time": "2021-11-07T01:21:21.955Z"
   },
   {
    "duration": 42,
    "start_time": "2021-11-07T01:21:21.963Z"
   },
   {
    "duration": 21,
    "start_time": "2021-11-07T01:21:22.008Z"
   },
   {
    "duration": 7,
    "start_time": "2021-11-07T01:21:22.032Z"
   },
   {
    "duration": 18,
    "start_time": "2021-11-07T01:21:22.041Z"
   },
   {
    "duration": 5,
    "start_time": "2021-11-07T01:21:22.061Z"
   },
   {
    "duration": 16,
    "start_time": "2021-11-07T01:21:22.068Z"
   },
   {
    "duration": 11,
    "start_time": "2021-11-07T01:21:22.123Z"
   },
   {
    "duration": 324,
    "start_time": "2021-11-07T01:21:22.137Z"
   },
   {
    "duration": 38,
    "start_time": "2021-11-07T01:21:22.463Z"
   },
   {
    "duration": 18,
    "start_time": "2021-11-07T01:21:22.523Z"
   },
   {
    "duration": 15,
    "start_time": "2021-11-07T01:21:22.544Z"
   },
   {
    "duration": 399,
    "start_time": "2021-11-07T01:21:22.561Z"
   },
   {
    "duration": -191,
    "start_time": "2021-11-07T01:21:23.154Z"
   },
   {
    "duration": -193,
    "start_time": "2021-11-07T01:21:23.157Z"
   },
   {
    "duration": -195,
    "start_time": "2021-11-07T01:21:23.160Z"
   },
   {
    "duration": -196,
    "start_time": "2021-11-07T01:21:23.162Z"
   },
   {
    "duration": -197,
    "start_time": "2021-11-07T01:21:23.164Z"
   },
   {
    "duration": 1318,
    "start_time": "2021-11-07T01:26:08.936Z"
   },
   {
    "duration": 3,
    "start_time": "2021-11-07T01:26:10.257Z"
   },
   {
    "duration": 48,
    "start_time": "2021-11-07T01:26:10.263Z"
   },
   {
    "duration": 14,
    "start_time": "2021-11-07T01:26:10.314Z"
   },
   {
    "duration": 8,
    "start_time": "2021-11-07T01:26:10.330Z"
   },
   {
    "duration": 13,
    "start_time": "2021-11-07T01:26:10.341Z"
   },
   {
    "duration": 5,
    "start_time": "2021-11-07T01:26:10.356Z"
   },
   {
    "duration": 14,
    "start_time": "2021-11-07T01:26:10.363Z"
   },
   {
    "duration": 54,
    "start_time": "2021-11-07T01:26:10.380Z"
   },
   {
    "duration": 316,
    "start_time": "2021-11-07T01:26:10.437Z"
   },
   {
    "duration": 39,
    "start_time": "2021-11-07T01:26:10.756Z"
   },
   {
    "duration": 40,
    "start_time": "2021-11-07T01:26:10.797Z"
   },
   {
    "duration": 17,
    "start_time": "2021-11-07T01:26:10.839Z"
   },
   {
    "duration": 407,
    "start_time": "2021-11-07T01:26:10.858Z"
   },
   {
    "duration": -97,
    "start_time": "2021-11-07T01:26:11.365Z"
   },
   {
    "duration": -100,
    "start_time": "2021-11-07T01:26:11.369Z"
   },
   {
    "duration": -101,
    "start_time": "2021-11-07T01:26:11.371Z"
   },
   {
    "duration": -102,
    "start_time": "2021-11-07T01:26:11.373Z"
   },
   {
    "duration": -102,
    "start_time": "2021-11-07T01:26:11.374Z"
   },
   {
    "duration": 1323,
    "start_time": "2021-11-07T01:29:58.934Z"
   },
   {
    "duration": 3,
    "start_time": "2021-11-07T01:30:00.260Z"
   },
   {
    "duration": 75,
    "start_time": "2021-11-07T01:30:00.267Z"
   },
   {
    "duration": 10,
    "start_time": "2021-11-07T01:30:00.344Z"
   },
   {
    "duration": 20,
    "start_time": "2021-11-07T01:30:00.357Z"
   },
   {
    "duration": 30,
    "start_time": "2021-11-07T01:30:00.379Z"
   },
   {
    "duration": 15,
    "start_time": "2021-11-07T01:30:00.412Z"
   },
   {
    "duration": 25,
    "start_time": "2021-11-07T01:30:00.430Z"
   },
   {
    "duration": 27,
    "start_time": "2021-11-07T01:30:00.459Z"
   },
   {
    "duration": 326,
    "start_time": "2021-11-07T01:30:00.488Z"
   },
   {
    "duration": 43,
    "start_time": "2021-11-07T01:30:00.817Z"
   },
   {
    "duration": 21,
    "start_time": "2021-11-07T01:30:00.862Z"
   },
   {
    "duration": 50,
    "start_time": "2021-11-07T01:30:00.885Z"
   },
   {
    "duration": 465,
    "start_time": "2021-11-07T01:30:00.937Z"
   },
   {
    "duration": -97,
    "start_time": "2021-11-07T01:30:01.502Z"
   },
   {
    "duration": -98,
    "start_time": "2021-11-07T01:30:01.504Z"
   },
   {
    "duration": -234,
    "start_time": "2021-11-07T01:30:01.641Z"
   },
   {
    "duration": -239,
    "start_time": "2021-11-07T01:30:01.648Z"
   },
   {
    "duration": -241,
    "start_time": "2021-11-07T01:30:01.651Z"
   },
   {
    "duration": 10,
    "start_time": "2021-11-07T01:30:34.038Z"
   },
   {
    "duration": 24,
    "start_time": "2021-11-07T01:34:29.126Z"
   },
   {
    "duration": 1385,
    "start_time": "2021-11-07T01:37:29.623Z"
   },
   {
    "duration": 5,
    "start_time": "2021-11-07T01:37:31.011Z"
   },
   {
    "duration": 55,
    "start_time": "2021-11-07T01:37:31.019Z"
   },
   {
    "duration": 9,
    "start_time": "2021-11-07T01:37:31.078Z"
   },
   {
    "duration": 18,
    "start_time": "2021-11-07T01:37:31.089Z"
   },
   {
    "duration": 35,
    "start_time": "2021-11-07T01:37:31.109Z"
   },
   {
    "duration": 16,
    "start_time": "2021-11-07T01:37:31.146Z"
   },
   {
    "duration": 22,
    "start_time": "2021-11-07T01:37:31.164Z"
   },
   {
    "duration": 15,
    "start_time": "2021-11-07T01:37:31.190Z"
   },
   {
    "duration": 317,
    "start_time": "2021-11-07T01:37:31.208Z"
   },
   {
    "duration": 22,
    "start_time": "2021-11-07T01:37:31.527Z"
   },
   {
    "duration": 39,
    "start_time": "2021-11-07T01:37:31.551Z"
   },
   {
    "duration": 49,
    "start_time": "2021-11-07T01:37:31.592Z"
   },
   {
    "duration": 16,
    "start_time": "2021-11-07T01:37:31.644Z"
   },
   {
    "duration": 17,
    "start_time": "2021-11-07T01:37:31.663Z"
   },
   {
    "duration": 111,
    "start_time": "2021-11-07T01:37:31.683Z"
   },
   {
    "duration": 106,
    "start_time": "2021-11-07T01:37:31.797Z"
   },
   {
    "duration": 4,
    "start_time": "2021-11-07T01:37:31.906Z"
   },
   {
    "duration": 2278,
    "start_time": "2021-11-07T01:37:31.913Z"
   },
   {
    "duration": 1354,
    "start_time": "2021-11-07T01:40:44.696Z"
   },
   {
    "duration": 4,
    "start_time": "2021-11-07T01:40:46.052Z"
   },
   {
    "duration": 47,
    "start_time": "2021-11-07T01:40:46.059Z"
   },
   {
    "duration": 15,
    "start_time": "2021-11-07T01:40:46.109Z"
   },
   {
    "duration": 8,
    "start_time": "2021-11-07T01:40:46.127Z"
   },
   {
    "duration": 14,
    "start_time": "2021-11-07T01:40:46.137Z"
   },
   {
    "duration": 5,
    "start_time": "2021-11-07T01:40:46.153Z"
   },
   {
    "duration": 12,
    "start_time": "2021-11-07T01:40:46.162Z"
   },
   {
    "duration": 56,
    "start_time": "2021-11-07T01:40:46.177Z"
   },
   {
    "duration": 5059,
    "start_time": "2021-11-07T01:40:46.235Z"
   },
   {
    "duration": 30,
    "start_time": "2021-11-07T01:40:51.296Z"
   },
   {
    "duration": 223,
    "start_time": "2021-11-07T01:40:51.328Z"
   },
   {
    "duration": 19,
    "start_time": "2021-11-07T01:40:51.554Z"
   },
   {
    "duration": 17,
    "start_time": "2021-11-07T01:40:51.575Z"
   },
   {
    "duration": 16,
    "start_time": "2021-11-07T01:40:51.622Z"
   },
   {
    "duration": 73,
    "start_time": "2021-11-07T01:40:51.641Z"
   },
   {
    "duration": 110,
    "start_time": "2021-11-07T01:40:51.716Z"
   },
   {
    "duration": 3,
    "start_time": "2021-11-07T01:40:51.828Z"
   },
   {
    "duration": 2531,
    "start_time": "2021-11-07T01:40:51.833Z"
   },
   {
    "duration": 475,
    "start_time": "2021-11-07T01:41:30.512Z"
   },
   {
    "duration": 20,
    "start_time": "2021-11-07T02:03:48.497Z"
   },
   {
    "duration": 1311,
    "start_time": "2021-11-07T02:04:47.442Z"
   },
   {
    "duration": 3,
    "start_time": "2021-11-07T02:04:48.756Z"
   },
   {
    "duration": 45,
    "start_time": "2021-11-07T02:04:48.762Z"
   },
   {
    "duration": 13,
    "start_time": "2021-11-07T02:04:48.810Z"
   },
   {
    "duration": 7,
    "start_time": "2021-11-07T02:04:48.825Z"
   },
   {
    "duration": 12,
    "start_time": "2021-11-07T02:04:48.834Z"
   },
   {
    "duration": 5,
    "start_time": "2021-11-07T02:04:48.848Z"
   },
   {
    "duration": 16,
    "start_time": "2021-11-07T02:04:48.856Z"
   },
   {
    "duration": 58,
    "start_time": "2021-11-07T02:04:48.874Z"
   },
   {
    "duration": 5219,
    "start_time": "2021-11-07T02:04:48.934Z"
   },
   {
    "duration": 481,
    "start_time": "2021-11-07T02:04:54.155Z"
   },
   {
    "duration": 212,
    "start_time": "2021-11-07T02:04:54.638Z"
   },
   {
    "duration": 19,
    "start_time": "2021-11-07T02:04:54.853Z"
   },
   {
    "duration": 17,
    "start_time": "2021-11-07T02:04:54.874Z"
   },
   {
    "duration": 14,
    "start_time": "2021-11-07T02:04:54.922Z"
   },
   {
    "duration": 71,
    "start_time": "2021-11-07T02:04:54.938Z"
   },
   {
    "duration": 106,
    "start_time": "2021-11-07T02:04:55.011Z"
   },
   {
    "duration": 4,
    "start_time": "2021-11-07T02:04:55.119Z"
   },
   {
    "duration": 2186,
    "start_time": "2021-11-07T02:04:55.126Z"
   },
   {
    "duration": 1304,
    "start_time": "2021-11-07T02:05:46.740Z"
   },
   {
    "duration": 4,
    "start_time": "2021-11-07T02:05:48.046Z"
   },
   {
    "duration": 44,
    "start_time": "2021-11-07T02:05:48.053Z"
   },
   {
    "duration": 9,
    "start_time": "2021-11-07T02:05:48.100Z"
   },
   {
    "duration": 17,
    "start_time": "2021-11-07T02:05:48.111Z"
   },
   {
    "duration": 16,
    "start_time": "2021-11-07T02:05:48.131Z"
   },
   {
    "duration": 5,
    "start_time": "2021-11-07T02:05:48.149Z"
   },
   {
    "duration": 16,
    "start_time": "2021-11-07T02:05:48.156Z"
   },
   {
    "duration": 56,
    "start_time": "2021-11-07T02:05:48.175Z"
   },
   {
    "duration": 5062,
    "start_time": "2021-11-07T02:05:48.234Z"
   },
   {
    "duration": 479,
    "start_time": "2021-11-07T02:05:53.298Z"
   },
   {
    "duration": 209,
    "start_time": "2021-11-07T02:05:53.779Z"
   },
   {
    "duration": 36,
    "start_time": "2021-11-07T02:05:53.990Z"
   },
   {
    "duration": 16,
    "start_time": "2021-11-07T02:05:54.028Z"
   },
   {
    "duration": 14,
    "start_time": "2021-11-07T02:05:54.046Z"
   },
   {
    "duration": 82,
    "start_time": "2021-11-07T02:05:54.062Z"
   },
   {
    "duration": 103,
    "start_time": "2021-11-07T02:05:54.147Z"
   },
   {
    "duration": 2,
    "start_time": "2021-11-07T02:05:54.253Z"
   },
   {
    "duration": 2333,
    "start_time": "2021-11-07T02:05:54.258Z"
   },
   {
    "duration": 321,
    "start_time": "2021-11-07T02:07:13.399Z"
   },
   {
    "duration": 1278,
    "start_time": "2021-11-07T02:07:53.267Z"
   },
   {
    "duration": 4,
    "start_time": "2021-11-07T02:07:54.547Z"
   },
   {
    "duration": 47,
    "start_time": "2021-11-07T02:07:54.553Z"
   },
   {
    "duration": 8,
    "start_time": "2021-11-07T02:07:54.602Z"
   },
   {
    "duration": 15,
    "start_time": "2021-11-07T02:07:54.613Z"
   },
   {
    "duration": 16,
    "start_time": "2021-11-07T02:07:54.631Z"
   },
   {
    "duration": 6,
    "start_time": "2021-11-07T02:07:54.649Z"
   },
   {
    "duration": 15,
    "start_time": "2021-11-07T02:07:54.658Z"
   },
   {
    "duration": 54,
    "start_time": "2021-11-07T02:07:54.676Z"
   },
   {
    "duration": 5238,
    "start_time": "2021-11-07T02:07:54.732Z"
   },
   {
    "duration": 492,
    "start_time": "2021-11-07T02:07:59.973Z"
   },
   {
    "duration": 217,
    "start_time": "2021-11-07T02:08:00.468Z"
   },
   {
    "duration": 38,
    "start_time": "2021-11-07T02:08:00.687Z"
   },
   {
    "duration": 16,
    "start_time": "2021-11-07T02:08:00.728Z"
   },
   {
    "duration": 14,
    "start_time": "2021-11-07T02:08:00.747Z"
   },
   {
    "duration": 80,
    "start_time": "2021-11-07T02:08:00.764Z"
   },
   {
    "duration": 106,
    "start_time": "2021-11-07T02:08:00.846Z"
   },
   {
    "duration": 4,
    "start_time": "2021-11-07T02:08:00.954Z"
   },
   {
    "duration": 2187,
    "start_time": "2021-11-07T02:08:00.960Z"
   },
   {
    "duration": 297,
    "start_time": "2021-11-07T02:16:58.373Z"
   },
   {
    "duration": 196,
    "start_time": "2021-11-07T02:20:47.367Z"
   },
   {
    "duration": 19,
    "start_time": "2021-11-07T02:26:30.875Z"
   },
   {
    "duration": 20,
    "start_time": "2021-11-07T02:26:44.679Z"
   },
   {
    "duration": 1318,
    "start_time": "2021-11-07T02:29:38.833Z"
   },
   {
    "duration": 3,
    "start_time": "2021-11-07T02:29:40.154Z"
   },
   {
    "duration": 46,
    "start_time": "2021-11-07T02:29:40.160Z"
   },
   {
    "duration": 15,
    "start_time": "2021-11-07T02:29:40.209Z"
   },
   {
    "duration": 8,
    "start_time": "2021-11-07T02:29:40.227Z"
   },
   {
    "duration": 12,
    "start_time": "2021-11-07T02:29:40.238Z"
   },
   {
    "duration": 5,
    "start_time": "2021-11-07T02:29:40.252Z"
   },
   {
    "duration": 15,
    "start_time": "2021-11-07T02:29:40.261Z"
   },
   {
    "duration": 53,
    "start_time": "2021-11-07T02:29:40.278Z"
   },
   {
    "duration": 5022,
    "start_time": "2021-11-07T02:29:40.334Z"
   },
   {
    "duration": 448,
    "start_time": "2021-11-07T02:29:45.359Z"
   },
   {
    "duration": 214,
    "start_time": "2021-11-07T02:29:45.810Z"
   },
   {
    "duration": 20,
    "start_time": "2021-11-07T02:29:46.026Z"
   },
   {
    "duration": 33,
    "start_time": "2021-11-07T02:29:46.048Z"
   },
   {
    "duration": 44,
    "start_time": "2021-11-07T02:29:46.083Z"
   },
   {
    "duration": 72,
    "start_time": "2021-11-07T02:29:46.129Z"
   },
   {
    "duration": 104,
    "start_time": "2021-11-07T02:29:46.203Z"
   },
   {
    "duration": 28,
    "start_time": "2021-11-07T02:29:46.309Z"
   },
   {
    "duration": 3,
    "start_time": "2021-11-07T02:29:46.339Z"
   },
   {
    "duration": 2114,
    "start_time": "2021-11-07T02:29:46.344Z"
   },
   {
    "duration": 32,
    "start_time": "2021-11-07T02:30:43.205Z"
   },
   {
    "duration": 2163,
    "start_time": "2021-11-07T02:40:54.111Z"
   },
   {
    "duration": 3,
    "start_time": "2021-11-07T02:40:56.277Z"
   },
   {
    "duration": 42,
    "start_time": "2021-11-07T02:40:56.284Z"
   },
   {
    "duration": 8,
    "start_time": "2021-11-07T02:40:56.328Z"
   },
   {
    "duration": 14,
    "start_time": "2021-11-07T02:40:56.338Z"
   },
   {
    "duration": 12,
    "start_time": "2021-11-07T02:40:56.354Z"
   },
   {
    "duration": 4,
    "start_time": "2021-11-07T02:40:56.369Z"
   },
   {
    "duration": 52,
    "start_time": "2021-11-07T02:40:56.377Z"
   },
   {
    "duration": 13,
    "start_time": "2021-11-07T02:40:56.432Z"
   },
   {
    "duration": 5216,
    "start_time": "2021-11-07T02:40:56.447Z"
   },
   {
    "duration": 313,
    "start_time": "2021-11-07T02:41:01.666Z"
   },
   {
    "duration": 214,
    "start_time": "2021-11-07T02:41:01.981Z"
   },
   {
    "duration": 37,
    "start_time": "2021-11-07T02:41:02.197Z"
   },
   {
    "duration": 31,
    "start_time": "2021-11-07T02:41:02.236Z"
   },
   {
    "duration": 409,
    "start_time": "2021-11-07T02:41:02.269Z"
   },
   {
    "duration": -123,
    "start_time": "2021-11-07T02:41:02.803Z"
   },
   {
    "duration": -124,
    "start_time": "2021-11-07T02:41:02.806Z"
   },
   {
    "duration": -125,
    "start_time": "2021-11-07T02:41:02.808Z"
   },
   {
    "duration": -127,
    "start_time": "2021-11-07T02:41:02.811Z"
   },
   {
    "duration": -127,
    "start_time": "2021-11-07T02:41:02.813Z"
   },
   {
    "duration": -128,
    "start_time": "2021-11-07T02:41:02.815Z"
   },
   {
    "duration": 1379,
    "start_time": "2021-11-07T02:42:12.109Z"
   },
   {
    "duration": 4,
    "start_time": "2021-11-07T02:42:13.491Z"
   },
   {
    "duration": 45,
    "start_time": "2021-11-07T02:42:13.498Z"
   },
   {
    "duration": 9,
    "start_time": "2021-11-07T02:42:13.546Z"
   },
   {
    "duration": 9,
    "start_time": "2021-11-07T02:42:13.558Z"
   },
   {
    "duration": 13,
    "start_time": "2021-11-07T02:42:13.569Z"
   },
   {
    "duration": 6,
    "start_time": "2021-11-07T02:42:13.621Z"
   },
   {
    "duration": 15,
    "start_time": "2021-11-07T02:42:13.630Z"
   },
   {
    "duration": 13,
    "start_time": "2021-11-07T02:42:13.649Z"
   },
   {
    "duration": 5179,
    "start_time": "2021-11-07T02:42:13.666Z"
   },
   {
    "duration": 331,
    "start_time": "2021-11-07T02:42:18.848Z"
   },
   {
    "duration": 224,
    "start_time": "2021-11-07T02:42:19.183Z"
   },
   {
    "duration": 24,
    "start_time": "2021-11-07T02:42:19.422Z"
   },
   {
    "duration": 34,
    "start_time": "2021-11-07T02:42:19.449Z"
   },
   {
    "duration": 423,
    "start_time": "2021-11-07T02:42:19.486Z"
   },
   {
    "duration": -89,
    "start_time": "2021-11-07T02:42:20.001Z"
   },
   {
    "duration": -89,
    "start_time": "2021-11-07T02:42:20.003Z"
   },
   {
    "duration": -89,
    "start_time": "2021-11-07T02:42:20.005Z"
   },
   {
    "duration": -89,
    "start_time": "2021-11-07T02:42:20.008Z"
   },
   {
    "duration": -93,
    "start_time": "2021-11-07T02:42:20.014Z"
   },
   {
    "duration": -93,
    "start_time": "2021-11-07T02:42:20.016Z"
   },
   {
    "duration": 301,
    "start_time": "2021-11-07T02:44:20.040Z"
   },
   {
    "duration": 306,
    "start_time": "2021-11-07T02:44:59.720Z"
   },
   {
    "duration": 19,
    "start_time": "2021-11-07T02:46:56.706Z"
   },
   {
    "duration": 1292,
    "start_time": "2021-11-07T02:47:07.768Z"
   },
   {
    "duration": 3,
    "start_time": "2021-11-07T02:47:09.063Z"
   },
   {
    "duration": 46,
    "start_time": "2021-11-07T02:47:09.069Z"
   },
   {
    "duration": 9,
    "start_time": "2021-11-07T02:47:09.122Z"
   },
   {
    "duration": 21,
    "start_time": "2021-11-07T02:47:09.134Z"
   },
   {
    "duration": 18,
    "start_time": "2021-11-07T02:47:09.157Z"
   },
   {
    "duration": 9,
    "start_time": "2021-11-07T02:47:09.178Z"
   },
   {
    "duration": 438,
    "start_time": "2021-11-07T02:47:09.190Z"
   },
   {
    "duration": -122,
    "start_time": "2021-11-07T02:47:09.753Z"
   },
   {
    "duration": -125,
    "start_time": "2021-11-07T02:47:09.758Z"
   },
   {
    "duration": -130,
    "start_time": "2021-11-07T02:47:09.764Z"
   },
   {
    "duration": -132,
    "start_time": "2021-11-07T02:47:09.767Z"
   },
   {
    "duration": -143,
    "start_time": "2021-11-07T02:47:09.780Z"
   },
   {
    "duration": -146,
    "start_time": "2021-11-07T02:47:09.784Z"
   },
   {
    "duration": -153,
    "start_time": "2021-11-07T02:47:09.792Z"
   },
   {
    "duration": -153,
    "start_time": "2021-11-07T02:47:09.794Z"
   },
   {
    "duration": -154,
    "start_time": "2021-11-07T02:47:09.796Z"
   },
   {
    "duration": -155,
    "start_time": "2021-11-07T02:47:09.798Z"
   },
   {
    "duration": -154,
    "start_time": "2021-11-07T02:47:09.799Z"
   },
   {
    "duration": -155,
    "start_time": "2021-11-07T02:47:09.801Z"
   },
   {
    "duration": -155,
    "start_time": "2021-11-07T02:47:09.802Z"
   },
   {
    "duration": 1364,
    "start_time": "2021-11-07T02:48:23.187Z"
   },
   {
    "duration": 4,
    "start_time": "2021-11-07T02:48:24.554Z"
   },
   {
    "duration": 44,
    "start_time": "2021-11-07T02:48:24.562Z"
   },
   {
    "duration": 21,
    "start_time": "2021-11-07T02:48:24.610Z"
   },
   {
    "duration": 16,
    "start_time": "2021-11-07T02:48:24.634Z"
   },
   {
    "duration": 16,
    "start_time": "2021-11-07T02:48:24.653Z"
   },
   {
    "duration": 7,
    "start_time": "2021-11-07T02:48:24.672Z"
   },
   {
    "duration": 53,
    "start_time": "2021-11-07T02:48:24.683Z"
   },
   {
    "duration": 13,
    "start_time": "2021-11-07T02:48:24.739Z"
   },
   {
    "duration": 5185,
    "start_time": "2021-11-07T02:48:24.754Z"
   },
   {
    "duration": 313,
    "start_time": "2021-11-07T02:48:29.941Z"
   },
   {
    "duration": 212,
    "start_time": "2021-11-07T02:48:30.257Z"
   },
   {
    "duration": 24,
    "start_time": "2021-11-07T02:48:30.473Z"
   },
   {
    "duration": 34,
    "start_time": "2021-11-07T02:48:30.523Z"
   },
   {
    "duration": 15,
    "start_time": "2021-11-07T02:48:30.559Z"
   },
   {
    "duration": 82,
    "start_time": "2021-11-07T02:48:30.576Z"
   },
   {
    "duration": 105,
    "start_time": "2021-11-07T02:48:30.661Z"
   },
   {
    "duration": 22,
    "start_time": "2021-11-07T02:48:30.768Z"
   },
   {
    "duration": 3,
    "start_time": "2021-11-07T02:48:30.792Z"
   },
   {
    "duration": 1943,
    "start_time": "2021-11-07T02:48:30.797Z"
   },
   {
    "duration": 306,
    "start_time": "2021-11-07T02:53:01.232Z"
   },
   {
    "duration": 1356,
    "start_time": "2021-11-07T02:56:19.990Z"
   },
   {
    "duration": 3,
    "start_time": "2021-11-07T02:56:21.349Z"
   },
   {
    "duration": 45,
    "start_time": "2021-11-07T02:56:21.355Z"
   },
   {
    "duration": 8,
    "start_time": "2021-11-07T02:56:21.403Z"
   },
   {
    "duration": 13,
    "start_time": "2021-11-07T02:56:21.414Z"
   },
   {
    "duration": 16,
    "start_time": "2021-11-07T02:56:21.429Z"
   },
   {
    "duration": 5,
    "start_time": "2021-11-07T02:56:21.448Z"
   },
   {
    "duration": 14,
    "start_time": "2021-11-07T02:56:21.455Z"
   },
   {
    "duration": 53,
    "start_time": "2021-11-07T02:56:21.473Z"
   },
   {
    "duration": 5000,
    "start_time": "2021-11-07T02:56:21.529Z"
   },
   {
    "duration": 317,
    "start_time": "2021-11-07T02:56:26.532Z"
   },
   {
    "duration": 214,
    "start_time": "2021-11-07T02:56:26.851Z"
   },
   {
    "duration": 19,
    "start_time": "2021-11-07T02:56:27.067Z"
   },
   {
    "duration": 61,
    "start_time": "2021-11-07T02:56:27.089Z"
   },
   {
    "duration": 16,
    "start_time": "2021-11-07T02:56:27.152Z"
   },
   {
    "duration": 72,
    "start_time": "2021-11-07T02:56:27.170Z"
   },
   {
    "duration": 105,
    "start_time": "2021-11-07T02:56:27.244Z"
   },
   {
    "duration": 21,
    "start_time": "2021-11-07T02:56:27.351Z"
   },
   {
    "duration": 3,
    "start_time": "2021-11-07T02:56:27.374Z"
   },
   {
    "duration": 1794,
    "start_time": "2021-11-07T02:56:27.379Z"
   },
   {
    "duration": 1301,
    "start_time": "2021-11-07T03:01:31.247Z"
   },
   {
    "duration": 3,
    "start_time": "2021-11-07T03:01:32.551Z"
   },
   {
    "duration": 45,
    "start_time": "2021-11-07T03:01:32.557Z"
   },
   {
    "duration": 18,
    "start_time": "2021-11-07T03:01:32.604Z"
   },
   {
    "duration": 6,
    "start_time": "2021-11-07T03:01:32.625Z"
   },
   {
    "duration": 14,
    "start_time": "2021-11-07T03:01:32.633Z"
   },
   {
    "duration": 5,
    "start_time": "2021-11-07T03:01:32.650Z"
   },
   {
    "duration": 64,
    "start_time": "2021-11-07T03:01:32.659Z"
   },
   {
    "duration": 18,
    "start_time": "2021-11-07T03:01:32.727Z"
   },
   {
    "duration": 5149,
    "start_time": "2021-11-07T03:01:32.749Z"
   },
   {
    "duration": 312,
    "start_time": "2021-11-07T03:01:37.900Z"
   },
   {
    "duration": 228,
    "start_time": "2021-11-07T03:01:38.223Z"
   },
   {
    "duration": 19,
    "start_time": "2021-11-07T03:01:38.453Z"
   },
   {
    "duration": 55,
    "start_time": "2021-11-07T03:01:38.475Z"
   },
   {
    "duration": 15,
    "start_time": "2021-11-07T03:01:38.533Z"
   },
   {
    "duration": 72,
    "start_time": "2021-11-07T03:01:38.551Z"
   },
   {
    "duration": 106,
    "start_time": "2021-11-07T03:01:38.626Z"
   },
   {
    "duration": 20,
    "start_time": "2021-11-07T03:01:38.734Z"
   },
   {
    "duration": 2,
    "start_time": "2021-11-07T03:01:38.757Z"
   },
   {
    "duration": 1835,
    "start_time": "2021-11-07T03:01:38.762Z"
   },
   {
    "duration": 418,
    "start_time": "2021-11-07T03:05:02.026Z"
   },
   {
    "duration": 302,
    "start_time": "2021-11-07T03:08:10.916Z"
   },
   {
    "duration": 290,
    "start_time": "2021-11-07T03:09:03.702Z"
   },
   {
    "duration": 278,
    "start_time": "2021-11-07T03:10:16.713Z"
   },
   {
    "duration": 279,
    "start_time": "2021-11-07T03:12:51.020Z"
   },
   {
    "duration": 285,
    "start_time": "2021-11-07T03:12:56.659Z"
   },
   {
    "duration": 272,
    "start_time": "2021-11-07T03:14:35.605Z"
   },
   {
    "duration": 1353,
    "start_time": "2021-11-07T03:14:50.191Z"
   },
   {
    "duration": 5,
    "start_time": "2021-11-07T03:14:51.546Z"
   },
   {
    "duration": 44,
    "start_time": "2021-11-07T03:14:51.555Z"
   },
   {
    "duration": 20,
    "start_time": "2021-11-07T03:14:51.602Z"
   },
   {
    "duration": 16,
    "start_time": "2021-11-07T03:14:51.624Z"
   },
   {
    "duration": 12,
    "start_time": "2021-11-07T03:14:51.642Z"
   },
   {
    "duration": 5,
    "start_time": "2021-11-07T03:14:51.656Z"
   },
   {
    "duration": 13,
    "start_time": "2021-11-07T03:14:51.664Z"
   },
   {
    "duration": 47,
    "start_time": "2021-11-07T03:14:51.681Z"
   },
   {
    "duration": 5066,
    "start_time": "2021-11-07T03:14:51.731Z"
   },
   {
    "duration": 307,
    "start_time": "2021-11-07T03:14:56.800Z"
   },
   {
    "duration": 214,
    "start_time": "2021-11-07T03:14:57.109Z"
   },
   {
    "duration": 19,
    "start_time": "2021-11-07T03:14:57.325Z"
   },
   {
    "duration": 30,
    "start_time": "2021-11-07T03:14:57.347Z"
   },
   {
    "duration": 408,
    "start_time": "2021-11-07T03:14:57.379Z"
   },
   {
    "duration": -139,
    "start_time": "2021-11-07T03:14:57.928Z"
   },
   {
    "duration": -138,
    "start_time": "2021-11-07T03:14:57.929Z"
   },
   {
    "duration": -140,
    "start_time": "2021-11-07T03:14:57.932Z"
   },
   {
    "duration": -141,
    "start_time": "2021-11-07T03:14:57.934Z"
   },
   {
    "duration": -142,
    "start_time": "2021-11-07T03:14:57.936Z"
   },
   {
    "duration": -141,
    "start_time": "2021-11-07T03:14:57.937Z"
   },
   {
    "duration": -142,
    "start_time": "2021-11-07T03:14:57.939Z"
   },
   {
    "duration": 302,
    "start_time": "2021-11-07T03:15:01.333Z"
   },
   {
    "duration": 299,
    "start_time": "2021-11-07T03:19:42.292Z"
   },
   {
    "duration": 1352,
    "start_time": "2021-11-07T03:22:26.709Z"
   },
   {
    "duration": 4,
    "start_time": "2021-11-07T03:22:28.064Z"
   },
   {
    "duration": 45,
    "start_time": "2021-11-07T03:22:28.070Z"
   },
   {
    "duration": 10,
    "start_time": "2021-11-07T03:22:28.118Z"
   },
   {
    "duration": 16,
    "start_time": "2021-11-07T03:22:28.130Z"
   },
   {
    "duration": 12,
    "start_time": "2021-11-07T03:22:28.148Z"
   },
   {
    "duration": 4,
    "start_time": "2021-11-07T03:22:28.163Z"
   },
   {
    "duration": 51,
    "start_time": "2021-11-07T03:22:28.171Z"
   },
   {
    "duration": 12,
    "start_time": "2021-11-07T03:22:28.225Z"
   },
   {
    "duration": 5282,
    "start_time": "2021-11-07T03:22:28.240Z"
   },
   {
    "duration": 311,
    "start_time": "2021-11-07T03:22:33.525Z"
   },
   {
    "duration": 217,
    "start_time": "2021-11-07T03:22:33.838Z"
   },
   {
    "duration": 21,
    "start_time": "2021-11-07T03:22:34.057Z"
   },
   {
    "duration": 61,
    "start_time": "2021-11-07T03:22:34.081Z"
   },
   {
    "duration": 325,
    "start_time": "2021-11-07T03:22:34.145Z"
   },
   {
    "duration": 17,
    "start_time": "2021-11-07T03:22:34.473Z"
   },
   {
    "duration": 72,
    "start_time": "2021-11-07T03:22:34.493Z"
   },
   {
    "duration": 106,
    "start_time": "2021-11-07T03:22:34.567Z"
   },
   {
    "duration": 19,
    "start_time": "2021-11-07T03:22:34.675Z"
   },
   {
    "duration": 2,
    "start_time": "2021-11-07T03:22:34.697Z"
   },
   {
    "duration": 1747,
    "start_time": "2021-11-07T03:22:34.722Z"
   },
   {
    "duration": 1345,
    "start_time": "2021-11-07T03:29:20.796Z"
   },
   {
    "duration": 3,
    "start_time": "2021-11-07T03:29:22.144Z"
   },
   {
    "duration": 48,
    "start_time": "2021-11-07T03:29:22.150Z"
   },
   {
    "duration": 9,
    "start_time": "2021-11-07T03:29:22.200Z"
   },
   {
    "duration": 17,
    "start_time": "2021-11-07T03:29:22.211Z"
   },
   {
    "duration": 25,
    "start_time": "2021-11-07T03:29:22.230Z"
   },
   {
    "duration": 6,
    "start_time": "2021-11-07T03:29:22.258Z"
   },
   {
    "duration": 21,
    "start_time": "2021-11-07T03:29:22.268Z"
   },
   {
    "duration": 14,
    "start_time": "2021-11-07T03:29:22.321Z"
   },
   {
    "duration": 5013,
    "start_time": "2021-11-07T03:29:22.337Z"
   },
   {
    "duration": 305,
    "start_time": "2021-11-07T03:29:27.352Z"
   },
   {
    "duration": 228,
    "start_time": "2021-11-07T03:29:27.659Z"
   },
   {
    "duration": 37,
    "start_time": "2021-11-07T03:29:27.889Z"
   },
   {
    "duration": 31,
    "start_time": "2021-11-07T03:29:27.929Z"
   },
   {
    "duration": 327,
    "start_time": "2021-11-07T03:29:27.963Z"
   },
   {
    "duration": 3,
    "start_time": "2021-11-07T03:29:28.292Z"
   },
   {
    "duration": 1359,
    "start_time": "2021-11-07T03:30:25.992Z"
   },
   {
    "duration": 4,
    "start_time": "2021-11-07T03:30:27.354Z"
   },
   {
    "duration": 48,
    "start_time": "2021-11-07T03:30:27.361Z"
   },
   {
    "duration": 10,
    "start_time": "2021-11-07T03:30:27.412Z"
   },
   {
    "duration": 7,
    "start_time": "2021-11-07T03:30:27.425Z"
   },
   {
    "duration": 16,
    "start_time": "2021-11-07T03:30:27.434Z"
   },
   {
    "duration": 6,
    "start_time": "2021-11-07T03:30:27.452Z"
   },
   {
    "duration": 14,
    "start_time": "2021-11-07T03:30:27.462Z"
   },
   {
    "duration": 12,
    "start_time": "2021-11-07T03:30:27.523Z"
   },
   {
    "duration": 5158,
    "start_time": "2021-11-07T03:30:27.537Z"
   },
   {
    "duration": 322,
    "start_time": "2021-11-07T03:30:32.698Z"
   },
   {
    "duration": 224,
    "start_time": "2021-11-07T03:30:33.023Z"
   },
   {
    "duration": 20,
    "start_time": "2021-11-07T03:30:33.250Z"
   },
   {
    "duration": 56,
    "start_time": "2021-11-07T03:30:33.273Z"
   },
   {
    "duration": 313,
    "start_time": "2021-11-07T03:30:33.331Z"
   },
   {
    "duration": 2,
    "start_time": "2021-11-07T03:30:33.647Z"
   },
   {
    "duration": 262,
    "start_time": "2021-11-07T22:48:12.355Z"
   },
   {
    "duration": 1015,
    "start_time": "2021-11-07T22:51:22.294Z"
   },
   {
    "duration": 3,
    "start_time": "2021-11-07T22:51:23.311Z"
   },
   {
    "duration": 106,
    "start_time": "2021-11-07T22:51:23.315Z"
   },
   {
    "duration": 6,
    "start_time": "2021-11-07T22:51:23.423Z"
   },
   {
    "duration": 8,
    "start_time": "2021-11-07T22:51:23.430Z"
   },
   {
    "duration": 9,
    "start_time": "2021-11-07T22:51:23.440Z"
   },
   {
    "duration": 5,
    "start_time": "2021-11-07T22:51:23.451Z"
   },
   {
    "duration": 10,
    "start_time": "2021-11-07T22:51:23.459Z"
   },
   {
    "duration": 8,
    "start_time": "2021-11-07T22:51:23.472Z"
   },
   {
    "duration": 331,
    "start_time": "2021-11-07T22:51:23.482Z"
   },
   {
    "duration": -84,
    "start_time": "2021-11-07T22:51:23.899Z"
   },
   {
    "duration": -99,
    "start_time": "2021-11-07T22:51:23.915Z"
   },
   {
    "duration": -101,
    "start_time": "2021-11-07T22:51:23.919Z"
   },
   {
    "duration": -160,
    "start_time": "2021-11-07T22:51:23.979Z"
   },
   {
    "duration": -162,
    "start_time": "2021-11-07T22:51:23.982Z"
   },
   {
    "duration": -230,
    "start_time": "2021-11-07T22:51:24.052Z"
   },
   {
    "duration": 1039,
    "start_time": "2021-11-07T22:52:58.263Z"
   },
   {
    "duration": 4,
    "start_time": "2021-11-07T22:52:59.303Z"
   },
   {
    "duration": 33,
    "start_time": "2021-11-07T22:52:59.309Z"
   },
   {
    "duration": 8,
    "start_time": "2021-11-07T22:52:59.344Z"
   },
   {
    "duration": 14,
    "start_time": "2021-11-07T22:52:59.353Z"
   },
   {
    "duration": 11,
    "start_time": "2021-11-07T22:52:59.369Z"
   },
   {
    "duration": 3,
    "start_time": "2021-11-07T22:52:59.382Z"
   },
   {
    "duration": 9,
    "start_time": "2021-11-07T22:52:59.387Z"
   },
   {
    "duration": 7,
    "start_time": "2021-11-07T22:52:59.398Z"
   },
   {
    "duration": 223,
    "start_time": "2021-11-07T22:52:59.407Z"
   },
   {
    "duration": 221,
    "start_time": "2021-11-07T22:52:59.632Z"
   },
   {
    "duration": 145,
    "start_time": "2021-11-07T22:52:59.863Z"
   },
   {
    "duration": 13,
    "start_time": "2021-11-07T22:53:00.010Z"
   },
   {
    "duration": 20,
    "start_time": "2021-11-07T22:53:00.025Z"
   },
   {
    "duration": 227,
    "start_time": "2021-11-07T22:53:00.047Z"
   },
   {
    "duration": 2,
    "start_time": "2021-11-07T22:53:00.276Z"
   },
   {
    "duration": 321,
    "start_time": "2021-11-07T22:53:44.102Z"
   },
   {
    "duration": 1089,
    "start_time": "2021-11-07T22:53:59.424Z"
   },
   {
    "duration": 2,
    "start_time": "2021-11-07T22:54:00.515Z"
   },
   {
    "duration": 37,
    "start_time": "2021-11-07T22:54:00.520Z"
   },
   {
    "duration": 7,
    "start_time": "2021-11-07T22:54:00.560Z"
   },
   {
    "duration": 13,
    "start_time": "2021-11-07T22:54:00.569Z"
   },
   {
    "duration": 18,
    "start_time": "2021-11-07T22:54:00.584Z"
   },
   {
    "duration": 17,
    "start_time": "2021-11-07T22:54:00.604Z"
   },
   {
    "duration": 17,
    "start_time": "2021-11-07T22:54:00.623Z"
   },
   {
    "duration": 7,
    "start_time": "2021-11-07T22:54:00.644Z"
   },
   {
    "duration": 641,
    "start_time": "2021-11-07T22:54:00.654Z"
   },
   {
    "duration": -119,
    "start_time": "2021-11-07T22:54:01.416Z"
   },
   {
    "duration": -119,
    "start_time": "2021-11-07T22:54:01.418Z"
   },
   {
    "duration": -120,
    "start_time": "2021-11-07T22:54:01.420Z"
   },
   {
    "duration": -120,
    "start_time": "2021-11-07T22:54:01.422Z"
   },
   {
    "duration": -121,
    "start_time": "2021-11-07T22:54:01.424Z"
   },
   {
    "duration": -122,
    "start_time": "2021-11-07T22:54:01.427Z"
   },
   {
    "duration": 188,
    "start_time": "2021-11-07T22:54:24.607Z"
   },
   {
    "duration": 1093,
    "start_time": "2021-11-07T22:57:14.612Z"
   },
   {
    "duration": 3,
    "start_time": "2021-11-07T22:57:15.707Z"
   },
   {
    "duration": 34,
    "start_time": "2021-11-07T22:57:15.713Z"
   },
   {
    "duration": 14,
    "start_time": "2021-11-07T22:57:15.749Z"
   },
   {
    "duration": 5,
    "start_time": "2021-11-07T22:57:15.765Z"
   },
   {
    "duration": 10,
    "start_time": "2021-11-07T22:57:15.771Z"
   },
   {
    "duration": 4,
    "start_time": "2021-11-07T22:57:15.782Z"
   },
   {
    "duration": 11,
    "start_time": "2021-11-07T22:57:15.788Z"
   },
   {
    "duration": 8,
    "start_time": "2021-11-07T22:57:15.801Z"
   },
   {
    "duration": 540,
    "start_time": "2021-11-07T22:57:15.811Z"
   },
   {
    "duration": -134,
    "start_time": "2021-11-07T22:57:16.487Z"
   },
   {
    "duration": -137,
    "start_time": "2021-11-07T22:57:16.491Z"
   },
   {
    "duration": -143,
    "start_time": "2021-11-07T22:57:16.498Z"
   },
   {
    "duration": -147,
    "start_time": "2021-11-07T22:57:16.503Z"
   },
   {
    "duration": -149,
    "start_time": "2021-11-07T22:57:16.506Z"
   },
   {
    "duration": -150,
    "start_time": "2021-11-07T22:57:16.508Z"
   },
   {
    "duration": 192,
    "start_time": "2021-11-07T22:57:29.418Z"
   },
   {
    "duration": 2505,
    "start_time": "2021-11-07T22:59:31.990Z"
   },
   {
    "duration": 3,
    "start_time": "2021-11-07T22:59:34.497Z"
   },
   {
    "duration": 33,
    "start_time": "2021-11-07T22:59:34.502Z"
   },
   {
    "duration": 6,
    "start_time": "2021-11-07T22:59:34.537Z"
   },
   {
    "duration": 7,
    "start_time": "2021-11-07T22:59:34.545Z"
   },
   {
    "duration": 14,
    "start_time": "2021-11-07T22:59:34.554Z"
   },
   {
    "duration": 4,
    "start_time": "2021-11-07T22:59:34.569Z"
   },
   {
    "duration": 9,
    "start_time": "2021-11-07T22:59:34.574Z"
   },
   {
    "duration": 8,
    "start_time": "2021-11-07T22:59:34.585Z"
   },
   {
    "duration": 18089,
    "start_time": "2021-11-07T22:59:34.594Z"
   },
   {
    "duration": 211,
    "start_time": "2021-11-07T22:59:52.685Z"
   },
   {
    "duration": 147,
    "start_time": "2021-11-07T22:59:52.898Z"
   },
   {
    "duration": 22,
    "start_time": "2021-11-07T22:59:53.046Z"
   },
   {
    "duration": 17,
    "start_time": "2021-11-07T22:59:53.070Z"
   },
   {
    "duration": 217,
    "start_time": "2021-11-07T22:59:53.089Z"
   },
   {
    "duration": 2,
    "start_time": "2021-11-07T22:59:53.308Z"
   },
   {
    "duration": 1269,
    "start_time": "2021-11-07T23:00:49.642Z"
   },
   {
    "duration": 3,
    "start_time": "2021-11-07T23:00:50.912Z"
   },
   {
    "duration": 37,
    "start_time": "2021-11-07T23:00:50.917Z"
   },
   {
    "duration": 7,
    "start_time": "2021-11-07T23:00:50.956Z"
   },
   {
    "duration": 10,
    "start_time": "2021-11-07T23:00:50.964Z"
   },
   {
    "duration": 17,
    "start_time": "2021-11-07T23:00:50.976Z"
   },
   {
    "duration": 11,
    "start_time": "2021-11-07T23:00:50.995Z"
   },
   {
    "duration": 22,
    "start_time": "2021-11-07T23:00:51.008Z"
   },
   {
    "duration": 9,
    "start_time": "2021-11-07T23:00:51.032Z"
   },
   {
    "duration": 188,
    "start_time": "2021-11-07T23:00:51.043Z"
   },
   {
    "duration": -106,
    "start_time": "2021-11-07T23:00:51.339Z"
   },
   {
    "duration": -116,
    "start_time": "2021-11-07T23:00:51.350Z"
   },
   {
    "duration": -119,
    "start_time": "2021-11-07T23:00:51.354Z"
   },
   {
    "duration": -122,
    "start_time": "2021-11-07T23:00:51.358Z"
   },
   {
    "duration": -125,
    "start_time": "2021-11-07T23:00:51.361Z"
   },
   {
    "duration": -126,
    "start_time": "2021-11-07T23:00:51.363Z"
   },
   {
    "duration": 1038,
    "start_time": "2021-11-07T23:01:32.669Z"
   },
   {
    "duration": 3,
    "start_time": "2021-11-07T23:01:33.710Z"
   },
   {
    "duration": 34,
    "start_time": "2021-11-07T23:01:33.716Z"
   },
   {
    "duration": 10,
    "start_time": "2021-11-07T23:01:33.753Z"
   },
   {
    "duration": 6,
    "start_time": "2021-11-07T23:01:33.765Z"
   },
   {
    "duration": 13,
    "start_time": "2021-11-07T23:01:33.773Z"
   },
   {
    "duration": 4,
    "start_time": "2021-11-07T23:01:33.788Z"
   },
   {
    "duration": 14,
    "start_time": "2021-11-07T23:01:33.795Z"
   },
   {
    "duration": 8,
    "start_time": "2021-11-07T23:01:33.811Z"
   },
   {
    "duration": 86,
    "start_time": "2021-11-07T23:01:33.821Z"
   },
   {
    "duration": -244,
    "start_time": "2021-11-07T23:01:34.153Z"
   },
   {
    "duration": -245,
    "start_time": "2021-11-07T23:01:34.155Z"
   },
   {
    "duration": -247,
    "start_time": "2021-11-07T23:01:34.158Z"
   },
   {
    "duration": -251,
    "start_time": "2021-11-07T23:01:34.162Z"
   },
   {
    "duration": -254,
    "start_time": "2021-11-07T23:01:34.166Z"
   },
   {
    "duration": -255,
    "start_time": "2021-11-07T23:01:34.168Z"
   },
   {
    "duration": 1023,
    "start_time": "2021-11-07T23:01:51.484Z"
   },
   {
    "duration": 3,
    "start_time": "2021-11-07T23:01:52.508Z"
   },
   {
    "duration": 35,
    "start_time": "2021-11-07T23:01:52.513Z"
   },
   {
    "duration": 8,
    "start_time": "2021-11-07T23:01:52.550Z"
   },
   {
    "duration": 6,
    "start_time": "2021-11-07T23:01:52.564Z"
   },
   {
    "duration": 10,
    "start_time": "2021-11-07T23:01:52.572Z"
   },
   {
    "duration": 3,
    "start_time": "2021-11-07T23:01:52.584Z"
   },
   {
    "duration": 12,
    "start_time": "2021-11-07T23:01:52.589Z"
   },
   {
    "duration": 13,
    "start_time": "2021-11-07T23:01:52.603Z"
   },
   {
    "duration": 17849,
    "start_time": "2021-11-07T23:01:52.618Z"
   },
   {
    "duration": 204,
    "start_time": "2021-11-07T23:02:10.469Z"
   },
   {
    "duration": 148,
    "start_time": "2021-11-07T23:02:10.675Z"
   },
   {
    "duration": 13,
    "start_time": "2021-11-07T23:02:10.824Z"
   },
   {
    "duration": 31,
    "start_time": "2021-11-07T23:02:10.839Z"
   },
   {
    "duration": 211,
    "start_time": "2021-11-07T23:02:10.872Z"
   },
   {
    "duration": 2,
    "start_time": "2021-11-07T23:02:11.085Z"
   },
   {
    "duration": 1121,
    "start_time": "2021-11-07T23:05:00.356Z"
   },
   {
    "duration": 2,
    "start_time": "2021-11-07T23:05:01.479Z"
   },
   {
    "duration": 37,
    "start_time": "2021-11-07T23:05:01.483Z"
   },
   {
    "duration": 6,
    "start_time": "2021-11-07T23:05:01.522Z"
   },
   {
    "duration": 14,
    "start_time": "2021-11-07T23:05:01.530Z"
   },
   {
    "duration": 20,
    "start_time": "2021-11-07T23:05:01.546Z"
   },
   {
    "duration": 5,
    "start_time": "2021-11-07T23:05:01.568Z"
   },
   {
    "duration": 20,
    "start_time": "2021-11-07T23:05:01.575Z"
   },
   {
    "duration": 16,
    "start_time": "2021-11-07T23:05:01.598Z"
   },
   {
    "duration": 17743,
    "start_time": "2021-11-07T23:05:01.616Z"
   },
   {
    "duration": 4,
    "start_time": "2021-11-07T23:05:19.363Z"
   },
   {
    "duration": 213,
    "start_time": "2021-11-07T23:05:19.368Z"
   },
   {
    "duration": 152,
    "start_time": "2021-11-07T23:05:19.582Z"
   },
   {
    "duration": 15,
    "start_time": "2021-11-07T23:05:19.736Z"
   },
   {
    "duration": 20,
    "start_time": "2021-11-07T23:05:19.764Z"
   },
   {
    "duration": 218,
    "start_time": "2021-11-07T23:05:19.785Z"
   },
   {
    "duration": 2,
    "start_time": "2021-11-07T23:05:20.005Z"
   },
   {
    "duration": 1035,
    "start_time": "2021-11-07T23:06:17.979Z"
   },
   {
    "duration": 3,
    "start_time": "2021-11-07T23:06:19.016Z"
   },
   {
    "duration": 35,
    "start_time": "2021-11-07T23:06:19.022Z"
   },
   {
    "duration": 6,
    "start_time": "2021-11-07T23:06:19.059Z"
   },
   {
    "duration": 8,
    "start_time": "2021-11-07T23:06:19.067Z"
   },
   {
    "duration": 8,
    "start_time": "2021-11-07T23:06:19.076Z"
   },
   {
    "duration": 3,
    "start_time": "2021-11-07T23:06:19.086Z"
   },
   {
    "duration": 13,
    "start_time": "2021-11-07T23:06:19.091Z"
   },
   {
    "duration": 8,
    "start_time": "2021-11-07T23:06:19.106Z"
   },
   {
    "duration": 18017,
    "start_time": "2021-11-07T23:06:19.116Z"
   },
   {
    "duration": 3,
    "start_time": "2021-11-07T23:06:37.135Z"
   },
   {
    "duration": 305,
    "start_time": "2021-11-07T23:06:37.140Z"
   },
   {
    "duration": 155,
    "start_time": "2021-11-07T23:06:37.447Z"
   },
   {
    "duration": 15,
    "start_time": "2021-11-07T23:06:37.604Z"
   },
   {
    "duration": 18,
    "start_time": "2021-11-07T23:06:37.621Z"
   },
   {
    "duration": 218,
    "start_time": "2021-11-07T23:06:37.664Z"
   },
   {
    "duration": 2,
    "start_time": "2021-11-07T23:06:37.883Z"
   },
   {
    "duration": 1173,
    "start_time": "2021-11-07T23:09:01.840Z"
   },
   {
    "duration": 3,
    "start_time": "2021-11-07T23:09:03.015Z"
   },
   {
    "duration": 35,
    "start_time": "2021-11-07T23:09:03.020Z"
   },
   {
    "duration": 10,
    "start_time": "2021-11-07T23:09:03.057Z"
   },
   {
    "duration": 9,
    "start_time": "2021-11-07T23:09:03.069Z"
   },
   {
    "duration": 12,
    "start_time": "2021-11-07T23:09:03.080Z"
   },
   {
    "duration": 23,
    "start_time": "2021-11-07T23:09:03.094Z"
   },
   {
    "duration": 38,
    "start_time": "2021-11-07T23:09:03.119Z"
   },
   {
    "duration": 9,
    "start_time": "2021-11-07T23:09:03.159Z"
   },
   {
    "duration": 18040,
    "start_time": "2021-11-07T23:09:03.170Z"
   },
   {
    "duration": 3,
    "start_time": "2021-11-07T23:09:21.212Z"
   },
   {
    "duration": 213,
    "start_time": "2021-11-07T23:09:21.217Z"
   },
   {
    "duration": 156,
    "start_time": "2021-11-07T23:09:21.432Z"
   },
   {
    "duration": 13,
    "start_time": "2021-11-07T23:09:21.589Z"
   },
   {
    "duration": 18,
    "start_time": "2021-11-07T23:09:21.604Z"
   },
   {
    "duration": 223,
    "start_time": "2021-11-07T23:09:21.624Z"
   },
   {
    "duration": 2,
    "start_time": "2021-11-07T23:09:21.848Z"
   },
   {
    "duration": 1028,
    "start_time": "2021-11-07T23:10:47.177Z"
   },
   {
    "duration": 2,
    "start_time": "2021-11-07T23:10:48.208Z"
   },
   {
    "duration": 34,
    "start_time": "2021-11-07T23:10:48.212Z"
   },
   {
    "duration": 7,
    "start_time": "2021-11-07T23:10:48.248Z"
   },
   {
    "duration": 12,
    "start_time": "2021-11-07T23:10:48.256Z"
   },
   {
    "duration": 9,
    "start_time": "2021-11-07T23:10:48.270Z"
   },
   {
    "duration": 4,
    "start_time": "2021-11-07T23:10:48.281Z"
   },
   {
    "duration": 12,
    "start_time": "2021-11-07T23:10:48.288Z"
   },
   {
    "duration": 7,
    "start_time": "2021-11-07T23:10:48.302Z"
   },
   {
    "duration": 18034,
    "start_time": "2021-11-07T23:10:48.311Z"
   },
   {
    "duration": 3,
    "start_time": "2021-11-07T23:11:06.347Z"
   },
   {
    "duration": 213,
    "start_time": "2021-11-07T23:11:06.363Z"
   },
   {
    "duration": 149,
    "start_time": "2021-11-07T23:11:06.579Z"
   },
   {
    "duration": 13,
    "start_time": "2021-11-07T23:11:06.730Z"
   },
   {
    "duration": 32,
    "start_time": "2021-11-07T23:11:06.745Z"
   },
   {
    "duration": 206,
    "start_time": "2021-11-07T23:11:06.779Z"
   },
   {
    "duration": 2,
    "start_time": "2021-11-07T23:11:06.987Z"
   },
   {
    "duration": 78,
    "start_time": "2021-11-07T23:12:04.116Z"
   },
   {
    "duration": 4,
    "start_time": "2021-11-07T23:12:15.180Z"
   },
   {
    "duration": 88,
    "start_time": "2021-11-07T23:15:09.426Z"
   },
   {
    "duration": 5,
    "start_time": "2021-11-07T23:15:20.647Z"
   },
   {
    "duration": 4,
    "start_time": "2021-11-07T23:15:42.305Z"
   },
   {
    "duration": 4,
    "start_time": "2021-11-07T23:16:48.536Z"
   },
   {
    "duration": 87,
    "start_time": "2021-11-07T23:17:45.467Z"
   },
   {
    "duration": 82,
    "start_time": "2021-11-07T23:18:10.488Z"
   },
   {
    "duration": 74,
    "start_time": "2021-11-07T23:18:17.160Z"
   },
   {
    "duration": 1159,
    "start_time": "2021-11-07T23:18:30.459Z"
   },
   {
    "duration": 3,
    "start_time": "2021-11-07T23:18:31.620Z"
   },
   {
    "duration": 40,
    "start_time": "2021-11-07T23:18:31.626Z"
   },
   {
    "duration": 8,
    "start_time": "2021-11-07T23:18:31.668Z"
   },
   {
    "duration": 19,
    "start_time": "2021-11-07T23:18:31.678Z"
   },
   {
    "duration": 23,
    "start_time": "2021-11-07T23:18:31.699Z"
   },
   {
    "duration": 7,
    "start_time": "2021-11-07T23:18:31.724Z"
   },
   {
    "duration": 19,
    "start_time": "2021-11-07T23:18:31.733Z"
   },
   {
    "duration": 16,
    "start_time": "2021-11-07T23:18:31.754Z"
   },
   {
    "duration": 17963,
    "start_time": "2021-11-07T23:18:31.771Z"
   },
   {
    "duration": 83,
    "start_time": "2021-11-07T23:18:49.736Z"
   },
   {
    "duration": -89,
    "start_time": "2021-11-07T23:18:49.910Z"
   },
   {
    "duration": -93,
    "start_time": "2021-11-07T23:18:49.915Z"
   },
   {
    "duration": -94,
    "start_time": "2021-11-07T23:18:49.917Z"
   },
   {
    "duration": -158,
    "start_time": "2021-11-07T23:18:49.982Z"
   },
   {
    "duration": -160,
    "start_time": "2021-11-07T23:18:49.985Z"
   },
   {
    "duration": -167,
    "start_time": "2021-11-07T23:18:49.993Z"
   },
   {
    "duration": 82,
    "start_time": "2021-11-07T23:19:07.059Z"
   },
   {
    "duration": 88,
    "start_time": "2021-11-07T23:19:26.789Z"
   },
   {
    "duration": 5,
    "start_time": "2021-11-07T23:19:34.911Z"
   },
   {
    "duration": 333,
    "start_time": "2021-11-07T23:20:15.619Z"
   },
   {
    "duration": 148,
    "start_time": "2021-11-07T23:24:05.838Z"
   },
   {
    "duration": 4,
    "start_time": "2021-11-07T23:24:55.536Z"
   },
   {
    "duration": 3,
    "start_time": "2021-11-07T23:26:39.839Z"
   },
   {
    "duration": 4,
    "start_time": "2021-11-07T23:27:44.225Z"
   },
   {
    "duration": 13,
    "start_time": "2021-11-07T23:27:46.036Z"
   },
   {
    "duration": 19,
    "start_time": "2021-11-07T23:28:10.966Z"
   },
   {
    "duration": 6,
    "start_time": "2021-11-07T23:34:03.775Z"
   },
   {
    "duration": 6,
    "start_time": "2021-11-07T23:52:23.267Z"
   },
   {
    "duration": 75,
    "start_time": "2021-11-07T23:52:37.523Z"
   },
   {
    "duration": 7,
    "start_time": "2021-11-07T23:52:44.548Z"
   },
   {
    "duration": 32,
    "start_time": "2021-11-07T23:55:23.123Z"
   },
   {
    "duration": 32,
    "start_time": "2021-11-07T23:55:49.810Z"
   },
   {
    "duration": 33,
    "start_time": "2021-11-07T23:56:21.851Z"
   },
   {
    "duration": 13,
    "start_time": "2021-11-07T23:56:40.187Z"
   },
   {
    "duration": 20,
    "start_time": "2021-11-07T23:56:49.506Z"
   },
   {
    "duration": 6,
    "start_time": "2021-11-07T23:57:33.956Z"
   },
   {
    "duration": 6,
    "start_time": "2021-11-07T23:57:56.729Z"
   },
   {
    "duration": 1051,
    "start_time": "2021-11-08T00:04:21.665Z"
   },
   {
    "duration": 3,
    "start_time": "2021-11-08T00:04:22.718Z"
   },
   {
    "duration": 37,
    "start_time": "2021-11-08T00:04:22.724Z"
   },
   {
    "duration": 7,
    "start_time": "2021-11-08T00:04:22.763Z"
   },
   {
    "duration": 12,
    "start_time": "2021-11-08T00:04:22.772Z"
   },
   {
    "duration": 10,
    "start_time": "2021-11-08T00:04:22.786Z"
   },
   {
    "duration": 3,
    "start_time": "2021-11-08T00:04:22.798Z"
   },
   {
    "duration": 11,
    "start_time": "2021-11-08T00:04:22.803Z"
   },
   {
    "duration": 8,
    "start_time": "2021-11-08T00:04:22.815Z"
   },
   {
    "duration": 17949,
    "start_time": "2021-11-08T00:04:22.824Z"
   },
   {
    "duration": 4,
    "start_time": "2021-11-08T00:04:40.775Z"
   },
   {
    "duration": 342,
    "start_time": "2021-11-08T00:04:40.780Z"
   },
   {
    "duration": 160,
    "start_time": "2021-11-08T00:04:41.124Z"
   },
   {
    "duration": 4,
    "start_time": "2021-11-08T00:04:41.286Z"
   },
   {
    "duration": 21,
    "start_time": "2021-11-08T00:04:41.291Z"
   },
   {
    "duration": 20,
    "start_time": "2021-11-08T00:04:41.313Z"
   },
   {
    "duration": 6,
    "start_time": "2021-11-08T00:04:41.335Z"
   },
   {
    "duration": 318,
    "start_time": "2021-11-08T00:04:41.363Z"
   },
   {
    "duration": -138,
    "start_time": "2021-11-08T00:04:41.821Z"
   },
   {
    "duration": 1036,
    "start_time": "2021-11-08T00:07:09.673Z"
   },
   {
    "duration": 4,
    "start_time": "2021-11-08T00:07:10.711Z"
   },
   {
    "duration": 34,
    "start_time": "2021-11-08T00:07:10.717Z"
   },
   {
    "duration": 11,
    "start_time": "2021-11-08T00:07:10.754Z"
   },
   {
    "duration": 9,
    "start_time": "2021-11-08T00:07:10.766Z"
   },
   {
    "duration": 9,
    "start_time": "2021-11-08T00:07:10.776Z"
   },
   {
    "duration": 3,
    "start_time": "2021-11-08T00:07:10.787Z"
   },
   {
    "duration": 9,
    "start_time": "2021-11-08T00:07:10.792Z"
   },
   {
    "duration": 8,
    "start_time": "2021-11-08T00:07:10.803Z"
   },
   {
    "duration": 17995,
    "start_time": "2021-11-08T00:07:10.812Z"
   },
   {
    "duration": 3,
    "start_time": "2021-11-08T00:07:28.809Z"
   },
   {
    "duration": 350,
    "start_time": "2021-11-08T00:07:28.814Z"
   },
   {
    "duration": 154,
    "start_time": "2021-11-08T00:07:29.166Z"
   },
   {
    "duration": 3,
    "start_time": "2021-11-08T00:07:29.322Z"
   },
   {
    "duration": 15,
    "start_time": "2021-11-08T00:07:29.327Z"
   },
   {
    "duration": 34,
    "start_time": "2021-11-08T00:07:29.344Z"
   },
   {
    "duration": 6,
    "start_time": "2021-11-08T00:07:29.379Z"
   },
   {
    "duration": 83,
    "start_time": "2021-11-08T00:07:29.386Z"
   },
   {
    "duration": -160,
    "start_time": "2021-11-08T00:07:29.630Z"
   },
   {
    "duration": 97,
    "start_time": "2021-11-08T00:08:34.228Z"
   },
   {
    "duration": 79,
    "start_time": "2021-11-08T00:08:45.012Z"
   },
   {
    "duration": 103,
    "start_time": "2021-11-08T00:08:50.771Z"
   },
   {
    "duration": 74,
    "start_time": "2021-11-08T00:08:57.463Z"
   },
   {
    "duration": 354,
    "start_time": "2021-11-08T00:09:08.374Z"
   },
   {
    "duration": 1090,
    "start_time": "2021-11-08T00:10:46.232Z"
   },
   {
    "duration": 3,
    "start_time": "2021-11-08T00:10:47.324Z"
   },
   {
    "duration": 34,
    "start_time": "2021-11-08T00:10:47.329Z"
   },
   {
    "duration": 7,
    "start_time": "2021-11-08T00:10:47.365Z"
   },
   {
    "duration": 9,
    "start_time": "2021-11-08T00:10:47.373Z"
   },
   {
    "duration": 8,
    "start_time": "2021-11-08T00:10:47.383Z"
   },
   {
    "duration": 4,
    "start_time": "2021-11-08T00:10:47.393Z"
   },
   {
    "duration": 8,
    "start_time": "2021-11-08T00:10:47.399Z"
   },
   {
    "duration": 7,
    "start_time": "2021-11-08T00:10:47.409Z"
   },
   {
    "duration": 17610,
    "start_time": "2021-11-08T00:10:47.418Z"
   },
   {
    "duration": 4,
    "start_time": "2021-11-08T00:11:05.030Z"
   },
   {
    "duration": 345,
    "start_time": "2021-11-08T00:11:05.036Z"
   },
   {
    "duration": 152,
    "start_time": "2021-11-08T00:11:05.383Z"
   },
   {
    "duration": 4,
    "start_time": "2021-11-08T00:11:05.537Z"
   },
   {
    "duration": 28,
    "start_time": "2021-11-08T00:11:05.542Z"
   },
   {
    "duration": 17,
    "start_time": "2021-11-08T00:11:05.571Z"
   },
   {
    "duration": 5,
    "start_time": "2021-11-08T00:11:05.590Z"
   },
   {
    "duration": 326,
    "start_time": "2021-11-08T00:11:05.596Z"
   },
   {
    "duration": -87,
    "start_time": "2021-11-08T00:11:06.011Z"
   },
   {
    "duration": 4,
    "start_time": "2021-11-08T00:11:53.112Z"
   },
   {
    "duration": 3,
    "start_time": "2021-11-08T00:12:05.227Z"
   },
   {
    "duration": 4,
    "start_time": "2021-11-08T00:12:13.684Z"
   },
   {
    "duration": 4,
    "start_time": "2021-11-08T00:12:30.737Z"
   },
   {
    "duration": 4,
    "start_time": "2021-11-08T00:13:16.415Z"
   },
   {
    "duration": 1005,
    "start_time": "2021-11-08T00:13:52.508Z"
   },
   {
    "duration": 3,
    "start_time": "2021-11-08T00:13:53.515Z"
   },
   {
    "duration": 35,
    "start_time": "2021-11-08T00:13:53.520Z"
   },
   {
    "duration": 7,
    "start_time": "2021-11-08T00:13:53.557Z"
   },
   {
    "duration": 8,
    "start_time": "2021-11-08T00:13:53.566Z"
   },
   {
    "duration": 9,
    "start_time": "2021-11-08T00:13:53.575Z"
   },
   {
    "duration": 3,
    "start_time": "2021-11-08T00:13:53.586Z"
   },
   {
    "duration": 9,
    "start_time": "2021-11-08T00:13:53.591Z"
   },
   {
    "duration": 8,
    "start_time": "2021-11-08T00:13:53.602Z"
   },
   {
    "duration": 18171,
    "start_time": "2021-11-08T00:13:53.612Z"
   },
   {
    "duration": 4,
    "start_time": "2021-11-08T00:14:11.785Z"
   },
   {
    "duration": 342,
    "start_time": "2021-11-08T00:14:11.790Z"
   },
   {
    "duration": 158,
    "start_time": "2021-11-08T00:14:12.133Z"
   },
   {
    "duration": 4,
    "start_time": "2021-11-08T00:14:12.293Z"
   },
   {
    "duration": 15,
    "start_time": "2021-11-08T00:14:12.299Z"
   },
   {
    "duration": 17,
    "start_time": "2021-11-08T00:14:12.316Z"
   },
   {
    "duration": 5,
    "start_time": "2021-11-08T00:14:12.335Z"
   },
   {
    "duration": 4,
    "start_time": "2021-11-08T00:14:12.364Z"
   },
   {
    "duration": 7,
    "start_time": "2021-11-08T00:14:12.369Z"
   },
   {
    "duration": 1069,
    "start_time": "2021-11-08T00:15:54.242Z"
   },
   {
    "duration": 4,
    "start_time": "2021-11-08T00:15:55.313Z"
   },
   {
    "duration": 36,
    "start_time": "2021-11-08T00:15:55.319Z"
   },
   {
    "duration": 7,
    "start_time": "2021-11-08T00:15:55.357Z"
   },
   {
    "duration": 8,
    "start_time": "2021-11-08T00:15:55.366Z"
   },
   {
    "duration": 11,
    "start_time": "2021-11-08T00:15:55.376Z"
   },
   {
    "duration": 5,
    "start_time": "2021-11-08T00:15:55.388Z"
   },
   {
    "duration": 12,
    "start_time": "2021-11-08T00:15:55.396Z"
   },
   {
    "duration": 9,
    "start_time": "2021-11-08T00:15:55.411Z"
   },
   {
    "duration": 18128,
    "start_time": "2021-11-08T00:15:55.463Z"
   },
   {
    "duration": 4,
    "start_time": "2021-11-08T00:16:13.592Z"
   },
   {
    "duration": 340,
    "start_time": "2021-11-08T00:16:13.597Z"
   },
   {
    "duration": 157,
    "start_time": "2021-11-08T00:16:13.938Z"
   },
   {
    "duration": 3,
    "start_time": "2021-11-08T00:16:14.097Z"
   },
   {
    "duration": 15,
    "start_time": "2021-11-08T00:16:14.102Z"
   },
   {
    "duration": 16,
    "start_time": "2021-11-08T00:16:14.119Z"
   },
   {
    "duration": 5,
    "start_time": "2021-11-08T00:16:14.137Z"
   },
   {
    "duration": 21,
    "start_time": "2021-11-08T00:16:14.143Z"
   },
   {
    "duration": 10,
    "start_time": "2021-11-08T00:16:14.166Z"
   },
   {
    "duration": 147,
    "start_time": "2021-11-08T00:18:33.844Z"
   },
   {
    "duration": 1058,
    "start_time": "2021-11-08T00:19:07.143Z"
   },
   {
    "duration": 3,
    "start_time": "2021-11-08T00:19:08.203Z"
   },
   {
    "duration": 41,
    "start_time": "2021-11-08T00:19:08.209Z"
   },
   {
    "duration": 7,
    "start_time": "2021-11-08T00:19:08.253Z"
   },
   {
    "duration": 9,
    "start_time": "2021-11-08T00:19:08.262Z"
   },
   {
    "duration": 10,
    "start_time": "2021-11-08T00:19:08.273Z"
   },
   {
    "duration": 5,
    "start_time": "2021-11-08T00:19:08.285Z"
   },
   {
    "duration": 11,
    "start_time": "2021-11-08T00:19:08.291Z"
   },
   {
    "duration": 8,
    "start_time": "2021-11-08T00:19:08.305Z"
   },
   {
    "duration": 17829,
    "start_time": "2021-11-08T00:19:08.316Z"
   },
   {
    "duration": 4,
    "start_time": "2021-11-08T00:19:26.147Z"
   },
   {
    "duration": 350,
    "start_time": "2021-11-08T00:19:26.152Z"
   },
   {
    "duration": 166,
    "start_time": "2021-11-08T00:19:26.504Z"
   },
   {
    "duration": 3,
    "start_time": "2021-11-08T00:19:26.672Z"
   },
   {
    "duration": 28,
    "start_time": "2021-11-08T00:19:26.677Z"
   },
   {
    "duration": 22,
    "start_time": "2021-11-08T00:19:26.707Z"
   },
   {
    "duration": 6,
    "start_time": "2021-11-08T00:19:26.730Z"
   },
   {
    "duration": 10,
    "start_time": "2021-11-08T00:19:26.737Z"
   },
   {
    "duration": 5,
    "start_time": "2021-11-08T00:19:26.748Z"
   },
   {
    "duration": 1044,
    "start_time": "2021-11-08T00:21:49.969Z"
   },
   {
    "duration": 3,
    "start_time": "2021-11-08T00:21:51.015Z"
   },
   {
    "duration": 34,
    "start_time": "2021-11-08T00:21:51.020Z"
   },
   {
    "duration": 6,
    "start_time": "2021-11-08T00:21:51.056Z"
   },
   {
    "duration": 8,
    "start_time": "2021-11-08T00:21:51.064Z"
   },
   {
    "duration": 17,
    "start_time": "2021-11-08T00:21:51.074Z"
   },
   {
    "duration": 3,
    "start_time": "2021-11-08T00:21:51.093Z"
   },
   {
    "duration": 13,
    "start_time": "2021-11-08T00:21:51.099Z"
   },
   {
    "duration": 8,
    "start_time": "2021-11-08T00:21:51.114Z"
   },
   {
    "duration": 17629,
    "start_time": "2021-11-08T00:21:51.123Z"
   },
   {
    "duration": 4,
    "start_time": "2021-11-08T00:22:08.753Z"
   },
   {
    "duration": 339,
    "start_time": "2021-11-08T00:22:08.758Z"
   },
   {
    "duration": 158,
    "start_time": "2021-11-08T00:22:09.098Z"
   },
   {
    "duration": 4,
    "start_time": "2021-11-08T00:22:09.264Z"
   },
   {
    "duration": 18,
    "start_time": "2021-11-08T00:22:09.270Z"
   },
   {
    "duration": 17,
    "start_time": "2021-11-08T00:22:09.290Z"
   },
   {
    "duration": 5,
    "start_time": "2021-11-08T00:22:09.309Z"
   },
   {
    "duration": 6,
    "start_time": "2021-11-08T00:22:09.315Z"
   },
   {
    "duration": 6,
    "start_time": "2021-11-08T00:22:09.322Z"
   },
   {
    "duration": 4,
    "start_time": "2021-11-08T00:22:55.666Z"
   },
   {
    "duration": 5,
    "start_time": "2021-11-08T00:23:39.726Z"
   },
   {
    "duration": 1070,
    "start_time": "2021-11-08T00:23:50.825Z"
   },
   {
    "duration": 3,
    "start_time": "2021-11-08T00:23:51.897Z"
   },
   {
    "duration": 35,
    "start_time": "2021-11-08T00:23:51.902Z"
   },
   {
    "duration": 7,
    "start_time": "2021-11-08T00:23:51.939Z"
   },
   {
    "duration": 8,
    "start_time": "2021-11-08T00:23:51.947Z"
   },
   {
    "duration": 13,
    "start_time": "2021-11-08T00:23:51.957Z"
   },
   {
    "duration": 3,
    "start_time": "2021-11-08T00:23:51.972Z"
   },
   {
    "duration": 12,
    "start_time": "2021-11-08T00:23:51.978Z"
   },
   {
    "duration": 8,
    "start_time": "2021-11-08T00:23:51.992Z"
   },
   {
    "duration": 17871,
    "start_time": "2021-11-08T00:23:52.002Z"
   },
   {
    "duration": 4,
    "start_time": "2021-11-08T00:24:09.875Z"
   },
   {
    "duration": 348,
    "start_time": "2021-11-08T00:24:09.881Z"
   },
   {
    "duration": 155,
    "start_time": "2021-11-08T00:24:10.230Z"
   },
   {
    "duration": 4,
    "start_time": "2021-11-08T00:24:10.387Z"
   },
   {
    "duration": 16,
    "start_time": "2021-11-08T00:24:10.393Z"
   },
   {
    "duration": 17,
    "start_time": "2021-11-08T00:24:10.411Z"
   },
   {
    "duration": 5,
    "start_time": "2021-11-08T00:24:10.429Z"
   },
   {
    "duration": 5,
    "start_time": "2021-11-08T00:24:10.436Z"
   },
   {
    "duration": 8,
    "start_time": "2021-11-08T00:24:10.464Z"
   }
  ],
  "kernelspec": {
   "display_name": "Python 3",
   "language": "python",
   "name": "python3"
  },
  "language_info": {
   "codemirror_mode": {
    "name": "ipython",
    "version": 3
   },
   "file_extension": ".py",
   "mimetype": "text/x-python",
   "name": "python",
   "nbconvert_exporter": "python",
   "pygments_lexer": "ipython3",
   "version": "3.7.6"
  },
  "toc": {
   "base_numbering": 1,
   "nav_menu": {},
   "number_sections": true,
   "sideBar": true,
   "skip_h1_title": true,
   "title_cell": "Table of Contents",
   "title_sidebar": "Contents",
   "toc_cell": false,
   "toc_position": {},
   "toc_section_display": true,
   "toc_window_display": false
  }
 },
 "nbformat": 4,
 "nbformat_minor": 2
}

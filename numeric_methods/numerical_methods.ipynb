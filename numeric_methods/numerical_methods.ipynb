{
 "cells": [
  {
   "cell_type": "markdown",
   "metadata": {},
   "source": [
    "Rusty Bargain used car sales service is developing an app to attract new customers. In that app, you can quickly find out the market value of your car. You have access to historical data: technical specifications, trim versions, and prices. You need to build the model to determine the value. \n",
    "\n",
    "Rusty Bargain is interested in:\n",
    "\n",
    "- the quality of the prediction;\n",
    "- the speed of the prediction;\n",
    "- the time required for training\n",
    "\n",
    "---\n",
    "Features\n",
    "\n",
    "- DateCrawled — date profile was downloaded from the database\n",
    "- VehicleType — vehicle body type\n",
    "- RegistrationYear — vehicle registration year\n",
    "- Gearbox — gearbox type\n",
    "- Power — power (hp)\n",
    "- Model — vehicle model\n",
    "- Mileage — mileage (measured in km due to dataset's regional specifics)\n",
    "- RegistrationMonth — vehicle registration month\n",
    "- FuelType — fuel type\n",
    "- Brand — vehicle brand\n",
    "- NotRepaired — vehicle repaired or not\n",
    "- DateCreated — date of profile creation\n",
    "- NumberOfPictures — number of vehicle pictures\n",
    "- PostalCode — postal code of profile owner (user)\n",
    "- LastSeen — date of the last activity of the user\n",
    "\n",
    "Target\n",
    "- Price — price (Euro)\n",
    "\n",
    "Analysis done January 2022"
   ]
  },
  {
   "cell_type": "markdown",
   "metadata": {},
   "source": [
    "## Data preparation"
   ]
  },
  {
   "cell_type": "code",
   "execution_count": 1,
   "metadata": {},
   "outputs": [],
   "source": [
    "# import libraries\n",
    "import pandas as pd\n",
    "import numpy as np\n",
    "import seaborn as sns\n",
    "import matplotlib.pyplot as plt\n",
    "import math\n",
    "import time\n",
    "import lightgbm as lgb\n",
    "from sklearn.model_selection import train_test_split\n",
    "from sklearn.preprocessing import StandardScaler\n",
    "from sklearn.linear_model import LinearRegression\n",
    "from sklearn.metrics import mean_squared_error\n",
    "from sklearn.ensemble import RandomForestRegressor\n",
    "from sklearn.tree import DecisionTreeRegressor\n",
    "from catboost import CatBoostRegressor\n",
    "from sklearn.model_selection import cross_val_score\n",
    "from sklearn.metrics import make_scorer\n",
    "from sklearn.model_selection import RandomizedSearchCV\n",
    "\n",
    "import random\n",
    "random_state=42\n",
    "random.seed(random_state)\n",
    "np.random.seed(random_state)\n",
    "\n",
    "# import sys and insert code to ignore warnings \n",
    "import sys\n",
    "if not sys.warnoptions:\n",
    "    import warnings\n",
    "    warnings.simplefilter(\"ignore\")"
   ]
  },
  {
   "cell_type": "markdown",
   "metadata": {},
   "source": [
    "__Helper functions__"
   ]
  },
  {
   "cell_type": "code",
   "execution_count": 2,
   "metadata": {},
   "outputs": [],
   "source": [
    "# function for timing execution of cell [refrence](https://stackoverflow.com/questions/52738709/how-to-store-time-values-in-a-variable-in-jupyter)\n",
    "# couldn't get it to work though...\n",
    "def exec_time(start, end): \n",
    "   diff_time = end - start\n",
    "   m, s = divmod(diff_time, 60)\n",
    "   h, m = divmod(m, 60)\n",
    "   s,m,h = int(round(s, 0)), int(round(m, 0)), int(round(h, 0))\n",
    "   print(\"time: \" + \"{0:02d}:{1:02d}:{2:02d}\".format(h, m, s))\n",
    "\n",
    "# function for displaying outlier statistics for column\n",
    "def outlier_stats(data):\n",
    "    data_mean, data_std = np.mean(data), np.std(data)\n",
    "    cut_off = data_std * 3\n",
    "    lower, upper = data_mean - cut_off, data_mean + cut_off\n",
    "    outliers = [x for x in data if x < lower or x > upper]\n",
    "    outliers_removed = [x for x in data if x >= lower and x <= upper]   \n",
    "    outliers_stats = pd.Series(outliers)\n",
    "    return outliers_stats.describe()\n",
    "\n",
    "# function for displaying count and percent of missing values if column object or int64\n",
    "def missing_stats(df):\n",
    "    print(\"\\nColumns Missing Values\")\n",
    "    df_missing = pd.concat([df.dtypes, df.isnull().sum(), df.isnull().sum() / (len(df)*.01)], axis=1)\n",
    "    df_missing.columns = ['type', 'cnt', 'pct']\n",
    "    print(df_missing)\n",
    "    df.describe(include=['object', 'int64'])"
   ]
  },
  {
   "cell_type": "code",
   "execution_count": 3,
   "metadata": {},
   "outputs": [],
   "source": [
    "# load data\n",
    "df = pd.read_csv('/datasets/car_data.csv')"
   ]
  },
  {
   "cell_type": "code",
   "execution_count": 4,
   "metadata": {
    "scrolled": true
   },
   "outputs": [
    {
     "data": {
      "text/html": [
       "<div>\n",
       "<style scoped>\n",
       "    .dataframe tbody tr th:only-of-type {\n",
       "        vertical-align: middle;\n",
       "    }\n",
       "\n",
       "    .dataframe tbody tr th {\n",
       "        vertical-align: top;\n",
       "    }\n",
       "\n",
       "    .dataframe thead th {\n",
       "        text-align: right;\n",
       "    }\n",
       "</style>\n",
       "<table border=\"1\" class=\"dataframe\">\n",
       "  <thead>\n",
       "    <tr style=\"text-align: right;\">\n",
       "      <th></th>\n",
       "      <th>DateCrawled</th>\n",
       "      <th>Price</th>\n",
       "      <th>VehicleType</th>\n",
       "      <th>RegistrationYear</th>\n",
       "      <th>Gearbox</th>\n",
       "      <th>Power</th>\n",
       "      <th>Model</th>\n",
       "      <th>Mileage</th>\n",
       "      <th>RegistrationMonth</th>\n",
       "      <th>FuelType</th>\n",
       "      <th>Brand</th>\n",
       "      <th>NotRepaired</th>\n",
       "      <th>DateCreated</th>\n",
       "      <th>NumberOfPictures</th>\n",
       "      <th>PostalCode</th>\n",
       "      <th>LastSeen</th>\n",
       "    </tr>\n",
       "  </thead>\n",
       "  <tbody>\n",
       "    <tr>\n",
       "      <td>0</td>\n",
       "      <td>24/03/2016 11:52</td>\n",
       "      <td>480</td>\n",
       "      <td>NaN</td>\n",
       "      <td>1993</td>\n",
       "      <td>manual</td>\n",
       "      <td>0</td>\n",
       "      <td>golf</td>\n",
       "      <td>150000</td>\n",
       "      <td>0</td>\n",
       "      <td>petrol</td>\n",
       "      <td>volkswagen</td>\n",
       "      <td>NaN</td>\n",
       "      <td>24/03/2016 00:00</td>\n",
       "      <td>0</td>\n",
       "      <td>70435</td>\n",
       "      <td>07/04/2016 03:16</td>\n",
       "    </tr>\n",
       "    <tr>\n",
       "      <td>1</td>\n",
       "      <td>24/03/2016 10:58</td>\n",
       "      <td>18300</td>\n",
       "      <td>coupe</td>\n",
       "      <td>2011</td>\n",
       "      <td>manual</td>\n",
       "      <td>190</td>\n",
       "      <td>NaN</td>\n",
       "      <td>125000</td>\n",
       "      <td>5</td>\n",
       "      <td>gasoline</td>\n",
       "      <td>audi</td>\n",
       "      <td>yes</td>\n",
       "      <td>24/03/2016 00:00</td>\n",
       "      <td>0</td>\n",
       "      <td>66954</td>\n",
       "      <td>07/04/2016 01:46</td>\n",
       "    </tr>\n",
       "    <tr>\n",
       "      <td>2</td>\n",
       "      <td>14/03/2016 12:52</td>\n",
       "      <td>9800</td>\n",
       "      <td>suv</td>\n",
       "      <td>2004</td>\n",
       "      <td>auto</td>\n",
       "      <td>163</td>\n",
       "      <td>grand</td>\n",
       "      <td>125000</td>\n",
       "      <td>8</td>\n",
       "      <td>gasoline</td>\n",
       "      <td>jeep</td>\n",
       "      <td>NaN</td>\n",
       "      <td>14/03/2016 00:00</td>\n",
       "      <td>0</td>\n",
       "      <td>90480</td>\n",
       "      <td>05/04/2016 12:47</td>\n",
       "    </tr>\n",
       "    <tr>\n",
       "      <td>3</td>\n",
       "      <td>17/03/2016 16:54</td>\n",
       "      <td>1500</td>\n",
       "      <td>small</td>\n",
       "      <td>2001</td>\n",
       "      <td>manual</td>\n",
       "      <td>75</td>\n",
       "      <td>golf</td>\n",
       "      <td>150000</td>\n",
       "      <td>6</td>\n",
       "      <td>petrol</td>\n",
       "      <td>volkswagen</td>\n",
       "      <td>no</td>\n",
       "      <td>17/03/2016 00:00</td>\n",
       "      <td>0</td>\n",
       "      <td>91074</td>\n",
       "      <td>17/03/2016 17:40</td>\n",
       "    </tr>\n",
       "    <tr>\n",
       "      <td>4</td>\n",
       "      <td>31/03/2016 17:25</td>\n",
       "      <td>3600</td>\n",
       "      <td>small</td>\n",
       "      <td>2008</td>\n",
       "      <td>manual</td>\n",
       "      <td>69</td>\n",
       "      <td>fabia</td>\n",
       "      <td>90000</td>\n",
       "      <td>7</td>\n",
       "      <td>gasoline</td>\n",
       "      <td>skoda</td>\n",
       "      <td>no</td>\n",
       "      <td>31/03/2016 00:00</td>\n",
       "      <td>0</td>\n",
       "      <td>60437</td>\n",
       "      <td>06/04/2016 10:17</td>\n",
       "    </tr>\n",
       "  </tbody>\n",
       "</table>\n",
       "</div>"
      ],
      "text/plain": [
       "        DateCrawled  Price VehicleType  RegistrationYear Gearbox  Power  \\\n",
       "0  24/03/2016 11:52    480         NaN              1993  manual      0   \n",
       "1  24/03/2016 10:58  18300       coupe              2011  manual    190   \n",
       "2  14/03/2016 12:52   9800         suv              2004    auto    163   \n",
       "3  17/03/2016 16:54   1500       small              2001  manual     75   \n",
       "4  31/03/2016 17:25   3600       small              2008  manual     69   \n",
       "\n",
       "   Model  Mileage  RegistrationMonth  FuelType       Brand NotRepaired  \\\n",
       "0   golf   150000                  0    petrol  volkswagen         NaN   \n",
       "1    NaN   125000                  5  gasoline        audi         yes   \n",
       "2  grand   125000                  8  gasoline        jeep         NaN   \n",
       "3   golf   150000                  6    petrol  volkswagen          no   \n",
       "4  fabia    90000                  7  gasoline       skoda          no   \n",
       "\n",
       "        DateCreated  NumberOfPictures  PostalCode          LastSeen  \n",
       "0  24/03/2016 00:00                 0       70435  07/04/2016 03:16  \n",
       "1  24/03/2016 00:00                 0       66954  07/04/2016 01:46  \n",
       "2  14/03/2016 00:00                 0       90480  05/04/2016 12:47  \n",
       "3  17/03/2016 00:00                 0       91074  17/03/2016 17:40  \n",
       "4  31/03/2016 00:00                 0       60437  06/04/2016 10:17  "
      ]
     },
     "execution_count": 4,
     "metadata": {},
     "output_type": "execute_result"
    }
   ],
   "source": [
    "# inspect data\n",
    "df.head()"
   ]
  },
  {
   "cell_type": "code",
   "execution_count": 5,
   "metadata": {},
   "outputs": [
    {
     "data": {
      "text/plain": [
       "(354369, 16)"
      ]
     },
     "execution_count": 5,
     "metadata": {},
     "output_type": "execute_result"
    }
   ],
   "source": [
    "original_no_rows = df.shape[0]\n",
    "df.shape"
   ]
  },
  {
   "cell_type": "code",
   "execution_count": 6,
   "metadata": {},
   "outputs": [
    {
     "data": {
      "text/plain": [
       "262"
      ]
     },
     "execution_count": 6,
     "metadata": {},
     "output_type": "execute_result"
    }
   ],
   "source": [
    "df.duplicated().sum()"
   ]
  },
  {
   "cell_type": "code",
   "execution_count": 7,
   "metadata": {},
   "outputs": [
    {
     "name": "stdout",
     "output_type": "stream",
     "text": [
      "\n",
      "Columns Missing Values\n",
      "                     type    cnt        pct\n",
      "DateCrawled        object      0   0.000000\n",
      "Price               int64      0   0.000000\n",
      "VehicleType        object  37490  10.579368\n",
      "RegistrationYear    int64      0   0.000000\n",
      "Gearbox            object  19833   5.596709\n",
      "Power               int64      0   0.000000\n",
      "Model              object  19705   5.560588\n",
      "Mileage             int64      0   0.000000\n",
      "RegistrationMonth   int64      0   0.000000\n",
      "FuelType           object  32895   9.282697\n",
      "Brand              object      0   0.000000\n",
      "NotRepaired        object  71154  20.079070\n",
      "DateCreated        object      0   0.000000\n",
      "NumberOfPictures    int64      0   0.000000\n",
      "PostalCode          int64      0   0.000000\n",
      "LastSeen           object      0   0.000000\n"
     ]
    }
   ],
   "source": [
    "missing_stats(df)"
   ]
  },
  {
   "cell_type": "markdown",
   "metadata": {},
   "source": [
    "__Rename columns to lowercase for consistency__"
   ]
  },
  {
   "cell_type": "code",
   "execution_count": 8,
   "metadata": {},
   "outputs": [
    {
     "data": {
      "text/plain": [
       "Index(['date_crawled', 'price', 'vehicle_type', 'registration_year', 'gearbox',\n",
       "       'power', 'model', 'milage', 'registration_month', 'fuel_type', 'brand',\n",
       "       'not_repaired', 'date_created', 'num_pictures', 'postal_code',\n",
       "       'last_seen'],\n",
       "      dtype='object')"
      ]
     },
     "execution_count": 8,
     "metadata": {},
     "output_type": "execute_result"
    }
   ],
   "source": [
    "df = df.rename(columns={'DateCrawled': 'date_crawled', 'Price': 'price', 'VehicleType': 'vehicle_type', \n",
    "                        'RegistrationYear': 'registration_year', 'Gearbox': 'gearbox', 'Power': 'power', \n",
    "                        'Model': 'model','Mileage': 'milage', 'RegistrationMonth': 'registration_month', \n",
    "                        'FuelType': 'fuel_type', 'Brand': 'brand','NotRepaired': 'not_repaired', \n",
    "                        'DateCreated': 'date_created', 'NumberOfPictures': 'num_pictures', \n",
    "                        'PostalCode': 'postal_code', 'LastSeen': 'last_seen', })\n",
    "\n",
    "df.columns"
   ]
  },
  {
   "cell_type": "markdown",
   "metadata": {},
   "source": [
    "__Initial findings__\n",
    "\n",
    "- 354369 rows by 16 columns/features, all listed as int64 or object\n",
    "- 262 duplicate rows --> delete\n",
    "- 5 features have missing rows --> investigate\n",
    "- Not all features will be useful in analysis --> investigate\n",
    "- Some dates are listed as objects --> chg datatype or delete feature"
   ]
  },
  {
   "cell_type": "code",
   "execution_count": 9,
   "metadata": {},
   "outputs": [
    {
     "data": {
      "text/plain": [
       "(354107, 16)"
      ]
     },
     "execution_count": 9,
     "metadata": {},
     "output_type": "execute_result"
    }
   ],
   "source": [
    "# drop duplicate rows\n",
    "df = df.drop_duplicates() \n",
    "df.shape"
   ]
  },
  {
   "cell_type": "code",
   "execution_count": 10,
   "metadata": {},
   "outputs": [
    {
     "data": {
      "text/html": [
       "<div>\n",
       "<style scoped>\n",
       "    .dataframe tbody tr th:only-of-type {\n",
       "        vertical-align: middle;\n",
       "    }\n",
       "\n",
       "    .dataframe tbody tr th {\n",
       "        vertical-align: top;\n",
       "    }\n",
       "\n",
       "    .dataframe thead th {\n",
       "        text-align: right;\n",
       "    }\n",
       "</style>\n",
       "<table border=\"1\" class=\"dataframe\">\n",
       "  <thead>\n",
       "    <tr style=\"text-align: right;\">\n",
       "      <th></th>\n",
       "      <th>date_crawled</th>\n",
       "      <th>price</th>\n",
       "      <th>vehicle_type</th>\n",
       "      <th>registration_year</th>\n",
       "      <th>gearbox</th>\n",
       "      <th>power</th>\n",
       "      <th>model</th>\n",
       "      <th>milage</th>\n",
       "      <th>registration_month</th>\n",
       "      <th>fuel_type</th>\n",
       "      <th>brand</th>\n",
       "      <th>not_repaired</th>\n",
       "      <th>date_created</th>\n",
       "      <th>num_pictures</th>\n",
       "      <th>postal_code</th>\n",
       "      <th>last_seen</th>\n",
       "    </tr>\n",
       "  </thead>\n",
       "  <tbody>\n",
       "    <tr>\n",
       "      <td>count</td>\n",
       "      <td>354107</td>\n",
       "      <td>354107.000000</td>\n",
       "      <td>316623</td>\n",
       "      <td>354107.000000</td>\n",
       "      <td>334277</td>\n",
       "      <td>354107.000000</td>\n",
       "      <td>334406</td>\n",
       "      <td>354107.000000</td>\n",
       "      <td>354107.000000</td>\n",
       "      <td>321218</td>\n",
       "      <td>354107</td>\n",
       "      <td>282962</td>\n",
       "      <td>354107</td>\n",
       "      <td>354107.0</td>\n",
       "      <td>354107.000000</td>\n",
       "      <td>354107</td>\n",
       "    </tr>\n",
       "    <tr>\n",
       "      <td>unique</td>\n",
       "      <td>15470</td>\n",
       "      <td>NaN</td>\n",
       "      <td>8</td>\n",
       "      <td>NaN</td>\n",
       "      <td>2</td>\n",
       "      <td>NaN</td>\n",
       "      <td>250</td>\n",
       "      <td>NaN</td>\n",
       "      <td>NaN</td>\n",
       "      <td>7</td>\n",
       "      <td>40</td>\n",
       "      <td>2</td>\n",
       "      <td>109</td>\n",
       "      <td>NaN</td>\n",
       "      <td>NaN</td>\n",
       "      <td>18592</td>\n",
       "    </tr>\n",
       "    <tr>\n",
       "      <td>top</td>\n",
       "      <td>05/03/2016 14:25</td>\n",
       "      <td>NaN</td>\n",
       "      <td>sedan</td>\n",
       "      <td>NaN</td>\n",
       "      <td>manual</td>\n",
       "      <td>NaN</td>\n",
       "      <td>golf</td>\n",
       "      <td>NaN</td>\n",
       "      <td>NaN</td>\n",
       "      <td>petrol</td>\n",
       "      <td>volkswagen</td>\n",
       "      <td>no</td>\n",
       "      <td>03/04/2016 00:00</td>\n",
       "      <td>NaN</td>\n",
       "      <td>NaN</td>\n",
       "      <td>07/04/2016 07:16</td>\n",
       "    </tr>\n",
       "    <tr>\n",
       "      <td>freq</td>\n",
       "      <td>66</td>\n",
       "      <td>NaN</td>\n",
       "      <td>91399</td>\n",
       "      <td>NaN</td>\n",
       "      <td>268034</td>\n",
       "      <td>NaN</td>\n",
       "      <td>29215</td>\n",
       "      <td>NaN</td>\n",
       "      <td>NaN</td>\n",
       "      <td>216161</td>\n",
       "      <td>76960</td>\n",
       "      <td>246927</td>\n",
       "      <td>13705</td>\n",
       "      <td>NaN</td>\n",
       "      <td>NaN</td>\n",
       "      <td>653</td>\n",
       "    </tr>\n",
       "    <tr>\n",
       "      <td>mean</td>\n",
       "      <td>NaN</td>\n",
       "      <td>4416.433287</td>\n",
       "      <td>NaN</td>\n",
       "      <td>2004.235355</td>\n",
       "      <td>NaN</td>\n",
       "      <td>110.089651</td>\n",
       "      <td>NaN</td>\n",
       "      <td>128211.811684</td>\n",
       "      <td>5.714182</td>\n",
       "      <td>NaN</td>\n",
       "      <td>NaN</td>\n",
       "      <td>NaN</td>\n",
       "      <td>NaN</td>\n",
       "      <td>0.0</td>\n",
       "      <td>50507.145030</td>\n",
       "      <td>NaN</td>\n",
       "    </tr>\n",
       "    <tr>\n",
       "      <td>std</td>\n",
       "      <td>NaN</td>\n",
       "      <td>4514.338584</td>\n",
       "      <td>NaN</td>\n",
       "      <td>90.261168</td>\n",
       "      <td>NaN</td>\n",
       "      <td>189.914972</td>\n",
       "      <td>NaN</td>\n",
       "      <td>37906.590101</td>\n",
       "      <td>3.726682</td>\n",
       "      <td>NaN</td>\n",
       "      <td>NaN</td>\n",
       "      <td>NaN</td>\n",
       "      <td>NaN</td>\n",
       "      <td>0.0</td>\n",
       "      <td>25784.212094</td>\n",
       "      <td>NaN</td>\n",
       "    </tr>\n",
       "    <tr>\n",
       "      <td>min</td>\n",
       "      <td>NaN</td>\n",
       "      <td>0.000000</td>\n",
       "      <td>NaN</td>\n",
       "      <td>1000.000000</td>\n",
       "      <td>NaN</td>\n",
       "      <td>0.000000</td>\n",
       "      <td>NaN</td>\n",
       "      <td>5000.000000</td>\n",
       "      <td>0.000000</td>\n",
       "      <td>NaN</td>\n",
       "      <td>NaN</td>\n",
       "      <td>NaN</td>\n",
       "      <td>NaN</td>\n",
       "      <td>0.0</td>\n",
       "      <td>1067.000000</td>\n",
       "      <td>NaN</td>\n",
       "    </tr>\n",
       "    <tr>\n",
       "      <td>25%</td>\n",
       "      <td>NaN</td>\n",
       "      <td>1050.000000</td>\n",
       "      <td>NaN</td>\n",
       "      <td>1999.000000</td>\n",
       "      <td>NaN</td>\n",
       "      <td>69.000000</td>\n",
       "      <td>NaN</td>\n",
       "      <td>125000.000000</td>\n",
       "      <td>3.000000</td>\n",
       "      <td>NaN</td>\n",
       "      <td>NaN</td>\n",
       "      <td>NaN</td>\n",
       "      <td>NaN</td>\n",
       "      <td>0.0</td>\n",
       "      <td>30165.000000</td>\n",
       "      <td>NaN</td>\n",
       "    </tr>\n",
       "    <tr>\n",
       "      <td>50%</td>\n",
       "      <td>NaN</td>\n",
       "      <td>2700.000000</td>\n",
       "      <td>NaN</td>\n",
       "      <td>2003.000000</td>\n",
       "      <td>NaN</td>\n",
       "      <td>105.000000</td>\n",
       "      <td>NaN</td>\n",
       "      <td>150000.000000</td>\n",
       "      <td>6.000000</td>\n",
       "      <td>NaN</td>\n",
       "      <td>NaN</td>\n",
       "      <td>NaN</td>\n",
       "      <td>NaN</td>\n",
       "      <td>0.0</td>\n",
       "      <td>49406.000000</td>\n",
       "      <td>NaN</td>\n",
       "    </tr>\n",
       "    <tr>\n",
       "      <td>75%</td>\n",
       "      <td>NaN</td>\n",
       "      <td>6400.000000</td>\n",
       "      <td>NaN</td>\n",
       "      <td>2008.000000</td>\n",
       "      <td>NaN</td>\n",
       "      <td>143.000000</td>\n",
       "      <td>NaN</td>\n",
       "      <td>150000.000000</td>\n",
       "      <td>9.000000</td>\n",
       "      <td>NaN</td>\n",
       "      <td>NaN</td>\n",
       "      <td>NaN</td>\n",
       "      <td>NaN</td>\n",
       "      <td>0.0</td>\n",
       "      <td>71083.000000</td>\n",
       "      <td>NaN</td>\n",
       "    </tr>\n",
       "    <tr>\n",
       "      <td>max</td>\n",
       "      <td>NaN</td>\n",
       "      <td>20000.000000</td>\n",
       "      <td>NaN</td>\n",
       "      <td>9999.000000</td>\n",
       "      <td>NaN</td>\n",
       "      <td>20000.000000</td>\n",
       "      <td>NaN</td>\n",
       "      <td>150000.000000</td>\n",
       "      <td>12.000000</td>\n",
       "      <td>NaN</td>\n",
       "      <td>NaN</td>\n",
       "      <td>NaN</td>\n",
       "      <td>NaN</td>\n",
       "      <td>0.0</td>\n",
       "      <td>99998.000000</td>\n",
       "      <td>NaN</td>\n",
       "    </tr>\n",
       "  </tbody>\n",
       "</table>\n",
       "</div>"
      ],
      "text/plain": [
       "            date_crawled          price vehicle_type  registration_year  \\\n",
       "count             354107  354107.000000       316623      354107.000000   \n",
       "unique             15470            NaN            8                NaN   \n",
       "top     05/03/2016 14:25            NaN        sedan                NaN   \n",
       "freq                  66            NaN        91399                NaN   \n",
       "mean                 NaN    4416.433287          NaN        2004.235355   \n",
       "std                  NaN    4514.338584          NaN          90.261168   \n",
       "min                  NaN       0.000000          NaN        1000.000000   \n",
       "25%                  NaN    1050.000000          NaN        1999.000000   \n",
       "50%                  NaN    2700.000000          NaN        2003.000000   \n",
       "75%                  NaN    6400.000000          NaN        2008.000000   \n",
       "max                  NaN   20000.000000          NaN        9999.000000   \n",
       "\n",
       "       gearbox          power   model         milage  registration_month  \\\n",
       "count   334277  354107.000000  334406  354107.000000       354107.000000   \n",
       "unique       2            NaN     250            NaN                 NaN   \n",
       "top     manual            NaN    golf            NaN                 NaN   \n",
       "freq    268034            NaN   29215            NaN                 NaN   \n",
       "mean       NaN     110.089651     NaN  128211.811684            5.714182   \n",
       "std        NaN     189.914972     NaN   37906.590101            3.726682   \n",
       "min        NaN       0.000000     NaN    5000.000000            0.000000   \n",
       "25%        NaN      69.000000     NaN  125000.000000            3.000000   \n",
       "50%        NaN     105.000000     NaN  150000.000000            6.000000   \n",
       "75%        NaN     143.000000     NaN  150000.000000            9.000000   \n",
       "max        NaN   20000.000000     NaN  150000.000000           12.000000   \n",
       "\n",
       "       fuel_type       brand not_repaired      date_created  num_pictures  \\\n",
       "count     321218      354107       282962            354107      354107.0   \n",
       "unique         7          40            2               109           NaN   \n",
       "top       petrol  volkswagen           no  03/04/2016 00:00           NaN   \n",
       "freq      216161       76960       246927             13705           NaN   \n",
       "mean         NaN         NaN          NaN               NaN           0.0   \n",
       "std          NaN         NaN          NaN               NaN           0.0   \n",
       "min          NaN         NaN          NaN               NaN           0.0   \n",
       "25%          NaN         NaN          NaN               NaN           0.0   \n",
       "50%          NaN         NaN          NaN               NaN           0.0   \n",
       "75%          NaN         NaN          NaN               NaN           0.0   \n",
       "max          NaN         NaN          NaN               NaN           0.0   \n",
       "\n",
       "          postal_code         last_seen  \n",
       "count   354107.000000            354107  \n",
       "unique            NaN             18592  \n",
       "top               NaN  07/04/2016 07:16  \n",
       "freq              NaN               653  \n",
       "mean     50507.145030               NaN  \n",
       "std      25784.212094               NaN  \n",
       "min       1067.000000               NaN  \n",
       "25%      30165.000000               NaN  \n",
       "50%      49406.000000               NaN  \n",
       "75%      71083.000000               NaN  \n",
       "max      99998.000000               NaN  "
      ]
     },
     "execution_count": 10,
     "metadata": {},
     "output_type": "execute_result"
    }
   ],
   "source": [
    "# investigate columns\n",
    "df.describe(include=['object', 'int64'])"
   ]
  },
  {
   "cell_type": "markdown",
   "metadata": {},
   "source": [
    "__Initial observations__ \n",
    "- date_crawled, date_created and last_seen indicate these listing are from 2016\n",
    "- The latest year possible in registration_year is 2016 --> delete rows > 2016\n",
    "- date_crawled, date_created and last_seen are not useful for analysis --> delete columns\n",
    "- num_pictures only has 0.0, not useful for analysis --> delete column\n",
    "- postal_code has objects less than 5 digits long --> investigate and delete rows or postal_code column"
   ]
  },
  {
   "cell_type": "code",
   "execution_count": 11,
   "metadata": {
    "scrolled": true
   },
   "outputs": [
    {
     "data": {
      "text/html": [
       "<div>\n",
       "<style scoped>\n",
       "    .dataframe tbody tr th:only-of-type {\n",
       "        vertical-align: middle;\n",
       "    }\n",
       "\n",
       "    .dataframe tbody tr th {\n",
       "        vertical-align: top;\n",
       "    }\n",
       "\n",
       "    .dataframe thead th {\n",
       "        text-align: right;\n",
       "    }\n",
       "</style>\n",
       "<table border=\"1\" class=\"dataframe\">\n",
       "  <thead>\n",
       "    <tr style=\"text-align: right;\">\n",
       "      <th></th>\n",
       "      <th>date_crawled</th>\n",
       "      <th>price</th>\n",
       "      <th>vehicle_type</th>\n",
       "      <th>registration_year</th>\n",
       "      <th>gearbox</th>\n",
       "      <th>power</th>\n",
       "      <th>model</th>\n",
       "      <th>milage</th>\n",
       "      <th>registration_month</th>\n",
       "      <th>fuel_type</th>\n",
       "      <th>brand</th>\n",
       "      <th>not_repaired</th>\n",
       "      <th>date_created</th>\n",
       "      <th>num_pictures</th>\n",
       "      <th>postal_code</th>\n",
       "      <th>last_seen</th>\n",
       "    </tr>\n",
       "  </thead>\n",
       "  <tbody>\n",
       "    <tr>\n",
       "      <td>22</td>\n",
       "      <td>23/03/2016 14:52</td>\n",
       "      <td>2900</td>\n",
       "      <td>NaN</td>\n",
       "      <td>2018</td>\n",
       "      <td>manual</td>\n",
       "      <td>90</td>\n",
       "      <td>meriva</td>\n",
       "      <td>150000</td>\n",
       "      <td>5</td>\n",
       "      <td>petrol</td>\n",
       "      <td>opel</td>\n",
       "      <td>no</td>\n",
       "      <td>23/03/2016 00:00</td>\n",
       "      <td>0</td>\n",
       "      <td>49716</td>\n",
       "      <td>31/03/2016 01:16</td>\n",
       "    </tr>\n",
       "    <tr>\n",
       "      <td>26</td>\n",
       "      <td>10/03/2016 19:38</td>\n",
       "      <td>5555</td>\n",
       "      <td>NaN</td>\n",
       "      <td>2017</td>\n",
       "      <td>manual</td>\n",
       "      <td>125</td>\n",
       "      <td>c4</td>\n",
       "      <td>125000</td>\n",
       "      <td>4</td>\n",
       "      <td>NaN</td>\n",
       "      <td>citroen</td>\n",
       "      <td>no</td>\n",
       "      <td>10/03/2016 00:00</td>\n",
       "      <td>0</td>\n",
       "      <td>31139</td>\n",
       "      <td>16/03/2016 09:16</td>\n",
       "    </tr>\n",
       "    <tr>\n",
       "      <td>48</td>\n",
       "      <td>25/03/2016 14:40</td>\n",
       "      <td>7750</td>\n",
       "      <td>NaN</td>\n",
       "      <td>2017</td>\n",
       "      <td>manual</td>\n",
       "      <td>80</td>\n",
       "      <td>golf</td>\n",
       "      <td>100000</td>\n",
       "      <td>1</td>\n",
       "      <td>petrol</td>\n",
       "      <td>volkswagen</td>\n",
       "      <td>NaN</td>\n",
       "      <td>25/03/2016 00:00</td>\n",
       "      <td>0</td>\n",
       "      <td>48499</td>\n",
       "      <td>31/03/2016 21:47</td>\n",
       "    </tr>\n",
       "    <tr>\n",
       "      <td>51</td>\n",
       "      <td>07/03/2016 18:57</td>\n",
       "      <td>2000</td>\n",
       "      <td>NaN</td>\n",
       "      <td>2017</td>\n",
       "      <td>manual</td>\n",
       "      <td>90</td>\n",
       "      <td>punto</td>\n",
       "      <td>150000</td>\n",
       "      <td>11</td>\n",
       "      <td>gasoline</td>\n",
       "      <td>fiat</td>\n",
       "      <td>yes</td>\n",
       "      <td>07/03/2016 00:00</td>\n",
       "      <td>0</td>\n",
       "      <td>66115</td>\n",
       "      <td>07/03/2016 18:57</td>\n",
       "    </tr>\n",
       "    <tr>\n",
       "      <td>57</td>\n",
       "      <td>10/03/2016 20:53</td>\n",
       "      <td>2399</td>\n",
       "      <td>NaN</td>\n",
       "      <td>2018</td>\n",
       "      <td>manual</td>\n",
       "      <td>64</td>\n",
       "      <td>other</td>\n",
       "      <td>125000</td>\n",
       "      <td>3</td>\n",
       "      <td>NaN</td>\n",
       "      <td>seat</td>\n",
       "      <td>no</td>\n",
       "      <td>10/03/2016 00:00</td>\n",
       "      <td>0</td>\n",
       "      <td>33397</td>\n",
       "      <td>25/03/2016 10:17</td>\n",
       "    </tr>\n",
       "    <tr>\n",
       "      <td>...</td>\n",
       "      <td>...</td>\n",
       "      <td>...</td>\n",
       "      <td>...</td>\n",
       "      <td>...</td>\n",
       "      <td>...</td>\n",
       "      <td>...</td>\n",
       "      <td>...</td>\n",
       "      <td>...</td>\n",
       "      <td>...</td>\n",
       "      <td>...</td>\n",
       "      <td>...</td>\n",
       "      <td>...</td>\n",
       "      <td>...</td>\n",
       "      <td>...</td>\n",
       "      <td>...</td>\n",
       "      <td>...</td>\n",
       "    </tr>\n",
       "    <tr>\n",
       "      <td>354112</td>\n",
       "      <td>11/03/2016 15:49</td>\n",
       "      <td>3600</td>\n",
       "      <td>NaN</td>\n",
       "      <td>2017</td>\n",
       "      <td>manual</td>\n",
       "      <td>86</td>\n",
       "      <td>transit</td>\n",
       "      <td>150000</td>\n",
       "      <td>5</td>\n",
       "      <td>gasoline</td>\n",
       "      <td>ford</td>\n",
       "      <td>NaN</td>\n",
       "      <td>11/03/2016 00:00</td>\n",
       "      <td>0</td>\n",
       "      <td>32339</td>\n",
       "      <td>12/03/2016 05:45</td>\n",
       "    </tr>\n",
       "    <tr>\n",
       "      <td>354140</td>\n",
       "      <td>29/03/2016 16:47</td>\n",
       "      <td>1000</td>\n",
       "      <td>NaN</td>\n",
       "      <td>2017</td>\n",
       "      <td>manual</td>\n",
       "      <td>101</td>\n",
       "      <td>a4</td>\n",
       "      <td>150000</td>\n",
       "      <td>9</td>\n",
       "      <td>NaN</td>\n",
       "      <td>audi</td>\n",
       "      <td>NaN</td>\n",
       "      <td>29/03/2016 00:00</td>\n",
       "      <td>0</td>\n",
       "      <td>38315</td>\n",
       "      <td>06/04/2016 02:44</td>\n",
       "    </tr>\n",
       "    <tr>\n",
       "      <td>354203</td>\n",
       "      <td>17/03/2016 00:56</td>\n",
       "      <td>2140</td>\n",
       "      <td>NaN</td>\n",
       "      <td>2018</td>\n",
       "      <td>manual</td>\n",
       "      <td>80</td>\n",
       "      <td>fiesta</td>\n",
       "      <td>150000</td>\n",
       "      <td>6</td>\n",
       "      <td>NaN</td>\n",
       "      <td>ford</td>\n",
       "      <td>no</td>\n",
       "      <td>17/03/2016 00:00</td>\n",
       "      <td>0</td>\n",
       "      <td>44866</td>\n",
       "      <td>29/03/2016 15:45</td>\n",
       "    </tr>\n",
       "    <tr>\n",
       "      <td>354253</td>\n",
       "      <td>25/03/2016 09:37</td>\n",
       "      <td>1250</td>\n",
       "      <td>NaN</td>\n",
       "      <td>2018</td>\n",
       "      <td>NaN</td>\n",
       "      <td>0</td>\n",
       "      <td>corsa</td>\n",
       "      <td>150000</td>\n",
       "      <td>0</td>\n",
       "      <td>petrol</td>\n",
       "      <td>opel</td>\n",
       "      <td>NaN</td>\n",
       "      <td>25/03/2016 00:00</td>\n",
       "      <td>0</td>\n",
       "      <td>45527</td>\n",
       "      <td>06/04/2016 07:46</td>\n",
       "    </tr>\n",
       "    <tr>\n",
       "      <td>354289</td>\n",
       "      <td>05/03/2016 14:55</td>\n",
       "      <td>5000</td>\n",
       "      <td>NaN</td>\n",
       "      <td>2017</td>\n",
       "      <td>manual</td>\n",
       "      <td>120</td>\n",
       "      <td>other</td>\n",
       "      <td>150000</td>\n",
       "      <td>7</td>\n",
       "      <td>NaN</td>\n",
       "      <td>citroen</td>\n",
       "      <td>yes</td>\n",
       "      <td>05/03/2016 00:00</td>\n",
       "      <td>0</td>\n",
       "      <td>15518</td>\n",
       "      <td>05/04/2016 11:48</td>\n",
       "    </tr>\n",
       "  </tbody>\n",
       "</table>\n",
       "<p>14529 rows × 16 columns</p>\n",
       "</div>"
      ],
      "text/plain": [
       "            date_crawled  price vehicle_type  registration_year gearbox  \\\n",
       "22      23/03/2016 14:52   2900          NaN               2018  manual   \n",
       "26      10/03/2016 19:38   5555          NaN               2017  manual   \n",
       "48      25/03/2016 14:40   7750          NaN               2017  manual   \n",
       "51      07/03/2016 18:57   2000          NaN               2017  manual   \n",
       "57      10/03/2016 20:53   2399          NaN               2018  manual   \n",
       "...                  ...    ...          ...                ...     ...   \n",
       "354112  11/03/2016 15:49   3600          NaN               2017  manual   \n",
       "354140  29/03/2016 16:47   1000          NaN               2017  manual   \n",
       "354203  17/03/2016 00:56   2140          NaN               2018  manual   \n",
       "354253  25/03/2016 09:37   1250          NaN               2018     NaN   \n",
       "354289  05/03/2016 14:55   5000          NaN               2017  manual   \n",
       "\n",
       "        power    model  milage  registration_month fuel_type       brand  \\\n",
       "22         90   meriva  150000                   5    petrol        opel   \n",
       "26        125       c4  125000                   4       NaN     citroen   \n",
       "48         80     golf  100000                   1    petrol  volkswagen   \n",
       "51         90    punto  150000                  11  gasoline        fiat   \n",
       "57         64    other  125000                   3       NaN        seat   \n",
       "...       ...      ...     ...                 ...       ...         ...   \n",
       "354112     86  transit  150000                   5  gasoline        ford   \n",
       "354140    101       a4  150000                   9       NaN        audi   \n",
       "354203     80   fiesta  150000                   6       NaN        ford   \n",
       "354253      0    corsa  150000                   0    petrol        opel   \n",
       "354289    120    other  150000                   7       NaN     citroen   \n",
       "\n",
       "       not_repaired      date_created  num_pictures  postal_code  \\\n",
       "22               no  23/03/2016 00:00             0        49716   \n",
       "26               no  10/03/2016 00:00             0        31139   \n",
       "48              NaN  25/03/2016 00:00             0        48499   \n",
       "51              yes  07/03/2016 00:00             0        66115   \n",
       "57               no  10/03/2016 00:00             0        33397   \n",
       "...             ...               ...           ...          ...   \n",
       "354112          NaN  11/03/2016 00:00             0        32339   \n",
       "354140          NaN  29/03/2016 00:00             0        38315   \n",
       "354203           no  17/03/2016 00:00             0        44866   \n",
       "354253          NaN  25/03/2016 00:00             0        45527   \n",
       "354289          yes  05/03/2016 00:00             0        15518   \n",
       "\n",
       "               last_seen  \n",
       "22      31/03/2016 01:16  \n",
       "26      16/03/2016 09:16  \n",
       "48      31/03/2016 21:47  \n",
       "51      07/03/2016 18:57  \n",
       "57      25/03/2016 10:17  \n",
       "...                  ...  \n",
       "354112  12/03/2016 05:45  \n",
       "354140  06/04/2016 02:44  \n",
       "354203  29/03/2016 15:45  \n",
       "354253  06/04/2016 07:46  \n",
       "354289  05/04/2016 11:48  \n",
       "\n",
       "[14529 rows x 16 columns]"
      ]
     },
     "execution_count": 11,
     "metadata": {},
     "output_type": "execute_result"
    }
   ],
   "source": [
    "df.query('registration_year > 2016')"
   ]
  },
  {
   "cell_type": "code",
   "execution_count": 12,
   "metadata": {},
   "outputs": [
    {
     "data": {
      "text/plain": [
       "0.04099963597267255"
      ]
     },
     "execution_count": 12,
     "metadata": {},
     "output_type": "execute_result"
    }
   ],
   "source": [
    "14529/354369"
   ]
  },
  {
   "cell_type": "code",
   "execution_count": 13,
   "metadata": {},
   "outputs": [
    {
     "data": {
      "text/html": [
       "<div>\n",
       "<style scoped>\n",
       "    .dataframe tbody tr th:only-of-type {\n",
       "        vertical-align: middle;\n",
       "    }\n",
       "\n",
       "    .dataframe tbody tr th {\n",
       "        vertical-align: top;\n",
       "    }\n",
       "\n",
       "    .dataframe thead th {\n",
       "        text-align: right;\n",
       "    }\n",
       "</style>\n",
       "<table border=\"1\" class=\"dataframe\">\n",
       "  <thead>\n",
       "    <tr style=\"text-align: right;\">\n",
       "      <th></th>\n",
       "      <th>date_crawled</th>\n",
       "      <th>price</th>\n",
       "      <th>vehicle_type</th>\n",
       "      <th>registration_year</th>\n",
       "      <th>gearbox</th>\n",
       "      <th>power</th>\n",
       "      <th>model</th>\n",
       "      <th>milage</th>\n",
       "      <th>registration_month</th>\n",
       "      <th>fuel_type</th>\n",
       "      <th>brand</th>\n",
       "      <th>not_repaired</th>\n",
       "      <th>date_created</th>\n",
       "      <th>num_pictures</th>\n",
       "      <th>postal_code</th>\n",
       "      <th>last_seen</th>\n",
       "    </tr>\n",
       "  </thead>\n",
       "  <tbody>\n",
       "    <tr>\n",
       "      <td>15</td>\n",
       "      <td>11/03/2016 21:39</td>\n",
       "      <td>450</td>\n",
       "      <td>small</td>\n",
       "      <td>1910</td>\n",
       "      <td>NaN</td>\n",
       "      <td>0</td>\n",
       "      <td>ka</td>\n",
       "      <td>5000</td>\n",
       "      <td>0</td>\n",
       "      <td>petrol</td>\n",
       "      <td>ford</td>\n",
       "      <td>NaN</td>\n",
       "      <td>11/03/2016 00:00</td>\n",
       "      <td>0</td>\n",
       "      <td>24148</td>\n",
       "      <td>19/03/2016 08:46</td>\n",
       "    </tr>\n",
       "    <tr>\n",
       "      <td>622</td>\n",
       "      <td>16/03/2016 16:55</td>\n",
       "      <td>0</td>\n",
       "      <td>NaN</td>\n",
       "      <td>1111</td>\n",
       "      <td>NaN</td>\n",
       "      <td>0</td>\n",
       "      <td>NaN</td>\n",
       "      <td>5000</td>\n",
       "      <td>0</td>\n",
       "      <td>NaN</td>\n",
       "      <td>opel</td>\n",
       "      <td>NaN</td>\n",
       "      <td>16/03/2016 00:00</td>\n",
       "      <td>0</td>\n",
       "      <td>44628</td>\n",
       "      <td>20/03/2016 16:44</td>\n",
       "    </tr>\n",
       "    <tr>\n",
       "      <td>1928</td>\n",
       "      <td>25/03/2016 15:58</td>\n",
       "      <td>7000</td>\n",
       "      <td>suv</td>\n",
       "      <td>1945</td>\n",
       "      <td>manual</td>\n",
       "      <td>48</td>\n",
       "      <td>other</td>\n",
       "      <td>150000</td>\n",
       "      <td>2</td>\n",
       "      <td>petrol</td>\n",
       "      <td>volkswagen</td>\n",
       "      <td>no</td>\n",
       "      <td>25/03/2016 00:00</td>\n",
       "      <td>0</td>\n",
       "      <td>58135</td>\n",
       "      <td>25/03/2016 15:58</td>\n",
       "    </tr>\n",
       "    <tr>\n",
       "      <td>2273</td>\n",
       "      <td>15/03/2016 21:44</td>\n",
       "      <td>1800</td>\n",
       "      <td>convertible</td>\n",
       "      <td>1925</td>\n",
       "      <td>NaN</td>\n",
       "      <td>0</td>\n",
       "      <td>NaN</td>\n",
       "      <td>5000</td>\n",
       "      <td>1</td>\n",
       "      <td>NaN</td>\n",
       "      <td>sonstige_autos</td>\n",
       "      <td>no</td>\n",
       "      <td>15/03/2016 00:00</td>\n",
       "      <td>0</td>\n",
       "      <td>79288</td>\n",
       "      <td>07/04/2016 05:15</td>\n",
       "    </tr>\n",
       "    <tr>\n",
       "      <td>3333</td>\n",
       "      <td>15/03/2016 21:36</td>\n",
       "      <td>10500</td>\n",
       "      <td>sedan</td>\n",
       "      <td>1955</td>\n",
       "      <td>manual</td>\n",
       "      <td>30</td>\n",
       "      <td>other</td>\n",
       "      <td>60000</td>\n",
       "      <td>0</td>\n",
       "      <td>petrol</td>\n",
       "      <td>ford</td>\n",
       "      <td>NaN</td>\n",
       "      <td>15/03/2016 00:00</td>\n",
       "      <td>0</td>\n",
       "      <td>53498</td>\n",
       "      <td>07/04/2016 08:16</td>\n",
       "    </tr>\n",
       "    <tr>\n",
       "      <td>...</td>\n",
       "      <td>...</td>\n",
       "      <td>...</td>\n",
       "      <td>...</td>\n",
       "      <td>...</td>\n",
       "      <td>...</td>\n",
       "      <td>...</td>\n",
       "      <td>...</td>\n",
       "      <td>...</td>\n",
       "      <td>...</td>\n",
       "      <td>...</td>\n",
       "      <td>...</td>\n",
       "      <td>...</td>\n",
       "      <td>...</td>\n",
       "      <td>...</td>\n",
       "      <td>...</td>\n",
       "      <td>...</td>\n",
       "    </tr>\n",
       "    <tr>\n",
       "      <td>351299</td>\n",
       "      <td>09/03/2016 21:56</td>\n",
       "      <td>5500</td>\n",
       "      <td>bus</td>\n",
       "      <td>1956</td>\n",
       "      <td>manual</td>\n",
       "      <td>37</td>\n",
       "      <td>NaN</td>\n",
       "      <td>60000</td>\n",
       "      <td>4</td>\n",
       "      <td>petrol</td>\n",
       "      <td>sonstige_autos</td>\n",
       "      <td>no</td>\n",
       "      <td>09/03/2016 00:00</td>\n",
       "      <td>0</td>\n",
       "      <td>1900</td>\n",
       "      <td>06/04/2016 02:17</td>\n",
       "    </tr>\n",
       "    <tr>\n",
       "      <td>351682</td>\n",
       "      <td>12/03/2016 00:57</td>\n",
       "      <td>11500</td>\n",
       "      <td>NaN</td>\n",
       "      <td>1800</td>\n",
       "      <td>NaN</td>\n",
       "      <td>16</td>\n",
       "      <td>other</td>\n",
       "      <td>5000</td>\n",
       "      <td>6</td>\n",
       "      <td>petrol</td>\n",
       "      <td>fiat</td>\n",
       "      <td>NaN</td>\n",
       "      <td>11/03/2016 00:00</td>\n",
       "      <td>0</td>\n",
       "      <td>16515</td>\n",
       "      <td>05/04/2016 19:47</td>\n",
       "    </tr>\n",
       "    <tr>\n",
       "      <td>353531</td>\n",
       "      <td>16/03/2016 21:56</td>\n",
       "      <td>6000</td>\n",
       "      <td>sedan</td>\n",
       "      <td>1937</td>\n",
       "      <td>manual</td>\n",
       "      <td>38</td>\n",
       "      <td>other</td>\n",
       "      <td>5000</td>\n",
       "      <td>0</td>\n",
       "      <td>petrol</td>\n",
       "      <td>mercedes_benz</td>\n",
       "      <td>NaN</td>\n",
       "      <td>16/03/2016 00:00</td>\n",
       "      <td>0</td>\n",
       "      <td>23936</td>\n",
       "      <td>30/03/2016 18:47</td>\n",
       "    </tr>\n",
       "    <tr>\n",
       "      <td>353961</td>\n",
       "      <td>17/03/2016 13:54</td>\n",
       "      <td>200</td>\n",
       "      <td>NaN</td>\n",
       "      <td>1910</td>\n",
       "      <td>NaN</td>\n",
       "      <td>0</td>\n",
       "      <td>NaN</td>\n",
       "      <td>5000</td>\n",
       "      <td>0</td>\n",
       "      <td>petrol</td>\n",
       "      <td>sonstige_autos</td>\n",
       "      <td>NaN</td>\n",
       "      <td>17/03/2016 00:00</td>\n",
       "      <td>0</td>\n",
       "      <td>42289</td>\n",
       "      <td>31/03/2016 22:46</td>\n",
       "    </tr>\n",
       "    <tr>\n",
       "      <td>354316</td>\n",
       "      <td>07/03/2016 19:58</td>\n",
       "      <td>3300</td>\n",
       "      <td>coupe</td>\n",
       "      <td>1957</td>\n",
       "      <td>manual</td>\n",
       "      <td>40</td>\n",
       "      <td>other</td>\n",
       "      <td>100000</td>\n",
       "      <td>11</td>\n",
       "      <td>petrol</td>\n",
       "      <td>trabant</td>\n",
       "      <td>no</td>\n",
       "      <td>07/03/2016 00:00</td>\n",
       "      <td>0</td>\n",
       "      <td>10317</td>\n",
       "      <td>08/03/2016 06:45</td>\n",
       "    </tr>\n",
       "  </tbody>\n",
       "</table>\n",
       "<p>390 rows × 16 columns</p>\n",
       "</div>"
      ],
      "text/plain": [
       "            date_crawled  price vehicle_type  registration_year gearbox  \\\n",
       "15      11/03/2016 21:39    450        small               1910     NaN   \n",
       "622     16/03/2016 16:55      0          NaN               1111     NaN   \n",
       "1928    25/03/2016 15:58   7000          suv               1945  manual   \n",
       "2273    15/03/2016 21:44   1800  convertible               1925     NaN   \n",
       "3333    15/03/2016 21:36  10500        sedan               1955  manual   \n",
       "...                  ...    ...          ...                ...     ...   \n",
       "351299  09/03/2016 21:56   5500          bus               1956  manual   \n",
       "351682  12/03/2016 00:57  11500          NaN               1800     NaN   \n",
       "353531  16/03/2016 21:56   6000        sedan               1937  manual   \n",
       "353961  17/03/2016 13:54    200          NaN               1910     NaN   \n",
       "354316  07/03/2016 19:58   3300        coupe               1957  manual   \n",
       "\n",
       "        power  model  milage  registration_month fuel_type           brand  \\\n",
       "15          0     ka    5000                   0    petrol            ford   \n",
       "622         0    NaN    5000                   0       NaN            opel   \n",
       "1928       48  other  150000                   2    petrol      volkswagen   \n",
       "2273        0    NaN    5000                   1       NaN  sonstige_autos   \n",
       "3333       30  other   60000                   0    petrol            ford   \n",
       "...       ...    ...     ...                 ...       ...             ...   \n",
       "351299     37    NaN   60000                   4    petrol  sonstige_autos   \n",
       "351682     16  other    5000                   6    petrol            fiat   \n",
       "353531     38  other    5000                   0    petrol   mercedes_benz   \n",
       "353961      0    NaN    5000                   0    petrol  sonstige_autos   \n",
       "354316     40  other  100000                  11    petrol         trabant   \n",
       "\n",
       "       not_repaired      date_created  num_pictures  postal_code  \\\n",
       "15              NaN  11/03/2016 00:00             0        24148   \n",
       "622             NaN  16/03/2016 00:00             0        44628   \n",
       "1928             no  25/03/2016 00:00             0        58135   \n",
       "2273             no  15/03/2016 00:00             0        79288   \n",
       "3333            NaN  15/03/2016 00:00             0        53498   \n",
       "...             ...               ...           ...          ...   \n",
       "351299           no  09/03/2016 00:00             0         1900   \n",
       "351682          NaN  11/03/2016 00:00             0        16515   \n",
       "353531          NaN  16/03/2016 00:00             0        23936   \n",
       "353961          NaN  17/03/2016 00:00             0        42289   \n",
       "354316           no  07/03/2016 00:00             0        10317   \n",
       "\n",
       "               last_seen  \n",
       "15      19/03/2016 08:46  \n",
       "622     20/03/2016 16:44  \n",
       "1928    25/03/2016 15:58  \n",
       "2273    07/04/2016 05:15  \n",
       "3333    07/04/2016 08:16  \n",
       "...                  ...  \n",
       "351299  06/04/2016 02:17  \n",
       "351682  05/04/2016 19:47  \n",
       "353531  30/03/2016 18:47  \n",
       "353961  31/03/2016 22:46  \n",
       "354316  08/03/2016 06:45  \n",
       "\n",
       "[390 rows x 16 columns]"
      ]
     },
     "execution_count": 13,
     "metadata": {},
     "output_type": "execute_result"
    }
   ],
   "source": [
    "df.query('registration_year < 1959')"
   ]
  },
  {
   "cell_type": "code",
   "execution_count": 14,
   "metadata": {},
   "outputs": [
    {
     "data": {
      "text/plain": [
       "0.0011005477341415305"
      ]
     },
     "execution_count": 14,
     "metadata": {},
     "output_type": "execute_result"
    }
   ],
   "source": [
    "390/354369"
   ]
  },
  {
   "cell_type": "markdown",
   "metadata": {},
   "source": [
    "__Since it is unlikely that we have many legitimate cars with registration dates less then 1960, we will eliminate those rows along with the rows of vehicles with a registration year > 2016, which would be impossible since the data was collected in 2016.__"
   ]
  },
  {
   "cell_type": "code",
   "execution_count": 15,
   "metadata": {},
   "outputs": [
    {
     "data": {
      "text/html": [
       "<div>\n",
       "<style scoped>\n",
       "    .dataframe tbody tr th:only-of-type {\n",
       "        vertical-align: middle;\n",
       "    }\n",
       "\n",
       "    .dataframe tbody tr th {\n",
       "        vertical-align: top;\n",
       "    }\n",
       "\n",
       "    .dataframe thead th {\n",
       "        text-align: right;\n",
       "    }\n",
       "</style>\n",
       "<table border=\"1\" class=\"dataframe\">\n",
       "  <thead>\n",
       "    <tr style=\"text-align: right;\">\n",
       "      <th></th>\n",
       "      <th>date_crawled</th>\n",
       "      <th>price</th>\n",
       "      <th>vehicle_type</th>\n",
       "      <th>registration_year</th>\n",
       "      <th>gearbox</th>\n",
       "      <th>power</th>\n",
       "      <th>model</th>\n",
       "      <th>milage</th>\n",
       "      <th>registration_month</th>\n",
       "      <th>fuel_type</th>\n",
       "      <th>brand</th>\n",
       "      <th>not_repaired</th>\n",
       "      <th>date_created</th>\n",
       "      <th>num_pictures</th>\n",
       "      <th>postal_code</th>\n",
       "      <th>last_seen</th>\n",
       "    </tr>\n",
       "  </thead>\n",
       "  <tbody>\n",
       "  </tbody>\n",
       "</table>\n",
       "</div>"
      ],
      "text/plain": [
       "Empty DataFrame\n",
       "Columns: [date_crawled, price, vehicle_type, registration_year, gearbox, power, model, milage, registration_month, fuel_type, brand, not_repaired, date_created, num_pictures, postal_code, last_seen]\n",
       "Index: []"
      ]
     },
     "execution_count": 15,
     "metadata": {},
     "output_type": "execute_result"
    }
   ],
   "source": [
    "df = df.loc[df['registration_year'] <= 2016]\n",
    "df = df.loc[df['registration_year'] >1959]\n",
    "df.query('registration_year > 2016' and 'registration_year < 1960')"
   ]
  },
  {
   "cell_type": "code",
   "execution_count": 16,
   "metadata": {},
   "outputs": [
    {
     "name": "stdout",
     "output_type": "stream",
     "text": [
      "Pct of rows with postal_codes < 10000 0.05119178195284766\n"
     ]
    }
   ],
   "source": [
    "df_bad_code = df.query('postal_code <10000') \n",
    "print('Pct of rows with postal_codes < 10000', df_bad_code.shape[0]/df.shape[0])"
   ]
  },
  {
   "cell_type": "code",
   "execution_count": 17,
   "metadata": {},
   "outputs": [
    {
     "data": {
      "text/html": [
       "<div>\n",
       "<style scoped>\n",
       "    .dataframe tbody tr th:only-of-type {\n",
       "        vertical-align: middle;\n",
       "    }\n",
       "\n",
       "    .dataframe tbody tr th {\n",
       "        vertical-align: top;\n",
       "    }\n",
       "\n",
       "    .dataframe thead th {\n",
       "        text-align: right;\n",
       "    }\n",
       "</style>\n",
       "<table border=\"1\" class=\"dataframe\">\n",
       "  <thead>\n",
       "    <tr style=\"text-align: right;\">\n",
       "      <th></th>\n",
       "      <th>price</th>\n",
       "      <th>registration_year</th>\n",
       "      <th>power</th>\n",
       "      <th>milage</th>\n",
       "      <th>registration_month</th>\n",
       "      <th>num_pictures</th>\n",
       "      <th>postal_code</th>\n",
       "    </tr>\n",
       "  </thead>\n",
       "  <tbody>\n",
       "    <tr>\n",
       "      <td>price</td>\n",
       "      <td>1.000000</td>\n",
       "      <td>0.453728</td>\n",
       "      <td>0.161802</td>\n",
       "      <td>-0.337630</td>\n",
       "      <td>0.107351</td>\n",
       "      <td>NaN</td>\n",
       "      <td>0.075679</td>\n",
       "    </tr>\n",
       "    <tr>\n",
       "      <td>registration_year</td>\n",
       "      <td>0.453728</td>\n",
       "      <td>1.000000</td>\n",
       "      <td>0.050668</td>\n",
       "      <td>-0.225518</td>\n",
       "      <td>0.073391</td>\n",
       "      <td>NaN</td>\n",
       "      <td>0.034969</td>\n",
       "    </tr>\n",
       "    <tr>\n",
       "      <td>power</td>\n",
       "      <td>0.161802</td>\n",
       "      <td>0.050668</td>\n",
       "      <td>1.000000</td>\n",
       "      <td>0.024620</td>\n",
       "      <td>0.042747</td>\n",
       "      <td>NaN</td>\n",
       "      <td>0.021350</td>\n",
       "    </tr>\n",
       "    <tr>\n",
       "      <td>milage</td>\n",
       "      <td>-0.337630</td>\n",
       "      <td>-0.225518</td>\n",
       "      <td>0.024620</td>\n",
       "      <td>1.000000</td>\n",
       "      <td>0.008051</td>\n",
       "      <td>NaN</td>\n",
       "      <td>-0.008220</td>\n",
       "    </tr>\n",
       "    <tr>\n",
       "      <td>registration_month</td>\n",
       "      <td>0.107351</td>\n",
       "      <td>0.073391</td>\n",
       "      <td>0.042747</td>\n",
       "      <td>0.008051</td>\n",
       "      <td>1.000000</td>\n",
       "      <td>NaN</td>\n",
       "      <td>0.013036</td>\n",
       "    </tr>\n",
       "    <tr>\n",
       "      <td>num_pictures</td>\n",
       "      <td>NaN</td>\n",
       "      <td>NaN</td>\n",
       "      <td>NaN</td>\n",
       "      <td>NaN</td>\n",
       "      <td>NaN</td>\n",
       "      <td>NaN</td>\n",
       "      <td>NaN</td>\n",
       "    </tr>\n",
       "    <tr>\n",
       "      <td>postal_code</td>\n",
       "      <td>0.075679</td>\n",
       "      <td>0.034969</td>\n",
       "      <td>0.021350</td>\n",
       "      <td>-0.008220</td>\n",
       "      <td>0.013036</td>\n",
       "      <td>NaN</td>\n",
       "      <td>1.000000</td>\n",
       "    </tr>\n",
       "  </tbody>\n",
       "</table>\n",
       "</div>"
      ],
      "text/plain": [
       "                       price  registration_year     power    milage  \\\n",
       "price               1.000000           0.453728  0.161802 -0.337630   \n",
       "registration_year   0.453728           1.000000  0.050668 -0.225518   \n",
       "power               0.161802           0.050668  1.000000  0.024620   \n",
       "milage             -0.337630          -0.225518  0.024620  1.000000   \n",
       "registration_month  0.107351           0.073391  0.042747  0.008051   \n",
       "num_pictures             NaN                NaN       NaN       NaN   \n",
       "postal_code         0.075679           0.034969  0.021350 -0.008220   \n",
       "\n",
       "                    registration_month  num_pictures  postal_code  \n",
       "price                         0.107351           NaN     0.075679  \n",
       "registration_year             0.073391           NaN     0.034969  \n",
       "power                         0.042747           NaN     0.021350  \n",
       "milage                        0.008051           NaN    -0.008220  \n",
       "registration_month            1.000000           NaN     0.013036  \n",
       "num_pictures                       NaN           NaN          NaN  \n",
       "postal_code                   0.013036           NaN     1.000000  "
      ]
     },
     "execution_count": 17,
     "metadata": {},
     "output_type": "execute_result"
    }
   ],
   "source": [
    "df.corr()"
   ]
  },
  {
   "cell_type": "markdown",
   "metadata": {},
   "source": [
    "__We note a little over half a percent of the rows have an obviously inaccurate postal code so deleting those rows is one choice. However, the correlation between price and postal_code is fairly low, so we will drop the postal_code column instead__"
   ]
  },
  {
   "cell_type": "code",
   "execution_count": 18,
   "metadata": {},
   "outputs": [
    {
     "name": "stdout",
     "output_type": "stream",
     "text": [
      "(339156, 16)\n"
     ]
    },
    {
     "data": {
      "text/plain": [
       "(339156, 11)"
      ]
     },
     "execution_count": 18,
     "metadata": {},
     "output_type": "execute_result"
    }
   ],
   "source": [
    "print(df.shape)\n",
    "df.drop(columns=['date_crawled', 'date_created', 'last_seen', 'num_pictures', 'postal_code'], inplace=True)\n",
    "df.shape"
   ]
  },
  {
   "cell_type": "code",
   "execution_count": 19,
   "metadata": {},
   "outputs": [
    {
     "name": "stdout",
     "output_type": "stream",
     "text": [
      "\n",
      "Columns Missing Values\n",
      "                      type    cnt        pct\n",
      "price                int64      0   0.000000\n",
      "vehicle_type        object  22835   6.732890\n",
      "registration_year    int64      0   0.000000\n",
      "gearbox             object  17774   5.240656\n",
      "power                int64      0   0.000000\n",
      "model               object  17459   5.147779\n",
      "milage               int64      0   0.000000\n",
      "registration_month   int64      0   0.000000\n",
      "fuel_type           object  27131   7.999564\n",
      "brand               object      0   0.000000\n",
      "not_repaired        object  64613  19.051115\n"
     ]
    }
   ],
   "source": [
    "missing_stats(df)"
   ]
  },
  {
   "cell_type": "markdown",
   "metadata": {},
   "source": [
    "__Observations with updated list__\n",
    "- price has outliers --> investigate outliers\n",
    "- vehicle_type has missing values --> fillin related to model\n",
    "- registration_year --> handled earlier\n",
    "- gearbox has missing values --> investigate and fillin \n",
    "- power values vary widely --> [research online](https://www.autolist.com/guides/average-car-horsepower), investigate\n",
    "- __model has missing values --> investigate (first since will use for fill ins)__\n",
    "- milage no missing values, given values look reasonable --> keep as is\n",
    "- registration_month has some values of zero --> investigate\n",
    "- fuel_type, not sure how there are 7 unique values --> investigate\n",
    "- brand (make) has no missing values --> keep as is\n",
    "- not_repaired indicates if vehicle repaired or not --> investigate"
   ]
  },
  {
   "cell_type": "code",
   "execution_count": 20,
   "metadata": {},
   "outputs": [
    {
     "data": {
      "text/plain": [
       "golf                  27593\n",
       "other                 23711\n",
       "3er                   19206\n",
       "NaN                   17459\n",
       "polo                  12441\n",
       "                      ...  \n",
       "kalina                    6\n",
       "serie_3                   4\n",
       "rangerover                3\n",
       "serie_1                   2\n",
       "range_rover_evoque        2\n",
       "Name: model, Length: 251, dtype: int64"
      ]
     },
     "execution_count": 20,
     "metadata": {},
     "output_type": "execute_result"
    }
   ],
   "source": [
    "df['model'].value_counts(dropna=False)"
   ]
  },
  {
   "cell_type": "code",
   "execution_count": 21,
   "metadata": {},
   "outputs": [
    {
     "data": {
      "text/plain": [
       "0.051477786033565676"
      ]
     },
     "execution_count": 21,
     "metadata": {},
     "output_type": "execute_result"
    }
   ],
   "source": [
    "df['model'].isnull().sum()/len(df)"
   ]
  },
  {
   "cell_type": "code",
   "execution_count": 22,
   "metadata": {},
   "outputs": [
    {
     "data": {
      "text/html": [
       "<div>\n",
       "<style scoped>\n",
       "    .dataframe tbody tr th:only-of-type {\n",
       "        vertical-align: middle;\n",
       "    }\n",
       "\n",
       "    .dataframe tbody tr th {\n",
       "        vertical-align: top;\n",
       "    }\n",
       "\n",
       "    .dataframe thead th {\n",
       "        text-align: right;\n",
       "    }\n",
       "</style>\n",
       "<table border=\"1\" class=\"dataframe\">\n",
       "  <thead>\n",
       "    <tr style=\"text-align: right;\">\n",
       "      <th></th>\n",
       "      <th>price</th>\n",
       "      <th>vehicle_type</th>\n",
       "      <th>registration_year</th>\n",
       "      <th>gearbox</th>\n",
       "      <th>power</th>\n",
       "      <th>model</th>\n",
       "      <th>milage</th>\n",
       "      <th>registration_month</th>\n",
       "      <th>fuel_type</th>\n",
       "      <th>brand</th>\n",
       "      <th>not_repaired</th>\n",
       "    </tr>\n",
       "  </thead>\n",
       "  <tbody>\n",
       "    <tr>\n",
       "      <td>1</td>\n",
       "      <td>18300</td>\n",
       "      <td>coupe</td>\n",
       "      <td>2011</td>\n",
       "      <td>manual</td>\n",
       "      <td>190</td>\n",
       "      <td>NaN</td>\n",
       "      <td>125000</td>\n",
       "      <td>5</td>\n",
       "      <td>gasoline</td>\n",
       "      <td>audi</td>\n",
       "      <td>yes</td>\n",
       "    </tr>\n",
       "    <tr>\n",
       "      <td>59</td>\n",
       "      <td>1</td>\n",
       "      <td>suv</td>\n",
       "      <td>1994</td>\n",
       "      <td>manual</td>\n",
       "      <td>286</td>\n",
       "      <td>NaN</td>\n",
       "      <td>150000</td>\n",
       "      <td>11</td>\n",
       "      <td>NaN</td>\n",
       "      <td>sonstige_autos</td>\n",
       "      <td>NaN</td>\n",
       "    </tr>\n",
       "    <tr>\n",
       "      <td>81</td>\n",
       "      <td>350</td>\n",
       "      <td>small</td>\n",
       "      <td>1997</td>\n",
       "      <td>manual</td>\n",
       "      <td>54</td>\n",
       "      <td>NaN</td>\n",
       "      <td>150000</td>\n",
       "      <td>3</td>\n",
       "      <td>NaN</td>\n",
       "      <td>fiat</td>\n",
       "      <td>yes</td>\n",
       "    </tr>\n",
       "    <tr>\n",
       "      <td>115</td>\n",
       "      <td>0</td>\n",
       "      <td>small</td>\n",
       "      <td>1999</td>\n",
       "      <td>NaN</td>\n",
       "      <td>0</td>\n",
       "      <td>NaN</td>\n",
       "      <td>5000</td>\n",
       "      <td>0</td>\n",
       "      <td>petrol</td>\n",
       "      <td>volkswagen</td>\n",
       "      <td>NaN</td>\n",
       "    </tr>\n",
       "    <tr>\n",
       "      <td>135</td>\n",
       "      <td>1450</td>\n",
       "      <td>sedan</td>\n",
       "      <td>1992</td>\n",
       "      <td>manual</td>\n",
       "      <td>136</td>\n",
       "      <td>NaN</td>\n",
       "      <td>150000</td>\n",
       "      <td>0</td>\n",
       "      <td>NaN</td>\n",
       "      <td>audi</td>\n",
       "      <td>no</td>\n",
       "    </tr>\n",
       "  </tbody>\n",
       "</table>\n",
       "</div>"
      ],
      "text/plain": [
       "     price vehicle_type  registration_year gearbox  power model  milage  \\\n",
       "1    18300        coupe               2011  manual    190   NaN  125000   \n",
       "59       1          suv               1994  manual    286   NaN  150000   \n",
       "81     350        small               1997  manual     54   NaN  150000   \n",
       "115      0        small               1999     NaN      0   NaN    5000   \n",
       "135   1450        sedan               1992  manual    136   NaN  150000   \n",
       "\n",
       "     registration_month fuel_type           brand not_repaired  \n",
       "1                     5  gasoline            audi          yes  \n",
       "59                   11       NaN  sonstige_autos          NaN  \n",
       "81                    3       NaN            fiat          yes  \n",
       "115                   0    petrol      volkswagen          NaN  \n",
       "135                   0       NaN            audi           no  "
      ]
     },
     "execution_count": 22,
     "metadata": {},
     "output_type": "execute_result"
    }
   ],
   "source": [
    "df.loc[df['model'].isnull()].head()"
   ]
  },
  {
   "cell_type": "markdown",
   "metadata": {},
   "source": [
    "__model has 251 unique values and a little over half a percent are null. It is unlikely we can make wise replacements for the missing values, so we will remove those rows with missing the model value.__"
   ]
  },
  {
   "cell_type": "code",
   "execution_count": 23,
   "metadata": {},
   "outputs": [
    {
     "name": "stdout",
     "output_type": "stream",
     "text": [
      "(339156, 11)\n"
     ]
    },
    {
     "data": {
      "text/plain": [
       "(321697, 11)"
      ]
     },
     "execution_count": 23,
     "metadata": {},
     "output_type": "execute_result"
    }
   ],
   "source": [
    "print(df.shape)\n",
    "df.dropna(subset=['model'], inplace=True) \n",
    "df.shape               "
   ]
  },
  {
   "cell_type": "code",
   "execution_count": 24,
   "metadata": {},
   "outputs": [
    {
     "data": {
      "text/plain": [
       "0"
      ]
     },
     "execution_count": 24,
     "metadata": {},
     "output_type": "execute_result"
    }
   ],
   "source": [
    "df['model'].isnull().sum()"
   ]
  },
  {
   "cell_type": "code",
   "execution_count": 25,
   "metadata": {},
   "outputs": [
    {
     "data": {
      "text/plain": [
       "count     4467.000000\n",
       "mean     19247.173942\n",
       "std        572.356100\n",
       "min      18247.000000\n",
       "25%      18800.000000\n",
       "50%      19200.000000\n",
       "75%      19900.000000\n",
       "max      20000.000000\n",
       "dtype: float64"
      ]
     },
     "execution_count": 25,
     "metadata": {},
     "output_type": "execute_result"
    }
   ],
   "source": [
    "outlier_stats(df.price)"
   ]
  },
  {
   "cell_type": "code",
   "execution_count": 26,
   "metadata": {},
   "outputs": [
    {
     "data": {
      "text/html": [
       "<div>\n",
       "<style scoped>\n",
       "    .dataframe tbody tr th:only-of-type {\n",
       "        vertical-align: middle;\n",
       "    }\n",
       "\n",
       "    .dataframe tbody tr th {\n",
       "        vertical-align: top;\n",
       "    }\n",
       "\n",
       "    .dataframe thead th {\n",
       "        text-align: right;\n",
       "    }\n",
       "</style>\n",
       "<table border=\"1\" class=\"dataframe\">\n",
       "  <thead>\n",
       "    <tr style=\"text-align: right;\">\n",
       "      <th></th>\n",
       "      <th>price</th>\n",
       "      <th>vehicle_type</th>\n",
       "      <th>registration_year</th>\n",
       "      <th>gearbox</th>\n",
       "      <th>power</th>\n",
       "      <th>model</th>\n",
       "      <th>milage</th>\n",
       "      <th>registration_month</th>\n",
       "      <th>fuel_type</th>\n",
       "      <th>brand</th>\n",
       "      <th>not_repaired</th>\n",
       "    </tr>\n",
       "  </thead>\n",
       "  <tbody>\n",
       "    <tr>\n",
       "      <td>7</td>\n",
       "      <td>0</td>\n",
       "      <td>sedan</td>\n",
       "      <td>1980</td>\n",
       "      <td>manual</td>\n",
       "      <td>50</td>\n",
       "      <td>other</td>\n",
       "      <td>40000</td>\n",
       "      <td>7</td>\n",
       "      <td>petrol</td>\n",
       "      <td>volkswagen</td>\n",
       "      <td>no</td>\n",
       "    </tr>\n",
       "    <tr>\n",
       "      <td>40</td>\n",
       "      <td>0</td>\n",
       "      <td>NaN</td>\n",
       "      <td>1990</td>\n",
       "      <td>NaN</td>\n",
       "      <td>0</td>\n",
       "      <td>corsa</td>\n",
       "      <td>150000</td>\n",
       "      <td>1</td>\n",
       "      <td>petrol</td>\n",
       "      <td>opel</td>\n",
       "      <td>NaN</td>\n",
       "    </tr>\n",
       "    <tr>\n",
       "      <td>152</td>\n",
       "      <td>0</td>\n",
       "      <td>bus</td>\n",
       "      <td>2004</td>\n",
       "      <td>manual</td>\n",
       "      <td>101</td>\n",
       "      <td>meriva</td>\n",
       "      <td>150000</td>\n",
       "      <td>10</td>\n",
       "      <td>lpg</td>\n",
       "      <td>opel</td>\n",
       "      <td>yes</td>\n",
       "    </tr>\n",
       "    <tr>\n",
       "      <td>154</td>\n",
       "      <td>0</td>\n",
       "      <td>NaN</td>\n",
       "      <td>2006</td>\n",
       "      <td>NaN</td>\n",
       "      <td>0</td>\n",
       "      <td>other</td>\n",
       "      <td>5000</td>\n",
       "      <td>0</td>\n",
       "      <td>NaN</td>\n",
       "      <td>fiat</td>\n",
       "      <td>NaN</td>\n",
       "    </tr>\n",
       "    <tr>\n",
       "      <td>231</td>\n",
       "      <td>0</td>\n",
       "      <td>wagon</td>\n",
       "      <td>2001</td>\n",
       "      <td>manual</td>\n",
       "      <td>115</td>\n",
       "      <td>mondeo</td>\n",
       "      <td>150000</td>\n",
       "      <td>0</td>\n",
       "      <td>NaN</td>\n",
       "      <td>ford</td>\n",
       "      <td>NaN</td>\n",
       "    </tr>\n",
       "    <tr>\n",
       "      <td>...</td>\n",
       "      <td>...</td>\n",
       "      <td>...</td>\n",
       "      <td>...</td>\n",
       "      <td>...</td>\n",
       "      <td>...</td>\n",
       "      <td>...</td>\n",
       "      <td>...</td>\n",
       "      <td>...</td>\n",
       "      <td>...</td>\n",
       "      <td>...</td>\n",
       "      <td>...</td>\n",
       "    </tr>\n",
       "    <tr>\n",
       "      <td>354205</td>\n",
       "      <td>0</td>\n",
       "      <td>NaN</td>\n",
       "      <td>2000</td>\n",
       "      <td>manual</td>\n",
       "      <td>65</td>\n",
       "      <td>corsa</td>\n",
       "      <td>150000</td>\n",
       "      <td>0</td>\n",
       "      <td>NaN</td>\n",
       "      <td>opel</td>\n",
       "      <td>yes</td>\n",
       "    </tr>\n",
       "    <tr>\n",
       "      <td>354238</td>\n",
       "      <td>0</td>\n",
       "      <td>small</td>\n",
       "      <td>2002</td>\n",
       "      <td>manual</td>\n",
       "      <td>60</td>\n",
       "      <td>fiesta</td>\n",
       "      <td>150000</td>\n",
       "      <td>3</td>\n",
       "      <td>petrol</td>\n",
       "      <td>ford</td>\n",
       "      <td>NaN</td>\n",
       "    </tr>\n",
       "    <tr>\n",
       "      <td>354248</td>\n",
       "      <td>0</td>\n",
       "      <td>small</td>\n",
       "      <td>1999</td>\n",
       "      <td>manual</td>\n",
       "      <td>53</td>\n",
       "      <td>swift</td>\n",
       "      <td>150000</td>\n",
       "      <td>3</td>\n",
       "      <td>petrol</td>\n",
       "      <td>suzuki</td>\n",
       "      <td>NaN</td>\n",
       "    </tr>\n",
       "    <tr>\n",
       "      <td>354277</td>\n",
       "      <td>0</td>\n",
       "      <td>small</td>\n",
       "      <td>1999</td>\n",
       "      <td>manual</td>\n",
       "      <td>37</td>\n",
       "      <td>arosa</td>\n",
       "      <td>150000</td>\n",
       "      <td>7</td>\n",
       "      <td>petrol</td>\n",
       "      <td>seat</td>\n",
       "      <td>yes</td>\n",
       "    </tr>\n",
       "    <tr>\n",
       "      <td>354364</td>\n",
       "      <td>0</td>\n",
       "      <td>NaN</td>\n",
       "      <td>2005</td>\n",
       "      <td>manual</td>\n",
       "      <td>0</td>\n",
       "      <td>colt</td>\n",
       "      <td>150000</td>\n",
       "      <td>7</td>\n",
       "      <td>petrol</td>\n",
       "      <td>mitsubishi</td>\n",
       "      <td>yes</td>\n",
       "    </tr>\n",
       "  </tbody>\n",
       "</table>\n",
       "<p>7993 rows × 11 columns</p>\n",
       "</div>"
      ],
      "text/plain": [
       "        price vehicle_type  registration_year gearbox  power   model  milage  \\\n",
       "7           0        sedan               1980  manual     50   other   40000   \n",
       "40          0          NaN               1990     NaN      0   corsa  150000   \n",
       "152         0          bus               2004  manual    101  meriva  150000   \n",
       "154         0          NaN               2006     NaN      0   other    5000   \n",
       "231         0        wagon               2001  manual    115  mondeo  150000   \n",
       "...       ...          ...                ...     ...    ...     ...     ...   \n",
       "354205      0          NaN               2000  manual     65   corsa  150000   \n",
       "354238      0        small               2002  manual     60  fiesta  150000   \n",
       "354248      0        small               1999  manual     53   swift  150000   \n",
       "354277      0        small               1999  manual     37   arosa  150000   \n",
       "354364      0          NaN               2005  manual      0    colt  150000   \n",
       "\n",
       "        registration_month fuel_type       brand not_repaired  \n",
       "7                        7    petrol  volkswagen           no  \n",
       "40                       1    petrol        opel          NaN  \n",
       "152                     10       lpg        opel          yes  \n",
       "154                      0       NaN        fiat          NaN  \n",
       "231                      0       NaN        ford          NaN  \n",
       "...                    ...       ...         ...          ...  \n",
       "354205                   0       NaN        opel          yes  \n",
       "354238                   3    petrol        ford          NaN  \n",
       "354248                   3    petrol      suzuki          NaN  \n",
       "354277                   7    petrol        seat          yes  \n",
       "354364                   7    petrol  mitsubishi          yes  \n",
       "\n",
       "[7993 rows x 11 columns]"
      ]
     },
     "execution_count": 26,
     "metadata": {},
     "output_type": "execute_result"
    }
   ],
   "source": [
    "df.query('price == 0')"
   ]
  },
  {
   "cell_type": "markdown",
   "metadata": {},
   "source": [
    "__There are almost 8000 rows where the price is 0. This may be clerical error or it may reflect vehicles junked or given for free. Either way, these will not be useful for our analysis. We will keep the rows with higher outlier values as some cars may have gone for an impressive amount.__"
   ]
  },
  {
   "cell_type": "code",
   "execution_count": 27,
   "metadata": {},
   "outputs": [
    {
     "data": {
      "text/html": [
       "<div>\n",
       "<style scoped>\n",
       "    .dataframe tbody tr th:only-of-type {\n",
       "        vertical-align: middle;\n",
       "    }\n",
       "\n",
       "    .dataframe tbody tr th {\n",
       "        vertical-align: top;\n",
       "    }\n",
       "\n",
       "    .dataframe thead th {\n",
       "        text-align: right;\n",
       "    }\n",
       "</style>\n",
       "<table border=\"1\" class=\"dataframe\">\n",
       "  <thead>\n",
       "    <tr style=\"text-align: right;\">\n",
       "      <th></th>\n",
       "      <th>price</th>\n",
       "      <th>vehicle_type</th>\n",
       "      <th>registration_year</th>\n",
       "      <th>gearbox</th>\n",
       "      <th>power</th>\n",
       "      <th>model</th>\n",
       "      <th>milage</th>\n",
       "      <th>registration_month</th>\n",
       "      <th>fuel_type</th>\n",
       "      <th>brand</th>\n",
       "      <th>not_repaired</th>\n",
       "    </tr>\n",
       "  </thead>\n",
       "  <tbody>\n",
       "  </tbody>\n",
       "</table>\n",
       "</div>"
      ],
      "text/plain": [
       "Empty DataFrame\n",
       "Columns: [price, vehicle_type, registration_year, gearbox, power, model, milage, registration_month, fuel_type, brand, not_repaired]\n",
       "Index: []"
      ]
     },
     "execution_count": 27,
     "metadata": {},
     "output_type": "execute_result"
    }
   ],
   "source": [
    "df = df.loc[df['price'] != 0]\n",
    "df.query('price == 0')"
   ]
  },
  {
   "cell_type": "code",
   "execution_count": 28,
   "metadata": {},
   "outputs": [
    {
     "data": {
      "text/plain": [
       "sedan          86217\n",
       "small          74809\n",
       "wagon          61646\n",
       "bus            27400\n",
       "convertible    19001\n",
       "NaN            16217\n",
       "coupe          14743\n",
       "suv            11041\n",
       "other           2630\n",
       "Name: vehicle_type, dtype: int64"
      ]
     },
     "execution_count": 28,
     "metadata": {},
     "output_type": "execute_result"
    }
   ],
   "source": [
    "df['vehicle_type'].value_counts(dropna=False)"
   ]
  },
  {
   "cell_type": "code",
   "execution_count": 29,
   "metadata": {},
   "outputs": [
    {
     "data": {
      "text/plain": [
       "sedan          93980\n",
       "small          79416\n",
       "wagon          63377\n",
       "bus            28920\n",
       "convertible    19154\n",
       "coupe          14955\n",
       "suv            11272\n",
       "other           2630\n",
       "Name: vehicle_type, dtype: int64"
      ]
     },
     "execution_count": 29,
     "metadata": {},
     "output_type": "execute_result"
    }
   ],
   "source": [
    "df['vehicle_type'].fillna(df.groupby('model')['vehicle_type'].\n",
    "                          transform(lambda x:x.value_counts().index[0]), inplace=True)\n",
    "df['vehicle_type'].value_counts(dropna=False)"
   ]
  },
  {
   "cell_type": "code",
   "execution_count": 30,
   "metadata": {},
   "outputs": [
    {
     "data": {
      "text/plain": [
       "manual    240670\n",
       "auto       60188\n",
       "NaN        12846\n",
       "Name: gearbox, dtype: int64"
      ]
     },
     "execution_count": 30,
     "metadata": {},
     "output_type": "execute_result"
    }
   ],
   "source": [
    "df['gearbox'].value_counts(dropna=False)"
   ]
  },
  {
   "cell_type": "markdown",
   "metadata": {},
   "source": [
    "__gearbox is missing about 4% of the values and we will replace those based on model since the gearbox is usally consistent with models.__ "
   ]
  },
  {
   "cell_type": "code",
   "execution_count": 31,
   "metadata": {},
   "outputs": [
    {
     "data": {
      "text/plain": [
       "manual    252002\n",
       "auto       61702\n",
       "Name: gearbox, dtype: int64"
      ]
     },
     "execution_count": 31,
     "metadata": {},
     "output_type": "execute_result"
    }
   ],
   "source": [
    "df['gearbox'].fillna(df.groupby('model')['gearbox']\\\n",
    "                          .transform(lambda x:x.value_counts().index[0]), inplace=True)\n",
    "df['gearbox'].value_counts(dropna=False)"
   ]
  },
  {
   "cell_type": "code",
   "execution_count": 32,
   "metadata": {},
   "outputs": [
    {
     "data": {
      "text/plain": [
       "count      270.000000\n",
       "mean      3716.562963\n",
       "std       4484.265366\n",
       "min        671.000000\n",
       "25%       1149.500000\n",
       "50%       1612.500000\n",
       "75%       4237.500000\n",
       "max      20000.000000\n",
       "dtype: float64"
      ]
     },
     "execution_count": 32,
     "metadata": {},
     "output_type": "execute_result"
    }
   ],
   "source": [
    "outlier_stats(df.power)"
   ]
  },
  {
   "cell_type": "markdown",
   "metadata": {},
   "source": [
    "__We discover a small number of outliers in the power column and will delete those.__"
   ]
  },
  {
   "cell_type": "code",
   "execution_count": 33,
   "metadata": {},
   "outputs": [
    {
     "name": "stdout",
     "output_type": "stream",
     "text": [
      "(313704, 11)\n"
     ]
    },
    {
     "data": {
      "text/plain": [
       "(313434, 11)"
      ]
     },
     "execution_count": 33,
     "metadata": {},
     "output_type": "execute_result"
    }
   ],
   "source": [
    "print(df.shape)\n",
    "df = df.loc[df['power'] <= 670]\n",
    "df.shape "
   ]
  },
  {
   "cell_type": "code",
   "execution_count": 34,
   "metadata": {},
   "outputs": [
    {
     "data": {
      "text/plain": [
       "0"
      ]
     },
     "execution_count": 34,
     "metadata": {},
     "output_type": "execute_result"
    }
   ],
   "source": [
    "df['power'].isnull().sum()"
   ]
  },
  {
   "cell_type": "code",
   "execution_count": 35,
   "metadata": {},
   "outputs": [
    {
     "data": {
      "text/plain": [
       "3     31568\n",
       "6     28522\n",
       "4     26538\n",
       "5     26437\n",
       "0     24734\n",
       "7     24652\n",
       "10    23937\n",
       "11    22226\n",
       "12    22024\n",
       "9     21924\n",
       "1     20953\n",
       "8     20552\n",
       "2     19367\n",
       "Name: registration_month, dtype: int64"
      ]
     },
     "execution_count": 35,
     "metadata": {},
     "output_type": "execute_result"
    }
   ],
   "source": [
    "df['registration_month'].value_counts()"
   ]
  },
  {
   "cell_type": "code",
   "execution_count": 36,
   "metadata": {},
   "outputs": [
    {
     "data": {
      "text/html": [
       "<div>\n",
       "<style scoped>\n",
       "    .dataframe tbody tr th:only-of-type {\n",
       "        vertical-align: middle;\n",
       "    }\n",
       "\n",
       "    .dataframe tbody tr th {\n",
       "        vertical-align: top;\n",
       "    }\n",
       "\n",
       "    .dataframe thead th {\n",
       "        text-align: right;\n",
       "    }\n",
       "</style>\n",
       "<table border=\"1\" class=\"dataframe\">\n",
       "  <thead>\n",
       "    <tr style=\"text-align: right;\">\n",
       "      <th></th>\n",
       "      <th>price</th>\n",
       "      <th>registration_year</th>\n",
       "      <th>power</th>\n",
       "      <th>milage</th>\n",
       "      <th>registration_month</th>\n",
       "    </tr>\n",
       "  </thead>\n",
       "  <tbody>\n",
       "    <tr>\n",
       "      <td>price</td>\n",
       "      <td>1.000000</td>\n",
       "      <td>0.485168</td>\n",
       "      <td>0.492910</td>\n",
       "      <td>-0.367805</td>\n",
       "      <td>0.085502</td>\n",
       "    </tr>\n",
       "    <tr>\n",
       "      <td>registration_year</td>\n",
       "      <td>0.485168</td>\n",
       "      <td>1.000000</td>\n",
       "      <td>0.152706</td>\n",
       "      <td>-0.273744</td>\n",
       "      <td>0.058507</td>\n",
       "    </tr>\n",
       "    <tr>\n",
       "      <td>power</td>\n",
       "      <td>0.492910</td>\n",
       "      <td>0.152706</td>\n",
       "      <td>1.000000</td>\n",
       "      <td>0.073695</td>\n",
       "      <td>0.098254</td>\n",
       "    </tr>\n",
       "    <tr>\n",
       "      <td>milage</td>\n",
       "      <td>-0.367805</td>\n",
       "      <td>-0.273744</td>\n",
       "      <td>0.073695</td>\n",
       "      <td>1.000000</td>\n",
       "      <td>-0.003873</td>\n",
       "    </tr>\n",
       "    <tr>\n",
       "      <td>registration_month</td>\n",
       "      <td>0.085502</td>\n",
       "      <td>0.058507</td>\n",
       "      <td>0.098254</td>\n",
       "      <td>-0.003873</td>\n",
       "      <td>1.000000</td>\n",
       "    </tr>\n",
       "  </tbody>\n",
       "</table>\n",
       "</div>"
      ],
      "text/plain": [
       "                       price  registration_year     power    milage  \\\n",
       "price               1.000000           0.485168  0.492910 -0.367805   \n",
       "registration_year   0.485168           1.000000  0.152706 -0.273744   \n",
       "power               0.492910           0.152706  1.000000  0.073695   \n",
       "milage             -0.367805          -0.273744  0.073695  1.000000   \n",
       "registration_month  0.085502           0.058507  0.098254 -0.003873   \n",
       "\n",
       "                    registration_month  \n",
       "price                         0.085502  \n",
       "registration_year             0.058507  \n",
       "power                         0.098254  \n",
       "milage                       -0.003873  \n",
       "registration_month            1.000000  "
      ]
     },
     "execution_count": 36,
     "metadata": {},
     "output_type": "execute_result"
    }
   ],
   "source": [
    "df.corr()"
   ]
  },
  {
   "cell_type": "markdown",
   "metadata": {},
   "source": [
    "__Once again we find a weak relationship between registration_month and price, but it would be better to keep the column and rows for overall data integrity. The months are fairly evenly divided so we could randomly distribute the NA values with values of 1:12 to indicate months.__"
   ]
  },
  {
   "cell_type": "code",
   "execution_count": 37,
   "metadata": {},
   "outputs": [
    {
     "data": {
      "text/plain": [
       "11    26388\n",
       "3     26325\n",
       "2     26291\n",
       "8     26165\n",
       "5     26144\n",
       "10    26111\n",
       "7     26094\n",
       "9     26053\n",
       "1     26037\n",
       "4     25968\n",
       "12    25960\n",
       "6     25898\n",
       "Name: registration_month, dtype: int64"
      ]
     },
     "execution_count": 37,
     "metadata": {},
     "output_type": "execute_result"
    }
   ],
   "source": [
    "df['registration_month'] = df['registration_month'].apply(lambda v: random.choice([1,2,3,4,5,6,7,8,9,10,11,12]))\n",
    "df['registration_month'].value_counts(dropna=False)"
   ]
  },
  {
   "cell_type": "code",
   "execution_count": 38,
   "metadata": {},
   "outputs": [
    {
     "data": {
      "text/html": [
       "<div>\n",
       "<style scoped>\n",
       "    .dataframe tbody tr th:only-of-type {\n",
       "        vertical-align: middle;\n",
       "    }\n",
       "\n",
       "    .dataframe tbody tr th {\n",
       "        vertical-align: top;\n",
       "    }\n",
       "\n",
       "    .dataframe thead th {\n",
       "        text-align: right;\n",
       "    }\n",
       "</style>\n",
       "<table border=\"1\" class=\"dataframe\">\n",
       "  <thead>\n",
       "    <tr style=\"text-align: right;\">\n",
       "      <th></th>\n",
       "      <th>price</th>\n",
       "      <th>vehicle_type</th>\n",
       "      <th>registration_year</th>\n",
       "      <th>gearbox</th>\n",
       "      <th>power</th>\n",
       "      <th>model</th>\n",
       "      <th>milage</th>\n",
       "      <th>registration_month</th>\n",
       "      <th>fuel_type</th>\n",
       "      <th>brand</th>\n",
       "      <th>not_repaired</th>\n",
       "    </tr>\n",
       "  </thead>\n",
       "  <tbody>\n",
       "  </tbody>\n",
       "</table>\n",
       "</div>"
      ],
      "text/plain": [
       "Empty DataFrame\n",
       "Columns: [price, vehicle_type, registration_year, gearbox, power, model, milage, registration_month, fuel_type, brand, not_repaired]\n",
       "Index: []"
      ]
     },
     "execution_count": 38,
     "metadata": {},
     "output_type": "execute_result"
    }
   ],
   "source": [
    "df.query('registration_month == 0')"
   ]
  },
  {
   "cell_type": "code",
   "execution_count": 39,
   "metadata": {},
   "outputs": [
    {
     "data": {
      "text/plain": [
       "petrol      196403\n",
       "gasoline     92275\n",
       "NaN          19160\n",
       "lpg           4711\n",
       "cng            511\n",
       "hybrid         198\n",
       "other          113\n",
       "electric        63\n",
       "Name: fuel_type, dtype: int64"
      ]
     },
     "execution_count": 39,
     "metadata": {},
     "output_type": "execute_result"
    }
   ],
   "source": [
    "df['fuel_type'].value_counts(dropna=False)"
   ]
  },
  {
   "cell_type": "markdown",
   "metadata": {},
   "source": [
    "__We will fill in the missing values using the influence of model since usually the fuel type is consistent with model.__"
   ]
  },
  {
   "cell_type": "code",
   "execution_count": 40,
   "metadata": {},
   "outputs": [
    {
     "data": {
      "text/plain": [
       "petrol      212129\n",
       "gasoline     95709\n",
       "lpg           4711\n",
       "cng            511\n",
       "hybrid         198\n",
       "other          113\n",
       "electric        63\n",
       "Name: fuel_type, dtype: int64"
      ]
     },
     "execution_count": 40,
     "metadata": {},
     "output_type": "execute_result"
    }
   ],
   "source": [
    "df['fuel_type'].fillna(df.groupby('model')['fuel_type']\\\n",
    "                          .transform(lambda x:x.value_counts().index[0]), inplace=True)\n",
    "df['fuel_type'].value_counts(dropna=False)"
   ]
  },
  {
   "cell_type": "code",
   "execution_count": 41,
   "metadata": {},
   "outputs": [
    {
     "data": {
      "text/plain": [
       "no     229472\n",
       "NaN     53015\n",
       "yes     30947\n",
       "Name: not_repaired, dtype: int64"
      ]
     },
     "execution_count": 41,
     "metadata": {},
     "output_type": "execute_result"
    }
   ],
   "source": [
    "df['not_repaired'].value_counts(dropna=False)"
   ]
  },
  {
   "cell_type": "markdown",
   "metadata": {},
   "source": [
    "__Since no is the most common value, we will replace the missing values with no.__"
   ]
  },
  {
   "cell_type": "code",
   "execution_count": 42,
   "metadata": {},
   "outputs": [
    {
     "data": {
      "text/plain": [
       "no     282487\n",
       "yes     30947\n",
       "Name: not_repaired, dtype: int64"
      ]
     },
     "execution_count": 42,
     "metadata": {},
     "output_type": "execute_result"
    }
   ],
   "source": [
    "df['not_repaired'].fillna('no', inplace=True)\n",
    "df['not_repaired'].value_counts(dropna=False)"
   ]
  },
  {
   "cell_type": "markdown",
   "metadata": {},
   "source": [
    "__Now we will check to for any missed missing values, reset the index, and look at the percentage of the original data we deleted.__"
   ]
  },
  {
   "cell_type": "code",
   "execution_count": 43,
   "metadata": {},
   "outputs": [
    {
     "name": "stdout",
     "output_type": "stream",
     "text": [
      "\n",
      "Columns Missing Values\n",
      "                      type  cnt  pct\n",
      "price                int64    0  0.0\n",
      "vehicle_type        object    0  0.0\n",
      "registration_year    int64    0  0.0\n",
      "gearbox             object    0  0.0\n",
      "power                int64    0  0.0\n",
      "model               object    0  0.0\n",
      "milage               int64    0  0.0\n",
      "registration_month   int64    0  0.0\n",
      "fuel_type           object    0  0.0\n",
      "brand               object    0  0.0\n",
      "not_repaired        object    0  0.0\n"
     ]
    }
   ],
   "source": [
    "missing_stats(df)"
   ]
  },
  {
   "cell_type": "code",
   "execution_count": 44,
   "metadata": {},
   "outputs": [
    {
     "data": {
      "text/html": [
       "<div>\n",
       "<style scoped>\n",
       "    .dataframe tbody tr th:only-of-type {\n",
       "        vertical-align: middle;\n",
       "    }\n",
       "\n",
       "    .dataframe tbody tr th {\n",
       "        vertical-align: top;\n",
       "    }\n",
       "\n",
       "    .dataframe thead th {\n",
       "        text-align: right;\n",
       "    }\n",
       "</style>\n",
       "<table border=\"1\" class=\"dataframe\">\n",
       "  <thead>\n",
       "    <tr style=\"text-align: right;\">\n",
       "      <th></th>\n",
       "      <th>price</th>\n",
       "      <th>vehicle_type</th>\n",
       "      <th>registration_year</th>\n",
       "      <th>gearbox</th>\n",
       "      <th>power</th>\n",
       "      <th>model</th>\n",
       "      <th>milage</th>\n",
       "      <th>registration_month</th>\n",
       "      <th>fuel_type</th>\n",
       "      <th>brand</th>\n",
       "      <th>not_repaired</th>\n",
       "    </tr>\n",
       "  </thead>\n",
       "  <tbody>\n",
       "    <tr>\n",
       "      <td>0</td>\n",
       "      <td>480</td>\n",
       "      <td>sedan</td>\n",
       "      <td>1993</td>\n",
       "      <td>manual</td>\n",
       "      <td>0</td>\n",
       "      <td>golf</td>\n",
       "      <td>150000</td>\n",
       "      <td>11</td>\n",
       "      <td>petrol</td>\n",
       "      <td>volkswagen</td>\n",
       "      <td>no</td>\n",
       "    </tr>\n",
       "    <tr>\n",
       "      <td>2</td>\n",
       "      <td>9800</td>\n",
       "      <td>suv</td>\n",
       "      <td>2004</td>\n",
       "      <td>auto</td>\n",
       "      <td>163</td>\n",
       "      <td>grand</td>\n",
       "      <td>125000</td>\n",
       "      <td>2</td>\n",
       "      <td>gasoline</td>\n",
       "      <td>jeep</td>\n",
       "      <td>no</td>\n",
       "    </tr>\n",
       "    <tr>\n",
       "      <td>3</td>\n",
       "      <td>1500</td>\n",
       "      <td>small</td>\n",
       "      <td>2001</td>\n",
       "      <td>manual</td>\n",
       "      <td>75</td>\n",
       "      <td>golf</td>\n",
       "      <td>150000</td>\n",
       "      <td>1</td>\n",
       "      <td>petrol</td>\n",
       "      <td>volkswagen</td>\n",
       "      <td>no</td>\n",
       "    </tr>\n",
       "    <tr>\n",
       "      <td>4</td>\n",
       "      <td>3600</td>\n",
       "      <td>small</td>\n",
       "      <td>2008</td>\n",
       "      <td>manual</td>\n",
       "      <td>69</td>\n",
       "      <td>fabia</td>\n",
       "      <td>90000</td>\n",
       "      <td>12</td>\n",
       "      <td>gasoline</td>\n",
       "      <td>skoda</td>\n",
       "      <td>no</td>\n",
       "    </tr>\n",
       "    <tr>\n",
       "      <td>5</td>\n",
       "      <td>650</td>\n",
       "      <td>sedan</td>\n",
       "      <td>1995</td>\n",
       "      <td>manual</td>\n",
       "      <td>102</td>\n",
       "      <td>3er</td>\n",
       "      <td>150000</td>\n",
       "      <td>5</td>\n",
       "      <td>petrol</td>\n",
       "      <td>bmw</td>\n",
       "      <td>yes</td>\n",
       "    </tr>\n",
       "  </tbody>\n",
       "</table>\n",
       "</div>"
      ],
      "text/plain": [
       "   price vehicle_type  registration_year gearbox  power  model  milage  \\\n",
       "0    480        sedan               1993  manual      0   golf  150000   \n",
       "2   9800          suv               2004    auto    163  grand  125000   \n",
       "3   1500        small               2001  manual     75   golf  150000   \n",
       "4   3600        small               2008  manual     69  fabia   90000   \n",
       "5    650        sedan               1995  manual    102    3er  150000   \n",
       "\n",
       "   registration_month fuel_type       brand not_repaired  \n",
       "0                  11    petrol  volkswagen           no  \n",
       "2                   2  gasoline        jeep           no  \n",
       "3                   1    petrol  volkswagen           no  \n",
       "4                  12  gasoline       skoda           no  \n",
       "5                   5    petrol         bmw          yes  "
      ]
     },
     "execution_count": 44,
     "metadata": {},
     "output_type": "execute_result"
    }
   ],
   "source": [
    "df.head()"
   ]
  },
  {
   "cell_type": "code",
   "execution_count": 45,
   "metadata": {},
   "outputs": [
    {
     "data": {
      "text/html": [
       "<div>\n",
       "<style scoped>\n",
       "    .dataframe tbody tr th:only-of-type {\n",
       "        vertical-align: middle;\n",
       "    }\n",
       "\n",
       "    .dataframe tbody tr th {\n",
       "        vertical-align: top;\n",
       "    }\n",
       "\n",
       "    .dataframe thead th {\n",
       "        text-align: right;\n",
       "    }\n",
       "</style>\n",
       "<table border=\"1\" class=\"dataframe\">\n",
       "  <thead>\n",
       "    <tr style=\"text-align: right;\">\n",
       "      <th></th>\n",
       "      <th>index</th>\n",
       "      <th>price</th>\n",
       "      <th>vehicle_type</th>\n",
       "      <th>registration_year</th>\n",
       "      <th>gearbox</th>\n",
       "      <th>power</th>\n",
       "      <th>model</th>\n",
       "      <th>milage</th>\n",
       "      <th>registration_month</th>\n",
       "      <th>fuel_type</th>\n",
       "      <th>brand</th>\n",
       "      <th>not_repaired</th>\n",
       "    </tr>\n",
       "  </thead>\n",
       "  <tbody>\n",
       "    <tr>\n",
       "      <td>0</td>\n",
       "      <td>0</td>\n",
       "      <td>480</td>\n",
       "      <td>sedan</td>\n",
       "      <td>1993</td>\n",
       "      <td>manual</td>\n",
       "      <td>0</td>\n",
       "      <td>golf</td>\n",
       "      <td>150000</td>\n",
       "      <td>11</td>\n",
       "      <td>petrol</td>\n",
       "      <td>volkswagen</td>\n",
       "      <td>no</td>\n",
       "    </tr>\n",
       "    <tr>\n",
       "      <td>1</td>\n",
       "      <td>2</td>\n",
       "      <td>9800</td>\n",
       "      <td>suv</td>\n",
       "      <td>2004</td>\n",
       "      <td>auto</td>\n",
       "      <td>163</td>\n",
       "      <td>grand</td>\n",
       "      <td>125000</td>\n",
       "      <td>2</td>\n",
       "      <td>gasoline</td>\n",
       "      <td>jeep</td>\n",
       "      <td>no</td>\n",
       "    </tr>\n",
       "    <tr>\n",
       "      <td>2</td>\n",
       "      <td>3</td>\n",
       "      <td>1500</td>\n",
       "      <td>small</td>\n",
       "      <td>2001</td>\n",
       "      <td>manual</td>\n",
       "      <td>75</td>\n",
       "      <td>golf</td>\n",
       "      <td>150000</td>\n",
       "      <td>1</td>\n",
       "      <td>petrol</td>\n",
       "      <td>volkswagen</td>\n",
       "      <td>no</td>\n",
       "    </tr>\n",
       "    <tr>\n",
       "      <td>3</td>\n",
       "      <td>4</td>\n",
       "      <td>3600</td>\n",
       "      <td>small</td>\n",
       "      <td>2008</td>\n",
       "      <td>manual</td>\n",
       "      <td>69</td>\n",
       "      <td>fabia</td>\n",
       "      <td>90000</td>\n",
       "      <td>12</td>\n",
       "      <td>gasoline</td>\n",
       "      <td>skoda</td>\n",
       "      <td>no</td>\n",
       "    </tr>\n",
       "    <tr>\n",
       "      <td>4</td>\n",
       "      <td>5</td>\n",
       "      <td>650</td>\n",
       "      <td>sedan</td>\n",
       "      <td>1995</td>\n",
       "      <td>manual</td>\n",
       "      <td>102</td>\n",
       "      <td>3er</td>\n",
       "      <td>150000</td>\n",
       "      <td>5</td>\n",
       "      <td>petrol</td>\n",
       "      <td>bmw</td>\n",
       "      <td>yes</td>\n",
       "    </tr>\n",
       "  </tbody>\n",
       "</table>\n",
       "</div>"
      ],
      "text/plain": [
       "   index  price vehicle_type  registration_year gearbox  power  model  milage  \\\n",
       "0      0    480        sedan               1993  manual      0   golf  150000   \n",
       "1      2   9800          suv               2004    auto    163  grand  125000   \n",
       "2      3   1500        small               2001  manual     75   golf  150000   \n",
       "3      4   3600        small               2008  manual     69  fabia   90000   \n",
       "4      5    650        sedan               1995  manual    102    3er  150000   \n",
       "\n",
       "   registration_month fuel_type       brand not_repaired  \n",
       "0                  11    petrol  volkswagen           no  \n",
       "1                   2  gasoline        jeep           no  \n",
       "2                   1    petrol  volkswagen           no  \n",
       "3                  12  gasoline       skoda           no  \n",
       "4                   5    petrol         bmw          yes  "
      ]
     },
     "execution_count": 45,
     "metadata": {},
     "output_type": "execute_result"
    }
   ],
   "source": [
    "# resetting the DataFrame index\n",
    "df = df.reset_index()\n",
    "df.head(5)"
   ]
  },
  {
   "cell_type": "code",
   "execution_count": 46,
   "metadata": {},
   "outputs": [
    {
     "data": {
      "text/plain": [
       "0.8844848166741448"
      ]
     },
     "execution_count": 46,
     "metadata": {},
     "output_type": "execute_result"
    }
   ],
   "source": [
    "len(df)/original_no_rows"
   ]
  },
  {
   "cell_type": "markdown",
   "metadata": {},
   "source": [
    "__Summary of data preparation__\n",
    "- We dropped several columns, 'date_crawled', 'date_created', 'last_seen', 'num_pictures', 'postal_code', that will not be useful for our analysis.\n",
    "- We eliminated rows where the registration_year > 2016 (the year of the data) or < 1960 (unlikely).\n",
    "- We eliminated rows where the price = 0.\n",
    "- We eliminated the rows where a value for model was missing.\n",
    "- We filled in missing rows in vehicle_type, gearbox, fuel_type, power based on model.\n",
    "- We changed the zero values in registration_month to a randomly assigned # (1-12).\n",
    "- We replaced the NaN values in not_repaired with 'no'.\n",
    "- We verified that no missing values remain.\n",
    "- We note our preparation eliminated almost 12% of the data, but feel confident in the deletion choices."
   ]
  },
  {
   "cell_type": "markdown",
   "metadata": {},
   "source": [
    "## Model training"
   ]
  },
  {
   "cell_type": "code",
   "execution_count": 47,
   "metadata": {},
   "outputs": [],
   "source": [
    "# change into categories for lightBGM and CatBoost\n",
    "categories = ['vehicle_type', 'gearbox', 'model', 'fuel_type', 'brand', 'not_repaired']\n",
    "for col in categories:\n",
    "    df[col] = df[col].astype('category')"
   ]
  },
  {
   "cell_type": "code",
   "execution_count": 48,
   "metadata": {},
   "outputs": [],
   "source": [
    "# create feature and target variables\n",
    "target = df['price']\n",
    "features = df.drop(['price'], axis=1)"
   ]
  },
  {
   "cell_type": "code",
   "execution_count": 49,
   "metadata": {},
   "outputs": [],
   "source": [
    "# use one hot encoding to turn the categories into numeric\n",
    "features_ohe = pd.get_dummies(features, drop_first=True)"
   ]
  },
  {
   "cell_type": "code",
   "execution_count": 50,
   "metadata": {},
   "outputs": [
    {
     "name": "stdout",
     "output_type": "stream",
     "text": [
      "Train target and features and percentage\n",
      " (188060,) (188060, 307) pct 0.5999987238142639\n",
      "Valid target and features and percentage\n",
      " (62687,) (62687, 307) pct 0.20000063809286803\n",
      "Test target and features and percentage\n",
      " (62687,) (62687, 307) pct 0.20000063809286803\n"
     ]
    }
   ],
   "source": [
    "# divide data with OHE into 3 groups using 3:1:1 (60%, 20%, 20%) ratio\n",
    "features_train, features_valid, target_train, target_valid = train_test_split(\n",
    "    features_ohe, target, test_size=0.4, random_state = 12345)\n",
    "features_valid, features_test, target_valid, target_test = train_test_split(\n",
    "    features_valid, target_valid, test_size=0.5, shuffle = False)\n",
    "print('Train target and features and percentage\\n', target_train.shape, features_train.shape,\n",
    "      'pct', (len(target_train)/len(df)))\n",
    "print('Valid target and features and percentage\\n', target_valid.shape, features_valid.shape,\n",
    "      'pct', (len(target_valid)/len(df)))\n",
    "print('Test target and features and percentage\\n', target_test.shape, features_test.shape,\n",
    "      'pct', (len(target_test)/len(df)))\n"
   ]
  },
  {
   "cell_type": "code",
   "execution_count": 51,
   "metadata": {},
   "outputs": [
    {
     "name": "stdout",
     "output_type": "stream",
     "text": [
      "Train target and features and percentage\n",
      " (188060,) (188060, 11) pct 0.5999987238142639\n",
      "Valid target and features and percentage\n",
      " (62687,) (62687, 11) pct 0.20000063809286803\n",
      "Test target and features and percentage\n",
      " (62687,) (62687, 11) pct 0.20000063809286803\n"
     ]
    }
   ],
   "source": [
    "# divide data without OHE into 3 groups using 3:1:1 (60%, 20%, 20%) ratio\n",
    "features_train_2, features_valid_2, target_train_2, target_valid_2 = train_test_split(\n",
    "    features, target, test_size=0.4, random_state = 12345)\n",
    "features_valid_2, features_test_2, target_valid_2, target_test_2 = train_test_split(\n",
    "    features_valid_2, target_valid_2, test_size=0.5, shuffle = False)\n",
    "\n",
    "print('Train target and features and percentage\\n', target_train_2.shape, features_train_2.shape,\n",
    "      'pct', (len(target_train_2)/len(df)))\n",
    "print('Valid target and features and percentage\\n', target_valid_2.shape, features_valid_2.shape,\n",
    "      'pct', (len(target_valid_2)/len(df)))\n",
    "print('Test target and features and percentage\\n', target_test_2.shape, features_test_2.shape,\n",
    "      'pct', (len(target_test_2)/len(df)))"
   ]
  },
  {
   "cell_type": "code",
   "execution_count": 52,
   "metadata": {},
   "outputs": [],
   "source": [
    "# set up rmse calculation\n",
    "def find_rmse(target_test, predictions):\n",
    "    return round(mean_squared_error(target_test, predictions) ** 0.5, 2)\n",
    "rmse = make_scorer(find_rmse, greater_is_better=False)"
   ]
  },
  {
   "cell_type": "markdown",
   "metadata": {},
   "source": [
    "__Note on timing cells. We used %%time to find the total time elapsed in each cell. However, we wanted to save the time values in variables and discovered %%time does not allow that. Therefore, we manually timed training time and prediction time and took note that their total matched closely with the %%time.__\n",
    "\n",
    "__Looking at base models__"
   ]
  },
  {
   "cell_type": "code",
   "execution_count": 53,
   "metadata": {},
   "outputs": [
    {
     "name": "stdout",
     "output_type": "stream",
     "text": [
      "Linear Regression - Sanity Check\n",
      "RMSE: 2673.154220556299 Training time: 19.875536680221558 Prediction time: 0.2535219192504883\n",
      "CPU times: user 15.7 s, sys: 4.5 s, total: 20.2 s\n",
      "Wall time: 20.2 s\n"
     ]
    }
   ],
   "source": [
    "%%time\n",
    "# linear regression with default parameters\n",
    "lr_model = LinearRegression()\n",
    "\n",
    "start = time.time()\n",
    "lr_model.fit(features_train, target_train)\n",
    "end = time.time()\n",
    "lrtt = end - start\n",
    "\n",
    "start = time.time()\n",
    "predicted_valid = lr_model.predict(features_valid)\n",
    "end = time.time()\n",
    "lrpt = end - start\n",
    "\n",
    "lr_rmse_calc = mean_squared_error(target_valid, predicted_valid)**0.5\n",
    "\n",
    "print('Linear Regression - Sanity Check')\n",
    "print('RMSE:', lr_rmse_calc, 'Training time:', lrtt, 'Prediction time:', lrpt)"
   ]
  },
  {
   "cell_type": "code",
   "execution_count": 54,
   "metadata": {},
   "outputs": [
    {
     "name": "stdout",
     "output_type": "stream",
     "text": [
      "Random Forest Regressor\n",
      "RMSE: 1727.9087596013774 Training time: 60.69512057304382 Prediction time: 0.6225581169128418\n",
      "CPU times: user 1min, sys: 139 ms, total: 1min\n",
      "Wall time: 1min 1s\n"
     ]
    }
   ],
   "source": [
    "%%time\n",
    "# random forest regressor with default parameters\n",
    "rf_model = RandomForestRegressor(random_state=42)\n",
    "\n",
    "start = time.time()\n",
    "rf_model.fit(features_train, target_train)\n",
    "end = time.time()\n",
    "rftt = end - start\n",
    "\n",
    "start = time.time()\n",
    "predicted_valid = rf_model.predict(features_valid)\n",
    "end = time.time()\n",
    "rfpt = end - start\n",
    "\n",
    "rf_rmse_calc = mean_squared_error(target_valid, predicted_valid)**0.5\n",
    "\n",
    "print('Random Forest Regressor')\n",
    "print('RMSE:', rf_rmse_calc, 'Training time:', rftt, 'Prediction time:', rfpt)"
   ]
  },
  {
   "cell_type": "code",
   "execution_count": 55,
   "metadata": {},
   "outputs": [
    {
     "name": "stdout",
     "output_type": "stream",
     "text": [
      "LightGBM with OHE\n",
      "RMSE: 1707.641861082534 Training time: 10.578785419464111 Prediction time: 1.1029925346374512\n",
      "CPU times: user 11.2 s, sys: 351 ms, total: 11.6 s\n",
      "Wall time: 11.7 s\n"
     ]
    }
   ],
   "source": [
    "%%time\n",
    "# lightGBM with OHE \n",
    "lg_model = lgb.LGBMRegressor(random_state=42)\n",
    "\n",
    "start = time.time()\n",
    "lg_model.fit(features_train, target_train)\n",
    "end = time.time()\n",
    "lgohett = end - start\n",
    "\n",
    "start = time.time()\n",
    "predicted_valid = lg_model.predict(features_valid)\n",
    "end = time.time()\n",
    "lgohept = end - start\n",
    "\n",
    "lgohe_rmse_calc = mean_squared_error(target_valid, predicted_valid)**0.5\n",
    "\n",
    "print('LightGBM with OHE')\n",
    "print('RMSE:', lgohe_rmse_calc, 'Training time:', lgohett, 'Prediction time:', lgohept)"
   ]
  },
  {
   "cell_type": "code",
   "execution_count": 56,
   "metadata": {},
   "outputs": [
    {
     "name": "stdout",
     "output_type": "stream",
     "text": [
      "LightGBM without OHE\n",
      "RMSE: 1643.351067294688 Training time: 8.479040384292603 Prediction time: 0.9047174453735352\n",
      "CPU times: user 9.2 s, sys: 43.4 ms, total: 9.24 s\n",
      "Wall time: 9.39 s\n"
     ]
    }
   ],
   "source": [
    "%%time\n",
    "# lightGBM without OHE \n",
    "lg_model_2 = lgb.LGBMRegressor(random_state=42)\n",
    "\n",
    "start = time.time()\n",
    "lg_model_2.fit(features_train_2, target_train_2, categorical_feature=categories)\n",
    "end = time.time()\n",
    "lgtt = end - start\n",
    "\n",
    "start = time.time()\n",
    "predicted_valid = lg_model_2.predict(features_valid_2)\n",
    "end = time.time()\n",
    "lgpt = end - start\n",
    "\n",
    "lg_rmse_calc = mean_squared_error(target_valid_2, predicted_valid)**0.5\n",
    "\n",
    "print('LightGBM without OHE')\n",
    "print('RMSE:', lg_rmse_calc, 'Training time:', lgtt, 'Prediction time:', lgpt)"
   ]
  },
  {
   "cell_type": "code",
   "execution_count": 57,
   "metadata": {
    "scrolled": true
   },
   "outputs": [
    {
     "name": "stdout",
     "output_type": "stream",
     "text": [
      "0:\tlearn: 4477.9699145\ttotal: 142ms\tremaining: 2m 21s\n",
      "1:\tlearn: 4391.9709932\ttotal: 332ms\tremaining: 2m 45s\n",
      "2:\tlearn: 4308.0746711\ttotal: 529ms\tremaining: 2m 55s\n",
      "3:\tlearn: 4227.9910306\ttotal: 637ms\tremaining: 2m 38s\n",
      "4:\tlearn: 4151.0618149\ttotal: 829ms\tremaining: 2m 44s\n",
      "5:\tlearn: 4079.2342586\ttotal: 936ms\tremaining: 2m 35s\n",
      "6:\tlearn: 4006.5334079\ttotal: 1.13s\tremaining: 2m 40s\n",
      "7:\tlearn: 3936.3632976\ttotal: 1.24s\tremaining: 2m 33s\n",
      "8:\tlearn: 3870.6813826\ttotal: 1.43s\tremaining: 2m 37s\n",
      "9:\tlearn: 3804.0220973\ttotal: 1.62s\tremaining: 2m 40s\n",
      "10:\tlearn: 3740.0336401\ttotal: 1.73s\tremaining: 2m 35s\n",
      "11:\tlearn: 3681.7381368\ttotal: 1.92s\tremaining: 2m 38s\n",
      "12:\tlearn: 3623.1264956\ttotal: 2.03s\tremaining: 2m 34s\n",
      "13:\tlearn: 3566.3356465\ttotal: 2.22s\tremaining: 2m 36s\n",
      "14:\tlearn: 3513.3201315\ttotal: 2.33s\tremaining: 2m 32s\n",
      "15:\tlearn: 3461.0498985\ttotal: 2.52s\tremaining: 2m 35s\n",
      "16:\tlearn: 3410.9187350\ttotal: 2.72s\tremaining: 2m 37s\n",
      "17:\tlearn: 3363.4008978\ttotal: 2.82s\tremaining: 2m 34s\n",
      "18:\tlearn: 3315.8216750\ttotal: 3.02s\tremaining: 2m 35s\n",
      "19:\tlearn: 3271.6482875\ttotal: 3.12s\tremaining: 2m 32s\n",
      "20:\tlearn: 3229.8520020\ttotal: 3.31s\tremaining: 2m 34s\n",
      "21:\tlearn: 3187.0258246\ttotal: 3.42s\tremaining: 2m 32s\n",
      "22:\tlearn: 3146.4567938\ttotal: 3.62s\tremaining: 2m 33s\n",
      "23:\tlearn: 3106.7899510\ttotal: 3.73s\tremaining: 2m 31s\n",
      "24:\tlearn: 3069.0715953\ttotal: 3.92s\tremaining: 2m 32s\n",
      "25:\tlearn: 3033.5217459\ttotal: 4.11s\tremaining: 2m 34s\n",
      "26:\tlearn: 2999.6259249\ttotal: 4.31s\tremaining: 2m 35s\n",
      "27:\tlearn: 2966.5792353\ttotal: 4.41s\tremaining: 2m 33s\n",
      "28:\tlearn: 2934.5516189\ttotal: 4.61s\tremaining: 2m 34s\n",
      "29:\tlearn: 2905.2861125\ttotal: 4.72s\tremaining: 2m 32s\n",
      "30:\tlearn: 2875.5556845\ttotal: 4.91s\tremaining: 2m 33s\n",
      "31:\tlearn: 2847.4408112\ttotal: 5.01s\tremaining: 2m 31s\n",
      "32:\tlearn: 2818.7936217\ttotal: 5.21s\tremaining: 2m 32s\n",
      "33:\tlearn: 2792.0956612\ttotal: 5.31s\tremaining: 2m 30s\n",
      "34:\tlearn: 2765.2341281\ttotal: 5.51s\tremaining: 2m 32s\n",
      "35:\tlearn: 2740.4109282\ttotal: 5.7s\tremaining: 2m 32s\n",
      "36:\tlearn: 2716.6803729\ttotal: 5.81s\tremaining: 2m 31s\n",
      "37:\tlearn: 2694.2707826\ttotal: 6s\tremaining: 2m 31s\n",
      "38:\tlearn: 2672.1306171\ttotal: 6.11s\tremaining: 2m 30s\n",
      "39:\tlearn: 2651.3022694\ttotal: 6.3s\tremaining: 2m 31s\n",
      "40:\tlearn: 2630.6515543\ttotal: 6.42s\tremaining: 2m 30s\n",
      "41:\tlearn: 2610.5187371\ttotal: 6.6s\tremaining: 2m 30s\n",
      "42:\tlearn: 2592.0745790\ttotal: 6.71s\tremaining: 2m 29s\n",
      "43:\tlearn: 2573.7207586\ttotal: 6.9s\tremaining: 2m 29s\n",
      "44:\tlearn: 2556.3392246\ttotal: 7.09s\tremaining: 2m 30s\n",
      "45:\tlearn: 2539.6075866\ttotal: 7.2s\tremaining: 2m 29s\n",
      "46:\tlearn: 2523.6404781\ttotal: 7.39s\tremaining: 2m 29s\n",
      "47:\tlearn: 2507.6527716\ttotal: 7.5s\tremaining: 2m 28s\n",
      "48:\tlearn: 2492.1046496\ttotal: 7.69s\tremaining: 2m 29s\n",
      "49:\tlearn: 2477.5607850\ttotal: 7.8s\tremaining: 2m 28s\n",
      "50:\tlearn: 2462.7070823\ttotal: 7.99s\tremaining: 2m 28s\n",
      "51:\tlearn: 2448.8595647\ttotal: 8.1s\tremaining: 2m 27s\n",
      "52:\tlearn: 2435.1493685\ttotal: 8.29s\tremaining: 2m 28s\n",
      "53:\tlearn: 2422.7754526\ttotal: 8.4s\tremaining: 2m 27s\n",
      "54:\tlearn: 2410.4614146\ttotal: 8.59s\tremaining: 2m 27s\n",
      "55:\tlearn: 2398.6107812\ttotal: 8.7s\tremaining: 2m 26s\n",
      "56:\tlearn: 2387.0693854\ttotal: 8.89s\tremaining: 2m 27s\n",
      "57:\tlearn: 2376.5001097\ttotal: 9s\tremaining: 2m 26s\n",
      "58:\tlearn: 2366.2038902\ttotal: 9.19s\tremaining: 2m 26s\n",
      "59:\tlearn: 2355.7404226\ttotal: 9.38s\tremaining: 2m 26s\n",
      "60:\tlearn: 2345.5728509\ttotal: 9.49s\tremaining: 2m 26s\n",
      "61:\tlearn: 2335.8665182\ttotal: 9.68s\tremaining: 2m 26s\n",
      "62:\tlearn: 2326.8031188\ttotal: 9.79s\tremaining: 2m 25s\n",
      "63:\tlearn: 2317.8900809\ttotal: 9.98s\tremaining: 2m 25s\n",
      "64:\tlearn: 2309.5478752\ttotal: 10.1s\tremaining: 2m 25s\n",
      "65:\tlearn: 2300.8612051\ttotal: 10.3s\tremaining: 2m 25s\n",
      "66:\tlearn: 2292.4043982\ttotal: 10.4s\tremaining: 2m 24s\n",
      "67:\tlearn: 2284.1208856\ttotal: 10.6s\tremaining: 2m 24s\n",
      "68:\tlearn: 2276.4007775\ttotal: 10.7s\tremaining: 2m 24s\n",
      "69:\tlearn: 2266.1215171\ttotal: 10.9s\tremaining: 2m 24s\n",
      "70:\tlearn: 2256.7297713\ttotal: 11s\tremaining: 2m 23s\n",
      "71:\tlearn: 2249.2651979\ttotal: 11.2s\tremaining: 2m 24s\n",
      "72:\tlearn: 2241.6326414\ttotal: 11.3s\tremaining: 2m 23s\n",
      "73:\tlearn: 2234.5856190\ttotal: 11.5s\tremaining: 2m 23s\n",
      "74:\tlearn: 2228.1756588\ttotal: 11.6s\tremaining: 2m 22s\n",
      "75:\tlearn: 2221.6118807\ttotal: 11.8s\tremaining: 2m 23s\n",
      "76:\tlearn: 2215.0040751\ttotal: 11.9s\tremaining: 2m 22s\n",
      "77:\tlearn: 2207.3241269\ttotal: 12.1s\tremaining: 2m 22s\n",
      "78:\tlearn: 2201.3992562\ttotal: 12.2s\tremaining: 2m 22s\n",
      "79:\tlearn: 2195.8267222\ttotal: 12.4s\tremaining: 2m 22s\n",
      "80:\tlearn: 2189.3373105\ttotal: 12.6s\tremaining: 2m 22s\n",
      "81:\tlearn: 2183.2897577\ttotal: 12.7s\tremaining: 2m 21s\n",
      "82:\tlearn: 2176.7510328\ttotal: 12.9s\tremaining: 2m 22s\n",
      "83:\tlearn: 2171.6249316\ttotal: 13s\tremaining: 2m 21s\n",
      "84:\tlearn: 2166.4830067\ttotal: 13.2s\tremaining: 2m 21s\n",
      "85:\tlearn: 2161.2594438\ttotal: 13.3s\tremaining: 2m 21s\n",
      "86:\tlearn: 2155.2479848\ttotal: 13.5s\tremaining: 2m 21s\n",
      "87:\tlearn: 2150.1669821\ttotal: 13.6s\tremaining: 2m 20s\n",
      "88:\tlearn: 2145.3672916\ttotal: 13.8s\tremaining: 2m 20s\n",
      "89:\tlearn: 2140.7504932\ttotal: 13.9s\tremaining: 2m 20s\n",
      "90:\tlearn: 2135.8968277\ttotal: 14.1s\tremaining: 2m 20s\n",
      "91:\tlearn: 2131.1833364\ttotal: 14.2s\tremaining: 2m 19s\n",
      "92:\tlearn: 2126.5771324\ttotal: 14.4s\tremaining: 2m 20s\n",
      "93:\tlearn: 2121.9052883\ttotal: 14.6s\tremaining: 2m 20s\n",
      "94:\tlearn: 2116.6573735\ttotal: 14.7s\tremaining: 2m 19s\n",
      "95:\tlearn: 2112.3511640\ttotal: 14.9s\tremaining: 2m 19s\n",
      "96:\tlearn: 2108.5282840\ttotal: 15s\tremaining: 2m 19s\n",
      "97:\tlearn: 2104.2153455\ttotal: 15.1s\tremaining: 2m 18s\n",
      "98:\tlearn: 2100.3937442\ttotal: 15.3s\tremaining: 2m 18s\n",
      "99:\tlearn: 2095.5127151\ttotal: 15.4s\tremaining: 2m 18s\n",
      "100:\tlearn: 2091.5963059\ttotal: 15.6s\tremaining: 2m 18s\n",
      "101:\tlearn: 2087.8130415\ttotal: 15.7s\tremaining: 2m 17s\n",
      "102:\tlearn: 2084.2712997\ttotal: 15.9s\tremaining: 2m 18s\n",
      "103:\tlearn: 2080.8448273\ttotal: 16s\tremaining: 2m 17s\n",
      "104:\tlearn: 2076.9343320\ttotal: 16.1s\tremaining: 2m 17s\n",
      "105:\tlearn: 2073.9245726\ttotal: 16.3s\tremaining: 2m 17s\n",
      "106:\tlearn: 2070.6393339\ttotal: 16.4s\tremaining: 2m 17s\n",
      "107:\tlearn: 2066.3506226\ttotal: 16.6s\tremaining: 2m 16s\n",
      "108:\tlearn: 2063.1048192\ttotal: 16.7s\tremaining: 2m 16s\n",
      "109:\tlearn: 2059.6078113\ttotal: 16.8s\tremaining: 2m 16s\n",
      "110:\tlearn: 2055.9821200\ttotal: 17s\tremaining: 2m 15s\n",
      "111:\tlearn: 2053.0516353\ttotal: 17.1s\tremaining: 2m 15s\n",
      "112:\tlearn: 2050.0600423\ttotal: 17.3s\tremaining: 2m 15s\n",
      "113:\tlearn: 2047.2474945\ttotal: 17.4s\tremaining: 2m 15s\n",
      "114:\tlearn: 2044.6571697\ttotal: 17.5s\tremaining: 2m 15s\n",
      "115:\tlearn: 2041.7100552\ttotal: 17.7s\tremaining: 2m 14s\n",
      "116:\tlearn: 2038.6847036\ttotal: 17.8s\tremaining: 2m 14s\n",
      "117:\tlearn: 2035.8305585\ttotal: 18s\tremaining: 2m 14s\n",
      "118:\tlearn: 2032.8568755\ttotal: 18.1s\tremaining: 2m 14s\n",
      "119:\tlearn: 2030.4943088\ttotal: 18.3s\tremaining: 2m 14s\n",
      "120:\tlearn: 2028.0787149\ttotal: 18.4s\tremaining: 2m 13s\n",
      "121:\tlearn: 2025.8444197\ttotal: 18.6s\tremaining: 2m 14s\n",
      "122:\tlearn: 2023.2037199\ttotal: 18.7s\tremaining: 2m 13s\n",
      "123:\tlearn: 2020.5295558\ttotal: 18.9s\tremaining: 2m 13s\n",
      "124:\tlearn: 2018.0881927\ttotal: 19s\tremaining: 2m 13s\n",
      "125:\tlearn: 2015.9885695\ttotal: 19.1s\tremaining: 2m 12s\n",
      "126:\tlearn: 2014.0135314\ttotal: 19.3s\tremaining: 2m 12s\n",
      "127:\tlearn: 2011.9391792\ttotal: 19.4s\tremaining: 2m 12s\n",
      "128:\tlearn: 2009.5774982\ttotal: 19.6s\tremaining: 2m 12s\n",
      "129:\tlearn: 2007.6706752\ttotal: 19.7s\tremaining: 2m 12s\n",
      "130:\tlearn: 2005.2817125\ttotal: 19.9s\tremaining: 2m 12s\n",
      "131:\tlearn: 2002.9514471\ttotal: 20s\tremaining: 2m 11s\n",
      "132:\tlearn: 2001.1729556\ttotal: 20.2s\tremaining: 2m 11s\n",
      "133:\tlearn: 1999.3009096\ttotal: 20.3s\tremaining: 2m 11s\n",
      "134:\tlearn: 1997.1747150\ttotal: 20.5s\tremaining: 2m 11s\n",
      "135:\tlearn: 1995.2251930\ttotal: 20.6s\tremaining: 2m 11s\n",
      "136:\tlearn: 1992.1409395\ttotal: 20.8s\tremaining: 2m 11s\n",
      "137:\tlearn: 1990.1309023\ttotal: 20.9s\tremaining: 2m 10s\n",
      "138:\tlearn: 1988.3655528\ttotal: 21.1s\tremaining: 2m 10s\n",
      "139:\tlearn: 1986.4770999\ttotal: 21.2s\tremaining: 2m 10s\n",
      "140:\tlearn: 1984.4417399\ttotal: 21.4s\tremaining: 2m 10s\n",
      "141:\tlearn: 1982.3698528\ttotal: 21.5s\tremaining: 2m 10s\n",
      "142:\tlearn: 1980.6738103\ttotal: 21.7s\tremaining: 2m 10s\n",
      "143:\tlearn: 1978.0806150\ttotal: 21.8s\tremaining: 2m 9s\n",
      "144:\tlearn: 1976.3785406\ttotal: 22s\tremaining: 2m 9s\n",
      "145:\tlearn: 1974.8985796\ttotal: 22.1s\tremaining: 2m 9s\n",
      "146:\tlearn: 1973.0383232\ttotal: 22.3s\tremaining: 2m 9s\n",
      "147:\tlearn: 1971.1917723\ttotal: 22.4s\tremaining: 2m 9s\n",
      "148:\tlearn: 1969.7453502\ttotal: 22.6s\tremaining: 2m 9s\n",
      "149:\tlearn: 1968.1455549\ttotal: 22.7s\tremaining: 2m 8s\n",
      "150:\tlearn: 1966.4605683\ttotal: 22.9s\tremaining: 2m 8s\n",
      "151:\tlearn: 1964.8488716\ttotal: 23s\tremaining: 2m 8s\n",
      "152:\tlearn: 1962.6071285\ttotal: 23.2s\tremaining: 2m 8s\n",
      "153:\tlearn: 1960.9422567\ttotal: 23.3s\tremaining: 2m 8s\n",
      "154:\tlearn: 1959.2598796\ttotal: 23.5s\tremaining: 2m 8s\n",
      "155:\tlearn: 1957.7859129\ttotal: 23.6s\tremaining: 2m 7s\n",
      "156:\tlearn: 1955.7422659\ttotal: 23.8s\tremaining: 2m 7s\n",
      "157:\tlearn: 1954.4584477\ttotal: 23.9s\tremaining: 2m 7s\n",
      "158:\tlearn: 1953.0527680\ttotal: 24.1s\tremaining: 2m 7s\n",
      "159:\tlearn: 1951.7933050\ttotal: 24.2s\tremaining: 2m 7s\n",
      "160:\tlearn: 1949.8974957\ttotal: 24.4s\tremaining: 2m 7s\n",
      "161:\tlearn: 1948.5505142\ttotal: 24.5s\tremaining: 2m 6s\n",
      "162:\tlearn: 1947.1999535\ttotal: 24.7s\tremaining: 2m 6s\n",
      "163:\tlearn: 1945.6581135\ttotal: 24.8s\tremaining: 2m 6s\n",
      "164:\tlearn: 1944.4622244\ttotal: 25s\tremaining: 2m 6s\n",
      "165:\tlearn: 1942.2149461\ttotal: 25.1s\tremaining: 2m 6s\n",
      "166:\tlearn: 1940.1287609\ttotal: 25.3s\tremaining: 2m 6s\n",
      "167:\tlearn: 1938.9182303\ttotal: 25.4s\tremaining: 2m 5s\n",
      "168:\tlearn: 1936.9711175\ttotal: 25.5s\tremaining: 2m 5s\n",
      "169:\tlearn: 1935.7860744\ttotal: 25.7s\tremaining: 2m 5s\n",
      "170:\tlearn: 1934.8463982\ttotal: 25.8s\tremaining: 2m 5s\n",
      "171:\tlearn: 1933.5116460\ttotal: 26s\tremaining: 2m 5s\n",
      "172:\tlearn: 1932.5122943\ttotal: 26.1s\tremaining: 2m 4s\n",
      "173:\tlearn: 1930.8655983\ttotal: 26.3s\tremaining: 2m 4s\n",
      "174:\tlearn: 1929.5608856\ttotal: 26.4s\tremaining: 2m 4s\n",
      "175:\tlearn: 1928.6423739\ttotal: 26.5s\tremaining: 2m 4s\n",
      "176:\tlearn: 1927.5807828\ttotal: 26.7s\tremaining: 2m 4s\n",
      "177:\tlearn: 1926.4828110\ttotal: 26.8s\tremaining: 2m 3s\n",
      "178:\tlearn: 1925.0600421\ttotal: 27s\tremaining: 2m 3s\n",
      "179:\tlearn: 1923.7607798\ttotal: 27.1s\tremaining: 2m 3s\n",
      "180:\tlearn: 1922.0624424\ttotal: 27.3s\tremaining: 2m 3s\n",
      "181:\tlearn: 1920.9408449\ttotal: 27.4s\tremaining: 2m 3s\n",
      "182:\tlearn: 1919.7999401\ttotal: 27.6s\tremaining: 2m 3s\n",
      "183:\tlearn: 1918.9103356\ttotal: 27.7s\tremaining: 2m 2s\n",
      "184:\tlearn: 1917.9235227\ttotal: 27.8s\tremaining: 2m 2s\n",
      "185:\tlearn: 1916.8477118\ttotal: 28s\tremaining: 2m 2s\n",
      "186:\tlearn: 1916.0768621\ttotal: 28.1s\tremaining: 2m 2s\n",
      "187:\tlearn: 1914.6039748\ttotal: 28.3s\tremaining: 2m 2s\n",
      "188:\tlearn: 1912.7828611\ttotal: 28.4s\tremaining: 2m 1s\n",
      "189:\tlearn: 1911.6459297\ttotal: 28.6s\tremaining: 2m 1s\n",
      "190:\tlearn: 1910.5266139\ttotal: 28.7s\tremaining: 2m 1s\n",
      "191:\tlearn: 1909.3741781\ttotal: 28.9s\tremaining: 2m 1s\n",
      "192:\tlearn: 1908.0239023\ttotal: 29s\tremaining: 2m 1s\n",
      "193:\tlearn: 1906.8345919\ttotal: 29.2s\tremaining: 2m 1s\n",
      "194:\tlearn: 1906.0439378\ttotal: 29.3s\tremaining: 2m\n",
      "195:\tlearn: 1905.3466664\ttotal: 29.4s\tremaining: 2m\n",
      "196:\tlearn: 1904.5010260\ttotal: 29.6s\tremaining: 2m\n",
      "197:\tlearn: 1903.4998049\ttotal: 29.7s\tremaining: 2m\n",
      "198:\tlearn: 1901.9202597\ttotal: 29.9s\tremaining: 2m\n",
      "199:\tlearn: 1901.1378257\ttotal: 30s\tremaining: 1m 59s\n",
      "200:\tlearn: 1899.8221610\ttotal: 30.2s\tremaining: 1m 59s\n",
      "201:\tlearn: 1898.8371147\ttotal: 30.3s\tremaining: 1m 59s\n",
      "202:\tlearn: 1898.0209540\ttotal: 30.5s\tremaining: 1m 59s\n",
      "203:\tlearn: 1897.1067987\ttotal: 30.6s\tremaining: 1m 59s\n",
      "204:\tlearn: 1895.9804110\ttotal: 30.8s\tremaining: 1m 59s\n",
      "205:\tlearn: 1895.2270892\ttotal: 30.9s\tremaining: 1m 58s\n",
      "206:\tlearn: 1894.1507447\ttotal: 31.1s\tremaining: 1m 59s\n",
      "207:\tlearn: 1892.8602509\ttotal: 31.2s\tremaining: 1m 58s\n",
      "208:\tlearn: 1892.1119024\ttotal: 31.4s\tremaining: 1m 58s\n",
      "209:\tlearn: 1891.3966841\ttotal: 31.5s\tremaining: 1m 58s\n",
      "210:\tlearn: 1890.6819175\ttotal: 31.6s\tremaining: 1m 58s\n",
      "211:\tlearn: 1890.0430209\ttotal: 31.8s\tremaining: 1m 58s\n",
      "212:\tlearn: 1888.8904385\ttotal: 32s\tremaining: 1m 58s\n",
      "213:\tlearn: 1887.7394470\ttotal: 32.1s\tremaining: 1m 57s\n",
      "214:\tlearn: 1886.8603982\ttotal: 32.3s\tremaining: 1m 57s\n",
      "215:\tlearn: 1885.9020720\ttotal: 32.4s\tremaining: 1m 57s\n",
      "216:\tlearn: 1884.3892693\ttotal: 32.6s\tremaining: 1m 57s\n",
      "217:\tlearn: 1883.6755033\ttotal: 32.7s\tremaining: 1m 57s\n",
      "218:\tlearn: 1882.6996213\ttotal: 32.9s\tremaining: 1m 57s\n",
      "219:\tlearn: 1881.8182350\ttotal: 33s\tremaining: 1m 56s\n",
      "220:\tlearn: 1881.0371704\ttotal: 33.2s\tremaining: 1m 56s\n",
      "221:\tlearn: 1880.1114993\ttotal: 33.3s\tremaining: 1m 56s\n",
      "222:\tlearn: 1879.1486837\ttotal: 33.5s\tremaining: 1m 56s\n",
      "223:\tlearn: 1878.4474286\ttotal: 33.6s\tremaining: 1m 56s\n",
      "224:\tlearn: 1877.7998412\ttotal: 33.7s\tremaining: 1m 55s\n",
      "225:\tlearn: 1877.0387801\ttotal: 33.9s\tremaining: 1m 55s\n",
      "226:\tlearn: 1876.2569664\ttotal: 34.1s\tremaining: 1m 55s\n",
      "227:\tlearn: 1874.9666046\ttotal: 34.2s\tremaining: 1m 55s\n",
      "228:\tlearn: 1873.9876388\ttotal: 34.3s\tremaining: 1m 55s\n",
      "229:\tlearn: 1873.2628652\ttotal: 34.5s\tremaining: 1m 55s\n",
      "230:\tlearn: 1872.3903762\ttotal: 34.6s\tremaining: 1m 55s\n",
      "231:\tlearn: 1871.6634038\ttotal: 34.8s\tremaining: 1m 55s\n",
      "232:\tlearn: 1871.0541822\ttotal: 34.9s\tremaining: 1m 55s\n",
      "233:\tlearn: 1870.0764800\ttotal: 35s\tremaining: 1m 54s\n",
      "234:\tlearn: 1869.4687823\ttotal: 35.2s\tremaining: 1m 54s\n",
      "235:\tlearn: 1868.8098693\ttotal: 35.3s\tremaining: 1m 54s\n",
      "236:\tlearn: 1868.2382843\ttotal: 35.5s\tremaining: 1m 54s\n",
      "237:\tlearn: 1867.2276156\ttotal: 35.6s\tremaining: 1m 54s\n",
      "238:\tlearn: 1866.6046943\ttotal: 35.7s\tremaining: 1m 53s\n",
      "239:\tlearn: 1865.9362351\ttotal: 35.9s\tremaining: 1m 53s\n",
      "240:\tlearn: 1865.4333813\ttotal: 36s\tremaining: 1m 53s\n",
      "241:\tlearn: 1864.5257898\ttotal: 36.2s\tremaining: 1m 53s\n",
      "242:\tlearn: 1863.6493016\ttotal: 36.3s\tremaining: 1m 53s\n",
      "243:\tlearn: 1862.5393883\ttotal: 36.5s\tremaining: 1m 53s\n",
      "244:\tlearn: 1861.9109904\ttotal: 36.6s\tremaining: 1m 52s\n",
      "245:\tlearn: 1861.4502487\ttotal: 36.8s\tremaining: 1m 52s\n",
      "246:\tlearn: 1860.6661262\ttotal: 36.9s\tremaining: 1m 52s\n",
      "247:\tlearn: 1859.7818014\ttotal: 37.1s\tremaining: 1m 52s\n",
      "248:\tlearn: 1858.9954028\ttotal: 37.2s\tremaining: 1m 52s\n",
      "249:\tlearn: 1858.2340710\ttotal: 37.3s\tremaining: 1m 52s\n",
      "250:\tlearn: 1857.8129810\ttotal: 37.5s\tremaining: 1m 52s\n",
      "251:\tlearn: 1856.9586686\ttotal: 37.6s\tremaining: 1m 51s\n",
      "252:\tlearn: 1856.0975492\ttotal: 37.8s\tremaining: 1m 51s\n",
      "253:\tlearn: 1855.5186914\ttotal: 37.9s\tremaining: 1m 51s\n",
      "254:\tlearn: 1854.9454798\ttotal: 38.1s\tremaining: 1m 51s\n",
      "255:\tlearn: 1854.4587467\ttotal: 38.2s\tremaining: 1m 51s\n",
      "256:\tlearn: 1853.8119393\ttotal: 38.4s\tremaining: 1m 51s\n",
      "257:\tlearn: 1853.2559347\ttotal: 38.5s\tremaining: 1m 50s\n",
      "258:\tlearn: 1852.8054190\ttotal: 38.6s\tremaining: 1m 50s\n",
      "259:\tlearn: 1852.1592279\ttotal: 38.8s\tremaining: 1m 50s\n",
      "260:\tlearn: 1851.3676724\ttotal: 38.9s\tremaining: 1m 50s\n",
      "261:\tlearn: 1850.4479864\ttotal: 39.1s\tremaining: 1m 50s\n",
      "262:\tlearn: 1849.9707427\ttotal: 39.2s\tremaining: 1m 49s\n",
      "263:\tlearn: 1849.3683665\ttotal: 39.4s\tremaining: 1m 49s\n",
      "264:\tlearn: 1848.7513021\ttotal: 39.5s\tremaining: 1m 49s\n",
      "265:\tlearn: 1848.1272081\ttotal: 39.7s\tremaining: 1m 49s\n",
      "266:\tlearn: 1847.5481160\ttotal: 39.8s\tremaining: 1m 49s\n",
      "267:\tlearn: 1846.7671082\ttotal: 40s\tremaining: 1m 49s\n",
      "268:\tlearn: 1846.3328409\ttotal: 40.1s\tremaining: 1m 49s\n",
      "269:\tlearn: 1845.5972553\ttotal: 40.3s\tremaining: 1m 48s\n",
      "270:\tlearn: 1844.6066011\ttotal: 40.4s\tremaining: 1m 48s\n",
      "271:\tlearn: 1844.0238865\ttotal: 40.6s\tremaining: 1m 48s\n",
      "272:\tlearn: 1843.6024914\ttotal: 40.7s\tremaining: 1m 48s\n",
      "273:\tlearn: 1843.2054294\ttotal: 40.9s\tremaining: 1m 48s\n",
      "274:\tlearn: 1842.6769655\ttotal: 41s\tremaining: 1m 48s\n",
      "275:\tlearn: 1842.0315125\ttotal: 41.2s\tremaining: 1m 48s\n",
      "276:\tlearn: 1841.4702368\ttotal: 41.3s\tremaining: 1m 47s\n",
      "277:\tlearn: 1841.0556493\ttotal: 41.5s\tremaining: 1m 47s\n",
      "278:\tlearn: 1840.4649964\ttotal: 41.6s\tremaining: 1m 47s\n",
      "279:\tlearn: 1840.0070345\ttotal: 41.8s\tremaining: 1m 47s\n",
      "280:\tlearn: 1839.4625208\ttotal: 41.9s\tremaining: 1m 47s\n",
      "281:\tlearn: 1838.9503447\ttotal: 42.1s\tremaining: 1m 47s\n",
      "282:\tlearn: 1838.4186371\ttotal: 42.2s\tremaining: 1m 46s\n",
      "283:\tlearn: 1837.9344310\ttotal: 42.3s\tremaining: 1m 46s\n",
      "284:\tlearn: 1837.2322965\ttotal: 42.5s\tremaining: 1m 46s\n",
      "285:\tlearn: 1836.7562001\ttotal: 42.6s\tremaining: 1m 46s\n",
      "286:\tlearn: 1835.9948639\ttotal: 42.8s\tremaining: 1m 46s\n",
      "287:\tlearn: 1835.4764948\ttotal: 42.9s\tremaining: 1m 46s\n",
      "288:\tlearn: 1835.0594169\ttotal: 43.1s\tremaining: 1m 46s\n",
      "289:\tlearn: 1834.4243728\ttotal: 43.2s\tremaining: 1m 45s\n",
      "290:\tlearn: 1833.7977764\ttotal: 43.4s\tremaining: 1m 45s\n",
      "291:\tlearn: 1833.0122071\ttotal: 43.5s\tremaining: 1m 45s\n",
      "292:\tlearn: 1832.6274131\ttotal: 43.7s\tremaining: 1m 45s\n",
      "293:\tlearn: 1832.2040258\ttotal: 43.8s\tremaining: 1m 45s\n",
      "294:\tlearn: 1831.7682479\ttotal: 44s\tremaining: 1m 45s\n",
      "295:\tlearn: 1831.3699217\ttotal: 44.1s\tremaining: 1m 44s\n",
      "296:\tlearn: 1830.3781133\ttotal: 44.3s\tremaining: 1m 44s\n",
      "297:\tlearn: 1829.8183976\ttotal: 44.4s\tremaining: 1m 44s\n",
      "298:\tlearn: 1829.3567272\ttotal: 44.6s\tremaining: 1m 44s\n",
      "299:\tlearn: 1828.9678113\ttotal: 44.7s\tremaining: 1m 44s\n",
      "300:\tlearn: 1828.3669190\ttotal: 44.8s\tremaining: 1m 44s\n",
      "301:\tlearn: 1828.0015652\ttotal: 45s\tremaining: 1m 43s\n",
      "302:\tlearn: 1827.3861212\ttotal: 45.1s\tremaining: 1m 43s\n",
      "303:\tlearn: 1826.9305029\ttotal: 45.2s\tremaining: 1m 43s\n",
      "304:\tlearn: 1826.6329398\ttotal: 45.4s\tremaining: 1m 43s\n",
      "305:\tlearn: 1826.2908365\ttotal: 45.5s\tremaining: 1m 43s\n",
      "306:\tlearn: 1825.5817413\ttotal: 45.7s\tremaining: 1m 43s\n",
      "307:\tlearn: 1824.9842809\ttotal: 45.8s\tremaining: 1m 42s\n",
      "308:\tlearn: 1824.6085487\ttotal: 46s\tremaining: 1m 42s\n",
      "309:\tlearn: 1824.1217789\ttotal: 46.1s\tremaining: 1m 42s\n",
      "310:\tlearn: 1823.7892708\ttotal: 46.3s\tremaining: 1m 42s\n",
      "311:\tlearn: 1823.3472977\ttotal: 46.4s\tremaining: 1m 42s\n",
      "312:\tlearn: 1823.0534636\ttotal: 46.5s\tremaining: 1m 42s\n",
      "313:\tlearn: 1822.1715602\ttotal: 46.7s\tremaining: 1m 41s\n",
      "314:\tlearn: 1821.8504207\ttotal: 46.8s\tremaining: 1m 41s\n",
      "315:\tlearn: 1821.3525201\ttotal: 47s\tremaining: 1m 41s\n",
      "316:\tlearn: 1820.9216570\ttotal: 47.1s\tremaining: 1m 41s\n",
      "317:\tlearn: 1820.3781542\ttotal: 47.2s\tremaining: 1m 41s\n",
      "318:\tlearn: 1819.9579829\ttotal: 47.4s\tremaining: 1m 41s\n",
      "319:\tlearn: 1819.5693248\ttotal: 47.5s\tremaining: 1m 40s\n",
      "320:\tlearn: 1819.2283930\ttotal: 47.7s\tremaining: 1m 40s\n",
      "321:\tlearn: 1818.7207777\ttotal: 47.8s\tremaining: 1m 40s\n",
      "322:\tlearn: 1818.3016969\ttotal: 48s\tremaining: 1m 40s\n",
      "323:\tlearn: 1818.0334065\ttotal: 48.1s\tremaining: 1m 40s\n",
      "324:\tlearn: 1817.5988892\ttotal: 48.2s\tremaining: 1m 40s\n",
      "325:\tlearn: 1817.0714523\ttotal: 48.4s\tremaining: 1m 39s\n",
      "326:\tlearn: 1816.3924489\ttotal: 48.5s\tremaining: 1m 39s\n",
      "327:\tlearn: 1815.7054326\ttotal: 48.6s\tremaining: 1m 39s\n",
      "328:\tlearn: 1815.2461288\ttotal: 48.8s\tremaining: 1m 39s\n",
      "329:\tlearn: 1814.8294887\ttotal: 48.9s\tremaining: 1m 39s\n",
      "330:\tlearn: 1814.2285435\ttotal: 49.1s\tremaining: 1m 39s\n",
      "331:\tlearn: 1813.9255157\ttotal: 49.2s\tremaining: 1m 38s\n",
      "332:\tlearn: 1813.5618212\ttotal: 49.4s\tremaining: 1m 38s\n",
      "333:\tlearn: 1813.1477947\ttotal: 49.5s\tremaining: 1m 38s\n",
      "334:\tlearn: 1812.9165136\ttotal: 49.6s\tremaining: 1m 38s\n",
      "335:\tlearn: 1812.1941094\ttotal: 49.8s\tremaining: 1m 38s\n",
      "336:\tlearn: 1811.7964418\ttotal: 49.9s\tremaining: 1m 38s\n",
      "337:\tlearn: 1811.5281930\ttotal: 50.1s\tremaining: 1m 38s\n",
      "338:\tlearn: 1810.9358912\ttotal: 50.2s\tremaining: 1m 37s\n",
      "339:\tlearn: 1810.3404516\ttotal: 50.4s\tremaining: 1m 37s\n",
      "340:\tlearn: 1809.7287716\ttotal: 50.5s\tremaining: 1m 37s\n",
      "341:\tlearn: 1809.3542767\ttotal: 50.6s\tremaining: 1m 37s\n",
      "342:\tlearn: 1808.6045523\ttotal: 50.8s\tremaining: 1m 37s\n",
      "343:\tlearn: 1808.2748604\ttotal: 50.9s\tremaining: 1m 36s\n",
      "344:\tlearn: 1807.5985844\ttotal: 51s\tremaining: 1m 36s\n",
      "345:\tlearn: 1807.1200003\ttotal: 51.2s\tremaining: 1m 36s\n",
      "346:\tlearn: 1806.6330401\ttotal: 51.3s\tremaining: 1m 36s\n",
      "347:\tlearn: 1806.2661422\ttotal: 51.5s\tremaining: 1m 36s\n",
      "348:\tlearn: 1805.7567137\ttotal: 51.6s\tremaining: 1m 36s\n",
      "349:\tlearn: 1805.5093300\ttotal: 51.8s\tremaining: 1m 36s\n",
      "350:\tlearn: 1805.2060298\ttotal: 51.9s\tremaining: 1m 36s\n",
      "351:\tlearn: 1804.7337889\ttotal: 52s\tremaining: 1m 35s\n",
      "352:\tlearn: 1804.1028411\ttotal: 52.2s\tremaining: 1m 35s\n",
      "353:\tlearn: 1803.5883674\ttotal: 52.3s\tremaining: 1m 35s\n",
      "354:\tlearn: 1803.1350300\ttotal: 52.5s\tremaining: 1m 35s\n",
      "355:\tlearn: 1802.5671568\ttotal: 52.6s\tremaining: 1m 35s\n",
      "356:\tlearn: 1802.1321407\ttotal: 52.8s\tremaining: 1m 35s\n",
      "357:\tlearn: 1801.7538419\ttotal: 52.9s\tremaining: 1m 34s\n",
      "358:\tlearn: 1801.4653665\ttotal: 53s\tremaining: 1m 34s\n",
      "359:\tlearn: 1801.1125896\ttotal: 53.2s\tremaining: 1m 34s\n",
      "360:\tlearn: 1800.6708854\ttotal: 53.3s\tremaining: 1m 34s\n",
      "361:\tlearn: 1800.3537955\ttotal: 53.4s\tremaining: 1m 34s\n",
      "362:\tlearn: 1800.0967666\ttotal: 53.6s\tremaining: 1m 34s\n",
      "363:\tlearn: 1799.6040562\ttotal: 53.7s\tremaining: 1m 33s\n",
      "364:\tlearn: 1799.1188364\ttotal: 53.9s\tremaining: 1m 33s\n",
      "365:\tlearn: 1798.4615569\ttotal: 54s\tremaining: 1m 33s\n",
      "366:\tlearn: 1797.9951203\ttotal: 54.2s\tremaining: 1m 33s\n",
      "367:\tlearn: 1797.6425195\ttotal: 54.3s\tremaining: 1m 33s\n",
      "368:\tlearn: 1797.3290906\ttotal: 54.5s\tremaining: 1m 33s\n",
      "369:\tlearn: 1796.8904844\ttotal: 54.6s\tremaining: 1m 33s\n",
      "370:\tlearn: 1796.1417175\ttotal: 54.8s\tremaining: 1m 32s\n",
      "371:\tlearn: 1795.9240036\ttotal: 54.9s\tremaining: 1m 32s\n",
      "372:\tlearn: 1795.5531868\ttotal: 55s\tremaining: 1m 32s\n",
      "373:\tlearn: 1795.2632757\ttotal: 55.2s\tremaining: 1m 32s\n",
      "374:\tlearn: 1795.0285115\ttotal: 55.3s\tremaining: 1m 32s\n",
      "375:\tlearn: 1794.5782126\ttotal: 55.5s\tremaining: 1m 32s\n",
      "376:\tlearn: 1794.3151988\ttotal: 55.6s\tremaining: 1m 31s\n",
      "377:\tlearn: 1793.6459239\ttotal: 55.7s\tremaining: 1m 31s\n",
      "378:\tlearn: 1793.2247594\ttotal: 55.9s\tremaining: 1m 31s\n",
      "379:\tlearn: 1793.0004938\ttotal: 56s\tremaining: 1m 31s\n",
      "380:\tlearn: 1792.7122442\ttotal: 56.2s\tremaining: 1m 31s\n",
      "381:\tlearn: 1792.4338467\ttotal: 56.3s\tremaining: 1m 31s\n",
      "382:\tlearn: 1792.1190976\ttotal: 56.5s\tremaining: 1m 31s\n",
      "383:\tlearn: 1791.7938787\ttotal: 56.6s\tremaining: 1m 30s\n",
      "384:\tlearn: 1791.5093450\ttotal: 56.8s\tremaining: 1m 30s\n",
      "385:\tlearn: 1791.2225852\ttotal: 56.9s\tremaining: 1m 30s\n",
      "386:\tlearn: 1790.9175344\ttotal: 57.1s\tremaining: 1m 30s\n",
      "387:\tlearn: 1790.5818964\ttotal: 57.2s\tremaining: 1m 30s\n",
      "388:\tlearn: 1790.1160016\ttotal: 57.4s\tremaining: 1m 30s\n",
      "389:\tlearn: 1789.9188234\ttotal: 57.5s\tremaining: 1m 29s\n",
      "390:\tlearn: 1789.5658496\ttotal: 57.7s\tremaining: 1m 29s\n",
      "391:\tlearn: 1789.1625959\ttotal: 57.8s\tremaining: 1m 29s\n",
      "392:\tlearn: 1788.8346747\ttotal: 58s\tremaining: 1m 29s\n",
      "393:\tlearn: 1788.4107902\ttotal: 58.1s\tremaining: 1m 29s\n",
      "394:\tlearn: 1788.2097491\ttotal: 58.2s\tremaining: 1m 29s\n",
      "395:\tlearn: 1787.9067870\ttotal: 58.4s\tremaining: 1m 29s\n",
      "396:\tlearn: 1787.4329606\ttotal: 58.5s\tremaining: 1m 28s\n",
      "397:\tlearn: 1786.8551835\ttotal: 58.7s\tremaining: 1m 28s\n",
      "398:\tlearn: 1786.4669799\ttotal: 58.8s\tremaining: 1m 28s\n",
      "399:\tlearn: 1786.2459235\ttotal: 59s\tremaining: 1m 28s\n",
      "400:\tlearn: 1785.9045090\ttotal: 59.1s\tremaining: 1m 28s\n",
      "401:\tlearn: 1785.6893509\ttotal: 59.2s\tremaining: 1m 28s\n",
      "402:\tlearn: 1785.2728158\ttotal: 59.4s\tremaining: 1m 27s\n",
      "403:\tlearn: 1784.9303758\ttotal: 59.5s\tremaining: 1m 27s\n",
      "404:\tlearn: 1784.7436932\ttotal: 59.6s\tremaining: 1m 27s\n",
      "405:\tlearn: 1784.2077604\ttotal: 59.8s\tremaining: 1m 27s\n",
      "406:\tlearn: 1783.7821001\ttotal: 59.9s\tremaining: 1m 27s\n",
      "407:\tlearn: 1783.5966050\ttotal: 1m\tremaining: 1m 27s\n",
      "408:\tlearn: 1783.3452070\ttotal: 1m\tremaining: 1m 26s\n",
      "409:\tlearn: 1783.0578117\ttotal: 1m\tremaining: 1m 26s\n",
      "410:\tlearn: 1782.3636483\ttotal: 1m\tremaining: 1m 26s\n",
      "411:\tlearn: 1781.9515613\ttotal: 1m\tremaining: 1m 26s\n",
      "412:\tlearn: 1781.7461685\ttotal: 1m\tremaining: 1m 26s\n",
      "413:\tlearn: 1781.4983710\ttotal: 1m\tremaining: 1m 26s\n",
      "414:\tlearn: 1781.0911726\ttotal: 1m 1s\tremaining: 1m 26s\n",
      "415:\tlearn: 1780.7588208\ttotal: 1m 1s\tremaining: 1m 26s\n",
      "416:\tlearn: 1780.2609524\ttotal: 1m 1s\tremaining: 1m 25s\n",
      "417:\tlearn: 1779.9076740\ttotal: 1m 1s\tremaining: 1m 25s\n",
      "418:\tlearn: 1779.4647131\ttotal: 1m 1s\tremaining: 1m 25s\n",
      "419:\tlearn: 1779.1416455\ttotal: 1m 1s\tremaining: 1m 25s\n",
      "420:\tlearn: 1778.7989157\ttotal: 1m 1s\tremaining: 1m 25s\n",
      "421:\tlearn: 1778.3071668\ttotal: 1m 2s\tremaining: 1m 25s\n",
      "422:\tlearn: 1778.0452571\ttotal: 1m 2s\tremaining: 1m 24s\n",
      "423:\tlearn: 1777.7830502\ttotal: 1m 2s\tremaining: 1m 24s\n",
      "424:\tlearn: 1777.4483084\ttotal: 1m 2s\tremaining: 1m 24s\n",
      "425:\tlearn: 1777.1710006\ttotal: 1m 2s\tremaining: 1m 24s\n",
      "426:\tlearn: 1776.7739039\ttotal: 1m 2s\tremaining: 1m 24s\n",
      "427:\tlearn: 1776.4581612\ttotal: 1m 3s\tremaining: 1m 24s\n",
      "428:\tlearn: 1776.0810602\ttotal: 1m 3s\tremaining: 1m 24s\n",
      "429:\tlearn: 1775.6329129\ttotal: 1m 3s\tremaining: 1m 24s\n",
      "430:\tlearn: 1775.3244234\ttotal: 1m 3s\tremaining: 1m 23s\n",
      "431:\tlearn: 1775.0631819\ttotal: 1m 3s\tremaining: 1m 23s\n",
      "432:\tlearn: 1774.5687693\ttotal: 1m 3s\tremaining: 1m 23s\n",
      "433:\tlearn: 1774.2703959\ttotal: 1m 3s\tremaining: 1m 23s\n",
      "434:\tlearn: 1773.9685904\ttotal: 1m 4s\tremaining: 1m 23s\n",
      "435:\tlearn: 1773.7513429\ttotal: 1m 4s\tremaining: 1m 23s\n",
      "436:\tlearn: 1773.3746362\ttotal: 1m 4s\tremaining: 1m 22s\n",
      "437:\tlearn: 1773.1467151\ttotal: 1m 4s\tremaining: 1m 22s\n",
      "438:\tlearn: 1772.6373371\ttotal: 1m 4s\tremaining: 1m 22s\n",
      "439:\tlearn: 1772.3127480\ttotal: 1m 4s\tremaining: 1m 22s\n",
      "440:\tlearn: 1771.9033011\ttotal: 1m 4s\tremaining: 1m 22s\n",
      "441:\tlearn: 1771.4525233\ttotal: 1m 5s\tremaining: 1m 22s\n",
      "442:\tlearn: 1771.1295210\ttotal: 1m 5s\tremaining: 1m 22s\n",
      "443:\tlearn: 1770.8330697\ttotal: 1m 5s\tremaining: 1m 21s\n",
      "444:\tlearn: 1770.4327361\ttotal: 1m 5s\tremaining: 1m 21s\n",
      "445:\tlearn: 1770.2137517\ttotal: 1m 5s\tremaining: 1m 21s\n",
      "446:\tlearn: 1770.0194954\ttotal: 1m 5s\tremaining: 1m 21s\n",
      "447:\tlearn: 1769.7783222\ttotal: 1m 5s\tremaining: 1m 21s\n",
      "448:\tlearn: 1769.5442686\ttotal: 1m 6s\tremaining: 1m 21s\n",
      "449:\tlearn: 1769.0077874\ttotal: 1m 6s\tremaining: 1m 20s\n",
      "450:\tlearn: 1768.6105346\ttotal: 1m 6s\tremaining: 1m 20s\n",
      "451:\tlearn: 1768.2554200\ttotal: 1m 6s\tremaining: 1m 20s\n",
      "452:\tlearn: 1767.8822475\ttotal: 1m 6s\tremaining: 1m 20s\n",
      "453:\tlearn: 1767.6615023\ttotal: 1m 6s\tremaining: 1m 20s\n",
      "454:\tlearn: 1767.3309299\ttotal: 1m 6s\tremaining: 1m 20s\n",
      "455:\tlearn: 1767.0015683\ttotal: 1m 7s\tremaining: 1m 20s\n",
      "456:\tlearn: 1766.7730681\ttotal: 1m 7s\tremaining: 1m 19s\n",
      "457:\tlearn: 1766.3083180\ttotal: 1m 7s\tremaining: 1m 19s\n",
      "458:\tlearn: 1766.0951581\ttotal: 1m 7s\tremaining: 1m 19s\n",
      "459:\tlearn: 1765.8494642\ttotal: 1m 7s\tremaining: 1m 19s\n",
      "460:\tlearn: 1765.6567043\ttotal: 1m 7s\tremaining: 1m 19s\n",
      "461:\tlearn: 1765.4191720\ttotal: 1m 7s\tremaining: 1m 19s\n",
      "462:\tlearn: 1765.1531828\ttotal: 1m 8s\tremaining: 1m 19s\n",
      "463:\tlearn: 1764.9366592\ttotal: 1m 8s\tremaining: 1m 18s\n",
      "464:\tlearn: 1764.6092863\ttotal: 1m 8s\tremaining: 1m 18s\n",
      "465:\tlearn: 1764.3360404\ttotal: 1m 8s\tremaining: 1m 18s\n",
      "466:\tlearn: 1764.0438021\ttotal: 1m 8s\tremaining: 1m 18s\n",
      "467:\tlearn: 1763.8456908\ttotal: 1m 8s\tremaining: 1m 18s\n",
      "468:\tlearn: 1763.5235606\ttotal: 1m 9s\tremaining: 1m 18s\n",
      "469:\tlearn: 1763.1622947\ttotal: 1m 9s\tremaining: 1m 17s\n",
      "470:\tlearn: 1762.8267748\ttotal: 1m 9s\tremaining: 1m 17s\n",
      "471:\tlearn: 1762.6229387\ttotal: 1m 9s\tremaining: 1m 17s\n",
      "472:\tlearn: 1762.3008762\ttotal: 1m 9s\tremaining: 1m 17s\n",
      "473:\tlearn: 1762.0415171\ttotal: 1m 9s\tremaining: 1m 17s\n",
      "474:\tlearn: 1761.6486185\ttotal: 1m 9s\tremaining: 1m 17s\n",
      "475:\tlearn: 1761.3573804\ttotal: 1m 10s\tremaining: 1m 17s\n",
      "476:\tlearn: 1760.9623305\ttotal: 1m 10s\tremaining: 1m 16s\n",
      "477:\tlearn: 1760.8017079\ttotal: 1m 10s\tremaining: 1m 16s\n",
      "478:\tlearn: 1760.4647027\ttotal: 1m 10s\tremaining: 1m 16s\n",
      "479:\tlearn: 1760.0820858\ttotal: 1m 10s\tremaining: 1m 16s\n",
      "480:\tlearn: 1759.7957719\ttotal: 1m 10s\tremaining: 1m 16s\n",
      "481:\tlearn: 1759.5823335\ttotal: 1m 10s\tremaining: 1m 16s\n",
      "482:\tlearn: 1759.3607329\ttotal: 1m 11s\tremaining: 1m 16s\n",
      "483:\tlearn: 1758.9210442\ttotal: 1m 11s\tremaining: 1m 15s\n",
      "484:\tlearn: 1758.7237825\ttotal: 1m 11s\tremaining: 1m 15s\n",
      "485:\tlearn: 1758.5123732\ttotal: 1m 11s\tremaining: 1m 15s\n",
      "486:\tlearn: 1758.3618631\ttotal: 1m 11s\tremaining: 1m 15s\n",
      "487:\tlearn: 1758.0309619\ttotal: 1m 11s\tremaining: 1m 15s\n",
      "488:\tlearn: 1757.7846705\ttotal: 1m 11s\tremaining: 1m 15s\n",
      "489:\tlearn: 1757.3724893\ttotal: 1m 12s\tremaining: 1m 14s\n",
      "490:\tlearn: 1757.0294413\ttotal: 1m 12s\tremaining: 1m 14s\n",
      "491:\tlearn: 1756.7518728\ttotal: 1m 12s\tremaining: 1m 14s\n",
      "492:\tlearn: 1756.3212128\ttotal: 1m 12s\tremaining: 1m 14s\n",
      "493:\tlearn: 1756.0908976\ttotal: 1m 12s\tremaining: 1m 14s\n",
      "494:\tlearn: 1755.7246823\ttotal: 1m 12s\tremaining: 1m 14s\n",
      "495:\tlearn: 1755.3771245\ttotal: 1m 12s\tremaining: 1m 14s\n",
      "496:\tlearn: 1755.2175908\ttotal: 1m 13s\tremaining: 1m 13s\n",
      "497:\tlearn: 1754.9642391\ttotal: 1m 13s\tremaining: 1m 13s\n",
      "498:\tlearn: 1754.6187802\ttotal: 1m 13s\tremaining: 1m 13s\n",
      "499:\tlearn: 1754.3869836\ttotal: 1m 13s\tremaining: 1m 13s\n",
      "500:\tlearn: 1754.0198649\ttotal: 1m 13s\tremaining: 1m 13s\n",
      "501:\tlearn: 1753.7934022\ttotal: 1m 13s\tremaining: 1m 13s\n",
      "502:\tlearn: 1753.5901274\ttotal: 1m 13s\tremaining: 1m 13s\n",
      "503:\tlearn: 1753.1535811\ttotal: 1m 14s\tremaining: 1m 12s\n",
      "504:\tlearn: 1752.8818321\ttotal: 1m 14s\tremaining: 1m 12s\n",
      "505:\tlearn: 1752.4859692\ttotal: 1m 14s\tremaining: 1m 12s\n",
      "506:\tlearn: 1752.3145085\ttotal: 1m 14s\tremaining: 1m 12s\n",
      "507:\tlearn: 1751.9184011\ttotal: 1m 14s\tremaining: 1m 12s\n",
      "508:\tlearn: 1751.7074985\ttotal: 1m 14s\tremaining: 1m 12s\n",
      "509:\tlearn: 1751.5278185\ttotal: 1m 14s\tremaining: 1m 11s\n",
      "510:\tlearn: 1751.2074990\ttotal: 1m 15s\tremaining: 1m 11s\n",
      "511:\tlearn: 1750.8916259\ttotal: 1m 15s\tremaining: 1m 11s\n",
      "512:\tlearn: 1750.5996150\ttotal: 1m 15s\tremaining: 1m 11s\n",
      "513:\tlearn: 1750.3897351\ttotal: 1m 15s\tremaining: 1m 11s\n",
      "514:\tlearn: 1750.0744447\ttotal: 1m 15s\tremaining: 1m 11s\n",
      "515:\tlearn: 1749.9034480\ttotal: 1m 15s\tremaining: 1m 11s\n",
      "516:\tlearn: 1749.6779653\ttotal: 1m 15s\tremaining: 1m 10s\n",
      "517:\tlearn: 1749.4100735\ttotal: 1m 16s\tremaining: 1m 10s\n",
      "518:\tlearn: 1749.2350350\ttotal: 1m 16s\tremaining: 1m 10s\n",
      "519:\tlearn: 1748.9385124\ttotal: 1m 16s\tremaining: 1m 10s\n",
      "520:\tlearn: 1748.7397411\ttotal: 1m 16s\tremaining: 1m 10s\n",
      "521:\tlearn: 1748.4474199\ttotal: 1m 16s\tremaining: 1m 10s\n",
      "522:\tlearn: 1748.1415830\ttotal: 1m 16s\tremaining: 1m 9s\n",
      "523:\tlearn: 1747.9528824\ttotal: 1m 16s\tremaining: 1m 9s\n",
      "524:\tlearn: 1747.7175817\ttotal: 1m 17s\tremaining: 1m 9s\n",
      "525:\tlearn: 1747.5158254\ttotal: 1m 17s\tremaining: 1m 9s\n",
      "526:\tlearn: 1747.2568773\ttotal: 1m 17s\tremaining: 1m 9s\n",
      "527:\tlearn: 1747.0757183\ttotal: 1m 17s\tremaining: 1m 9s\n",
      "528:\tlearn: 1746.9081049\ttotal: 1m 17s\tremaining: 1m 9s\n",
      "529:\tlearn: 1746.5080182\ttotal: 1m 17s\tremaining: 1m 8s\n",
      "530:\tlearn: 1746.3454233\ttotal: 1m 17s\tremaining: 1m 8s\n",
      "531:\tlearn: 1746.0629260\ttotal: 1m 18s\tremaining: 1m 8s\n",
      "532:\tlearn: 1745.7746803\ttotal: 1m 18s\tremaining: 1m 8s\n",
      "533:\tlearn: 1745.5798631\ttotal: 1m 18s\tremaining: 1m 8s\n",
      "534:\tlearn: 1745.3386704\ttotal: 1m 18s\tremaining: 1m 8s\n",
      "535:\tlearn: 1745.1895155\ttotal: 1m 18s\tremaining: 1m 8s\n",
      "536:\tlearn: 1744.9471171\ttotal: 1m 18s\tremaining: 1m 7s\n",
      "537:\tlearn: 1744.6936444\ttotal: 1m 18s\tremaining: 1m 7s\n",
      "538:\tlearn: 1744.4229317\ttotal: 1m 19s\tremaining: 1m 7s\n",
      "539:\tlearn: 1744.3051895\ttotal: 1m 19s\tremaining: 1m 7s\n",
      "540:\tlearn: 1744.0727907\ttotal: 1m 19s\tremaining: 1m 7s\n",
      "541:\tlearn: 1743.7406696\ttotal: 1m 19s\tremaining: 1m 7s\n",
      "542:\tlearn: 1743.4593569\ttotal: 1m 19s\tremaining: 1m 6s\n",
      "543:\tlearn: 1743.1203173\ttotal: 1m 19s\tremaining: 1m 6s\n",
      "544:\tlearn: 1742.7412597\ttotal: 1m 19s\tremaining: 1m 6s\n",
      "545:\tlearn: 1742.4972768\ttotal: 1m 20s\tremaining: 1m 6s\n",
      "546:\tlearn: 1742.3552274\ttotal: 1m 20s\tremaining: 1m 6s\n",
      "547:\tlearn: 1742.2034835\ttotal: 1m 20s\tremaining: 1m 6s\n",
      "548:\tlearn: 1741.9282318\ttotal: 1m 20s\tremaining: 1m 6s\n",
      "549:\tlearn: 1741.6637045\ttotal: 1m 20s\tremaining: 1m 5s\n",
      "550:\tlearn: 1741.5334183\ttotal: 1m 20s\tremaining: 1m 5s\n",
      "551:\tlearn: 1741.3000038\ttotal: 1m 20s\tremaining: 1m 5s\n",
      "552:\tlearn: 1741.1140800\ttotal: 1m 21s\tremaining: 1m 5s\n",
      "553:\tlearn: 1740.8889490\ttotal: 1m 21s\tremaining: 1m 5s\n",
      "554:\tlearn: 1740.7336319\ttotal: 1m 21s\tremaining: 1m 5s\n",
      "555:\tlearn: 1740.5372728\ttotal: 1m 21s\tremaining: 1m 5s\n",
      "556:\tlearn: 1740.3207015\ttotal: 1m 21s\tremaining: 1m 4s\n",
      "557:\tlearn: 1740.0915323\ttotal: 1m 21s\tremaining: 1m 4s\n",
      "558:\tlearn: 1739.9358751\ttotal: 1m 21s\tremaining: 1m 4s\n",
      "559:\tlearn: 1739.6883375\ttotal: 1m 22s\tremaining: 1m 4s\n",
      "560:\tlearn: 1739.4903659\ttotal: 1m 22s\tremaining: 1m 4s\n",
      "561:\tlearn: 1739.2555442\ttotal: 1m 22s\tremaining: 1m 4s\n",
      "562:\tlearn: 1739.0746440\ttotal: 1m 22s\tremaining: 1m 4s\n",
      "563:\tlearn: 1738.8250948\ttotal: 1m 22s\tremaining: 1m 3s\n",
      "564:\tlearn: 1738.6920046\ttotal: 1m 22s\tremaining: 1m 3s\n",
      "565:\tlearn: 1738.5084926\ttotal: 1m 22s\tremaining: 1m 3s\n",
      "566:\tlearn: 1738.2577940\ttotal: 1m 23s\tremaining: 1m 3s\n",
      "567:\tlearn: 1738.0906330\ttotal: 1m 23s\tremaining: 1m 3s\n",
      "568:\tlearn: 1737.8899333\ttotal: 1m 23s\tremaining: 1m 3s\n",
      "569:\tlearn: 1737.6322321\ttotal: 1m 23s\tremaining: 1m 2s\n",
      "570:\tlearn: 1737.4500171\ttotal: 1m 23s\tremaining: 1m 2s\n",
      "571:\tlearn: 1737.2321172\ttotal: 1m 23s\tremaining: 1m 2s\n",
      "572:\tlearn: 1737.0975544\ttotal: 1m 23s\tremaining: 1m 2s\n",
      "573:\tlearn: 1736.7365968\ttotal: 1m 24s\tremaining: 1m 2s\n",
      "574:\tlearn: 1736.5247207\ttotal: 1m 24s\tremaining: 1m 2s\n",
      "575:\tlearn: 1736.2849728\ttotal: 1m 24s\tremaining: 1m 2s\n",
      "576:\tlearn: 1736.0970594\ttotal: 1m 24s\tremaining: 1m 1s\n",
      "577:\tlearn: 1735.9178777\ttotal: 1m 24s\tremaining: 1m 1s\n",
      "578:\tlearn: 1735.7333225\ttotal: 1m 24s\tremaining: 1m 1s\n",
      "579:\tlearn: 1735.5776385\ttotal: 1m 24s\tremaining: 1m 1s\n",
      "580:\tlearn: 1735.3534730\ttotal: 1m 25s\tremaining: 1m 1s\n",
      "581:\tlearn: 1735.1038861\ttotal: 1m 25s\tremaining: 1m 1s\n",
      "582:\tlearn: 1734.6910681\ttotal: 1m 25s\tremaining: 1m 1s\n",
      "583:\tlearn: 1734.3883316\ttotal: 1m 25s\tremaining: 1m\n",
      "584:\tlearn: 1734.2763179\ttotal: 1m 25s\tremaining: 1m\n",
      "585:\tlearn: 1734.1129904\ttotal: 1m 25s\tremaining: 1m\n",
      "586:\tlearn: 1733.9224704\ttotal: 1m 25s\tremaining: 1m\n",
      "587:\tlearn: 1733.6618276\ttotal: 1m 26s\tremaining: 1m\n",
      "588:\tlearn: 1733.3579364\ttotal: 1m 26s\tremaining: 1m\n",
      "589:\tlearn: 1733.2061584\ttotal: 1m 26s\tremaining: 1m\n",
      "590:\tlearn: 1733.0300512\ttotal: 1m 26s\tremaining: 59.9s\n",
      "591:\tlearn: 1732.8427060\ttotal: 1m 26s\tremaining: 59.8s\n",
      "592:\tlearn: 1732.6522943\ttotal: 1m 26s\tremaining: 59.6s\n",
      "593:\tlearn: 1732.5058765\ttotal: 1m 27s\tremaining: 59.5s\n",
      "594:\tlearn: 1732.3474349\ttotal: 1m 27s\tremaining: 59.3s\n",
      "595:\tlearn: 1732.1137501\ttotal: 1m 27s\tremaining: 59.2s\n",
      "596:\tlearn: 1731.8923707\ttotal: 1m 27s\tremaining: 59s\n",
      "597:\tlearn: 1731.7150268\ttotal: 1m 27s\tremaining: 58.9s\n",
      "598:\tlearn: 1731.4046549\ttotal: 1m 27s\tremaining: 58.7s\n",
      "599:\tlearn: 1731.2569199\ttotal: 1m 27s\tremaining: 58.6s\n",
      "600:\tlearn: 1731.0597655\ttotal: 1m 28s\tremaining: 58.5s\n",
      "601:\tlearn: 1730.8204329\ttotal: 1m 28s\tremaining: 58.3s\n",
      "602:\tlearn: 1730.6504488\ttotal: 1m 28s\tremaining: 58.2s\n",
      "603:\tlearn: 1730.3777124\ttotal: 1m 28s\tremaining: 58s\n",
      "604:\tlearn: 1730.2163994\ttotal: 1m 28s\tremaining: 57.9s\n",
      "605:\tlearn: 1730.0300141\ttotal: 1m 28s\tremaining: 57.8s\n",
      "606:\tlearn: 1729.6474295\ttotal: 1m 28s\tremaining: 57.6s\n",
      "607:\tlearn: 1729.4837549\ttotal: 1m 29s\tremaining: 57.4s\n",
      "608:\tlearn: 1729.2919206\ttotal: 1m 29s\tremaining: 57.3s\n",
      "609:\tlearn: 1729.1002696\ttotal: 1m 29s\tremaining: 57.1s\n",
      "610:\tlearn: 1728.7321441\ttotal: 1m 29s\tremaining: 57s\n",
      "611:\tlearn: 1728.5469324\ttotal: 1m 29s\tremaining: 56.8s\n",
      "612:\tlearn: 1728.3049013\ttotal: 1m 29s\tremaining: 56.7s\n",
      "613:\tlearn: 1728.1733838\ttotal: 1m 30s\tremaining: 56.6s\n",
      "614:\tlearn: 1728.0432036\ttotal: 1m 30s\tremaining: 56.4s\n",
      "615:\tlearn: 1727.9200340\ttotal: 1m 30s\tremaining: 56.2s\n",
      "616:\tlearn: 1727.7212700\ttotal: 1m 30s\tremaining: 56.1s\n",
      "617:\tlearn: 1727.5027623\ttotal: 1m 30s\tremaining: 56s\n",
      "618:\tlearn: 1727.2488094\ttotal: 1m 30s\tremaining: 55.8s\n",
      "619:\tlearn: 1727.0931701\ttotal: 1m 30s\tremaining: 55.7s\n",
      "620:\tlearn: 1726.9044939\ttotal: 1m 31s\tremaining: 55.5s\n",
      "621:\tlearn: 1726.6378576\ttotal: 1m 31s\tremaining: 55.4s\n",
      "622:\tlearn: 1726.4752595\ttotal: 1m 31s\tremaining: 55.3s\n",
      "623:\tlearn: 1726.2813053\ttotal: 1m 31s\tremaining: 55.1s\n",
      "624:\tlearn: 1726.1185815\ttotal: 1m 31s\tremaining: 55s\n",
      "625:\tlearn: 1726.0043888\ttotal: 1m 31s\tremaining: 54.9s\n",
      "626:\tlearn: 1725.7733950\ttotal: 1m 32s\tremaining: 54.7s\n",
      "627:\tlearn: 1725.6040147\ttotal: 1m 32s\tremaining: 54.6s\n",
      "628:\tlearn: 1725.3819433\ttotal: 1m 32s\tremaining: 54.5s\n",
      "629:\tlearn: 1725.2254446\ttotal: 1m 32s\tremaining: 54.3s\n",
      "630:\tlearn: 1725.0512697\ttotal: 1m 32s\tremaining: 54.2s\n",
      "631:\tlearn: 1724.8522211\ttotal: 1m 32s\tremaining: 54s\n",
      "632:\tlearn: 1724.5835329\ttotal: 1m 33s\tremaining: 53.9s\n",
      "633:\tlearn: 1724.3319605\ttotal: 1m 33s\tremaining: 53.8s\n",
      "634:\tlearn: 1724.1151932\ttotal: 1m 33s\tremaining: 53.7s\n",
      "635:\tlearn: 1723.9740239\ttotal: 1m 33s\tremaining: 53.5s\n",
      "636:\tlearn: 1723.8066475\ttotal: 1m 33s\tremaining: 53.4s\n",
      "637:\tlearn: 1723.4903574\ttotal: 1m 33s\tremaining: 53.2s\n",
      "638:\tlearn: 1723.3417309\ttotal: 1m 33s\tremaining: 53.1s\n",
      "639:\tlearn: 1723.1354678\ttotal: 1m 34s\tremaining: 52.9s\n",
      "640:\tlearn: 1723.0133329\ttotal: 1m 34s\tremaining: 52.8s\n",
      "641:\tlearn: 1722.8401462\ttotal: 1m 34s\tremaining: 52.6s\n",
      "642:\tlearn: 1722.6581651\ttotal: 1m 34s\tremaining: 52.5s\n",
      "643:\tlearn: 1722.3838260\ttotal: 1m 34s\tremaining: 52.3s\n",
      "644:\tlearn: 1722.2455234\ttotal: 1m 34s\tremaining: 52.2s\n",
      "645:\tlearn: 1721.9481878\ttotal: 1m 34s\tremaining: 52s\n",
      "646:\tlearn: 1721.7716411\ttotal: 1m 35s\tremaining: 51.9s\n",
      "647:\tlearn: 1721.5563663\ttotal: 1m 35s\tremaining: 51.7s\n",
      "648:\tlearn: 1721.3263809\ttotal: 1m 35s\tremaining: 51.6s\n",
      "649:\tlearn: 1721.1700448\ttotal: 1m 35s\tremaining: 51.4s\n",
      "650:\tlearn: 1720.9926955\ttotal: 1m 35s\tremaining: 51.3s\n",
      "651:\tlearn: 1720.7913875\ttotal: 1m 35s\tremaining: 51.1s\n",
      "652:\tlearn: 1720.6420675\ttotal: 1m 35s\tremaining: 51s\n",
      "653:\tlearn: 1720.4730090\ttotal: 1m 36s\tremaining: 50.8s\n",
      "654:\tlearn: 1720.3476759\ttotal: 1m 36s\tremaining: 50.7s\n",
      "655:\tlearn: 1720.2563999\ttotal: 1m 36s\tremaining: 50.5s\n",
      "656:\tlearn: 1719.9742085\ttotal: 1m 36s\tremaining: 50.4s\n",
      "657:\tlearn: 1719.7470418\ttotal: 1m 36s\tremaining: 50.2s\n",
      "658:\tlearn: 1719.5833875\ttotal: 1m 36s\tremaining: 50.1s\n",
      "659:\tlearn: 1719.4059797\ttotal: 1m 36s\tremaining: 50s\n",
      "660:\tlearn: 1719.2049518\ttotal: 1m 37s\tremaining: 49.8s\n",
      "661:\tlearn: 1719.0150447\ttotal: 1m 37s\tremaining: 49.6s\n",
      "662:\tlearn: 1718.8780673\ttotal: 1m 37s\tremaining: 49.5s\n",
      "663:\tlearn: 1718.7348431\ttotal: 1m 37s\tremaining: 49.3s\n",
      "664:\tlearn: 1718.6155280\ttotal: 1m 37s\tremaining: 49.2s\n",
      "665:\tlearn: 1718.5012853\ttotal: 1m 37s\tremaining: 49s\n",
      "666:\tlearn: 1718.3500281\ttotal: 1m 37s\tremaining: 48.9s\n",
      "667:\tlearn: 1718.1430946\ttotal: 1m 38s\tremaining: 48.7s\n",
      "668:\tlearn: 1718.0296101\ttotal: 1m 38s\tremaining: 48.6s\n",
      "669:\tlearn: 1717.7885099\ttotal: 1m 38s\tremaining: 48.4s\n",
      "670:\tlearn: 1717.6174189\ttotal: 1m 38s\tremaining: 48.3s\n",
      "671:\tlearn: 1717.4628005\ttotal: 1m 38s\tremaining: 48.1s\n",
      "672:\tlearn: 1717.2921058\ttotal: 1m 38s\tremaining: 48s\n",
      "673:\tlearn: 1717.1045578\ttotal: 1m 38s\tremaining: 47.8s\n",
      "674:\tlearn: 1716.8639986\ttotal: 1m 39s\tremaining: 47.7s\n",
      "675:\tlearn: 1716.7694265\ttotal: 1m 39s\tremaining: 47.5s\n",
      "676:\tlearn: 1716.5525540\ttotal: 1m 39s\tremaining: 47.4s\n",
      "677:\tlearn: 1716.3800758\ttotal: 1m 39s\tremaining: 47.2s\n",
      "678:\tlearn: 1716.2503237\ttotal: 1m 39s\tremaining: 47.1s\n",
      "679:\tlearn: 1716.0486585\ttotal: 1m 39s\tremaining: 46.9s\n",
      "680:\tlearn: 1715.9488780\ttotal: 1m 39s\tremaining: 46.8s\n",
      "681:\tlearn: 1715.7530175\ttotal: 1m 40s\tremaining: 46.7s\n",
      "682:\tlearn: 1715.6421904\ttotal: 1m 40s\tremaining: 46.5s\n",
      "683:\tlearn: 1715.4815341\ttotal: 1m 40s\tremaining: 46.4s\n",
      "684:\tlearn: 1715.2928623\ttotal: 1m 40s\tremaining: 46.2s\n",
      "685:\tlearn: 1715.1421150\ttotal: 1m 40s\tremaining: 46.1s\n",
      "686:\tlearn: 1714.9399520\ttotal: 1m 40s\tremaining: 45.9s\n",
      "687:\tlearn: 1714.8135758\ttotal: 1m 40s\tremaining: 45.7s\n",
      "688:\tlearn: 1714.6384676\ttotal: 1m 41s\tremaining: 45.6s\n",
      "689:\tlearn: 1714.3005198\ttotal: 1m 41s\tremaining: 45.4s\n",
      "690:\tlearn: 1714.0787487\ttotal: 1m 41s\tremaining: 45.3s\n",
      "691:\tlearn: 1713.9051555\ttotal: 1m 41s\tremaining: 45.2s\n",
      "692:\tlearn: 1713.6155611\ttotal: 1m 41s\tremaining: 45s\n",
      "693:\tlearn: 1713.4724619\ttotal: 1m 41s\tremaining: 44.9s\n",
      "694:\tlearn: 1713.2351638\ttotal: 1m 41s\tremaining: 44.7s\n",
      "695:\tlearn: 1713.0668614\ttotal: 1m 42s\tremaining: 44.6s\n",
      "696:\tlearn: 1712.8937100\ttotal: 1m 42s\tremaining: 44.4s\n",
      "697:\tlearn: 1712.7238675\ttotal: 1m 42s\tremaining: 44.3s\n",
      "698:\tlearn: 1712.5767818\ttotal: 1m 42s\tremaining: 44.1s\n",
      "699:\tlearn: 1712.3463318\ttotal: 1m 42s\tremaining: 44s\n",
      "700:\tlearn: 1712.1514918\ttotal: 1m 42s\tremaining: 43.8s\n",
      "701:\tlearn: 1711.9814929\ttotal: 1m 42s\tremaining: 43.7s\n",
      "702:\tlearn: 1711.8296505\ttotal: 1m 43s\tremaining: 43.5s\n",
      "703:\tlearn: 1711.5137429\ttotal: 1m 43s\tremaining: 43.4s\n",
      "704:\tlearn: 1711.3363622\ttotal: 1m 43s\tremaining: 43.2s\n",
      "705:\tlearn: 1711.1961094\ttotal: 1m 43s\tremaining: 43.1s\n",
      "706:\tlearn: 1711.0340718\ttotal: 1m 43s\tremaining: 43s\n",
      "707:\tlearn: 1710.9048662\ttotal: 1m 43s\tremaining: 42.8s\n",
      "708:\tlearn: 1710.6496831\ttotal: 1m 43s\tremaining: 42.7s\n",
      "709:\tlearn: 1710.5457131\ttotal: 1m 44s\tremaining: 42.5s\n",
      "710:\tlearn: 1710.3595151\ttotal: 1m 44s\tremaining: 42.4s\n",
      "711:\tlearn: 1710.2187322\ttotal: 1m 44s\tremaining: 42.2s\n",
      "712:\tlearn: 1709.9979574\ttotal: 1m 44s\tremaining: 42.1s\n",
      "713:\tlearn: 1709.9105981\ttotal: 1m 44s\tremaining: 41.9s\n",
      "714:\tlearn: 1709.7228845\ttotal: 1m 44s\tremaining: 41.8s\n",
      "715:\tlearn: 1709.5877390\ttotal: 1m 44s\tremaining: 41.6s\n",
      "716:\tlearn: 1709.4798619\ttotal: 1m 45s\tremaining: 41.5s\n",
      "717:\tlearn: 1709.2970442\ttotal: 1m 45s\tremaining: 41.3s\n",
      "718:\tlearn: 1709.1695442\ttotal: 1m 45s\tremaining: 41.2s\n",
      "719:\tlearn: 1709.0170208\ttotal: 1m 45s\tremaining: 41s\n",
      "720:\tlearn: 1708.8349056\ttotal: 1m 45s\tremaining: 40.9s\n",
      "721:\tlearn: 1708.6341040\ttotal: 1m 45s\tremaining: 40.7s\n",
      "722:\tlearn: 1708.5018840\ttotal: 1m 45s\tremaining: 40.6s\n",
      "723:\tlearn: 1708.3824575\ttotal: 1m 46s\tremaining: 40.4s\n",
      "724:\tlearn: 1708.2228118\ttotal: 1m 46s\tremaining: 40.3s\n",
      "725:\tlearn: 1708.0792282\ttotal: 1m 46s\tremaining: 40.1s\n",
      "726:\tlearn: 1707.9761655\ttotal: 1m 46s\tremaining: 40s\n",
      "727:\tlearn: 1707.8143287\ttotal: 1m 46s\tremaining: 39.8s\n",
      "728:\tlearn: 1707.6521830\ttotal: 1m 46s\tremaining: 39.7s\n",
      "729:\tlearn: 1707.4527677\ttotal: 1m 46s\tremaining: 39.5s\n",
      "730:\tlearn: 1707.3512941\ttotal: 1m 47s\tremaining: 39.4s\n",
      "731:\tlearn: 1707.1636441\ttotal: 1m 47s\tremaining: 39.3s\n",
      "732:\tlearn: 1707.0014665\ttotal: 1m 47s\tremaining: 39.1s\n",
      "733:\tlearn: 1706.8135456\ttotal: 1m 47s\tremaining: 39s\n",
      "734:\tlearn: 1706.7084087\ttotal: 1m 47s\tremaining: 38.8s\n",
      "735:\tlearn: 1706.5138909\ttotal: 1m 47s\tremaining: 38.7s\n",
      "736:\tlearn: 1706.4257451\ttotal: 1m 47s\tremaining: 38.5s\n",
      "737:\tlearn: 1706.1766979\ttotal: 1m 48s\tremaining: 38.4s\n",
      "738:\tlearn: 1706.0767007\ttotal: 1m 48s\tremaining: 38.2s\n",
      "739:\tlearn: 1705.8319497\ttotal: 1m 48s\tremaining: 38.1s\n",
      "740:\tlearn: 1705.6509820\ttotal: 1m 48s\tremaining: 37.9s\n",
      "741:\tlearn: 1705.4612556\ttotal: 1m 48s\tremaining: 37.8s\n",
      "742:\tlearn: 1705.2659825\ttotal: 1m 48s\tremaining: 37.6s\n",
      "743:\tlearn: 1705.1165087\ttotal: 1m 48s\tremaining: 37.5s\n",
      "744:\tlearn: 1704.9958417\ttotal: 1m 49s\tremaining: 37.3s\n",
      "745:\tlearn: 1704.8560032\ttotal: 1m 49s\tremaining: 37.2s\n",
      "746:\tlearn: 1704.7132720\ttotal: 1m 49s\tremaining: 37s\n",
      "747:\tlearn: 1704.6058673\ttotal: 1m 49s\tremaining: 36.9s\n",
      "748:\tlearn: 1704.4328825\ttotal: 1m 49s\tremaining: 36.7s\n",
      "749:\tlearn: 1704.2608918\ttotal: 1m 49s\tremaining: 36.6s\n",
      "750:\tlearn: 1704.1604298\ttotal: 1m 49s\tremaining: 36.4s\n",
      "751:\tlearn: 1704.0506127\ttotal: 1m 50s\tremaining: 36.3s\n",
      "752:\tlearn: 1703.9237756\ttotal: 1m 50s\tremaining: 36.1s\n",
      "753:\tlearn: 1703.7280467\ttotal: 1m 50s\tremaining: 36s\n",
      "754:\tlearn: 1703.5429367\ttotal: 1m 50s\tremaining: 35.8s\n",
      "755:\tlearn: 1703.3572462\ttotal: 1m 50s\tremaining: 35.7s\n",
      "756:\tlearn: 1703.2655920\ttotal: 1m 50s\tremaining: 35.5s\n",
      "757:\tlearn: 1703.1342888\ttotal: 1m 50s\tremaining: 35.4s\n",
      "758:\tlearn: 1702.9622382\ttotal: 1m 51s\tremaining: 35.2s\n",
      "759:\tlearn: 1702.7593993\ttotal: 1m 51s\tremaining: 35.1s\n",
      "760:\tlearn: 1702.5654012\ttotal: 1m 51s\tremaining: 35s\n",
      "761:\tlearn: 1702.4736675\ttotal: 1m 51s\tremaining: 34.8s\n",
      "762:\tlearn: 1702.2806628\ttotal: 1m 51s\tremaining: 34.7s\n",
      "763:\tlearn: 1702.0684572\ttotal: 1m 51s\tremaining: 34.5s\n",
      "764:\tlearn: 1701.8923733\ttotal: 1m 51s\tremaining: 34.4s\n",
      "765:\tlearn: 1701.8006466\ttotal: 1m 52s\tremaining: 34.2s\n",
      "766:\tlearn: 1701.7050940\ttotal: 1m 52s\tremaining: 34.1s\n",
      "767:\tlearn: 1701.6051557\ttotal: 1m 52s\tremaining: 33.9s\n",
      "768:\tlearn: 1701.4205412\ttotal: 1m 52s\tremaining: 33.8s\n",
      "769:\tlearn: 1701.2698773\ttotal: 1m 52s\tremaining: 33.6s\n",
      "770:\tlearn: 1701.0512084\ttotal: 1m 52s\tremaining: 33.5s\n",
      "771:\tlearn: 1700.9377309\ttotal: 1m 52s\tremaining: 33.3s\n",
      "772:\tlearn: 1700.7735939\ttotal: 1m 53s\tremaining: 33.2s\n",
      "773:\tlearn: 1700.6483287\ttotal: 1m 53s\tremaining: 33s\n",
      "774:\tlearn: 1700.5273853\ttotal: 1m 53s\tremaining: 32.9s\n",
      "775:\tlearn: 1700.4232318\ttotal: 1m 53s\tremaining: 32.8s\n",
      "776:\tlearn: 1700.1753256\ttotal: 1m 53s\tremaining: 32.6s\n",
      "777:\tlearn: 1700.0801487\ttotal: 1m 53s\tremaining: 32.4s\n",
      "778:\tlearn: 1699.9707460\ttotal: 1m 53s\tremaining: 32.3s\n",
      "779:\tlearn: 1699.8711987\ttotal: 1m 53s\tremaining: 32.2s\n",
      "780:\tlearn: 1699.5883433\ttotal: 1m 54s\tremaining: 32s\n",
      "781:\tlearn: 1699.4068511\ttotal: 1m 54s\tremaining: 31.9s\n",
      "782:\tlearn: 1699.1691253\ttotal: 1m 54s\tremaining: 31.7s\n",
      "783:\tlearn: 1699.0326460\ttotal: 1m 54s\tremaining: 31.6s\n",
      "784:\tlearn: 1698.8474652\ttotal: 1m 54s\tremaining: 31.4s\n",
      "785:\tlearn: 1698.6664050\ttotal: 1m 54s\tremaining: 31.3s\n",
      "786:\tlearn: 1698.5031569\ttotal: 1m 54s\tremaining: 31.1s\n",
      "787:\tlearn: 1698.3395801\ttotal: 1m 55s\tremaining: 31s\n",
      "788:\tlearn: 1698.2436492\ttotal: 1m 55s\tremaining: 30.8s\n",
      "789:\tlearn: 1698.1684408\ttotal: 1m 55s\tremaining: 30.7s\n",
      "790:\tlearn: 1697.9088594\ttotal: 1m 55s\tremaining: 30.5s\n",
      "791:\tlearn: 1697.7466503\ttotal: 1m 55s\tremaining: 30.4s\n",
      "792:\tlearn: 1697.6200439\ttotal: 1m 55s\tremaining: 30.2s\n",
      "793:\tlearn: 1697.5250621\ttotal: 1m 55s\tremaining: 30.1s\n",
      "794:\tlearn: 1697.3993833\ttotal: 1m 56s\tremaining: 30s\n",
      "795:\tlearn: 1697.2692553\ttotal: 1m 56s\tremaining: 29.8s\n",
      "796:\tlearn: 1697.0646059\ttotal: 1m 56s\tremaining: 29.7s\n",
      "797:\tlearn: 1696.9436963\ttotal: 1m 56s\tremaining: 29.5s\n",
      "798:\tlearn: 1696.8773185\ttotal: 1m 56s\tremaining: 29.4s\n",
      "799:\tlearn: 1696.7906954\ttotal: 1m 56s\tremaining: 29.2s\n",
      "800:\tlearn: 1696.6343171\ttotal: 1m 56s\tremaining: 29.1s\n",
      "801:\tlearn: 1696.4727042\ttotal: 1m 57s\tremaining: 28.9s\n",
      "802:\tlearn: 1696.2707518\ttotal: 1m 57s\tremaining: 28.8s\n",
      "803:\tlearn: 1696.1619231\ttotal: 1m 57s\tremaining: 28.6s\n",
      "804:\tlearn: 1696.0656520\ttotal: 1m 57s\tremaining: 28.5s\n",
      "805:\tlearn: 1695.9161529\ttotal: 1m 57s\tremaining: 28.3s\n",
      "806:\tlearn: 1695.7475626\ttotal: 1m 57s\tremaining: 28.2s\n",
      "807:\tlearn: 1695.6391335\ttotal: 1m 58s\tremaining: 28.1s\n",
      "808:\tlearn: 1695.5168964\ttotal: 1m 58s\tremaining: 27.9s\n",
      "809:\tlearn: 1695.3464278\ttotal: 1m 58s\tremaining: 27.8s\n",
      "810:\tlearn: 1695.1587898\ttotal: 1m 58s\tremaining: 27.6s\n",
      "811:\tlearn: 1695.0554973\ttotal: 1m 58s\tremaining: 27.5s\n",
      "812:\tlearn: 1694.9509561\ttotal: 1m 58s\tremaining: 27.3s\n",
      "813:\tlearn: 1694.8309770\ttotal: 1m 58s\tremaining: 27.2s\n",
      "814:\tlearn: 1694.6999373\ttotal: 1m 59s\tremaining: 27s\n",
      "815:\tlearn: 1694.5633536\ttotal: 1m 59s\tremaining: 26.9s\n",
      "816:\tlearn: 1694.3884885\ttotal: 1m 59s\tremaining: 26.7s\n",
      "817:\tlearn: 1694.1937827\ttotal: 1m 59s\tremaining: 26.6s\n",
      "818:\tlearn: 1694.1134219\ttotal: 1m 59s\tremaining: 26.4s\n",
      "819:\tlearn: 1693.9487504\ttotal: 1m 59s\tremaining: 26.3s\n",
      "820:\tlearn: 1693.8320035\ttotal: 1m 59s\tremaining: 26.2s\n",
      "821:\tlearn: 1693.6476529\ttotal: 2m\tremaining: 26s\n",
      "822:\tlearn: 1693.5268480\ttotal: 2m\tremaining: 25.9s\n",
      "823:\tlearn: 1693.3101096\ttotal: 2m\tremaining: 25.7s\n",
      "824:\tlearn: 1693.1832528\ttotal: 2m\tremaining: 25.6s\n",
      "825:\tlearn: 1692.8841140\ttotal: 2m\tremaining: 25.4s\n",
      "826:\tlearn: 1692.6330461\ttotal: 2m\tremaining: 25.3s\n",
      "827:\tlearn: 1692.3855268\ttotal: 2m\tremaining: 25.1s\n",
      "828:\tlearn: 1692.2323622\ttotal: 2m 1s\tremaining: 25s\n",
      "829:\tlearn: 1692.1122762\ttotal: 2m 1s\tremaining: 24.8s\n",
      "830:\tlearn: 1692.0452737\ttotal: 2m 1s\tremaining: 24.7s\n",
      "831:\tlearn: 1691.9622163\ttotal: 2m 1s\tremaining: 24.5s\n",
      "832:\tlearn: 1691.7763616\ttotal: 2m 1s\tremaining: 24.4s\n",
      "833:\tlearn: 1691.6422862\ttotal: 2m 1s\tremaining: 24.3s\n",
      "834:\tlearn: 1691.5607569\ttotal: 2m 1s\tremaining: 24.1s\n",
      "835:\tlearn: 1691.4572646\ttotal: 2m 2s\tremaining: 23.9s\n",
      "836:\tlearn: 1691.2879749\ttotal: 2m 2s\tremaining: 23.8s\n",
      "837:\tlearn: 1691.1628771\ttotal: 2m 2s\tremaining: 23.7s\n",
      "838:\tlearn: 1691.0313302\ttotal: 2m 2s\tremaining: 23.5s\n",
      "839:\tlearn: 1690.9216461\ttotal: 2m 2s\tremaining: 23.4s\n",
      "840:\tlearn: 1690.6861303\ttotal: 2m 2s\tremaining: 23.2s\n",
      "841:\tlearn: 1690.5135438\ttotal: 2m 3s\tremaining: 23.1s\n",
      "842:\tlearn: 1690.3729377\ttotal: 2m 3s\tremaining: 22.9s\n",
      "843:\tlearn: 1690.1880661\ttotal: 2m 3s\tremaining: 22.8s\n",
      "844:\tlearn: 1690.0285352\ttotal: 2m 3s\tremaining: 22.6s\n",
      "845:\tlearn: 1689.9540715\ttotal: 2m 3s\tremaining: 22.5s\n",
      "846:\tlearn: 1689.8043928\ttotal: 2m 3s\tremaining: 22.4s\n",
      "847:\tlearn: 1689.6619041\ttotal: 2m 3s\tremaining: 22.2s\n",
      "848:\tlearn: 1689.5576340\ttotal: 2m 4s\tremaining: 22.1s\n",
      "849:\tlearn: 1689.3130765\ttotal: 2m 4s\tremaining: 21.9s\n",
      "850:\tlearn: 1689.1885245\ttotal: 2m 4s\tremaining: 21.8s\n",
      "851:\tlearn: 1689.1005529\ttotal: 2m 4s\tremaining: 21.6s\n",
      "852:\tlearn: 1688.9946895\ttotal: 2m 4s\tremaining: 21.5s\n",
      "853:\tlearn: 1688.8242508\ttotal: 2m 4s\tremaining: 21.3s\n",
      "854:\tlearn: 1688.7290032\ttotal: 2m 4s\tremaining: 21.2s\n",
      "855:\tlearn: 1688.5862359\ttotal: 2m 5s\tremaining: 21s\n",
      "856:\tlearn: 1688.3822782\ttotal: 2m 5s\tremaining: 20.9s\n",
      "857:\tlearn: 1688.2392091\ttotal: 2m 5s\tremaining: 20.7s\n",
      "858:\tlearn: 1688.0566581\ttotal: 2m 5s\tremaining: 20.6s\n",
      "859:\tlearn: 1687.8817622\ttotal: 2m 5s\tremaining: 20.5s\n",
      "860:\tlearn: 1687.7861891\ttotal: 2m 5s\tremaining: 20.3s\n",
      "861:\tlearn: 1687.6882402\ttotal: 2m 5s\tremaining: 20.2s\n",
      "862:\tlearn: 1687.5179223\ttotal: 2m 6s\tremaining: 20s\n",
      "863:\tlearn: 1687.4309489\ttotal: 2m 6s\tremaining: 19.9s\n",
      "864:\tlearn: 1687.3490503\ttotal: 2m 6s\tremaining: 19.7s\n",
      "865:\tlearn: 1687.2188127\ttotal: 2m 6s\tremaining: 19.6s\n",
      "866:\tlearn: 1687.1488280\ttotal: 2m 6s\tremaining: 19.4s\n",
      "867:\tlearn: 1687.0100424\ttotal: 2m 6s\tremaining: 19.3s\n",
      "868:\tlearn: 1686.8912876\ttotal: 2m 6s\tremaining: 19.1s\n",
      "869:\tlearn: 1686.7092498\ttotal: 2m 7s\tremaining: 19s\n",
      "870:\tlearn: 1686.6445195\ttotal: 2m 7s\tremaining: 18.8s\n",
      "871:\tlearn: 1686.5170473\ttotal: 2m 7s\tremaining: 18.7s\n",
      "872:\tlearn: 1686.4202461\ttotal: 2m 7s\tremaining: 18.6s\n",
      "873:\tlearn: 1686.2141832\ttotal: 2m 7s\tremaining: 18.4s\n",
      "874:\tlearn: 1686.0057095\ttotal: 2m 7s\tremaining: 18.3s\n",
      "875:\tlearn: 1685.9082648\ttotal: 2m 8s\tremaining: 18.1s\n",
      "876:\tlearn: 1685.8082119\ttotal: 2m 8s\tremaining: 18s\n",
      "877:\tlearn: 1685.6732129\ttotal: 2m 8s\tremaining: 17.8s\n",
      "878:\tlearn: 1685.5147550\ttotal: 2m 8s\tremaining: 17.7s\n",
      "879:\tlearn: 1685.4545203\ttotal: 2m 8s\tremaining: 17.5s\n",
      "880:\tlearn: 1685.3544405\ttotal: 2m 8s\tremaining: 17.4s\n",
      "881:\tlearn: 1685.2373361\ttotal: 2m 8s\tremaining: 17.2s\n",
      "882:\tlearn: 1685.0159007\ttotal: 2m 8s\tremaining: 17.1s\n",
      "883:\tlearn: 1684.9203249\ttotal: 2m 9s\tremaining: 16.9s\n",
      "884:\tlearn: 1684.7695060\ttotal: 2m 9s\tremaining: 16.8s\n",
      "885:\tlearn: 1684.6227228\ttotal: 2m 9s\tremaining: 16.6s\n",
      "886:\tlearn: 1684.5425933\ttotal: 2m 9s\tremaining: 16.5s\n",
      "887:\tlearn: 1684.4201660\ttotal: 2m 9s\tremaining: 16.3s\n",
      "888:\tlearn: 1684.2797150\ttotal: 2m 9s\tremaining: 16.2s\n",
      "889:\tlearn: 1684.1694879\ttotal: 2m 9s\tremaining: 16.1s\n",
      "890:\tlearn: 1684.0847528\ttotal: 2m 10s\tremaining: 15.9s\n",
      "891:\tlearn: 1683.9581869\ttotal: 2m 10s\tremaining: 15.8s\n",
      "892:\tlearn: 1683.8378575\ttotal: 2m 10s\tremaining: 15.6s\n",
      "893:\tlearn: 1683.7232627\ttotal: 2m 10s\tremaining: 15.5s\n",
      "894:\tlearn: 1683.6306447\ttotal: 2m 10s\tremaining: 15.3s\n",
      "895:\tlearn: 1683.4931642\ttotal: 2m 10s\tremaining: 15.2s\n",
      "896:\tlearn: 1683.3981916\ttotal: 2m 10s\tremaining: 15s\n",
      "897:\tlearn: 1683.2894450\ttotal: 2m 11s\tremaining: 14.9s\n",
      "898:\tlearn: 1683.1151574\ttotal: 2m 11s\tremaining: 14.7s\n",
      "899:\tlearn: 1683.0460177\ttotal: 2m 11s\tremaining: 14.6s\n",
      "900:\tlearn: 1682.9832078\ttotal: 2m 11s\tremaining: 14.4s\n",
      "901:\tlearn: 1682.7366664\ttotal: 2m 11s\tremaining: 14.3s\n",
      "902:\tlearn: 1682.6286851\ttotal: 2m 11s\tremaining: 14.2s\n",
      "903:\tlearn: 1682.4644569\ttotal: 2m 11s\tremaining: 14s\n",
      "904:\tlearn: 1682.3071233\ttotal: 2m 12s\tremaining: 13.9s\n",
      "905:\tlearn: 1682.1967367\ttotal: 2m 12s\tremaining: 13.7s\n",
      "906:\tlearn: 1682.0302499\ttotal: 2m 12s\tremaining: 13.6s\n",
      "907:\tlearn: 1681.9111831\ttotal: 2m 12s\tremaining: 13.4s\n",
      "908:\tlearn: 1681.8482167\ttotal: 2m 12s\tremaining: 13.3s\n",
      "909:\tlearn: 1681.6702710\ttotal: 2m 12s\tremaining: 13.1s\n",
      "910:\tlearn: 1681.5906974\ttotal: 2m 12s\tremaining: 13s\n",
      "911:\tlearn: 1681.4909733\ttotal: 2m 13s\tremaining: 12.8s\n",
      "912:\tlearn: 1681.4101268\ttotal: 2m 13s\tremaining: 12.7s\n",
      "913:\tlearn: 1681.3031880\ttotal: 2m 13s\tremaining: 12.6s\n",
      "914:\tlearn: 1681.2089901\ttotal: 2m 13s\tremaining: 12.4s\n",
      "915:\tlearn: 1681.1185631\ttotal: 2m 13s\tremaining: 12.3s\n",
      "916:\tlearn: 1680.9157409\ttotal: 2m 13s\tremaining: 12.1s\n",
      "917:\tlearn: 1680.8116452\ttotal: 2m 13s\tremaining: 12s\n",
      "918:\tlearn: 1680.6209420\ttotal: 2m 14s\tremaining: 11.8s\n",
      "919:\tlearn: 1680.4664408\ttotal: 2m 14s\tremaining: 11.7s\n",
      "920:\tlearn: 1680.3203529\ttotal: 2m 14s\tremaining: 11.5s\n",
      "921:\tlearn: 1680.2165480\ttotal: 2m 14s\tremaining: 11.4s\n",
      "922:\tlearn: 1680.1000655\ttotal: 2m 14s\tremaining: 11.2s\n",
      "923:\tlearn: 1679.9999575\ttotal: 2m 14s\tremaining: 11.1s\n",
      "924:\tlearn: 1679.9010049\ttotal: 2m 15s\tremaining: 11s\n",
      "925:\tlearn: 1679.8006153\ttotal: 2m 15s\tremaining: 10.8s\n",
      "926:\tlearn: 1679.6695111\ttotal: 2m 15s\tremaining: 10.7s\n",
      "927:\tlearn: 1679.5838614\ttotal: 2m 15s\tremaining: 10.5s\n",
      "928:\tlearn: 1679.4773592\ttotal: 2m 15s\tremaining: 10.4s\n",
      "929:\tlearn: 1679.3739240\ttotal: 2m 15s\tremaining: 10.2s\n",
      "930:\tlearn: 1679.2265182\ttotal: 2m 15s\tremaining: 10.1s\n",
      "931:\tlearn: 1679.1170230\ttotal: 2m 16s\tremaining: 9.93s\n",
      "932:\tlearn: 1679.0264121\ttotal: 2m 16s\tremaining: 9.79s\n",
      "933:\tlearn: 1678.8087021\ttotal: 2m 16s\tremaining: 9.64s\n",
      "934:\tlearn: 1678.6530505\ttotal: 2m 16s\tremaining: 9.49s\n",
      "935:\tlearn: 1678.3832259\ttotal: 2m 16s\tremaining: 9.35s\n",
      "936:\tlearn: 1678.3377719\ttotal: 2m 16s\tremaining: 9.2s\n",
      "937:\tlearn: 1678.1539242\ttotal: 2m 16s\tremaining: 9.05s\n",
      "938:\tlearn: 1677.9615989\ttotal: 2m 17s\tremaining: 8.91s\n",
      "939:\tlearn: 1677.8325141\ttotal: 2m 17s\tremaining: 8.76s\n",
      "940:\tlearn: 1677.6579629\ttotal: 2m 17s\tremaining: 8.62s\n",
      "941:\tlearn: 1677.5378932\ttotal: 2m 17s\tremaining: 8.47s\n",
      "942:\tlearn: 1677.4897678\ttotal: 2m 17s\tremaining: 8.33s\n",
      "943:\tlearn: 1677.3559712\ttotal: 2m 17s\tremaining: 8.18s\n",
      "944:\tlearn: 1677.2533644\ttotal: 2m 18s\tremaining: 8.04s\n",
      "945:\tlearn: 1677.1890196\ttotal: 2m 18s\tremaining: 7.89s\n",
      "946:\tlearn: 1677.0777378\ttotal: 2m 18s\tremaining: 7.74s\n",
      "947:\tlearn: 1676.8927542\ttotal: 2m 18s\tremaining: 7.59s\n",
      "948:\tlearn: 1676.7738600\ttotal: 2m 18s\tremaining: 7.45s\n",
      "949:\tlearn: 1676.6542021\ttotal: 2m 18s\tremaining: 7.3s\n",
      "950:\tlearn: 1676.5378962\ttotal: 2m 18s\tremaining: 7.16s\n",
      "951:\tlearn: 1676.4192980\ttotal: 2m 19s\tremaining: 7.01s\n",
      "952:\tlearn: 1676.2896618\ttotal: 2m 19s\tremaining: 6.87s\n",
      "953:\tlearn: 1676.2051259\ttotal: 2m 19s\tremaining: 6.72s\n",
      "954:\tlearn: 1676.0128936\ttotal: 2m 19s\tremaining: 6.58s\n",
      "955:\tlearn: 1675.8830788\ttotal: 2m 19s\tremaining: 6.43s\n",
      "956:\tlearn: 1675.7766872\ttotal: 2m 19s\tremaining: 6.28s\n",
      "957:\tlearn: 1675.7111145\ttotal: 2m 19s\tremaining: 6.13s\n",
      "958:\tlearn: 1675.5489210\ttotal: 2m 20s\tremaining: 5.99s\n",
      "959:\tlearn: 1675.4515761\ttotal: 2m 20s\tremaining: 5.84s\n",
      "960:\tlearn: 1675.3696483\ttotal: 2m 20s\tremaining: 5.7s\n",
      "961:\tlearn: 1675.2599343\ttotal: 2m 20s\tremaining: 5.55s\n",
      "962:\tlearn: 1675.0549563\ttotal: 2m 20s\tremaining: 5.41s\n",
      "963:\tlearn: 1674.8961248\ttotal: 2m 20s\tremaining: 5.26s\n",
      "964:\tlearn: 1674.7982284\ttotal: 2m 21s\tremaining: 5.12s\n",
      "965:\tlearn: 1674.6993349\ttotal: 2m 21s\tremaining: 4.97s\n",
      "966:\tlearn: 1674.5191159\ttotal: 2m 21s\tremaining: 4.82s\n",
      "967:\tlearn: 1674.4100499\ttotal: 2m 21s\tremaining: 4.67s\n",
      "968:\tlearn: 1674.3210547\ttotal: 2m 21s\tremaining: 4.53s\n",
      "969:\tlearn: 1674.1778477\ttotal: 2m 21s\tremaining: 4.38s\n",
      "970:\tlearn: 1673.9733884\ttotal: 2m 21s\tremaining: 4.24s\n",
      "971:\tlearn: 1673.8652058\ttotal: 2m 22s\tremaining: 4.09s\n",
      "972:\tlearn: 1673.7453569\ttotal: 2m 22s\tremaining: 3.94s\n",
      "973:\tlearn: 1673.6759196\ttotal: 2m 22s\tremaining: 3.8s\n",
      "974:\tlearn: 1673.5212892\ttotal: 2m 22s\tremaining: 3.65s\n",
      "975:\tlearn: 1673.4126989\ttotal: 2m 22s\tremaining: 3.51s\n",
      "976:\tlearn: 1673.1493364\ttotal: 2m 22s\tremaining: 3.36s\n",
      "977:\tlearn: 1673.0223338\ttotal: 2m 22s\tremaining: 3.21s\n",
      "978:\tlearn: 1672.9570977\ttotal: 2m 23s\tremaining: 3.07s\n",
      "979:\tlearn: 1672.8319652\ttotal: 2m 23s\tremaining: 2.92s\n",
      "980:\tlearn: 1672.6956709\ttotal: 2m 23s\tremaining: 2.78s\n",
      "981:\tlearn: 1672.5776066\ttotal: 2m 23s\tremaining: 2.63s\n",
      "982:\tlearn: 1672.4393872\ttotal: 2m 23s\tremaining: 2.48s\n",
      "983:\tlearn: 1672.3208782\ttotal: 2m 23s\tremaining: 2.34s\n",
      "984:\tlearn: 1672.1732474\ttotal: 2m 23s\tremaining: 2.19s\n",
      "985:\tlearn: 1672.0712855\ttotal: 2m 24s\tremaining: 2.05s\n",
      "986:\tlearn: 1672.0060649\ttotal: 2m 24s\tremaining: 1.9s\n",
      "987:\tlearn: 1671.9155342\ttotal: 2m 24s\tremaining: 1.75s\n",
      "988:\tlearn: 1671.8423796\ttotal: 2m 24s\tremaining: 1.61s\n",
      "989:\tlearn: 1671.7661428\ttotal: 2m 24s\tremaining: 1.46s\n",
      "990:\tlearn: 1671.5781076\ttotal: 2m 24s\tremaining: 1.31s\n",
      "991:\tlearn: 1671.4524606\ttotal: 2m 24s\tremaining: 1.17s\n",
      "992:\tlearn: 1671.3210399\ttotal: 2m 25s\tremaining: 1.02s\n",
      "993:\tlearn: 1671.2018082\ttotal: 2m 25s\tremaining: 877ms\n",
      "994:\tlearn: 1671.1597912\ttotal: 2m 25s\tremaining: 730ms\n",
      "995:\tlearn: 1671.0162301\ttotal: 2m 25s\tremaining: 584ms\n",
      "996:\tlearn: 1670.9272532\ttotal: 2m 25s\tremaining: 438ms\n",
      "997:\tlearn: 1670.8110812\ttotal: 2m 25s\tremaining: 292ms\n",
      "998:\tlearn: 1670.6572873\ttotal: 2m 25s\tremaining: 146ms\n",
      "999:\tlearn: 1670.5789370\ttotal: 2m 26s\tremaining: 0us\n",
      "CatBoost with OHE\n",
      "RMSE: 1703.817876905744 Training time: 153.08609819412231 Prediction time: 0.21335506439208984\n",
      "CPU times: user 2min 13s, sys: 16.5 s, total: 2min 29s\n",
      "Wall time: 2min 33s\n"
     ]
    }
   ],
   "source": [
    "%%time\n",
    "# CatBoost with OHE \n",
    "cb_model = CatBoostRegressor(random_state=42)\n",
    "\n",
    "start = time.time()\n",
    "cb_model.fit(features_train, target_train)\n",
    "end = time.time()\n",
    "cbohett = end - start\n",
    "\n",
    "start = time.time()\n",
    "predicted_valid = cb_model.predict(features_valid)\n",
    "end = time.time()\n",
    "cbohept = end - start\n",
    "\n",
    "cbohe_rmse_calc = mean_squared_error(target_valid, predicted_valid)**0.5\n",
    "\n",
    "print('CatBoost with OHE')\n",
    "print('RMSE:', cbohe_rmse_calc, 'Training time:', cbohett, 'Prediction time:', cbohept)"
   ]
  },
  {
   "cell_type": "code",
   "execution_count": 58,
   "metadata": {},
   "outputs": [
    {
     "name": "stdout",
     "output_type": "stream",
     "text": [
      "0:\tlearn: 4478.4138069\ttotal: 529ms\tremaining: 8m 48s\n",
      "1:\tlearn: 4392.1961601\ttotal: 1.13s\tremaining: 9m 23s\n",
      "2:\tlearn: 4309.6511182\ttotal: 1.63s\tremaining: 9m 1s\n",
      "3:\tlearn: 4230.0585080\ttotal: 2.22s\tremaining: 9m 12s\n",
      "4:\tlearn: 4153.5073781\ttotal: 2.73s\tremaining: 9m 2s\n",
      "5:\tlearn: 4077.4151115\ttotal: 3.32s\tremaining: 9m 10s\n",
      "6:\tlearn: 4004.1621682\ttotal: 3.92s\tremaining: 9m 16s\n",
      "7:\tlearn: 3934.3220221\ttotal: 4.42s\tremaining: 9m 8s\n",
      "8:\tlearn: 3866.8768840\ttotal: 5.01s\tremaining: 9m 12s\n",
      "9:\tlearn: 3800.0963102\ttotal: 5.53s\tremaining: 9m 7s\n",
      "10:\tlearn: 3736.5353106\ttotal: 6.12s\tremaining: 9m 10s\n",
      "11:\tlearn: 3675.8516709\ttotal: 6.72s\tremaining: 9m 13s\n",
      "12:\tlearn: 3616.5362126\ttotal: 7.32s\tremaining: 9m 15s\n",
      "13:\tlearn: 3559.9368459\ttotal: 7.91s\tremaining: 9m 17s\n",
      "14:\tlearn: 3505.0986190\ttotal: 8.32s\tremaining: 9m 6s\n",
      "15:\tlearn: 3453.0637704\ttotal: 8.91s\tremaining: 9m 8s\n",
      "16:\tlearn: 3400.6724419\ttotal: 9.51s\tremaining: 9m 9s\n",
      "17:\tlearn: 3352.4051909\ttotal: 10s\tremaining: 9m 6s\n",
      "18:\tlearn: 3304.3949169\ttotal: 10.6s\tremaining: 9m 8s\n",
      "19:\tlearn: 3258.2662247\ttotal: 11.2s\tremaining: 9m 9s\n",
      "20:\tlearn: 3213.6121071\ttotal: 11.8s\tremaining: 9m 10s\n",
      "21:\tlearn: 3171.0121683\ttotal: 12.3s\tremaining: 9m 7s\n",
      "22:\tlearn: 3128.7814358\ttotal: 12.9s\tremaining: 9m 8s\n",
      "23:\tlearn: 3088.4814678\ttotal: 13.4s\tremaining: 9m 5s\n",
      "24:\tlearn: 3050.8087042\ttotal: 13.9s\tremaining: 9m 2s\n",
      "25:\tlearn: 3013.8401651\ttotal: 14.5s\tremaining: 9m 3s\n",
      "26:\tlearn: 2977.6399524\ttotal: 14.9s\tremaining: 8m 57s\n",
      "27:\tlearn: 2942.9232492\ttotal: 15.5s\tremaining: 8m 58s\n",
      "28:\tlearn: 2910.1518481\ttotal: 16s\tremaining: 8m 56s\n",
      "29:\tlearn: 2879.0201484\ttotal: 16.6s\tremaining: 8m 56s\n",
      "30:\tlearn: 2848.0026764\ttotal: 17.1s\tremaining: 8m 54s\n",
      "31:\tlearn: 2818.2882119\ttotal: 17.6s\tremaining: 8m 52s\n",
      "32:\tlearn: 2790.8470992\ttotal: 18.2s\tremaining: 8m 53s\n",
      "33:\tlearn: 2763.1229466\ttotal: 18.7s\tremaining: 8m 51s\n",
      "34:\tlearn: 2734.2407073\ttotal: 19.2s\tremaining: 8m 49s\n",
      "35:\tlearn: 2707.6694145\ttotal: 19.8s\tremaining: 8m 50s\n",
      "36:\tlearn: 2680.8469063\ttotal: 20.3s\tremaining: 8m 48s\n",
      "37:\tlearn: 2656.8182714\ttotal: 20.8s\tremaining: 8m 46s\n",
      "38:\tlearn: 2633.4091213\ttotal: 21.3s\tremaining: 8m 44s\n",
      "39:\tlearn: 2611.2551463\ttotal: 21.9s\tremaining: 8m 45s\n",
      "40:\tlearn: 2590.1409023\ttotal: 22.3s\tremaining: 8m 41s\n",
      "41:\tlearn: 2569.2089352\ttotal: 22.9s\tremaining: 8m 42s\n",
      "42:\tlearn: 2545.8168629\ttotal: 23.5s\tremaining: 8m 42s\n",
      "43:\tlearn: 2526.2266410\ttotal: 24s\tremaining: 8m 41s\n",
      "44:\tlearn: 2507.9086181\ttotal: 24.5s\tremaining: 8m 39s\n",
      "45:\tlearn: 2488.0666671\ttotal: 25s\tremaining: 8m 38s\n",
      "46:\tlearn: 2468.6322010\ttotal: 25.5s\tremaining: 8m 36s\n",
      "47:\tlearn: 2452.0781488\ttotal: 26.1s\tremaining: 8m 37s\n",
      "48:\tlearn: 2436.0869617\ttotal: 26.7s\tremaining: 8m 37s\n",
      "49:\tlearn: 2417.3650589\ttotal: 27.2s\tremaining: 8m 36s\n",
      "50:\tlearn: 2402.0087685\ttotal: 27.8s\tremaining: 8m 36s\n",
      "51:\tlearn: 2387.8154892\ttotal: 28.3s\tremaining: 8m 35s\n",
      "52:\tlearn: 2373.9383946\ttotal: 28.7s\tremaining: 8m 32s\n",
      "53:\tlearn: 2360.5512601\ttotal: 29.3s\tremaining: 8m 32s\n",
      "54:\tlearn: 2345.2355163\ttotal: 29.7s\tremaining: 8m 29s\n",
      "55:\tlearn: 2330.1276133\ttotal: 30.2s\tremaining: 8m 28s\n",
      "56:\tlearn: 2316.5198562\ttotal: 30.8s\tremaining: 8m 29s\n",
      "57:\tlearn: 2302.1854802\ttotal: 31.3s\tremaining: 8m 27s\n",
      "58:\tlearn: 2289.1845914\ttotal: 31.9s\tremaining: 8m 28s\n",
      "59:\tlearn: 2275.8611682\ttotal: 32.4s\tremaining: 8m 27s\n",
      "60:\tlearn: 2262.6637821\ttotal: 32.8s\tremaining: 8m 24s\n",
      "61:\tlearn: 2250.2481184\ttotal: 33.3s\tremaining: 8m 23s\n",
      "62:\tlearn: 2239.0558432\ttotal: 33.9s\tremaining: 8m 23s\n",
      "63:\tlearn: 2227.5207175\ttotal: 34.4s\tremaining: 8m 22s\n",
      "64:\tlearn: 2216.4916649\ttotal: 35s\tremaining: 8m 23s\n",
      "65:\tlearn: 2206.5411871\ttotal: 35.6s\tremaining: 8m 23s\n",
      "66:\tlearn: 2197.3689321\ttotal: 36s\tremaining: 8m 20s\n",
      "67:\tlearn: 2187.8575213\ttotal: 36.6s\tremaining: 8m 21s\n",
      "68:\tlearn: 2178.4020713\ttotal: 37s\tremaining: 8m 18s\n",
      "69:\tlearn: 2169.0542769\ttotal: 37.4s\tremaining: 8m 16s\n",
      "70:\tlearn: 2160.2823779\ttotal: 37.9s\tremaining: 8m 15s\n",
      "71:\tlearn: 2152.5702850\ttotal: 38.4s\tremaining: 8m 14s\n",
      "72:\tlearn: 2143.9336910\ttotal: 38.9s\tremaining: 8m 13s\n",
      "73:\tlearn: 2136.5405041\ttotal: 39.5s\tremaining: 8m 13s\n",
      "74:\tlearn: 2129.3806836\ttotal: 40s\tremaining: 8m 12s\n",
      "75:\tlearn: 2122.0658882\ttotal: 40.5s\tremaining: 8m 11s\n",
      "76:\tlearn: 2114.9210874\ttotal: 41s\tremaining: 8m 10s\n",
      "77:\tlearn: 2108.1099656\ttotal: 41.4s\tremaining: 8m 8s\n",
      "78:\tlearn: 2101.5414313\ttotal: 42s\tremaining: 8m 9s\n",
      "79:\tlearn: 2095.3680786\ttotal: 42.4s\tremaining: 8m 7s\n",
      "80:\tlearn: 2089.5629632\ttotal: 42.9s\tremaining: 8m 6s\n",
      "81:\tlearn: 2083.8864966\ttotal: 43.4s\tremaining: 8m 5s\n",
      "82:\tlearn: 2077.8939540\ttotal: 43.9s\tremaining: 8m 4s\n",
      "83:\tlearn: 2072.2425691\ttotal: 44.4s\tremaining: 8m 3s\n",
      "84:\tlearn: 2067.0334120\ttotal: 44.8s\tremaining: 8m 2s\n",
      "85:\tlearn: 2061.8763805\ttotal: 45.3s\tremaining: 8m 1s\n",
      "86:\tlearn: 2056.9530759\ttotal: 45.8s\tremaining: 8m\n",
      "87:\tlearn: 2052.0113476\ttotal: 46.2s\tremaining: 7m 58s\n",
      "88:\tlearn: 2047.4889091\ttotal: 46.7s\tremaining: 7m 57s\n",
      "89:\tlearn: 2042.8339295\ttotal: 47.2s\tremaining: 7m 56s\n",
      "90:\tlearn: 2038.3778043\ttotal: 47.7s\tremaining: 7m 56s\n",
      "91:\tlearn: 2034.0977189\ttotal: 48.2s\tremaining: 7m 56s\n",
      "92:\tlearn: 2030.0251549\ttotal: 48.8s\tremaining: 7m 55s\n",
      "93:\tlearn: 2026.0685249\ttotal: 49.2s\tremaining: 7m 54s\n",
      "94:\tlearn: 2021.6271195\ttotal: 49.7s\tremaining: 7m 53s\n",
      "95:\tlearn: 2017.8515286\ttotal: 50.2s\tremaining: 7m 53s\n",
      "96:\tlearn: 2014.2464801\ttotal: 50.7s\tremaining: 7m 52s\n",
      "97:\tlearn: 2010.2468604\ttotal: 51.3s\tremaining: 7m 52s\n",
      "98:\tlearn: 2006.6269471\ttotal: 51.9s\tremaining: 7m 52s\n",
      "99:\tlearn: 2002.4876608\ttotal: 52.2s\tremaining: 7m 50s\n",
      "100:\tlearn: 1999.4137575\ttotal: 52.7s\tremaining: 7m 49s\n",
      "101:\tlearn: 1995.6974534\ttotal: 53.2s\tremaining: 7m 48s\n",
      "102:\tlearn: 1992.2123678\ttotal: 53.7s\tremaining: 7m 48s\n",
      "103:\tlearn: 1988.6060074\ttotal: 54.2s\tremaining: 7m 47s\n",
      "104:\tlearn: 1985.5405941\ttotal: 54.8s\tremaining: 7m 47s\n",
      "105:\tlearn: 1982.5047192\ttotal: 55.3s\tremaining: 7m 46s\n",
      "106:\tlearn: 1979.5211766\ttotal: 55.9s\tremaining: 7m 46s\n",
      "107:\tlearn: 1976.6071378\ttotal: 56.4s\tremaining: 7m 46s\n",
      "108:\tlearn: 1973.3060166\ttotal: 56.8s\tremaining: 7m 44s\n",
      "109:\tlearn: 1970.4752914\ttotal: 57.4s\tremaining: 7m 44s\n",
      "110:\tlearn: 1967.4649270\ttotal: 57.8s\tremaining: 7m 43s\n",
      "111:\tlearn: 1964.7059270\ttotal: 58.2s\tremaining: 7m 41s\n",
      "112:\tlearn: 1962.3217078\ttotal: 58.6s\tremaining: 7m 40s\n",
      "113:\tlearn: 1959.6679093\ttotal: 59.1s\tremaining: 7m 39s\n",
      "114:\tlearn: 1957.0869514\ttotal: 59.7s\tremaining: 7m 39s\n",
      "115:\tlearn: 1954.3943056\ttotal: 1m\tremaining: 7m 39s\n",
      "116:\tlearn: 1951.8472474\ttotal: 1m\tremaining: 7m 39s\n",
      "117:\tlearn: 1949.2503979\ttotal: 1m 1s\tremaining: 7m 38s\n",
      "118:\tlearn: 1947.1790761\ttotal: 1m 1s\tremaining: 7m 37s\n",
      "119:\tlearn: 1945.2082374\ttotal: 1m 2s\tremaining: 7m 37s\n",
      "120:\tlearn: 1943.0841752\ttotal: 1m 2s\tremaining: 7m 37s\n",
      "121:\tlearn: 1940.5974777\ttotal: 1m 3s\tremaining: 7m 36s\n",
      "122:\tlearn: 1938.2271431\ttotal: 1m 3s\tremaining: 7m 35s\n",
      "123:\tlearn: 1936.1780656\ttotal: 1m 4s\tremaining: 7m 35s\n",
      "124:\tlearn: 1933.9978887\ttotal: 1m 4s\tremaining: 7m 34s\n",
      "125:\tlearn: 1931.9410772\ttotal: 1m 5s\tremaining: 7m 34s\n",
      "126:\tlearn: 1930.1699867\ttotal: 1m 5s\tremaining: 7m 33s\n",
      "127:\tlearn: 1928.1494870\ttotal: 1m 6s\tremaining: 7m 33s\n",
      "128:\tlearn: 1925.7841578\ttotal: 1m 7s\tremaining: 7m 33s\n",
      "129:\tlearn: 1923.6629936\ttotal: 1m 7s\tremaining: 7m 32s\n",
      "130:\tlearn: 1921.8186325\ttotal: 1m 8s\tremaining: 7m 31s\n",
      "131:\tlearn: 1919.7586720\ttotal: 1m 8s\tremaining: 7m 30s\n",
      "132:\tlearn: 1917.5766211\ttotal: 1m 9s\tremaining: 7m 30s\n",
      "133:\tlearn: 1915.5160648\ttotal: 1m 9s\tremaining: 7m 29s\n",
      "134:\tlearn: 1913.7854632\ttotal: 1m 10s\tremaining: 7m 28s\n",
      "135:\tlearn: 1912.2321211\ttotal: 1m 10s\tremaining: 7m 28s\n",
      "136:\tlearn: 1910.3908543\ttotal: 1m 11s\tremaining: 7m 27s\n",
      "137:\tlearn: 1908.8787033\ttotal: 1m 11s\tremaining: 7m 27s\n",
      "138:\tlearn: 1907.3324858\ttotal: 1m 12s\tremaining: 7m 26s\n",
      "139:\tlearn: 1905.7222243\ttotal: 1m 12s\tremaining: 7m 25s\n",
      "140:\tlearn: 1903.7564388\ttotal: 1m 13s\tremaining: 7m 25s\n",
      "141:\tlearn: 1901.7188194\ttotal: 1m 13s\tremaining: 7m 25s\n",
      "142:\tlearn: 1900.0657365\ttotal: 1m 14s\tremaining: 7m 24s\n",
      "143:\tlearn: 1898.2429397\ttotal: 1m 14s\tremaining: 7m 24s\n",
      "144:\tlearn: 1896.9001713\ttotal: 1m 15s\tremaining: 7m 23s\n",
      "145:\tlearn: 1895.8453514\ttotal: 1m 15s\tremaining: 7m 22s\n",
      "146:\tlearn: 1894.1597907\ttotal: 1m 16s\tremaining: 7m 22s\n",
      "147:\tlearn: 1892.6772243\ttotal: 1m 16s\tremaining: 7m 22s\n",
      "148:\tlearn: 1891.5974719\ttotal: 1m 17s\tremaining: 7m 21s\n",
      "149:\tlearn: 1889.4760417\ttotal: 1m 17s\tremaining: 7m 20s\n",
      "150:\tlearn: 1887.9733336\ttotal: 1m 18s\tremaining: 7m 20s\n",
      "151:\tlearn: 1886.8643636\ttotal: 1m 18s\tremaining: 7m 20s\n",
      "152:\tlearn: 1885.4312589\ttotal: 1m 19s\tremaining: 7m 20s\n",
      "153:\tlearn: 1884.0826501\ttotal: 1m 19s\tremaining: 7m 19s\n",
      "154:\tlearn: 1882.7319669\ttotal: 1m 20s\tremaining: 7m 18s\n",
      "155:\tlearn: 1881.0816609\ttotal: 1m 21s\tremaining: 7m 18s\n",
      "156:\tlearn: 1879.9540367\ttotal: 1m 21s\tremaining: 7m 18s\n",
      "157:\tlearn: 1878.6448784\ttotal: 1m 21s\tremaining: 7m 16s\n",
      "158:\tlearn: 1877.1682756\ttotal: 1m 22s\tremaining: 7m 16s\n",
      "159:\tlearn: 1876.0699160\ttotal: 1m 23s\tremaining: 7m 16s\n",
      "160:\tlearn: 1875.2082530\ttotal: 1m 23s\tremaining: 7m 15s\n",
      "161:\tlearn: 1873.6447398\ttotal: 1m 24s\tremaining: 7m 14s\n",
      "162:\tlearn: 1872.5548835\ttotal: 1m 24s\tremaining: 7m 14s\n",
      "163:\tlearn: 1871.3518343\ttotal: 1m 24s\tremaining: 7m 13s\n",
      "164:\tlearn: 1870.4356705\ttotal: 1m 25s\tremaining: 7m 13s\n",
      "165:\tlearn: 1869.1211969\ttotal: 1m 26s\tremaining: 7m 12s\n",
      "166:\tlearn: 1867.9815226\ttotal: 1m 26s\tremaining: 7m 12s\n",
      "167:\tlearn: 1866.9486852\ttotal: 1m 27s\tremaining: 7m 11s\n",
      "168:\tlearn: 1866.1528261\ttotal: 1m 27s\tremaining: 7m 11s\n",
      "169:\tlearn: 1865.4016149\ttotal: 1m 28s\tremaining: 7m 10s\n",
      "170:\tlearn: 1864.2681838\ttotal: 1m 28s\tremaining: 7m 9s\n",
      "171:\tlearn: 1863.0042969\ttotal: 1m 29s\tremaining: 7m 8s\n",
      "172:\tlearn: 1861.9366607\ttotal: 1m 29s\tremaining: 7m 8s\n",
      "173:\tlearn: 1860.9662262\ttotal: 1m 30s\tremaining: 7m 7s\n",
      "174:\tlearn: 1860.0130344\ttotal: 1m 30s\tremaining: 7m 6s\n",
      "175:\tlearn: 1859.1413442\ttotal: 1m 30s\tremaining: 7m 5s\n",
      "176:\tlearn: 1858.2348458\ttotal: 1m 31s\tremaining: 7m 5s\n",
      "177:\tlearn: 1857.4234015\ttotal: 1m 32s\tremaining: 7m 5s\n",
      "178:\tlearn: 1856.2927225\ttotal: 1m 32s\tremaining: 7m 4s\n",
      "179:\tlearn: 1855.2725188\ttotal: 1m 33s\tremaining: 7m 4s\n",
      "180:\tlearn: 1853.8825399\ttotal: 1m 33s\tremaining: 7m 4s\n",
      "181:\tlearn: 1852.9105451\ttotal: 1m 34s\tremaining: 7m 3s\n",
      "182:\tlearn: 1851.9135822\ttotal: 1m 34s\tremaining: 7m 2s\n",
      "183:\tlearn: 1851.0303982\ttotal: 1m 35s\tremaining: 7m 1s\n",
      "184:\tlearn: 1850.0469967\ttotal: 1m 35s\tremaining: 7m\n",
      "185:\tlearn: 1849.1601891\ttotal: 1m 35s\tremaining: 6m 59s\n",
      "186:\tlearn: 1848.0650054\ttotal: 1m 36s\tremaining: 6m 58s\n",
      "187:\tlearn: 1847.2152523\ttotal: 1m 36s\tremaining: 6m 58s\n",
      "188:\tlearn: 1846.4135790\ttotal: 1m 37s\tremaining: 6m 58s\n",
      "189:\tlearn: 1845.6468629\ttotal: 1m 37s\tremaining: 6m 57s\n",
      "190:\tlearn: 1844.8041517\ttotal: 1m 38s\tremaining: 6m 56s\n",
      "191:\tlearn: 1843.8559625\ttotal: 1m 38s\tremaining: 6m 56s\n",
      "192:\tlearn: 1842.8195120\ttotal: 1m 39s\tremaining: 6m 55s\n",
      "193:\tlearn: 1841.9895378\ttotal: 1m 39s\tremaining: 6m 54s\n",
      "194:\tlearn: 1841.2346972\ttotal: 1m 40s\tremaining: 6m 54s\n",
      "195:\tlearn: 1840.6205185\ttotal: 1m 40s\tremaining: 6m 53s\n",
      "196:\tlearn: 1839.6149806\ttotal: 1m 41s\tremaining: 6m 52s\n",
      "197:\tlearn: 1839.0020880\ttotal: 1m 41s\tremaining: 6m 52s\n",
      "198:\tlearn: 1837.8143482\ttotal: 1m 42s\tremaining: 6m 51s\n",
      "199:\tlearn: 1837.0051724\ttotal: 1m 42s\tremaining: 6m 51s\n",
      "200:\tlearn: 1836.2835864\ttotal: 1m 43s\tremaining: 6m 50s\n",
      "201:\tlearn: 1835.6709081\ttotal: 1m 43s\tremaining: 6m 50s\n",
      "202:\tlearn: 1835.1719079\ttotal: 1m 44s\tremaining: 6m 49s\n",
      "203:\tlearn: 1834.3010749\ttotal: 1m 44s\tremaining: 6m 49s\n",
      "204:\tlearn: 1833.3856743\ttotal: 1m 45s\tremaining: 6m 48s\n",
      "205:\tlearn: 1832.4919965\ttotal: 1m 45s\tremaining: 6m 47s\n",
      "206:\tlearn: 1831.7676872\ttotal: 1m 46s\tremaining: 6m 46s\n",
      "207:\tlearn: 1830.9677987\ttotal: 1m 46s\tremaining: 6m 46s\n",
      "208:\tlearn: 1830.0541170\ttotal: 1m 47s\tremaining: 6m 45s\n",
      "209:\tlearn: 1829.4669567\ttotal: 1m 47s\tremaining: 6m 44s\n",
      "210:\tlearn: 1828.9262961\ttotal: 1m 48s\tremaining: 6m 43s\n",
      "211:\tlearn: 1828.0854041\ttotal: 1m 48s\tremaining: 6m 43s\n",
      "212:\tlearn: 1827.3667370\ttotal: 1m 49s\tremaining: 6m 43s\n",
      "213:\tlearn: 1826.8914807\ttotal: 1m 49s\tremaining: 6m 42s\n",
      "214:\tlearn: 1825.7819194\ttotal: 1m 50s\tremaining: 6m 42s\n",
      "215:\tlearn: 1824.9032933\ttotal: 1m 50s\tremaining: 6m 41s\n",
      "216:\tlearn: 1824.3480369\ttotal: 1m 51s\tremaining: 6m 40s\n",
      "217:\tlearn: 1823.8285180\ttotal: 1m 51s\tremaining: 6m 40s\n",
      "218:\tlearn: 1823.1668722\ttotal: 1m 52s\tremaining: 6m 39s\n",
      "219:\tlearn: 1822.4815145\ttotal: 1m 52s\tremaining: 6m 39s\n",
      "220:\tlearn: 1821.6233651\ttotal: 1m 53s\tremaining: 6m 39s\n",
      "221:\tlearn: 1820.6569411\ttotal: 1m 53s\tremaining: 6m 38s\n",
      "222:\tlearn: 1819.9642396\ttotal: 1m 54s\tremaining: 6m 37s\n",
      "223:\tlearn: 1819.1531540\ttotal: 1m 54s\tremaining: 6m 37s\n",
      "224:\tlearn: 1818.2900587\ttotal: 1m 55s\tremaining: 6m 36s\n",
      "225:\tlearn: 1817.7786591\ttotal: 1m 55s\tremaining: 6m 36s\n",
      "226:\tlearn: 1816.9826579\ttotal: 1m 56s\tremaining: 6m 36s\n",
      "227:\tlearn: 1816.3547843\ttotal: 1m 56s\tremaining: 6m 35s\n",
      "228:\tlearn: 1815.4473668\ttotal: 1m 57s\tremaining: 6m 35s\n",
      "229:\tlearn: 1814.9684300\ttotal: 1m 57s\tremaining: 6m 34s\n",
      "230:\tlearn: 1814.1020253\ttotal: 1m 58s\tremaining: 6m 34s\n",
      "231:\tlearn: 1813.4906148\ttotal: 1m 58s\tremaining: 6m 33s\n",
      "232:\tlearn: 1812.7683473\ttotal: 1m 59s\tremaining: 6m 32s\n",
      "233:\tlearn: 1812.2039995\ttotal: 1m 59s\tremaining: 6m 32s\n",
      "234:\tlearn: 1811.5038427\ttotal: 2m\tremaining: 6m 31s\n",
      "235:\tlearn: 1810.7499250\ttotal: 2m\tremaining: 6m 30s\n",
      "236:\tlearn: 1810.2291364\ttotal: 2m 1s\tremaining: 6m 29s\n",
      "237:\tlearn: 1809.7812263\ttotal: 2m 1s\tremaining: 6m 29s\n",
      "238:\tlearn: 1808.9324943\ttotal: 2m 2s\tremaining: 6m 28s\n",
      "239:\tlearn: 1808.3120921\ttotal: 2m 2s\tremaining: 6m 27s\n",
      "240:\tlearn: 1807.8473884\ttotal: 2m 3s\tremaining: 6m 27s\n",
      "241:\tlearn: 1807.1930432\ttotal: 2m 3s\tremaining: 6m 27s\n",
      "242:\tlearn: 1806.5276581\ttotal: 2m 4s\tremaining: 6m 26s\n",
      "243:\tlearn: 1806.0657300\ttotal: 2m 4s\tremaining: 6m 25s\n",
      "244:\tlearn: 1805.5096509\ttotal: 2m 4s\tremaining: 6m 24s\n",
      "245:\tlearn: 1804.7567548\ttotal: 2m 5s\tremaining: 6m 24s\n",
      "246:\tlearn: 1804.1539028\ttotal: 2m 5s\tremaining: 6m 24s\n",
      "247:\tlearn: 1803.6533423\ttotal: 2m 6s\tremaining: 6m 23s\n",
      "248:\tlearn: 1803.0800531\ttotal: 2m 7s\tremaining: 6m 23s\n",
      "249:\tlearn: 1802.4798729\ttotal: 2m 7s\tremaining: 6m 22s\n",
      "250:\tlearn: 1802.1604276\ttotal: 2m 8s\tremaining: 6m 22s\n",
      "251:\tlearn: 1801.5712085\ttotal: 2m 8s\tremaining: 6m 21s\n",
      "252:\tlearn: 1801.1027498\ttotal: 2m 8s\tremaining: 6m 20s\n",
      "253:\tlearn: 1800.6869488\ttotal: 2m 9s\tremaining: 6m 20s\n",
      "254:\tlearn: 1800.0254004\ttotal: 2m 9s\tremaining: 6m 19s\n",
      "255:\tlearn: 1799.5652973\ttotal: 2m 10s\tremaining: 6m 18s\n",
      "256:\tlearn: 1799.2195737\ttotal: 2m 10s\tremaining: 6m 18s\n",
      "257:\tlearn: 1798.7525276\ttotal: 2m 11s\tremaining: 6m 17s\n",
      "258:\tlearn: 1797.9811517\ttotal: 2m 11s\tremaining: 6m 16s\n",
      "259:\tlearn: 1797.0855857\ttotal: 2m 12s\tremaining: 6m 16s\n",
      "260:\tlearn: 1796.2553089\ttotal: 2m 12s\tremaining: 6m 15s\n",
      "261:\tlearn: 1795.8606333\ttotal: 2m 13s\tremaining: 6m 15s\n",
      "262:\tlearn: 1795.2170471\ttotal: 2m 13s\tremaining: 6m 14s\n",
      "263:\tlearn: 1794.8559247\ttotal: 2m 14s\tremaining: 6m 13s\n",
      "264:\tlearn: 1794.4702200\ttotal: 2m 14s\tremaining: 6m 13s\n",
      "265:\tlearn: 1793.6664084\ttotal: 2m 15s\tremaining: 6m 12s\n",
      "266:\tlearn: 1793.3590545\ttotal: 2m 15s\tremaining: 6m 12s\n",
      "267:\tlearn: 1793.0420706\ttotal: 2m 15s\tremaining: 6m 11s\n",
      "268:\tlearn: 1792.4225314\ttotal: 2m 16s\tremaining: 6m 10s\n",
      "269:\tlearn: 1792.1087219\ttotal: 2m 16s\tremaining: 6m 10s\n",
      "270:\tlearn: 1791.4898198\ttotal: 2m 17s\tremaining: 6m 9s\n",
      "271:\tlearn: 1790.8916930\ttotal: 2m 17s\tremaining: 6m 8s\n",
      "272:\tlearn: 1790.4098455\ttotal: 2m 18s\tremaining: 6m 8s\n",
      "273:\tlearn: 1789.8644790\ttotal: 2m 18s\tremaining: 6m 8s\n",
      "274:\tlearn: 1789.3375147\ttotal: 2m 19s\tremaining: 6m 7s\n",
      "275:\tlearn: 1788.8800917\ttotal: 2m 19s\tremaining: 6m 6s\n",
      "276:\tlearn: 1788.2083596\ttotal: 2m 20s\tremaining: 6m 5s\n",
      "277:\tlearn: 1787.5727423\ttotal: 2m 20s\tremaining: 6m 5s\n",
      "278:\tlearn: 1786.8833561\ttotal: 2m 21s\tremaining: 6m 4s\n",
      "279:\tlearn: 1786.3270872\ttotal: 2m 21s\tremaining: 6m 4s\n",
      "280:\tlearn: 1785.9870331\ttotal: 2m 22s\tremaining: 6m 3s\n",
      "281:\tlearn: 1785.5929949\ttotal: 2m 22s\tremaining: 6m 2s\n",
      "282:\tlearn: 1784.8179617\ttotal: 2m 23s\tremaining: 6m 2s\n",
      "283:\tlearn: 1784.3379011\ttotal: 2m 23s\tremaining: 6m 1s\n",
      "284:\tlearn: 1783.8719056\ttotal: 2m 24s\tremaining: 6m 1s\n",
      "285:\tlearn: 1783.2356001\ttotal: 2m 24s\tremaining: 6m 1s\n",
      "286:\tlearn: 1782.6904280\ttotal: 2m 25s\tremaining: 6m\n",
      "287:\tlearn: 1782.1766898\ttotal: 2m 25s\tremaining: 5m 59s\n",
      "288:\tlearn: 1781.6478455\ttotal: 2m 25s\tremaining: 5m 59s\n",
      "289:\tlearn: 1781.1766290\ttotal: 2m 26s\tremaining: 5m 58s\n",
      "290:\tlearn: 1780.8542767\ttotal: 2m 26s\tremaining: 5m 58s\n",
      "291:\tlearn: 1780.4674472\ttotal: 2m 27s\tremaining: 5m 57s\n",
      "292:\tlearn: 1780.0399549\ttotal: 2m 27s\tremaining: 5m 56s\n",
      "293:\tlearn: 1779.6276165\ttotal: 2m 28s\tremaining: 5m 56s\n",
      "294:\tlearn: 1779.0295538\ttotal: 2m 28s\tremaining: 5m 55s\n",
      "295:\tlearn: 1778.5533990\ttotal: 2m 29s\tremaining: 5m 54s\n",
      "296:\tlearn: 1777.9382564\ttotal: 2m 29s\tremaining: 5m 54s\n",
      "297:\tlearn: 1777.4362335\ttotal: 2m 30s\tremaining: 5m 54s\n",
      "298:\tlearn: 1776.9224702\ttotal: 2m 30s\tremaining: 5m 53s\n",
      "299:\tlearn: 1776.5755511\ttotal: 2m 31s\tremaining: 5m 52s\n",
      "300:\tlearn: 1775.8843405\ttotal: 2m 31s\tremaining: 5m 52s\n",
      "301:\tlearn: 1775.4521877\ttotal: 2m 32s\tremaining: 5m 51s\n",
      "302:\tlearn: 1775.1926840\ttotal: 2m 32s\tremaining: 5m 51s\n",
      "303:\tlearn: 1774.7816388\ttotal: 2m 33s\tremaining: 5m 50s\n",
      "304:\tlearn: 1774.2103317\ttotal: 2m 33s\tremaining: 5m 49s\n",
      "305:\tlearn: 1773.7543657\ttotal: 2m 34s\tremaining: 5m 49s\n",
      "306:\tlearn: 1773.2776951\ttotal: 2m 34s\tremaining: 5m 48s\n",
      "307:\tlearn: 1773.0180069\ttotal: 2m 34s\tremaining: 5m 48s\n",
      "308:\tlearn: 1772.5832029\ttotal: 2m 35s\tremaining: 5m 47s\n",
      "309:\tlearn: 1772.0106030\ttotal: 2m 35s\tremaining: 5m 46s\n",
      "310:\tlearn: 1771.3503014\ttotal: 2m 36s\tremaining: 5m 46s\n",
      "311:\tlearn: 1771.0312599\ttotal: 2m 36s\tremaining: 5m 45s\n",
      "312:\tlearn: 1770.6878592\ttotal: 2m 37s\tremaining: 5m 45s\n",
      "313:\tlearn: 1770.1498227\ttotal: 2m 37s\tremaining: 5m 44s\n",
      "314:\tlearn: 1769.6759991\ttotal: 2m 38s\tremaining: 5m 44s\n",
      "315:\tlearn: 1769.2027355\ttotal: 2m 38s\tremaining: 5m 43s\n",
      "316:\tlearn: 1768.7873766\ttotal: 2m 39s\tremaining: 5m 43s\n",
      "317:\tlearn: 1768.2498939\ttotal: 2m 39s\tremaining: 5m 42s\n",
      "318:\tlearn: 1767.8434214\ttotal: 2m 40s\tremaining: 5m 41s\n",
      "319:\tlearn: 1767.4762807\ttotal: 2m 40s\tremaining: 5m 41s\n",
      "320:\tlearn: 1766.9543854\ttotal: 2m 41s\tremaining: 5m 40s\n",
      "321:\tlearn: 1766.4611407\ttotal: 2m 41s\tremaining: 5m 40s\n",
      "322:\tlearn: 1766.0026160\ttotal: 2m 42s\tremaining: 5m 39s\n",
      "323:\tlearn: 1765.4909304\ttotal: 2m 42s\tremaining: 5m 39s\n",
      "324:\tlearn: 1765.0772807\ttotal: 2m 43s\tremaining: 5m 38s\n",
      "325:\tlearn: 1764.5707519\ttotal: 2m 43s\tremaining: 5m 37s\n",
      "326:\tlearn: 1764.2191467\ttotal: 2m 43s\tremaining: 5m 37s\n",
      "327:\tlearn: 1763.8009421\ttotal: 2m 44s\tremaining: 5m 37s\n",
      "328:\tlearn: 1763.3415114\ttotal: 2m 45s\tremaining: 5m 36s\n",
      "329:\tlearn: 1762.9132016\ttotal: 2m 45s\tremaining: 5m 36s\n",
      "330:\tlearn: 1762.4737481\ttotal: 2m 45s\tremaining: 5m 35s\n",
      "331:\tlearn: 1762.2648614\ttotal: 2m 46s\tremaining: 5m 34s\n",
      "332:\tlearn: 1761.6765931\ttotal: 2m 47s\tremaining: 5m 34s\n",
      "333:\tlearn: 1761.4575992\ttotal: 2m 47s\tremaining: 5m 34s\n",
      "334:\tlearn: 1761.0790244\ttotal: 2m 48s\tremaining: 5m 33s\n",
      "335:\tlearn: 1760.7852117\ttotal: 2m 48s\tremaining: 5m 33s\n",
      "336:\tlearn: 1760.4513735\ttotal: 2m 49s\tremaining: 5m 32s\n",
      "337:\tlearn: 1760.1118803\ttotal: 2m 49s\tremaining: 5m 32s\n",
      "338:\tlearn: 1759.5888875\ttotal: 2m 50s\tremaining: 5m 31s\n",
      "339:\tlearn: 1759.0936299\ttotal: 2m 50s\tremaining: 5m 31s\n",
      "340:\tlearn: 1758.7852631\ttotal: 2m 51s\tremaining: 5m 30s\n",
      "341:\tlearn: 1758.3375759\ttotal: 2m 51s\tremaining: 5m 29s\n",
      "342:\tlearn: 1757.8463361\ttotal: 2m 52s\tremaining: 5m 29s\n",
      "343:\tlearn: 1757.5405041\ttotal: 2m 52s\tremaining: 5m 29s\n",
      "344:\tlearn: 1757.1878650\ttotal: 2m 53s\tremaining: 5m 28s\n",
      "345:\tlearn: 1756.7887151\ttotal: 2m 53s\tremaining: 5m 27s\n",
      "346:\tlearn: 1756.4911953\ttotal: 2m 53s\tremaining: 5m 27s\n",
      "347:\tlearn: 1756.2211391\ttotal: 2m 54s\tremaining: 5m 26s\n",
      "348:\tlearn: 1755.8191471\ttotal: 2m 54s\tremaining: 5m 26s\n",
      "349:\tlearn: 1755.6020070\ttotal: 2m 55s\tremaining: 5m 25s\n",
      "350:\tlearn: 1755.3669064\ttotal: 2m 55s\tremaining: 5m 25s\n",
      "351:\tlearn: 1754.8564998\ttotal: 2m 56s\tremaining: 5m 24s\n",
      "352:\tlearn: 1754.5192406\ttotal: 2m 56s\tremaining: 5m 23s\n",
      "353:\tlearn: 1754.2100964\ttotal: 2m 57s\tremaining: 5m 23s\n",
      "354:\tlearn: 1753.9038456\ttotal: 2m 57s\tremaining: 5m 22s\n",
      "355:\tlearn: 1753.5095755\ttotal: 2m 58s\tremaining: 5m 22s\n",
      "356:\tlearn: 1753.2132106\ttotal: 2m 58s\tremaining: 5m 21s\n",
      "357:\tlearn: 1752.8067945\ttotal: 2m 59s\tremaining: 5m 21s\n",
      "358:\tlearn: 1752.4544801\ttotal: 2m 59s\tremaining: 5m 21s\n",
      "359:\tlearn: 1752.1954794\ttotal: 3m\tremaining: 5m 20s\n",
      "360:\tlearn: 1751.9564759\ttotal: 3m\tremaining: 5m 19s\n",
      "361:\tlearn: 1751.5373769\ttotal: 3m 1s\tremaining: 5m 19s\n",
      "362:\tlearn: 1751.2369796\ttotal: 3m 1s\tremaining: 5m 18s\n",
      "363:\tlearn: 1750.7706875\ttotal: 3m 2s\tremaining: 5m 18s\n",
      "364:\tlearn: 1750.3070396\ttotal: 3m 2s\tremaining: 5m 17s\n",
      "365:\tlearn: 1749.9420216\ttotal: 3m 3s\tremaining: 5m 17s\n",
      "366:\tlearn: 1749.6189816\ttotal: 3m 3s\tremaining: 5m 16s\n",
      "367:\tlearn: 1749.0645027\ttotal: 3m 4s\tremaining: 5m 16s\n",
      "368:\tlearn: 1748.5815917\ttotal: 3m 4s\tremaining: 5m 15s\n",
      "369:\tlearn: 1748.2523559\ttotal: 3m 5s\tremaining: 5m 15s\n",
      "370:\tlearn: 1747.7810720\ttotal: 3m 5s\tremaining: 5m 14s\n",
      "371:\tlearn: 1747.5663167\ttotal: 3m 5s\tremaining: 5m 13s\n",
      "372:\tlearn: 1747.2400137\ttotal: 3m 6s\tremaining: 5m 13s\n",
      "373:\tlearn: 1746.6275432\ttotal: 3m 6s\tremaining: 5m 12s\n",
      "374:\tlearn: 1746.4985295\ttotal: 3m 7s\tremaining: 5m 12s\n",
      "375:\tlearn: 1746.0457319\ttotal: 3m 7s\tremaining: 5m 11s\n",
      "376:\tlearn: 1745.7505669\ttotal: 3m 8s\tremaining: 5m 11s\n",
      "377:\tlearn: 1745.2354224\ttotal: 3m 9s\tremaining: 5m 11s\n",
      "378:\tlearn: 1745.0205934\ttotal: 3m 9s\tremaining: 5m 10s\n",
      "379:\tlearn: 1744.7113650\ttotal: 3m 9s\tremaining: 5m 9s\n",
      "380:\tlearn: 1744.3969771\ttotal: 3m 10s\tremaining: 5m 9s\n",
      "381:\tlearn: 1743.9894506\ttotal: 3m 10s\tremaining: 5m 8s\n",
      "382:\tlearn: 1743.6747223\ttotal: 3m 11s\tremaining: 5m 8s\n",
      "383:\tlearn: 1743.1976795\ttotal: 3m 11s\tremaining: 5m 7s\n",
      "384:\tlearn: 1742.7275370\ttotal: 3m 12s\tremaining: 5m 7s\n",
      "385:\tlearn: 1742.3401255\ttotal: 3m 12s\tremaining: 5m 6s\n",
      "386:\tlearn: 1742.0708532\ttotal: 3m 13s\tremaining: 5m 6s\n",
      "387:\tlearn: 1741.7496717\ttotal: 3m 13s\tremaining: 5m 5s\n",
      "388:\tlearn: 1741.3600161\ttotal: 3m 14s\tremaining: 5m 4s\n",
      "389:\tlearn: 1740.9048107\ttotal: 3m 14s\tremaining: 5m 4s\n",
      "390:\tlearn: 1740.5144153\ttotal: 3m 15s\tremaining: 5m 3s\n",
      "391:\tlearn: 1740.2307217\ttotal: 3m 15s\tremaining: 5m 3s\n",
      "392:\tlearn: 1739.9618232\ttotal: 3m 15s\tremaining: 5m 2s\n",
      "393:\tlearn: 1739.6753543\ttotal: 3m 16s\tremaining: 5m 2s\n",
      "394:\tlearn: 1739.4883423\ttotal: 3m 16s\tremaining: 5m 1s\n",
      "395:\tlearn: 1739.1311213\ttotal: 3m 17s\tremaining: 5m 1s\n",
      "396:\tlearn: 1738.8784255\ttotal: 3m 18s\tremaining: 5m\n",
      "397:\tlearn: 1738.5589046\ttotal: 3m 18s\tremaining: 5m\n",
      "398:\tlearn: 1738.1700780\ttotal: 3m 18s\tremaining: 4m 59s\n",
      "399:\tlearn: 1737.6523902\ttotal: 3m 19s\tremaining: 4m 59s\n",
      "400:\tlearn: 1737.2513473\ttotal: 3m 19s\tremaining: 4m 58s\n",
      "401:\tlearn: 1736.8478009\ttotal: 3m 20s\tremaining: 4m 58s\n",
      "402:\tlearn: 1736.5626091\ttotal: 3m 20s\tremaining: 4m 57s\n",
      "403:\tlearn: 1736.1302999\ttotal: 3m 21s\tremaining: 4m 57s\n",
      "404:\tlearn: 1735.8197950\ttotal: 3m 21s\tremaining: 4m 56s\n",
      "405:\tlearn: 1735.5863754\ttotal: 3m 22s\tremaining: 4m 55s\n",
      "406:\tlearn: 1735.2761027\ttotal: 3m 22s\tremaining: 4m 55s\n",
      "407:\tlearn: 1735.1053972\ttotal: 3m 23s\tremaining: 4m 55s\n",
      "408:\tlearn: 1734.8711145\ttotal: 3m 23s\tremaining: 4m 54s\n",
      "409:\tlearn: 1734.6260225\ttotal: 3m 24s\tremaining: 4m 54s\n",
      "410:\tlearn: 1734.1922340\ttotal: 3m 24s\tremaining: 4m 53s\n",
      "411:\tlearn: 1733.7909313\ttotal: 3m 25s\tremaining: 4m 53s\n",
      "412:\tlearn: 1733.5147970\ttotal: 3m 25s\tremaining: 4m 52s\n",
      "413:\tlearn: 1733.3594179\ttotal: 3m 26s\tremaining: 4m 51s\n",
      "414:\tlearn: 1733.0817924\ttotal: 3m 26s\tremaining: 4m 51s\n",
      "415:\tlearn: 1732.7805235\ttotal: 3m 27s\tremaining: 4m 50s\n",
      "416:\tlearn: 1732.5090786\ttotal: 3m 27s\tremaining: 4m 50s\n",
      "417:\tlearn: 1732.0767431\ttotal: 3m 28s\tremaining: 4m 49s\n",
      "418:\tlearn: 1731.8435491\ttotal: 3m 28s\tremaining: 4m 49s\n",
      "419:\tlearn: 1731.5844814\ttotal: 3m 29s\tremaining: 4m 49s\n",
      "420:\tlearn: 1731.1703405\ttotal: 3m 29s\tremaining: 4m 48s\n",
      "421:\tlearn: 1730.8117316\ttotal: 3m 30s\tremaining: 4m 48s\n",
      "422:\tlearn: 1730.3826163\ttotal: 3m 30s\tremaining: 4m 47s\n",
      "423:\tlearn: 1730.0613539\ttotal: 3m 31s\tremaining: 4m 47s\n",
      "424:\tlearn: 1729.6433341\ttotal: 3m 31s\tremaining: 4m 46s\n",
      "425:\tlearn: 1729.4102669\ttotal: 3m 32s\tremaining: 4m 46s\n",
      "426:\tlearn: 1728.8855050\ttotal: 3m 33s\tremaining: 4m 45s\n",
      "427:\tlearn: 1728.5991984\ttotal: 3m 33s\tremaining: 4m 45s\n",
      "428:\tlearn: 1728.1712301\ttotal: 3m 34s\tremaining: 4m 44s\n",
      "429:\tlearn: 1727.9220558\ttotal: 3m 34s\tremaining: 4m 44s\n",
      "430:\tlearn: 1727.5595300\ttotal: 3m 35s\tremaining: 4m 44s\n",
      "431:\tlearn: 1727.2905611\ttotal: 3m 35s\tremaining: 4m 43s\n",
      "432:\tlearn: 1726.8406563\ttotal: 3m 36s\tremaining: 4m 43s\n",
      "433:\tlearn: 1726.5131462\ttotal: 3m 36s\tremaining: 4m 42s\n",
      "434:\tlearn: 1726.3001131\ttotal: 3m 37s\tremaining: 4m 42s\n",
      "435:\tlearn: 1726.0962318\ttotal: 3m 37s\tremaining: 4m 41s\n",
      "436:\tlearn: 1725.7218117\ttotal: 3m 38s\tremaining: 4m 40s\n",
      "437:\tlearn: 1725.4787266\ttotal: 3m 38s\tremaining: 4m 40s\n",
      "438:\tlearn: 1725.2740735\ttotal: 3m 39s\tremaining: 4m 40s\n",
      "439:\tlearn: 1724.9476556\ttotal: 3m 39s\tremaining: 4m 39s\n",
      "440:\tlearn: 1724.7824702\ttotal: 3m 40s\tremaining: 4m 39s\n",
      "441:\tlearn: 1724.6250847\ttotal: 3m 40s\tremaining: 4m 38s\n",
      "442:\tlearn: 1724.4379187\ttotal: 3m 41s\tremaining: 4m 38s\n",
      "443:\tlearn: 1724.2821705\ttotal: 3m 41s\tremaining: 4m 37s\n",
      "444:\tlearn: 1723.9195495\ttotal: 3m 42s\tremaining: 4m 36s\n",
      "445:\tlearn: 1723.5398022\ttotal: 3m 42s\tremaining: 4m 36s\n",
      "446:\tlearn: 1723.2367081\ttotal: 3m 43s\tremaining: 4m 36s\n",
      "447:\tlearn: 1722.9082008\ttotal: 3m 43s\tremaining: 4m 35s\n",
      "448:\tlearn: 1722.6059089\ttotal: 3m 44s\tremaining: 4m 35s\n",
      "449:\tlearn: 1722.2154229\ttotal: 3m 44s\tremaining: 4m 34s\n",
      "450:\tlearn: 1721.9579009\ttotal: 3m 45s\tremaining: 4m 34s\n",
      "451:\tlearn: 1721.6794892\ttotal: 3m 45s\tremaining: 4m 33s\n",
      "452:\tlearn: 1721.4300181\ttotal: 3m 46s\tremaining: 4m 33s\n",
      "453:\tlearn: 1721.2258256\ttotal: 3m 46s\tremaining: 4m 32s\n",
      "454:\tlearn: 1720.9272193\ttotal: 3m 47s\tremaining: 4m 32s\n",
      "455:\tlearn: 1720.5050098\ttotal: 3m 48s\tremaining: 4m 32s\n",
      "456:\tlearn: 1720.2868680\ttotal: 3m 48s\tremaining: 4m 31s\n",
      "457:\tlearn: 1720.0315022\ttotal: 3m 49s\tremaining: 4m 31s\n",
      "458:\tlearn: 1719.7494312\ttotal: 3m 49s\tremaining: 4m 30s\n",
      "459:\tlearn: 1719.3427980\ttotal: 3m 50s\tremaining: 4m 30s\n",
      "460:\tlearn: 1719.1095010\ttotal: 3m 50s\tremaining: 4m 29s\n",
      "461:\tlearn: 1718.7002972\ttotal: 3m 51s\tremaining: 4m 29s\n",
      "462:\tlearn: 1718.4671949\ttotal: 3m 51s\tremaining: 4m 28s\n",
      "463:\tlearn: 1718.2082419\ttotal: 3m 52s\tremaining: 4m 28s\n",
      "464:\tlearn: 1718.0255189\ttotal: 3m 52s\tremaining: 4m 27s\n",
      "465:\tlearn: 1717.8079932\ttotal: 3m 53s\tremaining: 4m 27s\n",
      "466:\tlearn: 1717.5183463\ttotal: 3m 53s\tremaining: 4m 26s\n",
      "467:\tlearn: 1717.1426651\ttotal: 3m 54s\tremaining: 4m 26s\n",
      "468:\tlearn: 1716.9369107\ttotal: 3m 54s\tremaining: 4m 25s\n",
      "469:\tlearn: 1716.6501546\ttotal: 3m 55s\tremaining: 4m 25s\n",
      "470:\tlearn: 1716.3339144\ttotal: 3m 55s\tremaining: 4m 24s\n",
      "471:\tlearn: 1716.0722389\ttotal: 3m 56s\tremaining: 4m 24s\n",
      "472:\tlearn: 1715.8021010\ttotal: 3m 56s\tremaining: 4m 23s\n",
      "473:\tlearn: 1715.6589231\ttotal: 3m 57s\tremaining: 4m 23s\n",
      "474:\tlearn: 1715.3879741\ttotal: 3m 57s\tremaining: 4m 22s\n",
      "475:\tlearn: 1715.2510667\ttotal: 3m 57s\tremaining: 4m 21s\n",
      "476:\tlearn: 1714.9837962\ttotal: 3m 58s\tremaining: 4m 21s\n",
      "477:\tlearn: 1714.6485664\ttotal: 3m 58s\tremaining: 4m 20s\n",
      "478:\tlearn: 1714.3791052\ttotal: 3m 59s\tremaining: 4m 20s\n",
      "479:\tlearn: 1714.2433963\ttotal: 3m 59s\tremaining: 4m 19s\n",
      "480:\tlearn: 1713.9701858\ttotal: 4m\tremaining: 4m 19s\n",
      "481:\tlearn: 1713.8583575\ttotal: 4m\tremaining: 4m 18s\n",
      "482:\tlearn: 1713.6863328\ttotal: 4m 1s\tremaining: 4m 18s\n",
      "483:\tlearn: 1713.5707536\ttotal: 4m 1s\tremaining: 4m 17s\n",
      "484:\tlearn: 1713.3013594\ttotal: 4m 2s\tremaining: 4m 17s\n",
      "485:\tlearn: 1713.0616482\ttotal: 4m 2s\tremaining: 4m 16s\n",
      "486:\tlearn: 1712.7865719\ttotal: 4m 3s\tremaining: 4m 16s\n",
      "487:\tlearn: 1712.4712836\ttotal: 4m 3s\tremaining: 4m 15s\n",
      "488:\tlearn: 1712.1386039\ttotal: 4m 4s\tremaining: 4m 15s\n",
      "489:\tlearn: 1711.8802168\ttotal: 4m 4s\tremaining: 4m 14s\n",
      "490:\tlearn: 1711.6613350\ttotal: 4m 5s\tremaining: 4m 14s\n",
      "491:\tlearn: 1711.3136209\ttotal: 4m 5s\tremaining: 4m 13s\n",
      "492:\tlearn: 1711.0456571\ttotal: 4m 6s\tremaining: 4m 13s\n",
      "493:\tlearn: 1710.7926632\ttotal: 4m 6s\tremaining: 4m 12s\n",
      "494:\tlearn: 1710.4886517\ttotal: 4m 7s\tremaining: 4m 12s\n",
      "495:\tlearn: 1710.3029427\ttotal: 4m 8s\tremaining: 4m 12s\n",
      "496:\tlearn: 1710.1444129\ttotal: 4m 8s\tremaining: 4m 11s\n",
      "497:\tlearn: 1710.0790758\ttotal: 4m 9s\tremaining: 4m 11s\n",
      "498:\tlearn: 1709.8761889\ttotal: 4m 9s\tremaining: 4m 10s\n",
      "499:\tlearn: 1709.6030214\ttotal: 4m 10s\tremaining: 4m 10s\n",
      "500:\tlearn: 1709.4031365\ttotal: 4m 10s\tremaining: 4m 9s\n",
      "501:\tlearn: 1709.1423368\ttotal: 4m 11s\tremaining: 4m 9s\n",
      "502:\tlearn: 1708.8057184\ttotal: 4m 11s\tremaining: 4m 8s\n",
      "503:\tlearn: 1708.6142602\ttotal: 4m 12s\tremaining: 4m 8s\n",
      "504:\tlearn: 1708.3591954\ttotal: 4m 12s\tremaining: 4m 7s\n",
      "505:\tlearn: 1708.1390145\ttotal: 4m 13s\tremaining: 4m 7s\n",
      "506:\tlearn: 1707.8754199\ttotal: 4m 13s\tremaining: 4m 6s\n",
      "507:\tlearn: 1707.6882277\ttotal: 4m 14s\tremaining: 4m 6s\n",
      "508:\tlearn: 1707.3368481\ttotal: 4m 14s\tremaining: 4m 5s\n",
      "509:\tlearn: 1707.2156802\ttotal: 4m 15s\tremaining: 4m 5s\n",
      "510:\tlearn: 1706.9069411\ttotal: 4m 15s\tremaining: 4m 4s\n",
      "511:\tlearn: 1706.6754778\ttotal: 4m 16s\tremaining: 4m 4s\n",
      "512:\tlearn: 1706.4776522\ttotal: 4m 16s\tremaining: 4m 3s\n",
      "513:\tlearn: 1706.1941836\ttotal: 4m 17s\tremaining: 4m 3s\n",
      "514:\tlearn: 1706.0271369\ttotal: 4m 17s\tremaining: 4m 2s\n",
      "515:\tlearn: 1705.8502643\ttotal: 4m 18s\tremaining: 4m 2s\n",
      "516:\tlearn: 1705.6669111\ttotal: 4m 18s\tremaining: 4m 1s\n",
      "517:\tlearn: 1705.3794112\ttotal: 4m 19s\tremaining: 4m 1s\n",
      "518:\tlearn: 1705.2826504\ttotal: 4m 19s\tremaining: 4m\n",
      "519:\tlearn: 1705.0442861\ttotal: 4m 20s\tremaining: 4m\n",
      "520:\tlearn: 1704.8618778\ttotal: 4m 20s\tremaining: 3m 59s\n",
      "521:\tlearn: 1704.5955200\ttotal: 4m 21s\tremaining: 3m 59s\n",
      "522:\tlearn: 1704.4759729\ttotal: 4m 21s\tremaining: 3m 58s\n",
      "523:\tlearn: 1704.3101095\ttotal: 4m 22s\tremaining: 3m 58s\n",
      "524:\tlearn: 1704.1957801\ttotal: 4m 22s\tremaining: 3m 57s\n",
      "525:\tlearn: 1704.0036558\ttotal: 4m 23s\tremaining: 3m 57s\n",
      "526:\tlearn: 1703.7031376\ttotal: 4m 23s\tremaining: 3m 56s\n",
      "527:\tlearn: 1703.4462152\ttotal: 4m 23s\tremaining: 3m 55s\n",
      "528:\tlearn: 1703.1795184\ttotal: 4m 24s\tremaining: 3m 55s\n",
      "529:\tlearn: 1702.9237712\ttotal: 4m 24s\tremaining: 3m 54s\n",
      "530:\tlearn: 1702.7431671\ttotal: 4m 25s\tremaining: 3m 54s\n",
      "531:\tlearn: 1702.5473288\ttotal: 4m 25s\tremaining: 3m 53s\n",
      "532:\tlearn: 1702.2174464\ttotal: 4m 26s\tremaining: 3m 53s\n",
      "533:\tlearn: 1701.9951951\ttotal: 4m 26s\tremaining: 3m 52s\n",
      "534:\tlearn: 1701.9136001\ttotal: 4m 27s\tremaining: 3m 52s\n",
      "535:\tlearn: 1701.6881849\ttotal: 4m 27s\tremaining: 3m 51s\n",
      "536:\tlearn: 1701.3380585\ttotal: 4m 28s\tremaining: 3m 51s\n",
      "537:\tlearn: 1701.0910429\ttotal: 4m 28s\tremaining: 3m 50s\n",
      "538:\tlearn: 1700.8829552\ttotal: 4m 29s\tremaining: 3m 50s\n",
      "539:\tlearn: 1700.6330532\ttotal: 4m 29s\tremaining: 3m 49s\n",
      "540:\tlearn: 1700.3554964\ttotal: 4m 30s\tremaining: 3m 49s\n",
      "541:\tlearn: 1700.1777434\ttotal: 4m 30s\tremaining: 3m 48s\n",
      "542:\tlearn: 1699.9533351\ttotal: 4m 31s\tremaining: 3m 48s\n",
      "543:\tlearn: 1699.7337363\ttotal: 4m 31s\tremaining: 3m 47s\n",
      "544:\tlearn: 1699.5288155\ttotal: 4m 32s\tremaining: 3m 47s\n",
      "545:\tlearn: 1699.2561528\ttotal: 4m 32s\tremaining: 3m 46s\n",
      "546:\tlearn: 1699.0364345\ttotal: 4m 33s\tremaining: 3m 46s\n",
      "547:\tlearn: 1698.8989394\ttotal: 4m 33s\tremaining: 3m 45s\n",
      "548:\tlearn: 1698.7332595\ttotal: 4m 34s\tremaining: 3m 45s\n",
      "549:\tlearn: 1698.4976259\ttotal: 4m 34s\tremaining: 3m 44s\n",
      "550:\tlearn: 1698.1861092\ttotal: 4m 35s\tremaining: 3m 44s\n",
      "551:\tlearn: 1698.0112801\ttotal: 4m 35s\tremaining: 3m 43s\n",
      "552:\tlearn: 1697.7004872\ttotal: 4m 36s\tremaining: 3m 43s\n",
      "553:\tlearn: 1697.5297985\ttotal: 4m 36s\tremaining: 3m 42s\n",
      "554:\tlearn: 1697.4405520\ttotal: 4m 37s\tremaining: 3m 42s\n",
      "555:\tlearn: 1697.2217336\ttotal: 4m 37s\tremaining: 3m 41s\n",
      "556:\tlearn: 1696.9587135\ttotal: 4m 38s\tremaining: 3m 41s\n",
      "557:\tlearn: 1696.7155657\ttotal: 4m 38s\tremaining: 3m 40s\n",
      "558:\tlearn: 1696.4956381\ttotal: 4m 39s\tremaining: 3m 40s\n",
      "559:\tlearn: 1696.2808182\ttotal: 4m 39s\tremaining: 3m 39s\n",
      "560:\tlearn: 1696.1078882\ttotal: 4m 39s\tremaining: 3m 39s\n",
      "561:\tlearn: 1695.8847377\ttotal: 4m 40s\tremaining: 3m 38s\n",
      "562:\tlearn: 1695.7854620\ttotal: 4m 41s\tremaining: 3m 38s\n",
      "563:\tlearn: 1695.6148126\ttotal: 4m 41s\tremaining: 3m 37s\n",
      "564:\tlearn: 1695.4239974\ttotal: 4m 42s\tremaining: 3m 37s\n",
      "565:\tlearn: 1695.1726863\ttotal: 4m 42s\tremaining: 3m 36s\n",
      "566:\tlearn: 1694.9125324\ttotal: 4m 42s\tremaining: 3m 36s\n",
      "567:\tlearn: 1694.7075772\ttotal: 4m 43s\tremaining: 3m 35s\n",
      "568:\tlearn: 1694.5902364\ttotal: 4m 43s\tremaining: 3m 35s\n",
      "569:\tlearn: 1694.4179507\ttotal: 4m 44s\tremaining: 3m 34s\n",
      "570:\tlearn: 1694.2937214\ttotal: 4m 44s\tremaining: 3m 33s\n",
      "571:\tlearn: 1694.1435565\ttotal: 4m 45s\tremaining: 3m 33s\n",
      "572:\tlearn: 1693.8639028\ttotal: 4m 45s\tremaining: 3m 32s\n",
      "573:\tlearn: 1693.5789302\ttotal: 4m 46s\tremaining: 3m 32s\n",
      "574:\tlearn: 1693.4572985\ttotal: 4m 46s\tremaining: 3m 31s\n",
      "575:\tlearn: 1693.2176609\ttotal: 4m 47s\tremaining: 3m 31s\n",
      "576:\tlearn: 1692.9102011\ttotal: 4m 47s\tremaining: 3m 30s\n",
      "577:\tlearn: 1692.8518462\ttotal: 4m 47s\tremaining: 3m 30s\n",
      "578:\tlearn: 1692.6420019\ttotal: 4m 48s\tremaining: 3m 29s\n",
      "579:\tlearn: 1692.4838738\ttotal: 4m 48s\tremaining: 3m 29s\n",
      "580:\tlearn: 1692.3131266\ttotal: 4m 49s\tremaining: 3m 28s\n",
      "581:\tlearn: 1692.2321571\ttotal: 4m 49s\tremaining: 3m 28s\n",
      "582:\tlearn: 1692.0080198\ttotal: 4m 50s\tremaining: 3m 27s\n",
      "583:\tlearn: 1691.8170095\ttotal: 4m 50s\tremaining: 3m 27s\n",
      "584:\tlearn: 1691.5010597\ttotal: 4m 51s\tremaining: 3m 26s\n",
      "585:\tlearn: 1691.2014405\ttotal: 4m 51s\tremaining: 3m 26s\n",
      "586:\tlearn: 1691.0457630\ttotal: 4m 52s\tremaining: 3m 25s\n",
      "587:\tlearn: 1690.8551452\ttotal: 4m 52s\tremaining: 3m 25s\n",
      "588:\tlearn: 1690.6911361\ttotal: 4m 53s\tremaining: 3m 24s\n",
      "589:\tlearn: 1690.4929447\ttotal: 4m 54s\tremaining: 3m 24s\n",
      "590:\tlearn: 1690.2237072\ttotal: 4m 54s\tremaining: 3m 23s\n",
      "591:\tlearn: 1690.0437279\ttotal: 4m 55s\tremaining: 3m 23s\n",
      "592:\tlearn: 1689.8050025\ttotal: 4m 55s\tremaining: 3m 22s\n",
      "593:\tlearn: 1689.4661550\ttotal: 4m 56s\tremaining: 3m 22s\n",
      "594:\tlearn: 1689.3019514\ttotal: 4m 56s\tremaining: 3m 21s\n",
      "595:\tlearn: 1689.1506448\ttotal: 4m 57s\tremaining: 3m 21s\n",
      "596:\tlearn: 1689.0403956\ttotal: 4m 57s\tremaining: 3m 20s\n",
      "597:\tlearn: 1688.8364500\ttotal: 4m 57s\tremaining: 3m 20s\n",
      "598:\tlearn: 1688.5721757\ttotal: 4m 58s\tremaining: 3m 19s\n",
      "599:\tlearn: 1688.4860615\ttotal: 4m 58s\tremaining: 3m 19s\n",
      "600:\tlearn: 1688.2378833\ttotal: 4m 59s\tremaining: 3m 18s\n",
      "601:\tlearn: 1688.0935881\ttotal: 4m 59s\tremaining: 3m 18s\n",
      "602:\tlearn: 1687.9587454\ttotal: 5m\tremaining: 3m 17s\n",
      "603:\tlearn: 1687.8056626\ttotal: 5m 1s\tremaining: 3m 17s\n",
      "604:\tlearn: 1687.5780478\ttotal: 5m 1s\tremaining: 3m 16s\n",
      "605:\tlearn: 1687.3864821\ttotal: 5m 1s\tremaining: 3m 16s\n",
      "606:\tlearn: 1687.2711494\ttotal: 5m 2s\tremaining: 3m 15s\n",
      "607:\tlearn: 1687.0691545\ttotal: 5m 2s\tremaining: 3m 15s\n",
      "608:\tlearn: 1686.9001189\ttotal: 5m 3s\tremaining: 3m 14s\n",
      "609:\tlearn: 1686.7016814\ttotal: 5m 3s\tremaining: 3m 14s\n",
      "610:\tlearn: 1686.5688324\ttotal: 5m 4s\tremaining: 3m 13s\n",
      "611:\tlearn: 1686.3593794\ttotal: 5m 4s\tremaining: 3m 13s\n",
      "612:\tlearn: 1686.1485297\ttotal: 5m 5s\tremaining: 3m 12s\n",
      "613:\tlearn: 1686.0032004\ttotal: 5m 5s\tremaining: 3m 12s\n",
      "614:\tlearn: 1685.9155071\ttotal: 5m 6s\tremaining: 3m 11s\n",
      "615:\tlearn: 1685.7758544\ttotal: 5m 6s\tremaining: 3m 11s\n",
      "616:\tlearn: 1685.6842231\ttotal: 5m 7s\tremaining: 3m 10s\n",
      "617:\tlearn: 1685.5009602\ttotal: 5m 7s\tremaining: 3m 10s\n",
      "618:\tlearn: 1685.3495556\ttotal: 5m 8s\tremaining: 3m 9s\n",
      "619:\tlearn: 1685.1301956\ttotal: 5m 8s\tremaining: 3m 9s\n",
      "620:\tlearn: 1684.9953020\ttotal: 5m 9s\tremaining: 3m 8s\n",
      "621:\tlearn: 1684.8302642\ttotal: 5m 9s\tremaining: 3m 8s\n",
      "622:\tlearn: 1684.6815211\ttotal: 5m 10s\tremaining: 3m 7s\n",
      "623:\tlearn: 1684.5319969\ttotal: 5m 10s\tremaining: 3m 7s\n",
      "624:\tlearn: 1684.4646574\ttotal: 5m 11s\tremaining: 3m 6s\n",
      "625:\tlearn: 1684.3211680\ttotal: 5m 11s\tremaining: 3m 6s\n",
      "626:\tlearn: 1684.1053766\ttotal: 5m 12s\tremaining: 3m 5s\n",
      "627:\tlearn: 1683.8891608\ttotal: 5m 12s\tremaining: 3m 5s\n",
      "628:\tlearn: 1683.7839229\ttotal: 5m 13s\tremaining: 3m 4s\n",
      "629:\tlearn: 1683.6159323\ttotal: 5m 13s\tremaining: 3m 4s\n",
      "630:\tlearn: 1683.4684504\ttotal: 5m 14s\tremaining: 3m 3s\n",
      "631:\tlearn: 1683.2074390\ttotal: 5m 14s\tremaining: 3m 3s\n",
      "632:\tlearn: 1683.0226972\ttotal: 5m 15s\tremaining: 3m 2s\n",
      "633:\tlearn: 1682.9169051\ttotal: 5m 15s\tremaining: 3m 2s\n",
      "634:\tlearn: 1682.7746840\ttotal: 5m 16s\tremaining: 3m 1s\n",
      "635:\tlearn: 1682.6274838\ttotal: 5m 16s\tremaining: 3m 1s\n",
      "636:\tlearn: 1682.4679494\ttotal: 5m 17s\tremaining: 3m\n",
      "637:\tlearn: 1682.3388797\ttotal: 5m 17s\tremaining: 3m\n",
      "638:\tlearn: 1682.2089697\ttotal: 5m 18s\tremaining: 2m 59s\n",
      "639:\tlearn: 1681.9855206\ttotal: 5m 18s\tremaining: 2m 59s\n",
      "640:\tlearn: 1681.6752042\ttotal: 5m 19s\tremaining: 2m 58s\n",
      "641:\tlearn: 1681.5068577\ttotal: 5m 19s\tremaining: 2m 58s\n",
      "642:\tlearn: 1681.3699830\ttotal: 5m 20s\tremaining: 2m 57s\n",
      "643:\tlearn: 1681.1108940\ttotal: 5m 20s\tremaining: 2m 57s\n",
      "644:\tlearn: 1680.9738810\ttotal: 5m 21s\tremaining: 2m 56s\n",
      "645:\tlearn: 1680.8786630\ttotal: 5m 21s\tremaining: 2m 56s\n",
      "646:\tlearn: 1680.7124778\ttotal: 5m 22s\tremaining: 2m 55s\n",
      "647:\tlearn: 1680.5701582\ttotal: 5m 22s\tremaining: 2m 55s\n",
      "648:\tlearn: 1680.4149077\ttotal: 5m 23s\tremaining: 2m 54s\n",
      "649:\tlearn: 1680.3533444\ttotal: 5m 23s\tremaining: 2m 54s\n",
      "650:\tlearn: 1680.1693773\ttotal: 5m 24s\tremaining: 2m 53s\n",
      "651:\tlearn: 1680.0287936\ttotal: 5m 24s\tremaining: 2m 53s\n",
      "652:\tlearn: 1679.9639268\ttotal: 5m 25s\tremaining: 2m 52s\n",
      "653:\tlearn: 1679.7980538\ttotal: 5m 25s\tremaining: 2m 52s\n",
      "654:\tlearn: 1679.5440287\ttotal: 5m 26s\tremaining: 2m 51s\n",
      "655:\tlearn: 1679.3707921\ttotal: 5m 26s\tremaining: 2m 51s\n",
      "656:\tlearn: 1679.2510381\ttotal: 5m 27s\tremaining: 2m 50s\n",
      "657:\tlearn: 1679.1479148\ttotal: 5m 27s\tremaining: 2m 50s\n",
      "658:\tlearn: 1678.9320030\ttotal: 5m 28s\tremaining: 2m 49s\n",
      "659:\tlearn: 1678.8671711\ttotal: 5m 28s\tremaining: 2m 49s\n",
      "660:\tlearn: 1678.7318747\ttotal: 5m 29s\tremaining: 2m 48s\n",
      "661:\tlearn: 1678.5718881\ttotal: 5m 29s\tremaining: 2m 48s\n",
      "662:\tlearn: 1678.3800576\ttotal: 5m 30s\tremaining: 2m 47s\n",
      "663:\tlearn: 1678.2713040\ttotal: 5m 30s\tremaining: 2m 47s\n",
      "664:\tlearn: 1678.0318149\ttotal: 5m 31s\tremaining: 2m 46s\n",
      "665:\tlearn: 1677.9004996\ttotal: 5m 31s\tremaining: 2m 46s\n",
      "666:\tlearn: 1677.7192113\ttotal: 5m 32s\tremaining: 2m 45s\n",
      "667:\tlearn: 1677.5287564\ttotal: 5m 32s\tremaining: 2m 45s\n",
      "668:\tlearn: 1677.3062660\ttotal: 5m 33s\tremaining: 2m 44s\n",
      "669:\tlearn: 1677.2026420\ttotal: 5m 33s\tremaining: 2m 44s\n",
      "670:\tlearn: 1677.1105570\ttotal: 5m 34s\tremaining: 2m 43s\n",
      "671:\tlearn: 1676.8870811\ttotal: 5m 34s\tremaining: 2m 43s\n",
      "672:\tlearn: 1676.6906576\ttotal: 5m 35s\tremaining: 2m 42s\n",
      "673:\tlearn: 1676.5696430\ttotal: 5m 35s\tremaining: 2m 42s\n",
      "674:\tlearn: 1676.4738473\ttotal: 5m 36s\tremaining: 2m 41s\n",
      "675:\tlearn: 1676.3969892\ttotal: 5m 36s\tremaining: 2m 41s\n",
      "676:\tlearn: 1676.2096222\ttotal: 5m 37s\tremaining: 2m 40s\n",
      "677:\tlearn: 1676.0941372\ttotal: 5m 37s\tremaining: 2m 40s\n",
      "678:\tlearn: 1675.8778951\ttotal: 5m 38s\tremaining: 2m 39s\n",
      "679:\tlearn: 1675.6576707\ttotal: 5m 38s\tremaining: 2m 39s\n",
      "680:\tlearn: 1675.5365228\ttotal: 5m 39s\tremaining: 2m 38s\n",
      "681:\tlearn: 1675.3873108\ttotal: 5m 39s\tremaining: 2m 38s\n",
      "682:\tlearn: 1675.2686037\ttotal: 5m 40s\tremaining: 2m 37s\n",
      "683:\tlearn: 1675.0424617\ttotal: 5m 40s\tremaining: 2m 37s\n",
      "684:\tlearn: 1674.9408483\ttotal: 5m 41s\tremaining: 2m 36s\n",
      "685:\tlearn: 1674.7720544\ttotal: 5m 41s\tremaining: 2m 36s\n",
      "686:\tlearn: 1674.6188153\ttotal: 5m 42s\tremaining: 2m 35s\n",
      "687:\tlearn: 1674.3958062\ttotal: 5m 42s\tremaining: 2m 35s\n",
      "688:\tlearn: 1674.2720532\ttotal: 5m 42s\tremaining: 2m 34s\n",
      "689:\tlearn: 1674.0874845\ttotal: 5m 43s\tremaining: 2m 34s\n",
      "690:\tlearn: 1673.9905358\ttotal: 5m 43s\tremaining: 2m 33s\n",
      "691:\tlearn: 1673.7451877\ttotal: 5m 44s\tremaining: 2m 33s\n",
      "692:\tlearn: 1673.6291442\ttotal: 5m 45s\tremaining: 2m 32s\n",
      "693:\tlearn: 1673.4812242\ttotal: 5m 45s\tremaining: 2m 32s\n",
      "694:\tlearn: 1673.3050896\ttotal: 5m 46s\tremaining: 2m 31s\n",
      "695:\tlearn: 1673.2146981\ttotal: 5m 46s\tremaining: 2m 31s\n",
      "696:\tlearn: 1672.9151372\ttotal: 5m 47s\tremaining: 2m 30s\n",
      "697:\tlearn: 1672.7700577\ttotal: 5m 47s\tremaining: 2m 30s\n",
      "698:\tlearn: 1672.6063751\ttotal: 5m 48s\tremaining: 2m 29s\n",
      "699:\tlearn: 1672.4817116\ttotal: 5m 48s\tremaining: 2m 29s\n",
      "700:\tlearn: 1672.2611905\ttotal: 5m 49s\tremaining: 2m 28s\n",
      "701:\tlearn: 1672.2006655\ttotal: 5m 49s\tremaining: 2m 28s\n",
      "702:\tlearn: 1671.9846298\ttotal: 5m 50s\tremaining: 2m 27s\n",
      "703:\tlearn: 1671.8389936\ttotal: 5m 50s\tremaining: 2m 27s\n",
      "704:\tlearn: 1671.6835784\ttotal: 5m 51s\tremaining: 2m 26s\n",
      "705:\tlearn: 1671.5362313\ttotal: 5m 51s\tremaining: 2m 26s\n",
      "706:\tlearn: 1671.4130159\ttotal: 5m 52s\tremaining: 2m 25s\n",
      "707:\tlearn: 1671.2479443\ttotal: 5m 52s\tremaining: 2m 25s\n",
      "708:\tlearn: 1671.0590504\ttotal: 5m 53s\tremaining: 2m 25s\n",
      "709:\tlearn: 1670.8605814\ttotal: 5m 53s\tremaining: 2m 24s\n",
      "710:\tlearn: 1670.7975272\ttotal: 5m 54s\tremaining: 2m 24s\n",
      "711:\tlearn: 1670.5181845\ttotal: 5m 54s\tremaining: 2m 23s\n",
      "712:\tlearn: 1670.3088110\ttotal: 5m 55s\tremaining: 2m 23s\n",
      "713:\tlearn: 1670.1434920\ttotal: 5m 55s\tremaining: 2m 22s\n",
      "714:\tlearn: 1670.0402003\ttotal: 5m 56s\tremaining: 2m 22s\n",
      "715:\tlearn: 1669.8485580\ttotal: 5m 56s\tremaining: 2m 21s\n",
      "716:\tlearn: 1669.6709766\ttotal: 5m 57s\tremaining: 2m 21s\n",
      "717:\tlearn: 1669.5283014\ttotal: 5m 57s\tremaining: 2m 20s\n",
      "718:\tlearn: 1669.4192198\ttotal: 5m 58s\tremaining: 2m 20s\n",
      "719:\tlearn: 1669.2240808\ttotal: 5m 58s\tremaining: 2m 19s\n",
      "720:\tlearn: 1668.9608575\ttotal: 5m 59s\tremaining: 2m 19s\n",
      "721:\tlearn: 1668.7771018\ttotal: 5m 59s\tremaining: 2m 18s\n",
      "722:\tlearn: 1668.6157584\ttotal: 6m\tremaining: 2m 18s\n",
      "723:\tlearn: 1668.5168458\ttotal: 6m\tremaining: 2m 17s\n",
      "724:\tlearn: 1668.3719165\ttotal: 6m 1s\tremaining: 2m 17s\n",
      "725:\tlearn: 1668.2605531\ttotal: 6m 1s\tremaining: 2m 16s\n",
      "726:\tlearn: 1668.1239525\ttotal: 6m 2s\tremaining: 2m 16s\n",
      "727:\tlearn: 1667.9297981\ttotal: 6m 2s\tremaining: 2m 15s\n",
      "728:\tlearn: 1667.7314456\ttotal: 6m 3s\tremaining: 2m 14s\n",
      "729:\tlearn: 1667.5363028\ttotal: 6m 3s\tremaining: 2m 14s\n",
      "730:\tlearn: 1667.3486700\ttotal: 6m 4s\tremaining: 2m 14s\n",
      "731:\tlearn: 1667.2170854\ttotal: 6m 4s\tremaining: 2m 13s\n",
      "732:\tlearn: 1667.0648091\ttotal: 6m 5s\tremaining: 2m 12s\n",
      "733:\tlearn: 1667.0186275\ttotal: 6m 5s\tremaining: 2m 12s\n",
      "734:\tlearn: 1666.8776588\ttotal: 6m 6s\tremaining: 2m 12s\n",
      "735:\tlearn: 1666.7563762\ttotal: 6m 6s\tremaining: 2m 11s\n",
      "736:\tlearn: 1666.5941983\ttotal: 6m 7s\tremaining: 2m 11s\n",
      "737:\tlearn: 1666.3959972\ttotal: 6m 7s\tremaining: 2m 10s\n",
      "738:\tlearn: 1666.1997967\ttotal: 6m 8s\tremaining: 2m 10s\n",
      "739:\tlearn: 1666.1365121\ttotal: 6m 8s\tremaining: 2m 9s\n",
      "740:\tlearn: 1665.9914615\ttotal: 6m 9s\tremaining: 2m 9s\n",
      "741:\tlearn: 1665.7450627\ttotal: 6m 9s\tremaining: 2m 8s\n",
      "742:\tlearn: 1665.6672951\ttotal: 6m 10s\tremaining: 2m 8s\n",
      "743:\tlearn: 1665.5493446\ttotal: 6m 10s\tremaining: 2m 7s\n",
      "744:\tlearn: 1665.4449179\ttotal: 6m 11s\tremaining: 2m 7s\n",
      "745:\tlearn: 1665.2393343\ttotal: 6m 11s\tremaining: 2m 6s\n",
      "746:\tlearn: 1665.1400709\ttotal: 6m 12s\tremaining: 2m 6s\n",
      "747:\tlearn: 1664.9485898\ttotal: 6m 12s\tremaining: 2m 5s\n",
      "748:\tlearn: 1664.8447477\ttotal: 6m 13s\tremaining: 2m 5s\n",
      "749:\tlearn: 1664.7418753\ttotal: 6m 14s\tremaining: 2m 4s\n",
      "750:\tlearn: 1664.6365667\ttotal: 6m 14s\tremaining: 2m 4s\n",
      "751:\tlearn: 1664.5108713\ttotal: 6m 15s\tremaining: 2m 3s\n",
      "752:\tlearn: 1664.3683798\ttotal: 6m 15s\tremaining: 2m 3s\n",
      "753:\tlearn: 1664.2090412\ttotal: 6m 16s\tremaining: 2m 2s\n",
      "754:\tlearn: 1664.0993460\ttotal: 6m 16s\tremaining: 2m 2s\n",
      "755:\tlearn: 1663.9171578\ttotal: 6m 17s\tremaining: 2m 1s\n",
      "756:\tlearn: 1663.7580581\ttotal: 6m 17s\tremaining: 2m 1s\n",
      "757:\tlearn: 1663.6059606\ttotal: 6m 18s\tremaining: 2m\n",
      "758:\tlearn: 1663.4921486\ttotal: 6m 18s\tremaining: 2m\n",
      "759:\tlearn: 1663.3618038\ttotal: 6m 19s\tremaining: 1m 59s\n",
      "760:\tlearn: 1663.1538169\ttotal: 6m 19s\tremaining: 1m 59s\n",
      "761:\tlearn: 1663.0510149\ttotal: 6m 19s\tremaining: 1m 58s\n",
      "762:\tlearn: 1662.9108595\ttotal: 6m 20s\tremaining: 1m 58s\n",
      "763:\tlearn: 1662.6810521\ttotal: 6m 20s\tremaining: 1m 57s\n",
      "764:\tlearn: 1662.5787008\ttotal: 6m 21s\tremaining: 1m 57s\n",
      "765:\tlearn: 1662.3926624\ttotal: 6m 22s\tremaining: 1m 56s\n",
      "766:\tlearn: 1662.2733874\ttotal: 6m 22s\tremaining: 1m 56s\n",
      "767:\tlearn: 1662.1936266\ttotal: 6m 23s\tremaining: 1m 55s\n",
      "768:\tlearn: 1662.1017516\ttotal: 6m 23s\tremaining: 1m 55s\n",
      "769:\tlearn: 1661.9431233\ttotal: 6m 24s\tremaining: 1m 54s\n",
      "770:\tlearn: 1661.8461131\ttotal: 6m 24s\tremaining: 1m 54s\n",
      "771:\tlearn: 1661.8037959\ttotal: 6m 25s\tremaining: 1m 53s\n",
      "772:\tlearn: 1661.7049285\ttotal: 6m 25s\tremaining: 1m 53s\n",
      "773:\tlearn: 1661.4743206\ttotal: 6m 26s\tremaining: 1m 52s\n",
      "774:\tlearn: 1661.3253215\ttotal: 6m 26s\tremaining: 1m 52s\n",
      "775:\tlearn: 1661.2414200\ttotal: 6m 27s\tremaining: 1m 51s\n",
      "776:\tlearn: 1661.1613129\ttotal: 6m 27s\tremaining: 1m 51s\n",
      "777:\tlearn: 1661.0370326\ttotal: 6m 28s\tremaining: 1m 50s\n",
      "778:\tlearn: 1660.9213116\ttotal: 6m 28s\tremaining: 1m 50s\n",
      "779:\tlearn: 1660.8058365\ttotal: 6m 29s\tremaining: 1m 49s\n",
      "780:\tlearn: 1660.6936381\ttotal: 6m 29s\tremaining: 1m 49s\n",
      "781:\tlearn: 1660.5165591\ttotal: 6m 30s\tremaining: 1m 48s\n",
      "782:\tlearn: 1660.4207144\ttotal: 6m 30s\tremaining: 1m 48s\n",
      "783:\tlearn: 1660.3302976\ttotal: 6m 31s\tremaining: 1m 47s\n",
      "784:\tlearn: 1660.1863731\ttotal: 6m 31s\tremaining: 1m 47s\n",
      "785:\tlearn: 1660.0644629\ttotal: 6m 32s\tremaining: 1m 46s\n",
      "786:\tlearn: 1659.9845137\ttotal: 6m 32s\tremaining: 1m 46s\n",
      "787:\tlearn: 1659.8762527\ttotal: 6m 33s\tremaining: 1m 45s\n",
      "788:\tlearn: 1659.7996861\ttotal: 6m 33s\tremaining: 1m 45s\n",
      "789:\tlearn: 1659.6702125\ttotal: 6m 34s\tremaining: 1m 44s\n",
      "790:\tlearn: 1659.5481023\ttotal: 6m 34s\tremaining: 1m 44s\n",
      "791:\tlearn: 1659.4056767\ttotal: 6m 35s\tremaining: 1m 43s\n",
      "792:\tlearn: 1659.3150836\ttotal: 6m 35s\tremaining: 1m 43s\n",
      "793:\tlearn: 1659.2627208\ttotal: 6m 35s\tremaining: 1m 42s\n",
      "794:\tlearn: 1659.1232245\ttotal: 6m 36s\tremaining: 1m 42s\n",
      "795:\tlearn: 1658.9425356\ttotal: 6m 36s\tremaining: 1m 41s\n",
      "796:\tlearn: 1658.8353965\ttotal: 6m 37s\tremaining: 1m 41s\n",
      "797:\tlearn: 1658.7593143\ttotal: 6m 37s\tremaining: 1m 40s\n",
      "798:\tlearn: 1658.6131758\ttotal: 6m 38s\tremaining: 1m 40s\n",
      "799:\tlearn: 1658.5062230\ttotal: 6m 38s\tremaining: 1m 39s\n",
      "800:\tlearn: 1658.4052550\ttotal: 6m 38s\tremaining: 1m 39s\n",
      "801:\tlearn: 1658.3214566\ttotal: 6m 39s\tremaining: 1m 38s\n",
      "802:\tlearn: 1658.2155234\ttotal: 6m 40s\tremaining: 1m 38s\n",
      "803:\tlearn: 1658.1123482\ttotal: 6m 40s\tremaining: 1m 37s\n",
      "804:\tlearn: 1657.9774185\ttotal: 6m 40s\tremaining: 1m 37s\n",
      "805:\tlearn: 1657.9090499\ttotal: 6m 41s\tremaining: 1m 36s\n",
      "806:\tlearn: 1657.8656672\ttotal: 6m 41s\tremaining: 1m 36s\n",
      "807:\tlearn: 1657.7851013\ttotal: 6m 42s\tremaining: 1m 35s\n",
      "808:\tlearn: 1657.6448871\ttotal: 6m 42s\tremaining: 1m 35s\n",
      "809:\tlearn: 1657.4723059\ttotal: 6m 43s\tremaining: 1m 34s\n",
      "810:\tlearn: 1657.3532628\ttotal: 6m 43s\tremaining: 1m 34s\n",
      "811:\tlearn: 1657.1894918\ttotal: 6m 44s\tremaining: 1m 33s\n",
      "812:\tlearn: 1657.1071433\ttotal: 6m 44s\tremaining: 1m 33s\n",
      "813:\tlearn: 1657.0211839\ttotal: 6m 45s\tremaining: 1m 32s\n",
      "814:\tlearn: 1656.8498601\ttotal: 6m 45s\tremaining: 1m 32s\n",
      "815:\tlearn: 1656.7715880\ttotal: 6m 46s\tremaining: 1m 31s\n",
      "816:\tlearn: 1656.5772630\ttotal: 6m 46s\tremaining: 1m 31s\n",
      "817:\tlearn: 1656.5029254\ttotal: 6m 47s\tremaining: 1m 30s\n",
      "818:\tlearn: 1656.3835433\ttotal: 6m 47s\tremaining: 1m 30s\n",
      "819:\tlearn: 1656.2762498\ttotal: 6m 48s\tremaining: 1m 29s\n",
      "820:\tlearn: 1656.1821875\ttotal: 6m 48s\tremaining: 1m 29s\n",
      "821:\tlearn: 1656.0991620\ttotal: 6m 48s\tremaining: 1m 28s\n",
      "822:\tlearn: 1656.0481677\ttotal: 6m 49s\tremaining: 1m 28s\n",
      "823:\tlearn: 1655.9411690\ttotal: 6m 49s\tremaining: 1m 27s\n",
      "824:\tlearn: 1655.7596019\ttotal: 6m 50s\tremaining: 1m 27s\n",
      "825:\tlearn: 1655.6564312\ttotal: 6m 50s\tremaining: 1m 26s\n",
      "826:\tlearn: 1655.4987127\ttotal: 6m 51s\tremaining: 1m 26s\n",
      "827:\tlearn: 1655.4058093\ttotal: 6m 51s\tremaining: 1m 25s\n",
      "828:\tlearn: 1655.2717791\ttotal: 6m 52s\tremaining: 1m 25s\n",
      "829:\tlearn: 1655.1945713\ttotal: 6m 52s\tremaining: 1m 24s\n",
      "830:\tlearn: 1655.0607946\ttotal: 6m 53s\tremaining: 1m 24s\n",
      "831:\tlearn: 1654.9858880\ttotal: 6m 53s\tremaining: 1m 23s\n",
      "832:\tlearn: 1654.8001899\ttotal: 6m 54s\tremaining: 1m 23s\n",
      "833:\tlearn: 1654.6680182\ttotal: 6m 54s\tremaining: 1m 22s\n",
      "834:\tlearn: 1654.5616221\ttotal: 6m 55s\tremaining: 1m 22s\n",
      "835:\tlearn: 1654.4721182\ttotal: 6m 55s\tremaining: 1m 21s\n",
      "836:\tlearn: 1654.3639698\ttotal: 6m 56s\tremaining: 1m 21s\n",
      "837:\tlearn: 1654.2498424\ttotal: 6m 56s\tremaining: 1m 20s\n",
      "838:\tlearn: 1654.0814008\ttotal: 6m 57s\tremaining: 1m 20s\n",
      "839:\tlearn: 1653.9181042\ttotal: 6m 57s\tremaining: 1m 19s\n",
      "840:\tlearn: 1653.7480091\ttotal: 6m 58s\tremaining: 1m 19s\n",
      "841:\tlearn: 1653.5797347\ttotal: 6m 58s\tremaining: 1m 18s\n",
      "842:\tlearn: 1653.4755104\ttotal: 6m 59s\tremaining: 1m 18s\n",
      "843:\tlearn: 1653.3193678\ttotal: 6m 59s\tremaining: 1m 17s\n",
      "844:\tlearn: 1653.2582567\ttotal: 7m\tremaining: 1m 17s\n",
      "845:\tlearn: 1653.1062769\ttotal: 7m\tremaining: 1m 16s\n",
      "846:\tlearn: 1652.9474282\ttotal: 7m 1s\tremaining: 1m 16s\n",
      "847:\tlearn: 1652.8770082\ttotal: 7m 1s\tremaining: 1m 15s\n",
      "848:\tlearn: 1652.7508208\ttotal: 7m 2s\tremaining: 1m 15s\n",
      "849:\tlearn: 1652.6424782\ttotal: 7m 2s\tremaining: 1m 14s\n",
      "850:\tlearn: 1652.5056743\ttotal: 7m 3s\tremaining: 1m 14s\n",
      "851:\tlearn: 1652.3667071\ttotal: 7m 3s\tremaining: 1m 13s\n",
      "852:\tlearn: 1652.2448721\ttotal: 7m 4s\tremaining: 1m 13s\n",
      "853:\tlearn: 1652.1514004\ttotal: 7m 4s\tremaining: 1m 12s\n",
      "854:\tlearn: 1652.0311132\ttotal: 7m 4s\tremaining: 1m 12s\n",
      "855:\tlearn: 1651.9434930\ttotal: 7m 5s\tremaining: 1m 11s\n",
      "856:\tlearn: 1651.8424943\ttotal: 7m 5s\tremaining: 1m 11s\n",
      "857:\tlearn: 1651.7898775\ttotal: 7m 6s\tremaining: 1m 10s\n",
      "858:\tlearn: 1651.6378297\ttotal: 7m 6s\tremaining: 1m 10s\n",
      "859:\tlearn: 1651.5382836\ttotal: 7m 7s\tremaining: 1m 9s\n",
      "860:\tlearn: 1651.4509348\ttotal: 7m 7s\tremaining: 1m 9s\n",
      "861:\tlearn: 1651.3838139\ttotal: 7m 8s\tremaining: 1m 8s\n",
      "862:\tlearn: 1651.2879860\ttotal: 7m 9s\tremaining: 1m 8s\n",
      "863:\tlearn: 1651.2078388\ttotal: 7m 9s\tremaining: 1m 7s\n",
      "864:\tlearn: 1651.0375668\ttotal: 7m 10s\tremaining: 1m 7s\n",
      "865:\tlearn: 1650.9158632\ttotal: 7m 10s\tremaining: 1m 6s\n",
      "866:\tlearn: 1650.8487332\ttotal: 7m 10s\tremaining: 1m 6s\n",
      "867:\tlearn: 1650.7046529\ttotal: 7m 11s\tremaining: 1m 5s\n",
      "868:\tlearn: 1650.6205533\ttotal: 7m 11s\tremaining: 1m 5s\n",
      "869:\tlearn: 1650.4912212\ttotal: 7m 12s\tremaining: 1m 4s\n",
      "870:\tlearn: 1650.3204027\ttotal: 7m 12s\tremaining: 1m 4s\n",
      "871:\tlearn: 1650.1426303\ttotal: 7m 13s\tremaining: 1m 3s\n",
      "872:\tlearn: 1650.0463315\ttotal: 7m 14s\tremaining: 1m 3s\n",
      "873:\tlearn: 1649.9513925\ttotal: 7m 14s\tremaining: 1m 2s\n",
      "874:\tlearn: 1649.8854241\ttotal: 7m 15s\tremaining: 1m 2s\n",
      "875:\tlearn: 1649.8040434\ttotal: 7m 15s\tremaining: 1m 1s\n",
      "876:\tlearn: 1649.7216156\ttotal: 7m 16s\tremaining: 1m 1s\n",
      "877:\tlearn: 1649.5613773\ttotal: 7m 16s\tremaining: 1m\n",
      "878:\tlearn: 1649.4065909\ttotal: 7m 17s\tremaining: 1m\n",
      "879:\tlearn: 1649.2506907\ttotal: 7m 17s\tremaining: 59.7s\n",
      "880:\tlearn: 1649.1771705\ttotal: 7m 18s\tremaining: 59.2s\n",
      "881:\tlearn: 1649.0828223\ttotal: 7m 18s\tremaining: 58.7s\n",
      "882:\tlearn: 1648.9574254\ttotal: 7m 18s\tremaining: 58.2s\n",
      "883:\tlearn: 1648.8138928\ttotal: 7m 19s\tremaining: 57.7s\n",
      "884:\tlearn: 1648.6516729\ttotal: 7m 19s\tremaining: 57.2s\n",
      "885:\tlearn: 1648.5806120\ttotal: 7m 20s\tremaining: 56.7s\n",
      "886:\tlearn: 1648.5301852\ttotal: 7m 20s\tremaining: 56.2s\n",
      "887:\tlearn: 1648.4148407\ttotal: 7m 21s\tremaining: 55.7s\n",
      "888:\tlearn: 1648.2977520\ttotal: 7m 21s\tremaining: 55.2s\n",
      "889:\tlearn: 1648.2334954\ttotal: 7m 22s\tremaining: 54.7s\n",
      "890:\tlearn: 1647.9592517\ttotal: 7m 23s\tremaining: 54.2s\n",
      "891:\tlearn: 1647.8879957\ttotal: 7m 23s\tremaining: 53.7s\n",
      "892:\tlearn: 1647.8170377\ttotal: 7m 23s\tremaining: 53.2s\n",
      "893:\tlearn: 1647.6590014\ttotal: 7m 24s\tremaining: 52.7s\n",
      "894:\tlearn: 1647.6201414\ttotal: 7m 24s\tremaining: 52.2s\n",
      "895:\tlearn: 1647.5397152\ttotal: 7m 25s\tremaining: 51.7s\n",
      "896:\tlearn: 1647.2878866\ttotal: 7m 25s\tremaining: 51.2s\n",
      "897:\tlearn: 1647.1389660\ttotal: 7m 26s\tremaining: 50.7s\n",
      "898:\tlearn: 1647.0189370\ttotal: 7m 26s\tremaining: 50.2s\n",
      "899:\tlearn: 1646.9450928\ttotal: 7m 27s\tremaining: 49.7s\n",
      "900:\tlearn: 1646.8679343\ttotal: 7m 27s\tremaining: 49.2s\n",
      "901:\tlearn: 1646.7224842\ttotal: 7m 28s\tremaining: 48.7s\n",
      "902:\tlearn: 1646.5806458\ttotal: 7m 28s\tremaining: 48.2s\n",
      "903:\tlearn: 1646.4554353\ttotal: 7m 29s\tremaining: 47.7s\n",
      "904:\tlearn: 1646.3689592\ttotal: 7m 29s\tremaining: 47.2s\n",
      "905:\tlearn: 1646.2507185\ttotal: 7m 30s\tremaining: 46.7s\n",
      "906:\tlearn: 1646.1678090\ttotal: 7m 30s\tremaining: 46.2s\n",
      "907:\tlearn: 1646.0095390\ttotal: 7m 31s\tremaining: 45.7s\n",
      "908:\tlearn: 1645.9172671\ttotal: 7m 31s\tremaining: 45.2s\n",
      "909:\tlearn: 1645.7873346\ttotal: 7m 32s\tremaining: 44.8s\n",
      "910:\tlearn: 1645.5898353\ttotal: 7m 32s\tremaining: 44.3s\n",
      "911:\tlearn: 1645.4135329\ttotal: 7m 33s\tremaining: 43.8s\n",
      "912:\tlearn: 1645.3097613\ttotal: 7m 34s\tremaining: 43.3s\n",
      "913:\tlearn: 1645.2094307\ttotal: 7m 34s\tremaining: 42.8s\n",
      "914:\tlearn: 1645.1155249\ttotal: 7m 35s\tremaining: 42.3s\n",
      "915:\tlearn: 1644.9660901\ttotal: 7m 35s\tremaining: 41.8s\n",
      "916:\tlearn: 1644.8735915\ttotal: 7m 36s\tremaining: 41.3s\n",
      "917:\tlearn: 1644.8137783\ttotal: 7m 36s\tremaining: 40.8s\n",
      "918:\tlearn: 1644.6698135\ttotal: 7m 37s\tremaining: 40.3s\n",
      "919:\tlearn: 1644.5355605\ttotal: 7m 37s\tremaining: 39.8s\n",
      "920:\tlearn: 1644.4438376\ttotal: 7m 38s\tremaining: 39.3s\n",
      "921:\tlearn: 1644.2930470\ttotal: 7m 38s\tremaining: 38.8s\n",
      "922:\tlearn: 1644.2243317\ttotal: 7m 39s\tremaining: 38.3s\n",
      "923:\tlearn: 1644.0974795\ttotal: 7m 39s\tremaining: 37.8s\n",
      "924:\tlearn: 1643.9208980\ttotal: 7m 40s\tremaining: 37.3s\n",
      "925:\tlearn: 1643.7838081\ttotal: 7m 40s\tremaining: 36.8s\n",
      "926:\tlearn: 1643.6975779\ttotal: 7m 41s\tremaining: 36.3s\n",
      "927:\tlearn: 1643.6393743\ttotal: 7m 41s\tremaining: 35.8s\n",
      "928:\tlearn: 1643.4537238\ttotal: 7m 42s\tremaining: 35.3s\n",
      "929:\tlearn: 1643.3375672\ttotal: 7m 42s\tremaining: 34.8s\n",
      "930:\tlearn: 1643.2316900\ttotal: 7m 43s\tremaining: 34.3s\n",
      "931:\tlearn: 1643.0986652\ttotal: 7m 43s\tremaining: 33.9s\n",
      "932:\tlearn: 1643.0036071\ttotal: 7m 44s\tremaining: 33.4s\n",
      "933:\tlearn: 1642.9380107\ttotal: 7m 45s\tremaining: 32.9s\n",
      "934:\tlearn: 1642.8556180\ttotal: 7m 45s\tremaining: 32.4s\n",
      "935:\tlearn: 1642.7277892\ttotal: 7m 45s\tremaining: 31.9s\n",
      "936:\tlearn: 1642.6400376\ttotal: 7m 46s\tremaining: 31.4s\n",
      "937:\tlearn: 1642.5739731\ttotal: 7m 46s\tremaining: 30.9s\n",
      "938:\tlearn: 1642.5366256\ttotal: 7m 47s\tremaining: 30.4s\n",
      "939:\tlearn: 1642.4234217\ttotal: 7m 47s\tremaining: 29.9s\n",
      "940:\tlearn: 1642.3202646\ttotal: 7m 48s\tremaining: 29.4s\n",
      "941:\tlearn: 1642.2711705\ttotal: 7m 48s\tremaining: 28.9s\n",
      "942:\tlearn: 1642.1014099\ttotal: 7m 49s\tremaining: 28.4s\n",
      "943:\tlearn: 1642.0113665\ttotal: 7m 49s\tremaining: 27.9s\n",
      "944:\tlearn: 1641.8769170\ttotal: 7m 50s\tremaining: 27.4s\n",
      "945:\tlearn: 1641.8205152\ttotal: 7m 50s\tremaining: 26.9s\n",
      "946:\tlearn: 1641.7357700\ttotal: 7m 51s\tremaining: 26.4s\n",
      "947:\tlearn: 1641.6220615\ttotal: 7m 51s\tremaining: 25.9s\n",
      "948:\tlearn: 1641.5681264\ttotal: 7m 52s\tremaining: 25.4s\n",
      "949:\tlearn: 1641.5003826\ttotal: 7m 52s\tremaining: 24.9s\n",
      "950:\tlearn: 1641.4433736\ttotal: 7m 52s\tremaining: 24.4s\n",
      "951:\tlearn: 1641.3144767\ttotal: 7m 53s\tremaining: 23.9s\n",
      "952:\tlearn: 1641.0842408\ttotal: 7m 53s\tremaining: 23.4s\n",
      "953:\tlearn: 1640.9916559\ttotal: 7m 54s\tremaining: 22.9s\n",
      "954:\tlearn: 1640.9118105\ttotal: 7m 54s\tremaining: 22.4s\n",
      "955:\tlearn: 1640.8373295\ttotal: 7m 55s\tremaining: 21.9s\n",
      "956:\tlearn: 1640.7771635\ttotal: 7m 56s\tremaining: 21.4s\n",
      "957:\tlearn: 1640.6100275\ttotal: 7m 56s\tremaining: 20.9s\n",
      "958:\tlearn: 1640.4882062\ttotal: 7m 56s\tremaining: 20.4s\n",
      "959:\tlearn: 1640.3898040\ttotal: 7m 57s\tremaining: 19.9s\n",
      "960:\tlearn: 1640.3471945\ttotal: 7m 58s\tremaining: 19.4s\n",
      "961:\tlearn: 1640.1872171\ttotal: 7m 58s\tremaining: 18.9s\n",
      "962:\tlearn: 1640.1196595\ttotal: 7m 58s\tremaining: 18.4s\n",
      "963:\tlearn: 1639.8851095\ttotal: 7m 59s\tremaining: 17.9s\n",
      "964:\tlearn: 1639.8149350\ttotal: 7m 59s\tremaining: 17.4s\n",
      "965:\tlearn: 1639.7138430\ttotal: 8m\tremaining: 16.9s\n",
      "966:\tlearn: 1639.6206888\ttotal: 8m\tremaining: 16.4s\n",
      "967:\tlearn: 1639.4854285\ttotal: 8m 1s\tremaining: 15.9s\n",
      "968:\tlearn: 1639.4451580\ttotal: 8m 1s\tremaining: 15.4s\n",
      "969:\tlearn: 1639.2888330\ttotal: 8m 2s\tremaining: 14.9s\n",
      "970:\tlearn: 1639.2340898\ttotal: 8m 2s\tremaining: 14.4s\n",
      "971:\tlearn: 1639.1655475\ttotal: 8m 3s\tremaining: 13.9s\n",
      "972:\tlearn: 1639.1369140\ttotal: 8m 3s\tremaining: 13.4s\n",
      "973:\tlearn: 1639.0886428\ttotal: 8m 4s\tremaining: 12.9s\n",
      "974:\tlearn: 1638.8148296\ttotal: 8m 4s\tremaining: 12.4s\n",
      "975:\tlearn: 1638.7519654\ttotal: 8m 5s\tremaining: 11.9s\n",
      "976:\tlearn: 1638.6907841\ttotal: 8m 5s\tremaining: 11.4s\n",
      "977:\tlearn: 1638.5686896\ttotal: 8m 6s\tremaining: 10.9s\n",
      "978:\tlearn: 1638.4625009\ttotal: 8m 6s\tremaining: 10.4s\n",
      "979:\tlearn: 1638.3935123\ttotal: 8m 7s\tremaining: 9.95s\n",
      "980:\tlearn: 1638.3351271\ttotal: 8m 7s\tremaining: 9.45s\n",
      "981:\tlearn: 1638.2636216\ttotal: 8m 8s\tremaining: 8.95s\n",
      "982:\tlearn: 1638.1516419\ttotal: 8m 9s\tremaining: 8.46s\n",
      "983:\tlearn: 1638.0023116\ttotal: 8m 9s\tremaining: 7.96s\n",
      "984:\tlearn: 1637.8984965\ttotal: 8m 10s\tremaining: 7.46s\n",
      "985:\tlearn: 1637.8348260\ttotal: 8m 10s\tremaining: 6.97s\n",
      "986:\tlearn: 1637.5766466\ttotal: 8m 11s\tremaining: 6.47s\n",
      "987:\tlearn: 1637.4653246\ttotal: 8m 11s\tremaining: 5.97s\n",
      "988:\tlearn: 1637.3445288\ttotal: 8m 12s\tremaining: 5.47s\n",
      "989:\tlearn: 1637.2263135\ttotal: 8m 12s\tremaining: 4.98s\n",
      "990:\tlearn: 1637.1573233\ttotal: 8m 13s\tremaining: 4.48s\n",
      "991:\tlearn: 1637.0929434\ttotal: 8m 13s\tremaining: 3.98s\n",
      "992:\tlearn: 1637.0229164\ttotal: 8m 14s\tremaining: 3.48s\n",
      "993:\tlearn: 1636.9714987\ttotal: 8m 14s\tremaining: 2.99s\n",
      "994:\tlearn: 1636.9114475\ttotal: 8m 15s\tremaining: 2.49s\n",
      "995:\tlearn: 1636.8081536\ttotal: 8m 15s\tremaining: 1.99s\n",
      "996:\tlearn: 1636.6309073\ttotal: 8m 16s\tremaining: 1.49s\n",
      "997:\tlearn: 1636.5701431\ttotal: 8m 16s\tremaining: 996ms\n",
      "998:\tlearn: 1636.4409173\ttotal: 8m 17s\tremaining: 498ms\n",
      "999:\tlearn: 1636.3651039\ttotal: 8m 18s\tremaining: 0us\n",
      "CatBoost without OHE\n",
      "RMSE: 1683.0274262756113 Training time: 501.59921288490295 Prediction time: 0.4114964008331299\n",
      "CPU times: user 7min 28s, sys: 48.7 s, total: 8min 17s\n",
      "Wall time: 8min 22s\n"
     ]
    }
   ],
   "source": [
    "%%time\n",
    "# CatBoost without OHE \n",
    "cb_model = CatBoostRegressor(random_state=42)\n",
    "\n",
    "start = time.time()\n",
    "cb_model.fit(features_train_2, target_train_2, cat_features=categories)\n",
    "end = time.time()\n",
    "cbtt = end - start\n",
    "\n",
    "start = time.time()\n",
    "predicted_valid = cb_model.predict(features_valid_2)\n",
    "end = time.time()\n",
    "cbpt = end - start\n",
    "\n",
    "cb_rmse_calc = mean_squared_error(target_valid_2, predicted_valid)**0.5\n",
    "\n",
    "print('CatBoost without OHE')\n",
    "print('RMSE:', cb_rmse_calc, 'Training time:', cbtt, 'Prediction time:', cbpt)"
   ]
  },
  {
   "cell_type": "code",
   "execution_count": 59,
   "metadata": {},
   "outputs": [
    {
     "name": "stdout",
     "output_type": "stream",
     "text": [
      "Linear Regression - Sanity Check\n",
      "RMSE: 2673.154220556299 Training time: 19.875536680221558 Prediction time: 0.2535219192504883\n",
      "\n",
      "Random Forest Regressor\n",
      "RMSE: 1727.9087596013774 Training time: 60.69512057304382 Prediction time: 0.6225581169128418\n",
      "\n",
      "LightGBM with OHE\n",
      "RMSE: 1707.641861082534 Training time: 10.578785419464111 Prediction time: 1.1029925346374512\n",
      "\n",
      "LightGBM without OHE\n",
      "RMSE: 1643.351067294688 Training time: 8.479040384292603 Prediction time: 0.9047174453735352\n",
      "\n",
      "CatBoost with OHE\n",
      "RMSE: 1703.817876905744 Training time: 153.08609819412231 Prediction time: 0.21335506439208984\n",
      "\n",
      "CatBoost without OHE\n",
      "RMSE: 1683.0274262756113 Training time: 501.59921288490295 Prediction time: 0.4114964008331299\n"
     ]
    }
   ],
   "source": [
    "print('Linear Regression - Sanity Check')\n",
    "print('RMSE:', lr_rmse_calc, 'Training time:', lrtt, 'Prediction time:', lrpt)\n",
    "print('\\nRandom Forest Regressor')\n",
    "print('RMSE:', rf_rmse_calc, 'Training time:', rftt, 'Prediction time:', rfpt)\n",
    "print('\\nLightGBM with OHE')\n",
    "print('RMSE:', lgohe_rmse_calc, 'Training time:', lgohett, 'Prediction time:', lgohept)\n",
    "print('\\nLightGBM without OHE')\n",
    "print('RMSE:', lg_rmse_calc, 'Training time:', lgtt, 'Prediction time:', lgpt)\n",
    "print('\\nCatBoost with OHE')\n",
    "print('RMSE:', cbohe_rmse_calc, 'Training time:', cbohett, 'Prediction time:', cbohept)\n",
    "print('\\nCatBoost without OHE')\n",
    "print('RMSE:', cb_rmse_calc, 'Training time:', cbtt, 'Prediction time:', cbpt)"
   ]
  },
  {
   "cell_type": "markdown",
   "metadata": {},
   "source": [
    "__We note the RMSE and the times required for training and prediction__\n",
    "\n",
    "- All the models perform better on RMSE (goodness of fit) than linear regression, which we expected.\n",
    "- LightGBM without One Hot Encoding provides the best RMSE, but all the values besides linear regression are pretty close.\n",
    "- The training times of the base models range from around 20 seconds with LightGBM to just over 500 seconds with CatBoost.\n",
    "- The prediction times of the base models range from around .2 seconds (CatBoost) to close to 1.2 with LightGBM w/OHE.\n",
    "- Since the model needs to be trained once, the prediction time is actually more relevant for running multiple predictions. "
   ]
  },
  {
   "cell_type": "markdown",
   "metadata": {},
   "source": [
    "__Tuning hyperparameters__\n",
    "\n",
    "- We will look at n_estimators with RandomForestRegressor\n",
    "- We will tune parameters of CatBoost and LightGBM using both with and without OHE since there is variable performance [LightGBMdoc](https://lightgbm.readthedocs.io/en/latest/Advanced-Topics.html), [CatBoost](https://catboost.ai/)"
   ]
  },
  {
   "cell_type": "code",
   "execution_count": 60,
   "metadata": {},
   "outputs": [
    {
     "name": "stdout",
     "output_type": "stream",
     "text": [
      "Fitting 5 folds for each of 4 candidates, totalling 20 fits\n",
      "[CV] n_estimators=10 .................................................\n"
     ]
    },
    {
     "name": "stderr",
     "output_type": "stream",
     "text": [
      "[Parallel(n_jobs=1)]: Using backend SequentialBackend with 1 concurrent workers.\n"
     ]
    },
    {
     "name": "stdout",
     "output_type": "stream",
     "text": [
      "[CV] ................. n_estimators=10, score=-1772.600, total=  48.5s\n",
      "[CV] n_estimators=10 .................................................\n"
     ]
    },
    {
     "name": "stderr",
     "output_type": "stream",
     "text": [
      "[Parallel(n_jobs=1)]: Done   1 out of   1 | elapsed:   48.5s remaining:    0.0s\n"
     ]
    },
    {
     "name": "stdout",
     "output_type": "stream",
     "text": [
      "[CV] ................. n_estimators=10, score=-1711.530, total=  47.8s\n",
      "[CV] n_estimators=10 .................................................\n"
     ]
    },
    {
     "name": "stderr",
     "output_type": "stream",
     "text": [
      "[Parallel(n_jobs=1)]: Done   2 out of   2 | elapsed:  1.6min remaining:    0.0s\n"
     ]
    },
    {
     "name": "stdout",
     "output_type": "stream",
     "text": [
      "[CV] ................. n_estimators=10, score=-1736.270, total=  48.7s\n",
      "[CV] n_estimators=10 .................................................\n"
     ]
    },
    {
     "name": "stderr",
     "output_type": "stream",
     "text": [
      "[Parallel(n_jobs=1)]: Done   3 out of   3 | elapsed:  2.4min remaining:    0.0s\n"
     ]
    },
    {
     "name": "stdout",
     "output_type": "stream",
     "text": [
      "[CV] ................. n_estimators=10, score=-1717.170, total=  48.1s\n",
      "[CV] n_estimators=10 .................................................\n"
     ]
    },
    {
     "name": "stderr",
     "output_type": "stream",
     "text": [
      "[Parallel(n_jobs=1)]: Done   4 out of   4 | elapsed:  3.2min remaining:    0.0s\n"
     ]
    },
    {
     "name": "stdout",
     "output_type": "stream",
     "text": [
      "[CV] ................. n_estimators=10, score=-1741.730, total=  48.8s\n",
      "[CV] n_estimators=15 .................................................\n"
     ]
    },
    {
     "name": "stderr",
     "output_type": "stream",
     "text": [
      "[Parallel(n_jobs=1)]: Done   5 out of   5 | elapsed:  4.0min remaining:    0.0s\n"
     ]
    },
    {
     "name": "stdout",
     "output_type": "stream",
     "text": [
      "[CV] ................. n_estimators=15, score=-1744.790, total= 1.2min\n",
      "[CV] n_estimators=15 .................................................\n"
     ]
    },
    {
     "name": "stderr",
     "output_type": "stream",
     "text": [
      "[Parallel(n_jobs=1)]: Done   6 out of   6 | elapsed:  5.2min remaining:    0.0s\n"
     ]
    },
    {
     "name": "stdout",
     "output_type": "stream",
     "text": [
      "[CV] ................. n_estimators=15, score=-1686.140, total= 1.2min\n",
      "[CV] n_estimators=15 .................................................\n"
     ]
    },
    {
     "name": "stderr",
     "output_type": "stream",
     "text": [
      "[Parallel(n_jobs=1)]: Done   7 out of   7 | elapsed:  6.4min remaining:    0.0s\n"
     ]
    },
    {
     "name": "stdout",
     "output_type": "stream",
     "text": [
      "[CV] ................. n_estimators=15, score=-1710.780, total= 1.2min\n",
      "[CV] n_estimators=15 .................................................\n"
     ]
    },
    {
     "name": "stderr",
     "output_type": "stream",
     "text": [
      "[Parallel(n_jobs=1)]: Done   8 out of   8 | elapsed:  7.6min remaining:    0.0s\n"
     ]
    },
    {
     "name": "stdout",
     "output_type": "stream",
     "text": [
      "[CV] ................. n_estimators=15, score=-1692.710, total= 1.2min\n",
      "[CV] n_estimators=15 .................................................\n"
     ]
    },
    {
     "name": "stderr",
     "output_type": "stream",
     "text": [
      "[Parallel(n_jobs=1)]: Done   9 out of   9 | elapsed:  8.8min remaining:    0.0s\n"
     ]
    },
    {
     "name": "stdout",
     "output_type": "stream",
     "text": [
      "[CV] ................. n_estimators=15, score=-1719.410, total= 1.2min\n",
      "[CV] n_estimators=20 .................................................\n",
      "[CV] ................. n_estimators=20, score=-1729.780, total= 1.6min\n",
      "[CV] n_estimators=20 .................................................\n",
      "[CV] ................. n_estimators=20, score=-1676.970, total= 1.6min\n",
      "[CV] n_estimators=20 .................................................\n",
      "[CV] ................. n_estimators=20, score=-1704.250, total= 1.6min\n",
      "[CV] n_estimators=20 .................................................\n",
      "[CV] ................. n_estimators=20, score=-1678.980, total= 1.6min\n",
      "[CV] n_estimators=20 .................................................\n",
      "[CV] ................. n_estimators=20, score=-1708.880, total= 1.6min\n",
      "[CV] n_estimators=25 .................................................\n",
      "[CV] ................. n_estimators=25, score=-1722.470, total= 2.2min\n",
      "[CV] n_estimators=25 .................................................\n",
      "[CV] ................. n_estimators=25, score=-1668.740, total= 2.1min\n",
      "[CV] n_estimators=25 .................................................\n",
      "[CV] ................. n_estimators=25, score=-1694.250, total= 2.0min\n",
      "[CV] n_estimators=25 .................................................\n",
      "[CV] ................. n_estimators=25, score=-1669.860, total= 2.4min\n",
      "[CV] n_estimators=25 .................................................\n",
      "[CV] ................. n_estimators=25, score=-1700.940, total= 2.1min\n"
     ]
    },
    {
     "name": "stderr",
     "output_type": "stream",
     "text": [
      "[Parallel(n_jobs=1)]: Done  20 out of  20 | elapsed: 28.7min finished\n"
     ]
    },
    {
     "name": "stdout",
     "output_type": "stream",
     "text": [
      "Best parameters: {'n_estimators': 25}\n",
      "RMSE: 1681.12\n",
      "CPU times: user 30min 46s, sys: 1.88 s, total: 30min 48s\n",
      "Wall time: 31min 22s\n"
     ]
    }
   ],
   "source": [
    "%%time\n",
    "rf_model = RandomForestRegressor(random_state=42)\n",
    "params = { 'n_estimators': range(10, 30, 5) }\n",
    "\n",
    "best_model = RandomizedSearchCV(rf_model, params, scoring=rmse, cv=5, verbose=10)\n",
    "best_model.fit(features_train, target_train)  \n",
    "print('Best parameters:', best_model.best_params_)\n",
    "\n",
    "predictions = best_model.best_estimator_.predict(features_valid)\n",
    "print('RMSE:', round(mean_squared_error(target_valid, predictions) ** 0.5, 2))"
   ]
  },
  {
   "cell_type": "markdown",
   "metadata": {},
   "source": [
    "__Tuning for Random Forest Regressor__\n",
    "\n",
    "__Print and copy results so we don't run use another 30 minute block by running the code__\n",
    "\n",
    "Fitting 5 folds for each of 4 candidates, totalling 20 fits\n",
    "[CV] n_estimators=10 .................................................\n",
    "[Parallel(n_jobs=1)]: Using backend SequentialBackend with 1 concurrent workers.\n",
    "[CV] ................. n_estimators=10, score=-1772.600, total=  49.3s\n",
    "[CV] n_estimators=10 .................................................\n",
    "[Parallel(n_jobs=1)]: Done   1 out of   1 | elapsed:   49.3s remaining:    0.0s\n",
    "[CV] ................. n_estimators=10, score=-1711.530, total=  49.8s\n",
    "[CV] n_estimators=10 .................................................\n",
    "[Parallel(n_jobs=1)]: Done   2 out of   2 | elapsed:  1.7min remaining:    0.0s\n",
    "[CV] ................. n_estimators=10, score=-1736.270, total=  49.9s\n",
    "[CV] n_estimators=10 .................................................\n",
    "[Parallel(n_jobs=1)]: Done   3 out of   3 | elapsed:  2.5min remaining:    0.0s\n",
    "[CV] ................. n_estimators=10, score=-1717.170, total=  49.5s\n",
    "[CV] n_estimators=10 .................................................\n",
    "[Parallel(n_jobs=1)]: Done   4 out of   4 | elapsed:  3.3min remaining:    0.0s\n",
    "[CV] ................. n_estimators=10, score=-1741.730, total=  48.3s\n",
    "[CV] n_estimators=15 .................................................\n",
    "[Parallel(n_jobs=1)]: Done   5 out of   5 | elapsed:  4.1min remaining:    0.0s\n",
    "[CV] ................. n_estimators=15, score=-1744.790, total= 1.2min\n",
    "[CV] n_estimators=15 .................................................\n",
    "[Parallel(n_jobs=1)]: Done   6 out of   6 | elapsed:  5.3min remaining:    0.0s\n",
    "[CV] ................. n_estimators=15, score=-1686.140, total= 1.2min\n",
    "[CV] n_estimators=15 .................................................\n",
    "[Parallel(n_jobs=1)]: Done   7 out of   7 | elapsed:  6.6min remaining:    0.0s\n",
    "[CV] ................. n_estimators=15, score=-1710.780, total= 1.2min\n",
    "[CV] n_estimators=15 .................................................\n",
    "[Parallel(n_jobs=1)]: Done   8 out of   8 | elapsed:  7.7min remaining:    0.0s\n",
    "[CV] ................. n_estimators=15, score=-1692.710, total= 1.2min\n",
    "[CV] n_estimators=15 .................................................\n",
    "[Parallel(n_jobs=1)]: Done   9 out of   9 | elapsed:  8.9min remaining:    0.0s\n",
    "[CV] ................. n_estimators=15, score=-1719.410, total= 1.2min\n",
    "[CV] n_estimators=20 .................................................\n",
    "[CV] ................. n_estimators=20, score=-1729.780, total= 1.6min\n",
    "[CV] n_estimators=20 .................................................\n",
    "[CV] ................. n_estimators=20, score=-1676.970, total= 1.6min\n",
    "[CV] n_estimators=20 .................................................\n",
    "[CV] ................. n_estimators=20, score=-1704.250, total= 1.6min\n",
    "[CV] n_estimators=20 .................................................\n",
    "[CV] ................. n_estimators=20, score=-1678.980, total= 1.6min\n",
    "[CV] n_estimators=20 .................................................\n",
    "[CV] ................. n_estimators=20, score=-1708.880, total= 1.6min\n",
    "[CV] n_estimators=25 .................................................\n",
    "[CV] ................. n_estimators=25, score=-1722.470, total= 2.0min\n",
    "[CV] n_estimators=25 .................................................\n",
    "[CV] ................. n_estimators=25, score=-1668.740, total= 2.1min\n",
    "[CV] n_estimators=25 .................................................\n",
    "[CV] ................. n_estimators=25, score=-1694.250, total= 2.0min\n",
    "[CV] n_estimators=25 .................................................\n",
    "[CV] ................. n_estimators=25, score=-1669.860, total= 2.0min\n",
    "[CV] n_estimators=25 .................................................\n",
    "[CV] ................. n_estimators=25, score=-1700.940, total= 2.0min\n",
    "[Parallel(n_jobs=1)]: Done  20 out of  20 | elapsed: 28.1min finished\n",
    "Best parameters: {'n_estimators': 25}\n",
    "RMSE: 1681.06\n",
    "CPU times: user 30min 16s, sys: 2.41 s, total: 30min 19s\n",
    "Wall time: 30min 45s\n",
    "\n",
    "Best parameters: {'n_estimators': 25}\n",
    "\n",
    "RMSE: 1681.06\n",
    "\n",
    "CPU times: user 30min 16s, sys: 2.41 s, total: 30min 19s\n",
    "\n",
    "Wall time: 30min 45s"
   ]
  },
  {
   "cell_type": "code",
   "execution_count": 73,
   "metadata": {},
   "outputs": [
    {
     "name": "stdout",
     "output_type": "stream",
     "text": [
      "Fitting 5 folds for each of 10 candidates, totalling 50 fits\n",
      "[CV] n_estimators=10, learning_rate=0.25 .............................\n"
     ]
    },
    {
     "name": "stderr",
     "output_type": "stream",
     "text": [
      "[Parallel(n_jobs=1)]: Using backend SequentialBackend with 1 concurrent workers.\n"
     ]
    },
    {
     "name": "stdout",
     "output_type": "stream",
     "text": [
      "0:\tlearn: 3863.6577136\ttotal: 167ms\tremaining: 1.51s\n",
      "1:\tlearn: 3351.7184724\ttotal: 371ms\tremaining: 1.48s\n",
      "2:\tlearn: 2974.3715764\ttotal: 664ms\tremaining: 1.55s\n",
      "3:\tlearn: 2711.2629352\ttotal: 872ms\tremaining: 1.31s\n",
      "4:\tlearn: 2500.5296025\ttotal: 1.16s\tremaining: 1.16s\n",
      "5:\tlearn: 2354.0300120\ttotal: 1.36s\tremaining: 909ms\n",
      "6:\tlearn: 2255.7703826\ttotal: 1.57s\tremaining: 673ms\n",
      "7:\tlearn: 2171.3605273\ttotal: 1.77s\tremaining: 443ms\n",
      "8:\tlearn: 2108.6749476\ttotal: 2.06s\tremaining: 229ms\n",
      "9:\tlearn: 2059.0081094\ttotal: 2.26s\tremaining: 0us\n",
      "[CV]  n_estimators=10, learning_rate=0.25, score=-2082.430, total=   4.2s\n",
      "[CV] n_estimators=10, learning_rate=0.25 .............................\n"
     ]
    },
    {
     "name": "stderr",
     "output_type": "stream",
     "text": [
      "[Parallel(n_jobs=1)]: Done   1 out of   1 | elapsed:    4.2s remaining:    0.0s\n"
     ]
    },
    {
     "name": "stdout",
     "output_type": "stream",
     "text": [
      "0:\tlearn: 3859.5267232\ttotal: 185ms\tremaining: 1.67s\n",
      "1:\tlearn: 3345.1425641\ttotal: 386ms\tremaining: 1.54s\n",
      "2:\tlearn: 2974.6865057\ttotal: 676ms\tremaining: 1.58s\n",
      "3:\tlearn: 2710.0498119\ttotal: 880ms\tremaining: 1.32s\n",
      "4:\tlearn: 2508.3198786\ttotal: 1.08s\tremaining: 1.08s\n",
      "5:\tlearn: 2370.0833593\ttotal: 1.28s\tremaining: 857ms\n",
      "6:\tlearn: 2265.2938333\ttotal: 1.48s\tremaining: 636ms\n",
      "7:\tlearn: 2183.1756569\ttotal: 1.69s\tremaining: 421ms\n",
      "8:\tlearn: 2112.8276502\ttotal: 1.98s\tremaining: 220ms\n",
      "9:\tlearn: 2068.7618436\ttotal: 2.18s\tremaining: 0us\n",
      "[CV]  n_estimators=10, learning_rate=0.25, score=-2065.370, total=   3.8s\n",
      "[CV] n_estimators=10, learning_rate=0.25 .............................\n"
     ]
    },
    {
     "name": "stderr",
     "output_type": "stream",
     "text": [
      "[Parallel(n_jobs=1)]: Done   2 out of   2 | elapsed:    8.0s remaining:    0.0s\n"
     ]
    },
    {
     "name": "stdout",
     "output_type": "stream",
     "text": [
      "0:\tlearn: 3866.2746728\ttotal: 209ms\tremaining: 1.88s\n",
      "1:\tlearn: 3338.0993299\ttotal: 409ms\tremaining: 1.64s\n",
      "2:\tlearn: 2977.1975753\ttotal: 704ms\tremaining: 1.64s\n",
      "3:\tlearn: 2720.4852566\ttotal: 910ms\tremaining: 1.36s\n",
      "4:\tlearn: 2521.9318702\ttotal: 1.2s\tremaining: 1.2s\n",
      "5:\tlearn: 2382.6355112\ttotal: 1.41s\tremaining: 938ms\n",
      "6:\tlearn: 2279.1847565\ttotal: 1.61s\tremaining: 689ms\n",
      "7:\tlearn: 2197.4389047\ttotal: 1.81s\tremaining: 452ms\n",
      "8:\tlearn: 2125.8281701\ttotal: 2.1s\tremaining: 233ms\n",
      "9:\tlearn: 2075.0804717\ttotal: 2.3s\tremaining: 0us\n",
      "[CV]  n_estimators=10, learning_rate=0.25, score=-2064.070, total=   4.0s\n",
      "[CV] n_estimators=10, learning_rate=0.25 .............................\n"
     ]
    },
    {
     "name": "stderr",
     "output_type": "stream",
     "text": [
      "[Parallel(n_jobs=1)]: Done   3 out of   3 | elapsed:   12.0s remaining:    0.0s\n"
     ]
    },
    {
     "name": "stdout",
     "output_type": "stream",
     "text": [
      "0:\tlearn: 3865.9207030\ttotal: 143ms\tremaining: 1.29s\n",
      "1:\tlearn: 3350.3102025\ttotal: 341ms\tremaining: 1.36s\n",
      "2:\tlearn: 2980.9988387\ttotal: 552ms\tremaining: 1.29s\n",
      "3:\tlearn: 2714.6851635\ttotal: 840ms\tremaining: 1.26s\n",
      "4:\tlearn: 2514.7335139\ttotal: 1.05s\tremaining: 1.05s\n",
      "5:\tlearn: 2376.0568475\ttotal: 1.24s\tremaining: 830ms\n",
      "6:\tlearn: 2273.8742158\ttotal: 1.44s\tremaining: 618ms\n",
      "7:\tlearn: 2194.5378843\ttotal: 1.73s\tremaining: 433ms\n",
      "8:\tlearn: 2129.2384309\ttotal: 1.93s\tremaining: 215ms\n",
      "9:\tlearn: 2079.9704948\ttotal: 2.14s\tremaining: 0us\n",
      "[CV]  n_estimators=10, learning_rate=0.25, score=-2063.230, total=   3.9s\n",
      "[CV] n_estimators=10, learning_rate=0.25 .............................\n"
     ]
    },
    {
     "name": "stderr",
     "output_type": "stream",
     "text": [
      "[Parallel(n_jobs=1)]: Done   4 out of   4 | elapsed:   15.9s remaining:    0.0s\n"
     ]
    },
    {
     "name": "stdout",
     "output_type": "stream",
     "text": [
      "0:\tlearn: 3872.4817575\ttotal: 150ms\tremaining: 1.35s\n",
      "1:\tlearn: 3351.4133580\ttotal: 354ms\tremaining: 1.42s\n",
      "2:\tlearn: 2968.5659644\ttotal: 646ms\tremaining: 1.51s\n",
      "3:\tlearn: 2711.9409127\ttotal: 852ms\tremaining: 1.28s\n",
      "4:\tlearn: 2502.4730387\ttotal: 1.15s\tremaining: 1.15s\n",
      "5:\tlearn: 2368.5974576\ttotal: 1.35s\tremaining: 898ms\n",
      "6:\tlearn: 2266.5018235\ttotal: 1.55s\tremaining: 664ms\n",
      "7:\tlearn: 2185.3293948\ttotal: 1.75s\tremaining: 437ms\n",
      "8:\tlearn: 2119.1773461\ttotal: 2.04s\tremaining: 227ms\n",
      "9:\tlearn: 2073.1974148\ttotal: 2.25s\tremaining: 0us\n",
      "[CV]  n_estimators=10, learning_rate=0.25, score=-2084.950, total=   4.0s\n",
      "[CV] n_estimators=15, learning_rate=0.5 ..............................\n"
     ]
    },
    {
     "name": "stderr",
     "output_type": "stream",
     "text": [
      "[Parallel(n_jobs=1)]: Done   5 out of   5 | elapsed:   19.9s remaining:    0.0s\n"
     ]
    },
    {
     "name": "stdout",
     "output_type": "stream",
     "text": [
      "0:\tlearn: 3275.5863406\ttotal: 153ms\tremaining: 2.15s\n",
      "1:\tlearn: 2668.1453191\ttotal: 356ms\tremaining: 2.32s\n",
      "2:\tlearn: 2380.7034117\ttotal: 652ms\tremaining: 2.61s\n",
      "3:\tlearn: 2191.7127217\ttotal: 863ms\tremaining: 2.37s\n",
      "4:\tlearn: 2102.6113904\ttotal: 1.15s\tremaining: 2.3s\n",
      "5:\tlearn: 2038.2334057\ttotal: 1.35s\tremaining: 2.02s\n",
      "6:\tlearn: 2008.1382743\ttotal: 1.55s\tremaining: 1.77s\n",
      "7:\tlearn: 1966.7449541\ttotal: 1.84s\tremaining: 1.61s\n",
      "8:\tlearn: 1948.0588490\ttotal: 2.04s\tremaining: 1.36s\n",
      "9:\tlearn: 1924.9562813\ttotal: 2.25s\tremaining: 1.12s\n",
      "10:\tlearn: 1907.4797977\ttotal: 2.45s\tremaining: 891ms\n",
      "11:\tlearn: 1891.8441675\ttotal: 2.74s\tremaining: 685ms\n",
      "12:\tlearn: 1879.6456252\ttotal: 2.94s\tremaining: 452ms\n",
      "13:\tlearn: 1868.9066636\ttotal: 3.14s\tremaining: 225ms\n",
      "14:\tlearn: 1859.9341860\ttotal: 3.34s\tremaining: 0us\n",
      "[CV]  n_estimators=15, learning_rate=0.5, score=-1891.750, total=   5.1s\n",
      "[CV] n_estimators=15, learning_rate=0.5 ..............................\n"
     ]
    },
    {
     "name": "stderr",
     "output_type": "stream",
     "text": [
      "[Parallel(n_jobs=1)]: Done   6 out of   6 | elapsed:   25.0s remaining:    0.0s\n"
     ]
    },
    {
     "name": "stdout",
     "output_type": "stream",
     "text": [
      "0:\tlearn: 3265.3757639\ttotal: 181ms\tremaining: 2.53s\n",
      "1:\tlearn: 2653.4760557\ttotal: 388ms\tremaining: 2.52s\n",
      "2:\tlearn: 2335.8832856\ttotal: 681ms\tremaining: 2.72s\n",
      "3:\tlearn: 2175.5405604\ttotal: 973ms\tremaining: 2.67s\n",
      "4:\tlearn: 2086.1034465\ttotal: 1.18s\tremaining: 2.36s\n",
      "5:\tlearn: 2039.1548377\ttotal: 1.38s\tremaining: 2.07s\n",
      "6:\tlearn: 2001.2702045\ttotal: 1.68s\tremaining: 1.92s\n",
      "7:\tlearn: 1966.8870855\ttotal: 1.88s\tremaining: 1.64s\n",
      "8:\tlearn: 1947.0304649\ttotal: 2.08s\tremaining: 1.38s\n",
      "9:\tlearn: 1928.7037558\ttotal: 2.28s\tremaining: 1.14s\n",
      "10:\tlearn: 1913.9700098\ttotal: 2.48s\tremaining: 901ms\n",
      "11:\tlearn: 1895.3206816\ttotal: 2.68s\tremaining: 670ms\n",
      "12:\tlearn: 1883.4944868\ttotal: 2.88s\tremaining: 443ms\n",
      "13:\tlearn: 1876.0839342\ttotal: 3.08s\tremaining: 220ms\n",
      "14:\tlearn: 1866.1684763\ttotal: 3.36s\tremaining: 0us\n",
      "[CV]  n_estimators=15, learning_rate=0.5, score=-1869.760, total=   5.0s\n",
      "[CV] n_estimators=15, learning_rate=0.5 ..............................\n"
     ]
    },
    {
     "name": "stderr",
     "output_type": "stream",
     "text": [
      "[Parallel(n_jobs=1)]: Done   7 out of   7 | elapsed:   30.0s remaining:    0.0s\n"
     ]
    },
    {
     "name": "stdout",
     "output_type": "stream",
     "text": [
      "0:\tlearn: 3268.8523823\ttotal: 126ms\tremaining: 1.76s\n",
      "1:\tlearn: 2652.1001421\ttotal: 325ms\tremaining: 2.11s\n",
      "2:\tlearn: 2336.1381128\ttotal: 621ms\tremaining: 2.48s\n",
      "3:\tlearn: 2174.7753181\ttotal: 823ms\tremaining: 2.26s\n",
      "4:\tlearn: 2084.1486786\ttotal: 1.03s\tremaining: 2.05s\n",
      "5:\tlearn: 2015.6322970\ttotal: 1.31s\tremaining: 1.97s\n",
      "6:\tlearn: 1982.8641137\ttotal: 1.52s\tremaining: 1.74s\n",
      "7:\tlearn: 1957.2669314\ttotal: 1.72s\tremaining: 1.5s\n",
      "8:\tlearn: 1935.1338977\ttotal: 1.92s\tremaining: 1.28s\n",
      "9:\tlearn: 1920.9173879\ttotal: 2.12s\tremaining: 1.06s\n",
      "10:\tlearn: 1894.3883895\ttotal: 2.32s\tremaining: 844ms\n",
      "11:\tlearn: 1884.3617490\ttotal: 2.52s\tremaining: 631ms\n",
      "12:\tlearn: 1874.7853270\ttotal: 2.81s\tremaining: 432ms\n",
      "13:\tlearn: 1863.3884380\ttotal: 3.01s\tremaining: 215ms\n",
      "14:\tlearn: 1856.9080343\ttotal: 3.21s\tremaining: 0us\n",
      "[CV]  n_estimators=15, learning_rate=0.5, score=-1853.670, total=   5.0s\n",
      "[CV] n_estimators=15, learning_rate=0.5 ..............................\n"
     ]
    },
    {
     "name": "stderr",
     "output_type": "stream",
     "text": [
      "[Parallel(n_jobs=1)]: Done   8 out of   8 | elapsed:   35.0s remaining:    0.0s\n"
     ]
    },
    {
     "name": "stdout",
     "output_type": "stream",
     "text": [
      "0:\tlearn: 3270.2655769\ttotal: 177ms\tremaining: 2.48s\n",
      "1:\tlearn: 2660.2849434\ttotal: 396ms\tremaining: 2.57s\n",
      "2:\tlearn: 2345.2883667\ttotal: 675ms\tremaining: 2.7s\n",
      "3:\tlearn: 2183.9613061\ttotal: 883ms\tremaining: 2.43s\n",
      "4:\tlearn: 2105.7824448\ttotal: 1.17s\tremaining: 2.34s\n",
      "5:\tlearn: 2043.8376917\ttotal: 1.37s\tremaining: 2.06s\n",
      "6:\tlearn: 2000.2512155\ttotal: 1.58s\tremaining: 1.8s\n",
      "7:\tlearn: 1973.3793957\ttotal: 1.78s\tremaining: 1.55s\n",
      "8:\tlearn: 1955.9318434\ttotal: 1.98s\tremaining: 1.32s\n",
      "9:\tlearn: 1934.8939707\ttotal: 2.18s\tremaining: 1.09s\n",
      "10:\tlearn: 1921.7118827\ttotal: 2.47s\tremaining: 897ms\n",
      "11:\tlearn: 1903.0576810\ttotal: 2.67s\tremaining: 668ms\n",
      "12:\tlearn: 1891.8931652\ttotal: 2.87s\tremaining: 442ms\n",
      "13:\tlearn: 1882.0853141\ttotal: 3.07s\tremaining: 219ms\n",
      "14:\tlearn: 1861.5149794\ttotal: 3.28s\tremaining: 0us\n",
      "[CV]  n_estimators=15, learning_rate=0.5, score=-1843.470, total=   5.1s\n",
      "[CV] n_estimators=15, learning_rate=0.5 ..............................\n"
     ]
    },
    {
     "name": "stderr",
     "output_type": "stream",
     "text": [
      "[Parallel(n_jobs=1)]: Done   9 out of   9 | elapsed:   40.1s remaining:    0.0s\n"
     ]
    },
    {
     "name": "stdout",
     "output_type": "stream",
     "text": [
      "0:\tlearn: 3284.7908916\ttotal: 185ms\tremaining: 2.6s\n",
      "1:\tlearn: 2653.7775240\ttotal: 388ms\tremaining: 2.52s\n",
      "2:\tlearn: 2316.0786065\ttotal: 688ms\tremaining: 2.75s\n",
      "3:\tlearn: 2172.3378767\ttotal: 892ms\tremaining: 2.45s\n",
      "4:\tlearn: 2089.2207968\ttotal: 1.18s\tremaining: 2.36s\n",
      "5:\tlearn: 2043.7925446\ttotal: 1.39s\tremaining: 2.08s\n",
      "6:\tlearn: 1999.5899729\ttotal: 1.58s\tremaining: 1.81s\n",
      "7:\tlearn: 1976.7493889\ttotal: 1.79s\tremaining: 1.56s\n",
      "8:\tlearn: 1949.8353604\ttotal: 1.98s\tremaining: 1.32s\n",
      "9:\tlearn: 1931.1053821\ttotal: 2.27s\tremaining: 1.14s\n",
      "10:\tlearn: 1915.5189272\ttotal: 2.47s\tremaining: 900ms\n",
      "11:\tlearn: 1894.3976623\ttotal: 2.68s\tremaining: 669ms\n",
      "12:\tlearn: 1880.8327206\ttotal: 2.88s\tremaining: 443ms\n",
      "13:\tlearn: 1870.2670485\ttotal: 3.17s\tremaining: 227ms\n",
      "14:\tlearn: 1863.7169088\ttotal: 3.38s\tremaining: 0us\n",
      "[CV]  n_estimators=15, learning_rate=0.5, score=-1885.590, total=   5.2s\n",
      "[CV] n_estimators=20, learning_rate=0.25 .............................\n",
      "0:\tlearn: 3863.6577136\ttotal: 190ms\tremaining: 3.6s\n",
      "1:\tlearn: 3351.7184724\ttotal: 393ms\tremaining: 3.54s\n",
      "2:\tlearn: 2974.3715764\ttotal: 687ms\tremaining: 3.89s\n",
      "3:\tlearn: 2711.2629352\ttotal: 886ms\tremaining: 3.54s\n",
      "4:\tlearn: 2500.5296025\ttotal: 1.18s\tremaining: 3.53s\n",
      "5:\tlearn: 2354.0300120\ttotal: 1.38s\tremaining: 3.23s\n",
      "6:\tlearn: 2255.7703826\ttotal: 1.58s\tremaining: 2.94s\n",
      "7:\tlearn: 2171.3605273\ttotal: 1.79s\tremaining: 2.69s\n",
      "8:\tlearn: 2108.6749476\ttotal: 2.08s\tremaining: 2.54s\n",
      "9:\tlearn: 2059.0081094\ttotal: 2.29s\tremaining: 2.29s\n",
      "10:\tlearn: 2022.4706877\ttotal: 2.58s\tremaining: 2.11s\n",
      "11:\tlearn: 1998.4983476\ttotal: 2.78s\tremaining: 1.85s\n",
      "12:\tlearn: 1974.1512131\ttotal: 3.11s\tremaining: 1.68s\n",
      "13:\tlearn: 1954.2997669\ttotal: 3.29s\tremaining: 1.41s\n",
      "14:\tlearn: 1939.0719690\ttotal: 3.49s\tremaining: 1.16s\n",
      "15:\tlearn: 1927.4225975\ttotal: 3.77s\tremaining: 942ms\n",
      "16:\tlearn: 1915.6474501\ttotal: 3.97s\tremaining: 700ms\n",
      "17:\tlearn: 1899.4580660\ttotal: 4.17s\tremaining: 463ms\n",
      "18:\tlearn: 1890.6249897\ttotal: 4.37s\tremaining: 230ms\n",
      "19:\tlearn: 1880.9309963\ttotal: 4.57s\tremaining: 0us\n",
      "[CV]  n_estimators=20, learning_rate=0.25, score=-1909.020, total=   6.4s\n",
      "[CV] n_estimators=20, learning_rate=0.25 .............................\n",
      "0:\tlearn: 3859.5267232\ttotal: 150ms\tremaining: 2.84s\n",
      "1:\tlearn: 3345.1425641\ttotal: 352ms\tremaining: 3.16s\n",
      "2:\tlearn: 2974.6865057\ttotal: 650ms\tremaining: 3.68s\n",
      "3:\tlearn: 2710.0498119\ttotal: 851ms\tremaining: 3.4s\n",
      "4:\tlearn: 2508.3198786\ttotal: 1.15s\tremaining: 3.44s\n",
      "5:\tlearn: 2370.0833593\ttotal: 1.34s\tremaining: 3.13s\n",
      "6:\tlearn: 2265.2938333\ttotal: 1.55s\tremaining: 2.87s\n",
      "7:\tlearn: 2183.1756569\ttotal: 1.83s\tremaining: 2.75s\n",
      "8:\tlearn: 2112.8276502\ttotal: 2.04s\tremaining: 2.49s\n",
      "9:\tlearn: 2068.7618436\ttotal: 2.24s\tremaining: 2.24s\n",
      "10:\tlearn: 2034.4994776\ttotal: 2.44s\tremaining: 2s\n",
      "11:\tlearn: 2008.7174843\ttotal: 2.67s\tremaining: 1.78s\n",
      "12:\tlearn: 1984.6961685\ttotal: 2.93s\tremaining: 1.58s\n",
      "13:\tlearn: 1963.4429208\ttotal: 3.15s\tremaining: 1.35s\n",
      "14:\tlearn: 1947.2590440\ttotal: 3.43s\tremaining: 1.14s\n",
      "15:\tlearn: 1933.2704135\ttotal: 3.63s\tremaining: 908ms\n",
      "16:\tlearn: 1922.0851389\ttotal: 3.83s\tremaining: 676ms\n",
      "17:\tlearn: 1913.2188043\ttotal: 4.03s\tremaining: 448ms\n",
      "18:\tlearn: 1901.7483541\ttotal: 4.25s\tremaining: 224ms\n",
      "19:\tlearn: 1890.8642829\ttotal: 4.43s\tremaining: 0us\n",
      "[CV]  n_estimators=20, learning_rate=0.25, score=-1891.540, total=   6.2s\n",
      "[CV] n_estimators=20, learning_rate=0.25 .............................\n",
      "0:\tlearn: 3866.2746728\ttotal: 145ms\tremaining: 2.75s\n",
      "1:\tlearn: 3338.0993299\ttotal: 347ms\tremaining: 3.13s\n",
      "2:\tlearn: 2977.1975753\ttotal: 639ms\tremaining: 3.62s\n",
      "3:\tlearn: 2720.4852566\ttotal: 842ms\tremaining: 3.37s\n",
      "4:\tlearn: 2521.9318702\ttotal: 1.14s\tremaining: 3.41s\n",
      "5:\tlearn: 2382.6355112\ttotal: 1.34s\tremaining: 3.13s\n",
      "6:\tlearn: 2279.1847565\ttotal: 1.56s\tremaining: 2.89s\n",
      "7:\tlearn: 2197.4389047\ttotal: 1.84s\tremaining: 2.75s\n",
      "8:\tlearn: 2125.8281701\ttotal: 2.04s\tremaining: 2.5s\n",
      "9:\tlearn: 2075.0804717\ttotal: 2.24s\tremaining: 2.24s\n",
      "10:\tlearn: 2037.2387802\ttotal: 2.44s\tremaining: 2s\n",
      "11:\tlearn: 2011.9530986\ttotal: 2.64s\tremaining: 1.76s\n",
      "12:\tlearn: 1994.0156660\ttotal: 2.84s\tremaining: 1.53s\n",
      "13:\tlearn: 1971.8754092\ttotal: 3.13s\tremaining: 1.34s\n",
      "14:\tlearn: 1956.7345833\ttotal: 3.33s\tremaining: 1.11s\n",
      "15:\tlearn: 1941.9232882\ttotal: 3.53s\tremaining: 884ms\n",
      "16:\tlearn: 1927.7411821\ttotal: 3.74s\tremaining: 660ms\n",
      "17:\tlearn: 1916.3035871\ttotal: 3.94s\tremaining: 438ms\n",
      "18:\tlearn: 1909.4813100\ttotal: 4.22s\tremaining: 222ms\n",
      "19:\tlearn: 1902.1977758\ttotal: 4.43s\tremaining: 0us\n",
      "[CV]  n_estimators=20, learning_rate=0.25, score=-1894.320, total=   6.3s\n",
      "[CV] n_estimators=20, learning_rate=0.25 .............................\n",
      "0:\tlearn: 3865.9207030\ttotal: 177ms\tremaining: 3.36s\n",
      "1:\tlearn: 3350.3102025\ttotal: 382ms\tremaining: 3.44s\n",
      "2:\tlearn: 2980.9988387\ttotal: 677ms\tremaining: 3.84s\n",
      "3:\tlearn: 2714.6851635\ttotal: 888ms\tremaining: 3.55s\n",
      "4:\tlearn: 2514.7335139\ttotal: 1.17s\tremaining: 3.51s\n",
      "5:\tlearn: 2376.0568475\ttotal: 1.37s\tremaining: 3.2s\n",
      "6:\tlearn: 2273.8742158\ttotal: 1.57s\tremaining: 2.92s\n",
      "7:\tlearn: 2194.5378843\ttotal: 1.77s\tremaining: 2.66s\n",
      "8:\tlearn: 2129.2384309\ttotal: 1.97s\tremaining: 2.41s\n",
      "9:\tlearn: 2079.9704948\ttotal: 2.27s\tremaining: 2.27s\n",
      "10:\tlearn: 2040.8074464\ttotal: 2.47s\tremaining: 2.02s\n",
      "11:\tlearn: 2007.1937191\ttotal: 2.67s\tremaining: 1.78s\n",
      "12:\tlearn: 1985.8712702\ttotal: 2.87s\tremaining: 1.54s\n",
      "13:\tlearn: 1963.4417126\ttotal: 3.16s\tremaining: 1.35s\n",
      "14:\tlearn: 1947.6477135\ttotal: 3.27s\tremaining: 1.09s\n",
      "15:\tlearn: 1932.2457247\ttotal: 3.56s\tremaining: 890ms\n",
      "16:\tlearn: 1921.0274675\ttotal: 3.76s\tremaining: 664ms\n",
      "17:\tlearn: 1910.5674785\ttotal: 3.96s\tremaining: 441ms\n",
      "18:\tlearn: 1899.2686194\ttotal: 4.17s\tremaining: 219ms\n",
      "19:\tlearn: 1891.3556129\ttotal: 4.37s\tremaining: 0us\n",
      "[CV]  n_estimators=20, learning_rate=0.25, score=-1875.090, total=   6.5s\n",
      "[CV] n_estimators=20, learning_rate=0.25 .............................\n",
      "0:\tlearn: 3872.4817575\ttotal: 179ms\tremaining: 3.41s\n",
      "1:\tlearn: 3351.4133580\ttotal: 372ms\tremaining: 3.35s\n",
      "2:\tlearn: 2968.5659644\ttotal: 667ms\tremaining: 3.78s\n",
      "3:\tlearn: 2711.9409127\ttotal: 869ms\tremaining: 3.48s\n",
      "4:\tlearn: 2502.4730387\ttotal: 1.17s\tremaining: 3.5s\n",
      "5:\tlearn: 2368.5974576\ttotal: 1.37s\tremaining: 3.19s\n",
      "6:\tlearn: 2266.5018235\ttotal: 1.57s\tremaining: 2.91s\n",
      "7:\tlearn: 2185.3293948\ttotal: 1.77s\tremaining: 2.66s\n",
      "8:\tlearn: 2119.1773461\ttotal: 1.97s\tremaining: 2.41s\n",
      "9:\tlearn: 2073.1974148\ttotal: 2.26s\tremaining: 2.26s\n",
      "10:\tlearn: 2034.7843257\ttotal: 2.46s\tremaining: 2.01s\n",
      "11:\tlearn: 2006.7310728\ttotal: 2.67s\tremaining: 1.78s\n",
      "12:\tlearn: 1985.1319522\ttotal: 2.86s\tremaining: 1.54s\n",
      "13:\tlearn: 1966.0342960\ttotal: 3.06s\tremaining: 1.31s\n",
      "14:\tlearn: 1950.3169764\ttotal: 3.26s\tremaining: 1.09s\n",
      "15:\tlearn: 1939.8780461\ttotal: 3.55s\tremaining: 889ms\n",
      "16:\tlearn: 1926.5590586\ttotal: 3.75s\tremaining: 663ms\n",
      "17:\tlearn: 1915.8210181\ttotal: 3.96s\tremaining: 440ms\n",
      "18:\tlearn: 1901.7946283\ttotal: 4.16s\tremaining: 219ms\n",
      "19:\tlearn: 1892.9759596\ttotal: 4.36s\tremaining: 0us\n",
      "[CV]  n_estimators=20, learning_rate=0.25, score=-1903.020, total=   6.1s\n",
      "[CV] n_estimators=20, learning_rate=0.5 ..............................\n",
      "0:\tlearn: 3275.5863406\ttotal: 139ms\tremaining: 2.64s\n",
      "1:\tlearn: 2668.1453191\ttotal: 343ms\tremaining: 3.09s\n",
      "2:\tlearn: 2380.7034117\ttotal: 640ms\tremaining: 3.62s\n",
      "3:\tlearn: 2191.7127217\ttotal: 844ms\tremaining: 3.37s\n",
      "4:\tlearn: 2102.6113904\ttotal: 1.13s\tremaining: 3.4s\n",
      "5:\tlearn: 2038.2334057\ttotal: 1.33s\tremaining: 3.11s\n",
      "6:\tlearn: 2008.1382743\ttotal: 1.54s\tremaining: 2.85s\n",
      "7:\tlearn: 1966.7449541\ttotal: 1.83s\tremaining: 2.74s\n",
      "8:\tlearn: 1948.0588490\ttotal: 2.03s\tremaining: 2.48s\n",
      "9:\tlearn: 1924.9562813\ttotal: 2.23s\tremaining: 2.23s\n",
      "10:\tlearn: 1907.4797977\ttotal: 2.43s\tremaining: 1.99s\n",
      "11:\tlearn: 1891.8441675\ttotal: 2.63s\tremaining: 1.75s\n",
      "12:\tlearn: 1879.6456252\ttotal: 2.83s\tremaining: 1.52s\n",
      "13:\tlearn: 1868.9066636\ttotal: 3.03s\tremaining: 1.3s\n",
      "14:\tlearn: 1859.9341860\ttotal: 3.32s\tremaining: 1.11s\n",
      "15:\tlearn: 1844.7248777\ttotal: 3.53s\tremaining: 882ms\n",
      "16:\tlearn: 1839.3059391\ttotal: 3.72s\tremaining: 657ms\n",
      "17:\tlearn: 1834.4102959\ttotal: 3.93s\tremaining: 436ms\n",
      "18:\tlearn: 1824.8342375\ttotal: 4.13s\tremaining: 217ms\n",
      "19:\tlearn: 1815.6727808\ttotal: 4.33s\tremaining: 0us\n",
      "[CV]  n_estimators=20, learning_rate=0.5, score=-1853.770, total=   6.1s\n",
      "[CV] n_estimators=20, learning_rate=0.5 ..............................\n",
      "0:\tlearn: 3265.3757639\ttotal: 174ms\tremaining: 3.31s\n",
      "1:\tlearn: 2653.4760557\ttotal: 374ms\tremaining: 3.36s\n",
      "2:\tlearn: 2335.8832856\ttotal: 669ms\tremaining: 3.79s\n",
      "3:\tlearn: 2175.5405604\ttotal: 874ms\tremaining: 3.5s\n",
      "4:\tlearn: 2086.1034465\ttotal: 1.08s\tremaining: 3.24s\n",
      "5:\tlearn: 2039.1548377\ttotal: 1.28s\tremaining: 2.98s\n",
      "6:\tlearn: 2001.2702045\ttotal: 1.57s\tremaining: 2.91s\n",
      "7:\tlearn: 1966.8870855\ttotal: 1.77s\tremaining: 2.65s\n",
      "8:\tlearn: 1947.0304649\ttotal: 1.97s\tremaining: 2.41s\n",
      "9:\tlearn: 1928.7037558\ttotal: 2.17s\tremaining: 2.17s\n",
      "10:\tlearn: 1913.9700098\ttotal: 2.37s\tremaining: 1.94s\n",
      "11:\tlearn: 1895.3206816\ttotal: 2.57s\tremaining: 1.71s\n",
      "12:\tlearn: 1883.4944868\ttotal: 2.77s\tremaining: 1.49s\n",
      "13:\tlearn: 1876.0839342\ttotal: 2.98s\tremaining: 1.27s\n",
      "14:\tlearn: 1866.1684763\ttotal: 3.17s\tremaining: 1.06s\n",
      "15:\tlearn: 1851.1921549\ttotal: 3.37s\tremaining: 842ms\n",
      "16:\tlearn: 1846.4559499\ttotal: 3.57s\tremaining: 630ms\n",
      "17:\tlearn: 1837.7660500\ttotal: 3.86s\tremaining: 429ms\n",
      "18:\tlearn: 1828.7670393\ttotal: 4.06s\tremaining: 214ms\n",
      "19:\tlearn: 1821.7362974\ttotal: 4.26s\tremaining: 0us\n",
      "[CV]  n_estimators=20, learning_rate=0.5, score=-1830.860, total=   6.1s\n",
      "[CV] n_estimators=20, learning_rate=0.5 ..............................\n",
      "0:\tlearn: 3268.8523823\ttotal: 116ms\tremaining: 2.2s\n",
      "1:\tlearn: 2652.1001421\ttotal: 315ms\tremaining: 2.84s\n",
      "2:\tlearn: 2336.1381128\ttotal: 608ms\tremaining: 3.44s\n",
      "3:\tlearn: 2174.7753181\ttotal: 810ms\tremaining: 3.24s\n",
      "4:\tlearn: 2084.1486786\ttotal: 1.1s\tremaining: 3.3s\n",
      "5:\tlearn: 2015.6322970\ttotal: 1.31s\tremaining: 3.05s\n",
      "6:\tlearn: 1982.8641137\ttotal: 1.51s\tremaining: 2.8s\n",
      "7:\tlearn: 1957.2669314\ttotal: 1.71s\tremaining: 2.56s\n",
      "8:\tlearn: 1935.1338977\ttotal: 1.91s\tremaining: 2.33s\n",
      "9:\tlearn: 1920.9173879\ttotal: 2.2s\tremaining: 2.2s\n",
      "10:\tlearn: 1894.3883895\ttotal: 2.4s\tremaining: 1.96s\n",
      "11:\tlearn: 1884.3617490\ttotal: 2.6s\tremaining: 1.73s\n",
      "12:\tlearn: 1874.7853270\ttotal: 2.8s\tremaining: 1.51s\n",
      "13:\tlearn: 1863.3884380\ttotal: 3s\tremaining: 1.28s\n",
      "14:\tlearn: 1856.9080343\ttotal: 3.2s\tremaining: 1.07s\n",
      "15:\tlearn: 1848.7208353\ttotal: 3.4s\tremaining: 850ms\n",
      "16:\tlearn: 1842.5438305\ttotal: 3.6s\tremaining: 636ms\n",
      "17:\tlearn: 1834.4655092\ttotal: 3.8s\tremaining: 422ms\n",
      "18:\tlearn: 1827.6866910\ttotal: 4.09s\tremaining: 215ms\n",
      "19:\tlearn: 1818.4283529\ttotal: 4.29s\tremaining: 0us\n",
      "[CV]  n_estimators=20, learning_rate=0.5, score=-1818.670, total=   6.1s\n",
      "[CV] n_estimators=20, learning_rate=0.5 ..............................\n",
      "0:\tlearn: 3270.2655769\ttotal: 161ms\tremaining: 3.07s\n",
      "1:\tlearn: 2660.2849434\ttotal: 369ms\tremaining: 3.33s\n",
      "2:\tlearn: 2345.2883667\ttotal: 663ms\tremaining: 3.75s\n",
      "3:\tlearn: 2183.9613061\ttotal: 864ms\tremaining: 3.46s\n",
      "4:\tlearn: 2105.7824448\ttotal: 1.15s\tremaining: 3.46s\n",
      "5:\tlearn: 2043.8376917\ttotal: 1.36s\tremaining: 3.17s\n",
      "6:\tlearn: 2000.2512155\ttotal: 1.56s\tremaining: 2.9s\n",
      "7:\tlearn: 1973.3793957\ttotal: 1.85s\tremaining: 2.78s\n",
      "8:\tlearn: 1955.9318434\ttotal: 2.06s\tremaining: 2.52s\n",
      "9:\tlearn: 1934.8939707\ttotal: 2.27s\tremaining: 2.27s\n",
      "10:\tlearn: 1921.7118827\ttotal: 2.55s\tremaining: 2.09s\n",
      "11:\tlearn: 1903.0576810\ttotal: 2.75s\tremaining: 1.83s\n",
      "12:\tlearn: 1891.8931652\ttotal: 2.96s\tremaining: 1.59s\n",
      "13:\tlearn: 1882.0853141\ttotal: 3.16s\tremaining: 1.35s\n",
      "14:\tlearn: 1861.5149794\ttotal: 3.44s\tremaining: 1.15s\n",
      "15:\tlearn: 1856.7445441\ttotal: 3.65s\tremaining: 912ms\n",
      "16:\tlearn: 1846.2258526\ttotal: 3.85s\tremaining: 679ms\n",
      "17:\tlearn: 1835.2681993\ttotal: 4.04s\tremaining: 450ms\n",
      "18:\tlearn: 1827.1621753\ttotal: 4.25s\tremaining: 224ms\n",
      "19:\tlearn: 1816.9177325\ttotal: 4.45s\tremaining: 0us\n",
      "[CV]  n_estimators=20, learning_rate=0.5, score=-1804.180, total=   6.2s\n",
      "[CV] n_estimators=20, learning_rate=0.5 ..............................\n",
      "0:\tlearn: 3284.7908916\ttotal: 170ms\tremaining: 3.24s\n",
      "1:\tlearn: 2653.7775240\ttotal: 383ms\tremaining: 3.44s\n",
      "2:\tlearn: 2316.0786065\ttotal: 668ms\tremaining: 3.79s\n",
      "3:\tlearn: 2172.3378767\ttotal: 880ms\tremaining: 3.52s\n",
      "4:\tlearn: 2089.2207968\ttotal: 1.17s\tremaining: 3.5s\n",
      "5:\tlearn: 2043.7925446\ttotal: 1.38s\tremaining: 3.21s\n",
      "6:\tlearn: 1999.5899729\ttotal: 1.58s\tremaining: 2.93s\n",
      "7:\tlearn: 1976.7493889\ttotal: 1.77s\tremaining: 2.65s\n",
      "8:\tlearn: 1949.8353604\ttotal: 2.06s\tremaining: 2.52s\n",
      "9:\tlearn: 1931.1053821\ttotal: 2.26s\tremaining: 2.26s\n",
      "10:\tlearn: 1915.5189272\ttotal: 2.46s\tremaining: 2.01s\n",
      "11:\tlearn: 1894.3976623\ttotal: 2.66s\tremaining: 1.77s\n",
      "12:\tlearn: 1880.8327206\ttotal: 2.86s\tremaining: 1.54s\n",
      "13:\tlearn: 1870.2670485\ttotal: 3.06s\tremaining: 1.31s\n",
      "14:\tlearn: 1863.7169088\ttotal: 3.27s\tremaining: 1.09s\n",
      "15:\tlearn: 1855.7063350\ttotal: 3.55s\tremaining: 888ms\n",
      "16:\tlearn: 1836.0984078\ttotal: 3.75s\tremaining: 663ms\n",
      "17:\tlearn: 1827.8915346\ttotal: 3.96s\tremaining: 440ms\n",
      "18:\tlearn: 1820.4185782\ttotal: 4.16s\tremaining: 219ms\n",
      "19:\tlearn: 1815.6972534\ttotal: 4.45s\tremaining: 0us\n",
      "[CV]  n_estimators=20, learning_rate=0.5, score=-1840.840, total=   6.2s\n",
      "[CV] n_estimators=25, learning_rate=0.75 .............................\n",
      "0:\tlearn: 2865.1230434\ttotal: 140ms\tremaining: 3.35s\n",
      "1:\tlearn: 2398.0802141\ttotal: 353ms\tremaining: 4.06s\n",
      "2:\tlearn: 2214.2065515\ttotal: 640ms\tremaining: 4.69s\n",
      "3:\tlearn: 2107.9088640\ttotal: 840ms\tremaining: 4.41s\n",
      "4:\tlearn: 2041.0180587\ttotal: 1.13s\tremaining: 4.53s\n",
      "5:\tlearn: 2004.6653786\ttotal: 1.34s\tremaining: 4.23s\n",
      "6:\tlearn: 1962.2944890\ttotal: 1.53s\tremaining: 3.95s\n",
      "7:\tlearn: 1944.5438963\ttotal: 1.74s\tremaining: 3.69s\n",
      "8:\tlearn: 1917.7537310\ttotal: 1.94s\tremaining: 3.44s\n",
      "9:\tlearn: 1902.1151484\ttotal: 2.14s\tremaining: 3.21s\n",
      "10:\tlearn: 1890.0632474\ttotal: 2.43s\tremaining: 3.09s\n",
      "11:\tlearn: 1866.6334323\ttotal: 2.63s\tremaining: 2.85s\n",
      "12:\tlearn: 1851.7850296\ttotal: 2.83s\tremaining: 2.61s\n",
      "13:\tlearn: 1838.6860389\ttotal: 3.03s\tremaining: 2.38s\n",
      "14:\tlearn: 1829.1461916\ttotal: 3.23s\tremaining: 2.15s\n",
      "15:\tlearn: 1821.8629871\ttotal: 3.43s\tremaining: 1.93s\n",
      "16:\tlearn: 1811.6857837\ttotal: 3.63s\tremaining: 1.71s\n",
      "17:\tlearn: 1802.9086716\ttotal: 3.92s\tremaining: 1.52s\n",
      "18:\tlearn: 1793.0048379\ttotal: 4.12s\tremaining: 1.3s\n",
      "19:\tlearn: 1787.4758986\ttotal: 4.32s\tremaining: 1.08s\n",
      "20:\tlearn: 1780.9951341\ttotal: 4.52s\tremaining: 862ms\n",
      "21:\tlearn: 1775.9384265\ttotal: 4.72s\tremaining: 644ms\n",
      "22:\tlearn: 1772.6367339\ttotal: 5.01s\tremaining: 436ms\n",
      "23:\tlearn: 1769.2121256\ttotal: 5.21s\tremaining: 217ms\n",
      "24:\tlearn: 1762.8312796\ttotal: 5.42s\tremaining: 0us\n",
      "[CV]  n_estimators=25, learning_rate=0.75, score=-1808.100, total=   7.2s\n",
      "[CV] n_estimators=25, learning_rate=0.75 .............................\n",
      "0:\tlearn: 2849.4948218\ttotal: 168ms\tremaining: 4.03s\n",
      "1:\tlearn: 2372.0416636\ttotal: 373ms\tremaining: 4.29s\n",
      "2:\tlearn: 2223.8326529\ttotal: 663ms\tremaining: 4.86s\n",
      "3:\tlearn: 2145.7039555\ttotal: 870ms\tremaining: 4.57s\n",
      "4:\tlearn: 2069.0499485\ttotal: 1.16s\tremaining: 4.64s\n",
      "5:\tlearn: 2024.7736890\ttotal: 1.36s\tremaining: 4.31s\n",
      "6:\tlearn: 1981.9080751\ttotal: 1.56s\tremaining: 4.03s\n",
      "7:\tlearn: 1954.2500652\ttotal: 1.77s\tremaining: 3.75s\n",
      "8:\tlearn: 1930.6607329\ttotal: 1.97s\tremaining: 3.5s\n",
      "9:\tlearn: 1909.8520952\ttotal: 2.26s\tremaining: 3.39s\n",
      "10:\tlearn: 1893.4560833\ttotal: 2.46s\tremaining: 3.13s\n",
      "11:\tlearn: 1878.6242958\ttotal: 2.67s\tremaining: 2.89s\n",
      "12:\tlearn: 1869.5883509\ttotal: 2.95s\tremaining: 2.73s\n",
      "13:\tlearn: 1859.7781750\ttotal: 3.15s\tremaining: 2.48s\n",
      "14:\tlearn: 1852.4382204\ttotal: 3.35s\tremaining: 2.23s\n",
      "15:\tlearn: 1839.7643374\ttotal: 3.55s\tremaining: 2s\n",
      "16:\tlearn: 1831.5360815\ttotal: 3.77s\tremaining: 1.77s\n",
      "17:\tlearn: 1825.8068945\ttotal: 4.05s\tremaining: 1.57s\n",
      "18:\tlearn: 1815.1340268\ttotal: 4.25s\tremaining: 1.34s\n",
      "19:\tlearn: 1802.6575723\ttotal: 4.45s\tremaining: 1.11s\n",
      "20:\tlearn: 1796.9101123\ttotal: 4.65s\tremaining: 887ms\n",
      "21:\tlearn: 1789.6249837\ttotal: 4.86s\tremaining: 662ms\n",
      "22:\tlearn: 1785.0424704\ttotal: 5.14s\tremaining: 447ms\n",
      "23:\tlearn: 1780.0295331\ttotal: 5.34s\tremaining: 223ms\n",
      "24:\tlearn: 1772.5538552\ttotal: 5.54s\tremaining: 0us\n",
      "[CV]  n_estimators=25, learning_rate=0.75, score=-1780.190, total=   7.3s\n",
      "[CV] n_estimators=25, learning_rate=0.75 .............................\n",
      "0:\tlearn: 2850.3865207\ttotal: 180ms\tremaining: 4.33s\n",
      "1:\tlearn: 2411.1628187\ttotal: 471ms\tremaining: 5.41s\n",
      "2:\tlearn: 2207.2964960\ttotal: 677ms\tremaining: 4.96s\n",
      "3:\tlearn: 2101.4224899\ttotal: 881ms\tremaining: 4.63s\n",
      "4:\tlearn: 2043.7076180\ttotal: 1.17s\tremaining: 4.68s\n",
      "5:\tlearn: 2005.3295008\ttotal: 1.37s\tremaining: 4.34s\n",
      "6:\tlearn: 1962.2213189\ttotal: 1.57s\tremaining: 4.04s\n",
      "7:\tlearn: 1932.4974084\ttotal: 1.77s\tremaining: 3.77s\n",
      "8:\tlearn: 1912.0123826\ttotal: 1.97s\tremaining: 3.5s\n",
      "9:\tlearn: 1892.6408801\ttotal: 2.17s\tremaining: 3.26s\n",
      "10:\tlearn: 1882.1868701\ttotal: 2.37s\tremaining: 3.02s\n",
      "11:\tlearn: 1871.1393455\ttotal: 2.58s\tremaining: 2.79s\n",
      "12:\tlearn: 1859.7178621\ttotal: 2.87s\tremaining: 2.65s\n",
      "13:\tlearn: 1842.6086410\ttotal: 3.07s\tremaining: 2.41s\n",
      "14:\tlearn: 1833.7137270\ttotal: 3.27s\tremaining: 2.18s\n",
      "15:\tlearn: 1827.2606259\ttotal: 3.47s\tremaining: 1.95s\n",
      "16:\tlearn: 1821.6979482\ttotal: 3.76s\tremaining: 1.77s\n",
      "17:\tlearn: 1814.0646363\ttotal: 3.96s\tremaining: 1.54s\n",
      "18:\tlearn: 1805.0721294\ttotal: 4.16s\tremaining: 1.31s\n",
      "19:\tlearn: 1796.5601907\ttotal: 4.36s\tremaining: 1.09s\n",
      "20:\tlearn: 1790.5074534\ttotal: 4.56s\tremaining: 869ms\n",
      "21:\tlearn: 1786.1108581\ttotal: 4.76s\tremaining: 649ms\n",
      "22:\tlearn: 1780.6017499\ttotal: 4.96s\tremaining: 431ms\n",
      "23:\tlearn: 1772.5512328\ttotal: 5.17s\tremaining: 215ms\n",
      "24:\tlearn: 1766.8097784\ttotal: 5.36s\tremaining: 0us\n",
      "[CV]  n_estimators=25, learning_rate=0.75, score=-1774.790, total=   7.3s\n",
      "[CV] n_estimators=25, learning_rate=0.75 .............................\n",
      "0:\tlearn: 2853.2688582\ttotal: 166ms\tremaining: 3.97s\n",
      "1:\tlearn: 2377.8877201\ttotal: 459ms\tremaining: 5.28s\n",
      "2:\tlearn: 2228.9661311\ttotal: 664ms\tremaining: 4.87s\n",
      "3:\tlearn: 2149.1363752\ttotal: 876ms\tremaining: 4.6s\n",
      "4:\tlearn: 2072.9375598\ttotal: 1.16s\tremaining: 4.63s\n",
      "5:\tlearn: 2035.0272450\ttotal: 1.36s\tremaining: 4.31s\n",
      "6:\tlearn: 1997.8341886\ttotal: 1.58s\tremaining: 4.05s\n",
      "7:\tlearn: 1961.5855036\ttotal: 1.76s\tremaining: 3.75s\n",
      "8:\tlearn: 1942.9317475\ttotal: 1.96s\tremaining: 3.49s\n",
      "9:\tlearn: 1921.0500689\ttotal: 2.25s\tremaining: 3.38s\n",
      "10:\tlearn: 1897.0087158\ttotal: 2.45s\tremaining: 3.12s\n",
      "11:\tlearn: 1886.3129417\ttotal: 2.66s\tremaining: 2.88s\n",
      "12:\tlearn: 1875.2083615\ttotal: 2.86s\tremaining: 2.64s\n",
      "13:\tlearn: 1858.5408595\ttotal: 3.15s\tremaining: 2.48s\n",
      "14:\tlearn: 1844.1931014\ttotal: 3.35s\tremaining: 2.24s\n",
      "15:\tlearn: 1830.3151971\ttotal: 3.55s\tremaining: 2s\n",
      "16:\tlearn: 1822.4068154\ttotal: 3.76s\tremaining: 1.77s\n",
      "17:\tlearn: 1815.2964248\ttotal: 4.05s\tremaining: 1.57s\n",
      "18:\tlearn: 1809.4632591\ttotal: 4.25s\tremaining: 1.34s\n",
      "19:\tlearn: 1799.6389318\ttotal: 4.45s\tremaining: 1.11s\n",
      "20:\tlearn: 1791.3371841\ttotal: 4.65s\tremaining: 886ms\n",
      "21:\tlearn: 1785.7576555\ttotal: 4.85s\tremaining: 662ms\n",
      "22:\tlearn: 1781.7604927\ttotal: 5.14s\tremaining: 447ms\n",
      "23:\tlearn: 1776.2774454\ttotal: 5.34s\tremaining: 223ms\n",
      "24:\tlearn: 1770.8791620\ttotal: 5.55s\tremaining: 0us\n",
      "[CV]  n_estimators=25, learning_rate=0.75, score=-1779.660, total=   7.4s\n",
      "[CV] n_estimators=25, learning_rate=0.75 .............................\n",
      "0:\tlearn: 2874.5723335\ttotal: 153ms\tremaining: 3.67s\n",
      "1:\tlearn: 2450.5099858\ttotal: 352ms\tremaining: 4.04s\n",
      "2:\tlearn: 2209.7592908\ttotal: 648ms\tremaining: 4.75s\n",
      "3:\tlearn: 2115.9528376\ttotal: 852ms\tremaining: 4.47s\n",
      "4:\tlearn: 2048.2609552\ttotal: 1.05s\tremaining: 4.21s\n",
      "5:\tlearn: 2005.6318130\ttotal: 1.35s\tremaining: 4.26s\n",
      "6:\tlearn: 1983.6770168\ttotal: 1.54s\tremaining: 3.97s\n",
      "7:\tlearn: 1961.0023290\ttotal: 1.75s\tremaining: 3.71s\n",
      "8:\tlearn: 1932.4684266\ttotal: 1.95s\tremaining: 3.46s\n",
      "9:\tlearn: 1919.9805551\ttotal: 2.15s\tremaining: 3.22s\n",
      "10:\tlearn: 1898.0045170\ttotal: 2.35s\tremaining: 2.99s\n",
      "11:\tlearn: 1889.8029188\ttotal: 2.55s\tremaining: 2.76s\n",
      "12:\tlearn: 1877.9173315\ttotal: 2.76s\tremaining: 2.55s\n",
      "13:\tlearn: 1868.6777715\ttotal: 3.04s\tremaining: 2.39s\n",
      "14:\tlearn: 1860.7054129\ttotal: 3.24s\tremaining: 2.16s\n",
      "15:\tlearn: 1847.1284454\ttotal: 3.44s\tremaining: 1.94s\n",
      "16:\tlearn: 1833.9030869\ttotal: 3.65s\tremaining: 1.72s\n",
      "17:\tlearn: 1825.1704538\ttotal: 3.85s\tremaining: 1.5s\n",
      "18:\tlearn: 1819.4044301\ttotal: 4.13s\tremaining: 1.3s\n",
      "19:\tlearn: 1813.5244813\ttotal: 4.33s\tremaining: 1.08s\n",
      "20:\tlearn: 1796.5860339\ttotal: 4.53s\tremaining: 864ms\n",
      "21:\tlearn: 1790.7285835\ttotal: 4.74s\tremaining: 646ms\n",
      "22:\tlearn: 1786.3480189\ttotal: 4.94s\tremaining: 429ms\n",
      "23:\tlearn: 1777.5505562\ttotal: 5.14s\tremaining: 214ms\n",
      "24:\tlearn: 1771.3386447\ttotal: 5.34s\tremaining: 0us\n",
      "[CV]  n_estimators=25, learning_rate=0.75, score=-1802.390, total=   7.1s\n",
      "[CV] n_estimators=25, learning_rate=0.5 ..............................\n",
      "0:\tlearn: 3275.5863406\ttotal: 137ms\tremaining: 3.29s\n",
      "1:\tlearn: 2668.1453191\ttotal: 431ms\tremaining: 4.96s\n",
      "2:\tlearn: 2380.7034117\ttotal: 641ms\tremaining: 4.7s\n",
      "3:\tlearn: 2191.7127217\ttotal: 933ms\tremaining: 4.9s\n",
      "4:\tlearn: 2102.6113904\ttotal: 1.14s\tremaining: 4.54s\n",
      "5:\tlearn: 2038.2334057\ttotal: 1.33s\tremaining: 4.23s\n",
      "6:\tlearn: 2008.1382743\ttotal: 1.54s\tremaining: 3.95s\n",
      "7:\tlearn: 1966.7449541\ttotal: 1.82s\tremaining: 3.88s\n",
      "8:\tlearn: 1948.0588490\ttotal: 2.03s\tremaining: 3.6s\n",
      "9:\tlearn: 1924.9562813\ttotal: 2.32s\tremaining: 3.48s\n",
      "10:\tlearn: 1907.4797977\ttotal: 2.52s\tremaining: 3.21s\n",
      "11:\tlearn: 1891.8441675\ttotal: 2.73s\tremaining: 2.95s\n",
      "12:\tlearn: 1879.6456252\ttotal: 2.93s\tremaining: 2.71s\n",
      "13:\tlearn: 1868.9066636\ttotal: 3.13s\tremaining: 2.46s\n",
      "14:\tlearn: 1859.9341860\ttotal: 3.42s\tremaining: 2.28s\n",
      "15:\tlearn: 1844.7248777\ttotal: 3.62s\tremaining: 2.04s\n",
      "16:\tlearn: 1839.3059391\ttotal: 3.82s\tremaining: 1.8s\n",
      "17:\tlearn: 1834.4102959\ttotal: 4.03s\tremaining: 1.56s\n",
      "18:\tlearn: 1824.8342375\ttotal: 4.32s\tremaining: 1.36s\n",
      "19:\tlearn: 1815.6727808\ttotal: 4.52s\tremaining: 1.13s\n",
      "20:\tlearn: 1808.2961556\ttotal: 4.72s\tremaining: 899ms\n",
      "21:\tlearn: 1800.1217397\ttotal: 4.92s\tremaining: 671ms\n",
      "22:\tlearn: 1796.6850860\ttotal: 5.12s\tremaining: 446ms\n",
      "23:\tlearn: 1790.4946432\ttotal: 5.32s\tremaining: 222ms\n",
      "24:\tlearn: 1785.2453489\ttotal: 5.61s\tremaining: 0us\n",
      "[CV]  n_estimators=25, learning_rate=0.5, score=-1828.950, total=   7.4s\n",
      "[CV] n_estimators=25, learning_rate=0.5 ..............................\n",
      "0:\tlearn: 3265.3757639\ttotal: 187ms\tremaining: 4.5s\n",
      "1:\tlearn: 2653.4760557\ttotal: 389ms\tremaining: 4.47s\n",
      "2:\tlearn: 2335.8832856\ttotal: 684ms\tremaining: 5.02s\n",
      "3:\tlearn: 2175.5405604\ttotal: 889ms\tremaining: 4.67s\n",
      "4:\tlearn: 2086.1034465\ttotal: 1.18s\tremaining: 4.72s\n",
      "5:\tlearn: 2039.1548377\ttotal: 1.38s\tremaining: 4.38s\n",
      "6:\tlearn: 2001.2702045\ttotal: 1.59s\tremaining: 4.08s\n",
      "7:\tlearn: 1966.8870855\ttotal: 1.78s\tremaining: 3.79s\n",
      "8:\tlearn: 1947.0304649\ttotal: 2.07s\tremaining: 3.69s\n",
      "9:\tlearn: 1928.7037558\ttotal: 2.28s\tremaining: 3.42s\n",
      "10:\tlearn: 1913.9700098\ttotal: 2.48s\tremaining: 3.15s\n",
      "11:\tlearn: 1895.3206816\ttotal: 2.68s\tremaining: 2.91s\n",
      "12:\tlearn: 1883.4944868\ttotal: 2.88s\tremaining: 2.66s\n",
      "13:\tlearn: 1876.0839342\ttotal: 3.17s\tremaining: 2.49s\n",
      "14:\tlearn: 1866.1684763\ttotal: 3.37s\tremaining: 2.25s\n",
      "15:\tlearn: 1851.1921549\ttotal: 3.57s\tremaining: 2.01s\n",
      "16:\tlearn: 1846.4559499\ttotal: 3.77s\tremaining: 1.77s\n",
      "17:\tlearn: 1837.7660500\ttotal: 3.97s\tremaining: 1.54s\n",
      "18:\tlearn: 1828.7670393\ttotal: 4.17s\tremaining: 1.32s\n",
      "19:\tlearn: 1821.7362974\ttotal: 4.38s\tremaining: 1.09s\n",
      "20:\tlearn: 1810.6858389\ttotal: 4.57s\tremaining: 871ms\n",
      "21:\tlearn: 1806.4193149\ttotal: 4.78s\tremaining: 651ms\n",
      "22:\tlearn: 1800.6259562\ttotal: 5.06s\tremaining: 440ms\n",
      "23:\tlearn: 1796.8853335\ttotal: 5.18s\tremaining: 216ms\n",
      "24:\tlearn: 1791.9735658\ttotal: 5.46s\tremaining: 0us\n",
      "[CV]  n_estimators=25, learning_rate=0.5, score=-1798.910, total=   7.2s\n",
      "[CV] n_estimators=25, learning_rate=0.5 ..............................\n",
      "0:\tlearn: 3268.8523823\ttotal: 195ms\tremaining: 4.67s\n",
      "1:\tlearn: 2652.1001421\ttotal: 392ms\tremaining: 4.51s\n",
      "2:\tlearn: 2336.1381128\ttotal: 688ms\tremaining: 5.05s\n",
      "3:\tlearn: 2174.7753181\ttotal: 893ms\tremaining: 4.69s\n",
      "4:\tlearn: 2084.1486786\ttotal: 1.18s\tremaining: 4.74s\n",
      "5:\tlearn: 2015.6322970\ttotal: 1.39s\tremaining: 4.4s\n",
      "6:\tlearn: 1982.8641137\ttotal: 1.59s\tremaining: 4.08s\n",
      "7:\tlearn: 1957.2669314\ttotal: 1.79s\tremaining: 3.8s\n",
      "8:\tlearn: 1935.1338977\ttotal: 1.99s\tremaining: 3.53s\n",
      "9:\tlearn: 1920.9173879\ttotal: 2.19s\tremaining: 3.28s\n",
      "10:\tlearn: 1894.3883895\ttotal: 2.39s\tremaining: 3.04s\n",
      "11:\tlearn: 1884.3617490\ttotal: 2.6s\tremaining: 2.82s\n",
      "12:\tlearn: 1874.7853270\ttotal: 2.88s\tremaining: 2.66s\n",
      "13:\tlearn: 1863.3884380\ttotal: 3.08s\tremaining: 2.42s\n",
      "14:\tlearn: 1856.9080343\ttotal: 3.29s\tremaining: 2.19s\n",
      "15:\tlearn: 1848.7208353\ttotal: 3.48s\tremaining: 1.96s\n",
      "16:\tlearn: 1842.5438305\ttotal: 3.69s\tremaining: 1.73s\n",
      "17:\tlearn: 1834.4655092\ttotal: 3.88s\tremaining: 1.51s\n",
      "18:\tlearn: 1827.6866910\ttotal: 4.1s\tremaining: 1.29s\n",
      "19:\tlearn: 1818.4283529\ttotal: 4.38s\tremaining: 1.09s\n",
      "20:\tlearn: 1810.2820549\ttotal: 4.58s\tremaining: 872ms\n",
      "21:\tlearn: 1801.2934202\ttotal: 4.78s\tremaining: 651ms\n",
      "22:\tlearn: 1796.3239580\ttotal: 4.98s\tremaining: 433ms\n",
      "23:\tlearn: 1790.6989428\ttotal: 5.27s\tremaining: 220ms\n",
      "24:\tlearn: 1784.7120880\ttotal: 5.47s\tremaining: 0us\n",
      "[CV]  n_estimators=25, learning_rate=0.5, score=-1786.890, total=   7.2s\n",
      "[CV] n_estimators=25, learning_rate=0.5 ..............................\n",
      "0:\tlearn: 3270.2655769\ttotal: 187ms\tremaining: 4.49s\n",
      "1:\tlearn: 2660.2849434\ttotal: 389ms\tremaining: 4.47s\n",
      "2:\tlearn: 2345.2883667\ttotal: 685ms\tremaining: 5.02s\n",
      "3:\tlearn: 2183.9613061\ttotal: 889ms\tremaining: 4.67s\n",
      "4:\tlearn: 2105.7824448\ttotal: 1.09s\tremaining: 4.37s\n",
      "5:\tlearn: 2043.8376917\ttotal: 1.38s\tremaining: 4.36s\n",
      "6:\tlearn: 2000.2512155\ttotal: 1.58s\tremaining: 4.07s\n",
      "7:\tlearn: 1973.3793957\ttotal: 1.78s\tremaining: 3.79s\n",
      "8:\tlearn: 1955.9318434\ttotal: 1.99s\tremaining: 3.54s\n",
      "9:\tlearn: 1934.8939707\ttotal: 2.27s\tremaining: 3.41s\n",
      "10:\tlearn: 1921.7118827\ttotal: 2.48s\tremaining: 3.15s\n",
      "11:\tlearn: 1903.0576810\ttotal: 2.68s\tremaining: 2.9s\n",
      "12:\tlearn: 1891.8931652\ttotal: 2.88s\tremaining: 2.66s\n",
      "13:\tlearn: 1882.0853141\ttotal: 3.18s\tremaining: 2.5s\n",
      "14:\tlearn: 1861.5149794\ttotal: 3.38s\tremaining: 2.25s\n",
      "15:\tlearn: 1856.7445441\ttotal: 3.58s\tremaining: 2.02s\n",
      "16:\tlearn: 1846.2258526\ttotal: 3.87s\tremaining: 1.82s\n",
      "17:\tlearn: 1835.2681993\ttotal: 4.07s\tremaining: 1.58s\n",
      "18:\tlearn: 1827.1621753\ttotal: 4.27s\tremaining: 1.35s\n",
      "19:\tlearn: 1816.9177325\ttotal: 4.47s\tremaining: 1.12s\n",
      "20:\tlearn: 1808.9333171\ttotal: 4.67s\tremaining: 890ms\n",
      "21:\tlearn: 1804.6864636\ttotal: 4.88s\tremaining: 665ms\n",
      "22:\tlearn: 1800.7183618\ttotal: 5.17s\tremaining: 449ms\n",
      "23:\tlearn: 1795.3428926\ttotal: 5.37s\tremaining: 224ms\n",
      "24:\tlearn: 1791.9256000\ttotal: 5.57s\tremaining: 0us\n",
      "[CV]  n_estimators=25, learning_rate=0.5, score=-1783.410, total=   7.3s\n",
      "[CV] n_estimators=25, learning_rate=0.5 ..............................\n",
      "0:\tlearn: 3284.7908916\ttotal: 161ms\tremaining: 3.87s\n",
      "1:\tlearn: 2653.7775240\ttotal: 454ms\tremaining: 5.22s\n",
      "2:\tlearn: 2316.0786065\ttotal: 666ms\tremaining: 4.88s\n",
      "3:\tlearn: 2172.3378767\ttotal: 955ms\tremaining: 5.01s\n",
      "4:\tlearn: 2089.2207968\ttotal: 1.15s\tremaining: 4.62s\n",
      "5:\tlearn: 2043.7925446\ttotal: 1.36s\tremaining: 4.31s\n",
      "6:\tlearn: 1999.5899729\ttotal: 1.65s\tremaining: 4.24s\n",
      "7:\tlearn: 1976.7493889\ttotal: 1.85s\tremaining: 3.93s\n",
      "8:\tlearn: 1949.8353604\ttotal: 2.05s\tremaining: 3.65s\n",
      "9:\tlearn: 1931.1053821\ttotal: 2.25s\tremaining: 3.38s\n",
      "10:\tlearn: 1915.5189272\ttotal: 2.46s\tremaining: 3.13s\n",
      "11:\tlearn: 1894.3976623\ttotal: 2.75s\tremaining: 2.98s\n",
      "12:\tlearn: 1880.8327206\ttotal: 2.95s\tremaining: 2.73s\n",
      "13:\tlearn: 1870.2670485\ttotal: 3.15s\tremaining: 2.48s\n",
      "14:\tlearn: 1863.7169088\ttotal: 3.35s\tremaining: 2.24s\n",
      "15:\tlearn: 1855.7063350\ttotal: 3.56s\tremaining: 2s\n",
      "16:\tlearn: 1836.0984078\ttotal: 3.85s\tremaining: 1.81s\n",
      "17:\tlearn: 1827.8915346\ttotal: 4.04s\tremaining: 1.57s\n",
      "18:\tlearn: 1820.4185782\ttotal: 4.25s\tremaining: 1.34s\n",
      "19:\tlearn: 1815.6972534\ttotal: 4.54s\tremaining: 1.14s\n",
      "20:\tlearn: 1810.4337457\ttotal: 4.75s\tremaining: 904ms\n",
      "21:\tlearn: 1802.7617853\ttotal: 5.04s\tremaining: 687ms\n",
      "22:\tlearn: 1798.3604418\ttotal: 5.34s\tremaining: 464ms\n",
      "23:\tlearn: 1790.9764379\ttotal: 5.54s\tremaining: 231ms\n",
      "24:\tlearn: 1785.0074619\ttotal: 5.84s\tremaining: 0us\n",
      "[CV]  n_estimators=25, learning_rate=0.5, score=-1815.110, total=   7.6s\n",
      "[CV] n_estimators=10, learning_rate=0.5 ..............................\n",
      "0:\tlearn: 3275.5863406\ttotal: 181ms\tremaining: 1.63s\n",
      "1:\tlearn: 2668.1453191\ttotal: 387ms\tremaining: 1.55s\n",
      "2:\tlearn: 2380.7034117\ttotal: 680ms\tremaining: 1.59s\n",
      "3:\tlearn: 2191.7127217\ttotal: 974ms\tremaining: 1.46s\n",
      "4:\tlearn: 2102.6113904\ttotal: 1.18s\tremaining: 1.18s\n",
      "5:\tlearn: 2038.2334057\ttotal: 1.38s\tremaining: 919ms\n",
      "6:\tlearn: 2008.1382743\ttotal: 1.67s\tremaining: 717ms\n",
      "7:\tlearn: 1966.7449541\ttotal: 1.87s\tremaining: 468ms\n",
      "8:\tlearn: 1948.0588490\ttotal: 2.08s\tremaining: 231ms\n",
      "9:\tlearn: 1924.9562813\ttotal: 2.28s\tremaining: 0us\n",
      "[CV]  n_estimators=10, learning_rate=0.5, score=-1955.450, total=   4.0s\n",
      "[CV] n_estimators=10, learning_rate=0.5 ..............................\n",
      "0:\tlearn: 3265.3757639\ttotal: 182ms\tremaining: 1.64s\n",
      "1:\tlearn: 2653.4760557\ttotal: 386ms\tremaining: 1.54s\n",
      "2:\tlearn: 2335.8832856\ttotal: 679ms\tremaining: 1.58s\n",
      "3:\tlearn: 2175.5405604\ttotal: 891ms\tremaining: 1.34s\n",
      "4:\tlearn: 2086.1034465\ttotal: 1.18s\tremaining: 1.18s\n",
      "5:\tlearn: 2039.1548377\ttotal: 1.38s\tremaining: 919ms\n",
      "6:\tlearn: 2001.2702045\ttotal: 1.59s\tremaining: 680ms\n",
      "7:\tlearn: 1966.8870855\ttotal: 1.87s\tremaining: 467ms\n",
      "8:\tlearn: 1947.0304649\ttotal: 2.07s\tremaining: 230ms\n",
      "9:\tlearn: 1928.7037558\ttotal: 2.27s\tremaining: 0us\n",
      "[CV]  n_estimators=10, learning_rate=0.5, score=-1932.640, total=   4.1s\n",
      "[CV] n_estimators=10, learning_rate=0.5 ..............................\n",
      "0:\tlearn: 3268.8523823\ttotal: 144ms\tremaining: 1.3s\n",
      "1:\tlearn: 2652.1001421\ttotal: 348ms\tremaining: 1.39s\n",
      "2:\tlearn: 2336.1381128\ttotal: 642ms\tremaining: 1.5s\n",
      "3:\tlearn: 2174.7753181\ttotal: 847ms\tremaining: 1.27s\n",
      "4:\tlearn: 2084.1486786\ttotal: 1.14s\tremaining: 1.14s\n",
      "5:\tlearn: 2015.6322970\ttotal: 1.34s\tremaining: 895ms\n",
      "6:\tlearn: 1982.8641137\ttotal: 1.54s\tremaining: 662ms\n",
      "7:\tlearn: 1957.2669314\ttotal: 1.74s\tremaining: 436ms\n",
      "8:\tlearn: 1935.1338977\ttotal: 1.94s\tremaining: 216ms\n",
      "9:\tlearn: 1920.9173879\ttotal: 2.23s\tremaining: 0us\n",
      "[CV]  n_estimators=10, learning_rate=0.5, score=-1917.080, total=   4.0s\n",
      "[CV] n_estimators=10, learning_rate=0.5 ..............................\n",
      "0:\tlearn: 3270.2655769\ttotal: 194ms\tremaining: 1.75s\n",
      "1:\tlearn: 2660.2849434\ttotal: 398ms\tremaining: 1.59s\n",
      "2:\tlearn: 2345.2883667\ttotal: 696ms\tremaining: 1.62s\n",
      "3:\tlearn: 2183.9613061\ttotal: 895ms\tremaining: 1.34s\n",
      "4:\tlearn: 2105.7824448\ttotal: 1.19s\tremaining: 1.19s\n",
      "5:\tlearn: 2043.8376917\ttotal: 1.39s\tremaining: 924ms\n",
      "6:\tlearn: 2000.2512155\ttotal: 1.59s\tremaining: 681ms\n",
      "7:\tlearn: 1973.3793957\ttotal: 1.79s\tremaining: 447ms\n",
      "8:\tlearn: 1955.9318434\ttotal: 1.99s\tremaining: 221ms\n",
      "9:\tlearn: 1934.8939707\ttotal: 2.19s\tremaining: 0us\n",
      "[CV]  n_estimators=10, learning_rate=0.5, score=-1913.110, total=   4.0s\n",
      "[CV] n_estimators=10, learning_rate=0.5 ..............................\n",
      "0:\tlearn: 3284.7908916\ttotal: 142ms\tremaining: 1.27s\n",
      "1:\tlearn: 2653.7775240\ttotal: 346ms\tremaining: 1.39s\n",
      "2:\tlearn: 2316.0786065\ttotal: 641ms\tremaining: 1.5s\n",
      "3:\tlearn: 2172.3378767\ttotal: 846ms\tremaining: 1.27s\n",
      "4:\tlearn: 2089.2207968\ttotal: 1.04s\tremaining: 1.04s\n",
      "5:\tlearn: 2043.7925446\ttotal: 1.33s\tremaining: 889ms\n",
      "6:\tlearn: 1999.5899729\ttotal: 1.53s\tremaining: 658ms\n",
      "7:\tlearn: 1976.7493889\ttotal: 1.74s\tremaining: 434ms\n",
      "8:\tlearn: 1949.8353604\ttotal: 1.94s\tremaining: 215ms\n",
      "9:\tlearn: 1931.1053821\ttotal: 2.14s\tremaining: 0us\n",
      "[CV]  n_estimators=10, learning_rate=0.5, score=-1950.170, total=   3.8s\n",
      "[CV] n_estimators=15, learning_rate=0.75 .............................\n",
      "0:\tlearn: 2865.1230434\ttotal: 124ms\tremaining: 1.74s\n",
      "1:\tlearn: 2398.0802141\ttotal: 327ms\tremaining: 2.13s\n",
      "2:\tlearn: 2214.2065515\ttotal: 619ms\tremaining: 2.48s\n",
      "3:\tlearn: 2107.9088640\ttotal: 826ms\tremaining: 2.27s\n",
      "4:\tlearn: 2041.0180587\ttotal: 1.12s\tremaining: 2.23s\n",
      "5:\tlearn: 2004.6653786\ttotal: 1.32s\tremaining: 1.98s\n",
      "6:\tlearn: 1962.2944890\ttotal: 1.52s\tremaining: 1.74s\n",
      "7:\tlearn: 1944.5438963\ttotal: 1.81s\tremaining: 1.58s\n",
      "8:\tlearn: 1917.7537310\ttotal: 2.02s\tremaining: 1.34s\n",
      "9:\tlearn: 1902.1151484\ttotal: 2.21s\tremaining: 1.11s\n",
      "10:\tlearn: 1890.0632474\ttotal: 2.42s\tremaining: 880ms\n",
      "11:\tlearn: 1866.6334323\ttotal: 2.62s\tremaining: 655ms\n",
      "12:\tlearn: 1851.7850296\ttotal: 2.82s\tremaining: 434ms\n",
      "13:\tlearn: 1838.6860389\ttotal: 3.11s\tremaining: 222ms\n",
      "14:\tlearn: 1829.1461916\ttotal: 3.31s\tremaining: 0us\n",
      "[CV]  n_estimators=15, learning_rate=0.75, score=-1866.510, total=   5.0s\n",
      "[CV] n_estimators=15, learning_rate=0.75 .............................\n",
      "0:\tlearn: 2849.4948218\ttotal: 194ms\tremaining: 2.72s\n",
      "1:\tlearn: 2372.0416636\ttotal: 494ms\tremaining: 3.21s\n",
      "2:\tlearn: 2223.8326529\ttotal: 693ms\tremaining: 2.77s\n",
      "3:\tlearn: 2145.7039555\ttotal: 897ms\tremaining: 2.47s\n",
      "4:\tlearn: 2069.0499485\ttotal: 1.19s\tremaining: 2.37s\n",
      "5:\tlearn: 2024.7736890\ttotal: 1.39s\tremaining: 2.08s\n",
      "6:\tlearn: 1981.9080751\ttotal: 1.59s\tremaining: 1.82s\n",
      "7:\tlearn: 1954.2500652\ttotal: 1.79s\tremaining: 1.57s\n",
      "8:\tlearn: 1930.6607329\ttotal: 2s\tremaining: 1.33s\n",
      "9:\tlearn: 1909.8520952\ttotal: 2.19s\tremaining: 1.1s\n",
      "10:\tlearn: 1893.4560833\ttotal: 2.48s\tremaining: 903ms\n",
      "11:\tlearn: 1878.6242958\ttotal: 2.68s\tremaining: 671ms\n",
      "12:\tlearn: 1869.5883509\ttotal: 2.88s\tremaining: 444ms\n",
      "13:\tlearn: 1859.7781750\ttotal: 3.09s\tremaining: 221ms\n",
      "14:\tlearn: 1852.4382204\ttotal: 3.29s\tremaining: 0us\n",
      "[CV]  n_estimators=15, learning_rate=0.75, score=-1853.230, total=   5.0s\n",
      "[CV] n_estimators=15, learning_rate=0.75 .............................\n",
      "0:\tlearn: 2850.3865207\ttotal: 205ms\tremaining: 2.87s\n",
      "1:\tlearn: 2411.1628187\ttotal: 499ms\tremaining: 3.24s\n",
      "2:\tlearn: 2207.2964960\ttotal: 705ms\tremaining: 2.82s\n",
      "3:\tlearn: 2101.4224899\ttotal: 998ms\tremaining: 2.74s\n",
      "4:\tlearn: 2043.7076180\ttotal: 1.21s\tremaining: 2.41s\n",
      "5:\tlearn: 2005.3295008\ttotal: 1.4s\tremaining: 2.11s\n",
      "6:\tlearn: 1962.2213189\ttotal: 1.7s\tremaining: 1.94s\n",
      "7:\tlearn: 1932.4974084\ttotal: 1.9s\tremaining: 1.66s\n",
      "8:\tlearn: 1912.0123826\ttotal: 2.1s\tremaining: 1.4s\n",
      "9:\tlearn: 1892.6408801\ttotal: 2.3s\tremaining: 1.15s\n",
      "10:\tlearn: 1882.1868701\ttotal: 2.5s\tremaining: 908ms\n",
      "11:\tlearn: 1871.1393455\ttotal: 2.69s\tremaining: 674ms\n",
      "12:\tlearn: 1859.7178621\ttotal: 2.9s\tremaining: 446ms\n",
      "13:\tlearn: 1842.6086410\ttotal: 3.19s\tremaining: 228ms\n",
      "14:\tlearn: 1833.7137270\ttotal: 3.39s\tremaining: 0us\n",
      "[CV]  n_estimators=15, learning_rate=0.75, score=-1834.010, total=   5.9s\n",
      "[CV] n_estimators=15, learning_rate=0.75 .............................\n",
      "0:\tlearn: 2853.2688582\ttotal: 117ms\tremaining: 1.63s\n",
      "1:\tlearn: 2377.8877201\ttotal: 412ms\tremaining: 2.68s\n",
      "2:\tlearn: 2228.9661311\ttotal: 611ms\tremaining: 2.44s\n",
      "3:\tlearn: 2149.1363752\ttotal: 817ms\tremaining: 2.25s\n",
      "4:\tlearn: 2072.9375598\ttotal: 1.03s\tremaining: 2.06s\n",
      "5:\tlearn: 2035.0272450\ttotal: 1.22s\tremaining: 1.82s\n",
      "6:\tlearn: 1997.8341886\ttotal: 1.42s\tremaining: 1.62s\n",
      "7:\tlearn: 1961.5855036\ttotal: 1.71s\tremaining: 1.49s\n",
      "8:\tlearn: 1942.9317475\ttotal: 1.91s\tremaining: 1.27s\n",
      "9:\tlearn: 1921.0500689\ttotal: 2.11s\tremaining: 1.06s\n",
      "10:\tlearn: 1897.0087158\ttotal: 2.31s\tremaining: 842ms\n",
      "11:\tlearn: 1886.3129417\ttotal: 2.52s\tremaining: 631ms\n",
      "12:\tlearn: 1875.2083615\ttotal: 2.8s\tremaining: 431ms\n",
      "13:\tlearn: 1858.5408595\ttotal: 3s\tremaining: 215ms\n",
      "14:\tlearn: 1844.1931014\ttotal: 3.21s\tremaining: 0us\n",
      "[CV]  n_estimators=15, learning_rate=0.75, score=-1841.090, total=   5.0s\n",
      "[CV] n_estimators=15, learning_rate=0.75 .............................\n",
      "0:\tlearn: 2874.5723335\ttotal: 194ms\tremaining: 2.71s\n",
      "1:\tlearn: 2450.5099858\ttotal: 398ms\tremaining: 2.58s\n",
      "2:\tlearn: 2209.7592908\ttotal: 696ms\tremaining: 2.78s\n",
      "3:\tlearn: 2115.9528376\ttotal: 897ms\tremaining: 2.47s\n",
      "4:\tlearn: 2048.2609552\ttotal: 1.19s\tremaining: 2.38s\n",
      "5:\tlearn: 2005.6318130\ttotal: 1.39s\tremaining: 2.08s\n",
      "6:\tlearn: 1983.6770168\ttotal: 1.59s\tremaining: 1.82s\n",
      "7:\tlearn: 1961.0023290\ttotal: 1.79s\tremaining: 1.57s\n",
      "8:\tlearn: 1932.4684266\ttotal: 2.08s\tremaining: 1.39s\n",
      "9:\tlearn: 1919.9805551\ttotal: 2.28s\tremaining: 1.14s\n",
      "10:\tlearn: 1898.0045170\ttotal: 2.48s\tremaining: 904ms\n",
      "11:\tlearn: 1889.8029188\ttotal: 2.69s\tremaining: 671ms\n",
      "12:\tlearn: 1877.9173315\ttotal: 2.89s\tremaining: 444ms\n",
      "13:\tlearn: 1868.6777715\ttotal: 3.09s\tremaining: 221ms\n",
      "14:\tlearn: 1860.7054129\ttotal: 3.38s\tremaining: 0us\n",
      "[CV]  n_estimators=15, learning_rate=0.75, score=-1881.260, total=   5.1s\n",
      "[CV] n_estimators=20, learning_rate=0.75 .............................\n",
      "0:\tlearn: 2865.1230434\ttotal: 137ms\tremaining: 2.6s\n",
      "1:\tlearn: 2398.0802141\ttotal: 348ms\tremaining: 3.13s\n",
      "2:\tlearn: 2214.2065515\ttotal: 636ms\tremaining: 3.6s\n",
      "3:\tlearn: 2107.9088640\ttotal: 841ms\tremaining: 3.37s\n",
      "4:\tlearn: 2041.0180587\ttotal: 1.13s\tremaining: 3.4s\n",
      "5:\tlearn: 2004.6653786\ttotal: 1.33s\tremaining: 3.11s\n",
      "6:\tlearn: 1962.2944890\ttotal: 1.54s\tremaining: 2.85s\n",
      "7:\tlearn: 1944.5438963\ttotal: 1.82s\tremaining: 2.74s\n",
      "8:\tlearn: 1917.7537310\ttotal: 2.03s\tremaining: 2.48s\n",
      "9:\tlearn: 1902.1151484\ttotal: 2.23s\tremaining: 2.23s\n",
      "10:\tlearn: 1890.0632474\ttotal: 2.43s\tremaining: 1.99s\n",
      "11:\tlearn: 1866.6334323\ttotal: 2.63s\tremaining: 1.75s\n",
      "12:\tlearn: 1851.7850296\ttotal: 2.92s\tremaining: 1.57s\n",
      "13:\tlearn: 1838.6860389\ttotal: 3.12s\tremaining: 1.34s\n",
      "14:\tlearn: 1829.1461916\ttotal: 3.32s\tremaining: 1.11s\n",
      "15:\tlearn: 1821.8629871\ttotal: 3.53s\tremaining: 882ms\n",
      "16:\tlearn: 1811.6857837\ttotal: 3.73s\tremaining: 658ms\n",
      "17:\tlearn: 1802.9086716\ttotal: 4.02s\tremaining: 446ms\n",
      "18:\tlearn: 1793.0048379\ttotal: 4.22s\tremaining: 222ms\n",
      "19:\tlearn: 1787.4758986\ttotal: 4.42s\tremaining: 0us\n",
      "[CV]  n_estimators=20, learning_rate=0.75, score=-1830.990, total=   6.2s\n",
      "[CV] n_estimators=20, learning_rate=0.75 .............................\n",
      "0:\tlearn: 2849.4948218\ttotal: 178ms\tremaining: 3.38s\n",
      "1:\tlearn: 2372.0416636\ttotal: 473ms\tremaining: 4.25s\n",
      "2:\tlearn: 2223.8326529\ttotal: 676ms\tremaining: 3.83s\n",
      "3:\tlearn: 2145.7039555\ttotal: 884ms\tremaining: 3.53s\n",
      "4:\tlearn: 2069.0499485\ttotal: 1.17s\tremaining: 3.52s\n",
      "5:\tlearn: 2024.7736890\ttotal: 1.38s\tremaining: 3.22s\n",
      "6:\tlearn: 1981.9080751\ttotal: 1.67s\tremaining: 3.09s\n",
      "7:\tlearn: 1954.2500652\ttotal: 1.87s\tremaining: 2.8s\n",
      "8:\tlearn: 1930.6607329\ttotal: 2.07s\tremaining: 2.54s\n",
      "9:\tlearn: 1909.8520952\ttotal: 2.27s\tremaining: 2.27s\n",
      "10:\tlearn: 1893.4560833\ttotal: 2.57s\tremaining: 2.1s\n",
      "11:\tlearn: 1878.6242958\ttotal: 2.77s\tremaining: 1.84s\n",
      "12:\tlearn: 1869.5883509\ttotal: 2.97s\tremaining: 1.6s\n",
      "13:\tlearn: 1859.7781750\ttotal: 3.17s\tremaining: 1.36s\n",
      "14:\tlearn: 1852.4382204\ttotal: 3.37s\tremaining: 1.12s\n",
      "15:\tlearn: 1839.7643374\ttotal: 3.57s\tremaining: 893ms\n",
      "16:\tlearn: 1831.5360815\ttotal: 3.77s\tremaining: 666ms\n",
      "17:\tlearn: 1825.8068945\ttotal: 4.06s\tremaining: 451ms\n",
      "18:\tlearn: 1815.1340268\ttotal: 4.26s\tremaining: 224ms\n",
      "19:\tlearn: 1802.6575723\ttotal: 4.46s\tremaining: 0us\n",
      "[CV]  n_estimators=20, learning_rate=0.75, score=-1803.420, total=   6.2s\n",
      "[CV] n_estimators=20, learning_rate=0.75 .............................\n",
      "0:\tlearn: 2850.3865207\ttotal: 188ms\tremaining: 3.58s\n",
      "1:\tlearn: 2411.1628187\ttotal: 395ms\tremaining: 3.55s\n",
      "2:\tlearn: 2207.2964960\ttotal: 688ms\tremaining: 3.9s\n",
      "3:\tlearn: 2101.4224899\ttotal: 979ms\tremaining: 3.92s\n",
      "4:\tlearn: 2043.7076180\ttotal: 1.18s\tremaining: 3.55s\n",
      "5:\tlearn: 2005.3295008\ttotal: 1.39s\tremaining: 3.24s\n",
      "6:\tlearn: 1962.2213189\ttotal: 1.59s\tremaining: 2.95s\n",
      "7:\tlearn: 1932.4974084\ttotal: 1.79s\tremaining: 2.68s\n",
      "8:\tlearn: 1912.0123826\ttotal: 1.99s\tremaining: 2.43s\n",
      "9:\tlearn: 1892.6408801\ttotal: 2.19s\tremaining: 2.19s\n",
      "10:\tlearn: 1882.1868701\ttotal: 2.39s\tremaining: 1.96s\n",
      "11:\tlearn: 1871.1393455\ttotal: 2.67s\tremaining: 1.78s\n",
      "12:\tlearn: 1859.7178621\ttotal: 2.87s\tremaining: 1.55s\n",
      "13:\tlearn: 1842.6086410\ttotal: 3.08s\tremaining: 1.32s\n",
      "14:\tlearn: 1833.7137270\ttotal: 3.28s\tremaining: 1.09s\n",
      "15:\tlearn: 1827.2606259\ttotal: 3.48s\tremaining: 870ms\n",
      "16:\tlearn: 1821.6979482\ttotal: 3.68s\tremaining: 650ms\n",
      "17:\tlearn: 1814.0646363\ttotal: 3.88s\tremaining: 432ms\n",
      "18:\tlearn: 1805.0721294\ttotal: 4.17s\tremaining: 220ms\n",
      "19:\tlearn: 1796.5601907\ttotal: 4.37s\tremaining: 0us\n",
      "[CV]  n_estimators=20, learning_rate=0.75, score=-1798.210, total=   6.1s\n",
      "[CV] n_estimators=20, learning_rate=0.75 .............................\n",
      "0:\tlearn: 2853.2688582\ttotal: 136ms\tremaining: 2.58s\n",
      "1:\tlearn: 2377.8877201\ttotal: 343ms\tremaining: 3.08s\n",
      "2:\tlearn: 2228.9661311\ttotal: 633ms\tremaining: 3.59s\n",
      "3:\tlearn: 2149.1363752\ttotal: 838ms\tremaining: 3.35s\n",
      "4:\tlearn: 2072.9375598\ttotal: 1.04s\tremaining: 3.12s\n",
      "5:\tlearn: 2035.0272450\ttotal: 1.33s\tremaining: 3.1s\n",
      "6:\tlearn: 1997.8341886\ttotal: 1.53s\tremaining: 2.85s\n",
      "7:\tlearn: 1961.5855036\ttotal: 1.73s\tremaining: 2.6s\n",
      "8:\tlearn: 1942.9317475\ttotal: 1.94s\tremaining: 2.37s\n",
      "9:\tlearn: 1921.0500689\ttotal: 2.23s\tremaining: 2.23s\n",
      "10:\tlearn: 1897.0087158\ttotal: 2.43s\tremaining: 1.99s\n",
      "11:\tlearn: 1886.3129417\ttotal: 2.63s\tremaining: 1.75s\n",
      "12:\tlearn: 1875.2083615\ttotal: 2.83s\tremaining: 1.52s\n",
      "13:\tlearn: 1858.5408595\ttotal: 3.03s\tremaining: 1.3s\n",
      "14:\tlearn: 1844.1931014\ttotal: 3.23s\tremaining: 1.08s\n",
      "15:\tlearn: 1830.3151971\ttotal: 3.43s\tremaining: 857ms\n",
      "16:\tlearn: 1822.4068154\ttotal: 3.63s\tremaining: 641ms\n",
      "17:\tlearn: 1815.2964248\ttotal: 3.83s\tremaining: 425ms\n",
      "18:\tlearn: 1809.4632591\ttotal: 4.12s\tremaining: 217ms\n",
      "19:\tlearn: 1799.6389318\ttotal: 4.32s\tremaining: 0us\n",
      "[CV]  n_estimators=20, learning_rate=0.75, score=-1803.040, total=   6.1s\n",
      "[CV] n_estimators=20, learning_rate=0.75 .............................\n",
      "0:\tlearn: 2874.5723335\ttotal: 159ms\tremaining: 3.02s\n",
      "1:\tlearn: 2450.5099858\ttotal: 364ms\tremaining: 3.27s\n",
      "2:\tlearn: 2209.7592908\ttotal: 659ms\tremaining: 3.73s\n",
      "3:\tlearn: 2115.9528376\ttotal: 861ms\tremaining: 3.44s\n",
      "4:\tlearn: 2048.2609552\ttotal: 1.06s\tremaining: 3.18s\n",
      "5:\tlearn: 2005.6318130\ttotal: 1.35s\tremaining: 3.16s\n",
      "6:\tlearn: 1983.6770168\ttotal: 1.56s\tremaining: 2.89s\n",
      "7:\tlearn: 1961.0023290\ttotal: 1.76s\tremaining: 2.63s\n",
      "8:\tlearn: 1932.4684266\ttotal: 2.05s\tremaining: 2.51s\n",
      "9:\tlearn: 1919.9805551\ttotal: 2.25s\tremaining: 2.25s\n",
      "10:\tlearn: 1898.0045170\ttotal: 2.45s\tremaining: 2s\n",
      "11:\tlearn: 1889.8029188\ttotal: 2.65s\tremaining: 1.77s\n",
      "12:\tlearn: 1877.9173315\ttotal: 2.85s\tremaining: 1.53s\n",
      "13:\tlearn: 1868.6777715\ttotal: 3.05s\tremaining: 1.31s\n",
      "14:\tlearn: 1860.7054129\ttotal: 3.25s\tremaining: 1.08s\n",
      "15:\tlearn: 1847.1284454\ttotal: 3.45s\tremaining: 863ms\n",
      "16:\tlearn: 1833.9030869\ttotal: 3.65s\tremaining: 644ms\n",
      "17:\tlearn: 1825.1704538\ttotal: 3.94s\tremaining: 438ms\n",
      "18:\tlearn: 1819.4044301\ttotal: 4.14s\tremaining: 218ms\n",
      "19:\tlearn: 1813.5244813\ttotal: 4.34s\tremaining: 0us\n",
      "[CV]  n_estimators=20, learning_rate=0.75, score=-1836.430, total=   6.1s\n",
      "[CV] n_estimators=15, learning_rate=0.25 .............................\n",
      "0:\tlearn: 3863.6577136\ttotal: 161ms\tremaining: 2.26s\n",
      "1:\tlearn: 3351.7184724\ttotal: 361ms\tremaining: 2.35s\n",
      "2:\tlearn: 2974.3715764\ttotal: 653ms\tremaining: 2.61s\n",
      "3:\tlearn: 2711.2629352\ttotal: 858ms\tremaining: 2.36s\n",
      "4:\tlearn: 2500.5296025\ttotal: 1.07s\tremaining: 2.14s\n",
      "5:\tlearn: 2354.0300120\ttotal: 1.26s\tremaining: 1.9s\n",
      "6:\tlearn: 2255.7703826\ttotal: 1.47s\tremaining: 1.68s\n",
      "7:\tlearn: 2171.3605273\ttotal: 1.75s\tremaining: 1.53s\n",
      "8:\tlearn: 2108.6749476\ttotal: 1.96s\tremaining: 1.3s\n",
      "9:\tlearn: 2059.0081094\ttotal: 2.16s\tremaining: 1.08s\n",
      "10:\tlearn: 2022.4706877\ttotal: 2.45s\tremaining: 890ms\n",
      "11:\tlearn: 1998.4983476\ttotal: 2.65s\tremaining: 663ms\n",
      "12:\tlearn: 1974.1512131\ttotal: 2.85s\tremaining: 438ms\n",
      "13:\tlearn: 1954.2997669\ttotal: 3.05s\tremaining: 218ms\n",
      "14:\tlearn: 1939.0719690\ttotal: 3.25s\tremaining: 0us\n",
      "[CV]  n_estimators=15, learning_rate=0.25, score=-1962.760, total=   5.0s\n",
      "[CV] n_estimators=15, learning_rate=0.25 .............................\n",
      "0:\tlearn: 3859.5267232\ttotal: 124ms\tremaining: 1.73s\n",
      "1:\tlearn: 3345.1425641\ttotal: 324ms\tremaining: 2.1s\n",
      "2:\tlearn: 2974.6865057\ttotal: 617ms\tremaining: 2.47s\n",
      "3:\tlearn: 2710.0498119\ttotal: 821ms\tremaining: 2.26s\n",
      "4:\tlearn: 2508.3198786\ttotal: 1.03s\tremaining: 2.06s\n",
      "5:\tlearn: 2370.0833593\ttotal: 1.32s\tremaining: 1.98s\n",
      "6:\tlearn: 2265.2938333\ttotal: 1.52s\tremaining: 1.74s\n",
      "7:\tlearn: 2183.1756569\ttotal: 1.72s\tremaining: 1.51s\n",
      "8:\tlearn: 2112.8276502\ttotal: 1.92s\tremaining: 1.28s\n",
      "9:\tlearn: 2068.7618436\ttotal: 2.12s\tremaining: 1.06s\n",
      "10:\tlearn: 2034.4994776\ttotal: 2.41s\tremaining: 878ms\n",
      "11:\tlearn: 2008.7174843\ttotal: 2.61s\tremaining: 653ms\n",
      "12:\tlearn: 1984.6961685\ttotal: 2.81s\tremaining: 433ms\n",
      "13:\tlearn: 1963.4429208\ttotal: 3.02s\tremaining: 216ms\n",
      "14:\tlearn: 1947.2590440\ttotal: 3.22s\tremaining: 0us\n",
      "[CV]  n_estimators=15, learning_rate=0.25, score=-1945.210, total=   5.0s\n",
      "[CV] n_estimators=15, learning_rate=0.25 .............................\n",
      "0:\tlearn: 3866.2746728\ttotal: 148ms\tremaining: 2.08s\n",
      "1:\tlearn: 3338.0993299\ttotal: 352ms\tremaining: 2.28s\n",
      "2:\tlearn: 2977.1975753\ttotal: 643ms\tremaining: 2.57s\n",
      "3:\tlearn: 2720.4852566\ttotal: 849ms\tremaining: 2.34s\n",
      "4:\tlearn: 2521.9318702\ttotal: 1.05s\tremaining: 2.1s\n",
      "5:\tlearn: 2382.6355112\ttotal: 1.33s\tremaining: 2s\n",
      "6:\tlearn: 2279.1847565\ttotal: 1.53s\tremaining: 1.75s\n",
      "7:\tlearn: 2197.4389047\ttotal: 1.74s\tremaining: 1.52s\n",
      "8:\tlearn: 2125.8281701\ttotal: 1.94s\tremaining: 1.29s\n",
      "9:\tlearn: 2075.0804717\ttotal: 2.23s\tremaining: 1.12s\n",
      "10:\tlearn: 2037.2387802\ttotal: 2.43s\tremaining: 885ms\n",
      "11:\tlearn: 2011.9530986\ttotal: 2.64s\tremaining: 659ms\n",
      "12:\tlearn: 1994.0156660\ttotal: 2.84s\tremaining: 437ms\n",
      "13:\tlearn: 1971.8754092\ttotal: 3.04s\tremaining: 217ms\n",
      "14:\tlearn: 1956.7345833\ttotal: 3.24s\tremaining: 0us\n",
      "[CV]  n_estimators=15, learning_rate=0.25, score=-1948.100, total=   5.0s\n",
      "[CV] n_estimators=15, learning_rate=0.25 .............................\n",
      "0:\tlearn: 3865.9207030\ttotal: 140ms\tremaining: 1.96s\n",
      "1:\tlearn: 3350.3102025\ttotal: 346ms\tremaining: 2.25s\n",
      "2:\tlearn: 2980.9988387\ttotal: 639ms\tremaining: 2.55s\n",
      "3:\tlearn: 2714.6851635\ttotal: 841ms\tremaining: 2.31s\n",
      "4:\tlearn: 2514.7335139\ttotal: 1.14s\tremaining: 2.28s\n",
      "5:\tlearn: 2376.0568475\ttotal: 1.34s\tremaining: 2.01s\n",
      "6:\tlearn: 2273.8742158\ttotal: 1.63s\tremaining: 1.86s\n",
      "7:\tlearn: 2194.5378843\ttotal: 1.83s\tremaining: 1.6s\n",
      "8:\tlearn: 2129.2384309\ttotal: 2.03s\tremaining: 1.36s\n",
      "9:\tlearn: 2079.9704948\ttotal: 2.33s\tremaining: 1.16s\n",
      "10:\tlearn: 2040.8074464\ttotal: 2.53s\tremaining: 921ms\n",
      "11:\tlearn: 2007.1937191\ttotal: 2.73s\tremaining: 683ms\n",
      "12:\tlearn: 1985.8712702\ttotal: 2.93s\tremaining: 451ms\n",
      "13:\tlearn: 1963.4417126\ttotal: 3.22s\tremaining: 230ms\n",
      "14:\tlearn: 1947.6477135\ttotal: 3.42s\tremaining: 0us\n",
      "[CV]  n_estimators=15, learning_rate=0.25, score=-1929.510, total=   5.3s\n",
      "[CV] n_estimators=15, learning_rate=0.25 .............................\n",
      "0:\tlearn: 3872.4817575\ttotal: 205ms\tremaining: 2.87s\n",
      "1:\tlearn: 3351.4133580\ttotal: 409ms\tremaining: 2.66s\n",
      "2:\tlearn: 2968.5659644\ttotal: 703ms\tremaining: 2.81s\n",
      "3:\tlearn: 2711.9409127\ttotal: 909ms\tremaining: 2.5s\n",
      "4:\tlearn: 2502.4730387\ttotal: 1.11s\tremaining: 2.23s\n",
      "5:\tlearn: 2368.5974576\ttotal: 1.32s\tremaining: 1.98s\n",
      "6:\tlearn: 2266.5018235\ttotal: 1.52s\tremaining: 1.74s\n",
      "7:\tlearn: 2185.3293948\ttotal: 1.71s\tremaining: 1.5s\n",
      "8:\tlearn: 2119.1773461\ttotal: 2s\tremaining: 1.33s\n",
      "9:\tlearn: 2073.1974148\ttotal: 2.2s\tremaining: 1.1s\n",
      "10:\tlearn: 2034.7843257\ttotal: 2.4s\tremaining: 874ms\n",
      "11:\tlearn: 2006.7310728\ttotal: 2.6s\tremaining: 650ms\n",
      "12:\tlearn: 1985.1319522\ttotal: 2.81s\tremaining: 432ms\n",
      "13:\tlearn: 1966.0342960\ttotal: 3s\tremaining: 215ms\n",
      "14:\tlearn: 1950.3169764\ttotal: 3.2s\tremaining: 0us\n",
      "[CV]  n_estimators=15, learning_rate=0.25, score=-1961.440, total=   5.2s\n"
     ]
    },
    {
     "name": "stderr",
     "output_type": "stream",
     "text": [
      "[Parallel(n_jobs=1)]: Done  50 out of  50 | elapsed:  4.7min finished\n"
     ]
    },
    {
     "name": "stdout",
     "output_type": "stream",
     "text": [
      "0:\tlearn: 2821.8785389\ttotal: 228ms\tremaining: 5.47s\n",
      "1:\tlearn: 2394.1858168\ttotal: 525ms\tremaining: 6.04s\n",
      "2:\tlearn: 2188.5647889\ttotal: 823ms\tremaining: 6.04s\n",
      "3:\tlearn: 2099.7693981\ttotal: 1.12s\tremaining: 5.89s\n",
      "4:\tlearn: 2038.5658087\ttotal: 1.33s\tremaining: 5.33s\n",
      "5:\tlearn: 2005.9005117\ttotal: 1.63s\tremaining: 5.15s\n",
      "6:\tlearn: 1962.7477751\ttotal: 1.93s\tremaining: 4.95s\n",
      "7:\tlearn: 1934.8087575\ttotal: 2.22s\tremaining: 4.72s\n",
      "8:\tlearn: 1910.3177812\ttotal: 2.43s\tremaining: 4.32s\n",
      "9:\tlearn: 1898.2869369\ttotal: 2.72s\tremaining: 4.08s\n",
      "10:\tlearn: 1881.6918651\ttotal: 3.01s\tremaining: 3.84s\n",
      "11:\tlearn: 1867.1362571\ttotal: 3.22s\tremaining: 3.49s\n",
      "12:\tlearn: 1856.5701865\ttotal: 3.52s\tremaining: 3.25s\n",
      "13:\tlearn: 1837.7874695\ttotal: 3.72s\tremaining: 2.92s\n",
      "14:\tlearn: 1827.7487052\ttotal: 4.02s\tremaining: 2.68s\n",
      "15:\tlearn: 1823.5539045\ttotal: 4.31s\tremaining: 2.42s\n",
      "16:\tlearn: 1816.2561508\ttotal: 4.52s\tremaining: 2.13s\n",
      "17:\tlearn: 1805.4012057\ttotal: 4.81s\tremaining: 1.87s\n",
      "18:\tlearn: 1796.9243594\ttotal: 5.11s\tremaining: 1.61s\n",
      "19:\tlearn: 1792.5685784\ttotal: 5.32s\tremaining: 1.33s\n",
      "20:\tlearn: 1786.2172205\ttotal: 5.67s\tremaining: 1.08s\n",
      "21:\tlearn: 1780.4599139\ttotal: 5.91s\tremaining: 806ms\n",
      "22:\tlearn: 1773.7230052\ttotal: 6.2s\tremaining: 540ms\n",
      "23:\tlearn: 1771.2278125\ttotal: 6.41s\tremaining: 267ms\n",
      "24:\tlearn: 1765.9131975\ttotal: 6.7s\tremaining: 0us\n",
      "CatBoost without OHE\n",
      "Best parameters: {'n_estimators': 25, 'learning_rate': 0.75}\n",
      "RMSE: 1792.03\n",
      "CPU times: user 3min 31s, sys: 22.8 s, total: 3min 54s\n",
      "Wall time: 4min 51s\n"
     ]
    }
   ],
   "source": [
    "%%time\n",
    "# CatBoost without OHE\n",
    "cb_model_2 = CatBoostRegressor(random_state=42)\n",
    "params = { 'n_estimators': range(10, 30, 5), 'learning_rate': [.25, .5, .75] }\n",
    "\n",
    "best_model = RandomizedSearchCV(cb_model_2, params, scoring=rmse, cv=5, verbose=10)\n",
    "best_model.fit(features_train_2, target_train_2, cat_features=categories) \n",
    "predictions = best_model.best_estimator_.predict(features_valid_2)\n",
    "\n",
    "print('CatBoost without OHE')\n",
    "print('Best parameters:', best_model.best_params_)\n",
    "print('RMSE:', round(mean_squared_error(target_valid_2, predictions) ** 0.5, 2))"
   ]
  },
  {
   "cell_type": "markdown",
   "metadata": {},
   "source": [
    "__Tuning for CatBoost without OHE__\n",
    "\n",
    "CatBoost without OHE\n",
    "\n",
    "Best parameters: {'n_estimators': 25, 'learning_rate': 0.75}\n",
    "\n",
    "RMSE: 1787.49\n",
    "\n",
    "CPU times: user 3min 42s, sys: 27.7 s, total: 4min 10s\n",
    "\n",
    "Wall time: 5min 8s"
   ]
  },
  {
   "cell_type": "code",
   "execution_count": 74,
   "metadata": {},
   "outputs": [
    {
     "name": "stdout",
     "output_type": "stream",
     "text": [
      "Fitting 5 folds for each of 10 candidates, totalling 50 fits\n",
      "[CV] n_estimators=10, learning_rate=0.75 .............................\n"
     ]
    },
    {
     "name": "stderr",
     "output_type": "stream",
     "text": [
      "[Parallel(n_jobs=1)]: Using backend SequentialBackend with 1 concurrent workers.\n"
     ]
    },
    {
     "name": "stdout",
     "output_type": "stream",
     "text": [
      "0:\tlearn: 2823.0316345\ttotal: 19.9ms\tremaining: 179ms\n",
      "1:\tlearn: 2420.7173621\ttotal: 121ms\tremaining: 486ms\n",
      "2:\tlearn: 2254.0653137\ttotal: 226ms\tremaining: 527ms\n",
      "3:\tlearn: 2142.2217385\ttotal: 415ms\tremaining: 623ms\n",
      "4:\tlearn: 2077.9998403\ttotal: 518ms\tremaining: 518ms\n",
      "5:\tlearn: 2035.1970997\ttotal: 623ms\tremaining: 415ms\n",
      "6:\tlearn: 2005.5962187\ttotal: 810ms\tremaining: 347ms\n",
      "7:\tlearn: 1979.7717804\ttotal: 912ms\tremaining: 228ms\n",
      "8:\tlearn: 1954.7702393\ttotal: 1.02s\tremaining: 113ms\n",
      "9:\tlearn: 1936.7215070\ttotal: 1.12s\tremaining: 0us\n",
      "[CV]  n_estimators=10, learning_rate=0.75, score=-1976.270, total=   6.9s\n",
      "[CV] n_estimators=10, learning_rate=0.75 .............................\n"
     ]
    },
    {
     "name": "stderr",
     "output_type": "stream",
     "text": [
      "[Parallel(n_jobs=1)]: Done   1 out of   1 | elapsed:    6.9s remaining:    0.0s\n"
     ]
    },
    {
     "name": "stdout",
     "output_type": "stream",
     "text": [
      "0:\tlearn: 2842.4599166\ttotal: 61.3ms\tremaining: 552ms\n",
      "1:\tlearn: 2436.8917460\ttotal: 163ms\tremaining: 654ms\n",
      "2:\tlearn: 2279.0701229\ttotal: 266ms\tremaining: 621ms\n",
      "3:\tlearn: 2180.6631275\ttotal: 455ms\tremaining: 683ms\n",
      "4:\tlearn: 2110.5806664\ttotal: 556ms\tremaining: 556ms\n",
      "5:\tlearn: 2069.0726284\ttotal: 657ms\tremaining: 438ms\n",
      "6:\tlearn: 2031.5062521\ttotal: 764ms\tremaining: 327ms\n",
      "7:\tlearn: 2007.1822973\ttotal: 949ms\tremaining: 237ms\n",
      "8:\tlearn: 1965.8982937\ttotal: 1.05s\tremaining: 117ms\n",
      "9:\tlearn: 1946.2553248\ttotal: 1.16s\tremaining: 0us\n",
      "[CV]  n_estimators=10, learning_rate=0.75, score=-1953.290, total=   6.9s\n",
      "[CV] n_estimators=10, learning_rate=0.75 .............................\n"
     ]
    },
    {
     "name": "stderr",
     "output_type": "stream",
     "text": [
      "[Parallel(n_jobs=1)]: Done   2 out of   2 | elapsed:   13.7s remaining:    0.0s\n"
     ]
    },
    {
     "name": "stdout",
     "output_type": "stream",
     "text": [
      "0:\tlearn: 2861.5758681\ttotal: 70.1ms\tremaining: 631ms\n",
      "1:\tlearn: 2425.5712475\ttotal: 174ms\tremaining: 697ms\n",
      "2:\tlearn: 2265.0190050\ttotal: 280ms\tremaining: 653ms\n",
      "3:\tlearn: 2148.3249091\ttotal: 466ms\tremaining: 698ms\n",
      "4:\tlearn: 2098.0268218\ttotal: 570ms\tremaining: 570ms\n",
      "5:\tlearn: 2041.9457461\ttotal: 671ms\tremaining: 448ms\n",
      "6:\tlearn: 2009.2994891\ttotal: 862ms\tremaining: 369ms\n",
      "7:\tlearn: 1990.9031156\ttotal: 964ms\tremaining: 241ms\n",
      "8:\tlearn: 1972.5907464\ttotal: 1.07s\tremaining: 119ms\n",
      "9:\tlearn: 1954.4557828\ttotal: 1.17s\tremaining: 0us\n",
      "[CV]  n_estimators=10, learning_rate=0.75, score=-1960.540, total=   6.9s\n",
      "[CV] n_estimators=10, learning_rate=0.75 .............................\n"
     ]
    },
    {
     "name": "stderr",
     "output_type": "stream",
     "text": [
      "[Parallel(n_jobs=1)]: Done   3 out of   3 | elapsed:   20.6s remaining:    0.0s\n"
     ]
    },
    {
     "name": "stdout",
     "output_type": "stream",
     "text": [
      "0:\tlearn: 2834.2177178\ttotal: 71.2ms\tremaining: 641ms\n",
      "1:\tlearn: 2415.0898992\ttotal: 175ms\tremaining: 699ms\n",
      "2:\tlearn: 2254.5850867\ttotal: 366ms\tremaining: 854ms\n",
      "3:\tlearn: 2137.6663429\ttotal: 470ms\tremaining: 705ms\n",
      "4:\tlearn: 2080.5201488\ttotal: 576ms\tremaining: 576ms\n",
      "5:\tlearn: 2033.0901518\ttotal: 764ms\tremaining: 509ms\n",
      "6:\tlearn: 1995.6585042\ttotal: 867ms\tremaining: 372ms\n",
      "7:\tlearn: 1971.1796364\ttotal: 969ms\tremaining: 242ms\n",
      "8:\tlearn: 1953.6448470\ttotal: 1.08s\tremaining: 120ms\n",
      "9:\tlearn: 1922.0041314\ttotal: 1.26s\tremaining: 0us\n",
      "[CV]  n_estimators=10, learning_rate=0.75, score=-1911.240, total=   6.9s\n",
      "[CV] n_estimators=10, learning_rate=0.75 .............................\n"
     ]
    },
    {
     "name": "stderr",
     "output_type": "stream",
     "text": [
      "[Parallel(n_jobs=1)]: Done   4 out of   4 | elapsed:   27.6s remaining:    0.0s\n"
     ]
    },
    {
     "name": "stdout",
     "output_type": "stream",
     "text": [
      "0:\tlearn: 2830.5108597\ttotal: 49ms\tremaining: 441ms\n",
      "1:\tlearn: 2409.2310440\ttotal: 152ms\tremaining: 609ms\n",
      "2:\tlearn: 2249.9705061\ttotal: 263ms\tremaining: 614ms\n",
      "3:\tlearn: 2165.4818394\ttotal: 445ms\tremaining: 668ms\n",
      "4:\tlearn: 2092.8797564\ttotal: 549ms\tremaining: 549ms\n",
      "5:\tlearn: 2052.2372578\ttotal: 652ms\tremaining: 435ms\n",
      "6:\tlearn: 2017.1459991\ttotal: 842ms\tremaining: 361ms\n",
      "7:\tlearn: 1991.3705240\ttotal: 947ms\tremaining: 237ms\n",
      "8:\tlearn: 1963.5085012\ttotal: 1.05s\tremaining: 117ms\n",
      "9:\tlearn: 1945.2032732\ttotal: 1.24s\tremaining: 0us\n",
      "[CV]  n_estimators=10, learning_rate=0.75, score=-1956.750, total=   6.9s\n",
      "[CV] n_estimators=15, learning_rate=0.75 .............................\n"
     ]
    },
    {
     "name": "stderr",
     "output_type": "stream",
     "text": [
      "[Parallel(n_jobs=1)]: Done   5 out of   5 | elapsed:   34.5s remaining:    0.0s\n"
     ]
    },
    {
     "name": "stdout",
     "output_type": "stream",
     "text": [
      "0:\tlearn: 2823.0316345\ttotal: 33.8ms\tremaining: 473ms\n",
      "1:\tlearn: 2420.7173621\ttotal: 136ms\tremaining: 883ms\n",
      "2:\tlearn: 2254.0653137\ttotal: 241ms\tremaining: 962ms\n",
      "3:\tlearn: 2142.2217385\ttotal: 430ms\tremaining: 1.18s\n",
      "4:\tlearn: 2077.9998403\ttotal: 534ms\tremaining: 1.07s\n",
      "5:\tlearn: 2035.1970997\ttotal: 636ms\tremaining: 954ms\n",
      "6:\tlearn: 2005.5962187\ttotal: 739ms\tremaining: 844ms\n",
      "7:\tlearn: 1979.7717804\ttotal: 927ms\tremaining: 811ms\n",
      "8:\tlearn: 1954.7702393\ttotal: 1.03s\tremaining: 688ms\n",
      "9:\tlearn: 1936.7215070\ttotal: 1.13s\tremaining: 567ms\n",
      "10:\tlearn: 1911.3216198\ttotal: 1.32s\tremaining: 482ms\n",
      "11:\tlearn: 1891.2563316\ttotal: 1.43s\tremaining: 357ms\n",
      "12:\tlearn: 1879.0848539\ttotal: 1.53s\tremaining: 236ms\n",
      "13:\tlearn: 1867.7770290\ttotal: 1.64s\tremaining: 117ms\n",
      "14:\tlearn: 1857.9099962\ttotal: 1.82s\tremaining: 0us\n",
      "[CV]  n_estimators=15, learning_rate=0.75, score=-1892.140, total=   7.4s\n",
      "[CV] n_estimators=15, learning_rate=0.75 .............................\n"
     ]
    },
    {
     "name": "stderr",
     "output_type": "stream",
     "text": [
      "[Parallel(n_jobs=1)]: Done   6 out of   6 | elapsed:   41.9s remaining:    0.0s\n"
     ]
    },
    {
     "name": "stdout",
     "output_type": "stream",
     "text": [
      "0:\tlearn: 2842.4599166\ttotal: 69.6ms\tremaining: 974ms\n",
      "1:\tlearn: 2436.8917460\ttotal: 173ms\tremaining: 1.12s\n",
      "2:\tlearn: 2279.0701229\ttotal: 276ms\tremaining: 1.1s\n",
      "3:\tlearn: 2180.6631275\ttotal: 465ms\tremaining: 1.28s\n",
      "4:\tlearn: 2110.5806664\ttotal: 567ms\tremaining: 1.13s\n",
      "5:\tlearn: 2069.0726284\ttotal: 667ms\tremaining: 1000ms\n",
      "6:\tlearn: 2031.5062521\ttotal: 772ms\tremaining: 883ms\n",
      "7:\tlearn: 2007.1822973\ttotal: 883ms\tremaining: 773ms\n",
      "8:\tlearn: 1965.8982937\ttotal: 1.06s\tremaining: 709ms\n",
      "9:\tlearn: 1946.2553248\ttotal: 1.16s\tremaining: 582ms\n",
      "10:\tlearn: 1922.6592633\ttotal: 1.27s\tremaining: 461ms\n",
      "11:\tlearn: 1913.4148468\ttotal: 1.46s\tremaining: 365ms\n",
      "12:\tlearn: 1899.5476169\ttotal: 1.56s\tremaining: 240ms\n",
      "13:\tlearn: 1882.5671427\ttotal: 1.66s\tremaining: 119ms\n",
      "14:\tlearn: 1869.6646834\ttotal: 1.76s\tremaining: 0us\n",
      "[CV]  n_estimators=15, learning_rate=0.75, score=-1881.220, total=   7.4s\n",
      "[CV] n_estimators=15, learning_rate=0.75 .............................\n"
     ]
    },
    {
     "name": "stderr",
     "output_type": "stream",
     "text": [
      "[Parallel(n_jobs=1)]: Done   7 out of   7 | elapsed:   49.4s remaining:    0.0s\n"
     ]
    },
    {
     "name": "stdout",
     "output_type": "stream",
     "text": [
      "0:\tlearn: 2861.5758681\ttotal: 50.4ms\tremaining: 706ms\n",
      "1:\tlearn: 2425.5712475\ttotal: 156ms\tremaining: 1.01s\n",
      "2:\tlearn: 2265.0190050\ttotal: 348ms\tremaining: 1.39s\n",
      "3:\tlearn: 2148.3249091\ttotal: 451ms\tremaining: 1.24s\n",
      "4:\tlearn: 2098.0268218\ttotal: 559ms\tremaining: 1.12s\n",
      "5:\tlearn: 2041.9457461\ttotal: 742ms\tremaining: 1.11s\n",
      "6:\tlearn: 2009.2994891\ttotal: 846ms\tremaining: 967ms\n",
      "7:\tlearn: 1990.9031156\ttotal: 948ms\tremaining: 830ms\n",
      "8:\tlearn: 1972.5907464\ttotal: 1.14s\tremaining: 760ms\n",
      "9:\tlearn: 1954.4557828\ttotal: 1.24s\tremaining: 622ms\n",
      "10:\tlearn: 1921.1566234\ttotal: 1.35s\tremaining: 490ms\n",
      "11:\tlearn: 1907.2247437\ttotal: 1.45s\tremaining: 363ms\n",
      "12:\tlearn: 1889.2549722\ttotal: 1.64s\tremaining: 252ms\n",
      "13:\tlearn: 1870.3979210\ttotal: 1.74s\tremaining: 125ms\n",
      "14:\tlearn: 1856.4358504\ttotal: 1.85s\tremaining: 0us\n",
      "[CV]  n_estimators=15, learning_rate=0.75, score=-1868.320, total=   7.5s\n",
      "[CV] n_estimators=15, learning_rate=0.75 .............................\n"
     ]
    },
    {
     "name": "stderr",
     "output_type": "stream",
     "text": [
      "[Parallel(n_jobs=1)]: Done   8 out of   8 | elapsed:   56.9s remaining:    0.0s\n"
     ]
    },
    {
     "name": "stdout",
     "output_type": "stream",
     "text": [
      "0:\tlearn: 2834.2177178\ttotal: 73.3ms\tremaining: 1.03s\n",
      "1:\tlearn: 2415.0898992\ttotal: 176ms\tremaining: 1.14s\n",
      "2:\tlearn: 2254.5850867\ttotal: 279ms\tremaining: 1.12s\n",
      "3:\tlearn: 2137.6663429\ttotal: 470ms\tremaining: 1.29s\n",
      "4:\tlearn: 2080.5201488\ttotal: 573ms\tremaining: 1.15s\n",
      "5:\tlearn: 2033.0901518\ttotal: 679ms\tremaining: 1.02s\n",
      "6:\tlearn: 1995.6585042\ttotal: 866ms\tremaining: 989ms\n",
      "7:\tlearn: 1971.1796364\ttotal: 971ms\tremaining: 849ms\n",
      "8:\tlearn: 1953.6448470\ttotal: 1.07s\tremaining: 716ms\n",
      "9:\tlearn: 1922.0041314\ttotal: 1.26s\tremaining: 631ms\n",
      "10:\tlearn: 1905.5869507\ttotal: 1.37s\tremaining: 497ms\n",
      "11:\tlearn: 1887.8269973\ttotal: 1.47s\tremaining: 367ms\n",
      "12:\tlearn: 1874.4899301\ttotal: 1.57s\tremaining: 242ms\n",
      "13:\tlearn: 1860.4039279\ttotal: 1.76s\tremaining: 126ms\n",
      "14:\tlearn: 1845.0999811\ttotal: 1.86s\tremaining: 0us\n",
      "[CV]  n_estimators=15, learning_rate=0.75, score=-1836.100, total=   7.6s\n",
      "[CV] n_estimators=15, learning_rate=0.75 .............................\n"
     ]
    },
    {
     "name": "stderr",
     "output_type": "stream",
     "text": [
      "[Parallel(n_jobs=1)]: Done   9 out of   9 | elapsed:  1.1min remaining:    0.0s\n"
     ]
    },
    {
     "name": "stdout",
     "output_type": "stream",
     "text": [
      "0:\tlearn: 2830.5108597\ttotal: 70.6ms\tremaining: 988ms\n",
      "1:\tlearn: 2409.2310440\ttotal: 174ms\tremaining: 1.13s\n",
      "2:\tlearn: 2249.9705061\ttotal: 365ms\tremaining: 1.46s\n",
      "3:\tlearn: 2165.4818394\ttotal: 467ms\tremaining: 1.28s\n",
      "4:\tlearn: 2092.8797564\ttotal: 576ms\tremaining: 1.15s\n",
      "5:\tlearn: 2052.2372578\ttotal: 681ms\tremaining: 1.02s\n",
      "6:\tlearn: 2017.1459991\ttotal: 864ms\tremaining: 988ms\n",
      "7:\tlearn: 1991.3705240\ttotal: 967ms\tremaining: 846ms\n",
      "8:\tlearn: 1963.5085012\ttotal: 1.07s\tremaining: 716ms\n",
      "9:\tlearn: 1945.2032732\ttotal: 1.26s\tremaining: 631ms\n",
      "10:\tlearn: 1919.4991366\ttotal: 1.37s\tremaining: 497ms\n",
      "11:\tlearn: 1904.7310181\ttotal: 1.47s\tremaining: 368ms\n",
      "12:\tlearn: 1891.6072562\ttotal: 1.66s\tremaining: 255ms\n",
      "13:\tlearn: 1884.8161988\ttotal: 1.76s\tremaining: 126ms\n",
      "14:\tlearn: 1869.7620927\ttotal: 1.87s\tremaining: 0us\n",
      "[CV]  n_estimators=15, learning_rate=0.75, score=-1884.310, total=   7.5s\n",
      "[CV] n_estimators=15, learning_rate=0.5 ..............................\n",
      "0:\tlearn: 3246.7078833\ttotal: 84ms\tremaining: 1.18s\n",
      "1:\tlearn: 2637.9373676\ttotal: 214ms\tremaining: 1.39s\n",
      "2:\tlearn: 2374.1360887\ttotal: 420ms\tremaining: 1.68s\n",
      "3:\tlearn: 2240.6539579\ttotal: 571ms\tremaining: 1.57s\n",
      "4:\tlearn: 2142.7856828\ttotal: 676ms\tremaining: 1.35s\n",
      "5:\tlearn: 2076.6072298\ttotal: 778ms\tremaining: 1.17s\n",
      "6:\tlearn: 2044.4351319\ttotal: 886ms\tremaining: 1.01s\n",
      "7:\tlearn: 2007.1539508\ttotal: 1.07s\tremaining: 939ms\n",
      "8:\tlearn: 1981.5477893\ttotal: 1.18s\tremaining: 785ms\n",
      "9:\tlearn: 1962.1322503\ttotal: 1.37s\tremaining: 684ms\n",
      "10:\tlearn: 1949.3491488\ttotal: 1.47s\tremaining: 536ms\n",
      "11:\tlearn: 1932.8011407\ttotal: 1.57s\tremaining: 393ms\n",
      "12:\tlearn: 1912.2802079\ttotal: 1.68s\tremaining: 259ms\n",
      "13:\tlearn: 1896.7482463\ttotal: 1.86s\tremaining: 133ms\n",
      "14:\tlearn: 1886.6738703\ttotal: 1.96s\tremaining: 0us\n",
      "[CV]  n_estimators=15, learning_rate=0.5, score=-1931.940, total=   7.4s\n",
      "[CV] n_estimators=15, learning_rate=0.5 ..............................\n",
      "0:\tlearn: 3260.4048698\ttotal: 56.8ms\tremaining: 795ms\n",
      "1:\tlearn: 2664.7786085\ttotal: 161ms\tremaining: 1.05s\n",
      "2:\tlearn: 2396.9052230\ttotal: 353ms\tremaining: 1.41s\n",
      "3:\tlearn: 2253.0503453\ttotal: 457ms\tremaining: 1.26s\n",
      "4:\tlearn: 2154.6770753\ttotal: 562ms\tremaining: 1.12s\n",
      "5:\tlearn: 2095.3283673\ttotal: 763ms\tremaining: 1.14s\n",
      "6:\tlearn: 2056.2556512\ttotal: 859ms\tremaining: 982ms\n",
      "7:\tlearn: 2024.8337508\ttotal: 967ms\tremaining: 846ms\n",
      "8:\tlearn: 1999.1529907\ttotal: 1.15s\tremaining: 767ms\n",
      "9:\tlearn: 1969.5547885\ttotal: 1.26s\tremaining: 629ms\n",
      "10:\tlearn: 1954.6786386\ttotal: 1.35s\tremaining: 493ms\n",
      "11:\tlearn: 1938.3655100\ttotal: 1.55s\tremaining: 387ms\n",
      "12:\tlearn: 1920.2204950\ttotal: 1.65s\tremaining: 254ms\n",
      "13:\tlearn: 1904.7906606\ttotal: 1.76s\tremaining: 126ms\n",
      "14:\tlearn: 1894.6996304\ttotal: 1.94s\tremaining: 0us\n",
      "[CV]  n_estimators=15, learning_rate=0.5, score=-1896.860, total=   7.8s\n",
      "[CV] n_estimators=15, learning_rate=0.5 ..............................\n",
      "0:\tlearn: 3276.6782381\ttotal: 74.1ms\tremaining: 1.04s\n",
      "1:\tlearn: 2662.0988431\ttotal: 177ms\tremaining: 1.15s\n",
      "2:\tlearn: 2401.8661833\ttotal: 369ms\tremaining: 1.47s\n",
      "3:\tlearn: 2249.5098446\ttotal: 474ms\tremaining: 1.3s\n",
      "4:\tlearn: 2152.7212283\ttotal: 580ms\tremaining: 1.16s\n",
      "5:\tlearn: 2090.9692749\ttotal: 768ms\tremaining: 1.15s\n",
      "6:\tlearn: 2049.9144852\ttotal: 872ms\tremaining: 997ms\n",
      "7:\tlearn: 2012.3638004\ttotal: 973ms\tremaining: 852ms\n",
      "8:\tlearn: 1983.5677632\ttotal: 1.16s\tremaining: 775ms\n",
      "9:\tlearn: 1961.0428666\ttotal: 1.27s\tremaining: 634ms\n",
      "10:\tlearn: 1947.3829582\ttotal: 1.37s\tremaining: 499ms\n",
      "11:\tlearn: 1923.6671001\ttotal: 1.48s\tremaining: 369ms\n",
      "12:\tlearn: 1911.7685675\ttotal: 1.66s\tremaining: 256ms\n",
      "13:\tlearn: 1899.2300694\ttotal: 1.77s\tremaining: 126ms\n",
      "14:\tlearn: 1888.1171361\ttotal: 1.87s\tremaining: 0us\n",
      "[CV]  n_estimators=15, learning_rate=0.5, score=-1890.080, total=   7.6s\n",
      "[CV] n_estimators=15, learning_rate=0.5 ..............................\n",
      "0:\tlearn: 3256.9473510\ttotal: 102ms\tremaining: 1.42s\n",
      "1:\tlearn: 2648.4978401\ttotal: 207ms\tremaining: 1.34s\n",
      "2:\tlearn: 2383.5374942\ttotal: 308ms\tremaining: 1.23s\n",
      "3:\tlearn: 2239.7045427\ttotal: 499ms\tremaining: 1.37s\n",
      "4:\tlearn: 2147.3935877\ttotal: 607ms\tremaining: 1.21s\n",
      "5:\tlearn: 2085.1666893\ttotal: 702ms\tremaining: 1.05s\n",
      "6:\tlearn: 2046.6062904\ttotal: 892ms\tremaining: 1.02s\n",
      "7:\tlearn: 2016.4836534\ttotal: 998ms\tremaining: 873ms\n",
      "8:\tlearn: 1987.5653522\ttotal: 1.11s\tremaining: 737ms\n",
      "9:\tlearn: 1965.1027906\ttotal: 1.29s\tremaining: 645ms\n",
      "10:\tlearn: 1948.1135986\ttotal: 1.39s\tremaining: 506ms\n",
      "11:\tlearn: 1923.7178850\ttotal: 1.52s\tremaining: 381ms\n",
      "12:\tlearn: 1908.5657075\ttotal: 1.61s\tremaining: 248ms\n",
      "13:\tlearn: 1896.5664445\ttotal: 1.79s\tremaining: 128ms\n",
      "14:\tlearn: 1883.9032241\ttotal: 1.91s\tremaining: 0us\n",
      "[CV]  n_estimators=15, learning_rate=0.5, score=-1874.090, total=   8.0s\n",
      "[CV] n_estimators=15, learning_rate=0.5 ..............................\n",
      "0:\tlearn: 3254.0322062\ttotal: 47.7ms\tremaining: 668ms\n",
      "1:\tlearn: 2641.7966661\ttotal: 151ms\tremaining: 981ms\n",
      "2:\tlearn: 2385.3369338\ttotal: 342ms\tremaining: 1.37s\n",
      "3:\tlearn: 2244.9579396\ttotal: 444ms\tremaining: 1.22s\n",
      "4:\tlearn: 2140.4283238\ttotal: 548ms\tremaining: 1.1s\n",
      "5:\tlearn: 2082.1550628\ttotal: 651ms\tremaining: 976ms\n",
      "6:\tlearn: 2040.8643411\ttotal: 840ms\tremaining: 959ms\n",
      "7:\tlearn: 2011.2301024\ttotal: 942ms\tremaining: 824ms\n",
      "8:\tlearn: 1986.9346457\ttotal: 1.04s\tremaining: 696ms\n",
      "9:\tlearn: 1959.8424808\ttotal: 1.15s\tremaining: 573ms\n",
      "10:\tlearn: 1944.1663089\ttotal: 1.26s\tremaining: 458ms\n",
      "11:\tlearn: 1928.2506316\ttotal: 1.44s\tremaining: 359ms\n",
      "12:\tlearn: 1912.6752091\ttotal: 1.54s\tremaining: 237ms\n",
      "13:\tlearn: 1895.7689359\ttotal: 1.64s\tremaining: 117ms\n",
      "14:\tlearn: 1884.1630501\ttotal: 1.83s\tremaining: 0us\n",
      "[CV]  n_estimators=15, learning_rate=0.5, score=-1895.500, total=   7.4s\n",
      "[CV] n_estimators=10, learning_rate=0.5 ..............................\n",
      "0:\tlearn: 3246.7078833\ttotal: 76.4ms\tremaining: 688ms\n",
      "1:\tlearn: 2637.9373676\ttotal: 181ms\tremaining: 726ms\n",
      "2:\tlearn: 2374.1360887\ttotal: 289ms\tremaining: 675ms\n",
      "3:\tlearn: 2240.6539579\ttotal: 473ms\tremaining: 710ms\n",
      "4:\tlearn: 2142.7856828\ttotal: 576ms\tremaining: 576ms\n",
      "5:\tlearn: 2076.6072298\ttotal: 679ms\tremaining: 453ms\n",
      "6:\tlearn: 2044.4351319\ttotal: 870ms\tremaining: 373ms\n",
      "7:\tlearn: 2007.1539508\ttotal: 973ms\tremaining: 243ms\n",
      "8:\tlearn: 1981.5477893\ttotal: 1.08s\tremaining: 120ms\n",
      "9:\tlearn: 1962.1322503\ttotal: 1.18s\tremaining: 0us\n",
      "[CV]  n_estimators=10, learning_rate=0.5, score=-1999.480, total=   7.2s\n",
      "[CV] n_estimators=10, learning_rate=0.5 ..............................\n",
      "0:\tlearn: 3260.4048698\ttotal: 78.3ms\tremaining: 705ms\n",
      "1:\tlearn: 2664.7786085\ttotal: 182ms\tremaining: 729ms\n",
      "2:\tlearn: 2396.9052230\ttotal: 286ms\tremaining: 666ms\n",
      "3:\tlearn: 2253.0503453\ttotal: 474ms\tremaining: 712ms\n",
      "4:\tlearn: 2154.6770753\ttotal: 578ms\tremaining: 578ms\n",
      "5:\tlearn: 2095.3283673\ttotal: 679ms\tremaining: 452ms\n",
      "6:\tlearn: 2056.2556512\ttotal: 783ms\tremaining: 336ms\n",
      "7:\tlearn: 2024.8337508\ttotal: 888ms\tremaining: 222ms\n",
      "8:\tlearn: 1999.1529907\ttotal: 1.07s\tremaining: 119ms\n",
      "9:\tlearn: 1969.5547885\ttotal: 1.17s\tremaining: 0us\n",
      "[CV]  n_estimators=10, learning_rate=0.5, score=-1970.130, total=   6.7s\n",
      "[CV] n_estimators=10, learning_rate=0.5 ..............................\n",
      "0:\tlearn: 3276.6782381\ttotal: 62.4ms\tremaining: 562ms\n",
      "1:\tlearn: 2662.0988431\ttotal: 166ms\tremaining: 663ms\n",
      "2:\tlearn: 2401.8661833\ttotal: 358ms\tremaining: 835ms\n",
      "3:\tlearn: 2249.5098446\ttotal: 461ms\tremaining: 692ms\n",
      "4:\tlearn: 2152.7212283\ttotal: 564ms\tremaining: 564ms\n",
      "5:\tlearn: 2090.9692749\ttotal: 666ms\tremaining: 444ms\n",
      "6:\tlearn: 2049.9144852\ttotal: 857ms\tremaining: 367ms\n",
      "7:\tlearn: 2012.3638004\ttotal: 958ms\tremaining: 239ms\n",
      "8:\tlearn: 1983.5677632\ttotal: 1.06s\tremaining: 118ms\n",
      "9:\tlearn: 1961.0428666\ttotal: 1.25s\tremaining: 0us\n",
      "[CV]  n_estimators=10, learning_rate=0.5, score=-1959.350, total=   6.8s\n",
      "[CV] n_estimators=10, learning_rate=0.5 ..............................\n",
      "0:\tlearn: 3256.9473510\ttotal: 86.1ms\tremaining: 775ms\n",
      "1:\tlearn: 2648.4978401\ttotal: 190ms\tremaining: 759ms\n",
      "2:\tlearn: 2383.5374942\ttotal: 293ms\tremaining: 683ms\n",
      "3:\tlearn: 2239.7045427\ttotal: 482ms\tremaining: 724ms\n",
      "4:\tlearn: 2147.3935877\ttotal: 586ms\tremaining: 586ms\n",
      "5:\tlearn: 2085.1666893\ttotal: 687ms\tremaining: 458ms\n",
      "6:\tlearn: 2046.6062904\ttotal: 792ms\tremaining: 340ms\n",
      "7:\tlearn: 2016.4836534\ttotal: 980ms\tremaining: 245ms\n",
      "8:\tlearn: 1987.5653522\ttotal: 1.08s\tremaining: 120ms\n",
      "9:\tlearn: 1965.1027906\ttotal: 1.18s\tremaining: 0us\n",
      "[CV]  n_estimators=10, learning_rate=0.5, score=-1951.310, total=   7.0s\n",
      "[CV] n_estimators=10, learning_rate=0.5 ..............................\n",
      "0:\tlearn: 3254.0322062\ttotal: 59ms\tremaining: 531ms\n",
      "1:\tlearn: 2641.7966661\ttotal: 166ms\tremaining: 663ms\n",
      "2:\tlearn: 2385.3369338\ttotal: 353ms\tremaining: 824ms\n",
      "3:\tlearn: 2244.9579396\ttotal: 458ms\tremaining: 687ms\n",
      "4:\tlearn: 2140.4283238\ttotal: 560ms\tremaining: 560ms\n",
      "5:\tlearn: 2082.1550628\ttotal: 665ms\tremaining: 443ms\n",
      "6:\tlearn: 2040.8643411\ttotal: 854ms\tremaining: 366ms\n",
      "7:\tlearn: 2011.2301024\ttotal: 957ms\tremaining: 239ms\n",
      "8:\tlearn: 1986.9346457\ttotal: 1.06s\tremaining: 118ms\n",
      "9:\tlearn: 1959.8424808\ttotal: 1.25s\tremaining: 0us\n",
      "[CV]  n_estimators=10, learning_rate=0.5, score=-1973.070, total=   6.9s\n",
      "[CV] n_estimators=25, learning_rate=0.75 .............................\n",
      "0:\tlearn: 2823.0316345\ttotal: 81.5ms\tremaining: 1.96s\n",
      "1:\tlearn: 2420.7173621\ttotal: 186ms\tremaining: 2.14s\n",
      "2:\tlearn: 2254.0653137\ttotal: 375ms\tremaining: 2.75s\n",
      "3:\tlearn: 2142.2217385\ttotal: 479ms\tremaining: 2.51s\n",
      "4:\tlearn: 2077.9998403\ttotal: 588ms\tremaining: 2.35s\n",
      "5:\tlearn: 2035.1970997\ttotal: 772ms\tremaining: 2.45s\n",
      "6:\tlearn: 2005.5962187\ttotal: 880ms\tremaining: 2.26s\n",
      "7:\tlearn: 1979.7717804\ttotal: 1.07s\tremaining: 2.27s\n",
      "8:\tlearn: 1954.7702393\ttotal: 1.18s\tremaining: 2.09s\n",
      "9:\tlearn: 1936.7215070\ttotal: 1.28s\tremaining: 1.92s\n",
      "10:\tlearn: 1911.3216198\ttotal: 1.47s\tremaining: 1.87s\n",
      "11:\tlearn: 1891.2563316\ttotal: 1.57s\tremaining: 1.7s\n",
      "12:\tlearn: 1879.0848539\ttotal: 1.67s\tremaining: 1.54s\n",
      "13:\tlearn: 1867.7770290\ttotal: 1.78s\tremaining: 1.4s\n",
      "14:\tlearn: 1857.9099962\ttotal: 1.97s\tremaining: 1.31s\n",
      "15:\tlearn: 1845.5223496\ttotal: 2.07s\tremaining: 1.16s\n",
      "16:\tlearn: 1836.4318903\ttotal: 2.17s\tremaining: 1.02s\n",
      "17:\tlearn: 1823.5660724\ttotal: 2.36s\tremaining: 919ms\n",
      "18:\tlearn: 1816.4243067\ttotal: 2.47s\tremaining: 781ms\n",
      "19:\tlearn: 1809.8668494\ttotal: 2.66s\tremaining: 666ms\n",
      "20:\tlearn: 1803.1810089\ttotal: 2.77s\tremaining: 527ms\n",
      "21:\tlearn: 1795.9405280\ttotal: 2.87s\tremaining: 391ms\n",
      "22:\tlearn: 1786.9303232\ttotal: 3.06s\tremaining: 266ms\n",
      "23:\tlearn: 1781.2771344\ttotal: 3.16s\tremaining: 132ms\n",
      "24:\tlearn: 1774.0076503\ttotal: 3.27s\tremaining: 0us\n",
      "[CV]  n_estimators=25, learning_rate=0.75, score=-1818.200, total=   8.7s\n",
      "[CV] n_estimators=25, learning_rate=0.75 .............................\n",
      "0:\tlearn: 2842.4599166\ttotal: 78ms\tremaining: 1.87s\n",
      "1:\tlearn: 2436.8917460\ttotal: 208ms\tremaining: 2.39s\n",
      "2:\tlearn: 2279.0701229\ttotal: 374ms\tremaining: 2.74s\n",
      "3:\tlearn: 2180.6631275\ttotal: 478ms\tremaining: 2.51s\n",
      "4:\tlearn: 2110.5806664\ttotal: 584ms\tremaining: 2.33s\n",
      "5:\tlearn: 2069.0726284\ttotal: 769ms\tremaining: 2.44s\n",
      "6:\tlearn: 2031.5062521\ttotal: 874ms\tremaining: 2.25s\n",
      "7:\tlearn: 2007.1822973\ttotal: 978ms\tremaining: 2.08s\n",
      "8:\tlearn: 1965.8982937\ttotal: 1.17s\tremaining: 2.08s\n",
      "9:\tlearn: 1946.2553248\ttotal: 1.27s\tremaining: 1.91s\n",
      "10:\tlearn: 1922.6592633\ttotal: 1.38s\tremaining: 1.75s\n",
      "11:\tlearn: 1913.4148468\ttotal: 1.57s\tremaining: 1.7s\n",
      "12:\tlearn: 1899.5476169\ttotal: 1.67s\tremaining: 1.54s\n",
      "13:\tlearn: 1882.5671427\ttotal: 1.78s\tremaining: 1.4s\n",
      "14:\tlearn: 1869.6646834\ttotal: 1.96s\tremaining: 1.31s\n",
      "15:\tlearn: 1863.1047482\ttotal: 2.07s\tremaining: 1.16s\n",
      "16:\tlearn: 1849.0206295\ttotal: 2.17s\tremaining: 1.02s\n",
      "17:\tlearn: 1837.7631573\ttotal: 2.36s\tremaining: 918ms\n",
      "18:\tlearn: 1831.4220008\ttotal: 2.47s\tremaining: 779ms\n",
      "19:\tlearn: 1822.3383667\ttotal: 2.57s\tremaining: 643ms\n",
      "20:\tlearn: 1817.1040006\ttotal: 2.76s\tremaining: 526ms\n",
      "21:\tlearn: 1812.0440762\ttotal: 2.86s\tremaining: 391ms\n",
      "22:\tlearn: 1804.2048945\ttotal: 2.97s\tremaining: 258ms\n",
      "23:\tlearn: 1798.5523238\ttotal: 3.17s\tremaining: 132ms\n",
      "24:\tlearn: 1792.3537634\ttotal: 3.27s\tremaining: 0us\n",
      "[CV]  n_estimators=25, learning_rate=0.75, score=-1813.030, total=   9.0s\n",
      "[CV] n_estimators=25, learning_rate=0.75 .............................\n",
      "0:\tlearn: 2861.5758681\ttotal: 59.1ms\tremaining: 1.42s\n",
      "1:\tlearn: 2425.5712475\ttotal: 166ms\tremaining: 1.91s\n",
      "2:\tlearn: 2265.0190050\ttotal: 268ms\tremaining: 1.96s\n",
      "3:\tlearn: 2148.3249091\ttotal: 457ms\tremaining: 2.4s\n",
      "4:\tlearn: 2098.0268218\ttotal: 564ms\tremaining: 2.25s\n",
      "5:\tlearn: 2041.9457461\ttotal: 752ms\tremaining: 2.38s\n",
      "6:\tlearn: 2009.2994891\ttotal: 857ms\tremaining: 2.2s\n",
      "7:\tlearn: 1990.9031156\ttotal: 961ms\tremaining: 2.04s\n",
      "8:\tlearn: 1972.5907464\ttotal: 1.15s\tremaining: 2.05s\n",
      "9:\tlearn: 1954.4557828\ttotal: 1.25s\tremaining: 1.88s\n",
      "10:\tlearn: 1921.1566234\ttotal: 1.45s\tremaining: 1.84s\n",
      "11:\tlearn: 1907.2247437\ttotal: 1.55s\tremaining: 1.68s\n",
      "12:\tlearn: 1889.2549722\ttotal: 1.66s\tremaining: 1.53s\n",
      "13:\tlearn: 1870.3979210\ttotal: 1.76s\tremaining: 1.38s\n",
      "14:\tlearn: 1856.4358504\ttotal: 1.95s\tremaining: 1.3s\n",
      "15:\tlearn: 1847.3051957\ttotal: 2.05s\tremaining: 1.15s\n",
      "16:\tlearn: 1839.8938182\ttotal: 2.16s\tremaining: 1.01s\n",
      "17:\tlearn: 1831.1984560\ttotal: 2.26s\tremaining: 879ms\n",
      "18:\tlearn: 1825.1568066\ttotal: 2.44s\tremaining: 772ms\n",
      "19:\tlearn: 1816.1112549\ttotal: 2.55s\tremaining: 638ms\n",
      "20:\tlearn: 1809.4911116\ttotal: 2.74s\tremaining: 522ms\n",
      "21:\tlearn: 1802.6309687\ttotal: 2.85s\tremaining: 389ms\n",
      "22:\tlearn: 1795.2891854\ttotal: 2.97s\tremaining: 258ms\n",
      "23:\tlearn: 1788.3895402\ttotal: 3.14s\tremaining: 131ms\n",
      "24:\tlearn: 1780.7370284\ttotal: 3.25s\tremaining: 0us\n",
      "[CV]  n_estimators=25, learning_rate=0.75, score=-1799.480, total=   9.0s\n",
      "[CV] n_estimators=25, learning_rate=0.75 .............................\n",
      "0:\tlearn: 2834.2177178\ttotal: 51ms\tremaining: 1.22s\n",
      "1:\tlearn: 2415.0898992\ttotal: 156ms\tremaining: 1.79s\n",
      "2:\tlearn: 2254.5850867\ttotal: 261ms\tremaining: 1.91s\n",
      "3:\tlearn: 2137.6663429\ttotal: 448ms\tremaining: 2.35s\n",
      "4:\tlearn: 2080.5201488\ttotal: 640ms\tremaining: 2.56s\n",
      "5:\tlearn: 2033.0901518\ttotal: 746ms\tremaining: 2.36s\n",
      "6:\tlearn: 1995.6585042\ttotal: 937ms\tremaining: 2.41s\n",
      "7:\tlearn: 1971.1796364\ttotal: 1.06s\tremaining: 2.25s\n",
      "8:\tlearn: 1953.6448470\ttotal: 1.15s\tremaining: 2.04s\n",
      "9:\tlearn: 1922.0041314\ttotal: 1.25s\tremaining: 1.87s\n",
      "10:\tlearn: 1905.5869507\ttotal: 1.44s\tremaining: 1.83s\n",
      "11:\tlearn: 1887.8269973\ttotal: 1.54s\tremaining: 1.67s\n",
      "12:\tlearn: 1874.4899301\ttotal: 1.65s\tremaining: 1.52s\n",
      "13:\tlearn: 1860.4039279\ttotal: 1.83s\tremaining: 1.44s\n",
      "14:\tlearn: 1845.0999811\ttotal: 1.94s\tremaining: 1.29s\n",
      "15:\tlearn: 1838.0651285\ttotal: 2.05s\tremaining: 1.15s\n",
      "16:\tlearn: 1831.9937384\ttotal: 2.23s\tremaining: 1.05s\n",
      "17:\tlearn: 1825.1152640\ttotal: 2.33s\tremaining: 908ms\n",
      "18:\tlearn: 1816.3833190\ttotal: 2.44s\tremaining: 771ms\n",
      "19:\tlearn: 1808.7542155\ttotal: 2.55s\tremaining: 638ms\n",
      "20:\tlearn: 1801.2647714\ttotal: 2.73s\tremaining: 520ms\n",
      "21:\tlearn: 1794.7622905\ttotal: 2.85s\tremaining: 388ms\n",
      "22:\tlearn: 1786.9732649\ttotal: 2.94s\tremaining: 256ms\n",
      "23:\tlearn: 1781.6863110\ttotal: 3.13s\tremaining: 130ms\n",
      "24:\tlearn: 1772.0902667\ttotal: 3.23s\tremaining: 0us\n",
      "[CV]  n_estimators=25, learning_rate=0.75, score=-1770.870, total=   9.2s\n",
      "[CV] n_estimators=25, learning_rate=0.75 .............................\n",
      "0:\tlearn: 2830.5108597\ttotal: 21.3ms\tremaining: 512ms\n",
      "1:\tlearn: 2409.2310440\ttotal: 126ms\tremaining: 1.44s\n",
      "2:\tlearn: 2249.9705061\ttotal: 313ms\tremaining: 2.29s\n",
      "3:\tlearn: 2165.4818394\ttotal: 416ms\tremaining: 2.19s\n",
      "4:\tlearn: 2092.8797564\ttotal: 526ms\tremaining: 2.1s\n",
      "5:\tlearn: 2052.2372578\ttotal: 711ms\tremaining: 2.25s\n",
      "6:\tlearn: 2017.1459991\ttotal: 814ms\tremaining: 2.09s\n",
      "7:\tlearn: 1991.3705240\ttotal: 916ms\tremaining: 1.95s\n",
      "8:\tlearn: 1963.5085012\ttotal: 1.02s\tremaining: 1.82s\n",
      "9:\tlearn: 1945.2032732\ttotal: 1.22s\tremaining: 1.83s\n",
      "10:\tlearn: 1919.4991366\ttotal: 1.31s\tremaining: 1.67s\n",
      "11:\tlearn: 1904.7310181\ttotal: 1.43s\tremaining: 1.55s\n",
      "12:\tlearn: 1891.6072562\ttotal: 1.61s\tremaining: 1.49s\n",
      "13:\tlearn: 1884.8161988\ttotal: 1.71s\tremaining: 1.34s\n",
      "14:\tlearn: 1869.7620927\ttotal: 1.81s\tremaining: 1.21s\n",
      "15:\tlearn: 1857.2406034\ttotal: 1.92s\tremaining: 1.08s\n",
      "16:\tlearn: 1843.3535929\ttotal: 2.1s\tremaining: 990ms\n",
      "17:\tlearn: 1835.0828092\ttotal: 2.21s\tremaining: 858ms\n",
      "18:\tlearn: 1829.0641225\ttotal: 2.31s\tremaining: 730ms\n",
      "19:\tlearn: 1823.1500622\ttotal: 2.41s\tremaining: 603ms\n",
      "20:\tlearn: 1813.8694528\ttotal: 2.6s\tremaining: 496ms\n",
      "21:\tlearn: 1808.1133112\ttotal: 2.71s\tremaining: 369ms\n",
      "22:\tlearn: 1799.4495986\ttotal: 2.81s\tremaining: 244ms\n",
      "23:\tlearn: 1792.7403266\ttotal: 3s\tremaining: 125ms\n",
      "24:\tlearn: 1787.1550496\ttotal: 3.1s\tremaining: 0us\n",
      "[CV]  n_estimators=25, learning_rate=0.75, score=-1808.560, total=   8.8s\n",
      "[CV] n_estimators=20, learning_rate=0.75 .............................\n",
      "0:\tlearn: 2823.0316345\ttotal: 100ms\tremaining: 1.9s\n",
      "1:\tlearn: 2420.7173621\ttotal: 205ms\tremaining: 1.84s\n",
      "2:\tlearn: 2254.0653137\ttotal: 394ms\tremaining: 2.23s\n",
      "3:\tlearn: 2142.2217385\ttotal: 500ms\tremaining: 2s\n",
      "4:\tlearn: 2077.9998403\ttotal: 605ms\tremaining: 1.81s\n",
      "5:\tlearn: 2035.1970997\ttotal: 793ms\tremaining: 1.85s\n",
      "6:\tlearn: 2005.5962187\ttotal: 900ms\tremaining: 1.67s\n",
      "7:\tlearn: 1979.7717804\ttotal: 1s\tremaining: 1.5s\n",
      "8:\tlearn: 1954.7702393\ttotal: 1.19s\tremaining: 1.45s\n",
      "9:\tlearn: 1936.7215070\ttotal: 1.29s\tremaining: 1.29s\n",
      "10:\tlearn: 1911.3216198\ttotal: 1.4s\tremaining: 1.15s\n",
      "11:\tlearn: 1891.2563316\ttotal: 1.59s\tremaining: 1.06s\n",
      "12:\tlearn: 1879.0848539\ttotal: 1.69s\tremaining: 910ms\n",
      "13:\tlearn: 1867.7770290\ttotal: 1.79s\tremaining: 769ms\n",
      "14:\tlearn: 1857.9099962\ttotal: 1.91s\tremaining: 638ms\n",
      "15:\tlearn: 1845.5223496\ttotal: 2.08s\tremaining: 521ms\n",
      "16:\tlearn: 1836.4318903\ttotal: 2.19s\tremaining: 386ms\n",
      "17:\tlearn: 1823.5660724\ttotal: 2.31s\tremaining: 257ms\n",
      "18:\tlearn: 1816.4243067\ttotal: 2.48s\tremaining: 131ms\n",
      "19:\tlearn: 1809.8668494\ttotal: 2.58s\tremaining: 0us\n",
      "[CV]  n_estimators=20, learning_rate=0.75, score=-1850.220, total=   8.0s\n",
      "[CV] n_estimators=20, learning_rate=0.75 .............................\n",
      "0:\tlearn: 2842.4599166\ttotal: 34.7ms\tremaining: 660ms\n",
      "1:\tlearn: 2436.8917460\ttotal: 138ms\tremaining: 1.24s\n",
      "2:\tlearn: 2279.0701229\ttotal: 328ms\tremaining: 1.86s\n",
      "3:\tlearn: 2180.6631275\ttotal: 435ms\tremaining: 1.74s\n",
      "4:\tlearn: 2110.5806664\ttotal: 544ms\tremaining: 1.63s\n",
      "5:\tlearn: 2069.0726284\ttotal: 726ms\tremaining: 1.69s\n",
      "6:\tlearn: 2031.5062521\ttotal: 834ms\tremaining: 1.55s\n",
      "7:\tlearn: 2007.1822973\ttotal: 936ms\tremaining: 1.4s\n",
      "8:\tlearn: 1965.8982937\ttotal: 1.13s\tremaining: 1.38s\n",
      "9:\tlearn: 1946.2553248\ttotal: 1.23s\tremaining: 1.23s\n",
      "10:\tlearn: 1922.6592633\ttotal: 1.34s\tremaining: 1.09s\n",
      "11:\tlearn: 1913.4148468\ttotal: 1.52s\tremaining: 1.01s\n",
      "12:\tlearn: 1899.5476169\ttotal: 1.63s\tremaining: 876ms\n",
      "13:\tlearn: 1882.5671427\ttotal: 1.73s\tremaining: 742ms\n",
      "14:\tlearn: 1869.6646834\ttotal: 1.92s\tremaining: 640ms\n",
      "15:\tlearn: 1863.1047482\ttotal: 2.02s\tremaining: 506ms\n",
      "16:\tlearn: 1849.0206295\ttotal: 2.13s\tremaining: 376ms\n",
      "17:\tlearn: 1837.7631573\ttotal: 2.32s\tremaining: 258ms\n",
      "18:\tlearn: 1831.4220008\ttotal: 2.43s\tremaining: 128ms\n",
      "19:\tlearn: 1822.3383667\ttotal: 2.53s\tremaining: 0us\n",
      "[CV]  n_estimators=20, learning_rate=0.75, score=-1838.810, total=   8.7s\n",
      "[CV] n_estimators=20, learning_rate=0.75 .............................\n",
      "0:\tlearn: 2861.5758681\ttotal: 49.4ms\tremaining: 938ms\n",
      "1:\tlearn: 2425.5712475\ttotal: 155ms\tremaining: 1.39s\n",
      "2:\tlearn: 2265.0190050\ttotal: 344ms\tremaining: 1.95s\n",
      "3:\tlearn: 2148.3249091\ttotal: 451ms\tremaining: 1.8s\n",
      "4:\tlearn: 2098.0268218\ttotal: 553ms\tremaining: 1.66s\n",
      "5:\tlearn: 2041.9457461\ttotal: 744ms\tremaining: 1.74s\n",
      "6:\tlearn: 2009.2994891\ttotal: 849ms\tremaining: 1.58s\n",
      "7:\tlearn: 1990.9031156\ttotal: 969ms\tremaining: 1.45s\n",
      "8:\tlearn: 1972.5907464\ttotal: 1.14s\tremaining: 1.39s\n",
      "9:\tlearn: 1954.4557828\ttotal: 1.25s\tremaining: 1.25s\n",
      "10:\tlearn: 1921.1566234\ttotal: 1.44s\tremaining: 1.18s\n",
      "11:\tlearn: 1907.2247437\ttotal: 1.54s\tremaining: 1.03s\n",
      "12:\tlearn: 1889.2549722\ttotal: 1.65s\tremaining: 891ms\n",
      "13:\tlearn: 1870.3979210\ttotal: 1.84s\tremaining: 787ms\n",
      "14:\tlearn: 1856.4358504\ttotal: 1.94s\tremaining: 648ms\n",
      "15:\tlearn: 1847.3051957\ttotal: 2.04s\tremaining: 511ms\n",
      "16:\tlearn: 1839.8938182\ttotal: 2.15s\tremaining: 379ms\n",
      "17:\tlearn: 1831.1984560\ttotal: 2.33s\tremaining: 259ms\n",
      "18:\tlearn: 1825.1568066\ttotal: 2.44s\tremaining: 128ms\n",
      "19:\tlearn: 1816.1112549\ttotal: 2.54s\tremaining: 0us\n",
      "[CV]  n_estimators=20, learning_rate=0.75, score=-1832.400, total=   8.0s\n",
      "[CV] n_estimators=20, learning_rate=0.75 .............................\n",
      "0:\tlearn: 2834.2177178\ttotal: 67.8ms\tremaining: 1.29s\n",
      "1:\tlearn: 2415.0898992\ttotal: 171ms\tremaining: 1.54s\n",
      "2:\tlearn: 2254.5850867\ttotal: 275ms\tremaining: 1.56s\n",
      "3:\tlearn: 2137.6663429\ttotal: 462ms\tremaining: 1.85s\n",
      "4:\tlearn: 2080.5201488\ttotal: 566ms\tremaining: 1.7s\n",
      "5:\tlearn: 2033.0901518\ttotal: 670ms\tremaining: 1.56s\n",
      "6:\tlearn: 1995.6585042\ttotal: 860ms\tremaining: 1.6s\n",
      "7:\tlearn: 1971.1796364\ttotal: 964ms\tremaining: 1.45s\n",
      "8:\tlearn: 1953.6448470\ttotal: 1.07s\tremaining: 1.31s\n",
      "9:\tlearn: 1922.0041314\ttotal: 1.25s\tremaining: 1.25s\n",
      "10:\tlearn: 1905.5869507\ttotal: 1.36s\tremaining: 1.11s\n",
      "11:\tlearn: 1887.8269973\ttotal: 1.46s\tremaining: 974ms\n",
      "12:\tlearn: 1874.4899301\ttotal: 1.57s\tremaining: 843ms\n",
      "13:\tlearn: 1860.4039279\ttotal: 1.75s\tremaining: 751ms\n",
      "14:\tlearn: 1845.0999811\ttotal: 1.86s\tremaining: 620ms\n",
      "15:\tlearn: 1838.0651285\ttotal: 1.96s\tremaining: 491ms\n",
      "16:\tlearn: 1831.9937384\ttotal: 2.15s\tremaining: 380ms\n",
      "17:\tlearn: 1825.1152640\ttotal: 2.25s\tremaining: 250ms\n",
      "18:\tlearn: 1816.3833190\ttotal: 2.36s\tremaining: 124ms\n",
      "19:\tlearn: 1808.7542155\ttotal: 2.54s\tremaining: 0us\n",
      "[CV]  n_estimators=20, learning_rate=0.75, score=-1799.580, total=   8.1s\n",
      "[CV] n_estimators=20, learning_rate=0.75 .............................\n",
      "0:\tlearn: 2830.5108597\ttotal: 39.6ms\tremaining: 753ms\n",
      "1:\tlearn: 2409.2310440\ttotal: 144ms\tremaining: 1.3s\n",
      "2:\tlearn: 2249.9705061\ttotal: 336ms\tremaining: 1.9s\n",
      "3:\tlearn: 2165.4818394\ttotal: 440ms\tremaining: 1.76s\n",
      "4:\tlearn: 2092.8797564\ttotal: 546ms\tremaining: 1.64s\n",
      "5:\tlearn: 2052.2372578\ttotal: 731ms\tremaining: 1.71s\n",
      "6:\tlearn: 2017.1459991\ttotal: 834ms\tremaining: 1.55s\n",
      "7:\tlearn: 1991.3705240\ttotal: 938ms\tremaining: 1.41s\n",
      "8:\tlearn: 1963.5085012\ttotal: 1.04s\tremaining: 1.28s\n",
      "9:\tlearn: 1945.2032732\ttotal: 1.23s\tremaining: 1.23s\n",
      "10:\tlearn: 1919.4991366\ttotal: 1.33s\tremaining: 1.09s\n",
      "11:\tlearn: 1904.7310181\ttotal: 1.44s\tremaining: 959ms\n",
      "12:\tlearn: 1891.6072562\ttotal: 1.63s\tremaining: 876ms\n",
      "13:\tlearn: 1884.8161988\ttotal: 1.73s\tremaining: 743ms\n",
      "14:\tlearn: 1869.7620927\ttotal: 1.83s\tremaining: 611ms\n",
      "15:\tlearn: 1857.2406034\ttotal: 1.94s\tremaining: 485ms\n",
      "16:\tlearn: 1843.3535929\ttotal: 2.13s\tremaining: 375ms\n",
      "17:\tlearn: 1835.0828092\ttotal: 2.23s\tremaining: 248ms\n",
      "18:\tlearn: 1829.0641225\ttotal: 2.33s\tremaining: 123ms\n",
      "19:\tlearn: 1823.1500622\ttotal: 2.52s\tremaining: 0us\n",
      "[CV]  n_estimators=20, learning_rate=0.75, score=-1836.120, total=   8.2s\n",
      "[CV] n_estimators=15, learning_rate=0.25 .............................\n",
      "0:\tlearn: 3849.5849924\ttotal: 90.9ms\tremaining: 1.27s\n",
      "1:\tlearn: 3337.9680321\ttotal: 282ms\tremaining: 1.83s\n",
      "2:\tlearn: 2981.4947147\ttotal: 389ms\tremaining: 1.56s\n",
      "3:\tlearn: 2730.9618316\ttotal: 493ms\tremaining: 1.35s\n",
      "4:\tlearn: 2542.6806888\ttotal: 683ms\tremaining: 1.36s\n",
      "5:\tlearn: 2411.3665211\ttotal: 789ms\tremaining: 1.18s\n",
      "6:\tlearn: 2316.5471551\ttotal: 980ms\tremaining: 1.12s\n",
      "7:\tlearn: 2248.3780128\ttotal: 1.08s\tremaining: 949ms\n",
      "8:\tlearn: 2183.2360712\ttotal: 1.19s\tremaining: 793ms\n",
      "9:\tlearn: 2133.6424619\ttotal: 1.39s\tremaining: 697ms\n",
      "10:\tlearn: 2097.8026315\ttotal: 1.48s\tremaining: 539ms\n",
      "11:\tlearn: 2070.5305709\ttotal: 1.58s\tremaining: 396ms\n",
      "12:\tlearn: 2039.6021480\ttotal: 1.77s\tremaining: 273ms\n",
      "13:\tlearn: 2018.5877748\ttotal: 1.88s\tremaining: 134ms\n",
      "14:\tlearn: 1999.7676612\ttotal: 1.99s\tremaining: 0us\n",
      "[CV]  n_estimators=15, learning_rate=0.25, score=-2034.680, total=   7.7s\n",
      "[CV] n_estimators=15, learning_rate=0.25 .............................\n",
      "0:\tlearn: 3857.0526334\ttotal: 46.6ms\tremaining: 652ms\n",
      "1:\tlearn: 3347.5287253\ttotal: 152ms\tremaining: 988ms\n",
      "2:\tlearn: 2977.2893559\ttotal: 341ms\tremaining: 1.36s\n",
      "3:\tlearn: 2733.5955025\ttotal: 447ms\tremaining: 1.23s\n",
      "4:\tlearn: 2558.3942708\ttotal: 552ms\tremaining: 1.1s\n",
      "5:\tlearn: 2433.0758360\ttotal: 738ms\tremaining: 1.11s\n",
      "6:\tlearn: 2335.5009291\ttotal: 847ms\tremaining: 967ms\n",
      "7:\tlearn: 2262.1699558\ttotal: 950ms\tremaining: 832ms\n",
      "8:\tlearn: 2208.0926476\ttotal: 1.14s\tremaining: 758ms\n",
      "9:\tlearn: 2151.8599934\ttotal: 1.24s\tremaining: 622ms\n",
      "10:\tlearn: 2111.8177474\ttotal: 1.35s\tremaining: 490ms\n",
      "11:\tlearn: 2084.8654662\ttotal: 1.53s\tremaining: 384ms\n",
      "12:\tlearn: 2054.7560101\ttotal: 1.64s\tremaining: 252ms\n",
      "13:\tlearn: 2033.1896909\ttotal: 1.74s\tremaining: 125ms\n",
      "14:\tlearn: 2011.2729229\ttotal: 1.93s\tremaining: 0us\n",
      "[CV]  n_estimators=15, learning_rate=0.25, score=-2007.690, total=   7.9s\n",
      "[CV] n_estimators=15, learning_rate=0.25 .............................\n",
      "0:\tlearn: 3870.1420965\ttotal: 72.7ms\tremaining: 1.02s\n",
      "1:\tlearn: 3362.5212818\ttotal: 177ms\tremaining: 1.15s\n",
      "2:\tlearn: 2979.3844389\ttotal: 367ms\tremaining: 1.47s\n",
      "3:\tlearn: 2731.0006777\ttotal: 470ms\tremaining: 1.29s\n",
      "4:\tlearn: 2549.8849428\ttotal: 580ms\tremaining: 1.16s\n",
      "5:\tlearn: 2414.5438386\ttotal: 763ms\tremaining: 1.14s\n",
      "6:\tlearn: 2311.7717480\ttotal: 869ms\tremaining: 993ms\n",
      "7:\tlearn: 2246.5268497\ttotal: 976ms\tremaining: 854ms\n",
      "8:\tlearn: 2190.1983330\ttotal: 1.16s\tremaining: 776ms\n",
      "9:\tlearn: 2144.7852092\ttotal: 1.27s\tremaining: 635ms\n",
      "10:\tlearn: 2103.7101630\ttotal: 1.46s\tremaining: 530ms\n",
      "11:\tlearn: 2076.6627460\ttotal: 1.56s\tremaining: 391ms\n",
      "12:\tlearn: 2051.8913624\ttotal: 1.67s\tremaining: 257ms\n",
      "13:\tlearn: 2025.9874724\ttotal: 1.86s\tremaining: 133ms\n",
      "14:\tlearn: 2009.2066405\ttotal: 1.96s\tremaining: 0us\n",
      "[CV]  n_estimators=15, learning_rate=0.25, score=-2004.620, total=   7.4s\n",
      "[CV] n_estimators=15, learning_rate=0.25 .............................\n",
      "0:\tlearn: 3859.3431679\ttotal: 42.8ms\tremaining: 600ms\n",
      "1:\tlearn: 3341.5639592\ttotal: 158ms\tremaining: 1.03s\n",
      "2:\tlearn: 2981.7546908\ttotal: 337ms\tremaining: 1.35s\n",
      "3:\tlearn: 2733.2334854\ttotal: 444ms\tremaining: 1.22s\n",
      "4:\tlearn: 2553.2014143\ttotal: 546ms\tremaining: 1.09s\n",
      "5:\tlearn: 2428.0078293\ttotal: 733ms\tremaining: 1.1s\n",
      "6:\tlearn: 2335.3973084\ttotal: 841ms\tremaining: 961ms\n",
      "7:\tlearn: 2264.6896799\ttotal: 948ms\tremaining: 830ms\n",
      "8:\tlearn: 2211.2060898\ttotal: 1.13s\tremaining: 754ms\n",
      "9:\tlearn: 2149.4276421\ttotal: 1.24s\tremaining: 618ms\n",
      "10:\tlearn: 2108.4769190\ttotal: 1.34s\tremaining: 489ms\n",
      "11:\tlearn: 2076.1731716\ttotal: 1.53s\tremaining: 382ms\n",
      "12:\tlearn: 2051.6736203\ttotal: 1.63s\tremaining: 251ms\n",
      "13:\tlearn: 2031.5838996\ttotal: 1.74s\tremaining: 124ms\n",
      "14:\tlearn: 2013.9458765\ttotal: 1.92s\tremaining: 0us\n",
      "[CV]  n_estimators=15, learning_rate=0.25, score=-2000.230, total=   7.6s\n",
      "[CV] n_estimators=15, learning_rate=0.25 .............................\n",
      "0:\tlearn: 3857.3022720\ttotal: 37ms\tremaining: 518ms\n",
      "1:\tlearn: 3338.6139297\ttotal: 145ms\tremaining: 944ms\n",
      "2:\tlearn: 2978.2955389\ttotal: 335ms\tremaining: 1.34s\n",
      "3:\tlearn: 2740.7249458\ttotal: 439ms\tremaining: 1.21s\n",
      "4:\tlearn: 2551.1498938\ttotal: 631ms\tremaining: 1.26s\n",
      "5:\tlearn: 2423.8398919\ttotal: 737ms\tremaining: 1.1s\n",
      "6:\tlearn: 2330.5055980\ttotal: 928ms\tremaining: 1.06s\n",
      "7:\tlearn: 2256.3400034\ttotal: 1.04s\tremaining: 908ms\n",
      "8:\tlearn: 2204.7781325\ttotal: 1.23s\tremaining: 818ms\n",
      "9:\tlearn: 2149.1900054\ttotal: 1.33s\tremaining: 666ms\n",
      "10:\tlearn: 2105.4052638\ttotal: 1.44s\tremaining: 523ms\n",
      "11:\tlearn: 2079.2635895\ttotal: 1.62s\tremaining: 406ms\n",
      "12:\tlearn: 2054.9389124\ttotal: 1.73s\tremaining: 266ms\n",
      "13:\tlearn: 2027.8370137\ttotal: 1.83s\tremaining: 131ms\n",
      "14:\tlearn: 2007.8734720\ttotal: 1.94s\tremaining: 0us\n",
      "[CV]  n_estimators=15, learning_rate=0.25, score=-2020.020, total=   7.7s\n",
      "[CV] n_estimators=25, learning_rate=0.25 .............................\n",
      "0:\tlearn: 3849.5849924\ttotal: 54.1ms\tremaining: 1.3s\n",
      "1:\tlearn: 3337.9680321\ttotal: 246ms\tremaining: 2.83s\n",
      "2:\tlearn: 2981.4947147\ttotal: 353ms\tremaining: 2.59s\n",
      "3:\tlearn: 2730.9618316\ttotal: 456ms\tremaining: 2.39s\n",
      "4:\tlearn: 2542.6806888\ttotal: 646ms\tremaining: 2.58s\n",
      "5:\tlearn: 2411.3665211\ttotal: 751ms\tremaining: 2.38s\n",
      "6:\tlearn: 2316.5471551\ttotal: 856ms\tremaining: 2.2s\n",
      "7:\tlearn: 2248.3780128\ttotal: 1.04s\tremaining: 2.22s\n",
      "8:\tlearn: 2183.2360712\ttotal: 1.15s\tremaining: 2.05s\n",
      "9:\tlearn: 2133.6424619\ttotal: 1.26s\tremaining: 1.89s\n",
      "10:\tlearn: 2097.8026315\ttotal: 1.45s\tremaining: 1.84s\n",
      "11:\tlearn: 2070.5305709\ttotal: 1.55s\tremaining: 1.68s\n",
      "12:\tlearn: 2039.6021480\ttotal: 1.74s\tremaining: 1.6s\n",
      "13:\tlearn: 2018.5877748\ttotal: 1.84s\tremaining: 1.45s\n",
      "14:\tlearn: 1999.7676612\ttotal: 1.95s\tremaining: 1.3s\n",
      "15:\tlearn: 1984.3726083\ttotal: 2.05s\tremaining: 1.15s\n",
      "16:\tlearn: 1965.0668833\ttotal: 2.24s\tremaining: 1.05s\n",
      "17:\tlearn: 1955.3016974\ttotal: 2.34s\tremaining: 910ms\n",
      "18:\tlearn: 1943.8356117\ttotal: 2.45s\tremaining: 773ms\n",
      "19:\tlearn: 1931.9138174\ttotal: 2.63s\tremaining: 659ms\n",
      "20:\tlearn: 1919.3634809\ttotal: 2.74s\tremaining: 522ms\n",
      "21:\tlearn: 1910.3254052\ttotal: 2.85s\tremaining: 388ms\n",
      "22:\tlearn: 1900.8890568\ttotal: 3.03s\tremaining: 264ms\n",
      "23:\tlearn: 1895.6041150\ttotal: 3.14s\tremaining: 131ms\n",
      "24:\tlearn: 1886.0442807\ttotal: 3.25s\tremaining: 0us\n",
      "[CV]  n_estimators=25, learning_rate=0.25, score=-1924.320, total=   8.8s\n",
      "[CV] n_estimators=25, learning_rate=0.25 .............................\n",
      "0:\tlearn: 3857.0526334\ttotal: 28.1ms\tremaining: 674ms\n",
      "1:\tlearn: 3347.5287253\ttotal: 130ms\tremaining: 1.49s\n",
      "2:\tlearn: 2977.2893559\ttotal: 320ms\tremaining: 2.35s\n",
      "3:\tlearn: 2733.5955025\ttotal: 425ms\tremaining: 2.23s\n",
      "4:\tlearn: 2558.3942708\ttotal: 536ms\tremaining: 2.14s\n",
      "5:\tlearn: 2433.0758360\ttotal: 743ms\tremaining: 2.35s\n",
      "6:\tlearn: 2335.5009291\ttotal: 827ms\tremaining: 2.13s\n",
      "7:\tlearn: 2262.1699558\ttotal: 1.01s\tremaining: 2.16s\n",
      "8:\tlearn: 2208.0926476\ttotal: 1.12s\tremaining: 1.99s\n",
      "9:\tlearn: 2151.8599934\ttotal: 1.23s\tremaining: 1.84s\n",
      "10:\tlearn: 2111.8177474\ttotal: 1.41s\tremaining: 1.8s\n",
      "11:\tlearn: 2084.8654662\ttotal: 1.51s\tremaining: 1.64s\n",
      "12:\tlearn: 2054.7560101\ttotal: 1.62s\tremaining: 1.5s\n",
      "13:\tlearn: 2033.1896909\ttotal: 1.81s\tremaining: 1.42s\n",
      "14:\tlearn: 2011.2729229\ttotal: 1.92s\tremaining: 1.28s\n",
      "15:\tlearn: 1995.0224407\ttotal: 2.02s\tremaining: 1.14s\n",
      "16:\tlearn: 1980.2010488\ttotal: 2.21s\tremaining: 1.04s\n",
      "17:\tlearn: 1968.8686119\ttotal: 2.32s\tremaining: 902ms\n",
      "18:\tlearn: 1960.2493292\ttotal: 2.42s\tremaining: 763ms\n",
      "19:\tlearn: 1945.4230513\ttotal: 2.52s\tremaining: 630ms\n",
      "20:\tlearn: 1936.6921670\ttotal: 2.71s\tremaining: 516ms\n",
      "21:\tlearn: 1926.1497380\ttotal: 2.81s\tremaining: 383ms\n",
      "22:\tlearn: 1917.0331370\ttotal: 2.92s\tremaining: 254ms\n",
      "23:\tlearn: 1910.8326960\ttotal: 3.1s\tremaining: 129ms\n",
      "24:\tlearn: 1903.1845359\ttotal: 3.21s\tremaining: 0us\n",
      "[CV]  n_estimators=25, learning_rate=0.25, score=-1904.920, total=   9.0s\n",
      "[CV] n_estimators=25, learning_rate=0.25 .............................\n",
      "0:\tlearn: 3870.1420965\ttotal: 74.4ms\tremaining: 1.78s\n",
      "1:\tlearn: 3362.5212818\ttotal: 178ms\tremaining: 2.04s\n",
      "2:\tlearn: 2979.3844389\ttotal: 378ms\tremaining: 2.77s\n",
      "3:\tlearn: 2731.0006777\ttotal: 473ms\tremaining: 2.48s\n",
      "4:\tlearn: 2549.8849428\ttotal: 576ms\tremaining: 2.31s\n",
      "5:\tlearn: 2414.5438386\ttotal: 767ms\tremaining: 2.43s\n",
      "6:\tlearn: 2311.7717480\ttotal: 871ms\tremaining: 2.24s\n",
      "7:\tlearn: 2246.5268497\ttotal: 980ms\tremaining: 2.08s\n",
      "8:\tlearn: 2190.1983330\ttotal: 1.16s\tremaining: 2.07s\n",
      "9:\tlearn: 2144.7852092\ttotal: 1.27s\tremaining: 1.91s\n",
      "10:\tlearn: 2103.7101630\ttotal: 1.46s\tremaining: 1.86s\n",
      "11:\tlearn: 2076.6627460\ttotal: 1.56s\tremaining: 1.69s\n",
      "12:\tlearn: 2051.8913624\ttotal: 1.67s\tremaining: 1.54s\n",
      "13:\tlearn: 2025.9874724\ttotal: 1.86s\tremaining: 1.46s\n",
      "14:\tlearn: 2009.2066405\ttotal: 1.96s\tremaining: 1.31s\n",
      "15:\tlearn: 1990.6282411\ttotal: 2.07s\tremaining: 1.16s\n",
      "16:\tlearn: 1977.1409967\ttotal: 2.25s\tremaining: 1.06s\n",
      "17:\tlearn: 1962.7310709\ttotal: 2.36s\tremaining: 918ms\n",
      "18:\tlearn: 1952.1944532\ttotal: 2.46s\tremaining: 778ms\n",
      "19:\tlearn: 1937.9039633\ttotal: 2.65s\tremaining: 663ms\n",
      "20:\tlearn: 1925.5527876\ttotal: 2.76s\tremaining: 525ms\n",
      "21:\tlearn: 1912.8839077\ttotal: 2.86s\tremaining: 390ms\n",
      "22:\tlearn: 1905.1231193\ttotal: 2.96s\tremaining: 258ms\n",
      "23:\tlearn: 1898.8533041\ttotal: 3.15s\tremaining: 131ms\n",
      "24:\tlearn: 1889.9094167\ttotal: 3.26s\tremaining: 0us\n",
      "[CV]  n_estimators=25, learning_rate=0.25, score=-1893.110, total=   8.9s\n",
      "[CV] n_estimators=25, learning_rate=0.25 .............................\n",
      "0:\tlearn: 3859.3431679\ttotal: 62.3ms\tremaining: 1.49s\n",
      "1:\tlearn: 3341.5639592\ttotal: 167ms\tremaining: 1.92s\n",
      "2:\tlearn: 2981.7546908\ttotal: 276ms\tremaining: 2.02s\n",
      "3:\tlearn: 2733.2334854\ttotal: 482ms\tremaining: 2.53s\n",
      "4:\tlearn: 2553.2014143\ttotal: 567ms\tremaining: 2.27s\n",
      "5:\tlearn: 2428.0078293\ttotal: 758ms\tremaining: 2.4s\n",
      "6:\tlearn: 2335.3973084\ttotal: 860ms\tremaining: 2.21s\n",
      "7:\tlearn: 2264.6896799\ttotal: 967ms\tremaining: 2.05s\n",
      "8:\tlearn: 2211.2060898\ttotal: 1.15s\tremaining: 2.05s\n",
      "9:\tlearn: 2149.4276421\ttotal: 1.26s\tremaining: 1.89s\n",
      "10:\tlearn: 2108.4769190\ttotal: 1.36s\tremaining: 1.73s\n",
      "11:\tlearn: 2076.1731716\ttotal: 1.55s\tremaining: 1.68s\n",
      "12:\tlearn: 2051.6736203\ttotal: 1.69s\tremaining: 1.55s\n",
      "13:\tlearn: 2031.5838996\ttotal: 1.76s\tremaining: 1.39s\n",
      "14:\tlearn: 2013.9458765\ttotal: 1.95s\tremaining: 1.3s\n",
      "15:\tlearn: 1990.6125523\ttotal: 2.05s\tremaining: 1.15s\n",
      "16:\tlearn: 1973.8932152\ttotal: 2.16s\tremaining: 1.01s\n",
      "17:\tlearn: 1963.3635875\ttotal: 2.34s\tremaining: 912ms\n",
      "18:\tlearn: 1952.8121374\ttotal: 2.45s\tremaining: 773ms\n",
      "19:\tlearn: 1942.3677856\ttotal: 2.57s\tremaining: 643ms\n",
      "20:\tlearn: 1930.2676488\ttotal: 2.66s\tremaining: 506ms\n",
      "21:\tlearn: 1923.0118016\ttotal: 2.84s\tremaining: 388ms\n",
      "22:\tlearn: 1914.5152418\ttotal: 2.95s\tremaining: 256ms\n",
      "23:\tlearn: 1908.0302826\ttotal: 3.05s\tremaining: 127ms\n",
      "24:\tlearn: 1901.8991834\ttotal: 3.24s\tremaining: 0us\n",
      "[CV]  n_estimators=25, learning_rate=0.25, score=-1891.510, total=   8.6s\n",
      "[CV] n_estimators=25, learning_rate=0.25 .............................\n",
      "0:\tlearn: 3857.3022720\ttotal: 94.6ms\tremaining: 2.27s\n",
      "1:\tlearn: 3338.6139297\ttotal: 200ms\tremaining: 2.3s\n",
      "2:\tlearn: 2978.2955389\ttotal: 398ms\tremaining: 2.92s\n",
      "3:\tlearn: 2740.7249458\ttotal: 494ms\tremaining: 2.6s\n",
      "4:\tlearn: 2551.1498938\ttotal: 599ms\tremaining: 2.4s\n",
      "5:\tlearn: 2423.8398919\ttotal: 788ms\tremaining: 2.5s\n",
      "6:\tlearn: 2330.5055980\ttotal: 896ms\tremaining: 2.3s\n",
      "7:\tlearn: 2256.3400034\ttotal: 997ms\tremaining: 2.12s\n",
      "8:\tlearn: 2204.7781325\ttotal: 1.19s\tremaining: 2.11s\n",
      "9:\tlearn: 2149.1900054\ttotal: 1.29s\tremaining: 1.94s\n",
      "10:\tlearn: 2105.4052638\ttotal: 1.4s\tremaining: 1.78s\n",
      "11:\tlearn: 2079.2635895\ttotal: 1.59s\tremaining: 1.73s\n",
      "12:\tlearn: 2054.9389124\ttotal: 1.71s\tremaining: 1.57s\n",
      "13:\tlearn: 2027.8370137\ttotal: 1.89s\tremaining: 1.48s\n",
      "14:\tlearn: 2007.8734720\ttotal: 1.98s\tremaining: 1.32s\n",
      "15:\tlearn: 1990.9330098\ttotal: 2.09s\tremaining: 1.18s\n",
      "16:\tlearn: 1980.2540172\ttotal: 2.19s\tremaining: 1.03s\n",
      "17:\tlearn: 1967.1877308\ttotal: 2.29s\tremaining: 890ms\n",
      "18:\tlearn: 1957.9345415\ttotal: 2.48s\tremaining: 782ms\n",
      "19:\tlearn: 1948.1549705\ttotal: 2.58s\tremaining: 646ms\n",
      "20:\tlearn: 1932.6527156\ttotal: 2.69s\tremaining: 512ms\n",
      "21:\tlearn: 1923.0908385\ttotal: 2.88s\tremaining: 393ms\n",
      "22:\tlearn: 1911.6726656\ttotal: 2.98s\tremaining: 259ms\n",
      "23:\tlearn: 1904.3445909\ttotal: 3.08s\tremaining: 128ms\n",
      "24:\tlearn: 1897.8328276\ttotal: 3.18s\tremaining: 0us\n",
      "[CV]  n_estimators=25, learning_rate=0.25, score=-1909.660, total=   8.8s\n",
      "[CV] n_estimators=10, learning_rate=0.25 .............................\n",
      "0:\tlearn: 3849.5849924\ttotal: 65.3ms\tremaining: 588ms\n",
      "1:\tlearn: 3337.9680321\ttotal: 171ms\tremaining: 685ms\n",
      "2:\tlearn: 2981.4947147\ttotal: 378ms\tremaining: 881ms\n",
      "3:\tlearn: 2730.9618316\ttotal: 472ms\tremaining: 707ms\n",
      "4:\tlearn: 2542.6806888\ttotal: 659ms\tremaining: 659ms\n",
      "5:\tlearn: 2411.3665211\ttotal: 765ms\tremaining: 510ms\n",
      "6:\tlearn: 2316.5471551\ttotal: 868ms\tremaining: 372ms\n",
      "7:\tlearn: 2248.3780128\ttotal: 1.05s\tremaining: 264ms\n",
      "8:\tlearn: 2183.2360712\ttotal: 1.16s\tremaining: 129ms\n",
      "9:\tlearn: 2133.6424619\ttotal: 1.27s\tremaining: 0us\n",
      "[CV]  n_estimators=10, learning_rate=0.25, score=-2168.970, total=   6.8s\n",
      "[CV] n_estimators=10, learning_rate=0.25 .............................\n",
      "0:\tlearn: 3857.0526334\ttotal: 73.9ms\tremaining: 665ms\n",
      "1:\tlearn: 3347.5287253\ttotal: 178ms\tremaining: 710ms\n",
      "2:\tlearn: 2977.2893559\ttotal: 366ms\tremaining: 855ms\n",
      "3:\tlearn: 2733.5955025\ttotal: 476ms\tremaining: 714ms\n",
      "4:\tlearn: 2558.3942708\ttotal: 583ms\tremaining: 583ms\n",
      "5:\tlearn: 2433.0758360\ttotal: 764ms\tremaining: 509ms\n",
      "6:\tlearn: 2335.5009291\ttotal: 877ms\tremaining: 376ms\n",
      "7:\tlearn: 2262.1699558\ttotal: 1.06s\tremaining: 266ms\n",
      "8:\tlearn: 2208.0926476\ttotal: 1.17s\tremaining: 130ms\n",
      "9:\tlearn: 2151.8599934\ttotal: 1.28s\tremaining: 0us\n",
      "[CV]  n_estimators=10, learning_rate=0.25, score=-2147.170, total=   7.2s\n",
      "[CV] n_estimators=10, learning_rate=0.25 .............................\n",
      "0:\tlearn: 3870.1420965\ttotal: 53.5ms\tremaining: 482ms\n",
      "1:\tlearn: 3362.5212818\ttotal: 159ms\tremaining: 635ms\n",
      "2:\tlearn: 2979.3844389\ttotal: 348ms\tremaining: 812ms\n",
      "3:\tlearn: 2731.0006777\ttotal: 449ms\tremaining: 674ms\n",
      "4:\tlearn: 2549.8849428\ttotal: 556ms\tremaining: 556ms\n",
      "5:\tlearn: 2414.5438386\ttotal: 659ms\tremaining: 439ms\n",
      "6:\tlearn: 2311.7717480\ttotal: 845ms\tremaining: 362ms\n",
      "7:\tlearn: 2246.5268497\ttotal: 948ms\tremaining: 237ms\n",
      "8:\tlearn: 2190.1983330\ttotal: 1.05s\tremaining: 117ms\n",
      "9:\tlearn: 2144.7852092\ttotal: 1.24s\tremaining: 0us\n",
      "[CV]  n_estimators=10, learning_rate=0.25, score=-2137.460, total=   6.7s\n",
      "[CV] n_estimators=10, learning_rate=0.25 .............................\n",
      "0:\tlearn: 3859.3431679\ttotal: 92.7ms\tremaining: 834ms\n",
      "1:\tlearn: 3341.5639592\ttotal: 197ms\tremaining: 787ms\n",
      "2:\tlearn: 2981.7546908\ttotal: 299ms\tremaining: 698ms\n",
      "3:\tlearn: 2733.2334854\ttotal: 487ms\tremaining: 731ms\n",
      "4:\tlearn: 2553.2014143\ttotal: 605ms\tremaining: 605ms\n",
      "5:\tlearn: 2428.0078293\ttotal: 783ms\tremaining: 522ms\n",
      "6:\tlearn: 2335.3973084\ttotal: 892ms\tremaining: 382ms\n",
      "7:\tlearn: 2264.6896799\ttotal: 995ms\tremaining: 249ms\n",
      "8:\tlearn: 2211.2060898\ttotal: 1.19s\tremaining: 132ms\n",
      "9:\tlearn: 2149.4276421\ttotal: 1.29s\tremaining: 0us\n",
      "[CV]  n_estimators=10, learning_rate=0.25, score=-2134.750, total=   6.7s\n",
      "[CV] n_estimators=10, learning_rate=0.25 .............................\n",
      "0:\tlearn: 3857.3022720\ttotal: 103ms\tremaining: 924ms\n",
      "1:\tlearn: 3338.6139297\ttotal: 208ms\tremaining: 832ms\n",
      "2:\tlearn: 2978.2955389\ttotal: 398ms\tremaining: 928ms\n",
      "3:\tlearn: 2740.7249458\ttotal: 502ms\tremaining: 753ms\n",
      "4:\tlearn: 2551.1498938\ttotal: 607ms\tremaining: 607ms\n",
      "5:\tlearn: 2423.8398919\ttotal: 795ms\tremaining: 530ms\n",
      "6:\tlearn: 2330.5055980\ttotal: 902ms\tremaining: 386ms\n",
      "7:\tlearn: 2256.3400034\ttotal: 1.09s\tremaining: 273ms\n",
      "8:\tlearn: 2204.7781325\ttotal: 1.19s\tremaining: 133ms\n",
      "9:\tlearn: 2149.1900054\ttotal: 1.3s\tremaining: 0us\n",
      "[CV]  n_estimators=10, learning_rate=0.25, score=-2158.230, total=   6.9s\n",
      "[CV] n_estimators=20, learning_rate=0.25 .............................\n",
      "0:\tlearn: 3849.5849924\ttotal: 37.7ms\tremaining: 716ms\n",
      "1:\tlearn: 3337.9680321\ttotal: 137ms\tremaining: 1.24s\n",
      "2:\tlearn: 2981.4947147\ttotal: 325ms\tremaining: 1.84s\n",
      "3:\tlearn: 2730.9618316\ttotal: 428ms\tremaining: 1.71s\n",
      "4:\tlearn: 2542.6806888\ttotal: 532ms\tremaining: 1.6s\n",
      "5:\tlearn: 2411.3665211\ttotal: 719ms\tremaining: 1.68s\n",
      "6:\tlearn: 2316.5471551\ttotal: 826ms\tremaining: 1.53s\n",
      "7:\tlearn: 2248.3780128\ttotal: 930ms\tremaining: 1.39s\n",
      "8:\tlearn: 2183.2360712\ttotal: 1.12s\tremaining: 1.37s\n",
      "9:\tlearn: 2133.6424619\ttotal: 1.22s\tremaining: 1.22s\n",
      "10:\tlearn: 2097.8026315\ttotal: 1.32s\tremaining: 1.08s\n",
      "11:\tlearn: 2070.5305709\ttotal: 1.51s\tremaining: 1.01s\n",
      "12:\tlearn: 2039.6021480\ttotal: 1.62s\tremaining: 870ms\n",
      "13:\tlearn: 2018.5877748\ttotal: 1.72s\tremaining: 737ms\n",
      "14:\tlearn: 1999.7676612\ttotal: 1.82s\tremaining: 608ms\n",
      "15:\tlearn: 1984.3726083\ttotal: 2.01s\tremaining: 503ms\n",
      "16:\tlearn: 1965.0668833\ttotal: 2.12s\tremaining: 373ms\n",
      "17:\tlearn: 1955.3016974\ttotal: 2.22s\tremaining: 247ms\n",
      "18:\tlearn: 1943.8356117\ttotal: 2.41s\tremaining: 127ms\n",
      "19:\tlearn: 1931.9138174\ttotal: 2.51s\tremaining: 0us\n",
      "[CV]  n_estimators=20, learning_rate=0.25, score=-1970.280, total=   8.2s\n",
      "[CV] n_estimators=20, learning_rate=0.25 .............................\n",
      "0:\tlearn: 3857.0526334\ttotal: 55ms\tremaining: 1.04s\n",
      "1:\tlearn: 3347.5287253\ttotal: 156ms\tremaining: 1.4s\n",
      "2:\tlearn: 2977.2893559\ttotal: 343ms\tremaining: 1.95s\n",
      "3:\tlearn: 2733.5955025\ttotal: 449ms\tremaining: 1.8s\n",
      "4:\tlearn: 2558.3942708\ttotal: 552ms\tremaining: 1.66s\n",
      "5:\tlearn: 2433.0758360\ttotal: 739ms\tremaining: 1.72s\n",
      "6:\tlearn: 2335.5009291\ttotal: 848ms\tremaining: 1.57s\n",
      "7:\tlearn: 2262.1699558\ttotal: 951ms\tremaining: 1.43s\n",
      "8:\tlearn: 2208.0926476\ttotal: 1.14s\tremaining: 1.39s\n",
      "9:\tlearn: 2151.8599934\ttotal: 1.24s\tremaining: 1.24s\n",
      "10:\tlearn: 2111.8177474\ttotal: 1.35s\tremaining: 1.1s\n",
      "11:\tlearn: 2084.8654662\ttotal: 1.53s\tremaining: 1.02s\n",
      "12:\tlearn: 2054.7560101\ttotal: 1.64s\tremaining: 882ms\n",
      "13:\tlearn: 2033.1896909\ttotal: 1.77s\tremaining: 761ms\n",
      "14:\tlearn: 2011.2729229\ttotal: 1.93s\tremaining: 644ms\n",
      "15:\tlearn: 1995.0224407\ttotal: 2.04s\tremaining: 509ms\n",
      "16:\tlearn: 1980.2010488\ttotal: 2.14s\tremaining: 378ms\n",
      "17:\tlearn: 1968.8686119\ttotal: 2.33s\tremaining: 259ms\n",
      "18:\tlearn: 1960.2493292\ttotal: 2.44s\tremaining: 128ms\n",
      "19:\tlearn: 1945.4230513\ttotal: 2.54s\tremaining: 0us\n",
      "[CV]  n_estimators=20, learning_rate=0.25, score=-1944.810, total=   8.0s\n",
      "[CV] n_estimators=20, learning_rate=0.25 .............................\n",
      "0:\tlearn: 3870.1420965\ttotal: 65.4ms\tremaining: 1.24s\n",
      "1:\tlearn: 3362.5212818\ttotal: 169ms\tremaining: 1.52s\n",
      "2:\tlearn: 2979.3844389\ttotal: 359ms\tremaining: 2.04s\n",
      "3:\tlearn: 2731.0006777\ttotal: 464ms\tremaining: 1.85s\n",
      "4:\tlearn: 2549.8849428\ttotal: 657ms\tremaining: 1.97s\n",
      "5:\tlearn: 2414.5438386\ttotal: 762ms\tremaining: 1.78s\n",
      "6:\tlearn: 2311.7717480\ttotal: 868ms\tremaining: 1.61s\n",
      "7:\tlearn: 2246.5268497\ttotal: 1.06s\tremaining: 1.58s\n",
      "8:\tlearn: 2190.1983330\ttotal: 1.16s\tremaining: 1.42s\n",
      "9:\tlearn: 2144.7852092\ttotal: 1.27s\tremaining: 1.27s\n",
      "10:\tlearn: 2103.7101630\ttotal: 1.45s\tremaining: 1.19s\n",
      "11:\tlearn: 2076.6627460\ttotal: 1.56s\tremaining: 1.04s\n",
      "12:\tlearn: 2051.8913624\ttotal: 1.66s\tremaining: 896ms\n",
      "13:\tlearn: 2025.9874724\ttotal: 1.85s\tremaining: 794ms\n",
      "14:\tlearn: 2009.2066405\ttotal: 1.96s\tremaining: 653ms\n",
      "15:\tlearn: 1990.6282411\ttotal: 2.15s\tremaining: 537ms\n",
      "16:\tlearn: 1977.1409967\ttotal: 2.25s\tremaining: 398ms\n",
      "17:\tlearn: 1962.7310709\ttotal: 2.36s\tremaining: 262ms\n",
      "18:\tlearn: 1952.1944532\ttotal: 2.54s\tremaining: 134ms\n",
      "19:\tlearn: 1937.9039633\ttotal: 2.65s\tremaining: 0us\n",
      "[CV]  n_estimators=20, learning_rate=0.25, score=-1938.390, total=   8.0s\n",
      "[CV] n_estimators=20, learning_rate=0.25 .............................\n",
      "0:\tlearn: 3859.3431679\ttotal: 70.6ms\tremaining: 1.34s\n",
      "1:\tlearn: 3341.5639592\ttotal: 175ms\tremaining: 1.57s\n",
      "2:\tlearn: 2981.7546908\ttotal: 366ms\tremaining: 2.07s\n",
      "3:\tlearn: 2733.2334854\ttotal: 494ms\tremaining: 1.97s\n",
      "4:\tlearn: 2553.2014143\ttotal: 576ms\tremaining: 1.73s\n",
      "5:\tlearn: 2428.0078293\ttotal: 763ms\tremaining: 1.78s\n",
      "6:\tlearn: 2335.3973084\ttotal: 867ms\tremaining: 1.61s\n",
      "7:\tlearn: 2264.6896799\ttotal: 971ms\tremaining: 1.46s\n",
      "8:\tlearn: 2211.2060898\ttotal: 1.16s\tremaining: 1.42s\n",
      "9:\tlearn: 2149.4276421\ttotal: 1.26s\tremaining: 1.26s\n",
      "10:\tlearn: 2108.4769190\ttotal: 1.37s\tremaining: 1.12s\n",
      "11:\tlearn: 2076.1731716\ttotal: 1.56s\tremaining: 1.04s\n",
      "12:\tlearn: 2051.6736203\ttotal: 1.66s\tremaining: 897ms\n",
      "13:\tlearn: 2031.5838996\ttotal: 1.77s\tremaining: 758ms\n",
      "14:\tlearn: 2013.9458765\ttotal: 1.96s\tremaining: 653ms\n",
      "15:\tlearn: 1990.6125523\ttotal: 2.06s\tremaining: 515ms\n",
      "16:\tlearn: 1973.8932152\ttotal: 2.17s\tremaining: 382ms\n",
      "17:\tlearn: 1963.3635875\ttotal: 2.35s\tremaining: 262ms\n",
      "18:\tlearn: 1952.8121374\ttotal: 2.46s\tremaining: 129ms\n",
      "19:\tlearn: 1942.3677856\ttotal: 2.56s\tremaining: 0us\n",
      "[CV]  n_estimators=20, learning_rate=0.25, score=-1931.250, total=   8.4s\n",
      "[CV] n_estimators=20, learning_rate=0.25 .............................\n",
      "0:\tlearn: 3857.3022720\ttotal: 50.5ms\tremaining: 960ms\n",
      "1:\tlearn: 3338.6139297\ttotal: 156ms\tremaining: 1.41s\n",
      "2:\tlearn: 2978.2955389\ttotal: 345ms\tremaining: 1.95s\n",
      "3:\tlearn: 2740.7249458\ttotal: 449ms\tremaining: 1.8s\n",
      "4:\tlearn: 2551.1498938\ttotal: 640ms\tremaining: 1.92s\n",
      "5:\tlearn: 2423.8398919\ttotal: 744ms\tremaining: 1.74s\n",
      "6:\tlearn: 2330.5055980\ttotal: 850ms\tremaining: 1.58s\n",
      "7:\tlearn: 2256.3400034\ttotal: 1.04s\tremaining: 1.56s\n",
      "8:\tlearn: 2204.7781325\ttotal: 1.14s\tremaining: 1.4s\n",
      "9:\tlearn: 2149.1900054\ttotal: 1.25s\tremaining: 1.25s\n",
      "10:\tlearn: 2105.4052638\ttotal: 1.44s\tremaining: 1.18s\n",
      "11:\tlearn: 2079.2635895\ttotal: 1.54s\tremaining: 1.03s\n",
      "12:\tlearn: 2054.9389124\ttotal: 1.65s\tremaining: 887ms\n",
      "13:\tlearn: 2027.8370137\ttotal: 1.83s\tremaining: 787ms\n",
      "14:\tlearn: 2007.8734720\ttotal: 1.94s\tremaining: 646ms\n",
      "15:\tlearn: 1990.9330098\ttotal: 2.04s\tremaining: 511ms\n",
      "16:\tlearn: 1980.2540172\ttotal: 2.17s\tremaining: 383ms\n",
      "17:\tlearn: 1967.1877308\ttotal: 2.33s\tremaining: 259ms\n",
      "18:\tlearn: 1957.9345415\ttotal: 2.44s\tremaining: 128ms\n",
      "19:\tlearn: 1948.1549705\ttotal: 2.54s\tremaining: 0us\n",
      "[CV]  n_estimators=20, learning_rate=0.25, score=-1958.690, total=   8.2s\n"
     ]
    },
    {
     "name": "stderr",
     "output_type": "stream",
     "text": [
      "[Parallel(n_jobs=1)]: Done  50 out of  50 | elapsed:  6.5min finished\n"
     ]
    },
    {
     "name": "stdout",
     "output_type": "stream",
     "text": [
      "0:\tlearn: 2828.7660023\ttotal: 59.3ms\tremaining: 1.42s\n",
      "1:\tlearn: 2455.7443839\ttotal: 248ms\tremaining: 2.85s\n",
      "2:\tlearn: 2276.0639037\ttotal: 357ms\tremaining: 2.62s\n",
      "3:\tlearn: 2174.8998719\ttotal: 549ms\tremaining: 2.88s\n",
      "4:\tlearn: 2121.0216861\ttotal: 659ms\tremaining: 2.64s\n",
      "5:\tlearn: 2071.8607803\ttotal: 852ms\tremaining: 2.7s\n",
      "6:\tlearn: 2027.2965487\ttotal: 958ms\tremaining: 2.46s\n",
      "7:\tlearn: 1988.5164500\ttotal: 1.15s\tremaining: 2.44s\n",
      "8:\tlearn: 1956.8783102\ttotal: 1.25s\tremaining: 2.23s\n",
      "9:\tlearn: 1938.2167870\ttotal: 1.45s\tremaining: 2.17s\n",
      "10:\tlearn: 1921.0319750\ttotal: 1.56s\tremaining: 1.98s\n",
      "11:\tlearn: 1907.4844304\ttotal: 1.75s\tremaining: 1.89s\n",
      "12:\tlearn: 1898.6240839\ttotal: 1.86s\tremaining: 1.71s\n",
      "13:\tlearn: 1884.4521546\ttotal: 2.06s\tremaining: 1.62s\n",
      "14:\tlearn: 1871.9938733\ttotal: 2.17s\tremaining: 1.44s\n",
      "15:\tlearn: 1862.2852177\ttotal: 2.35s\tremaining: 1.32s\n",
      "16:\tlearn: 1846.6990558\ttotal: 2.45s\tremaining: 1.15s\n",
      "17:\tlearn: 1839.7884012\ttotal: 2.64s\tremaining: 1.03s\n",
      "18:\tlearn: 1833.2904967\ttotal: 2.76s\tremaining: 872ms\n",
      "19:\tlearn: 1825.2490583\ttotal: 2.94s\tremaining: 735ms\n",
      "20:\tlearn: 1820.8683934\ttotal: 3.05s\tremaining: 581ms\n",
      "21:\tlearn: 1812.4458587\ttotal: 3.24s\tremaining: 442ms\n",
      "22:\tlearn: 1806.7070947\ttotal: 3.35s\tremaining: 291ms\n",
      "23:\tlearn: 1800.9091738\ttotal: 3.55s\tremaining: 148ms\n",
      "24:\tlearn: 1793.8252902\ttotal: 3.65s\tremaining: 0us\n",
      "CatBoost with OHE\n",
      "Best parameters: {'n_estimators': 25, 'learning_rate': 0.75}\n",
      "RMSE: 1814.42\n",
      "CPU times: user 5min 13s, sys: 27.8 s, total: 5min 41s\n",
      "Wall time: 6min 37s\n"
     ]
    }
   ],
   "source": [
    "%%time\n",
    "# CatBoost with OHE\n",
    "cb_model = CatBoostRegressor(random_state=42)\n",
    "params = { 'n_estimators': range(10, 30, 5), 'learning_rate': [.25, .5, .75] }\n",
    "\n",
    "best_model = RandomizedSearchCV(cb_model, params, scoring=rmse, cv=5, verbose=10)\n",
    "best_model.fit(features_train, target_train) \n",
    "predictions = best_model.best_estimator_.predict(features_valid)\n",
    "\n",
    "print('CatBoost with OHE')\n",
    "print('Best parameters:', best_model.best_params_)\n",
    "print('RMSE:', round(mean_squared_error(target_valid, predictions) ** 0.5, 2))"
   ]
  },
  {
   "cell_type": "markdown",
   "metadata": {},
   "source": [
    "__Tuning for CatBoost with OHE__\n",
    "\n",
    "CatBoost with OHE\n",
    "\n",
    "Best parameters: {'n_estimators': 25, 'learning_rate': 0.75}\n",
    "\n",
    "RMSE: 1814.42\n",
    "\n",
    "CPU times: user 5min 24s, sys: 27.8 s, total: 5min 52s\n",
    "\n",
    "Wall time: 6min 46s"
   ]
  },
  {
   "cell_type": "code",
   "execution_count": 75,
   "metadata": {},
   "outputs": [
    {
     "name": "stdout",
     "output_type": "stream",
     "text": [
      "Fitting 5 folds for each of 10 candidates, totalling 50 fits\n",
      "[CV] n_estimators=20, learning_rate=0.25 .............................\n"
     ]
    },
    {
     "name": "stderr",
     "output_type": "stream",
     "text": [
      "[Parallel(n_jobs=1)]: Using backend SequentialBackend with 1 concurrent workers.\n"
     ]
    },
    {
     "name": "stdout",
     "output_type": "stream",
     "text": [
      "[CV]  n_estimators=20, learning_rate=0.25, score=-1819.550, total=  47.8s\n",
      "[CV] n_estimators=20, learning_rate=0.25 .............................\n"
     ]
    },
    {
     "name": "stderr",
     "output_type": "stream",
     "text": [
      "[Parallel(n_jobs=1)]: Done   1 out of   1 | elapsed:   47.8s remaining:    0.0s\n"
     ]
    },
    {
     "name": "stdout",
     "output_type": "stream",
     "text": [
      "[CV]  n_estimators=20, learning_rate=0.25, score=-1783.630, total=  56.4s\n",
      "[CV] n_estimators=20, learning_rate=0.25 .............................\n"
     ]
    },
    {
     "name": "stderr",
     "output_type": "stream",
     "text": [
      "[Parallel(n_jobs=1)]: Done   2 out of   2 | elapsed:  1.7min remaining:    0.0s\n"
     ]
    },
    {
     "name": "stdout",
     "output_type": "stream",
     "text": [
      "[CV]  n_estimators=20, learning_rate=0.25, score=-1795.880, total= 1.5min\n",
      "[CV] n_estimators=20, learning_rate=0.25 .............................\n"
     ]
    },
    {
     "name": "stderr",
     "output_type": "stream",
     "text": [
      "[Parallel(n_jobs=1)]: Done   3 out of   3 | elapsed:  3.2min remaining:    0.0s\n"
     ]
    },
    {
     "name": "stdout",
     "output_type": "stream",
     "text": [
      "[CV]  n_estimators=20, learning_rate=0.25, score=-1772.030, total=  51.5s\n",
      "[CV] n_estimators=20, learning_rate=0.25 .............................\n"
     ]
    },
    {
     "name": "stderr",
     "output_type": "stream",
     "text": [
      "[Parallel(n_jobs=1)]: Done   4 out of   4 | elapsed:  4.0min remaining:    0.0s\n"
     ]
    },
    {
     "name": "stdout",
     "output_type": "stream",
     "text": [
      "[CV]  n_estimators=20, learning_rate=0.25, score=-1788.610, total=  43.7s\n",
      "[CV] n_estimators=10, learning_rate=0.25 .............................\n"
     ]
    },
    {
     "name": "stderr",
     "output_type": "stream",
     "text": [
      "[Parallel(n_jobs=1)]: Done   5 out of   5 | elapsed:  4.8min remaining:    0.0s\n"
     ]
    },
    {
     "name": "stdout",
     "output_type": "stream",
     "text": [
      "[CV]  n_estimators=10, learning_rate=0.25, score=-1995.890, total=  28.3s\n",
      "[CV] n_estimators=10, learning_rate=0.25 .............................\n"
     ]
    },
    {
     "name": "stderr",
     "output_type": "stream",
     "text": [
      "[Parallel(n_jobs=1)]: Done   6 out of   6 | elapsed:  5.2min remaining:    0.0s\n"
     ]
    },
    {
     "name": "stdout",
     "output_type": "stream",
     "text": [
      "[CV]  n_estimators=10, learning_rate=0.25, score=-1949.310, total=  42.8s\n",
      "[CV] n_estimators=10, learning_rate=0.25 .............................\n"
     ]
    },
    {
     "name": "stderr",
     "output_type": "stream",
     "text": [
      "[Parallel(n_jobs=1)]: Done   7 out of   7 | elapsed:  6.0min remaining:    0.0s\n"
     ]
    },
    {
     "name": "stdout",
     "output_type": "stream",
     "text": [
      "[CV]  n_estimators=10, learning_rate=0.25, score=-1966.020, total= 1.0min\n",
      "[CV] n_estimators=10, learning_rate=0.25 .............................\n"
     ]
    },
    {
     "name": "stderr",
     "output_type": "stream",
     "text": [
      "[Parallel(n_jobs=1)]: Done   8 out of   8 | elapsed:  7.0min remaining:    0.0s\n"
     ]
    },
    {
     "name": "stdout",
     "output_type": "stream",
     "text": [
      "[CV]  n_estimators=10, learning_rate=0.25, score=-1949.580, total=  27.3s\n",
      "[CV] n_estimators=10, learning_rate=0.25 .............................\n"
     ]
    },
    {
     "name": "stderr",
     "output_type": "stream",
     "text": [
      "[Parallel(n_jobs=1)]: Done   9 out of   9 | elapsed:  7.4min remaining:    0.0s\n"
     ]
    },
    {
     "name": "stdout",
     "output_type": "stream",
     "text": [
      "[CV]  n_estimators=10, learning_rate=0.25, score=-1959.310, total=  26.9s\n",
      "[CV] n_estimators=20, learning_rate=0.5 ..............................\n",
      "[CV]  n_estimators=20, learning_rate=0.5, score=-1776.350, total= 1.1min\n",
      "[CV] n_estimators=20, learning_rate=0.5 ..............................\n",
      "[CV]  n_estimators=20, learning_rate=0.5, score=-1746.610, total= 1.8min\n",
      "[CV] n_estimators=20, learning_rate=0.5 ..............................\n",
      "[CV]  n_estimators=20, learning_rate=0.5, score=-1754.180, total=  50.6s\n",
      "[CV] n_estimators=20, learning_rate=0.5 ..............................\n",
      "[CV]  n_estimators=20, learning_rate=0.5, score=-1719.620, total= 1.0min\n",
      "[CV] n_estimators=20, learning_rate=0.5 ..............................\n",
      "[CV]  n_estimators=20, learning_rate=0.5, score=-1753.660, total=  56.0s\n",
      "[CV] n_estimators=10, learning_rate=0.5 ..............................\n",
      "[CV]  n_estimators=10, learning_rate=0.5, score=-1863.720, total=  30.8s\n",
      "[CV] n_estimators=10, learning_rate=0.5 ..............................\n",
      "[CV]  n_estimators=10, learning_rate=0.5, score=-1814.250, total=  38.8s\n",
      "[CV] n_estimators=10, learning_rate=0.5 ..............................\n",
      "[CV]  n_estimators=10, learning_rate=0.5, score=-1834.780, total=  28.8s\n",
      "[CV] n_estimators=10, learning_rate=0.5 ..............................\n",
      "[CV]  n_estimators=10, learning_rate=0.5, score=-1801.440, total=  34.9s\n",
      "[CV] n_estimators=10, learning_rate=0.5 ..............................\n",
      "[CV]  n_estimators=10, learning_rate=0.5, score=-1824.870, total=  30.4s\n",
      "[CV] n_estimators=25, learning_rate=0.75 .............................\n",
      "[CV]  n_estimators=25, learning_rate=0.75, score=-1763.860, total= 1.4min\n",
      "[CV] n_estimators=25, learning_rate=0.75 .............................\n",
      "[CV]  n_estimators=25, learning_rate=0.75, score=-1708.390, total=  57.8s\n",
      "[CV] n_estimators=25, learning_rate=0.75 .............................\n",
      "[CV]  n_estimators=25, learning_rate=0.75, score=-1736.950, total=  56.8s\n",
      "[CV] n_estimators=25, learning_rate=0.75 .............................\n",
      "[CV]  n_estimators=25, learning_rate=0.75, score=-1712.110, total=  55.2s\n",
      "[CV] n_estimators=25, learning_rate=0.75 .............................\n",
      "[CV]  n_estimators=25, learning_rate=0.75, score=-1748.560, total=  27.6s\n",
      "[CV] n_estimators=25, learning_rate=0.5 ..............................\n",
      "[CV]  n_estimators=25, learning_rate=0.5, score=-1758.860, total=   4.6s\n",
      "[CV] n_estimators=25, learning_rate=0.5 ..............................\n",
      "[CV]  n_estimators=25, learning_rate=0.5, score=-1723.590, total=   4.5s\n",
      "[CV] n_estimators=25, learning_rate=0.5 ..............................\n",
      "[CV]  n_estimators=25, learning_rate=0.5, score=-1740.320, total=   4.7s\n",
      "[CV] n_estimators=25, learning_rate=0.5 ..............................\n",
      "[CV]  n_estimators=25, learning_rate=0.5, score=-1700.640, total=   4.6s\n",
      "[CV] n_estimators=25, learning_rate=0.5 ..............................\n",
      "[CV]  n_estimators=25, learning_rate=0.5, score=-1729.590, total=   4.6s\n",
      "[CV] n_estimators=20, learning_rate=0.75 .............................\n",
      "[CV]  n_estimators=20, learning_rate=0.75, score=-1781.860, total=   4.4s\n",
      "[CV] n_estimators=20, learning_rate=0.75 .............................\n",
      "[CV]  n_estimators=20, learning_rate=0.75, score=-1725.300, total=   7.9s\n",
      "[CV] n_estimators=20, learning_rate=0.75 .............................\n",
      "[CV]  n_estimators=20, learning_rate=0.75, score=-1751.640, total=   5.1s\n",
      "[CV] n_estimators=20, learning_rate=0.75 .............................\n",
      "[CV]  n_estimators=20, learning_rate=0.75, score=-1737.610, total=   5.2s\n",
      "[CV] n_estimators=20, learning_rate=0.75 .............................\n",
      "[CV]  n_estimators=20, learning_rate=0.75, score=-1769.720, total=   4.2s\n",
      "[CV] n_estimators=10, learning_rate=0.75 .............................\n",
      "[CV]  n_estimators=10, learning_rate=0.75, score=-1857.610, total=   3.4s\n",
      "[CV] n_estimators=10, learning_rate=0.75 .............................\n",
      "[CV]  n_estimators=10, learning_rate=0.75, score=-1812.800, total=   3.5s\n",
      "[CV] n_estimators=10, learning_rate=0.75 .............................\n",
      "[CV]  n_estimators=10, learning_rate=0.75, score=-1821.050, total=   3.6s\n",
      "[CV] n_estimators=10, learning_rate=0.75 .............................\n",
      "[CV]  n_estimators=10, learning_rate=0.75, score=-1799.600, total=   3.6s\n",
      "[CV] n_estimators=10, learning_rate=0.75 .............................\n",
      "[CV]  n_estimators=10, learning_rate=0.75, score=-1824.680, total=   3.6s\n",
      "[CV] n_estimators=15, learning_rate=0.25 .............................\n",
      "[CV]  n_estimators=15, learning_rate=0.25, score=-1871.850, total=   4.1s\n",
      "[CV] n_estimators=15, learning_rate=0.25 .............................\n",
      "[CV]  n_estimators=15, learning_rate=0.25, score=-1835.750, total=   4.1s\n",
      "[CV] n_estimators=15, learning_rate=0.25 .............................\n",
      "[CV]  n_estimators=15, learning_rate=0.25, score=-1847.980, total=   3.8s\n",
      "[CV] n_estimators=15, learning_rate=0.25 .............................\n",
      "[CV]  n_estimators=15, learning_rate=0.25, score=-1826.800, total=   3.9s\n",
      "[CV] n_estimators=15, learning_rate=0.25 .............................\n",
      "[CV]  n_estimators=15, learning_rate=0.25, score=-1840.990, total=   4.0s\n",
      "[CV] n_estimators=15, learning_rate=0.5 ..............................\n",
      "[CV]  n_estimators=15, learning_rate=0.5, score=-1803.280, total=   4.1s\n",
      "[CV] n_estimators=15, learning_rate=0.5 ..............................\n",
      "[CV]  n_estimators=15, learning_rate=0.5, score=-1766.770, total=   4.1s\n",
      "[CV] n_estimators=15, learning_rate=0.5 ..............................\n",
      "[CV]  n_estimators=15, learning_rate=0.5, score=-1783.770, total=   4.1s\n",
      "[CV] n_estimators=15, learning_rate=0.5 ..............................\n",
      "[CV]  n_estimators=15, learning_rate=0.5, score=-1752.640, total=   3.9s\n",
      "[CV] n_estimators=15, learning_rate=0.5 ..............................\n",
      "[CV]  n_estimators=15, learning_rate=0.5, score=-1775.360, total=   4.2s\n"
     ]
    },
    {
     "name": "stderr",
     "output_type": "stream",
     "text": [
      "[Parallel(n_jobs=1)]: Done  50 out of  50 | elapsed: 22.9min finished\n"
     ]
    },
    {
     "name": "stdout",
     "output_type": "stream",
     "text": [
      "LightGBM with OHE\n",
      "Best parameters: {'n_estimators': 25, 'learning_rate': 0.5}\n",
      "RMSE: 1731.09\n",
      "CPU times: user 22min 25s, sys: 20.5 s, total: 22min 45s\n",
      "Wall time: 22min 56s\n"
     ]
    }
   ],
   "source": [
    "%%time\n",
    "# LIghtGBM with OHE\n",
    "lg_model = lgb.LGBMRegressor(random_state=42)\n",
    "params = { 'n_estimators': range(10, 30, 5), 'learning_rate': [.25, .5, .75] }\n",
    "\n",
    "best_model = RandomizedSearchCV(lg_model, params, scoring=rmse, cv=5, verbose=10)\n",
    "best_model.fit(features_train, target_train) \n",
    "predictions = best_model.best_estimator_.predict(features_valid)\n",
    "\n",
    "print('LightGBM with OHE')\n",
    "print('Best parameters:', best_model.best_params_)\n",
    "print('RMSE:', round(mean_squared_error(target_valid, predictions) ** 0.5, 2))"
   ]
  },
  {
   "cell_type": "markdown",
   "metadata": {},
   "source": [
    "__Tuning for LightGBM with OHE__\n",
    "\n",
    "LightGBM with OHE\n",
    "\n",
    "Best parameters: {'n_estimators': 25, 'learning_rate': 0.5}\n",
    "\n",
    "RMSE: 1731.08\n",
    "\n",
    "CPU times: user 3min 14s, sys: 14.1 s, total: 3min 28s\n",
    "\n",
    "Wall time: 3min 30s\n"
   ]
  },
  {
   "cell_type": "code",
   "execution_count": 76,
   "metadata": {},
   "outputs": [
    {
     "name": "stdout",
     "output_type": "stream",
     "text": [
      "Fitting 5 folds for each of 10 candidates, totalling 50 fits\n",
      "[CV] n_estimators=20, learning_rate=0.25 .............................\n"
     ]
    },
    {
     "name": "stderr",
     "output_type": "stream",
     "text": [
      "[Parallel(n_jobs=1)]: Using backend SequentialBackend with 1 concurrent workers.\n"
     ]
    },
    {
     "name": "stdout",
     "output_type": "stream",
     "text": [
      "[CV]  n_estimators=20, learning_rate=0.25, score=-1722.390, total=   3.1s\n",
      "[CV] n_estimators=20, learning_rate=0.25 .............................\n"
     ]
    },
    {
     "name": "stderr",
     "output_type": "stream",
     "text": [
      "[Parallel(n_jobs=1)]: Done   1 out of   1 | elapsed:    3.1s remaining:    0.0s\n"
     ]
    },
    {
     "name": "stdout",
     "output_type": "stream",
     "text": [
      "[CV]  n_estimators=20, learning_rate=0.25, score=-1692.810, total=   2.1s\n",
      "[CV] n_estimators=20, learning_rate=0.25 .............................\n"
     ]
    },
    {
     "name": "stderr",
     "output_type": "stream",
     "text": [
      "[Parallel(n_jobs=1)]: Done   2 out of   2 | elapsed:    5.2s remaining:    0.0s\n"
     ]
    },
    {
     "name": "stdout",
     "output_type": "stream",
     "text": [
      "[CV]  n_estimators=20, learning_rate=0.25, score=-1700.010, total=   2.0s\n",
      "[CV] n_estimators=20, learning_rate=0.25 .............................\n"
     ]
    },
    {
     "name": "stderr",
     "output_type": "stream",
     "text": [
      "[Parallel(n_jobs=1)]: Done   3 out of   3 | elapsed:    7.2s remaining:    0.0s\n"
     ]
    },
    {
     "name": "stdout",
     "output_type": "stream",
     "text": [
      "[CV]  n_estimators=20, learning_rate=0.25, score=-1682.490, total=   2.1s\n",
      "[CV] n_estimators=20, learning_rate=0.25 .............................\n"
     ]
    },
    {
     "name": "stderr",
     "output_type": "stream",
     "text": [
      "[Parallel(n_jobs=1)]: Done   4 out of   4 | elapsed:    9.4s remaining:    0.0s\n"
     ]
    },
    {
     "name": "stdout",
     "output_type": "stream",
     "text": [
      "[CV]  n_estimators=20, learning_rate=0.25, score=-1704.770, total=   2.3s\n",
      "[CV] n_estimators=10, learning_rate=0.25 .............................\n"
     ]
    },
    {
     "name": "stderr",
     "output_type": "stream",
     "text": [
      "[Parallel(n_jobs=1)]: Done   5 out of   5 | elapsed:   11.7s remaining:    0.0s\n"
     ]
    },
    {
     "name": "stdout",
     "output_type": "stream",
     "text": [
      "[CV]  n_estimators=10, learning_rate=0.25, score=-1860.680, total=   1.5s\n",
      "[CV] n_estimators=10, learning_rate=0.25 .............................\n"
     ]
    },
    {
     "name": "stderr",
     "output_type": "stream",
     "text": [
      "[Parallel(n_jobs=1)]: Done   6 out of   6 | elapsed:   13.2s remaining:    0.0s\n"
     ]
    },
    {
     "name": "stdout",
     "output_type": "stream",
     "text": [
      "[CV]  n_estimators=10, learning_rate=0.25, score=-1837.940, total=   1.4s\n",
      "[CV] n_estimators=10, learning_rate=0.25 .............................\n"
     ]
    },
    {
     "name": "stderr",
     "output_type": "stream",
     "text": [
      "[Parallel(n_jobs=1)]: Done   7 out of   7 | elapsed:   14.6s remaining:    0.0s\n"
     ]
    },
    {
     "name": "stdout",
     "output_type": "stream",
     "text": [
      "[CV]  n_estimators=10, learning_rate=0.25, score=-1833.680, total=   1.4s\n",
      "[CV] n_estimators=10, learning_rate=0.25 .............................\n"
     ]
    },
    {
     "name": "stderr",
     "output_type": "stream",
     "text": [
      "[Parallel(n_jobs=1)]: Done   8 out of   8 | elapsed:   16.0s remaining:    0.0s\n"
     ]
    },
    {
     "name": "stdout",
     "output_type": "stream",
     "text": [
      "[CV]  n_estimators=10, learning_rate=0.25, score=-1827.030, total=   1.5s\n",
      "[CV] n_estimators=10, learning_rate=0.25 .............................\n"
     ]
    },
    {
     "name": "stderr",
     "output_type": "stream",
     "text": [
      "[Parallel(n_jobs=1)]: Done   9 out of   9 | elapsed:   17.5s remaining:    0.0s\n"
     ]
    },
    {
     "name": "stdout",
     "output_type": "stream",
     "text": [
      "[CV]  n_estimators=10, learning_rate=0.25, score=-1842.050, total=   1.5s\n",
      "[CV] n_estimators=15, learning_rate=0.5 ..............................\n",
      "[CV]  n_estimators=15, learning_rate=0.5, score=-1742.990, total=   1.9s\n",
      "[CV] n_estimators=15, learning_rate=0.5 ..............................\n",
      "[CV]  n_estimators=15, learning_rate=0.5, score=-1716.690, total=   1.7s\n",
      "[CV] n_estimators=15, learning_rate=0.5 ..............................\n",
      "[CV]  n_estimators=15, learning_rate=0.5, score=-1716.080, total=   2.9s\n",
      "[CV] n_estimators=15, learning_rate=0.5 ..............................\n",
      "[CV]  n_estimators=15, learning_rate=0.5, score=-1694.330, total=   1.7s\n",
      "[CV] n_estimators=15, learning_rate=0.5 ..............................\n",
      "[CV]  n_estimators=15, learning_rate=0.5, score=-1719.580, total=   1.8s\n",
      "[CV] n_estimators=25, learning_rate=0.25 .............................\n",
      "[CV]  n_estimators=25, learning_rate=0.25, score=-1701.020, total=   2.5s\n",
      "[CV] n_estimators=25, learning_rate=0.25 .............................\n",
      "[CV]  n_estimators=25, learning_rate=0.25, score=-1675.030, total=   2.4s\n",
      "[CV] n_estimators=25, learning_rate=0.25 .............................\n",
      "[CV]  n_estimators=25, learning_rate=0.25, score=-1676.220, total=   2.5s\n",
      "[CV] n_estimators=25, learning_rate=0.25 .............................\n",
      "[CV]  n_estimators=25, learning_rate=0.25, score=-1663.810, total=   2.5s\n",
      "[CV] n_estimators=25, learning_rate=0.25 .............................\n",
      "[CV]  n_estimators=25, learning_rate=0.25, score=-1687.230, total=   2.8s\n",
      "[CV] n_estimators=20, learning_rate=0.75 .............................\n",
      "[CV]  n_estimators=20, learning_rate=0.75, score=-1763.830, total=   1.9s\n",
      "[CV] n_estimators=20, learning_rate=0.75 .............................\n",
      "[CV]  n_estimators=20, learning_rate=0.75, score=-1745.300, total=   1.9s\n",
      "[CV] n_estimators=20, learning_rate=0.75 .............................\n",
      "[CV]  n_estimators=20, learning_rate=0.75, score=-1740.500, total=   2.0s\n",
      "[CV] n_estimators=20, learning_rate=0.75 .............................\n",
      "[CV]  n_estimators=20, learning_rate=0.75, score=-1727.260, total=   1.9s\n",
      "[CV] n_estimators=20, learning_rate=0.75 .............................\n",
      "[CV]  n_estimators=20, learning_rate=0.75, score=-1742.290, total=   4.1s\n",
      "[CV] n_estimators=15, learning_rate=0.25 .............................\n",
      "[CV]  n_estimators=15, learning_rate=0.25, score=-1757.790, total=   2.0s\n",
      "[CV] n_estimators=15, learning_rate=0.25 .............................\n",
      "[CV]  n_estimators=15, learning_rate=0.25, score=-1734.430, total=   1.7s\n",
      "[CV] n_estimators=15, learning_rate=0.25 .............................\n",
      "[CV]  n_estimators=15, learning_rate=0.25, score=-1737.770, total=   1.7s\n",
      "[CV] n_estimators=15, learning_rate=0.25 .............................\n",
      "[CV]  n_estimators=15, learning_rate=0.25, score=-1723.110, total=   1.9s\n",
      "[CV] n_estimators=15, learning_rate=0.25 .............................\n",
      "[CV]  n_estimators=15, learning_rate=0.25, score=-1742.540, total=   1.8s\n",
      "[CV] n_estimators=15, learning_rate=0.75 .............................\n",
      "[CV]  n_estimators=15, learning_rate=0.75, score=-1782.740, total=   1.6s\n",
      "[CV] n_estimators=15, learning_rate=0.75 .............................\n",
      "[CV]  n_estimators=15, learning_rate=0.75, score=-1765.090, total=   1.7s\n",
      "[CV] n_estimators=15, learning_rate=0.75 .............................\n",
      "[CV]  n_estimators=15, learning_rate=0.75, score=-1764.570, total=   1.8s\n",
      "[CV] n_estimators=15, learning_rate=0.75 .............................\n",
      "[CV]  n_estimators=15, learning_rate=0.75, score=-1738.330, total=   1.6s\n",
      "[CV] n_estimators=15, learning_rate=0.75 .............................\n",
      "[CV]  n_estimators=15, learning_rate=0.75, score=-1763.010, total=   2.4s\n",
      "[CV] n_estimators=10, learning_rate=0.5 ..............................\n",
      "[CV]  n_estimators=10, learning_rate=0.5, score=-1781.560, total=   1.4s\n",
      "[CV] n_estimators=10, learning_rate=0.5 ..............................\n",
      "[CV]  n_estimators=10, learning_rate=0.5, score=-1751.770, total=   1.4s\n",
      "[CV] n_estimators=10, learning_rate=0.5 ..............................\n",
      "[CV]  n_estimators=10, learning_rate=0.5, score=-1746.620, total=   1.3s\n",
      "[CV] n_estimators=10, learning_rate=0.5 ..............................\n",
      "[CV]  n_estimators=10, learning_rate=0.5, score=-1729.950, total=   1.3s\n",
      "[CV] n_estimators=10, learning_rate=0.5 ..............................\n",
      "[CV]  n_estimators=10, learning_rate=0.5, score=-1760.340, total=   2.1s\n",
      "[CV] n_estimators=25, learning_rate=0.75 .............................\n",
      "[CV]  n_estimators=25, learning_rate=0.75, score=-1742.300, total=   3.8s\n",
      "[CV] n_estimators=25, learning_rate=0.75 .............................\n",
      "[CV]  n_estimators=25, learning_rate=0.75, score=-1734.110, total=   2.1s\n",
      "[CV] n_estimators=25, learning_rate=0.75 .............................\n",
      "[CV]  n_estimators=25, learning_rate=0.75, score=-1735.380, total=   2.2s\n",
      "[CV] n_estimators=25, learning_rate=0.75 .............................\n",
      "[CV]  n_estimators=25, learning_rate=0.75, score=-1721.240, total=   2.2s\n",
      "[CV] n_estimators=25, learning_rate=0.75 .............................\n",
      "[CV]  n_estimators=25, learning_rate=0.75, score=-1725.040, total=   2.2s\n",
      "[CV] n_estimators=10, learning_rate=0.75 .............................\n",
      "[CV]  n_estimators=10, learning_rate=0.75, score=-1823.610, total=   1.4s\n",
      "[CV] n_estimators=10, learning_rate=0.75 .............................\n",
      "[CV]  n_estimators=10, learning_rate=0.75, score=-1796.250, total=   1.4s\n",
      "[CV] n_estimators=10, learning_rate=0.75 .............................\n",
      "[CV]  n_estimators=10, learning_rate=0.75, score=-1800.600, total=   1.2s\n",
      "[CV] n_estimators=10, learning_rate=0.75 .............................\n",
      "[CV]  n_estimators=10, learning_rate=0.75, score=-1770.670, total=   1.3s\n",
      "[CV] n_estimators=10, learning_rate=0.75 .............................\n",
      "[CV]  n_estimators=10, learning_rate=0.75, score=-1788.290, total=   1.6s\n"
     ]
    },
    {
     "name": "stderr",
     "output_type": "stream",
     "text": [
      "[Parallel(n_jobs=1)]: Done  50 out of  50 | elapsed:  1.6min finished\n"
     ]
    },
    {
     "name": "stdout",
     "output_type": "stream",
     "text": [
      "LightGBM without OHE\n",
      "Best parameters: {'n_estimators': 25, 'learning_rate': 0.25}\n",
      "RMSE: 1693.93\n",
      "CPU times: user 1min 42s, sys: 372 ms, total: 1min 42s\n",
      "Wall time: 1min 43s\n"
     ]
    }
   ],
   "source": [
    "%%time\n",
    "# LightGBM without OHE\n",
    "lg_model_2 = lgb.LGBMRegressor(random_state=42)\n",
    "params = { 'n_estimators': range(10, 30, 5), 'learning_rate': [.25, .5, .75] }\n",
    "\n",
    "best_model = RandomizedSearchCV(lg_model_2, params, scoring=rmse, cv=5, verbose=10)\n",
    "best_model.fit(features_train_2, target_train_2, categorical_feature=categories)  \n",
    "predictions = best_model.best_estimator_.predict(features_valid_2)\n",
    "\n",
    "print('LightGBM without OHE')\n",
    "print('Best parameters:', best_model.best_params_)\n",
    "print('RMSE:', round(mean_squared_error(target_valid_2, predictions) ** 0.5, 2))"
   ]
  },
  {
   "cell_type": "markdown",
   "metadata": {},
   "source": [
    "__Tuning for LightGBM without OHE__\n",
    "\n",
    "LightGBM without OHE\n",
    "\n",
    "Best parameters: {'n_estimators': 25, 'learning_rate': 0.25}\n",
    "\n",
    "RMSE: 1693.92\n",
    "\n",
    "CPU times: user 4min 59s, sys: 960 ms, total: 5min\n",
    "\n",
    "Wall time: 5min 3s"
   ]
  },
  {
   "cell_type": "markdown",
   "metadata": {},
   "source": [
    "__Fit models with best parameters__\n",
    "\n",
    "- We will use the combined data from the train and valid datasets because that gives us a slightly better RMSE score (we compared previously).\n",
    "- We will compare tuned and untuned versions."
   ]
  },
  {
   "cell_type": "code",
   "execution_count": 77,
   "metadata": {},
   "outputs": [
    {
     "name": "stdout",
     "output_type": "stream",
     "text": [
      "Random Forest Regressor with test data\n",
      "RMSE: 1660.958400832672 Training time: 220.39202785491943 Prediction time: 1.481811285018921\n",
      "CPU times: user 3min 37s, sys: 331 ms, total: 3min 37s\n",
      "Wall time: 3min 41s\n"
     ]
    }
   ],
   "source": [
    "%%time\n",
    "# random forest regressor with test data\n",
    "# Best parameters: {'n_estimators': 25}\n",
    "rf_test = RandomForestRegressor(random_state=42, n_estimators = 25)\n",
    "\n",
    "start = time.time()\n",
    "# fit with train and valid data\n",
    "rf_test.fit(pd.concat([features_train, features_valid]), pd.concat([target_train, target_valid]))\n",
    "end = time.time()\n",
    "test_rftt = end - start\n",
    "\n",
    "start = time.time()\n",
    "test_pred = rf_test.predict(features_test)\n",
    "end = time.time()\n",
    "test_rfpt = end - start\n",
    "\n",
    "test_rf_rmse_calc = mean_squared_error(target_test, test_pred)**0.5\n",
    "\n",
    "print('Random Forest Regressor with test data')\n",
    "print('RMSE:', test_rf_rmse_calc, 'Training time:', test_rftt, 'Prediction time:', test_rfpt)"
   ]
  },
  {
   "cell_type": "code",
   "execution_count": 78,
   "metadata": {},
   "outputs": [
    {
     "name": "stdout",
     "output_type": "stream",
     "text": [
      "0:\tlearn: 2799.7902845\ttotal: 41.6ms\tremaining: 999ms\n",
      "1:\tlearn: 2392.2788678\ttotal: 242ms\tremaining: 2.78s\n",
      "2:\tlearn: 2242.0372998\ttotal: 438ms\tremaining: 3.21s\n",
      "3:\tlearn: 2135.8989092\ttotal: 635ms\tremaining: 3.33s\n",
      "4:\tlearn: 2074.0915844\ttotal: 830ms\tremaining: 3.32s\n",
      "5:\tlearn: 2025.1557285\ttotal: 1.03s\tremaining: 3.26s\n",
      "6:\tlearn: 1995.3671545\ttotal: 1.23s\tremaining: 3.15s\n",
      "7:\tlearn: 1962.5786932\ttotal: 1.42s\tremaining: 3.03s\n",
      "8:\tlearn: 1936.3794134\ttotal: 1.54s\tremaining: 2.73s\n",
      "9:\tlearn: 1925.6442519\ttotal: 1.73s\tremaining: 2.6s\n",
      "10:\tlearn: 1914.9244248\ttotal: 1.92s\tremaining: 2.45s\n",
      "11:\tlearn: 1897.7737444\ttotal: 2.12s\tremaining: 2.3s\n",
      "12:\tlearn: 1884.3269147\ttotal: 2.32s\tremaining: 2.14s\n",
      "13:\tlearn: 1870.6201454\ttotal: 2.43s\tremaining: 1.91s\n",
      "14:\tlearn: 1860.3036252\ttotal: 2.63s\tremaining: 1.75s\n",
      "15:\tlearn: 1845.2119689\ttotal: 2.83s\tremaining: 1.59s\n",
      "16:\tlearn: 1838.5330180\ttotal: 3.02s\tremaining: 1.42s\n",
      "17:\tlearn: 1830.0865712\ttotal: 3.22s\tremaining: 1.25s\n",
      "18:\tlearn: 1822.9739171\ttotal: 3.42s\tremaining: 1.08s\n",
      "19:\tlearn: 1809.6471021\ttotal: 3.53s\tremaining: 882ms\n",
      "20:\tlearn: 1802.1117906\ttotal: 3.72s\tremaining: 709ms\n",
      "21:\tlearn: 1794.0880404\ttotal: 3.92s\tremaining: 535ms\n",
      "22:\tlearn: 1789.0646208\ttotal: 4.12s\tremaining: 358ms\n",
      "23:\tlearn: 1781.7619173\ttotal: 4.31s\tremaining: 180ms\n",
      "24:\tlearn: 1776.1357221\ttotal: 4.42s\tremaining: 0us\n",
      "CatBoost with OHE with test data\n",
      "RMSE: 1792.644534898325 Training time: 11.937709331512451 Prediction time: 0.015808820724487305\n",
      "CPU times: user 9.83 s, sys: 928 ms, total: 10.8 s\n",
      "Wall time: 12 s\n"
     ]
    }
   ],
   "source": [
    "%%time\n",
    "# CatBoost with OHE with test data\n",
    "# Best parameters: {'n_estimators': 25, 'learning_rate': 0.75}\n",
    "cb_test = CatBoostRegressor(random_state=42, n_estimators=25, learning_rate=0.75)\n",
    "\n",
    "start = time.time()\n",
    "# use combined train and valid datasets to fit on\n",
    "cb_test.fit(pd.concat([features_train, features_valid]), pd.concat([target_train, target_valid]))\n",
    "end = time.time()\n",
    "test_cbohett = end - start\n",
    "\n",
    "start = time.time()\n",
    "test_pred = cb_test.predict(features_test)\n",
    "end = time.time()\n",
    "test_cbohept = end - start\n",
    "\n",
    "test_cbohe_rmse_calc = mean_squared_error(target_test, test_pred)**0.5\n",
    "\n",
    "print('CatBoost with OHE with test data')\n",
    "print('RMSE:', test_cbohe_rmse_calc, 'Training time:', test_cbohett, 'Prediction time:', test_cbohept)"
   ]
  },
  {
   "cell_type": "code",
   "execution_count": 79,
   "metadata": {},
   "outputs": [
    {
     "name": "stdout",
     "output_type": "stream",
     "text": [
      "0:\tlearn: 2821.8166658\ttotal: 294ms\tremaining: 7.04s\n",
      "1:\tlearn: 2344.6451715\ttotal: 697ms\tremaining: 8.01s\n",
      "2:\tlearn: 2208.1949750\ttotal: 1.09s\tremaining: 7.96s\n",
      "3:\tlearn: 2123.3551953\ttotal: 1.48s\tremaining: 7.77s\n",
      "4:\tlearn: 2081.9071319\ttotal: 1.78s\tremaining: 7.14s\n",
      "5:\tlearn: 2033.5083635\ttotal: 2.18s\tremaining: 6.9s\n",
      "6:\tlearn: 1985.3326815\ttotal: 2.48s\tremaining: 6.39s\n",
      "7:\tlearn: 1960.6963974\ttotal: 2.88s\tremaining: 6.12s\n",
      "8:\tlearn: 1931.4359357\ttotal: 3.19s\tremaining: 5.68s\n",
      "9:\tlearn: 1912.6610977\ttotal: 3.58s\tremaining: 5.37s\n",
      "10:\tlearn: 1902.6895904\ttotal: 3.88s\tremaining: 4.94s\n",
      "11:\tlearn: 1890.3243957\ttotal: 4.19s\tremaining: 4.54s\n",
      "12:\tlearn: 1876.5431975\ttotal: 4.57s\tremaining: 4.22s\n",
      "13:\tlearn: 1867.0785279\ttotal: 4.88s\tremaining: 3.83s\n",
      "14:\tlearn: 1852.2333265\ttotal: 5.27s\tremaining: 3.52s\n",
      "15:\tlearn: 1836.7261889\ttotal: 5.58s\tremaining: 3.14s\n",
      "16:\tlearn: 1831.1213107\ttotal: 5.88s\tremaining: 2.77s\n",
      "17:\tlearn: 1819.1362963\ttotal: 6.27s\tremaining: 2.44s\n",
      "18:\tlearn: 1810.9800457\ttotal: 6.57s\tremaining: 2.08s\n",
      "19:\tlearn: 1807.0757906\ttotal: 6.87s\tremaining: 1.72s\n",
      "20:\tlearn: 1798.9547976\ttotal: 7.18s\tremaining: 1.37s\n",
      "21:\tlearn: 1793.4412705\ttotal: 7.48s\tremaining: 1.02s\n",
      "22:\tlearn: 1785.9479350\ttotal: 7.87s\tremaining: 684ms\n",
      "23:\tlearn: 1780.9558516\ttotal: 8.17s\tremaining: 340ms\n",
      "24:\tlearn: 1774.7724777\ttotal: 8.57s\tremaining: 0us\n",
      "CatBoost without OHE with test data\n",
      "RMSE: 1790.8160057257508 Training time: 10.462419748306274 Prediction time: 0.058998823165893555\n",
      "CPU times: user 8.57 s, sys: 908 ms, total: 9.48 s\n",
      "Wall time: 10.5 s\n"
     ]
    }
   ],
   "source": [
    "%%time\n",
    "# CatBoost without initial one hot encoding\n",
    "# Best parameters: {'n_estimators': 25, 'learning_rate': 0.75}\n",
    "\n",
    "start = time.time()\n",
    "# use combined train and valid datasets to fit on\n",
    "cb_test_2 = CatBoostRegressor(random_state=42, n_estimators=25, learning_rate=0.75)\n",
    "cb_test_2.fit(pd.concat([features_train_2, features_valid_2]), pd.concat([target_train_2, target_valid_2]), cat_features=categories)\n",
    "end = time.time()\n",
    "test_cbtt = end - start\n",
    "\n",
    "start = time.time()\n",
    "test_pred = cb_test_2.predict(features_test_2)\n",
    "end = time.time()\n",
    "test_cbpt = end - start\n",
    "\n",
    "test_cb_rmse=mean_squared_error(target_test, test_pred)**0.5\n",
    "\n",
    "print('CatBoost without OHE with test data')\n",
    "print('RMSE:',test_cb_rmse, 'Training time:', test_cbtt, 'Prediction time:', test_cbpt) "
   ]
  },
  {
   "cell_type": "code",
   "execution_count": 80,
   "metadata": {},
   "outputs": [
    {
     "name": "stdout",
     "output_type": "stream",
     "text": [
      "LightGBM with OHE with test data\n",
      "RMSE: 1726.3591713044495 Training time: 5.873456001281738 Prediction time: 0.5961816310882568\n",
      "CPU times: user 6.02 s, sys: 391 ms, total: 6.41 s\n",
      "Wall time: 6.47 s\n"
     ]
    }
   ],
   "source": [
    "%%time\n",
    "# lightGBM with OHE with test data\n",
    "# Best parameters: {'n_estimators': 25, 'learning_rate': 0.5}\n",
    "lgohe_test = lgb.LGBMRegressor(random_state=42, n_estimators=25, learning_rate=0.5)\n",
    "\n",
    "start = time.time()\n",
    "# fit model on combined data from train and valid\n",
    "lgohe_test.fit(pd.concat([features_train, features_valid]), pd.concat([target_train, target_valid]))\n",
    "end = time.time()\n",
    "test_lgohett = end - start\n",
    "\n",
    "start = time.time()\n",
    "test_pred = lgohe_test.predict(features_test)\n",
    "end = time.time()\n",
    "test_lgohept = end - start\n",
    "\n",
    "test_lgohe_rmse_calc = mean_squared_error(target_test, test_pred)**0.5\n",
    "\n",
    "print('LightGBM with OHE with test data')\n",
    "print('RMSE:', test_lgohe_rmse_calc, 'Training time:', test_lgohett, 'Prediction time:', test_lgohept)"
   ]
  },
  {
   "cell_type": "code",
   "execution_count": 81,
   "metadata": {},
   "outputs": [
    {
     "name": "stdout",
     "output_type": "stream",
     "text": [
      "LightGBM without OHE\n",
      "RMSE: 1680.7187262024022 Training time: 3.1926093101501465 Prediction time: 0.29376220703125\n",
      "CPU times: user 3.46 s, sys: 5.31 ms, total: 3.46 s\n",
      "Wall time: 3.49 s\n"
     ]
    }
   ],
   "source": [
    "%%time\n",
    "# lightGBM without OHE with test data\n",
    "# Best parameters: {'n_estimators': 25, 'learning_rate': 0.25}\n",
    "lg_test = lgb.LGBMRegressor(random_state=42, n_estimators=25, learning_rate=0.25)\n",
    "\n",
    "start = time.time()\n",
    "# fit on combined data from train and valid\n",
    "lg_test.fit(pd.concat([features_train_2, features_valid_2]), pd.concat([target_train_2, target_valid_2]), categorical_feature=categories)\n",
    "end = time.time()\n",
    "test_lgtt = end - start\n",
    "\n",
    "start = time.time()\n",
    "test_pred = lg_test.predict(features_test_2)\n",
    "end = time.time()\n",
    "test_lgpt = end - start\n",
    "\n",
    "test_lg_rmse_calc = mean_squared_error(target_test_2, test_pred)**0.5\n",
    "\n",
    "print('LightGBM without OHE')\n",
    "print('RMSE:', test_lg_rmse_calc, 'Training time:', test_lgtt, 'Prediction time:', test_lgpt)"
   ]
  },
  {
   "cell_type": "code",
   "execution_count": 82,
   "metadata": {},
   "outputs": [
    {
     "name": "stdout",
     "output_type": "stream",
     "text": [
      "Linear Regression - Sanity Check on test data\n",
      "RMSE: 2669.1918845974697 Prediction time: 0.1891636848449707\n"
     ]
    }
   ],
   "source": [
    "# linear regression base model with test data\n",
    "start = time.time()\n",
    "predicted_test = lr_model.predict(features_test)\n",
    "end = time.time()\n",
    "test_lrpt = end - start\n",
    "\n",
    "test_lr_rmse_calc = mean_squared_error(target_test, predicted_test)**0.5\n",
    "\n",
    "print('Linear Regression - Sanity Check on test data')\n",
    "print('RMSE:', test_lr_rmse_calc, 'Prediction time:', test_lrpt)"
   ]
  },
  {
   "cell_type": "markdown",
   "metadata": {},
   "source": [
    "## Model analysis"
   ]
  },
  {
   "cell_type": "code",
   "execution_count": 83,
   "metadata": {},
   "outputs": [
    {
     "name": "stdout",
     "output_type": "stream",
     "text": [
      "Results with test data of base models\n",
      "\n",
      "Random Forest Regressor\n",
      "RMSE: 1727.9087596013774 Training time: 60.69512057304382 Prediction time: 0.6225581169128418\n",
      "\n",
      "LightGBM with OHE\n",
      "RMSE: 1707.641861082534 Training time: 10.578785419464111 Prediction time: 1.1029925346374512\n",
      "\n",
      "LightGBM without OHE\n",
      "RMSE: 1643.351067294688 Training time: 8.479040384292603 Prediction time: 0.9047174453735352\n",
      "\n",
      "CatBoost with OHE\n",
      "RMSE: 1703.817876905744 Training time: 153.08609819412231 Prediction time: 0.21335506439208984\n",
      "\n",
      "CatBoost without OHE\n",
      "RMSE: 1683.0274262756113 Training time: 501.59921288490295 Prediction time: 0.4114964008331299\n",
      "\n",
      "Linear Regression - Sanity Check\n",
      "RMSE: 2673.154220556299 Training time: 19.875536680221558 Prediction time: 0.2535219192504883\n"
     ]
    }
   ],
   "source": [
    "print('Results with test data of base models\\n')\n",
    "\n",
    "print('Random Forest Regressor')\n",
    "print('RMSE:', rf_rmse_calc, 'Training time:', rftt, 'Prediction time:', rfpt)\n",
    "print('\\nLightGBM with OHE')\n",
    "print('RMSE:', lgohe_rmse_calc, 'Training time:', lgohett, 'Prediction time:', lgohept)\n",
    "print('\\nLightGBM without OHE')\n",
    "print('RMSE:', lg_rmse_calc, 'Training time:', lgtt, 'Prediction time:', lgpt)\n",
    "print('\\nCatBoost with OHE')\n",
    "print('RMSE:', cbohe_rmse_calc, 'Training time:', cbohett, 'Prediction time:', cbohept)\n",
    "print('\\nCatBoost without OHE')\n",
    "print('RMSE:', cb_rmse_calc, 'Training time:', cbtt, 'Prediction time:', cbpt)\n",
    "print('\\nLinear Regression - Sanity Check')\n",
    "print('RMSE:', lr_rmse_calc, 'Training time:', lrtt, 'Prediction time:', lrpt)"
   ]
  },
  {
   "cell_type": "code",
   "execution_count": 84,
   "metadata": {},
   "outputs": [
    {
     "name": "stdout",
     "output_type": "stream",
     "text": [
      "Results with test data of tuned models\n",
      "\n",
      "Random Forest Regressor with test data\n",
      "RMSE: 1660.958400832672 Training time: 220.39202785491943 Prediction time: 1.481811285018921\n",
      "\n",
      "CatBoost with OHE with test data\n",
      "RMSE: 1792.644534898325 Training time: 11.937709331512451 Prediction time: 0.015808820724487305\n",
      "\n",
      "CatBoost without OHE with test data\n",
      "RMSE: 1790.8160057257508 Training time: 10.462419748306274 Prediction time: 0.058998823165893555\n",
      "\n",
      "LightGBM with OHE with test data\n",
      "RMSE: 1726.3591713044495 Training time: 5.873456001281738 Prediction time: 0.5961816310882568\n",
      "\n",
      "LightGBM without OHE\n",
      "RMSE: 1680.7187262024022 Training time: 3.1926093101501465 Prediction time: 0.29376220703125\n",
      "\n",
      "Linear Regression - Sanity Check on test data\n",
      "RMSE: 2669.1918845974697 Prediction time: 0.1891636848449707\n"
     ]
    }
   ],
   "source": [
    "print('Results with test data of tuned models\\n')\n",
    "\n",
    "print('Random Forest Regressor with test data')\n",
    "print('RMSE:', test_rf_rmse_calc, 'Training time:', test_rftt, 'Prediction time:', test_rfpt)\n",
    "\n",
    "print('\\nCatBoost with OHE with test data')\n",
    "print('RMSE:', test_cbohe_rmse_calc, 'Training time:', test_cbohett, 'Prediction time:', test_cbohept)\n",
    "\n",
    "print('\\nCatBoost without OHE with test data')\n",
    "print('RMSE:',test_cb_rmse, 'Training time:', test_cbtt, 'Prediction time:', test_cbpt)\n",
    "\n",
    "print('\\nLightGBM with OHE with test data')\n",
    "print('RMSE:', test_lgohe_rmse_calc, 'Training time:', test_lgohett, 'Prediction time:', test_lgohept)\n",
    "\n",
    "print('\\nLightGBM without OHE')\n",
    "print('RMSE:', test_lg_rmse_calc, 'Training time:', test_lgtt, 'Prediction time:', test_lgpt)\n",
    "\n",
    "print('\\nLinear Regression - Sanity Check on test data')\n",
    "print('RMSE:', test_lr_rmse_calc, 'Prediction time:', test_lrpt)"
   ]
  },
  {
   "cell_type": "markdown",
   "metadata": {},
   "source": [
    "__We were tasked with finding the RMSE, the training time and the prediction time__\n",
    "\n",
    "\n",
    "- Tuning the Random Forest Regressor model did improve the goodness of fit as evidenced by a lower RMSE, but tuning also more than doubled the time for predictions and training.\n",
    "- The RMSE for CatBoost and LightGBM did not benefit from my implementation of performance tuning.\n",
    "- However, tuning the parameters decreased the prediction time dramatically.\n",
    "- The best RMSE for both tuned and untuned models is LightGBM without OHE. This matches nicely with [documentation of LightGBM](https://lightgbm.readthedocs.io/en/latest/Advanced-Topics.html). It states LightGBM \"offers good accuracy with integer-encoded categorical features. LightGBM applies Fisher (1958) to find the optimal split over categories as described here. This often performs better than one-hot encoding.\"\n",
    "- LightGBM, both with and without OHE, had the fastest prediction speeds. CatBoost had the slowest.\n",
    "- LightGBM had lower prediction times, and tuning the model lowered them further.\n",
    "- While the tuned Random Forest Regressor has the lowest RMSE, it also has the highest prediction time, over double of the second longest. The slight gains in RMSE over LIghtGBM without OHE doesn't compensate for the large increase in prediction time.\n",
    "\n",
    "__Recommendation__\n",
    "\n",
    "- We recommend the tuned LightGBM without One Hot Encoding. It has the 3rd lowest RMSE scores, but also has a fast training time, just over 11 seconds, and an impressive prediction time of about 1/5th of a second."
   ]
  },
  {
   "cell_type": "markdown",
   "metadata": {},
   "source": [
    "[Timing cells](https://stackoverflow.com/questions/52738709/how-to-store-time-values-in-a-variable-in-jupyter)\n",
    "\n",
    "[simple function to time execution of cell](https://stackoverflow.com/questions/52738709/how-to-store-time-values-in-a-variable-in-jupyter)\n",
    "\n",
    "[LightGBM often performs better without OHE](https://lightgbm.readthedocs.io/en/latest/Advanced-Topics.html)\n"
   ]
  },
  {
   "cell_type": "code",
   "execution_count": null,
   "metadata": {},
   "outputs": [],
   "source": []
  },
  {
   "cell_type": "code",
   "execution_count": null,
   "metadata": {},
   "outputs": [],
   "source": []
  }
 ],
 "metadata": {
  "ExecuteTimeLog": [
   {
    "duration": 207,
    "start_time": "2022-01-23T03:24:59.481Z"
   },
   {
    "duration": 1611,
    "start_time": "2022-01-23T03:25:26.750Z"
   },
   {
    "duration": 646,
    "start_time": "2022-01-23T03:25:28.363Z"
   },
   {
    "duration": 20,
    "start_time": "2022-01-23T03:25:29.011Z"
   },
   {
    "duration": 430,
    "start_time": "2022-01-23T03:25:29.032Z"
   },
   {
    "duration": 13,
    "start_time": "2022-01-23T03:26:00.673Z"
   },
   {
    "duration": 116,
    "start_time": "2022-01-23T03:26:21.826Z"
   },
   {
    "duration": 5,
    "start_time": "2022-01-23T03:27:30.963Z"
   },
   {
    "duration": 6996,
    "start_time": "2022-01-23T06:28:18.059Z"
   },
   {
    "duration": 1019,
    "start_time": "2022-01-23T06:28:25.057Z"
   },
   {
    "duration": 644,
    "start_time": "2022-01-23T06:28:26.079Z"
   },
   {
    "duration": 23,
    "start_time": "2022-01-23T06:28:26.725Z"
   },
   {
    "duration": 7,
    "start_time": "2022-01-23T06:28:26.750Z"
   },
   {
    "duration": 145,
    "start_time": "2022-01-23T06:28:26.759Z"
   },
   {
    "duration": 742,
    "start_time": "2022-01-23T06:30:59.990Z"
   },
   {
    "duration": 687,
    "start_time": "2022-01-23T06:31:50.711Z"
   },
   {
    "duration": 4,
    "start_time": "2022-01-23T06:32:12.272Z"
   },
   {
    "duration": 633,
    "start_time": "2022-01-23T06:32:13.083Z"
   },
   {
    "duration": 12,
    "start_time": "2022-01-23T06:32:14.549Z"
   },
   {
    "duration": 2597,
    "start_time": "2022-01-23T06:32:15.888Z"
   },
   {
    "duration": 111,
    "start_time": "2022-01-23T06:35:22.755Z"
   },
   {
    "duration": 7009,
    "start_time": "2022-01-23T06:36:29.065Z"
   },
   {
    "duration": 1113,
    "start_time": "2022-01-23T06:36:36.077Z"
   },
   {
    "duration": 622,
    "start_time": "2022-01-23T06:36:37.192Z"
   },
   {
    "duration": 18,
    "start_time": "2022-01-23T06:36:37.816Z"
   },
   {
    "duration": 2911,
    "start_time": "2022-01-23T06:36:37.835Z"
   },
   {
    "duration": 4,
    "start_time": "2022-01-23T06:36:40.747Z"
   },
   {
    "duration": 134,
    "start_time": "2022-01-23T06:36:40.752Z"
   },
   {
    "duration": 463,
    "start_time": "2022-01-23T06:37:32.704Z"
   },
   {
    "duration": 311,
    "start_time": "2022-01-23T06:37:48.395Z"
   },
   {
    "duration": 2789,
    "start_time": "2022-01-23T06:38:05.264Z"
   },
   {
    "duration": 2933,
    "start_time": "2022-01-23T06:39:03.161Z"
   },
   {
    "duration": 2848,
    "start_time": "2022-01-23T06:40:31.000Z"
   },
   {
    "duration": 228,
    "start_time": "2022-01-23T06:42:01.260Z"
   },
   {
    "duration": 108,
    "start_time": "2022-01-23T06:51:17.602Z"
   },
   {
    "duration": 68,
    "start_time": "2022-01-23T06:52:10.767Z"
   },
   {
    "duration": 106,
    "start_time": "2022-01-23T06:52:25.674Z"
   },
   {
    "duration": 109,
    "start_time": "2022-01-23T06:52:40.503Z"
   },
   {
    "duration": 109,
    "start_time": "2022-01-23T06:53:48.045Z"
   },
   {
    "duration": 112,
    "start_time": "2022-01-23T06:54:06.179Z"
   },
   {
    "duration": 506,
    "start_time": "2022-01-23T06:55:55.372Z"
   },
   {
    "duration": 405,
    "start_time": "2022-01-23T06:56:29.212Z"
   },
   {
    "duration": 211,
    "start_time": "2022-01-23T06:57:27.086Z"
   },
   {
    "duration": 225,
    "start_time": "2022-01-23T06:57:36.195Z"
   },
   {
    "duration": 215,
    "start_time": "2022-01-23T06:59:26.728Z"
   },
   {
    "duration": 214,
    "start_time": "2022-01-23T06:59:55.064Z"
   },
   {
    "duration": 2,
    "start_time": "2022-01-23T07:00:21.449Z"
   },
   {
    "duration": 214,
    "start_time": "2022-01-23T07:02:40.209Z"
   },
   {
    "duration": 224,
    "start_time": "2022-01-23T07:03:00.346Z"
   },
   {
    "duration": 13,
    "start_time": "2022-01-23T07:04:00.506Z"
   },
   {
    "duration": 245,
    "start_time": "2022-01-23T07:04:07.320Z"
   },
   {
    "duration": 297,
    "start_time": "2022-01-23T07:04:16.847Z"
   },
   {
    "duration": 172,
    "start_time": "2022-01-23T07:08:53.534Z"
   },
   {
    "duration": 95,
    "start_time": "2022-01-23T07:09:43.109Z"
   },
   {
    "duration": 9784,
    "start_time": "2022-01-23T07:09:48.564Z"
   },
   {
    "duration": 52,
    "start_time": "2022-01-23T07:11:37.840Z"
   },
   {
    "duration": 270,
    "start_time": "2022-01-23T07:13:30.476Z"
   },
   {
    "duration": 488,
    "start_time": "2022-01-23T07:13:43.555Z"
   },
   {
    "duration": 228,
    "start_time": "2022-01-23T07:23:12.259Z"
   },
   {
    "duration": 396,
    "start_time": "2022-01-23T07:25:41.332Z"
   },
   {
    "duration": 1203,
    "start_time": "2022-01-24T20:55:17.118Z"
   },
   {
    "duration": 661,
    "start_time": "2022-01-24T20:55:18.323Z"
   },
   {
    "duration": 20,
    "start_time": "2022-01-24T20:55:18.987Z"
   },
   {
    "duration": 6,
    "start_time": "2022-01-24T20:55:19.009Z"
   },
   {
    "duration": 332,
    "start_time": "2022-01-24T20:55:19.017Z"
   },
   {
    "duration": 234,
    "start_time": "2022-01-24T20:55:19.350Z"
   },
   {
    "duration": 431,
    "start_time": "2022-01-24T20:55:19.586Z"
   },
   {
    "duration": 57,
    "start_time": "2022-01-24T20:55:20.019Z"
   },
   {
    "duration": 477,
    "start_time": "2022-01-24T20:55:20.078Z"
   },
   {
    "duration": 95,
    "start_time": "2022-01-24T20:57:56.185Z"
   },
   {
    "duration": 461,
    "start_time": "2022-01-24T21:03:35.915Z"
   },
   {
    "duration": 516,
    "start_time": "2022-01-24T21:04:13.457Z"
   },
   {
    "duration": 393,
    "start_time": "2022-01-24T21:05:51.013Z"
   },
   {
    "duration": 528,
    "start_time": "2022-01-24T21:05:53.485Z"
   },
   {
    "duration": 359,
    "start_time": "2022-01-24T21:18:10.250Z"
   },
   {
    "duration": 58,
    "start_time": "2022-01-24T21:18:45.021Z"
   },
   {
    "duration": 333,
    "start_time": "2022-01-24T21:19:14.098Z"
   },
   {
    "duration": 546,
    "start_time": "2022-01-24T21:19:47.014Z"
   },
   {
    "duration": 31,
    "start_time": "2022-01-24T21:37:12.391Z"
   },
   {
    "duration": 531,
    "start_time": "2022-01-24T21:39:12.850Z"
   },
   {
    "duration": 507,
    "start_time": "2022-01-24T21:40:25.477Z"
   },
   {
    "duration": 195,
    "start_time": "2022-01-24T21:40:55.897Z"
   },
   {
    "duration": 545,
    "start_time": "2022-01-24T21:41:02.447Z"
   },
   {
    "duration": 27,
    "start_time": "2022-01-24T21:46:16.928Z"
   },
   {
    "duration": 4,
    "start_time": "2022-01-24T21:48:47.941Z"
   },
   {
    "duration": 40,
    "start_time": "2022-01-24T21:49:40.233Z"
   },
   {
    "duration": 174,
    "start_time": "2022-01-24T21:51:51.573Z"
   },
   {
    "duration": 181,
    "start_time": "2022-01-24T21:51:57.164Z"
   },
   {
    "duration": 233,
    "start_time": "2022-01-24T21:52:58.469Z"
   },
   {
    "duration": 42,
    "start_time": "2022-01-24T21:53:53.304Z"
   },
   {
    "duration": 28,
    "start_time": "2022-01-24T21:57:29.282Z"
   },
   {
    "duration": 3,
    "start_time": "2022-01-24T22:16:42.992Z"
   },
   {
    "duration": 97,
    "start_time": "2022-01-24T22:18:24.160Z"
   },
   {
    "duration": 275,
    "start_time": "2022-01-24T22:18:33.950Z"
   },
   {
    "duration": 26,
    "start_time": "2022-01-24T22:18:43.634Z"
   },
   {
    "duration": 1245,
    "start_time": "2022-01-24T22:18:58.277Z"
   },
   {
    "duration": 658,
    "start_time": "2022-01-24T22:18:59.524Z"
   },
   {
    "duration": 27,
    "start_time": "2022-01-24T22:19:00.184Z"
   },
   {
    "duration": 7,
    "start_time": "2022-01-24T22:19:00.214Z"
   },
   {
    "duration": 350,
    "start_time": "2022-01-24T22:19:00.222Z"
   },
   {
    "duration": 242,
    "start_time": "2022-01-24T22:19:00.574Z"
   },
   {
    "duration": 126,
    "start_time": "2022-01-24T22:19:00.818Z"
   },
   {
    "duration": 451,
    "start_time": "2022-01-24T22:19:00.947Z"
   },
   {
    "duration": 577,
    "start_time": "2022-01-24T22:19:01.400Z"
   },
   {
    "duration": 42,
    "start_time": "2022-01-24T22:19:01.979Z"
   },
   {
    "duration": 4,
    "start_time": "2022-01-24T22:19:02.022Z"
   },
   {
    "duration": 281,
    "start_time": "2022-01-24T22:19:02.027Z"
   },
   {
    "duration": -289,
    "start_time": "2022-01-24T22:19:02.599Z"
   },
   {
    "duration": -290,
    "start_time": "2022-01-24T22:19:02.601Z"
   },
   {
    "duration": -305,
    "start_time": "2022-01-24T22:19:02.617Z"
   },
   {
    "duration": -308,
    "start_time": "2022-01-24T22:19:02.621Z"
   },
   {
    "duration": -310,
    "start_time": "2022-01-24T22:19:02.624Z"
   },
   {
    "duration": -314,
    "start_time": "2022-01-24T22:19:02.629Z"
   },
   {
    "duration": -315,
    "start_time": "2022-01-24T22:19:02.631Z"
   },
   {
    "duration": 50,
    "start_time": "2022-01-24T22:19:52.841Z"
   },
   {
    "duration": 49,
    "start_time": "2022-01-24T22:20:52.012Z"
   },
   {
    "duration": 3,
    "start_time": "2022-01-24T22:20:56.386Z"
   },
   {
    "duration": 49,
    "start_time": "2022-01-24T22:21:01.279Z"
   },
   {
    "duration": 27,
    "start_time": "2022-01-24T22:21:22.346Z"
   },
   {
    "duration": 454,
    "start_time": "2022-01-24T22:21:42.066Z"
   },
   {
    "duration": 412,
    "start_time": "2022-01-24T22:23:14.553Z"
   },
   {
    "duration": 50,
    "start_time": "2022-01-24T22:23:57.989Z"
   },
   {
    "duration": 1137,
    "start_time": "2022-01-24T22:24:10.460Z"
   },
   {
    "duration": 670,
    "start_time": "2022-01-24T22:24:11.599Z"
   },
   {
    "duration": 15,
    "start_time": "2022-01-24T22:24:12.271Z"
   },
   {
    "duration": 10,
    "start_time": "2022-01-24T22:24:12.287Z"
   },
   {
    "duration": 342,
    "start_time": "2022-01-24T22:24:12.298Z"
   },
   {
    "duration": 236,
    "start_time": "2022-01-24T22:24:12.642Z"
   },
   {
    "duration": 121,
    "start_time": "2022-01-24T22:24:12.880Z"
   },
   {
    "duration": 427,
    "start_time": "2022-01-24T22:24:13.003Z"
   },
   {
    "duration": 539,
    "start_time": "2022-01-24T22:24:13.431Z"
   },
   {
    "duration": 42,
    "start_time": "2022-01-24T22:24:13.971Z"
   },
   {
    "duration": 4,
    "start_time": "2022-01-24T22:24:14.014Z"
   },
   {
    "duration": 56,
    "start_time": "2022-01-24T22:24:14.020Z"
   },
   {
    "duration": 47,
    "start_time": "2022-01-24T22:24:14.078Z"
   },
   {
    "duration": 4,
    "start_time": "2022-01-24T22:24:14.126Z"
   },
   {
    "duration": 68,
    "start_time": "2022-01-24T22:24:14.131Z"
   },
   {
    "duration": 26,
    "start_time": "2022-01-24T22:24:14.201Z"
   },
   {
    "duration": 485,
    "start_time": "2022-01-24T22:24:14.229Z"
   },
   {
    "duration": 3,
    "start_time": "2022-01-24T22:24:14.716Z"
   },
   {
    "duration": 302,
    "start_time": "2022-01-24T22:25:44.155Z"
   },
   {
    "duration": 201,
    "start_time": "2022-01-24T22:27:00.538Z"
   },
   {
    "duration": 194,
    "start_time": "2022-01-24T22:27:42.637Z"
   },
   {
    "duration": 4,
    "start_time": "2022-01-24T22:27:43.476Z"
   },
   {
    "duration": 1215,
    "start_time": "2022-01-24T22:28:50.408Z"
   },
   {
    "duration": 664,
    "start_time": "2022-01-24T22:28:51.625Z"
   },
   {
    "duration": 19,
    "start_time": "2022-01-24T22:28:52.291Z"
   },
   {
    "duration": 5,
    "start_time": "2022-01-24T22:28:52.311Z"
   },
   {
    "duration": 327,
    "start_time": "2022-01-24T22:28:52.318Z"
   },
   {
    "duration": 237,
    "start_time": "2022-01-24T22:28:52.647Z"
   },
   {
    "duration": 128,
    "start_time": "2022-01-24T22:28:52.886Z"
   },
   {
    "duration": 441,
    "start_time": "2022-01-24T22:28:53.015Z"
   },
   {
    "duration": 546,
    "start_time": "2022-01-24T22:28:53.459Z"
   },
   {
    "duration": 32,
    "start_time": "2022-01-24T22:28:54.007Z"
   },
   {
    "duration": 4,
    "start_time": "2022-01-24T22:28:54.040Z"
   },
   {
    "duration": 57,
    "start_time": "2022-01-24T22:28:54.045Z"
   },
   {
    "duration": 16,
    "start_time": "2022-01-24T22:28:54.104Z"
   },
   {
    "duration": 3,
    "start_time": "2022-01-24T22:28:54.121Z"
   },
   {
    "duration": 51,
    "start_time": "2022-01-24T22:28:54.126Z"
   },
   {
    "duration": 30,
    "start_time": "2022-01-24T22:28:54.179Z"
   },
   {
    "duration": 539,
    "start_time": "2022-01-24T22:28:54.210Z"
   },
   {
    "duration": 4,
    "start_time": "2022-01-24T22:28:54.751Z"
   },
   {
    "duration": 288,
    "start_time": "2022-01-24T22:30:12.489Z"
   },
   {
    "duration": 1198,
    "start_time": "2022-01-24T22:30:22.317Z"
   },
   {
    "duration": 653,
    "start_time": "2022-01-24T22:30:23.517Z"
   },
   {
    "duration": 15,
    "start_time": "2022-01-24T22:30:24.172Z"
   },
   {
    "duration": 4,
    "start_time": "2022-01-24T22:30:24.197Z"
   },
   {
    "duration": 324,
    "start_time": "2022-01-24T22:30:24.202Z"
   },
   {
    "duration": 231,
    "start_time": "2022-01-24T22:30:24.527Z"
   },
   {
    "duration": 126,
    "start_time": "2022-01-24T22:30:24.759Z"
   },
   {
    "duration": 424,
    "start_time": "2022-01-24T22:30:24.887Z"
   },
   {
    "duration": 528,
    "start_time": "2022-01-24T22:30:25.313Z"
   },
   {
    "duration": 32,
    "start_time": "2022-01-24T22:30:25.843Z"
   },
   {
    "duration": 3,
    "start_time": "2022-01-24T22:30:25.876Z"
   },
   {
    "duration": 66,
    "start_time": "2022-01-24T22:30:25.881Z"
   },
   {
    "duration": 17,
    "start_time": "2022-01-24T22:30:25.948Z"
   },
   {
    "duration": 6,
    "start_time": "2022-01-24T22:30:25.966Z"
   },
   {
    "duration": 69,
    "start_time": "2022-01-24T22:30:25.973Z"
   },
   {
    "duration": 27,
    "start_time": "2022-01-24T22:30:26.043Z"
   },
   {
    "duration": 488,
    "start_time": "2022-01-24T22:30:26.072Z"
   },
   {
    "duration": 4,
    "start_time": "2022-01-24T22:30:26.562Z"
   },
   {
    "duration": 1214,
    "start_time": "2022-01-24T22:31:22.387Z"
   },
   {
    "duration": 664,
    "start_time": "2022-01-24T22:31:23.603Z"
   },
   {
    "duration": 16,
    "start_time": "2022-01-24T22:31:24.269Z"
   },
   {
    "duration": 3,
    "start_time": "2022-01-24T22:31:24.287Z"
   },
   {
    "duration": 320,
    "start_time": "2022-01-24T22:31:24.292Z"
   },
   {
    "duration": 237,
    "start_time": "2022-01-24T22:31:24.614Z"
   },
   {
    "duration": 151,
    "start_time": "2022-01-24T22:31:24.853Z"
   },
   {
    "duration": 456,
    "start_time": "2022-01-24T22:31:25.006Z"
   },
   {
    "duration": 562,
    "start_time": "2022-01-24T22:31:25.464Z"
   },
   {
    "duration": 32,
    "start_time": "2022-01-24T22:31:26.028Z"
   },
   {
    "duration": 3,
    "start_time": "2022-01-24T22:31:26.062Z"
   },
   {
    "duration": 73,
    "start_time": "2022-01-24T22:31:26.067Z"
   },
   {
    "duration": 321,
    "start_time": "2022-01-24T22:31:26.142Z"
   },
   {
    "duration": -102,
    "start_time": "2022-01-24T22:31:26.567Z"
   },
   {
    "duration": -103,
    "start_time": "2022-01-24T22:31:26.569Z"
   },
   {
    "duration": -104,
    "start_time": "2022-01-24T22:31:26.571Z"
   },
   {
    "duration": -105,
    "start_time": "2022-01-24T22:31:26.573Z"
   },
   {
    "duration": -105,
    "start_time": "2022-01-24T22:31:26.574Z"
   },
   {
    "duration": 18,
    "start_time": "2022-01-24T22:31:41.382Z"
   },
   {
    "duration": 58,
    "start_time": "2022-01-24T22:31:56.416Z"
   },
   {
    "duration": 27,
    "start_time": "2022-01-24T22:32:29.852Z"
   },
   {
    "duration": 457,
    "start_time": "2022-01-24T22:34:29.732Z"
   },
   {
    "duration": 4,
    "start_time": "2022-01-24T22:45:17.253Z"
   },
   {
    "duration": 177,
    "start_time": "2022-01-24T22:45:32.168Z"
   },
   {
    "duration": 352,
    "start_time": "2022-01-24T22:45:41.061Z"
   },
   {
    "duration": 171,
    "start_time": "2022-01-24T22:54:20.033Z"
   },
   {
    "duration": 20,
    "start_time": "2022-01-24T23:01:02.230Z"
   },
   {
    "duration": 21,
    "start_time": "2022-01-24T23:01:34.090Z"
   },
   {
    "duration": 4,
    "start_time": "2022-01-24T23:02:08.344Z"
   },
   {
    "duration": 210,
    "start_time": "2022-01-24T23:04:49.298Z"
   },
   {
    "duration": 106,
    "start_time": "2022-01-24T23:05:09.475Z"
   },
   {
    "duration": 176,
    "start_time": "2022-01-24T23:05:23.629Z"
   },
   {
    "duration": 60,
    "start_time": "2022-01-24T23:07:03.755Z"
   },
   {
    "duration": 76,
    "start_time": "2022-01-24T23:07:16.179Z"
   },
   {
    "duration": 446,
    "start_time": "2022-01-25T03:29:08.417Z"
   },
   {
    "duration": 339,
    "start_time": "2022-01-25T03:29:31.741Z"
   },
   {
    "duration": 2526,
    "start_time": "2022-01-25T03:29:42.356Z"
   },
   {
    "duration": 9475,
    "start_time": "2022-01-25T03:29:44.885Z"
   },
   {
    "duration": 23,
    "start_time": "2022-01-25T03:29:54.363Z"
   },
   {
    "duration": 7,
    "start_time": "2022-01-25T03:29:54.388Z"
   },
   {
    "duration": 487,
    "start_time": "2022-01-25T03:29:54.397Z"
   },
   {
    "duration": 328,
    "start_time": "2022-01-25T03:29:54.886Z"
   },
   {
    "duration": 154,
    "start_time": "2022-01-25T03:29:55.218Z"
   },
   {
    "duration": 636,
    "start_time": "2022-01-25T03:29:55.375Z"
   },
   {
    "duration": 857,
    "start_time": "2022-01-25T03:29:56.015Z"
   },
   {
    "duration": 51,
    "start_time": "2022-01-25T03:29:56.875Z"
   },
   {
    "duration": 5,
    "start_time": "2022-01-25T03:29:56.929Z"
   },
   {
    "duration": 40,
    "start_time": "2022-01-25T03:29:56.960Z"
   },
   {
    "duration": 5,
    "start_time": "2022-01-25T03:29:57.002Z"
   },
   {
    "duration": 184,
    "start_time": "2022-01-25T03:29:57.009Z"
   },
   {
    "duration": 22,
    "start_time": "2022-01-25T03:29:57.195Z"
   },
   {
    "duration": 88,
    "start_time": "2022-01-25T03:29:57.220Z"
   },
   {
    "duration": 54,
    "start_time": "2022-01-25T03:29:57.310Z"
   },
   {
    "duration": 692,
    "start_time": "2022-01-25T03:29:57.367Z"
   },
   {
    "duration": 45,
    "start_time": "2022-01-25T03:29:58.061Z"
   },
   {
    "duration": 5,
    "start_time": "2022-01-25T03:29:58.108Z"
   },
   {
    "duration": 580,
    "start_time": "2022-01-25T03:29:58.115Z"
   },
   {
    "duration": 6,
    "start_time": "2022-01-25T03:29:58.698Z"
   },
   {
    "duration": 503,
    "start_time": "2022-01-25T03:34:47.328Z"
   },
   {
    "duration": 20,
    "start_time": "2022-01-25T03:34:58.833Z"
   },
   {
    "duration": 8812,
    "start_time": "2022-01-25T03:38:01.013Z"
   },
   {
    "duration": 42,
    "start_time": "2022-01-25T03:38:24.587Z"
   },
   {
    "duration": 68,
    "start_time": "2022-01-25T03:48:25.364Z"
   },
   {
    "duration": 1569,
    "start_time": "2022-01-25T03:48:57.969Z"
   },
   {
    "duration": 923,
    "start_time": "2022-01-25T03:48:59.540Z"
   },
   {
    "duration": 24,
    "start_time": "2022-01-25T03:49:00.466Z"
   },
   {
    "duration": 21,
    "start_time": "2022-01-25T03:49:00.493Z"
   },
   {
    "duration": 466,
    "start_time": "2022-01-25T03:49:00.517Z"
   },
   {
    "duration": 331,
    "start_time": "2022-01-25T03:49:00.986Z"
   },
   {
    "duration": 157,
    "start_time": "2022-01-25T03:49:01.319Z"
   },
   {
    "duration": 604,
    "start_time": "2022-01-25T03:49:01.479Z"
   },
   {
    "duration": 725,
    "start_time": "2022-01-25T03:49:02.086Z"
   },
   {
    "duration": 68,
    "start_time": "2022-01-25T03:49:02.814Z"
   },
   {
    "duration": 5,
    "start_time": "2022-01-25T03:49:02.885Z"
   },
   {
    "duration": 45,
    "start_time": "2022-01-25T03:49:02.892Z"
   },
   {
    "duration": 22,
    "start_time": "2022-01-25T03:49:02.940Z"
   },
   {
    "duration": 179,
    "start_time": "2022-01-25T03:49:02.964Z"
   },
   {
    "duration": 28,
    "start_time": "2022-01-25T03:49:03.146Z"
   },
   {
    "duration": 91,
    "start_time": "2022-01-25T03:49:03.177Z"
   },
   {
    "duration": 48,
    "start_time": "2022-01-25T03:49:03.271Z"
   },
   {
    "duration": 670,
    "start_time": "2022-01-25T03:49:03.322Z"
   },
   {
    "duration": 44,
    "start_time": "2022-01-25T03:49:03.994Z"
   },
   {
    "duration": 22,
    "start_time": "2022-01-25T03:49:04.060Z"
   },
   {
    "duration": 42,
    "start_time": "2022-01-25T03:49:04.085Z"
   },
   {
    "duration": 69,
    "start_time": "2022-01-25T03:49:04.159Z"
   },
   {
    "duration": 511,
    "start_time": "2022-01-25T03:49:04.232Z"
   },
   {
    "duration": -102,
    "start_time": "2022-01-25T03:49:04.848Z"
   },
   {
    "duration": -105,
    "start_time": "2022-01-25T03:49:04.852Z"
   },
   {
    "duration": -105,
    "start_time": "2022-01-25T03:49:04.854Z"
   },
   {
    "duration": 66,
    "start_time": "2022-01-25T03:53:10.536Z"
   },
   {
    "duration": 1586,
    "start_time": "2022-01-25T03:55:50.235Z"
   },
   {
    "duration": 893,
    "start_time": "2022-01-25T03:55:51.823Z"
   },
   {
    "duration": 23,
    "start_time": "2022-01-25T03:55:52.719Z"
   },
   {
    "duration": 16,
    "start_time": "2022-01-25T03:55:52.744Z"
   },
   {
    "duration": 463,
    "start_time": "2022-01-25T03:55:52.762Z"
   },
   {
    "duration": 319,
    "start_time": "2022-01-25T03:55:53.227Z"
   },
   {
    "duration": 155,
    "start_time": "2022-01-25T03:55:53.548Z"
   },
   {
    "duration": 510,
    "start_time": "2022-01-25T03:55:53.706Z"
   },
   {
    "duration": 733,
    "start_time": "2022-01-25T03:55:54.219Z"
   },
   {
    "duration": 51,
    "start_time": "2022-01-25T03:55:54.954Z"
   },
   {
    "duration": 5,
    "start_time": "2022-01-25T03:55:55.007Z"
   },
   {
    "duration": 68,
    "start_time": "2022-01-25T03:55:55.014Z"
   },
   {
    "duration": 5,
    "start_time": "2022-01-25T03:55:55.084Z"
   },
   {
    "duration": 166,
    "start_time": "2022-01-25T03:55:55.091Z"
   },
   {
    "duration": 22,
    "start_time": "2022-01-25T03:55:55.260Z"
   },
   {
    "duration": 81,
    "start_time": "2022-01-25T03:55:55.284Z"
   },
   {
    "duration": 43,
    "start_time": "2022-01-25T03:55:55.368Z"
   },
   {
    "duration": 646,
    "start_time": "2022-01-25T03:55:55.413Z"
   },
   {
    "duration": 46,
    "start_time": "2022-01-25T03:55:56.061Z"
   },
   {
    "duration": 20,
    "start_time": "2022-01-25T03:55:56.109Z"
   },
   {
    "duration": 67,
    "start_time": "2022-01-25T03:55:56.131Z"
   },
   {
    "duration": 97,
    "start_time": "2022-01-25T03:55:56.200Z"
   },
   {
    "duration": 496,
    "start_time": "2022-01-25T03:55:56.301Z"
   },
   {
    "duration": -210,
    "start_time": "2022-01-25T03:55:57.010Z"
   },
   {
    "duration": -212,
    "start_time": "2022-01-25T03:55:57.013Z"
   },
   {
    "duration": -213,
    "start_time": "2022-01-25T03:55:57.016Z"
   },
   {
    "duration": 19,
    "start_time": "2022-01-25T04:00:25.786Z"
   },
   {
    "duration": 19,
    "start_time": "2022-01-25T04:00:41.291Z"
   },
   {
    "duration": 55,
    "start_time": "2022-01-25T04:02:10.171Z"
   },
   {
    "duration": 345,
    "start_time": "2022-01-25T04:08:28.337Z"
   },
   {
    "duration": 400,
    "start_time": "2022-01-25T04:08:47.792Z"
   },
   {
    "duration": 5,
    "start_time": "2022-01-25T04:08:57.072Z"
   },
   {
    "duration": 5,
    "start_time": "2022-01-25T04:09:13.336Z"
   },
   {
    "duration": 5,
    "start_time": "2022-01-25T04:10:14.101Z"
   },
   {
    "duration": 523,
    "start_time": "2022-01-25T04:10:32.781Z"
   },
   {
    "duration": 879,
    "start_time": "2022-01-25T04:10:52.130Z"
   },
   {
    "duration": 516,
    "start_time": "2022-01-25T04:11:20.270Z"
   },
   {
    "duration": 5,
    "start_time": "2022-01-25T04:11:57.707Z"
   },
   {
    "duration": 548,
    "start_time": "2022-01-25T04:12:04.079Z"
   },
   {
    "duration": 891,
    "start_time": "2022-01-25T04:12:17.595Z"
   },
   {
    "duration": 998,
    "start_time": "2022-01-25T04:12:29.683Z"
   },
   {
    "duration": 551,
    "start_time": "2022-01-25T04:15:45.684Z"
   },
   {
    "duration": 1574,
    "start_time": "2022-01-25T04:16:09.457Z"
   },
   {
    "duration": 913,
    "start_time": "2022-01-25T04:16:11.034Z"
   },
   {
    "duration": 31,
    "start_time": "2022-01-25T04:16:11.950Z"
   },
   {
    "duration": 4,
    "start_time": "2022-01-25T04:16:11.984Z"
   },
   {
    "duration": 446,
    "start_time": "2022-01-25T04:16:11.991Z"
   },
   {
    "duration": 324,
    "start_time": "2022-01-25T04:16:12.439Z"
   },
   {
    "duration": 170,
    "start_time": "2022-01-25T04:16:12.765Z"
   },
   {
    "duration": 522,
    "start_time": "2022-01-25T04:16:12.940Z"
   },
   {
    "duration": 742,
    "start_time": "2022-01-25T04:16:13.465Z"
   },
   {
    "duration": 64,
    "start_time": "2022-01-25T04:16:14.210Z"
   },
   {
    "duration": 5,
    "start_time": "2022-01-25T04:16:14.276Z"
   },
   {
    "duration": 42,
    "start_time": "2022-01-25T04:16:14.283Z"
   },
   {
    "duration": 33,
    "start_time": "2022-01-25T04:16:14.328Z"
   },
   {
    "duration": 168,
    "start_time": "2022-01-25T04:16:14.363Z"
   },
   {
    "duration": 31,
    "start_time": "2022-01-25T04:16:14.533Z"
   },
   {
    "duration": 63,
    "start_time": "2022-01-25T04:16:14.567Z"
   },
   {
    "duration": 58,
    "start_time": "2022-01-25T04:16:14.632Z"
   },
   {
    "duration": 630,
    "start_time": "2022-01-25T04:16:14.692Z"
   },
   {
    "duration": 47,
    "start_time": "2022-01-25T04:16:15.325Z"
   },
   {
    "duration": 19,
    "start_time": "2022-01-25T04:16:15.375Z"
   },
   {
    "duration": 68,
    "start_time": "2022-01-25T04:16:15.397Z"
   },
   {
    "duration": 69,
    "start_time": "2022-01-25T04:16:15.467Z"
   },
   {
    "duration": 549,
    "start_time": "2022-01-25T04:16:15.540Z"
   },
   {
    "duration": -128,
    "start_time": "2022-01-25T04:16:16.220Z"
   },
   {
    "duration": -131,
    "start_time": "2022-01-25T04:16:16.224Z"
   },
   {
    "duration": -266,
    "start_time": "2022-01-25T04:16:16.361Z"
   },
   {
    "duration": 346,
    "start_time": "2022-01-25T04:16:36.491Z"
   },
   {
    "duration": 5,
    "start_time": "2022-01-25T04:17:27.518Z"
   },
   {
    "duration": 540,
    "start_time": "2022-01-25T04:17:31.643Z"
   },
   {
    "duration": 1557,
    "start_time": "2022-01-25T04:19:44.365Z"
   },
   {
    "duration": 918,
    "start_time": "2022-01-25T04:19:45.925Z"
   },
   {
    "duration": 25,
    "start_time": "2022-01-25T04:19:46.846Z"
   },
   {
    "duration": 6,
    "start_time": "2022-01-25T04:19:46.873Z"
   },
   {
    "duration": 455,
    "start_time": "2022-01-25T04:19:46.881Z"
   },
   {
    "duration": 325,
    "start_time": "2022-01-25T04:19:47.338Z"
   },
   {
    "duration": 150,
    "start_time": "2022-01-25T04:19:47.665Z"
   },
   {
    "duration": 518,
    "start_time": "2022-01-25T04:19:47.818Z"
   },
   {
    "duration": 745,
    "start_time": "2022-01-25T04:19:48.339Z"
   },
   {
    "duration": 53,
    "start_time": "2022-01-25T04:19:49.087Z"
   },
   {
    "duration": 6,
    "start_time": "2022-01-25T04:19:49.159Z"
   },
   {
    "duration": 40,
    "start_time": "2022-01-25T04:19:49.168Z"
   },
   {
    "duration": 5,
    "start_time": "2022-01-25T04:19:49.211Z"
   },
   {
    "duration": 217,
    "start_time": "2022-01-25T04:19:49.219Z"
   },
   {
    "duration": 40,
    "start_time": "2022-01-25T04:19:49.439Z"
   },
   {
    "duration": 80,
    "start_time": "2022-01-25T04:19:49.482Z"
   },
   {
    "duration": 45,
    "start_time": "2022-01-25T04:19:49.565Z"
   },
   {
    "duration": 648,
    "start_time": "2022-01-25T04:19:49.613Z"
   },
   {
    "duration": 46,
    "start_time": "2022-01-25T04:19:50.264Z"
   },
   {
    "duration": 48,
    "start_time": "2022-01-25T04:19:50.313Z"
   },
   {
    "duration": 40,
    "start_time": "2022-01-25T04:19:50.364Z"
   },
   {
    "duration": 93,
    "start_time": "2022-01-25T04:19:50.407Z"
   },
   {
    "duration": 2,
    "start_time": "2022-01-25T04:19:50.505Z"
   },
   {
    "duration": 6,
    "start_time": "2022-01-25T04:19:50.510Z"
   },
   {
    "duration": 85,
    "start_time": "2022-01-25T04:19:50.518Z"
   },
   {
    "duration": 5,
    "start_time": "2022-01-25T04:19:50.605Z"
   },
   {
    "duration": 533,
    "start_time": "2022-01-25T04:22:24.988Z"
   },
   {
    "duration": 1534,
    "start_time": "2022-01-25T04:25:26.294Z"
   },
   {
    "duration": 7,
    "start_time": "2022-01-25T04:25:27.831Z"
   },
   {
    "duration": 935,
    "start_time": "2022-01-25T04:25:27.841Z"
   },
   {
    "duration": 24,
    "start_time": "2022-01-25T04:25:28.779Z"
   },
   {
    "duration": 5,
    "start_time": "2022-01-25T04:25:28.805Z"
   },
   {
    "duration": 569,
    "start_time": "2022-01-25T04:25:28.812Z"
   },
   {
    "duration": 327,
    "start_time": "2022-01-25T04:25:29.383Z"
   },
   {
    "duration": 150,
    "start_time": "2022-01-25T04:25:29.714Z"
   },
   {
    "duration": 640,
    "start_time": "2022-01-25T04:25:29.867Z"
   },
   {
    "duration": 761,
    "start_time": "2022-01-25T04:25:30.509Z"
   },
   {
    "duration": 53,
    "start_time": "2022-01-25T04:25:31.272Z"
   },
   {
    "duration": 4,
    "start_time": "2022-01-25T04:25:31.328Z"
   },
   {
    "duration": 64,
    "start_time": "2022-01-25T04:25:31.334Z"
   },
   {
    "duration": 5,
    "start_time": "2022-01-25T04:25:31.400Z"
   },
   {
    "duration": 182,
    "start_time": "2022-01-25T04:25:31.407Z"
   },
   {
    "duration": 21,
    "start_time": "2022-01-25T04:25:31.592Z"
   },
   {
    "duration": 87,
    "start_time": "2022-01-25T04:25:31.615Z"
   },
   {
    "duration": 56,
    "start_time": "2022-01-25T04:25:31.705Z"
   },
   {
    "duration": 615,
    "start_time": "2022-01-25T04:25:31.764Z"
   },
   {
    "duration": 44,
    "start_time": "2022-01-25T04:25:32.381Z"
   },
   {
    "duration": 42,
    "start_time": "2022-01-25T04:25:32.427Z"
   },
   {
    "duration": 40,
    "start_time": "2022-01-25T04:25:32.471Z"
   },
   {
    "duration": 90,
    "start_time": "2022-01-25T04:25:32.515Z"
   },
   {
    "duration": 510,
    "start_time": "2022-01-25T04:25:32.608Z"
   },
   {
    "duration": -101,
    "start_time": "2022-01-25T04:25:33.222Z"
   },
   {
    "duration": -103,
    "start_time": "2022-01-25T04:25:33.225Z"
   },
   {
    "duration": -105,
    "start_time": "2022-01-25T04:25:33.228Z"
   },
   {
    "duration": 549,
    "start_time": "2022-01-25T04:25:50.811Z"
   },
   {
    "duration": 92,
    "start_time": "2022-01-25T04:31:10.256Z"
   },
   {
    "duration": 44,
    "start_time": "2022-01-25T04:31:27.441Z"
   },
   {
    "duration": 44,
    "start_time": "2022-01-25T04:32:40.621Z"
   },
   {
    "duration": 36,
    "start_time": "2022-01-25T04:33:45.505Z"
   },
   {
    "duration": 24,
    "start_time": "2022-01-25T04:37:55.684Z"
   },
   {
    "duration": 128,
    "start_time": "2022-01-25T04:40:10.712Z"
   },
   {
    "duration": 133,
    "start_time": "2022-01-25T04:40:35.437Z"
   },
   {
    "duration": 12557,
    "start_time": "2022-01-25T04:40:53.139Z"
   },
   {
    "duration": 410,
    "start_time": "2022-01-25T04:41:48.436Z"
   },
   {
    "duration": 52,
    "start_time": "2022-01-25T04:42:28.737Z"
   },
   {
    "duration": 406,
    "start_time": "2022-01-25T04:42:41.431Z"
   },
   {
    "duration": 124,
    "start_time": "2022-01-25T04:43:04.330Z"
   },
   {
    "duration": 55,
    "start_time": "2022-01-25T04:43:24.499Z"
   },
   {
    "duration": 5,
    "start_time": "2022-01-25T04:43:39.603Z"
   },
   {
    "duration": 9780,
    "start_time": "2022-01-25T04:45:03.912Z"
   },
   {
    "duration": 610,
    "start_time": "2022-01-25T04:46:50.575Z"
   },
   {
    "duration": 632,
    "start_time": "2022-01-25T04:47:03.551Z"
   },
   {
    "duration": 113,
    "start_time": "2022-01-25T04:49:53.404Z"
   },
   {
    "duration": 42,
    "start_time": "2022-01-25T04:50:00.685Z"
   },
   {
    "duration": 624,
    "start_time": "2022-01-25T04:52:05.992Z"
   },
   {
    "duration": 1701,
    "start_time": "2022-01-25T04:52:49.826Z"
   },
   {
    "duration": 5,
    "start_time": "2022-01-25T04:52:51.531Z"
   },
   {
    "duration": 1058,
    "start_time": "2022-01-25T04:52:51.540Z"
   },
   {
    "duration": 26,
    "start_time": "2022-01-25T04:52:52.601Z"
   },
   {
    "duration": 7,
    "start_time": "2022-01-25T04:52:52.630Z"
   },
   {
    "duration": 654,
    "start_time": "2022-01-25T04:52:52.640Z"
   },
   {
    "duration": 371,
    "start_time": "2022-01-25T04:52:53.296Z"
   },
   {
    "duration": 189,
    "start_time": "2022-01-25T04:52:53.673Z"
   },
   {
    "duration": 784,
    "start_time": "2022-01-25T04:52:53.865Z"
   },
   {
    "duration": 1285,
    "start_time": "2022-01-25T04:52:54.653Z"
   },
   {
    "duration": 84,
    "start_time": "2022-01-25T04:52:55.940Z"
   },
   {
    "duration": 7,
    "start_time": "2022-01-25T04:52:56.027Z"
   },
   {
    "duration": 84,
    "start_time": "2022-01-25T04:52:56.037Z"
   },
   {
    "duration": 5,
    "start_time": "2022-01-25T04:52:56.124Z"
   },
   {
    "duration": 202,
    "start_time": "2022-01-25T04:52:56.132Z"
   },
   {
    "duration": 41,
    "start_time": "2022-01-25T04:52:56.336Z"
   },
   {
    "duration": 86,
    "start_time": "2022-01-25T04:52:56.380Z"
   },
   {
    "duration": 51,
    "start_time": "2022-01-25T04:52:56.469Z"
   },
   {
    "duration": 842,
    "start_time": "2022-01-25T04:52:56.523Z"
   },
   {
    "duration": 93,
    "start_time": "2022-01-25T04:52:57.368Z"
   },
   {
    "duration": 34,
    "start_time": "2022-01-25T04:52:57.464Z"
   },
   {
    "duration": 81,
    "start_time": "2022-01-25T04:52:57.500Z"
   },
   {
    "duration": 81,
    "start_time": "2022-01-25T04:52:57.585Z"
   },
   {
    "duration": 783,
    "start_time": "2022-01-25T04:52:57.669Z"
   },
   {
    "duration": 43,
    "start_time": "2022-01-25T04:52:58.455Z"
   },
   {
    "duration": 92,
    "start_time": "2022-01-25T04:52:58.501Z"
   },
   {
    "duration": 676,
    "start_time": "2022-01-25T04:52:58.595Z"
   },
   {
    "duration": 522,
    "start_time": "2022-01-25T04:52:59.275Z"
   },
   {
    "duration": -195,
    "start_time": "2022-01-25T04:52:59.995Z"
   },
   {
    "duration": -198,
    "start_time": "2022-01-25T04:53:00.000Z"
   },
   {
    "duration": -199,
    "start_time": "2022-01-25T04:53:00.003Z"
   },
   {
    "duration": 1624,
    "start_time": "2022-01-25T04:53:29.791Z"
   },
   {
    "duration": 7,
    "start_time": "2022-01-25T04:53:31.418Z"
   },
   {
    "duration": 969,
    "start_time": "2022-01-25T04:53:31.429Z"
   },
   {
    "duration": 27,
    "start_time": "2022-01-25T04:53:32.401Z"
   },
   {
    "duration": 30,
    "start_time": "2022-01-25T04:53:32.431Z"
   },
   {
    "duration": 477,
    "start_time": "2022-01-25T04:53:32.464Z"
   },
   {
    "duration": 349,
    "start_time": "2022-01-25T04:53:32.943Z"
   },
   {
    "duration": 155,
    "start_time": "2022-01-25T04:53:33.296Z"
   },
   {
    "duration": 546,
    "start_time": "2022-01-25T04:53:33.459Z"
   },
   {
    "duration": 797,
    "start_time": "2022-01-25T04:53:34.008Z"
   },
   {
    "duration": 76,
    "start_time": "2022-01-25T04:53:34.808Z"
   },
   {
    "duration": 4,
    "start_time": "2022-01-25T04:53:34.886Z"
   },
   {
    "duration": 40,
    "start_time": "2022-01-25T04:53:34.892Z"
   },
   {
    "duration": 28,
    "start_time": "2022-01-25T04:53:34.934Z"
   },
   {
    "duration": 178,
    "start_time": "2022-01-25T04:53:34.965Z"
   },
   {
    "duration": 31,
    "start_time": "2022-01-25T04:53:35.145Z"
   },
   {
    "duration": 88,
    "start_time": "2022-01-25T04:53:35.179Z"
   },
   {
    "duration": 45,
    "start_time": "2022-01-25T04:53:35.270Z"
   },
   {
    "duration": 692,
    "start_time": "2022-01-25T04:53:35.318Z"
   },
   {
    "duration": 57,
    "start_time": "2022-01-25T04:53:36.012Z"
   },
   {
    "duration": 27,
    "start_time": "2022-01-25T04:53:36.072Z"
   },
   {
    "duration": 74,
    "start_time": "2022-01-25T04:53:36.102Z"
   },
   {
    "duration": 85,
    "start_time": "2022-01-25T04:53:36.181Z"
   },
   {
    "duration": 627,
    "start_time": "2022-01-25T04:53:36.269Z"
   },
   {
    "duration": 35,
    "start_time": "2022-01-25T04:53:36.899Z"
   },
   {
    "duration": 85,
    "start_time": "2022-01-25T04:53:36.937Z"
   },
   {
    "duration": 60,
    "start_time": "2022-01-25T04:53:37.024Z"
   },
   {
    "duration": 637,
    "start_time": "2022-01-25T04:53:37.087Z"
   },
   {
    "duration": 522,
    "start_time": "2022-01-25T04:53:37.727Z"
   },
   {
    "duration": -111,
    "start_time": "2022-01-25T04:53:38.362Z"
   },
   {
    "duration": -113,
    "start_time": "2022-01-25T04:53:38.366Z"
   },
   {
    "duration": -117,
    "start_time": "2022-01-25T04:53:38.371Z"
   },
   {
    "duration": 6,
    "start_time": "2022-01-25T04:55:10.368Z"
   },
   {
    "duration": 8,
    "start_time": "2022-01-25T04:57:33.776Z"
   },
   {
    "duration": 698,
    "start_time": "2022-01-25T04:57:53.606Z"
   },
   {
    "duration": 40,
    "start_time": "2022-01-25T04:59:52.320Z"
   },
   {
    "duration": 606,
    "start_time": "2022-01-25T05:01:24.198Z"
   },
   {
    "duration": 1705,
    "start_time": "2022-01-25T05:03:26.459Z"
   },
   {
    "duration": 11,
    "start_time": "2022-01-25T05:03:28.167Z"
   },
   {
    "duration": 1170,
    "start_time": "2022-01-25T05:03:28.181Z"
   },
   {
    "duration": 36,
    "start_time": "2022-01-25T05:03:29.354Z"
   },
   {
    "duration": 4,
    "start_time": "2022-01-25T05:03:29.393Z"
   },
   {
    "duration": 547,
    "start_time": "2022-01-25T05:03:29.399Z"
   },
   {
    "duration": 357,
    "start_time": "2022-01-25T05:03:29.949Z"
   },
   {
    "duration": 154,
    "start_time": "2022-01-25T05:03:30.309Z"
   },
   {
    "duration": 575,
    "start_time": "2022-01-25T05:03:30.467Z"
   },
   {
    "duration": 843,
    "start_time": "2022-01-25T05:03:31.045Z"
   },
   {
    "duration": 90,
    "start_time": "2022-01-25T05:03:31.892Z"
   },
   {
    "duration": 6,
    "start_time": "2022-01-25T05:03:31.985Z"
   },
   {
    "duration": 87,
    "start_time": "2022-01-25T05:03:31.994Z"
   },
   {
    "duration": 5,
    "start_time": "2022-01-25T05:03:32.084Z"
   },
   {
    "duration": 190,
    "start_time": "2022-01-25T05:03:32.091Z"
   },
   {
    "duration": 23,
    "start_time": "2022-01-25T05:03:32.285Z"
   },
   {
    "duration": 111,
    "start_time": "2022-01-25T05:03:32.311Z"
   },
   {
    "duration": 65,
    "start_time": "2022-01-25T05:03:32.425Z"
   },
   {
    "duration": 694,
    "start_time": "2022-01-25T05:03:32.492Z"
   },
   {
    "duration": 46,
    "start_time": "2022-01-25T05:03:33.189Z"
   },
   {
    "duration": 38,
    "start_time": "2022-01-25T05:03:33.237Z"
   },
   {
    "duration": 41,
    "start_time": "2022-01-25T05:03:33.278Z"
   },
   {
    "duration": 104,
    "start_time": "2022-01-25T05:03:33.324Z"
   },
   {
    "duration": 605,
    "start_time": "2022-01-25T05:03:33.431Z"
   },
   {
    "duration": 55,
    "start_time": "2022-01-25T05:03:34.039Z"
   },
   {
    "duration": 73,
    "start_time": "2022-01-25T05:03:34.096Z"
   },
   {
    "duration": 39,
    "start_time": "2022-01-25T05:03:34.172Z"
   },
   {
    "duration": 641,
    "start_time": "2022-01-25T05:03:34.214Z"
   },
   {
    "duration": 48,
    "start_time": "2022-01-25T05:03:34.859Z"
   },
   {
    "duration": 580,
    "start_time": "2022-01-25T05:03:34.909Z"
   },
   {
    "duration": -102,
    "start_time": "2022-01-25T05:03:35.594Z"
   },
   {
    "duration": -241,
    "start_time": "2022-01-25T05:03:35.734Z"
   },
   {
    "duration": -243,
    "start_time": "2022-01-25T05:03:35.737Z"
   },
   {
    "duration": -244,
    "start_time": "2022-01-25T05:03:35.740Z"
   },
   {
    "duration": 938,
    "start_time": "2022-01-25T05:04:09.984Z"
   },
   {
    "duration": 992,
    "start_time": "2022-01-25T05:09:45.397Z"
   },
   {
    "duration": 653,
    "start_time": "2022-01-25T05:10:01.804Z"
   },
   {
    "duration": 1019,
    "start_time": "2022-01-25T05:11:02.157Z"
   },
   {
    "duration": 1741,
    "start_time": "2022-01-25T05:11:33.242Z"
   },
   {
    "duration": 7,
    "start_time": "2022-01-25T05:11:34.986Z"
   },
   {
    "duration": 957,
    "start_time": "2022-01-25T05:11:34.996Z"
   },
   {
    "duration": 38,
    "start_time": "2022-01-25T05:11:35.955Z"
   },
   {
    "duration": 6,
    "start_time": "2022-01-25T05:11:35.995Z"
   },
   {
    "duration": 513,
    "start_time": "2022-01-25T05:11:36.004Z"
   },
   {
    "duration": 360,
    "start_time": "2022-01-25T05:11:36.519Z"
   },
   {
    "duration": 152,
    "start_time": "2022-01-25T05:11:36.883Z"
   },
   {
    "duration": 556,
    "start_time": "2022-01-25T05:11:37.038Z"
   },
   {
    "duration": 882,
    "start_time": "2022-01-25T05:11:37.597Z"
   },
   {
    "duration": 50,
    "start_time": "2022-01-25T05:11:38.482Z"
   },
   {
    "duration": 5,
    "start_time": "2022-01-25T05:11:38.534Z"
   },
   {
    "duration": 53,
    "start_time": "2022-01-25T05:11:38.560Z"
   },
   {
    "duration": 5,
    "start_time": "2022-01-25T05:11:38.616Z"
   },
   {
    "duration": 178,
    "start_time": "2022-01-25T05:11:38.623Z"
   },
   {
    "duration": 22,
    "start_time": "2022-01-25T05:11:38.803Z"
   },
   {
    "duration": 91,
    "start_time": "2022-01-25T05:11:38.828Z"
   },
   {
    "duration": 60,
    "start_time": "2022-01-25T05:11:38.922Z"
   },
   {
    "duration": 643,
    "start_time": "2022-01-25T05:11:38.984Z"
   },
   {
    "duration": 59,
    "start_time": "2022-01-25T05:11:39.630Z"
   },
   {
    "duration": 21,
    "start_time": "2022-01-25T05:11:39.692Z"
   },
   {
    "duration": 73,
    "start_time": "2022-01-25T05:11:39.716Z"
   },
   {
    "duration": 87,
    "start_time": "2022-01-25T05:11:39.795Z"
   },
   {
    "duration": 608,
    "start_time": "2022-01-25T05:11:39.884Z"
   },
   {
    "duration": 36,
    "start_time": "2022-01-25T05:11:40.494Z"
   },
   {
    "duration": 84,
    "start_time": "2022-01-25T05:11:40.532Z"
   },
   {
    "duration": 50,
    "start_time": "2022-01-25T05:11:40.618Z"
   },
   {
    "duration": 748,
    "start_time": "2022-01-25T05:11:40.671Z"
   },
   {
    "duration": 51,
    "start_time": "2022-01-25T05:11:41.421Z"
   },
   {
    "duration": 619,
    "start_time": "2022-01-25T05:11:41.475Z"
   },
   {
    "duration": 899,
    "start_time": "2022-01-25T05:11:42.097Z"
   },
   {
    "duration": -295,
    "start_time": "2022-01-25T05:11:43.293Z"
   },
   {
    "duration": -298,
    "start_time": "2022-01-25T05:11:43.298Z"
   },
   {
    "duration": -300,
    "start_time": "2022-01-25T05:11:43.302Z"
   },
   {
    "duration": -304,
    "start_time": "2022-01-25T05:11:43.307Z"
   },
   {
    "duration": 626,
    "start_time": "2022-01-25T05:12:47.075Z"
   },
   {
    "duration": 678,
    "start_time": "2022-01-25T05:13:31.843Z"
   },
   {
    "duration": 7,
    "start_time": "2022-01-25T05:13:43.081Z"
   },
   {
    "duration": 622,
    "start_time": "2022-01-25T05:13:48.097Z"
   },
   {
    "duration": 64,
    "start_time": "2022-01-25T05:14:21.391Z"
   },
   {
    "duration": 613,
    "start_time": "2022-01-25T05:14:40.503Z"
   },
   {
    "duration": 631,
    "start_time": "2022-01-25T05:14:56.197Z"
   },
   {
    "duration": 54,
    "start_time": "2022-01-25T05:17:00.853Z"
   },
   {
    "duration": 1600,
    "start_time": "2022-01-25T05:17:26.366Z"
   },
   {
    "duration": 10,
    "start_time": "2022-01-25T05:17:27.970Z"
   },
   {
    "duration": 966,
    "start_time": "2022-01-25T05:17:27.984Z"
   },
   {
    "duration": 30,
    "start_time": "2022-01-25T05:17:28.953Z"
   },
   {
    "duration": 5,
    "start_time": "2022-01-25T05:17:28.985Z"
   },
   {
    "duration": 486,
    "start_time": "2022-01-25T05:17:28.992Z"
   },
   {
    "duration": 1138,
    "start_time": "2022-01-25T05:17:29.480Z"
   },
   {
    "duration": 151,
    "start_time": "2022-01-25T05:17:30.621Z"
   },
   {
    "duration": 538,
    "start_time": "2022-01-25T05:17:30.776Z"
   },
   {
    "duration": 834,
    "start_time": "2022-01-25T05:17:31.317Z"
   },
   {
    "duration": 63,
    "start_time": "2022-01-25T05:17:32.153Z"
   },
   {
    "duration": 4,
    "start_time": "2022-01-25T05:17:32.219Z"
   },
   {
    "duration": 74,
    "start_time": "2022-01-25T05:17:32.225Z"
   },
   {
    "duration": 5,
    "start_time": "2022-01-25T05:17:32.302Z"
   },
   {
    "duration": 193,
    "start_time": "2022-01-25T05:17:32.310Z"
   },
   {
    "duration": 22,
    "start_time": "2022-01-25T05:17:32.505Z"
   },
   {
    "duration": 92,
    "start_time": "2022-01-25T05:17:32.530Z"
   },
   {
    "duration": 66,
    "start_time": "2022-01-25T05:17:32.626Z"
   },
   {
    "duration": 712,
    "start_time": "2022-01-25T05:17:32.696Z"
   },
   {
    "duration": 52,
    "start_time": "2022-01-25T05:17:33.410Z"
   },
   {
    "duration": 30,
    "start_time": "2022-01-25T05:17:33.465Z"
   },
   {
    "duration": 65,
    "start_time": "2022-01-25T05:17:33.497Z"
   },
   {
    "duration": 89,
    "start_time": "2022-01-25T05:17:33.569Z"
   },
   {
    "duration": 593,
    "start_time": "2022-01-25T05:17:33.661Z"
   },
   {
    "duration": 42,
    "start_time": "2022-01-25T05:17:34.256Z"
   },
   {
    "duration": 90,
    "start_time": "2022-01-25T05:17:34.300Z"
   },
   {
    "duration": 40,
    "start_time": "2022-01-25T05:17:34.392Z"
   },
   {
    "duration": 635,
    "start_time": "2022-01-25T05:17:34.434Z"
   },
   {
    "duration": 40,
    "start_time": "2022-01-25T05:17:35.072Z"
   },
   {
    "duration": 637,
    "start_time": "2022-01-25T05:17:35.115Z"
   },
   {
    "duration": 610,
    "start_time": "2022-01-25T05:17:35.759Z"
   },
   {
    "duration": 59,
    "start_time": "2022-01-25T05:17:36.373Z"
   },
   {
    "duration": 543,
    "start_time": "2022-01-25T05:17:36.434Z"
   },
   {
    "duration": -109,
    "start_time": "2022-01-25T05:17:37.089Z"
   },
   {
    "duration": -111,
    "start_time": "2022-01-25T05:17:37.093Z"
   },
   {
    "duration": -115,
    "start_time": "2022-01-25T05:17:37.098Z"
   },
   {
    "duration": 50,
    "start_time": "2022-01-25T05:18:49.219Z"
   },
   {
    "duration": 598,
    "start_time": "2022-01-25T05:19:20.417Z"
   },
   {
    "duration": 6,
    "start_time": "2022-01-25T05:19:27.775Z"
   },
   {
    "duration": 15,
    "start_time": "2022-01-25T05:21:26.662Z"
   },
   {
    "duration": 12,
    "start_time": "2022-01-25T05:22:03.279Z"
   },
   {
    "duration": 39,
    "start_time": "2022-01-25T05:23:41.895Z"
   },
   {
    "duration": 2211,
    "start_time": "2022-01-25T16:50:49.295Z"
   },
   {
    "duration": 489,
    "start_time": "2022-01-25T16:51:31.517Z"
   },
   {
    "duration": 1755,
    "start_time": "2022-01-25T16:51:46.406Z"
   },
   {
    "duration": 8,
    "start_time": "2022-01-25T16:51:48.163Z"
   },
   {
    "duration": 985,
    "start_time": "2022-01-25T16:51:48.173Z"
   },
   {
    "duration": 30,
    "start_time": "2022-01-25T16:51:49.161Z"
   },
   {
    "duration": 11,
    "start_time": "2022-01-25T16:51:49.193Z"
   },
   {
    "duration": 464,
    "start_time": "2022-01-25T16:51:49.206Z"
   },
   {
    "duration": 1050,
    "start_time": "2022-01-25T16:51:49.673Z"
   },
   {
    "duration": 145,
    "start_time": "2022-01-25T16:51:50.727Z"
   },
   {
    "duration": 474,
    "start_time": "2022-01-25T16:51:50.875Z"
   },
   {
    "duration": 757,
    "start_time": "2022-01-25T16:51:51.352Z"
   },
   {
    "duration": 62,
    "start_time": "2022-01-25T16:51:52.112Z"
   },
   {
    "duration": 4,
    "start_time": "2022-01-25T16:51:52.176Z"
   },
   {
    "duration": 44,
    "start_time": "2022-01-25T16:51:52.182Z"
   },
   {
    "duration": 5,
    "start_time": "2022-01-25T16:51:52.228Z"
   },
   {
    "duration": 196,
    "start_time": "2022-01-25T16:51:52.235Z"
   },
   {
    "duration": 36,
    "start_time": "2022-01-25T16:51:52.434Z"
   },
   {
    "duration": 101,
    "start_time": "2022-01-25T16:51:52.473Z"
   },
   {
    "duration": 44,
    "start_time": "2022-01-25T16:51:52.576Z"
   },
   {
    "duration": 655,
    "start_time": "2022-01-25T16:51:52.623Z"
   },
   {
    "duration": 46,
    "start_time": "2022-01-25T16:51:53.280Z"
   },
   {
    "duration": 41,
    "start_time": "2022-01-25T16:51:53.329Z"
   },
   {
    "duration": 38,
    "start_time": "2022-01-25T16:51:53.373Z"
   },
   {
    "duration": 94,
    "start_time": "2022-01-25T16:51:53.416Z"
   },
   {
    "duration": 561,
    "start_time": "2022-01-25T16:51:53.513Z"
   },
   {
    "duration": 36,
    "start_time": "2022-01-25T16:51:54.076Z"
   },
   {
    "duration": 86,
    "start_time": "2022-01-25T16:51:54.114Z"
   },
   {
    "duration": 41,
    "start_time": "2022-01-25T16:51:54.203Z"
   },
   {
    "duration": 625,
    "start_time": "2022-01-25T16:51:54.246Z"
   },
   {
    "duration": 40,
    "start_time": "2022-01-25T16:51:54.873Z"
   },
   {
    "duration": 630,
    "start_time": "2022-01-25T16:51:54.916Z"
   },
   {
    "duration": 521,
    "start_time": "2022-01-25T16:51:55.549Z"
   },
   {
    "duration": 52,
    "start_time": "2022-01-25T16:51:56.072Z"
   },
   {
    "duration": 11,
    "start_time": "2022-01-25T16:51:56.126Z"
   },
   {
    "duration": 66,
    "start_time": "2022-01-25T16:51:56.140Z"
   },
   {
    "duration": 437,
    "start_time": "2022-01-25T16:51:56.208Z"
   },
   {
    "duration": -104,
    "start_time": "2022-01-25T16:51:56.752Z"
   },
   {
    "duration": -109,
    "start_time": "2022-01-25T16:51:56.758Z"
   },
   {
    "duration": -241,
    "start_time": "2022-01-25T16:51:56.892Z"
   },
   {
    "duration": -242,
    "start_time": "2022-01-25T16:51:56.894Z"
   },
   {
    "duration": -243,
    "start_time": "2022-01-25T16:51:56.897Z"
   },
   {
    "duration": -244,
    "start_time": "2022-01-25T16:51:56.900Z"
   },
   {
    "duration": -245,
    "start_time": "2022-01-25T16:51:56.902Z"
   },
   {
    "duration": -246,
    "start_time": "2022-01-25T16:51:56.905Z"
   },
   {
    "duration": 571,
    "start_time": "2022-01-25T16:53:13.461Z"
   },
   {
    "duration": 7,
    "start_time": "2022-01-25T16:53:44.335Z"
   },
   {
    "duration": 17,
    "start_time": "2022-01-25T16:54:03.832Z"
   },
   {
    "duration": 1688,
    "start_time": "2022-01-25T16:55:29.246Z"
   },
   {
    "duration": 8,
    "start_time": "2022-01-25T16:55:30.937Z"
   },
   {
    "duration": 1221,
    "start_time": "2022-01-25T16:55:30.949Z"
   },
   {
    "duration": 26,
    "start_time": "2022-01-25T16:55:32.173Z"
   },
   {
    "duration": 9,
    "start_time": "2022-01-25T16:55:32.202Z"
   },
   {
    "duration": 504,
    "start_time": "2022-01-25T16:55:32.214Z"
   },
   {
    "duration": 1197,
    "start_time": "2022-01-25T16:55:32.720Z"
   },
   {
    "duration": 156,
    "start_time": "2022-01-25T16:55:33.922Z"
   },
   {
    "duration": 548,
    "start_time": "2022-01-25T16:55:34.082Z"
   },
   {
    "duration": 758,
    "start_time": "2022-01-25T16:55:34.633Z"
   },
   {
    "duration": 53,
    "start_time": "2022-01-25T16:55:35.393Z"
   },
   {
    "duration": 23,
    "start_time": "2022-01-25T16:55:35.449Z"
   },
   {
    "duration": 45,
    "start_time": "2022-01-25T16:55:35.474Z"
   },
   {
    "duration": 5,
    "start_time": "2022-01-25T16:55:35.522Z"
   },
   {
    "duration": 193,
    "start_time": "2022-01-25T16:55:35.529Z"
   },
   {
    "duration": 24,
    "start_time": "2022-01-25T16:55:35.724Z"
   },
   {
    "duration": 84,
    "start_time": "2022-01-25T16:55:35.750Z"
   },
   {
    "duration": 65,
    "start_time": "2022-01-25T16:55:35.837Z"
   },
   {
    "duration": 630,
    "start_time": "2022-01-25T16:55:35.904Z"
   },
   {
    "duration": 50,
    "start_time": "2022-01-25T16:55:36.536Z"
   },
   {
    "duration": 20,
    "start_time": "2022-01-25T16:55:36.589Z"
   },
   {
    "duration": 66,
    "start_time": "2022-01-25T16:55:36.611Z"
   },
   {
    "duration": 91,
    "start_time": "2022-01-25T16:55:36.683Z"
   },
   {
    "duration": 617,
    "start_time": "2022-01-25T16:55:36.776Z"
   },
   {
    "duration": 36,
    "start_time": "2022-01-25T16:55:37.395Z"
   },
   {
    "duration": 88,
    "start_time": "2022-01-25T16:55:37.433Z"
   },
   {
    "duration": 50,
    "start_time": "2022-01-25T16:55:37.524Z"
   },
   {
    "duration": 612,
    "start_time": "2022-01-25T16:55:37.577Z"
   },
   {
    "duration": 41,
    "start_time": "2022-01-25T16:55:38.191Z"
   },
   {
    "duration": 627,
    "start_time": "2022-01-25T16:55:38.235Z"
   },
   {
    "duration": 597,
    "start_time": "2022-01-25T16:55:38.865Z"
   },
   {
    "duration": 55,
    "start_time": "2022-01-25T16:55:39.464Z"
   },
   {
    "duration": 11,
    "start_time": "2022-01-25T16:55:39.522Z"
   },
   {
    "duration": 71,
    "start_time": "2022-01-25T16:55:39.535Z"
   },
   {
    "duration": 440,
    "start_time": "2022-01-25T16:55:39.608Z"
   },
   {
    "duration": -102,
    "start_time": "2022-01-25T16:55:40.152Z"
   },
   {
    "duration": -115,
    "start_time": "2022-01-25T16:55:40.166Z"
   },
   {
    "duration": -128,
    "start_time": "2022-01-25T16:55:40.180Z"
   },
   {
    "duration": -226,
    "start_time": "2022-01-25T16:55:40.280Z"
   },
   {
    "duration": -228,
    "start_time": "2022-01-25T16:55:40.283Z"
   },
   {
    "duration": -232,
    "start_time": "2022-01-25T16:55:40.288Z"
   },
   {
    "duration": -234,
    "start_time": "2022-01-25T16:55:40.292Z"
   },
   {
    "duration": -242,
    "start_time": "2022-01-25T16:55:40.303Z"
   },
   {
    "duration": -255,
    "start_time": "2022-01-25T16:55:40.317Z"
   },
   {
    "duration": -270,
    "start_time": "2022-01-25T16:55:40.334Z"
   },
   {
    "duration": -282,
    "start_time": "2022-01-25T16:55:40.348Z"
   },
   {
    "duration": 1412,
    "start_time": "2022-01-25T16:57:12.041Z"
   },
   {
    "duration": 94,
    "start_time": "2022-01-25T16:57:44.397Z"
   },
   {
    "duration": 619,
    "start_time": "2022-01-25T16:58:07.704Z"
   },
   {
    "duration": 7,
    "start_time": "2022-01-25T16:58:12.479Z"
   },
   {
    "duration": 20,
    "start_time": "2022-01-25T16:58:13.429Z"
   },
   {
    "duration": 1613,
    "start_time": "2022-01-25T17:08:37.263Z"
   },
   {
    "duration": 8,
    "start_time": "2022-01-25T17:08:38.878Z"
   },
   {
    "duration": 974,
    "start_time": "2022-01-25T17:08:38.890Z"
   },
   {
    "duration": 29,
    "start_time": "2022-01-25T17:08:39.870Z"
   },
   {
    "duration": 20,
    "start_time": "2022-01-25T17:08:39.902Z"
   },
   {
    "duration": 500,
    "start_time": "2022-01-25T17:08:39.924Z"
   },
   {
    "duration": 1250,
    "start_time": "2022-01-25T17:08:40.426Z"
   },
   {
    "duration": 148,
    "start_time": "2022-01-25T17:08:41.679Z"
   },
   {
    "duration": 497,
    "start_time": "2022-01-25T17:08:41.830Z"
   },
   {
    "duration": 788,
    "start_time": "2022-01-25T17:08:42.330Z"
   },
   {
    "duration": 70,
    "start_time": "2022-01-25T17:08:43.121Z"
   },
   {
    "duration": 7,
    "start_time": "2022-01-25T17:08:43.194Z"
   },
   {
    "duration": 68,
    "start_time": "2022-01-25T17:08:43.204Z"
   },
   {
    "duration": 6,
    "start_time": "2022-01-25T17:08:43.275Z"
   },
   {
    "duration": 185,
    "start_time": "2022-01-25T17:08:43.284Z"
   },
   {
    "duration": 23,
    "start_time": "2022-01-25T17:08:43.472Z"
   },
   {
    "duration": 95,
    "start_time": "2022-01-25T17:08:43.498Z"
   },
   {
    "duration": 44,
    "start_time": "2022-01-25T17:08:43.595Z"
   },
   {
    "duration": 648,
    "start_time": "2022-01-25T17:08:43.642Z"
   },
   {
    "duration": 48,
    "start_time": "2022-01-25T17:08:44.292Z"
   },
   {
    "duration": 37,
    "start_time": "2022-01-25T17:08:44.342Z"
   },
   {
    "duration": 45,
    "start_time": "2022-01-25T17:08:44.382Z"
   },
   {
    "duration": 103,
    "start_time": "2022-01-25T17:08:44.433Z"
   },
   {
    "duration": 589,
    "start_time": "2022-01-25T17:08:44.539Z"
   },
   {
    "duration": 50,
    "start_time": "2022-01-25T17:08:45.130Z"
   },
   {
    "duration": 63,
    "start_time": "2022-01-25T17:08:45.183Z"
   },
   {
    "duration": 60,
    "start_time": "2022-01-25T17:08:45.248Z"
   },
   {
    "duration": 633,
    "start_time": "2022-01-25T17:08:45.310Z"
   },
   {
    "duration": 50,
    "start_time": "2022-01-25T17:08:45.946Z"
   },
   {
    "duration": 656,
    "start_time": "2022-01-25T17:08:45.999Z"
   },
   {
    "duration": 531,
    "start_time": "2022-01-25T17:08:46.658Z"
   },
   {
    "duration": 58,
    "start_time": "2022-01-25T17:08:47.191Z"
   },
   {
    "duration": 29,
    "start_time": "2022-01-25T17:08:47.251Z"
   },
   {
    "duration": 39,
    "start_time": "2022-01-25T17:08:47.282Z"
   },
   {
    "duration": 591,
    "start_time": "2022-01-25T17:08:47.323Z"
   },
   {
    "duration": 21,
    "start_time": "2022-01-25T17:08:47.917Z"
   },
   {
    "duration": 79,
    "start_time": "2022-01-25T17:08:47.940Z"
   },
   {
    "duration": 414,
    "start_time": "2022-01-25T17:08:48.022Z"
   },
   {
    "duration": -114,
    "start_time": "2022-01-25T17:08:48.552Z"
   },
   {
    "duration": -117,
    "start_time": "2022-01-25T17:08:48.556Z"
   },
   {
    "duration": -126,
    "start_time": "2022-01-25T17:08:48.566Z"
   },
   {
    "duration": -128,
    "start_time": "2022-01-25T17:08:48.570Z"
   },
   {
    "duration": -138,
    "start_time": "2022-01-25T17:08:48.581Z"
   },
   {
    "duration": -140,
    "start_time": "2022-01-25T17:08:48.584Z"
   },
   {
    "duration": -141,
    "start_time": "2022-01-25T17:08:48.587Z"
   },
   {
    "duration": 12,
    "start_time": "2022-01-25T17:09:30.927Z"
   },
   {
    "duration": 1559,
    "start_time": "2022-01-25T17:10:42.713Z"
   },
   {
    "duration": 8,
    "start_time": "2022-01-25T17:10:44.275Z"
   },
   {
    "duration": 976,
    "start_time": "2022-01-25T17:10:44.286Z"
   },
   {
    "duration": 27,
    "start_time": "2022-01-25T17:10:45.264Z"
   },
   {
    "duration": 11,
    "start_time": "2022-01-25T17:10:45.293Z"
   },
   {
    "duration": 481,
    "start_time": "2022-01-25T17:10:45.307Z"
   },
   {
    "duration": 1072,
    "start_time": "2022-01-25T17:10:45.791Z"
   },
   {
    "duration": 148,
    "start_time": "2022-01-25T17:10:46.866Z"
   },
   {
    "duration": 541,
    "start_time": "2022-01-25T17:10:47.017Z"
   },
   {
    "duration": 793,
    "start_time": "2022-01-25T17:10:47.561Z"
   },
   {
    "duration": 61,
    "start_time": "2022-01-25T17:10:48.357Z"
   },
   {
    "duration": 5,
    "start_time": "2022-01-25T17:10:48.420Z"
   },
   {
    "duration": 72,
    "start_time": "2022-01-25T17:10:48.427Z"
   },
   {
    "duration": 4,
    "start_time": "2022-01-25T17:10:48.501Z"
   },
   {
    "duration": 174,
    "start_time": "2022-01-25T17:10:48.508Z"
   },
   {
    "duration": 24,
    "start_time": "2022-01-25T17:10:48.684Z"
   },
   {
    "duration": 93,
    "start_time": "2022-01-25T17:10:48.710Z"
   },
   {
    "duration": 45,
    "start_time": "2022-01-25T17:10:48.805Z"
   },
   {
    "duration": 690,
    "start_time": "2022-01-25T17:10:48.852Z"
   },
   {
    "duration": 49,
    "start_time": "2022-01-25T17:10:49.545Z"
   },
   {
    "duration": 21,
    "start_time": "2022-01-25T17:10:49.596Z"
   },
   {
    "duration": 52,
    "start_time": "2022-01-25T17:10:49.619Z"
   },
   {
    "duration": 73,
    "start_time": "2022-01-25T17:10:49.676Z"
   },
   {
    "duration": 860,
    "start_time": "2022-01-25T17:10:49.753Z"
   },
   {
    "duration": 37,
    "start_time": "2022-01-25T17:10:50.615Z"
   },
   {
    "duration": 76,
    "start_time": "2022-01-25T17:10:50.654Z"
   },
   {
    "duration": 63,
    "start_time": "2022-01-25T17:10:50.732Z"
   },
   {
    "duration": 630,
    "start_time": "2022-01-25T17:10:50.797Z"
   },
   {
    "duration": 46,
    "start_time": "2022-01-25T17:10:51.429Z"
   },
   {
    "duration": 616,
    "start_time": "2022-01-25T17:10:51.477Z"
   },
   {
    "duration": 559,
    "start_time": "2022-01-25T17:10:52.096Z"
   },
   {
    "duration": 59,
    "start_time": "2022-01-25T17:10:52.657Z"
   },
   {
    "duration": 11,
    "start_time": "2022-01-25T17:10:52.718Z"
   },
   {
    "duration": 63,
    "start_time": "2022-01-25T17:10:52.731Z"
   },
   {
    "duration": 576,
    "start_time": "2022-01-25T17:10:52.797Z"
   },
   {
    "duration": 58,
    "start_time": "2022-01-25T17:10:53.375Z"
   },
   {
    "duration": 410,
    "start_time": "2022-01-25T17:10:53.436Z"
   },
   {
    "duration": -104,
    "start_time": "2022-01-25T17:10:53.953Z"
   },
   {
    "duration": -107,
    "start_time": "2022-01-25T17:10:53.957Z"
   },
   {
    "duration": -110,
    "start_time": "2022-01-25T17:10:53.962Z"
   },
   {
    "duration": -112,
    "start_time": "2022-01-25T17:10:53.965Z"
   },
   {
    "duration": -239,
    "start_time": "2022-01-25T17:10:54.094Z"
   },
   {
    "duration": -250,
    "start_time": "2022-01-25T17:10:54.106Z"
   },
   {
    "duration": -251,
    "start_time": "2022-01-25T17:10:54.109Z"
   },
   {
    "duration": 590,
    "start_time": "2022-01-25T17:11:12.555Z"
   },
   {
    "duration": 7,
    "start_time": "2022-01-25T17:12:37.281Z"
   },
   {
    "duration": 12,
    "start_time": "2022-01-25T17:13:03.263Z"
   },
   {
    "duration": 1572,
    "start_time": "2022-01-25T17:13:12.017Z"
   },
   {
    "duration": 7,
    "start_time": "2022-01-25T17:13:13.592Z"
   },
   {
    "duration": 1068,
    "start_time": "2022-01-25T17:13:13.602Z"
   },
   {
    "duration": 36,
    "start_time": "2022-01-25T17:13:14.674Z"
   },
   {
    "duration": 7,
    "start_time": "2022-01-25T17:13:14.713Z"
   },
   {
    "duration": 548,
    "start_time": "2022-01-25T17:13:14.722Z"
   },
   {
    "duration": 1060,
    "start_time": "2022-01-25T17:13:15.272Z"
   },
   {
    "duration": 145,
    "start_time": "2022-01-25T17:13:16.335Z"
   },
   {
    "duration": 502,
    "start_time": "2022-01-25T17:13:16.483Z"
   },
   {
    "duration": 782,
    "start_time": "2022-01-25T17:13:16.987Z"
   },
   {
    "duration": 52,
    "start_time": "2022-01-25T17:13:17.772Z"
   },
   {
    "duration": 5,
    "start_time": "2022-01-25T17:13:17.827Z"
   },
   {
    "duration": 71,
    "start_time": "2022-01-25T17:13:17.834Z"
   },
   {
    "duration": 5,
    "start_time": "2022-01-25T17:13:17.907Z"
   },
   {
    "duration": 172,
    "start_time": "2022-01-25T17:13:17.915Z"
   },
   {
    "duration": 23,
    "start_time": "2022-01-25T17:13:18.090Z"
   },
   {
    "duration": 89,
    "start_time": "2022-01-25T17:13:18.115Z"
   },
   {
    "duration": 48,
    "start_time": "2022-01-25T17:13:18.207Z"
   },
   {
    "duration": 627,
    "start_time": "2022-01-25T17:13:18.269Z"
   },
   {
    "duration": 46,
    "start_time": "2022-01-25T17:13:18.899Z"
   },
   {
    "duration": 34,
    "start_time": "2022-01-25T17:13:18.948Z"
   },
   {
    "duration": 42,
    "start_time": "2022-01-25T17:13:18.984Z"
   },
   {
    "duration": 96,
    "start_time": "2022-01-25T17:13:19.031Z"
   },
   {
    "duration": 596,
    "start_time": "2022-01-25T17:13:19.130Z"
   },
   {
    "duration": 50,
    "start_time": "2022-01-25T17:13:19.728Z"
   },
   {
    "duration": 63,
    "start_time": "2022-01-25T17:13:19.780Z"
   },
   {
    "duration": 61,
    "start_time": "2022-01-25T17:13:19.846Z"
   },
   {
    "duration": 630,
    "start_time": "2022-01-25T17:13:19.909Z"
   },
   {
    "duration": 47,
    "start_time": "2022-01-25T17:13:20.541Z"
   },
   {
    "duration": 628,
    "start_time": "2022-01-25T17:13:20.590Z"
   },
   {
    "duration": 637,
    "start_time": "2022-01-25T17:13:21.220Z"
   },
   {
    "duration": 59,
    "start_time": "2022-01-25T17:13:21.859Z"
   },
   {
    "duration": 13,
    "start_time": "2022-01-25T17:13:21.921Z"
   },
   {
    "duration": 66,
    "start_time": "2022-01-25T17:13:21.937Z"
   },
   {
    "duration": 549,
    "start_time": "2022-01-25T17:13:22.005Z"
   },
   {
    "duration": 64,
    "start_time": "2022-01-25T17:13:22.557Z"
   },
   {
    "duration": 411,
    "start_time": "2022-01-25T17:13:22.623Z"
   },
   {
    "duration": -145,
    "start_time": "2022-01-25T17:13:23.181Z"
   },
   {
    "duration": -148,
    "start_time": "2022-01-25T17:13:23.186Z"
   },
   {
    "duration": -153,
    "start_time": "2022-01-25T17:13:23.192Z"
   },
   {
    "duration": -158,
    "start_time": "2022-01-25T17:13:23.198Z"
   },
   {
    "duration": -267,
    "start_time": "2022-01-25T17:13:23.309Z"
   },
   {
    "duration": -277,
    "start_time": "2022-01-25T17:13:23.320Z"
   },
   {
    "duration": -278,
    "start_time": "2022-01-25T17:13:23.323Z"
   },
   {
    "duration": 1726,
    "start_time": "2022-01-25T17:14:04.477Z"
   },
   {
    "duration": 7,
    "start_time": "2022-01-25T17:14:06.206Z"
   },
   {
    "duration": 946,
    "start_time": "2022-01-25T17:14:06.216Z"
   },
   {
    "duration": 7080,
    "start_time": "2022-01-25T17:14:07.169Z"
   },
   {
    "duration": -255,
    "start_time": "2022-01-25T17:14:14.508Z"
   },
   {
    "duration": -265,
    "start_time": "2022-01-25T17:14:14.520Z"
   },
   {
    "duration": -268,
    "start_time": "2022-01-25T17:14:14.524Z"
   },
   {
    "duration": -271,
    "start_time": "2022-01-25T17:14:14.528Z"
   },
   {
    "duration": -271,
    "start_time": "2022-01-25T17:14:14.530Z"
   },
   {
    "duration": -273,
    "start_time": "2022-01-25T17:14:14.533Z"
   },
   {
    "duration": -273,
    "start_time": "2022-01-25T17:14:14.535Z"
   },
   {
    "duration": -273,
    "start_time": "2022-01-25T17:14:14.537Z"
   },
   {
    "duration": -273,
    "start_time": "2022-01-25T17:14:14.540Z"
   },
   {
    "duration": -274,
    "start_time": "2022-01-25T17:14:14.543Z"
   },
   {
    "duration": -277,
    "start_time": "2022-01-25T17:14:14.548Z"
   },
   {
    "duration": -277,
    "start_time": "2022-01-25T17:14:14.551Z"
   },
   {
    "duration": -277,
    "start_time": "2022-01-25T17:14:14.553Z"
   },
   {
    "duration": -276,
    "start_time": "2022-01-25T17:14:14.555Z"
   },
   {
    "duration": -278,
    "start_time": "2022-01-25T17:14:14.559Z"
   },
   {
    "duration": -278,
    "start_time": "2022-01-25T17:14:14.561Z"
   },
   {
    "duration": -279,
    "start_time": "2022-01-25T17:14:14.564Z"
   },
   {
    "duration": -278,
    "start_time": "2022-01-25T17:14:14.566Z"
   },
   {
    "duration": -279,
    "start_time": "2022-01-25T17:14:14.569Z"
   },
   {
    "duration": -426,
    "start_time": "2022-01-25T17:14:14.718Z"
   },
   {
    "duration": -433,
    "start_time": "2022-01-25T17:14:14.727Z"
   },
   {
    "duration": -433,
    "start_time": "2022-01-25T17:14:14.729Z"
   },
   {
    "duration": -433,
    "start_time": "2022-01-25T17:14:14.731Z"
   },
   {
    "duration": -433,
    "start_time": "2022-01-25T17:14:14.734Z"
   },
   {
    "duration": -433,
    "start_time": "2022-01-25T17:14:14.736Z"
   },
   {
    "duration": -433,
    "start_time": "2022-01-25T17:14:14.738Z"
   },
   {
    "duration": -433,
    "start_time": "2022-01-25T17:14:14.740Z"
   },
   {
    "duration": -432,
    "start_time": "2022-01-25T17:14:14.742Z"
   },
   {
    "duration": -433,
    "start_time": "2022-01-25T17:14:14.745Z"
   },
   {
    "duration": -434,
    "start_time": "2022-01-25T17:14:14.747Z"
   },
   {
    "duration": -435,
    "start_time": "2022-01-25T17:14:14.749Z"
   },
   {
    "duration": -436,
    "start_time": "2022-01-25T17:14:14.751Z"
   },
   {
    "duration": -386,
    "start_time": "2022-01-25T17:14:14.754Z"
   },
   {
    "duration": -386,
    "start_time": "2022-01-25T17:14:14.756Z"
   },
   {
    "duration": -387,
    "start_time": "2022-01-25T17:14:14.759Z"
   },
   {
    "duration": -387,
    "start_time": "2022-01-25T17:14:14.761Z"
   },
   {
    "duration": -387,
    "start_time": "2022-01-25T17:14:14.763Z"
   },
   {
    "duration": -387,
    "start_time": "2022-01-25T17:14:14.765Z"
   },
   {
    "duration": -387,
    "start_time": "2022-01-25T17:14:14.767Z"
   },
   {
    "duration": -388,
    "start_time": "2022-01-25T17:14:14.770Z"
   },
   {
    "duration": -389,
    "start_time": "2022-01-25T17:14:14.772Z"
   },
   {
    "duration": 909,
    "start_time": "2022-01-25T17:14:46.461Z"
   },
   {
    "duration": 26,
    "start_time": "2022-01-25T17:14:47.373Z"
   },
   {
    "duration": 6,
    "start_time": "2022-01-25T17:14:47.873Z"
   },
   {
    "duration": 502,
    "start_time": "2022-01-25T17:14:48.924Z"
   },
   {
    "duration": 1791,
    "start_time": "2022-01-25T17:14:51.305Z"
   },
   {
    "duration": 135,
    "start_time": "2022-01-25T17:14:58.663Z"
   },
   {
    "duration": 84,
    "start_time": "2022-01-25T17:15:02.478Z"
   },
   {
    "duration": 1992,
    "start_time": "2022-01-25T17:16:18.674Z"
   },
   {
    "duration": 11,
    "start_time": "2022-01-25T17:16:20.670Z"
   },
   {
    "duration": 929,
    "start_time": "2022-01-25T17:16:20.684Z"
   },
   {
    "duration": 30,
    "start_time": "2022-01-25T17:16:21.617Z"
   },
   {
    "duration": 24,
    "start_time": "2022-01-25T17:16:21.649Z"
   },
   {
    "duration": 479,
    "start_time": "2022-01-25T17:16:21.676Z"
   },
   {
    "duration": 1138,
    "start_time": "2022-01-25T17:16:22.157Z"
   },
   {
    "duration": 143,
    "start_time": "2022-01-25T17:16:23.299Z"
   },
   {
    "duration": 765,
    "start_time": "2022-01-25T17:16:23.447Z"
   },
   {
    "duration": 1300,
    "start_time": "2022-01-25T17:16:24.215Z"
   },
   {
    "duration": 103,
    "start_time": "2022-01-25T17:16:25.518Z"
   },
   {
    "duration": 6,
    "start_time": "2022-01-25T17:16:25.625Z"
   },
   {
    "duration": 78,
    "start_time": "2022-01-25T17:16:25.634Z"
   },
   {
    "duration": 5,
    "start_time": "2022-01-25T17:16:25.716Z"
   },
   {
    "duration": 206,
    "start_time": "2022-01-25T17:16:25.724Z"
   },
   {
    "duration": 39,
    "start_time": "2022-01-25T17:16:25.933Z"
   },
   {
    "duration": 117,
    "start_time": "2022-01-25T17:16:25.975Z"
   },
   {
    "duration": 52,
    "start_time": "2022-01-25T17:16:26.095Z"
   },
   {
    "duration": 1075,
    "start_time": "2022-01-25T17:16:26.169Z"
   },
   {
    "duration": 88,
    "start_time": "2022-01-25T17:16:27.247Z"
   },
   {
    "duration": 52,
    "start_time": "2022-01-25T17:16:27.338Z"
   },
   {
    "duration": 39,
    "start_time": "2022-01-25T17:16:27.393Z"
   },
   {
    "duration": 96,
    "start_time": "2022-01-25T17:16:27.437Z"
   },
   {
    "duration": 66,
    "start_time": "2022-01-25T17:16:27.535Z"
   },
   {
    "duration": 408,
    "start_time": "2022-01-25T17:16:27.603Z"
   },
   {
    "duration": -114,
    "start_time": "2022-01-25T17:16:28.128Z"
   },
   {
    "duration": -118,
    "start_time": "2022-01-25T17:16:28.133Z"
   },
   {
    "duration": -120,
    "start_time": "2022-01-25T17:16:28.137Z"
   },
   {
    "duration": -124,
    "start_time": "2022-01-25T17:16:28.142Z"
   },
   {
    "duration": -128,
    "start_time": "2022-01-25T17:16:28.147Z"
   },
   {
    "duration": -129,
    "start_time": "2022-01-25T17:16:28.150Z"
   },
   {
    "duration": -133,
    "start_time": "2022-01-25T17:16:28.155Z"
   },
   {
    "duration": -136,
    "start_time": "2022-01-25T17:16:28.160Z"
   },
   {
    "duration": -275,
    "start_time": "2022-01-25T17:16:28.300Z"
   },
   {
    "duration": -277,
    "start_time": "2022-01-25T17:16:28.304Z"
   },
   {
    "duration": -281,
    "start_time": "2022-01-25T17:16:28.309Z"
   },
   {
    "duration": -283,
    "start_time": "2022-01-25T17:16:28.312Z"
   },
   {
    "duration": -285,
    "start_time": "2022-01-25T17:16:28.316Z"
   },
   {
    "duration": -287,
    "start_time": "2022-01-25T17:16:28.319Z"
   },
   {
    "duration": -289,
    "start_time": "2022-01-25T17:16:28.323Z"
   },
   {
    "duration": -292,
    "start_time": "2022-01-25T17:16:28.327Z"
   },
   {
    "duration": -294,
    "start_time": "2022-01-25T17:16:28.330Z"
   },
   {
    "duration": -296,
    "start_time": "2022-01-25T17:16:28.333Z"
   },
   {
    "duration": -298,
    "start_time": "2022-01-25T17:16:28.337Z"
   },
   {
    "duration": -300,
    "start_time": "2022-01-25T17:16:28.340Z"
   },
   {
    "duration": -301,
    "start_time": "2022-01-25T17:16:28.343Z"
   },
   {
    "duration": 19,
    "start_time": "2022-01-25T17:17:41.421Z"
   },
   {
    "duration": 697,
    "start_time": "2022-01-25T17:18:01.856Z"
   },
   {
    "duration": 36,
    "start_time": "2022-01-25T17:18:10.394Z"
   },
   {
    "duration": 64,
    "start_time": "2022-01-25T17:18:17.595Z"
   },
   {
    "duration": 41,
    "start_time": "2022-01-25T17:18:18.881Z"
   },
   {
    "duration": 656,
    "start_time": "2022-01-25T17:18:20.612Z"
   },
   {
    "duration": 41,
    "start_time": "2022-01-25T17:18:25.347Z"
   },
   {
    "duration": 595,
    "start_time": "2022-01-25T17:18:39.118Z"
   },
   {
    "duration": 551,
    "start_time": "2022-01-25T17:18:41.895Z"
   },
   {
    "duration": 53,
    "start_time": "2022-01-25T17:18:57.133Z"
   },
   {
    "duration": 7,
    "start_time": "2022-01-25T17:19:49.710Z"
   },
   {
    "duration": 12,
    "start_time": "2022-01-25T17:19:51.462Z"
   },
   {
    "duration": 12,
    "start_time": "2022-01-25T17:20:04.796Z"
   },
   {
    "duration": 40,
    "start_time": "2022-01-25T17:20:07.775Z"
   },
   {
    "duration": 693,
    "start_time": "2022-01-25T17:20:24.026Z"
   },
   {
    "duration": 15,
    "start_time": "2022-01-25T17:21:04.864Z"
   },
   {
    "duration": 44,
    "start_time": "2022-01-25T17:22:28.543Z"
   },
   {
    "duration": 654,
    "start_time": "2022-01-25T17:24:50.805Z"
   },
   {
    "duration": 70,
    "start_time": "2022-01-25T17:25:29.987Z"
   },
   {
    "duration": 22,
    "start_time": "2022-01-25T17:28:22.269Z"
   },
   {
    "duration": 41,
    "start_time": "2022-01-25T17:28:34.436Z"
   },
   {
    "duration": 59,
    "start_time": "2022-01-25T17:28:39.992Z"
   },
   {
    "duration": 97,
    "start_time": "2022-01-25T17:30:44.203Z"
   },
   {
    "duration": 18,
    "start_time": "2022-01-25T17:30:57.381Z"
   },
   {
    "duration": 34,
    "start_time": "2022-01-25T17:31:02.007Z"
   },
   {
    "duration": 65,
    "start_time": "2022-01-25T17:31:08.928Z"
   },
   {
    "duration": 9,
    "start_time": "2022-01-25T17:31:13.856Z"
   },
   {
    "duration": 606,
    "start_time": "2022-01-25T17:31:17.909Z"
   },
   {
    "duration": 645,
    "start_time": "2022-01-25T17:31:31.265Z"
   },
   {
    "duration": 1691,
    "start_time": "2022-01-25T17:32:39.608Z"
   },
   {
    "duration": 7,
    "start_time": "2022-01-25T17:32:41.302Z"
   },
   {
    "duration": 994,
    "start_time": "2022-01-25T17:32:41.312Z"
   },
   {
    "duration": 25,
    "start_time": "2022-01-25T17:32:42.309Z"
   },
   {
    "duration": 9,
    "start_time": "2022-01-25T17:32:42.337Z"
   },
   {
    "duration": 610,
    "start_time": "2022-01-25T17:32:42.348Z"
   },
   {
    "duration": 1186,
    "start_time": "2022-01-25T17:32:42.960Z"
   },
   {
    "duration": 150,
    "start_time": "2022-01-25T17:32:44.150Z"
   },
   {
    "duration": 511,
    "start_time": "2022-01-25T17:32:44.303Z"
   },
   {
    "duration": 777,
    "start_time": "2022-01-25T17:32:44.816Z"
   },
   {
    "duration": 51,
    "start_time": "2022-01-25T17:32:45.596Z"
   },
   {
    "duration": 5,
    "start_time": "2022-01-25T17:32:45.669Z"
   },
   {
    "duration": 45,
    "start_time": "2022-01-25T17:32:45.677Z"
   },
   {
    "duration": 6,
    "start_time": "2022-01-25T17:32:45.725Z"
   },
   {
    "duration": 196,
    "start_time": "2022-01-25T17:32:45.734Z"
   },
   {
    "duration": 39,
    "start_time": "2022-01-25T17:32:45.933Z"
   },
   {
    "duration": 66,
    "start_time": "2022-01-25T17:32:45.975Z"
   },
   {
    "duration": 65,
    "start_time": "2022-01-25T17:32:46.044Z"
   },
   {
    "duration": 661,
    "start_time": "2022-01-25T17:32:46.112Z"
   },
   {
    "duration": 48,
    "start_time": "2022-01-25T17:32:46.776Z"
   },
   {
    "duration": 20,
    "start_time": "2022-01-25T17:32:46.827Z"
   },
   {
    "duration": 54,
    "start_time": "2022-01-25T17:32:46.871Z"
   },
   {
    "duration": 97,
    "start_time": "2022-01-25T17:32:46.931Z"
   },
   {
    "duration": 21,
    "start_time": "2022-01-25T17:32:47.032Z"
   },
   {
    "duration": 567,
    "start_time": "2022-01-25T17:32:47.070Z"
   },
   {
    "duration": 57,
    "start_time": "2022-01-25T17:32:47.640Z"
   },
   {
    "duration": 76,
    "start_time": "2022-01-25T17:32:47.700Z"
   },
   {
    "duration": 41,
    "start_time": "2022-01-25T17:32:47.778Z"
   },
   {
    "duration": 639,
    "start_time": "2022-01-25T17:32:47.821Z"
   },
   {
    "duration": 43,
    "start_time": "2022-01-25T17:32:48.463Z"
   },
   {
    "duration": 626,
    "start_time": "2022-01-25T17:32:48.509Z"
   },
   {
    "duration": 563,
    "start_time": "2022-01-25T17:32:49.137Z"
   },
   {
    "duration": 67,
    "start_time": "2022-01-25T17:32:49.703Z"
   },
   {
    "duration": 8,
    "start_time": "2022-01-25T17:32:49.773Z"
   },
   {
    "duration": 17,
    "start_time": "2022-01-25T17:32:49.784Z"
   },
   {
    "duration": 77,
    "start_time": "2022-01-25T17:32:49.804Z"
   },
   {
    "duration": 729,
    "start_time": "2022-01-25T17:32:51.351Z"
   },
   {
    "duration": 16,
    "start_time": "2022-01-25T17:32:52.083Z"
   },
   {
    "duration": 31,
    "start_time": "2022-01-25T17:32:52.101Z"
   },
   {
    "duration": 5,
    "start_time": "2022-01-25T17:32:52.134Z"
   },
   {
    "duration": 570,
    "start_time": "2022-01-25T18:36:58.376Z"
   },
   {
    "duration": 18,
    "start_time": "2022-01-25T18:37:13.405Z"
   },
   {
    "duration": 316,
    "start_time": "2022-01-25T19:01:16.854Z"
   },
   {
    "duration": 248,
    "start_time": "2022-01-25T19:01:32.428Z"
   },
   {
    "duration": 1369,
    "start_time": "2022-01-25T19:03:39.122Z"
   },
   {
    "duration": 19,
    "start_time": "2022-01-25T19:04:46.399Z"
   },
   {
    "duration": 1161,
    "start_time": "2022-01-25T19:04:47.515Z"
   },
   {
    "duration": 1724,
    "start_time": "2022-01-25T19:04:49.520Z"
   },
   {
    "duration": 1318,
    "start_time": "2022-01-25T19:17:14.303Z"
   },
   {
    "duration": 97,
    "start_time": "2022-01-25T19:18:59.952Z"
   },
   {
    "duration": 5,
    "start_time": "2022-01-25T19:20:02.802Z"
   },
   {
    "duration": 101,
    "start_time": "2022-01-25T19:21:20.863Z"
   },
   {
    "duration": 7,
    "start_time": "2022-01-25T19:21:31.516Z"
   },
   {
    "duration": 22963,
    "start_time": "2022-01-25T19:21:51.211Z"
   },
   {
    "duration": 63926,
    "start_time": "2022-01-25T19:23:06.510Z"
   },
   {
    "duration": 6,
    "start_time": "2022-01-25T19:24:22.262Z"
   },
   {
    "duration": 13519,
    "start_time": "2022-01-25T19:24:30.560Z"
   },
   {
    "duration": 191,
    "start_time": "2022-01-25T19:25:18.191Z"
   },
   {
    "duration": 11720,
    "start_time": "2022-01-25T19:25:49.551Z"
   },
   {
    "duration": 152812,
    "start_time": "2022-01-25T19:27:00.177Z"
   },
   {
    "duration": 504478,
    "start_time": "2022-01-25T19:29:32.992Z"
   },
   {
    "duration": 21996,
    "start_time": "2022-01-25T19:37:57.473Z"
   },
   {
    "duration": 61926,
    "start_time": "2022-01-25T19:38:19.472Z"
   },
   {
    "duration": 7,
    "start_time": "2022-01-25T19:39:21.401Z"
   },
   {
    "duration": 6,
    "start_time": "2022-01-25T19:47:14.066Z"
   },
   {
    "duration": 8,
    "start_time": "2022-01-25T19:55:56.536Z"
   },
   {
    "duration": 10,
    "start_time": "2022-01-25T20:16:45.003Z"
   },
   {
    "duration": 21382,
    "start_time": "2022-01-25T20:19:23.887Z"
   },
   {
    "duration": 153949,
    "start_time": "2022-01-25T20:20:36.783Z"
   },
   {
    "duration": -557,
    "start_time": "2022-01-25T20:23:11.299Z"
   },
   {
    "duration": 1636,
    "start_time": "2022-01-25T20:23:19.800Z"
   },
   {
    "duration": 9,
    "start_time": "2022-01-25T20:23:21.439Z"
   },
   {
    "duration": 1080,
    "start_time": "2022-01-25T20:23:21.451Z"
   },
   {
    "duration": 35,
    "start_time": "2022-01-25T20:23:22.534Z"
   },
   {
    "duration": 7,
    "start_time": "2022-01-25T20:23:22.572Z"
   },
   {
    "duration": 523,
    "start_time": "2022-01-25T20:23:22.581Z"
   },
   {
    "duration": 1206,
    "start_time": "2022-01-25T20:23:23.106Z"
   },
   {
    "duration": 156,
    "start_time": "2022-01-25T20:23:24.315Z"
   },
   {
    "duration": 497,
    "start_time": "2022-01-25T20:23:24.474Z"
   },
   {
    "duration": 765,
    "start_time": "2022-01-25T20:23:24.973Z"
   },
   {
    "duration": 64,
    "start_time": "2022-01-25T20:23:25.740Z"
   },
   {
    "duration": 5,
    "start_time": "2022-01-25T20:23:25.806Z"
   },
   {
    "duration": 60,
    "start_time": "2022-01-25T20:23:25.813Z"
   },
   {
    "duration": 5,
    "start_time": "2022-01-25T20:23:25.875Z"
   },
   {
    "duration": 171,
    "start_time": "2022-01-25T20:23:25.882Z"
   },
   {
    "duration": 27,
    "start_time": "2022-01-25T20:23:26.055Z"
   },
   {
    "duration": 86,
    "start_time": "2022-01-25T20:23:26.085Z"
   },
   {
    "duration": 43,
    "start_time": "2022-01-25T20:23:26.173Z"
   },
   {
    "duration": 643,
    "start_time": "2022-01-25T20:23:26.219Z"
   },
   {
    "duration": 55,
    "start_time": "2022-01-25T20:23:26.865Z"
   },
   {
    "duration": 21,
    "start_time": "2022-01-25T20:23:26.923Z"
   },
   {
    "duration": 42,
    "start_time": "2022-01-25T20:23:26.970Z"
   },
   {
    "duration": 94,
    "start_time": "2022-01-25T20:23:27.017Z"
   },
   {
    "duration": 19,
    "start_time": "2022-01-25T20:23:27.115Z"
   },
   {
    "duration": 565,
    "start_time": "2022-01-25T20:23:27.136Z"
   },
   {
    "duration": 37,
    "start_time": "2022-01-25T20:23:27.703Z"
   },
   {
    "duration": 84,
    "start_time": "2022-01-25T20:23:27.742Z"
   },
   {
    "duration": 54,
    "start_time": "2022-01-25T20:23:27.828Z"
   },
   {
    "duration": 620,
    "start_time": "2022-01-25T20:23:27.884Z"
   },
   {
    "duration": 42,
    "start_time": "2022-01-25T20:23:28.506Z"
   },
   {
    "duration": 629,
    "start_time": "2022-01-25T20:23:28.551Z"
   },
   {
    "duration": 592,
    "start_time": "2022-01-25T20:23:29.182Z"
   },
   {
    "duration": 53,
    "start_time": "2022-01-25T20:23:29.776Z"
   },
   {
    "duration": 6,
    "start_time": "2022-01-25T20:23:29.831Z"
   },
   {
    "duration": 42,
    "start_time": "2022-01-25T20:23:29.839Z"
   },
   {
    "duration": 40,
    "start_time": "2022-01-25T20:23:29.884Z"
   },
   {
    "duration": 563,
    "start_time": "2022-01-25T20:23:29.927Z"
   },
   {
    "duration": 16,
    "start_time": "2022-01-25T20:23:30.493Z"
   },
   {
    "duration": 68,
    "start_time": "2022-01-25T20:23:30.512Z"
   },
   {
    "duration": 622,
    "start_time": "2022-01-25T20:23:30.582Z"
   },
   {
    "duration": 43,
    "start_time": "2022-01-25T20:23:31.207Z"
   },
   {
    "duration": 73,
    "start_time": "2022-01-25T20:23:31.253Z"
   },
   {
    "duration": 591,
    "start_time": "2022-01-25T20:23:31.329Z"
   },
   {
    "duration": 17,
    "start_time": "2022-01-25T20:23:31.923Z"
   },
   {
    "duration": 53,
    "start_time": "2022-01-25T20:23:31.943Z"
   },
   {
    "duration": 4,
    "start_time": "2022-01-25T20:23:31.998Z"
   },
   {
    "duration": 193,
    "start_time": "2022-01-25T20:23:32.004Z"
   },
   {
    "duration": 24,
    "start_time": "2022-01-25T20:23:32.200Z"
   },
   {
    "duration": 1024,
    "start_time": "2022-01-25T20:23:32.227Z"
   },
   {
    "duration": 1433,
    "start_time": "2022-01-25T20:23:33.254Z"
   },
   {
    "duration": 105,
    "start_time": "2022-01-25T20:23:34.689Z"
   },
   {
    "duration": 9237,
    "start_time": "2022-01-25T20:23:34.796Z"
   },
   {
    "duration": 1632,
    "start_time": "2022-01-25T20:24:10.832Z"
   },
   {
    "duration": 8,
    "start_time": "2022-01-25T20:24:12.466Z"
   },
   {
    "duration": 944,
    "start_time": "2022-01-25T20:24:12.477Z"
   },
   {
    "duration": 25,
    "start_time": "2022-01-25T20:24:13.424Z"
   },
   {
    "duration": 20,
    "start_time": "2022-01-25T20:24:13.452Z"
   },
   {
    "duration": 502,
    "start_time": "2022-01-25T20:24:13.475Z"
   },
   {
    "duration": 1102,
    "start_time": "2022-01-25T20:24:13.979Z"
   },
   {
    "duration": 152,
    "start_time": "2022-01-25T20:24:15.084Z"
   },
   {
    "duration": 497,
    "start_time": "2022-01-25T20:24:15.241Z"
   },
   {
    "duration": 764,
    "start_time": "2022-01-25T20:24:15.742Z"
   },
   {
    "duration": 71,
    "start_time": "2022-01-25T20:24:16.509Z"
   },
   {
    "duration": 5,
    "start_time": "2022-01-25T20:24:16.583Z"
   },
   {
    "duration": 42,
    "start_time": "2022-01-25T20:24:16.591Z"
   },
   {
    "duration": 36,
    "start_time": "2022-01-25T20:24:16.635Z"
   },
   {
    "duration": 173,
    "start_time": "2022-01-25T20:24:16.674Z"
   },
   {
    "duration": 32,
    "start_time": "2022-01-25T20:24:16.849Z"
   },
   {
    "duration": 67,
    "start_time": "2022-01-25T20:24:16.883Z"
   },
   {
    "duration": 44,
    "start_time": "2022-01-25T20:24:16.969Z"
   },
   {
    "duration": 635,
    "start_time": "2022-01-25T20:24:17.015Z"
   },
   {
    "duration": 50,
    "start_time": "2022-01-25T20:24:17.652Z"
   },
   {
    "duration": 21,
    "start_time": "2022-01-25T20:24:17.704Z"
   },
   {
    "duration": 66,
    "start_time": "2022-01-25T20:24:17.727Z"
   },
   {
    "duration": 88,
    "start_time": "2022-01-25T20:24:17.796Z"
   },
   {
    "duration": 20,
    "start_time": "2022-01-25T20:24:17.887Z"
   },
   {
    "duration": 634,
    "start_time": "2022-01-25T20:24:17.909Z"
   },
   {
    "duration": 50,
    "start_time": "2022-01-25T20:24:18.546Z"
   },
   {
    "duration": 85,
    "start_time": "2022-01-25T20:24:18.604Z"
   },
   {
    "duration": 44,
    "start_time": "2022-01-25T20:24:18.693Z"
   },
   {
    "duration": 656,
    "start_time": "2022-01-25T20:24:18.739Z"
   },
   {
    "duration": 42,
    "start_time": "2022-01-25T20:24:19.397Z"
   },
   {
    "duration": 623,
    "start_time": "2022-01-25T20:24:19.441Z"
   },
   {
    "duration": 519,
    "start_time": "2022-01-25T20:24:20.070Z"
   },
   {
    "duration": 53,
    "start_time": "2022-01-25T20:24:20.591Z"
   },
   {
    "duration": 24,
    "start_time": "2022-01-25T20:24:20.647Z"
   },
   {
    "duration": 12,
    "start_time": "2022-01-25T20:24:20.674Z"
   },
   {
    "duration": 39,
    "start_time": "2022-01-25T20:24:20.689Z"
   },
   {
    "duration": 586,
    "start_time": "2022-01-25T20:24:20.731Z"
   },
   {
    "duration": 15,
    "start_time": "2022-01-25T20:24:21.319Z"
   },
   {
    "duration": 58,
    "start_time": "2022-01-25T20:24:21.336Z"
   },
   {
    "duration": 623,
    "start_time": "2022-01-25T20:24:21.397Z"
   },
   {
    "duration": 54,
    "start_time": "2022-01-25T20:24:22.022Z"
   },
   {
    "duration": 59,
    "start_time": "2022-01-25T20:24:22.078Z"
   },
   {
    "duration": 597,
    "start_time": "2022-01-25T20:24:22.139Z"
   },
   {
    "duration": 15,
    "start_time": "2022-01-25T20:24:22.739Z"
   },
   {
    "duration": 40,
    "start_time": "2022-01-25T20:24:22.756Z"
   },
   {
    "duration": 5,
    "start_time": "2022-01-25T20:24:22.798Z"
   },
   {
    "duration": 206,
    "start_time": "2022-01-25T20:24:22.806Z"
   },
   {
    "duration": 22,
    "start_time": "2022-01-25T20:24:23.015Z"
   },
   {
    "duration": 960,
    "start_time": "2022-01-25T20:24:23.040Z"
   },
   {
    "duration": 1390,
    "start_time": "2022-01-25T20:24:24.003Z"
   },
   {
    "duration": 100,
    "start_time": "2022-01-25T20:24:25.395Z"
   },
   {
    "duration": 6,
    "start_time": "2022-01-25T20:24:25.497Z"
   },
   {
    "duration": 21474,
    "start_time": "2022-01-25T20:24:25.505Z"
   },
   {
    "duration": 60302,
    "start_time": "2022-01-25T20:24:47.072Z"
   },
   {
    "duration": 15912,
    "start_time": "2022-01-25T20:25:47.376Z"
   },
   {
    "duration": 9889,
    "start_time": "2022-01-25T20:26:03.290Z"
   },
   {
    "duration": 1618,
    "start_time": "2022-01-25T20:27:40.962Z"
   },
   {
    "duration": 8,
    "start_time": "2022-01-25T20:27:42.583Z"
   },
   {
    "duration": 1049,
    "start_time": "2022-01-25T20:27:42.594Z"
   },
   {
    "duration": 29,
    "start_time": "2022-01-25T20:27:43.646Z"
   },
   {
    "duration": 7,
    "start_time": "2022-01-25T20:27:43.678Z"
   },
   {
    "duration": 526,
    "start_time": "2022-01-25T20:27:43.690Z"
   },
   {
    "duration": 1110,
    "start_time": "2022-01-25T20:27:44.218Z"
   },
   {
    "duration": 155,
    "start_time": "2022-01-25T20:27:45.331Z"
   },
   {
    "duration": 490,
    "start_time": "2022-01-25T20:27:45.490Z"
   },
   {
    "duration": 761,
    "start_time": "2022-01-25T20:27:45.983Z"
   },
   {
    "duration": 61,
    "start_time": "2022-01-25T20:27:46.747Z"
   },
   {
    "duration": 6,
    "start_time": "2022-01-25T20:27:46.810Z"
   },
   {
    "duration": 69,
    "start_time": "2022-01-25T20:27:46.819Z"
   },
   {
    "duration": 454,
    "start_time": "2022-01-25T20:27:46.891Z"
   },
   {
    "duration": -131,
    "start_time": "2022-01-25T20:27:47.483Z"
   },
   {
    "duration": -133,
    "start_time": "2022-01-25T20:27:47.487Z"
   },
   {
    "duration": -137,
    "start_time": "2022-01-25T20:27:47.493Z"
   },
   {
    "duration": -140,
    "start_time": "2022-01-25T20:27:47.497Z"
   },
   {
    "duration": -142,
    "start_time": "2022-01-25T20:27:47.501Z"
   },
   {
    "duration": -144,
    "start_time": "2022-01-25T20:27:47.504Z"
   },
   {
    "duration": -148,
    "start_time": "2022-01-25T20:27:47.510Z"
   },
   {
    "duration": -151,
    "start_time": "2022-01-25T20:27:47.514Z"
   },
   {
    "duration": -377,
    "start_time": "2022-01-25T20:27:47.741Z"
   },
   {
    "duration": -411,
    "start_time": "2022-01-25T20:27:47.777Z"
   },
   {
    "duration": -414,
    "start_time": "2022-01-25T20:27:47.781Z"
   },
   {
    "duration": -416,
    "start_time": "2022-01-25T20:27:47.785Z"
   },
   {
    "duration": -419,
    "start_time": "2022-01-25T20:27:47.789Z"
   },
   {
    "duration": -420,
    "start_time": "2022-01-25T20:27:47.792Z"
   },
   {
    "duration": -423,
    "start_time": "2022-01-25T20:27:47.796Z"
   },
   {
    "duration": -424,
    "start_time": "2022-01-25T20:27:47.799Z"
   },
   {
    "duration": -426,
    "start_time": "2022-01-25T20:27:47.802Z"
   },
   {
    "duration": -428,
    "start_time": "2022-01-25T20:27:47.805Z"
   },
   {
    "duration": -428,
    "start_time": "2022-01-25T20:27:47.807Z"
   },
   {
    "duration": -430,
    "start_time": "2022-01-25T20:27:47.810Z"
   },
   {
    "duration": -432,
    "start_time": "2022-01-25T20:27:47.813Z"
   },
   {
    "duration": -433,
    "start_time": "2022-01-25T20:27:47.816Z"
   },
   {
    "duration": -435,
    "start_time": "2022-01-25T20:27:47.819Z"
   },
   {
    "duration": -436,
    "start_time": "2022-01-25T20:27:47.821Z"
   },
   {
    "duration": -438,
    "start_time": "2022-01-25T20:27:47.825Z"
   },
   {
    "duration": -439,
    "start_time": "2022-01-25T20:27:47.827Z"
   },
   {
    "duration": -441,
    "start_time": "2022-01-25T20:27:47.830Z"
   },
   {
    "duration": -442,
    "start_time": "2022-01-25T20:27:47.833Z"
   },
   {
    "duration": -444,
    "start_time": "2022-01-25T20:27:47.836Z"
   },
   {
    "duration": -447,
    "start_time": "2022-01-25T20:27:47.840Z"
   },
   {
    "duration": -449,
    "start_time": "2022-01-25T20:27:47.844Z"
   },
   {
    "duration": -451,
    "start_time": "2022-01-25T20:27:47.847Z"
   },
   {
    "duration": -453,
    "start_time": "2022-01-25T20:27:47.851Z"
   },
   {
    "duration": -455,
    "start_time": "2022-01-25T20:27:47.854Z"
   },
   {
    "duration": -457,
    "start_time": "2022-01-25T20:27:47.858Z"
   },
   {
    "duration": -458,
    "start_time": "2022-01-25T20:27:47.860Z"
   },
   {
    "duration": -461,
    "start_time": "2022-01-25T20:27:47.864Z"
   },
   {
    "duration": -462,
    "start_time": "2022-01-25T20:27:47.867Z"
   },
   {
    "duration": -464,
    "start_time": "2022-01-25T20:27:47.870Z"
   },
   {
    "duration": -464,
    "start_time": "2022-01-25T20:27:47.872Z"
   },
   {
    "duration": -466,
    "start_time": "2022-01-25T20:27:47.875Z"
   },
   {
    "duration": -467,
    "start_time": "2022-01-25T20:27:47.877Z"
   },
   {
    "duration": -469,
    "start_time": "2022-01-25T20:27:47.881Z"
   },
   {
    "duration": -414,
    "start_time": "2022-01-25T20:27:47.884Z"
   },
   {
    "duration": -415,
    "start_time": "2022-01-25T20:27:47.886Z"
   },
   {
    "duration": -417,
    "start_time": "2022-01-25T20:27:47.889Z"
   },
   {
    "duration": -418,
    "start_time": "2022-01-25T20:27:47.892Z"
   },
   {
    "duration": 89,
    "start_time": "2022-01-25T20:29:01.075Z"
   },
   {
    "duration": 1593,
    "start_time": "2022-01-25T21:51:49.866Z"
   },
   {
    "duration": 14,
    "start_time": "2022-01-25T21:51:51.462Z"
   },
   {
    "duration": 935,
    "start_time": "2022-01-25T21:51:51.479Z"
   },
   {
    "duration": 25,
    "start_time": "2022-01-25T21:51:52.417Z"
   },
   {
    "duration": 5,
    "start_time": "2022-01-25T21:51:52.444Z"
   },
   {
    "duration": 480,
    "start_time": "2022-01-25T21:51:52.470Z"
   },
   {
    "duration": 1080,
    "start_time": "2022-01-25T21:51:52.953Z"
   },
   {
    "duration": 156,
    "start_time": "2022-01-25T21:51:54.037Z"
   },
   {
    "duration": 489,
    "start_time": "2022-01-25T21:51:54.197Z"
   },
   {
    "duration": 771,
    "start_time": "2022-01-25T21:51:54.688Z"
   },
   {
    "duration": 56,
    "start_time": "2022-01-25T21:51:55.461Z"
   },
   {
    "duration": 5,
    "start_time": "2022-01-25T21:51:55.519Z"
   },
   {
    "duration": 66,
    "start_time": "2022-01-25T21:51:55.526Z"
   },
   {
    "duration": 428,
    "start_time": "2022-01-25T21:51:55.594Z"
   },
   {
    "duration": -125,
    "start_time": "2022-01-25T21:51:56.152Z"
   },
   {
    "duration": -130,
    "start_time": "2022-01-25T21:51:56.158Z"
   },
   {
    "duration": -132,
    "start_time": "2022-01-25T21:51:56.162Z"
   },
   {
    "duration": -135,
    "start_time": "2022-01-25T21:51:56.166Z"
   },
   {
    "duration": -138,
    "start_time": "2022-01-25T21:51:56.171Z"
   },
   {
    "duration": -141,
    "start_time": "2022-01-25T21:51:56.175Z"
   },
   {
    "duration": -143,
    "start_time": "2022-01-25T21:51:56.178Z"
   },
   {
    "duration": -145,
    "start_time": "2022-01-25T21:51:56.182Z"
   },
   {
    "duration": -147,
    "start_time": "2022-01-25T21:51:56.185Z"
   },
   {
    "duration": -150,
    "start_time": "2022-01-25T21:51:56.189Z"
   },
   {
    "duration": -151,
    "start_time": "2022-01-25T21:51:56.192Z"
   },
   {
    "duration": -153,
    "start_time": "2022-01-25T21:51:56.196Z"
   },
   {
    "duration": -155,
    "start_time": "2022-01-25T21:51:56.200Z"
   },
   {
    "duration": -157,
    "start_time": "2022-01-25T21:51:56.203Z"
   },
   {
    "duration": -169,
    "start_time": "2022-01-25T21:51:56.216Z"
   },
   {
    "duration": -172,
    "start_time": "2022-01-25T21:51:56.221Z"
   },
   {
    "duration": -174,
    "start_time": "2022-01-25T21:51:56.224Z"
   },
   {
    "duration": -175,
    "start_time": "2022-01-25T21:51:56.227Z"
   },
   {
    "duration": -228,
    "start_time": "2022-01-25T21:51:56.281Z"
   },
   {
    "duration": -288,
    "start_time": "2022-01-25T21:51:56.342Z"
   },
   {
    "duration": -290,
    "start_time": "2022-01-25T21:51:56.346Z"
   },
   {
    "duration": -293,
    "start_time": "2022-01-25T21:51:56.350Z"
   },
   {
    "duration": -296,
    "start_time": "2022-01-25T21:51:56.354Z"
   },
   {
    "duration": -298,
    "start_time": "2022-01-25T21:51:56.358Z"
   },
   {
    "duration": -300,
    "start_time": "2022-01-25T21:51:56.361Z"
   },
   {
    "duration": -301,
    "start_time": "2022-01-25T21:51:56.364Z"
   },
   {
    "duration": -303,
    "start_time": "2022-01-25T21:51:56.367Z"
   },
   {
    "duration": -301,
    "start_time": "2022-01-25T21:51:56.370Z"
   },
   {
    "duration": -303,
    "start_time": "2022-01-25T21:51:56.373Z"
   },
   {
    "duration": -305,
    "start_time": "2022-01-25T21:51:56.376Z"
   },
   {
    "duration": -306,
    "start_time": "2022-01-25T21:51:56.379Z"
   },
   {
    "duration": -309,
    "start_time": "2022-01-25T21:51:56.383Z"
   },
   {
    "duration": -310,
    "start_time": "2022-01-25T21:51:56.386Z"
   },
   {
    "duration": -312,
    "start_time": "2022-01-25T21:51:56.389Z"
   },
   {
    "duration": -314,
    "start_time": "2022-01-25T21:51:56.392Z"
   },
   {
    "duration": -315,
    "start_time": "2022-01-25T21:51:56.395Z"
   },
   {
    "duration": -318,
    "start_time": "2022-01-25T21:51:56.399Z"
   },
   {
    "duration": -318,
    "start_time": "2022-01-25T21:51:56.401Z"
   },
   {
    "duration": -321,
    "start_time": "2022-01-25T21:51:56.405Z"
   },
   {
    "duration": -323,
    "start_time": "2022-01-25T21:51:56.408Z"
   },
   {
    "duration": -324,
    "start_time": "2022-01-25T21:51:56.411Z"
   },
   {
    "duration": -327,
    "start_time": "2022-01-25T21:51:56.415Z"
   },
   {
    "duration": -329,
    "start_time": "2022-01-25T21:51:56.418Z"
   },
   {
    "duration": -330,
    "start_time": "2022-01-25T21:51:56.421Z"
   },
   {
    "duration": -332,
    "start_time": "2022-01-25T21:51:56.424Z"
   },
   {
    "duration": -335,
    "start_time": "2022-01-25T21:51:56.428Z"
   },
   {
    "duration": -336,
    "start_time": "2022-01-25T21:51:56.431Z"
   },
   {
    "duration": 9,
    "start_time": "2022-01-25T21:53:18.231Z"
   },
   {
    "duration": 286,
    "start_time": "2022-01-25T21:54:09.749Z"
   },
   {
    "duration": 7,
    "start_time": "2022-01-25T21:54:35.566Z"
   },
   {
    "duration": 1635,
    "start_time": "2022-01-25T21:54:42.796Z"
   },
   {
    "duration": 13,
    "start_time": "2022-01-25T21:54:44.434Z"
   },
   {
    "duration": 1009,
    "start_time": "2022-01-25T21:54:44.451Z"
   },
   {
    "duration": 33,
    "start_time": "2022-01-25T21:54:45.462Z"
   },
   {
    "duration": 7,
    "start_time": "2022-01-25T21:54:45.498Z"
   },
   {
    "duration": 516,
    "start_time": "2022-01-25T21:54:45.507Z"
   },
   {
    "duration": 1053,
    "start_time": "2022-01-25T21:54:46.026Z"
   },
   {
    "duration": 151,
    "start_time": "2022-01-25T21:54:47.083Z"
   },
   {
    "duration": 508,
    "start_time": "2022-01-25T21:54:47.237Z"
   },
   {
    "duration": 765,
    "start_time": "2022-01-25T21:54:47.747Z"
   },
   {
    "duration": 62,
    "start_time": "2022-01-25T21:54:48.514Z"
   },
   {
    "duration": 5,
    "start_time": "2022-01-25T21:54:48.578Z"
   },
   {
    "duration": 16,
    "start_time": "2022-01-25T21:54:48.585Z"
   },
   {
    "duration": 427,
    "start_time": "2022-01-25T21:54:48.603Z"
   },
   {
    "duration": -153,
    "start_time": "2022-01-25T21:54:49.188Z"
   },
   {
    "duration": -157,
    "start_time": "2022-01-25T21:54:49.194Z"
   },
   {
    "duration": -159,
    "start_time": "2022-01-25T21:54:49.197Z"
   },
   {
    "duration": -162,
    "start_time": "2022-01-25T21:54:49.201Z"
   },
   {
    "duration": -165,
    "start_time": "2022-01-25T21:54:49.206Z"
   },
   {
    "duration": -168,
    "start_time": "2022-01-25T21:54:49.210Z"
   },
   {
    "duration": -172,
    "start_time": "2022-01-25T21:54:49.215Z"
   },
   {
    "duration": -175,
    "start_time": "2022-01-25T21:54:49.220Z"
   },
   {
    "duration": -178,
    "start_time": "2022-01-25T21:54:49.224Z"
   },
   {
    "duration": -181,
    "start_time": "2022-01-25T21:54:49.228Z"
   },
   {
    "duration": -184,
    "start_time": "2022-01-25T21:54:49.232Z"
   },
   {
    "duration": -186,
    "start_time": "2022-01-25T21:54:49.236Z"
   },
   {
    "duration": -190,
    "start_time": "2022-01-25T21:54:49.241Z"
   },
   {
    "duration": -193,
    "start_time": "2022-01-25T21:54:49.245Z"
   },
   {
    "duration": -196,
    "start_time": "2022-01-25T21:54:49.249Z"
   },
   {
    "duration": -347,
    "start_time": "2022-01-25T21:54:49.402Z"
   },
   {
    "duration": -476,
    "start_time": "2022-01-25T21:54:49.532Z"
   },
   {
    "duration": -479,
    "start_time": "2022-01-25T21:54:49.536Z"
   },
   {
    "duration": -480,
    "start_time": "2022-01-25T21:54:49.539Z"
   },
   {
    "duration": -482,
    "start_time": "2022-01-25T21:54:49.542Z"
   },
   {
    "duration": -485,
    "start_time": "2022-01-25T21:54:49.546Z"
   },
   {
    "duration": -487,
    "start_time": "2022-01-25T21:54:49.549Z"
   },
   {
    "duration": -490,
    "start_time": "2022-01-25T21:54:49.553Z"
   },
   {
    "duration": -491,
    "start_time": "2022-01-25T21:54:49.556Z"
   },
   {
    "duration": -493,
    "start_time": "2022-01-25T21:54:49.559Z"
   },
   {
    "duration": -495,
    "start_time": "2022-01-25T21:54:49.563Z"
   },
   {
    "duration": -497,
    "start_time": "2022-01-25T21:54:49.566Z"
   },
   {
    "duration": -499,
    "start_time": "2022-01-25T21:54:49.569Z"
   },
   {
    "duration": -501,
    "start_time": "2022-01-25T21:54:49.573Z"
   },
   {
    "duration": -503,
    "start_time": "2022-01-25T21:54:49.576Z"
   },
   {
    "duration": -506,
    "start_time": "2022-01-25T21:54:49.580Z"
   },
   {
    "duration": -505,
    "start_time": "2022-01-25T21:54:49.583Z"
   },
   {
    "duration": -507,
    "start_time": "2022-01-25T21:54:49.586Z"
   },
   {
    "duration": -508,
    "start_time": "2022-01-25T21:54:49.589Z"
   },
   {
    "duration": -510,
    "start_time": "2022-01-25T21:54:49.592Z"
   },
   {
    "duration": -511,
    "start_time": "2022-01-25T21:54:49.595Z"
   },
   {
    "duration": -513,
    "start_time": "2022-01-25T21:54:49.598Z"
   },
   {
    "duration": -514,
    "start_time": "2022-01-25T21:54:49.601Z"
   },
   {
    "duration": -516,
    "start_time": "2022-01-25T21:54:49.604Z"
   },
   {
    "duration": -516,
    "start_time": "2022-01-25T21:54:49.606Z"
   },
   {
    "duration": -535,
    "start_time": "2022-01-25T21:54:49.626Z"
   },
   {
    "duration": -538,
    "start_time": "2022-01-25T21:54:49.630Z"
   },
   {
    "duration": -539,
    "start_time": "2022-01-25T21:54:49.633Z"
   },
   {
    "duration": -541,
    "start_time": "2022-01-25T21:54:49.636Z"
   },
   {
    "duration": -544,
    "start_time": "2022-01-25T21:54:49.641Z"
   },
   {
    "duration": -548,
    "start_time": "2022-01-25T21:54:49.646Z"
   },
   {
    "duration": -549,
    "start_time": "2022-01-25T21:54:49.650Z"
   },
   {
    "duration": 5,
    "start_time": "2022-01-25T21:55:25.100Z"
   },
   {
    "duration": 28,
    "start_time": "2022-01-25T21:55:55.937Z"
   },
   {
    "duration": 27,
    "start_time": "2022-01-25T21:56:47.622Z"
   },
   {
    "duration": 39,
    "start_time": "2022-01-25T21:59:46.081Z"
   },
   {
    "duration": 10,
    "start_time": "2022-01-25T22:00:42.443Z"
   },
   {
    "duration": 305,
    "start_time": "2022-01-25T22:04:18.985Z"
   },
   {
    "duration": 1558,
    "start_time": "2022-01-25T22:05:15.494Z"
   },
   {
    "duration": 14,
    "start_time": "2022-01-25T22:05:17.055Z"
   },
   {
    "duration": 946,
    "start_time": "2022-01-25T22:05:17.072Z"
   },
   {
    "duration": 24,
    "start_time": "2022-01-25T22:05:18.020Z"
   },
   {
    "duration": 25,
    "start_time": "2022-01-25T22:05:18.046Z"
   },
   {
    "duration": 501,
    "start_time": "2022-01-25T22:05:18.073Z"
   },
   {
    "duration": 1131,
    "start_time": "2022-01-25T22:05:18.577Z"
   },
   {
    "duration": 157,
    "start_time": "2022-01-25T22:05:19.712Z"
   },
   {
    "duration": 514,
    "start_time": "2022-01-25T22:05:19.872Z"
   },
   {
    "duration": 782,
    "start_time": "2022-01-25T22:05:20.388Z"
   },
   {
    "duration": 54,
    "start_time": "2022-01-25T22:05:21.172Z"
   },
   {
    "duration": 5,
    "start_time": "2022-01-25T22:05:21.229Z"
   },
   {
    "duration": 67,
    "start_time": "2022-01-25T22:05:21.236Z"
   },
   {
    "duration": 4,
    "start_time": "2022-01-25T22:05:21.306Z"
   },
   {
    "duration": 188,
    "start_time": "2022-01-25T22:05:21.312Z"
   },
   {
    "duration": 24,
    "start_time": "2022-01-25T22:05:21.502Z"
   },
   {
    "duration": 86,
    "start_time": "2022-01-25T22:05:21.528Z"
   },
   {
    "duration": 55,
    "start_time": "2022-01-25T22:05:21.617Z"
   },
   {
    "duration": 628,
    "start_time": "2022-01-25T22:05:21.674Z"
   },
   {
    "duration": 45,
    "start_time": "2022-01-25T22:05:22.304Z"
   },
   {
    "duration": 38,
    "start_time": "2022-01-25T22:05:22.351Z"
   },
   {
    "duration": 45,
    "start_time": "2022-01-25T22:05:22.391Z"
   },
   {
    "duration": 92,
    "start_time": "2022-01-25T22:05:22.441Z"
   },
   {
    "duration": 19,
    "start_time": "2022-01-25T22:05:22.536Z"
   },
   {
    "duration": 564,
    "start_time": "2022-01-25T22:05:22.570Z"
   },
   {
    "duration": 51,
    "start_time": "2022-01-25T22:05:23.137Z"
   },
   {
    "duration": 79,
    "start_time": "2022-01-25T22:05:23.190Z"
   },
   {
    "duration": 41,
    "start_time": "2022-01-25T22:05:23.271Z"
   },
   {
    "duration": 617,
    "start_time": "2022-01-25T22:05:23.314Z"
   },
   {
    "duration": 46,
    "start_time": "2022-01-25T22:05:23.933Z"
   },
   {
    "duration": 611,
    "start_time": "2022-01-25T22:05:23.981Z"
   },
   {
    "duration": 521,
    "start_time": "2022-01-25T22:05:24.594Z"
   },
   {
    "duration": 65,
    "start_time": "2022-01-25T22:05:25.118Z"
   },
   {
    "duration": 6,
    "start_time": "2022-01-25T22:05:25.186Z"
   },
   {
    "duration": 12,
    "start_time": "2022-01-25T22:05:25.194Z"
   },
   {
    "duration": 71,
    "start_time": "2022-01-25T22:05:25.208Z"
   },
   {
    "duration": 552,
    "start_time": "2022-01-25T22:05:25.282Z"
   },
   {
    "duration": 14,
    "start_time": "2022-01-25T22:05:25.836Z"
   },
   {
    "duration": 53,
    "start_time": "2022-01-25T22:05:25.852Z"
   },
   {
    "duration": 609,
    "start_time": "2022-01-25T22:05:25.907Z"
   },
   {
    "duration": 54,
    "start_time": "2022-01-25T22:05:26.518Z"
   },
   {
    "duration": 60,
    "start_time": "2022-01-25T22:05:26.574Z"
   },
   {
    "duration": 585,
    "start_time": "2022-01-25T22:05:26.637Z"
   },
   {
    "duration": 17,
    "start_time": "2022-01-25T22:05:27.224Z"
   },
   {
    "duration": 43,
    "start_time": "2022-01-25T22:05:27.244Z"
   },
   {
    "duration": 4,
    "start_time": "2022-01-25T22:05:27.290Z"
   },
   {
    "duration": 202,
    "start_time": "2022-01-25T22:05:27.297Z"
   },
   {
    "duration": 23,
    "start_time": "2022-01-25T22:05:27.502Z"
   },
   {
    "duration": 927,
    "start_time": "2022-01-25T22:05:27.527Z"
   },
   {
    "duration": 1405,
    "start_time": "2022-01-25T22:05:28.456Z"
   },
   {
    "duration": 82,
    "start_time": "2022-01-25T22:05:29.869Z"
   },
   {
    "duration": 19,
    "start_time": "2022-01-25T22:05:29.953Z"
   },
   {
    "duration": 22298,
    "start_time": "2022-01-25T22:05:29.974Z"
   },
   {
    "duration": 1720,
    "start_time": "2022-01-25T22:06:34.478Z"
   },
   {
    "duration": 11,
    "start_time": "2022-01-25T22:06:36.201Z"
   },
   {
    "duration": 1066,
    "start_time": "2022-01-25T22:06:36.216Z"
   },
   {
    "duration": 27,
    "start_time": "2022-01-25T22:06:37.285Z"
   },
   {
    "duration": 12,
    "start_time": "2022-01-25T22:06:37.314Z"
   },
   {
    "duration": 509,
    "start_time": "2022-01-25T22:06:37.329Z"
   },
   {
    "duration": 1091,
    "start_time": "2022-01-25T22:06:37.841Z"
   },
   {
    "duration": 153,
    "start_time": "2022-01-25T22:06:38.936Z"
   },
   {
    "duration": 501,
    "start_time": "2022-01-25T22:06:39.091Z"
   },
   {
    "duration": 778,
    "start_time": "2022-01-25T22:06:39.594Z"
   },
   {
    "duration": 53,
    "start_time": "2022-01-25T22:06:40.374Z"
   },
   {
    "duration": 5,
    "start_time": "2022-01-25T22:06:40.429Z"
   },
   {
    "duration": 67,
    "start_time": "2022-01-25T22:06:40.436Z"
   },
   {
    "duration": 4,
    "start_time": "2022-01-25T22:06:40.506Z"
   },
   {
    "duration": 178,
    "start_time": "2022-01-25T22:06:40.512Z"
   },
   {
    "duration": 23,
    "start_time": "2022-01-25T22:06:40.692Z"
   },
   {
    "duration": 93,
    "start_time": "2022-01-25T22:06:40.718Z"
   },
   {
    "duration": 57,
    "start_time": "2022-01-25T22:06:40.813Z"
   },
   {
    "duration": 740,
    "start_time": "2022-01-25T22:06:40.873Z"
   },
   {
    "duration": 57,
    "start_time": "2022-01-25T22:06:41.616Z"
   },
   {
    "duration": 21,
    "start_time": "2022-01-25T22:06:41.675Z"
   },
   {
    "duration": 43,
    "start_time": "2022-01-25T22:06:41.698Z"
   },
   {
    "duration": 74,
    "start_time": "2022-01-25T22:06:41.772Z"
   },
   {
    "duration": 19,
    "start_time": "2022-01-25T22:06:41.869Z"
   },
   {
    "duration": 580,
    "start_time": "2022-01-25T22:06:41.890Z"
   },
   {
    "duration": 38,
    "start_time": "2022-01-25T22:06:42.472Z"
   },
   {
    "duration": 96,
    "start_time": "2022-01-25T22:06:42.512Z"
   },
   {
    "duration": 60,
    "start_time": "2022-01-25T22:06:42.611Z"
   },
   {
    "duration": 634,
    "start_time": "2022-01-25T22:06:42.674Z"
   },
   {
    "duration": 41,
    "start_time": "2022-01-25T22:06:43.310Z"
   },
   {
    "duration": 617,
    "start_time": "2022-01-25T22:06:43.353Z"
   },
   {
    "duration": 519,
    "start_time": "2022-01-25T22:06:43.972Z"
   },
   {
    "duration": 54,
    "start_time": "2022-01-25T22:06:44.494Z"
   },
   {
    "duration": 8,
    "start_time": "2022-01-25T22:06:44.570Z"
   },
   {
    "duration": 12,
    "start_time": "2022-01-25T22:06:44.581Z"
   },
   {
    "duration": 75,
    "start_time": "2022-01-25T22:06:44.596Z"
   },
   {
    "duration": 539,
    "start_time": "2022-01-25T22:06:44.673Z"
   },
   {
    "duration": 14,
    "start_time": "2022-01-25T22:06:45.215Z"
   },
   {
    "duration": 58,
    "start_time": "2022-01-25T22:06:45.232Z"
   },
   {
    "duration": 620,
    "start_time": "2022-01-25T22:06:45.292Z"
   },
   {
    "duration": 54,
    "start_time": "2022-01-25T22:06:45.915Z"
   },
   {
    "duration": 99,
    "start_time": "2022-01-25T22:06:45.972Z"
   },
   {
    "duration": 581,
    "start_time": "2022-01-25T22:06:46.073Z"
   },
   {
    "duration": 21,
    "start_time": "2022-01-25T22:06:46.657Z"
   },
   {
    "duration": 35,
    "start_time": "2022-01-25T22:06:46.680Z"
   },
   {
    "duration": 5,
    "start_time": "2022-01-25T22:06:46.717Z"
   },
   {
    "duration": 203,
    "start_time": "2022-01-25T22:06:46.724Z"
   },
   {
    "duration": 24,
    "start_time": "2022-01-25T22:06:46.930Z"
   },
   {
    "duration": 1006,
    "start_time": "2022-01-25T22:06:46.968Z"
   },
   {
    "duration": 1399,
    "start_time": "2022-01-25T22:06:47.977Z"
   },
   {
    "duration": 431,
    "start_time": "2022-01-25T22:06:49.379Z"
   },
   {
    "duration": -176,
    "start_time": "2022-01-25T22:06:49.990Z"
   },
   {
    "duration": -180,
    "start_time": "2022-01-25T22:06:49.995Z"
   },
   {
    "duration": -181,
    "start_time": "2022-01-25T22:06:49.998Z"
   },
   {
    "duration": -181,
    "start_time": "2022-01-25T22:06:50.001Z"
   },
   {
    "duration": -299,
    "start_time": "2022-01-25T22:06:50.121Z"
   },
   {
    "duration": -301,
    "start_time": "2022-01-25T22:06:50.125Z"
   },
   {
    "duration": -303,
    "start_time": "2022-01-25T22:06:50.129Z"
   },
   {
    "duration": -304,
    "start_time": "2022-01-25T22:06:50.133Z"
   },
   {
    "duration": -306,
    "start_time": "2022-01-25T22:06:50.137Z"
   },
   {
    "duration": -308,
    "start_time": "2022-01-25T22:06:50.141Z"
   },
   {
    "duration": 1602,
    "start_time": "2022-01-25T22:07:52.680Z"
   },
   {
    "duration": 1763,
    "start_time": "2022-01-25T22:08:29.624Z"
   },
   {
    "duration": 10,
    "start_time": "2022-01-25T22:08:31.389Z"
   },
   {
    "duration": 946,
    "start_time": "2022-01-25T22:08:31.402Z"
   },
   {
    "duration": 33,
    "start_time": "2022-01-25T22:08:32.350Z"
   },
   {
    "duration": 6,
    "start_time": "2022-01-25T22:08:32.386Z"
   },
   {
    "duration": 518,
    "start_time": "2022-01-25T22:08:32.395Z"
   },
   {
    "duration": 1098,
    "start_time": "2022-01-25T22:08:32.916Z"
   },
   {
    "duration": 153,
    "start_time": "2022-01-25T22:08:34.019Z"
   },
   {
    "duration": 519,
    "start_time": "2022-01-25T22:08:34.175Z"
   },
   {
    "duration": 781,
    "start_time": "2022-01-25T22:08:34.696Z"
   },
   {
    "duration": 53,
    "start_time": "2022-01-25T22:08:35.480Z"
   },
   {
    "duration": 33,
    "start_time": "2022-01-25T22:08:35.536Z"
   },
   {
    "duration": 40,
    "start_time": "2022-01-25T22:08:35.572Z"
   },
   {
    "duration": 5,
    "start_time": "2022-01-25T22:08:35.614Z"
   },
   {
    "duration": 188,
    "start_time": "2022-01-25T22:08:35.621Z"
   },
   {
    "duration": 24,
    "start_time": "2022-01-25T22:08:35.811Z"
   },
   {
    "duration": 88,
    "start_time": "2022-01-25T22:08:35.837Z"
   },
   {
    "duration": 57,
    "start_time": "2022-01-25T22:08:35.927Z"
   },
   {
    "duration": 635,
    "start_time": "2022-01-25T22:08:35.987Z"
   },
   {
    "duration": 55,
    "start_time": "2022-01-25T22:08:36.624Z"
   },
   {
    "duration": 20,
    "start_time": "2022-01-25T22:08:36.682Z"
   },
   {
    "duration": 67,
    "start_time": "2022-01-25T22:08:36.705Z"
   },
   {
    "duration": 75,
    "start_time": "2022-01-25T22:08:36.778Z"
   },
   {
    "duration": 19,
    "start_time": "2022-01-25T22:08:36.871Z"
   },
   {
    "duration": 582,
    "start_time": "2022-01-25T22:08:36.893Z"
   },
   {
    "duration": 39,
    "start_time": "2022-01-25T22:08:37.478Z"
   },
   {
    "duration": 88,
    "start_time": "2022-01-25T22:08:37.519Z"
   },
   {
    "duration": 42,
    "start_time": "2022-01-25T22:08:37.609Z"
   },
   {
    "duration": 630,
    "start_time": "2022-01-25T22:08:37.653Z"
   },
   {
    "duration": 45,
    "start_time": "2022-01-25T22:08:38.286Z"
   },
   {
    "duration": 658,
    "start_time": "2022-01-25T22:08:38.333Z"
   },
   {
    "duration": 544,
    "start_time": "2022-01-25T22:08:38.993Z"
   },
   {
    "duration": 64,
    "start_time": "2022-01-25T22:08:39.540Z"
   },
   {
    "duration": 6,
    "start_time": "2022-01-25T22:08:39.607Z"
   },
   {
    "duration": 14,
    "start_time": "2022-01-25T22:08:39.615Z"
   },
   {
    "duration": 72,
    "start_time": "2022-01-25T22:08:39.631Z"
   },
   {
    "duration": 570,
    "start_time": "2022-01-25T22:08:39.706Z"
   },
   {
    "duration": 14,
    "start_time": "2022-01-25T22:08:40.278Z"
   },
   {
    "duration": 42,
    "start_time": "2022-01-25T22:08:40.294Z"
   },
   {
    "duration": 638,
    "start_time": "2022-01-25T22:08:40.339Z"
   },
   {
    "duration": 42,
    "start_time": "2022-01-25T22:08:40.980Z"
   },
   {
    "duration": 79,
    "start_time": "2022-01-25T22:08:41.025Z"
   },
   {
    "duration": 570,
    "start_time": "2022-01-25T22:08:41.106Z"
   },
   {
    "duration": 17,
    "start_time": "2022-01-25T22:08:41.678Z"
   },
   {
    "duration": 36,
    "start_time": "2022-01-25T22:08:41.698Z"
   },
   {
    "duration": 32,
    "start_time": "2022-01-25T22:08:41.736Z"
   },
   {
    "duration": 186,
    "start_time": "2022-01-25T22:08:41.770Z"
   },
   {
    "duration": 23,
    "start_time": "2022-01-25T22:08:41.958Z"
   },
   {
    "duration": 781,
    "start_time": "2022-01-25T22:08:41.984Z"
   },
   {
    "duration": 91,
    "start_time": "2022-01-25T22:08:42.769Z"
   },
   {
    "duration": -96,
    "start_time": "2022-01-25T22:08:42.958Z"
   },
   {
    "duration": -99,
    "start_time": "2022-01-25T22:08:42.962Z"
   },
   {
    "duration": -240,
    "start_time": "2022-01-25T22:08:43.105Z"
   },
   {
    "duration": -250,
    "start_time": "2022-01-25T22:08:43.116Z"
   },
   {
    "duration": -251,
    "start_time": "2022-01-25T22:08:43.119Z"
   },
   {
    "duration": -253,
    "start_time": "2022-01-25T22:08:43.122Z"
   },
   {
    "duration": -254,
    "start_time": "2022-01-25T22:08:43.125Z"
   },
   {
    "duration": -266,
    "start_time": "2022-01-25T22:08:43.138Z"
   },
   {
    "duration": -269,
    "start_time": "2022-01-25T22:08:43.142Z"
   },
   {
    "duration": -270,
    "start_time": "2022-01-25T22:08:43.145Z"
   },
   {
    "duration": -272,
    "start_time": "2022-01-25T22:08:43.148Z"
   },
   {
    "duration": 2858,
    "start_time": "2022-01-25T22:09:03.686Z"
   },
   {
    "duration": 1309,
    "start_time": "2022-01-25T22:09:29.212Z"
   },
   {
    "duration": 89,
    "start_time": "2022-01-25T22:11:54.879Z"
   },
   {
    "duration": 5,
    "start_time": "2022-01-25T22:12:26.100Z"
   },
   {
    "duration": 4,
    "start_time": "2022-01-25T22:12:33.682Z"
   },
   {
    "duration": 191,
    "start_time": "2022-01-25T22:31:04.733Z"
   },
   {
    "duration": 1535,
    "start_time": "2022-01-25T22:31:22.923Z"
   },
   {
    "duration": 13,
    "start_time": "2022-01-25T22:31:24.461Z"
   },
   {
    "duration": 938,
    "start_time": "2022-01-25T22:31:24.476Z"
   },
   {
    "duration": 26,
    "start_time": "2022-01-25T22:31:25.417Z"
   },
   {
    "duration": 23,
    "start_time": "2022-01-25T22:31:25.446Z"
   },
   {
    "duration": 471,
    "start_time": "2022-01-25T22:31:25.472Z"
   },
   {
    "duration": 1082,
    "start_time": "2022-01-25T22:31:25.945Z"
   },
   {
    "duration": 157,
    "start_time": "2022-01-25T22:31:27.030Z"
   },
   {
    "duration": 490,
    "start_time": "2022-01-25T22:31:27.190Z"
   },
   {
    "duration": 753,
    "start_time": "2022-01-25T22:31:27.682Z"
   },
   {
    "duration": 62,
    "start_time": "2022-01-25T22:31:28.437Z"
   },
   {
    "duration": 4,
    "start_time": "2022-01-25T22:31:28.502Z"
   },
   {
    "duration": 62,
    "start_time": "2022-01-25T22:31:28.508Z"
   },
   {
    "duration": 4,
    "start_time": "2022-01-25T22:31:28.573Z"
   },
   {
    "duration": 165,
    "start_time": "2022-01-25T22:31:28.579Z"
   },
   {
    "duration": 35,
    "start_time": "2022-01-25T22:31:28.746Z"
   },
   {
    "duration": 66,
    "start_time": "2022-01-25T22:31:28.784Z"
   },
   {
    "duration": 56,
    "start_time": "2022-01-25T22:31:28.852Z"
   },
   {
    "duration": 643,
    "start_time": "2022-01-25T22:31:28.910Z"
   },
   {
    "duration": 48,
    "start_time": "2022-01-25T22:31:29.555Z"
   },
   {
    "duration": 21,
    "start_time": "2022-01-25T22:31:29.606Z"
   },
   {
    "duration": 71,
    "start_time": "2022-01-25T22:31:29.631Z"
   },
   {
    "duration": 98,
    "start_time": "2022-01-25T22:31:29.710Z"
   },
   {
    "duration": 20,
    "start_time": "2022-01-25T22:31:29.811Z"
   },
   {
    "duration": 671,
    "start_time": "2022-01-25T22:31:29.834Z"
   },
   {
    "duration": 61,
    "start_time": "2022-01-25T22:31:30.508Z"
   },
   {
    "duration": 68,
    "start_time": "2022-01-25T22:31:30.572Z"
   },
   {
    "duration": 63,
    "start_time": "2022-01-25T22:31:30.643Z"
   },
   {
    "duration": 607,
    "start_time": "2022-01-25T22:31:30.709Z"
   },
   {
    "duration": 54,
    "start_time": "2022-01-25T22:31:31.319Z"
   },
   {
    "duration": 603,
    "start_time": "2022-01-25T22:31:31.377Z"
   },
   {
    "duration": 531,
    "start_time": "2022-01-25T22:31:31.983Z"
   },
   {
    "duration": 68,
    "start_time": "2022-01-25T22:31:32.517Z"
   },
   {
    "duration": 7,
    "start_time": "2022-01-25T22:31:32.587Z"
   },
   {
    "duration": 13,
    "start_time": "2022-01-25T22:31:32.596Z"
   },
   {
    "duration": 77,
    "start_time": "2022-01-25T22:31:32.611Z"
   },
   {
    "duration": 545,
    "start_time": "2022-01-25T22:31:32.691Z"
   },
   {
    "duration": 14,
    "start_time": "2022-01-25T22:31:33.238Z"
   },
   {
    "duration": 55,
    "start_time": "2022-01-25T22:31:33.254Z"
   },
   {
    "duration": 625,
    "start_time": "2022-01-25T22:31:33.312Z"
   },
   {
    "duration": 49,
    "start_time": "2022-01-25T22:31:33.940Z"
   },
   {
    "duration": 56,
    "start_time": "2022-01-25T22:31:33.992Z"
   },
   {
    "duration": 592,
    "start_time": "2022-01-25T22:31:34.050Z"
   },
   {
    "duration": 17,
    "start_time": "2022-01-25T22:31:34.644Z"
   },
   {
    "duration": 31,
    "start_time": "2022-01-25T22:31:34.669Z"
   },
   {
    "duration": 5,
    "start_time": "2022-01-25T22:31:34.702Z"
   },
   {
    "duration": 203,
    "start_time": "2022-01-25T22:31:34.709Z"
   },
   {
    "duration": 23,
    "start_time": "2022-01-25T22:31:34.914Z"
   },
   {
    "duration": 1109,
    "start_time": "2022-01-25T22:31:34.939Z"
   },
   {
    "duration": 1391,
    "start_time": "2022-01-25T22:31:36.050Z"
   },
   {
    "duration": 100,
    "start_time": "2022-01-25T22:31:37.444Z"
   },
   {
    "duration": 4,
    "start_time": "2022-01-25T22:31:37.547Z"
   },
   {
    "duration": 363,
    "start_time": "2022-01-25T22:31:37.553Z"
   },
   {
    "duration": 272,
    "start_time": "2022-01-25T22:31:37.919Z"
   },
   {
    "duration": -106,
    "start_time": "2022-01-25T22:31:38.299Z"
   },
   {
    "duration": -112,
    "start_time": "2022-01-25T22:31:38.307Z"
   },
   {
    "duration": -115,
    "start_time": "2022-01-25T22:31:38.312Z"
   },
   {
    "duration": -119,
    "start_time": "2022-01-25T22:31:38.317Z"
   },
   {
    "duration": -132,
    "start_time": "2022-01-25T22:31:38.332Z"
   },
   {
    "duration": 5,
    "start_time": "2022-01-25T22:36:59.585Z"
   },
   {
    "duration": 280,
    "start_time": "2022-01-25T22:37:13.533Z"
   },
   {
    "duration": 22502,
    "start_time": "2022-01-25T22:37:33.668Z"
   },
   {
    "duration": 61718,
    "start_time": "2022-01-25T22:41:28.811Z"
   },
   {
    "duration": 61199,
    "start_time": "2022-01-25T23:00:23.652Z"
   },
   {
    "duration": 13141,
    "start_time": "2022-01-25T23:06:17.730Z"
   },
   {
    "duration": 44108,
    "start_time": "2022-01-25T23:06:55.675Z"
   },
   {
    "duration": 1685,
    "start_time": "2022-01-25T23:10:19.964Z"
   },
   {
    "duration": 19,
    "start_time": "2022-01-25T23:10:21.652Z"
   },
   {
    "duration": 929,
    "start_time": "2022-01-25T23:10:21.674Z"
   },
   {
    "duration": 25,
    "start_time": "2022-01-25T23:10:22.606Z"
   },
   {
    "duration": 10,
    "start_time": "2022-01-25T23:10:22.633Z"
   },
   {
    "duration": 486,
    "start_time": "2022-01-25T23:10:22.646Z"
   },
   {
    "duration": 1099,
    "start_time": "2022-01-25T23:10:23.134Z"
   },
   {
    "duration": 155,
    "start_time": "2022-01-25T23:10:24.239Z"
   },
   {
    "duration": 504,
    "start_time": "2022-01-25T23:10:24.398Z"
   },
   {
    "duration": 795,
    "start_time": "2022-01-25T23:10:24.905Z"
   },
   {
    "duration": 53,
    "start_time": "2022-01-25T23:10:25.702Z"
   },
   {
    "duration": 5,
    "start_time": "2022-01-25T23:10:25.770Z"
   },
   {
    "duration": 46,
    "start_time": "2022-01-25T23:10:25.777Z"
   },
   {
    "duration": 4,
    "start_time": "2022-01-25T23:10:25.825Z"
   },
   {
    "duration": 187,
    "start_time": "2022-01-25T23:10:25.831Z"
   },
   {
    "duration": 24,
    "start_time": "2022-01-25T23:10:26.021Z"
   },
   {
    "duration": 84,
    "start_time": "2022-01-25T23:10:26.047Z"
   },
   {
    "duration": 65,
    "start_time": "2022-01-25T23:10:26.133Z"
   },
   {
    "duration": 629,
    "start_time": "2022-01-25T23:10:26.200Z"
   },
   {
    "duration": 54,
    "start_time": "2022-01-25T23:10:26.831Z"
   },
   {
    "duration": 20,
    "start_time": "2022-01-25T23:10:26.888Z"
   },
   {
    "duration": 66,
    "start_time": "2022-01-25T23:10:26.910Z"
   },
   {
    "duration": 87,
    "start_time": "2022-01-25T23:10:26.981Z"
   },
   {
    "duration": 19,
    "start_time": "2022-01-25T23:10:27.072Z"
   },
   {
    "duration": 579,
    "start_time": "2022-01-25T23:10:27.093Z"
   },
   {
    "duration": 38,
    "start_time": "2022-01-25T23:10:27.675Z"
   },
   {
    "duration": 93,
    "start_time": "2022-01-25T23:10:27.715Z"
   },
   {
    "duration": 40,
    "start_time": "2022-01-25T23:10:27.811Z"
   },
   {
    "duration": 616,
    "start_time": "2022-01-25T23:10:27.854Z"
   },
   {
    "duration": 39,
    "start_time": "2022-01-25T23:10:28.473Z"
   },
   {
    "duration": 638,
    "start_time": "2022-01-25T23:10:28.515Z"
   },
   {
    "duration": 534,
    "start_time": "2022-01-25T23:10:29.155Z"
   },
   {
    "duration": 52,
    "start_time": "2022-01-25T23:10:29.691Z"
   },
   {
    "duration": 26,
    "start_time": "2022-01-25T23:10:29.745Z"
   },
   {
    "duration": 12,
    "start_time": "2022-01-25T23:10:29.773Z"
   },
   {
    "duration": 40,
    "start_time": "2022-01-25T23:10:29.787Z"
   },
   {
    "duration": 568,
    "start_time": "2022-01-25T23:10:29.829Z"
   },
   {
    "duration": 14,
    "start_time": "2022-01-25T23:10:30.399Z"
   },
   {
    "duration": 63,
    "start_time": "2022-01-25T23:10:30.415Z"
   },
   {
    "duration": 620,
    "start_time": "2022-01-25T23:10:30.480Z"
   },
   {
    "duration": 39,
    "start_time": "2022-01-25T23:10:31.103Z"
   },
   {
    "duration": 74,
    "start_time": "2022-01-25T23:10:31.144Z"
   },
   {
    "duration": 572,
    "start_time": "2022-01-25T23:10:31.220Z"
   },
   {
    "duration": 17,
    "start_time": "2022-01-25T23:10:31.794Z"
   },
   {
    "duration": 32,
    "start_time": "2022-01-25T23:10:31.813Z"
   },
   {
    "duration": 26,
    "start_time": "2022-01-25T23:10:31.847Z"
   },
   {
    "duration": 186,
    "start_time": "2022-01-25T23:10:31.875Z"
   },
   {
    "duration": 22,
    "start_time": "2022-01-25T23:10:32.063Z"
   },
   {
    "duration": 902,
    "start_time": "2022-01-25T23:10:32.087Z"
   },
   {
    "duration": 1370,
    "start_time": "2022-01-25T23:10:32.992Z"
   },
   {
    "duration": 87,
    "start_time": "2022-01-25T23:10:34.369Z"
   },
   {
    "duration": 4,
    "start_time": "2022-01-25T23:10:34.470Z"
   },
   {
    "duration": 21093,
    "start_time": "2022-01-25T23:10:34.476Z"
   },
   {
    "duration": 61934,
    "start_time": "2022-01-25T23:10:55.572Z"
   },
   {
    "duration": 15188,
    "start_time": "2022-01-25T23:11:57.509Z"
   },
   {
    "duration": 8880,
    "start_time": "2022-01-25T23:12:12.699Z"
   },
   {
    "duration": 417,
    "start_time": "2022-01-25T23:12:21.582Z"
   },
   {
    "duration": -159,
    "start_time": "2022-01-25T23:12:22.161Z"
   },
   {
    "duration": -162,
    "start_time": "2022-01-25T23:12:22.165Z"
   },
   {
    "duration": -163,
    "start_time": "2022-01-25T23:12:22.168Z"
   },
   {
    "duration": 152270,
    "start_time": "2022-01-25T23:16:38.617Z"
   },
   {
    "duration": 100,
    "start_time": "2022-01-25T23:20:21.877Z"
   },
   {
    "duration": 502099,
    "start_time": "2022-01-25T23:20:34.360Z"
   },
   {
    "duration": 282,
    "start_time": "2022-01-25T23:28:56.462Z"
   },
   {
    "duration": 1610,
    "start_time": "2022-01-25T23:37:12.555Z"
   },
   {
    "duration": 9,
    "start_time": "2022-01-25T23:37:14.168Z"
   },
   {
    "duration": 953,
    "start_time": "2022-01-25T23:37:14.180Z"
   },
   {
    "duration": 35,
    "start_time": "2022-01-25T23:37:15.136Z"
   },
   {
    "duration": 6,
    "start_time": "2022-01-25T23:37:15.174Z"
   },
   {
    "duration": 490,
    "start_time": "2022-01-25T23:37:15.183Z"
   },
   {
    "duration": 1051,
    "start_time": "2022-01-25T23:37:15.676Z"
   },
   {
    "duration": 151,
    "start_time": "2022-01-25T23:37:16.731Z"
   },
   {
    "duration": 497,
    "start_time": "2022-01-25T23:37:16.885Z"
   },
   {
    "duration": 758,
    "start_time": "2022-01-25T23:37:17.385Z"
   },
   {
    "duration": 66,
    "start_time": "2022-01-25T23:37:18.146Z"
   },
   {
    "duration": 7,
    "start_time": "2022-01-25T23:37:18.215Z"
   },
   {
    "duration": 70,
    "start_time": "2022-01-25T23:37:18.225Z"
   },
   {
    "duration": 6,
    "start_time": "2022-01-25T23:37:18.298Z"
   },
   {
    "duration": 184,
    "start_time": "2022-01-25T23:37:18.307Z"
   },
   {
    "duration": 25,
    "start_time": "2022-01-25T23:37:18.494Z"
   },
   {
    "duration": 97,
    "start_time": "2022-01-25T23:37:18.522Z"
   },
   {
    "duration": 62,
    "start_time": "2022-01-25T23:37:18.622Z"
   },
   {
    "duration": 644,
    "start_time": "2022-01-25T23:37:18.687Z"
   },
   {
    "duration": 52,
    "start_time": "2022-01-25T23:37:19.334Z"
   },
   {
    "duration": 19,
    "start_time": "2022-01-25T23:37:19.389Z"
   },
   {
    "duration": 66,
    "start_time": "2022-01-25T23:37:19.410Z"
   },
   {
    "duration": 91,
    "start_time": "2022-01-25T23:37:19.483Z"
   },
   {
    "duration": 20,
    "start_time": "2022-01-25T23:37:19.578Z"
   },
   {
    "duration": 614,
    "start_time": "2022-01-25T23:37:19.601Z"
   },
   {
    "duration": 36,
    "start_time": "2022-01-25T23:37:20.217Z"
   },
   {
    "duration": 67,
    "start_time": "2022-01-25T23:37:20.255Z"
   },
   {
    "duration": 46,
    "start_time": "2022-01-25T23:37:20.325Z"
   },
   {
    "duration": 705,
    "start_time": "2022-01-25T23:37:20.373Z"
   },
   {
    "duration": 44,
    "start_time": "2022-01-25T23:37:21.080Z"
   },
   {
    "duration": 684,
    "start_time": "2022-01-25T23:37:21.126Z"
   },
   {
    "duration": 532,
    "start_time": "2022-01-25T23:37:21.812Z"
   },
   {
    "duration": 67,
    "start_time": "2022-01-25T23:37:22.347Z"
   },
   {
    "duration": 6,
    "start_time": "2022-01-25T23:37:22.417Z"
   },
   {
    "duration": 13,
    "start_time": "2022-01-25T23:37:22.425Z"
   },
   {
    "duration": 39,
    "start_time": "2022-01-25T23:37:22.469Z"
   },
   {
    "duration": 564,
    "start_time": "2022-01-25T23:37:22.511Z"
   },
   {
    "duration": 14,
    "start_time": "2022-01-25T23:37:23.077Z"
   },
   {
    "duration": 42,
    "start_time": "2022-01-25T23:37:23.093Z"
   },
   {
    "duration": 629,
    "start_time": "2022-01-25T23:37:23.137Z"
   },
   {
    "duration": 39,
    "start_time": "2022-01-25T23:37:23.770Z"
   },
   {
    "duration": 72,
    "start_time": "2022-01-25T23:37:23.812Z"
   },
   {
    "duration": 575,
    "start_time": "2022-01-25T23:37:23.886Z"
   },
   {
    "duration": 17,
    "start_time": "2022-01-25T23:37:24.464Z"
   },
   {
    "duration": 32,
    "start_time": "2022-01-25T23:37:24.484Z"
   },
   {
    "duration": 7,
    "start_time": "2022-01-25T23:37:24.519Z"
   },
   {
    "duration": 222,
    "start_time": "2022-01-25T23:37:24.529Z"
   },
   {
    "duration": 28,
    "start_time": "2022-01-25T23:37:24.753Z"
   },
   {
    "duration": 1010,
    "start_time": "2022-01-25T23:37:24.784Z"
   },
   {
    "duration": 1383,
    "start_time": "2022-01-25T23:37:25.797Z"
   },
   {
    "duration": 104,
    "start_time": "2022-01-25T23:37:27.183Z"
   },
   {
    "duration": 4,
    "start_time": "2022-01-25T23:37:27.290Z"
   },
   {
    "duration": 19974,
    "start_time": "2022-01-25T23:37:27.297Z"
   },
   {
    "duration": 61907,
    "start_time": "2022-01-25T23:37:47.275Z"
   },
   {
    "duration": 12098,
    "start_time": "2022-01-25T23:38:49.185Z"
   },
   {
    "duration": 9820,
    "start_time": "2022-01-25T23:39:01.285Z"
   },
   {
    "duration": 148774,
    "start_time": "2022-01-25T23:39:11.107Z"
   },
   {
    "duration": 506007,
    "start_time": "2022-01-25T23:41:39.883Z"
   },
   {
    "duration": 12,
    "start_time": "2022-01-25T23:50:05.893Z"
   },
   {
    "duration": 1343896,
    "start_time": "2022-01-25T23:50:05.907Z"
   },
   {
    "duration": 320,
    "start_time": "2022-01-26T00:12:29.806Z"
   },
   {
    "duration": -193,
    "start_time": "2022-01-26T00:12:30.326Z"
   },
   {
    "duration": 13,
    "start_time": "2022-01-26T00:12:40.315Z"
   },
   {
    "duration": 367483,
    "start_time": "2022-01-26T00:13:16.982Z"
   },
   {
    "duration": 903250,
    "start_time": "2022-01-26T00:20:05.261Z"
   },
   {
    "duration": 24399,
    "start_time": "2022-01-26T00:35:19.177Z"
   },
   {
    "duration": 406699,
    "start_time": "2022-01-26T00:35:43.581Z"
   },
   {
    "duration": 210775,
    "start_time": "2022-01-26T00:44:55.002Z"
   },
   {
    "duration": 196,
    "start_time": "2022-01-26T00:53:04.663Z"
   },
   {
    "duration": 303986,
    "start_time": "2022-01-26T00:53:19.291Z"
   },
   {
    "duration": 308408,
    "start_time": "2022-01-26T00:58:23.280Z"
   },
   {
    "duration": 1640,
    "start_time": "2022-01-26T01:05:22.442Z"
   },
   {
    "duration": 11,
    "start_time": "2022-01-26T01:05:24.085Z"
   },
   {
    "duration": 1020,
    "start_time": "2022-01-26T01:05:24.100Z"
   },
   {
    "duration": 23,
    "start_time": "2022-01-26T01:05:25.123Z"
   },
   {
    "duration": 6,
    "start_time": "2022-01-26T01:05:25.149Z"
   },
   {
    "duration": 499,
    "start_time": "2022-01-26T01:05:25.157Z"
   },
   {
    "duration": 1251,
    "start_time": "2022-01-26T01:05:25.658Z"
   },
   {
    "duration": 147,
    "start_time": "2022-01-26T01:05:26.914Z"
   },
   {
    "duration": 520,
    "start_time": "2022-01-26T01:05:27.064Z"
   },
   {
    "duration": 769,
    "start_time": "2022-01-26T01:05:27.587Z"
   },
   {
    "duration": 59,
    "start_time": "2022-01-26T01:05:28.359Z"
   },
   {
    "duration": 6,
    "start_time": "2022-01-26T01:05:28.421Z"
   },
   {
    "duration": 74,
    "start_time": "2022-01-26T01:05:28.430Z"
   },
   {
    "duration": 6,
    "start_time": "2022-01-26T01:05:28.507Z"
   },
   {
    "duration": 180,
    "start_time": "2022-01-26T01:05:28.516Z"
   },
   {
    "duration": 26,
    "start_time": "2022-01-26T01:05:28.698Z"
   },
   {
    "duration": 98,
    "start_time": "2022-01-26T01:05:28.727Z"
   },
   {
    "duration": 58,
    "start_time": "2022-01-26T01:05:28.828Z"
   },
   {
    "duration": 647,
    "start_time": "2022-01-26T01:05:28.888Z"
   },
   {
    "duration": 53,
    "start_time": "2022-01-26T01:05:29.537Z"
   },
   {
    "duration": 22,
    "start_time": "2022-01-26T01:05:29.592Z"
   },
   {
    "duration": 67,
    "start_time": "2022-01-26T01:05:29.619Z"
   },
   {
    "duration": 90,
    "start_time": "2022-01-26T01:05:29.694Z"
   },
   {
    "duration": 19,
    "start_time": "2022-01-26T01:05:29.789Z"
   },
   {
    "duration": 566,
    "start_time": "2022-01-26T01:05:29.810Z"
   },
   {
    "duration": 38,
    "start_time": "2022-01-26T01:05:30.378Z"
   },
   {
    "duration": 90,
    "start_time": "2022-01-26T01:05:30.418Z"
   },
   {
    "duration": 40,
    "start_time": "2022-01-26T01:05:30.510Z"
   },
   {
    "duration": 618,
    "start_time": "2022-01-26T01:05:30.568Z"
   },
   {
    "duration": 40,
    "start_time": "2022-01-26T01:05:31.188Z"
   },
   {
    "duration": 608,
    "start_time": "2022-01-26T01:05:31.231Z"
   },
   {
    "duration": 517,
    "start_time": "2022-01-26T01:05:31.841Z"
   },
   {
    "duration": 56,
    "start_time": "2022-01-26T01:05:32.361Z"
   },
   {
    "duration": 6,
    "start_time": "2022-01-26T01:05:32.419Z"
   },
   {
    "duration": 49,
    "start_time": "2022-01-26T01:05:32.427Z"
   },
   {
    "duration": 39,
    "start_time": "2022-01-26T01:05:32.478Z"
   },
   {
    "duration": 563,
    "start_time": "2022-01-26T01:05:32.519Z"
   },
   {
    "duration": 14,
    "start_time": "2022-01-26T01:05:33.085Z"
   },
   {
    "duration": 68,
    "start_time": "2022-01-26T01:05:33.101Z"
   },
   {
    "duration": 592,
    "start_time": "2022-01-26T01:05:33.172Z"
   },
   {
    "duration": 40,
    "start_time": "2022-01-26T01:05:33.766Z"
   },
   {
    "duration": 78,
    "start_time": "2022-01-26T01:05:33.809Z"
   },
   {
    "duration": 582,
    "start_time": "2022-01-26T01:05:33.890Z"
   },
   {
    "duration": 17,
    "start_time": "2022-01-26T01:05:34.474Z"
   },
   {
    "duration": 34,
    "start_time": "2022-01-26T01:05:34.494Z"
   },
   {
    "duration": 5,
    "start_time": "2022-01-26T01:05:34.531Z"
   },
   {
    "duration": 217,
    "start_time": "2022-01-26T01:05:34.538Z"
   },
   {
    "duration": 28,
    "start_time": "2022-01-26T01:05:34.757Z"
   },
   {
    "duration": 1223,
    "start_time": "2022-01-26T01:05:34.787Z"
   },
   {
    "duration": 1371,
    "start_time": "2022-01-26T01:05:36.012Z"
   },
   {
    "duration": 99,
    "start_time": "2022-01-26T01:05:37.386Z"
   },
   {
    "duration": 5,
    "start_time": "2022-01-26T01:05:37.488Z"
   },
   {
    "duration": 24378,
    "start_time": "2022-01-26T01:05:37.496Z"
   },
   {
    "duration": 62237,
    "start_time": "2022-01-26T01:06:01.877Z"
   },
   {
    "duration": 347555,
    "start_time": "2022-01-26T01:07:04.117Z"
   },
   {
    "duration": 19002,
    "start_time": "2022-01-26T01:12:51.675Z"
   },
   {
    "duration": 155715,
    "start_time": "2022-01-26T01:13:10.680Z"
   },
   {
    "duration": 515975,
    "start_time": "2022-01-26T01:15:46.398Z"
   },
   {
    "duration": 15,
    "start_time": "2022-01-26T01:24:22.376Z"
   },
   {
    "duration": 1845166,
    "start_time": "2022-01-26T01:24:22.394Z"
   },
   {
    "duration": 445,
    "start_time": "2022-01-26T01:55:07.562Z"
   },
   {
    "duration": -128,
    "start_time": "2022-01-26T01:55:08.137Z"
   },
   {
    "duration": -133,
    "start_time": "2022-01-26T01:55:08.143Z"
   },
   {
    "duration": -137,
    "start_time": "2022-01-26T01:55:08.148Z"
   },
   {
    "duration": -140,
    "start_time": "2022-01-26T01:55:08.153Z"
   },
   {
    "duration": 193,
    "start_time": "2022-01-26T01:57:38.182Z"
   },
   {
    "duration": 257,
    "start_time": "2022-01-26T01:57:43.962Z"
   },
   {
    "duration": 1185,
    "start_time": "2022-01-26T01:58:22.300Z"
   },
   {
    "duration": 886,
    "start_time": "2022-01-26T01:58:47.384Z"
   },
   {
    "duration": 108,
    "start_time": "2022-01-26T01:58:51.552Z"
   },
   {
    "duration": 63236,
    "start_time": "2022-01-26T01:59:41.821Z"
   },
   {
    "duration": 600,
    "start_time": "2022-01-26T02:01:10.865Z"
   },
   {
    "duration": 95,
    "start_time": "2022-01-26T02:02:49.498Z"
   },
   {
    "duration": 100,
    "start_time": "2022-01-26T02:03:08.723Z"
   },
   {
    "duration": 450,
    "start_time": "2022-01-26T02:07:17.430Z"
   },
   {
    "duration": 371,
    "start_time": "2022-01-26T02:09:01.821Z"
   },
   {
    "duration": 2517,
    "start_time": "2022-01-26T02:09:20.032Z"
   },
   {
    "duration": 402,
    "start_time": "2022-01-26T02:12:29.998Z"
   },
   {
    "duration": 267,
    "start_time": "2022-01-26T02:13:37.125Z"
   },
   {
    "duration": 2724,
    "start_time": "2022-01-26T02:17:41.622Z"
   },
   {
    "duration": 430,
    "start_time": "2022-01-26T02:18:04.159Z"
   },
   {
    "duration": 156112,
    "start_time": "2022-01-26T02:18:38.380Z"
   },
   {
    "duration": 20790,
    "start_time": "2022-01-26T02:21:14.496Z"
   },
   {
    "duration": 141,
    "start_time": "2022-01-26T02:22:36.438Z"
   },
   {
    "duration": 608,
    "start_time": "2022-01-26T02:22:37.932Z"
   },
   {
    "duration": 1125,
    "start_time": "2022-01-26T02:22:40.256Z"
   },
   {
    "duration": 874,
    "start_time": "2022-01-26T02:22:44.799Z"
   },
   {
    "duration": 3390,
    "start_time": "2022-01-26T02:22:50.581Z"
   },
   {
    "duration": 13,
    "start_time": "2022-01-26T02:24:29.869Z"
   },
   {
    "duration": 3636,
    "start_time": "2022-01-26T02:24:48.720Z"
   },
   {
    "duration": 137,
    "start_time": "2022-01-26T02:25:08.644Z"
   },
   {
    "duration": 844,
    "start_time": "2022-01-26T02:25:25.127Z"
   },
   {
    "duration": 281,
    "start_time": "2022-01-26T02:27:49.330Z"
   },
   {
    "duration": 3500,
    "start_time": "2022-01-26T02:27:58.519Z"
   },
   {
    "duration": 1700,
    "start_time": "2022-01-26T02:33:49.551Z"
   },
   {
    "duration": 15,
    "start_time": "2022-01-26T02:33:51.254Z"
   },
   {
    "duration": 971,
    "start_time": "2022-01-26T02:33:51.273Z"
   },
   {
    "duration": 33,
    "start_time": "2022-01-26T02:33:52.246Z"
   },
   {
    "duration": 6,
    "start_time": "2022-01-26T02:33:52.281Z"
   },
   {
    "duration": 501,
    "start_time": "2022-01-26T02:33:52.290Z"
   },
   {
    "duration": 1106,
    "start_time": "2022-01-26T02:33:52.794Z"
   },
   {
    "duration": 151,
    "start_time": "2022-01-26T02:33:53.904Z"
   },
   {
    "duration": 514,
    "start_time": "2022-01-26T02:33:54.058Z"
   },
   {
    "duration": 799,
    "start_time": "2022-01-26T02:33:54.575Z"
   },
   {
    "duration": 56,
    "start_time": "2022-01-26T02:33:55.377Z"
   },
   {
    "duration": 5,
    "start_time": "2022-01-26T02:33:55.435Z"
   },
   {
    "duration": 42,
    "start_time": "2022-01-26T02:33:55.470Z"
   },
   {
    "duration": 5,
    "start_time": "2022-01-26T02:33:55.515Z"
   },
   {
    "duration": 188,
    "start_time": "2022-01-26T02:33:55.523Z"
   },
   {
    "duration": 24,
    "start_time": "2022-01-26T02:33:55.714Z"
   },
   {
    "duration": 92,
    "start_time": "2022-01-26T02:33:55.741Z"
   },
   {
    "duration": 57,
    "start_time": "2022-01-26T02:33:55.835Z"
   },
   {
    "duration": 664,
    "start_time": "2022-01-26T02:33:55.894Z"
   },
   {
    "duration": 55,
    "start_time": "2022-01-26T02:33:56.561Z"
   },
   {
    "duration": 20,
    "start_time": "2022-01-26T02:33:56.618Z"
   },
   {
    "duration": 67,
    "start_time": "2022-01-26T02:33:56.640Z"
   },
   {
    "duration": 90,
    "start_time": "2022-01-26T02:33:56.713Z"
   },
   {
    "duration": 19,
    "start_time": "2022-01-26T02:33:56.807Z"
   },
   {
    "duration": 673,
    "start_time": "2022-01-26T02:33:56.829Z"
   },
   {
    "duration": 38,
    "start_time": "2022-01-26T02:33:57.504Z"
   },
   {
    "duration": 87,
    "start_time": "2022-01-26T02:33:57.545Z"
   },
   {
    "duration": 58,
    "start_time": "2022-01-26T02:33:57.635Z"
   },
   {
    "duration": 642,
    "start_time": "2022-01-26T02:33:57.695Z"
   },
   {
    "duration": 52,
    "start_time": "2022-01-26T02:33:58.340Z"
   },
   {
    "duration": 631,
    "start_time": "2022-01-26T02:33:58.394Z"
   },
   {
    "duration": 630,
    "start_time": "2022-01-26T02:33:59.028Z"
   },
   {
    "duration": 61,
    "start_time": "2022-01-26T02:33:59.660Z"
   },
   {
    "duration": 6,
    "start_time": "2022-01-26T02:33:59.723Z"
   },
   {
    "duration": 41,
    "start_time": "2022-01-26T02:33:59.731Z"
   },
   {
    "duration": 48,
    "start_time": "2022-01-26T02:33:59.775Z"
   },
   {
    "duration": 636,
    "start_time": "2022-01-26T02:33:59.826Z"
   },
   {
    "duration": 17,
    "start_time": "2022-01-26T02:34:00.464Z"
   },
   {
    "duration": 50,
    "start_time": "2022-01-26T02:34:00.484Z"
   },
   {
    "duration": 657,
    "start_time": "2022-01-26T02:34:00.537Z"
   },
   {
    "duration": 43,
    "start_time": "2022-01-26T02:34:01.196Z"
   },
   {
    "duration": 90,
    "start_time": "2022-01-26T02:34:01.242Z"
   },
   {
    "duration": 647,
    "start_time": "2022-01-26T02:34:01.334Z"
   },
   {
    "duration": 20,
    "start_time": "2022-01-26T02:34:01.985Z"
   },
   {
    "duration": 47,
    "start_time": "2022-01-26T02:34:02.007Z"
   },
   {
    "duration": 15,
    "start_time": "2022-01-26T02:34:02.056Z"
   },
   {
    "duration": 203,
    "start_time": "2022-01-26T02:34:02.075Z"
   },
   {
    "duration": 26,
    "start_time": "2022-01-26T02:34:02.281Z"
   },
   {
    "duration": 1141,
    "start_time": "2022-01-26T02:34:02.310Z"
   },
   {
    "duration": 1448,
    "start_time": "2022-01-26T02:34:03.453Z"
   },
   {
    "duration": 104,
    "start_time": "2022-01-26T02:34:04.903Z"
   },
   {
    "duration": 4,
    "start_time": "2022-01-26T02:34:05.010Z"
   },
   {
    "duration": 21352,
    "start_time": "2022-01-26T02:34:05.017Z"
   },
   {
    "duration": 61946,
    "start_time": "2022-01-26T02:34:26.372Z"
   },
   {
    "duration": 12253,
    "start_time": "2022-01-26T02:35:28.321Z"
   },
   {
    "duration": 8702,
    "start_time": "2022-01-26T02:35:40.577Z"
   },
   {
    "duration": 152304,
    "start_time": "2022-01-26T02:35:49.282Z"
   },
   {
    "duration": 502891,
    "start_time": "2022-01-26T02:38:21.589Z"
   },
   {
    "duration": 16,
    "start_time": "2022-01-26T02:46:44.484Z"
   },
   {
    "duration": 403,
    "start_time": "2022-01-26T02:46:44.502Z"
   },
   {
    "duration": -48286,
    "start_time": "2022-01-26T02:47:33.194Z"
   },
   {
    "duration": -48302,
    "start_time": "2022-01-26T02:47:33.212Z"
   },
   {
    "duration": -48421,
    "start_time": "2022-01-26T02:47:33.332Z"
   },
   {
    "duration": -48425,
    "start_time": "2022-01-26T02:47:33.338Z"
   },
   {
    "duration": -48432,
    "start_time": "2022-01-26T02:47:33.346Z"
   },
   {
    "duration": -48437,
    "start_time": "2022-01-26T02:47:33.352Z"
   },
   {
    "duration": -48561,
    "start_time": "2022-01-26T02:47:33.478Z"
   },
   {
    "duration": -48573,
    "start_time": "2022-01-26T02:47:33.491Z"
   },
   {
    "duration": -48579,
    "start_time": "2022-01-26T02:47:33.498Z"
   },
   {
    "duration": -48584,
    "start_time": "2022-01-26T02:47:33.505Z"
   },
   {
    "duration": -48713,
    "start_time": "2022-01-26T02:47:33.635Z"
   },
   {
    "duration": -48730,
    "start_time": "2022-01-26T02:47:33.654Z"
   },
   {
    "duration": -48749,
    "start_time": "2022-01-26T02:47:33.674Z"
   },
   {
    "duration": -48753,
    "start_time": "2022-01-26T02:47:33.680Z"
   },
   {
    "duration": 15,
    "start_time": "2022-01-26T02:49:06.147Z"
   },
   {
    "duration": 220,
    "start_time": "2022-01-26T02:49:38.149Z"
   },
   {
    "duration": 600,
    "start_time": "2022-01-26T02:49:39.765Z"
   },
   {
    "duration": 1126,
    "start_time": "2022-01-26T02:49:41.945Z"
   },
   {
    "duration": 865,
    "start_time": "2022-01-26T02:49:51.410Z"
   },
   {
    "duration": 449,
    "start_time": "2022-01-26T02:52:11.432Z"
   },
   {
    "duration": 2626,
    "start_time": "2022-01-26T02:52:54.216Z"
   },
   {
    "duration": 2581,
    "start_time": "2022-01-26T02:55:26.987Z"
   },
   {
    "duration": 2500,
    "start_time": "2022-01-26T02:56:16.268Z"
   },
   {
    "duration": 204,
    "start_time": "2022-01-26T02:58:25.064Z"
   },
   {
    "duration": 10771,
    "start_time": "2022-01-26T02:58:43.033Z"
   },
   {
    "duration": 11669,
    "start_time": "2022-01-26T02:59:46.672Z"
   },
   {
    "duration": 9810,
    "start_time": "2022-01-26T03:06:50.683Z"
   },
   {
    "duration": 10437,
    "start_time": "2022-01-26T03:07:57.796Z"
   },
   {
    "duration": 11785,
    "start_time": "2022-01-26T03:08:33.865Z"
   },
   {
    "duration": 91,
    "start_time": "2022-01-26T03:33:35.200Z"
   },
   {
    "duration": 10448,
    "start_time": "2022-01-26T03:33:53.232Z"
   },
   {
    "duration": 2634,
    "start_time": "2022-01-26T03:37:12.390Z"
   },
   {
    "duration": 174,
    "start_time": "2022-01-26T04:30:43.600Z"
   },
   {
    "duration": 215554,
    "start_time": "2022-01-26T04:30:58.364Z"
   },
   {
    "duration": 10805,
    "start_time": "2022-01-26T04:39:38.283Z"
   },
   {
    "duration": 10338,
    "start_time": "2022-01-26T04:40:11.647Z"
   },
   {
    "duration": 11753,
    "start_time": "2022-01-26T04:41:04.837Z"
   },
   {
    "duration": 218770,
    "start_time": "2022-01-26T04:42:56.340Z"
   },
   {
    "duration": 11803,
    "start_time": "2022-01-26T04:46:35.113Z"
   },
   {
    "duration": -201,
    "start_time": "2022-01-26T04:46:47.210Z"
   },
   {
    "duration": -206,
    "start_time": "2022-01-26T04:46:47.216Z"
   },
   {
    "duration": 10265,
    "start_time": "2022-01-26T04:48:44.631Z"
   },
   {
    "duration": 6380,
    "start_time": "2022-01-26T04:49:21.902Z"
   },
   {
    "duration": 195,
    "start_time": "2022-01-26T04:53:00.671Z"
   },
   {
    "duration": 3484,
    "start_time": "2022-01-26T04:53:11.794Z"
   },
   {
    "duration": 14,
    "start_time": "2022-01-26T04:54:06.286Z"
   },
   {
    "duration": 234,
    "start_time": "2022-01-26T04:54:55.041Z"
   },
   {
    "duration": 15,
    "start_time": "2022-01-26T04:55:11.010Z"
   },
   {
    "duration": 1597,
    "start_time": "2022-01-26T04:56:18.247Z"
   },
   {
    "duration": 9,
    "start_time": "2022-01-26T04:56:19.846Z"
   },
   {
    "duration": 946,
    "start_time": "2022-01-26T04:56:19.858Z"
   },
   {
    "duration": 25,
    "start_time": "2022-01-26T04:56:20.806Z"
   },
   {
    "duration": 15,
    "start_time": "2022-01-26T04:56:20.833Z"
   },
   {
    "duration": 485,
    "start_time": "2022-01-26T04:56:20.850Z"
   },
   {
    "duration": 1045,
    "start_time": "2022-01-26T04:56:21.337Z"
   },
   {
    "duration": 150,
    "start_time": "2022-01-26T04:56:22.385Z"
   },
   {
    "duration": 482,
    "start_time": "2022-01-26T04:56:22.538Z"
   },
   {
    "duration": 740,
    "start_time": "2022-01-26T04:56:23.022Z"
   },
   {
    "duration": 53,
    "start_time": "2022-01-26T04:56:23.764Z"
   },
   {
    "duration": 4,
    "start_time": "2022-01-26T04:56:23.820Z"
   },
   {
    "duration": 75,
    "start_time": "2022-01-26T04:56:23.827Z"
   },
   {
    "duration": 5,
    "start_time": "2022-01-26T04:56:23.904Z"
   },
   {
    "duration": 176,
    "start_time": "2022-01-26T04:56:23.911Z"
   },
   {
    "duration": 23,
    "start_time": "2022-01-26T04:56:24.090Z"
   },
   {
    "duration": 90,
    "start_time": "2022-01-26T04:56:24.115Z"
   },
   {
    "duration": 44,
    "start_time": "2022-01-26T04:56:24.207Z"
   },
   {
    "duration": 613,
    "start_time": "2022-01-26T04:56:24.270Z"
   },
   {
    "duration": 46,
    "start_time": "2022-01-26T04:56:24.885Z"
   },
   {
    "duration": 40,
    "start_time": "2022-01-26T04:56:24.933Z"
   },
   {
    "duration": 42,
    "start_time": "2022-01-26T04:56:24.975Z"
   },
   {
    "duration": 102,
    "start_time": "2022-01-26T04:56:25.024Z"
   },
   {
    "duration": 18,
    "start_time": "2022-01-26T04:56:25.129Z"
   },
   {
    "duration": 571,
    "start_time": "2022-01-26T04:56:25.150Z"
   },
   {
    "duration": 48,
    "start_time": "2022-01-26T04:56:25.723Z"
   },
   {
    "duration": 63,
    "start_time": "2022-01-26T04:56:25.774Z"
   },
   {
    "duration": 57,
    "start_time": "2022-01-26T04:56:25.840Z"
   },
   {
    "duration": 604,
    "start_time": "2022-01-26T04:56:25.900Z"
   },
   {
    "duration": 41,
    "start_time": "2022-01-26T04:56:26.507Z"
   },
   {
    "duration": 590,
    "start_time": "2022-01-26T04:56:26.570Z"
   },
   {
    "duration": 501,
    "start_time": "2022-01-26T04:56:27.169Z"
   },
   {
    "duration": 52,
    "start_time": "2022-01-26T04:56:27.673Z"
   },
   {
    "duration": 6,
    "start_time": "2022-01-26T04:56:27.728Z"
   },
   {
    "duration": 38,
    "start_time": "2022-01-26T04:56:27.737Z"
   },
   {
    "duration": 39,
    "start_time": "2022-01-26T04:56:27.777Z"
   },
   {
    "duration": 552,
    "start_time": "2022-01-26T04:56:27.819Z"
   },
   {
    "duration": 15,
    "start_time": "2022-01-26T04:56:28.374Z"
   },
   {
    "duration": 42,
    "start_time": "2022-01-26T04:56:28.393Z"
   },
   {
    "duration": 603,
    "start_time": "2022-01-26T04:56:28.470Z"
   },
   {
    "duration": 43,
    "start_time": "2022-01-26T04:56:29.076Z"
   },
   {
    "duration": 84,
    "start_time": "2022-01-26T04:56:29.122Z"
   },
   {
    "duration": 625,
    "start_time": "2022-01-26T04:56:29.209Z"
   },
   {
    "duration": 16,
    "start_time": "2022-01-26T04:56:29.836Z"
   },
   {
    "duration": 41,
    "start_time": "2022-01-26T04:56:29.854Z"
   },
   {
    "duration": 5,
    "start_time": "2022-01-26T04:56:29.897Z"
   },
   {
    "duration": 210,
    "start_time": "2022-01-26T04:56:29.904Z"
   },
   {
    "duration": 24,
    "start_time": "2022-01-26T04:56:30.116Z"
   },
   {
    "duration": 1260,
    "start_time": "2022-01-26T04:56:30.143Z"
   },
   {
    "duration": 1396,
    "start_time": "2022-01-26T04:56:31.406Z"
   },
   {
    "duration": 96,
    "start_time": "2022-01-26T04:56:32.804Z"
   },
   {
    "duration": 5,
    "start_time": "2022-01-26T04:56:32.903Z"
   },
   {
    "duration": 20463,
    "start_time": "2022-01-26T04:56:32.911Z"
   },
   {
    "duration": 63964,
    "start_time": "2022-01-26T04:56:53.377Z"
   },
   {
    "duration": 12038,
    "start_time": "2022-01-26T04:57:57.344Z"
   },
   {
    "duration": 12302,
    "start_time": "2022-01-26T04:58:09.384Z"
   },
   {
    "duration": 153197,
    "start_time": "2022-01-26T04:58:21.689Z"
   },
   {
    "duration": 504794,
    "start_time": "2022-01-26T05:00:54.889Z"
   },
   {
    "duration": 13,
    "start_time": "2022-01-26T05:09:19.685Z"
   },
   {
    "duration": 385,
    "start_time": "2022-01-26T05:09:19.700Z"
   },
   {
    "duration": -134,
    "start_time": "2022-01-26T05:09:20.222Z"
   },
   {
    "duration": -138,
    "start_time": "2022-01-26T05:09:20.227Z"
   },
   {
    "duration": -142,
    "start_time": "2022-01-26T05:09:20.233Z"
   },
   {
    "duration": -146,
    "start_time": "2022-01-26T05:09:20.238Z"
   },
   {
    "duration": -150,
    "start_time": "2022-01-26T05:09:20.244Z"
   },
   {
    "duration": -159,
    "start_time": "2022-01-26T05:09:20.254Z"
   },
   {
    "duration": -163,
    "start_time": "2022-01-26T05:09:20.259Z"
   },
   {
    "duration": -167,
    "start_time": "2022-01-26T05:09:20.265Z"
   },
   {
    "duration": -266,
    "start_time": "2022-01-26T05:09:20.365Z"
   },
   {
    "duration": -271,
    "start_time": "2022-01-26T05:09:20.371Z"
   },
   {
    "duration": -275,
    "start_time": "2022-01-26T05:09:20.377Z"
   },
   {
    "duration": -279,
    "start_time": "2022-01-26T05:09:20.382Z"
   },
   {
    "duration": -282,
    "start_time": "2022-01-26T05:09:20.386Z"
   },
   {
    "duration": -284,
    "start_time": "2022-01-26T05:09:20.390Z"
   },
   {
    "duration": -287,
    "start_time": "2022-01-26T05:09:20.394Z"
   },
   {
    "duration": -291,
    "start_time": "2022-01-26T05:09:20.399Z"
   },
   {
    "duration": -293,
    "start_time": "2022-01-26T05:09:20.403Z"
   },
   {
    "duration": -296,
    "start_time": "2022-01-26T05:09:20.407Z"
   },
   {
    "duration": -298,
    "start_time": "2022-01-26T05:09:20.411Z"
   },
   {
    "duration": -301,
    "start_time": "2022-01-26T05:09:20.415Z"
   },
   {
    "duration": -303,
    "start_time": "2022-01-26T05:09:20.419Z"
   },
   {
    "duration": -306,
    "start_time": "2022-01-26T05:09:20.423Z"
   },
   {
    "duration": -308,
    "start_time": "2022-01-26T05:09:20.427Z"
   },
   {
    "duration": 4,
    "start_time": "2022-01-26T05:13:56.571Z"
   },
   {
    "duration": 9760,
    "start_time": "2022-01-26T05:14:09.055Z"
   },
   {
    "duration": 11672,
    "start_time": "2022-01-26T05:14:35.681Z"
   },
   {
    "duration": 217020,
    "start_time": "2022-01-26T05:15:29.471Z"
   },
   {
    "duration": 4,
    "start_time": "2022-01-26T05:19:06.494Z"
   },
   {
    "duration": 217573,
    "start_time": "2022-01-26T05:19:52.444Z"
   },
   {
    "duration": 10682,
    "start_time": "2022-01-26T05:23:30.020Z"
   },
   {
    "duration": 12173,
    "start_time": "2022-01-26T05:23:40.705Z"
   },
   {
    "duration": 7042,
    "start_time": "2022-01-26T05:23:52.881Z"
   },
   {
    "duration": 153,
    "start_time": "2022-01-26T05:23:59.925Z"
   },
   {
    "duration": 3440,
    "start_time": "2022-01-26T05:25:11.736Z"
   },
   {
    "duration": 162,
    "start_time": "2022-01-26T05:25:27.817Z"
   },
   {
    "duration": 184,
    "start_time": "2022-01-26T05:26:55.502Z"
   },
   {
    "duration": 4051,
    "start_time": "2022-01-26T05:27:09.833Z"
   },
   {
    "duration": 3445,
    "start_time": "2022-01-26T05:27:25.727Z"
   },
   {
    "duration": 16,
    "start_time": "2022-01-26T05:27:37.350Z"
   },
   {
    "duration": 14,
    "start_time": "2022-01-26T05:27:50.471Z"
   },
   {
    "duration": 13,
    "start_time": "2022-01-26T05:35:52.708Z"
   },
   {
    "duration": 13,
    "start_time": "2022-01-26T05:35:58.403Z"
   },
   {
    "duration": 14,
    "start_time": "2022-01-26T05:39:15.281Z"
   },
   {
    "duration": 1568,
    "start_time": "2022-01-26T05:57:25.394Z"
   },
   {
    "duration": 9,
    "start_time": "2022-01-26T05:57:26.965Z"
   },
   {
    "duration": 930,
    "start_time": "2022-01-26T05:57:26.977Z"
   },
   {
    "duration": 25,
    "start_time": "2022-01-26T05:57:27.910Z"
   },
   {
    "duration": 6,
    "start_time": "2022-01-26T05:57:27.937Z"
   },
   {
    "duration": 481,
    "start_time": "2022-01-26T05:57:27.969Z"
   },
   {
    "duration": 1109,
    "start_time": "2022-01-26T05:57:28.452Z"
   },
   {
    "duration": 154,
    "start_time": "2022-01-26T05:57:29.564Z"
   },
   {
    "duration": 538,
    "start_time": "2022-01-26T05:57:29.721Z"
   },
   {
    "duration": 760,
    "start_time": "2022-01-26T05:57:30.262Z"
   },
   {
    "duration": 67,
    "start_time": "2022-01-26T05:57:31.025Z"
   },
   {
    "duration": 5,
    "start_time": "2022-01-26T05:57:31.094Z"
   },
   {
    "duration": 68,
    "start_time": "2022-01-26T05:57:31.101Z"
   },
   {
    "duration": 4,
    "start_time": "2022-01-26T05:57:31.172Z"
   },
   {
    "duration": 177,
    "start_time": "2022-01-26T05:57:31.179Z"
   },
   {
    "duration": 28,
    "start_time": "2022-01-26T05:57:31.358Z"
   },
   {
    "duration": 88,
    "start_time": "2022-01-26T05:57:31.388Z"
   },
   {
    "duration": 44,
    "start_time": "2022-01-26T05:57:31.478Z"
   },
   {
    "duration": 661,
    "start_time": "2022-01-26T05:57:31.525Z"
   },
   {
    "duration": 50,
    "start_time": "2022-01-26T05:57:32.188Z"
   },
   {
    "duration": 36,
    "start_time": "2022-01-26T05:57:32.241Z"
   },
   {
    "duration": 43,
    "start_time": "2022-01-26T05:57:32.279Z"
   },
   {
    "duration": 96,
    "start_time": "2022-01-26T05:57:32.328Z"
   },
   {
    "duration": 20,
    "start_time": "2022-01-26T05:57:32.428Z"
   },
   {
    "duration": 553,
    "start_time": "2022-01-26T05:57:32.470Z"
   },
   {
    "duration": 50,
    "start_time": "2022-01-26T05:57:33.025Z"
   },
   {
    "duration": 64,
    "start_time": "2022-01-26T05:57:33.077Z"
   },
   {
    "duration": 57,
    "start_time": "2022-01-26T05:57:33.144Z"
   },
   {
    "duration": 600,
    "start_time": "2022-01-26T05:57:33.204Z"
   },
   {
    "duration": 41,
    "start_time": "2022-01-26T05:57:33.806Z"
   },
   {
    "duration": 608,
    "start_time": "2022-01-26T05:57:33.850Z"
   },
   {
    "duration": 503,
    "start_time": "2022-01-26T05:57:34.460Z"
   },
   {
    "duration": 53,
    "start_time": "2022-01-26T05:57:34.969Z"
   },
   {
    "duration": 6,
    "start_time": "2022-01-26T05:57:35.024Z"
   },
   {
    "duration": 43,
    "start_time": "2022-01-26T05:57:35.033Z"
   },
   {
    "duration": 41,
    "start_time": "2022-01-26T05:57:35.078Z"
   },
   {
    "duration": 555,
    "start_time": "2022-01-26T05:57:35.121Z"
   },
   {
    "duration": 16,
    "start_time": "2022-01-26T05:57:35.679Z"
   },
   {
    "duration": 76,
    "start_time": "2022-01-26T05:57:35.698Z"
   },
   {
    "duration": 602,
    "start_time": "2022-01-26T05:57:35.776Z"
   },
   {
    "duration": 42,
    "start_time": "2022-01-26T05:57:36.380Z"
   },
   {
    "duration": 82,
    "start_time": "2022-01-26T05:57:36.424Z"
   },
   {
    "duration": 571,
    "start_time": "2022-01-26T05:57:36.509Z"
   },
   {
    "duration": 16,
    "start_time": "2022-01-26T05:57:37.082Z"
   },
   {
    "duration": 33,
    "start_time": "2022-01-26T05:57:37.101Z"
   },
   {
    "duration": 33,
    "start_time": "2022-01-26T05:57:37.136Z"
   },
   {
    "duration": 188,
    "start_time": "2022-01-26T05:57:37.172Z"
   },
   {
    "duration": 25,
    "start_time": "2022-01-26T05:57:37.363Z"
   },
   {
    "duration": 912,
    "start_time": "2022-01-26T05:57:37.390Z"
   },
   {
    "duration": 1370,
    "start_time": "2022-01-26T05:57:38.304Z"
   },
   {
    "duration": 104,
    "start_time": "2022-01-26T05:57:39.677Z"
   },
   {
    "duration": 4,
    "start_time": "2022-01-26T05:57:39.784Z"
   },
   {
    "duration": 20183,
    "start_time": "2022-01-26T05:57:39.790Z"
   },
   {
    "duration": 61416,
    "start_time": "2022-01-26T05:57:59.976Z"
   },
   {
    "duration": 11692,
    "start_time": "2022-01-26T05:59:01.394Z"
   },
   {
    "duration": 9394,
    "start_time": "2022-01-26T05:59:13.089Z"
   },
   {
    "duration": 153308,
    "start_time": "2022-01-26T05:59:22.486Z"
   },
   {
    "duration": 502090,
    "start_time": "2022-01-26T06:01:55.798Z"
   },
   {
    "duration": 14,
    "start_time": "2022-01-26T06:10:17.890Z"
   },
   {
    "duration": 1882321,
    "start_time": "2022-01-26T06:10:17.969Z"
   },
   {
    "duration": 291602,
    "start_time": "2022-01-26T07:03:47.295Z"
   },
   {
    "duration": 397736,
    "start_time": "2022-01-26T07:08:38.900Z"
   },
   {
    "duration": 1376443,
    "start_time": "2022-01-26T07:15:16.639Z"
   },
   {
    "duration": 103890,
    "start_time": "2022-01-26T07:38:13.084Z"
   },
   {
    "duration": 221922,
    "start_time": "2022-01-26T07:39:56.977Z"
   },
   {
    "duration": 11962,
    "start_time": "2022-01-26T07:43:38.902Z"
   },
   {
    "duration": 10530,
    "start_time": "2022-01-26T07:43:50.866Z"
   },
   {
    "duration": 6479,
    "start_time": "2022-01-26T07:44:01.399Z"
   },
   {
    "duration": 3496,
    "start_time": "2022-01-26T07:44:07.881Z"
   },
   {
    "duration": 293,
    "start_time": "2022-01-26T07:44:11.380Z"
   },
   {
    "duration": 104,
    "start_time": "2022-01-26T07:44:11.677Z"
   },
   {
    "duration": 16,
    "start_time": "2022-01-26T07:44:11.783Z"
   }
  ],
  "kernelspec": {
   "display_name": "Python 3",
   "language": "python",
   "name": "python3"
  },
  "language_info": {
   "codemirror_mode": {
    "name": "ipython",
    "version": 3
   },
   "file_extension": ".py",
   "mimetype": "text/x-python",
   "name": "python",
   "nbconvert_exporter": "python",
   "pygments_lexer": "ipython3",
   "version": "3.7.6"
  },
  "toc": {
   "base_numbering": 1,
   "nav_menu": {},
   "number_sections": true,
   "sideBar": true,
   "skip_h1_title": true,
   "title_cell": "Table of Contents",
   "title_sidebar": "Contents",
   "toc_cell": false,
   "toc_position": {},
   "toc_section_display": true,
   "toc_window_display": false
  }
 },
 "nbformat": 4,
 "nbformat_minor": 2
}

{
 "cells": [
  {
   "cell_type": "markdown",
   "metadata": {},
   "source": [
    "# Analyzing borrowers’ risk of defaulting\n",
    "\n",
    "Your project is to prepare a report for a bank’s loan division. You’ll need to find out if a customer’s marital status and number of children has an impact on whether they will default on a loan. The bank already has some data on customers’ credit worthiness.\n",
    "\n",
    "Your report will be considered when building a **credit scoring** of a potential customer. A ** credit scoring ** is used to evaluate the ability of a potential borrower to repay their loan."
   ]
  },
  {
   "cell_type": "code",
   "execution_count": 1,
   "metadata": {},
   "outputs": [],
   "source": [
    "# import libraries\n",
    "import pandas as pd\n",
    "import numpy as np"
   ]
  },
  {
   "cell_type": "code",
   "execution_count": 2,
   "metadata": {},
   "outputs": [],
   "source": [
    "# load the data \n",
    "try:\n",
    "    data = pd.read_csv('/Users/rraven/Desktop/a_final_yandex/datasets/credit_scoring_eng.csv')\n",
    "except:\n",
    "    data = pd.read_csv('/datasets/credit_scoring_eng.csv')"
   ]
  },
  {
   "cell_type": "code",
   "execution_count": 3,
   "metadata": {},
   "outputs": [
    {
     "name": "stdout",
     "output_type": "stream",
     "text": [
      "\n",
      "General Info for credit_scoring_eng\n",
      "\n",
      "<class 'pandas.core.frame.DataFrame'>\n",
      "RangeIndex: 21525 entries, 0 to 21524\n",
      "Data columns (total 12 columns):\n",
      " #   Column            Non-Null Count  Dtype  \n",
      "---  ------            --------------  -----  \n",
      " 0   children          21525 non-null  int64  \n",
      " 1   days_employed     19351 non-null  float64\n",
      " 2   dob_years         21525 non-null  int64  \n",
      " 3   education         21525 non-null  object \n",
      " 4   education_id      21525 non-null  int64  \n",
      " 5   family_status     21525 non-null  object \n",
      " 6   family_status_id  21525 non-null  int64  \n",
      " 7   gender            21525 non-null  object \n",
      " 8   income_type       21525 non-null  object \n",
      " 9   debt              21525 non-null  int64  \n",
      " 10  total_income      19351 non-null  float64\n",
      " 11  purpose           21525 non-null  object \n",
      "dtypes: float64(2), int64(5), object(5)\n",
      "memory usage: 2.0+ MB\n",
      "\n",
      "First 10 rows of credit_scoring_eng.csv\n"
     ]
    },
    {
     "data": {
      "text/html": [
       "<div>\n",
       "<style scoped>\n",
       "    .dataframe tbody tr th:only-of-type {\n",
       "        vertical-align: middle;\n",
       "    }\n",
       "\n",
       "    .dataframe tbody tr th {\n",
       "        vertical-align: top;\n",
       "    }\n",
       "\n",
       "    .dataframe thead th {\n",
       "        text-align: right;\n",
       "    }\n",
       "</style>\n",
       "<table border=\"1\" class=\"dataframe\">\n",
       "  <thead>\n",
       "    <tr style=\"text-align: right;\">\n",
       "      <th></th>\n",
       "      <th>children</th>\n",
       "      <th>days_employed</th>\n",
       "      <th>dob_years</th>\n",
       "      <th>education</th>\n",
       "      <th>education_id</th>\n",
       "      <th>family_status</th>\n",
       "      <th>family_status_id</th>\n",
       "      <th>gender</th>\n",
       "      <th>income_type</th>\n",
       "      <th>debt</th>\n",
       "      <th>total_income</th>\n",
       "      <th>purpose</th>\n",
       "    </tr>\n",
       "  </thead>\n",
       "  <tbody>\n",
       "    <tr>\n",
       "      <th>0</th>\n",
       "      <td>1</td>\n",
       "      <td>-8437.673028</td>\n",
       "      <td>42</td>\n",
       "      <td>bachelor's degree</td>\n",
       "      <td>0</td>\n",
       "      <td>married</td>\n",
       "      <td>0</td>\n",
       "      <td>F</td>\n",
       "      <td>employee</td>\n",
       "      <td>0</td>\n",
       "      <td>40620.102</td>\n",
       "      <td>purchase of the house</td>\n",
       "    </tr>\n",
       "    <tr>\n",
       "      <th>1</th>\n",
       "      <td>1</td>\n",
       "      <td>-4024.803754</td>\n",
       "      <td>36</td>\n",
       "      <td>secondary education</td>\n",
       "      <td>1</td>\n",
       "      <td>married</td>\n",
       "      <td>0</td>\n",
       "      <td>F</td>\n",
       "      <td>employee</td>\n",
       "      <td>0</td>\n",
       "      <td>17932.802</td>\n",
       "      <td>car purchase</td>\n",
       "    </tr>\n",
       "    <tr>\n",
       "      <th>2</th>\n",
       "      <td>0</td>\n",
       "      <td>-5623.422610</td>\n",
       "      <td>33</td>\n",
       "      <td>Secondary Education</td>\n",
       "      <td>1</td>\n",
       "      <td>married</td>\n",
       "      <td>0</td>\n",
       "      <td>M</td>\n",
       "      <td>employee</td>\n",
       "      <td>0</td>\n",
       "      <td>23341.752</td>\n",
       "      <td>purchase of the house</td>\n",
       "    </tr>\n",
       "    <tr>\n",
       "      <th>3</th>\n",
       "      <td>3</td>\n",
       "      <td>-4124.747207</td>\n",
       "      <td>32</td>\n",
       "      <td>secondary education</td>\n",
       "      <td>1</td>\n",
       "      <td>married</td>\n",
       "      <td>0</td>\n",
       "      <td>M</td>\n",
       "      <td>employee</td>\n",
       "      <td>0</td>\n",
       "      <td>42820.568</td>\n",
       "      <td>supplementary education</td>\n",
       "    </tr>\n",
       "    <tr>\n",
       "      <th>4</th>\n",
       "      <td>0</td>\n",
       "      <td>340266.072047</td>\n",
       "      <td>53</td>\n",
       "      <td>secondary education</td>\n",
       "      <td>1</td>\n",
       "      <td>civil partnership</td>\n",
       "      <td>1</td>\n",
       "      <td>F</td>\n",
       "      <td>retiree</td>\n",
       "      <td>0</td>\n",
       "      <td>25378.572</td>\n",
       "      <td>to have a wedding</td>\n",
       "    </tr>\n",
       "    <tr>\n",
       "      <th>5</th>\n",
       "      <td>0</td>\n",
       "      <td>-926.185831</td>\n",
       "      <td>27</td>\n",
       "      <td>bachelor's degree</td>\n",
       "      <td>0</td>\n",
       "      <td>civil partnership</td>\n",
       "      <td>1</td>\n",
       "      <td>M</td>\n",
       "      <td>business</td>\n",
       "      <td>0</td>\n",
       "      <td>40922.170</td>\n",
       "      <td>purchase of the house</td>\n",
       "    </tr>\n",
       "    <tr>\n",
       "      <th>6</th>\n",
       "      <td>0</td>\n",
       "      <td>-2879.202052</td>\n",
       "      <td>43</td>\n",
       "      <td>bachelor's degree</td>\n",
       "      <td>0</td>\n",
       "      <td>married</td>\n",
       "      <td>0</td>\n",
       "      <td>F</td>\n",
       "      <td>business</td>\n",
       "      <td>0</td>\n",
       "      <td>38484.156</td>\n",
       "      <td>housing transactions</td>\n",
       "    </tr>\n",
       "    <tr>\n",
       "      <th>7</th>\n",
       "      <td>0</td>\n",
       "      <td>-152.779569</td>\n",
       "      <td>50</td>\n",
       "      <td>SECONDARY EDUCATION</td>\n",
       "      <td>1</td>\n",
       "      <td>married</td>\n",
       "      <td>0</td>\n",
       "      <td>M</td>\n",
       "      <td>employee</td>\n",
       "      <td>0</td>\n",
       "      <td>21731.829</td>\n",
       "      <td>education</td>\n",
       "    </tr>\n",
       "    <tr>\n",
       "      <th>8</th>\n",
       "      <td>2</td>\n",
       "      <td>-6929.865299</td>\n",
       "      <td>35</td>\n",
       "      <td>BACHELOR'S DEGREE</td>\n",
       "      <td>0</td>\n",
       "      <td>civil partnership</td>\n",
       "      <td>1</td>\n",
       "      <td>F</td>\n",
       "      <td>employee</td>\n",
       "      <td>0</td>\n",
       "      <td>15337.093</td>\n",
       "      <td>having a wedding</td>\n",
       "    </tr>\n",
       "    <tr>\n",
       "      <th>9</th>\n",
       "      <td>0</td>\n",
       "      <td>-2188.756445</td>\n",
       "      <td>41</td>\n",
       "      <td>secondary education</td>\n",
       "      <td>1</td>\n",
       "      <td>married</td>\n",
       "      <td>0</td>\n",
       "      <td>M</td>\n",
       "      <td>employee</td>\n",
       "      <td>0</td>\n",
       "      <td>23108.150</td>\n",
       "      <td>purchase of the house for my family</td>\n",
       "    </tr>\n",
       "  </tbody>\n",
       "</table>\n",
       "</div>"
      ],
      "text/plain": [
       "   children  days_employed  dob_years            education  education_id  \\\n",
       "0         1   -8437.673028         42    bachelor's degree             0   \n",
       "1         1   -4024.803754         36  secondary education             1   \n",
       "2         0   -5623.422610         33  Secondary Education             1   \n",
       "3         3   -4124.747207         32  secondary education             1   \n",
       "4         0  340266.072047         53  secondary education             1   \n",
       "5         0    -926.185831         27    bachelor's degree             0   \n",
       "6         0   -2879.202052         43    bachelor's degree             0   \n",
       "7         0    -152.779569         50  SECONDARY EDUCATION             1   \n",
       "8         2   -6929.865299         35    BACHELOR'S DEGREE             0   \n",
       "9         0   -2188.756445         41  secondary education             1   \n",
       "\n",
       "       family_status  family_status_id gender income_type  debt  total_income  \\\n",
       "0            married                 0      F    employee     0     40620.102   \n",
       "1            married                 0      F    employee     0     17932.802   \n",
       "2            married                 0      M    employee     0     23341.752   \n",
       "3            married                 0      M    employee     0     42820.568   \n",
       "4  civil partnership                 1      F     retiree     0     25378.572   \n",
       "5  civil partnership                 1      M    business     0     40922.170   \n",
       "6            married                 0      F    business     0     38484.156   \n",
       "7            married                 0      M    employee     0     21731.829   \n",
       "8  civil partnership                 1      F    employee     0     15337.093   \n",
       "9            married                 0      M    employee     0     23108.150   \n",
       "\n",
       "                               purpose  \n",
       "0                purchase of the house  \n",
       "1                         car purchase  \n",
       "2                purchase of the house  \n",
       "3              supplementary education  \n",
       "4                    to have a wedding  \n",
       "5                purchase of the house  \n",
       "6                 housing transactions  \n",
       "7                            education  \n",
       "8                     having a wedding  \n",
       "9  purchase of the house for my family  "
      ]
     },
     "execution_count": 3,
     "metadata": {},
     "output_type": "execute_result"
    }
   ],
   "source": [
    "# print general info & first 10 rows\n",
    "#data = pd.read_csv('../data/credit_scoring_eng.csv')\n",
    "print('\\nGeneral Info for credit_scoring_eng\\n')\n",
    "data.info()\n",
    "print('\\nFirst 10 rows of credit_scoring_eng.csv')\n",
    "data.head(10)"
   ]
  },
  {
   "cell_type": "code",
   "execution_count": 4,
   "metadata": {},
   "outputs": [
    {
     "name": "stdout",
     "output_type": "stream",
     "text": [
      "Total Rows: 21525\n",
      "\n",
      "Column\t\tMissing Rows\n"
     ]
    },
    {
     "data": {
      "text/plain": [
       "children               0\n",
       "days_employed       2174\n",
       "dob_years              0\n",
       "education              0\n",
       "education_id           0\n",
       "family_status          0\n",
       "family_status_id       0\n",
       "gender                 0\n",
       "income_type            0\n",
       "debt                   0\n",
       "total_income        2174\n",
       "purpose                0\n",
       "dtype: int64"
      ]
     },
     "execution_count": 4,
     "metadata": {},
     "output_type": "execute_result"
    }
   ],
   "source": [
    "# find the number of missing values per column\n",
    "print('Total Rows:', len(data))\n",
    "print('\\nColumn\\t\\tMissing Rows')\n",
    "data.isnull().sum()"
   ]
  },
  {
   "cell_type": "code",
   "execution_count": 5,
   "metadata": {},
   "outputs": [
    {
     "name": "stdout",
     "output_type": "stream",
     "text": [
      "Column\t\tPercent Missing\n"
     ]
    },
    {
     "data": {
      "text/plain": [
       "children             0.000000\n",
       "days_employed       10.099884\n",
       "dob_years            0.000000\n",
       "education            0.000000\n",
       "education_id         0.000000\n",
       "family_status        0.000000\n",
       "family_status_id     0.000000\n",
       "gender               0.000000\n",
       "income_type          0.000000\n",
       "debt                 0.000000\n",
       "total_income        10.099884\n",
       "purpose              0.000000\n",
       "dtype: float64"
      ]
     },
     "execution_count": 5,
     "metadata": {},
     "output_type": "execute_result"
    }
   ],
   "source": [
    "ratio = 100*data.isnull().sum() / len(data)\n",
    "print('Column\\t\\tPercent Missing')\n",
    "ratio"
   ]
  },
  {
   "cell_type": "code",
   "execution_count": 6,
   "metadata": {},
   "outputs": [
    {
     "name": "stdout",
     "output_type": "stream",
     "text": [
      "Number of duplicate rows:\n"
     ]
    },
    {
     "data": {
      "text/plain": [
       "54"
      ]
     },
     "execution_count": 6,
     "metadata": {},
     "output_type": "execute_result"
    }
   ],
   "source": [
    "# check data for duplicates in entire dataFrame\n",
    "print('Number of duplicate rows:')\n",
    "data.duplicated().sum()"
   ]
  },
  {
   "cell_type": "markdown",
   "metadata": {},
   "source": [
    "**Initial Observations for credit_scoring_eng.csv**\n",
    "\n",
    "* 21525 rows\n",
    "* 12 columns\n",
    "* A mix of data types (float64(2), int64(5), object(5))\n",
    "* 2174 missing values in 2 columns (days_employed, total_income) \n",
    "* days_employed and total_income are missing over 10% of total values\n",
    "* 54 duplicate rows"
   ]
  },
  {
   "cell_type": "code",
   "execution_count": 7,
   "metadata": {},
   "outputs": [
    {
     "data": {
      "text/plain": [
       " 0     14149\n",
       " 1      4818\n",
       " 2      2055\n",
       " 3       330\n",
       " 20       76\n",
       "-1        47\n",
       " 4        41\n",
       " 5         9\n",
       "Name: children, dtype: int64"
      ]
     },
     "execution_count": 7,
     "metadata": {},
     "output_type": "execute_result"
    }
   ],
   "source": [
    "# investigate children column\n",
    "data['children'].value_counts()"
   ]
  },
  {
   "cell_type": "code",
   "execution_count": 8,
   "metadata": {},
   "outputs": [
    {
     "data": {
      "text/plain": [
       "married              12380\n",
       "civil partnership     4177\n",
       "unmarried             2813\n",
       "divorced              1195\n",
       "widow / widower        960\n",
       "Name: family_status, dtype: int64"
      ]
     },
     "execution_count": 8,
     "metadata": {},
     "output_type": "execute_result"
    }
   ],
   "source": [
    "# investigate family_status column\n",
    "data['family_status'].value_counts()"
   ]
  },
  {
   "cell_type": "code",
   "execution_count": 9,
   "metadata": {},
   "outputs": [
    {
     "data": {
      "text/plain": [
       "0    12380\n",
       "1     4177\n",
       "4     2813\n",
       "3     1195\n",
       "2      960\n",
       "Name: family_status_id, dtype: int64"
      ]
     },
     "execution_count": 9,
     "metadata": {},
     "output_type": "execute_result"
    }
   ],
   "source": [
    "# investigate family_status_id column\n",
    "data['family_status_id'].value_counts()"
   ]
  },
  {
   "cell_type": "code",
   "execution_count": 10,
   "metadata": {},
   "outputs": [
    {
     "data": {
      "text/plain": [
       "wedding ceremony                            797\n",
       "having a wedding                            777\n",
       "to have a wedding                           774\n",
       "real estate transactions                    676\n",
       "buy commercial real estate                  664\n",
       "buying property for renting out             653\n",
       "housing transactions                        653\n",
       "transactions with commercial real estate    651\n",
       "purchase of the house                       647\n",
       "housing                                     647\n",
       "purchase of the house for my family         641\n",
       "construction of own property                635\n",
       "property                                    634\n",
       "transactions with my real estate            630\n",
       "building a real estate                      626\n",
       "buy real estate                             624\n",
       "building a property                         620\n",
       "purchase of my own house                    620\n",
       "housing renovation                          612\n",
       "buy residential real estate                 607\n",
       "buying my own car                           505\n",
       "going to university                         496\n",
       "car                                         495\n",
       "second-hand car purchase                    489\n",
       "to own a car                                480\n",
       "buying a second-hand car                    479\n",
       "cars                                        478\n",
       "to buy a car                                472\n",
       "supplementary education                     462\n",
       "car purchase                                462\n",
       "purchase of a car                           455\n",
       "university education                        453\n",
       "education                                   447\n",
       "to get a supplementary education            447\n",
       "getting an education                        443\n",
       "profile education                           436\n",
       "getting higher education                    426\n",
       "to become educated                          412\n",
       "Name: purpose, dtype: int64"
      ]
     },
     "execution_count": 10,
     "metadata": {},
     "output_type": "execute_result"
    }
   ],
   "source": [
    "# investigate purpose column\n",
    "data['purpose'].value_counts()"
   ]
  },
  {
   "cell_type": "code",
   "execution_count": 11,
   "metadata": {},
   "outputs": [
    {
     "data": {
      "text/plain": [
       "38"
      ]
     },
     "execution_count": 11,
     "metadata": {},
     "output_type": "execute_result"
    }
   ],
   "source": [
    "# how many unique entries in purpose column\n",
    "data['purpose'].nunique()"
   ]
  },
  {
   "cell_type": "code",
   "execution_count": 12,
   "metadata": {},
   "outputs": [
    {
     "data": {
      "text/plain": [
       "0    19784\n",
       "1     1741\n",
       "Name: debt, dtype: int64"
      ]
     },
     "execution_count": 12,
     "metadata": {},
     "output_type": "execute_result"
    }
   ],
   "source": [
    "# investigate debt column\n",
    "data['debt'].value_counts()"
   ]
  },
  {
   "cell_type": "code",
   "execution_count": 13,
   "metadata": {},
   "outputs": [
    {
     "data": {
      "text/plain": [
       "0     101\n",
       "19     14\n",
       "20     51\n",
       "21    111\n",
       "22    183\n",
       "23    254\n",
       "24    264\n",
       "25    357\n",
       "26    408\n",
       "27    493\n",
       "28    503\n",
       "29    545\n",
       "30    540\n",
       "31    560\n",
       "32    510\n",
       "33    581\n",
       "34    603\n",
       "35    617\n",
       "36    555\n",
       "37    537\n",
       "38    598\n",
       "39    573\n",
       "40    609\n",
       "41    607\n",
       "42    597\n",
       "43    513\n",
       "44    547\n",
       "45    497\n",
       "46    475\n",
       "47    480\n",
       "48    538\n",
       "49    508\n",
       "50    514\n",
       "51    448\n",
       "52    484\n",
       "53    459\n",
       "54    479\n",
       "55    443\n",
       "56    487\n",
       "57    460\n",
       "58    461\n",
       "59    444\n",
       "60    377\n",
       "61    355\n",
       "62    352\n",
       "63    269\n",
       "64    265\n",
       "65    194\n",
       "66    183\n",
       "67    167\n",
       "68     99\n",
       "69     85\n",
       "70     65\n",
       "71     58\n",
       "72     33\n",
       "73      8\n",
       "74      6\n",
       "75      1\n",
       "Name: dob_years, dtype: int64"
      ]
     },
     "execution_count": 13,
     "metadata": {},
     "output_type": "execute_result"
    }
   ],
   "source": [
    "# investigate dob_years column\n",
    "data['dob_years'].value_counts().sort_index()"
   ]
  },
  {
   "cell_type": "code",
   "execution_count": 14,
   "metadata": {},
   "outputs": [
    {
     "name": "stdout",
     "output_type": "stream",
     "text": [
      "Age < 20:\t 115 \n",
      "20 <= Age < 30:\t 3169 \n",
      "30 <= Age < 40:\t 5674 \n",
      "40 <= Age < 50:\t 5371 \n",
      "50 <= Age < 60:\t 4679 \n",
      "60 <= Age < 70:\t 2346 \n",
      "Age >= 70:\t 171 \n",
      "nan:\t\t 0 \n",
      "Unknown:\t 0\n"
     ]
    }
   ],
   "source": [
    "# categorize dob_years in 10 year increments\n",
    "less_than_20 = 0\n",
    "btwn20and30 = 0\n",
    "btwn30and40 = 0\n",
    "btwn40and50 = 0\n",
    "btwn50and60 = 0\n",
    "btwn60and70 = 0\n",
    "over_equal70 = 0\n",
    "nan_count = 0\n",
    "unknown = 0\n",
    "for x in data['dob_years']:\n",
    "    if x < 20:\n",
    "        less_than_20 +=1\n",
    "    elif x < 30:\n",
    "        btwn20and30 +=1\n",
    "    elif x < 40:\n",
    "        btwn30and40 +=1   \n",
    "    elif x < 50:\n",
    "        btwn40and50 +=1 \n",
    "    elif x < 60:\n",
    "        btwn50and60 +=1 \n",
    "    elif x < 70:\n",
    "        btwn60and70 +=1 \n",
    "    elif x >= 70:\n",
    "        over_equal70 +=1        \n",
    "    elif str(x) == 'nan':\n",
    "        nan_count +=1\n",
    "    else:\n",
    "        # to check there are no other values\n",
    "        unknown +=1\n",
    "print(\"Age < 20:\\t\", less_than_20, \n",
    "      \"\\n20 <= Age < 30:\\t\", btwn20and30,\n",
    "      \"\\n30 <= Age < 40:\\t\", btwn30and40,\n",
    "      \"\\n40 <= Age < 50:\\t\", btwn40and50,\n",
    "      \"\\n50 <= Age < 60:\\t\", btwn50and60,\n",
    "      \"\\n60 <= Age < 70:\\t\", btwn60and70,\n",
    "      \"\\nAge >= 70:\\t\", over_equal70,\n",
    "      \"\\nnan:\\t\\t\", nan_count,\n",
    "      \"\\nUnknown:\\t\", unknown)"
   ]
  },
  {
   "cell_type": "code",
   "execution_count": 15,
   "metadata": {},
   "outputs": [
    {
     "data": {
      "text/plain": [
       "secondary education    13750\n",
       "bachelor's degree       4718\n",
       "SECONDARY EDUCATION      772\n",
       "Secondary Education      711\n",
       "some college             668\n",
       "BACHELOR'S DEGREE        274\n",
       "Bachelor's Degree        268\n",
       "primary education        250\n",
       "Some College              47\n",
       "SOME COLLEGE              29\n",
       "PRIMARY EDUCATION         17\n",
       "Primary Education         15\n",
       "graduate degree            4\n",
       "Graduate Degree            1\n",
       "GRADUATE DEGREE            1\n",
       "Name: education, dtype: int64"
      ]
     },
     "execution_count": 15,
     "metadata": {},
     "output_type": "execute_result"
    }
   ],
   "source": [
    "# investigate education column\n",
    "data['education'].value_counts()"
   ]
  },
  {
   "cell_type": "code",
   "execution_count": 16,
   "metadata": {},
   "outputs": [
    {
     "data": {
      "text/plain": [
       "1    15233\n",
       "0     5260\n",
       "2      744\n",
       "3      282\n",
       "4        6\n",
       "Name: education_id, dtype: int64"
      ]
     },
     "execution_count": 16,
     "metadata": {},
     "output_type": "execute_result"
    }
   ],
   "source": [
    "# investigate education_id column\n",
    "data['education_id'].value_counts()"
   ]
  },
  {
   "cell_type": "code",
   "execution_count": 17,
   "metadata": {},
   "outputs": [
    {
     "data": {
      "text/plain": [
       "F      14236\n",
       "M       7288\n",
       "XNA        1\n",
       "Name: gender, dtype: int64"
      ]
     },
     "execution_count": 17,
     "metadata": {},
     "output_type": "execute_result"
    }
   ],
   "source": [
    "# investigate gender column\n",
    "data['gender'].value_counts()"
   ]
  },
  {
   "cell_type": "code",
   "execution_count": 18,
   "metadata": {},
   "outputs": [
    {
     "data": {
      "text/plain": [
       "employee                       11119\n",
       "business                        5085\n",
       "retiree                         3856\n",
       "civil servant                   1459\n",
       "unemployed                         2\n",
       "entrepreneur                       2\n",
       "student                            1\n",
       "paternity / maternity leave        1\n",
       "Name: income_type, dtype: int64"
      ]
     },
     "execution_count": 18,
     "metadata": {},
     "output_type": "execute_result"
    }
   ],
   "source": [
    "# investigate income_type column\n",
    "data['income_type'].value_counts()"
   ]
  },
  {
   "cell_type": "code",
   "execution_count": 19,
   "metadata": {},
   "outputs": [
    {
     "data": {
      "text/plain": [
       "8"
      ]
     },
     "execution_count": 19,
     "metadata": {},
     "output_type": "execute_result"
    }
   ],
   "source": [
    "# how many unique entries in income_type column\n",
    "data['income_type'].nunique()"
   ]
  },
  {
   "cell_type": "code",
   "execution_count": 20,
   "metadata": {},
   "outputs": [
    {
     "data": {
      "text/plain": [
       "17312.717    2\n",
       "42413.096    2\n",
       "31791.384    2\n",
       "21005.772    1\n",
       "18591.443    1\n",
       "            ..\n",
       "27020.895    1\n",
       "23686.835    1\n",
       "9606.294     1\n",
       "28156.762    1\n",
       "13127.587    1\n",
       "Name: total_income, Length: 19348, dtype: int64"
      ]
     },
     "execution_count": 20,
     "metadata": {},
     "output_type": "execute_result"
    }
   ],
   "source": [
    "# investigate total_income\n",
    "data['total_income'].value_counts()"
   ]
  },
  {
   "cell_type": "code",
   "execution_count": 21,
   "metadata": {},
   "outputs": [
    {
     "data": {
      "text/plain": [
       "btwn10Kand20K        6443\n",
       "btwn20Kand30K        6063\n",
       "btwn30Kand40K        3107\n",
       "btwn50Kand60K        2140\n",
       "less_than_10K         926\n",
       "btwn60Kand70K         294\n",
       "btwn70Kand80K         156\n",
       "greater_than_100K      99\n",
       "btwn80Kand90K          83\n",
       "btwn90Kand100K         40\n",
       "Name: income_level, dtype: int64"
      ]
     },
     "execution_count": 21,
     "metadata": {},
     "output_type": "execute_result"
    }
   ],
   "source": [
    "# categorize income_level into 10K levels to see distribution\n",
    "\n",
    "# create a new function, income_level_fx\n",
    "def income_level_fx(row):\n",
    "    # the income_level is returned according to total_income\n",
    "    income = row['total_income']\n",
    "    \n",
    "    if income < 10000:\n",
    "        return 'less_than_10K' \n",
    "    elif income < 20000:\n",
    "        return 'btwn10Kand20K'\n",
    "    elif income < 30000:\n",
    "        return 'btwn20Kand30K'   \n",
    "    elif income < 40000:\n",
    "        return 'btwn30Kand40K'  \n",
    "    elif income < 50:\n",
    "        return 'btwn40Kand50K' \n",
    "    elif income < 60000:\n",
    "        return 'btwn50Kand60K'  \n",
    "    elif income < 70000:\n",
    "        return 'btwn60Kand70K' \n",
    "    elif income < 80000:\n",
    "        return 'btwn70Kand80K' \n",
    "    elif income < 90000:\n",
    "        return 'btwn80Kand90K' \n",
    "    elif income < 100000:\n",
    "        return 'btwn90Kand100K'\n",
    "    elif income >= 100000:\n",
    "        return 'greater_than_100K'  \n",
    "    \n",
    "# create a new column, income_level, based on total_income\n",
    "data['income_level'] = data.apply(income_level_fx, axis=1)\n",
    "\n",
    "# verfiy new column: income_level\n",
    "data['income_level'].value_counts()"
   ]
  },
  {
   "cell_type": "markdown",
   "metadata": {},
   "source": [
    "### Conclusion"
   ]
  },
  {
   "cell_type": "markdown",
   "metadata": {},
   "source": [
    "**The datafile credit_scoring_eng.csv contains**\n",
    "* 21525 rows\n",
    "* 12 columns\n",
    "* A mix of data types (float64(2), int64(5), object(5))\n",
    "* 2174 missing values in 2 columns (days_employed, total_income) \n",
    "* days_employed and total_income are missing over 10% of total values\n",
    "* 54 duplicate rows\n",
    "\n",
    "**Targeted areas - having kids, marital status, income level and loan purpose r/t repayment**\n",
    "* children \n",
    "    - int64\n",
    "    - contains 47 entries with -1 and 76 with 20\n",
    "    - maybe -1 was meant to be 1? keying error? correct or remove?\n",
    "    - maybe 20 was meant to be 2? keying error? correct or remove?\n",
    "    - ultimately can try different groups (none or some), (none, 1, or > 1), etc\n",
    "* family_status and family_status_id \n",
    "    - string(object) and int64\n",
    "    - no problems noted, appear to correlate well\n",
    "        - married              12380 \n",
    "        - civil partnership     4177\n",
    "        - unmarried             2813\n",
    "        - divorced              1195\n",
    "        - widow / widower        960\n",
    "        - 0    12380\n",
    "        - 1     4177\n",
    "        - 4     2813\n",
    "        - 3     1195\n",
    "        - 2      960\n",
    "* total_income\n",
    "    - float64\n",
    "    - will need to address missing values    \n",
    "* purpose\n",
    "    - string(object)\n",
    "    - 38 unique entries\n",
    "    - appears to be 4 main categories \n",
    "        - wedding\n",
    "        - property\n",
    "        - car\n",
    "        - education\n",
    "    - will need to work with stem and/or lemmas\n",
    "    \n",
    "**How to judge risk of default / likelihood of repayment of loan?**\n",
    "Discussion: There are 12 total columns. 5 of these are specifically involved in the task (children, family_status/family_status_id, total_income, and purpose). This leaves days_employed, dob_years, education,\n",
    "education_id, gender, income_type, and debt.\n",
    "\n",
    "Which of these are likely to correlate with risk of default? \n",
    "- days_employed might, because it could demonstrate stability, but the values in that column have too many problems to be useful. Therefore, that column will likely be ignored. \n",
    "- dob_years: could younger people (< 30 or 40) have a higher risk of default? maybe\n",
    "- education / education_id: could less education correlate with higher risk of default? maybe\n",
    "- gender: could gender correlate with risk of default? maybe\n",
    "- income_type: could source of income correlate with risk of default? maybe\n",
    "- debt: does \"whether the customer has ever defaulted on a loan\" correlate with risk of default? very likely\n",
    "\n",
    "**Of these choices, debt is the most likely to produce useful correlations with risk of default. **\n",
    "  \n",
    "* debt\n",
    "    - int64\n",
    "    - 2 values, no nan or unknowns\n",
    "    - assume 0 hasn't ever defaulted \n",
    "    - assume 1 for has defaulted in the past\n",
    "        - 0    19784\n",
    "        - 1     1741\n",
    "     \n",
    "**General observations of other columns**\n",
    "* days_employed (will investigate in missing info section)\n",
    "    - float64 (why?) \n",
    "    - will need to address missing values     \n",
    "* dob_years\n",
    "    - int64\n",
    "    - age range from 19 to 75, but 101 values of 0 for age\n",
    "    - will need to categorize, maybe by decade \n",
    "* education has a mixture of upper and lower case strings, numerous variations\n",
    "    - string(object)\n",
    "    - change all to lowercase to unify and compare to education_id\n",
    "    - could use it to help fill in missing income info\n",
    "* eduction_id column\n",
    "    - int64\n",
    "    - could be used instead of education if codes correlate?\n",
    "        - 0 = bachelor's degree\n",
    "        - 1 = secondary education\n",
    "        - 2 = some college\n",
    "        - 3 = primary education\n",
    "        - 4 = graduate degree\n",
    "    - maybe could reorganize because this order doesn't make sense?\n",
    "* gender\n",
    "    - string(object)\n",
    "    - could change it to number code\n",
    "* income_type\n",
    "    - string(object)\n",
    "    - 8 unique entries\n",
    "    - could change it to number code\n",
    "    - could combine it with other info to fill in missing incomes\n",
    "        - employee                       11119\n",
    "        - business                        5085\n",
    "        - retiree                         3856\n",
    "        - civil servant                   1459\n"
   ]
  },
  {
   "cell_type": "markdown",
   "metadata": {},
   "source": [
    "## Data preprocessing"
   ]
  },
  {
   "cell_type": "markdown",
   "metadata": {},
   "source": [
    "### Processing missing values"
   ]
  },
  {
   "cell_type": "markdown",
   "metadata": {},
   "source": [
    "1. Address days_employed\n",
    "2. Address total_income"
   ]
  },
  {
   "cell_type": "code",
   "execution_count": 22,
   "metadata": {},
   "outputs": [
    {
     "data": {
      "text/plain": [
       "-18388.949901     1\n",
       "-17615.563266     1\n",
       "-16593.472817     1\n",
       "-16264.699501     1\n",
       "-16119.687737     1\n",
       "                 ..\n",
       " 401663.850046    1\n",
       " 401674.466633    1\n",
       " 401675.093434    1\n",
       " 401715.811749    1\n",
       " 401755.400475    1\n",
       "Name: days_employed, Length: 19351, dtype: int64"
      ]
     },
     "execution_count": 22,
     "metadata": {},
     "output_type": "execute_result"
    }
   ],
   "source": [
    "# investigate days_employed column\n",
    "data['days_employed'].value_counts().sort_index()"
   ]
  },
  {
   "cell_type": "code",
   "execution_count": 23,
   "metadata": {},
   "outputs": [
    {
     "name": "stdout",
     "output_type": "stream",
     "text": [
      "Percentage of rows missing total_income: 10.10%\n"
     ]
    }
   ],
   "source": [
    "# there are missing values, but how many?\n",
    "# find percent of total rows where days_employed is missing a value\n",
    "missing_days = data['days_employed'].isnull().sum()\n",
    "pct_missing = missing_days/len(data)\n",
    "print('Percentage of rows missing total_income: {:.2%}'.format(pct_missing))"
   ]
  },
  {
   "cell_type": "code",
   "execution_count": 24,
   "metadata": {},
   "outputs": [],
   "source": [
    "# add column & calculate years worked using days_employed\n",
    "data['years_employed'] = data['days_employed'] / 365"
   ]
  },
  {
   "cell_type": "code",
   "execution_count": 25,
   "metadata": {},
   "outputs": [
    {
     "data": {
      "text/plain": [
       "-50.380685      1\n",
       "-48.261817      1\n",
       "-45.461569      1\n",
       "-44.560821      1\n",
       "-44.163528      1\n",
       "               ..\n",
       " 1100.448904    1\n",
       " 1100.477991    1\n",
       " 1100.479708    1\n",
       " 1100.591265    1\n",
       " 1100.699727    1\n",
       "Name: years_employed, Length: 19351, dtype: int64"
      ]
     },
     "execution_count": 25,
     "metadata": {},
     "output_type": "execute_result"
    }
   ],
   "source": [
    "# investigate range of years_employed column\n",
    "data['years_employed'].value_counts().sort_index()"
   ]
  },
  {
   "cell_type": "markdown",
   "metadata": {},
   "source": [
    "There are some unrealistic values (working for negative 50 years and over 1100 years)."
   ]
  },
  {
   "cell_type": "code",
   "execution_count": 26,
   "metadata": {},
   "outputs": [
    {
     "name": "stdout",
     "output_type": "stream",
     "text": [
      "Positive days employed:\t 3445 \n",
      "Negative days employed:\t 15906 \n",
      "nan in days employed:\t 2174 \n",
      "Unknown in days employed: 0\n"
     ]
    }
   ],
   "source": [
    "# find counts of positive and negative values for days employed\n",
    "pos_count = 0\n",
    "neg_count = 0\n",
    "nan_count = 0\n",
    "unknown = 0\n",
    "for x in data['days_employed']:\n",
    "    if x >= 0:\n",
    "        pos_count +=1\n",
    "    elif x < 0:\n",
    "        neg_count +=1\n",
    "    elif str(x) == 'nan':\n",
    "        nan_count +=1\n",
    "    else:\n",
    "        # to check there are no other values\n",
    "        unknown +=1\n",
    "print(\"Positive days employed:\\t\", pos_count, \n",
    "      \"\\nNegative days employed:\\t\", neg_count,\n",
    "      \"\\nnan in days employed:\\t\", nan_count,\n",
    "      \"\\nUnknown in days employed:\", unknown)"
   ]
  },
  {
   "cell_type": "markdown",
   "metadata": {},
   "source": [
    "Analysis of days_employed reveals:\n",
    "- float64 (why?) and has many negative values (why?)\n",
    "- is missing 2174 values\n",
    "- has a range from -18388.949901 to 401755.400475 days employed\n",
    "- has a range from -50 years to over 1100 years employed\n",
    "- positive days employed: 3445 \n",
    "- negative days employed: 15906 \n",
    "\n",
    "Possible reasons for problem entries:\n",
    "1. Human error when entering data (adding - by accident).\n",
    "2. Error in units (perhaps the person entering the data got confused between hours worked and days worked?). Confusing hours for days may explain the very high numbers.\n",
    "3. There may have been errors when merging different data sets.\n",
    "\n",
    "Plan to fill missing values:\n",
    "1. Since negative values are likely due to human error when entering data, use absolute value on days_employed.\n",
    "2. Evaluate min/max values to determine range again, verify no more negative values.\n",
    "3. Refresh years_employed and verify no more negative values.\n",
    "4. Compare mean and median to gain an overall sense of data.\n",
    "5. If people mistakenly entered hours worked instead of days, we can assume the maximum work period could be 70 years (70 yrs * 365 days/yrs) = 25550 days.\n",
    "6. More realistically, we could assume the maximum work period could be 50 years (50 yrs * 365 days/yrs) = 18250.\n",
    "7. With values greater than work period (either 25550 days or 18250 days), divide by 24 to get a days worked: data_50_yrs and data_70_years.\n",
    "8. Compare statistics data_50_yrs and data_70_years.\n",
    "9. Replace values in data df with appropriate cutoff value (#/24).\n",
    "10. Compare mean and median of days_employed column.\n",
    "11. Fill missing values with appropriate value (mean or median)."
   ]
  },
  {
   "cell_type": "code",
   "execution_count": 27,
   "metadata": {},
   "outputs": [
    {
     "name": "stdout",
     "output_type": "stream",
     "text": [
      "After applying abs(), verify the total number of negative values in days_employed = 0.\n"
     ]
    },
    {
     "data": {
      "text/plain": [
       "0"
      ]
     },
     "execution_count": 27,
     "metadata": {},
     "output_type": "execute_result"
    }
   ],
   "source": [
    "# apply abs() to change negative values to positive\n",
    "data['days_employed'] = data['days_employed'].abs()\n",
    "# verify no more negative values after abs()\n",
    "negative_count = data.loc[data['days_employed']  < 0, 'days_employed'].count()\n",
    "print('After applying abs(), verify the total number of negative values in days_employed = 0.')\n",
    "negative_count"
   ]
  },
  {
   "cell_type": "code",
   "execution_count": 28,
   "metadata": {},
   "outputs": [
    {
     "name": "stdout",
     "output_type": "stream",
     "text": [
      "After applying abs(), verify the total number of positive values in days_employed = 19351\n"
     ]
    },
    {
     "data": {
      "text/plain": [
       "19351"
      ]
     },
     "execution_count": 28,
     "metadata": {},
     "output_type": "execute_result"
    }
   ],
   "source": [
    "positive_count = data.loc[data['days_employed']  > 0, 'days_employed'].count()\n",
    "print('After applying abs(), verify the total number of positive values in days_employed = 19351')\n",
    "positive_count"
   ]
  },
  {
   "cell_type": "code",
   "execution_count": 29,
   "metadata": {},
   "outputs": [
    {
     "name": "stdout",
     "output_type": "stream",
     "text": [
      "After applying abs(), verify the total number of negative values in years_employed = 0.\n"
     ]
    },
    {
     "data": {
      "text/plain": [
       "0"
      ]
     },
     "execution_count": 29,
     "metadata": {},
     "output_type": "execute_result"
    }
   ],
   "source": [
    "# add column & calculate years worked using days_employed\n",
    "data['years_employed'] = data['days_employed'] / 365\n",
    "\n",
    "days_neg = data.loc[data['years_employed']  < 0, 'years_employed'].count()\n",
    "print('After applying abs(), verify the total number of negative values in years_employed = 0.')\n",
    "days_neg"
   ]
  },
  {
   "cell_type": "code",
   "execution_count": 30,
   "metadata": {},
   "outputs": [
    {
     "name": "stdout",
     "output_type": "stream",
     "text": [
      "Statistical info for days_employed\n"
     ]
    },
    {
     "data": {
      "text/plain": [
       "count     19351.000000\n",
       "mean      66914.728907\n",
       "std      139030.880527\n",
       "min          24.141633\n",
       "25%         927.009265\n",
       "50%        2194.220567\n",
       "75%        5537.882441\n",
       "max      401755.400475\n",
       "Name: days_employed, dtype: float64"
      ]
     },
     "execution_count": 30,
     "metadata": {},
     "output_type": "execute_result"
    }
   ],
   "source": [
    "# find info on mean, min, max for days_employed\n",
    "print('Statistical info for days_employed')\n",
    "data['days_employed'].describe()"
   ]
  },
  {
   "cell_type": "code",
   "execution_count": 31,
   "metadata": {},
   "outputs": [
    {
     "name": "stdout",
     "output_type": "stream",
     "text": [
      "Statistical info for years_employed\n"
     ]
    },
    {
     "data": {
      "text/plain": [
       "count    19351.000000\n",
       "mean       183.328024\n",
       "std        380.906522\n",
       "min          0.066141\n",
       "25%          2.539751\n",
       "50%          6.011563\n",
       "75%         15.172281\n",
       "max       1100.699727\n",
       "Name: years_employed, dtype: float64"
      ]
     },
     "execution_count": 31,
     "metadata": {},
     "output_type": "execute_result"
    }
   ],
   "source": [
    "# find info on mean, min, max for years_employed\n",
    "print('Statistical info for years_employed')\n",
    "data['years_employed'].describe()"
   ]
  },
  {
   "cell_type": "code",
   "execution_count": 32,
   "metadata": {},
   "outputs": [
    {
     "data": {
      "text/plain": [
       "6.0115631969279315"
      ]
     },
     "execution_count": 32,
     "metadata": {},
     "output_type": "execute_result"
    }
   ],
   "source": [
    "# find the median of years_employed\n",
    "data['years_employed'].median()"
   ]
  },
  {
   "cell_type": "markdown",
   "metadata": {},
   "source": [
    "This data is skewed with some very high values. The median for years is just over 6, while the mean is over 183 years worked. This suggests there are many very high values distorting the data."
   ]
  },
  {
   "cell_type": "code",
   "execution_count": 33,
   "metadata": {},
   "outputs": [
    {
     "name": "stdout",
     "output_type": "stream",
     "text": [
      "Statistical info for days_employed\n",
      "where values > 18250 (50 years) and divided by 24\n"
     ]
    },
    {
     "data": {
      "text/plain": [
       "count    19351.000000\n",
       "mean      4640.730487\n",
       "std       5355.124832\n",
       "min         24.141633\n",
       "25%        926.925347\n",
       "50%       2194.216968\n",
       "75%       5535.883055\n",
       "max      17615.563266\n",
       "Name: days_employed, dtype: float64"
      ]
     },
     "execution_count": 33,
     "metadata": {},
     "output_type": "execute_result"
    }
   ],
   "source": [
    "# make a copy of data, name it data_50_yrs\n",
    "data_50_yrs = data.copy()\n",
    "# change all the values greater than 18250 days (50 years) by dividing by 24 and saving results\n",
    "data_50_yrs.loc[data_50_yrs['days_employed'] > 18250, 'days_employed'] = data_50_yrs['days_employed']/24\n",
    "# find info on mean, min, max for days employed where values changed\n",
    "print('Statistical info for days_employed')\n",
    "print('where values > 18250 (50 years) and divided by 24')\n",
    "data_50_yrs['days_employed'].describe()"
   ]
  },
  {
   "cell_type": "code",
   "execution_count": 34,
   "metadata": {},
   "outputs": [
    {
     "name": "stdout",
     "output_type": "stream",
     "text": [
      "Statistical info for days_employed\n",
      "where values > 25550 (70 years) and divided by 24\n"
     ]
    },
    {
     "data": {
      "text/plain": [
       "count    19351.000000\n",
       "mean      4641.641176\n",
       "std       5355.964289\n",
       "min         24.141633\n",
       "25%        927.009265\n",
       "50%       2194.220567\n",
       "75%       5537.882441\n",
       "max      18388.949901\n",
       "Name: days_employed, dtype: float64"
      ]
     },
     "execution_count": 34,
     "metadata": {},
     "output_type": "execute_result"
    }
   ],
   "source": [
    "# make a copy of data, name it data_70_yrs\n",
    "data_70_yrs = data.copy()\n",
    "# change all the values greater than 25550 days (70 years) by dividing by 24 and saving results\n",
    "data_70_yrs.loc[data_70_yrs['days_employed'] > 25550, 'days_employed'] = data_70_yrs['days_employed']/24\n",
    "# find info on mean, min, max for days employed where values changed\n",
    "print('Statistical info for days_employed')\n",
    "print('where values > 25550 (70 years) and divided by 24')\n",
    "data_70_yrs['days_employed'].describe()"
   ]
  },
  {
   "cell_type": "markdown",
   "metadata": {},
   "source": [
    "The means and medians for the two options are very close:\n",
    "\n",
    "- 50 yrs  70 yrs\n",
    "- 4640 vs 4641\n",
    "- 2194 vs 2194\n",
    "\n",
    "The max values are a bit different\n",
    "17615 (48 years) vs 18388 (50 years).\n",
    "\n",
    "The 70 year cutoff will be used in the data df just in case that entry with a 50 year work history is accurate. There are 3800+ retirees in the sample after all."
   ]
  },
  {
   "cell_type": "code",
   "execution_count": 35,
   "metadata": {},
   "outputs": [
    {
     "name": "stdout",
     "output_type": "stream",
     "text": [
      "Statistical info for days_employed\n"
     ]
    },
    {
     "data": {
      "text/plain": [
       "count    19351.000000\n",
       "mean      4641.641176\n",
       "std       5355.964289\n",
       "min         24.141633\n",
       "25%        927.009265\n",
       "50%       2194.220567\n",
       "75%       5537.882441\n",
       "max      18388.949901\n",
       "Name: days_employed, dtype: float64"
      ]
     },
     "execution_count": 35,
     "metadata": {},
     "output_type": "execute_result"
    }
   ],
   "source": [
    "# change all the values greater than 25550 days (70 years) by dividing by 24 and saving results\n",
    "data.loc[data['days_employed'] > 25550, 'days_employed'] = data['days_employed']/24\n",
    "\n",
    "# find info on mean, min, max for days_employed\n",
    "print('Statistical info for days_employed')\n",
    "data['days_employed'].describe()"
   ]
  },
  {
   "cell_type": "code",
   "execution_count": 36,
   "metadata": {},
   "outputs": [
    {
     "name": "stdout",
     "output_type": "stream",
     "text": [
      "children                              0\n",
      "days_employed                       NaN\n",
      "dob_years                            65\n",
      "education           secondary education\n",
      "education_id                          1\n",
      "family_status         civil partnership\n",
      "family_status_id                      1\n",
      "gender                                M\n",
      "income_type                     retiree\n",
      "debt                                  0\n",
      "total_income                        NaN\n",
      "purpose               to have a wedding\n",
      "income_level                       None\n",
      "years_employed                      NaN\n",
      "Name: 12, dtype: object\n",
      "children                              0\n",
      "days_employed                       NaN\n",
      "dob_years                            41\n",
      "education           secondary education\n",
      "education_id                          1\n",
      "family_status                   married\n",
      "family_status_id                      0\n",
      "gender                                M\n",
      "income_type               civil servant\n",
      "debt                                  0\n",
      "total_income                        NaN\n",
      "purpose                       education\n",
      "income_level                       None\n",
      "years_employed                      NaN\n",
      "Name: 26, dtype: object\n",
      "children                                 0\n",
      "days_employed                          NaN\n",
      "dob_years                               63\n",
      "education              secondary education\n",
      "education_id                             1\n",
      "family_status                    unmarried\n",
      "family_status_id                         4\n",
      "gender                                   F\n",
      "income_type                        retiree\n",
      "debt                                     0\n",
      "total_income                           NaN\n",
      "purpose             building a real estate\n",
      "income_level                          None\n",
      "years_employed                         NaN\n",
      "Name: 29, dtype: object\n",
      "children                                   0\n",
      "days_employed                            NaN\n",
      "dob_years                                 50\n",
      "education                secondary education\n",
      "education_id                               1\n",
      "family_status                        married\n",
      "family_status_id                           0\n",
      "gender                                     F\n",
      "income_type                    civil servant\n",
      "debt                                       0\n",
      "total_income                             NaN\n",
      "purpose             second-hand car purchase\n",
      "income_level                            None\n",
      "years_employed                           NaN\n",
      "Name: 41, dtype: object\n",
      "children                              0\n",
      "days_employed                       NaN\n",
      "dob_years                            54\n",
      "education           secondary education\n",
      "education_id                          1\n",
      "family_status         civil partnership\n",
      "family_status_id                      1\n",
      "gender                                F\n",
      "income_type                     retiree\n",
      "debt                                  1\n",
      "total_income                        NaN\n",
      "purpose               to have a wedding\n",
      "income_level                       None\n",
      "years_employed                      NaN\n",
      "Name: 55, dtype: object\n",
      "children                                                   0\n",
      "days_employed                                            NaN\n",
      "dob_years                                                 21\n",
      "education                                secondary education\n",
      "education_id                                               1\n",
      "family_status                                      unmarried\n",
      "family_status_id                                           4\n",
      "gender                                                     M\n",
      "income_type                                         business\n",
      "debt                                                       0\n",
      "total_income                                             NaN\n",
      "purpose             transactions with commercial real estate\n",
      "income_level                                            None\n",
      "years_employed                                           NaN\n",
      "Name: 65, dtype: object\n",
      "children                                              0\n",
      "days_employed                                       NaN\n",
      "dob_years                                            52\n",
      "education                             bachelor's degree\n",
      "education_id                                          0\n",
      "family_status                                   married\n",
      "family_status_id                                      0\n",
      "gender                                                F\n",
      "income_type                                     retiree\n",
      "debt                                                  0\n",
      "total_income                                        NaN\n",
      "purpose             purchase of the house for my family\n",
      "income_level                                       None\n",
      "years_employed                                      NaN\n",
      "Name: 67, dtype: object\n",
      "children                                                   1\n",
      "days_employed                                            NaN\n",
      "dob_years                                                 32\n",
      "education                                  bachelor's degree\n",
      "education_id                                               0\n",
      "family_status                                        married\n",
      "family_status_id                                           0\n",
      "gender                                                     M\n",
      "income_type                                    civil servant\n",
      "debt                                                       0\n",
      "total_income                                             NaN\n",
      "purpose             transactions with commercial real estate\n",
      "income_level                                            None\n",
      "years_employed                                           NaN\n",
      "Name: 72, dtype: object\n",
      "children                            2\n",
      "days_employed                     NaN\n",
      "dob_years                          50\n",
      "education           bachelor's degree\n",
      "education_id                        0\n",
      "family_status                 married\n",
      "family_status_id                    0\n",
      "gender                              F\n",
      "income_type                  employee\n",
      "debt                                0\n",
      "total_income                      NaN\n",
      "purpose                       housing\n",
      "income_level                     None\n",
      "years_employed                    NaN\n",
      "Name: 82, dtype: object\n",
      "children                              0\n",
      "days_employed                       NaN\n",
      "dob_years                            52\n",
      "education           secondary education\n",
      "education_id                          1\n",
      "family_status                   married\n",
      "family_status_id                      0\n",
      "gender                                M\n",
      "income_type                    employee\n",
      "debt                                  0\n",
      "total_income                        NaN\n",
      "purpose                         housing\n",
      "income_level                       None\n",
      "years_employed                      NaN\n",
      "Name: 83, dtype: object\n",
      "children                               2\n",
      "days_employed                        NaN\n",
      "dob_years                             35\n",
      "education              bachelor's degree\n",
      "education_id                           0\n",
      "family_status                    married\n",
      "family_status_id                       0\n",
      "gender                                 F\n",
      "income_type                     employee\n",
      "debt                                   0\n",
      "total_income                         NaN\n",
      "purpose             housing transactions\n",
      "income_level                        None\n",
      "years_employed                       NaN\n",
      "Name: 90, dtype: object\n",
      "children                            1\n",
      "days_employed                     NaN\n",
      "dob_years                          34\n",
      "education           bachelor's degree\n",
      "education_id                        0\n",
      "family_status       civil partnership\n",
      "family_status_id                    1\n",
      "gender                              F\n",
      "income_type                  business\n",
      "debt                                0\n",
      "total_income                      NaN\n",
      "purpose              having a wedding\n",
      "income_level                     None\n",
      "years_employed                    NaN\n",
      "Name: 94, dtype: object\n",
      "children                                      0\n",
      "days_employed                               NaN\n",
      "dob_years                                    44\n",
      "education                   SECONDARY EDUCATION\n",
      "education_id                                  1\n",
      "family_status                           married\n",
      "family_status_id                              0\n",
      "gender                                        F\n",
      "income_type                            employee\n",
      "debt                                          0\n",
      "total_income                                NaN\n",
      "purpose             buy residential real estate\n",
      "income_level                               None\n",
      "years_employed                              NaN\n",
      "Name: 96, dtype: object\n",
      "children                            0\n",
      "days_employed                     NaN\n",
      "dob_years                          47\n",
      "education           bachelor's degree\n",
      "education_id                        0\n",
      "family_status                 married\n",
      "family_status_id                    0\n",
      "gender                              F\n",
      "income_type                  employee\n",
      "debt                                0\n",
      "total_income                      NaN\n",
      "purpose             profile education\n",
      "income_level                     None\n",
      "years_employed                    NaN\n",
      "Name: 97, dtype: object\n",
      "children                               0\n",
      "days_employed                        NaN\n",
      "dob_years                             46\n",
      "education            secondary education\n",
      "education_id                           1\n",
      "family_status                    married\n",
      "family_status_id                       0\n",
      "gender                                 F\n",
      "income_type                     employee\n",
      "debt                                   0\n",
      "total_income                         NaN\n",
      "purpose             university education\n",
      "income_level                        None\n",
      "years_employed                       NaN\n",
      "Name: 120, dtype: object\n",
      "children                            0\n",
      "days_employed                     NaN\n",
      "dob_years                          29\n",
      "education           bachelor's degree\n",
      "education_id                        0\n",
      "family_status                 married\n",
      "family_status_id                    0\n",
      "gender                              F\n",
      "income_type                  business\n",
      "debt                                0\n",
      "total_income                      NaN\n",
      "purpose                           car\n",
      "income_level                     None\n",
      "years_employed                    NaN\n",
      "Name: 121, dtype: object\n",
      "children                              0\n",
      "days_employed                       NaN\n",
      "dob_years                            27\n",
      "education           secondary education\n",
      "education_id                          1\n",
      "family_status                   married\n",
      "family_status_id                      0\n",
      "gender                                M\n",
      "income_type                    business\n",
      "debt                                  0\n",
      "total_income                        NaN\n",
      "purpose                         housing\n",
      "income_level                       None\n",
      "years_employed                      NaN\n"
     ]
    },
    {
     "name": "stdout",
     "output_type": "stream",
     "text": [
      "Name: 135, dtype: object\n",
      "children                              0\n",
      "days_employed                       NaN\n",
      "dob_years                            39\n",
      "education           secondary education\n",
      "education_id                          1\n",
      "family_status         civil partnership\n",
      "family_status_id                      1\n",
      "gender                                M\n",
      "income_type                    employee\n",
      "debt                                  0\n",
      "total_income                        NaN\n",
      "purpose                wedding ceremony\n",
      "income_level                       None\n",
      "years_employed                      NaN\n",
      "Name: 141, dtype: object\n",
      "children                              0\n",
      "days_employed                       NaN\n",
      "dob_years                            62\n",
      "education           secondary education\n",
      "education_id                          1\n",
      "family_status                   married\n",
      "family_status_id                      0\n",
      "gender                                M\n",
      "income_type                     retiree\n",
      "debt                                  0\n",
      "total_income                        NaN\n",
      "purpose             building a property\n",
      "income_level                       None\n",
      "years_employed                      NaN\n",
      "Name: 145, dtype: object\n",
      "Positive income: 19351 \n",
      "Negative income: 0 \n",
      "nan:\t\t 2174 \n",
      "Unknown:\t 0\n"
     ]
    }
   ],
   "source": [
    "# look for nan, negative, and other values in days_employed\n",
    "# print first 20 rows of duplicates to look for patterns\n",
    "pos_count = 0\n",
    "neg_count = 0\n",
    "nan_count = 0\n",
    "unknown = 0\n",
    "counter= -1\n",
    "for x in data['days_employed']:\n",
    "    counter +=1\n",
    "    if x >= 0:\n",
    "        pos_count +=1\n",
    "    elif x < 0:\n",
    "        neg_count +=1\n",
    "    elif str(x) == 'nan':\n",
    "        nan_count +=1\n",
    "        if nan_count < 20:\n",
    "            print(data.iloc[counter])\n",
    "    else:\n",
    "        # to check there are no other values\n",
    "        unknown +=1\n",
    "print(\"Positive income:\", pos_count, \n",
    "      \"\\nNegative income:\", neg_count,\n",
    "      \"\\nnan:\\t\\t\", nan_count,\n",
    "      \"\\nUnknown:\\t\", unknown)"
   ]
  },
  {
   "cell_type": "code",
   "execution_count": 37,
   "metadata": {},
   "outputs": [
    {
     "name": "stdout",
     "output_type": "stream",
     "text": [
      "The median of days_employed\n"
     ]
    },
    {
     "data": {
      "text/plain": [
       "2194.220566878695"
      ]
     },
     "execution_count": 37,
     "metadata": {},
     "output_type": "execute_result"
    }
   ],
   "source": [
    "# find median of days_employed\n",
    "median_days = data['days_employed'].median()\n",
    "print('The median of days_employed')\n",
    "median_days"
   ]
  },
  {
   "cell_type": "code",
   "execution_count": 38,
   "metadata": {},
   "outputs": [],
   "source": [
    "# fill in missing values with median income\n",
    "data['days_employed'].fillna(value=median_days, inplace = True)"
   ]
  },
  {
   "cell_type": "code",
   "execution_count": 39,
   "metadata": {},
   "outputs": [
    {
     "name": "stdout",
     "output_type": "stream",
     "text": [
      "Statistical info for days_employed\n"
     ]
    },
    {
     "data": {
      "text/plain": [
       "count    21525.000000\n",
       "mean      4394.454537\n",
       "std       5131.551830\n",
       "min         24.141633\n",
       "25%       1025.608174\n",
       "50%       2194.220567\n",
       "75%       4779.587738\n",
       "max      18388.949901\n",
       "Name: days_employed, dtype: float64"
      ]
     },
     "execution_count": 39,
     "metadata": {},
     "output_type": "execute_result"
    }
   ],
   "source": [
    "# check for any missing values\n",
    "# find info on mean, min, max for days_employed\n",
    "print('Statistical info for days_employed')\n",
    "data['days_employed'].describe()"
   ]
  },
  {
   "cell_type": "markdown",
   "metadata": {},
   "source": [
    "There are no more missing values and the median remains the same, 2194. The mean actually went down, which makes sense because over 2000 missing values were replaced with 2194, bringing the overall mean downward."
   ]
  },
  {
   "cell_type": "code",
   "execution_count": 40,
   "metadata": {},
   "outputs": [
    {
     "name": "stdout",
     "output_type": "stream",
     "text": [
      "Percentage of rows missing total_income: 10.10%\n"
     ]
    }
   ],
   "source": [
    "# find percent of total rows where total_income is missing\n",
    "missing_income = data['total_income'].isnull().sum()\n",
    "pct_missing = missing_income/len(data)\n",
    "print('Percentage of rows missing total_income: {:.2%}'.format(pct_missing))"
   ]
  },
  {
   "cell_type": "code",
   "execution_count": 41,
   "metadata": {},
   "outputs": [
    {
     "name": "stdout",
     "output_type": "stream",
     "text": [
      "children                              0\n",
      "days_employed               2194.220567\n",
      "dob_years                            65\n",
      "education           secondary education\n",
      "education_id                          1\n",
      "family_status         civil partnership\n",
      "family_status_id                      1\n",
      "gender                                M\n",
      "income_type                     retiree\n",
      "debt                                  0\n",
      "total_income                        NaN\n",
      "purpose               to have a wedding\n",
      "income_level                       None\n",
      "years_employed                      NaN\n",
      "Name: 12, dtype: object\n",
      "children                              0\n",
      "days_employed               2194.220567\n",
      "dob_years                            41\n",
      "education           secondary education\n",
      "education_id                          1\n",
      "family_status                   married\n",
      "family_status_id                      0\n",
      "gender                                M\n",
      "income_type               civil servant\n",
      "debt                                  0\n",
      "total_income                        NaN\n",
      "purpose                       education\n",
      "income_level                       None\n",
      "years_employed                      NaN\n",
      "Name: 26, dtype: object\n",
      "children                                 0\n",
      "days_employed                  2194.220567\n",
      "dob_years                               63\n",
      "education              secondary education\n",
      "education_id                             1\n",
      "family_status                    unmarried\n",
      "family_status_id                         4\n",
      "gender                                   F\n",
      "income_type                        retiree\n",
      "debt                                     0\n",
      "total_income                           NaN\n",
      "purpose             building a real estate\n",
      "income_level                          None\n",
      "years_employed                         NaN\n",
      "Name: 29, dtype: object\n",
      "children                                   0\n",
      "days_employed                    2194.220567\n",
      "dob_years                                 50\n",
      "education                secondary education\n",
      "education_id                               1\n",
      "family_status                        married\n",
      "family_status_id                           0\n",
      "gender                                     F\n",
      "income_type                    civil servant\n",
      "debt                                       0\n",
      "total_income                             NaN\n",
      "purpose             second-hand car purchase\n",
      "income_level                            None\n",
      "years_employed                           NaN\n",
      "Name: 41, dtype: object\n",
      "children                              0\n",
      "days_employed               2194.220567\n",
      "dob_years                            54\n",
      "education           secondary education\n",
      "education_id                          1\n",
      "family_status         civil partnership\n",
      "family_status_id                      1\n",
      "gender                                F\n",
      "income_type                     retiree\n",
      "debt                                  1\n",
      "total_income                        NaN\n",
      "purpose               to have a wedding\n",
      "income_level                       None\n",
      "years_employed                      NaN\n",
      "Name: 55, dtype: object\n",
      "children                                                   0\n",
      "days_employed                                    2194.220567\n",
      "dob_years                                                 21\n",
      "education                                secondary education\n",
      "education_id                                               1\n",
      "family_status                                      unmarried\n",
      "family_status_id                                           4\n",
      "gender                                                     M\n",
      "income_type                                         business\n",
      "debt                                                       0\n",
      "total_income                                             NaN\n",
      "purpose             transactions with commercial real estate\n",
      "income_level                                            None\n",
      "years_employed                                           NaN\n",
      "Name: 65, dtype: object\n",
      "children                                              0\n",
      "days_employed                               2194.220567\n",
      "dob_years                                            52\n",
      "education                             bachelor's degree\n",
      "education_id                                          0\n",
      "family_status                                   married\n",
      "family_status_id                                      0\n",
      "gender                                                F\n",
      "income_type                                     retiree\n",
      "debt                                                  0\n",
      "total_income                                        NaN\n",
      "purpose             purchase of the house for my family\n",
      "income_level                                       None\n",
      "years_employed                                      NaN\n",
      "Name: 67, dtype: object\n",
      "children                                                   1\n",
      "days_employed                                    2194.220567\n",
      "dob_years                                                 32\n",
      "education                                  bachelor's degree\n",
      "education_id                                               0\n",
      "family_status                                        married\n",
      "family_status_id                                           0\n",
      "gender                                                     M\n",
      "income_type                                    civil servant\n",
      "debt                                                       0\n",
      "total_income                                             NaN\n",
      "purpose             transactions with commercial real estate\n",
      "income_level                                            None\n",
      "years_employed                                           NaN\n",
      "Name: 72, dtype: object\n",
      "children                            2\n",
      "days_employed             2194.220567\n",
      "dob_years                          50\n",
      "education           bachelor's degree\n",
      "education_id                        0\n",
      "family_status                 married\n",
      "family_status_id                    0\n",
      "gender                              F\n",
      "income_type                  employee\n",
      "debt                                0\n",
      "total_income                      NaN\n",
      "purpose                       housing\n",
      "income_level                     None\n",
      "years_employed                    NaN\n",
      "Name: 82, dtype: object\n",
      "children                              0\n",
      "days_employed               2194.220567\n",
      "dob_years                            52\n",
      "education           secondary education\n",
      "education_id                          1\n",
      "family_status                   married\n",
      "family_status_id                      0\n",
      "gender                                M\n",
      "income_type                    employee\n",
      "debt                                  0\n",
      "total_income                        NaN\n",
      "purpose                         housing\n",
      "income_level                       None\n",
      "years_employed                      NaN\n",
      "Name: 83, dtype: object\n",
      "children                               2\n",
      "days_employed                2194.220567\n",
      "dob_years                             35\n",
      "education              bachelor's degree\n",
      "education_id                           0\n",
      "family_status                    married\n",
      "family_status_id                       0\n",
      "gender                                 F\n",
      "income_type                     employee\n",
      "debt                                   0\n",
      "total_income                         NaN\n",
      "purpose             housing transactions\n",
      "income_level                        None\n",
      "years_employed                       NaN\n",
      "Name: 90, dtype: object\n",
      "children                            1\n",
      "days_employed             2194.220567\n",
      "dob_years                          34\n",
      "education           bachelor's degree\n",
      "education_id                        0\n",
      "family_status       civil partnership\n",
      "family_status_id                    1\n",
      "gender                              F\n",
      "income_type                  business\n",
      "debt                                0\n",
      "total_income                      NaN\n",
      "purpose              having a wedding\n",
      "income_level                     None\n",
      "years_employed                    NaN\n",
      "Name: 94, dtype: object\n",
      "children                                      0\n",
      "days_employed                       2194.220567\n",
      "dob_years                                    44\n",
      "education                   SECONDARY EDUCATION\n",
      "education_id                                  1\n",
      "family_status                           married\n",
      "family_status_id                              0\n",
      "gender                                        F\n",
      "income_type                            employee\n",
      "debt                                          0\n",
      "total_income                                NaN\n",
      "purpose             buy residential real estate\n",
      "income_level                               None\n",
      "years_employed                              NaN\n",
      "Name: 96, dtype: object\n",
      "children                            0\n",
      "days_employed             2194.220567\n",
      "dob_years                          47\n",
      "education           bachelor's degree\n",
      "education_id                        0\n",
      "family_status                 married\n",
      "family_status_id                    0\n",
      "gender                              F\n",
      "income_type                  employee\n",
      "debt                                0\n",
      "total_income                      NaN\n",
      "purpose             profile education\n",
      "income_level                     None\n",
      "years_employed                    NaN\n",
      "Name: 97, dtype: object\n",
      "children                               0\n",
      "days_employed                2194.220567\n",
      "dob_years                             46\n",
      "education            secondary education\n",
      "education_id                           1\n",
      "family_status                    married\n",
      "family_status_id                       0\n",
      "gender                                 F\n",
      "income_type                     employee\n",
      "debt                                   0\n",
      "total_income                         NaN\n",
      "purpose             university education\n",
      "income_level                        None\n",
      "years_employed                       NaN\n",
      "Name: 120, dtype: object\n",
      "children                            0\n",
      "days_employed             2194.220567\n",
      "dob_years                          29\n",
      "education           bachelor's degree\n",
      "education_id                        0\n",
      "family_status                 married\n",
      "family_status_id                    0\n",
      "gender                              F\n",
      "income_type                  business\n",
      "debt                                0\n",
      "total_income                      NaN\n",
      "purpose                           car\n",
      "income_level                     None\n",
      "years_employed                    NaN\n"
     ]
    },
    {
     "name": "stdout",
     "output_type": "stream",
     "text": [
      "Name: 121, dtype: object\n",
      "children                              0\n",
      "days_employed               2194.220567\n",
      "dob_years                            27\n",
      "education           secondary education\n",
      "education_id                          1\n",
      "family_status                   married\n",
      "family_status_id                      0\n",
      "gender                                M\n",
      "income_type                    business\n",
      "debt                                  0\n",
      "total_income                        NaN\n",
      "purpose                         housing\n",
      "income_level                       None\n",
      "years_employed                      NaN\n",
      "Name: 135, dtype: object\n",
      "children                              0\n",
      "days_employed               2194.220567\n",
      "dob_years                            39\n",
      "education           secondary education\n",
      "education_id                          1\n",
      "family_status         civil partnership\n",
      "family_status_id                      1\n",
      "gender                                M\n",
      "income_type                    employee\n",
      "debt                                  0\n",
      "total_income                        NaN\n",
      "purpose                wedding ceremony\n",
      "income_level                       None\n",
      "years_employed                      NaN\n",
      "Name: 141, dtype: object\n",
      "children                              0\n",
      "days_employed               2194.220567\n",
      "dob_years                            62\n",
      "education           secondary education\n",
      "education_id                          1\n",
      "family_status                   married\n",
      "family_status_id                      0\n",
      "gender                                M\n",
      "income_type                     retiree\n",
      "debt                                  0\n",
      "total_income                        NaN\n",
      "purpose             building a property\n",
      "income_level                       None\n",
      "years_employed                      NaN\n",
      "Name: 145, dtype: object\n",
      "Positive income: 19351 \n",
      "Negative income: 0 \n",
      "nan:\t\t 2174 \n",
      "Unknown:\t 0\n"
     ]
    }
   ],
   "source": [
    "# look for nan, negative, and other values in total_income\n",
    "# print first 20 rows of duplicates to look for patterns\n",
    "pos_count = 0\n",
    "neg_count = 0\n",
    "nan_count = 0\n",
    "unknown = 0\n",
    "counter= -1\n",
    "for x in data['total_income']:\n",
    "    counter +=1\n",
    "    if x >= 0:\n",
    "        pos_count +=1\n",
    "    elif x < 0:\n",
    "        neg_count +=1\n",
    "    elif str(x) == 'nan':\n",
    "        nan_count +=1\n",
    "        if nan_count < 20:\n",
    "            print(data.iloc[counter])\n",
    "\n",
    "    else:\n",
    "        # to check there are no other values\n",
    "        unknown +=1\n",
    "print(\"Positive income:\", pos_count, \n",
    "      \"\\nNegative income:\", neg_count,\n",
    "      \"\\nnan:\\t\\t\", nan_count,\n",
    "      \"\\nUnknown:\\t\", unknown)"
   ]
  },
  {
   "cell_type": "code",
   "execution_count": 42,
   "metadata": {},
   "outputs": [
    {
     "data": {
      "text/plain": [
       "btwn10Kand20K        6443\n",
       "btwn20Kand30K        6063\n",
       "btwn30Kand40K        3107\n",
       "btwn50Kand60K        2140\n",
       "less_than_10K         926\n",
       "btwn60Kand70K         294\n",
       "btwn70Kand80K         156\n",
       "greater_than_100K      99\n",
       "btwn80Kand90K          83\n",
       "btwn90Kand100K         40\n",
       "Name: income_level, dtype: int64"
      ]
     },
     "execution_count": 42,
     "metadata": {},
     "output_type": "execute_result"
    }
   ],
   "source": [
    "# categorize income_level into 10K levels\n",
    "\n",
    "# create a new function, income_level_fx\n",
    "def income_level_fx(row):\n",
    "    # the income_level is returned according to total_income\n",
    "    income = row['total_income']\n",
    "    \n",
    "    if income < 10000:\n",
    "        return 'less_than_10K' \n",
    "    elif income < 20000:\n",
    "        return 'btwn10Kand20K'\n",
    "    elif income < 30000:\n",
    "        return 'btwn20Kand30K'   \n",
    "    elif income < 40000:\n",
    "        return 'btwn30Kand40K'  \n",
    "    elif income < 50:\n",
    "        return 'btwn40Kand50K' \n",
    "    elif income < 60000:\n",
    "        return 'btwn50Kand60K'  \n",
    "    elif income < 70000:\n",
    "        return 'btwn60Kand70K' \n",
    "    elif income < 80000:\n",
    "        return 'btwn70Kand80K' \n",
    "    elif income < 90000:\n",
    "        return 'btwn80Kand90K' \n",
    "    elif income < 100000:\n",
    "        return 'btwn90Kand100K'\n",
    "    elif income >= 100000:\n",
    "        return 'greater_than_100K'  \n",
    "    \n",
    "# create a new column, income_level, based on total_income\n",
    "data['income_level'] = data.apply(income_level_fx, axis=1)\n",
    "\n",
    "# verfiy new column: income_level\n",
    "data['income_level'].value_counts()"
   ]
  },
  {
   "cell_type": "code",
   "execution_count": 43,
   "metadata": {},
   "outputs": [
    {
     "name": "stdout",
     "output_type": "stream",
     "text": [
      "Statistical info for total_income\n"
     ]
    },
    {
     "data": {
      "text/plain": [
       "count     19351.000000\n",
       "mean      26787.568355\n",
       "std       16475.450632\n",
       "min        3306.762000\n",
       "25%       16488.504500\n",
       "50%       23202.870000\n",
       "75%       32549.611000\n",
       "max      362496.645000\n",
       "Name: total_income, dtype: float64"
      ]
     },
     "execution_count": 43,
     "metadata": {},
     "output_type": "execute_result"
    }
   ],
   "source": [
    "# find info on mean, min, max for total_income\n",
    "print('Statistical info for total_income')\n",
    "data['total_income'].describe()"
   ]
  },
  {
   "cell_type": "code",
   "execution_count": 44,
   "metadata": {},
   "outputs": [
    {
     "name": "stdout",
     "output_type": "stream",
     "text": [
      "The median of total_income\n"
     ]
    },
    {
     "data": {
      "text/plain": [
       "23202.87"
      ]
     },
     "execution_count": 44,
     "metadata": {},
     "output_type": "execute_result"
    }
   ],
   "source": [
    "# find median of total_income\n",
    "median_income = data['total_income'].median()\n",
    "print('The median of total_income')\n",
    "median_income"
   ]
  },
  {
   "cell_type": "markdown",
   "metadata": {},
   "source": [
    "total_income is vital to the analysis. Over 10% of the values are missing. \n",
    "Those values could be replaced by the mean or median. \n",
    "\n",
    "Since the mean (26787) > median (23202), high outling values are pulling the mean up. The median should be used to replace the values. A copy of the dataframe, titled data_median_income, will be created to store data where the median total_income replaces the missing values. \n",
    "\n",
    "Another option will be to look at correlations between other factors and total_income and replace missing values based on those factors. \n",
    "\n",
    "The two options will be compared in the final analysis."
   ]
  },
  {
   "cell_type": "code",
   "execution_count": 45,
   "metadata": {},
   "outputs": [],
   "source": [
    "# make a copy of data and replace the missing values with median\n",
    "data_median_income = data.copy()"
   ]
  },
  {
   "cell_type": "code",
   "execution_count": 46,
   "metadata": {},
   "outputs": [],
   "source": [
    "# fill in missing values with median income\n",
    "data_median_income['total_income'].fillna(value=median_income, inplace = True)"
   ]
  },
  {
   "cell_type": "code",
   "execution_count": 47,
   "metadata": {},
   "outputs": [
    {
     "name": "stdout",
     "output_type": "stream",
     "text": [
      "Verify that there are no missing values in data_median_income\n"
     ]
    },
    {
     "data": {
      "text/plain": [
       "0"
      ]
     },
     "execution_count": 47,
     "metadata": {},
     "output_type": "execute_result"
    }
   ],
   "source": [
    "# print the number of missing values in data_median_income after filling nan\n",
    "print('Verify that there are no missing values in data_median_income')\n",
    "data_median_income['total_income'].isnull().sum()"
   ]
  },
  {
   "cell_type": "code",
   "execution_count": 48,
   "metadata": {},
   "outputs": [
    {
     "data": {
      "text/plain": [
       "btwn20Kand30K        8237\n",
       "btwn10Kand20K        6443\n",
       "btwn30Kand40K        3107\n",
       "btwn50Kand60K        2140\n",
       "less_than_10K         926\n",
       "btwn60Kand70K         294\n",
       "btwn70Kand80K         156\n",
       "greater_than_100K      99\n",
       "btwn80Kand90K          83\n",
       "btwn90Kand100K         40\n",
       "Name: income_level, dtype: int64"
      ]
     },
     "execution_count": 48,
     "metadata": {},
     "output_type": "execute_result"
    }
   ],
   "source": [
    "# categorize data_median_income income_level into 10K levels\n",
    "\n",
    "# create a new function, income_level_fx\n",
    "def income_level_fx(row):\n",
    "    # the income_level is returned according to total_income\n",
    "    income = row['total_income']\n",
    "    \n",
    "    if income < 10000:\n",
    "        return 'less_than_10K' \n",
    "    elif income < 20000:\n",
    "        return 'btwn10Kand20K'\n",
    "    elif income < 30000:\n",
    "        return 'btwn20Kand30K'   \n",
    "    elif income < 40000:\n",
    "        return 'btwn30Kand40K'  \n",
    "    elif income < 50:\n",
    "        return 'btwn40Kand50K' \n",
    "    elif income < 60000:\n",
    "        return 'btwn50Kand60K'  \n",
    "    elif income < 70000:\n",
    "        return 'btwn60Kand70K' \n",
    "    elif income < 80000:\n",
    "        return 'btwn70Kand80K' \n",
    "    elif income < 90000:\n",
    "        return 'btwn80Kand90K' \n",
    "    elif income < 100000:\n",
    "        return 'btwn90Kand100K'\n",
    "    elif income >= 100000:\n",
    "        return 'greater_than_100K'  \n",
    "    \n",
    "# create a new column, income_level, based on total_income\n",
    "data_median_income['income_level'] = data_median_income.apply(income_level_fx, axis=1)\n",
    "\n",
    "# verfiy new column: income_level\n",
    "data_median_income['income_level'].value_counts()"
   ]
  },
  {
   "cell_type": "code",
   "execution_count": 49,
   "metadata": {},
   "outputs": [
    {
     "name": "stdout",
     "output_type": "stream",
     "text": [
      "Statistical info for data_median_income\n"
     ]
    },
    {
     "data": {
      "text/plain": [
       "count     21525.000000\n",
       "mean      26425.517984\n",
       "std       15658.570891\n",
       "min        3306.762000\n",
       "25%       17247.708000\n",
       "50%       23202.870000\n",
       "75%       31286.979000\n",
       "max      362496.645000\n",
       "Name: total_income, dtype: float64"
      ]
     },
     "execution_count": 49,
     "metadata": {},
     "output_type": "execute_result"
    }
   ],
   "source": [
    "# find info on mean, min, max for total_income\n",
    "print('Statistical info for data_median_income')\n",
    "data_median_income['total_income'].describe()"
   ]
  },
  {
   "cell_type": "markdown",
   "metadata": {},
   "source": [
    "Since debt, children, family_status, purpose will be examined later, those will not be used when considering filling missing values in total_income.\n",
    "\n",
    "Before considering relationships between total_income and (gender and/or education_id and/or dob_years and/or income_type), dob_years and education need to be addressed.\n",
    "\n",
    "1. Process dob_years into categories (called age_group) \n",
    "2. Change the items in education to lowercase so it can be used for analysis.\n",
    "3. Investigate gender, education, dob_years, income_type with total_income"
   ]
  },
  {
   "cell_type": "code",
   "execution_count": 50,
   "metadata": {},
   "outputs": [
    {
     "name": "stdout",
     "output_type": "stream",
     "text": [
      "Number of items per age group\n"
     ]
    },
    {
     "data": {
      "text/plain": [
       "btwn30and40     5674\n",
       "btwn40and50     5371\n",
       "btwn50and60     4679\n",
       "btwn20and30     3169\n",
       "btwn60and70     2346\n",
       "over_equal70     171\n",
       "less_than_20     115\n",
       "Name: age_group, dtype: int64"
      ]
     },
     "execution_count": 50,
     "metadata": {},
     "output_type": "execute_result"
    }
   ],
   "source": [
    "# process dob_years into age_group\n",
    "\n",
    "# create a new function, age_group_fx \n",
    "def age_group_fx(row):\n",
    "    # the age group is returned according to dob_years\n",
    "    age = row['dob_years']\n",
    "\n",
    "    if age < 20:\n",
    "        return 'less_than_20' \n",
    "    elif age < 30:\n",
    "        return 'btwn20and30'\n",
    "    elif age < 40:\n",
    "        return 'btwn30and40'   \n",
    "    elif age < 50:\n",
    "        return 'btwn40and50' \n",
    "    elif age < 60:\n",
    "        return 'btwn50and60' \n",
    "    elif age < 70:\n",
    "        return 'btwn60and70' \n",
    "    elif age >= 70:\n",
    "        return 'over_equal70'  \n",
    "    \n",
    "# create a new column, age_group, based on dob_years\n",
    "data['age_group'] = data.apply(age_group_fx, axis=1)\n",
    "\n",
    "# calculate number of items per age level\n",
    "print('Number of items per age group')\n",
    "data['age_group'].value_counts()"
   ]
  },
  {
   "cell_type": "code",
   "execution_count": 51,
   "metadata": {},
   "outputs": [
    {
     "data": {
      "text/plain": [
       "secondary education    13750\n",
       "bachelor's degree       4718\n",
       "SECONDARY EDUCATION      772\n",
       "Secondary Education      711\n",
       "some college             668\n",
       "BACHELOR'S DEGREE        274\n",
       "Bachelor's Degree        268\n",
       "primary education        250\n",
       "Some College              47\n",
       "SOME COLLEGE              29\n",
       "PRIMARY EDUCATION         17\n",
       "Primary Education         15\n",
       "graduate degree            4\n",
       "Graduate Degree            1\n",
       "GRADUATE DEGREE            1\n",
       "Name: education, dtype: int64"
      ]
     },
     "execution_count": 51,
     "metadata": {},
     "output_type": "execute_result"
    }
   ],
   "source": [
    "# calculate number of items per education column\n",
    "data['education'].value_counts()"
   ]
  },
  {
   "cell_type": "code",
   "execution_count": 52,
   "metadata": {},
   "outputs": [
    {
     "name": "stdout",
     "output_type": "stream",
     "text": [
      "Number of items per education category\n"
     ]
    },
    {
     "data": {
      "text/plain": [
       "secondary education    15233\n",
       "bachelor's degree       5260\n",
       "some college             744\n",
       "primary education        282\n",
       "graduate degree            6\n",
       "Name: education, dtype: int64"
      ]
     },
     "execution_count": 52,
     "metadata": {},
     "output_type": "execute_result"
    }
   ],
   "source": [
    "# change items to lowercase\n",
    "data['education'] = data['education'].str.lower()\n",
    "\n",
    "# calculate number of items per education column\n",
    "print('Number of items per education category')\n",
    "data['education'].value_counts()"
   ]
  },
  {
   "cell_type": "code",
   "execution_count": 53,
   "metadata": {},
   "outputs": [
    {
     "name": "stdout",
     "output_type": "stream",
     "text": [
      "Number of items per education_id category\n"
     ]
    },
    {
     "data": {
      "text/plain": [
       "1    15233\n",
       "0     5260\n",
       "2      744\n",
       "3      282\n",
       "4        6\n",
       "Name: education_id, dtype: int64"
      ]
     },
     "execution_count": 53,
     "metadata": {},
     "output_type": "execute_result"
    }
   ],
   "source": [
    "# compare with education #s with education_id #s\n",
    "print('Number of items per education_id category')\n",
    "data['education_id'].value_counts()"
   ]
  },
  {
   "cell_type": "markdown",
   "metadata": {},
   "source": [
    "The education column and the education_id column values match."
   ]
  },
  {
   "cell_type": "code",
   "execution_count": 54,
   "metadata": {
    "scrolled": true
   },
   "outputs": [
    {
     "data": {
      "text/html": [
       "<div>\n",
       "<style scoped>\n",
       "    .dataframe tbody tr th:only-of-type {\n",
       "        vertical-align: middle;\n",
       "    }\n",
       "\n",
       "    .dataframe tbody tr th {\n",
       "        vertical-align: top;\n",
       "    }\n",
       "\n",
       "    .dataframe thead tr th {\n",
       "        text-align: left;\n",
       "    }\n",
       "\n",
       "    .dataframe thead tr:last-of-type th {\n",
       "        text-align: right;\n",
       "    }\n",
       "</style>\n",
       "<table border=\"1\" class=\"dataframe\">\n",
       "  <thead>\n",
       "    <tr>\n",
       "      <th></th>\n",
       "      <th colspan=\"3\" halign=\"left\">total_income</th>\n",
       "    </tr>\n",
       "    <tr>\n",
       "      <th></th>\n",
       "      <th>count</th>\n",
       "      <th>mean</th>\n",
       "      <th>median</th>\n",
       "    </tr>\n",
       "    <tr>\n",
       "      <th>gender</th>\n",
       "      <th></th>\n",
       "      <th></th>\n",
       "      <th></th>\n",
       "    </tr>\n",
       "  </thead>\n",
       "  <tbody>\n",
       "    <tr>\n",
       "      <th>F</th>\n",
       "      <td>12752</td>\n",
       "      <td>24655.604757</td>\n",
       "      <td>21464.845</td>\n",
       "    </tr>\n",
       "    <tr>\n",
       "      <th>M</th>\n",
       "      <td>6598</td>\n",
       "      <td>30907.144369</td>\n",
       "      <td>26834.295</td>\n",
       "    </tr>\n",
       "    <tr>\n",
       "      <th>XNA</th>\n",
       "      <td>1</td>\n",
       "      <td>32624.825000</td>\n",
       "      <td>32624.825</td>\n",
       "    </tr>\n",
       "  </tbody>\n",
       "</table>\n",
       "</div>"
      ],
      "text/plain": [
       "       total_income                         \n",
       "              count          mean     median\n",
       "gender                                      \n",
       "F             12752  24655.604757  21464.845\n",
       "M              6598  30907.144369  26834.295\n",
       "XNA               1  32624.825000  32624.825"
      ]
     },
     "execution_count": 54,
     "metadata": {},
     "output_type": "execute_result"
    }
   ],
   "source": [
    "# investigate gender and total_income\n",
    "data.groupby('gender').agg({'total_income': ['count', 'mean', 'median']})"
   ]
  },
  {
   "cell_type": "markdown",
   "metadata": {},
   "source": [
    "There is close to 5K difference, quite significant, between values for F or M.\n",
    "\n",
    "Gender will be used to help fill in missing values for total income."
   ]
  },
  {
   "cell_type": "code",
   "execution_count": 55,
   "metadata": {},
   "outputs": [
    {
     "data": {
      "text/html": [
       "<div>\n",
       "<style scoped>\n",
       "    .dataframe tbody tr th:only-of-type {\n",
       "        vertical-align: middle;\n",
       "    }\n",
       "\n",
       "    .dataframe tbody tr th {\n",
       "        vertical-align: top;\n",
       "    }\n",
       "\n",
       "    .dataframe thead tr th {\n",
       "        text-align: left;\n",
       "    }\n",
       "\n",
       "    .dataframe thead tr:last-of-type th {\n",
       "        text-align: right;\n",
       "    }\n",
       "</style>\n",
       "<table border=\"1\" class=\"dataframe\">\n",
       "  <thead>\n",
       "    <tr>\n",
       "      <th></th>\n",
       "      <th colspan=\"3\" halign=\"left\">total_income</th>\n",
       "    </tr>\n",
       "    <tr>\n",
       "      <th></th>\n",
       "      <th>count</th>\n",
       "      <th>mean</th>\n",
       "      <th>median</th>\n",
       "    </tr>\n",
       "    <tr>\n",
       "      <th>education</th>\n",
       "      <th></th>\n",
       "      <th></th>\n",
       "      <th></th>\n",
       "    </tr>\n",
       "  </thead>\n",
       "  <tbody>\n",
       "    <tr>\n",
       "      <th>bachelor's degree</th>\n",
       "      <td>4716</td>\n",
       "      <td>33142.802434</td>\n",
       "      <td>28054.5310</td>\n",
       "    </tr>\n",
       "    <tr>\n",
       "      <th>graduate degree</th>\n",
       "      <td>6</td>\n",
       "      <td>27960.024667</td>\n",
       "      <td>25161.5835</td>\n",
       "    </tr>\n",
       "    <tr>\n",
       "      <th>primary education</th>\n",
       "      <td>261</td>\n",
       "      <td>21144.882211</td>\n",
       "      <td>18741.9760</td>\n",
       "    </tr>\n",
       "    <tr>\n",
       "      <th>secondary education</th>\n",
       "      <td>13693</td>\n",
       "      <td>24594.503037</td>\n",
       "      <td>21836.5830</td>\n",
       "    </tr>\n",
       "    <tr>\n",
       "      <th>some college</th>\n",
       "      <td>675</td>\n",
       "      <td>29045.443644</td>\n",
       "      <td>25618.4640</td>\n",
       "    </tr>\n",
       "  </tbody>\n",
       "</table>\n",
       "</div>"
      ],
      "text/plain": [
       "                    total_income                          \n",
       "                           count          mean      median\n",
       "education                                                 \n",
       "bachelor's degree           4716  33142.802434  28054.5310\n",
       "graduate degree                6  27960.024667  25161.5835\n",
       "primary education            261  21144.882211  18741.9760\n",
       "secondary education        13693  24594.503037  21836.5830\n",
       "some college                 675  29045.443644  25618.4640"
      ]
     },
     "execution_count": 55,
     "metadata": {},
     "output_type": "execute_result"
    }
   ],
   "source": [
    "# investigate education and total_income\n",
    "data.groupby('education').agg({'total_income': ['count', 'mean', 'median']})"
   ]
  },
  {
   "cell_type": "markdown",
   "metadata": {},
   "source": [
    "There is a significant difference between incomes for different education levels.\n",
    "\n",
    "Education will be used to help fill in missing values for total income."
   ]
  },
  {
   "cell_type": "code",
   "execution_count": 56,
   "metadata": {},
   "outputs": [
    {
     "name": "stdout",
     "output_type": "stream",
     "text": [
      "Count of missing total income by education\n",
      "secondary education    1540\n",
      "bachelor's degree       544\n",
      "some college             69\n",
      "primary education        21\n",
      "Name: education, dtype: int64\n"
     ]
    }
   ],
   "source": [
    "# investigate count of missing total_income by education\n",
    "print('Count of missing total income by education')\n",
    "print(data[data['total_income'].isnull()]['education'].value_counts())"
   ]
  },
  {
   "cell_type": "code",
   "execution_count": 57,
   "metadata": {},
   "outputs": [
    {
     "data": {
      "text/html": [
       "<div>\n",
       "<style scoped>\n",
       "    .dataframe tbody tr th:only-of-type {\n",
       "        vertical-align: middle;\n",
       "    }\n",
       "\n",
       "    .dataframe tbody tr th {\n",
       "        vertical-align: top;\n",
       "    }\n",
       "\n",
       "    .dataframe thead tr th {\n",
       "        text-align: left;\n",
       "    }\n",
       "\n",
       "    .dataframe thead tr:last-of-type th {\n",
       "        text-align: right;\n",
       "    }\n",
       "</style>\n",
       "<table border=\"1\" class=\"dataframe\">\n",
       "  <thead>\n",
       "    <tr>\n",
       "      <th></th>\n",
       "      <th colspan=\"3\" halign=\"left\">total_income</th>\n",
       "    </tr>\n",
       "    <tr>\n",
       "      <th></th>\n",
       "      <th>count</th>\n",
       "      <th>mean</th>\n",
       "      <th>median</th>\n",
       "    </tr>\n",
       "    <tr>\n",
       "      <th>age_group</th>\n",
       "      <th></th>\n",
       "      <th></th>\n",
       "      <th></th>\n",
       "    </tr>\n",
       "  </thead>\n",
       "  <tbody>\n",
       "    <tr>\n",
       "      <th>btwn20and30</th>\n",
       "      <td>2871</td>\n",
       "      <td>25572.630177</td>\n",
       "      <td>22799.2580</td>\n",
       "    </tr>\n",
       "    <tr>\n",
       "      <th>btwn30and40</th>\n",
       "      <td>5109</td>\n",
       "      <td>28312.479963</td>\n",
       "      <td>24667.5280</td>\n",
       "    </tr>\n",
       "    <tr>\n",
       "      <th>btwn40and50</th>\n",
       "      <td>4834</td>\n",
       "      <td>28551.375635</td>\n",
       "      <td>24764.2290</td>\n",
       "    </tr>\n",
       "    <tr>\n",
       "      <th>btwn50and60</th>\n",
       "      <td>4178</td>\n",
       "      <td>25811.700327</td>\n",
       "      <td>22203.0745</td>\n",
       "    </tr>\n",
       "    <tr>\n",
       "      <th>btwn60and70</th>\n",
       "      <td>2095</td>\n",
       "      <td>23242.812818</td>\n",
       "      <td>19817.4400</td>\n",
       "    </tr>\n",
       "    <tr>\n",
       "      <th>less_than_20</th>\n",
       "      <td>104</td>\n",
       "      <td>24291.556587</td>\n",
       "      <td>21100.0045</td>\n",
       "    </tr>\n",
       "    <tr>\n",
       "      <th>over_equal70</th>\n",
       "      <td>160</td>\n",
       "      <td>20125.658331</td>\n",
       "      <td>18751.3240</td>\n",
       "    </tr>\n",
       "  </tbody>\n",
       "</table>\n",
       "</div>"
      ],
      "text/plain": [
       "             total_income                          \n",
       "                    count          mean      median\n",
       "age_group                                          \n",
       "btwn20and30          2871  25572.630177  22799.2580\n",
       "btwn30and40          5109  28312.479963  24667.5280\n",
       "btwn40and50          4834  28551.375635  24764.2290\n",
       "btwn50and60          4178  25811.700327  22203.0745\n",
       "btwn60and70          2095  23242.812818  19817.4400\n",
       "less_than_20          104  24291.556587  21100.0045\n",
       "over_equal70          160  20125.658331  18751.3240"
      ]
     },
     "execution_count": 57,
     "metadata": {},
     "output_type": "execute_result"
    }
   ],
   "source": [
    "# investigate age_group and total_income\n",
    "data.groupby('age_group').agg({'total_income': ['count', 'mean', 'median']})"
   ]
  },
  {
   "cell_type": "markdown",
   "metadata": {},
   "source": [
    "There is not as significant difference between incomes for different age groups. \n",
    "\n",
    "Age_groups will not be used to help fill in missing values for total income."
   ]
  },
  {
   "cell_type": "code",
   "execution_count": 58,
   "metadata": {},
   "outputs": [
    {
     "data": {
      "text/html": [
       "<div>\n",
       "<style scoped>\n",
       "    .dataframe tbody tr th:only-of-type {\n",
       "        vertical-align: middle;\n",
       "    }\n",
       "\n",
       "    .dataframe tbody tr th {\n",
       "        vertical-align: top;\n",
       "    }\n",
       "\n",
       "    .dataframe thead tr th {\n",
       "        text-align: left;\n",
       "    }\n",
       "\n",
       "    .dataframe thead tr:last-of-type th {\n",
       "        text-align: right;\n",
       "    }\n",
       "</style>\n",
       "<table border=\"1\" class=\"dataframe\">\n",
       "  <thead>\n",
       "    <tr>\n",
       "      <th></th>\n",
       "      <th colspan=\"3\" halign=\"left\">total_income</th>\n",
       "    </tr>\n",
       "    <tr>\n",
       "      <th></th>\n",
       "      <th>count</th>\n",
       "      <th>mean</th>\n",
       "      <th>median</th>\n",
       "    </tr>\n",
       "    <tr>\n",
       "      <th>income_type</th>\n",
       "      <th></th>\n",
       "      <th></th>\n",
       "      <th></th>\n",
       "    </tr>\n",
       "  </thead>\n",
       "  <tbody>\n",
       "    <tr>\n",
       "      <th>business</th>\n",
       "      <td>4577</td>\n",
       "      <td>32386.793835</td>\n",
       "      <td>27577.2720</td>\n",
       "    </tr>\n",
       "    <tr>\n",
       "      <th>civil servant</th>\n",
       "      <td>1312</td>\n",
       "      <td>27343.729582</td>\n",
       "      <td>24071.6695</td>\n",
       "    </tr>\n",
       "    <tr>\n",
       "      <th>employee</th>\n",
       "      <td>10014</td>\n",
       "      <td>25820.841683</td>\n",
       "      <td>22815.1035</td>\n",
       "    </tr>\n",
       "    <tr>\n",
       "      <th>entrepreneur</th>\n",
       "      <td>1</td>\n",
       "      <td>79866.103000</td>\n",
       "      <td>79866.1030</td>\n",
       "    </tr>\n",
       "    <tr>\n",
       "      <th>paternity / maternity leave</th>\n",
       "      <td>1</td>\n",
       "      <td>8612.661000</td>\n",
       "      <td>8612.6610</td>\n",
       "    </tr>\n",
       "    <tr>\n",
       "      <th>retiree</th>\n",
       "      <td>3443</td>\n",
       "      <td>21940.394503</td>\n",
       "      <td>18962.3180</td>\n",
       "    </tr>\n",
       "    <tr>\n",
       "      <th>student</th>\n",
       "      <td>1</td>\n",
       "      <td>15712.260000</td>\n",
       "      <td>15712.2600</td>\n",
       "    </tr>\n",
       "    <tr>\n",
       "      <th>unemployed</th>\n",
       "      <td>2</td>\n",
       "      <td>21014.360500</td>\n",
       "      <td>21014.3605</td>\n",
       "    </tr>\n",
       "  </tbody>\n",
       "</table>\n",
       "</div>"
      ],
      "text/plain": [
       "                            total_income                          \n",
       "                                   count          mean      median\n",
       "income_type                                                       \n",
       "business                            4577  32386.793835  27577.2720\n",
       "civil servant                       1312  27343.729582  24071.6695\n",
       "employee                           10014  25820.841683  22815.1035\n",
       "entrepreneur                           1  79866.103000  79866.1030\n",
       "paternity / maternity leave            1   8612.661000   8612.6610\n",
       "retiree                             3443  21940.394503  18962.3180\n",
       "student                                1  15712.260000  15712.2600\n",
       "unemployed                             2  21014.360500  21014.3605"
      ]
     },
     "execution_count": 58,
     "metadata": {},
     "output_type": "execute_result"
    }
   ],
   "source": [
    "# investigate income_type and total_income\n",
    "data.groupby('income_type').agg({'total_income': ['count', 'mean', 'median']})"
   ]
  },
  {
   "cell_type": "markdown",
   "metadata": {},
   "source": [
    "There is a sizeable difference between business, employee, and retiree and all of those have over 3K applicants.\n",
    "\n",
    "Income_type will be used to help fill in missing values for total income."
   ]
  },
  {
   "cell_type": "code",
   "execution_count": 59,
   "metadata": {},
   "outputs": [
    {
     "name": "stdout",
     "output_type": "stream",
     "text": [
      "Count of missing total income by income_type\n",
      "employee         1105\n",
      "business          508\n",
      "retiree           413\n",
      "civil servant     147\n",
      "entrepreneur        1\n",
      "Name: income_type, dtype: int64\n"
     ]
    }
   ],
   "source": [
    "# investigate count of missing total_income by income_type\n",
    "print('Count of missing total income by income_type')\n",
    "print(data[data['total_income'].isnull()]['income_type'].value_counts())"
   ]
  },
  {
   "cell_type": "code",
   "execution_count": 60,
   "metadata": {},
   "outputs": [
    {
     "data": {
      "text/html": [
       "<div>\n",
       "<style scoped>\n",
       "    .dataframe tbody tr th:only-of-type {\n",
       "        vertical-align: middle;\n",
       "    }\n",
       "\n",
       "    .dataframe tbody tr th {\n",
       "        vertical-align: top;\n",
       "    }\n",
       "\n",
       "    .dataframe thead tr th {\n",
       "        text-align: left;\n",
       "    }\n",
       "</style>\n",
       "<table border=\"1\" class=\"dataframe\">\n",
       "  <thead>\n",
       "    <tr>\n",
       "      <th>gender</th>\n",
       "      <th colspan=\"10\" halign=\"left\">F</th>\n",
       "      <th>...</th>\n",
       "      <th colspan=\"9\" halign=\"left\">M</th>\n",
       "      <th>XNA</th>\n",
       "    </tr>\n",
       "    <tr>\n",
       "      <th>education</th>\n",
       "      <th colspan=\"6\" halign=\"left\">bachelor's degree</th>\n",
       "      <th colspan=\"2\" halign=\"left\">graduate degree</th>\n",
       "      <th colspan=\"2\" halign=\"left\">primary education</th>\n",
       "      <th>...</th>\n",
       "      <th colspan=\"5\" halign=\"left\">secondary education</th>\n",
       "      <th colspan=\"4\" halign=\"left\">some college</th>\n",
       "      <th>some college</th>\n",
       "    </tr>\n",
       "    <tr>\n",
       "      <th>income_type</th>\n",
       "      <th>business</th>\n",
       "      <th>civil servant</th>\n",
       "      <th>employee</th>\n",
       "      <th>entrepreneur</th>\n",
       "      <th>retiree</th>\n",
       "      <th>unemployed</th>\n",
       "      <th>civil servant</th>\n",
       "      <th>retiree</th>\n",
       "      <th>business</th>\n",
       "      <th>civil servant</th>\n",
       "      <th>...</th>\n",
       "      <th>business</th>\n",
       "      <th>civil servant</th>\n",
       "      <th>employee</th>\n",
       "      <th>retiree</th>\n",
       "      <th>unemployed</th>\n",
       "      <th>business</th>\n",
       "      <th>civil servant</th>\n",
       "      <th>employee</th>\n",
       "      <th>retiree</th>\n",
       "      <th>business</th>\n",
       "    </tr>\n",
       "  </thead>\n",
       "  <tbody>\n",
       "    <tr>\n",
       "      <th>total_income</th>\n",
       "      <td>34893.06224</td>\n",
       "      <td>28466.106994</td>\n",
       "      <td>28491.963702</td>\n",
       "      <td>79866.103</td>\n",
       "      <td>26175.804276</td>\n",
       "      <td>32435.602</td>\n",
       "      <td>17822.757</td>\n",
       "      <td>40868.031</td>\n",
       "      <td>24474.135692</td>\n",
       "      <td>14339.034</td>\n",
       "      <td>...</td>\n",
       "      <td>33021.827315</td>\n",
       "      <td>30151.25731</td>\n",
       "      <td>27486.725383</td>\n",
       "      <td>22526.824219</td>\n",
       "      <td>9593.119</td>\n",
       "      <td>33777.41098</td>\n",
       "      <td>31869.49925</td>\n",
       "      <td>33293.136649</td>\n",
       "      <td>25214.5752</td>\n",
       "      <td>32624.825</td>\n",
       "    </tr>\n",
       "  </tbody>\n",
       "</table>\n",
       "<p>1 rows × 42 columns</p>\n",
       "</div>"
      ],
      "text/plain": [
       "gender                       F                                           \\\n",
       "education    bachelor's degree                                            \n",
       "income_type           business civil servant      employee entrepreneur   \n",
       "total_income       34893.06224  28466.106994  28491.963702    79866.103   \n",
       "\n",
       "gender                                                            \\\n",
       "education                             graduate degree              \n",
       "income_type        retiree unemployed   civil servant    retiree   \n",
       "total_income  26175.804276  32435.602       17822.757  40868.031   \n",
       "\n",
       "gender                                        ...                   M  \\\n",
       "education    primary education                ... secondary education   \n",
       "income_type           business civil servant  ...            business   \n",
       "total_income      24474.135692     14339.034  ...        33021.827315   \n",
       "\n",
       "gender                                                             \\\n",
       "education                                                           \n",
       "income_type  civil servant      employee       retiree unemployed   \n",
       "total_income   30151.25731  27486.725383  22526.824219   9593.119   \n",
       "\n",
       "gender                                                                     XNA  \n",
       "education    some college                                         some college  \n",
       "income_type      business civil servant      employee     retiree     business  \n",
       "total_income  33777.41098   31869.49925  33293.136649  25214.5752    32624.825  \n",
       "\n",
       "[1 rows x 42 columns]"
      ]
     },
     "execution_count": 60,
     "metadata": {},
     "output_type": "execute_result"
    }
   ],
   "source": [
    "# investigate if there are any correlations with total_income and \n",
    "# gender and education and income_type and age group\n",
    "data.pivot_table(values=['total_income'], columns=['gender', 'education', 'income_type'])"
   ]
  },
  {
   "cell_type": "markdown",
   "metadata": {},
   "source": [
    "This suggests some wide variations in value when categorized by gender, education, and income type."
   ]
  },
  {
   "cell_type": "code",
   "execution_count": 61,
   "metadata": {},
   "outputs": [
    {
     "name": "stdout",
     "output_type": "stream",
     "text": [
      "Fill in missing values of total_income based on education, gender, and income_type\n",
      "Verify that there are no missing values in data\n"
     ]
    },
    {
     "data": {
      "text/plain": [
       "1"
      ]
     },
     "execution_count": 61,
     "metadata": {},
     "output_type": "execute_result"
    }
   ],
   "source": [
    "# fill in values using education_id and income_type\n",
    "print('Fill in missing values of total_income based on education, gender, and income_type')\n",
    "data['total_income'] = data['total_income'].fillna(data.groupby(['education_id', 'income_type', 'gender'])['total_income'].transform('median'))\n",
    "\n",
    "# print the number of missing values in data after filling nan\n",
    "print('Verify that there are no missing values in data')\n",
    "data['total_income'].isnull().sum()"
   ]
  },
  {
   "cell_type": "code",
   "execution_count": 62,
   "metadata": {},
   "outputs": [
    {
     "data": {
      "text/html": [
       "<div>\n",
       "<style scoped>\n",
       "    .dataframe tbody tr th:only-of-type {\n",
       "        vertical-align: middle;\n",
       "    }\n",
       "\n",
       "    .dataframe tbody tr th {\n",
       "        vertical-align: top;\n",
       "    }\n",
       "\n",
       "    .dataframe thead th {\n",
       "        text-align: right;\n",
       "    }\n",
       "</style>\n",
       "<table border=\"1\" class=\"dataframe\">\n",
       "  <thead>\n",
       "    <tr style=\"text-align: right;\">\n",
       "      <th></th>\n",
       "      <th>children</th>\n",
       "      <th>days_employed</th>\n",
       "      <th>dob_years</th>\n",
       "      <th>education</th>\n",
       "      <th>education_id</th>\n",
       "      <th>family_status</th>\n",
       "      <th>family_status_id</th>\n",
       "      <th>gender</th>\n",
       "      <th>income_type</th>\n",
       "      <th>debt</th>\n",
       "      <th>total_income</th>\n",
       "      <th>purpose</th>\n",
       "      <th>income_level</th>\n",
       "      <th>years_employed</th>\n",
       "      <th>age_group</th>\n",
       "    </tr>\n",
       "  </thead>\n",
       "  <tbody>\n",
       "    <tr>\n",
       "      <th>5936</th>\n",
       "      <td>0</td>\n",
       "      <td>2194.220567</td>\n",
       "      <td>58</td>\n",
       "      <td>bachelor's degree</td>\n",
       "      <td>0</td>\n",
       "      <td>married</td>\n",
       "      <td>0</td>\n",
       "      <td>M</td>\n",
       "      <td>entrepreneur</td>\n",
       "      <td>0</td>\n",
       "      <td>NaN</td>\n",
       "      <td>buy residential real estate</td>\n",
       "      <td>None</td>\n",
       "      <td>NaN</td>\n",
       "      <td>btwn50and60</td>\n",
       "    </tr>\n",
       "  </tbody>\n",
       "</table>\n",
       "</div>"
      ],
      "text/plain": [
       "      children  days_employed  dob_years          education  education_id  \\\n",
       "5936         0    2194.220567         58  bachelor's degree             0   \n",
       "\n",
       "     family_status  family_status_id gender   income_type  debt  total_income  \\\n",
       "5936       married                 0      M  entrepreneur     0           NaN   \n",
       "\n",
       "                          purpose income_level  years_employed    age_group  \n",
       "5936  buy residential real estate         None             NaN  btwn50and60  "
      ]
     },
     "execution_count": 62,
     "metadata": {},
     "output_type": "execute_result"
    }
   ],
   "source": [
    "miss_value = data[data['total_income'].isna()]\n",
    "miss_value"
   ]
  },
  {
   "cell_type": "markdown",
   "metadata": {},
   "source": [
    "1 row still has a missing value for total_income.\n",
    "The applicant is a male entrepreneur with a bachelor's degree."
   ]
  },
  {
   "cell_type": "code",
   "execution_count": 63,
   "metadata": {},
   "outputs": [
    {
     "data": {
      "text/html": [
       "<div>\n",
       "<style scoped>\n",
       "    .dataframe tbody tr th:only-of-type {\n",
       "        vertical-align: middle;\n",
       "    }\n",
       "\n",
       "    .dataframe tbody tr th {\n",
       "        vertical-align: top;\n",
       "    }\n",
       "\n",
       "    .dataframe thead tr th {\n",
       "        text-align: left;\n",
       "    }\n",
       "</style>\n",
       "<table border=\"1\" class=\"dataframe\">\n",
       "  <thead>\n",
       "    <tr>\n",
       "      <th>gender</th>\n",
       "      <th colspan=\"7\" halign=\"left\">F</th>\n",
       "      <th colspan=\"6\" halign=\"left\">M</th>\n",
       "      <th>XNA</th>\n",
       "    </tr>\n",
       "    <tr>\n",
       "      <th>income_type</th>\n",
       "      <th>business</th>\n",
       "      <th>civil servant</th>\n",
       "      <th>employee</th>\n",
       "      <th>entrepreneur</th>\n",
       "      <th>paternity / maternity leave</th>\n",
       "      <th>retiree</th>\n",
       "      <th>unemployed</th>\n",
       "      <th>business</th>\n",
       "      <th>civil servant</th>\n",
       "      <th>employee</th>\n",
       "      <th>retiree</th>\n",
       "      <th>student</th>\n",
       "      <th>unemployed</th>\n",
       "      <th>business</th>\n",
       "    </tr>\n",
       "  </thead>\n",
       "  <tbody>\n",
       "    <tr>\n",
       "      <th>total_income</th>\n",
       "      <td>29130.340809</td>\n",
       "      <td>24625.803881</td>\n",
       "      <td>23527.169018</td>\n",
       "      <td>79866.103</td>\n",
       "      <td>8612.661</td>\n",
       "      <td>21134.46767</td>\n",
       "      <td>32435.602</td>\n",
       "      <td>36774.923641</td>\n",
       "      <td>33715.596379</td>\n",
       "      <td>28704.088398</td>\n",
       "      <td>23849.082213</td>\n",
       "      <td>15712.26</td>\n",
       "      <td>9593.119</td>\n",
       "      <td>32624.825</td>\n",
       "    </tr>\n",
       "  </tbody>\n",
       "</table>\n",
       "</div>"
      ],
      "text/plain": [
       "gender                   F                                           \\\n",
       "income_type       business civil servant      employee entrepreneur   \n",
       "total_income  29130.340809  24625.803881  23527.169018    79866.103   \n",
       "\n",
       "gender                                                            \\\n",
       "income_type  paternity / maternity leave      retiree unemployed   \n",
       "total_income                    8612.661  21134.46767  32435.602   \n",
       "\n",
       "gender                   M                                            \\\n",
       "income_type       business civil servant      employee       retiree   \n",
       "total_income  36774.923641  33715.596379  28704.088398  23849.082213   \n",
       "\n",
       "gender                                   XNA  \n",
       "income_type    student unemployed   business  \n",
       "total_income  15712.26   9593.119  32624.825  "
      ]
     },
     "execution_count": 63,
     "metadata": {},
     "output_type": "execute_result"
    }
   ],
   "source": [
    "# investigate if there are any correlations with total_income and \n",
    "# gender and income_type\n",
    "data.pivot_table(values=['total_income'], columns=['gender', 'income_type'])"
   ]
  },
  {
   "cell_type": "markdown",
   "metadata": {},
   "source": [
    "Since there is not a listing for a M who is an entrepreneur, the program couldn't fill in a value. The value for a F who is an entrepreneur is very high, so it may be better to base the missing value on a M having a bachelor's degree."
   ]
  },
  {
   "cell_type": "code",
   "execution_count": 64,
   "metadata": {},
   "outputs": [
    {
     "data": {
      "text/html": [
       "<div>\n",
       "<style scoped>\n",
       "    .dataframe tbody tr th:only-of-type {\n",
       "        vertical-align: middle;\n",
       "    }\n",
       "\n",
       "    .dataframe tbody tr th {\n",
       "        vertical-align: top;\n",
       "    }\n",
       "\n",
       "    .dataframe thead tr th {\n",
       "        text-align: left;\n",
       "    }\n",
       "</style>\n",
       "<table border=\"1\" class=\"dataframe\">\n",
       "  <thead>\n",
       "    <tr>\n",
       "      <th>gender</th>\n",
       "      <th colspan=\"5\" halign=\"left\">F</th>\n",
       "      <th colspan=\"5\" halign=\"left\">M</th>\n",
       "      <th>XNA</th>\n",
       "    </tr>\n",
       "    <tr>\n",
       "      <th>education</th>\n",
       "      <th>bachelor's degree</th>\n",
       "      <th>graduate degree</th>\n",
       "      <th>primary education</th>\n",
       "      <th>secondary education</th>\n",
       "      <th>some college</th>\n",
       "      <th>bachelor's degree</th>\n",
       "      <th>graduate degree</th>\n",
       "      <th>primary education</th>\n",
       "      <th>secondary education</th>\n",
       "      <th>some college</th>\n",
       "      <th>some college</th>\n",
       "    </tr>\n",
       "  </thead>\n",
       "  <tbody>\n",
       "    <tr>\n",
       "      <th>total_income</th>\n",
       "      <td>29896.324842</td>\n",
       "      <td>29345.394</td>\n",
       "      <td>18977.534635</td>\n",
       "      <td>22387.501393</td>\n",
       "      <td>26126.363111</td>\n",
       "      <td>38399.014771</td>\n",
       "      <td>27267.34</td>\n",
       "      <td>23703.273277</td>\n",
       "      <td>28035.492257</td>\n",
       "      <td>32934.841247</td>\n",
       "      <td>32624.825</td>\n",
       "    </tr>\n",
       "  </tbody>\n",
       "</table>\n",
       "</div>"
      ],
      "text/plain": [
       "gender                       F                                    \\\n",
       "education    bachelor's degree graduate degree primary education   \n",
       "total_income      29896.324842       29345.394      18977.534635   \n",
       "\n",
       "gender                                                         M  \\\n",
       "education    secondary education  some college bachelor's degree   \n",
       "total_income        22387.501393  26126.363111      38399.014771   \n",
       "\n",
       "gender                                                              \\\n",
       "education    graduate degree primary education secondary education   \n",
       "total_income        27267.34      23703.273277        28035.492257   \n",
       "\n",
       "gender                              XNA  \n",
       "education     some college some college  \n",
       "total_income  32934.841247    32624.825  "
      ]
     },
     "execution_count": 64,
     "metadata": {},
     "output_type": "execute_result"
    }
   ],
   "source": [
    "# investigate if there are any correlations with total_income and \n",
    "# gender and education_id\n",
    "data.pivot_table(values=['total_income'], columns=['gender', 'education'])"
   ]
  },
  {
   "cell_type": "code",
   "execution_count": 65,
   "metadata": {},
   "outputs": [
    {
     "name": "stdout",
     "output_type": "stream",
     "text": [
      "Fill in missing value of total_income based on education and gender\n",
      "Verify that there are no missing values in data\n"
     ]
    },
    {
     "data": {
      "text/plain": [
       "0"
      ]
     },
     "execution_count": 65,
     "metadata": {},
     "output_type": "execute_result"
    }
   ],
   "source": [
    "# replace the missing value with value for a M with a bachelor's degree\n",
    "print('Fill in missing value of total_income based on education and gender')\n",
    "data['total_income'] = data['total_income'].fillna(data.groupby(['education_id', 'gender'])['total_income'].transform('median'))\n",
    "\n",
    "# print the number of missing values in data after filling nan\n",
    "print('Verify that there are no missing values in data')\n",
    "data['total_income'].isnull().sum()"
   ]
  },
  {
   "cell_type": "code",
   "execution_count": 66,
   "metadata": {},
   "outputs": [
    {
     "data": {
      "text/plain": [
       "btwn10Kand20K        7269\n",
       "btwn20Kand30K        7101\n",
       "btwn30Kand40K        3417\n",
       "btwn50Kand60K        2140\n",
       "less_than_10K         926\n",
       "btwn60Kand70K         294\n",
       "btwn70Kand80K         156\n",
       "greater_than_100K      99\n",
       "btwn80Kand90K          83\n",
       "btwn90Kand100K         40\n",
       "Name: income_level, dtype: int64"
      ]
     },
     "execution_count": 66,
     "metadata": {},
     "output_type": "execute_result"
    }
   ],
   "source": [
    "# categorize income_level into 10K levels\n",
    "# important to do after all the missing values added to update\n",
    "\n",
    "# create a new function, income_level_fx\n",
    "def income_level_fx(row):\n",
    "    # the income_level is returned according to total_income\n",
    "    income = row['total_income']\n",
    "    \n",
    "    if income < 10000:\n",
    "        return 'less_than_10K' \n",
    "    elif income < 20000:\n",
    "        return 'btwn10Kand20K'\n",
    "    elif income < 30000:\n",
    "        return 'btwn20Kand30K'   \n",
    "    elif income < 40000:\n",
    "        return 'btwn30Kand40K'  \n",
    "    elif income < 50:\n",
    "        return 'btwn40Kand50K' \n",
    "    elif income < 60000:\n",
    "        return 'btwn50Kand60K'  \n",
    "    elif income < 70000:\n",
    "        return 'btwn60Kand70K' \n",
    "    elif income < 80000:\n",
    "        return 'btwn70Kand80K' \n",
    "    elif income < 90000:\n",
    "        return 'btwn80Kand90K' \n",
    "    elif income < 100000:\n",
    "        return 'btwn90Kand100K'\n",
    "    elif income >= 100000:\n",
    "        return 'greater_than_100K'  \n",
    "    \n",
    "# create a new column, income_level, based on total_income\n",
    "data['income_level'] = data.apply(income_level_fx, axis=1)\n",
    "\n",
    "# verfiy new column: income_level\n",
    "data['income_level'].value_counts()"
   ]
  },
  {
   "cell_type": "code",
   "execution_count": 67,
   "metadata": {},
   "outputs": [
    {
     "name": "stdout",
     "output_type": "stream",
     "text": [
      "<class 'pandas.core.frame.DataFrame'>\n",
      "RangeIndex: 21525 entries, 0 to 21524\n",
      "Data columns (total 15 columns):\n",
      " #   Column            Non-Null Count  Dtype  \n",
      "---  ------            --------------  -----  \n",
      " 0   children          21525 non-null  int64  \n",
      " 1   days_employed     21525 non-null  float64\n",
      " 2   dob_years         21525 non-null  int64  \n",
      " 3   education         21525 non-null  object \n",
      " 4   education_id      21525 non-null  int64  \n",
      " 5   family_status     21525 non-null  object \n",
      " 6   family_status_id  21525 non-null  int64  \n",
      " 7   gender            21525 non-null  object \n",
      " 8   income_type       21525 non-null  object \n",
      " 9   debt              21525 non-null  int64  \n",
      " 10  total_income      21525 non-null  float64\n",
      " 11  purpose           21525 non-null  object \n",
      " 12  income_level      21525 non-null  object \n",
      " 13  years_employed    19351 non-null  float64\n",
      " 14  age_group         21525 non-null  object \n",
      "dtypes: float64(3), int64(5), object(7)\n",
      "memory usage: 2.5+ MB\n"
     ]
    }
   ],
   "source": [
    "data.info()"
   ]
  },
  {
   "cell_type": "code",
   "execution_count": 68,
   "metadata": {},
   "outputs": [
    {
     "name": "stdout",
     "output_type": "stream",
     "text": [
      "Statistical info for total_income\n"
     ]
    },
    {
     "data": {
      "text/plain": [
       "count     21525.000000\n",
       "mean      26457.155496\n",
       "std       15723.056300\n",
       "min        3306.762000\n",
       "25%       17234.448000\n",
       "50%       23181.085000\n",
       "75%       31461.575000\n",
       "max      362496.645000\n",
       "Name: total_income, dtype: float64"
      ]
     },
     "execution_count": 68,
     "metadata": {},
     "output_type": "execute_result"
    }
   ],
   "source": [
    "# find info on mean, min, max for total_income\n",
    "print('Statistical info for total_income')\n",
    "data['total_income'].describe()"
   ]
  },
  {
   "cell_type": "markdown",
   "metadata": {},
   "source": [
    "### Conclusion"
   ]
  },
  {
   "cell_type": "markdown",
   "metadata": {},
   "source": [
    "1. days_employed may or may not be useful for analysis. Negative values may have occured through human data entry error. Very large values likely occured because of confusion over units (hours versus days), but they might be due to problems merging datasets. To handle the negative values, the absolute value was applied and the new values stored in place. Large values (equivalent to working > 70 years) were divided by 24 (for 24 hours) and replaced. The first 20 rows with NAN values revealed no particular pattern, so the missing values are likely MAR. Then the missing values were filled using the median because there were still large values skewing the results (mean 4641 vs median 2194).\n",
    "\n",
    "\n",
    "2. total_income is vital to analysis (in fact it is one of the key categories to report on). Over 10% of the values are missing. The first 20 duplicates were printed and there is no obvious pattern, therefore these missing values are MAR. Reasons for missing values could include human error, information not provided by applicant, or a mix up when datasets were merged. total_income was categorized into 10K increments and general statistics were displayed. The mean is greater than the median, therefore the median values will be used for replacing missing values.\n",
    "\n",
    "3. Replacing missing values:\n",
    "- approach one is to replace those missing values with the median. data_median_income\n",
    "- approach two involves filling missing values based on a composite value drawn from the influence of gender, income_type, and education (except for one stray value where only gender and education were used).\n",
    "- these approaches will be compared in the final analysis."
   ]
  },
  {
   "cell_type": "markdown",
   "metadata": {},
   "source": [
    "### Data type replacement"
   ]
  },
  {
   "cell_type": "markdown",
   "metadata": {},
   "source": [
    "1. total_income should be changed from float 64 to an int for visual appeal / ease of understanding.\n",
    "2. Data types could be changed to conserve memory. This is especially useful for very large files."
   ]
  },
  {
   "cell_type": "code",
   "execution_count": 69,
   "metadata": {},
   "outputs": [
    {
     "name": "stdout",
     "output_type": "stream",
     "text": [
      "<class 'pandas.core.frame.DataFrame'>\n",
      "RangeIndex: 21525 entries, 0 to 21524\n",
      "Data columns (total 15 columns):\n",
      " #   Column            Non-Null Count  Dtype  \n",
      "---  ------            --------------  -----  \n",
      " 0   children          21525 non-null  int64  \n",
      " 1   days_employed     21525 non-null  float64\n",
      " 2   dob_years         21525 non-null  int64  \n",
      " 3   education         21525 non-null  object \n",
      " 4   education_id      21525 non-null  int64  \n",
      " 5   family_status     21525 non-null  object \n",
      " 6   family_status_id  21525 non-null  int64  \n",
      " 7   gender            21525 non-null  object \n",
      " 8   income_type       21525 non-null  object \n",
      " 9   debt              21525 non-null  int64  \n",
      " 10  total_income      21525 non-null  float64\n",
      " 11  purpose           21525 non-null  object \n",
      " 12  income_level      21525 non-null  object \n",
      " 13  years_employed    19351 non-null  float64\n",
      " 14  age_group         21525 non-null  object \n",
      "dtypes: float64(3), int64(5), object(7)\n",
      "memory usage: 2.5+ MB\n"
     ]
    }
   ],
   "source": [
    "# investigate data types\n",
    "data.info()"
   ]
  },
  {
   "cell_type": "code",
   "execution_count": 70,
   "metadata": {},
   "outputs": [
    {
     "name": "stdout",
     "output_type": "stream",
     "text": [
      "Memory useage before\n"
     ]
    },
    {
     "data": {
      "text/plain": [
       "Index                  128\n",
       "children            172200\n",
       "days_employed       172200\n",
       "dob_years           172200\n",
       "education           172200\n",
       "education_id        172200\n",
       "family_status       172200\n",
       "family_status_id    172200\n",
       "gender              172200\n",
       "income_type         172200\n",
       "debt                172200\n",
       "total_income        172200\n",
       "purpose             172200\n",
       "income_level        172200\n",
       "years_employed      172200\n",
       "age_group           172200\n",
       "dtype: int64"
      ]
     },
     "execution_count": 70,
     "metadata": {},
     "output_type": "execute_result"
    }
   ],
   "source": [
    "# check memory usage\n",
    "print('Memory useage before')\n",
    "data.memory_usage()"
   ]
  },
  {
   "cell_type": "code",
   "execution_count": 71,
   "metadata": {},
   "outputs": [
    {
     "name": "stdout",
     "output_type": "stream",
     "text": [
      "Memory useage before in MB\n"
     ]
    },
    {
     "data": {
      "text/plain": [
       "2.4634628295898438"
      ]
     },
     "execution_count": 71,
     "metadata": {},
     "output_type": "execute_result"
    }
   ],
   "source": [
    "# calculate total memory usage before\n",
    "print('Memory useage before in MB')\n",
    "memory_before = data.memory_usage().sum() / (1024**2) #converting to megabytes\n",
    "memory_before"
   ]
  },
  {
   "cell_type": "code",
   "execution_count": 72,
   "metadata": {},
   "outputs": [],
   "source": [
    "# change data types using astype and apply w/numpy\n",
    "data['children'] = data['children'].astype('int16')\n",
    "# converting days_employed took 2 steps, 1st numpy to int, then astype\n",
    "data['days_employed'] = data['days_employed'].apply(np.int)\n",
    "data['days_employed'] = data['days_employed'].astype('int16')\n",
    "data['dob_years'] = data['dob_years'].astype('int16')\n",
    "data['education'] = data['education'].astype('category')\n",
    "data['education_id'] = data['education_id'].astype('int16')\n",
    "data['family_status'] = data['family_status'].astype('category')\n",
    "data['family_status_id'] = data['family_status_id'].astype('int16')\n",
    "data['gender'] = data['gender'].astype('category')\n",
    "data['income_type'] = data['income_type'].astype('category')\n",
    "data['debt'] = data['debt'].astype('int16')\n",
    "# converting total_income took 2 steps, 1st numpy to int, then astype\n",
    "data['total_income'] = data['total_income'].apply(np.int)\n",
    "data['total_income'] = data['total_income'].astype('int16')\n",
    "data['purpose'] = data['purpose'].astype('category')\n",
    "data['years_employed'] = data['years_employed'].astype('float32')\n",
    "data['age_group'] = data['age_group'].astype('category')"
   ]
  },
  {
   "cell_type": "code",
   "execution_count": 73,
   "metadata": {},
   "outputs": [
    {
     "name": "stdout",
     "output_type": "stream",
     "text": [
      "Memory useage after\n"
     ]
    },
    {
     "data": {
      "text/plain": [
       "Index                  128\n",
       "children             43050\n",
       "days_employed        43050\n",
       "dob_years            43050\n",
       "education            21737\n",
       "education_id         43050\n",
       "family_status        21737\n",
       "family_status_id     43050\n",
       "gender               21657\n",
       "income_type          21889\n",
       "debt                 43050\n",
       "total_income         43050\n",
       "purpose              22901\n",
       "income_level        172200\n",
       "years_employed       86100\n",
       "age_group            21881\n",
       "dtype: int64"
      ]
     },
     "execution_count": 73,
     "metadata": {},
     "output_type": "execute_result"
    }
   ],
   "source": [
    "# check memory usage after\n",
    "print('Memory useage after')\n",
    "data.memory_usage()"
   ]
  },
  {
   "cell_type": "code",
   "execution_count": 74,
   "metadata": {},
   "outputs": [
    {
     "name": "stdout",
     "output_type": "stream",
     "text": [
      "Memory useage after in MB\n"
     ]
    },
    {
     "data": {
      "text/plain": [
       "0.6595420837402344"
      ]
     },
     "execution_count": 74,
     "metadata": {},
     "output_type": "execute_result"
    }
   ],
   "source": [
    "# calculate total memory usage after\n",
    "print('Memory useage after in MB')\n",
    "memory_after = data.memory_usage().sum() / (1024**2) #converting to \n",
    "memory_change = memory_before - memory_after\n",
    "memory_after"
   ]
  },
  {
   "cell_type": "markdown",
   "metadata": {},
   "source": [
    "### Conclusion"
   ]
  },
  {
   "cell_type": "code",
   "execution_count": 75,
   "metadata": {},
   "outputs": [
    {
     "name": "stdout",
     "output_type": "stream",
     "text": [
      "Changing data types saved 1.8039207458496094 MB of memory and changing total_income and days_employed to int type allows for easier reading. Data types were mostly changed using astype, but when changing from float to int apply.np needed to be used. It is good to know that apply.np can only be used on columns with no missing values.\n"
     ]
    }
   ],
   "source": [
    "print('Changing data types saved', memory_change, 'MB of memory and changing total_income and days_employed to int type allows for easier reading. Data types were mostly changed using astype, but when changing from float to int apply.np needed to be used. It is good to know that apply.np can only be used on columns with no missing values.') "
   ]
  },
  {
   "cell_type": "markdown",
   "metadata": {},
   "source": [
    "### Processing duplicates"
   ]
  },
  {
   "cell_type": "markdown",
   "metadata": {},
   "source": [
    "1. Manage duplicate rows\n",
    "- Calculate duplicate rows.\n",
    "- There is no reason to check for duplicates within columns, as values can repeat.\n",
    "\n",
    "2. Manage purpose column with stemming or lemmatization\n"
   ]
  },
  {
   "cell_type": "code",
   "execution_count": 76,
   "metadata": {},
   "outputs": [
    {
     "name": "stdout",
     "output_type": "stream",
     "text": [
      "There are 71 duplicate rows in the file\n",
      "Percentage of duplicate rows = 0.33%\n"
     ]
    }
   ],
   "source": [
    "dup_rows = data.duplicated().sum()\n",
    "pct_duplicated = dup_rows/len(data)\n",
    "print('There are', dup_rows, 'duplicate rows in the file')\n",
    "print('Percentage of duplicate rows = {:.2%}'.format(pct_duplicated))"
   ]
  },
  {
   "cell_type": "code",
   "execution_count": 77,
   "metadata": {},
   "outputs": [],
   "source": [
    "# remove the duplicate rows\n",
    "data = data.drop_duplicates()"
   ]
  },
  {
   "cell_type": "code",
   "execution_count": 78,
   "metadata": {},
   "outputs": [
    {
     "name": "stdout",
     "output_type": "stream",
     "text": [
      "Number of duplicates after dropping:\n"
     ]
    },
    {
     "data": {
      "text/plain": [
       "0"
      ]
     },
     "execution_count": 78,
     "metadata": {},
     "output_type": "execute_result"
    }
   ],
   "source": [
    "# verify that there are no more duplicate rows\n",
    "print('Number of duplicates after dropping:')\n",
    "data.duplicated().sum()"
   ]
  },
  {
   "cell_type": "code",
   "execution_count": 79,
   "metadata": {},
   "outputs": [
    {
     "name": "stdout",
     "output_type": "stream",
     "text": [
      "<class 'pandas.core.frame.DataFrame'>\n",
      "Int64Index: 21454 entries, 0 to 21524\n",
      "Data columns (total 15 columns):\n",
      " #   Column            Non-Null Count  Dtype   \n",
      "---  ------            --------------  -----   \n",
      " 0   children          21454 non-null  int16   \n",
      " 1   days_employed     21454 non-null  int16   \n",
      " 2   dob_years         21454 non-null  int16   \n",
      " 3   education         21454 non-null  category\n",
      " 4   education_id      21454 non-null  int16   \n",
      " 5   family_status     21454 non-null  category\n",
      " 6   family_status_id  21454 non-null  int16   \n",
      " 7   gender            21454 non-null  category\n",
      " 8   income_type       21454 non-null  category\n",
      " 9   debt              21454 non-null  int16   \n",
      " 10  total_income      21454 non-null  int16   \n",
      " 11  purpose           21454 non-null  category\n",
      " 12  income_level      21454 non-null  object  \n",
      " 13  years_employed    19351 non-null  float32 \n",
      " 14  age_group         21454 non-null  category\n",
      "dtypes: category(6), float32(1), int16(7), object(1)\n",
      "memory usage: 840.6+ KB\n"
     ]
    }
   ],
   "source": [
    "data.info()"
   ]
  },
  {
   "cell_type": "code",
   "execution_count": 80,
   "metadata": {},
   "outputs": [
    {
     "data": {
      "text/html": [
       "<div>\n",
       "<style scoped>\n",
       "    .dataframe tbody tr th:only-of-type {\n",
       "        vertical-align: middle;\n",
       "    }\n",
       "\n",
       "    .dataframe tbody tr th {\n",
       "        vertical-align: top;\n",
       "    }\n",
       "\n",
       "    .dataframe thead th {\n",
       "        text-align: right;\n",
       "    }\n",
       "</style>\n",
       "<table border=\"1\" class=\"dataframe\">\n",
       "  <thead>\n",
       "    <tr style=\"text-align: right;\">\n",
       "      <th></th>\n",
       "      <th>children</th>\n",
       "      <th>days_employed</th>\n",
       "      <th>dob_years</th>\n",
       "      <th>education</th>\n",
       "      <th>education_id</th>\n",
       "      <th>family_status</th>\n",
       "      <th>family_status_id</th>\n",
       "      <th>gender</th>\n",
       "      <th>income_type</th>\n",
       "      <th>debt</th>\n",
       "      <th>total_income</th>\n",
       "      <th>purpose</th>\n",
       "      <th>income_level</th>\n",
       "      <th>years_employed</th>\n",
       "      <th>age_group</th>\n",
       "      <th>purpose_words</th>\n",
       "      <th>purpose_cat</th>\n",
       "    </tr>\n",
       "  </thead>\n",
       "  <tbody>\n",
       "    <tr>\n",
       "      <th>0</th>\n",
       "      <td>1</td>\n",
       "      <td>8437</td>\n",
       "      <td>42</td>\n",
       "      <td>bachelor's degree</td>\n",
       "      <td>0</td>\n",
       "      <td>married</td>\n",
       "      <td>0</td>\n",
       "      <td>F</td>\n",
       "      <td>employee</td>\n",
       "      <td>0</td>\n",
       "      <td>-24916</td>\n",
       "      <td>purchase of the house</td>\n",
       "      <td>btwn50Kand60K</td>\n",
       "      <td>23.116913</td>\n",
       "      <td>btwn40and50</td>\n",
       "      <td>[purchas, of, the, hous]</td>\n",
       "      <td>real_estate</td>\n",
       "    </tr>\n",
       "    <tr>\n",
       "      <th>1</th>\n",
       "      <td>1</td>\n",
       "      <td>4024</td>\n",
       "      <td>36</td>\n",
       "      <td>secondary education</td>\n",
       "      <td>1</td>\n",
       "      <td>married</td>\n",
       "      <td>0</td>\n",
       "      <td>F</td>\n",
       "      <td>employee</td>\n",
       "      <td>0</td>\n",
       "      <td>17932</td>\n",
       "      <td>car purchase</td>\n",
       "      <td>btwn10Kand20K</td>\n",
       "      <td>11.026859</td>\n",
       "      <td>btwn30and40</td>\n",
       "      <td>[car, purchas]</td>\n",
       "      <td>car</td>\n",
       "    </tr>\n",
       "    <tr>\n",
       "      <th>2</th>\n",
       "      <td>0</td>\n",
       "      <td>5623</td>\n",
       "      <td>33</td>\n",
       "      <td>secondary education</td>\n",
       "      <td>1</td>\n",
       "      <td>married</td>\n",
       "      <td>0</td>\n",
       "      <td>M</td>\n",
       "      <td>employee</td>\n",
       "      <td>0</td>\n",
       "      <td>23341</td>\n",
       "      <td>purchase of the house</td>\n",
       "      <td>btwn20Kand30K</td>\n",
       "      <td>15.406637</td>\n",
       "      <td>btwn30and40</td>\n",
       "      <td>[purchas, of, the, hous]</td>\n",
       "      <td>real_estate</td>\n",
       "    </tr>\n",
       "    <tr>\n",
       "      <th>3</th>\n",
       "      <td>3</td>\n",
       "      <td>4124</td>\n",
       "      <td>32</td>\n",
       "      <td>secondary education</td>\n",
       "      <td>1</td>\n",
       "      <td>married</td>\n",
       "      <td>0</td>\n",
       "      <td>M</td>\n",
       "      <td>employee</td>\n",
       "      <td>0</td>\n",
       "      <td>-22716</td>\n",
       "      <td>supplementary education</td>\n",
       "      <td>btwn50Kand60K</td>\n",
       "      <td>11.300677</td>\n",
       "      <td>btwn30and40</td>\n",
       "      <td>[supplementari, educ]</td>\n",
       "      <td>education</td>\n",
       "    </tr>\n",
       "    <tr>\n",
       "      <th>4</th>\n",
       "      <td>0</td>\n",
       "      <td>14177</td>\n",
       "      <td>53</td>\n",
       "      <td>secondary education</td>\n",
       "      <td>1</td>\n",
       "      <td>civil partnership</td>\n",
       "      <td>1</td>\n",
       "      <td>F</td>\n",
       "      <td>retiree</td>\n",
       "      <td>0</td>\n",
       "      <td>25378</td>\n",
       "      <td>to have a wedding</td>\n",
       "      <td>btwn20Kand30K</td>\n",
       "      <td>932.235840</td>\n",
       "      <td>btwn50and60</td>\n",
       "      <td>[to, have, a, wed]</td>\n",
       "      <td>wedding</td>\n",
       "    </tr>\n",
       "    <tr>\n",
       "      <th>5</th>\n",
       "      <td>0</td>\n",
       "      <td>926</td>\n",
       "      <td>27</td>\n",
       "      <td>bachelor's degree</td>\n",
       "      <td>0</td>\n",
       "      <td>civil partnership</td>\n",
       "      <td>1</td>\n",
       "      <td>M</td>\n",
       "      <td>business</td>\n",
       "      <td>0</td>\n",
       "      <td>-24614</td>\n",
       "      <td>purchase of the house</td>\n",
       "      <td>btwn50Kand60K</td>\n",
       "      <td>2.537495</td>\n",
       "      <td>btwn20and30</td>\n",
       "      <td>[purchas, of, the, hous]</td>\n",
       "      <td>real_estate</td>\n",
       "    </tr>\n",
       "    <tr>\n",
       "      <th>6</th>\n",
       "      <td>0</td>\n",
       "      <td>2879</td>\n",
       "      <td>43</td>\n",
       "      <td>bachelor's degree</td>\n",
       "      <td>0</td>\n",
       "      <td>married</td>\n",
       "      <td>0</td>\n",
       "      <td>F</td>\n",
       "      <td>business</td>\n",
       "      <td>0</td>\n",
       "      <td>-27052</td>\n",
       "      <td>housing transactions</td>\n",
       "      <td>btwn30Kand40K</td>\n",
       "      <td>7.888225</td>\n",
       "      <td>btwn40and50</td>\n",
       "      <td>[hous, transact]</td>\n",
       "      <td>real_estate</td>\n",
       "    </tr>\n",
       "    <tr>\n",
       "      <th>7</th>\n",
       "      <td>0</td>\n",
       "      <td>152</td>\n",
       "      <td>50</td>\n",
       "      <td>secondary education</td>\n",
       "      <td>1</td>\n",
       "      <td>married</td>\n",
       "      <td>0</td>\n",
       "      <td>M</td>\n",
       "      <td>employee</td>\n",
       "      <td>0</td>\n",
       "      <td>21731</td>\n",
       "      <td>education</td>\n",
       "      <td>btwn20Kand30K</td>\n",
       "      <td>0.418574</td>\n",
       "      <td>btwn50and60</td>\n",
       "      <td>[educ]</td>\n",
       "      <td>education</td>\n",
       "    </tr>\n",
       "    <tr>\n",
       "      <th>8</th>\n",
       "      <td>2</td>\n",
       "      <td>6929</td>\n",
       "      <td>35</td>\n",
       "      <td>bachelor's degree</td>\n",
       "      <td>0</td>\n",
       "      <td>civil partnership</td>\n",
       "      <td>1</td>\n",
       "      <td>F</td>\n",
       "      <td>employee</td>\n",
       "      <td>0</td>\n",
       "      <td>15337</td>\n",
       "      <td>having a wedding</td>\n",
       "      <td>btwn10Kand20K</td>\n",
       "      <td>18.985931</td>\n",
       "      <td>btwn30and40</td>\n",
       "      <td>[have, a, wed]</td>\n",
       "      <td>wedding</td>\n",
       "    </tr>\n",
       "    <tr>\n",
       "      <th>9</th>\n",
       "      <td>0</td>\n",
       "      <td>2188</td>\n",
       "      <td>41</td>\n",
       "      <td>secondary education</td>\n",
       "      <td>1</td>\n",
       "      <td>married</td>\n",
       "      <td>0</td>\n",
       "      <td>M</td>\n",
       "      <td>employee</td>\n",
       "      <td>0</td>\n",
       "      <td>23108</td>\n",
       "      <td>purchase of the house for my family</td>\n",
       "      <td>btwn20Kand30K</td>\n",
       "      <td>5.996593</td>\n",
       "      <td>btwn40and50</td>\n",
       "      <td>[purchas, of, the, hous, for, my, famili]</td>\n",
       "      <td>real_estate</td>\n",
       "    </tr>\n",
       "  </tbody>\n",
       "</table>\n",
       "</div>"
      ],
      "text/plain": [
       "   children  days_employed  dob_years            education  education_id  \\\n",
       "0         1           8437         42    bachelor's degree             0   \n",
       "1         1           4024         36  secondary education             1   \n",
       "2         0           5623         33  secondary education             1   \n",
       "3         3           4124         32  secondary education             1   \n",
       "4         0          14177         53  secondary education             1   \n",
       "5         0            926         27    bachelor's degree             0   \n",
       "6         0           2879         43    bachelor's degree             0   \n",
       "7         0            152         50  secondary education             1   \n",
       "8         2           6929         35    bachelor's degree             0   \n",
       "9         0           2188         41  secondary education             1   \n",
       "\n",
       "       family_status  family_status_id gender income_type  debt  total_income  \\\n",
       "0            married                 0      F    employee     0        -24916   \n",
       "1            married                 0      F    employee     0         17932   \n",
       "2            married                 0      M    employee     0         23341   \n",
       "3            married                 0      M    employee     0        -22716   \n",
       "4  civil partnership                 1      F     retiree     0         25378   \n",
       "5  civil partnership                 1      M    business     0        -24614   \n",
       "6            married                 0      F    business     0        -27052   \n",
       "7            married                 0      M    employee     0         21731   \n",
       "8  civil partnership                 1      F    employee     0         15337   \n",
       "9            married                 0      M    employee     0         23108   \n",
       "\n",
       "                               purpose   income_level  years_employed  \\\n",
       "0                purchase of the house  btwn50Kand60K       23.116913   \n",
       "1                         car purchase  btwn10Kand20K       11.026859   \n",
       "2                purchase of the house  btwn20Kand30K       15.406637   \n",
       "3              supplementary education  btwn50Kand60K       11.300677   \n",
       "4                    to have a wedding  btwn20Kand30K      932.235840   \n",
       "5                purchase of the house  btwn50Kand60K        2.537495   \n",
       "6                 housing transactions  btwn30Kand40K        7.888225   \n",
       "7                            education  btwn20Kand30K        0.418574   \n",
       "8                     having a wedding  btwn10Kand20K       18.985931   \n",
       "9  purchase of the house for my family  btwn20Kand30K        5.996593   \n",
       "\n",
       "     age_group                              purpose_words  purpose_cat  \n",
       "0  btwn40and50                   [purchas, of, the, hous]  real_estate  \n",
       "1  btwn30and40                             [car, purchas]          car  \n",
       "2  btwn30and40                   [purchas, of, the, hous]  real_estate  \n",
       "3  btwn30and40                      [supplementari, educ]    education  \n",
       "4  btwn50and60                         [to, have, a, wed]      wedding  \n",
       "5  btwn20and30                   [purchas, of, the, hous]  real_estate  \n",
       "6  btwn40and50                           [hous, transact]  real_estate  \n",
       "7  btwn50and60                                     [educ]    education  \n",
       "8  btwn30and40                             [have, a, wed]      wedding  \n",
       "9  btwn40and50  [purchas, of, the, hous, for, my, famili]  real_estate  "
      ]
     },
     "execution_count": 80,
     "metadata": {},
     "output_type": "execute_result"
    }
   ],
   "source": [
    "# use stemming to categorize purpose column\n",
    "from nltk.stem import SnowballStemmer\n",
    "\n",
    "english_stemmer = SnowballStemmer('english')   \n",
    "\n",
    "data['purpose_words'] = data['purpose'].str.split().apply(lambda x: [english_stemmer.stem(y) for y in x])\n",
    "\n",
    "def purpose_group(purpose_words):\n",
    "\n",
    "    if 'wed' in purpose_words:\n",
    "        return 'wedding'\n",
    "    elif 'estat' in purpose_words or 'hous' in purpose_words or 'properti' in purpose_words:\n",
    "        return 'real_estate'\n",
    "    elif 'car' in purpose_words:\n",
    "        return 'car'\n",
    "    else:# 'educ' or 'uni' in purpose_words:\n",
    "        return 'education'\n",
    "    \n",
    "data['purpose_cat'] = data['purpose_words'].apply(purpose_group)\n",
    "data.head(10)"
   ]
  },
  {
   "cell_type": "code",
   "execution_count": 81,
   "metadata": {},
   "outputs": [
    {
     "name": "stdout",
     "output_type": "stream",
     "text": [
      "Purpose        Count\n"
     ]
    },
    {
     "data": {
      "text/plain": [
       "real_estate    10811\n",
       "car             4306\n",
       "education       4013\n",
       "wedding         2324\n",
       "Name: purpose_cat, dtype: int64"
      ]
     },
     "execution_count": 81,
     "metadata": {},
     "output_type": "execute_result"
    }
   ],
   "source": [
    "print('Purpose        Count')\n",
    "data['purpose_cat'].value_counts()"
   ]
  },
  {
   "cell_type": "code",
   "execution_count": 82,
   "metadata": {},
   "outputs": [
    {
     "name": "stdout",
     "output_type": "stream",
     "text": [
      "Total number of purpose values\n"
     ]
    },
    {
     "data": {
      "text/plain": [
       "21454"
      ]
     },
     "execution_count": 82,
     "metadata": {},
     "output_type": "execute_result"
    }
   ],
   "source": [
    "print('Total number of purpose values')\n",
    "len(data['purpose_cat'])"
   ]
  },
  {
   "cell_type": "markdown",
   "metadata": {},
   "source": [
    "### Conclusion"
   ]
  },
  {
   "cell_type": "markdown",
   "metadata": {},
   "source": [
    "1. Duplicate rows increased from 54 to 71 after filling in missing values for total_income, but that is still only 0.33%. Duplicate rows can happen when datasets are merged or through human error.\n",
    "2. Duplicate rows were deleted using drop_duplicates() since it is simple to use. Duplicate removal verified.\n",
    "3. 4 categories (real_estate, car, education, wedding) used to filter purpose column.\n",
    "4. Total number of values verified (each purpose_cat assigned a category)"
   ]
  },
  {
   "cell_type": "markdown",
   "metadata": {},
   "source": [
    "### Categorizing Data"
   ]
  },
  {
   "cell_type": "markdown",
   "metadata": {},
   "source": [
    "Categorizing data stratifies a large collection of values into groups or levels. It is ideal to use when working with age, income, time or anything that could be continuous but needs to be examined in groups.\n",
    "\n",
    "1. Verify total_income properly categorized income_level for both data df and data_median_income df. See section 1.1 for initial categorizing total_income into income_level.\n",
    "2. Categorize children into child_groups.\n",
    "3. See section 1.1 for categorizing dob_years into age_group"
   ]
  },
  {
   "cell_type": "code",
   "execution_count": 83,
   "metadata": {},
   "outputs": [
    {
     "data": {
      "text/plain": [
       "btwn10Kand20K        7220\n",
       "btwn20Kand30K        7082\n",
       "btwn30Kand40K        3414\n",
       "btwn50Kand60K        2140\n",
       "less_than_10K         926\n",
       "btwn60Kand70K         294\n",
       "btwn70Kand80K         156\n",
       "greater_than_100K      99\n",
       "btwn80Kand90K          83\n",
       "btwn90Kand100K         40\n",
       "Name: income_level, dtype: int64"
      ]
     },
     "execution_count": 83,
     "metadata": {},
     "output_type": "execute_result"
    }
   ],
   "source": [
    "# verfiy new column: income_level\n",
    "data['income_level'].value_counts()"
   ]
  },
  {
   "cell_type": "code",
   "execution_count": 84,
   "metadata": {},
   "outputs": [
    {
     "data": {
      "text/plain": [
       "btwn20Kand30K        8237\n",
       "btwn10Kand20K        6443\n",
       "btwn30Kand40K        3107\n",
       "btwn50Kand60K        2140\n",
       "less_than_10K         926\n",
       "btwn60Kand70K         294\n",
       "btwn70Kand80K         156\n",
       "greater_than_100K      99\n",
       "btwn80Kand90K          83\n",
       "btwn90Kand100K         40\n",
       "Name: income_level, dtype: int64"
      ]
     },
     "execution_count": 84,
     "metadata": {},
     "output_type": "execute_result"
    }
   ],
   "source": [
    "# verfiy new column: income_level\n",
    "data_median_income['income_level'].value_counts()"
   ]
  },
  {
   "cell_type": "code",
   "execution_count": 85,
   "metadata": {},
   "outputs": [
    {
     "data": {
      "text/plain": [
       " 0     14091\n",
       " 1      4808\n",
       " 2      2052\n",
       " 3       330\n",
       " 20       76\n",
       "-1        47\n",
       " 4        41\n",
       " 5         9\n",
       "Name: children, dtype: int64"
      ]
     },
     "execution_count": 85,
     "metadata": {},
     "output_type": "execute_result"
    }
   ],
   "source": [
    "# create new column based on no children, 1 child, 2 or more children\n",
    "# first investigate problem values\n",
    "data['children'].value_counts()"
   ]
  },
  {
   "cell_type": "code",
   "execution_count": 86,
   "metadata": {},
   "outputs": [
    {
     "name": "stdout",
     "output_type": "stream",
     "text": [
      "Percent of erroneous values (-1)\n",
      "0.0021907336627202388\n"
     ]
    }
   ],
   "source": [
    "# calculate percentage of problem values (-1)\n",
    "print('Percent of erroneous values (-1)')\n",
    "print(47/21454)"
   ]
  },
  {
   "cell_type": "code",
   "execution_count": 87,
   "metadata": {},
   "outputs": [],
   "source": [
    "# change the -1 values to 1 \n",
    "data.loc[data['children'] < 0, ['children']] = 1"
   ]
  },
  {
   "cell_type": "code",
   "execution_count": 88,
   "metadata": {},
   "outputs": [
    {
     "name": "stdout",
     "output_type": "stream",
     "text": [
      "Percent of likely erroneous values (20)\n",
      "0.003542462943973152\n"
     ]
    }
   ],
   "source": [
    "# calculate percentage of problem values (20)\n",
    "print('Percent of likely erroneous values (20)')\n",
    "print(76/21454)"
   ]
  },
  {
   "cell_type": "code",
   "execution_count": 89,
   "metadata": {},
   "outputs": [],
   "source": [
    "# change the -1 values to 1 \n",
    "data.loc[data['children'] == 20, ['children']] = 2"
   ]
  },
  {
   "cell_type": "code",
   "execution_count": 90,
   "metadata": {},
   "outputs": [
    {
     "data": {
      "text/plain": [
       "0    14091\n",
       "1     4855\n",
       "2     2128\n",
       "3      330\n",
       "4       41\n",
       "5        9\n",
       "Name: children, dtype: int64"
      ]
     },
     "execution_count": 90,
     "metadata": {},
     "output_type": "execute_result"
    }
   ],
   "source": [
    "data['children'].value_counts()"
   ]
  },
  {
   "cell_type": "markdown",
   "metadata": {},
   "source": [
    "Replaced likely erroneous values (1 for -1) and (2 for 20)."
   ]
  },
  {
   "cell_type": "code",
   "execution_count": 91,
   "metadata": {},
   "outputs": [
    {
     "name": "stdout",
     "output_type": "stream",
     "text": [
      "New categories for child groups\n"
     ]
    },
    {
     "data": {
      "text/plain": [
       "no children           14091\n",
       "1 child                4855\n",
       "2 or more children     2508\n",
       "Name: child_groups, dtype: int64"
      ]
     },
     "execution_count": 91,
     "metadata": {},
     "output_type": "execute_result"
    }
   ],
   "source": [
    "# create a new function, children_fx\n",
    "def children_fx(row):\n",
    "    # the income_level is returned according to total_income\n",
    "    child = row['children']\n",
    "    \n",
    "    if child == 0:\n",
    "        return 'no children'\n",
    "    if child == 1:\n",
    "        return '1 child'\n",
    "    else:\n",
    "        return '2 or more children'\n",
    "    \n",
    "# create a new column, income_level, based on total_income\n",
    "data['child_groups'] = data.apply(children_fx, axis=1)\n",
    "print('New categories for child groups')\n",
    "data['child_groups'].value_counts()"
   ]
  },
  {
   "cell_type": "code",
   "execution_count": 92,
   "metadata": {},
   "outputs": [
    {
     "data": {
      "text/html": [
       "<div>\n",
       "<style scoped>\n",
       "    .dataframe tbody tr th:only-of-type {\n",
       "        vertical-align: middle;\n",
       "    }\n",
       "\n",
       "    .dataframe tbody tr th {\n",
       "        vertical-align: top;\n",
       "    }\n",
       "\n",
       "    .dataframe thead th {\n",
       "        text-align: right;\n",
       "    }\n",
       "</style>\n",
       "<table border=\"1\" class=\"dataframe\">\n",
       "  <thead>\n",
       "    <tr style=\"text-align: right;\">\n",
       "      <th></th>\n",
       "      <th>children</th>\n",
       "      <th>days_employed</th>\n",
       "      <th>dob_years</th>\n",
       "      <th>education</th>\n",
       "      <th>education_id</th>\n",
       "      <th>family_status</th>\n",
       "      <th>family_status_id</th>\n",
       "      <th>gender</th>\n",
       "      <th>income_type</th>\n",
       "      <th>debt</th>\n",
       "      <th>total_income</th>\n",
       "      <th>purpose</th>\n",
       "      <th>income_level</th>\n",
       "      <th>years_employed</th>\n",
       "      <th>age_group</th>\n",
       "      <th>purpose_words</th>\n",
       "      <th>purpose_cat</th>\n",
       "      <th>child_groups</th>\n",
       "    </tr>\n",
       "  </thead>\n",
       "  <tbody>\n",
       "    <tr>\n",
       "      <th>0</th>\n",
       "      <td>1</td>\n",
       "      <td>8437</td>\n",
       "      <td>42</td>\n",
       "      <td>bachelor's degree</td>\n",
       "      <td>0</td>\n",
       "      <td>married</td>\n",
       "      <td>0</td>\n",
       "      <td>F</td>\n",
       "      <td>employee</td>\n",
       "      <td>0</td>\n",
       "      <td>-24916</td>\n",
       "      <td>purchase of the house</td>\n",
       "      <td>btwn50Kand60K</td>\n",
       "      <td>23.116913</td>\n",
       "      <td>btwn40and50</td>\n",
       "      <td>[purchas, of, the, hous]</td>\n",
       "      <td>real_estate</td>\n",
       "      <td>1 child</td>\n",
       "    </tr>\n",
       "    <tr>\n",
       "      <th>1</th>\n",
       "      <td>1</td>\n",
       "      <td>4024</td>\n",
       "      <td>36</td>\n",
       "      <td>secondary education</td>\n",
       "      <td>1</td>\n",
       "      <td>married</td>\n",
       "      <td>0</td>\n",
       "      <td>F</td>\n",
       "      <td>employee</td>\n",
       "      <td>0</td>\n",
       "      <td>17932</td>\n",
       "      <td>car purchase</td>\n",
       "      <td>btwn10Kand20K</td>\n",
       "      <td>11.026859</td>\n",
       "      <td>btwn30and40</td>\n",
       "      <td>[car, purchas]</td>\n",
       "      <td>car</td>\n",
       "      <td>1 child</td>\n",
       "    </tr>\n",
       "    <tr>\n",
       "      <th>2</th>\n",
       "      <td>0</td>\n",
       "      <td>5623</td>\n",
       "      <td>33</td>\n",
       "      <td>secondary education</td>\n",
       "      <td>1</td>\n",
       "      <td>married</td>\n",
       "      <td>0</td>\n",
       "      <td>M</td>\n",
       "      <td>employee</td>\n",
       "      <td>0</td>\n",
       "      <td>23341</td>\n",
       "      <td>purchase of the house</td>\n",
       "      <td>btwn20Kand30K</td>\n",
       "      <td>15.406637</td>\n",
       "      <td>btwn30and40</td>\n",
       "      <td>[purchas, of, the, hous]</td>\n",
       "      <td>real_estate</td>\n",
       "      <td>no children</td>\n",
       "    </tr>\n",
       "    <tr>\n",
       "      <th>3</th>\n",
       "      <td>3</td>\n",
       "      <td>4124</td>\n",
       "      <td>32</td>\n",
       "      <td>secondary education</td>\n",
       "      <td>1</td>\n",
       "      <td>married</td>\n",
       "      <td>0</td>\n",
       "      <td>M</td>\n",
       "      <td>employee</td>\n",
       "      <td>0</td>\n",
       "      <td>-22716</td>\n",
       "      <td>supplementary education</td>\n",
       "      <td>btwn50Kand60K</td>\n",
       "      <td>11.300677</td>\n",
       "      <td>btwn30and40</td>\n",
       "      <td>[supplementari, educ]</td>\n",
       "      <td>education</td>\n",
       "      <td>2 or more children</td>\n",
       "    </tr>\n",
       "    <tr>\n",
       "      <th>4</th>\n",
       "      <td>0</td>\n",
       "      <td>14177</td>\n",
       "      <td>53</td>\n",
       "      <td>secondary education</td>\n",
       "      <td>1</td>\n",
       "      <td>civil partnership</td>\n",
       "      <td>1</td>\n",
       "      <td>F</td>\n",
       "      <td>retiree</td>\n",
       "      <td>0</td>\n",
       "      <td>25378</td>\n",
       "      <td>to have a wedding</td>\n",
       "      <td>btwn20Kand30K</td>\n",
       "      <td>932.235840</td>\n",
       "      <td>btwn50and60</td>\n",
       "      <td>[to, have, a, wed]</td>\n",
       "      <td>wedding</td>\n",
       "      <td>no children</td>\n",
       "    </tr>\n",
       "  </tbody>\n",
       "</table>\n",
       "</div>"
      ],
      "text/plain": [
       "   children  days_employed  dob_years            education  education_id  \\\n",
       "0         1           8437         42    bachelor's degree             0   \n",
       "1         1           4024         36  secondary education             1   \n",
       "2         0           5623         33  secondary education             1   \n",
       "3         3           4124         32  secondary education             1   \n",
       "4         0          14177         53  secondary education             1   \n",
       "\n",
       "       family_status  family_status_id gender income_type  debt  total_income  \\\n",
       "0            married                 0      F    employee     0        -24916   \n",
       "1            married                 0      F    employee     0         17932   \n",
       "2            married                 0      M    employee     0         23341   \n",
       "3            married                 0      M    employee     0        -22716   \n",
       "4  civil partnership                 1      F     retiree     0         25378   \n",
       "\n",
       "                   purpose   income_level  years_employed    age_group  \\\n",
       "0    purchase of the house  btwn50Kand60K       23.116913  btwn40and50   \n",
       "1             car purchase  btwn10Kand20K       11.026859  btwn30and40   \n",
       "2    purchase of the house  btwn20Kand30K       15.406637  btwn30and40   \n",
       "3  supplementary education  btwn50Kand60K       11.300677  btwn30and40   \n",
       "4        to have a wedding  btwn20Kand30K      932.235840  btwn50and60   \n",
       "\n",
       "              purpose_words  purpose_cat        child_groups  \n",
       "0  [purchas, of, the, hous]  real_estate             1 child  \n",
       "1            [car, purchas]          car             1 child  \n",
       "2  [purchas, of, the, hous]  real_estate         no children  \n",
       "3     [supplementari, educ]    education  2 or more children  \n",
       "4        [to, have, a, wed]      wedding         no children  "
      ]
     },
     "execution_count": 92,
     "metadata": {},
     "output_type": "execute_result"
    }
   ],
   "source": [
    "# verify child_groups added \n",
    "data.head()"
   ]
  },
  {
   "cell_type": "code",
   "execution_count": 93,
   "metadata": {},
   "outputs": [
    {
     "name": "stdout",
     "output_type": "stream",
     "text": [
      "Total number of entries\n"
     ]
    },
    {
     "data": {
      "text/plain": [
       "21454"
      ]
     },
     "execution_count": 93,
     "metadata": {},
     "output_type": "execute_result"
    }
   ],
   "source": [
    "# verify no missing values\n",
    "print('Total number of entries')\n",
    "data['child_groups'].count()"
   ]
  },
  {
   "cell_type": "markdown",
   "metadata": {},
   "source": [
    "### Conclusion"
   ]
  },
  {
   "cell_type": "markdown",
   "metadata": {},
   "source": [
    "1. income_level verfied for both data df and data_median_income df. \n",
    "2. Replaced -1 and 20 values in children, grouped into 3 categories in child_groups. Verified no missing values."
   ]
  },
  {
   "cell_type": "markdown",
   "metadata": {},
   "source": [
    "At this point, clean up df and get rid of cols not used"
   ]
  },
  {
   "cell_type": "code",
   "execution_count": 94,
   "metadata": {},
   "outputs": [
    {
     "data": {
      "text/html": [
       "<div>\n",
       "<style scoped>\n",
       "    .dataframe tbody tr th:only-of-type {\n",
       "        vertical-align: middle;\n",
       "    }\n",
       "\n",
       "    .dataframe tbody tr th {\n",
       "        vertical-align: top;\n",
       "    }\n",
       "\n",
       "    .dataframe thead th {\n",
       "        text-align: right;\n",
       "    }\n",
       "</style>\n",
       "<table border=\"1\" class=\"dataframe\">\n",
       "  <thead>\n",
       "    <tr style=\"text-align: right;\">\n",
       "      <th></th>\n",
       "      <th>children</th>\n",
       "      <th>education</th>\n",
       "      <th>family_status</th>\n",
       "      <th>gender</th>\n",
       "      <th>income_type</th>\n",
       "      <th>debt</th>\n",
       "      <th>total_income</th>\n",
       "      <th>purpose</th>\n",
       "      <th>income_level</th>\n",
       "      <th>age_group</th>\n",
       "      <th>purpose_cat</th>\n",
       "      <th>child_groups</th>\n",
       "    </tr>\n",
       "  </thead>\n",
       "  <tbody>\n",
       "    <tr>\n",
       "      <th>0</th>\n",
       "      <td>1</td>\n",
       "      <td>bachelor's degree</td>\n",
       "      <td>married</td>\n",
       "      <td>F</td>\n",
       "      <td>employee</td>\n",
       "      <td>0</td>\n",
       "      <td>-24916</td>\n",
       "      <td>purchase of the house</td>\n",
       "      <td>btwn50Kand60K</td>\n",
       "      <td>btwn40and50</td>\n",
       "      <td>real_estate</td>\n",
       "      <td>1 child</td>\n",
       "    </tr>\n",
       "    <tr>\n",
       "      <th>1</th>\n",
       "      <td>1</td>\n",
       "      <td>secondary education</td>\n",
       "      <td>married</td>\n",
       "      <td>F</td>\n",
       "      <td>employee</td>\n",
       "      <td>0</td>\n",
       "      <td>17932</td>\n",
       "      <td>car purchase</td>\n",
       "      <td>btwn10Kand20K</td>\n",
       "      <td>btwn30and40</td>\n",
       "      <td>car</td>\n",
       "      <td>1 child</td>\n",
       "    </tr>\n",
       "    <tr>\n",
       "      <th>2</th>\n",
       "      <td>0</td>\n",
       "      <td>secondary education</td>\n",
       "      <td>married</td>\n",
       "      <td>M</td>\n",
       "      <td>employee</td>\n",
       "      <td>0</td>\n",
       "      <td>23341</td>\n",
       "      <td>purchase of the house</td>\n",
       "      <td>btwn20Kand30K</td>\n",
       "      <td>btwn30and40</td>\n",
       "      <td>real_estate</td>\n",
       "      <td>no children</td>\n",
       "    </tr>\n",
       "    <tr>\n",
       "      <th>3</th>\n",
       "      <td>3</td>\n",
       "      <td>secondary education</td>\n",
       "      <td>married</td>\n",
       "      <td>M</td>\n",
       "      <td>employee</td>\n",
       "      <td>0</td>\n",
       "      <td>-22716</td>\n",
       "      <td>supplementary education</td>\n",
       "      <td>btwn50Kand60K</td>\n",
       "      <td>btwn30and40</td>\n",
       "      <td>education</td>\n",
       "      <td>2 or more children</td>\n",
       "    </tr>\n",
       "    <tr>\n",
       "      <th>4</th>\n",
       "      <td>0</td>\n",
       "      <td>secondary education</td>\n",
       "      <td>civil partnership</td>\n",
       "      <td>F</td>\n",
       "      <td>retiree</td>\n",
       "      <td>0</td>\n",
       "      <td>25378</td>\n",
       "      <td>to have a wedding</td>\n",
       "      <td>btwn20Kand30K</td>\n",
       "      <td>btwn50and60</td>\n",
       "      <td>wedding</td>\n",
       "      <td>no children</td>\n",
       "    </tr>\n",
       "  </tbody>\n",
       "</table>\n",
       "</div>"
      ],
      "text/plain": [
       "   children            education      family_status gender income_type  debt  \\\n",
       "0         1    bachelor's degree            married      F    employee     0   \n",
       "1         1  secondary education            married      F    employee     0   \n",
       "2         0  secondary education            married      M    employee     0   \n",
       "3         3  secondary education            married      M    employee     0   \n",
       "4         0  secondary education  civil partnership      F     retiree     0   \n",
       "\n",
       "   total_income                  purpose   income_level    age_group  \\\n",
       "0        -24916    purchase of the house  btwn50Kand60K  btwn40and50   \n",
       "1         17932             car purchase  btwn10Kand20K  btwn30and40   \n",
       "2         23341    purchase of the house  btwn20Kand30K  btwn30and40   \n",
       "3        -22716  supplementary education  btwn50Kand60K  btwn30and40   \n",
       "4         25378        to have a wedding  btwn20Kand30K  btwn50and60   \n",
       "\n",
       "   purpose_cat        child_groups  \n",
       "0  real_estate             1 child  \n",
       "1          car             1 child  \n",
       "2  real_estate         no children  \n",
       "3    education  2 or more children  \n",
       "4      wedding         no children  "
      ]
     },
     "execution_count": 94,
     "metadata": {},
     "output_type": "execute_result"
    }
   ],
   "source": [
    "# remove days_employed and years_employed columns\n",
    "del data['days_employed'] \n",
    "del data['years_employed']\n",
    "del data['dob_years']\n",
    "del data['purpose_words']\n",
    "del data['education_id']\n",
    "del data['family_status_id']\n",
    "data.head()"
   ]
  },
  {
   "cell_type": "markdown",
   "metadata": {},
   "source": [
    "## Answer these questions"
   ]
  },
  {
   "cell_type": "markdown",
   "metadata": {},
   "source": [
    "- Is there a relation between having kids and repaying a loan on time?"
   ]
  },
  {
   "cell_type": "code",
   "execution_count": 95,
   "metadata": {},
   "outputs": [],
   "source": [
    "# create a formatting rule for ease of visualization\n",
    "def format_float(value):\n",
    "    value = value*100\n",
    "    return f'{value:,.2f}%'\n",
    "pd.options.display.float_format = format_float"
   ]
  },
  {
   "cell_type": "code",
   "execution_count": 96,
   "metadata": {},
   "outputs": [
    {
     "name": "stdout",
     "output_type": "stream",
     "text": [
      "Pecentage of applicants with a history of default\n"
     ]
    },
    {
     "data": {
      "text/html": [
       "<div>\n",
       "<style scoped>\n",
       "    .dataframe tbody tr th:only-of-type {\n",
       "        vertical-align: middle;\n",
       "    }\n",
       "\n",
       "    .dataframe tbody tr th {\n",
       "        vertical-align: top;\n",
       "    }\n",
       "\n",
       "    .dataframe thead th {\n",
       "        text-align: right;\n",
       "    }\n",
       "</style>\n",
       "<table border=\"1\" class=\"dataframe\">\n",
       "  <thead>\n",
       "    <tr style=\"text-align: right;\">\n",
       "      <th>child_groups</th>\n",
       "      <th>1 child</th>\n",
       "      <th>2 or more children</th>\n",
       "      <th>no children</th>\n",
       "    </tr>\n",
       "  </thead>\n",
       "  <tbody>\n",
       "    <tr>\n",
       "      <th>debt</th>\n",
       "      <td>9.17%</td>\n",
       "      <td>9.29%</td>\n",
       "      <td>7.54%</td>\n",
       "    </tr>\n",
       "  </tbody>\n",
       "</table>\n",
       "</div>"
      ],
      "text/plain": [
       "child_groups  1 child  2 or more children  no children\n",
       "debt            9.17%               9.29%        7.54%"
      ]
     },
     "execution_count": 96,
     "metadata": {},
     "output_type": "execute_result"
    }
   ],
   "source": [
    "# create pivot table with percents per child group category\n",
    "print('Pecentage of applicants with a history of default')\n",
    "data.pivot_table(values=['debt'], columns=['child_groups'])"
   ]
  },
  {
   "cell_type": "markdown",
   "metadata": {},
   "source": [
    "### Conclusion"
   ]
  },
  {
   "cell_type": "markdown",
   "metadata": {},
   "source": [
    "Yes, there is a clear relationship between debt and no children versus debt and any children. Only 7.54% of applicants without a child defaulted, while appliants with 1 or more children defaulted at a rate of 9.17% to 9.29%. Therefore, a applicant with a child may pose a greater default risk."
   ]
  },
  {
   "cell_type": "markdown",
   "metadata": {},
   "source": [
    "- Is there a relation between marital status and repaying a loan on time?"
   ]
  },
  {
   "cell_type": "code",
   "execution_count": 97,
   "metadata": {},
   "outputs": [
    {
     "name": "stdout",
     "output_type": "stream",
     "text": [
      "Pecentage of applicants with a history of default\n"
     ]
    },
    {
     "data": {
      "text/html": [
       "<div>\n",
       "<style scoped>\n",
       "    .dataframe tbody tr th:only-of-type {\n",
       "        vertical-align: middle;\n",
       "    }\n",
       "\n",
       "    .dataframe tbody tr th {\n",
       "        vertical-align: top;\n",
       "    }\n",
       "\n",
       "    .dataframe thead th {\n",
       "        text-align: right;\n",
       "    }\n",
       "</style>\n",
       "<table border=\"1\" class=\"dataframe\">\n",
       "  <thead>\n",
       "    <tr style=\"text-align: right;\">\n",
       "      <th>family_status</th>\n",
       "      <th>civil partnership</th>\n",
       "      <th>divorced</th>\n",
       "      <th>married</th>\n",
       "      <th>unmarried</th>\n",
       "      <th>widow / widower</th>\n",
       "    </tr>\n",
       "  </thead>\n",
       "  <tbody>\n",
       "    <tr>\n",
       "      <th>debt</th>\n",
       "      <td>9.35%</td>\n",
       "      <td>7.11%</td>\n",
       "      <td>7.55%</td>\n",
       "      <td>9.75%</td>\n",
       "      <td>6.57%</td>\n",
       "    </tr>\n",
       "  </tbody>\n",
       "</table>\n",
       "</div>"
      ],
      "text/plain": [
       "family_status  civil partnership  divorced  married  unmarried  \\\n",
       "debt                       9.35%     7.11%    7.55%      9.75%   \n",
       "\n",
       "family_status  widow / widower  \n",
       "debt                     6.57%  "
      ]
     },
     "execution_count": 97,
     "metadata": {},
     "output_type": "execute_result"
    }
   ],
   "source": [
    "# create pivot table with percents per marital status category\n",
    "print('Pecentage of applicants with a history of default')\n",
    "data.pivot_table(values=['debt'], columns=['family_status'])"
   ]
  },
  {
   "cell_type": "markdown",
   "metadata": {},
   "source": [
    "### Conclusion"
   ]
  },
  {
   "cell_type": "markdown",
   "metadata": {},
   "source": [
    "Yes, there are differences in default history amoung applicants with different family status. Widowers pose the best risk, as only 6.57% of them defaulted on a loan in the past. Both married and divorced applicants pose a moderate risk (between 7.11% and 7.55% defaulted in the past). The biggest risk is for unmarried applicants (9.75%) and those in civil partnerships (9.35%). Therefore, appliants who are unmarried or in a civil partnership may pose the greatest default risk."
   ]
  },
  {
   "cell_type": "markdown",
   "metadata": {},
   "source": [
    "- Is there a relation between income level and repaying a loan on time?"
   ]
  },
  {
   "cell_type": "code",
   "execution_count": 98,
   "metadata": {},
   "outputs": [
    {
     "name": "stdout",
     "output_type": "stream",
     "text": [
      "Pecentage of applicants with a history of default\n",
      "for per income level where missing values replaced\n",
      "based on gender, education level, and income type.\n"
     ]
    },
    {
     "data": {
      "text/html": [
       "<div>\n",
       "<style scoped>\n",
       "    .dataframe tbody tr th:only-of-type {\n",
       "        vertical-align: middle;\n",
       "    }\n",
       "\n",
       "    .dataframe tbody tr th {\n",
       "        vertical-align: top;\n",
       "    }\n",
       "\n",
       "    .dataframe thead th {\n",
       "        text-align: right;\n",
       "    }\n",
       "</style>\n",
       "<table border=\"1\" class=\"dataframe\">\n",
       "  <thead>\n",
       "    <tr style=\"text-align: right;\">\n",
       "      <th>income_level</th>\n",
       "      <th>btwn10Kand20K</th>\n",
       "      <th>btwn20Kand30K</th>\n",
       "      <th>btwn30Kand40K</th>\n",
       "      <th>btwn50Kand60K</th>\n",
       "      <th>btwn60Kand70K</th>\n",
       "      <th>btwn70Kand80K</th>\n",
       "      <th>btwn80Kand90K</th>\n",
       "      <th>btwn90Kand100K</th>\n",
       "      <th>greater_than_100K</th>\n",
       "      <th>less_than_10K</th>\n",
       "    </tr>\n",
       "  </thead>\n",
       "  <tbody>\n",
       "    <tr>\n",
       "      <th>debt</th>\n",
       "      <td>8.50%</td>\n",
       "      <td>8.75%</td>\n",
       "      <td>7.47%</td>\n",
       "      <td>7.29%</td>\n",
       "      <td>5.44%</td>\n",
       "      <td>5.13%</td>\n",
       "      <td>7.23%</td>\n",
       "      <td>5.00%</td>\n",
       "      <td>6.06%</td>\n",
       "      <td>6.26%</td>\n",
       "    </tr>\n",
       "  </tbody>\n",
       "</table>\n",
       "</div>"
      ],
      "text/plain": [
       "income_level  btwn10Kand20K  btwn20Kand30K  btwn30Kand40K  btwn50Kand60K  \\\n",
       "debt                  8.50%          8.75%          7.47%          7.29%   \n",
       "\n",
       "income_level  btwn60Kand70K  btwn70Kand80K  btwn80Kand90K  btwn90Kand100K  \\\n",
       "debt                  5.44%          5.13%          7.23%           5.00%   \n",
       "\n",
       "income_level  greater_than_100K  less_than_10K  \n",
       "debt                      6.06%          6.26%  "
      ]
     },
     "execution_count": 98,
     "metadata": {},
     "output_type": "execute_result"
    }
   ],
   "source": [
    "# create pivot table with percents per income level category\n",
    "print('Pecentage of applicants with a history of default')\n",
    "print('for per income level where missing values replaced')\n",
    "print('based on gender, education level, and income type.')\n",
    "data.pivot_table(values=['debt'], columns=['income_level'])"
   ]
  },
  {
   "cell_type": "code",
   "execution_count": 99,
   "metadata": {},
   "outputs": [
    {
     "name": "stdout",
     "output_type": "stream",
     "text": [
      "Pecentage of applicants with a history of default\n",
      "for per income level (where missing values replaced\n",
      "by median value\n"
     ]
    },
    {
     "data": {
      "text/html": [
       "<div>\n",
       "<style scoped>\n",
       "    .dataframe tbody tr th:only-of-type {\n",
       "        vertical-align: middle;\n",
       "    }\n",
       "\n",
       "    .dataframe tbody tr th {\n",
       "        vertical-align: top;\n",
       "    }\n",
       "\n",
       "    .dataframe thead th {\n",
       "        text-align: right;\n",
       "    }\n",
       "</style>\n",
       "<table border=\"1\" class=\"dataframe\">\n",
       "  <thead>\n",
       "    <tr style=\"text-align: right;\">\n",
       "      <th>income_level</th>\n",
       "      <th>btwn10Kand20K</th>\n",
       "      <th>btwn20Kand30K</th>\n",
       "      <th>btwn30Kand40K</th>\n",
       "      <th>btwn50Kand60K</th>\n",
       "      <th>btwn60Kand70K</th>\n",
       "      <th>btwn70Kand80K</th>\n",
       "      <th>btwn80Kand90K</th>\n",
       "      <th>btwn90Kand100K</th>\n",
       "      <th>greater_than_100K</th>\n",
       "      <th>less_than_10K</th>\n",
       "    </tr>\n",
       "  </thead>\n",
       "  <tbody>\n",
       "    <tr>\n",
       "      <th>debt</th>\n",
       "      <td>8.54%</td>\n",
       "      <td>8.46%</td>\n",
       "      <td>7.79%</td>\n",
       "      <td>7.29%</td>\n",
       "      <td>5.44%</td>\n",
       "      <td>5.13%</td>\n",
       "      <td>7.23%</td>\n",
       "      <td>5.00%</td>\n",
       "      <td>6.06%</td>\n",
       "      <td>6.26%</td>\n",
       "    </tr>\n",
       "  </tbody>\n",
       "</table>\n",
       "</div>"
      ],
      "text/plain": [
       "income_level  btwn10Kand20K  btwn20Kand30K  btwn30Kand40K  btwn50Kand60K  \\\n",
       "debt                  8.54%          8.46%          7.79%          7.29%   \n",
       "\n",
       "income_level  btwn60Kand70K  btwn70Kand80K  btwn80Kand90K  btwn90Kand100K  \\\n",
       "debt                  5.44%          5.13%          7.23%           5.00%   \n",
       "\n",
       "income_level  greater_than_100K  less_than_10K  \n",
       "debt                      6.06%          6.26%  "
      ]
     },
     "execution_count": 99,
     "metadata": {},
     "output_type": "execute_result"
    }
   ],
   "source": [
    "# create pivot table with percents per income level category\n",
    "print('Pecentage of applicants with a history of default')\n",
    "print('for per income level (where missing values replaced')\n",
    "print('by median value')\n",
    "data_median_income.pivot_table(values=['debt'], columns=['income_level'])"
   ]
  },
  {
   "cell_type": "markdown",
   "metadata": {},
   "source": [
    "### Conclusion"
   ]
  },
  {
   "cell_type": "markdown",
   "metadata": {},
   "source": [
    "Interestingly, the percentages for both df (the one where 1 median value replaced all missing values and the one where gender, education level, and income type guided replacement values) are very similar.\n",
    "\n",
    "Yes, there does seem to be a general trend where the higher the income, the less likely an applicant has defaulted in the past. Those making below60K demonstrate a clear trend towards higher risk as the income drops (7.29%, 7.79%, 8.46%, and then 8.54% for those making less than 20K. The upper half (greater than 60K) defaulted at a rate between 5.13% and 7.23%). Overall, those applicants earning less than 60K may need greater scrutiny as there is a higher likelyhood that they defaulted in the past."
   ]
  },
  {
   "cell_type": "markdown",
   "metadata": {},
   "source": [
    "- How do different loan purposes affect on-time repayment of the loan?"
   ]
  },
  {
   "cell_type": "code",
   "execution_count": 100,
   "metadata": {},
   "outputs": [
    {
     "name": "stdout",
     "output_type": "stream",
     "text": [
      "Pecentage of applicants with a history of default\n"
     ]
    },
    {
     "data": {
      "text/html": [
       "<div>\n",
       "<style scoped>\n",
       "    .dataframe tbody tr th:only-of-type {\n",
       "        vertical-align: middle;\n",
       "    }\n",
       "\n",
       "    .dataframe tbody tr th {\n",
       "        vertical-align: top;\n",
       "    }\n",
       "\n",
       "    .dataframe thead th {\n",
       "        text-align: right;\n",
       "    }\n",
       "</style>\n",
       "<table border=\"1\" class=\"dataframe\">\n",
       "  <thead>\n",
       "    <tr style=\"text-align: right;\">\n",
       "      <th>purpose_cat</th>\n",
       "      <th>car</th>\n",
       "      <th>education</th>\n",
       "      <th>real_estate</th>\n",
       "      <th>wedding</th>\n",
       "    </tr>\n",
       "  </thead>\n",
       "  <tbody>\n",
       "    <tr>\n",
       "      <th>debt</th>\n",
       "      <td>9.36%</td>\n",
       "      <td>9.22%</td>\n",
       "      <td>7.23%</td>\n",
       "      <td>8.00%</td>\n",
       "    </tr>\n",
       "  </tbody>\n",
       "</table>\n",
       "</div>"
      ],
      "text/plain": [
       "purpose_cat   car  education  real_estate  wedding\n",
       "debt        9.36%      9.22%        7.23%    8.00%"
      ]
     },
     "execution_count": 100,
     "metadata": {},
     "output_type": "execute_result"
    }
   ],
   "source": [
    "# create pivot table with percents per purpose category\n",
    "print('Pecentage of applicants with a history of default')\n",
    "data.pivot_table(values=['debt'], columns=['purpose_cat'])"
   ]
  },
  {
   "cell_type": "markdown",
   "metadata": {},
   "source": [
    "### Conclusion"
   ]
  },
  {
   "cell_type": "markdown",
   "metadata": {},
   "source": [
    "Yes, once again there is a relationship between the purpose of the loan and a history of default. Applicants wishing to purchase a car have the greatest historical defalut rate (9.36%), followed by those who want money for education (9.22%). Applicants looking to buy real estate pose the least risk, as only 7.23% defaulted in the past.\n"
   ]
  },
  {
   "cell_type": "markdown",
   "metadata": {},
   "source": [
    "Investigate other columns for potential relationships to guide future analysis."
   ]
  },
  {
   "cell_type": "code",
   "execution_count": 101,
   "metadata": {},
   "outputs": [
    {
     "name": "stdout",
     "output_type": "stream",
     "text": [
      "Pecentage of applicants with a history of default\n"
     ]
    },
    {
     "data": {
      "text/html": [
       "<div>\n",
       "<style scoped>\n",
       "    .dataframe tbody tr th:only-of-type {\n",
       "        vertical-align: middle;\n",
       "    }\n",
       "\n",
       "    .dataframe tbody tr th {\n",
       "        vertical-align: top;\n",
       "    }\n",
       "\n",
       "    .dataframe thead th {\n",
       "        text-align: right;\n",
       "    }\n",
       "</style>\n",
       "<table border=\"1\" class=\"dataframe\">\n",
       "  <thead>\n",
       "    <tr style=\"text-align: right;\">\n",
       "      <th>age_group</th>\n",
       "      <th>btwn20and30</th>\n",
       "      <th>btwn30and40</th>\n",
       "      <th>btwn40and50</th>\n",
       "      <th>btwn50and60</th>\n",
       "      <th>btwn60and70</th>\n",
       "      <th>less_than_20</th>\n",
       "      <th>over_equal70</th>\n",
       "    </tr>\n",
       "  </thead>\n",
       "  <tbody>\n",
       "    <tr>\n",
       "      <th>debt</th>\n",
       "      <td>10.99%</td>\n",
       "      <td>9.75%</td>\n",
       "      <td>7.55%</td>\n",
       "      <td>6.55%</td>\n",
       "      <td>5.02%</td>\n",
       "      <td>7.83%</td>\n",
       "      <td>3.55%</td>\n",
       "    </tr>\n",
       "  </tbody>\n",
       "</table>\n",
       "</div>"
      ],
      "text/plain": [
       "age_group  btwn20and30  btwn30and40  btwn40and50  btwn50and60  btwn60and70  \\\n",
       "debt            10.99%        9.75%        7.55%        6.55%        5.02%   \n",
       "\n",
       "age_group  less_than_20  over_equal70  \n",
       "debt              7.83%         3.55%  "
      ]
     },
     "execution_count": 101,
     "metadata": {},
     "output_type": "execute_result"
    }
   ],
   "source": [
    "# create pivot table with percents per age group category\n",
    "print('Pecentage of applicants with a history of default')\n",
    "data.pivot_table(values=['debt'], columns=['age_group'])"
   ]
  },
  {
   "cell_type": "markdown",
   "metadata": {},
   "source": [
    "Age group: Looking into age may be worthwhile as there appears to be a sharp increase in historical default for those under 40."
   ]
  },
  {
   "cell_type": "code",
   "execution_count": 102,
   "metadata": {},
   "outputs": [
    {
     "name": "stdout",
     "output_type": "stream",
     "text": [
      "Pecentage of applicants with a history of default\n"
     ]
    },
    {
     "data": {
      "text/html": [
       "<div>\n",
       "<style scoped>\n",
       "    .dataframe tbody tr th:only-of-type {\n",
       "        vertical-align: middle;\n",
       "    }\n",
       "\n",
       "    .dataframe tbody tr th {\n",
       "        vertical-align: top;\n",
       "    }\n",
       "\n",
       "    .dataframe thead th {\n",
       "        text-align: right;\n",
       "    }\n",
       "</style>\n",
       "<table border=\"1\" class=\"dataframe\">\n",
       "  <thead>\n",
       "    <tr style=\"text-align: right;\">\n",
       "      <th>gender</th>\n",
       "      <th>F</th>\n",
       "      <th>M</th>\n",
       "      <th>XNA</th>\n",
       "    </tr>\n",
       "  </thead>\n",
       "  <tbody>\n",
       "    <tr>\n",
       "      <th>debt</th>\n",
       "      <td>7.01%</td>\n",
       "      <td>10.26%</td>\n",
       "      <td>0.00%</td>\n",
       "    </tr>\n",
       "  </tbody>\n",
       "</table>\n",
       "</div>"
      ],
      "text/plain": [
       "gender     F      M   XNA\n",
       "debt   7.01% 10.26% 0.00%"
      ]
     },
     "execution_count": 102,
     "metadata": {},
     "output_type": "execute_result"
    }
   ],
   "source": [
    "# create pivot table with percents per gender category\n",
    "print('Pecentage of applicants with a history of default')\n",
    "data.pivot_table(values=['debt'], columns=['gender'])"
   ]
  },
  {
   "cell_type": "markdown",
   "metadata": {},
   "source": [
    "Gender: It appears male applicants have a higher rate of default in this sample. Further analysis may be useful."
   ]
  },
  {
   "cell_type": "code",
   "execution_count": 103,
   "metadata": {},
   "outputs": [
    {
     "name": "stdout",
     "output_type": "stream",
     "text": [
      "Pecentage of applicants with a history of default\n"
     ]
    },
    {
     "data": {
      "text/html": [
       "<div>\n",
       "<style scoped>\n",
       "    .dataframe tbody tr th:only-of-type {\n",
       "        vertical-align: middle;\n",
       "    }\n",
       "\n",
       "    .dataframe tbody tr th {\n",
       "        vertical-align: top;\n",
       "    }\n",
       "\n",
       "    .dataframe thead th {\n",
       "        text-align: right;\n",
       "    }\n",
       "</style>\n",
       "<table border=\"1\" class=\"dataframe\">\n",
       "  <thead>\n",
       "    <tr style=\"text-align: right;\">\n",
       "      <th>income_type</th>\n",
       "      <th>business</th>\n",
       "      <th>civil servant</th>\n",
       "      <th>employee</th>\n",
       "      <th>entrepreneur</th>\n",
       "      <th>paternity / maternity leave</th>\n",
       "      <th>retiree</th>\n",
       "      <th>student</th>\n",
       "      <th>unemployed</th>\n",
       "    </tr>\n",
       "  </thead>\n",
       "  <tbody>\n",
       "    <tr>\n",
       "      <th>debt</th>\n",
       "      <td>7.40%</td>\n",
       "      <td>5.90%</td>\n",
       "      <td>9.57%</td>\n",
       "      <td>0.00%</td>\n",
       "      <td>100.00%</td>\n",
       "      <td>5.64%</td>\n",
       "      <td>0.00%</td>\n",
       "      <td>50.00%</td>\n",
       "    </tr>\n",
       "  </tbody>\n",
       "</table>\n",
       "</div>"
      ],
      "text/plain": [
       "income_type  business  civil servant  employee  entrepreneur  \\\n",
       "debt            7.40%          5.90%     9.57%         0.00%   \n",
       "\n",
       "income_type  paternity / maternity leave  retiree  student  unemployed  \n",
       "debt                             100.00%    5.64%    0.00%      50.00%  "
      ]
     },
     "execution_count": 103,
     "metadata": {},
     "output_type": "execute_result"
    }
   ],
   "source": [
    "# create pivot table with percents per income_type category\n",
    "print('Pecentage of applicants with a history of default')\n",
    "data.pivot_table(values=['debt'], columns=['income_type'])"
   ]
  },
  {
   "cell_type": "code",
   "execution_count": 104,
   "metadata": {},
   "outputs": [
    {
     "data": {
      "text/plain": [
       "employee                       11084\n",
       "business                        5078\n",
       "retiree                         3829\n",
       "civil servant                   1457\n",
       "entrepreneur                       2\n",
       "unemployed                         2\n",
       "paternity / maternity leave        1\n",
       "student                            1\n",
       "Name: income_type, dtype: int64"
      ]
     },
     "execution_count": 104,
     "metadata": {},
     "output_type": "execute_result"
    }
   ],
   "source": [
    "data['income_type'].value_counts()"
   ]
  },
  {
   "cell_type": "markdown",
   "metadata": {},
   "source": [
    "Income type: Only the 4 groups (employee, business, retiree, civil servant) with the greatest number of applicants could be used for analysis since a sample of 1 or 2 isn't useful. Still, there does seem to be a significant difference between the lowest risk (retiree 5.64%) and highest risk (employee 9.57%). It would be worth more analysis."
   ]
  },
  {
   "cell_type": "markdown",
   "metadata": {},
   "source": [
    "## General conclusion"
   ]
  },
  {
   "cell_type": "markdown",
   "metadata": {},
   "source": [
    "Number of children, family status, income, and the stated purpose of the loan can be used to increase the validity of the credit scoring system. \n",
    "\n",
    "Better loan risk (lower percentage of historical defaults on loans):\n",
    "- no children\n",
    "- widowers\n",
    "- married\n",
    "- divorced\n",
    "- income > 60K\n",
    "- purpose of loan: real estate\n",
    "- purpose of loan: wedding\n",
    "\n",
    "Higher loan risk (higher percentage of historical defaults on loans):\n",
    "- have children\n",
    "- unmarried\n",
    "- in a civil union\n",
    "- income < 60K\n",
    "- purpose of loan: education\n",
    "- purpose of loan: car \n",
    "\n",
    "Additionally, it may be advantageous to pursue analysis of age group, gender, and income type as there do appear to be relationships beween subsections and percentage of defaults."
   ]
  }
 ],
 "metadata": {
  "ExecuteTimeLog": [
   {
    "duration": 789,
    "start_time": "2021-08-09T00:04:18.700Z"
   },
   {
    "duration": 85,
    "start_time": "2021-08-09T00:17:00.534Z"
   },
   {
    "duration": 78,
    "start_time": "2021-08-09T00:17:23.989Z"
   },
   {
    "duration": 87,
    "start_time": "2021-08-09T00:17:59.570Z"
   },
   {
    "duration": 72,
    "start_time": "2021-08-09T00:20:22.802Z"
   },
   {
    "duration": 66,
    "start_time": "2021-08-09T00:21:18.380Z"
   },
   {
    "duration": 81,
    "start_time": "2021-08-09T00:21:26.154Z"
   },
   {
    "duration": 11,
    "start_time": "2021-08-09T00:23:38.932Z"
   },
   {
    "duration": 14,
    "start_time": "2021-08-09T00:26:23.529Z"
   },
   {
    "duration": 11,
    "start_time": "2021-08-09T00:54:52.941Z"
   },
   {
    "duration": 14,
    "start_time": "2021-08-09T00:57:43.571Z"
   },
   {
    "duration": 88,
    "start_time": "2021-08-09T01:03:59.738Z"
   },
   {
    "duration": 4926,
    "start_time": "2021-08-09T01:04:16.347Z"
   },
   {
    "duration": 14,
    "start_time": "2021-08-09T01:06:04.559Z"
   },
   {
    "duration": 89,
    "start_time": "2021-08-09T01:06:18.834Z"
   },
   {
    "duration": 17,
    "start_time": "2021-08-09T01:06:48.111Z"
   },
   {
    "duration": 14,
    "start_time": "2021-08-09T01:08:09.947Z"
   },
   {
    "duration": 13,
    "start_time": "2021-08-09T01:08:24.794Z"
   },
   {
    "duration": 14,
    "start_time": "2021-08-09T01:09:41.417Z"
   },
   {
    "duration": 14,
    "start_time": "2021-08-09T01:09:49.624Z"
   },
   {
    "duration": 21,
    "start_time": "2021-08-09T01:10:02.345Z"
   },
   {
    "duration": 827,
    "start_time": "2021-08-09T01:15:52.799Z"
   },
   {
    "duration": 9,
    "start_time": "2021-08-09T01:15:53.630Z"
   },
   {
    "duration": 32,
    "start_time": "2021-08-09T01:15:53.643Z"
   },
   {
    "duration": 14,
    "start_time": "2021-08-09T01:15:53.677Z"
   },
   {
    "duration": 13,
    "start_time": "2021-08-09T01:15:53.693Z"
   },
   {
    "duration": 15,
    "start_time": "2021-08-09T01:15:53.708Z"
   },
   {
    "duration": -272,
    "start_time": "2021-08-09T01:18:32.018Z"
   },
   {
    "duration": 6008,
    "start_time": "2021-08-09T01:18:37.879Z"
   },
   {
    "duration": 9,
    "start_time": "2021-08-09T01:19:17.497Z"
   },
   {
    "duration": 10,
    "start_time": "2021-08-09T01:19:50.305Z"
   },
   {
    "duration": 10,
    "start_time": "2021-08-09T01:20:10.535Z"
   },
   {
    "duration": 9,
    "start_time": "2021-08-09T01:43:12.513Z"
   },
   {
    "duration": 30,
    "start_time": "2021-08-09T01:44:21.671Z"
   },
   {
    "duration": 10,
    "start_time": "2021-08-09T01:46:49.210Z"
   },
   {
    "duration": 8,
    "start_time": "2021-08-09T01:47:29.366Z"
   },
   {
    "duration": 10,
    "start_time": "2021-08-09T01:51:00.381Z"
   },
   {
    "duration": 10,
    "start_time": "2021-08-09T01:53:54.701Z"
   },
   {
    "duration": 7,
    "start_time": "2021-08-09T01:54:29.536Z"
   },
   {
    "duration": 14,
    "start_time": "2021-08-09T01:55:16.097Z"
   },
   {
    "duration": 11,
    "start_time": "2021-08-09T01:55:56.260Z"
   },
   {
    "duration": 18,
    "start_time": "2021-08-09T02:03:20.658Z"
   },
   {
    "duration": 489,
    "start_time": "2021-08-09T02:04:08.397Z"
   },
   {
    "duration": 11,
    "start_time": "2021-08-09T02:06:25.920Z"
   },
   {
    "duration": 7,
    "start_time": "2021-08-09T02:06:49.416Z"
   },
   {
    "duration": 540,
    "start_time": "2021-08-09T02:06:57.975Z"
   },
   {
    "duration": 24,
    "start_time": "2021-08-09T02:08:46.064Z"
   },
   {
    "duration": 14,
    "start_time": "2021-08-09T02:09:51.774Z"
   },
   {
    "duration": 14,
    "start_time": "2021-08-09T02:14:38.755Z"
   },
   {
    "duration": 17,
    "start_time": "2021-08-09T02:16:49.959Z"
   },
   {
    "duration": 24,
    "start_time": "2021-08-09T02:17:07.803Z"
   },
   {
    "duration": 17,
    "start_time": "2021-08-09T02:17:28.681Z"
   },
   {
    "duration": 49,
    "start_time": "2021-08-09T02:21:04.616Z"
   },
   {
    "duration": 48,
    "start_time": "2021-08-09T02:21:45.153Z"
   },
   {
    "duration": 48,
    "start_time": "2021-08-09T02:21:58.793Z"
   },
   {
    "duration": 237,
    "start_time": "2021-08-09T02:28:57.295Z"
   },
   {
    "duration": 277,
    "start_time": "2021-08-09T02:30:41.332Z"
   },
   {
    "duration": 38,
    "start_time": "2021-08-09T02:31:20.421Z"
   },
   {
    "duration": 26,
    "start_time": "2021-08-09T02:57:03.194Z"
   },
   {
    "duration": 6589,
    "start_time": "2021-08-09T03:26:53.172Z"
   },
   {
    "duration": 329,
    "start_time": "2021-08-09T03:28:58.035Z"
   },
   {
    "duration": 982,
    "start_time": "2021-08-09T03:29:13.608Z"
   },
   {
    "duration": 298,
    "start_time": "2021-08-09T03:30:08.503Z"
   },
   {
    "duration": 818,
    "start_time": "2021-08-09T03:30:51.612Z"
   },
   {
    "duration": 8,
    "start_time": "2021-08-09T03:30:52.432Z"
   },
   {
    "duration": 29,
    "start_time": "2021-08-09T03:30:52.443Z"
   },
   {
    "duration": 870,
    "start_time": "2021-08-09T03:31:38.133Z"
   },
   {
    "duration": 7,
    "start_time": "2021-08-09T03:31:39.006Z"
   },
   {
    "duration": 17,
    "start_time": "2021-08-09T03:31:39.017Z"
   },
   {
    "duration": 41,
    "start_time": "2021-08-09T03:31:39.036Z"
   },
   {
    "duration": 13,
    "start_time": "2021-08-09T03:31:39.079Z"
   },
   {
    "duration": 9,
    "start_time": "2021-08-09T03:31:39.094Z"
   },
   {
    "duration": 14,
    "start_time": "2021-08-09T03:31:39.106Z"
   },
   {
    "duration": 11,
    "start_time": "2021-08-09T03:31:39.163Z"
   },
   {
    "duration": 10,
    "start_time": "2021-08-09T03:31:39.177Z"
   },
   {
    "duration": 11,
    "start_time": "2021-08-09T03:31:39.191Z"
   },
   {
    "duration": 59,
    "start_time": "2021-08-09T03:31:39.205Z"
   },
   {
    "duration": 15,
    "start_time": "2021-08-09T03:31:39.267Z"
   },
   {
    "duration": 16,
    "start_time": "2021-08-09T03:31:39.285Z"
   },
   {
    "duration": 21,
    "start_time": "2021-08-09T03:31:39.304Z"
   },
   {
    "duration": 68,
    "start_time": "2021-08-09T03:31:39.328Z"
   },
   {
    "duration": 15,
    "start_time": "2021-08-09T03:31:39.399Z"
   },
   {
    "duration": 39,
    "start_time": "2021-08-09T03:33:11.538Z"
   },
   {
    "duration": 11,
    "start_time": "2021-08-09T03:53:58.222Z"
   },
   {
    "duration": 9,
    "start_time": "2021-08-09T03:54:17.314Z"
   },
   {
    "duration": 9,
    "start_time": "2021-08-09T03:55:31.133Z"
   },
   {
    "duration": 7,
    "start_time": "2021-08-09T03:55:41.374Z"
   },
   {
    "duration": 636,
    "start_time": "2021-08-09T03:55:52.718Z"
   },
   {
    "duration": 227,
    "start_time": "2021-08-09T03:56:03.531Z"
   },
   {
    "duration": 6,
    "start_time": "2021-08-09T03:58:05.963Z"
   },
   {
    "duration": 24,
    "start_time": "2021-08-09T04:33:00.724Z"
   },
   {
    "duration": 14,
    "start_time": "2021-08-09T04:33:46.322Z"
   },
   {
    "duration": 14,
    "start_time": "2021-08-09T04:34:09.162Z"
   },
   {
    "duration": 26,
    "start_time": "2021-08-09T04:34:39.082Z"
   },
   {
    "duration": 25,
    "start_time": "2021-08-09T04:34:46.683Z"
   },
   {
    "duration": 25,
    "start_time": "2021-08-09T04:34:58.072Z"
   },
   {
    "duration": 8,
    "start_time": "2021-08-09T04:36:04.205Z"
   },
   {
    "duration": 29,
    "start_time": "2021-08-09T04:47:36.071Z"
   },
   {
    "duration": 29,
    "start_time": "2021-08-09T04:50:43.981Z"
   },
   {
    "duration": 30,
    "start_time": "2021-08-09T04:52:12.882Z"
   },
   {
    "duration": 20,
    "start_time": "2021-08-09T04:52:23.536Z"
   },
   {
    "duration": 9,
    "start_time": "2021-08-09T04:59:01.025Z"
   },
   {
    "duration": 487,
    "start_time": "2021-08-09T05:12:33.430Z"
   },
   {
    "duration": 407,
    "start_time": "2021-08-09T05:13:05.969Z"
   },
   {
    "duration": 3725,
    "start_time": "2021-08-09T05:14:23.687Z"
   },
   {
    "duration": 382,
    "start_time": "2021-08-09T05:14:47.524Z"
   },
   {
    "duration": 400,
    "start_time": "2021-08-09T05:14:57.947Z"
   },
   {
    "duration": 412,
    "start_time": "2021-08-09T05:15:26.062Z"
   },
   {
    "duration": 14,
    "start_time": "2021-08-09T05:17:17.434Z"
   },
   {
    "duration": 411,
    "start_time": "2021-08-09T16:33:15.180Z"
   },
   {
    "duration": 819,
    "start_time": "2021-08-09T16:33:45.780Z"
   },
   {
    "duration": 448,
    "start_time": "2021-08-09T16:33:50.587Z"
   },
   {
    "duration": 22,
    "start_time": "2021-08-09T16:34:22.949Z"
   },
   {
    "duration": 5,
    "start_time": "2021-08-09T16:37:55.489Z"
   },
   {
    "duration": 829,
    "start_time": "2021-08-09T17:41:36.812Z"
   },
   {
    "duration": 41,
    "start_time": "2021-08-09T17:42:17.200Z"
   },
   {
    "duration": 26,
    "start_time": "2021-08-09T17:42:33.424Z"
   },
   {
    "duration": 32,
    "start_time": "2021-08-09T17:42:43.471Z"
   },
   {
    "duration": 9,
    "start_time": "2021-08-09T17:43:53.949Z"
   },
   {
    "duration": 117,
    "start_time": "2021-08-09T17:44:10.838Z"
   },
   {
    "duration": 115,
    "start_time": "2021-08-09T17:44:18.900Z"
   },
   {
    "duration": 474,
    "start_time": "2021-08-09T17:44:25.571Z"
   },
   {
    "duration": 43,
    "start_time": "2021-08-09T17:44:35.552Z"
   },
   {
    "duration": 17,
    "start_time": "2021-08-09T17:45:02.610Z"
   },
   {
    "duration": 131,
    "start_time": "2021-08-09T17:47:10.574Z"
   },
   {
    "duration": 8,
    "start_time": "2021-08-09T17:47:17.002Z"
   },
   {
    "duration": 6,
    "start_time": "2021-08-09T17:48:13.915Z"
   },
   {
    "duration": 8,
    "start_time": "2021-08-09T17:49:13.531Z"
   },
   {
    "duration": 20,
    "start_time": "2021-08-09T17:49:25.324Z"
   },
   {
    "duration": 831,
    "start_time": "2021-08-09T17:50:00.284Z"
   },
   {
    "duration": 13,
    "start_time": "2021-08-09T17:54:53.144Z"
   },
   {
    "duration": 27,
    "start_time": "2021-08-09T17:55:34.634Z"
   },
   {
    "duration": 12,
    "start_time": "2021-08-09T17:55:52.557Z"
   },
   {
    "duration": 7,
    "start_time": "2021-08-09T17:57:22.483Z"
   },
   {
    "duration": 6,
    "start_time": "2021-08-09T17:57:34.520Z"
   },
   {
    "duration": 14,
    "start_time": "2021-08-09T17:57:45.993Z"
   },
   {
    "duration": 14,
    "start_time": "2021-08-09T17:58:28.966Z"
   },
   {
    "duration": 12,
    "start_time": "2021-08-09T18:27:13.136Z"
   },
   {
    "duration": 12,
    "start_time": "2021-08-09T18:29:14.415Z"
   },
   {
    "duration": 21,
    "start_time": "2021-08-09T18:31:11.857Z"
   },
   {
    "duration": 346,
    "start_time": "2021-08-09T20:26:42.527Z"
   },
   {
    "duration": 13,
    "start_time": "2021-08-09T20:26:54.959Z"
   },
   {
    "duration": 9273,
    "start_time": "2021-08-09T20:28:53.742Z"
   },
   {
    "duration": 10,
    "start_time": "2021-08-09T20:29:12.320Z"
   },
   {
    "duration": 11,
    "start_time": "2021-08-09T20:29:29.701Z"
   },
   {
    "duration": 12,
    "start_time": "2021-08-09T20:30:06.748Z"
   },
   {
    "duration": 14,
    "start_time": "2021-08-09T20:30:18.274Z"
   },
   {
    "duration": 15,
    "start_time": "2021-08-09T20:30:31.422Z"
   },
   {
    "duration": 8,
    "start_time": "2021-08-09T20:31:00.029Z"
   },
   {
    "duration": 15,
    "start_time": "2021-08-09T20:31:03.992Z"
   },
   {
    "duration": 416,
    "start_time": "2021-08-09T20:31:18.794Z"
   },
   {
    "duration": 14,
    "start_time": "2021-08-09T20:31:24.776Z"
   },
   {
    "duration": 11,
    "start_time": "2021-08-09T20:32:30.612Z"
   },
   {
    "duration": 11,
    "start_time": "2021-08-09T20:32:42.174Z"
   },
   {
    "duration": 7,
    "start_time": "2021-08-09T20:32:46.620Z"
   },
   {
    "duration": 389,
    "start_time": "2021-08-09T20:33:47.128Z"
   },
   {
    "duration": 32389,
    "start_time": "2021-08-09T20:34:28.754Z"
   },
   {
    "duration": 2835,
    "start_time": "2021-08-09T20:35:36.800Z"
   },
   {
    "duration": 15,
    "start_time": "2021-08-09T20:36:15.995Z"
   },
   {
    "duration": 16,
    "start_time": "2021-08-09T20:36:34.996Z"
   },
   {
    "duration": 16,
    "start_time": "2021-08-09T20:36:52.580Z"
   },
   {
    "duration": 19,
    "start_time": "2021-08-09T20:37:01.850Z"
   },
   {
    "duration": 11,
    "start_time": "2021-08-09T20:37:25.948Z"
   },
   {
    "duration": 31,
    "start_time": "2021-08-09T20:37:31.671Z"
   },
   {
    "duration": 13,
    "start_time": "2021-08-09T20:37:43.033Z"
   },
   {
    "duration": 29,
    "start_time": "2021-08-09T20:37:47.158Z"
   },
   {
    "duration": 9,
    "start_time": "2021-08-09T20:37:51.072Z"
   },
   {
    "duration": 8,
    "start_time": "2021-08-09T20:38:03.842Z"
   },
   {
    "duration": 10,
    "start_time": "2021-08-09T20:38:07.924Z"
   },
   {
    "duration": 9,
    "start_time": "2021-08-09T20:38:16.474Z"
   },
   {
    "duration": 10,
    "start_time": "2021-08-09T20:38:21.408Z"
   },
   {
    "duration": 7,
    "start_time": "2021-08-09T20:38:24.294Z"
   },
   {
    "duration": 8383,
    "start_time": "2021-08-09T20:38:52.400Z"
   },
   {
    "duration": 8848,
    "start_time": "2021-08-09T20:40:09.949Z"
   },
   {
    "duration": 366,
    "start_time": "2021-08-09T20:40:46.632Z"
   },
   {
    "duration": 10,
    "start_time": "2021-08-09T20:42:24.561Z"
   },
   {
    "duration": 7,
    "start_time": "2021-08-09T20:42:29.814Z"
   },
   {
    "duration": 12,
    "start_time": "2021-08-09T21:00:44.634Z"
   },
   {
    "duration": 25,
    "start_time": "2021-08-09T21:08:48.089Z"
   },
   {
    "duration": 37,
    "start_time": "2021-08-09T21:09:14.553Z"
   },
   {
    "duration": 29,
    "start_time": "2021-08-09T21:13:13.313Z"
   },
   {
    "duration": 36,
    "start_time": "2021-08-09T21:13:43.420Z"
   },
   {
    "duration": 36,
    "start_time": "2021-08-09T21:20:49.718Z"
   },
   {
    "duration": 11,
    "start_time": "2021-08-09T21:21:57.628Z"
   },
   {
    "duration": 52,
    "start_time": "2021-08-09T21:22:06.038Z"
   },
   {
    "duration": 15,
    "start_time": "2021-08-09T21:39:25.522Z"
   },
   {
    "duration": 78,
    "start_time": "2021-08-09T21:41:15.751Z"
   },
   {
    "duration": 81,
    "start_time": "2021-08-09T21:41:35.503Z"
   },
   {
    "duration": 24,
    "start_time": "2021-08-09T21:42:12.085Z"
   },
   {
    "duration": 14,
    "start_time": "2021-08-09T21:44:00.067Z"
   },
   {
    "duration": 6,
    "start_time": "2021-08-09T21:44:32.762Z"
   },
   {
    "duration": 20,
    "start_time": "2021-08-09T21:44:48.009Z"
   },
   {
    "duration": 19,
    "start_time": "2021-08-09T21:46:08.522Z"
   },
   {
    "duration": 7,
    "start_time": "2021-08-09T21:52:40.742Z"
   },
   {
    "duration": 6,
    "start_time": "2021-08-09T21:54:51.364Z"
   },
   {
    "duration": 6,
    "start_time": "2021-08-09T21:55:04.375Z"
   },
   {
    "duration": 360,
    "start_time": "2021-08-09T21:59:54.581Z"
   },
   {
    "duration": 23,
    "start_time": "2021-08-09T22:00:03.260Z"
   },
   {
    "duration": 24,
    "start_time": "2021-08-09T22:00:17.354Z"
   },
   {
    "duration": 21,
    "start_time": "2021-08-09T22:00:35.165Z"
   },
   {
    "duration": 22,
    "start_time": "2021-08-09T22:00:44.151Z"
   },
   {
    "duration": 5,
    "start_time": "2021-08-09T22:00:54.833Z"
   },
   {
    "duration": 132,
    "start_time": "2021-08-09T23:07:10.784Z"
   },
   {
    "duration": 15,
    "start_time": "2021-08-09T23:07:17.993Z"
   },
   {
    "duration": 14,
    "start_time": "2021-08-09T23:07:31.439Z"
   },
   {
    "duration": 15,
    "start_time": "2021-08-09T23:07:56.186Z"
   },
   {
    "duration": 362,
    "start_time": "2021-08-09T23:14:01.765Z"
   },
   {
    "duration": 117,
    "start_time": "2021-08-09T23:15:23.859Z"
   },
   {
    "duration": 6,
    "start_time": "2021-08-09T23:15:37.307Z"
   },
   {
    "duration": 15,
    "start_time": "2021-08-09T23:31:19.361Z"
   },
   {
    "duration": 367,
    "start_time": "2021-08-09T23:31:26.180Z"
   },
   {
    "duration": 342,
    "start_time": "2021-08-09T23:34:04.157Z"
   },
   {
    "duration": 6,
    "start_time": "2021-08-09T23:34:11.207Z"
   },
   {
    "duration": 346,
    "start_time": "2021-08-09T23:34:18.559Z"
   },
   {
    "duration": 7,
    "start_time": "2021-08-09T23:35:31.779Z"
   },
   {
    "duration": 11,
    "start_time": "2021-08-09T23:35:41.954Z"
   },
   {
    "duration": 13,
    "start_time": "2021-08-09T23:36:09.057Z"
   },
   {
    "duration": 15,
    "start_time": "2021-08-09T23:36:30.765Z"
   },
   {
    "duration": 14,
    "start_time": "2021-08-09T23:38:27.528Z"
   },
   {
    "duration": 14,
    "start_time": "2021-08-09T23:38:51.380Z"
   },
   {
    "duration": 11,
    "start_time": "2021-08-09T23:39:30.778Z"
   },
   {
    "duration": 14,
    "start_time": "2021-08-09T23:39:40.917Z"
   },
   {
    "duration": 15,
    "start_time": "2021-08-09T23:39:51.609Z"
   },
   {
    "duration": 5,
    "start_time": "2021-08-09T23:41:00.671Z"
   },
   {
    "duration": 15,
    "start_time": "2021-08-09T23:41:41.924Z"
   },
   {
    "duration": 6,
    "start_time": "2021-08-09T23:42:55.433Z"
   },
   {
    "duration": 6,
    "start_time": "2021-08-09T23:45:02.657Z"
   },
   {
    "duration": 24,
    "start_time": "2021-08-09T23:46:31.890Z"
   },
   {
    "duration": 352,
    "start_time": "2021-08-09T23:49:36.626Z"
   },
   {
    "duration": 362,
    "start_time": "2021-08-09T23:50:46.390Z"
   },
   {
    "duration": -557,
    "start_time": "2021-08-09T23:51:09.267Z"
   },
   {
    "duration": 8535,
    "start_time": "2021-08-09T23:52:00.995Z"
   },
   {
    "duration": 8154,
    "start_time": "2021-08-09T23:52:48.629Z"
   },
   {
    "duration": 8545,
    "start_time": "2021-08-09T23:53:18.459Z"
   },
   {
    "duration": 5,
    "start_time": "2021-08-09T23:53:51.188Z"
   },
   {
    "duration": 2849,
    "start_time": "2021-08-09T23:54:24.867Z"
   },
   {
    "duration": 470,
    "start_time": "2021-08-09T23:54:42.395Z"
   },
   {
    "duration": 2869,
    "start_time": "2021-08-09T23:55:11.021Z"
   },
   {
    "duration": 2936,
    "start_time": "2021-08-09T23:56:30.239Z"
   },
   {
    "duration": 5,
    "start_time": "2021-08-10T00:52:28.096Z"
   },
   {
    "duration": 122,
    "start_time": "2021-08-10T01:07:06.694Z"
   },
   {
    "duration": 350,
    "start_time": "2021-08-10T01:07:28.308Z"
   },
   {
    "duration": 339,
    "start_time": "2021-08-10T01:07:57.427Z"
   },
   {
    "duration": 110,
    "start_time": "2021-08-10T01:08:07.499Z"
   },
   {
    "duration": 354,
    "start_time": "2021-08-10T01:12:45.037Z"
   },
   {
    "duration": 14,
    "start_time": "2021-08-10T01:14:10.547Z"
   },
   {
    "duration": 7,
    "start_time": "2021-08-10T02:01:30.598Z"
   },
   {
    "duration": 6,
    "start_time": "2021-08-10T02:03:08.722Z"
   },
   {
    "duration": 357,
    "start_time": "2021-08-10T02:03:13.439Z"
   },
   {
    "duration": 18,
    "start_time": "2021-08-10T02:03:28.388Z"
   },
   {
    "duration": 5202,
    "start_time": "2021-08-10T02:04:09.897Z"
   },
   {
    "duration": -307,
    "start_time": "2021-08-10T02:04:15.410Z"
   },
   {
    "duration": 7,
    "start_time": "2021-08-10T02:06:12.613Z"
   },
   {
    "duration": 374,
    "start_time": "2021-08-10T02:06:19.028Z"
   },
   {
    "duration": 19,
    "start_time": "2021-08-10T02:06:24.117Z"
   },
   {
    "duration": 6,
    "start_time": "2021-08-10T02:16:01.764Z"
   },
   {
    "duration": 393,
    "start_time": "2021-08-10T02:16:04.051Z"
   },
   {
    "duration": 18,
    "start_time": "2021-08-10T02:16:06.249Z"
   },
   {
    "duration": 320,
    "start_time": "2021-08-10T02:20:09.133Z"
   },
   {
    "duration": 5,
    "start_time": "2021-08-10T02:20:26.252Z"
   },
   {
    "duration": 356,
    "start_time": "2021-08-10T02:20:29.322Z"
   },
   {
    "duration": 19,
    "start_time": "2021-08-10T02:20:32.513Z"
   },
   {
    "duration": 19,
    "start_time": "2021-08-10T02:22:26.239Z"
   },
   {
    "duration": 347,
    "start_time": "2021-08-10T02:23:45.110Z"
   },
   {
    "duration": 363,
    "start_time": "2021-08-10T02:23:55.561Z"
   },
   {
    "duration": 359,
    "start_time": "2021-08-10T02:24:04.068Z"
   },
   {
    "duration": 322,
    "start_time": "2021-08-10T02:24:49.475Z"
   },
   {
    "duration": 5,
    "start_time": "2021-08-10T02:25:13.898Z"
   },
   {
    "duration": 698,
    "start_time": "2021-08-10T02:25:16.049Z"
   },
   {
    "duration": -260,
    "start_time": "2021-08-10T02:25:17.009Z"
   },
   {
    "duration": 5,
    "start_time": "2021-08-10T02:25:30.071Z"
   },
   {
    "duration": 6,
    "start_time": "2021-08-10T02:25:58.830Z"
   },
   {
    "duration": 700,
    "start_time": "2021-08-10T02:26:01.213Z"
   },
   {
    "duration": 6,
    "start_time": "2021-08-10T02:26:24.623Z"
   },
   {
    "duration": 388,
    "start_time": "2021-08-10T02:26:28.486Z"
   },
   {
    "duration": 19,
    "start_time": "2021-08-10T02:26:31.404Z"
   },
   {
    "duration": 5,
    "start_time": "2021-08-10T02:26:51.859Z"
   },
   {
    "duration": 5,
    "start_time": "2021-08-10T02:26:59.653Z"
   },
   {
    "duration": 692,
    "start_time": "2021-08-10T02:27:05.373Z"
   },
   {
    "duration": 1466,
    "start_time": "2021-08-10T02:27:29.446Z"
   },
   {
    "duration": 908,
    "start_time": "2021-08-10T02:27:46.666Z"
   },
   {
    "duration": 14,
    "start_time": "2021-08-10T02:27:47.577Z"
   },
   {
    "duration": 22,
    "start_time": "2021-08-10T02:27:47.594Z"
   },
   {
    "duration": 44,
    "start_time": "2021-08-10T02:27:47.619Z"
   },
   {
    "duration": 24,
    "start_time": "2021-08-10T02:27:47.666Z"
   },
   {
    "duration": 465,
    "start_time": "2021-08-10T02:27:47.693Z"
   },
   {
    "duration": 15,
    "start_time": "2021-08-10T02:27:48.161Z"
   },
   {
    "duration": 15,
    "start_time": "2021-08-10T02:27:48.180Z"
   },
   {
    "duration": 57,
    "start_time": "2021-08-10T02:27:48.199Z"
   },
   {
    "duration": 28,
    "start_time": "2021-08-10T02:27:48.259Z"
   },
   {
    "duration": 19,
    "start_time": "2021-08-10T02:27:48.290Z"
   },
   {
    "duration": 12,
    "start_time": "2021-08-10T02:27:48.311Z"
   },
   {
    "duration": 12,
    "start_time": "2021-08-10T02:27:48.357Z"
   },
   {
    "duration": 11,
    "start_time": "2021-08-10T02:27:48.371Z"
   },
   {
    "duration": 8,
    "start_time": "2021-08-10T02:27:48.385Z"
   },
   {
    "duration": 11,
    "start_time": "2021-08-10T02:27:48.396Z"
   },
   {
    "duration": 52,
    "start_time": "2021-08-10T02:27:48.409Z"
   },
   {
    "duration": 15,
    "start_time": "2021-08-10T02:27:48.463Z"
   },
   {
    "duration": 14,
    "start_time": "2021-08-10T02:27:48.480Z"
   },
   {
    "duration": 19,
    "start_time": "2021-08-10T02:27:48.496Z"
   },
   {
    "duration": 3150,
    "start_time": "2021-08-10T02:27:48.517Z"
   },
   {
    "duration": 25,
    "start_time": "2021-08-10T02:27:51.671Z"
   },
   {
    "duration": 5,
    "start_time": "2021-08-10T02:27:51.701Z"
   },
   {
    "duration": 57,
    "start_time": "2021-08-10T02:27:51.709Z"
   },
   {
    "duration": 18,
    "start_time": "2021-08-10T02:27:51.769Z"
   },
   {
    "duration": 12,
    "start_time": "2021-08-10T02:27:51.789Z"
   },
   {
    "duration": 18,
    "start_time": "2021-08-10T02:27:51.803Z"
   },
   {
    "duration": 33,
    "start_time": "2021-08-10T02:27:51.824Z"
   },
   {
    "duration": 10,
    "start_time": "2021-08-10T02:27:51.859Z"
   },
   {
    "duration": 14,
    "start_time": "2021-08-10T02:27:51.872Z"
   },
   {
    "duration": 14,
    "start_time": "2021-08-10T02:27:51.889Z"
   },
   {
    "duration": 54,
    "start_time": "2021-08-10T02:27:51.906Z"
   },
   {
    "duration": 7,
    "start_time": "2021-08-10T02:27:51.963Z"
   },
   {
    "duration": 12,
    "start_time": "2021-08-10T02:27:51.973Z"
   },
   {
    "duration": 6,
    "start_time": "2021-08-10T02:27:51.987Z"
   },
   {
    "duration": 111,
    "start_time": "2021-08-10T02:27:51.995Z"
   },
   {
    "duration": -118,
    "start_time": "2021-08-10T02:27:52.228Z"
   },
   {
    "duration": -147,
    "start_time": "2021-08-10T02:27:52.259Z"
   },
   {
    "duration": -158,
    "start_time": "2021-08-10T02:27:52.272Z"
   },
   {
    "duration": -164,
    "start_time": "2021-08-10T02:27:52.280Z"
   },
   {
    "duration": -174,
    "start_time": "2021-08-10T02:27:52.292Z"
   },
   {
    "duration": -178,
    "start_time": "2021-08-10T02:27:52.298Z"
   },
   {
    "duration": -188,
    "start_time": "2021-08-10T02:27:52.311Z"
   },
   {
    "duration": -197,
    "start_time": "2021-08-10T02:27:52.321Z"
   },
   {
    "duration": -200,
    "start_time": "2021-08-10T02:27:52.326Z"
   },
   {
    "duration": -203,
    "start_time": "2021-08-10T02:27:52.331Z"
   },
   {
    "duration": -212,
    "start_time": "2021-08-10T02:27:52.341Z"
   },
   {
    "duration": -213,
    "start_time": "2021-08-10T02:27:52.344Z"
   },
   {
    "duration": 3,
    "start_time": "2021-08-10T02:28:32.921Z"
   },
   {
    "duration": 14,
    "start_time": "2021-08-10T02:28:56.536Z"
   },
   {
    "duration": 25,
    "start_time": "2021-08-10T02:29:05.326Z"
   },
   {
    "duration": 54,
    "start_time": "2021-08-10T02:29:06.987Z"
   },
   {
    "duration": 9,
    "start_time": "2021-08-10T02:29:10.682Z"
   },
   {
    "duration": 6,
    "start_time": "2021-08-10T02:29:19.301Z"
   },
   {
    "duration": 390,
    "start_time": "2021-08-10T02:29:20.729Z"
   },
   {
    "duration": 20,
    "start_time": "2021-08-10T02:29:21.470Z"
   },
   {
    "duration": 6,
    "start_time": "2021-08-10T02:29:29.569Z"
   },
   {
    "duration": 393,
    "start_time": "2021-08-10T02:29:32.302Z"
   },
   {
    "duration": 21,
    "start_time": "2021-08-10T02:29:34.092Z"
   },
   {
    "duration": 454,
    "start_time": "2021-08-10T02:29:55.877Z"
   },
   {
    "duration": 14,
    "start_time": "2021-08-10T02:31:02.428Z"
   },
   {
    "duration": 14,
    "start_time": "2021-08-10T02:31:31.511Z"
   },
   {
    "duration": 13,
    "start_time": "2021-08-10T02:35:27.983Z"
   },
   {
    "duration": 14,
    "start_time": "2021-08-10T02:35:45.398Z"
   },
   {
    "duration": 28,
    "start_time": "2021-08-10T03:12:53.769Z"
   },
   {
    "duration": 346,
    "start_time": "2021-08-11T03:46:10.267Z"
   },
   {
    "duration": 225,
    "start_time": "2021-08-11T03:46:21.055Z"
   },
   {
    "duration": 835,
    "start_time": "2021-08-11T03:46:45.596Z"
   },
   {
    "duration": 12,
    "start_time": "2021-08-11T03:46:46.434Z"
   },
   {
    "duration": 43,
    "start_time": "2021-08-11T03:46:46.448Z"
   },
   {
    "duration": 7,
    "start_time": "2021-08-11T03:46:46.493Z"
   },
   {
    "duration": 15,
    "start_time": "2021-08-11T03:46:46.502Z"
   },
   {
    "duration": 412,
    "start_time": "2021-08-11T03:46:46.519Z"
   },
   {
    "duration": 25,
    "start_time": "2021-08-11T03:46:46.933Z"
   },
   {
    "duration": 28,
    "start_time": "2021-08-11T03:46:46.962Z"
   },
   {
    "duration": 15,
    "start_time": "2021-08-11T03:46:46.992Z"
   },
   {
    "duration": 13,
    "start_time": "2021-08-11T03:46:47.009Z"
   },
   {
    "duration": 19,
    "start_time": "2021-08-11T03:46:47.024Z"
   },
   {
    "duration": 43,
    "start_time": "2021-08-11T03:46:47.045Z"
   },
   {
    "duration": 8,
    "start_time": "2021-08-11T03:46:47.090Z"
   },
   {
    "duration": 8,
    "start_time": "2021-08-11T03:46:47.101Z"
   },
   {
    "duration": 10,
    "start_time": "2021-08-11T03:46:47.111Z"
   },
   {
    "duration": 8,
    "start_time": "2021-08-11T03:46:47.123Z"
   },
   {
    "duration": 50,
    "start_time": "2021-08-11T03:46:47.133Z"
   },
   {
    "duration": 6,
    "start_time": "2021-08-11T03:46:47.185Z"
   },
   {
    "duration": 7,
    "start_time": "2021-08-11T03:46:47.193Z"
   },
   {
    "duration": 5,
    "start_time": "2021-08-11T03:46:47.202Z"
   },
   {
    "duration": 14,
    "start_time": "2021-08-11T03:46:47.209Z"
   },
   {
    "duration": 2808,
    "start_time": "2021-08-11T03:46:47.226Z"
   },
   {
    "duration": 61,
    "start_time": "2021-08-11T03:46:50.042Z"
   },
   {
    "duration": 11,
    "start_time": "2021-08-11T03:46:50.107Z"
   },
   {
    "duration": 12,
    "start_time": "2021-08-11T03:46:50.120Z"
   },
   {
    "duration": 12,
    "start_time": "2021-08-11T03:46:50.135Z"
   },
   {
    "duration": 34,
    "start_time": "2021-08-11T03:46:50.150Z"
   },
   {
    "duration": 8,
    "start_time": "2021-08-11T03:46:50.187Z"
   },
   {
    "duration": 16,
    "start_time": "2021-08-11T03:46:50.198Z"
   },
   {
    "duration": 6,
    "start_time": "2021-08-11T03:46:50.217Z"
   },
   {
    "duration": 9,
    "start_time": "2021-08-11T03:46:50.226Z"
   },
   {
    "duration": 54,
    "start_time": "2021-08-11T03:46:50.237Z"
   },
   {
    "duration": 15,
    "start_time": "2021-08-11T03:46:50.294Z"
   },
   {
    "duration": 7,
    "start_time": "2021-08-11T03:46:50.312Z"
   },
   {
    "duration": 6,
    "start_time": "2021-08-11T03:46:50.323Z"
   },
   {
    "duration": 6,
    "start_time": "2021-08-11T03:46:50.383Z"
   },
   {
    "duration": 391,
    "start_time": "2021-08-11T03:46:50.392Z"
   },
   {
    "duration": -111,
    "start_time": "2021-08-11T03:46:50.896Z"
   },
   {
    "duration": -115,
    "start_time": "2021-08-11T03:46:50.902Z"
   },
   {
    "duration": -119,
    "start_time": "2021-08-11T03:46:50.907Z"
   },
   {
    "duration": -129,
    "start_time": "2021-08-11T03:46:50.919Z"
   },
   {
    "duration": -137,
    "start_time": "2021-08-11T03:46:50.928Z"
   },
   {
    "duration": -140,
    "start_time": "2021-08-11T03:46:50.932Z"
   },
   {
    "duration": -142,
    "start_time": "2021-08-11T03:46:50.936Z"
   },
   {
    "duration": -149,
    "start_time": "2021-08-11T03:46:50.944Z"
   },
   {
    "duration": -152,
    "start_time": "2021-08-11T03:46:50.949Z"
   },
   {
    "duration": -155,
    "start_time": "2021-08-11T03:46:50.953Z"
   },
   {
    "duration": -163,
    "start_time": "2021-08-11T03:46:50.962Z"
   },
   {
    "duration": -166,
    "start_time": "2021-08-11T03:46:50.967Z"
   },
   {
    "duration": 242,
    "start_time": "2021-08-11T03:47:06.879Z"
   },
   {
    "duration": 51,
    "start_time": "2021-08-11T03:47:18.541Z"
   },
   {
    "duration": 54,
    "start_time": "2021-08-11T03:48:03.002Z"
   },
   {
    "duration": 54,
    "start_time": "2021-08-11T03:49:30.033Z"
   },
   {
    "duration": 925,
    "start_time": "2021-08-12T18:13:43.027Z"
   },
   {
    "duration": 27,
    "start_time": "2021-08-12T18:13:43.956Z"
   },
   {
    "duration": 68,
    "start_time": "2021-08-12T18:13:43.988Z"
   },
   {
    "duration": 86,
    "start_time": "2021-08-12T18:13:44.068Z"
   },
   {
    "duration": 8,
    "start_time": "2021-08-12T18:13:44.158Z"
   },
   {
    "duration": 28,
    "start_time": "2021-08-12T18:13:44.169Z"
   },
   {
    "duration": 400,
    "start_time": "2021-08-12T18:13:44.200Z"
   },
   {
    "duration": 23,
    "start_time": "2021-08-12T18:13:44.605Z"
   },
   {
    "duration": 15,
    "start_time": "2021-08-12T18:13:44.631Z"
   },
   {
    "duration": 44,
    "start_time": "2021-08-12T18:13:44.649Z"
   },
   {
    "duration": 37,
    "start_time": "2021-08-12T18:13:44.696Z"
   },
   {
    "duration": 28,
    "start_time": "2021-08-12T18:13:44.736Z"
   },
   {
    "duration": 31,
    "start_time": "2021-08-12T18:13:44.766Z"
   },
   {
    "duration": 23,
    "start_time": "2021-08-12T18:13:44.799Z"
   },
   {
    "duration": 13,
    "start_time": "2021-08-12T18:13:44.824Z"
   },
   {
    "duration": 22,
    "start_time": "2021-08-12T18:13:44.839Z"
   },
   {
    "duration": 22,
    "start_time": "2021-08-12T18:13:44.864Z"
   },
   {
    "duration": 18,
    "start_time": "2021-08-12T18:13:44.888Z"
   },
   {
    "duration": 39,
    "start_time": "2021-08-12T18:13:44.909Z"
   },
   {
    "duration": 15,
    "start_time": "2021-08-12T18:13:44.951Z"
   },
   {
    "duration": 10,
    "start_time": "2021-08-12T18:13:44.969Z"
   },
   {
    "duration": 30,
    "start_time": "2021-08-12T18:13:44.981Z"
   },
   {
    "duration": 3098,
    "start_time": "2021-08-12T18:13:45.017Z"
   },
   {
    "duration": 25,
    "start_time": "2021-08-12T18:13:48.119Z"
   },
   {
    "duration": 40,
    "start_time": "2021-08-12T18:13:48.146Z"
   },
   {
    "duration": 41,
    "start_time": "2021-08-12T18:13:48.189Z"
   },
   {
    "duration": 35,
    "start_time": "2021-08-12T18:13:48.233Z"
   },
   {
    "duration": 31,
    "start_time": "2021-08-12T18:13:48.271Z"
   },
   {
    "duration": 18,
    "start_time": "2021-08-12T18:13:48.305Z"
   },
   {
    "duration": 22,
    "start_time": "2021-08-12T18:13:48.326Z"
   },
   {
    "duration": 13,
    "start_time": "2021-08-12T18:13:48.351Z"
   },
   {
    "duration": 29,
    "start_time": "2021-08-12T18:13:48.367Z"
   },
   {
    "duration": 20,
    "start_time": "2021-08-12T18:13:48.398Z"
   },
   {
    "duration": 27,
    "start_time": "2021-08-12T18:13:48.420Z"
   },
   {
    "duration": 29,
    "start_time": "2021-08-12T18:13:48.450Z"
   },
   {
    "duration": 16,
    "start_time": "2021-08-12T18:13:48.481Z"
   },
   {
    "duration": 25,
    "start_time": "2021-08-12T18:13:48.500Z"
   },
   {
    "duration": 74,
    "start_time": "2021-08-12T18:13:48.527Z"
   },
   {
    "duration": 57,
    "start_time": "2021-08-12T18:13:48.603Z"
   },
   {
    "duration": 3,
    "start_time": "2021-08-12T18:13:48.663Z"
   },
   {
    "duration": 47,
    "start_time": "2021-08-12T18:13:48.669Z"
   },
   {
    "duration": 48,
    "start_time": "2021-08-12T18:13:48.719Z"
   },
   {
    "duration": 56,
    "start_time": "2021-08-12T18:13:48.769Z"
   },
   {
    "duration": 8,
    "start_time": "2021-08-12T18:13:48.828Z"
   },
   {
    "duration": 13,
    "start_time": "2021-08-12T18:13:48.839Z"
   },
   {
    "duration": 497,
    "start_time": "2021-08-12T18:13:48.855Z"
   },
   {
    "duration": 20,
    "start_time": "2021-08-12T18:13:49.354Z"
   },
   {
    "duration": 5,
    "start_time": "2021-08-12T18:13:49.386Z"
   },
   {
    "duration": 445,
    "start_time": "2021-08-12T18:13:49.393Z"
   },
   {
    "duration": 21,
    "start_time": "2021-08-12T18:13:49.840Z"
   },
   {
    "duration": 37,
    "start_time": "2021-08-12T18:13:49.863Z"
   },
   {
    "duration": 5,
    "start_time": "2021-08-12T18:22:10.472Z"
   },
   {
    "duration": 6,
    "start_time": "2021-08-12T18:22:28.871Z"
   },
   {
    "duration": 8,
    "start_time": "2021-08-12T18:22:36.725Z"
   },
   {
    "duration": 10,
    "start_time": "2021-08-12T18:23:06.469Z"
   },
   {
    "duration": 824,
    "start_time": "2021-08-12T18:25:12.415Z"
   },
   {
    "duration": 397,
    "start_time": "2021-08-12T18:26:51.773Z"
   },
   {
    "duration": 412,
    "start_time": "2021-08-12T18:30:11.996Z"
   },
   {
    "duration": 135,
    "start_time": "2021-08-12T18:32:12.954Z"
   },
   {
    "duration": 139,
    "start_time": "2021-08-12T18:32:39.226Z"
   },
   {
    "duration": 15,
    "start_time": "2021-08-12T18:32:47.262Z"
   },
   {
    "duration": 14,
    "start_time": "2021-08-12T19:24:20.861Z"
   },
   {
    "duration": 17,
    "start_time": "2021-08-12T19:24:34.690Z"
   },
   {
    "duration": 748,
    "start_time": "2021-08-13T23:39:00.240Z"
   },
   {
    "duration": 56,
    "start_time": "2021-08-13T23:39:10.308Z"
   },
   {
    "duration": 57,
    "start_time": "2021-08-13T23:39:20.625Z"
   },
   {
    "duration": 56,
    "start_time": "2021-08-13T23:39:32.616Z"
   },
   {
    "duration": 10,
    "start_time": "2021-08-13T23:40:34.877Z"
   },
   {
    "duration": 11,
    "start_time": "2021-08-13T23:40:41.408Z"
   },
   {
    "duration": 11,
    "start_time": "2021-08-13T23:40:53.696Z"
   },
   {
    "duration": 24,
    "start_time": "2021-08-13T23:41:41.248Z"
   },
   {
    "duration": 31,
    "start_time": "2021-08-13T23:41:56.107Z"
   },
   {
    "duration": 29,
    "start_time": "2021-08-13T23:42:04.421Z"
   },
   {
    "duration": 15,
    "start_time": "2021-08-13T23:45:08.474Z"
   },
   {
    "duration": 10,
    "start_time": "2021-08-13T23:45:41.063Z"
   },
   {
    "duration": 318,
    "start_time": "2021-08-13T23:48:09.161Z"
   },
   {
    "duration": 83,
    "start_time": "2021-08-13T23:48:28.211Z"
   },
   {
    "duration": 11,
    "start_time": "2021-08-13T23:49:18.626Z"
   },
   {
    "duration": 10,
    "start_time": "2021-08-13T23:49:27.977Z"
   },
   {
    "duration": 12,
    "start_time": "2021-08-13T23:50:12.899Z"
   },
   {
    "duration": 3,
    "start_time": "2021-08-13T23:53:56.724Z"
   },
   {
    "duration": 3,
    "start_time": "2021-08-13T23:54:00.182Z"
   },
   {
    "duration": 78,
    "start_time": "2021-08-13T23:58:21.417Z"
   },
   {
    "duration": 10,
    "start_time": "2021-08-14T00:09:36.636Z"
   },
   {
    "duration": 13,
    "start_time": "2021-08-14T00:11:37.333Z"
   },
   {
    "duration": 14,
    "start_time": "2021-08-14T00:11:58.454Z"
   },
   {
    "duration": 9,
    "start_time": "2021-08-14T00:12:05.618Z"
   },
   {
    "duration": 3,
    "start_time": "2021-08-14T00:13:25.950Z"
   },
   {
    "duration": 6486,
    "start_time": "2021-08-14T00:21:32.259Z"
   },
   {
    "duration": 13,
    "start_time": "2021-08-14T00:21:56.207Z"
   },
   {
    "duration": 1697,
    "start_time": "2021-08-14T00:22:37.551Z"
   },
   {
    "duration": 6555,
    "start_time": "2021-08-14T00:23:01.139Z"
   },
   {
    "duration": 12,
    "start_time": "2021-08-14T01:26:06.265Z"
   },
   {
    "duration": 286,
    "start_time": "2021-08-14T01:28:36.663Z"
   },
   {
    "duration": 8,
    "start_time": "2021-08-14T01:31:29.945Z"
   },
   {
    "duration": 264,
    "start_time": "2021-08-14T01:32:01.073Z"
   },
   {
    "duration": 8,
    "start_time": "2021-08-14T01:32:10.074Z"
   },
   {
    "duration": 5,
    "start_time": "2021-08-14T01:54:57.074Z"
   },
   {
    "duration": 4,
    "start_time": "2021-08-14T01:57:37.513Z"
   },
   {
    "duration": 5,
    "start_time": "2021-08-14T01:58:33.448Z"
   },
   {
    "duration": 7,
    "start_time": "2021-08-14T02:04:17.356Z"
   },
   {
    "duration": 4,
    "start_time": "2021-08-14T02:04:30.187Z"
   },
   {
    "duration": 4,
    "start_time": "2021-08-14T02:04:47.246Z"
   },
   {
    "duration": 274,
    "start_time": "2021-08-14T02:08:43.911Z"
   },
   {
    "duration": 3196,
    "start_time": "2021-08-14T02:09:05.126Z"
   },
   {
    "duration": 241,
    "start_time": "2021-08-14T02:11:46.217Z"
   },
   {
    "duration": 273,
    "start_time": "2021-08-14T02:12:01.249Z"
   },
   {
    "duration": 24,
    "start_time": "2021-08-14T02:12:25.317Z"
   },
   {
    "duration": 16,
    "start_time": "2021-08-14T02:14:16.480Z"
   },
   {
    "duration": 15,
    "start_time": "2021-08-14T02:15:30.425Z"
   },
   {
    "duration": 15,
    "start_time": "2021-08-14T02:18:53.440Z"
   },
   {
    "duration": 303,
    "start_time": "2021-08-14T03:23:30.043Z"
   },
   {
    "duration": 13,
    "start_time": "2021-08-14T03:23:53.380Z"
   },
   {
    "duration": 17,
    "start_time": "2021-08-14T03:42:27.799Z"
   },
   {
    "duration": 276,
    "start_time": "2021-08-14T03:45:46.299Z"
   },
   {
    "duration": 3,
    "start_time": "2021-08-14T03:46:09.433Z"
   },
   {
    "duration": 261,
    "start_time": "2021-08-14T03:46:12.251Z"
   },
   {
    "duration": 261,
    "start_time": "2021-08-14T03:46:25.200Z"
   },
   {
    "duration": 19,
    "start_time": "2021-08-14T03:48:04.161Z"
   },
   {
    "duration": 12,
    "start_time": "2021-08-14T03:49:17.148Z"
   },
   {
    "duration": 14,
    "start_time": "2021-08-14T03:49:19.882Z"
   },
   {
    "duration": 13,
    "start_time": "2021-08-14T03:50:22.176Z"
   },
   {
    "duration": 7,
    "start_time": "2021-08-14T03:59:38.792Z"
   },
   {
    "duration": 7,
    "start_time": "2021-08-14T03:59:51.525Z"
   },
   {
    "duration": 8,
    "start_time": "2021-08-14T04:00:02.235Z"
   },
   {
    "duration": 1746,
    "start_time": "2021-08-14T04:00:51.501Z"
   },
   {
    "duration": 265,
    "start_time": "2021-08-14T04:01:13.737Z"
   },
   {
    "duration": 3279,
    "start_time": "2021-08-14T04:01:51.944Z"
   },
   {
    "duration": 8,
    "start_time": "2021-08-14T04:05:01.896Z"
   },
   {
    "duration": 7,
    "start_time": "2021-08-14T04:05:56.718Z"
   },
   {
    "duration": 14,
    "start_time": "2021-08-14T04:09:34.162Z"
   },
   {
    "duration": 258,
    "start_time": "2021-08-14T04:15:42.352Z"
   },
   {
    "duration": 254,
    "start_time": "2021-08-14T04:16:01.037Z"
   },
   {
    "duration": 270,
    "start_time": "2021-08-14T04:16:09.189Z"
   },
   {
    "duration": 354,
    "start_time": "2021-08-14T04:17:31.313Z"
   },
   {
    "duration": 246,
    "start_time": "2021-08-14T04:18:11.682Z"
   },
   {
    "duration": 333,
    "start_time": "2021-08-14T18:15:46.675Z"
   },
   {
    "duration": 810,
    "start_time": "2021-08-14T18:24:11.114Z"
   },
   {
    "duration": 16,
    "start_time": "2021-08-14T18:24:11.928Z"
   },
   {
    "duration": 44,
    "start_time": "2021-08-14T18:24:11.948Z"
   },
   {
    "duration": 24,
    "start_time": "2021-08-14T18:24:11.996Z"
   },
   {
    "duration": 7,
    "start_time": "2021-08-14T18:24:12.023Z"
   },
   {
    "duration": 52,
    "start_time": "2021-08-14T18:24:12.033Z"
   },
   {
    "duration": 9,
    "start_time": "2021-08-14T18:24:12.088Z"
   },
   {
    "duration": 9,
    "start_time": "2021-08-14T18:24:12.103Z"
   },
   {
    "duration": 9,
    "start_time": "2021-08-14T18:24:12.116Z"
   },
   {
    "duration": 57,
    "start_time": "2021-08-14T18:24:12.127Z"
   },
   {
    "duration": 19,
    "start_time": "2021-08-14T18:24:12.187Z"
   },
   {
    "duration": 14,
    "start_time": "2021-08-14T18:24:12.209Z"
   },
   {
    "duration": 9,
    "start_time": "2021-08-14T18:24:12.226Z"
   },
   {
    "duration": 45,
    "start_time": "2021-08-14T18:24:12.238Z"
   },
   {
    "duration": 12,
    "start_time": "2021-08-14T18:24:12.286Z"
   },
   {
    "duration": 8,
    "start_time": "2021-08-14T18:24:12.301Z"
   },
   {
    "duration": 7,
    "start_time": "2021-08-14T18:24:12.312Z"
   },
   {
    "duration": 62,
    "start_time": "2021-08-14T18:24:12.322Z"
   },
   {
    "duration": 6,
    "start_time": "2021-08-14T18:24:12.386Z"
   },
   {
    "duration": 21,
    "start_time": "2021-08-14T18:24:12.394Z"
   },
   {
    "duration": 16,
    "start_time": "2021-08-14T18:24:12.417Z"
   },
   {
    "duration": 8,
    "start_time": "2021-08-14T18:24:12.436Z"
   },
   {
    "duration": 15,
    "start_time": "2021-08-14T18:24:12.486Z"
   },
   {
    "duration": 24,
    "start_time": "2021-08-14T18:24:12.504Z"
   },
   {
    "duration": 19,
    "start_time": "2021-08-14T18:24:12.531Z"
   },
   {
    "duration": 13,
    "start_time": "2021-08-14T18:24:12.583Z"
   },
   {
    "duration": 8,
    "start_time": "2021-08-14T18:24:12.598Z"
   },
   {
    "duration": 7,
    "start_time": "2021-08-14T18:24:12.608Z"
   },
   {
    "duration": 5,
    "start_time": "2021-08-14T18:24:12.617Z"
   },
   {
    "duration": 8,
    "start_time": "2021-08-14T18:24:12.625Z"
   },
   {
    "duration": 24,
    "start_time": "2021-08-14T18:24:12.683Z"
   },
   {
    "duration": 430,
    "start_time": "2021-08-14T18:24:12.710Z"
   },
   {
    "duration": -267,
    "start_time": "2021-08-14T18:24:13.410Z"
   },
   {
    "duration": -390,
    "start_time": "2021-08-14T18:24:13.535Z"
   },
   {
    "duration": -395,
    "start_time": "2021-08-14T18:24:13.542Z"
   },
   {
    "duration": -403,
    "start_time": "2021-08-14T18:24:13.552Z"
   },
   {
    "duration": -409,
    "start_time": "2021-08-14T18:24:13.559Z"
   },
   {
    "duration": -422,
    "start_time": "2021-08-14T18:24:13.574Z"
   },
   {
    "duration": -431,
    "start_time": "2021-08-14T18:24:13.585Z"
   },
   {
    "duration": -434,
    "start_time": "2021-08-14T18:24:13.590Z"
   },
   {
    "duration": -446,
    "start_time": "2021-08-14T18:24:13.604Z"
   },
   {
    "duration": -451,
    "start_time": "2021-08-14T18:24:13.611Z"
   },
   {
    "duration": -460,
    "start_time": "2021-08-14T18:24:13.622Z"
   },
   {
    "duration": -463,
    "start_time": "2021-08-14T18:24:13.627Z"
   },
   {
    "duration": -472,
    "start_time": "2021-08-14T18:24:13.638Z"
   },
   {
    "duration": -483,
    "start_time": "2021-08-14T18:24:13.650Z"
   },
   {
    "duration": -487,
    "start_time": "2021-08-14T18:24:13.656Z"
   },
   {
    "duration": -495,
    "start_time": "2021-08-14T18:24:13.667Z"
   },
   {
    "duration": -516,
    "start_time": "2021-08-14T18:24:13.690Z"
   },
   {
    "duration": -527,
    "start_time": "2021-08-14T18:24:13.703Z"
   },
   {
    "duration": -528,
    "start_time": "2021-08-14T18:24:13.710Z"
   },
   {
    "duration": -537,
    "start_time": "2021-08-14T18:24:13.721Z"
   },
   {
    "duration": -542,
    "start_time": "2021-08-14T18:24:13.728Z"
   },
   {
    "duration": -563,
    "start_time": "2021-08-14T18:24:13.751Z"
   },
   {
    "duration": -568,
    "start_time": "2021-08-14T18:24:13.758Z"
   },
   {
    "duration": -581,
    "start_time": "2021-08-14T18:24:13.773Z"
   },
   {
    "duration": -585,
    "start_time": "2021-08-14T18:24:13.779Z"
   },
   {
    "duration": -595,
    "start_time": "2021-08-14T18:24:13.791Z"
   },
   {
    "duration": -605,
    "start_time": "2021-08-14T18:24:13.803Z"
   },
   {
    "duration": -609,
    "start_time": "2021-08-14T18:24:13.809Z"
   },
   {
    "duration": -618,
    "start_time": "2021-08-14T18:24:13.820Z"
   },
   {
    "duration": -623,
    "start_time": "2021-08-14T18:24:13.827Z"
   },
   {
    "duration": 244,
    "start_time": "2021-08-14T18:27:15.708Z"
   },
   {
    "duration": 30,
    "start_time": "2021-08-14T18:27:22.541Z"
   },
   {
    "duration": 32,
    "start_time": "2021-08-14T18:28:16.675Z"
   },
   {
    "duration": 281,
    "start_time": "2021-08-14T18:32:01.984Z"
   },
   {
    "duration": 3221,
    "start_time": "2021-08-14T18:32:57.686Z"
   },
   {
    "duration": 32,
    "start_time": "2021-08-14T18:55:48.935Z"
   },
   {
    "duration": 36,
    "start_time": "2021-08-14T18:56:06.065Z"
   },
   {
    "duration": 39,
    "start_time": "2021-08-14T18:56:29.402Z"
   },
   {
    "duration": 27,
    "start_time": "2021-08-14T18:59:37.276Z"
   },
   {
    "duration": 22,
    "start_time": "2021-08-14T19:00:21.251Z"
   },
   {
    "duration": 26,
    "start_time": "2021-08-14T19:00:50.019Z"
   },
   {
    "duration": 8,
    "start_time": "2021-08-14T19:02:18.933Z"
   },
   {
    "duration": 601,
    "start_time": "2021-08-14T19:02:22.038Z"
   },
   {
    "duration": 26,
    "start_time": "2021-08-14T19:02:24.477Z"
   },
   {
    "duration": 26,
    "start_time": "2021-08-14T19:04:05.325Z"
   },
   {
    "duration": 27,
    "start_time": "2021-08-14T19:05:29.273Z"
   },
   {
    "duration": 10,
    "start_time": "2021-08-14T19:37:02.171Z"
   },
   {
    "duration": 11,
    "start_time": "2021-08-14T19:39:14.046Z"
   },
   {
    "duration": 13,
    "start_time": "2021-08-14T19:40:09.285Z"
   },
   {
    "duration": 12,
    "start_time": "2021-08-14T19:41:42.621Z"
   },
   {
    "duration": 35,
    "start_time": "2021-08-14T19:45:44.175Z"
   },
   {
    "duration": 11,
    "start_time": "2021-08-14T19:46:41.798Z"
   },
   {
    "duration": 14,
    "start_time": "2021-08-14T20:01:16.159Z"
   },
   {
    "duration": 13,
    "start_time": "2021-08-14T20:01:39.170Z"
   },
   {
    "duration": 8,
    "start_time": "2021-08-14T20:01:45.227Z"
   },
   {
    "duration": 13,
    "start_time": "2021-08-14T20:01:53.889Z"
   },
   {
    "duration": 8,
    "start_time": "2021-08-14T20:05:56.424Z"
   },
   {
    "duration": 10,
    "start_time": "2021-08-14T20:14:19.178Z"
   },
   {
    "duration": 7,
    "start_time": "2021-08-14T20:14:24.155Z"
   },
   {
    "duration": 12,
    "start_time": "2021-08-14T20:14:28.344Z"
   },
   {
    "duration": 807,
    "start_time": "2021-08-14T20:14:59.641Z"
   },
   {
    "duration": 24,
    "start_time": "2021-08-14T20:15:05.426Z"
   },
   {
    "duration": 20,
    "start_time": "2021-08-14T20:15:10.338Z"
   },
   {
    "duration": 24,
    "start_time": "2021-08-14T20:15:14.309Z"
   },
   {
    "duration": 14,
    "start_time": "2021-08-14T20:16:04.787Z"
   },
   {
    "duration": 21,
    "start_time": "2021-08-14T20:16:36.402Z"
   },
   {
    "duration": 20,
    "start_time": "2021-08-14T20:16:46.547Z"
   },
   {
    "duration": 10,
    "start_time": "2021-08-14T20:16:56.058Z"
   },
   {
    "duration": 22,
    "start_time": "2021-08-14T20:17:12.817Z"
   },
   {
    "duration": 14,
    "start_time": "2021-08-14T20:17:33.559Z"
   },
   {
    "duration": 21,
    "start_time": "2021-08-14T20:18:51.892Z"
   },
   {
    "duration": 22,
    "start_time": "2021-08-14T20:19:22.125Z"
   },
   {
    "duration": 22,
    "start_time": "2021-08-14T20:21:15.303Z"
   },
   {
    "duration": 23,
    "start_time": "2021-08-14T20:22:08.243Z"
   },
   {
    "duration": 6,
    "start_time": "2021-08-14T20:34:47.687Z"
   },
   {
    "duration": 362,
    "start_time": "2021-08-14T20:34:49.020Z"
   },
   {
    "duration": 3,
    "start_time": "2021-08-14T20:34:49.816Z"
   },
   {
    "duration": 19,
    "start_time": "2021-08-14T20:34:57.573Z"
   },
   {
    "duration": 32,
    "start_time": "2021-08-14T20:37:25.297Z"
   },
   {
    "duration": 4,
    "start_time": "2021-08-14T20:40:29.659Z"
   },
   {
    "duration": 381,
    "start_time": "2021-08-14T20:40:30.820Z"
   },
   {
    "duration": 7,
    "start_time": "2021-08-14T20:40:42.533Z"
   },
   {
    "duration": 282,
    "start_time": "2021-08-14T20:40:44.304Z"
   },
   {
    "duration": 18,
    "start_time": "2021-08-14T20:41:17.298Z"
   },
   {
    "duration": 8,
    "start_time": "2021-08-14T20:41:37.357Z"
   },
   {
    "duration": 5,
    "start_time": "2021-08-14T20:41:43.280Z"
   },
   {
    "duration": 9,
    "start_time": "2021-08-14T20:41:52.240Z"
   },
   {
    "duration": 15,
    "start_time": "2021-08-14T20:43:06.385Z"
   },
   {
    "duration": 21,
    "start_time": "2021-08-14T20:48:54.143Z"
   },
   {
    "duration": 9,
    "start_time": "2021-08-14T20:48:56.215Z"
   },
   {
    "duration": 14,
    "start_time": "2021-08-14T20:49:42.442Z"
   },
   {
    "duration": 844,
    "start_time": "2021-08-14T20:50:23.453Z"
   },
   {
    "duration": 14,
    "start_time": "2021-08-14T20:50:24.300Z"
   },
   {
    "duration": 14,
    "start_time": "2021-08-14T20:50:24.317Z"
   },
   {
    "duration": 51,
    "start_time": "2021-08-14T20:50:24.334Z"
   },
   {
    "duration": 7,
    "start_time": "2021-08-14T20:50:24.388Z"
   },
   {
    "duration": 28,
    "start_time": "2021-08-14T20:50:24.397Z"
   },
   {
    "duration": 31,
    "start_time": "2021-08-14T20:50:24.428Z"
   },
   {
    "duration": 15,
    "start_time": "2021-08-14T20:50:24.463Z"
   },
   {
    "duration": 18,
    "start_time": "2021-08-14T20:50:24.481Z"
   },
   {
    "duration": 21,
    "start_time": "2021-08-14T20:50:24.501Z"
   },
   {
    "duration": 33,
    "start_time": "2021-08-14T20:50:24.524Z"
   },
   {
    "duration": 17,
    "start_time": "2021-08-14T20:50:24.560Z"
   },
   {
    "duration": 27,
    "start_time": "2021-08-14T20:50:24.580Z"
   },
   {
    "duration": 20,
    "start_time": "2021-08-14T20:50:24.610Z"
   },
   {
    "duration": 19,
    "start_time": "2021-08-14T20:50:24.633Z"
   },
   {
    "duration": 20,
    "start_time": "2021-08-14T20:50:24.654Z"
   },
   {
    "duration": 19,
    "start_time": "2021-08-14T20:50:24.676Z"
   },
   {
    "duration": 22,
    "start_time": "2021-08-14T20:50:24.697Z"
   },
   {
    "duration": 5,
    "start_time": "2021-08-14T20:50:24.722Z"
   },
   {
    "duration": 23,
    "start_time": "2021-08-14T20:50:24.729Z"
   },
   {
    "duration": 15,
    "start_time": "2021-08-14T20:50:24.754Z"
   },
   {
    "duration": 15,
    "start_time": "2021-08-14T20:50:24.771Z"
   },
   {
    "duration": 4,
    "start_time": "2021-08-14T20:50:24.791Z"
   },
   {
    "duration": 91,
    "start_time": "2021-08-14T20:50:24.798Z"
   },
   {
    "duration": -682,
    "start_time": "2021-08-14T20:50:25.574Z"
   },
   {
    "duration": -688,
    "start_time": "2021-08-14T20:50:25.582Z"
   },
   {
    "duration": -695,
    "start_time": "2021-08-14T20:50:25.590Z"
   },
   {
    "duration": -702,
    "start_time": "2021-08-14T20:50:25.599Z"
   },
   {
    "duration": -717,
    "start_time": "2021-08-14T20:50:25.615Z"
   },
   {
    "duration": -728,
    "start_time": "2021-08-14T20:50:25.627Z"
   },
   {
    "duration": -733,
    "start_time": "2021-08-14T20:50:25.634Z"
   },
   {
    "duration": -745,
    "start_time": "2021-08-14T20:50:25.647Z"
   },
   {
    "duration": -756,
    "start_time": "2021-08-14T20:50:25.659Z"
   },
   {
    "duration": -762,
    "start_time": "2021-08-14T20:50:25.666Z"
   },
   {
    "duration": -773,
    "start_time": "2021-08-14T20:50:25.678Z"
   },
   {
    "duration": -784,
    "start_time": "2021-08-14T20:50:25.690Z"
   },
   {
    "duration": -790,
    "start_time": "2021-08-14T20:50:25.697Z"
   },
   {
    "duration": -801,
    "start_time": "2021-08-14T20:50:25.709Z"
   },
   {
    "duration": -840,
    "start_time": "2021-08-14T20:50:25.750Z"
   },
   {
    "duration": -854,
    "start_time": "2021-08-14T20:50:25.765Z"
   },
   {
    "duration": -867,
    "start_time": "2021-08-14T20:50:25.780Z"
   },
   {
    "duration": -883,
    "start_time": "2021-08-14T20:50:25.797Z"
   },
   {
    "duration": -899,
    "start_time": "2021-08-14T20:50:25.814Z"
   },
   {
    "duration": -913,
    "start_time": "2021-08-14T20:50:25.830Z"
   },
   {
    "duration": -927,
    "start_time": "2021-08-14T20:50:25.845Z"
   },
   {
    "duration": -942,
    "start_time": "2021-08-14T20:50:25.861Z"
   },
   {
    "duration": -948,
    "start_time": "2021-08-14T20:50:25.868Z"
   },
   {
    "duration": -961,
    "start_time": "2021-08-14T20:50:25.883Z"
   },
   {
    "duration": -976,
    "start_time": "2021-08-14T20:50:25.899Z"
   },
   {
    "duration": -991,
    "start_time": "2021-08-14T20:50:25.915Z"
   },
   {
    "duration": -1006,
    "start_time": "2021-08-14T20:50:25.931Z"
   },
   {
    "duration": -1020,
    "start_time": "2021-08-14T20:50:25.947Z"
   },
   {
    "duration": -1037,
    "start_time": "2021-08-14T20:50:25.965Z"
   },
   {
    "duration": -1049,
    "start_time": "2021-08-14T20:50:25.978Z"
   },
   {
    "duration": -1055,
    "start_time": "2021-08-14T20:50:25.986Z"
   },
   {
    "duration": -1067,
    "start_time": "2021-08-14T20:50:25.999Z"
   },
   {
    "duration": -1079,
    "start_time": "2021-08-14T20:50:26.012Z"
   },
   {
    "duration": -1038,
    "start_time": "2021-08-14T20:50:26.020Z"
   },
   {
    "duration": -1050,
    "start_time": "2021-08-14T20:50:26.034Z"
   },
   {
    "duration": -1062,
    "start_time": "2021-08-14T20:50:26.047Z"
   },
   {
    "duration": -1077,
    "start_time": "2021-08-14T20:50:26.063Z"
   },
   {
    "duration": -1089,
    "start_time": "2021-08-14T20:50:26.076Z"
   },
   {
    "duration": -1098,
    "start_time": "2021-08-14T20:50:26.086Z"
   },
   {
    "duration": -1121,
    "start_time": "2021-08-14T20:50:26.111Z"
   },
   {
    "duration": -1129,
    "start_time": "2021-08-14T20:50:26.120Z"
   },
   {
    "duration": -1144,
    "start_time": "2021-08-14T20:50:26.136Z"
   },
   {
    "duration": -1159,
    "start_time": "2021-08-14T20:50:26.152Z"
   },
   {
    "duration": -1174,
    "start_time": "2021-08-14T20:50:26.168Z"
   },
   {
    "duration": -1188,
    "start_time": "2021-08-14T20:50:26.184Z"
   },
   {
    "duration": -1203,
    "start_time": "2021-08-14T20:50:26.200Z"
   },
   {
    "duration": -1219,
    "start_time": "2021-08-14T20:50:26.217Z"
   },
   {
    "duration": -1234,
    "start_time": "2021-08-14T20:50:26.233Z"
   },
   {
    "duration": -1249,
    "start_time": "2021-08-14T20:50:26.250Z"
   },
   {
    "duration": -1265,
    "start_time": "2021-08-14T20:50:26.267Z"
   },
   {
    "duration": -1280,
    "start_time": "2021-08-14T20:50:26.283Z"
   },
   {
    "duration": -1306,
    "start_time": "2021-08-14T20:50:26.310Z"
   },
   {
    "duration": -1312,
    "start_time": "2021-08-14T20:50:26.317Z"
   },
   {
    "duration": -1318,
    "start_time": "2021-08-14T20:50:26.325Z"
   },
   {
    "duration": -1339,
    "start_time": "2021-08-14T20:50:26.347Z"
   },
   {
    "duration": -1351,
    "start_time": "2021-08-14T20:50:26.360Z"
   },
   {
    "duration": -1358,
    "start_time": "2021-08-14T20:50:26.368Z"
   },
   {
    "duration": -1367,
    "start_time": "2021-08-14T20:50:26.379Z"
   },
   {
    "duration": -1377,
    "start_time": "2021-08-14T20:50:26.390Z"
   },
   {
    "duration": -1383,
    "start_time": "2021-08-14T20:50:26.397Z"
   },
   {
    "duration": -1392,
    "start_time": "2021-08-14T20:50:26.408Z"
   },
   {
    "duration": 5,
    "start_time": "2021-08-14T20:51:01.186Z"
   },
   {
    "duration": 357,
    "start_time": "2021-08-14T20:51:02.359Z"
   },
   {
    "duration": 20,
    "start_time": "2021-08-14T20:51:03.460Z"
   },
   {
    "duration": 24,
    "start_time": "2021-08-14T20:51:07.991Z"
   },
   {
    "duration": 10,
    "start_time": "2021-08-14T20:51:09.847Z"
   },
   {
    "duration": 20,
    "start_time": "2021-08-14T20:51:10.588Z"
   },
   {
    "duration": 9,
    "start_time": "2021-08-14T20:51:14.591Z"
   },
   {
    "duration": 21,
    "start_time": "2021-08-14T20:51:18.511Z"
   },
   {
    "duration": 9,
    "start_time": "2021-08-14T20:51:26.178Z"
   },
   {
    "duration": 27,
    "start_time": "2021-08-14T20:51:28.814Z"
   },
   {
    "duration": 10,
    "start_time": "2021-08-14T20:51:32.022Z"
   },
   {
    "duration": 22,
    "start_time": "2021-08-14T20:51:33.926Z"
   },
   {
    "duration": 10,
    "start_time": "2021-08-14T20:51:36.823Z"
   },
   {
    "duration": 21,
    "start_time": "2021-08-14T20:51:40.064Z"
   },
   {
    "duration": 20,
    "start_time": "2021-08-14T20:51:41.272Z"
   },
   {
    "duration": 21,
    "start_time": "2021-08-14T20:51:42.650Z"
   },
   {
    "duration": 23,
    "start_time": "2021-08-14T20:51:43.519Z"
   },
   {
    "duration": 31,
    "start_time": "2021-08-14T20:51:44.776Z"
   },
   {
    "duration": 12,
    "start_time": "2021-08-14T20:52:03.469Z"
   },
   {
    "duration": 14,
    "start_time": "2021-08-14T20:52:28.312Z"
   },
   {
    "duration": 7,
    "start_time": "2021-08-14T20:52:31.087Z"
   },
   {
    "duration": 13,
    "start_time": "2021-08-14T20:52:32.796Z"
   },
   {
    "duration": 774,
    "start_time": "2021-08-14T20:53:55.410Z"
   },
   {
    "duration": 14,
    "start_time": "2021-08-14T20:53:56.187Z"
   },
   {
    "duration": 15,
    "start_time": "2021-08-14T20:53:56.204Z"
   },
   {
    "duration": 20,
    "start_time": "2021-08-14T20:53:56.221Z"
   },
   {
    "duration": 8,
    "start_time": "2021-08-14T20:53:56.283Z"
   },
   {
    "duration": 11,
    "start_time": "2021-08-14T20:53:56.293Z"
   },
   {
    "duration": 9,
    "start_time": "2021-08-14T20:53:56.306Z"
   },
   {
    "duration": 11,
    "start_time": "2021-08-14T20:53:56.319Z"
   },
   {
    "duration": 11,
    "start_time": "2021-08-14T20:53:56.333Z"
   },
   {
    "duration": 43,
    "start_time": "2021-08-14T20:53:56.346Z"
   },
   {
    "duration": 20,
    "start_time": "2021-08-14T20:53:56.392Z"
   },
   {
    "duration": 10,
    "start_time": "2021-08-14T20:53:56.414Z"
   },
   {
    "duration": 8,
    "start_time": "2021-08-14T20:53:56.426Z"
   },
   {
    "duration": 54,
    "start_time": "2021-08-14T20:53:56.436Z"
   },
   {
    "duration": 9,
    "start_time": "2021-08-14T20:53:56.493Z"
   },
   {
    "duration": 10,
    "start_time": "2021-08-14T20:53:56.505Z"
   },
   {
    "duration": 7,
    "start_time": "2021-08-14T20:53:56.517Z"
   },
   {
    "duration": 58,
    "start_time": "2021-08-14T20:53:56.526Z"
   },
   {
    "duration": 5,
    "start_time": "2021-08-14T20:53:56.586Z"
   },
   {
    "duration": 16,
    "start_time": "2021-08-14T20:53:56.593Z"
   },
   {
    "duration": 14,
    "start_time": "2021-08-14T20:53:56.612Z"
   },
   {
    "duration": 56,
    "start_time": "2021-08-14T20:53:56.628Z"
   },
   {
    "duration": 4,
    "start_time": "2021-08-14T20:53:56.689Z"
   },
   {
    "duration": 77,
    "start_time": "2021-08-14T20:53:56.697Z"
   },
   {
    "duration": -235,
    "start_time": "2021-08-14T20:53:57.012Z"
   },
   {
    "duration": -249,
    "start_time": "2021-08-14T20:53:57.028Z"
   },
   {
    "duration": -263,
    "start_time": "2021-08-14T20:53:57.043Z"
   },
   {
    "duration": -275,
    "start_time": "2021-08-14T20:53:57.057Z"
   },
   {
    "duration": -280,
    "start_time": "2021-08-14T20:53:57.064Z"
   },
   {
    "duration": -292,
    "start_time": "2021-08-14T20:53:57.077Z"
   },
   {
    "duration": -304,
    "start_time": "2021-08-14T20:53:57.090Z"
   },
   {
    "duration": -309,
    "start_time": "2021-08-14T20:53:57.097Z"
   },
   {
    "duration": -322,
    "start_time": "2021-08-14T20:53:57.111Z"
   },
   {
    "duration": -334,
    "start_time": "2021-08-14T20:53:57.124Z"
   },
   {
    "duration": -339,
    "start_time": "2021-08-14T20:53:57.131Z"
   },
   {
    "duration": -350,
    "start_time": "2021-08-14T20:53:57.144Z"
   },
   {
    "duration": -362,
    "start_time": "2021-08-14T20:53:57.157Z"
   },
   {
    "duration": -367,
    "start_time": "2021-08-14T20:53:57.163Z"
   },
   {
    "duration": -382,
    "start_time": "2021-08-14T20:53:57.180Z"
   },
   {
    "duration": -396,
    "start_time": "2021-08-14T20:53:57.195Z"
   },
   {
    "duration": -409,
    "start_time": "2021-08-14T20:53:57.210Z"
   },
   {
    "duration": -423,
    "start_time": "2021-08-14T20:53:57.225Z"
   },
   {
    "duration": -436,
    "start_time": "2021-08-14T20:53:57.239Z"
   },
   {
    "duration": -441,
    "start_time": "2021-08-14T20:53:57.246Z"
   },
   {
    "duration": -453,
    "start_time": "2021-08-14T20:53:57.259Z"
   },
   {
    "duration": -466,
    "start_time": "2021-08-14T20:53:57.273Z"
   },
   {
    "duration": -471,
    "start_time": "2021-08-14T20:53:57.280Z"
   },
   {
    "duration": -484,
    "start_time": "2021-08-14T20:53:57.294Z"
   },
   {
    "duration": -495,
    "start_time": "2021-08-14T20:53:57.307Z"
   },
   {
    "duration": -500,
    "start_time": "2021-08-14T20:53:57.313Z"
   },
   {
    "duration": -513,
    "start_time": "2021-08-14T20:53:57.327Z"
   },
   {
    "duration": -526,
    "start_time": "2021-08-14T20:53:57.341Z"
   },
   {
    "duration": -531,
    "start_time": "2021-08-14T20:53:57.348Z"
   },
   {
    "duration": -543,
    "start_time": "2021-08-14T20:53:57.361Z"
   },
   {
    "duration": -555,
    "start_time": "2021-08-14T20:53:57.375Z"
   },
   {
    "duration": -560,
    "start_time": "2021-08-14T20:53:57.381Z"
   },
   {
    "duration": -513,
    "start_time": "2021-08-14T20:53:57.395Z"
   },
   {
    "duration": -525,
    "start_time": "2021-08-14T20:53:57.409Z"
   },
   {
    "duration": -531,
    "start_time": "2021-08-14T20:53:57.416Z"
   },
   {
    "duration": -540,
    "start_time": "2021-08-14T20:53:57.427Z"
   },
   {
    "duration": -550,
    "start_time": "2021-08-14T20:53:57.438Z"
   },
   {
    "duration": -557,
    "start_time": "2021-08-14T20:53:57.446Z"
   },
   {
    "duration": -567,
    "start_time": "2021-08-14T20:53:57.457Z"
   },
   {
    "duration": -573,
    "start_time": "2021-08-14T20:53:57.464Z"
   },
   {
    "duration": -583,
    "start_time": "2021-08-14T20:53:57.476Z"
   },
   {
    "duration": -594,
    "start_time": "2021-08-14T20:53:57.488Z"
   },
   {
    "duration": -598,
    "start_time": "2021-08-14T20:53:57.493Z"
   },
   {
    "duration": -607,
    "start_time": "2021-08-14T20:53:57.503Z"
   },
   {
    "duration": -612,
    "start_time": "2021-08-14T20:53:57.509Z"
   },
   {
    "duration": -616,
    "start_time": "2021-08-14T20:53:57.515Z"
   },
   {
    "duration": -626,
    "start_time": "2021-08-14T20:53:57.526Z"
   },
   {
    "duration": -631,
    "start_time": "2021-08-14T20:53:57.532Z"
   },
   {
    "duration": -642,
    "start_time": "2021-08-14T20:53:57.544Z"
   },
   {
    "duration": -652,
    "start_time": "2021-08-14T20:53:57.555Z"
   },
   {
    "duration": -656,
    "start_time": "2021-08-14T20:53:57.560Z"
   },
   {
    "duration": -665,
    "start_time": "2021-08-14T20:53:57.571Z"
   },
   {
    "duration": -671,
    "start_time": "2021-08-14T20:53:57.578Z"
   },
   {
    "duration": -681,
    "start_time": "2021-08-14T20:53:57.589Z"
   },
   {
    "duration": -687,
    "start_time": "2021-08-14T20:53:57.596Z"
   },
   {
    "duration": -696,
    "start_time": "2021-08-14T20:53:57.606Z"
   },
   {
    "duration": -700,
    "start_time": "2021-08-14T20:53:57.612Z"
   },
   {
    "duration": -710,
    "start_time": "2021-08-14T20:53:57.623Z"
   },
   {
    "duration": -715,
    "start_time": "2021-08-14T20:53:57.629Z"
   },
   {
    "duration": -725,
    "start_time": "2021-08-14T20:53:57.640Z"
   },
   {
    "duration": -729,
    "start_time": "2021-08-14T20:53:57.645Z"
   },
   {
    "duration": 5,
    "start_time": "2021-08-14T20:54:15.032Z"
   },
   {
    "duration": 360,
    "start_time": "2021-08-14T20:54:15.676Z"
   },
   {
    "duration": 19,
    "start_time": "2021-08-14T20:54:16.804Z"
   },
   {
    "duration": 24,
    "start_time": "2021-08-14T20:54:17.819Z"
   },
   {
    "duration": 9,
    "start_time": "2021-08-14T20:54:18.990Z"
   },
   {
    "duration": 21,
    "start_time": "2021-08-14T20:54:19.727Z"
   },
   {
    "duration": 10,
    "start_time": "2021-08-14T20:54:21.167Z"
   },
   {
    "duration": 20,
    "start_time": "2021-08-14T20:54:21.332Z"
   },
   {
    "duration": 11,
    "start_time": "2021-08-14T20:54:22.150Z"
   },
   {
    "duration": 27,
    "start_time": "2021-08-14T20:54:22.859Z"
   },
   {
    "duration": 9,
    "start_time": "2021-08-14T20:54:23.612Z"
   },
   {
    "duration": 19,
    "start_time": "2021-08-14T20:54:24.335Z"
   },
   {
    "duration": 10,
    "start_time": "2021-08-14T20:54:25.055Z"
   },
   {
    "duration": 21,
    "start_time": "2021-08-14T20:54:25.747Z"
   },
   {
    "duration": 21,
    "start_time": "2021-08-14T20:54:26.507Z"
   },
   {
    "duration": 22,
    "start_time": "2021-08-14T20:54:27.205Z"
   },
   {
    "duration": 33,
    "start_time": "2021-08-14T20:54:27.920Z"
   },
   {
    "duration": 43,
    "start_time": "2021-08-14T20:54:28.621Z"
   },
   {
    "duration": 17,
    "start_time": "2021-08-14T20:54:29.302Z"
   },
   {
    "duration": 16,
    "start_time": "2021-08-14T20:54:36.342Z"
   },
   {
    "duration": 9,
    "start_time": "2021-08-14T20:54:37.842Z"
   },
   {
    "duration": 16,
    "start_time": "2021-08-14T20:54:53.738Z"
   },
   {
    "duration": 774,
    "start_time": "2021-08-14T20:55:53.217Z"
   },
   {
    "duration": 13,
    "start_time": "2021-08-14T20:55:53.994Z"
   },
   {
    "duration": 15,
    "start_time": "2021-08-14T20:55:54.010Z"
   },
   {
    "duration": 60,
    "start_time": "2021-08-14T20:55:54.028Z"
   },
   {
    "duration": 7,
    "start_time": "2021-08-14T20:55:54.090Z"
   },
   {
    "duration": 14,
    "start_time": "2021-08-14T20:55:54.099Z"
   },
   {
    "duration": 13,
    "start_time": "2021-08-14T20:55:54.115Z"
   },
   {
    "duration": 9,
    "start_time": "2021-08-14T20:55:54.132Z"
   },
   {
    "duration": 46,
    "start_time": "2021-08-14T20:55:54.143Z"
   },
   {
    "duration": 8,
    "start_time": "2021-08-14T20:55:54.192Z"
   },
   {
    "duration": 18,
    "start_time": "2021-08-14T20:55:54.202Z"
   },
   {
    "duration": 16,
    "start_time": "2021-08-14T20:55:54.222Z"
   },
   {
    "duration": 47,
    "start_time": "2021-08-14T20:55:54.240Z"
   },
   {
    "duration": 15,
    "start_time": "2021-08-14T20:55:54.290Z"
   },
   {
    "duration": 11,
    "start_time": "2021-08-14T20:55:54.308Z"
   },
   {
    "duration": 6,
    "start_time": "2021-08-14T20:55:54.322Z"
   },
   {
    "duration": 7,
    "start_time": "2021-08-14T20:55:54.330Z"
   },
   {
    "duration": 55,
    "start_time": "2021-08-14T20:55:54.339Z"
   },
   {
    "duration": 4,
    "start_time": "2021-08-14T20:55:54.396Z"
   },
   {
    "duration": 14,
    "start_time": "2021-08-14T20:55:54.402Z"
   },
   {
    "duration": 15,
    "start_time": "2021-08-14T20:55:54.418Z"
   },
   {
    "duration": 52,
    "start_time": "2021-08-14T20:55:54.436Z"
   },
   {
    "duration": 3,
    "start_time": "2021-08-14T20:55:54.494Z"
   },
   {
    "duration": 73,
    "start_time": "2021-08-14T20:55:54.500Z"
   },
   {
    "duration": -290,
    "start_time": "2021-08-14T20:55:54.866Z"
   },
   {
    "duration": -297,
    "start_time": "2021-08-14T20:55:54.874Z"
   },
   {
    "duration": -309,
    "start_time": "2021-08-14T20:55:54.888Z"
   },
   {
    "duration": -319,
    "start_time": "2021-08-14T20:55:54.901Z"
   },
   {
    "duration": -324,
    "start_time": "2021-08-14T20:55:54.908Z"
   },
   {
    "duration": -335,
    "start_time": "2021-08-14T20:55:54.921Z"
   },
   {
    "duration": -348,
    "start_time": "2021-08-14T20:55:54.936Z"
   },
   {
    "duration": -352,
    "start_time": "2021-08-14T20:55:54.942Z"
   },
   {
    "duration": -363,
    "start_time": "2021-08-14T20:55:54.955Z"
   },
   {
    "duration": -373,
    "start_time": "2021-08-14T20:55:54.968Z"
   },
   {
    "duration": -379,
    "start_time": "2021-08-14T20:55:54.975Z"
   },
   {
    "duration": -388,
    "start_time": "2021-08-14T20:55:54.987Z"
   },
   {
    "duration": -399,
    "start_time": "2021-08-14T20:55:55.000Z"
   },
   {
    "duration": -406,
    "start_time": "2021-08-14T20:55:55.009Z"
   },
   {
    "duration": -453,
    "start_time": "2021-08-14T20:55:55.059Z"
   },
   {
    "duration": -467,
    "start_time": "2021-08-14T20:55:55.075Z"
   },
   {
    "duration": -483,
    "start_time": "2021-08-14T20:55:55.093Z"
   },
   {
    "duration": -497,
    "start_time": "2021-08-14T20:55:55.109Z"
   },
   {
    "duration": -514,
    "start_time": "2021-08-14T20:55:55.127Z"
   },
   {
    "duration": -526,
    "start_time": "2021-08-14T20:55:55.142Z"
   },
   {
    "duration": -542,
    "start_time": "2021-08-14T20:55:55.160Z"
   },
   {
    "duration": -556,
    "start_time": "2021-08-14T20:55:55.176Z"
   },
   {
    "duration": -511,
    "start_time": "2021-08-14T20:55:55.192Z"
   },
   {
    "duration": -524,
    "start_time": "2021-08-14T20:55:55.208Z"
   },
   {
    "duration": -540,
    "start_time": "2021-08-14T20:55:55.226Z"
   },
   {
    "duration": -552,
    "start_time": "2021-08-14T20:55:55.240Z"
   },
   {
    "duration": -564,
    "start_time": "2021-08-14T20:55:55.254Z"
   },
   {
    "duration": -571,
    "start_time": "2021-08-14T20:55:55.263Z"
   },
   {
    "duration": -590,
    "start_time": "2021-08-14T20:55:55.284Z"
   },
   {
    "duration": -596,
    "start_time": "2021-08-14T20:55:55.293Z"
   },
   {
    "duration": -607,
    "start_time": "2021-08-14T20:55:55.306Z"
   },
   {
    "duration": -618,
    "start_time": "2021-08-14T20:55:55.319Z"
   },
   {
    "duration": -623,
    "start_time": "2021-08-14T20:55:55.326Z"
   },
   {
    "duration": -633,
    "start_time": "2021-08-14T20:55:55.339Z"
   },
   {
    "duration": -646,
    "start_time": "2021-08-14T20:55:55.353Z"
   },
   {
    "duration": -654,
    "start_time": "2021-08-14T20:55:55.363Z"
   },
   {
    "duration": -667,
    "start_time": "2021-08-14T20:55:55.378Z"
   },
   {
    "duration": -680,
    "start_time": "2021-08-14T20:55:55.393Z"
   },
   {
    "duration": -692,
    "start_time": "2021-08-14T20:55:55.408Z"
   },
   {
    "duration": -706,
    "start_time": "2021-08-14T20:55:55.424Z"
   },
   {
    "duration": -718,
    "start_time": "2021-08-14T20:55:55.438Z"
   },
   {
    "duration": -664,
    "start_time": "2021-08-14T20:55:55.446Z"
   },
   {
    "duration": -676,
    "start_time": "2021-08-14T20:55:55.460Z"
   },
   {
    "duration": -685,
    "start_time": "2021-08-14T20:55:55.471Z"
   },
   {
    "duration": -689,
    "start_time": "2021-08-14T20:55:55.478Z"
   },
   {
    "duration": -700,
    "start_time": "2021-08-14T20:55:55.491Z"
   },
   {
    "duration": -709,
    "start_time": "2021-08-14T20:55:55.502Z"
   },
   {
    "duration": -715,
    "start_time": "2021-08-14T20:55:55.510Z"
   },
   {
    "duration": -725,
    "start_time": "2021-08-14T20:55:55.522Z"
   },
   {
    "duration": -731,
    "start_time": "2021-08-14T20:55:55.530Z"
   },
   {
    "duration": -740,
    "start_time": "2021-08-14T20:55:55.541Z"
   },
   {
    "duration": -748,
    "start_time": "2021-08-14T20:55:55.552Z"
   },
   {
    "duration": -753,
    "start_time": "2021-08-14T20:55:55.559Z"
   },
   {
    "duration": -761,
    "start_time": "2021-08-14T20:55:55.569Z"
   },
   {
    "duration": -768,
    "start_time": "2021-08-14T20:55:55.578Z"
   },
   {
    "duration": -776,
    "start_time": "2021-08-14T20:55:55.588Z"
   },
   {
    "duration": -780,
    "start_time": "2021-08-14T20:55:55.595Z"
   },
   {
    "duration": -789,
    "start_time": "2021-08-14T20:55:55.606Z"
   },
   {
    "duration": -794,
    "start_time": "2021-08-14T20:55:55.613Z"
   },
   {
    "duration": -803,
    "start_time": "2021-08-14T20:55:55.624Z"
   },
   {
    "duration": -754,
    "start_time": "2021-08-14T20:55:55.635Z"
   },
   {
    "duration": 14,
    "start_time": "2021-08-14T20:56:03.380Z"
   },
   {
    "duration": 7,
    "start_time": "2021-08-14T20:56:04.213Z"
   },
   {
    "duration": 13,
    "start_time": "2021-08-14T20:56:05.238Z"
   },
   {
    "duration": 805,
    "start_time": "2021-08-14T20:56:23.894Z"
   },
   {
    "duration": 13,
    "start_time": "2021-08-14T20:56:24.702Z"
   },
   {
    "duration": 16,
    "start_time": "2021-08-14T20:56:24.718Z"
   },
   {
    "duration": 55,
    "start_time": "2021-08-14T20:56:24.737Z"
   },
   {
    "duration": 8,
    "start_time": "2021-08-14T20:56:24.794Z"
   },
   {
    "duration": 9,
    "start_time": "2021-08-14T20:56:24.804Z"
   },
   {
    "duration": 8,
    "start_time": "2021-08-14T20:56:24.816Z"
   },
   {
    "duration": 9,
    "start_time": "2021-08-14T20:56:24.828Z"
   },
   {
    "duration": 8,
    "start_time": "2021-08-14T20:56:24.883Z"
   },
   {
    "duration": 15,
    "start_time": "2021-08-14T20:56:24.893Z"
   },
   {
    "duration": 21,
    "start_time": "2021-08-14T20:56:24.911Z"
   },
   {
    "duration": 12,
    "start_time": "2021-08-14T20:56:24.934Z"
   },
   {
    "duration": 41,
    "start_time": "2021-08-14T20:56:24.948Z"
   },
   {
    "duration": 9,
    "start_time": "2021-08-14T20:56:24.991Z"
   },
   {
    "duration": 11,
    "start_time": "2021-08-14T20:56:25.003Z"
   },
   {
    "duration": 10,
    "start_time": "2021-08-14T20:56:25.016Z"
   },
   {
    "duration": 11,
    "start_time": "2021-08-14T20:56:25.028Z"
   },
   {
    "duration": 52,
    "start_time": "2021-08-14T20:56:25.042Z"
   },
   {
    "duration": 4,
    "start_time": "2021-08-14T20:56:25.096Z"
   },
   {
    "duration": 14,
    "start_time": "2021-08-14T20:56:25.102Z"
   },
   {
    "duration": 15,
    "start_time": "2021-08-14T20:56:25.118Z"
   },
   {
    "duration": 7,
    "start_time": "2021-08-14T20:56:25.135Z"
   },
   {
    "duration": 3,
    "start_time": "2021-08-14T20:56:25.187Z"
   },
   {
    "duration": 91,
    "start_time": "2021-08-14T20:56:25.194Z"
   },
   {
    "duration": -219,
    "start_time": "2021-08-14T20:56:25.507Z"
   },
   {
    "duration": -282,
    "start_time": "2021-08-14T20:56:25.571Z"
   },
   {
    "duration": -287,
    "start_time": "2021-08-14T20:56:25.578Z"
   },
   {
    "duration": -292,
    "start_time": "2021-08-14T20:56:25.585Z"
   },
   {
    "duration": -306,
    "start_time": "2021-08-14T20:56:25.600Z"
   },
   {
    "duration": -325,
    "start_time": "2021-08-14T20:56:25.620Z"
   },
   {
    "duration": -337,
    "start_time": "2021-08-14T20:56:25.634Z"
   },
   {
    "duration": -343,
    "start_time": "2021-08-14T20:56:25.642Z"
   },
   {
    "duration": -355,
    "start_time": "2021-08-14T20:56:25.655Z"
   },
   {
    "duration": -369,
    "start_time": "2021-08-14T20:56:25.671Z"
   },
   {
    "duration": -382,
    "start_time": "2021-08-14T20:56:25.685Z"
   },
   {
    "duration": -388,
    "start_time": "2021-08-14T20:56:25.693Z"
   },
   {
    "duration": -401,
    "start_time": "2021-08-14T20:56:25.707Z"
   },
   {
    "duration": -415,
    "start_time": "2021-08-14T20:56:25.723Z"
   },
   {
    "duration": -428,
    "start_time": "2021-08-14T20:56:25.737Z"
   },
   {
    "duration": -441,
    "start_time": "2021-08-14T20:56:25.752Z"
   },
   {
    "duration": -446,
    "start_time": "2021-08-14T20:56:25.758Z"
   },
   {
    "duration": -459,
    "start_time": "2021-08-14T20:56:25.773Z"
   },
   {
    "duration": -472,
    "start_time": "2021-08-14T20:56:25.787Z"
   },
   {
    "duration": -487,
    "start_time": "2021-08-14T20:56:25.804Z"
   },
   {
    "duration": -492,
    "start_time": "2021-08-14T20:56:25.810Z"
   },
   {
    "duration": -504,
    "start_time": "2021-08-14T20:56:25.824Z"
   },
   {
    "duration": -518,
    "start_time": "2021-08-14T20:56:25.839Z"
   },
   {
    "duration": -527,
    "start_time": "2021-08-14T20:56:25.850Z"
   },
   {
    "duration": -533,
    "start_time": "2021-08-14T20:56:25.858Z"
   },
   {
    "duration": -543,
    "start_time": "2021-08-14T20:56:25.870Z"
   },
   {
    "duration": -549,
    "start_time": "2021-08-14T20:56:25.878Z"
   },
   {
    "duration": -507,
    "start_time": "2021-08-14T20:56:25.889Z"
   },
   {
    "duration": -516,
    "start_time": "2021-08-14T20:56:25.900Z"
   },
   {
    "duration": -523,
    "start_time": "2021-08-14T20:56:25.908Z"
   },
   {
    "duration": -532,
    "start_time": "2021-08-14T20:56:25.919Z"
   },
   {
    "duration": -538,
    "start_time": "2021-08-14T20:56:25.926Z"
   },
   {
    "duration": -548,
    "start_time": "2021-08-14T20:56:25.938Z"
   },
   {
    "duration": -558,
    "start_time": "2021-08-14T20:56:25.950Z"
   },
   {
    "duration": -564,
    "start_time": "2021-08-14T20:56:25.958Z"
   },
   {
    "duration": -575,
    "start_time": "2021-08-14T20:56:25.970Z"
   },
   {
    "duration": -580,
    "start_time": "2021-08-14T20:56:25.977Z"
   },
   {
    "duration": -590,
    "start_time": "2021-08-14T20:56:25.989Z"
   },
   {
    "duration": -602,
    "start_time": "2021-08-14T20:56:26.002Z"
   },
   {
    "duration": -608,
    "start_time": "2021-08-14T20:56:26.010Z"
   },
   {
    "duration": -620,
    "start_time": "2021-08-14T20:56:26.023Z"
   },
   {
    "duration": -631,
    "start_time": "2021-08-14T20:56:26.036Z"
   },
   {
    "duration": -636,
    "start_time": "2021-08-14T20:56:26.043Z"
   },
   {
    "duration": -648,
    "start_time": "2021-08-14T20:56:26.056Z"
   },
   {
    "duration": -658,
    "start_time": "2021-08-14T20:56:26.068Z"
   },
   {
    "duration": -664,
    "start_time": "2021-08-14T20:56:26.075Z"
   },
   {
    "duration": -675,
    "start_time": "2021-08-14T20:56:26.088Z"
   },
   {
    "duration": -686,
    "start_time": "2021-08-14T20:56:26.101Z"
   },
   {
    "duration": -692,
    "start_time": "2021-08-14T20:56:26.108Z"
   },
   {
    "duration": -704,
    "start_time": "2021-08-14T20:56:26.122Z"
   },
   {
    "duration": -716,
    "start_time": "2021-08-14T20:56:26.136Z"
   },
   {
    "duration": -655,
    "start_time": "2021-08-14T20:56:26.143Z"
   },
   {
    "duration": -666,
    "start_time": "2021-08-14T20:56:26.155Z"
   },
   {
    "duration": -678,
    "start_time": "2021-08-14T20:56:26.169Z"
   },
   {
    "duration": -684,
    "start_time": "2021-08-14T20:56:26.177Z"
   },
   {
    "duration": -698,
    "start_time": "2021-08-14T20:56:26.193Z"
   },
   {
    "duration": -711,
    "start_time": "2021-08-14T20:56:26.207Z"
   },
   {
    "duration": -725,
    "start_time": "2021-08-14T20:56:26.223Z"
   },
   {
    "duration": -737,
    "start_time": "2021-08-14T20:56:26.237Z"
   },
   {
    "duration": -754,
    "start_time": "2021-08-14T20:56:26.255Z"
   },
   {
    "duration": -766,
    "start_time": "2021-08-14T20:56:26.269Z"
   },
   {
    "duration": 6,
    "start_time": "2021-08-14T20:57:00.814Z"
   },
   {
    "duration": 442,
    "start_time": "2021-08-14T20:57:01.546Z"
   },
   {
    "duration": 22,
    "start_time": "2021-08-14T20:57:02.302Z"
   },
   {
    "duration": 23,
    "start_time": "2021-08-14T20:57:03.203Z"
   },
   {
    "duration": 9,
    "start_time": "2021-08-14T20:57:04.092Z"
   },
   {
    "duration": 18,
    "start_time": "2021-08-14T20:57:05.258Z"
   },
   {
    "duration": 8,
    "start_time": "2021-08-14T20:57:06.213Z"
   },
   {
    "duration": 18,
    "start_time": "2021-08-14T20:57:07.063Z"
   },
   {
    "duration": 9,
    "start_time": "2021-08-14T20:57:07.885Z"
   },
   {
    "duration": 33,
    "start_time": "2021-08-14T20:57:08.721Z"
   },
   {
    "duration": 13,
    "start_time": "2021-08-14T20:57:09.474Z"
   },
   {
    "duration": 28,
    "start_time": "2021-08-14T20:57:10.184Z"
   },
   {
    "duration": 13,
    "start_time": "2021-08-14T20:57:10.973Z"
   },
   {
    "duration": 28,
    "start_time": "2021-08-14T20:57:11.761Z"
   },
   {
    "duration": 26,
    "start_time": "2021-08-14T20:57:12.738Z"
   },
   {
    "duration": 28,
    "start_time": "2021-08-14T20:57:14.646Z"
   },
   {
    "duration": 33,
    "start_time": "2021-08-14T20:57:16.266Z"
   },
   {
    "duration": 40,
    "start_time": "2021-08-14T20:57:17.007Z"
   },
   {
    "duration": 17,
    "start_time": "2021-08-14T20:57:17.994Z"
   },
   {
    "duration": 19,
    "start_time": "2021-08-14T20:57:26.011Z"
   },
   {
    "duration": 9,
    "start_time": "2021-08-14T20:57:27.396Z"
   },
   {
    "duration": 17,
    "start_time": "2021-08-14T20:57:33.147Z"
   },
   {
    "duration": 900,
    "start_time": "2021-08-14T21:00:04.776Z"
   },
   {
    "duration": 13,
    "start_time": "2021-08-14T21:00:05.679Z"
   },
   {
    "duration": 16,
    "start_time": "2021-08-14T21:00:05.695Z"
   },
   {
    "duration": 24,
    "start_time": "2021-08-14T21:00:05.714Z"
   },
   {
    "duration": 43,
    "start_time": "2021-08-14T21:00:05.741Z"
   },
   {
    "duration": 28,
    "start_time": "2021-08-14T21:00:05.787Z"
   },
   {
    "duration": 14,
    "start_time": "2021-08-14T21:00:05.817Z"
   },
   {
    "duration": 11,
    "start_time": "2021-08-14T21:00:05.837Z"
   },
   {
    "duration": 31,
    "start_time": "2021-08-14T21:00:05.853Z"
   },
   {
    "duration": 38,
    "start_time": "2021-08-14T21:00:05.887Z"
   },
   {
    "duration": 39,
    "start_time": "2021-08-14T21:00:05.928Z"
   },
   {
    "duration": 20,
    "start_time": "2021-08-14T21:00:05.969Z"
   },
   {
    "duration": 14,
    "start_time": "2021-08-14T21:00:05.991Z"
   },
   {
    "duration": 17,
    "start_time": "2021-08-14T21:00:06.008Z"
   },
   {
    "duration": 29,
    "start_time": "2021-08-14T21:00:06.028Z"
   },
   {
    "duration": 17,
    "start_time": "2021-08-14T21:00:06.059Z"
   },
   {
    "duration": 10,
    "start_time": "2021-08-14T21:00:06.078Z"
   },
   {
    "duration": 25,
    "start_time": "2021-08-14T21:00:06.090Z"
   },
   {
    "duration": 11,
    "start_time": "2021-08-14T21:00:06.118Z"
   },
   {
    "duration": 29,
    "start_time": "2021-08-14T21:00:06.132Z"
   },
   {
    "duration": 23,
    "start_time": "2021-08-14T21:00:06.164Z"
   },
   {
    "duration": 24,
    "start_time": "2021-08-14T21:00:06.190Z"
   },
   {
    "duration": 5,
    "start_time": "2021-08-14T21:00:06.221Z"
   },
   {
    "duration": 105,
    "start_time": "2021-08-14T21:00:06.231Z"
   },
   {
    "duration": -547,
    "start_time": "2021-08-14T21:00:06.887Z"
   },
   {
    "duration": -560,
    "start_time": "2021-08-14T21:00:06.902Z"
   },
   {
    "duration": -570,
    "start_time": "2021-08-14T21:00:06.914Z"
   },
   {
    "duration": -577,
    "start_time": "2021-08-14T21:00:06.923Z"
   },
   {
    "duration": -587,
    "start_time": "2021-08-14T21:00:06.935Z"
   },
   {
    "duration": -643,
    "start_time": "2021-08-14T21:00:06.993Z"
   },
   {
    "duration": -648,
    "start_time": "2021-08-14T21:00:07.000Z"
   },
   {
    "duration": -660,
    "start_time": "2021-08-14T21:00:07.014Z"
   },
   {
    "duration": -665,
    "start_time": "2021-08-14T21:00:07.021Z"
   },
   {
    "duration": -676,
    "start_time": "2021-08-14T21:00:07.034Z"
   },
   {
    "duration": -687,
    "start_time": "2021-08-14T21:00:07.047Z"
   },
   {
    "duration": -692,
    "start_time": "2021-08-14T21:00:07.054Z"
   },
   {
    "duration": -705,
    "start_time": "2021-08-14T21:00:07.069Z"
   },
   {
    "duration": -716,
    "start_time": "2021-08-14T21:00:07.082Z"
   },
   {
    "duration": -722,
    "start_time": "2021-08-14T21:00:07.090Z"
   },
   {
    "duration": -733,
    "start_time": "2021-08-14T21:00:07.103Z"
   },
   {
    "duration": -745,
    "start_time": "2021-08-14T21:00:07.117Z"
   },
   {
    "duration": -755,
    "start_time": "2021-08-14T21:00:07.130Z"
   },
   {
    "duration": -755,
    "start_time": "2021-08-14T21:00:07.137Z"
   },
   {
    "duration": -797,
    "start_time": "2021-08-14T21:00:07.181Z"
   },
   {
    "duration": -802,
    "start_time": "2021-08-14T21:00:07.188Z"
   },
   {
    "duration": -815,
    "start_time": "2021-08-14T21:00:07.203Z"
   },
   {
    "duration": -827,
    "start_time": "2021-08-14T21:00:07.217Z"
   },
   {
    "duration": -838,
    "start_time": "2021-08-14T21:00:07.231Z"
   },
   {
    "duration": -843,
    "start_time": "2021-08-14T21:00:07.238Z"
   },
   {
    "duration": -855,
    "start_time": "2021-08-14T21:00:07.252Z"
   },
   {
    "duration": -867,
    "start_time": "2021-08-14T21:00:07.266Z"
   },
   {
    "duration": -872,
    "start_time": "2021-08-14T21:00:07.273Z"
   },
   {
    "duration": -883,
    "start_time": "2021-08-14T21:00:07.286Z"
   },
   {
    "duration": -894,
    "start_time": "2021-08-14T21:00:07.300Z"
   },
   {
    "duration": -905,
    "start_time": "2021-08-14T21:00:07.313Z"
   },
   {
    "duration": -912,
    "start_time": "2021-08-14T21:00:07.322Z"
   },
   {
    "duration": -923,
    "start_time": "2021-08-14T21:00:07.335Z"
   },
   {
    "duration": -934,
    "start_time": "2021-08-14T21:00:07.349Z"
   },
   {
    "duration": -972,
    "start_time": "2021-08-14T21:00:07.388Z"
   },
   {
    "duration": -986,
    "start_time": "2021-08-14T21:00:07.405Z"
   },
   {
    "duration": -999,
    "start_time": "2021-08-14T21:00:07.420Z"
   },
   {
    "duration": -951,
    "start_time": "2021-08-14T21:00:07.434Z"
   },
   {
    "duration": -964,
    "start_time": "2021-08-14T21:00:07.449Z"
   },
   {
    "duration": -970,
    "start_time": "2021-08-14T21:00:07.457Z"
   },
   {
    "duration": -981,
    "start_time": "2021-08-14T21:00:07.470Z"
   },
   {
    "duration": -994,
    "start_time": "2021-08-14T21:00:07.485Z"
   },
   {
    "duration": -1006,
    "start_time": "2021-08-14T21:00:07.499Z"
   },
   {
    "duration": -1012,
    "start_time": "2021-08-14T21:00:07.507Z"
   },
   {
    "duration": -1023,
    "start_time": "2021-08-14T21:00:07.520Z"
   },
   {
    "duration": -1036,
    "start_time": "2021-08-14T21:00:07.535Z"
   },
   {
    "duration": -1047,
    "start_time": "2021-08-14T21:00:07.548Z"
   },
   {
    "duration": -1053,
    "start_time": "2021-08-14T21:00:07.556Z"
   },
   {
    "duration": -1067,
    "start_time": "2021-08-14T21:00:07.572Z"
   },
   {
    "duration": -1082,
    "start_time": "2021-08-14T21:00:07.589Z"
   },
   {
    "duration": -1091,
    "start_time": "2021-08-14T21:00:07.600Z"
   },
   {
    "duration": -1100,
    "start_time": "2021-08-14T21:00:07.611Z"
   },
   {
    "duration": -1106,
    "start_time": "2021-08-14T21:00:07.619Z"
   },
   {
    "duration": -1116,
    "start_time": "2021-08-14T21:00:07.631Z"
   },
   {
    "duration": -1120,
    "start_time": "2021-08-14T21:00:07.637Z"
   },
   {
    "duration": -1129,
    "start_time": "2021-08-14T21:00:07.648Z"
   },
   {
    "duration": -1134,
    "start_time": "2021-08-14T21:00:07.655Z"
   },
   {
    "duration": -1084,
    "start_time": "2021-08-14T21:00:07.666Z"
   },
   {
    "duration": -1088,
    "start_time": "2021-08-14T21:00:07.673Z"
   },
   {
    "duration": -1097,
    "start_time": "2021-08-14T21:00:07.684Z"
   },
   {
    "duration": -1102,
    "start_time": "2021-08-14T21:00:07.691Z"
   },
   {
    "duration": 14,
    "start_time": "2021-08-14T21:02:38.136Z"
   },
   {
    "duration": 23,
    "start_time": "2021-08-14T21:03:05.911Z"
   },
   {
    "duration": 18,
    "start_time": "2021-08-14T21:03:07.731Z"
   },
   {
    "duration": 15,
    "start_time": "2021-08-14T21:03:10.030Z"
   },
   {
    "duration": 8,
    "start_time": "2021-08-14T21:03:15.939Z"
   },
   {
    "duration": 7,
    "start_time": "2021-08-14T21:03:25.635Z"
   },
   {
    "duration": 5,
    "start_time": "2021-08-14T21:03:26.593Z"
   },
   {
    "duration": 7,
    "start_time": "2021-08-14T21:03:27.598Z"
   },
   {
    "duration": 12,
    "start_time": "2021-08-14T21:03:28.631Z"
   },
   {
    "duration": 5,
    "start_time": "2021-08-14T21:03:42.549Z"
   },
   {
    "duration": 357,
    "start_time": "2021-08-14T21:03:44.319Z"
   },
   {
    "duration": 19,
    "start_time": "2021-08-14T21:03:45.340Z"
   },
   {
    "duration": 22,
    "start_time": "2021-08-14T21:03:47.379Z"
   },
   {
    "duration": 10,
    "start_time": "2021-08-14T21:03:51.445Z"
   },
   {
    "duration": 19,
    "start_time": "2021-08-14T21:03:52.812Z"
   },
   {
    "duration": 9,
    "start_time": "2021-08-14T21:03:54.134Z"
   },
   {
    "duration": 20,
    "start_time": "2021-08-14T21:03:55.661Z"
   },
   {
    "duration": 10,
    "start_time": "2021-08-14T21:03:57.465Z"
   },
   {
    "duration": 24,
    "start_time": "2021-08-14T21:03:59.438Z"
   },
   {
    "duration": 9,
    "start_time": "2021-08-14T21:04:01.474Z"
   },
   {
    "duration": 20,
    "start_time": "2021-08-14T21:04:03.422Z"
   },
   {
    "duration": 15,
    "start_time": "2021-08-14T21:04:09.307Z"
   },
   {
    "duration": 25,
    "start_time": "2021-08-14T21:04:10.806Z"
   },
   {
    "duration": 20,
    "start_time": "2021-08-14T21:04:12.368Z"
   },
   {
    "duration": 19,
    "start_time": "2021-08-14T21:04:15.948Z"
   },
   {
    "duration": 24,
    "start_time": "2021-08-14T21:04:17.683Z"
   },
   {
    "duration": 30,
    "start_time": "2021-08-14T21:04:18.377Z"
   },
   {
    "duration": 12,
    "start_time": "2021-08-14T21:04:19.159Z"
   },
   {
    "duration": 11,
    "start_time": "2021-08-14T21:04:27.196Z"
   },
   {
    "duration": 7,
    "start_time": "2021-08-14T21:04:32.234Z"
   },
   {
    "duration": 11,
    "start_time": "2021-08-14T21:04:34.655Z"
   },
   {
    "duration": 20,
    "start_time": "2021-08-14T21:05:40.473Z"
   },
   {
    "duration": 371,
    "start_time": "2021-08-14T21:05:41.864Z"
   },
   {
    "duration": 20,
    "start_time": "2021-08-14T21:49:51.619Z"
   },
   {
    "duration": 11,
    "start_time": "2021-08-14T21:50:25.726Z"
   },
   {
    "duration": 12,
    "start_time": "2021-08-14T21:53:30.720Z"
   },
   {
    "duration": 8,
    "start_time": "2021-08-14T21:53:32.467Z"
   },
   {
    "duration": 8,
    "start_time": "2021-08-14T21:53:46.196Z"
   },
   {
    "duration": 12,
    "start_time": "2021-08-14T21:53:51.366Z"
   },
   {
    "duration": 20,
    "start_time": "2021-08-14T21:57:11.398Z"
   },
   {
    "duration": 19,
    "start_time": "2021-08-14T22:19:44.771Z"
   },
   {
    "duration": 9,
    "start_time": "2021-08-14T22:21:24.235Z"
   },
   {
    "duration": 5,
    "start_time": "2021-08-14T22:25:00.146Z"
   },
   {
    "duration": 114,
    "start_time": "2021-08-14T22:31:30.489Z"
   },
   {
    "duration": 9,
    "start_time": "2021-08-14T22:31:36.312Z"
   },
   {
    "duration": 16,
    "start_time": "2021-08-14T22:32:25.498Z"
   },
   {
    "duration": 5,
    "start_time": "2021-08-14T22:33:23.279Z"
   },
   {
    "duration": 8,
    "start_time": "2021-08-14T22:33:49.133Z"
   },
   {
    "duration": 306,
    "start_time": "2021-08-14T22:35:01.896Z"
   },
   {
    "duration": 6,
    "start_time": "2021-08-14T22:35:23.041Z"
   },
   {
    "duration": 9,
    "start_time": "2021-08-14T22:35:27.830Z"
   },
   {
    "duration": 7,
    "start_time": "2021-08-14T22:36:01.482Z"
   },
   {
    "duration": 8,
    "start_time": "2021-08-14T22:36:05.214Z"
   },
   {
    "duration": 9,
    "start_time": "2021-08-14T22:38:14.151Z"
   },
   {
    "duration": 9,
    "start_time": "2021-08-14T22:39:09.421Z"
   },
   {
    "duration": 10,
    "start_time": "2021-08-14T22:39:11.973Z"
   },
   {
    "duration": 10,
    "start_time": "2021-08-14T22:39:33.882Z"
   },
   {
    "duration": 10,
    "start_time": "2021-08-14T22:39:36.073Z"
   },
   {
    "duration": 9,
    "start_time": "2021-08-14T22:40:10.101Z"
   },
   {
    "duration": 10,
    "start_time": "2021-08-14T22:40:12.491Z"
   },
   {
    "duration": 12,
    "start_time": "2021-08-14T22:41:19.545Z"
   },
   {
    "duration": 10,
    "start_time": "2021-08-14T22:41:21.762Z"
   },
   {
    "duration": 13,
    "start_time": "2021-08-14T22:46:17.820Z"
   },
   {
    "duration": 10,
    "start_time": "2021-08-14T22:46:23.033Z"
   },
   {
    "duration": 17,
    "start_time": "2021-08-14T22:46:52.224Z"
   },
   {
    "duration": 9,
    "start_time": "2021-08-14T22:46:56.440Z"
   },
   {
    "duration": 25,
    "start_time": "2021-08-14T22:49:11.266Z"
   },
   {
    "duration": 10,
    "start_time": "2021-08-14T22:49:13.892Z"
   },
   {
    "duration": 770,
    "start_time": "2021-08-14T22:49:23.330Z"
   },
   {
    "duration": 13,
    "start_time": "2021-08-14T22:49:24.102Z"
   },
   {
    "duration": 22,
    "start_time": "2021-08-14T22:49:24.118Z"
   },
   {
    "duration": 59,
    "start_time": "2021-08-14T22:49:24.143Z"
   },
   {
    "duration": 7,
    "start_time": "2021-08-14T22:49:24.205Z"
   },
   {
    "duration": 10,
    "start_time": "2021-08-14T22:49:24.214Z"
   },
   {
    "duration": 15,
    "start_time": "2021-08-14T22:49:24.226Z"
   },
   {
    "duration": 38,
    "start_time": "2021-08-14T22:49:24.247Z"
   },
   {
    "duration": 11,
    "start_time": "2021-08-14T22:49:24.289Z"
   },
   {
    "duration": 11,
    "start_time": "2021-08-14T22:49:24.303Z"
   },
   {
    "duration": 27,
    "start_time": "2021-08-14T22:49:24.317Z"
   },
   {
    "duration": 45,
    "start_time": "2021-08-14T22:49:24.347Z"
   },
   {
    "duration": 15,
    "start_time": "2021-08-14T22:49:24.395Z"
   },
   {
    "duration": 11,
    "start_time": "2021-08-14T22:49:24.413Z"
   },
   {
    "duration": 12,
    "start_time": "2021-08-14T22:49:24.426Z"
   },
   {
    "duration": 44,
    "start_time": "2021-08-14T22:49:24.440Z"
   },
   {
    "duration": 8,
    "start_time": "2021-08-14T22:49:24.486Z"
   },
   {
    "duration": 16,
    "start_time": "2021-08-14T22:49:24.497Z"
   },
   {
    "duration": 5,
    "start_time": "2021-08-14T22:49:24.515Z"
   },
   {
    "duration": 17,
    "start_time": "2021-08-14T22:49:24.523Z"
   },
   {
    "duration": 59,
    "start_time": "2021-08-14T22:49:24.543Z"
   },
   {
    "duration": 9,
    "start_time": "2021-08-14T22:49:24.605Z"
   },
   {
    "duration": 22,
    "start_time": "2021-08-14T22:49:24.620Z"
   },
   {
    "duration": 51,
    "start_time": "2021-08-14T22:49:24.647Z"
   },
   {
    "duration": 14,
    "start_time": "2021-08-14T22:49:24.701Z"
   },
   {
    "duration": 7,
    "start_time": "2021-08-14T22:49:24.718Z"
   },
   {
    "duration": 7,
    "start_time": "2021-08-14T22:49:24.727Z"
   },
   {
    "duration": 4,
    "start_time": "2021-08-14T22:49:24.736Z"
   },
   {
    "duration": 45,
    "start_time": "2021-08-14T22:49:24.743Z"
   },
   {
    "duration": 18,
    "start_time": "2021-08-14T22:49:24.790Z"
   },
   {
    "duration": 5,
    "start_time": "2021-08-14T22:49:24.811Z"
   },
   {
    "duration": 397,
    "start_time": "2021-08-14T22:49:24.818Z"
   },
   {
    "duration": 20,
    "start_time": "2021-08-14T22:49:25.217Z"
   },
   {
    "duration": 45,
    "start_time": "2021-08-14T22:49:25.239Z"
   },
   {
    "duration": 9,
    "start_time": "2021-08-14T22:49:25.287Z"
   },
   {
    "duration": 31,
    "start_time": "2021-08-14T22:49:25.298Z"
   },
   {
    "duration": 9,
    "start_time": "2021-08-14T22:49:25.331Z"
   },
   {
    "duration": 53,
    "start_time": "2021-08-14T22:49:25.343Z"
   },
   {
    "duration": 10,
    "start_time": "2021-08-14T22:49:25.398Z"
   },
   {
    "duration": 26,
    "start_time": "2021-08-14T22:49:25.410Z"
   },
   {
    "duration": 9,
    "start_time": "2021-08-14T22:49:25.438Z"
   },
   {
    "duration": 49,
    "start_time": "2021-08-14T22:49:25.449Z"
   },
   {
    "duration": 8,
    "start_time": "2021-08-14T22:49:25.500Z"
   },
   {
    "duration": 27,
    "start_time": "2021-08-14T22:49:25.511Z"
   },
   {
    "duration": 53,
    "start_time": "2021-08-14T22:49:25.541Z"
   },
   {
    "duration": 21,
    "start_time": "2021-08-14T22:49:25.596Z"
   },
   {
    "duration": 22,
    "start_time": "2021-08-14T22:49:25.620Z"
   },
   {
    "duration": 30,
    "start_time": "2021-08-14T22:49:25.682Z"
   },
   {
    "duration": 11,
    "start_time": "2021-08-14T22:49:25.715Z"
   },
   {
    "duration": 12,
    "start_time": "2021-08-14T22:49:25.729Z"
   },
   {
    "duration": 8,
    "start_time": "2021-08-14T22:49:25.782Z"
   },
   {
    "duration": 12,
    "start_time": "2021-08-14T22:49:25.793Z"
   },
   {
    "duration": 15,
    "start_time": "2021-08-14T22:49:25.807Z"
   },
   {
    "duration": 8,
    "start_time": "2021-08-14T22:49:25.824Z"
   },
   {
    "duration": 53,
    "start_time": "2021-08-14T22:49:25.834Z"
   },
   {
    "duration": 33,
    "start_time": "2021-08-14T22:49:25.890Z"
   },
   {
    "duration": 10,
    "start_time": "2021-08-14T22:49:25.925Z"
   },
   {
    "duration": 48,
    "start_time": "2021-08-14T22:49:25.938Z"
   },
   {
    "duration": 25,
    "start_time": "2021-08-14T22:49:25.989Z"
   },
   {
    "duration": 8,
    "start_time": "2021-08-14T22:49:26.016Z"
   },
   {
    "duration": 7,
    "start_time": "2021-08-14T22:49:26.027Z"
   },
   {
    "duration": 56,
    "start_time": "2021-08-14T22:49:26.036Z"
   },
   {
    "duration": 50,
    "start_time": "2021-08-14T22:49:26.094Z"
   },
   {
    "duration": 3,
    "start_time": "2021-08-14T22:49:26.146Z"
   },
   {
    "duration": 9,
    "start_time": "2021-08-14T22:49:26.183Z"
   },
   {
    "duration": 2879,
    "start_time": "2021-08-14T22:49:26.194Z"
   },
   {
    "duration": 13,
    "start_time": "2021-08-14T22:49:29.083Z"
   },
   {
    "duration": 69,
    "start_time": "2021-08-14T22:49:29.104Z"
   },
   {
    "duration": -216,
    "start_time": "2021-08-14T22:49:29.392Z"
   },
   {
    "duration": -229,
    "start_time": "2021-08-14T22:49:29.407Z"
   },
   {
    "duration": -241,
    "start_time": "2021-08-14T22:49:29.420Z"
   },
   {
    "duration": -253,
    "start_time": "2021-08-14T22:49:29.433Z"
   },
   {
    "duration": -266,
    "start_time": "2021-08-14T22:49:29.447Z"
   },
   {
    "duration": -275,
    "start_time": "2021-08-14T22:49:29.458Z"
   },
   {
    "duration": -287,
    "start_time": "2021-08-14T22:49:29.471Z"
   },
   {
    "duration": -298,
    "start_time": "2021-08-14T22:49:29.483Z"
   },
   {
    "duration": -315,
    "start_time": "2021-08-14T22:49:29.501Z"
   },
   {
    "duration": 4,
    "start_time": "2021-08-14T22:51:26.873Z"
   },
   {
    "duration": 4,
    "start_time": "2021-08-14T22:54:34.777Z"
   },
   {
    "duration": 22,
    "start_time": "2021-08-14T22:54:57.160Z"
   },
   {
    "duration": 60,
    "start_time": "2021-08-14T22:56:17.214Z"
   },
   {
    "duration": 23,
    "start_time": "2021-08-14T23:03:54.440Z"
   },
   {
    "duration": 9,
    "start_time": "2021-08-14T23:03:55.507Z"
   },
   {
    "duration": 11,
    "start_time": "2021-08-14T23:04:18.623Z"
   },
   {
    "duration": 24,
    "start_time": "2021-08-14T23:04:48.071Z"
   },
   {
    "duration": 22,
    "start_time": "2021-08-14T23:05:19.226Z"
   },
   {
    "duration": 23,
    "start_time": "2021-08-14T23:05:26.237Z"
   },
   {
    "duration": 24,
    "start_time": "2021-08-14T23:05:26.837Z"
   },
   {
    "duration": 370,
    "start_time": "2021-08-14T23:10:25.952Z"
   },
   {
    "duration": 9,
    "start_time": "2021-08-14T23:10:32.905Z"
   },
   {
    "duration": 104,
    "start_time": "2021-08-14T23:13:08.553Z"
   },
   {
    "duration": 250,
    "start_time": "2021-08-14T23:13:55.161Z"
   },
   {
    "duration": 6,
    "start_time": "2021-08-14T23:14:09.601Z"
   },
   {
    "duration": 9,
    "start_time": "2021-08-14T23:14:47.282Z"
   },
   {
    "duration": 8,
    "start_time": "2021-08-14T23:20:29.806Z"
   },
   {
    "duration": 10,
    "start_time": "2021-08-14T23:24:57.141Z"
   },
   {
    "duration": 14,
    "start_time": "2021-08-14T23:24:58.354Z"
   },
   {
    "duration": 12,
    "start_time": "2021-08-14T23:24:59.377Z"
   },
   {
    "duration": 10,
    "start_time": "2021-08-14T23:25:01.082Z"
   },
   {
    "duration": 23,
    "start_time": "2021-08-14T23:29:49.052Z"
   },
   {
    "duration": 13,
    "start_time": "2021-08-14T23:29:56.833Z"
   },
   {
    "duration": 250,
    "start_time": "2021-08-14T23:34:15.454Z"
   },
   {
    "duration": 12,
    "start_time": "2021-08-14T23:34:20.590Z"
   },
   {
    "duration": 19,
    "start_time": "2021-08-14T23:34:34.937Z"
   },
   {
    "duration": 13,
    "start_time": "2021-08-14T23:34:44.149Z"
   },
   {
    "duration": 13,
    "start_time": "2021-08-14T23:34:54.472Z"
   },
   {
    "duration": 12,
    "start_time": "2021-08-14T23:34:58.485Z"
   },
   {
    "duration": 367,
    "start_time": "2021-08-14T23:35:26.539Z"
   },
   {
    "duration": 21,
    "start_time": "2021-08-14T23:35:42.352Z"
   },
   {
    "duration": 9,
    "start_time": "2021-08-14T23:35:49.033Z"
   },
   {
    "duration": 19,
    "start_time": "2021-08-14T23:35:50.503Z"
   },
   {
    "duration": 12,
    "start_time": "2021-08-14T23:35:52.439Z"
   },
   {
    "duration": 11,
    "start_time": "2021-08-14T23:36:16.717Z"
   },
   {
    "duration": 1042,
    "start_time": "2021-08-14T23:36:39.401Z"
   },
   {
    "duration": 15,
    "start_time": "2021-08-14T23:36:40.445Z"
   },
   {
    "duration": 16,
    "start_time": "2021-08-14T23:36:40.482Z"
   },
   {
    "duration": 20,
    "start_time": "2021-08-14T23:36:40.501Z"
   },
   {
    "duration": 7,
    "start_time": "2021-08-14T23:36:40.523Z"
   },
   {
    "duration": 51,
    "start_time": "2021-08-14T23:36:40.533Z"
   },
   {
    "duration": 7,
    "start_time": "2021-08-14T23:36:40.586Z"
   },
   {
    "duration": 9,
    "start_time": "2021-08-14T23:36:40.597Z"
   },
   {
    "duration": 8,
    "start_time": "2021-08-14T23:36:40.610Z"
   },
   {
    "duration": 12,
    "start_time": "2021-08-14T23:36:40.620Z"
   },
   {
    "duration": 66,
    "start_time": "2021-08-14T23:36:40.634Z"
   },
   {
    "duration": 13,
    "start_time": "2021-08-14T23:36:40.703Z"
   },
   {
    "duration": 12,
    "start_time": "2021-08-14T23:36:40.719Z"
   },
   {
    "duration": 9,
    "start_time": "2021-08-14T23:36:40.733Z"
   },
   {
    "duration": 10,
    "start_time": "2021-08-14T23:36:40.782Z"
   },
   {
    "duration": 15,
    "start_time": "2021-08-14T23:36:40.794Z"
   },
   {
    "duration": 8,
    "start_time": "2021-08-14T23:36:40.812Z"
   },
   {
    "duration": 16,
    "start_time": "2021-08-14T23:36:40.823Z"
   },
   {
    "duration": 43,
    "start_time": "2021-08-14T23:36:40.841Z"
   },
   {
    "duration": 17,
    "start_time": "2021-08-14T23:36:40.886Z"
   },
   {
    "duration": 17,
    "start_time": "2021-08-14T23:36:40.905Z"
   },
   {
    "duration": 7,
    "start_time": "2021-08-14T23:36:40.924Z"
   },
   {
    "duration": 63,
    "start_time": "2021-08-14T23:36:40.938Z"
   },
   {
    "duration": 21,
    "start_time": "2021-08-14T23:36:41.005Z"
   },
   {
    "duration": 19,
    "start_time": "2021-08-14T23:36:41.028Z"
   },
   {
    "duration": 38,
    "start_time": "2021-08-14T23:36:41.050Z"
   },
   {
    "duration": 7,
    "start_time": "2021-08-14T23:36:41.091Z"
   },
   {
    "duration": 5,
    "start_time": "2021-08-14T23:36:41.100Z"
   },
   {
    "duration": 9,
    "start_time": "2021-08-14T23:36:41.108Z"
   },
   {
    "duration": 63,
    "start_time": "2021-08-14T23:36:41.120Z"
   },
   {
    "duration": 5,
    "start_time": "2021-08-14T23:36:41.186Z"
   },
   {
    "duration": 389,
    "start_time": "2021-08-14T23:36:41.193Z"
   },
   {
    "duration": 20,
    "start_time": "2021-08-14T23:36:41.585Z"
   },
   {
    "duration": 25,
    "start_time": "2021-08-14T23:36:41.607Z"
   },
   {
    "duration": 16,
    "start_time": "2021-08-14T23:36:41.635Z"
   },
   {
    "duration": 33,
    "start_time": "2021-08-14T23:36:41.654Z"
   },
   {
    "duration": 17,
    "start_time": "2021-08-14T23:36:41.690Z"
   },
   {
    "duration": 26,
    "start_time": "2021-08-14T23:36:41.710Z"
   },
   {
    "duration": 9,
    "start_time": "2021-08-14T23:36:41.738Z"
   },
   {
    "duration": 21,
    "start_time": "2021-08-14T23:36:41.783Z"
   },
   {
    "duration": 9,
    "start_time": "2021-08-14T23:36:41.807Z"
   },
   {
    "duration": 23,
    "start_time": "2021-08-14T23:36:41.819Z"
   },
   {
    "duration": 11,
    "start_time": "2021-08-14T23:36:41.883Z"
   },
   {
    "duration": 41,
    "start_time": "2021-08-14T23:36:41.897Z"
   },
   {
    "duration": 12,
    "start_time": "2021-08-14T23:36:41.941Z"
   },
   {
    "duration": 20,
    "start_time": "2021-08-14T23:36:41.984Z"
   },
   {
    "duration": 14,
    "start_time": "2021-08-14T23:36:42.006Z"
   },
   {
    "duration": 22,
    "start_time": "2021-08-14T23:36:42.022Z"
   },
   {
    "duration": 20,
    "start_time": "2021-08-14T23:36:42.083Z"
   },
   {
    "duration": 24,
    "start_time": "2021-08-14T23:36:42.105Z"
   },
   {
    "duration": 60,
    "start_time": "2021-08-14T23:36:42.131Z"
   },
   {
    "duration": 14,
    "start_time": "2021-08-14T23:36:42.193Z"
   },
   {
    "duration": 15,
    "start_time": "2021-08-14T23:36:42.210Z"
   },
   {
    "duration": 6,
    "start_time": "2021-08-14T23:36:42.228Z"
   },
   {
    "duration": 53,
    "start_time": "2021-08-14T23:36:42.237Z"
   },
   {
    "duration": 15,
    "start_time": "2021-08-14T23:36:42.293Z"
   },
   {
    "duration": 9,
    "start_time": "2021-08-14T23:36:42.311Z"
   },
   {
    "duration": 10,
    "start_time": "2021-08-14T23:36:42.322Z"
   },
   {
    "duration": 96,
    "start_time": "2021-08-14T23:36:42.334Z"
   },
   {
    "duration": 10,
    "start_time": "2021-08-14T23:36:42.433Z"
   },
   {
    "duration": 11,
    "start_time": "2021-08-14T23:36:42.446Z"
   },
   {
    "duration": 22,
    "start_time": "2021-08-14T23:36:42.483Z"
   },
   {
    "duration": 23,
    "start_time": "2021-08-14T23:36:42.507Z"
   },
   {
    "duration": 52,
    "start_time": "2021-08-14T23:36:42.532Z"
   },
   {
    "duration": 12,
    "start_time": "2021-08-14T23:36:42.586Z"
   },
   {
    "duration": 6,
    "start_time": "2021-08-14T23:36:42.601Z"
   },
   {
    "duration": 3151,
    "start_time": "2021-08-14T23:36:42.609Z"
   },
   {
    "duration": 34,
    "start_time": "2021-08-14T23:36:45.769Z"
   },
   {
    "duration": 32,
    "start_time": "2021-08-14T23:36:45.806Z"
   },
   {
    "duration": 44,
    "start_time": "2021-08-14T23:36:45.841Z"
   },
   {
    "duration": 26,
    "start_time": "2021-08-14T23:36:45.888Z"
   },
   {
    "duration": 12,
    "start_time": "2021-08-14T23:40:06.530Z"
   },
   {
    "duration": 1021,
    "start_time": "2021-08-14T23:40:46.379Z"
   },
   {
    "duration": 15,
    "start_time": "2021-08-14T23:40:47.402Z"
   },
   {
    "duration": 14,
    "start_time": "2021-08-14T23:40:47.421Z"
   },
   {
    "duration": 63,
    "start_time": "2021-08-14T23:40:47.438Z"
   },
   {
    "duration": 9,
    "start_time": "2021-08-14T23:40:47.503Z"
   },
   {
    "duration": 10,
    "start_time": "2021-08-14T23:40:47.516Z"
   },
   {
    "duration": 11,
    "start_time": "2021-08-14T23:40:47.528Z"
   },
   {
    "duration": 47,
    "start_time": "2021-08-14T23:40:47.544Z"
   },
   {
    "duration": 8,
    "start_time": "2021-08-14T23:40:47.594Z"
   },
   {
    "duration": 8,
    "start_time": "2021-08-14T23:40:47.605Z"
   },
   {
    "duration": 67,
    "start_time": "2021-08-14T23:40:47.615Z"
   },
   {
    "duration": 9,
    "start_time": "2021-08-14T23:40:47.685Z"
   },
   {
    "duration": 9,
    "start_time": "2021-08-14T23:40:47.696Z"
   },
   {
    "duration": 8,
    "start_time": "2021-08-14T23:40:47.708Z"
   },
   {
    "duration": 15,
    "start_time": "2021-08-14T23:40:47.719Z"
   },
   {
    "duration": 7,
    "start_time": "2021-08-14T23:40:47.783Z"
   },
   {
    "duration": 8,
    "start_time": "2021-08-14T23:40:47.793Z"
   },
   {
    "duration": 15,
    "start_time": "2021-08-14T23:40:47.803Z"
   },
   {
    "duration": 5,
    "start_time": "2021-08-14T23:40:47.820Z"
   },
   {
    "duration": 60,
    "start_time": "2021-08-14T23:40:47.828Z"
   },
   {
    "duration": 16,
    "start_time": "2021-08-14T23:40:47.890Z"
   },
   {
    "duration": 10,
    "start_time": "2021-08-14T23:40:47.908Z"
   },
   {
    "duration": 25,
    "start_time": "2021-08-14T23:40:47.924Z"
   },
   {
    "duration": 16,
    "start_time": "2021-08-14T23:40:47.985Z"
   },
   {
    "duration": 19,
    "start_time": "2021-08-14T23:40:48.004Z"
   },
   {
    "duration": 8,
    "start_time": "2021-08-14T23:40:48.025Z"
   },
   {
    "duration": 6,
    "start_time": "2021-08-14T23:40:48.035Z"
   },
   {
    "duration": 5,
    "start_time": "2021-08-14T23:40:48.082Z"
   },
   {
    "duration": 15,
    "start_time": "2021-08-14T23:40:48.090Z"
   },
   {
    "duration": 13,
    "start_time": "2021-08-14T23:40:48.107Z"
   },
   {
    "duration": 4,
    "start_time": "2021-08-14T23:40:48.123Z"
   },
   {
    "duration": 408,
    "start_time": "2021-08-14T23:40:48.130Z"
   },
   {
    "duration": 19,
    "start_time": "2021-08-14T23:40:48.540Z"
   },
   {
    "duration": 26,
    "start_time": "2021-08-14T23:40:48.561Z"
   },
   {
    "duration": 20,
    "start_time": "2021-08-14T23:40:48.590Z"
   },
   {
    "duration": 18,
    "start_time": "2021-08-14T23:40:48.612Z"
   },
   {
    "duration": 11,
    "start_time": "2021-08-14T23:40:48.632Z"
   },
   {
    "duration": 57,
    "start_time": "2021-08-14T23:40:48.646Z"
   },
   {
    "duration": 9,
    "start_time": "2021-08-14T23:40:48.706Z"
   },
   {
    "duration": 19,
    "start_time": "2021-08-14T23:40:48.717Z"
   },
   {
    "duration": 46,
    "start_time": "2021-08-14T23:40:48.739Z"
   },
   {
    "duration": 19,
    "start_time": "2021-08-14T23:40:48.787Z"
   },
   {
    "duration": 9,
    "start_time": "2021-08-14T23:40:48.808Z"
   },
   {
    "duration": 19,
    "start_time": "2021-08-14T23:40:48.820Z"
   },
   {
    "duration": 48,
    "start_time": "2021-08-14T23:40:48.841Z"
   },
   {
    "duration": 28,
    "start_time": "2021-08-14T23:40:48.893Z"
   },
   {
    "duration": 63,
    "start_time": "2021-08-14T23:40:48.924Z"
   },
   {
    "duration": 25,
    "start_time": "2021-08-14T23:40:48.990Z"
   },
   {
    "duration": 31,
    "start_time": "2021-08-14T23:40:49.017Z"
   },
   {
    "duration": 46,
    "start_time": "2021-08-14T23:40:49.050Z"
   },
   {
    "duration": 13,
    "start_time": "2021-08-14T23:40:49.098Z"
   },
   {
    "duration": 15,
    "start_time": "2021-08-14T23:40:49.113Z"
   },
   {
    "duration": 8,
    "start_time": "2021-08-14T23:40:49.131Z"
   },
   {
    "duration": 51,
    "start_time": "2021-08-14T23:40:49.142Z"
   },
   {
    "duration": 15,
    "start_time": "2021-08-14T23:40:49.196Z"
   },
   {
    "duration": 10,
    "start_time": "2021-08-14T23:40:49.214Z"
   },
   {
    "duration": 9,
    "start_time": "2021-08-14T23:40:49.227Z"
   },
   {
    "duration": 34,
    "start_time": "2021-08-14T23:40:49.283Z"
   },
   {
    "duration": 12,
    "start_time": "2021-08-14T23:40:49.319Z"
   },
   {
    "duration": 12,
    "start_time": "2021-08-14T23:40:49.333Z"
   },
   {
    "duration": 21,
    "start_time": "2021-08-14T23:40:49.384Z"
   },
   {
    "duration": 20,
    "start_time": "2021-08-14T23:40:49.408Z"
   },
   {
    "duration": 19,
    "start_time": "2021-08-14T23:40:49.431Z"
   },
   {
    "duration": 11,
    "start_time": "2021-08-14T23:40:49.483Z"
   },
   {
    "duration": 6,
    "start_time": "2021-08-14T23:40:49.496Z"
   },
   {
    "duration": 3040,
    "start_time": "2021-08-14T23:40:49.505Z"
   },
   {
    "duration": 36,
    "start_time": "2021-08-14T23:40:52.547Z"
   },
   {
    "duration": 25,
    "start_time": "2021-08-14T23:40:52.590Z"
   },
   {
    "duration": 19,
    "start_time": "2021-08-14T23:40:52.618Z"
   },
   {
    "duration": 49,
    "start_time": "2021-08-14T23:40:52.639Z"
   },
   {
    "duration": 861,
    "start_time": "2021-08-14T23:41:26.773Z"
   },
   {
    "duration": 13,
    "start_time": "2021-08-14T23:41:27.637Z"
   },
   {
    "duration": 34,
    "start_time": "2021-08-14T23:41:27.652Z"
   },
   {
    "duration": 28,
    "start_time": "2021-08-14T23:41:27.690Z"
   },
   {
    "duration": 7,
    "start_time": "2021-08-14T23:41:27.720Z"
   },
   {
    "duration": 20,
    "start_time": "2021-08-14T23:41:27.729Z"
   },
   {
    "duration": 44,
    "start_time": "2021-08-14T23:41:27.751Z"
   },
   {
    "duration": 28,
    "start_time": "2021-08-14T23:41:27.799Z"
   },
   {
    "duration": 14,
    "start_time": "2021-08-14T23:41:27.829Z"
   },
   {
    "duration": 8,
    "start_time": "2021-08-14T23:41:27.846Z"
   },
   {
    "duration": 47,
    "start_time": "2021-08-14T23:41:27.857Z"
   },
   {
    "duration": 9,
    "start_time": "2021-08-14T23:41:27.907Z"
   },
   {
    "duration": 9,
    "start_time": "2021-08-14T23:41:27.919Z"
   },
   {
    "duration": 9,
    "start_time": "2021-08-14T23:41:27.931Z"
   },
   {
    "duration": 48,
    "start_time": "2021-08-14T23:41:27.942Z"
   },
   {
    "duration": 10,
    "start_time": "2021-08-14T23:41:27.992Z"
   },
   {
    "duration": 6,
    "start_time": "2021-08-14T23:41:28.005Z"
   },
   {
    "duration": 18,
    "start_time": "2021-08-14T23:41:28.013Z"
   },
   {
    "duration": 4,
    "start_time": "2021-08-14T23:41:28.033Z"
   },
   {
    "duration": 48,
    "start_time": "2021-08-14T23:41:28.040Z"
   },
   {
    "duration": 15,
    "start_time": "2021-08-14T23:41:28.091Z"
   },
   {
    "duration": 11,
    "start_time": "2021-08-14T23:41:28.108Z"
   },
   {
    "duration": 57,
    "start_time": "2021-08-14T23:41:28.125Z"
   },
   {
    "duration": 17,
    "start_time": "2021-08-14T23:41:28.187Z"
   },
   {
    "duration": 16,
    "start_time": "2021-08-14T23:41:28.207Z"
   },
   {
    "duration": 7,
    "start_time": "2021-08-14T23:41:28.225Z"
   },
   {
    "duration": 51,
    "start_time": "2021-08-14T23:41:28.234Z"
   },
   {
    "duration": 5,
    "start_time": "2021-08-14T23:41:28.287Z"
   },
   {
    "duration": 12,
    "start_time": "2021-08-14T23:41:28.295Z"
   },
   {
    "duration": 13,
    "start_time": "2021-08-14T23:41:28.309Z"
   },
   {
    "duration": 5,
    "start_time": "2021-08-14T23:41:28.325Z"
   },
   {
    "duration": 414,
    "start_time": "2021-08-14T23:41:28.332Z"
   },
   {
    "duration": 18,
    "start_time": "2021-08-14T23:41:28.749Z"
   },
   {
    "duration": 22,
    "start_time": "2021-08-14T23:41:28.770Z"
   },
   {
    "duration": 15,
    "start_time": "2021-08-14T23:41:28.794Z"
   },
   {
    "duration": 11,
    "start_time": "2021-08-14T23:41:28.811Z"
   },
   {
    "duration": 12,
    "start_time": "2021-08-14T23:41:28.824Z"
   },
   {
    "duration": 61,
    "start_time": "2021-08-14T23:41:28.838Z"
   },
   {
    "duration": 10,
    "start_time": "2021-08-14T23:41:28.902Z"
   },
   {
    "duration": 19,
    "start_time": "2021-08-14T23:41:28.914Z"
   },
   {
    "duration": 48,
    "start_time": "2021-08-14T23:41:28.935Z"
   },
   {
    "duration": 20,
    "start_time": "2021-08-14T23:41:28.986Z"
   },
   {
    "duration": 9,
    "start_time": "2021-08-14T23:41:29.008Z"
   },
   {
    "duration": 66,
    "start_time": "2021-08-14T23:41:29.020Z"
   },
   {
    "duration": 11,
    "start_time": "2021-08-14T23:41:29.089Z"
   },
   {
    "duration": 21,
    "start_time": "2021-08-14T23:41:29.103Z"
   },
   {
    "duration": 57,
    "start_time": "2021-08-14T23:41:29.127Z"
   },
   {
    "duration": 21,
    "start_time": "2021-08-14T23:41:29.188Z"
   },
   {
    "duration": 31,
    "start_time": "2021-08-14T23:41:29.211Z"
   },
   {
    "duration": 54,
    "start_time": "2021-08-14T23:41:29.245Z"
   },
   {
    "duration": 14,
    "start_time": "2021-08-14T23:41:29.302Z"
   },
   {
    "duration": 13,
    "start_time": "2021-08-14T23:41:29.319Z"
   },
   {
    "duration": 49,
    "start_time": "2021-08-14T23:41:29.334Z"
   },
   {
    "duration": 14,
    "start_time": "2021-08-14T23:41:29.385Z"
   },
   {
    "duration": 17,
    "start_time": "2021-08-14T23:41:29.402Z"
   },
   {
    "duration": 9,
    "start_time": "2021-08-14T23:41:29.422Z"
   },
   {
    "duration": 56,
    "start_time": "2021-08-14T23:41:29.434Z"
   },
   {
    "duration": 33,
    "start_time": "2021-08-14T23:41:29.493Z"
   },
   {
    "duration": 10,
    "start_time": "2021-08-14T23:41:29.528Z"
   },
   {
    "duration": 8,
    "start_time": "2021-08-14T23:41:29.582Z"
   },
   {
    "duration": 31,
    "start_time": "2021-08-14T23:41:29.593Z"
   },
   {
    "duration": 21,
    "start_time": "2021-08-14T23:41:29.626Z"
   },
   {
    "duration": 41,
    "start_time": "2021-08-14T23:41:29.649Z"
   },
   {
    "duration": 10,
    "start_time": "2021-08-14T23:41:29.693Z"
   },
   {
    "duration": 6,
    "start_time": "2021-08-14T23:41:29.705Z"
   },
   {
    "duration": 3001,
    "start_time": "2021-08-14T23:41:29.713Z"
   },
   {
    "duration": 25,
    "start_time": "2021-08-14T23:41:32.717Z"
   },
   {
    "duration": 56,
    "start_time": "2021-08-14T23:41:32.753Z"
   },
   {
    "duration": 19,
    "start_time": "2021-08-14T23:41:32.812Z"
   },
   {
    "duration": 52,
    "start_time": "2021-08-14T23:41:32.834Z"
   },
   {
    "duration": 29,
    "start_time": "2021-08-14T23:46:39.781Z"
   },
   {
    "duration": 8,
    "start_time": "2021-08-14T23:47:45.407Z"
   },
   {
    "duration": 12,
    "start_time": "2021-08-14T23:48:47.823Z"
   },
   {
    "duration": 4,
    "start_time": "2021-08-14T23:49:08.237Z"
   },
   {
    "duration": 8,
    "start_time": "2021-08-14T23:53:13.298Z"
   },
   {
    "duration": 8,
    "start_time": "2021-08-14T23:53:23.876Z"
   },
   {
    "duration": 5,
    "start_time": "2021-08-15T01:15:44.803Z"
   },
   {
    "duration": 4334,
    "start_time": "2021-08-15T01:15:46.940Z"
   },
   {
    "duration": 31,
    "start_time": "2021-08-15T01:15:51.281Z"
   },
   {
    "duration": 13,
    "start_time": "2021-08-15T01:16:01.220Z"
   },
   {
    "duration": 22,
    "start_time": "2021-08-15T01:18:47.248Z"
   },
   {
    "duration": 22,
    "start_time": "2021-08-15T01:18:59.430Z"
   },
   {
    "duration": 350,
    "start_time": "2021-08-15T01:21:32.457Z"
   },
   {
    "duration": 20,
    "start_time": "2021-08-15T01:21:38.977Z"
   },
   {
    "duration": 12,
    "start_time": "2021-08-15T01:23:09.362Z"
   },
   {
    "duration": 245,
    "start_time": "2021-08-15T01:23:29.223Z"
   },
   {
    "duration": 290,
    "start_time": "2021-08-15T01:23:41.913Z"
   },
   {
    "duration": 13,
    "start_time": "2021-08-15T01:24:01.445Z"
   },
   {
    "duration": 888,
    "start_time": "2021-08-15T01:30:01.661Z"
   },
   {
    "duration": 31,
    "start_time": "2021-08-15T01:30:02.552Z"
   },
   {
    "duration": 16,
    "start_time": "2021-08-15T01:30:02.586Z"
   },
   {
    "duration": 28,
    "start_time": "2021-08-15T01:30:02.605Z"
   },
   {
    "duration": 7,
    "start_time": "2021-08-15T01:30:02.636Z"
   },
   {
    "duration": 43,
    "start_time": "2021-08-15T01:30:02.645Z"
   },
   {
    "duration": 13,
    "start_time": "2021-08-15T01:30:02.691Z"
   },
   {
    "duration": 10,
    "start_time": "2021-08-15T01:30:02.708Z"
   },
   {
    "duration": 36,
    "start_time": "2021-08-15T01:30:02.721Z"
   },
   {
    "duration": 46,
    "start_time": "2021-08-15T01:30:02.760Z"
   },
   {
    "duration": 40,
    "start_time": "2021-08-15T01:30:02.809Z"
   },
   {
    "duration": 12,
    "start_time": "2021-08-15T01:30:02.852Z"
   },
   {
    "duration": 14,
    "start_time": "2021-08-15T01:30:02.867Z"
   },
   {
    "duration": 10,
    "start_time": "2021-08-15T01:30:02.884Z"
   },
   {
    "duration": 13,
    "start_time": "2021-08-15T01:30:02.897Z"
   },
   {
    "duration": 16,
    "start_time": "2021-08-15T01:30:02.912Z"
   },
   {
    "duration": 7,
    "start_time": "2021-08-15T01:30:02.930Z"
   },
   {
    "duration": 47,
    "start_time": "2021-08-15T01:30:02.939Z"
   },
   {
    "duration": 5,
    "start_time": "2021-08-15T01:30:02.988Z"
   },
   {
    "duration": 33,
    "start_time": "2021-08-15T01:30:02.995Z"
   },
   {
    "duration": 30,
    "start_time": "2021-08-15T01:30:03.031Z"
   },
   {
    "duration": 11,
    "start_time": "2021-08-15T01:30:03.064Z"
   },
   {
    "duration": 31,
    "start_time": "2021-08-15T01:30:03.082Z"
   },
   {
    "duration": 17,
    "start_time": "2021-08-15T01:30:03.117Z"
   },
   {
    "duration": 45,
    "start_time": "2021-08-15T01:30:03.137Z"
   },
   {
    "duration": 10,
    "start_time": "2021-08-15T01:30:03.185Z"
   },
   {
    "duration": 9,
    "start_time": "2021-08-15T01:30:03.197Z"
   },
   {
    "duration": 8,
    "start_time": "2021-08-15T01:30:03.209Z"
   },
   {
    "duration": 9,
    "start_time": "2021-08-15T01:30:03.219Z"
   },
   {
    "duration": 53,
    "start_time": "2021-08-15T01:30:03.230Z"
   },
   {
    "duration": 5,
    "start_time": "2021-08-15T01:30:03.285Z"
   },
   {
    "duration": 387,
    "start_time": "2021-08-15T01:30:03.293Z"
   },
   {
    "duration": 19,
    "start_time": "2021-08-15T01:30:03.683Z"
   },
   {
    "duration": 16,
    "start_time": "2021-08-15T01:30:03.705Z"
   },
   {
    "duration": 14,
    "start_time": "2021-08-15T01:30:03.724Z"
   },
   {
    "duration": 46,
    "start_time": "2021-08-15T01:30:03.741Z"
   },
   {
    "duration": 11,
    "start_time": "2021-08-15T01:30:03.790Z"
   },
   {
    "duration": 24,
    "start_time": "2021-08-15T01:30:03.805Z"
   },
   {
    "duration": 9,
    "start_time": "2021-08-15T01:30:03.831Z"
   },
   {
    "duration": 19,
    "start_time": "2021-08-15T01:30:03.883Z"
   },
   {
    "duration": 9,
    "start_time": "2021-08-15T01:30:03.904Z"
   },
   {
    "duration": 26,
    "start_time": "2021-08-15T01:30:03.915Z"
   },
   {
    "duration": 41,
    "start_time": "2021-08-15T01:30:03.943Z"
   },
   {
    "duration": 31,
    "start_time": "2021-08-15T01:30:03.987Z"
   },
   {
    "duration": 9,
    "start_time": "2021-08-15T01:30:04.020Z"
   },
   {
    "duration": 21,
    "start_time": "2021-08-15T01:30:04.031Z"
   },
   {
    "duration": 44,
    "start_time": "2021-08-15T01:30:04.054Z"
   },
   {
    "duration": 20,
    "start_time": "2021-08-15T01:30:04.100Z"
   },
   {
    "duration": 33,
    "start_time": "2021-08-15T01:30:04.122Z"
   },
   {
    "duration": 15,
    "start_time": "2021-08-15T01:30:04.184Z"
   },
   {
    "duration": 12,
    "start_time": "2021-08-15T01:30:04.202Z"
   },
   {
    "duration": 18,
    "start_time": "2021-08-15T01:30:04.217Z"
   },
   {
    "duration": 51,
    "start_time": "2021-08-15T01:30:04.238Z"
   },
   {
    "duration": 25,
    "start_time": "2021-08-15T01:30:04.292Z"
   },
   {
    "duration": 17,
    "start_time": "2021-08-15T01:30:04.320Z"
   },
   {
    "duration": 58,
    "start_time": "2021-08-15T01:30:04.340Z"
   },
   {
    "duration": 11,
    "start_time": "2021-08-15T01:30:04.401Z"
   },
   {
    "duration": 11,
    "start_time": "2021-08-15T01:30:04.415Z"
   },
   {
    "duration": 84,
    "start_time": "2021-08-15T01:30:04.429Z"
   },
   {
    "duration": 10,
    "start_time": "2021-08-15T01:30:04.516Z"
   },
   {
    "duration": 10,
    "start_time": "2021-08-15T01:30:04.528Z"
   },
   {
    "duration": 51,
    "start_time": "2021-08-15T01:30:04.541Z"
   },
   {
    "duration": 19,
    "start_time": "2021-08-15T01:30:04.594Z"
   },
   {
    "duration": 21,
    "start_time": "2021-08-15T01:30:04.615Z"
   },
   {
    "duration": 44,
    "start_time": "2021-08-15T01:30:04.639Z"
   },
   {
    "duration": 6,
    "start_time": "2021-08-15T01:30:04.686Z"
   },
   {
    "duration": 2770,
    "start_time": "2021-08-15T01:30:04.694Z"
   },
   {
    "duration": 27,
    "start_time": "2021-08-15T01:30:07.470Z"
   },
   {
    "duration": 11,
    "start_time": "2021-08-15T01:30:07.499Z"
   },
   {
    "duration": 5,
    "start_time": "2021-08-15T01:30:07.512Z"
   },
   {
    "duration": 8,
    "start_time": "2021-08-15T01:30:07.520Z"
   },
   {
    "duration": 10,
    "start_time": "2021-08-15T01:30:07.530Z"
   },
   {
    "duration": 5,
    "start_time": "2021-08-15T01:30:07.583Z"
   },
   {
    "duration": 2818,
    "start_time": "2021-08-15T01:30:07.591Z"
   },
   {
    "duration": 26,
    "start_time": "2021-08-15T01:30:10.412Z"
   },
   {
    "duration": 13,
    "start_time": "2021-08-15T01:30:10.440Z"
   },
   {
    "duration": 50,
    "start_time": "2021-08-15T01:30:10.456Z"
   },
   {
    "duration": 30,
    "start_time": "2021-08-15T01:30:10.508Z"
   },
   {
    "duration": 54,
    "start_time": "2021-08-15T01:30:10.540Z"
   },
   {
    "duration": 12,
    "start_time": "2021-08-15T01:30:10.596Z"
   },
   {
    "duration": 21,
    "start_time": "2021-08-15T01:32:56.354Z"
   },
   {
    "duration": 9,
    "start_time": "2021-08-15T01:33:23.290Z"
   },
   {
    "duration": 24,
    "start_time": "2021-08-15T01:33:54.921Z"
   },
   {
    "duration": 10,
    "start_time": "2021-08-15T01:39:34.408Z"
   },
   {
    "duration": 8,
    "start_time": "2021-08-15T02:18:10.746Z"
   },
   {
    "duration": 717,
    "start_time": "2021-08-15T02:22:44.062Z"
   },
   {
    "duration": 10,
    "start_time": "2021-08-15T02:28:00.598Z"
   },
   {
    "duration": 389,
    "start_time": "2021-08-15T02:28:45.528Z"
   },
   {
    "duration": 4,
    "start_time": "2021-08-15T02:28:50.534Z"
   },
   {
    "duration": 4,
    "start_time": "2021-08-15T02:28:58.239Z"
   },
   {
    "duration": 9,
    "start_time": "2021-08-15T02:28:59.608Z"
   },
   {
    "duration": 4,
    "start_time": "2021-08-15T02:38:59.983Z"
   },
   {
    "duration": 1114,
    "start_time": "2021-08-15T02:47:00.083Z"
   },
   {
    "duration": 1112,
    "start_time": "2021-08-15T02:48:10.788Z"
   },
   {
    "duration": 1195,
    "start_time": "2021-08-15T02:48:25.617Z"
   },
   {
    "duration": 1130,
    "start_time": "2021-08-15T02:48:51.124Z"
   },
   {
    "duration": 1205,
    "start_time": "2021-08-15T02:50:01.281Z"
   },
   {
    "duration": 1135,
    "start_time": "2021-08-15T02:51:20.766Z"
   },
   {
    "duration": 1147,
    "start_time": "2021-08-15T02:51:39.364Z"
   },
   {
    "duration": 3,
    "start_time": "2021-08-15T02:55:02.114Z"
   },
   {
    "duration": 1097,
    "start_time": "2021-08-15T02:55:04.110Z"
   },
   {
    "duration": 1177,
    "start_time": "2021-08-15T02:58:11.795Z"
   },
   {
    "duration": 812,
    "start_time": "2021-08-15T02:58:36.600Z"
   },
   {
    "duration": 14,
    "start_time": "2021-08-15T02:58:37.415Z"
   },
   {
    "duration": 22,
    "start_time": "2021-08-15T02:58:37.432Z"
   },
   {
    "duration": 45,
    "start_time": "2021-08-15T02:58:37.457Z"
   },
   {
    "duration": 10,
    "start_time": "2021-08-15T02:58:37.505Z"
   },
   {
    "duration": 17,
    "start_time": "2021-08-15T02:58:37.519Z"
   },
   {
    "duration": 45,
    "start_time": "2021-08-15T02:58:37.539Z"
   },
   {
    "duration": 13,
    "start_time": "2021-08-15T02:58:37.590Z"
   },
   {
    "duration": 8,
    "start_time": "2021-08-15T02:58:37.608Z"
   },
   {
    "duration": 8,
    "start_time": "2021-08-15T02:58:37.618Z"
   },
   {
    "duration": 60,
    "start_time": "2021-08-15T02:58:37.628Z"
   },
   {
    "duration": 11,
    "start_time": "2021-08-15T02:58:37.690Z"
   },
   {
    "duration": 8,
    "start_time": "2021-08-15T02:58:37.704Z"
   },
   {
    "duration": 12,
    "start_time": "2021-08-15T02:58:37.714Z"
   },
   {
    "duration": 56,
    "start_time": "2021-08-15T02:58:37.729Z"
   },
   {
    "duration": 17,
    "start_time": "2021-08-15T02:58:37.788Z"
   },
   {
    "duration": 6,
    "start_time": "2021-08-15T02:58:37.808Z"
   },
   {
    "duration": 17,
    "start_time": "2021-08-15T02:58:37.817Z"
   },
   {
    "duration": 5,
    "start_time": "2021-08-15T02:58:37.836Z"
   },
   {
    "duration": 45,
    "start_time": "2021-08-15T02:58:37.843Z"
   },
   {
    "duration": 16,
    "start_time": "2021-08-15T02:58:37.890Z"
   },
   {
    "duration": 6,
    "start_time": "2021-08-15T02:58:37.908Z"
   },
   {
    "duration": 62,
    "start_time": "2021-08-15T02:58:37.920Z"
   },
   {
    "duration": 16,
    "start_time": "2021-08-15T02:58:37.986Z"
   },
   {
    "duration": 18,
    "start_time": "2021-08-15T02:58:38.004Z"
   },
   {
    "duration": 7,
    "start_time": "2021-08-15T02:58:38.024Z"
   },
   {
    "duration": 8,
    "start_time": "2021-08-15T02:58:38.034Z"
   },
   {
    "duration": 40,
    "start_time": "2021-08-15T02:58:38.044Z"
   },
   {
    "duration": 12,
    "start_time": "2021-08-15T02:58:38.086Z"
   },
   {
    "duration": 14,
    "start_time": "2021-08-15T02:58:38.100Z"
   },
   {
    "duration": 5,
    "start_time": "2021-08-15T02:58:38.116Z"
   },
   {
    "duration": 419,
    "start_time": "2021-08-15T02:58:38.123Z"
   },
   {
    "duration": 10,
    "start_time": "2021-08-15T02:58:38.544Z"
   },
   {
    "duration": 28,
    "start_time": "2021-08-15T02:58:38.557Z"
   },
   {
    "duration": 13,
    "start_time": "2021-08-15T02:58:38.587Z"
   },
   {
    "duration": 15,
    "start_time": "2021-08-15T02:58:38.603Z"
   },
   {
    "duration": 10,
    "start_time": "2021-08-15T02:58:38.620Z"
   },
   {
    "duration": 58,
    "start_time": "2021-08-15T02:58:38.633Z"
   },
   {
    "duration": 9,
    "start_time": "2021-08-15T02:58:38.694Z"
   },
   {
    "duration": 22,
    "start_time": "2021-08-15T02:58:38.705Z"
   },
   {
    "duration": 8,
    "start_time": "2021-08-15T02:58:38.730Z"
   },
   {
    "duration": 54,
    "start_time": "2021-08-15T02:58:38.740Z"
   },
   {
    "duration": 9,
    "start_time": "2021-08-15T02:58:38.797Z"
   },
   {
    "duration": 24,
    "start_time": "2021-08-15T02:58:38.808Z"
   },
   {
    "duration": 8,
    "start_time": "2021-08-15T02:58:38.835Z"
   },
   {
    "duration": 52,
    "start_time": "2021-08-15T02:58:38.846Z"
   },
   {
    "duration": 19,
    "start_time": "2021-08-15T02:58:38.900Z"
   },
   {
    "duration": 22,
    "start_time": "2021-08-15T02:58:38.921Z"
   },
   {
    "duration": 64,
    "start_time": "2021-08-15T02:58:38.946Z"
   },
   {
    "duration": 14,
    "start_time": "2021-08-15T02:58:39.012Z"
   },
   {
    "duration": 17,
    "start_time": "2021-08-15T02:58:39.029Z"
   },
   {
    "duration": 45,
    "start_time": "2021-08-15T02:58:39.048Z"
   },
   {
    "duration": 7,
    "start_time": "2021-08-15T02:58:39.095Z"
   },
   {
    "duration": 17,
    "start_time": "2021-08-15T02:58:39.104Z"
   },
   {
    "duration": 7,
    "start_time": "2021-08-15T02:58:39.123Z"
   },
   {
    "duration": 58,
    "start_time": "2021-08-15T02:58:39.132Z"
   },
   {
    "duration": 14,
    "start_time": "2021-08-15T02:58:39.192Z"
   },
   {
    "duration": 14,
    "start_time": "2021-08-15T02:58:39.208Z"
   },
   {
    "duration": 9,
    "start_time": "2021-08-15T02:58:39.224Z"
   },
   {
    "duration": 76,
    "start_time": "2021-08-15T02:58:39.235Z"
   },
   {
    "duration": 8,
    "start_time": "2021-08-15T02:58:39.314Z"
   },
   {
    "duration": 14,
    "start_time": "2021-08-15T02:58:39.325Z"
   },
   {
    "duration": 55,
    "start_time": "2021-08-15T02:58:39.341Z"
   },
   {
    "duration": 20,
    "start_time": "2021-08-15T02:58:39.398Z"
   },
   {
    "duration": 19,
    "start_time": "2021-08-15T02:58:39.420Z"
   },
   {
    "duration": 47,
    "start_time": "2021-08-15T02:58:39.441Z"
   },
   {
    "duration": 752,
    "start_time": "2021-08-15T02:58:39.491Z"
   },
   {
    "duration": 387,
    "start_time": "2021-08-15T02:58:40.250Z"
   },
   {
    "duration": -109,
    "start_time": "2021-08-15T02:58:40.749Z"
   },
   {
    "duration": -119,
    "start_time": "2021-08-15T02:58:40.761Z"
   },
   {
    "duration": -126,
    "start_time": "2021-08-15T02:58:40.769Z"
   },
   {
    "duration": -257,
    "start_time": "2021-08-15T02:58:40.901Z"
   },
   {
    "duration": -267,
    "start_time": "2021-08-15T02:58:40.913Z"
   },
   {
    "duration": -273,
    "start_time": "2021-08-15T02:58:40.920Z"
   },
   {
    "duration": -283,
    "start_time": "2021-08-15T02:58:40.931Z"
   },
   {
    "duration": -296,
    "start_time": "2021-08-15T02:58:40.945Z"
   },
   {
    "duration": -301,
    "start_time": "2021-08-15T02:58:40.952Z"
   },
   {
    "duration": -312,
    "start_time": "2021-08-15T02:58:40.964Z"
   },
   {
    "duration": -318,
    "start_time": "2021-08-15T02:58:40.972Z"
   },
   {
    "duration": -328,
    "start_time": "2021-08-15T02:58:40.983Z"
   },
   {
    "duration": -339,
    "start_time": "2021-08-15T02:58:40.995Z"
   },
   {
    "duration": -344,
    "start_time": "2021-08-15T02:58:41.002Z"
   },
   {
    "duration": -356,
    "start_time": "2021-08-15T02:58:41.015Z"
   },
   {
    "duration": -367,
    "start_time": "2021-08-15T02:58:41.027Z"
   },
   {
    "duration": -371,
    "start_time": "2021-08-15T02:58:41.033Z"
   },
   {
    "duration": -382,
    "start_time": "2021-08-15T02:58:41.045Z"
   },
   {
    "duration": -388,
    "start_time": "2021-08-15T02:58:41.053Z"
   },
   {
    "duration": -398,
    "start_time": "2021-08-15T02:58:41.064Z"
   },
   {
    "duration": 3,
    "start_time": "2021-08-15T02:59:21.904Z"
   },
   {
    "duration": 1145,
    "start_time": "2021-08-15T02:59:26.312Z"
   },
   {
    "duration": 1212,
    "start_time": "2021-08-15T03:01:37.661Z"
   },
   {
    "duration": 844,
    "start_time": "2021-08-15T03:01:55.339Z"
   },
   {
    "duration": 13,
    "start_time": "2021-08-15T03:01:56.185Z"
   },
   {
    "duration": 16,
    "start_time": "2021-08-15T03:01:56.201Z"
   },
   {
    "duration": 22,
    "start_time": "2021-08-15T03:01:56.219Z"
   },
   {
    "duration": 42,
    "start_time": "2021-08-15T03:01:56.244Z"
   },
   {
    "duration": 12,
    "start_time": "2021-08-15T03:01:56.288Z"
   },
   {
    "duration": 9,
    "start_time": "2021-08-15T03:01:56.303Z"
   },
   {
    "duration": 9,
    "start_time": "2021-08-15T03:01:56.316Z"
   },
   {
    "duration": 9,
    "start_time": "2021-08-15T03:01:56.328Z"
   },
   {
    "duration": 46,
    "start_time": "2021-08-15T03:01:56.339Z"
   },
   {
    "duration": 19,
    "start_time": "2021-08-15T03:01:56.387Z"
   },
   {
    "duration": 12,
    "start_time": "2021-08-15T03:01:56.408Z"
   },
   {
    "duration": 14,
    "start_time": "2021-08-15T03:01:56.422Z"
   },
   {
    "duration": 8,
    "start_time": "2021-08-15T03:01:56.439Z"
   },
   {
    "duration": 42,
    "start_time": "2021-08-15T03:01:56.449Z"
   },
   {
    "duration": 17,
    "start_time": "2021-08-15T03:01:56.493Z"
   },
   {
    "duration": 8,
    "start_time": "2021-08-15T03:01:56.512Z"
   },
   {
    "duration": 13,
    "start_time": "2021-08-15T03:01:56.522Z"
   },
   {
    "duration": 5,
    "start_time": "2021-08-15T03:01:56.537Z"
   },
   {
    "duration": 49,
    "start_time": "2021-08-15T03:01:56.544Z"
   },
   {
    "duration": 21,
    "start_time": "2021-08-15T03:01:56.595Z"
   },
   {
    "duration": 7,
    "start_time": "2021-08-15T03:01:56.618Z"
   },
   {
    "duration": 54,
    "start_time": "2021-08-15T03:01:56.631Z"
   },
   {
    "duration": 16,
    "start_time": "2021-08-15T03:01:56.689Z"
   },
   {
    "duration": 17,
    "start_time": "2021-08-15T03:01:56.707Z"
   },
   {
    "duration": 9,
    "start_time": "2021-08-15T03:01:56.726Z"
   },
   {
    "duration": 7,
    "start_time": "2021-08-15T03:01:56.737Z"
   },
   {
    "duration": 39,
    "start_time": "2021-08-15T03:01:56.746Z"
   },
   {
    "duration": 9,
    "start_time": "2021-08-15T03:01:56.787Z"
   },
   {
    "duration": 18,
    "start_time": "2021-08-15T03:01:56.799Z"
   },
   {
    "duration": 6,
    "start_time": "2021-08-15T03:01:56.820Z"
   },
   {
    "duration": 778,
    "start_time": "2021-08-15T03:01:56.829Z"
   },
   {
    "duration": 15,
    "start_time": "2021-08-15T03:01:57.610Z"
   },
   {
    "duration": 13,
    "start_time": "2021-08-15T03:01:57.628Z"
   },
   {
    "duration": 44,
    "start_time": "2021-08-15T03:01:57.643Z"
   },
   {
    "duration": 15,
    "start_time": "2021-08-15T03:01:57.690Z"
   },
   {
    "duration": 13,
    "start_time": "2021-08-15T03:01:57.708Z"
   },
   {
    "duration": 60,
    "start_time": "2021-08-15T03:01:57.724Z"
   },
   {
    "duration": 10,
    "start_time": "2021-08-15T03:01:57.787Z"
   },
   {
    "duration": 27,
    "start_time": "2021-08-15T03:01:57.800Z"
   },
   {
    "duration": 10,
    "start_time": "2021-08-15T03:01:57.830Z"
   },
   {
    "duration": 54,
    "start_time": "2021-08-15T03:01:57.842Z"
   },
   {
    "duration": 9,
    "start_time": "2021-08-15T03:01:57.899Z"
   },
   {
    "duration": 34,
    "start_time": "2021-08-15T03:01:57.911Z"
   },
   {
    "duration": 13,
    "start_time": "2021-08-15T03:01:57.984Z"
   },
   {
    "duration": 31,
    "start_time": "2021-08-15T03:01:58.000Z"
   },
   {
    "duration": 58,
    "start_time": "2021-08-15T03:01:58.034Z"
   },
   {
    "duration": 28,
    "start_time": "2021-08-15T03:01:58.095Z"
   },
   {
    "duration": 67,
    "start_time": "2021-08-15T03:01:58.126Z"
   },
   {
    "duration": 22,
    "start_time": "2021-08-15T03:01:58.196Z"
   },
   {
    "duration": 13,
    "start_time": "2021-08-15T03:01:58.221Z"
   },
   {
    "duration": 52,
    "start_time": "2021-08-15T03:01:58.237Z"
   },
   {
    "duration": 8,
    "start_time": "2021-08-15T03:01:58.292Z"
   },
   {
    "duration": 19,
    "start_time": "2021-08-15T03:01:58.303Z"
   },
   {
    "duration": 4,
    "start_time": "2021-08-15T03:01:58.324Z"
   },
   {
    "duration": 61,
    "start_time": "2021-08-15T03:01:58.330Z"
   },
   {
    "duration": 21,
    "start_time": "2021-08-15T03:01:58.394Z"
   },
   {
    "duration": 10,
    "start_time": "2021-08-15T03:01:58.418Z"
   },
   {
    "duration": 11,
    "start_time": "2021-08-15T03:01:58.431Z"
   },
   {
    "duration": 43,
    "start_time": "2021-08-15T03:01:58.484Z"
   },
   {
    "duration": 12,
    "start_time": "2021-08-15T03:01:58.529Z"
   },
   {
    "duration": 43,
    "start_time": "2021-08-15T03:01:58.544Z"
   },
   {
    "duration": 29,
    "start_time": "2021-08-15T03:01:58.590Z"
   },
   {
    "duration": 27,
    "start_time": "2021-08-15T03:01:58.622Z"
   },
   {
    "duration": 50,
    "start_time": "2021-08-15T03:01:58.652Z"
   },
   {
    "duration": 14,
    "start_time": "2021-08-15T03:01:58.705Z"
   },
   {
    "duration": 936,
    "start_time": "2021-08-15T03:01:58.722Z"
   },
   {
    "duration": 4,
    "start_time": "2021-08-15T03:01:59.667Z"
   },
   {
    "duration": 2373,
    "start_time": "2021-08-15T03:01:59.674Z"
   },
   {
    "duration": -978,
    "start_time": "2021-08-15T03:02:03.027Z"
   },
   {
    "duration": -988,
    "start_time": "2021-08-15T03:02:03.039Z"
   },
   {
    "duration": -995,
    "start_time": "2021-08-15T03:02:03.047Z"
   },
   {
    "duration": -1139,
    "start_time": "2021-08-15T03:02:03.192Z"
   },
   {
    "duration": -1146,
    "start_time": "2021-08-15T03:02:03.200Z"
   },
   {
    "duration": -1155,
    "start_time": "2021-08-15T03:02:03.211Z"
   },
   {
    "duration": -1165,
    "start_time": "2021-08-15T03:02:03.223Z"
   },
   {
    "duration": -1170,
    "start_time": "2021-08-15T03:02:03.230Z"
   },
   {
    "duration": -1180,
    "start_time": "2021-08-15T03:02:03.241Z"
   },
   {
    "duration": -1185,
    "start_time": "2021-08-15T03:02:03.248Z"
   },
   {
    "duration": -1194,
    "start_time": "2021-08-15T03:02:03.259Z"
   },
   {
    "duration": -1200,
    "start_time": "2021-08-15T03:02:03.267Z"
   },
   {
    "duration": -1209,
    "start_time": "2021-08-15T03:02:03.277Z"
   },
   {
    "duration": -1219,
    "start_time": "2021-08-15T03:02:03.289Z"
   },
   {
    "duration": -1225,
    "start_time": "2021-08-15T03:02:03.297Z"
   },
   {
    "duration": -1234,
    "start_time": "2021-08-15T03:02:03.308Z"
   },
   {
    "duration": -1239,
    "start_time": "2021-08-15T03:02:03.315Z"
   },
   {
    "duration": -1250,
    "start_time": "2021-08-15T03:02:03.327Z"
   },
   {
    "duration": 1165,
    "start_time": "2021-08-15T03:02:21.659Z"
   },
   {
    "duration": 794,
    "start_time": "2021-08-15T03:11:14.000Z"
   },
   {
    "duration": 12,
    "start_time": "2021-08-15T03:11:14.797Z"
   },
   {
    "duration": 16,
    "start_time": "2021-08-15T03:11:14.812Z"
   },
   {
    "duration": 57,
    "start_time": "2021-08-15T03:11:14.831Z"
   },
   {
    "duration": 8,
    "start_time": "2021-08-15T03:11:14.890Z"
   },
   {
    "duration": 11,
    "start_time": "2021-08-15T03:11:14.900Z"
   },
   {
    "duration": 9,
    "start_time": "2021-08-15T03:11:14.914Z"
   },
   {
    "duration": 9,
    "start_time": "2021-08-15T03:11:14.926Z"
   },
   {
    "duration": 46,
    "start_time": "2021-08-15T03:11:14.938Z"
   },
   {
    "duration": 10,
    "start_time": "2021-08-15T03:11:14.986Z"
   },
   {
    "duration": 20,
    "start_time": "2021-08-15T03:11:14.999Z"
   },
   {
    "duration": 16,
    "start_time": "2021-08-15T03:11:15.022Z"
   },
   {
    "duration": 43,
    "start_time": "2021-08-15T03:11:15.040Z"
   },
   {
    "duration": 9,
    "start_time": "2021-08-15T03:11:15.086Z"
   },
   {
    "duration": 13,
    "start_time": "2021-08-15T03:11:15.097Z"
   },
   {
    "duration": 10,
    "start_time": "2021-08-15T03:11:15.112Z"
   },
   {
    "duration": 7,
    "start_time": "2021-08-15T03:11:15.124Z"
   },
   {
    "duration": 52,
    "start_time": "2021-08-15T03:11:15.133Z"
   },
   {
    "duration": 4,
    "start_time": "2021-08-15T03:11:15.188Z"
   },
   {
    "duration": 17,
    "start_time": "2021-08-15T03:11:15.195Z"
   },
   {
    "duration": 15,
    "start_time": "2021-08-15T03:11:15.214Z"
   },
   {
    "duration": 17,
    "start_time": "2021-08-15T03:11:15.232Z"
   },
   {
    "duration": 25,
    "start_time": "2021-08-15T03:11:15.286Z"
   },
   {
    "duration": 17,
    "start_time": "2021-08-15T03:11:15.316Z"
   },
   {
    "duration": 16,
    "start_time": "2021-08-15T03:11:15.335Z"
   },
   {
    "duration": 7,
    "start_time": "2021-08-15T03:11:15.383Z"
   },
   {
    "duration": 6,
    "start_time": "2021-08-15T03:11:15.393Z"
   },
   {
    "duration": 5,
    "start_time": "2021-08-15T03:11:15.401Z"
   },
   {
    "duration": 9,
    "start_time": "2021-08-15T03:11:15.408Z"
   },
   {
    "duration": 14,
    "start_time": "2021-08-15T03:11:15.420Z"
   },
   {
    "duration": 50,
    "start_time": "2021-08-15T03:11:15.436Z"
   },
   {
    "duration": 438,
    "start_time": "2021-08-15T03:11:15.488Z"
   },
   {
    "duration": 58,
    "start_time": "2021-08-15T03:11:15.935Z"
   },
   {
    "duration": 48,
    "start_time": "2021-08-15T03:11:16.011Z"
   },
   {
    "duration": 35,
    "start_time": "2021-08-15T03:11:16.062Z"
   },
   {
    "duration": 28,
    "start_time": "2021-08-15T03:11:16.101Z"
   },
   {
    "duration": 24,
    "start_time": "2021-08-15T03:11:16.133Z"
   },
   {
    "duration": 30,
    "start_time": "2021-08-15T03:11:16.160Z"
   },
   {
    "duration": 9,
    "start_time": "2021-08-15T03:11:16.193Z"
   },
   {
    "duration": 26,
    "start_time": "2021-08-15T03:11:16.205Z"
   },
   {
    "duration": 9,
    "start_time": "2021-08-15T03:11:16.234Z"
   },
   {
    "duration": 49,
    "start_time": "2021-08-15T03:11:16.245Z"
   },
   {
    "duration": 10,
    "start_time": "2021-08-15T03:11:16.296Z"
   },
   {
    "duration": 24,
    "start_time": "2021-08-15T03:11:16.308Z"
   },
   {
    "duration": 10,
    "start_time": "2021-08-15T03:11:16.334Z"
   },
   {
    "duration": 22,
    "start_time": "2021-08-15T03:11:16.384Z"
   },
   {
    "duration": 20,
    "start_time": "2021-08-15T03:11:16.408Z"
   },
   {
    "duration": 55,
    "start_time": "2021-08-15T03:11:16.431Z"
   },
   {
    "duration": 31,
    "start_time": "2021-08-15T03:11:16.489Z"
   },
   {
    "duration": 15,
    "start_time": "2021-08-15T03:11:16.522Z"
   },
   {
    "duration": 43,
    "start_time": "2021-08-15T03:11:16.540Z"
   },
   {
    "duration": 18,
    "start_time": "2021-08-15T03:11:16.585Z"
   },
   {
    "duration": 8,
    "start_time": "2021-08-15T03:11:16.606Z"
   },
   {
    "duration": 66,
    "start_time": "2021-08-15T03:11:16.616Z"
   },
   {
    "duration": 6,
    "start_time": "2021-08-15T03:11:16.684Z"
   },
   {
    "duration": 16,
    "start_time": "2021-08-15T03:11:16.692Z"
   },
   {
    "duration": 16,
    "start_time": "2021-08-15T03:11:16.710Z"
   },
   {
    "duration": 9,
    "start_time": "2021-08-15T03:11:16.728Z"
   },
   {
    "duration": 48,
    "start_time": "2021-08-15T03:11:16.740Z"
   },
   {
    "duration": 34,
    "start_time": "2021-08-15T03:11:16.790Z"
   },
   {
    "duration": 10,
    "start_time": "2021-08-15T03:11:16.827Z"
   },
   {
    "duration": 50,
    "start_time": "2021-08-15T03:11:16.840Z"
   },
   {
    "duration": 27,
    "start_time": "2021-08-15T03:11:16.894Z"
   },
   {
    "duration": 23,
    "start_time": "2021-08-15T03:11:16.924Z"
   },
   {
    "duration": 55,
    "start_time": "2021-08-15T03:11:16.950Z"
   },
   {
    "duration": 12,
    "start_time": "2021-08-15T03:11:17.008Z"
   },
   {
    "duration": 769,
    "start_time": "2021-08-15T03:11:17.023Z"
   },
   {
    "duration": 4,
    "start_time": "2021-08-15T03:11:17.801Z"
   },
   {
    "duration": 96,
    "start_time": "2021-08-15T03:11:17.809Z"
   },
   {
    "duration": -143,
    "start_time": "2021-08-15T03:11:18.051Z"
   },
   {
    "duration": -156,
    "start_time": "2021-08-15T03:11:18.065Z"
   },
   {
    "duration": -160,
    "start_time": "2021-08-15T03:11:18.072Z"
   },
   {
    "duration": -202,
    "start_time": "2021-08-15T03:11:18.116Z"
   },
   {
    "duration": -207,
    "start_time": "2021-08-15T03:11:18.123Z"
   },
   {
    "duration": -221,
    "start_time": "2021-08-15T03:11:18.139Z"
   },
   {
    "duration": -244,
    "start_time": "2021-08-15T03:11:18.165Z"
   },
   {
    "duration": -249,
    "start_time": "2021-08-15T03:11:18.172Z"
   },
   {
    "duration": -262,
    "start_time": "2021-08-15T03:11:18.188Z"
   },
   {
    "duration": -275,
    "start_time": "2021-08-15T03:11:18.203Z"
   },
   {
    "duration": -289,
    "start_time": "2021-08-15T03:11:18.219Z"
   },
   {
    "duration": -303,
    "start_time": "2021-08-15T03:11:18.235Z"
   },
   {
    "duration": -316,
    "start_time": "2021-08-15T03:11:18.250Z"
   },
   {
    "duration": -321,
    "start_time": "2021-08-15T03:11:18.257Z"
   },
   {
    "duration": -331,
    "start_time": "2021-08-15T03:11:18.270Z"
   },
   {
    "duration": -343,
    "start_time": "2021-08-15T03:11:18.284Z"
   },
   {
    "duration": -348,
    "start_time": "2021-08-15T03:11:18.291Z"
   },
   {
    "duration": -362,
    "start_time": "2021-08-15T03:11:18.307Z"
   },
   {
    "duration": 1139,
    "start_time": "2021-08-15T03:12:04.546Z"
   },
   {
    "duration": 864,
    "start_time": "2021-08-15T03:13:19.486Z"
   },
   {
    "duration": 32,
    "start_time": "2021-08-15T03:13:20.352Z"
   },
   {
    "duration": 16,
    "start_time": "2021-08-15T03:13:20.387Z"
   },
   {
    "duration": 23,
    "start_time": "2021-08-15T03:13:20.406Z"
   },
   {
    "duration": 8,
    "start_time": "2021-08-15T03:13:20.431Z"
   },
   {
    "duration": 46,
    "start_time": "2021-08-15T03:13:20.441Z"
   },
   {
    "duration": 9,
    "start_time": "2021-08-15T03:13:20.489Z"
   },
   {
    "duration": 11,
    "start_time": "2021-08-15T03:13:20.502Z"
   },
   {
    "duration": 8,
    "start_time": "2021-08-15T03:13:20.516Z"
   },
   {
    "duration": 56,
    "start_time": "2021-08-15T03:13:20.526Z"
   },
   {
    "duration": 21,
    "start_time": "2021-08-15T03:13:20.585Z"
   },
   {
    "duration": 17,
    "start_time": "2021-08-15T03:13:20.609Z"
   },
   {
    "duration": 8,
    "start_time": "2021-08-15T03:13:20.628Z"
   },
   {
    "duration": 9,
    "start_time": "2021-08-15T03:13:20.639Z"
   },
   {
    "duration": 40,
    "start_time": "2021-08-15T03:13:20.651Z"
   },
   {
    "duration": 8,
    "start_time": "2021-08-15T03:13:20.693Z"
   },
   {
    "duration": 8,
    "start_time": "2021-08-15T03:13:20.703Z"
   },
   {
    "duration": 13,
    "start_time": "2021-08-15T03:13:20.714Z"
   },
   {
    "duration": 4,
    "start_time": "2021-08-15T03:13:20.730Z"
   },
   {
    "duration": 58,
    "start_time": "2021-08-15T03:13:20.737Z"
   },
   {
    "duration": 16,
    "start_time": "2021-08-15T03:13:20.797Z"
   },
   {
    "duration": 15,
    "start_time": "2021-08-15T03:13:20.816Z"
   },
   {
    "duration": 56,
    "start_time": "2021-08-15T03:13:20.838Z"
   },
   {
    "duration": 26,
    "start_time": "2021-08-15T03:13:20.899Z"
   },
   {
    "duration": 24,
    "start_time": "2021-08-15T03:13:20.928Z"
   },
   {
    "duration": 35,
    "start_time": "2021-08-15T03:13:20.955Z"
   },
   {
    "duration": 14,
    "start_time": "2021-08-15T03:13:20.993Z"
   },
   {
    "duration": 6,
    "start_time": "2021-08-15T03:13:21.010Z"
   },
   {
    "duration": 13,
    "start_time": "2021-08-15T03:13:21.018Z"
   },
   {
    "duration": 16,
    "start_time": "2021-08-15T03:13:21.034Z"
   },
   {
    "duration": 5,
    "start_time": "2021-08-15T03:13:21.082Z"
   },
   {
    "duration": 371,
    "start_time": "2021-08-15T03:13:21.090Z"
   },
   {
    "duration": 10,
    "start_time": "2021-08-15T03:13:21.463Z"
   },
   {
    "duration": 9,
    "start_time": "2021-08-15T03:13:21.483Z"
   },
   {
    "duration": 20,
    "start_time": "2021-08-15T03:13:21.494Z"
   },
   {
    "duration": 17,
    "start_time": "2021-08-15T03:13:21.516Z"
   },
   {
    "duration": 49,
    "start_time": "2021-08-15T03:13:21.535Z"
   },
   {
    "duration": 24,
    "start_time": "2021-08-15T03:13:21.586Z"
   },
   {
    "duration": 10,
    "start_time": "2021-08-15T03:13:21.612Z"
   },
   {
    "duration": 62,
    "start_time": "2021-08-15T03:13:21.624Z"
   },
   {
    "duration": 11,
    "start_time": "2021-08-15T03:13:21.688Z"
   },
   {
    "duration": 21,
    "start_time": "2021-08-15T03:13:21.701Z"
   },
   {
    "duration": 10,
    "start_time": "2021-08-15T03:13:21.724Z"
   },
   {
    "duration": 61,
    "start_time": "2021-08-15T03:13:21.737Z"
   },
   {
    "duration": 10,
    "start_time": "2021-08-15T03:13:21.800Z"
   },
   {
    "duration": 23,
    "start_time": "2021-08-15T03:13:21.812Z"
   },
   {
    "duration": 47,
    "start_time": "2021-08-15T03:13:21.838Z"
   },
   {
    "duration": 19,
    "start_time": "2021-08-15T03:13:21.888Z"
   },
   {
    "duration": 30,
    "start_time": "2021-08-15T03:13:21.910Z"
   },
   {
    "duration": 47,
    "start_time": "2021-08-15T03:13:21.943Z"
   },
   {
    "duration": 12,
    "start_time": "2021-08-15T03:13:21.992Z"
   },
   {
    "duration": 13,
    "start_time": "2021-08-15T03:13:22.006Z"
   },
   {
    "duration": 7,
    "start_time": "2021-08-15T03:13:22.022Z"
   },
   {
    "duration": 64,
    "start_time": "2021-08-15T03:13:22.031Z"
   },
   {
    "duration": 3,
    "start_time": "2021-08-15T03:13:22.097Z"
   },
   {
    "duration": 17,
    "start_time": "2021-08-15T03:13:22.103Z"
   },
   {
    "duration": 15,
    "start_time": "2021-08-15T03:13:22.122Z"
   },
   {
    "duration": 44,
    "start_time": "2021-08-15T03:13:22.139Z"
   },
   {
    "duration": 9,
    "start_time": "2021-08-15T03:13:22.185Z"
   },
   {
    "duration": 33,
    "start_time": "2021-08-15T03:13:22.196Z"
   },
   {
    "duration": 9,
    "start_time": "2021-08-15T03:13:22.231Z"
   },
   {
    "duration": 9,
    "start_time": "2021-08-15T03:13:22.282Z"
   },
   {
    "duration": 21,
    "start_time": "2021-08-15T03:13:22.293Z"
   },
   {
    "duration": 20,
    "start_time": "2021-08-15T03:13:22.317Z"
   },
   {
    "duration": 61,
    "start_time": "2021-08-15T03:13:22.340Z"
   },
   {
    "duration": 11,
    "start_time": "2021-08-15T03:13:22.403Z"
   },
   {
    "duration": 748,
    "start_time": "2021-08-15T03:13:22.417Z"
   },
   {
    "duration": 3,
    "start_time": "2021-08-15T03:13:23.172Z"
   },
   {
    "duration": 1117,
    "start_time": "2021-08-15T03:13:23.183Z"
   },
   {
    "duration": 9,
    "start_time": "2021-08-15T03:13:24.302Z"
   },
   {
    "duration": 5,
    "start_time": "2021-08-15T03:13:24.314Z"
   },
   {
    "duration": 13,
    "start_time": "2021-08-15T03:13:24.322Z"
   },
   {
    "duration": 45,
    "start_time": "2021-08-15T03:13:24.338Z"
   },
   {
    "duration": 4500,
    "start_time": "2021-08-15T03:13:24.386Z"
   },
   {
    "duration": 37,
    "start_time": "2021-08-15T03:13:28.888Z"
   },
   {
    "duration": 10,
    "start_time": "2021-08-15T03:13:28.928Z"
   },
   {
    "duration": 4,
    "start_time": "2021-08-15T03:13:28.941Z"
   },
   {
    "duration": 43,
    "start_time": "2021-08-15T03:13:28.948Z"
   },
   {
    "duration": 8,
    "start_time": "2021-08-15T03:13:28.994Z"
   },
   {
    "duration": 5,
    "start_time": "2021-08-15T03:13:29.005Z"
   },
   {
    "duration": 2952,
    "start_time": "2021-08-15T03:13:29.012Z"
   },
   {
    "duration": 32,
    "start_time": "2021-08-15T03:13:31.966Z"
   },
   {
    "duration": 13,
    "start_time": "2021-08-15T03:13:32.000Z"
   },
   {
    "duration": 30,
    "start_time": "2021-08-15T03:13:32.016Z"
   },
   {
    "duration": 51,
    "start_time": "2021-08-15T03:13:32.048Z"
   },
   {
    "duration": 23,
    "start_time": "2021-08-15T03:13:32.102Z"
   },
   {
    "duration": 11,
    "start_time": "2021-08-15T03:13:32.127Z"
   },
   {
    "duration": 817,
    "start_time": "2021-08-15T03:14:24.901Z"
   },
   {
    "duration": 14,
    "start_time": "2021-08-15T03:14:25.721Z"
   },
   {
    "duration": 46,
    "start_time": "2021-08-15T03:14:25.738Z"
   },
   {
    "duration": 22,
    "start_time": "2021-08-15T03:14:25.787Z"
   },
   {
    "duration": 8,
    "start_time": "2021-08-15T03:14:25.811Z"
   },
   {
    "duration": 19,
    "start_time": "2021-08-15T03:14:25.821Z"
   },
   {
    "duration": 43,
    "start_time": "2021-08-15T03:14:25.842Z"
   },
   {
    "duration": 10,
    "start_time": "2021-08-15T03:14:25.889Z"
   },
   {
    "duration": 7,
    "start_time": "2021-08-15T03:14:25.902Z"
   },
   {
    "duration": 9,
    "start_time": "2021-08-15T03:14:25.912Z"
   },
   {
    "duration": 61,
    "start_time": "2021-08-15T03:14:25.924Z"
   },
   {
    "duration": 14,
    "start_time": "2021-08-15T03:14:25.987Z"
   },
   {
    "duration": 12,
    "start_time": "2021-08-15T03:14:26.004Z"
   },
   {
    "duration": 9,
    "start_time": "2021-08-15T03:14:26.019Z"
   },
   {
    "duration": 11,
    "start_time": "2021-08-15T03:14:26.030Z"
   },
   {
    "duration": 43,
    "start_time": "2021-08-15T03:14:26.044Z"
   },
   {
    "duration": 11,
    "start_time": "2021-08-15T03:14:26.089Z"
   },
   {
    "duration": 14,
    "start_time": "2021-08-15T03:14:26.102Z"
   },
   {
    "duration": 5,
    "start_time": "2021-08-15T03:14:26.118Z"
   },
   {
    "duration": 17,
    "start_time": "2021-08-15T03:14:26.125Z"
   },
   {
    "duration": 57,
    "start_time": "2021-08-15T03:14:26.145Z"
   },
   {
    "duration": 18,
    "start_time": "2021-08-15T03:14:26.205Z"
   },
   {
    "duration": 51,
    "start_time": "2021-08-15T03:14:26.231Z"
   },
   {
    "duration": 24,
    "start_time": "2021-08-15T03:14:26.287Z"
   },
   {
    "duration": 26,
    "start_time": "2021-08-15T03:14:26.314Z"
   },
   {
    "duration": 8,
    "start_time": "2021-08-15T03:14:26.343Z"
   },
   {
    "duration": 7,
    "start_time": "2021-08-15T03:14:26.382Z"
   },
   {
    "duration": 8,
    "start_time": "2021-08-15T03:14:26.391Z"
   },
   {
    "duration": 17,
    "start_time": "2021-08-15T03:14:26.401Z"
   },
   {
    "duration": 27,
    "start_time": "2021-08-15T03:14:26.420Z"
   },
   {
    "duration": 6,
    "start_time": "2021-08-15T03:14:26.449Z"
   },
   {
    "duration": 643,
    "start_time": "2021-08-15T03:14:26.482Z"
   },
   {
    "duration": 15,
    "start_time": "2021-08-15T03:14:27.128Z"
   },
   {
    "duration": 30,
    "start_time": "2021-08-15T03:14:27.146Z"
   },
   {
    "duration": 18,
    "start_time": "2021-08-15T03:14:27.184Z"
   },
   {
    "duration": 32,
    "start_time": "2021-08-15T03:14:27.205Z"
   },
   {
    "duration": 13,
    "start_time": "2021-08-15T03:14:27.240Z"
   },
   {
    "duration": 41,
    "start_time": "2021-08-15T03:14:27.256Z"
   },
   {
    "duration": 9,
    "start_time": "2021-08-15T03:14:27.299Z"
   },
   {
    "duration": 28,
    "start_time": "2021-08-15T03:14:27.310Z"
   },
   {
    "duration": 10,
    "start_time": "2021-08-15T03:14:27.341Z"
   },
   {
    "duration": 20,
    "start_time": "2021-08-15T03:14:27.383Z"
   },
   {
    "duration": 9,
    "start_time": "2021-08-15T03:14:27.406Z"
   },
   {
    "duration": 23,
    "start_time": "2021-08-15T03:14:27.417Z"
   },
   {
    "duration": 42,
    "start_time": "2021-08-15T03:14:27.442Z"
   },
   {
    "duration": 27,
    "start_time": "2021-08-15T03:14:27.487Z"
   },
   {
    "duration": 23,
    "start_time": "2021-08-15T03:14:27.517Z"
   },
   {
    "duration": 52,
    "start_time": "2021-08-15T03:14:27.548Z"
   },
   {
    "duration": 32,
    "start_time": "2021-08-15T03:14:27.603Z"
   },
   {
    "duration": 54,
    "start_time": "2021-08-15T03:14:27.638Z"
   },
   {
    "duration": 16,
    "start_time": "2021-08-15T03:14:27.695Z"
   },
   {
    "duration": 15,
    "start_time": "2021-08-15T03:14:27.713Z"
   },
   {
    "duration": 7,
    "start_time": "2021-08-15T03:14:27.730Z"
   },
   {
    "duration": 18,
    "start_time": "2021-08-15T03:14:27.784Z"
   },
   {
    "duration": 9,
    "start_time": "2021-08-15T03:14:27.805Z"
   },
   {
    "duration": 15,
    "start_time": "2021-08-15T03:14:27.816Z"
   },
   {
    "duration": 53,
    "start_time": "2021-08-15T03:14:27.833Z"
   },
   {
    "duration": 8,
    "start_time": "2021-08-15T03:14:27.888Z"
   },
   {
    "duration": 15,
    "start_time": "2021-08-15T03:14:27.898Z"
   },
   {
    "duration": 37,
    "start_time": "2021-08-15T03:14:27.915Z"
   },
   {
    "duration": 10,
    "start_time": "2021-08-15T03:14:27.982Z"
   },
   {
    "duration": 12,
    "start_time": "2021-08-15T03:14:27.995Z"
   },
   {
    "duration": 28,
    "start_time": "2021-08-15T03:14:28.009Z"
   },
   {
    "duration": 48,
    "start_time": "2021-08-15T03:14:28.039Z"
   },
   {
    "duration": 20,
    "start_time": "2021-08-15T03:14:28.089Z"
   },
   {
    "duration": 10,
    "start_time": "2021-08-15T03:14:28.111Z"
   },
   {
    "duration": 778,
    "start_time": "2021-08-15T03:14:28.123Z"
   },
   {
    "duration": 3,
    "start_time": "2021-08-15T03:14:28.908Z"
   },
   {
    "duration": 1127,
    "start_time": "2021-08-15T03:14:28.915Z"
   },
   {
    "duration": 11,
    "start_time": "2021-08-15T03:14:30.045Z"
   },
   {
    "duration": 26,
    "start_time": "2021-08-15T03:14:30.060Z"
   },
   {
    "duration": 13,
    "start_time": "2021-08-15T03:14:30.088Z"
   },
   {
    "duration": 13,
    "start_time": "2021-08-15T03:14:30.103Z"
   },
   {
    "duration": 2914,
    "start_time": "2021-08-15T03:14:30.118Z"
   },
   {
    "duration": 26,
    "start_time": "2021-08-15T03:14:33.035Z"
   },
   {
    "duration": 23,
    "start_time": "2021-08-15T03:14:33.063Z"
   },
   {
    "duration": 4,
    "start_time": "2021-08-15T03:14:33.088Z"
   },
   {
    "duration": 10,
    "start_time": "2021-08-15T03:14:33.094Z"
   },
   {
    "duration": 7,
    "start_time": "2021-08-15T03:14:33.106Z"
   },
   {
    "duration": 3,
    "start_time": "2021-08-15T03:14:33.116Z"
   },
   {
    "duration": 2828,
    "start_time": "2021-08-15T03:14:33.122Z"
   },
   {
    "duration": 35,
    "start_time": "2021-08-15T03:14:35.953Z"
   },
   {
    "duration": 11,
    "start_time": "2021-08-15T03:14:35.991Z"
   },
   {
    "duration": 28,
    "start_time": "2021-08-15T03:14:36.004Z"
   },
   {
    "duration": 57,
    "start_time": "2021-08-15T03:14:36.034Z"
   },
   {
    "duration": 22,
    "start_time": "2021-08-15T03:14:36.094Z"
   },
   {
    "duration": 13,
    "start_time": "2021-08-15T03:14:36.118Z"
   },
   {
    "duration": 10,
    "start_time": "2021-08-15T03:16:08.882Z"
   },
   {
    "duration": 393,
    "start_time": "2021-08-15T03:16:44.852Z"
   },
   {
    "duration": 16,
    "start_time": "2021-08-15T03:16:58.009Z"
   },
   {
    "duration": 271,
    "start_time": "2021-08-15T03:22:16.549Z"
   },
   {
    "duration": 150,
    "start_time": "2021-08-15T03:22:27.972Z"
   },
   {
    "duration": 6,
    "start_time": "2021-08-15T03:22:52.507Z"
   },
   {
    "duration": 10,
    "start_time": "2021-08-15T03:26:40.696Z"
   },
   {
    "duration": 9,
    "start_time": "2021-08-15T03:26:47.840Z"
   },
   {
    "duration": 13,
    "start_time": "2021-08-15T03:31:23.535Z"
   },
   {
    "duration": 760,
    "start_time": "2021-08-15T03:33:13.920Z"
   },
   {
    "duration": 13,
    "start_time": "2021-08-15T03:33:14.683Z"
   },
   {
    "duration": 19,
    "start_time": "2021-08-15T03:33:14.699Z"
   },
   {
    "duration": 22,
    "start_time": "2021-08-15T03:33:14.721Z"
   },
   {
    "duration": 43,
    "start_time": "2021-08-15T03:33:14.745Z"
   },
   {
    "duration": 9,
    "start_time": "2021-08-15T03:33:14.791Z"
   },
   {
    "duration": 7,
    "start_time": "2021-08-15T03:33:14.803Z"
   },
   {
    "duration": 9,
    "start_time": "2021-08-15T03:33:14.814Z"
   },
   {
    "duration": 58,
    "start_time": "2021-08-15T03:33:14.826Z"
   },
   {
    "duration": 8,
    "start_time": "2021-08-15T03:33:14.886Z"
   },
   {
    "duration": 9,
    "start_time": "2021-08-15T03:33:14.896Z"
   },
   {
    "duration": 23,
    "start_time": "2021-08-15T03:33:14.907Z"
   },
   {
    "duration": 51,
    "start_time": "2021-08-15T03:33:14.933Z"
   },
   {
    "duration": 8,
    "start_time": "2021-08-15T03:33:14.986Z"
   },
   {
    "duration": 9,
    "start_time": "2021-08-15T03:33:14.997Z"
   },
   {
    "duration": 16,
    "start_time": "2021-08-15T03:33:15.008Z"
   },
   {
    "duration": 9,
    "start_time": "2021-08-15T03:33:15.026Z"
   },
   {
    "duration": 58,
    "start_time": "2021-08-15T03:33:15.039Z"
   },
   {
    "duration": 6,
    "start_time": "2021-08-15T03:33:15.100Z"
   },
   {
    "duration": 16,
    "start_time": "2021-08-15T03:33:15.109Z"
   },
   {
    "duration": 55,
    "start_time": "2021-08-15T03:33:15.128Z"
   },
   {
    "duration": 7,
    "start_time": "2021-08-15T03:33:15.186Z"
   },
   {
    "duration": 36,
    "start_time": "2021-08-15T03:33:15.204Z"
   },
   {
    "duration": 53,
    "start_time": "2021-08-15T03:33:15.246Z"
   },
   {
    "duration": 20,
    "start_time": "2021-08-15T03:33:15.302Z"
   },
   {
    "duration": 9,
    "start_time": "2021-08-15T03:33:15.325Z"
   },
   {
    "duration": 8,
    "start_time": "2021-08-15T03:33:15.337Z"
   },
   {
    "duration": 39,
    "start_time": "2021-08-15T03:33:15.348Z"
   },
   {
    "duration": 13,
    "start_time": "2021-08-15T03:33:15.390Z"
   },
   {
    "duration": 16,
    "start_time": "2021-08-15T03:33:15.406Z"
   },
   {
    "duration": 819,
    "start_time": "2021-08-15T03:33:15.425Z"
   },
   {
    "duration": 13,
    "start_time": "2021-08-15T03:33:16.248Z"
   },
   {
    "duration": 12,
    "start_time": "2021-08-15T03:33:16.284Z"
   },
   {
    "duration": 16,
    "start_time": "2021-08-15T03:33:16.298Z"
   },
   {
    "duration": 12,
    "start_time": "2021-08-15T03:33:16.317Z"
   },
   {
    "duration": 11,
    "start_time": "2021-08-15T03:33:16.331Z"
   },
   {
    "duration": 59,
    "start_time": "2021-08-15T03:33:16.345Z"
   },
   {
    "duration": 8,
    "start_time": "2021-08-15T03:33:16.406Z"
   },
   {
    "duration": 30,
    "start_time": "2021-08-15T03:33:16.416Z"
   },
   {
    "duration": 8,
    "start_time": "2021-08-15T03:33:16.449Z"
   },
   {
    "duration": 18,
    "start_time": "2021-08-15T03:33:16.483Z"
   },
   {
    "duration": 9,
    "start_time": "2021-08-15T03:33:16.504Z"
   },
   {
    "duration": 22,
    "start_time": "2021-08-15T03:33:16.516Z"
   },
   {
    "duration": 44,
    "start_time": "2021-08-15T03:33:16.540Z"
   },
   {
    "duration": 33,
    "start_time": "2021-08-15T03:33:16.587Z"
   },
   {
    "duration": 22,
    "start_time": "2021-08-15T03:33:16.623Z"
   },
   {
    "duration": 51,
    "start_time": "2021-08-15T03:33:16.648Z"
   },
   {
    "duration": 31,
    "start_time": "2021-08-15T03:33:16.701Z"
   },
   {
    "duration": 15,
    "start_time": "2021-08-15T03:33:16.734Z"
   },
   {
    "duration": 41,
    "start_time": "2021-08-15T03:33:16.751Z"
   },
   {
    "duration": 13,
    "start_time": "2021-08-15T03:33:16.794Z"
   },
   {
    "duration": 9,
    "start_time": "2021-08-15T03:33:16.810Z"
   },
   {
    "duration": 64,
    "start_time": "2021-08-15T03:33:16.821Z"
   },
   {
    "duration": 7,
    "start_time": "2021-08-15T03:33:16.887Z"
   },
   {
    "duration": 18,
    "start_time": "2021-08-15T03:33:16.897Z"
   },
   {
    "duration": 15,
    "start_time": "2021-08-15T03:33:16.917Z"
   },
   {
    "duration": 48,
    "start_time": "2021-08-15T03:33:16.935Z"
   },
   {
    "duration": 8,
    "start_time": "2021-08-15T03:33:16.985Z"
   },
   {
    "duration": 32,
    "start_time": "2021-08-15T03:33:16.996Z"
   },
   {
    "duration": 8,
    "start_time": "2021-08-15T03:33:17.031Z"
   },
   {
    "duration": 43,
    "start_time": "2021-08-15T03:33:17.042Z"
   },
   {
    "duration": 19,
    "start_time": "2021-08-15T03:33:17.088Z"
   },
   {
    "duration": 20,
    "start_time": "2021-08-15T03:33:17.109Z"
   },
   {
    "duration": 53,
    "start_time": "2021-08-15T03:33:17.131Z"
   },
   {
    "duration": 10,
    "start_time": "2021-08-15T03:33:17.186Z"
   },
   {
    "duration": 773,
    "start_time": "2021-08-15T03:33:17.199Z"
   },
   {
    "duration": 4,
    "start_time": "2021-08-15T03:33:17.974Z"
   },
   {
    "duration": 1088,
    "start_time": "2021-08-15T03:33:17.988Z"
   },
   {
    "duration": 9,
    "start_time": "2021-08-15T03:33:19.083Z"
   },
   {
    "duration": 7,
    "start_time": "2021-08-15T03:33:19.095Z"
   },
   {
    "duration": 9,
    "start_time": "2021-08-15T03:33:19.104Z"
   },
   {
    "duration": 4,
    "start_time": "2021-08-15T03:33:19.116Z"
   },
   {
    "duration": 12,
    "start_time": "2021-08-15T03:33:19.122Z"
   },
   {
    "duration": 48,
    "start_time": "2021-08-15T03:33:19.136Z"
   },
   {
    "duration": 3019,
    "start_time": "2021-08-15T03:33:19.187Z"
   },
   {
    "duration": 26,
    "start_time": "2021-08-15T03:33:22.208Z"
   },
   {
    "duration": 8,
    "start_time": "2021-08-15T03:33:22.237Z"
   },
   {
    "duration": 35,
    "start_time": "2021-08-15T03:33:22.248Z"
   },
   {
    "duration": 14,
    "start_time": "2021-08-15T03:33:22.286Z"
   },
   {
    "duration": 9,
    "start_time": "2021-08-15T03:33:22.303Z"
   },
   {
    "duration": 4,
    "start_time": "2021-08-15T03:33:22.315Z"
   },
   {
    "duration": 4336,
    "start_time": "2021-08-15T03:33:22.322Z"
   },
   {
    "duration": 50,
    "start_time": "2021-08-15T03:33:26.661Z"
   },
   {
    "duration": 14,
    "start_time": "2021-08-15T03:33:26.714Z"
   },
   {
    "duration": 62,
    "start_time": "2021-08-15T03:33:26.731Z"
   },
   {
    "duration": 28,
    "start_time": "2021-08-15T03:33:26.795Z"
   },
   {
    "duration": 24,
    "start_time": "2021-08-15T03:33:26.825Z"
   },
   {
    "duration": 42,
    "start_time": "2021-08-15T03:33:26.851Z"
   },
   {
    "duration": 775,
    "start_time": "2021-08-15T03:35:47.308Z"
   },
   {
    "duration": 13,
    "start_time": "2021-08-15T03:35:48.086Z"
   },
   {
    "duration": 18,
    "start_time": "2021-08-15T03:35:48.102Z"
   },
   {
    "duration": 20,
    "start_time": "2021-08-15T03:35:48.123Z"
   },
   {
    "duration": 42,
    "start_time": "2021-08-15T03:35:48.145Z"
   },
   {
    "duration": 9,
    "start_time": "2021-08-15T03:35:48.189Z"
   },
   {
    "duration": 11,
    "start_time": "2021-08-15T03:35:48.200Z"
   },
   {
    "duration": 8,
    "start_time": "2021-08-15T03:35:48.215Z"
   },
   {
    "duration": 6,
    "start_time": "2021-08-15T03:35:48.226Z"
   },
   {
    "duration": 49,
    "start_time": "2021-08-15T03:35:48.235Z"
   },
   {
    "duration": 11,
    "start_time": "2021-08-15T03:35:48.286Z"
   },
   {
    "duration": 23,
    "start_time": "2021-08-15T03:35:48.299Z"
   },
   {
    "duration": 13,
    "start_time": "2021-08-15T03:35:48.324Z"
   },
   {
    "duration": 7,
    "start_time": "2021-08-15T03:35:48.384Z"
   },
   {
    "duration": 9,
    "start_time": "2021-08-15T03:35:48.393Z"
   },
   {
    "duration": 13,
    "start_time": "2021-08-15T03:35:48.405Z"
   },
   {
    "duration": 11,
    "start_time": "2021-08-15T03:35:48.420Z"
   },
   {
    "duration": 32,
    "start_time": "2021-08-15T03:35:48.434Z"
   },
   {
    "duration": 4,
    "start_time": "2021-08-15T03:35:48.483Z"
   },
   {
    "duration": 19,
    "start_time": "2021-08-15T03:35:48.489Z"
   },
   {
    "duration": 14,
    "start_time": "2021-08-15T03:35:48.510Z"
   },
   {
    "duration": 12,
    "start_time": "2021-08-15T03:35:48.526Z"
   },
   {
    "duration": 52,
    "start_time": "2021-08-15T03:35:48.544Z"
   },
   {
    "duration": 19,
    "start_time": "2021-08-15T03:35:48.600Z"
   },
   {
    "duration": 23,
    "start_time": "2021-08-15T03:35:48.621Z"
   },
   {
    "duration": 7,
    "start_time": "2021-08-15T03:35:48.646Z"
   },
   {
    "duration": 33,
    "start_time": "2021-08-15T03:35:48.656Z"
   },
   {
    "duration": 7,
    "start_time": "2021-08-15T03:35:48.691Z"
   },
   {
    "duration": 12,
    "start_time": "2021-08-15T03:35:48.700Z"
   },
   {
    "duration": 20,
    "start_time": "2021-08-15T03:35:48.714Z"
   },
   {
    "duration": 384,
    "start_time": "2021-08-15T03:35:48.736Z"
   },
   {
    "duration": 9,
    "start_time": "2021-08-15T03:35:49.122Z"
   },
   {
    "duration": 25,
    "start_time": "2021-08-15T03:35:49.133Z"
   },
   {
    "duration": 10,
    "start_time": "2021-08-15T03:35:49.182Z"
   },
   {
    "duration": 17,
    "start_time": "2021-08-15T03:35:49.194Z"
   },
   {
    "duration": 25,
    "start_time": "2021-08-15T03:35:49.214Z"
   },
   {
    "duration": 9,
    "start_time": "2021-08-15T03:35:49.241Z"
   },
   {
    "duration": 19,
    "start_time": "2021-08-15T03:35:49.283Z"
   },
   {
    "duration": 9,
    "start_time": "2021-08-15T03:35:49.304Z"
   },
   {
    "duration": 22,
    "start_time": "2021-08-15T03:35:49.315Z"
   },
   {
    "duration": 46,
    "start_time": "2021-08-15T03:35:49.339Z"
   },
   {
    "duration": 20,
    "start_time": "2021-08-15T03:35:49.387Z"
   },
   {
    "duration": 9,
    "start_time": "2021-08-15T03:35:49.409Z"
   },
   {
    "duration": 64,
    "start_time": "2021-08-15T03:35:49.420Z"
   },
   {
    "duration": 20,
    "start_time": "2021-08-15T03:35:49.486Z"
   },
   {
    "duration": 18,
    "start_time": "2021-08-15T03:35:49.508Z"
   },
   {
    "duration": 66,
    "start_time": "2021-08-15T03:35:49.528Z"
   },
   {
    "duration": 20,
    "start_time": "2021-08-15T03:35:49.597Z"
   },
   {
    "duration": 14,
    "start_time": "2021-08-15T03:35:49.620Z"
   },
   {
    "duration": 53,
    "start_time": "2021-08-15T03:35:49.637Z"
   },
   {
    "duration": 6,
    "start_time": "2021-08-15T03:35:49.693Z"
   },
   {
    "duration": 25,
    "start_time": "2021-08-15T03:35:49.702Z"
   },
   {
    "duration": 13,
    "start_time": "2021-08-15T03:35:49.729Z"
   },
   {
    "duration": 17,
    "start_time": "2021-08-15T03:35:49.744Z"
   },
   {
    "duration": 31,
    "start_time": "2021-08-15T03:35:49.763Z"
   },
   {
    "duration": 12,
    "start_time": "2021-08-15T03:35:49.796Z"
   },
   {
    "duration": 13,
    "start_time": "2021-08-15T03:35:49.810Z"
   },
   {
    "duration": 59,
    "start_time": "2021-08-15T03:35:49.825Z"
   },
   {
    "duration": 10,
    "start_time": "2021-08-15T03:35:49.886Z"
   },
   {
    "duration": 10,
    "start_time": "2021-08-15T03:35:49.898Z"
   },
   {
    "duration": 33,
    "start_time": "2021-08-15T03:35:49.910Z"
   },
   {
    "duration": 40,
    "start_time": "2021-08-15T03:35:49.945Z"
   },
   {
    "duration": 23,
    "start_time": "2021-08-15T03:35:49.987Z"
   },
   {
    "duration": 13,
    "start_time": "2021-08-15T03:35:50.013Z"
   },
   {
    "duration": 777,
    "start_time": "2021-08-15T03:35:50.029Z"
   },
   {
    "duration": 3,
    "start_time": "2021-08-15T03:35:50.808Z"
   },
   {
    "duration": 1139,
    "start_time": "2021-08-15T03:35:50.814Z"
   },
   {
    "duration": 22,
    "start_time": "2021-08-15T03:35:51.966Z"
   },
   {
    "duration": 11,
    "start_time": "2021-08-15T03:35:51.992Z"
   },
   {
    "duration": 14,
    "start_time": "2021-08-15T03:35:52.006Z"
   },
   {
    "duration": 7,
    "start_time": "2021-08-15T03:35:52.022Z"
   },
   {
    "duration": 18,
    "start_time": "2021-08-15T03:35:52.031Z"
   },
   {
    "duration": 5,
    "start_time": "2021-08-15T03:35:52.083Z"
   },
   {
    "duration": 2810,
    "start_time": "2021-08-15T03:35:52.090Z"
   },
   {
    "duration": 26,
    "start_time": "2021-08-15T03:35:54.902Z"
   },
   {
    "duration": 9,
    "start_time": "2021-08-15T03:35:54.930Z"
   },
   {
    "duration": 41,
    "start_time": "2021-08-15T03:35:54.941Z"
   },
   {
    "duration": 10,
    "start_time": "2021-08-15T03:35:54.984Z"
   },
   {
    "duration": 10,
    "start_time": "2021-08-15T03:35:54.997Z"
   },
   {
    "duration": 4,
    "start_time": "2021-08-15T03:35:55.010Z"
   },
   {
    "duration": 2754,
    "start_time": "2021-08-15T03:35:55.016Z"
   },
   {
    "duration": 29,
    "start_time": "2021-08-15T03:35:57.773Z"
   },
   {
    "duration": 16,
    "start_time": "2021-08-15T03:35:57.805Z"
   },
   {
    "duration": 35,
    "start_time": "2021-08-15T03:35:57.823Z"
   },
   {
    "duration": 39,
    "start_time": "2021-08-15T03:35:57.884Z"
   },
   {
    "duration": 31,
    "start_time": "2021-08-15T03:35:57.926Z"
   },
   {
    "duration": 16,
    "start_time": "2021-08-15T03:35:57.984Z"
   },
   {
    "duration": 5,
    "start_time": "2021-08-15T03:38:24.494Z"
   },
   {
    "duration": 778,
    "start_time": "2021-08-15T03:49:51.623Z"
   },
   {
    "duration": 14,
    "start_time": "2021-08-15T03:49:52.404Z"
   },
   {
    "duration": 19,
    "start_time": "2021-08-15T03:49:52.422Z"
   },
   {
    "duration": 55,
    "start_time": "2021-08-15T03:49:52.443Z"
   },
   {
    "duration": 7,
    "start_time": "2021-08-15T03:49:52.500Z"
   },
   {
    "duration": 11,
    "start_time": "2021-08-15T03:49:52.509Z"
   },
   {
    "duration": 10,
    "start_time": "2021-08-15T03:49:52.522Z"
   },
   {
    "duration": 9,
    "start_time": "2021-08-15T03:49:52.536Z"
   },
   {
    "duration": 39,
    "start_time": "2021-08-15T03:49:52.548Z"
   },
   {
    "duration": 7,
    "start_time": "2021-08-15T03:49:52.589Z"
   },
   {
    "duration": 9,
    "start_time": "2021-08-15T03:49:52.598Z"
   },
   {
    "duration": 21,
    "start_time": "2021-08-15T03:49:52.609Z"
   },
   {
    "duration": 62,
    "start_time": "2021-08-15T03:49:52.632Z"
   },
   {
    "duration": 10,
    "start_time": "2021-08-15T03:49:52.696Z"
   },
   {
    "duration": 13,
    "start_time": "2021-08-15T03:49:52.709Z"
   },
   {
    "duration": 12,
    "start_time": "2021-08-15T03:49:52.725Z"
   },
   {
    "duration": 46,
    "start_time": "2021-08-15T03:49:52.740Z"
   },
   {
    "duration": 18,
    "start_time": "2021-08-15T03:49:52.789Z"
   },
   {
    "duration": 5,
    "start_time": "2021-08-15T03:49:52.809Z"
   },
   {
    "duration": 15,
    "start_time": "2021-08-15T03:49:52.817Z"
   },
   {
    "duration": 15,
    "start_time": "2021-08-15T03:49:52.834Z"
   },
   {
    "duration": 6,
    "start_time": "2021-08-15T03:49:52.883Z"
   },
   {
    "duration": 23,
    "start_time": "2021-08-15T03:49:52.895Z"
   },
   {
    "duration": 16,
    "start_time": "2021-08-15T03:49:52.922Z"
   },
   {
    "duration": 51,
    "start_time": "2021-08-15T03:49:52.940Z"
   },
   {
    "duration": 6,
    "start_time": "2021-08-15T03:49:52.994Z"
   },
   {
    "duration": 9,
    "start_time": "2021-08-15T03:49:53.002Z"
   },
   {
    "duration": 9,
    "start_time": "2021-08-15T03:49:53.013Z"
   },
   {
    "duration": 8,
    "start_time": "2021-08-15T03:49:53.025Z"
   },
   {
    "duration": 48,
    "start_time": "2021-08-15T03:49:53.036Z"
   },
   {
    "duration": 396,
    "start_time": "2021-08-15T03:49:53.086Z"
   },
   {
    "duration": 9,
    "start_time": "2021-08-15T03:49:53.484Z"
   },
   {
    "duration": 25,
    "start_time": "2021-08-15T03:49:53.497Z"
   },
   {
    "duration": 11,
    "start_time": "2021-08-15T03:49:53.525Z"
   },
   {
    "duration": 65,
    "start_time": "2021-08-15T03:49:53.539Z"
   },
   {
    "duration": 10,
    "start_time": "2021-08-15T03:49:53.607Z"
   },
   {
    "duration": 21,
    "start_time": "2021-08-15T03:49:53.620Z"
   },
   {
    "duration": 11,
    "start_time": "2021-08-15T03:49:53.683Z"
   },
   {
    "duration": 20,
    "start_time": "2021-08-15T03:49:53.697Z"
   },
   {
    "duration": 21,
    "start_time": "2021-08-15T03:49:53.720Z"
   },
   {
    "duration": 48,
    "start_time": "2021-08-15T03:49:53.743Z"
   },
   {
    "duration": 27,
    "start_time": "2021-08-15T03:49:53.794Z"
   },
   {
    "duration": 60,
    "start_time": "2021-08-15T03:49:53.824Z"
   },
   {
    "duration": 21,
    "start_time": "2021-08-15T03:49:53.887Z"
   },
   {
    "duration": 21,
    "start_time": "2021-08-15T03:49:53.911Z"
   },
   {
    "duration": 54,
    "start_time": "2021-08-15T03:49:53.934Z"
   },
   {
    "duration": 15,
    "start_time": "2021-08-15T03:49:53.991Z"
   },
   {
    "duration": 13,
    "start_time": "2021-08-15T03:49:54.008Z"
   },
   {
    "duration": 7,
    "start_time": "2021-08-15T03:49:54.023Z"
   },
   {
    "duration": 64,
    "start_time": "2021-08-15T03:49:54.033Z"
   },
   {
    "duration": 4,
    "start_time": "2021-08-15T03:49:54.100Z"
   },
   {
    "duration": 15,
    "start_time": "2021-08-15T03:49:54.107Z"
   },
   {
    "duration": 58,
    "start_time": "2021-08-15T03:49:54.125Z"
   },
   {
    "duration": 9,
    "start_time": "2021-08-15T03:49:54.185Z"
   },
   {
    "duration": 14,
    "start_time": "2021-08-15T03:49:54.197Z"
   },
   {
    "duration": 34,
    "start_time": "2021-08-15T03:49:54.214Z"
   },
   {
    "duration": 11,
    "start_time": "2021-08-15T03:49:54.283Z"
   },
   {
    "duration": 10,
    "start_time": "2021-08-15T03:49:54.297Z"
   },
   {
    "duration": 22,
    "start_time": "2021-08-15T03:49:54.310Z"
   },
   {
    "duration": 68,
    "start_time": "2021-08-15T03:49:54.335Z"
   },
   {
    "duration": 23,
    "start_time": "2021-08-15T03:49:54.405Z"
   },
   {
    "duration": 12,
    "start_time": "2021-08-15T03:49:54.430Z"
   },
   {
    "duration": 791,
    "start_time": "2021-08-15T03:49:54.445Z"
   },
   {
    "duration": 4,
    "start_time": "2021-08-15T03:49:55.239Z"
   },
   {
    "duration": 1100,
    "start_time": "2021-08-15T03:49:55.246Z"
   },
   {
    "duration": 10,
    "start_time": "2021-08-15T03:49:56.349Z"
   },
   {
    "duration": 24,
    "start_time": "2021-08-15T03:49:56.362Z"
   },
   {
    "duration": 10,
    "start_time": "2021-08-15T03:49:56.395Z"
   },
   {
    "duration": 7,
    "start_time": "2021-08-15T03:49:56.408Z"
   },
   {
    "duration": 11,
    "start_time": "2021-08-15T03:49:56.418Z"
   },
   {
    "duration": 53,
    "start_time": "2021-08-15T03:49:56.432Z"
   },
   {
    "duration": 2798,
    "start_time": "2021-08-15T03:49:56.488Z"
   },
   {
    "duration": 28,
    "start_time": "2021-08-15T03:49:59.288Z"
   },
   {
    "duration": 28,
    "start_time": "2021-08-15T03:49:59.318Z"
   },
   {
    "duration": 9,
    "start_time": "2021-08-15T03:49:59.348Z"
   },
   {
    "duration": 24,
    "start_time": "2021-08-15T03:49:59.359Z"
   },
   {
    "duration": 7,
    "start_time": "2021-08-15T03:49:59.385Z"
   },
   {
    "duration": 7,
    "start_time": "2021-08-15T03:49:59.395Z"
   },
   {
    "duration": 3430,
    "start_time": "2021-08-15T03:49:59.404Z"
   },
   {
    "duration": 28,
    "start_time": "2021-08-15T03:50:02.837Z"
   },
   {
    "duration": 27,
    "start_time": "2021-08-15T03:50:02.867Z"
   },
   {
    "duration": 29,
    "start_time": "2021-08-15T03:50:02.897Z"
   },
   {
    "duration": 58,
    "start_time": "2021-08-15T03:50:02.929Z"
   },
   {
    "duration": 25,
    "start_time": "2021-08-15T03:50:02.990Z"
   },
   {
    "duration": 15,
    "start_time": "2021-08-15T03:50:03.017Z"
   },
   {
    "duration": 10,
    "start_time": "2021-08-15T03:59:12.327Z"
   },
   {
    "duration": 9,
    "start_time": "2021-08-15T03:59:48.131Z"
   },
   {
    "duration": 762,
    "start_time": "2021-08-15T04:04:37.032Z"
   },
   {
    "duration": 15,
    "start_time": "2021-08-15T04:04:37.798Z"
   },
   {
    "duration": 20,
    "start_time": "2021-08-15T04:04:37.817Z"
   },
   {
    "duration": 61,
    "start_time": "2021-08-15T04:04:37.839Z"
   },
   {
    "duration": 8,
    "start_time": "2021-08-15T04:04:37.902Z"
   },
   {
    "duration": 8,
    "start_time": "2021-08-15T04:04:37.913Z"
   },
   {
    "duration": 9,
    "start_time": "2021-08-15T04:04:37.924Z"
   },
   {
    "duration": 46,
    "start_time": "2021-08-15T04:04:37.938Z"
   },
   {
    "duration": 7,
    "start_time": "2021-08-15T04:04:37.988Z"
   },
   {
    "duration": 14,
    "start_time": "2021-08-15T04:04:37.997Z"
   },
   {
    "duration": 8,
    "start_time": "2021-08-15T04:04:38.013Z"
   },
   {
    "duration": 18,
    "start_time": "2021-08-15T04:04:38.024Z"
   },
   {
    "duration": 45,
    "start_time": "2021-08-15T04:04:38.045Z"
   },
   {
    "duration": 18,
    "start_time": "2021-08-15T04:04:38.092Z"
   },
   {
    "duration": 26,
    "start_time": "2021-08-15T04:04:38.112Z"
   },
   {
    "duration": 26,
    "start_time": "2021-08-15T04:04:38.140Z"
   },
   {
    "duration": 15,
    "start_time": "2021-08-15T04:04:38.168Z"
   },
   {
    "duration": 15,
    "start_time": "2021-08-15T04:04:38.186Z"
   },
   {
    "duration": 6,
    "start_time": "2021-08-15T04:04:38.203Z"
   },
   {
    "duration": 23,
    "start_time": "2021-08-15T04:04:38.211Z"
   },
   {
    "duration": 55,
    "start_time": "2021-08-15T04:04:38.236Z"
   },
   {
    "duration": 17,
    "start_time": "2021-08-15T04:04:38.293Z"
   },
   {
    "duration": 26,
    "start_time": "2021-08-15T04:04:38.316Z"
   },
   {
    "duration": 38,
    "start_time": "2021-08-15T04:04:38.347Z"
   },
   {
    "duration": 15,
    "start_time": "2021-08-15T04:04:38.387Z"
   },
   {
    "duration": 6,
    "start_time": "2021-08-15T04:04:38.405Z"
   },
   {
    "duration": 6,
    "start_time": "2021-08-15T04:04:38.413Z"
   },
   {
    "duration": 7,
    "start_time": "2021-08-15T04:04:38.421Z"
   },
   {
    "duration": 8,
    "start_time": "2021-08-15T04:04:38.430Z"
   },
   {
    "duration": 11,
    "start_time": "2021-08-15T04:04:38.483Z"
   },
   {
    "duration": 387,
    "start_time": "2021-08-15T04:04:38.497Z"
   },
   {
    "duration": 9,
    "start_time": "2021-08-15T04:04:38.886Z"
   },
   {
    "duration": 33,
    "start_time": "2021-08-15T04:04:38.898Z"
   },
   {
    "duration": 9,
    "start_time": "2021-08-15T04:04:38.934Z"
   },
   {
    "duration": 57,
    "start_time": "2021-08-15T04:04:38.946Z"
   },
   {
    "duration": 9,
    "start_time": "2021-08-15T04:04:39.006Z"
   },
   {
    "duration": 20,
    "start_time": "2021-08-15T04:04:39.018Z"
   },
   {
    "duration": 52,
    "start_time": "2021-08-15T04:04:39.040Z"
   },
   {
    "duration": 19,
    "start_time": "2021-08-15T04:04:39.094Z"
   },
   {
    "duration": 24,
    "start_time": "2021-08-15T04:04:39.116Z"
   },
   {
    "duration": 46,
    "start_time": "2021-08-15T04:04:39.143Z"
   },
   {
    "duration": 24,
    "start_time": "2021-08-15T04:04:39.192Z"
   },
   {
    "duration": 15,
    "start_time": "2021-08-15T04:04:39.218Z"
   },
   {
    "duration": 55,
    "start_time": "2021-08-15T04:04:39.235Z"
   },
   {
    "duration": 24,
    "start_time": "2021-08-15T04:04:39.293Z"
   },
   {
    "duration": 18,
    "start_time": "2021-08-15T04:04:39.320Z"
   },
   {
    "duration": 3,
    "start_time": "2021-08-15T04:04:39.341Z"
   },
   {
    "duration": 45,
    "start_time": "2021-08-15T04:04:39.346Z"
   },
   {
    "duration": 11,
    "start_time": "2021-08-15T04:04:39.394Z"
   },
   {
    "duration": 5,
    "start_time": "2021-08-15T04:04:39.407Z"
   },
   {
    "duration": 18,
    "start_time": "2021-08-15T04:04:39.415Z"
   },
   {
    "duration": 20,
    "start_time": "2021-08-15T04:04:39.436Z"
   },
   {
    "duration": 9,
    "start_time": "2021-08-15T04:04:39.483Z"
   },
   {
    "duration": 12,
    "start_time": "2021-08-15T04:04:39.495Z"
   },
   {
    "duration": 46,
    "start_time": "2021-08-15T04:04:39.510Z"
   },
   {
    "duration": 28,
    "start_time": "2021-08-15T04:04:39.559Z"
   },
   {
    "duration": 13,
    "start_time": "2021-08-15T04:04:39.590Z"
   },
   {
    "duration": 11,
    "start_time": "2021-08-15T04:04:39.605Z"
   },
   {
    "duration": 28,
    "start_time": "2021-08-15T04:04:39.618Z"
   },
   {
    "duration": 42,
    "start_time": "2021-08-15T04:04:39.649Z"
   },
   {
    "duration": 21,
    "start_time": "2021-08-15T04:04:39.694Z"
   },
   {
    "duration": 10,
    "start_time": "2021-08-15T04:04:39.718Z"
   },
   {
    "duration": 783,
    "start_time": "2021-08-15T04:04:39.730Z"
   },
   {
    "duration": 3,
    "start_time": "2021-08-15T04:04:40.516Z"
   },
   {
    "duration": 1152,
    "start_time": "2021-08-15T04:04:40.521Z"
   },
   {
    "duration": 9,
    "start_time": "2021-08-15T04:04:41.682Z"
   },
   {
    "duration": 26,
    "start_time": "2021-08-15T04:04:41.693Z"
   },
   {
    "duration": 9,
    "start_time": "2021-08-15T04:04:41.727Z"
   },
   {
    "duration": 4,
    "start_time": "2021-08-15T04:04:41.739Z"
   },
   {
    "duration": 16,
    "start_time": "2021-08-15T04:04:41.745Z"
   },
   {
    "duration": 20,
    "start_time": "2021-08-15T04:04:41.763Z"
   },
   {
    "duration": 2920,
    "start_time": "2021-08-15T04:04:41.786Z"
   },
   {
    "duration": 26,
    "start_time": "2021-08-15T04:04:44.709Z"
   },
   {
    "duration": 9,
    "start_time": "2021-08-15T04:04:44.737Z"
   },
   {
    "duration": 35,
    "start_time": "2021-08-15T04:04:44.748Z"
   },
   {
    "duration": 10,
    "start_time": "2021-08-15T04:04:44.785Z"
   },
   {
    "duration": 8,
    "start_time": "2021-08-15T04:04:44.798Z"
   },
   {
    "duration": 4,
    "start_time": "2021-08-15T04:04:44.809Z"
   },
   {
    "duration": 2853,
    "start_time": "2021-08-15T04:04:44.815Z"
   },
   {
    "duration": 46,
    "start_time": "2021-08-15T04:04:47.671Z"
   },
   {
    "duration": 15,
    "start_time": "2021-08-15T04:04:47.720Z"
   },
   {
    "duration": 50,
    "start_time": "2021-08-15T04:04:47.738Z"
   },
   {
    "duration": 37,
    "start_time": "2021-08-15T04:04:47.791Z"
   },
   {
    "duration": 22,
    "start_time": "2021-08-15T04:04:47.831Z"
   },
   {
    "duration": 35,
    "start_time": "2021-08-15T04:04:47.855Z"
   },
   {
    "duration": 6438,
    "start_time": "2021-08-15T04:06:50.813Z"
   },
   {
    "duration": 6542,
    "start_time": "2021-08-15T04:07:25.219Z"
   },
   {
    "duration": 844,
    "start_time": "2021-08-15T04:07:41.592Z"
   },
   {
    "duration": 16,
    "start_time": "2021-08-15T04:07:42.439Z"
   },
   {
    "duration": 34,
    "start_time": "2021-08-15T04:07:42.458Z"
   },
   {
    "duration": 21,
    "start_time": "2021-08-15T04:07:42.495Z"
   },
   {
    "duration": 8,
    "start_time": "2021-08-15T04:07:42.518Z"
   },
   {
    "duration": 19,
    "start_time": "2021-08-15T04:07:42.529Z"
   },
   {
    "duration": 45,
    "start_time": "2021-08-15T04:07:42.550Z"
   },
   {
    "duration": 17,
    "start_time": "2021-08-15T04:07:42.599Z"
   },
   {
    "duration": 11,
    "start_time": "2021-08-15T04:07:42.619Z"
   },
   {
    "duration": 13,
    "start_time": "2021-08-15T04:07:42.632Z"
   },
   {
    "duration": 12,
    "start_time": "2021-08-15T04:07:42.648Z"
   },
   {
    "duration": 37,
    "start_time": "2021-08-15T04:07:42.662Z"
   },
   {
    "duration": 23,
    "start_time": "2021-08-15T04:07:42.701Z"
   },
   {
    "duration": 16,
    "start_time": "2021-08-15T04:07:42.727Z"
   },
   {
    "duration": 13,
    "start_time": "2021-08-15T04:07:42.746Z"
   },
   {
    "duration": 13,
    "start_time": "2021-08-15T04:07:42.783Z"
   },
   {
    "duration": 10,
    "start_time": "2021-08-15T04:07:42.799Z"
   },
   {
    "duration": 18,
    "start_time": "2021-08-15T04:07:42.812Z"
   },
   {
    "duration": 5,
    "start_time": "2021-08-15T04:07:42.833Z"
   },
   {
    "duration": 50,
    "start_time": "2021-08-15T04:07:42.840Z"
   },
   {
    "duration": 16,
    "start_time": "2021-08-15T04:07:42.892Z"
   },
   {
    "duration": 16,
    "start_time": "2021-08-15T04:07:42.911Z"
   },
   {
    "duration": 55,
    "start_time": "2021-08-15T04:07:42.933Z"
   },
   {
    "duration": 17,
    "start_time": "2021-08-15T04:07:42.992Z"
   },
   {
    "duration": 19,
    "start_time": "2021-08-15T04:07:43.012Z"
   },
   {
    "duration": 8,
    "start_time": "2021-08-15T04:07:43.033Z"
   },
   {
    "duration": 44,
    "start_time": "2021-08-15T04:07:43.043Z"
   },
   {
    "duration": 13,
    "start_time": "2021-08-15T04:07:43.090Z"
   },
   {
    "duration": 9,
    "start_time": "2021-08-15T04:07:43.106Z"
   },
   {
    "duration": 12,
    "start_time": "2021-08-15T04:07:43.117Z"
   },
   {
    "duration": 421,
    "start_time": "2021-08-15T04:07:43.132Z"
   },
   {
    "duration": 9,
    "start_time": "2021-08-15T04:07:43.556Z"
   },
   {
    "duration": 35,
    "start_time": "2021-08-15T04:07:43.567Z"
   },
   {
    "duration": 14,
    "start_time": "2021-08-15T04:07:43.604Z"
   },
   {
    "duration": 64,
    "start_time": "2021-08-15T04:07:43.620Z"
   },
   {
    "duration": 9,
    "start_time": "2021-08-15T04:07:43.686Z"
   },
   {
    "duration": 19,
    "start_time": "2021-08-15T04:07:43.697Z"
   },
   {
    "duration": 9,
    "start_time": "2021-08-15T04:07:43.718Z"
   },
   {
    "duration": 65,
    "start_time": "2021-08-15T04:07:43.730Z"
   },
   {
    "duration": 19,
    "start_time": "2021-08-15T04:07:43.797Z"
   },
   {
    "duration": 9,
    "start_time": "2021-08-15T04:07:43.819Z"
   },
   {
    "duration": 68,
    "start_time": "2021-08-15T04:07:43.830Z"
   },
   {
    "duration": 17,
    "start_time": "2021-08-15T04:07:43.900Z"
   },
   {
    "duration": 18,
    "start_time": "2021-08-15T04:07:43.919Z"
   },
   {
    "duration": 58,
    "start_time": "2021-08-15T04:07:43.940Z"
   },
   {
    "duration": 22,
    "start_time": "2021-08-15T04:07:44.000Z"
   },
   {
    "duration": 3,
    "start_time": "2021-08-15T04:07:44.025Z"
   },
   {
    "duration": 54,
    "start_time": "2021-08-15T04:07:44.030Z"
   },
   {
    "duration": 12,
    "start_time": "2021-08-15T04:07:44.086Z"
   },
   {
    "duration": 3,
    "start_time": "2021-08-15T04:07:44.100Z"
   },
   {
    "duration": 15,
    "start_time": "2021-08-15T04:07:44.105Z"
   },
   {
    "duration": 13,
    "start_time": "2021-08-15T04:07:44.122Z"
   },
   {
    "duration": 9,
    "start_time": "2021-08-15T04:07:44.183Z"
   },
   {
    "duration": 23,
    "start_time": "2021-08-15T04:07:44.194Z"
   },
   {
    "duration": 58,
    "start_time": "2021-08-15T04:07:44.219Z"
   },
   {
    "duration": 9,
    "start_time": "2021-08-15T04:07:44.282Z"
   },
   {
    "duration": 14,
    "start_time": "2021-08-15T04:07:44.293Z"
   },
   {
    "duration": 12,
    "start_time": "2021-08-15T04:07:44.309Z"
   },
   {
    "duration": 24,
    "start_time": "2021-08-15T04:07:44.323Z"
   },
   {
    "duration": 26,
    "start_time": "2021-08-15T04:07:44.383Z"
   },
   {
    "duration": 20,
    "start_time": "2021-08-15T04:07:44.411Z"
   },
   {
    "duration": 10,
    "start_time": "2021-08-15T04:07:44.433Z"
   },
   {
    "duration": 733,
    "start_time": "2021-08-15T04:07:44.483Z"
   },
   {
    "duration": 3,
    "start_time": "2021-08-15T04:07:45.219Z"
   },
   {
    "duration": 1110,
    "start_time": "2021-08-15T04:07:45.224Z"
   },
   {
    "duration": 9,
    "start_time": "2021-08-15T04:07:46.336Z"
   },
   {
    "duration": 14,
    "start_time": "2021-08-15T04:07:46.348Z"
   },
   {
    "duration": 9,
    "start_time": "2021-08-15T04:07:46.388Z"
   },
   {
    "duration": 18,
    "start_time": "2021-08-15T04:07:46.399Z"
   },
   {
    "duration": 25,
    "start_time": "2021-08-15T04:07:46.419Z"
   },
   {
    "duration": 11,
    "start_time": "2021-08-15T04:07:46.446Z"
   },
   {
    "duration": 2956,
    "start_time": "2021-08-15T04:07:46.459Z"
   },
   {
    "duration": 27,
    "start_time": "2021-08-15T04:07:49.417Z"
   },
   {
    "duration": 11,
    "start_time": "2021-08-15T04:07:49.446Z"
   },
   {
    "duration": 4,
    "start_time": "2021-08-15T04:07:49.483Z"
   },
   {
    "duration": 11,
    "start_time": "2021-08-15T04:07:49.489Z"
   },
   {
    "duration": 7,
    "start_time": "2021-08-15T04:07:49.502Z"
   },
   {
    "duration": 4,
    "start_time": "2021-08-15T04:07:49.512Z"
   },
   {
    "duration": 2855,
    "start_time": "2021-08-15T04:07:49.518Z"
   },
   {
    "duration": 31,
    "start_time": "2021-08-15T04:07:52.375Z"
   },
   {
    "duration": 11,
    "start_time": "2021-08-15T04:07:52.409Z"
   },
   {
    "duration": 61,
    "start_time": "2021-08-15T04:07:52.422Z"
   },
   {
    "duration": 29,
    "start_time": "2021-08-15T04:07:52.486Z"
   },
   {
    "duration": 26,
    "start_time": "2021-08-15T04:07:52.517Z"
   },
   {
    "duration": 41,
    "start_time": "2021-08-15T04:07:52.545Z"
   },
   {
    "duration": 33,
    "start_time": "2021-08-15T04:21:57.901Z"
   },
   {
    "duration": 21,
    "start_time": "2021-08-15T04:24:00.060Z"
   },
   {
    "duration": 377,
    "start_time": "2021-08-15T04:25:15.582Z"
   },
   {
    "duration": 9,
    "start_time": "2021-08-15T04:25:30.814Z"
   },
   {
    "duration": 8,
    "start_time": "2021-08-15T04:26:52.041Z"
   },
   {
    "duration": 10,
    "start_time": "2021-08-15T04:27:20.884Z"
   },
   {
    "duration": 8,
    "start_time": "2021-08-15T04:27:53.302Z"
   },
   {
    "duration": 16,
    "start_time": "2021-08-15T04:29:02.763Z"
   },
   {
    "duration": 1000,
    "start_time": "2021-08-15T04:29:14.696Z"
   },
   {
    "duration": 13,
    "start_time": "2021-08-15T04:29:15.698Z"
   },
   {
    "duration": 25,
    "start_time": "2021-08-15T04:29:15.713Z"
   },
   {
    "duration": 43,
    "start_time": "2021-08-15T04:29:15.741Z"
   },
   {
    "duration": 7,
    "start_time": "2021-08-15T04:29:15.786Z"
   },
   {
    "duration": 16,
    "start_time": "2021-08-15T04:29:15.795Z"
   },
   {
    "duration": 8,
    "start_time": "2021-08-15T04:29:15.813Z"
   },
   {
    "duration": 9,
    "start_time": "2021-08-15T04:29:15.825Z"
   },
   {
    "duration": 47,
    "start_time": "2021-08-15T04:29:15.837Z"
   },
   {
    "duration": 8,
    "start_time": "2021-08-15T04:29:15.886Z"
   },
   {
    "duration": 17,
    "start_time": "2021-08-15T04:29:15.896Z"
   },
   {
    "duration": 35,
    "start_time": "2021-08-15T04:29:15.916Z"
   },
   {
    "duration": 10,
    "start_time": "2021-08-15T04:29:15.953Z"
   },
   {
    "duration": 20,
    "start_time": "2021-08-15T04:29:15.965Z"
   },
   {
    "duration": 14,
    "start_time": "2021-08-15T04:29:15.987Z"
   },
   {
    "duration": 13,
    "start_time": "2021-08-15T04:29:16.004Z"
   },
   {
    "duration": 11,
    "start_time": "2021-08-15T04:29:16.019Z"
   },
   {
    "duration": 13,
    "start_time": "2021-08-15T04:29:16.032Z"
   },
   {
    "duration": 36,
    "start_time": "2021-08-15T04:29:16.047Z"
   },
   {
    "duration": 47,
    "start_time": "2021-08-15T04:29:16.085Z"
   },
   {
    "duration": 16,
    "start_time": "2021-08-15T04:29:16.134Z"
   },
   {
    "duration": 10,
    "start_time": "2021-08-15T04:29:16.152Z"
   },
   {
    "duration": 24,
    "start_time": "2021-08-15T04:29:16.167Z"
   },
   {
    "duration": 18,
    "start_time": "2021-08-15T04:29:16.195Z"
   },
   {
    "duration": 17,
    "start_time": "2021-08-15T04:29:16.215Z"
   },
   {
    "duration": 7,
    "start_time": "2021-08-15T04:29:16.234Z"
   },
   {
    "duration": 39,
    "start_time": "2021-08-15T04:29:16.243Z"
   },
   {
    "duration": 4,
    "start_time": "2021-08-15T04:29:16.285Z"
   },
   {
    "duration": 11,
    "start_time": "2021-08-15T04:29:16.291Z"
   },
   {
    "duration": 12,
    "start_time": "2021-08-15T04:29:16.304Z"
   },
   {
    "duration": 443,
    "start_time": "2021-08-15T04:29:16.318Z"
   },
   {
    "duration": 9,
    "start_time": "2021-08-15T04:29:16.763Z"
   },
   {
    "duration": 21,
    "start_time": "2021-08-15T04:29:16.783Z"
   },
   {
    "duration": 7,
    "start_time": "2021-08-15T04:29:16.806Z"
   },
   {
    "duration": 26,
    "start_time": "2021-08-15T04:29:16.816Z"
   },
   {
    "duration": 46,
    "start_time": "2021-08-15T04:29:16.844Z"
   },
   {
    "duration": 33,
    "start_time": "2021-08-15T04:29:16.893Z"
   },
   {
    "duration": 10,
    "start_time": "2021-08-15T04:29:16.929Z"
   },
   {
    "duration": 53,
    "start_time": "2021-08-15T04:29:16.942Z"
   },
   {
    "duration": 22,
    "start_time": "2021-08-15T04:29:16.997Z"
   },
   {
    "duration": 11,
    "start_time": "2021-08-15T04:29:17.022Z"
   },
   {
    "duration": 63,
    "start_time": "2021-08-15T04:29:17.036Z"
   },
   {
    "duration": 17,
    "start_time": "2021-08-15T04:29:17.101Z"
   },
   {
    "duration": 18,
    "start_time": "2021-08-15T04:29:17.120Z"
   },
   {
    "duration": 55,
    "start_time": "2021-08-15T04:29:17.140Z"
   },
   {
    "duration": 28,
    "start_time": "2021-08-15T04:29:17.198Z"
   },
   {
    "duration": 25,
    "start_time": "2021-08-15T04:29:17.229Z"
   },
   {
    "duration": 18,
    "start_time": "2021-08-15T04:29:17.283Z"
   },
   {
    "duration": 15,
    "start_time": "2021-08-15T04:29:17.304Z"
   },
   {
    "duration": 4,
    "start_time": "2021-08-15T04:29:17.322Z"
   },
   {
    "duration": 61,
    "start_time": "2021-08-15T04:29:17.328Z"
   },
   {
    "duration": 15,
    "start_time": "2021-08-15T04:29:17.391Z"
   },
   {
    "duration": 33,
    "start_time": "2021-08-15T04:29:17.408Z"
   },
   {
    "duration": 10,
    "start_time": "2021-08-15T04:29:17.443Z"
   },
   {
    "duration": 54,
    "start_time": "2021-08-15T04:29:17.455Z"
   },
   {
    "duration": 11,
    "start_time": "2021-08-15T04:29:17.511Z"
   },
   {
    "duration": 10,
    "start_time": "2021-08-15T04:29:17.524Z"
   },
   {
    "duration": 6,
    "start_time": "2021-08-15T04:29:17.536Z"
   },
   {
    "duration": 24,
    "start_time": "2021-08-15T04:29:17.583Z"
   },
   {
    "duration": 23,
    "start_time": "2021-08-15T04:29:17.609Z"
   },
   {
    "duration": 55,
    "start_time": "2021-08-15T04:29:17.634Z"
   },
   {
    "duration": 11,
    "start_time": "2021-08-15T04:29:17.692Z"
   },
   {
    "duration": 763,
    "start_time": "2021-08-15T04:29:17.706Z"
   },
   {
    "duration": 3,
    "start_time": "2021-08-15T04:29:18.471Z"
   },
   {
    "duration": 1088,
    "start_time": "2021-08-15T04:29:18.482Z"
   },
   {
    "duration": 15,
    "start_time": "2021-08-15T04:29:19.572Z"
   },
   {
    "duration": 9,
    "start_time": "2021-08-15T04:29:19.589Z"
   },
   {
    "duration": 9,
    "start_time": "2021-08-15T04:29:19.605Z"
   },
   {
    "duration": 10,
    "start_time": "2021-08-15T04:29:19.616Z"
   },
   {
    "duration": 11,
    "start_time": "2021-08-15T04:29:19.628Z"
   },
   {
    "duration": 43,
    "start_time": "2021-08-15T04:29:19.641Z"
   },
   {
    "duration": 2811,
    "start_time": "2021-08-15T04:29:19.686Z"
   },
   {
    "duration": 26,
    "start_time": "2021-08-15T04:29:22.500Z"
   },
   {
    "duration": 9,
    "start_time": "2021-08-15T04:29:22.529Z"
   },
   {
    "duration": 5,
    "start_time": "2021-08-15T04:29:22.540Z"
   },
   {
    "duration": 40,
    "start_time": "2021-08-15T04:29:22.547Z"
   },
   {
    "duration": 12,
    "start_time": "2021-08-15T04:29:22.590Z"
   },
   {
    "duration": 4,
    "start_time": "2021-08-15T04:29:22.604Z"
   },
   {
    "duration": 2728,
    "start_time": "2021-08-15T04:29:22.610Z"
   },
   {
    "duration": 28,
    "start_time": "2021-08-15T04:29:25.340Z"
   },
   {
    "duration": 20,
    "start_time": "2021-08-15T04:29:25.370Z"
   },
   {
    "duration": 27,
    "start_time": "2021-08-15T04:29:25.392Z"
   },
   {
    "duration": 66,
    "start_time": "2021-08-15T04:29:25.422Z"
   },
   {
    "duration": 31,
    "start_time": "2021-08-15T04:29:25.491Z"
   },
   {
    "duration": 17,
    "start_time": "2021-08-15T04:29:25.525Z"
   },
   {
    "duration": 16,
    "start_time": "2021-08-15T04:30:36.026Z"
   },
   {
    "duration": 14,
    "start_time": "2021-08-15T04:34:43.613Z"
   },
   {
    "duration": 14,
    "start_time": "2021-08-15T04:34:54.273Z"
   },
   {
    "duration": 7,
    "start_time": "2021-08-15T04:35:25.404Z"
   },
   {
    "duration": 1031,
    "start_time": "2021-08-15T04:36:47.914Z"
   },
   {
    "duration": 34,
    "start_time": "2021-08-15T04:36:48.948Z"
   },
   {
    "duration": 25,
    "start_time": "2021-08-15T04:36:48.986Z"
   },
   {
    "duration": 21,
    "start_time": "2021-08-15T04:36:49.014Z"
   },
   {
    "duration": 7,
    "start_time": "2021-08-15T04:36:49.038Z"
   },
   {
    "duration": 45,
    "start_time": "2021-08-15T04:36:49.047Z"
   },
   {
    "duration": 25,
    "start_time": "2021-08-15T04:36:49.094Z"
   },
   {
    "duration": 13,
    "start_time": "2021-08-15T04:36:49.122Z"
   },
   {
    "duration": 10,
    "start_time": "2021-08-15T04:36:49.138Z"
   },
   {
    "duration": 15,
    "start_time": "2021-08-15T04:36:49.150Z"
   },
   {
    "duration": 20,
    "start_time": "2021-08-15T04:36:49.168Z"
   },
   {
    "duration": 22,
    "start_time": "2021-08-15T04:36:49.190Z"
   },
   {
    "duration": 12,
    "start_time": "2021-08-15T04:36:49.214Z"
   },
   {
    "duration": 8,
    "start_time": "2021-08-15T04:36:49.229Z"
   },
   {
    "duration": 49,
    "start_time": "2021-08-15T04:36:49.239Z"
   },
   {
    "duration": 11,
    "start_time": "2021-08-15T04:36:49.291Z"
   },
   {
    "duration": 11,
    "start_time": "2021-08-15T04:36:49.304Z"
   },
   {
    "duration": 19,
    "start_time": "2021-08-15T04:36:49.317Z"
   },
   {
    "duration": 4,
    "start_time": "2021-08-15T04:36:49.338Z"
   },
   {
    "duration": 13,
    "start_time": "2021-08-15T04:36:49.383Z"
   },
   {
    "duration": 15,
    "start_time": "2021-08-15T04:36:49.398Z"
   },
   {
    "duration": 9,
    "start_time": "2021-08-15T04:36:49.415Z"
   },
   {
    "duration": 63,
    "start_time": "2021-08-15T04:36:49.430Z"
   },
   {
    "duration": 22,
    "start_time": "2021-08-15T04:36:49.496Z"
   },
   {
    "duration": 27,
    "start_time": "2021-08-15T04:36:49.520Z"
   },
   {
    "duration": 13,
    "start_time": "2021-08-15T04:36:49.549Z"
   },
   {
    "duration": 23,
    "start_time": "2021-08-15T04:36:49.564Z"
   },
   {
    "duration": 5,
    "start_time": "2021-08-15T04:36:49.589Z"
   },
   {
    "duration": 15,
    "start_time": "2021-08-15T04:36:49.596Z"
   },
   {
    "duration": 14,
    "start_time": "2021-08-15T04:36:49.613Z"
   },
   {
    "duration": 426,
    "start_time": "2021-08-15T04:36:49.629Z"
   },
   {
    "duration": 25,
    "start_time": "2021-08-15T04:36:50.057Z"
   },
   {
    "duration": 23,
    "start_time": "2021-08-15T04:36:50.085Z"
   },
   {
    "duration": 10,
    "start_time": "2021-08-15T04:36:50.110Z"
   },
   {
    "duration": 27,
    "start_time": "2021-08-15T04:36:50.123Z"
   },
   {
    "duration": 9,
    "start_time": "2021-08-15T04:36:50.183Z"
   },
   {
    "duration": 30,
    "start_time": "2021-08-15T04:36:50.194Z"
   },
   {
    "duration": 10,
    "start_time": "2021-08-15T04:36:50.226Z"
   },
   {
    "duration": 48,
    "start_time": "2021-08-15T04:36:50.238Z"
   },
   {
    "duration": 19,
    "start_time": "2021-08-15T04:36:50.289Z"
   },
   {
    "duration": 9,
    "start_time": "2021-08-15T04:36:50.310Z"
   },
   {
    "duration": 26,
    "start_time": "2021-08-15T04:36:50.322Z"
   },
   {
    "duration": 21,
    "start_time": "2021-08-15T04:36:50.383Z"
   },
   {
    "duration": 19,
    "start_time": "2021-08-15T04:36:50.408Z"
   },
   {
    "duration": 54,
    "start_time": "2021-08-15T04:36:50.429Z"
   },
   {
    "duration": 22,
    "start_time": "2021-08-15T04:36:50.486Z"
   },
   {
    "duration": 20,
    "start_time": "2021-08-15T04:36:50.511Z"
   },
   {
    "duration": 16,
    "start_time": "2021-08-15T04:36:50.533Z"
   },
   {
    "duration": 43,
    "start_time": "2021-08-15T04:36:50.551Z"
   },
   {
    "duration": 14,
    "start_time": "2021-08-15T04:36:50.596Z"
   },
   {
    "duration": 8,
    "start_time": "2021-08-15T04:36:50.613Z"
   },
   {
    "duration": 28,
    "start_time": "2021-08-15T04:36:50.624Z"
   },
   {
    "duration": 56,
    "start_time": "2021-08-15T04:36:50.655Z"
   },
   {
    "duration": 10,
    "start_time": "2021-08-15T04:36:50.713Z"
   },
   {
    "duration": 18,
    "start_time": "2021-08-15T04:36:50.725Z"
   },
   {
    "duration": 13,
    "start_time": "2021-08-15T04:36:50.746Z"
   },
   {
    "duration": 21,
    "start_time": "2021-08-15T04:36:50.783Z"
   },
   {
    "duration": 20,
    "start_time": "2021-08-15T04:36:50.806Z"
   },
   {
    "duration": 19,
    "start_time": "2021-08-15T04:36:50.829Z"
   },
   {
    "duration": 39,
    "start_time": "2021-08-15T04:36:50.851Z"
   },
   {
    "duration": 1896,
    "start_time": "2021-08-15T04:36:50.893Z"
   },
   {
    "duration": 10,
    "start_time": "2021-08-15T04:36:52.792Z"
   },
   {
    "duration": 8,
    "start_time": "2021-08-15T04:36:52.804Z"
   },
   {
    "duration": 10,
    "start_time": "2021-08-15T04:36:52.814Z"
   },
   {
    "duration": 5,
    "start_time": "2021-08-15T04:36:52.826Z"
   },
   {
    "duration": 52,
    "start_time": "2021-08-15T04:36:52.834Z"
   },
   {
    "duration": 6,
    "start_time": "2021-08-15T04:36:52.889Z"
   },
   {
    "duration": 2899,
    "start_time": "2021-08-15T04:36:52.902Z"
   },
   {
    "duration": 26,
    "start_time": "2021-08-15T04:36:55.804Z"
   },
   {
    "duration": 11,
    "start_time": "2021-08-15T04:36:55.833Z"
   },
   {
    "duration": 4,
    "start_time": "2021-08-15T04:36:55.846Z"
   },
   {
    "duration": 10,
    "start_time": "2021-08-15T04:36:55.882Z"
   },
   {
    "duration": 11,
    "start_time": "2021-08-15T04:36:55.894Z"
   },
   {
    "duration": 4,
    "start_time": "2021-08-15T04:36:55.907Z"
   },
   {
    "duration": 2880,
    "start_time": "2021-08-15T04:36:55.913Z"
   },
   {
    "duration": 27,
    "start_time": "2021-08-15T04:36:58.795Z"
   },
   {
    "duration": 23,
    "start_time": "2021-08-15T04:36:58.824Z"
   },
   {
    "duration": 44,
    "start_time": "2021-08-15T04:36:58.849Z"
   },
   {
    "duration": 29,
    "start_time": "2021-08-15T04:36:58.895Z"
   },
   {
    "duration": 24,
    "start_time": "2021-08-15T04:36:58.926Z"
   },
   {
    "duration": 41,
    "start_time": "2021-08-15T04:36:58.953Z"
   },
   {
    "duration": 1005,
    "start_time": "2021-08-15T04:38:56.118Z"
   },
   {
    "duration": 19,
    "start_time": "2021-08-15T04:38:57.126Z"
   },
   {
    "duration": 46,
    "start_time": "2021-08-15T04:38:57.149Z"
   },
   {
    "duration": 27,
    "start_time": "2021-08-15T04:38:57.198Z"
   },
   {
    "duration": 10,
    "start_time": "2021-08-15T04:38:57.228Z"
   },
   {
    "duration": 43,
    "start_time": "2021-08-15T04:38:57.241Z"
   },
   {
    "duration": 10,
    "start_time": "2021-08-15T04:38:57.287Z"
   },
   {
    "duration": 13,
    "start_time": "2021-08-15T04:38:57.302Z"
   },
   {
    "duration": 13,
    "start_time": "2021-08-15T04:38:57.319Z"
   },
   {
    "duration": 13,
    "start_time": "2021-08-15T04:38:57.335Z"
   },
   {
    "duration": 12,
    "start_time": "2021-08-15T04:38:57.384Z"
   },
   {
    "duration": 28,
    "start_time": "2021-08-15T04:38:57.399Z"
   },
   {
    "duration": 21,
    "start_time": "2021-08-15T04:38:57.430Z"
   },
   {
    "duration": 38,
    "start_time": "2021-08-15T04:38:57.454Z"
   },
   {
    "duration": 9,
    "start_time": "2021-08-15T04:38:57.495Z"
   },
   {
    "duration": 9,
    "start_time": "2021-08-15T04:38:57.507Z"
   },
   {
    "duration": 12,
    "start_time": "2021-08-15T04:38:57.518Z"
   },
   {
    "duration": 59,
    "start_time": "2021-08-15T04:38:57.532Z"
   },
   {
    "duration": 5,
    "start_time": "2021-08-15T04:38:57.593Z"
   },
   {
    "duration": 17,
    "start_time": "2021-08-15T04:38:57.600Z"
   },
   {
    "duration": 17,
    "start_time": "2021-08-15T04:38:57.619Z"
   },
   {
    "duration": 45,
    "start_time": "2021-08-15T04:38:57.638Z"
   },
   {
    "duration": 24,
    "start_time": "2021-08-15T04:38:57.689Z"
   },
   {
    "duration": 26,
    "start_time": "2021-08-15T04:38:57.718Z"
   },
   {
    "duration": 46,
    "start_time": "2021-08-15T04:38:57.746Z"
   },
   {
    "duration": 8,
    "start_time": "2021-08-15T04:38:57.794Z"
   },
   {
    "duration": 13,
    "start_time": "2021-08-15T04:38:57.805Z"
   },
   {
    "duration": 9,
    "start_time": "2021-08-15T04:38:57.821Z"
   },
   {
    "duration": 13,
    "start_time": "2021-08-15T04:38:57.832Z"
   },
   {
    "duration": 44,
    "start_time": "2021-08-15T04:38:57.848Z"
   },
   {
    "duration": 389,
    "start_time": "2021-08-15T04:38:57.894Z"
   },
   {
    "duration": 10,
    "start_time": "2021-08-15T04:38:58.285Z"
   },
   {
    "duration": 26,
    "start_time": "2021-08-15T04:38:58.297Z"
   },
   {
    "duration": 10,
    "start_time": "2021-08-15T04:38:58.325Z"
   },
   {
    "duration": 59,
    "start_time": "2021-08-15T04:38:58.338Z"
   },
   {
    "duration": 8,
    "start_time": "2021-08-15T04:38:58.399Z"
   },
   {
    "duration": 22,
    "start_time": "2021-08-15T04:38:58.409Z"
   },
   {
    "duration": 9,
    "start_time": "2021-08-15T04:38:58.433Z"
   },
   {
    "duration": 53,
    "start_time": "2021-08-15T04:38:58.445Z"
   },
   {
    "duration": 19,
    "start_time": "2021-08-15T04:38:58.500Z"
   },
   {
    "duration": 9,
    "start_time": "2021-08-15T04:38:58.521Z"
   },
   {
    "duration": 57,
    "start_time": "2021-08-15T04:38:58.532Z"
   },
   {
    "duration": 17,
    "start_time": "2021-08-15T04:38:58.591Z"
   },
   {
    "duration": 17,
    "start_time": "2021-08-15T04:38:58.610Z"
   },
   {
    "duration": 24,
    "start_time": "2021-08-15T04:38:58.629Z"
   },
   {
    "duration": 20,
    "start_time": "2021-08-15T04:38:58.683Z"
   },
   {
    "duration": 15,
    "start_time": "2021-08-15T04:38:58.705Z"
   },
   {
    "duration": 14,
    "start_time": "2021-08-15T04:38:58.722Z"
   },
   {
    "duration": 53,
    "start_time": "2021-08-15T04:38:58.738Z"
   },
   {
    "duration": 14,
    "start_time": "2021-08-15T04:38:58.793Z"
   },
   {
    "duration": 8,
    "start_time": "2021-08-15T04:38:58.810Z"
   },
   {
    "duration": 15,
    "start_time": "2021-08-15T04:38:58.820Z"
   },
   {
    "duration": 72,
    "start_time": "2021-08-15T04:38:58.838Z"
   },
   {
    "duration": 9,
    "start_time": "2021-08-15T04:38:58.912Z"
   },
   {
    "duration": 17,
    "start_time": "2021-08-15T04:38:58.923Z"
   },
   {
    "duration": 9,
    "start_time": "2021-08-15T04:38:58.942Z"
   },
   {
    "duration": 45,
    "start_time": "2021-08-15T04:38:58.953Z"
   },
   {
    "duration": 24,
    "start_time": "2021-08-15T04:38:59.001Z"
   },
   {
    "duration": 20,
    "start_time": "2021-08-15T04:38:59.027Z"
   },
   {
    "duration": 34,
    "start_time": "2021-08-15T04:38:59.050Z"
   },
   {
    "duration": 1868,
    "start_time": "2021-08-15T04:38:59.086Z"
   },
   {
    "duration": 10,
    "start_time": "2021-08-15T04:39:00.957Z"
   },
   {
    "duration": 20,
    "start_time": "2021-08-15T04:39:00.969Z"
   },
   {
    "duration": 2884,
    "start_time": "2021-08-15T04:39:00.991Z"
   },
   {
    "duration": 2753,
    "start_time": "2021-08-15T04:39:03.878Z"
   },
   {
    "duration": 26,
    "start_time": "2021-08-15T04:39:06.633Z"
   },
   {
    "duration": 25,
    "start_time": "2021-08-15T04:39:06.661Z"
   },
   {
    "duration": 5,
    "start_time": "2021-08-15T04:39:06.693Z"
   },
   {
    "duration": 21,
    "start_time": "2021-08-15T04:39:06.700Z"
   },
   {
    "duration": 23,
    "start_time": "2021-08-15T04:39:06.723Z"
   },
   {
    "duration": 8,
    "start_time": "2021-08-15T04:39:06.748Z"
   },
   {
    "duration": 2833,
    "start_time": "2021-08-15T04:39:06.758Z"
   },
   {
    "duration": 28,
    "start_time": "2021-08-15T04:39:09.593Z"
   },
   {
    "duration": 21,
    "start_time": "2021-08-15T04:39:09.624Z"
   },
   {
    "duration": 46,
    "start_time": "2021-08-15T04:39:09.647Z"
   },
   {
    "duration": 25,
    "start_time": "2021-08-15T04:39:09.696Z"
   },
   {
    "duration": 22,
    "start_time": "2021-08-15T04:39:09.723Z"
   },
   {
    "duration": 39,
    "start_time": "2021-08-15T04:39:09.748Z"
   },
   {
    "duration": 5,
    "start_time": "2021-08-15T04:42:00.906Z"
   },
   {
    "duration": 5,
    "start_time": "2021-08-15T04:43:36.307Z"
   },
   {
    "duration": 9,
    "start_time": "2021-08-15T04:44:13.898Z"
   },
   {
    "duration": 2711,
    "start_time": "2021-08-15T04:44:53.483Z"
   },
   {
    "duration": 204,
    "start_time": "2021-08-15T04:45:09.983Z"
   },
   {
    "duration": 8,
    "start_time": "2021-08-15T04:45:19.877Z"
   },
   {
    "duration": 11,
    "start_time": "2021-08-15T04:46:23.905Z"
   },
   {
    "duration": 456,
    "start_time": "2021-08-15T13:30:03.767Z"
   },
   {
    "duration": 847,
    "start_time": "2021-08-15T13:30:18.562Z"
   },
   {
    "duration": 12,
    "start_time": "2021-08-15T13:30:19.412Z"
   },
   {
    "duration": 37,
    "start_time": "2021-08-15T13:30:19.427Z"
   },
   {
    "duration": 24,
    "start_time": "2021-08-15T13:30:19.466Z"
   },
   {
    "duration": 8,
    "start_time": "2021-08-15T13:30:19.492Z"
   },
   {
    "duration": 13,
    "start_time": "2021-08-15T13:30:19.503Z"
   },
   {
    "duration": 47,
    "start_time": "2021-08-15T13:30:19.519Z"
   },
   {
    "duration": 12,
    "start_time": "2021-08-15T13:30:19.570Z"
   },
   {
    "duration": 13,
    "start_time": "2021-08-15T13:30:19.585Z"
   },
   {
    "duration": 8,
    "start_time": "2021-08-15T13:30:19.601Z"
   },
   {
    "duration": 11,
    "start_time": "2021-08-15T13:30:19.612Z"
   },
   {
    "duration": 55,
    "start_time": "2021-08-15T13:30:19.625Z"
   },
   {
    "duration": 11,
    "start_time": "2021-08-15T13:30:19.683Z"
   },
   {
    "duration": 21,
    "start_time": "2021-08-15T13:30:19.697Z"
   },
   {
    "duration": 10,
    "start_time": "2021-08-15T13:30:19.720Z"
   },
   {
    "duration": 10,
    "start_time": "2021-08-15T13:30:19.761Z"
   },
   {
    "duration": 9,
    "start_time": "2021-08-15T13:30:19.773Z"
   },
   {
    "duration": 15,
    "start_time": "2021-08-15T13:30:19.784Z"
   },
   {
    "duration": 4,
    "start_time": "2021-08-15T13:30:19.802Z"
   },
   {
    "duration": 56,
    "start_time": "2021-08-15T13:30:19.809Z"
   },
   {
    "duration": 17,
    "start_time": "2021-08-15T13:30:19.867Z"
   },
   {
    "duration": 14,
    "start_time": "2021-08-15T13:30:19.887Z"
   },
   {
    "duration": 62,
    "start_time": "2021-08-15T13:30:19.909Z"
   },
   {
    "duration": 19,
    "start_time": "2021-08-15T13:30:19.976Z"
   },
   {
    "duration": 26,
    "start_time": "2021-08-15T13:30:19.998Z"
   },
   {
    "duration": 34,
    "start_time": "2021-08-15T13:30:20.027Z"
   },
   {
    "duration": 7,
    "start_time": "2021-08-15T13:30:20.064Z"
   },
   {
    "duration": 17,
    "start_time": "2021-08-15T13:30:20.073Z"
   },
   {
    "duration": 36,
    "start_time": "2021-08-15T13:30:20.093Z"
   },
   {
    "duration": 16,
    "start_time": "2021-08-15T13:30:20.132Z"
   },
   {
    "duration": 685,
    "start_time": "2021-08-15T13:30:20.163Z"
   },
   {
    "duration": 18,
    "start_time": "2021-08-15T13:30:20.850Z"
   },
   {
    "duration": 43,
    "start_time": "2021-08-15T13:30:20.871Z"
   },
   {
    "duration": 10,
    "start_time": "2021-08-15T13:30:20.916Z"
   },
   {
    "duration": 49,
    "start_time": "2021-08-15T13:30:20.929Z"
   },
   {
    "duration": 11,
    "start_time": "2021-08-15T13:30:20.980Z"
   },
   {
    "duration": 29,
    "start_time": "2021-08-15T13:30:20.993Z"
   },
   {
    "duration": 38,
    "start_time": "2021-08-15T13:30:21.025Z"
   },
   {
    "duration": 20,
    "start_time": "2021-08-15T13:30:21.066Z"
   },
   {
    "duration": 21,
    "start_time": "2021-08-15T13:30:21.088Z"
   },
   {
    "duration": 10,
    "start_time": "2021-08-15T13:30:21.111Z"
   },
   {
    "duration": 64,
    "start_time": "2021-08-15T13:30:21.123Z"
   },
   {
    "duration": 24,
    "start_time": "2021-08-15T13:30:21.191Z"
   },
   {
    "duration": 55,
    "start_time": "2021-08-15T13:30:21.218Z"
   },
   {
    "duration": 26,
    "start_time": "2021-08-15T13:30:21.276Z"
   },
   {
    "duration": 23,
    "start_time": "2021-08-15T13:30:21.304Z"
   },
   {
    "duration": 46,
    "start_time": "2021-08-15T13:30:21.329Z"
   },
   {
    "duration": 18,
    "start_time": "2021-08-15T13:30:21.377Z"
   },
   {
    "duration": 14,
    "start_time": "2021-08-15T13:30:21.397Z"
   },
   {
    "duration": 59,
    "start_time": "2021-08-15T13:30:21.414Z"
   },
   {
    "duration": 12,
    "start_time": "2021-08-15T13:30:21.476Z"
   },
   {
    "duration": 16,
    "start_time": "2021-08-15T13:30:21.491Z"
   },
   {
    "duration": 67,
    "start_time": "2021-08-15T13:30:21.509Z"
   },
   {
    "duration": 10,
    "start_time": "2021-08-15T13:30:21.579Z"
   },
   {
    "duration": 10,
    "start_time": "2021-08-15T13:30:21.591Z"
   },
   {
    "duration": 10,
    "start_time": "2021-08-15T13:30:21.603Z"
   },
   {
    "duration": 54,
    "start_time": "2021-08-15T13:30:21.615Z"
   },
   {
    "duration": 23,
    "start_time": "2021-08-15T13:30:21.671Z"
   },
   {
    "duration": 23,
    "start_time": "2021-08-15T13:30:21.696Z"
   },
   {
    "duration": 44,
    "start_time": "2021-08-15T13:30:21.721Z"
   },
   {
    "duration": 1917,
    "start_time": "2021-08-15T13:30:21.767Z"
   },
   {
    "duration": 11,
    "start_time": "2021-08-15T13:30:23.687Z"
   },
   {
    "duration": 29,
    "start_time": "2021-08-15T13:30:23.700Z"
   },
   {
    "duration": 2990,
    "start_time": "2021-08-15T13:30:23.732Z"
   },
   {
    "duration": 7,
    "start_time": "2021-08-15T13:30:26.725Z"
   },
   {
    "duration": 28,
    "start_time": "2021-08-15T13:30:26.734Z"
   },
   {
    "duration": 18,
    "start_time": "2021-08-15T13:30:26.764Z"
   },
   {
    "duration": 19,
    "start_time": "2021-08-15T13:30:26.789Z"
   },
   {
    "duration": 3070,
    "start_time": "2021-08-15T13:30:26.810Z"
   },
   {
    "duration": 28,
    "start_time": "2021-08-15T13:30:29.882Z"
   },
   {
    "duration": 12,
    "start_time": "2021-08-15T13:30:29.913Z"
   },
   {
    "duration": 54,
    "start_time": "2021-08-15T13:30:29.928Z"
   },
   {
    "duration": 43,
    "start_time": "2021-08-15T13:30:29.984Z"
   },
   {
    "duration": 63,
    "start_time": "2021-08-15T13:30:30.030Z"
   },
   {
    "duration": 18,
    "start_time": "2021-08-15T13:30:30.096Z"
   },
   {
    "duration": 110,
    "start_time": "2021-08-15T13:30:30.117Z"
   },
   {
    "duration": 84,
    "start_time": "2021-08-15T13:31:39.142Z"
   },
   {
    "duration": 232,
    "start_time": "2021-08-15T13:32:12.145Z"
   },
   {
    "duration": 27,
    "start_time": "2021-08-15T13:32:24.927Z"
   },
   {
    "duration": 468,
    "start_time": "2021-08-15T13:32:49.076Z"
   },
   {
    "duration": 21,
    "start_time": "2021-08-15T13:33:02.422Z"
   },
   {
    "duration": 19,
    "start_time": "2021-08-15T13:34:38.050Z"
   },
   {
    "duration": 20,
    "start_time": "2021-08-15T13:35:49.441Z"
   },
   {
    "duration": 817,
    "start_time": "2021-08-15T16:26:19.402Z"
   },
   {
    "duration": 14,
    "start_time": "2021-08-15T16:26:20.222Z"
   },
   {
    "duration": 34,
    "start_time": "2021-08-15T16:26:20.240Z"
   },
   {
    "duration": 23,
    "start_time": "2021-08-15T16:26:20.277Z"
   },
   {
    "duration": 8,
    "start_time": "2021-08-15T16:26:20.303Z"
   },
   {
    "duration": 51,
    "start_time": "2021-08-15T16:26:20.313Z"
   },
   {
    "duration": 17,
    "start_time": "2021-08-15T16:26:20.366Z"
   },
   {
    "duration": 12,
    "start_time": "2021-08-15T16:26:20.387Z"
   },
   {
    "duration": 12,
    "start_time": "2021-08-15T16:26:20.402Z"
   },
   {
    "duration": 15,
    "start_time": "2021-08-15T16:26:20.417Z"
   },
   {
    "duration": 32,
    "start_time": "2021-08-15T16:26:20.434Z"
   },
   {
    "duration": 21,
    "start_time": "2021-08-15T16:26:20.468Z"
   },
   {
    "duration": 13,
    "start_time": "2021-08-15T16:26:20.492Z"
   },
   {
    "duration": 19,
    "start_time": "2021-08-15T16:26:20.507Z"
   },
   {
    "duration": 39,
    "start_time": "2021-08-15T16:26:20.528Z"
   },
   {
    "duration": 21,
    "start_time": "2021-08-15T16:26:20.570Z"
   },
   {
    "duration": 8,
    "start_time": "2021-08-15T16:26:20.593Z"
   },
   {
    "duration": 18,
    "start_time": "2021-08-15T16:26:20.604Z"
   },
   {
    "duration": 6,
    "start_time": "2021-08-15T16:26:20.625Z"
   },
   {
    "duration": 42,
    "start_time": "2021-08-15T16:26:20.633Z"
   },
   {
    "duration": 16,
    "start_time": "2021-08-15T16:26:20.677Z"
   },
   {
    "duration": 20,
    "start_time": "2021-08-15T16:26:20.695Z"
   },
   {
    "duration": 47,
    "start_time": "2021-08-15T16:26:20.721Z"
   },
   {
    "duration": 29,
    "start_time": "2021-08-15T16:26:20.772Z"
   },
   {
    "duration": 26,
    "start_time": "2021-08-15T16:26:20.803Z"
   },
   {
    "duration": 14,
    "start_time": "2021-08-15T16:26:20.831Z"
   },
   {
    "duration": 18,
    "start_time": "2021-08-15T16:26:20.847Z"
   },
   {
    "duration": 8,
    "start_time": "2021-08-15T16:26:20.867Z"
   },
   {
    "duration": 25,
    "start_time": "2021-08-15T16:26:20.878Z"
   },
   {
    "duration": 24,
    "start_time": "2021-08-15T16:26:20.906Z"
   },
   {
    "duration": 391,
    "start_time": "2021-08-15T16:26:20.932Z"
   },
   {
    "duration": 10,
    "start_time": "2021-08-15T16:26:21.326Z"
   },
   {
    "duration": 46,
    "start_time": "2021-08-15T16:26:21.338Z"
   },
   {
    "duration": 10,
    "start_time": "2021-08-15T16:26:21.387Z"
   },
   {
    "duration": 34,
    "start_time": "2021-08-15T16:26:21.400Z"
   },
   {
    "duration": 33,
    "start_time": "2021-08-15T16:26:21.437Z"
   },
   {
    "duration": 26,
    "start_time": "2021-08-15T16:26:21.472Z"
   },
   {
    "duration": 11,
    "start_time": "2021-08-15T16:26:21.500Z"
   },
   {
    "duration": 57,
    "start_time": "2021-08-15T16:26:21.513Z"
   },
   {
    "duration": 20,
    "start_time": "2021-08-15T16:26:21.572Z"
   },
   {
    "duration": 9,
    "start_time": "2021-08-15T16:26:21.595Z"
   },
   {
    "duration": 56,
    "start_time": "2021-08-15T16:26:21.607Z"
   },
   {
    "duration": 17,
    "start_time": "2021-08-15T16:26:21.666Z"
   },
   {
    "duration": 19,
    "start_time": "2021-08-15T16:26:21.686Z"
   },
   {
    "duration": 56,
    "start_time": "2021-08-15T16:26:21.707Z"
   },
   {
    "duration": 23,
    "start_time": "2021-08-15T16:26:21.765Z"
   },
   {
    "duration": 18,
    "start_time": "2021-08-15T16:26:21.790Z"
   },
   {
    "duration": 55,
    "start_time": "2021-08-15T16:26:21.811Z"
   },
   {
    "duration": 12,
    "start_time": "2021-08-15T16:26:21.869Z"
   },
   {
    "duration": 15,
    "start_time": "2021-08-15T16:26:21.883Z"
   },
   {
    "duration": 8,
    "start_time": "2021-08-15T16:26:21.900Z"
   },
   {
    "duration": 55,
    "start_time": "2021-08-15T16:26:21.910Z"
   },
   {
    "duration": 43,
    "start_time": "2021-08-15T16:26:21.968Z"
   },
   {
    "duration": 12,
    "start_time": "2021-08-15T16:26:22.013Z"
   },
   {
    "duration": 40,
    "start_time": "2021-08-15T16:26:22.028Z"
   },
   {
    "duration": 6,
    "start_time": "2021-08-15T16:26:22.071Z"
   },
   {
    "duration": 24,
    "start_time": "2021-08-15T16:26:22.080Z"
   },
   {
    "duration": 69,
    "start_time": "2021-08-15T16:26:22.107Z"
   },
   {
    "duration": 24,
    "start_time": "2021-08-15T16:26:22.179Z"
   },
   {
    "duration": 13,
    "start_time": "2021-08-15T16:26:22.206Z"
   },
   {
    "duration": 1890,
    "start_time": "2021-08-15T16:26:22.221Z"
   },
   {
    "duration": 10,
    "start_time": "2021-08-15T16:26:24.114Z"
   },
   {
    "duration": 14,
    "start_time": "2021-08-15T16:26:24.126Z"
   },
   {
    "duration": 3001,
    "start_time": "2021-08-15T16:26:24.163Z"
   },
   {
    "duration": 8,
    "start_time": "2021-08-15T16:26:27.166Z"
   },
   {
    "duration": 8,
    "start_time": "2021-08-15T16:26:27.176Z"
   },
   {
    "duration": 14,
    "start_time": "2021-08-15T16:26:27.187Z"
   },
   {
    "duration": 8,
    "start_time": "2021-08-15T16:26:27.208Z"
   },
   {
    "duration": 3076,
    "start_time": "2021-08-15T16:26:27.219Z"
   },
   {
    "duration": 28,
    "start_time": "2021-08-15T16:26:30.298Z"
   },
   {
    "duration": 32,
    "start_time": "2021-08-15T16:26:30.329Z"
   },
   {
    "duration": 63,
    "start_time": "2021-08-15T16:26:30.365Z"
   },
   {
    "duration": 53,
    "start_time": "2021-08-15T16:26:30.431Z"
   },
   {
    "duration": 33,
    "start_time": "2021-08-15T16:26:30.487Z"
   },
   {
    "duration": 41,
    "start_time": "2021-08-15T16:26:30.523Z"
   },
   {
    "duration": 56,
    "start_time": "2021-08-15T16:26:30.567Z"
   },
   {
    "duration": 39,
    "start_time": "2021-08-15T16:26:30.625Z"
   },
   {
    "duration": 18,
    "start_time": "2021-08-15T16:26:30.667Z"
   },
   {
    "duration": 32,
    "start_time": "2021-08-15T16:26:30.687Z"
   },
   {
    "duration": 422,
    "start_time": "2021-08-15T16:27:12.002Z"
   },
   {
    "duration": 6,
    "start_time": "2021-08-15T16:27:21.505Z"
   },
   {
    "duration": 30,
    "start_time": "2021-08-15T16:28:25.400Z"
   },
   {
    "duration": 108,
    "start_time": "2021-08-15T16:34:56.267Z"
   },
   {
    "duration": 250,
    "start_time": "2021-08-15T16:35:02.423Z"
   },
   {
    "duration": 304,
    "start_time": "2021-08-15T16:40:09.883Z"
   },
   {
    "duration": 2700,
    "start_time": "2021-08-15T16:40:56.242Z"
   },
   {
    "duration": 293,
    "start_time": "2021-08-15T16:41:19.274Z"
   },
   {
    "duration": 284,
    "start_time": "2021-08-15T16:41:27.195Z"
   },
   {
    "duration": 195,
    "start_time": "2021-08-15T16:44:21.777Z"
   },
   {
    "duration": 290,
    "start_time": "2021-08-15T16:46:06.450Z"
   },
   {
    "duration": 58,
    "start_time": "2021-08-15T16:46:22.699Z"
   },
   {
    "duration": 21,
    "start_time": "2021-08-15T16:56:07.277Z"
   },
   {
    "duration": 55,
    "start_time": "2021-08-15T16:57:17.604Z"
   },
   {
    "duration": 300,
    "start_time": "2021-08-15T16:57:53.322Z"
   },
   {
    "duration": 57,
    "start_time": "2021-08-15T16:58:06.961Z"
   },
   {
    "duration": 20,
    "start_time": "2021-08-15T16:58:39.582Z"
   },
   {
    "duration": 290,
    "start_time": "2021-08-15T16:59:02.792Z"
   },
   {
    "duration": 21,
    "start_time": "2021-08-15T16:59:09.930Z"
   },
   {
    "duration": 22,
    "start_time": "2021-08-15T18:12:53.569Z"
   },
   {
    "duration": 20,
    "start_time": "2021-08-15T18:15:55.635Z"
   },
   {
    "duration": 25,
    "start_time": "2021-08-15T18:16:12.465Z"
   },
   {
    "duration": 121,
    "start_time": "2021-08-15T18:16:21.731Z"
   },
   {
    "duration": 19,
    "start_time": "2021-08-15T18:16:29.307Z"
   },
   {
    "duration": 56,
    "start_time": "2021-08-15T18:23:20.911Z"
   },
   {
    "duration": 242,
    "start_time": "2021-08-15T18:24:10.713Z"
   },
   {
    "duration": 21,
    "start_time": "2021-08-15T18:25:57.230Z"
   },
   {
    "duration": 21,
    "start_time": "2021-08-15T18:28:01.525Z"
   },
   {
    "duration": 21,
    "start_time": "2021-08-15T18:28:25.039Z"
   },
   {
    "duration": 6388,
    "start_time": "2021-08-15T19:45:37.669Z"
   },
   {
    "duration": 7066,
    "start_time": "2021-08-15T19:46:00.027Z"
   },
   {
    "duration": 1138,
    "start_time": "2021-08-15T19:46:18.942Z"
   },
   {
    "duration": 19,
    "start_time": "2021-08-15T19:46:20.084Z"
   },
   {
    "duration": 27,
    "start_time": "2021-08-15T19:46:20.106Z"
   },
   {
    "duration": 46,
    "start_time": "2021-08-15T19:46:20.135Z"
   },
   {
    "duration": 9,
    "start_time": "2021-08-15T19:46:20.183Z"
   },
   {
    "duration": 18,
    "start_time": "2021-08-15T19:46:20.195Z"
   },
   {
    "duration": 11,
    "start_time": "2021-08-15T19:46:20.215Z"
   },
   {
    "duration": 41,
    "start_time": "2021-08-15T19:46:20.230Z"
   },
   {
    "duration": 13,
    "start_time": "2021-08-15T19:46:20.274Z"
   },
   {
    "duration": 16,
    "start_time": "2021-08-15T19:46:20.289Z"
   },
   {
    "duration": 19,
    "start_time": "2021-08-15T19:46:20.307Z"
   },
   {
    "duration": 44,
    "start_time": "2021-08-15T19:46:20.330Z"
   },
   {
    "duration": 21,
    "start_time": "2021-08-15T19:46:20.377Z"
   },
   {
    "duration": 10,
    "start_time": "2021-08-15T19:46:20.400Z"
   },
   {
    "duration": 22,
    "start_time": "2021-08-15T19:46:20.413Z"
   },
   {
    "duration": 33,
    "start_time": "2021-08-15T19:46:20.437Z"
   },
   {
    "duration": 25,
    "start_time": "2021-08-15T19:46:20.472Z"
   },
   {
    "duration": 29,
    "start_time": "2021-08-15T19:46:20.500Z"
   },
   {
    "duration": 5,
    "start_time": "2021-08-15T19:46:20.532Z"
   },
   {
    "duration": 27,
    "start_time": "2021-08-15T19:46:20.539Z"
   },
   {
    "duration": 20,
    "start_time": "2021-08-15T19:46:20.568Z"
   },
   {
    "duration": 14,
    "start_time": "2021-08-15T19:46:20.590Z"
   },
   {
    "duration": 25,
    "start_time": "2021-08-15T19:46:20.610Z"
   },
   {
    "duration": 54,
    "start_time": "2021-08-15T19:46:20.639Z"
   },
   {
    "duration": 25,
    "start_time": "2021-08-15T19:46:20.695Z"
   },
   {
    "duration": 9,
    "start_time": "2021-08-15T19:46:20.722Z"
   },
   {
    "duration": 23,
    "start_time": "2021-08-15T19:46:20.734Z"
   },
   {
    "duration": 7,
    "start_time": "2021-08-15T19:46:20.759Z"
   },
   {
    "duration": 22,
    "start_time": "2021-08-15T19:46:20.769Z"
   },
   {
    "duration": 20,
    "start_time": "2021-08-15T19:46:20.794Z"
   },
   {
    "duration": 389,
    "start_time": "2021-08-15T19:46:20.817Z"
   },
   {
    "duration": 10,
    "start_time": "2021-08-15T19:46:21.209Z"
   },
   {
    "duration": 46,
    "start_time": "2021-08-15T19:46:21.222Z"
   },
   {
    "duration": 10,
    "start_time": "2021-08-15T19:46:21.270Z"
   },
   {
    "duration": 28,
    "start_time": "2021-08-15T19:46:21.282Z"
   },
   {
    "duration": 9,
    "start_time": "2021-08-15T19:46:21.312Z"
   },
   {
    "duration": 57,
    "start_time": "2021-08-15T19:46:21.324Z"
   },
   {
    "duration": 9,
    "start_time": "2021-08-15T19:46:21.383Z"
   },
   {
    "duration": 36,
    "start_time": "2021-08-15T19:46:21.395Z"
   },
   {
    "duration": 42,
    "start_time": "2021-08-15T19:46:21.433Z"
   },
   {
    "duration": 9,
    "start_time": "2021-08-15T19:46:21.478Z"
   },
   {
    "duration": 27,
    "start_time": "2021-08-15T19:46:21.489Z"
   },
   {
    "duration": 49,
    "start_time": "2021-08-15T19:46:21.518Z"
   },
   {
    "duration": 18,
    "start_time": "2021-08-15T19:46:21.569Z"
   },
   {
    "duration": 26,
    "start_time": "2021-08-15T19:46:21.589Z"
   },
   {
    "duration": 50,
    "start_time": "2021-08-15T19:46:21.617Z"
   },
   {
    "duration": 14,
    "start_time": "2021-08-15T19:46:21.670Z"
   },
   {
    "duration": 16,
    "start_time": "2021-08-15T19:46:21.686Z"
   },
   {
    "duration": 13,
    "start_time": "2021-08-15T19:46:21.704Z"
   },
   {
    "duration": 58,
    "start_time": "2021-08-15T19:46:21.719Z"
   },
   {
    "duration": 13,
    "start_time": "2021-08-15T19:46:21.779Z"
   },
   {
    "duration": 16,
    "start_time": "2021-08-15T19:46:21.794Z"
   },
   {
    "duration": 56,
    "start_time": "2021-08-15T19:46:21.813Z"
   },
   {
    "duration": 10,
    "start_time": "2021-08-15T19:46:21.871Z"
   },
   {
    "duration": 16,
    "start_time": "2021-08-15T19:46:21.883Z"
   },
   {
    "duration": 25,
    "start_time": "2021-08-15T19:46:21.902Z"
   },
   {
    "duration": 35,
    "start_time": "2021-08-15T19:46:21.930Z"
   },
   {
    "duration": 23,
    "start_time": "2021-08-15T19:46:21.968Z"
   },
   {
    "duration": 22,
    "start_time": "2021-08-15T19:46:21.993Z"
   },
   {
    "duration": 10,
    "start_time": "2021-08-15T19:46:22.018Z"
   },
   {
    "duration": 1900,
    "start_time": "2021-08-15T19:46:22.030Z"
   },
   {
    "duration": 11,
    "start_time": "2021-08-15T19:46:23.932Z"
   },
   {
    "duration": 19,
    "start_time": "2021-08-15T19:46:23.946Z"
   },
   {
    "duration": 3026,
    "start_time": "2021-08-15T19:46:23.968Z"
   },
   {
    "duration": 8,
    "start_time": "2021-08-15T19:46:26.997Z"
   },
   {
    "duration": 10,
    "start_time": "2021-08-15T19:46:27.007Z"
   },
   {
    "duration": 10,
    "start_time": "2021-08-15T19:46:27.020Z"
   },
   {
    "duration": 9,
    "start_time": "2021-08-15T19:46:27.062Z"
   },
   {
    "duration": 3065,
    "start_time": "2021-08-15T19:46:27.074Z"
   },
   {
    "duration": 37,
    "start_time": "2021-08-15T19:46:30.142Z"
   },
   {
    "duration": 20,
    "start_time": "2021-08-15T19:46:30.181Z"
   },
   {
    "duration": 42,
    "start_time": "2021-08-15T19:46:30.204Z"
   },
   {
    "duration": 44,
    "start_time": "2021-08-15T19:46:30.248Z"
   },
   {
    "duration": 24,
    "start_time": "2021-08-15T19:46:30.294Z"
   },
   {
    "duration": 21,
    "start_time": "2021-08-15T19:46:30.321Z"
   },
   {
    "duration": 58,
    "start_time": "2021-08-15T19:46:30.363Z"
   },
   {
    "duration": 43,
    "start_time": "2021-08-15T19:46:30.423Z"
   },
   {
    "duration": 51,
    "start_time": "2021-08-15T19:46:30.468Z"
   },
   {
    "duration": 13,
    "start_time": "2021-08-15T19:46:30.522Z"
   },
   {
    "duration": 57,
    "start_time": "2021-08-15T19:46:30.562Z"
   },
   {
    "duration": 231,
    "start_time": "2021-08-15T19:46:30.621Z"
   },
   {
    "duration": 19,
    "start_time": "2021-08-15T19:46:30.862Z"
   },
   {
    "duration": 21,
    "start_time": "2021-08-15T19:46:30.883Z"
   },
   {
    "duration": 20,
    "start_time": "2021-08-15T19:46:30.906Z"
   },
   {
    "duration": 5,
    "start_time": "2021-08-15T19:46:30.963Z"
   },
   {
    "duration": 37,
    "start_time": "2021-08-15T19:46:30.971Z"
   },
   {
    "duration": 391,
    "start_time": "2021-08-15T19:46:31.010Z"
   },
   {
    "duration": -119,
    "start_time": "2021-08-15T19:46:31.522Z"
   },
   {
    "duration": -132,
    "start_time": "2021-08-15T19:46:31.536Z"
   },
   {
    "duration": -137,
    "start_time": "2021-08-15T19:46:31.543Z"
   },
   {
    "duration": -148,
    "start_time": "2021-08-15T19:46:31.556Z"
   },
   {
    "duration": -160,
    "start_time": "2021-08-15T19:46:31.569Z"
   },
   {
    "duration": 819,
    "start_time": "2021-08-15T19:50:55.088Z"
   },
   {
    "duration": 14,
    "start_time": "2021-08-15T19:50:55.910Z"
   },
   {
    "duration": 44,
    "start_time": "2021-08-15T19:50:55.927Z"
   },
   {
    "duration": 22,
    "start_time": "2021-08-15T19:50:55.974Z"
   },
   {
    "duration": 8,
    "start_time": "2021-08-15T19:50:55.999Z"
   },
   {
    "duration": 13,
    "start_time": "2021-08-15T19:50:56.010Z"
   },
   {
    "duration": 44,
    "start_time": "2021-08-15T19:50:56.025Z"
   },
   {
    "duration": 11,
    "start_time": "2021-08-15T19:50:56.073Z"
   },
   {
    "duration": 8,
    "start_time": "2021-08-15T19:50:56.087Z"
   },
   {
    "duration": 10,
    "start_time": "2021-08-15T19:50:56.097Z"
   },
   {
    "duration": 53,
    "start_time": "2021-08-15T19:50:56.110Z"
   },
   {
    "duration": 19,
    "start_time": "2021-08-15T19:50:56.166Z"
   },
   {
    "duration": 20,
    "start_time": "2021-08-15T19:50:56.190Z"
   },
   {
    "duration": 12,
    "start_time": "2021-08-15T19:50:56.212Z"
   },
   {
    "duration": 41,
    "start_time": "2021-08-15T19:50:56.226Z"
   },
   {
    "duration": 12,
    "start_time": "2021-08-15T19:50:56.269Z"
   },
   {
    "duration": 9,
    "start_time": "2021-08-15T19:50:56.284Z"
   },
   {
    "duration": 15,
    "start_time": "2021-08-15T19:50:56.295Z"
   },
   {
    "duration": 9,
    "start_time": "2021-08-15T19:50:56.312Z"
   },
   {
    "duration": 51,
    "start_time": "2021-08-15T19:50:56.323Z"
   },
   {
    "duration": 15,
    "start_time": "2021-08-15T19:50:56.377Z"
   },
   {
    "duration": 10,
    "start_time": "2021-08-15T19:50:56.395Z"
   },
   {
    "duration": 52,
    "start_time": "2021-08-15T19:50:56.412Z"
   },
   {
    "duration": 20,
    "start_time": "2021-08-15T19:50:56.469Z"
   },
   {
    "duration": 20,
    "start_time": "2021-08-15T19:50:56.491Z"
   },
   {
    "duration": 7,
    "start_time": "2021-08-15T19:50:56.514Z"
   },
   {
    "duration": 43,
    "start_time": "2021-08-15T19:50:56.524Z"
   },
   {
    "duration": 5,
    "start_time": "2021-08-15T19:50:56.569Z"
   },
   {
    "duration": 11,
    "start_time": "2021-08-15T19:50:56.577Z"
   },
   {
    "duration": 13,
    "start_time": "2021-08-15T19:50:56.591Z"
   },
   {
    "duration": 422,
    "start_time": "2021-08-15T19:50:56.607Z"
   },
   {
    "duration": 10,
    "start_time": "2021-08-15T19:50:57.032Z"
   },
   {
    "duration": 23,
    "start_time": "2021-08-15T19:50:57.063Z"
   },
   {
    "duration": 11,
    "start_time": "2021-08-15T19:50:57.089Z"
   },
   {
    "duration": 60,
    "start_time": "2021-08-15T19:50:57.103Z"
   },
   {
    "duration": 10,
    "start_time": "2021-08-15T19:50:57.166Z"
   },
   {
    "duration": 23,
    "start_time": "2021-08-15T19:50:57.179Z"
   },
   {
    "duration": 10,
    "start_time": "2021-08-15T19:50:57.204Z"
   },
   {
    "duration": 60,
    "start_time": "2021-08-15T19:50:57.217Z"
   },
   {
    "duration": 21,
    "start_time": "2021-08-15T19:50:57.280Z"
   },
   {
    "duration": 23,
    "start_time": "2021-08-15T19:50:57.303Z"
   },
   {
    "duration": 51,
    "start_time": "2021-08-15T19:50:57.329Z"
   },
   {
    "duration": 23,
    "start_time": "2021-08-15T19:50:57.383Z"
   },
   {
    "duration": 53,
    "start_time": "2021-08-15T19:50:57.409Z"
   },
   {
    "duration": 25,
    "start_time": "2021-08-15T19:50:57.464Z"
   },
   {
    "duration": 31,
    "start_time": "2021-08-15T19:50:57.492Z"
   },
   {
    "duration": 46,
    "start_time": "2021-08-15T19:50:57.525Z"
   },
   {
    "duration": 16,
    "start_time": "2021-08-15T19:50:57.574Z"
   },
   {
    "duration": 12,
    "start_time": "2021-08-15T19:50:57.592Z"
   },
   {
    "duration": 21,
    "start_time": "2021-08-15T19:50:57.606Z"
   },
   {
    "duration": 39,
    "start_time": "2021-08-15T19:50:57.630Z"
   },
   {
    "duration": 63,
    "start_time": "2021-08-15T19:50:57.671Z"
   },
   {
    "duration": 72,
    "start_time": "2021-08-15T19:50:57.739Z"
   },
   {
    "duration": 9,
    "start_time": "2021-08-15T19:50:57.814Z"
   },
   {
    "duration": 12,
    "start_time": "2021-08-15T19:50:57.825Z"
   },
   {
    "duration": 24,
    "start_time": "2021-08-15T19:50:57.840Z"
   },
   {
    "duration": 27,
    "start_time": "2021-08-15T19:50:57.867Z"
   },
   {
    "duration": 21,
    "start_time": "2021-08-15T19:50:57.896Z"
   },
   {
    "duration": 45,
    "start_time": "2021-08-15T19:50:57.919Z"
   },
   {
    "duration": 10,
    "start_time": "2021-08-15T19:50:57.967Z"
   },
   {
    "duration": 1917,
    "start_time": "2021-08-15T19:50:57.979Z"
   },
   {
    "duration": 10,
    "start_time": "2021-08-15T19:50:59.899Z"
   },
   {
    "duration": 8,
    "start_time": "2021-08-15T19:50:59.911Z"
   },
   {
    "duration": 3005,
    "start_time": "2021-08-15T19:50:59.921Z"
   },
   {
    "duration": 7,
    "start_time": "2021-08-15T19:51:02.929Z"
   },
   {
    "duration": 25,
    "start_time": "2021-08-15T19:51:02.938Z"
   },
   {
    "duration": 30,
    "start_time": "2021-08-15T19:51:02.966Z"
   },
   {
    "duration": 29,
    "start_time": "2021-08-15T19:51:03.003Z"
   },
   {
    "duration": 2808,
    "start_time": "2021-08-15T19:51:03.035Z"
   },
   {
    "duration": 37,
    "start_time": "2021-08-15T19:51:05.845Z"
   },
   {
    "duration": 23,
    "start_time": "2021-08-15T19:51:05.884Z"
   },
   {
    "duration": 58,
    "start_time": "2021-08-15T19:51:05.909Z"
   },
   {
    "duration": 26,
    "start_time": "2021-08-15T19:51:05.969Z"
   },
   {
    "duration": 23,
    "start_time": "2021-08-15T19:51:05.997Z"
   },
   {
    "duration": 53,
    "start_time": "2021-08-15T19:51:06.022Z"
   },
   {
    "duration": 51,
    "start_time": "2021-08-15T19:51:06.078Z"
   },
   {
    "duration": 38,
    "start_time": "2021-08-15T19:51:06.131Z"
   },
   {
    "duration": 46,
    "start_time": "2021-08-15T19:51:06.171Z"
   },
   {
    "duration": 13,
    "start_time": "2021-08-15T19:51:06.219Z"
   },
   {
    "duration": 54,
    "start_time": "2021-08-15T19:51:06.263Z"
   },
   {
    "duration": 216,
    "start_time": "2021-08-15T19:51:06.320Z"
   },
   {
    "duration": 30,
    "start_time": "2021-08-15T19:51:06.538Z"
   },
   {
    "duration": 18,
    "start_time": "2021-08-15T19:51:06.571Z"
   },
   {
    "duration": 27,
    "start_time": "2021-08-15T19:51:06.592Z"
   },
   {
    "duration": 5,
    "start_time": "2021-08-15T19:51:06.622Z"
   },
   {
    "duration": 57,
    "start_time": "2021-08-15T19:51:06.629Z"
   },
   {
    "duration": 418,
    "start_time": "2021-08-15T19:51:06.689Z"
   },
   {
    "duration": -116,
    "start_time": "2021-08-15T19:51:07.225Z"
   },
   {
    "duration": -128,
    "start_time": "2021-08-15T19:51:07.239Z"
   },
   {
    "duration": -136,
    "start_time": "2021-08-15T19:51:07.248Z"
   },
   {
    "duration": -149,
    "start_time": "2021-08-15T19:51:07.262Z"
   },
   {
    "duration": -161,
    "start_time": "2021-08-15T19:51:07.275Z"
   },
   {
    "duration": 6401,
    "start_time": "2021-08-15T19:54:21.506Z"
   },
   {
    "duration": -403,
    "start_time": "2021-08-15T19:54:28.313Z"
   },
   {
    "duration": 1097,
    "start_time": "2021-08-15T19:54:41.004Z"
   },
   {
    "duration": 20,
    "start_time": "2021-08-15T19:54:42.105Z"
   },
   {
    "duration": 51,
    "start_time": "2021-08-15T19:54:42.128Z"
   },
   {
    "duration": 32,
    "start_time": "2021-08-15T19:54:42.182Z"
   },
   {
    "duration": 9,
    "start_time": "2021-08-15T19:54:42.217Z"
   },
   {
    "duration": 11,
    "start_time": "2021-08-15T19:54:42.262Z"
   },
   {
    "duration": 15,
    "start_time": "2021-08-15T19:54:42.275Z"
   },
   {
    "duration": 10,
    "start_time": "2021-08-15T19:54:42.294Z"
   },
   {
    "duration": 8,
    "start_time": "2021-08-15T19:54:42.306Z"
   },
   {
    "duration": 7,
    "start_time": "2021-08-15T19:54:42.317Z"
   },
   {
    "duration": 8,
    "start_time": "2021-08-15T19:54:42.363Z"
   },
   {
    "duration": 26,
    "start_time": "2021-08-15T19:54:42.374Z"
   },
   {
    "duration": 14,
    "start_time": "2021-08-15T19:54:42.403Z"
   },
   {
    "duration": 48,
    "start_time": "2021-08-15T19:54:42.420Z"
   },
   {
    "duration": 26,
    "start_time": "2021-08-15T19:54:42.471Z"
   },
   {
    "duration": 26,
    "start_time": "2021-08-15T19:54:42.500Z"
   },
   {
    "duration": 9,
    "start_time": "2021-08-15T19:54:42.529Z"
   },
   {
    "duration": 34,
    "start_time": "2021-08-15T19:54:42.541Z"
   },
   {
    "duration": 6,
    "start_time": "2021-08-15T19:54:42.578Z"
   },
   {
    "duration": 20,
    "start_time": "2021-08-15T19:54:42.586Z"
   },
   {
    "duration": 19,
    "start_time": "2021-08-15T19:54:42.609Z"
   },
   {
    "duration": 7,
    "start_time": "2021-08-15T19:54:42.663Z"
   },
   {
    "duration": 29,
    "start_time": "2021-08-15T19:54:42.677Z"
   },
   {
    "duration": 17,
    "start_time": "2021-08-15T19:54:42.710Z"
   },
   {
    "duration": 46,
    "start_time": "2021-08-15T19:54:42.730Z"
   },
   {
    "duration": 10,
    "start_time": "2021-08-15T19:54:42.779Z"
   },
   {
    "duration": 8,
    "start_time": "2021-08-15T19:54:42.792Z"
   },
   {
    "duration": 7,
    "start_time": "2021-08-15T19:54:42.802Z"
   },
   {
    "duration": 58,
    "start_time": "2021-08-15T19:54:42.811Z"
   },
   {
    "duration": 12,
    "start_time": "2021-08-15T19:54:42.872Z"
   },
   {
    "duration": 429,
    "start_time": "2021-08-15T19:54:42.886Z"
   },
   {
    "duration": 10,
    "start_time": "2021-08-15T19:54:43.317Z"
   },
   {
    "duration": 44,
    "start_time": "2021-08-15T19:54:43.330Z"
   },
   {
    "duration": 11,
    "start_time": "2021-08-15T19:54:43.377Z"
   },
   {
    "duration": 46,
    "start_time": "2021-08-15T19:54:43.391Z"
   },
   {
    "duration": 32,
    "start_time": "2021-08-15T19:54:43.440Z"
   },
   {
    "duration": 24,
    "start_time": "2021-08-15T19:54:43.475Z"
   },
   {
    "duration": 12,
    "start_time": "2021-08-15T19:54:43.502Z"
   },
   {
    "duration": 61,
    "start_time": "2021-08-15T19:54:43.517Z"
   },
   {
    "duration": 19,
    "start_time": "2021-08-15T19:54:43.581Z"
   },
   {
    "duration": 9,
    "start_time": "2021-08-15T19:54:43.602Z"
   },
   {
    "duration": 62,
    "start_time": "2021-08-15T19:54:43.614Z"
   },
   {
    "duration": 17,
    "start_time": "2021-08-15T19:54:43.678Z"
   },
   {
    "duration": 17,
    "start_time": "2021-08-15T19:54:43.698Z"
   },
   {
    "duration": 50,
    "start_time": "2021-08-15T19:54:43.718Z"
   },
   {
    "duration": 30,
    "start_time": "2021-08-15T19:54:43.771Z"
   },
   {
    "duration": 17,
    "start_time": "2021-08-15T19:54:43.803Z"
   },
   {
    "duration": 45,
    "start_time": "2021-08-15T19:54:43.822Z"
   },
   {
    "duration": 12,
    "start_time": "2021-08-15T19:54:43.870Z"
   },
   {
    "duration": 14,
    "start_time": "2021-08-15T19:54:43.885Z"
   },
   {
    "duration": 8,
    "start_time": "2021-08-15T19:54:43.902Z"
   },
   {
    "duration": 52,
    "start_time": "2021-08-15T19:54:43.912Z"
   },
   {
    "duration": 46,
    "start_time": "2021-08-15T19:54:43.966Z"
   },
   {
    "duration": 10,
    "start_time": "2021-08-15T19:54:44.014Z"
   },
   {
    "duration": 38,
    "start_time": "2021-08-15T19:54:44.026Z"
   },
   {
    "duration": 5,
    "start_time": "2021-08-15T19:54:44.066Z"
   },
   {
    "duration": 26,
    "start_time": "2021-08-15T19:54:44.074Z"
   },
   {
    "duration": 62,
    "start_time": "2021-08-15T19:54:44.103Z"
   },
   {
    "duration": 22,
    "start_time": "2021-08-15T19:54:44.168Z"
   },
   {
    "duration": 10,
    "start_time": "2021-08-15T19:54:44.192Z"
   },
   {
    "duration": 1967,
    "start_time": "2021-08-15T19:54:44.205Z"
   },
   {
    "duration": 11,
    "start_time": "2021-08-15T19:54:46.175Z"
   },
   {
    "duration": 10,
    "start_time": "2021-08-15T19:54:46.190Z"
   },
   {
    "duration": 3091,
    "start_time": "2021-08-15T19:54:46.203Z"
   },
   {
    "duration": 10,
    "start_time": "2021-08-15T19:54:49.298Z"
   },
   {
    "duration": 7,
    "start_time": "2021-08-15T19:54:49.311Z"
   },
   {
    "duration": 45,
    "start_time": "2021-08-15T19:54:49.321Z"
   },
   {
    "duration": 10,
    "start_time": "2021-08-15T19:54:49.376Z"
   },
   {
    "duration": 3003,
    "start_time": "2021-08-15T19:54:49.391Z"
   },
   {
    "duration": 32,
    "start_time": "2021-08-15T19:54:52.397Z"
   },
   {
    "duration": 35,
    "start_time": "2021-08-15T19:54:52.431Z"
   },
   {
    "duration": 30,
    "start_time": "2021-08-15T19:54:52.468Z"
   },
   {
    "duration": 30,
    "start_time": "2021-08-15T19:54:52.500Z"
   },
   {
    "duration": 29,
    "start_time": "2021-08-15T19:54:52.562Z"
   },
   {
    "duration": 23,
    "start_time": "2021-08-15T19:54:52.594Z"
   },
   {
    "duration": 80,
    "start_time": "2021-08-15T19:54:52.620Z"
   },
   {
    "duration": 19,
    "start_time": "2021-08-15T19:54:52.703Z"
   },
   {
    "duration": 82,
    "start_time": "2021-08-15T19:54:52.725Z"
   },
   {
    "duration": 14,
    "start_time": "2021-08-15T19:54:52.810Z"
   },
   {
    "duration": 77,
    "start_time": "2021-08-15T19:54:52.826Z"
   },
   {
    "duration": 204,
    "start_time": "2021-08-15T19:54:52.905Z"
   },
   {
    "duration": 20,
    "start_time": "2021-08-15T19:54:53.112Z"
   },
   {
    "duration": 41,
    "start_time": "2021-08-15T19:54:53.134Z"
   },
   {
    "duration": 22,
    "start_time": "2021-08-15T19:54:53.177Z"
   },
   {
    "duration": 6,
    "start_time": "2021-08-15T19:54:53.201Z"
   },
   {
    "duration": 69,
    "start_time": "2021-08-15T19:54:53.209Z"
   },
   {
    "duration": 431,
    "start_time": "2021-08-15T19:54:53.281Z"
   },
   {
    "duration": -111,
    "start_time": "2021-08-15T19:54:53.826Z"
   },
   {
    "duration": -126,
    "start_time": "2021-08-15T19:54:53.842Z"
   },
   {
    "duration": -139,
    "start_time": "2021-08-15T19:54:53.856Z"
   },
   {
    "duration": -152,
    "start_time": "2021-08-15T19:54:53.871Z"
   },
   {
    "duration": -167,
    "start_time": "2021-08-15T19:54:53.887Z"
   },
   {
    "duration": 903,
    "start_time": "2021-08-15T19:56:42.621Z"
   },
   {
    "duration": 15,
    "start_time": "2021-08-15T19:56:43.527Z"
   },
   {
    "duration": 18,
    "start_time": "2021-08-15T19:56:43.563Z"
   },
   {
    "duration": 31,
    "start_time": "2021-08-15T19:56:43.583Z"
   },
   {
    "duration": 45,
    "start_time": "2021-08-15T19:56:43.617Z"
   },
   {
    "duration": 13,
    "start_time": "2021-08-15T19:56:43.666Z"
   },
   {
    "duration": 11,
    "start_time": "2021-08-15T19:56:43.682Z"
   },
   {
    "duration": 14,
    "start_time": "2021-08-15T19:56:43.697Z"
   },
   {
    "duration": 48,
    "start_time": "2021-08-15T19:56:43.716Z"
   },
   {
    "duration": 10,
    "start_time": "2021-08-15T19:56:43.768Z"
   },
   {
    "duration": 13,
    "start_time": "2021-08-15T19:56:43.781Z"
   },
   {
    "duration": 64,
    "start_time": "2021-08-15T19:56:43.797Z"
   },
   {
    "duration": 12,
    "start_time": "2021-08-15T19:56:43.864Z"
   },
   {
    "duration": 10,
    "start_time": "2021-08-15T19:56:43.879Z"
   },
   {
    "duration": 9,
    "start_time": "2021-08-15T19:56:43.892Z"
   },
   {
    "duration": 11,
    "start_time": "2021-08-15T19:56:43.903Z"
   },
   {
    "duration": 47,
    "start_time": "2021-08-15T19:56:43.916Z"
   },
   {
    "duration": 24,
    "start_time": "2021-08-15T19:56:43.966Z"
   },
   {
    "duration": 4,
    "start_time": "2021-08-15T19:56:43.992Z"
   },
   {
    "duration": 19,
    "start_time": "2021-08-15T19:56:43.998Z"
   },
   {
    "duration": 44,
    "start_time": "2021-08-15T19:56:44.019Z"
   },
   {
    "duration": 6,
    "start_time": "2021-08-15T19:56:44.066Z"
   },
   {
    "duration": 28,
    "start_time": "2021-08-15T19:56:44.075Z"
   },
   {
    "duration": 18,
    "start_time": "2021-08-15T19:56:44.106Z"
   },
   {
    "duration": 49,
    "start_time": "2021-08-15T19:56:44.127Z"
   },
   {
    "duration": 8,
    "start_time": "2021-08-15T19:56:44.179Z"
   },
   {
    "duration": 6,
    "start_time": "2021-08-15T19:56:44.194Z"
   },
   {
    "duration": 16,
    "start_time": "2021-08-15T19:56:44.203Z"
   },
   {
    "duration": 46,
    "start_time": "2021-08-15T19:56:44.221Z"
   },
   {
    "duration": 13,
    "start_time": "2021-08-15T19:56:44.270Z"
   },
   {
    "duration": 441,
    "start_time": "2021-08-15T19:56:44.286Z"
   },
   {
    "duration": 32,
    "start_time": "2021-08-15T19:56:44.729Z"
   },
   {
    "duration": 34,
    "start_time": "2021-08-15T19:56:44.764Z"
   },
   {
    "duration": 15,
    "start_time": "2021-08-15T19:56:44.800Z"
   },
   {
    "duration": 54,
    "start_time": "2021-08-15T19:56:44.817Z"
   },
   {
    "duration": 10,
    "start_time": "2021-08-15T19:56:44.873Z"
   },
   {
    "duration": 28,
    "start_time": "2021-08-15T19:56:44.885Z"
   },
   {
    "duration": 10,
    "start_time": "2021-08-15T19:56:44.916Z"
   },
   {
    "duration": 24,
    "start_time": "2021-08-15T19:56:44.962Z"
   },
   {
    "duration": 20,
    "start_time": "2021-08-15T19:56:44.988Z"
   },
   {
    "duration": 9,
    "start_time": "2021-08-15T19:56:45.011Z"
   },
   {
    "duration": 62,
    "start_time": "2021-08-15T19:56:45.023Z"
   },
   {
    "duration": 18,
    "start_time": "2021-08-15T19:56:45.088Z"
   },
   {
    "duration": 17,
    "start_time": "2021-08-15T19:56:45.108Z"
   },
   {
    "duration": 48,
    "start_time": "2021-08-15T19:56:45.127Z"
   },
   {
    "duration": 27,
    "start_time": "2021-08-15T19:56:45.178Z"
   },
   {
    "duration": 16,
    "start_time": "2021-08-15T19:56:45.207Z"
   },
   {
    "duration": 51,
    "start_time": "2021-08-15T19:56:45.225Z"
   },
   {
    "duration": 15,
    "start_time": "2021-08-15T19:56:45.279Z"
   },
   {
    "duration": 18,
    "start_time": "2021-08-15T19:56:45.297Z"
   },
   {
    "duration": 50,
    "start_time": "2021-08-15T19:56:45.318Z"
   },
   {
    "duration": 22,
    "start_time": "2021-08-15T19:56:45.371Z"
   },
   {
    "duration": 1103,
    "start_time": "2021-08-15T19:56:45.396Z"
   },
   {
    "duration": -269,
    "start_time": "2021-08-15T19:56:46.771Z"
   },
   {
    "duration": -280,
    "start_time": "2021-08-15T19:56:46.783Z"
   },
   {
    "duration": -287,
    "start_time": "2021-08-15T19:56:46.791Z"
   },
   {
    "duration": -297,
    "start_time": "2021-08-15T19:56:46.803Z"
   },
   {
    "duration": -303,
    "start_time": "2021-08-15T19:56:46.810Z"
   },
   {
    "duration": -313,
    "start_time": "2021-08-15T19:56:46.822Z"
   },
   {
    "duration": -324,
    "start_time": "2021-08-15T19:56:46.834Z"
   },
   {
    "duration": -332,
    "start_time": "2021-08-15T19:56:46.843Z"
   },
   {
    "duration": -342,
    "start_time": "2021-08-15T19:56:46.854Z"
   },
   {
    "duration": -354,
    "start_time": "2021-08-15T19:56:46.867Z"
   },
   {
    "duration": -360,
    "start_time": "2021-08-15T19:56:46.875Z"
   },
   {
    "duration": -371,
    "start_time": "2021-08-15T19:56:46.887Z"
   },
   {
    "duration": -383,
    "start_time": "2021-08-15T19:56:46.900Z"
   },
   {
    "duration": -390,
    "start_time": "2021-08-15T19:56:46.908Z"
   },
   {
    "duration": -400,
    "start_time": "2021-08-15T19:56:46.920Z"
   },
   {
    "duration": -413,
    "start_time": "2021-08-15T19:56:46.934Z"
   },
   {
    "duration": -459,
    "start_time": "2021-08-15T19:56:46.981Z"
   },
   {
    "duration": -466,
    "start_time": "2021-08-15T19:56:46.990Z"
   },
   {
    "duration": -478,
    "start_time": "2021-08-15T19:56:47.003Z"
   },
   {
    "duration": -490,
    "start_time": "2021-08-15T19:56:47.016Z"
   },
   {
    "duration": -497,
    "start_time": "2021-08-15T19:56:47.025Z"
   },
   {
    "duration": -509,
    "start_time": "2021-08-15T19:56:47.038Z"
   },
   {
    "duration": -520,
    "start_time": "2021-08-15T19:56:47.050Z"
   },
   {
    "duration": -527,
    "start_time": "2021-08-15T19:56:47.059Z"
   },
   {
    "duration": -538,
    "start_time": "2021-08-15T19:56:47.071Z"
   },
   {
    "duration": -549,
    "start_time": "2021-08-15T19:56:47.084Z"
   },
   {
    "duration": -556,
    "start_time": "2021-08-15T19:56:47.092Z"
   },
   {
    "duration": -566,
    "start_time": "2021-08-15T19:56:47.104Z"
   },
   {
    "duration": -577,
    "start_time": "2021-08-15T19:56:47.116Z"
   },
   {
    "duration": -583,
    "start_time": "2021-08-15T19:56:47.123Z"
   },
   {
    "duration": -573,
    "start_time": "2021-08-15T19:56:47.135Z"
   },
   {
    "duration": -586,
    "start_time": "2021-08-15T19:56:47.150Z"
   },
   {
    "duration": -593,
    "start_time": "2021-08-15T19:56:47.158Z"
   },
   {
    "duration": -616,
    "start_time": "2021-08-15T19:56:47.183Z"
   },
   {
    "duration": -623,
    "start_time": "2021-08-15T19:56:47.191Z"
   },
   {
    "duration": -632,
    "start_time": "2021-08-15T19:56:47.202Z"
   },
   {
    "duration": -639,
    "start_time": "2021-08-15T19:56:47.210Z"
   },
   {
    "duration": -651,
    "start_time": "2021-08-15T19:56:47.224Z"
   },
   {
    "duration": -662,
    "start_time": "2021-08-15T19:56:47.236Z"
   },
   {
    "duration": 930,
    "start_time": "2021-08-15T19:57:16.252Z"
   },
   {
    "duration": 14,
    "start_time": "2021-08-15T19:57:17.184Z"
   },
   {
    "duration": 59,
    "start_time": "2021-08-15T19:57:17.203Z"
   },
   {
    "duration": 27,
    "start_time": "2021-08-15T19:57:17.265Z"
   },
   {
    "duration": 11,
    "start_time": "2021-08-15T19:57:17.296Z"
   },
   {
    "duration": 16,
    "start_time": "2021-08-15T19:57:17.311Z"
   },
   {
    "duration": 11,
    "start_time": "2021-08-15T19:57:17.363Z"
   },
   {
    "duration": 15,
    "start_time": "2021-08-15T19:57:17.380Z"
   },
   {
    "duration": 10,
    "start_time": "2021-08-15T19:57:17.399Z"
   },
   {
    "duration": 55,
    "start_time": "2021-08-15T19:57:17.412Z"
   },
   {
    "duration": 12,
    "start_time": "2021-08-15T19:57:17.471Z"
   },
   {
    "duration": 22,
    "start_time": "2021-08-15T19:57:17.485Z"
   },
   {
    "duration": 23,
    "start_time": "2021-08-15T19:57:17.509Z"
   },
   {
    "duration": 29,
    "start_time": "2021-08-15T19:57:17.534Z"
   },
   {
    "duration": 10,
    "start_time": "2021-08-15T19:57:17.566Z"
   },
   {
    "duration": 10,
    "start_time": "2021-08-15T19:57:17.578Z"
   },
   {
    "duration": 9,
    "start_time": "2021-08-15T19:57:17.590Z"
   },
   {
    "duration": 14,
    "start_time": "2021-08-15T19:57:17.602Z"
   },
   {
    "duration": 5,
    "start_time": "2021-08-15T19:57:17.663Z"
   },
   {
    "duration": 24,
    "start_time": "2021-08-15T19:57:17.671Z"
   },
   {
    "duration": 17,
    "start_time": "2021-08-15T19:57:17.697Z"
   },
   {
    "duration": 21,
    "start_time": "2021-08-15T19:57:17.716Z"
   },
   {
    "duration": 26,
    "start_time": "2021-08-15T19:57:17.764Z"
   },
   {
    "duration": 22,
    "start_time": "2021-08-15T19:57:17.793Z"
   },
   {
    "duration": 44,
    "start_time": "2021-08-15T19:57:17.817Z"
   },
   {
    "duration": 9,
    "start_time": "2021-08-15T19:57:17.863Z"
   },
   {
    "duration": 9,
    "start_time": "2021-08-15T19:57:17.874Z"
   },
   {
    "duration": 6,
    "start_time": "2021-08-15T19:57:17.885Z"
   },
   {
    "duration": 12,
    "start_time": "2021-08-15T19:57:17.893Z"
   },
   {
    "duration": 16,
    "start_time": "2021-08-15T19:57:17.907Z"
   },
   {
    "duration": 600,
    "start_time": "2021-08-15T19:57:17.963Z"
   },
   {
    "duration": 9,
    "start_time": "2021-08-15T19:57:18.566Z"
   },
   {
    "duration": 38,
    "start_time": "2021-08-15T19:57:18.578Z"
   },
   {
    "duration": 8,
    "start_time": "2021-08-15T19:57:18.618Z"
   },
   {
    "duration": 50,
    "start_time": "2021-08-15T19:57:18.629Z"
   },
   {
    "duration": 9,
    "start_time": "2021-08-15T19:57:18.682Z"
   },
   {
    "duration": 24,
    "start_time": "2021-08-15T19:57:18.693Z"
   },
   {
    "duration": 45,
    "start_time": "2021-08-15T19:57:18.719Z"
   },
   {
    "duration": 21,
    "start_time": "2021-08-15T19:57:18.767Z"
   },
   {
    "duration": 19,
    "start_time": "2021-08-15T19:57:18.791Z"
   },
   {
    "duration": 9,
    "start_time": "2021-08-15T19:57:18.813Z"
   },
   {
    "duration": 54,
    "start_time": "2021-08-15T19:57:18.825Z"
   },
   {
    "duration": 18,
    "start_time": "2021-08-15T19:57:18.881Z"
   },
   {
    "duration": 18,
    "start_time": "2021-08-15T19:57:18.901Z"
   },
   {
    "duration": 22,
    "start_time": "2021-08-15T19:57:18.962Z"
   },
   {
    "duration": 23,
    "start_time": "2021-08-15T19:57:18.987Z"
   },
   {
    "duration": 58,
    "start_time": "2021-08-15T19:57:19.013Z"
   },
   {
    "duration": 16,
    "start_time": "2021-08-15T19:57:19.074Z"
   },
   {
    "duration": 12,
    "start_time": "2021-08-15T19:57:19.093Z"
   },
   {
    "duration": 54,
    "start_time": "2021-08-15T19:57:19.108Z"
   },
   {
    "duration": 9,
    "start_time": "2021-08-15T19:57:19.165Z"
   },
   {
    "duration": 12,
    "start_time": "2021-08-15T19:57:19.176Z"
   },
   {
    "duration": 101,
    "start_time": "2021-08-15T19:57:19.191Z"
   },
   {
    "duration": 12,
    "start_time": "2021-08-15T19:57:19.295Z"
   },
   {
    "duration": 16,
    "start_time": "2021-08-15T19:57:19.310Z"
   },
   {
    "duration": 6,
    "start_time": "2021-08-15T19:57:19.328Z"
   },
   {
    "duration": 20,
    "start_time": "2021-08-15T19:57:19.363Z"
   },
   {
    "duration": 21,
    "start_time": "2021-08-15T19:57:19.386Z"
   },
   {
    "duration": 55,
    "start_time": "2021-08-15T19:57:19.409Z"
   },
   {
    "duration": 11,
    "start_time": "2021-08-15T19:57:19.467Z"
   },
   {
    "duration": 1985,
    "start_time": "2021-08-15T19:57:19.480Z"
   },
   {
    "duration": 11,
    "start_time": "2021-08-15T19:57:21.467Z"
   },
   {
    "duration": 15,
    "start_time": "2021-08-15T19:57:21.481Z"
   },
   {
    "duration": 3089,
    "start_time": "2021-08-15T19:57:21.498Z"
   },
   {
    "duration": 8,
    "start_time": "2021-08-15T19:57:24.589Z"
   },
   {
    "duration": 5,
    "start_time": "2021-08-15T19:57:24.599Z"
   },
   {
    "duration": 13,
    "start_time": "2021-08-15T19:57:24.606Z"
   },
   {
    "duration": 41,
    "start_time": "2021-08-15T19:57:24.626Z"
   },
   {
    "duration": 2997,
    "start_time": "2021-08-15T19:57:24.671Z"
   },
   {
    "duration": 29,
    "start_time": "2021-08-15T19:57:27.670Z"
   },
   {
    "duration": 10,
    "start_time": "2021-08-15T19:57:27.701Z"
   },
   {
    "duration": 70,
    "start_time": "2021-08-15T19:57:27.713Z"
   },
   {
    "duration": 28,
    "start_time": "2021-08-15T19:57:27.786Z"
   },
   {
    "duration": 53,
    "start_time": "2021-08-15T19:57:27.817Z"
   },
   {
    "duration": 25,
    "start_time": "2021-08-15T19:57:27.873Z"
   },
   {
    "duration": 104,
    "start_time": "2021-08-15T19:57:27.901Z"
   },
   {
    "duration": 19,
    "start_time": "2021-08-15T19:57:28.007Z"
   },
   {
    "duration": 69,
    "start_time": "2021-08-15T19:57:28.029Z"
   },
   {
    "duration": 12,
    "start_time": "2021-08-15T19:57:28.101Z"
   },
   {
    "duration": 75,
    "start_time": "2021-08-15T19:57:28.115Z"
   },
   {
    "duration": 210,
    "start_time": "2021-08-15T19:57:28.193Z"
   },
   {
    "duration": 18,
    "start_time": "2021-08-15T19:57:28.406Z"
   },
   {
    "duration": 38,
    "start_time": "2021-08-15T19:57:28.426Z"
   },
   {
    "duration": 22,
    "start_time": "2021-08-15T19:57:28.466Z"
   },
   {
    "duration": 5,
    "start_time": "2021-08-15T19:57:28.490Z"
   },
   {
    "duration": 38,
    "start_time": "2021-08-15T19:57:28.498Z"
   },
   {
    "duration": 446,
    "start_time": "2021-08-15T19:57:28.562Z"
   },
   {
    "duration": -118,
    "start_time": "2021-08-15T19:57:29.128Z"
   },
   {
    "duration": -133,
    "start_time": "2021-08-15T19:57:29.145Z"
   },
   {
    "duration": -146,
    "start_time": "2021-08-15T19:57:29.159Z"
   },
   {
    "duration": -157,
    "start_time": "2021-08-15T19:57:29.172Z"
   },
   {
    "duration": -172,
    "start_time": "2021-08-15T19:57:29.188Z"
   },
   {
    "duration": 13,
    "start_time": "2021-08-15T20:00:59.637Z"
   },
   {
    "duration": 12,
    "start_time": "2021-08-15T20:02:12.960Z"
   },
   {
    "duration": 14,
    "start_time": "2021-08-15T20:02:24.093Z"
   },
   {
    "duration": 40,
    "start_time": "2021-08-15T20:03:58.622Z"
   },
   {
    "duration": 20,
    "start_time": "2021-08-15T20:04:54.158Z"
   },
   {
    "duration": 811,
    "start_time": "2021-08-15T20:05:18.560Z"
   },
   {
    "duration": 20,
    "start_time": "2021-08-15T20:05:38.839Z"
   },
   {
    "duration": 240,
    "start_time": "2021-08-15T20:18:55.374Z"
   },
   {
    "duration": 38,
    "start_time": "2021-08-15T20:19:02.572Z"
   },
   {
    "duration": 58,
    "start_time": "2021-08-15T20:19:16.634Z"
   },
   {
    "duration": 68,
    "start_time": "2021-08-15T20:20:25.024Z"
   },
   {
    "duration": 100,
    "start_time": "2021-08-15T20:20:35.905Z"
   },
   {
    "duration": 18,
    "start_time": "2021-08-15T20:32:50.950Z"
   },
   {
    "duration": 19,
    "start_time": "2021-08-15T20:34:03.576Z"
   },
   {
    "duration": 18,
    "start_time": "2021-08-15T20:34:06.416Z"
   },
   {
    "duration": 731,
    "start_time": "2021-08-15T20:50:52.054Z"
   },
   {
    "duration": 719,
    "start_time": "2021-08-15T20:51:00.703Z"
   },
   {
    "duration": 23,
    "start_time": "2021-08-15T20:51:14.289Z"
   },
   {
    "duration": 23,
    "start_time": "2021-08-15T20:52:03.552Z"
   },
   {
    "duration": 22,
    "start_time": "2021-08-15T20:52:56.192Z"
   },
   {
    "duration": 22,
    "start_time": "2021-08-15T20:53:22.944Z"
   },
   {
    "duration": 21,
    "start_time": "2021-08-15T20:53:38.003Z"
   },
   {
    "duration": 25,
    "start_time": "2021-08-15T20:55:20.391Z"
   },
   {
    "duration": 25,
    "start_time": "2021-08-15T21:00:33.565Z"
   },
   {
    "duration": 22,
    "start_time": "2021-08-15T21:01:37.325Z"
   },
   {
    "duration": 24,
    "start_time": "2021-08-15T21:03:03.224Z"
   },
   {
    "duration": 21,
    "start_time": "2021-08-15T21:05:03.794Z"
   },
   {
    "duration": 306,
    "start_time": "2021-08-15T21:07:37.797Z"
   },
   {
    "duration": 3066,
    "start_time": "2021-08-15T21:09:26.868Z"
   },
   {
    "duration": 27,
    "start_time": "2021-08-15T21:09:58.907Z"
   },
   {
    "duration": 4,
    "start_time": "2021-08-15T21:12:55.619Z"
   },
   {
    "duration": 855,
    "start_time": "2021-08-15T21:13:40.822Z"
   },
   {
    "duration": 13,
    "start_time": "2021-08-15T21:13:41.680Z"
   },
   {
    "duration": 15,
    "start_time": "2021-08-15T21:13:41.696Z"
   },
   {
    "duration": 24,
    "start_time": "2021-08-15T21:13:41.761Z"
   },
   {
    "duration": 8,
    "start_time": "2021-08-15T21:13:41.787Z"
   },
   {
    "duration": 10,
    "start_time": "2021-08-15T21:13:41.798Z"
   },
   {
    "duration": 56,
    "start_time": "2021-08-15T21:13:41.811Z"
   },
   {
    "duration": 10,
    "start_time": "2021-08-15T21:13:41.870Z"
   },
   {
    "duration": 15,
    "start_time": "2021-08-15T21:13:41.883Z"
   },
   {
    "duration": 9,
    "start_time": "2021-08-15T21:13:41.901Z"
   },
   {
    "duration": 53,
    "start_time": "2021-08-15T21:13:41.912Z"
   },
   {
    "duration": 19,
    "start_time": "2021-08-15T21:13:41.967Z"
   },
   {
    "duration": 12,
    "start_time": "2021-08-15T21:13:41.989Z"
   },
   {
    "duration": 8,
    "start_time": "2021-08-15T21:13:42.004Z"
   },
   {
    "duration": 56,
    "start_time": "2021-08-15T21:13:42.014Z"
   },
   {
    "duration": 15,
    "start_time": "2021-08-15T21:13:42.073Z"
   },
   {
    "duration": 9,
    "start_time": "2021-08-15T21:13:42.091Z"
   },
   {
    "duration": 59,
    "start_time": "2021-08-15T21:13:42.102Z"
   },
   {
    "duration": 5,
    "start_time": "2021-08-15T21:13:42.164Z"
   },
   {
    "duration": 19,
    "start_time": "2021-08-15T21:13:42.172Z"
   },
   {
    "duration": 14,
    "start_time": "2021-08-15T21:13:42.193Z"
   },
   {
    "duration": 54,
    "start_time": "2021-08-15T21:13:42.210Z"
   },
   {
    "duration": 27,
    "start_time": "2021-08-15T21:13:42.270Z"
   },
   {
    "duration": 19,
    "start_time": "2021-08-15T21:13:42.301Z"
   },
   {
    "duration": 48,
    "start_time": "2021-08-15T21:13:42.323Z"
   },
   {
    "duration": 8,
    "start_time": "2021-08-15T21:13:42.373Z"
   },
   {
    "duration": 7,
    "start_time": "2021-08-15T21:13:42.384Z"
   },
   {
    "duration": 5,
    "start_time": "2021-08-15T21:13:42.393Z"
   },
   {
    "duration": 63,
    "start_time": "2021-08-15T21:13:42.401Z"
   },
   {
    "duration": 22,
    "start_time": "2021-08-15T21:13:42.466Z"
   },
   {
    "duration": 419,
    "start_time": "2021-08-15T21:13:42.491Z"
   },
   {
    "duration": 10,
    "start_time": "2021-08-15T21:13:42.912Z"
   },
   {
    "duration": 51,
    "start_time": "2021-08-15T21:13:42.926Z"
   },
   {
    "duration": 8,
    "start_time": "2021-08-15T21:13:42.979Z"
   },
   {
    "duration": 26,
    "start_time": "2021-08-15T21:13:42.989Z"
   },
   {
    "duration": 10,
    "start_time": "2021-08-15T21:13:43.017Z"
   },
   {
    "duration": 20,
    "start_time": "2021-08-15T21:13:43.063Z"
   },
   {
    "duration": 9,
    "start_time": "2021-08-15T21:13:43.086Z"
   },
   {
    "duration": 20,
    "start_time": "2021-08-15T21:13:43.097Z"
   },
   {
    "duration": 57,
    "start_time": "2021-08-15T21:13:43.120Z"
   },
   {
    "duration": 10,
    "start_time": "2021-08-15T21:13:43.180Z"
   },
   {
    "duration": 29,
    "start_time": "2021-08-15T21:13:43.192Z"
   },
   {
    "duration": 48,
    "start_time": "2021-08-15T21:13:43.224Z"
   },
   {
    "duration": 19,
    "start_time": "2021-08-15T21:13:43.275Z"
   },
   {
    "duration": 21,
    "start_time": "2021-08-15T21:13:43.297Z"
   },
   {
    "duration": 22,
    "start_time": "2021-08-15T21:13:43.363Z"
   },
   {
    "duration": 16,
    "start_time": "2021-08-15T21:13:43.388Z"
   },
   {
    "duration": 16,
    "start_time": "2021-08-15T21:13:43.406Z"
   },
   {
    "duration": 50,
    "start_time": "2021-08-15T21:13:43.424Z"
   },
   {
    "duration": 15,
    "start_time": "2021-08-15T21:13:43.477Z"
   },
   {
    "duration": 12,
    "start_time": "2021-08-15T21:13:43.494Z"
   },
   {
    "duration": 56,
    "start_time": "2021-08-15T21:13:43.508Z"
   },
   {
    "duration": 43,
    "start_time": "2021-08-15T21:13:43.566Z"
   },
   {
    "duration": 10,
    "start_time": "2021-08-15T21:13:43.612Z"
   },
   {
    "duration": 41,
    "start_time": "2021-08-15T21:13:43.625Z"
   },
   {
    "duration": 8,
    "start_time": "2021-08-15T21:13:43.669Z"
   },
   {
    "duration": 26,
    "start_time": "2021-08-15T21:13:43.679Z"
   },
   {
    "duration": 54,
    "start_time": "2021-08-15T21:13:43.708Z"
   },
   {
    "duration": 26,
    "start_time": "2021-08-15T21:13:43.765Z"
   },
   {
    "duration": 11,
    "start_time": "2021-08-15T21:13:43.794Z"
   },
   {
    "duration": 2039,
    "start_time": "2021-08-15T21:13:43.808Z"
   },
   {
    "duration": 18,
    "start_time": "2021-08-15T21:13:45.850Z"
   },
   {
    "duration": 7,
    "start_time": "2021-08-15T21:13:45.870Z"
   },
   {
    "duration": 3117,
    "start_time": "2021-08-15T21:13:45.880Z"
   },
   {
    "duration": 3065,
    "start_time": "2021-08-15T21:13:49.000Z"
   },
   {
    "duration": 8,
    "start_time": "2021-08-15T21:13:52.067Z"
   },
   {
    "duration": 16,
    "start_time": "2021-08-15T21:13:52.078Z"
   },
   {
    "duration": 22,
    "start_time": "2021-08-15T21:13:52.103Z"
   },
   {
    "duration": 11,
    "start_time": "2021-08-15T21:13:52.127Z"
   },
   {
    "duration": 22,
    "start_time": "2021-08-15T21:13:52.141Z"
   },
   {
    "duration": 13,
    "start_time": "2021-08-15T21:13:52.165Z"
   },
   {
    "duration": 3114,
    "start_time": "2021-08-15T21:13:52.181Z"
   },
   {
    "duration": 31,
    "start_time": "2021-08-15T21:13:55.298Z"
   },
   {
    "duration": 33,
    "start_time": "2021-08-15T21:13:55.333Z"
   },
   {
    "duration": 38,
    "start_time": "2021-08-15T21:13:55.370Z"
   },
   {
    "duration": 51,
    "start_time": "2021-08-15T21:13:55.411Z"
   },
   {
    "duration": 4,
    "start_time": "2021-08-15T21:13:55.465Z"
   },
   {
    "duration": 35,
    "start_time": "2021-08-15T21:13:55.471Z"
   },
   {
    "duration": 387,
    "start_time": "2021-08-15T21:13:55.508Z"
   },
   {
    "duration": -134,
    "start_time": "2021-08-15T21:13:56.031Z"
   },
   {
    "duration": -155,
    "start_time": "2021-08-15T21:13:56.054Z"
   },
   {
    "duration": -170,
    "start_time": "2021-08-15T21:13:56.070Z"
   },
   {
    "duration": -181,
    "start_time": "2021-08-15T21:13:56.082Z"
   },
   {
    "duration": -192,
    "start_time": "2021-08-15T21:13:56.094Z"
   },
   {
    "duration": 34,
    "start_time": "2021-08-15T21:15:50.052Z"
   },
   {
    "duration": 32,
    "start_time": "2021-08-15T21:15:55.300Z"
   },
   {
    "duration": 27,
    "start_time": "2021-08-15T21:15:56.148Z"
   },
   {
    "duration": 22,
    "start_time": "2021-08-15T21:15:59.897Z"
   },
   {
    "duration": 22,
    "start_time": "2021-08-15T21:16:07.374Z"
   },
   {
    "duration": 5,
    "start_time": "2021-08-15T21:17:12.353Z"
   },
   {
    "duration": 334,
    "start_time": "2021-08-15T21:18:00.700Z"
   },
   {
    "duration": 41,
    "start_time": "2021-08-15T21:18:10.405Z"
   },
   {
    "duration": 36,
    "start_time": "2021-08-15T21:19:34.411Z"
   },
   {
    "duration": 27,
    "start_time": "2021-08-15T21:20:02.307Z"
   },
   {
    "duration": 26,
    "start_time": "2021-08-15T21:21:21.965Z"
   },
   {
    "duration": 879,
    "start_time": "2021-08-15T21:22:34.454Z"
   },
   {
    "duration": 27,
    "start_time": "2021-08-15T21:22:35.336Z"
   },
   {
    "duration": 24,
    "start_time": "2021-08-15T21:22:35.366Z"
   },
   {
    "duration": 24,
    "start_time": "2021-08-15T21:22:35.392Z"
   },
   {
    "duration": 44,
    "start_time": "2021-08-15T21:22:35.419Z"
   },
   {
    "duration": 10,
    "start_time": "2021-08-15T21:22:35.465Z"
   },
   {
    "duration": 18,
    "start_time": "2021-08-15T21:22:35.477Z"
   },
   {
    "duration": 19,
    "start_time": "2021-08-15T21:22:35.499Z"
   },
   {
    "duration": 30,
    "start_time": "2021-08-15T21:22:35.521Z"
   },
   {
    "duration": 13,
    "start_time": "2021-08-15T21:22:35.553Z"
   },
   {
    "duration": 13,
    "start_time": "2021-08-15T21:22:35.569Z"
   },
   {
    "duration": 25,
    "start_time": "2021-08-15T21:22:35.584Z"
   },
   {
    "duration": 18,
    "start_time": "2021-08-15T21:22:35.611Z"
   },
   {
    "duration": 31,
    "start_time": "2021-08-15T21:22:35.632Z"
   },
   {
    "duration": 12,
    "start_time": "2021-08-15T21:22:35.667Z"
   },
   {
    "duration": 13,
    "start_time": "2021-08-15T21:22:35.682Z"
   },
   {
    "duration": 12,
    "start_time": "2021-08-15T21:22:35.697Z"
   },
   {
    "duration": 59,
    "start_time": "2021-08-15T21:22:35.711Z"
   },
   {
    "duration": 5,
    "start_time": "2021-08-15T21:22:35.772Z"
   },
   {
    "duration": 26,
    "start_time": "2021-08-15T21:22:35.779Z"
   },
   {
    "duration": 15,
    "start_time": "2021-08-15T21:22:35.808Z"
   },
   {
    "duration": 14,
    "start_time": "2021-08-15T21:22:35.825Z"
   },
   {
    "duration": 27,
    "start_time": "2021-08-15T21:22:35.864Z"
   },
   {
    "duration": 18,
    "start_time": "2021-08-15T21:22:35.894Z"
   },
   {
    "duration": 18,
    "start_time": "2021-08-15T21:22:35.915Z"
   },
   {
    "duration": 8,
    "start_time": "2021-08-15T21:22:35.963Z"
   },
   {
    "duration": 13,
    "start_time": "2021-08-15T21:22:35.973Z"
   },
   {
    "duration": 6,
    "start_time": "2021-08-15T21:22:35.988Z"
   },
   {
    "duration": 18,
    "start_time": "2021-08-15T21:22:35.996Z"
   },
   {
    "duration": 16,
    "start_time": "2021-08-15T21:22:36.016Z"
   },
   {
    "duration": 444,
    "start_time": "2021-08-15T21:22:36.062Z"
   },
   {
    "duration": 10,
    "start_time": "2021-08-15T21:22:36.510Z"
   },
   {
    "duration": 47,
    "start_time": "2021-08-15T21:22:36.522Z"
   },
   {
    "duration": 8,
    "start_time": "2021-08-15T21:22:36.572Z"
   },
   {
    "duration": 28,
    "start_time": "2021-08-15T21:22:36.582Z"
   },
   {
    "duration": 10,
    "start_time": "2021-08-15T21:22:36.612Z"
   },
   {
    "duration": 64,
    "start_time": "2021-08-15T21:22:36.625Z"
   },
   {
    "duration": 14,
    "start_time": "2021-08-15T21:22:36.692Z"
   },
   {
    "duration": 67,
    "start_time": "2021-08-15T21:22:36.709Z"
   },
   {
    "duration": 30,
    "start_time": "2021-08-15T21:22:36.780Z"
   },
   {
    "duration": 15,
    "start_time": "2021-08-15T21:22:36.813Z"
   },
   {
    "duration": 38,
    "start_time": "2021-08-15T21:22:36.863Z"
   },
   {
    "duration": 25,
    "start_time": "2021-08-15T21:22:36.905Z"
   },
   {
    "duration": 51,
    "start_time": "2021-08-15T21:22:36.933Z"
   },
   {
    "duration": 31,
    "start_time": "2021-08-15T21:22:36.987Z"
   },
   {
    "duration": 59,
    "start_time": "2021-08-15T21:22:37.021Z"
   },
   {
    "duration": 20,
    "start_time": "2021-08-15T21:22:37.083Z"
   },
   {
    "duration": 24,
    "start_time": "2021-08-15T21:22:37.106Z"
   },
   {
    "duration": 15,
    "start_time": "2021-08-15T21:22:37.163Z"
   },
   {
    "duration": 17,
    "start_time": "2021-08-15T21:22:37.182Z"
   },
   {
    "duration": 9,
    "start_time": "2021-08-15T21:22:37.202Z"
   },
   {
    "duration": 15,
    "start_time": "2021-08-15T21:22:37.262Z"
   },
   {
    "duration": 45,
    "start_time": "2021-08-15T21:22:37.280Z"
   },
   {
    "duration": 38,
    "start_time": "2021-08-15T21:22:37.328Z"
   },
   {
    "duration": 12,
    "start_time": "2021-08-15T21:22:37.369Z"
   },
   {
    "duration": 6,
    "start_time": "2021-08-15T21:22:37.385Z"
   },
   {
    "duration": 72,
    "start_time": "2021-08-15T21:22:37.394Z"
   },
   {
    "duration": 24,
    "start_time": "2021-08-15T21:22:37.469Z"
   },
   {
    "duration": 23,
    "start_time": "2021-08-15T21:22:37.496Z"
   },
   {
    "duration": 44,
    "start_time": "2021-08-15T21:22:37.522Z"
   },
   {
    "duration": 1955,
    "start_time": "2021-08-15T21:22:37.569Z"
   },
   {
    "duration": 12,
    "start_time": "2021-08-15T21:22:39.527Z"
   },
   {
    "duration": 26,
    "start_time": "2021-08-15T21:22:39.541Z"
   },
   {
    "duration": 3111,
    "start_time": "2021-08-15T21:22:39.570Z"
   },
   {
    "duration": 3061,
    "start_time": "2021-08-15T21:22:42.684Z"
   },
   {
    "duration": 17,
    "start_time": "2021-08-15T21:22:45.747Z"
   },
   {
    "duration": 6,
    "start_time": "2021-08-15T21:22:45.767Z"
   },
   {
    "duration": 8,
    "start_time": "2021-08-15T21:22:45.780Z"
   },
   {
    "duration": 8,
    "start_time": "2021-08-15T21:22:45.791Z"
   },
   {
    "duration": 10,
    "start_time": "2021-08-15T21:22:45.801Z"
   },
   {
    "duration": 53,
    "start_time": "2021-08-15T21:22:45.814Z"
   },
   {
    "duration": 3050,
    "start_time": "2021-08-15T21:22:45.870Z"
   },
   {
    "duration": 41,
    "start_time": "2021-08-15T21:22:48.922Z"
   },
   {
    "duration": 7,
    "start_time": "2021-08-15T21:22:48.966Z"
   },
   {
    "duration": 30,
    "start_time": "2021-08-15T21:22:48.975Z"
   },
   {
    "duration": 71,
    "start_time": "2021-08-15T21:22:49.008Z"
   },
   {
    "duration": 26,
    "start_time": "2021-08-15T21:22:49.082Z"
   },
   {
    "duration": 59,
    "start_time": "2021-08-15T21:22:49.112Z"
   },
   {
    "duration": 29,
    "start_time": "2021-08-15T21:22:49.174Z"
   },
   {
    "duration": 62,
    "start_time": "2021-08-15T21:22:49.206Z"
   },
   {
    "duration": 28,
    "start_time": "2021-08-15T21:22:49.272Z"
   },
   {
    "duration": 65,
    "start_time": "2021-08-15T21:22:49.303Z"
   },
   {
    "duration": 6,
    "start_time": "2021-08-15T21:22:49.372Z"
   },
   {
    "duration": 42,
    "start_time": "2021-08-15T21:22:49.381Z"
   },
   {
    "duration": 55,
    "start_time": "2021-08-15T21:22:49.426Z"
   },
   {
    "duration": 29,
    "start_time": "2021-08-15T21:22:49.483Z"
   },
   {
    "duration": 26,
    "start_time": "2021-08-15T21:26:32.233Z"
   },
   {
    "duration": 4,
    "start_time": "2021-08-15T21:27:36.085Z"
   },
   {
    "duration": 23,
    "start_time": "2021-08-15T21:27:42.528Z"
   },
   {
    "duration": 890,
    "start_time": "2021-08-15T21:30:15.736Z"
   },
   {
    "duration": 14,
    "start_time": "2021-08-15T21:30:16.628Z"
   },
   {
    "duration": 16,
    "start_time": "2021-08-15T21:30:16.662Z"
   },
   {
    "duration": 30,
    "start_time": "2021-08-15T21:30:16.681Z"
   },
   {
    "duration": 7,
    "start_time": "2021-08-15T21:30:16.714Z"
   },
   {
    "duration": 46,
    "start_time": "2021-08-15T21:30:16.724Z"
   },
   {
    "duration": 10,
    "start_time": "2021-08-15T21:30:16.772Z"
   },
   {
    "duration": 10,
    "start_time": "2021-08-15T21:30:16.786Z"
   },
   {
    "duration": 8,
    "start_time": "2021-08-15T21:30:16.799Z"
   },
   {
    "duration": 7,
    "start_time": "2021-08-15T21:30:16.810Z"
   },
   {
    "duration": 47,
    "start_time": "2021-08-15T21:30:16.819Z"
   },
   {
    "duration": 22,
    "start_time": "2021-08-15T21:30:16.869Z"
   },
   {
    "duration": 12,
    "start_time": "2021-08-15T21:30:16.893Z"
   },
   {
    "duration": 12,
    "start_time": "2021-08-15T21:30:16.908Z"
   },
   {
    "duration": 47,
    "start_time": "2021-08-15T21:30:16.922Z"
   },
   {
    "duration": 11,
    "start_time": "2021-08-15T21:30:16.971Z"
   },
   {
    "duration": 10,
    "start_time": "2021-08-15T21:30:16.985Z"
   },
   {
    "duration": 15,
    "start_time": "2021-08-15T21:30:16.998Z"
   },
   {
    "duration": 5,
    "start_time": "2021-08-15T21:30:17.015Z"
   },
   {
    "duration": 14,
    "start_time": "2021-08-15T21:30:17.063Z"
   },
   {
    "duration": 16,
    "start_time": "2021-08-15T21:30:17.079Z"
   },
   {
    "duration": 8,
    "start_time": "2021-08-15T21:30:17.098Z"
   },
   {
    "duration": 64,
    "start_time": "2021-08-15T21:30:17.113Z"
   },
   {
    "duration": 26,
    "start_time": "2021-08-15T21:30:17.182Z"
   },
   {
    "duration": 27,
    "start_time": "2021-08-15T21:30:17.211Z"
   },
   {
    "duration": 26,
    "start_time": "2021-08-15T21:30:17.241Z"
   },
   {
    "duration": 9,
    "start_time": "2021-08-15T21:30:17.270Z"
   },
   {
    "duration": 10,
    "start_time": "2021-08-15T21:30:17.281Z"
   },
   {
    "duration": 22,
    "start_time": "2021-08-15T21:30:17.293Z"
   },
   {
    "duration": 53,
    "start_time": "2021-08-15T21:30:17.319Z"
   },
   {
    "duration": 423,
    "start_time": "2021-08-15T21:30:17.375Z"
   },
   {
    "duration": 9,
    "start_time": "2021-08-15T21:30:17.801Z"
   },
   {
    "duration": 49,
    "start_time": "2021-08-15T21:30:17.812Z"
   },
   {
    "duration": 9,
    "start_time": "2021-08-15T21:30:17.864Z"
   },
   {
    "duration": 26,
    "start_time": "2021-08-15T21:30:17.876Z"
   },
   {
    "duration": 10,
    "start_time": "2021-08-15T21:30:17.904Z"
   },
   {
    "duration": 60,
    "start_time": "2021-08-15T21:30:17.916Z"
   },
   {
    "duration": 10,
    "start_time": "2021-08-15T21:30:17.978Z"
   },
   {
    "duration": 21,
    "start_time": "2021-08-15T21:30:17.990Z"
   },
   {
    "duration": 53,
    "start_time": "2021-08-15T21:30:18.013Z"
   },
   {
    "duration": 9,
    "start_time": "2021-08-15T21:30:18.069Z"
   },
   {
    "duration": 38,
    "start_time": "2021-08-15T21:30:18.081Z"
   },
   {
    "duration": 54,
    "start_time": "2021-08-15T21:30:18.122Z"
   },
   {
    "duration": 27,
    "start_time": "2021-08-15T21:30:18.179Z"
   },
   {
    "duration": 59,
    "start_time": "2021-08-15T21:30:18.208Z"
   },
   {
    "duration": 25,
    "start_time": "2021-08-15T21:30:18.270Z"
   },
   {
    "duration": 16,
    "start_time": "2021-08-15T21:30:18.297Z"
   },
   {
    "duration": 49,
    "start_time": "2021-08-15T21:30:18.316Z"
   },
   {
    "duration": 12,
    "start_time": "2021-08-15T21:30:18.368Z"
   },
   {
    "duration": 15,
    "start_time": "2021-08-15T21:30:18.383Z"
   },
   {
    "duration": 8,
    "start_time": "2021-08-15T21:30:18.401Z"
   },
   {
    "duration": 52,
    "start_time": "2021-08-15T21:30:18.412Z"
   },
   {
    "duration": 44,
    "start_time": "2021-08-15T21:30:18.467Z"
   },
   {
    "duration": 10,
    "start_time": "2021-08-15T21:30:18.514Z"
   },
   {
    "duration": 37,
    "start_time": "2021-08-15T21:30:18.526Z"
   },
   {
    "duration": 7,
    "start_time": "2021-08-15T21:30:18.566Z"
   },
   {
    "duration": 24,
    "start_time": "2021-08-15T21:30:18.575Z"
   },
   {
    "duration": 22,
    "start_time": "2021-08-15T21:30:18.602Z"
   },
   {
    "duration": 57,
    "start_time": "2021-08-15T21:30:18.626Z"
   },
   {
    "duration": 10,
    "start_time": "2021-08-15T21:30:18.685Z"
   },
   {
    "duration": 1959,
    "start_time": "2021-08-15T21:30:18.698Z"
   },
   {
    "duration": 10,
    "start_time": "2021-08-15T21:30:20.662Z"
   },
   {
    "duration": 10,
    "start_time": "2021-08-15T21:30:20.675Z"
   },
   {
    "duration": 3142,
    "start_time": "2021-08-15T21:30:20.688Z"
   },
   {
    "duration": 411,
    "start_time": "2021-08-15T21:30:23.832Z"
   },
   {
    "duration": 17,
    "start_time": "2021-08-15T21:30:24.245Z"
   },
   {
    "duration": 16,
    "start_time": "2021-08-15T21:30:24.265Z"
   },
   {
    "duration": 10,
    "start_time": "2021-08-15T21:30:24.288Z"
   },
   {
    "duration": 14,
    "start_time": "2021-08-15T21:30:24.301Z"
   },
   {
    "duration": 14,
    "start_time": "2021-08-15T21:30:24.318Z"
   },
   {
    "duration": 29,
    "start_time": "2021-08-15T21:30:24.335Z"
   },
   {
    "duration": 3056,
    "start_time": "2021-08-15T21:30:24.367Z"
   },
   {
    "duration": 45,
    "start_time": "2021-08-15T21:30:27.426Z"
   },
   {
    "duration": 10,
    "start_time": "2021-08-15T21:30:27.474Z"
   },
   {
    "duration": 36,
    "start_time": "2021-08-15T21:30:27.486Z"
   },
   {
    "duration": 59,
    "start_time": "2021-08-15T21:30:27.524Z"
   },
   {
    "duration": 4,
    "start_time": "2021-08-15T21:30:27.586Z"
   },
   {
    "duration": 27,
    "start_time": "2021-08-15T21:30:27.592Z"
   },
   {
    "duration": 49,
    "start_time": "2021-08-15T21:30:27.621Z"
   },
   {
    "duration": 27,
    "start_time": "2021-08-15T21:30:27.673Z"
   },
   {
    "duration": 23,
    "start_time": "2021-08-15T21:30:27.702Z"
   },
   {
    "duration": 28,
    "start_time": "2021-08-15T21:30:27.762Z"
   },
   {
    "duration": 21,
    "start_time": "2021-08-15T21:30:27.793Z"
   },
   {
    "duration": 58,
    "start_time": "2021-08-15T21:30:27.817Z"
   },
   {
    "duration": 24,
    "start_time": "2021-08-15T21:30:27.877Z"
   },
   {
    "duration": 69,
    "start_time": "2021-08-15T21:30:27.903Z"
   },
   {
    "duration": 24,
    "start_time": "2021-08-15T21:31:33.741Z"
   },
   {
    "duration": 3079,
    "start_time": "2021-08-15T21:33:39.630Z"
   },
   {
    "duration": 394,
    "start_time": "2021-08-15T21:34:44.690Z"
   },
   {
    "duration": 11,
    "start_time": "2021-08-15T21:42:54.596Z"
   },
   {
    "duration": 6906,
    "start_time": "2021-08-15T21:43:20.468Z"
   },
   {
    "duration": 10,
    "start_time": "2021-08-15T21:45:04.651Z"
   },
   {
    "duration": 22,
    "start_time": "2021-08-15T21:45:32.874Z"
   },
   {
    "duration": 11,
    "start_time": "2021-08-15T21:45:34.711Z"
   },
   {
    "duration": 10,
    "start_time": "2021-08-15T21:48:41.835Z"
   },
   {
    "duration": 16,
    "start_time": "2021-08-15T21:50:40.751Z"
   },
   {
    "duration": 11,
    "start_time": "2021-08-15T21:50:46.253Z"
   },
   {
    "duration": 25,
    "start_time": "2021-08-15T21:50:57.766Z"
   },
   {
    "duration": 861,
    "start_time": "2021-08-15T21:53:37.744Z"
   },
   {
    "duration": 16,
    "start_time": "2021-08-15T21:53:38.608Z"
   },
   {
    "duration": 36,
    "start_time": "2021-08-15T21:53:38.627Z"
   },
   {
    "duration": 22,
    "start_time": "2021-08-15T21:53:38.666Z"
   },
   {
    "duration": 8,
    "start_time": "2021-08-15T21:53:38.691Z"
   },
   {
    "duration": 10,
    "start_time": "2021-08-15T21:53:38.702Z"
   },
   {
    "duration": 51,
    "start_time": "2021-08-15T21:53:38.715Z"
   },
   {
    "duration": 10,
    "start_time": "2021-08-15T21:53:38.771Z"
   },
   {
    "duration": 8,
    "start_time": "2021-08-15T21:53:38.786Z"
   },
   {
    "duration": 8,
    "start_time": "2021-08-15T21:53:38.798Z"
   },
   {
    "duration": 56,
    "start_time": "2021-08-15T21:53:38.809Z"
   },
   {
    "duration": 27,
    "start_time": "2021-08-15T21:53:38.869Z"
   },
   {
    "duration": 14,
    "start_time": "2021-08-15T21:53:38.898Z"
   },
   {
    "duration": 21,
    "start_time": "2021-08-15T21:53:38.915Z"
   },
   {
    "duration": 13,
    "start_time": "2021-08-15T21:53:38.963Z"
   },
   {
    "duration": 20,
    "start_time": "2021-08-15T21:53:38.979Z"
   },
   {
    "duration": 17,
    "start_time": "2021-08-15T21:53:39.002Z"
   },
   {
    "duration": 40,
    "start_time": "2021-08-15T21:53:39.022Z"
   },
   {
    "duration": 7,
    "start_time": "2021-08-15T21:53:39.064Z"
   },
   {
    "duration": 24,
    "start_time": "2021-08-15T21:53:39.073Z"
   },
   {
    "duration": 18,
    "start_time": "2021-08-15T21:53:39.100Z"
   },
   {
    "duration": 24,
    "start_time": "2021-08-15T21:53:39.121Z"
   },
   {
    "duration": 25,
    "start_time": "2021-08-15T21:53:39.167Z"
   },
   {
    "duration": 25,
    "start_time": "2021-08-15T21:53:39.197Z"
   },
   {
    "duration": 41,
    "start_time": "2021-08-15T21:53:39.224Z"
   },
   {
    "duration": 8,
    "start_time": "2021-08-15T21:53:39.268Z"
   },
   {
    "duration": 7,
    "start_time": "2021-08-15T21:53:39.278Z"
   },
   {
    "duration": 6,
    "start_time": "2021-08-15T21:53:39.288Z"
   },
   {
    "duration": 9,
    "start_time": "2021-08-15T21:53:39.296Z"
   },
   {
    "duration": 6167,
    "start_time": "2021-08-15T21:53:39.307Z"
   },
   {
    "duration": -353,
    "start_time": "2021-08-15T21:53:45.831Z"
   },
   {
    "duration": -364,
    "start_time": "2021-08-15T21:53:45.844Z"
   },
   {
    "duration": -382,
    "start_time": "2021-08-15T21:53:45.863Z"
   },
   {
    "duration": -396,
    "start_time": "2021-08-15T21:53:45.878Z"
   },
   {
    "duration": -404,
    "start_time": "2021-08-15T21:53:45.887Z"
   },
   {
    "duration": -419,
    "start_time": "2021-08-15T21:53:45.903Z"
   },
   {
    "duration": -432,
    "start_time": "2021-08-15T21:53:45.918Z"
   },
   {
    "duration": -446,
    "start_time": "2021-08-15T21:53:45.933Z"
   },
   {
    "duration": -461,
    "start_time": "2021-08-15T21:53:45.949Z"
   },
   {
    "duration": -475,
    "start_time": "2021-08-15T21:53:45.964Z"
   },
   {
    "duration": -488,
    "start_time": "2021-08-15T21:53:45.978Z"
   },
   {
    "duration": -507,
    "start_time": "2021-08-15T21:53:45.999Z"
   },
   {
    "duration": -521,
    "start_time": "2021-08-15T21:53:46.014Z"
   },
   {
    "duration": -534,
    "start_time": "2021-08-15T21:53:46.028Z"
   },
   {
    "duration": -542,
    "start_time": "2021-08-15T21:53:46.037Z"
   },
   {
    "duration": -555,
    "start_time": "2021-08-15T21:53:46.051Z"
   },
   {
    "duration": -568,
    "start_time": "2021-08-15T21:53:46.065Z"
   },
   {
    "duration": -580,
    "start_time": "2021-08-15T21:53:46.078Z"
   },
   {
    "duration": -638,
    "start_time": "2021-08-15T21:53:46.138Z"
   },
   {
    "duration": -653,
    "start_time": "2021-08-15T21:53:46.154Z"
   },
   {
    "duration": -668,
    "start_time": "2021-08-15T21:53:46.170Z"
   },
   {
    "duration": -679,
    "start_time": "2021-08-15T21:53:46.183Z"
   },
   {
    "duration": -694,
    "start_time": "2021-08-15T21:53:46.199Z"
   },
   {
    "duration": -707,
    "start_time": "2021-08-15T21:53:46.213Z"
   },
   {
    "duration": -721,
    "start_time": "2021-08-15T21:53:46.228Z"
   },
   {
    "duration": -730,
    "start_time": "2021-08-15T21:53:46.238Z"
   },
   {
    "duration": -742,
    "start_time": "2021-08-15T21:53:46.252Z"
   },
   {
    "duration": -755,
    "start_time": "2021-08-15T21:53:46.266Z"
   },
   {
    "duration": -768,
    "start_time": "2021-08-15T21:53:46.280Z"
   },
   {
    "duration": -782,
    "start_time": "2021-08-15T21:53:46.295Z"
   },
   {
    "duration": -790,
    "start_time": "2021-08-15T21:53:46.304Z"
   },
   {
    "duration": -757,
    "start_time": "2021-08-15T21:53:46.319Z"
   },
   {
    "duration": -770,
    "start_time": "2021-08-15T21:53:46.334Z"
   },
   {
    "duration": -784,
    "start_time": "2021-08-15T21:53:46.349Z"
   },
   {
    "duration": -796,
    "start_time": "2021-08-15T21:53:46.362Z"
   },
   {
    "duration": -804,
    "start_time": "2021-08-15T21:53:46.371Z"
   },
   {
    "duration": -814,
    "start_time": "2021-08-15T21:53:46.383Z"
   },
   {
    "duration": -825,
    "start_time": "2021-08-15T21:53:46.395Z"
   },
   {
    "duration": -832,
    "start_time": "2021-08-15T21:53:46.403Z"
   },
   {
    "duration": -844,
    "start_time": "2021-08-15T21:53:46.416Z"
   },
   {
    "duration": -854,
    "start_time": "2021-08-15T21:53:46.428Z"
   },
   {
    "duration": -861,
    "start_time": "2021-08-15T21:53:46.436Z"
   },
   {
    "duration": -872,
    "start_time": "2021-08-15T21:53:46.448Z"
   },
   {
    "duration": -878,
    "start_time": "2021-08-15T21:53:46.455Z"
   },
   {
    "duration": -889,
    "start_time": "2021-08-15T21:53:46.467Z"
   },
   {
    "duration": -900,
    "start_time": "2021-08-15T21:53:46.479Z"
   },
   {
    "duration": -906,
    "start_time": "2021-08-15T21:53:46.487Z"
   },
   {
    "duration": -917,
    "start_time": "2021-08-15T21:53:46.499Z"
   },
   {
    "duration": -928,
    "start_time": "2021-08-15T21:53:46.512Z"
   },
   {
    "duration": -935,
    "start_time": "2021-08-15T21:53:46.520Z"
   },
   {
    "duration": -946,
    "start_time": "2021-08-15T21:53:46.532Z"
   },
   {
    "duration": -956,
    "start_time": "2021-08-15T21:53:46.544Z"
   },
   {
    "duration": -963,
    "start_time": "2021-08-15T21:53:46.552Z"
   },
   {
    "duration": -974,
    "start_time": "2021-08-15T21:53:46.564Z"
   },
   {
    "duration": -979,
    "start_time": "2021-08-15T21:53:46.571Z"
   },
   {
    "duration": -990,
    "start_time": "2021-08-15T21:53:46.583Z"
   },
   {
    "duration": -1002,
    "start_time": "2021-08-15T21:53:46.596Z"
   },
   {
    "duration": -1010,
    "start_time": "2021-08-15T21:53:46.605Z"
   },
   {
    "duration": -1020,
    "start_time": "2021-08-15T21:53:46.617Z"
   },
   {
    "duration": -1031,
    "start_time": "2021-08-15T21:53:46.629Z"
   },
   {
    "duration": 382,
    "start_time": "2021-08-15T21:55:14.687Z"
   },
   {
    "duration": 7206,
    "start_time": "2021-08-15T21:55:44.815Z"
   },
   {
    "duration": 14,
    "start_time": "2021-08-15T21:56:17.197Z"
   },
   {
    "duration": 381,
    "start_time": "2021-08-15T21:58:25.826Z"
   },
   {
    "duration": 17,
    "start_time": "2021-08-15T21:58:46.822Z"
   },
   {
    "duration": 29,
    "start_time": "2021-08-15T21:59:24.388Z"
   },
   {
    "duration": 13,
    "start_time": "2021-08-15T21:59:29.506Z"
   },
   {
    "duration": 26,
    "start_time": "2021-08-15T21:59:49.960Z"
   },
   {
    "duration": 23,
    "start_time": "2021-08-15T21:59:55.709Z"
   },
   {
    "duration": 23,
    "start_time": "2021-08-15T22:00:00.226Z"
   },
   {
    "duration": 16,
    "start_time": "2021-08-15T22:00:10.627Z"
   },
   {
    "duration": 19,
    "start_time": "2021-08-15T22:00:25.862Z"
   },
   {
    "duration": 9,
    "start_time": "2021-08-15T22:00:57.884Z"
   },
   {
    "duration": 12,
    "start_time": "2021-08-15T22:01:07.096Z"
   },
   {
    "duration": 15,
    "start_time": "2021-08-15T22:01:19.028Z"
   },
   {
    "duration": 878,
    "start_time": "2021-08-15T22:01:31.359Z"
   },
   {
    "duration": 23,
    "start_time": "2021-08-15T22:01:32.240Z"
   },
   {
    "duration": 17,
    "start_time": "2021-08-15T22:01:32.267Z"
   },
   {
    "duration": 26,
    "start_time": "2021-08-15T22:01:32.287Z"
   },
   {
    "duration": 46,
    "start_time": "2021-08-15T22:01:32.316Z"
   },
   {
    "duration": 10,
    "start_time": "2021-08-15T22:01:32.364Z"
   },
   {
    "duration": 27,
    "start_time": "2021-08-15T22:01:32.376Z"
   },
   {
    "duration": 13,
    "start_time": "2021-08-15T22:01:32.407Z"
   },
   {
    "duration": 41,
    "start_time": "2021-08-15T22:01:32.423Z"
   },
   {
    "duration": 16,
    "start_time": "2021-08-15T22:01:32.467Z"
   },
   {
    "duration": 18,
    "start_time": "2021-08-15T22:01:32.485Z"
   },
   {
    "duration": 19,
    "start_time": "2021-08-15T22:01:32.506Z"
   },
   {
    "duration": 39,
    "start_time": "2021-08-15T22:01:32.528Z"
   },
   {
    "duration": 15,
    "start_time": "2021-08-15T22:01:32.569Z"
   },
   {
    "duration": 9,
    "start_time": "2021-08-15T22:01:32.587Z"
   },
   {
    "duration": 17,
    "start_time": "2021-08-15T22:01:32.599Z"
   },
   {
    "duration": 10,
    "start_time": "2021-08-15T22:01:32.619Z"
   },
   {
    "duration": 41,
    "start_time": "2021-08-15T22:01:32.631Z"
   },
   {
    "duration": 4,
    "start_time": "2021-08-15T22:01:32.675Z"
   },
   {
    "duration": 17,
    "start_time": "2021-08-15T22:01:32.681Z"
   },
   {
    "duration": 15,
    "start_time": "2021-08-15T22:01:32.700Z"
   },
   {
    "duration": 45,
    "start_time": "2021-08-15T22:01:32.717Z"
   },
   {
    "duration": 399,
    "start_time": "2021-08-15T22:01:32.768Z"
   },
   {
    "duration": 16,
    "start_time": "2021-08-15T22:01:33.171Z"
   },
   {
    "duration": 21,
    "start_time": "2021-08-15T22:01:33.189Z"
   },
   {
    "duration": 7,
    "start_time": "2021-08-15T22:01:33.213Z"
   },
   {
    "duration": 40,
    "start_time": "2021-08-15T22:01:33.222Z"
   },
   {
    "duration": 6,
    "start_time": "2021-08-15T22:01:33.264Z"
   },
   {
    "duration": 10,
    "start_time": "2021-08-15T22:01:33.272Z"
   },
   {
    "duration": 419,
    "start_time": "2021-08-15T22:01:33.284Z"
   },
   {
    "duration": 12,
    "start_time": "2021-08-15T22:01:33.705Z"
   },
   {
    "duration": 401,
    "start_time": "2021-08-15T22:01:33.719Z"
   },
   {
    "duration": 10,
    "start_time": "2021-08-15T22:01:34.122Z"
   },
   {
    "duration": 44,
    "start_time": "2021-08-15T22:01:34.134Z"
   },
   {
    "duration": 8,
    "start_time": "2021-08-15T22:01:34.181Z"
   },
   {
    "duration": 30,
    "start_time": "2021-08-15T22:01:34.191Z"
   },
   {
    "duration": 9,
    "start_time": "2021-08-15T22:01:34.223Z"
   },
   {
    "duration": 46,
    "start_time": "2021-08-15T22:01:34.234Z"
   },
   {
    "duration": 9,
    "start_time": "2021-08-15T22:01:34.282Z"
   },
   {
    "duration": 21,
    "start_time": "2021-08-15T22:01:34.293Z"
   },
   {
    "duration": 59,
    "start_time": "2021-08-15T22:01:34.316Z"
   },
   {
    "duration": 10,
    "start_time": "2021-08-15T22:01:34.377Z"
   },
   {
    "duration": 28,
    "start_time": "2021-08-15T22:01:34.390Z"
   },
   {
    "duration": 20,
    "start_time": "2021-08-15T22:01:34.461Z"
   },
   {
    "duration": 11,
    "start_time": "2021-08-15T22:01:34.484Z"
   },
   {
    "duration": 23,
    "start_time": "2021-08-15T22:01:34.498Z"
   },
   {
    "duration": 60,
    "start_time": "2021-08-15T22:01:34.524Z"
   },
   {
    "duration": 21,
    "start_time": "2021-08-15T22:01:34.587Z"
   },
   {
    "duration": 51,
    "start_time": "2021-08-15T22:01:34.611Z"
   },
   {
    "duration": 17,
    "start_time": "2021-08-15T22:01:34.665Z"
   },
   {
    "duration": 10,
    "start_time": "2021-08-15T22:01:34.685Z"
   },
   {
    "duration": 17,
    "start_time": "2021-08-15T22:01:34.697Z"
   },
   {
    "duration": 57,
    "start_time": "2021-08-15T22:01:34.717Z"
   },
   {
    "duration": 9,
    "start_time": "2021-08-15T22:01:34.777Z"
   },
   {
    "duration": 12,
    "start_time": "2021-08-15T22:01:34.789Z"
   },
   {
    "duration": 76,
    "start_time": "2021-08-15T22:01:34.804Z"
   },
   {
    "duration": 14,
    "start_time": "2021-08-15T22:01:34.882Z"
   },
   {
    "duration": 12,
    "start_time": "2021-08-15T22:01:34.899Z"
   },
   {
    "duration": 6,
    "start_time": "2021-08-15T22:01:34.915Z"
   },
   {
    "duration": 65,
    "start_time": "2021-08-15T22:01:34.923Z"
   },
   {
    "duration": 34,
    "start_time": "2021-08-15T22:01:34.991Z"
   },
   {
    "duration": 59,
    "start_time": "2021-08-15T22:01:35.028Z"
   },
   {
    "duration": 16,
    "start_time": "2021-08-15T22:01:35.090Z"
   },
   {
    "duration": 2036,
    "start_time": "2021-08-15T22:01:35.109Z"
   },
   {
    "duration": 16,
    "start_time": "2021-08-15T22:01:37.148Z"
   },
   {
    "duration": 14,
    "start_time": "2021-08-15T22:01:37.166Z"
   },
   {
    "duration": 5228,
    "start_time": "2021-08-15T22:01:37.182Z"
   },
   {
    "duration": 414,
    "start_time": "2021-08-15T22:01:42.418Z"
   },
   {
    "duration": 8,
    "start_time": "2021-08-15T22:01:42.835Z"
   },
   {
    "duration": 18,
    "start_time": "2021-08-15T22:01:42.846Z"
   },
   {
    "duration": 11,
    "start_time": "2021-08-15T22:01:42.866Z"
   },
   {
    "duration": 14,
    "start_time": "2021-08-15T22:01:42.880Z"
   },
   {
    "duration": 15,
    "start_time": "2021-08-15T22:01:42.896Z"
   },
   {
    "duration": 11,
    "start_time": "2021-08-15T22:01:42.914Z"
   },
   {
    "duration": 2941,
    "start_time": "2021-08-15T22:01:42.927Z"
   },
   {
    "duration": 29,
    "start_time": "2021-08-15T22:01:45.870Z"
   },
   {
    "duration": 37,
    "start_time": "2021-08-15T22:01:45.901Z"
   },
   {
    "duration": 39,
    "start_time": "2021-08-15T22:01:45.940Z"
   },
   {
    "duration": 29,
    "start_time": "2021-08-15T22:01:45.981Z"
   },
   {
    "duration": 4,
    "start_time": "2021-08-15T22:01:46.013Z"
   },
   {
    "duration": 64,
    "start_time": "2021-08-15T22:01:46.019Z"
   },
   {
    "duration": 21,
    "start_time": "2021-08-15T22:01:46.085Z"
   },
   {
    "duration": 57,
    "start_time": "2021-08-15T22:01:46.109Z"
   },
   {
    "duration": 22,
    "start_time": "2021-08-15T22:01:46.169Z"
   },
   {
    "duration": 28,
    "start_time": "2021-08-15T22:01:46.193Z"
   },
   {
    "duration": 21,
    "start_time": "2021-08-15T22:01:46.263Z"
   },
   {
    "duration": 26,
    "start_time": "2021-08-15T22:01:46.286Z"
   },
   {
    "duration": 64,
    "start_time": "2021-08-15T22:01:46.315Z"
   },
   {
    "duration": 27,
    "start_time": "2021-08-15T22:01:46.381Z"
   },
   {
    "duration": 17,
    "start_time": "2021-08-15T22:09:22.292Z"
   },
   {
    "duration": 17,
    "start_time": "2021-08-15T22:09:47.593Z"
   },
   {
    "duration": 906,
    "start_time": "2021-08-15T22:10:01.520Z"
   },
   {
    "duration": 32,
    "start_time": "2021-08-15T22:10:02.430Z"
   },
   {
    "duration": 19,
    "start_time": "2021-08-15T22:10:02.466Z"
   },
   {
    "duration": 24,
    "start_time": "2021-08-15T22:10:02.488Z"
   },
   {
    "duration": 48,
    "start_time": "2021-08-15T22:10:02.515Z"
   },
   {
    "duration": 11,
    "start_time": "2021-08-15T22:10:02.566Z"
   },
   {
    "duration": 12,
    "start_time": "2021-08-15T22:10:02.579Z"
   },
   {
    "duration": 9,
    "start_time": "2021-08-15T22:10:02.595Z"
   },
   {
    "duration": 57,
    "start_time": "2021-08-15T22:10:02.607Z"
   },
   {
    "duration": 10,
    "start_time": "2021-08-15T22:10:02.666Z"
   },
   {
    "duration": 14,
    "start_time": "2021-08-15T22:10:02.678Z"
   },
   {
    "duration": 42,
    "start_time": "2021-08-15T22:10:02.694Z"
   },
   {
    "duration": 27,
    "start_time": "2021-08-15T22:10:02.738Z"
   },
   {
    "duration": 11,
    "start_time": "2021-08-15T22:10:02.768Z"
   },
   {
    "duration": 13,
    "start_time": "2021-08-15T22:10:02.782Z"
   },
   {
    "duration": 25,
    "start_time": "2021-08-15T22:10:02.797Z"
   },
   {
    "duration": 39,
    "start_time": "2021-08-15T22:10:02.824Z"
   },
   {
    "duration": 14,
    "start_time": "2021-08-15T22:10:02.866Z"
   },
   {
    "duration": 8,
    "start_time": "2021-08-15T22:10:02.882Z"
   },
   {
    "duration": 29,
    "start_time": "2021-08-15T22:10:02.893Z"
   },
   {
    "duration": 48,
    "start_time": "2021-08-15T22:10:02.924Z"
   },
   {
    "duration": 6,
    "start_time": "2021-08-15T22:10:02.974Z"
   },
   {
    "duration": 420,
    "start_time": "2021-08-15T22:10:02.986Z"
   },
   {
    "duration": 17,
    "start_time": "2021-08-15T22:10:03.410Z"
   },
   {
    "duration": 38,
    "start_time": "2021-08-15T22:10:03.429Z"
   },
   {
    "duration": 7,
    "start_time": "2021-08-15T22:10:03.469Z"
   },
   {
    "duration": 21,
    "start_time": "2021-08-15T22:10:03.479Z"
   },
   {
    "duration": 5,
    "start_time": "2021-08-15T22:10:03.502Z"
   },
   {
    "duration": 16,
    "start_time": "2021-08-15T22:10:03.509Z"
   },
   {
    "duration": 399,
    "start_time": "2021-08-15T22:10:03.563Z"
   },
   {
    "duration": 12,
    "start_time": "2021-08-15T22:10:03.964Z"
   },
   {
    "duration": 413,
    "start_time": "2021-08-15T22:10:03.978Z"
   },
   {
    "duration": 9,
    "start_time": "2021-08-15T22:10:04.394Z"
   },
   {
    "duration": 33,
    "start_time": "2021-08-15T22:10:04.405Z"
   },
   {
    "duration": 8,
    "start_time": "2021-08-15T22:10:04.462Z"
   },
   {
    "duration": 36,
    "start_time": "2021-08-15T22:10:04.473Z"
   },
   {
    "duration": 9,
    "start_time": "2021-08-15T22:10:04.511Z"
   },
   {
    "duration": 58,
    "start_time": "2021-08-15T22:10:04.522Z"
   },
   {
    "duration": 11,
    "start_time": "2021-08-15T22:10:04.583Z"
   },
   {
    "duration": 22,
    "start_time": "2021-08-15T22:10:04.596Z"
   },
   {
    "duration": 52,
    "start_time": "2021-08-15T22:10:04.621Z"
   },
   {
    "duration": 9,
    "start_time": "2021-08-15T22:10:04.675Z"
   },
   {
    "duration": 28,
    "start_time": "2021-08-15T22:10:04.686Z"
   },
   {
    "duration": 49,
    "start_time": "2021-08-15T22:10:04.716Z"
   },
   {
    "duration": 9,
    "start_time": "2021-08-15T22:10:04.768Z"
   },
   {
    "duration": 28,
    "start_time": "2021-08-15T22:10:04.779Z"
   },
   {
    "duration": 30,
    "start_time": "2021-08-15T22:10:04.809Z"
   },
   {
    "duration": 20,
    "start_time": "2021-08-15T22:10:04.862Z"
   },
   {
    "duration": 18,
    "start_time": "2021-08-15T22:10:04.885Z"
   },
   {
    "duration": 24,
    "start_time": "2021-08-15T22:10:04.905Z"
   },
   {
    "duration": 36,
    "start_time": "2021-08-15T22:10:04.931Z"
   },
   {
    "duration": 22,
    "start_time": "2021-08-15T22:10:04.969Z"
   },
   {
    "duration": 24,
    "start_time": "2021-08-15T22:10:04.993Z"
   },
   {
    "duration": 10,
    "start_time": "2021-08-15T22:10:05.019Z"
   },
   {
    "duration": 34,
    "start_time": "2021-08-15T22:10:05.031Z"
   },
   {
    "duration": 55,
    "start_time": "2021-08-15T22:10:05.067Z"
   },
   {
    "duration": 9,
    "start_time": "2021-08-15T22:10:05.124Z"
   },
   {
    "duration": 30,
    "start_time": "2021-08-15T22:10:05.135Z"
   },
   {
    "duration": 9,
    "start_time": "2021-08-15T22:10:05.167Z"
   },
   {
    "duration": 34,
    "start_time": "2021-08-15T22:10:05.178Z"
   },
   {
    "duration": 24,
    "start_time": "2021-08-15T22:10:05.215Z"
   },
   {
    "duration": 43,
    "start_time": "2021-08-15T22:10:05.242Z"
   },
   {
    "duration": 12,
    "start_time": "2021-08-15T22:10:05.288Z"
   },
   {
    "duration": 1948,
    "start_time": "2021-08-15T22:10:05.302Z"
   },
   {
    "duration": 15,
    "start_time": "2021-08-15T22:10:07.252Z"
   },
   {
    "duration": 20,
    "start_time": "2021-08-15T22:10:07.270Z"
   },
   {
    "duration": 3109,
    "start_time": "2021-08-15T22:10:07.292Z"
   },
   {
    "duration": 399,
    "start_time": "2021-08-15T22:10:10.409Z"
   },
   {
    "duration": 8,
    "start_time": "2021-08-15T22:10:10.811Z"
   },
   {
    "duration": 8,
    "start_time": "2021-08-15T22:10:10.821Z"
   },
   {
    "duration": 32,
    "start_time": "2021-08-15T22:10:10.831Z"
   },
   {
    "duration": 10,
    "start_time": "2021-08-15T22:10:10.865Z"
   },
   {
    "duration": 10,
    "start_time": "2021-08-15T22:10:10.877Z"
   },
   {
    "duration": 14,
    "start_time": "2021-08-15T22:10:10.890Z"
   },
   {
    "duration": 3057,
    "start_time": "2021-08-15T22:10:10.906Z"
   },
   {
    "duration": 31,
    "start_time": "2021-08-15T22:10:13.966Z"
   },
   {
    "duration": 12,
    "start_time": "2021-08-15T22:10:14.000Z"
   },
   {
    "duration": 60,
    "start_time": "2021-08-15T22:10:14.014Z"
   },
   {
    "duration": 33,
    "start_time": "2021-08-15T22:10:14.077Z"
   },
   {
    "duration": 4,
    "start_time": "2021-08-15T22:10:14.112Z"
   },
   {
    "duration": 51,
    "start_time": "2021-08-15T22:10:14.118Z"
   },
   {
    "duration": 22,
    "start_time": "2021-08-15T22:10:14.171Z"
   },
   {
    "duration": 24,
    "start_time": "2021-08-15T22:10:14.196Z"
   },
   {
    "duration": 58,
    "start_time": "2021-08-15T22:10:14.223Z"
   },
   {
    "duration": 35,
    "start_time": "2021-08-15T22:10:14.284Z"
   },
   {
    "duration": 65,
    "start_time": "2021-08-15T22:10:14.322Z"
   },
   {
    "duration": 27,
    "start_time": "2021-08-15T22:10:14.389Z"
   },
   {
    "duration": 56,
    "start_time": "2021-08-15T22:10:14.418Z"
   },
   {
    "duration": 25,
    "start_time": "2021-08-15T22:10:14.476Z"
   },
   {
    "duration": 3034,
    "start_time": "2021-08-15T22:12:08.793Z"
   },
   {
    "duration": 2899,
    "start_time": "2021-08-15T22:13:24.979Z"
   },
   {
    "duration": 6,
    "start_time": "2021-08-15T22:14:00.252Z"
   },
   {
    "duration": 2944,
    "start_time": "2021-08-15T22:14:14.451Z"
   },
   {
    "duration": 10,
    "start_time": "2021-08-15T22:14:36.049Z"
   },
   {
    "duration": 878,
    "start_time": "2021-08-15T22:15:12.974Z"
   },
   {
    "duration": 14,
    "start_time": "2021-08-15T22:15:16.526Z"
   },
   {
    "duration": 21,
    "start_time": "2021-08-15T22:15:24.097Z"
   },
   {
    "duration": 22,
    "start_time": "2021-08-15T22:15:26.098Z"
   },
   {
    "duration": 8,
    "start_time": "2021-08-15T22:15:32.506Z"
   },
   {
    "duration": 10,
    "start_time": "2021-08-15T22:15:38.719Z"
   },
   {
    "duration": 8,
    "start_time": "2021-08-15T22:15:40.681Z"
   },
   {
    "duration": 10,
    "start_time": "2021-08-15T22:15:43.387Z"
   },
   {
    "duration": 7,
    "start_time": "2021-08-15T22:15:52.049Z"
   },
   {
    "duration": 8,
    "start_time": "2021-08-15T22:15:54.074Z"
   },
   {
    "duration": 9,
    "start_time": "2021-08-15T22:16:00.559Z"
   },
   {
    "duration": 21,
    "start_time": "2021-08-15T22:16:10.842Z"
   },
   {
    "duration": 10,
    "start_time": "2021-08-15T22:16:15.782Z"
   },
   {
    "duration": 9,
    "start_time": "2021-08-15T22:16:20.106Z"
   },
   {
    "duration": 9,
    "start_time": "2021-08-15T22:16:24.109Z"
   },
   {
    "duration": 9,
    "start_time": "2021-08-15T22:16:27.654Z"
   },
   {
    "duration": 5,
    "start_time": "2021-08-15T22:16:33.555Z"
   },
   {
    "duration": 11,
    "start_time": "2021-08-15T22:17:24.436Z"
   },
   {
    "duration": 14,
    "start_time": "2021-08-15T22:17:41.640Z"
   },
   {
    "duration": 5,
    "start_time": "2021-08-15T22:17:43.343Z"
   },
   {
    "duration": 15,
    "start_time": "2021-08-15T22:17:46.440Z"
   },
   {
    "duration": 17,
    "start_time": "2021-08-15T22:17:48.938Z"
   },
   {
    "duration": 6,
    "start_time": "2021-08-15T22:17:57.822Z"
   },
   {
    "duration": 390,
    "start_time": "2021-08-15T22:18:02.017Z"
   },
   {
    "duration": 18,
    "start_time": "2021-08-15T22:18:26.630Z"
   },
   {
    "duration": 14,
    "start_time": "2021-08-15T22:18:31.830Z"
   },
   {
    "duration": 9,
    "start_time": "2021-08-15T22:18:45.698Z"
   },
   {
    "duration": 441,
    "start_time": "2021-08-15T22:18:48.291Z"
   },
   {
    "duration": 7,
    "start_time": "2021-08-15T22:19:05.646Z"
   },
   {
    "duration": 243,
    "start_time": "2021-08-15T22:19:09.462Z"
   },
   {
    "duration": 7,
    "start_time": "2021-08-15T22:21:20.775Z"
   },
   {
    "duration": 5,
    "start_time": "2021-08-15T22:21:31.204Z"
   },
   {
    "duration": 6,
    "start_time": "2021-08-15T22:21:34.776Z"
   },
   {
    "duration": 6,
    "start_time": "2021-08-15T22:21:40.018Z"
   },
   {
    "duration": 392,
    "start_time": "2021-08-15T22:21:47.357Z"
   },
   {
    "duration": 13,
    "start_time": "2021-08-15T22:21:54.440Z"
   },
   {
    "duration": 7,
    "start_time": "2021-08-15T22:22:11.931Z"
   },
   {
    "duration": 379,
    "start_time": "2021-08-15T22:22:55.136Z"
   },
   {
    "duration": 13,
    "start_time": "2021-08-15T22:22:58.869Z"
   },
   {
    "duration": 36,
    "start_time": "2021-08-15T22:23:01.287Z"
   },
   {
    "duration": 12,
    "start_time": "2021-08-15T22:23:05.580Z"
   },
   {
    "duration": 26,
    "start_time": "2021-08-15T22:23:08.110Z"
   },
   {
    "duration": 11,
    "start_time": "2021-08-15T22:23:12.054Z"
   },
   {
    "duration": 21,
    "start_time": "2021-08-15T22:23:14.629Z"
   },
   {
    "duration": 12,
    "start_time": "2021-08-15T22:23:20.380Z"
   },
   {
    "duration": 21,
    "start_time": "2021-08-15T22:23:21.367Z"
   },
   {
    "duration": 22,
    "start_time": "2021-08-15T22:23:25.021Z"
   },
   {
    "duration": 10,
    "start_time": "2021-08-15T22:23:28.794Z"
   },
   {
    "duration": 28,
    "start_time": "2021-08-15T22:23:38.432Z"
   },
   {
    "duration": 18,
    "start_time": "2021-08-15T22:23:43.247Z"
   },
   {
    "duration": 10,
    "start_time": "2021-08-15T22:24:07.661Z"
   },
   {
    "duration": 13,
    "start_time": "2021-08-15T22:24:22.077Z"
   },
   {
    "duration": 21,
    "start_time": "2021-08-15T22:24:34.220Z"
   },
   {
    "duration": 22,
    "start_time": "2021-08-15T22:24:38.973Z"
   },
   {
    "duration": 24,
    "start_time": "2021-08-15T22:24:44.187Z"
   },
   {
    "duration": 10,
    "start_time": "2021-08-15T22:24:56.409Z"
   },
   {
    "duration": 18,
    "start_time": "2021-08-15T22:25:01.366Z"
   },
   {
    "duration": 19,
    "start_time": "2021-08-15T22:25:08.812Z"
   },
   {
    "duration": 10,
    "start_time": "2021-08-15T22:25:16.004Z"
   },
   {
    "duration": 390,
    "start_time": "2021-08-15T22:26:42.582Z"
   },
   {
    "duration": 20,
    "start_time": "2021-08-15T22:27:08.449Z"
   },
   {
    "duration": 11,
    "start_time": "2021-08-15T22:27:13.741Z"
   },
   {
    "duration": 995,
    "start_time": "2021-08-15T22:27:24.616Z"
   },
   {
    "duration": 18,
    "start_time": "2021-08-15T22:27:25.615Z"
   },
   {
    "duration": 41,
    "start_time": "2021-08-15T22:27:25.638Z"
   },
   {
    "duration": 30,
    "start_time": "2021-08-15T22:27:25.683Z"
   },
   {
    "duration": 9,
    "start_time": "2021-08-15T22:27:25.716Z"
   },
   {
    "duration": 13,
    "start_time": "2021-08-15T22:27:25.761Z"
   },
   {
    "duration": 13,
    "start_time": "2021-08-15T22:27:25.777Z"
   },
   {
    "duration": 12,
    "start_time": "2021-08-15T22:27:25.796Z"
   },
   {
    "duration": 9,
    "start_time": "2021-08-15T22:27:25.812Z"
   },
   {
    "duration": 47,
    "start_time": "2021-08-15T22:27:25.823Z"
   },
   {
    "duration": 11,
    "start_time": "2021-08-15T22:27:25.873Z"
   },
   {
    "duration": 27,
    "start_time": "2021-08-15T22:27:25.887Z"
   },
   {
    "duration": 48,
    "start_time": "2021-08-15T22:27:25.917Z"
   },
   {
    "duration": 11,
    "start_time": "2021-08-15T22:27:25.968Z"
   },
   {
    "duration": 11,
    "start_time": "2021-08-15T22:27:25.982Z"
   },
   {
    "duration": 15,
    "start_time": "2021-08-15T22:27:25.996Z"
   },
   {
    "duration": 49,
    "start_time": "2021-08-15T22:27:26.014Z"
   },
   {
    "duration": 10,
    "start_time": "2021-08-15T22:27:26.066Z"
   },
   {
    "duration": 21,
    "start_time": "2021-08-15T22:27:26.079Z"
   },
   {
    "duration": 5,
    "start_time": "2021-08-15T22:27:26.103Z"
   },
   {
    "duration": 53,
    "start_time": "2021-08-15T22:27:26.110Z"
   },
   {
    "duration": 14,
    "start_time": "2021-08-15T22:27:26.165Z"
   },
   {
    "duration": 20,
    "start_time": "2021-08-15T22:27:26.185Z"
   },
   {
    "duration": 422,
    "start_time": "2021-08-15T22:27:26.208Z"
   },
   {
    "duration": 16,
    "start_time": "2021-08-15T22:27:26.633Z"
   },
   {
    "duration": 12,
    "start_time": "2021-08-15T22:27:26.663Z"
   },
   {
    "duration": 8,
    "start_time": "2021-08-15T22:27:26.678Z"
   },
   {
    "duration": 9,
    "start_time": "2021-08-15T22:27:26.689Z"
   },
   {
    "duration": 4,
    "start_time": "2021-08-15T22:27:26.701Z"
   },
   {
    "duration": 58,
    "start_time": "2021-08-15T22:27:26.708Z"
   },
   {
    "duration": 414,
    "start_time": "2021-08-15T22:27:26.768Z"
   },
   {
    "duration": 13,
    "start_time": "2021-08-15T22:27:27.184Z"
   },
   {
    "duration": 512,
    "start_time": "2021-08-15T22:27:27.199Z"
   },
   {
    "duration": 9,
    "start_time": "2021-08-15T22:27:27.713Z"
   },
   {
    "duration": 50,
    "start_time": "2021-08-15T22:27:27.725Z"
   },
   {
    "duration": 18,
    "start_time": "2021-08-15T22:27:27.778Z"
   },
   {
    "duration": 37,
    "start_time": "2021-08-15T22:27:27.798Z"
   },
   {
    "duration": 30,
    "start_time": "2021-08-15T22:27:27.838Z"
   },
   {
    "duration": 32,
    "start_time": "2021-08-15T22:27:27.870Z"
   },
   {
    "duration": 11,
    "start_time": "2021-08-15T22:27:27.905Z"
   },
   {
    "duration": 45,
    "start_time": "2021-08-15T22:27:27.918Z"
   },
   {
    "duration": 20,
    "start_time": "2021-08-15T22:27:27.965Z"
   },
   {
    "duration": 19,
    "start_time": "2021-08-15T22:27:27.988Z"
   },
   {
    "duration": 53,
    "start_time": "2021-08-15T22:27:28.010Z"
   },
   {
    "duration": 11,
    "start_time": "2021-08-15T22:27:28.066Z"
   },
   {
    "duration": 31,
    "start_time": "2021-08-15T22:27:28.080Z"
   },
   {
    "duration": 12,
    "start_time": "2021-08-15T22:27:28.114Z"
   },
   {
    "duration": 47,
    "start_time": "2021-08-15T22:27:28.128Z"
   },
   {
    "duration": 40,
    "start_time": "2021-08-15T22:27:28.178Z"
   },
   {
    "duration": 23,
    "start_time": "2021-08-15T22:27:28.220Z"
   },
   {
    "duration": 10,
    "start_time": "2021-08-15T22:27:28.262Z"
   },
   {
    "duration": 25,
    "start_time": "2021-08-15T22:27:28.274Z"
   },
   {
    "duration": 424,
    "start_time": "2021-08-15T22:27:28.302Z"
   },
   {
    "duration": 17,
    "start_time": "2021-08-15T22:27:28.728Z"
   },
   {
    "duration": 22,
    "start_time": "2021-08-15T22:27:28.747Z"
   },
   {
    "duration": 23,
    "start_time": "2021-08-15T22:27:28.772Z"
   },
   {
    "duration": 16,
    "start_time": "2021-08-15T22:27:28.797Z"
   },
   {
    "duration": 49,
    "start_time": "2021-08-15T22:27:28.815Z"
   },
   {
    "duration": 23,
    "start_time": "2021-08-15T22:27:28.866Z"
   },
   {
    "duration": 48,
    "start_time": "2021-08-15T22:27:28.891Z"
   },
   {
    "duration": 27,
    "start_time": "2021-08-15T22:27:28.941Z"
   },
   {
    "duration": 19,
    "start_time": "2021-08-15T22:27:28.970Z"
   },
   {
    "duration": 16,
    "start_time": "2021-08-15T22:27:28.991Z"
   },
   {
    "duration": 55,
    "start_time": "2021-08-15T22:27:29.009Z"
   },
   {
    "duration": 25,
    "start_time": "2021-08-15T22:27:29.066Z"
   },
   {
    "duration": 23,
    "start_time": "2021-08-15T22:27:29.093Z"
   },
   {
    "duration": 44,
    "start_time": "2021-08-15T22:27:29.119Z"
   },
   {
    "duration": 2431,
    "start_time": "2021-08-15T22:27:29.171Z"
   },
   {
    "duration": 12,
    "start_time": "2021-08-15T22:27:31.607Z"
   },
   {
    "duration": 14,
    "start_time": "2021-08-15T22:27:31.622Z"
   },
   {
    "duration": 3717,
    "start_time": "2021-08-15T22:27:31.663Z"
   },
   {
    "duration": 413,
    "start_time": "2021-08-15T22:27:35.382Z"
   },
   {
    "duration": 7,
    "start_time": "2021-08-15T22:27:35.797Z"
   },
   {
    "duration": 7,
    "start_time": "2021-08-15T22:27:35.807Z"
   },
   {
    "duration": 12,
    "start_time": "2021-08-15T22:27:35.817Z"
   },
   {
    "duration": 31,
    "start_time": "2021-08-15T22:27:35.831Z"
   },
   {
    "duration": 12,
    "start_time": "2021-08-15T22:27:35.864Z"
   },
   {
    "duration": 12,
    "start_time": "2021-08-15T22:27:35.878Z"
   },
   {
    "duration": 3013,
    "start_time": "2021-08-15T22:27:35.892Z"
   },
   {
    "duration": 28,
    "start_time": "2021-08-15T22:27:38.907Z"
   },
   {
    "duration": 29,
    "start_time": "2021-08-15T22:27:38.937Z"
   },
   {
    "duration": 29,
    "start_time": "2021-08-15T22:27:38.968Z"
   },
   {
    "duration": 30,
    "start_time": "2021-08-15T22:27:39.000Z"
   },
   {
    "duration": 4,
    "start_time": "2021-08-15T22:27:39.063Z"
   },
   {
    "duration": 27,
    "start_time": "2021-08-15T22:27:39.069Z"
   },
   {
    "duration": 28,
    "start_time": "2021-08-15T22:27:39.099Z"
   },
   {
    "duration": 36,
    "start_time": "2021-08-15T22:27:39.162Z"
   },
   {
    "duration": 31,
    "start_time": "2021-08-15T22:27:39.201Z"
   },
   {
    "duration": 39,
    "start_time": "2021-08-15T22:27:39.263Z"
   },
   {
    "duration": 58,
    "start_time": "2021-08-15T22:27:39.305Z"
   },
   {
    "duration": 29,
    "start_time": "2021-08-15T22:27:39.366Z"
   },
   {
    "duration": 25,
    "start_time": "2021-08-15T22:27:39.398Z"
   },
   {
    "duration": 29,
    "start_time": "2021-08-15T22:27:39.462Z"
   },
   {
    "duration": 2958,
    "start_time": "2021-08-15T22:28:28.870Z"
   },
   {
    "duration": 822,
    "start_time": "2021-08-15T22:29:31.500Z"
   },
   {
    "duration": 14,
    "start_time": "2021-08-15T22:29:35.850Z"
   },
   {
    "duration": 20,
    "start_time": "2021-08-15T22:29:42.263Z"
   },
   {
    "duration": 25,
    "start_time": "2021-08-15T22:29:44.673Z"
   },
   {
    "duration": 8,
    "start_time": "2021-08-15T22:29:50.181Z"
   },
   {
    "duration": 10,
    "start_time": "2021-08-15T22:29:51.730Z"
   },
   {
    "duration": 10,
    "start_time": "2021-08-15T22:29:52.428Z"
   },
   {
    "duration": 11,
    "start_time": "2021-08-15T22:29:57.310Z"
   },
   {
    "duration": 8,
    "start_time": "2021-08-15T22:30:01.242Z"
   },
   {
    "duration": 9,
    "start_time": "2021-08-15T22:30:02.068Z"
   },
   {
    "duration": 9,
    "start_time": "2021-08-15T22:30:02.652Z"
   },
   {
    "duration": 20,
    "start_time": "2021-08-15T22:30:03.327Z"
   },
   {
    "duration": 10,
    "start_time": "2021-08-15T22:30:06.605Z"
   },
   {
    "duration": 10,
    "start_time": "2021-08-15T22:30:07.693Z"
   },
   {
    "duration": 13,
    "start_time": "2021-08-15T22:30:22.143Z"
   },
   {
    "duration": 14,
    "start_time": "2021-08-15T22:30:23.767Z"
   },
   {
    "duration": 8,
    "start_time": "2021-08-15T22:30:28.756Z"
   },
   {
    "duration": 15,
    "start_time": "2021-08-15T22:30:30.150Z"
   },
   {
    "duration": 706,
    "start_time": "2021-08-15T22:30:31.798Z"
   },
   {
    "duration": 18,
    "start_time": "2021-08-15T22:30:44.699Z"
   },
   {
    "duration": 6,
    "start_time": "2021-08-15T22:30:48.467Z"
   },
   {
    "duration": 18,
    "start_time": "2021-08-15T22:30:49.390Z"
   },
   {
    "duration": 23,
    "start_time": "2021-08-15T22:30:51.654Z"
   },
   {
    "duration": 7,
    "start_time": "2021-08-15T22:30:58.461Z"
   },
   {
    "duration": 792,
    "start_time": "2021-08-15T22:31:09.391Z"
   },
   {
    "duration": 16,
    "start_time": "2021-08-15T22:31:32.011Z"
   },
   {
    "duration": 10,
    "start_time": "2021-08-15T22:31:35.717Z"
   },
   {
    "duration": 8,
    "start_time": "2021-08-15T22:31:42.537Z"
   },
   {
    "duration": 6,
    "start_time": "2021-08-15T22:31:45.744Z"
   },
   {
    "duration": 8,
    "start_time": "2021-08-15T22:31:49.424Z"
   },
   {
    "duration": 684,
    "start_time": "2021-08-15T22:32:21.179Z"
   },
   {
    "duration": 8,
    "start_time": "2021-08-15T22:32:36.061Z"
   },
   {
    "duration": 6,
    "start_time": "2021-08-15T22:32:37.366Z"
   },
   {
    "duration": 9,
    "start_time": "2021-08-15T22:32:40.613Z"
   },
   {
    "duration": 402,
    "start_time": "2021-08-15T22:32:47.052Z"
   },
   {
    "duration": 14,
    "start_time": "2021-08-15T22:32:52.090Z"
   },
   {
    "duration": 389,
    "start_time": "2021-08-15T22:32:58.222Z"
   },
   {
    "duration": 11,
    "start_time": "2021-08-15T22:33:02.640Z"
   },
   {
    "duration": 23,
    "start_time": "2021-08-15T22:33:06.005Z"
   },
   {
    "duration": 9,
    "start_time": "2021-08-15T22:33:10.380Z"
   },
   {
    "duration": 26,
    "start_time": "2021-08-15T22:33:15.510Z"
   },
   {
    "duration": 12,
    "start_time": "2021-08-15T22:33:21.861Z"
   },
   {
    "duration": 22,
    "start_time": "2021-08-15T22:33:29.410Z"
   },
   {
    "duration": 10,
    "start_time": "2021-08-15T22:33:37.308Z"
   },
   {
    "duration": 22,
    "start_time": "2021-08-15T22:33:38.594Z"
   },
   {
    "duration": 22,
    "start_time": "2021-08-15T22:33:44.094Z"
   },
   {
    "duration": 12,
    "start_time": "2021-08-15T22:33:52.647Z"
   },
   {
    "duration": 28,
    "start_time": "2021-08-15T22:33:56.289Z"
   },
   {
    "duration": 9,
    "start_time": "2021-08-15T22:34:06.431Z"
   },
   {
    "duration": 25,
    "start_time": "2021-08-15T22:34:10.998Z"
   },
   {
    "duration": 13,
    "start_time": "2021-08-15T22:34:14.072Z"
   },
   {
    "duration": 20,
    "start_time": "2021-08-15T22:34:33.669Z"
   },
   {
    "duration": 23,
    "start_time": "2021-08-15T22:34:36.108Z"
   },
   {
    "duration": 22,
    "start_time": "2021-08-15T22:34:39.717Z"
   },
   {
    "duration": 10,
    "start_time": "2021-08-15T22:34:42.473Z"
   },
   {
    "duration": 17,
    "start_time": "2021-08-15T22:34:47.188Z"
   },
   {
    "duration": 397,
    "start_time": "2021-08-15T22:34:51.633Z"
   },
   {
    "duration": 17,
    "start_time": "2021-08-15T22:34:57.493Z"
   },
   {
    "duration": 9,
    "start_time": "2021-08-15T22:35:06.431Z"
   },
   {
    "duration": 12,
    "start_time": "2021-08-15T22:35:12.392Z"
   },
   {
    "duration": 16,
    "start_time": "2021-08-15T22:35:32.360Z"
   },
   {
    "duration": 13,
    "start_time": "2021-08-15T22:36:05.182Z"
   },
   {
    "duration": 8,
    "start_time": "2021-08-15T22:36:08.079Z"
   },
   {
    "duration": 46,
    "start_time": "2021-08-15T22:36:10.539Z"
   },
   {
    "duration": 10,
    "start_time": "2021-08-15T22:36:12.805Z"
   },
   {
    "duration": 9,
    "start_time": "2021-08-15T22:36:15.184Z"
   },
   {
    "duration": 5,
    "start_time": "2021-08-15T22:36:20.103Z"
   },
   {
    "duration": 5,
    "start_time": "2021-08-15T22:37:13.076Z"
   },
   {
    "duration": 24,
    "start_time": "2021-08-15T22:37:21.524Z"
   },
   {
    "duration": 10,
    "start_time": "2021-08-15T22:37:29.801Z"
   },
   {
    "duration": 25,
    "start_time": "2021-08-15T22:37:34.276Z"
   },
   {
    "duration": 26,
    "start_time": "2021-08-15T22:37:41.623Z"
   },
   {
    "duration": 13,
    "start_time": "2021-08-15T22:37:45.837Z"
   },
   {
    "duration": 10,
    "start_time": "2021-08-15T22:38:03.078Z"
   },
   {
    "duration": 1966,
    "start_time": "2021-08-15T22:38:08.553Z"
   },
   {
    "duration": 11,
    "start_time": "2021-08-15T22:38:11.416Z"
   },
   {
    "duration": 7,
    "start_time": "2021-08-15T22:38:21.727Z"
   },
   {
    "duration": 11,
    "start_time": "2021-08-15T22:38:51.367Z"
   },
   {
    "duration": 10,
    "start_time": "2021-08-15T22:39:21.200Z"
   },
   {
    "duration": 10,
    "start_time": "2021-08-15T22:40:03.373Z"
   },
   {
    "duration": 10,
    "start_time": "2021-08-15T22:40:04.923Z"
   },
   {
    "duration": 10,
    "start_time": "2021-08-15T22:44:31.406Z"
   },
   {
    "duration": 10,
    "start_time": "2021-08-15T22:45:05.154Z"
   },
   {
    "duration": 4,
    "start_time": "2021-08-15T22:45:09.128Z"
   },
   {
    "duration": 10,
    "start_time": "2021-08-15T22:45:12.247Z"
   },
   {
    "duration": 5,
    "start_time": "2021-08-15T22:45:14.276Z"
   },
   {
    "duration": 8,
    "start_time": "2021-08-15T22:45:16.974Z"
   },
   {
    "duration": 9,
    "start_time": "2021-08-15T22:45:19.777Z"
   },
   {
    "duration": 2975,
    "start_time": "2021-08-15T22:45:31.446Z"
   },
   {
    "duration": 28,
    "start_time": "2021-08-15T22:45:39.825Z"
   },
   {
    "duration": 8,
    "start_time": "2021-08-15T22:45:47.816Z"
   },
   {
    "duration": 10,
    "start_time": "2021-08-15T22:45:54.569Z"
   },
   {
    "duration": 10,
    "start_time": "2021-08-15T22:46:14.266Z"
   },
   {
    "duration": 27,
    "start_time": "2021-08-15T22:46:29.689Z"
   },
   {
    "duration": 5,
    "start_time": "2021-08-15T22:46:53.403Z"
   },
   {
    "duration": 28,
    "start_time": "2021-08-15T22:46:58.485Z"
   },
   {
    "duration": 22,
    "start_time": "2021-08-15T22:47:00.314Z"
   },
   {
    "duration": 26,
    "start_time": "2021-08-15T22:47:09.296Z"
   },
   {
    "duration": 26,
    "start_time": "2021-08-15T22:47:14.073Z"
   },
   {
    "duration": 27,
    "start_time": "2021-08-15T22:47:17.718Z"
   },
   {
    "duration": 23,
    "start_time": "2021-08-15T22:47:30.315Z"
   },
   {
    "duration": 26,
    "start_time": "2021-08-15T22:47:44.055Z"
   },
   {
    "duration": 25,
    "start_time": "2021-08-15T22:47:46.274Z"
   },
   {
    "duration": 28,
    "start_time": "2021-08-15T22:47:49.208Z"
   },
   {
    "duration": 863,
    "start_time": "2021-08-15T22:50:40.134Z"
   },
   {
    "duration": 14,
    "start_time": "2021-08-15T22:50:41.000Z"
   },
   {
    "duration": 44,
    "start_time": "2021-08-15T22:50:41.018Z"
   },
   {
    "duration": 23,
    "start_time": "2021-08-15T22:50:41.065Z"
   },
   {
    "duration": 8,
    "start_time": "2021-08-15T22:50:41.091Z"
   },
   {
    "duration": 11,
    "start_time": "2021-08-15T22:50:41.101Z"
   },
   {
    "duration": 50,
    "start_time": "2021-08-15T22:50:41.115Z"
   },
   {
    "duration": 10,
    "start_time": "2021-08-15T22:50:41.169Z"
   },
   {
    "duration": 12,
    "start_time": "2021-08-15T22:50:41.182Z"
   },
   {
    "duration": 8,
    "start_time": "2021-08-15T22:50:41.197Z"
   },
   {
    "duration": 9,
    "start_time": "2021-08-15T22:50:41.207Z"
   },
   {
    "duration": 67,
    "start_time": "2021-08-15T22:50:41.218Z"
   },
   {
    "duration": 10,
    "start_time": "2021-08-15T22:50:41.288Z"
   },
   {
    "duration": 9,
    "start_time": "2021-08-15T22:50:41.300Z"
   },
   {
    "duration": 9,
    "start_time": "2021-08-15T22:50:41.312Z"
   },
   {
    "duration": 10,
    "start_time": "2021-08-15T22:50:41.363Z"
   },
   {
    "duration": 9,
    "start_time": "2021-08-15T22:50:41.375Z"
   },
   {
    "duration": 13,
    "start_time": "2021-08-15T22:50:41.386Z"
   },
   {
    "duration": 747,
    "start_time": "2021-08-15T22:50:41.401Z"
   },
   {
    "duration": 19,
    "start_time": "2021-08-15T22:50:42.151Z"
   },
   {
    "duration": 6,
    "start_time": "2021-08-15T22:50:42.172Z"
   },
   {
    "duration": 17,
    "start_time": "2021-08-15T22:50:42.181Z"
   },
   {
    "duration": 55,
    "start_time": "2021-08-15T22:50:42.206Z"
   },
   {
    "duration": 7,
    "start_time": "2021-08-15T22:50:42.266Z"
   },
   {
    "duration": 465,
    "start_time": "2021-08-15T22:50:42.276Z"
   },
   {
    "duration": 21,
    "start_time": "2021-08-15T22:50:42.743Z"
   },
   {
    "duration": 6,
    "start_time": "2021-08-15T22:50:42.767Z"
   },
   {
    "duration": 7,
    "start_time": "2021-08-15T22:50:42.776Z"
   },
   {
    "duration": 5,
    "start_time": "2021-08-15T22:50:42.785Z"
   },
   {
    "duration": 10,
    "start_time": "2021-08-15T22:50:42.792Z"
   },
   {
    "duration": 432,
    "start_time": "2021-08-15T22:50:42.804Z"
   },
   {
    "duration": 30,
    "start_time": "2021-08-15T22:50:43.239Z"
   },
   {
    "duration": 407,
    "start_time": "2021-08-15T22:50:43.272Z"
   },
   {
    "duration": 10,
    "start_time": "2021-08-15T22:50:43.682Z"
   },
   {
    "duration": 29,
    "start_time": "2021-08-15T22:50:43.695Z"
   },
   {
    "duration": 44,
    "start_time": "2021-08-15T22:50:43.727Z"
   },
   {
    "duration": 28,
    "start_time": "2021-08-15T22:50:43.774Z"
   },
   {
    "duration": 12,
    "start_time": "2021-08-15T22:50:43.805Z"
   },
   {
    "duration": 23,
    "start_time": "2021-08-15T22:50:43.863Z"
   },
   {
    "duration": 12,
    "start_time": "2021-08-15T22:50:43.889Z"
   },
   {
    "duration": 64,
    "start_time": "2021-08-15T22:50:43.904Z"
   },
   {
    "duration": 22,
    "start_time": "2021-08-15T22:50:43.971Z"
   },
   {
    "duration": 12,
    "start_time": "2021-08-15T22:50:43.996Z"
   },
   {
    "duration": 65,
    "start_time": "2021-08-15T22:50:44.011Z"
   },
   {
    "duration": 9,
    "start_time": "2021-08-15T22:50:44.078Z"
   },
   {
    "duration": 22,
    "start_time": "2021-08-15T22:50:44.089Z"
   },
   {
    "duration": 10,
    "start_time": "2021-08-15T22:50:44.113Z"
   },
   {
    "duration": 55,
    "start_time": "2021-08-15T22:50:44.125Z"
   },
   {
    "duration": 25,
    "start_time": "2021-08-15T22:50:44.182Z"
   },
   {
    "duration": 63,
    "start_time": "2021-08-15T22:50:44.209Z"
   },
   {
    "duration": 10,
    "start_time": "2021-08-15T22:50:44.274Z"
   },
   {
    "duration": 17,
    "start_time": "2021-08-15T22:50:44.286Z"
   },
   {
    "duration": 542,
    "start_time": "2021-08-15T22:50:44.306Z"
   },
   {
    "duration": 25,
    "start_time": "2021-08-15T22:50:44.851Z"
   },
   {
    "duration": 14,
    "start_time": "2021-08-15T22:50:44.879Z"
   },
   {
    "duration": 15,
    "start_time": "2021-08-15T22:50:44.896Z"
   },
   {
    "duration": 49,
    "start_time": "2021-08-15T22:50:44.913Z"
   },
   {
    "duration": 9,
    "start_time": "2021-08-15T22:50:44.964Z"
   },
   {
    "duration": 12,
    "start_time": "2021-08-15T22:50:44.975Z"
   },
   {
    "duration": 86,
    "start_time": "2021-08-15T22:50:44.989Z"
   },
   {
    "duration": 9,
    "start_time": "2021-08-15T22:50:45.077Z"
   },
   {
    "duration": 14,
    "start_time": "2021-08-15T22:50:45.089Z"
   },
   {
    "duration": 18,
    "start_time": "2021-08-15T22:50:45.105Z"
   },
   {
    "duration": 52,
    "start_time": "2021-08-15T22:50:45.126Z"
   },
   {
    "duration": 10,
    "start_time": "2021-08-15T22:50:45.181Z"
   },
   {
    "duration": 27,
    "start_time": "2021-08-15T22:50:45.194Z"
   },
   {
    "duration": 57,
    "start_time": "2021-08-15T22:50:45.224Z"
   },
   {
    "duration": 12,
    "start_time": "2021-08-15T22:50:45.290Z"
   },
   {
    "duration": 10,
    "start_time": "2021-08-15T22:50:45.304Z"
   },
   {
    "duration": 1890,
    "start_time": "2021-08-15T22:50:45.317Z"
   },
   {
    "duration": 11,
    "start_time": "2021-08-15T22:50:47.209Z"
   },
   {
    "duration": 7,
    "start_time": "2021-08-15T22:50:47.223Z"
   },
   {
    "duration": 9,
    "start_time": "2021-08-15T22:50:47.262Z"
   },
   {
    "duration": 27,
    "start_time": "2021-08-15T22:50:47.274Z"
   },
   {
    "duration": 9,
    "start_time": "2021-08-15T22:50:47.303Z"
   },
   {
    "duration": 7,
    "start_time": "2021-08-15T22:50:47.314Z"
   },
   {
    "duration": 44,
    "start_time": "2021-08-15T22:50:47.323Z"
   },
   {
    "duration": 4,
    "start_time": "2021-08-15T22:50:47.369Z"
   },
   {
    "duration": 10,
    "start_time": "2021-08-15T22:50:47.376Z"
   },
   {
    "duration": 16,
    "start_time": "2021-08-15T22:50:47.389Z"
   },
   {
    "duration": 3105,
    "start_time": "2021-08-15T22:50:47.408Z"
   },
   {
    "duration": 28,
    "start_time": "2021-08-15T22:50:50.515Z"
   },
   {
    "duration": 21,
    "start_time": "2021-08-15T22:50:50.546Z"
   },
   {
    "duration": 14,
    "start_time": "2021-08-15T22:50:50.570Z"
   },
   {
    "duration": 15,
    "start_time": "2021-08-15T22:50:50.586Z"
   },
   {
    "duration": 59,
    "start_time": "2021-08-15T22:50:50.603Z"
   },
   {
    "duration": 4,
    "start_time": "2021-08-15T22:50:50.664Z"
   },
   {
    "duration": 46,
    "start_time": "2021-08-15T22:50:50.670Z"
   },
   {
    "duration": 43,
    "start_time": "2021-08-15T22:50:50.719Z"
   },
   {
    "duration": 25,
    "start_time": "2021-08-15T22:50:50.765Z"
   },
   {
    "duration": 24,
    "start_time": "2021-08-15T22:50:50.793Z"
   },
   {
    "duration": 55,
    "start_time": "2021-08-15T22:50:50.820Z"
   },
   {
    "duration": 24,
    "start_time": "2021-08-15T22:50:50.877Z"
   },
   {
    "duration": 61,
    "start_time": "2021-08-15T22:50:50.903Z"
   },
   {
    "duration": 42,
    "start_time": "2021-08-15T22:50:50.967Z"
   },
   {
    "duration": 28,
    "start_time": "2021-08-15T22:50:51.011Z"
   },
   {
    "duration": 830,
    "start_time": "2021-08-15T22:54:24.278Z"
   },
   {
    "duration": 13,
    "start_time": "2021-08-15T22:54:25.110Z"
   },
   {
    "duration": 44,
    "start_time": "2021-08-15T22:54:25.126Z"
   },
   {
    "duration": 22,
    "start_time": "2021-08-15T22:54:25.173Z"
   },
   {
    "duration": 8,
    "start_time": "2021-08-15T22:54:25.197Z"
   },
   {
    "duration": 58,
    "start_time": "2021-08-15T22:54:25.207Z"
   },
   {
    "duration": 12,
    "start_time": "2021-08-15T22:54:25.268Z"
   },
   {
    "duration": 9,
    "start_time": "2021-08-15T22:54:25.284Z"
   },
   {
    "duration": 12,
    "start_time": "2021-08-15T22:54:25.296Z"
   },
   {
    "duration": 8,
    "start_time": "2021-08-15T22:54:25.310Z"
   },
   {
    "duration": 9,
    "start_time": "2021-08-15T22:54:25.363Z"
   },
   {
    "duration": 22,
    "start_time": "2021-08-15T22:54:25.374Z"
   },
   {
    "duration": 12,
    "start_time": "2021-08-15T22:54:25.398Z"
   },
   {
    "duration": 54,
    "start_time": "2021-08-15T22:54:25.413Z"
   },
   {
    "duration": 9,
    "start_time": "2021-08-15T22:54:25.469Z"
   },
   {
    "duration": 17,
    "start_time": "2021-08-15T22:54:25.481Z"
   },
   {
    "duration": 9,
    "start_time": "2021-08-15T22:54:25.500Z"
   },
   {
    "duration": 56,
    "start_time": "2021-08-15T22:54:25.511Z"
   },
   {
    "duration": 399,
    "start_time": "2021-08-15T22:54:25.569Z"
   },
   {
    "duration": 14,
    "start_time": "2021-08-15T22:54:25.971Z"
   },
   {
    "duration": 5,
    "start_time": "2021-08-15T22:54:25.987Z"
   },
   {
    "duration": 18,
    "start_time": "2021-08-15T22:54:25.994Z"
   },
   {
    "duration": 53,
    "start_time": "2021-08-15T22:54:26.018Z"
   },
   {
    "duration": 7,
    "start_time": "2021-08-15T22:54:26.075Z"
   },
   {
    "duration": 33,
    "start_time": "2021-08-15T22:54:26.084Z"
   },
   {
    "duration": 432,
    "start_time": "2021-08-15T22:54:26.119Z"
   },
   {
    "duration": 19,
    "start_time": "2021-08-15T22:54:26.554Z"
   },
   {
    "duration": 10,
    "start_time": "2021-08-15T22:54:26.576Z"
   },
   {
    "duration": 5,
    "start_time": "2021-08-15T22:54:26.589Z"
   },
   {
    "duration": 4,
    "start_time": "2021-08-15T22:54:26.597Z"
   },
   {
    "duration": 9,
    "start_time": "2021-08-15T22:54:26.604Z"
   },
   {
    "duration": 392,
    "start_time": "2021-08-15T22:54:26.663Z"
   },
   {
    "duration": 14,
    "start_time": "2021-08-15T22:54:27.057Z"
   },
   {
    "duration": 408,
    "start_time": "2021-08-15T22:54:27.073Z"
   },
   {
    "duration": 14,
    "start_time": "2021-08-15T22:54:27.484Z"
   },
   {
    "duration": 69,
    "start_time": "2021-08-15T22:54:27.501Z"
   },
   {
    "duration": 8,
    "start_time": "2021-08-15T22:54:27.572Z"
   },
   {
    "duration": 29,
    "start_time": "2021-08-15T22:54:27.583Z"
   },
   {
    "duration": 11,
    "start_time": "2021-08-15T22:54:27.614Z"
   },
   {
    "duration": 49,
    "start_time": "2021-08-15T22:54:27.627Z"
   },
   {
    "duration": 10,
    "start_time": "2021-08-15T22:54:27.678Z"
   },
   {
    "duration": 20,
    "start_time": "2021-08-15T22:54:27.691Z"
   },
   {
    "duration": 62,
    "start_time": "2021-08-15T22:54:27.713Z"
   },
   {
    "duration": 10,
    "start_time": "2021-08-15T22:54:27.778Z"
   },
   {
    "duration": 29,
    "start_time": "2021-08-15T22:54:27.790Z"
   },
   {
    "duration": 9,
    "start_time": "2021-08-15T22:54:27.821Z"
   },
   {
    "duration": 44,
    "start_time": "2021-08-15T22:54:27.833Z"
   },
   {
    "duration": 10,
    "start_time": "2021-08-15T22:54:27.879Z"
   },
   {
    "duration": 27,
    "start_time": "2021-08-15T22:54:27.892Z"
   },
   {
    "duration": 56,
    "start_time": "2021-08-15T22:54:27.922Z"
   },
   {
    "duration": 21,
    "start_time": "2021-08-15T22:54:27.980Z"
   },
   {
    "duration": 10,
    "start_time": "2021-08-15T22:54:28.003Z"
   },
   {
    "duration": 53,
    "start_time": "2021-08-15T22:54:28.015Z"
   },
   {
    "duration": 418,
    "start_time": "2021-08-15T22:54:28.071Z"
   },
   {
    "duration": 16,
    "start_time": "2021-08-15T22:54:28.492Z"
   },
   {
    "duration": 15,
    "start_time": "2021-08-15T22:54:28.510Z"
   },
   {
    "duration": 35,
    "start_time": "2021-08-15T22:54:28.528Z"
   },
   {
    "duration": 18,
    "start_time": "2021-08-15T22:54:28.565Z"
   },
   {
    "duration": 16,
    "start_time": "2021-08-15T22:54:28.585Z"
   },
   {
    "duration": 25,
    "start_time": "2021-08-15T22:54:28.603Z"
   },
   {
    "duration": 62,
    "start_time": "2021-08-15T22:54:28.630Z"
   },
   {
    "duration": 9,
    "start_time": "2021-08-15T22:54:28.695Z"
   },
   {
    "duration": 9,
    "start_time": "2021-08-15T22:54:28.707Z"
   },
   {
    "duration": 8,
    "start_time": "2021-08-15T22:54:28.718Z"
   },
   {
    "duration": 50,
    "start_time": "2021-08-15T22:54:28.728Z"
   },
   {
    "duration": 10,
    "start_time": "2021-08-15T22:54:28.781Z"
   },
   {
    "duration": 31,
    "start_time": "2021-08-15T22:54:28.793Z"
   },
   {
    "duration": 49,
    "start_time": "2021-08-15T22:54:28.832Z"
   },
   {
    "duration": 12,
    "start_time": "2021-08-15T22:54:28.884Z"
   },
   {
    "duration": 9,
    "start_time": "2021-08-15T22:54:28.899Z"
   },
   {
    "duration": 1879,
    "start_time": "2021-08-15T22:54:28.910Z"
   },
   {
    "duration": 11,
    "start_time": "2021-08-15T22:54:30.792Z"
   },
   {
    "duration": 16,
    "start_time": "2021-08-15T22:54:30.805Z"
   },
   {
    "duration": 26,
    "start_time": "2021-08-15T22:54:30.823Z"
   },
   {
    "duration": 36,
    "start_time": "2021-08-15T22:54:30.851Z"
   },
   {
    "duration": 14,
    "start_time": "2021-08-15T22:54:30.889Z"
   },
   {
    "duration": 12,
    "start_time": "2021-08-15T22:54:30.905Z"
   },
   {
    "duration": 16,
    "start_time": "2021-08-15T22:54:30.920Z"
   },
   {
    "duration": 11,
    "start_time": "2021-08-15T22:54:30.938Z"
   },
   {
    "duration": 22,
    "start_time": "2021-08-15T22:54:30.961Z"
   },
   {
    "duration": 23,
    "start_time": "2021-08-15T22:54:30.986Z"
   },
   {
    "duration": 5337,
    "start_time": "2021-08-15T22:54:31.012Z"
   },
   {
    "duration": 47,
    "start_time": "2021-08-15T22:54:36.352Z"
   },
   {
    "duration": 11,
    "start_time": "2021-08-15T22:54:36.402Z"
   },
   {
    "duration": 42,
    "start_time": "2021-08-15T22:54:36.416Z"
   },
   {
    "duration": 34,
    "start_time": "2021-08-15T22:54:36.463Z"
   },
   {
    "duration": 44,
    "start_time": "2021-08-15T22:54:36.501Z"
   },
   {
    "duration": 5,
    "start_time": "2021-08-15T22:54:36.548Z"
   },
   {
    "duration": 59,
    "start_time": "2021-08-15T22:54:36.556Z"
   },
   {
    "duration": 29,
    "start_time": "2021-08-15T22:54:36.619Z"
   },
   {
    "duration": 35,
    "start_time": "2021-08-15T22:54:36.663Z"
   },
   {
    "duration": 35,
    "start_time": "2021-08-15T22:54:36.701Z"
   },
   {
    "duration": 36,
    "start_time": "2021-08-15T22:54:36.763Z"
   },
   {
    "duration": 30,
    "start_time": "2021-08-15T22:54:36.802Z"
   },
   {
    "duration": 39,
    "start_time": "2021-08-15T22:54:36.863Z"
   },
   {
    "duration": 60,
    "start_time": "2021-08-15T22:54:36.904Z"
   },
   {
    "duration": 38,
    "start_time": "2021-08-15T22:54:36.967Z"
   },
   {
    "duration": 17,
    "start_time": "2021-08-15T23:09:00.185Z"
   },
   {
    "duration": 14,
    "start_time": "2021-08-15T23:10:38.622Z"
   },
   {
    "duration": 36,
    "start_time": "2021-08-15T23:11:27.567Z"
   },
   {
    "duration": 13,
    "start_time": "2021-08-15T23:11:32.234Z"
   },
   {
    "duration": 36,
    "start_time": "2021-08-15T23:11:48.948Z"
   },
   {
    "duration": 13,
    "start_time": "2021-08-15T23:12:17.440Z"
   },
   {
    "duration": 28,
    "start_time": "2021-08-15T23:12:24.975Z"
   },
   {
    "duration": 5318,
    "start_time": "2021-08-15T23:12:56.078Z"
   },
   {
    "duration": 851,
    "start_time": "2021-08-15T23:13:19.713Z"
   },
   {
    "duration": 13,
    "start_time": "2021-08-15T23:13:20.567Z"
   },
   {
    "duration": 19,
    "start_time": "2021-08-15T23:13:20.583Z"
   },
   {
    "duration": 62,
    "start_time": "2021-08-15T23:13:20.605Z"
   },
   {
    "duration": 7,
    "start_time": "2021-08-15T23:13:20.670Z"
   },
   {
    "duration": 15,
    "start_time": "2021-08-15T23:13:20.679Z"
   },
   {
    "duration": 11,
    "start_time": "2021-08-15T23:13:20.696Z"
   },
   {
    "duration": 50,
    "start_time": "2021-08-15T23:13:20.713Z"
   },
   {
    "duration": 6,
    "start_time": "2021-08-15T23:13:20.767Z"
   },
   {
    "duration": 12,
    "start_time": "2021-08-15T23:13:20.776Z"
   },
   {
    "duration": 8,
    "start_time": "2021-08-15T23:13:20.791Z"
   },
   {
    "duration": 21,
    "start_time": "2021-08-15T23:13:20.802Z"
   },
   {
    "duration": 9,
    "start_time": "2021-08-15T23:13:20.863Z"
   },
   {
    "duration": 13,
    "start_time": "2021-08-15T23:13:20.875Z"
   },
   {
    "duration": 9,
    "start_time": "2021-08-15T23:13:20.890Z"
   },
   {
    "duration": 20,
    "start_time": "2021-08-15T23:13:20.901Z"
   },
   {
    "duration": 39,
    "start_time": "2021-08-15T23:13:20.923Z"
   },
   {
    "duration": 15,
    "start_time": "2021-08-15T23:13:20.964Z"
   },
   {
    "duration": 398,
    "start_time": "2021-08-15T23:13:20.982Z"
   },
   {
    "duration": 15,
    "start_time": "2021-08-15T23:13:21.382Z"
   },
   {
    "duration": 5,
    "start_time": "2021-08-15T23:13:21.399Z"
   },
   {
    "duration": 55,
    "start_time": "2021-08-15T23:13:21.406Z"
   },
   {
    "duration": 16,
    "start_time": "2021-08-15T23:13:21.467Z"
   },
   {
    "duration": 6,
    "start_time": "2021-08-15T23:13:21.487Z"
   },
   {
    "duration": 83,
    "start_time": "2021-08-15T23:13:21.496Z"
   },
   {
    "duration": 398,
    "start_time": "2021-08-15T23:13:21.581Z"
   },
   {
    "duration": 13,
    "start_time": "2021-08-15T23:13:21.981Z"
   },
   {
    "duration": 8,
    "start_time": "2021-08-15T23:13:21.996Z"
   },
   {
    "duration": 7,
    "start_time": "2021-08-15T23:13:22.006Z"
   },
   {
    "duration": 47,
    "start_time": "2021-08-15T23:13:22.016Z"
   },
   {
    "duration": 12,
    "start_time": "2021-08-15T23:13:22.065Z"
   },
   {
    "duration": 398,
    "start_time": "2021-08-15T23:13:22.079Z"
   },
   {
    "duration": 13,
    "start_time": "2021-08-15T23:13:22.479Z"
   },
   {
    "duration": 400,
    "start_time": "2021-08-15T23:13:22.494Z"
   },
   {
    "duration": 8,
    "start_time": "2021-08-15T23:13:22.897Z"
   },
   {
    "duration": 53,
    "start_time": "2021-08-15T23:13:22.908Z"
   },
   {
    "duration": 11,
    "start_time": "2021-08-15T23:13:22.965Z"
   },
   {
    "duration": 34,
    "start_time": "2021-08-15T23:13:22.979Z"
   },
   {
    "duration": 61,
    "start_time": "2021-08-15T23:13:23.016Z"
   },
   {
    "duration": 13,
    "start_time": "2021-08-15T23:13:23.080Z"
   },
   {
    "duration": 27,
    "start_time": "2021-08-15T23:13:23.096Z"
   },
   {
    "duration": 57,
    "start_time": "2021-08-15T23:13:23.126Z"
   },
   {
    "duration": 12,
    "start_time": "2021-08-15T23:13:23.186Z"
   },
   {
    "duration": 61,
    "start_time": "2021-08-15T23:13:23.201Z"
   },
   {
    "duration": 25,
    "start_time": "2021-08-15T23:13:23.265Z"
   },
   {
    "duration": 26,
    "start_time": "2021-08-15T23:13:23.293Z"
   },
   {
    "duration": 63,
    "start_time": "2021-08-15T23:13:23.323Z"
   },
   {
    "duration": 31,
    "start_time": "2021-08-15T23:13:23.388Z"
   },
   {
    "duration": 45,
    "start_time": "2021-08-15T23:13:23.422Z"
   },
   {
    "duration": 395,
    "start_time": "2021-08-15T23:13:23.469Z"
   },
   {
    "duration": 16,
    "start_time": "2021-08-15T23:13:23.866Z"
   },
   {
    "duration": 9,
    "start_time": "2021-08-15T23:13:23.885Z"
   },
   {
    "duration": 16,
    "start_time": "2021-08-15T23:13:23.896Z"
   },
   {
    "duration": 60,
    "start_time": "2021-08-15T23:13:23.915Z"
   },
   {
    "duration": 9,
    "start_time": "2021-08-15T23:13:23.977Z"
   },
   {
    "duration": 12,
    "start_time": "2021-08-15T23:13:23.989Z"
   },
   {
    "duration": 88,
    "start_time": "2021-08-15T23:13:24.004Z"
   },
   {
    "duration": 11,
    "start_time": "2021-08-15T23:13:24.094Z"
   },
   {
    "duration": 11,
    "start_time": "2021-08-15T23:13:24.107Z"
   },
   {
    "duration": 41,
    "start_time": "2021-08-15T23:13:24.120Z"
   },
   {
    "duration": 24,
    "start_time": "2021-08-15T23:13:24.164Z"
   },
   {
    "duration": 8,
    "start_time": "2021-08-15T23:13:24.191Z"
   },
   {
    "duration": 27,
    "start_time": "2021-08-15T23:13:24.202Z"
   },
   {
    "duration": 25,
    "start_time": "2021-08-15T23:13:24.262Z"
   },
   {
    "duration": 12,
    "start_time": "2021-08-15T23:13:24.289Z"
   },
   {
    "duration": 9,
    "start_time": "2021-08-15T23:13:24.303Z"
   },
   {
    "duration": 1896,
    "start_time": "2021-08-15T23:13:24.315Z"
   },
   {
    "duration": 10,
    "start_time": "2021-08-15T23:13:26.219Z"
   },
   {
    "duration": 30,
    "start_time": "2021-08-15T23:13:26.233Z"
   },
   {
    "duration": 9,
    "start_time": "2021-08-15T23:13:26.266Z"
   },
   {
    "duration": 17,
    "start_time": "2021-08-15T23:13:26.278Z"
   },
   {
    "duration": 8,
    "start_time": "2021-08-15T23:13:26.298Z"
   },
   {
    "duration": 6,
    "start_time": "2021-08-15T23:13:26.310Z"
   },
   {
    "duration": 51,
    "start_time": "2021-08-15T23:13:26.319Z"
   },
   {
    "duration": 5,
    "start_time": "2021-08-15T23:13:26.373Z"
   },
   {
    "duration": 8,
    "start_time": "2021-08-15T23:13:26.381Z"
   },
   {
    "duration": 9,
    "start_time": "2021-08-15T23:13:26.392Z"
   },
   {
    "duration": 3145,
    "start_time": "2021-08-15T23:13:26.405Z"
   },
   {
    "duration": 31,
    "start_time": "2021-08-15T23:13:29.553Z"
   },
   {
    "duration": 27,
    "start_time": "2021-08-15T23:13:29.586Z"
   },
   {
    "duration": 25,
    "start_time": "2021-08-15T23:13:29.616Z"
   },
   {
    "duration": 26,
    "start_time": "2021-08-15T23:13:29.643Z"
   },
   {
    "duration": 32,
    "start_time": "2021-08-15T23:13:29.671Z"
   },
   {
    "duration": 4,
    "start_time": "2021-08-15T23:13:29.705Z"
   },
   {
    "duration": 59,
    "start_time": "2021-08-15T23:13:29.711Z"
   },
   {
    "duration": 21,
    "start_time": "2021-08-15T23:13:29.772Z"
   },
   {
    "duration": 24,
    "start_time": "2021-08-15T23:13:29.795Z"
   },
   {
    "duration": 26,
    "start_time": "2021-08-15T23:13:29.862Z"
   },
   {
    "duration": 31,
    "start_time": "2021-08-15T23:13:29.891Z"
   },
   {
    "duration": 51,
    "start_time": "2021-08-15T23:13:29.924Z"
   },
   {
    "duration": 25,
    "start_time": "2021-08-15T23:13:29.978Z"
   },
   {
    "duration": 63,
    "start_time": "2021-08-15T23:13:30.006Z"
   },
   {
    "duration": 25,
    "start_time": "2021-08-15T23:13:30.071Z"
   },
   {
    "duration": 10,
    "start_time": "2021-08-15T23:16:07.721Z"
   },
   {
    "duration": 10,
    "start_time": "2021-08-15T23:16:44.715Z"
   },
   {
    "duration": 10,
    "start_time": "2021-08-15T23:22:38.393Z"
   },
   {
    "duration": 10,
    "start_time": "2021-08-15T23:22:40.839Z"
   },
   {
    "duration": 2856,
    "start_time": "2021-08-15T23:23:27.285Z"
   },
   {
    "duration": 6587,
    "start_time": "2021-08-15T23:27:08.241Z"
   },
   {
    "duration": 8,
    "start_time": "2021-08-15T23:47:18.565Z"
   },
   {
    "duration": 4,
    "start_time": "2021-08-15T23:54:45.830Z"
   },
   {
    "duration": 833,
    "start_time": "2021-08-16T00:05:35.783Z"
   },
   {
    "duration": 14,
    "start_time": "2021-08-16T00:05:36.618Z"
   },
   {
    "duration": 37,
    "start_time": "2021-08-16T00:05:36.635Z"
   },
   {
    "duration": 21,
    "start_time": "2021-08-16T00:05:36.675Z"
   },
   {
    "duration": 7,
    "start_time": "2021-08-16T00:05:36.699Z"
   },
   {
    "duration": 57,
    "start_time": "2021-08-16T00:05:36.709Z"
   },
   {
    "duration": 7,
    "start_time": "2021-08-16T00:05:36.768Z"
   },
   {
    "duration": 12,
    "start_time": "2021-08-16T00:05:36.779Z"
   },
   {
    "duration": 9,
    "start_time": "2021-08-16T00:05:36.794Z"
   },
   {
    "duration": 7,
    "start_time": "2021-08-16T00:05:36.805Z"
   },
   {
    "duration": 50,
    "start_time": "2021-08-16T00:05:36.815Z"
   },
   {
    "duration": 28,
    "start_time": "2021-08-16T00:05:36.867Z"
   },
   {
    "duration": 13,
    "start_time": "2021-08-16T00:05:36.897Z"
   },
   {
    "duration": 11,
    "start_time": "2021-08-16T00:05:36.912Z"
   },
   {
    "duration": 41,
    "start_time": "2021-08-16T00:05:36.926Z"
   },
   {
    "duration": 18,
    "start_time": "2021-08-16T00:05:36.970Z"
   },
   {
    "duration": 16,
    "start_time": "2021-08-16T00:05:36.991Z"
   },
   {
    "duration": 14,
    "start_time": "2021-08-16T00:05:37.010Z"
   },
   {
    "duration": 417,
    "start_time": "2021-08-16T00:05:37.063Z"
   },
   {
    "duration": 13,
    "start_time": "2021-08-16T00:05:37.482Z"
   },
   {
    "duration": 4,
    "start_time": "2021-08-16T00:05:37.497Z"
   },
   {
    "duration": 19,
    "start_time": "2021-08-16T00:05:37.503Z"
   },
   {
    "duration": 48,
    "start_time": "2021-08-16T00:05:37.527Z"
   },
   {
    "duration": 8,
    "start_time": "2021-08-16T00:05:37.579Z"
   },
   {
    "duration": 45,
    "start_time": "2021-08-16T00:05:37.589Z"
   },
   {
    "duration": 406,
    "start_time": "2021-08-16T00:05:37.661Z"
   },
   {
    "duration": 12,
    "start_time": "2021-08-16T00:05:38.070Z"
   },
   {
    "duration": 8,
    "start_time": "2021-08-16T00:05:38.084Z"
   },
   {
    "duration": 11,
    "start_time": "2021-08-16T00:05:38.094Z"
   },
   {
    "duration": 7,
    "start_time": "2021-08-16T00:05:38.107Z"
   },
   {
    "duration": 9,
    "start_time": "2021-08-16T00:05:38.117Z"
   },
   {
    "duration": 395,
    "start_time": "2021-08-16T00:05:38.163Z"
   },
   {
    "duration": 11,
    "start_time": "2021-08-16T00:05:38.562Z"
   },
   {
    "duration": 396,
    "start_time": "2021-08-16T00:05:38.575Z"
   },
   {
    "duration": 10,
    "start_time": "2021-08-16T00:05:38.974Z"
   },
   {
    "duration": 25,
    "start_time": "2021-08-16T00:05:38.986Z"
   },
   {
    "duration": 8,
    "start_time": "2021-08-16T00:05:39.013Z"
   },
   {
    "duration": 64,
    "start_time": "2021-08-16T00:05:39.023Z"
   },
   {
    "duration": 21,
    "start_time": "2021-08-16T00:05:39.089Z"
   },
   {
    "duration": 9,
    "start_time": "2021-08-16T00:05:39.112Z"
   },
   {
    "duration": 59,
    "start_time": "2021-08-16T00:05:39.123Z"
   },
   {
    "duration": 20,
    "start_time": "2021-08-16T00:05:39.184Z"
   },
   {
    "duration": 9,
    "start_time": "2021-08-16T00:05:39.207Z"
   },
   {
    "duration": 59,
    "start_time": "2021-08-16T00:05:39.219Z"
   },
   {
    "duration": 18,
    "start_time": "2021-08-16T00:05:39.280Z"
   },
   {
    "duration": 18,
    "start_time": "2021-08-16T00:05:39.300Z"
   },
   {
    "duration": 59,
    "start_time": "2021-08-16T00:05:39.321Z"
   },
   {
    "duration": 21,
    "start_time": "2021-08-16T00:05:39.382Z"
   },
   {
    "duration": 15,
    "start_time": "2021-08-16T00:05:39.406Z"
   },
   {
    "duration": 462,
    "start_time": "2021-08-16T00:05:39.423Z"
   },
   {
    "duration": 16,
    "start_time": "2021-08-16T00:05:39.887Z"
   },
   {
    "duration": 11,
    "start_time": "2021-08-16T00:05:39.906Z"
   },
   {
    "duration": 47,
    "start_time": "2021-08-16T00:05:39.919Z"
   },
   {
    "duration": 13,
    "start_time": "2021-08-16T00:05:39.969Z"
   },
   {
    "duration": 13,
    "start_time": "2021-08-16T00:05:39.984Z"
   },
   {
    "duration": 68,
    "start_time": "2021-08-16T00:05:39.999Z"
   },
   {
    "duration": 9,
    "start_time": "2021-08-16T00:05:40.069Z"
   },
   {
    "duration": 19,
    "start_time": "2021-08-16T00:05:40.081Z"
   },
   {
    "duration": 9,
    "start_time": "2021-08-16T00:05:40.102Z"
   },
   {
    "duration": 50,
    "start_time": "2021-08-16T00:05:40.114Z"
   },
   {
    "duration": 25,
    "start_time": "2021-08-16T00:05:40.166Z"
   },
   {
    "duration": 23,
    "start_time": "2021-08-16T00:05:40.193Z"
   },
   {
    "duration": 44,
    "start_time": "2021-08-16T00:05:40.219Z"
   },
   {
    "duration": 1958,
    "start_time": "2021-08-16T00:05:40.266Z"
   },
   {
    "duration": 11,
    "start_time": "2021-08-16T00:05:42.226Z"
   },
   {
    "duration": 25,
    "start_time": "2021-08-16T00:05:42.240Z"
   },
   {
    "duration": 15,
    "start_time": "2021-08-16T00:05:42.268Z"
   },
   {
    "duration": 13,
    "start_time": "2021-08-16T00:05:42.294Z"
   },
   {
    "duration": 56,
    "start_time": "2021-08-16T00:05:42.311Z"
   },
   {
    "duration": 5,
    "start_time": "2021-08-16T00:05:42.370Z"
   },
   {
    "duration": 22,
    "start_time": "2021-08-16T00:05:42.378Z"
   },
   {
    "duration": 18,
    "start_time": "2021-08-16T00:05:42.404Z"
   },
   {
    "duration": 14,
    "start_time": "2021-08-16T00:05:42.425Z"
   },
   {
    "duration": 26,
    "start_time": "2021-08-16T00:05:42.441Z"
   },
   {
    "duration": 3162,
    "start_time": "2021-08-16T00:05:42.470Z"
   },
   {
    "duration": 40,
    "start_time": "2021-08-16T00:05:45.635Z"
   },
   {
    "duration": 8,
    "start_time": "2021-08-16T00:05:45.678Z"
   },
   {
    "duration": 35,
    "start_time": "2021-08-16T00:05:45.688Z"
   },
   {
    "duration": 4,
    "start_time": "2021-08-16T00:05:45.726Z"
   },
   {
    "duration": 52,
    "start_time": "2021-08-16T00:05:45.732Z"
   },
   {
    "duration": 27,
    "start_time": "2021-08-16T00:05:45.786Z"
   },
   {
    "duration": 58,
    "start_time": "2021-08-16T00:05:45.815Z"
   },
   {
    "duration": 24,
    "start_time": "2021-08-16T00:05:45.876Z"
   },
   {
    "duration": 22,
    "start_time": "2021-08-16T00:05:45.903Z"
   },
   {
    "duration": 26,
    "start_time": "2021-08-16T00:05:45.962Z"
   },
   {
    "duration": 24,
    "start_time": "2021-08-16T00:05:45.990Z"
   },
   {
    "duration": 64,
    "start_time": "2021-08-16T00:05:46.017Z"
   },
   {
    "duration": 16,
    "start_time": "2021-08-16T00:05:46.083Z"
   },
   {
    "duration": 521,
    "start_time": "2021-08-16T18:05:10.649Z"
   },
   {
    "duration": 62,
    "start_time": "2021-08-16T18:05:12.528Z"
   },
   {
    "duration": 4,
    "start_time": "2021-08-16T18:13:29.402Z"
   },
   {
    "duration": 4,
    "start_time": "2021-08-16T18:24:04.366Z"
   },
   {
    "duration": 290,
    "start_time": "2021-08-16T18:26:27.319Z"
   },
   {
    "duration": 232,
    "start_time": "2021-08-16T18:26:34.446Z"
   },
   {
    "duration": 5,
    "start_time": "2021-08-16T18:26:42.131Z"
   },
   {
    "duration": 7,
    "start_time": "2021-08-16T18:26:51.101Z"
   },
   {
    "duration": 8,
    "start_time": "2021-08-16T18:28:04.494Z"
   },
   {
    "duration": 160,
    "start_time": "2021-08-16T18:28:34.131Z"
   },
   {
    "duration": 6,
    "start_time": "2021-08-16T18:28:44.716Z"
   },
   {
    "duration": 8,
    "start_time": "2021-08-16T18:29:22.361Z"
   },
   {
    "duration": 6,
    "start_time": "2021-08-16T18:29:25.856Z"
   },
   {
    "duration": 229,
    "start_time": "2021-08-16T18:29:42.368Z"
   },
   {
    "duration": 10,
    "start_time": "2021-08-16T18:29:53.497Z"
   },
   {
    "duration": 8,
    "start_time": "2021-08-16T18:33:13.148Z"
   },
   {
    "duration": 8,
    "start_time": "2021-08-16T18:33:15.163Z"
   },
   {
    "duration": 9,
    "start_time": "2021-08-16T18:33:50.408Z"
   },
   {
    "duration": 6154,
    "start_time": "2021-08-16T18:37:04.524Z"
   },
   {
    "duration": 6231,
    "start_time": "2021-08-16T18:38:25.456Z"
   },
   {
    "duration": 7,
    "start_time": "2021-08-16T18:38:38.498Z"
   },
   {
    "duration": 9,
    "start_time": "2021-08-16T18:38:48.913Z"
   },
   {
    "duration": 7,
    "start_time": "2021-08-16T18:40:55.925Z"
   },
   {
    "duration": 9,
    "start_time": "2021-08-16T18:41:36.081Z"
   },
   {
    "duration": 4,
    "start_time": "2021-08-16T18:44:49.055Z"
   },
   {
    "duration": 241,
    "start_time": "2021-08-16T20:47:06.773Z"
   },
   {
    "duration": 574,
    "start_time": "2021-08-16T20:48:32.281Z"
   },
   {
    "duration": 64,
    "start_time": "2021-08-16T20:48:32.857Z"
   },
   {
    "duration": 9,
    "start_time": "2021-08-16T20:48:32.923Z"
   },
   {
    "duration": 11,
    "start_time": "2021-08-16T20:48:32.934Z"
   },
   {
    "duration": 13,
    "start_time": "2021-08-16T20:48:32.947Z"
   },
   {
    "duration": 34,
    "start_time": "2021-08-16T20:48:32.962Z"
   },
   {
    "duration": 13,
    "start_time": "2021-08-16T20:48:32.997Z"
   },
   {
    "duration": 5,
    "start_time": "2021-08-16T20:48:33.012Z"
   },
   {
    "duration": 7,
    "start_time": "2021-08-16T20:48:33.019Z"
   },
   {
    "duration": 6,
    "start_time": "2021-08-16T20:48:33.027Z"
   },
   {
    "duration": 6,
    "start_time": "2021-08-16T20:48:33.035Z"
   },
   {
    "duration": 8,
    "start_time": "2021-08-16T20:48:33.043Z"
   },
   {
    "duration": 43,
    "start_time": "2021-08-16T20:48:33.052Z"
   },
   {
    "duration": 14,
    "start_time": "2021-08-16T20:48:33.096Z"
   },
   {
    "duration": 9,
    "start_time": "2021-08-16T20:48:33.112Z"
   },
   {
    "duration": 10,
    "start_time": "2021-08-16T20:48:33.122Z"
   },
   {
    "duration": 11,
    "start_time": "2021-08-16T20:48:33.134Z"
   },
   {
    "duration": 9,
    "start_time": "2021-08-16T20:48:33.146Z"
   },
   {
    "duration": 13,
    "start_time": "2021-08-16T20:48:33.156Z"
   },
   {
    "duration": 249,
    "start_time": "2021-08-16T20:48:33.171Z"
   },
   {
    "duration": 8,
    "start_time": "2021-08-16T20:48:33.422Z"
   },
   {
    "duration": 4,
    "start_time": "2021-08-16T20:48:33.431Z"
   },
   {
    "duration": 4,
    "start_time": "2021-08-16T20:48:33.438Z"
   },
   {
    "duration": 15,
    "start_time": "2021-08-16T20:48:33.444Z"
   },
   {
    "duration": 8,
    "start_time": "2021-08-16T20:48:33.461Z"
   },
   {
    "duration": 7,
    "start_time": "2021-08-16T20:48:33.491Z"
   },
   {
    "duration": 8,
    "start_time": "2021-08-16T20:48:33.500Z"
   },
   {
    "duration": 7,
    "start_time": "2021-08-16T20:48:33.511Z"
   },
   {
    "duration": 11,
    "start_time": "2021-08-16T20:48:33.520Z"
   },
   {
    "duration": 8,
    "start_time": "2021-08-16T20:48:33.532Z"
   },
   {
    "duration": 4,
    "start_time": "2021-08-16T20:48:33.542Z"
   },
   {
    "duration": 48,
    "start_time": "2021-08-16T20:48:33.547Z"
   },
   {
    "duration": 270,
    "start_time": "2021-08-16T20:48:33.597Z"
   },
   {
    "duration": -583,
    "start_time": "2021-08-16T20:48:34.453Z"
   },
   {
    "duration": -598,
    "start_time": "2021-08-16T20:48:34.469Z"
   },
   {
    "duration": -606,
    "start_time": "2021-08-16T20:48:34.478Z"
   },
   {
    "duration": -618,
    "start_time": "2021-08-16T20:48:34.491Z"
   },
   {
    "duration": -631,
    "start_time": "2021-08-16T20:48:34.504Z"
   },
   {
    "duration": -640,
    "start_time": "2021-08-16T20:48:34.514Z"
   },
   {
    "duration": -651,
    "start_time": "2021-08-16T20:48:34.526Z"
   },
   {
    "duration": -662,
    "start_time": "2021-08-16T20:48:34.538Z"
   },
   {
    "duration": -673,
    "start_time": "2021-08-16T20:48:34.550Z"
   },
   {
    "duration": -681,
    "start_time": "2021-08-16T20:48:34.559Z"
   },
   {
    "duration": -692,
    "start_time": "2021-08-16T20:48:34.571Z"
   },
   {
    "duration": -703,
    "start_time": "2021-08-16T20:48:34.583Z"
   },
   {
    "duration": -710,
    "start_time": "2021-08-16T20:48:34.591Z"
   },
   {
    "duration": -722,
    "start_time": "2021-08-16T20:48:34.604Z"
   },
   {
    "duration": -731,
    "start_time": "2021-08-16T20:48:34.613Z"
   },
   {
    "duration": -743,
    "start_time": "2021-08-16T20:48:34.626Z"
   },
   {
    "duration": -755,
    "start_time": "2021-08-16T20:48:34.639Z"
   },
   {
    "duration": -767,
    "start_time": "2021-08-16T20:48:34.652Z"
   },
   {
    "duration": -775,
    "start_time": "2021-08-16T20:48:34.661Z"
   },
   {
    "duration": -787,
    "start_time": "2021-08-16T20:48:34.674Z"
   },
   {
    "duration": -800,
    "start_time": "2021-08-16T20:48:34.687Z"
   },
   {
    "duration": -808,
    "start_time": "2021-08-16T20:48:34.696Z"
   },
   {
    "duration": -818,
    "start_time": "2021-08-16T20:48:34.707Z"
   },
   {
    "duration": -829,
    "start_time": "2021-08-16T20:48:34.719Z"
   },
   {
    "duration": -838,
    "start_time": "2021-08-16T20:48:34.729Z"
   },
   {
    "duration": -850,
    "start_time": "2021-08-16T20:48:34.742Z"
   },
   {
    "duration": -861,
    "start_time": "2021-08-16T20:48:34.756Z"
   },
   {
    "duration": -872,
    "start_time": "2021-08-16T20:48:34.768Z"
   },
   {
    "duration": -880,
    "start_time": "2021-08-16T20:48:34.777Z"
   },
   {
    "duration": -892,
    "start_time": "2021-08-16T20:48:34.789Z"
   },
   {
    "duration": -899,
    "start_time": "2021-08-16T20:48:34.797Z"
   },
   {
    "duration": -912,
    "start_time": "2021-08-16T20:48:34.811Z"
   },
   {
    "duration": -925,
    "start_time": "2021-08-16T20:48:34.825Z"
   },
   {
    "duration": -938,
    "start_time": "2021-08-16T20:48:34.839Z"
   },
   {
    "duration": -945,
    "start_time": "2021-08-16T20:48:34.847Z"
   },
   {
    "duration": -960,
    "start_time": "2021-08-16T20:48:34.862Z"
   },
   {
    "duration": -971,
    "start_time": "2021-08-16T20:48:34.874Z"
   },
   {
    "duration": -982,
    "start_time": "2021-08-16T20:48:34.886Z"
   },
   {
    "duration": -997,
    "start_time": "2021-08-16T20:48:34.902Z"
   },
   {
    "duration": -1005,
    "start_time": "2021-08-16T20:48:34.910Z"
   },
   {
    "duration": -1017,
    "start_time": "2021-08-16T20:48:34.923Z"
   },
   {
    "duration": -1029,
    "start_time": "2021-08-16T20:48:34.936Z"
   },
   {
    "duration": -1037,
    "start_time": "2021-08-16T20:48:34.944Z"
   },
   {
    "duration": -1050,
    "start_time": "2021-08-16T20:48:34.958Z"
   },
   {
    "duration": -1063,
    "start_time": "2021-08-16T20:48:34.972Z"
   },
   {
    "duration": -1071,
    "start_time": "2021-08-16T20:48:34.980Z"
   },
   {
    "duration": -1082,
    "start_time": "2021-08-16T20:48:34.992Z"
   },
   {
    "duration": -1093,
    "start_time": "2021-08-16T20:48:35.004Z"
   },
   {
    "duration": -1100,
    "start_time": "2021-08-16T20:48:35.012Z"
   },
   {
    "duration": -1112,
    "start_time": "2021-08-16T20:48:35.024Z"
   },
   {
    "duration": -1123,
    "start_time": "2021-08-16T20:48:35.036Z"
   },
   {
    "duration": -1184,
    "start_time": "2021-08-16T20:48:35.098Z"
   },
   {
    "duration": -1218,
    "start_time": "2021-08-16T20:48:35.132Z"
   },
   {
    "duration": -1226,
    "start_time": "2021-08-16T20:48:35.141Z"
   },
   {
    "duration": -1249,
    "start_time": "2021-08-16T20:48:35.165Z"
   },
   {
    "duration": -1301,
    "start_time": "2021-08-16T20:48:35.218Z"
   },
   {
    "duration": -1312,
    "start_time": "2021-08-16T20:48:35.230Z"
   },
   {
    "duration": -1351,
    "start_time": "2021-08-16T20:48:35.269Z"
   },
   {
    "duration": -1359,
    "start_time": "2021-08-16T20:48:35.278Z"
   },
   {
    "duration": -1391,
    "start_time": "2021-08-16T20:48:35.311Z"
   },
   {
    "duration": -1399,
    "start_time": "2021-08-16T20:48:35.320Z"
   },
   {
    "duration": -1408,
    "start_time": "2021-08-16T20:48:35.330Z"
   },
   {
    "duration": -1422,
    "start_time": "2021-08-16T20:48:35.344Z"
   },
   {
    "duration": -1437,
    "start_time": "2021-08-16T20:48:35.360Z"
   },
   {
    "duration": -1448,
    "start_time": "2021-08-16T20:48:35.372Z"
   },
   {
    "duration": 9,
    "start_time": "2021-08-16T20:53:56.917Z"
   },
   {
    "duration": 15,
    "start_time": "2021-08-16T20:55:06.250Z"
   },
   {
    "duration": 13,
    "start_time": "2021-08-16T20:55:51.371Z"
   },
   {
    "duration": 13,
    "start_time": "2021-08-16T20:57:43.337Z"
   },
   {
    "duration": 9,
    "start_time": "2021-08-16T20:58:22.228Z"
   },
   {
    "duration": 596,
    "start_time": "2021-08-16T20:59:13.972Z"
   },
   {
    "duration": 78,
    "start_time": "2021-08-16T20:59:14.570Z"
   },
   {
    "duration": 11,
    "start_time": "2021-08-16T20:59:14.650Z"
   },
   {
    "duration": 40,
    "start_time": "2021-08-16T20:59:14.663Z"
   },
   {
    "duration": 16,
    "start_time": "2021-08-16T20:59:14.706Z"
   },
   {
    "duration": 5,
    "start_time": "2021-08-16T20:59:14.725Z"
   },
   {
    "duration": 7,
    "start_time": "2021-08-16T20:59:14.732Z"
   },
   {
    "duration": 6,
    "start_time": "2021-08-16T20:59:14.741Z"
   },
   {
    "duration": 6,
    "start_time": "2021-08-16T20:59:14.749Z"
   },
   {
    "duration": 5,
    "start_time": "2021-08-16T20:59:14.792Z"
   },
   {
    "duration": 10,
    "start_time": "2021-08-16T20:59:14.799Z"
   },
   {
    "duration": 11,
    "start_time": "2021-08-16T20:59:14.811Z"
   },
   {
    "duration": 14,
    "start_time": "2021-08-16T20:59:14.824Z"
   },
   {
    "duration": 13,
    "start_time": "2021-08-16T20:59:14.839Z"
   },
   {
    "duration": 10,
    "start_time": "2021-08-16T20:59:14.853Z"
   },
   {
    "duration": 8,
    "start_time": "2021-08-16T20:59:14.864Z"
   },
   {
    "duration": 23,
    "start_time": "2021-08-16T20:59:14.874Z"
   },
   {
    "duration": 10,
    "start_time": "2021-08-16T20:59:14.899Z"
   },
   {
    "duration": 18,
    "start_time": "2021-08-16T20:59:14.911Z"
   },
   {
    "duration": 240,
    "start_time": "2021-08-16T20:59:14.931Z"
   },
   {
    "duration": 8,
    "start_time": "2021-08-16T20:59:15.173Z"
   },
   {
    "duration": 5,
    "start_time": "2021-08-16T20:59:15.191Z"
   },
   {
    "duration": 10,
    "start_time": "2021-08-16T20:59:15.201Z"
   },
   {
    "duration": 21,
    "start_time": "2021-08-16T20:59:15.213Z"
   },
   {
    "duration": 10,
    "start_time": "2021-08-16T20:59:15.236Z"
   },
   {
    "duration": 14,
    "start_time": "2021-08-16T20:59:15.248Z"
   },
   {
    "duration": 12,
    "start_time": "2021-08-16T20:59:15.264Z"
   },
   {
    "duration": 15,
    "start_time": "2021-08-16T20:59:15.278Z"
   },
   {
    "duration": 16,
    "start_time": "2021-08-16T20:59:15.296Z"
   },
   {
    "duration": 15,
    "start_time": "2021-08-16T20:59:15.314Z"
   },
   {
    "duration": 12,
    "start_time": "2021-08-16T20:59:15.330Z"
   },
   {
    "duration": 24,
    "start_time": "2021-08-16T20:59:15.343Z"
   },
   {
    "duration": 7,
    "start_time": "2021-08-16T20:59:15.369Z"
   },
   {
    "duration": 17,
    "start_time": "2021-08-16T20:59:15.377Z"
   },
   {
    "duration": 37,
    "start_time": "2021-08-16T20:59:15.396Z"
   },
   {
    "duration": 242,
    "start_time": "2021-08-16T20:59:15.434Z"
   },
   {
    "duration": 16,
    "start_time": "2021-08-16T20:59:15.677Z"
   },
   {
    "duration": 7,
    "start_time": "2021-08-16T20:59:15.695Z"
   },
   {
    "duration": 8,
    "start_time": "2021-08-16T20:59:15.704Z"
   },
   {
    "duration": 5,
    "start_time": "2021-08-16T20:59:15.714Z"
   },
   {
    "duration": 12,
    "start_time": "2021-08-16T20:59:15.720Z"
   },
   {
    "duration": 251,
    "start_time": "2021-08-16T20:59:15.734Z"
   },
   {
    "duration": 12,
    "start_time": "2021-08-16T20:59:15.987Z"
   },
   {
    "duration": 247,
    "start_time": "2021-08-16T20:59:16.001Z"
   },
   {
    "duration": 6,
    "start_time": "2021-08-16T20:59:16.249Z"
   },
   {
    "duration": 18,
    "start_time": "2021-08-16T20:59:16.257Z"
   },
   {
    "duration": 16,
    "start_time": "2021-08-16T20:59:16.277Z"
   },
   {
    "duration": 20,
    "start_time": "2021-08-16T20:59:16.295Z"
   },
   {
    "duration": 13,
    "start_time": "2021-08-16T20:59:16.317Z"
   },
   {
    "duration": 6,
    "start_time": "2021-08-16T20:59:16.332Z"
   },
   {
    "duration": 24,
    "start_time": "2021-08-16T20:59:16.340Z"
   },
   {
    "duration": 28,
    "start_time": "2021-08-16T20:59:16.365Z"
   },
   {
    "duration": 7,
    "start_time": "2021-08-16T20:59:16.395Z"
   },
   {
    "duration": 21,
    "start_time": "2021-08-16T20:59:16.404Z"
   },
   {
    "duration": 16,
    "start_time": "2021-08-16T20:59:16.427Z"
   },
   {
    "duration": 11,
    "start_time": "2021-08-16T20:59:16.444Z"
   },
   {
    "duration": 26,
    "start_time": "2021-08-16T20:59:16.456Z"
   },
   {
    "duration": 22,
    "start_time": "2021-08-16T20:59:16.483Z"
   },
   {
    "duration": 21,
    "start_time": "2021-08-16T20:59:16.507Z"
   },
   {
    "duration": 250,
    "start_time": "2021-08-16T20:59:16.529Z"
   },
   {
    "duration": 19,
    "start_time": "2021-08-16T20:59:16.781Z"
   },
   {
    "duration": 14,
    "start_time": "2021-08-16T20:59:16.804Z"
   },
   {
    "duration": 12,
    "start_time": "2021-08-16T20:59:16.819Z"
   },
   {
    "duration": 5,
    "start_time": "2021-08-16T20:59:16.833Z"
   },
   {
    "duration": 10,
    "start_time": "2021-08-16T20:59:16.839Z"
   },
   {
    "duration": 51,
    "start_time": "2021-08-16T20:59:16.851Z"
   },
   {
    "duration": 7,
    "start_time": "2021-08-16T20:59:16.904Z"
   },
   {
    "duration": 14,
    "start_time": "2021-08-16T20:59:16.917Z"
   },
   {
    "duration": 12,
    "start_time": "2021-08-16T20:59:16.933Z"
   },
   {
    "duration": 20,
    "start_time": "2021-08-16T20:59:16.946Z"
   },
   {
    "duration": 14,
    "start_time": "2021-08-16T20:59:16.967Z"
   },
   {
    "duration": 23,
    "start_time": "2021-08-16T20:59:16.991Z"
   },
   {
    "duration": 9,
    "start_time": "2021-08-16T20:59:17.016Z"
   },
   {
    "duration": 1247,
    "start_time": "2021-08-16T20:59:17.027Z"
   },
   {
    "duration": 15,
    "start_time": "2021-08-16T20:59:18.276Z"
   },
   {
    "duration": 6,
    "start_time": "2021-08-16T20:59:18.293Z"
   },
   {
    "duration": 11,
    "start_time": "2021-08-16T20:59:18.301Z"
   },
   {
    "duration": 15,
    "start_time": "2021-08-16T20:59:18.314Z"
   },
   {
    "duration": 5,
    "start_time": "2021-08-16T20:59:18.331Z"
   },
   {
    "duration": 2,
    "start_time": "2021-08-16T20:59:18.338Z"
   },
   {
    "duration": 11,
    "start_time": "2021-08-16T20:59:18.342Z"
   },
   {
    "duration": 9,
    "start_time": "2021-08-16T20:59:18.354Z"
   },
   {
    "duration": 28,
    "start_time": "2021-08-16T20:59:18.364Z"
   },
   {
    "duration": 8,
    "start_time": "2021-08-16T20:59:18.394Z"
   },
   {
    "duration": 1565,
    "start_time": "2021-08-16T20:59:18.404Z"
   },
   {
    "duration": 25,
    "start_time": "2021-08-16T20:59:19.971Z"
   },
   {
    "duration": 10,
    "start_time": "2021-08-16T20:59:19.999Z"
   },
   {
    "duration": 22,
    "start_time": "2021-08-16T20:59:20.011Z"
   },
   {
    "duration": 3,
    "start_time": "2021-08-16T20:59:20.034Z"
   },
   {
    "duration": 17,
    "start_time": "2021-08-16T20:59:20.038Z"
   },
   {
    "duration": 41,
    "start_time": "2021-08-16T20:59:20.056Z"
   },
   {
    "duration": 17,
    "start_time": "2021-08-16T20:59:20.099Z"
   },
   {
    "duration": 20,
    "start_time": "2021-08-16T20:59:20.118Z"
   },
   {
    "duration": 13,
    "start_time": "2021-08-16T20:59:20.139Z"
   },
   {
    "duration": 40,
    "start_time": "2021-08-16T20:59:20.153Z"
   },
   {
    "duration": 19,
    "start_time": "2021-08-16T20:59:20.196Z"
   },
   {
    "duration": 18,
    "start_time": "2021-08-16T20:59:20.217Z"
   },
   {
    "duration": 5,
    "start_time": "2021-08-16T20:59:20.236Z"
   },
   {
    "duration": 5962,
    "start_time": "2021-08-16T21:00:50.997Z"
   },
   {
    "duration": 590,
    "start_time": "2021-08-16T21:02:39.308Z"
   },
   {
    "duration": 63,
    "start_time": "2021-08-16T21:02:39.900Z"
   },
   {
    "duration": 9,
    "start_time": "2021-08-16T21:02:39.965Z"
   },
   {
    "duration": 14,
    "start_time": "2021-08-16T21:02:39.993Z"
   },
   {
    "duration": 22,
    "start_time": "2021-08-16T21:02:40.009Z"
   },
   {
    "duration": 5,
    "start_time": "2021-08-16T21:02:40.033Z"
   },
   {
    "duration": 9,
    "start_time": "2021-08-16T21:02:40.039Z"
   },
   {
    "duration": 7,
    "start_time": "2021-08-16T21:02:40.050Z"
   },
   {
    "duration": 37,
    "start_time": "2021-08-16T21:02:40.059Z"
   },
   {
    "duration": 12,
    "start_time": "2021-08-16T21:02:40.098Z"
   },
   {
    "duration": 5,
    "start_time": "2021-08-16T21:02:40.112Z"
   },
   {
    "duration": 8,
    "start_time": "2021-08-16T21:02:40.118Z"
   },
   {
    "duration": 12,
    "start_time": "2021-08-16T21:02:40.127Z"
   },
   {
    "duration": 14,
    "start_time": "2021-08-16T21:02:40.141Z"
   },
   {
    "duration": 14,
    "start_time": "2021-08-16T21:02:40.156Z"
   },
   {
    "duration": 23,
    "start_time": "2021-08-16T21:02:40.171Z"
   },
   {
    "duration": 9,
    "start_time": "2021-08-16T21:02:40.195Z"
   },
   {
    "duration": 8,
    "start_time": "2021-08-16T21:02:40.206Z"
   },
   {
    "duration": 16,
    "start_time": "2021-08-16T21:02:40.216Z"
   },
   {
    "duration": 227,
    "start_time": "2021-08-16T21:02:40.233Z"
   },
   {
    "duration": 9,
    "start_time": "2021-08-16T21:02:40.461Z"
   },
   {
    "duration": 3,
    "start_time": "2021-08-16T21:02:40.471Z"
   },
   {
    "duration": 4,
    "start_time": "2021-08-16T21:02:40.494Z"
   },
   {
    "duration": 30,
    "start_time": "2021-08-16T21:02:40.500Z"
   },
   {
    "duration": 9,
    "start_time": "2021-08-16T21:02:40.532Z"
   },
   {
    "duration": 13,
    "start_time": "2021-08-16T21:02:40.543Z"
   },
   {
    "duration": 5,
    "start_time": "2021-08-16T21:02:40.558Z"
   },
   {
    "duration": 8,
    "start_time": "2021-08-16T21:02:40.564Z"
   },
   {
    "duration": 11,
    "start_time": "2021-08-16T21:02:40.574Z"
   },
   {
    "duration": 8,
    "start_time": "2021-08-16T21:02:40.592Z"
   },
   {
    "duration": 5,
    "start_time": "2021-08-16T21:02:40.602Z"
   },
   {
    "duration": 20,
    "start_time": "2021-08-16T21:02:40.610Z"
   },
   {
    "duration": 12,
    "start_time": "2021-08-16T21:02:40.632Z"
   },
   {
    "duration": 7,
    "start_time": "2021-08-16T21:02:40.646Z"
   },
   {
    "duration": 5,
    "start_time": "2021-08-16T21:02:40.692Z"
   },
   {
    "duration": 28,
    "start_time": "2021-08-16T21:02:40.700Z"
   },
   {
    "duration": 248,
    "start_time": "2021-08-16T21:02:40.729Z"
   },
   {
    "duration": 14,
    "start_time": "2021-08-16T21:02:40.978Z"
   },
   {
    "duration": 7,
    "start_time": "2021-08-16T21:02:40.994Z"
   },
   {
    "duration": 4,
    "start_time": "2021-08-16T21:02:41.003Z"
   },
   {
    "duration": 5,
    "start_time": "2021-08-16T21:02:41.009Z"
   },
   {
    "duration": 6,
    "start_time": "2021-08-16T21:02:41.016Z"
   },
   {
    "duration": 240,
    "start_time": "2021-08-16T21:02:41.023Z"
   },
   {
    "duration": 7,
    "start_time": "2021-08-16T21:02:41.265Z"
   },
   {
    "duration": 239,
    "start_time": "2021-08-16T21:02:41.273Z"
   },
   {
    "duration": 6,
    "start_time": "2021-08-16T21:02:41.514Z"
   },
   {
    "duration": 20,
    "start_time": "2021-08-16T21:02:41.522Z"
   },
   {
    "duration": 5,
    "start_time": "2021-08-16T21:02:41.543Z"
   },
   {
    "duration": 16,
    "start_time": "2021-08-16T21:02:41.550Z"
   },
   {
    "duration": 37,
    "start_time": "2021-08-16T21:02:41.567Z"
   },
   {
    "duration": 8,
    "start_time": "2021-08-16T21:02:41.606Z"
   },
   {
    "duration": 17,
    "start_time": "2021-08-16T21:02:41.615Z"
   },
   {
    "duration": 17,
    "start_time": "2021-08-16T21:02:41.633Z"
   },
   {
    "duration": 6,
    "start_time": "2021-08-16T21:02:41.652Z"
   },
   {
    "duration": 49,
    "start_time": "2021-08-16T21:02:41.659Z"
   },
   {
    "duration": 13,
    "start_time": "2021-08-16T21:02:41.710Z"
   },
   {
    "duration": 11,
    "start_time": "2021-08-16T21:02:41.725Z"
   },
   {
    "duration": 18,
    "start_time": "2021-08-16T21:02:41.738Z"
   },
   {
    "duration": 48,
    "start_time": "2021-08-16T21:02:41.758Z"
   },
   {
    "duration": 11,
    "start_time": "2021-08-16T21:02:41.807Z"
   },
   {
    "duration": 242,
    "start_time": "2021-08-16T21:02:41.819Z"
   },
   {
    "duration": 12,
    "start_time": "2021-08-16T21:02:42.063Z"
   },
   {
    "duration": 21,
    "start_time": "2021-08-16T21:02:42.076Z"
   },
   {
    "duration": 15,
    "start_time": "2021-08-16T21:02:42.099Z"
   },
   {
    "duration": 6,
    "start_time": "2021-08-16T21:02:42.116Z"
   },
   {
    "duration": 8,
    "start_time": "2021-08-16T21:02:42.123Z"
   },
   {
    "duration": 59,
    "start_time": "2021-08-16T21:02:42.132Z"
   },
   {
    "duration": 10,
    "start_time": "2021-08-16T21:02:42.198Z"
   },
   {
    "duration": 8,
    "start_time": "2021-08-16T21:02:42.211Z"
   },
   {
    "duration": 4,
    "start_time": "2021-08-16T21:02:42.220Z"
   },
   {
    "duration": 16,
    "start_time": "2021-08-16T21:02:42.226Z"
   },
   {
    "duration": 13,
    "start_time": "2021-08-16T21:02:42.243Z"
   },
   {
    "duration": 44,
    "start_time": "2021-08-16T21:02:42.257Z"
   },
   {
    "duration": 8,
    "start_time": "2021-08-16T21:02:42.303Z"
   },
   {
    "duration": 1141,
    "start_time": "2021-08-16T21:02:42.313Z"
   },
   {
    "duration": 6,
    "start_time": "2021-08-16T21:02:43.456Z"
   },
   {
    "duration": 12,
    "start_time": "2021-08-16T21:02:43.464Z"
   },
   {
    "duration": 14,
    "start_time": "2021-08-16T21:02:43.478Z"
   },
   {
    "duration": 19,
    "start_time": "2021-08-16T21:02:43.494Z"
   },
   {
    "duration": 10,
    "start_time": "2021-08-16T21:02:43.515Z"
   },
   {
    "duration": 8,
    "start_time": "2021-08-16T21:02:43.526Z"
   },
   {
    "duration": 13,
    "start_time": "2021-08-16T21:02:43.536Z"
   },
   {
    "duration": 3,
    "start_time": "2021-08-16T21:02:43.551Z"
   },
   {
    "duration": 10,
    "start_time": "2021-08-16T21:02:43.556Z"
   },
   {
    "duration": 10,
    "start_time": "2021-08-16T21:02:43.567Z"
   },
   {
    "duration": 1550,
    "start_time": "2021-08-16T21:02:43.579Z"
   },
   {
    "duration": 16,
    "start_time": "2021-08-16T21:02:45.131Z"
   },
   {
    "duration": 9,
    "start_time": "2021-08-16T21:02:45.148Z"
   },
   {
    "duration": 36,
    "start_time": "2021-08-16T21:02:45.158Z"
   },
   {
    "duration": 4,
    "start_time": "2021-08-16T21:02:45.196Z"
   },
   {
    "duration": 16,
    "start_time": "2021-08-16T21:02:45.202Z"
   },
   {
    "duration": 14,
    "start_time": "2021-08-16T21:02:45.220Z"
   },
   {
    "duration": 14,
    "start_time": "2021-08-16T21:02:45.235Z"
   },
   {
    "duration": 44,
    "start_time": "2021-08-16T21:02:45.250Z"
   },
   {
    "duration": 16,
    "start_time": "2021-08-16T21:02:45.295Z"
   },
   {
    "duration": 15,
    "start_time": "2021-08-16T21:02:45.312Z"
   },
   {
    "duration": 14,
    "start_time": "2021-08-16T21:02:45.329Z"
   },
   {
    "duration": 49,
    "start_time": "2021-08-16T21:02:45.344Z"
   },
   {
    "duration": 7,
    "start_time": "2021-08-16T21:02:45.395Z"
   },
   {
    "duration": 577,
    "start_time": "2021-08-16T21:09:48.758Z"
   },
   {
    "duration": 65,
    "start_time": "2021-08-16T21:09:49.337Z"
   },
   {
    "duration": 9,
    "start_time": "2021-08-16T21:09:49.405Z"
   },
   {
    "duration": 12,
    "start_time": "2021-08-16T21:09:49.416Z"
   },
   {
    "duration": 14,
    "start_time": "2021-08-16T21:09:49.429Z"
   },
   {
    "duration": 4,
    "start_time": "2021-08-16T21:09:49.445Z"
   },
   {
    "duration": 45,
    "start_time": "2021-08-16T21:09:49.451Z"
   },
   {
    "duration": 6,
    "start_time": "2021-08-16T21:09:49.498Z"
   },
   {
    "duration": 6,
    "start_time": "2021-08-16T21:09:49.506Z"
   },
   {
    "duration": 6,
    "start_time": "2021-08-16T21:09:49.513Z"
   },
   {
    "duration": 6,
    "start_time": "2021-08-16T21:09:49.520Z"
   },
   {
    "duration": 9,
    "start_time": "2021-08-16T21:09:49.527Z"
   },
   {
    "duration": 15,
    "start_time": "2021-08-16T21:09:49.537Z"
   },
   {
    "duration": 6,
    "start_time": "2021-08-16T21:09:49.591Z"
   },
   {
    "duration": 8,
    "start_time": "2021-08-16T21:09:49.599Z"
   },
   {
    "duration": 5,
    "start_time": "2021-08-16T21:09:49.609Z"
   },
   {
    "duration": 11,
    "start_time": "2021-08-16T21:09:49.616Z"
   },
   {
    "duration": 9,
    "start_time": "2021-08-16T21:09:49.628Z"
   },
   {
    "duration": 10,
    "start_time": "2021-08-16T21:09:49.639Z"
   },
   {
    "duration": 236,
    "start_time": "2021-08-16T21:09:49.651Z"
   },
   {
    "duration": 11,
    "start_time": "2021-08-16T21:09:49.888Z"
   },
   {
    "duration": 4,
    "start_time": "2021-08-16T21:09:49.900Z"
   },
   {
    "duration": 3,
    "start_time": "2021-08-16T21:09:49.907Z"
   },
   {
    "duration": 9,
    "start_time": "2021-08-16T21:09:49.912Z"
   },
   {
    "duration": 9,
    "start_time": "2021-08-16T21:09:49.923Z"
   },
   {
    "duration": 8,
    "start_time": "2021-08-16T21:09:49.933Z"
   },
   {
    "duration": 7,
    "start_time": "2021-08-16T21:09:49.943Z"
   },
   {
    "duration": 42,
    "start_time": "2021-08-16T21:09:49.951Z"
   },
   {
    "duration": 10,
    "start_time": "2021-08-16T21:09:49.995Z"
   },
   {
    "duration": 8,
    "start_time": "2021-08-16T21:09:50.006Z"
   },
   {
    "duration": 7,
    "start_time": "2021-08-16T21:09:50.015Z"
   },
   {
    "duration": 20,
    "start_time": "2021-08-16T21:09:50.023Z"
   },
   {
    "duration": 13,
    "start_time": "2021-08-16T21:09:50.044Z"
   },
   {
    "duration": 41,
    "start_time": "2021-08-16T21:09:50.058Z"
   },
   {
    "duration": 3,
    "start_time": "2021-08-16T21:09:50.101Z"
   },
   {
    "duration": 30,
    "start_time": "2021-08-16T21:09:50.105Z"
   },
   {
    "duration": 239,
    "start_time": "2021-08-16T21:09:50.137Z"
   },
   {
    "duration": 14,
    "start_time": "2021-08-16T21:09:50.377Z"
   },
   {
    "duration": 5,
    "start_time": "2021-08-16T21:09:50.393Z"
   },
   {
    "duration": 6,
    "start_time": "2021-08-16T21:09:50.399Z"
   },
   {
    "duration": 6,
    "start_time": "2021-08-16T21:09:50.407Z"
   },
   {
    "duration": 15,
    "start_time": "2021-08-16T21:09:50.415Z"
   },
   {
    "duration": 221,
    "start_time": "2021-08-16T21:09:50.431Z"
   },
   {
    "duration": 8,
    "start_time": "2021-08-16T21:09:50.653Z"
   },
   {
    "duration": 225,
    "start_time": "2021-08-16T21:09:50.663Z"
   },
   {
    "duration": 6,
    "start_time": "2021-08-16T21:09:50.890Z"
   },
   {
    "duration": 17,
    "start_time": "2021-08-16T21:09:50.897Z"
   },
   {
    "duration": 6,
    "start_time": "2021-08-16T21:09:50.916Z"
   },
   {
    "duration": 16,
    "start_time": "2021-08-16T21:09:50.924Z"
   },
   {
    "duration": 13,
    "start_time": "2021-08-16T21:09:50.941Z"
   },
   {
    "duration": 40,
    "start_time": "2021-08-16T21:09:50.955Z"
   },
   {
    "duration": 13,
    "start_time": "2021-08-16T21:09:50.997Z"
   },
   {
    "duration": 13,
    "start_time": "2021-08-16T21:09:51.011Z"
   },
   {
    "duration": 7,
    "start_time": "2021-08-16T21:09:51.025Z"
   },
   {
    "duration": 17,
    "start_time": "2021-08-16T21:09:51.033Z"
   },
   {
    "duration": 47,
    "start_time": "2021-08-16T21:09:51.052Z"
   },
   {
    "duration": 12,
    "start_time": "2021-08-16T21:09:51.100Z"
   },
   {
    "duration": 13,
    "start_time": "2021-08-16T21:09:51.114Z"
   },
   {
    "duration": 13,
    "start_time": "2021-08-16T21:09:51.128Z"
   },
   {
    "duration": 11,
    "start_time": "2021-08-16T21:09:51.143Z"
   },
   {
    "duration": 219,
    "start_time": "2021-08-16T21:09:51.192Z"
   },
   {
    "duration": 11,
    "start_time": "2021-08-16T21:09:51.413Z"
   },
   {
    "duration": 8,
    "start_time": "2021-08-16T21:09:51.425Z"
   },
   {
    "duration": 24,
    "start_time": "2021-08-16T21:09:51.434Z"
   },
   {
    "duration": 5,
    "start_time": "2021-08-16T21:09:51.460Z"
   },
   {
    "duration": 8,
    "start_time": "2021-08-16T21:09:51.466Z"
   },
   {
    "duration": 29,
    "start_time": "2021-08-16T21:09:51.492Z"
   },
   {
    "duration": 6,
    "start_time": "2021-08-16T21:09:51.527Z"
   },
   {
    "duration": 7,
    "start_time": "2021-08-16T21:09:51.535Z"
   },
   {
    "duration": 8,
    "start_time": "2021-08-16T21:09:51.543Z"
   },
   {
    "duration": 42,
    "start_time": "2021-08-16T21:09:51.552Z"
   },
   {
    "duration": 13,
    "start_time": "2021-08-16T21:09:51.595Z"
   },
   {
    "duration": 13,
    "start_time": "2021-08-16T21:09:51.610Z"
   },
   {
    "duration": 7,
    "start_time": "2021-08-16T21:09:51.625Z"
   },
   {
    "duration": 1180,
    "start_time": "2021-08-16T21:09:51.633Z"
   },
   {
    "duration": 7,
    "start_time": "2021-08-16T21:09:52.814Z"
   },
   {
    "duration": 7,
    "start_time": "2021-08-16T21:09:52.822Z"
   },
   {
    "duration": 20,
    "start_time": "2021-08-16T21:09:52.830Z"
   },
   {
    "duration": 10,
    "start_time": "2021-08-16T21:09:52.852Z"
   },
   {
    "duration": 6,
    "start_time": "2021-08-16T21:09:52.863Z"
   },
   {
    "duration": 4,
    "start_time": "2021-08-16T21:09:52.871Z"
   },
   {
    "duration": 19,
    "start_time": "2021-08-16T21:09:52.876Z"
   },
   {
    "duration": 2,
    "start_time": "2021-08-16T21:09:52.896Z"
   },
   {
    "duration": 11,
    "start_time": "2021-08-16T21:09:52.900Z"
   },
   {
    "duration": 12,
    "start_time": "2021-08-16T21:09:52.912Z"
   },
   {
    "duration": 1452,
    "start_time": "2021-08-16T21:09:52.926Z"
   },
   {
    "duration": 20,
    "start_time": "2021-08-16T21:09:54.380Z"
   },
   {
    "duration": 6,
    "start_time": "2021-08-16T21:09:54.402Z"
   },
   {
    "duration": 19,
    "start_time": "2021-08-16T21:09:54.410Z"
   },
   {
    "duration": 3,
    "start_time": "2021-08-16T21:09:54.430Z"
   },
   {
    "duration": 17,
    "start_time": "2021-08-16T21:09:54.434Z"
   },
   {
    "duration": 42,
    "start_time": "2021-08-16T21:09:54.452Z"
   },
   {
    "duration": 14,
    "start_time": "2021-08-16T21:09:54.495Z"
   },
   {
    "duration": 15,
    "start_time": "2021-08-16T21:09:54.510Z"
   },
   {
    "duration": 13,
    "start_time": "2021-08-16T21:09:54.526Z"
   },
   {
    "duration": 51,
    "start_time": "2021-08-16T21:09:54.540Z"
   },
   {
    "duration": 14,
    "start_time": "2021-08-16T21:09:54.593Z"
   },
   {
    "duration": 13,
    "start_time": "2021-08-16T21:09:54.609Z"
   },
   {
    "duration": 5,
    "start_time": "2021-08-16T21:09:54.624Z"
   },
   {
    "duration": 5950,
    "start_time": "2021-08-16T21:12:10.214Z"
   },
   {
    "duration": 571,
    "start_time": "2021-08-16T21:12:42.895Z"
   },
   {
    "duration": 80,
    "start_time": "2021-08-16T21:12:43.467Z"
   },
   {
    "duration": 9,
    "start_time": "2021-08-16T21:12:43.549Z"
   },
   {
    "duration": 10,
    "start_time": "2021-08-16T21:12:43.560Z"
   },
   {
    "duration": 21,
    "start_time": "2021-08-16T21:12:43.572Z"
   },
   {
    "duration": 5,
    "start_time": "2021-08-16T21:12:43.594Z"
   },
   {
    "duration": 11,
    "start_time": "2021-08-16T21:12:43.600Z"
   },
   {
    "duration": 5,
    "start_time": "2021-08-16T21:12:43.613Z"
   },
   {
    "duration": 6,
    "start_time": "2021-08-16T21:12:43.619Z"
   },
   {
    "duration": 9,
    "start_time": "2021-08-16T21:12:43.627Z"
   },
   {
    "duration": 10,
    "start_time": "2021-08-16T21:12:43.638Z"
   },
   {
    "duration": 8,
    "start_time": "2021-08-16T21:12:43.650Z"
   },
   {
    "duration": 35,
    "start_time": "2021-08-16T21:12:43.660Z"
   },
   {
    "duration": 8,
    "start_time": "2021-08-16T21:12:43.696Z"
   },
   {
    "duration": 9,
    "start_time": "2021-08-16T21:12:43.705Z"
   },
   {
    "duration": 11,
    "start_time": "2021-08-16T21:12:43.715Z"
   },
   {
    "duration": 11,
    "start_time": "2021-08-16T21:12:43.727Z"
   },
   {
    "duration": 9,
    "start_time": "2021-08-16T21:12:43.739Z"
   },
   {
    "duration": 12,
    "start_time": "2021-08-16T21:12:43.749Z"
   },
   {
    "duration": 223,
    "start_time": "2021-08-16T21:12:43.762Z"
   },
   {
    "duration": 11,
    "start_time": "2021-08-16T21:12:43.986Z"
   },
   {
    "duration": 3,
    "start_time": "2021-08-16T21:12:43.999Z"
   },
   {
    "duration": 3,
    "start_time": "2021-08-16T21:12:44.005Z"
   },
   {
    "duration": 12,
    "start_time": "2021-08-16T21:12:44.010Z"
   },
   {
    "duration": 9,
    "start_time": "2021-08-16T21:12:44.024Z"
   },
   {
    "duration": 9,
    "start_time": "2021-08-16T21:12:44.034Z"
   },
   {
    "duration": 7,
    "start_time": "2021-08-16T21:12:44.044Z"
   },
   {
    "duration": 39,
    "start_time": "2021-08-16T21:12:44.053Z"
   },
   {
    "duration": 7,
    "start_time": "2021-08-16T21:12:44.094Z"
   },
   {
    "duration": 9,
    "start_time": "2021-08-16T21:12:44.102Z"
   },
   {
    "duration": 5,
    "start_time": "2021-08-16T21:12:44.112Z"
   },
   {
    "duration": 17,
    "start_time": "2021-08-16T21:12:44.118Z"
   },
   {
    "duration": 13,
    "start_time": "2021-08-16T21:12:44.137Z"
   },
   {
    "duration": 11,
    "start_time": "2021-08-16T21:12:44.191Z"
   },
   {
    "duration": 22,
    "start_time": "2021-08-16T21:12:44.204Z"
   },
   {
    "duration": 5,
    "start_time": "2021-08-16T21:12:44.227Z"
   },
   {
    "duration": 27,
    "start_time": "2021-08-16T21:12:44.233Z"
   },
   {
    "duration": 244,
    "start_time": "2021-08-16T21:12:44.261Z"
   },
   {
    "duration": 8,
    "start_time": "2021-08-16T21:12:44.506Z"
   },
   {
    "duration": 5,
    "start_time": "2021-08-16T21:12:44.515Z"
   },
   {
    "duration": 5,
    "start_time": "2021-08-16T21:12:44.522Z"
   },
   {
    "duration": 4,
    "start_time": "2021-08-16T21:12:44.528Z"
   },
   {
    "duration": 6,
    "start_time": "2021-08-16T21:12:44.533Z"
   },
   {
    "duration": 246,
    "start_time": "2021-08-16T21:12:44.541Z"
   },
   {
    "duration": 7,
    "start_time": "2021-08-16T21:12:44.791Z"
   },
   {
    "duration": 229,
    "start_time": "2021-08-16T21:12:44.800Z"
   },
   {
    "duration": 6,
    "start_time": "2021-08-16T21:12:45.031Z"
   },
   {
    "duration": 25,
    "start_time": "2021-08-16T21:12:45.038Z"
   },
   {
    "duration": 6,
    "start_time": "2021-08-16T21:12:45.064Z"
   },
   {
    "duration": 33,
    "start_time": "2021-08-16T21:12:45.071Z"
   },
   {
    "duration": 15,
    "start_time": "2021-08-16T21:12:45.106Z"
   },
   {
    "duration": 6,
    "start_time": "2021-08-16T21:12:45.123Z"
   },
   {
    "duration": 16,
    "start_time": "2021-08-16T21:12:45.130Z"
   },
   {
    "duration": 12,
    "start_time": "2021-08-16T21:12:45.148Z"
   },
   {
    "duration": 11,
    "start_time": "2021-08-16T21:12:45.162Z"
   },
   {
    "duration": 30,
    "start_time": "2021-08-16T21:12:45.174Z"
   },
   {
    "duration": 13,
    "start_time": "2021-08-16T21:12:45.205Z"
   },
   {
    "duration": 13,
    "start_time": "2021-08-16T21:12:45.219Z"
   },
   {
    "duration": 12,
    "start_time": "2021-08-16T21:12:45.233Z"
   },
   {
    "duration": 18,
    "start_time": "2021-08-16T21:12:45.246Z"
   },
   {
    "duration": 33,
    "start_time": "2021-08-16T21:12:45.265Z"
   },
   {
    "duration": 221,
    "start_time": "2021-08-16T21:12:45.299Z"
   },
   {
    "duration": 11,
    "start_time": "2021-08-16T21:12:45.522Z"
   },
   {
    "duration": 9,
    "start_time": "2021-08-16T21:12:45.534Z"
   },
   {
    "duration": 9,
    "start_time": "2021-08-16T21:12:45.544Z"
   },
   {
    "duration": 11,
    "start_time": "2021-08-16T21:12:45.555Z"
   },
   {
    "duration": 27,
    "start_time": "2021-08-16T21:12:45.568Z"
   },
   {
    "duration": 27,
    "start_time": "2021-08-16T21:12:45.600Z"
   },
   {
    "duration": 6,
    "start_time": "2021-08-16T21:12:45.629Z"
   },
   {
    "duration": 11,
    "start_time": "2021-08-16T21:12:45.636Z"
   },
   {
    "duration": 10,
    "start_time": "2021-08-16T21:12:45.648Z"
   },
   {
    "duration": 33,
    "start_time": "2021-08-16T21:12:45.659Z"
   },
   {
    "duration": 13,
    "start_time": "2021-08-16T21:12:45.694Z"
   },
   {
    "duration": 18,
    "start_time": "2021-08-16T21:12:45.708Z"
   },
   {
    "duration": 6,
    "start_time": "2021-08-16T21:12:45.728Z"
   },
   {
    "duration": 1165,
    "start_time": "2021-08-16T21:12:45.736Z"
   },
   {
    "duration": 6,
    "start_time": "2021-08-16T21:12:46.903Z"
   },
   {
    "duration": 6,
    "start_time": "2021-08-16T21:12:46.911Z"
   },
   {
    "duration": 11,
    "start_time": "2021-08-16T21:12:46.918Z"
   },
   {
    "duration": 28,
    "start_time": "2021-08-16T21:12:46.930Z"
   },
   {
    "duration": 18,
    "start_time": "2021-08-16T21:12:46.959Z"
   },
   {
    "duration": 8,
    "start_time": "2021-08-16T21:12:46.978Z"
   },
   {
    "duration": 23,
    "start_time": "2021-08-16T21:12:46.987Z"
   },
   {
    "duration": 8,
    "start_time": "2021-08-16T21:12:47.011Z"
   },
   {
    "duration": 16,
    "start_time": "2021-08-16T21:12:47.021Z"
   },
   {
    "duration": 19,
    "start_time": "2021-08-16T21:12:47.039Z"
   },
   {
    "duration": 1367,
    "start_time": "2021-08-16T21:12:47.059Z"
   },
   {
    "duration": 15,
    "start_time": "2021-08-16T21:12:48.427Z"
   },
   {
    "duration": 11,
    "start_time": "2021-08-16T21:12:48.444Z"
   },
   {
    "duration": 35,
    "start_time": "2021-08-16T21:12:48.456Z"
   },
   {
    "duration": 3,
    "start_time": "2021-08-16T21:12:48.492Z"
   },
   {
    "duration": 18,
    "start_time": "2021-08-16T21:12:48.496Z"
   },
   {
    "duration": 14,
    "start_time": "2021-08-16T21:12:48.515Z"
   },
   {
    "duration": 13,
    "start_time": "2021-08-16T21:12:48.530Z"
   },
   {
    "duration": 13,
    "start_time": "2021-08-16T21:12:48.545Z"
   },
   {
    "duration": 42,
    "start_time": "2021-08-16T21:12:48.559Z"
   },
   {
    "duration": 18,
    "start_time": "2021-08-16T21:12:48.602Z"
   },
   {
    "duration": 13,
    "start_time": "2021-08-16T21:12:48.621Z"
   },
   {
    "duration": 15,
    "start_time": "2021-08-16T21:12:48.635Z"
   },
   {
    "duration": 5,
    "start_time": "2021-08-16T21:12:48.651Z"
   },
   {
    "duration": 5704,
    "start_time": "2021-08-16T21:31:08.188Z"
   },
   {
    "duration": 591,
    "start_time": "2021-08-16T21:31:31.467Z"
   },
   {
    "duration": 76,
    "start_time": "2021-08-16T21:31:32.060Z"
   },
   {
    "duration": 9,
    "start_time": "2021-08-16T21:31:32.138Z"
   },
   {
    "duration": 11,
    "start_time": "2021-08-16T21:31:32.149Z"
   },
   {
    "duration": 39,
    "start_time": "2021-08-16T21:31:32.161Z"
   },
   {
    "duration": 6,
    "start_time": "2021-08-16T21:31:32.202Z"
   },
   {
    "duration": 8,
    "start_time": "2021-08-16T21:31:32.210Z"
   },
   {
    "duration": 7,
    "start_time": "2021-08-16T21:31:32.222Z"
   },
   {
    "duration": 9,
    "start_time": "2021-08-16T21:31:32.231Z"
   },
   {
    "duration": 9,
    "start_time": "2021-08-16T21:31:32.242Z"
   },
   {
    "duration": 6,
    "start_time": "2021-08-16T21:31:32.252Z"
   },
   {
    "duration": 12,
    "start_time": "2021-08-16T21:31:32.292Z"
   },
   {
    "duration": 13,
    "start_time": "2021-08-16T21:31:32.305Z"
   },
   {
    "duration": 9,
    "start_time": "2021-08-16T21:31:32.319Z"
   },
   {
    "duration": 10,
    "start_time": "2021-08-16T21:31:32.330Z"
   },
   {
    "duration": 11,
    "start_time": "2021-08-16T21:31:32.341Z"
   },
   {
    "duration": 9,
    "start_time": "2021-08-16T21:31:32.353Z"
   },
   {
    "duration": 9,
    "start_time": "2021-08-16T21:31:32.363Z"
   },
   {
    "duration": 25,
    "start_time": "2021-08-16T21:31:32.373Z"
   },
   {
    "duration": 236,
    "start_time": "2021-08-16T21:31:32.400Z"
   },
   {
    "duration": 8,
    "start_time": "2021-08-16T21:31:32.638Z"
   },
   {
    "duration": 3,
    "start_time": "2021-08-16T21:31:32.648Z"
   },
   {
    "duration": 3,
    "start_time": "2021-08-16T21:31:32.654Z"
   },
   {
    "duration": 8,
    "start_time": "2021-08-16T21:31:32.660Z"
   },
   {
    "duration": 27,
    "start_time": "2021-08-16T21:31:32.669Z"
   },
   {
    "duration": 9,
    "start_time": "2021-08-16T21:31:32.700Z"
   },
   {
    "duration": 5,
    "start_time": "2021-08-16T21:31:32.711Z"
   },
   {
    "duration": 9,
    "start_time": "2021-08-16T21:31:32.717Z"
   },
   {
    "duration": 10,
    "start_time": "2021-08-16T21:31:32.727Z"
   },
   {
    "duration": 7,
    "start_time": "2021-08-16T21:31:32.739Z"
   },
   {
    "duration": 5,
    "start_time": "2021-08-16T21:31:32.747Z"
   },
   {
    "duration": 52,
    "start_time": "2021-08-16T21:31:32.753Z"
   },
   {
    "duration": 13,
    "start_time": "2021-08-16T21:31:32.807Z"
   },
   {
    "duration": 10,
    "start_time": "2021-08-16T21:31:32.822Z"
   },
   {
    "duration": 23,
    "start_time": "2021-08-16T21:31:32.834Z"
   },
   {
    "duration": 295,
    "start_time": "2021-08-16T21:31:32.859Z"
   },
   {
    "duration": -1637,
    "start_time": "2021-08-16T21:31:34.794Z"
   },
   {
    "duration": -1654,
    "start_time": "2021-08-16T21:31:34.813Z"
   },
   {
    "duration": -1675,
    "start_time": "2021-08-16T21:31:34.835Z"
   },
   {
    "duration": -1684,
    "start_time": "2021-08-16T21:31:34.845Z"
   },
   {
    "duration": -1696,
    "start_time": "2021-08-16T21:31:34.858Z"
   },
   {
    "duration": -1705,
    "start_time": "2021-08-16T21:31:34.868Z"
   },
   {
    "duration": -1717,
    "start_time": "2021-08-16T21:31:34.882Z"
   },
   {
    "duration": -1730,
    "start_time": "2021-08-16T21:31:34.896Z"
   },
   {
    "duration": -1741,
    "start_time": "2021-08-16T21:31:34.908Z"
   },
   {
    "duration": -1751,
    "start_time": "2021-08-16T21:31:34.919Z"
   },
   {
    "duration": -1765,
    "start_time": "2021-08-16T21:31:34.933Z"
   },
   {
    "duration": -1778,
    "start_time": "2021-08-16T21:31:34.947Z"
   },
   {
    "duration": -1791,
    "start_time": "2021-08-16T21:31:34.961Z"
   },
   {
    "duration": -1809,
    "start_time": "2021-08-16T21:31:34.980Z"
   },
   {
    "duration": -1821,
    "start_time": "2021-08-16T21:31:34.993Z"
   },
   {
    "duration": -1832,
    "start_time": "2021-08-16T21:31:35.005Z"
   },
   {
    "duration": -1842,
    "start_time": "2021-08-16T21:31:35.015Z"
   },
   {
    "duration": -1855,
    "start_time": "2021-08-16T21:31:35.029Z"
   },
   {
    "duration": -1867,
    "start_time": "2021-08-16T21:31:35.042Z"
   },
   {
    "duration": -1876,
    "start_time": "2021-08-16T21:31:35.052Z"
   },
   {
    "duration": -1887,
    "start_time": "2021-08-16T21:31:35.064Z"
   },
   {
    "duration": -1900,
    "start_time": "2021-08-16T21:31:35.078Z"
   },
   {
    "duration": -1913,
    "start_time": "2021-08-16T21:31:35.092Z"
   },
   {
    "duration": -1926,
    "start_time": "2021-08-16T21:31:35.106Z"
   },
   {
    "duration": -1934,
    "start_time": "2021-08-16T21:31:35.115Z"
   },
   {
    "duration": -1949,
    "start_time": "2021-08-16T21:31:35.130Z"
   },
   {
    "duration": -1961,
    "start_time": "2021-08-16T21:31:35.143Z"
   },
   {
    "duration": -1973,
    "start_time": "2021-08-16T21:31:35.156Z"
   },
   {
    "duration": -1982,
    "start_time": "2021-08-16T21:31:35.166Z"
   },
   {
    "duration": -1995,
    "start_time": "2021-08-16T21:31:35.179Z"
   },
   {
    "duration": -2006,
    "start_time": "2021-08-16T21:31:35.191Z"
   },
   {
    "duration": -2016,
    "start_time": "2021-08-16T21:31:35.202Z"
   },
   {
    "duration": -2028,
    "start_time": "2021-08-16T21:31:35.215Z"
   },
   {
    "duration": -2040,
    "start_time": "2021-08-16T21:31:35.228Z"
   },
   {
    "duration": -2052,
    "start_time": "2021-08-16T21:31:35.241Z"
   },
   {
    "duration": -2061,
    "start_time": "2021-08-16T21:31:35.250Z"
   },
   {
    "duration": -2074,
    "start_time": "2021-08-16T21:31:35.264Z"
   },
   {
    "duration": -2086,
    "start_time": "2021-08-16T21:31:35.277Z"
   },
   {
    "duration": -2098,
    "start_time": "2021-08-16T21:31:35.290Z"
   },
   {
    "duration": -2107,
    "start_time": "2021-08-16T21:31:35.299Z"
   },
   {
    "duration": -2118,
    "start_time": "2021-08-16T21:31:35.311Z"
   },
   {
    "duration": -2130,
    "start_time": "2021-08-16T21:31:35.324Z"
   },
   {
    "duration": -2139,
    "start_time": "2021-08-16T21:31:35.334Z"
   },
   {
    "duration": -2152,
    "start_time": "2021-08-16T21:31:35.347Z"
   },
   {
    "duration": -2164,
    "start_time": "2021-08-16T21:31:35.360Z"
   },
   {
    "duration": -2172,
    "start_time": "2021-08-16T21:31:35.369Z"
   },
   {
    "duration": -2183,
    "start_time": "2021-08-16T21:31:35.381Z"
   },
   {
    "duration": -2195,
    "start_time": "2021-08-16T21:31:35.394Z"
   },
   {
    "duration": -2207,
    "start_time": "2021-08-16T21:31:35.407Z"
   },
   {
    "duration": -2218,
    "start_time": "2021-08-16T21:31:35.418Z"
   },
   {
    "duration": -2235,
    "start_time": "2021-08-16T21:31:35.436Z"
   },
   {
    "duration": -2253,
    "start_time": "2021-08-16T21:31:35.456Z"
   },
   {
    "duration": -2261,
    "start_time": "2021-08-16T21:31:35.465Z"
   },
   {
    "duration": -2272,
    "start_time": "2021-08-16T21:31:35.477Z"
   },
   {
    "duration": -2283,
    "start_time": "2021-08-16T21:31:35.490Z"
   },
   {
    "duration": -2292,
    "start_time": "2021-08-16T21:31:35.500Z"
   },
   {
    "duration": -2303,
    "start_time": "2021-08-16T21:31:35.513Z"
   },
   {
    "duration": -2314,
    "start_time": "2021-08-16T21:31:35.525Z"
   },
   {
    "duration": -2323,
    "start_time": "2021-08-16T21:31:35.535Z"
   },
   {
    "duration": -2333,
    "start_time": "2021-08-16T21:31:35.547Z"
   },
   {
    "duration": -2353,
    "start_time": "2021-08-16T21:31:35.568Z"
   },
   {
    "duration": -2370,
    "start_time": "2021-08-16T21:31:35.586Z"
   },
   {
    "duration": -2378,
    "start_time": "2021-08-16T21:31:35.598Z"
   },
   {
    "duration": -2390,
    "start_time": "2021-08-16T21:31:35.611Z"
   },
   {
    "duration": -2398,
    "start_time": "2021-08-16T21:31:35.620Z"
   },
   {
    "duration": 568,
    "start_time": "2021-08-16T21:33:46.026Z"
   },
   {
    "duration": 62,
    "start_time": "2021-08-16T21:33:46.596Z"
   },
   {
    "duration": 10,
    "start_time": "2021-08-16T21:33:46.661Z"
   },
   {
    "duration": 27,
    "start_time": "2021-08-16T21:33:46.673Z"
   },
   {
    "duration": 13,
    "start_time": "2021-08-16T21:33:46.701Z"
   },
   {
    "duration": 4,
    "start_time": "2021-08-16T21:33:46.715Z"
   },
   {
    "duration": 6,
    "start_time": "2021-08-16T21:33:46.721Z"
   },
   {
    "duration": 6,
    "start_time": "2021-08-16T21:33:46.730Z"
   },
   {
    "duration": 7,
    "start_time": "2021-08-16T21:33:46.738Z"
   },
   {
    "duration": 7,
    "start_time": "2021-08-16T21:33:46.746Z"
   },
   {
    "duration": 40,
    "start_time": "2021-08-16T21:33:46.754Z"
   },
   {
    "duration": 6,
    "start_time": "2021-08-16T21:33:46.795Z"
   },
   {
    "duration": 12,
    "start_time": "2021-08-16T21:33:46.803Z"
   },
   {
    "duration": 13,
    "start_time": "2021-08-16T21:33:46.816Z"
   },
   {
    "duration": 8,
    "start_time": "2021-08-16T21:33:46.830Z"
   },
   {
    "duration": 10,
    "start_time": "2021-08-16T21:33:46.840Z"
   },
   {
    "duration": 11,
    "start_time": "2021-08-16T21:33:46.852Z"
   },
   {
    "duration": 8,
    "start_time": "2021-08-16T21:33:46.864Z"
   },
   {
    "duration": 19,
    "start_time": "2021-08-16T21:33:46.873Z"
   },
   {
    "duration": 223,
    "start_time": "2021-08-16T21:33:46.894Z"
   },
   {
    "duration": 9,
    "start_time": "2021-08-16T21:33:47.119Z"
   },
   {
    "duration": 3,
    "start_time": "2021-08-16T21:33:47.129Z"
   },
   {
    "duration": 4,
    "start_time": "2021-08-16T21:33:47.136Z"
   },
   {
    "duration": 11,
    "start_time": "2021-08-16T21:33:47.143Z"
   },
   {
    "duration": 8,
    "start_time": "2021-08-16T21:33:47.156Z"
   },
   {
    "duration": 32,
    "start_time": "2021-08-16T21:33:47.166Z"
   },
   {
    "duration": 6,
    "start_time": "2021-08-16T21:33:47.199Z"
   },
   {
    "duration": 7,
    "start_time": "2021-08-16T21:33:47.207Z"
   },
   {
    "duration": 12,
    "start_time": "2021-08-16T21:33:47.216Z"
   },
   {
    "duration": 10,
    "start_time": "2021-08-16T21:33:47.229Z"
   },
   {
    "duration": 3,
    "start_time": "2021-08-16T21:33:47.241Z"
   },
   {
    "duration": 46,
    "start_time": "2021-08-16T21:33:47.246Z"
   },
   {
    "duration": 13,
    "start_time": "2021-08-16T21:33:47.293Z"
   },
   {
    "duration": 10,
    "start_time": "2021-08-16T21:33:47.308Z"
   },
   {
    "duration": 23,
    "start_time": "2021-08-16T21:33:47.320Z"
   },
   {
    "duration": 11,
    "start_time": "2021-08-16T21:33:47.345Z"
   },
   {
    "duration": 39,
    "start_time": "2021-08-16T21:33:47.358Z"
   },
   {
    "duration": 4,
    "start_time": "2021-08-16T21:33:47.399Z"
   },
   {
    "duration": 26,
    "start_time": "2021-08-16T21:33:47.404Z"
   },
   {
    "duration": 238,
    "start_time": "2021-08-16T21:33:47.431Z"
   },
   {
    "duration": 7,
    "start_time": "2021-08-16T21:33:47.671Z"
   },
   {
    "duration": 5,
    "start_time": "2021-08-16T21:33:47.691Z"
   },
   {
    "duration": 4,
    "start_time": "2021-08-16T21:33:47.697Z"
   },
   {
    "duration": 4,
    "start_time": "2021-08-16T21:33:47.703Z"
   },
   {
    "duration": 6,
    "start_time": "2021-08-16T21:33:47.708Z"
   },
   {
    "duration": 229,
    "start_time": "2021-08-16T21:33:47.716Z"
   },
   {
    "duration": 7,
    "start_time": "2021-08-16T21:33:47.947Z"
   },
   {
    "duration": 222,
    "start_time": "2021-08-16T21:33:47.955Z"
   },
   {
    "duration": 6,
    "start_time": "2021-08-16T21:33:48.178Z"
   },
   {
    "duration": 22,
    "start_time": "2021-08-16T21:33:48.185Z"
   },
   {
    "duration": 6,
    "start_time": "2021-08-16T21:33:48.208Z"
   },
   {
    "duration": 17,
    "start_time": "2021-08-16T21:33:48.216Z"
   },
   {
    "duration": 12,
    "start_time": "2021-08-16T21:33:48.234Z"
   },
   {
    "duration": 6,
    "start_time": "2021-08-16T21:33:48.247Z"
   },
   {
    "duration": 42,
    "start_time": "2021-08-16T21:33:48.254Z"
   },
   {
    "duration": 12,
    "start_time": "2021-08-16T21:33:48.298Z"
   },
   {
    "duration": 7,
    "start_time": "2021-08-16T21:33:48.311Z"
   },
   {
    "duration": 17,
    "start_time": "2021-08-16T21:33:48.319Z"
   },
   {
    "duration": 12,
    "start_time": "2021-08-16T21:33:48.338Z"
   },
   {
    "duration": 16,
    "start_time": "2021-08-16T21:33:48.351Z"
   },
   {
    "duration": 13,
    "start_time": "2021-08-16T21:33:48.391Z"
   },
   {
    "duration": 13,
    "start_time": "2021-08-16T21:33:48.405Z"
   },
   {
    "duration": 9,
    "start_time": "2021-08-16T21:33:48.419Z"
   },
   {
    "duration": 242,
    "start_time": "2021-08-16T21:33:48.430Z"
   },
   {
    "duration": 17,
    "start_time": "2021-08-16T21:33:48.674Z"
   },
   {
    "duration": 7,
    "start_time": "2021-08-16T21:33:48.693Z"
   },
   {
    "duration": 10,
    "start_time": "2021-08-16T21:33:48.702Z"
   },
   {
    "duration": 5,
    "start_time": "2021-08-16T21:33:48.716Z"
   },
   {
    "duration": 6,
    "start_time": "2021-08-16T21:33:48.723Z"
   },
   {
    "duration": 27,
    "start_time": "2021-08-16T21:33:48.730Z"
   },
   {
    "duration": 37,
    "start_time": "2021-08-16T21:33:48.758Z"
   },
   {
    "duration": 9,
    "start_time": "2021-08-16T21:33:48.797Z"
   },
   {
    "duration": 12,
    "start_time": "2021-08-16T21:33:48.807Z"
   },
   {
    "duration": 16,
    "start_time": "2021-08-16T21:33:48.821Z"
   },
   {
    "duration": 13,
    "start_time": "2021-08-16T21:33:48.838Z"
   },
   {
    "duration": 12,
    "start_time": "2021-08-16T21:33:48.852Z"
   },
   {
    "duration": 26,
    "start_time": "2021-08-16T21:33:48.865Z"
   },
   {
    "duration": 1129,
    "start_time": "2021-08-16T21:33:48.893Z"
   },
   {
    "duration": 7,
    "start_time": "2021-08-16T21:33:50.023Z"
   },
   {
    "duration": 8,
    "start_time": "2021-08-16T21:33:50.032Z"
   },
   {
    "duration": 7,
    "start_time": "2021-08-16T21:33:50.042Z"
   },
   {
    "duration": 8,
    "start_time": "2021-08-16T21:33:50.051Z"
   },
   {
    "duration": 8,
    "start_time": "2021-08-16T21:33:50.060Z"
   },
   {
    "duration": 4,
    "start_time": "2021-08-16T21:33:50.069Z"
   },
   {
    "duration": 8,
    "start_time": "2021-08-16T21:33:50.092Z"
   },
   {
    "duration": 7,
    "start_time": "2021-08-16T21:33:50.101Z"
   },
   {
    "duration": 10,
    "start_time": "2021-08-16T21:33:50.110Z"
   },
   {
    "duration": 10,
    "start_time": "2021-08-16T21:33:50.121Z"
   },
   {
    "duration": 1410,
    "start_time": "2021-08-16T21:33:50.132Z"
   },
   {
    "duration": 16,
    "start_time": "2021-08-16T21:33:51.544Z"
   },
   {
    "duration": 7,
    "start_time": "2021-08-16T21:33:51.561Z"
   },
   {
    "duration": 33,
    "start_time": "2021-08-16T21:33:51.569Z"
   },
   {
    "duration": 2,
    "start_time": "2021-08-16T21:33:51.603Z"
   },
   {
    "duration": 16,
    "start_time": "2021-08-16T21:33:51.607Z"
   },
   {
    "duration": 15,
    "start_time": "2021-08-16T21:33:51.624Z"
   },
   {
    "duration": 14,
    "start_time": "2021-08-16T21:33:51.640Z"
   },
   {
    "duration": 42,
    "start_time": "2021-08-16T21:33:51.656Z"
   },
   {
    "duration": 13,
    "start_time": "2021-08-16T21:33:51.699Z"
   },
   {
    "duration": 16,
    "start_time": "2021-08-16T21:33:51.713Z"
   },
   {
    "duration": 13,
    "start_time": "2021-08-16T21:33:51.730Z"
   },
   {
    "duration": 48,
    "start_time": "2021-08-16T21:33:51.744Z"
   },
   {
    "duration": 6,
    "start_time": "2021-08-16T21:33:51.794Z"
   },
   {
    "duration": 5941,
    "start_time": "2021-08-16T21:36:10.843Z"
   },
   {
    "duration": 589,
    "start_time": "2021-08-16T21:36:29.385Z"
   },
   {
    "duration": 63,
    "start_time": "2021-08-16T21:36:29.975Z"
   },
   {
    "duration": 8,
    "start_time": "2021-08-16T21:36:30.040Z"
   },
   {
    "duration": 13,
    "start_time": "2021-08-16T21:36:30.050Z"
   },
   {
    "duration": 31,
    "start_time": "2021-08-16T21:36:30.064Z"
   },
   {
    "duration": 5,
    "start_time": "2021-08-16T21:36:30.097Z"
   },
   {
    "duration": 13,
    "start_time": "2021-08-16T21:36:30.103Z"
   },
   {
    "duration": 19,
    "start_time": "2021-08-16T21:36:30.118Z"
   },
   {
    "duration": 13,
    "start_time": "2021-08-16T21:36:30.139Z"
   },
   {
    "duration": 19,
    "start_time": "2021-08-16T21:36:30.153Z"
   },
   {
    "duration": 7,
    "start_time": "2021-08-16T21:36:30.174Z"
   },
   {
    "duration": 10,
    "start_time": "2021-08-16T21:36:30.182Z"
   },
   {
    "duration": 15,
    "start_time": "2021-08-16T21:36:30.194Z"
   },
   {
    "duration": 15,
    "start_time": "2021-08-16T21:36:30.211Z"
   },
   {
    "duration": 10,
    "start_time": "2021-08-16T21:36:30.228Z"
   },
   {
    "duration": 16,
    "start_time": "2021-08-16T21:36:30.240Z"
   },
   {
    "duration": 17,
    "start_time": "2021-08-16T21:36:30.257Z"
   },
   {
    "duration": 12,
    "start_time": "2021-08-16T21:36:30.276Z"
   },
   {
    "duration": 19,
    "start_time": "2021-08-16T21:36:30.289Z"
   },
   {
    "duration": 218,
    "start_time": "2021-08-16T21:36:30.310Z"
   },
   {
    "duration": 9,
    "start_time": "2021-08-16T21:36:30.530Z"
   },
   {
    "duration": 4,
    "start_time": "2021-08-16T21:36:30.541Z"
   },
   {
    "duration": 8,
    "start_time": "2021-08-16T21:36:30.550Z"
   },
   {
    "duration": 31,
    "start_time": "2021-08-16T21:36:30.561Z"
   },
   {
    "duration": 10,
    "start_time": "2021-08-16T21:36:30.594Z"
   },
   {
    "duration": 21,
    "start_time": "2021-08-16T21:36:30.606Z"
   },
   {
    "duration": 7,
    "start_time": "2021-08-16T21:36:30.628Z"
   },
   {
    "duration": 14,
    "start_time": "2021-08-16T21:36:30.636Z"
   },
   {
    "duration": 19,
    "start_time": "2021-08-16T21:36:30.651Z"
   },
   {
    "duration": 19,
    "start_time": "2021-08-16T21:36:30.672Z"
   },
   {
    "duration": 7,
    "start_time": "2021-08-16T21:36:30.692Z"
   },
   {
    "duration": 24,
    "start_time": "2021-08-16T21:36:30.700Z"
   },
   {
    "duration": 16,
    "start_time": "2021-08-16T21:36:30.725Z"
   },
   {
    "duration": 11,
    "start_time": "2021-08-16T21:36:30.742Z"
   },
   {
    "duration": 45,
    "start_time": "2021-08-16T21:36:30.754Z"
   },
   {
    "duration": 17,
    "start_time": "2021-08-16T21:36:30.800Z"
   },
   {
    "duration": 12,
    "start_time": "2021-08-16T21:36:30.819Z"
   },
   {
    "duration": 17,
    "start_time": "2021-08-16T21:36:30.833Z"
   },
   {
    "duration": 34,
    "start_time": "2021-08-16T21:36:30.851Z"
   },
   {
    "duration": 224,
    "start_time": "2021-08-16T21:36:30.887Z"
   },
   {
    "duration": 9,
    "start_time": "2021-08-16T21:36:31.112Z"
   },
   {
    "duration": 5,
    "start_time": "2021-08-16T21:36:31.122Z"
   },
   {
    "duration": 8,
    "start_time": "2021-08-16T21:36:31.129Z"
   },
   {
    "duration": 7,
    "start_time": "2021-08-16T21:36:31.138Z"
   },
   {
    "duration": 10,
    "start_time": "2021-08-16T21:36:31.146Z"
   },
   {
    "duration": 235,
    "start_time": "2021-08-16T21:36:31.157Z"
   },
   {
    "duration": 8,
    "start_time": "2021-08-16T21:36:31.394Z"
   },
   {
    "duration": 224,
    "start_time": "2021-08-16T21:36:31.403Z"
   },
   {
    "duration": 6,
    "start_time": "2021-08-16T21:36:31.628Z"
   },
   {
    "duration": 34,
    "start_time": "2021-08-16T21:36:31.636Z"
   },
   {
    "duration": 7,
    "start_time": "2021-08-16T21:36:31.672Z"
   },
   {
    "duration": 19,
    "start_time": "2021-08-16T21:36:31.681Z"
   },
   {
    "duration": 12,
    "start_time": "2021-08-16T21:36:31.702Z"
   },
   {
    "duration": 6,
    "start_time": "2021-08-16T21:36:31.715Z"
   },
   {
    "duration": 12,
    "start_time": "2021-08-16T21:36:31.723Z"
   },
   {
    "duration": 11,
    "start_time": "2021-08-16T21:36:31.736Z"
   },
   {
    "duration": 5,
    "start_time": "2021-08-16T21:36:31.749Z"
   },
   {
    "duration": 45,
    "start_time": "2021-08-16T21:36:31.756Z"
   },
   {
    "duration": 11,
    "start_time": "2021-08-16T21:36:31.803Z"
   },
   {
    "duration": 10,
    "start_time": "2021-08-16T21:36:31.815Z"
   },
   {
    "duration": 20,
    "start_time": "2021-08-16T21:36:31.827Z"
   },
   {
    "duration": 12,
    "start_time": "2021-08-16T21:36:31.849Z"
   },
   {
    "duration": 31,
    "start_time": "2021-08-16T21:36:31.862Z"
   },
   {
    "duration": 220,
    "start_time": "2021-08-16T21:36:31.894Z"
   },
   {
    "duration": 11,
    "start_time": "2021-08-16T21:36:32.116Z"
   },
   {
    "duration": 7,
    "start_time": "2021-08-16T21:36:32.128Z"
   },
   {
    "duration": 11,
    "start_time": "2021-08-16T21:36:32.136Z"
   },
   {
    "duration": 5,
    "start_time": "2021-08-16T21:36:32.152Z"
   },
   {
    "duration": 36,
    "start_time": "2021-08-16T21:36:32.159Z"
   },
   {
    "duration": 32,
    "start_time": "2021-08-16T21:36:32.196Z"
   },
   {
    "duration": 6,
    "start_time": "2021-08-16T21:36:32.230Z"
   },
   {
    "duration": 8,
    "start_time": "2021-08-16T21:36:32.237Z"
   },
   {
    "duration": 4,
    "start_time": "2021-08-16T21:36:32.246Z"
   },
   {
    "duration": 39,
    "start_time": "2021-08-16T21:36:32.252Z"
   },
   {
    "duration": 13,
    "start_time": "2021-08-16T21:36:32.293Z"
   },
   {
    "duration": 12,
    "start_time": "2021-08-16T21:36:32.307Z"
   },
   {
    "duration": 8,
    "start_time": "2021-08-16T21:36:32.321Z"
   },
   {
    "duration": 1168,
    "start_time": "2021-08-16T21:36:32.331Z"
   },
   {
    "duration": 7,
    "start_time": "2021-08-16T21:36:33.501Z"
   },
   {
    "duration": 9,
    "start_time": "2021-08-16T21:36:33.509Z"
   },
   {
    "duration": 7,
    "start_time": "2021-08-16T21:36:33.520Z"
   },
   {
    "duration": 9,
    "start_time": "2021-08-16T21:36:33.529Z"
   },
   {
    "duration": 9,
    "start_time": "2021-08-16T21:36:33.539Z"
   },
   {
    "duration": 4,
    "start_time": "2021-08-16T21:36:33.549Z"
   },
   {
    "duration": 10,
    "start_time": "2021-08-16T21:36:33.554Z"
   },
   {
    "duration": 27,
    "start_time": "2021-08-16T21:36:33.566Z"
   },
   {
    "duration": 8,
    "start_time": "2021-08-16T21:36:33.594Z"
   },
   {
    "duration": 10,
    "start_time": "2021-08-16T21:36:33.604Z"
   },
   {
    "duration": 1587,
    "start_time": "2021-08-16T21:36:33.616Z"
   },
   {
    "duration": 18,
    "start_time": "2021-08-16T21:36:35.204Z"
   },
   {
    "duration": 9,
    "start_time": "2021-08-16T21:36:35.223Z"
   },
   {
    "duration": 20,
    "start_time": "2021-08-16T21:36:35.233Z"
   },
   {
    "duration": 2,
    "start_time": "2021-08-16T21:36:35.255Z"
   },
   {
    "duration": 40,
    "start_time": "2021-08-16T21:36:35.258Z"
   },
   {
    "duration": 13,
    "start_time": "2021-08-16T21:36:35.299Z"
   },
   {
    "duration": 24,
    "start_time": "2021-08-16T21:36:35.313Z"
   },
   {
    "duration": 14,
    "start_time": "2021-08-16T21:36:35.338Z"
   },
   {
    "duration": 12,
    "start_time": "2021-08-16T21:36:35.353Z"
   },
   {
    "duration": 36,
    "start_time": "2021-08-16T21:36:35.366Z"
   },
   {
    "duration": 12,
    "start_time": "2021-08-16T21:36:35.404Z"
   },
   {
    "duration": 14,
    "start_time": "2021-08-16T21:36:35.417Z"
   },
   {
    "duration": 5,
    "start_time": "2021-08-16T21:36:35.432Z"
   },
   {
    "duration": 5684,
    "start_time": "2021-08-16T21:37:56.408Z"
   },
   {
    "duration": 520,
    "start_time": "2021-08-16T21:38:35.926Z"
   },
   {
    "duration": 65,
    "start_time": "2021-08-16T21:38:36.448Z"
   },
   {
    "duration": 9,
    "start_time": "2021-08-16T21:38:36.515Z"
   },
   {
    "duration": 13,
    "start_time": "2021-08-16T21:38:36.526Z"
   },
   {
    "duration": 12,
    "start_time": "2021-08-16T21:38:36.540Z"
   },
   {
    "duration": 5,
    "start_time": "2021-08-16T21:38:36.554Z"
   },
   {
    "duration": 6,
    "start_time": "2021-08-16T21:38:36.591Z"
   },
   {
    "duration": 5,
    "start_time": "2021-08-16T21:38:36.599Z"
   },
   {
    "duration": 6,
    "start_time": "2021-08-16T21:38:36.606Z"
   },
   {
    "duration": 6,
    "start_time": "2021-08-16T21:38:36.613Z"
   },
   {
    "duration": 9,
    "start_time": "2021-08-16T21:38:36.620Z"
   },
   {
    "duration": 9,
    "start_time": "2021-08-16T21:38:36.630Z"
   },
   {
    "duration": 13,
    "start_time": "2021-08-16T21:38:36.640Z"
   },
   {
    "duration": 38,
    "start_time": "2021-08-16T21:38:36.654Z"
   },
   {
    "duration": 5,
    "start_time": "2021-08-16T21:38:36.693Z"
   },
   {
    "duration": 8,
    "start_time": "2021-08-16T21:38:36.699Z"
   },
   {
    "duration": 9,
    "start_time": "2021-08-16T21:38:36.709Z"
   },
   {
    "duration": 8,
    "start_time": "2021-08-16T21:38:36.720Z"
   },
   {
    "duration": 13,
    "start_time": "2021-08-16T21:38:36.730Z"
   },
   {
    "duration": 231,
    "start_time": "2021-08-16T21:38:36.745Z"
   },
   {
    "duration": 18,
    "start_time": "2021-08-16T21:38:36.978Z"
   },
   {
    "duration": 4,
    "start_time": "2021-08-16T21:38:36.998Z"
   },
   {
    "duration": 3,
    "start_time": "2021-08-16T21:38:37.007Z"
   },
   {
    "duration": 10,
    "start_time": "2021-08-16T21:38:37.013Z"
   },
   {
    "duration": 11,
    "start_time": "2021-08-16T21:38:37.025Z"
   },
   {
    "duration": 9,
    "start_time": "2021-08-16T21:38:37.037Z"
   },
   {
    "duration": 6,
    "start_time": "2021-08-16T21:38:37.047Z"
   },
   {
    "duration": 7,
    "start_time": "2021-08-16T21:38:37.092Z"
   },
   {
    "duration": 11,
    "start_time": "2021-08-16T21:38:37.101Z"
   },
   {
    "duration": 9,
    "start_time": "2021-08-16T21:38:37.113Z"
   },
   {
    "duration": 5,
    "start_time": "2021-08-16T21:38:37.124Z"
   },
   {
    "duration": 21,
    "start_time": "2021-08-16T21:38:37.130Z"
   },
   {
    "duration": 45,
    "start_time": "2021-08-16T21:38:37.153Z"
   },
   {
    "duration": 10,
    "start_time": "2021-08-16T21:38:37.200Z"
   },
   {
    "duration": 22,
    "start_time": "2021-08-16T21:38:37.212Z"
   },
   {
    "duration": 10,
    "start_time": "2021-08-16T21:38:37.236Z"
   },
   {
    "duration": 7,
    "start_time": "2021-08-16T21:38:37.248Z"
   },
   {
    "duration": 3,
    "start_time": "2021-08-16T21:38:37.292Z"
   },
   {
    "duration": 30,
    "start_time": "2021-08-16T21:38:37.297Z"
   },
   {
    "duration": 228,
    "start_time": "2021-08-16T21:38:37.328Z"
   },
   {
    "duration": 8,
    "start_time": "2021-08-16T21:38:37.558Z"
   },
   {
    "duration": 5,
    "start_time": "2021-08-16T21:38:37.567Z"
   },
   {
    "duration": 18,
    "start_time": "2021-08-16T21:38:37.574Z"
   },
   {
    "duration": 3,
    "start_time": "2021-08-16T21:38:37.594Z"
   },
   {
    "duration": 6,
    "start_time": "2021-08-16T21:38:37.599Z"
   },
   {
    "duration": 230,
    "start_time": "2021-08-16T21:38:37.606Z"
   },
   {
    "duration": 9,
    "start_time": "2021-08-16T21:38:37.837Z"
   },
   {
    "duration": 221,
    "start_time": "2021-08-16T21:38:37.848Z"
   },
   {
    "duration": 8,
    "start_time": "2021-08-16T21:38:38.071Z"
   },
   {
    "duration": 16,
    "start_time": "2021-08-16T21:38:38.091Z"
   },
   {
    "duration": 6,
    "start_time": "2021-08-16T21:38:38.109Z"
   },
   {
    "duration": 15,
    "start_time": "2021-08-16T21:38:38.117Z"
   },
   {
    "duration": 12,
    "start_time": "2021-08-16T21:38:38.134Z"
   },
   {
    "duration": 44,
    "start_time": "2021-08-16T21:38:38.148Z"
   },
   {
    "duration": 14,
    "start_time": "2021-08-16T21:38:38.193Z"
   },
   {
    "duration": 13,
    "start_time": "2021-08-16T21:38:38.209Z"
   },
   {
    "duration": 7,
    "start_time": "2021-08-16T21:38:38.224Z"
   },
   {
    "duration": 16,
    "start_time": "2021-08-16T21:38:38.233Z"
   },
   {
    "duration": 49,
    "start_time": "2021-08-16T21:38:38.250Z"
   },
   {
    "duration": 11,
    "start_time": "2021-08-16T21:38:38.300Z"
   },
   {
    "duration": 16,
    "start_time": "2021-08-16T21:38:38.312Z"
   },
   {
    "duration": 13,
    "start_time": "2021-08-16T21:38:38.329Z"
   },
   {
    "duration": 9,
    "start_time": "2021-08-16T21:38:38.343Z"
   },
   {
    "duration": 252,
    "start_time": "2021-08-16T21:38:38.354Z"
   },
   {
    "duration": 10,
    "start_time": "2021-08-16T21:38:38.608Z"
   },
   {
    "duration": 8,
    "start_time": "2021-08-16T21:38:38.620Z"
   },
   {
    "duration": 10,
    "start_time": "2021-08-16T21:38:38.630Z"
   },
   {
    "duration": 5,
    "start_time": "2021-08-16T21:38:38.645Z"
   },
   {
    "duration": 5,
    "start_time": "2021-08-16T21:38:38.652Z"
   },
   {
    "duration": 28,
    "start_time": "2021-08-16T21:38:38.690Z"
   },
   {
    "duration": 6,
    "start_time": "2021-08-16T21:38:38.719Z"
   },
   {
    "duration": 6,
    "start_time": "2021-08-16T21:38:38.727Z"
   },
   {
    "duration": 6,
    "start_time": "2021-08-16T21:38:38.734Z"
   },
   {
    "duration": 15,
    "start_time": "2021-08-16T21:38:38.742Z"
   },
   {
    "duration": 42,
    "start_time": "2021-08-16T21:38:38.759Z"
   },
   {
    "duration": 14,
    "start_time": "2021-08-16T21:38:38.802Z"
   },
   {
    "duration": 7,
    "start_time": "2021-08-16T21:38:38.817Z"
   },
   {
    "duration": 1169,
    "start_time": "2021-08-16T21:38:38.826Z"
   },
   {
    "duration": 7,
    "start_time": "2021-08-16T21:38:39.996Z"
   },
   {
    "duration": 6,
    "start_time": "2021-08-16T21:38:40.005Z"
   },
   {
    "duration": 8,
    "start_time": "2021-08-16T21:38:40.013Z"
   },
   {
    "duration": 10,
    "start_time": "2021-08-16T21:38:40.022Z"
   },
   {
    "duration": 6,
    "start_time": "2021-08-16T21:38:40.034Z"
   },
   {
    "duration": 3,
    "start_time": "2021-08-16T21:38:40.042Z"
   },
   {
    "duration": 11,
    "start_time": "2021-08-16T21:38:40.046Z"
   },
   {
    "duration": 8,
    "start_time": "2021-08-16T21:38:40.059Z"
   },
   {
    "duration": 6,
    "start_time": "2021-08-16T21:38:40.091Z"
   },
   {
    "duration": 7,
    "start_time": "2021-08-16T21:38:40.099Z"
   },
   {
    "duration": 1494,
    "start_time": "2021-08-16T21:38:40.108Z"
   },
   {
    "duration": 17,
    "start_time": "2021-08-16T21:38:41.604Z"
   },
   {
    "duration": 15,
    "start_time": "2021-08-16T21:38:41.622Z"
   },
   {
    "duration": 26,
    "start_time": "2021-08-16T21:38:41.639Z"
   },
   {
    "duration": 2,
    "start_time": "2021-08-16T21:38:41.667Z"
   },
   {
    "duration": 32,
    "start_time": "2021-08-16T21:38:41.671Z"
   },
   {
    "duration": 13,
    "start_time": "2021-08-16T21:38:41.705Z"
   },
   {
    "duration": 13,
    "start_time": "2021-08-16T21:38:41.720Z"
   },
   {
    "duration": 18,
    "start_time": "2021-08-16T21:38:41.734Z"
   },
   {
    "duration": 12,
    "start_time": "2021-08-16T21:38:41.753Z"
   },
   {
    "duration": 15,
    "start_time": "2021-08-16T21:38:41.791Z"
   },
   {
    "duration": 13,
    "start_time": "2021-08-16T21:38:41.808Z"
   },
   {
    "duration": 14,
    "start_time": "2021-08-16T21:38:41.823Z"
   },
   {
    "duration": 5,
    "start_time": "2021-08-16T21:38:41.839Z"
   },
   {
    "duration": 596,
    "start_time": "2021-08-16T21:40:41.348Z"
   },
   {
    "duration": 72,
    "start_time": "2021-08-16T21:40:41.945Z"
   },
   {
    "duration": 10,
    "start_time": "2021-08-16T21:40:42.019Z"
   },
   {
    "duration": 11,
    "start_time": "2021-08-16T21:40:42.032Z"
   },
   {
    "duration": 47,
    "start_time": "2021-08-16T21:40:42.045Z"
   },
   {
    "duration": 6,
    "start_time": "2021-08-16T21:40:42.094Z"
   },
   {
    "duration": 6,
    "start_time": "2021-08-16T21:40:42.102Z"
   },
   {
    "duration": 5,
    "start_time": "2021-08-16T21:40:42.112Z"
   },
   {
    "duration": 6,
    "start_time": "2021-08-16T21:40:42.119Z"
   },
   {
    "duration": 6,
    "start_time": "2021-08-16T21:40:42.126Z"
   },
   {
    "duration": 6,
    "start_time": "2021-08-16T21:40:42.133Z"
   },
   {
    "duration": 9,
    "start_time": "2021-08-16T21:40:42.140Z"
   },
   {
    "duration": 49,
    "start_time": "2021-08-16T21:40:42.151Z"
   },
   {
    "duration": 8,
    "start_time": "2021-08-16T21:40:42.202Z"
   },
   {
    "duration": 9,
    "start_time": "2021-08-16T21:40:42.211Z"
   },
   {
    "duration": 11,
    "start_time": "2021-08-16T21:40:42.222Z"
   },
   {
    "duration": 19,
    "start_time": "2021-08-16T21:40:42.234Z"
   },
   {
    "duration": 8,
    "start_time": "2021-08-16T21:40:42.255Z"
   },
   {
    "duration": 13,
    "start_time": "2021-08-16T21:40:42.264Z"
   },
   {
    "duration": 213,
    "start_time": "2021-08-16T21:40:42.279Z"
   },
   {
    "duration": 9,
    "start_time": "2021-08-16T21:40:42.493Z"
   },
   {
    "duration": 3,
    "start_time": "2021-08-16T21:40:42.503Z"
   },
   {
    "duration": 6,
    "start_time": "2021-08-16T21:40:42.510Z"
   },
   {
    "duration": 10,
    "start_time": "2021-08-16T21:40:42.518Z"
   },
   {
    "duration": 9,
    "start_time": "2021-08-16T21:40:42.529Z"
   },
   {
    "duration": 9,
    "start_time": "2021-08-16T21:40:42.539Z"
   },
   {
    "duration": 6,
    "start_time": "2021-08-16T21:40:42.549Z"
   },
   {
    "duration": 38,
    "start_time": "2021-08-16T21:40:42.557Z"
   },
   {
    "duration": 8,
    "start_time": "2021-08-16T21:40:42.596Z"
   },
   {
    "duration": 7,
    "start_time": "2021-08-16T21:40:42.605Z"
   },
   {
    "duration": 6,
    "start_time": "2021-08-16T21:40:42.614Z"
   },
   {
    "duration": 19,
    "start_time": "2021-08-16T21:40:42.622Z"
   },
   {
    "duration": 12,
    "start_time": "2021-08-16T21:40:42.643Z"
   },
   {
    "duration": 43,
    "start_time": "2021-08-16T21:40:42.657Z"
   },
   {
    "duration": 22,
    "start_time": "2021-08-16T21:40:42.702Z"
   },
   {
    "duration": 6,
    "start_time": "2021-08-16T21:40:42.726Z"
   },
   {
    "duration": 9,
    "start_time": "2021-08-16T21:40:42.734Z"
   },
   {
    "duration": 6,
    "start_time": "2021-08-16T21:40:42.744Z"
   },
   {
    "duration": 51,
    "start_time": "2021-08-16T21:40:42.751Z"
   },
   {
    "duration": 228,
    "start_time": "2021-08-16T21:40:42.804Z"
   },
   {
    "duration": 8,
    "start_time": "2021-08-16T21:40:43.033Z"
   },
   {
    "duration": 4,
    "start_time": "2021-08-16T21:40:43.043Z"
   },
   {
    "duration": 4,
    "start_time": "2021-08-16T21:40:43.049Z"
   },
   {
    "duration": 4,
    "start_time": "2021-08-16T21:40:43.054Z"
   },
   {
    "duration": 33,
    "start_time": "2021-08-16T21:40:43.059Z"
   },
   {
    "duration": 219,
    "start_time": "2021-08-16T21:40:43.093Z"
   },
   {
    "duration": 9,
    "start_time": "2021-08-16T21:40:43.314Z"
   },
   {
    "duration": 230,
    "start_time": "2021-08-16T21:40:43.325Z"
   },
   {
    "duration": 7,
    "start_time": "2021-08-16T21:40:43.557Z"
   },
   {
    "duration": 31,
    "start_time": "2021-08-16T21:40:43.565Z"
   },
   {
    "duration": 6,
    "start_time": "2021-08-16T21:40:43.598Z"
   },
   {
    "duration": 15,
    "start_time": "2021-08-16T21:40:43.606Z"
   },
   {
    "duration": 13,
    "start_time": "2021-08-16T21:40:43.623Z"
   },
   {
    "duration": 7,
    "start_time": "2021-08-16T21:40:43.637Z"
   },
   {
    "duration": 51,
    "start_time": "2021-08-16T21:40:43.645Z"
   },
   {
    "duration": 13,
    "start_time": "2021-08-16T21:40:43.697Z"
   },
   {
    "duration": 6,
    "start_time": "2021-08-16T21:40:43.712Z"
   },
   {
    "duration": 16,
    "start_time": "2021-08-16T21:40:43.720Z"
   },
   {
    "duration": 12,
    "start_time": "2021-08-16T21:40:43.737Z"
   },
   {
    "duration": 49,
    "start_time": "2021-08-16T21:40:43.750Z"
   },
   {
    "duration": 12,
    "start_time": "2021-08-16T21:40:43.801Z"
   },
   {
    "duration": 17,
    "start_time": "2021-08-16T21:40:43.814Z"
   },
   {
    "duration": 10,
    "start_time": "2021-08-16T21:40:43.832Z"
   },
   {
    "duration": 235,
    "start_time": "2021-08-16T21:40:43.843Z"
   },
   {
    "duration": 15,
    "start_time": "2021-08-16T21:40:44.080Z"
   },
   {
    "duration": 8,
    "start_time": "2021-08-16T21:40:44.096Z"
   },
   {
    "duration": 11,
    "start_time": "2021-08-16T21:40:44.105Z"
   },
   {
    "duration": 5,
    "start_time": "2021-08-16T21:40:44.121Z"
   },
   {
    "duration": 4,
    "start_time": "2021-08-16T21:40:44.128Z"
   },
   {
    "duration": 25,
    "start_time": "2021-08-16T21:40:44.134Z"
   },
   {
    "duration": 34,
    "start_time": "2021-08-16T21:40:44.161Z"
   },
   {
    "duration": 9,
    "start_time": "2021-08-16T21:40:44.197Z"
   },
   {
    "duration": 4,
    "start_time": "2021-08-16T21:40:44.208Z"
   },
   {
    "duration": 21,
    "start_time": "2021-08-16T21:40:44.213Z"
   },
   {
    "duration": 13,
    "start_time": "2021-08-16T21:40:44.236Z"
   },
   {
    "duration": 13,
    "start_time": "2021-08-16T21:40:44.251Z"
   },
   {
    "duration": 30,
    "start_time": "2021-08-16T21:40:44.265Z"
   },
   {
    "duration": 1112,
    "start_time": "2021-08-16T21:40:44.296Z"
   },
   {
    "duration": 6,
    "start_time": "2021-08-16T21:40:45.409Z"
   },
   {
    "duration": 6,
    "start_time": "2021-08-16T21:40:45.417Z"
   },
   {
    "duration": 7,
    "start_time": "2021-08-16T21:40:45.425Z"
   },
   {
    "duration": 7,
    "start_time": "2021-08-16T21:40:45.434Z"
   },
   {
    "duration": 9,
    "start_time": "2021-08-16T21:40:45.443Z"
   },
   {
    "duration": 6,
    "start_time": "2021-08-16T21:40:45.453Z"
   },
   {
    "duration": 11,
    "start_time": "2021-08-16T21:40:45.460Z"
   },
   {
    "duration": 2,
    "start_time": "2021-08-16T21:40:45.492Z"
   },
   {
    "duration": 13,
    "start_time": "2021-08-16T21:40:45.496Z"
   },
   {
    "duration": 8,
    "start_time": "2021-08-16T21:40:45.510Z"
   },
   {
    "duration": 1345,
    "start_time": "2021-08-16T21:40:45.519Z"
   },
   {
    "duration": 15,
    "start_time": "2021-08-16T21:40:46.866Z"
   },
   {
    "duration": 5,
    "start_time": "2021-08-16T21:40:46.892Z"
   },
   {
    "duration": 20,
    "start_time": "2021-08-16T21:40:46.899Z"
   },
   {
    "duration": 3,
    "start_time": "2021-08-16T21:40:46.920Z"
   },
   {
    "duration": 17,
    "start_time": "2021-08-16T21:40:46.924Z"
   },
   {
    "duration": 15,
    "start_time": "2021-08-16T21:40:46.943Z"
   },
   {
    "duration": 46,
    "start_time": "2021-08-16T21:40:46.959Z"
   },
   {
    "duration": 15,
    "start_time": "2021-08-16T21:40:47.007Z"
   },
   {
    "duration": 14,
    "start_time": "2021-08-16T21:40:47.024Z"
   },
   {
    "duration": 53,
    "start_time": "2021-08-16T21:40:47.039Z"
   },
   {
    "duration": 16,
    "start_time": "2021-08-16T21:40:47.094Z"
   },
   {
    "duration": 16,
    "start_time": "2021-08-16T21:40:47.111Z"
   },
   {
    "duration": 5,
    "start_time": "2021-08-16T21:40:47.128Z"
   },
   {
    "duration": 556,
    "start_time": "2021-08-16T21:42:11.897Z"
   },
   {
    "duration": 62,
    "start_time": "2021-08-16T21:42:12.455Z"
   },
   {
    "duration": 9,
    "start_time": "2021-08-16T21:42:12.519Z"
   },
   {
    "duration": 10,
    "start_time": "2021-08-16T21:42:12.530Z"
   },
   {
    "duration": 12,
    "start_time": "2021-08-16T21:42:12.542Z"
   },
   {
    "duration": 38,
    "start_time": "2021-08-16T21:42:12.556Z"
   },
   {
    "duration": 7,
    "start_time": "2021-08-16T21:42:12.595Z"
   },
   {
    "duration": 5,
    "start_time": "2021-08-16T21:42:12.604Z"
   },
   {
    "duration": 7,
    "start_time": "2021-08-16T21:42:12.611Z"
   },
   {
    "duration": 5,
    "start_time": "2021-08-16T21:42:12.620Z"
   },
   {
    "duration": 9,
    "start_time": "2021-08-16T21:42:12.626Z"
   },
   {
    "duration": 11,
    "start_time": "2021-08-16T21:42:12.636Z"
   },
   {
    "duration": 14,
    "start_time": "2021-08-16T21:42:12.648Z"
   },
   {
    "duration": 7,
    "start_time": "2021-08-16T21:42:12.691Z"
   },
   {
    "duration": 6,
    "start_time": "2021-08-16T21:42:12.699Z"
   },
   {
    "duration": 8,
    "start_time": "2021-08-16T21:42:12.706Z"
   },
   {
    "duration": 11,
    "start_time": "2021-08-16T21:42:12.716Z"
   },
   {
    "duration": 10,
    "start_time": "2021-08-16T21:42:12.728Z"
   },
   {
    "duration": 11,
    "start_time": "2021-08-16T21:42:12.740Z"
   },
   {
    "duration": 224,
    "start_time": "2021-08-16T21:42:12.752Z"
   },
   {
    "duration": 14,
    "start_time": "2021-08-16T21:42:12.978Z"
   },
   {
    "duration": 4,
    "start_time": "2021-08-16T21:42:12.993Z"
   },
   {
    "duration": 3,
    "start_time": "2021-08-16T21:42:13.000Z"
   },
   {
    "duration": 9,
    "start_time": "2021-08-16T21:42:13.006Z"
   },
   {
    "duration": 9,
    "start_time": "2021-08-16T21:42:13.016Z"
   },
   {
    "duration": 11,
    "start_time": "2021-08-16T21:42:13.026Z"
   },
   {
    "duration": 8,
    "start_time": "2021-08-16T21:42:13.038Z"
   },
   {
    "duration": 8,
    "start_time": "2021-08-16T21:42:13.047Z"
   },
   {
    "duration": 41,
    "start_time": "2021-08-16T21:42:13.056Z"
   },
   {
    "duration": 7,
    "start_time": "2021-08-16T21:42:13.098Z"
   },
   {
    "duration": 3,
    "start_time": "2021-08-16T21:42:13.107Z"
   },
   {
    "duration": 18,
    "start_time": "2021-08-16T21:42:13.112Z"
   },
   {
    "duration": 13,
    "start_time": "2021-08-16T21:42:13.132Z"
   },
   {
    "duration": 45,
    "start_time": "2021-08-16T21:42:13.146Z"
   },
   {
    "duration": 23,
    "start_time": "2021-08-16T21:42:13.193Z"
   },
   {
    "duration": 14,
    "start_time": "2021-08-16T21:42:13.218Z"
   },
   {
    "duration": 11,
    "start_time": "2021-08-16T21:42:13.234Z"
   },
   {
    "duration": 4,
    "start_time": "2021-08-16T21:42:13.246Z"
   },
   {
    "duration": 30,
    "start_time": "2021-08-16T21:42:13.251Z"
   },
   {
    "duration": 217,
    "start_time": "2021-08-16T21:42:13.291Z"
   },
   {
    "duration": 8,
    "start_time": "2021-08-16T21:42:13.509Z"
   },
   {
    "duration": 16,
    "start_time": "2021-08-16T21:42:13.518Z"
   },
   {
    "duration": 19,
    "start_time": "2021-08-16T21:42:13.535Z"
   },
   {
    "duration": 17,
    "start_time": "2021-08-16T21:42:13.555Z"
   },
   {
    "duration": 10,
    "start_time": "2021-08-16T21:42:13.574Z"
   },
   {
    "duration": 216,
    "start_time": "2021-08-16T21:42:13.586Z"
   },
   {
    "duration": 8,
    "start_time": "2021-08-16T21:42:13.803Z"
   },
   {
    "duration": 214,
    "start_time": "2021-08-16T21:42:13.813Z"
   },
   {
    "duration": 7,
    "start_time": "2021-08-16T21:42:14.029Z"
   },
   {
    "duration": 19,
    "start_time": "2021-08-16T21:42:14.038Z"
   },
   {
    "duration": 7,
    "start_time": "2021-08-16T21:42:14.058Z"
   },
   {
    "duration": 43,
    "start_time": "2021-08-16T21:42:14.067Z"
   },
   {
    "duration": 13,
    "start_time": "2021-08-16T21:42:14.112Z"
   },
   {
    "duration": 10,
    "start_time": "2021-08-16T21:42:14.126Z"
   },
   {
    "duration": 27,
    "start_time": "2021-08-16T21:42:14.137Z"
   },
   {
    "duration": 18,
    "start_time": "2021-08-16T21:42:14.165Z"
   },
   {
    "duration": 8,
    "start_time": "2021-08-16T21:42:14.184Z"
   },
   {
    "duration": 29,
    "start_time": "2021-08-16T21:42:14.193Z"
   },
   {
    "duration": 14,
    "start_time": "2021-08-16T21:42:14.224Z"
   },
   {
    "duration": 26,
    "start_time": "2021-08-16T21:42:14.240Z"
   },
   {
    "duration": 33,
    "start_time": "2021-08-16T21:42:14.267Z"
   },
   {
    "duration": 13,
    "start_time": "2021-08-16T21:42:14.301Z"
   },
   {
    "duration": 14,
    "start_time": "2021-08-16T21:42:14.315Z"
   },
   {
    "duration": 234,
    "start_time": "2021-08-16T21:42:14.331Z"
   },
   {
    "duration": 10,
    "start_time": "2021-08-16T21:42:14.567Z"
   },
   {
    "duration": 17,
    "start_time": "2021-08-16T21:42:14.579Z"
   },
   {
    "duration": 26,
    "start_time": "2021-08-16T21:42:14.598Z"
   },
   {
    "duration": 14,
    "start_time": "2021-08-16T21:42:14.630Z"
   },
   {
    "duration": 14,
    "start_time": "2021-08-16T21:42:14.646Z"
   },
   {
    "duration": 39,
    "start_time": "2021-08-16T21:42:14.661Z"
   },
   {
    "duration": 7,
    "start_time": "2021-08-16T21:42:14.701Z"
   },
   {
    "duration": 24,
    "start_time": "2021-08-16T21:42:14.710Z"
   },
   {
    "duration": 19,
    "start_time": "2021-08-16T21:42:14.735Z"
   },
   {
    "duration": 36,
    "start_time": "2021-08-16T21:42:14.756Z"
   },
   {
    "duration": 18,
    "start_time": "2021-08-16T21:42:14.793Z"
   },
   {
    "duration": 14,
    "start_time": "2021-08-16T21:42:14.813Z"
   },
   {
    "duration": 14,
    "start_time": "2021-08-16T21:42:14.828Z"
   },
   {
    "duration": 1279,
    "start_time": "2021-08-16T21:42:14.843Z"
   },
   {
    "duration": 7,
    "start_time": "2021-08-16T21:42:16.124Z"
   },
   {
    "duration": 11,
    "start_time": "2021-08-16T21:42:16.132Z"
   },
   {
    "duration": 14,
    "start_time": "2021-08-16T21:42:16.145Z"
   },
   {
    "duration": 14,
    "start_time": "2021-08-16T21:42:16.161Z"
   },
   {
    "duration": 17,
    "start_time": "2021-08-16T21:42:16.177Z"
   },
   {
    "duration": 12,
    "start_time": "2021-08-16T21:42:16.196Z"
   },
   {
    "duration": 18,
    "start_time": "2021-08-16T21:42:16.209Z"
   },
   {
    "duration": 9,
    "start_time": "2021-08-16T21:42:16.229Z"
   },
   {
    "duration": 9,
    "start_time": "2021-08-16T21:42:16.239Z"
   },
   {
    "duration": 10,
    "start_time": "2021-08-16T21:42:16.250Z"
   },
   {
    "duration": 1368,
    "start_time": "2021-08-16T21:42:16.261Z"
   },
   {
    "duration": 16,
    "start_time": "2021-08-16T21:42:17.631Z"
   },
   {
    "duration": 7,
    "start_time": "2021-08-16T21:42:17.649Z"
   },
   {
    "duration": 40,
    "start_time": "2021-08-16T21:42:17.657Z"
   },
   {
    "duration": 3,
    "start_time": "2021-08-16T21:42:17.698Z"
   },
   {
    "duration": 17,
    "start_time": "2021-08-16T21:42:17.702Z"
   },
   {
    "duration": 15,
    "start_time": "2021-08-16T21:42:17.721Z"
   },
   {
    "duration": 15,
    "start_time": "2021-08-16T21:42:17.738Z"
   },
   {
    "duration": 49,
    "start_time": "2021-08-16T21:42:17.754Z"
   },
   {
    "duration": 13,
    "start_time": "2021-08-16T21:42:17.805Z"
   },
   {
    "duration": 15,
    "start_time": "2021-08-16T21:42:17.820Z"
   },
   {
    "duration": 12,
    "start_time": "2021-08-16T21:42:17.837Z"
   },
   {
    "duration": 51,
    "start_time": "2021-08-16T21:42:17.851Z"
   },
   {
    "duration": 6,
    "start_time": "2021-08-16T21:42:17.904Z"
   },
   {
    "duration": 676,
    "start_time": "2021-08-16T21:45:02.967Z"
   },
   {
    "duration": 64,
    "start_time": "2021-08-16T21:45:03.644Z"
   },
   {
    "duration": 10,
    "start_time": "2021-08-16T21:45:03.710Z"
   },
   {
    "duration": 14,
    "start_time": "2021-08-16T21:45:03.721Z"
   },
   {
    "duration": 14,
    "start_time": "2021-08-16T21:45:03.737Z"
   },
   {
    "duration": 5,
    "start_time": "2021-08-16T21:45:03.752Z"
   },
   {
    "duration": 34,
    "start_time": "2021-08-16T21:45:03.758Z"
   },
   {
    "duration": 7,
    "start_time": "2021-08-16T21:45:03.794Z"
   },
   {
    "duration": 8,
    "start_time": "2021-08-16T21:45:03.803Z"
   },
   {
    "duration": 7,
    "start_time": "2021-08-16T21:45:03.812Z"
   },
   {
    "duration": 8,
    "start_time": "2021-08-16T21:45:03.820Z"
   },
   {
    "duration": 9,
    "start_time": "2021-08-16T21:45:03.829Z"
   },
   {
    "duration": 16,
    "start_time": "2021-08-16T21:45:03.840Z"
   },
   {
    "duration": 35,
    "start_time": "2021-08-16T21:45:03.858Z"
   },
   {
    "duration": 6,
    "start_time": "2021-08-16T21:45:03.895Z"
   },
   {
    "duration": 8,
    "start_time": "2021-08-16T21:45:03.903Z"
   },
   {
    "duration": 12,
    "start_time": "2021-08-16T21:45:03.912Z"
   },
   {
    "duration": 12,
    "start_time": "2021-08-16T21:45:03.926Z"
   },
   {
    "duration": 10,
    "start_time": "2021-08-16T21:45:03.940Z"
   },
   {
    "duration": 244,
    "start_time": "2021-08-16T21:45:03.952Z"
   },
   {
    "duration": 11,
    "start_time": "2021-08-16T21:45:04.198Z"
   },
   {
    "duration": 4,
    "start_time": "2021-08-16T21:45:04.211Z"
   },
   {
    "duration": 4,
    "start_time": "2021-08-16T21:45:04.220Z"
   },
   {
    "duration": 10,
    "start_time": "2021-08-16T21:45:04.227Z"
   },
   {
    "duration": 10,
    "start_time": "2021-08-16T21:45:04.239Z"
   },
   {
    "duration": 47,
    "start_time": "2021-08-16T21:45:04.251Z"
   },
   {
    "duration": 7,
    "start_time": "2021-08-16T21:45:04.300Z"
   },
   {
    "duration": 7,
    "start_time": "2021-08-16T21:45:04.309Z"
   },
   {
    "duration": 10,
    "start_time": "2021-08-16T21:45:04.318Z"
   },
   {
    "duration": 9,
    "start_time": "2021-08-16T21:45:04.330Z"
   },
   {
    "duration": 53,
    "start_time": "2021-08-16T21:45:04.341Z"
   },
   {
    "duration": 18,
    "start_time": "2021-08-16T21:45:04.395Z"
   },
   {
    "duration": 15,
    "start_time": "2021-08-16T21:45:04.415Z"
   },
   {
    "duration": 12,
    "start_time": "2021-08-16T21:45:04.432Z"
   },
   {
    "duration": 56,
    "start_time": "2021-08-16T21:45:04.446Z"
   },
   {
    "duration": 6,
    "start_time": "2021-08-16T21:45:04.504Z"
   },
   {
    "duration": 4,
    "start_time": "2021-08-16T21:45:04.512Z"
   },
   {
    "duration": 7,
    "start_time": "2021-08-16T21:45:04.517Z"
   },
   {
    "duration": 9,
    "start_time": "2021-08-16T21:45:04.526Z"
   },
   {
    "duration": 58,
    "start_time": "2021-08-16T21:45:04.536Z"
   },
   {
    "duration": 233,
    "start_time": "2021-08-16T21:45:04.596Z"
   },
   {
    "duration": 7,
    "start_time": "2021-08-16T21:45:04.831Z"
   },
   {
    "duration": 30,
    "start_time": "2021-08-16T21:45:04.839Z"
   },
   {
    "duration": 10,
    "start_time": "2021-08-16T21:45:04.871Z"
   },
   {
    "duration": 15,
    "start_time": "2021-08-16T21:45:04.883Z"
   },
   {
    "duration": 14,
    "start_time": "2021-08-16T21:45:04.900Z"
   },
   {
    "duration": 221,
    "start_time": "2021-08-16T21:45:04.915Z"
   },
   {
    "duration": 8,
    "start_time": "2021-08-16T21:45:05.137Z"
   },
   {
    "duration": 207,
    "start_time": "2021-08-16T21:45:05.146Z"
   },
   {
    "duration": 5,
    "start_time": "2021-08-16T21:45:05.355Z"
   },
   {
    "duration": 29,
    "start_time": "2021-08-16T21:45:05.362Z"
   },
   {
    "duration": 4,
    "start_time": "2021-08-16T21:45:05.393Z"
   },
   {
    "duration": 25,
    "start_time": "2021-08-16T21:45:05.399Z"
   },
   {
    "duration": 12,
    "start_time": "2021-08-16T21:45:05.425Z"
   },
   {
    "duration": 6,
    "start_time": "2021-08-16T21:45:05.438Z"
   },
   {
    "duration": 11,
    "start_time": "2021-08-16T21:45:05.446Z"
   },
   {
    "duration": 37,
    "start_time": "2021-08-16T21:45:05.459Z"
   },
   {
    "duration": 7,
    "start_time": "2021-08-16T21:45:05.498Z"
   },
   {
    "duration": 24,
    "start_time": "2021-08-16T21:45:05.507Z"
   },
   {
    "duration": 12,
    "start_time": "2021-08-16T21:45:05.533Z"
   },
   {
    "duration": 14,
    "start_time": "2021-08-16T21:45:05.547Z"
   },
   {
    "duration": 36,
    "start_time": "2021-08-16T21:45:05.563Z"
   },
   {
    "duration": 12,
    "start_time": "2021-08-16T21:45:05.601Z"
   },
   {
    "duration": 10,
    "start_time": "2021-08-16T21:45:05.614Z"
   },
   {
    "duration": 229,
    "start_time": "2021-08-16T21:45:05.625Z"
   },
   {
    "duration": 10,
    "start_time": "2021-08-16T21:45:05.856Z"
   },
   {
    "duration": 24,
    "start_time": "2021-08-16T21:45:05.867Z"
   },
   {
    "duration": 10,
    "start_time": "2021-08-16T21:45:05.895Z"
   },
   {
    "duration": 13,
    "start_time": "2021-08-16T21:45:05.907Z"
   },
   {
    "duration": 6,
    "start_time": "2021-08-16T21:45:05.921Z"
   },
   {
    "duration": 31,
    "start_time": "2021-08-16T21:45:05.929Z"
   },
   {
    "duration": 5,
    "start_time": "2021-08-16T21:45:05.962Z"
   },
   {
    "duration": 23,
    "start_time": "2021-08-16T21:45:05.969Z"
   },
   {
    "duration": 2,
    "start_time": "2021-08-16T21:45:05.993Z"
   },
   {
    "duration": 20,
    "start_time": "2021-08-16T21:45:05.997Z"
   },
   {
    "duration": 14,
    "start_time": "2021-08-16T21:45:06.018Z"
   },
   {
    "duration": 14,
    "start_time": "2021-08-16T21:45:06.034Z"
   },
   {
    "duration": 9,
    "start_time": "2021-08-16T21:45:06.050Z"
   },
   {
    "duration": 1165,
    "start_time": "2021-08-16T21:45:06.060Z"
   },
   {
    "duration": 7,
    "start_time": "2021-08-16T21:45:07.227Z"
   },
   {
    "duration": 6,
    "start_time": "2021-08-16T21:45:07.235Z"
   },
   {
    "duration": 8,
    "start_time": "2021-08-16T21:45:07.243Z"
   },
   {
    "duration": 8,
    "start_time": "2021-08-16T21:45:07.253Z"
   },
   {
    "duration": 30,
    "start_time": "2021-08-16T21:45:07.262Z"
   },
   {
    "duration": 3,
    "start_time": "2021-08-16T21:45:07.293Z"
   },
   {
    "duration": 9,
    "start_time": "2021-08-16T21:45:07.298Z"
   },
   {
    "duration": 8,
    "start_time": "2021-08-16T21:45:07.309Z"
   },
   {
    "duration": 10,
    "start_time": "2021-08-16T21:45:07.319Z"
   },
   {
    "duration": 10,
    "start_time": "2021-08-16T21:45:07.330Z"
   },
   {
    "duration": 1361,
    "start_time": "2021-08-16T21:45:07.342Z"
   },
   {
    "duration": 17,
    "start_time": "2021-08-16T21:45:08.704Z"
   },
   {
    "duration": 18,
    "start_time": "2021-08-16T21:45:08.722Z"
   },
   {
    "duration": 33,
    "start_time": "2021-08-16T21:45:08.741Z"
   },
   {
    "duration": 3,
    "start_time": "2021-08-16T21:45:08.775Z"
   },
   {
    "duration": 26,
    "start_time": "2021-08-16T21:45:08.779Z"
   },
   {
    "duration": 16,
    "start_time": "2021-08-16T21:45:08.807Z"
   },
   {
    "duration": 17,
    "start_time": "2021-08-16T21:45:08.825Z"
   },
   {
    "duration": 25,
    "start_time": "2021-08-16T21:45:08.844Z"
   },
   {
    "duration": 15,
    "start_time": "2021-08-16T21:45:08.871Z"
   },
   {
    "duration": 26,
    "start_time": "2021-08-16T21:45:08.892Z"
   },
   {
    "duration": 14,
    "start_time": "2021-08-16T21:45:08.920Z"
   },
   {
    "duration": 17,
    "start_time": "2021-08-16T21:45:08.935Z"
   },
   {
    "duration": 11,
    "start_time": "2021-08-16T21:45:08.953Z"
   },
   {
    "duration": 5715,
    "start_time": "2021-08-16T21:46:16.211Z"
   },
   {
    "duration": 557,
    "start_time": "2021-08-16T21:47:33.088Z"
   },
   {
    "duration": 69,
    "start_time": "2021-08-16T21:47:33.647Z"
   },
   {
    "duration": 8,
    "start_time": "2021-08-16T21:47:33.718Z"
   },
   {
    "duration": 10,
    "start_time": "2021-08-16T21:47:33.728Z"
   },
   {
    "duration": 12,
    "start_time": "2021-08-16T21:47:33.740Z"
   },
   {
    "duration": 4,
    "start_time": "2021-08-16T21:47:33.754Z"
   },
   {
    "duration": 6,
    "start_time": "2021-08-16T21:47:33.791Z"
   },
   {
    "duration": 7,
    "start_time": "2021-08-16T21:47:33.799Z"
   },
   {
    "duration": 6,
    "start_time": "2021-08-16T21:47:33.808Z"
   },
   {
    "duration": 7,
    "start_time": "2021-08-16T21:47:33.815Z"
   },
   {
    "duration": 8,
    "start_time": "2021-08-16T21:47:33.823Z"
   },
   {
    "duration": 9,
    "start_time": "2021-08-16T21:47:33.832Z"
   },
   {
    "duration": 12,
    "start_time": "2021-08-16T21:47:33.843Z"
   },
   {
    "duration": 36,
    "start_time": "2021-08-16T21:47:33.856Z"
   },
   {
    "duration": 4,
    "start_time": "2021-08-16T21:47:33.894Z"
   },
   {
    "duration": 8,
    "start_time": "2021-08-16T21:47:33.900Z"
   },
   {
    "duration": 12,
    "start_time": "2021-08-16T21:47:33.910Z"
   },
   {
    "duration": 10,
    "start_time": "2021-08-16T21:47:33.923Z"
   },
   {
    "duration": 19,
    "start_time": "2021-08-16T21:47:33.934Z"
   },
   {
    "duration": 214,
    "start_time": "2021-08-16T21:47:33.955Z"
   },
   {
    "duration": 8,
    "start_time": "2021-08-16T21:47:34.170Z"
   },
   {
    "duration": 12,
    "start_time": "2021-08-16T21:47:34.180Z"
   },
   {
    "duration": 5,
    "start_time": "2021-08-16T21:47:34.196Z"
   },
   {
    "duration": 14,
    "start_time": "2021-08-16T21:47:34.204Z"
   },
   {
    "duration": 9,
    "start_time": "2021-08-16T21:47:34.219Z"
   },
   {
    "duration": 20,
    "start_time": "2021-08-16T21:47:34.230Z"
   },
   {
    "duration": 9,
    "start_time": "2021-08-16T21:47:34.251Z"
   },
   {
    "duration": 15,
    "start_time": "2021-08-16T21:47:34.261Z"
   },
   {
    "duration": 18,
    "start_time": "2021-08-16T21:47:34.277Z"
   },
   {
    "duration": 15,
    "start_time": "2021-08-16T21:47:34.296Z"
   },
   {
    "duration": 22,
    "start_time": "2021-08-16T21:47:34.313Z"
   },
   {
    "duration": 34,
    "start_time": "2021-08-16T21:47:34.337Z"
   },
   {
    "duration": 25,
    "start_time": "2021-08-16T21:47:34.372Z"
   },
   {
    "duration": 11,
    "start_time": "2021-08-16T21:47:34.398Z"
   },
   {
    "duration": 22,
    "start_time": "2021-08-16T21:47:34.411Z"
   },
   {
    "duration": 6,
    "start_time": "2021-08-16T21:47:34.434Z"
   },
   {
    "duration": 9,
    "start_time": "2021-08-16T21:47:34.442Z"
   },
   {
    "duration": 13,
    "start_time": "2021-08-16T21:47:34.452Z"
   },
   {
    "duration": 3,
    "start_time": "2021-08-16T21:47:34.467Z"
   },
   {
    "duration": 46,
    "start_time": "2021-08-16T21:47:34.471Z"
   },
   {
    "duration": 276,
    "start_time": "2021-08-16T21:47:34.518Z"
   },
   {
    "duration": 7,
    "start_time": "2021-08-16T21:47:34.796Z"
   },
   {
    "duration": 5,
    "start_time": "2021-08-16T21:47:34.804Z"
   },
   {
    "duration": 4,
    "start_time": "2021-08-16T21:47:34.810Z"
   },
   {
    "duration": 3,
    "start_time": "2021-08-16T21:47:34.816Z"
   },
   {
    "duration": 6,
    "start_time": "2021-08-16T21:47:34.820Z"
   },
   {
    "duration": 242,
    "start_time": "2021-08-16T21:47:34.828Z"
   },
   {
    "duration": 8,
    "start_time": "2021-08-16T21:47:35.072Z"
   },
   {
    "duration": 233,
    "start_time": "2021-08-16T21:47:35.082Z"
   },
   {
    "duration": 8,
    "start_time": "2021-08-16T21:47:35.317Z"
   },
   {
    "duration": 19,
    "start_time": "2021-08-16T21:47:35.326Z"
   },
   {
    "duration": 6,
    "start_time": "2021-08-16T21:47:35.347Z"
   },
   {
    "duration": 43,
    "start_time": "2021-08-16T21:47:35.355Z"
   },
   {
    "duration": 12,
    "start_time": "2021-08-16T21:47:35.399Z"
   },
   {
    "duration": 7,
    "start_time": "2021-08-16T21:47:35.412Z"
   },
   {
    "duration": 13,
    "start_time": "2021-08-16T21:47:35.420Z"
   },
   {
    "duration": 12,
    "start_time": "2021-08-16T21:47:35.434Z"
   },
   {
    "duration": 6,
    "start_time": "2021-08-16T21:47:35.447Z"
   },
   {
    "duration": 50,
    "start_time": "2021-08-16T21:47:35.455Z"
   },
   {
    "duration": 12,
    "start_time": "2021-08-16T21:47:35.506Z"
   },
   {
    "duration": 11,
    "start_time": "2021-08-16T21:47:35.519Z"
   },
   {
    "duration": 21,
    "start_time": "2021-08-16T21:47:35.532Z"
   },
   {
    "duration": 15,
    "start_time": "2021-08-16T21:47:35.555Z"
   },
   {
    "duration": 27,
    "start_time": "2021-08-16T21:47:35.571Z"
   },
   {
    "duration": 230,
    "start_time": "2021-08-16T21:47:35.599Z"
   },
   {
    "duration": 11,
    "start_time": "2021-08-16T21:47:35.830Z"
   },
   {
    "duration": 8,
    "start_time": "2021-08-16T21:47:35.843Z"
   },
   {
    "duration": 10,
    "start_time": "2021-08-16T21:47:35.856Z"
   },
   {
    "duration": 29,
    "start_time": "2021-08-16T21:47:35.867Z"
   },
   {
    "duration": 8,
    "start_time": "2021-08-16T21:47:35.898Z"
   },
   {
    "duration": 30,
    "start_time": "2021-08-16T21:47:35.907Z"
   },
   {
    "duration": 8,
    "start_time": "2021-08-16T21:47:35.938Z"
   },
   {
    "duration": 10,
    "start_time": "2021-08-16T21:47:35.947Z"
   },
   {
    "duration": 35,
    "start_time": "2021-08-16T21:47:35.958Z"
   },
   {
    "duration": 19,
    "start_time": "2021-08-16T21:47:35.994Z"
   },
   {
    "duration": 14,
    "start_time": "2021-08-16T21:47:36.014Z"
   },
   {
    "duration": 14,
    "start_time": "2021-08-16T21:47:36.029Z"
   },
   {
    "duration": 8,
    "start_time": "2021-08-16T21:47:36.045Z"
   },
   {
    "duration": 1163,
    "start_time": "2021-08-16T21:47:36.055Z"
   },
   {
    "duration": 8,
    "start_time": "2021-08-16T21:47:37.220Z"
   },
   {
    "duration": 7,
    "start_time": "2021-08-16T21:47:37.229Z"
   },
   {
    "duration": 7,
    "start_time": "2021-08-16T21:47:37.237Z"
   },
   {
    "duration": 7,
    "start_time": "2021-08-16T21:47:37.246Z"
   },
   {
    "duration": 5,
    "start_time": "2021-08-16T21:47:37.255Z"
   },
   {
    "duration": 3,
    "start_time": "2021-08-16T21:47:37.262Z"
   },
   {
    "duration": 7,
    "start_time": "2021-08-16T21:47:37.291Z"
   },
   {
    "duration": 9,
    "start_time": "2021-08-16T21:47:37.300Z"
   },
   {
    "duration": 10,
    "start_time": "2021-08-16T21:47:37.310Z"
   },
   {
    "duration": 11,
    "start_time": "2021-08-16T21:47:37.321Z"
   },
   {
    "duration": 1400,
    "start_time": "2021-08-16T21:47:37.334Z"
   },
   {
    "duration": 16,
    "start_time": "2021-08-16T21:47:38.736Z"
   },
   {
    "duration": 6,
    "start_time": "2021-08-16T21:47:38.754Z"
   },
   {
    "duration": 44,
    "start_time": "2021-08-16T21:47:38.762Z"
   },
   {
    "duration": 3,
    "start_time": "2021-08-16T21:47:38.808Z"
   },
   {
    "duration": 16,
    "start_time": "2021-08-16T21:47:38.812Z"
   },
   {
    "duration": 15,
    "start_time": "2021-08-16T21:47:38.830Z"
   },
   {
    "duration": 45,
    "start_time": "2021-08-16T21:47:38.847Z"
   },
   {
    "duration": 15,
    "start_time": "2021-08-16T21:47:38.894Z"
   },
   {
    "duration": 12,
    "start_time": "2021-08-16T21:47:38.911Z"
   },
   {
    "duration": 14,
    "start_time": "2021-08-16T21:47:38.925Z"
   },
   {
    "duration": 12,
    "start_time": "2021-08-16T21:47:38.940Z"
   },
   {
    "duration": 47,
    "start_time": "2021-08-16T21:47:38.953Z"
   },
   {
    "duration": 5,
    "start_time": "2021-08-16T21:47:39.001Z"
   },
   {
    "duration": 6157,
    "start_time": "2021-08-16T21:58:59.280Z"
   },
   {
    "duration": 555,
    "start_time": "2021-08-16T21:59:18.422Z"
   },
   {
    "duration": 66,
    "start_time": "2021-08-16T21:59:18.979Z"
   },
   {
    "duration": 9,
    "start_time": "2021-08-16T21:59:19.047Z"
   },
   {
    "duration": 33,
    "start_time": "2021-08-16T21:59:19.058Z"
   },
   {
    "duration": 16,
    "start_time": "2021-08-16T21:59:19.093Z"
   },
   {
    "duration": 5,
    "start_time": "2021-08-16T21:59:19.111Z"
   },
   {
    "duration": 7,
    "start_time": "2021-08-16T21:59:19.118Z"
   },
   {
    "duration": 4,
    "start_time": "2021-08-16T21:59:19.128Z"
   },
   {
    "duration": 7,
    "start_time": "2021-08-16T21:59:19.134Z"
   },
   {
    "duration": 12,
    "start_time": "2021-08-16T21:59:19.142Z"
   },
   {
    "duration": 38,
    "start_time": "2021-08-16T21:59:19.155Z"
   },
   {
    "duration": 17,
    "start_time": "2021-08-16T21:59:19.194Z"
   },
   {
    "duration": 14,
    "start_time": "2021-08-16T21:59:19.212Z"
   },
   {
    "duration": 10,
    "start_time": "2021-08-16T21:59:19.227Z"
   },
   {
    "duration": 8,
    "start_time": "2021-08-16T21:59:19.239Z"
   },
   {
    "duration": 9,
    "start_time": "2021-08-16T21:59:19.249Z"
   },
   {
    "duration": 10,
    "start_time": "2021-08-16T21:59:19.259Z"
   },
   {
    "duration": 23,
    "start_time": "2021-08-16T21:59:19.270Z"
   },
   {
    "duration": 8,
    "start_time": "2021-08-16T21:59:19.295Z"
   },
   {
    "duration": 239,
    "start_time": "2021-08-16T21:59:19.305Z"
   },
   {
    "duration": 10,
    "start_time": "2021-08-16T21:59:19.546Z"
   },
   {
    "duration": 5,
    "start_time": "2021-08-16T21:59:19.557Z"
   },
   {
    "duration": 25,
    "start_time": "2021-08-16T21:59:19.566Z"
   },
   {
    "duration": 17,
    "start_time": "2021-08-16T21:59:19.594Z"
   },
   {
    "duration": 10,
    "start_time": "2021-08-16T21:59:19.612Z"
   },
   {
    "duration": 8,
    "start_time": "2021-08-16T21:59:19.624Z"
   },
   {
    "duration": 5,
    "start_time": "2021-08-16T21:59:19.634Z"
   },
   {
    "duration": 7,
    "start_time": "2021-08-16T21:59:19.640Z"
   },
   {
    "duration": 12,
    "start_time": "2021-08-16T21:59:19.648Z"
   },
   {
    "duration": 38,
    "start_time": "2021-08-16T21:59:19.661Z"
   },
   {
    "duration": 6,
    "start_time": "2021-08-16T21:59:19.701Z"
   },
   {
    "duration": 21,
    "start_time": "2021-08-16T21:59:19.709Z"
   },
   {
    "duration": 12,
    "start_time": "2021-08-16T21:59:19.732Z"
   },
   {
    "duration": 10,
    "start_time": "2021-08-16T21:59:19.746Z"
   },
   {
    "duration": 54,
    "start_time": "2021-08-16T21:59:19.758Z"
   },
   {
    "duration": 6,
    "start_time": "2021-08-16T21:59:19.813Z"
   },
   {
    "duration": 5,
    "start_time": "2021-08-16T21:59:19.821Z"
   },
   {
    "duration": 14,
    "start_time": "2021-08-16T21:59:19.828Z"
   },
   {
    "duration": 4,
    "start_time": "2021-08-16T21:59:19.843Z"
   },
   {
    "duration": 69,
    "start_time": "2021-08-16T21:59:19.849Z"
   },
   {
    "duration": 230,
    "start_time": "2021-08-16T21:59:19.919Z"
   },
   {
    "duration": 9,
    "start_time": "2021-08-16T21:59:20.150Z"
   },
   {
    "duration": 5,
    "start_time": "2021-08-16T21:59:20.160Z"
   },
   {
    "duration": 26,
    "start_time": "2021-08-16T21:59:20.167Z"
   },
   {
    "duration": 3,
    "start_time": "2021-08-16T21:59:20.195Z"
   },
   {
    "duration": 8,
    "start_time": "2021-08-16T21:59:20.199Z"
   },
   {
    "duration": 245,
    "start_time": "2021-08-16T21:59:20.209Z"
   },
   {
    "duration": 8,
    "start_time": "2021-08-16T21:59:20.456Z"
   },
   {
    "duration": 239,
    "start_time": "2021-08-16T21:59:20.465Z"
   },
   {
    "duration": 8,
    "start_time": "2021-08-16T21:59:20.706Z"
   },
   {
    "duration": 37,
    "start_time": "2021-08-16T21:59:20.715Z"
   },
   {
    "duration": 7,
    "start_time": "2021-08-16T21:59:20.754Z"
   },
   {
    "duration": 19,
    "start_time": "2021-08-16T21:59:20.763Z"
   },
   {
    "duration": 22,
    "start_time": "2021-08-16T21:59:20.784Z"
   },
   {
    "duration": 8,
    "start_time": "2021-08-16T21:59:20.808Z"
   },
   {
    "duration": 12,
    "start_time": "2021-08-16T21:59:20.818Z"
   },
   {
    "duration": 13,
    "start_time": "2021-08-16T21:59:20.832Z"
   },
   {
    "duration": 6,
    "start_time": "2021-08-16T21:59:20.847Z"
   },
   {
    "duration": 21,
    "start_time": "2021-08-16T21:59:20.891Z"
   },
   {
    "duration": 12,
    "start_time": "2021-08-16T21:59:20.914Z"
   },
   {
    "duration": 11,
    "start_time": "2021-08-16T21:59:20.928Z"
   },
   {
    "duration": 13,
    "start_time": "2021-08-16T21:59:20.941Z"
   },
   {
    "duration": 49,
    "start_time": "2021-08-16T21:59:20.956Z"
   },
   {
    "duration": 12,
    "start_time": "2021-08-16T21:59:21.007Z"
   },
   {
    "duration": 247,
    "start_time": "2021-08-16T21:59:21.020Z"
   },
   {
    "duration": 22,
    "start_time": "2021-08-16T21:59:21.269Z"
   },
   {
    "duration": 11,
    "start_time": "2021-08-16T21:59:21.293Z"
   },
   {
    "duration": 12,
    "start_time": "2021-08-16T21:59:21.310Z"
   },
   {
    "duration": 5,
    "start_time": "2021-08-16T21:59:21.324Z"
   },
   {
    "duration": 5,
    "start_time": "2021-08-16T21:59:21.331Z"
   },
   {
    "duration": 59,
    "start_time": "2021-08-16T21:59:21.338Z"
   },
   {
    "duration": 7,
    "start_time": "2021-08-16T21:59:21.399Z"
   },
   {
    "duration": 9,
    "start_time": "2021-08-16T21:59:21.408Z"
   },
   {
    "duration": 6,
    "start_time": "2021-08-16T21:59:21.418Z"
   },
   {
    "duration": 21,
    "start_time": "2021-08-16T21:59:21.425Z"
   },
   {
    "duration": 13,
    "start_time": "2021-08-16T21:59:21.447Z"
   },
   {
    "duration": 41,
    "start_time": "2021-08-16T21:59:21.462Z"
   },
   {
    "duration": 9,
    "start_time": "2021-08-16T21:59:21.505Z"
   },
   {
    "duration": 1139,
    "start_time": "2021-08-16T21:59:21.516Z"
   },
   {
    "duration": 7,
    "start_time": "2021-08-16T21:59:22.657Z"
   },
   {
    "duration": 5,
    "start_time": "2021-08-16T21:59:22.666Z"
   },
   {
    "duration": 22,
    "start_time": "2021-08-16T21:59:22.672Z"
   },
   {
    "duration": 10,
    "start_time": "2021-08-16T21:59:22.696Z"
   },
   {
    "duration": 9,
    "start_time": "2021-08-16T21:59:22.708Z"
   },
   {
    "duration": 3,
    "start_time": "2021-08-16T21:59:22.719Z"
   },
   {
    "duration": 13,
    "start_time": "2021-08-16T21:59:22.723Z"
   },
   {
    "duration": 9,
    "start_time": "2021-08-16T21:59:22.738Z"
   },
   {
    "duration": 11,
    "start_time": "2021-08-16T21:59:22.749Z"
   },
   {
    "duration": 7,
    "start_time": "2021-08-16T21:59:22.762Z"
   },
   {
    "duration": 1694,
    "start_time": "2021-08-16T21:59:22.771Z"
   },
   {
    "duration": 26,
    "start_time": "2021-08-16T21:59:24.467Z"
   },
   {
    "duration": 9,
    "start_time": "2021-08-16T21:59:24.495Z"
   },
   {
    "duration": 23,
    "start_time": "2021-08-16T21:59:24.506Z"
   },
   {
    "duration": 2,
    "start_time": "2021-08-16T21:59:24.531Z"
   },
   {
    "duration": 21,
    "start_time": "2021-08-16T21:59:24.535Z"
   },
   {
    "duration": 39,
    "start_time": "2021-08-16T21:59:24.557Z"
   },
   {
    "duration": 17,
    "start_time": "2021-08-16T21:59:24.598Z"
   },
   {
    "duration": 14,
    "start_time": "2021-08-16T21:59:24.616Z"
   },
   {
    "duration": 12,
    "start_time": "2021-08-16T21:59:24.631Z"
   },
   {
    "duration": 15,
    "start_time": "2021-08-16T21:59:24.644Z"
   },
   {
    "duration": 19,
    "start_time": "2021-08-16T21:59:24.692Z"
   },
   {
    "duration": 15,
    "start_time": "2021-08-16T21:59:24.712Z"
   },
   {
    "duration": 5,
    "start_time": "2021-08-16T21:59:24.729Z"
   },
   {
    "duration": 4,
    "start_time": "2021-08-16T22:01:35.253Z"
   },
   {
    "duration": 610,
    "start_time": "2021-08-16T22:03:03.083Z"
   },
   {
    "duration": 69,
    "start_time": "2021-08-16T22:03:03.695Z"
   },
   {
    "duration": 24,
    "start_time": "2021-08-16T22:03:03.767Z"
   },
   {
    "duration": 14,
    "start_time": "2021-08-16T22:03:03.793Z"
   },
   {
    "duration": 13,
    "start_time": "2021-08-16T22:03:03.809Z"
   },
   {
    "duration": 4,
    "start_time": "2021-08-16T22:03:03.824Z"
   },
   {
    "duration": 8,
    "start_time": "2021-08-16T22:03:03.830Z"
   },
   {
    "duration": 6,
    "start_time": "2021-08-16T22:03:03.840Z"
   },
   {
    "duration": 6,
    "start_time": "2021-08-16T22:03:03.848Z"
   },
   {
    "duration": 37,
    "start_time": "2021-08-16T22:03:03.856Z"
   },
   {
    "duration": 6,
    "start_time": "2021-08-16T22:03:03.894Z"
   },
   {
    "duration": 8,
    "start_time": "2021-08-16T22:03:03.901Z"
   },
   {
    "duration": 13,
    "start_time": "2021-08-16T22:03:03.911Z"
   },
   {
    "duration": 10,
    "start_time": "2021-08-16T22:03:03.925Z"
   },
   {
    "duration": 9,
    "start_time": "2021-08-16T22:03:03.936Z"
   },
   {
    "duration": 10,
    "start_time": "2021-08-16T22:03:03.947Z"
   },
   {
    "duration": 15,
    "start_time": "2021-08-16T22:03:03.959Z"
   },
   {
    "duration": 17,
    "start_time": "2021-08-16T22:03:03.976Z"
   },
   {
    "duration": 11,
    "start_time": "2021-08-16T22:03:03.995Z"
   },
   {
    "duration": 232,
    "start_time": "2021-08-16T22:03:04.008Z"
   },
   {
    "duration": 8,
    "start_time": "2021-08-16T22:03:04.241Z"
   },
   {
    "duration": 3,
    "start_time": "2021-08-16T22:03:04.251Z"
   },
   {
    "duration": 5,
    "start_time": "2021-08-16T22:03:04.258Z"
   },
   {
    "duration": 29,
    "start_time": "2021-08-16T22:03:04.265Z"
   },
   {
    "duration": 12,
    "start_time": "2021-08-16T22:03:04.295Z"
   },
   {
    "duration": 10,
    "start_time": "2021-08-16T22:03:04.309Z"
   },
   {
    "duration": 5,
    "start_time": "2021-08-16T22:03:04.321Z"
   },
   {
    "duration": 8,
    "start_time": "2021-08-16T22:03:04.327Z"
   },
   {
    "duration": 12,
    "start_time": "2021-08-16T22:03:04.337Z"
   },
   {
    "duration": 9,
    "start_time": "2021-08-16T22:03:04.350Z"
   },
   {
    "duration": 34,
    "start_time": "2021-08-16T22:03:04.360Z"
   },
   {
    "duration": 21,
    "start_time": "2021-08-16T22:03:04.396Z"
   },
   {
    "duration": 13,
    "start_time": "2021-08-16T22:03:04.418Z"
   },
   {
    "duration": 11,
    "start_time": "2021-08-16T22:03:04.432Z"
   },
   {
    "duration": 49,
    "start_time": "2021-08-16T22:03:04.444Z"
   },
   {
    "duration": 5,
    "start_time": "2021-08-16T22:03:04.495Z"
   },
   {
    "duration": 10,
    "start_time": "2021-08-16T22:03:04.502Z"
   },
   {
    "duration": 16,
    "start_time": "2021-08-16T22:03:04.513Z"
   },
   {
    "duration": 5,
    "start_time": "2021-08-16T22:03:04.531Z"
   },
   {
    "duration": 30,
    "start_time": "2021-08-16T22:03:04.537Z"
   },
   {
    "duration": 253,
    "start_time": "2021-08-16T22:03:04.569Z"
   },
   {
    "duration": 9,
    "start_time": "2021-08-16T22:03:04.824Z"
   },
   {
    "duration": 6,
    "start_time": "2021-08-16T22:03:04.834Z"
   },
   {
    "duration": 4,
    "start_time": "2021-08-16T22:03:04.842Z"
   },
   {
    "duration": 3,
    "start_time": "2021-08-16T22:03:04.848Z"
   },
   {
    "duration": 40,
    "start_time": "2021-08-16T22:03:04.853Z"
   },
   {
    "duration": 223,
    "start_time": "2021-08-16T22:03:04.895Z"
   },
   {
    "duration": 7,
    "start_time": "2021-08-16T22:03:05.120Z"
   },
   {
    "duration": 227,
    "start_time": "2021-08-16T22:03:05.129Z"
   },
   {
    "duration": 6,
    "start_time": "2021-08-16T22:03:05.357Z"
   },
   {
    "duration": 30,
    "start_time": "2021-08-16T22:03:05.365Z"
   },
   {
    "duration": 6,
    "start_time": "2021-08-16T22:03:05.397Z"
   },
   {
    "duration": 19,
    "start_time": "2021-08-16T22:03:05.405Z"
   },
   {
    "duration": 11,
    "start_time": "2021-08-16T22:03:05.425Z"
   },
   {
    "duration": 5,
    "start_time": "2021-08-16T22:03:05.438Z"
   },
   {
    "duration": 11,
    "start_time": "2021-08-16T22:03:05.445Z"
   },
   {
    "duration": 47,
    "start_time": "2021-08-16T22:03:05.458Z"
   },
   {
    "duration": 8,
    "start_time": "2021-08-16T22:03:05.507Z"
   },
   {
    "duration": 20,
    "start_time": "2021-08-16T22:03:05.516Z"
   },
   {
    "duration": 10,
    "start_time": "2021-08-16T22:03:05.537Z"
   },
   {
    "duration": 10,
    "start_time": "2021-08-16T22:03:05.549Z"
   },
   {
    "duration": 39,
    "start_time": "2021-08-16T22:03:05.561Z"
   },
   {
    "duration": 17,
    "start_time": "2021-08-16T22:03:05.602Z"
   },
   {
    "duration": 9,
    "start_time": "2021-08-16T22:03:05.621Z"
   },
   {
    "duration": 236,
    "start_time": "2021-08-16T22:03:05.631Z"
   },
   {
    "duration": 10,
    "start_time": "2021-08-16T22:03:05.869Z"
   },
   {
    "duration": 18,
    "start_time": "2021-08-16T22:03:05.880Z"
   },
   {
    "duration": 12,
    "start_time": "2021-08-16T22:03:05.903Z"
   },
   {
    "duration": 6,
    "start_time": "2021-08-16T22:03:05.918Z"
   },
   {
    "duration": 7,
    "start_time": "2021-08-16T22:03:05.925Z"
   },
   {
    "duration": 58,
    "start_time": "2021-08-16T22:03:05.933Z"
   },
   {
    "duration": 9,
    "start_time": "2021-08-16T22:03:05.993Z"
   },
   {
    "duration": 16,
    "start_time": "2021-08-16T22:03:06.004Z"
   },
   {
    "duration": 5,
    "start_time": "2021-08-16T22:03:06.021Z"
   },
   {
    "duration": 20,
    "start_time": "2021-08-16T22:03:06.027Z"
   },
   {
    "duration": 13,
    "start_time": "2021-08-16T22:03:06.049Z"
   },
   {
    "duration": 28,
    "start_time": "2021-08-16T22:03:06.064Z"
   },
   {
    "duration": 11,
    "start_time": "2021-08-16T22:03:06.094Z"
   },
   {
    "duration": 1145,
    "start_time": "2021-08-16T22:03:06.108Z"
   },
   {
    "duration": 6,
    "start_time": "2021-08-16T22:03:07.255Z"
   },
   {
    "duration": 6,
    "start_time": "2021-08-16T22:03:07.263Z"
   },
   {
    "duration": 23,
    "start_time": "2021-08-16T22:03:07.270Z"
   },
   {
    "duration": 10,
    "start_time": "2021-08-16T22:03:07.295Z"
   },
   {
    "duration": 9,
    "start_time": "2021-08-16T22:03:07.306Z"
   },
   {
    "duration": 3,
    "start_time": "2021-08-16T22:03:07.317Z"
   },
   {
    "duration": 9,
    "start_time": "2021-08-16T22:03:07.321Z"
   },
   {
    "duration": 10,
    "start_time": "2021-08-16T22:03:07.331Z"
   },
   {
    "duration": 12,
    "start_time": "2021-08-16T22:03:07.342Z"
   },
   {
    "duration": 8,
    "start_time": "2021-08-16T22:03:07.356Z"
   },
   {
    "duration": 1562,
    "start_time": "2021-08-16T22:03:07.365Z"
   },
   {
    "duration": 15,
    "start_time": "2021-08-16T22:03:08.928Z"
   },
   {
    "duration": 7,
    "start_time": "2021-08-16T22:03:08.945Z"
   },
   {
    "duration": 17,
    "start_time": "2021-08-16T22:03:08.954Z"
   },
   {
    "duration": 21,
    "start_time": "2021-08-16T22:03:08.972Z"
   },
   {
    "duration": 44,
    "start_time": "2021-08-16T22:03:08.994Z"
   },
   {
    "duration": 15,
    "start_time": "2021-08-16T22:03:09.040Z"
   },
   {
    "duration": 18,
    "start_time": "2021-08-16T22:03:09.057Z"
   },
   {
    "duration": 13,
    "start_time": "2021-08-16T22:03:09.076Z"
   },
   {
    "duration": 16,
    "start_time": "2021-08-16T22:03:09.091Z"
   },
   {
    "duration": 19,
    "start_time": "2021-08-16T22:03:09.108Z"
   },
   {
    "duration": 11,
    "start_time": "2021-08-16T22:03:09.128Z"
   },
   {
    "duration": 15,
    "start_time": "2021-08-16T22:03:09.141Z"
   },
   {
    "duration": 36,
    "start_time": "2021-08-16T22:03:09.157Z"
   },
   {
    "duration": 743,
    "start_time": "2021-09-04T20:41:42.168Z"
   },
   {
    "duration": 94,
    "start_time": "2021-09-04T20:41:42.914Z"
   },
   {
    "duration": 13,
    "start_time": "2021-09-04T20:41:43.011Z"
   },
   {
    "duration": 37,
    "start_time": "2021-09-04T20:41:43.027Z"
   },
   {
    "duration": 23,
    "start_time": "2021-09-04T20:41:43.066Z"
   },
   {
    "duration": 8,
    "start_time": "2021-09-04T20:41:43.091Z"
   },
   {
    "duration": 12,
    "start_time": "2021-09-04T20:41:43.102Z"
   },
   {
    "duration": 8,
    "start_time": "2021-09-04T20:41:43.155Z"
   },
   {
    "duration": 9,
    "start_time": "2021-09-04T20:41:43.166Z"
   },
   {
    "duration": 11,
    "start_time": "2021-09-04T20:41:43.178Z"
   },
   {
    "duration": 15,
    "start_time": "2021-09-04T20:41:43.191Z"
   },
   {
    "duration": 46,
    "start_time": "2021-09-04T20:41:43.208Z"
   },
   {
    "duration": 22,
    "start_time": "2021-09-04T20:41:43.257Z"
   },
   {
    "duration": 27,
    "start_time": "2021-09-04T20:41:43.281Z"
   },
   {
    "duration": 8,
    "start_time": "2021-09-04T20:41:43.311Z"
   },
   {
    "duration": 36,
    "start_time": "2021-09-04T20:41:43.321Z"
   },
   {
    "duration": 13,
    "start_time": "2021-09-04T20:41:43.359Z"
   },
   {
    "duration": 12,
    "start_time": "2021-09-04T20:41:43.374Z"
   },
   {
    "duration": 14,
    "start_time": "2021-09-04T20:41:43.389Z"
   },
   {
    "duration": 779,
    "start_time": "2021-09-04T20:41:43.406Z"
   },
   {
    "duration": 15,
    "start_time": "2021-09-04T20:41:44.188Z"
   },
   {
    "duration": 5,
    "start_time": "2021-09-04T20:41:44.205Z"
   },
   {
    "duration": 39,
    "start_time": "2021-09-04T20:41:44.216Z"
   },
   {
    "duration": 16,
    "start_time": "2021-09-04T20:41:44.259Z"
   },
   {
    "duration": 16,
    "start_time": "2021-09-04T20:41:44.278Z"
   },
   {
    "duration": 13,
    "start_time": "2021-09-04T20:41:44.297Z"
   },
   {
    "duration": 47,
    "start_time": "2021-09-04T20:41:44.313Z"
   },
   {
    "duration": 10,
    "start_time": "2021-09-04T20:41:44.363Z"
   },
   {
    "duration": 16,
    "start_time": "2021-09-04T20:41:44.375Z"
   },
   {
    "duration": 62,
    "start_time": "2021-09-04T20:41:44.394Z"
   },
   {
    "duration": 8,
    "start_time": "2021-09-04T20:41:44.459Z"
   },
   {
    "duration": 37,
    "start_time": "2021-09-04T20:41:44.470Z"
   },
   {
    "duration": 57,
    "start_time": "2021-09-04T20:41:44.510Z"
   },
   {
    "duration": 21,
    "start_time": "2021-09-04T20:41:44.570Z"
   },
   {
    "duration": 75,
    "start_time": "2021-09-04T20:41:44.594Z"
   },
   {
    "duration": 9,
    "start_time": "2021-09-04T20:41:44.672Z"
   },
   {
    "duration": 7,
    "start_time": "2021-09-04T20:41:44.683Z"
   },
   {
    "duration": 15,
    "start_time": "2021-09-04T20:41:44.693Z"
   },
   {
    "duration": 6,
    "start_time": "2021-09-04T20:41:44.754Z"
   },
   {
    "duration": 41,
    "start_time": "2021-09-04T20:41:44.763Z"
   },
   {
    "duration": 429,
    "start_time": "2021-09-04T20:41:44.806Z"
   },
   {
    "duration": 19,
    "start_time": "2021-09-04T20:41:45.238Z"
   },
   {
    "duration": 10,
    "start_time": "2021-09-04T20:41:45.261Z"
   },
   {
    "duration": 7,
    "start_time": "2021-09-04T20:41:45.275Z"
   },
   {
    "duration": 11,
    "start_time": "2021-09-04T20:41:45.285Z"
   },
   {
    "duration": 56,
    "start_time": "2021-09-04T20:41:45.299Z"
   },
   {
    "duration": 418,
    "start_time": "2021-09-04T20:41:45.358Z"
   },
   {
    "duration": 16,
    "start_time": "2021-09-04T20:41:45.779Z"
   },
   {
    "duration": 767,
    "start_time": "2021-09-04T20:41:45.798Z"
   },
   {
    "duration": 10,
    "start_time": "2021-09-04T20:41:46.567Z"
   },
   {
    "duration": 34,
    "start_time": "2021-09-04T20:41:46.580Z"
   },
   {
    "duration": 40,
    "start_time": "2021-09-04T20:41:46.617Z"
   },
   {
    "duration": 106,
    "start_time": "2021-09-04T20:41:46.675Z"
   },
   {
    "duration": 48,
    "start_time": "2021-09-04T20:41:46.793Z"
   },
   {
    "duration": 29,
    "start_time": "2021-09-04T20:41:46.844Z"
   },
   {
    "duration": 53,
    "start_time": "2021-09-04T20:41:46.876Z"
   },
   {
    "duration": 45,
    "start_time": "2021-09-04T20:41:46.932Z"
   },
   {
    "duration": 33,
    "start_time": "2021-09-04T20:41:46.980Z"
   },
   {
    "duration": 109,
    "start_time": "2021-09-04T20:41:47.016Z"
   },
   {
    "duration": 44,
    "start_time": "2021-09-04T20:41:47.143Z"
   },
   {
    "duration": 25,
    "start_time": "2021-09-04T20:41:47.190Z"
   },
   {
    "duration": 43,
    "start_time": "2021-09-04T20:41:47.219Z"
   },
   {
    "duration": 22,
    "start_time": "2021-09-04T20:41:47.265Z"
   },
   {
    "duration": 17,
    "start_time": "2021-09-04T20:41:47.290Z"
   },
   {
    "duration": 439,
    "start_time": "2021-09-04T20:41:47.309Z"
   },
   {
    "duration": 17,
    "start_time": "2021-09-04T20:41:47.754Z"
   },
   {
    "duration": 13,
    "start_time": "2021-09-04T20:41:47.774Z"
   },
   {
    "duration": 16,
    "start_time": "2021-09-04T20:41:47.795Z"
   },
   {
    "duration": 42,
    "start_time": "2021-09-04T20:41:47.815Z"
   },
   {
    "duration": 11,
    "start_time": "2021-09-04T20:41:47.860Z"
   },
   {
    "duration": 89,
    "start_time": "2021-09-04T20:41:47.874Z"
   },
   {
    "duration": 11,
    "start_time": "2021-09-04T20:41:47.965Z"
   },
   {
    "duration": 12,
    "start_time": "2021-09-04T20:41:47.979Z"
   },
   {
    "duration": 8,
    "start_time": "2021-09-04T20:41:47.994Z"
   },
   {
    "duration": 57,
    "start_time": "2021-09-04T20:41:48.005Z"
   },
   {
    "duration": 23,
    "start_time": "2021-09-04T20:41:48.065Z"
   },
   {
    "duration": 24,
    "start_time": "2021-09-04T20:41:48.090Z"
   },
   {
    "duration": 41,
    "start_time": "2021-09-04T20:41:48.117Z"
   },
   {
    "duration": 2013,
    "start_time": "2021-09-04T20:41:48.160Z"
   },
   {
    "duration": 13,
    "start_time": "2021-09-04T20:41:50.175Z"
   },
   {
    "duration": 11,
    "start_time": "2021-09-04T20:41:50.190Z"
   },
   {
    "duration": 12,
    "start_time": "2021-09-04T20:41:50.204Z"
   },
   {
    "duration": 49,
    "start_time": "2021-09-04T20:41:50.220Z"
   },
   {
    "duration": 12,
    "start_time": "2021-09-04T20:41:50.272Z"
   },
   {
    "duration": 4,
    "start_time": "2021-09-04T20:41:50.287Z"
   },
   {
    "duration": 13,
    "start_time": "2021-09-04T20:41:50.293Z"
   },
   {
    "duration": 46,
    "start_time": "2021-09-04T20:41:50.309Z"
   },
   {
    "duration": 10,
    "start_time": "2021-09-04T20:41:50.357Z"
   },
   {
    "duration": 12,
    "start_time": "2021-09-04T20:41:50.369Z"
   },
   {
    "duration": 3062,
    "start_time": "2021-09-04T20:41:50.384Z"
   },
   {
    "duration": 32,
    "start_time": "2021-09-04T20:41:53.449Z"
   },
   {
    "duration": 13,
    "start_time": "2021-09-04T20:41:53.484Z"
   },
   {
    "duration": 63,
    "start_time": "2021-09-04T20:41:53.501Z"
   },
   {
    "duration": 6,
    "start_time": "2021-09-04T20:41:53.567Z"
   },
   {
    "duration": 40,
    "start_time": "2021-09-04T20:41:53.576Z"
   },
   {
    "duration": 49,
    "start_time": "2021-09-04T20:41:53.619Z"
   },
   {
    "duration": 25,
    "start_time": "2021-09-04T20:41:53.670Z"
   },
   {
    "duration": 59,
    "start_time": "2021-09-04T20:41:53.697Z"
   },
   {
    "duration": 21,
    "start_time": "2021-09-04T20:41:53.759Z"
   },
   {
    "duration": 25,
    "start_time": "2021-09-04T20:41:53.782Z"
   },
   {
    "duration": 61,
    "start_time": "2021-09-04T20:41:53.809Z"
   },
   {
    "duration": 29,
    "start_time": "2021-09-04T20:41:53.873Z"
   },
   {
    "duration": 10,
    "start_time": "2021-09-04T20:41:53.904Z"
   },
   {
    "duration": 734,
    "start_time": "2021-09-18T00:06:30.898Z"
   },
   {
    "duration": 96,
    "start_time": "2021-09-18T00:06:31.634Z"
   },
   {
    "duration": 29,
    "start_time": "2021-09-18T00:06:31.733Z"
   },
   {
    "duration": 18,
    "start_time": "2021-09-18T00:06:31.765Z"
   },
   {
    "duration": 39,
    "start_time": "2021-09-18T00:06:31.785Z"
   },
   {
    "duration": 8,
    "start_time": "2021-09-18T00:06:31.826Z"
   },
   {
    "duration": 33,
    "start_time": "2021-09-18T00:06:31.837Z"
   },
   {
    "duration": 20,
    "start_time": "2021-09-18T00:06:31.875Z"
   },
   {
    "duration": 25,
    "start_time": "2021-09-18T00:06:31.898Z"
   },
   {
    "duration": 26,
    "start_time": "2021-09-18T00:06:31.926Z"
   },
   {
    "duration": 26,
    "start_time": "2021-09-18T00:06:31.954Z"
   },
   {
    "duration": 41,
    "start_time": "2021-09-18T00:06:31.982Z"
   },
   {
    "duration": 24,
    "start_time": "2021-09-18T00:06:32.026Z"
   },
   {
    "duration": 17,
    "start_time": "2021-09-18T00:06:32.053Z"
   },
   {
    "duration": 14,
    "start_time": "2021-09-18T00:06:32.073Z"
   },
   {
    "duration": 16,
    "start_time": "2021-09-18T00:06:32.089Z"
   },
   {
    "duration": 11,
    "start_time": "2021-09-18T00:06:32.107Z"
   },
   {
    "duration": 15,
    "start_time": "2021-09-18T00:06:32.121Z"
   },
   {
    "duration": 28,
    "start_time": "2021-09-18T00:06:32.139Z"
   },
   {
    "duration": 402,
    "start_time": "2021-09-18T00:06:32.169Z"
   },
   {
    "duration": 13,
    "start_time": "2021-09-18T00:06:32.573Z"
   },
   {
    "duration": 6,
    "start_time": "2021-09-18T00:06:32.589Z"
   },
   {
    "duration": 14,
    "start_time": "2021-09-18T00:06:32.601Z"
   },
   {
    "duration": 47,
    "start_time": "2021-09-18T00:06:32.619Z"
   },
   {
    "duration": 17,
    "start_time": "2021-09-18T00:06:32.668Z"
   },
   {
    "duration": 21,
    "start_time": "2021-09-18T00:06:32.687Z"
   },
   {
    "duration": 9,
    "start_time": "2021-09-18T00:06:32.710Z"
   },
   {
    "duration": 41,
    "start_time": "2021-09-18T00:06:32.722Z"
   },
   {
    "duration": 12,
    "start_time": "2021-09-18T00:06:32.766Z"
   },
   {
    "duration": 15,
    "start_time": "2021-09-18T00:06:32.780Z"
   },
   {
    "duration": 7,
    "start_time": "2021-09-18T00:06:32.797Z"
   },
   {
    "duration": 72,
    "start_time": "2021-09-18T00:06:32.806Z"
   },
   {
    "duration": 21,
    "start_time": "2021-09-18T00:06:32.881Z"
   },
   {
    "duration": 17,
    "start_time": "2021-09-18T00:06:32.905Z"
   },
   {
    "duration": 72,
    "start_time": "2021-09-18T00:06:32.924Z"
   },
   {
    "duration": 7,
    "start_time": "2021-09-18T00:06:32.999Z"
   },
   {
    "duration": 9,
    "start_time": "2021-09-18T00:06:33.008Z"
   },
   {
    "duration": 48,
    "start_time": "2021-09-18T00:06:33.019Z"
   },
   {
    "duration": 6,
    "start_time": "2021-09-18T00:06:33.069Z"
   },
   {
    "duration": 84,
    "start_time": "2021-09-18T00:06:33.077Z"
   },
   {
    "duration": 510,
    "start_time": "2021-09-18T00:06:33.164Z"
   },
   {
    "duration": 13,
    "start_time": "2021-09-18T00:06:33.676Z"
   },
   {
    "duration": 10,
    "start_time": "2021-09-18T00:06:33.691Z"
   },
   {
    "duration": 20,
    "start_time": "2021-09-18T00:06:33.704Z"
   },
   {
    "duration": 4,
    "start_time": "2021-09-18T00:06:33.727Z"
   },
   {
    "duration": 30,
    "start_time": "2021-09-18T00:06:33.734Z"
   },
   {
    "duration": 423,
    "start_time": "2021-09-18T00:06:33.767Z"
   },
   {
    "duration": 13,
    "start_time": "2021-09-18T00:06:34.193Z"
   },
   {
    "duration": 406,
    "start_time": "2021-09-18T00:06:34.209Z"
   },
   {
    "duration": 9,
    "start_time": "2021-09-18T00:06:34.618Z"
   },
   {
    "duration": 67,
    "start_time": "2021-09-18T00:06:34.629Z"
   },
   {
    "duration": 27,
    "start_time": "2021-09-18T00:06:34.699Z"
   },
   {
    "duration": 64,
    "start_time": "2021-09-18T00:06:34.729Z"
   },
   {
    "duration": 36,
    "start_time": "2021-09-18T00:06:34.795Z"
   },
   {
    "duration": 21,
    "start_time": "2021-09-18T00:06:34.833Z"
   },
   {
    "duration": 52,
    "start_time": "2021-09-18T00:06:34.857Z"
   },
   {
    "duration": 38,
    "start_time": "2021-09-18T00:06:34.912Z"
   },
   {
    "duration": 31,
    "start_time": "2021-09-18T00:06:34.952Z"
   },
   {
    "duration": 67,
    "start_time": "2021-09-18T00:06:34.985Z"
   },
   {
    "duration": 34,
    "start_time": "2021-09-18T00:06:35.054Z"
   },
   {
    "duration": 25,
    "start_time": "2021-09-18T00:06:35.090Z"
   },
   {
    "duration": 31,
    "start_time": "2021-09-18T00:06:35.118Z"
   },
   {
    "duration": 31,
    "start_time": "2021-09-18T00:06:35.152Z"
   },
   {
    "duration": 15,
    "start_time": "2021-09-18T00:06:35.187Z"
   },
   {
    "duration": 443,
    "start_time": "2021-09-18T00:06:35.204Z"
   },
   {
    "duration": 25,
    "start_time": "2021-09-18T00:06:35.649Z"
   },
   {
    "duration": 21,
    "start_time": "2021-09-18T00:06:35.676Z"
   },
   {
    "duration": 18,
    "start_time": "2021-09-18T00:06:35.705Z"
   },
   {
    "duration": 35,
    "start_time": "2021-09-18T00:06:35.727Z"
   },
   {
    "duration": 9,
    "start_time": "2021-09-18T00:06:35.765Z"
   },
   {
    "duration": 63,
    "start_time": "2021-09-18T00:06:35.777Z"
   },
   {
    "duration": 9,
    "start_time": "2021-09-18T00:06:35.863Z"
   },
   {
    "duration": 37,
    "start_time": "2021-09-18T00:06:35.874Z"
   },
   {
    "duration": 24,
    "start_time": "2021-09-18T00:06:35.913Z"
   },
   {
    "duration": 43,
    "start_time": "2021-09-18T00:06:35.939Z"
   },
   {
    "duration": 35,
    "start_time": "2021-09-18T00:06:35.984Z"
   },
   {
    "duration": 24,
    "start_time": "2021-09-18T00:06:36.021Z"
   },
   {
    "duration": 24,
    "start_time": "2021-09-18T00:06:36.048Z"
   },
   {
    "duration": 1959,
    "start_time": "2021-09-18T00:06:36.075Z"
   },
   {
    "duration": 25,
    "start_time": "2021-09-18T00:06:38.036Z"
   },
   {
    "duration": 9,
    "start_time": "2021-09-18T00:06:38.064Z"
   },
   {
    "duration": 19,
    "start_time": "2021-09-18T00:06:38.076Z"
   },
   {
    "duration": 14,
    "start_time": "2021-09-18T00:06:38.097Z"
   },
   {
    "duration": 11,
    "start_time": "2021-09-18T00:06:38.114Z"
   },
   {
    "duration": 39,
    "start_time": "2021-09-18T00:06:38.128Z"
   },
   {
    "duration": 23,
    "start_time": "2021-09-18T00:06:38.169Z"
   },
   {
    "duration": 14,
    "start_time": "2021-09-18T00:06:38.194Z"
   },
   {
    "duration": 10,
    "start_time": "2021-09-18T00:06:38.211Z"
   },
   {
    "duration": 9,
    "start_time": "2021-09-18T00:06:38.223Z"
   },
   {
    "duration": 3121,
    "start_time": "2021-09-18T00:06:38.263Z"
   },
   {
    "duration": 28,
    "start_time": "2021-09-18T00:06:41.386Z"
   },
   {
    "duration": 19,
    "start_time": "2021-09-18T00:06:41.416Z"
   },
   {
    "duration": 53,
    "start_time": "2021-09-18T00:06:41.438Z"
   },
   {
    "duration": 4,
    "start_time": "2021-09-18T00:06:41.493Z"
   },
   {
    "duration": 40,
    "start_time": "2021-09-18T00:06:41.500Z"
   },
   {
    "duration": 45,
    "start_time": "2021-09-18T00:06:41.542Z"
   },
   {
    "duration": 24,
    "start_time": "2021-09-18T00:06:41.590Z"
   },
   {
    "duration": 64,
    "start_time": "2021-09-18T00:06:41.617Z"
   },
   {
    "duration": 35,
    "start_time": "2021-09-18T00:06:41.683Z"
   },
   {
    "duration": 46,
    "start_time": "2021-09-18T00:06:41.721Z"
   },
   {
    "duration": 23,
    "start_time": "2021-09-18T00:06:41.769Z"
   },
   {
    "duration": 26,
    "start_time": "2021-09-18T00:06:41.795Z"
   },
   {
    "duration": 40,
    "start_time": "2021-09-18T00:06:41.823Z"
   }
  ],
  "kernelspec": {
   "display_name": "Python 3",
   "language": "python",
   "name": "python3"
  },
  "language_info": {
   "codemirror_mode": {
    "name": "ipython",
    "version": 3
   },
   "file_extension": ".py",
   "mimetype": "text/x-python",
   "name": "python",
   "nbconvert_exporter": "python",
   "pygments_lexer": "ipython3",
   "version": "3.7.6"
  },
  "toc": {
   "base_numbering": 1,
   "nav_menu": {},
   "number_sections": true,
   "sideBar": true,
   "skip_h1_title": true,
   "title_cell": "Table of Contents",
   "title_sidebar": "Contents",
   "toc_cell": false,
   "toc_position": {},
   "toc_section_display": true,
   "toc_window_display": false
  }
 },
 "nbformat": 4,
 "nbformat_minor": 2
}

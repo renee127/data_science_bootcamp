{
 "cells": [
  {
   "cell_type": "markdown",
   "metadata": {},
   "source": [
    "# Scenario\n",
    "\n",
    "As an analyst for OilyGiant mining company our task is to find the best place for a new well. \n",
    "\n",
    "We will use several techniques, including machine learning and bootstrapping, to select the region with the highest profit margin.\n",
    "\n",
    "Machine learning prediction question: What is the predicted volume of reserves in thousand barrels for each region?\n",
    "\n",
    "Target (response): product (volume of reserves in thousand barrels)\n",
    "\n",
    "Useful Features (predictor variables): f0, f1, f2 unknown features important to analysis\n",
    "\n",
    "Datasets: geo_data_0.csv, geo_data_1.csv, geo_data_2.csv\n",
    "\n",
    "Analysis done December 2021"
   ]
  },
  {
   "cell_type": "code",
   "execution_count": 1,
   "metadata": {},
   "outputs": [],
   "source": [
    "# import libraries\n",
    "\n",
    "# sklearn used for basic machine learning\n",
    "from sklearn.linear_model import LinearRegression\n",
    "from sklearn import tree\n",
    "from sklearn.model_selection import train_test_split\n",
    "from sklearn.metrics import mean_squared_error\n",
    "import matplotlib.pyplot as plt\n",
    "%matplotlib inline\n",
    "import seaborn as sns\n",
    "from sklearn import metrics \n",
    "import pandas as pd\n",
    "import numpy as np\n",
    "import math\n",
    "from scipy import stats as st\n",
    "from numpy.random import RandomState\n",
    "state = RandomState(12345) \n",
    "\n",
    "# import sys and insert code to ignore warnings \n",
    "import sys\n",
    "if not sys.warnoptions:\n",
    "    import warnings\n",
    "    warnings.simplefilter(\"ignore\")"
   ]
  },
  {
   "cell_type": "markdown",
   "metadata": {},
   "source": [
    "# Step 1: Download and prepare the data"
   ]
  },
  {
   "cell_type": "code",
   "execution_count": 2,
   "metadata": {},
   "outputs": [],
   "source": [
    "# load the data for region0\n",
    "try:\n",
    "    region0 = pd.read_csv('/datasets/geo_data_0.csv')\n",
    "except:\n",
    "    print('ERROR: Unable to find or access file.')\n",
    "# load the data for region1\n",
    "try:\n",
    "    region1 = pd.read_csv('/datasets/geo_data_1.csv')\n",
    "except:\n",
    "    print('ERROR: Unable to find or access file.')\n",
    "# load the data for region2\n",
    "try:\n",
    "    region2 = pd.read_csv('/datasets/geo_data_2.csv')\n",
    "except:\n",
    "    print('ERROR: Unable to find or access file.')"
   ]
  },
  {
   "cell_type": "code",
   "execution_count": 3,
   "metadata": {},
   "outputs": [
    {
     "name": "stdout",
     "output_type": "stream",
     "text": [
      "\n",
      "\n",
      "=======================\n",
      "Dataframe Name: region0\n",
      "=======================\n",
      "Number of duplicate rows: 0\n",
      "Number rows and columns: (100000, 5) \n",
      "\n",
      "Count total NaN at each column in a DataFrame :\n",
      "id         0\n",
      "f0         0\n",
      "f1         0\n",
      "f2         0\n",
      "product    0\n",
      "dtype: int64\n",
      "\n",
      "\n",
      "=======================\n",
      "Dataframe Name: region1\n",
      "=======================\n",
      "Number of duplicate rows: 0\n",
      "Number rows and columns: (100000, 5) \n",
      "\n",
      "Count total NaN at each column in a DataFrame :\n",
      "id         0\n",
      "f0         0\n",
      "f1         0\n",
      "f2         0\n",
      "product    0\n",
      "dtype: int64\n",
      "\n",
      "\n",
      "=======================\n",
      "Dataframe Name: region2\n",
      "=======================\n",
      "Number of duplicate rows: 0\n",
      "Number rows and columns: (100000, 5) \n",
      "\n",
      "Count total NaN at each column in a DataFrame :\n",
      "id         0\n",
      "f0         0\n",
      "f1         0\n",
      "f2         0\n",
      "product    0\n",
      "dtype: int64\n"
     ]
    }
   ],
   "source": [
    "# create basic loop to get info on dfs\n",
    "    \n",
    "# create list of dfs\n",
    "dfs = [region0, region1, region2]\n",
    "\n",
    "for df in dfs:\n",
    "    print('\\n')\n",
    "    print(\"=\" * 23)\n",
    "    name =[x for x in globals() if globals()[x] is df][0]\n",
    "    print(\"Dataframe Name: %s\" % name)\n",
    "    print(\"=\" * 23)\n",
    "    print('Number of duplicate rows:', df.duplicated().sum())\n",
    "    print('Number rows and columns:', df.shape, '\\n')\n",
    "    print(\"Count total NaN at each column in a DataFrame :\")\n",
    "    print(df.isnull().sum())"
   ]
  },
  {
   "cell_type": "markdown",
   "metadata": {},
   "source": [
    "# Observations on data\n",
    "\n",
    "Each of the three data frames include\n",
    "- **id**: unique oil well identifier\n",
    "- **f0, f1, f2** unknown features important to analysis\n",
    "- **product** volume of reserves in the oil well (thousand barrels)\n",
    "\n",
    "There are no NaN / missing values in any dataframes.\n",
    "\n",
    "There are no duplicate rows.\n",
    "\n",
    "Each df is the same size, 5 columns and 100000 rows."
   ]
  },
  {
   "cell_type": "markdown",
   "metadata": {},
   "source": [
    "# Step 2: Train and test the model for each region\n",
    "- 2.1 Split the data into a training set and validation set at a ratio of 75/25. \n",
    "- 2.2 Train the model and make predictions for the validation set. \n",
    "- 2.3 Save the predictions and correct answers for the validation set. \n",
    "- 2.4 Print the average volume of predicted reserves and model RMSE. \n",
    "- 2.5 Analyze the results.\n",
    "\n",
    "We will create a method for the lr and calculations to minimize duplication of code. \n",
    "\n",
    "Then we will split each dataframe into train and valid and call the method."
   ]
  },
  {
   "cell_type": "code",
   "execution_count": 4,
   "metadata": {},
   "outputs": [
    {
     "name": "stdout",
     "output_type": "stream",
     "text": [
      "\n",
      "\n",
      "=========================\n",
      "Correlations for: region0\n",
      "=========================\n",
      "               f0        f1        f2   product\n",
      "f0       1.000000 -0.440723 -0.003153  0.143536\n",
      "f1      -0.440723  1.000000  0.001724 -0.192356\n",
      "f2      -0.003153  0.001724  1.000000  0.483663\n",
      "product  0.143536 -0.192356  0.483663  1.000000\n",
      "\n",
      "\n",
      "=========================\n",
      "Correlations for: region1\n",
      "=========================\n",
      "               f0        f1        f2   product\n",
      "f0       1.000000  0.182287 -0.001777 -0.030491\n",
      "f1       0.182287  1.000000 -0.002595 -0.010155\n",
      "f2      -0.001777 -0.002595  1.000000  0.999397\n",
      "product -0.030491 -0.010155  0.999397  1.000000\n",
      "\n",
      "\n",
      "=========================\n",
      "Correlations for: region2\n",
      "=========================\n",
      "               f0        f1        f2   product\n",
      "f0       1.000000  0.000528 -0.000448 -0.001987\n",
      "f1       0.000528  1.000000  0.000779 -0.001012\n",
      "f2      -0.000448  0.000779  1.000000  0.445871\n",
      "product -0.001987 -0.001012  0.445871  1.000000\n"
     ]
    }
   ],
   "source": [
    "# examine correlations since we will use linear regression\n",
    "for df in dfs:\n",
    "    print('\\n')\n",
    "    print(\"=\" * 25)\n",
    "    name = [x for x in globals() if globals()[x] is df][0]\n",
    "    print(\"Correlations for: %s\" % name)\n",
    "    print(\"=\" * 25)\n",
    "    correlations = df.corr()\n",
    "    print(correlations)"
   ]
  },
  {
   "cell_type": "markdown",
   "metadata": {},
   "source": [
    "We note a strong correlation between f2 and region1 and moderate correlations between f2 and region0, region2. Also there is a moderate negative correlation between f1 and region0. "
   ]
  },
  {
   "cell_type": "code",
   "execution_count": 5,
   "metadata": {},
   "outputs": [],
   "source": [
    "def lr(df, X_train, X_valid, y_train, y_valid):\n",
    "    \"\"\"This method\n",
    "    instantiates a linear regression model,\n",
    "    fits/predicts using split data,\n",
    "    calculates the average volume of target reserves,\n",
    "    calculates the average volume of predicted reserves,\n",
    "    calculates model coefficients,\n",
    "    calculates model intercept,\n",
    "    calculates R-2 Sqaured,\n",
    "    calculates mean square error,\n",
    "    calcuates root mean sqaure error,\n",
    "    calculates percent error.\n",
    " \n",
    "    Input Arguments: df, X_train, X_valid, y_train, y_valid.\n",
    "    Returns: y_pred, y_pred_avg, y_valid, y_valid_avg, r2, mse, rmse, volumes, pct_error.\n",
    "    \"\"\"\n",
    "    print('\\n')\n",
    "    print(\"=\" * 23)\n",
    "    name = [x for x in globals() if globals()[x] is df][0]\n",
    "    print(\"Dataframe Name: %s\" % name)\n",
    "    print(\"=\" * 23)\n",
    "    print('\\nVerify the shape of X (features) and y (target) for', name)\n",
    "    print(X.shape, y.shape)  \n",
    "    print('Verify size of divided df X_train, X_test, y_train, y_test\\n'\n",
    "      , X_train.shape, X_valid.shape, y_train.shape, y_valid.shape)\n",
    "\n",
    "    # instantiate model\n",
    "    model = LinearRegression()\n",
    "    # train the model\n",
    "    model.fit(X_train, y_train)\n",
    "    # get predictions\n",
    "    y_pred = model.predict(X_valid)\n",
    "    # get avg prediction\n",
    "    y_pred_avg = y_pred.mean()\n",
    "    print('\\nAverage volume of predicted reserves:', y_pred_avg)\n",
    "    y_valid_avg = y_valid.mean()\n",
    "    print('Average volume of target reserves:', y_valid.mean())\n",
    "\n",
    "    # Parameters calculated by the model\n",
    "    # coefficients indicate influence of parameters/features on pred volume\n",
    "    print('\\nCoefficients for columns', X.columns)\n",
    "    coef0= model.coef_\n",
    "    print(coef0)\n",
    "    # model intercept indicates the base value, or where the line would cross y\n",
    "    # without any influence of the parameters/features\n",
    "    print('Model intercept', model.intercept_)\n",
    "    \n",
    "    # R-squared measures the fitness of the model\n",
    "    correlation_matrix = np.corrcoef(y_pred, y_valid)\n",
    "    correlation_xy = correlation_matrix[0,1]\n",
    "    r2 = correlation_xy**2\n",
    "    print('The R-squared value:', r2)\n",
    "    \n",
    "    # calculate root mean square error to check error\n",
    "    mse = mean_squared_error(y_pred, y_valid)\n",
    "    rmse = mse ** 0.5\n",
    "    print('Mean squared error:', mse)\n",
    "    stddev = (model.predict(X_valid) - y_valid).std()\n",
    "    print('Standard deviation:', stddev)\n",
    "    print('Root mean square error:', rmse)\n",
    "    pct_error = \"{:.0%}\". format((rmse/y_valid_avg))\n",
    "    print('Percent error of prediction from true values:', pct_error)\n",
    "    \n",
    "    return y_pred, y_pred_avg, y_valid, y_valid_avg, r2, mse, rmse, pct_error"
   ]
  },
  {
   "cell_type": "code",
   "execution_count": 6,
   "metadata": {
    "scrolled": true
   },
   "outputs": [],
   "source": [
    "# split 3 dfs into train and valid (75/25)\n",
    "\n",
    "X = region0.iloc[:, 1:-1] # all rows and all cols except first and last\n",
    "y = region0.iloc[:, -1].values# all rows and last column\n",
    "X_train0, X_valid0, y_train0, y_valid0 = train_test_split(X, y, test_size=0.25, random_state=42)\n",
    "\n",
    "X = region1.iloc[:, 1:-1] # all rows and all cols except first and last\n",
    "y = region1.iloc[:, -1].values # all rows and last column\n",
    "X_train1, X_valid1, y_train1, y_valid1 = train_test_split(X, y, test_size=0.25, random_state=42)\n",
    "\n",
    "X = region2.iloc[:, 1:-1] # all rows and all cols except first and last\n",
    "y = region2.iloc[:, -1].values # all rows and last column\n",
    "X_train2, X_valid2, y_train2, y_valid2 = train_test_split(X, y, test_size=0.25, random_state=42)"
   ]
  },
  {
   "cell_type": "code",
   "execution_count": 7,
   "metadata": {
    "scrolled": false
   },
   "outputs": [
    {
     "name": "stdout",
     "output_type": "stream",
     "text": [
      "\n",
      "\n",
      "=======================\n",
      "Dataframe Name: region0\n",
      "=======================\n",
      "\n",
      "Verify the shape of X (features) and y (target) for region0\n",
      "(100000, 3) (100000,)\n",
      "Verify size of divided df X_train, X_test, y_train, y_test\n",
      " (75000, 3) (25000, 3) (75000,) (25000,)\n",
      "\n",
      "Average volume of predicted reserves: 92.39879990657768\n",
      "Average volume of target reserves: 92.32595637084387\n",
      "\n",
      "Coefficients for columns Index(['f0', 'f1', 'f2'], dtype='object')\n",
      "[  3.83225372 -14.26047297   6.59357294]\n",
      "Model intercept 77.66624978042196\n",
      "The R-squared value: 0.27283555237229334\n",
      "Mean squared error: 1425.5608700093812\n",
      "Standard deviation: 37.75653008194321\n",
      "Root mean square error: 37.75660035026169\n",
      "Percent error of prediction from true values: 41%\n",
      "\n",
      "\n",
      "=======================\n",
      "Dataframe Name: region1\n",
      "=======================\n",
      "\n",
      "Verify the shape of X (features) and y (target) for region1\n",
      "(100000, 3) (100000,)\n",
      "Verify size of divided df X_train, X_test, y_train, y_test\n",
      " (75000, 3) (25000, 3) (75000,) (25000,)\n",
      "\n",
      "Average volume of predicted reserves: 68.71287803913764\n",
      "Average volume of target reserves: 68.72538074722745\n",
      "\n",
      "Coefficients for columns Index(['f0', 'f1', 'f2'], dtype='object')\n",
      "[-1.44912960e-01 -2.16715104e-02  2.69531092e+01]\n",
      "Model intercept 1.6476710499672436\n",
      "The R-squared value: 0.999624641914124\n",
      "Mean squared error: 0.792598656639199\n",
      "Standard deviation: 0.8901923044655129\n",
      "Root mean square error: 0.8902801001028828\n",
      "Percent error of prediction from true values: 1%\n",
      "\n",
      "\n",
      "=======================\n",
      "Dataframe Name: region2\n",
      "=======================\n",
      "\n",
      "Verify the shape of X (features) and y (target) for region2\n",
      "(100000, 3) (100000,)\n",
      "Verify size of divided df X_train, X_test, y_train, y_test\n",
      " (75000, 3) (25000, 3) (75000,) (25000,)\n",
      "\n",
      "Average volume of predicted reserves: 94.77102387765939\n",
      "Average volume of target reserves: 95.15099907171961\n",
      "\n",
      "Coefficients for columns Index(['f0', 'f1', 'f2'], dtype='object')\n",
      "[-0.08415777 -0.01546094  5.75011968]\n",
      "Model intercept 80.55786205197194\n",
      "The R-squared value: 0.19642221767398046\n",
      "Mean squared error: 1611.6910636385903\n",
      "Standard deviation: 40.1440740644306\n",
      "Root mean square error: 40.145872311342174\n",
      "Percent error of prediction from true values: 42%\n"
     ]
    }
   ],
   "source": [
    "# call lr method on 3 dfs\n",
    "y_pred0, y_pred_avg0, y_valid0, y_valid_avg0, r20, mse0, rmse0, pct_e0 = lr(region0, X_train0, X_valid0, y_train0, y_valid0)\n",
    "y_pred1, y_pred_avg1, y_valid1, y_valid_avg1, r21, mse1, rmse1, pct_e1 = lr(region1, X_train1, X_valid1, y_train1, y_valid1)\n",
    "y_pred2, y_pred_avg2, y_valid2, y_valid_avg2, r22, mse2, rmse2, pct_e2 = lr(region2, X_train2, X_valid2, y_train2, y_valid2)\n"
   ]
  },
  {
   "cell_type": "code",
   "execution_count": 8,
   "metadata": {},
   "outputs": [
    {
     "data": {
      "image/png": "[encoded data removed]",
      "text/plain": [
       "<Figure size 432x288 with 1 Axes>"
      ]
     },
     "metadata": {
      "needs_background": "light"
     },
     "output_type": "display_data"
    }
   ],
   "source": [
    "plt.hist(region0['product'], alpha=.2, bins=50);\n",
    "plt.hist(region1['product'],alpha=.2,bins=50);\n",
    "plt.hist(region2['product'],alpha=.2,bins=50);\n",
    "plt.legend(['region0', 'region1', 'region2'])\n",
    "plt.title(\"Distribution of volumes divided into 50 bins\")\n",
    "plt.ylabel(\"Number of volume values (rows) in bins\")\n",
    "plt.xlabel(\"Volume in thousand barrels\")\n",
    "plt.show()"
   ]
  },
  {
   "cell_type": "code",
   "execution_count": 9,
   "metadata": {},
   "outputs": [
    {
     "data": {
      "text/html": [
       "<div>\n",
       "<style scoped>\n",
       "    .dataframe tbody tr th:only-of-type {\n",
       "        vertical-align: middle;\n",
       "    }\n",
       "\n",
       "    .dataframe tbody tr th {\n",
       "        vertical-align: top;\n",
       "    }\n",
       "\n",
       "    .dataframe thead th {\n",
       "        text-align: right;\n",
       "    }\n",
       "</style>\n",
       "<table border=\"1\" class=\"dataframe\">\n",
       "  <thead>\n",
       "    <tr style=\"text-align: right;\">\n",
       "      <th></th>\n",
       "      <th>region0</th>\n",
       "      <th>region1</th>\n",
       "      <th>region2</th>\n",
       "    </tr>\n",
       "    <tr>\n",
       "      <th>Volume</th>\n",
       "      <th></th>\n",
       "      <th></th>\n",
       "      <th></th>\n",
       "    </tr>\n",
       "  </thead>\n",
       "  <tbody>\n",
       "    <tr>\n",
       "      <td>Avg Predicted (thousands of barrels)</td>\n",
       "      <td>92.3988</td>\n",
       "      <td>68.7129</td>\n",
       "      <td>94.771</td>\n",
       "    </tr>\n",
       "    <tr>\n",
       "      <td>Avg Target (thousands of barrels)</td>\n",
       "      <td>92.326</td>\n",
       "      <td>68.7254</td>\n",
       "      <td>95.151</td>\n",
       "    </tr>\n",
       "    <tr>\n",
       "      <td>R-Squared</td>\n",
       "      <td>0.272836</td>\n",
       "      <td>0.999625</td>\n",
       "      <td>0.196422</td>\n",
       "    </tr>\n",
       "    <tr>\n",
       "      <td>RMSE</td>\n",
       "      <td>37.7566</td>\n",
       "      <td>0.89028</td>\n",
       "      <td>40.1459</td>\n",
       "    </tr>\n",
       "    <tr>\n",
       "      <td>Percent error from true values</td>\n",
       "      <td>41%</td>\n",
       "      <td>1%</td>\n",
       "      <td>42%</td>\n",
       "    </tr>\n",
       "  </tbody>\n",
       "</table>\n",
       "</div>"
      ],
      "text/plain": [
       "                                       region0   region1   region2\n",
       "Volume                                                            \n",
       "Avg Predicted (thousands of barrels)   92.3988   68.7129    94.771\n",
       "Avg Target (thousands of barrels)       92.326   68.7254    95.151\n",
       "R-Squared                             0.272836  0.999625  0.196422\n",
       "RMSE                                   37.7566   0.89028   40.1459\n",
       "Percent error from true values             41%        1%       42%"
      ]
     },
     "execution_count": 9,
     "metadata": {},
     "output_type": "execute_result"
    }
   ],
   "source": [
    "# put values in table\n",
    "compare = pd.DataFrame({'Volume': ['Avg Predicted (thousands of barrels)', 'Avg Target (thousands of barrels)'\n",
    "                                   , 'R-Squared', 'RMSE', 'Percent error from true values'],\n",
    "                         'region0': [y_pred_avg0, y_valid_avg0, r20, rmse0, pct_e0],\n",
    "                         'region1': [y_pred_avg1, y_valid_avg1, r21, rmse1, pct_e1],\n",
    "                         'region2': [y_pred_avg2, y_valid_avg2, r22, rmse2, pct_e2] })\n",
    "compare.set_index('Volume', inplace=True)\n",
    "compare"
   ]
  },
  {
   "cell_type": "markdown",
   "metadata": {},
   "source": [
    "We note the best linear regression results with region1. The R^2 value is very close to 1, with 1 being ideal, RMSE is low as a percentage of the average volume in thousand barrels. The average predicted and average true volume is substantially lower than the volumes for region0 and region2. \n",
    "\n",
    "While region0 and region2 enjoy higher average predicted and true volume in thousand barrels, both perform poorly with linear regression (having a low R^2, a high RMSE, and a horrible percent error over 40%).\n",
    "\n",
    "It is interesting to note that when we divide the regions into 50 bins and plot counts of volume by volume, region1 appears to cluster in 6 main groups while region0 and region2 demonstrate more normal distribution. This could be an area for future investigtion, to see if those volume clusters correlate with a specific characteristic in the region. If we knew that data, we could recommend, with very high probability, OilyGiant select new wells in region1 with the characteristics associated with the 2 high volume clusters."
   ]
  },
  {
   "cell_type": "markdown",
   "metadata": {},
   "source": [
    "# Step 3: Prepare for profit calculation\n",
    "- 3.1 Store all key values for calculations in separate variables.\n",
    "- 3.2 Calculate the volume of reserves sufficient for developing a new well without losses. Compare the obtained value with the average volume of reserves in each region. \n",
    "- 3.3 Provide the findings about the preparation for profit calculation step."
   ]
  },
  {
   "cell_type": "code",
   "execution_count": 10,
   "metadata": {},
   "outputs": [
    {
     "name": "stdout",
     "output_type": "stream",
     "text": [
      "The minimum volume of reserves sufficient for developing\n",
      "a new well without losses: 111.11 in thousands of barrels\n",
      "\n",
      "The predicted and true target of the average volume of reserves in all 3 \n",
      "regions are lower (92.4, 68.71, 94.77) but 2 have values that are close.\n"
     ]
    }
   ],
   "source": [
    "# store values, calculate volume of reserves to avoid losses\n",
    "\n",
    "n = 500 # oilwells\n",
    "n_best = 200 # oilwells\n",
    "revenue_per_barrel = 4.5 # USD\n",
    "revenue_per_unit = 4500 # USD, unit is 1000 barrels\n",
    "budget_200_oil_wells = 100_000_000.00 # dollars # 100 USD million\n",
    "n_budget = 200 # oilwells in budget total\n",
    "unit = 1000 # barrels\n",
    "max_loss = 0.025\n",
    "\n",
    "min_volume_of_reserves = budget_200_oil_wells/n_budget/revenue_per_unit\n",
    "print('The minimum volume of reserves sufficient for developing'\n",
    "     +'\\na new well without losses:', round(min_volume_of_reserves,2), 'in thousands of barrels')\n",
    "print('\\nThe predicted and true target of the average volume of reserves in all 3 '\n",
    "      '\\nregions are lower', (round(y_pred_avg0,2), round(y_pred_avg1,2), round(y_pred_avg2,2))\n",
    "     ,'but 2 have values that are close.')"
   ]
  },
  {
   "cell_type": "markdown",
   "metadata": {},
   "source": [
    "# Step 4: Write a function to calculate profit from a set of selected oil wells and model predictions\n",
    "- 4.1 Pick the wells with the highest values of predictions. The number of wells depends on the budget and cost of developing one oil well.\n",
    "- 4.2 Summarize the target volume of reserves in accordance with these predictions\n",
    "- 4.3 Provide findings: suggest a region for oil wells' development and justify the choice. Calculate the profit for the obtained volume of reserves.\n"
   ]
  },
  {
   "cell_type": "code",
   "execution_count": 11,
   "metadata": {},
   "outputs": [],
   "source": [
    "# sample the predicted wells with the highest volumes\n",
    "# calculate the sum of the corresponding actual volumes\n",
    "# calculate the profit: \n",
    "# (volume of wells in thousand barrels * revenue) - budget\n",
    "\n",
    "def revenue(target, predicted, count):\n",
    "    indices = predicted.sort_values(ascending=False).index\n",
    "    return target[indices][:count].sum() * revenue_per_unit - budget_200_oil_wells"
   ]
  },
  {
   "cell_type": "markdown",
   "metadata": {},
   "source": [
    "# Step 5: Calculate risks and profit for each region\n",
    "- 5.1 Use the bootstrap technique with 1000 samples to find the distribution of profit.\n",
    "- 5.2 Find average profit, 95% confidence interval and risk of losses. Loss is negative profit.\n",
    "- 5.3 Provide findings: suggest a region for development of oil wells and justify the choice."
   ]
  },
  {
   "cell_type": "code",
   "execution_count": 12,
   "metadata": {},
   "outputs": [],
   "source": [
    "# bootstrap method\n",
    "\n",
    "def revenue_bs(target, predicted):\n",
    "    values = []\n",
    "    target = pd.Series(target)\n",
    "    predicted = pd.Series(predicted)\n",
    "    for i in range(1000):\n",
    "        target_sample = target.sample(n=n, replace=True, random_state=state)\n",
    "        values.append(revenue(target_sample, predicted[target_sample.index], n_best))\n",
    "    return pd.Series(values)"
   ]
  },
  {
   "cell_type": "code",
   "execution_count": 13,
   "metadata": {},
   "outputs": [],
   "source": [
    "revenues0 = revenue_bs(y_valid0, y_pred0)\n",
    "revenues1 = revenue_bs(y_valid1, y_pred1)\n",
    "revenues2 = revenue_bs(y_valid2, y_pred2)"
   ]
  },
  {
   "cell_type": "code",
   "execution_count": 14,
   "metadata": {},
   "outputs": [
    {
     "data": {
      "image/png": "[encoded data removed]",
      "text/plain": [
       "<Figure size 432x288 with 1 Axes>"
      ]
     },
     "metadata": {
      "needs_background": "light"
     },
     "output_type": "display_data"
    }
   ],
   "source": [
    "sns.distplot(revenues0)\n",
    "sns.distplot(revenues1)\n",
    "sns.distplot(revenues2)\n",
    "plt.axvline(0, c=\"r\", label=\"\")\n",
    "plt.legend(['region0', 'region1', 'region2'])\n",
    "plt.title(\"Distribution of profit for 3 regions\")\n",
    "plt.show()"
   ]
  },
  {
   "cell_type": "markdown",
   "metadata": {},
   "source": [
    "The bootstrap technique shows all 3 regions show high profitability, but also some risk of loss. Now we will check out the confidence intervals."
   ]
  },
  {
   "cell_type": "code",
   "execution_count": 15,
   "metadata": {
    "scrolled": false
   },
   "outputs": [
    {
     "name": "stdout",
     "output_type": "stream",
     "text": [
      "\n",
      "\n",
      "============================\n",
      "Confidence Interval: region0\n",
      "============================\n",
      "Average profit: 4359337.72\n",
      "95% confidence interval: (4187611.0388268763, 4531064.403946367)\n",
      "Risk of losses: 6.10%\n",
      "\n",
      "\n",
      "============================\n",
      "Confidence Interval: region1\n",
      "============================\n",
      "Average profit: 4985690.17\n",
      "95% confidence interval: (4852765.914485457, 5118614.42385031)\n",
      "Risk of losses: 1.00%\n",
      "\n",
      "\n",
      "============================\n",
      "Confidence Interval: region2\n",
      "============================\n",
      "Average profit: 4126728.99\n",
      "95% confidence interval: (3948992.6895080507, 4304465.290262587)\n",
      "Risk of losses: 7.00%\n"
     ]
    }
   ],
   "source": [
    "def ci(df, revenue):\n",
    "    print('\\n')\n",
    "    print(\"=\" * 28)\n",
    "    name = [x for x in globals() if globals()[x] is df][0]\n",
    "    print(\"Confidence Interval: %s\" % name)\n",
    "    print(\"=\" * 28)\n",
    "    avg_profit = revenue.mean().round(2)\n",
    "    ci = st.t.interval(0.95, len(revenue)-1, revenue.mean(), revenue.sem())\n",
    "    loss_risk = \"{:.2%}\". format(len(revenue[revenue < 0]) / len(revenue))\n",
    "    print('Average profit:', avg_profit)\n",
    "    print('95% confidence interval:', ci)\n",
    "    print('Risk of losses:', loss_risk)\n",
    "\n",
    "ci(region0, revenues0)\n",
    "ci(region1, revenues1)\n",
    "ci(region2, revenues2)"
   ]
  },
  {
   "cell_type": "markdown",
   "metadata": {},
   "source": [
    "Only one of our regions has a risk of loss less than the specified 2.5%, so we will recommend region1. We feel confident in our recommendation because region1 also performed well with the linear regression model, has a very low RMSE and a R^2 value close to one."
   ]
  },
  {
   "cell_type": "markdown",
   "metadata": {},
   "source": [
    "# References\n",
    "[How to print out name of dataframe](https://stackoverflow.com/questions/41684553/print-dataframe-name/41684840)"
   ]
  }
 ],
 "metadata": {
  "ExecuteTimeLog": [
   {
    "duration": 304,
    "start_time": "2021-11-25T20:21:42.050Z"
   },
   {
    "duration": 83,
    "start_time": "2021-11-25T20:21:47.052Z"
   },
   {
    "duration": 715,
    "start_time": "2021-11-25T20:22:05.821Z"
   },
   {
    "duration": 757,
    "start_time": "2021-11-25T20:22:24.241Z"
   },
   {
    "duration": 641,
    "start_time": "2021-11-25T20:22:27.209Z"
   },
   {
    "duration": 152,
    "start_time": "2021-11-25T20:22:37.961Z"
   },
   {
    "duration": 140,
    "start_time": "2021-11-25T20:23:23.134Z"
   },
   {
    "duration": 140,
    "start_time": "2021-11-25T20:23:25.701Z"
   },
   {
    "duration": 400,
    "start_time": "2021-11-25T20:24:30.816Z"
   },
   {
    "duration": 145,
    "start_time": "2021-11-25T20:24:46.165Z"
   },
   {
    "duration": 380,
    "start_time": "2021-11-25T20:28:45.978Z"
   },
   {
    "duration": 132,
    "start_time": "2021-11-25T20:29:23.335Z"
   },
   {
    "duration": 135,
    "start_time": "2021-11-25T20:29:44.090Z"
   },
   {
    "duration": 369,
    "start_time": "2021-11-25T20:31:18.070Z"
   },
   {
    "duration": 178,
    "start_time": "2021-11-25T20:31:30.270Z"
   },
   {
    "duration": 178,
    "start_time": "2021-11-25T20:32:14.170Z"
   },
   {
    "duration": 536,
    "start_time": "2021-11-25T20:33:12.001Z"
   },
   {
    "duration": 202,
    "start_time": "2021-11-25T20:33:43.061Z"
   },
   {
    "duration": 181,
    "start_time": "2021-11-25T20:34:18.161Z"
   },
   {
    "duration": 189,
    "start_time": "2021-11-25T20:35:01.574Z"
   },
   {
    "duration": 18,
    "start_time": "2021-11-26T03:13:34.404Z"
   },
   {
    "duration": 254,
    "start_time": "2021-11-26T03:18:03.949Z"
   },
   {
    "duration": 33,
    "start_time": "2021-11-26T03:18:16.102Z"
   },
   {
    "duration": 8,
    "start_time": "2021-11-26T03:19:37.324Z"
   },
   {
    "duration": 7,
    "start_time": "2021-11-26T03:19:53.648Z"
   },
   {
    "duration": 6,
    "start_time": "2021-11-26T03:23:27.383Z"
   },
   {
    "duration": 170,
    "start_time": "2021-11-26T03:23:35.905Z"
   },
   {
    "duration": 165,
    "start_time": "2021-11-26T03:23:38.106Z"
   },
   {
    "duration": 94,
    "start_time": "2021-11-26T03:23:47.078Z"
   },
   {
    "duration": 418,
    "start_time": "2021-11-26T03:24:02.248Z"
   },
   {
    "duration": 5,
    "start_time": "2021-11-26T03:29:49.945Z"
   },
   {
    "duration": 6,
    "start_time": "2021-11-26T03:30:00.857Z"
   },
   {
    "duration": 6,
    "start_time": "2021-11-26T03:30:18.347Z"
   },
   {
    "duration": 7,
    "start_time": "2021-11-26T03:31:34.075Z"
   },
   {
    "duration": 12,
    "start_time": "2021-11-26T03:31:37.157Z"
   },
   {
    "duration": 5,
    "start_time": "2021-11-26T03:31:45.680Z"
   },
   {
    "duration": 447,
    "start_time": "2021-11-26T03:33:02.362Z"
   },
   {
    "duration": 460,
    "start_time": "2021-11-26T03:33:18.980Z"
   },
   {
    "duration": 441,
    "start_time": "2021-11-26T03:37:10.722Z"
   },
   {
    "duration": 4,
    "start_time": "2021-11-26T03:37:47.890Z"
   },
   {
    "duration": 9,
    "start_time": "2021-11-26T03:37:49.461Z"
   },
   {
    "duration": 6,
    "start_time": "2021-11-26T03:37:57.397Z"
   },
   {
    "duration": 10,
    "start_time": "2021-11-26T03:37:58.921Z"
   },
   {
    "duration": 38,
    "start_time": "2021-11-26T03:38:40.341Z"
   },
   {
    "duration": 28,
    "start_time": "2021-11-26T03:39:30.177Z"
   },
   {
    "duration": 29,
    "start_time": "2021-11-26T04:21:00.966Z"
   },
   {
    "duration": 27,
    "start_time": "2021-11-26T04:23:25.846Z"
   },
   {
    "duration": 24,
    "start_time": "2021-11-26T04:25:19.362Z"
   },
   {
    "duration": 30,
    "start_time": "2021-11-26T04:32:25.654Z"
   },
   {
    "duration": 28,
    "start_time": "2021-11-26T04:33:22.335Z"
   },
   {
    "duration": 110,
    "start_time": "2021-11-26T04:39:09.555Z"
   },
   {
    "duration": 31,
    "start_time": "2021-11-26T04:41:21.645Z"
   },
   {
    "duration": 29,
    "start_time": "2021-11-26T04:41:37.961Z"
   },
   {
    "duration": 28,
    "start_time": "2021-11-26T04:42:03.521Z"
   },
   {
    "duration": 31,
    "start_time": "2021-11-26T04:44:10.732Z"
   },
   {
    "duration": 84,
    "start_time": "2021-11-26T04:46:35.342Z"
   },
   {
    "duration": 38,
    "start_time": "2021-11-26T04:47:12.026Z"
   },
   {
    "duration": 226,
    "start_time": "2021-11-26T04:48:09.651Z"
   },
   {
    "duration": 1234,
    "start_time": "2021-11-26T04:48:50.438Z"
   },
   {
    "duration": 188,
    "start_time": "2021-11-26T04:48:51.674Z"
   },
   {
    "duration": 173,
    "start_time": "2021-11-26T04:48:51.864Z"
   },
   {
    "duration": 178,
    "start_time": "2021-11-26T04:48:52.039Z"
   },
   {
    "duration": 4,
    "start_time": "2021-11-26T04:48:52.219Z"
   },
   {
    "duration": 14,
    "start_time": "2021-11-26T04:48:52.224Z"
   },
   {
    "duration": 6,
    "start_time": "2021-11-26T04:48:52.240Z"
   },
   {
    "duration": 217,
    "start_time": "2021-11-26T04:48:52.263Z"
   },
   {
    "duration": 437,
    "start_time": "2021-11-26T04:48:52.484Z"
   },
   {
    "duration": -167,
    "start_time": "2021-11-26T04:48:53.090Z"
   },
   {
    "duration": -176,
    "start_time": "2021-11-26T04:48:53.100Z"
   },
   {
    "duration": -178,
    "start_time": "2021-11-26T04:48:53.103Z"
   },
   {
    "duration": -179,
    "start_time": "2021-11-26T04:48:53.105Z"
   },
   {
    "duration": -182,
    "start_time": "2021-11-26T04:48:53.109Z"
   },
   {
    "duration": -185,
    "start_time": "2021-11-26T04:48:53.112Z"
   },
   {
    "duration": -186,
    "start_time": "2021-11-26T04:48:53.114Z"
   },
   {
    "duration": -187,
    "start_time": "2021-11-26T04:48:53.116Z"
   },
   {
    "duration": -189,
    "start_time": "2021-11-26T04:48:53.119Z"
   },
   {
    "duration": -191,
    "start_time": "2021-11-26T04:48:53.122Z"
   },
   {
    "duration": -192,
    "start_time": "2021-11-26T04:48:53.124Z"
   },
   {
    "duration": -193,
    "start_time": "2021-11-26T04:48:53.126Z"
   },
   {
    "duration": -194,
    "start_time": "2021-11-26T04:48:53.128Z"
   },
   {
    "duration": -194,
    "start_time": "2021-11-26T04:48:53.129Z"
   },
   {
    "duration": -195,
    "start_time": "2021-11-26T04:48:53.131Z"
   },
   {
    "duration": -195,
    "start_time": "2021-11-26T04:48:53.132Z"
   },
   {
    "duration": -300,
    "start_time": "2021-11-26T04:48:53.238Z"
   },
   {
    "duration": -301,
    "start_time": "2021-11-26T04:48:53.240Z"
   },
   {
    "duration": 1281,
    "start_time": "2021-11-26T04:50:42.631Z"
   },
   {
    "duration": 190,
    "start_time": "2021-11-26T04:50:43.914Z"
   },
   {
    "duration": 177,
    "start_time": "2021-11-26T04:50:44.106Z"
   },
   {
    "duration": 181,
    "start_time": "2021-11-26T04:50:44.285Z"
   },
   {
    "duration": 4,
    "start_time": "2021-11-26T04:50:44.467Z"
   },
   {
    "duration": 14,
    "start_time": "2021-11-26T04:50:44.473Z"
   },
   {
    "duration": 9,
    "start_time": "2021-11-26T04:50:44.489Z"
   },
   {
    "duration": 69,
    "start_time": "2021-11-26T04:50:44.501Z"
   },
   {
    "duration": 505,
    "start_time": "2021-11-26T04:50:44.573Z"
   },
   {
    "duration": -142,
    "start_time": "2021-11-26T04:50:45.222Z"
   },
   {
    "duration": -145,
    "start_time": "2021-11-26T04:50:45.226Z"
   },
   {
    "duration": -148,
    "start_time": "2021-11-26T04:50:45.230Z"
   },
   {
    "duration": -149,
    "start_time": "2021-11-26T04:50:45.232Z"
   },
   {
    "duration": -150,
    "start_time": "2021-11-26T04:50:45.234Z"
   },
   {
    "duration": -151,
    "start_time": "2021-11-26T04:50:45.236Z"
   },
   {
    "duration": -152,
    "start_time": "2021-11-26T04:50:45.238Z"
   },
   {
    "duration": -153,
    "start_time": "2021-11-26T04:50:45.240Z"
   },
   {
    "duration": -154,
    "start_time": "2021-11-26T04:50:45.242Z"
   },
   {
    "duration": -155,
    "start_time": "2021-11-26T04:50:45.244Z"
   },
   {
    "duration": -157,
    "start_time": "2021-11-26T04:50:45.247Z"
   },
   {
    "duration": -159,
    "start_time": "2021-11-26T04:50:45.250Z"
   },
   {
    "duration": -268,
    "start_time": "2021-11-26T04:50:45.360Z"
   },
   {
    "duration": -270,
    "start_time": "2021-11-26T04:50:45.363Z"
   },
   {
    "duration": -271,
    "start_time": "2021-11-26T04:50:45.365Z"
   },
   {
    "duration": -272,
    "start_time": "2021-11-26T04:50:45.367Z"
   },
   {
    "duration": -273,
    "start_time": "2021-11-26T04:50:45.369Z"
   },
   {
    "duration": -273,
    "start_time": "2021-11-26T04:50:45.370Z"
   },
   {
    "duration": 1195,
    "start_time": "2021-11-26T04:51:28.887Z"
   },
   {
    "duration": 191,
    "start_time": "2021-11-26T04:51:30.084Z"
   },
   {
    "duration": 178,
    "start_time": "2021-11-26T04:51:30.277Z"
   },
   {
    "duration": 186,
    "start_time": "2021-11-26T04:51:30.457Z"
   },
   {
    "duration": 4,
    "start_time": "2021-11-26T04:51:30.644Z"
   },
   {
    "duration": 23,
    "start_time": "2021-11-26T04:51:30.650Z"
   },
   {
    "duration": 9,
    "start_time": "2021-11-26T04:51:30.675Z"
   },
   {
    "duration": 83,
    "start_time": "2021-11-26T04:51:30.686Z"
   },
   {
    "duration": 421,
    "start_time": "2021-11-26T04:51:30.773Z"
   },
   {
    "duration": -217,
    "start_time": "2021-11-26T04:51:31.413Z"
   },
   {
    "duration": -218,
    "start_time": "2021-11-26T04:51:31.415Z"
   },
   {
    "duration": -220,
    "start_time": "2021-11-26T04:51:31.418Z"
   },
   {
    "duration": -221,
    "start_time": "2021-11-26T04:51:31.420Z"
   },
   {
    "duration": -222,
    "start_time": "2021-11-26T04:51:31.422Z"
   },
   {
    "duration": -222,
    "start_time": "2021-11-26T04:51:31.423Z"
   },
   {
    "duration": -223,
    "start_time": "2021-11-26T04:51:31.425Z"
   },
   {
    "duration": -224,
    "start_time": "2021-11-26T04:51:31.428Z"
   },
   {
    "duration": -227,
    "start_time": "2021-11-26T04:51:31.431Z"
   },
   {
    "duration": -229,
    "start_time": "2021-11-26T04:51:31.435Z"
   },
   {
    "duration": -233,
    "start_time": "2021-11-26T04:51:31.439Z"
   },
   {
    "duration": -235,
    "start_time": "2021-11-26T04:51:31.442Z"
   },
   {
    "duration": -237,
    "start_time": "2021-11-26T04:51:31.445Z"
   },
   {
    "duration": -238,
    "start_time": "2021-11-26T04:51:31.447Z"
   },
   {
    "duration": -239,
    "start_time": "2021-11-26T04:51:31.449Z"
   },
   {
    "duration": -239,
    "start_time": "2021-11-26T04:51:31.451Z"
   },
   {
    "duration": -240,
    "start_time": "2021-11-26T04:51:31.453Z"
   },
   {
    "duration": -240,
    "start_time": "2021-11-26T04:51:31.454Z"
   },
   {
    "duration": 1205,
    "start_time": "2021-11-26T04:52:16.857Z"
   },
   {
    "duration": 183,
    "start_time": "2021-11-26T04:52:18.064Z"
   },
   {
    "duration": 171,
    "start_time": "2021-11-26T04:52:18.249Z"
   },
   {
    "duration": 186,
    "start_time": "2021-11-26T04:52:18.422Z"
   },
   {
    "duration": 3,
    "start_time": "2021-11-26T04:52:18.610Z"
   },
   {
    "duration": 19,
    "start_time": "2021-11-26T04:52:18.615Z"
   },
   {
    "duration": 7,
    "start_time": "2021-11-26T04:52:18.635Z"
   },
   {
    "duration": 19,
    "start_time": "2021-11-26T04:52:18.644Z"
   },
   {
    "duration": 342,
    "start_time": "2021-11-26T04:52:18.666Z"
   },
   {
    "duration": -118,
    "start_time": "2021-11-26T04:52:19.128Z"
   },
   {
    "duration": -121,
    "start_time": "2021-11-26T04:52:19.132Z"
   },
   {
    "duration": -122,
    "start_time": "2021-11-26T04:52:19.134Z"
   },
   {
    "duration": -124,
    "start_time": "2021-11-26T04:52:19.137Z"
   },
   {
    "duration": -125,
    "start_time": "2021-11-26T04:52:19.139Z"
   },
   {
    "duration": -126,
    "start_time": "2021-11-26T04:52:19.141Z"
   },
   {
    "duration": -126,
    "start_time": "2021-11-26T04:52:19.143Z"
   },
   {
    "duration": -127,
    "start_time": "2021-11-26T04:52:19.144Z"
   },
   {
    "duration": -127,
    "start_time": "2021-11-26T04:52:19.146Z"
   },
   {
    "duration": -128,
    "start_time": "2021-11-26T04:52:19.148Z"
   },
   {
    "duration": -131,
    "start_time": "2021-11-26T04:52:19.151Z"
   },
   {
    "duration": -134,
    "start_time": "2021-11-26T04:52:19.155Z"
   },
   {
    "duration": -143,
    "start_time": "2021-11-26T04:52:19.165Z"
   },
   {
    "duration": -145,
    "start_time": "2021-11-26T04:52:19.168Z"
   },
   {
    "duration": -146,
    "start_time": "2021-11-26T04:52:19.170Z"
   },
   {
    "duration": -146,
    "start_time": "2021-11-26T04:52:19.171Z"
   },
   {
    "duration": -147,
    "start_time": "2021-11-26T04:52:19.173Z"
   },
   {
    "duration": -148,
    "start_time": "2021-11-26T04:52:19.175Z"
   },
   {
    "duration": 1158,
    "start_time": "2021-11-26T04:52:41.224Z"
   },
   {
    "duration": 183,
    "start_time": "2021-11-26T04:52:42.384Z"
   },
   {
    "duration": 167,
    "start_time": "2021-11-26T04:52:42.569Z"
   },
   {
    "duration": 175,
    "start_time": "2021-11-26T04:52:42.738Z"
   },
   {
    "duration": 5,
    "start_time": "2021-11-26T04:52:42.915Z"
   },
   {
    "duration": 13,
    "start_time": "2021-11-26T04:52:42.921Z"
   },
   {
    "duration": 8,
    "start_time": "2021-11-26T04:52:42.935Z"
   },
   {
    "duration": 368,
    "start_time": "2021-11-26T04:52:42.945Z"
   },
   {
    "duration": -171,
    "start_time": "2021-11-26T04:52:43.486Z"
   },
   {
    "duration": -172,
    "start_time": "2021-11-26T04:52:43.488Z"
   },
   {
    "duration": -172,
    "start_time": "2021-11-26T04:52:43.489Z"
   },
   {
    "duration": -195,
    "start_time": "2021-11-26T04:52:43.513Z"
   },
   {
    "duration": -211,
    "start_time": "2021-11-26T04:52:43.529Z"
   },
   {
    "duration": -213,
    "start_time": "2021-11-26T04:52:43.532Z"
   },
   {
    "duration": -215,
    "start_time": "2021-11-26T04:52:43.535Z"
   },
   {
    "duration": -216,
    "start_time": "2021-11-26T04:52:43.537Z"
   },
   {
    "duration": -216,
    "start_time": "2021-11-26T04:52:43.538Z"
   },
   {
    "duration": -225,
    "start_time": "2021-11-26T04:52:43.548Z"
   },
   {
    "duration": -228,
    "start_time": "2021-11-26T04:52:43.552Z"
   },
   {
    "duration": -229,
    "start_time": "2021-11-26T04:52:43.554Z"
   },
   {
    "duration": -230,
    "start_time": "2021-11-26T04:52:43.556Z"
   },
   {
    "duration": -238,
    "start_time": "2021-11-26T04:52:43.565Z"
   },
   {
    "duration": -240,
    "start_time": "2021-11-26T04:52:43.568Z"
   },
   {
    "duration": -240,
    "start_time": "2021-11-26T04:52:43.569Z"
   },
   {
    "duration": -241,
    "start_time": "2021-11-26T04:52:43.571Z"
   },
   {
    "duration": -242,
    "start_time": "2021-11-26T04:52:43.573Z"
   },
   {
    "duration": -250,
    "start_time": "2021-11-26T04:52:43.582Z"
   },
   {
    "duration": -251,
    "start_time": "2021-11-26T04:52:43.584Z"
   },
   {
    "duration": 1271,
    "start_time": "2021-11-26T04:53:29.145Z"
   },
   {
    "duration": 195,
    "start_time": "2021-11-26T04:53:30.418Z"
   },
   {
    "duration": 182,
    "start_time": "2021-11-26T04:53:30.615Z"
   },
   {
    "duration": 189,
    "start_time": "2021-11-26T04:53:30.799Z"
   },
   {
    "duration": 6,
    "start_time": "2021-11-26T04:53:30.989Z"
   },
   {
    "duration": 13,
    "start_time": "2021-11-26T04:53:30.996Z"
   },
   {
    "duration": 7,
    "start_time": "2021-11-26T04:53:31.011Z"
   },
   {
    "duration": 14,
    "start_time": "2021-11-26T04:53:31.021Z"
   },
   {
    "duration": 326,
    "start_time": "2021-11-26T04:53:31.037Z"
   },
   {
    "duration": 361,
    "start_time": "2021-11-26T04:53:31.367Z"
   },
   {
    "duration": -188,
    "start_time": "2021-11-26T04:53:31.918Z"
   },
   {
    "duration": -190,
    "start_time": "2021-11-26T04:53:31.921Z"
   },
   {
    "duration": -191,
    "start_time": "2021-11-26T04:53:31.923Z"
   },
   {
    "duration": -192,
    "start_time": "2021-11-26T04:53:31.925Z"
   },
   {
    "duration": -193,
    "start_time": "2021-11-26T04:53:31.927Z"
   },
   {
    "duration": -193,
    "start_time": "2021-11-26T04:53:31.928Z"
   },
   {
    "duration": -194,
    "start_time": "2021-11-26T04:53:31.930Z"
   },
   {
    "duration": -210,
    "start_time": "2021-11-26T04:53:31.947Z"
   },
   {
    "duration": -213,
    "start_time": "2021-11-26T04:53:31.950Z"
   },
   {
    "duration": -214,
    "start_time": "2021-11-26T04:53:31.953Z"
   },
   {
    "duration": -223,
    "start_time": "2021-11-26T04:53:31.963Z"
   },
   {
    "duration": -226,
    "start_time": "2021-11-26T04:53:31.966Z"
   },
   {
    "duration": -236,
    "start_time": "2021-11-26T04:53:31.978Z"
   },
   {
    "duration": -244,
    "start_time": "2021-11-26T04:53:31.987Z"
   },
   {
    "duration": -247,
    "start_time": "2021-11-26T04:53:31.991Z"
   },
   {
    "duration": -249,
    "start_time": "2021-11-26T04:53:31.994Z"
   },
   {
    "duration": -328,
    "start_time": "2021-11-26T04:53:32.074Z"
   },
   {
    "duration": -337,
    "start_time": "2021-11-26T04:53:32.084Z"
   },
   {
    "duration": 1280,
    "start_time": "2021-11-26T04:54:12.556Z"
   },
   {
    "duration": 192,
    "start_time": "2021-11-26T04:54:13.839Z"
   },
   {
    "duration": 181,
    "start_time": "2021-11-26T04:54:14.033Z"
   },
   {
    "duration": 177,
    "start_time": "2021-11-26T04:54:14.215Z"
   },
   {
    "duration": 4,
    "start_time": "2021-11-26T04:54:14.393Z"
   },
   {
    "duration": 15,
    "start_time": "2021-11-26T04:54:14.399Z"
   },
   {
    "duration": 8,
    "start_time": "2021-11-26T04:54:14.415Z"
   },
   {
    "duration": 5,
    "start_time": "2021-11-26T04:54:14.425Z"
   },
   {
    "duration": 441,
    "start_time": "2021-11-26T04:54:14.433Z"
   },
   {
    "duration": 572,
    "start_time": "2021-11-26T04:54:14.877Z"
   },
   {
    "duration": -109,
    "start_time": "2021-11-26T04:54:15.559Z"
   },
   {
    "duration": -112,
    "start_time": "2021-11-26T04:54:15.564Z"
   },
   {
    "duration": -116,
    "start_time": "2021-11-26T04:54:15.568Z"
   },
   {
    "duration": -118,
    "start_time": "2021-11-26T04:54:15.571Z"
   },
   {
    "duration": -119,
    "start_time": "2021-11-26T04:54:15.573Z"
   },
   {
    "duration": -122,
    "start_time": "2021-11-26T04:54:15.577Z"
   },
   {
    "duration": -126,
    "start_time": "2021-11-26T04:54:15.582Z"
   },
   {
    "duration": -131,
    "start_time": "2021-11-26T04:54:15.588Z"
   },
   {
    "duration": -240,
    "start_time": "2021-11-26T04:54:15.698Z"
   },
   {
    "duration": -241,
    "start_time": "2021-11-26T04:54:15.700Z"
   },
   {
    "duration": -248,
    "start_time": "2021-11-26T04:54:15.708Z"
   },
   {
    "duration": -252,
    "start_time": "2021-11-26T04:54:15.713Z"
   },
   {
    "duration": -254,
    "start_time": "2021-11-26T04:54:15.716Z"
   },
   {
    "duration": -254,
    "start_time": "2021-11-26T04:54:15.717Z"
   },
   {
    "duration": -255,
    "start_time": "2021-11-26T04:54:15.719Z"
   },
   {
    "duration": -256,
    "start_time": "2021-11-26T04:54:15.720Z"
   },
   {
    "duration": -257,
    "start_time": "2021-11-26T04:54:15.722Z"
   },
   {
    "duration": -258,
    "start_time": "2021-11-26T04:54:15.724Z"
   },
   {
    "duration": 1306,
    "start_time": "2021-11-26T18:59:38.171Z"
   },
   {
    "duration": 186,
    "start_time": "2021-11-26T18:59:39.479Z"
   },
   {
    "duration": 186,
    "start_time": "2021-11-26T18:59:39.667Z"
   },
   {
    "duration": 182,
    "start_time": "2021-11-26T18:59:39.856Z"
   },
   {
    "duration": 5,
    "start_time": "2021-11-26T18:59:40.039Z"
   },
   {
    "duration": 25,
    "start_time": "2021-11-26T18:59:40.046Z"
   },
   {
    "duration": 7,
    "start_time": "2021-11-26T18:59:40.073Z"
   },
   {
    "duration": 81,
    "start_time": "2021-11-26T18:59:40.083Z"
   },
   {
    "duration": -144,
    "start_time": "2021-11-26T18:59:40.311Z"
   },
   {
    "duration": -148,
    "start_time": "2021-11-26T18:59:40.316Z"
   },
   {
    "duration": -150,
    "start_time": "2021-11-26T18:59:40.319Z"
   },
   {
    "duration": -151,
    "start_time": "2021-11-26T18:59:40.321Z"
   },
   {
    "duration": -152,
    "start_time": "2021-11-26T18:59:40.323Z"
   },
   {
    "duration": -175,
    "start_time": "2021-11-26T18:59:40.347Z"
   },
   {
    "duration": -178,
    "start_time": "2021-11-26T18:59:40.351Z"
   },
   {
    "duration": -180,
    "start_time": "2021-11-26T18:59:40.354Z"
   },
   {
    "duration": -182,
    "start_time": "2021-11-26T18:59:40.357Z"
   },
   {
    "duration": -183,
    "start_time": "2021-11-26T18:59:40.359Z"
   },
   {
    "duration": -187,
    "start_time": "2021-11-26T18:59:40.364Z"
   },
   {
    "duration": -199,
    "start_time": "2021-11-26T18:59:40.377Z"
   },
   {
    "duration": -202,
    "start_time": "2021-11-26T18:59:40.381Z"
   },
   {
    "duration": -205,
    "start_time": "2021-11-26T18:59:40.384Z"
   },
   {
    "duration": -207,
    "start_time": "2021-11-26T18:59:40.387Z"
   },
   {
    "duration": -208,
    "start_time": "2021-11-26T18:59:40.389Z"
   },
   {
    "duration": -210,
    "start_time": "2021-11-26T18:59:40.391Z"
   },
   {
    "duration": -218,
    "start_time": "2021-11-26T18:59:40.400Z"
   },
   {
    "duration": -222,
    "start_time": "2021-11-26T18:59:40.405Z"
   },
   {
    "duration": -223,
    "start_time": "2021-11-26T18:59:40.407Z"
   },
   {
    "duration": -225,
    "start_time": "2021-11-26T18:59:40.409Z"
   },
   {
    "duration": 1885,
    "start_time": "2021-11-26T18:59:58.288Z"
   },
   {
    "duration": 279,
    "start_time": "2021-11-26T19:00:00.176Z"
   },
   {
    "duration": 259,
    "start_time": "2021-11-26T19:00:00.458Z"
   },
   {
    "duration": 274,
    "start_time": "2021-11-26T19:00:00.720Z"
   },
   {
    "duration": 7,
    "start_time": "2021-11-26T19:00:00.996Z"
   },
   {
    "duration": 63,
    "start_time": "2021-11-26T19:00:01.005Z"
   },
   {
    "duration": 37,
    "start_time": "2021-11-26T19:00:01.071Z"
   },
   {
    "duration": 22,
    "start_time": "2021-11-26T19:00:01.110Z"
   },
   {
    "duration": 529,
    "start_time": "2021-11-26T19:00:01.135Z"
   },
   {
    "duration": 444,
    "start_time": "2021-11-26T19:00:01.667Z"
   },
   {
    "duration": -105,
    "start_time": "2021-11-26T19:00:02.218Z"
   },
   {
    "duration": -107,
    "start_time": "2021-11-26T19:00:02.221Z"
   },
   {
    "duration": -109,
    "start_time": "2021-11-26T19:00:02.224Z"
   },
   {
    "duration": -237,
    "start_time": "2021-11-26T19:00:02.353Z"
   },
   {
    "duration": -246,
    "start_time": "2021-11-26T19:00:02.363Z"
   },
   {
    "duration": -247,
    "start_time": "2021-11-26T19:00:02.365Z"
   },
   {
    "duration": -249,
    "start_time": "2021-11-26T19:00:02.368Z"
   },
   {
    "duration": -251,
    "start_time": "2021-11-26T19:00:02.370Z"
   },
   {
    "duration": -251,
    "start_time": "2021-11-26T19:00:02.371Z"
   },
   {
    "duration": -252,
    "start_time": "2021-11-26T19:00:02.373Z"
   },
   {
    "duration": -261,
    "start_time": "2021-11-26T19:00:02.382Z"
   },
   {
    "duration": -263,
    "start_time": "2021-11-26T19:00:02.385Z"
   },
   {
    "duration": -265,
    "start_time": "2021-11-26T19:00:02.387Z"
   },
   {
    "duration": -266,
    "start_time": "2021-11-26T19:00:02.389Z"
   },
   {
    "duration": -267,
    "start_time": "2021-11-26T19:00:02.391Z"
   },
   {
    "duration": -386,
    "start_time": "2021-11-26T19:00:02.510Z"
   },
   {
    "duration": -395,
    "start_time": "2021-11-26T19:00:02.520Z"
   },
   {
    "duration": -397,
    "start_time": "2021-11-26T19:00:02.522Z"
   },
   {
    "duration": 6,
    "start_time": "2021-11-26T19:00:27.355Z"
   },
   {
    "duration": 6,
    "start_time": "2021-11-26T19:00:36.697Z"
   },
   {
    "duration": 578,
    "start_time": "2021-11-26T19:00:37.485Z"
   },
   {
    "duration": 249,
    "start_time": "2021-11-26T19:03:06.178Z"
   },
   {
    "duration": 1182,
    "start_time": "2021-11-26T21:39:16.064Z"
   },
   {
    "duration": 171,
    "start_time": "2021-11-26T21:39:17.248Z"
   },
   {
    "duration": 158,
    "start_time": "2021-11-26T21:39:17.421Z"
   },
   {
    "duration": 169,
    "start_time": "2021-11-26T21:39:17.581Z"
   },
   {
    "duration": 4,
    "start_time": "2021-11-26T21:39:17.751Z"
   },
   {
    "duration": 15,
    "start_time": "2021-11-26T21:39:17.757Z"
   },
   {
    "duration": 14,
    "start_time": "2021-11-26T21:39:17.774Z"
   },
   {
    "duration": 10,
    "start_time": "2021-11-26T21:39:17.790Z"
   },
   {
    "duration": 544,
    "start_time": "2021-11-26T21:39:17.801Z"
   },
   {
    "duration": 361,
    "start_time": "2021-11-26T21:39:18.347Z"
   },
   {
    "duration": -150,
    "start_time": "2021-11-26T21:39:18.860Z"
   },
   {
    "duration": -153,
    "start_time": "2021-11-26T21:39:18.864Z"
   },
   {
    "duration": -154,
    "start_time": "2021-11-26T21:39:18.866Z"
   },
   {
    "duration": -156,
    "start_time": "2021-11-26T21:39:18.869Z"
   },
   {
    "duration": -294,
    "start_time": "2021-11-26T21:39:19.008Z"
   },
   {
    "duration": -301,
    "start_time": "2021-11-26T21:39:19.016Z"
   },
   {
    "duration": -302,
    "start_time": "2021-11-26T21:39:19.018Z"
   },
   {
    "duration": -302,
    "start_time": "2021-11-26T21:39:19.020Z"
   },
   {
    "duration": -303,
    "start_time": "2021-11-26T21:39:19.021Z"
   },
   {
    "duration": -304,
    "start_time": "2021-11-26T21:39:19.023Z"
   },
   {
    "duration": -305,
    "start_time": "2021-11-26T21:39:19.025Z"
   },
   {
    "duration": -305,
    "start_time": "2021-11-26T21:39:19.026Z"
   },
   {
    "duration": -306,
    "start_time": "2021-11-26T21:39:19.028Z"
   },
   {
    "duration": -307,
    "start_time": "2021-11-26T21:39:19.030Z"
   },
   {
    "duration": -307,
    "start_time": "2021-11-26T21:39:19.031Z"
   },
   {
    "duration": -308,
    "start_time": "2021-11-26T21:39:19.033Z"
   },
   {
    "duration": -309,
    "start_time": "2021-11-26T21:39:19.035Z"
   },
   {
    "duration": -446,
    "start_time": "2021-11-26T21:39:19.172Z"
   },
   {
    "duration": 1261,
    "start_time": "2021-11-26T21:43:17.334Z"
   },
   {
    "duration": 171,
    "start_time": "2021-11-26T21:43:18.597Z"
   },
   {
    "duration": 158,
    "start_time": "2021-11-26T21:43:18.770Z"
   },
   {
    "duration": 193,
    "start_time": "2021-11-26T21:43:18.930Z"
   },
   {
    "duration": 4,
    "start_time": "2021-11-26T21:43:19.124Z"
   },
   {
    "duration": 21,
    "start_time": "2021-11-26T21:43:19.129Z"
   },
   {
    "duration": 11,
    "start_time": "2021-11-26T21:43:19.151Z"
   },
   {
    "duration": 8,
    "start_time": "2021-11-26T21:43:19.164Z"
   },
   {
    "duration": 635,
    "start_time": "2021-11-26T21:43:19.174Z"
   },
   {
    "duration": -217,
    "start_time": "2021-11-26T21:43:20.028Z"
   },
   {
    "duration": -219,
    "start_time": "2021-11-26T21:43:20.032Z"
   },
   {
    "duration": -363,
    "start_time": "2021-11-26T21:43:20.177Z"
   },
   {
    "duration": -376,
    "start_time": "2021-11-26T21:43:20.190Z"
   },
   {
    "duration": -376,
    "start_time": "2021-11-26T21:43:20.192Z"
   },
   {
    "duration": -378,
    "start_time": "2021-11-26T21:43:20.195Z"
   },
   {
    "duration": -389,
    "start_time": "2021-11-26T21:43:20.206Z"
   },
   {
    "duration": -391,
    "start_time": "2021-11-26T21:43:20.209Z"
   },
   {
    "duration": -393,
    "start_time": "2021-11-26T21:43:20.212Z"
   },
   {
    "duration": -402,
    "start_time": "2021-11-26T21:43:20.223Z"
   },
   {
    "duration": -404,
    "start_time": "2021-11-26T21:43:20.226Z"
   },
   {
    "duration": -407,
    "start_time": "2021-11-26T21:43:20.229Z"
   },
   {
    "duration": -517,
    "start_time": "2021-11-26T21:43:20.340Z"
   },
   {
    "duration": -518,
    "start_time": "2021-11-26T21:43:20.342Z"
   },
   {
    "duration": -519,
    "start_time": "2021-11-26T21:43:20.344Z"
   },
   {
    "duration": -520,
    "start_time": "2021-11-26T21:43:20.346Z"
   },
   {
    "duration": -521,
    "start_time": "2021-11-26T21:43:20.348Z"
   },
   {
    "duration": -523,
    "start_time": "2021-11-26T21:43:20.351Z"
   },
   {
    "duration": -525,
    "start_time": "2021-11-26T21:43:20.353Z"
   },
   {
    "duration": 1340,
    "start_time": "2021-11-26T21:44:00.252Z"
   },
   {
    "duration": 181,
    "start_time": "2021-11-26T21:44:01.594Z"
   },
   {
    "duration": 199,
    "start_time": "2021-11-26T21:44:01.778Z"
   },
   {
    "duration": 178,
    "start_time": "2021-11-26T21:44:01.979Z"
   },
   {
    "duration": 4,
    "start_time": "2021-11-26T21:44:02.159Z"
   },
   {
    "duration": 25,
    "start_time": "2021-11-26T21:44:02.164Z"
   },
   {
    "duration": 22,
    "start_time": "2021-11-26T21:44:02.192Z"
   },
   {
    "duration": 20,
    "start_time": "2021-11-26T21:44:02.217Z"
   },
   {
    "duration": 422,
    "start_time": "2021-11-26T21:44:02.239Z"
   },
   {
    "duration": 535,
    "start_time": "2021-11-26T21:44:02.745Z"
   },
   {
    "duration": -162,
    "start_time": "2021-11-26T21:44:03.444Z"
   },
   {
    "duration": -163,
    "start_time": "2021-11-26T21:44:03.446Z"
   },
   {
    "duration": -165,
    "start_time": "2021-11-26T21:44:03.449Z"
   },
   {
    "duration": -166,
    "start_time": "2021-11-26T21:44:03.452Z"
   },
   {
    "duration": -302,
    "start_time": "2021-11-26T21:44:03.589Z"
   },
   {
    "duration": -308,
    "start_time": "2021-11-26T21:44:03.597Z"
   },
   {
    "duration": -310,
    "start_time": "2021-11-26T21:44:03.600Z"
   },
   {
    "duration": -312,
    "start_time": "2021-11-26T21:44:03.604Z"
   },
   {
    "duration": -314,
    "start_time": "2021-11-26T21:44:03.607Z"
   },
   {
    "duration": -316,
    "start_time": "2021-11-26T21:44:03.610Z"
   },
   {
    "duration": -316,
    "start_time": "2021-11-26T21:44:03.612Z"
   },
   {
    "duration": -317,
    "start_time": "2021-11-26T21:44:03.614Z"
   },
   {
    "duration": -318,
    "start_time": "2021-11-26T21:44:03.617Z"
   },
   {
    "duration": -320,
    "start_time": "2021-11-26T21:44:03.620Z"
   },
   {
    "duration": -321,
    "start_time": "2021-11-26T21:44:03.622Z"
   },
   {
    "duration": -321,
    "start_time": "2021-11-26T21:44:03.624Z"
   },
   {
    "duration": -322,
    "start_time": "2021-11-26T21:44:03.626Z"
   },
   {
    "duration": -322,
    "start_time": "2021-11-26T21:44:03.628Z"
   },
   {
    "duration": 1137,
    "start_time": "2021-11-26T21:49:50.124Z"
   },
   {
    "duration": 231,
    "start_time": "2021-11-26T21:50:00.843Z"
   },
   {
    "duration": 6,
    "start_time": "2021-11-26T21:50:15.358Z"
   },
   {
    "duration": 451,
    "start_time": "2021-11-26T21:50:19.696Z"
   },
   {
    "duration": 697,
    "start_time": "2021-11-26T21:51:17.355Z"
   },
   {
    "duration": 543,
    "start_time": "2021-11-26T21:51:20.302Z"
   },
   {
    "duration": 1150,
    "start_time": "2021-11-28T23:38:05.300Z"
   },
   {
    "duration": 169,
    "start_time": "2021-11-28T23:38:06.452Z"
   },
   {
    "duration": 151,
    "start_time": "2021-11-28T23:38:06.623Z"
   },
   {
    "duration": 154,
    "start_time": "2021-11-28T23:38:06.776Z"
   },
   {
    "duration": 3,
    "start_time": "2021-11-28T23:38:06.932Z"
   },
   {
    "duration": 10,
    "start_time": "2021-11-28T23:38:06.937Z"
   },
   {
    "duration": 8,
    "start_time": "2021-11-28T23:38:06.949Z"
   },
   {
    "duration": 702,
    "start_time": "2021-11-28T23:38:06.959Z"
   },
   {
    "duration": -71,
    "start_time": "2021-11-28T23:38:07.734Z"
   },
   {
    "duration": -72,
    "start_time": "2021-11-28T23:38:07.736Z"
   },
   {
    "duration": -75,
    "start_time": "2021-11-28T23:38:07.739Z"
   },
   {
    "duration": -219,
    "start_time": "2021-11-28T23:38:07.884Z"
   },
   {
    "duration": -225,
    "start_time": "2021-11-28T23:38:07.891Z"
   },
   {
    "duration": -226,
    "start_time": "2021-11-28T23:38:07.893Z"
   },
   {
    "duration": -227,
    "start_time": "2021-11-28T23:38:07.895Z"
   },
   {
    "duration": -229,
    "start_time": "2021-11-28T23:38:07.898Z"
   },
   {
    "duration": -230,
    "start_time": "2021-11-28T23:38:07.900Z"
   },
   {
    "duration": -231,
    "start_time": "2021-11-28T23:38:07.902Z"
   },
   {
    "duration": -232,
    "start_time": "2021-11-28T23:38:07.904Z"
   },
   {
    "duration": -233,
    "start_time": "2021-11-28T23:38:07.906Z"
   },
   {
    "duration": -234,
    "start_time": "2021-11-28T23:38:07.908Z"
   },
   {
    "duration": -234,
    "start_time": "2021-11-28T23:38:07.909Z"
   },
   {
    "duration": -235,
    "start_time": "2021-11-28T23:38:07.911Z"
   },
   {
    "duration": -236,
    "start_time": "2021-11-28T23:38:07.913Z"
   },
   {
    "duration": -237,
    "start_time": "2021-11-28T23:38:07.915Z"
   },
   {
    "duration": -238,
    "start_time": "2021-11-28T23:38:07.917Z"
   },
   {
    "duration": -371,
    "start_time": "2021-11-28T23:38:08.051Z"
   },
   {
    "duration": -377,
    "start_time": "2021-11-28T23:38:08.058Z"
   },
   {
    "duration": 1129,
    "start_time": "2021-11-28T23:39:57.971Z"
   },
   {
    "duration": 160,
    "start_time": "2021-11-28T23:39:59.102Z"
   },
   {
    "duration": 153,
    "start_time": "2021-11-28T23:39:59.265Z"
   },
   {
    "duration": 200,
    "start_time": "2021-11-28T23:39:59.420Z"
   },
   {
    "duration": 4,
    "start_time": "2021-11-28T23:39:59.622Z"
   },
   {
    "duration": 13,
    "start_time": "2021-11-28T23:39:59.627Z"
   },
   {
    "duration": 8,
    "start_time": "2021-11-28T23:39:59.642Z"
   },
   {
    "duration": 11,
    "start_time": "2021-11-28T23:39:59.652Z"
   },
   {
    "duration": 412,
    "start_time": "2021-11-28T23:39:59.688Z"
   },
   {
    "duration": 512,
    "start_time": "2021-11-28T23:40:00.102Z"
   },
   {
    "duration": -33,
    "start_time": "2021-11-28T23:40:00.649Z"
   },
   {
    "duration": -35,
    "start_time": "2021-11-28T23:40:00.651Z"
   },
   {
    "duration": -37,
    "start_time": "2021-11-28T23:40:00.654Z"
   },
   {
    "duration": -53,
    "start_time": "2021-11-28T23:40:00.671Z"
   },
   {
    "duration": -193,
    "start_time": "2021-11-28T23:40:00.812Z"
   },
   {
    "duration": -195,
    "start_time": "2021-11-28T23:40:00.815Z"
   },
   {
    "duration": -197,
    "start_time": "2021-11-28T23:40:00.818Z"
   },
   {
    "duration": -205,
    "start_time": "2021-11-28T23:40:00.826Z"
   },
   {
    "duration": -206,
    "start_time": "2021-11-28T23:40:00.828Z"
   },
   {
    "duration": -208,
    "start_time": "2021-11-28T23:40:00.831Z"
   },
   {
    "duration": -208,
    "start_time": "2021-11-28T23:40:00.833Z"
   },
   {
    "duration": -210,
    "start_time": "2021-11-28T23:40:00.835Z"
   },
   {
    "duration": -211,
    "start_time": "2021-11-28T23:40:00.837Z"
   },
   {
    "duration": -212,
    "start_time": "2021-11-28T23:40:00.839Z"
   },
   {
    "duration": -214,
    "start_time": "2021-11-28T23:40:00.842Z"
   },
   {
    "duration": -216,
    "start_time": "2021-11-28T23:40:00.844Z"
   },
   {
    "duration": -347,
    "start_time": "2021-11-28T23:40:00.976Z"
   },
   {
    "duration": -356,
    "start_time": "2021-11-28T23:40:00.986Z"
   },
   {
    "duration": 5,
    "start_time": "2021-11-28T23:41:08.132Z"
   },
   {
    "duration": 372,
    "start_time": "2021-11-28T23:41:13.326Z"
   },
   {
    "duration": 6,
    "start_time": "2021-11-28T23:41:43.587Z"
   },
   {
    "duration": 1171,
    "start_time": "2021-11-28T23:43:53.531Z"
   },
   {
    "duration": 166,
    "start_time": "2021-11-28T23:43:54.704Z"
   },
   {
    "duration": 174,
    "start_time": "2021-11-28T23:43:54.872Z"
   },
   {
    "duration": 160,
    "start_time": "2021-11-28T23:43:55.048Z"
   },
   {
    "duration": 3,
    "start_time": "2021-11-28T23:43:55.210Z"
   },
   {
    "duration": 13,
    "start_time": "2021-11-28T23:43:55.215Z"
   },
   {
    "duration": 7,
    "start_time": "2021-11-28T23:43:55.229Z"
   },
   {
    "duration": 6,
    "start_time": "2021-11-28T23:43:55.239Z"
   },
   {
    "duration": 448,
    "start_time": "2021-11-28T23:43:55.247Z"
   },
   {
    "duration": 404,
    "start_time": "2021-11-28T23:43:55.697Z"
   },
   {
    "duration": -49,
    "start_time": "2021-11-28T23:43:56.152Z"
   },
   {
    "duration": -51,
    "start_time": "2021-11-28T23:43:56.154Z"
   },
   {
    "duration": -53,
    "start_time": "2021-11-28T23:43:56.157Z"
   },
   {
    "duration": -53,
    "start_time": "2021-11-28T23:43:56.158Z"
   },
   {
    "duration": -54,
    "start_time": "2021-11-28T23:43:56.160Z"
   },
   {
    "duration": -194,
    "start_time": "2021-11-28T23:43:56.301Z"
   },
   {
    "duration": -202,
    "start_time": "2021-11-28T23:43:56.310Z"
   },
   {
    "duration": -204,
    "start_time": "2021-11-28T23:43:56.313Z"
   },
   {
    "duration": -205,
    "start_time": "2021-11-28T23:43:56.315Z"
   },
   {
    "duration": -206,
    "start_time": "2021-11-28T23:43:56.316Z"
   },
   {
    "duration": -207,
    "start_time": "2021-11-28T23:43:56.318Z"
   },
   {
    "duration": -208,
    "start_time": "2021-11-28T23:43:56.320Z"
   },
   {
    "duration": -209,
    "start_time": "2021-11-28T23:43:56.322Z"
   },
   {
    "duration": -210,
    "start_time": "2021-11-28T23:43:56.323Z"
   },
   {
    "duration": -212,
    "start_time": "2021-11-28T23:43:56.326Z"
   },
   {
    "duration": -213,
    "start_time": "2021-11-28T23:43:56.328Z"
   },
   {
    "duration": -214,
    "start_time": "2021-11-28T23:43:56.330Z"
   },
   {
    "duration": -300,
    "start_time": "2021-11-28T23:43:56.417Z"
   },
   {
    "duration": 243,
    "start_time": "2021-11-28T23:49:14.503Z"
   },
   {
    "duration": 1151,
    "start_time": "2021-11-28T23:49:46.681Z"
   },
   {
    "duration": 165,
    "start_time": "2021-11-28T23:49:47.833Z"
   },
   {
    "duration": 156,
    "start_time": "2021-11-28T23:49:48.000Z"
   },
   {
    "duration": 159,
    "start_time": "2021-11-28T23:49:48.158Z"
   },
   {
    "duration": 4,
    "start_time": "2021-11-28T23:49:48.319Z"
   },
   {
    "duration": 17,
    "start_time": "2021-11-28T23:49:48.325Z"
   },
   {
    "duration": 15,
    "start_time": "2021-11-28T23:49:48.343Z"
   },
   {
    "duration": 319,
    "start_time": "2021-11-28T23:49:48.360Z"
   },
   {
    "duration": -51,
    "start_time": "2021-11-28T23:49:48.733Z"
   },
   {
    "duration": -52,
    "start_time": "2021-11-28T23:49:48.735Z"
   },
   {
    "duration": -52,
    "start_time": "2021-11-28T23:49:48.737Z"
   },
   {
    "duration": -53,
    "start_time": "2021-11-28T23:49:48.739Z"
   },
   {
    "duration": -53,
    "start_time": "2021-11-28T23:49:48.740Z"
   },
   {
    "duration": -53,
    "start_time": "2021-11-28T23:49:48.742Z"
   },
   {
    "duration": -53,
    "start_time": "2021-11-28T23:49:48.743Z"
   },
   {
    "duration": -62,
    "start_time": "2021-11-28T23:49:48.753Z"
   },
   {
    "duration": -62,
    "start_time": "2021-11-28T23:49:48.755Z"
   },
   {
    "duration": -68,
    "start_time": "2021-11-28T23:49:48.762Z"
   },
   {
    "duration": -69,
    "start_time": "2021-11-28T23:49:48.764Z"
   },
   {
    "duration": -69,
    "start_time": "2021-11-28T23:49:48.766Z"
   },
   {
    "duration": -69,
    "start_time": "2021-11-28T23:49:48.767Z"
   },
   {
    "duration": -70,
    "start_time": "2021-11-28T23:49:48.769Z"
   },
   {
    "duration": -70,
    "start_time": "2021-11-28T23:49:48.771Z"
   },
   {
    "duration": -70,
    "start_time": "2021-11-28T23:49:48.772Z"
   },
   {
    "duration": -71,
    "start_time": "2021-11-28T23:49:48.774Z"
   },
   {
    "duration": -70,
    "start_time": "2021-11-28T23:49:48.775Z"
   },
   {
    "duration": -71,
    "start_time": "2021-11-28T23:49:48.777Z"
   },
   {
    "duration": -72,
    "start_time": "2021-11-28T23:49:48.779Z"
   },
   {
    "duration": 1098,
    "start_time": "2021-11-28T23:50:32.619Z"
   },
   {
    "duration": 162,
    "start_time": "2021-11-28T23:50:33.719Z"
   },
   {
    "duration": 154,
    "start_time": "2021-11-28T23:50:33.884Z"
   },
   {
    "duration": 154,
    "start_time": "2021-11-28T23:50:34.040Z"
   },
   {
    "duration": 5,
    "start_time": "2021-11-28T23:50:34.196Z"
   },
   {
    "duration": 11,
    "start_time": "2021-11-28T23:50:34.203Z"
   },
   {
    "duration": 6,
    "start_time": "2021-11-28T23:50:34.216Z"
   },
   {
    "duration": 7,
    "start_time": "2021-11-28T23:50:34.225Z"
   },
   {
    "duration": 466,
    "start_time": "2021-11-28T23:50:34.234Z"
   },
   {
    "duration": 553,
    "start_time": "2021-11-28T23:50:34.789Z"
   },
   {
    "duration": -41,
    "start_time": "2021-11-28T23:50:35.385Z"
   },
   {
    "duration": -42,
    "start_time": "2021-11-28T23:50:35.387Z"
   },
   {
    "duration": -43,
    "start_time": "2021-11-28T23:50:35.389Z"
   },
   {
    "duration": -178,
    "start_time": "2021-11-28T23:50:35.525Z"
   },
   {
    "duration": -186,
    "start_time": "2021-11-28T23:50:35.534Z"
   },
   {
    "duration": -187,
    "start_time": "2021-11-28T23:50:35.536Z"
   },
   {
    "duration": -188,
    "start_time": "2021-11-28T23:50:35.538Z"
   },
   {
    "duration": -189,
    "start_time": "2021-11-28T23:50:35.540Z"
   },
   {
    "duration": -189,
    "start_time": "2021-11-28T23:50:35.541Z"
   },
   {
    "duration": -190,
    "start_time": "2021-11-28T23:50:35.543Z"
   },
   {
    "duration": -196,
    "start_time": "2021-11-28T23:50:35.550Z"
   },
   {
    "duration": -197,
    "start_time": "2021-11-28T23:50:35.552Z"
   },
   {
    "duration": -198,
    "start_time": "2021-11-28T23:50:35.554Z"
   },
   {
    "duration": -199,
    "start_time": "2021-11-28T23:50:35.556Z"
   },
   {
    "duration": -276,
    "start_time": "2021-11-28T23:50:35.634Z"
   },
   {
    "duration": -326,
    "start_time": "2021-11-28T23:50:35.684Z"
   },
   {
    "duration": -332,
    "start_time": "2021-11-28T23:50:35.692Z"
   },
   {
    "duration": -334,
    "start_time": "2021-11-28T23:50:35.694Z"
   },
   {
    "duration": 1146,
    "start_time": "2021-11-28T23:52:11.169Z"
   },
   {
    "duration": 160,
    "start_time": "2021-11-28T23:52:12.317Z"
   },
   {
    "duration": 149,
    "start_time": "2021-11-28T23:52:12.479Z"
   },
   {
    "duration": 154,
    "start_time": "2021-11-28T23:52:12.629Z"
   },
   {
    "duration": 3,
    "start_time": "2021-11-28T23:52:12.785Z"
   },
   {
    "duration": 10,
    "start_time": "2021-11-28T23:52:12.790Z"
   },
   {
    "duration": 6,
    "start_time": "2021-11-28T23:52:12.801Z"
   },
   {
    "duration": 7,
    "start_time": "2021-11-28T23:52:12.809Z"
   },
   {
    "duration": 379,
    "start_time": "2021-11-28T23:52:12.817Z"
   },
   {
    "duration": 419,
    "start_time": "2021-11-28T23:52:13.198Z"
   },
   {
    "duration": -104,
    "start_time": "2021-11-28T23:52:13.723Z"
   },
   {
    "duration": -106,
    "start_time": "2021-11-28T23:52:13.726Z"
   },
   {
    "duration": -107,
    "start_time": "2021-11-28T23:52:13.728Z"
   },
   {
    "duration": -242,
    "start_time": "2021-11-28T23:52:13.863Z"
   },
   {
    "duration": -249,
    "start_time": "2021-11-28T23:52:13.871Z"
   },
   {
    "duration": -251,
    "start_time": "2021-11-28T23:52:13.874Z"
   },
   {
    "duration": -252,
    "start_time": "2021-11-28T23:52:13.876Z"
   },
   {
    "duration": -253,
    "start_time": "2021-11-28T23:52:13.878Z"
   },
   {
    "duration": -260,
    "start_time": "2021-11-28T23:52:13.885Z"
   },
   {
    "duration": -261,
    "start_time": "2021-11-28T23:52:13.887Z"
   },
   {
    "duration": -262,
    "start_time": "2021-11-28T23:52:13.889Z"
   },
   {
    "duration": -263,
    "start_time": "2021-11-28T23:52:13.891Z"
   },
   {
    "duration": -264,
    "start_time": "2021-11-28T23:52:13.893Z"
   },
   {
    "duration": -266,
    "start_time": "2021-11-28T23:52:13.895Z"
   },
   {
    "duration": -266,
    "start_time": "2021-11-28T23:52:13.896Z"
   },
   {
    "duration": -267,
    "start_time": "2021-11-28T23:52:13.898Z"
   },
   {
    "duration": -267,
    "start_time": "2021-11-28T23:52:13.899Z"
   },
   {
    "duration": -398,
    "start_time": "2021-11-28T23:52:14.030Z"
   },
   {
    "duration": 1088,
    "start_time": "2021-11-28T23:58:01.522Z"
   },
   {
    "duration": 160,
    "start_time": "2021-11-28T23:58:02.612Z"
   },
   {
    "duration": 152,
    "start_time": "2021-11-28T23:58:02.774Z"
   },
   {
    "duration": 156,
    "start_time": "2021-11-28T23:58:02.928Z"
   },
   {
    "duration": 3,
    "start_time": "2021-11-28T23:58:03.088Z"
   },
   {
    "duration": 12,
    "start_time": "2021-11-28T23:58:03.092Z"
   },
   {
    "duration": 5,
    "start_time": "2021-11-28T23:58:03.106Z"
   },
   {
    "duration": 6,
    "start_time": "2021-11-28T23:58:03.114Z"
   },
   {
    "duration": 381,
    "start_time": "2021-11-28T23:58:03.122Z"
   },
   {
    "duration": 419,
    "start_time": "2021-11-28T23:58:03.506Z"
   },
   {
    "duration": -106,
    "start_time": "2021-11-28T23:58:04.033Z"
   },
   {
    "duration": -108,
    "start_time": "2021-11-28T23:58:04.036Z"
   },
   {
    "duration": -109,
    "start_time": "2021-11-28T23:58:04.038Z"
   },
   {
    "duration": -110,
    "start_time": "2021-11-28T23:58:04.040Z"
   },
   {
    "duration": -111,
    "start_time": "2021-11-28T23:58:04.041Z"
   },
   {
    "duration": -112,
    "start_time": "2021-11-28T23:58:04.043Z"
   },
   {
    "duration": -113,
    "start_time": "2021-11-28T23:58:04.045Z"
   },
   {
    "duration": -114,
    "start_time": "2021-11-28T23:58:04.047Z"
   },
   {
    "duration": -115,
    "start_time": "2021-11-28T23:58:04.049Z"
   },
   {
    "duration": -116,
    "start_time": "2021-11-28T23:58:04.051Z"
   },
   {
    "duration": -117,
    "start_time": "2021-11-28T23:58:04.053Z"
   },
   {
    "duration": -118,
    "start_time": "2021-11-28T23:58:04.055Z"
   },
   {
    "duration": -118,
    "start_time": "2021-11-28T23:58:04.056Z"
   },
   {
    "duration": -119,
    "start_time": "2021-11-28T23:58:04.058Z"
   },
   {
    "duration": -121,
    "start_time": "2021-11-28T23:58:04.060Z"
   },
   {
    "duration": -123,
    "start_time": "2021-11-28T23:58:04.063Z"
   },
   {
    "duration": -124,
    "start_time": "2021-11-28T23:58:04.065Z"
   },
   {
    "duration": -241,
    "start_time": "2021-11-28T23:58:04.183Z"
   },
   {
    "duration": 5033,
    "start_time": "2021-11-29T00:16:07.029Z"
   },
   {
    "duration": 1263,
    "start_time": "2021-11-29T00:16:59.298Z"
   },
   {
    "duration": -134,
    "start_time": "2021-11-29T00:17:00.697Z"
   },
   {
    "duration": -134,
    "start_time": "2021-11-29T00:17:00.698Z"
   },
   {
    "duration": -254,
    "start_time": "2021-11-29T00:17:00.819Z"
   },
   {
    "duration": -263,
    "start_time": "2021-11-29T00:17:00.828Z"
   },
   {
    "duration": -264,
    "start_time": "2021-11-29T00:17:00.830Z"
   },
   {
    "duration": -266,
    "start_time": "2021-11-29T00:17:00.833Z"
   },
   {
    "duration": -266,
    "start_time": "2021-11-29T00:17:00.834Z"
   },
   {
    "duration": -267,
    "start_time": "2021-11-29T00:17:00.836Z"
   },
   {
    "duration": -269,
    "start_time": "2021-11-29T00:17:00.839Z"
   },
   {
    "duration": -270,
    "start_time": "2021-11-29T00:17:00.841Z"
   },
   {
    "duration": -274,
    "start_time": "2021-11-29T00:17:00.845Z"
   },
   {
    "duration": -354,
    "start_time": "2021-11-29T00:17:00.926Z"
   },
   {
    "duration": -356,
    "start_time": "2021-11-29T00:17:00.929Z"
   },
   {
    "duration": -416,
    "start_time": "2021-11-29T00:17:00.990Z"
   },
   {
    "duration": -418,
    "start_time": "2021-11-29T00:17:00.993Z"
   },
   {
    "duration": -419,
    "start_time": "2021-11-29T00:17:00.995Z"
   },
   {
    "duration": -420,
    "start_time": "2021-11-29T00:17:00.997Z"
   },
   {
    "duration": -421,
    "start_time": "2021-11-29T00:17:00.998Z"
   },
   {
    "duration": -422,
    "start_time": "2021-11-29T00:17:01.000Z"
   },
   {
    "duration": -423,
    "start_time": "2021-11-29T00:17:01.002Z"
   },
   {
    "duration": -424,
    "start_time": "2021-11-29T00:17:01.004Z"
   },
   {
    "duration": -500,
    "start_time": "2021-11-29T00:17:01.081Z"
   },
   {
    "duration": -502,
    "start_time": "2021-11-29T00:17:01.084Z"
   },
   {
    "duration": -503,
    "start_time": "2021-11-29T00:17:01.086Z"
   },
   {
    "duration": -567,
    "start_time": "2021-11-29T00:17:01.150Z"
   },
   {
    "duration": -569,
    "start_time": "2021-11-29T00:17:01.153Z"
   },
   {
    "duration": -570,
    "start_time": "2021-11-29T00:17:01.155Z"
   },
   {
    "duration": -571,
    "start_time": "2021-11-29T00:17:01.157Z"
   },
   {
    "duration": -572,
    "start_time": "2021-11-29T00:17:01.159Z"
   },
   {
    "duration": 1403,
    "start_time": "2021-11-29T00:17:58.944Z"
   },
   {
    "duration": -120,
    "start_time": "2021-11-29T00:18:00.470Z"
   },
   {
    "duration": -121,
    "start_time": "2021-11-29T00:18:00.472Z"
   },
   {
    "duration": -122,
    "start_time": "2021-11-29T00:18:00.474Z"
   },
   {
    "duration": -253,
    "start_time": "2021-11-29T00:18:00.606Z"
   },
   {
    "duration": -267,
    "start_time": "2021-11-29T00:18:00.621Z"
   },
   {
    "duration": -274,
    "start_time": "2021-11-29T00:18:00.628Z"
   },
   {
    "duration": -275,
    "start_time": "2021-11-29T00:18:00.630Z"
   },
   {
    "duration": -276,
    "start_time": "2021-11-29T00:18:00.632Z"
   },
   {
    "duration": -277,
    "start_time": "2021-11-29T00:18:00.634Z"
   },
   {
    "duration": -279,
    "start_time": "2021-11-29T00:18:00.636Z"
   },
   {
    "duration": -279,
    "start_time": "2021-11-29T00:18:00.637Z"
   },
   {
    "duration": -280,
    "start_time": "2021-11-29T00:18:00.639Z"
   },
   {
    "duration": -281,
    "start_time": "2021-11-29T00:18:00.641Z"
   },
   {
    "duration": -401,
    "start_time": "2021-11-29T00:18:00.761Z"
   },
   {
    "duration": -403,
    "start_time": "2021-11-29T00:18:00.764Z"
   },
   {
    "duration": -413,
    "start_time": "2021-11-29T00:18:00.775Z"
   },
   {
    "duration": -414,
    "start_time": "2021-11-29T00:18:00.777Z"
   },
   {
    "duration": -414,
    "start_time": "2021-11-29T00:18:00.778Z"
   },
   {
    "duration": -414,
    "start_time": "2021-11-29T00:18:00.780Z"
   },
   {
    "duration": -415,
    "start_time": "2021-11-29T00:18:00.782Z"
   },
   {
    "duration": -416,
    "start_time": "2021-11-29T00:18:00.784Z"
   },
   {
    "duration": -418,
    "start_time": "2021-11-29T00:18:00.786Z"
   },
   {
    "duration": -418,
    "start_time": "2021-11-29T00:18:00.787Z"
   },
   {
    "duration": -419,
    "start_time": "2021-11-29T00:18:00.789Z"
   },
   {
    "duration": -419,
    "start_time": "2021-11-29T00:18:00.790Z"
   },
   {
    "duration": -544,
    "start_time": "2021-11-29T00:18:00.916Z"
   },
   {
    "duration": -545,
    "start_time": "2021-11-29T00:18:00.918Z"
   },
   {
    "duration": -551,
    "start_time": "2021-11-29T00:18:00.925Z"
   },
   {
    "duration": -552,
    "start_time": "2021-11-29T00:18:00.927Z"
   },
   {
    "duration": 1169,
    "start_time": "2021-11-29T02:46:33.687Z"
   },
   {
    "duration": 167,
    "start_time": "2021-11-29T02:46:34.857Z"
   },
   {
    "duration": 160,
    "start_time": "2021-11-29T02:46:35.027Z"
   },
   {
    "duration": 154,
    "start_time": "2021-11-29T02:46:35.190Z"
   },
   {
    "duration": 74,
    "start_time": "2021-11-29T02:46:35.346Z"
   },
   {
    "duration": -86,
    "start_time": "2021-11-29T02:46:35.509Z"
   },
   {
    "duration": -87,
    "start_time": "2021-11-29T02:46:35.512Z"
   },
   {
    "duration": -89,
    "start_time": "2021-11-29T02:46:35.515Z"
   },
   {
    "duration": -91,
    "start_time": "2021-11-29T02:46:35.518Z"
   },
   {
    "duration": -92,
    "start_time": "2021-11-29T02:46:35.521Z"
   },
   {
    "duration": -93,
    "start_time": "2021-11-29T02:46:35.523Z"
   },
   {
    "duration": -94,
    "start_time": "2021-11-29T02:46:35.525Z"
   },
   {
    "duration": -95,
    "start_time": "2021-11-29T02:46:35.528Z"
   },
   {
    "duration": -97,
    "start_time": "2021-11-29T02:46:35.531Z"
   },
   {
    "duration": -99,
    "start_time": "2021-11-29T02:46:35.534Z"
   },
   {
    "duration": -100,
    "start_time": "2021-11-29T02:46:35.536Z"
   },
   {
    "duration": -160,
    "start_time": "2021-11-29T02:46:35.598Z"
   },
   {
    "duration": -162,
    "start_time": "2021-11-29T02:46:35.601Z"
   },
   {
    "duration": -163,
    "start_time": "2021-11-29T02:46:35.603Z"
   },
   {
    "duration": -163,
    "start_time": "2021-11-29T02:46:35.605Z"
   },
   {
    "duration": -163,
    "start_time": "2021-11-29T02:46:35.606Z"
   },
   {
    "duration": -165,
    "start_time": "2021-11-29T02:46:35.609Z"
   },
   {
    "duration": -168,
    "start_time": "2021-11-29T02:46:35.614Z"
   },
   {
    "duration": -170,
    "start_time": "2021-11-29T02:46:35.617Z"
   },
   {
    "duration": -171,
    "start_time": "2021-11-29T02:46:35.619Z"
   },
   {
    "duration": -171,
    "start_time": "2021-11-29T02:46:35.621Z"
   },
   {
    "duration": 1222,
    "start_time": "2021-11-29T02:50:41.281Z"
   },
   {
    "duration": 155,
    "start_time": "2021-11-29T02:50:42.505Z"
   },
   {
    "duration": 149,
    "start_time": "2021-11-29T02:50:42.662Z"
   },
   {
    "duration": 152,
    "start_time": "2021-11-29T02:50:42.813Z"
   },
   {
    "duration": 77,
    "start_time": "2021-11-29T02:50:42.967Z"
   },
   {
    "duration": -89,
    "start_time": "2021-11-29T02:50:43.135Z"
   },
   {
    "duration": -90,
    "start_time": "2021-11-29T02:50:43.137Z"
   },
   {
    "duration": -91,
    "start_time": "2021-11-29T02:50:43.139Z"
   },
   {
    "duration": -93,
    "start_time": "2021-11-29T02:50:43.142Z"
   },
   {
    "duration": -95,
    "start_time": "2021-11-29T02:50:43.144Z"
   },
   {
    "duration": -113,
    "start_time": "2021-11-29T02:50:43.163Z"
   },
   {
    "duration": -115,
    "start_time": "2021-11-29T02:50:43.166Z"
   },
   {
    "duration": -121,
    "start_time": "2021-11-29T02:50:43.173Z"
   },
   {
    "duration": -160,
    "start_time": "2021-11-29T02:50:43.212Z"
   },
   {
    "duration": -166,
    "start_time": "2021-11-29T02:50:43.219Z"
   },
   {
    "duration": -167,
    "start_time": "2021-11-29T02:50:43.221Z"
   },
   {
    "duration": -169,
    "start_time": "2021-11-29T02:50:43.223Z"
   },
   {
    "duration": -170,
    "start_time": "2021-11-29T02:50:43.225Z"
   },
   {
    "duration": -171,
    "start_time": "2021-11-29T02:50:43.227Z"
   },
   {
    "duration": -172,
    "start_time": "2021-11-29T02:50:43.229Z"
   },
   {
    "duration": -174,
    "start_time": "2021-11-29T02:50:43.231Z"
   },
   {
    "duration": -175,
    "start_time": "2021-11-29T02:50:43.233Z"
   },
   {
    "duration": -176,
    "start_time": "2021-11-29T02:50:43.235Z"
   },
   {
    "duration": -177,
    "start_time": "2021-11-29T02:50:43.236Z"
   },
   {
    "duration": -178,
    "start_time": "2021-11-29T02:50:43.238Z"
   },
   {
    "duration": -179,
    "start_time": "2021-11-29T02:50:43.240Z"
   },
   {
    "duration": 5,
    "start_time": "2021-11-29T02:51:13.545Z"
   },
   {
    "duration": 385,
    "start_time": "2021-11-29T02:51:15.115Z"
   },
   {
    "duration": 5,
    "start_time": "2021-11-29T02:52:36.002Z"
   },
   {
    "duration": 393,
    "start_time": "2021-11-29T02:52:36.801Z"
   },
   {
    "duration": 6,
    "start_time": "2021-11-29T02:53:06.409Z"
   },
   {
    "duration": 442,
    "start_time": "2021-11-29T02:53:06.860Z"
   },
   {
    "duration": 6,
    "start_time": "2021-11-29T02:53:33.780Z"
   },
   {
    "duration": 372,
    "start_time": "2021-11-29T02:53:34.025Z"
   },
   {
    "duration": 5,
    "start_time": "2021-11-29T02:53:45.237Z"
   },
   {
    "duration": 113,
    "start_time": "2021-11-29T03:05:49.733Z"
   },
   {
    "duration": 75,
    "start_time": "2021-11-29T03:06:00.705Z"
   },
   {
    "duration": 326,
    "start_time": "2021-11-29T03:06:09.949Z"
   },
   {
    "duration": 3,
    "start_time": "2021-11-29T03:06:18.685Z"
   },
   {
    "duration": 72,
    "start_time": "2021-11-29T03:06:20.513Z"
   },
   {
    "duration": 2,
    "start_time": "2021-11-29T03:06:28.713Z"
   },
   {
    "duration": 3,
    "start_time": "2021-11-29T03:06:40.549Z"
   },
   {
    "duration": 579,
    "start_time": "2021-11-29T03:22:15.530Z"
   },
   {
    "duration": 563,
    "start_time": "2021-11-29T03:22:46.016Z"
   },
   {
    "duration": 229,
    "start_time": "2021-11-29T03:27:11.986Z"
   },
   {
    "duration": 187,
    "start_time": "2021-11-29T03:27:27.618Z"
   },
   {
    "duration": 249,
    "start_time": "2021-11-29T03:28:08.155Z"
   },
   {
    "duration": 140,
    "start_time": "2021-11-29T03:28:16.889Z"
   },
   {
    "duration": 1184,
    "start_time": "2021-11-29T03:29:45.495Z"
   },
   {
    "duration": 6,
    "start_time": "2021-11-29T03:30:07.682Z"
   },
   {
    "duration": 6,
    "start_time": "2021-11-29T03:30:58.642Z"
   },
   {
    "duration": 6,
    "start_time": "2021-11-29T03:31:15.558Z"
   },
   {
    "duration": 243,
    "start_time": "2021-11-29T03:33:25.570Z"
   },
   {
    "duration": 8,
    "start_time": "2021-11-29T03:33:45.902Z"
   },
   {
    "duration": 305,
    "start_time": "2021-11-29T03:36:49.273Z"
   },
   {
    "duration": 10,
    "start_time": "2021-11-29T03:36:59.608Z"
   },
   {
    "duration": 13,
    "start_time": "2021-11-29T03:37:29.905Z"
   },
   {
    "duration": 14,
    "start_time": "2021-11-29T03:38:04.140Z"
   },
   {
    "duration": 815,
    "start_time": "2021-11-29T03:38:29.673Z"
   },
   {
    "duration": 11,
    "start_time": "2021-11-29T03:39:04.755Z"
   },
   {
    "duration": 9,
    "start_time": "2021-11-29T03:42:58.433Z"
   },
   {
    "duration": 17,
    "start_time": "2021-11-29T03:43:20.015Z"
   },
   {
    "duration": 10,
    "start_time": "2021-11-29T03:43:43.593Z"
   },
   {
    "duration": 1299,
    "start_time": "2021-11-29T13:18:59.870Z"
   },
   {
    "duration": 178,
    "start_time": "2021-11-29T13:19:01.171Z"
   },
   {
    "duration": 163,
    "start_time": "2021-11-29T13:19:01.351Z"
   },
   {
    "duration": 175,
    "start_time": "2021-11-29T13:19:01.516Z"
   },
   {
    "duration": 7,
    "start_time": "2021-11-29T13:19:01.693Z"
   },
   {
    "duration": 151,
    "start_time": "2021-11-29T13:19:01.707Z"
   },
   {
    "duration": 5,
    "start_time": "2021-11-29T13:19:01.860Z"
   },
   {
    "duration": 260,
    "start_time": "2021-11-29T13:19:01.868Z"
   },
   {
    "duration": 11,
    "start_time": "2021-11-29T13:19:02.131Z"
   },
   {
    "duration": 14,
    "start_time": "2021-11-29T13:19:02.143Z"
   },
   {
    "duration": 180,
    "start_time": "2021-11-29T13:19:02.158Z"
   },
   {
    "duration": 6,
    "start_time": "2021-11-29T13:19:02.340Z"
   },
   {
    "duration": 5,
    "start_time": "2021-11-29T13:19:02.348Z"
   },
   {
    "duration": 133,
    "start_time": "2021-11-29T13:19:02.355Z"
   },
   {
    "duration": -121,
    "start_time": "2021-11-29T13:19:02.611Z"
   },
   {
    "duration": -124,
    "start_time": "2021-11-29T13:19:02.615Z"
   },
   {
    "duration": -126,
    "start_time": "2021-11-29T13:19:02.617Z"
   },
   {
    "duration": -128,
    "start_time": "2021-11-29T13:19:02.620Z"
   },
   {
    "duration": -129,
    "start_time": "2021-11-29T13:19:02.622Z"
   },
   {
    "duration": -130,
    "start_time": "2021-11-29T13:19:02.624Z"
   },
   {
    "duration": -132,
    "start_time": "2021-11-29T13:19:02.627Z"
   },
   {
    "duration": -136,
    "start_time": "2021-11-29T13:19:02.632Z"
   },
   {
    "duration": -137,
    "start_time": "2021-11-29T13:19:02.634Z"
   },
   {
    "duration": -151,
    "start_time": "2021-11-29T13:19:02.648Z"
   },
   {
    "duration": -152,
    "start_time": "2021-11-29T13:19:02.650Z"
   },
   {
    "duration": -153,
    "start_time": "2021-11-29T13:19:02.652Z"
   },
   {
    "duration": -154,
    "start_time": "2021-11-29T13:19:02.654Z"
   },
   {
    "duration": -155,
    "start_time": "2021-11-29T13:19:02.656Z"
   },
   {
    "duration": -157,
    "start_time": "2021-11-29T13:19:02.659Z"
   },
   {
    "duration": -160,
    "start_time": "2021-11-29T13:19:02.663Z"
   },
   {
    "duration": -162,
    "start_time": "2021-11-29T13:19:02.665Z"
   },
   {
    "duration": -163,
    "start_time": "2021-11-29T13:19:02.667Z"
   },
   {
    "duration": 1243,
    "start_time": "2021-11-29T13:23:20.010Z"
   },
   {
    "duration": 183,
    "start_time": "2021-11-29T13:23:21.255Z"
   },
   {
    "duration": 171,
    "start_time": "2021-11-29T13:23:21.439Z"
   },
   {
    "duration": 163,
    "start_time": "2021-11-29T13:23:21.612Z"
   },
   {
    "duration": 2,
    "start_time": "2021-11-29T13:23:21.776Z"
   },
   {
    "duration": 794,
    "start_time": "2021-11-29T13:23:21.779Z"
   },
   {
    "duration": -260,
    "start_time": "2021-11-29T13:23:22.836Z"
   },
   {
    "duration": -263,
    "start_time": "2021-11-29T13:23:22.840Z"
   },
   {
    "duration": -264,
    "start_time": "2021-11-29T13:23:22.842Z"
   },
   {
    "duration": -265,
    "start_time": "2021-11-29T13:23:22.844Z"
   },
   {
    "duration": -267,
    "start_time": "2021-11-29T13:23:22.847Z"
   },
   {
    "duration": -269,
    "start_time": "2021-11-29T13:23:22.850Z"
   },
   {
    "duration": -270,
    "start_time": "2021-11-29T13:23:22.852Z"
   },
   {
    "duration": -270,
    "start_time": "2021-11-29T13:23:22.853Z"
   },
   {
    "duration": -271,
    "start_time": "2021-11-29T13:23:22.855Z"
   },
   {
    "duration": -273,
    "start_time": "2021-11-29T13:23:22.858Z"
   },
   {
    "duration": -273,
    "start_time": "2021-11-29T13:23:22.859Z"
   },
   {
    "duration": -274,
    "start_time": "2021-11-29T13:23:22.861Z"
   },
   {
    "duration": -276,
    "start_time": "2021-11-29T13:23:22.863Z"
   },
   {
    "duration": -278,
    "start_time": "2021-11-29T13:23:22.866Z"
   },
   {
    "duration": -280,
    "start_time": "2021-11-29T13:23:22.869Z"
   },
   {
    "duration": -282,
    "start_time": "2021-11-29T13:23:22.872Z"
   },
   {
    "duration": -285,
    "start_time": "2021-11-29T13:23:22.876Z"
   },
   {
    "duration": -287,
    "start_time": "2021-11-29T13:23:22.879Z"
   },
   {
    "duration": -288,
    "start_time": "2021-11-29T13:23:22.881Z"
   },
   {
    "duration": -290,
    "start_time": "2021-11-29T13:23:22.884Z"
   },
   {
    "duration": -293,
    "start_time": "2021-11-29T13:23:22.888Z"
   },
   {
    "duration": -394,
    "start_time": "2021-11-29T13:23:22.989Z"
   },
   {
    "duration": -402,
    "start_time": "2021-11-29T13:23:22.998Z"
   },
   {
    "duration": -404,
    "start_time": "2021-11-29T13:23:23.001Z"
   },
   {
    "duration": -412,
    "start_time": "2021-11-29T13:23:23.010Z"
   },
   {
    "duration": -414,
    "start_time": "2021-11-29T13:23:23.013Z"
   },
   {
    "duration": -416,
    "start_time": "2021-11-29T13:23:23.016Z"
   },
   {
    "duration": 134,
    "start_time": "2021-11-29T13:23:43.057Z"
   },
   {
    "duration": 1384,
    "start_time": "2021-11-29T13:24:56.397Z"
   },
   {
    "duration": 125,
    "start_time": "2021-11-29T13:24:57.783Z"
   },
   {
    "duration": 132,
    "start_time": "2021-11-29T13:24:57.910Z"
   },
   {
    "duration": 126,
    "start_time": "2021-11-29T13:24:58.044Z"
   },
   {
    "duration": 3,
    "start_time": "2021-11-29T13:24:58.172Z"
   },
   {
    "duration": 144,
    "start_time": "2021-11-29T13:24:58.176Z"
   },
   {
    "duration": 5,
    "start_time": "2021-11-29T13:24:58.322Z"
   },
   {
    "duration": 313,
    "start_time": "2021-11-29T13:24:58.330Z"
   },
   {
    "duration": 11,
    "start_time": "2021-11-29T13:24:58.645Z"
   },
   {
    "duration": 17,
    "start_time": "2021-11-29T13:24:58.657Z"
   },
   {
    "duration": 193,
    "start_time": "2021-11-29T13:24:58.676Z"
   },
   {
    "duration": 37,
    "start_time": "2021-11-29T13:24:58.871Z"
   },
   {
    "duration": 14,
    "start_time": "2021-11-29T13:24:58.911Z"
   },
   {
    "duration": 115,
    "start_time": "2021-11-29T13:24:58.927Z"
   },
   {
    "duration": -187,
    "start_time": "2021-11-29T13:24:59.232Z"
   },
   {
    "duration": -188,
    "start_time": "2021-11-29T13:24:59.235Z"
   },
   {
    "duration": -190,
    "start_time": "2021-11-29T13:24:59.238Z"
   },
   {
    "duration": -190,
    "start_time": "2021-11-29T13:24:59.240Z"
   },
   {
    "duration": -191,
    "start_time": "2021-11-29T13:24:59.242Z"
   },
   {
    "duration": -190,
    "start_time": "2021-11-29T13:24:59.243Z"
   },
   {
    "duration": -191,
    "start_time": "2021-11-29T13:24:59.245Z"
   },
   {
    "duration": -191,
    "start_time": "2021-11-29T13:24:59.247Z"
   },
   {
    "duration": -193,
    "start_time": "2021-11-29T13:24:59.250Z"
   },
   {
    "duration": -193,
    "start_time": "2021-11-29T13:24:59.252Z"
   },
   {
    "duration": -195,
    "start_time": "2021-11-29T13:24:59.255Z"
   },
   {
    "duration": -195,
    "start_time": "2021-11-29T13:24:59.257Z"
   },
   {
    "duration": -196,
    "start_time": "2021-11-29T13:24:59.259Z"
   },
   {
    "duration": -196,
    "start_time": "2021-11-29T13:24:59.261Z"
   },
   {
    "duration": -197,
    "start_time": "2021-11-29T13:24:59.263Z"
   },
   {
    "duration": -202,
    "start_time": "2021-11-29T13:24:59.270Z"
   },
   {
    "duration": -202,
    "start_time": "2021-11-29T13:24:59.272Z"
   },
   {
    "duration": -230,
    "start_time": "2021-11-29T13:24:59.301Z"
   },
   {
    "duration": -265,
    "start_time": "2021-11-29T13:24:59.338Z"
   },
   {
    "duration": 129,
    "start_time": "2021-11-29T13:27:47.639Z"
   },
   {
    "duration": 1264,
    "start_time": "2021-11-29T13:29:48.992Z"
   },
   {
    "duration": 381,
    "start_time": "2021-11-29T13:29:50.258Z"
   },
   {
    "duration": 146,
    "start_time": "2021-11-29T13:29:50.641Z"
   },
   {
    "duration": 7,
    "start_time": "2021-11-29T13:29:50.789Z"
   },
   {
    "duration": 244,
    "start_time": "2021-11-29T13:29:50.798Z"
   },
   {
    "duration": 12,
    "start_time": "2021-11-29T13:29:51.045Z"
   },
   {
    "duration": 14,
    "start_time": "2021-11-29T13:29:51.059Z"
   },
   {
    "duration": 182,
    "start_time": "2021-11-29T13:29:51.076Z"
   },
   {
    "duration": 6,
    "start_time": "2021-11-29T13:29:51.261Z"
   },
   {
    "duration": 11,
    "start_time": "2021-11-29T13:29:51.269Z"
   },
   {
    "duration": 159,
    "start_time": "2021-11-29T13:29:51.281Z"
   },
   {
    "duration": -85,
    "start_time": "2021-11-29T13:29:51.527Z"
   },
   {
    "duration": -86,
    "start_time": "2021-11-29T13:29:51.529Z"
   },
   {
    "duration": -90,
    "start_time": "2021-11-29T13:29:51.534Z"
   },
   {
    "duration": -93,
    "start_time": "2021-11-29T13:29:51.538Z"
   },
   {
    "duration": -95,
    "start_time": "2021-11-29T13:29:51.541Z"
   },
   {
    "duration": -96,
    "start_time": "2021-11-29T13:29:51.543Z"
   },
   {
    "duration": -97,
    "start_time": "2021-11-29T13:29:51.545Z"
   },
   {
    "duration": -100,
    "start_time": "2021-11-29T13:29:51.550Z"
   },
   {
    "duration": -103,
    "start_time": "2021-11-29T13:29:51.554Z"
   },
   {
    "duration": -105,
    "start_time": "2021-11-29T13:29:51.557Z"
   },
   {
    "duration": -106,
    "start_time": "2021-11-29T13:29:51.559Z"
   },
   {
    "duration": -108,
    "start_time": "2021-11-29T13:29:51.562Z"
   },
   {
    "duration": -108,
    "start_time": "2021-11-29T13:29:51.564Z"
   },
   {
    "duration": -110,
    "start_time": "2021-11-29T13:29:51.566Z"
   },
   {
    "duration": -110,
    "start_time": "2021-11-29T13:29:51.568Z"
   },
   {
    "duration": -111,
    "start_time": "2021-11-29T13:29:51.570Z"
   },
   {
    "duration": -112,
    "start_time": "2021-11-29T13:29:51.572Z"
   },
   {
    "duration": -114,
    "start_time": "2021-11-29T13:29:51.575Z"
   },
   {
    "duration": -116,
    "start_time": "2021-11-29T13:29:51.578Z"
   },
   {
    "duration": 126,
    "start_time": "2021-11-29T13:31:35.476Z"
   },
   {
    "duration": 130,
    "start_time": "2021-11-29T13:31:53.441Z"
   },
   {
    "duration": 166,
    "start_time": "2021-11-29T13:32:05.106Z"
   },
   {
    "duration": 132,
    "start_time": "2021-11-29T13:32:31.660Z"
   },
   {
    "duration": 139,
    "start_time": "2021-11-29T13:32:46.942Z"
   },
   {
    "duration": 546,
    "start_time": "2021-11-29T13:35:13.955Z"
   },
   {
    "duration": 14453,
    "start_time": "2021-11-29T13:36:49.267Z"
   },
   {
    "duration": 9806,
    "start_time": "2021-11-29T13:39:15.407Z"
   },
   {
    "duration": 134,
    "start_time": "2021-11-29T13:39:27.575Z"
   },
   {
    "duration": 1366,
    "start_time": "2021-11-29T13:42:01.101Z"
   },
   {
    "duration": 410,
    "start_time": "2021-11-29T13:42:02.469Z"
   },
   {
    "duration": 165,
    "start_time": "2021-11-29T13:42:02.882Z"
   },
   {
    "duration": 7,
    "start_time": "2021-11-29T13:42:03.049Z"
   },
   {
    "duration": 20,
    "start_time": "2021-11-29T13:42:03.058Z"
   },
   {
    "duration": 27,
    "start_time": "2021-11-29T13:42:03.080Z"
   },
   {
    "duration": 198,
    "start_time": "2021-11-29T13:42:03.109Z"
   },
   {
    "duration": 8,
    "start_time": "2021-11-29T13:42:03.310Z"
   },
   {
    "duration": 42,
    "start_time": "2021-11-29T13:42:03.320Z"
   },
   {
    "duration": 116,
    "start_time": "2021-11-29T13:42:03.364Z"
   },
   {
    "duration": -87,
    "start_time": "2021-11-29T13:42:03.569Z"
   },
   {
    "duration": -87,
    "start_time": "2021-11-29T13:42:03.570Z"
   },
   {
    "duration": -88,
    "start_time": "2021-11-29T13:42:03.573Z"
   },
   {
    "duration": -90,
    "start_time": "2021-11-29T13:42:03.576Z"
   },
   {
    "duration": -107,
    "start_time": "2021-11-29T13:42:03.593Z"
   },
   {
    "duration": -108,
    "start_time": "2021-11-29T13:42:03.595Z"
   },
   {
    "duration": -111,
    "start_time": "2021-11-29T13:42:03.599Z"
   },
   {
    "duration": -113,
    "start_time": "2021-11-29T13:42:03.602Z"
   },
   {
    "duration": -115,
    "start_time": "2021-11-29T13:42:03.605Z"
   },
   {
    "duration": -115,
    "start_time": "2021-11-29T13:42:03.606Z"
   },
   {
    "duration": -117,
    "start_time": "2021-11-29T13:42:03.609Z"
   },
   {
    "duration": -118,
    "start_time": "2021-11-29T13:42:03.612Z"
   },
   {
    "duration": -121,
    "start_time": "2021-11-29T13:42:03.615Z"
   },
   {
    "duration": -122,
    "start_time": "2021-11-29T13:42:03.617Z"
   },
   {
    "duration": -122,
    "start_time": "2021-11-29T13:42:03.619Z"
   },
   {
    "duration": -123,
    "start_time": "2021-11-29T13:42:03.621Z"
   },
   {
    "duration": -124,
    "start_time": "2021-11-29T13:42:03.623Z"
   },
   {
    "duration": -125,
    "start_time": "2021-11-29T13:42:03.625Z"
   },
   {
    "duration": -129,
    "start_time": "2021-11-29T13:42:03.630Z"
   },
   {
    "duration": 427,
    "start_time": "2021-11-29T13:44:17.799Z"
   },
   {
    "duration": 132,
    "start_time": "2021-11-29T13:45:17.695Z"
   },
   {
    "duration": 569,
    "start_time": "2021-11-29T13:46:04.841Z"
   },
   {
    "duration": 572,
    "start_time": "2021-11-29T13:48:10.736Z"
   },
   {
    "duration": 478,
    "start_time": "2021-11-29T13:50:14.334Z"
   },
   {
    "duration": 121,
    "start_time": "2021-11-29T18:17:12.271Z"
   },
   {
    "duration": 3,
    "start_time": "2021-11-29T18:17:20.432Z"
   },
   {
    "duration": 520,
    "start_time": "2021-11-29T18:17:22.646Z"
   },
   {
    "duration": 4,
    "start_time": "2021-11-29T18:22:36.049Z"
   },
   {
    "duration": 381,
    "start_time": "2021-11-29T18:22:37.162Z"
   },
   {
    "duration": 4,
    "start_time": "2021-11-29T18:24:42.132Z"
   },
   {
    "duration": 801,
    "start_time": "2021-11-29T18:24:42.902Z"
   },
   {
    "duration": 3,
    "start_time": "2021-11-29T18:25:21.307Z"
   },
   {
    "duration": 4,
    "start_time": "2021-11-29T18:25:22.295Z"
   },
   {
    "duration": 707,
    "start_time": "2021-11-29T18:25:23.303Z"
   },
   {
    "duration": 1371,
    "start_time": "2021-11-29T18:25:52.297Z"
   },
   {
    "duration": 416,
    "start_time": "2021-11-29T18:25:53.670Z"
   },
   {
    "duration": 159,
    "start_time": "2021-11-29T18:25:54.088Z"
   },
   {
    "duration": 3,
    "start_time": "2021-11-29T18:25:54.249Z"
   },
   {
    "duration": 7,
    "start_time": "2021-11-29T18:25:54.253Z"
   },
   {
    "duration": 863,
    "start_time": "2021-11-29T18:25:54.262Z"
   },
   {
    "duration": -519,
    "start_time": "2021-11-29T18:25:55.648Z"
   },
   {
    "duration": -520,
    "start_time": "2021-11-29T18:25:55.650Z"
   },
   {
    "duration": -629,
    "start_time": "2021-11-29T18:25:55.760Z"
   },
   {
    "duration": -637,
    "start_time": "2021-11-29T18:25:55.768Z"
   },
   {
    "duration": -639,
    "start_time": "2021-11-29T18:25:55.771Z"
   },
   {
    "duration": -640,
    "start_time": "2021-11-29T18:25:55.773Z"
   },
   {
    "duration": -640,
    "start_time": "2021-11-29T18:25:55.775Z"
   },
   {
    "duration": -642,
    "start_time": "2021-11-29T18:25:55.778Z"
   },
   {
    "duration": -642,
    "start_time": "2021-11-29T18:25:55.780Z"
   },
   {
    "duration": -643,
    "start_time": "2021-11-29T18:25:55.782Z"
   },
   {
    "duration": -643,
    "start_time": "2021-11-29T18:25:55.784Z"
   },
   {
    "duration": -643,
    "start_time": "2021-11-29T18:25:55.786Z"
   },
   {
    "duration": -645,
    "start_time": "2021-11-29T18:25:55.789Z"
   },
   {
    "duration": -646,
    "start_time": "2021-11-29T18:25:55.791Z"
   },
   {
    "duration": -646,
    "start_time": "2021-11-29T18:25:55.793Z"
   },
   {
    "duration": -769,
    "start_time": "2021-11-29T18:25:55.918Z"
   },
   {
    "duration": -771,
    "start_time": "2021-11-29T18:25:55.921Z"
   },
   {
    "duration": -782,
    "start_time": "2021-11-29T18:25:55.933Z"
   },
   {
    "duration": -782,
    "start_time": "2021-11-29T18:25:55.935Z"
   },
   {
    "duration": -793,
    "start_time": "2021-11-29T18:25:55.947Z"
   },
   {
    "duration": -795,
    "start_time": "2021-11-29T18:25:55.950Z"
   },
   {
    "duration": -807,
    "start_time": "2021-11-29T18:25:55.963Z"
   },
   {
    "duration": -808,
    "start_time": "2021-11-29T18:25:55.965Z"
   },
   {
    "duration": -810,
    "start_time": "2021-11-29T18:25:55.968Z"
   },
   {
    "duration": -820,
    "start_time": "2021-11-29T18:25:55.979Z"
   },
   {
    "duration": -881,
    "start_time": "2021-11-29T18:25:56.041Z"
   },
   {
    "duration": 1362,
    "start_time": "2021-11-29T18:28:24.014Z"
   },
   {
    "duration": 400,
    "start_time": "2021-11-29T18:28:25.379Z"
   },
   {
    "duration": 153,
    "start_time": "2021-11-29T18:28:25.782Z"
   },
   {
    "duration": 3,
    "start_time": "2021-11-29T18:28:25.937Z"
   },
   {
    "duration": 6,
    "start_time": "2021-11-29T18:28:25.942Z"
   },
   {
    "duration": 67,
    "start_time": "2021-11-29T18:28:25.949Z"
   },
   {
    "duration": 710,
    "start_time": "2021-11-29T18:28:26.020Z"
   },
   {
    "duration": 11,
    "start_time": "2021-11-29T18:28:26.733Z"
   },
   {
    "duration": 7,
    "start_time": "2021-11-29T18:28:26.746Z"
   },
   {
    "duration": 189,
    "start_time": "2021-11-29T18:28:26.755Z"
   },
   {
    "duration": 9,
    "start_time": "2021-11-29T18:28:26.947Z"
   },
   {
    "duration": 7,
    "start_time": "2021-11-29T18:28:26.957Z"
   },
   {
    "duration": 112,
    "start_time": "2021-11-29T18:28:26.966Z"
   },
   {
    "duration": -527,
    "start_time": "2021-11-29T18:28:27.608Z"
   },
   {
    "duration": -531,
    "start_time": "2021-11-29T18:28:27.613Z"
   },
   {
    "duration": -532,
    "start_time": "2021-11-29T18:28:27.615Z"
   },
   {
    "duration": -533,
    "start_time": "2021-11-29T18:28:27.617Z"
   },
   {
    "duration": -608,
    "start_time": "2021-11-29T18:28:27.692Z"
   },
   {
    "duration": -617,
    "start_time": "2021-11-29T18:28:27.702Z"
   },
   {
    "duration": -618,
    "start_time": "2021-11-29T18:28:27.704Z"
   },
   {
    "duration": -682,
    "start_time": "2021-11-29T18:28:27.769Z"
   },
   {
    "duration": -683,
    "start_time": "2021-11-29T18:28:27.771Z"
   },
   {
    "duration": -684,
    "start_time": "2021-11-29T18:28:27.773Z"
   },
   {
    "duration": -686,
    "start_time": "2021-11-29T18:28:27.775Z"
   },
   {
    "duration": -694,
    "start_time": "2021-11-29T18:28:27.784Z"
   },
   {
    "duration": -696,
    "start_time": "2021-11-29T18:28:27.787Z"
   },
   {
    "duration": -698,
    "start_time": "2021-11-29T18:28:27.790Z"
   },
   {
    "duration": -706,
    "start_time": "2021-11-29T18:28:27.799Z"
   },
   {
    "duration": -760,
    "start_time": "2021-11-29T18:28:27.854Z"
   },
   {
    "duration": -762,
    "start_time": "2021-11-29T18:28:27.857Z"
   },
   {
    "duration": -763,
    "start_time": "2021-11-29T18:28:27.860Z"
   },
   {
    "duration": -764,
    "start_time": "2021-11-29T18:28:27.863Z"
   },
   {
    "duration": 3,
    "start_time": "2021-11-29T18:44:56.362Z"
   },
   {
    "duration": 540,
    "start_time": "2021-11-29T18:44:58.096Z"
   },
   {
    "duration": 3,
    "start_time": "2021-11-29T18:45:18.026Z"
   },
   {
    "duration": 23,
    "start_time": "2021-11-29T18:45:18.637Z"
   },
   {
    "duration": 1282,
    "start_time": "2021-11-29T20:45:47.084Z"
   },
   {
    "duration": 394,
    "start_time": "2021-11-29T20:45:48.368Z"
   },
   {
    "duration": 134,
    "start_time": "2021-11-29T20:45:48.764Z"
   },
   {
    "duration": 7,
    "start_time": "2021-11-29T20:45:48.900Z"
   },
   {
    "duration": 33,
    "start_time": "2021-11-29T20:45:48.908Z"
   },
   {
    "duration": 665,
    "start_time": "2021-11-29T20:45:48.943Z"
   },
   {
    "duration": 101,
    "start_time": "2021-11-29T20:45:49.611Z"
   },
   {
    "duration": 13,
    "start_time": "2021-11-29T20:45:49.715Z"
   },
   {
    "duration": 187,
    "start_time": "2021-11-29T20:45:49.731Z"
   },
   {
    "duration": 8,
    "start_time": "2021-11-29T20:45:49.921Z"
   },
   {
    "duration": 4,
    "start_time": "2021-11-29T20:45:49.931Z"
   },
   {
    "duration": 122,
    "start_time": "2021-11-29T20:45:49.937Z"
   },
   {
    "duration": -117,
    "start_time": "2021-11-29T20:45:50.179Z"
   },
   {
    "duration": -118,
    "start_time": "2021-11-29T20:45:50.181Z"
   },
   {
    "duration": -119,
    "start_time": "2021-11-29T20:45:50.183Z"
   },
   {
    "duration": -121,
    "start_time": "2021-11-29T20:45:50.186Z"
   },
   {
    "duration": -125,
    "start_time": "2021-11-29T20:45:50.191Z"
   },
   {
    "duration": -128,
    "start_time": "2021-11-29T20:45:50.195Z"
   },
   {
    "duration": -129,
    "start_time": "2021-11-29T20:45:50.197Z"
   },
   {
    "duration": -260,
    "start_time": "2021-11-29T20:45:50.329Z"
   },
   {
    "duration": -272,
    "start_time": "2021-11-29T20:45:50.341Z"
   },
   {
    "duration": -274,
    "start_time": "2021-11-29T20:45:50.344Z"
   },
   {
    "duration": -275,
    "start_time": "2021-11-29T20:45:50.346Z"
   },
   {
    "duration": -277,
    "start_time": "2021-11-29T20:45:50.349Z"
   },
   {
    "duration": -278,
    "start_time": "2021-11-29T20:45:50.351Z"
   },
   {
    "duration": -279,
    "start_time": "2021-11-29T20:45:50.353Z"
   },
   {
    "duration": -289,
    "start_time": "2021-11-29T20:45:50.364Z"
   },
   {
    "duration": -290,
    "start_time": "2021-11-29T20:45:50.366Z"
   },
   {
    "duration": -291,
    "start_time": "2021-11-29T20:45:50.368Z"
   },
   {
    "duration": -293,
    "start_time": "2021-11-29T20:45:50.371Z"
   },
   {
    "duration": -301,
    "start_time": "2021-11-29T20:45:50.380Z"
   },
   {
    "duration": 1314,
    "start_time": "2021-11-29T20:50:44.770Z"
   },
   {
    "duration": 377,
    "start_time": "2021-11-29T20:50:46.086Z"
   },
   {
    "duration": 134,
    "start_time": "2021-11-29T20:50:46.465Z"
   },
   {
    "duration": 6,
    "start_time": "2021-11-29T20:50:46.601Z"
   },
   {
    "duration": 101,
    "start_time": "2021-11-29T20:50:46.608Z"
   },
   {
    "duration": 596,
    "start_time": "2021-11-29T20:50:46.711Z"
   },
   {
    "duration": 100,
    "start_time": "2021-11-29T20:50:47.309Z"
   },
   {
    "duration": 7,
    "start_time": "2021-11-29T20:50:47.412Z"
   },
   {
    "duration": 185,
    "start_time": "2021-11-29T20:50:47.421Z"
   },
   {
    "duration": 7,
    "start_time": "2021-11-29T20:50:47.608Z"
   },
   {
    "duration": 13,
    "start_time": "2021-11-29T20:50:47.617Z"
   },
   {
    "duration": 16,
    "start_time": "2021-11-29T20:50:47.632Z"
   },
   {
    "duration": 18,
    "start_time": "2021-11-29T20:50:47.649Z"
   },
   {
    "duration": 124,
    "start_time": "2021-11-29T20:50:47.669Z"
   },
   {
    "duration": -210,
    "start_time": "2021-11-29T20:50:48.006Z"
   },
   {
    "duration": -301,
    "start_time": "2021-11-29T20:50:48.098Z"
   },
   {
    "duration": -350,
    "start_time": "2021-11-29T20:50:48.149Z"
   },
   {
    "duration": -352,
    "start_time": "2021-11-29T20:50:48.152Z"
   },
   {
    "duration": -352,
    "start_time": "2021-11-29T20:50:48.154Z"
   },
   {
    "duration": -354,
    "start_time": "2021-11-29T20:50:48.157Z"
   },
   {
    "duration": -355,
    "start_time": "2021-11-29T20:50:48.160Z"
   },
   {
    "duration": -356,
    "start_time": "2021-11-29T20:50:48.162Z"
   },
   {
    "duration": -1506,
    "start_time": "2021-11-29T20:50:49.313Z"
   },
   {
    "duration": -1507,
    "start_time": "2021-11-29T20:50:49.316Z"
   },
   {
    "duration": -1509,
    "start_time": "2021-11-29T20:50:49.319Z"
   },
   {
    "duration": -1510,
    "start_time": "2021-11-29T20:50:49.321Z"
   },
   {
    "duration": -1510,
    "start_time": "2021-11-29T20:50:49.323Z"
   },
   {
    "duration": -1647,
    "start_time": "2021-11-29T20:50:49.462Z"
   },
   {
    "duration": -1649,
    "start_time": "2021-11-29T20:50:49.465Z"
   },
   {
    "duration": -1652,
    "start_time": "2021-11-29T20:50:49.469Z"
   },
   {
    "duration": -1654,
    "start_time": "2021-11-29T20:50:49.473Z"
   },
   {
    "duration": 3,
    "start_time": "2021-11-29T20:51:20.105Z"
   },
   {
    "duration": 3,
    "start_time": "2021-11-29T20:52:22.691Z"
   },
   {
    "duration": 4,
    "start_time": "2021-11-29T20:52:39.812Z"
   },
   {
    "duration": 4,
    "start_time": "2021-11-29T20:57:43.573Z"
   },
   {
    "duration": 552,
    "start_time": "2021-11-29T20:57:44.827Z"
   },
   {
    "duration": 4,
    "start_time": "2021-11-29T20:58:12.848Z"
   },
   {
    "duration": 24,
    "start_time": "2021-11-29T20:58:13.514Z"
   },
   {
    "duration": 4,
    "start_time": "2021-11-29T20:59:12.031Z"
   },
   {
    "duration": 25,
    "start_time": "2021-11-29T20:59:13.413Z"
   },
   {
    "duration": 59,
    "start_time": "2021-11-29T21:01:37.050Z"
   },
   {
    "duration": 135,
    "start_time": "2021-11-29T21:02:32.052Z"
   },
   {
    "duration": 68,
    "start_time": "2021-11-29T21:02:49.539Z"
   },
   {
    "duration": 5,
    "start_time": "2021-11-29T21:05:27.875Z"
   },
   {
    "duration": 25,
    "start_time": "2021-11-29T21:05:28.822Z"
   },
   {
    "duration": 5,
    "start_time": "2021-11-29T21:08:03.863Z"
   },
   {
    "duration": 23,
    "start_time": "2021-11-29T21:08:04.407Z"
   },
   {
    "duration": 5,
    "start_time": "2021-11-29T21:08:48.662Z"
   },
   {
    "duration": 23,
    "start_time": "2021-11-29T21:08:49.394Z"
   },
   {
    "duration": 7,
    "start_time": "2021-11-29T21:22:34.881Z"
   },
   {
    "duration": 852,
    "start_time": "2021-11-29T21:22:36.078Z"
   },
   {
    "duration": 8,
    "start_time": "2021-11-29T21:23:03.255Z"
   },
   {
    "duration": 84,
    "start_time": "2021-11-29T21:23:05.227Z"
   },
   {
    "duration": 8,
    "start_time": "2021-11-29T21:26:47.848Z"
   },
   {
    "duration": 178,
    "start_time": "2021-11-29T21:26:48.229Z"
   },
   {
    "duration": 8,
    "start_time": "2021-11-29T21:30:20.427Z"
   },
   {
    "duration": 8,
    "start_time": "2021-11-29T21:32:14.287Z"
   },
   {
    "duration": 746,
    "start_time": "2021-11-29T21:32:14.943Z"
   },
   {
    "duration": 9,
    "start_time": "2021-11-29T21:32:51.594Z"
   },
   {
    "duration": 805,
    "start_time": "2021-11-29T21:32:52.174Z"
   },
   {
    "duration": 9,
    "start_time": "2021-11-29T21:33:27.442Z"
   },
   {
    "duration": 787,
    "start_time": "2021-11-29T21:33:28.309Z"
   },
   {
    "duration": 8,
    "start_time": "2021-11-29T21:34:45.418Z"
   },
   {
    "duration": 831,
    "start_time": "2021-11-29T21:34:48.549Z"
   },
   {
    "duration": 7,
    "start_time": "2021-11-29T21:35:38.372Z"
   },
   {
    "duration": 133,
    "start_time": "2021-11-29T21:35:38.977Z"
   },
   {
    "duration": 7,
    "start_time": "2021-11-29T21:36:06.703Z"
   },
   {
    "duration": 1672,
    "start_time": "2021-11-29T21:36:07.121Z"
   },
   {
    "duration": 8,
    "start_time": "2021-11-29T21:36:54.902Z"
   },
   {
    "duration": 1119,
    "start_time": "2021-11-29T21:36:56.704Z"
   },
   {
    "duration": 6,
    "start_time": "2021-11-29T21:38:10.169Z"
   },
   {
    "duration": 151,
    "start_time": "2021-11-29T21:38:10.856Z"
   },
   {
    "duration": 7,
    "start_time": "2021-11-29T21:38:47.817Z"
   },
   {
    "duration": 116,
    "start_time": "2021-11-29T21:38:50.797Z"
   },
   {
    "duration": 1258,
    "start_time": "2021-11-29T21:45:35.788Z"
   },
   {
    "duration": 379,
    "start_time": "2021-11-29T21:45:37.048Z"
   },
   {
    "duration": 138,
    "start_time": "2021-11-29T21:45:37.430Z"
   },
   {
    "duration": 9,
    "start_time": "2021-11-29T21:45:37.571Z"
   },
   {
    "duration": 477,
    "start_time": "2021-11-29T21:45:37.582Z"
   },
   {
    "duration": -110,
    "start_time": "2021-11-29T21:45:38.172Z"
   },
   {
    "duration": -169,
    "start_time": "2021-11-29T21:45:38.232Z"
   },
   {
    "duration": -171,
    "start_time": "2021-11-29T21:45:38.235Z"
   },
   {
    "duration": -173,
    "start_time": "2021-11-29T21:45:38.238Z"
   },
   {
    "duration": -264,
    "start_time": "2021-11-29T21:45:38.330Z"
   },
   {
    "duration": -279,
    "start_time": "2021-11-29T21:45:38.345Z"
   },
   {
    "duration": -280,
    "start_time": "2021-11-29T21:45:38.347Z"
   },
   {
    "duration": -281,
    "start_time": "2021-11-29T21:45:38.349Z"
   },
   {
    "duration": -282,
    "start_time": "2021-11-29T21:45:38.351Z"
   },
   {
    "duration": -283,
    "start_time": "2021-11-29T21:45:38.353Z"
   },
   {
    "duration": -284,
    "start_time": "2021-11-29T21:45:38.355Z"
   },
   {
    "duration": -285,
    "start_time": "2021-11-29T21:45:38.357Z"
   },
   {
    "duration": -297,
    "start_time": "2021-11-29T21:45:38.369Z"
   },
   {
    "duration": -299,
    "start_time": "2021-11-29T21:45:38.372Z"
   },
   {
    "duration": -300,
    "start_time": "2021-11-29T21:45:38.374Z"
   },
   {
    "duration": -303,
    "start_time": "2021-11-29T21:45:38.378Z"
   },
   {
    "duration": -304,
    "start_time": "2021-11-29T21:45:38.380Z"
   },
   {
    "duration": -305,
    "start_time": "2021-11-29T21:45:38.382Z"
   },
   {
    "duration": -307,
    "start_time": "2021-11-29T21:45:38.384Z"
   },
   {
    "duration": -308,
    "start_time": "2021-11-29T21:45:38.386Z"
   },
   {
    "duration": -309,
    "start_time": "2021-11-29T21:45:38.388Z"
   },
   {
    "duration": -308,
    "start_time": "2021-11-29T21:45:38.390Z"
   },
   {
    "duration": -310,
    "start_time": "2021-11-29T21:45:38.392Z"
   },
   {
    "duration": -311,
    "start_time": "2021-11-29T21:45:38.394Z"
   },
   {
    "duration": -322,
    "start_time": "2021-11-29T21:45:38.406Z"
   },
   {
    "duration": -322,
    "start_time": "2021-11-29T21:45:38.408Z"
   },
   {
    "duration": 7,
    "start_time": "2021-11-29T21:47:24.466Z"
   },
   {
    "duration": 373,
    "start_time": "2021-11-29T21:47:26.299Z"
   },
   {
    "duration": 6,
    "start_time": "2021-11-29T21:48:41.238Z"
   },
   {
    "duration": 381,
    "start_time": "2021-11-29T21:48:41.934Z"
   },
   {
    "duration": 358,
    "start_time": "2021-11-29T21:49:06.782Z"
   },
   {
    "duration": 466,
    "start_time": "2021-11-29T21:49:24.442Z"
   },
   {
    "duration": 414,
    "start_time": "2021-11-29T21:50:18.493Z"
   },
   {
    "duration": 532,
    "start_time": "2021-11-29T21:50:54.875Z"
   },
   {
    "duration": 371,
    "start_time": "2021-11-29T22:04:41.661Z"
   },
   {
    "duration": 15,
    "start_time": "2021-11-29T22:04:58.603Z"
   },
   {
    "duration": 1242,
    "start_time": "2021-11-29T22:06:10.008Z"
   },
   {
    "duration": 372,
    "start_time": "2021-11-29T22:06:11.252Z"
   },
   {
    "duration": 134,
    "start_time": "2021-11-29T22:06:11.626Z"
   },
   {
    "duration": 8,
    "start_time": "2021-11-29T22:06:11.762Z"
   },
   {
    "duration": 779,
    "start_time": "2021-11-29T22:06:11.771Z"
   },
   {
    "duration": -212,
    "start_time": "2021-11-29T22:06:12.764Z"
   },
   {
    "duration": -214,
    "start_time": "2021-11-29T22:06:12.767Z"
   },
   {
    "duration": -218,
    "start_time": "2021-11-29T22:06:12.772Z"
   },
   {
    "duration": -219,
    "start_time": "2021-11-29T22:06:12.774Z"
   },
   {
    "duration": -220,
    "start_time": "2021-11-29T22:06:12.776Z"
   },
   {
    "duration": -221,
    "start_time": "2021-11-29T22:06:12.779Z"
   },
   {
    "duration": -223,
    "start_time": "2021-11-29T22:06:12.782Z"
   },
   {
    "duration": -225,
    "start_time": "2021-11-29T22:06:12.785Z"
   },
   {
    "duration": -228,
    "start_time": "2021-11-29T22:06:12.789Z"
   },
   {
    "duration": -230,
    "start_time": "2021-11-29T22:06:12.792Z"
   },
   {
    "duration": -231,
    "start_time": "2021-11-29T22:06:12.794Z"
   },
   {
    "duration": -231,
    "start_time": "2021-11-29T22:06:12.796Z"
   },
   {
    "duration": -327,
    "start_time": "2021-11-29T22:06:12.893Z"
   },
   {
    "duration": -330,
    "start_time": "2021-11-29T22:06:12.896Z"
   },
   {
    "duration": -331,
    "start_time": "2021-11-29T22:06:12.898Z"
   },
   {
    "duration": -333,
    "start_time": "2021-11-29T22:06:12.901Z"
   },
   {
    "duration": -334,
    "start_time": "2021-11-29T22:06:12.903Z"
   },
   {
    "duration": -335,
    "start_time": "2021-11-29T22:06:12.905Z"
   },
   {
    "duration": -336,
    "start_time": "2021-11-29T22:06:12.907Z"
   },
   {
    "duration": -338,
    "start_time": "2021-11-29T22:06:12.910Z"
   },
   {
    "duration": -338,
    "start_time": "2021-11-29T22:06:12.911Z"
   },
   {
    "duration": -340,
    "start_time": "2021-11-29T22:06:12.913Z"
   },
   {
    "duration": -342,
    "start_time": "2021-11-29T22:06:12.916Z"
   },
   {
    "duration": -342,
    "start_time": "2021-11-29T22:06:12.917Z"
   },
   {
    "duration": -344,
    "start_time": "2021-11-29T22:06:12.920Z"
   },
   {
    "duration": -344,
    "start_time": "2021-11-29T22:06:12.921Z"
   },
   {
    "duration": -347,
    "start_time": "2021-11-29T22:06:12.924Z"
   },
   {
    "duration": 547,
    "start_time": "2021-11-29T22:06:45.164Z"
   },
   {
    "duration": 13,
    "start_time": "2021-11-29T22:06:59.441Z"
   },
   {
    "duration": 9,
    "start_time": "2021-11-29T22:07:55.840Z"
   },
   {
    "duration": 585,
    "start_time": "2021-11-29T22:09:14.437Z"
   },
   {
    "duration": 3,
    "start_time": "2021-11-29T22:10:08.734Z"
   },
   {
    "duration": 3,
    "start_time": "2021-11-29T22:10:11.868Z"
   },
   {
    "duration": 1198,
    "start_time": "2021-11-29T22:14:47.655Z"
   },
   {
    "duration": 374,
    "start_time": "2021-11-29T22:14:48.855Z"
   },
   {
    "duration": 136,
    "start_time": "2021-11-29T22:14:49.231Z"
   },
   {
    "duration": 485,
    "start_time": "2021-11-29T22:14:49.369Z"
   },
   {
    "duration": -88,
    "start_time": "2021-11-29T22:14:49.945Z"
   },
   {
    "duration": -251,
    "start_time": "2021-11-29T22:14:50.109Z"
   },
   {
    "duration": -253,
    "start_time": "2021-11-29T22:14:50.112Z"
   },
   {
    "duration": -264,
    "start_time": "2021-11-29T22:14:50.124Z"
   },
   {
    "duration": -265,
    "start_time": "2021-11-29T22:14:50.126Z"
   },
   {
    "duration": -265,
    "start_time": "2021-11-29T22:14:50.128Z"
   },
   {
    "duration": -273,
    "start_time": "2021-11-29T22:14:50.137Z"
   },
   {
    "duration": -275,
    "start_time": "2021-11-29T22:14:50.140Z"
   },
   {
    "duration": -277,
    "start_time": "2021-11-29T22:14:50.143Z"
   },
   {
    "duration": -277,
    "start_time": "2021-11-29T22:14:50.144Z"
   },
   {
    "duration": -279,
    "start_time": "2021-11-29T22:14:50.147Z"
   },
   {
    "duration": -286,
    "start_time": "2021-11-29T22:14:50.155Z"
   },
   {
    "duration": -288,
    "start_time": "2021-11-29T22:14:50.158Z"
   },
   {
    "duration": -290,
    "start_time": "2021-11-29T22:14:50.161Z"
   },
   {
    "duration": -298,
    "start_time": "2021-11-29T22:14:50.170Z"
   },
   {
    "duration": -300,
    "start_time": "2021-11-29T22:14:50.173Z"
   },
   {
    "duration": -301,
    "start_time": "2021-11-29T22:14:50.175Z"
   },
   {
    "duration": -302,
    "start_time": "2021-11-29T22:14:50.177Z"
   },
   {
    "duration": -311,
    "start_time": "2021-11-29T22:14:50.187Z"
   },
   {
    "duration": -312,
    "start_time": "2021-11-29T22:14:50.189Z"
   },
   {
    "duration": -314,
    "start_time": "2021-11-29T22:14:50.192Z"
   },
   {
    "duration": -315,
    "start_time": "2021-11-29T22:14:50.194Z"
   },
   {
    "duration": -390,
    "start_time": "2021-11-29T22:14:50.270Z"
   },
   {
    "duration": 1291,
    "start_time": "2021-11-29T22:15:12.282Z"
   },
   {
    "duration": 396,
    "start_time": "2021-11-29T22:15:13.575Z"
   },
   {
    "duration": 148,
    "start_time": "2021-11-29T22:15:13.973Z"
   },
   {
    "duration": 8,
    "start_time": "2021-11-29T22:15:14.123Z"
   },
   {
    "duration": 675,
    "start_time": "2021-11-29T22:15:14.132Z"
   },
   {
    "duration": 13,
    "start_time": "2021-11-29T22:15:14.809Z"
   },
   {
    "duration": 12,
    "start_time": "2021-11-29T22:15:14.824Z"
   },
   {
    "duration": 7,
    "start_time": "2021-11-29T22:15:14.839Z"
   },
   {
    "duration": 8,
    "start_time": "2021-11-29T22:15:14.849Z"
   },
   {
    "duration": 125,
    "start_time": "2021-11-29T22:15:14.859Z"
   },
   {
    "duration": -123,
    "start_time": "2021-11-29T22:15:15.109Z"
   },
   {
    "duration": -138,
    "start_time": "2021-11-29T22:15:15.125Z"
   },
   {
    "duration": -150,
    "start_time": "2021-11-29T22:15:15.137Z"
   },
   {
    "duration": -157,
    "start_time": "2021-11-29T22:15:15.145Z"
   },
   {
    "duration": -168,
    "start_time": "2021-11-29T22:15:15.157Z"
   },
   {
    "duration": -172,
    "start_time": "2021-11-29T22:15:15.162Z"
   },
   {
    "duration": -175,
    "start_time": "2021-11-29T22:15:15.166Z"
   },
   {
    "duration": -178,
    "start_time": "2021-11-29T22:15:15.170Z"
   },
   {
    "duration": -179,
    "start_time": "2021-11-29T22:15:15.172Z"
   },
   {
    "duration": -181,
    "start_time": "2021-11-29T22:15:15.174Z"
   },
   {
    "duration": -182,
    "start_time": "2021-11-29T22:15:15.176Z"
   },
   {
    "duration": -195,
    "start_time": "2021-11-29T22:15:15.190Z"
   },
   {
    "duration": -196,
    "start_time": "2021-11-29T22:15:15.192Z"
   },
   {
    "duration": -205,
    "start_time": "2021-11-29T22:15:15.202Z"
   },
   {
    "duration": -206,
    "start_time": "2021-11-29T22:15:15.204Z"
   },
   {
    "duration": -207,
    "start_time": "2021-11-29T22:15:15.206Z"
   },
   {
    "duration": -207,
    "start_time": "2021-11-29T22:15:15.207Z"
   },
   {
    "duration": 10,
    "start_time": "2021-11-29T22:22:36.820Z"
   },
   {
    "duration": 1293,
    "start_time": "2021-11-30T00:29:45.575Z"
   },
   {
    "duration": 395,
    "start_time": "2021-11-30T00:29:46.870Z"
   },
   {
    "duration": 133,
    "start_time": "2021-11-30T00:29:47.267Z"
   },
   {
    "duration": 7,
    "start_time": "2021-11-30T00:29:47.407Z"
   },
   {
    "duration": 492,
    "start_time": "2021-11-30T00:29:47.416Z"
   },
   {
    "duration": 106,
    "start_time": "2021-11-30T00:29:47.911Z"
   },
   {
    "duration": 23,
    "start_time": "2021-11-30T00:29:48.019Z"
   },
   {
    "duration": 15,
    "start_time": "2021-11-30T00:29:48.045Z"
   },
   {
    "duration": 12,
    "start_time": "2021-11-30T00:29:48.062Z"
   },
   {
    "duration": 125,
    "start_time": "2021-11-30T00:29:48.076Z"
   },
   {
    "duration": -84,
    "start_time": "2021-11-30T00:29:48.287Z"
   },
   {
    "duration": -89,
    "start_time": "2021-11-30T00:29:48.293Z"
   },
   {
    "duration": -91,
    "start_time": "2021-11-30T00:29:48.296Z"
   },
   {
    "duration": -92,
    "start_time": "2021-11-30T00:29:48.298Z"
   },
   {
    "duration": -109,
    "start_time": "2021-11-30T00:29:48.316Z"
   },
   {
    "duration": -111,
    "start_time": "2021-11-30T00:29:48.319Z"
   },
   {
    "duration": -121,
    "start_time": "2021-11-30T00:29:48.330Z"
   },
   {
    "duration": -125,
    "start_time": "2021-11-30T00:29:48.335Z"
   },
   {
    "duration": -135,
    "start_time": "2021-11-30T00:29:48.347Z"
   },
   {
    "duration": -138,
    "start_time": "2021-11-30T00:29:48.350Z"
   },
   {
    "duration": -139,
    "start_time": "2021-11-30T00:29:48.353Z"
   },
   {
    "duration": -151,
    "start_time": "2021-11-30T00:29:48.365Z"
   },
   {
    "duration": -152,
    "start_time": "2021-11-30T00:29:48.368Z"
   },
   {
    "duration": -164,
    "start_time": "2021-11-30T00:29:48.381Z"
   },
   {
    "duration": -165,
    "start_time": "2021-11-30T00:29:48.383Z"
   },
   {
    "duration": -167,
    "start_time": "2021-11-30T00:29:48.385Z"
   },
   {
    "duration": -168,
    "start_time": "2021-11-30T00:29:48.388Z"
   },
   {
    "duration": 4,
    "start_time": "2021-11-30T00:34:05.200Z"
   },
   {
    "duration": 5,
    "start_time": "2021-11-30T00:34:15.929Z"
   },
   {
    "duration": 3,
    "start_time": "2021-11-30T00:40:08.342Z"
   },
   {
    "duration": 126,
    "start_time": "2021-11-30T01:36:47.299Z"
   },
   {
    "duration": 4,
    "start_time": "2021-11-30T01:37:07.124Z"
   },
   {
    "duration": 4,
    "start_time": "2021-11-30T01:37:20.452Z"
   },
   {
    "duration": 1774,
    "start_time": "2021-12-01T01:42:31.189Z"
   },
   {
    "duration": 447,
    "start_time": "2021-12-01T01:42:32.966Z"
   },
   {
    "duration": 212,
    "start_time": "2021-12-01T01:42:33.417Z"
   },
   {
    "duration": 13,
    "start_time": "2021-12-01T01:42:33.633Z"
   },
   {
    "duration": 601,
    "start_time": "2021-12-01T01:42:33.660Z"
   },
   {
    "duration": 18,
    "start_time": "2021-12-01T01:42:34.264Z"
   },
   {
    "duration": 11,
    "start_time": "2021-12-01T01:42:34.284Z"
   },
   {
    "duration": 4,
    "start_time": "2021-12-01T01:42:34.299Z"
   },
   {
    "duration": 6,
    "start_time": "2021-12-01T01:42:34.306Z"
   },
   {
    "duration": 160,
    "start_time": "2021-12-01T01:42:34.315Z"
   },
   {
    "duration": -107,
    "start_time": "2021-12-01T01:42:34.584Z"
   },
   {
    "duration": -107,
    "start_time": "2021-12-01T01:42:34.586Z"
   },
   {
    "duration": -109,
    "start_time": "2021-12-01T01:42:34.589Z"
   },
   {
    "duration": -109,
    "start_time": "2021-12-01T01:42:34.591Z"
   },
   {
    "duration": -111,
    "start_time": "2021-12-01T01:42:34.594Z"
   },
   {
    "duration": -111,
    "start_time": "2021-12-01T01:42:34.596Z"
   },
   {
    "duration": -113,
    "start_time": "2021-12-01T01:42:34.599Z"
   },
   {
    "duration": -113,
    "start_time": "2021-12-01T01:42:34.601Z"
   },
   {
    "duration": -114,
    "start_time": "2021-12-01T01:42:34.603Z"
   },
   {
    "duration": -115,
    "start_time": "2021-12-01T01:42:34.605Z"
   },
   {
    "duration": -116,
    "start_time": "2021-12-01T01:42:34.608Z"
   },
   {
    "duration": -117,
    "start_time": "2021-12-01T01:42:34.610Z"
   },
   {
    "duration": -118,
    "start_time": "2021-12-01T01:42:34.613Z"
   },
   {
    "duration": -118,
    "start_time": "2021-12-01T01:42:34.616Z"
   },
   {
    "duration": -127,
    "start_time": "2021-12-01T01:42:34.626Z"
   },
   {
    "duration": -128,
    "start_time": "2021-12-01T01:42:34.628Z"
   },
   {
    "duration": 1608,
    "start_time": "2021-12-01T01:45:33.272Z"
   },
   {
    "duration": 487,
    "start_time": "2021-12-01T01:45:34.884Z"
   },
   {
    "duration": 247,
    "start_time": "2021-12-01T01:45:35.375Z"
   },
   {
    "duration": 12,
    "start_time": "2021-12-01T01:45:35.625Z"
   },
   {
    "duration": 508,
    "start_time": "2021-12-01T01:45:35.660Z"
   },
   {
    "duration": 688,
    "start_time": "2021-12-01T01:45:36.172Z"
   },
   {
    "duration": 25,
    "start_time": "2021-12-01T01:45:36.863Z"
   },
   {
    "duration": 8,
    "start_time": "2021-12-01T01:45:36.894Z"
   },
   {
    "duration": 5,
    "start_time": "2021-12-01T01:45:36.905Z"
   },
   {
    "duration": 6,
    "start_time": "2021-12-01T01:45:36.912Z"
   },
   {
    "duration": 213,
    "start_time": "2021-12-01T01:45:36.961Z"
   },
   {
    "duration": -1592,
    "start_time": "2021-12-01T01:45:38.769Z"
   },
   {
    "duration": -1593,
    "start_time": "2021-12-01T01:45:38.772Z"
   },
   {
    "duration": -1595,
    "start_time": "2021-12-01T01:45:38.775Z"
   },
   {
    "duration": -1595,
    "start_time": "2021-12-01T01:45:38.777Z"
   },
   {
    "duration": -1595,
    "start_time": "2021-12-01T01:45:38.778Z"
   },
   {
    "duration": -1596,
    "start_time": "2021-12-01T01:45:38.781Z"
   },
   {
    "duration": -1597,
    "start_time": "2021-12-01T01:45:38.783Z"
   },
   {
    "duration": -1597,
    "start_time": "2021-12-01T01:45:38.785Z"
   },
   {
    "duration": -1597,
    "start_time": "2021-12-01T01:45:38.787Z"
   },
   {
    "duration": -1616,
    "start_time": "2021-12-01T01:45:38.807Z"
   },
   {
    "duration": -1617,
    "start_time": "2021-12-01T01:45:38.809Z"
   },
   {
    "duration": -1617,
    "start_time": "2021-12-01T01:45:38.811Z"
   },
   {
    "duration": -1618,
    "start_time": "2021-12-01T01:45:38.814Z"
   },
   {
    "duration": -1633,
    "start_time": "2021-12-01T01:45:38.830Z"
   },
   {
    "duration": -1633,
    "start_time": "2021-12-01T01:45:38.832Z"
   },
   {
    "duration": -1635,
    "start_time": "2021-12-01T01:45:38.835Z"
   },
   {
    "duration": 12,
    "start_time": "2021-12-01T01:46:25.302Z"
   },
   {
    "duration": 590,
    "start_time": "2021-12-01T01:46:31.669Z"
   },
   {
    "duration": 2366,
    "start_time": "2021-12-01T01:47:21.053Z"
   },
   {
    "duration": 473,
    "start_time": "2021-12-01T01:47:23.422Z"
   },
   {
    "duration": 290,
    "start_time": "2021-12-01T01:47:23.898Z"
   },
   {
    "duration": 12,
    "start_time": "2021-12-01T01:47:24.191Z"
   },
   {
    "duration": 656,
    "start_time": "2021-12-01T01:47:24.205Z"
   },
   {
    "duration": 19,
    "start_time": "2021-12-01T01:47:24.863Z"
   },
   {
    "duration": 6,
    "start_time": "2021-12-01T01:47:24.885Z"
   },
   {
    "duration": 7,
    "start_time": "2021-12-01T01:47:24.893Z"
   },
   {
    "duration": 6,
    "start_time": "2021-12-01T01:47:24.903Z"
   },
   {
    "duration": 123,
    "start_time": "2021-12-01T01:47:24.960Z"
   },
   {
    "duration": -101,
    "start_time": "2021-12-01T01:47:25.186Z"
   },
   {
    "duration": -102,
    "start_time": "2021-12-01T01:47:25.189Z"
   },
   {
    "duration": -103,
    "start_time": "2021-12-01T01:47:25.191Z"
   },
   {
    "duration": -103,
    "start_time": "2021-12-01T01:47:25.193Z"
   },
   {
    "duration": -105,
    "start_time": "2021-12-01T01:47:25.196Z"
   },
   {
    "duration": -105,
    "start_time": "2021-12-01T01:47:25.197Z"
   },
   {
    "duration": -105,
    "start_time": "2021-12-01T01:47:25.199Z"
   },
   {
    "duration": -106,
    "start_time": "2021-12-01T01:47:25.201Z"
   },
   {
    "duration": -108,
    "start_time": "2021-12-01T01:47:25.204Z"
   },
   {
    "duration": -108,
    "start_time": "2021-12-01T01:47:25.206Z"
   },
   {
    "duration": -109,
    "start_time": "2021-12-01T01:47:25.208Z"
   },
   {
    "duration": -110,
    "start_time": "2021-12-01T01:47:25.210Z"
   },
   {
    "duration": -110,
    "start_time": "2021-12-01T01:47:25.212Z"
   },
   {
    "duration": -111,
    "start_time": "2021-12-01T01:47:25.214Z"
   },
   {
    "duration": -111,
    "start_time": "2021-12-01T01:47:25.216Z"
   },
   {
    "duration": -112,
    "start_time": "2021-12-01T01:47:25.218Z"
   },
   {
    "duration": 1694,
    "start_time": "2021-12-01T02:03:19.910Z"
   },
   {
    "duration": 488,
    "start_time": "2021-12-01T02:03:21.607Z"
   },
   {
    "duration": 221,
    "start_time": "2021-12-01T02:03:22.098Z"
   },
   {
    "duration": 13,
    "start_time": "2021-12-01T02:03:22.323Z"
   },
   {
    "duration": 980,
    "start_time": "2021-12-01T02:03:22.338Z"
   },
   {
    "duration": -250,
    "start_time": "2021-12-01T02:03:23.572Z"
   },
   {
    "duration": -251,
    "start_time": "2021-12-01T02:03:23.575Z"
   },
   {
    "duration": -253,
    "start_time": "2021-12-01T02:03:23.578Z"
   },
   {
    "duration": -253,
    "start_time": "2021-12-01T02:03:23.580Z"
   },
   {
    "duration": -253,
    "start_time": "2021-12-01T02:03:23.582Z"
   },
   {
    "duration": -254,
    "start_time": "2021-12-01T02:03:23.584Z"
   },
   {
    "duration": -254,
    "start_time": "2021-12-01T02:03:23.586Z"
   },
   {
    "duration": -254,
    "start_time": "2021-12-01T02:03:23.587Z"
   },
   {
    "duration": -255,
    "start_time": "2021-12-01T02:03:23.589Z"
   },
   {
    "duration": -262,
    "start_time": "2021-12-01T02:03:23.598Z"
   },
   {
    "duration": -263,
    "start_time": "2021-12-01T02:03:23.600Z"
   },
   {
    "duration": -264,
    "start_time": "2021-12-01T02:03:23.602Z"
   },
   {
    "duration": -265,
    "start_time": "2021-12-01T02:03:23.604Z"
   },
   {
    "duration": -267,
    "start_time": "2021-12-01T02:03:23.607Z"
   },
   {
    "duration": -268,
    "start_time": "2021-12-01T02:03:23.609Z"
   },
   {
    "duration": -267,
    "start_time": "2021-12-01T02:03:23.610Z"
   },
   {
    "duration": -268,
    "start_time": "2021-12-01T02:03:23.612Z"
   },
   {
    "duration": -269,
    "start_time": "2021-12-01T02:03:23.614Z"
   },
   {
    "duration": -1666,
    "start_time": "2021-12-01T02:03:25.012Z"
   },
   {
    "duration": -1675,
    "start_time": "2021-12-01T02:03:25.022Z"
   },
   {
    "duration": -1679,
    "start_time": "2021-12-01T02:03:25.027Z"
   },
   {
    "duration": -1686,
    "start_time": "2021-12-01T02:03:25.035Z"
   },
   {
    "duration": 13,
    "start_time": "2021-12-01T02:04:18.404Z"
   },
   {
    "duration": 818,
    "start_time": "2021-12-01T02:04:19.186Z"
   },
   {
    "duration": 13,
    "start_time": "2021-12-01T02:05:09.913Z"
   },
   {
    "duration": 803,
    "start_time": "2021-12-01T02:05:13.368Z"
   },
   {
    "duration": 12,
    "start_time": "2021-12-01T02:05:36.355Z"
   },
   {
    "duration": 643,
    "start_time": "2021-12-01T02:05:37.118Z"
   },
   {
    "duration": 20,
    "start_time": "2021-12-01T02:11:43.933Z"
   },
   {
    "duration": 2449,
    "start_time": "2021-12-01T02:12:36.038Z"
   },
   {
    "duration": 464,
    "start_time": "2021-12-01T02:12:38.489Z"
   },
   {
    "duration": 212,
    "start_time": "2021-12-01T02:12:38.956Z"
   },
   {
    "duration": 13,
    "start_time": "2021-12-01T02:12:39.171Z"
   },
   {
    "duration": 1020,
    "start_time": "2021-12-01T02:12:39.186Z"
   },
   {
    "duration": -151,
    "start_time": "2021-12-01T02:12:40.361Z"
   },
   {
    "duration": -248,
    "start_time": "2021-12-01T02:12:40.459Z"
   },
   {
    "duration": -253,
    "start_time": "2021-12-01T02:12:40.466Z"
   },
   {
    "duration": -259,
    "start_time": "2021-12-01T02:12:40.474Z"
   },
   {
    "duration": -261,
    "start_time": "2021-12-01T02:12:40.477Z"
   },
   {
    "duration": -264,
    "start_time": "2021-12-01T02:12:40.481Z"
   },
   {
    "duration": -264,
    "start_time": "2021-12-01T02:12:40.483Z"
   },
   {
    "duration": -271,
    "start_time": "2021-12-01T02:12:40.491Z"
   },
   {
    "duration": -272,
    "start_time": "2021-12-01T02:12:40.494Z"
   },
   {
    "duration": -274,
    "start_time": "2021-12-01T02:12:40.497Z"
   },
   {
    "duration": -275,
    "start_time": "2021-12-01T02:12:40.499Z"
   },
   {
    "duration": -275,
    "start_time": "2021-12-01T02:12:40.501Z"
   },
   {
    "duration": -277,
    "start_time": "2021-12-01T02:12:40.504Z"
   },
   {
    "duration": -277,
    "start_time": "2021-12-01T02:12:40.505Z"
   },
   {
    "duration": -278,
    "start_time": "2021-12-01T02:12:40.508Z"
   },
   {
    "duration": -279,
    "start_time": "2021-12-01T02:12:40.510Z"
   },
   {
    "duration": -279,
    "start_time": "2021-12-01T02:12:40.512Z"
   },
   {
    "duration": -280,
    "start_time": "2021-12-01T02:12:40.514Z"
   },
   {
    "duration": -281,
    "start_time": "2021-12-01T02:12:40.516Z"
   },
   {
    "duration": -281,
    "start_time": "2021-12-01T02:12:40.518Z"
   },
   {
    "duration": -281,
    "start_time": "2021-12-01T02:12:40.520Z"
   },
   {
    "duration": -283,
    "start_time": "2021-12-01T02:12:40.523Z"
   },
   {
    "duration": -291,
    "start_time": "2021-12-01T02:12:40.533Z"
   },
   {
    "duration": 1453,
    "start_time": "2021-12-01T02:14:07.999Z"
   },
   {
    "duration": 453,
    "start_time": "2021-12-01T02:14:09.455Z"
   },
   {
    "duration": 217,
    "start_time": "2021-12-01T02:14:09.911Z"
   },
   {
    "duration": 13,
    "start_time": "2021-12-01T02:14:10.131Z"
   },
   {
    "duration": 714,
    "start_time": "2021-12-01T02:14:10.146Z"
   },
   {
    "duration": 19,
    "start_time": "2021-12-01T02:14:10.863Z"
   },
   {
    "duration": 12,
    "start_time": "2021-12-01T02:14:10.884Z"
   },
   {
    "duration": 12,
    "start_time": "2021-12-01T02:14:10.900Z"
   },
   {
    "duration": 10,
    "start_time": "2021-12-01T02:14:10.916Z"
   },
   {
    "duration": 7,
    "start_time": "2021-12-01T02:14:10.929Z"
   },
   {
    "duration": 410,
    "start_time": "2021-12-01T02:14:10.938Z"
   },
   {
    "duration": -1015,
    "start_time": "2021-12-01T02:14:12.366Z"
   },
   {
    "duration": -1017,
    "start_time": "2021-12-01T02:14:12.369Z"
   },
   {
    "duration": -1016,
    "start_time": "2021-12-01T02:14:12.370Z"
   },
   {
    "duration": -1018,
    "start_time": "2021-12-01T02:14:12.374Z"
   },
   {
    "duration": -1018,
    "start_time": "2021-12-01T02:14:12.376Z"
   },
   {
    "duration": -1018,
    "start_time": "2021-12-01T02:14:12.377Z"
   },
   {
    "duration": -1146,
    "start_time": "2021-12-01T02:14:12.507Z"
   },
   {
    "duration": -1150,
    "start_time": "2021-12-01T02:14:12.512Z"
   },
   {
    "duration": -1150,
    "start_time": "2021-12-01T02:14:12.514Z"
   },
   {
    "duration": -1157,
    "start_time": "2021-12-01T02:14:12.523Z"
   },
   {
    "duration": -1158,
    "start_time": "2021-12-01T02:14:12.525Z"
   },
   {
    "duration": -1158,
    "start_time": "2021-12-01T02:14:12.527Z"
   },
   {
    "duration": -1158,
    "start_time": "2021-12-01T02:14:12.529Z"
   },
   {
    "duration": -1175,
    "start_time": "2021-12-01T02:14:12.548Z"
   },
   {
    "duration": -1183,
    "start_time": "2021-12-01T02:14:12.557Z"
   },
   {
    "duration": -1183,
    "start_time": "2021-12-01T02:14:12.559Z"
   },
   {
    "duration": -1287,
    "start_time": "2021-12-01T02:14:12.665Z"
   },
   {
    "duration": 515,
    "start_time": "2021-12-01T02:29:58.233Z"
   },
   {
    "duration": 8,
    "start_time": "2021-12-01T02:30:40.199Z"
   },
   {
    "duration": 8,
    "start_time": "2021-12-01T02:32:12.250Z"
   },
   {
    "duration": 130,
    "start_time": "2021-12-01T02:33:13.247Z"
   },
   {
    "duration": 10,
    "start_time": "2021-12-01T02:33:24.391Z"
   },
   {
    "duration": 9,
    "start_time": "2021-12-01T02:33:43.552Z"
   },
   {
    "duration": 1543,
    "start_time": "2021-12-01T02:39:25.916Z"
   },
   {
    "duration": 465,
    "start_time": "2021-12-01T02:39:27.462Z"
   },
   {
    "duration": 229,
    "start_time": "2021-12-01T02:39:27.930Z"
   },
   {
    "duration": 12,
    "start_time": "2021-12-01T02:39:28.162Z"
   },
   {
    "duration": 685,
    "start_time": "2021-12-01T02:39:28.176Z"
   },
   {
    "duration": 18,
    "start_time": "2021-12-01T02:39:28.863Z"
   },
   {
    "duration": 18,
    "start_time": "2021-12-01T02:39:28.884Z"
   },
   {
    "duration": 534,
    "start_time": "2021-12-01T02:39:28.905Z"
   },
   {
    "duration": -82,
    "start_time": "2021-12-01T02:39:29.524Z"
   },
   {
    "duration": -85,
    "start_time": "2021-12-01T02:39:29.529Z"
   },
   {
    "duration": -85,
    "start_time": "2021-12-01T02:39:29.531Z"
   },
   {
    "duration": -247,
    "start_time": "2021-12-01T02:39:29.695Z"
   },
   {
    "duration": -248,
    "start_time": "2021-12-01T02:39:29.697Z"
   },
   {
    "duration": -255,
    "start_time": "2021-12-01T02:39:29.706Z"
   },
   {
    "duration": -255,
    "start_time": "2021-12-01T02:39:29.708Z"
   },
   {
    "duration": -256,
    "start_time": "2021-12-01T02:39:29.710Z"
   },
   {
    "duration": -256,
    "start_time": "2021-12-01T02:39:29.712Z"
   },
   {
    "duration": -257,
    "start_time": "2021-12-01T02:39:29.715Z"
   },
   {
    "duration": -263,
    "start_time": "2021-12-01T02:39:29.723Z"
   },
   {
    "duration": -265,
    "start_time": "2021-12-01T02:39:29.726Z"
   },
   {
    "duration": -264,
    "start_time": "2021-12-01T02:39:29.727Z"
   },
   {
    "duration": -264,
    "start_time": "2021-12-01T02:39:29.729Z"
   },
   {
    "duration": -379,
    "start_time": "2021-12-01T02:39:29.845Z"
   },
   {
    "duration": -385,
    "start_time": "2021-12-01T02:39:29.853Z"
   },
   {
    "duration": -385,
    "start_time": "2021-12-01T02:39:29.855Z"
   },
   {
    "duration": -386,
    "start_time": "2021-12-01T02:39:29.858Z"
   },
   {
    "duration": -388,
    "start_time": "2021-12-01T02:39:29.861Z"
   },
   {
    "duration": -388,
    "start_time": "2021-12-01T02:39:29.863Z"
   },
   {
    "duration": -390,
    "start_time": "2021-12-01T02:39:29.866Z"
   },
   {
    "duration": 1571,
    "start_time": "2021-12-01T02:47:25.088Z"
   },
   {
    "duration": 457,
    "start_time": "2021-12-01T02:47:26.662Z"
   },
   {
    "duration": 211,
    "start_time": "2021-12-01T02:47:27.122Z"
   },
   {
    "duration": 23,
    "start_time": "2021-12-01T02:47:27.336Z"
   },
   {
    "duration": 702,
    "start_time": "2021-12-01T02:47:27.362Z"
   },
   {
    "duration": 17,
    "start_time": "2021-12-01T02:47:28.067Z"
   },
   {
    "duration": 8,
    "start_time": "2021-12-01T02:47:28.086Z"
   },
   {
    "duration": 761,
    "start_time": "2021-12-01T02:47:28.098Z"
   },
   {
    "duration": -252,
    "start_time": "2021-12-01T02:47:29.115Z"
   },
   {
    "duration": -254,
    "start_time": "2021-12-01T02:47:29.119Z"
   },
   {
    "duration": -255,
    "start_time": "2021-12-01T02:47:29.121Z"
   },
   {
    "duration": -256,
    "start_time": "2021-12-01T02:47:29.124Z"
   },
   {
    "duration": -258,
    "start_time": "2021-12-01T02:47:29.127Z"
   },
   {
    "duration": -258,
    "start_time": "2021-12-01T02:47:29.129Z"
   },
   {
    "duration": -260,
    "start_time": "2021-12-01T02:47:29.132Z"
   },
   {
    "duration": -1536,
    "start_time": "2021-12-01T02:47:30.410Z"
   },
   {
    "duration": -1538,
    "start_time": "2021-12-01T02:47:30.413Z"
   },
   {
    "duration": -1540,
    "start_time": "2021-12-01T02:47:30.416Z"
   },
   {
    "duration": -1541,
    "start_time": "2021-12-01T02:47:30.419Z"
   },
   {
    "duration": -1551,
    "start_time": "2021-12-01T02:47:30.430Z"
   },
   {
    "duration": -1554,
    "start_time": "2021-12-01T02:47:30.434Z"
   },
   {
    "duration": -1696,
    "start_time": "2021-12-01T02:47:30.578Z"
   },
   {
    "duration": -1699,
    "start_time": "2021-12-01T02:47:30.582Z"
   },
   {
    "duration": -1706,
    "start_time": "2021-12-01T02:47:30.590Z"
   },
   {
    "duration": -1712,
    "start_time": "2021-12-01T02:47:30.598Z"
   },
   {
    "duration": -1719,
    "start_time": "2021-12-01T02:47:30.606Z"
   },
   {
    "duration": -1721,
    "start_time": "2021-12-01T02:47:30.609Z"
   },
   {
    "duration": -1722,
    "start_time": "2021-12-01T02:47:30.612Z"
   },
   {
    "duration": -1723,
    "start_time": "2021-12-01T02:47:30.614Z"
   },
   {
    "duration": 610,
    "start_time": "2021-12-01T02:49:38.059Z"
   },
   {
    "duration": 677,
    "start_time": "2021-12-01T02:52:06.864Z"
   },
   {
    "duration": 644,
    "start_time": "2021-12-01T02:52:46.478Z"
   },
   {
    "duration": 1515,
    "start_time": "2021-12-01T02:53:48.251Z"
   },
   {
    "duration": 458,
    "start_time": "2021-12-01T02:53:49.769Z"
   },
   {
    "duration": 254,
    "start_time": "2021-12-01T02:53:50.230Z"
   },
   {
    "duration": 15,
    "start_time": "2021-12-01T02:53:50.488Z"
   },
   {
    "duration": 657,
    "start_time": "2021-12-01T02:53:50.506Z"
   },
   {
    "duration": 22,
    "start_time": "2021-12-01T02:53:51.166Z"
   },
   {
    "duration": 9,
    "start_time": "2021-12-01T02:53:51.190Z"
   },
   {
    "duration": 22,
    "start_time": "2021-12-01T02:53:51.203Z"
   },
   {
    "duration": 511,
    "start_time": "2021-12-01T02:53:51.261Z"
   },
   {
    "duration": -98,
    "start_time": "2021-12-01T02:53:51.873Z"
   },
   {
    "duration": -105,
    "start_time": "2021-12-01T02:53:51.882Z"
   },
   {
    "duration": -106,
    "start_time": "2021-12-01T02:53:51.884Z"
   },
   {
    "duration": -234,
    "start_time": "2021-12-01T02:53:52.014Z"
   },
   {
    "duration": -235,
    "start_time": "2021-12-01T02:53:52.017Z"
   },
   {
    "duration": -236,
    "start_time": "2021-12-01T02:53:52.019Z"
   },
   {
    "duration": -236,
    "start_time": "2021-12-01T02:53:52.021Z"
   },
   {
    "duration": -237,
    "start_time": "2021-12-01T02:53:52.023Z"
   },
   {
    "duration": -237,
    "start_time": "2021-12-01T02:53:52.025Z"
   },
   {
    "duration": -238,
    "start_time": "2021-12-01T02:53:52.027Z"
   },
   {
    "duration": -238,
    "start_time": "2021-12-01T02:53:52.029Z"
   },
   {
    "duration": -246,
    "start_time": "2021-12-01T02:53:52.038Z"
   },
   {
    "duration": -247,
    "start_time": "2021-12-01T02:53:52.041Z"
   },
   {
    "duration": -248,
    "start_time": "2021-12-01T02:53:52.043Z"
   },
   {
    "duration": -371,
    "start_time": "2021-12-01T02:53:52.168Z"
   },
   {
    "duration": -373,
    "start_time": "2021-12-01T02:53:52.171Z"
   },
   {
    "duration": -375,
    "start_time": "2021-12-01T02:53:52.175Z"
   },
   {
    "duration": -384,
    "start_time": "2021-12-01T02:53:52.185Z"
   },
   {
    "duration": -384,
    "start_time": "2021-12-01T02:53:52.187Z"
   },
   {
    "duration": -393,
    "start_time": "2021-12-01T02:53:52.197Z"
   },
   {
    "duration": -394,
    "start_time": "2021-12-01T02:53:52.200Z"
   },
   {
    "duration": 1508,
    "start_time": "2021-12-01T02:55:39.672Z"
   },
   {
    "duration": 461,
    "start_time": "2021-12-01T02:55:41.183Z"
   },
   {
    "duration": 218,
    "start_time": "2021-12-01T02:55:41.647Z"
   },
   {
    "duration": 13,
    "start_time": "2021-12-01T02:55:41.867Z"
   },
   {
    "duration": 680,
    "start_time": "2021-12-01T02:55:41.882Z"
   },
   {
    "duration": 18,
    "start_time": "2021-12-01T02:55:42.564Z"
   },
   {
    "duration": 12,
    "start_time": "2021-12-01T02:55:42.584Z"
   },
   {
    "duration": 17,
    "start_time": "2021-12-01T02:55:42.600Z"
   },
   {
    "duration": 541,
    "start_time": "2021-12-01T02:55:42.620Z"
   },
   {
    "duration": -203,
    "start_time": "2021-12-01T02:55:43.367Z"
   },
   {
    "duration": -210,
    "start_time": "2021-12-01T02:55:43.375Z"
   },
   {
    "duration": -211,
    "start_time": "2021-12-01T02:55:43.377Z"
   },
   {
    "duration": -212,
    "start_time": "2021-12-01T02:55:43.380Z"
   },
   {
    "duration": -336,
    "start_time": "2021-12-01T02:55:43.505Z"
   },
   {
    "duration": -343,
    "start_time": "2021-12-01T02:55:43.513Z"
   },
   {
    "duration": -343,
    "start_time": "2021-12-01T02:55:43.515Z"
   },
   {
    "duration": -344,
    "start_time": "2021-12-01T02:55:43.517Z"
   },
   {
    "duration": -345,
    "start_time": "2021-12-01T02:55:43.519Z"
   },
   {
    "duration": -345,
    "start_time": "2021-12-01T02:55:43.521Z"
   },
   {
    "duration": -346,
    "start_time": "2021-12-01T02:55:43.523Z"
   },
   {
    "duration": -347,
    "start_time": "2021-12-01T02:55:43.525Z"
   },
   {
    "duration": -347,
    "start_time": "2021-12-01T02:55:43.527Z"
   },
   {
    "duration": -347,
    "start_time": "2021-12-01T02:55:43.529Z"
   },
   {
    "duration": -348,
    "start_time": "2021-12-01T02:55:43.531Z"
   },
   {
    "duration": -348,
    "start_time": "2021-12-01T02:55:43.533Z"
   },
   {
    "duration": -479,
    "start_time": "2021-12-01T02:55:43.665Z"
   },
   {
    "duration": -485,
    "start_time": "2021-12-01T02:55:43.673Z"
   },
   {
    "duration": -486,
    "start_time": "2021-12-01T02:55:43.675Z"
   },
   {
    "duration": -486,
    "start_time": "2021-12-01T02:55:43.677Z"
   },
   {
    "duration": -487,
    "start_time": "2021-12-01T02:55:43.679Z"
   },
   {
    "duration": 1454,
    "start_time": "2021-12-01T03:32:53.081Z"
   },
   {
    "duration": 1548,
    "start_time": "2021-12-01T03:55:42.714Z"
   },
   {
    "duration": 457,
    "start_time": "2021-12-01T03:55:44.265Z"
   },
   {
    "duration": 218,
    "start_time": "2021-12-01T03:55:44.726Z"
   },
   {
    "duration": 22,
    "start_time": "2021-12-01T03:55:44.947Z"
   },
   {
    "duration": 1490,
    "start_time": "2021-12-01T03:55:44.972Z"
   },
   {
    "duration": 16,
    "start_time": "2021-12-01T03:55:46.465Z"
   },
   {
    "duration": 9,
    "start_time": "2021-12-01T03:55:46.484Z"
   },
   {
    "duration": 21,
    "start_time": "2021-12-01T03:55:46.496Z"
   },
   {
    "duration": 584,
    "start_time": "2021-12-01T03:55:46.520Z"
   },
   {
    "duration": -137,
    "start_time": "2021-12-01T03:55:47.244Z"
   },
   {
    "duration": -139,
    "start_time": "2021-12-01T03:55:47.247Z"
   },
   {
    "duration": -139,
    "start_time": "2021-12-01T03:55:47.249Z"
   },
   {
    "duration": -140,
    "start_time": "2021-12-01T03:55:47.251Z"
   },
   {
    "duration": -140,
    "start_time": "2021-12-01T03:55:47.253Z"
   },
   {
    "duration": -141,
    "start_time": "2021-12-01T03:55:47.255Z"
   },
   {
    "duration": -142,
    "start_time": "2021-12-01T03:55:47.258Z"
   },
   {
    "duration": -259,
    "start_time": "2021-12-01T03:55:47.376Z"
   },
   {
    "duration": -267,
    "start_time": "2021-12-01T03:55:47.386Z"
   },
   {
    "duration": -268,
    "start_time": "2021-12-01T03:55:47.388Z"
   },
   {
    "duration": -275,
    "start_time": "2021-12-01T03:55:47.396Z"
   },
   {
    "duration": -276,
    "start_time": "2021-12-01T03:55:47.399Z"
   },
   {
    "duration": -277,
    "start_time": "2021-12-01T03:55:47.401Z"
   },
   {
    "duration": -277,
    "start_time": "2021-12-01T03:55:47.402Z"
   },
   {
    "duration": -277,
    "start_time": "2021-12-01T03:55:47.404Z"
   },
   {
    "duration": -278,
    "start_time": "2021-12-01T03:55:47.406Z"
   },
   {
    "duration": -285,
    "start_time": "2021-12-01T03:55:47.415Z"
   },
   {
    "duration": -287,
    "start_time": "2021-12-01T03:55:47.418Z"
   },
   {
    "duration": -288,
    "start_time": "2021-12-01T03:55:47.420Z"
   },
   {
    "duration": -292,
    "start_time": "2021-12-01T03:55:47.425Z"
   },
   {
    "duration": -299,
    "start_time": "2021-12-01T03:55:47.434Z"
   },
   {
    "duration": 1531,
    "start_time": "2021-12-01T03:57:46.187Z"
   },
   {
    "duration": 459,
    "start_time": "2021-12-01T03:57:47.721Z"
   },
   {
    "duration": 268,
    "start_time": "2021-12-01T03:57:48.183Z"
   },
   {
    "duration": 17,
    "start_time": "2021-12-01T03:57:48.461Z"
   },
   {
    "duration": 1210,
    "start_time": "2021-12-01T03:57:48.481Z"
   },
   {
    "duration": -127,
    "start_time": "2021-12-01T03:57:49.822Z"
   },
   {
    "duration": -242,
    "start_time": "2021-12-01T03:57:49.938Z"
   },
   {
    "duration": -252,
    "start_time": "2021-12-01T03:57:49.949Z"
   },
   {
    "duration": -252,
    "start_time": "2021-12-01T03:57:49.951Z"
   },
   {
    "duration": -254,
    "start_time": "2021-12-01T03:57:49.954Z"
   },
   {
    "duration": -256,
    "start_time": "2021-12-01T03:57:49.958Z"
   },
   {
    "duration": -258,
    "start_time": "2021-12-01T03:57:49.961Z"
   },
   {
    "duration": -260,
    "start_time": "2021-12-01T03:57:49.964Z"
   },
   {
    "duration": -261,
    "start_time": "2021-12-01T03:57:49.967Z"
   },
   {
    "duration": -261,
    "start_time": "2021-12-01T03:57:49.969Z"
   },
   {
    "duration": -262,
    "start_time": "2021-12-01T03:57:49.971Z"
   },
   {
    "duration": -262,
    "start_time": "2021-12-01T03:57:49.972Z"
   },
   {
    "duration": -263,
    "start_time": "2021-12-01T03:57:49.975Z"
   },
   {
    "duration": -263,
    "start_time": "2021-12-01T03:57:49.976Z"
   },
   {
    "duration": -263,
    "start_time": "2021-12-01T03:57:49.978Z"
   },
   {
    "duration": -264,
    "start_time": "2021-12-01T03:57:49.980Z"
   },
   {
    "duration": -265,
    "start_time": "2021-12-01T03:57:49.982Z"
   },
   {
    "duration": -264,
    "start_time": "2021-12-01T03:57:49.983Z"
   },
   {
    "duration": -265,
    "start_time": "2021-12-01T03:57:49.985Z"
   },
   {
    "duration": -276,
    "start_time": "2021-12-01T03:57:49.997Z"
   },
   {
    "duration": -277,
    "start_time": "2021-12-01T03:57:50.000Z"
   },
   {
    "duration": -278,
    "start_time": "2021-12-01T03:57:50.002Z"
   },
   {
    "duration": -377,
    "start_time": "2021-12-01T03:57:50.102Z"
   },
   {
    "duration": -378,
    "start_time": "2021-12-01T03:57:50.104Z"
   },
   {
    "duration": -379,
    "start_time": "2021-12-01T03:57:50.106Z"
   },
   {
    "duration": 1614,
    "start_time": "2021-12-01T03:58:20.471Z"
   },
   {
    "duration": 450,
    "start_time": "2021-12-01T03:58:22.088Z"
   },
   {
    "duration": 227,
    "start_time": "2021-12-01T03:58:22.542Z"
   },
   {
    "duration": 16,
    "start_time": "2021-12-01T03:58:22.773Z"
   },
   {
    "duration": 1493,
    "start_time": "2021-12-01T03:58:22.792Z"
   },
   {
    "duration": 15,
    "start_time": "2021-12-01T03:58:24.287Z"
   },
   {
    "duration": 8,
    "start_time": "2021-12-01T03:58:24.304Z"
   },
   {
    "duration": 16,
    "start_time": "2021-12-01T03:58:24.314Z"
   },
   {
    "duration": 615,
    "start_time": "2021-12-01T03:58:24.335Z"
   },
   {
    "duration": -416,
    "start_time": "2021-12-01T03:58:25.369Z"
   },
   {
    "duration": -458,
    "start_time": "2021-12-01T03:58:25.412Z"
   },
   {
    "duration": -466,
    "start_time": "2021-12-01T03:58:25.421Z"
   },
   {
    "duration": -466,
    "start_time": "2021-12-01T03:58:25.423Z"
   },
   {
    "duration": -467,
    "start_time": "2021-12-01T03:58:25.425Z"
   },
   {
    "duration": -468,
    "start_time": "2021-12-01T03:58:25.427Z"
   },
   {
    "duration": -489,
    "start_time": "2021-12-01T03:58:25.450Z"
   },
   {
    "duration": -542,
    "start_time": "2021-12-01T03:58:25.504Z"
   },
   {
    "duration": -546,
    "start_time": "2021-12-01T03:58:25.509Z"
   },
   {
    "duration": -548,
    "start_time": "2021-12-01T03:58:25.512Z"
   },
   {
    "duration": -549,
    "start_time": "2021-12-01T03:58:25.515Z"
   },
   {
    "duration": -550,
    "start_time": "2021-12-01T03:58:25.517Z"
   },
   {
    "duration": -551,
    "start_time": "2021-12-01T03:58:25.519Z"
   },
   {
    "duration": -553,
    "start_time": "2021-12-01T03:58:25.522Z"
   },
   {
    "duration": -553,
    "start_time": "2021-12-01T03:58:25.524Z"
   },
   {
    "duration": -553,
    "start_time": "2021-12-01T03:58:25.525Z"
   },
   {
    "duration": -554,
    "start_time": "2021-12-01T03:58:25.527Z"
   },
   {
    "duration": -577,
    "start_time": "2021-12-01T03:58:25.551Z"
   },
   {
    "duration": -578,
    "start_time": "2021-12-01T03:58:25.554Z"
   },
   {
    "duration": -579,
    "start_time": "2021-12-01T03:58:25.556Z"
   },
   {
    "duration": -580,
    "start_time": "2021-12-01T03:58:25.558Z"
   },
   {
    "duration": 1542,
    "start_time": "2021-12-01T04:23:22.609Z"
   },
   {
    "duration": 455,
    "start_time": "2021-12-01T04:23:24.154Z"
   },
   {
    "duration": 223,
    "start_time": "2021-12-01T04:23:24.612Z"
   },
   {
    "duration": 21,
    "start_time": "2021-12-01T04:23:24.838Z"
   },
   {
    "duration": 1384,
    "start_time": "2021-12-01T04:23:24.862Z"
   },
   {
    "duration": 19,
    "start_time": "2021-12-01T04:23:26.248Z"
   },
   {
    "duration": 6,
    "start_time": "2021-12-01T04:23:26.270Z"
   },
   {
    "duration": 17,
    "start_time": "2021-12-01T04:23:26.280Z"
   },
   {
    "duration": 496,
    "start_time": "2021-12-01T04:23:26.300Z"
   },
   {
    "duration": -101,
    "start_time": "2021-12-01T04:23:26.900Z"
   },
   {
    "duration": -102,
    "start_time": "2021-12-01T04:23:26.902Z"
   },
   {
    "duration": -101,
    "start_time": "2021-12-01T04:23:26.903Z"
   },
   {
    "duration": -102,
    "start_time": "2021-12-01T04:23:26.905Z"
   },
   {
    "duration": -103,
    "start_time": "2021-12-01T04:23:26.907Z"
   },
   {
    "duration": -124,
    "start_time": "2021-12-01T04:23:26.929Z"
   },
   {
    "duration": -125,
    "start_time": "2021-12-01T04:23:26.932Z"
   },
   {
    "duration": -134,
    "start_time": "2021-12-01T04:23:26.942Z"
   },
   {
    "duration": -262,
    "start_time": "2021-12-01T04:23:27.071Z"
   },
   {
    "duration": -263,
    "start_time": "2021-12-01T04:23:27.074Z"
   },
   {
    "duration": -264,
    "start_time": "2021-12-01T04:23:27.076Z"
   },
   {
    "duration": -266,
    "start_time": "2021-12-01T04:23:27.079Z"
   },
   {
    "duration": -266,
    "start_time": "2021-12-01T04:23:27.081Z"
   },
   {
    "duration": -268,
    "start_time": "2021-12-01T04:23:27.084Z"
   },
   {
    "duration": -269,
    "start_time": "2021-12-01T04:23:27.086Z"
   },
   {
    "duration": -269,
    "start_time": "2021-12-01T04:23:27.088Z"
   },
   {
    "duration": -270,
    "start_time": "2021-12-01T04:23:27.090Z"
   },
   {
    "duration": -270,
    "start_time": "2021-12-01T04:23:27.092Z"
   },
   {
    "duration": -272,
    "start_time": "2021-12-01T04:23:27.095Z"
   },
   {
    "duration": -273,
    "start_time": "2021-12-01T04:23:27.097Z"
   },
   {
    "duration": -274,
    "start_time": "2021-12-01T04:23:27.099Z"
   },
   {
    "duration": 21,
    "start_time": "2021-12-01T04:33:50.819Z"
   },
   {
    "duration": 20,
    "start_time": "2021-12-01T04:33:58.515Z"
   },
   {
    "duration": 29,
    "start_time": "2021-12-01T04:34:40.096Z"
   },
   {
    "duration": 34,
    "start_time": "2021-12-01T04:36:01.255Z"
   },
   {
    "duration": 36,
    "start_time": "2021-12-01T04:37:06.933Z"
   },
   {
    "duration": 35,
    "start_time": "2021-12-01T04:37:39.742Z"
   },
   {
    "duration": 36,
    "start_time": "2021-12-01T04:37:51.876Z"
   },
   {
    "duration": 370,
    "start_time": "2021-12-01T04:47:50.080Z"
   },
   {
    "duration": 465,
    "start_time": "2021-12-01T04:48:00.409Z"
   },
   {
    "duration": 13,
    "start_time": "2021-12-01T04:49:37.388Z"
   },
   {
    "duration": 2200,
    "start_time": "2021-12-01T04:49:40.591Z"
   },
   {
    "duration": 13,
    "start_time": "2021-12-01T04:50:19.529Z"
   },
   {
    "duration": 2306,
    "start_time": "2021-12-01T04:50:20.107Z"
   },
   {
    "duration": 135,
    "start_time": "2021-12-01T04:53:28.593Z"
   },
   {
    "duration": 2086,
    "start_time": "2021-12-01T04:53:29.212Z"
   },
   {
    "duration": 13,
    "start_time": "2021-12-01T04:54:07.168Z"
   },
   {
    "duration": 2199,
    "start_time": "2021-12-01T04:54:07.927Z"
   },
   {
    "duration": 1508,
    "start_time": "2021-12-01T05:03:12.751Z"
   },
   {
    "duration": 457,
    "start_time": "2021-12-01T05:03:14.262Z"
   },
   {
    "duration": 203,
    "start_time": "2021-12-01T05:03:14.722Z"
   },
   {
    "duration": 46,
    "start_time": "2021-12-01T05:03:14.929Z"
   },
   {
    "duration": 16,
    "start_time": "2021-12-01T05:03:14.978Z"
   },
   {
    "duration": 2463,
    "start_time": "2021-12-01T05:03:14.996Z"
   },
   {
    "duration": -242,
    "start_time": "2021-12-01T05:03:17.704Z"
   },
   {
    "duration": -243,
    "start_time": "2021-12-01T05:03:17.707Z"
   },
   {
    "duration": -244,
    "start_time": "2021-12-01T05:03:17.709Z"
   },
   {
    "duration": -245,
    "start_time": "2021-12-01T05:03:17.711Z"
   },
   {
    "duration": -245,
    "start_time": "2021-12-01T05:03:17.713Z"
   },
   {
    "duration": -246,
    "start_time": "2021-12-01T05:03:17.715Z"
   },
   {
    "duration": -247,
    "start_time": "2021-12-01T05:03:17.717Z"
   },
   {
    "duration": -247,
    "start_time": "2021-12-01T05:03:17.719Z"
   },
   {
    "duration": -248,
    "start_time": "2021-12-01T05:03:17.721Z"
   },
   {
    "duration": -249,
    "start_time": "2021-12-01T05:03:17.723Z"
   },
   {
    "duration": -249,
    "start_time": "2021-12-01T05:03:17.725Z"
   },
   {
    "duration": -249,
    "start_time": "2021-12-01T05:03:17.726Z"
   },
   {
    "duration": -251,
    "start_time": "2021-12-01T05:03:17.729Z"
   },
   {
    "duration": -252,
    "start_time": "2021-12-01T05:03:17.731Z"
   },
   {
    "duration": -252,
    "start_time": "2021-12-01T05:03:17.732Z"
   },
   {
    "duration": -252,
    "start_time": "2021-12-01T05:03:17.734Z"
   },
   {
    "duration": -254,
    "start_time": "2021-12-01T05:03:17.737Z"
   },
   {
    "duration": -335,
    "start_time": "2021-12-01T05:03:17.819Z"
   },
   {
    "duration": -335,
    "start_time": "2021-12-01T05:03:17.821Z"
   },
   {
    "duration": -362,
    "start_time": "2021-12-01T05:03:17.849Z"
   },
   {
    "duration": -369,
    "start_time": "2021-12-01T05:03:17.858Z"
   },
   {
    "duration": -370,
    "start_time": "2021-12-01T05:03:17.860Z"
   },
   {
    "duration": -374,
    "start_time": "2021-12-01T05:03:17.865Z"
   },
   {
    "duration": -376,
    "start_time": "2021-12-01T05:03:17.868Z"
   },
   {
    "duration": -378,
    "start_time": "2021-12-01T05:03:17.871Z"
   },
   {
    "duration": 1836,
    "start_time": "2021-12-01T05:03:46.942Z"
   },
   {
    "duration": 16,
    "start_time": "2021-12-01T05:03:51.245Z"
   },
   {
    "duration": 7,
    "start_time": "2021-12-01T05:04:07.891Z"
   },
   {
    "duration": 1884,
    "start_time": "2021-12-01T05:04:28.556Z"
   },
   {
    "duration": 8,
    "start_time": "2021-12-01T05:04:30.853Z"
   },
   {
    "duration": 7,
    "start_time": "2021-12-01T05:04:44.385Z"
   },
   {
    "duration": 18,
    "start_time": "2021-12-01T05:04:46.269Z"
   },
   {
    "duration": 6,
    "start_time": "2021-12-01T05:04:58.753Z"
   },
   {
    "duration": 494,
    "start_time": "2021-12-01T05:05:55.676Z"
   },
   {
    "duration": 8,
    "start_time": "2021-12-01T05:09:19.091Z"
   },
   {
    "duration": 19,
    "start_time": "2021-12-01T05:09:42.294Z"
   },
   {
    "duration": 13,
    "start_time": "2021-12-01T05:15:13.747Z"
   },
   {
    "duration": 1907,
    "start_time": "2021-12-01T05:15:14.329Z"
   },
   {
    "duration": 22,
    "start_time": "2021-12-01T05:15:16.239Z"
   },
   {
    "duration": 15,
    "start_time": "2021-12-01T05:15:43.774Z"
   },
   {
    "duration": 14,
    "start_time": "2021-12-01T05:15:48.782Z"
   },
   {
    "duration": 13,
    "start_time": "2021-12-01T05:15:58.793Z"
   },
   {
    "duration": 1531,
    "start_time": "2021-12-01T05:24:49.343Z"
   },
   {
    "duration": 472,
    "start_time": "2021-12-01T05:24:50.876Z"
   },
   {
    "duration": 209,
    "start_time": "2021-12-01T05:24:51.351Z"
   },
   {
    "duration": 33,
    "start_time": "2021-12-01T05:24:51.562Z"
   },
   {
    "duration": 14,
    "start_time": "2021-12-01T05:24:51.597Z"
   },
   {
    "duration": 1376,
    "start_time": "2021-12-01T05:24:51.614Z"
   },
   {
    "duration": -153,
    "start_time": "2021-12-01T05:24:53.146Z"
   },
   {
    "duration": -313,
    "start_time": "2021-12-01T05:24:53.308Z"
   },
   {
    "duration": -314,
    "start_time": "2021-12-01T05:24:53.310Z"
   },
   {
    "duration": -315,
    "start_time": "2021-12-01T05:24:53.312Z"
   },
   {
    "duration": -316,
    "start_time": "2021-12-01T05:24:53.315Z"
   },
   {
    "duration": -317,
    "start_time": "2021-12-01T05:24:53.317Z"
   },
   {
    "duration": -324,
    "start_time": "2021-12-01T05:24:53.326Z"
   },
   {
    "duration": -325,
    "start_time": "2021-12-01T05:24:53.329Z"
   },
   {
    "duration": -326,
    "start_time": "2021-12-01T05:24:53.331Z"
   },
   {
    "duration": -328,
    "start_time": "2021-12-01T05:24:53.334Z"
   },
   {
    "duration": -337,
    "start_time": "2021-12-01T05:24:53.344Z"
   },
   {
    "duration": -338,
    "start_time": "2021-12-01T05:24:53.347Z"
   },
   {
    "duration": -339,
    "start_time": "2021-12-01T05:24:53.349Z"
   },
   {
    "duration": -339,
    "start_time": "2021-12-01T05:24:53.351Z"
   },
   {
    "duration": -341,
    "start_time": "2021-12-01T05:24:53.354Z"
   },
   {
    "duration": -342,
    "start_time": "2021-12-01T05:24:53.356Z"
   },
   {
    "duration": -342,
    "start_time": "2021-12-01T05:24:53.358Z"
   },
   {
    "duration": -343,
    "start_time": "2021-12-01T05:24:53.360Z"
   },
   {
    "duration": -344,
    "start_time": "2021-12-01T05:24:53.362Z"
   },
   {
    "duration": -344,
    "start_time": "2021-12-01T05:24:53.364Z"
   },
   {
    "duration": -345,
    "start_time": "2021-12-01T05:24:53.366Z"
   },
   {
    "duration": -436,
    "start_time": "2021-12-01T05:24:53.458Z"
   },
   {
    "duration": -443,
    "start_time": "2021-12-01T05:24:53.467Z"
   },
   {
    "duration": -451,
    "start_time": "2021-12-01T05:24:53.476Z"
   },
   {
    "duration": -452,
    "start_time": "2021-12-01T05:24:53.478Z"
   },
   {
    "duration": -452,
    "start_time": "2021-12-01T05:24:53.480Z"
   },
   {
    "duration": -452,
    "start_time": "2021-12-01T05:24:53.482Z"
   },
   {
    "duration": 14,
    "start_time": "2021-12-01T05:25:42.481Z"
   },
   {
    "duration": 2234,
    "start_time": "2021-12-01T05:25:44.460Z"
   },
   {
    "duration": 20,
    "start_time": "2021-12-01T05:26:12.657Z"
   },
   {
    "duration": 16,
    "start_time": "2021-12-01T05:26:23.685Z"
   },
   {
    "duration": 16,
    "start_time": "2021-12-01T05:26:38.731Z"
   },
   {
    "duration": 14,
    "start_time": "2021-12-01T05:26:56.993Z"
   },
   {
    "duration": 20,
    "start_time": "2021-12-01T05:27:14.420Z"
   },
   {
    "duration": 12,
    "start_time": "2021-12-01T05:27:31.759Z"
   },
   {
    "duration": 11,
    "start_time": "2021-12-01T05:28:30.237Z"
   },
   {
    "duration": 1705,
    "start_time": "2021-12-01T13:02:28.927Z"
   },
   {
    "duration": 1462,
    "start_time": "2021-12-01T13:02:30.635Z"
   },
   {
    "duration": 266,
    "start_time": "2021-12-01T13:02:32.102Z"
   },
   {
    "duration": 41,
    "start_time": "2021-12-01T13:02:32.371Z"
   },
   {
    "duration": 15,
    "start_time": "2021-12-01T13:02:32.414Z"
   },
   {
    "duration": 2017,
    "start_time": "2021-12-01T13:02:32.432Z"
   },
   {
    "duration": 17,
    "start_time": "2021-12-01T13:02:34.452Z"
   },
   {
    "duration": 11,
    "start_time": "2021-12-01T13:02:34.475Z"
   },
   {
    "duration": 24,
    "start_time": "2021-12-01T13:02:34.490Z"
   },
   {
    "duration": 14,
    "start_time": "2021-12-01T13:02:34.516Z"
   },
   {
    "duration": 56,
    "start_time": "2021-12-01T13:02:34.533Z"
   },
   {
    "duration": 19,
    "start_time": "2021-12-01T13:02:34.592Z"
   },
   {
    "duration": 11,
    "start_time": "2021-12-01T13:02:34.613Z"
   },
   {
    "duration": 989,
    "start_time": "2021-12-01T13:02:34.627Z"
   },
   {
    "duration": -108,
    "start_time": "2021-12-01T13:02:35.727Z"
   },
   {
    "duration": -109,
    "start_time": "2021-12-01T13:02:35.730Z"
   },
   {
    "duration": -110,
    "start_time": "2021-12-01T13:02:35.733Z"
   },
   {
    "duration": -230,
    "start_time": "2021-12-01T13:02:35.854Z"
   },
   {
    "duration": -238,
    "start_time": "2021-12-01T13:02:35.864Z"
   },
   {
    "duration": -239,
    "start_time": "2021-12-01T13:02:35.867Z"
   },
   {
    "duration": -241,
    "start_time": "2021-12-01T13:02:35.870Z"
   },
   {
    "duration": -241,
    "start_time": "2021-12-01T13:02:35.872Z"
   },
   {
    "duration": -241,
    "start_time": "2021-12-01T13:02:35.874Z"
   },
   {
    "duration": -242,
    "start_time": "2021-12-01T13:02:35.876Z"
   },
   {
    "duration": -242,
    "start_time": "2021-12-01T13:02:35.878Z"
   },
   {
    "duration": -244,
    "start_time": "2021-12-01T13:02:35.883Z"
   },
   {
    "duration": -246,
    "start_time": "2021-12-01T13:02:35.886Z"
   },
   {
    "duration": -246,
    "start_time": "2021-12-01T13:02:35.888Z"
   },
   {
    "duration": -246,
    "start_time": "2021-12-01T13:02:35.890Z"
   },
   {
    "duration": -366,
    "start_time": "2021-12-01T13:02:36.011Z"
   },
   {
    "duration": -374,
    "start_time": "2021-12-01T13:02:36.021Z"
   },
   {
    "duration": -380,
    "start_time": "2021-12-01T13:02:36.029Z"
   },
   {
    "duration": -381,
    "start_time": "2021-12-01T13:02:36.031Z"
   },
   {
    "duration": -384,
    "start_time": "2021-12-01T13:02:36.036Z"
   },
   {
    "duration": -385,
    "start_time": "2021-12-01T13:02:36.039Z"
   },
   {
    "duration": 12,
    "start_time": "2021-12-01T13:06:20.110Z"
   },
   {
    "duration": 11,
    "start_time": "2021-12-01T13:36:08.579Z"
   },
   {
    "duration": 8,
    "start_time": "2021-12-01T13:39:00.576Z"
   },
   {
    "duration": 6,
    "start_time": "2021-12-01T13:39:46.128Z"
   },
   {
    "duration": 6,
    "start_time": "2021-12-01T13:40:10.210Z"
   },
   {
    "duration": 6,
    "start_time": "2021-12-01T13:40:35.324Z"
   },
   {
    "duration": 305,
    "start_time": "2021-12-01T13:42:44.076Z"
   },
   {
    "duration": 5,
    "start_time": "2021-12-01T13:42:51.396Z"
   },
   {
    "duration": 5,
    "start_time": "2021-12-01T13:43:19.284Z"
   },
   {
    "duration": 3,
    "start_time": "2021-12-01T13:45:08.352Z"
   },
   {
    "duration": 5,
    "start_time": "2021-12-01T13:45:16.515Z"
   },
   {
    "duration": 8,
    "start_time": "2021-12-01T13:45:28.074Z"
   },
   {
    "duration": 1638,
    "start_time": "2021-12-01T13:46:51.356Z"
   },
   {
    "duration": 511,
    "start_time": "2021-12-01T13:46:52.997Z"
   },
   {
    "duration": 262,
    "start_time": "2021-12-01T13:46:53.511Z"
   },
   {
    "duration": 40,
    "start_time": "2021-12-01T13:46:53.778Z"
   },
   {
    "duration": 15,
    "start_time": "2021-12-01T13:46:53.821Z"
   },
   {
    "duration": 2115,
    "start_time": "2021-12-01T13:46:53.867Z"
   },
   {
    "duration": 5,
    "start_time": "2021-12-01T13:46:55.985Z"
   },
   {
    "duration": 32,
    "start_time": "2021-12-01T13:46:55.994Z"
   },
   {
    "duration": 8,
    "start_time": "2021-12-01T13:46:56.030Z"
   },
   {
    "duration": 41,
    "start_time": "2021-12-01T13:46:56.041Z"
   },
   {
    "duration": 15,
    "start_time": "2021-12-01T13:46:56.084Z"
   },
   {
    "duration": 19,
    "start_time": "2021-12-01T13:46:56.101Z"
   },
   {
    "duration": 12,
    "start_time": "2021-12-01T13:46:56.122Z"
   },
   {
    "duration": 22,
    "start_time": "2021-12-01T13:46:56.136Z"
   },
   {
    "duration": 17,
    "start_time": "2021-12-01T13:46:56.160Z"
   },
   {
    "duration": 13,
    "start_time": "2021-12-01T13:46:56.181Z"
   },
   {
    "duration": 593,
    "start_time": "2021-12-01T13:46:56.196Z"
   },
   {
    "duration": -1081,
    "start_time": "2021-12-01T13:46:57.873Z"
   },
   {
    "duration": -1082,
    "start_time": "2021-12-01T13:46:57.875Z"
   },
   {
    "duration": -1082,
    "start_time": "2021-12-01T13:46:57.877Z"
   },
   {
    "duration": -1083,
    "start_time": "2021-12-01T13:46:57.879Z"
   },
   {
    "duration": -1085,
    "start_time": "2021-12-01T13:46:57.882Z"
   },
   {
    "duration": -1130,
    "start_time": "2021-12-01T13:46:57.928Z"
   },
   {
    "duration": -1131,
    "start_time": "2021-12-01T13:46:57.931Z"
   },
   {
    "duration": -1133,
    "start_time": "2021-12-01T13:46:57.934Z"
   },
   {
    "duration": -1135,
    "start_time": "2021-12-01T13:46:57.937Z"
   },
   {
    "duration": -1136,
    "start_time": "2021-12-01T13:46:57.940Z"
   },
   {
    "duration": -1137,
    "start_time": "2021-12-01T13:46:57.942Z"
   },
   {
    "duration": -1138,
    "start_time": "2021-12-01T13:46:57.944Z"
   },
   {
    "duration": -1166,
    "start_time": "2021-12-01T13:46:57.974Z"
   },
   {
    "duration": -1168,
    "start_time": "2021-12-01T13:46:57.977Z"
   },
   {
    "duration": -1168,
    "start_time": "2021-12-01T13:46:57.979Z"
   },
   {
    "duration": -1170,
    "start_time": "2021-12-01T13:46:57.982Z"
   },
   {
    "duration": -1196,
    "start_time": "2021-12-01T13:46:58.010Z"
   },
   {
    "duration": -1207,
    "start_time": "2021-12-01T13:46:58.023Z"
   },
   {
    "duration": -1208,
    "start_time": "2021-12-01T13:46:58.025Z"
   },
   {
    "duration": -1209,
    "start_time": "2021-12-01T13:46:58.028Z"
   },
   {
    "duration": -1220,
    "start_time": "2021-12-01T13:46:58.040Z"
   },
   {
    "duration": 12,
    "start_time": "2021-12-01T13:50:38.138Z"
   },
   {
    "duration": 1719,
    "start_time": "2021-12-01T14:01:10.175Z"
   },
   {
    "duration": 501,
    "start_time": "2021-12-01T14:01:11.897Z"
   },
   {
    "duration": 249,
    "start_time": "2021-12-01T14:01:12.402Z"
   },
   {
    "duration": 46,
    "start_time": "2021-12-01T14:01:12.655Z"
   },
   {
    "duration": 16,
    "start_time": "2021-12-01T14:01:12.703Z"
   },
   {
    "duration": 2211,
    "start_time": "2021-12-01T14:01:12.722Z"
   },
   {
    "duration": 5,
    "start_time": "2021-12-01T14:01:14.936Z"
   },
   {
    "duration": 35,
    "start_time": "2021-12-01T14:01:14.943Z"
   },
   {
    "duration": 10,
    "start_time": "2021-12-01T14:01:14.982Z"
   },
   {
    "duration": 17,
    "start_time": "2021-12-01T14:01:14.995Z"
   },
   {
    "duration": 13,
    "start_time": "2021-12-01T14:01:15.015Z"
   },
   {
    "duration": 53,
    "start_time": "2021-12-01T14:01:15.031Z"
   },
   {
    "duration": 11,
    "start_time": "2021-12-01T14:01:15.086Z"
   },
   {
    "duration": 10,
    "start_time": "2021-12-01T14:01:15.099Z"
   },
   {
    "duration": 429,
    "start_time": "2021-12-01T14:01:15.112Z"
   },
   {
    "duration": -122,
    "start_time": "2021-12-01T14:01:15.666Z"
   },
   {
    "duration": -124,
    "start_time": "2021-12-01T14:01:15.669Z"
   },
   {
    "duration": -124,
    "start_time": "2021-12-01T14:01:15.671Z"
   },
   {
    "duration": -126,
    "start_time": "2021-12-01T14:01:15.674Z"
   },
   {
    "duration": -127,
    "start_time": "2021-12-01T14:01:15.676Z"
   },
   {
    "duration": -127,
    "start_time": "2021-12-01T14:01:15.678Z"
   },
   {
    "duration": -138,
    "start_time": "2021-12-01T14:01:15.690Z"
   },
   {
    "duration": -139,
    "start_time": "2021-12-01T14:01:15.692Z"
   },
   {
    "duration": -140,
    "start_time": "2021-12-01T14:01:15.695Z"
   },
   {
    "duration": -140,
    "start_time": "2021-12-01T14:01:15.697Z"
   },
   {
    "duration": -142,
    "start_time": "2021-12-01T14:01:15.700Z"
   },
   {
    "duration": -143,
    "start_time": "2021-12-01T14:01:15.702Z"
   },
   {
    "duration": -143,
    "start_time": "2021-12-01T14:01:15.704Z"
   },
   {
    "duration": -144,
    "start_time": "2021-12-01T14:01:15.706Z"
   },
   {
    "duration": -145,
    "start_time": "2021-12-01T14:01:15.708Z"
   },
   {
    "duration": -145,
    "start_time": "2021-12-01T14:01:15.710Z"
   },
   {
    "duration": -146,
    "start_time": "2021-12-01T14:01:15.712Z"
   },
   {
    "duration": -147,
    "start_time": "2021-12-01T14:01:15.714Z"
   },
   {
    "duration": -148,
    "start_time": "2021-12-01T14:01:15.717Z"
   },
   {
    "duration": -150,
    "start_time": "2021-12-01T14:01:15.720Z"
   },
   {
    "duration": -227,
    "start_time": "2021-12-01T14:01:15.798Z"
   },
   {
    "duration": 1641,
    "start_time": "2021-12-01T14:07:36.258Z"
   },
   {
    "duration": 508,
    "start_time": "2021-12-01T14:07:37.901Z"
   },
   {
    "duration": 238,
    "start_time": "2021-12-01T14:07:38.412Z"
   },
   {
    "duration": 47,
    "start_time": "2021-12-01T14:07:38.653Z"
   },
   {
    "duration": 17,
    "start_time": "2021-12-01T14:07:38.703Z"
   },
   {
    "duration": 2533,
    "start_time": "2021-12-01T14:07:38.722Z"
   },
   {
    "duration": 16,
    "start_time": "2021-12-01T14:07:41.257Z"
   },
   {
    "duration": 8,
    "start_time": "2021-12-01T14:07:41.277Z"
   },
   {
    "duration": 18,
    "start_time": "2021-12-01T14:07:41.288Z"
   },
   {
    "duration": 13,
    "start_time": "2021-12-01T14:07:41.309Z"
   },
   {
    "duration": 20,
    "start_time": "2021-12-01T14:07:41.324Z"
   },
   {
    "duration": 21,
    "start_time": "2021-12-01T14:07:41.347Z"
   },
   {
    "duration": 7,
    "start_time": "2021-12-01T14:07:41.371Z"
   },
   {
    "duration": 550,
    "start_time": "2021-12-01T14:07:41.380Z"
   },
   {
    "duration": -529,
    "start_time": "2021-12-01T14:07:42.463Z"
   },
   {
    "duration": -530,
    "start_time": "2021-12-01T14:07:42.466Z"
   },
   {
    "duration": -531,
    "start_time": "2021-12-01T14:07:42.469Z"
   },
   {
    "duration": -553,
    "start_time": "2021-12-01T14:07:42.493Z"
   },
   {
    "duration": -555,
    "start_time": "2021-12-01T14:07:42.496Z"
   },
   {
    "duration": -558,
    "start_time": "2021-12-01T14:07:42.500Z"
   },
   {
    "duration": -583,
    "start_time": "2021-12-01T14:07:42.526Z"
   },
   {
    "duration": -592,
    "start_time": "2021-12-01T14:07:42.536Z"
   },
   {
    "duration": -597,
    "start_time": "2021-12-01T14:07:42.543Z"
   },
   {
    "duration": -600,
    "start_time": "2021-12-01T14:07:42.547Z"
   },
   {
    "duration": -620,
    "start_time": "2021-12-01T14:07:42.568Z"
   },
   {
    "duration": -622,
    "start_time": "2021-12-01T14:07:42.571Z"
   },
   {
    "duration": -624,
    "start_time": "2021-12-01T14:07:42.574Z"
   },
   {
    "duration": -650,
    "start_time": "2021-12-01T14:07:42.602Z"
   },
   {
    "duration": -652,
    "start_time": "2021-12-01T14:07:42.605Z"
   },
   {
    "duration": -654,
    "start_time": "2021-12-01T14:07:42.609Z"
   },
   {
    "duration": -661,
    "start_time": "2021-12-01T14:07:42.617Z"
   },
   {
    "duration": -664,
    "start_time": "2021-12-01T14:07:42.621Z"
   },
   {
    "duration": -664,
    "start_time": "2021-12-01T14:07:42.623Z"
   },
   {
    "duration": -665,
    "start_time": "2021-12-01T14:07:42.626Z"
   },
   {
    "duration": -666,
    "start_time": "2021-12-01T14:07:42.628Z"
   },
   {
    "duration": 968,
    "start_time": "2021-12-01T17:34:02.380Z"
   },
   {
    "duration": 901,
    "start_time": "2021-12-01T17:35:30.992Z"
   },
   {
    "duration": 555,
    "start_time": "2021-12-01T17:36:45.549Z"
   },
   {
    "duration": 13,
    "start_time": "2021-12-01T17:38:04.684Z"
   },
   {
    "duration": 22,
    "start_time": "2021-12-01T17:39:38.498Z"
   },
   {
    "duration": 353,
    "start_time": "2021-12-01T17:40:54.785Z"
   },
   {
    "duration": 73,
    "start_time": "2021-12-01T17:43:13.282Z"
   },
   {
    "duration": 732,
    "start_time": "2021-12-01T17:44:02.261Z"
   },
   {
    "duration": 863,
    "start_time": "2021-12-01T17:44:33.306Z"
   },
   {
    "duration": 1053,
    "start_time": "2021-12-01T17:50:20.496Z"
   },
   {
    "duration": 1804,
    "start_time": "2021-12-01T17:50:38.798Z"
   },
   {
    "duration": 496,
    "start_time": "2021-12-01T17:50:40.605Z"
   },
   {
    "duration": 243,
    "start_time": "2021-12-01T17:50:41.104Z"
   },
   {
    "duration": 50,
    "start_time": "2021-12-01T17:50:41.349Z"
   },
   {
    "duration": 16,
    "start_time": "2021-12-01T17:50:41.401Z"
   },
   {
    "duration": 953,
    "start_time": "2021-12-01T17:50:41.420Z"
   },
   {
    "duration": 973,
    "start_time": "2021-12-01T17:50:42.377Z"
   },
   {
    "duration": 32,
    "start_time": "2021-12-01T17:50:43.353Z"
   },
   {
    "duration": 123,
    "start_time": "2021-12-01T17:50:43.390Z"
   },
   {
    "duration": 20,
    "start_time": "2021-12-01T17:50:43.517Z"
   },
   {
    "duration": 29,
    "start_time": "2021-12-01T17:50:43.540Z"
   },
   {
    "duration": 18,
    "start_time": "2021-12-01T17:50:43.572Z"
   },
   {
    "duration": 11,
    "start_time": "2021-12-01T17:50:43.593Z"
   },
   {
    "duration": 419,
    "start_time": "2021-12-01T17:50:43.607Z"
   },
   {
    "duration": -159,
    "start_time": "2021-12-01T17:50:44.188Z"
   },
   {
    "duration": -166,
    "start_time": "2021-12-01T17:50:44.197Z"
   },
   {
    "duration": -166,
    "start_time": "2021-12-01T17:50:44.199Z"
   },
   {
    "duration": -173,
    "start_time": "2021-12-01T17:50:44.208Z"
   },
   {
    "duration": -173,
    "start_time": "2021-12-01T17:50:44.210Z"
   },
   {
    "duration": -174,
    "start_time": "2021-12-01T17:50:44.212Z"
   },
   {
    "duration": -174,
    "start_time": "2021-12-01T17:50:44.214Z"
   },
   {
    "duration": -174,
    "start_time": "2021-12-01T17:50:44.216Z"
   },
   {
    "duration": -179,
    "start_time": "2021-12-01T17:50:44.224Z"
   },
   {
    "duration": -180,
    "start_time": "2021-12-01T17:50:44.227Z"
   },
   {
    "duration": -181,
    "start_time": "2021-12-01T17:50:44.230Z"
   },
   {
    "duration": -181,
    "start_time": "2021-12-01T17:50:44.232Z"
   },
   {
    "duration": -182,
    "start_time": "2021-12-01T17:50:44.235Z"
   },
   {
    "duration": -180,
    "start_time": "2021-12-01T17:50:44.237Z"
   },
   {
    "duration": -180,
    "start_time": "2021-12-01T17:50:44.240Z"
   },
   {
    "duration": -182,
    "start_time": "2021-12-01T17:50:44.244Z"
   },
   {
    "duration": -182,
    "start_time": "2021-12-01T17:50:44.246Z"
   },
   {
    "duration": -182,
    "start_time": "2021-12-01T17:50:44.248Z"
   },
   {
    "duration": -183,
    "start_time": "2021-12-01T17:50:44.251Z"
   },
   {
    "duration": -182,
    "start_time": "2021-12-01T17:50:44.253Z"
   },
   {
    "duration": -182,
    "start_time": "2021-12-01T17:50:44.255Z"
   },
   {
    "duration": 23,
    "start_time": "2021-12-01T17:51:39.117Z"
   },
   {
    "duration": 11,
    "start_time": "2021-12-01T17:54:40.821Z"
   },
   {
    "duration": 12,
    "start_time": "2021-12-01T17:55:09.245Z"
   },
   {
    "duration": 17,
    "start_time": "2021-12-01T17:56:21.600Z"
   },
   {
    "duration": 395,
    "start_time": "2021-12-01T18:16:32.948Z"
   },
   {
    "duration": 381,
    "start_time": "2021-12-01T18:16:43.606Z"
   },
   {
    "duration": 275,
    "start_time": "2021-12-01T18:17:33.646Z"
   },
   {
    "duration": 1008,
    "start_time": "2021-12-01T18:46:44.960Z"
   },
   {
    "duration": 1613,
    "start_time": "2021-12-01T18:47:27.461Z"
   },
   {
    "duration": 545,
    "start_time": "2021-12-01T18:47:29.077Z"
   },
   {
    "duration": 268,
    "start_time": "2021-12-01T18:47:29.626Z"
   },
   {
    "duration": 37,
    "start_time": "2021-12-01T18:47:29.898Z"
   },
   {
    "duration": 45,
    "start_time": "2021-12-01T18:47:29.938Z"
   },
   {
    "duration": 71,
    "start_time": "2021-12-01T18:47:29.986Z"
   },
   {
    "duration": 1114,
    "start_time": "2021-12-01T18:47:30.059Z"
   },
   {
    "duration": 912,
    "start_time": "2021-12-01T18:47:31.182Z"
   },
   {
    "duration": 17,
    "start_time": "2021-12-01T18:47:32.098Z"
   },
   {
    "duration": 11,
    "start_time": "2021-12-01T18:47:32.117Z"
   },
   {
    "duration": 58,
    "start_time": "2021-12-01T18:47:32.130Z"
   },
   {
    "duration": 20,
    "start_time": "2021-12-01T18:47:32.190Z"
   },
   {
    "duration": 474,
    "start_time": "2021-12-01T18:47:32.212Z"
   },
   {
    "duration": -106,
    "start_time": "2021-12-01T18:47:32.796Z"
   },
   {
    "duration": -108,
    "start_time": "2021-12-01T18:47:32.800Z"
   },
   {
    "duration": -109,
    "start_time": "2021-12-01T18:47:32.803Z"
   },
   {
    "duration": -109,
    "start_time": "2021-12-01T18:47:32.806Z"
   },
   {
    "duration": -110,
    "start_time": "2021-12-01T18:47:32.809Z"
   },
   {
    "duration": -111,
    "start_time": "2021-12-01T18:47:32.811Z"
   },
   {
    "duration": -111,
    "start_time": "2021-12-01T18:47:32.813Z"
   },
   {
    "duration": -112,
    "start_time": "2021-12-01T18:47:32.815Z"
   },
   {
    "duration": -113,
    "start_time": "2021-12-01T18:47:32.817Z"
   },
   {
    "duration": -113,
    "start_time": "2021-12-01T18:47:32.819Z"
   },
   {
    "duration": -113,
    "start_time": "2021-12-01T18:47:32.821Z"
   },
   {
    "duration": -115,
    "start_time": "2021-12-01T18:47:32.824Z"
   },
   {
    "duration": -115,
    "start_time": "2021-12-01T18:47:32.826Z"
   },
   {
    "duration": -115,
    "start_time": "2021-12-01T18:47:32.828Z"
   },
   {
    "duration": -115,
    "start_time": "2021-12-01T18:47:32.830Z"
   },
   {
    "duration": -116,
    "start_time": "2021-12-01T18:47:32.832Z"
   },
   {
    "duration": -132,
    "start_time": "2021-12-01T18:47:32.851Z"
   },
   {
    "duration": -138,
    "start_time": "2021-12-01T18:47:32.858Z"
   },
   {
    "duration": -139,
    "start_time": "2021-12-01T18:47:32.861Z"
   },
   {
    "duration": -208,
    "start_time": "2021-12-01T18:47:32.931Z"
   },
   {
    "duration": -208,
    "start_time": "2021-12-01T18:47:32.933Z"
   },
   {
    "duration": 994,
    "start_time": "2021-12-01T18:48:09.293Z"
   },
   {
    "duration": 2026,
    "start_time": "2021-12-01T18:50:02.257Z"
   },
   {
    "duration": 512,
    "start_time": "2021-12-01T18:50:04.286Z"
   },
   {
    "duration": 266,
    "start_time": "2021-12-01T18:50:04.801Z"
   },
   {
    "duration": 42,
    "start_time": "2021-12-01T18:50:05.070Z"
   },
   {
    "duration": 17,
    "start_time": "2021-12-01T18:50:05.115Z"
   },
   {
    "duration": 93,
    "start_time": "2021-12-01T18:50:05.136Z"
   },
   {
    "duration": 852,
    "start_time": "2021-12-01T18:50:05.232Z"
   },
   {
    "duration": 1014,
    "start_time": "2021-12-01T18:50:06.092Z"
   },
   {
    "duration": 20,
    "start_time": "2021-12-01T18:50:07.110Z"
   },
   {
    "duration": 35,
    "start_time": "2021-12-01T18:50:07.133Z"
   },
   {
    "duration": 29,
    "start_time": "2021-12-01T18:50:07.171Z"
   },
   {
    "duration": 22,
    "start_time": "2021-12-01T18:50:07.203Z"
   },
   {
    "duration": 534,
    "start_time": "2021-12-01T18:50:07.228Z"
   },
   {
    "duration": -130,
    "start_time": "2021-12-01T18:50:07.895Z"
   },
   {
    "duration": -126,
    "start_time": "2021-12-01T18:50:07.897Z"
   },
   {
    "duration": -127,
    "start_time": "2021-12-01T18:50:07.900Z"
   },
   {
    "duration": -128,
    "start_time": "2021-12-01T18:50:07.903Z"
   },
   {
    "duration": -129,
    "start_time": "2021-12-01T18:50:07.905Z"
   },
   {
    "duration": -130,
    "start_time": "2021-12-01T18:50:07.907Z"
   },
   {
    "duration": -137,
    "start_time": "2021-12-01T18:50:07.917Z"
   },
   {
    "duration": -249,
    "start_time": "2021-12-01T18:50:08.031Z"
   },
   {
    "duration": -256,
    "start_time": "2021-12-01T18:50:08.040Z"
   },
   {
    "duration": -258,
    "start_time": "2021-12-01T18:50:08.043Z"
   },
   {
    "duration": -259,
    "start_time": "2021-12-01T18:50:08.046Z"
   },
   {
    "duration": -259,
    "start_time": "2021-12-01T18:50:08.048Z"
   },
   {
    "duration": -259,
    "start_time": "2021-12-01T18:50:08.050Z"
   },
   {
    "duration": -260,
    "start_time": "2021-12-01T18:50:08.052Z"
   },
   {
    "duration": -261,
    "start_time": "2021-12-01T18:50:08.054Z"
   },
   {
    "duration": -261,
    "start_time": "2021-12-01T18:50:08.056Z"
   },
   {
    "duration": -262,
    "start_time": "2021-12-01T18:50:08.058Z"
   },
   {
    "duration": -263,
    "start_time": "2021-12-01T18:50:08.061Z"
   },
   {
    "duration": -264,
    "start_time": "2021-12-01T18:50:08.063Z"
   },
   {
    "duration": -265,
    "start_time": "2021-12-01T18:50:08.065Z"
   },
   {
    "duration": -266,
    "start_time": "2021-12-01T18:50:08.067Z"
   },
   {
    "duration": 1885,
    "start_time": "2021-12-01T18:51:26.034Z"
   },
   {
    "duration": 595,
    "start_time": "2021-12-01T18:51:27.922Z"
   },
   {
    "duration": 259,
    "start_time": "2021-12-01T18:51:28.520Z"
   },
   {
    "duration": 38,
    "start_time": "2021-12-01T18:51:28.784Z"
   },
   {
    "duration": 18,
    "start_time": "2021-12-01T18:51:28.824Z"
   },
   {
    "duration": 77,
    "start_time": "2021-12-01T18:51:28.845Z"
   },
   {
    "duration": 1161,
    "start_time": "2021-12-01T18:51:28.925Z"
   },
   {
    "duration": 1558,
    "start_time": "2021-12-01T18:51:30.090Z"
   },
   {
    "duration": 32,
    "start_time": "2021-12-01T18:51:31.653Z"
   },
   {
    "duration": 11,
    "start_time": "2021-12-01T18:51:31.690Z"
   },
   {
    "duration": 65,
    "start_time": "2021-12-01T18:51:31.704Z"
   },
   {
    "duration": 21,
    "start_time": "2021-12-01T18:51:31.772Z"
   },
   {
    "duration": 436,
    "start_time": "2021-12-01T18:51:31.796Z"
   },
   {
    "duration": -108,
    "start_time": "2021-12-01T18:51:32.343Z"
   },
   {
    "duration": -108,
    "start_time": "2021-12-01T18:51:32.345Z"
   },
   {
    "duration": -116,
    "start_time": "2021-12-01T18:51:32.354Z"
   },
   {
    "duration": -118,
    "start_time": "2021-12-01T18:51:32.357Z"
   },
   {
    "duration": -233,
    "start_time": "2021-12-01T18:51:32.474Z"
   },
   {
    "duration": -237,
    "start_time": "2021-12-01T18:51:32.479Z"
   },
   {
    "duration": -238,
    "start_time": "2021-12-01T18:51:32.482Z"
   },
   {
    "duration": -239,
    "start_time": "2021-12-01T18:51:32.484Z"
   },
   {
    "duration": -241,
    "start_time": "2021-12-01T18:51:32.487Z"
   },
   {
    "duration": -240,
    "start_time": "2021-12-01T18:51:32.488Z"
   },
   {
    "duration": -248,
    "start_time": "2021-12-01T18:51:32.498Z"
   },
   {
    "duration": -249,
    "start_time": "2021-12-01T18:51:32.500Z"
   },
   {
    "duration": -250,
    "start_time": "2021-12-01T18:51:32.502Z"
   },
   {
    "duration": -251,
    "start_time": "2021-12-01T18:51:32.504Z"
   },
   {
    "duration": -252,
    "start_time": "2021-12-01T18:51:32.507Z"
   },
   {
    "duration": -252,
    "start_time": "2021-12-01T18:51:32.508Z"
   },
   {
    "duration": -252,
    "start_time": "2021-12-01T18:51:32.510Z"
   },
   {
    "duration": -337,
    "start_time": "2021-12-01T18:51:32.596Z"
   },
   {
    "duration": -339,
    "start_time": "2021-12-01T18:51:32.599Z"
   },
   {
    "duration": -377,
    "start_time": "2021-12-01T18:51:32.638Z"
   },
   {
    "duration": -386,
    "start_time": "2021-12-01T18:51:32.648Z"
   },
   {
    "duration": 17,
    "start_time": "2021-12-01T19:22:01.863Z"
   },
   {
    "duration": 123,
    "start_time": "2021-12-01T19:24:35.572Z"
   },
   {
    "duration": 317,
    "start_time": "2021-12-01T19:24:42.329Z"
   },
   {
    "duration": 328,
    "start_time": "2021-12-01T19:25:06.816Z"
   },
   {
    "duration": 18,
    "start_time": "2021-12-01T19:25:33.867Z"
   },
   {
    "duration": 277,
    "start_time": "2021-12-01T19:25:35.236Z"
   },
   {
    "duration": 18,
    "start_time": "2021-12-01T19:25:38.195Z"
   },
   {
    "duration": 19,
    "start_time": "2021-12-01T19:25:49.294Z"
   },
   {
    "duration": 283,
    "start_time": "2021-12-01T19:25:53.318Z"
   },
   {
    "duration": 4,
    "start_time": "2021-12-01T19:25:54.756Z"
   },
   {
    "duration": 522,
    "start_time": "2021-12-01T19:29:59.091Z"
   },
   {
    "duration": 7,
    "start_time": "2021-12-01T20:28:33.100Z"
   },
   {
    "duration": 5,
    "start_time": "2021-12-01T20:38:10.154Z"
   },
   {
    "duration": 282,
    "start_time": "2021-12-01T20:38:24.032Z"
   },
   {
    "duration": 10,
    "start_time": "2021-12-01T20:38:31.764Z"
   },
   {
    "duration": 5,
    "start_time": "2021-12-01T20:39:53.792Z"
   },
   {
    "duration": 10,
    "start_time": "2021-12-01T20:39:57.940Z"
   },
   {
    "duration": 23,
    "start_time": "2021-12-01T20:40:11.245Z"
   },
   {
    "duration": 5,
    "start_time": "2021-12-01T20:40:18.177Z"
   },
   {
    "duration": 10,
    "start_time": "2021-12-01T20:40:19.113Z"
   },
   {
    "duration": 1634,
    "start_time": "2021-12-01T20:40:59.271Z"
   },
   {
    "duration": 486,
    "start_time": "2021-12-01T20:41:00.908Z"
   },
   {
    "duration": 261,
    "start_time": "2021-12-01T20:41:01.398Z"
   },
   {
    "duration": 37,
    "start_time": "2021-12-01T20:41:01.668Z"
   },
   {
    "duration": 15,
    "start_time": "2021-12-01T20:41:01.708Z"
   },
   {
    "duration": 83,
    "start_time": "2021-12-01T20:41:01.726Z"
   },
   {
    "duration": 1156,
    "start_time": "2021-12-01T20:41:01.811Z"
   },
   {
    "duration": 1019,
    "start_time": "2021-12-01T20:41:02.970Z"
   },
   {
    "duration": 17,
    "start_time": "2021-12-01T20:41:03.994Z"
   },
   {
    "duration": 427,
    "start_time": "2021-12-01T20:41:04.014Z"
   },
   {
    "duration": -93,
    "start_time": "2021-12-01T20:41:04.537Z"
   },
   {
    "duration": -94,
    "start_time": "2021-12-01T20:41:04.540Z"
   },
   {
    "duration": -99,
    "start_time": "2021-12-01T20:41:04.546Z"
   },
   {
    "duration": -122,
    "start_time": "2021-12-01T20:41:04.571Z"
   },
   {
    "duration": -124,
    "start_time": "2021-12-01T20:41:04.574Z"
   },
   {
    "duration": -126,
    "start_time": "2021-12-01T20:41:04.577Z"
   },
   {
    "duration": -127,
    "start_time": "2021-12-01T20:41:04.580Z"
   },
   {
    "duration": -128,
    "start_time": "2021-12-01T20:41:04.582Z"
   },
   {
    "duration": -128,
    "start_time": "2021-12-01T20:41:04.584Z"
   },
   {
    "duration": -129,
    "start_time": "2021-12-01T20:41:04.586Z"
   },
   {
    "duration": -130,
    "start_time": "2021-12-01T20:41:04.588Z"
   },
   {
    "duration": -131,
    "start_time": "2021-12-01T20:41:04.590Z"
   },
   {
    "duration": -228,
    "start_time": "2021-12-01T20:41:04.689Z"
   },
   {
    "duration": -231,
    "start_time": "2021-12-01T20:41:04.693Z"
   },
   {
    "duration": -231,
    "start_time": "2021-12-01T20:41:04.695Z"
   },
   {
    "duration": -233,
    "start_time": "2021-12-01T20:41:04.698Z"
   },
   {
    "duration": -233,
    "start_time": "2021-12-01T20:41:04.700Z"
   },
   {
    "duration": -234,
    "start_time": "2021-12-01T20:41:04.702Z"
   },
   {
    "duration": -235,
    "start_time": "2021-12-01T20:41:04.704Z"
   },
   {
    "duration": -235,
    "start_time": "2021-12-01T20:41:04.705Z"
   },
   {
    "duration": -235,
    "start_time": "2021-12-01T20:41:04.707Z"
   },
   {
    "duration": -237,
    "start_time": "2021-12-01T20:41:04.710Z"
   },
   {
    "duration": -239,
    "start_time": "2021-12-01T20:41:04.713Z"
   },
   {
    "duration": -240,
    "start_time": "2021-12-01T20:41:04.715Z"
   },
   {
    "duration": -239,
    "start_time": "2021-12-01T20:41:04.716Z"
   },
   {
    "duration": -240,
    "start_time": "2021-12-01T20:41:04.718Z"
   },
   {
    "duration": -242,
    "start_time": "2021-12-01T20:41:04.721Z"
   },
   {
    "duration": -243,
    "start_time": "2021-12-01T20:41:04.723Z"
   },
   {
    "duration": 282,
    "start_time": "2021-12-01T20:41:54.235Z"
   },
   {
    "duration": 7,
    "start_time": "2021-12-01T20:42:11.450Z"
   },
   {
    "duration": 10,
    "start_time": "2021-12-01T20:42:38.874Z"
   },
   {
    "duration": 7,
    "start_time": "2021-12-01T20:43:29.722Z"
   },
   {
    "duration": 6,
    "start_time": "2021-12-01T20:43:37.265Z"
   },
   {
    "duration": 14,
    "start_time": "2021-12-01T20:43:41.190Z"
   },
   {
    "duration": 5,
    "start_time": "2021-12-01T20:45:06.940Z"
   },
   {
    "duration": 19,
    "start_time": "2021-12-01T20:45:08.217Z"
   },
   {
    "duration": 5,
    "start_time": "2021-12-01T20:46:11.058Z"
   },
   {
    "duration": 715,
    "start_time": "2021-12-01T20:46:11.715Z"
   },
   {
    "duration": 6,
    "start_time": "2021-12-01T20:46:32.149Z"
   },
   {
    "duration": 17,
    "start_time": "2021-12-01T20:46:32.706Z"
   },
   {
    "duration": 6,
    "start_time": "2021-12-01T20:47:41.466Z"
   },
   {
    "duration": 22,
    "start_time": "2021-12-01T20:47:41.873Z"
   },
   {
    "duration": 6,
    "start_time": "2021-12-01T20:48:31.108Z"
   },
   {
    "duration": 23,
    "start_time": "2021-12-01T20:48:32.674Z"
   },
   {
    "duration": 25,
    "start_time": "2021-12-01T20:51:22.350Z"
   },
   {
    "duration": 7125,
    "start_time": "2021-12-01T20:52:30.771Z"
   },
   {
    "duration": 5,
    "start_time": "2021-12-01T20:53:02.230Z"
   },
   {
    "duration": 585,
    "start_time": "2021-12-01T20:53:40.138Z"
   },
   {
    "duration": 489,
    "start_time": "2021-12-01T20:54:26.414Z"
   },
   {
    "duration": 7,
    "start_time": "2021-12-01T20:57:03.977Z"
   },
   {
    "duration": 13,
    "start_time": "2021-12-01T20:57:06.760Z"
   },
   {
    "duration": 5,
    "start_time": "2021-12-01T20:57:42.249Z"
   },
   {
    "duration": 9,
    "start_time": "2021-12-01T20:57:44.101Z"
   },
   {
    "duration": 100,
    "start_time": "2021-12-01T21:01:00.965Z"
   },
   {
    "duration": 103,
    "start_time": "2021-12-01T21:01:17.892Z"
   },
   {
    "duration": 5,
    "start_time": "2021-12-01T21:01:50.174Z"
   },
   {
    "duration": 11,
    "start_time": "2021-12-01T21:01:50.704Z"
   },
   {
    "duration": 25,
    "start_time": "2021-12-01T21:01:58.910Z"
   },
   {
    "duration": 6,
    "start_time": "2021-12-01T21:02:00.281Z"
   },
   {
    "duration": 6,
    "start_time": "2021-12-01T21:02:21.837Z"
   },
   {
    "duration": 582,
    "start_time": "2021-12-01T21:02:22.669Z"
   },
   {
    "duration": 1643,
    "start_time": "2021-12-01T21:02:37.092Z"
   },
   {
    "duration": 506,
    "start_time": "2021-12-01T21:02:38.739Z"
   },
   {
    "duration": 258,
    "start_time": "2021-12-01T21:02:39.248Z"
   },
   {
    "duration": 35,
    "start_time": "2021-12-01T21:02:39.509Z"
   },
   {
    "duration": 33,
    "start_time": "2021-12-01T21:02:39.546Z"
   },
   {
    "duration": 70,
    "start_time": "2021-12-01T21:02:39.582Z"
   },
   {
    "duration": 1118,
    "start_time": "2021-12-01T21:02:39.655Z"
   },
   {
    "duration": 938,
    "start_time": "2021-12-01T21:02:40.778Z"
   },
   {
    "duration": 16,
    "start_time": "2021-12-01T21:02:41.719Z"
   },
   {
    "duration": 32,
    "start_time": "2021-12-01T21:02:41.738Z"
   },
   {
    "duration": 14,
    "start_time": "2021-12-01T21:02:41.772Z"
   },
   {
    "duration": 723,
    "start_time": "2021-12-01T21:02:41.788Z"
   },
   {
    "duration": -187,
    "start_time": "2021-12-01T21:02:42.701Z"
   },
   {
    "duration": -188,
    "start_time": "2021-12-01T21:02:42.703Z"
   },
   {
    "duration": -189,
    "start_time": "2021-12-01T21:02:42.706Z"
   },
   {
    "duration": -190,
    "start_time": "2021-12-01T21:02:42.708Z"
   },
   {
    "duration": -190,
    "start_time": "2021-12-01T21:02:42.710Z"
   },
   {
    "duration": -191,
    "start_time": "2021-12-01T21:02:42.712Z"
   },
   {
    "duration": -330,
    "start_time": "2021-12-01T21:02:42.852Z"
   },
   {
    "duration": -342,
    "start_time": "2021-12-01T21:02:42.865Z"
   },
   {
    "duration": -343,
    "start_time": "2021-12-01T21:02:42.868Z"
   },
   {
    "duration": -352,
    "start_time": "2021-12-01T21:02:42.878Z"
   },
   {
    "duration": -353,
    "start_time": "2021-12-01T21:02:42.880Z"
   },
   {
    "duration": -353,
    "start_time": "2021-12-01T21:02:42.882Z"
   },
   {
    "duration": -354,
    "start_time": "2021-12-01T21:02:42.884Z"
   },
   {
    "duration": -354,
    "start_time": "2021-12-01T21:02:42.886Z"
   },
   {
    "duration": -364,
    "start_time": "2021-12-01T21:02:42.897Z"
   },
   {
    "duration": -364,
    "start_time": "2021-12-01T21:02:42.899Z"
   },
   {
    "duration": -364,
    "start_time": "2021-12-01T21:02:42.900Z"
   },
   {
    "duration": -364,
    "start_time": "2021-12-01T21:02:42.902Z"
   },
   {
    "duration": -373,
    "start_time": "2021-12-01T21:02:42.912Z"
   },
   {
    "duration": -373,
    "start_time": "2021-12-01T21:02:42.914Z"
   },
   {
    "duration": -375,
    "start_time": "2021-12-01T21:02:42.917Z"
   },
   {
    "duration": -376,
    "start_time": "2021-12-01T21:02:42.919Z"
   },
   {
    "duration": -384,
    "start_time": "2021-12-01T21:02:42.929Z"
   },
   {
    "duration": -384,
    "start_time": "2021-12-01T21:02:42.931Z"
   },
   {
    "duration": -385,
    "start_time": "2021-12-01T21:02:42.933Z"
   },
   {
    "duration": -386,
    "start_time": "2021-12-01T21:02:42.935Z"
   },
   {
    "duration": -394,
    "start_time": "2021-12-01T21:02:42.944Z"
   },
   {
    "duration": -377,
    "start_time": "2021-12-01T21:02:42.946Z"
   },
   {
    "duration": 5,
    "start_time": "2021-12-01T21:02:58.857Z"
   },
   {
    "duration": 10,
    "start_time": "2021-12-01T21:03:00.117Z"
   },
   {
    "duration": 5,
    "start_time": "2021-12-01T21:03:08.768Z"
   },
   {
    "duration": 10,
    "start_time": "2021-12-01T21:03:09.404Z"
   },
   {
    "duration": 1540,
    "start_time": "2021-12-01T21:03:31.001Z"
   },
   {
    "duration": 485,
    "start_time": "2021-12-01T21:03:32.544Z"
   },
   {
    "duration": 267,
    "start_time": "2021-12-01T21:03:33.031Z"
   },
   {
    "duration": 33,
    "start_time": "2021-12-01T21:03:33.301Z"
   },
   {
    "duration": 36,
    "start_time": "2021-12-01T21:03:33.336Z"
   },
   {
    "duration": 59,
    "start_time": "2021-12-01T21:03:33.375Z"
   },
   {
    "duration": 1136,
    "start_time": "2021-12-01T21:03:33.437Z"
   },
   {
    "duration": 900,
    "start_time": "2021-12-01T21:03:34.667Z"
   },
   {
    "duration": 16,
    "start_time": "2021-12-01T21:03:35.570Z"
   },
   {
    "duration": 9,
    "start_time": "2021-12-01T21:03:35.589Z"
   },
   {
    "duration": 7,
    "start_time": "2021-12-01T21:03:35.600Z"
   },
   {
    "duration": 24,
    "start_time": "2021-12-01T21:03:35.609Z"
   },
   {
    "duration": 53,
    "start_time": "2021-12-01T21:03:35.635Z"
   },
   {
    "duration": 5,
    "start_time": "2021-12-01T21:03:35.690Z"
   },
   {
    "duration": 638,
    "start_time": "2021-12-01T21:03:35.698Z"
   },
   {
    "duration": -197,
    "start_time": "2021-12-01T21:03:36.538Z"
   },
   {
    "duration": -198,
    "start_time": "2021-12-01T21:03:36.541Z"
   },
   {
    "duration": -199,
    "start_time": "2021-12-01T21:03:36.544Z"
   },
   {
    "duration": -346,
    "start_time": "2021-12-01T21:03:36.693Z"
   },
   {
    "duration": -348,
    "start_time": "2021-12-01T21:03:36.697Z"
   },
   {
    "duration": -348,
    "start_time": "2021-12-01T21:03:36.699Z"
   },
   {
    "duration": -349,
    "start_time": "2021-12-01T21:03:36.702Z"
   },
   {
    "duration": -349,
    "start_time": "2021-12-01T21:03:36.704Z"
   },
   {
    "duration": -350,
    "start_time": "2021-12-01T21:03:36.707Z"
   },
   {
    "duration": -350,
    "start_time": "2021-12-01T21:03:36.709Z"
   },
   {
    "duration": -351,
    "start_time": "2021-12-01T21:03:36.712Z"
   },
   {
    "duration": -351,
    "start_time": "2021-12-01T21:03:36.714Z"
   },
   {
    "duration": -350,
    "start_time": "2021-12-01T21:03:36.716Z"
   },
   {
    "duration": -350,
    "start_time": "2021-12-01T21:03:36.718Z"
   },
   {
    "duration": -350,
    "start_time": "2021-12-01T21:03:36.720Z"
   },
   {
    "duration": -351,
    "start_time": "2021-12-01T21:03:36.723Z"
   },
   {
    "duration": -351,
    "start_time": "2021-12-01T21:03:36.725Z"
   },
   {
    "duration": -477,
    "start_time": "2021-12-01T21:03:36.853Z"
   },
   {
    "duration": -486,
    "start_time": "2021-12-01T21:03:36.864Z"
   },
   {
    "duration": -486,
    "start_time": "2021-12-01T21:03:36.866Z"
   },
   {
    "duration": -486,
    "start_time": "2021-12-01T21:03:36.869Z"
   },
   {
    "duration": -486,
    "start_time": "2021-12-01T21:03:36.871Z"
   },
   {
    "duration": -486,
    "start_time": "2021-12-01T21:03:36.873Z"
   },
   {
    "duration": -486,
    "start_time": "2021-12-01T21:03:36.875Z"
   },
   {
    "duration": -486,
    "start_time": "2021-12-01T21:03:36.877Z"
   },
   {
    "duration": 23,
    "start_time": "2021-12-01T21:04:17.954Z"
   },
   {
    "duration": 6,
    "start_time": "2021-12-01T21:04:18.878Z"
   },
   {
    "duration": 25,
    "start_time": "2021-12-01T21:04:23.500Z"
   },
   {
    "duration": 50,
    "start_time": "2021-12-01T21:05:49.931Z"
   },
   {
    "duration": 298,
    "start_time": "2021-12-01T21:05:55.720Z"
   },
   {
    "duration": 47,
    "start_time": "2021-12-01T21:05:58.352Z"
   },
   {
    "duration": 495,
    "start_time": "2021-12-01T21:06:39.805Z"
   },
   {
    "duration": 35,
    "start_time": "2021-12-01T21:07:27.230Z"
   },
   {
    "duration": 5,
    "start_time": "2021-12-01T21:07:32.913Z"
   },
   {
    "duration": 32,
    "start_time": "2021-12-01T21:07:34.277Z"
   },
   {
    "duration": 30,
    "start_time": "2021-12-01T21:10:54.079Z"
   },
   {
    "duration": 48,
    "start_time": "2021-12-01T21:10:58.577Z"
   },
   {
    "duration": 31,
    "start_time": "2021-12-01T21:18:28.605Z"
   },
   {
    "duration": 32,
    "start_time": "2021-12-01T21:18:57.881Z"
   },
   {
    "duration": 39,
    "start_time": "2021-12-01T21:21:19.729Z"
   },
   {
    "duration": 35,
    "start_time": "2021-12-01T21:21:29.989Z"
   },
   {
    "duration": 292,
    "start_time": "2021-12-01T21:22:10.496Z"
   },
   {
    "duration": 83,
    "start_time": "2021-12-01T21:22:23.142Z"
   },
   {
    "duration": 79,
    "start_time": "2021-12-01T21:23:58.419Z"
   },
   {
    "duration": 83,
    "start_time": "2021-12-01T21:24:34.985Z"
   },
   {
    "duration": 81,
    "start_time": "2021-12-01T21:25:08.534Z"
   },
   {
    "duration": 314,
    "start_time": "2021-12-01T21:26:03.542Z"
   },
   {
    "duration": 31,
    "start_time": "2021-12-01T21:26:27.481Z"
   },
   {
    "duration": 31,
    "start_time": "2021-12-01T21:26:31.123Z"
   },
   {
    "duration": 30,
    "start_time": "2021-12-01T21:26:34.312Z"
   },
   {
    "duration": 1630,
    "start_time": "2021-12-01T21:51:48.988Z"
   },
   {
    "duration": 510,
    "start_time": "2021-12-01T21:51:50.621Z"
   },
   {
    "duration": 259,
    "start_time": "2021-12-01T21:51:51.135Z"
   },
   {
    "duration": 38,
    "start_time": "2021-12-01T21:51:51.398Z"
   },
   {
    "duration": 41,
    "start_time": "2021-12-01T21:51:51.439Z"
   },
   {
    "duration": 59,
    "start_time": "2021-12-01T21:51:51.484Z"
   },
   {
    "duration": 1327,
    "start_time": "2021-12-01T21:51:51.545Z"
   },
   {
    "duration": 880,
    "start_time": "2021-12-01T21:51:52.874Z"
   },
   {
    "duration": 22,
    "start_time": "2021-12-01T21:51:53.757Z"
   },
   {
    "duration": 12,
    "start_time": "2021-12-01T21:51:53.782Z"
   },
   {
    "duration": 126,
    "start_time": "2021-12-01T21:51:53.798Z"
   },
   {
    "duration": 101,
    "start_time": "2021-12-01T21:51:53.926Z"
   },
   {
    "duration": 1669,
    "start_time": "2021-12-01T21:52:50.848Z"
   },
   {
    "duration": 537,
    "start_time": "2021-12-01T21:52:52.520Z"
   },
   {
    "duration": 268,
    "start_time": "2021-12-01T21:52:53.060Z"
   },
   {
    "duration": 65,
    "start_time": "2021-12-01T21:52:53.332Z"
   },
   {
    "duration": 15,
    "start_time": "2021-12-01T21:52:53.400Z"
   },
   {
    "duration": 71,
    "start_time": "2021-12-01T21:52:53.418Z"
   },
   {
    "duration": 1175,
    "start_time": "2021-12-01T21:52:53.491Z"
   },
   {
    "duration": 975,
    "start_time": "2021-12-01T21:52:54.669Z"
   },
   {
    "duration": 23,
    "start_time": "2021-12-01T21:52:55.647Z"
   },
   {
    "duration": 12,
    "start_time": "2021-12-01T21:52:55.682Z"
   },
   {
    "duration": 121,
    "start_time": "2021-12-01T21:52:55.697Z"
   },
   {
    "duration": 481,
    "start_time": "2021-12-01T21:59:05.092Z"
   },
   {
    "duration": 490,
    "start_time": "2021-12-01T21:59:29.843Z"
   },
   {
    "duration": 85,
    "start_time": "2021-12-01T22:00:21.508Z"
   },
   {
    "duration": 11,
    "start_time": "2021-12-01T22:01:47.509Z"
   },
   {
    "duration": 473,
    "start_time": "2021-12-01T22:02:30.935Z"
   },
   {
    "duration": 471,
    "start_time": "2021-12-01T22:02:51.377Z"
   },
   {
    "duration": 510,
    "start_time": "2021-12-01T22:03:50.931Z"
   },
   {
    "duration": 477,
    "start_time": "2021-12-01T22:04:13.746Z"
   },
   {
    "duration": 482,
    "start_time": "2021-12-01T22:05:24.350Z"
   },
   {
    "duration": 1598,
    "start_time": "2021-12-01T22:06:29.017Z"
   },
   {
    "duration": 500,
    "start_time": "2021-12-01T22:06:30.618Z"
   },
   {
    "duration": 256,
    "start_time": "2021-12-01T22:06:31.121Z"
   },
   {
    "duration": 34,
    "start_time": "2021-12-01T22:06:31.381Z"
   },
   {
    "duration": 16,
    "start_time": "2021-12-01T22:06:31.417Z"
   },
   {
    "duration": 81,
    "start_time": "2021-12-01T22:06:31.435Z"
   },
   {
    "duration": 1152,
    "start_time": "2021-12-01T22:06:31.518Z"
   },
   {
    "duration": 937,
    "start_time": "2021-12-01T22:06:32.674Z"
   },
   {
    "duration": 18,
    "start_time": "2021-12-01T22:06:33.613Z"
   },
   {
    "duration": 36,
    "start_time": "2021-12-01T22:06:33.633Z"
   },
   {
    "duration": 97,
    "start_time": "2021-12-01T22:06:33.671Z"
   },
   {
    "duration": 620,
    "start_time": "2021-12-01T22:06:33.770Z"
   },
   {
    "duration": 21802,
    "start_time": "2021-12-01T22:07:20.506Z"
   },
   {
    "duration": 15793,
    "start_time": "2021-12-01T22:10:20.848Z"
   },
   {
    "duration": 273,
    "start_time": "2021-12-01T22:13:13.547Z"
   },
   {
    "duration": 16084,
    "start_time": "2021-12-01T22:14:38.387Z"
   },
   {
    "duration": 15766,
    "start_time": "2021-12-01T22:14:54.474Z"
   },
   {
    "duration": 9,
    "start_time": "2021-12-01T22:15:23.594Z"
   },
   {
    "duration": 11,
    "start_time": "2021-12-01T22:16:33.475Z"
   },
   {
    "duration": 10,
    "start_time": "2021-12-01T22:17:12.532Z"
   },
   {
    "duration": 862,
    "start_time": "2021-12-01T22:17:34.590Z"
   },
   {
    "duration": 750,
    "start_time": "2021-12-01T22:19:00.017Z"
   },
   {
    "duration": 278,
    "start_time": "2021-12-01T22:20:21.149Z"
   },
   {
    "duration": 756,
    "start_time": "2021-12-01T22:20:33.277Z"
   },
   {
    "duration": 4,
    "start_time": "2021-12-01T22:26:05.620Z"
   },
   {
    "duration": 8,
    "start_time": "2021-12-01T22:27:23.081Z"
   },
   {
    "duration": 4,
    "start_time": "2021-12-01T22:27:29.162Z"
   },
   {
    "duration": 8,
    "start_time": "2021-12-01T22:27:29.959Z"
   },
   {
    "duration": 16,
    "start_time": "2021-12-01T22:28:29.944Z"
   },
   {
    "duration": 4,
    "start_time": "2021-12-01T22:29:06.030Z"
   },
   {
    "duration": 16,
    "start_time": "2021-12-01T22:29:07.078Z"
   },
   {
    "duration": 769,
    "start_time": "2021-12-01T22:30:01.145Z"
   },
   {
    "duration": 731,
    "start_time": "2021-12-01T22:31:21.289Z"
   },
   {
    "duration": 1655,
    "start_time": "2021-12-01T22:32:10.384Z"
   },
   {
    "duration": 1450,
    "start_time": "2021-12-01T22:32:31.293Z"
   },
   {
    "duration": 1341,
    "start_time": "2021-12-01T22:32:52.246Z"
   },
   {
    "duration": 1065,
    "start_time": "2021-12-01T22:33:05.708Z"
   },
   {
    "duration": 311,
    "start_time": "2021-12-01T22:37:00.674Z"
   },
   {
    "duration": 5,
    "start_time": "2021-12-01T22:37:07.579Z"
   },
   {
    "duration": 5,
    "start_time": "2021-12-01T22:37:16.303Z"
   },
   {
    "duration": 9,
    "start_time": "2021-12-01T22:37:36.214Z"
   },
   {
    "duration": 1104,
    "start_time": "2021-12-01T22:40:26.451Z"
   },
   {
    "duration": 1129,
    "start_time": "2021-12-01T22:42:10.092Z"
   },
   {
    "duration": 16027,
    "start_time": "2021-12-01T22:44:25.968Z"
   },
   {
    "duration": 1061,
    "start_time": "2021-12-01T22:44:41.998Z"
   },
   {
    "duration": 1065,
    "start_time": "2021-12-01T22:46:10.958Z"
   },
   {
    "duration": 284,
    "start_time": "2021-12-01T22:50:32.217Z"
   },
   {
    "duration": 10,
    "start_time": "2021-12-01T22:51:05.647Z"
   },
   {
    "duration": 11,
    "start_time": "2021-12-01T22:51:13.740Z"
   },
   {
    "duration": 1683,
    "start_time": "2021-12-01T23:00:02.736Z"
   },
   {
    "duration": 495,
    "start_time": "2021-12-01T23:00:04.422Z"
   },
   {
    "duration": 257,
    "start_time": "2021-12-01T23:00:04.920Z"
   },
   {
    "duration": 35,
    "start_time": "2021-12-01T23:00:05.180Z"
   },
   {
    "duration": 16,
    "start_time": "2021-12-01T23:00:05.217Z"
   },
   {
    "duration": 84,
    "start_time": "2021-12-01T23:00:05.236Z"
   },
   {
    "duration": 1148,
    "start_time": "2021-12-01T23:00:05.322Z"
   },
   {
    "duration": 993,
    "start_time": "2021-12-01T23:00:06.474Z"
   },
   {
    "duration": 16,
    "start_time": "2021-12-01T23:00:07.470Z"
   },
   {
    "duration": 20,
    "start_time": "2021-12-01T23:00:07.488Z"
   },
   {
    "duration": 89,
    "start_time": "2021-12-01T23:00:07.510Z"
   },
   {
    "duration": 16347,
    "start_time": "2021-12-01T23:00:07.601Z"
   },
   {
    "duration": 16388,
    "start_time": "2021-12-01T23:00:23.951Z"
   },
   {
    "duration": 998,
    "start_time": "2021-12-01T23:00:40.343Z"
   },
   {
    "duration": 25,
    "start_time": "2021-12-01T23:00:41.345Z"
   },
   {
    "duration": 16,
    "start_time": "2021-12-01T23:00:41.373Z"
   },
   {
    "duration": 15,
    "start_time": "2021-12-01T23:00:41.393Z"
   },
   {
    "duration": 5,
    "start_time": "2021-12-01T23:07:29.119Z"
   },
   {
    "duration": 6,
    "start_time": "2021-12-01T23:07:30.914Z"
   },
   {
    "duration": 746,
    "start_time": "2021-12-01T23:07:37.286Z"
   },
   {
    "duration": 6,
    "start_time": "2021-12-01T23:08:01.943Z"
   },
   {
    "duration": 574,
    "start_time": "2021-12-01T23:08:03.196Z"
   },
   {
    "duration": 6,
    "start_time": "2021-12-01T23:08:17.054Z"
   },
   {
    "duration": 840,
    "start_time": "2021-12-01T23:08:19.017Z"
   },
   {
    "duration": 5,
    "start_time": "2021-12-01T23:09:20.391Z"
   },
   {
    "duration": 6,
    "start_time": "2021-12-01T23:09:22.834Z"
   },
   {
    "duration": 16979,
    "start_time": "2021-12-01T23:09:24.575Z"
   },
   {
    "duration": 11,
    "start_time": "2021-12-01T23:09:50.795Z"
   },
   {
    "duration": 16363,
    "start_time": "2021-12-01T23:15:30.819Z"
   },
   {
    "duration": 11,
    "start_time": "2021-12-01T23:16:00.464Z"
   },
   {
    "duration": 10,
    "start_time": "2021-12-01T23:17:31.134Z"
   },
   {
    "duration": 16515,
    "start_time": "2021-12-01T23:22:08.634Z"
   },
   {
    "duration": 11,
    "start_time": "2021-12-01T23:22:43.029Z"
   },
   {
    "duration": 12,
    "start_time": "2021-12-01T23:23:09.592Z"
   },
   {
    "duration": 1578,
    "start_time": "2021-12-01T23:24:44.900Z"
   },
   {
    "duration": 491,
    "start_time": "2021-12-01T23:24:46.480Z"
   },
   {
    "duration": 243,
    "start_time": "2021-12-01T23:24:46.974Z"
   },
   {
    "duration": 51,
    "start_time": "2021-12-01T23:24:47.220Z"
   },
   {
    "duration": 15,
    "start_time": "2021-12-01T23:24:47.273Z"
   },
   {
    "duration": 55,
    "start_time": "2021-12-01T23:24:47.290Z"
   },
   {
    "duration": 1129,
    "start_time": "2021-12-01T23:24:47.347Z"
   },
   {
    "duration": 966,
    "start_time": "2021-12-01T23:24:48.482Z"
   },
   {
    "duration": 23,
    "start_time": "2021-12-01T23:24:49.451Z"
   },
   {
    "duration": 7,
    "start_time": "2021-12-01T23:24:49.476Z"
   },
   {
    "duration": 112,
    "start_time": "2021-12-01T23:24:49.485Z"
   },
   {
    "duration": 15312,
    "start_time": "2021-12-01T23:24:49.600Z"
   },
   {
    "duration": 15689,
    "start_time": "2021-12-01T23:25:04.914Z"
   },
   {
    "duration": 854,
    "start_time": "2021-12-01T23:25:20.606Z"
   },
   {
    "duration": 747,
    "start_time": "2021-12-01T23:25:21.462Z"
   },
   {
    "duration": 4,
    "start_time": "2021-12-01T23:25:22.212Z"
   },
   {
    "duration": 10,
    "start_time": "2021-12-01T23:25:22.218Z"
   },
   {
    "duration": 9,
    "start_time": "2021-12-01T23:25:22.230Z"
   },
   {
    "duration": 15429,
    "start_time": "2021-12-01T23:25:22.241Z"
   },
   {
    "duration": 15488,
    "start_time": "2021-12-01T23:25:37.673Z"
   },
   {
    "duration": 11,
    "start_time": "2021-12-01T23:25:53.167Z"
   },
   {
    "duration": 12,
    "start_time": "2021-12-01T23:25:53.180Z"
   },
   {
    "duration": 11,
    "start_time": "2021-12-01T23:25:53.196Z"
   },
   {
    "duration": 15,
    "start_time": "2021-12-01T23:25:53.210Z"
   },
   {
    "duration": 48,
    "start_time": "2021-12-01T23:25:53.227Z"
   },
   {
    "duration": 10,
    "start_time": "2021-12-01T23:25:53.277Z"
   },
   {
    "duration": 1597,
    "start_time": "2021-12-01T23:44:42.839Z"
   },
   {
    "duration": 533,
    "start_time": "2021-12-01T23:44:44.439Z"
   },
   {
    "duration": 239,
    "start_time": "2021-12-01T23:44:44.975Z"
   },
   {
    "duration": 35,
    "start_time": "2021-12-01T23:44:45.217Z"
   },
   {
    "duration": 24,
    "start_time": "2021-12-01T23:44:45.255Z"
   },
   {
    "duration": 57,
    "start_time": "2021-12-01T23:44:45.281Z"
   },
   {
    "duration": 1231,
    "start_time": "2021-12-01T23:44:45.341Z"
   },
   {
    "duration": 1004,
    "start_time": "2021-12-01T23:44:46.575Z"
   },
   {
    "duration": 16,
    "start_time": "2021-12-01T23:44:47.582Z"
   },
   {
    "duration": 8,
    "start_time": "2021-12-01T23:44:47.600Z"
   },
   {
    "duration": 122,
    "start_time": "2021-12-01T23:44:47.611Z"
   },
   {
    "duration": 16294,
    "start_time": "2021-12-01T23:44:47.736Z"
   },
   {
    "duration": 424,
    "start_time": "2021-12-01T23:45:04.032Z"
   },
   {
    "duration": -175,
    "start_time": "2021-12-01T23:45:04.634Z"
   },
   {
    "duration": -174,
    "start_time": "2021-12-01T23:45:04.636Z"
   },
   {
    "duration": -320,
    "start_time": "2021-12-01T23:45:04.783Z"
   },
   {
    "duration": -321,
    "start_time": "2021-12-01T23:45:04.786Z"
   },
   {
    "duration": -323,
    "start_time": "2021-12-01T23:45:04.789Z"
   },
   {
    "duration": -324,
    "start_time": "2021-12-01T23:45:04.791Z"
   },
   {
    "duration": -325,
    "start_time": "2021-12-01T23:45:04.793Z"
   },
   {
    "duration": -326,
    "start_time": "2021-12-01T23:45:04.796Z"
   },
   {
    "duration": -326,
    "start_time": "2021-12-01T23:45:04.797Z"
   },
   {
    "duration": -327,
    "start_time": "2021-12-01T23:45:04.799Z"
   },
   {
    "duration": -328,
    "start_time": "2021-12-01T23:45:04.801Z"
   },
   {
    "duration": -328,
    "start_time": "2021-12-01T23:45:04.803Z"
   },
   {
    "duration": -328,
    "start_time": "2021-12-01T23:45:04.804Z"
   },
   {
    "duration": -328,
    "start_time": "2021-12-01T23:45:04.806Z"
   },
   {
    "duration": -460,
    "start_time": "2021-12-01T23:45:04.939Z"
   },
   {
    "duration": 14,
    "start_time": "2021-12-01T23:47:52.684Z"
   },
   {
    "duration": 46,
    "start_time": "2021-12-01T23:47:59.309Z"
   },
   {
    "duration": 945,
    "start_time": "2021-12-01T23:48:00.524Z"
   },
   {
    "duration": 543,
    "start_time": "2021-12-01T23:50:20.156Z"
   },
   {
    "duration": 4,
    "start_time": "2021-12-01T23:53:19.619Z"
   },
   {
    "duration": 5,
    "start_time": "2021-12-01T23:53:22.392Z"
   },
   {
    "duration": 16783,
    "start_time": "2021-12-01T23:53:24.792Z"
   },
   {
    "duration": 834,
    "start_time": "2021-12-01T23:53:45.207Z"
   },
   {
    "duration": 6,
    "start_time": "2021-12-01T23:55:02.123Z"
   },
   {
    "duration": 16654,
    "start_time": "2021-12-01T23:55:06.141Z"
   },
   {
    "duration": 696,
    "start_time": "2021-12-01T23:55:22.797Z"
   },
   {
    "duration": 12,
    "start_time": "2021-12-01T23:56:48.903Z"
   },
   {
    "duration": 12,
    "start_time": "2021-12-01T23:56:52.377Z"
   },
   {
    "duration": 16,
    "start_time": "2021-12-01T23:56:56.776Z"
   },
   {
    "duration": 6,
    "start_time": "2021-12-02T00:02:45.969Z"
   },
   {
    "duration": 13,
    "start_time": "2021-12-02T00:03:12.575Z"
   },
   {
    "duration": 28,
    "start_time": "2021-12-02T00:03:57.357Z"
   },
   {
    "duration": 113,
    "start_time": "2021-12-02T00:05:16.050Z"
   },
   {
    "duration": 29,
    "start_time": "2021-12-02T00:05:30.842Z"
   },
   {
    "duration": 27,
    "start_time": "2021-12-02T00:05:43.917Z"
   },
   {
    "duration": 1536,
    "start_time": "2021-12-02T00:11:37.646Z"
   },
   {
    "duration": 503,
    "start_time": "2021-12-02T00:11:39.184Z"
   },
   {
    "duration": 239,
    "start_time": "2021-12-02T00:11:39.690Z"
   },
   {
    "duration": 56,
    "start_time": "2021-12-02T00:11:39.932Z"
   },
   {
    "duration": 16,
    "start_time": "2021-12-02T00:11:39.991Z"
   },
   {
    "duration": 71,
    "start_time": "2021-12-02T00:11:40.009Z"
   },
   {
    "duration": 789,
    "start_time": "2021-12-02T00:11:40.083Z"
   },
   {
    "duration": 992,
    "start_time": "2021-12-02T00:11:40.877Z"
   },
   {
    "duration": 17,
    "start_time": "2021-12-02T00:11:41.871Z"
   },
   {
    "duration": 14,
    "start_time": "2021-12-02T00:11:41.890Z"
   },
   {
    "duration": 114,
    "start_time": "2021-12-02T00:11:41.907Z"
   },
   {
    "duration": 7,
    "start_time": "2021-12-02T00:11:42.024Z"
   },
   {
    "duration": 16146,
    "start_time": "2021-12-02T00:11:42.033Z"
   },
   {
    "duration": 919,
    "start_time": "2021-12-02T00:11:58.182Z"
   },
   {
    "duration": 31,
    "start_time": "2021-12-02T00:11:59.103Z"
   },
   {
    "duration": 8,
    "start_time": "2021-12-02T00:13:30.185Z"
   },
   {
    "duration": 1538,
    "start_time": "2021-12-02T00:14:18.522Z"
   },
   {
    "duration": 490,
    "start_time": "2021-12-02T00:14:20.063Z"
   },
   {
    "duration": 241,
    "start_time": "2021-12-02T00:14:20.556Z"
   },
   {
    "duration": 35,
    "start_time": "2021-12-02T00:14:20.800Z"
   },
   {
    "duration": 40,
    "start_time": "2021-12-02T00:14:20.837Z"
   },
   {
    "duration": 52,
    "start_time": "2021-12-02T00:14:20.880Z"
   },
   {
    "duration": 1336,
    "start_time": "2021-12-02T00:14:20.935Z"
   },
   {
    "duration": 872,
    "start_time": "2021-12-02T00:14:22.275Z"
   },
   {
    "duration": 26,
    "start_time": "2021-12-02T00:14:23.150Z"
   },
   {
    "duration": 9,
    "start_time": "2021-12-02T00:14:23.178Z"
   },
   {
    "duration": 115,
    "start_time": "2021-12-02T00:14:23.189Z"
   },
   {
    "duration": 6,
    "start_time": "2021-12-02T00:14:23.307Z"
   },
   {
    "duration": 15793,
    "start_time": "2021-12-02T00:14:23.315Z"
   },
   {
    "duration": 775,
    "start_time": "2021-12-02T00:14:39.111Z"
   },
   {
    "duration": 31,
    "start_time": "2021-12-02T00:14:39.889Z"
   },
   {
    "duration": 434,
    "start_time": "2021-12-02T02:32:36.780Z"
   },
   {
    "duration": 1264,
    "start_time": "2021-12-02T02:32:52.278Z"
   },
   {
    "duration": 377,
    "start_time": "2021-12-02T02:32:53.544Z"
   },
   {
    "duration": 141,
    "start_time": "2021-12-02T02:32:53.924Z"
   },
   {
    "duration": 75,
    "start_time": "2021-12-02T02:32:54.067Z"
   },
   {
    "duration": 11,
    "start_time": "2021-12-02T02:32:54.144Z"
   },
   {
    "duration": 41,
    "start_time": "2021-12-02T02:32:54.157Z"
   },
   {
    "duration": 2482,
    "start_time": "2021-12-02T02:32:54.200Z"
   },
   {
    "duration": -497,
    "start_time": "2021-12-02T02:32:57.183Z"
   },
   {
    "duration": -499,
    "start_time": "2021-12-02T02:32:57.186Z"
   },
   {
    "duration": -500,
    "start_time": "2021-12-02T02:32:57.189Z"
   },
   {
    "duration": -502,
    "start_time": "2021-12-02T02:32:57.192Z"
   },
   {
    "duration": -506,
    "start_time": "2021-12-02T02:32:57.196Z"
   },
   {
    "duration": -508,
    "start_time": "2021-12-02T02:32:57.199Z"
   },
   {
    "duration": -509,
    "start_time": "2021-12-02T02:32:57.201Z"
   },
   {
    "duration": -511,
    "start_time": "2021-12-02T02:32:57.204Z"
   },
   {
    "duration": 1255,
    "start_time": "2021-12-02T02:34:51.414Z"
   },
   {
    "duration": 384,
    "start_time": "2021-12-02T02:34:52.671Z"
   },
   {
    "duration": 156,
    "start_time": "2021-12-02T02:34:53.057Z"
   },
   {
    "duration": 29,
    "start_time": "2021-12-02T02:34:53.215Z"
   },
   {
    "duration": 8,
    "start_time": "2021-12-02T02:34:53.246Z"
   },
   {
    "duration": 62,
    "start_time": "2021-12-02T02:34:53.256Z"
   },
   {
    "duration": 1567,
    "start_time": "2021-12-02T02:34:53.320Z"
   },
   {
    "duration": -799,
    "start_time": "2021-12-02T02:34:55.688Z"
   },
   {
    "duration": -798,
    "start_time": "2021-12-02T02:34:55.690Z"
   },
   {
    "duration": -801,
    "start_time": "2021-12-02T02:34:55.694Z"
   },
   {
    "duration": -801,
    "start_time": "2021-12-02T02:34:55.695Z"
   },
   {
    "duration": -802,
    "start_time": "2021-12-02T02:34:55.698Z"
   },
   {
    "duration": -804,
    "start_time": "2021-12-02T02:34:55.701Z"
   },
   {
    "duration": -805,
    "start_time": "2021-12-02T02:34:55.703Z"
   },
   {
    "duration": -805,
    "start_time": "2021-12-02T02:34:55.705Z"
   },
   {
    "duration": 910,
    "start_time": "2021-12-02T02:35:38.878Z"
   },
   {
    "duration": 1307,
    "start_time": "2021-12-02T02:36:15.568Z"
   },
   {
    "duration": 385,
    "start_time": "2021-12-02T02:36:16.877Z"
   },
   {
    "duration": 135,
    "start_time": "2021-12-02T02:36:17.264Z"
   },
   {
    "duration": 25,
    "start_time": "2021-12-02T02:36:17.405Z"
   },
   {
    "duration": 9,
    "start_time": "2021-12-02T02:36:17.432Z"
   },
   {
    "duration": 43,
    "start_time": "2021-12-02T02:36:17.443Z"
   },
   {
    "duration": 428,
    "start_time": "2021-12-02T02:36:17.488Z"
   },
   {
    "duration": 635,
    "start_time": "2021-12-02T02:36:18.008Z"
   },
   {
    "duration": 11,
    "start_time": "2021-12-02T02:36:18.645Z"
   },
   {
    "duration": 11,
    "start_time": "2021-12-02T02:36:18.658Z"
   },
   {
    "duration": 938,
    "start_time": "2021-12-02T02:36:18.671Z"
   },
   {
    "duration": -562,
    "start_time": "2021-12-02T02:36:20.173Z"
   },
   {
    "duration": -563,
    "start_time": "2021-12-02T02:36:20.175Z"
   },
   {
    "duration": -570,
    "start_time": "2021-12-02T02:36:20.182Z"
   },
   {
    "duration": -720,
    "start_time": "2021-12-02T02:36:20.333Z"
   },
   {
    "duration": 366,
    "start_time": "2021-12-02T02:41:18.680Z"
   },
   {
    "duration": 389,
    "start_time": "2021-12-02T02:41:40.841Z"
   },
   {
    "duration": 418,
    "start_time": "2021-12-02T02:42:00.389Z"
   },
   {
    "duration": 613,
    "start_time": "2021-12-02T02:42:13.610Z"
   },
   {
    "duration": 1150,
    "start_time": "2021-12-02T02:42:42.370Z"
   },
   {
    "duration": 657,
    "start_time": "2021-12-02T02:45:18.823Z"
   },
   {
    "duration": 5,
    "start_time": "2021-12-02T02:48:24.922Z"
   },
   {
    "duration": 5,
    "start_time": "2021-12-02T02:48:47.023Z"
   },
   {
    "duration": 600,
    "start_time": "2021-12-02T02:50:41.982Z"
   },
   {
    "duration": 13,
    "start_time": "2021-12-02T02:51:24.763Z"
   },
   {
    "duration": 1474,
    "start_time": "2021-12-02T02:55:09.620Z"
   },
   {
    "duration": 527,
    "start_time": "2021-12-02T02:55:11.096Z"
   },
   {
    "duration": 190,
    "start_time": "2021-12-02T02:55:11.626Z"
   },
   {
    "duration": 37,
    "start_time": "2021-12-02T02:55:11.819Z"
   },
   {
    "duration": 10,
    "start_time": "2021-12-02T02:55:11.858Z"
   },
   {
    "duration": 74,
    "start_time": "2021-12-02T02:55:11.870Z"
   },
   {
    "duration": 362,
    "start_time": "2021-12-02T02:55:11.946Z"
   },
   {
    "duration": 845,
    "start_time": "2021-12-02T02:55:12.310Z"
   },
   {
    "duration": 11,
    "start_time": "2021-12-02T02:55:13.158Z"
   },
   {
    "duration": 5,
    "start_time": "2021-12-02T02:55:13.171Z"
   },
   {
    "duration": 5,
    "start_time": "2021-12-02T02:55:13.178Z"
   },
   {
    "duration": 4,
    "start_time": "2021-12-02T02:55:13.206Z"
   },
   {
    "duration": 9581,
    "start_time": "2021-12-02T02:55:13.212Z"
   },
   {
    "duration": 543,
    "start_time": "2021-12-02T02:55:22.795Z"
   },
   {
    "duration": 20,
    "start_time": "2021-12-02T02:55:23.340Z"
   },
   {
    "duration": 1455,
    "start_time": "2021-12-02T03:00:41.982Z"
   },
   {
    "duration": 532,
    "start_time": "2021-12-02T03:00:43.440Z"
   },
   {
    "duration": 190,
    "start_time": "2021-12-02T03:00:43.975Z"
   },
   {
    "duration": 50,
    "start_time": "2021-12-02T03:00:44.168Z"
   },
   {
    "duration": 11,
    "start_time": "2021-12-02T03:00:44.220Z"
   },
   {
    "duration": 53,
    "start_time": "2021-12-02T03:00:44.233Z"
   },
   {
    "duration": 523,
    "start_time": "2021-12-02T03:00:44.289Z"
   },
   {
    "duration": 593,
    "start_time": "2021-12-02T03:00:44.818Z"
   },
   {
    "duration": 11,
    "start_time": "2021-12-02T03:00:45.413Z"
   },
   {
    "duration": 10,
    "start_time": "2021-12-02T03:00:45.426Z"
   },
   {
    "duration": 13,
    "start_time": "2021-12-02T03:00:45.438Z"
   },
   {
    "duration": 5,
    "start_time": "2021-12-02T03:00:45.453Z"
   },
   {
    "duration": 9504,
    "start_time": "2021-12-02T03:00:45.460Z"
   },
   {
    "duration": 579,
    "start_time": "2021-12-02T03:00:54.965Z"
   },
   {
    "duration": 18,
    "start_time": "2021-12-02T03:00:55.546Z"
   }
  ],
  "kernelspec": {
   "display_name": "Python 3",
   "language": "python",
   "name": "python3"
  },
  "language_info": {
   "codemirror_mode": {
    "name": "ipython",
    "version": 3
   },
   "file_extension": ".py",
   "mimetype": "text/x-python",
   "name": "python",
   "nbconvert_exporter": "python",
   "pygments_lexer": "ipython3",
   "version": "3.7.6"
  },
  "toc": {
   "base_numbering": 1,
   "nav_menu": {},
   "number_sections": true,
   "sideBar": true,
   "skip_h1_title": true,
   "title_cell": "Table of Contents",
   "title_sidebar": "Contents",
   "toc_cell": false,
   "toc_position": {},
   "toc_section_display": true,
   "toc_window_display": false
  }
 },
 "nbformat": 4,
 "nbformat_minor": 2
}

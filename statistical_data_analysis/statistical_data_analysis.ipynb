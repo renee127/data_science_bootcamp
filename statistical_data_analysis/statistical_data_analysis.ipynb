{
 "cells": [
  {
   "cell_type": "markdown",
   "metadata": {},
   "source": [
    "# Phone Plan Comparision Project\n",
    "\n",
    "\n",
    "- Telecom operator Megaline offers their clients two prepaid plans, Surf and Ultimate. The two plans include charges if the client useage goes over the limit for call minutes, data, or number of messages. \n",
    "- The commercial department requested we perform a preliminary analysis of the two plans for the year 2018 to determine which brings in more revenue. \n",
    "- The commercial department will use our report to adjust the advertising budget.\n",
    "- File(s) accessed: \n",
    "    - /datasets/megaline_calls.csv\n",
    "    - /datasets/megaline_internet.csv\n",
    "    - /datasets/megaline_messages.csv \n",
    "    - /datasets/megaline_plans.csv \n",
    "    - /datasets/megaline_users.csv \n",
    "- We will [Open the data file(s) and study the general information](#general_overview)\n",
    "- Summarize observations in [Introductory conclusion section](#general_overview_conclusion).\n",
    "\n",
    "\n",
    "*   **Project Plan**  \n",
    "\n",
    "    1. **In the [Data preprocessing](#data_preprocessing) stage**:\n",
    "        * We will identify missing values and fill in as appropriate.\n",
    "        * We will removed duplicates.\n",
    "        * We will study data types. Change data types where needed.\n",
    "        * We need to check users_df.churn_date, consider the value of users who've cancelled their plan\n",
    "        * We will summarize observations, actions taken, and rationales in [Data preprocessing conclusion section](#data_preprocessing_conclusion).             \n",
    "    2. **In the [Calculations](#calculations) stage**:\n",
    "        * We need to round each calls_df.duration\n",
    "        * We need to calculate the number of calls per month per user\n",
    "        * We need to calculate the minutes used per month per user\n",
    "        * We need to calculate the volume of data per month per user\n",
    "        * We need to round monthly aggregate of mb_used by user by month\n",
    "        * We need to calculate the number of text messages sent per month per user        \n",
    "        * We will summarize actions taken and rationales in [Calculations conclusion section](#calculations_conclusion).       \n",
    "    3. **In the [Exploratory data analysis](#exploratory_data_analysis) stage**:\n",
    "        * We will test the null hypothesis: \n",
    "            - The average revenue from clients on the Surf plan - the average revenue from clients on the Ultimate plan = 0.\n",
    "        * We will test the null hypothesis: \n",
    "            - The average revenue from clients in NY-NJ area - the average revenue from clients anywhere else = 0.\n",
    "        * We will summarize observations, actions taken, and rationales in [Exploratory data analysis conclusion section](#exploratory_data_analysis_conclusion).       \n",
    "    4. **In the [Overall conclusion](#conclusion)**:\n",
    "        * We will summarize the project's analysis. \n",
    "        \n",
    "        \n",
    "*   **Table of Contents** <a class=\"anchor\" id=\"table_of_contents\"></a> \n",
    "\n",
    "    1. **[Data preprocessing](#data_preprocessing)**\n",
    "        * 1.1 [Data preprocessing conclusion section](#data_preprocessing_conclusion)\n",
    "    2. **[Calculations](#calculations)**\n",
    "        * 2.1 [Calculations conclusion section](#calculations_conclusion)\n",
    "    3. **[Carry out exploratory data analysis](#exploratory_data_analysis)**\n",
    "        * 3.1 [Exploratory data analysis conclusion section](#exploratory_data_analysis_conclusion)\n",
    "    4. **[Overall conclusion](#conclusion)**\n",
    " "
   ]
  },
  {
   "cell_type": "markdown",
   "metadata": {},
   "source": [
    "<a class=\"anchor\" id=\"general_overview\"></a>\n",
    "**Open the data file and study the general information**"
   ]
  },
  {
   "cell_type": "code",
   "execution_count": 1,
   "metadata": {},
   "outputs": [],
   "source": [
    "# import libraries\n",
    "import pandas as pd\n",
    "import numpy as np \n",
    "import matplotlib.pyplot as plt\n",
    "from scipy import stats as st"
   ]
  },
  {
   "cell_type": "code",
   "execution_count": 2,
   "metadata": {},
   "outputs": [],
   "source": [
    "# import sys and insert code to ignore warnings \n",
    "import sys\n",
    "if not sys.warnoptions:\n",
    "    import warnings\n",
    "    warnings.simplefilter(\"ignore\")"
   ]
  },
  {
   "cell_type": "code",
   "execution_count": 3,
   "metadata": {},
   "outputs": [],
   "source": [
    "# load the data \n",
    "try:\n",
    "    calls_df = pd.read_csv('/datasets/megaline_calls.csv')\n",
    "    internet_df = pd.read_csv('/datasets/megaline_internet.csv')\n",
    "    plans_df = pd.read_csv('/datasets/megaline_plans.csv')\n",
    "    messages_df = pd.read_csv('/datasets/megaline_messages.csv')\n",
    "    users_df = pd.read_csv('/datasets/megaline_users.csv')\n",
    "except:\n",
    "    print('ERROR: Unable to find or access file.')"
   ]
  },
  {
   "cell_type": "code",
   "execution_count": 4,
   "metadata": {},
   "outputs": [
    {
     "name": "stdout",
     "output_type": "stream",
     "text": [
      "\n",
      "Rows of plans table\n"
     ]
    },
    {
     "data": {
      "text/html": [
       "<div>\n",
       "<style scoped>\n",
       "    .dataframe tbody tr th:only-of-type {\n",
       "        vertical-align: middle;\n",
       "    }\n",
       "\n",
       "    .dataframe tbody tr th {\n",
       "        vertical-align: top;\n",
       "    }\n",
       "\n",
       "    .dataframe thead th {\n",
       "        text-align: right;\n",
       "    }\n",
       "</style>\n",
       "<table border=\"1\" class=\"dataframe\">\n",
       "  <thead>\n",
       "    <tr style=\"text-align: right;\">\n",
       "      <th></th>\n",
       "      <th>messages_included</th>\n",
       "      <th>mb_per_month_included</th>\n",
       "      <th>minutes_included</th>\n",
       "      <th>usd_monthly_pay</th>\n",
       "      <th>usd_per_gb</th>\n",
       "      <th>usd_per_message</th>\n",
       "      <th>usd_per_minute</th>\n",
       "      <th>plan_name</th>\n",
       "    </tr>\n",
       "  </thead>\n",
       "  <tbody>\n",
       "    <tr>\n",
       "      <td>0</td>\n",
       "      <td>50</td>\n",
       "      <td>15360</td>\n",
       "      <td>500</td>\n",
       "      <td>20</td>\n",
       "      <td>10</td>\n",
       "      <td>0.03</td>\n",
       "      <td>0.03</td>\n",
       "      <td>surf</td>\n",
       "    </tr>\n",
       "    <tr>\n",
       "      <td>1</td>\n",
       "      <td>1000</td>\n",
       "      <td>30720</td>\n",
       "      <td>3000</td>\n",
       "      <td>70</td>\n",
       "      <td>7</td>\n",
       "      <td>0.01</td>\n",
       "      <td>0.01</td>\n",
       "      <td>ultimate</td>\n",
       "    </tr>\n",
       "  </tbody>\n",
       "</table>\n",
       "</div>"
      ],
      "text/plain": [
       "   messages_included  mb_per_month_included  minutes_included  \\\n",
       "0                 50                  15360               500   \n",
       "1               1000                  30720              3000   \n",
       "\n",
       "   usd_monthly_pay  usd_per_gb  usd_per_message  usd_per_minute plan_name  \n",
       "0               20          10             0.03            0.03      surf  \n",
       "1               70           7             0.01            0.01  ultimate  "
      ]
     },
     "execution_count": 4,
     "metadata": {},
     "output_type": "execute_result"
    }
   ],
   "source": [
    "# print the first 5 rows\n",
    "print('\\nRows of plans table')\n",
    "plans_df.head()"
   ]
  },
  {
   "cell_type": "code",
   "execution_count": 5,
   "metadata": {},
   "outputs": [
    {
     "name": "stdout",
     "output_type": "stream",
     "text": [
      "\n",
      "General info of plans table\n",
      "\n",
      "<class 'pandas.core.frame.DataFrame'>\n",
      "RangeIndex: 2 entries, 0 to 1\n",
      "Data columns (total 8 columns):\n",
      "messages_included        2 non-null int64\n",
      "mb_per_month_included    2 non-null int64\n",
      "minutes_included         2 non-null int64\n",
      "usd_monthly_pay          2 non-null int64\n",
      "usd_per_gb               2 non-null int64\n",
      "usd_per_message          2 non-null float64\n",
      "usd_per_minute           2 non-null float64\n",
      "plan_name                2 non-null object\n",
      "dtypes: float64(2), int64(5), object(1)\n",
      "memory usage: 256.0+ bytes\n",
      "None\n",
      "\n",
      "Number of duplicate rows: 0\n",
      "\n",
      "Number rows and columns: (2, 8)\n"
     ]
    }
   ],
   "source": [
    "# df general info\n",
    "print('\\nGeneral info of plans table\\n')\n",
    "print(plans_df.info())\n",
    "# check df for duplicates \n",
    "print('\\nNumber of duplicate rows:', plans_df.duplicated().sum())\n",
    "# check df for shape \n",
    "print('\\nNumber rows and columns:', plans_df.shape)"
   ]
  },
  {
   "cell_type": "markdown",
   "metadata": {},
   "source": [
    "The **plans table** has 2 rows in 8 columns and there are no missing values and no duplicate rows.\n",
    "\n",
    "The information matches the information given in the program brief.\n",
    "\n",
    "Column | Data Type | Description \n",
    "------------ | ------------- | -----------------\n",
    "messages_included | int64 | monthly text allowance\n",
    "mb_per_month_included | int64 | data volume allowance (in megabytes)  \n",
    "minutes_included  | int64 | monthly minute allowance\n",
    "usd_monthly_pay | int64 | monthly charge in US dollars\n",
    "usd_per_gb | int64 | price per extra gigabyte of data after exceeding the package limits (1 GB = 1024 megabytes)\n",
    "usd_per_message | float64 | price per text after exceeding the package limit  \n",
    "usd_per_minute | float64 | price per minute after exceeding the package limits\n",
    "plan_name  | object | calling plan name\n",
    "\n",
    "**plans_df** We will change and/or optimize the datatypes of messages_included,\tmb_per_month_included,\tminutes_included, usd_monthly_pay, usd_per_gb, usd_per_message,\tusd_per_minute,\tplan_name. "
   ]
  },
  {
   "cell_type": "code",
   "execution_count": 6,
   "metadata": {},
   "outputs": [
    {
     "name": "stdout",
     "output_type": "stream",
     "text": [
      "\n",
      "First 5 rows of calls table\n"
     ]
    },
    {
     "data": {
      "text/html": [
       "<div>\n",
       "<style scoped>\n",
       "    .dataframe tbody tr th:only-of-type {\n",
       "        vertical-align: middle;\n",
       "    }\n",
       "\n",
       "    .dataframe tbody tr th {\n",
       "        vertical-align: top;\n",
       "    }\n",
       "\n",
       "    .dataframe thead th {\n",
       "        text-align: right;\n",
       "    }\n",
       "</style>\n",
       "<table border=\"1\" class=\"dataframe\">\n",
       "  <thead>\n",
       "    <tr style=\"text-align: right;\">\n",
       "      <th></th>\n",
       "      <th>id</th>\n",
       "      <th>user_id</th>\n",
       "      <th>call_date</th>\n",
       "      <th>duration</th>\n",
       "    </tr>\n",
       "  </thead>\n",
       "  <tbody>\n",
       "    <tr>\n",
       "      <td>0</td>\n",
       "      <td>1000_93</td>\n",
       "      <td>1000</td>\n",
       "      <td>2018-12-27</td>\n",
       "      <td>8.52</td>\n",
       "    </tr>\n",
       "    <tr>\n",
       "      <td>1</td>\n",
       "      <td>1000_145</td>\n",
       "      <td>1000</td>\n",
       "      <td>2018-12-27</td>\n",
       "      <td>13.66</td>\n",
       "    </tr>\n",
       "    <tr>\n",
       "      <td>2</td>\n",
       "      <td>1000_247</td>\n",
       "      <td>1000</td>\n",
       "      <td>2018-12-27</td>\n",
       "      <td>14.48</td>\n",
       "    </tr>\n",
       "    <tr>\n",
       "      <td>3</td>\n",
       "      <td>1000_309</td>\n",
       "      <td>1000</td>\n",
       "      <td>2018-12-28</td>\n",
       "      <td>5.76</td>\n",
       "    </tr>\n",
       "    <tr>\n",
       "      <td>4</td>\n",
       "      <td>1000_380</td>\n",
       "      <td>1000</td>\n",
       "      <td>2018-12-30</td>\n",
       "      <td>4.22</td>\n",
       "    </tr>\n",
       "  </tbody>\n",
       "</table>\n",
       "</div>"
      ],
      "text/plain": [
       "         id  user_id   call_date  duration\n",
       "0   1000_93     1000  2018-12-27      8.52\n",
       "1  1000_145     1000  2018-12-27     13.66\n",
       "2  1000_247     1000  2018-12-27     14.48\n",
       "3  1000_309     1000  2018-12-28      5.76\n",
       "4  1000_380     1000  2018-12-30      4.22"
      ]
     },
     "execution_count": 6,
     "metadata": {},
     "output_type": "execute_result"
    }
   ],
   "source": [
    "# print the first 5 rows of the dataframe\n",
    "print('\\nFirst 5 rows of calls table')\n",
    "calls_df.head()"
   ]
  },
  {
   "cell_type": "code",
   "execution_count": 7,
   "metadata": {},
   "outputs": [
    {
     "name": "stdout",
     "output_type": "stream",
     "text": [
      "\n",
      "General info for calls table\n",
      "\n",
      "<class 'pandas.core.frame.DataFrame'>\n",
      "RangeIndex: 137735 entries, 0 to 137734\n",
      "Data columns (total 4 columns):\n",
      "id           137735 non-null object\n",
      "user_id      137735 non-null int64\n",
      "call_date    137735 non-null object\n",
      "duration     137735 non-null float64\n",
      "dtypes: float64(1), int64(1), object(2)\n",
      "memory usage: 4.2+ MB\n",
      "None\n",
      "\n",
      "Number of duplicate rows: 0\n",
      "\n",
      "Number rows and columns: (137735, 4)\n",
      "\n",
      "Number of unique id: 137735\n",
      "\n",
      "Number of unique user_id: 481\n"
     ]
    }
   ],
   "source": [
    "# df general info\n",
    "print('\\nGeneral info for calls table\\n')\n",
    "print(calls_df.info())\n",
    "# check df for duplicates \n",
    "print('\\nNumber of duplicate rows:', calls_df.duplicated().sum())\n",
    "# check df for shape \n",
    "print('\\nNumber rows and columns:', calls_df.shape)\n",
    "# check df cols for unique values\n",
    "print('\\nNumber of unique id:', calls_df.id.nunique())\n",
    "# check df cols for unique values\n",
    "print('\\nNumber of unique user_id:', calls_df.user_id.nunique())"
   ]
  },
  {
   "cell_type": "code",
   "execution_count": 8,
   "metadata": {},
   "outputs": [
    {
     "name": "stdout",
     "output_type": "stream",
     "text": [
      "Statistics for duration in calls table\n"
     ]
    },
    {
     "data": {
      "text/plain": [
       "count    137735.000000\n",
       "mean          6.745927\n",
       "std           5.839241\n",
       "min           0.000000\n",
       "25%           1.290000\n",
       "50%           5.980000\n",
       "75%          10.690000\n",
       "max          37.600000\n",
       "Name: duration, dtype: float64"
      ]
     },
     "execution_count": 8,
     "metadata": {},
     "output_type": "execute_result"
    }
   ],
   "source": [
    "# check general statistics for dataframe\n",
    "print('Statistics for duration in calls table')\n",
    "calls_df.duration.describe()"
   ]
  },
  {
   "cell_type": "code",
   "execution_count": 9,
   "metadata": {},
   "outputs": [
    {
     "name": "stdout",
     "output_type": "stream",
     "text": [
      "The mean of duration is 6.75 and the median is: 5.98\n",
      "That is a difference of 12.04%.\n"
     ]
    }
   ],
   "source": [
    "# investigate mean and median of duration\n",
    "duration_mean = calls_df.duration.mean()\n",
    "duration_median = calls_df.duration.median()\n",
    "# Percentage difference = Absolute difference / Average x 100\n",
    "pct = abs(((duration_mean - duration_median)/ \\\n",
    "           ((duration_mean + duration_median)/2)*100)).round(2)\n",
    "print('The mean of duration is', duration_mean.round(2), 'and the median is:', duration_median)\n",
    "print('That is a difference of '+ str(pct) +'%.')"
   ]
  },
  {
   "cell_type": "code",
   "execution_count": 10,
   "metadata": {},
   "outputs": [
    {
     "name": "stdout",
     "output_type": "stream",
     "text": [
      "Overall info for calls table\n"
     ]
    },
    {
     "data": {
      "text/html": [
       "<div>\n",
       "<style scoped>\n",
       "    .dataframe tbody tr th:only-of-type {\n",
       "        vertical-align: middle;\n",
       "    }\n",
       "\n",
       "    .dataframe tbody tr th {\n",
       "        vertical-align: top;\n",
       "    }\n",
       "\n",
       "    .dataframe thead th {\n",
       "        text-align: right;\n",
       "    }\n",
       "</style>\n",
       "<table border=\"1\" class=\"dataframe\">\n",
       "  <thead>\n",
       "    <tr style=\"text-align: right;\">\n",
       "      <th></th>\n",
       "      <th>id</th>\n",
       "      <th>user_id</th>\n",
       "      <th>call_date</th>\n",
       "      <th>duration</th>\n",
       "    </tr>\n",
       "  </thead>\n",
       "  <tbody>\n",
       "    <tr>\n",
       "      <td>1</td>\n",
       "      <td>1000_145</td>\n",
       "      <td>1000</td>\n",
       "      <td>2018-12-27</td>\n",
       "      <td>13.66</td>\n",
       "    </tr>\n",
       "    <tr>\n",
       "      <td>2</td>\n",
       "      <td>1000_247</td>\n",
       "      <td>1000</td>\n",
       "      <td>2018-12-27</td>\n",
       "      <td>14.48</td>\n",
       "    </tr>\n",
       "    <tr>\n",
       "      <td>3</td>\n",
       "      <td>1000_309</td>\n",
       "      <td>1000</td>\n",
       "      <td>2018-12-28</td>\n",
       "      <td>5.76</td>\n",
       "    </tr>\n",
       "    <tr>\n",
       "      <td>4</td>\n",
       "      <td>1000_380</td>\n",
       "      <td>1000</td>\n",
       "      <td>2018-12-30</td>\n",
       "      <td>4.22</td>\n",
       "    </tr>\n",
       "    <tr>\n",
       "      <td>5</td>\n",
       "      <td>1000_388</td>\n",
       "      <td>1000</td>\n",
       "      <td>2018-12-31</td>\n",
       "      <td>2.20</td>\n",
       "    </tr>\n",
       "    <tr>\n",
       "      <td>...</td>\n",
       "      <td>...</td>\n",
       "      <td>...</td>\n",
       "      <td>...</td>\n",
       "      <td>...</td>\n",
       "    </tr>\n",
       "    <tr>\n",
       "      <td>137626</td>\n",
       "      <td>1499_95</td>\n",
       "      <td>1499</td>\n",
       "      <td>2018-09-05</td>\n",
       "      <td>6.35</td>\n",
       "    </tr>\n",
       "    <tr>\n",
       "      <td>137627</td>\n",
       "      <td>1499_96</td>\n",
       "      <td>1499</td>\n",
       "      <td>2018-12-21</td>\n",
       "      <td>12.85</td>\n",
       "    </tr>\n",
       "    <tr>\n",
       "      <td>137628</td>\n",
       "      <td>1499_97</td>\n",
       "      <td>1499</td>\n",
       "      <td>2018-10-14</td>\n",
       "      <td>3.21</td>\n",
       "    </tr>\n",
       "    <tr>\n",
       "      <td>137629</td>\n",
       "      <td>1499_98</td>\n",
       "      <td>1499</td>\n",
       "      <td>2018-12-09</td>\n",
       "      <td>12.28</td>\n",
       "    </tr>\n",
       "    <tr>\n",
       "      <td>137630</td>\n",
       "      <td>1499_99</td>\n",
       "      <td>1499</td>\n",
       "      <td>2018-10-04</td>\n",
       "      <td>0.00</td>\n",
       "    </tr>\n",
       "  </tbody>\n",
       "</table>\n",
       "<p>137735 rows × 4 columns</p>\n",
       "</div>"
      ],
      "text/plain": [
       "              id  user_id   call_date  duration\n",
       "1       1000_145     1000  2018-12-27     13.66\n",
       "2       1000_247     1000  2018-12-27     14.48\n",
       "3       1000_309     1000  2018-12-28      5.76\n",
       "4       1000_380     1000  2018-12-30      4.22\n",
       "5       1000_388     1000  2018-12-31      2.20\n",
       "...          ...      ...         ...       ...\n",
       "137626   1499_95     1499  2018-09-05      6.35\n",
       "137627   1499_96     1499  2018-12-21     12.85\n",
       "137628   1499_97     1499  2018-10-14      3.21\n",
       "137629   1499_98     1499  2018-12-09     12.28\n",
       "137630   1499_99     1499  2018-10-04      0.00\n",
       "\n",
       "[137735 rows x 4 columns]"
      ]
     },
     "execution_count": 10,
     "metadata": {},
     "output_type": "execute_result"
    }
   ],
   "source": [
    "# overall info for dataframe\n",
    "print('Overall info for calls table')\n",
    "calls_df.sort_values(by='id', na_position='first')"
   ]
  },
  {
   "cell_type": "markdown",
   "metadata": {},
   "source": [
    "The **calls table** has 137735 rows in 4 columns and there are no missing values and no duplicate rows.\n",
    "The duration mean and the median have a 12.04% percent difference and may need to be addressed in the preprocessing section. \n",
    "\n",
    "The table catalogs 137735 call sessions from 481 unique users.\n",
    "\n",
    "This table provides useful information on call duration, but we need to be mindful that the duration is in fractions of minutes. \n",
    "In the calculation section we need to round this up to the next integer.\n",
    "\n",
    "Column | Data Type | Description \n",
    "------------ | ------------- | -----------------\n",
    "id | object | unique call identifier\n",
    "call_date | int64 | call date  \n",
    "duration  | object | call duration (in minutes)\n",
    "user_id  | float64 | the identifier of the user making the call\n",
    "\n",
    "**calls_df** We will change and/or optimize the datatypes of call_date, duration, and user_id. id will not be changed because it doesn't have low cardinality."
   ]
  },
  {
   "cell_type": "code",
   "execution_count": 11,
   "metadata": {},
   "outputs": [
    {
     "name": "stdout",
     "output_type": "stream",
     "text": [
      "\n",
      "First 5 rows of internet table\n"
     ]
    },
    {
     "data": {
      "text/html": [
       "<div>\n",
       "<style scoped>\n",
       "    .dataframe tbody tr th:only-of-type {\n",
       "        vertical-align: middle;\n",
       "    }\n",
       "\n",
       "    .dataframe tbody tr th {\n",
       "        vertical-align: top;\n",
       "    }\n",
       "\n",
       "    .dataframe thead th {\n",
       "        text-align: right;\n",
       "    }\n",
       "</style>\n",
       "<table border=\"1\" class=\"dataframe\">\n",
       "  <thead>\n",
       "    <tr style=\"text-align: right;\">\n",
       "      <th></th>\n",
       "      <th>id</th>\n",
       "      <th>user_id</th>\n",
       "      <th>session_date</th>\n",
       "      <th>mb_used</th>\n",
       "    </tr>\n",
       "  </thead>\n",
       "  <tbody>\n",
       "    <tr>\n",
       "      <td>0</td>\n",
       "      <td>1000_13</td>\n",
       "      <td>1000</td>\n",
       "      <td>2018-12-29</td>\n",
       "      <td>89.86</td>\n",
       "    </tr>\n",
       "    <tr>\n",
       "      <td>1</td>\n",
       "      <td>1000_204</td>\n",
       "      <td>1000</td>\n",
       "      <td>2018-12-31</td>\n",
       "      <td>0.00</td>\n",
       "    </tr>\n",
       "    <tr>\n",
       "      <td>2</td>\n",
       "      <td>1000_379</td>\n",
       "      <td>1000</td>\n",
       "      <td>2018-12-28</td>\n",
       "      <td>660.40</td>\n",
       "    </tr>\n",
       "    <tr>\n",
       "      <td>3</td>\n",
       "      <td>1000_413</td>\n",
       "      <td>1000</td>\n",
       "      <td>2018-12-26</td>\n",
       "      <td>270.99</td>\n",
       "    </tr>\n",
       "    <tr>\n",
       "      <td>4</td>\n",
       "      <td>1000_442</td>\n",
       "      <td>1000</td>\n",
       "      <td>2018-12-27</td>\n",
       "      <td>880.22</td>\n",
       "    </tr>\n",
       "  </tbody>\n",
       "</table>\n",
       "</div>"
      ],
      "text/plain": [
       "         id  user_id session_date  mb_used\n",
       "0   1000_13     1000   2018-12-29    89.86\n",
       "1  1000_204     1000   2018-12-31     0.00\n",
       "2  1000_379     1000   2018-12-28   660.40\n",
       "3  1000_413     1000   2018-12-26   270.99\n",
       "4  1000_442     1000   2018-12-27   880.22"
      ]
     },
     "execution_count": 11,
     "metadata": {},
     "output_type": "execute_result"
    }
   ],
   "source": [
    "# print the first 5 rows\n",
    "print('\\nFirst 5 rows of internet table')\n",
    "internet_df.head()"
   ]
  },
  {
   "cell_type": "code",
   "execution_count": 12,
   "metadata": {},
   "outputs": [
    {
     "name": "stdout",
     "output_type": "stream",
     "text": [
      "\n",
      "General info for internet table\n",
      "\n",
      "<class 'pandas.core.frame.DataFrame'>\n",
      "RangeIndex: 104825 entries, 0 to 104824\n",
      "Data columns (total 4 columns):\n",
      "id              104825 non-null object\n",
      "user_id         104825 non-null int64\n",
      "session_date    104825 non-null object\n",
      "mb_used         104825 non-null float64\n",
      "dtypes: float64(1), int64(1), object(2)\n",
      "memory usage: 3.2+ MB\n",
      "None\n",
      "\n",
      "Number of duplicate rows: 0\n",
      "\n",
      "Number rows and columns: (104825, 4)\n",
      "\n",
      "Number of unique id: 104825\n",
      "\n",
      "Number of unique user_id: 489\n"
     ]
    }
   ],
   "source": [
    "# df general info\n",
    "print('\\nGeneral info for internet table\\n')\n",
    "print(internet_df.info())\n",
    "# check df for duplicates \n",
    "print('\\nNumber of duplicate rows:', internet_df.duplicated().sum())\n",
    "# check df for shape \n",
    "print('\\nNumber rows and columns:', internet_df.shape)\n",
    "# check df cols for unique values\n",
    "print('\\nNumber of unique id:', internet_df.id.nunique())\n",
    "# check df cols for unique values\n",
    "print('\\nNumber of unique user_id:', internet_df.user_id.nunique())"
   ]
  },
  {
   "cell_type": "code",
   "execution_count": 13,
   "metadata": {},
   "outputs": [
    {
     "name": "stdout",
     "output_type": "stream",
     "text": [
      "Statistics for mb_used internet table\n"
     ]
    },
    {
     "data": {
      "text/plain": [
       "count    104825.000000\n",
       "mean        366.713701\n",
       "std         277.170542\n",
       "min           0.000000\n",
       "25%         136.080000\n",
       "50%         343.980000\n",
       "75%         554.610000\n",
       "max        1693.470000\n",
       "Name: mb_used, dtype: float64"
      ]
     },
     "execution_count": 13,
     "metadata": {},
     "output_type": "execute_result"
    }
   ],
   "source": [
    "# check general statistics for dataframe\n",
    "print('Statistics for mb_used internet table')\n",
    "internet_df.mb_used.describe()"
   ]
  },
  {
   "cell_type": "code",
   "execution_count": 14,
   "metadata": {},
   "outputs": [
    {
     "name": "stdout",
     "output_type": "stream",
     "text": [
      "The mean of mb_used is 366.71370102551873 and the median is: 343.98\n",
      "That is a difference of 6.4%.\n"
     ]
    }
   ],
   "source": [
    "# investigate mean and median of mb_used\n",
    "mb_used_mean = internet_df.mb_used.mean()\n",
    "mb_used_median = internet_df.mb_used.median()\n",
    "# Percentage difference = Absolute difference / Average x 100\n",
    "pct = abs(((mb_used_mean - mb_used_median)/ \\\n",
    "           ((mb_used_mean + mb_used_median)/2)*100)).round(2)\n",
    "print('The mean of mb_used is', mb_used_mean, 'and the median is:', mb_used_median)\n",
    "print('That is a difference of '+ str(pct) +'%.')"
   ]
  },
  {
   "cell_type": "code",
   "execution_count": 15,
   "metadata": {},
   "outputs": [
    {
     "name": "stdout",
     "output_type": "stream",
     "text": [
      "Overall info for internet table\n"
     ]
    },
    {
     "data": {
      "text/html": [
       "<div>\n",
       "<style scoped>\n",
       "    .dataframe tbody tr th:only-of-type {\n",
       "        vertical-align: middle;\n",
       "    }\n",
       "\n",
       "    .dataframe tbody tr th {\n",
       "        vertical-align: top;\n",
       "    }\n",
       "\n",
       "    .dataframe thead th {\n",
       "        text-align: right;\n",
       "    }\n",
       "</style>\n",
       "<table border=\"1\" class=\"dataframe\">\n",
       "  <thead>\n",
       "    <tr style=\"text-align: right;\">\n",
       "      <th></th>\n",
       "      <th>id</th>\n",
       "      <th>user_id</th>\n",
       "      <th>session_date</th>\n",
       "      <th>mb_used</th>\n",
       "    </tr>\n",
       "  </thead>\n",
       "  <tbody>\n",
       "    <tr>\n",
       "      <td>0</td>\n",
       "      <td>1000_13</td>\n",
       "      <td>1000</td>\n",
       "      <td>2018-12-29</td>\n",
       "      <td>89.86</td>\n",
       "    </tr>\n",
       "    <tr>\n",
       "      <td>1</td>\n",
       "      <td>1000_204</td>\n",
       "      <td>1000</td>\n",
       "      <td>2018-12-31</td>\n",
       "      <td>0.00</td>\n",
       "    </tr>\n",
       "    <tr>\n",
       "      <td>2</td>\n",
       "      <td>1000_379</td>\n",
       "      <td>1000</td>\n",
       "      <td>2018-12-28</td>\n",
       "      <td>660.40</td>\n",
       "    </tr>\n",
       "    <tr>\n",
       "      <td>3</td>\n",
       "      <td>1000_413</td>\n",
       "      <td>1000</td>\n",
       "      <td>2018-12-26</td>\n",
       "      <td>270.99</td>\n",
       "    </tr>\n",
       "    <tr>\n",
       "      <td>4</td>\n",
       "      <td>1000_442</td>\n",
       "      <td>1000</td>\n",
       "      <td>2018-12-27</td>\n",
       "      <td>880.22</td>\n",
       "    </tr>\n",
       "    <tr>\n",
       "      <td>...</td>\n",
       "      <td>...</td>\n",
       "      <td>...</td>\n",
       "      <td>...</td>\n",
       "      <td>...</td>\n",
       "    </tr>\n",
       "    <tr>\n",
       "      <td>104700</td>\n",
       "      <td>1499_95</td>\n",
       "      <td>1499</td>\n",
       "      <td>2018-10-21</td>\n",
       "      <td>0.00</td>\n",
       "    </tr>\n",
       "    <tr>\n",
       "      <td>104701</td>\n",
       "      <td>1499_96</td>\n",
       "      <td>1499</td>\n",
       "      <td>2018-10-05</td>\n",
       "      <td>359.74</td>\n",
       "    </tr>\n",
       "    <tr>\n",
       "      <td>104702</td>\n",
       "      <td>1499_97</td>\n",
       "      <td>1499</td>\n",
       "      <td>2018-10-12</td>\n",
       "      <td>343.47</td>\n",
       "    </tr>\n",
       "    <tr>\n",
       "      <td>104703</td>\n",
       "      <td>1499_98</td>\n",
       "      <td>1499</td>\n",
       "      <td>2018-11-05</td>\n",
       "      <td>97.51</td>\n",
       "    </tr>\n",
       "    <tr>\n",
       "      <td>104704</td>\n",
       "      <td>1499_99</td>\n",
       "      <td>1499</td>\n",
       "      <td>2018-09-21</td>\n",
       "      <td>179.22</td>\n",
       "    </tr>\n",
       "  </tbody>\n",
       "</table>\n",
       "<p>104825 rows × 4 columns</p>\n",
       "</div>"
      ],
      "text/plain": [
       "              id  user_id session_date  mb_used\n",
       "0        1000_13     1000   2018-12-29    89.86\n",
       "1       1000_204     1000   2018-12-31     0.00\n",
       "2       1000_379     1000   2018-12-28   660.40\n",
       "3       1000_413     1000   2018-12-26   270.99\n",
       "4       1000_442     1000   2018-12-27   880.22\n",
       "...          ...      ...          ...      ...\n",
       "104700   1499_95     1499   2018-10-21     0.00\n",
       "104701   1499_96     1499   2018-10-05   359.74\n",
       "104702   1499_97     1499   2018-10-12   343.47\n",
       "104703   1499_98     1499   2018-11-05    97.51\n",
       "104704   1499_99     1499   2018-09-21   179.22\n",
       "\n",
       "[104825 rows x 4 columns]"
      ]
     },
     "execution_count": 15,
     "metadata": {},
     "output_type": "execute_result"
    }
   ],
   "source": [
    "# overall info for dataframe\n",
    "print('Overall info for internet table')\n",
    "internet_df.sort_values(by='id', na_position='first')"
   ]
  },
  {
   "cell_type": "markdown",
   "metadata": {},
   "source": [
    "The **internet table** has 104825 rows in 4 columns and there are no missing values and no duplicate rows.\n",
    "The mb_used mean and the median are close, with a 6.4% difference. We may need address this in the preprocessing section. \n",
    "\n",
    "The table catalogs 104825 unique sessions of internet use for 489 users.\n",
    "\n",
    "The mb_used column gives us valuable information about the amount of data used, but that amount is per individual web session. Megaline rounds the total for each month from megabytes to gigabytes. We will need to add up the amount of data used for each user for each month and round that up from megabytes to gigabytes.\n",
    "In the calculation section we will create a df with the aggregate of monthly mb_used by user and round those monthly values upwards for calculations.\n",
    "\n",
    "Column | Data Type | Description \n",
    "------------ | ------------- | -----------------\n",
    "id | object | unique session identifier\n",
    "user_id | int64 | user identifier  \n",
    "session_date  | object | web session date\n",
    "mb_used | float64 | the volume of data spent during the session (in megabytes)\n",
    "\n",
    "**internet_df** We will change and/or optimize the datatypes of user_id, session_date, and mb_used. id will not be changed because it doesn't have low cardinality."
   ]
  },
  {
   "cell_type": "code",
   "execution_count": 16,
   "metadata": {},
   "outputs": [
    {
     "name": "stdout",
     "output_type": "stream",
     "text": [
      "\n",
      "First 5 rows of messages table\n"
     ]
    },
    {
     "data": {
      "text/html": [
       "<div>\n",
       "<style scoped>\n",
       "    .dataframe tbody tr th:only-of-type {\n",
       "        vertical-align: middle;\n",
       "    }\n",
       "\n",
       "    .dataframe tbody tr th {\n",
       "        vertical-align: top;\n",
       "    }\n",
       "\n",
       "    .dataframe thead th {\n",
       "        text-align: right;\n",
       "    }\n",
       "</style>\n",
       "<table border=\"1\" class=\"dataframe\">\n",
       "  <thead>\n",
       "    <tr style=\"text-align: right;\">\n",
       "      <th></th>\n",
       "      <th>id</th>\n",
       "      <th>user_id</th>\n",
       "      <th>message_date</th>\n",
       "    </tr>\n",
       "  </thead>\n",
       "  <tbody>\n",
       "    <tr>\n",
       "      <td>0</td>\n",
       "      <td>1000_125</td>\n",
       "      <td>1000</td>\n",
       "      <td>2018-12-27</td>\n",
       "    </tr>\n",
       "    <tr>\n",
       "      <td>1</td>\n",
       "      <td>1000_160</td>\n",
       "      <td>1000</td>\n",
       "      <td>2018-12-31</td>\n",
       "    </tr>\n",
       "    <tr>\n",
       "      <td>2</td>\n",
       "      <td>1000_223</td>\n",
       "      <td>1000</td>\n",
       "      <td>2018-12-31</td>\n",
       "    </tr>\n",
       "    <tr>\n",
       "      <td>3</td>\n",
       "      <td>1000_251</td>\n",
       "      <td>1000</td>\n",
       "      <td>2018-12-27</td>\n",
       "    </tr>\n",
       "    <tr>\n",
       "      <td>4</td>\n",
       "      <td>1000_255</td>\n",
       "      <td>1000</td>\n",
       "      <td>2018-12-26</td>\n",
       "    </tr>\n",
       "  </tbody>\n",
       "</table>\n",
       "</div>"
      ],
      "text/plain": [
       "         id  user_id message_date\n",
       "0  1000_125     1000   2018-12-27\n",
       "1  1000_160     1000   2018-12-31\n",
       "2  1000_223     1000   2018-12-31\n",
       "3  1000_251     1000   2018-12-27\n",
       "4  1000_255     1000   2018-12-26"
      ]
     },
     "execution_count": 16,
     "metadata": {},
     "output_type": "execute_result"
    }
   ],
   "source": [
    "# print the first 5 rows\n",
    "print('\\nFirst 5 rows of messages table')\n",
    "messages_df.head()"
   ]
  },
  {
   "cell_type": "code",
   "execution_count": 17,
   "metadata": {},
   "outputs": [
    {
     "name": "stdout",
     "output_type": "stream",
     "text": [
      "\n",
      "General info of messages table\n",
      "\n",
      "<class 'pandas.core.frame.DataFrame'>\n",
      "RangeIndex: 76051 entries, 0 to 76050\n",
      "Data columns (total 3 columns):\n",
      "id              76051 non-null object\n",
      "user_id         76051 non-null int64\n",
      "message_date    76051 non-null object\n",
      "dtypes: int64(1), object(2)\n",
      "memory usage: 1.7+ MB\n",
      "None\n",
      "\n",
      "Number of duplicate rows: 0\n",
      "\n",
      "Number rows and columns: (76051, 3)\n",
      "\n",
      "Number of unique id: 76051\n",
      "\n",
      "Number of unique user_id: 402\n"
     ]
    }
   ],
   "source": [
    "# df general info\n",
    "print('\\nGeneral info of messages table\\n')\n",
    "print(messages_df.info())\n",
    "# check df for duplicates \n",
    "print('\\nNumber of duplicate rows:', messages_df.duplicated().sum())\n",
    "# check df for shape \n",
    "print('\\nNumber rows and columns:', messages_df.shape)\n",
    "# check df cols for unique values\n",
    "print('\\nNumber of unique id:', messages_df.id.nunique())\n",
    "# check df cols for unique values\n",
    "print('\\nNumber of unique user_id:', messages_df.user_id.nunique())"
   ]
  },
  {
   "cell_type": "markdown",
   "metadata": {},
   "source": [
    "The **messages table** has 76051 rows in 3 columns and there are no missing values and no duplicate rows.\n",
    "\n",
    "The table catalogs 76051 messages from 402 unique users.\n",
    "\n",
    "Column | Data Type | Description \n",
    "------------ | ------------- | -----------------\n",
    "id | object | unique text message identifier\n",
    "user_id | int64 | the identifier of the user sending the text\n",
    "message_date | object | text message date\n",
    "\n",
    "**messages_df** We will change and/or optimize the datatypes of user_id and message date. id will not be changed because it doesn't have low cardinality."
   ]
  },
  {
   "cell_type": "code",
   "execution_count": 18,
   "metadata": {},
   "outputs": [
    {
     "name": "stdout",
     "output_type": "stream",
     "text": [
      "\n",
      "First 5 rows of users\n"
     ]
    },
    {
     "data": {
      "text/html": [
       "<div>\n",
       "<style scoped>\n",
       "    .dataframe tbody tr th:only-of-type {\n",
       "        vertical-align: middle;\n",
       "    }\n",
       "\n",
       "    .dataframe tbody tr th {\n",
       "        vertical-align: top;\n",
       "    }\n",
       "\n",
       "    .dataframe thead th {\n",
       "        text-align: right;\n",
       "    }\n",
       "</style>\n",
       "<table border=\"1\" class=\"dataframe\">\n",
       "  <thead>\n",
       "    <tr style=\"text-align: right;\">\n",
       "      <th></th>\n",
       "      <th>user_id</th>\n",
       "      <th>first_name</th>\n",
       "      <th>last_name</th>\n",
       "      <th>age</th>\n",
       "      <th>city</th>\n",
       "      <th>reg_date</th>\n",
       "      <th>plan</th>\n",
       "      <th>churn_date</th>\n",
       "    </tr>\n",
       "  </thead>\n",
       "  <tbody>\n",
       "    <tr>\n",
       "      <td>0</td>\n",
       "      <td>1000</td>\n",
       "      <td>Anamaria</td>\n",
       "      <td>Bauer</td>\n",
       "      <td>45</td>\n",
       "      <td>Atlanta-Sandy Springs-Roswell, GA MSA</td>\n",
       "      <td>2018-12-24</td>\n",
       "      <td>ultimate</td>\n",
       "      <td>NaN</td>\n",
       "    </tr>\n",
       "    <tr>\n",
       "      <td>1</td>\n",
       "      <td>1001</td>\n",
       "      <td>Mickey</td>\n",
       "      <td>Wilkerson</td>\n",
       "      <td>28</td>\n",
       "      <td>Seattle-Tacoma-Bellevue, WA MSA</td>\n",
       "      <td>2018-08-13</td>\n",
       "      <td>surf</td>\n",
       "      <td>NaN</td>\n",
       "    </tr>\n",
       "    <tr>\n",
       "      <td>2</td>\n",
       "      <td>1002</td>\n",
       "      <td>Carlee</td>\n",
       "      <td>Hoffman</td>\n",
       "      <td>36</td>\n",
       "      <td>Las Vegas-Henderson-Paradise, NV MSA</td>\n",
       "      <td>2018-10-21</td>\n",
       "      <td>surf</td>\n",
       "      <td>NaN</td>\n",
       "    </tr>\n",
       "    <tr>\n",
       "      <td>3</td>\n",
       "      <td>1003</td>\n",
       "      <td>Reynaldo</td>\n",
       "      <td>Jenkins</td>\n",
       "      <td>52</td>\n",
       "      <td>Tulsa, OK MSA</td>\n",
       "      <td>2018-01-28</td>\n",
       "      <td>surf</td>\n",
       "      <td>NaN</td>\n",
       "    </tr>\n",
       "    <tr>\n",
       "      <td>4</td>\n",
       "      <td>1004</td>\n",
       "      <td>Leonila</td>\n",
       "      <td>Thompson</td>\n",
       "      <td>40</td>\n",
       "      <td>Seattle-Tacoma-Bellevue, WA MSA</td>\n",
       "      <td>2018-05-23</td>\n",
       "      <td>surf</td>\n",
       "      <td>NaN</td>\n",
       "    </tr>\n",
       "  </tbody>\n",
       "</table>\n",
       "</div>"
      ],
      "text/plain": [
       "   user_id first_name  last_name  age                                   city  \\\n",
       "0     1000   Anamaria      Bauer   45  Atlanta-Sandy Springs-Roswell, GA MSA   \n",
       "1     1001     Mickey  Wilkerson   28        Seattle-Tacoma-Bellevue, WA MSA   \n",
       "2     1002     Carlee    Hoffman   36   Las Vegas-Henderson-Paradise, NV MSA   \n",
       "3     1003   Reynaldo    Jenkins   52                          Tulsa, OK MSA   \n",
       "4     1004    Leonila   Thompson   40        Seattle-Tacoma-Bellevue, WA MSA   \n",
       "\n",
       "     reg_date      plan churn_date  \n",
       "0  2018-12-24  ultimate        NaN  \n",
       "1  2018-08-13      surf        NaN  \n",
       "2  2018-10-21      surf        NaN  \n",
       "3  2018-01-28      surf        NaN  \n",
       "4  2018-05-23      surf        NaN  "
      ]
     },
     "execution_count": 18,
     "metadata": {},
     "output_type": "execute_result"
    }
   ],
   "source": [
    "# print the first 5 rows\n",
    "print('\\nFirst 5 rows of users')\n",
    "users_df.head()"
   ]
  },
  {
   "cell_type": "code",
   "execution_count": 19,
   "metadata": {},
   "outputs": [
    {
     "name": "stdout",
     "output_type": "stream",
     "text": [
      "\n",
      "General info of users table\n",
      "\n",
      "<class 'pandas.core.frame.DataFrame'>\n",
      "RangeIndex: 500 entries, 0 to 499\n",
      "Data columns (total 8 columns):\n",
      "user_id       500 non-null int64\n",
      "first_name    500 non-null object\n",
      "last_name     500 non-null object\n",
      "age           500 non-null int64\n",
      "city          500 non-null object\n",
      "reg_date      500 non-null object\n",
      "plan          500 non-null object\n",
      "churn_date    34 non-null object\n",
      "dtypes: int64(2), object(6)\n",
      "memory usage: 31.4+ KB\n",
      "None\n",
      "\n",
      "Number of duplicate rows: 0\n",
      "\n",
      "Number rows and columns: (500, 8)\n",
      "\n",
      "Number of unique first_name out of 500: 458\n",
      "\n",
      "Number of unique last_name out of 500: 399\n",
      "\n",
      "Number of unique city out of 500: 73\n",
      "\n",
      "Number of unique plan out of 500: 2 \n",
      "\n",
      "surf        339\n",
      "ultimate    161\n",
      "Name: plan, dtype: int64\n"
     ]
    }
   ],
   "source": [
    "# df general info\n",
    "print('\\nGeneral info of users table\\n')\n",
    "print(users_df.info())\n",
    "# check df for duplicates \n",
    "print('\\nNumber of duplicate rows:', users_df.duplicated().sum())\n",
    "# check df for shape \n",
    "print('\\nNumber rows and columns:', users_df.shape)\n",
    "# check df cols for unique values\n",
    "print('\\nNumber of unique first_name out of 500:', users_df.first_name.nunique())\n",
    "# check df cols for unique values\n",
    "print('\\nNumber of unique last_name out of 500:', users_df.last_name.nunique())\n",
    "# check df cols for unique values\n",
    "print('\\nNumber of unique city out of 500:', users_df.city.nunique())\n",
    "# check df cols for unique values\n",
    "print('\\nNumber of unique plan out of 500:', users_df.plan.nunique(), '\\n')\n",
    "# check proportion in each plan\n",
    "print(users_df['plan'].value_counts().sort_index())"
   ]
  },
  {
   "cell_type": "markdown",
   "metadata": {},
   "source": [
    "The **users table** has 500 rows in 8 columns and there **are** missing values in the churn_date column, but no duplicate rows. The missing values in the churn_date column indicate the calling plan was being used when this database was extracted. \n",
    "\n",
    "Out of 500 users, about 2/3 (339) have the surf plan and 1/3 (161) have the ultimate plan. There are 73 unique locations (city). This city information will be useful in the analysis of renue by location.\n",
    "\n",
    "Column | Data Type | Description \n",
    "------------ | ------------- | -----------------\n",
    "user_id | int64 | unique user identifier\n",
    "first_name  | object | user's name\n",
    "last_name | object | user's last name\n",
    "age  | int64 | user's age (years)\n",
    "city | object | user's city of residence\n",
    "reg_date | object | subscription date (dd, mm, yy)\n",
    "plan  | object | calling plan name\n",
    "churn_date | object |  the date the user stopped using the service \n",
    "\n",
    "**users_df** We will change and/or optimize the datatypes of user_id, age, city, reg_date, plan, churn_date. first_name and last_name will not be changed because they doesn't have low cardinality. "
   ]
  },
  {
   "cell_type": "markdown",
   "metadata": {},
   "source": [
    "<a class=\"anchor\" id=\"general_overview_conclusion\"></a>\n",
    "**Introductory Conclusions**\n",
    "\n",
    "- We loaded 5 dataframes, calls_df, internet_df, plans_df, messages_df, users_df. \n",
    "    - No duplicate rows\n",
    "    - No unexplained missing values (missing values in churn_date indicate the plan is active)\n",
    "    - calls_df.duration and internet_df.mb_used likely have outliers\n",
    "    - users_df.churn_date needs further investigation.\n",
    "    \n",
    "    \n",
    "Table | Unique user_id | Rows | Columns\n",
    "------------ | ----------------- | -------------- | ----------\n",
    "calls_df | 481 | 137735 | 4\n",
    "internet_df | 489 | 104825 | 4\n",
    "messages_df | 402 | 76051 | 3\n",
    "users_df | 500 | 500 | 8\n"
   ]
  },
  {
   "cell_type": "markdown",
   "metadata": {},
   "source": [
    "**[Return to table of contents](#table_of_contents)**"
   ]
  },
  {
   "cell_type": "markdown",
   "metadata": {},
   "source": [
    "<a class=\"anchor\" id=\"data_preprocessing\"></a>\n",
    "**1. Data preprocessing**\n",
    "\n",
    "- Change data types\n",
    "\n",
    "    - **calls_df** We will change and/or optimize the datatypes of call_date, duration, and user_id. id will not be changed because it doesn't have low cardinality.\n",
    "    - **internet_df** We will change and/or optimize the datatypes of user_id, session_date, and mb_used. id will not be changed because it doesn't have low cardinality.\n",
    "    - **plans_df** We will change and/or optimize the datatypes of messages_included,\tmb_per_month_included,\tminutes_included, usd_monthly_pay, usd_per_gb, usd_per_message,\tusd_per_minute,\tplan_name. \n",
    "    - **messages_df** We will change and/or optimize the datatypes of user_id and message date. id will not be changed because it doesn't have low cardinality.\n",
    "    - **users_df** We will change and/or optimize the datatypes of user_id, age, city, reg_date, plan, churn_date. first_name and last_name will not be changed because they doesn't have low cardinality. \n",
    "\n",
    "- Check for outliers, specifically calls_df.duration, internet_df.mb_used\n",
    "- Investigate users_df.churn_date\n",
    "- Check for errors"
   ]
  },
  {
   "cell_type": "code",
   "execution_count": 20,
   "metadata": {},
   "outputs": [],
   "source": [
    "# for dfs: calls_df, internet_df, plans_df, messages_df, users_df\n",
    "# change/downcast datatypes as appropriate\n",
    "# For columns with low cardinality (the amount of unique values is lower than 50% of the count of these values)\n",
    "# changing from object to category will help optimize memory and retrieval\n",
    "\n",
    "calls_df['user_id'] = pd.to_numeric(calls_df['user_id'], downcast='integer')\n",
    "calls_df['call_date'] = pd.to_datetime(calls_df['call_date'], format='%Y-%m-%d')\n",
    "calls_df['duration'] = pd.to_numeric(calls_df['duration'], downcast='integer')\n",
    "\n",
    "internet_df['user_id'] = pd.to_numeric(internet_df['user_id'], downcast='integer')\n",
    "internet_df['session_date'] = pd.to_datetime(internet_df['session_date'], format='%Y-%m-%d')\n",
    "internet_df['mb_used'] = pd.to_numeric(internet_df['mb_used'], downcast='float')\n",
    "\n",
    "plans_df['messages_included'] = pd.to_numeric(plans_df['messages_included'], downcast='integer')\n",
    "plans_df['mb_per_month_included'] = pd.to_numeric(plans_df['mb_per_month_included'], downcast='integer')\n",
    "plans_df['minutes_included'] = pd.to_numeric(plans_df['minutes_included'], downcast='integer')\n",
    "plans_df['usd_monthly_pay'] = pd.to_numeric(plans_df['usd_monthly_pay'], downcast='integer')\n",
    "plans_df['usd_per_gb'] = pd.to_numeric(plans_df['usd_per_gb'], downcast='integer')\n",
    "plans_df['usd_per_message'] = pd.to_numeric(plans_df['usd_per_message'], downcast='float')\n",
    "plans_df['usd_per_minute'] = pd.to_numeric(plans_df['usd_per_minute'], downcast='float')\n",
    "plans_df['plan_name'] = plans_df['plan_name'].astype('category')\n",
    "\n",
    "messages_df['user_id'] = pd.to_numeric(messages_df['user_id'], downcast='integer')\n",
    "messages_df['message_date'] = pd.to_datetime(messages_df['message_date'], format='%Y-%m-%d')\n",
    "\n",
    "users_df['user_id'] = pd.to_numeric(users_df['user_id'], downcast='integer')\n",
    "users_df['age'] = pd.to_numeric(users_df['age'], downcast='integer')\n",
    "users_df['city'] = users_df['city'].astype('category')\n",
    "users_df['reg_date'] = pd.to_datetime(users_df['reg_date'], format='%Y-%m-%d')\n",
    "users_df['plan'] = users_df['plan'].astype('category')\n",
    "users_df['churn_date'] = pd.to_datetime(users_df['churn_date'], format='%Y-%m-%d')"
   ]
  },
  {
   "cell_type": "code",
   "execution_count": 21,
   "metadata": {},
   "outputs": [
    {
     "name": "stdout",
     "output_type": "stream",
     "text": [
      "<class 'pandas.core.frame.DataFrame'>\n",
      "RangeIndex: 137735 entries, 0 to 137734\n",
      "Data columns (total 4 columns):\n",
      "id           137735 non-null object\n",
      "user_id      137735 non-null int16\n",
      "call_date    137735 non-null datetime64[ns]\n",
      "duration     137735 non-null float64\n",
      "dtypes: datetime64[ns](1), float64(1), int16(1), object(1)\n",
      "memory usage: 3.4+ MB\n",
      "\n",
      "calls_df None\n",
      "<class 'pandas.core.frame.DataFrame'>\n",
      "RangeIndex: 104825 entries, 0 to 104824\n",
      "Data columns (total 4 columns):\n",
      "id              104825 non-null object\n",
      "user_id         104825 non-null int16\n",
      "session_date    104825 non-null datetime64[ns]\n",
      "mb_used         104825 non-null float32\n",
      "dtypes: datetime64[ns](1), float32(1), int16(1), object(1)\n",
      "memory usage: 2.2+ MB\n",
      "\n",
      "internet_df None\n",
      "<class 'pandas.core.frame.DataFrame'>\n",
      "RangeIndex: 2 entries, 0 to 1\n",
      "Data columns (total 8 columns):\n",
      "messages_included        2 non-null int16\n",
      "mb_per_month_included    2 non-null int16\n",
      "minutes_included         2 non-null int16\n",
      "usd_monthly_pay          2 non-null int8\n",
      "usd_per_gb               2 non-null int8\n",
      "usd_per_message          2 non-null float32\n",
      "usd_per_minute           2 non-null float32\n",
      "plan_name                2 non-null category\n",
      "dtypes: category(1), float32(2), int16(3), int8(2)\n",
      "memory usage: 258.0 bytes\n",
      "\n",
      "plans_df None\n",
      "<class 'pandas.core.frame.DataFrame'>\n",
      "RangeIndex: 76051 entries, 0 to 76050\n",
      "Data columns (total 3 columns):\n",
      "id              76051 non-null object\n",
      "user_id         76051 non-null int16\n",
      "message_date    76051 non-null datetime64[ns]\n",
      "dtypes: datetime64[ns](1), int16(1), object(1)\n",
      "memory usage: 1.3+ MB\n",
      "\n",
      "messages_df None\n",
      "<class 'pandas.core.frame.DataFrame'>\n",
      "RangeIndex: 500 entries, 0 to 499\n",
      "Data columns (total 8 columns):\n",
      "user_id       500 non-null int16\n",
      "first_name    500 non-null object\n",
      "last_name     500 non-null object\n",
      "age           500 non-null int8\n",
      "city          500 non-null category\n",
      "reg_date      500 non-null datetime64[ns]\n",
      "plan          500 non-null category\n",
      "churn_date    34 non-null datetime64[ns]\n",
      "dtypes: category(2), datetime64[ns](2), int16(1), int8(1), object(2)\n",
      "memory usage: 21.4+ KB\n",
      "users_df None\n"
     ]
    }
   ],
   "source": [
    "# verify all our new columns\n",
    "print('\\ncalls_df',calls_df.info())\n",
    "print('\\ninternet_df',internet_df.info())\n",
    "print('\\nplans_df',plans_df.info())\n",
    "print('\\nmessages_df',messages_df.info())\n",
    "print('users_df', users_df.info())"
   ]
  },
  {
   "cell_type": "markdown",
   "metadata": {},
   "source": [
    "We've changed the datatypes as appropriate. Now we will make a copy of each of our 5 dataframes to save as originals before preprocessing."
   ]
  },
  {
   "cell_type": "code",
   "execution_count": 22,
   "metadata": {},
   "outputs": [],
   "source": [
    "# make copies\n",
    "raw_plans_df = plans_df.copy()\n",
    "raw_calls_df = calls_df.copy()\n",
    "raw_internet_df = internet_df.copy()\n",
    "raw_messages_df = messages_df.copy()\n",
    "raw_users_df = users_df.copy()"
   ]
  },
  {
   "cell_type": "code",
   "execution_count": 23,
   "metadata": {},
   "outputs": [
    {
     "name": "stdout",
     "output_type": "stream",
     "text": [
      "Inspection of plans_df for errors:\n"
     ]
    },
    {
     "data": {
      "text/html": [
       "<div>\n",
       "<style scoped>\n",
       "    .dataframe tbody tr th:only-of-type {\n",
       "        vertical-align: middle;\n",
       "    }\n",
       "\n",
       "    .dataframe tbody tr th {\n",
       "        vertical-align: top;\n",
       "    }\n",
       "\n",
       "    .dataframe thead th {\n",
       "        text-align: right;\n",
       "    }\n",
       "</style>\n",
       "<table border=\"1\" class=\"dataframe\">\n",
       "  <thead>\n",
       "    <tr style=\"text-align: right;\">\n",
       "      <th></th>\n",
       "      <th>messages_included</th>\n",
       "      <th>mb_per_month_included</th>\n",
       "      <th>minutes_included</th>\n",
       "      <th>usd_monthly_pay</th>\n",
       "      <th>usd_per_gb</th>\n",
       "      <th>usd_per_message</th>\n",
       "      <th>usd_per_minute</th>\n",
       "      <th>plan_name</th>\n",
       "    </tr>\n",
       "  </thead>\n",
       "  <tbody>\n",
       "    <tr>\n",
       "      <td>0</td>\n",
       "      <td>50</td>\n",
       "      <td>15360</td>\n",
       "      <td>500</td>\n",
       "      <td>20</td>\n",
       "      <td>10</td>\n",
       "      <td>0.03</td>\n",
       "      <td>0.03</td>\n",
       "      <td>surf</td>\n",
       "    </tr>\n",
       "    <tr>\n",
       "      <td>1</td>\n",
       "      <td>1000</td>\n",
       "      <td>30720</td>\n",
       "      <td>3000</td>\n",
       "      <td>70</td>\n",
       "      <td>7</td>\n",
       "      <td>0.01</td>\n",
       "      <td>0.01</td>\n",
       "      <td>ultimate</td>\n",
       "    </tr>\n",
       "  </tbody>\n",
       "</table>\n",
       "</div>"
      ],
      "text/plain": [
       "   messages_included  mb_per_month_included  minutes_included  \\\n",
       "0                 50                  15360               500   \n",
       "1               1000                  30720              3000   \n",
       "\n",
       "   usd_monthly_pay  usd_per_gb  usd_per_message  usd_per_minute plan_name  \n",
       "0               20          10             0.03            0.03      surf  \n",
       "1               70           7             0.01            0.01  ultimate  "
      ]
     },
     "execution_count": 23,
     "metadata": {},
     "output_type": "execute_result"
    }
   ],
   "source": [
    "print('Inspection of plans_df for errors:')\n",
    "plans_df.head()"
   ]
  },
  {
   "cell_type": "markdown",
   "metadata": {},
   "source": [
    "plans_df matches the information we've been given for the 2 plans. No errors noted."
   ]
  },
  {
   "cell_type": "code",
   "execution_count": 24,
   "metadata": {},
   "outputs": [
    {
     "name": "stdout",
     "output_type": "stream",
     "text": [
      "\n",
      "id distribution\n",
      "          id\n",
      "1077_595   1\n",
      "1012_19    1\n",
      "1144_369   1\n",
      "1185_578   1\n",
      "1434_106   1\n",
      "...       ..\n",
      "1249_733   1\n",
      "1022_241   1\n",
      "1497_419   1\n",
      "1246_682   1\n",
      "1399_119   1\n",
      "\n",
      "[137735 rows x 1 columns]\n",
      "\n",
      "user_id distribution\n",
      "      user_id\n",
      "1324     1300\n",
      "1077     1224\n",
      "1334     1140\n",
      "1362     1121\n",
      "1320     1080\n",
      "...       ...\n",
      "1104        4\n",
      "1452        3\n",
      "1306        3\n",
      "1323        3\n",
      "1034        2\n",
      "\n",
      "[481 rows x 1 columns]\n",
      "\n",
      "call_date distribution\n",
      "            call_date\n",
      "2018-12-27       1091\n",
      "2018-12-28       1085\n",
      "2018-12-30       1080\n",
      "2018-12-24       1078\n",
      "2018-12-29       1070\n",
      "...               ...\n",
      "2018-01-17          6\n",
      "2018-01-26          6\n",
      "2018-01-15          5\n",
      "2018-01-18          4\n",
      "2018-01-24          3\n",
      "\n",
      "[351 rows x 1 columns]\n",
      "\n",
      "duration distribution\n",
      "       duration\n",
      "0.00      26834\n",
      "8.37        102\n",
      "4.02        102\n",
      "3.91        101\n",
      "7.61        100\n",
      "...         ...\n",
      "25.53         1\n",
      "29.34         1\n",
      "26.05         1\n",
      "36.24         1\n",
      "27.16         1\n",
      "\n",
      "[2802 rows x 1 columns]\n"
     ]
    }
   ],
   "source": [
    "# check for errors and anomalies in calls_df\n",
    "calls_cols = calls_df[['id', 'user_id', 'call_date', 'duration']]\n",
    "\n",
    "# investigate the distribution of counts of values by columns\n",
    "for column in calls_cols:\n",
    "    print('\\n' + column + ' distribution')\n",
    "    print(calls_df[column].value_counts(dropna=False).to_frame())"
   ]
  },
  {
   "cell_type": "markdown",
   "metadata": {},
   "source": [
    "481 unique users made 137735 calls, but 26834 lasted 0.00 seconds. \n",
    "- Why are there so many calls of 0.0 duration? \n",
    "- Perhaps we should check if there is a relationship with user_id?"
   ]
  },
  {
   "cell_type": "code",
   "execution_count": 25,
   "metadata": {},
   "outputs": [
    {
     "name": "stdout",
     "output_type": "stream",
     "text": [
      "Number of calls per user_id\n",
      "where call duration = 0\n"
     ]
    },
    {
     "data": {
      "text/html": [
       "<div>\n",
       "<style scoped>\n",
       "    .dataframe tbody tr th:only-of-type {\n",
       "        vertical-align: middle;\n",
       "    }\n",
       "\n",
       "    .dataframe tbody tr th {\n",
       "        vertical-align: top;\n",
       "    }\n",
       "\n",
       "    .dataframe thead th {\n",
       "        text-align: right;\n",
       "    }\n",
       "</style>\n",
       "<table border=\"1\" class=\"dataframe\">\n",
       "  <thead>\n",
       "    <tr style=\"text-align: right;\">\n",
       "      <th></th>\n",
       "      <th>id</th>\n",
       "    </tr>\n",
       "    <tr>\n",
       "      <th>user_id</th>\n",
       "      <th></th>\n",
       "    </tr>\n",
       "  </thead>\n",
       "  <tbody>\n",
       "    <tr>\n",
       "      <td>1104</td>\n",
       "      <td>1</td>\n",
       "    </tr>\n",
       "    <tr>\n",
       "      <td>1481</td>\n",
       "      <td>1</td>\n",
       "    </tr>\n",
       "    <tr>\n",
       "      <td>1323</td>\n",
       "      <td>1</td>\n",
       "    </tr>\n",
       "    <tr>\n",
       "      <td>1306</td>\n",
       "      <td>1</td>\n",
       "    </tr>\n",
       "    <tr>\n",
       "      <td>1303</td>\n",
       "      <td>2</td>\n",
       "    </tr>\n",
       "    <tr>\n",
       "      <td>...</td>\n",
       "      <td>...</td>\n",
       "    </tr>\n",
       "    <tr>\n",
       "      <td>1334</td>\n",
       "      <td>224</td>\n",
       "    </tr>\n",
       "    <tr>\n",
       "      <td>1362</td>\n",
       "      <td>224</td>\n",
       "    </tr>\n",
       "    <tr>\n",
       "      <td>1240</td>\n",
       "      <td>228</td>\n",
       "    </tr>\n",
       "    <tr>\n",
       "      <td>1324</td>\n",
       "      <td>236</td>\n",
       "    </tr>\n",
       "    <tr>\n",
       "      <td>1077</td>\n",
       "      <td>249</td>\n",
       "    </tr>\n",
       "  </tbody>\n",
       "</table>\n",
       "<p>478 rows × 1 columns</p>\n",
       "</div>"
      ],
      "text/plain": [
       "          id\n",
       "user_id     \n",
       "1104       1\n",
       "1481       1\n",
       "1323       1\n",
       "1306       1\n",
       "1303       2\n",
       "...      ...\n",
       "1334     224\n",
       "1362     224\n",
       "1240     228\n",
       "1324     236\n",
       "1077     249\n",
       "\n",
       "[478 rows x 1 columns]"
      ]
     },
     "execution_count": 25,
     "metadata": {},
     "output_type": "execute_result"
    }
   ],
   "source": [
    "# create a distribution of number of calls per user_id where duration = 0\n",
    "print('Number of calls per user_id\\nwhere call duration = 0')\n",
    "calls_df.query('duration == 0').pivot_table(index=['user_id'], values=['id'], aggfunc='count').sort_values(by='id')"
   ]
  },
  {
   "cell_type": "code",
   "execution_count": 26,
   "metadata": {
    "scrolled": true
   },
   "outputs": [
    {
     "data": {
      "image/png": "[encoded data removed]",
      "text/plain": [
       "<Figure size 720x432 with 1 Axes>"
      ]
     },
     "metadata": {
      "needs_background": "light"
     },
     "output_type": "display_data"
    }
   ],
   "source": [
    "# graph a distribution of number of calls per user_id where duration = 0\n",
    "calls_df.query(\\\n",
    "               'duration == 0').pivot_table(index=['user_id'],\\\n",
    "                values=['id'], aggfunc='count').sort_values(by='id').\\\n",
    "                hist(bins=249, figsize=(10,6))\n",
    "plt.title('Number of calls per user_id where duration = 0\\n', fontsize=16)\n",
    "plt.ylabel('Number of user_id with that the total number of calls\\n', fontsize=12)\n",
    "plt.xlabel('Total number of calls where duration = 0', fontsize=12)\n",
    "plt.show()"
   ]
  },
  {
   "cell_type": "code",
   "execution_count": 27,
   "metadata": {},
   "outputs": [
    {
     "name": "stdout",
     "output_type": "stream",
     "text": [
      "19% percent of rows have calls with a duration of 0.\n"
     ]
    }
   ],
   "source": [
    "percentage = \"{:.0%}\". format((len(calls_df.query('duration == 0'))/len(calls_df)))\n",
    "print(percentage, \"percent of rows have calls with a duration of 0.\")"
   ]
  },
  {
   "cell_type": "code",
   "execution_count": 28,
   "metadata": {},
   "outputs": [
    {
     "name": "stdout",
     "output_type": "stream",
     "text": [
      "Duration  # of Calls\n",
      "0.00     26834\n",
      "8.37       102\n",
      "4.02       102\n",
      "3.91       101\n",
      "7.61       100\n",
      "         ...  \n",
      "25.53        1\n",
      "29.34        1\n",
      "26.05        1\n",
      "36.24        1\n",
      "27.16        1\n",
      "Name: duration, Length: 2802, dtype: int64\n"
     ]
    }
   ],
   "source": [
    "print('Duration  # of Calls')\n",
    "print(calls_df.duration.value_counts(sort=True))"
   ]
  },
  {
   "cell_type": "markdown",
   "metadata": {},
   "source": [
    "From a total of 481 users, 478 had calls where duration = 0. At most, they had 249 calls of duration 0 and several users only had 1 call where duration = 0. These calls are likely mistakes caused by a computer glitch or human error.\n",
    "\n",
    "This appears fairly random. It is concerning that almost 20% of the total records include these calls, and it will affect calculating the number of calls per user. However, we will filter out these values because it does not affect our calculation of minutes per user or our data analysis of revenue."
   ]
  },
  {
   "cell_type": "code",
   "execution_count": 29,
   "metadata": {},
   "outputs": [
    {
     "name": "stdout",
     "output_type": "stream",
     "text": [
      "Prior to filtering the calls dataframe, the minimum value is: 0.0 and there are 137735 total rows.\n",
      "\n",
      "In the filtered calls dataframe, the minimum value is now: 0.01 and there are 110901 total rows.\n",
      "\n"
     ]
    }
   ],
   "source": [
    "# filter for duration > 0\n",
    "# check the minimum value in duration before filtration\n",
    "print('Prior to filtering the calls dataframe, the minimum value is:',\n",
    "calls_df.duration.min(), 'and there are', len(calls_df), 'total rows.\\n')\n",
    "# filter for duration > 0\n",
    "calls_df = calls_df[calls_df.duration > 0]\n",
    "# verify the filter results\n",
    "print('In the filtered calls dataframe, the minimum value is now:',\n",
    "calls_df.duration.min(), 'and there are', len(calls_df), 'total rows.\\n')"
   ]
  },
  {
   "cell_type": "markdown",
   "metadata": {},
   "source": [
    "We've filtered the dataframe to include only rows where duration > 0 \n",
    "\n",
    "Next, we will check for outliers."
   ]
  },
  {
   "cell_type": "code",
   "execution_count": 30,
   "metadata": {},
   "outputs": [
    {
     "data": {
      "image/png": "[encoded data removed]",
      "text/plain": [
       "<Figure size 432x288 with 1 Axes>"
      ]
     },
     "metadata": {
      "needs_background": "light"
     },
     "output_type": "display_data"
    }
   ],
   "source": [
    "# create a boxplot to check for outliers in duration\n",
    "calls_df.boxplot('duration', fontsize=14)\n",
    "plt.ylabel('Duration of calls\\n', fontsize=14)\n",
    "plt.title('Boxplot of call durations in calls_df\\n', fontsize=16)\n",
    "plt.show()"
   ]
  },
  {
   "cell_type": "code",
   "execution_count": 31,
   "metadata": {},
   "outputs": [
    {
     "name": "stdout",
     "output_type": "stream",
     "text": [
      "Upper bound for duration from calls_df: 23.325\n"
     ]
    }
   ],
   "source": [
    "# calculate and print the outlier upper limits\n",
    "\n",
    "# calculate outlier upper limits price\n",
    "Q1 = calls_df['duration'].quantile(.25)\n",
    "Q3 = calls_df['duration'].quantile(.75)\n",
    "IQR = Q3-Q1\n",
    "upper_outlier_duration = Q3 + 1.5*IQR\n",
    "print('Upper bound for duration from calls_df:', upper_outlier_duration)"
   ]
  },
  {
   "cell_type": "code",
   "execution_count": 32,
   "metadata": {},
   "outputs": [
    {
     "name": "stdout",
     "output_type": "stream",
     "text": [
      "There are 908 calls with a duration above the 23.325 upper outlier limit.\n",
      "This is only a small percentage, 0.008187482529463216 of the total 110901 calls.\n"
     ]
    }
   ],
   "source": [
    "# calculate how many users have more than 24 calls\n",
    "high_calls = calls_df.query('duration > 23.325')\n",
    "high_calls_no = len(high_calls)\n",
    "calls_no = len(calls_df)\n",
    "pct = high_calls_no/calls_no\n",
    "print('There are', high_calls_no, 'calls with a duration above the',\\\n",
    "     upper_outlier_duration, 'upper outlier limit.\\nThis is '\\\n",
    "     'only a small percentage,', pct, 'of the total', calls_no, 'calls.'\n",
    "     )"
   ]
  },
  {
   "cell_type": "markdown",
   "metadata": {},
   "source": [
    "We will filter those calls with a duration above the upper outlier limit."
   ]
  },
  {
   "cell_type": "code",
   "execution_count": 33,
   "metadata": {},
   "outputs": [
    {
     "name": "stdout",
     "output_type": "stream",
     "text": [
      "In the filtered calls dataframe, the maximum value is now: 23.32 and there are 109993 total rows.\n",
      "\n"
     ]
    }
   ],
   "source": [
    "# filter for duration above upper limit\n",
    "calls_df = calls_df[calls_df.duration <= upper_outlier_duration]\n",
    "# verify the filter results\n",
    "print('In the filtered calls dataframe, the maximum value is now:',\n",
    "calls_df.duration.max(), 'and there are', len(calls_df), 'total rows.\\n')"
   ]
  },
  {
   "cell_type": "code",
   "execution_count": 34,
   "metadata": {},
   "outputs": [
    {
     "data": {
      "image/png": "[encoded data removed]",
      "text/plain": [
       "<Figure size 432x288 with 1 Axes>"
      ]
     },
     "metadata": {
      "needs_background": "light"
     },
     "output_type": "display_data"
    }
   ],
   "source": [
    "# create a boxplot to check for outliers in duration\n",
    "calls_df.boxplot('duration', fontsize=14)\n",
    "plt.ylabel('Duration of calls\\n', fontsize=14)\n",
    "plt.title('Boxplot of call durations in calls_df after filtration\\n', fontsize=16)\n",
    "plt.show()"
   ]
  },
  {
   "cell_type": "markdown",
   "metadata": {},
   "source": [
    "We've filtered the calls_df table to remove the outliers and the mistaken calls (calls listed as lasting 0.00) from duration. The other columns don't appear to have errors. \n",
    "\n",
    "Next we will look at the internet_df table, specifically the mb_used column."
   ]
  },
  {
   "cell_type": "code",
   "execution_count": 35,
   "metadata": {},
   "outputs": [
    {
     "data": {
      "image/png": "[encoded data removed]",
      "text/plain": [
       "<Figure size 432x288 with 1 Axes>"
      ]
     },
     "metadata": {
      "needs_background": "light"
     },
     "output_type": "display_data"
    }
   ],
   "source": [
    "# create a boxplot to check for outliers in mb_user of internet table\n",
    "internet_df.boxplot('mb_used', fontsize=14)\n",
    "plt.ylabel('mb\\n', fontsize=14)\n",
    "plt.title('Boxplot of mb_used in the internet_df table\\n', fontsize=16)\n",
    "plt.show()"
   ]
  },
  {
   "cell_type": "code",
   "execution_count": 36,
   "metadata": {},
   "outputs": [
    {
     "name": "stdout",
     "output_type": "stream",
     "text": [
      "Upper bound for duration from calls_df: 1182.4049606323242\n"
     ]
    }
   ],
   "source": [
    "# calculate and print the outlier upper limits\n",
    "\n",
    "# calculate outlier upper limits price\n",
    "Q1 = internet_df['mb_used'].quantile(.25)\n",
    "Q3 = internet_df['mb_used'].quantile(.75)\n",
    "IQR = Q3-Q1\n",
    "upper_outlier_mb = Q3 + 1.5*IQR\n",
    "print('Upper bound for duration from calls_df:', upper_outlier_mb)"
   ]
  },
  {
   "cell_type": "code",
   "execution_count": 37,
   "metadata": {},
   "outputs": [
    {
     "name": "stdout",
     "output_type": "stream",
     "text": [
      "There are 424 calls with a duration above the 1182.4049606323242 upper outlier limit.\n",
      "This is only a small percentage, 0.004044836632482709 of the total 104825 calls.\n"
     ]
    }
   ],
   "source": [
    "# calculate how many sessions use more than 1182 upper limit\n",
    "high_mb = internet_df.query('mb_used > 1182.4049606323242')\n",
    "high_mb_no = len(high_mb)\n",
    "internet_no = len(internet_df)\n",
    "pct = high_mb_no/internet_no\n",
    "print('There are', high_mb_no, 'calls with a duration above the',\\\n",
    "     upper_outlier_mb, 'upper outlier limit.\\nThis is '\\\n",
    "     'only a small percentage,', pct, 'of the total', internet_no, 'calls.'\n",
    "     )"
   ]
  },
  {
   "cell_type": "markdown",
   "metadata": {},
   "source": [
    "We will filter the sessions with mb_used above the upper outlier limit."
   ]
  },
  {
   "cell_type": "code",
   "execution_count": 38,
   "metadata": {},
   "outputs": [
    {
     "name": "stdout",
     "output_type": "stream",
     "text": [
      "In the filtered internet dataframe, the maximum value is now: 1182.1 and there are 104401 total rows.\n",
      "\n"
     ]
    }
   ],
   "source": [
    "# filter for mb_used above upper limit\n",
    "internet_df = internet_df[internet_df.mb_used <= upper_outlier_mb]\n",
    "# verify the filter results\n",
    "print('In the filtered internet dataframe, the maximum value is now:',\n",
    "internet_df.mb_used.max(), 'and there are', len(internet_df), 'total rows.\\n')"
   ]
  },
  {
   "cell_type": "code",
   "execution_count": 39,
   "metadata": {},
   "outputs": [
    {
     "data": {
      "image/png": "[encoded data removed]",
      "text/plain": [
       "<Figure size 432x288 with 1 Axes>"
      ]
     },
     "metadata": {
      "needs_background": "light"
     },
     "output_type": "display_data"
    }
   ],
   "source": [
    "# create a boxplot to check for outliers in mb_user of internet table\n",
    "internet_df.boxplot('mb_used', fontsize=14)\n",
    "plt.ylabel('mb\\n', fontsize=14)\n",
    "plt.title('Boxplot of mb_used in the internet_df table\\n   after filtration', fontsize=16)\n",
    "plt.show()"
   ]
  },
  {
   "cell_type": "markdown",
   "metadata": {},
   "source": [
    "We've successfully eliminated the outlier mb_used values in the internet_df table. No other errors are noted in the internet_df table.\n",
    "\n",
    "No errors are noted in the messages_df table, however there are fewer unique users and that may play a role in analysis.\n",
    "\n",
    "Next we will look at the users table. There are 500 unique users with the first_name, last_name, age, and city. The table also lists the registration date and the plan. Finally, the churn_date indicates the date they stopped the service. We will investigate churn_date, but no errors are noted in the other columns."
   ]
  },
  {
   "cell_type": "code",
   "execution_count": 40,
   "metadata": {},
   "outputs": [
    {
     "name": "stdout",
     "output_type": "stream",
     "text": [
      "Filter churn_date by null value\n",
      "Number of active users = 466\n",
      "\n",
      "There are\n",
      " user_id       34\n",
      "first_name    34\n",
      "last_name     34\n",
      "age           34\n",
      "city          34\n",
      "reg_date      34\n",
      "plan          34\n",
      "churn_date    34\n",
      "dtype: int64 \n",
      "\n",
      "inactive users.\n"
     ]
    }
   ],
   "source": [
    "# create dataframe old_customers for old customers\n",
    "old_customers = users_df.query('churn_date.notnull()')\n",
    "\n",
    "# how many active users do we have\n",
    "print('Filter churn_date by null value')\n",
    "print('Number of active users =', users_df['churn_date'].isnull().sum())\n",
    "print('\\nThere are\\n', old_customers.count(), '\\n\\ninactive users.')"
   ]
  },
  {
   "cell_type": "code",
   "execution_count": 41,
   "metadata": {},
   "outputs": [
    {
     "name": "stdout",
     "output_type": "stream",
     "text": [
      "List of customers who've cancelled the phone plan\n"
     ]
    },
    {
     "data": {
      "text/html": [
       "<div>\n",
       "<style scoped>\n",
       "    .dataframe tbody tr th:only-of-type {\n",
       "        vertical-align: middle;\n",
       "    }\n",
       "\n",
       "    .dataframe tbody tr th {\n",
       "        vertical-align: top;\n",
       "    }\n",
       "\n",
       "    .dataframe thead th {\n",
       "        text-align: right;\n",
       "    }\n",
       "</style>\n",
       "<table border=\"1\" class=\"dataframe\">\n",
       "  <thead>\n",
       "    <tr style=\"text-align: right;\">\n",
       "      <th></th>\n",
       "      <th>user_id</th>\n",
       "      <th>first_name</th>\n",
       "      <th>last_name</th>\n",
       "      <th>age</th>\n",
       "      <th>city</th>\n",
       "      <th>reg_date</th>\n",
       "      <th>plan</th>\n",
       "      <th>churn_date</th>\n",
       "    </tr>\n",
       "  </thead>\n",
       "  <tbody>\n",
       "    <tr>\n",
       "      <td>6</td>\n",
       "      <td>1006</td>\n",
       "      <td>Jesusa</td>\n",
       "      <td>Bradford</td>\n",
       "      <td>73</td>\n",
       "      <td>San Francisco-Oakland-Berkeley, CA MSA</td>\n",
       "      <td>2018-11-27</td>\n",
       "      <td>ultimate</td>\n",
       "      <td>2018-12-18</td>\n",
       "    </tr>\n",
       "    <tr>\n",
       "      <td>12</td>\n",
       "      <td>1012</td>\n",
       "      <td>Jonelle</td>\n",
       "      <td>Mcbride</td>\n",
       "      <td>59</td>\n",
       "      <td>Chicago-Naperville-Elgin, IL-IN-WI MSA</td>\n",
       "      <td>2018-06-28</td>\n",
       "      <td>surf</td>\n",
       "      <td>2018-11-16</td>\n",
       "    </tr>\n",
       "    <tr>\n",
       "      <td>22</td>\n",
       "      <td>1022</td>\n",
       "      <td>Bo</td>\n",
       "      <td>Snow</td>\n",
       "      <td>73</td>\n",
       "      <td>New York-Newark-Jersey City, NY-NJ-PA MSA</td>\n",
       "      <td>2018-04-20</td>\n",
       "      <td>surf</td>\n",
       "      <td>2018-09-07</td>\n",
       "    </tr>\n",
       "    <tr>\n",
       "      <td>40</td>\n",
       "      <td>1040</td>\n",
       "      <td>Paris</td>\n",
       "      <td>Santos</td>\n",
       "      <td>72</td>\n",
       "      <td>Philadelphia-Camden-Wilmington, PA-NJ-DE-MD MSA</td>\n",
       "      <td>2018-12-23</td>\n",
       "      <td>surf</td>\n",
       "      <td>2018-12-30</td>\n",
       "    </tr>\n",
       "    <tr>\n",
       "      <td>50</td>\n",
       "      <td>1050</td>\n",
       "      <td>Jone</td>\n",
       "      <td>Owen</td>\n",
       "      <td>23</td>\n",
       "      <td>Miami-Fort Lauderdale-West Palm Beach, FL MSA</td>\n",
       "      <td>2018-03-20</td>\n",
       "      <td>ultimate</td>\n",
       "      <td>2018-10-07</td>\n",
       "    </tr>\n",
       "    <tr>\n",
       "      <td>54</td>\n",
       "      <td>1054</td>\n",
       "      <td>Denis</td>\n",
       "      <td>Frost</td>\n",
       "      <td>50</td>\n",
       "      <td>Phoenix-Mesa-Chandler, AZ MSA</td>\n",
       "      <td>2018-04-21</td>\n",
       "      <td>surf</td>\n",
       "      <td>2018-12-31</td>\n",
       "    </tr>\n",
       "    <tr>\n",
       "      <td>67</td>\n",
       "      <td>1067</td>\n",
       "      <td>Robt</td>\n",
       "      <td>Allen</td>\n",
       "      <td>37</td>\n",
       "      <td>Grand Rapids-Kentwood, MI MSA</td>\n",
       "      <td>2018-09-24</td>\n",
       "      <td>surf</td>\n",
       "      <td>2018-11-24</td>\n",
       "    </tr>\n",
       "    <tr>\n",
       "      <td>83</td>\n",
       "      <td>1083</td>\n",
       "      <td>Lyndia</td>\n",
       "      <td>Acevedo</td>\n",
       "      <td>65</td>\n",
       "      <td>Los Angeles-Long Beach-Anaheim, CA MSA</td>\n",
       "      <td>2018-10-26</td>\n",
       "      <td>surf</td>\n",
       "      <td>2018-12-18</td>\n",
       "    </tr>\n",
       "    <tr>\n",
       "      <td>84</td>\n",
       "      <td>1084</td>\n",
       "      <td>Wiley</td>\n",
       "      <td>Mckinney</td>\n",
       "      <td>21</td>\n",
       "      <td>Miami-Fort Lauderdale-West Palm Beach, FL MSA</td>\n",
       "      <td>2018-06-04</td>\n",
       "      <td>surf</td>\n",
       "      <td>2018-11-11</td>\n",
       "    </tr>\n",
       "    <tr>\n",
       "      <td>94</td>\n",
       "      <td>1094</td>\n",
       "      <td>Walter</td>\n",
       "      <td>Petersen</td>\n",
       "      <td>54</td>\n",
       "      <td>Los Angeles-Long Beach-Anaheim, CA MSA</td>\n",
       "      <td>2018-10-30</td>\n",
       "      <td>surf</td>\n",
       "      <td>2018-12-12</td>\n",
       "    </tr>\n",
       "    <tr>\n",
       "      <td>106</td>\n",
       "      <td>1106</td>\n",
       "      <td>Eddy</td>\n",
       "      <td>Garrison</td>\n",
       "      <td>47</td>\n",
       "      <td>New York-Newark-Jersey City, NY-NJ-PA MSA</td>\n",
       "      <td>2018-05-10</td>\n",
       "      <td>surf</td>\n",
       "      <td>2018-11-14</td>\n",
       "    </tr>\n",
       "    <tr>\n",
       "      <td>129</td>\n",
       "      <td>1129</td>\n",
       "      <td>Marin</td>\n",
       "      <td>Bolton</td>\n",
       "      <td>70</td>\n",
       "      <td>Baton Rouge, LA MSA</td>\n",
       "      <td>2018-11-10</td>\n",
       "      <td>surf</td>\n",
       "      <td>2018-12-27</td>\n",
       "    </tr>\n",
       "    <tr>\n",
       "      <td>172</td>\n",
       "      <td>1172</td>\n",
       "      <td>Weldon</td>\n",
       "      <td>Robinson</td>\n",
       "      <td>72</td>\n",
       "      <td>Boston-Cambridge-Newton, MA-NH MSA</td>\n",
       "      <td>2018-03-30</td>\n",
       "      <td>surf</td>\n",
       "      <td>2018-11-29</td>\n",
       "    </tr>\n",
       "    <tr>\n",
       "      <td>180</td>\n",
       "      <td>1180</td>\n",
       "      <td>Wonda</td>\n",
       "      <td>Hays</td>\n",
       "      <td>24</td>\n",
       "      <td>New York-Newark-Jersey City, NY-NJ-PA MSA</td>\n",
       "      <td>2018-12-01</td>\n",
       "      <td>surf</td>\n",
       "      <td>2018-12-22</td>\n",
       "    </tr>\n",
       "    <tr>\n",
       "      <td>186</td>\n",
       "      <td>1186</td>\n",
       "      <td>Josiah</td>\n",
       "      <td>Douglas</td>\n",
       "      <td>55</td>\n",
       "      <td>Las Vegas-Henderson-Paradise, NV MSA</td>\n",
       "      <td>2018-12-22</td>\n",
       "      <td>ultimate</td>\n",
       "      <td>2018-12-31</td>\n",
       "    </tr>\n",
       "    <tr>\n",
       "      <td>191</td>\n",
       "      <td>1191</td>\n",
       "      <td>Zack</td>\n",
       "      <td>Waters</td>\n",
       "      <td>75</td>\n",
       "      <td>St. Louis, MO-IL MSA</td>\n",
       "      <td>2018-01-21</td>\n",
       "      <td>ultimate</td>\n",
       "      <td>2018-11-30</td>\n",
       "    </tr>\n",
       "    <tr>\n",
       "      <td>220</td>\n",
       "      <td>1220</td>\n",
       "      <td>Jack</td>\n",
       "      <td>Strong</td>\n",
       "      <td>26</td>\n",
       "      <td>Cincinnati, OH-KY-IN MSA</td>\n",
       "      <td>2018-04-22</td>\n",
       "      <td>surf</td>\n",
       "      <td>2018-10-13</td>\n",
       "    </tr>\n",
       "    <tr>\n",
       "      <td>246</td>\n",
       "      <td>1246</td>\n",
       "      <td>Stevie</td>\n",
       "      <td>Moran</td>\n",
       "      <td>69</td>\n",
       "      <td>Tampa-St. Petersburg-Clearwater, FL MSA</td>\n",
       "      <td>2018-01-09</td>\n",
       "      <td>ultimate</td>\n",
       "      <td>2018-07-31</td>\n",
       "    </tr>\n",
       "    <tr>\n",
       "      <td>269</td>\n",
       "      <td>1269</td>\n",
       "      <td>Irving</td>\n",
       "      <td>Thompson</td>\n",
       "      <td>39</td>\n",
       "      <td>Dallas-Fort Worth-Arlington, TX MSA</td>\n",
       "      <td>2018-09-13</td>\n",
       "      <td>ultimate</td>\n",
       "      <td>2018-12-15</td>\n",
       "    </tr>\n",
       "    <tr>\n",
       "      <td>281</td>\n",
       "      <td>1281</td>\n",
       "      <td>Zack</td>\n",
       "      <td>Hardy</td>\n",
       "      <td>39</td>\n",
       "      <td>Charlotte-Concord-Gastonia, NC-SC MSA</td>\n",
       "      <td>2018-07-23</td>\n",
       "      <td>surf</td>\n",
       "      <td>2018-11-14</td>\n",
       "    </tr>\n",
       "    <tr>\n",
       "      <td>296</td>\n",
       "      <td>1296</td>\n",
       "      <td>Weston</td>\n",
       "      <td>Conley</td>\n",
       "      <td>36</td>\n",
       "      <td>Miami-Fort Lauderdale-West Palm Beach, FL MSA</td>\n",
       "      <td>2018-10-20</td>\n",
       "      <td>ultimate</td>\n",
       "      <td>2018-12-18</td>\n",
       "    </tr>\n",
       "    <tr>\n",
       "      <td>298</td>\n",
       "      <td>1298</td>\n",
       "      <td>Loyce</td>\n",
       "      <td>Cooley</td>\n",
       "      <td>53</td>\n",
       "      <td>Nashville-Davidson–Murfreesboro–Franklin, TN MSA</td>\n",
       "      <td>2018-09-21</td>\n",
       "      <td>surf</td>\n",
       "      <td>2018-12-19</td>\n",
       "    </tr>\n",
       "    <tr>\n",
       "      <td>300</td>\n",
       "      <td>1300</td>\n",
       "      <td>Rene</td>\n",
       "      <td>Frost</td>\n",
       "      <td>23</td>\n",
       "      <td>New York-Newark-Jersey City, NY-NJ-PA MSA</td>\n",
       "      <td>2018-10-21</td>\n",
       "      <td>surf</td>\n",
       "      <td>2018-12-19</td>\n",
       "    </tr>\n",
       "    <tr>\n",
       "      <td>315</td>\n",
       "      <td>1315</td>\n",
       "      <td>Mora</td>\n",
       "      <td>Schroeder</td>\n",
       "      <td>45</td>\n",
       "      <td>Raleigh-Cary, NC MSA</td>\n",
       "      <td>2018-04-26</td>\n",
       "      <td>surf</td>\n",
       "      <td>2018-10-03</td>\n",
       "    </tr>\n",
       "    <tr>\n",
       "      <td>358</td>\n",
       "      <td>1358</td>\n",
       "      <td>Vaughn</td>\n",
       "      <td>Maldonado</td>\n",
       "      <td>20</td>\n",
       "      <td>New York-Newark-Jersey City, NY-NJ-PA MSA</td>\n",
       "      <td>2018-04-26</td>\n",
       "      <td>surf</td>\n",
       "      <td>2018-10-22</td>\n",
       "    </tr>\n",
       "    <tr>\n",
       "      <td>363</td>\n",
       "      <td>1363</td>\n",
       "      <td>Sandee</td>\n",
       "      <td>Lott</td>\n",
       "      <td>33</td>\n",
       "      <td>Seattle-Tacoma-Bellevue, WA MSA</td>\n",
       "      <td>2018-01-05</td>\n",
       "      <td>ultimate</td>\n",
       "      <td>2018-08-16</td>\n",
       "    </tr>\n",
       "    <tr>\n",
       "      <td>402</td>\n",
       "      <td>1402</td>\n",
       "      <td>Jesus</td>\n",
       "      <td>Berry</td>\n",
       "      <td>25</td>\n",
       "      <td>New York-Newark-Jersey City, NY-NJ-PA MSA</td>\n",
       "      <td>2018-06-11</td>\n",
       "      <td>surf</td>\n",
       "      <td>2018-12-26</td>\n",
       "    </tr>\n",
       "    <tr>\n",
       "      <td>414</td>\n",
       "      <td>1414</td>\n",
       "      <td>Georgianne</td>\n",
       "      <td>Herring</td>\n",
       "      <td>30</td>\n",
       "      <td>Urban Honolulu, HI MSA</td>\n",
       "      <td>2018-03-03</td>\n",
       "      <td>surf</td>\n",
       "      <td>2018-09-01</td>\n",
       "    </tr>\n",
       "    <tr>\n",
       "      <td>416</td>\n",
       "      <td>1416</td>\n",
       "      <td>Deja</td>\n",
       "      <td>Moss</td>\n",
       "      <td>25</td>\n",
       "      <td>Minneapolis-St. Paul-Bloomington, MN-WI MSA</td>\n",
       "      <td>2018-10-03</td>\n",
       "      <td>surf</td>\n",
       "      <td>2018-11-21</td>\n",
       "    </tr>\n",
       "    <tr>\n",
       "      <td>441</td>\n",
       "      <td>1441</td>\n",
       "      <td>Piedad</td>\n",
       "      <td>Myers</td>\n",
       "      <td>23</td>\n",
       "      <td>Atlanta-Sandy Springs-Roswell, GA MSA</td>\n",
       "      <td>2018-03-08</td>\n",
       "      <td>ultimate</td>\n",
       "      <td>2018-08-19</td>\n",
       "    </tr>\n",
       "    <tr>\n",
       "      <td>451</td>\n",
       "      <td>1451</td>\n",
       "      <td>Lenard</td>\n",
       "      <td>Harding</td>\n",
       "      <td>53</td>\n",
       "      <td>Charlotte-Concord-Gastonia, NC-SC MSA</td>\n",
       "      <td>2018-02-15</td>\n",
       "      <td>ultimate</td>\n",
       "      <td>2018-12-10</td>\n",
       "    </tr>\n",
       "    <tr>\n",
       "      <td>466</td>\n",
       "      <td>1466</td>\n",
       "      <td>Alphonse</td>\n",
       "      <td>Harmon</td>\n",
       "      <td>56</td>\n",
       "      <td>Los Angeles-Long Beach-Anaheim, CA MSA</td>\n",
       "      <td>2018-01-26</td>\n",
       "      <td>surf</td>\n",
       "      <td>2018-09-17</td>\n",
       "    </tr>\n",
       "    <tr>\n",
       "      <td>467</td>\n",
       "      <td>1467</td>\n",
       "      <td>Nickolas</td>\n",
       "      <td>Deleon</td>\n",
       "      <td>64</td>\n",
       "      <td>Atlanta-Sandy Springs-Roswell, GA MSA</td>\n",
       "      <td>2018-01-31</td>\n",
       "      <td>ultimate</td>\n",
       "      <td>2018-11-18</td>\n",
       "    </tr>\n",
       "    <tr>\n",
       "      <td>491</td>\n",
       "      <td>1491</td>\n",
       "      <td>Terina</td>\n",
       "      <td>Jensen</td>\n",
       "      <td>22</td>\n",
       "      <td>Grand Rapids-Kentwood, MI MSA</td>\n",
       "      <td>2018-04-27</td>\n",
       "      <td>surf</td>\n",
       "      <td>2018-09-18</td>\n",
       "    </tr>\n",
       "  </tbody>\n",
       "</table>\n",
       "</div>"
      ],
      "text/plain": [
       "     user_id  first_name  last_name  age  \\\n",
       "6       1006      Jesusa   Bradford   73   \n",
       "12      1012     Jonelle    Mcbride   59   \n",
       "22      1022          Bo       Snow   73   \n",
       "40      1040       Paris     Santos   72   \n",
       "50      1050        Jone       Owen   23   \n",
       "54      1054       Denis      Frost   50   \n",
       "67      1067        Robt      Allen   37   \n",
       "83      1083      Lyndia    Acevedo   65   \n",
       "84      1084       Wiley   Mckinney   21   \n",
       "94      1094      Walter   Petersen   54   \n",
       "106     1106        Eddy   Garrison   47   \n",
       "129     1129       Marin     Bolton   70   \n",
       "172     1172      Weldon   Robinson   72   \n",
       "180     1180       Wonda       Hays   24   \n",
       "186     1186      Josiah    Douglas   55   \n",
       "191     1191        Zack     Waters   75   \n",
       "220     1220        Jack     Strong   26   \n",
       "246     1246      Stevie      Moran   69   \n",
       "269     1269      Irving   Thompson   39   \n",
       "281     1281        Zack      Hardy   39   \n",
       "296     1296      Weston     Conley   36   \n",
       "298     1298       Loyce     Cooley   53   \n",
       "300     1300        Rene      Frost   23   \n",
       "315     1315        Mora  Schroeder   45   \n",
       "358     1358      Vaughn  Maldonado   20   \n",
       "363     1363      Sandee       Lott   33   \n",
       "402     1402       Jesus      Berry   25   \n",
       "414     1414  Georgianne    Herring   30   \n",
       "416     1416        Deja       Moss   25   \n",
       "441     1441      Piedad      Myers   23   \n",
       "451     1451      Lenard    Harding   53   \n",
       "466     1466    Alphonse     Harmon   56   \n",
       "467     1467    Nickolas     Deleon   64   \n",
       "491     1491      Terina     Jensen   22   \n",
       "\n",
       "                                                 city   reg_date      plan  \\\n",
       "6              San Francisco-Oakland-Berkeley, CA MSA 2018-11-27  ultimate   \n",
       "12             Chicago-Naperville-Elgin, IL-IN-WI MSA 2018-06-28      surf   \n",
       "22          New York-Newark-Jersey City, NY-NJ-PA MSA 2018-04-20      surf   \n",
       "40    Philadelphia-Camden-Wilmington, PA-NJ-DE-MD MSA 2018-12-23      surf   \n",
       "50      Miami-Fort Lauderdale-West Palm Beach, FL MSA 2018-03-20  ultimate   \n",
       "54                      Phoenix-Mesa-Chandler, AZ MSA 2018-04-21      surf   \n",
       "67                      Grand Rapids-Kentwood, MI MSA 2018-09-24      surf   \n",
       "83             Los Angeles-Long Beach-Anaheim, CA MSA 2018-10-26      surf   \n",
       "84      Miami-Fort Lauderdale-West Palm Beach, FL MSA 2018-06-04      surf   \n",
       "94             Los Angeles-Long Beach-Anaheim, CA MSA 2018-10-30      surf   \n",
       "106         New York-Newark-Jersey City, NY-NJ-PA MSA 2018-05-10      surf   \n",
       "129                               Baton Rouge, LA MSA 2018-11-10      surf   \n",
       "172                Boston-Cambridge-Newton, MA-NH MSA 2018-03-30      surf   \n",
       "180         New York-Newark-Jersey City, NY-NJ-PA MSA 2018-12-01      surf   \n",
       "186              Las Vegas-Henderson-Paradise, NV MSA 2018-12-22  ultimate   \n",
       "191                              St. Louis, MO-IL MSA 2018-01-21  ultimate   \n",
       "220                          Cincinnati, OH-KY-IN MSA 2018-04-22      surf   \n",
       "246           Tampa-St. Petersburg-Clearwater, FL MSA 2018-01-09  ultimate   \n",
       "269               Dallas-Fort Worth-Arlington, TX MSA 2018-09-13  ultimate   \n",
       "281             Charlotte-Concord-Gastonia, NC-SC MSA 2018-07-23      surf   \n",
       "296     Miami-Fort Lauderdale-West Palm Beach, FL MSA 2018-10-20  ultimate   \n",
       "298  Nashville-Davidson–Murfreesboro–Franklin, TN MSA 2018-09-21      surf   \n",
       "300         New York-Newark-Jersey City, NY-NJ-PA MSA 2018-10-21      surf   \n",
       "315                              Raleigh-Cary, NC MSA 2018-04-26      surf   \n",
       "358         New York-Newark-Jersey City, NY-NJ-PA MSA 2018-04-26      surf   \n",
       "363                   Seattle-Tacoma-Bellevue, WA MSA 2018-01-05  ultimate   \n",
       "402         New York-Newark-Jersey City, NY-NJ-PA MSA 2018-06-11      surf   \n",
       "414                            Urban Honolulu, HI MSA 2018-03-03      surf   \n",
       "416       Minneapolis-St. Paul-Bloomington, MN-WI MSA 2018-10-03      surf   \n",
       "441             Atlanta-Sandy Springs-Roswell, GA MSA 2018-03-08  ultimate   \n",
       "451             Charlotte-Concord-Gastonia, NC-SC MSA 2018-02-15  ultimate   \n",
       "466            Los Angeles-Long Beach-Anaheim, CA MSA 2018-01-26      surf   \n",
       "467             Atlanta-Sandy Springs-Roswell, GA MSA 2018-01-31  ultimate   \n",
       "491                     Grand Rapids-Kentwood, MI MSA 2018-04-27      surf   \n",
       "\n",
       "    churn_date  \n",
       "6   2018-12-18  \n",
       "12  2018-11-16  \n",
       "22  2018-09-07  \n",
       "40  2018-12-30  \n",
       "50  2018-10-07  \n",
       "54  2018-12-31  \n",
       "67  2018-11-24  \n",
       "83  2018-12-18  \n",
       "84  2018-11-11  \n",
       "94  2018-12-12  \n",
       "106 2018-11-14  \n",
       "129 2018-12-27  \n",
       "172 2018-11-29  \n",
       "180 2018-12-22  \n",
       "186 2018-12-31  \n",
       "191 2018-11-30  \n",
       "220 2018-10-13  \n",
       "246 2018-07-31  \n",
       "269 2018-12-15  \n",
       "281 2018-11-14  \n",
       "296 2018-12-18  \n",
       "298 2018-12-19  \n",
       "300 2018-12-19  \n",
       "315 2018-10-03  \n",
       "358 2018-10-22  \n",
       "363 2018-08-16  \n",
       "402 2018-12-26  \n",
       "414 2018-09-01  \n",
       "416 2018-11-21  \n",
       "441 2018-08-19  \n",
       "451 2018-12-10  \n",
       "466 2018-09-17  \n",
       "467 2018-11-18  \n",
       "491 2018-09-18  "
      ]
     },
     "execution_count": 41,
     "metadata": {},
     "output_type": "execute_result"
    }
   ],
   "source": [
    "# list the info on old customers\n",
    "print('List of customers who\\'ve cancelled the phone plan')\n",
    "old_customers.head(34)"
   ]
  },
  {
   "cell_type": "markdown",
   "metadata": {},
   "source": [
    "There are 34 users out of 500 who no longer have the plan. This data only covers one year, so it is worth considering removing those users from all the tables. First we need to gather more information about the length of time they were on the plan."
   ]
  },
  {
   "cell_type": "code",
   "execution_count": 42,
   "metadata": {},
   "outputs": [
    {
     "name": "stdout",
     "output_type": "stream",
     "text": [
      "Time customers stayed on a plan before cancelling\n",
      "\n",
      "count                          34\n",
      "mean     141 days 15:31:45.882352\n",
      "std       88 days 11:09:34.657552\n",
      "min               7 days 00:00:00\n",
      "25%              59 days 00:00:00\n",
      "50%             152 days 00:00:00\n",
      "75%             200 days 06:00:00\n",
      "max             313 days 00:00:00\n",
      "dtype: object\n"
     ]
    },
    {
     "data": {
      "text/plain": [
       "6      21 days\n",
       "12    141 days\n",
       "22    140 days\n",
       "40      7 days\n",
       "50    201 days\n",
       "54    254 days\n",
       "67     61 days\n",
       "83     53 days\n",
       "84    160 days\n",
       "94     43 days\n",
       "106   188 days\n",
       "129    47 days\n",
       "172   244 days\n",
       "180    21 days\n",
       "186     9 days\n",
       "191   313 days\n",
       "220   174 days\n",
       "246   203 days\n",
       "269    93 days\n",
       "281   114 days\n",
       "296    59 days\n",
       "298    89 days\n",
       "300    59 days\n",
       "315   160 days\n",
       "358   179 days\n",
       "363   223 days\n",
       "402   198 days\n",
       "414   182 days\n",
       "416    49 days\n",
       "441   164 days\n",
       "451   298 days\n",
       "466   234 days\n",
       "467   291 days\n",
       "491   144 days\n",
       "dtype: timedelta64[ns]"
      ]
     },
     "execution_count": 42,
     "metadata": {},
     "output_type": "execute_result"
    }
   ],
   "source": [
    "# investigate churn date for people who cancelled\n",
    "print('Time customers stayed on a plan before cancelling\\n')\n",
    "plan_time = old_customers.churn_date - old_customers.reg_date\n",
    "print(plan_time.describe())\n",
    "plan_time"
   ]
  },
  {
   "cell_type": "markdown",
   "metadata": {},
   "source": [
    "On average, the cancelled accounts lasted for 141 days, with a range between 7 and 313 days. Customers who've cancelled are not our ideal user. \n",
    "\n",
    "Eliminating these users from our tables (users_df, calls_df, internet_df, and messages_df) may ensure consistent data analysis for customers who have been with our service at least one year. But we need to investigate more.\n",
    "\n",
    "First we will create a list of the user_ids from our old customers and then filter the calls/internet/messages tables for these users to gauge the impact deletion could have."
   ]
  },
  {
   "cell_type": "code",
   "execution_count": 43,
   "metadata": {
    "scrolled": true
   },
   "outputs": [
    {
     "name": "stdout",
     "output_type": "stream",
     "text": [
      "There are 34 customers who've cancelled service\n",
      "\n",
      "[1006, 1012, 1022, 1040, 1050, 1054, 1067, 1083, 1084, 1094, 1106, 1129, 1172, 1180, 1186, 1191, 1220, 1246, 1269, 1281, 1296, 1298, 1300, 1315, 1358, 1363, 1402, 1414, 1416, 1441, 1451, 1466, 1467, 1491]\n"
     ]
    }
   ],
   "source": [
    "# store the user_id of the customers who've cancelled in a list\n",
    "users_cx = old_customers['user_id'].to_list()\n",
    "print('There are', len(users_cx), 'customers who\\'ve cancelled service\\n')\n",
    "print(users_cx)"
   ]
  },
  {
   "cell_type": "code",
   "execution_count": 44,
   "metadata": {},
   "outputs": [
    {
     "name": "stdout",
     "output_type": "stream",
     "text": [
      "Cancelled users in calls_df\n"
     ]
    },
    {
     "data": {
      "text/html": [
       "<div>\n",
       "<style scoped>\n",
       "    .dataframe tbody tr th:only-of-type {\n",
       "        vertical-align: middle;\n",
       "    }\n",
       "\n",
       "    .dataframe tbody tr th {\n",
       "        vertical-align: top;\n",
       "    }\n",
       "\n",
       "    .dataframe thead th {\n",
       "        text-align: right;\n",
       "    }\n",
       "</style>\n",
       "<table border=\"1\" class=\"dataframe\">\n",
       "  <thead>\n",
       "    <tr style=\"text-align: right;\">\n",
       "      <th></th>\n",
       "      <th>user_id</th>\n",
       "      <th>duration</th>\n",
       "    </tr>\n",
       "  </thead>\n",
       "  <tbody>\n",
       "    <tr>\n",
       "      <td>count</td>\n",
       "      <td>27.000000</td>\n",
       "      <td>27.000000</td>\n",
       "    </tr>\n",
       "    <tr>\n",
       "      <td>mean</td>\n",
       "      <td>1007.259259</td>\n",
       "      <td>8.010000</td>\n",
       "    </tr>\n",
       "    <tr>\n",
       "      <td>std</td>\n",
       "      <td>0.446576</td>\n",
       "      <td>5.628992</td>\n",
       "    </tr>\n",
       "    <tr>\n",
       "      <td>min</td>\n",
       "      <td>1007.000000</td>\n",
       "      <td>0.150000</td>\n",
       "    </tr>\n",
       "    <tr>\n",
       "      <td>25%</td>\n",
       "      <td>1007.000000</td>\n",
       "      <td>3.430000</td>\n",
       "    </tr>\n",
       "    <tr>\n",
       "      <td>50%</td>\n",
       "      <td>1007.000000</td>\n",
       "      <td>8.460000</td>\n",
       "    </tr>\n",
       "    <tr>\n",
       "      <td>75%</td>\n",
       "      <td>1007.500000</td>\n",
       "      <td>11.415000</td>\n",
       "    </tr>\n",
       "    <tr>\n",
       "      <td>max</td>\n",
       "      <td>1008.000000</td>\n",
       "      <td>17.450000</td>\n",
       "    </tr>\n",
       "  </tbody>\n",
       "</table>\n",
       "</div>"
      ],
      "text/plain": [
       "           user_id   duration\n",
       "count    27.000000  27.000000\n",
       "mean   1007.259259   8.010000\n",
       "std       0.446576   5.628992\n",
       "min    1007.000000   0.150000\n",
       "25%    1007.000000   3.430000\n",
       "50%    1007.000000   8.460000\n",
       "75%    1007.500000  11.415000\n",
       "max    1008.000000  17.450000"
      ]
     },
     "execution_count": 44,
     "metadata": {},
     "output_type": "execute_result"
    }
   ],
   "source": [
    "# find the stats on cancelled users in the dataframe\n",
    "print('Cancelled users in calls_df')\n",
    "calls_df.loc[calls_df.index.isin(users_cx), : ].describe()"
   ]
  },
  {
   "cell_type": "code",
   "execution_count": 45,
   "metadata": {},
   "outputs": [
    {
     "name": "stdout",
     "output_type": "stream",
     "text": [
      "Cancelled users in internet_df\n"
     ]
    },
    {
     "data": {
      "text/html": [
       "<div>\n",
       "<style scoped>\n",
       "    .dataframe tbody tr th:only-of-type {\n",
       "        vertical-align: middle;\n",
       "    }\n",
       "\n",
       "    .dataframe tbody tr th {\n",
       "        vertical-align: top;\n",
       "    }\n",
       "\n",
       "    .dataframe thead th {\n",
       "        text-align: right;\n",
       "    }\n",
       "</style>\n",
       "<table border=\"1\" class=\"dataframe\">\n",
       "  <thead>\n",
       "    <tr style=\"text-align: right;\">\n",
       "      <th></th>\n",
       "      <th>user_id</th>\n",
       "      <th>mb_used</th>\n",
       "    </tr>\n",
       "  </thead>\n",
       "  <tbody>\n",
       "    <tr>\n",
       "      <td>count</td>\n",
       "      <td>33.000000</td>\n",
       "      <td>33.000000</td>\n",
       "    </tr>\n",
       "    <tr>\n",
       "      <td>mean</td>\n",
       "      <td>1007.454545</td>\n",
       "      <td>435.619110</td>\n",
       "    </tr>\n",
       "    <tr>\n",
       "      <td>std</td>\n",
       "      <td>0.753778</td>\n",
       "      <td>318.046021</td>\n",
       "    </tr>\n",
       "    <tr>\n",
       "      <td>min</td>\n",
       "      <td>1006.000000</td>\n",
       "      <td>0.000000</td>\n",
       "    </tr>\n",
       "    <tr>\n",
       "      <td>25%</td>\n",
       "      <td>1007.000000</td>\n",
       "      <td>189.929993</td>\n",
       "    </tr>\n",
       "    <tr>\n",
       "      <td>50%</td>\n",
       "      <td>1007.000000</td>\n",
       "      <td>442.529999</td>\n",
       "    </tr>\n",
       "    <tr>\n",
       "      <td>75%</td>\n",
       "      <td>1008.000000</td>\n",
       "      <td>645.359985</td>\n",
       "    </tr>\n",
       "    <tr>\n",
       "      <td>max</td>\n",
       "      <td>1009.000000</td>\n",
       "      <td>988.239990</td>\n",
       "    </tr>\n",
       "  </tbody>\n",
       "</table>\n",
       "</div>"
      ],
      "text/plain": [
       "           user_id     mb_used\n",
       "count    33.000000   33.000000\n",
       "mean   1007.454545  435.619110\n",
       "std       0.753778  318.046021\n",
       "min    1006.000000    0.000000\n",
       "25%    1007.000000  189.929993\n",
       "50%    1007.000000  442.529999\n",
       "75%    1008.000000  645.359985\n",
       "max    1009.000000  988.239990"
      ]
     },
     "execution_count": 45,
     "metadata": {},
     "output_type": "execute_result"
    }
   ],
   "source": [
    "# find the stats on cancelled users in the dataframe\n",
    "print('Cancelled users in internet_df')\n",
    "internet_df.loc[internet_df.index.isin(users_cx), : ].describe()"
   ]
  },
  {
   "cell_type": "code",
   "execution_count": 46,
   "metadata": {},
   "outputs": [
    {
     "name": "stdout",
     "output_type": "stream",
     "text": [
      "Cancelled users in messages_df\n"
     ]
    },
    {
     "data": {
      "text/html": [
       "<div>\n",
       "<style scoped>\n",
       "    .dataframe tbody tr th:only-of-type {\n",
       "        vertical-align: middle;\n",
       "    }\n",
       "\n",
       "    .dataframe tbody tr th {\n",
       "        vertical-align: top;\n",
       "    }\n",
       "\n",
       "    .dataframe thead th {\n",
       "        text-align: right;\n",
       "    }\n",
       "</style>\n",
       "<table border=\"1\" class=\"dataframe\">\n",
       "  <thead>\n",
       "    <tr style=\"text-align: right;\">\n",
       "      <th></th>\n",
       "      <th>user_id</th>\n",
       "    </tr>\n",
       "  </thead>\n",
       "  <tbody>\n",
       "    <tr>\n",
       "      <td>count</td>\n",
       "      <td>34.000000</td>\n",
       "    </tr>\n",
       "    <tr>\n",
       "      <td>mean</td>\n",
       "      <td>1011.294118</td>\n",
       "    </tr>\n",
       "    <tr>\n",
       "      <td>std</td>\n",
       "      <td>1.528109</td>\n",
       "    </tr>\n",
       "    <tr>\n",
       "      <td>min</td>\n",
       "      <td>1008.000000</td>\n",
       "    </tr>\n",
       "    <tr>\n",
       "      <td>25%</td>\n",
       "      <td>1011.000000</td>\n",
       "    </tr>\n",
       "    <tr>\n",
       "      <td>50%</td>\n",
       "      <td>1011.000000</td>\n",
       "    </tr>\n",
       "    <tr>\n",
       "      <td>75%</td>\n",
       "      <td>1011.000000</td>\n",
       "    </tr>\n",
       "    <tr>\n",
       "      <td>max</td>\n",
       "      <td>1014.000000</td>\n",
       "    </tr>\n",
       "  </tbody>\n",
       "</table>\n",
       "</div>"
      ],
      "text/plain": [
       "           user_id\n",
       "count    34.000000\n",
       "mean   1011.294118\n",
       "std       1.528109\n",
       "min    1008.000000\n",
       "25%    1011.000000\n",
       "50%    1011.000000\n",
       "75%    1011.000000\n",
       "max    1014.000000"
      ]
     },
     "execution_count": 46,
     "metadata": {},
     "output_type": "execute_result"
    }
   ],
   "source": [
    "# find the stats on cancelled users in the dataframe\n",
    "print('Cancelled users in messages_df')\n",
    "messages_df.loc[messages_df.index.isin(users_cx), : ].describe()"
   ]
  },
  {
   "cell_type": "code",
   "execution_count": 47,
   "metadata": {},
   "outputs": [
    {
     "name": "stdout",
     "output_type": "stream",
     "text": [
      "Number of calls from users who've cancelled their plans\n"
     ]
    },
    {
     "data": {
      "text/plain": [
       "7157"
      ]
     },
     "execution_count": 47,
     "metadata": {},
     "output_type": "execute_result"
    }
   ],
   "source": [
    "calls_cx = calls_df[calls_df['user_id'].isin(users_cx)]\n",
    "print('Number of calls from users who\\'ve cancelled their plans')\n",
    "len(calls_cx)"
   ]
  },
  {
   "cell_type": "code",
   "execution_count": 48,
   "metadata": {},
   "outputs": [
    {
     "name": "stdout",
     "output_type": "stream",
     "text": [
      "Number of internet sessions from users who've cancelled their plans\n"
     ]
    },
    {
     "data": {
      "text/plain": [
       "7445"
      ]
     },
     "execution_count": 48,
     "metadata": {},
     "output_type": "execute_result"
    }
   ],
   "source": [
    "internet_cx = internet_df[internet_df['user_id'].isin(users_cx)]\n",
    "print('Number of internet sessions from users who\\'ve cancelled their plans')\n",
    "len(internet_cx)"
   ]
  },
  {
   "cell_type": "code",
   "execution_count": 49,
   "metadata": {},
   "outputs": [
    {
     "name": "stdout",
     "output_type": "stream",
     "text": [
      "Number of messages from users who've cancelled their plans\n"
     ]
    },
    {
     "data": {
      "text/plain": [
       "4397"
      ]
     },
     "execution_count": 49,
     "metadata": {},
     "output_type": "execute_result"
    }
   ],
   "source": [
    "messages_cx = messages_df[messages_df['user_id'].isin(users_cx)]\n",
    "print('Number of messages from users who\\'ve cancelled their plans')\n",
    "len(messages_cx)"
   ]
  },
  {
   "cell_type": "markdown",
   "metadata": {},
   "source": [
    "Each table has rows with records of users who've cancelled their plans\n",
    "\n",
    "Column | Cancelled users | Rows\n",
    "---------- | ------------------ | ----------------- \n",
    "calls_df | 27 | 7157\n",
    "internet_df | 33 | 7445\n",
    "messages_df | 34 | 4397\n",
    "\n",
    "Since there are so many records, and deleting these files may result in deleting a large amount of data from other tables, we will keep these rows. We will delete records only if it may help to improve the analysis. Deleting these records may have the opposite effect."
   ]
  },
  {
   "cell_type": "markdown",
   "metadata": {},
   "source": [
    "<a class=\"anchor\" id=\"data_preprocessing_conclusion\"></a>\n",
    "**1.1 Data preprocessing conclusion**\n",
    "\n",
    "- We changed the datatypes as appropriate\n",
    "- We filtered calls_df.duration to include only rows where duration > 0\n",
    "- We filtered upper outliers from calls_df.duration \n",
    "- We filtered upper outliers from internet_df.mb_used \n",
    "- We explored the rows where users deleted their accounts"
   ]
  },
  {
   "cell_type": "markdown",
   "metadata": {},
   "source": [
    "**[Return to table of contents](#table_of_contents)**"
   ]
  },
  {
   "cell_type": "markdown",
   "metadata": {},
   "source": [
    "<a class=\"anchor\" id=\"calculations\"></a>\n",
    "**2. Calculations**\n",
    "\n",
    "- Round calls_df.duration (minutes rounded by each call)\n",
    "- Calculate the number of calls per month per user\n",
    "- Calculate the minutes used per month per user (minutes rounded by each call)\n",
    "- Calculate the volume of data per month per user (gb rounded by monthly total)\n",
    "- Calculate the number of text messages sent per month per user\n",
    "- Calculate the monthly revenue from each user\n",
    "- Summarize actions taken and rationales in [Calculations conclusion section]"
   ]
  },
  {
   "cell_type": "code",
   "execution_count": 50,
   "metadata": {},
   "outputs": [
    {
     "name": "stdout",
     "output_type": "stream",
     "text": [
      "Top 5 rows of calls_df duration before rounding\n"
     ]
    },
    {
     "data": {
      "text/plain": [
       "0     8.52\n",
       "1    13.66\n",
       "2    14.48\n",
       "3     5.76\n",
       "4     4.22\n",
       "Name: duration, dtype: float64"
      ]
     },
     "execution_count": 50,
     "metadata": {},
     "output_type": "execute_result"
    }
   ],
   "source": [
    "# print top 5 rows of calls_df.duration so we can compare after change\n",
    "print('Top 5 rows of calls_df duration before rounding')\n",
    "calls_df['duration'].head()"
   ]
  },
  {
   "cell_type": "code",
   "execution_count": 51,
   "metadata": {},
   "outputs": [
    {
     "name": "stdout",
     "output_type": "stream",
     "text": [
      "Top 5 rows of calls_df duration after rounding\n"
     ]
    },
    {
     "data": {
      "text/plain": [
       "0     9\n",
       "1    14\n",
       "2    15\n",
       "3     6\n",
       "4     5\n",
       "Name: duration, dtype: int8"
      ]
     },
     "execution_count": 51,
     "metadata": {},
     "output_type": "execute_result"
    }
   ],
   "source": [
    "# round calls_df.duration up to the next minute in integers\n",
    "calls_df['duration'] = calls_df['duration'].apply(np.ceil) \n",
    "print('Top 5 rows of calls_df duration after rounding')\n",
    "# change/downcast integer datatype\n",
    "calls_df['duration'] = pd.to_numeric(calls_df['duration'], downcast='integer')\n",
    "calls_df['duration'].head()"
   ]
  },
  {
   "cell_type": "markdown",
   "metadata": {},
   "source": [
    "Since Megaline rounds seconds up to minutes for each call session, we've rounded each call session in calls_df.duration up to the nearest integer. Next, we will create pivot tables."
   ]
  },
  {
   "cell_type": "code",
   "execution_count": 52,
   "metadata": {},
   "outputs": [
    {
     "name": "stdout",
     "output_type": "stream",
     "text": [
      "\n",
      "Number of calls per month for each user_id\n"
     ]
    },
    {
     "data": {
      "text/html": [
       "<div>\n",
       "<style scoped>\n",
       "    .dataframe tbody tr th:only-of-type {\n",
       "        vertical-align: middle;\n",
       "    }\n",
       "\n",
       "    .dataframe tbody tr th {\n",
       "        vertical-align: top;\n",
       "    }\n",
       "\n",
       "    .dataframe thead th {\n",
       "        text-align: right;\n",
       "    }\n",
       "</style>\n",
       "<table border=\"1\" class=\"dataframe\">\n",
       "  <thead>\n",
       "    <tr style=\"text-align: right;\">\n",
       "      <th>month</th>\n",
       "      <th>1</th>\n",
       "      <th>2</th>\n",
       "      <th>3</th>\n",
       "      <th>4</th>\n",
       "      <th>5</th>\n",
       "      <th>6</th>\n",
       "      <th>7</th>\n",
       "      <th>8</th>\n",
       "      <th>9</th>\n",
       "      <th>10</th>\n",
       "      <th>11</th>\n",
       "      <th>12</th>\n",
       "    </tr>\n",
       "    <tr>\n",
       "      <th>user_id</th>\n",
       "      <th></th>\n",
       "      <th></th>\n",
       "      <th></th>\n",
       "      <th></th>\n",
       "      <th></th>\n",
       "      <th></th>\n",
       "      <th></th>\n",
       "      <th></th>\n",
       "      <th></th>\n",
       "      <th></th>\n",
       "      <th></th>\n",
       "      <th></th>\n",
       "    </tr>\n",
       "  </thead>\n",
       "  <tbody>\n",
       "    <tr>\n",
       "      <td>1000</td>\n",
       "      <td>0.0</td>\n",
       "      <td>0.0</td>\n",
       "      <td>0.0</td>\n",
       "      <td>0.0</td>\n",
       "      <td>0.0</td>\n",
       "      <td>0.0</td>\n",
       "      <td>0.0</td>\n",
       "      <td>0.0</td>\n",
       "      <td>0.0</td>\n",
       "      <td>0.0</td>\n",
       "      <td>0.0</td>\n",
       "      <td>16.0</td>\n",
       "    </tr>\n",
       "    <tr>\n",
       "      <td>1001</td>\n",
       "      <td>0.0</td>\n",
       "      <td>0.0</td>\n",
       "      <td>0.0</td>\n",
       "      <td>0.0</td>\n",
       "      <td>0.0</td>\n",
       "      <td>0.0</td>\n",
       "      <td>0.0</td>\n",
       "      <td>22.0</td>\n",
       "      <td>38.0</td>\n",
       "      <td>47.0</td>\n",
       "      <td>48.0</td>\n",
       "      <td>44.0</td>\n",
       "    </tr>\n",
       "    <tr>\n",
       "      <td>1002</td>\n",
       "      <td>0.0</td>\n",
       "      <td>0.0</td>\n",
       "      <td>0.0</td>\n",
       "      <td>0.0</td>\n",
       "      <td>0.0</td>\n",
       "      <td>0.0</td>\n",
       "      <td>0.0</td>\n",
       "      <td>0.0</td>\n",
       "      <td>0.0</td>\n",
       "      <td>8.0</td>\n",
       "      <td>48.0</td>\n",
       "      <td>37.0</td>\n",
       "    </tr>\n",
       "    <tr>\n",
       "      <td>1003</td>\n",
       "      <td>0.0</td>\n",
       "      <td>0.0</td>\n",
       "      <td>0.0</td>\n",
       "      <td>0.0</td>\n",
       "      <td>0.0</td>\n",
       "      <td>0.0</td>\n",
       "      <td>0.0</td>\n",
       "      <td>0.0</td>\n",
       "      <td>0.0</td>\n",
       "      <td>0.0</td>\n",
       "      <td>0.0</td>\n",
       "      <td>116.0</td>\n",
       "    </tr>\n",
       "    <tr>\n",
       "      <td>1004</td>\n",
       "      <td>0.0</td>\n",
       "      <td>0.0</td>\n",
       "      <td>0.0</td>\n",
       "      <td>0.0</td>\n",
       "      <td>18.0</td>\n",
       "      <td>33.0</td>\n",
       "      <td>44.0</td>\n",
       "      <td>41.0</td>\n",
       "      <td>32.0</td>\n",
       "      <td>47.0</td>\n",
       "      <td>44.0</td>\n",
       "      <td>41.0</td>\n",
       "    </tr>\n",
       "    <tr>\n",
       "      <td>...</td>\n",
       "      <td>...</td>\n",
       "      <td>...</td>\n",
       "      <td>...</td>\n",
       "      <td>...</td>\n",
       "      <td>...</td>\n",
       "      <td>...</td>\n",
       "      <td>...</td>\n",
       "      <td>...</td>\n",
       "      <td>...</td>\n",
       "      <td>...</td>\n",
       "      <td>...</td>\n",
       "      <td>...</td>\n",
       "    </tr>\n",
       "    <tr>\n",
       "      <td>1495</td>\n",
       "      <td>0.0</td>\n",
       "      <td>0.0</td>\n",
       "      <td>0.0</td>\n",
       "      <td>0.0</td>\n",
       "      <td>0.0</td>\n",
       "      <td>0.0</td>\n",
       "      <td>0.0</td>\n",
       "      <td>0.0</td>\n",
       "      <td>37.0</td>\n",
       "      <td>63.0</td>\n",
       "      <td>50.0</td>\n",
       "      <td>56.0</td>\n",
       "    </tr>\n",
       "    <tr>\n",
       "      <td>1496</td>\n",
       "      <td>0.0</td>\n",
       "      <td>0.0</td>\n",
       "      <td>0.0</td>\n",
       "      <td>0.0</td>\n",
       "      <td>0.0</td>\n",
       "      <td>0.0</td>\n",
       "      <td>0.0</td>\n",
       "      <td>14.0</td>\n",
       "      <td>45.0</td>\n",
       "      <td>35.0</td>\n",
       "      <td>32.0</td>\n",
       "      <td>32.0</td>\n",
       "    </tr>\n",
       "    <tr>\n",
       "      <td>1497</td>\n",
       "      <td>0.0</td>\n",
       "      <td>0.0</td>\n",
       "      <td>0.0</td>\n",
       "      <td>0.0</td>\n",
       "      <td>0.0</td>\n",
       "      <td>0.0</td>\n",
       "      <td>0.0</td>\n",
       "      <td>0.0</td>\n",
       "      <td>0.0</td>\n",
       "      <td>0.0</td>\n",
       "      <td>0.0</td>\n",
       "      <td>42.0</td>\n",
       "    </tr>\n",
       "    <tr>\n",
       "      <td>1498</td>\n",
       "      <td>0.0</td>\n",
       "      <td>28.0</td>\n",
       "      <td>29.0</td>\n",
       "      <td>42.0</td>\n",
       "      <td>28.0</td>\n",
       "      <td>29.0</td>\n",
       "      <td>40.0</td>\n",
       "      <td>37.0</td>\n",
       "      <td>39.0</td>\n",
       "      <td>37.0</td>\n",
       "      <td>29.0</td>\n",
       "      <td>32.0</td>\n",
       "    </tr>\n",
       "    <tr>\n",
       "      <td>1499</td>\n",
       "      <td>0.0</td>\n",
       "      <td>0.0</td>\n",
       "      <td>0.0</td>\n",
       "      <td>0.0</td>\n",
       "      <td>0.0</td>\n",
       "      <td>0.0</td>\n",
       "      <td>0.0</td>\n",
       "      <td>0.0</td>\n",
       "      <td>34.0</td>\n",
       "      <td>40.0</td>\n",
       "      <td>39.0</td>\n",
       "      <td>56.0</td>\n",
       "    </tr>\n",
       "  </tbody>\n",
       "</table>\n",
       "<p>481 rows × 12 columns</p>\n",
       "</div>"
      ],
      "text/plain": [
       "month     1     2     3     4     5     6     7     8     9     10    11  \\\n",
       "user_id                                                                    \n",
       "1000     0.0   0.0   0.0   0.0   0.0   0.0   0.0   0.0   0.0   0.0   0.0   \n",
       "1001     0.0   0.0   0.0   0.0   0.0   0.0   0.0  22.0  38.0  47.0  48.0   \n",
       "1002     0.0   0.0   0.0   0.0   0.0   0.0   0.0   0.0   0.0   8.0  48.0   \n",
       "1003     0.0   0.0   0.0   0.0   0.0   0.0   0.0   0.0   0.0   0.0   0.0   \n",
       "1004     0.0   0.0   0.0   0.0  18.0  33.0  44.0  41.0  32.0  47.0  44.0   \n",
       "...      ...   ...   ...   ...   ...   ...   ...   ...   ...   ...   ...   \n",
       "1495     0.0   0.0   0.0   0.0   0.0   0.0   0.0   0.0  37.0  63.0  50.0   \n",
       "1496     0.0   0.0   0.0   0.0   0.0   0.0   0.0  14.0  45.0  35.0  32.0   \n",
       "1497     0.0   0.0   0.0   0.0   0.0   0.0   0.0   0.0   0.0   0.0   0.0   \n",
       "1498     0.0  28.0  29.0  42.0  28.0  29.0  40.0  37.0  39.0  37.0  29.0   \n",
       "1499     0.0   0.0   0.0   0.0   0.0   0.0   0.0   0.0  34.0  40.0  39.0   \n",
       "\n",
       "month       12  \n",
       "user_id         \n",
       "1000      16.0  \n",
       "1001      44.0  \n",
       "1002      37.0  \n",
       "1003     116.0  \n",
       "1004      41.0  \n",
       "...        ...  \n",
       "1495      56.0  \n",
       "1496      32.0  \n",
       "1497      42.0  \n",
       "1498      32.0  \n",
       "1499      56.0  \n",
       "\n",
       "[481 rows x 12 columns]"
      ]
     },
     "execution_count": 52,
     "metadata": {},
     "output_type": "execute_result"
    }
   ],
   "source": [
    "# calculate number of calls per month per user, create month column\n",
    "calls_df['month'] = calls_df.call_date.dt.month\n",
    "# pivot table to calculate number of calls per month per user_id\n",
    "monthly_calls = calls_df.pivot_table(index='month', columns='user_id', values='id', aggfunc='count')\n",
    "monthly_calls = monthly_calls.T\n",
    "print('\\nNumber of calls per month for each user_id')\n",
    "# change NaN to 0\n",
    "monthly_calls_nonan = monthly_calls.fillna(0)\n",
    "monthly_calls_nonan"
   ]
  },
  {
   "cell_type": "code",
   "execution_count": 53,
   "metadata": {},
   "outputs": [
    {
     "name": "stdout",
     "output_type": "stream",
     "text": [
      "We verified the table by using len on the calls_df table.\n",
      "The number of records for user_id 1000 is 16\n"
     ]
    }
   ],
   "source": [
    "# verify the calculation\n",
    "print('We verified the table by using len on the calls_df table.\\n\\\n",
    "The number of records for user_id 1000 is', len(calls_df.query('user_id == 1000')))"
   ]
  },
  {
   "cell_type": "code",
   "execution_count": 54,
   "metadata": {},
   "outputs": [
    {
     "name": "stdout",
     "output_type": "stream",
     "text": [
      "\n",
      "Number of minutes used per month per user_id\n"
     ]
    },
    {
     "data": {
      "text/html": [
       "<div>\n",
       "<style scoped>\n",
       "    .dataframe tbody tr th:only-of-type {\n",
       "        vertical-align: middle;\n",
       "    }\n",
       "\n",
       "    .dataframe tbody tr th {\n",
       "        vertical-align: top;\n",
       "    }\n",
       "\n",
       "    .dataframe thead th {\n",
       "        text-align: right;\n",
       "    }\n",
       "</style>\n",
       "<table border=\"1\" class=\"dataframe\">\n",
       "  <thead>\n",
       "    <tr style=\"text-align: right;\">\n",
       "      <th>month</th>\n",
       "      <th>1</th>\n",
       "      <th>2</th>\n",
       "      <th>3</th>\n",
       "      <th>4</th>\n",
       "      <th>5</th>\n",
       "      <th>6</th>\n",
       "      <th>7</th>\n",
       "      <th>8</th>\n",
       "      <th>9</th>\n",
       "      <th>10</th>\n",
       "      <th>11</th>\n",
       "      <th>12</th>\n",
       "    </tr>\n",
       "    <tr>\n",
       "      <th>user_id</th>\n",
       "      <th></th>\n",
       "      <th></th>\n",
       "      <th></th>\n",
       "      <th></th>\n",
       "      <th></th>\n",
       "      <th></th>\n",
       "      <th></th>\n",
       "      <th></th>\n",
       "      <th></th>\n",
       "      <th></th>\n",
       "      <th></th>\n",
       "      <th></th>\n",
       "    </tr>\n",
       "  </thead>\n",
       "  <tbody>\n",
       "    <tr>\n",
       "      <td>1000</td>\n",
       "      <td>NaN</td>\n",
       "      <td>NaN</td>\n",
       "      <td>NaN</td>\n",
       "      <td>NaN</td>\n",
       "      <td>NaN</td>\n",
       "      <td>NaN</td>\n",
       "      <td>NaN</td>\n",
       "      <td>NaN</td>\n",
       "      <td>NaN</td>\n",
       "      <td>NaN</td>\n",
       "      <td>NaN</td>\n",
       "      <td>124.0</td>\n",
       "    </tr>\n",
       "    <tr>\n",
       "      <td>1001</td>\n",
       "      <td>NaN</td>\n",
       "      <td>NaN</td>\n",
       "      <td>NaN</td>\n",
       "      <td>NaN</td>\n",
       "      <td>NaN</td>\n",
       "      <td>NaN</td>\n",
       "      <td>NaN</td>\n",
       "      <td>182.0</td>\n",
       "      <td>315.0</td>\n",
       "      <td>393.0</td>\n",
       "      <td>396.0</td>\n",
       "      <td>358.0</td>\n",
       "    </tr>\n",
       "    <tr>\n",
       "      <td>1002</td>\n",
       "      <td>NaN</td>\n",
       "      <td>NaN</td>\n",
       "      <td>NaN</td>\n",
       "      <td>NaN</td>\n",
       "      <td>NaN</td>\n",
       "      <td>NaN</td>\n",
       "      <td>NaN</td>\n",
       "      <td>NaN</td>\n",
       "      <td>NaN</td>\n",
       "      <td>59.0</td>\n",
       "      <td>386.0</td>\n",
       "      <td>357.0</td>\n",
       "    </tr>\n",
       "    <tr>\n",
       "      <td>1003</td>\n",
       "      <td>NaN</td>\n",
       "      <td>NaN</td>\n",
       "      <td>NaN</td>\n",
       "      <td>NaN</td>\n",
       "      <td>NaN</td>\n",
       "      <td>NaN</td>\n",
       "      <td>NaN</td>\n",
       "      <td>NaN</td>\n",
       "      <td>NaN</td>\n",
       "      <td>NaN</td>\n",
       "      <td>NaN</td>\n",
       "      <td>1052.0</td>\n",
       "    </tr>\n",
       "    <tr>\n",
       "      <td>1004</td>\n",
       "      <td>NaN</td>\n",
       "      <td>NaN</td>\n",
       "      <td>NaN</td>\n",
       "      <td>NaN</td>\n",
       "      <td>169.0</td>\n",
       "      <td>275.0</td>\n",
       "      <td>355.0</td>\n",
       "      <td>329.0</td>\n",
       "      <td>301.0</td>\n",
       "      <td>365.0</td>\n",
       "      <td>452.0</td>\n",
       "      <td>375.0</td>\n",
       "    </tr>\n",
       "    <tr>\n",
       "      <td>...</td>\n",
       "      <td>...</td>\n",
       "      <td>...</td>\n",
       "      <td>...</td>\n",
       "      <td>...</td>\n",
       "      <td>...</td>\n",
       "      <td>...</td>\n",
       "      <td>...</td>\n",
       "      <td>...</td>\n",
       "      <td>...</td>\n",
       "      <td>...</td>\n",
       "      <td>...</td>\n",
       "      <td>...</td>\n",
       "    </tr>\n",
       "    <tr>\n",
       "      <td>1495</td>\n",
       "      <td>NaN</td>\n",
       "      <td>NaN</td>\n",
       "      <td>NaN</td>\n",
       "      <td>NaN</td>\n",
       "      <td>NaN</td>\n",
       "      <td>NaN</td>\n",
       "      <td>NaN</td>\n",
       "      <td>NaN</td>\n",
       "      <td>302.0</td>\n",
       "      <td>559.0</td>\n",
       "      <td>361.0</td>\n",
       "      <td>492.0</td>\n",
       "    </tr>\n",
       "    <tr>\n",
       "      <td>1496</td>\n",
       "      <td>NaN</td>\n",
       "      <td>NaN</td>\n",
       "      <td>NaN</td>\n",
       "      <td>NaN</td>\n",
       "      <td>NaN</td>\n",
       "      <td>NaN</td>\n",
       "      <td>NaN</td>\n",
       "      <td>122.0</td>\n",
       "      <td>414.0</td>\n",
       "      <td>317.0</td>\n",
       "      <td>308.0</td>\n",
       "      <td>294.0</td>\n",
       "    </tr>\n",
       "    <tr>\n",
       "      <td>1497</td>\n",
       "      <td>NaN</td>\n",
       "      <td>NaN</td>\n",
       "      <td>NaN</td>\n",
       "      <td>NaN</td>\n",
       "      <td>NaN</td>\n",
       "      <td>NaN</td>\n",
       "      <td>NaN</td>\n",
       "      <td>NaN</td>\n",
       "      <td>NaN</td>\n",
       "      <td>NaN</td>\n",
       "      <td>NaN</td>\n",
       "      <td>300.0</td>\n",
       "    </tr>\n",
       "    <tr>\n",
       "      <td>1498</td>\n",
       "      <td>NaN</td>\n",
       "      <td>244.0</td>\n",
       "      <td>266.0</td>\n",
       "      <td>365.0</td>\n",
       "      <td>263.0</td>\n",
       "      <td>238.0</td>\n",
       "      <td>321.0</td>\n",
       "      <td>266.0</td>\n",
       "      <td>363.0</td>\n",
       "      <td>298.0</td>\n",
       "      <td>223.0</td>\n",
       "      <td>339.0</td>\n",
       "    </tr>\n",
       "    <tr>\n",
       "      <td>1499</td>\n",
       "      <td>NaN</td>\n",
       "      <td>NaN</td>\n",
       "      <td>NaN</td>\n",
       "      <td>NaN</td>\n",
       "      <td>NaN</td>\n",
       "      <td>NaN</td>\n",
       "      <td>NaN</td>\n",
       "      <td>NaN</td>\n",
       "      <td>322.0</td>\n",
       "      <td>360.0</td>\n",
       "      <td>308.0</td>\n",
       "      <td>496.0</td>\n",
       "    </tr>\n",
       "  </tbody>\n",
       "</table>\n",
       "<p>481 rows × 12 columns</p>\n",
       "</div>"
      ],
      "text/plain": [
       "month    1      2      3      4      5      6      7      8      9      10  \\\n",
       "user_id                                                                      \n",
       "1000    NaN    NaN    NaN    NaN    NaN    NaN    NaN    NaN    NaN    NaN   \n",
       "1001    NaN    NaN    NaN    NaN    NaN    NaN    NaN  182.0  315.0  393.0   \n",
       "1002    NaN    NaN    NaN    NaN    NaN    NaN    NaN    NaN    NaN   59.0   \n",
       "1003    NaN    NaN    NaN    NaN    NaN    NaN    NaN    NaN    NaN    NaN   \n",
       "1004    NaN    NaN    NaN    NaN  169.0  275.0  355.0  329.0  301.0  365.0   \n",
       "...      ..    ...    ...    ...    ...    ...    ...    ...    ...    ...   \n",
       "1495    NaN    NaN    NaN    NaN    NaN    NaN    NaN    NaN  302.0  559.0   \n",
       "1496    NaN    NaN    NaN    NaN    NaN    NaN    NaN  122.0  414.0  317.0   \n",
       "1497    NaN    NaN    NaN    NaN    NaN    NaN    NaN    NaN    NaN    NaN   \n",
       "1498    NaN  244.0  266.0  365.0  263.0  238.0  321.0  266.0  363.0  298.0   \n",
       "1499    NaN    NaN    NaN    NaN    NaN    NaN    NaN    NaN  322.0  360.0   \n",
       "\n",
       "month       11      12  \n",
       "user_id                 \n",
       "1000       NaN   124.0  \n",
       "1001     396.0   358.0  \n",
       "1002     386.0   357.0  \n",
       "1003       NaN  1052.0  \n",
       "1004     452.0   375.0  \n",
       "...        ...     ...  \n",
       "1495     361.0   492.0  \n",
       "1496     308.0   294.0  \n",
       "1497       NaN   300.0  \n",
       "1498     223.0   339.0  \n",
       "1499     308.0   496.0  \n",
       "\n",
       "[481 rows x 12 columns]"
      ]
     },
     "execution_count": 54,
     "metadata": {},
     "output_type": "execute_result"
    }
   ],
   "source": [
    "# calculate number of minutes used per month per user_id\n",
    "monthly_minutes = calls_df.pivot_table(index='month', columns='user_id', values='duration', aggfunc='sum')\n",
    "monthly_minutes = monthly_minutes.T\n",
    "print('\\nNumber of minutes used per month per user_id')\n",
    "monthly_minutes"
   ]
  },
  {
   "cell_type": "code",
   "execution_count": 55,
   "metadata": {},
   "outputs": [
    {
     "name": "stdout",
     "output_type": "stream",
     "text": [
      "\n",
      "Number of gigabytes used per month per user_id\n"
     ]
    },
    {
     "data": {
      "text/html": [
       "<div>\n",
       "<style scoped>\n",
       "    .dataframe tbody tr th:only-of-type {\n",
       "        vertical-align: middle;\n",
       "    }\n",
       "\n",
       "    .dataframe tbody tr th {\n",
       "        vertical-align: top;\n",
       "    }\n",
       "\n",
       "    .dataframe thead th {\n",
       "        text-align: right;\n",
       "    }\n",
       "</style>\n",
       "<table border=\"1\" class=\"dataframe\">\n",
       "  <thead>\n",
       "    <tr style=\"text-align: right;\">\n",
       "      <th>month</th>\n",
       "      <th>1</th>\n",
       "      <th>2</th>\n",
       "      <th>3</th>\n",
       "      <th>4</th>\n",
       "      <th>5</th>\n",
       "      <th>6</th>\n",
       "      <th>7</th>\n",
       "      <th>8</th>\n",
       "      <th>9</th>\n",
       "      <th>10</th>\n",
       "      <th>11</th>\n",
       "      <th>12</th>\n",
       "    </tr>\n",
       "    <tr>\n",
       "      <th>user_id</th>\n",
       "      <th></th>\n",
       "      <th></th>\n",
       "      <th></th>\n",
       "      <th></th>\n",
       "      <th></th>\n",
       "      <th></th>\n",
       "      <th></th>\n",
       "      <th></th>\n",
       "      <th></th>\n",
       "      <th></th>\n",
       "      <th></th>\n",
       "      <th></th>\n",
       "    </tr>\n",
       "  </thead>\n",
       "  <tbody>\n",
       "    <tr>\n",
       "      <td>1000</td>\n",
       "      <td>NaN</td>\n",
       "      <td>NaN</td>\n",
       "      <td>NaN</td>\n",
       "      <td>NaN</td>\n",
       "      <td>NaN</td>\n",
       "      <td>NaN</td>\n",
       "      <td>NaN</td>\n",
       "      <td>NaN</td>\n",
       "      <td>NaN</td>\n",
       "      <td>NaN</td>\n",
       "      <td>NaN</td>\n",
       "      <td>2.0</td>\n",
       "    </tr>\n",
       "    <tr>\n",
       "      <td>1001</td>\n",
       "      <td>NaN</td>\n",
       "      <td>NaN</td>\n",
       "      <td>NaN</td>\n",
       "      <td>NaN</td>\n",
       "      <td>NaN</td>\n",
       "      <td>NaN</td>\n",
       "      <td>NaN</td>\n",
       "      <td>7.0</td>\n",
       "      <td>14.0</td>\n",
       "      <td>22.0</td>\n",
       "      <td>19.0</td>\n",
       "      <td>19.0</td>\n",
       "    </tr>\n",
       "    <tr>\n",
       "      <td>1002</td>\n",
       "      <td>NaN</td>\n",
       "      <td>NaN</td>\n",
       "      <td>NaN</td>\n",
       "      <td>NaN</td>\n",
       "      <td>NaN</td>\n",
       "      <td>NaN</td>\n",
       "      <td>NaN</td>\n",
       "      <td>NaN</td>\n",
       "      <td>NaN</td>\n",
       "      <td>7.0</td>\n",
       "      <td>19.0</td>\n",
       "      <td>15.0</td>\n",
       "    </tr>\n",
       "    <tr>\n",
       "      <td>1003</td>\n",
       "      <td>NaN</td>\n",
       "      <td>NaN</td>\n",
       "      <td>NaN</td>\n",
       "      <td>NaN</td>\n",
       "      <td>NaN</td>\n",
       "      <td>NaN</td>\n",
       "      <td>NaN</td>\n",
       "      <td>NaN</td>\n",
       "      <td>NaN</td>\n",
       "      <td>NaN</td>\n",
       "      <td>NaN</td>\n",
       "      <td>25.0</td>\n",
       "    </tr>\n",
       "    <tr>\n",
       "      <td>1004</td>\n",
       "      <td>NaN</td>\n",
       "      <td>NaN</td>\n",
       "      <td>NaN</td>\n",
       "      <td>NaN</td>\n",
       "      <td>7.0</td>\n",
       "      <td>21.0</td>\n",
       "      <td>24.0</td>\n",
       "      <td>28.0</td>\n",
       "      <td>19.0</td>\n",
       "      <td>15.0</td>\n",
       "      <td>22.0</td>\n",
       "      <td>21.0</td>\n",
       "    </tr>\n",
       "    <tr>\n",
       "      <td>...</td>\n",
       "      <td>...</td>\n",
       "      <td>...</td>\n",
       "      <td>...</td>\n",
       "      <td>...</td>\n",
       "      <td>...</td>\n",
       "      <td>...</td>\n",
       "      <td>...</td>\n",
       "      <td>...</td>\n",
       "      <td>...</td>\n",
       "      <td>...</td>\n",
       "      <td>...</td>\n",
       "      <td>...</td>\n",
       "    </tr>\n",
       "    <tr>\n",
       "      <td>1495</td>\n",
       "      <td>NaN</td>\n",
       "      <td>NaN</td>\n",
       "      <td>NaN</td>\n",
       "      <td>NaN</td>\n",
       "      <td>NaN</td>\n",
       "      <td>NaN</td>\n",
       "      <td>NaN</td>\n",
       "      <td>NaN</td>\n",
       "      <td>23.0</td>\n",
       "      <td>27.0</td>\n",
       "      <td>25.0</td>\n",
       "      <td>24.0</td>\n",
       "    </tr>\n",
       "    <tr>\n",
       "      <td>1496</td>\n",
       "      <td>NaN</td>\n",
       "      <td>NaN</td>\n",
       "      <td>NaN</td>\n",
       "      <td>NaN</td>\n",
       "      <td>NaN</td>\n",
       "      <td>NaN</td>\n",
       "      <td>NaN</td>\n",
       "      <td>9.0</td>\n",
       "      <td>17.0</td>\n",
       "      <td>14.0</td>\n",
       "      <td>9.0</td>\n",
       "      <td>17.0</td>\n",
       "    </tr>\n",
       "    <tr>\n",
       "      <td>1497</td>\n",
       "      <td>NaN</td>\n",
       "      <td>NaN</td>\n",
       "      <td>NaN</td>\n",
       "      <td>NaN</td>\n",
       "      <td>NaN</td>\n",
       "      <td>NaN</td>\n",
       "      <td>NaN</td>\n",
       "      <td>NaN</td>\n",
       "      <td>NaN</td>\n",
       "      <td>NaN</td>\n",
       "      <td>NaN</td>\n",
       "      <td>10.0</td>\n",
       "    </tr>\n",
       "    <tr>\n",
       "      <td>1498</td>\n",
       "      <td>NaN</td>\n",
       "      <td>20.0</td>\n",
       "      <td>20.0</td>\n",
       "      <td>20.0</td>\n",
       "      <td>22.0</td>\n",
       "      <td>15.0</td>\n",
       "      <td>25.0</td>\n",
       "      <td>20.0</td>\n",
       "      <td>23.0</td>\n",
       "      <td>21.0</td>\n",
       "      <td>19.0</td>\n",
       "      <td>23.0</td>\n",
       "    </tr>\n",
       "    <tr>\n",
       "      <td>1499</td>\n",
       "      <td>NaN</td>\n",
       "      <td>NaN</td>\n",
       "      <td>NaN</td>\n",
       "      <td>NaN</td>\n",
       "      <td>NaN</td>\n",
       "      <td>NaN</td>\n",
       "      <td>NaN</td>\n",
       "      <td>NaN</td>\n",
       "      <td>13.0</td>\n",
       "      <td>20.0</td>\n",
       "      <td>16.0</td>\n",
       "      <td>21.0</td>\n",
       "    </tr>\n",
       "  </tbody>\n",
       "</table>\n",
       "<p>489 rows × 12 columns</p>\n",
       "</div>"
      ],
      "text/plain": [
       "month    1     2     3     4     5     6     7     8     9     10    11    12\n",
       "user_id                                                                      \n",
       "1000    NaN   NaN   NaN   NaN   NaN   NaN   NaN   NaN   NaN   NaN   NaN   2.0\n",
       "1001    NaN   NaN   NaN   NaN   NaN   NaN   NaN   7.0  14.0  22.0  19.0  19.0\n",
       "1002    NaN   NaN   NaN   NaN   NaN   NaN   NaN   NaN   NaN   7.0  19.0  15.0\n",
       "1003    NaN   NaN   NaN   NaN   NaN   NaN   NaN   NaN   NaN   NaN   NaN  25.0\n",
       "1004    NaN   NaN   NaN   NaN   7.0  21.0  24.0  28.0  19.0  15.0  22.0  21.0\n",
       "...      ..   ...   ...   ...   ...   ...   ...   ...   ...   ...   ...   ...\n",
       "1495    NaN   NaN   NaN   NaN   NaN   NaN   NaN   NaN  23.0  27.0  25.0  24.0\n",
       "1496    NaN   NaN   NaN   NaN   NaN   NaN   NaN   9.0  17.0  14.0   9.0  17.0\n",
       "1497    NaN   NaN   NaN   NaN   NaN   NaN   NaN   NaN   NaN   NaN   NaN  10.0\n",
       "1498    NaN  20.0  20.0  20.0  22.0  15.0  25.0  20.0  23.0  21.0  19.0  23.0\n",
       "1499    NaN   NaN   NaN   NaN   NaN   NaN   NaN   NaN  13.0  20.0  16.0  21.0\n",
       "\n",
       "[489 rows x 12 columns]"
      ]
     },
     "execution_count": 55,
     "metadata": {},
     "output_type": "execute_result"
    }
   ],
   "source": [
    "# calculate the volume of data per month per user\n",
    "\n",
    "# create month column in internet_df\n",
    "internet_df['month'] = internet_df.session_date.dt.month\n",
    "\n",
    "# calculate the monthly volume per user\n",
    "monthly_data  = internet_df.pivot_table(index='month', columns='user_id', values='mb_used', aggfunc='sum')\n",
    "\n",
    "# convert mb to gb\n",
    "mb_to_gb = 1024\n",
    "monthly_data = (monthly_data/mb_to_gb)\n",
    "\n",
    "# round values up to nearest integer\n",
    "# round calls_df.duration up to the next minute in integers\n",
    "monthly_data = monthly_data.apply(np.ceil) \n",
    "monthly_data = monthly_data.T\n",
    "print('\\nNumber of gigabytes used per month per user_id')\n",
    "monthly_data"
   ]
  },
  {
   "cell_type": "code",
   "execution_count": 56,
   "metadata": {},
   "outputs": [
    {
     "name": "stdout",
     "output_type": "stream",
     "text": [
      "\n",
      "Number of text messages per month for each user_id\n"
     ]
    },
    {
     "data": {
      "text/html": [
       "<div>\n",
       "<style scoped>\n",
       "    .dataframe tbody tr th:only-of-type {\n",
       "        vertical-align: middle;\n",
       "    }\n",
       "\n",
       "    .dataframe tbody tr th {\n",
       "        vertical-align: top;\n",
       "    }\n",
       "\n",
       "    .dataframe thead th {\n",
       "        text-align: right;\n",
       "    }\n",
       "</style>\n",
       "<table border=\"1\" class=\"dataframe\">\n",
       "  <thead>\n",
       "    <tr style=\"text-align: right;\">\n",
       "      <th>month</th>\n",
       "      <th>1</th>\n",
       "      <th>2</th>\n",
       "      <th>3</th>\n",
       "      <th>4</th>\n",
       "      <th>5</th>\n",
       "      <th>6</th>\n",
       "      <th>7</th>\n",
       "      <th>8</th>\n",
       "      <th>9</th>\n",
       "      <th>10</th>\n",
       "      <th>11</th>\n",
       "      <th>12</th>\n",
       "    </tr>\n",
       "    <tr>\n",
       "      <th>user_id</th>\n",
       "      <th></th>\n",
       "      <th></th>\n",
       "      <th></th>\n",
       "      <th></th>\n",
       "      <th></th>\n",
       "      <th></th>\n",
       "      <th></th>\n",
       "      <th></th>\n",
       "      <th></th>\n",
       "      <th></th>\n",
       "      <th></th>\n",
       "      <th></th>\n",
       "    </tr>\n",
       "  </thead>\n",
       "  <tbody>\n",
       "    <tr>\n",
       "      <td>1000</td>\n",
       "      <td>NaN</td>\n",
       "      <td>NaN</td>\n",
       "      <td>NaN</td>\n",
       "      <td>NaN</td>\n",
       "      <td>NaN</td>\n",
       "      <td>NaN</td>\n",
       "      <td>NaN</td>\n",
       "      <td>NaN</td>\n",
       "      <td>NaN</td>\n",
       "      <td>NaN</td>\n",
       "      <td>NaN</td>\n",
       "      <td>11.0</td>\n",
       "    </tr>\n",
       "    <tr>\n",
       "      <td>1001</td>\n",
       "      <td>NaN</td>\n",
       "      <td>NaN</td>\n",
       "      <td>NaN</td>\n",
       "      <td>NaN</td>\n",
       "      <td>NaN</td>\n",
       "      <td>NaN</td>\n",
       "      <td>NaN</td>\n",
       "      <td>30.0</td>\n",
       "      <td>44.0</td>\n",
       "      <td>53.0</td>\n",
       "      <td>36.0</td>\n",
       "      <td>44.0</td>\n",
       "    </tr>\n",
       "    <tr>\n",
       "      <td>1002</td>\n",
       "      <td>NaN</td>\n",
       "      <td>NaN</td>\n",
       "      <td>NaN</td>\n",
       "      <td>NaN</td>\n",
       "      <td>NaN</td>\n",
       "      <td>NaN</td>\n",
       "      <td>NaN</td>\n",
       "      <td>NaN</td>\n",
       "      <td>NaN</td>\n",
       "      <td>15.0</td>\n",
       "      <td>32.0</td>\n",
       "      <td>41.0</td>\n",
       "    </tr>\n",
       "    <tr>\n",
       "      <td>1003</td>\n",
       "      <td>NaN</td>\n",
       "      <td>NaN</td>\n",
       "      <td>NaN</td>\n",
       "      <td>NaN</td>\n",
       "      <td>NaN</td>\n",
       "      <td>NaN</td>\n",
       "      <td>NaN</td>\n",
       "      <td>NaN</td>\n",
       "      <td>NaN</td>\n",
       "      <td>NaN</td>\n",
       "      <td>NaN</td>\n",
       "      <td>50.0</td>\n",
       "    </tr>\n",
       "    <tr>\n",
       "      <td>1004</td>\n",
       "      <td>NaN</td>\n",
       "      <td>NaN</td>\n",
       "      <td>NaN</td>\n",
       "      <td>NaN</td>\n",
       "      <td>7.0</td>\n",
       "      <td>18.0</td>\n",
       "      <td>26.0</td>\n",
       "      <td>25.0</td>\n",
       "      <td>21.0</td>\n",
       "      <td>24.0</td>\n",
       "      <td>25.0</td>\n",
       "      <td>31.0</td>\n",
       "    </tr>\n",
       "    <tr>\n",
       "      <td>...</td>\n",
       "      <td>...</td>\n",
       "      <td>...</td>\n",
       "      <td>...</td>\n",
       "      <td>...</td>\n",
       "      <td>...</td>\n",
       "      <td>...</td>\n",
       "      <td>...</td>\n",
       "      <td>...</td>\n",
       "      <td>...</td>\n",
       "      <td>...</td>\n",
       "      <td>...</td>\n",
       "      <td>...</td>\n",
       "    </tr>\n",
       "    <tr>\n",
       "      <td>1491</td>\n",
       "      <td>NaN</td>\n",
       "      <td>NaN</td>\n",
       "      <td>NaN</td>\n",
       "      <td>6.0</td>\n",
       "      <td>45.0</td>\n",
       "      <td>54.0</td>\n",
       "      <td>64.0</td>\n",
       "      <td>50.0</td>\n",
       "      <td>50.0</td>\n",
       "      <td>51.0</td>\n",
       "      <td>46.0</td>\n",
       "      <td>43.0</td>\n",
       "    </tr>\n",
       "    <tr>\n",
       "      <td>1492</td>\n",
       "      <td>NaN</td>\n",
       "      <td>NaN</td>\n",
       "      <td>NaN</td>\n",
       "      <td>NaN</td>\n",
       "      <td>NaN</td>\n",
       "      <td>NaN</td>\n",
       "      <td>NaN</td>\n",
       "      <td>NaN</td>\n",
       "      <td>11.0</td>\n",
       "      <td>29.0</td>\n",
       "      <td>31.0</td>\n",
       "      <td>37.0</td>\n",
       "    </tr>\n",
       "    <tr>\n",
       "      <td>1494</td>\n",
       "      <td>NaN</td>\n",
       "      <td>NaN</td>\n",
       "      <td>NaN</td>\n",
       "      <td>NaN</td>\n",
       "      <td>NaN</td>\n",
       "      <td>NaN</td>\n",
       "      <td>20.0</td>\n",
       "      <td>27.0</td>\n",
       "      <td>21.0</td>\n",
       "      <td>38.0</td>\n",
       "      <td>35.0</td>\n",
       "      <td>33.0</td>\n",
       "    </tr>\n",
       "    <tr>\n",
       "      <td>1496</td>\n",
       "      <td>NaN</td>\n",
       "      <td>NaN</td>\n",
       "      <td>NaN</td>\n",
       "      <td>NaN</td>\n",
       "      <td>NaN</td>\n",
       "      <td>NaN</td>\n",
       "      <td>NaN</td>\n",
       "      <td>2.0</td>\n",
       "      <td>21.0</td>\n",
       "      <td>18.0</td>\n",
       "      <td>13.0</td>\n",
       "      <td>11.0</td>\n",
       "    </tr>\n",
       "    <tr>\n",
       "      <td>1497</td>\n",
       "      <td>NaN</td>\n",
       "      <td>NaN</td>\n",
       "      <td>NaN</td>\n",
       "      <td>NaN</td>\n",
       "      <td>NaN</td>\n",
       "      <td>NaN</td>\n",
       "      <td>NaN</td>\n",
       "      <td>NaN</td>\n",
       "      <td>NaN</td>\n",
       "      <td>NaN</td>\n",
       "      <td>NaN</td>\n",
       "      <td>50.0</td>\n",
       "    </tr>\n",
       "  </tbody>\n",
       "</table>\n",
       "<p>402 rows × 12 columns</p>\n",
       "</div>"
      ],
      "text/plain": [
       "month    1   2   3    4     5     6     7     8     9     10    11    12\n",
       "user_id                                                                 \n",
       "1000    NaN NaN NaN  NaN   NaN   NaN   NaN   NaN   NaN   NaN   NaN  11.0\n",
       "1001    NaN NaN NaN  NaN   NaN   NaN   NaN  30.0  44.0  53.0  36.0  44.0\n",
       "1002    NaN NaN NaN  NaN   NaN   NaN   NaN   NaN   NaN  15.0  32.0  41.0\n",
       "1003    NaN NaN NaN  NaN   NaN   NaN   NaN   NaN   NaN   NaN   NaN  50.0\n",
       "1004    NaN NaN NaN  NaN   7.0  18.0  26.0  25.0  21.0  24.0  25.0  31.0\n",
       "...      ..  ..  ..  ...   ...   ...   ...   ...   ...   ...   ...   ...\n",
       "1491    NaN NaN NaN  6.0  45.0  54.0  64.0  50.0  50.0  51.0  46.0  43.0\n",
       "1492    NaN NaN NaN  NaN   NaN   NaN   NaN   NaN  11.0  29.0  31.0  37.0\n",
       "1494    NaN NaN NaN  NaN   NaN   NaN  20.0  27.0  21.0  38.0  35.0  33.0\n",
       "1496    NaN NaN NaN  NaN   NaN   NaN   NaN   2.0  21.0  18.0  13.0  11.0\n",
       "1497    NaN NaN NaN  NaN   NaN   NaN   NaN   NaN   NaN   NaN   NaN  50.0\n",
       "\n",
       "[402 rows x 12 columns]"
      ]
     },
     "execution_count": 56,
     "metadata": {},
     "output_type": "execute_result"
    }
   ],
   "source": [
    "# calculate the number of text messages sent per month per user\n",
    "\n",
    "# create month column\n",
    "messages_df['month'] = messages_df.message_date.dt.month\n",
    "\n",
    "# pivot table to calculate number of text messages per month per user_id\n",
    "monthly_messages = messages_df.pivot_table(index='month', columns='user_id', values='id', aggfunc='count')\n",
    "monthly_messages = monthly_messages.T\n",
    "print('\\nNumber of text messages per month for each user_id')\n",
    "monthly_messages"
   ]
  },
  {
   "cell_type": "markdown",
   "metadata": {},
   "source": [
    "We've performed calculations and created pivot tables for note we did need to transpose (.T) the pivot tables so we can further divide them into clients subscribed to the Surf plan and clients subscribed to the Ultimate plan. The user_id needs to be the index for the table for the query.\n",
    "\n",
    "- We calculated the number of calls per month per user (minutes rounded by each call): monthly_calls\n",
    "- We calculated the minutes used per month per user: monthly_minutes\n",
    "- We calculated the volume of data per month per user (gb rounded by monthly total): monthly_data\n",
    "- We calculated the number of text messages sent per month per user: monthly_messages\n",
    "\n",
    "To calculate the monthly revenue for each user, we need to create lists of users per plan (surf or ultimate). Then we will use the lists to calculate the monthly revenue per user appropriately."
   ]
  },
  {
   "cell_type": "code",
   "execution_count": 57,
   "metadata": {},
   "outputs": [
    {
     "name": "stdout",
     "output_type": "stream",
     "text": [
      "There are 339 customers subscribed to the Surf plan\n",
      "\n",
      "[1001, 1002, 1003, 1004, 1005, 1007, 1009, 1010, 1012, 1014, 1015, 1016, 1017, 1018, 1019, 1020, 1021, 1022, 1023, 1024, 1027, 1029, 1034, 1035, 1040, 1042, 1044, 1045, 1046, 1048, 1049, 1051, 1052, 1053, 1054, 1055, 1056, 1058, 1060, 1064, 1065, 1066, 1067, 1068, 1070, 1071, 1072, 1073, 1075, 1076, 1078, 1079, 1080, 1081, 1082, 1083, 1084, 1087, 1089, 1090, 1092, 1093, 1094, 1095, 1097, 1098, 1099, 1100, 1101, 1103, 1105, 1106, 1109, 1110, 1111, 1114, 1115, 1116, 1117, 1118, 1119, 1120, 1121, 1122, 1123, 1125, 1127, 1129, 1130, 1131, 1134, 1136, 1137, 1138, 1139, 1140, 1141, 1142, 1143, 1145, 1146, 1147, 1148, 1149, 1151, 1152, 1153, 1156, 1157, 1160, 1165, 1166, 1167, 1168, 1169, 1170, 1171, 1172, 1173, 1174, 1175, 1176, 1177, 1178, 1179, 1180, 1181, 1182, 1183, 1187, 1189, 1192, 1193, 1194, 1195, 1197, 1198, 1200, 1201, 1203, 1205, 1206, 1207, 1208, 1209, 1210, 1212, 1215, 1216, 1217, 1218, 1219, 1220, 1221, 1222, 1223, 1225, 1227, 1228, 1232, 1233, 1235, 1238, 1239, 1240, 1241, 1242, 1243, 1244, 1245, 1248, 1251, 1252, 1254, 1256, 1257, 1258, 1259, 1260, 1261, 1262, 1263, 1265, 1266, 1267, 1268, 1271, 1272, 1276, 1277, 1278, 1280, 1281, 1284, 1285, 1286, 1287, 1288, 1290, 1291, 1292, 1293, 1294, 1295, 1297, 1298, 1299, 1300, 1302, 1305, 1306, 1307, 1308, 1309, 1310, 1312, 1313, 1315, 1316, 1318, 1319, 1320, 1321, 1322, 1323, 1324, 1325, 1326, 1327, 1328, 1331, 1332, 1334, 1335, 1336, 1337, 1338, 1339, 1340, 1341, 1342, 1343, 1344, 1345, 1348, 1349, 1350, 1353, 1355, 1356, 1357, 1358, 1359, 1360, 1361, 1362, 1364, 1365, 1366, 1367, 1369, 1371, 1372, 1374, 1375, 1377, 1378, 1379, 1381, 1385, 1386, 1387, 1392, 1393, 1394, 1396, 1397, 1398, 1399, 1400, 1402, 1404, 1406, 1408, 1410, 1411, 1413, 1414, 1415, 1416, 1418, 1419, 1421, 1423, 1425, 1428, 1429, 1430, 1431, 1434, 1437, 1438, 1439, 1440, 1443, 1444, 1446, 1447, 1448, 1449, 1452, 1455, 1457, 1461, 1464, 1466, 1468, 1469, 1470, 1471, 1472, 1473, 1474, 1479, 1480, 1481, 1483, 1484, 1485, 1486, 1488, 1489, 1491, 1492, 1494, 1495, 1496, 1498, 1499]\n"
     ]
    }
   ],
   "source": [
    "# create surf list\n",
    "slist = users_df.query('plan == \"surf\"')\n",
    "surf = slist['user_id'].to_list()\n",
    "print('There are', len(surf), 'customers subscribed to the Surf plan\\n')\n",
    "print(surf)"
   ]
  },
  {
   "cell_type": "code",
   "execution_count": 58,
   "metadata": {},
   "outputs": [
    {
     "name": "stdout",
     "output_type": "stream",
     "text": [
      "There are 161 customers subscribed to the Ultimate plan\n",
      "\n",
      "[1000, 1006, 1008, 1011, 1013, 1025, 1026, 1028, 1030, 1031, 1032, 1033, 1036, 1037, 1038, 1039, 1041, 1043, 1047, 1050, 1057, 1059, 1061, 1062, 1063, 1069, 1074, 1077, 1085, 1086, 1088, 1091, 1096, 1102, 1104, 1107, 1108, 1112, 1113, 1124, 1126, 1128, 1132, 1133, 1135, 1144, 1150, 1154, 1155, 1158, 1159, 1161, 1162, 1163, 1164, 1184, 1185, 1186, 1188, 1190, 1191, 1196, 1199, 1202, 1204, 1211, 1213, 1214, 1224, 1226, 1229, 1230, 1231, 1234, 1236, 1237, 1246, 1247, 1249, 1250, 1253, 1255, 1264, 1269, 1270, 1273, 1274, 1275, 1279, 1282, 1283, 1289, 1296, 1301, 1303, 1304, 1311, 1314, 1317, 1329, 1330, 1333, 1346, 1347, 1351, 1352, 1354, 1363, 1368, 1370, 1373, 1376, 1380, 1382, 1383, 1384, 1388, 1389, 1390, 1391, 1395, 1401, 1403, 1405, 1407, 1409, 1412, 1417, 1420, 1422, 1424, 1426, 1427, 1432, 1433, 1435, 1436, 1441, 1442, 1445, 1450, 1451, 1453, 1454, 1456, 1458, 1459, 1460, 1462, 1463, 1465, 1467, 1475, 1476, 1477, 1478, 1482, 1487, 1490, 1493, 1497]\n"
     ]
    }
   ],
   "source": [
    "# create ultimate list\n",
    "ulist = users_df.query('plan == \"ultimate\"')\n",
    "\n",
    "ultimate = ulist['user_id'].to_list()\n",
    "print('There are', len(ultimate), 'customers subscribed to the Ultimate plan\\n')\n",
    "print(ultimate)"
   ]
  },
  {
   "cell_type": "code",
   "execution_count": 59,
   "metadata": {},
   "outputs": [
    {
     "name": "stdout",
     "output_type": "stream",
     "text": [
      "We've created the subscriber lists for surf and ultimate.\n",
      "We note there are 339 clients subscribed to the Surf plan and 161 to the Ultimate plan.\n"
     ]
    }
   ],
   "source": [
    "print('We\\'ve created the subscriber lists for surf and ultimate.\\n' \\\n",
    "'We note there are', len(surf), 'clients subscribed to the Surf plan', \\\n",
    "'and', len(ultimate), 'to the Ultimate plan.')"
   ]
  },
  {
   "cell_type": "markdown",
   "metadata": {},
   "source": [
    "Next we will calculate the monthly revenue from each user by \n",
    "- subtracting the free package limit from the minutes used, text messages, and data\n",
    "- multiply the result by the calling plan values\n",
    "- add the monthly charge depending on the calling plan\n"
   ]
  },
  {
   "cell_type": "code",
   "execution_count": 60,
   "metadata": {
    "scrolled": true
   },
   "outputs": [
    {
     "name": "stdout",
     "output_type": "stream",
     "text": [
      "\n",
      "Top 5 rows of the Surf prepaid plan revenue by month by user\n"
     ]
    },
    {
     "data": {
      "text/html": [
       "<div>\n",
       "<style scoped>\n",
       "    .dataframe tbody tr th:only-of-type {\n",
       "        vertical-align: middle;\n",
       "    }\n",
       "\n",
       "    .dataframe tbody tr th {\n",
       "        vertical-align: top;\n",
       "    }\n",
       "\n",
       "    .dataframe thead th {\n",
       "        text-align: right;\n",
       "    }\n",
       "</style>\n",
       "<table border=\"1\" class=\"dataframe\">\n",
       "  <thead>\n",
       "    <tr style=\"text-align: right;\">\n",
       "      <th>month</th>\n",
       "      <th>1</th>\n",
       "      <th>2</th>\n",
       "      <th>3</th>\n",
       "      <th>4</th>\n",
       "      <th>5</th>\n",
       "      <th>6</th>\n",
       "      <th>7</th>\n",
       "      <th>8</th>\n",
       "      <th>9</th>\n",
       "      <th>10</th>\n",
       "      <th>11</th>\n",
       "      <th>12</th>\n",
       "    </tr>\n",
       "    <tr>\n",
       "      <th>user_id</th>\n",
       "      <th></th>\n",
       "      <th></th>\n",
       "      <th></th>\n",
       "      <th></th>\n",
       "      <th></th>\n",
       "      <th></th>\n",
       "      <th></th>\n",
       "      <th></th>\n",
       "      <th></th>\n",
       "      <th></th>\n",
       "      <th></th>\n",
       "      <th></th>\n",
       "    </tr>\n",
       "  </thead>\n",
       "  <tbody>\n",
       "    <tr>\n",
       "      <td>1001</td>\n",
       "      <td>20.0</td>\n",
       "      <td>20.0</td>\n",
       "      <td>20.0</td>\n",
       "      <td>20.0</td>\n",
       "      <td>20.0</td>\n",
       "      <td>20.0</td>\n",
       "      <td>20.0</td>\n",
       "      <td>20.0</td>\n",
       "      <td>20.0</td>\n",
       "      <td>90.09</td>\n",
       "      <td>60.0</td>\n",
       "      <td>60.00</td>\n",
       "    </tr>\n",
       "    <tr>\n",
       "      <td>1002</td>\n",
       "      <td>20.0</td>\n",
       "      <td>20.0</td>\n",
       "      <td>20.0</td>\n",
       "      <td>20.0</td>\n",
       "      <td>20.0</td>\n",
       "      <td>20.0</td>\n",
       "      <td>20.0</td>\n",
       "      <td>20.0</td>\n",
       "      <td>20.0</td>\n",
       "      <td>20.00</td>\n",
       "      <td>60.0</td>\n",
       "      <td>20.00</td>\n",
       "    </tr>\n",
       "    <tr>\n",
       "      <td>1003</td>\n",
       "      <td>20.0</td>\n",
       "      <td>20.0</td>\n",
       "      <td>20.0</td>\n",
       "      <td>20.0</td>\n",
       "      <td>20.0</td>\n",
       "      <td>20.0</td>\n",
       "      <td>20.0</td>\n",
       "      <td>20.0</td>\n",
       "      <td>20.0</td>\n",
       "      <td>20.00</td>\n",
       "      <td>20.0</td>\n",
       "      <td>136.56</td>\n",
       "    </tr>\n",
       "    <tr>\n",
       "      <td>1004</td>\n",
       "      <td>20.0</td>\n",
       "      <td>20.0</td>\n",
       "      <td>20.0</td>\n",
       "      <td>20.0</td>\n",
       "      <td>20.0</td>\n",
       "      <td>80.0</td>\n",
       "      <td>110.0</td>\n",
       "      <td>150.0</td>\n",
       "      <td>60.0</td>\n",
       "      <td>20.00</td>\n",
       "      <td>90.0</td>\n",
       "      <td>80.00</td>\n",
       "    </tr>\n",
       "    <tr>\n",
       "      <td>1005</td>\n",
       "      <td>20.0</td>\n",
       "      <td>20.0</td>\n",
       "      <td>20.0</td>\n",
       "      <td>20.0</td>\n",
       "      <td>20.0</td>\n",
       "      <td>20.0</td>\n",
       "      <td>20.0</td>\n",
       "      <td>20.0</td>\n",
       "      <td>20.0</td>\n",
       "      <td>20.00</td>\n",
       "      <td>20.0</td>\n",
       "      <td>40.00</td>\n",
       "    </tr>\n",
       "  </tbody>\n",
       "</table>\n",
       "</div>"
      ],
      "text/plain": [
       "month      1     2     3     4     5     6      7      8     9      10    11  \\\n",
       "user_id                                                                        \n",
       "1001     20.0  20.0  20.0  20.0  20.0  20.0   20.0   20.0  20.0  90.09  60.0   \n",
       "1002     20.0  20.0  20.0  20.0  20.0  20.0   20.0   20.0  20.0  20.00  60.0   \n",
       "1003     20.0  20.0  20.0  20.0  20.0  20.0   20.0   20.0  20.0  20.00  20.0   \n",
       "1004     20.0  20.0  20.0  20.0  20.0  80.0  110.0  150.0  60.0  20.00  90.0   \n",
       "1005     20.0  20.0  20.0  20.0  20.0  20.0   20.0   20.0  20.0  20.00  20.0   \n",
       "\n",
       "month        12  \n",
       "user_id          \n",
       "1001      60.00  \n",
       "1002      20.00  \n",
       "1003     136.56  \n",
       "1004      80.00  \n",
       "1005      40.00  "
      ]
     },
     "execution_count": 60,
     "metadata": {},
     "output_type": "execute_result"
    }
   ],
   "source": [
    "# create tables for surf subscribers\n",
    "# limits are 500 monthly minutes, 50 texts, and 15 GB of data\n",
    "# monthly charge 20\n",
    "# overage charges: 1 minute: 3 cents, 1 text: 3 cents, 1 GB: 10\n",
    "# remember not to reset index because we are using that to id user_id\n",
    "\n",
    "\n",
    "# surf_minutes\n",
    "surf_minutes = monthly_minutes.query(\"user_id in @surf\")\n",
    "# use stored value usd_per_minute from plans_df to calculate cost\n",
    "surf_minutes_over = ((surf_minutes - plans_df.iloc[0,2]) * plans_df.iloc[0,6])\n",
    "# change negative values to 0\n",
    "num = surf_minutes_over._get_numeric_data()\n",
    "num[num < 0] = 0\n",
    "# change NaN to 0\n",
    "surf_minutes_over = surf_minutes_over.fillna(0)\n",
    "\n",
    "\n",
    "# surf_data\n",
    "surf_data = monthly_data.query(\"user_id in @surf\")\n",
    "# used mb_per_month_included, usd_per_gb from plans_df table and converted to gb\n",
    "surf_data_over = (surf_data - (plans_df.iloc[0,1]/1024)) * plans_df.iloc[0,4]\n",
    "# change negative values to 0\n",
    "num = surf_data_over._get_numeric_data()\n",
    "num[num < 0] = 0\n",
    "# change NaN to 0\n",
    "surf_data_over = surf_data_over.fillna(0)\n",
    "\n",
    "\n",
    "# surf_messages\n",
    "surf_messages = monthly_messages.query(\"user_id in @surf\")\n",
    "# used messages_included, usd_per_message from plans_df table\n",
    "surf_messages_over = (surf_messages - plans_df.iloc[0,0]) * plans_df.iloc[0,5]\n",
    "# change negative values to 0\n",
    "num = surf_messages_over._get_numeric_data()\n",
    "num[num < 0] = 0\n",
    "# change NaN to 0\n",
    "surf_messages_over = surf_messages_over.fillna(0)\n",
    "\n",
    "# create a new table and add all the surcharge amounts and $20 monthly charge\n",
    "surf_monthly_revenue = surf_minutes_over.add(surf_data_over, fill_value=0)\\\n",
    "                        .add(surf_messages_over, fill_value=0) + 20\n",
    "print('\\nTop 5 rows of the Surf prepaid plan revenue by month by user')\n",
    "surf_monthly_revenue.head()"
   ]
  },
  {
   "cell_type": "code",
   "execution_count": 61,
   "metadata": {
    "scrolled": true
   },
   "outputs": [
    {
     "name": "stdout",
     "output_type": "stream",
     "text": [
      "\n",
      "Top 10 rows of the Ultimate prepaid plan revenue by month by user\n"
     ]
    },
    {
     "data": {
      "text/html": [
       "<div>\n",
       "<style scoped>\n",
       "    .dataframe tbody tr th:only-of-type {\n",
       "        vertical-align: middle;\n",
       "    }\n",
       "\n",
       "    .dataframe tbody tr th {\n",
       "        vertical-align: top;\n",
       "    }\n",
       "\n",
       "    .dataframe thead th {\n",
       "        text-align: right;\n",
       "    }\n",
       "</style>\n",
       "<table border=\"1\" class=\"dataframe\">\n",
       "  <thead>\n",
       "    <tr style=\"text-align: right;\">\n",
       "      <th>month</th>\n",
       "      <th>1</th>\n",
       "      <th>2</th>\n",
       "      <th>3</th>\n",
       "      <th>4</th>\n",
       "      <th>5</th>\n",
       "      <th>6</th>\n",
       "      <th>7</th>\n",
       "      <th>8</th>\n",
       "      <th>9</th>\n",
       "      <th>10</th>\n",
       "      <th>11</th>\n",
       "      <th>12</th>\n",
       "    </tr>\n",
       "    <tr>\n",
       "      <th>user_id</th>\n",
       "      <th></th>\n",
       "      <th></th>\n",
       "      <th></th>\n",
       "      <th></th>\n",
       "      <th></th>\n",
       "      <th></th>\n",
       "      <th></th>\n",
       "      <th></th>\n",
       "      <th></th>\n",
       "      <th></th>\n",
       "      <th></th>\n",
       "      <th></th>\n",
       "    </tr>\n",
       "  </thead>\n",
       "  <tbody>\n",
       "    <tr>\n",
       "      <td>1000</td>\n",
       "      <td>70.0</td>\n",
       "      <td>70.0</td>\n",
       "      <td>70.0</td>\n",
       "      <td>70.0</td>\n",
       "      <td>70.0</td>\n",
       "      <td>70.0</td>\n",
       "      <td>70.0</td>\n",
       "      <td>70.0</td>\n",
       "      <td>70.0</td>\n",
       "      <td>70.0</td>\n",
       "      <td>70.0</td>\n",
       "      <td>70.0</td>\n",
       "    </tr>\n",
       "    <tr>\n",
       "      <td>1006</td>\n",
       "      <td>70.0</td>\n",
       "      <td>70.0</td>\n",
       "      <td>70.0</td>\n",
       "      <td>70.0</td>\n",
       "      <td>70.0</td>\n",
       "      <td>70.0</td>\n",
       "      <td>70.0</td>\n",
       "      <td>70.0</td>\n",
       "      <td>70.0</td>\n",
       "      <td>70.0</td>\n",
       "      <td>70.0</td>\n",
       "      <td>70.0</td>\n",
       "    </tr>\n",
       "    <tr>\n",
       "      <td>1008</td>\n",
       "      <td>70.0</td>\n",
       "      <td>70.0</td>\n",
       "      <td>70.0</td>\n",
       "      <td>70.0</td>\n",
       "      <td>70.0</td>\n",
       "      <td>70.0</td>\n",
       "      <td>70.0</td>\n",
       "      <td>70.0</td>\n",
       "      <td>70.0</td>\n",
       "      <td>70.0</td>\n",
       "      <td>70.0</td>\n",
       "      <td>70.0</td>\n",
       "    </tr>\n",
       "    <tr>\n",
       "      <td>1011</td>\n",
       "      <td>70.0</td>\n",
       "      <td>70.0</td>\n",
       "      <td>70.0</td>\n",
       "      <td>70.0</td>\n",
       "      <td>70.0</td>\n",
       "      <td>70.0</td>\n",
       "      <td>70.0</td>\n",
       "      <td>70.0</td>\n",
       "      <td>70.0</td>\n",
       "      <td>70.0</td>\n",
       "      <td>70.0</td>\n",
       "      <td>70.0</td>\n",
       "    </tr>\n",
       "    <tr>\n",
       "      <td>1013</td>\n",
       "      <td>70.0</td>\n",
       "      <td>70.0</td>\n",
       "      <td>70.0</td>\n",
       "      <td>70.0</td>\n",
       "      <td>70.0</td>\n",
       "      <td>70.0</td>\n",
       "      <td>70.0</td>\n",
       "      <td>70.0</td>\n",
       "      <td>70.0</td>\n",
       "      <td>70.0</td>\n",
       "      <td>70.0</td>\n",
       "      <td>70.0</td>\n",
       "    </tr>\n",
       "    <tr>\n",
       "      <td>1026</td>\n",
       "      <td>70.0</td>\n",
       "      <td>70.0</td>\n",
       "      <td>70.0</td>\n",
       "      <td>70.0</td>\n",
       "      <td>70.0</td>\n",
       "      <td>70.0</td>\n",
       "      <td>70.0</td>\n",
       "      <td>70.0</td>\n",
       "      <td>70.0</td>\n",
       "      <td>70.0</td>\n",
       "      <td>70.0</td>\n",
       "      <td>70.0</td>\n",
       "    </tr>\n",
       "    <tr>\n",
       "      <td>1028</td>\n",
       "      <td>70.0</td>\n",
       "      <td>70.0</td>\n",
       "      <td>84.0</td>\n",
       "      <td>112.0</td>\n",
       "      <td>77.0</td>\n",
       "      <td>98.0</td>\n",
       "      <td>126.0</td>\n",
       "      <td>133.0</td>\n",
       "      <td>70.0</td>\n",
       "      <td>161.0</td>\n",
       "      <td>147.0</td>\n",
       "      <td>112.0</td>\n",
       "    </tr>\n",
       "    <tr>\n",
       "      <td>1030</td>\n",
       "      <td>70.0</td>\n",
       "      <td>70.0</td>\n",
       "      <td>70.0</td>\n",
       "      <td>70.0</td>\n",
       "      <td>70.0</td>\n",
       "      <td>70.0</td>\n",
       "      <td>70.0</td>\n",
       "      <td>70.0</td>\n",
       "      <td>70.0</td>\n",
       "      <td>70.0</td>\n",
       "      <td>70.0</td>\n",
       "      <td>70.0</td>\n",
       "    </tr>\n",
       "    <tr>\n",
       "      <td>1031</td>\n",
       "      <td>70.0</td>\n",
       "      <td>70.0</td>\n",
       "      <td>70.0</td>\n",
       "      <td>70.0</td>\n",
       "      <td>70.0</td>\n",
       "      <td>70.0</td>\n",
       "      <td>70.0</td>\n",
       "      <td>70.0</td>\n",
       "      <td>70.0</td>\n",
       "      <td>70.0</td>\n",
       "      <td>70.0</td>\n",
       "      <td>70.0</td>\n",
       "    </tr>\n",
       "    <tr>\n",
       "      <td>1032</td>\n",
       "      <td>70.0</td>\n",
       "      <td>70.0</td>\n",
       "      <td>70.0</td>\n",
       "      <td>70.0</td>\n",
       "      <td>70.0</td>\n",
       "      <td>70.0</td>\n",
       "      <td>70.0</td>\n",
       "      <td>70.0</td>\n",
       "      <td>70.0</td>\n",
       "      <td>70.0</td>\n",
       "      <td>70.0</td>\n",
       "      <td>70.0</td>\n",
       "    </tr>\n",
       "  </tbody>\n",
       "</table>\n",
       "</div>"
      ],
      "text/plain": [
       "month      1     2     3      4     5     6      7      8     9      10  \\\n",
       "user_id                                                                   \n",
       "1000     70.0  70.0  70.0   70.0  70.0  70.0   70.0   70.0  70.0   70.0   \n",
       "1006     70.0  70.0  70.0   70.0  70.0  70.0   70.0   70.0  70.0   70.0   \n",
       "1008     70.0  70.0  70.0   70.0  70.0  70.0   70.0   70.0  70.0   70.0   \n",
       "1011     70.0  70.0  70.0   70.0  70.0  70.0   70.0   70.0  70.0   70.0   \n",
       "1013     70.0  70.0  70.0   70.0  70.0  70.0   70.0   70.0  70.0   70.0   \n",
       "1026     70.0  70.0  70.0   70.0  70.0  70.0   70.0   70.0  70.0   70.0   \n",
       "1028     70.0  70.0  84.0  112.0  77.0  98.0  126.0  133.0  70.0  161.0   \n",
       "1030     70.0  70.0  70.0   70.0  70.0  70.0   70.0   70.0  70.0   70.0   \n",
       "1031     70.0  70.0  70.0   70.0  70.0  70.0   70.0   70.0  70.0   70.0   \n",
       "1032     70.0  70.0  70.0   70.0  70.0  70.0   70.0   70.0  70.0   70.0   \n",
       "\n",
       "month       11     12  \n",
       "user_id                \n",
       "1000      70.0   70.0  \n",
       "1006      70.0   70.0  \n",
       "1008      70.0   70.0  \n",
       "1011      70.0   70.0  \n",
       "1013      70.0   70.0  \n",
       "1026      70.0   70.0  \n",
       "1028     147.0  112.0  \n",
       "1030      70.0   70.0  \n",
       "1031      70.0   70.0  \n",
       "1032      70.0   70.0  "
      ]
     },
     "execution_count": 61,
     "metadata": {},
     "output_type": "execute_result"
    }
   ],
   "source": [
    "# create tables for ultimate subscribers\n",
    "# limits are 3000 monthly minutes, 1000 texts, and 30 GB of data\n",
    "# monthly charge of 70\n",
    "# overage charges: 1 minute: 1 cent, 1 text: 1 cent, 1 GB: 7\n",
    "# remember not to reset index because we are using that to id user_id\n",
    "\n",
    "# ultimate_minutes\n",
    "ultimate_minutes = monthly_minutes.query(\"user_id in @ultimate\")\n",
    "# use stored values from plans_df to calculate cost\n",
    "ultimate_minutes_over = ((ultimate_minutes - plans_df.iloc[1,2]) * plans_df.iloc[1,6])\n",
    "# change negative values to 0\n",
    "num = ultimate_minutes_over._get_numeric_data()\n",
    "num[num < 0] = 0\n",
    "# change NaN to 0\n",
    "ultimate_minutes_over = ultimate_minutes_over.fillna(0)\n",
    "\n",
    "# ultimate_data\n",
    "ultimate_data = monthly_data.query(\"user_id in @ultimate\")\n",
    "# used mb_per_month_included, usd_per_gb from plans_df table and converted to gb\n",
    "ultimate_data_over = (ultimate_data - (plans_df.iloc[1,1]/1024)) * plans_df.iloc[1,4]\n",
    "# change negative values to 0\n",
    "num = ultimate_data_over._get_numeric_data()\n",
    "num[num < 0] = 0\n",
    "# change NaN to 0\n",
    "ultimate_data_over = ultimate_data_over.fillna(0)\n",
    "\n",
    "# ultimate_messages\n",
    "ultimate_messages = monthly_messages.query(\"user_id in @ultimate\")\n",
    "# used messages_included, usd_per_message from plans_df table\n",
    "ultimate_messages_over = (ultimate_messages - plans_df.iloc[1,0]) * plans_df.iloc[1,5]\n",
    "# change negative values to 0\n",
    "num = ultimate_messages_over._get_numeric_data()\n",
    "num[num < 0] = 0\n",
    "# change NaN to 0\n",
    "ultimate_messages_over = ultimate_messages_over.fillna(0)\n",
    "\n",
    "# create a new table and add all the surcharge amounts and $70 monthly charge\n",
    "ultimate_monthly_revenue = ultimate_minutes_over.add(ultimate_data_over, fill_value=0)\\\n",
    "                            .add(ultimate_messages_over, fill_value=0) + 70\n",
    "print('\\nTop 10 rows of the Ultimate prepaid plan revenue by month by user')\n",
    "ultimate_monthly_revenue.head(10) "
   ]
  },
  {
   "cell_type": "markdown",
   "metadata": {},
   "source": [
    "We've successfully calculated the monthly revenue from each user by \n",
    "- subtracting the free package limit from the total minutes, messages, and data\n",
    "- multipliying the amount over the limit by the plans overage rate\n",
    "- adding the monthly charge depending on the prepaid plan "
   ]
  },
  {
   "cell_type": "code",
   "execution_count": 62,
   "metadata": {},
   "outputs": [
    {
     "name": "stdout",
     "output_type": "stream",
     "text": [
      "Surf prepaid plan\n",
      "\n",
      "Number of instances over 500 minutes limit: 172\n",
      "Number of instances over 50 messages limit: 113\n",
      "Number of instances over 15GB data limit: 257\n"
     ]
    }
   ],
   "source": [
    "# calculate instances of overages\n",
    "print('Surf prepaid plan')\n",
    "print('\\nNumber of instances over 500 minutes limit:', len(surf_minutes[(surf_minutes > 500).any(axis=1)]))\n",
    "print('Number of instances over 50 messages limit:', len(surf_messages[(surf_messages > 50).any(axis=1)]))\n",
    "print('Number of instances over 15GB data limit:', len(surf_data[(surf_data > 15).any(axis=1)]))"
   ]
  },
  {
   "cell_type": "code",
   "execution_count": 63,
   "metadata": {},
   "outputs": [
    {
     "name": "stdout",
     "output_type": "stream",
     "text": [
      "Ultimate prepaid plan\n",
      "\n",
      "Number of instances over 3000 minutes limit: 0\n",
      "Number of instances over 1000 messages limit: 0\n",
      "Number of instances over 30GB data limit: 16\n"
     ]
    }
   ],
   "source": [
    "# calculate instances of overages\n",
    "print('Ultimate prepaid plan')\n",
    "print('\\nNumber of instances over 3000 minutes limit:', len(ultimate_minutes[(ultimate_minutes > 3000).any(axis=1)]))\n",
    "print('Number of instances over 1000 messages limit:', len(ultimate_messages[(ultimate_messages > 1000).any(axis=1)]))\n",
    "print('Number of instances over 30GB data limit:', len(ultimate_data[(ultimate_data > 30).any(axis=1)]))"
   ]
  },
  {
   "cell_type": "markdown",
   "metadata": {},
   "source": [
    "We have created 2 tables, the surf_monthly_revenue and the ultimate_monthly_revenue. \n",
    "\n",
    "Given that there are only 16 instances of overage in the Ultimate plan, we suspect the average monthly revenue will be fairly close to the 70 monthly base rate. The Surf plan, on the other hand, involves many overages so we anticipate the Surf plan will have a monthly revenue average greater than 20. \n",
    "\n",
    "Now we need to merge the calculated revenue tables and then combine that info with the users_df table Ultimate prepaid plan."
   ]
  },
  {
   "cell_type": "code",
   "execution_count": 64,
   "metadata": {
    "scrolled": true
   },
   "outputs": [
    {
     "data": {
      "text/html": [
       "<div>\n",
       "<style scoped>\n",
       "    .dataframe tbody tr th:only-of-type {\n",
       "        vertical-align: middle;\n",
       "    }\n",
       "\n",
       "    .dataframe tbody tr th {\n",
       "        vertical-align: top;\n",
       "    }\n",
       "\n",
       "    .dataframe thead th {\n",
       "        text-align: right;\n",
       "    }\n",
       "</style>\n",
       "<table border=\"1\" class=\"dataframe\">\n",
       "  <thead>\n",
       "    <tr style=\"text-align: right;\">\n",
       "      <th>month</th>\n",
       "      <th>1</th>\n",
       "      <th>2</th>\n",
       "      <th>3</th>\n",
       "      <th>4</th>\n",
       "      <th>5</th>\n",
       "      <th>6</th>\n",
       "      <th>7</th>\n",
       "      <th>8</th>\n",
       "      <th>9</th>\n",
       "      <th>10</th>\n",
       "      <th>11</th>\n",
       "      <th>12</th>\n",
       "    </tr>\n",
       "    <tr>\n",
       "      <th>user_id</th>\n",
       "      <th></th>\n",
       "      <th></th>\n",
       "      <th></th>\n",
       "      <th></th>\n",
       "      <th></th>\n",
       "      <th></th>\n",
       "      <th></th>\n",
       "      <th></th>\n",
       "      <th></th>\n",
       "      <th></th>\n",
       "      <th></th>\n",
       "      <th></th>\n",
       "    </tr>\n",
       "  </thead>\n",
       "  <tbody>\n",
       "    <tr>\n",
       "      <td>1000</td>\n",
       "      <td>70.0</td>\n",
       "      <td>70.0</td>\n",
       "      <td>70.0</td>\n",
       "      <td>70.0</td>\n",
       "      <td>70.0</td>\n",
       "      <td>70.0</td>\n",
       "      <td>70.0</td>\n",
       "      <td>70.0</td>\n",
       "      <td>70.0</td>\n",
       "      <td>70.00</td>\n",
       "      <td>70.00</td>\n",
       "      <td>70.0</td>\n",
       "    </tr>\n",
       "    <tr>\n",
       "      <td>1006</td>\n",
       "      <td>70.0</td>\n",
       "      <td>70.0</td>\n",
       "      <td>70.0</td>\n",
       "      <td>70.0</td>\n",
       "      <td>70.0</td>\n",
       "      <td>70.0</td>\n",
       "      <td>70.0</td>\n",
       "      <td>70.0</td>\n",
       "      <td>70.0</td>\n",
       "      <td>70.00</td>\n",
       "      <td>70.00</td>\n",
       "      <td>70.0</td>\n",
       "    </tr>\n",
       "    <tr>\n",
       "      <td>1008</td>\n",
       "      <td>70.0</td>\n",
       "      <td>70.0</td>\n",
       "      <td>70.0</td>\n",
       "      <td>70.0</td>\n",
       "      <td>70.0</td>\n",
       "      <td>70.0</td>\n",
       "      <td>70.0</td>\n",
       "      <td>70.0</td>\n",
       "      <td>70.0</td>\n",
       "      <td>70.00</td>\n",
       "      <td>70.00</td>\n",
       "      <td>70.0</td>\n",
       "    </tr>\n",
       "    <tr>\n",
       "      <td>1011</td>\n",
       "      <td>70.0</td>\n",
       "      <td>70.0</td>\n",
       "      <td>70.0</td>\n",
       "      <td>70.0</td>\n",
       "      <td>70.0</td>\n",
       "      <td>70.0</td>\n",
       "      <td>70.0</td>\n",
       "      <td>70.0</td>\n",
       "      <td>70.0</td>\n",
       "      <td>70.00</td>\n",
       "      <td>70.00</td>\n",
       "      <td>70.0</td>\n",
       "    </tr>\n",
       "    <tr>\n",
       "      <td>1013</td>\n",
       "      <td>70.0</td>\n",
       "      <td>70.0</td>\n",
       "      <td>70.0</td>\n",
       "      <td>70.0</td>\n",
       "      <td>70.0</td>\n",
       "      <td>70.0</td>\n",
       "      <td>70.0</td>\n",
       "      <td>70.0</td>\n",
       "      <td>70.0</td>\n",
       "      <td>70.00</td>\n",
       "      <td>70.00</td>\n",
       "      <td>70.0</td>\n",
       "    </tr>\n",
       "    <tr>\n",
       "      <td>...</td>\n",
       "      <td>...</td>\n",
       "      <td>...</td>\n",
       "      <td>...</td>\n",
       "      <td>...</td>\n",
       "      <td>...</td>\n",
       "      <td>...</td>\n",
       "      <td>...</td>\n",
       "      <td>...</td>\n",
       "      <td>...</td>\n",
       "      <td>...</td>\n",
       "      <td>...</td>\n",
       "      <td>...</td>\n",
       "    </tr>\n",
       "    <tr>\n",
       "      <td>1494</td>\n",
       "      <td>20.0</td>\n",
       "      <td>20.0</td>\n",
       "      <td>20.0</td>\n",
       "      <td>20.0</td>\n",
       "      <td>20.0</td>\n",
       "      <td>20.0</td>\n",
       "      <td>20.0</td>\n",
       "      <td>40.0</td>\n",
       "      <td>20.0</td>\n",
       "      <td>22.76</td>\n",
       "      <td>50.27</td>\n",
       "      <td>20.0</td>\n",
       "    </tr>\n",
       "    <tr>\n",
       "      <td>1495</td>\n",
       "      <td>20.0</td>\n",
       "      <td>20.0</td>\n",
       "      <td>20.0</td>\n",
       "      <td>20.0</td>\n",
       "      <td>20.0</td>\n",
       "      <td>20.0</td>\n",
       "      <td>20.0</td>\n",
       "      <td>20.0</td>\n",
       "      <td>100.0</td>\n",
       "      <td>141.77</td>\n",
       "      <td>120.00</td>\n",
       "      <td>110.0</td>\n",
       "    </tr>\n",
       "    <tr>\n",
       "      <td>1496</td>\n",
       "      <td>20.0</td>\n",
       "      <td>20.0</td>\n",
       "      <td>20.0</td>\n",
       "      <td>20.0</td>\n",
       "      <td>20.0</td>\n",
       "      <td>20.0</td>\n",
       "      <td>20.0</td>\n",
       "      <td>20.0</td>\n",
       "      <td>40.0</td>\n",
       "      <td>20.00</td>\n",
       "      <td>20.00</td>\n",
       "      <td>40.0</td>\n",
       "    </tr>\n",
       "    <tr>\n",
       "      <td>1498</td>\n",
       "      <td>20.0</td>\n",
       "      <td>70.0</td>\n",
       "      <td>70.0</td>\n",
       "      <td>70.0</td>\n",
       "      <td>90.0</td>\n",
       "      <td>20.0</td>\n",
       "      <td>120.0</td>\n",
       "      <td>70.0</td>\n",
       "      <td>100.0</td>\n",
       "      <td>80.00</td>\n",
       "      <td>60.00</td>\n",
       "      <td>100.0</td>\n",
       "    </tr>\n",
       "    <tr>\n",
       "      <td>1499</td>\n",
       "      <td>20.0</td>\n",
       "      <td>20.0</td>\n",
       "      <td>20.0</td>\n",
       "      <td>20.0</td>\n",
       "      <td>20.0</td>\n",
       "      <td>20.0</td>\n",
       "      <td>20.0</td>\n",
       "      <td>20.0</td>\n",
       "      <td>20.0</td>\n",
       "      <td>70.00</td>\n",
       "      <td>30.00</td>\n",
       "      <td>80.0</td>\n",
       "    </tr>\n",
       "  </tbody>\n",
       "</table>\n",
       "<p>490 rows × 12 columns</p>\n",
       "</div>"
      ],
      "text/plain": [
       "month      1     2     3     4     5     6      7     8      9       10  \\\n",
       "user_id                                                                   \n",
       "1000     70.0  70.0  70.0  70.0  70.0  70.0   70.0  70.0   70.0   70.00   \n",
       "1006     70.0  70.0  70.0  70.0  70.0  70.0   70.0  70.0   70.0   70.00   \n",
       "1008     70.0  70.0  70.0  70.0  70.0  70.0   70.0  70.0   70.0   70.00   \n",
       "1011     70.0  70.0  70.0  70.0  70.0  70.0   70.0  70.0   70.0   70.00   \n",
       "1013     70.0  70.0  70.0  70.0  70.0  70.0   70.0  70.0   70.0   70.00   \n",
       "...       ...   ...   ...   ...   ...   ...    ...   ...    ...     ...   \n",
       "1494     20.0  20.0  20.0  20.0  20.0  20.0   20.0  40.0   20.0   22.76   \n",
       "1495     20.0  20.0  20.0  20.0  20.0  20.0   20.0  20.0  100.0  141.77   \n",
       "1496     20.0  20.0  20.0  20.0  20.0  20.0   20.0  20.0   40.0   20.00   \n",
       "1498     20.0  70.0  70.0  70.0  90.0  20.0  120.0  70.0  100.0   80.00   \n",
       "1499     20.0  20.0  20.0  20.0  20.0  20.0   20.0  20.0   20.0   70.00   \n",
       "\n",
       "month        11     12  \n",
       "user_id                 \n",
       "1000      70.00   70.0  \n",
       "1006      70.00   70.0  \n",
       "1008      70.00   70.0  \n",
       "1011      70.00   70.0  \n",
       "1013      70.00   70.0  \n",
       "...         ...    ...  \n",
       "1494      50.27   20.0  \n",
       "1495     120.00  110.0  \n",
       "1496      20.00   40.0  \n",
       "1498      60.00  100.0  \n",
       "1499      30.00   80.0  \n",
       "\n",
       "[490 rows x 12 columns]"
      ]
     },
     "execution_count": 64,
     "metadata": {},
     "output_type": "execute_result"
    }
   ],
   "source": [
    "# create a monthly_revenue table combining ultimate_monthly_revenue and surf_monthly_revenue\n",
    "monthly_revenue = ultimate_monthly_revenue.append([surf_monthly_revenue])\n",
    "monthly_revenue"
   ]
  },
  {
   "cell_type": "code",
   "execution_count": 65,
   "metadata": {},
   "outputs": [
    {
     "name": "stdout",
     "output_type": "stream",
     "text": [
      "\n",
      "There are, 500 rows in users_df, but monthly_revenue has 490 rows. We will investigate the missing rows by creating an outer join and listing the 10 rows without revenue info.\n",
      "\n",
      "Clients without usage information -minutes, messages, or data use-\n"
     ]
    },
    {
     "data": {
      "text/html": [
       "<div>\n",
       "<style scoped>\n",
       "    .dataframe tbody tr th:only-of-type {\n",
       "        vertical-align: middle;\n",
       "    }\n",
       "\n",
       "    .dataframe tbody tr th {\n",
       "        vertical-align: top;\n",
       "    }\n",
       "\n",
       "    .dataframe thead th {\n",
       "        text-align: right;\n",
       "    }\n",
       "</style>\n",
       "<table border=\"1\" class=\"dataframe\">\n",
       "  <thead>\n",
       "    <tr style=\"text-align: right;\">\n",
       "      <th></th>\n",
       "      <th>user_id</th>\n",
       "      <th>first_name</th>\n",
       "      <th>last_name</th>\n",
       "      <th>age</th>\n",
       "      <th>city</th>\n",
       "      <th>reg_date</th>\n",
       "      <th>plan</th>\n",
       "      <th>churn_date</th>\n",
       "      <th>1</th>\n",
       "      <th>2</th>\n",
       "      <th>3</th>\n",
       "      <th>4</th>\n",
       "      <th>5</th>\n",
       "      <th>6</th>\n",
       "      <th>7</th>\n",
       "      <th>8</th>\n",
       "      <th>9</th>\n",
       "      <th>10</th>\n",
       "      <th>11</th>\n",
       "      <th>12</th>\n",
       "    </tr>\n",
       "  </thead>\n",
       "  <tbody>\n",
       "    <tr>\n",
       "      <td>25</td>\n",
       "      <td>1025</td>\n",
       "      <td>Jess</td>\n",
       "      <td>Wilkinson</td>\n",
       "      <td>64</td>\n",
       "      <td>Atlanta-Sandy Springs-Roswell, GA MSA</td>\n",
       "      <td>2018-10-28</td>\n",
       "      <td>ultimate</td>\n",
       "      <td>NaT</td>\n",
       "      <td>NaN</td>\n",
       "      <td>NaN</td>\n",
       "      <td>NaN</td>\n",
       "      <td>NaN</td>\n",
       "      <td>NaN</td>\n",
       "      <td>NaN</td>\n",
       "      <td>NaN</td>\n",
       "      <td>NaN</td>\n",
       "      <td>NaN</td>\n",
       "      <td>NaN</td>\n",
       "      <td>NaN</td>\n",
       "      <td>NaN</td>\n",
       "    </tr>\n",
       "    <tr>\n",
       "      <td>129</td>\n",
       "      <td>1129</td>\n",
       "      <td>Marin</td>\n",
       "      <td>Bolton</td>\n",
       "      <td>70</td>\n",
       "      <td>Baton Rouge, LA MSA</td>\n",
       "      <td>2018-11-10</td>\n",
       "      <td>surf</td>\n",
       "      <td>2018-12-27</td>\n",
       "      <td>NaN</td>\n",
       "      <td>NaN</td>\n",
       "      <td>NaN</td>\n",
       "      <td>NaN</td>\n",
       "      <td>NaN</td>\n",
       "      <td>NaN</td>\n",
       "      <td>NaN</td>\n",
       "      <td>NaN</td>\n",
       "      <td>NaN</td>\n",
       "      <td>NaN</td>\n",
       "      <td>NaN</td>\n",
       "      <td>NaN</td>\n",
       "    </tr>\n",
       "    <tr>\n",
       "      <td>143</td>\n",
       "      <td>1143</td>\n",
       "      <td>Lorina</td>\n",
       "      <td>Stevens</td>\n",
       "      <td>69</td>\n",
       "      <td>Cincinnati, OH-KY-IN MSA</td>\n",
       "      <td>2018-10-26</td>\n",
       "      <td>surf</td>\n",
       "      <td>NaT</td>\n",
       "      <td>NaN</td>\n",
       "      <td>NaN</td>\n",
       "      <td>NaN</td>\n",
       "      <td>NaN</td>\n",
       "      <td>NaN</td>\n",
       "      <td>NaN</td>\n",
       "      <td>NaN</td>\n",
       "      <td>NaN</td>\n",
       "      <td>NaN</td>\n",
       "      <td>NaN</td>\n",
       "      <td>NaN</td>\n",
       "      <td>NaN</td>\n",
       "    </tr>\n",
       "    <tr>\n",
       "      <td>269</td>\n",
       "      <td>1269</td>\n",
       "      <td>Irving</td>\n",
       "      <td>Thompson</td>\n",
       "      <td>39</td>\n",
       "      <td>Dallas-Fort Worth-Arlington, TX MSA</td>\n",
       "      <td>2018-09-13</td>\n",
       "      <td>ultimate</td>\n",
       "      <td>2018-12-15</td>\n",
       "      <td>NaN</td>\n",
       "      <td>NaN</td>\n",
       "      <td>NaN</td>\n",
       "      <td>NaN</td>\n",
       "      <td>NaN</td>\n",
       "      <td>NaN</td>\n",
       "      <td>NaN</td>\n",
       "      <td>NaN</td>\n",
       "      <td>NaN</td>\n",
       "      <td>NaN</td>\n",
       "      <td>NaN</td>\n",
       "      <td>NaN</td>\n",
       "    </tr>\n",
       "    <tr>\n",
       "      <td>275</td>\n",
       "      <td>1275</td>\n",
       "      <td>Elvie</td>\n",
       "      <td>Velazquez</td>\n",
       "      <td>33</td>\n",
       "      <td>New York-Newark-Jersey City, NY-NJ-PA MSA</td>\n",
       "      <td>2018-11-29</td>\n",
       "      <td>ultimate</td>\n",
       "      <td>NaT</td>\n",
       "      <td>NaN</td>\n",
       "      <td>NaN</td>\n",
       "      <td>NaN</td>\n",
       "      <td>NaN</td>\n",
       "      <td>NaN</td>\n",
       "      <td>NaN</td>\n",
       "      <td>NaN</td>\n",
       "      <td>NaN</td>\n",
       "      <td>NaN</td>\n",
       "      <td>NaN</td>\n",
       "      <td>NaN</td>\n",
       "      <td>NaN</td>\n",
       "    </tr>\n",
       "    <tr>\n",
       "      <td>307</td>\n",
       "      <td>1307</td>\n",
       "      <td>Kristopher</td>\n",
       "      <td>Lang</td>\n",
       "      <td>28</td>\n",
       "      <td>Boston-Cambridge-Newton, MA-NH MSA</td>\n",
       "      <td>2018-12-31</td>\n",
       "      <td>surf</td>\n",
       "      <td>NaT</td>\n",
       "      <td>NaN</td>\n",
       "      <td>NaN</td>\n",
       "      <td>NaN</td>\n",
       "      <td>NaN</td>\n",
       "      <td>NaN</td>\n",
       "      <td>NaN</td>\n",
       "      <td>NaN</td>\n",
       "      <td>NaN</td>\n",
       "      <td>NaN</td>\n",
       "      <td>NaN</td>\n",
       "      <td>NaN</td>\n",
       "      <td>NaN</td>\n",
       "    </tr>\n",
       "    <tr>\n",
       "      <td>319</td>\n",
       "      <td>1319</td>\n",
       "      <td>Eliseo</td>\n",
       "      <td>Carson</td>\n",
       "      <td>21</td>\n",
       "      <td>Colorado Springs, CO MSA</td>\n",
       "      <td>2018-06-17</td>\n",
       "      <td>surf</td>\n",
       "      <td>NaT</td>\n",
       "      <td>NaN</td>\n",
       "      <td>NaN</td>\n",
       "      <td>NaN</td>\n",
       "      <td>NaN</td>\n",
       "      <td>NaN</td>\n",
       "      <td>NaN</td>\n",
       "      <td>NaN</td>\n",
       "      <td>NaN</td>\n",
       "      <td>NaN</td>\n",
       "      <td>NaN</td>\n",
       "      <td>NaN</td>\n",
       "      <td>NaN</td>\n",
       "    </tr>\n",
       "    <tr>\n",
       "      <td>378</td>\n",
       "      <td>1378</td>\n",
       "      <td>Mckinley</td>\n",
       "      <td>Clayton</td>\n",
       "      <td>22</td>\n",
       "      <td>Denver-Aurora-Lakewood, CO MSA</td>\n",
       "      <td>2018-12-17</td>\n",
       "      <td>surf</td>\n",
       "      <td>NaT</td>\n",
       "      <td>NaN</td>\n",
       "      <td>NaN</td>\n",
       "      <td>NaN</td>\n",
       "      <td>NaN</td>\n",
       "      <td>NaN</td>\n",
       "      <td>NaN</td>\n",
       "      <td>NaN</td>\n",
       "      <td>NaN</td>\n",
       "      <td>NaN</td>\n",
       "      <td>NaN</td>\n",
       "      <td>NaN</td>\n",
       "      <td>NaN</td>\n",
       "    </tr>\n",
       "    <tr>\n",
       "      <td>463</td>\n",
       "      <td>1463</td>\n",
       "      <td>Dinorah</td>\n",
       "      <td>Simmons</td>\n",
       "      <td>30</td>\n",
       "      <td>Atlanta-Sandy Springs-Roswell, GA MSA</td>\n",
       "      <td>2018-11-27</td>\n",
       "      <td>ultimate</td>\n",
       "      <td>NaT</td>\n",
       "      <td>NaN</td>\n",
       "      <td>NaN</td>\n",
       "      <td>NaN</td>\n",
       "      <td>NaN</td>\n",
       "      <td>NaN</td>\n",
       "      <td>NaN</td>\n",
       "      <td>NaN</td>\n",
       "      <td>NaN</td>\n",
       "      <td>NaN</td>\n",
       "      <td>NaN</td>\n",
       "      <td>NaN</td>\n",
       "      <td>NaN</td>\n",
       "    </tr>\n",
       "    <tr>\n",
       "      <td>473</td>\n",
       "      <td>1473</td>\n",
       "      <td>Kirk</td>\n",
       "      <td>Velez</td>\n",
       "      <td>61</td>\n",
       "      <td>Louisville/Jefferson County, KY-IN MSA</td>\n",
       "      <td>2018-12-31</td>\n",
       "      <td>surf</td>\n",
       "      <td>NaT</td>\n",
       "      <td>NaN</td>\n",
       "      <td>NaN</td>\n",
       "      <td>NaN</td>\n",
       "      <td>NaN</td>\n",
       "      <td>NaN</td>\n",
       "      <td>NaN</td>\n",
       "      <td>NaN</td>\n",
       "      <td>NaN</td>\n",
       "      <td>NaN</td>\n",
       "      <td>NaN</td>\n",
       "      <td>NaN</td>\n",
       "      <td>NaN</td>\n",
       "    </tr>\n",
       "  </tbody>\n",
       "</table>\n",
       "</div>"
      ],
      "text/plain": [
       "     user_id  first_name  last_name  age  \\\n",
       "25      1025        Jess  Wilkinson   64   \n",
       "129     1129       Marin     Bolton   70   \n",
       "143     1143      Lorina    Stevens   69   \n",
       "269     1269      Irving   Thompson   39   \n",
       "275     1275       Elvie  Velazquez   33   \n",
       "307     1307  Kristopher       Lang   28   \n",
       "319     1319      Eliseo     Carson   21   \n",
       "378     1378    Mckinley    Clayton   22   \n",
       "463     1463     Dinorah    Simmons   30   \n",
       "473     1473        Kirk      Velez   61   \n",
       "\n",
       "                                          city   reg_date      plan  \\\n",
       "25       Atlanta-Sandy Springs-Roswell, GA MSA 2018-10-28  ultimate   \n",
       "129                        Baton Rouge, LA MSA 2018-11-10      surf   \n",
       "143                   Cincinnati, OH-KY-IN MSA 2018-10-26      surf   \n",
       "269        Dallas-Fort Worth-Arlington, TX MSA 2018-09-13  ultimate   \n",
       "275  New York-Newark-Jersey City, NY-NJ-PA MSA 2018-11-29  ultimate   \n",
       "307         Boston-Cambridge-Newton, MA-NH MSA 2018-12-31      surf   \n",
       "319                   Colorado Springs, CO MSA 2018-06-17      surf   \n",
       "378             Denver-Aurora-Lakewood, CO MSA 2018-12-17      surf   \n",
       "463      Atlanta-Sandy Springs-Roswell, GA MSA 2018-11-27  ultimate   \n",
       "473     Louisville/Jefferson County, KY-IN MSA 2018-12-31      surf   \n",
       "\n",
       "    churn_date   1   2   3   4   5   6   7   8   9  10  11  12  \n",
       "25         NaT NaN NaN NaN NaN NaN NaN NaN NaN NaN NaN NaN NaN  \n",
       "129 2018-12-27 NaN NaN NaN NaN NaN NaN NaN NaN NaN NaN NaN NaN  \n",
       "143        NaT NaN NaN NaN NaN NaN NaN NaN NaN NaN NaN NaN NaN  \n",
       "269 2018-12-15 NaN NaN NaN NaN NaN NaN NaN NaN NaN NaN NaN NaN  \n",
       "275        NaT NaN NaN NaN NaN NaN NaN NaN NaN NaN NaN NaN NaN  \n",
       "307        NaT NaN NaN NaN NaN NaN NaN NaN NaN NaN NaN NaN NaN  \n",
       "319        NaT NaN NaN NaN NaN NaN NaN NaN NaN NaN NaN NaN NaN  \n",
       "378        NaT NaN NaN NaN NaN NaN NaN NaN NaN NaN NaN NaN NaN  \n",
       "463        NaT NaN NaN NaN NaN NaN NaN NaN NaN NaN NaN NaN NaN  \n",
       "473        NaT NaN NaN NaN NaN NaN NaN NaN NaN NaN NaN NaN NaN  "
      ]
     },
     "execution_count": 65,
     "metadata": {},
     "output_type": "execute_result"
    }
   ],
   "source": [
    "\n",
    "print('\\nThere are,', len(users_df), 'rows in users_df, but monthly_revenue has', \\\n",
    "     len(monthly_revenue), 'rows. We will investigate the missing rows by creating an '\\\n",
    "     'outer join and listing the', (len(users_df)-len(monthly_revenue)), 'rows without revenue info.')\n",
    "# add monthly_revenue to users_df using outer join\n",
    "monthly_users = pd.merge(users_df, monthly_revenue, how='outer', on=['user_id', 'user_id'])\n",
    "# list the clients on the users_df list only\n",
    "print('\\nClients without usage information -minutes, messages, or data use-')\n",
    "monthly_users[monthly_users[1].isna()]"
   ]
  },
  {
   "cell_type": "markdown",
   "metadata": {},
   "source": [
    "Without usage information, we could fill in values with the monthly plan rate, but that wouldn't add to our analysis. We could attempt to fill values using other factors like age or location to help estimate, but we have 490 rows with valid, calcuated data. At this point, we will delete these rows by creating an inner join between users_df and monthly_revenue."
   ]
  },
  {
   "cell_type": "code",
   "execution_count": 66,
   "metadata": {},
   "outputs": [
    {
     "data": {
      "text/html": [
       "<div>\n",
       "<style scoped>\n",
       "    .dataframe tbody tr th:only-of-type {\n",
       "        vertical-align: middle;\n",
       "    }\n",
       "\n",
       "    .dataframe tbody tr th {\n",
       "        vertical-align: top;\n",
       "    }\n",
       "\n",
       "    .dataframe thead th {\n",
       "        text-align: right;\n",
       "    }\n",
       "</style>\n",
       "<table border=\"1\" class=\"dataframe\">\n",
       "  <thead>\n",
       "    <tr style=\"text-align: right;\">\n",
       "      <th></th>\n",
       "      <th>user_id</th>\n",
       "      <th>first_name</th>\n",
       "      <th>last_name</th>\n",
       "      <th>age</th>\n",
       "      <th>city</th>\n",
       "      <th>reg_date</th>\n",
       "      <th>plan</th>\n",
       "      <th>churn_date</th>\n",
       "      <th>1</th>\n",
       "      <th>2</th>\n",
       "      <th>3</th>\n",
       "      <th>4</th>\n",
       "      <th>5</th>\n",
       "      <th>6</th>\n",
       "      <th>7</th>\n",
       "      <th>8</th>\n",
       "      <th>9</th>\n",
       "      <th>10</th>\n",
       "      <th>11</th>\n",
       "      <th>12</th>\n",
       "    </tr>\n",
       "  </thead>\n",
       "  <tbody>\n",
       "    <tr>\n",
       "      <td>0</td>\n",
       "      <td>1000</td>\n",
       "      <td>Anamaria</td>\n",
       "      <td>Bauer</td>\n",
       "      <td>45</td>\n",
       "      <td>Atlanta-Sandy Springs-Roswell, GA MSA</td>\n",
       "      <td>2018-12-24</td>\n",
       "      <td>ultimate</td>\n",
       "      <td>NaT</td>\n",
       "      <td>70.0</td>\n",
       "      <td>70.0</td>\n",
       "      <td>70.0</td>\n",
       "      <td>70.0</td>\n",
       "      <td>70.0</td>\n",
       "      <td>70.0</td>\n",
       "      <td>70.0</td>\n",
       "      <td>70.0</td>\n",
       "      <td>70.0</td>\n",
       "      <td>70.00</td>\n",
       "      <td>70.0</td>\n",
       "      <td>70.00</td>\n",
       "    </tr>\n",
       "    <tr>\n",
       "      <td>1</td>\n",
       "      <td>1001</td>\n",
       "      <td>Mickey</td>\n",
       "      <td>Wilkerson</td>\n",
       "      <td>28</td>\n",
       "      <td>Seattle-Tacoma-Bellevue, WA MSA</td>\n",
       "      <td>2018-08-13</td>\n",
       "      <td>surf</td>\n",
       "      <td>NaT</td>\n",
       "      <td>20.0</td>\n",
       "      <td>20.0</td>\n",
       "      <td>20.0</td>\n",
       "      <td>20.0</td>\n",
       "      <td>20.0</td>\n",
       "      <td>20.0</td>\n",
       "      <td>20.0</td>\n",
       "      <td>20.0</td>\n",
       "      <td>20.0</td>\n",
       "      <td>90.09</td>\n",
       "      <td>60.0</td>\n",
       "      <td>60.00</td>\n",
       "    </tr>\n",
       "    <tr>\n",
       "      <td>2</td>\n",
       "      <td>1002</td>\n",
       "      <td>Carlee</td>\n",
       "      <td>Hoffman</td>\n",
       "      <td>36</td>\n",
       "      <td>Las Vegas-Henderson-Paradise, NV MSA</td>\n",
       "      <td>2018-10-21</td>\n",
       "      <td>surf</td>\n",
       "      <td>NaT</td>\n",
       "      <td>20.0</td>\n",
       "      <td>20.0</td>\n",
       "      <td>20.0</td>\n",
       "      <td>20.0</td>\n",
       "      <td>20.0</td>\n",
       "      <td>20.0</td>\n",
       "      <td>20.0</td>\n",
       "      <td>20.0</td>\n",
       "      <td>20.0</td>\n",
       "      <td>20.00</td>\n",
       "      <td>60.0</td>\n",
       "      <td>20.00</td>\n",
       "    </tr>\n",
       "    <tr>\n",
       "      <td>3</td>\n",
       "      <td>1003</td>\n",
       "      <td>Reynaldo</td>\n",
       "      <td>Jenkins</td>\n",
       "      <td>52</td>\n",
       "      <td>Tulsa, OK MSA</td>\n",
       "      <td>2018-01-28</td>\n",
       "      <td>surf</td>\n",
       "      <td>NaT</td>\n",
       "      <td>20.0</td>\n",
       "      <td>20.0</td>\n",
       "      <td>20.0</td>\n",
       "      <td>20.0</td>\n",
       "      <td>20.0</td>\n",
       "      <td>20.0</td>\n",
       "      <td>20.0</td>\n",
       "      <td>20.0</td>\n",
       "      <td>20.0</td>\n",
       "      <td>20.00</td>\n",
       "      <td>20.0</td>\n",
       "      <td>136.56</td>\n",
       "    </tr>\n",
       "    <tr>\n",
       "      <td>4</td>\n",
       "      <td>1004</td>\n",
       "      <td>Leonila</td>\n",
       "      <td>Thompson</td>\n",
       "      <td>40</td>\n",
       "      <td>Seattle-Tacoma-Bellevue, WA MSA</td>\n",
       "      <td>2018-05-23</td>\n",
       "      <td>surf</td>\n",
       "      <td>NaT</td>\n",
       "      <td>20.0</td>\n",
       "      <td>20.0</td>\n",
       "      <td>20.0</td>\n",
       "      <td>20.0</td>\n",
       "      <td>20.0</td>\n",
       "      <td>80.0</td>\n",
       "      <td>110.0</td>\n",
       "      <td>150.0</td>\n",
       "      <td>60.0</td>\n",
       "      <td>20.00</td>\n",
       "      <td>90.0</td>\n",
       "      <td>80.00</td>\n",
       "    </tr>\n",
       "    <tr>\n",
       "      <td>...</td>\n",
       "      <td>...</td>\n",
       "      <td>...</td>\n",
       "      <td>...</td>\n",
       "      <td>...</td>\n",
       "      <td>...</td>\n",
       "      <td>...</td>\n",
       "      <td>...</td>\n",
       "      <td>...</td>\n",
       "      <td>...</td>\n",
       "      <td>...</td>\n",
       "      <td>...</td>\n",
       "      <td>...</td>\n",
       "      <td>...</td>\n",
       "      <td>...</td>\n",
       "      <td>...</td>\n",
       "      <td>...</td>\n",
       "      <td>...</td>\n",
       "      <td>...</td>\n",
       "      <td>...</td>\n",
       "      <td>...</td>\n",
       "    </tr>\n",
       "    <tr>\n",
       "      <td>485</td>\n",
       "      <td>1495</td>\n",
       "      <td>Fidel</td>\n",
       "      <td>Sharpe</td>\n",
       "      <td>67</td>\n",
       "      <td>New York-Newark-Jersey City, NY-NJ-PA MSA</td>\n",
       "      <td>2018-09-04</td>\n",
       "      <td>surf</td>\n",
       "      <td>NaT</td>\n",
       "      <td>20.0</td>\n",
       "      <td>20.0</td>\n",
       "      <td>20.0</td>\n",
       "      <td>20.0</td>\n",
       "      <td>20.0</td>\n",
       "      <td>20.0</td>\n",
       "      <td>20.0</td>\n",
       "      <td>20.0</td>\n",
       "      <td>100.0</td>\n",
       "      <td>141.77</td>\n",
       "      <td>120.0</td>\n",
       "      <td>110.00</td>\n",
       "    </tr>\n",
       "    <tr>\n",
       "      <td>486</td>\n",
       "      <td>1496</td>\n",
       "      <td>Ariel</td>\n",
       "      <td>Shepherd</td>\n",
       "      <td>49</td>\n",
       "      <td>New Orleans-Metairie, LA MSA</td>\n",
       "      <td>2018-02-20</td>\n",
       "      <td>surf</td>\n",
       "      <td>NaT</td>\n",
       "      <td>20.0</td>\n",
       "      <td>20.0</td>\n",
       "      <td>20.0</td>\n",
       "      <td>20.0</td>\n",
       "      <td>20.0</td>\n",
       "      <td>20.0</td>\n",
       "      <td>20.0</td>\n",
       "      <td>20.0</td>\n",
       "      <td>40.0</td>\n",
       "      <td>20.00</td>\n",
       "      <td>20.0</td>\n",
       "      <td>40.00</td>\n",
       "    </tr>\n",
       "    <tr>\n",
       "      <td>487</td>\n",
       "      <td>1497</td>\n",
       "      <td>Donte</td>\n",
       "      <td>Barrera</td>\n",
       "      <td>49</td>\n",
       "      <td>Los Angeles-Long Beach-Anaheim, CA MSA</td>\n",
       "      <td>2018-12-10</td>\n",
       "      <td>ultimate</td>\n",
       "      <td>NaT</td>\n",
       "      <td>70.0</td>\n",
       "      <td>70.0</td>\n",
       "      <td>70.0</td>\n",
       "      <td>70.0</td>\n",
       "      <td>70.0</td>\n",
       "      <td>70.0</td>\n",
       "      <td>70.0</td>\n",
       "      <td>70.0</td>\n",
       "      <td>70.0</td>\n",
       "      <td>70.00</td>\n",
       "      <td>70.0</td>\n",
       "      <td>70.00</td>\n",
       "    </tr>\n",
       "    <tr>\n",
       "      <td>488</td>\n",
       "      <td>1498</td>\n",
       "      <td>Scot</td>\n",
       "      <td>Williamson</td>\n",
       "      <td>51</td>\n",
       "      <td>New York-Newark-Jersey City, NY-NJ-PA MSA</td>\n",
       "      <td>2018-02-04</td>\n",
       "      <td>surf</td>\n",
       "      <td>NaT</td>\n",
       "      <td>20.0</td>\n",
       "      <td>70.0</td>\n",
       "      <td>70.0</td>\n",
       "      <td>70.0</td>\n",
       "      <td>90.0</td>\n",
       "      <td>20.0</td>\n",
       "      <td>120.0</td>\n",
       "      <td>70.0</td>\n",
       "      <td>100.0</td>\n",
       "      <td>80.00</td>\n",
       "      <td>60.0</td>\n",
       "      <td>100.00</td>\n",
       "    </tr>\n",
       "    <tr>\n",
       "      <td>489</td>\n",
       "      <td>1499</td>\n",
       "      <td>Shena</td>\n",
       "      <td>Dickson</td>\n",
       "      <td>37</td>\n",
       "      <td>Orlando-Kissimmee-Sanford, FL MSA</td>\n",
       "      <td>2018-05-06</td>\n",
       "      <td>surf</td>\n",
       "      <td>NaT</td>\n",
       "      <td>20.0</td>\n",
       "      <td>20.0</td>\n",
       "      <td>20.0</td>\n",
       "      <td>20.0</td>\n",
       "      <td>20.0</td>\n",
       "      <td>20.0</td>\n",
       "      <td>20.0</td>\n",
       "      <td>20.0</td>\n",
       "      <td>20.0</td>\n",
       "      <td>70.00</td>\n",
       "      <td>30.0</td>\n",
       "      <td>80.00</td>\n",
       "    </tr>\n",
       "  </tbody>\n",
       "</table>\n",
       "<p>490 rows × 20 columns</p>\n",
       "</div>"
      ],
      "text/plain": [
       "     user_id first_name   last_name  age  \\\n",
       "0       1000   Anamaria       Bauer   45   \n",
       "1       1001     Mickey   Wilkerson   28   \n",
       "2       1002     Carlee     Hoffman   36   \n",
       "3       1003   Reynaldo     Jenkins   52   \n",
       "4       1004    Leonila    Thompson   40   \n",
       "..       ...        ...         ...  ...   \n",
       "485     1495      Fidel      Sharpe   67   \n",
       "486     1496      Ariel    Shepherd   49   \n",
       "487     1497      Donte     Barrera   49   \n",
       "488     1498       Scot  Williamson   51   \n",
       "489     1499      Shena     Dickson   37   \n",
       "\n",
       "                                          city   reg_date      plan  \\\n",
       "0        Atlanta-Sandy Springs-Roswell, GA MSA 2018-12-24  ultimate   \n",
       "1              Seattle-Tacoma-Bellevue, WA MSA 2018-08-13      surf   \n",
       "2         Las Vegas-Henderson-Paradise, NV MSA 2018-10-21      surf   \n",
       "3                                Tulsa, OK MSA 2018-01-28      surf   \n",
       "4              Seattle-Tacoma-Bellevue, WA MSA 2018-05-23      surf   \n",
       "..                                         ...        ...       ...   \n",
       "485  New York-Newark-Jersey City, NY-NJ-PA MSA 2018-09-04      surf   \n",
       "486               New Orleans-Metairie, LA MSA 2018-02-20      surf   \n",
       "487     Los Angeles-Long Beach-Anaheim, CA MSA 2018-12-10  ultimate   \n",
       "488  New York-Newark-Jersey City, NY-NJ-PA MSA 2018-02-04      surf   \n",
       "489          Orlando-Kissimmee-Sanford, FL MSA 2018-05-06      surf   \n",
       "\n",
       "    churn_date     1     2     3     4     5     6      7      8      9  \\\n",
       "0          NaT  70.0  70.0  70.0  70.0  70.0  70.0   70.0   70.0   70.0   \n",
       "1          NaT  20.0  20.0  20.0  20.0  20.0  20.0   20.0   20.0   20.0   \n",
       "2          NaT  20.0  20.0  20.0  20.0  20.0  20.0   20.0   20.0   20.0   \n",
       "3          NaT  20.0  20.0  20.0  20.0  20.0  20.0   20.0   20.0   20.0   \n",
       "4          NaT  20.0  20.0  20.0  20.0  20.0  80.0  110.0  150.0   60.0   \n",
       "..         ...   ...   ...   ...   ...   ...   ...    ...    ...    ...   \n",
       "485        NaT  20.0  20.0  20.0  20.0  20.0  20.0   20.0   20.0  100.0   \n",
       "486        NaT  20.0  20.0  20.0  20.0  20.0  20.0   20.0   20.0   40.0   \n",
       "487        NaT  70.0  70.0  70.0  70.0  70.0  70.0   70.0   70.0   70.0   \n",
       "488        NaT  20.0  70.0  70.0  70.0  90.0  20.0  120.0   70.0  100.0   \n",
       "489        NaT  20.0  20.0  20.0  20.0  20.0  20.0   20.0   20.0   20.0   \n",
       "\n",
       "         10     11      12  \n",
       "0     70.00   70.0   70.00  \n",
       "1     90.09   60.0   60.00  \n",
       "2     20.00   60.0   20.00  \n",
       "3     20.00   20.0  136.56  \n",
       "4     20.00   90.0   80.00  \n",
       "..      ...    ...     ...  \n",
       "485  141.77  120.0  110.00  \n",
       "486   20.00   20.0   40.00  \n",
       "487   70.00   70.0   70.00  \n",
       "488   80.00   60.0  100.00  \n",
       "489   70.00   30.0   80.00  \n",
       "\n",
       "[490 rows x 20 columns]"
      ]
     },
     "execution_count": 66,
     "metadata": {},
     "output_type": "execute_result"
    }
   ],
   "source": [
    "# create monthly table with inner join\n",
    "monthly = pd.merge(users_df, monthly_revenue, how='inner', on=['user_id', 'user_id'])\n",
    "monthly"
   ]
  },
  {
   "cell_type": "code",
   "execution_count": 67,
   "metadata": {},
   "outputs": [
    {
     "name": "stdout",
     "output_type": "stream",
     "text": [
      "After our inner join, we have 490 rows in our monthly table.\n"
     ]
    }
   ],
   "source": [
    "print('After our inner join, we have', len(monthly), 'rows in our monthly table.')"
   ]
  },
  {
   "cell_type": "markdown",
   "metadata": {},
   "source": [
    "\n"
   ]
  },
  {
   "cell_type": "markdown",
   "metadata": {},
   "source": [
    "<a class=\"anchor\" id=\"calculations_conclusion\"></a>\n",
    "**2.1 Calculations conclusion**\n",
    "\n",
    "- We rounded the calls_df duration (minutes rounded by each call)\n",
    "- We calculated the number of calls per month per user\n",
    "- We calculated the minutes used per month per user (minutes rounded by each call)\n",
    "- We calculated the volume of data per month per user (gb rounded by monthly total)\n",
    "- We calculated the number of text messages sent per month per user\n",
    "- We calculated the monthly revenue from each user and put it into a table called monthly_revenue\n",
    "- We created a monthly df table with an inner join between users_df and monthly_revenue which eliminated the 10 rows without any information about usage"
   ]
  },
  {
   "cell_type": "markdown",
   "metadata": {},
   "source": [
    "**[Return to table of contents](#table_of_contents)**"
   ]
  },
  {
   "cell_type": "markdown",
   "metadata": {},
   "source": [
    "<a class=\"anchor\" id=\"exploratory_data_analysis\"></a>\n",
    "**3. Exploratory data analysis**\n",
    "\n",
    "- First we will examine the monthly minutes, volume of data, and messages per plan\n",
    "- We will calculate the mean, variance, and standard deviation\n",
    "- We will plot histograms and describe the charts\n",
    "- We will test the null hypotheses"
   ]
  },
  {
   "cell_type": "code",
   "execution_count": 68,
   "metadata": {},
   "outputs": [],
   "source": [
    "# find the minutes, texts, and volume of data the users of each plan require per month\n",
    "\n",
    "# create the averages for months for the plans \n",
    "surf_avg_minutes = surf_minutes.mean(axis=0)\n",
    "surf_avg_data = surf_data.mean(axis=0)\n",
    "surf_avg_messages = surf_messages.mean(axis=0)\n",
    "ultimate_avg_minutes = ultimate_minutes.mean(axis=0)\n",
    "ultimate_avg_data = ultimate_data.mean(axis=0)\n",
    "ultimate_avg_messages = ultimate_messages.mean(axis=0)\n",
    " \n",
    "\n",
    "# rename the index names for more descriptive chart labeling\n",
    "surf_avg_minutes.rename(index={1: 'Jan', 2: 'Feb', 3: 'Mar', \\\n",
    "                 4: 'Apr', 5: 'May', 6: 'Jun', 7: 'Jul', \\\n",
    "                 8: 'Aug', 9: 'Sep', 10: 'Oct', \\\n",
    "                 11: 'Nov', 12: 'Dec'}, inplace=True)\n",
    "surf_avg_data.rename(index={1: 'Jan', 2: 'Feb', 3: 'Mar', \\\n",
    "                 4: 'Apr', 5: 'May', 6: 'Jun', 7: 'Jul', \\\n",
    "                 8: 'Aug', 9: 'Sep', 10: 'Oct', \\\n",
    "                 11: 'Nov', 12: 'Dec'}, inplace=True)\n",
    "surf_avg_messages.rename(index={1: 'Jan', 2: 'Feb', 3: 'Mar', \\\n",
    "                 4: 'Apr', 5: 'May', 6: 'Jun', 7: 'Jul', \\\n",
    "                 8: 'Aug', 9: 'Sep', 10: 'Oct', \\\n",
    "                 11: 'Nov', 12: 'Dec'}, inplace=True)\n",
    "ultimate_avg_minutes.rename(index={1: 'Jan', 2: 'Feb', 3: 'Mar', \\\n",
    "                 4: 'Apr', 5: 'May', 6: 'Jun', 7: 'Jul', \\\n",
    "                 8: 'Aug', 9: 'Sep', 10: 'Oct', \\\n",
    "                 11: 'Nov', 12: 'Dec'}, inplace=True)\n",
    "ultimate_avg_data.rename(index={1: 'Jan', 2: 'Feb', 3: 'Mar', \\\n",
    "                 4: 'Apr', 5: 'May', 6: 'Jun', 7: 'Jul', \\\n",
    "                 8: 'Aug', 9: 'Sep', 10: 'Oct', \\\n",
    "                 11: 'Nov', 12: 'Dec'}, inplace=True)\n",
    "ultimate_avg_messages.rename(index={1: 'Jan', 2: 'Feb', 3: 'Mar', \\\n",
    "                 4: 'Apr', 5: 'May', 6: 'Jun', 7: 'Jul', \\\n",
    "                 8: 'Aug', 9: 'Sep', 10: 'Oct', \\\n",
    "                 11: 'Nov', 12: 'Dec'}, inplace=True)"
   ]
  },
  {
   "cell_type": "code",
   "execution_count": 69,
   "metadata": {},
   "outputs": [
    {
     "name": "stdout",
     "output_type": "stream",
     "text": [
      "---Average minutes per month---\n",
      "\n",
      "Surf plan average minutes\n",
      " month\n",
      "Jan    203.00\n",
      "Feb    285.00\n",
      "Mar    324.30\n",
      "Apr    344.54\n",
      "May    399.08\n",
      "Jun    422.43\n",
      "Jul    444.44\n",
      "Aug    408.05\n",
      "Sep    408.76\n",
      "Oct    432.19\n",
      "Nov    423.55\n",
      "Dec    472.05\n",
      "dtype: float64 \n",
      "\n",
      "Ultimate plan average minutes\n",
      " month\n",
      "Jan    180.75\n",
      "Feb    452.33\n",
      "Mar    297.50\n",
      "Apr    329.57\n",
      "May    397.31\n",
      "Jun    378.36\n",
      "Jul    416.73\n",
      "Aug    411.56\n",
      "Sep    426.65\n",
      "Oct    440.10\n",
      "Nov    442.16\n",
      "Dec    454.59\n",
      "dtype: float64\n",
      "\n",
      "The average minutes used for all Surf plan users for all months is 380.62 \n",
      "The average minutes used for all Ultimate plan users for all months is 385.63\n"
     ]
    }
   ],
   "source": [
    "# print the average minutes per month for the 2 plans\n",
    "print('---Average minutes per month---')\n",
    "print('\\nSurf plan average minutes\\n', surf_avg_minutes.round(2),\\\n",
    "      '\\n\\nUltimate plan average minutes\\n', ultimate_avg_minutes.round(2))\n",
    "print('\\nThe average minutes used for all Surf plan users for all months is', \\\n",
    "      surf_avg_minutes.mean().round(2), '\\nThe average minutes used for all Ultimate',\\\n",
    "     'plan users for all months is', ultimate_avg_minutes.mean().round(2))"
   ]
  },
  {
   "cell_type": "code",
   "execution_count": 70,
   "metadata": {
    "scrolled": true
   },
   "outputs": [
    {
     "data": {
      "image/png": "[encoded data removed]",
      "text/plain": [
       "<Figure size 432x288 with 1 Axes>"
      ]
     },
     "metadata": {
      "needs_background": "light"
     },
     "output_type": "display_data"
    }
   ],
   "source": [
    "# plot a graph comparing the overall minutes used per plan \n",
    "surf_min_data = pd.Series(surf_avg_minutes)\n",
    "ultimate_min_data =pd.Series(ultimate_avg_minutes)\n",
    "plt.title('Distribution of calls with minute usage\\n'\\\n",
    "          'Surf plan = orange & Ultimate plan = blue\\n', fontsize=16)\n",
    "plt.ylabel('Proportional frequency\\n', fontsize=12)\n",
    "plt.xlabel('\\nMinute usage', fontsize=12)\n",
    "surf_min_data.hist(bins=[150, 200, 250, 300, 350, 400, 450, 500], alpha=0.5)  \n",
    "ultimate_min_data.hist(bins=[150, 200, 250, 300, 350, 400, 450, 500], alpha=0.8) \n",
    "plt.show()"
   ]
  },
  {
   "cell_type": "markdown",
   "metadata": {},
   "source": [
    "When we examine the average minutes used per month for all users, we observe users increased their use of minutes as the year progresses. Overall, the numbers for the Surf plan and Ultimate plan are look fairly similar for the year with a cursory examination. The calculated mean for all months is similar (380.62 vs 385.63). We will further examine differences between the Surf and Ultimate plans when we look at variance and standard deviation after our initial analysis of data and messages. \n",
    "\n",
    "When we graph the two groups, we do note distinct differences in the some selections of calls. We divided the population into bin groups of 50 minutes because that reveals the clearest differences between the Surf and Ultimate plans. out of a total of 15 blocks, 3 of them are greater in the Surf plan and 3 of them are greater in the Ultimate plan. The other 7 blocks share distribution. Since almost half of the blocks are greater in one or the other plans, this suggests there is a statistical difference.\n",
    "\n",
    "Now we will compare the Surf and Ultimate plan use of data."
   ]
  },
  {
   "cell_type": "code",
   "execution_count": 71,
   "metadata": {},
   "outputs": [
    {
     "name": "stdout",
     "output_type": "stream",
     "text": [
      "\n",
      "---Average data use in GB per month---\n",
      "\n",
      "Surf plan average data\n",
      " month\n",
      "Jan     4.500000\n",
      "Feb    12.000000\n",
      "Mar    13.350000\n",
      "Apr    12.290000\n",
      "May    14.170000\n",
      "Jun    15.610000\n",
      "Jul    16.809999\n",
      "Aug    16.959999\n",
      "Sep    16.600000\n",
      "Oct    17.400000\n",
      "Nov    16.360001\n",
      "Dec    18.020000\n",
      "dtype: float32 \n",
      "\n",
      "Ultimate plan average data\n",
      " month\n",
      "Jan     7.250000\n",
      "Feb    17.290001\n",
      "Mar    17.830000\n",
      "Apr    16.139999\n",
      "May    16.590000\n",
      "Jun    15.110000\n",
      "Jul    16.290001\n",
      "Aug    17.510000\n",
      "Sep    16.760000\n",
      "Oct    17.770000\n",
      "Nov    16.850000\n",
      "Dec    18.030001\n",
      "dtype: float32\n",
      "\n",
      "The average data used for all Surf plan users for all months is 14.51 \n",
      "The average data used for all Ultimate plan users for all months is 16.12\n"
     ]
    }
   ],
   "source": [
    "# print the average data use per month for the 2 plans\n",
    "print('\\n---Average data use in GB per month---')\n",
    "print('\\nSurf plan average data\\n', surf_avg_data.round(2),\\\n",
    "      '\\n\\nUltimate plan average data\\n', ultimate_avg_data.round(2))\n",
    "print('\\nThe average data used for all Surf plan users for all months is', \\\n",
    "      surf_avg_data.mean().round(2), '\\nThe average data used for all Ultimate',\\\n",
    "     'plan users for all months is', ultimate_avg_data.mean().round(2))"
   ]
  },
  {
   "cell_type": "code",
   "execution_count": 72,
   "metadata": {},
   "outputs": [
    {
     "data": {
      "image/png": "[encoded data removed]",
      "text/plain": [
       "<Figure size 432x288 with 1 Axes>"
      ]
     },
     "metadata": {
      "needs_background": "light"
     },
     "output_type": "display_data"
    }
   ],
   "source": [
    "# plot a graph comparing the overall minutes used per plan \n",
    "surf_gb_data = pd.Series(surf_avg_data)\n",
    "ultimate_gb_data =pd.Series(ultimate_avg_data)\n",
    "plt.title('Distribution of calls with data (GB) usage\\n'\\\n",
    "          'Surf plan = orange & Ultimate plan = blue\\n', fontsize=16)\n",
    "plt.ylabel('Proportional frequency\\n', fontsize=12)\n",
    "plt.xlabel('\\nData in GB usage', fontsize=12)\n",
    "surf_gb_data.hist(bins=20, alpha=0.5)  \n",
    "ultimate_gb_data.hist(bins=20, alpha=0.8) \n",
    "plt.show()"
   ]
  },
  {
   "cell_type": "markdown",
   "metadata": {},
   "source": [
    "Again, we observe users increased their use of data as the year progresses. While the last month is almost identical between the 2 groups, there appears to be notable differences across the months. Additionally, the mean of all months (14.51 vs 16.12) is around 10% by eyeball estimation, a fairly large amount.\n",
    "\n",
    "When we graph the two groups, we do note distinct differences in many groups. Selecting an automatic division of the populatation based on 20 groups demonstrates clear differences in proportional frequency between the 2 groups.\n",
    "\n",
    "We will further examine these differences when we look at variance and standard deviation. But next, we compare the Surf and Ultimate plan use of messages."
   ]
  },
  {
   "cell_type": "code",
   "execution_count": 73,
   "metadata": {},
   "outputs": [
    {
     "name": "stdout",
     "output_type": "stream",
     "text": [
      "\n",
      "---Average messages per month---\n",
      "\n",
      "Surf plan average messages\n",
      " month\n",
      "Jan    21.00\n",
      "Feb    21.60\n",
      "Mar    21.94\n",
      "Apr    24.17\n",
      "May    33.02\n",
      "Jun    33.62\n",
      "Jul    35.95\n",
      "Aug    37.60\n",
      "Sep    39.52\n",
      "Oct    42.43\n",
      "Nov    40.55\n",
      "Dec    48.33\n",
      "dtype: float64 \n",
      "\n",
      "Ultimate plan average messages\n",
      " month\n",
      "Jan    20.67\n",
      "Feb    25.17\n",
      "Mar    34.71\n",
      "Apr    28.94\n",
      "May    44.33\n",
      "Jun    36.29\n",
      "Jul    41.21\n",
      "Aug    47.93\n",
      "Sep    45.90\n",
      "Oct    46.98\n",
      "Nov    47.60\n",
      "Dec    53.94\n",
      "dtype: float64\n",
      "\n",
      "The average messages used for all Surf plan users for all months is 33.31 \n",
      "The average messages used for all Ultimate plan users for all months is 39.47\n"
     ]
    }
   ],
   "source": [
    "# print the average messages per month for the 2 plans\n",
    "print('\\n---Average messages per month---')\n",
    "print('\\nSurf plan average messages\\n', surf_avg_messages.round(2),\\\n",
    "      '\\n\\nUltimate plan average messages\\n', ultimate_avg_messages.round(2))\n",
    "print('\\nThe average messages used for all Surf plan users for all months is', \\\n",
    "      surf_avg_messages.mean().round(2), '\\nThe average messages used for all Ultimate',\\\n",
    "     'plan users for all months is', ultimate_avg_messages.mean().round(2))"
   ]
  },
  {
   "cell_type": "code",
   "execution_count": 74,
   "metadata": {},
   "outputs": [
    {
     "data": {
      "image/png": "[encoded data removed]",
      "text/plain": [
       "<Figure size 432x288 with 1 Axes>"
      ]
     },
     "metadata": {
      "needs_background": "light"
     },
     "output_type": "display_data"
    }
   ],
   "source": [
    "# plot a graph comparing the overall minutes used per plan \n",
    "surf_msg_data = pd.Series(surf_avg_messages)\n",
    "ultimate_msg_data =pd.Series(ultimate_avg_messages)\n",
    "plt.title('Distribution of text message counts\\n'\\\n",
    "          'Surf plan = orange & Ultimate plan = blue\\n', fontsize=16)\n",
    "plt.ylabel('Proportional frequency\\n', fontsize=12)\n",
    "plt.xlabel('\\nMessage count', fontsize=12)\n",
    "surf_msg_data.hist(bins=10, alpha=0.5)  \n",
    "ultimate_msg_data.hist(bins=10, alpha=0.8) \n",
    "plt.show()"
   ]
  },
  {
   "cell_type": "markdown",
   "metadata": {},
   "source": [
    "Again, we observe users increased their use of data as the year progresses. Unlike minutes or data, the message count by month for the Ultimate plan is consistently greater than the message count by month for the Surf plan. Additionally, the mean of all months (33.31 vs 39.47) reveals a fairly large difference. \n",
    "\n",
    "When we graph the two groups, we do note distinct differences in many groups. Selecting an automatic division of the populatation based on 10 groups demonstrates clear differences in proportional frequency between the 2 groups.\n",
    "\n",
    "Now we will examine the mean, variance, and standard deviation of the Surf and Ultimate plans."
   ]
  },
  {
   "cell_type": "code",
   "execution_count": 75,
   "metadata": {},
   "outputs": [
    {
     "name": "stdout",
     "output_type": "stream",
     "text": [
      "\n",
      "Table of statistical analysis plans by month\n"
     ]
    },
    {
     "data": {
      "text/html": [
       "<div>\n",
       "<style scoped>\n",
       "    .dataframe tbody tr th:only-of-type {\n",
       "        vertical-align: middle;\n",
       "    }\n",
       "\n",
       "    .dataframe tbody tr th {\n",
       "        vertical-align: top;\n",
       "    }\n",
       "\n",
       "    .dataframe thead th {\n",
       "        text-align: right;\n",
       "    }\n",
       "</style>\n",
       "<table border=\"1\" class=\"dataframe\">\n",
       "  <thead>\n",
       "    <tr style=\"text-align: right;\">\n",
       "      <th></th>\n",
       "      <th>surf_minutes</th>\n",
       "      <th>surf_data</th>\n",
       "      <th>surf_messages</th>\n",
       "      <th>ultimate_minutes</th>\n",
       "      <th>ultimate_data</th>\n",
       "      <th>ultimate_messages</th>\n",
       "    </tr>\n",
       "    <tr>\n",
       "      <th>stats</th>\n",
       "      <th></th>\n",
       "      <th></th>\n",
       "      <th></th>\n",
       "      <th></th>\n",
       "      <th></th>\n",
       "      <th></th>\n",
       "    </tr>\n",
       "  </thead>\n",
       "  <tbody>\n",
       "    <tr>\n",
       "      <td>mean</td>\n",
       "      <td>380.62</td>\n",
       "      <td>14.51</td>\n",
       "      <td>33.31</td>\n",
       "      <td>385.63</td>\n",
       "      <td>16.120001</td>\n",
       "      <td>39.47</td>\n",
       "    </tr>\n",
       "    <tr>\n",
       "      <td>variance</td>\n",
       "      <td>5477.82</td>\n",
       "      <td>12.82</td>\n",
       "      <td>77.24</td>\n",
       "      <td>5980.34</td>\n",
       "      <td>7.790000</td>\n",
       "      <td>97.77</td>\n",
       "    </tr>\n",
       "    <tr>\n",
       "      <td>st_deviation</td>\n",
       "      <td>74.01</td>\n",
       "      <td>3.58</td>\n",
       "      <td>8.79</td>\n",
       "      <td>77.33</td>\n",
       "      <td>2.790000</td>\n",
       "      <td>9.89</td>\n",
       "    </tr>\n",
       "  </tbody>\n",
       "</table>\n",
       "</div>"
      ],
      "text/plain": [
       "              surf_minutes  surf_data  surf_messages  ultimate_minutes  \\\n",
       "stats                                                                    \n",
       "mean                380.62      14.51          33.31            385.63   \n",
       "variance           5477.82      12.82          77.24           5980.34   \n",
       "st_deviation         74.01       3.58           8.79             77.33   \n",
       "\n",
       "              ultimate_data  ultimate_messages  \n",
       "stats                                           \n",
       "mean              16.120001              39.47  \n",
       "variance           7.790000              97.77  \n",
       "st_deviation       2.790000               9.89  "
      ]
     },
     "execution_count": 75,
     "metadata": {},
     "output_type": "execute_result"
    }
   ],
   "source": [
    "# create statistic table for  mean, variance, standard deviation\n",
    "\n",
    "surf_min_avg = surf_avg_minutes.mean().round(2)\n",
    "surf_min_var = np.var(surf_avg_minutes).round(2)\n",
    "surf_min_std = np.std(surf_avg_minutes).round(2)\n",
    "surf_gb_avg = surf_avg_data.mean().round(2)\n",
    "surf_gb_var = np.var(surf_avg_data).round(2)\n",
    "surf_gb_std = np.std(surf_avg_data).round(2)\n",
    "surf_msg_avg = surf_avg_messages.mean().round(2)\n",
    "surf_msg_var = np.var(surf_avg_messages).round(2)\n",
    "surf_msg_std = np.std(surf_avg_messages).round(2)\n",
    "\n",
    "ultimate_min_avg = ultimate_avg_minutes.mean().round(2)\n",
    "ultimate_min_var = np.var(ultimate_avg_minutes).round(2)\n",
    "ultimate_min_std = np.std(ultimate_avg_minutes).round(2)\n",
    "ultimate_gb_avg = ultimate_avg_data.mean().round(2)\n",
    "ultimate_gb_var = np.var(ultimate_avg_data).round(2)\n",
    "ultimate_gb_std = np.std(ultimate_avg_data).round(2)\n",
    "ultimate_msg_avg = ultimate_avg_messages.mean().round(2)\n",
    "ultimate_msg_var = np.var(ultimate_avg_messages).round(2)\n",
    "ultimate_msg_std = np.std(ultimate_avg_messages).round(2)\n",
    "\n",
    "# put values in table\n",
    "stats_plans = pd.DataFrame({'stats': ['mean', 'variance', 'st_deviation'],\n",
    "                         'surf_minutes': [surf_min_avg, surf_min_var, surf_min_std],\n",
    "                         'surf_data': [surf_gb_avg, surf_gb_var, surf_gb_std],\n",
    "                         'surf_messages': [surf_msg_avg, surf_msg_var, surf_msg_std],\n",
    "                         'ultimate_minutes': [ultimate_min_avg,ultimate_min_var,ultimate_min_std],\n",
    "                         'ultimate_data': [ultimate_gb_avg,ultimate_gb_var,ultimate_gb_std],\n",
    "                         'ultimate_messages': [ultimate_msg_avg,ultimate_msg_var,ultimate_msg_std],\n",
    "                         'stats': ['mean', 'variance', 'st_deviation',] })\n",
    "stats_plans.set_index('stats', inplace=True)\n",
    "# set the index for stats_df\n",
    "#stats_df.set_index([pd.Index(['mean', 'variance', 'st_deviation', 'range']), 'stats'])\n",
    "\n",
    "print('\\nTable of statistical analysis plans by month')\n",
    "stats_plans"
   ]
  },
  {
   "cell_type": "markdown",
   "metadata": {},
   "source": [
    "The variance is quite high for surf_minutes and ultimate_minutes, indicate a large degree of variability. This aligns with the relatively high standard deviations. Comparing the surf and ultimate plans, we observe very close values for minutes, somewhat close for data, and quite different for messages.\n",
    "\n",
    "Now we will examine the groups we will test with our two null hypotheses."
   ]
  },
  {
   "cell_type": "markdown",
   "metadata": {},
   "source": [
    "<a class=\"anchor\" id=\"surf_list\"></a>"
   ]
  },
  {
   "cell_type": "code",
   "execution_count": 76,
   "metadata": {},
   "outputs": [
    {
     "name": "stdout",
     "output_type": "stream",
     "text": [
      "Number of elements in surf_list = 3996 \n",
      "Number of elements in ultimate_list = 1884 \n",
      "Number of elements in nynj_list = 948 \n",
      "Number of elements in other_city_list = 4932\n"
     ]
    }
   ],
   "source": [
    "# create lists to capture the revenue values for each of our 4 groups\n",
    "\n",
    "# create a list of monthly revenue values for clients on surf plan\n",
    "surf_list = []\n",
    "for month in range(12):\n",
    "    month +=1\n",
    "    temp_surf = monthly.query('plan == \"surf\"') \n",
    "    surf_list.extend(temp_surf[month])\n",
    "    \n",
    "# create a list of monthly revenue values for clients on ultimate plan    \n",
    "ultimate_list = []\n",
    "for month in range(12):\n",
    "    month +=1\n",
    "    temp_ultimate = monthly.query('plan == \"ultimate\"') \n",
    "    ultimate_list.extend(temp_ultimate[month])    \n",
    "    \n",
    "# create a list of monthly revenue values for clients in nynj area    \n",
    "nynj_list = []\n",
    "for month in range(12):\n",
    "    month +=1\n",
    "    temp_nynj = monthly.query(\n",
    "        'city == \"New York-Newark-Jersey City, NY-NJ-PA MSA\"') \n",
    "    nynj_list.extend(temp_nynj[month]) \n",
    "    \n",
    "# create a list of monthly revenue values for clients in other cities  \n",
    "other_city_list = []\n",
    "for month in range(12):\n",
    "    month +=1\n",
    "    temp_other_city = monthly.query(\n",
    "        'city != \"New York-Newark-Jersey City, NY-NJ-PA MSA\"') \n",
    "    other_city_list.extend(temp_other_city[month])     \n",
    "\n",
    "print('Number of elements in surf_list =', len(surf_list), \\\n",
    "     '\\nNumber of elements in ultimate_list =', len(ultimate_list), \\\n",
    "     '\\nNumber of elements in nynj_list =', len(nynj_list), \\\n",
    "     '\\nNumber of elements in other_city_list =', len(other_city_list)\n",
    "     )"
   ]
  },
  {
   "cell_type": "markdown",
   "metadata": {},
   "source": [
    "Right away we notice we will be comparing uneven groups. There are approximately twice the number of records in the surf plan list compared to the ultimate list. There is also an uneven distribution between the nynj clients and those from other cities."
   ]
  },
  {
   "cell_type": "code",
   "execution_count": 77,
   "metadata": {},
   "outputs": [
    {
     "name": "stdout",
     "output_type": "stream",
     "text": [
      "\n",
      "Table of statistical analysis of user groups\n"
     ]
    },
    {
     "data": {
      "text/html": [
       "<div>\n",
       "<style scoped>\n",
       "    .dataframe tbody tr th:only-of-type {\n",
       "        vertical-align: middle;\n",
       "    }\n",
       "\n",
       "    .dataframe tbody tr th {\n",
       "        vertical-align: top;\n",
       "    }\n",
       "\n",
       "    .dataframe thead th {\n",
       "        text-align: right;\n",
       "    }\n",
       "</style>\n",
       "<table border=\"1\" class=\"dataframe\">\n",
       "  <thead>\n",
       "    <tr style=\"text-align: right;\">\n",
       "      <th></th>\n",
       "      <th>surf_list</th>\n",
       "      <th>ultimate_list</th>\n",
       "      <th>nynj_list</th>\n",
       "      <th>other_city_list</th>\n",
       "    </tr>\n",
       "    <tr>\n",
       "      <th>stats</th>\n",
       "      <th></th>\n",
       "      <th></th>\n",
       "      <th></th>\n",
       "      <th></th>\n",
       "    </tr>\n",
       "  </thead>\n",
       "  <tbody>\n",
       "    <tr>\n",
       "      <td>mean</td>\n",
       "      <td>35.240453</td>\n",
       "      <td>70.717091</td>\n",
       "      <td>43.882648</td>\n",
       "      <td>47.131204</td>\n",
       "    </tr>\n",
       "    <tr>\n",
       "      <td>variance</td>\n",
       "      <td>1471.742443</td>\n",
       "      <td>37.744273</td>\n",
       "      <td>1149.510535</td>\n",
       "      <td>1310.929642</td>\n",
       "    </tr>\n",
       "    <tr>\n",
       "      <td>st_deviation</td>\n",
       "      <td>38.363296</td>\n",
       "      <td>6.143637</td>\n",
       "      <td>33.904432</td>\n",
       "      <td>36.206762</td>\n",
       "    </tr>\n",
       "    <tr>\n",
       "      <td>range (99.7%)</td>\n",
       "      <td>150.330339</td>\n",
       "      <td>89.148002</td>\n",
       "      <td>145.595945</td>\n",
       "      <td>155.751492</td>\n",
       "    </tr>\n",
       "    <tr>\n",
       "      <td>count</td>\n",
       "      <td>3996.000000</td>\n",
       "      <td>1884.000000</td>\n",
       "      <td>948.000000</td>\n",
       "      <td>4932.000000</td>\n",
       "    </tr>\n",
       "  </tbody>\n",
       "</table>\n",
       "</div>"
      ],
      "text/plain": [
       "                 surf_list  ultimate_list    nynj_list  other_city_list\n",
       "stats                                                                  \n",
       "mean             35.240453      70.717091    43.882648        47.131204\n",
       "variance       1471.742443      37.744273  1149.510535      1310.929642\n",
       "st_deviation     38.363296       6.143637    33.904432        36.206762\n",
       "range (99.7%)   150.330339      89.148002   145.595945       155.751492\n",
       "count          3996.000000    1884.000000   948.000000      4932.000000"
      ]
     },
     "execution_count": 77,
     "metadata": {},
     "output_type": "execute_result"
    }
   ],
   "source": [
    "# calculate mean, variance and standard deviation, 99.7% range for the four groups\n",
    "\n",
    "surf_mean = sum(surf_list) / len(surf_list)\n",
    "surf_var = np.var(surf_list)\n",
    "surf_stdev = np.std(surf_list)\n",
    "surf_range = surf_mean + 3*surf_stdev\n",
    "\n",
    "ultimate_mean = sum(ultimate_list) / len(ultimate_list)\n",
    "ultimate_var = np.var(ultimate_list)\n",
    "ultimate_stdev = np.std(ultimate_list)\n",
    "ultimate_range = ultimate_mean + 3*ultimate_stdev\n",
    "\n",
    "nynj_mean = sum(nynj_list) / len(nynj_list)\n",
    "nynj_var = np.var(nynj_list)\n",
    "nynj_stdev = np.std(nynj_list)\n",
    "nynj_range = nynj_mean + 3*nynj_stdev\n",
    "\n",
    "other_city_mean = sum(other_city_list) / len(other_city_list)\n",
    "other_city_var = np.var(other_city_list)\n",
    "other_city_stdev = np.std(other_city_list)\n",
    "other_city_range = other_city_mean + 3*other_city_stdev\n",
    "\n",
    "stats_df = pd.DataFrame({'stats': ['mean', 'variance', 'st_deviation', 'range', 'count'],\n",
    "                         'surf_list': [surf_mean, surf_var, surf_stdev, surf_range, len(surf_list)],\n",
    "                         'ultimate_list': [ultimate_mean, ultimate_var, ultimate_stdev, ultimate_range,\\\n",
    "                                           len(ultimate_list)],\n",
    "                         'nynj_list': [nynj_mean, nynj_var, nynj_stdev, nynj_range, len(nynj_list)],\n",
    "                         'other_city_list': [other_city_mean, other_city_var, other_city_stdev,\\\n",
    "                                             other_city_range, len(other_city_list)],\n",
    "                         'stats': ['mean', 'variance', 'st_deviation', 'range (99.7%)', 'count'] })\n",
    "stats_df.set_index('stats', inplace=True)\n",
    "# set the index for stats_df\n",
    "#stats_df.set_index([pd.Index(['mean', 'variance', 'st_deviation', 'range']), 'stats'])\n",
    "\n",
    "print('\\nTable of statistical analysis of user groups')\n",
    "stats_df"
   ]
  },
  {
   "cell_type": "markdown",
   "metadata": {},
   "source": [
    "We note a large difference between the means of the Surf plan and the Ultimate plan (35 vs 70) and also a great difference in the standard deviation (high for the Surf plan, 38, and lower for the Ultimate plan, 6), which correlates with the sizable difference in range. The variance is quite large for the Surf plan, but moderate in the Ultimate plan. The higher variance for the Surf plan indicates there is much more variability within the data. From this table, we would expect there may actually be a statistically significant difference in revenue between the Surf plan and the Ultimate plan. \n",
    "\n",
    "The differences between clients in the NYNJ area and those in other cities are comparatively slight. The means are fairly close (43.9 vs 47.1) and the standard deviations are also close (34 vs 36). The variance is large, so there is a great variety amoung values. Overall, we expect there will not be a statistically significant difference in revenue between those in the NYNJ area and those from other cities.\n",
    "\n",
    "We will now test our null hypotheses. These are formulated based on the premis that the two groups are equal. Therefore:\n",
    "- Compare the revenue from those on the Surf plan and those on the Ultimate plan\n",
    "    - Null hypothesis: The average revenue from clients on the Surf plan - the average revenue from clients on the Ultimate plan = 0.\n",
    "    - Alternative hypothesis: The average revenue from clients on the Surf plan - the average revenue from clients on the Ultimate plan != 0.\n",
    "- Compare the revenue from clients in the NY-NJ are and those from clients anywhere else\n",
    "    - Null hypothesis: The average revenue from clients in NY-NJ area - the average revenue from clients anywhere else = 0.\n",
    "    - Alternative hypothesis: The average revenue from clients in NY-NJ area - the average revenue from clients anywhere else != 0.\n",
    "    \n",
    "We will use the standard critical alpha value of 0.05 and equal_var=False because each pair has an unequal variance of at least 10%."
   ]
  },
  {
   "cell_type": "code",
   "execution_count": 78,
   "metadata": {},
   "outputs": [
    {
     "data": {
      "text/html": [
       "<div>\n",
       "<style scoped>\n",
       "    .dataframe tbody tr th:only-of-type {\n",
       "        vertical-align: middle;\n",
       "    }\n",
       "\n",
       "    .dataframe tbody tr th {\n",
       "        vertical-align: top;\n",
       "    }\n",
       "\n",
       "    .dataframe thead th {\n",
       "        text-align: right;\n",
       "    }\n",
       "</style>\n",
       "<table border=\"1\" class=\"dataframe\">\n",
       "  <thead>\n",
       "    <tr style=\"text-align: right;\">\n",
       "      <th></th>\n",
       "      <th>surf_list</th>\n",
       "      <th>ultimate_list</th>\n",
       "      <th>nynj_list</th>\n",
       "      <th>other_city_list</th>\n",
       "    </tr>\n",
       "    <tr>\n",
       "      <th>stats</th>\n",
       "      <th></th>\n",
       "      <th></th>\n",
       "      <th></th>\n",
       "      <th></th>\n",
       "    </tr>\n",
       "  </thead>\n",
       "  <tbody>\n",
       "    <tr>\n",
       "      <td>variance</td>\n",
       "      <td>1471.742443</td>\n",
       "      <td>37.744273</td>\n",
       "      <td>1149.510535</td>\n",
       "      <td>1310.929642</td>\n",
       "    </tr>\n",
       "  </tbody>\n",
       "</table>\n",
       "</div>"
      ],
      "text/plain": [
       "            surf_list  ultimate_list    nynj_list  other_city_list\n",
       "stats                                                             \n",
       "variance  1471.742443      37.744273  1149.510535      1310.929642"
      ]
     },
     "execution_count": 78,
     "metadata": {},
     "output_type": "execute_result"
    }
   ],
   "source": [
    "# table of variance for four groups\n",
    "varstats_df = pd.DataFrame({'stats': ['variance'],\n",
    "                         'surf_list': [surf_var],\n",
    "                         'ultimate_list': [ultimate_var],\n",
    "                         'nynj_list': [nynj_var],\n",
    "                         'other_city_list': [other_city_var],\n",
    "                         'stats': ['variance'] })\n",
    "varstats_df.set_index('stats', inplace=True)\n",
    "varstats_df"
   ]
  },
  {
   "cell_type": "code",
   "execution_count": 79,
   "metadata": {},
   "outputs": [
    {
     "name": "stdout",
     "output_type": "stream",
     "text": [
      "Null hypothesis test for Surf vs Ultimate plans\n",
      "\n",
      "p-value: [0.00000000e+000 0.00000000e+000 5.32709835e-219 2.70324702e-197\n",
      " 2.44295051e-112 1.50521778e-095 1.40781927e-048 5.23170118e-029\n",
      " 1.33448314e-033 2.20152699e-012 5.25532964e-014 6.31700032e-002]\n",
      "\n",
      "We can't reject the null hypothesis\n"
     ]
    }
   ],
   "source": [
    "# null hypothesis surf and ultimate plans average revenue\n",
    "\n",
    "# extract items from monthly\n",
    "surf_plan_monthly = monthly.query('plan == \"surf\"')\n",
    "ultimate_plan_monthly = monthly.query('plan == \"ultimate\"')\n",
    "# use the standard critical value\n",
    "alpha = 0.05 \n",
    "# test the hypothesis that the means of the two independent populations are equal\n",
    "results = st.ttest_ind(surf_plan_monthly[[1,2,3,4,5,6,7,8,9,10,11,12]],\\\n",
    "                       ultimate_plan_monthly[[1,2,3,4,5,6,7,8,9,10,11,12]], equal_var = False)\n",
    "print('Null hypothesis test for Surf vs Ultimate plans\\n')\n",
    "print('p-value:', results.pvalue)\n",
    "# compare the p-value you get with the significance level\n",
    "\n",
    "if np.all(results.pvalue < alpha):\n",
    "    print(\"\\nWe reject the null hypothesis\")\n",
    "else:\n",
    "    print(\"\\nWe can't reject the null hypothesis\")\n",
    "\n",
    "results = st.ttest_ind"
   ]
  },
  {
   "cell_type": "markdown",
   "metadata": {},
   "source": [
    "When we test the null hypothesis for the Surf and Ultimate clients, we find we can't reject the null hypothesis if we've set the alpha value to 0.05, the standard value. However, all the monthly p-values are well below the 0.05 threshold besides December. December is barely over the 0.05 at 0.063. We will run the test without December for an experiment."
   ]
  },
  {
   "cell_type": "code",
   "execution_count": 80,
   "metadata": {},
   "outputs": [
    {
     "name": "stdout",
     "output_type": "stream",
     "text": [
      "Null hypothesis test for Surf vs Ultimate plans\n",
      "Where December is not included in the test.\n",
      "\n",
      "p-value: [0.00000000e+000 0.00000000e+000 5.32709835e-219 2.70324702e-197\n",
      " 2.44295051e-112 1.50521778e-095 1.40781927e-048 5.23170118e-029\n",
      " 1.33448314e-033 2.20152699e-012 5.25532964e-014]\n",
      "\n",
      "We reject the null hypothesis\n"
     ]
    }
   ],
   "source": [
    "# null hypothesis surf and ultimate plans average revenue\n",
    "# where December is not included\n",
    "\n",
    "# extract items from monthly\n",
    "surf_plan_monthly = monthly.query('plan == \"surf\"')\n",
    "ultimate_plan_monthly = monthly.query('plan == \"ultimate\"')\n",
    "# use the standard critical value\n",
    "alpha = 0.05 \n",
    "# test the hypothesis that the means of the two independent populations are equal\n",
    "results = st.ttest_ind(surf_plan_monthly[[1,2,3,4,5,6,7,8,9,10,11]],\\\n",
    "                       ultimate_plan_monthly[[1,2,3,4,5,6,7,8,9,10,11]], equal_var = False)\n",
    "print('Null hypothesis test for Surf vs Ultimate plans')\n",
    "print('Where December is not included in the test.\\n')\n",
    "print('p-value:', results.pvalue)\n",
    "# compare the p-value you get with the significance level\n",
    "\n",
    "if np.all(results.pvalue < alpha):\n",
    "    print(\"\\nWe reject the null hypothesis\")\n",
    "else:\n",
    "    print(\"\\nWe can't reject the null hypothesis\")\n",
    "\n",
    "results = st.ttest_ind"
   ]
  },
  {
   "cell_type": "markdown",
   "metadata": {},
   "source": [
    "If we eliminate December from our test, we note we can reject the null hypothesis. To be sure, we use the lists of revenue values created earlier, [surf_list and ultimate_list](#surf_list). We will run it with both the standard 0.05 critical value and the 0.01 stricter critical value.\n",
    "\n"
   ]
  },
  {
   "cell_type": "code",
   "execution_count": 81,
   "metadata": {},
   "outputs": [
    {
     "name": "stdout",
     "output_type": "stream",
     "text": [
      "Null hypothesis test for Surf vs Ultimate plans\n",
      "Using revenue values from list, not divided by month.\n",
      "Using the standard 0.05 critical value.\n",
      "\n",
      "p-value: 0.0\n",
      "\n",
      "We reject the null hypothesis\n"
     ]
    }
   ],
   "source": [
    "# null hypothesis surf and ultimate plans average revenue\n",
    "# calculated from the lists of revenue surf_list and ultimate_list\n",
    "\n",
    "# use the standard 0.05 critical value\n",
    "alpha = 0.05 \n",
    "# test the hypothesis that the means of the two independent populations are equal\n",
    "results = st.ttest_ind(surf_list, ultimate_list, equal_var = False)\n",
    "print('Null hypothesis test for Surf vs Ultimate plans')\n",
    "print('Using revenue values from list, not divided by month.')\n",
    "print('Using the standard 0.05 critical value.\\n')\n",
    "print('p-value:', results.pvalue)\n",
    "\n",
    "# compare the p-value you get with the significance level\n",
    "if np.all(results.pvalue < alpha):\n",
    "    print(\"\\nWe reject the null hypothesis\")\n",
    "else:\n",
    "    print(\"\\nWe can't reject the null hypothesis\")\n",
    "\n",
    "results = st.ttest_ind"
   ]
  },
  {
   "cell_type": "code",
   "execution_count": 82,
   "metadata": {},
   "outputs": [
    {
     "name": "stdout",
     "output_type": "stream",
     "text": [
      "Null hypothesis test for Surf vs Ultimate plans\n",
      "Using revenue values from list, not divided by month.\n",
      "Using the stricter 0.01 critical value.\n",
      "\n",
      "p-value: 0.0\n",
      "\n",
      "We reject the null hypothesis\n"
     ]
    }
   ],
   "source": [
    "# null hypothesis surf and ultimate plans average revenue\n",
    "# calculated from the lists of revenue surf_list and ultimate_list\n",
    "\n",
    "# use the stricter 0.01 critical value\n",
    "alpha = 0.01 \n",
    "# test the hypothesis that the means of the two independent populations are equal\n",
    "results = st.ttest_ind(surf_list, ultimate_list, equal_var = False)\n",
    "print('Null hypothesis test for Surf vs Ultimate plans')\n",
    "print('Using revenue values from list, not divided by month.')\n",
    "print('Using the stricter 0.01 critical value.\\n')\n",
    "print('p-value:', results.pvalue)\n",
    "\n",
    "# compare the p-value you get with the significance level\n",
    "if np.all(results.pvalue < alpha):\n",
    "    print(\"\\nWe reject the null hypothesis\")\n",
    "else:\n",
    "    print(\"\\nWe can't reject the null hypothesis\")\n",
    "\n",
    "results = st.ttest_ind"
   ]
  },
  {
   "cell_type": "markdown",
   "metadata": {},
   "source": [
    "We've confirmed when looking at the pool of revenues, not divided by months, we can reject the null hypothesis that the revenue from those on the Surf plan is equal to the revenue of those on the Ultimate plan. \n",
    "\n",
    "Now we will examine the null hypothesis that the average revenue from clients in NY-NJ area - the average revenue from clients anywhere else = 0. We will use the standard critical value and check both by month and by the list of all revenue values for the year by group."
   ]
  },
  {
   "cell_type": "code",
   "execution_count": 83,
   "metadata": {},
   "outputs": [
    {
     "name": "stdout",
     "output_type": "stream",
     "text": [
      "p-value: [0.13302797 0.17926448 0.19708908 0.26577349 0.44102973 0.3426172\n",
      " 0.32136767 0.46952815 0.84900539 0.92977118 0.81265803 0.22133458]\n",
      "\n",
      "We can't reject the null hypothesis\n"
     ]
    }
   ],
   "source": [
    "# null hypothesis nynj and other cities average revenue\n",
    "\n",
    "# extract items from monthly\n",
    "nynj_city_monthly = monthly.query('city == \"New York-Newark-Jersey City, NY-NJ-PA MSA\"')\n",
    "other_city_monthly = monthly.query('plan != \"New York-Newark-Jersey City, NY-NJ-PA MSA\"')\n",
    "# use the standard critical value\n",
    "alpha = 0.05 \n",
    "# test the hypothesis that the means of the two independent populations are equal\n",
    "results = st.ttest_ind(nynj_city_monthly[[1,2,3,4,5,6,7,8,9,10,11,12]],\\\n",
    "                       other_city_monthly[[1,2,3,4,5,6,7,8,9,10,11,12]], equal_var = False)\n",
    "\n",
    "print('p-value:', results.pvalue)\n",
    "# compare the p-value you get with the significance level\n",
    "\n",
    "if np.all(results.pvalue < alpha):\n",
    "    print(\"\\nWe reject the null hypothesis\")\n",
    "else:\n",
    "    print(\"\\nWe can't reject the null hypothesis\")\n",
    "\n",
    "results = st.ttest_ind"
   ]
  },
  {
   "cell_type": "code",
   "execution_count": 84,
   "metadata": {},
   "outputs": [
    {
     "name": "stdout",
     "output_type": "stream",
     "text": [
      "Null hypothesis test for clients in NYNJ vs other cities\n",
      "Using revenue values from list, not divided by month.\n",
      "Using the standard 0.05 critical value.\n",
      "\n",
      "p-value: 0.007660333370101874\n",
      "\n",
      "We reject the null hypothesis\n"
     ]
    }
   ],
   "source": [
    "# null hypothesis nynj and other cities average revenue\n",
    "# calculated from the lists of revenue nynj_list and other_city_list\n",
    "\n",
    "# use the standard 0.05 critical value\n",
    "alpha = 0.05 \n",
    "# test the hypothesis that the means of the two independent populations are equal\n",
    "results = st.ttest_ind(nynj_list, other_city_list, equal_var = False)\n",
    "print('Null hypothesis test for clients in NYNJ vs other cities')\n",
    "print('Using revenue values from list, not divided by month.')\n",
    "print('Using the standard 0.05 critical value.\\n')\n",
    "print('p-value:', results.pvalue)\n",
    "\n",
    "# compare the p-value you get with the significance level\n",
    "if np.all(results.pvalue < alpha):\n",
    "    print(\"\\nWe reject the null hypothesis\")\n",
    "else:\n",
    "    print(\"\\nWe can't reject the null hypothesis\")\n",
    "\n",
    "results = st.ttest_ind"
   ]
  },
  {
   "cell_type": "markdown",
   "metadata": {},
   "source": [
    "When we examine by each month, we can't reject the null hypothesis that the average revenue from clients in NY-NJ area - the average revenue from clients anywhere else = 0. This doesn't mean it isn't true, just that the statistical analysis doesn't support rejecting it.\n",
    "\n",
    "However, when we test the null hypothesis against all the revenue values for the year, we get a substantially low number and can comfortably reject the null hypothesis. It is even lower than the strict 0.01 critical value.\n",
    "\n",
    "It is interesting to observe that the p-values are higher when we test the null hypothesis monthly, but lower when we use all the values from all the months all at once. This may simply be the product of a greater sample size and therefore more accurate analysis. "
   ]
  },
  {
   "cell_type": "markdown",
   "metadata": {},
   "source": [
    "<a class=\"anchor\" id=\"exploratory_data_analysis_conclusion\"></a>\n",
    "**3.1 Exploratory data analysis conclusion**\n",
    "\n",
    "- We observe that as the useage of minutes, messages, and data increase as the year progresses for all plans\n",
    "- We observe minute use for the Surf and Ultimate plan appear similar, but message use and data use have distinct differences\n",
    "- We note a large degree of variance for minutes, indicating a wide variation in call lengths\n",
    "- We observe uneven groups (surf 3732 vs ultimate 1764) and (nynj 876 vs other_city 4620) for null hypothesis testing\n",
    "- We tested the null hypotheses both by month and by a list of revenue values for the entire year\n",
    "- We reject the null hypothesis that the average revenue from clients on the Surf plan - the average revenue from clients on the Ultimate plan = 0\n",
    "- We accept the alternative hypothesis that the average revenue from clients on the Surf plan - the average revenue from clients on the Ultimate plan != 0  \n",
    "- We reject the null hypothesis that the average revenue from clients in NY-NJ area - the average revenue from clients anywhere else = 0\n",
    "- We accept the alternative hypothesis that the average revenue from clients in NY-NJ area - the average revenue from clients anywhere else != 0"
   ]
  },
  {
   "cell_type": "markdown",
   "metadata": {},
   "source": [
    "**[Return to table of contents](#table_of_contents)**"
   ]
  },
  {
   "cell_type": "markdown",
   "metadata": {},
   "source": [
    "<a class=\"anchor\" id=\"conclusion\"></a>\n",
    "*   **4. Overall conclusion**\n",
    "    1. **In the [Data preprocessing](#data_preprocessing) stage**:\n",
    "        * We changed the datatypes as appropriate\n",
    "        * We filtered calls_df.duration to include only rows where duration > 0\n",
    "        * We filtered upper outliers from calls_df.duration \n",
    "        * We filtered upper outliers from internet_df.mb_used \n",
    "        * We explored the rows where users deleted their accounts\n",
    "    2. **In the [Calculations](#calculations) stage**:\n",
    "        * We rounded the calls_df duration (minutes rounded by each call)\n",
    "        * We calculated the number of calls per month per user\n",
    "        * We calculated the minutes used per month per user (minutes rounded by each call)\n",
    "        * We calculated the volume of data per month per user (gb rounded by monthly total)\n",
    "        * We calculated the number of text messages sent per month per user\n",
    "        * We calculated the monthly revenue from each user and put it into a table called monthly_revenue\n",
    "        * We created a monthly df table with an inner join between users_df and monthly_revenue which eliminated the 10 rows without any information about usage, for a total of 490 rows    \n",
    "    3. **In the [Exploratory data analysis](#exploratory_data_analysis) stage**:\n",
    "        * We observe that as the useage of minutes, messages, and data increase as the year progresses for all plans\n",
    "        * We observe minute use for the Surf and Ultimate plan appear similar, but message use and data use have distinct differences\n",
    "        * We note a large degree of variance for minutes, indicating a wide variation in call lengths\n",
    "        * We observe uneven groups (surf 3732 vs ultimate 1764) and (nynj 876 vs other_city 4620) for null hypothesis testing\n",
    "        * We tested the null hypotheses both by month and by a list of revenue values for the entire year\n",
    "        * We reject the null hypothesis that the average revenue from clients on the Surf plan - the average revenue from clients on the Ultimate plan = 0\n",
    "        * We accept the alternative hypothesis that the average revenue from clients on the Surf plan - the average revenue from clients on the Ultimate plan != 0  \n",
    "        * We reject the null hypothesis that the average revenue from clients in NY-NJ area - the average revenue from clients anywhere else = 0\n",
    "        * We accept the alternative hypothesis that the average revenue from clients in NY-NJ area - the average revenue from clients anywhere else != 0"
   ]
  },
  {
   "cell_type": "code",
   "execution_count": 85,
   "metadata": {},
   "outputs": [
    {
     "data": {
      "text/html": [
       "<div>\n",
       "<style scoped>\n",
       "    .dataframe tbody tr th:only-of-type {\n",
       "        vertical-align: middle;\n",
       "    }\n",
       "\n",
       "    .dataframe tbody tr th {\n",
       "        vertical-align: top;\n",
       "    }\n",
       "\n",
       "    .dataframe thead th {\n",
       "        text-align: right;\n",
       "    }\n",
       "</style>\n",
       "<table border=\"1\" class=\"dataframe\">\n",
       "  <thead>\n",
       "    <tr style=\"text-align: right;\">\n",
       "      <th></th>\n",
       "      <th>surf_list</th>\n",
       "      <th>ultimate_list</th>\n",
       "      <th>nynj_list</th>\n",
       "      <th>other_city_list</th>\n",
       "    </tr>\n",
       "    <tr>\n",
       "      <th>stats</th>\n",
       "      <th></th>\n",
       "      <th></th>\n",
       "      <th></th>\n",
       "      <th></th>\n",
       "    </tr>\n",
       "  </thead>\n",
       "  <tbody>\n",
       "    <tr>\n",
       "      <td>mean</td>\n",
       "      <td>35.240453</td>\n",
       "      <td>70.717091</td>\n",
       "      <td>43.882648</td>\n",
       "      <td>47.131204</td>\n",
       "    </tr>\n",
       "    <tr>\n",
       "      <td>variance</td>\n",
       "      <td>1471.742443</td>\n",
       "      <td>37.744273</td>\n",
       "      <td>1149.510535</td>\n",
       "      <td>1310.929642</td>\n",
       "    </tr>\n",
       "    <tr>\n",
       "      <td>st_deviation</td>\n",
       "      <td>38.363296</td>\n",
       "      <td>6.143637</td>\n",
       "      <td>33.904432</td>\n",
       "      <td>36.206762</td>\n",
       "    </tr>\n",
       "    <tr>\n",
       "      <td>range (99.7%)</td>\n",
       "      <td>150.330339</td>\n",
       "      <td>89.148002</td>\n",
       "      <td>145.595945</td>\n",
       "      <td>155.751492</td>\n",
       "    </tr>\n",
       "    <tr>\n",
       "      <td>count</td>\n",
       "      <td>3996.000000</td>\n",
       "      <td>1884.000000</td>\n",
       "      <td>948.000000</td>\n",
       "      <td>4932.000000</td>\n",
       "    </tr>\n",
       "  </tbody>\n",
       "</table>\n",
       "</div>"
      ],
      "text/plain": [
       "                 surf_list  ultimate_list    nynj_list  other_city_list\n",
       "stats                                                                  \n",
       "mean             35.240453      70.717091    43.882648        47.131204\n",
       "variance       1471.742443      37.744273  1149.510535      1310.929642\n",
       "st_deviation     38.363296       6.143637    33.904432        36.206762\n",
       "range (99.7%)   150.330339      89.148002   145.595945       155.751492\n",
       "count          3996.000000    1884.000000   948.000000      4932.000000"
      ]
     },
     "execution_count": 85,
     "metadata": {},
     "output_type": "execute_result"
    }
   ],
   "source": [
    "stats_df = pd.DataFrame({'stats': ['mean', 'variance', 'st_deviation', 'range', 'count'],\n",
    "                         'surf_list': [surf_mean, surf_var, surf_stdev, surf_range, len(surf_list)],\n",
    "                         'ultimate_list': [ultimate_mean, ultimate_var, ultimate_stdev, ultimate_range,\\\n",
    "                                           len(ultimate_list)],\n",
    "                         'nynj_list': [nynj_mean, nynj_var, nynj_stdev, nynj_range, len(nynj_list)],\n",
    "                         'other_city_list': [other_city_mean, other_city_var, other_city_stdev,\\\n",
    "                                             other_city_range, len(other_city_list)],\n",
    "                         'stats': ['mean', 'variance', 'st_deviation', 'range (99.7%)', 'count'] })\n",
    "stats_df.set_index('stats', inplace=True)\n",
    "stats_df"
   ]
  },
  {
   "cell_type": "markdown",
   "metadata": {},
   "source": [
    "Our preliminary analysis suggests the marketing team should concentrate their efforts on gaining users for the Ultimate Plan. Even with the add on fees for overages, the average monthly revenue for the Surf Plan is about half (35.30 vs 70.76) the average monthly revenue of the Ultimate Plan. Perhaps first they could try to convert the almost 4000 Surf plan clients to join the close to 2000 Ultimate clients, bringing in double the revenue for each conversion.\n",
    "\n",
    "As a secondary effort, the marketing team may do well to target campaigns for cities outside the NYNJ area. Our null hypothesis test demonstrated there is a difference between the revenue for the 2 user groups where other cities return a little over 3 dollars a month more."
   ]
  },
  {
   "cell_type": "markdown",
   "metadata": {},
   "source": [
    "**[Return to table of contents](#table_of_contents)**"
   ]
  },
  {
   "cell_type": "markdown",
   "metadata": {},
   "source": [
    "**References**\n",
    "\n",
    "[docs.python.org warnoptions](https://docs.python.org/3/library/warnings.html)\n",
    "\n",
    "How to optimize the data (with the use of 'float32', 'float16' and etc) [optimizing the size of dataframe](https://vincentteyssier.medium.com/optimizing-the-size-of-a-pandas-dataframe-for-low-memory-environment-5f07db3d72e)  (Thanks to reviewer Larchenko Ksenia for the recommendation)\n",
    "\n",
    "[Different ways to round in pandas](https://datatofish.com/round-values-pandas-dataframe/)\n",
    "\n",
    "[Tips for value_counts()](https://re-thought.com/pandas-value_counts/)\n",
    "\n",
    "[Filtering df by list](https://stackoverflow.com/questions/45040312/filter-pandas-dataframe-by-list)\n",
    "\n",
    "[Filtering by not in](https://stackoverflow.com/questions/14057007/remove-rows-not-isinx)\n",
    "\n",
    "[How to change negative values in pd df to zero](https://stackoverflow.com/questions/27759084/how-to-replace-negative-numbers-in-pandas-data-frame-by-zero/27759140)\n",
    "\n",
    "[Filter pandas-iloc-loc-select-rows-and-columns-dataframe](https://www.shanelynn.ie/pandas-iloc-loc-select-rows-and-columns-dataframe/)\n",
    "\n",
    "[Extend method to add elements from list to another list](https://www.programiz.com/python-programming/methods/list/extend)"
   ]
  },
  {
   "cell_type": "markdown",
   "metadata": {},
   "source": [
    "**[Return to table of contents](#table_of_contents)**"
   ]
  }
 ],
 "metadata": {
  "ExecuteTimeLog": [
   {
    "duration": 57,
    "start_time": "2021-09-19T05:20:29.623Z"
   },
   {
    "duration": 56,
    "start_time": "2021-09-19T05:57:06.207Z"
   },
   {
    "duration": 67,
    "start_time": "2021-09-19T05:57:36.510Z"
   },
   {
    "duration": 60,
    "start_time": "2021-09-19T05:59:03.919Z"
   },
   {
    "duration": 63,
    "start_time": "2021-09-19T06:04:34.901Z"
   },
   {
    "duration": 315,
    "start_time": "2021-09-21T00:49:08.961Z"
   },
   {
    "duration": 80,
    "start_time": "2021-09-21T00:49:24.153Z"
   },
   {
    "duration": 6,
    "start_time": "2021-09-21T01:08:20.143Z"
   },
   {
    "duration": 907,
    "start_time": "2021-09-21T01:08:35.067Z"
   },
   {
    "duration": 4,
    "start_time": "2021-09-21T01:08:36.943Z"
   },
   {
    "duration": 385,
    "start_time": "2021-09-21T01:08:39.462Z"
   },
   {
    "duration": 774,
    "start_time": "2021-09-21T01:18:55.412Z"
   },
   {
    "duration": 714,
    "start_time": "2021-09-21T01:20:52.440Z"
   },
   {
    "duration": 384,
    "start_time": "2021-09-21T01:21:04.451Z"
   },
   {
    "duration": 542,
    "start_time": "2021-09-21T01:27:42.350Z"
   },
   {
    "duration": 613,
    "start_time": "2021-09-21T01:28:19.467Z"
   },
   {
    "duration": 649,
    "start_time": "2021-09-21T01:29:10.341Z"
   },
   {
    "duration": 509,
    "start_time": "2021-09-21T01:34:07.657Z"
   },
   {
    "duration": 1775,
    "start_time": "2021-09-21T01:34:23.455Z"
   },
   {
    "duration": 499,
    "start_time": "2021-09-21T01:34:45.950Z"
   },
   {
    "duration": 643,
    "start_time": "2021-09-21T01:39:09.110Z"
   },
   {
    "duration": 373,
    "start_time": "2021-09-21T01:39:54.935Z"
   },
   {
    "duration": 384,
    "start_time": "2021-09-21T01:41:52.154Z"
   },
   {
    "duration": 16,
    "start_time": "2021-09-21T01:41:52.829Z"
   },
   {
    "duration": 14,
    "start_time": "2021-09-21T01:42:01.183Z"
   },
   {
    "duration": 15,
    "start_time": "2021-09-21T01:42:09.050Z"
   },
   {
    "duration": 13,
    "start_time": "2021-09-21T01:42:13.341Z"
   },
   {
    "duration": 15,
    "start_time": "2021-09-21T01:42:22.913Z"
   },
   {
    "duration": 262,
    "start_time": "2021-09-21T01:44:21.873Z"
   },
   {
    "duration": 19,
    "start_time": "2021-09-21T01:44:52.255Z"
   },
   {
    "duration": 21,
    "start_time": "2021-09-21T01:49:06.860Z"
   },
   {
    "duration": 9,
    "start_time": "2021-09-21T01:49:16.769Z"
   },
   {
    "duration": 20,
    "start_time": "2021-09-21T01:51:04.127Z"
   },
   {
    "duration": 54,
    "start_time": "2021-09-21T01:52:03.169Z"
   },
   {
    "duration": 103,
    "start_time": "2021-09-21T01:52:34.532Z"
   },
   {
    "duration": 118,
    "start_time": "2021-09-21T01:52:54.712Z"
   },
   {
    "duration": 110,
    "start_time": "2021-09-21T01:53:07.392Z"
   },
   {
    "duration": 39,
    "start_time": "2021-09-21T01:53:46.435Z"
   },
   {
    "duration": 84,
    "start_time": "2021-09-21T01:54:06.775Z"
   },
   {
    "duration": 74,
    "start_time": "2021-09-21T01:54:44.079Z"
   },
   {
    "duration": 80,
    "start_time": "2021-09-21T01:55:22.108Z"
   },
   {
    "duration": 69,
    "start_time": "2021-09-21T01:55:36.698Z"
   },
   {
    "duration": 70,
    "start_time": "2021-09-21T01:56:10.235Z"
   },
   {
    "duration": 12,
    "start_time": "2021-09-21T01:56:23.285Z"
   },
   {
    "duration": 69,
    "start_time": "2021-09-21T01:56:39.025Z"
   },
   {
    "duration": 12,
    "start_time": "2021-09-21T01:56:52.355Z"
   },
   {
    "duration": 22,
    "start_time": "2021-09-21T01:58:18.135Z"
   },
   {
    "duration": 338,
    "start_time": "2021-09-21T02:01:24.083Z"
   },
   {
    "duration": 1903,
    "start_time": "2021-09-21T02:01:36.770Z"
   },
   {
    "duration": 332,
    "start_time": "2021-09-21T02:01:49.639Z"
   },
   {
    "duration": 69,
    "start_time": "2021-09-21T02:01:58.618Z"
   },
   {
    "duration": 75,
    "start_time": "2021-09-21T02:13:15.993Z"
   },
   {
    "duration": 5,
    "start_time": "2021-09-21T02:14:17.009Z"
   },
   {
    "duration": 16,
    "start_time": "2021-09-21T02:14:52.400Z"
   },
   {
    "duration": 11,
    "start_time": "2021-09-21T02:15:28.731Z"
   },
   {
    "duration": 17,
    "start_time": "2021-09-21T02:15:45.093Z"
   },
   {
    "duration": 31,
    "start_time": "2021-09-21T02:16:23.804Z"
   },
   {
    "duration": 29,
    "start_time": "2021-09-21T02:16:56.685Z"
   },
   {
    "duration": 71,
    "start_time": "2021-09-21T02:17:58.223Z"
   },
   {
    "duration": 12,
    "start_time": "2021-09-21T02:23:55.942Z"
   },
   {
    "duration": 31,
    "start_time": "2021-09-21T02:24:25.027Z"
   },
   {
    "duration": 34,
    "start_time": "2021-09-21T02:24:33.442Z"
   },
   {
    "duration": 13,
    "start_time": "2021-09-21T02:25:51.733Z"
   },
   {
    "duration": 72,
    "start_time": "2021-09-21T02:26:12.106Z"
   },
   {
    "duration": 30,
    "start_time": "2021-09-21T02:26:25.699Z"
   },
   {
    "duration": 13,
    "start_time": "2021-09-21T02:27:36.998Z"
   },
   {
    "duration": 358,
    "start_time": "2021-09-21T02:28:47.730Z"
   },
   {
    "duration": 13,
    "start_time": "2021-09-21T02:29:29.456Z"
   },
   {
    "duration": 2313,
    "start_time": "2021-09-21T02:29:52.551Z"
   },
   {
    "duration": 3,
    "start_time": "2021-09-21T02:29:54.867Z"
   },
   {
    "duration": 367,
    "start_time": "2021-09-21T02:29:54.873Z"
   },
   {
    "duration": 17,
    "start_time": "2021-09-21T02:29:55.243Z"
   },
   {
    "duration": 82,
    "start_time": "2021-09-21T02:29:55.262Z"
   },
   {
    "duration": 46,
    "start_time": "2021-09-21T02:29:55.346Z"
   },
   {
    "duration": 13,
    "start_time": "2021-09-21T02:29:55.394Z"
   },
   {
    "duration": 110,
    "start_time": "2021-09-21T02:29:55.411Z"
   },
   {
    "duration": 31,
    "start_time": "2021-09-21T02:29:55.524Z"
   },
   {
    "duration": 35,
    "start_time": "2021-09-21T02:29:55.558Z"
   },
   {
    "duration": 98,
    "start_time": "2021-09-21T02:29:55.595Z"
   },
   {
    "duration": 19,
    "start_time": "2021-09-21T02:29:55.696Z"
   },
   {
    "duration": 24,
    "start_time": "2021-09-21T02:29:55.718Z"
   },
   {
    "duration": 39,
    "start_time": "2021-09-21T02:29:55.745Z"
   },
   {
    "duration": 4,
    "start_time": "2021-09-21T02:29:55.787Z"
   },
   {
    "duration": 348,
    "start_time": "2021-09-21T02:29:55.793Z"
   },
   {
    "duration": 14,
    "start_time": "2021-09-21T02:30:36.913Z"
   },
   {
    "duration": 49,
    "start_time": "2021-09-21T02:31:16.609Z"
   },
   {
    "duration": 29,
    "start_time": "2021-09-21T02:32:01.476Z"
   },
   {
    "duration": 43,
    "start_time": "2021-09-21T02:32:48.635Z"
   },
   {
    "duration": 11,
    "start_time": "2021-09-21T02:33:42.159Z"
   },
   {
    "duration": 42,
    "start_time": "2021-09-21T02:34:31.169Z"
   },
   {
    "duration": 11,
    "start_time": "2021-09-21T02:44:26.133Z"
   },
   {
    "duration": 16,
    "start_time": "2021-09-21T02:44:40.862Z"
   },
   {
    "duration": 41,
    "start_time": "2021-09-21T02:45:28.487Z"
   },
   {
    "duration": 19,
    "start_time": "2021-09-21T02:46:39.342Z"
   },
   {
    "duration": 15,
    "start_time": "2021-09-21T02:51:50.794Z"
   },
   {
    "duration": 826,
    "start_time": "2021-09-21T02:59:30.311Z"
   },
   {
    "duration": 4,
    "start_time": "2021-09-21T02:59:31.139Z"
   },
   {
    "duration": 373,
    "start_time": "2021-09-21T02:59:31.146Z"
   },
   {
    "duration": 17,
    "start_time": "2021-09-21T02:59:31.521Z"
   },
   {
    "duration": 104,
    "start_time": "2021-09-21T02:59:31.541Z"
   },
   {
    "duration": 55,
    "start_time": "2021-09-21T02:59:31.648Z"
   },
   {
    "duration": 13,
    "start_time": "2021-09-21T02:59:31.705Z"
   },
   {
    "duration": 109,
    "start_time": "2021-09-21T02:59:31.722Z"
   },
   {
    "duration": 27,
    "start_time": "2021-09-21T02:59:31.834Z"
   },
   {
    "duration": 13,
    "start_time": "2021-09-21T02:59:31.882Z"
   },
   {
    "duration": 14,
    "start_time": "2021-09-21T02:59:31.898Z"
   },
   {
    "duration": 79,
    "start_time": "2021-09-21T02:59:31.914Z"
   },
   {
    "duration": 12,
    "start_time": "2021-09-21T02:59:31.996Z"
   },
   {
    "duration": 44,
    "start_time": "2021-09-21T02:59:32.010Z"
   },
   {
    "duration": 45,
    "start_time": "2021-09-21T02:59:32.056Z"
   },
   {
    "duration": 100,
    "start_time": "2021-09-21T02:59:32.103Z"
   },
   {
    "duration": -147,
    "start_time": "2021-09-21T02:59:32.352Z"
   },
   {
    "duration": -148,
    "start_time": "2021-09-21T02:59:32.355Z"
   },
   {
    "duration": -147,
    "start_time": "2021-09-21T02:59:32.356Z"
   },
   {
    "duration": -147,
    "start_time": "2021-09-21T02:59:32.358Z"
   },
   {
    "duration": 103,
    "start_time": "2021-09-21T03:00:17.462Z"
   },
   {
    "duration": 99,
    "start_time": "2021-09-21T03:00:43.961Z"
   },
   {
    "duration": 805,
    "start_time": "2021-09-21T03:02:55.120Z"
   },
   {
    "duration": 3,
    "start_time": "2021-09-21T03:02:55.928Z"
   },
   {
    "duration": 362,
    "start_time": "2021-09-21T03:02:55.934Z"
   },
   {
    "duration": 16,
    "start_time": "2021-09-21T03:02:56.299Z"
   },
   {
    "duration": 86,
    "start_time": "2021-09-21T03:02:56.317Z"
   },
   {
    "duration": 31,
    "start_time": "2021-09-21T03:02:56.405Z"
   },
   {
    "duration": 12,
    "start_time": "2021-09-21T03:02:56.438Z"
   },
   {
    "duration": 104,
    "start_time": "2021-09-21T03:02:56.455Z"
   },
   {
    "duration": 32,
    "start_time": "2021-09-21T03:02:56.584Z"
   },
   {
    "duration": 14,
    "start_time": "2021-09-21T03:02:56.619Z"
   },
   {
    "duration": 53,
    "start_time": "2021-09-21T03:02:56.636Z"
   },
   {
    "duration": 43,
    "start_time": "2021-09-21T03:02:56.692Z"
   },
   {
    "duration": 48,
    "start_time": "2021-09-21T03:02:56.738Z"
   },
   {
    "duration": 49,
    "start_time": "2021-09-21T03:02:56.789Z"
   },
   {
    "duration": 54,
    "start_time": "2021-09-21T03:02:56.841Z"
   },
   {
    "duration": 15,
    "start_time": "2021-09-21T03:02:56.897Z"
   },
   {
    "duration": 16,
    "start_time": "2021-09-21T03:02:56.914Z"
   },
   {
    "duration": 52,
    "start_time": "2021-09-21T03:02:56.932Z"
   },
   {
    "duration": 765,
    "start_time": "2021-09-21T03:04:21.528Z"
   },
   {
    "duration": 5,
    "start_time": "2021-09-21T03:04:22.296Z"
   },
   {
    "duration": 368,
    "start_time": "2021-09-21T03:04:22.305Z"
   },
   {
    "duration": 22,
    "start_time": "2021-09-21T03:04:22.676Z"
   },
   {
    "duration": 141,
    "start_time": "2021-09-21T03:04:22.701Z"
   },
   {
    "duration": 43,
    "start_time": "2021-09-21T03:04:22.845Z"
   },
   {
    "duration": 12,
    "start_time": "2021-09-21T03:04:22.891Z"
   },
   {
    "duration": 102,
    "start_time": "2021-09-21T03:04:22.907Z"
   },
   {
    "duration": 28,
    "start_time": "2021-09-21T03:04:23.012Z"
   },
   {
    "duration": 40,
    "start_time": "2021-09-21T03:04:23.042Z"
   },
   {
    "duration": 13,
    "start_time": "2021-09-21T03:04:23.085Z"
   },
   {
    "duration": 42,
    "start_time": "2021-09-21T03:04:23.101Z"
   },
   {
    "duration": 43,
    "start_time": "2021-09-21T03:04:23.145Z"
   },
   {
    "duration": 46,
    "start_time": "2021-09-21T03:04:23.190Z"
   },
   {
    "duration": 18,
    "start_time": "2021-09-21T03:04:23.239Z"
   },
   {
    "duration": 15,
    "start_time": "2021-09-21T03:04:23.283Z"
   },
   {
    "duration": 16,
    "start_time": "2021-09-21T03:04:23.301Z"
   },
   {
    "duration": 838,
    "start_time": "2021-09-21T03:05:48.594Z"
   },
   {
    "duration": 4,
    "start_time": "2021-09-21T03:05:49.434Z"
   },
   {
    "duration": 361,
    "start_time": "2021-09-21T03:05:49.440Z"
   },
   {
    "duration": 16,
    "start_time": "2021-09-21T03:05:49.804Z"
   },
   {
    "duration": 76,
    "start_time": "2021-09-21T03:05:49.822Z"
   },
   {
    "duration": 31,
    "start_time": "2021-09-21T03:05:49.901Z"
   },
   {
    "duration": 11,
    "start_time": "2021-09-21T03:05:49.935Z"
   },
   {
    "duration": 80,
    "start_time": "2021-09-21T03:05:49.981Z"
   },
   {
    "duration": 44,
    "start_time": "2021-09-21T03:05:50.063Z"
   },
   {
    "duration": 12,
    "start_time": "2021-09-21T03:05:50.110Z"
   },
   {
    "duration": 20,
    "start_time": "2021-09-21T03:05:50.124Z"
   },
   {
    "duration": 73,
    "start_time": "2021-09-21T03:05:50.147Z"
   },
   {
    "duration": 18,
    "start_time": "2021-09-21T03:05:50.223Z"
   },
   {
    "duration": 68,
    "start_time": "2021-09-21T03:05:50.244Z"
   },
   {
    "duration": 17,
    "start_time": "2021-09-21T03:05:50.315Z"
   },
   {
    "duration": 14,
    "start_time": "2021-09-21T03:05:50.334Z"
   },
   {
    "duration": 45,
    "start_time": "2021-09-21T03:05:50.350Z"
   },
   {
    "duration": 687,
    "start_time": "2021-09-22T19:20:24.355Z"
   },
   {
    "duration": 5,
    "start_time": "2021-09-22T19:20:25.044Z"
   },
   {
    "duration": 969,
    "start_time": "2021-09-22T19:20:25.051Z"
   },
   {
    "duration": 13,
    "start_time": "2021-09-22T19:20:26.022Z"
   },
   {
    "duration": 55,
    "start_time": "2021-09-22T19:20:26.037Z"
   },
   {
    "duration": 23,
    "start_time": "2021-09-22T19:20:26.094Z"
   },
   {
    "duration": 7,
    "start_time": "2021-09-22T19:20:26.119Z"
   },
   {
    "duration": 78,
    "start_time": "2021-09-22T19:20:26.128Z"
   },
   {
    "duration": 41,
    "start_time": "2021-09-22T19:20:26.209Z"
   },
   {
    "duration": 10,
    "start_time": "2021-09-22T19:20:26.252Z"
   },
   {
    "duration": 12,
    "start_time": "2021-09-22T19:20:26.264Z"
   },
   {
    "duration": 33,
    "start_time": "2021-09-22T19:20:26.278Z"
   },
   {
    "duration": 38,
    "start_time": "2021-09-22T19:20:26.313Z"
   },
   {
    "duration": 47,
    "start_time": "2021-09-22T19:20:26.353Z"
   },
   {
    "duration": 16,
    "start_time": "2021-09-22T19:20:26.402Z"
   },
   {
    "duration": 30,
    "start_time": "2021-09-22T19:20:26.420Z"
   },
   {
    "duration": 10,
    "start_time": "2021-09-22T19:20:26.452Z"
   },
   {
    "duration": 286,
    "start_time": "2021-09-22T19:21:57.624Z"
   },
   {
    "duration": 227,
    "start_time": "2021-09-22T19:22:20.179Z"
   },
   {
    "duration": 11,
    "start_time": "2021-09-22T19:22:52.041Z"
   },
   {
    "duration": 12,
    "start_time": "2021-09-22T19:24:06.930Z"
   },
   {
    "duration": 22,
    "start_time": "2021-09-22T19:24:19.462Z"
   },
   {
    "duration": 7798,
    "start_time": "2021-09-22T19:25:26.333Z"
   },
   {
    "duration": 6,
    "start_time": "2021-09-22T19:25:42.882Z"
   },
   {
    "duration": 240,
    "start_time": "2021-09-22T19:26:12.514Z"
   },
   {
    "duration": 7,
    "start_time": "2021-09-22T19:26:56.494Z"
   },
   {
    "duration": 6,
    "start_time": "2021-09-22T19:27:03.826Z"
   },
   {
    "duration": 9,
    "start_time": "2021-09-22T21:57:27.599Z"
   },
   {
    "duration": 7,
    "start_time": "2021-09-22T21:59:33.535Z"
   },
   {
    "duration": 7,
    "start_time": "2021-09-22T22:10:39.544Z"
   },
   {
    "duration": 17,
    "start_time": "2021-09-22T22:13:42.964Z"
   },
   {
    "duration": 10,
    "start_time": "2021-09-22T22:13:52.019Z"
   },
   {
    "duration": 739,
    "start_time": "2021-09-22T22:14:28.115Z"
   },
   {
    "duration": 8,
    "start_time": "2021-09-22T22:14:28.856Z"
   },
   {
    "duration": 329,
    "start_time": "2021-09-22T22:14:28.867Z"
   },
   {
    "duration": 12,
    "start_time": "2021-09-22T22:14:29.198Z"
   },
   {
    "duration": 68,
    "start_time": "2021-09-22T22:14:29.211Z"
   },
   {
    "duration": 25,
    "start_time": "2021-09-22T22:14:29.281Z"
   },
   {
    "duration": 8,
    "start_time": "2021-09-22T22:14:29.308Z"
   },
   {
    "duration": 96,
    "start_time": "2021-09-22T22:14:29.320Z"
   },
   {
    "duration": 21,
    "start_time": "2021-09-22T22:14:29.417Z"
   },
   {
    "duration": 22,
    "start_time": "2021-09-22T22:14:29.440Z"
   },
   {
    "duration": 18,
    "start_time": "2021-09-22T22:14:29.467Z"
   },
   {
    "duration": 26,
    "start_time": "2021-09-22T22:14:29.487Z"
   },
   {
    "duration": 7,
    "start_time": "2021-09-22T22:14:29.515Z"
   },
   {
    "duration": 67,
    "start_time": "2021-09-22T22:14:29.523Z"
   },
   {
    "duration": 13,
    "start_time": "2021-09-22T22:14:29.592Z"
   },
   {
    "duration": 10,
    "start_time": "2021-09-22T22:14:29.607Z"
   },
   {
    "duration": 45,
    "start_time": "2021-09-22T22:14:29.618Z"
   },
   {
    "duration": 14,
    "start_time": "2021-09-22T22:14:29.667Z"
   },
   {
    "duration": 12,
    "start_time": "2021-09-22T22:14:29.684Z"
   },
   {
    "duration": 10,
    "start_time": "2021-09-22T22:14:29.698Z"
   },
   {
    "duration": 80,
    "start_time": "2021-09-22T22:14:29.710Z"
   },
   {
    "duration": 13,
    "start_time": "2021-09-22T22:16:48.764Z"
   },
   {
    "duration": 11,
    "start_time": "2021-09-22T22:17:34.155Z"
   },
   {
    "duration": 5,
    "start_time": "2021-09-22T22:18:18.681Z"
   },
   {
    "duration": 5,
    "start_time": "2021-09-22T22:21:23.430Z"
   },
   {
    "duration": 1115,
    "start_time": "2021-09-22T22:24:55.861Z"
   },
   {
    "duration": 3,
    "start_time": "2021-09-22T22:24:56.978Z"
   },
   {
    "duration": 368,
    "start_time": "2021-09-22T22:24:56.983Z"
   },
   {
    "duration": 15,
    "start_time": "2021-09-22T22:24:57.353Z"
   },
   {
    "duration": 79,
    "start_time": "2021-09-22T22:24:57.375Z"
   },
   {
    "duration": 38,
    "start_time": "2021-09-22T22:24:57.461Z"
   },
   {
    "duration": 9,
    "start_time": "2021-09-22T22:24:57.500Z"
   },
   {
    "duration": 111,
    "start_time": "2021-09-22T22:24:57.512Z"
   },
   {
    "duration": 44,
    "start_time": "2021-09-22T22:24:57.625Z"
   },
   {
    "duration": 11,
    "start_time": "2021-09-22T22:24:57.670Z"
   },
   {
    "duration": 10,
    "start_time": "2021-09-22T22:24:57.683Z"
   },
   {
    "duration": 63,
    "start_time": "2021-09-22T22:24:57.695Z"
   },
   {
    "duration": 11,
    "start_time": "2021-09-22T22:24:57.760Z"
   },
   {
    "duration": 34,
    "start_time": "2021-09-22T22:24:57.773Z"
   },
   {
    "duration": 46,
    "start_time": "2021-09-22T22:24:57.809Z"
   },
   {
    "duration": 15,
    "start_time": "2021-09-22T22:24:57.857Z"
   },
   {
    "duration": 15,
    "start_time": "2021-09-22T22:24:57.874Z"
   },
   {
    "duration": 11,
    "start_time": "2021-09-22T22:24:57.891Z"
   },
   {
    "duration": 8,
    "start_time": "2021-09-22T22:24:57.904Z"
   },
   {
    "duration": 43,
    "start_time": "2021-09-22T22:24:57.913Z"
   },
   {
    "duration": 75,
    "start_time": "2021-09-22T22:24:57.958Z"
   },
   {
    "duration": 4303,
    "start_time": "2021-09-22T22:27:02.753Z"
   },
   {
    "duration": 236,
    "start_time": "2021-09-22T22:29:03.665Z"
   },
   {
    "duration": 1216,
    "start_time": "2021-09-22T22:30:51.152Z"
   },
   {
    "duration": 107,
    "start_time": "2021-09-22T22:32:05.310Z"
   },
   {
    "duration": 110,
    "start_time": "2021-09-22T22:33:22.483Z"
   },
   {
    "duration": 20,
    "start_time": "2021-09-22T22:34:45.240Z"
   },
   {
    "duration": 80,
    "start_time": "2021-09-22T22:36:37.126Z"
   },
   {
    "duration": 16,
    "start_time": "2021-09-22T22:53:19.161Z"
   },
   {
    "duration": 20,
    "start_time": "2021-09-22T22:54:26.017Z"
   },
   {
    "duration": 89,
    "start_time": "2021-09-22T22:56:32.427Z"
   },
   {
    "duration": 9,
    "start_time": "2021-09-22T22:56:45.973Z"
   },
   {
    "duration": 78,
    "start_time": "2021-09-22T22:58:07.379Z"
   },
   {
    "duration": 196,
    "start_time": "2021-09-22T22:58:19.178Z"
   },
   {
    "duration": 80,
    "start_time": "2021-09-22T22:58:35.950Z"
   },
   {
    "duration": 238,
    "start_time": "2021-09-22T22:58:45.501Z"
   },
   {
    "duration": 10,
    "start_time": "2021-09-22T22:59:01.505Z"
   },
   {
    "duration": 375,
    "start_time": "2021-09-23T01:36:55.903Z"
   },
   {
    "duration": 652,
    "start_time": "2021-09-23T01:37:27.229Z"
   },
   {
    "duration": 3,
    "start_time": "2021-09-23T01:37:27.882Z"
   },
   {
    "duration": 298,
    "start_time": "2021-09-23T01:37:27.887Z"
   },
   {
    "duration": 11,
    "start_time": "2021-09-23T01:37:28.187Z"
   },
   {
    "duration": 83,
    "start_time": "2021-09-23T01:37:28.200Z"
   },
   {
    "duration": 33,
    "start_time": "2021-09-23T01:37:28.285Z"
   },
   {
    "duration": 161,
    "start_time": "2021-09-23T01:37:28.320Z"
   },
   {
    "duration": 9,
    "start_time": "2021-09-23T01:37:28.483Z"
   },
   {
    "duration": 63,
    "start_time": "2021-09-23T01:37:28.494Z"
   },
   {
    "duration": 20,
    "start_time": "2021-09-23T01:37:28.577Z"
   },
   {
    "duration": 85,
    "start_time": "2021-09-23T01:37:28.599Z"
   },
   {
    "duration": 8,
    "start_time": "2021-09-23T01:37:28.686Z"
   },
   {
    "duration": 12,
    "start_time": "2021-09-23T01:37:28.695Z"
   },
   {
    "duration": 32,
    "start_time": "2021-09-23T01:37:28.708Z"
   },
   {
    "duration": 8,
    "start_time": "2021-09-23T01:37:28.741Z"
   },
   {
    "duration": 53,
    "start_time": "2021-09-23T01:37:28.750Z"
   },
   {
    "duration": 13,
    "start_time": "2021-09-23T01:37:28.805Z"
   },
   {
    "duration": 9,
    "start_time": "2021-09-23T01:37:28.819Z"
   },
   {
    "duration": 9,
    "start_time": "2021-09-23T01:37:28.830Z"
   },
   {
    "duration": 41,
    "start_time": "2021-09-23T01:37:28.841Z"
   },
   {
    "duration": 19,
    "start_time": "2021-09-23T01:37:28.884Z"
   },
   {
    "duration": 16,
    "start_time": "2021-09-23T01:37:28.905Z"
   },
   {
    "duration": 5,
    "start_time": "2021-09-23T01:37:28.924Z"
   },
   {
    "duration": 10,
    "start_time": "2021-09-23T01:37:28.930Z"
   },
   {
    "duration": 104,
    "start_time": "2021-09-23T01:44:00.802Z"
   },
   {
    "duration": 83,
    "start_time": "2021-09-23T01:48:24.426Z"
   },
   {
    "duration": 116,
    "start_time": "2021-09-23T01:50:30.162Z"
   },
   {
    "duration": 80,
    "start_time": "2021-09-23T01:59:02.342Z"
   },
   {
    "duration": 39,
    "start_time": "2021-09-23T02:07:45.245Z"
   },
   {
    "duration": 11,
    "start_time": "2021-09-23T02:08:46.310Z"
   },
   {
    "duration": 10,
    "start_time": "2021-09-23T02:09:20.518Z"
   },
   {
    "duration": 12,
    "start_time": "2021-09-23T02:10:29.015Z"
   },
   {
    "duration": 9,
    "start_time": "2021-09-23T02:16:34.960Z"
   },
   {
    "duration": 9,
    "start_time": "2021-09-23T02:26:46.429Z"
   },
   {
    "duration": 10,
    "start_time": "2021-09-23T02:29:43.765Z"
   },
   {
    "duration": 10,
    "start_time": "2021-09-23T02:29:55.284Z"
   },
   {
    "duration": 15,
    "start_time": "2021-09-23T02:30:13.186Z"
   },
   {
    "duration": 6,
    "start_time": "2021-09-23T02:31:01.017Z"
   },
   {
    "duration": 667,
    "start_time": "2021-09-23T02:38:51.206Z"
   },
   {
    "duration": 2,
    "start_time": "2021-09-23T02:38:51.877Z"
   },
   {
    "duration": 301,
    "start_time": "2021-09-23T02:38:51.881Z"
   },
   {
    "duration": 11,
    "start_time": "2021-09-23T02:38:52.184Z"
   },
   {
    "duration": 89,
    "start_time": "2021-09-23T02:38:52.197Z"
   },
   {
    "duration": 25,
    "start_time": "2021-09-23T02:38:52.288Z"
   },
   {
    "duration": 110,
    "start_time": "2021-09-23T02:38:52.315Z"
   },
   {
    "duration": 8,
    "start_time": "2021-09-23T02:38:52.427Z"
   },
   {
    "duration": 110,
    "start_time": "2021-09-23T02:38:52.437Z"
   },
   {
    "duration": 35,
    "start_time": "2021-09-23T02:38:52.548Z"
   },
   {
    "duration": 69,
    "start_time": "2021-09-23T02:38:52.585Z"
   },
   {
    "duration": 22,
    "start_time": "2021-09-23T02:38:52.656Z"
   },
   {
    "duration": 9,
    "start_time": "2021-09-23T02:38:52.679Z"
   },
   {
    "duration": 27,
    "start_time": "2021-09-23T02:38:52.689Z"
   },
   {
    "duration": 7,
    "start_time": "2021-09-23T02:38:52.717Z"
   },
   {
    "duration": 72,
    "start_time": "2021-09-23T02:38:52.726Z"
   },
   {
    "duration": 13,
    "start_time": "2021-09-23T02:38:52.800Z"
   },
   {
    "duration": 10,
    "start_time": "2021-09-23T02:38:52.814Z"
   },
   {
    "duration": 13,
    "start_time": "2021-09-23T02:38:52.826Z"
   },
   {
    "duration": 37,
    "start_time": "2021-09-23T02:38:52.841Z"
   },
   {
    "duration": 3,
    "start_time": "2021-09-23T02:38:52.880Z"
   },
   {
    "duration": 16,
    "start_time": "2021-09-23T02:38:52.885Z"
   },
   {
    "duration": 130,
    "start_time": "2021-09-23T02:38:52.904Z"
   },
   {
    "duration": -2110,
    "start_time": "2021-09-23T02:38:55.146Z"
   },
   {
    "duration": -2112,
    "start_time": "2021-09-23T02:38:55.149Z"
   },
   {
    "duration": -2116,
    "start_time": "2021-09-23T02:38:55.154Z"
   },
   {
    "duration": 48,
    "start_time": "2021-09-23T02:41:05.374Z"
   },
   {
    "duration": 16,
    "start_time": "2021-09-23T02:41:08.910Z"
   },
   {
    "duration": 22,
    "start_time": "2021-09-23T02:43:12.225Z"
   },
   {
    "duration": 31,
    "start_time": "2021-09-23T02:45:52.490Z"
   },
   {
    "duration": 33,
    "start_time": "2021-09-23T02:48:11.446Z"
   },
   {
    "duration": 33,
    "start_time": "2021-09-23T02:48:42.403Z"
   },
   {
    "duration": 33,
    "start_time": "2021-09-23T02:49:11.947Z"
   },
   {
    "duration": 8,
    "start_time": "2021-09-23T02:50:58.122Z"
   },
   {
    "duration": 8,
    "start_time": "2021-09-23T02:51:35.068Z"
   },
   {
    "duration": 9,
    "start_time": "2021-09-23T02:53:52.320Z"
   },
   {
    "duration": 7,
    "start_time": "2021-09-23T02:54:09.261Z"
   },
   {
    "duration": 666,
    "start_time": "2021-09-23T02:59:27.906Z"
   },
   {
    "duration": 3,
    "start_time": "2021-09-23T02:59:28.574Z"
   },
   {
    "duration": 298,
    "start_time": "2021-09-23T02:59:28.579Z"
   },
   {
    "duration": 13,
    "start_time": "2021-09-23T02:59:28.879Z"
   },
   {
    "duration": 94,
    "start_time": "2021-09-23T02:59:28.894Z"
   },
   {
    "duration": 26,
    "start_time": "2021-09-23T02:59:28.990Z"
   },
   {
    "duration": 116,
    "start_time": "2021-09-23T02:59:29.018Z"
   },
   {
    "duration": 8,
    "start_time": "2021-09-23T02:59:29.138Z"
   },
   {
    "duration": 104,
    "start_time": "2021-09-23T02:59:29.149Z"
   },
   {
    "duration": 35,
    "start_time": "2021-09-23T02:59:29.255Z"
   },
   {
    "duration": 86,
    "start_time": "2021-09-23T02:59:29.291Z"
   },
   {
    "duration": 8,
    "start_time": "2021-09-23T02:59:29.379Z"
   },
   {
    "duration": 9,
    "start_time": "2021-09-23T02:59:29.389Z"
   },
   {
    "duration": 27,
    "start_time": "2021-09-23T02:59:29.400Z"
   },
   {
    "duration": 7,
    "start_time": "2021-09-23T02:59:29.429Z"
   },
   {
    "duration": 73,
    "start_time": "2021-09-23T02:59:29.438Z"
   },
   {
    "duration": 12,
    "start_time": "2021-09-23T02:59:29.513Z"
   },
   {
    "duration": 8,
    "start_time": "2021-09-23T02:59:29.527Z"
   },
   {
    "duration": 43,
    "start_time": "2021-09-23T02:59:29.537Z"
   },
   {
    "duration": 10,
    "start_time": "2021-09-23T02:59:29.582Z"
   },
   {
    "duration": 65,
    "start_time": "2021-09-23T02:59:29.594Z"
   },
   {
    "duration": 34,
    "start_time": "2021-09-23T02:59:29.676Z"
   },
   {
    "duration": 404,
    "start_time": "2021-09-23T02:59:29.712Z"
   },
   {
    "duration": -135,
    "start_time": "2021-09-23T02:59:30.254Z"
   },
   {
    "duration": -136,
    "start_time": "2021-09-23T02:59:30.256Z"
   },
   {
    "duration": 16,
    "start_time": "2021-09-23T03:02:54.559Z"
   },
   {
    "duration": 359,
    "start_time": "2021-09-23T03:07:39.651Z"
   },
   {
    "duration": 300,
    "start_time": "2021-09-23T03:10:17.797Z"
   },
   {
    "duration": 720,
    "start_time": "2021-09-23T03:13:55.243Z"
   },
   {
    "duration": 2,
    "start_time": "2021-09-23T03:13:55.965Z"
   },
   {
    "duration": 300,
    "start_time": "2021-09-23T03:13:55.969Z"
   },
   {
    "duration": 12,
    "start_time": "2021-09-23T03:13:56.271Z"
   },
   {
    "duration": 110,
    "start_time": "2021-09-23T03:13:56.285Z"
   },
   {
    "duration": 25,
    "start_time": "2021-09-23T03:13:56.396Z"
   },
   {
    "duration": 106,
    "start_time": "2021-09-23T03:13:56.423Z"
   },
   {
    "duration": 8,
    "start_time": "2021-09-23T03:13:56.532Z"
   },
   {
    "duration": 97,
    "start_time": "2021-09-23T03:13:56.542Z"
   },
   {
    "duration": 38,
    "start_time": "2021-09-23T03:13:56.641Z"
   },
   {
    "duration": 70,
    "start_time": "2021-09-23T03:13:56.681Z"
   },
   {
    "duration": 25,
    "start_time": "2021-09-23T03:13:56.753Z"
   },
   {
    "duration": 10,
    "start_time": "2021-09-23T03:13:56.780Z"
   },
   {
    "duration": 27,
    "start_time": "2021-09-23T03:13:56.792Z"
   },
   {
    "duration": 8,
    "start_time": "2021-09-23T03:13:56.821Z"
   },
   {
    "duration": 83,
    "start_time": "2021-09-23T03:13:56.831Z"
   },
   {
    "duration": 15,
    "start_time": "2021-09-23T03:13:56.916Z"
   },
   {
    "duration": 10,
    "start_time": "2021-09-23T03:13:56.933Z"
   },
   {
    "duration": 17,
    "start_time": "2021-09-23T03:13:56.977Z"
   },
   {
    "duration": 9,
    "start_time": "2021-09-23T03:13:56.996Z"
   },
   {
    "duration": 86,
    "start_time": "2021-09-23T03:13:57.007Z"
   },
   {
    "duration": 32,
    "start_time": "2021-09-23T03:13:57.094Z"
   },
   {
    "duration": 287,
    "start_time": "2021-09-23T03:13:57.129Z"
   },
   {
    "duration": 6,
    "start_time": "2021-09-23T03:13:57.418Z"
   },
   {
    "duration": 12,
    "start_time": "2021-09-23T03:13:57.425Z"
   },
   {
    "duration": 410,
    "start_time": "2021-09-23T03:18:57.682Z"
   },
   {
    "duration": 352,
    "start_time": "2021-09-23T03:19:29.019Z"
   },
   {
    "duration": 370,
    "start_time": "2021-09-23T03:20:50.412Z"
   },
   {
    "duration": 18,
    "start_time": "2021-09-23T03:21:17.030Z"
   },
   {
    "duration": 11,
    "start_time": "2021-09-23T03:21:32.638Z"
   },
   {
    "duration": 15,
    "start_time": "2021-09-23T03:21:50.182Z"
   },
   {
    "duration": 22,
    "start_time": "2021-09-23T03:22:17.396Z"
   },
   {
    "duration": 16,
    "start_time": "2021-09-23T03:26:09.657Z"
   },
   {
    "duration": 17,
    "start_time": "2021-09-23T03:26:35.309Z"
   },
   {
    "duration": 10468,
    "start_time": "2021-09-23T03:31:21.335Z"
   },
   {
    "duration": 4406,
    "start_time": "2021-09-23T03:32:37.216Z"
   },
   {
    "duration": 4578,
    "start_time": "2021-09-23T03:33:59.555Z"
   },
   {
    "duration": 4783,
    "start_time": "2021-09-23T03:34:22.925Z"
   },
   {
    "duration": 4715,
    "start_time": "2021-09-23T03:34:43.704Z"
   },
   {
    "duration": 1750,
    "start_time": "2021-09-23T03:36:14.210Z"
   },
   {
    "duration": 4675,
    "start_time": "2021-09-23T03:47:11.617Z"
   },
   {
    "duration": 14,
    "start_time": "2021-09-23T03:48:41.308Z"
   },
   {
    "duration": 341,
    "start_time": "2021-09-23T03:50:23.661Z"
   },
   {
    "duration": 20,
    "start_time": "2021-09-23T03:50:44.572Z"
   },
   {
    "duration": 18,
    "start_time": "2021-09-23T03:51:39.318Z"
   },
   {
    "duration": 111,
    "start_time": "2021-09-23T03:52:10.145Z"
   },
   {
    "duration": 20,
    "start_time": "2021-09-23T03:53:35.912Z"
   },
   {
    "duration": 14,
    "start_time": "2021-09-23T03:53:53.506Z"
   },
   {
    "duration": 11,
    "start_time": "2021-09-23T03:54:02.096Z"
   },
   {
    "duration": 15,
    "start_time": "2021-09-23T03:56:57.589Z"
   },
   {
    "duration": 19,
    "start_time": "2021-09-23T03:57:09.827Z"
   },
   {
    "duration": 175,
    "start_time": "2021-09-23T03:57:24.517Z"
   },
   {
    "duration": 20,
    "start_time": "2021-09-23T03:58:22.483Z"
   },
   {
    "duration": 20,
    "start_time": "2021-09-23T04:00:58.621Z"
   },
   {
    "duration": 20,
    "start_time": "2021-09-23T04:01:44.804Z"
   },
   {
    "duration": 26,
    "start_time": "2021-09-23T04:05:28.826Z"
   },
   {
    "duration": 24,
    "start_time": "2021-09-23T04:06:05.903Z"
   },
   {
    "duration": 20,
    "start_time": "2021-09-23T04:06:44.537Z"
   },
   {
    "duration": 21,
    "start_time": "2021-09-23T04:19:04.943Z"
   },
   {
    "duration": 21,
    "start_time": "2021-09-23T04:19:29.061Z"
   },
   {
    "duration": 17,
    "start_time": "2021-09-23T04:19:51.537Z"
   },
   {
    "duration": 21,
    "start_time": "2021-09-23T04:20:25.274Z"
   },
   {
    "duration": 21,
    "start_time": "2021-09-23T04:20:49.222Z"
   },
   {
    "duration": 22,
    "start_time": "2021-09-23T04:21:20.512Z"
   },
   {
    "duration": 21,
    "start_time": "2021-09-23T04:21:51.358Z"
   },
   {
    "duration": 19,
    "start_time": "2021-09-23T04:22:28.452Z"
   },
   {
    "duration": 20,
    "start_time": "2021-09-23T04:22:55.192Z"
   },
   {
    "duration": 22,
    "start_time": "2021-09-23T04:23:23.933Z"
   },
   {
    "duration": 525,
    "start_time": "2021-09-23T04:24:00.298Z"
   },
   {
    "duration": 376,
    "start_time": "2021-09-23T04:24:14.407Z"
   },
   {
    "duration": 21,
    "start_time": "2021-09-23T04:24:26.761Z"
   },
   {
    "duration": 360,
    "start_time": "2021-09-23T04:24:36.913Z"
   },
   {
    "duration": 23,
    "start_time": "2021-09-23T04:24:56.285Z"
   },
   {
    "duration": 19,
    "start_time": "2021-09-23T04:25:18.586Z"
   },
   {
    "duration": 17,
    "start_time": "2021-09-23T04:29:28.518Z"
   },
   {
    "duration": 20,
    "start_time": "2021-09-23T04:30:01.336Z"
   },
   {
    "duration": 4,
    "start_time": "2021-09-23T04:30:14.643Z"
   },
   {
    "duration": 4,
    "start_time": "2021-09-23T04:32:25.965Z"
   },
   {
    "duration": 9,
    "start_time": "2021-09-23T04:33:20.131Z"
   },
   {
    "duration": 530,
    "start_time": "2021-09-23T04:34:08.360Z"
   },
   {
    "duration": 351,
    "start_time": "2021-09-23T04:34:27.310Z"
   },
   {
    "duration": 355,
    "start_time": "2021-09-23T04:38:10.194Z"
   },
   {
    "duration": 351,
    "start_time": "2021-09-23T04:38:25.062Z"
   },
   {
    "duration": 14,
    "start_time": "2021-09-23T04:38:50.114Z"
   },
   {
    "duration": 9,
    "start_time": "2021-09-23T04:39:12.255Z"
   },
   {
    "duration": 9,
    "start_time": "2021-09-23T04:39:33.741Z"
   },
   {
    "duration": 925,
    "start_time": "2021-09-23T22:13:13.134Z"
   },
   {
    "duration": 4,
    "start_time": "2021-09-23T22:13:14.062Z"
   },
   {
    "duration": 390,
    "start_time": "2021-09-23T22:13:14.069Z"
   },
   {
    "duration": 16,
    "start_time": "2021-09-23T22:13:14.462Z"
   },
   {
    "duration": 134,
    "start_time": "2021-09-23T22:13:14.481Z"
   },
   {
    "duration": 54,
    "start_time": "2021-09-23T22:13:14.617Z"
   },
   {
    "duration": 144,
    "start_time": "2021-09-23T22:13:14.673Z"
   },
   {
    "duration": 12,
    "start_time": "2021-09-23T22:13:14.821Z"
   },
   {
    "duration": 161,
    "start_time": "2021-09-23T22:13:14.836Z"
   },
   {
    "duration": 30,
    "start_time": "2021-09-23T22:13:14.999Z"
   },
   {
    "duration": 136,
    "start_time": "2021-09-23T22:13:15.031Z"
   },
   {
    "duration": 15,
    "start_time": "2021-09-23T22:13:15.169Z"
   },
   {
    "duration": 29,
    "start_time": "2021-09-23T22:13:15.186Z"
   },
   {
    "duration": 71,
    "start_time": "2021-09-23T22:13:15.218Z"
   },
   {
    "duration": 12,
    "start_time": "2021-09-23T22:13:15.291Z"
   },
   {
    "duration": 89,
    "start_time": "2021-09-23T22:13:15.305Z"
   },
   {
    "duration": 20,
    "start_time": "2021-09-23T22:13:15.396Z"
   },
   {
    "duration": 43,
    "start_time": "2021-09-23T22:13:15.419Z"
   },
   {
    "duration": 27,
    "start_time": "2021-09-23T22:13:15.464Z"
   },
   {
    "duration": 13,
    "start_time": "2021-09-23T22:13:15.494Z"
   },
   {
    "duration": 136,
    "start_time": "2021-09-23T22:13:15.510Z"
   },
   {
    "duration": 53,
    "start_time": "2021-09-23T22:13:15.649Z"
   },
   {
    "duration": 439,
    "start_time": "2021-09-23T22:13:15.706Z"
   },
   {
    "duration": 40,
    "start_time": "2021-09-23T22:13:16.147Z"
   },
   {
    "duration": 11,
    "start_time": "2021-09-23T22:13:16.190Z"
   },
   {
    "duration": 60,
    "start_time": "2021-09-23T22:13:16.203Z"
   },
   {
    "duration": 8,
    "start_time": "2021-09-23T22:13:16.265Z"
   },
   {
    "duration": 22,
    "start_time": "2021-09-23T22:13:16.275Z"
   },
   {
    "duration": 8246,
    "start_time": "2021-09-23T22:13:16.299Z"
   },
   {
    "duration": 13,
    "start_time": "2021-09-23T22:14:22.685Z"
   },
   {
    "duration": 12,
    "start_time": "2021-09-23T22:14:49.389Z"
   },
   {
    "duration": 12,
    "start_time": "2021-09-23T22:15:40.168Z"
   },
   {
    "duration": 12,
    "start_time": "2021-09-24T02:40:14.071Z"
   },
   {
    "duration": 17,
    "start_time": "2021-09-24T02:40:34.663Z"
   },
   {
    "duration": 19,
    "start_time": "2021-09-24T02:42:17.685Z"
   },
   {
    "duration": 276,
    "start_time": "2021-09-24T02:42:20.308Z"
   },
   {
    "duration": 848,
    "start_time": "2021-09-24T02:43:12.454Z"
   },
   {
    "duration": 3,
    "start_time": "2021-09-24T02:43:13.305Z"
   },
   {
    "duration": 374,
    "start_time": "2021-09-24T02:43:13.311Z"
   },
   {
    "duration": 19,
    "start_time": "2021-09-24T02:43:13.688Z"
   },
   {
    "duration": 112,
    "start_time": "2021-09-24T02:43:13.710Z"
   },
   {
    "duration": 50,
    "start_time": "2021-09-24T02:43:13.825Z"
   },
   {
    "duration": 144,
    "start_time": "2021-09-24T02:43:13.878Z"
   },
   {
    "duration": 12,
    "start_time": "2021-09-24T02:43:14.028Z"
   },
   {
    "duration": 126,
    "start_time": "2021-09-24T02:43:14.063Z"
   },
   {
    "duration": 28,
    "start_time": "2021-09-24T02:43:14.192Z"
   },
   {
    "duration": 131,
    "start_time": "2021-09-24T02:43:14.222Z"
   },
   {
    "duration": 15,
    "start_time": "2021-09-24T02:43:14.363Z"
   },
   {
    "duration": 17,
    "start_time": "2021-09-24T02:43:14.380Z"
   },
   {
    "duration": 76,
    "start_time": "2021-09-24T02:43:14.399Z"
   },
   {
    "duration": 10,
    "start_time": "2021-09-24T02:43:14.477Z"
   },
   {
    "duration": 81,
    "start_time": "2021-09-24T02:43:14.489Z"
   },
   {
    "duration": 18,
    "start_time": "2021-09-24T02:43:14.573Z"
   },
   {
    "duration": 14,
    "start_time": "2021-09-24T02:43:14.593Z"
   },
   {
    "duration": 61,
    "start_time": "2021-09-24T02:43:14.610Z"
   },
   {
    "duration": 12,
    "start_time": "2021-09-24T02:43:14.673Z"
   },
   {
    "duration": 121,
    "start_time": "2021-09-24T02:43:14.688Z"
   },
   {
    "duration": 51,
    "start_time": "2021-09-24T02:43:14.811Z"
   },
   {
    "duration": 379,
    "start_time": "2021-09-24T02:43:14.866Z"
   },
   {
    "duration": 38,
    "start_time": "2021-09-24T02:43:15.247Z"
   },
   {
    "duration": 12,
    "start_time": "2021-09-24T02:43:15.287Z"
   },
   {
    "duration": 19,
    "start_time": "2021-09-24T02:43:15.301Z"
   },
   {
    "duration": 322,
    "start_time": "2021-09-24T02:43:15.323Z"
   },
   {
    "duration": 41,
    "start_time": "2021-09-24T02:43:15.647Z"
   },
   {
    "duration": 7,
    "start_time": "2021-09-24T02:43:15.690Z"
   },
   {
    "duration": 27,
    "start_time": "2021-09-24T02:43:15.699Z"
   },
   {
    "duration": 7757,
    "start_time": "2021-09-24T02:43:15.728Z"
   },
   {
    "duration": 24,
    "start_time": "2021-09-24T02:52:17.442Z"
   },
   {
    "duration": 22,
    "start_time": "2021-09-24T02:53:27.105Z"
   },
   {
    "duration": 25,
    "start_time": "2021-09-24T02:54:36.671Z"
   },
   {
    "duration": 859,
    "start_time": "2021-09-24T02:54:50.671Z"
   },
   {
    "duration": 3,
    "start_time": "2021-09-24T02:54:51.533Z"
   },
   {
    "duration": 378,
    "start_time": "2021-09-24T02:54:51.539Z"
   },
   {
    "duration": 16,
    "start_time": "2021-09-24T02:54:51.919Z"
   },
   {
    "duration": 113,
    "start_time": "2021-09-24T02:54:51.938Z"
   },
   {
    "duration": 40,
    "start_time": "2021-09-24T02:54:52.053Z"
   },
   {
    "duration": 145,
    "start_time": "2021-09-24T02:54:52.096Z"
   },
   {
    "duration": 22,
    "start_time": "2021-09-24T02:54:52.245Z"
   },
   {
    "duration": 137,
    "start_time": "2021-09-24T02:54:52.270Z"
   },
   {
    "duration": 29,
    "start_time": "2021-09-24T02:54:52.409Z"
   },
   {
    "duration": 134,
    "start_time": "2021-09-24T02:54:52.441Z"
   },
   {
    "duration": 13,
    "start_time": "2021-09-24T02:54:52.577Z"
   },
   {
    "duration": 17,
    "start_time": "2021-09-24T02:54:52.592Z"
   },
   {
    "duration": 76,
    "start_time": "2021-09-24T02:54:52.613Z"
   },
   {
    "duration": 10,
    "start_time": "2021-09-24T02:54:52.691Z"
   },
   {
    "duration": 80,
    "start_time": "2021-09-24T02:54:52.703Z"
   },
   {
    "duration": 19,
    "start_time": "2021-09-24T02:54:52.786Z"
   },
   {
    "duration": 14,
    "start_time": "2021-09-24T02:54:52.807Z"
   },
   {
    "duration": 56,
    "start_time": "2021-09-24T02:54:52.823Z"
   },
   {
    "duration": 13,
    "start_time": "2021-09-24T02:54:52.881Z"
   },
   {
    "duration": 121,
    "start_time": "2021-09-24T02:54:52.897Z"
   },
   {
    "duration": 60,
    "start_time": "2021-09-24T02:54:53.021Z"
   },
   {
    "duration": 357,
    "start_time": "2021-09-24T02:54:53.085Z"
   },
   {
    "duration": 36,
    "start_time": "2021-09-24T02:54:53.444Z"
   },
   {
    "duration": 11,
    "start_time": "2021-09-24T02:54:53.483Z"
   },
   {
    "duration": 65,
    "start_time": "2021-09-24T02:54:53.497Z"
   },
   {
    "duration": 275,
    "start_time": "2021-09-24T02:54:53.565Z"
   },
   {
    "duration": 48,
    "start_time": "2021-09-24T02:54:53.844Z"
   },
   {
    "duration": 9,
    "start_time": "2021-09-24T02:54:53.895Z"
   },
   {
    "duration": 55,
    "start_time": "2021-09-24T02:54:53.907Z"
   },
   {
    "duration": 7687,
    "start_time": "2021-09-24T02:54:53.965Z"
   },
   {
    "duration": 15,
    "start_time": "2021-09-24T03:24:23.881Z"
   },
   {
    "duration": 1251,
    "start_time": "2021-09-24T03:24:30.773Z"
   },
   {
    "duration": 3,
    "start_time": "2021-09-24T03:24:32.026Z"
   },
   {
    "duration": 391,
    "start_time": "2021-09-24T03:24:32.032Z"
   },
   {
    "duration": 16,
    "start_time": "2021-09-24T03:24:32.426Z"
   },
   {
    "duration": 119,
    "start_time": "2021-09-24T03:24:32.445Z"
   },
   {
    "duration": 34,
    "start_time": "2021-09-24T03:24:32.567Z"
   },
   {
    "duration": 158,
    "start_time": "2021-09-24T03:24:32.604Z"
   },
   {
    "duration": 12,
    "start_time": "2021-09-24T03:24:32.766Z"
   },
   {
    "duration": 147,
    "start_time": "2021-09-24T03:24:32.781Z"
   },
   {
    "duration": 42,
    "start_time": "2021-09-24T03:24:32.931Z"
   },
   {
    "duration": 111,
    "start_time": "2021-09-24T03:24:32.976Z"
   },
   {
    "duration": 14,
    "start_time": "2021-09-24T03:24:33.089Z"
   },
   {
    "duration": 23,
    "start_time": "2021-09-24T03:24:33.105Z"
   },
   {
    "duration": 69,
    "start_time": "2021-09-24T03:24:33.130Z"
   },
   {
    "duration": 11,
    "start_time": "2021-09-24T03:24:33.201Z"
   },
   {
    "duration": 93,
    "start_time": "2021-09-24T03:24:33.214Z"
   },
   {
    "duration": 21,
    "start_time": "2021-09-24T03:24:33.310Z"
   },
   {
    "duration": 16,
    "start_time": "2021-09-24T03:24:33.361Z"
   },
   {
    "duration": 34,
    "start_time": "2021-09-24T03:24:33.380Z"
   },
   {
    "duration": 18,
    "start_time": "2021-09-24T03:24:33.417Z"
   },
   {
    "duration": 109,
    "start_time": "2021-09-24T03:24:33.463Z"
   },
   {
    "duration": 52,
    "start_time": "2021-09-24T03:24:33.575Z"
   },
   {
    "duration": 404,
    "start_time": "2021-09-24T03:24:33.631Z"
   },
   {
    "duration": 39,
    "start_time": "2021-09-24T03:24:34.038Z"
   },
   {
    "duration": 12,
    "start_time": "2021-09-24T03:24:34.080Z"
   },
   {
    "duration": 41,
    "start_time": "2021-09-24T03:24:34.095Z"
   },
   {
    "duration": 34,
    "start_time": "2021-09-24T03:24:34.162Z"
   },
   {
    "duration": 298,
    "start_time": "2021-09-24T03:24:34.198Z"
   },
   {
    "duration": 32,
    "start_time": "2021-09-24T03:24:34.499Z"
   },
   {
    "duration": 31,
    "start_time": "2021-09-24T03:24:34.533Z"
   },
   {
    "duration": 22,
    "start_time": "2021-09-24T03:24:34.567Z"
   },
   {
    "duration": 7542,
    "start_time": "2021-09-24T03:24:34.591Z"
   },
   {
    "duration": 10,
    "start_time": "2021-09-24T03:25:36.759Z"
   },
   {
    "duration": 414,
    "start_time": "2021-09-24T03:27:18.199Z"
   },
   {
    "duration": 11,
    "start_time": "2021-09-24T03:27:28.708Z"
   },
   {
    "duration": 11,
    "start_time": "2021-09-24T03:27:45.312Z"
   },
   {
    "duration": 11,
    "start_time": "2021-09-24T03:27:57.049Z"
   },
   {
    "duration": 10,
    "start_time": "2021-09-24T03:28:25.394Z"
   },
   {
    "duration": 10,
    "start_time": "2021-09-24T03:29:56.207Z"
   },
   {
    "duration": 12,
    "start_time": "2021-09-24T03:31:44.877Z"
   },
   {
    "duration": 11,
    "start_time": "2021-09-24T03:31:59.826Z"
   },
   {
    "duration": 370,
    "start_time": "2021-09-24T03:36:12.265Z"
   },
   {
    "duration": 152,
    "start_time": "2021-09-24T03:36:30.850Z"
   },
   {
    "duration": 165,
    "start_time": "2021-09-24T03:39:09.655Z"
   },
   {
    "duration": 153,
    "start_time": "2021-09-24T03:39:24.831Z"
   },
   {
    "duration": 148,
    "start_time": "2021-09-24T03:39:48.980Z"
   },
   {
    "duration": 164,
    "start_time": "2021-09-24T03:40:01.302Z"
   },
   {
    "duration": 27,
    "start_time": "2021-09-24T03:42:30.233Z"
   },
   {
    "duration": 296,
    "start_time": "2021-09-24T03:47:41.187Z"
   },
   {
    "duration": 25,
    "start_time": "2021-09-24T03:48:19.298Z"
   },
   {
    "duration": 703,
    "start_time": "2021-09-24T03:49:01.077Z"
   },
   {
    "duration": 23,
    "start_time": "2021-09-24T03:49:14.050Z"
   },
   {
    "duration": 883,
    "start_time": "2021-09-24T03:49:35.679Z"
   },
   {
    "duration": 4,
    "start_time": "2021-09-24T03:49:36.565Z"
   },
   {
    "duration": 385,
    "start_time": "2021-09-24T03:49:36.574Z"
   },
   {
    "duration": 18,
    "start_time": "2021-09-24T03:49:36.963Z"
   },
   {
    "duration": 139,
    "start_time": "2021-09-24T03:49:36.984Z"
   },
   {
    "duration": 42,
    "start_time": "2021-09-24T03:49:37.126Z"
   },
   {
    "duration": 147,
    "start_time": "2021-09-24T03:49:37.171Z"
   },
   {
    "duration": 12,
    "start_time": "2021-09-24T03:49:37.322Z"
   },
   {
    "duration": 145,
    "start_time": "2021-09-24T03:49:37.337Z"
   },
   {
    "duration": 30,
    "start_time": "2021-09-24T03:49:37.484Z"
   },
   {
    "duration": 126,
    "start_time": "2021-09-24T03:49:37.516Z"
   },
   {
    "duration": 21,
    "start_time": "2021-09-24T03:49:37.645Z"
   },
   {
    "duration": 16,
    "start_time": "2021-09-24T03:49:37.669Z"
   },
   {
    "duration": 43,
    "start_time": "2021-09-24T03:49:37.687Z"
   },
   {
    "duration": 40,
    "start_time": "2021-09-24T03:49:37.732Z"
   },
   {
    "duration": 56,
    "start_time": "2021-09-24T03:49:37.774Z"
   },
   {
    "duration": 44,
    "start_time": "2021-09-24T03:49:37.832Z"
   },
   {
    "duration": 16,
    "start_time": "2021-09-24T03:49:37.878Z"
   },
   {
    "duration": 22,
    "start_time": "2021-09-24T03:49:37.897Z"
   },
   {
    "duration": 51,
    "start_time": "2021-09-24T03:49:37.921Z"
   },
   {
    "duration": 115,
    "start_time": "2021-09-24T03:49:37.974Z"
   },
   {
    "duration": 48,
    "start_time": "2021-09-24T03:49:38.092Z"
   },
   {
    "duration": 202,
    "start_time": "2021-09-24T03:49:38.165Z"
   },
   {
    "duration": 33,
    "start_time": "2021-09-24T03:49:38.369Z"
   },
   {
    "duration": 12,
    "start_time": "2021-09-24T03:49:38.404Z"
   },
   {
    "duration": 19,
    "start_time": "2021-09-24T03:49:38.418Z"
   },
   {
    "duration": 47,
    "start_time": "2021-09-24T03:49:38.439Z"
   },
   {
    "duration": 181,
    "start_time": "2021-09-24T03:49:38.488Z"
   },
   {
    "duration": 7,
    "start_time": "2021-09-24T03:49:38.672Z"
   },
   {
    "duration": 13,
    "start_time": "2021-09-24T03:49:38.682Z"
   },
   {
    "duration": 70,
    "start_time": "2021-09-24T03:49:38.698Z"
   },
   {
    "duration": 8092,
    "start_time": "2021-09-24T03:49:38.771Z"
   },
   {
    "duration": 31,
    "start_time": "2021-09-24T03:54:18.389Z"
   },
   {
    "duration": 780,
    "start_time": "2021-09-24T03:55:12.510Z"
   },
   {
    "duration": 3,
    "start_time": "2021-09-24T03:55:13.293Z"
   },
   {
    "duration": 379,
    "start_time": "2021-09-24T03:55:13.299Z"
   },
   {
    "duration": 16,
    "start_time": "2021-09-24T03:55:13.681Z"
   },
   {
    "duration": 114,
    "start_time": "2021-09-24T03:55:13.699Z"
   },
   {
    "duration": 33,
    "start_time": "2021-09-24T03:55:13.815Z"
   },
   {
    "duration": 139,
    "start_time": "2021-09-24T03:55:13.862Z"
   },
   {
    "duration": 11,
    "start_time": "2021-09-24T03:55:14.004Z"
   },
   {
    "duration": 152,
    "start_time": "2021-09-24T03:55:14.018Z"
   },
   {
    "duration": 30,
    "start_time": "2021-09-24T03:55:14.172Z"
   },
   {
    "duration": 125,
    "start_time": "2021-09-24T03:55:14.204Z"
   },
   {
    "duration": 14,
    "start_time": "2021-09-24T03:55:14.332Z"
   },
   {
    "duration": 15,
    "start_time": "2021-09-24T03:55:14.362Z"
   },
   {
    "duration": 45,
    "start_time": "2021-09-24T03:55:14.379Z"
   },
   {
    "duration": 11,
    "start_time": "2021-09-24T03:55:14.463Z"
   },
   {
    "duration": 89,
    "start_time": "2021-09-24T03:55:14.477Z"
   },
   {
    "duration": 21,
    "start_time": "2021-09-24T03:55:14.568Z"
   },
   {
    "duration": 15,
    "start_time": "2021-09-24T03:55:14.592Z"
   },
   {
    "duration": 64,
    "start_time": "2021-09-24T03:55:14.610Z"
   },
   {
    "duration": 13,
    "start_time": "2021-09-24T03:55:14.676Z"
   },
   {
    "duration": 118,
    "start_time": "2021-09-24T03:55:14.691Z"
   },
   {
    "duration": 59,
    "start_time": "2021-09-24T03:55:14.811Z"
   },
   {
    "duration": 202,
    "start_time": "2021-09-24T03:55:14.875Z"
   },
   {
    "duration": 35,
    "start_time": "2021-09-24T03:55:15.080Z"
   },
   {
    "duration": 11,
    "start_time": "2021-09-24T03:55:15.118Z"
   },
   {
    "duration": 39,
    "start_time": "2021-09-24T03:55:15.131Z"
   },
   {
    "duration": 389,
    "start_time": "2021-09-24T03:55:15.172Z"
   },
   {
    "duration": -173,
    "start_time": "2021-09-24T03:55:15.738Z"
   },
   {
    "duration": -180,
    "start_time": "2021-09-24T03:55:15.747Z"
   },
   {
    "duration": -181,
    "start_time": "2021-09-24T03:55:15.751Z"
   },
   {
    "duration": -237,
    "start_time": "2021-09-24T03:55:15.809Z"
   },
   {
    "duration": -239,
    "start_time": "2021-09-24T03:55:15.813Z"
   },
   {
    "duration": -238,
    "start_time": "2021-09-24T03:55:15.815Z"
   },
   {
    "duration": 15,
    "start_time": "2021-09-24T03:55:32.205Z"
   },
   {
    "duration": 39,
    "start_time": "2021-09-24T03:57:24.451Z"
   },
   {
    "duration": 37,
    "start_time": "2021-09-24T03:57:51.684Z"
   },
   {
    "duration": 7003,
    "start_time": "2021-09-24T04:02:49.497Z"
   },
   {
    "duration": 109,
    "start_time": "2021-09-24T04:05:34.403Z"
   },
   {
    "duration": 264,
    "start_time": "2021-09-24T04:05:40.315Z"
   },
   {
    "duration": 13,
    "start_time": "2021-09-24T04:06:08.351Z"
   },
   {
    "duration": 6786,
    "start_time": "2021-09-24T04:07:48.995Z"
   },
   {
    "duration": 7887,
    "start_time": "2021-09-24T04:08:08.490Z"
   },
   {
    "duration": 6820,
    "start_time": "2021-09-24T04:09:28.904Z"
   },
   {
    "duration": 851,
    "start_time": "2021-09-24T04:11:28.579Z"
   },
   {
    "duration": 5,
    "start_time": "2021-09-24T04:11:29.432Z"
   },
   {
    "duration": 385,
    "start_time": "2021-09-24T04:11:29.441Z"
   },
   {
    "duration": 19,
    "start_time": "2021-09-24T04:11:29.829Z"
   },
   {
    "duration": 114,
    "start_time": "2021-09-24T04:11:29.851Z"
   },
   {
    "duration": 36,
    "start_time": "2021-09-24T04:11:29.968Z"
   },
   {
    "duration": 163,
    "start_time": "2021-09-24T04:11:30.006Z"
   },
   {
    "duration": 12,
    "start_time": "2021-09-24T04:11:30.173Z"
   },
   {
    "duration": 152,
    "start_time": "2021-09-24T04:11:30.188Z"
   },
   {
    "duration": 38,
    "start_time": "2021-09-24T04:11:30.343Z"
   },
   {
    "duration": 122,
    "start_time": "2021-09-24T04:11:30.383Z"
   },
   {
    "duration": 13,
    "start_time": "2021-09-24T04:11:30.507Z"
   },
   {
    "duration": 77,
    "start_time": "2021-09-24T04:11:30.522Z"
   },
   {
    "duration": 70,
    "start_time": "2021-09-24T04:11:30.601Z"
   },
   {
    "duration": 11,
    "start_time": "2021-09-24T04:11:30.673Z"
   },
   {
    "duration": 94,
    "start_time": "2021-09-24T04:11:30.686Z"
   },
   {
    "duration": 19,
    "start_time": "2021-09-24T04:11:30.782Z"
   },
   {
    "duration": 17,
    "start_time": "2021-09-24T04:11:30.803Z"
   },
   {
    "duration": 55,
    "start_time": "2021-09-24T04:11:30.823Z"
   },
   {
    "duration": 19,
    "start_time": "2021-09-24T04:11:30.880Z"
   },
   {
    "duration": 134,
    "start_time": "2021-09-24T04:11:30.902Z"
   },
   {
    "duration": 57,
    "start_time": "2021-09-24T04:11:31.039Z"
   },
   {
    "duration": 193,
    "start_time": "2021-09-24T04:11:31.100Z"
   },
   {
    "duration": 33,
    "start_time": "2021-09-24T04:11:31.296Z"
   },
   {
    "duration": 31,
    "start_time": "2021-09-24T04:11:31.332Z"
   },
   {
    "duration": 14,
    "start_time": "2021-09-24T04:11:31.365Z"
   },
   {
    "duration": 39,
    "start_time": "2021-09-24T04:11:31.381Z"
   },
   {
    "duration": 8969,
    "start_time": "2021-09-24T04:11:31.423Z"
   },
   {
    "duration": -348,
    "start_time": "2021-09-24T04:11:40.742Z"
   },
   {
    "duration": -351,
    "start_time": "2021-09-24T04:11:40.746Z"
   },
   {
    "duration": -353,
    "start_time": "2021-09-24T04:11:40.750Z"
   },
   {
    "duration": -355,
    "start_time": "2021-09-24T04:11:40.753Z"
   },
   {
    "duration": -355,
    "start_time": "2021-09-24T04:11:40.755Z"
   },
   {
    "duration": -357,
    "start_time": "2021-09-24T04:11:40.758Z"
   },
   {
    "duration": -358,
    "start_time": "2021-09-24T04:11:40.761Z"
   },
   {
    "duration": -359,
    "start_time": "2021-09-24T04:11:40.763Z"
   },
   {
    "duration": 13,
    "start_time": "2021-09-24T04:13:44.593Z"
   },
   {
    "duration": 900,
    "start_time": "2021-09-24T04:19:55.383Z"
   },
   {
    "duration": 3,
    "start_time": "2021-09-24T04:19:56.286Z"
   },
   {
    "duration": 356,
    "start_time": "2021-09-24T04:19:56.292Z"
   },
   {
    "duration": 17,
    "start_time": "2021-09-24T04:19:56.651Z"
   },
   {
    "duration": 121,
    "start_time": "2021-09-24T04:19:56.671Z"
   },
   {
    "duration": 33,
    "start_time": "2021-09-24T04:19:56.794Z"
   },
   {
    "duration": 154,
    "start_time": "2021-09-24T04:19:56.830Z"
   },
   {
    "duration": 12,
    "start_time": "2021-09-24T04:19:56.986Z"
   },
   {
    "duration": 139,
    "start_time": "2021-09-24T04:19:57.003Z"
   },
   {
    "duration": 38,
    "start_time": "2021-09-24T04:19:57.145Z"
   },
   {
    "duration": 122,
    "start_time": "2021-09-24T04:19:57.186Z"
   },
   {
    "duration": 15,
    "start_time": "2021-09-24T04:19:57.311Z"
   },
   {
    "duration": 41,
    "start_time": "2021-09-24T04:19:57.329Z"
   },
   {
    "duration": 51,
    "start_time": "2021-09-24T04:19:57.372Z"
   },
   {
    "duration": 44,
    "start_time": "2021-09-24T04:19:57.426Z"
   },
   {
    "duration": 63,
    "start_time": "2021-09-24T04:19:57.473Z"
   },
   {
    "duration": 37,
    "start_time": "2021-09-24T04:19:57.539Z"
   },
   {
    "duration": 17,
    "start_time": "2021-09-24T04:19:57.579Z"
   },
   {
    "duration": 71,
    "start_time": "2021-09-24T04:19:57.599Z"
   },
   {
    "duration": 13,
    "start_time": "2021-09-24T04:19:57.673Z"
   },
   {
    "duration": 155,
    "start_time": "2021-09-24T04:19:57.689Z"
   },
   {
    "duration": 55,
    "start_time": "2021-09-24T04:19:57.847Z"
   },
   {
    "duration": 167,
    "start_time": "2021-09-24T04:19:57.905Z"
   },
   {
    "duration": 34,
    "start_time": "2021-09-24T04:19:58.074Z"
   },
   {
    "duration": 11,
    "start_time": "2021-09-24T04:19:58.110Z"
   },
   {
    "duration": 39,
    "start_time": "2021-09-24T04:19:58.124Z"
   },
   {
    "duration": 36,
    "start_time": "2021-09-24T04:19:58.168Z"
   },
   {
    "duration": 15,
    "start_time": "2021-09-24T04:19:58.207Z"
   },
   {
    "duration": 944,
    "start_time": "2021-09-24T04:19:58.224Z"
   },
   {
    "duration": -402,
    "start_time": "2021-09-24T04:19:59.573Z"
   },
   {
    "duration": -409,
    "start_time": "2021-09-24T04:19:59.582Z"
   },
   {
    "duration": -411,
    "start_time": "2021-09-24T04:19:59.586Z"
   },
   {
    "duration": -412,
    "start_time": "2021-09-24T04:19:59.589Z"
   },
   {
    "duration": 42,
    "start_time": "2021-09-24T04:20:43.772Z"
   },
   {
    "duration": 6676,
    "start_time": "2021-09-24T04:23:02.787Z"
   },
   {
    "duration": 6338,
    "start_time": "2021-09-24T04:34:53.067Z"
   },
   {
    "duration": 9,
    "start_time": "2021-09-24T04:35:41.855Z"
   },
   {
    "duration": 10,
    "start_time": "2021-09-24T04:36:04.830Z"
   },
   {
    "duration": 6883,
    "start_time": "2021-09-24T04:36:18.093Z"
   },
   {
    "duration": 8626,
    "start_time": "2021-09-24T04:37:58.000Z"
   },
   {
    "duration": 26,
    "start_time": "2021-09-24T04:38:46.930Z"
   },
   {
    "duration": 1273,
    "start_time": "2021-09-24T04:41:25.465Z"
   },
   {
    "duration": 13,
    "start_time": "2021-09-24T04:41:55.407Z"
   },
   {
    "duration": 11,
    "start_time": "2021-09-24T04:42:39.867Z"
   },
   {
    "duration": 5,
    "start_time": "2021-09-24T04:44:51.472Z"
   },
   {
    "duration": 5,
    "start_time": "2021-09-24T04:45:20.715Z"
   },
   {
    "duration": 7,
    "start_time": "2021-09-24T04:47:00.121Z"
   },
   {
    "duration": 82,
    "start_time": "2021-09-24T04:50:55.758Z"
   },
   {
    "duration": 75,
    "start_time": "2021-09-24T04:51:10.731Z"
   },
   {
    "duration": 6,
    "start_time": "2021-09-24T04:51:24.943Z"
   },
   {
    "duration": 261,
    "start_time": "2021-09-24T04:55:47.766Z"
   },
   {
    "duration": 638,
    "start_time": "2021-09-24T04:56:13.658Z"
   },
   {
    "duration": 34,
    "start_time": "2021-09-24T04:56:32.281Z"
   },
   {
    "duration": 7745,
    "start_time": "2021-09-24T05:00:57.603Z"
   },
   {
    "duration": 340,
    "start_time": "2021-09-24T05:01:20.771Z"
   },
   {
    "duration": 459,
    "start_time": "2021-09-24T05:01:38.048Z"
   },
   {
    "duration": 1660,
    "start_time": "2021-09-24T05:07:22.174Z"
   },
   {
    "duration": 587,
    "start_time": "2021-09-24T05:09:20.475Z"
   },
   {
    "duration": 368,
    "start_time": "2021-09-24T05:09:42.352Z"
   },
   {
    "duration": 7761,
    "start_time": "2021-09-24T05:10:22.307Z"
   },
   {
    "duration": 441,
    "start_time": "2021-09-24T05:10:41.572Z"
   },
   {
    "duration": 146,
    "start_time": "2021-09-24T05:11:16.882Z"
   },
   {
    "duration": 1407,
    "start_time": "2021-09-24T05:11:30.545Z"
   },
   {
    "duration": 865,
    "start_time": "2021-09-24T05:11:44.247Z"
   },
   {
    "duration": 482,
    "start_time": "2021-09-24T05:14:45.371Z"
   },
   {
    "duration": 493,
    "start_time": "2021-09-24T05:15:09.543Z"
   },
   {
    "duration": 394,
    "start_time": "2021-09-24T05:15:56.799Z"
   },
   {
    "duration": 9,
    "start_time": "2021-09-24T05:21:12.253Z"
   },
   {
    "duration": 6399,
    "start_time": "2021-09-24T05:21:40.497Z"
   },
   {
    "duration": 294,
    "start_time": "2021-09-24T05:22:17.633Z"
   },
   {
    "duration": 253,
    "start_time": "2021-09-24T05:22:32.154Z"
   },
   {
    "duration": 6453,
    "start_time": "2021-09-24T05:23:49.069Z"
   },
   {
    "duration": 271,
    "start_time": "2021-09-24T05:24:04.227Z"
   },
   {
    "duration": 215,
    "start_time": "2021-09-24T05:25:56.642Z"
   },
   {
    "duration": 885,
    "start_time": "2021-09-24T05:48:38.132Z"
   },
   {
    "duration": 3,
    "start_time": "2021-09-24T05:48:39.020Z"
   },
   {
    "duration": 408,
    "start_time": "2021-09-24T05:48:39.026Z"
   },
   {
    "duration": 17,
    "start_time": "2021-09-24T05:48:39.437Z"
   },
   {
    "duration": 115,
    "start_time": "2021-09-24T05:48:39.457Z"
   },
   {
    "duration": 35,
    "start_time": "2021-09-24T05:48:39.575Z"
   },
   {
    "duration": 159,
    "start_time": "2021-09-24T05:48:39.613Z"
   },
   {
    "duration": 13,
    "start_time": "2021-09-24T05:48:39.776Z"
   },
   {
    "duration": 138,
    "start_time": "2021-09-24T05:48:39.792Z"
   },
   {
    "duration": 41,
    "start_time": "2021-09-24T05:48:39.932Z"
   },
   {
    "duration": 111,
    "start_time": "2021-09-24T05:48:39.975Z"
   },
   {
    "duration": 13,
    "start_time": "2021-09-24T05:48:40.089Z"
   },
   {
    "duration": 15,
    "start_time": "2021-09-24T05:48:40.104Z"
   },
   {
    "duration": 81,
    "start_time": "2021-09-24T05:48:40.122Z"
   },
   {
    "duration": 13,
    "start_time": "2021-09-24T05:48:40.206Z"
   },
   {
    "duration": 91,
    "start_time": "2021-09-24T05:48:40.222Z"
   },
   {
    "duration": 50,
    "start_time": "2021-09-24T05:48:40.315Z"
   },
   {
    "duration": 17,
    "start_time": "2021-09-24T05:48:40.368Z"
   },
   {
    "duration": 25,
    "start_time": "2021-09-24T05:48:40.388Z"
   },
   {
    "duration": 50,
    "start_time": "2021-09-24T05:48:40.416Z"
   },
   {
    "duration": 122,
    "start_time": "2021-09-24T05:48:40.470Z"
   },
   {
    "duration": 44,
    "start_time": "2021-09-24T05:48:40.594Z"
   },
   {
    "duration": 193,
    "start_time": "2021-09-24T05:48:40.643Z"
   },
   {
    "duration": 42,
    "start_time": "2021-09-24T05:48:40.839Z"
   },
   {
    "duration": 12,
    "start_time": "2021-09-24T05:48:40.884Z"
   },
   {
    "duration": 15,
    "start_time": "2021-09-24T05:48:40.899Z"
   },
   {
    "duration": 74,
    "start_time": "2021-09-24T05:48:40.917Z"
   },
   {
    "duration": 89,
    "start_time": "2021-09-24T05:48:40.993Z"
   },
   {
    "duration": -152,
    "start_time": "2021-09-24T05:48:41.236Z"
   },
   {
    "duration": -154,
    "start_time": "2021-09-24T05:48:41.240Z"
   },
   {
    "duration": -156,
    "start_time": "2021-09-24T05:48:41.243Z"
   },
   {
    "duration": -157,
    "start_time": "2021-09-24T05:48:41.246Z"
   },
   {
    "duration": -161,
    "start_time": "2021-09-24T05:48:41.251Z"
   },
   {
    "duration": -165,
    "start_time": "2021-09-24T05:48:41.256Z"
   },
   {
    "duration": -170,
    "start_time": "2021-09-24T05:48:41.263Z"
   },
   {
    "duration": -174,
    "start_time": "2021-09-24T05:48:41.268Z"
   },
   {
    "duration": -175,
    "start_time": "2021-09-24T05:48:41.271Z"
   },
   {
    "duration": -177,
    "start_time": "2021-09-24T05:48:41.274Z"
   },
   {
    "duration": -178,
    "start_time": "2021-09-24T05:48:41.276Z"
   },
   {
    "duration": -179,
    "start_time": "2021-09-24T05:48:41.279Z"
   },
   {
    "duration": -180,
    "start_time": "2021-09-24T05:48:41.281Z"
   },
   {
    "duration": -181,
    "start_time": "2021-09-24T05:48:41.283Z"
   },
   {
    "duration": -191,
    "start_time": "2021-09-24T05:48:41.295Z"
   },
   {
    "duration": -194,
    "start_time": "2021-09-24T05:48:41.299Z"
   },
   {
    "duration": -195,
    "start_time": "2021-09-24T05:48:41.301Z"
   },
   {
    "duration": -255,
    "start_time": "2021-09-24T05:48:41.363Z"
   },
   {
    "duration": 6,
    "start_time": "2021-09-24T05:49:16.670Z"
   },
   {
    "duration": 33,
    "start_time": "2021-09-24T05:49:18.358Z"
   },
   {
    "duration": 304,
    "start_time": "2021-09-24T05:49:28.661Z"
   },
   {
    "duration": 9,
    "start_time": "2021-09-24T05:49:30.563Z"
   },
   {
    "duration": 201,
    "start_time": "2021-09-24T05:50:15.872Z"
   },
   {
    "duration": 129,
    "start_time": "2021-09-24T20:31:21.416Z"
   },
   {
    "duration": 148,
    "start_time": "2021-09-24T20:31:32.879Z"
   },
   {
    "duration": 582,
    "start_time": "2021-09-24T20:31:41.836Z"
   },
   {
    "duration": 909,
    "start_time": "2021-09-24T20:32:01.953Z"
   },
   {
    "duration": 3,
    "start_time": "2021-09-24T20:32:02.865Z"
   },
   {
    "duration": 432,
    "start_time": "2021-09-24T20:32:02.871Z"
   },
   {
    "duration": 20,
    "start_time": "2021-09-24T20:32:03.305Z"
   },
   {
    "duration": 124,
    "start_time": "2021-09-24T20:32:03.327Z"
   },
   {
    "duration": 18,
    "start_time": "2021-09-24T20:32:03.453Z"
   },
   {
    "duration": 14,
    "start_time": "2021-09-24T20:32:03.473Z"
   },
   {
    "duration": 160,
    "start_time": "2021-09-24T20:32:03.491Z"
   },
   {
    "duration": 12,
    "start_time": "2021-09-24T20:32:03.654Z"
   },
   {
    "duration": 147,
    "start_time": "2021-09-24T20:32:03.669Z"
   },
   {
    "duration": 31,
    "start_time": "2021-09-24T20:32:03.819Z"
   },
   {
    "duration": 126,
    "start_time": "2021-09-24T20:32:03.852Z"
   },
   {
    "duration": 36,
    "start_time": "2021-09-24T20:32:03.980Z"
   },
   {
    "duration": 14,
    "start_time": "2021-09-24T20:32:04.018Z"
   },
   {
    "duration": 46,
    "start_time": "2021-09-24T20:32:04.035Z"
   },
   {
    "duration": 41,
    "start_time": "2021-09-24T20:32:04.083Z"
   },
   {
    "duration": 53,
    "start_time": "2021-09-24T20:32:04.127Z"
   },
   {
    "duration": 50,
    "start_time": "2021-09-24T20:32:04.182Z"
   },
   {
    "duration": 14,
    "start_time": "2021-09-24T20:32:04.235Z"
   },
   {
    "duration": 23,
    "start_time": "2021-09-24T20:32:04.252Z"
   },
   {
    "duration": 44,
    "start_time": "2021-09-24T20:32:04.277Z"
   },
   {
    "duration": 116,
    "start_time": "2021-09-24T20:32:04.324Z"
   },
   {
    "duration": 47,
    "start_time": "2021-09-24T20:32:04.445Z"
   },
   {
    "duration": 194,
    "start_time": "2021-09-24T20:32:04.495Z"
   },
   {
    "duration": 47,
    "start_time": "2021-09-24T20:32:04.692Z"
   },
   {
    "duration": 11,
    "start_time": "2021-09-24T20:32:04.742Z"
   },
   {
    "duration": 15,
    "start_time": "2021-09-24T20:32:04.756Z"
   },
   {
    "duration": 66,
    "start_time": "2021-09-24T20:32:04.774Z"
   },
   {
    "duration": 5,
    "start_time": "2021-09-24T20:32:04.843Z"
   },
   {
    "duration": 36,
    "start_time": "2021-09-24T20:32:04.851Z"
   },
   {
    "duration": 301,
    "start_time": "2021-09-24T20:32:04.917Z"
   },
   {
    "duration": 8,
    "start_time": "2021-09-24T20:32:05.221Z"
   },
   {
    "duration": 299,
    "start_time": "2021-09-24T20:32:05.231Z"
   },
   {
    "duration": 221,
    "start_time": "2021-09-24T20:32:05.533Z"
   },
   {
    "duration": 545,
    "start_time": "2021-09-24T20:32:05.757Z"
   },
   {
    "duration": 864,
    "start_time": "2021-09-24T20:32:06.305Z"
   },
   {
    "duration": 1677,
    "start_time": "2021-09-24T20:32:07.171Z"
   },
   {
    "duration": 796,
    "start_time": "2021-09-24T20:32:08.851Z"
   },
   {
    "duration": -218,
    "start_time": "2021-09-24T20:32:09.869Z"
   },
   {
    "duration": -220,
    "start_time": "2021-09-24T20:32:09.873Z"
   },
   {
    "duration": -221,
    "start_time": "2021-09-24T20:32:09.876Z"
   },
   {
    "duration": -222,
    "start_time": "2021-09-24T20:32:09.879Z"
   },
   {
    "duration": -222,
    "start_time": "2021-09-24T20:32:09.881Z"
   },
   {
    "duration": -340,
    "start_time": "2021-09-24T20:32:10.002Z"
   },
   {
    "duration": -341,
    "start_time": "2021-09-24T20:32:10.005Z"
   },
   {
    "duration": -342,
    "start_time": "2021-09-24T20:32:10.008Z"
   },
   {
    "duration": -343,
    "start_time": "2021-09-24T20:32:10.011Z"
   },
   {
    "duration": 132,
    "start_time": "2021-09-24T20:32:51.382Z"
   },
   {
    "duration": 14,
    "start_time": "2021-09-24T20:37:48.695Z"
   },
   {
    "duration": 13,
    "start_time": "2021-09-24T20:40:09.642Z"
   },
   {
    "duration": 14,
    "start_time": "2021-09-24T20:40:25.089Z"
   },
   {
    "duration": 475,
    "start_time": "2021-09-24T20:42:49.611Z"
   },
   {
    "duration": 407,
    "start_time": "2021-09-24T20:43:15.103Z"
   },
   {
    "duration": 13,
    "start_time": "2021-09-24T20:43:35.353Z"
   },
   {
    "duration": 12,
    "start_time": "2021-09-24T20:43:50.407Z"
   },
   {
    "duration": 20,
    "start_time": "2021-09-24T20:46:44.669Z"
   },
   {
    "duration": 11,
    "start_time": "2021-09-24T20:50:13.893Z"
   },
   {
    "duration": 10,
    "start_time": "2021-09-24T20:51:09.137Z"
   },
   {
    "duration": 50,
    "start_time": "2021-09-24T20:58:07.405Z"
   },
   {
    "duration": 14,
    "start_time": "2021-09-24T21:07:07.882Z"
   },
   {
    "duration": 320,
    "start_time": "2021-09-24T21:11:09.074Z"
   },
   {
    "duration": 217,
    "start_time": "2021-09-24T21:11:23.046Z"
   },
   {
    "duration": 222,
    "start_time": "2021-09-24T21:13:09.845Z"
   },
   {
    "duration": 7,
    "start_time": "2021-09-24T21:59:15.594Z"
   },
   {
    "duration": 14177,
    "start_time": "2021-09-24T21:59:36.048Z"
   },
   {
    "duration": 13,
    "start_time": "2021-09-24T22:00:57.403Z"
   },
   {
    "duration": 210,
    "start_time": "2021-09-24T22:04:29.377Z"
   },
   {
    "duration": 107,
    "start_time": "2021-09-24T22:07:02.349Z"
   },
   {
    "duration": 422,
    "start_time": "2021-09-24T22:11:17.585Z"
   },
   {
    "duration": 13,
    "start_time": "2021-09-24T22:11:44.091Z"
   },
   {
    "duration": 47,
    "start_time": "2021-09-24T22:12:22.219Z"
   },
   {
    "duration": 885,
    "start_time": "2021-09-24T22:15:32.845Z"
   },
   {
    "duration": 4,
    "start_time": "2021-09-24T22:15:33.733Z"
   },
   {
    "duration": 410,
    "start_time": "2021-09-24T22:15:33.740Z"
   },
   {
    "duration": 17,
    "start_time": "2021-09-24T22:15:34.153Z"
   },
   {
    "duration": 118,
    "start_time": "2021-09-24T22:15:34.172Z"
   },
   {
    "duration": 36,
    "start_time": "2021-09-24T22:15:34.293Z"
   },
   {
    "duration": 13,
    "start_time": "2021-09-24T22:15:34.333Z"
   },
   {
    "duration": 165,
    "start_time": "2021-09-24T22:15:34.351Z"
   },
   {
    "duration": 12,
    "start_time": "2021-09-24T22:15:34.519Z"
   },
   {
    "duration": 155,
    "start_time": "2021-09-24T22:15:34.534Z"
   },
   {
    "duration": 28,
    "start_time": "2021-09-24T22:15:34.692Z"
   },
   {
    "duration": 11,
    "start_time": "2021-09-24T22:15:34.723Z"
   },
   {
    "duration": 123,
    "start_time": "2021-09-24T22:15:34.736Z"
   },
   {
    "duration": 14,
    "start_time": "2021-09-24T22:15:34.861Z"
   },
   {
    "duration": 45,
    "start_time": "2021-09-24T22:15:34.877Z"
   },
   {
    "duration": 12,
    "start_time": "2021-09-24T22:15:34.925Z"
   },
   {
    "duration": 93,
    "start_time": "2021-09-24T22:15:34.939Z"
   },
   {
    "duration": 16,
    "start_time": "2021-09-24T22:15:35.034Z"
   },
   {
    "duration": 32,
    "start_time": "2021-09-24T22:15:35.053Z"
   },
   {
    "duration": 39,
    "start_time": "2021-09-24T22:15:35.087Z"
   },
   {
    "duration": 118,
    "start_time": "2021-09-24T22:15:35.128Z"
   },
   {
    "duration": 50,
    "start_time": "2021-09-24T22:15:35.248Z"
   },
   {
    "duration": 174,
    "start_time": "2021-09-24T22:15:35.319Z"
   },
   {
    "duration": 52,
    "start_time": "2021-09-24T22:15:35.497Z"
   },
   {
    "duration": 10,
    "start_time": "2021-09-24T22:15:35.552Z"
   },
   {
    "duration": 12,
    "start_time": "2021-09-24T22:15:35.565Z"
   },
   {
    "duration": 62,
    "start_time": "2021-09-24T22:15:35.580Z"
   },
   {
    "duration": 11,
    "start_time": "2021-09-24T22:15:35.644Z"
   },
   {
    "duration": 254,
    "start_time": "2021-09-24T22:15:35.658Z"
   },
   {
    "duration": 132,
    "start_time": "2021-09-24T22:15:35.916Z"
   },
   {
    "duration": -124,
    "start_time": "2021-09-24T22:15:36.174Z"
   },
   {
    "duration": -126,
    "start_time": "2021-09-24T22:15:36.178Z"
   },
   {
    "duration": -129,
    "start_time": "2021-09-24T22:15:36.182Z"
   },
   {
    "duration": -130,
    "start_time": "2021-09-24T22:15:36.185Z"
   },
   {
    "duration": -133,
    "start_time": "2021-09-24T22:15:36.189Z"
   },
   {
    "duration": -137,
    "start_time": "2021-09-24T22:15:36.194Z"
   },
   {
    "duration": -139,
    "start_time": "2021-09-24T22:15:36.198Z"
   },
   {
    "duration": -145,
    "start_time": "2021-09-24T22:15:36.205Z"
   },
   {
    "duration": -146,
    "start_time": "2021-09-24T22:15:36.207Z"
   },
   {
    "duration": -147,
    "start_time": "2021-09-24T22:15:36.210Z"
   },
   {
    "duration": -148,
    "start_time": "2021-09-24T22:15:36.212Z"
   },
   {
    "duration": -150,
    "start_time": "2021-09-24T22:15:36.216Z"
   },
   {
    "duration": -152,
    "start_time": "2021-09-24T22:15:36.219Z"
   },
   {
    "duration": -153,
    "start_time": "2021-09-24T22:15:36.221Z"
   },
   {
    "duration": -154,
    "start_time": "2021-09-24T22:15:36.224Z"
   },
   {
    "duration": -163,
    "start_time": "2021-09-24T22:15:36.234Z"
   },
   {
    "duration": -165,
    "start_time": "2021-09-24T22:15:36.238Z"
   },
   {
    "duration": -167,
    "start_time": "2021-09-24T22:15:36.241Z"
   },
   {
    "duration": -169,
    "start_time": "2021-09-24T22:15:36.244Z"
   },
   {
    "duration": 9,
    "start_time": "2021-09-24T22:27:11.462Z"
   },
   {
    "duration": 11,
    "start_time": "2021-09-24T22:27:35.997Z"
   },
   {
    "duration": 40,
    "start_time": "2021-09-24T22:29:10.036Z"
   },
   {
    "duration": 526,
    "start_time": "2021-09-24T22:29:50.758Z"
   },
   {
    "duration": 38,
    "start_time": "2021-09-24T22:30:07.285Z"
   },
   {
    "duration": 32,
    "start_time": "2021-09-24T22:32:17.868Z"
   },
   {
    "duration": 31,
    "start_time": "2021-09-24T22:33:28.295Z"
   },
   {
    "duration": 267,
    "start_time": "2021-09-24T22:33:38.735Z"
   },
   {
    "duration": 650,
    "start_time": "2021-09-24T22:35:06.741Z"
   },
   {
    "duration": 8,
    "start_time": "2021-09-24T22:35:45.245Z"
   },
   {
    "duration": 31,
    "start_time": "2021-09-24T22:36:51.824Z"
   },
   {
    "duration": 37,
    "start_time": "2021-09-24T22:37:01.587Z"
   },
   {
    "duration": 266,
    "start_time": "2021-09-24T22:41:25.297Z"
   },
   {
    "duration": 314,
    "start_time": "2021-09-24T22:41:33.895Z"
   },
   {
    "duration": 284,
    "start_time": "2021-09-24T22:43:13.886Z"
   },
   {
    "duration": 429,
    "start_time": "2021-09-24T23:00:20.966Z"
   },
   {
    "duration": 870,
    "start_time": "2021-09-24T23:02:08.050Z"
   },
   {
    "duration": 3,
    "start_time": "2021-09-24T23:02:08.923Z"
   },
   {
    "duration": 415,
    "start_time": "2021-09-24T23:02:08.929Z"
   },
   {
    "duration": 22,
    "start_time": "2021-09-24T23:02:09.347Z"
   },
   {
    "duration": 15,
    "start_time": "2021-09-24T23:02:09.372Z"
   },
   {
    "duration": 27,
    "start_time": "2021-09-24T23:02:09.390Z"
   },
   {
    "duration": 135,
    "start_time": "2021-09-24T23:02:09.420Z"
   },
   {
    "duration": 19,
    "start_time": "2021-09-24T23:02:09.559Z"
   },
   {
    "duration": 41,
    "start_time": "2021-09-24T23:02:09.581Z"
   },
   {
    "duration": 140,
    "start_time": "2021-09-24T23:02:09.624Z"
   },
   {
    "duration": 11,
    "start_time": "2021-09-24T23:02:09.767Z"
   },
   {
    "duration": 141,
    "start_time": "2021-09-24T23:02:09.781Z"
   },
   {
    "duration": 15,
    "start_time": "2021-09-24T23:02:09.925Z"
   },
   {
    "duration": 10,
    "start_time": "2021-09-24T23:02:09.943Z"
   },
   {
    "duration": 137,
    "start_time": "2021-09-24T23:02:09.956Z"
   },
   {
    "duration": 24,
    "start_time": "2021-09-24T23:02:10.095Z"
   },
   {
    "duration": 63,
    "start_time": "2021-09-24T23:02:10.121Z"
   },
   {
    "duration": 38,
    "start_time": "2021-09-24T23:02:10.187Z"
   },
   {
    "duration": 24,
    "start_time": "2021-09-24T23:02:10.227Z"
   },
   {
    "duration": 12,
    "start_time": "2021-09-24T23:02:10.254Z"
   },
   {
    "duration": 137,
    "start_time": "2021-09-24T23:02:10.268Z"
   },
   {
    "duration": 49,
    "start_time": "2021-09-24T23:02:10.415Z"
   },
   {
    "duration": 178,
    "start_time": "2021-09-24T23:02:10.471Z"
   },
   {
    "duration": 41,
    "start_time": "2021-09-24T23:02:10.654Z"
   },
   {
    "duration": 10,
    "start_time": "2021-09-24T23:02:10.717Z"
   },
   {
    "duration": 39,
    "start_time": "2021-09-24T23:02:10.729Z"
   },
   {
    "duration": 54,
    "start_time": "2021-09-24T23:02:10.770Z"
   },
   {
    "duration": 501,
    "start_time": "2021-09-24T23:02:10.827Z"
   },
   {
    "duration": 11,
    "start_time": "2021-09-24T23:02:11.331Z"
   },
   {
    "duration": 14,
    "start_time": "2021-09-24T23:02:11.345Z"
   },
   {
    "duration": 70,
    "start_time": "2021-09-24T23:02:11.361Z"
   },
   {
    "duration": 13,
    "start_time": "2021-09-24T23:02:11.433Z"
   },
   {
    "duration": 223,
    "start_time": "2021-09-24T23:02:11.448Z"
   },
   {
    "duration": 132,
    "start_time": "2021-09-24T23:02:11.673Z"
   },
   {
    "duration": -90,
    "start_time": "2021-09-24T23:02:11.897Z"
   },
   {
    "duration": -96,
    "start_time": "2021-09-24T23:02:11.904Z"
   },
   {
    "duration": -97,
    "start_time": "2021-09-24T23:02:11.907Z"
   },
   {
    "duration": -142,
    "start_time": "2021-09-24T23:02:11.953Z"
   },
   {
    "duration": -144,
    "start_time": "2021-09-24T23:02:11.957Z"
   },
   {
    "duration": -148,
    "start_time": "2021-09-24T23:02:11.962Z"
   },
   {
    "duration": -149,
    "start_time": "2021-09-24T23:02:11.965Z"
   },
   {
    "duration": -152,
    "start_time": "2021-09-24T23:02:11.969Z"
   },
   {
    "duration": -154,
    "start_time": "2021-09-24T23:02:11.973Z"
   },
   {
    "duration": -156,
    "start_time": "2021-09-24T23:02:11.976Z"
   },
   {
    "duration": -174,
    "start_time": "2021-09-24T23:02:11.995Z"
   },
   {
    "duration": -179,
    "start_time": "2021-09-24T23:02:12.002Z"
   },
   {
    "duration": -181,
    "start_time": "2021-09-24T23:02:12.005Z"
   },
   {
    "duration": -182,
    "start_time": "2021-09-24T23:02:12.007Z"
   },
   {
    "duration": -183,
    "start_time": "2021-09-24T23:02:12.010Z"
   },
   {
    "duration": -185,
    "start_time": "2021-09-24T23:02:12.013Z"
   },
   {
    "duration": -187,
    "start_time": "2021-09-24T23:02:12.017Z"
   },
   {
    "duration": -192,
    "start_time": "2021-09-24T23:02:12.023Z"
   },
   {
    "duration": -194,
    "start_time": "2021-09-24T23:02:12.026Z"
   },
   {
    "duration": 566,
    "start_time": "2021-09-24T23:03:31.533Z"
   },
   {
    "duration": 1024,
    "start_time": "2021-09-24T23:06:46.583Z"
   },
   {
    "duration": 1032,
    "start_time": "2021-09-24T23:09:38.302Z"
   },
   {
    "duration": 1025,
    "start_time": "2021-09-24T23:10:02.508Z"
   },
   {
    "duration": 1404,
    "start_time": "2021-09-24T23:13:07.080Z"
   },
   {
    "duration": 1241,
    "start_time": "2021-09-24T23:13:30.246Z"
   },
   {
    "duration": 989,
    "start_time": "2021-09-24T23:14:03.515Z"
   },
   {
    "duration": 1542,
    "start_time": "2021-09-24T23:17:31.138Z"
   },
   {
    "duration": 4,
    "start_time": "2021-09-24T23:17:32.683Z"
   },
   {
    "duration": 461,
    "start_time": "2021-09-24T23:17:32.690Z"
   },
   {
    "duration": 19,
    "start_time": "2021-09-24T23:17:33.154Z"
   },
   {
    "duration": 15,
    "start_time": "2021-09-24T23:17:33.175Z"
   },
   {
    "duration": 18,
    "start_time": "2021-09-24T23:17:33.192Z"
   },
   {
    "duration": 113,
    "start_time": "2021-09-24T23:17:33.212Z"
   },
   {
    "duration": 19,
    "start_time": "2021-09-24T23:17:33.328Z"
   },
   {
    "duration": 11,
    "start_time": "2021-09-24T23:17:33.350Z"
   },
   {
    "duration": 156,
    "start_time": "2021-09-24T23:17:33.363Z"
   },
   {
    "duration": 12,
    "start_time": "2021-09-24T23:17:33.522Z"
   },
   {
    "duration": 146,
    "start_time": "2021-09-24T23:17:33.536Z"
   },
   {
    "duration": 35,
    "start_time": "2021-09-24T23:17:33.685Z"
   },
   {
    "duration": 12,
    "start_time": "2021-09-24T23:17:33.722Z"
   },
   {
    "duration": 124,
    "start_time": "2021-09-24T23:17:33.736Z"
   },
   {
    "duration": 11,
    "start_time": "2021-09-24T23:17:33.863Z"
   },
   {
    "duration": 85,
    "start_time": "2021-09-24T23:17:33.877Z"
   },
   {
    "duration": 17,
    "start_time": "2021-09-24T23:17:33.964Z"
   },
   {
    "duration": 51,
    "start_time": "2021-09-24T23:17:33.983Z"
   },
   {
    "duration": 13,
    "start_time": "2021-09-24T23:17:34.036Z"
   },
   {
    "duration": 129,
    "start_time": "2021-09-24T23:17:34.052Z"
   },
   {
    "duration": 53,
    "start_time": "2021-09-24T23:17:34.183Z"
   },
   {
    "duration": 176,
    "start_time": "2021-09-24T23:17:34.241Z"
   },
   {
    "duration": 36,
    "start_time": "2021-09-24T23:17:34.420Z"
   },
   {
    "duration": 11,
    "start_time": "2021-09-24T23:17:34.458Z"
   },
   {
    "duration": 67,
    "start_time": "2021-09-24T23:17:34.472Z"
   },
   {
    "duration": 577,
    "start_time": "2021-09-24T23:17:34.542Z"
   },
   {
    "duration": 32,
    "start_time": "2021-09-24T23:17:35.121Z"
   },
   {
    "duration": 1056,
    "start_time": "2021-09-24T23:17:35.155Z"
   },
   {
    "duration": 7944,
    "start_time": "2021-09-24T23:17:36.216Z"
   },
   {
    "duration": -144,
    "start_time": "2021-09-24T23:17:44.306Z"
   },
   {
    "duration": -251,
    "start_time": "2021-09-24T23:17:44.414Z"
   },
   {
    "duration": -252,
    "start_time": "2021-09-24T23:17:44.417Z"
   },
   {
    "duration": -254,
    "start_time": "2021-09-24T23:17:44.420Z"
   },
   {
    "duration": -255,
    "start_time": "2021-09-24T23:17:44.423Z"
   },
   {
    "duration": -256,
    "start_time": "2021-09-24T23:17:44.425Z"
   },
   {
    "duration": -256,
    "start_time": "2021-09-24T23:17:44.427Z"
   },
   {
    "duration": -258,
    "start_time": "2021-09-24T23:17:44.430Z"
   },
   {
    "duration": -261,
    "start_time": "2021-09-24T23:17:44.434Z"
   },
   {
    "duration": -267,
    "start_time": "2021-09-24T23:17:44.442Z"
   },
   {
    "duration": -271,
    "start_time": "2021-09-24T23:17:44.447Z"
   },
   {
    "duration": -273,
    "start_time": "2021-09-24T23:17:44.450Z"
   },
   {
    "duration": -277,
    "start_time": "2021-09-24T23:17:44.456Z"
   },
   {
    "duration": -287,
    "start_time": "2021-09-24T23:17:44.467Z"
   },
   {
    "duration": -291,
    "start_time": "2021-09-24T23:17:44.472Z"
   },
   {
    "duration": -298,
    "start_time": "2021-09-24T23:17:44.481Z"
   },
   {
    "duration": -302,
    "start_time": "2021-09-24T23:17:44.486Z"
   },
   {
    "duration": -304,
    "start_time": "2021-09-24T23:17:44.489Z"
   },
   {
    "duration": -306,
    "start_time": "2021-09-24T23:17:44.492Z"
   },
   {
    "duration": -280,
    "start_time": "2021-09-24T23:17:44.495Z"
   },
   {
    "duration": -297,
    "start_time": "2021-09-24T23:17:44.514Z"
   },
   {
    "duration": -316,
    "start_time": "2021-09-24T23:17:44.535Z"
   },
   {
    "duration": -318,
    "start_time": "2021-09-24T23:17:44.539Z"
   },
   {
    "duration": -387,
    "start_time": "2021-09-24T23:17:44.610Z"
   },
   {
    "duration": -437,
    "start_time": "2021-09-24T23:17:44.662Z"
   },
   {
    "duration": 7909,
    "start_time": "2021-09-24T23:18:37.416Z"
   },
   {
    "duration": 29,
    "start_time": "2021-09-24T23:20:08.985Z"
   },
   {
    "duration": 30,
    "start_time": "2021-09-24T23:21:29.339Z"
   },
   {
    "duration": 30,
    "start_time": "2021-09-24T23:21:51.807Z"
   },
   {
    "duration": 32,
    "start_time": "2021-09-24T23:22:54.350Z"
   },
   {
    "duration": 801,
    "start_time": "2021-09-24T23:24:19.328Z"
   },
   {
    "duration": 685,
    "start_time": "2021-09-24T23:25:34.972Z"
   },
   {
    "duration": 706,
    "start_time": "2021-09-24T23:26:23.671Z"
   },
   {
    "duration": 669,
    "start_time": "2021-09-24T23:27:01.373Z"
   },
   {
    "duration": 33,
    "start_time": "2021-09-24T23:28:35.567Z"
   },
   {
    "duration": 12,
    "start_time": "2021-09-24T23:29:05.916Z"
   },
   {
    "duration": 1422,
    "start_time": "2021-09-24T23:36:17.959Z"
   },
   {
    "duration": 3,
    "start_time": "2021-09-24T23:36:19.384Z"
   },
   {
    "duration": 446,
    "start_time": "2021-09-24T23:36:19.390Z"
   },
   {
    "duration": 22,
    "start_time": "2021-09-24T23:36:19.839Z"
   },
   {
    "duration": 22,
    "start_time": "2021-09-24T23:36:19.864Z"
   },
   {
    "duration": 32,
    "start_time": "2021-09-24T23:36:19.889Z"
   },
   {
    "duration": 133,
    "start_time": "2021-09-24T23:36:19.924Z"
   },
   {
    "duration": 19,
    "start_time": "2021-09-24T23:36:20.063Z"
   },
   {
    "duration": 32,
    "start_time": "2021-09-24T23:36:20.087Z"
   },
   {
    "duration": 144,
    "start_time": "2021-09-24T23:36:20.121Z"
   },
   {
    "duration": 12,
    "start_time": "2021-09-24T23:36:20.267Z"
   },
   {
    "duration": 154,
    "start_time": "2021-09-24T23:36:20.281Z"
   },
   {
    "duration": 17,
    "start_time": "2021-09-24T23:36:20.437Z"
   },
   {
    "duration": 14,
    "start_time": "2021-09-24T23:36:20.456Z"
   },
   {
    "duration": 129,
    "start_time": "2021-09-24T23:36:20.473Z"
   },
   {
    "duration": 20,
    "start_time": "2021-09-24T23:36:20.605Z"
   },
   {
    "duration": 60,
    "start_time": "2021-09-24T23:36:20.627Z"
   },
   {
    "duration": 40,
    "start_time": "2021-09-24T23:36:20.689Z"
   },
   {
    "duration": 25,
    "start_time": "2021-09-24T23:36:20.732Z"
   },
   {
    "duration": 12,
    "start_time": "2021-09-24T23:36:20.760Z"
   },
   {
    "duration": 131,
    "start_time": "2021-09-24T23:36:20.774Z"
   },
   {
    "duration": 45,
    "start_time": "2021-09-24T23:36:20.915Z"
   },
   {
    "duration": 16,
    "start_time": "2021-09-24T23:36:20.965Z"
   },
   {
    "duration": 189,
    "start_time": "2021-09-24T23:36:20.985Z"
   },
   {
    "duration": 51,
    "start_time": "2021-09-24T23:36:21.176Z"
   },
   {
    "duration": 10,
    "start_time": "2021-09-24T23:36:21.230Z"
   },
   {
    "duration": 569,
    "start_time": "2021-09-24T23:36:21.242Z"
   },
   {
    "duration": -243,
    "start_time": "2021-09-24T23:36:22.056Z"
   },
   {
    "duration": -472,
    "start_time": "2021-09-24T23:36:22.287Z"
   },
   {
    "duration": -486,
    "start_time": "2021-09-24T23:36:22.302Z"
   },
   {
    "duration": -488,
    "start_time": "2021-09-24T23:36:22.305Z"
   },
   {
    "duration": -489,
    "start_time": "2021-09-24T23:36:22.308Z"
   },
   {
    "duration": -490,
    "start_time": "2021-09-24T23:36:22.310Z"
   },
   {
    "duration": -491,
    "start_time": "2021-09-24T23:36:22.313Z"
   },
   {
    "duration": -492,
    "start_time": "2021-09-24T23:36:22.316Z"
   },
   {
    "duration": -500,
    "start_time": "2021-09-24T23:36:22.325Z"
   },
   {
    "duration": -506,
    "start_time": "2021-09-24T23:36:22.332Z"
   },
   {
    "duration": -512,
    "start_time": "2021-09-24T23:36:22.340Z"
   },
   {
    "duration": -519,
    "start_time": "2021-09-24T23:36:22.348Z"
   },
   {
    "duration": -521,
    "start_time": "2021-09-24T23:36:22.351Z"
   },
   {
    "duration": -522,
    "start_time": "2021-09-24T23:36:22.354Z"
   },
   {
    "duration": -524,
    "start_time": "2021-09-24T23:36:22.357Z"
   },
   {
    "duration": -525,
    "start_time": "2021-09-24T23:36:22.359Z"
   },
   {
    "duration": -527,
    "start_time": "2021-09-24T23:36:22.362Z"
   },
   {
    "duration": -528,
    "start_time": "2021-09-24T23:36:22.365Z"
   },
   {
    "duration": -533,
    "start_time": "2021-09-24T23:36:22.371Z"
   },
   {
    "duration": -539,
    "start_time": "2021-09-24T23:36:22.378Z"
   },
   {
    "duration": -543,
    "start_time": "2021-09-24T23:36:22.384Z"
   },
   {
    "duration": -545,
    "start_time": "2021-09-24T23:36:22.387Z"
   },
   {
    "duration": -548,
    "start_time": "2021-09-24T23:36:22.391Z"
   },
   {
    "duration": -550,
    "start_time": "2021-09-24T23:36:22.394Z"
   },
   {
    "duration": -551,
    "start_time": "2021-09-24T23:36:22.397Z"
   },
   {
    "duration": -552,
    "start_time": "2021-09-24T23:36:22.399Z"
   },
   {
    "duration": -564,
    "start_time": "2021-09-24T23:36:22.412Z"
   },
   {
    "duration": -567,
    "start_time": "2021-09-24T23:36:22.416Z"
   },
   {
    "duration": -572,
    "start_time": "2021-09-24T23:36:22.423Z"
   },
   {
    "duration": -578,
    "start_time": "2021-09-24T23:36:22.430Z"
   },
   {
    "duration": 1590,
    "start_time": "2021-09-24T23:37:08.598Z"
   },
   {
    "duration": 3,
    "start_time": "2021-09-24T23:37:10.191Z"
   },
   {
    "duration": 398,
    "start_time": "2021-09-24T23:37:10.197Z"
   },
   {
    "duration": 17,
    "start_time": "2021-09-24T23:37:10.598Z"
   },
   {
    "duration": 14,
    "start_time": "2021-09-24T23:37:10.617Z"
   },
   {
    "duration": 12,
    "start_time": "2021-09-24T23:37:10.633Z"
   },
   {
    "duration": 143,
    "start_time": "2021-09-24T23:37:10.648Z"
   },
   {
    "duration": 34,
    "start_time": "2021-09-24T23:37:10.794Z"
   },
   {
    "duration": 12,
    "start_time": "2021-09-24T23:37:10.831Z"
   },
   {
    "duration": 149,
    "start_time": "2021-09-24T23:37:10.845Z"
   },
   {
    "duration": 22,
    "start_time": "2021-09-24T23:37:10.996Z"
   },
   {
    "duration": 141,
    "start_time": "2021-09-24T23:37:11.020Z"
   },
   {
    "duration": 16,
    "start_time": "2021-09-24T23:37:11.163Z"
   },
   {
    "duration": 10,
    "start_time": "2021-09-24T23:37:11.181Z"
   },
   {
    "duration": 110,
    "start_time": "2021-09-24T23:37:11.216Z"
   },
   {
    "duration": 11,
    "start_time": "2021-09-24T23:37:11.329Z"
   },
   {
    "duration": 91,
    "start_time": "2021-09-24T23:37:11.342Z"
   },
   {
    "duration": 16,
    "start_time": "2021-09-24T23:37:11.436Z"
   },
   {
    "duration": 27,
    "start_time": "2021-09-24T23:37:11.455Z"
   },
   {
    "duration": 41,
    "start_time": "2021-09-24T23:37:11.484Z"
   },
   {
    "duration": 113,
    "start_time": "2021-09-24T23:37:11.528Z"
   },
   {
    "duration": 45,
    "start_time": "2021-09-24T23:37:11.644Z"
   },
   {
    "duration": 38,
    "start_time": "2021-09-24T23:37:11.694Z"
   },
   {
    "duration": 182,
    "start_time": "2021-09-24T23:37:11.735Z"
   },
   {
    "duration": 35,
    "start_time": "2021-09-24T23:37:11.920Z"
   },
   {
    "duration": 12,
    "start_time": "2021-09-24T23:37:11.958Z"
   },
   {
    "duration": 522,
    "start_time": "2021-09-24T23:37:11.973Z"
   },
   {
    "duration": -211,
    "start_time": "2021-09-24T23:37:12.709Z"
   },
   {
    "duration": -215,
    "start_time": "2021-09-24T23:37:12.714Z"
   },
   {
    "duration": -216,
    "start_time": "2021-09-24T23:37:12.717Z"
   },
   {
    "duration": -219,
    "start_time": "2021-09-24T23:37:12.721Z"
   },
   {
    "duration": -220,
    "start_time": "2021-09-24T23:37:12.724Z"
   },
   {
    "duration": -221,
    "start_time": "2021-09-24T23:37:12.726Z"
   },
   {
    "duration": -225,
    "start_time": "2021-09-24T23:37:12.732Z"
   },
   {
    "duration": -232,
    "start_time": "2021-09-24T23:37:12.740Z"
   },
   {
    "duration": -237,
    "start_time": "2021-09-24T23:37:12.747Z"
   },
   {
    "duration": -243,
    "start_time": "2021-09-24T23:37:12.754Z"
   },
   {
    "duration": -250,
    "start_time": "2021-09-24T23:37:12.762Z"
   },
   {
    "duration": -251,
    "start_time": "2021-09-24T23:37:12.765Z"
   },
   {
    "duration": -253,
    "start_time": "2021-09-24T23:37:12.769Z"
   },
   {
    "duration": -253,
    "start_time": "2021-09-24T23:37:12.771Z"
   },
   {
    "duration": -255,
    "start_time": "2021-09-24T23:37:12.774Z"
   },
   {
    "duration": -256,
    "start_time": "2021-09-24T23:37:12.777Z"
   },
   {
    "duration": -357,
    "start_time": "2021-09-24T23:37:12.879Z"
   },
   {
    "duration": -388,
    "start_time": "2021-09-24T23:37:12.911Z"
   },
   {
    "duration": -391,
    "start_time": "2021-09-24T23:37:12.915Z"
   },
   {
    "duration": -392,
    "start_time": "2021-09-24T23:37:12.917Z"
   },
   {
    "duration": -393,
    "start_time": "2021-09-24T23:37:12.920Z"
   },
   {
    "duration": -395,
    "start_time": "2021-09-24T23:37:12.923Z"
   },
   {
    "duration": -397,
    "start_time": "2021-09-24T23:37:12.927Z"
   },
   {
    "duration": -399,
    "start_time": "2021-09-24T23:37:12.930Z"
   },
   {
    "duration": -399,
    "start_time": "2021-09-24T23:37:12.932Z"
   },
   {
    "duration": -400,
    "start_time": "2021-09-24T23:37:12.934Z"
   },
   {
    "duration": -402,
    "start_time": "2021-09-24T23:37:12.937Z"
   },
   {
    "duration": -403,
    "start_time": "2021-09-24T23:37:12.939Z"
   },
   {
    "duration": -404,
    "start_time": "2021-09-24T23:37:12.942Z"
   },
   {
    "duration": 32,
    "start_time": "2021-09-24T23:37:38.373Z"
   },
   {
    "duration": 534,
    "start_time": "2021-09-24T23:37:40.829Z"
   },
   {
    "duration": 14,
    "start_time": "2021-09-24T23:38:01.405Z"
   },
   {
    "duration": 15,
    "start_time": "2021-09-24T23:38:06.557Z"
   },
   {
    "duration": 31,
    "start_time": "2021-09-24T23:39:05.967Z"
   },
   {
    "duration": 13,
    "start_time": "2021-09-24T23:39:45.697Z"
   },
   {
    "duration": 15,
    "start_time": "2021-09-24T23:44:52.948Z"
   },
   {
    "duration": 263,
    "start_time": "2021-09-24T23:47:20.347Z"
   },
   {
    "duration": 405,
    "start_time": "2021-09-24T23:47:31.862Z"
   },
   {
    "duration": 216,
    "start_time": "2021-09-24T23:48:01.703Z"
   },
   {
    "duration": 209,
    "start_time": "2021-09-24T23:48:40.212Z"
   },
   {
    "duration": 204,
    "start_time": "2021-09-24T23:49:31.576Z"
   },
   {
    "duration": 207,
    "start_time": "2021-09-24T23:49:52.583Z"
   },
   {
    "duration": 26,
    "start_time": "2021-09-24T23:51:09.061Z"
   },
   {
    "duration": 19,
    "start_time": "2021-09-24T23:51:53.444Z"
   },
   {
    "duration": 12,
    "start_time": "2021-09-24T23:52:11.195Z"
   },
   {
    "duration": 10,
    "start_time": "2021-09-25T00:11:12.942Z"
   },
   {
    "duration": 12,
    "start_time": "2021-09-25T00:12:46.077Z"
   },
   {
    "duration": 92,
    "start_time": "2021-09-25T00:14:03.365Z"
   },
   {
    "duration": 25,
    "start_time": "2021-09-25T00:14:27.034Z"
   },
   {
    "duration": 31,
    "start_time": "2021-09-25T00:15:36.450Z"
   },
   {
    "duration": 30,
    "start_time": "2021-09-25T00:16:00.113Z"
   },
   {
    "duration": 411,
    "start_time": "2021-09-25T00:22:47.263Z"
   },
   {
    "duration": 493,
    "start_time": "2021-09-25T00:23:32.750Z"
   },
   {
    "duration": 433,
    "start_time": "2021-09-25T00:25:50.949Z"
   },
   {
    "duration": 1503,
    "start_time": "2021-09-25T00:26:48.713Z"
   },
   {
    "duration": 4,
    "start_time": "2021-09-25T00:26:50.219Z"
   },
   {
    "duration": 409,
    "start_time": "2021-09-25T00:26:50.226Z"
   },
   {
    "duration": 17,
    "start_time": "2021-09-25T00:26:50.638Z"
   },
   {
    "duration": 15,
    "start_time": "2021-09-25T00:26:50.657Z"
   },
   {
    "duration": 17,
    "start_time": "2021-09-25T00:26:50.674Z"
   },
   {
    "duration": 134,
    "start_time": "2021-09-25T00:26:50.694Z"
   },
   {
    "duration": 19,
    "start_time": "2021-09-25T00:26:50.832Z"
   },
   {
    "duration": 13,
    "start_time": "2021-09-25T00:26:50.854Z"
   },
   {
    "duration": 164,
    "start_time": "2021-09-25T00:26:50.869Z"
   },
   {
    "duration": 11,
    "start_time": "2021-09-25T00:26:51.036Z"
   },
   {
    "duration": 141,
    "start_time": "2021-09-25T00:26:51.050Z"
   },
   {
    "duration": 36,
    "start_time": "2021-09-25T00:26:51.193Z"
   },
   {
    "duration": 11,
    "start_time": "2021-09-25T00:26:51.231Z"
   },
   {
    "duration": 125,
    "start_time": "2021-09-25T00:26:51.244Z"
   },
   {
    "duration": 10,
    "start_time": "2021-09-25T00:26:51.371Z"
   },
   {
    "duration": 86,
    "start_time": "2021-09-25T00:26:51.383Z"
   },
   {
    "duration": 16,
    "start_time": "2021-09-25T00:26:51.471Z"
   },
   {
    "duration": 25,
    "start_time": "2021-09-25T00:26:51.516Z"
   },
   {
    "duration": 12,
    "start_time": "2021-09-25T00:26:51.543Z"
   },
   {
    "duration": 138,
    "start_time": "2021-09-25T00:26:51.559Z"
   },
   {
    "duration": 52,
    "start_time": "2021-09-25T00:26:51.700Z"
   },
   {
    "duration": 16,
    "start_time": "2021-09-25T00:26:51.760Z"
   },
   {
    "duration": 45,
    "start_time": "2021-09-25T00:26:51.779Z"
   },
   {
    "duration": 170,
    "start_time": "2021-09-25T00:26:51.827Z"
   },
   {
    "duration": 49,
    "start_time": "2021-09-25T00:26:52.000Z"
   },
   {
    "duration": 12,
    "start_time": "2021-09-25T00:26:52.052Z"
   },
   {
    "duration": 64,
    "start_time": "2021-09-25T00:26:52.068Z"
   },
   {
    "duration": 564,
    "start_time": "2021-09-25T00:26:52.135Z"
   },
   {
    "duration": 14,
    "start_time": "2021-09-25T00:26:52.702Z"
   },
   {
    "duration": 19,
    "start_time": "2021-09-25T00:26:52.720Z"
   },
   {
    "duration": 13,
    "start_time": "2021-09-25T00:26:52.742Z"
   },
   {
    "duration": 28,
    "start_time": "2021-09-25T00:26:52.758Z"
   },
   {
    "duration": 36,
    "start_time": "2021-09-25T00:26:52.788Z"
   },
   {
    "duration": 223,
    "start_time": "2021-09-25T00:26:52.826Z"
   },
   {
    "duration": 552,
    "start_time": "2021-09-25T00:26:53.052Z"
   },
   {
    "duration": -131,
    "start_time": "2021-09-25T00:26:53.738Z"
   },
   {
    "duration": -133,
    "start_time": "2021-09-25T00:26:53.741Z"
   },
   {
    "duration": -134,
    "start_time": "2021-09-25T00:26:53.744Z"
   },
   {
    "duration": -136,
    "start_time": "2021-09-25T00:26:53.747Z"
   },
   {
    "duration": -137,
    "start_time": "2021-09-25T00:26:53.750Z"
   },
   {
    "duration": -139,
    "start_time": "2021-09-25T00:26:53.753Z"
   },
   {
    "duration": -139,
    "start_time": "2021-09-25T00:26:53.755Z"
   },
   {
    "duration": -142,
    "start_time": "2021-09-25T00:26:53.759Z"
   },
   {
    "duration": -146,
    "start_time": "2021-09-25T00:26:53.764Z"
   },
   {
    "duration": -149,
    "start_time": "2021-09-25T00:26:53.769Z"
   },
   {
    "duration": -153,
    "start_time": "2021-09-25T00:26:53.774Z"
   },
   {
    "duration": -156,
    "start_time": "2021-09-25T00:26:53.779Z"
   },
   {
    "duration": -158,
    "start_time": "2021-09-25T00:26:53.782Z"
   },
   {
    "duration": -161,
    "start_time": "2021-09-25T00:26:53.786Z"
   },
   {
    "duration": -161,
    "start_time": "2021-09-25T00:26:53.788Z"
   },
   {
    "duration": -163,
    "start_time": "2021-09-25T00:26:53.791Z"
   },
   {
    "duration": -164,
    "start_time": "2021-09-25T00:26:53.794Z"
   },
   {
    "duration": -166,
    "start_time": "2021-09-25T00:26:53.797Z"
   },
   {
    "duration": -168,
    "start_time": "2021-09-25T00:26:53.800Z"
   },
   {
    "duration": -170,
    "start_time": "2021-09-25T00:26:53.803Z"
   },
   {
    "duration": -181,
    "start_time": "2021-09-25T00:26:53.816Z"
   },
   {
    "duration": -184,
    "start_time": "2021-09-25T00:26:53.820Z"
   },
   {
    "duration": 619,
    "start_time": "2021-09-25T00:31:55.472Z"
   },
   {
    "duration": 1403,
    "start_time": "2021-09-25T00:33:38.886Z"
   },
   {
    "duration": -221,
    "start_time": "2021-09-25T00:33:40.513Z"
   },
   {
    "duration": 431,
    "start_time": "2021-09-25T00:34:01.960Z"
   },
   {
    "duration": 450,
    "start_time": "2021-09-25T00:34:31.650Z"
   },
   {
    "duration": 879,
    "start_time": "2021-09-25T00:36:18.721Z"
   },
   {
    "duration": 432,
    "start_time": "2021-09-25T00:36:50.630Z"
   },
   {
    "duration": 449,
    "start_time": "2021-09-25T00:37:52.988Z"
   },
   {
    "duration": 14,
    "start_time": "2021-09-25T00:38:18.837Z"
   },
   {
    "duration": 17,
    "start_time": "2021-09-25T00:38:36.989Z"
   },
   {
    "duration": 12,
    "start_time": "2021-09-25T00:38:50.996Z"
   },
   {
    "duration": 460,
    "start_time": "2021-09-25T00:39:54.641Z"
   },
   {
    "duration": 387,
    "start_time": "2021-09-25T00:40:28.592Z"
   },
   {
    "duration": 14,
    "start_time": "2021-09-25T00:40:55.448Z"
   },
   {
    "duration": 16,
    "start_time": "2021-09-25T00:41:15.651Z"
   },
   {
    "duration": 426,
    "start_time": "2021-09-25T00:41:27.133Z"
   },
   {
    "duration": 443,
    "start_time": "2021-09-25T00:42:43.437Z"
   },
   {
    "duration": 14,
    "start_time": "2021-09-25T00:44:07.577Z"
   },
   {
    "duration": 14,
    "start_time": "2021-09-25T00:44:40.039Z"
   },
   {
    "duration": 7,
    "start_time": "2021-09-25T00:46:12.067Z"
   },
   {
    "duration": 9,
    "start_time": "2021-09-25T00:46:35.047Z"
   },
   {
    "duration": 9,
    "start_time": "2021-09-25T00:47:23.164Z"
   },
   {
    "duration": 12,
    "start_time": "2021-09-25T00:52:15.433Z"
   },
   {
    "duration": 432,
    "start_time": "2021-09-25T00:53:04.587Z"
   },
   {
    "duration": 10,
    "start_time": "2021-09-25T00:53:17.755Z"
   },
   {
    "duration": 9,
    "start_time": "2021-09-25T00:53:30.747Z"
   },
   {
    "duration": 11,
    "start_time": "2021-09-25T00:58:47.164Z"
   },
   {
    "duration": 12,
    "start_time": "2021-09-25T00:59:03.390Z"
   },
   {
    "duration": 11,
    "start_time": "2021-09-25T00:59:37.700Z"
   },
   {
    "duration": 11,
    "start_time": "2021-09-25T01:00:00.023Z"
   },
   {
    "duration": 14,
    "start_time": "2021-09-25T01:02:41.309Z"
   },
   {
    "duration": 1524,
    "start_time": "2021-09-25T01:03:08.978Z"
   },
   {
    "duration": 4,
    "start_time": "2021-09-25T01:03:10.505Z"
   },
   {
    "duration": 394,
    "start_time": "2021-09-25T01:03:10.512Z"
   },
   {
    "duration": 19,
    "start_time": "2021-09-25T01:03:10.909Z"
   },
   {
    "duration": 13,
    "start_time": "2021-09-25T01:03:10.931Z"
   },
   {
    "duration": 15,
    "start_time": "2021-09-25T01:03:10.947Z"
   },
   {
    "duration": 145,
    "start_time": "2021-09-25T01:03:10.965Z"
   },
   {
    "duration": 18,
    "start_time": "2021-09-25T01:03:11.116Z"
   },
   {
    "duration": 10,
    "start_time": "2021-09-25T01:03:11.137Z"
   },
   {
    "duration": 155,
    "start_time": "2021-09-25T01:03:11.149Z"
   },
   {
    "duration": 17,
    "start_time": "2021-09-25T01:03:11.307Z"
   },
   {
    "duration": 143,
    "start_time": "2021-09-25T01:03:11.328Z"
   },
   {
    "duration": 19,
    "start_time": "2021-09-25T01:03:11.474Z"
   },
   {
    "duration": 29,
    "start_time": "2021-09-25T01:03:11.496Z"
   },
   {
    "duration": 128,
    "start_time": "2021-09-25T01:03:11.528Z"
   },
   {
    "duration": 11,
    "start_time": "2021-09-25T01:03:11.659Z"
   },
   {
    "duration": 92,
    "start_time": "2021-09-25T01:03:11.673Z"
   },
   {
    "duration": 48,
    "start_time": "2021-09-25T01:03:11.768Z"
   },
   {
    "duration": 25,
    "start_time": "2021-09-25T01:03:11.819Z"
   },
   {
    "duration": 14,
    "start_time": "2021-09-25T01:03:11.846Z"
   },
   {
    "duration": 132,
    "start_time": "2021-09-25T01:03:11.863Z"
   },
   {
    "duration": 60,
    "start_time": "2021-09-25T01:03:11.998Z"
   },
   {
    "duration": 17,
    "start_time": "2021-09-25T01:03:12.065Z"
   },
   {
    "duration": 41,
    "start_time": "2021-09-25T01:03:12.086Z"
   },
   {
    "duration": 168,
    "start_time": "2021-09-25T01:03:12.130Z"
   },
   {
    "duration": 47,
    "start_time": "2021-09-25T01:03:12.301Z"
   },
   {
    "duration": 11,
    "start_time": "2021-09-25T01:03:12.350Z"
   },
   {
    "duration": 54,
    "start_time": "2021-09-25T01:03:12.363Z"
   },
   {
    "duration": 544,
    "start_time": "2021-09-25T01:03:12.420Z"
   },
   {
    "duration": 3,
    "start_time": "2021-09-25T01:03:12.967Z"
   },
   {
    "duration": 29,
    "start_time": "2021-09-25T01:03:12.972Z"
   },
   {
    "duration": 22,
    "start_time": "2021-09-25T01:03:13.003Z"
   },
   {
    "duration": 29,
    "start_time": "2021-09-25T01:03:13.027Z"
   },
   {
    "duration": 11,
    "start_time": "2021-09-25T01:03:13.059Z"
   },
   {
    "duration": 249,
    "start_time": "2021-09-25T01:03:13.073Z"
   },
   {
    "duration": 14,
    "start_time": "2021-09-25T01:03:13.324Z"
   },
   {
    "duration": 504,
    "start_time": "2021-09-25T01:03:13.341Z"
   },
   {
    "duration": -150,
    "start_time": "2021-09-25T01:03:13.997Z"
   },
   {
    "duration": -152,
    "start_time": "2021-09-25T01:03:14.001Z"
   },
   {
    "duration": -153,
    "start_time": "2021-09-25T01:03:14.003Z"
   },
   {
    "duration": -155,
    "start_time": "2021-09-25T01:03:14.006Z"
   },
   {
    "duration": -159,
    "start_time": "2021-09-25T01:03:14.011Z"
   },
   {
    "duration": -161,
    "start_time": "2021-09-25T01:03:14.015Z"
   },
   {
    "duration": -163,
    "start_time": "2021-09-25T01:03:14.018Z"
   },
   {
    "duration": -164,
    "start_time": "2021-09-25T01:03:14.020Z"
   },
   {
    "duration": -166,
    "start_time": "2021-09-25T01:03:14.023Z"
   },
   {
    "duration": -169,
    "start_time": "2021-09-25T01:03:14.027Z"
   },
   {
    "duration": -169,
    "start_time": "2021-09-25T01:03:14.029Z"
   },
   {
    "duration": -171,
    "start_time": "2021-09-25T01:03:14.032Z"
   },
   {
    "duration": -173,
    "start_time": "2021-09-25T01:03:14.035Z"
   },
   {
    "duration": -174,
    "start_time": "2021-09-25T01:03:14.037Z"
   },
   {
    "duration": -176,
    "start_time": "2021-09-25T01:03:14.040Z"
   },
   {
    "duration": -177,
    "start_time": "2021-09-25T01:03:14.043Z"
   },
   {
    "duration": -179,
    "start_time": "2021-09-25T01:03:14.046Z"
   },
   {
    "duration": -181,
    "start_time": "2021-09-25T01:03:14.049Z"
   },
   {
    "duration": -187,
    "start_time": "2021-09-25T01:03:14.056Z"
   },
   {
    "duration": -304,
    "start_time": "2021-09-25T01:03:14.174Z"
   },
   {
    "duration": -312,
    "start_time": "2021-09-25T01:03:14.184Z"
   },
   {
    "duration": -316,
    "start_time": "2021-09-25T01:03:14.189Z"
   },
   {
    "duration": 213,
    "start_time": "2021-09-25T01:06:21.551Z"
   },
   {
    "duration": 15,
    "start_time": "2021-09-25T01:07:04.566Z"
   },
   {
    "duration": 26,
    "start_time": "2021-09-25T01:07:16.623Z"
   },
   {
    "duration": 400,
    "start_time": "2021-09-25T01:07:29.616Z"
   },
   {
    "duration": 230,
    "start_time": "2021-09-25T01:08:16.086Z"
   },
   {
    "duration": 13,
    "start_time": "2021-09-25T01:09:37.711Z"
   },
   {
    "duration": 11,
    "start_time": "2021-09-25T01:09:41.001Z"
   },
   {
    "duration": 24,
    "start_time": "2021-09-25T01:09:56.002Z"
   },
   {
    "duration": 213,
    "start_time": "2021-09-25T01:10:36.327Z"
   },
   {
    "duration": 221,
    "start_time": "2021-09-25T01:10:41.392Z"
   },
   {
    "duration": 12,
    "start_time": "2021-09-25T01:11:33.572Z"
   },
   {
    "duration": 473,
    "start_time": "2021-09-25T01:12:10.001Z"
   },
   {
    "duration": 1604,
    "start_time": "2021-09-25T01:13:02.187Z"
   },
   {
    "duration": 4,
    "start_time": "2021-09-25T01:13:03.794Z"
   },
   {
    "duration": 428,
    "start_time": "2021-09-25T01:13:03.802Z"
   },
   {
    "duration": 18,
    "start_time": "2021-09-25T01:13:04.233Z"
   },
   {
    "duration": 20,
    "start_time": "2021-09-25T01:13:04.253Z"
   },
   {
    "duration": 28,
    "start_time": "2021-09-25T01:13:04.276Z"
   },
   {
    "duration": 124,
    "start_time": "2021-09-25T01:13:04.307Z"
   },
   {
    "duration": 18,
    "start_time": "2021-09-25T01:13:04.435Z"
   },
   {
    "duration": 12,
    "start_time": "2021-09-25T01:13:04.456Z"
   },
   {
    "duration": 167,
    "start_time": "2021-09-25T01:13:04.471Z"
   },
   {
    "duration": 12,
    "start_time": "2021-09-25T01:13:04.641Z"
   },
   {
    "duration": 163,
    "start_time": "2021-09-25T01:13:04.656Z"
   },
   {
    "duration": 16,
    "start_time": "2021-09-25T01:13:04.821Z"
   },
   {
    "duration": 11,
    "start_time": "2021-09-25T01:13:04.840Z"
   },
   {
    "duration": 141,
    "start_time": "2021-09-25T01:13:04.853Z"
   },
   {
    "duration": 21,
    "start_time": "2021-09-25T01:13:04.996Z"
   },
   {
    "duration": 64,
    "start_time": "2021-09-25T01:13:05.020Z"
   },
   {
    "duration": 44,
    "start_time": "2021-09-25T01:13:05.086Z"
   },
   {
    "duration": 22,
    "start_time": "2021-09-25T01:13:05.133Z"
   },
   {
    "duration": 12,
    "start_time": "2021-09-25T01:13:05.157Z"
   },
   {
    "duration": 131,
    "start_time": "2021-09-25T01:13:05.171Z"
   },
   {
    "duration": 54,
    "start_time": "2021-09-25T01:13:05.304Z"
   },
   {
    "duration": 16,
    "start_time": "2021-09-25T01:13:05.364Z"
   },
   {
    "duration": 40,
    "start_time": "2021-09-25T01:13:05.383Z"
   },
   {
    "duration": 173,
    "start_time": "2021-09-25T01:13:05.426Z"
   },
   {
    "duration": 45,
    "start_time": "2021-09-25T01:13:05.602Z"
   },
   {
    "duration": 10,
    "start_time": "2021-09-25T01:13:05.649Z"
   },
   {
    "duration": 32,
    "start_time": "2021-09-25T01:13:05.661Z"
   },
   {
    "duration": 560,
    "start_time": "2021-09-25T01:13:05.716Z"
   },
   {
    "duration": 3,
    "start_time": "2021-09-25T01:13:06.279Z"
   },
   {
    "duration": 27,
    "start_time": "2021-09-25T01:13:06.284Z"
   },
   {
    "duration": 14,
    "start_time": "2021-09-25T01:13:06.316Z"
   },
   {
    "duration": 32,
    "start_time": "2021-09-25T01:13:06.332Z"
   },
   {
    "duration": 265,
    "start_time": "2021-09-25T01:13:06.367Z"
   },
   {
    "duration": 14,
    "start_time": "2021-09-25T01:13:06.635Z"
   },
   {
    "duration": 539,
    "start_time": "2021-09-25T01:13:06.652Z"
   },
   {
    "duration": -245,
    "start_time": "2021-09-25T01:13:07.438Z"
   },
   {
    "duration": -247,
    "start_time": "2021-09-25T01:13:07.442Z"
   },
   {
    "duration": -249,
    "start_time": "2021-09-25T01:13:07.445Z"
   },
   {
    "duration": -252,
    "start_time": "2021-09-25T01:13:07.449Z"
   },
   {
    "duration": -252,
    "start_time": "2021-09-25T01:13:07.451Z"
   },
   {
    "duration": -518,
    "start_time": "2021-09-25T01:13:07.718Z"
   },
   {
    "duration": -525,
    "start_time": "2021-09-25T01:13:07.726Z"
   },
   {
    "duration": -532,
    "start_time": "2021-09-25T01:13:07.735Z"
   },
   {
    "duration": -540,
    "start_time": "2021-09-25T01:13:07.744Z"
   },
   {
    "duration": -546,
    "start_time": "2021-09-25T01:13:07.752Z"
   },
   {
    "duration": -554,
    "start_time": "2021-09-25T01:13:07.761Z"
   },
   {
    "duration": -563,
    "start_time": "2021-09-25T01:13:07.772Z"
   },
   {
    "duration": -572,
    "start_time": "2021-09-25T01:13:07.782Z"
   },
   {
    "duration": -577,
    "start_time": "2021-09-25T01:13:07.789Z"
   },
   {
    "duration": -580,
    "start_time": "2021-09-25T01:13:07.793Z"
   },
   {
    "duration": -582,
    "start_time": "2021-09-25T01:13:07.797Z"
   },
   {
    "duration": -584,
    "start_time": "2021-09-25T01:13:07.800Z"
   },
   {
    "duration": -589,
    "start_time": "2021-09-25T01:13:07.806Z"
   },
   {
    "duration": -598,
    "start_time": "2021-09-25T01:13:07.816Z"
   },
   {
    "duration": -604,
    "start_time": "2021-09-25T01:13:07.824Z"
   },
   {
    "duration": -612,
    "start_time": "2021-09-25T01:13:07.833Z"
   },
   {
    "duration": -614,
    "start_time": "2021-09-25T01:13:07.836Z"
   },
   {
    "duration": -615,
    "start_time": "2021-09-25T01:13:07.839Z"
   },
   {
    "duration": 1276,
    "start_time": "2021-09-25T01:14:00.594Z"
   },
   {
    "duration": 13,
    "start_time": "2021-09-25T01:14:16.548Z"
   },
   {
    "duration": 28,
    "start_time": "2021-09-25T01:14:57.678Z"
   },
   {
    "duration": 231,
    "start_time": "2021-09-25T01:15:02.115Z"
   },
   {
    "duration": 617,
    "start_time": "2021-09-25T01:15:27.693Z"
   },
   {
    "duration": 16,
    "start_time": "2021-09-25T01:17:50.469Z"
   },
   {
    "duration": 313,
    "start_time": "2021-09-25T01:18:03.253Z"
   },
   {
    "duration": 748,
    "start_time": "2021-09-25T01:26:19.615Z"
   },
   {
    "duration": 12,
    "start_time": "2021-09-25T01:26:56.518Z"
   },
   {
    "duration": 214,
    "start_time": "2021-09-25T01:27:07.816Z"
   },
   {
    "duration": 222,
    "start_time": "2021-09-25T01:27:53.482Z"
   },
   {
    "duration": 12,
    "start_time": "2021-09-25T01:28:47.153Z"
   },
   {
    "duration": 214,
    "start_time": "2021-09-25T01:29:46.042Z"
   },
   {
    "duration": 214,
    "start_time": "2021-09-25T01:30:13.700Z"
   },
   {
    "duration": 211,
    "start_time": "2021-09-25T01:30:47.970Z"
   },
   {
    "duration": 219,
    "start_time": "2021-09-25T01:31:11.159Z"
   },
   {
    "duration": 225,
    "start_time": "2021-09-25T01:31:33.335Z"
   },
   {
    "duration": 11,
    "start_time": "2021-09-25T01:32:38.960Z"
   },
   {
    "duration": 434,
    "start_time": "2021-09-25T01:35:45.318Z"
   },
   {
    "duration": 419,
    "start_time": "2021-09-25T01:37:36.818Z"
   },
   {
    "duration": 12,
    "start_time": "2021-09-25T01:38:03.103Z"
   },
   {
    "duration": 10,
    "start_time": "2021-09-25T01:38:08.972Z"
   },
   {
    "duration": 15,
    "start_time": "2021-09-25T01:40:50.673Z"
   },
   {
    "duration": 340,
    "start_time": "2021-09-25T01:41:22.923Z"
   },
   {
    "duration": 235,
    "start_time": "2021-09-25T01:41:30.100Z"
   },
   {
    "duration": 1449,
    "start_time": "2021-09-25T01:46:48.042Z"
   },
   {
    "duration": 3,
    "start_time": "2021-09-25T01:46:49.494Z"
   },
   {
    "duration": 399,
    "start_time": "2021-09-25T01:46:49.500Z"
   },
   {
    "duration": 20,
    "start_time": "2021-09-25T01:46:49.901Z"
   },
   {
    "duration": 15,
    "start_time": "2021-09-25T01:46:49.924Z"
   },
   {
    "duration": 18,
    "start_time": "2021-09-25T01:46:49.941Z"
   },
   {
    "duration": 146,
    "start_time": "2021-09-25T01:46:49.962Z"
   },
   {
    "duration": 19,
    "start_time": "2021-09-25T01:46:50.115Z"
   },
   {
    "duration": 12,
    "start_time": "2021-09-25T01:46:50.137Z"
   },
   {
    "duration": 170,
    "start_time": "2021-09-25T01:46:50.151Z"
   },
   {
    "duration": 12,
    "start_time": "2021-09-25T01:46:50.323Z"
   },
   {
    "duration": 149,
    "start_time": "2021-09-25T01:46:50.337Z"
   },
   {
    "duration": 28,
    "start_time": "2021-09-25T01:46:50.488Z"
   },
   {
    "duration": 12,
    "start_time": "2021-09-25T01:46:50.519Z"
   },
   {
    "duration": 120,
    "start_time": "2021-09-25T01:46:50.533Z"
   },
   {
    "duration": 10,
    "start_time": "2021-09-25T01:46:50.655Z"
   },
   {
    "duration": 83,
    "start_time": "2021-09-25T01:46:50.667Z"
   },
   {
    "duration": 14,
    "start_time": "2021-09-25T01:46:50.753Z"
   },
   {
    "duration": 52,
    "start_time": "2021-09-25T01:46:50.770Z"
   },
   {
    "duration": 12,
    "start_time": "2021-09-25T01:46:50.824Z"
   },
   {
    "duration": 120,
    "start_time": "2021-09-25T01:46:50.838Z"
   },
   {
    "duration": 57,
    "start_time": "2021-09-25T01:46:50.961Z"
   },
   {
    "duration": 16,
    "start_time": "2021-09-25T01:46:51.024Z"
   },
   {
    "duration": 15,
    "start_time": "2021-09-25T01:46:51.044Z"
   },
   {
    "duration": 175,
    "start_time": "2021-09-25T01:46:51.061Z"
   },
   {
    "duration": 35,
    "start_time": "2021-09-25T01:46:51.239Z"
   },
   {
    "duration": 11,
    "start_time": "2021-09-25T01:46:51.277Z"
   },
   {
    "duration": 52,
    "start_time": "2021-09-25T01:46:51.291Z"
   },
   {
    "duration": 570,
    "start_time": "2021-09-25T01:46:51.346Z"
   },
   {
    "duration": 3,
    "start_time": "2021-09-25T01:46:51.919Z"
   },
   {
    "duration": 15,
    "start_time": "2021-09-25T01:46:51.924Z"
   },
   {
    "duration": 13,
    "start_time": "2021-09-25T01:46:51.942Z"
   },
   {
    "duration": 19,
    "start_time": "2021-09-25T01:46:51.958Z"
   },
   {
    "duration": 235,
    "start_time": "2021-09-25T01:46:52.017Z"
   },
   {
    "duration": 13,
    "start_time": "2021-09-25T01:46:52.255Z"
   },
   {
    "duration": 13,
    "start_time": "2021-09-25T01:46:52.271Z"
   },
   {
    "duration": 43,
    "start_time": "2021-09-25T01:46:52.287Z"
   },
   {
    "duration": 244,
    "start_time": "2021-09-25T01:46:52.332Z"
   },
   {
    "duration": 11,
    "start_time": "2021-09-25T01:46:52.579Z"
   },
   {
    "duration": 226,
    "start_time": "2021-09-25T01:46:52.593Z"
   },
   {
    "duration": 13,
    "start_time": "2021-09-25T01:46:52.821Z"
   },
   {
    "duration": 25,
    "start_time": "2021-09-25T01:46:52.837Z"
   },
   {
    "duration": 19,
    "start_time": "2021-09-25T01:46:52.865Z"
   },
   {
    "duration": 269,
    "start_time": "2021-09-25T01:46:52.887Z"
   },
   {
    "duration": 897,
    "start_time": "2021-09-25T01:46:53.158Z"
   },
   {
    "duration": -202,
    "start_time": "2021-09-25T01:46:54.260Z"
   },
   {
    "duration": -205,
    "start_time": "2021-09-25T01:46:54.264Z"
   },
   {
    "duration": -208,
    "start_time": "2021-09-25T01:46:54.269Z"
   },
   {
    "duration": -210,
    "start_time": "2021-09-25T01:46:54.272Z"
   },
   {
    "duration": -212,
    "start_time": "2021-09-25T01:46:54.276Z"
   },
   {
    "duration": -498,
    "start_time": "2021-09-25T01:46:54.563Z"
   },
   {
    "duration": -508,
    "start_time": "2021-09-25T01:46:54.574Z"
   },
   {
    "duration": -511,
    "start_time": "2021-09-25T01:46:54.578Z"
   },
   {
    "duration": -513,
    "start_time": "2021-09-25T01:46:54.582Z"
   },
   {
    "duration": -515,
    "start_time": "2021-09-25T01:46:54.585Z"
   },
   {
    "duration": -517,
    "start_time": "2021-09-25T01:46:54.588Z"
   },
   {
    "duration": -519,
    "start_time": "2021-09-25T01:46:54.591Z"
   },
   {
    "duration": -522,
    "start_time": "2021-09-25T01:46:54.596Z"
   },
   {
    "duration": -524,
    "start_time": "2021-09-25T01:46:54.599Z"
   },
   {
    "duration": -526,
    "start_time": "2021-09-25T01:46:54.602Z"
   },
   {
    "duration": -527,
    "start_time": "2021-09-25T01:46:54.605Z"
   },
   {
    "duration": -530,
    "start_time": "2021-09-25T01:46:54.609Z"
   },
   {
    "duration": -533,
    "start_time": "2021-09-25T01:46:54.613Z"
   },
   {
    "duration": -535,
    "start_time": "2021-09-25T01:46:54.617Z"
   },
   {
    "duration": -537,
    "start_time": "2021-09-25T01:46:54.620Z"
   },
   {
    "duration": 1418,
    "start_time": "2021-09-25T01:48:53.673Z"
   },
   {
    "duration": 4,
    "start_time": "2021-09-25T01:48:55.094Z"
   },
   {
    "duration": 394,
    "start_time": "2021-09-25T01:48:55.101Z"
   },
   {
    "duration": 18,
    "start_time": "2021-09-25T01:48:55.498Z"
   },
   {
    "duration": 12,
    "start_time": "2021-09-25T01:48:55.520Z"
   },
   {
    "duration": 14,
    "start_time": "2021-09-25T01:48:55.536Z"
   },
   {
    "duration": 142,
    "start_time": "2021-09-25T01:48:55.553Z"
   },
   {
    "duration": 27,
    "start_time": "2021-09-25T01:48:55.698Z"
   },
   {
    "duration": 12,
    "start_time": "2021-09-25T01:48:55.729Z"
   },
   {
    "duration": 156,
    "start_time": "2021-09-25T01:48:55.743Z"
   },
   {
    "duration": 21,
    "start_time": "2021-09-25T01:48:55.901Z"
   },
   {
    "duration": 151,
    "start_time": "2021-09-25T01:48:55.925Z"
   },
   {
    "duration": 18,
    "start_time": "2021-09-25T01:48:56.079Z"
   },
   {
    "duration": 25,
    "start_time": "2021-09-25T01:48:56.099Z"
   },
   {
    "duration": 120,
    "start_time": "2021-09-25T01:48:56.126Z"
   },
   {
    "duration": 11,
    "start_time": "2021-09-25T01:48:56.249Z"
   },
   {
    "duration": 93,
    "start_time": "2021-09-25T01:48:56.263Z"
   },
   {
    "duration": 20,
    "start_time": "2021-09-25T01:48:56.359Z"
   },
   {
    "duration": 53,
    "start_time": "2021-09-25T01:48:56.381Z"
   },
   {
    "duration": 12,
    "start_time": "2021-09-25T01:48:56.436Z"
   },
   {
    "duration": 133,
    "start_time": "2021-09-25T01:48:56.451Z"
   },
   {
    "duration": 58,
    "start_time": "2021-09-25T01:48:56.586Z"
   },
   {
    "duration": 17,
    "start_time": "2021-09-25T01:48:56.650Z"
   },
   {
    "duration": 15,
    "start_time": "2021-09-25T01:48:56.671Z"
   },
   {
    "duration": 156,
    "start_time": "2021-09-25T01:48:56.716Z"
   },
   {
    "duration": 43,
    "start_time": "2021-09-25T01:48:56.874Z"
   },
   {
    "duration": 10,
    "start_time": "2021-09-25T01:48:56.920Z"
   },
   {
    "duration": 32,
    "start_time": "2021-09-25T01:48:56.932Z"
   },
   {
    "duration": 572,
    "start_time": "2021-09-25T01:48:56.967Z"
   },
   {
    "duration": 3,
    "start_time": "2021-09-25T01:48:57.542Z"
   },
   {
    "duration": 15,
    "start_time": "2021-09-25T01:48:57.547Z"
   },
   {
    "duration": 13,
    "start_time": "2021-09-25T01:48:57.565Z"
   },
   {
    "duration": 51,
    "start_time": "2021-09-25T01:48:57.580Z"
   },
   {
    "duration": 236,
    "start_time": "2021-09-25T01:48:57.634Z"
   },
   {
    "duration": 13,
    "start_time": "2021-09-25T01:48:57.873Z"
   },
   {
    "duration": 27,
    "start_time": "2021-09-25T01:48:57.889Z"
   },
   {
    "duration": 16,
    "start_time": "2021-09-25T01:48:57.918Z"
   },
   {
    "duration": 246,
    "start_time": "2021-09-25T01:48:57.936Z"
   },
   {
    "duration": 11,
    "start_time": "2021-09-25T01:48:58.185Z"
   },
   {
    "duration": 234,
    "start_time": "2021-09-25T01:48:58.199Z"
   },
   {
    "duration": 11,
    "start_time": "2021-09-25T01:48:58.436Z"
   },
   {
    "duration": 9,
    "start_time": "2021-09-25T01:48:58.449Z"
   },
   {
    "duration": 55,
    "start_time": "2021-09-25T01:48:58.461Z"
   },
   {
    "duration": 245,
    "start_time": "2021-09-25T01:48:58.518Z"
   },
   {
    "duration": 526,
    "start_time": "2021-09-25T01:48:58.765Z"
   },
   {
    "duration": -254,
    "start_time": "2021-09-25T01:48:59.548Z"
   },
   {
    "duration": -257,
    "start_time": "2021-09-25T01:48:59.553Z"
   },
   {
    "duration": -512,
    "start_time": "2021-09-25T01:48:59.809Z"
   },
   {
    "duration": -515,
    "start_time": "2021-09-25T01:48:59.814Z"
   },
   {
    "duration": -523,
    "start_time": "2021-09-25T01:48:59.823Z"
   },
   {
    "duration": -525,
    "start_time": "2021-09-25T01:48:59.827Z"
   },
   {
    "duration": -537,
    "start_time": "2021-09-25T01:48:59.840Z"
   },
   {
    "duration": -538,
    "start_time": "2021-09-25T01:48:59.843Z"
   },
   {
    "duration": -548,
    "start_time": "2021-09-25T01:48:59.854Z"
   },
   {
    "duration": -550,
    "start_time": "2021-09-25T01:48:59.858Z"
   },
   {
    "duration": -551,
    "start_time": "2021-09-25T01:48:59.861Z"
   },
   {
    "duration": -560,
    "start_time": "2021-09-25T01:48:59.871Z"
   },
   {
    "duration": -561,
    "start_time": "2021-09-25T01:48:59.874Z"
   },
   {
    "duration": -564,
    "start_time": "2021-09-25T01:48:59.878Z"
   },
   {
    "duration": -571,
    "start_time": "2021-09-25T01:48:59.887Z"
   },
   {
    "duration": -574,
    "start_time": "2021-09-25T01:48:59.891Z"
   },
   {
    "duration": -577,
    "start_time": "2021-09-25T01:48:59.895Z"
   },
   {
    "duration": -585,
    "start_time": "2021-09-25T01:48:59.905Z"
   },
   {
    "duration": -587,
    "start_time": "2021-09-25T01:48:59.909Z"
   },
   {
    "duration": -590,
    "start_time": "2021-09-25T01:48:59.913Z"
   },
   {
    "duration": 227,
    "start_time": "2021-09-25T01:50:29.978Z"
   },
   {
    "duration": 304,
    "start_time": "2021-09-25T01:50:52.699Z"
   },
   {
    "duration": 225,
    "start_time": "2021-09-25T01:51:25.930Z"
   },
   {
    "duration": 226,
    "start_time": "2021-09-25T01:51:35.739Z"
   },
   {
    "duration": 226,
    "start_time": "2021-09-25T01:51:43.195Z"
   },
   {
    "duration": 17,
    "start_time": "2021-09-25T01:54:10.275Z"
   },
   {
    "duration": 32,
    "start_time": "2021-09-25T01:54:32.096Z"
   },
   {
    "duration": 416,
    "start_time": "2021-09-25T01:58:40.232Z"
   },
   {
    "duration": 11254,
    "start_time": "2021-09-25T02:28:24.244Z"
   },
   {
    "duration": 8,
    "start_time": "2021-09-25T02:29:50.654Z"
   },
   {
    "duration": 400,
    "start_time": "2021-09-25T02:31:03.905Z"
   },
   {
    "duration": 415,
    "start_time": "2021-09-25T02:32:22.431Z"
   },
   {
    "duration": 7,
    "start_time": "2021-09-25T02:34:26.711Z"
   },
   {
    "duration": 5,
    "start_time": "2021-09-25T02:36:32.111Z"
   },
   {
    "duration": 24,
    "start_time": "2021-09-25T02:42:54.659Z"
   },
   {
    "duration": 24,
    "start_time": "2021-09-25T02:43:05.934Z"
   },
   {
    "duration": 31,
    "start_time": "2021-09-25T02:43:16.436Z"
   },
   {
    "duration": 6,
    "start_time": "2021-09-25T02:46:25.335Z"
   },
   {
    "duration": 23,
    "start_time": "2021-09-25T02:48:23.511Z"
   },
   {
    "duration": 18,
    "start_time": "2021-09-25T02:49:11.341Z"
   },
   {
    "duration": 14,
    "start_time": "2021-09-25T02:49:23.012Z"
   },
   {
    "duration": 397,
    "start_time": "2021-09-25T02:49:57.967Z"
   },
   {
    "duration": 16,
    "start_time": "2021-09-25T02:52:17.946Z"
   },
   {
    "duration": 14,
    "start_time": "2021-09-25T02:53:29.434Z"
   },
   {
    "duration": 9,
    "start_time": "2021-09-25T02:54:24.823Z"
   },
   {
    "duration": 15,
    "start_time": "2021-09-25T02:58:55.312Z"
   },
   {
    "duration": 17,
    "start_time": "2021-09-25T02:59:30.959Z"
   },
   {
    "duration": 14,
    "start_time": "2021-09-25T03:00:12.668Z"
   },
   {
    "duration": 16,
    "start_time": "2021-09-25T03:00:32.938Z"
   },
   {
    "duration": 17,
    "start_time": "2021-09-25T03:00:43.104Z"
   },
   {
    "duration": 15,
    "start_time": "2021-09-25T03:00:52.544Z"
   },
   {
    "duration": 14,
    "start_time": "2021-09-25T03:01:03.054Z"
   },
   {
    "duration": 16,
    "start_time": "2021-09-25T03:01:13.182Z"
   },
   {
    "duration": 27,
    "start_time": "2021-09-25T03:04:27.708Z"
   },
   {
    "duration": 9,
    "start_time": "2021-09-25T03:08:32.664Z"
   },
   {
    "duration": 12,
    "start_time": "2021-09-25T03:09:05.208Z"
   },
   {
    "duration": 11,
    "start_time": "2021-09-25T03:09:19.721Z"
   },
   {
    "duration": 13,
    "start_time": "2021-09-25T03:10:08.761Z"
   },
   {
    "duration": 17,
    "start_time": "2021-09-25T03:10:43.246Z"
   },
   {
    "duration": 7,
    "start_time": "2021-09-25T03:12:23.958Z"
   },
   {
    "duration": 7,
    "start_time": "2021-09-25T03:12:42.111Z"
   },
   {
    "duration": 7,
    "start_time": "2021-09-25T03:14:16.964Z"
   },
   {
    "duration": 393,
    "start_time": "2021-09-25T03:15:10.784Z"
   },
   {
    "duration": 7,
    "start_time": "2021-09-25T03:15:20.061Z"
   },
   {
    "duration": 15,
    "start_time": "2021-09-25T03:24:31.673Z"
   },
   {
    "duration": 9,
    "start_time": "2021-09-25T03:29:34.717Z"
   },
   {
    "duration": 446,
    "start_time": "2021-09-25T03:30:24.759Z"
   },
   {
    "duration": 400,
    "start_time": "2021-09-25T03:30:35.226Z"
   },
   {
    "duration": 5,
    "start_time": "2021-09-25T03:32:02.443Z"
   },
   {
    "duration": 9,
    "start_time": "2021-09-25T03:32:10.115Z"
   },
   {
    "duration": 9,
    "start_time": "2021-09-25T03:32:27.165Z"
   },
   {
    "duration": 10,
    "start_time": "2021-09-25T03:32:40.848Z"
   },
   {
    "duration": 10,
    "start_time": "2021-09-25T03:32:51.320Z"
   },
   {
    "duration": 8,
    "start_time": "2021-09-25T03:33:03.367Z"
   },
   {
    "duration": 8,
    "start_time": "2021-09-25T03:33:26.878Z"
   },
   {
    "duration": 19,
    "start_time": "2021-09-25T03:35:20.836Z"
   },
   {
    "duration": 24,
    "start_time": "2021-09-25T03:35:45.573Z"
   },
   {
    "duration": 25,
    "start_time": "2021-09-25T03:37:21.781Z"
   },
   {
    "duration": 23,
    "start_time": "2021-09-25T03:37:57.903Z"
   },
   {
    "duration": 23,
    "start_time": "2021-09-25T03:38:50.759Z"
   },
   {
    "duration": 20,
    "start_time": "2021-09-25T03:39:33.403Z"
   },
   {
    "duration": -1265,
    "start_time": "2021-09-25T03:43:58.552Z"
   },
   {
    "duration": 13,
    "start_time": "2021-09-25T03:44:09.736Z"
   },
   {
    "duration": 14,
    "start_time": "2021-09-25T03:49:39.601Z"
   },
   {
    "duration": 13,
    "start_time": "2021-09-25T03:49:43.935Z"
   },
   {
    "duration": 11,
    "start_time": "2021-09-25T03:49:49.870Z"
   },
   {
    "duration": 869,
    "start_time": "2021-09-25T03:51:21.573Z"
   },
   {
    "duration": 132,
    "start_time": "2021-09-25T03:51:34.837Z"
   },
   {
    "duration": 134,
    "start_time": "2021-09-25T03:51:48.730Z"
   },
   {
    "duration": 390,
    "start_time": "2021-09-25T04:07:34.759Z"
   },
   {
    "duration": 15,
    "start_time": "2021-09-25T04:07:42.139Z"
   },
   {
    "duration": 29,
    "start_time": "2021-09-25T04:07:57.869Z"
   },
   {
    "duration": 25,
    "start_time": "2021-09-25T04:08:24.144Z"
   },
   {
    "duration": 14,
    "start_time": "2021-09-25T04:24:08.231Z"
   },
   {
    "duration": 25,
    "start_time": "2021-09-25T04:24:19.142Z"
   },
   {
    "duration": 24,
    "start_time": "2021-09-25T04:28:15.784Z"
   },
   {
    "duration": 24,
    "start_time": "2021-09-25T04:29:01.858Z"
   },
   {
    "duration": 13,
    "start_time": "2021-09-25T04:30:30.737Z"
   },
   {
    "duration": 13,
    "start_time": "2021-09-25T04:31:27.853Z"
   },
   {
    "duration": 17,
    "start_time": "2021-09-25T04:31:47.956Z"
   },
   {
    "duration": 18,
    "start_time": "2021-09-25T04:32:04.760Z"
   },
   {
    "duration": 1410,
    "start_time": "2021-09-25T04:35:27.866Z"
   },
   {
    "duration": 4,
    "start_time": "2021-09-25T04:35:29.279Z"
   },
   {
    "duration": 427,
    "start_time": "2021-09-25T04:35:29.285Z"
   },
   {
    "duration": 18,
    "start_time": "2021-09-25T04:35:29.714Z"
   },
   {
    "duration": 17,
    "start_time": "2021-09-25T04:35:29.735Z"
   },
   {
    "duration": 15,
    "start_time": "2021-09-25T04:35:29.755Z"
   },
   {
    "duration": 152,
    "start_time": "2021-09-25T04:35:29.773Z"
   },
   {
    "duration": 20,
    "start_time": "2021-09-25T04:35:29.931Z"
   },
   {
    "duration": 11,
    "start_time": "2021-09-25T04:35:29.954Z"
   },
   {
    "duration": 169,
    "start_time": "2021-09-25T04:35:29.968Z"
   },
   {
    "duration": 11,
    "start_time": "2021-09-25T04:35:30.139Z"
   },
   {
    "duration": 167,
    "start_time": "2021-09-25T04:35:30.152Z"
   },
   {
    "duration": 17,
    "start_time": "2021-09-25T04:35:30.322Z"
   },
   {
    "duration": 22,
    "start_time": "2021-09-25T04:35:30.341Z"
   },
   {
    "duration": 125,
    "start_time": "2021-09-25T04:35:30.365Z"
   },
   {
    "duration": 28,
    "start_time": "2021-09-25T04:35:30.493Z"
   },
   {
    "duration": 83,
    "start_time": "2021-09-25T04:35:30.524Z"
   },
   {
    "duration": 16,
    "start_time": "2021-09-25T04:35:30.609Z"
   },
   {
    "duration": 39,
    "start_time": "2021-09-25T04:35:30.627Z"
   },
   {
    "duration": 17,
    "start_time": "2021-09-25T04:35:30.669Z"
   },
   {
    "duration": 124,
    "start_time": "2021-09-25T04:35:30.689Z"
   },
   {
    "duration": 48,
    "start_time": "2021-09-25T04:35:30.815Z"
   },
   {
    "duration": 17,
    "start_time": "2021-09-25T04:35:30.869Z"
   },
   {
    "duration": 41,
    "start_time": "2021-09-25T04:35:30.889Z"
   },
   {
    "duration": 199,
    "start_time": "2021-09-25T04:35:30.932Z"
   },
   {
    "duration": 38,
    "start_time": "2021-09-25T04:35:31.133Z"
   },
   {
    "duration": 558,
    "start_time": "2021-09-25T04:35:31.174Z"
   },
   {
    "duration": 11,
    "start_time": "2021-09-25T04:35:31.735Z"
   },
   {
    "duration": 24,
    "start_time": "2021-09-25T04:35:31.749Z"
   },
   {
    "duration": 45,
    "start_time": "2021-09-25T04:35:31.775Z"
   },
   {
    "duration": 241,
    "start_time": "2021-09-25T04:35:31.822Z"
   },
   {
    "duration": 12,
    "start_time": "2021-09-25T04:35:32.066Z"
   },
   {
    "duration": 20,
    "start_time": "2021-09-25T04:35:32.081Z"
   },
   {
    "duration": 16,
    "start_time": "2021-09-25T04:35:32.117Z"
   },
   {
    "duration": 241,
    "start_time": "2021-09-25T04:35:32.135Z"
   },
   {
    "duration": 226,
    "start_time": "2021-09-25T04:35:32.378Z"
   },
   {
    "duration": 17,
    "start_time": "2021-09-25T04:35:32.607Z"
   },
   {
    "duration": 11,
    "start_time": "2021-09-25T04:35:32.626Z"
   },
   {
    "duration": 25,
    "start_time": "2021-09-25T04:35:32.639Z"
   },
   {
    "duration": 256,
    "start_time": "2021-09-25T04:35:32.666Z"
   },
   {
    "duration": 16,
    "start_time": "2021-09-25T04:35:32.924Z"
   },
   {
    "duration": 17,
    "start_time": "2021-09-25T04:35:32.942Z"
   },
   {
    "duration": 57,
    "start_time": "2021-09-25T04:35:32.961Z"
   },
   {
    "duration": 17,
    "start_time": "2021-09-25T04:35:33.020Z"
   },
   {
    "duration": 11,
    "start_time": "2021-09-25T04:35:33.040Z"
   },
   {
    "duration": 33,
    "start_time": "2021-09-25T04:35:33.053Z"
   },
   {
    "duration": 23,
    "start_time": "2021-09-25T04:35:33.116Z"
   },
   {
    "duration": 17,
    "start_time": "2021-09-25T04:35:33.141Z"
   },
   {
    "duration": 12,
    "start_time": "2021-09-25T04:35:33.160Z"
   },
   {
    "duration": 43,
    "start_time": "2021-09-25T04:35:33.174Z"
   },
   {
    "duration": 13,
    "start_time": "2021-09-25T04:35:33.220Z"
   },
   {
    "duration": 17,
    "start_time": "2021-09-25T04:35:33.235Z"
   },
   {
    "duration": 16,
    "start_time": "2021-09-25T04:35:33.255Z"
   },
   {
    "duration": 53,
    "start_time": "2021-09-25T04:35:33.273Z"
   },
   {
    "duration": 13,
    "start_time": "2021-09-25T04:35:33.329Z"
   },
   {
    "duration": 16,
    "start_time": "2021-09-25T04:35:33.344Z"
   },
   {
    "duration": 16,
    "start_time": "2021-09-25T04:35:33.363Z"
   },
   {
    "duration": 56,
    "start_time": "2021-09-25T04:35:33.381Z"
   },
   {
    "duration": 1017,
    "start_time": "2021-09-25T04:35:33.439Z"
   },
   {
    "duration": 14,
    "start_time": "2021-09-25T05:28:23.525Z"
   },
   {
    "duration": 17,
    "start_time": "2021-09-25T05:29:00.885Z"
   },
   {
    "duration": 1545,
    "start_time": "2021-09-25T23:02:05.118Z"
   },
   {
    "duration": 4,
    "start_time": "2021-09-25T23:02:06.665Z"
   },
   {
    "duration": 372,
    "start_time": "2021-09-25T23:02:06.671Z"
   },
   {
    "duration": 12,
    "start_time": "2021-09-25T23:02:07.046Z"
   },
   {
    "duration": 13,
    "start_time": "2021-09-25T23:02:07.060Z"
   },
   {
    "duration": 9,
    "start_time": "2021-09-25T23:02:07.075Z"
   },
   {
    "duration": 104,
    "start_time": "2021-09-25T23:02:07.086Z"
   },
   {
    "duration": 14,
    "start_time": "2021-09-25T23:02:07.192Z"
   },
   {
    "duration": 10,
    "start_time": "2021-09-25T23:02:07.208Z"
   },
   {
    "duration": 109,
    "start_time": "2021-09-25T23:02:07.220Z"
   },
   {
    "duration": 21,
    "start_time": "2021-09-25T23:02:07.330Z"
   },
   {
    "duration": 105,
    "start_time": "2021-09-25T23:02:07.352Z"
   },
   {
    "duration": 13,
    "start_time": "2021-09-25T23:02:07.459Z"
   },
   {
    "duration": 7,
    "start_time": "2021-09-25T23:02:07.474Z"
   },
   {
    "duration": 98,
    "start_time": "2021-09-25T23:02:07.483Z"
   },
   {
    "duration": 7,
    "start_time": "2021-09-25T23:02:07.583Z"
   },
   {
    "duration": 59,
    "start_time": "2021-09-25T23:02:07.591Z"
   },
   {
    "duration": 10,
    "start_time": "2021-09-25T23:02:07.652Z"
   },
   {
    "duration": 24,
    "start_time": "2021-09-25T23:02:07.663Z"
   },
   {
    "duration": 9,
    "start_time": "2021-09-25T23:02:07.688Z"
   },
   {
    "duration": 87,
    "start_time": "2021-09-25T23:02:07.699Z"
   },
   {
    "duration": 34,
    "start_time": "2021-09-25T23:02:07.787Z"
   },
   {
    "duration": 28,
    "start_time": "2021-09-25T23:02:07.825Z"
   },
   {
    "duration": 13,
    "start_time": "2021-09-25T23:02:07.855Z"
   },
   {
    "duration": 130,
    "start_time": "2021-09-25T23:02:07.870Z"
   },
   {
    "duration": 27,
    "start_time": "2021-09-25T23:02:08.002Z"
   },
   {
    "duration": 322,
    "start_time": "2021-09-25T23:02:08.045Z"
   },
   {
    "duration": 10,
    "start_time": "2021-09-25T23:02:08.368Z"
   },
   {
    "duration": 26,
    "start_time": "2021-09-25T23:02:08.379Z"
   },
   {
    "duration": 34,
    "start_time": "2021-09-25T23:02:08.407Z"
   },
   {
    "duration": 139,
    "start_time": "2021-09-25T23:02:08.443Z"
   },
   {
    "duration": 9,
    "start_time": "2021-09-25T23:02:08.584Z"
   },
   {
    "duration": 14,
    "start_time": "2021-09-25T23:02:08.594Z"
   },
   {
    "duration": 22,
    "start_time": "2021-09-25T23:02:08.610Z"
   },
   {
    "duration": 153,
    "start_time": "2021-09-25T23:02:08.633Z"
   },
   {
    "duration": 143,
    "start_time": "2021-09-25T23:02:08.788Z"
   },
   {
    "duration": 15,
    "start_time": "2021-09-25T23:02:08.933Z"
   },
   {
    "duration": 9,
    "start_time": "2021-09-25T23:02:08.950Z"
   },
   {
    "duration": 13,
    "start_time": "2021-09-25T23:02:08.961Z"
   },
   {
    "duration": 170,
    "start_time": "2021-09-25T23:02:08.976Z"
   },
   {
    "duration": 11,
    "start_time": "2021-09-25T23:02:09.148Z"
   },
   {
    "duration": 10,
    "start_time": "2021-09-25T23:02:09.160Z"
   },
   {
    "duration": 33,
    "start_time": "2021-09-25T23:02:09.172Z"
   },
   {
    "duration": 19,
    "start_time": "2021-09-25T23:02:09.206Z"
   },
   {
    "duration": 11,
    "start_time": "2021-09-25T23:02:09.227Z"
   },
   {
    "duration": 17,
    "start_time": "2021-09-25T23:02:09.244Z"
   },
   {
    "duration": 13,
    "start_time": "2021-09-25T23:02:09.263Z"
   },
   {
    "duration": 10,
    "start_time": "2021-09-25T23:02:09.278Z"
   },
   {
    "duration": 8,
    "start_time": "2021-09-25T23:02:09.290Z"
   },
   {
    "duration": 9,
    "start_time": "2021-09-25T23:02:09.352Z"
   },
   {
    "duration": 15,
    "start_time": "2021-09-25T23:02:09.363Z"
   },
   {
    "duration": 21,
    "start_time": "2021-09-25T23:02:09.380Z"
   },
   {
    "duration": 15,
    "start_time": "2021-09-25T23:02:09.403Z"
   },
   {
    "duration": 31,
    "start_time": "2021-09-25T23:02:09.420Z"
   },
   {
    "duration": 19,
    "start_time": "2021-09-25T23:02:09.453Z"
   },
   {
    "duration": 37,
    "start_time": "2021-09-25T23:02:09.474Z"
   },
   {
    "duration": 16,
    "start_time": "2021-09-25T23:02:09.513Z"
   },
   {
    "duration": 15,
    "start_time": "2021-09-25T23:02:09.531Z"
   },
   {
    "duration": 16,
    "start_time": "2021-09-25T23:02:09.548Z"
   },
   {
    "duration": 425,
    "start_time": "2021-09-25T23:02:09.566Z"
   },
   {
    "duration": 1153,
    "start_time": "2021-09-25T23:10:21.058Z"
   },
   {
    "duration": 3,
    "start_time": "2021-09-25T23:10:22.213Z"
   },
   {
    "duration": 322,
    "start_time": "2021-09-25T23:10:22.218Z"
   },
   {
    "duration": 16,
    "start_time": "2021-09-25T23:10:22.542Z"
   },
   {
    "duration": 10,
    "start_time": "2021-09-25T23:10:22.560Z"
   },
   {
    "duration": 11,
    "start_time": "2021-09-25T23:10:22.572Z"
   },
   {
    "duration": 114,
    "start_time": "2021-09-25T23:10:22.585Z"
   },
   {
    "duration": 14,
    "start_time": "2021-09-25T23:10:22.701Z"
   },
   {
    "duration": 9,
    "start_time": "2021-09-25T23:10:22.718Z"
   },
   {
    "duration": 121,
    "start_time": "2021-09-25T23:10:22.729Z"
   },
   {
    "duration": 9,
    "start_time": "2021-09-25T23:10:22.858Z"
   },
   {
    "duration": 106,
    "start_time": "2021-09-25T23:10:22.869Z"
   },
   {
    "duration": 13,
    "start_time": "2021-09-25T23:10:22.977Z"
   },
   {
    "duration": 8,
    "start_time": "2021-09-25T23:10:22.992Z"
   },
   {
    "duration": 101,
    "start_time": "2021-09-25T23:10:23.001Z"
   },
   {
    "duration": 7,
    "start_time": "2021-09-25T23:10:23.104Z"
   },
   {
    "duration": 65,
    "start_time": "2021-09-25T23:10:23.112Z"
   },
   {
    "duration": 10,
    "start_time": "2021-09-25T23:10:23.179Z"
   },
   {
    "duration": 15,
    "start_time": "2021-09-25T23:10:23.190Z"
   },
   {
    "duration": 7,
    "start_time": "2021-09-25T23:10:23.207Z"
   },
   {
    "duration": 97,
    "start_time": "2021-09-25T23:10:23.216Z"
   },
   {
    "duration": 49,
    "start_time": "2021-09-25T23:10:23.315Z"
   },
   {
    "duration": 12,
    "start_time": "2021-09-25T23:10:23.366Z"
   },
   {
    "duration": 10,
    "start_time": "2021-09-25T23:10:23.379Z"
   },
   {
    "duration": 143,
    "start_time": "2021-09-25T23:10:23.390Z"
   },
   {
    "duration": 39,
    "start_time": "2021-09-25T23:10:23.535Z"
   },
   {
    "duration": 352,
    "start_time": "2021-09-25T23:10:23.578Z"
   },
   {
    "duration": 15,
    "start_time": "2021-09-25T23:10:23.932Z"
   },
   {
    "duration": 13,
    "start_time": "2021-09-25T23:10:23.949Z"
   },
   {
    "duration": 14,
    "start_time": "2021-09-25T23:10:23.964Z"
   },
   {
    "duration": 168,
    "start_time": "2021-09-25T23:10:23.980Z"
   },
   {
    "duration": 11,
    "start_time": "2021-09-25T23:10:24.150Z"
   },
   {
    "duration": 8,
    "start_time": "2021-09-25T23:10:24.163Z"
   },
   {
    "duration": 11,
    "start_time": "2021-09-25T23:10:24.173Z"
   },
   {
    "duration": 174,
    "start_time": "2021-09-25T23:10:24.186Z"
   },
   {
    "duration": 152,
    "start_time": "2021-09-25T23:10:24.362Z"
   },
   {
    "duration": 10,
    "start_time": "2021-09-25T23:10:24.515Z"
   },
   {
    "duration": 20,
    "start_time": "2021-09-25T23:10:24.527Z"
   },
   {
    "duration": 16,
    "start_time": "2021-09-25T23:10:24.551Z"
   },
   {
    "duration": 167,
    "start_time": "2021-09-25T23:10:24.569Z"
   },
   {
    "duration": 17,
    "start_time": "2021-09-25T23:10:24.738Z"
   },
   {
    "duration": 14,
    "start_time": "2021-09-25T23:10:24.761Z"
   },
   {
    "duration": 19,
    "start_time": "2021-09-25T23:10:24.777Z"
   },
   {
    "duration": 10,
    "start_time": "2021-09-25T23:10:24.798Z"
   },
   {
    "duration": 8,
    "start_time": "2021-09-25T23:10:24.810Z"
   },
   {
    "duration": 42,
    "start_time": "2021-09-25T23:10:24.820Z"
   },
   {
    "duration": 15,
    "start_time": "2021-09-25T23:10:24.864Z"
   },
   {
    "duration": 12,
    "start_time": "2021-09-25T23:10:24.881Z"
   },
   {
    "duration": 9,
    "start_time": "2021-09-25T23:10:24.894Z"
   },
   {
    "duration": 50,
    "start_time": "2021-09-25T23:10:24.905Z"
   },
   {
    "duration": 9,
    "start_time": "2021-09-25T23:10:24.957Z"
   },
   {
    "duration": 17,
    "start_time": "2021-09-25T23:10:24.968Z"
   },
   {
    "duration": 14,
    "start_time": "2021-09-25T23:10:24.987Z"
   },
   {
    "duration": 10,
    "start_time": "2021-09-25T23:10:25.003Z"
   },
   {
    "duration": 42,
    "start_time": "2021-09-25T23:10:25.015Z"
   },
   {
    "duration": 12,
    "start_time": "2021-09-25T23:10:25.059Z"
   },
   {
    "duration": 17,
    "start_time": "2021-09-25T23:10:25.073Z"
   },
   {
    "duration": 6,
    "start_time": "2021-09-25T23:10:25.092Z"
   },
   {
    "duration": 9,
    "start_time": "2021-09-25T23:10:25.100Z"
   },
   {
    "duration": 365,
    "start_time": "2021-09-25T23:10:25.111Z"
   },
   {
    "duration": 9,
    "start_time": "2021-09-25T23:18:06.288Z"
   },
   {
    "duration": 1186,
    "start_time": "2021-09-25T23:18:20.631Z"
   },
   {
    "duration": 2,
    "start_time": "2021-09-25T23:18:21.820Z"
   },
   {
    "duration": 337,
    "start_time": "2021-09-25T23:18:21.824Z"
   },
   {
    "duration": 13,
    "start_time": "2021-09-25T23:18:22.163Z"
   },
   {
    "duration": 11,
    "start_time": "2021-09-25T23:18:22.177Z"
   },
   {
    "duration": 13,
    "start_time": "2021-09-25T23:18:22.190Z"
   },
   {
    "duration": 104,
    "start_time": "2021-09-25T23:18:22.204Z"
   },
   {
    "duration": 16,
    "start_time": "2021-09-25T23:18:22.310Z"
   },
   {
    "duration": 23,
    "start_time": "2021-09-25T23:18:22.328Z"
   },
   {
    "duration": 108,
    "start_time": "2021-09-25T23:18:22.354Z"
   },
   {
    "duration": 8,
    "start_time": "2021-09-25T23:18:22.464Z"
   },
   {
    "duration": 117,
    "start_time": "2021-09-25T23:18:22.474Z"
   },
   {
    "duration": 14,
    "start_time": "2021-09-25T23:18:22.593Z"
   },
   {
    "duration": 43,
    "start_time": "2021-09-25T23:18:22.609Z"
   },
   {
    "duration": 79,
    "start_time": "2021-09-25T23:18:22.654Z"
   },
   {
    "duration": 10,
    "start_time": "2021-09-25T23:18:22.747Z"
   },
   {
    "duration": 46,
    "start_time": "2021-09-25T23:18:22.759Z"
   },
   {
    "duration": 10,
    "start_time": "2021-09-25T23:18:22.807Z"
   },
   {
    "duration": 16,
    "start_time": "2021-09-25T23:18:22.853Z"
   },
   {
    "duration": 8,
    "start_time": "2021-09-25T23:18:22.871Z"
   },
   {
    "duration": 88,
    "start_time": "2021-09-25T23:18:22.880Z"
   },
   {
    "duration": 32,
    "start_time": "2021-09-25T23:18:22.970Z"
   },
   {
    "duration": 12,
    "start_time": "2021-09-25T23:18:23.006Z"
   },
   {
    "duration": 33,
    "start_time": "2021-09-25T23:18:23.020Z"
   },
   {
    "duration": 140,
    "start_time": "2021-09-25T23:18:23.055Z"
   },
   {
    "duration": 28,
    "start_time": "2021-09-25T23:18:23.197Z"
   },
   {
    "duration": 370,
    "start_time": "2021-09-25T23:18:23.226Z"
   },
   {
    "duration": 9,
    "start_time": "2021-09-25T23:18:23.598Z"
   },
   {
    "duration": 10,
    "start_time": "2021-09-25T23:18:23.609Z"
   },
   {
    "duration": 37,
    "start_time": "2021-09-25T23:18:23.621Z"
   },
   {
    "duration": 153,
    "start_time": "2021-09-25T23:18:23.661Z"
   },
   {
    "duration": 10,
    "start_time": "2021-09-25T23:18:23.816Z"
   },
   {
    "duration": 8,
    "start_time": "2021-09-25T23:18:23.827Z"
   },
   {
    "duration": 19,
    "start_time": "2021-09-25T23:18:23.844Z"
   },
   {
    "duration": 156,
    "start_time": "2021-09-25T23:18:23.865Z"
   },
   {
    "duration": 137,
    "start_time": "2021-09-25T23:18:24.023Z"
   },
   {
    "duration": 9,
    "start_time": "2021-09-25T23:18:24.161Z"
   },
   {
    "duration": 12,
    "start_time": "2021-09-25T23:18:24.172Z"
   },
   {
    "duration": 22,
    "start_time": "2021-09-25T23:18:24.186Z"
   },
   {
    "duration": 162,
    "start_time": "2021-09-25T23:18:24.210Z"
   },
   {
    "duration": 11,
    "start_time": "2021-09-25T23:18:24.374Z"
   },
   {
    "duration": 29,
    "start_time": "2021-09-25T23:18:24.386Z"
   },
   {
    "duration": 13,
    "start_time": "2021-09-25T23:18:24.416Z"
   },
   {
    "duration": 6,
    "start_time": "2021-09-25T23:18:24.446Z"
   },
   {
    "duration": 30,
    "start_time": "2021-09-25T23:18:24.454Z"
   },
   {
    "duration": 28,
    "start_time": "2021-09-25T23:18:24.485Z"
   },
   {
    "duration": 12,
    "start_time": "2021-09-25T23:18:24.515Z"
   },
   {
    "duration": 15,
    "start_time": "2021-09-25T23:18:24.529Z"
   },
   {
    "duration": 13,
    "start_time": "2021-09-25T23:18:24.546Z"
   },
   {
    "duration": 10,
    "start_time": "2021-09-25T23:18:24.563Z"
   },
   {
    "duration": 13,
    "start_time": "2021-09-25T23:18:24.574Z"
   },
   {
    "duration": 11,
    "start_time": "2021-09-25T23:18:24.589Z"
   },
   {
    "duration": 43,
    "start_time": "2021-09-25T23:18:24.602Z"
   },
   {
    "duration": 16,
    "start_time": "2021-09-25T23:18:24.647Z"
   },
   {
    "duration": 12,
    "start_time": "2021-09-25T23:18:24.665Z"
   },
   {
    "duration": 9,
    "start_time": "2021-09-25T23:18:24.679Z"
   },
   {
    "duration": 7,
    "start_time": "2021-09-25T23:18:24.690Z"
   },
   {
    "duration": 56,
    "start_time": "2021-09-25T23:18:24.699Z"
   },
   {
    "duration": 447,
    "start_time": "2021-09-25T23:18:24.758Z"
   },
   {
    "duration": 7,
    "start_time": "2021-09-25T23:23:05.399Z"
   },
   {
    "duration": 7,
    "start_time": "2021-09-25T23:24:03.163Z"
   },
   {
    "duration": 9,
    "start_time": "2021-09-25T23:24:30.141Z"
   },
   {
    "duration": 11,
    "start_time": "2021-09-25T23:28:41.161Z"
   },
   {
    "duration": 12,
    "start_time": "2021-09-25T23:34:56.032Z"
   },
   {
    "duration": 8,
    "start_time": "2021-09-25T23:39:13.469Z"
   },
   {
    "duration": 1861,
    "start_time": "2021-09-25T23:49:01.042Z"
   },
   {
    "duration": 3,
    "start_time": "2021-09-25T23:49:02.904Z"
   },
   {
    "duration": 329,
    "start_time": "2021-09-25T23:49:02.909Z"
   },
   {
    "duration": 14,
    "start_time": "2021-09-25T23:49:03.240Z"
   },
   {
    "duration": 12,
    "start_time": "2021-09-25T23:49:03.256Z"
   },
   {
    "duration": 9,
    "start_time": "2021-09-25T23:49:03.270Z"
   },
   {
    "duration": 110,
    "start_time": "2021-09-25T23:49:03.281Z"
   },
   {
    "duration": 14,
    "start_time": "2021-09-25T23:49:03.393Z"
   },
   {
    "duration": 8,
    "start_time": "2021-09-25T23:49:03.409Z"
   },
   {
    "duration": 117,
    "start_time": "2021-09-25T23:49:03.419Z"
   },
   {
    "duration": 19,
    "start_time": "2021-09-25T23:49:03.538Z"
   },
   {
    "duration": 115,
    "start_time": "2021-09-25T23:49:03.559Z"
   },
   {
    "duration": 14,
    "start_time": "2021-09-25T23:49:03.676Z"
   },
   {
    "duration": 9,
    "start_time": "2021-09-25T23:49:03.692Z"
   },
   {
    "duration": 112,
    "start_time": "2021-09-25T23:49:03.703Z"
   },
   {
    "duration": 8,
    "start_time": "2021-09-25T23:49:03.818Z"
   },
   {
    "duration": 65,
    "start_time": "2021-09-25T23:49:03.828Z"
   },
   {
    "duration": 10,
    "start_time": "2021-09-25T23:49:03.894Z"
   },
   {
    "duration": 49,
    "start_time": "2021-09-25T23:49:03.905Z"
   },
   {
    "duration": 9,
    "start_time": "2021-09-25T23:49:03.956Z"
   },
   {
    "duration": 77,
    "start_time": "2021-09-25T23:49:03.967Z"
   },
   {
    "duration": 38,
    "start_time": "2021-09-25T23:49:04.049Z"
   },
   {
    "duration": 12,
    "start_time": "2021-09-25T23:49:04.091Z"
   },
   {
    "duration": 9,
    "start_time": "2021-09-25T23:49:04.105Z"
   },
   {
    "duration": 163,
    "start_time": "2021-09-25T23:49:04.115Z"
   },
   {
    "duration": 29,
    "start_time": "2021-09-25T23:49:04.279Z"
   },
   {
    "duration": 392,
    "start_time": "2021-09-25T23:49:04.309Z"
   },
   {
    "duration": 10,
    "start_time": "2021-09-25T23:49:04.702Z"
   },
   {
    "duration": 11,
    "start_time": "2021-09-25T23:49:04.714Z"
   },
   {
    "duration": 36,
    "start_time": "2021-09-25T23:49:04.726Z"
   },
   {
    "duration": 153,
    "start_time": "2021-09-25T23:49:04.764Z"
   },
   {
    "duration": 10,
    "start_time": "2021-09-25T23:49:04.919Z"
   },
   {
    "duration": 18,
    "start_time": "2021-09-25T23:49:04.944Z"
   },
   {
    "duration": 13,
    "start_time": "2021-09-25T23:49:04.964Z"
   },
   {
    "duration": 167,
    "start_time": "2021-09-25T23:49:04.979Z"
   },
   {
    "duration": 147,
    "start_time": "2021-09-25T23:49:05.148Z"
   },
   {
    "duration": 9,
    "start_time": "2021-09-25T23:49:05.297Z"
   },
   {
    "duration": 7,
    "start_time": "2021-09-25T23:49:05.308Z"
   },
   {
    "duration": 36,
    "start_time": "2021-09-25T23:49:05.317Z"
   },
   {
    "duration": 163,
    "start_time": "2021-09-25T23:49:05.355Z"
   },
   {
    "duration": 9,
    "start_time": "2021-09-25T23:49:05.520Z"
   },
   {
    "duration": 31,
    "start_time": "2021-09-25T23:49:05.531Z"
   },
   {
    "duration": 11,
    "start_time": "2021-09-25T23:49:05.563Z"
   },
   {
    "duration": 7,
    "start_time": "2021-09-25T23:49:05.576Z"
   },
   {
    "duration": 20,
    "start_time": "2021-09-25T23:49:05.585Z"
   },
   {
    "duration": 49,
    "start_time": "2021-09-25T23:49:05.606Z"
   },
   {
    "duration": 13,
    "start_time": "2021-09-25T23:49:05.657Z"
   },
   {
    "duration": 7,
    "start_time": "2021-09-25T23:49:05.672Z"
   },
   {
    "duration": 7,
    "start_time": "2021-09-25T23:49:05.680Z"
   },
   {
    "duration": 6,
    "start_time": "2021-09-25T23:49:05.688Z"
   },
   {
    "duration": 65,
    "start_time": "2021-09-25T23:49:05.696Z"
   },
   {
    "duration": 15,
    "start_time": "2021-09-25T23:49:05.763Z"
   },
   {
    "duration": 13,
    "start_time": "2021-09-25T23:49:05.779Z"
   },
   {
    "duration": 11,
    "start_time": "2021-09-25T23:49:05.794Z"
   },
   {
    "duration": 8,
    "start_time": "2021-09-25T23:49:05.807Z"
   },
   {
    "duration": 42,
    "start_time": "2021-09-25T23:49:05.816Z"
   },
   {
    "duration": 13,
    "start_time": "2021-09-25T23:49:05.860Z"
   },
   {
    "duration": 366,
    "start_time": "2021-09-25T23:49:05.874Z"
   },
   {
    "duration": 1099,
    "start_time": "2021-09-25T23:59:45.799Z"
   },
   {
    "duration": 3,
    "start_time": "2021-09-25T23:59:46.900Z"
   },
   {
    "duration": 320,
    "start_time": "2021-09-25T23:59:46.905Z"
   },
   {
    "duration": 14,
    "start_time": "2021-09-25T23:59:47.227Z"
   },
   {
    "duration": 12,
    "start_time": "2021-09-25T23:59:47.243Z"
   },
   {
    "duration": 9,
    "start_time": "2021-09-25T23:59:47.260Z"
   },
   {
    "duration": 104,
    "start_time": "2021-09-25T23:59:47.270Z"
   },
   {
    "duration": 14,
    "start_time": "2021-09-25T23:59:47.377Z"
   },
   {
    "duration": 9,
    "start_time": "2021-09-25T23:59:47.393Z"
   },
   {
    "duration": 109,
    "start_time": "2021-09-25T23:59:47.403Z"
   },
   {
    "duration": 8,
    "start_time": "2021-09-25T23:59:47.514Z"
   },
   {
    "duration": 109,
    "start_time": "2021-09-25T23:59:47.523Z"
   },
   {
    "duration": 24,
    "start_time": "2021-09-25T23:59:47.633Z"
   },
   {
    "duration": 8,
    "start_time": "2021-09-25T23:59:47.661Z"
   },
   {
    "duration": 96,
    "start_time": "2021-09-25T23:59:47.671Z"
   },
   {
    "duration": 7,
    "start_time": "2021-09-25T23:59:47.769Z"
   },
   {
    "duration": 39,
    "start_time": "2021-09-25T23:59:47.778Z"
   },
   {
    "duration": 37,
    "start_time": "2021-09-25T23:59:47.818Z"
   },
   {
    "duration": 19,
    "start_time": "2021-09-25T23:59:47.857Z"
   },
   {
    "duration": 25,
    "start_time": "2021-09-25T23:59:47.877Z"
   },
   {
    "duration": 82,
    "start_time": "2021-09-25T23:59:47.904Z"
   },
   {
    "duration": 30,
    "start_time": "2021-09-25T23:59:47.988Z"
   },
   {
    "duration": 30,
    "start_time": "2021-09-25T23:59:48.022Z"
   },
   {
    "duration": 11,
    "start_time": "2021-09-25T23:59:48.054Z"
   },
   {
    "duration": 142,
    "start_time": "2021-09-25T23:59:48.067Z"
   },
   {
    "duration": 37,
    "start_time": "2021-09-25T23:59:48.211Z"
   },
   {
    "duration": 328,
    "start_time": "2021-09-25T23:59:48.250Z"
   },
   {
    "duration": 10,
    "start_time": "2021-09-25T23:59:48.579Z"
   },
   {
    "duration": 10,
    "start_time": "2021-09-25T23:59:48.590Z"
   },
   {
    "duration": 14,
    "start_time": "2021-09-25T23:59:48.602Z"
   },
   {
    "duration": 159,
    "start_time": "2021-09-25T23:59:48.618Z"
   },
   {
    "duration": 9,
    "start_time": "2021-09-25T23:59:48.779Z"
   },
   {
    "duration": 7,
    "start_time": "2021-09-25T23:59:48.790Z"
   },
   {
    "duration": 11,
    "start_time": "2021-09-25T23:59:48.798Z"
   },
   {
    "duration": 167,
    "start_time": "2021-09-25T23:59:48.811Z"
   },
   {
    "duration": 140,
    "start_time": "2021-09-25T23:59:48.979Z"
   },
   {
    "duration": 9,
    "start_time": "2021-09-25T23:59:49.120Z"
   },
   {
    "duration": 21,
    "start_time": "2021-09-25T23:59:49.130Z"
   },
   {
    "duration": 12,
    "start_time": "2021-09-25T23:59:49.153Z"
   },
   {
    "duration": 156,
    "start_time": "2021-09-25T23:59:49.167Z"
   },
   {
    "duration": 22,
    "start_time": "2021-09-25T23:59:49.325Z"
   },
   {
    "duration": 23,
    "start_time": "2021-09-25T23:59:49.350Z"
   },
   {
    "duration": 13,
    "start_time": "2021-09-25T23:59:49.374Z"
   },
   {
    "duration": 5,
    "start_time": "2021-09-25T23:59:49.389Z"
   },
   {
    "duration": 19,
    "start_time": "2021-09-25T23:59:49.396Z"
   },
   {
    "duration": 22,
    "start_time": "2021-09-25T23:59:49.448Z"
   },
   {
    "duration": 14,
    "start_time": "2021-09-25T23:59:49.472Z"
   },
   {
    "duration": 9,
    "start_time": "2021-09-25T23:59:49.488Z"
   },
   {
    "duration": 6,
    "start_time": "2021-09-25T23:59:49.498Z"
   },
   {
    "duration": 41,
    "start_time": "2021-09-25T23:59:49.506Z"
   },
   {
    "duration": 19,
    "start_time": "2021-09-25T23:59:49.551Z"
   },
   {
    "duration": 14,
    "start_time": "2021-09-25T23:59:49.572Z"
   },
   {
    "duration": 12,
    "start_time": "2021-09-25T23:59:49.588Z"
   },
   {
    "duration": 48,
    "start_time": "2021-09-25T23:59:49.601Z"
   },
   {
    "duration": 9,
    "start_time": "2021-09-25T23:59:49.655Z"
   },
   {
    "duration": 8,
    "start_time": "2021-09-25T23:59:49.666Z"
   },
   {
    "duration": 9,
    "start_time": "2021-09-25T23:59:49.675Z"
   },
   {
    "duration": 348,
    "start_time": "2021-09-25T23:59:49.685Z"
   },
   {
    "duration": 10,
    "start_time": "2021-09-26T00:08:21.456Z"
   },
   {
    "duration": 64,
    "start_time": "2021-09-26T00:08:54.100Z"
   },
   {
    "duration": 67,
    "start_time": "2021-09-26T00:09:21.890Z"
   },
   {
    "duration": 303,
    "start_time": "2021-09-26T00:11:10.611Z"
   },
   {
    "duration": 71,
    "start_time": "2021-09-26T00:11:40.113Z"
   },
   {
    "duration": 12,
    "start_time": "2021-09-26T00:29:55.160Z"
   },
   {
    "duration": 19,
    "start_time": "2021-09-26T00:30:19.008Z"
   },
   {
    "duration": 259,
    "start_time": "2021-09-26T00:34:07.608Z"
   },
   {
    "duration": 270,
    "start_time": "2021-09-26T00:37:11.611Z"
   },
   {
    "duration": 43,
    "start_time": "2021-09-26T00:37:17.906Z"
   },
   {
    "duration": 38,
    "start_time": "2021-09-26T00:38:40.880Z"
   },
   {
    "duration": 288,
    "start_time": "2021-09-26T00:39:35.301Z"
   },
   {
    "duration": 290,
    "start_time": "2021-09-26T00:41:21.645Z"
   },
   {
    "duration": 290,
    "start_time": "2021-09-26T00:41:38.313Z"
   },
   {
    "duration": 49,
    "start_time": "2021-09-26T00:42:40.991Z"
   },
   {
    "duration": 11,
    "start_time": "2021-09-26T00:47:09.166Z"
   },
   {
    "duration": 269,
    "start_time": "2021-09-26T00:47:44.104Z"
   },
   {
    "duration": 23,
    "start_time": "2021-09-26T00:47:56.809Z"
   },
   {
    "duration": 71,
    "start_time": "2021-09-26T00:49:25.970Z"
   },
   {
    "duration": 91,
    "start_time": "2021-09-26T00:56:14.924Z"
   },
   {
    "duration": 58,
    "start_time": "2021-09-26T01:55:19.954Z"
   },
   {
    "duration": 44,
    "start_time": "2021-09-26T01:59:14.107Z"
   },
   {
    "duration": 11,
    "start_time": "2021-09-26T02:00:01.575Z"
   },
   {
    "duration": 86,
    "start_time": "2021-09-26T02:00:30.024Z"
   },
   {
    "duration": 6,
    "start_time": "2021-09-26T02:01:17.614Z"
   },
   {
    "duration": 6,
    "start_time": "2021-09-26T02:02:13.585Z"
   },
   {
    "duration": 52,
    "start_time": "2021-09-26T02:07:08.527Z"
   },
   {
    "duration": 43,
    "start_time": "2021-09-26T02:07:58.384Z"
   },
   {
    "duration": 122,
    "start_time": "2021-09-26T02:09:27.327Z"
   },
   {
    "duration": 105,
    "start_time": "2021-09-26T02:09:57.775Z"
   },
   {
    "duration": 999,
    "start_time": "2021-09-26T02:10:13.345Z"
   },
   {
    "duration": 47,
    "start_time": "2021-09-26T02:10:50.747Z"
   },
   {
    "duration": 124,
    "start_time": "2021-09-26T02:11:14.534Z"
   },
   {
    "duration": 116,
    "start_time": "2021-09-26T02:12:50.697Z"
   },
   {
    "duration": 370,
    "start_time": "2021-09-26T02:13:21.997Z"
   },
   {
    "duration": 123,
    "start_time": "2021-09-26T02:13:57.177Z"
   },
   {
    "duration": 124,
    "start_time": "2021-09-26T02:14:55.578Z"
   },
   {
    "duration": 10,
    "start_time": "2021-09-26T02:19:28.160Z"
   },
   {
    "duration": 308,
    "start_time": "2021-09-26T02:19:50.739Z"
   },
   {
    "duration": 51,
    "start_time": "2021-09-26T02:20:13.740Z"
   },
   {
    "duration": 54,
    "start_time": "2021-09-26T02:20:30.906Z"
   },
   {
    "duration": 46,
    "start_time": "2021-09-26T02:20:39.078Z"
   },
   {
    "duration": 43,
    "start_time": "2021-09-26T02:25:55.700Z"
   },
   {
    "duration": 42,
    "start_time": "2021-09-26T02:26:29.252Z"
   },
   {
    "duration": 20,
    "start_time": "2021-09-26T02:29:57.383Z"
   },
   {
    "duration": 296,
    "start_time": "2021-09-26T02:30:58.175Z"
   },
   {
    "duration": 91,
    "start_time": "2021-09-26T02:31:13.873Z"
   },
   {
    "duration": 93,
    "start_time": "2021-09-26T02:31:23.654Z"
   },
   {
    "duration": 262,
    "start_time": "2021-09-26T02:32:37.375Z"
   },
   {
    "duration": 21,
    "start_time": "2021-09-26T02:39:37.984Z"
   },
   {
    "duration": 602,
    "start_time": "2021-09-26T02:40:58.963Z"
   },
   {
    "duration": 19,
    "start_time": "2021-09-26T02:41:19.057Z"
   },
   {
    "duration": 11,
    "start_time": "2021-09-26T02:42:14.661Z"
   },
   {
    "duration": 7,
    "start_time": "2021-09-26T02:42:26.882Z"
   },
   {
    "duration": 4,
    "start_time": "2021-09-26T02:42:59.888Z"
   },
   {
    "duration": 5,
    "start_time": "2021-09-26T02:43:29.141Z"
   },
   {
    "duration": 86,
    "start_time": "2021-09-26T02:44:30.588Z"
   },
   {
    "duration": 91,
    "start_time": "2021-09-26T02:45:01.655Z"
   },
   {
    "duration": 4,
    "start_time": "2021-09-26T02:45:09.449Z"
   },
   {
    "duration": 4,
    "start_time": "2021-09-26T02:45:26.553Z"
   },
   {
    "duration": 4,
    "start_time": "2021-09-26T02:45:36.390Z"
   },
   {
    "duration": 4,
    "start_time": "2021-09-26T02:45:42.549Z"
   },
   {
    "duration": 8,
    "start_time": "2021-09-26T02:47:49.023Z"
   },
   {
    "duration": 7,
    "start_time": "2021-09-26T02:48:54.063Z"
   },
   {
    "duration": 11,
    "start_time": "2021-09-26T02:56:07.023Z"
   },
   {
    "duration": 89,
    "start_time": "2021-09-26T03:04:43.539Z"
   },
   {
    "duration": 90,
    "start_time": "2021-09-26T03:05:32.437Z"
   },
   {
    "duration": 3559,
    "start_time": "2021-09-26T03:05:54.957Z"
   },
   {
    "duration": 4955,
    "start_time": "2021-09-26T03:07:05.406Z"
   },
   {
    "duration": 87,
    "start_time": "2021-09-26T03:19:47.420Z"
   },
   {
    "duration": 100,
    "start_time": "2021-09-26T03:31:08.581Z"
   },
   {
    "duration": 3604,
    "start_time": "2021-09-26T03:31:16.712Z"
   },
   {
    "duration": 4727,
    "start_time": "2021-09-26T03:31:59.601Z"
   },
   {
    "duration": 85,
    "start_time": "2021-09-26T03:36:22.526Z"
   },
   {
    "duration": 4041,
    "start_time": "2021-09-26T03:36:30.924Z"
   },
   {
    "duration": 3868,
    "start_time": "2021-09-26T03:36:57.418Z"
   },
   {
    "duration": 24,
    "start_time": "2021-09-26T03:37:26.763Z"
   },
   {
    "duration": 268,
    "start_time": "2021-09-26T03:43:58.857Z"
   },
   {
    "duration": 282,
    "start_time": "2021-09-26T03:44:48.269Z"
   },
   {
    "duration": 274,
    "start_time": "2021-09-26T03:46:08.542Z"
   },
   {
    "duration": 277,
    "start_time": "2021-09-26T03:46:45.421Z"
   },
   {
    "duration": 282,
    "start_time": "2021-09-26T03:48:37.937Z"
   },
   {
    "duration": 17,
    "start_time": "2021-09-26T04:06:44.803Z"
   },
   {
    "duration": 8,
    "start_time": "2021-09-26T04:10:30.713Z"
   },
   {
    "duration": 1132,
    "start_time": "2021-09-26T04:11:59.572Z"
   },
   {
    "duration": 2,
    "start_time": "2021-09-26T04:12:00.706Z"
   },
   {
    "duration": 353,
    "start_time": "2021-09-26T04:12:00.710Z"
   },
   {
    "duration": 13,
    "start_time": "2021-09-26T04:12:01.065Z"
   },
   {
    "duration": 14,
    "start_time": "2021-09-26T04:12:01.081Z"
   },
   {
    "duration": 18,
    "start_time": "2021-09-26T04:12:01.097Z"
   },
   {
    "duration": 101,
    "start_time": "2021-09-26T04:12:01.117Z"
   },
   {
    "duration": 25,
    "start_time": "2021-09-26T04:12:01.221Z"
   },
   {
    "duration": 9,
    "start_time": "2021-09-26T04:12:01.248Z"
   },
   {
    "duration": 109,
    "start_time": "2021-09-26T04:12:01.259Z"
   },
   {
    "duration": 8,
    "start_time": "2021-09-26T04:12:01.370Z"
   },
   {
    "duration": 127,
    "start_time": "2021-09-26T04:12:01.380Z"
   },
   {
    "duration": 12,
    "start_time": "2021-09-26T04:12:01.508Z"
   },
   {
    "duration": 25,
    "start_time": "2021-09-26T04:12:01.522Z"
   },
   {
    "duration": 71,
    "start_time": "2021-09-26T04:12:01.549Z"
   },
   {
    "duration": 26,
    "start_time": "2021-09-26T04:12:01.621Z"
   },
   {
    "duration": 49,
    "start_time": "2021-09-26T04:12:01.649Z"
   },
   {
    "duration": 10,
    "start_time": "2021-09-26T04:12:01.700Z"
   },
   {
    "duration": 42,
    "start_time": "2021-09-26T04:12:01.712Z"
   },
   {
    "duration": 18,
    "start_time": "2021-09-26T04:12:01.756Z"
   },
   {
    "duration": 79,
    "start_time": "2021-09-26T04:12:01.776Z"
   },
   {
    "duration": 36,
    "start_time": "2021-09-26T04:12:01.857Z"
   },
   {
    "duration": 14,
    "start_time": "2021-09-26T04:12:01.898Z"
   },
   {
    "duration": 36,
    "start_time": "2021-09-26T04:12:01.915Z"
   },
   {
    "duration": 162,
    "start_time": "2021-09-26T04:12:01.953Z"
   },
   {
    "duration": 42,
    "start_time": "2021-09-26T04:12:02.117Z"
   },
   {
    "duration": 349,
    "start_time": "2021-09-26T04:12:02.161Z"
   },
   {
    "duration": 10,
    "start_time": "2021-09-26T04:12:02.512Z"
   },
   {
    "duration": 24,
    "start_time": "2021-09-26T04:12:02.524Z"
   },
   {
    "duration": 17,
    "start_time": "2021-09-26T04:12:02.550Z"
   },
   {
    "duration": 153,
    "start_time": "2021-09-26T04:12:02.569Z"
   },
   {
    "duration": 23,
    "start_time": "2021-09-26T04:12:02.724Z"
   },
   {
    "duration": 9,
    "start_time": "2021-09-26T04:12:02.749Z"
   },
   {
    "duration": 12,
    "start_time": "2021-09-26T04:12:02.760Z"
   },
   {
    "duration": 160,
    "start_time": "2021-09-26T04:12:02.774Z"
   },
   {
    "duration": 140,
    "start_time": "2021-09-26T04:12:02.936Z"
   },
   {
    "duration": 10,
    "start_time": "2021-09-26T04:12:03.078Z"
   },
   {
    "duration": 9,
    "start_time": "2021-09-26T04:12:03.089Z"
   },
   {
    "duration": 27,
    "start_time": "2021-09-26T04:12:03.100Z"
   },
   {
    "duration": 150,
    "start_time": "2021-09-26T04:12:03.129Z"
   },
   {
    "duration": 10,
    "start_time": "2021-09-26T04:12:03.281Z"
   },
   {
    "duration": 41,
    "start_time": "2021-09-26T04:12:03.293Z"
   },
   {
    "duration": 27,
    "start_time": "2021-09-26T04:12:03.336Z"
   },
   {
    "duration": 15,
    "start_time": "2021-09-26T04:12:03.365Z"
   },
   {
    "duration": 30,
    "start_time": "2021-09-26T04:12:03.382Z"
   },
   {
    "duration": 23,
    "start_time": "2021-09-26T04:12:03.414Z"
   },
   {
    "duration": 36,
    "start_time": "2021-09-26T04:12:03.438Z"
   },
   {
    "duration": 25,
    "start_time": "2021-09-26T04:12:03.476Z"
   },
   {
    "duration": 24,
    "start_time": "2021-09-26T04:12:03.502Z"
   },
   {
    "duration": 15,
    "start_time": "2021-09-26T04:12:03.527Z"
   },
   {
    "duration": 33,
    "start_time": "2021-09-26T04:12:03.544Z"
   },
   {
    "duration": 16,
    "start_time": "2021-09-26T04:12:03.579Z"
   },
   {
    "duration": 25,
    "start_time": "2021-09-26T04:12:03.597Z"
   },
   {
    "duration": 33,
    "start_time": "2021-09-26T04:12:03.624Z"
   },
   {
    "duration": 30,
    "start_time": "2021-09-26T04:12:03.659Z"
   },
   {
    "duration": 22,
    "start_time": "2021-09-26T04:12:03.690Z"
   },
   {
    "duration": 43,
    "start_time": "2021-09-26T04:12:03.713Z"
   },
   {
    "duration": 82,
    "start_time": "2021-09-26T04:12:03.758Z"
   },
   {
    "duration": 6,
    "start_time": "2021-09-26T04:12:03.842Z"
   },
   {
    "duration": 56,
    "start_time": "2021-09-26T04:12:03.850Z"
   },
   {
    "duration": 123,
    "start_time": "2021-09-26T04:12:03.908Z"
   },
   {
    "duration": 58,
    "start_time": "2021-09-26T04:12:04.032Z"
   },
   {
    "duration": 8,
    "start_time": "2021-09-26T04:12:04.091Z"
   },
   {
    "duration": 46,
    "start_time": "2021-09-26T04:12:04.100Z"
   },
   {
    "duration": 459,
    "start_time": "2021-09-26T04:12:04.147Z"
   },
   {
    "duration": -190,
    "start_time": "2021-09-26T04:12:04.797Z"
   },
   {
    "duration": -195,
    "start_time": "2021-09-26T04:12:04.803Z"
   },
   {
    "duration": -276,
    "start_time": "2021-09-26T04:12:04.885Z"
   },
   {
    "duration": -288,
    "start_time": "2021-09-26T04:12:04.898Z"
   },
   {
    "duration": -292,
    "start_time": "2021-09-26T04:12:04.903Z"
   },
   {
    "duration": 18,
    "start_time": "2021-09-26T04:15:42.271Z"
   },
   {
    "duration": 8,
    "start_time": "2021-09-26T04:16:14.950Z"
   },
   {
    "duration": 12,
    "start_time": "2021-09-26T04:22:16.421Z"
   },
   {
    "duration": 8,
    "start_time": "2021-09-26T04:22:35.871Z"
   },
   {
    "duration": 1169,
    "start_time": "2021-09-26T04:24:12.729Z"
   },
   {
    "duration": 3,
    "start_time": "2021-09-26T04:24:13.900Z"
   },
   {
    "duration": 312,
    "start_time": "2021-09-26T04:24:13.904Z"
   },
   {
    "duration": 13,
    "start_time": "2021-09-26T04:24:14.218Z"
   },
   {
    "duration": 15,
    "start_time": "2021-09-26T04:24:14.233Z"
   },
   {
    "duration": 8,
    "start_time": "2021-09-26T04:24:14.250Z"
   },
   {
    "duration": 97,
    "start_time": "2021-09-26T04:24:14.260Z"
   },
   {
    "duration": 15,
    "start_time": "2021-09-26T04:24:14.360Z"
   },
   {
    "duration": 9,
    "start_time": "2021-09-26T04:24:14.377Z"
   },
   {
    "duration": 114,
    "start_time": "2021-09-26T04:24:14.388Z"
   },
   {
    "duration": 8,
    "start_time": "2021-09-26T04:24:14.505Z"
   },
   {
    "duration": 109,
    "start_time": "2021-09-26T04:24:14.515Z"
   },
   {
    "duration": 24,
    "start_time": "2021-09-26T04:24:14.626Z"
   },
   {
    "duration": 7,
    "start_time": "2021-09-26T04:24:14.652Z"
   },
   {
    "duration": 92,
    "start_time": "2021-09-26T04:24:14.661Z"
   },
   {
    "duration": 7,
    "start_time": "2021-09-26T04:24:14.754Z"
   },
   {
    "duration": 41,
    "start_time": "2021-09-26T04:24:14.763Z"
   },
   {
    "duration": 10,
    "start_time": "2021-09-26T04:24:14.805Z"
   },
   {
    "duration": 38,
    "start_time": "2021-09-26T04:24:14.816Z"
   },
   {
    "duration": 13,
    "start_time": "2021-09-26T04:24:14.856Z"
   },
   {
    "duration": 78,
    "start_time": "2021-09-26T04:24:14.870Z"
   },
   {
    "duration": 32,
    "start_time": "2021-09-26T04:24:14.950Z"
   },
   {
    "duration": 12,
    "start_time": "2021-09-26T04:24:14.985Z"
   },
   {
    "duration": 10,
    "start_time": "2021-09-26T04:24:15.000Z"
   },
   {
    "duration": 168,
    "start_time": "2021-09-26T04:24:15.011Z"
   },
   {
    "duration": 28,
    "start_time": "2021-09-26T04:24:15.180Z"
   },
   {
    "duration": 350,
    "start_time": "2021-09-26T04:24:15.210Z"
   },
   {
    "duration": 9,
    "start_time": "2021-09-26T04:24:15.562Z"
   },
   {
    "duration": 10,
    "start_time": "2021-09-26T04:24:15.573Z"
   },
   {
    "duration": 14,
    "start_time": "2021-09-26T04:24:15.585Z"
   },
   {
    "duration": 169,
    "start_time": "2021-09-26T04:24:15.601Z"
   },
   {
    "duration": 12,
    "start_time": "2021-09-26T04:24:15.773Z"
   },
   {
    "duration": 7,
    "start_time": "2021-09-26T04:24:15.787Z"
   },
   {
    "duration": 12,
    "start_time": "2021-09-26T04:24:15.796Z"
   },
   {
    "duration": 163,
    "start_time": "2021-09-26T04:24:15.810Z"
   },
   {
    "duration": 143,
    "start_time": "2021-09-26T04:24:15.975Z"
   },
   {
    "duration": 9,
    "start_time": "2021-09-26T04:24:16.120Z"
   },
   {
    "duration": 16,
    "start_time": "2021-09-26T04:24:16.131Z"
   },
   {
    "duration": 11,
    "start_time": "2021-09-26T04:24:16.148Z"
   },
   {
    "duration": 161,
    "start_time": "2021-09-26T04:24:16.161Z"
   },
   {
    "duration": 11,
    "start_time": "2021-09-26T04:24:16.323Z"
   },
   {
    "duration": 18,
    "start_time": "2021-09-26T04:24:16.344Z"
   },
   {
    "duration": 13,
    "start_time": "2021-09-26T04:24:16.363Z"
   },
   {
    "duration": 5,
    "start_time": "2021-09-26T04:24:16.378Z"
   },
   {
    "duration": 19,
    "start_time": "2021-09-26T04:24:16.385Z"
   },
   {
    "duration": 44,
    "start_time": "2021-09-26T04:24:16.406Z"
   },
   {
    "duration": 23,
    "start_time": "2021-09-26T04:24:16.451Z"
   },
   {
    "duration": 15,
    "start_time": "2021-09-26T04:24:16.475Z"
   },
   {
    "duration": 16,
    "start_time": "2021-09-26T04:24:16.492Z"
   },
   {
    "duration": 14,
    "start_time": "2021-09-26T04:24:16.509Z"
   },
   {
    "duration": 26,
    "start_time": "2021-09-26T04:24:16.525Z"
   },
   {
    "duration": 15,
    "start_time": "2021-09-26T04:24:16.553Z"
   },
   {
    "duration": 12,
    "start_time": "2021-09-26T04:24:16.569Z"
   },
   {
    "duration": 16,
    "start_time": "2021-09-26T04:24:16.582Z"
   },
   {
    "duration": 12,
    "start_time": "2021-09-26T04:24:16.599Z"
   },
   {
    "duration": 34,
    "start_time": "2021-09-26T04:24:16.613Z"
   },
   {
    "duration": 14,
    "start_time": "2021-09-26T04:24:16.649Z"
   },
   {
    "duration": 62,
    "start_time": "2021-09-26T04:24:16.664Z"
   },
   {
    "duration": 6,
    "start_time": "2021-09-26T04:24:16.745Z"
   },
   {
    "duration": 54,
    "start_time": "2021-09-26T04:24:16.753Z"
   },
   {
    "duration": 135,
    "start_time": "2021-09-26T04:24:16.809Z"
   },
   {
    "duration": 50,
    "start_time": "2021-09-26T04:24:16.946Z"
   },
   {
    "duration": 368,
    "start_time": "2021-09-26T04:24:16.998Z"
   },
   {
    "duration": -849,
    "start_time": "2021-09-26T04:24:18.217Z"
   },
   {
    "duration": -853,
    "start_time": "2021-09-26T04:24:18.223Z"
   },
   {
    "duration": -856,
    "start_time": "2021-09-26T04:24:18.227Z"
   },
   {
    "duration": -860,
    "start_time": "2021-09-26T04:24:18.232Z"
   },
   {
    "duration": -865,
    "start_time": "2021-09-26T04:24:18.238Z"
   },
   {
    "duration": -869,
    "start_time": "2021-09-26T04:24:18.243Z"
   },
   {
    "duration": -876,
    "start_time": "2021-09-26T04:24:18.250Z"
   },
   {
    "duration": -882,
    "start_time": "2021-09-26T04:24:18.257Z"
   },
   {
    "duration": -885,
    "start_time": "2021-09-26T04:24:18.261Z"
   },
   {
    "duration": -2858,
    "start_time": "2021-09-26T04:24:20.235Z"
   },
   {
    "duration": 8,
    "start_time": "2021-09-26T04:24:36.712Z"
   },
   {
    "duration": 8,
    "start_time": "2021-09-26T04:25:05.207Z"
   },
   {
    "duration": 1425,
    "start_time": "2021-09-26T04:26:55.565Z"
   },
   {
    "duration": 19,
    "start_time": "2021-09-26T04:58:17.794Z"
   },
   {
    "duration": 273,
    "start_time": "2021-09-26T04:59:47.236Z"
   },
   {
    "duration": 3096,
    "start_time": "2021-09-26T05:00:20.096Z"
   },
   {
    "duration": 3,
    "start_time": "2021-09-26T05:00:23.194Z"
   },
   {
    "duration": 307,
    "start_time": "2021-09-26T05:00:23.198Z"
   },
   {
    "duration": 13,
    "start_time": "2021-09-26T05:00:23.506Z"
   },
   {
    "duration": 15,
    "start_time": "2021-09-26T05:00:23.521Z"
   },
   {
    "duration": 11,
    "start_time": "2021-09-26T05:00:23.537Z"
   },
   {
    "duration": 98,
    "start_time": "2021-09-26T05:00:23.550Z"
   },
   {
    "duration": 13,
    "start_time": "2021-09-26T05:00:23.651Z"
   },
   {
    "duration": 11,
    "start_time": "2021-09-26T05:00:23.667Z"
   },
   {
    "duration": 110,
    "start_time": "2021-09-26T05:00:23.679Z"
   },
   {
    "duration": 9,
    "start_time": "2021-09-26T05:00:23.791Z"
   },
   {
    "duration": 108,
    "start_time": "2021-09-26T05:00:23.802Z"
   },
   {
    "duration": 13,
    "start_time": "2021-09-26T05:00:23.912Z"
   },
   {
    "duration": 27,
    "start_time": "2021-09-26T05:00:23.926Z"
   },
   {
    "duration": 91,
    "start_time": "2021-09-26T05:00:23.955Z"
   },
   {
    "duration": 7,
    "start_time": "2021-09-26T05:00:24.047Z"
   },
   {
    "duration": 48,
    "start_time": "2021-09-26T05:00:24.056Z"
   },
   {
    "duration": 10,
    "start_time": "2021-09-26T05:00:24.106Z"
   },
   {
    "duration": 36,
    "start_time": "2021-09-26T05:00:24.117Z"
   },
   {
    "duration": 12,
    "start_time": "2021-09-26T05:00:24.155Z"
   },
   {
    "duration": 79,
    "start_time": "2021-09-26T05:00:24.169Z"
   },
   {
    "duration": 41,
    "start_time": "2021-09-26T05:00:24.250Z"
   },
   {
    "duration": 13,
    "start_time": "2021-09-26T05:00:24.296Z"
   },
   {
    "duration": 33,
    "start_time": "2021-09-26T05:00:24.312Z"
   },
   {
    "duration": 197,
    "start_time": "2021-09-26T05:00:24.347Z"
   },
   {
    "duration": 36,
    "start_time": "2021-09-26T05:00:24.547Z"
   },
   {
    "duration": 485,
    "start_time": "2021-09-26T05:00:24.585Z"
   },
   {
    "duration": 12,
    "start_time": "2021-09-26T05:00:25.072Z"
   },
   {
    "duration": 13,
    "start_time": "2021-09-26T05:00:25.086Z"
   },
   {
    "duration": 44,
    "start_time": "2021-09-26T05:00:25.101Z"
   },
   {
    "duration": 137,
    "start_time": "2021-09-26T05:00:25.147Z"
   },
   {
    "duration": 9,
    "start_time": "2021-09-26T05:00:25.286Z"
   },
   {
    "duration": 13,
    "start_time": "2021-09-26T05:00:25.296Z"
   },
   {
    "duration": 12,
    "start_time": "2021-09-26T05:00:25.311Z"
   },
   {
    "duration": 160,
    "start_time": "2021-09-26T05:00:25.324Z"
   },
   {
    "duration": 142,
    "start_time": "2021-09-26T05:00:25.486Z"
   },
   {
    "duration": 18,
    "start_time": "2021-09-26T05:00:25.629Z"
   },
   {
    "duration": 7,
    "start_time": "2021-09-26T05:00:25.649Z"
   },
   {
    "duration": 15,
    "start_time": "2021-09-26T05:00:25.657Z"
   },
   {
    "duration": 157,
    "start_time": "2021-09-26T05:00:25.674Z"
   },
   {
    "duration": 19,
    "start_time": "2021-09-26T05:00:25.833Z"
   },
   {
    "duration": 29,
    "start_time": "2021-09-26T05:00:25.854Z"
   },
   {
    "duration": 11,
    "start_time": "2021-09-26T05:00:25.884Z"
   },
   {
    "duration": 19,
    "start_time": "2021-09-26T05:00:25.896Z"
   },
   {
    "duration": 26,
    "start_time": "2021-09-26T05:00:25.916Z"
   },
   {
    "duration": 14,
    "start_time": "2021-09-26T05:00:25.944Z"
   },
   {
    "duration": 16,
    "start_time": "2021-09-26T05:00:25.959Z"
   },
   {
    "duration": 6,
    "start_time": "2021-09-26T05:00:25.976Z"
   },
   {
    "duration": 9,
    "start_time": "2021-09-26T05:00:25.983Z"
   },
   {
    "duration": 8,
    "start_time": "2021-09-26T05:00:25.994Z"
   },
   {
    "duration": 49,
    "start_time": "2021-09-26T05:00:26.003Z"
   },
   {
    "duration": 13,
    "start_time": "2021-09-26T05:00:26.054Z"
   },
   {
    "duration": 11,
    "start_time": "2021-09-26T05:00:26.069Z"
   },
   {
    "duration": 10,
    "start_time": "2021-09-26T05:00:26.082Z"
   },
   {
    "duration": 12,
    "start_time": "2021-09-26T05:00:26.093Z"
   },
   {
    "duration": 9,
    "start_time": "2021-09-26T05:00:26.106Z"
   },
   {
    "duration": 8,
    "start_time": "2021-09-26T05:00:26.145Z"
   },
   {
    "duration": 655,
    "start_time": "2021-09-26T05:00:26.155Z"
   },
   {
    "duration": -92,
    "start_time": "2021-09-26T05:00:26.904Z"
   },
   {
    "duration": -95,
    "start_time": "2021-09-26T05:00:26.908Z"
   },
   {
    "duration": -99,
    "start_time": "2021-09-26T05:00:26.912Z"
   },
   {
    "duration": -101,
    "start_time": "2021-09-26T05:00:26.915Z"
   },
   {
    "duration": -103,
    "start_time": "2021-09-26T05:00:26.918Z"
   },
   {
    "duration": -111,
    "start_time": "2021-09-26T05:00:26.927Z"
   },
   {
    "duration": -114,
    "start_time": "2021-09-26T05:00:26.931Z"
   },
   {
    "duration": -117,
    "start_time": "2021-09-26T05:00:26.935Z"
   },
   {
    "duration": -120,
    "start_time": "2021-09-26T05:00:26.939Z"
   },
   {
    "duration": -123,
    "start_time": "2021-09-26T05:00:26.942Z"
   },
   {
    "duration": -125,
    "start_time": "2021-09-26T05:00:26.945Z"
   },
   {
    "duration": -173,
    "start_time": "2021-09-26T05:00:26.994Z"
   },
   {
    "duration": -182,
    "start_time": "2021-09-26T05:00:27.003Z"
   },
   {
    "duration": -230,
    "start_time": "2021-09-26T05:00:27.052Z"
   },
   {
    "duration": -239,
    "start_time": "2021-09-26T05:00:27.062Z"
   },
   {
    "duration": 51,
    "start_time": "2021-09-26T05:01:17.102Z"
   },
   {
    "duration": 6,
    "start_time": "2021-09-26T05:01:37.894Z"
   },
   {
    "duration": 41,
    "start_time": "2021-09-26T05:01:51.944Z"
   },
   {
    "duration": 35,
    "start_time": "2021-09-26T05:02:28.627Z"
   },
   {
    "duration": 119,
    "start_time": "2021-09-26T05:02:41.931Z"
   },
   {
    "duration": 178,
    "start_time": "2021-09-26T05:03:14.206Z"
   },
   {
    "duration": 49,
    "start_time": "2021-09-26T05:03:45.941Z"
   },
   {
    "duration": 43,
    "start_time": "2021-09-26T05:03:52.302Z"
   },
   {
    "duration": 299,
    "start_time": "2021-09-26T05:03:57.349Z"
   },
   {
    "duration": 7,
    "start_time": "2021-09-26T05:04:42.379Z"
   },
   {
    "duration": 7,
    "start_time": "2021-09-26T05:04:55.001Z"
   },
   {
    "duration": 10,
    "start_time": "2021-09-26T05:05:08.808Z"
   },
   {
    "duration": 17,
    "start_time": "2021-09-26T05:05:41.843Z"
   },
   {
    "duration": 17,
    "start_time": "2021-09-26T05:05:58.862Z"
   },
   {
    "duration": 16,
    "start_time": "2021-09-26T05:06:09.488Z"
   },
   {
    "duration": 10,
    "start_time": "2021-09-26T05:25:31.455Z"
   },
   {
    "duration": 15,
    "start_time": "2021-09-26T05:25:54.137Z"
   },
   {
    "duration": 15,
    "start_time": "2021-09-26T05:26:01.577Z"
   },
   {
    "duration": 15,
    "start_time": "2021-09-26T05:26:09.236Z"
   },
   {
    "duration": 13,
    "start_time": "2021-09-26T05:32:22.441Z"
   },
   {
    "duration": 16,
    "start_time": "2021-09-26T05:33:01.674Z"
   },
   {
    "duration": 15,
    "start_time": "2021-09-26T05:33:17.665Z"
   },
   {
    "duration": 15,
    "start_time": "2021-09-26T05:35:03.125Z"
   },
   {
    "duration": 16,
    "start_time": "2021-09-26T05:38:08.461Z"
   },
   {
    "duration": 17,
    "start_time": "2021-09-26T05:38:18.737Z"
   },
   {
    "duration": 15,
    "start_time": "2021-09-26T05:38:31.694Z"
   },
   {
    "duration": 87,
    "start_time": "2021-09-26T05:39:58.167Z"
   },
   {
    "duration": 7,
    "start_time": "2021-09-26T05:40:42.038Z"
   },
   {
    "duration": 12,
    "start_time": "2021-09-26T05:41:21.222Z"
   },
   {
    "duration": 105,
    "start_time": "2021-09-26T05:43:38.544Z"
   },
   {
    "duration": 5,
    "start_time": "2021-09-26T05:44:21.991Z"
   },
   {
    "duration": 7669,
    "start_time": "2021-09-26T05:44:44.305Z"
   },
   {
    "duration": 4,
    "start_time": "2021-09-26T05:45:14.772Z"
   },
   {
    "duration": 7,
    "start_time": "2021-09-26T05:46:06.629Z"
   },
   {
    "duration": 15,
    "start_time": "2021-09-26T05:47:04.812Z"
   },
   {
    "duration": 4,
    "start_time": "2021-09-26T05:47:09.629Z"
   },
   {
    "duration": 6,
    "start_time": "2021-09-26T05:47:20.156Z"
   },
   {
    "duration": 16,
    "start_time": "2021-09-26T05:47:31.459Z"
   },
   {
    "duration": 14,
    "start_time": "2021-09-26T05:47:44.814Z"
   },
   {
    "duration": 7,
    "start_time": "2021-09-26T05:48:01.532Z"
   },
   {
    "duration": 4,
    "start_time": "2021-09-26T05:49:03.375Z"
   },
   {
    "duration": 4,
    "start_time": "2021-09-26T05:49:15.750Z"
   },
   {
    "duration": 4,
    "start_time": "2021-09-26T05:49:24.405Z"
   },
   {
    "duration": 18,
    "start_time": "2021-09-26T05:50:11.981Z"
   },
   {
    "duration": 14,
    "start_time": "2021-09-26T05:50:23.739Z"
   },
   {
    "duration": 15,
    "start_time": "2021-09-26T05:50:41.968Z"
   },
   {
    "duration": 265,
    "start_time": "2021-09-26T05:55:38.691Z"
   },
   {
    "duration": 16,
    "start_time": "2021-09-26T05:55:47.779Z"
   },
   {
    "duration": 271,
    "start_time": "2021-09-26T05:56:06.932Z"
   },
   {
    "duration": 9,
    "start_time": "2021-09-26T05:56:15.125Z"
   },
   {
    "duration": 3,
    "start_time": "2021-09-26T06:01:10.482Z"
   },
   {
    "duration": 283,
    "start_time": "2021-09-26T06:01:29.052Z"
   },
   {
    "duration": 3,
    "start_time": "2021-09-26T06:02:47.824Z"
   },
   {
    "duration": 3,
    "start_time": "2021-09-26T06:03:28.636Z"
   },
   {
    "duration": 20,
    "start_time": "2021-09-26T06:03:53.117Z"
   },
   {
    "duration": 17,
    "start_time": "2021-09-26T06:04:14.242Z"
   },
   {
    "duration": 15,
    "start_time": "2021-09-26T06:04:22.387Z"
   },
   {
    "duration": 4,
    "start_time": "2021-09-26T06:04:45.054Z"
   },
   {
    "duration": 21,
    "start_time": "2021-09-26T06:04:53.192Z"
   },
   {
    "duration": 17,
    "start_time": "2021-09-26T06:05:00.158Z"
   },
   {
    "duration": 4,
    "start_time": "2021-09-26T06:05:46.427Z"
   },
   {
    "duration": 23,
    "start_time": "2021-09-26T06:06:48.340Z"
   },
   {
    "duration": 22,
    "start_time": "2021-09-26T06:08:14.496Z"
   },
   {
    "duration": 16,
    "start_time": "2021-09-26T06:08:27.154Z"
   },
   {
    "duration": 4,
    "start_time": "2021-09-26T06:09:03.462Z"
   },
   {
    "duration": 18,
    "start_time": "2021-09-26T06:10:44.194Z"
   },
   {
    "duration": 3,
    "start_time": "2021-09-26T06:12:59.400Z"
   },
   {
    "duration": 4,
    "start_time": "2021-09-26T06:13:05.510Z"
   },
   {
    "duration": 15,
    "start_time": "2021-09-26T06:13:27.214Z"
   },
   {
    "duration": 96,
    "start_time": "2021-09-26T06:14:00.983Z"
   },
   {
    "duration": 24,
    "start_time": "2021-09-26T06:14:15.047Z"
   },
   {
    "duration": 15,
    "start_time": "2021-09-26T06:14:22.630Z"
   },
   {
    "duration": 313,
    "start_time": "2021-09-26T06:16:59.947Z"
   },
   {
    "duration": 289,
    "start_time": "2021-09-26T06:17:26.926Z"
   },
   {
    "duration": 24,
    "start_time": "2021-09-26T06:18:47.004Z"
   },
   {
    "duration": 15,
    "start_time": "2021-09-26T06:18:50.456Z"
   },
   {
    "duration": 22,
    "start_time": "2021-09-26T06:19:21.775Z"
   },
   {
    "duration": 16,
    "start_time": "2021-09-26T06:19:25.012Z"
   },
   {
    "duration": 279,
    "start_time": "2021-09-26T06:21:26.112Z"
   },
   {
    "duration": 286,
    "start_time": "2021-09-26T06:24:36.590Z"
   },
   {
    "duration": 28,
    "start_time": "2021-09-26T06:29:08.485Z"
   },
   {
    "duration": 16,
    "start_time": "2021-09-26T06:29:15.514Z"
   },
   {
    "duration": 5496,
    "start_time": "2021-09-26T06:31:47.221Z"
   },
   {
    "duration": 18,
    "start_time": "2021-09-26T06:33:20.331Z"
   },
   {
    "duration": 1133,
    "start_time": "2021-09-26T06:34:10.564Z"
   },
   {
    "duration": 3,
    "start_time": "2021-09-26T06:34:11.699Z"
   },
   {
    "duration": 315,
    "start_time": "2021-09-26T06:34:11.704Z"
   },
   {
    "duration": 13,
    "start_time": "2021-09-26T06:34:12.021Z"
   },
   {
    "duration": 31,
    "start_time": "2021-09-26T06:34:12.035Z"
   },
   {
    "duration": 26,
    "start_time": "2021-09-26T06:34:12.068Z"
   },
   {
    "duration": 97,
    "start_time": "2021-09-26T06:34:12.096Z"
   },
   {
    "duration": 13,
    "start_time": "2021-09-26T06:34:12.196Z"
   },
   {
    "duration": 16,
    "start_time": "2021-09-26T06:34:12.211Z"
   },
   {
    "duration": 100,
    "start_time": "2021-09-26T06:34:12.229Z"
   },
   {
    "duration": 17,
    "start_time": "2021-09-26T06:34:12.331Z"
   },
   {
    "duration": 114,
    "start_time": "2021-09-26T06:34:12.350Z"
   },
   {
    "duration": 12,
    "start_time": "2021-09-26T06:34:12.466Z"
   },
   {
    "duration": 14,
    "start_time": "2021-09-26T06:34:12.480Z"
   },
   {
    "duration": 86,
    "start_time": "2021-09-26T06:34:12.495Z"
   },
   {
    "duration": 6,
    "start_time": "2021-09-26T06:34:12.583Z"
   },
   {
    "duration": 65,
    "start_time": "2021-09-26T06:34:12.591Z"
   },
   {
    "duration": 9,
    "start_time": "2021-09-26T06:34:12.658Z"
   },
   {
    "duration": 28,
    "start_time": "2021-09-26T06:34:12.669Z"
   },
   {
    "duration": 21,
    "start_time": "2021-09-26T06:34:12.699Z"
   },
   {
    "duration": 74,
    "start_time": "2021-09-26T06:34:12.721Z"
   },
   {
    "duration": 33,
    "start_time": "2021-09-26T06:34:12.797Z"
   },
   {
    "duration": 13,
    "start_time": "2021-09-26T06:34:12.847Z"
   },
   {
    "duration": 18,
    "start_time": "2021-09-26T06:34:12.863Z"
   },
   {
    "duration": 166,
    "start_time": "2021-09-26T06:34:12.883Z"
   },
   {
    "duration": 36,
    "start_time": "2021-09-26T06:34:13.051Z"
   },
   {
    "duration": 346,
    "start_time": "2021-09-26T06:34:13.089Z"
   },
   {
    "duration": 15,
    "start_time": "2021-09-26T06:34:13.437Z"
   },
   {
    "duration": 10,
    "start_time": "2021-09-26T06:34:13.454Z"
   },
   {
    "duration": 14,
    "start_time": "2021-09-26T06:34:13.466Z"
   },
   {
    "duration": 170,
    "start_time": "2021-09-26T06:34:13.482Z"
   },
   {
    "duration": 10,
    "start_time": "2021-09-26T06:34:13.654Z"
   },
   {
    "duration": 9,
    "start_time": "2021-09-26T06:34:13.666Z"
   },
   {
    "duration": 14,
    "start_time": "2021-09-26T06:34:13.677Z"
   },
   {
    "duration": 157,
    "start_time": "2021-09-26T06:34:13.693Z"
   },
   {
    "duration": 142,
    "start_time": "2021-09-26T06:34:13.852Z"
   },
   {
    "duration": 9,
    "start_time": "2021-09-26T06:34:13.996Z"
   },
   {
    "duration": 11,
    "start_time": "2021-09-26T06:34:14.006Z"
   },
   {
    "duration": 28,
    "start_time": "2021-09-26T06:34:14.019Z"
   },
   {
    "duration": 153,
    "start_time": "2021-09-26T06:34:14.049Z"
   },
   {
    "duration": 9,
    "start_time": "2021-09-26T06:34:14.204Z"
   },
   {
    "duration": 32,
    "start_time": "2021-09-26T06:34:14.214Z"
   },
   {
    "duration": 10,
    "start_time": "2021-09-26T06:34:14.248Z"
   },
   {
    "duration": 6,
    "start_time": "2021-09-26T06:34:14.259Z"
   },
   {
    "duration": 20,
    "start_time": "2021-09-26T06:34:14.266Z"
   },
   {
    "duration": 14,
    "start_time": "2021-09-26T06:34:14.288Z"
   },
   {
    "duration": 42,
    "start_time": "2021-09-26T06:34:14.304Z"
   },
   {
    "duration": 7,
    "start_time": "2021-09-26T06:34:14.348Z"
   },
   {
    "duration": 6,
    "start_time": "2021-09-26T06:34:14.357Z"
   },
   {
    "duration": 6,
    "start_time": "2021-09-26T06:34:14.365Z"
   },
   {
    "duration": 20,
    "start_time": "2021-09-26T06:34:14.373Z"
   },
   {
    "duration": 64,
    "start_time": "2021-09-26T06:34:14.395Z"
   },
   {
    "duration": 14,
    "start_time": "2021-09-26T06:34:14.461Z"
   },
   {
    "duration": 13,
    "start_time": "2021-09-26T06:34:14.477Z"
   },
   {
    "duration": 9,
    "start_time": "2021-09-26T06:34:14.492Z"
   },
   {
    "duration": 7,
    "start_time": "2021-09-26T06:34:14.503Z"
   },
   {
    "duration": 11,
    "start_time": "2021-09-26T06:34:14.545Z"
   },
   {
    "duration": 52,
    "start_time": "2021-09-26T06:34:14.558Z"
   },
   {
    "duration": 6,
    "start_time": "2021-09-26T06:34:14.611Z"
   },
   {
    "duration": 36,
    "start_time": "2021-09-26T06:34:14.645Z"
   },
   {
    "duration": 130,
    "start_time": "2021-09-26T06:34:14.683Z"
   },
   {
    "duration": 60,
    "start_time": "2021-09-26T06:34:14.814Z"
   },
   {
    "duration": 8,
    "start_time": "2021-09-26T06:34:14.876Z"
   },
   {
    "duration": 8,
    "start_time": "2021-09-26T06:34:14.886Z"
   },
   {
    "duration": 18,
    "start_time": "2021-09-26T06:34:14.896Z"
   },
   {
    "duration": 115,
    "start_time": "2021-09-26T06:34:14.916Z"
   },
   {
    "duration": 6258,
    "start_time": "2021-09-26T06:34:15.033Z"
   },
   {
    "duration": -299,
    "start_time": "2021-09-26T06:34:21.592Z"
   },
   {
    "duration": -302,
    "start_time": "2021-09-26T06:34:21.596Z"
   },
   {
    "duration": -305,
    "start_time": "2021-09-26T06:34:21.600Z"
   },
   {
    "duration": -307,
    "start_time": "2021-09-26T06:34:21.603Z"
   },
   {
    "duration": -310,
    "start_time": "2021-09-26T06:34:21.607Z"
   },
   {
    "duration": -313,
    "start_time": "2021-09-26T06:34:21.611Z"
   },
   {
    "duration": -318,
    "start_time": "2021-09-26T06:34:21.617Z"
   },
   {
    "duration": -321,
    "start_time": "2021-09-26T06:34:21.621Z"
   },
   {
    "duration": 15,
    "start_time": "2021-09-26T06:35:07.358Z"
   },
   {
    "duration": 16,
    "start_time": "2021-09-26T06:35:17.504Z"
   },
   {
    "duration": 1128,
    "start_time": "2021-09-26T06:38:31.385Z"
   },
   {
    "duration": 3,
    "start_time": "2021-09-26T06:38:32.515Z"
   },
   {
    "duration": 315,
    "start_time": "2021-09-26T06:38:32.520Z"
   },
   {
    "duration": 13,
    "start_time": "2021-09-26T06:38:32.837Z"
   },
   {
    "duration": 25,
    "start_time": "2021-09-26T06:38:32.851Z"
   },
   {
    "duration": 31,
    "start_time": "2021-09-26T06:38:32.878Z"
   },
   {
    "duration": 98,
    "start_time": "2021-09-26T06:38:32.911Z"
   },
   {
    "duration": 16,
    "start_time": "2021-09-26T06:38:33.012Z"
   },
   {
    "duration": 16,
    "start_time": "2021-09-26T06:38:33.030Z"
   },
   {
    "duration": 103,
    "start_time": "2021-09-26T06:38:33.048Z"
   },
   {
    "duration": 8,
    "start_time": "2021-09-26T06:38:33.153Z"
   },
   {
    "duration": 112,
    "start_time": "2021-09-26T06:38:33.163Z"
   },
   {
    "duration": 12,
    "start_time": "2021-09-26T06:38:33.277Z"
   },
   {
    "duration": 9,
    "start_time": "2021-09-26T06:38:33.291Z"
   },
   {
    "duration": 104,
    "start_time": "2021-09-26T06:38:33.302Z"
   },
   {
    "duration": 8,
    "start_time": "2021-09-26T06:38:33.408Z"
   },
   {
    "duration": 60,
    "start_time": "2021-09-26T06:38:33.419Z"
   },
   {
    "duration": 10,
    "start_time": "2021-09-26T06:38:33.481Z"
   },
   {
    "duration": 51,
    "start_time": "2021-09-26T06:38:33.493Z"
   },
   {
    "duration": 9,
    "start_time": "2021-09-26T06:38:33.546Z"
   },
   {
    "duration": 69,
    "start_time": "2021-09-26T06:38:33.558Z"
   },
   {
    "duration": 34,
    "start_time": "2021-09-26T06:38:33.645Z"
   },
   {
    "duration": 12,
    "start_time": "2021-09-26T06:38:33.683Z"
   },
   {
    "duration": 9,
    "start_time": "2021-09-26T06:38:33.698Z"
   },
   {
    "duration": 165,
    "start_time": "2021-09-26T06:38:33.709Z"
   },
   {
    "duration": 27,
    "start_time": "2021-09-26T06:38:33.876Z"
   },
   {
    "duration": 348,
    "start_time": "2021-09-26T06:38:33.905Z"
   },
   {
    "duration": 9,
    "start_time": "2021-09-26T06:38:34.255Z"
   },
   {
    "duration": 10,
    "start_time": "2021-09-26T06:38:34.266Z"
   },
   {
    "duration": 14,
    "start_time": "2021-09-26T06:38:34.278Z"
   },
   {
    "duration": 200,
    "start_time": "2021-09-26T06:38:34.294Z"
   },
   {
    "duration": 11,
    "start_time": "2021-09-26T06:38:34.496Z"
   },
   {
    "duration": 7,
    "start_time": "2021-09-26T06:38:34.509Z"
   },
   {
    "duration": 34,
    "start_time": "2021-09-26T06:38:34.517Z"
   },
   {
    "duration": 155,
    "start_time": "2021-09-26T06:38:34.553Z"
   },
   {
    "duration": 145,
    "start_time": "2021-09-26T06:38:34.710Z"
   },
   {
    "duration": 8,
    "start_time": "2021-09-26T06:38:34.857Z"
   },
   {
    "duration": 8,
    "start_time": "2021-09-26T06:38:34.867Z"
   },
   {
    "duration": 11,
    "start_time": "2021-09-26T06:38:34.876Z"
   },
   {
    "duration": 175,
    "start_time": "2021-09-26T06:38:34.888Z"
   },
   {
    "duration": 10,
    "start_time": "2021-09-26T06:38:35.065Z"
   },
   {
    "duration": 19,
    "start_time": "2021-09-26T06:38:35.076Z"
   },
   {
    "duration": 10,
    "start_time": "2021-09-26T06:38:35.096Z"
   },
   {
    "duration": 6,
    "start_time": "2021-09-26T06:38:35.107Z"
   },
   {
    "duration": 16,
    "start_time": "2021-09-26T06:38:35.145Z"
   },
   {
    "duration": 13,
    "start_time": "2021-09-26T06:38:35.163Z"
   },
   {
    "duration": 23,
    "start_time": "2021-09-26T06:38:35.178Z"
   },
   {
    "duration": 6,
    "start_time": "2021-09-26T06:38:35.203Z"
   },
   {
    "duration": 34,
    "start_time": "2021-09-26T06:38:35.211Z"
   },
   {
    "duration": 6,
    "start_time": "2021-09-26T06:38:35.247Z"
   },
   {
    "duration": 15,
    "start_time": "2021-09-26T06:38:35.254Z"
   },
   {
    "duration": 14,
    "start_time": "2021-09-26T06:38:35.271Z"
   },
   {
    "duration": 12,
    "start_time": "2021-09-26T06:38:35.287Z"
   },
   {
    "duration": 49,
    "start_time": "2021-09-26T06:38:35.300Z"
   },
   {
    "duration": 8,
    "start_time": "2021-09-26T06:38:35.351Z"
   },
   {
    "duration": 8,
    "start_time": "2021-09-26T06:38:35.361Z"
   },
   {
    "duration": 9,
    "start_time": "2021-09-26T06:38:35.370Z"
   },
   {
    "duration": 86,
    "start_time": "2021-09-26T06:38:35.381Z"
   },
   {
    "duration": 6,
    "start_time": "2021-09-26T06:38:35.469Z"
   },
   {
    "duration": 38,
    "start_time": "2021-09-26T06:38:35.477Z"
   },
   {
    "duration": 141,
    "start_time": "2021-09-26T06:38:35.516Z"
   },
   {
    "duration": 43,
    "start_time": "2021-09-26T06:38:35.659Z"
   },
   {
    "duration": 7,
    "start_time": "2021-09-26T06:38:35.704Z"
   },
   {
    "duration": 9,
    "start_time": "2021-09-26T06:38:35.713Z"
   },
   {
    "duration": 19,
    "start_time": "2021-09-26T06:38:35.745Z"
   },
   {
    "duration": 111,
    "start_time": "2021-09-26T06:38:35.765Z"
   },
   {
    "duration": 16,
    "start_time": "2021-09-26T06:38:35.878Z"
   },
   {
    "duration": 4,
    "start_time": "2021-09-26T06:38:35.899Z"
   },
   {
    "duration": 11,
    "start_time": "2021-09-26T06:38:35.905Z"
   },
   {
    "duration": 39,
    "start_time": "2021-09-26T06:38:35.918Z"
   },
   {
    "duration": 14,
    "start_time": "2021-09-26T06:38:35.959Z"
   },
   {
    "duration": 10,
    "start_time": "2021-09-26T06:38:35.974Z"
   },
   {
    "duration": 93,
    "start_time": "2021-09-26T06:38:35.986Z"
   },
   {
    "duration": -183,
    "start_time": "2021-09-26T06:38:36.264Z"
   },
   {
    "duration": -186,
    "start_time": "2021-09-26T06:38:36.268Z"
   },
   {
    "duration": 12,
    "start_time": "2021-09-26T06:38:56.994Z"
   },
   {
    "duration": 15,
    "start_time": "2021-09-26T06:39:46.848Z"
   },
   {
    "duration": 12,
    "start_time": "2021-09-26T06:39:51.086Z"
   },
   {
    "duration": 1140,
    "start_time": "2021-09-26T06:40:58.462Z"
   },
   {
    "duration": 3,
    "start_time": "2021-09-26T06:40:59.604Z"
   },
   {
    "duration": 301,
    "start_time": "2021-09-26T06:40:59.609Z"
   },
   {
    "duration": 11,
    "start_time": "2021-09-26T06:40:59.912Z"
   },
   {
    "duration": 22,
    "start_time": "2021-09-26T06:40:59.925Z"
   },
   {
    "duration": 23,
    "start_time": "2021-09-26T06:40:59.949Z"
   },
   {
    "duration": 92,
    "start_time": "2021-09-26T06:40:59.974Z"
   },
   {
    "duration": 16,
    "start_time": "2021-09-26T06:41:00.069Z"
   },
   {
    "duration": 10,
    "start_time": "2021-09-26T06:41:00.087Z"
   },
   {
    "duration": 120,
    "start_time": "2021-09-26T06:41:00.098Z"
   },
   {
    "duration": 11,
    "start_time": "2021-09-26T06:41:00.219Z"
   },
   {
    "duration": 120,
    "start_time": "2021-09-26T06:41:00.231Z"
   },
   {
    "duration": 14,
    "start_time": "2021-09-26T06:41:00.353Z"
   },
   {
    "duration": 23,
    "start_time": "2021-09-26T06:41:00.369Z"
   },
   {
    "duration": 99,
    "start_time": "2021-09-26T06:41:00.394Z"
   },
   {
    "duration": 7,
    "start_time": "2021-09-26T06:41:00.495Z"
   },
   {
    "duration": 62,
    "start_time": "2021-09-26T06:41:00.504Z"
   },
   {
    "duration": 13,
    "start_time": "2021-09-26T06:41:00.568Z"
   },
   {
    "duration": 22,
    "start_time": "2021-09-26T06:41:00.583Z"
   },
   {
    "duration": 28,
    "start_time": "2021-09-26T06:41:00.607Z"
   },
   {
    "duration": 78,
    "start_time": "2021-09-26T06:41:00.638Z"
   },
   {
    "duration": 44,
    "start_time": "2021-09-26T06:41:00.718Z"
   },
   {
    "duration": 13,
    "start_time": "2021-09-26T06:41:00.766Z"
   },
   {
    "duration": 20,
    "start_time": "2021-09-26T06:41:00.782Z"
   },
   {
    "duration": 166,
    "start_time": "2021-09-26T06:41:00.804Z"
   },
   {
    "duration": 32,
    "start_time": "2021-09-26T06:41:00.972Z"
   },
   {
    "duration": 339,
    "start_time": "2021-09-26T06:41:01.005Z"
   },
   {
    "duration": 10,
    "start_time": "2021-09-26T06:41:01.346Z"
   },
   {
    "duration": 43,
    "start_time": "2021-09-26T06:41:01.358Z"
   },
   {
    "duration": 37,
    "start_time": "2021-09-26T06:41:01.403Z"
   },
   {
    "duration": 139,
    "start_time": "2021-09-26T06:41:01.442Z"
   },
   {
    "duration": 10,
    "start_time": "2021-09-26T06:41:01.583Z"
   },
   {
    "duration": 35,
    "start_time": "2021-09-26T06:41:01.595Z"
   },
   {
    "duration": 36,
    "start_time": "2021-09-26T06:41:01.632Z"
   },
   {
    "duration": 139,
    "start_time": "2021-09-26T06:41:01.670Z"
   },
   {
    "duration": 136,
    "start_time": "2021-09-26T06:41:01.811Z"
   },
   {
    "duration": 9,
    "start_time": "2021-09-26T06:41:01.948Z"
   },
   {
    "duration": 11,
    "start_time": "2021-09-26T06:41:01.958Z"
   },
   {
    "duration": 34,
    "start_time": "2021-09-26T06:41:01.971Z"
   },
   {
    "duration": 162,
    "start_time": "2021-09-26T06:41:02.008Z"
   },
   {
    "duration": 11,
    "start_time": "2021-09-26T06:41:02.172Z"
   },
   {
    "duration": 46,
    "start_time": "2021-09-26T06:41:02.186Z"
   },
   {
    "duration": 29,
    "start_time": "2021-09-26T06:41:02.234Z"
   },
   {
    "duration": 18,
    "start_time": "2021-09-26T06:41:02.265Z"
   },
   {
    "duration": 47,
    "start_time": "2021-09-26T06:41:02.285Z"
   },
   {
    "duration": 24,
    "start_time": "2021-09-26T06:41:02.333Z"
   },
   {
    "duration": 27,
    "start_time": "2021-09-26T06:41:02.358Z"
   },
   {
    "duration": 14,
    "start_time": "2021-09-26T06:41:02.387Z"
   },
   {
    "duration": 23,
    "start_time": "2021-09-26T06:41:02.403Z"
   },
   {
    "duration": 33,
    "start_time": "2021-09-26T06:41:02.427Z"
   },
   {
    "duration": 43,
    "start_time": "2021-09-26T06:41:02.462Z"
   },
   {
    "duration": 26,
    "start_time": "2021-09-26T06:41:02.507Z"
   },
   {
    "duration": 21,
    "start_time": "2021-09-26T06:41:02.534Z"
   },
   {
    "duration": 26,
    "start_time": "2021-09-26T06:41:02.557Z"
   },
   {
    "duration": 23,
    "start_time": "2021-09-26T06:41:02.584Z"
   },
   {
    "duration": 22,
    "start_time": "2021-09-26T06:41:02.608Z"
   },
   {
    "duration": 28,
    "start_time": "2021-09-26T06:41:02.631Z"
   },
   {
    "duration": 94,
    "start_time": "2021-09-26T06:41:02.661Z"
   },
   {
    "duration": 5,
    "start_time": "2021-09-26T06:41:02.757Z"
   },
   {
    "duration": 51,
    "start_time": "2021-09-26T06:41:02.764Z"
   },
   {
    "duration": 135,
    "start_time": "2021-09-26T06:41:02.817Z"
   },
   {
    "duration": 46,
    "start_time": "2021-09-26T06:41:02.954Z"
   },
   {
    "duration": 7,
    "start_time": "2021-09-26T06:41:03.002Z"
   },
   {
    "duration": 34,
    "start_time": "2021-09-26T06:41:03.011Z"
   },
   {
    "duration": 31,
    "start_time": "2021-09-26T06:41:03.046Z"
   },
   {
    "duration": 102,
    "start_time": "2021-09-26T06:41:03.079Z"
   },
   {
    "duration": 17,
    "start_time": "2021-09-26T06:41:03.183Z"
   },
   {
    "duration": 10,
    "start_time": "2021-09-26T06:41:03.205Z"
   },
   {
    "duration": 28,
    "start_time": "2021-09-26T06:41:03.217Z"
   },
   {
    "duration": 27,
    "start_time": "2021-09-26T06:41:03.247Z"
   },
   {
    "duration": 39,
    "start_time": "2021-09-26T06:41:03.276Z"
   },
   {
    "duration": 22,
    "start_time": "2021-09-26T06:41:03.317Z"
   },
   {
    "duration": 131,
    "start_time": "2021-09-26T06:41:03.341Z"
   },
   {
    "duration": -104,
    "start_time": "2021-09-26T06:41:03.577Z"
   },
   {
    "duration": -108,
    "start_time": "2021-09-26T06:41:03.582Z"
   },
   {
    "duration": 367,
    "start_time": "2021-09-26T06:49:24.696Z"
   },
   {
    "duration": 83,
    "start_time": "2021-09-26T06:50:35.366Z"
   },
   {
    "duration": 7,
    "start_time": "2021-09-26T06:50:45.039Z"
   },
   {
    "duration": 6,
    "start_time": "2021-09-26T06:50:55.842Z"
   },
   {
    "duration": 11,
    "start_time": "2021-09-26T06:52:54.974Z"
   },
   {
    "duration": 6,
    "start_time": "2021-09-26T06:58:12.968Z"
   },
   {
    "duration": 17,
    "start_time": "2021-09-26T07:01:32.054Z"
   },
   {
    "duration": 5,
    "start_time": "2021-09-26T07:03:31.867Z"
   },
   {
    "duration": 264,
    "start_time": "2021-09-26T07:04:06.228Z"
   },
   {
    "duration": 7,
    "start_time": "2021-09-26T07:04:50.164Z"
   },
   {
    "duration": 1742,
    "start_time": "2021-09-26T14:49:22.716Z"
   },
   {
    "duration": 3,
    "start_time": "2021-09-26T14:49:24.460Z"
   },
   {
    "duration": 326,
    "start_time": "2021-09-26T14:49:24.465Z"
   },
   {
    "duration": 14,
    "start_time": "2021-09-26T14:49:24.793Z"
   },
   {
    "duration": 10,
    "start_time": "2021-09-26T14:49:24.809Z"
   },
   {
    "duration": 10,
    "start_time": "2021-09-26T14:49:24.820Z"
   },
   {
    "duration": 79,
    "start_time": "2021-09-26T14:49:24.832Z"
   },
   {
    "duration": 13,
    "start_time": "2021-09-26T14:49:24.914Z"
   },
   {
    "duration": 13,
    "start_time": "2021-09-26T14:49:24.946Z"
   },
   {
    "duration": 114,
    "start_time": "2021-09-26T14:49:24.961Z"
   },
   {
    "duration": 9,
    "start_time": "2021-09-26T14:49:25.077Z"
   },
   {
    "duration": 112,
    "start_time": "2021-09-26T14:49:25.087Z"
   },
   {
    "duration": 10,
    "start_time": "2021-09-26T14:49:25.201Z"
   },
   {
    "duration": 7,
    "start_time": "2021-09-26T14:49:25.213Z"
   },
   {
    "duration": 95,
    "start_time": "2021-09-26T14:49:25.222Z"
   },
   {
    "duration": 7,
    "start_time": "2021-09-26T14:49:25.319Z"
   },
   {
    "duration": 61,
    "start_time": "2021-09-26T14:49:25.328Z"
   },
   {
    "duration": 10,
    "start_time": "2021-09-26T14:49:25.390Z"
   },
   {
    "duration": 44,
    "start_time": "2021-09-26T14:49:25.401Z"
   },
   {
    "duration": 69,
    "start_time": "2021-09-26T14:49:25.448Z"
   },
   {
    "duration": 52,
    "start_time": "2021-09-26T14:49:25.518Z"
   },
   {
    "duration": 13,
    "start_time": "2021-09-26T14:49:25.572Z"
   },
   {
    "duration": 10,
    "start_time": "2021-09-26T14:49:25.589Z"
   },
   {
    "duration": 161,
    "start_time": "2021-09-26T14:49:25.602Z"
   },
   {
    "duration": 27,
    "start_time": "2021-09-26T14:49:25.765Z"
   },
   {
    "duration": 350,
    "start_time": "2021-09-26T14:49:25.794Z"
   },
   {
    "duration": 15,
    "start_time": "2021-09-26T14:49:26.147Z"
   },
   {
    "duration": 10,
    "start_time": "2021-09-26T14:49:26.164Z"
   },
   {
    "duration": 14,
    "start_time": "2021-09-26T14:49:26.176Z"
   },
   {
    "duration": 181,
    "start_time": "2021-09-26T14:49:26.192Z"
   },
   {
    "duration": 9,
    "start_time": "2021-09-26T14:49:26.375Z"
   },
   {
    "duration": 8,
    "start_time": "2021-09-26T14:49:26.385Z"
   },
   {
    "duration": 11,
    "start_time": "2021-09-26T14:49:26.395Z"
   },
   {
    "duration": 171,
    "start_time": "2021-09-26T14:49:26.408Z"
   },
   {
    "duration": 153,
    "start_time": "2021-09-26T14:49:26.581Z"
   },
   {
    "duration": 17,
    "start_time": "2021-09-26T14:49:26.736Z"
   },
   {
    "duration": 9,
    "start_time": "2021-09-26T14:49:26.756Z"
   },
   {
    "duration": 21,
    "start_time": "2021-09-26T14:49:26.767Z"
   },
   {
    "duration": 170,
    "start_time": "2021-09-26T14:49:26.790Z"
   },
   {
    "duration": 9,
    "start_time": "2021-09-26T14:49:26.962Z"
   },
   {
    "duration": 17,
    "start_time": "2021-09-26T14:49:26.973Z"
   },
   {
    "duration": 10,
    "start_time": "2021-09-26T14:49:26.991Z"
   },
   {
    "duration": 7,
    "start_time": "2021-09-26T14:49:27.002Z"
   },
   {
    "duration": 51,
    "start_time": "2021-09-26T14:49:27.011Z"
   },
   {
    "duration": 14,
    "start_time": "2021-09-26T14:49:27.063Z"
   },
   {
    "duration": 10,
    "start_time": "2021-09-26T14:49:27.079Z"
   },
   {
    "duration": 9,
    "start_time": "2021-09-26T14:49:27.091Z"
   },
   {
    "duration": 12,
    "start_time": "2021-09-26T14:49:27.102Z"
   },
   {
    "duration": 32,
    "start_time": "2021-09-26T14:49:27.115Z"
   },
   {
    "duration": 27,
    "start_time": "2021-09-26T14:49:27.150Z"
   },
   {
    "duration": 14,
    "start_time": "2021-09-26T14:49:27.179Z"
   },
   {
    "duration": 12,
    "start_time": "2021-09-26T14:49:27.194Z"
   },
   {
    "duration": 46,
    "start_time": "2021-09-26T14:49:27.208Z"
   },
   {
    "duration": 12,
    "start_time": "2021-09-26T14:49:27.257Z"
   },
   {
    "duration": 22,
    "start_time": "2021-09-26T14:49:27.271Z"
   },
   {
    "duration": 11,
    "start_time": "2021-09-26T14:49:27.295Z"
   },
   {
    "duration": 73,
    "start_time": "2021-09-26T14:49:27.308Z"
   },
   {
    "duration": 6,
    "start_time": "2021-09-26T14:49:27.383Z"
   },
   {
    "duration": 36,
    "start_time": "2021-09-26T14:49:27.390Z"
   },
   {
    "duration": 152,
    "start_time": "2021-09-26T14:49:27.446Z"
   },
   {
    "duration": 59,
    "start_time": "2021-09-26T14:49:27.600Z"
   },
   {
    "duration": 8,
    "start_time": "2021-09-26T14:49:27.661Z"
   },
   {
    "duration": 10,
    "start_time": "2021-09-26T14:49:27.671Z"
   },
   {
    "duration": 13,
    "start_time": "2021-09-26T14:49:27.683Z"
   },
   {
    "duration": 349,
    "start_time": "2021-09-26T14:49:27.697Z"
   },
   {
    "duration": -153,
    "start_time": "2021-09-26T14:49:28.202Z"
   },
   {
    "duration": -158,
    "start_time": "2021-09-26T14:49:28.209Z"
   },
   {
    "duration": -161,
    "start_time": "2021-09-26T14:49:28.214Z"
   },
   {
    "duration": -166,
    "start_time": "2021-09-26T14:49:28.220Z"
   },
   {
    "duration": -169,
    "start_time": "2021-09-26T14:49:28.225Z"
   },
   {
    "duration": -172,
    "start_time": "2021-09-26T14:49:28.230Z"
   },
   {
    "duration": -175,
    "start_time": "2021-09-26T14:49:28.234Z"
   },
   {
    "duration": -177,
    "start_time": "2021-09-26T14:49:28.238Z"
   },
   {
    "duration": -182,
    "start_time": "2021-09-26T14:49:28.244Z"
   },
   {
    "duration": -186,
    "start_time": "2021-09-26T14:49:28.249Z"
   },
   {
    "duration": -189,
    "start_time": "2021-09-26T14:49:28.253Z"
   },
   {
    "duration": -193,
    "start_time": "2021-09-26T14:49:28.258Z"
   },
   {
    "duration": -196,
    "start_time": "2021-09-26T14:49:28.262Z"
   },
   {
    "duration": 14,
    "start_time": "2021-09-26T14:49:58.411Z"
   },
   {
    "duration": 25,
    "start_time": "2021-09-26T14:50:16.919Z"
   },
   {
    "duration": 319,
    "start_time": "2021-09-26T23:57:59.666Z"
   },
   {
    "duration": 1552,
    "start_time": "2021-09-26T23:58:07.488Z"
   },
   {
    "duration": 5,
    "start_time": "2021-09-26T23:58:09.044Z"
   },
   {
    "duration": 435,
    "start_time": "2021-09-26T23:58:09.064Z"
   },
   {
    "duration": 20,
    "start_time": "2021-09-26T23:58:09.502Z"
   },
   {
    "duration": 13,
    "start_time": "2021-09-26T23:58:09.525Z"
   },
   {
    "duration": 23,
    "start_time": "2021-09-26T23:58:09.541Z"
   },
   {
    "duration": 136,
    "start_time": "2021-09-26T23:58:09.567Z"
   },
   {
    "duration": 20,
    "start_time": "2021-09-26T23:58:09.707Z"
   },
   {
    "duration": 36,
    "start_time": "2021-09-26T23:58:09.730Z"
   },
   {
    "duration": 143,
    "start_time": "2021-09-26T23:58:09.769Z"
   },
   {
    "duration": 12,
    "start_time": "2021-09-26T23:58:09.915Z"
   },
   {
    "duration": 167,
    "start_time": "2021-09-26T23:58:09.930Z"
   },
   {
    "duration": 17,
    "start_time": "2021-09-26T23:58:10.099Z"
   },
   {
    "duration": 10,
    "start_time": "2021-09-26T23:58:10.118Z"
   },
   {
    "duration": 144,
    "start_time": "2021-09-26T23:58:10.130Z"
   },
   {
    "duration": 11,
    "start_time": "2021-09-26T23:58:10.276Z"
   },
   {
    "duration": 91,
    "start_time": "2021-09-26T23:58:10.289Z"
   },
   {
    "duration": 16,
    "start_time": "2021-09-26T23:58:10.382Z"
   },
   {
    "duration": 23,
    "start_time": "2021-09-26T23:58:10.401Z"
   },
   {
    "duration": 111,
    "start_time": "2021-09-26T23:58:10.463Z"
   },
   {
    "duration": 51,
    "start_time": "2021-09-26T23:58:10.577Z"
   },
   {
    "duration": 43,
    "start_time": "2021-09-26T23:58:10.631Z"
   },
   {
    "duration": 14,
    "start_time": "2021-09-26T23:58:10.681Z"
   },
   {
    "duration": 228,
    "start_time": "2021-09-26T23:58:10.699Z"
   },
   {
    "duration": 49,
    "start_time": "2021-09-26T23:58:10.930Z"
   },
   {
    "duration": 704,
    "start_time": "2021-09-26T23:58:10.982Z"
   },
   {
    "duration": 12,
    "start_time": "2021-09-26T23:58:11.688Z"
   },
   {
    "duration": 14,
    "start_time": "2021-09-26T23:58:11.703Z"
   },
   {
    "duration": 55,
    "start_time": "2021-09-26T23:58:11.719Z"
   },
   {
    "duration": 249,
    "start_time": "2021-09-26T23:58:11.776Z"
   },
   {
    "duration": 12,
    "start_time": "2021-09-26T23:58:12.027Z"
   },
   {
    "duration": 30,
    "start_time": "2021-09-26T23:58:12.042Z"
   },
   {
    "duration": 17,
    "start_time": "2021-09-26T23:58:12.075Z"
   },
   {
    "duration": 267,
    "start_time": "2021-09-26T23:58:12.094Z"
   },
   {
    "duration": 237,
    "start_time": "2021-09-26T23:58:12.364Z"
   },
   {
    "duration": 12,
    "start_time": "2021-09-26T23:58:12.604Z"
   },
   {
    "duration": 11,
    "start_time": "2021-09-26T23:58:12.619Z"
   },
   {
    "duration": 44,
    "start_time": "2021-09-26T23:58:12.632Z"
   },
   {
    "duration": 266,
    "start_time": "2021-09-26T23:58:12.678Z"
   },
   {
    "duration": 24,
    "start_time": "2021-09-26T23:58:12.946Z"
   },
   {
    "duration": 39,
    "start_time": "2021-09-26T23:58:12.972Z"
   },
   {
    "duration": 15,
    "start_time": "2021-09-26T23:58:13.013Z"
   },
   {
    "duration": 31,
    "start_time": "2021-09-26T23:58:13.031Z"
   },
   {
    "duration": 32,
    "start_time": "2021-09-26T23:58:13.066Z"
   },
   {
    "duration": 22,
    "start_time": "2021-09-26T23:58:13.101Z"
   },
   {
    "duration": 51,
    "start_time": "2021-09-26T23:58:13.125Z"
   },
   {
    "duration": 10,
    "start_time": "2021-09-26T23:58:13.178Z"
   },
   {
    "duration": 10,
    "start_time": "2021-09-26T23:58:13.191Z"
   },
   {
    "duration": 9,
    "start_time": "2021-09-26T23:58:13.204Z"
   },
   {
    "duration": 24,
    "start_time": "2021-09-26T23:58:13.263Z"
   },
   {
    "duration": 21,
    "start_time": "2021-09-26T23:58:13.290Z"
   },
   {
    "duration": 63,
    "start_time": "2021-09-26T23:58:13.314Z"
   },
   {
    "duration": 15,
    "start_time": "2021-09-26T23:58:13.380Z"
   },
   {
    "duration": 11,
    "start_time": "2021-09-26T23:58:13.397Z"
   },
   {
    "duration": 13,
    "start_time": "2021-09-26T23:58:13.410Z"
   },
   {
    "duration": 45,
    "start_time": "2021-09-26T23:58:13.425Z"
   },
   {
    "duration": 92,
    "start_time": "2021-09-26T23:58:13.473Z"
   },
   {
    "duration": 9,
    "start_time": "2021-09-26T23:58:13.568Z"
   },
   {
    "duration": 83,
    "start_time": "2021-09-26T23:58:13.579Z"
   },
   {
    "duration": 224,
    "start_time": "2021-09-26T23:58:13.665Z"
   },
   {
    "duration": 79,
    "start_time": "2021-09-26T23:58:13.891Z"
   },
   {
    "duration": 10,
    "start_time": "2021-09-26T23:58:13.973Z"
   },
   {
    "duration": 28,
    "start_time": "2021-09-26T23:58:13.985Z"
   },
   {
    "duration": 31,
    "start_time": "2021-09-26T23:58:14.015Z"
   },
   {
    "duration": 133,
    "start_time": "2021-09-26T23:58:14.049Z"
   },
   {
    "duration": 27,
    "start_time": "2021-09-26T23:58:14.184Z"
   },
   {
    "duration": 11,
    "start_time": "2021-09-26T23:58:14.214Z"
   },
   {
    "duration": 33,
    "start_time": "2021-09-26T23:58:14.234Z"
   },
   {
    "duration": 27,
    "start_time": "2021-09-26T23:58:14.270Z"
   },
   {
    "duration": 29,
    "start_time": "2021-09-26T23:58:14.300Z"
   },
   {
    "duration": 34,
    "start_time": "2021-09-26T23:58:14.332Z"
   },
   {
    "duration": 49,
    "start_time": "2021-09-26T23:58:14.369Z"
   },
   {
    "duration": 29,
    "start_time": "2021-09-26T23:58:14.421Z"
   },
   {
    "duration": 32,
    "start_time": "2021-09-26T23:58:14.452Z"
   },
   {
    "duration": 417,
    "start_time": "2021-09-26T23:58:14.486Z"
   },
   {
    "duration": -150,
    "start_time": "2021-09-26T23:58:15.056Z"
   },
   {
    "duration": -156,
    "start_time": "2021-09-26T23:58:15.063Z"
   },
   {
    "duration": -158,
    "start_time": "2021-09-26T23:58:15.067Z"
   },
   {
    "duration": 26,
    "start_time": "2021-09-27T00:29:09.625Z"
   },
   {
    "duration": 25,
    "start_time": "2021-09-27T00:30:31.748Z"
   },
   {
    "duration": 5,
    "start_time": "2021-09-27T00:31:49.003Z"
   },
   {
    "duration": 5,
    "start_time": "2021-09-27T00:34:00.098Z"
   },
   {
    "duration": 4,
    "start_time": "2021-09-27T00:34:16.025Z"
   },
   {
    "duration": 27,
    "start_time": "2021-09-27T00:34:40.951Z"
   },
   {
    "duration": 46,
    "start_time": "2021-09-27T00:35:02.022Z"
   },
   {
    "duration": 27,
    "start_time": "2021-09-27T00:35:05.480Z"
   },
   {
    "duration": 49,
    "start_time": "2021-09-27T00:35:24.980Z"
   },
   {
    "duration": 27,
    "start_time": "2021-09-27T00:35:31.615Z"
   },
   {
    "duration": 62,
    "start_time": "2021-09-27T00:36:31.500Z"
   },
   {
    "duration": 27,
    "start_time": "2021-09-27T00:36:34.558Z"
   },
   {
    "duration": 62,
    "start_time": "2021-09-27T00:40:19.312Z"
   },
   {
    "duration": 43,
    "start_time": "2021-09-27T00:40:25.140Z"
   },
   {
    "duration": 28,
    "start_time": "2021-09-27T00:40:39.173Z"
   },
   {
    "duration": 1414,
    "start_time": "2021-09-27T17:16:09.109Z"
   },
   {
    "duration": 3,
    "start_time": "2021-09-27T17:16:10.525Z"
   },
   {
    "duration": 407,
    "start_time": "2021-09-27T17:16:10.531Z"
   },
   {
    "duration": 19,
    "start_time": "2021-09-27T17:16:10.941Z"
   },
   {
    "duration": 19,
    "start_time": "2021-09-27T17:16:10.963Z"
   },
   {
    "duration": 21,
    "start_time": "2021-09-27T17:16:10.985Z"
   },
   {
    "duration": 120,
    "start_time": "2021-09-27T17:16:11.008Z"
   },
   {
    "duration": 18,
    "start_time": "2021-09-27T17:16:11.132Z"
   },
   {
    "duration": 33,
    "start_time": "2021-09-27T17:16:11.153Z"
   },
   {
    "duration": 143,
    "start_time": "2021-09-27T17:16:11.188Z"
   },
   {
    "duration": 12,
    "start_time": "2021-09-27T17:16:11.334Z"
   },
   {
    "duration": 151,
    "start_time": "2021-09-27T17:16:11.348Z"
   },
   {
    "duration": 17,
    "start_time": "2021-09-27T17:16:11.501Z"
   },
   {
    "duration": 11,
    "start_time": "2021-09-27T17:16:11.520Z"
   },
   {
    "duration": 134,
    "start_time": "2021-09-27T17:16:11.534Z"
   },
   {
    "duration": 19,
    "start_time": "2021-09-27T17:16:11.671Z"
   },
   {
    "duration": 58,
    "start_time": "2021-09-27T17:16:11.692Z"
   },
   {
    "duration": 44,
    "start_time": "2021-09-27T17:16:11.752Z"
   },
   {
    "duration": 27,
    "start_time": "2021-09-27T17:16:11.798Z"
   },
   {
    "duration": 119,
    "start_time": "2021-09-27T17:16:11.828Z"
   },
   {
    "duration": 60,
    "start_time": "2021-09-27T17:16:11.950Z"
   },
   {
    "duration": 17,
    "start_time": "2021-09-27T17:16:12.012Z"
   },
   {
    "duration": 15,
    "start_time": "2021-09-27T17:16:12.037Z"
   },
   {
    "duration": 179,
    "start_time": "2021-09-27T17:16:12.055Z"
   },
   {
    "duration": 58,
    "start_time": "2021-09-27T17:16:12.236Z"
   },
   {
    "duration": 562,
    "start_time": "2021-09-27T17:16:12.297Z"
   },
   {
    "duration": 25,
    "start_time": "2021-09-27T17:16:12.862Z"
   },
   {
    "duration": 15,
    "start_time": "2021-09-27T17:16:12.890Z"
   },
   {
    "duration": 21,
    "start_time": "2021-09-27T17:16:12.908Z"
   },
   {
    "duration": 257,
    "start_time": "2021-09-27T17:16:12.931Z"
   },
   {
    "duration": 12,
    "start_time": "2021-09-27T17:16:13.190Z"
   },
   {
    "duration": 11,
    "start_time": "2021-09-27T17:16:13.205Z"
   },
   {
    "duration": 15,
    "start_time": "2021-09-27T17:16:13.219Z"
   },
   {
    "duration": 267,
    "start_time": "2021-09-27T17:16:13.237Z"
   },
   {
    "duration": 234,
    "start_time": "2021-09-27T17:16:13.507Z"
   },
   {
    "duration": 12,
    "start_time": "2021-09-27T17:16:13.744Z"
   },
   {
    "duration": 27,
    "start_time": "2021-09-27T17:16:13.758Z"
   },
   {
    "duration": 15,
    "start_time": "2021-09-27T17:16:13.788Z"
   },
   {
    "duration": 245,
    "start_time": "2021-09-27T17:16:13.805Z"
   },
   {
    "duration": 15,
    "start_time": "2021-09-27T17:16:14.052Z"
   },
   {
    "duration": 25,
    "start_time": "2021-09-27T17:16:14.083Z"
   },
   {
    "duration": 16,
    "start_time": "2021-09-27T17:16:14.111Z"
   },
   {
    "duration": 6,
    "start_time": "2021-09-27T17:16:14.130Z"
   },
   {
    "duration": 68,
    "start_time": "2021-09-27T17:16:14.138Z"
   },
   {
    "duration": 23,
    "start_time": "2021-09-27T17:16:14.208Z"
   },
   {
    "duration": 50,
    "start_time": "2021-09-27T17:16:14.234Z"
   },
   {
    "duration": 9,
    "start_time": "2021-09-27T17:16:14.286Z"
   },
   {
    "duration": 9,
    "start_time": "2021-09-27T17:16:14.298Z"
   },
   {
    "duration": 9,
    "start_time": "2021-09-27T17:16:14.309Z"
   },
   {
    "duration": 71,
    "start_time": "2021-09-27T17:16:14.320Z"
   },
   {
    "duration": 18,
    "start_time": "2021-09-27T17:16:14.394Z"
   },
   {
    "duration": 15,
    "start_time": "2021-09-27T17:16:14.415Z"
   },
   {
    "duration": 52,
    "start_time": "2021-09-27T17:16:14.432Z"
   },
   {
    "duration": 13,
    "start_time": "2021-09-27T17:16:14.487Z"
   },
   {
    "duration": 11,
    "start_time": "2021-09-27T17:16:14.502Z"
   },
   {
    "duration": 15,
    "start_time": "2021-09-27T17:16:14.515Z"
   },
   {
    "duration": 118,
    "start_time": "2021-09-27T17:16:14.533Z"
   },
   {
    "duration": 8,
    "start_time": "2021-09-27T17:16:14.653Z"
   },
   {
    "duration": 59,
    "start_time": "2021-09-27T17:16:14.683Z"
   },
   {
    "duration": 238,
    "start_time": "2021-09-27T17:16:14.745Z"
   },
   {
    "duration": 65,
    "start_time": "2021-09-27T17:16:14.985Z"
   },
   {
    "duration": 34,
    "start_time": "2021-09-27T17:16:15.053Z"
   },
   {
    "duration": 15,
    "start_time": "2021-09-27T17:16:15.090Z"
   },
   {
    "duration": 14,
    "start_time": "2021-09-27T17:16:15.108Z"
   },
   {
    "duration": 11,
    "start_time": "2021-09-27T17:16:15.125Z"
   },
   {
    "duration": 161,
    "start_time": "2021-09-27T17:16:15.138Z"
   },
   {
    "duration": 25,
    "start_time": "2021-09-27T17:16:15.301Z"
   },
   {
    "duration": 26,
    "start_time": "2021-09-27T17:16:15.334Z"
   },
   {
    "duration": 6,
    "start_time": "2021-09-27T17:16:15.383Z"
   },
   {
    "duration": 11,
    "start_time": "2021-09-27T17:16:15.391Z"
   },
   {
    "duration": 10,
    "start_time": "2021-09-27T17:16:15.404Z"
   },
   {
    "duration": 8,
    "start_time": "2021-09-27T17:16:15.416Z"
   },
   {
    "duration": 60,
    "start_time": "2021-09-27T17:16:15.427Z"
   },
   {
    "duration": 24,
    "start_time": "2021-09-27T17:16:15.491Z"
   },
   {
    "duration": 15,
    "start_time": "2021-09-27T17:16:15.518Z"
   },
   {
    "duration": 50,
    "start_time": "2021-09-27T17:16:15.536Z"
   },
   {
    "duration": 389,
    "start_time": "2021-09-27T17:16:15.588Z"
   },
   {
    "duration": -1370,
    "start_time": "2021-09-27T17:16:17.349Z"
   },
   {
    "duration": -1372,
    "start_time": "2021-09-27T17:16:17.353Z"
   },
   {
    "duration": -1376,
    "start_time": "2021-09-27T17:16:17.358Z"
   },
   {
    "duration": 26,
    "start_time": "2021-09-27T17:20:30.824Z"
   },
   {
    "duration": 48,
    "start_time": "2021-09-27T17:22:09.158Z"
   },
   {
    "duration": 27,
    "start_time": "2021-09-27T17:22:12.466Z"
   },
   {
    "duration": 1381,
    "start_time": "2021-09-27T17:22:37.239Z"
   },
   {
    "duration": 3,
    "start_time": "2021-09-27T17:22:38.623Z"
   },
   {
    "duration": 375,
    "start_time": "2021-09-27T17:22:38.629Z"
   },
   {
    "duration": 18,
    "start_time": "2021-09-27T17:22:39.008Z"
   },
   {
    "duration": 23,
    "start_time": "2021-09-27T17:22:39.029Z"
   },
   {
    "duration": 19,
    "start_time": "2021-09-27T17:22:39.054Z"
   },
   {
    "duration": 113,
    "start_time": "2021-09-27T17:22:39.083Z"
   },
   {
    "duration": 19,
    "start_time": "2021-09-27T17:22:39.200Z"
   },
   {
    "duration": 11,
    "start_time": "2021-09-27T17:22:39.224Z"
   },
   {
    "duration": 241,
    "start_time": "2021-09-27T17:22:39.237Z"
   },
   {
    "duration": 20,
    "start_time": "2021-09-27T17:22:39.481Z"
   },
   {
    "duration": 191,
    "start_time": "2021-09-27T17:22:39.505Z"
   },
   {
    "duration": 16,
    "start_time": "2021-09-27T17:22:39.698Z"
   },
   {
    "duration": 10,
    "start_time": "2021-09-27T17:22:39.716Z"
   },
   {
    "duration": 136,
    "start_time": "2021-09-27T17:22:39.728Z"
   },
   {
    "duration": 20,
    "start_time": "2021-09-27T17:22:39.867Z"
   },
   {
    "duration": 56,
    "start_time": "2021-09-27T17:22:39.889Z"
   },
   {
    "duration": 47,
    "start_time": "2021-09-27T17:22:39.948Z"
   },
   {
    "duration": 26,
    "start_time": "2021-09-27T17:22:39.998Z"
   },
   {
    "duration": 121,
    "start_time": "2021-09-27T17:22:40.027Z"
   },
   {
    "duration": 65,
    "start_time": "2021-09-27T17:22:40.151Z"
   },
   {
    "duration": 17,
    "start_time": "2021-09-27T17:22:40.218Z"
   },
   {
    "duration": 13,
    "start_time": "2021-09-27T17:22:40.241Z"
   },
   {
    "duration": 157,
    "start_time": "2021-09-27T17:22:40.282Z"
   },
   {
    "duration": 52,
    "start_time": "2021-09-27T17:22:40.441Z"
   },
   {
    "duration": 543,
    "start_time": "2021-09-27T17:22:40.496Z"
   },
   {
    "duration": 13,
    "start_time": "2021-09-27T17:22:41.041Z"
   },
   {
    "duration": 30,
    "start_time": "2021-09-27T17:22:41.057Z"
   },
   {
    "duration": 18,
    "start_time": "2021-09-27T17:22:41.089Z"
   },
   {
    "duration": 250,
    "start_time": "2021-09-27T17:22:41.109Z"
   },
   {
    "duration": 22,
    "start_time": "2021-09-27T17:22:41.362Z"
   },
   {
    "duration": 16,
    "start_time": "2021-09-27T17:22:41.387Z"
   },
   {
    "duration": 19,
    "start_time": "2021-09-27T17:22:41.406Z"
   },
   {
    "duration": 325,
    "start_time": "2021-09-27T17:22:41.428Z"
   },
   {
    "duration": 226,
    "start_time": "2021-09-27T17:22:41.756Z"
   },
   {
    "duration": 11,
    "start_time": "2021-09-27T17:22:41.985Z"
   },
   {
    "duration": 10,
    "start_time": "2021-09-27T17:22:41.998Z"
   },
   {
    "duration": 21,
    "start_time": "2021-09-27T17:22:42.010Z"
   },
   {
    "duration": 275,
    "start_time": "2021-09-27T17:22:42.033Z"
   },
   {
    "duration": 14,
    "start_time": "2021-09-27T17:22:42.311Z"
   },
   {
    "duration": 36,
    "start_time": "2021-09-27T17:22:42.328Z"
   },
   {
    "duration": 29,
    "start_time": "2021-09-27T17:22:42.366Z"
   },
   {
    "duration": 18,
    "start_time": "2021-09-27T17:22:42.397Z"
   },
   {
    "duration": 41,
    "start_time": "2021-09-27T17:22:42.418Z"
   },
   {
    "duration": 36,
    "start_time": "2021-09-27T17:22:42.461Z"
   },
   {
    "duration": 18,
    "start_time": "2021-09-27T17:22:42.499Z"
   },
   {
    "duration": 27,
    "start_time": "2021-09-27T17:22:42.519Z"
   },
   {
    "duration": 34,
    "start_time": "2021-09-27T17:22:42.549Z"
   },
   {
    "duration": 9,
    "start_time": "2021-09-27T17:22:42.585Z"
   },
   {
    "duration": 23,
    "start_time": "2021-09-27T17:22:42.597Z"
   },
   {
    "duration": 17,
    "start_time": "2021-09-27T17:22:42.623Z"
   },
   {
    "duration": 54,
    "start_time": "2021-09-27T17:22:42.643Z"
   },
   {
    "duration": 16,
    "start_time": "2021-09-27T17:22:42.700Z"
   },
   {
    "duration": 30,
    "start_time": "2021-09-27T17:22:42.718Z"
   },
   {
    "duration": 8,
    "start_time": "2021-09-27T17:22:42.782Z"
   },
   {
    "duration": 17,
    "start_time": "2021-09-27T17:22:42.793Z"
   },
   {
    "duration": 109,
    "start_time": "2021-09-27T17:22:42.813Z"
   },
   {
    "duration": 8,
    "start_time": "2021-09-27T17:22:42.925Z"
   },
   {
    "duration": 77,
    "start_time": "2021-09-27T17:22:42.936Z"
   },
   {
    "duration": 223,
    "start_time": "2021-09-27T17:22:43.016Z"
   },
   {
    "duration": 78,
    "start_time": "2021-09-27T17:22:43.241Z"
   },
   {
    "duration": 11,
    "start_time": "2021-09-27T17:22:43.321Z"
   },
   {
    "duration": 18,
    "start_time": "2021-09-27T17:22:43.335Z"
   },
   {
    "duration": 35,
    "start_time": "2021-09-27T17:22:43.356Z"
   },
   {
    "duration": 16,
    "start_time": "2021-09-27T17:22:43.393Z"
   },
   {
    "duration": 123,
    "start_time": "2021-09-27T17:22:43.411Z"
   },
   {
    "duration": 21,
    "start_time": "2021-09-27T17:22:43.537Z"
   },
   {
    "duration": 27,
    "start_time": "2021-09-27T17:22:43.582Z"
   },
   {
    "duration": 20,
    "start_time": "2021-09-27T17:22:43.611Z"
   },
   {
    "duration": 21,
    "start_time": "2021-09-27T17:22:43.633Z"
   },
   {
    "duration": 22,
    "start_time": "2021-09-27T17:22:43.656Z"
   },
   {
    "duration": 17,
    "start_time": "2021-09-27T17:22:43.680Z"
   },
   {
    "duration": 30,
    "start_time": "2021-09-27T17:22:43.699Z"
   },
   {
    "duration": 38,
    "start_time": "2021-09-27T17:22:43.731Z"
   },
   {
    "duration": 15,
    "start_time": "2021-09-27T17:22:43.771Z"
   },
   {
    "duration": 23,
    "start_time": "2021-09-27T17:22:43.788Z"
   },
   {
    "duration": 347,
    "start_time": "2021-09-27T17:22:43.813Z"
   },
   {
    "duration": -156,
    "start_time": "2021-09-27T17:22:44.319Z"
   },
   {
    "duration": -161,
    "start_time": "2021-09-27T17:22:44.325Z"
   },
   {
    "duration": -165,
    "start_time": "2021-09-27T17:22:44.330Z"
   },
   {
    "duration": 56,
    "start_time": "2021-09-27T17:23:12.906Z"
   },
   {
    "duration": 22,
    "start_time": "2021-09-27T17:23:17.618Z"
   },
   {
    "duration": 23,
    "start_time": "2021-09-27T17:23:29.171Z"
   },
   {
    "duration": 4,
    "start_time": "2021-09-27T17:24:11.601Z"
   },
   {
    "duration": 60,
    "start_time": "2021-09-27T17:24:27.032Z"
   },
   {
    "duration": 25,
    "start_time": "2021-09-27T17:24:31.979Z"
   },
   {
    "duration": 70,
    "start_time": "2021-09-27T17:25:02.071Z"
   },
   {
    "duration": 23,
    "start_time": "2021-09-27T17:25:07.000Z"
   },
   {
    "duration": 70,
    "start_time": "2021-09-27T17:25:38.633Z"
   },
   {
    "duration": 25,
    "start_time": "2021-09-27T17:25:41.341Z"
   },
   {
    "duration": 30,
    "start_time": "2021-09-27T17:27:30.877Z"
   },
   {
    "duration": 25,
    "start_time": "2021-09-27T17:27:48.690Z"
   },
   {
    "duration": 24,
    "start_time": "2021-09-27T17:27:59.460Z"
   },
   {
    "duration": 25,
    "start_time": "2021-09-27T17:28:22.850Z"
   },
   {
    "duration": 1564,
    "start_time": "2021-09-27T19:09:02.272Z"
   },
   {
    "duration": 3,
    "start_time": "2021-09-27T19:09:03.839Z"
   },
   {
    "duration": 371,
    "start_time": "2021-09-27T19:09:03.846Z"
   },
   {
    "duration": 18,
    "start_time": "2021-09-27T19:09:04.219Z"
   },
   {
    "duration": 28,
    "start_time": "2021-09-27T19:09:04.240Z"
   },
   {
    "duration": 15,
    "start_time": "2021-09-27T19:09:04.271Z"
   },
   {
    "duration": 112,
    "start_time": "2021-09-27T19:09:04.289Z"
   },
   {
    "duration": 20,
    "start_time": "2021-09-27T19:09:04.406Z"
   },
   {
    "duration": 15,
    "start_time": "2021-09-27T19:09:04.430Z"
   },
   {
    "duration": 162,
    "start_time": "2021-09-27T19:09:04.447Z"
   },
   {
    "duration": 12,
    "start_time": "2021-09-27T19:09:04.612Z"
   },
   {
    "duration": 146,
    "start_time": "2021-09-27T19:09:04.627Z"
   },
   {
    "duration": 16,
    "start_time": "2021-09-27T19:09:04.783Z"
   },
   {
    "duration": 11,
    "start_time": "2021-09-27T19:09:04.802Z"
   },
   {
    "duration": 132,
    "start_time": "2021-09-27T19:09:04.815Z"
   },
   {
    "duration": 11,
    "start_time": "2021-09-27T19:09:04.949Z"
   },
   {
    "duration": 56,
    "start_time": "2021-09-27T19:09:04.983Z"
   },
   {
    "duration": 44,
    "start_time": "2021-09-27T19:09:05.041Z"
   },
   {
    "duration": 24,
    "start_time": "2021-09-27T19:09:05.087Z"
   },
   {
    "duration": 116,
    "start_time": "2021-09-27T19:09:05.113Z"
   },
   {
    "duration": 64,
    "start_time": "2021-09-27T19:09:05.231Z"
   },
   {
    "duration": 16,
    "start_time": "2021-09-27T19:09:05.297Z"
   },
   {
    "duration": 15,
    "start_time": "2021-09-27T19:09:05.319Z"
   },
   {
    "duration": 183,
    "start_time": "2021-09-27T19:09:05.337Z"
   },
   {
    "duration": 37,
    "start_time": "2021-09-27T19:09:05.523Z"
   },
   {
    "duration": 543,
    "start_time": "2021-09-27T19:09:05.583Z"
   },
   {
    "duration": 12,
    "start_time": "2021-09-27T19:09:06.129Z"
   },
   {
    "duration": 14,
    "start_time": "2021-09-27T19:09:06.143Z"
   },
   {
    "duration": 20,
    "start_time": "2021-09-27T19:09:06.183Z"
   },
   {
    "duration": 239,
    "start_time": "2021-09-27T19:09:06.206Z"
   },
   {
    "duration": 13,
    "start_time": "2021-09-27T19:09:06.448Z"
   },
   {
    "duration": 29,
    "start_time": "2021-09-27T19:09:06.464Z"
   },
   {
    "duration": 18,
    "start_time": "2021-09-27T19:09:06.496Z"
   },
   {
    "duration": 255,
    "start_time": "2021-09-27T19:09:06.516Z"
   },
   {
    "duration": 223,
    "start_time": "2021-09-27T19:09:06.782Z"
   },
   {
    "duration": 14,
    "start_time": "2021-09-27T19:09:07.008Z"
   },
   {
    "duration": 12,
    "start_time": "2021-09-27T19:09:07.025Z"
   },
   {
    "duration": 46,
    "start_time": "2021-09-27T19:09:07.039Z"
   },
   {
    "duration": 254,
    "start_time": "2021-09-27T19:09:07.088Z"
   },
   {
    "duration": 16,
    "start_time": "2021-09-27T19:09:07.344Z"
   },
   {
    "duration": 44,
    "start_time": "2021-09-27T19:09:07.363Z"
   },
   {
    "duration": 17,
    "start_time": "2021-09-27T19:09:07.410Z"
   },
   {
    "duration": 9,
    "start_time": "2021-09-27T19:09:07.430Z"
   },
   {
    "duration": 62,
    "start_time": "2021-09-27T19:09:07.442Z"
   },
   {
    "duration": 22,
    "start_time": "2021-09-27T19:09:07.507Z"
   },
   {
    "duration": 17,
    "start_time": "2021-09-27T19:09:07.532Z"
   },
   {
    "duration": 9,
    "start_time": "2021-09-27T19:09:07.583Z"
   },
   {
    "duration": 15,
    "start_time": "2021-09-27T19:09:07.595Z"
   },
   {
    "duration": 12,
    "start_time": "2021-09-27T19:09:07.612Z"
   },
   {
    "duration": 21,
    "start_time": "2021-09-27T19:09:07.626Z"
   },
   {
    "duration": 22,
    "start_time": "2021-09-27T19:09:07.683Z"
   },
   {
    "duration": 18,
    "start_time": "2021-09-27T19:09:07.708Z"
   },
   {
    "duration": 59,
    "start_time": "2021-09-27T19:09:07.729Z"
   },
   {
    "duration": 13,
    "start_time": "2021-09-27T19:09:07.791Z"
   },
   {
    "duration": 12,
    "start_time": "2021-09-27T19:09:07.807Z"
   },
   {
    "duration": 24,
    "start_time": "2021-09-27T19:09:07.821Z"
   },
   {
    "duration": 75,
    "start_time": "2021-09-27T19:09:07.883Z"
   },
   {
    "duration": 25,
    "start_time": "2021-09-27T19:09:07.961Z"
   },
   {
    "duration": 54,
    "start_time": "2021-09-27T19:09:07.988Z"
   },
   {
    "duration": 225,
    "start_time": "2021-09-27T19:09:08.045Z"
   },
   {
    "duration": 65,
    "start_time": "2021-09-27T19:09:08.272Z"
   },
   {
    "duration": 12,
    "start_time": "2021-09-27T19:09:08.340Z"
   },
   {
    "duration": 36,
    "start_time": "2021-09-27T19:09:08.355Z"
   },
   {
    "duration": 18,
    "start_time": "2021-09-27T19:09:08.394Z"
   },
   {
    "duration": 15,
    "start_time": "2021-09-27T19:09:08.415Z"
   },
   {
    "duration": 166,
    "start_time": "2021-09-27T19:09:08.433Z"
   },
   {
    "duration": 25,
    "start_time": "2021-09-27T19:09:08.601Z"
   },
   {
    "duration": 48,
    "start_time": "2021-09-27T19:09:08.636Z"
   },
   {
    "duration": 24,
    "start_time": "2021-09-27T19:09:08.688Z"
   },
   {
    "duration": 30,
    "start_time": "2021-09-27T19:09:08.714Z"
   },
   {
    "duration": 52,
    "start_time": "2021-09-27T19:09:08.747Z"
   },
   {
    "duration": 8,
    "start_time": "2021-09-27T19:09:08.802Z"
   },
   {
    "duration": 15,
    "start_time": "2021-09-27T19:09:08.812Z"
   },
   {
    "duration": 24,
    "start_time": "2021-09-27T19:09:08.830Z"
   },
   {
    "duration": 19,
    "start_time": "2021-09-27T19:09:08.857Z"
   },
   {
    "duration": 22,
    "start_time": "2021-09-27T19:09:08.883Z"
   },
   {
    "duration": 36,
    "start_time": "2021-09-27T19:09:08.907Z"
   },
   {
    "duration": 14,
    "start_time": "2021-09-27T19:09:08.946Z"
   },
   {
    "duration": 24,
    "start_time": "2021-09-27T19:09:08.962Z"
   },
   {
    "duration": 2162,
    "start_time": "2021-09-27T19:09:08.988Z"
   },
   {
    "duration": -141,
    "start_time": "2021-09-27T19:09:11.293Z"
   },
   {
    "duration": -149,
    "start_time": "2021-09-27T19:09:11.303Z"
   },
   {
    "duration": -151,
    "start_time": "2021-09-27T19:09:11.307Z"
   },
   {
    "duration": 32,
    "start_time": "2021-09-27T19:11:55.824Z"
   },
   {
    "duration": 32,
    "start_time": "2021-09-27T19:12:10.407Z"
   },
   {
    "duration": 31,
    "start_time": "2021-09-27T19:15:20.748Z"
   },
   {
    "duration": 29,
    "start_time": "2021-09-27T19:18:31.502Z"
   },
   {
    "duration": 35,
    "start_time": "2021-09-27T19:19:44.221Z"
   },
   {
    "duration": 30,
    "start_time": "2021-09-27T19:20:54.950Z"
   },
   {
    "duration": 35,
    "start_time": "2021-09-27T19:22:00.621Z"
   },
   {
    "duration": 30,
    "start_time": "2021-09-27T19:22:50.066Z"
   },
   {
    "duration": 27,
    "start_time": "2021-09-27T19:22:57.610Z"
   },
   {
    "duration": 28,
    "start_time": "2021-09-27T19:23:12.722Z"
   },
   {
    "duration": 25,
    "start_time": "2021-09-27T19:23:41.757Z"
   },
   {
    "duration": 11,
    "start_time": "2021-09-27T19:24:23.386Z"
   },
   {
    "duration": 28,
    "start_time": "2021-09-27T19:24:41.222Z"
   },
   {
    "duration": 16,
    "start_time": "2021-09-27T19:26:54.222Z"
   },
   {
    "duration": 27,
    "start_time": "2021-09-27T19:27:28.300Z"
   },
   {
    "duration": 14,
    "start_time": "2021-09-27T19:35:08.502Z"
   },
   {
    "duration": 33,
    "start_time": "2021-09-27T19:37:25.986Z"
   },
   {
    "duration": 14,
    "start_time": "2021-09-27T19:39:10.823Z"
   },
   {
    "duration": 31,
    "start_time": "2021-09-27T19:40:49.065Z"
   },
   {
    "duration": 25,
    "start_time": "2021-09-27T19:40:52.543Z"
   },
   {
    "duration": 23,
    "start_time": "2021-09-27T19:41:06.826Z"
   },
   {
    "duration": 21,
    "start_time": "2021-09-27T19:41:19.486Z"
   },
   {
    "duration": 22,
    "start_time": "2021-09-27T19:41:30.277Z"
   },
   {
    "duration": 25,
    "start_time": "2021-09-27T19:41:51.798Z"
   },
   {
    "duration": 33,
    "start_time": "2021-09-27T19:42:05.876Z"
   },
   {
    "duration": 10,
    "start_time": "2021-09-27T19:54:04.972Z"
   },
   {
    "duration": 5971,
    "start_time": "2021-09-27T19:54:23.334Z"
   },
   {
    "duration": 4780,
    "start_time": "2021-09-27T19:54:44.977Z"
   },
   {
    "duration": 77,
    "start_time": "2021-09-27T19:55:00.243Z"
   },
   {
    "duration": 6260,
    "start_time": "2021-09-27T19:55:24.496Z"
   },
   {
    "duration": 101,
    "start_time": "2021-09-27T19:55:51.829Z"
   },
   {
    "duration": 245,
    "start_time": "2021-09-27T19:56:07.340Z"
   },
   {
    "duration": 278,
    "start_time": "2021-09-27T19:56:20.822Z"
   },
   {
    "duration": 301,
    "start_time": "2021-09-27T19:56:31.056Z"
   },
   {
    "duration": 33,
    "start_time": "2021-09-27T19:57:16.294Z"
   },
   {
    "duration": 74,
    "start_time": "2021-09-27T19:59:12.697Z"
   },
   {
    "duration": 37,
    "start_time": "2021-09-27T19:59:19.713Z"
   },
   {
    "duration": 6,
    "start_time": "2021-09-27T20:00:06.712Z"
   },
   {
    "duration": 7,
    "start_time": "2021-09-27T20:00:37.750Z"
   },
   {
    "duration": 21,
    "start_time": "2021-09-27T20:01:09.399Z"
   },
   {
    "duration": 19,
    "start_time": "2021-09-27T20:01:49.142Z"
   },
   {
    "duration": 17,
    "start_time": "2021-09-27T20:02:18.812Z"
   },
   {
    "duration": 26,
    "start_time": "2021-09-27T20:03:07.985Z"
   },
   {
    "duration": 23,
    "start_time": "2021-09-27T20:03:20.857Z"
   },
   {
    "duration": 6,
    "start_time": "2021-09-27T20:04:12.577Z"
   },
   {
    "duration": 52,
    "start_time": "2021-09-27T20:06:11.022Z"
   },
   {
    "duration": 26,
    "start_time": "2021-09-27T20:06:24.603Z"
   },
   {
    "duration": 21,
    "start_time": "2021-09-27T20:06:33.959Z"
   },
   {
    "duration": 58,
    "start_time": "2021-09-27T20:07:26.741Z"
   },
   {
    "duration": 50,
    "start_time": "2021-09-27T20:07:55.069Z"
   },
   {
    "duration": 26,
    "start_time": "2021-09-27T20:08:17.324Z"
   },
   {
    "duration": 23,
    "start_time": "2021-09-27T20:08:21.986Z"
   },
   {
    "duration": 1430,
    "start_time": "2021-09-27T20:10:02.110Z"
   },
   {
    "duration": 3,
    "start_time": "2021-09-27T20:10:03.543Z"
   },
   {
    "duration": 368,
    "start_time": "2021-09-27T20:10:03.549Z"
   },
   {
    "duration": 19,
    "start_time": "2021-09-27T20:10:03.920Z"
   },
   {
    "duration": 14,
    "start_time": "2021-09-27T20:10:03.941Z"
   },
   {
    "duration": 18,
    "start_time": "2021-09-27T20:10:03.957Z"
   },
   {
    "duration": 118,
    "start_time": "2021-09-27T20:10:03.982Z"
   },
   {
    "duration": 18,
    "start_time": "2021-09-27T20:10:04.104Z"
   },
   {
    "duration": 11,
    "start_time": "2021-09-27T20:10:04.124Z"
   },
   {
    "duration": 158,
    "start_time": "2021-09-27T20:10:04.138Z"
   },
   {
    "duration": 12,
    "start_time": "2021-09-27T20:10:04.298Z"
   },
   {
    "duration": 151,
    "start_time": "2021-09-27T20:10:04.312Z"
   },
   {
    "duration": 25,
    "start_time": "2021-09-27T20:10:04.465Z"
   },
   {
    "duration": 11,
    "start_time": "2021-09-27T20:10:04.492Z"
   },
   {
    "duration": 126,
    "start_time": "2021-09-27T20:10:04.506Z"
   },
   {
    "duration": 11,
    "start_time": "2021-09-27T20:10:04.635Z"
   },
   {
    "duration": 81,
    "start_time": "2021-09-27T20:10:04.649Z"
   },
   {
    "duration": 16,
    "start_time": "2021-09-27T20:10:04.732Z"
   },
   {
    "duration": 55,
    "start_time": "2021-09-27T20:10:04.750Z"
   },
   {
    "duration": 118,
    "start_time": "2021-09-27T20:10:04.807Z"
   },
   {
    "duration": 61,
    "start_time": "2021-09-27T20:10:04.928Z"
   },
   {
    "duration": 17,
    "start_time": "2021-09-27T20:10:04.992Z"
   },
   {
    "duration": 15,
    "start_time": "2021-09-27T20:10:05.016Z"
   },
   {
    "duration": 201,
    "start_time": "2021-09-27T20:10:05.035Z"
   },
   {
    "duration": 48,
    "start_time": "2021-09-27T20:10:05.239Z"
   },
   {
    "duration": 538,
    "start_time": "2021-09-27T20:10:05.289Z"
   },
   {
    "duration": 12,
    "start_time": "2021-09-27T20:10:05.830Z"
   },
   {
    "duration": 14,
    "start_time": "2021-09-27T20:10:05.844Z"
   },
   {
    "duration": 41,
    "start_time": "2021-09-27T20:10:05.860Z"
   },
   {
    "duration": 240,
    "start_time": "2021-09-27T20:10:05.904Z"
   },
   {
    "duration": 12,
    "start_time": "2021-09-27T20:10:06.147Z"
   },
   {
    "duration": 27,
    "start_time": "2021-09-27T20:10:06.162Z"
   },
   {
    "duration": 15,
    "start_time": "2021-09-27T20:10:06.191Z"
   },
   {
    "duration": 250,
    "start_time": "2021-09-27T20:10:06.208Z"
   },
   {
    "duration": 230,
    "start_time": "2021-09-27T20:10:06.460Z"
   },
   {
    "duration": 12,
    "start_time": "2021-09-27T20:10:06.692Z"
   },
   {
    "duration": 10,
    "start_time": "2021-09-27T20:10:06.707Z"
   },
   {
    "duration": 15,
    "start_time": "2021-09-27T20:10:06.720Z"
   },
   {
    "duration": 299,
    "start_time": "2021-09-27T20:10:06.737Z"
   },
   {
    "duration": 16,
    "start_time": "2021-09-27T20:10:07.039Z"
   },
   {
    "duration": 47,
    "start_time": "2021-09-27T20:10:07.057Z"
   },
   {
    "duration": 15,
    "start_time": "2021-09-27T20:10:07.106Z"
   },
   {
    "duration": 9,
    "start_time": "2021-09-27T20:10:07.123Z"
   },
   {
    "duration": 58,
    "start_time": "2021-09-27T20:10:07.134Z"
   },
   {
    "duration": 23,
    "start_time": "2021-09-27T20:10:07.195Z"
   },
   {
    "duration": 18,
    "start_time": "2021-09-27T20:10:07.220Z"
   },
   {
    "duration": 49,
    "start_time": "2021-09-27T20:10:07.240Z"
   },
   {
    "duration": 11,
    "start_time": "2021-09-27T20:10:07.291Z"
   },
   {
    "duration": 8,
    "start_time": "2021-09-27T20:10:07.305Z"
   },
   {
    "duration": 21,
    "start_time": "2021-09-27T20:10:07.316Z"
   },
   {
    "duration": 60,
    "start_time": "2021-09-27T20:10:07.339Z"
   },
   {
    "duration": 16,
    "start_time": "2021-09-27T20:10:07.401Z"
   },
   {
    "duration": 15,
    "start_time": "2021-09-27T20:10:07.419Z"
   },
   {
    "duration": 50,
    "start_time": "2021-09-27T20:10:07.437Z"
   },
   {
    "duration": 9,
    "start_time": "2021-09-27T20:10:07.490Z"
   },
   {
    "duration": 12,
    "start_time": "2021-09-27T20:10:07.502Z"
   },
   {
    "duration": 113,
    "start_time": "2021-09-27T20:10:07.517Z"
   },
   {
    "duration": 8,
    "start_time": "2021-09-27T20:10:07.633Z"
   },
   {
    "duration": 77,
    "start_time": "2021-09-27T20:10:07.644Z"
   },
   {
    "duration": 220,
    "start_time": "2021-09-27T20:10:07.724Z"
   },
   {
    "duration": 81,
    "start_time": "2021-09-27T20:10:07.946Z"
   },
   {
    "duration": 11,
    "start_time": "2021-09-27T20:10:08.029Z"
   },
   {
    "duration": 14,
    "start_time": "2021-09-27T20:10:08.043Z"
   },
   {
    "duration": 166,
    "start_time": "2021-09-27T20:10:08.059Z"
   },
   {
    "duration": 17,
    "start_time": "2021-09-27T20:10:08.227Z"
   },
   {
    "duration": 39,
    "start_time": "2021-09-27T20:10:08.247Z"
   },
   {
    "duration": 19,
    "start_time": "2021-09-27T20:10:08.288Z"
   },
   {
    "duration": 20,
    "start_time": "2021-09-27T20:10:08.316Z"
   },
   {
    "duration": 62,
    "start_time": "2021-09-27T20:10:08.340Z"
   },
   {
    "duration": 12,
    "start_time": "2021-09-27T20:10:08.404Z"
   },
   {
    "duration": 77,
    "start_time": "2021-09-27T20:10:08.419Z"
   },
   {
    "duration": 6,
    "start_time": "2021-09-27T20:10:08.498Z"
   },
   {
    "duration": 26,
    "start_time": "2021-09-27T20:10:08.507Z"
   },
   {
    "duration": 49,
    "start_time": "2021-09-27T20:10:08.536Z"
   },
   {
    "duration": 16,
    "start_time": "2021-09-27T20:10:08.588Z"
   },
   {
    "duration": 89,
    "start_time": "2021-09-27T20:10:08.606Z"
   },
   {
    "duration": -163,
    "start_time": "2021-09-27T20:10:08.861Z"
   },
   {
    "duration": -287,
    "start_time": "2021-09-27T20:10:08.986Z"
   },
   {
    "duration": -297,
    "start_time": "2021-09-27T20:10:08.997Z"
   },
   {
    "duration": -307,
    "start_time": "2021-09-27T20:10:09.008Z"
   },
   {
    "duration": -320,
    "start_time": "2021-09-27T20:10:09.023Z"
   },
   {
    "duration": -323,
    "start_time": "2021-09-27T20:10:09.027Z"
   },
   {
    "duration": -327,
    "start_time": "2021-09-27T20:10:09.032Z"
   },
   {
    "duration": -331,
    "start_time": "2021-09-27T20:10:09.037Z"
   },
   {
    "duration": -341,
    "start_time": "2021-09-27T20:10:09.048Z"
   },
   {
    "duration": -349,
    "start_time": "2021-09-27T20:10:09.058Z"
   },
   {
    "duration": 19,
    "start_time": "2021-09-27T20:12:53.720Z"
   },
   {
    "duration": 19,
    "start_time": "2021-09-27T20:13:05.476Z"
   },
   {
    "duration": 27,
    "start_time": "2021-09-27T20:14:33.676Z"
   },
   {
    "duration": 23,
    "start_time": "2021-09-27T20:14:55.475Z"
   },
   {
    "duration": 47,
    "start_time": "2021-09-27T20:15:20.323Z"
   },
   {
    "duration": 23,
    "start_time": "2021-09-27T20:15:25.102Z"
   },
   {
    "duration": 23,
    "start_time": "2021-09-27T20:15:30.760Z"
   },
   {
    "duration": 51,
    "start_time": "2021-09-27T20:16:14.686Z"
   },
   {
    "duration": 102,
    "start_time": "2021-09-27T20:25:51.984Z"
   },
   {
    "duration": 22,
    "start_time": "2021-09-27T20:28:01.817Z"
   },
   {
    "duration": 25,
    "start_time": "2021-09-27T20:28:20.038Z"
   },
   {
    "duration": 36,
    "start_time": "2021-09-27T20:28:37.428Z"
   },
   {
    "duration": 38,
    "start_time": "2021-09-27T20:28:47.891Z"
   },
   {
    "duration": 32,
    "start_time": "2021-09-27T20:29:39.340Z"
   },
   {
    "duration": 37,
    "start_time": "2021-09-27T20:29:40.705Z"
   },
   {
    "duration": 25,
    "start_time": "2021-09-27T20:29:53.448Z"
   },
   {
    "duration": 49,
    "start_time": "2021-09-27T20:30:03.473Z"
   },
   {
    "duration": 49,
    "start_time": "2021-09-27T20:30:23.972Z"
   },
   {
    "duration": 40,
    "start_time": "2021-09-27T20:34:34.133Z"
   },
   {
    "duration": 19,
    "start_time": "2021-09-27T20:35:10.230Z"
   },
   {
    "duration": 22,
    "start_time": "2021-09-27T20:35:18.334Z"
   },
   {
    "duration": 26,
    "start_time": "2021-09-27T20:35:23.578Z"
   },
   {
    "duration": 37,
    "start_time": "2021-09-27T20:37:01.419Z"
   },
   {
    "duration": 11,
    "start_time": "2021-09-27T20:37:16.702Z"
   },
   {
    "duration": 41,
    "start_time": "2021-09-27T20:37:36.519Z"
   },
   {
    "duration": 42,
    "start_time": "2021-09-27T20:37:51.282Z"
   },
   {
    "duration": 40,
    "start_time": "2021-09-27T20:38:07.216Z"
   },
   {
    "duration": 35,
    "start_time": "2021-09-27T20:38:33.859Z"
   },
   {
    "duration": 31,
    "start_time": "2021-09-27T20:43:23.804Z"
   },
   {
    "duration": 27,
    "start_time": "2021-09-27T20:43:43.971Z"
   },
   {
    "duration": 20,
    "start_time": "2021-09-27T20:43:57.444Z"
   },
   {
    "duration": 19,
    "start_time": "2021-09-27T20:46:12.805Z"
   },
   {
    "duration": 28,
    "start_time": "2021-09-27T20:46:21.557Z"
   },
   {
    "duration": 96,
    "start_time": "2021-09-27T20:47:37.244Z"
   },
   {
    "duration": 145,
    "start_time": "2021-09-27T20:48:09.957Z"
   },
   {
    "duration": 104,
    "start_time": "2021-09-27T20:48:18.787Z"
   },
   {
    "duration": 97,
    "start_time": "2021-09-27T20:48:51.966Z"
   },
   {
    "duration": 98,
    "start_time": "2021-09-27T20:50:32.002Z"
   },
   {
    "duration": 108,
    "start_time": "2021-09-27T20:51:20.251Z"
   },
   {
    "duration": 103,
    "start_time": "2021-09-27T20:52:05.691Z"
   },
   {
    "duration": 99,
    "start_time": "2021-09-27T20:52:13.225Z"
   },
   {
    "duration": 98,
    "start_time": "2021-09-27T20:52:21.175Z"
   },
   {
    "duration": 117,
    "start_time": "2021-09-27T20:53:35.974Z"
   },
   {
    "duration": 137,
    "start_time": "2021-09-27T20:54:31.540Z"
   },
   {
    "duration": 21,
    "start_time": "2021-09-27T20:55:58.364Z"
   },
   {
    "duration": 97,
    "start_time": "2021-09-27T20:56:32.576Z"
   },
   {
    "duration": 99,
    "start_time": "2021-09-27T20:56:45.967Z"
   },
   {
    "duration": 30,
    "start_time": "2021-09-27T20:59:20.476Z"
   },
   {
    "duration": 23,
    "start_time": "2021-09-27T20:59:53.626Z"
   },
   {
    "duration": 13,
    "start_time": "2021-09-27T21:02:36.631Z"
   },
   {
    "duration": 37,
    "start_time": "2021-09-27T21:03:55.636Z"
   },
   {
    "duration": 57,
    "start_time": "2021-09-27T21:07:23.643Z"
   },
   {
    "duration": 35,
    "start_time": "2021-09-27T21:08:41.658Z"
   },
   {
    "duration": 34,
    "start_time": "2021-09-27T21:09:36.557Z"
   },
   {
    "duration": 34,
    "start_time": "2021-09-27T21:10:17.318Z"
   },
   {
    "duration": 32,
    "start_time": "2021-09-27T21:10:46.748Z"
   },
   {
    "duration": 15,
    "start_time": "2021-09-27T21:11:18.710Z"
   },
   {
    "duration": 47,
    "start_time": "2021-09-27T21:13:08.296Z"
   },
   {
    "duration": 46,
    "start_time": "2021-09-27T21:13:58.283Z"
   },
   {
    "duration": 30,
    "start_time": "2021-09-27T21:14:18.154Z"
   },
   {
    "duration": 30,
    "start_time": "2021-09-27T21:15:35.662Z"
   },
   {
    "duration": 29,
    "start_time": "2021-09-27T21:16:55.651Z"
   },
   {
    "duration": 31,
    "start_time": "2021-09-27T21:17:39.573Z"
   },
   {
    "duration": 29,
    "start_time": "2021-09-27T21:18:09.137Z"
   },
   {
    "duration": 31,
    "start_time": "2021-09-27T21:19:07.425Z"
   },
   {
    "duration": 30,
    "start_time": "2021-09-27T21:19:08.571Z"
   },
   {
    "duration": 413,
    "start_time": "2021-09-27T21:26:01.040Z"
   },
   {
    "duration": 96,
    "start_time": "2021-09-27T21:26:10.572Z"
   },
   {
    "duration": 84,
    "start_time": "2021-09-27T21:27:05.592Z"
   },
   {
    "duration": 78,
    "start_time": "2021-09-27T21:27:46.766Z"
   },
   {
    "duration": 76,
    "start_time": "2021-09-27T21:27:57.241Z"
   },
   {
    "duration": 6,
    "start_time": "2021-09-27T21:28:21.720Z"
   },
   {
    "duration": 21,
    "start_time": "2021-09-27T21:28:33.038Z"
   },
   {
    "duration": 296,
    "start_time": "2021-09-27T21:29:45.261Z"
   },
   {
    "duration": 25,
    "start_time": "2021-09-27T21:30:29.086Z"
   },
   {
    "duration": 5530,
    "start_time": "2021-09-27T21:30:55.472Z"
   },
   {
    "duration": 6,
    "start_time": "2021-09-27T21:31:59.822Z"
   },
   {
    "duration": 280,
    "start_time": "2021-09-27T21:33:38.892Z"
   },
   {
    "duration": 226,
    "start_time": "2021-09-27T21:33:57.392Z"
   },
   {
    "duration": 12,
    "start_time": "2021-09-27T21:34:04.469Z"
   },
   {
    "duration": 6,
    "start_time": "2021-09-27T21:34:15.558Z"
   },
   {
    "duration": 99,
    "start_time": "2021-09-27T21:34:28.898Z"
   },
   {
    "duration": 5223,
    "start_time": "2021-09-27T21:34:44.917Z"
   },
   {
    "duration": 27,
    "start_time": "2021-09-27T21:35:27.208Z"
   },
   {
    "duration": 7,
    "start_time": "2021-09-27T21:35:44.926Z"
   },
   {
    "duration": 7,
    "start_time": "2021-09-27T21:36:12.194Z"
   },
   {
    "duration": 11,
    "start_time": "2021-09-27T21:41:41.851Z"
   },
   {
    "duration": 20,
    "start_time": "2021-09-27T21:41:51.516Z"
   },
   {
    "duration": 17,
    "start_time": "2021-09-27T21:42:54.985Z"
   },
   {
    "duration": 29,
    "start_time": "2021-09-27T21:43:20.527Z"
   },
   {
    "duration": 29,
    "start_time": "2021-09-27T21:45:26.080Z"
   },
   {
    "duration": 306,
    "start_time": "2021-09-27T21:50:04.176Z"
   },
   {
    "duration": 20,
    "start_time": "2021-09-27T21:50:29.616Z"
   },
   {
    "duration": 246,
    "start_time": "2021-09-27T21:50:47.467Z"
   },
   {
    "duration": 21,
    "start_time": "2021-09-27T21:51:52.725Z"
   },
   {
    "duration": 20,
    "start_time": "2021-09-27T21:52:13.857Z"
   },
   {
    "duration": 391,
    "start_time": "2021-09-27T21:57:36.073Z"
   },
   {
    "duration": 8,
    "start_time": "2021-09-27T22:00:06.732Z"
   },
   {
    "duration": 47,
    "start_time": "2021-09-27T22:00:14.448Z"
   },
   {
    "duration": 47,
    "start_time": "2021-09-27T22:02:45.910Z"
   },
   {
    "duration": 48,
    "start_time": "2021-09-27T22:03:35.572Z"
   },
   {
    "duration": 53,
    "start_time": "2021-09-27T22:04:44.771Z"
   },
   {
    "duration": 52,
    "start_time": "2021-09-27T22:05:22.141Z"
   },
   {
    "duration": 58,
    "start_time": "2021-09-27T22:05:54.837Z"
   },
   {
    "duration": 56,
    "start_time": "2021-09-27T22:06:35.539Z"
   },
   {
    "duration": 1383,
    "start_time": "2021-09-27T22:06:58.137Z"
   },
   {
    "duration": 3,
    "start_time": "2021-09-27T22:06:59.523Z"
   },
   {
    "duration": 366,
    "start_time": "2021-09-27T22:06:59.529Z"
   },
   {
    "duration": 19,
    "start_time": "2021-09-27T22:06:59.898Z"
   },
   {
    "duration": 14,
    "start_time": "2021-09-27T22:06:59.920Z"
   },
   {
    "duration": 12,
    "start_time": "2021-09-27T22:06:59.936Z"
   },
   {
    "duration": 152,
    "start_time": "2021-09-27T22:06:59.950Z"
   },
   {
    "duration": 18,
    "start_time": "2021-09-27T22:07:00.105Z"
   },
   {
    "duration": 10,
    "start_time": "2021-09-27T22:07:00.126Z"
   },
   {
    "duration": 170,
    "start_time": "2021-09-27T22:07:00.139Z"
   },
   {
    "duration": 11,
    "start_time": "2021-09-27T22:07:00.311Z"
   },
   {
    "duration": 142,
    "start_time": "2021-09-27T22:07:00.325Z"
   },
   {
    "duration": 19,
    "start_time": "2021-09-27T22:07:00.470Z"
   },
   {
    "duration": 9,
    "start_time": "2021-09-27T22:07:00.491Z"
   },
   {
    "duration": 127,
    "start_time": "2021-09-27T22:07:00.502Z"
   },
   {
    "duration": 11,
    "start_time": "2021-09-27T22:07:00.631Z"
   },
   {
    "duration": 83,
    "start_time": "2021-09-27T22:07:00.645Z"
   },
   {
    "duration": 16,
    "start_time": "2021-09-27T22:07:00.731Z"
   },
   {
    "duration": 51,
    "start_time": "2021-09-27T22:07:00.749Z"
   },
   {
    "duration": 110,
    "start_time": "2021-09-27T22:07:00.802Z"
   },
   {
    "duration": 47,
    "start_time": "2021-09-27T22:07:00.914Z"
   },
   {
    "duration": 17,
    "start_time": "2021-09-27T22:07:00.983Z"
   },
   {
    "duration": 16,
    "start_time": "2021-09-27T22:07:01.006Z"
   },
   {
    "duration": 223,
    "start_time": "2021-09-27T22:07:01.026Z"
   },
   {
    "duration": 46,
    "start_time": "2021-09-27T22:07:01.251Z"
   },
   {
    "duration": 598,
    "start_time": "2021-09-27T22:07:01.299Z"
   },
   {
    "duration": 12,
    "start_time": "2021-09-27T22:07:01.900Z"
   },
   {
    "duration": 21,
    "start_time": "2021-09-27T22:07:01.914Z"
   },
   {
    "duration": 20,
    "start_time": "2021-09-27T22:07:01.937Z"
   },
   {
    "duration": 235,
    "start_time": "2021-09-27T22:07:01.983Z"
   },
   {
    "duration": 12,
    "start_time": "2021-09-27T22:07:02.220Z"
   },
   {
    "duration": 11,
    "start_time": "2021-09-27T22:07:02.235Z"
   },
   {
    "duration": 41,
    "start_time": "2021-09-27T22:07:02.249Z"
   },
   {
    "duration": 233,
    "start_time": "2021-09-27T22:07:02.293Z"
   },
   {
    "duration": 222,
    "start_time": "2021-09-27T22:07:02.530Z"
   },
   {
    "duration": 31,
    "start_time": "2021-09-27T22:07:02.755Z"
   },
   {
    "duration": 12,
    "start_time": "2021-09-27T22:07:02.789Z"
   },
   {
    "duration": 25,
    "start_time": "2021-09-27T22:07:02.804Z"
   },
   {
    "duration": 263,
    "start_time": "2021-09-27T22:07:02.832Z"
   },
   {
    "duration": 16,
    "start_time": "2021-09-27T22:07:03.098Z"
   },
   {
    "duration": 47,
    "start_time": "2021-09-27T22:07:03.117Z"
   },
   {
    "duration": 30,
    "start_time": "2021-09-27T22:07:03.167Z"
   },
   {
    "duration": 18,
    "start_time": "2021-09-27T22:07:03.200Z"
   },
   {
    "duration": 32,
    "start_time": "2021-09-27T22:07:03.220Z"
   },
   {
    "duration": 45,
    "start_time": "2021-09-27T22:07:03.255Z"
   },
   {
    "duration": 20,
    "start_time": "2021-09-27T22:07:03.303Z"
   },
   {
    "duration": 11,
    "start_time": "2021-09-27T22:07:03.326Z"
   },
   {
    "duration": 11,
    "start_time": "2021-09-27T22:07:03.383Z"
   },
   {
    "duration": 10,
    "start_time": "2021-09-27T22:07:03.397Z"
   },
   {
    "duration": 25,
    "start_time": "2021-09-27T22:07:03.410Z"
   },
   {
    "duration": 61,
    "start_time": "2021-09-27T22:07:03.437Z"
   },
   {
    "duration": 14,
    "start_time": "2021-09-27T22:07:03.501Z"
   },
   {
    "duration": 17,
    "start_time": "2021-09-27T22:07:03.517Z"
   },
   {
    "duration": 54,
    "start_time": "2021-09-27T22:07:03.537Z"
   },
   {
    "duration": 10,
    "start_time": "2021-09-27T22:07:03.593Z"
   },
   {
    "duration": 17,
    "start_time": "2021-09-27T22:07:03.605Z"
   },
   {
    "duration": 98,
    "start_time": "2021-09-27T22:07:03.624Z"
   },
   {
    "duration": 8,
    "start_time": "2021-09-27T22:07:03.725Z"
   },
   {
    "duration": 78,
    "start_time": "2021-09-27T22:07:03.735Z"
   },
   {
    "duration": 212,
    "start_time": "2021-09-27T22:07:03.815Z"
   },
   {
    "duration": 80,
    "start_time": "2021-09-27T22:07:04.030Z"
   },
   {
    "duration": 12,
    "start_time": "2021-09-27T22:07:04.113Z"
   },
   {
    "duration": 18,
    "start_time": "2021-09-27T22:07:04.128Z"
   },
   {
    "duration": 357,
    "start_time": "2021-09-27T22:07:04.149Z"
   },
   {
    "duration": -8539,
    "start_time": "2021-09-27T22:07:13.048Z"
   },
   {
    "duration": -8561,
    "start_time": "2021-09-27T22:07:13.071Z"
   },
   {
    "duration": -8569,
    "start_time": "2021-09-27T22:07:13.081Z"
   },
   {
    "duration": -8577,
    "start_time": "2021-09-27T22:07:13.090Z"
   },
   {
    "duration": -8585,
    "start_time": "2021-09-27T22:07:13.099Z"
   },
   {
    "duration": -8596,
    "start_time": "2021-09-27T22:07:13.111Z"
   },
   {
    "duration": -9036,
    "start_time": "2021-09-27T22:07:13.553Z"
   },
   {
    "duration": -9047,
    "start_time": "2021-09-27T22:07:13.565Z"
   },
   {
    "duration": -9052,
    "start_time": "2021-09-27T22:07:13.571Z"
   },
   {
    "duration": -9056,
    "start_time": "2021-09-27T22:07:13.576Z"
   },
   {
    "duration": -9059,
    "start_time": "2021-09-27T22:07:13.580Z"
   },
   {
    "duration": -9062,
    "start_time": "2021-09-27T22:07:13.584Z"
   },
   {
    "duration": -9065,
    "start_time": "2021-09-27T22:07:13.589Z"
   },
   {
    "duration": -9069,
    "start_time": "2021-09-27T22:07:13.594Z"
   },
   {
    "duration": -9073,
    "start_time": "2021-09-27T22:07:13.599Z"
   },
   {
    "duration": -9076,
    "start_time": "2021-09-27T22:07:13.603Z"
   },
   {
    "duration": 1395,
    "start_time": "2021-09-27T22:08:23.433Z"
   },
   {
    "duration": 3,
    "start_time": "2021-09-27T22:08:24.831Z"
   },
   {
    "duration": 370,
    "start_time": "2021-09-27T22:08:24.837Z"
   },
   {
    "duration": 19,
    "start_time": "2021-09-27T22:08:25.210Z"
   },
   {
    "duration": 14,
    "start_time": "2021-09-27T22:08:25.232Z"
   },
   {
    "duration": 16,
    "start_time": "2021-09-27T22:08:25.248Z"
   },
   {
    "duration": 115,
    "start_time": "2021-09-27T22:08:25.282Z"
   },
   {
    "duration": 19,
    "start_time": "2021-09-27T22:08:25.401Z"
   },
   {
    "duration": 12,
    "start_time": "2021-09-27T22:08:25.423Z"
   },
   {
    "duration": 168,
    "start_time": "2021-09-27T22:08:25.437Z"
   },
   {
    "duration": 12,
    "start_time": "2021-09-27T22:08:25.608Z"
   },
   {
    "duration": 146,
    "start_time": "2021-09-27T22:08:25.622Z"
   },
   {
    "duration": 24,
    "start_time": "2021-09-27T22:08:25.770Z"
   },
   {
    "duration": 10,
    "start_time": "2021-09-27T22:08:25.796Z"
   },
   {
    "duration": 125,
    "start_time": "2021-09-27T22:08:25.808Z"
   },
   {
    "duration": 11,
    "start_time": "2021-09-27T22:08:25.935Z"
   },
   {
    "duration": 83,
    "start_time": "2021-09-27T22:08:25.948Z"
   },
   {
    "duration": 15,
    "start_time": "2021-09-27T22:08:26.033Z"
   },
   {
    "duration": 51,
    "start_time": "2021-09-27T22:08:26.051Z"
   },
   {
    "duration": 107,
    "start_time": "2021-09-27T22:08:26.105Z"
   },
   {
    "duration": 47,
    "start_time": "2021-09-27T22:08:26.214Z"
   },
   {
    "duration": 16,
    "start_time": "2021-09-27T22:08:26.283Z"
   },
   {
    "duration": 14,
    "start_time": "2021-09-27T22:08:26.306Z"
   },
   {
    "duration": 175,
    "start_time": "2021-09-27T22:08:26.323Z"
   },
   {
    "duration": 48,
    "start_time": "2021-09-27T22:08:26.500Z"
   },
   {
    "duration": 560,
    "start_time": "2021-09-27T22:08:26.551Z"
   },
   {
    "duration": 15,
    "start_time": "2021-09-27T22:08:27.113Z"
   },
   {
    "duration": 13,
    "start_time": "2021-09-27T22:08:27.131Z"
   },
   {
    "duration": 50,
    "start_time": "2021-09-27T22:08:27.147Z"
   },
   {
    "duration": 249,
    "start_time": "2021-09-27T22:08:27.199Z"
   },
   {
    "duration": 13,
    "start_time": "2021-09-27T22:08:27.450Z"
   },
   {
    "duration": 22,
    "start_time": "2021-09-27T22:08:27.465Z"
   },
   {
    "duration": 33,
    "start_time": "2021-09-27T22:08:27.489Z"
   },
   {
    "duration": 239,
    "start_time": "2021-09-27T22:08:27.525Z"
   },
   {
    "duration": 236,
    "start_time": "2021-09-27T22:08:27.767Z"
   },
   {
    "duration": 12,
    "start_time": "2021-09-27T22:08:28.006Z"
   },
   {
    "duration": 11,
    "start_time": "2021-09-27T22:08:28.021Z"
   },
   {
    "duration": 18,
    "start_time": "2021-09-27T22:08:28.035Z"
   },
   {
    "duration": 270,
    "start_time": "2021-09-27T22:08:28.055Z"
   },
   {
    "duration": 15,
    "start_time": "2021-09-27T22:08:28.328Z"
   },
   {
    "duration": 45,
    "start_time": "2021-09-27T22:08:28.345Z"
   },
   {
    "duration": 22,
    "start_time": "2021-09-27T22:08:28.393Z"
   },
   {
    "duration": 23,
    "start_time": "2021-09-27T22:08:28.418Z"
   },
   {
    "duration": 38,
    "start_time": "2021-09-27T22:08:28.444Z"
   },
   {
    "duration": 21,
    "start_time": "2021-09-27T22:08:28.485Z"
   },
   {
    "duration": 17,
    "start_time": "2021-09-27T22:08:28.509Z"
   },
   {
    "duration": 8,
    "start_time": "2021-09-27T22:08:28.529Z"
   },
   {
    "duration": 45,
    "start_time": "2021-09-27T22:08:28.540Z"
   },
   {
    "duration": 10,
    "start_time": "2021-09-27T22:08:28.587Z"
   },
   {
    "duration": 42,
    "start_time": "2021-09-27T22:08:28.599Z"
   },
   {
    "duration": 19,
    "start_time": "2021-09-27T22:08:28.644Z"
   },
   {
    "duration": 15,
    "start_time": "2021-09-27T22:08:28.683Z"
   },
   {
    "duration": 27,
    "start_time": "2021-09-27T22:08:28.700Z"
   },
   {
    "duration": 35,
    "start_time": "2021-09-27T22:08:28.729Z"
   },
   {
    "duration": 17,
    "start_time": "2021-09-27T22:08:28.767Z"
   },
   {
    "duration": 16,
    "start_time": "2021-09-27T22:08:28.786Z"
   },
   {
    "duration": 90,
    "start_time": "2021-09-27T22:08:28.804Z"
   },
   {
    "duration": 9,
    "start_time": "2021-09-27T22:08:28.896Z"
   },
   {
    "duration": 74,
    "start_time": "2021-09-27T22:08:28.908Z"
   },
   {
    "duration": 213,
    "start_time": "2021-09-27T22:08:28.985Z"
   },
   {
    "duration": 63,
    "start_time": "2021-09-27T22:08:29.200Z"
   },
   {
    "duration": 11,
    "start_time": "2021-09-27T22:08:29.282Z"
   },
   {
    "duration": 23,
    "start_time": "2021-09-27T22:08:29.296Z"
   },
   {
    "duration": 192,
    "start_time": "2021-09-27T22:08:29.322Z"
   },
   {
    "duration": 113,
    "start_time": "2021-09-27T22:08:29.517Z"
   },
   {
    "duration": 338,
    "start_time": "2021-09-27T22:08:29.632Z"
   },
   {
    "duration": -6112,
    "start_time": "2021-09-27T22:08:36.086Z"
   },
   {
    "duration": -6193,
    "start_time": "2021-09-27T22:08:36.169Z"
   },
   {
    "duration": -6328,
    "start_time": "2021-09-27T22:08:36.305Z"
   },
   {
    "duration": -6333,
    "start_time": "2021-09-27T22:08:36.311Z"
   },
   {
    "duration": -6336,
    "start_time": "2021-09-27T22:08:36.315Z"
   },
   {
    "duration": -6381,
    "start_time": "2021-09-27T22:08:36.361Z"
   },
   {
    "duration": -6386,
    "start_time": "2021-09-27T22:08:36.367Z"
   },
   {
    "duration": -6398,
    "start_time": "2021-09-27T22:08:36.381Z"
   },
   {
    "duration": -6540,
    "start_time": "2021-09-27T22:08:36.524Z"
   },
   {
    "duration": -6552,
    "start_time": "2021-09-27T22:08:36.537Z"
   },
   {
    "duration": -6598,
    "start_time": "2021-09-27T22:08:36.585Z"
   },
   {
    "duration": -6603,
    "start_time": "2021-09-27T22:08:36.591Z"
   },
   {
    "duration": -6606,
    "start_time": "2021-09-27T22:08:36.595Z"
   },
   {
    "duration": -6762,
    "start_time": "2021-09-27T22:08:36.752Z"
   },
   {
    "duration": 29,
    "start_time": "2021-09-27T22:09:40.336Z"
   },
   {
    "duration": 28,
    "start_time": "2021-09-27T22:09:42.159Z"
   },
   {
    "duration": 60,
    "start_time": "2021-09-27T22:09:52.418Z"
   },
   {
    "duration": 1470,
    "start_time": "2021-09-27T22:10:23.960Z"
   },
   {
    "duration": 4,
    "start_time": "2021-09-27T22:10:25.432Z"
   },
   {
    "duration": 364,
    "start_time": "2021-09-27T22:10:25.439Z"
   },
   {
    "duration": 20,
    "start_time": "2021-09-27T22:10:25.806Z"
   },
   {
    "duration": 17,
    "start_time": "2021-09-27T22:10:25.830Z"
   },
   {
    "duration": 16,
    "start_time": "2021-09-27T22:10:25.850Z"
   },
   {
    "duration": 130,
    "start_time": "2021-09-27T22:10:25.883Z"
   },
   {
    "duration": 19,
    "start_time": "2021-09-27T22:10:26.017Z"
   },
   {
    "duration": 11,
    "start_time": "2021-09-27T22:10:26.039Z"
   },
   {
    "duration": 177,
    "start_time": "2021-09-27T22:10:26.053Z"
   },
   {
    "duration": 12,
    "start_time": "2021-09-27T22:10:26.233Z"
   },
   {
    "duration": 150,
    "start_time": "2021-09-27T22:10:26.247Z"
   },
   {
    "duration": 15,
    "start_time": "2021-09-27T22:10:26.399Z"
   },
   {
    "duration": 10,
    "start_time": "2021-09-27T22:10:26.416Z"
   },
   {
    "duration": 140,
    "start_time": "2021-09-27T22:10:26.428Z"
   },
   {
    "duration": 11,
    "start_time": "2021-09-27T22:10:26.583Z"
   },
   {
    "duration": 92,
    "start_time": "2021-09-27T22:10:26.596Z"
   },
   {
    "duration": 15,
    "start_time": "2021-09-27T22:10:26.690Z"
   },
   {
    "duration": 26,
    "start_time": "2021-09-27T22:10:26.707Z"
   },
   {
    "duration": 129,
    "start_time": "2021-09-27T22:10:26.735Z"
   },
   {
    "duration": 58,
    "start_time": "2021-09-27T22:10:26.867Z"
   },
   {
    "duration": 16,
    "start_time": "2021-09-27T22:10:26.928Z"
   },
   {
    "duration": 45,
    "start_time": "2021-09-27T22:10:26.950Z"
   },
   {
    "duration": 166,
    "start_time": "2021-09-27T22:10:26.999Z"
   },
   {
    "duration": 49,
    "start_time": "2021-09-27T22:10:27.167Z"
   },
   {
    "duration": 564,
    "start_time": "2021-09-27T22:10:27.219Z"
   },
   {
    "duration": 14,
    "start_time": "2021-09-27T22:10:27.786Z"
   },
   {
    "duration": 13,
    "start_time": "2021-09-27T22:10:27.803Z"
   },
   {
    "duration": 19,
    "start_time": "2021-09-27T22:10:27.819Z"
   },
   {
    "duration": 266,
    "start_time": "2021-09-27T22:10:27.841Z"
   },
   {
    "duration": 12,
    "start_time": "2021-09-27T22:10:28.110Z"
   },
   {
    "duration": 15,
    "start_time": "2021-09-27T22:10:28.124Z"
   },
   {
    "duration": 42,
    "start_time": "2021-09-27T22:10:28.141Z"
   },
   {
    "duration": 228,
    "start_time": "2021-09-27T22:10:28.185Z"
   },
   {
    "duration": 231,
    "start_time": "2021-09-27T22:10:28.415Z"
   },
   {
    "duration": 12,
    "start_time": "2021-09-27T22:10:28.649Z"
   },
   {
    "duration": 27,
    "start_time": "2021-09-27T22:10:28.663Z"
   },
   {
    "duration": 15,
    "start_time": "2021-09-27T22:10:28.692Z"
   },
   {
    "duration": 259,
    "start_time": "2021-09-27T22:10:28.709Z"
   },
   {
    "duration": 23,
    "start_time": "2021-09-27T22:10:28.970Z"
   },
   {
    "duration": 26,
    "start_time": "2021-09-27T22:10:28.996Z"
   },
   {
    "duration": 18,
    "start_time": "2021-09-27T22:10:29.024Z"
   },
   {
    "duration": 39,
    "start_time": "2021-09-27T22:10:29.044Z"
   },
   {
    "duration": 24,
    "start_time": "2021-09-27T22:10:29.086Z"
   },
   {
    "duration": 20,
    "start_time": "2021-09-27T22:10:29.113Z"
   },
   {
    "duration": 54,
    "start_time": "2021-09-27T22:10:29.136Z"
   },
   {
    "duration": 8,
    "start_time": "2021-09-27T22:10:29.192Z"
   },
   {
    "duration": 11,
    "start_time": "2021-09-27T22:10:29.203Z"
   },
   {
    "duration": 8,
    "start_time": "2021-09-27T22:10:29.216Z"
   },
   {
    "duration": 64,
    "start_time": "2021-09-27T22:10:29.226Z"
   },
   {
    "duration": 18,
    "start_time": "2021-09-27T22:10:29.292Z"
   },
   {
    "duration": 14,
    "start_time": "2021-09-27T22:10:29.313Z"
   },
   {
    "duration": 53,
    "start_time": "2021-09-27T22:10:29.329Z"
   },
   {
    "duration": 11,
    "start_time": "2021-09-27T22:10:29.385Z"
   },
   {
    "duration": 11,
    "start_time": "2021-09-27T22:10:29.398Z"
   },
   {
    "duration": 11,
    "start_time": "2021-09-27T22:10:29.412Z"
   },
   {
    "duration": 113,
    "start_time": "2021-09-27T22:10:29.425Z"
   },
   {
    "duration": 8,
    "start_time": "2021-09-27T22:10:29.540Z"
   },
   {
    "duration": 71,
    "start_time": "2021-09-27T22:10:29.551Z"
   },
   {
    "duration": 213,
    "start_time": "2021-09-27T22:10:29.625Z"
   },
   {
    "duration": 76,
    "start_time": "2021-09-27T22:10:29.840Z"
   },
   {
    "duration": 10,
    "start_time": "2021-09-27T22:10:29.919Z"
   },
   {
    "duration": 11,
    "start_time": "2021-09-27T22:10:29.932Z"
   },
   {
    "duration": 209,
    "start_time": "2021-09-27T22:10:29.946Z"
   },
   {
    "duration": 109,
    "start_time": "2021-09-27T22:10:30.157Z"
   },
   {
    "duration": 30,
    "start_time": "2021-09-27T22:10:30.283Z"
   },
   {
    "duration": 50,
    "start_time": "2021-09-27T22:10:30.315Z"
   },
   {
    "duration": 18,
    "start_time": "2021-09-27T22:10:30.372Z"
   },
   {
    "duration": 25,
    "start_time": "2021-09-27T22:10:30.393Z"
   },
   {
    "duration": 22,
    "start_time": "2021-09-27T22:10:30.420Z"
   },
   {
    "duration": 38,
    "start_time": "2021-09-27T22:10:30.445Z"
   },
   {
    "duration": 45,
    "start_time": "2021-09-27T22:10:30.486Z"
   },
   {
    "duration": 25,
    "start_time": "2021-09-27T22:10:30.534Z"
   },
   {
    "duration": 20,
    "start_time": "2021-09-27T22:10:30.562Z"
   },
   {
    "duration": 26,
    "start_time": "2021-09-27T22:10:30.585Z"
   },
   {
    "duration": 93,
    "start_time": "2021-09-27T22:10:30.613Z"
   },
   {
    "duration": -7694,
    "start_time": "2021-09-27T22:10:38.403Z"
   },
   {
    "duration": -7698,
    "start_time": "2021-09-27T22:10:38.408Z"
   },
   {
    "duration": -7701,
    "start_time": "2021-09-27T22:10:38.413Z"
   },
   {
    "duration": 44,
    "start_time": "2021-09-27T22:10:59.355Z"
   },
   {
    "duration": 10,
    "start_time": "2021-09-27T22:11:40.308Z"
   },
   {
    "duration": 375,
    "start_time": "2021-09-27T22:11:58.373Z"
   },
   {
    "duration": 10,
    "start_time": "2021-09-27T22:12:10.887Z"
   },
   {
    "duration": 8,
    "start_time": "2021-09-27T22:12:22.353Z"
   },
   {
    "duration": 51,
    "start_time": "2021-09-27T22:15:52.722Z"
   },
   {
    "duration": 1425,
    "start_time": "2021-09-27T22:16:32.107Z"
   },
   {
    "duration": 4,
    "start_time": "2021-09-27T22:16:33.535Z"
   },
   {
    "duration": 365,
    "start_time": "2021-09-27T22:16:33.542Z"
   },
   {
    "duration": 19,
    "start_time": "2021-09-27T22:16:33.910Z"
   },
   {
    "duration": 18,
    "start_time": "2021-09-27T22:16:33.932Z"
   },
   {
    "duration": 12,
    "start_time": "2021-09-27T22:16:33.953Z"
   },
   {
    "duration": 120,
    "start_time": "2021-09-27T22:16:33.968Z"
   },
   {
    "duration": 18,
    "start_time": "2021-09-27T22:16:34.092Z"
   },
   {
    "duration": 12,
    "start_time": "2021-09-27T22:16:34.113Z"
   },
   {
    "duration": 166,
    "start_time": "2021-09-27T22:16:34.127Z"
   },
   {
    "duration": 12,
    "start_time": "2021-09-27T22:16:34.295Z"
   },
   {
    "duration": 146,
    "start_time": "2021-09-27T22:16:34.309Z"
   },
   {
    "duration": 28,
    "start_time": "2021-09-27T22:16:34.457Z"
   },
   {
    "duration": 11,
    "start_time": "2021-09-27T22:16:34.487Z"
   },
   {
    "duration": 117,
    "start_time": "2021-09-27T22:16:34.500Z"
   },
   {
    "duration": 10,
    "start_time": "2021-09-27T22:16:34.620Z"
   },
   {
    "duration": 84,
    "start_time": "2021-09-27T22:16:34.633Z"
   },
   {
    "duration": 15,
    "start_time": "2021-09-27T22:16:34.719Z"
   },
   {
    "duration": 51,
    "start_time": "2021-09-27T22:16:34.737Z"
   },
   {
    "duration": 104,
    "start_time": "2021-09-27T22:16:34.790Z"
   },
   {
    "duration": 47,
    "start_time": "2021-09-27T22:16:34.896Z"
   },
   {
    "duration": 40,
    "start_time": "2021-09-27T22:16:34.945Z"
   },
   {
    "duration": 15,
    "start_time": "2021-09-27T22:16:34.990Z"
   },
   {
    "duration": 189,
    "start_time": "2021-09-27T22:16:35.009Z"
   },
   {
    "duration": 34,
    "start_time": "2021-09-27T22:16:35.200Z"
   },
   {
    "duration": 550,
    "start_time": "2021-09-27T22:16:35.236Z"
   },
   {
    "duration": 12,
    "start_time": "2021-09-27T22:16:35.789Z"
   },
   {
    "duration": 15,
    "start_time": "2021-09-27T22:16:35.804Z"
   },
   {
    "duration": 18,
    "start_time": "2021-09-27T22:16:35.821Z"
   },
   {
    "duration": 254,
    "start_time": "2021-09-27T22:16:35.842Z"
   },
   {
    "duration": 13,
    "start_time": "2021-09-27T22:16:36.098Z"
   },
   {
    "duration": 10,
    "start_time": "2021-09-27T22:16:36.113Z"
   },
   {
    "duration": 15,
    "start_time": "2021-09-27T22:16:36.125Z"
   },
   {
    "duration": 270,
    "start_time": "2021-09-27T22:16:36.142Z"
   },
   {
    "duration": 223,
    "start_time": "2021-09-27T22:16:36.414Z"
   },
   {
    "duration": 13,
    "start_time": "2021-09-27T22:16:36.639Z"
   },
   {
    "duration": 31,
    "start_time": "2021-09-27T22:16:36.654Z"
   },
   {
    "duration": 15,
    "start_time": "2021-09-27T22:16:36.688Z"
   },
   {
    "duration": 259,
    "start_time": "2021-09-27T22:16:36.705Z"
   },
   {
    "duration": 23,
    "start_time": "2021-09-27T22:16:36.966Z"
   },
   {
    "duration": 27,
    "start_time": "2021-09-27T22:16:36.992Z"
   },
   {
    "duration": 16,
    "start_time": "2021-09-27T22:16:37.021Z"
   },
   {
    "duration": 46,
    "start_time": "2021-09-27T22:16:37.039Z"
   },
   {
    "duration": 30,
    "start_time": "2021-09-27T22:16:37.088Z"
   },
   {
    "duration": 21,
    "start_time": "2021-09-27T22:16:37.120Z"
   },
   {
    "duration": 46,
    "start_time": "2021-09-27T22:16:37.143Z"
   },
   {
    "duration": 9,
    "start_time": "2021-09-27T22:16:37.191Z"
   },
   {
    "duration": 12,
    "start_time": "2021-09-27T22:16:37.203Z"
   },
   {
    "duration": 8,
    "start_time": "2021-09-27T22:16:37.218Z"
   },
   {
    "duration": 62,
    "start_time": "2021-09-27T22:16:37.228Z"
   },
   {
    "duration": 18,
    "start_time": "2021-09-27T22:16:37.292Z"
   },
   {
    "duration": 17,
    "start_time": "2021-09-27T22:16:37.312Z"
   },
   {
    "duration": 53,
    "start_time": "2021-09-27T22:16:37.331Z"
   },
   {
    "duration": 15,
    "start_time": "2021-09-27T22:16:37.386Z"
   },
   {
    "duration": 7,
    "start_time": "2021-09-27T22:16:37.404Z"
   },
   {
    "duration": 12,
    "start_time": "2021-09-27T22:16:37.413Z"
   },
   {
    "duration": 121,
    "start_time": "2021-09-27T22:16:37.427Z"
   },
   {
    "duration": 9,
    "start_time": "2021-09-27T22:16:37.550Z"
   },
   {
    "duration": 72,
    "start_time": "2021-09-27T22:16:37.561Z"
   },
   {
    "duration": 224,
    "start_time": "2021-09-27T22:16:37.636Z"
   },
   {
    "duration": 71,
    "start_time": "2021-09-27T22:16:37.863Z"
   },
   {
    "duration": 11,
    "start_time": "2021-09-27T22:16:37.936Z"
   },
   {
    "duration": 37,
    "start_time": "2021-09-27T22:16:37.949Z"
   },
   {
    "duration": 184,
    "start_time": "2021-09-27T22:16:37.988Z"
   },
   {
    "duration": 114,
    "start_time": "2021-09-27T22:16:38.174Z"
   },
   {
    "duration": 29,
    "start_time": "2021-09-27T22:16:38.290Z"
   },
   {
    "duration": 30,
    "start_time": "2021-09-27T22:16:38.321Z"
   },
   {
    "duration": 9,
    "start_time": "2021-09-27T22:16:38.389Z"
   },
   {
    "duration": 10,
    "start_time": "2021-09-27T22:16:38.401Z"
   },
   {
    "duration": 13,
    "start_time": "2021-09-27T22:16:38.414Z"
   },
   {
    "duration": 72,
    "start_time": "2021-09-27T22:16:38.429Z"
   },
   {
    "duration": 48,
    "start_time": "2021-09-27T22:16:38.504Z"
   },
   {
    "duration": 46,
    "start_time": "2021-09-27T22:16:38.555Z"
   },
   {
    "duration": 18,
    "start_time": "2021-09-27T22:16:38.603Z"
   },
   {
    "duration": 12,
    "start_time": "2021-09-27T22:16:38.623Z"
   },
   {
    "duration": 59,
    "start_time": "2021-09-27T22:16:38.637Z"
   },
   {
    "duration": 16,
    "start_time": "2021-09-27T22:16:38.699Z"
   },
   {
    "duration": 11,
    "start_time": "2021-09-27T22:16:38.718Z"
   },
   {
    "duration": 10,
    "start_time": "2021-09-27T22:16:38.731Z"
   },
   {
    "duration": 80,
    "start_time": "2021-09-27T22:16:38.743Z"
   },
   {
    "duration": -4966,
    "start_time": "2021-09-27T22:16:43.792Z"
   },
   {
    "duration": -4970,
    "start_time": "2021-09-27T22:16:43.797Z"
   },
   {
    "duration": -4972,
    "start_time": "2021-09-27T22:16:43.801Z"
   },
   {
    "duration": 1446,
    "start_time": "2021-09-27T22:21:12.890Z"
   },
   {
    "duration": 4,
    "start_time": "2021-09-27T22:21:14.338Z"
   },
   {
    "duration": 353,
    "start_time": "2021-09-27T22:21:14.345Z"
   },
   {
    "duration": 18,
    "start_time": "2021-09-27T22:21:14.701Z"
   },
   {
    "duration": 14,
    "start_time": "2021-09-27T22:21:14.722Z"
   },
   {
    "duration": 11,
    "start_time": "2021-09-27T22:21:14.739Z"
   },
   {
    "duration": 136,
    "start_time": "2021-09-27T22:21:14.752Z"
   },
   {
    "duration": 18,
    "start_time": "2021-09-27T22:21:14.893Z"
   },
   {
    "duration": 11,
    "start_time": "2021-09-27T22:21:14.914Z"
   },
   {
    "duration": 168,
    "start_time": "2021-09-27T22:21:14.928Z"
   },
   {
    "duration": 11,
    "start_time": "2021-09-27T22:21:15.099Z"
   },
   {
    "duration": 142,
    "start_time": "2021-09-27T22:21:15.112Z"
   },
   {
    "duration": 29,
    "start_time": "2021-09-27T22:21:15.256Z"
   },
   {
    "duration": 10,
    "start_time": "2021-09-27T22:21:15.287Z"
   },
   {
    "duration": 118,
    "start_time": "2021-09-27T22:21:15.300Z"
   },
   {
    "duration": 12,
    "start_time": "2021-09-27T22:21:15.420Z"
   },
   {
    "duration": 88,
    "start_time": "2021-09-27T22:21:15.434Z"
   },
   {
    "duration": 16,
    "start_time": "2021-09-27T22:21:15.524Z"
   },
   {
    "duration": 52,
    "start_time": "2021-09-27T22:21:15.543Z"
   },
   {
    "duration": 104,
    "start_time": "2021-09-27T22:21:15.597Z"
   },
   {
    "duration": 45,
    "start_time": "2021-09-27T22:21:15.703Z"
   },
   {
    "duration": 39,
    "start_time": "2021-09-27T22:21:15.750Z"
   },
   {
    "duration": 15,
    "start_time": "2021-09-27T22:21:15.795Z"
   },
   {
    "duration": 171,
    "start_time": "2021-09-27T22:21:15.814Z"
   },
   {
    "duration": 38,
    "start_time": "2021-09-27T22:21:15.988Z"
   },
   {
    "duration": 526,
    "start_time": "2021-09-27T22:21:16.028Z"
   },
   {
    "duration": 26,
    "start_time": "2021-09-27T22:21:16.557Z"
   },
   {
    "duration": 21,
    "start_time": "2021-09-27T22:21:16.586Z"
   },
   {
    "duration": 26,
    "start_time": "2021-09-27T22:21:16.610Z"
   },
   {
    "duration": 255,
    "start_time": "2021-09-27T22:21:16.641Z"
   },
   {
    "duration": 13,
    "start_time": "2021-09-27T22:21:16.899Z"
   },
   {
    "duration": 10,
    "start_time": "2021-09-27T22:21:16.914Z"
   },
   {
    "duration": 15,
    "start_time": "2021-09-27T22:21:16.927Z"
   },
   {
    "duration": 257,
    "start_time": "2021-09-27T22:21:16.945Z"
   },
   {
    "duration": 222,
    "start_time": "2021-09-27T22:21:17.205Z"
   },
   {
    "duration": 12,
    "start_time": "2021-09-27T22:21:17.430Z"
   },
   {
    "duration": 10,
    "start_time": "2021-09-27T22:21:17.444Z"
   },
   {
    "duration": 39,
    "start_time": "2021-09-27T22:21:17.456Z"
   },
   {
    "duration": 276,
    "start_time": "2021-09-27T22:21:17.498Z"
   },
   {
    "duration": 25,
    "start_time": "2021-09-27T22:21:17.777Z"
   },
   {
    "duration": 37,
    "start_time": "2021-09-27T22:21:17.805Z"
   },
   {
    "duration": 49,
    "start_time": "2021-09-27T22:21:17.845Z"
   },
   {
    "duration": 11,
    "start_time": "2021-09-27T22:21:17.897Z"
   },
   {
    "duration": 27,
    "start_time": "2021-09-27T22:21:17.910Z"
   },
   {
    "duration": 54,
    "start_time": "2021-09-27T22:21:17.939Z"
   },
   {
    "duration": 18,
    "start_time": "2021-09-27T22:21:17.996Z"
   },
   {
    "duration": 9,
    "start_time": "2021-09-27T22:21:18.017Z"
   },
   {
    "duration": 15,
    "start_time": "2021-09-27T22:21:18.028Z"
   },
   {
    "duration": 42,
    "start_time": "2021-09-27T22:21:18.046Z"
   },
   {
    "duration": 20,
    "start_time": "2021-09-27T22:21:18.091Z"
   },
   {
    "duration": 17,
    "start_time": "2021-09-27T22:21:18.113Z"
   },
   {
    "duration": 59,
    "start_time": "2021-09-27T22:21:18.132Z"
   },
   {
    "duration": 16,
    "start_time": "2021-09-27T22:21:18.193Z"
   },
   {
    "duration": 19,
    "start_time": "2021-09-27T22:21:18.211Z"
   },
   {
    "duration": 8,
    "start_time": "2021-09-27T22:21:18.233Z"
   },
   {
    "duration": 49,
    "start_time": "2021-09-27T22:21:18.243Z"
   },
   {
    "duration": 96,
    "start_time": "2021-09-27T22:21:18.294Z"
   },
   {
    "duration": 9,
    "start_time": "2021-09-27T22:21:18.393Z"
   },
   {
    "duration": 79,
    "start_time": "2021-09-27T22:21:18.405Z"
   },
   {
    "duration": 218,
    "start_time": "2021-09-27T22:21:18.487Z"
   },
   {
    "duration": 75,
    "start_time": "2021-09-27T22:21:18.707Z"
   },
   {
    "duration": 10,
    "start_time": "2021-09-27T22:21:18.785Z"
   },
   {
    "duration": 16,
    "start_time": "2021-09-27T22:21:18.798Z"
   },
   {
    "duration": 192,
    "start_time": "2021-09-27T22:21:18.816Z"
   },
   {
    "duration": 105,
    "start_time": "2021-09-27T22:21:19.011Z"
   },
   {
    "duration": 29,
    "start_time": "2021-09-27T22:21:19.119Z"
   },
   {
    "duration": 51,
    "start_time": "2021-09-27T22:21:19.151Z"
   },
   {
    "duration": 8,
    "start_time": "2021-09-27T22:21:19.210Z"
   },
   {
    "duration": 11,
    "start_time": "2021-09-27T22:21:19.221Z"
   },
   {
    "duration": 12,
    "start_time": "2021-09-27T22:21:19.234Z"
   },
   {
    "duration": 60,
    "start_time": "2021-09-27T22:21:19.248Z"
   },
   {
    "duration": 25,
    "start_time": "2021-09-27T22:21:19.311Z"
   },
   {
    "duration": 68,
    "start_time": "2021-09-27T22:21:19.338Z"
   },
   {
    "duration": 28,
    "start_time": "2021-09-27T22:21:19.409Z"
   },
   {
    "duration": 49,
    "start_time": "2021-09-27T22:21:19.439Z"
   },
   {
    "duration": 14,
    "start_time": "2021-09-27T22:21:19.492Z"
   },
   {
    "duration": 25,
    "start_time": "2021-09-27T22:21:19.508Z"
   },
   {
    "duration": 47,
    "start_time": "2021-09-27T22:21:19.535Z"
   },
   {
    "duration": 12,
    "start_time": "2021-09-27T22:21:19.585Z"
   },
   {
    "duration": 11,
    "start_time": "2021-09-27T22:21:19.599Z"
   },
   {
    "duration": 85,
    "start_time": "2021-09-27T22:21:19.613Z"
   },
   {
    "duration": -14021,
    "start_time": "2021-09-27T22:21:33.722Z"
   },
   {
    "duration": -14025,
    "start_time": "2021-09-27T22:21:33.727Z"
   },
   {
    "duration": -14028,
    "start_time": "2021-09-27T22:21:33.732Z"
   },
   {
    "duration": 5,
    "start_time": "2021-09-27T22:24:37.289Z"
   },
   {
    "duration": 25,
    "start_time": "2021-09-27T22:24:47.286Z"
   },
   {
    "duration": 10,
    "start_time": "2021-09-27T22:31:48.964Z"
   },
   {
    "duration": 1091,
    "start_time": "2021-09-27T22:32:14.198Z"
   },
   {
    "duration": 46,
    "start_time": "2021-09-27T22:32:23.482Z"
   },
   {
    "duration": 8,
    "start_time": "2021-09-27T22:33:05.052Z"
   },
   {
    "duration": 8,
    "start_time": "2021-09-27T22:33:14.650Z"
   },
   {
    "duration": 45,
    "start_time": "2021-09-27T22:33:59.584Z"
   },
   {
    "duration": 55,
    "start_time": "2021-09-27T22:34:35.875Z"
   },
   {
    "duration": 44,
    "start_time": "2021-09-27T22:46:57.609Z"
   },
   {
    "duration": 7,
    "start_time": "2021-09-27T23:04:49.253Z"
   },
   {
    "duration": 9,
    "start_time": "2021-09-27T23:05:35.385Z"
   },
   {
    "duration": 9,
    "start_time": "2021-09-27T23:05:49.586Z"
   },
   {
    "duration": 7,
    "start_time": "2021-09-27T23:07:14.071Z"
   },
   {
    "duration": 6783,
    "start_time": "2021-09-27T23:07:23.889Z"
   },
   {
    "duration": 13,
    "start_time": "2021-09-27T23:07:41.260Z"
   },
   {
    "duration": 90,
    "start_time": "2021-09-27T23:08:25.034Z"
   },
   {
    "duration": 28,
    "start_time": "2021-09-27T23:09:44.182Z"
   },
   {
    "duration": 35,
    "start_time": "2021-09-27T23:11:18.451Z"
   },
   {
    "duration": 45,
    "start_time": "2021-09-27T23:11:26.560Z"
   },
   {
    "duration": 78,
    "start_time": "2021-09-27T23:13:48.811Z"
   },
   {
    "duration": 53,
    "start_time": "2021-09-27T23:14:14.658Z"
   },
   {
    "duration": 36,
    "start_time": "2021-09-27T23:14:33.925Z"
   },
   {
    "duration": 292,
    "start_time": "2021-09-27T23:28:58.605Z"
   },
   {
    "duration": 70,
    "start_time": "2021-09-27T23:29:17.981Z"
   },
   {
    "duration": 50,
    "start_time": "2021-09-27T23:30:33.560Z"
   },
   {
    "duration": 62,
    "start_time": "2021-09-27T23:30:53.274Z"
   },
   {
    "duration": 201,
    "start_time": "2021-09-27T23:31:02.960Z"
   },
   {
    "duration": 12,
    "start_time": "2021-09-27T23:37:16.394Z"
   },
   {
    "duration": 11,
    "start_time": "2021-09-27T23:37:25.431Z"
   },
   {
    "duration": 29,
    "start_time": "2021-09-27T23:48:41.301Z"
   },
   {
    "duration": 21,
    "start_time": "2021-09-27T23:50:33.092Z"
   },
   {
    "duration": 24,
    "start_time": "2021-09-27T23:50:48.325Z"
   },
   {
    "duration": 37,
    "start_time": "2021-09-27T23:55:25.075Z"
   },
   {
    "duration": 36,
    "start_time": "2021-09-28T00:00:14.148Z"
   },
   {
    "duration": 37,
    "start_time": "2021-09-28T00:00:44.869Z"
   },
   {
    "duration": 36,
    "start_time": "2021-09-28T00:00:53.262Z"
   },
   {
    "duration": 39,
    "start_time": "2021-09-28T00:03:29.855Z"
   },
   {
    "duration": 91,
    "start_time": "2021-09-28T00:03:44.688Z"
   },
   {
    "duration": 37,
    "start_time": "2021-09-28T00:04:03.081Z"
   },
   {
    "duration": 43,
    "start_time": "2021-09-28T00:05:14.266Z"
   },
   {
    "duration": 10,
    "start_time": "2021-09-28T00:14:37.519Z"
   },
   {
    "duration": 7,
    "start_time": "2021-09-28T00:14:47.543Z"
   },
   {
    "duration": 21,
    "start_time": "2021-09-28T00:59:05.953Z"
   },
   {
    "duration": 7,
    "start_time": "2021-09-28T01:05:28.440Z"
   },
   {
    "duration": 8,
    "start_time": "2021-09-28T01:09:31.995Z"
   },
   {
    "duration": 1275,
    "start_time": "2021-09-28T01:09:49.352Z"
   },
   {
    "duration": 3,
    "start_time": "2021-09-28T01:09:50.630Z"
   },
   {
    "duration": 363,
    "start_time": "2021-09-28T01:09:50.636Z"
   },
   {
    "duration": 19,
    "start_time": "2021-09-28T01:09:51.002Z"
   },
   {
    "duration": 18,
    "start_time": "2021-09-28T01:09:51.023Z"
   },
   {
    "duration": 14,
    "start_time": "2021-09-28T01:09:51.043Z"
   },
   {
    "duration": 133,
    "start_time": "2021-09-28T01:09:51.059Z"
   },
   {
    "duration": 17,
    "start_time": "2021-09-28T01:09:51.196Z"
   },
   {
    "duration": 13,
    "start_time": "2021-09-28T01:09:51.216Z"
   },
   {
    "duration": 170,
    "start_time": "2021-09-28T01:09:51.231Z"
   },
   {
    "duration": 12,
    "start_time": "2021-09-28T01:09:51.404Z"
   },
   {
    "duration": 142,
    "start_time": "2021-09-28T01:09:51.418Z"
   },
   {
    "duration": 28,
    "start_time": "2021-09-28T01:09:51.562Z"
   },
   {
    "duration": 11,
    "start_time": "2021-09-28T01:09:51.592Z"
   },
   {
    "duration": 126,
    "start_time": "2021-09-28T01:09:51.605Z"
   },
   {
    "duration": 11,
    "start_time": "2021-09-28T01:09:51.733Z"
   },
   {
    "duration": 87,
    "start_time": "2021-09-28T01:09:51.747Z"
   },
   {
    "duration": 15,
    "start_time": "2021-09-28T01:09:51.836Z"
   },
   {
    "duration": 46,
    "start_time": "2021-09-28T01:09:51.854Z"
   },
   {
    "duration": 109,
    "start_time": "2021-09-28T01:09:51.903Z"
   },
   {
    "duration": 45,
    "start_time": "2021-09-28T01:09:52.015Z"
   },
   {
    "duration": 32,
    "start_time": "2021-09-28T01:09:52.063Z"
   },
   {
    "duration": 14,
    "start_time": "2021-09-28T01:09:52.102Z"
   },
   {
    "duration": 176,
    "start_time": "2021-09-28T01:09:52.120Z"
   },
   {
    "duration": 37,
    "start_time": "2021-09-28T01:09:52.298Z"
   },
   {
    "duration": 560,
    "start_time": "2021-09-28T01:09:52.338Z"
   },
   {
    "duration": 13,
    "start_time": "2021-09-28T01:09:52.900Z"
   },
   {
    "duration": 16,
    "start_time": "2021-09-28T01:09:52.916Z"
   },
   {
    "duration": 58,
    "start_time": "2021-09-28T01:09:52.935Z"
   },
   {
    "duration": 234,
    "start_time": "2021-09-28T01:09:52.996Z"
   },
   {
    "duration": 14,
    "start_time": "2021-09-28T01:09:53.234Z"
   },
   {
    "duration": 42,
    "start_time": "2021-09-28T01:09:53.251Z"
   },
   {
    "duration": 19,
    "start_time": "2021-09-28T01:09:53.295Z"
   },
   {
    "duration": 254,
    "start_time": "2021-09-28T01:09:53.317Z"
   },
   {
    "duration": 226,
    "start_time": "2021-09-28T01:09:53.574Z"
   },
   {
    "duration": 12,
    "start_time": "2021-09-28T01:09:53.803Z"
   },
   {
    "duration": 9,
    "start_time": "2021-09-28T01:09:53.817Z"
   },
   {
    "duration": 15,
    "start_time": "2021-09-28T01:09:53.828Z"
   },
   {
    "duration": 266,
    "start_time": "2021-09-28T01:09:53.845Z"
   },
   {
    "duration": 14,
    "start_time": "2021-09-28T01:09:54.113Z"
   },
   {
    "duration": 26,
    "start_time": "2021-09-28T01:09:54.129Z"
   },
   {
    "duration": 15,
    "start_time": "2021-09-28T01:09:54.182Z"
   },
   {
    "duration": 7,
    "start_time": "2021-09-28T01:09:54.199Z"
   },
   {
    "duration": 32,
    "start_time": "2021-09-28T01:09:54.209Z"
   },
   {
    "duration": 54,
    "start_time": "2021-09-28T01:09:54.244Z"
   },
   {
    "duration": 17,
    "start_time": "2021-09-28T01:09:54.301Z"
   },
   {
    "duration": 10,
    "start_time": "2021-09-28T01:09:54.321Z"
   },
   {
    "duration": 52,
    "start_time": "2021-09-28T01:09:54.333Z"
   },
   {
    "duration": 9,
    "start_time": "2021-09-28T01:09:54.388Z"
   },
   {
    "duration": 23,
    "start_time": "2021-09-28T01:09:54.399Z"
   },
   {
    "duration": 59,
    "start_time": "2021-09-28T01:09:54.424Z"
   },
   {
    "duration": 15,
    "start_time": "2021-09-28T01:09:54.485Z"
   },
   {
    "duration": 15,
    "start_time": "2021-09-28T01:09:54.503Z"
   },
   {
    "duration": 11,
    "start_time": "2021-09-28T01:09:54.520Z"
   },
   {
    "duration": 52,
    "start_time": "2021-09-28T01:09:54.533Z"
   },
   {
    "duration": 14,
    "start_time": "2021-09-28T01:09:54.588Z"
   },
   {
    "duration": 96,
    "start_time": "2021-09-28T01:09:54.605Z"
   },
   {
    "duration": 8,
    "start_time": "2021-09-28T01:09:54.704Z"
   },
   {
    "duration": 76,
    "start_time": "2021-09-28T01:09:54.715Z"
   },
   {
    "duration": 218,
    "start_time": "2021-09-28T01:09:54.794Z"
   },
   {
    "duration": 75,
    "start_time": "2021-09-28T01:09:55.014Z"
   },
   {
    "duration": 11,
    "start_time": "2021-09-28T01:09:55.091Z"
   },
   {
    "duration": 15,
    "start_time": "2021-09-28T01:09:55.105Z"
   },
   {
    "duration": 118,
    "start_time": "2021-09-28T01:09:55.122Z"
   },
   {
    "duration": 114,
    "start_time": "2021-09-28T01:09:55.243Z"
   },
   {
    "duration": 45,
    "start_time": "2021-09-28T01:09:55.359Z"
   },
   {
    "duration": 31,
    "start_time": "2021-09-28T01:09:55.406Z"
   },
   {
    "duration": 54,
    "start_time": "2021-09-28T01:09:55.445Z"
   },
   {
    "duration": 37,
    "start_time": "2021-09-28T01:09:55.503Z"
   },
   {
    "duration": 73,
    "start_time": "2021-09-28T01:09:55.543Z"
   },
   {
    "duration": 6,
    "start_time": "2021-09-28T01:09:55.619Z"
   },
   {
    "duration": 12,
    "start_time": "2021-09-28T01:09:55.628Z"
   },
   {
    "duration": 85,
    "start_time": "2021-09-28T01:09:55.643Z"
   },
   {
    "duration": -20969,
    "start_time": "2021-09-28T01:10:16.700Z"
   },
   {
    "duration": 27,
    "start_time": "2021-09-28T01:10:40.146Z"
   },
   {
    "duration": 103,
    "start_time": "2021-09-28T01:12:05.961Z"
   },
   {
    "duration": 45,
    "start_time": "2021-09-28T01:12:27.697Z"
   },
   {
    "duration": 6,
    "start_time": "2021-09-28T01:22:06.787Z"
   },
   {
    "duration": 28,
    "start_time": "2021-09-28T01:22:20.503Z"
   },
   {
    "duration": 3,
    "start_time": "2021-09-28T01:24:00.132Z"
   },
   {
    "duration": 378,
    "start_time": "2021-09-28T01:24:10.174Z"
   },
   {
    "duration": 390,
    "start_time": "2021-09-28T01:25:30.300Z"
   },
   {
    "duration": 83,
    "start_time": "2021-09-28T01:25:45.722Z"
   },
   {
    "duration": 11,
    "start_time": "2021-09-28T01:29:20.155Z"
   },
   {
    "duration": 9,
    "start_time": "2021-09-28T01:33:13.390Z"
   },
   {
    "duration": 7366,
    "start_time": "2021-09-28T01:33:43.077Z"
   },
   {
    "duration": 10,
    "start_time": "2021-09-28T01:33:55.462Z"
   },
   {
    "duration": 8,
    "start_time": "2021-09-28T01:34:04.717Z"
   },
   {
    "duration": 28,
    "start_time": "2021-09-28T01:38:05.581Z"
   },
   {
    "duration": 30,
    "start_time": "2021-09-28T01:38:46.854Z"
   },
   {
    "duration": 456,
    "start_time": "2021-09-28T01:39:32.015Z"
   },
   {
    "duration": 1353,
    "start_time": "2021-09-28T01:40:27.274Z"
   },
   {
    "duration": 5,
    "start_time": "2021-09-28T01:40:28.629Z"
   },
   {
    "duration": 360,
    "start_time": "2021-09-28T01:40:28.637Z"
   },
   {
    "duration": 18,
    "start_time": "2021-09-28T01:40:28.999Z"
   },
   {
    "duration": 17,
    "start_time": "2021-09-28T01:40:29.020Z"
   },
   {
    "duration": 18,
    "start_time": "2021-09-28T01:40:29.039Z"
   },
   {
    "duration": 120,
    "start_time": "2021-09-28T01:40:29.083Z"
   },
   {
    "duration": 18,
    "start_time": "2021-09-28T01:40:29.208Z"
   },
   {
    "duration": 13,
    "start_time": "2021-09-28T01:40:29.230Z"
   },
   {
    "duration": 171,
    "start_time": "2021-09-28T01:40:29.246Z"
   },
   {
    "duration": 13,
    "start_time": "2021-09-28T01:40:29.420Z"
   },
   {
    "duration": 149,
    "start_time": "2021-09-28T01:40:29.436Z"
   },
   {
    "duration": 18,
    "start_time": "2021-09-28T01:40:29.588Z"
   },
   {
    "duration": 13,
    "start_time": "2021-09-28T01:40:29.608Z"
   },
   {
    "duration": 141,
    "start_time": "2021-09-28T01:40:29.623Z"
   },
   {
    "duration": 26,
    "start_time": "2021-09-28T01:40:29.767Z"
   },
   {
    "duration": 58,
    "start_time": "2021-09-28T01:40:29.796Z"
   },
   {
    "duration": 38,
    "start_time": "2021-09-28T01:40:29.856Z"
   },
   {
    "duration": 22,
    "start_time": "2021-09-28T01:40:29.897Z"
   },
   {
    "duration": 132,
    "start_time": "2021-09-28T01:40:29.922Z"
   },
   {
    "duration": 53,
    "start_time": "2021-09-28T01:40:30.056Z"
   },
   {
    "duration": 15,
    "start_time": "2021-09-28T01:40:30.112Z"
   },
   {
    "duration": 15,
    "start_time": "2021-09-28T01:40:30.134Z"
   },
   {
    "duration": 186,
    "start_time": "2021-09-28T01:40:30.153Z"
   },
   {
    "duration": 54,
    "start_time": "2021-09-28T01:40:30.341Z"
   },
   {
    "duration": 540,
    "start_time": "2021-09-28T01:40:30.397Z"
   },
   {
    "duration": 13,
    "start_time": "2021-09-28T01:40:30.939Z"
   },
   {
    "duration": 35,
    "start_time": "2021-09-28T01:40:30.954Z"
   },
   {
    "duration": 22,
    "start_time": "2021-09-28T01:40:30.991Z"
   },
   {
    "duration": 245,
    "start_time": "2021-09-28T01:40:31.015Z"
   },
   {
    "duration": 25,
    "start_time": "2021-09-28T01:40:31.262Z"
   },
   {
    "duration": 11,
    "start_time": "2021-09-28T01:40:31.289Z"
   },
   {
    "duration": 25,
    "start_time": "2021-09-28T01:40:31.302Z"
   },
   {
    "duration": 233,
    "start_time": "2021-09-28T01:40:31.330Z"
   },
   {
    "duration": 231,
    "start_time": "2021-09-28T01:40:31.566Z"
   },
   {
    "duration": 11,
    "start_time": "2021-09-28T01:40:31.800Z"
   },
   {
    "duration": 10,
    "start_time": "2021-09-28T01:40:31.814Z"
   },
   {
    "duration": 14,
    "start_time": "2021-09-28T01:40:31.827Z"
   },
   {
    "duration": 236,
    "start_time": "2021-09-28T01:40:31.882Z"
   },
   {
    "duration": 15,
    "start_time": "2021-09-28T01:40:32.121Z"
   },
   {
    "duration": 50,
    "start_time": "2021-09-28T01:40:32.139Z"
   },
   {
    "duration": 17,
    "start_time": "2021-09-28T01:40:32.191Z"
   },
   {
    "duration": 11,
    "start_time": "2021-09-28T01:40:32.210Z"
   },
   {
    "duration": 60,
    "start_time": "2021-09-28T01:40:32.223Z"
   },
   {
    "duration": 27,
    "start_time": "2021-09-28T01:40:32.285Z"
   },
   {
    "duration": 21,
    "start_time": "2021-09-28T01:40:32.315Z"
   },
   {
    "duration": 8,
    "start_time": "2021-09-28T01:40:32.338Z"
   },
   {
    "duration": 10,
    "start_time": "2021-09-28T01:40:32.383Z"
   },
   {
    "duration": 8,
    "start_time": "2021-09-28T01:40:32.395Z"
   },
   {
    "duration": 21,
    "start_time": "2021-09-28T01:40:32.405Z"
   },
   {
    "duration": 65,
    "start_time": "2021-09-28T01:40:32.428Z"
   },
   {
    "duration": 15,
    "start_time": "2021-09-28T01:40:32.495Z"
   },
   {
    "duration": 15,
    "start_time": "2021-09-28T01:40:32.513Z"
   },
   {
    "duration": 53,
    "start_time": "2021-09-28T01:40:32.530Z"
   },
   {
    "duration": 8,
    "start_time": "2021-09-28T01:40:32.586Z"
   },
   {
    "duration": 14,
    "start_time": "2021-09-28T01:40:32.596Z"
   },
   {
    "duration": 115,
    "start_time": "2021-09-28T01:40:32.612Z"
   },
   {
    "duration": 9,
    "start_time": "2021-09-28T01:40:32.729Z"
   },
   {
    "duration": 81,
    "start_time": "2021-09-28T01:40:32.740Z"
   },
   {
    "duration": 222,
    "start_time": "2021-09-28T01:40:32.823Z"
   },
   {
    "duration": 74,
    "start_time": "2021-09-28T01:40:33.047Z"
   },
   {
    "duration": 11,
    "start_time": "2021-09-28T01:40:33.123Z"
   },
   {
    "duration": 15,
    "start_time": "2021-09-28T01:40:33.136Z"
   },
   {
    "duration": 114,
    "start_time": "2021-09-28T01:40:33.153Z"
   },
   {
    "duration": 39,
    "start_time": "2021-09-28T01:40:33.269Z"
   },
   {
    "duration": 114,
    "start_time": "2021-09-28T01:40:33.310Z"
   },
   {
    "duration": 28,
    "start_time": "2021-09-28T01:40:33.426Z"
   },
   {
    "duration": 388,
    "start_time": "2021-09-28T01:40:33.481Z"
   },
   {
    "duration": 28,
    "start_time": "2021-09-28T01:40:33.883Z"
   },
   {
    "duration": 34,
    "start_time": "2021-09-28T01:40:33.914Z"
   },
   {
    "duration": 44,
    "start_time": "2021-09-28T01:40:33.950Z"
   },
   {
    "duration": 36,
    "start_time": "2021-09-28T01:40:33.996Z"
   },
   {
    "duration": 150,
    "start_time": "2021-09-28T01:40:34.035Z"
   },
   {
    "duration": 7,
    "start_time": "2021-09-28T01:40:34.188Z"
   },
   {
    "duration": 377,
    "start_time": "2021-09-28T01:40:34.197Z"
   },
   {
    "duration": -16550,
    "start_time": "2021-09-28T01:40:51.127Z"
   },
   {
    "duration": -16560,
    "start_time": "2021-09-28T01:40:51.138Z"
   },
   {
    "duration": -16703,
    "start_time": "2021-09-28T01:40:51.282Z"
   },
   {
    "duration": -16715,
    "start_time": "2021-09-28T01:40:51.295Z"
   },
   {
    "duration": -16718,
    "start_time": "2021-09-28T01:40:51.300Z"
   },
   {
    "duration": -16761,
    "start_time": "2021-09-28T01:40:51.344Z"
   },
   {
    "duration": -16765,
    "start_time": "2021-09-28T01:40:51.349Z"
   },
   {
    "duration": -16771,
    "start_time": "2021-09-28T01:40:51.356Z"
   },
   {
    "duration": 25,
    "start_time": "2021-09-28T01:45:56.059Z"
   },
   {
    "duration": 1280,
    "start_time": "2021-09-28T01:50:34.972Z"
   },
   {
    "duration": 3,
    "start_time": "2021-09-28T01:50:36.255Z"
   },
   {
    "duration": 365,
    "start_time": "2021-09-28T01:50:36.262Z"
   },
   {
    "duration": 21,
    "start_time": "2021-09-28T01:50:36.630Z"
   },
   {
    "duration": 20,
    "start_time": "2021-09-28T01:50:36.653Z"
   },
   {
    "duration": 13,
    "start_time": "2021-09-28T01:50:36.683Z"
   },
   {
    "duration": 124,
    "start_time": "2021-09-28T01:50:36.698Z"
   },
   {
    "duration": 18,
    "start_time": "2021-09-28T01:50:36.826Z"
   },
   {
    "duration": 38,
    "start_time": "2021-09-28T01:50:36.847Z"
   },
   {
    "duration": 140,
    "start_time": "2021-09-28T01:50:36.887Z"
   },
   {
    "duration": 11,
    "start_time": "2021-09-28T01:50:37.029Z"
   },
   {
    "duration": 147,
    "start_time": "2021-09-28T01:50:37.042Z"
   },
   {
    "duration": 16,
    "start_time": "2021-09-28T01:50:37.192Z"
   },
   {
    "duration": 10,
    "start_time": "2021-09-28T01:50:37.211Z"
   },
   {
    "duration": 130,
    "start_time": "2021-09-28T01:50:37.224Z"
   },
   {
    "duration": 27,
    "start_time": "2021-09-28T01:50:37.356Z"
   },
   {
    "duration": 58,
    "start_time": "2021-09-28T01:50:37.385Z"
   },
   {
    "duration": 46,
    "start_time": "2021-09-28T01:50:37.445Z"
   },
   {
    "duration": 25,
    "start_time": "2021-09-28T01:50:37.494Z"
   },
   {
    "duration": 121,
    "start_time": "2021-09-28T01:50:37.521Z"
   },
   {
    "duration": 63,
    "start_time": "2021-09-28T01:50:37.645Z"
   },
   {
    "duration": 17,
    "start_time": "2021-09-28T01:50:37.710Z"
   },
   {
    "duration": 15,
    "start_time": "2021-09-28T01:50:37.734Z"
   },
   {
    "duration": 204,
    "start_time": "2021-09-28T01:50:37.753Z"
   },
   {
    "duration": 48,
    "start_time": "2021-09-28T01:50:37.960Z"
   },
   {
    "duration": 540,
    "start_time": "2021-09-28T01:50:38.011Z"
   },
   {
    "duration": 31,
    "start_time": "2021-09-28T01:50:38.554Z"
   },
   {
    "duration": 15,
    "start_time": "2021-09-28T01:50:38.588Z"
   },
   {
    "duration": 20,
    "start_time": "2021-09-28T01:50:38.606Z"
   },
   {
    "duration": 256,
    "start_time": "2021-09-28T01:50:38.629Z"
   },
   {
    "duration": 14,
    "start_time": "2021-09-28T01:50:38.888Z"
   },
   {
    "duration": 11,
    "start_time": "2021-09-28T01:50:38.905Z"
   },
   {
    "duration": 16,
    "start_time": "2021-09-28T01:50:38.919Z"
   },
   {
    "duration": 263,
    "start_time": "2021-09-28T01:50:38.937Z"
   },
   {
    "duration": 211,
    "start_time": "2021-09-28T01:50:39.203Z"
   },
   {
    "duration": 11,
    "start_time": "2021-09-28T01:50:39.417Z"
   },
   {
    "duration": 10,
    "start_time": "2021-09-28T01:50:39.430Z"
   },
   {
    "duration": 48,
    "start_time": "2021-09-28T01:50:39.442Z"
   },
   {
    "duration": 253,
    "start_time": "2021-09-28T01:50:39.493Z"
   },
   {
    "duration": 15,
    "start_time": "2021-09-28T01:50:39.748Z"
   },
   {
    "duration": 40,
    "start_time": "2021-09-28T01:50:39.766Z"
   },
   {
    "duration": 15,
    "start_time": "2021-09-28T01:50:39.809Z"
   },
   {
    "duration": 10,
    "start_time": "2021-09-28T01:50:39.826Z"
   },
   {
    "duration": 62,
    "start_time": "2021-09-28T01:50:39.838Z"
   },
   {
    "duration": 21,
    "start_time": "2021-09-28T01:50:39.902Z"
   },
   {
    "duration": 18,
    "start_time": "2021-09-28T01:50:39.925Z"
   },
   {
    "duration": 42,
    "start_time": "2021-09-28T01:50:39.945Z"
   },
   {
    "duration": 9,
    "start_time": "2021-09-28T01:50:39.989Z"
   },
   {
    "duration": 9,
    "start_time": "2021-09-28T01:50:40.000Z"
   },
   {
    "duration": 22,
    "start_time": "2021-09-28T01:50:40.012Z"
   },
   {
    "duration": 20,
    "start_time": "2021-09-28T01:50:40.083Z"
   },
   {
    "duration": 14,
    "start_time": "2021-09-28T01:50:40.106Z"
   },
   {
    "duration": 14,
    "start_time": "2021-09-28T01:50:40.123Z"
   },
   {
    "duration": 54,
    "start_time": "2021-09-28T01:50:40.139Z"
   },
   {
    "duration": 8,
    "start_time": "2021-09-28T01:50:40.195Z"
   },
   {
    "duration": 18,
    "start_time": "2021-09-28T01:50:40.205Z"
   },
   {
    "duration": 116,
    "start_time": "2021-09-28T01:50:40.226Z"
   },
   {
    "duration": 8,
    "start_time": "2021-09-28T01:50:40.344Z"
   },
   {
    "duration": 70,
    "start_time": "2021-09-28T01:50:40.355Z"
   },
   {
    "duration": 213,
    "start_time": "2021-09-28T01:50:40.427Z"
   },
   {
    "duration": 79,
    "start_time": "2021-09-28T01:50:40.642Z"
   },
   {
    "duration": 10,
    "start_time": "2021-09-28T01:50:40.723Z"
   },
   {
    "duration": 11,
    "start_time": "2021-09-28T01:50:40.735Z"
   },
   {
    "duration": 123,
    "start_time": "2021-09-28T01:50:40.749Z"
   },
   {
    "duration": 35,
    "start_time": "2021-09-28T01:50:40.874Z"
   },
   {
    "duration": 118,
    "start_time": "2021-09-28T01:50:40.911Z"
   },
   {
    "duration": 29,
    "start_time": "2021-09-28T01:50:41.032Z"
   },
   {
    "duration": 402,
    "start_time": "2021-09-28T01:50:41.087Z"
   },
   {
    "duration": 32,
    "start_time": "2021-09-28T01:50:41.492Z"
   },
   {
    "duration": 28,
    "start_time": "2021-09-28T01:50:41.526Z"
   },
   {
    "duration": 52,
    "start_time": "2021-09-28T01:50:41.556Z"
   },
   {
    "duration": 36,
    "start_time": "2021-09-28T01:50:41.611Z"
   },
   {
    "duration": 146,
    "start_time": "2021-09-28T01:50:41.650Z"
   },
   {
    "duration": 7,
    "start_time": "2021-09-28T01:50:41.799Z"
   },
   {
    "duration": 8,
    "start_time": "2021-09-28T01:50:41.809Z"
   },
   {
    "duration": 23,
    "start_time": "2021-09-28T01:50:41.819Z"
   },
   {
    "duration": 38,
    "start_time": "2021-09-28T01:50:41.845Z"
   },
   {
    "duration": 3,
    "start_time": "2021-09-28T01:50:41.886Z"
   },
   {
    "duration": 29,
    "start_time": "2021-09-28T01:50:41.892Z"
   },
   {
    "duration": 7,
    "start_time": "2021-09-28T01:50:41.923Z"
   },
   {
    "duration": 12,
    "start_time": "2021-09-28T01:50:41.932Z"
   },
   {
    "duration": 102,
    "start_time": "2021-09-28T01:50:41.946Z"
   },
   {
    "duration": 89,
    "start_time": "2021-09-28T01:50:42.051Z"
   },
   {
    "duration": -31598,
    "start_time": "2021-09-28T01:51:13.740Z"
   },
   {
    "duration": 7,
    "start_time": "2021-09-28T01:54:08.590Z"
   },
   {
    "duration": 7,
    "start_time": "2021-09-28T01:54:11.248Z"
   },
   {
    "duration": 89,
    "start_time": "2021-09-28T01:57:47.242Z"
   },
   {
    "duration": 1187,
    "start_time": "2021-09-28T01:58:11.510Z"
   },
   {
    "duration": 6,
    "start_time": "2021-09-28T01:59:03.982Z"
   },
   {
    "duration": 6,
    "start_time": "2021-09-28T02:00:19.780Z"
   },
   {
    "duration": 27,
    "start_time": "2021-09-28T02:03:05.833Z"
   },
   {
    "duration": 6,
    "start_time": "2021-09-28T02:05:41.590Z"
   },
   {
    "duration": 6,
    "start_time": "2021-09-28T02:05:42.914Z"
   },
   {
    "duration": 7,
    "start_time": "2021-09-28T02:05:44.787Z"
   },
   {
    "duration": 1770,
    "start_time": "2021-09-28T02:10:54.761Z"
   },
   {
    "duration": 4,
    "start_time": "2021-09-28T02:10:56.533Z"
   },
   {
    "duration": 419,
    "start_time": "2021-09-28T02:10:56.541Z"
   },
   {
    "duration": 18,
    "start_time": "2021-09-28T02:10:56.963Z"
   },
   {
    "duration": 17,
    "start_time": "2021-09-28T02:10:56.984Z"
   },
   {
    "duration": 14,
    "start_time": "2021-09-28T02:10:57.003Z"
   },
   {
    "duration": 106,
    "start_time": "2021-09-28T02:10:57.020Z"
   },
   {
    "duration": 17,
    "start_time": "2021-09-28T02:10:57.129Z"
   },
   {
    "duration": 10,
    "start_time": "2021-09-28T02:10:57.149Z"
   },
   {
    "duration": 146,
    "start_time": "2021-09-28T02:10:57.161Z"
   },
   {
    "duration": 12,
    "start_time": "2021-09-28T02:10:57.309Z"
   },
   {
    "duration": 137,
    "start_time": "2021-09-28T02:10:57.323Z"
   },
   {
    "duration": 21,
    "start_time": "2021-09-28T02:10:57.463Z"
   },
   {
    "duration": 12,
    "start_time": "2021-09-28T02:10:57.487Z"
   },
   {
    "duration": 105,
    "start_time": "2021-09-28T02:10:57.502Z"
   },
   {
    "duration": 12,
    "start_time": "2021-09-28T02:10:57.610Z"
   },
   {
    "duration": 72,
    "start_time": "2021-09-28T02:10:57.624Z"
   },
   {
    "duration": 21,
    "start_time": "2021-09-28T02:10:57.699Z"
   },
   {
    "duration": 79,
    "start_time": "2021-09-28T02:10:57.723Z"
   },
   {
    "duration": 192,
    "start_time": "2021-09-28T02:10:57.805Z"
   },
   {
    "duration": 94,
    "start_time": "2021-09-28T02:10:57.999Z"
   },
   {
    "duration": 16,
    "start_time": "2021-09-28T02:10:58.095Z"
   },
   {
    "duration": 68,
    "start_time": "2021-09-28T02:10:58.118Z"
   },
   {
    "duration": 266,
    "start_time": "2021-09-28T02:10:58.190Z"
   },
   {
    "duration": 46,
    "start_time": "2021-09-28T02:10:58.458Z"
   },
   {
    "duration": 782,
    "start_time": "2021-09-28T02:10:58.506Z"
   },
   {
    "duration": 13,
    "start_time": "2021-09-28T02:10:59.290Z"
   },
   {
    "duration": 14,
    "start_time": "2021-09-28T02:10:59.305Z"
   },
   {
    "duration": 18,
    "start_time": "2021-09-28T02:10:59.321Z"
   },
   {
    "duration": 266,
    "start_time": "2021-09-28T02:10:59.342Z"
   },
   {
    "duration": 12,
    "start_time": "2021-09-28T02:10:59.610Z"
   },
   {
    "duration": 25,
    "start_time": "2021-09-28T02:10:59.624Z"
   },
   {
    "duration": 31,
    "start_time": "2021-09-28T02:10:59.651Z"
   },
   {
    "duration": 229,
    "start_time": "2021-09-28T02:10:59.685Z"
   },
   {
    "duration": 230,
    "start_time": "2021-09-28T02:10:59.916Z"
   },
   {
    "duration": 11,
    "start_time": "2021-09-28T02:11:00.148Z"
   },
   {
    "duration": 29,
    "start_time": "2021-09-28T02:11:00.161Z"
   },
   {
    "duration": 40,
    "start_time": "2021-09-28T02:11:00.193Z"
   },
   {
    "duration": 237,
    "start_time": "2021-09-28T02:11:00.236Z"
   },
   {
    "duration": 18,
    "start_time": "2021-09-28T02:11:00.476Z"
   },
   {
    "duration": 44,
    "start_time": "2021-09-28T02:11:00.497Z"
   },
   {
    "duration": 28,
    "start_time": "2021-09-28T02:11:00.544Z"
   },
   {
    "duration": 12,
    "start_time": "2021-09-28T02:11:00.574Z"
   },
   {
    "duration": 36,
    "start_time": "2021-09-28T02:11:00.589Z"
   },
   {
    "duration": 22,
    "start_time": "2021-09-28T02:11:00.628Z"
   },
   {
    "duration": 47,
    "start_time": "2021-09-28T02:11:00.653Z"
   },
   {
    "duration": 15,
    "start_time": "2021-09-28T02:11:00.702Z"
   },
   {
    "duration": 18,
    "start_time": "2021-09-28T02:11:00.719Z"
   },
   {
    "duration": 26,
    "start_time": "2021-09-28T02:11:00.739Z"
   },
   {
    "duration": 44,
    "start_time": "2021-09-28T02:11:00.767Z"
   },
   {
    "duration": 17,
    "start_time": "2021-09-28T02:11:00.814Z"
   },
   {
    "duration": 38,
    "start_time": "2021-09-28T02:11:00.833Z"
   },
   {
    "duration": 25,
    "start_time": "2021-09-28T02:11:00.874Z"
   },
   {
    "duration": 28,
    "start_time": "2021-09-28T02:11:00.901Z"
   },
   {
    "duration": 8,
    "start_time": "2021-09-28T02:11:00.931Z"
   },
   {
    "duration": 38,
    "start_time": "2021-09-28T02:11:00.942Z"
   },
   {
    "duration": 87,
    "start_time": "2021-09-28T02:11:00.982Z"
   },
   {
    "duration": 13,
    "start_time": "2021-09-28T02:11:01.071Z"
   },
   {
    "duration": 58,
    "start_time": "2021-09-28T02:11:01.086Z"
   },
   {
    "duration": 223,
    "start_time": "2021-09-28T02:11:01.147Z"
   },
   {
    "duration": 70,
    "start_time": "2021-09-28T02:11:01.373Z"
   },
   {
    "duration": 39,
    "start_time": "2021-09-28T02:11:01.446Z"
   },
   {
    "duration": 29,
    "start_time": "2021-09-28T02:11:01.488Z"
   },
   {
    "duration": 123,
    "start_time": "2021-09-28T02:11:01.520Z"
   },
   {
    "duration": 49,
    "start_time": "2021-09-28T02:11:01.647Z"
   },
   {
    "duration": 119,
    "start_time": "2021-09-28T02:11:01.699Z"
   },
   {
    "duration": 30,
    "start_time": "2021-09-28T02:11:01.820Z"
   },
   {
    "duration": 406,
    "start_time": "2021-09-28T02:11:01.858Z"
   },
   {
    "duration": 37,
    "start_time": "2021-09-28T02:11:02.267Z"
   },
   {
    "duration": 29,
    "start_time": "2021-09-28T02:11:02.306Z"
   },
   {
    "duration": 56,
    "start_time": "2021-09-28T02:11:02.338Z"
   },
   {
    "duration": 39,
    "start_time": "2021-09-28T02:11:02.397Z"
   },
   {
    "duration": 148,
    "start_time": "2021-09-28T02:11:02.439Z"
   },
   {
    "duration": 8,
    "start_time": "2021-09-28T02:11:02.589Z"
   },
   {
    "duration": 10,
    "start_time": "2021-09-28T02:11:02.599Z"
   },
   {
    "duration": 24,
    "start_time": "2021-09-28T02:11:02.612Z"
   },
   {
    "duration": 3,
    "start_time": "2021-09-28T02:11:02.639Z"
   },
   {
    "duration": 39,
    "start_time": "2021-09-28T02:11:02.644Z"
   },
   {
    "duration": 6,
    "start_time": "2021-09-28T02:11:02.686Z"
   },
   {
    "duration": 389,
    "start_time": "2021-09-28T02:11:02.695Z"
   },
   {
    "duration": -21462,
    "start_time": "2021-09-28T02:11:24.548Z"
   },
   {
    "duration": -21465,
    "start_time": "2021-09-28T02:11:24.553Z"
   },
   {
    "duration": -21679,
    "start_time": "2021-09-28T02:11:24.768Z"
   },
   {
    "duration": -21683,
    "start_time": "2021-09-28T02:11:24.774Z"
   },
   {
    "duration": -21912,
    "start_time": "2021-09-28T02:11:25.004Z"
   },
   {
    "duration": -21929,
    "start_time": "2021-09-28T02:11:25.023Z"
   },
   {
    "duration": -21933,
    "start_time": "2021-09-28T02:11:25.028Z"
   },
   {
    "duration": -21937,
    "start_time": "2021-09-28T02:11:25.034Z"
   },
   {
    "duration": -22122,
    "start_time": "2021-09-28T02:11:25.221Z"
   },
   {
    "duration": -22127,
    "start_time": "2021-09-28T02:11:25.227Z"
   },
   {
    "duration": 3,
    "start_time": "2021-09-28T02:15:06.659Z"
   },
   {
    "duration": 6,
    "start_time": "2021-09-28T02:15:08.002Z"
   },
   {
    "duration": 7,
    "start_time": "2021-09-28T02:15:09.906Z"
   },
   {
    "duration": 6,
    "start_time": "2021-09-28T02:15:12.346Z"
   },
   {
    "duration": 3,
    "start_time": "2021-09-28T02:15:14.740Z"
   },
   {
    "duration": 7,
    "start_time": "2021-09-28T02:15:15.935Z"
   },
   {
    "duration": 6,
    "start_time": "2021-09-28T02:15:17.525Z"
   },
   {
    "duration": 5,
    "start_time": "2021-09-28T02:15:19.835Z"
   },
   {
    "duration": 1531,
    "start_time": "2021-09-28T02:24:17.274Z"
   },
   {
    "duration": 4,
    "start_time": "2021-09-28T02:24:18.807Z"
   },
   {
    "duration": 375,
    "start_time": "2021-09-28T02:24:18.814Z"
   },
   {
    "duration": 19,
    "start_time": "2021-09-28T02:24:19.192Z"
   },
   {
    "duration": 13,
    "start_time": "2021-09-28T02:24:19.213Z"
   },
   {
    "duration": 13,
    "start_time": "2021-09-28T02:24:19.228Z"
   },
   {
    "duration": 109,
    "start_time": "2021-09-28T02:24:19.243Z"
   },
   {
    "duration": 31,
    "start_time": "2021-09-28T02:24:19.356Z"
   },
   {
    "duration": 11,
    "start_time": "2021-09-28T02:24:19.390Z"
   },
   {
    "duration": 130,
    "start_time": "2021-09-28T02:24:19.403Z"
   },
   {
    "duration": 13,
    "start_time": "2021-09-28T02:24:19.536Z"
   },
   {
    "duration": 133,
    "start_time": "2021-09-28T02:24:19.552Z"
   },
   {
    "duration": 16,
    "start_time": "2021-09-28T02:24:19.687Z"
   },
   {
    "duration": 11,
    "start_time": "2021-09-28T02:24:19.705Z"
   },
   {
    "duration": 110,
    "start_time": "2021-09-28T02:24:19.718Z"
   },
   {
    "duration": 11,
    "start_time": "2021-09-28T02:24:19.831Z"
   },
   {
    "duration": 66,
    "start_time": "2021-09-28T02:24:19.845Z"
   },
   {
    "duration": 71,
    "start_time": "2021-09-28T02:24:19.913Z"
   },
   {
    "duration": 22,
    "start_time": "2021-09-28T02:24:19.986Z"
   },
   {
    "duration": 201,
    "start_time": "2021-09-28T02:24:20.010Z"
   },
   {
    "duration": 91,
    "start_time": "2021-09-28T02:24:20.214Z"
   },
   {
    "duration": 14,
    "start_time": "2021-09-28T02:24:20.308Z"
   },
   {
    "duration": 65,
    "start_time": "2021-09-28T02:24:20.329Z"
   },
   {
    "duration": 166,
    "start_time": "2021-09-28T02:24:20.399Z"
   },
   {
    "duration": 46,
    "start_time": "2021-09-28T02:24:20.567Z"
   },
   {
    "duration": 793,
    "start_time": "2021-09-28T02:24:20.615Z"
   },
   {
    "duration": 12,
    "start_time": "2021-09-28T02:24:21.410Z"
   },
   {
    "duration": 13,
    "start_time": "2021-09-28T02:24:21.425Z"
   },
   {
    "duration": 48,
    "start_time": "2021-09-28T02:24:21.440Z"
   },
   {
    "duration": 223,
    "start_time": "2021-09-28T02:24:21.491Z"
   },
   {
    "duration": 12,
    "start_time": "2021-09-28T02:24:21.717Z"
   },
   {
    "duration": 10,
    "start_time": "2021-09-28T02:24:21.731Z"
   },
   {
    "duration": 47,
    "start_time": "2021-09-28T02:24:21.744Z"
   },
   {
    "duration": 229,
    "start_time": "2021-09-28T02:24:21.793Z"
   },
   {
    "duration": 218,
    "start_time": "2021-09-28T02:24:22.024Z"
   },
   {
    "duration": 12,
    "start_time": "2021-09-28T02:24:22.244Z"
   },
   {
    "duration": 24,
    "start_time": "2021-09-28T02:24:22.258Z"
   },
   {
    "duration": 15,
    "start_time": "2021-09-28T02:24:22.284Z"
   },
   {
    "duration": 247,
    "start_time": "2021-09-28T02:24:22.302Z"
   },
   {
    "duration": 33,
    "start_time": "2021-09-28T02:24:22.552Z"
   },
   {
    "duration": 29,
    "start_time": "2021-09-28T02:24:22.587Z"
   },
   {
    "duration": 14,
    "start_time": "2021-09-28T02:24:22.619Z"
   },
   {
    "duration": 6,
    "start_time": "2021-09-28T02:24:22.636Z"
   },
   {
    "duration": 28,
    "start_time": "2021-09-28T02:24:22.684Z"
   },
   {
    "duration": 25,
    "start_time": "2021-09-28T02:24:22.715Z"
   },
   {
    "duration": 58,
    "start_time": "2021-09-28T02:24:22.743Z"
   },
   {
    "duration": 12,
    "start_time": "2021-09-28T02:24:22.804Z"
   },
   {
    "duration": 63,
    "start_time": "2021-09-28T02:24:22.820Z"
   },
   {
    "duration": 12,
    "start_time": "2021-09-28T02:24:22.885Z"
   },
   {
    "duration": 21,
    "start_time": "2021-09-28T02:24:22.900Z"
   },
   {
    "duration": 67,
    "start_time": "2021-09-28T02:24:22.924Z"
   },
   {
    "duration": 18,
    "start_time": "2021-09-28T02:24:22.995Z"
   },
   {
    "duration": 16,
    "start_time": "2021-09-28T02:24:23.016Z"
   },
   {
    "duration": 50,
    "start_time": "2021-09-28T02:24:23.035Z"
   },
   {
    "duration": 10,
    "start_time": "2021-09-28T02:24:23.088Z"
   },
   {
    "duration": 14,
    "start_time": "2021-09-28T02:24:23.102Z"
   },
   {
    "duration": 127,
    "start_time": "2021-09-28T02:24:23.118Z"
   },
   {
    "duration": 8,
    "start_time": "2021-09-28T02:24:23.247Z"
   },
   {
    "duration": 77,
    "start_time": "2021-09-28T02:24:23.258Z"
   },
   {
    "duration": 223,
    "start_time": "2021-09-28T02:24:23.337Z"
   },
   {
    "duration": 70,
    "start_time": "2021-09-28T02:24:23.562Z"
   },
   {
    "duration": 11,
    "start_time": "2021-09-28T02:24:23.634Z"
   },
   {
    "duration": 36,
    "start_time": "2021-09-28T02:24:23.647Z"
   },
   {
    "duration": 115,
    "start_time": "2021-09-28T02:24:23.686Z"
   },
   {
    "duration": 3,
    "start_time": "2021-09-28T02:24:23.804Z"
   },
   {
    "duration": 117,
    "start_time": "2021-09-28T02:24:23.810Z"
   },
   {
    "duration": 3,
    "start_time": "2021-09-28T02:24:23.930Z"
   },
   {
    "duration": 415,
    "start_time": "2021-09-28T02:24:23.941Z"
   },
   {
    "duration": 38,
    "start_time": "2021-09-28T02:24:24.359Z"
   },
   {
    "duration": 28,
    "start_time": "2021-09-28T02:24:24.400Z"
   },
   {
    "duration": 52,
    "start_time": "2021-09-28T02:24:24.430Z"
   },
   {
    "duration": 38,
    "start_time": "2021-09-28T02:24:24.485Z"
   },
   {
    "duration": 132,
    "start_time": "2021-09-28T02:24:24.526Z"
   },
   {
    "duration": 8,
    "start_time": "2021-09-28T02:24:24.660Z"
   },
   {
    "duration": 380,
    "start_time": "2021-09-28T02:24:24.682Z"
   },
   {
    "duration": -16050,
    "start_time": "2021-09-28T02:24:41.115Z"
   },
   {
    "duration": -16192,
    "start_time": "2021-09-28T02:24:41.259Z"
   },
   {
    "duration": -16196,
    "start_time": "2021-09-28T02:24:41.265Z"
   },
   {
    "duration": -16199,
    "start_time": "2021-09-28T02:24:41.270Z"
   },
   {
    "duration": -16201,
    "start_time": "2021-09-28T02:24:41.275Z"
   },
   {
    "duration": -16204,
    "start_time": "2021-09-28T02:24:41.280Z"
   },
   {
    "duration": -16395,
    "start_time": "2021-09-28T02:24:41.473Z"
   },
   {
    "duration": -16399,
    "start_time": "2021-09-28T02:24:41.479Z"
   },
   {
    "duration": -16403,
    "start_time": "2021-09-28T02:24:41.485Z"
   },
   {
    "duration": -16406,
    "start_time": "2021-09-28T02:24:41.490Z"
   },
   {
    "duration": -16410,
    "start_time": "2021-09-28T02:24:41.496Z"
   },
   {
    "duration": -16413,
    "start_time": "2021-09-28T02:24:41.501Z"
   },
   {
    "duration": -16663,
    "start_time": "2021-09-28T02:24:41.753Z"
   },
   {
    "duration": -16667,
    "start_time": "2021-09-28T02:24:41.759Z"
   },
   {
    "duration": -16670,
    "start_time": "2021-09-28T02:24:41.764Z"
   },
   {
    "duration": -16673,
    "start_time": "2021-09-28T02:24:41.769Z"
   },
   {
    "duration": 246,
    "start_time": "2021-09-28T02:30:48.777Z"
   },
   {
    "duration": 231,
    "start_time": "2021-09-28T02:31:03.923Z"
   },
   {
    "duration": 255,
    "start_time": "2021-09-28T02:33:12.058Z"
   },
   {
    "duration": 7,
    "start_time": "2021-09-28T02:33:25.829Z"
   },
   {
    "duration": 7,
    "start_time": "2021-09-28T02:33:47.306Z"
   },
   {
    "duration": 8,
    "start_time": "2021-09-28T02:35:27.101Z"
   },
   {
    "duration": 7,
    "start_time": "2021-09-28T02:35:57.524Z"
   },
   {
    "duration": 8,
    "start_time": "2021-09-28T02:36:09.913Z"
   },
   {
    "duration": 8,
    "start_time": "2021-09-28T02:36:18.112Z"
   },
   {
    "duration": 9,
    "start_time": "2021-09-28T02:37:01.633Z"
   },
   {
    "duration": 7,
    "start_time": "2021-09-28T02:39:14.767Z"
   },
   {
    "duration": 9,
    "start_time": "2021-09-28T02:39:25.059Z"
   },
   {
    "duration": 5926,
    "start_time": "2021-09-28T02:40:14.740Z"
   },
   {
    "duration": 15,
    "start_time": "2021-09-28T02:42:20.450Z"
   },
   {
    "duration": 1391,
    "start_time": "2021-09-28T02:51:45.740Z"
   },
   {
    "duration": 3,
    "start_time": "2021-09-28T02:51:47.134Z"
   },
   {
    "duration": 354,
    "start_time": "2021-09-28T02:51:47.140Z"
   },
   {
    "duration": 18,
    "start_time": "2021-09-28T02:51:47.497Z"
   },
   {
    "duration": 14,
    "start_time": "2021-09-28T02:51:47.518Z"
   },
   {
    "duration": 12,
    "start_time": "2021-09-28T02:51:47.535Z"
   },
   {
    "duration": 117,
    "start_time": "2021-09-28T02:51:47.582Z"
   },
   {
    "duration": 21,
    "start_time": "2021-09-28T02:51:47.703Z"
   },
   {
    "duration": 12,
    "start_time": "2021-09-28T02:51:47.727Z"
   },
   {
    "duration": 181,
    "start_time": "2021-09-28T02:51:47.741Z"
   },
   {
    "duration": 11,
    "start_time": "2021-09-28T02:51:47.924Z"
   },
   {
    "duration": 128,
    "start_time": "2021-09-28T02:51:47.937Z"
   },
   {
    "duration": 25,
    "start_time": "2021-09-28T02:51:48.068Z"
   },
   {
    "duration": 9,
    "start_time": "2021-09-28T02:51:48.096Z"
   },
   {
    "duration": 117,
    "start_time": "2021-09-28T02:51:48.108Z"
   },
   {
    "duration": 10,
    "start_time": "2021-09-28T02:51:48.228Z"
   },
   {
    "duration": 84,
    "start_time": "2021-09-28T02:51:48.240Z"
   },
   {
    "duration": 14,
    "start_time": "2021-09-28T02:51:48.326Z"
   },
   {
    "duration": 55,
    "start_time": "2021-09-28T02:51:48.342Z"
   },
   {
    "duration": 107,
    "start_time": "2021-09-28T02:51:48.399Z"
   },
   {
    "duration": 46,
    "start_time": "2021-09-28T02:51:48.508Z"
   },
   {
    "duration": 31,
    "start_time": "2021-09-28T02:51:48.557Z"
   },
   {
    "duration": 14,
    "start_time": "2021-09-28T02:51:48.596Z"
   },
   {
    "duration": 184,
    "start_time": "2021-09-28T02:51:48.614Z"
   },
   {
    "duration": 38,
    "start_time": "2021-09-28T02:51:48.801Z"
   },
   {
    "duration": 532,
    "start_time": "2021-09-28T02:51:48.842Z"
   },
   {
    "duration": 17,
    "start_time": "2021-09-28T02:51:49.376Z"
   },
   {
    "duration": 14,
    "start_time": "2021-09-28T02:51:49.395Z"
   },
   {
    "duration": 18,
    "start_time": "2021-09-28T02:51:49.411Z"
   },
   {
    "duration": 260,
    "start_time": "2021-09-28T02:51:49.431Z"
   },
   {
    "duration": 12,
    "start_time": "2021-09-28T02:51:49.693Z"
   },
   {
    "duration": 10,
    "start_time": "2021-09-28T02:51:49.708Z"
   },
   {
    "duration": 16,
    "start_time": "2021-09-28T02:51:49.720Z"
   },
   {
    "duration": 272,
    "start_time": "2021-09-28T02:51:49.738Z"
   },
   {
    "duration": 224,
    "start_time": "2021-09-28T02:51:50.013Z"
   },
   {
    "duration": 12,
    "start_time": "2021-09-28T02:51:50.239Z"
   },
   {
    "duration": 35,
    "start_time": "2021-09-28T02:51:50.253Z"
   },
   {
    "duration": 14,
    "start_time": "2021-09-28T02:51:50.291Z"
   },
   {
    "duration": 243,
    "start_time": "2021-09-28T02:51:50.307Z"
   },
   {
    "duration": 14,
    "start_time": "2021-09-28T02:51:50.552Z"
   },
   {
    "duration": 24,
    "start_time": "2021-09-28T02:51:50.583Z"
   },
   {
    "duration": 14,
    "start_time": "2021-09-28T02:51:50.610Z"
   },
   {
    "duration": 13,
    "start_time": "2021-09-28T02:51:50.626Z"
   },
   {
    "duration": 58,
    "start_time": "2021-09-28T02:51:50.641Z"
   },
   {
    "duration": 23,
    "start_time": "2021-09-28T02:51:50.701Z"
   },
   {
    "duration": 17,
    "start_time": "2021-09-28T02:51:50.726Z"
   },
   {
    "duration": 43,
    "start_time": "2021-09-28T02:51:50.745Z"
   },
   {
    "duration": 12,
    "start_time": "2021-09-28T02:51:50.790Z"
   },
   {
    "duration": 11,
    "start_time": "2021-09-28T02:51:50.804Z"
   },
   {
    "duration": 20,
    "start_time": "2021-09-28T02:51:50.817Z"
   },
   {
    "duration": 19,
    "start_time": "2021-09-28T02:51:50.882Z"
   },
   {
    "duration": 16,
    "start_time": "2021-09-28T02:51:50.903Z"
   },
   {
    "duration": 14,
    "start_time": "2021-09-28T02:51:50.921Z"
   },
   {
    "duration": 56,
    "start_time": "2021-09-28T02:51:50.938Z"
   },
   {
    "duration": 8,
    "start_time": "2021-09-28T02:51:50.996Z"
   },
   {
    "duration": 11,
    "start_time": "2021-09-28T02:51:51.006Z"
   },
   {
    "duration": 119,
    "start_time": "2021-09-28T02:51:51.019Z"
   },
   {
    "duration": 11,
    "start_time": "2021-09-28T02:51:51.141Z"
   },
   {
    "duration": 54,
    "start_time": "2021-09-28T02:51:51.183Z"
   },
   {
    "duration": 223,
    "start_time": "2021-09-28T02:51:51.239Z"
   },
   {
    "duration": 69,
    "start_time": "2021-09-28T02:51:51.464Z"
   },
   {
    "duration": 10,
    "start_time": "2021-09-28T02:51:51.535Z"
   },
   {
    "duration": 37,
    "start_time": "2021-09-28T02:51:51.548Z"
   },
   {
    "duration": 108,
    "start_time": "2021-09-28T02:51:51.587Z"
   },
   {
    "duration": 106,
    "start_time": "2021-09-28T02:51:51.698Z"
   },
   {
    "duration": 28,
    "start_time": "2021-09-28T02:51:51.806Z"
   },
   {
    "duration": 57,
    "start_time": "2021-09-28T02:51:51.836Z"
   },
   {
    "duration": 25,
    "start_time": "2021-09-28T02:51:51.902Z"
   },
   {
    "duration": 64,
    "start_time": "2021-09-28T02:51:51.930Z"
   },
   {
    "duration": 45,
    "start_time": "2021-09-28T02:51:51.996Z"
   },
   {
    "duration": 8,
    "start_time": "2021-09-28T02:51:52.044Z"
   },
   {
    "duration": 34,
    "start_time": "2021-09-28T02:51:52.054Z"
   },
   {
    "duration": 13,
    "start_time": "2021-09-28T02:51:52.091Z"
   },
   {
    "duration": 8,
    "start_time": "2021-09-28T02:51:52.107Z"
   },
   {
    "duration": 11,
    "start_time": "2021-09-28T02:51:52.117Z"
   },
   {
    "duration": 63,
    "start_time": "2021-09-28T02:51:52.130Z"
   },
   {
    "duration": 4,
    "start_time": "2021-09-28T02:51:52.196Z"
   },
   {
    "duration": 9,
    "start_time": "2021-09-28T02:51:52.203Z"
   },
   {
    "duration": 368,
    "start_time": "2021-09-28T02:51:52.214Z"
   },
   {
    "duration": -20801,
    "start_time": "2021-09-28T02:52:13.386Z"
   },
   {
    "duration": -20805,
    "start_time": "2021-09-28T02:52:13.392Z"
   },
   {
    "duration": -20809,
    "start_time": "2021-09-28T02:52:13.398Z"
   },
   {
    "duration": -20811,
    "start_time": "2021-09-28T02:52:13.402Z"
   },
   {
    "duration": -20932,
    "start_time": "2021-09-28T02:52:13.526Z"
   },
   {
    "duration": -20995,
    "start_time": "2021-09-28T02:52:13.591Z"
   },
   {
    "duration": -21045,
    "start_time": "2021-09-28T02:52:13.643Z"
   },
   {
    "duration": -21314,
    "start_time": "2021-09-28T02:52:13.914Z"
   },
   {
    "duration": -21317,
    "start_time": "2021-09-28T02:52:13.920Z"
   },
   {
    "duration": -21525,
    "start_time": "2021-09-28T02:52:14.130Z"
   },
   {
    "duration": -21536,
    "start_time": "2021-09-28T02:52:14.144Z"
   },
   {
    "duration": 50,
    "start_time": "2021-09-28T03:02:11.557Z"
   },
   {
    "duration": 16,
    "start_time": "2021-09-28T03:06:21.653Z"
   },
   {
    "duration": 97,
    "start_time": "2021-09-28T03:06:59.480Z"
   },
   {
    "duration": 23,
    "start_time": "2021-09-28T03:09:51.399Z"
   },
   {
    "duration": 112,
    "start_time": "2021-09-28T03:14:25.936Z"
   },
   {
    "duration": 80,
    "start_time": "2021-09-28T03:14:43.722Z"
   },
   {
    "duration": 22,
    "start_time": "2021-09-28T03:14:59.072Z"
   },
   {
    "duration": 24,
    "start_time": "2021-09-28T03:16:46.257Z"
   },
   {
    "duration": 25,
    "start_time": "2021-09-28T03:17:46.722Z"
   },
   {
    "duration": 305,
    "start_time": "2021-09-28T03:20:08.735Z"
   },
   {
    "duration": 1474,
    "start_time": "2021-09-28T17:50:51.744Z"
   },
   {
    "duration": 4,
    "start_time": "2021-09-28T17:50:53.220Z"
   },
   {
    "duration": 995,
    "start_time": "2021-09-28T17:50:53.227Z"
   },
   {
    "duration": 18,
    "start_time": "2021-09-28T17:50:54.225Z"
   },
   {
    "duration": 25,
    "start_time": "2021-09-28T17:50:54.245Z"
   },
   {
    "duration": 23,
    "start_time": "2021-09-28T17:50:54.273Z"
   },
   {
    "duration": 134,
    "start_time": "2021-09-28T17:50:54.298Z"
   },
   {
    "duration": 28,
    "start_time": "2021-09-28T17:50:54.436Z"
   },
   {
    "duration": 15,
    "start_time": "2021-09-28T17:50:54.467Z"
   },
   {
    "duration": 176,
    "start_time": "2021-09-28T17:50:54.485Z"
   },
   {
    "duration": 15,
    "start_time": "2021-09-28T17:50:54.664Z"
   },
   {
    "duration": 159,
    "start_time": "2021-09-28T17:50:54.683Z"
   },
   {
    "duration": 22,
    "start_time": "2021-09-28T17:50:54.845Z"
   },
   {
    "duration": 16,
    "start_time": "2021-09-28T17:50:54.870Z"
   },
   {
    "duration": 219,
    "start_time": "2021-09-28T17:50:54.890Z"
   },
   {
    "duration": 16,
    "start_time": "2021-09-28T17:50:55.113Z"
   },
   {
    "duration": 127,
    "start_time": "2021-09-28T17:50:55.132Z"
   },
   {
    "duration": 23,
    "start_time": "2021-09-28T17:50:55.262Z"
   },
   {
    "duration": 38,
    "start_time": "2021-09-28T17:50:55.287Z"
   },
   {
    "duration": 143,
    "start_time": "2021-09-28T17:50:55.329Z"
   },
   {
    "duration": 48,
    "start_time": "2021-09-28T17:50:55.478Z"
   },
   {
    "duration": 33,
    "start_time": "2021-09-28T17:50:55.528Z"
   },
   {
    "duration": 17,
    "start_time": "2021-09-28T17:50:55.569Z"
   },
   {
    "duration": 216,
    "start_time": "2021-09-28T17:50:55.590Z"
   },
   {
    "duration": 56,
    "start_time": "2021-09-28T17:50:55.809Z"
   },
   {
    "duration": 608,
    "start_time": "2021-09-28T17:50:55.867Z"
   },
   {
    "duration": 17,
    "start_time": "2021-09-28T17:50:56.478Z"
   },
   {
    "duration": 19,
    "start_time": "2021-09-28T17:50:56.499Z"
   },
   {
    "duration": 56,
    "start_time": "2021-09-28T17:50:56.521Z"
   },
   {
    "duration": 246,
    "start_time": "2021-09-28T17:50:56.579Z"
   },
   {
    "duration": 12,
    "start_time": "2021-09-28T17:50:56.827Z"
   },
   {
    "duration": 24,
    "start_time": "2021-09-28T17:50:56.842Z"
   },
   {
    "duration": 19,
    "start_time": "2021-09-28T17:50:56.870Z"
   },
   {
    "duration": 271,
    "start_time": "2021-09-28T17:50:56.894Z"
   },
   {
    "duration": 243,
    "start_time": "2021-09-28T17:50:57.168Z"
   },
   {
    "duration": 12,
    "start_time": "2021-09-28T17:50:57.413Z"
   },
   {
    "duration": 32,
    "start_time": "2021-09-28T17:50:57.427Z"
   },
   {
    "duration": 18,
    "start_time": "2021-09-28T17:50:57.463Z"
   },
   {
    "duration": 280,
    "start_time": "2021-09-28T17:50:57.484Z"
   },
   {
    "duration": 21,
    "start_time": "2021-09-28T17:50:57.767Z"
   },
   {
    "duration": 66,
    "start_time": "2021-09-28T17:50:57.791Z"
   },
   {
    "duration": 21,
    "start_time": "2021-09-28T17:50:57.860Z"
   },
   {
    "duration": 9,
    "start_time": "2021-09-28T17:50:57.884Z"
   },
   {
    "duration": 64,
    "start_time": "2021-09-28T17:50:57.896Z"
   },
   {
    "duration": 32,
    "start_time": "2021-09-28T17:50:57.965Z"
   },
   {
    "duration": 27,
    "start_time": "2021-09-28T17:50:58.000Z"
   },
   {
    "duration": 15,
    "start_time": "2021-09-28T17:50:58.059Z"
   },
   {
    "duration": 10,
    "start_time": "2021-09-28T17:50:58.077Z"
   },
   {
    "duration": 8,
    "start_time": "2021-09-28T17:50:58.089Z"
   },
   {
    "duration": 72,
    "start_time": "2021-09-28T17:50:58.099Z"
   },
   {
    "duration": 20,
    "start_time": "2021-09-28T17:50:58.173Z"
   },
   {
    "duration": 17,
    "start_time": "2021-09-28T17:50:58.196Z"
   },
   {
    "duration": 22,
    "start_time": "2021-09-28T17:50:58.259Z"
   },
   {
    "duration": 15,
    "start_time": "2021-09-28T17:50:58.284Z"
   },
   {
    "duration": 23,
    "start_time": "2021-09-28T17:50:58.302Z"
   },
   {
    "duration": 50,
    "start_time": "2021-09-28T17:50:58.327Z"
   },
   {
    "duration": 111,
    "start_time": "2021-09-28T17:50:58.380Z"
   },
   {
    "duration": 8,
    "start_time": "2021-09-28T17:50:58.494Z"
   },
   {
    "duration": 114,
    "start_time": "2021-09-28T17:50:58.504Z"
   },
   {
    "duration": 238,
    "start_time": "2021-09-28T17:50:58.621Z"
   },
   {
    "duration": 68,
    "start_time": "2021-09-28T17:50:58.862Z"
   },
   {
    "duration": 34,
    "start_time": "2021-09-28T17:50:58.933Z"
   },
   {
    "duration": 16,
    "start_time": "2021-09-28T17:50:58.970Z"
   },
   {
    "duration": 137,
    "start_time": "2021-09-28T17:50:58.989Z"
   },
   {
    "duration": 124,
    "start_time": "2021-09-28T17:50:59.128Z"
   },
   {
    "duration": 37,
    "start_time": "2021-09-28T17:50:59.259Z"
   },
   {
    "duration": 64,
    "start_time": "2021-09-28T17:50:59.298Z"
   },
   {
    "duration": 29,
    "start_time": "2021-09-28T17:50:59.372Z"
   },
   {
    "duration": 82,
    "start_time": "2021-09-28T17:50:59.406Z"
   },
   {
    "duration": 47,
    "start_time": "2021-09-28T17:50:59.490Z"
   },
   {
    "duration": 130,
    "start_time": "2021-09-28T17:50:59.540Z"
   },
   {
    "duration": 808,
    "start_time": "2021-09-28T17:50:58.866Z"
   },
   {
    "duration": 805,
    "start_time": "2021-09-28T17:50:58.871Z"
   },
   {
    "duration": 802,
    "start_time": "2021-09-28T17:50:58.877Z"
   },
   {
    "duration": 794,
    "start_time": "2021-09-28T17:50:58.887Z"
   },
   {
    "duration": 789,
    "start_time": "2021-09-28T17:50:58.894Z"
   },
   {
    "duration": 783,
    "start_time": "2021-09-28T17:50:58.902Z"
   },
   {
    "duration": 780,
    "start_time": "2021-09-28T17:50:58.907Z"
   },
   {
    "duration": 777,
    "start_time": "2021-09-28T17:50:58.912Z"
   },
   {
    "duration": 774,
    "start_time": "2021-09-28T17:50:58.917Z"
   },
   {
    "duration": 769,
    "start_time": "2021-09-28T17:50:58.923Z"
   },
   {
    "duration": 766,
    "start_time": "2021-09-28T17:50:58.928Z"
   },
   {
    "duration": 762,
    "start_time": "2021-09-28T17:50:58.933Z"
   },
   {
    "duration": 757,
    "start_time": "2021-09-28T17:50:58.939Z"
   },
   {
    "duration": 741,
    "start_time": "2021-09-28T17:50:58.956Z"
   },
   {
    "duration": 736,
    "start_time": "2021-09-28T17:50:58.962Z"
   },
   {
    "duration": 733,
    "start_time": "2021-09-28T17:50:58.967Z"
   },
   {
    "duration": 730,
    "start_time": "2021-09-28T17:50:58.971Z"
   },
   {
    "duration": 724,
    "start_time": "2021-09-28T17:50:58.978Z"
   },
   {
    "duration": 719,
    "start_time": "2021-09-28T17:50:58.984Z"
   },
   {
    "duration": 714,
    "start_time": "2021-09-28T17:50:58.990Z"
   },
   {
    "duration": 698,
    "start_time": "2021-09-28T17:50:59.008Z"
   },
   {
    "duration": 692,
    "start_time": "2021-09-28T17:50:59.015Z"
   },
   {
    "duration": 7,
    "start_time": "2021-09-28T17:52:24.788Z"
   },
   {
    "duration": 47,
    "start_time": "2021-09-28T17:52:33.139Z"
   },
   {
    "duration": 1547,
    "start_time": "2021-09-28T17:52:57.046Z"
   },
   {
    "duration": 3,
    "start_time": "2021-09-28T17:52:58.596Z"
   },
   {
    "duration": 425,
    "start_time": "2021-09-28T17:52:58.602Z"
   },
   {
    "duration": 18,
    "start_time": "2021-09-28T17:52:59.030Z"
   },
   {
    "duration": 30,
    "start_time": "2021-09-28T17:52:59.050Z"
   },
   {
    "duration": 38,
    "start_time": "2021-09-28T17:52:59.083Z"
   },
   {
    "duration": 172,
    "start_time": "2021-09-28T17:52:59.125Z"
   },
   {
    "duration": 20,
    "start_time": "2021-09-28T17:52:59.299Z"
   },
   {
    "duration": 37,
    "start_time": "2021-09-28T17:52:59.326Z"
   },
   {
    "duration": 169,
    "start_time": "2021-09-28T17:52:59.368Z"
   },
   {
    "duration": 21,
    "start_time": "2021-09-28T17:52:59.540Z"
   },
   {
    "duration": 194,
    "start_time": "2021-09-28T17:52:59.564Z"
   },
   {
    "duration": 18,
    "start_time": "2021-09-28T17:52:59.761Z"
   },
   {
    "duration": 13,
    "start_time": "2021-09-28T17:52:59.781Z"
   },
   {
    "duration": 149,
    "start_time": "2021-09-28T17:52:59.797Z"
   },
   {
    "duration": 15,
    "start_time": "2021-09-28T17:52:59.957Z"
   },
   {
    "duration": 111,
    "start_time": "2021-09-28T17:52:59.975Z"
   },
   {
    "duration": 23,
    "start_time": "2021-09-28T17:53:00.089Z"
   },
   {
    "duration": 62,
    "start_time": "2021-09-28T17:53:00.114Z"
   },
   {
    "duration": 168,
    "start_time": "2021-09-28T17:53:00.180Z"
   },
   {
    "duration": 85,
    "start_time": "2021-09-28T17:53:00.351Z"
   },
   {
    "duration": 21,
    "start_time": "2021-09-28T17:53:00.459Z"
   },
   {
    "duration": 22,
    "start_time": "2021-09-28T17:53:00.482Z"
   },
   {
    "duration": 229,
    "start_time": "2021-09-28T17:53:00.507Z"
   },
   {
    "duration": 49,
    "start_time": "2021-09-28T17:53:00.739Z"
   },
   {
    "duration": 626,
    "start_time": "2021-09-28T17:53:00.791Z"
   },
   {
    "duration": 13,
    "start_time": "2021-09-28T17:53:01.423Z"
   },
   {
    "duration": 35,
    "start_time": "2021-09-28T17:53:01.439Z"
   },
   {
    "duration": 24,
    "start_time": "2021-09-28T17:53:01.477Z"
   },
   {
    "duration": 267,
    "start_time": "2021-09-28T17:53:01.504Z"
   },
   {
    "duration": 13,
    "start_time": "2021-09-28T17:53:01.774Z"
   },
   {
    "duration": 27,
    "start_time": "2021-09-28T17:53:01.789Z"
   },
   {
    "duration": 25,
    "start_time": "2021-09-28T17:53:01.819Z"
   },
   {
    "duration": 251,
    "start_time": "2021-09-28T17:53:01.859Z"
   },
   {
    "duration": 240,
    "start_time": "2021-09-28T17:53:02.113Z"
   },
   {
    "duration": 12,
    "start_time": "2021-09-28T17:53:02.358Z"
   },
   {
    "duration": 39,
    "start_time": "2021-09-28T17:53:02.373Z"
   },
   {
    "duration": 33,
    "start_time": "2021-09-28T17:53:02.414Z"
   },
   {
    "duration": 261,
    "start_time": "2021-09-28T17:53:02.449Z"
   },
   {
    "duration": 17,
    "start_time": "2021-09-28T17:53:02.712Z"
   },
   {
    "duration": 61,
    "start_time": "2021-09-28T17:53:02.732Z"
   },
   {
    "duration": 15,
    "start_time": "2021-09-28T17:53:02.795Z"
   },
   {
    "duration": 18,
    "start_time": "2021-09-28T17:53:02.813Z"
   },
   {
    "duration": 48,
    "start_time": "2021-09-28T17:53:02.834Z"
   },
   {
    "duration": 23,
    "start_time": "2021-09-28T17:53:02.885Z"
   },
   {
    "duration": 18,
    "start_time": "2021-09-28T17:53:02.910Z"
   },
   {
    "duration": 11,
    "start_time": "2021-09-28T17:53:02.958Z"
   },
   {
    "duration": 23,
    "start_time": "2021-09-28T17:53:02.971Z"
   },
   {
    "duration": 21,
    "start_time": "2021-09-28T17:53:02.997Z"
   },
   {
    "duration": 57,
    "start_time": "2021-09-28T17:53:03.021Z"
   },
   {
    "duration": 24,
    "start_time": "2021-09-28T17:53:03.081Z"
   },
   {
    "duration": 24,
    "start_time": "2021-09-28T17:53:03.107Z"
   },
   {
    "duration": 40,
    "start_time": "2021-09-28T17:53:03.133Z"
   },
   {
    "duration": 20,
    "start_time": "2021-09-28T17:53:03.177Z"
   },
   {
    "duration": 19,
    "start_time": "2021-09-28T17:53:03.200Z"
   },
   {
    "duration": 41,
    "start_time": "2021-09-28T17:53:03.221Z"
   },
   {
    "duration": 109,
    "start_time": "2021-09-28T17:53:03.265Z"
   },
   {
    "duration": 11,
    "start_time": "2021-09-28T17:53:03.377Z"
   },
   {
    "duration": 78,
    "start_time": "2021-09-28T17:53:03.390Z"
   },
   {
    "duration": 242,
    "start_time": "2021-09-28T17:53:03.471Z"
   },
   {
    "duration": 90,
    "start_time": "2021-09-28T17:53:03.716Z"
   },
   {
    "duration": 12,
    "start_time": "2021-09-28T17:53:03.811Z"
   },
   {
    "duration": 39,
    "start_time": "2021-09-28T17:53:03.825Z"
   },
   {
    "duration": 124,
    "start_time": "2021-09-28T17:53:03.866Z"
   },
   {
    "duration": 120,
    "start_time": "2021-09-28T17:53:03.993Z"
   },
   {
    "duration": 42,
    "start_time": "2021-09-28T17:53:04.116Z"
   },
   {
    "duration": 56,
    "start_time": "2021-09-28T17:53:04.161Z"
   },
   {
    "duration": 42,
    "start_time": "2021-09-28T17:53:04.221Z"
   },
   {
    "duration": 40,
    "start_time": "2021-09-28T17:53:04.266Z"
   },
   {
    "duration": 80,
    "start_time": "2021-09-28T17:53:04.309Z"
   },
   {
    "duration": 111,
    "start_time": "2021-09-28T17:53:04.391Z"
   },
   {
    "duration": 910,
    "start_time": "2021-09-28T17:53:03.595Z"
   },
   {
    "duration": 826,
    "start_time": "2021-09-28T17:53:03.681Z"
   },
   {
    "duration": 819,
    "start_time": "2021-09-28T17:53:03.689Z"
   },
   {
    "duration": 815,
    "start_time": "2021-09-28T17:53:03.695Z"
   },
   {
    "duration": 812,
    "start_time": "2021-09-28T17:53:03.699Z"
   },
   {
    "duration": 810,
    "start_time": "2021-09-28T17:53:03.703Z"
   },
   {
    "duration": 806,
    "start_time": "2021-09-28T17:53:03.708Z"
   },
   {
    "duration": 803,
    "start_time": "2021-09-28T17:53:03.713Z"
   },
   {
    "duration": 796,
    "start_time": "2021-09-28T17:53:03.721Z"
   },
   {
    "duration": 791,
    "start_time": "2021-09-28T17:53:03.728Z"
   },
   {
    "duration": 786,
    "start_time": "2021-09-28T17:53:03.735Z"
   },
   {
    "duration": 783,
    "start_time": "2021-09-28T17:53:03.739Z"
   },
   {
    "duration": 775,
    "start_time": "2021-09-28T17:53:03.748Z"
   },
   {
    "duration": 773,
    "start_time": "2021-09-28T17:53:03.752Z"
   },
   {
    "duration": 770,
    "start_time": "2021-09-28T17:53:03.757Z"
   },
   {
    "duration": 766,
    "start_time": "2021-09-28T17:53:03.762Z"
   },
   {
    "duration": 760,
    "start_time": "2021-09-28T17:53:03.770Z"
   },
   {
    "duration": 756,
    "start_time": "2021-09-28T17:53:03.775Z"
   },
   {
    "duration": 741,
    "start_time": "2021-09-28T17:53:03.792Z"
   },
   {
    "duration": 737,
    "start_time": "2021-09-28T17:53:03.797Z"
   },
   {
    "duration": 734,
    "start_time": "2021-09-28T17:53:03.802Z"
   },
   {
    "duration": 724,
    "start_time": "2021-09-28T17:53:03.813Z"
   },
   {
    "duration": 49,
    "start_time": "2021-09-28T17:53:32.856Z"
   },
   {
    "duration": 1735,
    "start_time": "2021-09-28T17:54:21.613Z"
   },
   {
    "duration": 6,
    "start_time": "2021-09-28T17:54:23.352Z"
   },
   {
    "duration": 608,
    "start_time": "2021-09-28T17:54:23.364Z"
   },
   {
    "duration": 20,
    "start_time": "2021-09-28T17:54:23.975Z"
   },
   {
    "duration": 14,
    "start_time": "2021-09-28T17:54:23.998Z"
   },
   {
    "duration": 20,
    "start_time": "2021-09-28T17:54:24.015Z"
   },
   {
    "duration": 221,
    "start_time": "2021-09-28T17:54:24.037Z"
   },
   {
    "duration": 25,
    "start_time": "2021-09-28T17:54:24.263Z"
   },
   {
    "duration": 15,
    "start_time": "2021-09-28T17:54:24.293Z"
   },
   {
    "duration": 190,
    "start_time": "2021-09-28T17:54:24.311Z"
   },
   {
    "duration": 12,
    "start_time": "2021-09-28T17:54:24.504Z"
   },
   {
    "duration": 159,
    "start_time": "2021-09-28T17:54:24.519Z"
   },
   {
    "duration": 18,
    "start_time": "2021-09-28T17:54:24.681Z"
   },
   {
    "duration": 11,
    "start_time": "2021-09-28T17:54:24.701Z"
   },
   {
    "duration": 154,
    "start_time": "2021-09-28T17:54:24.714Z"
   },
   {
    "duration": 16,
    "start_time": "2021-09-28T17:54:24.871Z"
   },
   {
    "duration": 117,
    "start_time": "2021-09-28T17:54:24.890Z"
   },
   {
    "duration": 17,
    "start_time": "2021-09-28T17:54:25.010Z"
   },
   {
    "duration": 49,
    "start_time": "2021-09-28T17:54:25.030Z"
   },
   {
    "duration": 150,
    "start_time": "2021-09-28T17:54:25.082Z"
   },
   {
    "duration": 82,
    "start_time": "2021-09-28T17:54:25.235Z"
   },
   {
    "duration": 41,
    "start_time": "2021-09-28T17:54:25.320Z"
   },
   {
    "duration": 22,
    "start_time": "2021-09-28T17:54:25.373Z"
   },
   {
    "duration": 256,
    "start_time": "2021-09-28T17:54:25.402Z"
   },
   {
    "duration": 50,
    "start_time": "2021-09-28T17:54:25.661Z"
   },
   {
    "duration": 745,
    "start_time": "2021-09-28T17:54:25.716Z"
   },
   {
    "duration": 19,
    "start_time": "2021-09-28T17:54:26.464Z"
   },
   {
    "duration": 16,
    "start_time": "2021-09-28T17:54:26.486Z"
   },
   {
    "duration": 54,
    "start_time": "2021-09-28T17:54:26.504Z"
   },
   {
    "duration": 248,
    "start_time": "2021-09-28T17:54:26.561Z"
   },
   {
    "duration": 14,
    "start_time": "2021-09-28T17:54:26.812Z"
   },
   {
    "duration": 35,
    "start_time": "2021-09-28T17:54:26.829Z"
   },
   {
    "duration": 24,
    "start_time": "2021-09-28T17:54:26.867Z"
   },
   {
    "duration": 387,
    "start_time": "2021-09-28T17:54:26.895Z"
   },
   {
    "duration": 313,
    "start_time": "2021-09-28T17:54:27.284Z"
   },
   {
    "duration": 13,
    "start_time": "2021-09-28T17:54:27.600Z"
   },
   {
    "duration": 10,
    "start_time": "2021-09-28T17:54:27.616Z"
   },
   {
    "duration": 20,
    "start_time": "2021-09-28T17:54:27.658Z"
   },
   {
    "duration": 286,
    "start_time": "2021-09-28T17:54:27.681Z"
   },
   {
    "duration": 19,
    "start_time": "2021-09-28T17:54:27.970Z"
   },
   {
    "duration": 52,
    "start_time": "2021-09-28T17:54:27.992Z"
   },
   {
    "duration": 31,
    "start_time": "2021-09-28T17:54:28.059Z"
   },
   {
    "duration": 7,
    "start_time": "2021-09-28T17:54:28.094Z"
   },
   {
    "duration": 55,
    "start_time": "2021-09-28T17:54:28.104Z"
   },
   {
    "duration": 25,
    "start_time": "2021-09-28T17:54:28.161Z"
   },
   {
    "duration": 25,
    "start_time": "2021-09-28T17:54:28.190Z"
   },
   {
    "duration": 43,
    "start_time": "2021-09-28T17:54:28.218Z"
   },
   {
    "duration": 24,
    "start_time": "2021-09-28T17:54:28.265Z"
   },
   {
    "duration": 12,
    "start_time": "2021-09-28T17:54:28.293Z"
   },
   {
    "duration": 64,
    "start_time": "2021-09-28T17:54:28.307Z"
   },
   {
    "duration": 23,
    "start_time": "2021-09-28T17:54:28.374Z"
   },
   {
    "duration": 18,
    "start_time": "2021-09-28T17:54:28.401Z"
   },
   {
    "duration": 54,
    "start_time": "2021-09-28T17:54:28.422Z"
   },
   {
    "duration": 23,
    "start_time": "2021-09-28T17:54:28.479Z"
   },
   {
    "duration": 19,
    "start_time": "2021-09-28T17:54:28.504Z"
   },
   {
    "duration": 42,
    "start_time": "2021-09-28T17:54:28.525Z"
   },
   {
    "duration": 138,
    "start_time": "2021-09-28T17:54:28.572Z"
   },
   {
    "duration": 12,
    "start_time": "2021-09-28T17:54:28.713Z"
   },
   {
    "duration": 108,
    "start_time": "2021-09-28T17:54:28.729Z"
   },
   {
    "duration": 241,
    "start_time": "2021-09-28T17:54:28.859Z"
   },
   {
    "duration": 92,
    "start_time": "2021-09-28T17:54:29.103Z"
   },
   {
    "duration": 13,
    "start_time": "2021-09-28T17:54:29.198Z"
   },
   {
    "duration": 19,
    "start_time": "2021-09-28T17:54:29.214Z"
   },
   {
    "duration": 143,
    "start_time": "2021-09-28T17:54:29.235Z"
   },
   {
    "duration": 167,
    "start_time": "2021-09-28T17:54:29.381Z"
   },
   {
    "duration": 51,
    "start_time": "2021-09-28T17:54:29.559Z"
   },
   {
    "duration": 65,
    "start_time": "2021-09-28T17:54:29.613Z"
   },
   {
    "duration": 28,
    "start_time": "2021-09-28T17:54:29.687Z"
   },
   {
    "duration": 73,
    "start_time": "2021-09-28T17:54:29.719Z"
   },
   {
    "duration": 101,
    "start_time": "2021-09-28T17:54:29.795Z"
   },
   {
    "duration": 59,
    "start_time": "2021-09-28T17:54:29.898Z"
   },
   {
    "duration": 1401,
    "start_time": "2021-09-28T17:54:29.960Z"
   },
   {
    "duration": -298,
    "start_time": "2021-09-28T17:54:31.663Z"
   },
   {
    "duration": -300,
    "start_time": "2021-09-28T17:54:31.668Z"
   },
   {
    "duration": -302,
    "start_time": "2021-09-28T17:54:31.672Z"
   },
   {
    "duration": -304,
    "start_time": "2021-09-28T17:54:31.676Z"
   },
   {
    "duration": -306,
    "start_time": "2021-09-28T17:54:31.680Z"
   },
   {
    "duration": -309,
    "start_time": "2021-09-28T17:54:31.685Z"
   },
   {
    "duration": -313,
    "start_time": "2021-09-28T17:54:31.691Z"
   },
   {
    "duration": -316,
    "start_time": "2021-09-28T17:54:31.696Z"
   },
   {
    "duration": -318,
    "start_time": "2021-09-28T17:54:31.700Z"
   },
   {
    "duration": -320,
    "start_time": "2021-09-28T17:54:31.704Z"
   },
   {
    "duration": -322,
    "start_time": "2021-09-28T17:54:31.707Z"
   },
   {
    "duration": -325,
    "start_time": "2021-09-28T17:54:31.712Z"
   },
   {
    "duration": -326,
    "start_time": "2021-09-28T17:54:31.715Z"
   },
   {
    "duration": -330,
    "start_time": "2021-09-28T17:54:31.720Z"
   },
   {
    "duration": -332,
    "start_time": "2021-09-28T17:54:31.724Z"
   },
   {
    "duration": -333,
    "start_time": "2021-09-28T17:54:31.728Z"
   },
   {
    "duration": -334,
    "start_time": "2021-09-28T17:54:31.731Z"
   },
   {
    "duration": -337,
    "start_time": "2021-09-28T17:54:31.736Z"
   },
   {
    "duration": -338,
    "start_time": "2021-09-28T17:54:31.739Z"
   },
   {
    "duration": -356,
    "start_time": "2021-09-28T17:54:31.814Z"
   },
   {
    "duration": -364,
    "start_time": "2021-09-28T17:54:31.825Z"
   },
   {
    "duration": 38,
    "start_time": "2021-09-28T17:54:55.452Z"
   },
   {
    "duration": 6,
    "start_time": "2021-09-28T17:58:23.059Z"
   },
   {
    "duration": 374,
    "start_time": "2021-09-28T17:58:59.657Z"
   },
   {
    "duration": 63,
    "start_time": "2021-09-28T18:00:30.841Z"
   },
   {
    "duration": 413,
    "start_time": "2021-09-28T18:01:38.332Z"
   },
   {
    "duration": 46,
    "start_time": "2021-09-28T18:01:52.880Z"
   },
   {
    "duration": 46,
    "start_time": "2021-09-28T18:02:06.590Z"
   },
   {
    "duration": 19,
    "start_time": "2021-09-28T18:02:25.138Z"
   },
   {
    "duration": 372,
    "start_time": "2021-09-28T19:01:46.686Z"
   },
   {
    "duration": 1510,
    "start_time": "2021-09-28T19:02:44.984Z"
   },
   {
    "duration": 3,
    "start_time": "2021-09-28T19:02:46.498Z"
   },
   {
    "duration": 478,
    "start_time": "2021-09-28T19:02:46.504Z"
   },
   {
    "duration": 21,
    "start_time": "2021-09-28T19:02:46.985Z"
   },
   {
    "duration": 14,
    "start_time": "2021-09-28T19:02:47.009Z"
   },
   {
    "duration": 19,
    "start_time": "2021-09-28T19:02:47.025Z"
   },
   {
    "duration": 144,
    "start_time": "2021-09-28T19:02:47.046Z"
   },
   {
    "duration": 24,
    "start_time": "2021-09-28T19:02:47.195Z"
   },
   {
    "duration": 41,
    "start_time": "2021-09-28T19:02:47.223Z"
   },
   {
    "duration": 155,
    "start_time": "2021-09-28T19:02:47.267Z"
   },
   {
    "duration": 12,
    "start_time": "2021-09-28T19:02:47.426Z"
   },
   {
    "duration": 144,
    "start_time": "2021-09-28T19:02:47.459Z"
   },
   {
    "duration": 17,
    "start_time": "2021-09-28T19:02:47.606Z"
   },
   {
    "duration": 36,
    "start_time": "2021-09-28T19:02:47.626Z"
   },
   {
    "duration": 134,
    "start_time": "2021-09-28T19:02:47.664Z"
   },
   {
    "duration": 10,
    "start_time": "2021-09-28T19:02:47.800Z"
   },
   {
    "duration": 88,
    "start_time": "2021-09-28T19:02:47.813Z"
   },
   {
    "duration": 15,
    "start_time": "2021-09-28T19:02:47.903Z"
   },
   {
    "duration": 50,
    "start_time": "2021-09-28T19:02:47.920Z"
   },
   {
    "duration": 109,
    "start_time": "2021-09-28T19:02:47.972Z"
   },
   {
    "duration": 48,
    "start_time": "2021-09-28T19:02:48.087Z"
   },
   {
    "duration": 32,
    "start_time": "2021-09-28T19:02:48.137Z"
   },
   {
    "duration": 15,
    "start_time": "2021-09-28T19:02:48.175Z"
   },
   {
    "duration": 198,
    "start_time": "2021-09-28T19:02:48.194Z"
   },
   {
    "duration": 35,
    "start_time": "2021-09-28T19:02:48.395Z"
   },
   {
    "duration": 910,
    "start_time": "2021-09-28T19:02:48.432Z"
   },
   {
    "duration": 128,
    "start_time": "2021-09-28T19:02:49.346Z"
   },
   {
    "duration": -156,
    "start_time": "2021-09-28T19:02:49.634Z"
   },
   {
    "duration": -159,
    "start_time": "2021-09-28T19:02:49.638Z"
   },
   {
    "duration": -163,
    "start_time": "2021-09-28T19:02:49.643Z"
   },
   {
    "duration": -166,
    "start_time": "2021-09-28T19:02:49.647Z"
   },
   {
    "duration": -168,
    "start_time": "2021-09-28T19:02:49.651Z"
   },
   {
    "duration": -171,
    "start_time": "2021-09-28T19:02:49.655Z"
   },
   {
    "duration": -174,
    "start_time": "2021-09-28T19:02:49.659Z"
   },
   {
    "duration": -176,
    "start_time": "2021-09-28T19:02:49.663Z"
   },
   {
    "duration": -180,
    "start_time": "2021-09-28T19:02:49.668Z"
   },
   {
    "duration": -182,
    "start_time": "2021-09-28T19:02:49.671Z"
   },
   {
    "duration": -184,
    "start_time": "2021-09-28T19:02:49.675Z"
   },
   {
    "duration": -188,
    "start_time": "2021-09-28T19:02:49.680Z"
   },
   {
    "duration": -191,
    "start_time": "2021-09-28T19:02:49.684Z"
   },
   {
    "duration": -194,
    "start_time": "2021-09-28T19:02:49.689Z"
   },
   {
    "duration": -198,
    "start_time": "2021-09-28T19:02:49.694Z"
   },
   {
    "duration": -201,
    "start_time": "2021-09-28T19:02:49.699Z"
   },
   {
    "duration": -205,
    "start_time": "2021-09-28T19:02:49.704Z"
   },
   {
    "duration": -301,
    "start_time": "2021-09-28T19:02:49.802Z"
   },
   {
    "duration": -309,
    "start_time": "2021-09-28T19:02:49.811Z"
   },
   {
    "duration": -313,
    "start_time": "2021-09-28T19:02:49.816Z"
   },
   {
    "duration": -316,
    "start_time": "2021-09-28T19:02:49.821Z"
   },
   {
    "duration": -373,
    "start_time": "2021-09-28T19:02:49.879Z"
   },
   {
    "duration": -480,
    "start_time": "2021-09-28T19:02:49.988Z"
   },
   {
    "duration": -557,
    "start_time": "2021-09-28T19:02:50.067Z"
   },
   {
    "duration": -561,
    "start_time": "2021-09-28T19:02:50.072Z"
   },
   {
    "duration": -565,
    "start_time": "2021-09-28T19:02:50.077Z"
   },
   {
    "duration": -524,
    "start_time": "2021-09-28T19:02:50.081Z"
   },
   {
    "duration": -527,
    "start_time": "2021-09-28T19:02:50.086Z"
   },
   {
    "duration": -530,
    "start_time": "2021-09-28T19:02:50.090Z"
   },
   {
    "duration": -532,
    "start_time": "2021-09-28T19:02:50.094Z"
   },
   {
    "duration": -536,
    "start_time": "2021-09-28T19:02:50.099Z"
   },
   {
    "duration": -538,
    "start_time": "2021-09-28T19:02:50.103Z"
   },
   {
    "duration": -542,
    "start_time": "2021-09-28T19:02:50.108Z"
   },
   {
    "duration": -545,
    "start_time": "2021-09-28T19:02:50.112Z"
   },
   {
    "duration": -549,
    "start_time": "2021-09-28T19:02:50.117Z"
   },
   {
    "duration": -552,
    "start_time": "2021-09-28T19:02:50.122Z"
   },
   {
    "duration": -555,
    "start_time": "2021-09-28T19:02:50.126Z"
   },
   {
    "duration": -558,
    "start_time": "2021-09-28T19:02:50.130Z"
   },
   {
    "duration": -561,
    "start_time": "2021-09-28T19:02:50.135Z"
   },
   {
    "duration": -579,
    "start_time": "2021-09-28T19:02:50.154Z"
   },
   {
    "duration": -584,
    "start_time": "2021-09-28T19:02:50.160Z"
   },
   {
    "duration": -587,
    "start_time": "2021-09-28T19:02:50.165Z"
   },
   {
    "duration": -593,
    "start_time": "2021-09-28T19:02:50.172Z"
   },
   {
    "duration": -596,
    "start_time": "2021-09-28T19:02:50.177Z"
   },
   {
    "duration": -600,
    "start_time": "2021-09-28T19:02:50.182Z"
   },
   {
    "duration": -604,
    "start_time": "2021-09-28T19:02:50.187Z"
   },
   {
    "duration": -607,
    "start_time": "2021-09-28T19:02:50.192Z"
   },
   {
    "duration": -618,
    "start_time": "2021-09-28T19:02:50.204Z"
   },
   {
    "duration": -622,
    "start_time": "2021-09-28T19:02:50.209Z"
   },
   {
    "duration": -625,
    "start_time": "2021-09-28T19:02:50.213Z"
   },
   {
    "duration": -629,
    "start_time": "2021-09-28T19:02:50.218Z"
   },
   {
    "duration": -631,
    "start_time": "2021-09-28T19:02:50.222Z"
   },
   {
    "duration": -657,
    "start_time": "2021-09-28T19:02:50.249Z"
   },
   {
    "duration": -660,
    "start_time": "2021-09-28T19:02:50.253Z"
   },
   {
    "duration": -677,
    "start_time": "2021-09-28T19:02:50.271Z"
   },
   {
    "duration": -618,
    "start_time": "2021-09-28T19:02:50.277Z"
   },
   {
    "duration": -621,
    "start_time": "2021-09-28T19:02:50.282Z"
   },
   {
    "duration": -625,
    "start_time": "2021-09-28T19:02:50.287Z"
   },
   {
    "duration": -629,
    "start_time": "2021-09-28T19:02:50.292Z"
   },
   {
    "duration": -631,
    "start_time": "2021-09-28T19:02:50.295Z"
   },
   {
    "duration": -634,
    "start_time": "2021-09-28T19:02:50.300Z"
   },
   {
    "duration": -637,
    "start_time": "2021-09-28T19:02:50.304Z"
   },
   {
    "duration": -639,
    "start_time": "2021-09-28T19:02:50.308Z"
   },
   {
    "duration": -642,
    "start_time": "2021-09-28T19:02:50.312Z"
   },
   {
    "duration": -645,
    "start_time": "2021-09-28T19:02:50.316Z"
   },
   {
    "duration": -648,
    "start_time": "2021-09-28T19:02:50.320Z"
   },
   {
    "duration": -651,
    "start_time": "2021-09-28T19:02:50.325Z"
   },
   {
    "duration": -653,
    "start_time": "2021-09-28T19:02:50.328Z"
   },
   {
    "duration": -656,
    "start_time": "2021-09-28T19:02:50.333Z"
   },
   {
    "duration": -660,
    "start_time": "2021-09-28T19:02:50.338Z"
   },
   {
    "duration": 624,
    "start_time": "2021-09-28T19:17:20.291Z"
   },
   {
    "duration": 687,
    "start_time": "2021-09-28T19:17:31.439Z"
   },
   {
    "duration": 650,
    "start_time": "2021-09-28T19:17:58.511Z"
   },
   {
    "duration": 691,
    "start_time": "2021-09-28T19:18:37.924Z"
   },
   {
    "duration": 43,
    "start_time": "2021-09-28T19:18:55.454Z"
   },
   {
    "duration": 711,
    "start_time": "2021-09-28T19:20:46.308Z"
   },
   {
    "duration": 607,
    "start_time": "2021-09-28T19:23:25.563Z"
   },
   {
    "duration": 42,
    "start_time": "2021-09-28T19:23:40.224Z"
   },
   {
    "duration": 33,
    "start_time": "2021-09-28T19:24:41.729Z"
   },
   {
    "duration": 30,
    "start_time": "2021-09-28T19:25:37.589Z"
   },
   {
    "duration": 1018,
    "start_time": "2021-09-28T19:26:52.975Z"
   },
   {
    "duration": 1020,
    "start_time": "2021-09-28T19:31:06.223Z"
   },
   {
    "duration": 31,
    "start_time": "2021-09-28T19:32:58.212Z"
   },
   {
    "duration": 1207,
    "start_time": "2021-09-28T19:33:08.240Z"
   },
   {
    "duration": 1806,
    "start_time": "2021-09-28T19:34:57.060Z"
   },
   {
    "duration": 4,
    "start_time": "2021-09-28T19:34:58.869Z"
   },
   {
    "duration": 450,
    "start_time": "2021-09-28T19:34:58.877Z"
   },
   {
    "duration": 18,
    "start_time": "2021-09-28T19:34:59.329Z"
   },
   {
    "duration": 13,
    "start_time": "2021-09-28T19:34:59.350Z"
   },
   {
    "duration": 18,
    "start_time": "2021-09-28T19:34:59.365Z"
   },
   {
    "duration": 134,
    "start_time": "2021-09-28T19:34:59.385Z"
   },
   {
    "duration": 17,
    "start_time": "2021-09-28T19:34:59.522Z"
   },
   {
    "duration": 12,
    "start_time": "2021-09-28T19:34:59.557Z"
   },
   {
    "duration": 155,
    "start_time": "2021-09-28T19:34:59.571Z"
   },
   {
    "duration": 12,
    "start_time": "2021-09-28T19:34:59.729Z"
   },
   {
    "duration": 136,
    "start_time": "2021-09-28T19:34:59.758Z"
   },
   {
    "duration": 16,
    "start_time": "2021-09-28T19:34:59.897Z"
   },
   {
    "duration": 12,
    "start_time": "2021-09-28T19:34:59.915Z"
   },
   {
    "duration": 158,
    "start_time": "2021-09-28T19:34:59.929Z"
   },
   {
    "duration": 13,
    "start_time": "2021-09-28T19:35:00.090Z"
   },
   {
    "duration": 94,
    "start_time": "2021-09-28T19:35:00.106Z"
   },
   {
    "duration": 16,
    "start_time": "2021-09-28T19:35:00.202Z"
   },
   {
    "duration": 78,
    "start_time": "2021-09-28T19:35:00.220Z"
   },
   {
    "duration": 146,
    "start_time": "2021-09-28T19:35:00.302Z"
   },
   {
    "duration": 74,
    "start_time": "2021-09-28T19:35:00.451Z"
   },
   {
    "duration": 41,
    "start_time": "2021-09-28T19:35:00.527Z"
   },
   {
    "duration": 15,
    "start_time": "2021-09-28T19:35:00.575Z"
   },
   {
    "duration": 198,
    "start_time": "2021-09-28T19:35:00.594Z"
   },
   {
    "duration": 37,
    "start_time": "2021-09-28T19:35:00.794Z"
   },
   {
    "duration": 1669,
    "start_time": "2021-09-28T19:35:00.834Z"
   },
   {
    "duration": 12,
    "start_time": "2021-09-28T19:35:02.505Z"
   },
   {
    "duration": 51,
    "start_time": "2021-09-28T19:35:02.519Z"
   },
   {
    "duration": 24,
    "start_time": "2021-09-28T19:35:02.572Z"
   },
   {
    "duration": 264,
    "start_time": "2021-09-28T19:35:02.599Z"
   },
   {
    "duration": 12,
    "start_time": "2021-09-28T19:35:02.865Z"
   },
   {
    "duration": 20,
    "start_time": "2021-09-28T19:35:02.879Z"
   },
   {
    "duration": 36,
    "start_time": "2021-09-28T19:35:02.901Z"
   },
   {
    "duration": 230,
    "start_time": "2021-09-28T19:35:02.939Z"
   },
   {
    "duration": 291,
    "start_time": "2021-09-28T19:35:03.172Z"
   },
   {
    "duration": 14,
    "start_time": "2021-09-28T19:35:03.466Z"
   },
   {
    "duration": 32,
    "start_time": "2021-09-28T19:35:03.482Z"
   },
   {
    "duration": 16,
    "start_time": "2021-09-28T19:35:03.516Z"
   },
   {
    "duration": 264,
    "start_time": "2021-09-28T19:35:03.535Z"
   },
   {
    "duration": 14,
    "start_time": "2021-09-28T19:35:03.802Z"
   },
   {
    "duration": 54,
    "start_time": "2021-09-28T19:35:03.818Z"
   },
   {
    "duration": 14,
    "start_time": "2021-09-28T19:35:03.875Z"
   },
   {
    "duration": 25,
    "start_time": "2021-09-28T19:35:03.891Z"
   },
   {
    "duration": 31,
    "start_time": "2021-09-28T19:35:03.918Z"
   },
   {
    "duration": 22,
    "start_time": "2021-09-28T19:35:03.951Z"
   },
   {
    "duration": 16,
    "start_time": "2021-09-28T19:35:03.976Z"
   },
   {
    "duration": 10,
    "start_time": "2021-09-28T19:35:03.994Z"
   },
   {
    "duration": 25,
    "start_time": "2021-09-28T19:35:04.006Z"
   },
   {
    "duration": 13,
    "start_time": "2021-09-28T19:35:04.033Z"
   },
   {
    "duration": 32,
    "start_time": "2021-09-28T19:35:04.048Z"
   },
   {
    "duration": 27,
    "start_time": "2021-09-28T19:35:04.082Z"
   },
   {
    "duration": 16,
    "start_time": "2021-09-28T19:35:04.112Z"
   },
   {
    "duration": 20,
    "start_time": "2021-09-28T19:35:04.130Z"
   },
   {
    "duration": 17,
    "start_time": "2021-09-28T19:35:04.152Z"
   },
   {
    "duration": 18,
    "start_time": "2021-09-28T19:35:04.171Z"
   },
   {
    "duration": 25,
    "start_time": "2021-09-28T19:35:04.192Z"
   },
   {
    "duration": 97,
    "start_time": "2021-09-28T19:35:04.219Z"
   },
   {
    "duration": 9,
    "start_time": "2021-09-28T19:35:04.318Z"
   },
   {
    "duration": 69,
    "start_time": "2021-09-28T19:35:04.330Z"
   },
   {
    "duration": 210,
    "start_time": "2021-09-28T19:35:04.401Z"
   },
   {
    "duration": 69,
    "start_time": "2021-09-28T19:35:04.613Z"
   },
   {
    "duration": 10,
    "start_time": "2021-09-28T19:35:04.684Z"
   },
   {
    "duration": 30,
    "start_time": "2021-09-28T19:35:04.696Z"
   },
   {
    "duration": 98,
    "start_time": "2021-09-28T19:35:04.728Z"
   },
   {
    "duration": 98,
    "start_time": "2021-09-28T19:35:04.828Z"
   },
   {
    "duration": 30,
    "start_time": "2021-09-28T19:35:04.928Z"
   },
   {
    "duration": 38,
    "start_time": "2021-09-28T19:35:04.961Z"
   },
   {
    "duration": 26,
    "start_time": "2021-09-28T19:35:05.007Z"
   },
   {
    "duration": 52,
    "start_time": "2021-09-28T19:35:05.036Z"
   },
   {
    "duration": 47,
    "start_time": "2021-09-28T19:35:05.090Z"
   },
   {
    "duration": 36,
    "start_time": "2021-09-28T19:35:05.139Z"
   },
   {
    "duration": 3,
    "start_time": "2021-09-28T19:35:05.178Z"
   },
   {
    "duration": 38,
    "start_time": "2021-09-28T19:35:05.184Z"
   },
   {
    "duration": 29,
    "start_time": "2021-09-28T19:35:05.224Z"
   },
   {
    "duration": 22,
    "start_time": "2021-09-28T19:35:05.255Z"
   },
   {
    "duration": 687,
    "start_time": "2021-09-28T19:35:05.279Z"
   },
   {
    "duration": -1827,
    "start_time": "2021-09-28T19:35:07.795Z"
   },
   {
    "duration": -1842,
    "start_time": "2021-09-28T19:35:07.812Z"
   },
   {
    "duration": -1845,
    "start_time": "2021-09-28T19:35:07.817Z"
   },
   {
    "duration": -1847,
    "start_time": "2021-09-28T19:35:07.821Z"
   },
   {
    "duration": -1850,
    "start_time": "2021-09-28T19:35:07.825Z"
   },
   {
    "duration": -1852,
    "start_time": "2021-09-28T19:35:07.829Z"
   },
   {
    "duration": -1856,
    "start_time": "2021-09-28T19:35:07.834Z"
   },
   {
    "duration": -1859,
    "start_time": "2021-09-28T19:35:07.838Z"
   },
   {
    "duration": -2045,
    "start_time": "2021-09-28T19:35:08.026Z"
   },
   {
    "duration": -2052,
    "start_time": "2021-09-28T19:35:08.035Z"
   },
   {
    "duration": -2071,
    "start_time": "2021-09-28T19:35:08.055Z"
   },
   {
    "duration": -2209,
    "start_time": "2021-09-28T19:35:08.195Z"
   },
   {
    "duration": -2214,
    "start_time": "2021-09-28T19:35:08.201Z"
   },
   {
    "duration": -2220,
    "start_time": "2021-09-28T19:35:08.209Z"
   },
   {
    "duration": -2257,
    "start_time": "2021-09-28T19:35:08.248Z"
   },
   {
    "duration": -2262,
    "start_time": "2021-09-28T19:35:08.254Z"
   },
   {
    "duration": -2343,
    "start_time": "2021-09-28T19:35:08.337Z"
   },
   {
    "duration": -2348,
    "start_time": "2021-09-28T19:35:08.343Z"
   },
   {
    "duration": -2352,
    "start_time": "2021-09-28T19:35:08.349Z"
   },
   {
    "duration": -2356,
    "start_time": "2021-09-28T19:35:08.354Z"
   },
   {
    "duration": 434,
    "start_time": "2021-09-28T19:42:01.385Z"
   },
   {
    "duration": 1022,
    "start_time": "2021-09-28T19:44:07.076Z"
   },
   {
    "duration": 394,
    "start_time": "2021-09-28T19:46:37.435Z"
   },
   {
    "duration": 16,
    "start_time": "2021-09-28T19:47:01.520Z"
   },
   {
    "duration": 22,
    "start_time": "2021-09-28T19:47:17.145Z"
   },
   {
    "duration": 28,
    "start_time": "2021-09-28T19:47:27.631Z"
   },
   {
    "duration": 420,
    "start_time": "2021-09-28T19:47:59.465Z"
   },
   {
    "duration": 372,
    "start_time": "2021-09-28T19:48:26.210Z"
   },
   {
    "duration": 723,
    "start_time": "2021-09-28T19:49:14.448Z"
   },
   {
    "duration": 511,
    "start_time": "2021-09-28T19:50:32.104Z"
   },
   {
    "duration": 38,
    "start_time": "2021-09-28T19:50:38.752Z"
   },
   {
    "duration": 384,
    "start_time": "2021-09-28T19:51:04.463Z"
   },
   {
    "duration": 88,
    "start_time": "2021-09-28T19:51:11.520Z"
   },
   {
    "duration": 38,
    "start_time": "2021-09-28T19:51:42.163Z"
   },
   {
    "duration": 80,
    "start_time": "2021-09-28T19:52:05.934Z"
   },
   {
    "duration": 94,
    "start_time": "2021-09-28T19:53:12.838Z"
   },
   {
    "duration": 398,
    "start_time": "2021-09-28T19:53:56.515Z"
   },
   {
    "duration": 18,
    "start_time": "2021-09-28T19:54:15.572Z"
   },
   {
    "duration": 380,
    "start_time": "2021-09-28T20:01:48.830Z"
   },
   {
    "duration": 395,
    "start_time": "2021-09-28T20:03:21.751Z"
   },
   {
    "duration": 365,
    "start_time": "2021-09-28T20:03:51.453Z"
   },
   {
    "duration": 27,
    "start_time": "2021-09-28T20:05:06.893Z"
   },
   {
    "duration": 27,
    "start_time": "2021-09-28T20:05:22.063Z"
   },
   {
    "duration": 1325,
    "start_time": "2021-09-28T20:06:13.290Z"
   },
   {
    "duration": 4,
    "start_time": "2021-09-28T20:06:14.618Z"
   },
   {
    "duration": 403,
    "start_time": "2021-09-28T20:06:14.625Z"
   },
   {
    "duration": 18,
    "start_time": "2021-09-28T20:06:15.031Z"
   },
   {
    "duration": 14,
    "start_time": "2021-09-28T20:06:15.052Z"
   },
   {
    "duration": 17,
    "start_time": "2021-09-28T20:06:15.068Z"
   },
   {
    "duration": 138,
    "start_time": "2021-09-28T20:06:15.088Z"
   },
   {
    "duration": 31,
    "start_time": "2021-09-28T20:06:15.230Z"
   },
   {
    "duration": 12,
    "start_time": "2021-09-28T20:06:15.264Z"
   },
   {
    "duration": 161,
    "start_time": "2021-09-28T20:06:15.279Z"
   },
   {
    "duration": 22,
    "start_time": "2021-09-28T20:06:15.443Z"
   },
   {
    "duration": 139,
    "start_time": "2021-09-28T20:06:15.467Z"
   },
   {
    "duration": 15,
    "start_time": "2021-09-28T20:06:15.609Z"
   },
   {
    "duration": 31,
    "start_time": "2021-09-28T20:06:15.627Z"
   },
   {
    "duration": 120,
    "start_time": "2021-09-28T20:06:15.660Z"
   },
   {
    "duration": 11,
    "start_time": "2021-09-28T20:06:15.782Z"
   },
   {
    "duration": 84,
    "start_time": "2021-09-28T20:06:15.795Z"
   },
   {
    "duration": 15,
    "start_time": "2021-09-28T20:06:15.881Z"
   },
   {
    "duration": 26,
    "start_time": "2021-09-28T20:06:15.898Z"
   },
   {
    "duration": 101,
    "start_time": "2021-09-28T20:06:15.959Z"
   },
   {
    "duration": 45,
    "start_time": "2021-09-28T20:06:16.063Z"
   },
   {
    "duration": 16,
    "start_time": "2021-09-28T20:06:16.110Z"
   },
   {
    "duration": 14,
    "start_time": "2021-09-28T20:06:16.158Z"
   },
   {
    "duration": 183,
    "start_time": "2021-09-28T20:06:16.176Z"
   },
   {
    "duration": 37,
    "start_time": "2021-09-28T20:06:16.361Z"
   },
   {
    "duration": 1047,
    "start_time": "2021-09-28T20:06:16.400Z"
   },
   {
    "duration": 16,
    "start_time": "2021-09-28T20:06:17.450Z"
   },
   {
    "duration": 13,
    "start_time": "2021-09-28T20:06:17.469Z"
   },
   {
    "duration": 18,
    "start_time": "2021-09-28T20:06:17.485Z"
   },
   {
    "duration": 265,
    "start_time": "2021-09-28T20:06:17.506Z"
   },
   {
    "duration": 13,
    "start_time": "2021-09-28T20:06:17.773Z"
   },
   {
    "duration": 11,
    "start_time": "2021-09-28T20:06:17.788Z"
   },
   {
    "duration": 19,
    "start_time": "2021-09-28T20:06:17.802Z"
   },
   {
    "duration": 271,
    "start_time": "2021-09-28T20:06:17.824Z"
   },
   {
    "duration": 228,
    "start_time": "2021-09-28T20:06:18.098Z"
   },
   {
    "duration": 11,
    "start_time": "2021-09-28T20:06:18.329Z"
   },
   {
    "duration": 10,
    "start_time": "2021-09-28T20:06:18.358Z"
   },
   {
    "duration": 19,
    "start_time": "2021-09-28T20:06:18.370Z"
   },
   {
    "duration": 269,
    "start_time": "2021-09-28T20:06:18.391Z"
   },
   {
    "duration": 16,
    "start_time": "2021-09-28T20:06:18.662Z"
   },
   {
    "duration": 33,
    "start_time": "2021-09-28T20:06:18.680Z"
   },
   {
    "duration": 43,
    "start_time": "2021-09-28T20:06:18.715Z"
   },
   {
    "duration": 5,
    "start_time": "2021-09-28T20:06:18.761Z"
   },
   {
    "duration": 26,
    "start_time": "2021-09-28T20:06:18.768Z"
   },
   {
    "duration": 24,
    "start_time": "2021-09-28T20:06:18.797Z"
   },
   {
    "duration": 23,
    "start_time": "2021-09-28T20:06:18.858Z"
   },
   {
    "duration": 12,
    "start_time": "2021-09-28T20:06:18.884Z"
   },
   {
    "duration": 59,
    "start_time": "2021-09-28T20:06:18.899Z"
   },
   {
    "duration": 11,
    "start_time": "2021-09-28T20:06:18.961Z"
   },
   {
    "duration": 23,
    "start_time": "2021-09-28T20:06:18.975Z"
   },
   {
    "duration": 67,
    "start_time": "2021-09-28T20:06:19.001Z"
   },
   {
    "duration": 17,
    "start_time": "2021-09-28T20:06:19.070Z"
   },
   {
    "duration": 15,
    "start_time": "2021-09-28T20:06:19.090Z"
   },
   {
    "duration": 51,
    "start_time": "2021-09-28T20:06:19.107Z"
   },
   {
    "duration": 8,
    "start_time": "2021-09-28T20:06:19.161Z"
   },
   {
    "duration": 13,
    "start_time": "2021-09-28T20:06:19.171Z"
   },
   {
    "duration": 120,
    "start_time": "2021-09-28T20:06:19.186Z"
   },
   {
    "duration": 7,
    "start_time": "2021-09-28T20:06:19.309Z"
   },
   {
    "duration": 74,
    "start_time": "2021-09-28T20:06:19.319Z"
   },
   {
    "duration": 221,
    "start_time": "2021-09-28T20:06:19.396Z"
   },
   {
    "duration": 80,
    "start_time": "2021-09-28T20:06:19.619Z"
   },
   {
    "duration": 11,
    "start_time": "2021-09-28T20:06:19.702Z"
   },
   {
    "duration": 41,
    "start_time": "2021-09-28T20:06:19.716Z"
   },
   {
    "duration": 117,
    "start_time": "2021-09-28T20:06:19.760Z"
   },
   {
    "duration": 119,
    "start_time": "2021-09-28T20:06:19.880Z"
   },
   {
    "duration": 29,
    "start_time": "2021-09-28T20:06:20.002Z"
   },
   {
    "duration": 52,
    "start_time": "2021-09-28T20:06:20.034Z"
   },
   {
    "duration": 31,
    "start_time": "2021-09-28T20:06:20.094Z"
   },
   {
    "duration": 65,
    "start_time": "2021-09-28T20:06:20.128Z"
   },
   {
    "duration": 66,
    "start_time": "2021-09-28T20:06:20.195Z"
   },
   {
    "duration": 3,
    "start_time": "2021-09-28T20:06:20.265Z"
   },
   {
    "duration": 18,
    "start_time": "2021-09-28T20:06:20.271Z"
   },
   {
    "duration": 9220,
    "start_time": "2021-09-28T20:06:20.292Z"
   },
   {
    "duration": -276,
    "start_time": "2021-09-28T20:06:29.791Z"
   },
   {
    "duration": -282,
    "start_time": "2021-09-28T20:06:29.798Z"
   },
   {
    "duration": -292,
    "start_time": "2021-09-28T20:06:29.810Z"
   },
   {
    "duration": -299,
    "start_time": "2021-09-28T20:06:29.819Z"
   },
   {
    "duration": -311,
    "start_time": "2021-09-28T20:06:29.832Z"
   },
   {
    "duration": -325,
    "start_time": "2021-09-28T20:06:29.848Z"
   },
   {
    "duration": -337,
    "start_time": "2021-09-28T20:06:29.861Z"
   },
   {
    "duration": -346,
    "start_time": "2021-09-28T20:06:29.872Z"
   },
   {
    "duration": -354,
    "start_time": "2021-09-28T20:06:29.882Z"
   },
   {
    "duration": -360,
    "start_time": "2021-09-28T20:06:29.889Z"
   },
   {
    "duration": -364,
    "start_time": "2021-09-28T20:06:29.895Z"
   },
   {
    "duration": -369,
    "start_time": "2021-09-28T20:06:29.902Z"
   },
   {
    "duration": -373,
    "start_time": "2021-09-28T20:06:29.907Z"
   },
   {
    "duration": -377,
    "start_time": "2021-09-28T20:06:29.913Z"
   },
   {
    "duration": -382,
    "start_time": "2021-09-28T20:06:29.919Z"
   },
   {
    "duration": -388,
    "start_time": "2021-09-28T20:06:29.927Z"
   },
   {
    "duration": -393,
    "start_time": "2021-09-28T20:06:29.933Z"
   },
   {
    "duration": -407,
    "start_time": "2021-09-28T20:06:29.949Z"
   },
   {
    "duration": -410,
    "start_time": "2021-09-28T20:06:29.954Z"
   },
   {
    "duration": -570,
    "start_time": "2021-09-28T20:06:30.115Z"
   },
   {
    "duration": -646,
    "start_time": "2021-09-28T20:06:30.193Z"
   },
   {
    "duration": -658,
    "start_time": "2021-09-28T20:06:30.206Z"
   },
   {
    "duration": -663,
    "start_time": "2021-09-28T20:06:30.213Z"
   },
   {
    "duration": -673,
    "start_time": "2021-09-28T20:06:30.224Z"
   },
   {
    "duration": 7,
    "start_time": "2021-09-28T20:08:04.749Z"
   },
   {
    "duration": 385,
    "start_time": "2021-09-28T20:08:45.929Z"
   },
   {
    "duration": 358,
    "start_time": "2021-09-28T20:08:58.130Z"
   },
   {
    "duration": 375,
    "start_time": "2021-09-28T20:09:13.609Z"
   },
   {
    "duration": 177,
    "start_time": "2021-09-28T20:09:59.130Z"
   },
   {
    "duration": 75,
    "start_time": "2021-09-28T20:10:40.854Z"
   },
   {
    "duration": 56,
    "start_time": "2021-09-28T20:15:03.604Z"
   },
   {
    "duration": 434,
    "start_time": "2021-09-28T20:18:11.093Z"
   },
   {
    "duration": 117,
    "start_time": "2021-09-28T20:18:30.857Z"
   },
   {
    "duration": 161,
    "start_time": "2021-09-28T20:21:05.157Z"
   },
   {
    "duration": 140,
    "start_time": "2021-09-28T20:21:15.147Z"
   },
   {
    "duration": 116,
    "start_time": "2021-09-28T20:21:29.997Z"
   },
   {
    "duration": 145,
    "start_time": "2021-09-28T20:33:47.318Z"
   },
   {
    "duration": 187,
    "start_time": "2021-09-28T20:35:22.617Z"
   },
   {
    "duration": 4,
    "start_time": "2021-09-28T20:46:29.669Z"
   },
   {
    "duration": 881,
    "start_time": "2021-09-28T20:46:36.715Z"
   },
   {
    "duration": 6,
    "start_time": "2021-09-28T20:49:36.591Z"
   },
   {
    "duration": 627,
    "start_time": "2021-09-28T20:50:48.528Z"
   },
   {
    "duration": 615,
    "start_time": "2021-09-28T20:51:40.351Z"
   },
   {
    "duration": 17,
    "start_time": "2021-09-28T20:52:46.586Z"
   },
   {
    "duration": 15,
    "start_time": "2021-09-28T20:53:28.308Z"
   },
   {
    "duration": 360,
    "start_time": "2021-09-28T20:54:31.624Z"
   },
   {
    "duration": 727,
    "start_time": "2021-09-28T20:55:39.603Z"
   },
   {
    "duration": 7,
    "start_time": "2021-09-28T20:56:27.328Z"
   },
   {
    "duration": 367,
    "start_time": "2021-09-28T20:57:16.134Z"
   },
   {
    "duration": 703,
    "start_time": "2021-09-28T21:12:05.237Z"
   },
   {
    "duration": 993,
    "start_time": "2021-09-28T21:12:14.717Z"
   },
   {
    "duration": 5,
    "start_time": "2021-09-28T21:18:48.408Z"
   },
   {
    "duration": 6,
    "start_time": "2021-09-28T21:19:06.955Z"
   },
   {
    "duration": 426,
    "start_time": "2021-09-28T21:21:10.064Z"
   },
   {
    "duration": 459,
    "start_time": "2021-09-28T21:34:35.419Z"
   },
   {
    "duration": 400,
    "start_time": "2021-09-28T21:35:40.287Z"
   },
   {
    "duration": 1024,
    "start_time": "2021-09-28T21:37:03.523Z"
   },
   {
    "duration": 7,
    "start_time": "2021-09-28T21:37:19.179Z"
   },
   {
    "duration": 14,
    "start_time": "2021-09-28T21:43:54.730Z"
   },
   {
    "duration": 416,
    "start_time": "2021-09-28T21:46:53.129Z"
   },
   {
    "duration": 423,
    "start_time": "2021-09-28T21:47:26.757Z"
   },
   {
    "duration": 17,
    "start_time": "2021-09-28T21:50:16.103Z"
   },
   {
    "duration": 17,
    "start_time": "2021-09-28T21:50:56.650Z"
   },
   {
    "duration": 366,
    "start_time": "2021-09-28T21:51:43.000Z"
   },
   {
    "duration": 18,
    "start_time": "2021-09-28T21:52:34.556Z"
   },
   {
    "duration": 18,
    "start_time": "2021-09-28T21:52:58.058Z"
   },
   {
    "duration": 20,
    "start_time": "2021-09-28T21:53:59.934Z"
   },
   {
    "duration": 18,
    "start_time": "2021-09-28T21:54:57.385Z"
   },
   {
    "duration": 22,
    "start_time": "2021-09-28T21:58:03.971Z"
   },
   {
    "duration": 23,
    "start_time": "2021-09-28T21:59:15.225Z"
   },
   {
    "duration": 25,
    "start_time": "2021-09-28T22:04:51.112Z"
   },
   {
    "duration": 25,
    "start_time": "2021-09-28T22:05:59.430Z"
   },
   {
    "duration": 25,
    "start_time": "2021-09-28T22:07:14.158Z"
   },
   {
    "duration": 67,
    "start_time": "2021-09-28T22:09:45.982Z"
   },
   {
    "duration": 27,
    "start_time": "2021-09-28T22:14:01.334Z"
   },
   {
    "duration": 26,
    "start_time": "2021-09-28T22:16:01.457Z"
   },
   {
    "duration": 82,
    "start_time": "2021-09-28T22:16:40.849Z"
   },
   {
    "duration": 25,
    "start_time": "2021-09-28T22:16:47.779Z"
   },
   {
    "duration": 67,
    "start_time": "2021-09-28T22:18:14.639Z"
   },
   {
    "duration": 23,
    "start_time": "2021-09-28T22:18:23.010Z"
   },
   {
    "duration": 69,
    "start_time": "2021-09-28T22:18:35.890Z"
   },
   {
    "duration": 24,
    "start_time": "2021-09-28T22:18:41.623Z"
   },
   {
    "duration": 70,
    "start_time": "2021-09-28T22:19:36.604Z"
   },
   {
    "duration": 106,
    "start_time": "2021-09-28T22:20:12.663Z"
   },
   {
    "duration": 24,
    "start_time": "2021-09-28T22:20:31.687Z"
   },
   {
    "duration": 77,
    "start_time": "2021-09-28T22:20:55.371Z"
   },
   {
    "duration": 26,
    "start_time": "2021-09-28T22:21:01.117Z"
   },
   {
    "duration": 32,
    "start_time": "2021-09-28T22:21:18.730Z"
   },
   {
    "duration": 28,
    "start_time": "2021-09-28T22:21:39.853Z"
   },
   {
    "duration": 9,
    "start_time": "2021-09-28T22:22:05.259Z"
   },
   {
    "duration": 29,
    "start_time": "2021-09-28T22:22:17.685Z"
   },
   {
    "duration": 38,
    "start_time": "2021-09-28T22:22:45.259Z"
   },
   {
    "duration": 62,
    "start_time": "2021-09-28T22:44:27.511Z"
   },
   {
    "duration": 144,
    "start_time": "2021-09-28T22:44:39.393Z"
   },
   {
    "duration": 5,
    "start_time": "2021-09-28T22:46:44.663Z"
   },
   {
    "duration": 8,
    "start_time": "2021-09-28T22:46:54.155Z"
   },
   {
    "duration": 7,
    "start_time": "2021-09-28T22:47:25.149Z"
   },
   {
    "duration": 8,
    "start_time": "2021-09-28T22:47:38.225Z"
   },
   {
    "duration": 12,
    "start_time": "2021-09-28T22:47:45.128Z"
   },
   {
    "duration": 11,
    "start_time": "2021-09-28T22:48:42.320Z"
   },
   {
    "duration": 24,
    "start_time": "2021-09-28T22:53:15.870Z"
   },
   {
    "duration": 78,
    "start_time": "2021-09-28T22:53:32.361Z"
   },
   {
    "duration": 658,
    "start_time": "2021-09-28T22:53:45.946Z"
   },
   {
    "duration": 63,
    "start_time": "2021-09-28T22:55:53.011Z"
   },
   {
    "duration": 69,
    "start_time": "2021-09-28T22:56:03.350Z"
   },
   {
    "duration": 52,
    "start_time": "2021-09-28T22:57:33.994Z"
   },
   {
    "duration": 73,
    "start_time": "2021-09-28T22:57:52.369Z"
   },
   {
    "duration": 390,
    "start_time": "2021-09-28T22:59:12.425Z"
   },
   {
    "duration": 73,
    "start_time": "2021-09-28T22:59:25.627Z"
   },
   {
    "duration": 77,
    "start_time": "2021-09-28T23:01:07.083Z"
   },
   {
    "duration": 76,
    "start_time": "2021-09-28T23:03:24.323Z"
   },
   {
    "duration": 1400,
    "start_time": "2021-09-28T23:05:10.003Z"
   },
   {
    "duration": 5,
    "start_time": "2021-09-28T23:05:11.406Z"
   },
   {
    "duration": 403,
    "start_time": "2021-09-28T23:05:11.416Z"
   },
   {
    "duration": 20,
    "start_time": "2021-09-28T23:05:11.823Z"
   },
   {
    "duration": 30,
    "start_time": "2021-09-28T23:05:11.846Z"
   },
   {
    "duration": 32,
    "start_time": "2021-09-28T23:05:11.879Z"
   },
   {
    "duration": 136,
    "start_time": "2021-09-28T23:05:11.914Z"
   },
   {
    "duration": 20,
    "start_time": "2021-09-28T23:05:12.059Z"
   },
   {
    "duration": 24,
    "start_time": "2021-09-28T23:05:12.082Z"
   },
   {
    "duration": 168,
    "start_time": "2021-09-28T23:05:12.108Z"
   },
   {
    "duration": 13,
    "start_time": "2021-09-28T23:05:12.278Z"
   },
   {
    "duration": 145,
    "start_time": "2021-09-28T23:05:12.293Z"
   },
   {
    "duration": 24,
    "start_time": "2021-09-28T23:05:12.440Z"
   },
   {
    "duration": 11,
    "start_time": "2021-09-28T23:05:12.467Z"
   },
   {
    "duration": 128,
    "start_time": "2021-09-28T23:05:12.480Z"
   },
   {
    "duration": 11,
    "start_time": "2021-09-28T23:05:12.610Z"
   },
   {
    "duration": 85,
    "start_time": "2021-09-28T23:05:12.623Z"
   },
   {
    "duration": 15,
    "start_time": "2021-09-28T23:05:12.710Z"
   },
   {
    "duration": 42,
    "start_time": "2021-09-28T23:05:12.727Z"
   },
   {
    "duration": 109,
    "start_time": "2021-09-28T23:05:12.771Z"
   },
   {
    "duration": 45,
    "start_time": "2021-09-28T23:05:12.882Z"
   },
   {
    "duration": 37,
    "start_time": "2021-09-28T23:05:12.930Z"
   },
   {
    "duration": 15,
    "start_time": "2021-09-28T23:05:12.973Z"
   },
   {
    "duration": 182,
    "start_time": "2021-09-28T23:05:12.992Z"
   },
   {
    "duration": 34,
    "start_time": "2021-09-28T23:05:13.176Z"
   },
   {
    "duration": 1018,
    "start_time": "2021-09-28T23:05:13.213Z"
   },
   {
    "duration": 24,
    "start_time": "2021-09-28T23:05:14.233Z"
   },
   {
    "duration": 13,
    "start_time": "2021-09-28T23:05:14.260Z"
   },
   {
    "duration": 31,
    "start_time": "2021-09-28T23:05:14.275Z"
   },
   {
    "duration": 231,
    "start_time": "2021-09-28T23:05:14.308Z"
   },
   {
    "duration": 23,
    "start_time": "2021-09-28T23:05:14.542Z"
   },
   {
    "duration": 10,
    "start_time": "2021-09-28T23:05:14.567Z"
   },
   {
    "duration": 31,
    "start_time": "2021-09-28T23:05:14.579Z"
   },
   {
    "duration": 305,
    "start_time": "2021-09-28T23:05:14.612Z"
   },
   {
    "duration": 324,
    "start_time": "2021-09-28T23:05:14.920Z"
   },
   {
    "duration": 18,
    "start_time": "2021-09-28T23:05:15.247Z"
   },
   {
    "duration": 13,
    "start_time": "2021-09-28T23:05:15.267Z"
   },
   {
    "duration": 19,
    "start_time": "2021-09-28T23:05:15.282Z"
   },
   {
    "duration": 276,
    "start_time": "2021-09-28T23:05:15.303Z"
   },
   {
    "duration": 15,
    "start_time": "2021-09-28T23:05:15.582Z"
   },
   {
    "duration": 44,
    "start_time": "2021-09-28T23:05:15.600Z"
   },
   {
    "duration": 15,
    "start_time": "2021-09-28T23:05:15.658Z"
   },
   {
    "duration": 11,
    "start_time": "2021-09-28T23:05:15.676Z"
   },
   {
    "duration": 35,
    "start_time": "2021-09-28T23:05:15.690Z"
   },
   {
    "duration": 44,
    "start_time": "2021-09-28T23:05:15.727Z"
   },
   {
    "duration": 17,
    "start_time": "2021-09-28T23:05:15.773Z"
   },
   {
    "duration": 15,
    "start_time": "2021-09-28T23:05:15.792Z"
   },
   {
    "duration": 38,
    "start_time": "2021-09-28T23:05:15.810Z"
   },
   {
    "duration": 18,
    "start_time": "2021-09-28T23:05:15.851Z"
   },
   {
    "duration": 34,
    "start_time": "2021-09-28T23:05:15.872Z"
   },
   {
    "duration": 20,
    "start_time": "2021-09-28T23:05:15.909Z"
   },
   {
    "duration": 36,
    "start_time": "2021-09-28T23:05:15.931Z"
   },
   {
    "duration": 16,
    "start_time": "2021-09-28T23:05:15.970Z"
   },
   {
    "duration": 16,
    "start_time": "2021-09-28T23:05:15.988Z"
   },
   {
    "duration": 10,
    "start_time": "2021-09-28T23:05:16.007Z"
   },
   {
    "duration": 44,
    "start_time": "2021-09-28T23:05:16.019Z"
   },
   {
    "duration": 96,
    "start_time": "2021-09-28T23:05:16.066Z"
   },
   {
    "duration": 8,
    "start_time": "2021-09-28T23:05:16.165Z"
   },
   {
    "duration": 64,
    "start_time": "2021-09-28T23:05:16.176Z"
   },
   {
    "duration": 212,
    "start_time": "2021-09-28T23:05:16.258Z"
   },
   {
    "duration": 63,
    "start_time": "2021-09-28T23:05:16.473Z"
   },
   {
    "duration": 11,
    "start_time": "2021-09-28T23:05:16.558Z"
   },
   {
    "duration": 10,
    "start_time": "2021-09-28T23:05:16.571Z"
   },
   {
    "duration": 124,
    "start_time": "2021-09-28T23:05:16.583Z"
   },
   {
    "duration": 114,
    "start_time": "2021-09-28T23:05:16.710Z"
   },
   {
    "duration": 452,
    "start_time": "2021-09-28T23:05:16.826Z"
   },
   {
    "duration": 37,
    "start_time": "2021-09-28T23:05:17.281Z"
   },
   {
    "duration": 44,
    "start_time": "2021-09-28T23:05:17.327Z"
   },
   {
    "duration": 38,
    "start_time": "2021-09-28T23:05:17.374Z"
   },
   {
    "duration": 66,
    "start_time": "2021-09-28T23:05:17.414Z"
   },
   {
    "duration": 497,
    "start_time": "2021-09-28T23:05:17.482Z"
   },
   {
    "duration": -9369,
    "start_time": "2021-09-28T23:05:27.351Z"
   },
   {
    "duration": -9379,
    "start_time": "2021-09-28T23:05:27.362Z"
   },
   {
    "duration": -9387,
    "start_time": "2021-09-28T23:05:27.372Z"
   },
   {
    "duration": -9393,
    "start_time": "2021-09-28T23:05:27.380Z"
   },
   {
    "duration": -9399,
    "start_time": "2021-09-28T23:05:27.387Z"
   },
   {
    "duration": -9416,
    "start_time": "2021-09-28T23:05:27.406Z"
   },
   {
    "duration": -9424,
    "start_time": "2021-09-28T23:05:27.415Z"
   },
   {
    "duration": -9441,
    "start_time": "2021-09-28T23:05:27.434Z"
   },
   {
    "duration": -9450,
    "start_time": "2021-09-28T23:05:27.444Z"
   },
   {
    "duration": -9521,
    "start_time": "2021-09-28T23:05:27.517Z"
   },
   {
    "duration": -9526,
    "start_time": "2021-09-28T23:05:27.524Z"
   },
   {
    "duration": -9643,
    "start_time": "2021-09-28T23:05:27.642Z"
   },
   {
    "duration": -9657,
    "start_time": "2021-09-28T23:05:27.658Z"
   },
   {
    "duration": -9678,
    "start_time": "2021-09-28T23:05:27.680Z"
   },
   {
    "duration": -9683,
    "start_time": "2021-09-28T23:05:27.687Z"
   },
   {
    "duration": -9688,
    "start_time": "2021-09-28T23:05:27.693Z"
   },
   {
    "duration": -9860,
    "start_time": "2021-09-28T23:05:27.867Z"
   },
   {
    "duration": -9880,
    "start_time": "2021-09-28T23:05:27.888Z"
   },
   {
    "duration": -9910,
    "start_time": "2021-09-28T23:05:27.920Z"
   },
   {
    "duration": -9924,
    "start_time": "2021-09-28T23:05:27.935Z"
   },
   {
    "duration": -9928,
    "start_time": "2021-09-28T23:05:27.941Z"
   },
   {
    "duration": -9940,
    "start_time": "2021-09-28T23:05:27.954Z"
   },
   {
    "duration": -10088,
    "start_time": "2021-09-28T23:05:28.104Z"
   },
   {
    "duration": -10098,
    "start_time": "2021-09-28T23:05:28.116Z"
   },
   {
    "duration": -10076,
    "start_time": "2021-09-28T23:05:28.135Z"
   },
   {
    "duration": -10087,
    "start_time": "2021-09-28T23:05:28.148Z"
   },
   {
    "duration": -10100,
    "start_time": "2021-09-28T23:05:28.163Z"
   },
   {
    "duration": -10533,
    "start_time": "2021-09-28T23:05:28.597Z"
   },
   {
    "duration": -10557,
    "start_time": "2021-09-28T23:05:28.623Z"
   },
   {
    "duration": -10564,
    "start_time": "2021-09-28T23:05:28.631Z"
   },
   {
    "duration": -10578,
    "start_time": "2021-09-28T23:05:28.647Z"
   },
   {
    "duration": -10588,
    "start_time": "2021-09-28T23:05:28.658Z"
   },
   {
    "duration": -10601,
    "start_time": "2021-09-28T23:05:28.673Z"
   },
   {
    "duration": -10609,
    "start_time": "2021-09-28T23:05:28.682Z"
   },
   {
    "duration": -10623,
    "start_time": "2021-09-28T23:05:28.698Z"
   },
   {
    "duration": -10635,
    "start_time": "2021-09-28T23:05:28.711Z"
   },
   {
    "duration": -10644,
    "start_time": "2021-09-28T23:05:28.722Z"
   },
   {
    "duration": -10671,
    "start_time": "2021-09-28T23:05:28.750Z"
   },
   {
    "duration": 1404,
    "start_time": "2021-09-28T23:11:17.813Z"
   },
   {
    "duration": 4,
    "start_time": "2021-09-28T23:11:19.220Z"
   },
   {
    "duration": 386,
    "start_time": "2021-09-28T23:11:19.227Z"
   },
   {
    "duration": 18,
    "start_time": "2021-09-28T23:11:19.616Z"
   },
   {
    "duration": 17,
    "start_time": "2021-09-28T23:11:19.636Z"
   },
   {
    "duration": 15,
    "start_time": "2021-09-28T23:11:19.655Z"
   },
   {
    "duration": 123,
    "start_time": "2021-09-28T23:11:19.673Z"
   },
   {
    "duration": 19,
    "start_time": "2021-09-28T23:11:19.801Z"
   },
   {
    "duration": 41,
    "start_time": "2021-09-28T23:11:19.823Z"
   },
   {
    "duration": 140,
    "start_time": "2021-09-28T23:11:19.866Z"
   },
   {
    "duration": 13,
    "start_time": "2021-09-28T23:11:20.009Z"
   },
   {
    "duration": 163,
    "start_time": "2021-09-28T23:11:20.024Z"
   },
   {
    "duration": 15,
    "start_time": "2021-09-28T23:11:20.190Z"
   },
   {
    "duration": 11,
    "start_time": "2021-09-28T23:11:20.208Z"
   },
   {
    "duration": 144,
    "start_time": "2021-09-28T23:11:20.221Z"
   },
   {
    "duration": 12,
    "start_time": "2021-09-28T23:11:20.368Z"
   },
   {
    "duration": 92,
    "start_time": "2021-09-28T23:11:20.382Z"
   },
   {
    "duration": 16,
    "start_time": "2021-09-28T23:11:20.476Z"
   },
   {
    "duration": 30,
    "start_time": "2021-09-28T23:11:20.494Z"
   },
   {
    "duration": 178,
    "start_time": "2021-09-28T23:11:20.527Z"
   },
   {
    "duration": 67,
    "start_time": "2021-09-28T23:11:20.709Z"
   },
   {
    "duration": 16,
    "start_time": "2021-09-28T23:11:20.778Z"
   },
   {
    "duration": 13,
    "start_time": "2021-09-28T23:11:20.801Z"
   },
   {
    "duration": 179,
    "start_time": "2021-09-28T23:11:20.818Z"
   },
   {
    "duration": 37,
    "start_time": "2021-09-28T23:11:20.999Z"
   },
   {
    "duration": 1073,
    "start_time": "2021-09-28T23:11:21.038Z"
   },
   {
    "duration": 12,
    "start_time": "2021-09-28T23:11:22.113Z"
   },
   {
    "duration": 41,
    "start_time": "2021-09-28T23:11:22.127Z"
   },
   {
    "duration": 30,
    "start_time": "2021-09-28T23:11:22.170Z"
   },
   {
    "duration": 229,
    "start_time": "2021-09-28T23:11:22.203Z"
   },
   {
    "duration": 24,
    "start_time": "2021-09-28T23:11:22.434Z"
   },
   {
    "duration": 10,
    "start_time": "2021-09-28T23:11:22.460Z"
   },
   {
    "duration": 26,
    "start_time": "2021-09-28T23:11:22.473Z"
   },
   {
    "duration": 250,
    "start_time": "2021-09-28T23:11:22.502Z"
   },
   {
    "duration": 235,
    "start_time": "2021-09-28T23:11:22.759Z"
   },
   {
    "duration": 12,
    "start_time": "2021-09-28T23:11:22.996Z"
   },
   {
    "duration": 19,
    "start_time": "2021-09-28T23:11:23.010Z"
   },
   {
    "duration": 34,
    "start_time": "2021-09-28T23:11:23.032Z"
   },
   {
    "duration": 256,
    "start_time": "2021-09-28T23:11:23.069Z"
   },
   {
    "duration": 29,
    "start_time": "2021-09-28T23:11:23.327Z"
   },
   {
    "duration": 26,
    "start_time": "2021-09-28T23:11:23.359Z"
   },
   {
    "duration": 27,
    "start_time": "2021-09-28T23:11:23.387Z"
   },
   {
    "duration": 9,
    "start_time": "2021-09-28T23:11:23.416Z"
   },
   {
    "duration": 51,
    "start_time": "2021-09-28T23:11:23.428Z"
   },
   {
    "duration": 24,
    "start_time": "2021-09-28T23:11:23.482Z"
   },
   {
    "duration": 52,
    "start_time": "2021-09-28T23:11:23.508Z"
   },
   {
    "duration": 9,
    "start_time": "2021-09-28T23:11:23.562Z"
   },
   {
    "duration": 9,
    "start_time": "2021-09-28T23:11:23.573Z"
   },
   {
    "duration": 9,
    "start_time": "2021-09-28T23:11:23.584Z"
   },
   {
    "duration": 62,
    "start_time": "2021-09-28T23:11:23.595Z"
   },
   {
    "duration": 19,
    "start_time": "2021-09-28T23:11:23.659Z"
   },
   {
    "duration": 15,
    "start_time": "2021-09-28T23:11:23.680Z"
   },
   {
    "duration": 14,
    "start_time": "2021-09-28T23:11:23.697Z"
   },
   {
    "duration": 52,
    "start_time": "2021-09-28T23:11:23.713Z"
   },
   {
    "duration": 7,
    "start_time": "2021-09-28T23:11:23.767Z"
   },
   {
    "duration": 18,
    "start_time": "2021-09-28T23:11:23.776Z"
   },
   {
    "duration": 110,
    "start_time": "2021-09-28T23:11:23.796Z"
   },
   {
    "duration": 10,
    "start_time": "2021-09-28T23:11:23.910Z"
   },
   {
    "duration": 79,
    "start_time": "2021-09-28T23:11:23.923Z"
   },
   {
    "duration": 238,
    "start_time": "2021-09-28T23:11:24.005Z"
   },
   {
    "duration": 74,
    "start_time": "2021-09-28T23:11:24.246Z"
   },
   {
    "duration": 12,
    "start_time": "2021-09-28T23:11:24.323Z"
   },
   {
    "duration": 29,
    "start_time": "2021-09-28T23:11:24.337Z"
   },
   {
    "duration": 126,
    "start_time": "2021-09-28T23:11:24.369Z"
   },
   {
    "duration": 124,
    "start_time": "2021-09-28T23:11:24.498Z"
   },
   {
    "duration": 44,
    "start_time": "2021-09-28T23:11:24.624Z"
   },
   {
    "duration": 39,
    "start_time": "2021-09-28T23:11:24.670Z"
   },
   {
    "duration": 47,
    "start_time": "2021-09-28T23:11:24.717Z"
   },
   {
    "duration": 39,
    "start_time": "2021-09-28T23:11:24.767Z"
   },
   {
    "duration": 75,
    "start_time": "2021-09-28T23:11:24.808Z"
   },
   {
    "duration": 525,
    "start_time": "2021-09-28T23:11:24.885Z"
   },
   {
    "duration": -6579,
    "start_time": "2021-09-28T23:11:31.993Z"
   },
   {
    "duration": -6592,
    "start_time": "2021-09-28T23:11:32.008Z"
   },
   {
    "duration": -6607,
    "start_time": "2021-09-28T23:11:32.025Z"
   },
   {
    "duration": -6817,
    "start_time": "2021-09-28T23:11:32.237Z"
   },
   {
    "duration": -6827,
    "start_time": "2021-09-28T23:11:32.249Z"
   },
   {
    "duration": -6846,
    "start_time": "2021-09-28T23:11:32.270Z"
   },
   {
    "duration": -6856,
    "start_time": "2021-09-28T23:11:32.282Z"
   },
   {
    "duration": -6898,
    "start_time": "2021-09-28T23:11:32.326Z"
   },
   {
    "duration": -6924,
    "start_time": "2021-09-28T23:11:32.355Z"
   },
   {
    "duration": -6933,
    "start_time": "2021-09-28T23:11:32.365Z"
   },
   {
    "duration": -6940,
    "start_time": "2021-09-28T23:11:32.375Z"
   },
   {
    "duration": -6954,
    "start_time": "2021-09-28T23:11:32.391Z"
   },
   {
    "duration": -6963,
    "start_time": "2021-09-28T23:11:32.402Z"
   },
   {
    "duration": -6974,
    "start_time": "2021-09-28T23:11:32.415Z"
   },
   {
    "duration": -7063,
    "start_time": "2021-09-28T23:11:32.506Z"
   },
   {
    "duration": -7078,
    "start_time": "2021-09-28T23:11:32.523Z"
   },
   {
    "duration": -7095,
    "start_time": "2021-09-28T23:11:32.541Z"
   },
   {
    "duration": -7151,
    "start_time": "2021-09-28T23:11:32.599Z"
   },
   {
    "duration": -7194,
    "start_time": "2021-09-28T23:11:32.645Z"
   },
   {
    "duration": -7215,
    "start_time": "2021-09-28T23:11:32.672Z"
   },
   {
    "duration": -7236,
    "start_time": "2021-09-28T23:11:32.696Z"
   },
   {
    "duration": -7252,
    "start_time": "2021-09-28T23:11:32.714Z"
   },
   {
    "duration": -7261,
    "start_time": "2021-09-28T23:11:32.725Z"
   },
   {
    "duration": -7272,
    "start_time": "2021-09-28T23:11:32.738Z"
   },
   {
    "duration": -7483,
    "start_time": "2021-09-28T23:11:32.950Z"
   },
   {
    "duration": -7494,
    "start_time": "2021-09-28T23:11:32.963Z"
   },
   {
    "duration": -7512,
    "start_time": "2021-09-28T23:11:32.983Z"
   },
   {
    "duration": -7532,
    "start_time": "2021-09-28T23:11:33.005Z"
   },
   {
    "duration": -7636,
    "start_time": "2021-09-28T23:11:33.111Z"
   },
   {
    "duration": -7649,
    "start_time": "2021-09-28T23:11:33.126Z"
   },
   {
    "duration": -7657,
    "start_time": "2021-09-28T23:11:33.136Z"
   },
   {
    "duration": -7669,
    "start_time": "2021-09-28T23:11:33.151Z"
   },
   {
    "duration": -7676,
    "start_time": "2021-09-28T23:11:33.160Z"
   },
   {
    "duration": -7681,
    "start_time": "2021-09-28T23:11:33.167Z"
   },
   {
    "duration": -7716,
    "start_time": "2021-09-28T23:11:33.204Z"
   },
   {
    "duration": -7721,
    "start_time": "2021-09-28T23:11:33.211Z"
   },
   {
    "duration": -7726,
    "start_time": "2021-09-28T23:11:33.218Z"
   },
   {
    "duration": -7744,
    "start_time": "2021-09-28T23:11:33.238Z"
   },
   {
    "duration": 260,
    "start_time": "2021-09-29T03:58:18.668Z"
   },
   {
    "duration": 1085,
    "start_time": "2021-09-29T03:58:59.158Z"
   },
   {
    "duration": 4,
    "start_time": "2021-09-29T03:59:00.245Z"
   },
   {
    "duration": 309,
    "start_time": "2021-09-29T03:59:00.251Z"
   },
   {
    "duration": 12,
    "start_time": "2021-09-29T03:59:00.562Z"
   },
   {
    "duration": 21,
    "start_time": "2021-09-29T03:59:00.576Z"
   },
   {
    "duration": 13,
    "start_time": "2021-09-29T03:59:00.598Z"
   },
   {
    "duration": 136,
    "start_time": "2021-09-29T03:59:00.613Z"
   },
   {
    "duration": 19,
    "start_time": "2021-09-29T03:59:00.752Z"
   },
   {
    "duration": 11,
    "start_time": "2021-09-29T03:59:00.773Z"
   },
   {
    "duration": 181,
    "start_time": "2021-09-29T03:59:00.786Z"
   },
   {
    "duration": 11,
    "start_time": "2021-09-29T03:59:00.969Z"
   },
   {
    "duration": 142,
    "start_time": "2021-09-29T03:59:00.982Z"
   },
   {
    "duration": 25,
    "start_time": "2021-09-29T03:59:01.126Z"
   },
   {
    "duration": 8,
    "start_time": "2021-09-29T03:59:01.153Z"
   },
   {
    "duration": 90,
    "start_time": "2021-09-29T03:59:01.163Z"
   },
   {
    "duration": 8,
    "start_time": "2021-09-29T03:59:01.255Z"
   },
   {
    "duration": 57,
    "start_time": "2021-09-29T03:59:01.265Z"
   },
   {
    "duration": 25,
    "start_time": "2021-09-29T03:59:01.324Z"
   },
   {
    "duration": 26,
    "start_time": "2021-09-29T03:59:01.351Z"
   },
   {
    "duration": 77,
    "start_time": "2021-09-29T03:59:01.379Z"
   },
   {
    "duration": 36,
    "start_time": "2021-09-29T03:59:01.458Z"
   },
   {
    "duration": 13,
    "start_time": "2021-09-29T03:59:01.496Z"
   },
   {
    "duration": 10,
    "start_time": "2021-09-29T03:59:01.514Z"
   },
   {
    "duration": 142,
    "start_time": "2021-09-29T03:59:01.551Z"
   },
   {
    "duration": 27,
    "start_time": "2021-09-29T03:59:01.695Z"
   },
   {
    "duration": 610,
    "start_time": "2021-09-29T03:59:01.724Z"
   },
   {
    "duration": 20,
    "start_time": "2021-09-29T03:59:02.336Z"
   },
   {
    "duration": 11,
    "start_time": "2021-09-29T03:59:02.358Z"
   },
   {
    "duration": 16,
    "start_time": "2021-09-29T03:59:02.371Z"
   },
   {
    "duration": 156,
    "start_time": "2021-09-29T03:59:02.389Z"
   },
   {
    "duration": 10,
    "start_time": "2021-09-29T03:59:02.546Z"
   },
   {
    "duration": 8,
    "start_time": "2021-09-29T03:59:02.557Z"
   },
   {
    "duration": 11,
    "start_time": "2021-09-29T03:59:02.566Z"
   },
   {
    "duration": 236,
    "start_time": "2021-09-29T03:59:02.580Z"
   },
   {
    "duration": 206,
    "start_time": "2021-09-29T03:59:02.818Z"
   },
   {
    "duration": 10,
    "start_time": "2021-09-29T03:59:03.026Z"
   },
   {
    "duration": 8,
    "start_time": "2021-09-29T03:59:03.049Z"
   },
   {
    "duration": 19,
    "start_time": "2021-09-29T03:59:03.058Z"
   },
   {
    "duration": 153,
    "start_time": "2021-09-29T03:59:03.078Z"
   },
   {
    "duration": 17,
    "start_time": "2021-09-29T03:59:03.233Z"
   },
   {
    "duration": 19,
    "start_time": "2021-09-29T03:59:03.252Z"
   },
   {
    "duration": 11,
    "start_time": "2021-09-29T03:59:03.273Z"
   },
   {
    "duration": 6,
    "start_time": "2021-09-29T03:59:03.286Z"
   },
   {
    "duration": 18,
    "start_time": "2021-09-29T03:59:03.293Z"
   },
   {
    "duration": 51,
    "start_time": "2021-09-29T03:59:03.313Z"
   },
   {
    "duration": 13,
    "start_time": "2021-09-29T03:59:03.366Z"
   },
   {
    "duration": 6,
    "start_time": "2021-09-29T03:59:03.381Z"
   },
   {
    "duration": 8,
    "start_time": "2021-09-29T03:59:03.389Z"
   },
   {
    "duration": 8,
    "start_time": "2021-09-29T03:59:03.399Z"
   },
   {
    "duration": 57,
    "start_time": "2021-09-29T03:59:03.409Z"
   },
   {
    "duration": 14,
    "start_time": "2021-09-29T03:59:03.467Z"
   },
   {
    "duration": 11,
    "start_time": "2021-09-29T03:59:03.483Z"
   },
   {
    "duration": 10,
    "start_time": "2021-09-29T03:59:03.496Z"
   },
   {
    "duration": 45,
    "start_time": "2021-09-29T03:59:03.508Z"
   },
   {
    "duration": 5,
    "start_time": "2021-09-29T03:59:03.555Z"
   },
   {
    "duration": 12,
    "start_time": "2021-09-29T03:59:03.562Z"
   },
   {
    "duration": 84,
    "start_time": "2021-09-29T03:59:03.576Z"
   },
   {
    "duration": 7,
    "start_time": "2021-09-29T03:59:03.662Z"
   },
   {
    "duration": 38,
    "start_time": "2021-09-29T03:59:03.671Z"
   },
   {
    "duration": 140,
    "start_time": "2021-09-29T03:59:03.710Z"
   },
   {
    "duration": 43,
    "start_time": "2021-09-29T03:59:03.852Z"
   },
   {
    "duration": 8,
    "start_time": "2021-09-29T03:59:03.897Z"
   },
   {
    "duration": 9,
    "start_time": "2021-09-29T03:59:03.907Z"
   },
   {
    "duration": 91,
    "start_time": "2021-09-29T03:59:03.918Z"
   },
   {
    "duration": 77,
    "start_time": "2021-09-29T03:59:04.011Z"
   },
   {
    "duration": 19,
    "start_time": "2021-09-29T03:59:04.090Z"
   },
   {
    "duration": 45,
    "start_time": "2021-09-29T03:59:04.111Z"
   },
   {
    "duration": 18,
    "start_time": "2021-09-29T03:59:04.162Z"
   },
   {
    "duration": 24,
    "start_time": "2021-09-29T03:59:04.182Z"
   },
   {
    "duration": 61,
    "start_time": "2021-09-29T03:59:04.209Z"
   },
   {
    "duration": 40,
    "start_time": "2021-09-29T03:59:04.272Z"
   },
   {
    "duration": 335,
    "start_time": "2021-09-29T03:59:04.315Z"
   },
   {
    "duration": -311,
    "start_time": "2021-09-29T03:59:04.963Z"
   },
   {
    "duration": -324,
    "start_time": "2021-09-29T03:59:04.977Z"
   },
   {
    "duration": -333,
    "start_time": "2021-09-29T03:59:04.988Z"
   },
   {
    "duration": -340,
    "start_time": "2021-09-29T03:59:04.996Z"
   },
   {
    "duration": -350,
    "start_time": "2021-09-29T03:59:05.007Z"
   },
   {
    "duration": -354,
    "start_time": "2021-09-29T03:59:05.013Z"
   },
   {
    "duration": -365,
    "start_time": "2021-09-29T03:59:05.025Z"
   },
   {
    "duration": -371,
    "start_time": "2021-09-29T03:59:05.032Z"
   },
   {
    "duration": -379,
    "start_time": "2021-09-29T03:59:05.042Z"
   },
   {
    "duration": -384,
    "start_time": "2021-09-29T03:59:05.048Z"
   },
   {
    "duration": -393,
    "start_time": "2021-09-29T03:59:05.058Z"
   },
   {
    "duration": -398,
    "start_time": "2021-09-29T03:59:05.065Z"
   },
   {
    "duration": -407,
    "start_time": "2021-09-29T03:59:05.075Z"
   },
   {
    "duration": -413,
    "start_time": "2021-09-29T03:59:05.082Z"
   },
   {
    "duration": -422,
    "start_time": "2021-09-29T03:59:05.093Z"
   },
   {
    "duration": -431,
    "start_time": "2021-09-29T03:59:05.103Z"
   },
   {
    "duration": -436,
    "start_time": "2021-09-29T03:59:05.109Z"
   },
   {
    "duration": -441,
    "start_time": "2021-09-29T03:59:05.116Z"
   },
   {
    "duration": -448,
    "start_time": "2021-09-29T03:59:05.124Z"
   },
   {
    "duration": -453,
    "start_time": "2021-09-29T03:59:05.131Z"
   },
   {
    "duration": -490,
    "start_time": "2021-09-29T03:59:05.169Z"
   },
   {
    "duration": -496,
    "start_time": "2021-09-29T03:59:05.176Z"
   },
   {
    "duration": -502,
    "start_time": "2021-09-29T03:59:05.184Z"
   },
   {
    "duration": -512,
    "start_time": "2021-09-29T03:59:05.195Z"
   },
   {
    "duration": -521,
    "start_time": "2021-09-29T03:59:05.206Z"
   },
   {
    "duration": -527,
    "start_time": "2021-09-29T03:59:05.213Z"
   },
   {
    "duration": -536,
    "start_time": "2021-09-29T03:59:05.223Z"
   },
   {
    "duration": -542,
    "start_time": "2021-09-29T03:59:05.230Z"
   },
   {
    "duration": -552,
    "start_time": "2021-09-29T03:59:05.242Z"
   },
   {
    "duration": -558,
    "start_time": "2021-09-29T03:59:05.249Z"
   },
   {
    "duration": -567,
    "start_time": "2021-09-29T03:59:05.259Z"
   },
   {
    "duration": -572,
    "start_time": "2021-09-29T03:59:05.266Z"
   },
   {
    "duration": -583,
    "start_time": "2021-09-29T03:59:05.278Z"
   },
   {
    "duration": -588,
    "start_time": "2021-09-29T03:59:05.284Z"
   },
   {
    "duration": -547,
    "start_time": "2021-09-29T03:59:05.296Z"
   },
   {
    "duration": -557,
    "start_time": "2021-09-29T03:59:05.307Z"
   },
   {
    "duration": -563,
    "start_time": "2021-09-29T03:59:05.314Z"
   },
   {
    "duration": -573,
    "start_time": "2021-09-29T03:59:05.325Z"
   },
   {
    "duration": 43,
    "start_time": "2021-09-29T04:00:01.549Z"
   },
   {
    "duration": 68,
    "start_time": "2021-09-29T04:00:50.993Z"
   },
   {
    "duration": 7,
    "start_time": "2021-09-29T04:08:58.477Z"
   },
   {
    "duration": 230,
    "start_time": "2021-09-29T04:09:14.429Z"
   },
   {
    "duration": 232,
    "start_time": "2021-09-29T04:09:33.079Z"
   },
   {
    "duration": 233,
    "start_time": "2021-09-29T04:17:37.469Z"
   },
   {
    "duration": 13,
    "start_time": "2021-09-29T04:18:14.208Z"
   },
   {
    "duration": 502,
    "start_time": "2021-09-29T04:18:51.826Z"
   },
   {
    "duration": 48,
    "start_time": "2021-09-29T04:19:02.277Z"
   },
   {
    "duration": 1067,
    "start_time": "2021-09-29T04:19:18.118Z"
   },
   {
    "duration": 2,
    "start_time": "2021-09-29T04:19:19.187Z"
   },
   {
    "duration": 300,
    "start_time": "2021-09-29T04:19:19.192Z"
   },
   {
    "duration": 12,
    "start_time": "2021-09-29T04:19:19.494Z"
   },
   {
    "duration": 11,
    "start_time": "2021-09-29T04:19:19.507Z"
   },
   {
    "duration": 14,
    "start_time": "2021-09-29T04:19:19.519Z"
   },
   {
    "duration": 81,
    "start_time": "2021-09-29T04:19:19.534Z"
   },
   {
    "duration": 14,
    "start_time": "2021-09-29T04:19:19.617Z"
   },
   {
    "duration": 21,
    "start_time": "2021-09-29T04:19:19.633Z"
   },
   {
    "duration": 99,
    "start_time": "2021-09-29T04:19:19.655Z"
   },
   {
    "duration": 8,
    "start_time": "2021-09-29T04:19:19.756Z"
   },
   {
    "duration": 98,
    "start_time": "2021-09-29T04:19:19.765Z"
   },
   {
    "duration": 12,
    "start_time": "2021-09-29T04:19:19.864Z"
   },
   {
    "duration": 7,
    "start_time": "2021-09-29T04:19:19.878Z"
   },
   {
    "duration": 93,
    "start_time": "2021-09-29T04:19:19.887Z"
   },
   {
    "duration": 7,
    "start_time": "2021-09-29T04:19:19.982Z"
   },
   {
    "duration": 64,
    "start_time": "2021-09-29T04:19:19.990Z"
   },
   {
    "duration": 9,
    "start_time": "2021-09-29T04:19:20.056Z"
   },
   {
    "duration": 22,
    "start_time": "2021-09-29T04:19:20.067Z"
   },
   {
    "duration": 86,
    "start_time": "2021-09-29T04:19:20.091Z"
   },
   {
    "duration": 35,
    "start_time": "2021-09-29T04:19:20.178Z"
   },
   {
    "duration": 13,
    "start_time": "2021-09-29T04:19:20.215Z"
   },
   {
    "duration": 10,
    "start_time": "2021-09-29T04:19:20.253Z"
   },
   {
    "duration": 144,
    "start_time": "2021-09-29T04:19:20.265Z"
   },
   {
    "duration": 39,
    "start_time": "2021-09-29T04:19:20.411Z"
   },
   {
    "duration": 580,
    "start_time": "2021-09-29T04:19:20.452Z"
   },
   {
    "duration": 18,
    "start_time": "2021-09-29T04:19:21.033Z"
   },
   {
    "duration": 9,
    "start_time": "2021-09-29T04:19:21.053Z"
   },
   {
    "duration": 18,
    "start_time": "2021-09-29T04:19:21.064Z"
   },
   {
    "duration": 148,
    "start_time": "2021-09-29T04:19:21.084Z"
   },
   {
    "duration": 18,
    "start_time": "2021-09-29T04:19:21.234Z"
   },
   {
    "duration": 11,
    "start_time": "2021-09-29T04:19:21.253Z"
   },
   {
    "duration": 21,
    "start_time": "2021-09-29T04:19:21.266Z"
   },
   {
    "duration": 139,
    "start_time": "2021-09-29T04:19:21.289Z"
   },
   {
    "duration": 130,
    "start_time": "2021-09-29T04:19:21.430Z"
   },
   {
    "duration": 9,
    "start_time": "2021-09-29T04:19:21.562Z"
   },
   {
    "duration": 7,
    "start_time": "2021-09-29T04:19:21.573Z"
   },
   {
    "duration": 11,
    "start_time": "2021-09-29T04:19:21.582Z"
   },
   {
    "duration": 168,
    "start_time": "2021-09-29T04:19:21.595Z"
   },
   {
    "duration": 10,
    "start_time": "2021-09-29T04:19:21.765Z"
   },
   {
    "duration": 20,
    "start_time": "2021-09-29T04:19:21.777Z"
   },
   {
    "duration": 9,
    "start_time": "2021-09-29T04:19:21.799Z"
   },
   {
    "duration": 4,
    "start_time": "2021-09-29T04:19:21.810Z"
   },
   {
    "duration": 45,
    "start_time": "2021-09-29T04:19:21.816Z"
   },
   {
    "duration": 14,
    "start_time": "2021-09-29T04:19:21.863Z"
   },
   {
    "duration": 11,
    "start_time": "2021-09-29T04:19:21.878Z"
   },
   {
    "duration": 6,
    "start_time": "2021-09-29T04:19:21.891Z"
   },
   {
    "duration": 9,
    "start_time": "2021-09-29T04:19:21.899Z"
   },
   {
    "duration": 41,
    "start_time": "2021-09-29T04:19:21.909Z"
   },
   {
    "duration": 17,
    "start_time": "2021-09-29T04:19:21.951Z"
   },
   {
    "duration": 14,
    "start_time": "2021-09-29T04:19:21.970Z"
   },
   {
    "duration": 11,
    "start_time": "2021-09-29T04:19:21.985Z"
   },
   {
    "duration": 11,
    "start_time": "2021-09-29T04:19:21.997Z"
   },
   {
    "duration": 45,
    "start_time": "2021-09-29T04:19:22.009Z"
   },
   {
    "duration": 7,
    "start_time": "2021-09-29T04:19:22.055Z"
   },
   {
    "duration": 9,
    "start_time": "2021-09-29T04:19:22.064Z"
   },
   {
    "duration": 57,
    "start_time": "2021-09-29T04:19:22.074Z"
   },
   {
    "duration": 22,
    "start_time": "2021-09-29T04:19:22.132Z"
   },
   {
    "duration": 35,
    "start_time": "2021-09-29T04:19:22.156Z"
   },
   {
    "duration": 144,
    "start_time": "2021-09-29T04:19:22.193Z"
   },
   {
    "duration": 53,
    "start_time": "2021-09-29T04:19:22.339Z"
   },
   {
    "duration": 7,
    "start_time": "2021-09-29T04:19:22.393Z"
   },
   {
    "duration": 11,
    "start_time": "2021-09-29T04:19:22.401Z"
   },
   {
    "duration": 78,
    "start_time": "2021-09-29T04:19:22.414Z"
   },
   {
    "duration": 63,
    "start_time": "2021-09-29T04:19:22.494Z"
   },
   {
    "duration": 16,
    "start_time": "2021-09-29T04:19:22.559Z"
   },
   {
    "duration": 16,
    "start_time": "2021-09-29T04:19:22.577Z"
   },
   {
    "duration": 15,
    "start_time": "2021-09-29T04:19:22.598Z"
   },
   {
    "duration": 52,
    "start_time": "2021-09-29T04:19:22.616Z"
   },
   {
    "duration": 26,
    "start_time": "2021-09-29T04:19:22.670Z"
   },
   {
    "duration": 65,
    "start_time": "2021-09-29T04:19:22.698Z"
   },
   {
    "duration": 303,
    "start_time": "2021-09-29T04:19:22.765Z"
   },
   {
    "duration": -267,
    "start_time": "2021-09-29T04:19:23.336Z"
   },
   {
    "duration": -290,
    "start_time": "2021-09-29T04:19:23.361Z"
   },
   {
    "duration": -297,
    "start_time": "2021-09-29T04:19:23.368Z"
   },
   {
    "duration": -308,
    "start_time": "2021-09-29T04:19:23.381Z"
   },
   {
    "duration": -334,
    "start_time": "2021-09-29T04:19:23.408Z"
   },
   {
    "duration": -341,
    "start_time": "2021-09-29T04:19:23.416Z"
   },
   {
    "duration": -352,
    "start_time": "2021-09-29T04:19:23.428Z"
   },
   {
    "duration": -358,
    "start_time": "2021-09-29T04:19:23.435Z"
   },
   {
    "duration": -368,
    "start_time": "2021-09-29T04:19:23.447Z"
   },
   {
    "duration": -380,
    "start_time": "2021-09-29T04:19:23.460Z"
   },
   {
    "duration": -385,
    "start_time": "2021-09-29T04:19:23.466Z"
   },
   {
    "duration": -397,
    "start_time": "2021-09-29T04:19:23.479Z"
   },
   {
    "duration": -403,
    "start_time": "2021-09-29T04:19:23.486Z"
   },
   {
    "duration": -414,
    "start_time": "2021-09-29T04:19:23.498Z"
   },
   {
    "duration": -426,
    "start_time": "2021-09-29T04:19:23.511Z"
   },
   {
    "duration": -431,
    "start_time": "2021-09-29T04:19:23.517Z"
   },
   {
    "duration": -442,
    "start_time": "2021-09-29T04:19:23.529Z"
   },
   {
    "duration": -448,
    "start_time": "2021-09-29T04:19:23.536Z"
   },
   {
    "duration": -461,
    "start_time": "2021-09-29T04:19:23.550Z"
   },
   {
    "duration": -471,
    "start_time": "2021-09-29T04:19:23.561Z"
   },
   {
    "duration": -475,
    "start_time": "2021-09-29T04:19:23.567Z"
   },
   {
    "duration": -484,
    "start_time": "2021-09-29T04:19:23.577Z"
   },
   {
    "duration": -490,
    "start_time": "2021-09-29T04:19:23.584Z"
   },
   {
    "duration": -500,
    "start_time": "2021-09-29T04:19:23.595Z"
   },
   {
    "duration": -507,
    "start_time": "2021-09-29T04:19:23.603Z"
   },
   {
    "duration": -518,
    "start_time": "2021-09-29T04:19:23.615Z"
   },
   {
    "duration": -528,
    "start_time": "2021-09-29T04:19:23.626Z"
   },
   {
    "duration": -534,
    "start_time": "2021-09-29T04:19:23.633Z"
   },
   {
    "duration": -550,
    "start_time": "2021-09-29T04:19:23.650Z"
   },
   {
    "duration": -562,
    "start_time": "2021-09-29T04:19:23.662Z"
   },
   {
    "duration": -570,
    "start_time": "2021-09-29T04:19:23.671Z"
   },
   {
    "duration": -582,
    "start_time": "2021-09-29T04:19:23.684Z"
   },
   {
    "duration": -594,
    "start_time": "2021-09-29T04:19:23.697Z"
   },
   {
    "duration": -600,
    "start_time": "2021-09-29T04:19:23.703Z"
   },
   {
    "duration": -613,
    "start_time": "2021-09-29T04:19:23.717Z"
   },
   {
    "duration": -624,
    "start_time": "2021-09-29T04:19:23.729Z"
   },
   {
    "duration": -630,
    "start_time": "2021-09-29T04:19:23.736Z"
   },
   {
    "duration": 12,
    "start_time": "2021-09-29T04:20:22.172Z"
   },
   {
    "duration": 336,
    "start_time": "2021-09-29T21:47:29.760Z"
   },
   {
    "duration": 1478,
    "start_time": "2021-09-29T21:47:38.601Z"
   },
   {
    "duration": 4,
    "start_time": "2021-09-29T21:47:40.083Z"
   },
   {
    "duration": 400,
    "start_time": "2021-09-29T21:47:40.091Z"
   },
   {
    "duration": 21,
    "start_time": "2021-09-29T21:47:40.494Z"
   },
   {
    "duration": 19,
    "start_time": "2021-09-29T21:47:40.517Z"
   },
   {
    "duration": 17,
    "start_time": "2021-09-29T21:47:40.539Z"
   },
   {
    "duration": 114,
    "start_time": "2021-09-29T21:47:40.558Z"
   },
   {
    "duration": 17,
    "start_time": "2021-09-29T21:47:40.676Z"
   },
   {
    "duration": 31,
    "start_time": "2021-09-29T21:47:40.695Z"
   },
   {
    "duration": 145,
    "start_time": "2021-09-29T21:47:40.728Z"
   },
   {
    "duration": 11,
    "start_time": "2021-09-29T21:47:40.876Z"
   },
   {
    "duration": 163,
    "start_time": "2021-09-29T21:47:40.889Z"
   },
   {
    "duration": 18,
    "start_time": "2021-09-29T21:47:41.056Z"
   },
   {
    "duration": 11,
    "start_time": "2021-09-29T21:47:41.076Z"
   },
   {
    "duration": 143,
    "start_time": "2021-09-29T21:47:41.089Z"
   },
   {
    "duration": 10,
    "start_time": "2021-09-29T21:47:41.235Z"
   },
   {
    "duration": 87,
    "start_time": "2021-09-29T21:47:41.247Z"
   },
   {
    "duration": 15,
    "start_time": "2021-09-29T21:47:41.336Z"
   },
   {
    "duration": 31,
    "start_time": "2021-09-29T21:47:41.353Z"
   },
   {
    "duration": 120,
    "start_time": "2021-09-29T21:47:41.386Z"
   },
   {
    "duration": 54,
    "start_time": "2021-09-29T21:47:41.508Z"
   },
   {
    "duration": 15,
    "start_time": "2021-09-29T21:47:41.565Z"
   },
   {
    "duration": 40,
    "start_time": "2021-09-29T21:47:41.587Z"
   },
   {
    "duration": 165,
    "start_time": "2021-09-29T21:47:41.631Z"
   },
   {
    "duration": 44,
    "start_time": "2021-09-29T21:47:41.799Z"
   },
   {
    "duration": 1169,
    "start_time": "2021-09-29T21:47:41.846Z"
   },
   {
    "duration": 11,
    "start_time": "2021-09-29T21:47:43.021Z"
   },
   {
    "duration": 18,
    "start_time": "2021-09-29T21:47:43.034Z"
   },
   {
    "duration": 18,
    "start_time": "2021-09-29T21:47:43.054Z"
   },
   {
    "duration": 279,
    "start_time": "2021-09-29T21:47:43.075Z"
   },
   {
    "duration": 12,
    "start_time": "2021-09-29T21:47:43.357Z"
   },
   {
    "duration": 25,
    "start_time": "2021-09-29T21:47:43.372Z"
   },
   {
    "duration": 33,
    "start_time": "2021-09-29T21:47:43.399Z"
   },
   {
    "duration": 242,
    "start_time": "2021-09-29T21:47:43.434Z"
   },
   {
    "duration": 227,
    "start_time": "2021-09-29T21:47:43.678Z"
   },
   {
    "duration": 16,
    "start_time": "2021-09-29T21:47:43.907Z"
   },
   {
    "duration": 9,
    "start_time": "2021-09-29T21:47:43.926Z"
   },
   {
    "duration": 14,
    "start_time": "2021-09-29T21:47:43.938Z"
   },
   {
    "duration": 277,
    "start_time": "2021-09-29T21:47:43.954Z"
   },
   {
    "duration": 15,
    "start_time": "2021-09-29T21:47:44.233Z"
   },
   {
    "duration": 41,
    "start_time": "2021-09-29T21:47:44.250Z"
   },
   {
    "duration": 36,
    "start_time": "2021-09-29T21:47:44.294Z"
   },
   {
    "duration": 17,
    "start_time": "2021-09-29T21:47:44.333Z"
   },
   {
    "duration": 31,
    "start_time": "2021-09-29T21:47:44.353Z"
   },
   {
    "duration": 38,
    "start_time": "2021-09-29T21:47:44.387Z"
   },
   {
    "duration": 18,
    "start_time": "2021-09-29T21:47:44.428Z"
   },
   {
    "duration": 10,
    "start_time": "2021-09-29T21:47:44.448Z"
   },
   {
    "duration": 13,
    "start_time": "2021-09-29T21:47:44.460Z"
   },
   {
    "duration": 52,
    "start_time": "2021-09-29T21:47:44.476Z"
   },
   {
    "duration": 20,
    "start_time": "2021-09-29T21:47:44.531Z"
   },
   {
    "duration": 19,
    "start_time": "2021-09-29T21:47:44.554Z"
   },
   {
    "duration": 55,
    "start_time": "2021-09-29T21:47:44.576Z"
   },
   {
    "duration": 14,
    "start_time": "2021-09-29T21:47:44.634Z"
   },
   {
    "duration": 26,
    "start_time": "2021-09-29T21:47:44.651Z"
   },
   {
    "duration": 15,
    "start_time": "2021-09-29T21:47:44.679Z"
   },
   {
    "duration": 36,
    "start_time": "2021-09-29T21:47:44.696Z"
   },
   {
    "duration": 100,
    "start_time": "2021-09-29T21:47:44.735Z"
   },
   {
    "duration": 10,
    "start_time": "2021-09-29T21:47:44.838Z"
   },
   {
    "duration": 78,
    "start_time": "2021-09-29T21:47:44.850Z"
   },
   {
    "duration": 219,
    "start_time": "2021-09-29T21:47:44.930Z"
   },
   {
    "duration": 80,
    "start_time": "2021-09-29T21:47:45.152Z"
   },
   {
    "duration": 11,
    "start_time": "2021-09-29T21:47:45.235Z"
   },
   {
    "duration": 14,
    "start_time": "2021-09-29T21:47:45.249Z"
   },
   {
    "duration": 129,
    "start_time": "2021-09-29T21:47:45.266Z"
   },
   {
    "duration": 107,
    "start_time": "2021-09-29T21:47:45.398Z"
   },
   {
    "duration": 28,
    "start_time": "2021-09-29T21:47:45.522Z"
   },
   {
    "duration": 36,
    "start_time": "2021-09-29T21:47:45.553Z"
   },
   {
    "duration": 46,
    "start_time": "2021-09-29T21:47:45.598Z"
   },
   {
    "duration": 39,
    "start_time": "2021-09-29T21:47:45.648Z"
   },
   {
    "duration": 70,
    "start_time": "2021-09-29T21:47:45.689Z"
   },
   {
    "duration": 8,
    "start_time": "2021-09-29T21:47:45.761Z"
   },
   {
    "duration": 12,
    "start_time": "2021-09-29T21:47:45.771Z"
   },
   {
    "duration": 437,
    "start_time": "2021-09-29T21:47:45.786Z"
   },
   {
    "duration": -165,
    "start_time": "2021-09-29T21:47:46.391Z"
   },
   {
    "duration": -178,
    "start_time": "2021-09-29T21:47:46.406Z"
   },
   {
    "duration": -190,
    "start_time": "2021-09-29T21:47:46.420Z"
   },
   {
    "duration": -203,
    "start_time": "2021-09-29T21:47:46.434Z"
   },
   {
    "duration": -208,
    "start_time": "2021-09-29T21:47:46.440Z"
   },
   {
    "duration": -218,
    "start_time": "2021-09-29T21:47:46.452Z"
   },
   {
    "duration": -228,
    "start_time": "2021-09-29T21:47:46.464Z"
   },
   {
    "duration": -233,
    "start_time": "2021-09-29T21:47:46.470Z"
   },
   {
    "duration": -245,
    "start_time": "2021-09-29T21:47:46.483Z"
   },
   {
    "duration": -249,
    "start_time": "2021-09-29T21:47:46.489Z"
   },
   {
    "duration": -260,
    "start_time": "2021-09-29T21:47:46.502Z"
   },
   {
    "duration": -266,
    "start_time": "2021-09-29T21:47:46.509Z"
   },
   {
    "duration": -291,
    "start_time": "2021-09-29T21:47:46.536Z"
   },
   {
    "duration": -302,
    "start_time": "2021-09-29T21:47:46.549Z"
   },
   {
    "duration": -306,
    "start_time": "2021-09-29T21:47:46.556Z"
   },
   {
    "duration": -317,
    "start_time": "2021-09-29T21:47:46.569Z"
   },
   {
    "duration": -324,
    "start_time": "2021-09-29T21:47:46.578Z"
   },
   {
    "duration": -347,
    "start_time": "2021-09-29T21:47:46.602Z"
   },
   {
    "duration": -352,
    "start_time": "2021-09-29T21:47:46.609Z"
   },
   {
    "duration": -363,
    "start_time": "2021-09-29T21:47:46.622Z"
   },
   {
    "duration": -372,
    "start_time": "2021-09-29T21:47:46.633Z"
   },
   {
    "duration": -377,
    "start_time": "2021-09-29T21:47:46.639Z"
   },
   {
    "duration": -387,
    "start_time": "2021-09-29T21:47:46.650Z"
   },
   {
    "duration": -392,
    "start_time": "2021-09-29T21:47:46.657Z"
   },
   {
    "duration": -345,
    "start_time": "2021-09-29T21:47:46.667Z"
   },
   {
    "duration": -350,
    "start_time": "2021-09-29T21:47:46.674Z"
   },
   {
    "duration": -361,
    "start_time": "2021-09-29T21:47:46.686Z"
   },
   {
    "duration": -370,
    "start_time": "2021-09-29T21:47:46.697Z"
   },
   {
    "duration": -375,
    "start_time": "2021-09-29T21:47:46.703Z"
   },
   {
    "duration": -387,
    "start_time": "2021-09-29T21:47:46.716Z"
   },
   {
    "duration": -391,
    "start_time": "2021-09-29T21:47:46.721Z"
   },
   {
    "duration": -402,
    "start_time": "2021-09-29T21:47:46.734Z"
   },
   {
    "duration": -407,
    "start_time": "2021-09-29T21:47:46.740Z"
   },
   {
    "duration": -417,
    "start_time": "2021-09-29T21:47:46.751Z"
   },
   {
    "duration": -422,
    "start_time": "2021-09-29T21:47:46.758Z"
   },
   {
    "duration": -430,
    "start_time": "2021-09-29T21:47:46.767Z"
   },
   {
    "duration": -436,
    "start_time": "2021-09-29T21:47:46.774Z"
   },
   {
    "duration": 8,
    "start_time": "2021-09-29T21:48:10.487Z"
   },
   {
    "duration": 8,
    "start_time": "2021-09-29T21:48:22.647Z"
   },
   {
    "duration": 7,
    "start_time": "2021-09-29T21:48:49.126Z"
   },
   {
    "duration": 6,
    "start_time": "2021-09-29T21:49:49.769Z"
   },
   {
    "duration": 8,
    "start_time": "2021-09-29T21:51:02.594Z"
   },
   {
    "duration": 12,
    "start_time": "2021-09-29T21:51:30.642Z"
   },
   {
    "duration": 9,
    "start_time": "2021-09-29T21:53:07.836Z"
   },
   {
    "duration": 27,
    "start_time": "2021-09-29T21:53:36.154Z"
   },
   {
    "duration": 26,
    "start_time": "2021-09-29T21:53:49.663Z"
   },
   {
    "duration": 26,
    "start_time": "2021-09-29T21:53:56.619Z"
   },
   {
    "duration": 28,
    "start_time": "2021-09-29T21:54:09.294Z"
   },
   {
    "duration": 8,
    "start_time": "2021-09-29T21:54:39.495Z"
   },
   {
    "duration": 541,
    "start_time": "2021-09-29T21:55:56.656Z"
   },
   {
    "duration": 96,
    "start_time": "2021-09-29T21:56:43.394Z"
   },
   {
    "duration": 9,
    "start_time": "2021-09-29T21:56:54.647Z"
   },
   {
    "duration": 12,
    "start_time": "2021-09-29T22:00:16.964Z"
   },
   {
    "duration": 11,
    "start_time": "2021-09-29T22:00:55.624Z"
   },
   {
    "duration": 11,
    "start_time": "2021-09-29T22:01:11.354Z"
   },
   {
    "duration": 305,
    "start_time": "2021-09-29T22:02:41.773Z"
   },
   {
    "duration": 22,
    "start_time": "2021-09-29T22:03:31.608Z"
   },
   {
    "duration": 26,
    "start_time": "2021-09-29T22:04:59.097Z"
   },
   {
    "duration": 31,
    "start_time": "2021-09-29T22:06:36.273Z"
   },
   {
    "duration": 30,
    "start_time": "2021-09-29T22:06:47.563Z"
   },
   {
    "duration": 11,
    "start_time": "2021-09-29T22:08:43.486Z"
   },
   {
    "duration": 105,
    "start_time": "2021-09-29T22:09:14.285Z"
   },
   {
    "duration": 29,
    "start_time": "2021-09-29T22:09:29.715Z"
   },
   {
    "duration": 23,
    "start_time": "2021-09-29T22:09:46.168Z"
   },
   {
    "duration": 25,
    "start_time": "2021-09-29T22:10:47.660Z"
   },
   {
    "duration": 24,
    "start_time": "2021-09-29T22:10:56.676Z"
   },
   {
    "duration": 23,
    "start_time": "2021-09-29T22:11:07.695Z"
   },
   {
    "duration": 23,
    "start_time": "2021-09-29T22:11:19.166Z"
   },
   {
    "duration": 26,
    "start_time": "2021-09-29T22:11:40.951Z"
   },
   {
    "duration": 31,
    "start_time": "2021-09-29T22:23:59.020Z"
   },
   {
    "duration": 30,
    "start_time": "2021-09-29T22:25:16.874Z"
   },
   {
    "duration": 33,
    "start_time": "2021-09-29T22:31:21.728Z"
   },
   {
    "duration": 32,
    "start_time": "2021-09-29T22:32:47.838Z"
   },
   {
    "duration": 32,
    "start_time": "2021-09-29T22:33:33.894Z"
   },
   {
    "duration": 42,
    "start_time": "2021-09-29T22:34:32.629Z"
   },
   {
    "duration": 13,
    "start_time": "2021-09-29T22:35:37.192Z"
   },
   {
    "duration": 13,
    "start_time": "2021-09-29T22:35:39.464Z"
   },
   {
    "duration": 34,
    "start_time": "2021-09-29T22:36:03.234Z"
   },
   {
    "duration": 9,
    "start_time": "2021-09-29T22:36:11.383Z"
   },
   {
    "duration": 298,
    "start_time": "2021-09-29T22:40:22.500Z"
   },
   {
    "duration": 705,
    "start_time": "2021-09-29T22:40:44.777Z"
   },
   {
    "duration": 74,
    "start_time": "2021-09-29T22:41:42.025Z"
   },
   {
    "duration": 1429,
    "start_time": "2021-09-29T22:43:17.894Z"
   },
   {
    "duration": 4,
    "start_time": "2021-09-29T22:43:19.326Z"
   },
   {
    "duration": 397,
    "start_time": "2021-09-29T22:43:19.333Z"
   },
   {
    "duration": 18,
    "start_time": "2021-09-29T22:43:19.733Z"
   },
   {
    "duration": 18,
    "start_time": "2021-09-29T22:43:19.753Z"
   },
   {
    "duration": 19,
    "start_time": "2021-09-29T22:43:19.774Z"
   },
   {
    "duration": 138,
    "start_time": "2021-09-29T22:43:19.796Z"
   },
   {
    "duration": 18,
    "start_time": "2021-09-29T22:43:19.937Z"
   },
   {
    "duration": 11,
    "start_time": "2021-09-29T22:43:19.958Z"
   },
   {
    "duration": 175,
    "start_time": "2021-09-29T22:43:19.971Z"
   },
   {
    "duration": 12,
    "start_time": "2021-09-29T22:43:20.148Z"
   },
   {
    "duration": 147,
    "start_time": "2021-09-29T22:43:20.162Z"
   },
   {
    "duration": 20,
    "start_time": "2021-09-29T22:43:20.311Z"
   },
   {
    "duration": 15,
    "start_time": "2021-09-29T22:43:20.333Z"
   },
   {
    "duration": 125,
    "start_time": "2021-09-29T22:43:20.351Z"
   },
   {
    "duration": 12,
    "start_time": "2021-09-29T22:43:20.478Z"
   },
   {
    "duration": 90,
    "start_time": "2021-09-29T22:43:20.494Z"
   },
   {
    "duration": 38,
    "start_time": "2021-09-29T22:43:20.587Z"
   },
   {
    "duration": 40,
    "start_time": "2021-09-29T22:43:20.628Z"
   },
   {
    "duration": 111,
    "start_time": "2021-09-29T22:43:20.670Z"
   },
   {
    "duration": 54,
    "start_time": "2021-09-29T22:43:20.783Z"
   },
   {
    "duration": 16,
    "start_time": "2021-09-29T22:43:20.839Z"
   },
   {
    "duration": 14,
    "start_time": "2021-09-29T22:43:20.862Z"
   },
   {
    "duration": 208,
    "start_time": "2021-09-29T22:43:20.880Z"
   },
   {
    "duration": 45,
    "start_time": "2021-09-29T22:43:21.090Z"
   },
   {
    "duration": 1124,
    "start_time": "2021-09-29T22:43:21.138Z"
   },
   {
    "duration": 14,
    "start_time": "2021-09-29T22:43:22.266Z"
   },
   {
    "duration": 49,
    "start_time": "2021-09-29T22:43:22.283Z"
   },
   {
    "duration": 22,
    "start_time": "2021-09-29T22:43:22.335Z"
   },
   {
    "duration": 265,
    "start_time": "2021-09-29T22:43:22.360Z"
   },
   {
    "duration": 15,
    "start_time": "2021-09-29T22:43:22.628Z"
   },
   {
    "duration": 14,
    "start_time": "2021-09-29T22:43:22.646Z"
   },
   {
    "duration": 63,
    "start_time": "2021-09-29T22:43:22.663Z"
   },
   {
    "duration": 304,
    "start_time": "2021-09-29T22:43:22.729Z"
   },
   {
    "duration": 227,
    "start_time": "2021-09-29T22:43:23.036Z"
   },
   {
    "duration": 12,
    "start_time": "2021-09-29T22:43:23.266Z"
   },
   {
    "duration": 11,
    "start_time": "2021-09-29T22:43:23.280Z"
   },
   {
    "duration": 41,
    "start_time": "2021-09-29T22:43:23.294Z"
   },
   {
    "duration": 249,
    "start_time": "2021-09-29T22:43:23.338Z"
   },
   {
    "duration": 15,
    "start_time": "2021-09-29T22:43:23.589Z"
   },
   {
    "duration": 41,
    "start_time": "2021-09-29T22:43:23.606Z"
   },
   {
    "duration": 16,
    "start_time": "2021-09-29T22:43:23.649Z"
   },
   {
    "duration": 6,
    "start_time": "2021-09-29T22:43:23.667Z"
   },
   {
    "duration": 67,
    "start_time": "2021-09-29T22:43:23.675Z"
   },
   {
    "duration": 23,
    "start_time": "2021-09-29T22:43:23.745Z"
   },
   {
    "duration": 55,
    "start_time": "2021-09-29T22:43:23.771Z"
   },
   {
    "duration": 9,
    "start_time": "2021-09-29T22:43:23.828Z"
   },
   {
    "duration": 12,
    "start_time": "2021-09-29T22:43:23.840Z"
   },
   {
    "duration": 9,
    "start_time": "2021-09-29T22:43:23.854Z"
   },
   {
    "duration": 68,
    "start_time": "2021-09-29T22:43:23.865Z"
   },
   {
    "duration": 19,
    "start_time": "2021-09-29T22:43:23.935Z"
   },
   {
    "duration": 16,
    "start_time": "2021-09-29T22:43:23.957Z"
   },
   {
    "duration": 16,
    "start_time": "2021-09-29T22:43:24.022Z"
   },
   {
    "duration": 18,
    "start_time": "2021-09-29T22:43:24.041Z"
   },
   {
    "duration": 7,
    "start_time": "2021-09-29T22:43:24.061Z"
   },
   {
    "duration": 53,
    "start_time": "2021-09-29T22:43:24.071Z"
   },
   {
    "duration": 104,
    "start_time": "2021-09-29T22:43:24.128Z"
   },
   {
    "duration": 9,
    "start_time": "2021-09-29T22:43:24.234Z"
   },
   {
    "duration": 84,
    "start_time": "2021-09-29T22:43:24.246Z"
   },
   {
    "duration": 221,
    "start_time": "2021-09-29T22:43:24.333Z"
   },
   {
    "duration": 80,
    "start_time": "2021-09-29T22:43:24.556Z"
   },
   {
    "duration": 11,
    "start_time": "2021-09-29T22:43:24.639Z"
   },
   {
    "duration": 11,
    "start_time": "2021-09-29T22:43:24.652Z"
   },
   {
    "duration": 134,
    "start_time": "2021-09-29T22:43:24.666Z"
   },
   {
    "duration": 124,
    "start_time": "2021-09-29T22:43:24.802Z"
   },
   {
    "duration": 29,
    "start_time": "2021-09-29T22:43:24.929Z"
   },
   {
    "duration": 52,
    "start_time": "2021-09-29T22:43:24.960Z"
   },
   {
    "duration": 28,
    "start_time": "2021-09-29T22:43:25.029Z"
   },
   {
    "duration": 43,
    "start_time": "2021-09-29T22:43:25.061Z"
   },
   {
    "duration": 69,
    "start_time": "2021-09-29T22:43:25.123Z"
   },
   {
    "duration": 31,
    "start_time": "2021-09-29T22:43:25.194Z"
   },
   {
    "duration": 45,
    "start_time": "2021-09-29T22:43:25.228Z"
   },
   {
    "duration": 12,
    "start_time": "2021-09-29T22:43:25.275Z"
   },
   {
    "duration": 11,
    "start_time": "2021-09-29T22:43:25.290Z"
   },
   {
    "duration": 10,
    "start_time": "2021-09-29T22:43:25.334Z"
   },
   {
    "duration": 27,
    "start_time": "2021-09-29T22:43:25.347Z"
   },
   {
    "duration": 78,
    "start_time": "2021-09-29T22:43:25.376Z"
   },
   {
    "duration": 535,
    "start_time": "2021-09-29T22:43:25.457Z"
   },
   {
    "duration": -2234,
    "start_time": "2021-09-29T22:43:28.229Z"
   },
   {
    "duration": -2246,
    "start_time": "2021-09-29T22:43:28.242Z"
   },
   {
    "duration": -2257,
    "start_time": "2021-09-29T22:43:28.255Z"
   },
   {
    "duration": -2263,
    "start_time": "2021-09-29T22:43:28.262Z"
   },
   {
    "duration": -2274,
    "start_time": "2021-09-29T22:43:28.274Z"
   },
   {
    "duration": -2279,
    "start_time": "2021-09-29T22:43:28.281Z"
   },
   {
    "duration": -2329,
    "start_time": "2021-09-29T22:43:28.333Z"
   },
   {
    "duration": -2367,
    "start_time": "2021-09-29T22:43:28.373Z"
   },
   {
    "duration": -2372,
    "start_time": "2021-09-29T22:43:28.380Z"
   },
   {
    "duration": -2394,
    "start_time": "2021-09-29T22:43:28.404Z"
   },
   {
    "duration": -2400,
    "start_time": "2021-09-29T22:43:28.412Z"
   },
   {
    "duration": -2419,
    "start_time": "2021-09-29T22:43:28.432Z"
   },
   {
    "duration": -2510,
    "start_time": "2021-09-29T22:43:28.525Z"
   },
   {
    "duration": -2539,
    "start_time": "2021-09-29T22:43:28.556Z"
   },
   {
    "duration": -2546,
    "start_time": "2021-09-29T22:43:28.564Z"
   },
   {
    "duration": -2555,
    "start_time": "2021-09-29T22:43:28.575Z"
   },
   {
    "duration": -2560,
    "start_time": "2021-09-29T22:43:28.582Z"
   },
   {
    "duration": -2572,
    "start_time": "2021-09-29T22:43:28.595Z"
   },
   {
    "duration": -2699,
    "start_time": "2021-09-29T22:43:28.728Z"
   },
   {
    "duration": -2710,
    "start_time": "2021-09-29T22:43:28.741Z"
   },
   {
    "duration": -2725,
    "start_time": "2021-09-29T22:43:28.758Z"
   },
   {
    "duration": -2729,
    "start_time": "2021-09-29T22:43:28.764Z"
   },
   {
    "duration": -2740,
    "start_time": "2021-09-29T22:43:28.777Z"
   },
   {
    "duration": -2745,
    "start_time": "2021-09-29T22:43:28.785Z"
   },
   {
    "duration": -2756,
    "start_time": "2021-09-29T22:43:28.798Z"
   },
   {
    "duration": -2766,
    "start_time": "2021-09-29T22:43:28.810Z"
   },
   {
    "duration": -2900,
    "start_time": "2021-09-29T22:43:28.947Z"
   },
   {
    "duration": -2922,
    "start_time": "2021-09-29T22:43:28.971Z"
   },
   {
    "duration": -2928,
    "start_time": "2021-09-29T22:43:28.979Z"
   },
   {
    "duration": -2936,
    "start_time": "2021-09-29T22:43:28.989Z"
   },
   {
    "duration": -2942,
    "start_time": "2021-09-29T22:43:28.997Z"
   },
   {
    "duration": -2953,
    "start_time": "2021-09-29T22:43:29.009Z"
   },
   {
    "duration": -2957,
    "start_time": "2021-09-29T22:43:29.015Z"
   },
   {
    "duration": -2967,
    "start_time": "2021-09-29T22:43:29.027Z"
   },
   {
    "duration": -2973,
    "start_time": "2021-09-29T22:43:29.034Z"
   },
   {
    "duration": -2983,
    "start_time": "2021-09-29T22:43:29.046Z"
   },
   {
    "duration": 29,
    "start_time": "2021-09-29T22:43:50.497Z"
   },
   {
    "duration": 20,
    "start_time": "2021-09-29T22:45:37.252Z"
   },
   {
    "duration": 70,
    "start_time": "2021-09-29T22:45:40.767Z"
   },
   {
    "duration": 10,
    "start_time": "2021-09-29T22:46:25.389Z"
   },
   {
    "duration": 1407,
    "start_time": "2021-09-29T22:48:28.162Z"
   },
   {
    "duration": 4,
    "start_time": "2021-09-29T22:48:29.572Z"
   },
   {
    "duration": 391,
    "start_time": "2021-09-29T22:48:29.581Z"
   },
   {
    "duration": 22,
    "start_time": "2021-09-29T22:48:29.975Z"
   },
   {
    "duration": 24,
    "start_time": "2021-09-29T22:48:30.000Z"
   },
   {
    "duration": 25,
    "start_time": "2021-09-29T22:48:30.027Z"
   },
   {
    "duration": 131,
    "start_time": "2021-09-29T22:48:30.055Z"
   },
   {
    "duration": 37,
    "start_time": "2021-09-29T22:48:30.192Z"
   },
   {
    "duration": 13,
    "start_time": "2021-09-29T22:48:30.233Z"
   },
   {
    "duration": 161,
    "start_time": "2021-09-29T22:48:30.249Z"
   },
   {
    "duration": 13,
    "start_time": "2021-09-29T22:48:30.421Z"
   },
   {
    "duration": 146,
    "start_time": "2021-09-29T22:48:30.438Z"
   },
   {
    "duration": 35,
    "start_time": "2021-09-29T22:48:30.587Z"
   },
   {
    "duration": 13,
    "start_time": "2021-09-29T22:48:30.626Z"
   },
   {
    "duration": 130,
    "start_time": "2021-09-29T22:48:30.642Z"
   },
   {
    "duration": 12,
    "start_time": "2021-09-29T22:48:30.775Z"
   },
   {
    "duration": 92,
    "start_time": "2021-09-29T22:48:30.790Z"
   },
   {
    "duration": 40,
    "start_time": "2021-09-29T22:48:30.885Z"
   },
   {
    "duration": 47,
    "start_time": "2021-09-29T22:48:30.928Z"
   },
   {
    "duration": 111,
    "start_time": "2021-09-29T22:48:30.978Z"
   },
   {
    "duration": 57,
    "start_time": "2021-09-29T22:48:31.092Z"
   },
   {
    "duration": 20,
    "start_time": "2021-09-29T22:48:31.152Z"
   },
   {
    "duration": 14,
    "start_time": "2021-09-29T22:48:31.182Z"
   },
   {
    "duration": 182,
    "start_time": "2021-09-29T22:48:31.227Z"
   },
   {
    "duration": 41,
    "start_time": "2021-09-29T22:48:31.423Z"
   },
   {
    "duration": 1260,
    "start_time": "2021-09-29T22:48:31.467Z"
   },
   {
    "duration": 14,
    "start_time": "2021-09-29T22:48:32.730Z"
   },
   {
    "duration": 17,
    "start_time": "2021-09-29T22:48:32.747Z"
   },
   {
    "duration": 68,
    "start_time": "2021-09-29T22:48:32.766Z"
   },
   {
    "duration": 241,
    "start_time": "2021-09-29T22:48:32.837Z"
   },
   {
    "duration": 13,
    "start_time": "2021-09-29T22:48:33.081Z"
   },
   {
    "duration": 30,
    "start_time": "2021-09-29T22:48:33.096Z"
   },
   {
    "duration": 16,
    "start_time": "2021-09-29T22:48:33.128Z"
   },
   {
    "duration": 254,
    "start_time": "2021-09-29T22:48:33.146Z"
   },
   {
    "duration": 222,
    "start_time": "2021-09-29T22:48:33.403Z"
   },
   {
    "duration": 11,
    "start_time": "2021-09-29T22:48:33.628Z"
   },
   {
    "duration": 10,
    "start_time": "2021-09-29T22:48:33.642Z"
   },
   {
    "duration": 15,
    "start_time": "2021-09-29T22:48:33.654Z"
   },
   {
    "duration": 289,
    "start_time": "2021-09-29T22:48:33.671Z"
   },
   {
    "duration": 14,
    "start_time": "2021-09-29T22:48:33.962Z"
   },
   {
    "duration": 48,
    "start_time": "2021-09-29T22:48:33.979Z"
   },
   {
    "duration": 15,
    "start_time": "2021-09-29T22:48:34.029Z"
   },
   {
    "duration": 8,
    "start_time": "2021-09-29T22:48:34.046Z"
   },
   {
    "duration": 40,
    "start_time": "2021-09-29T22:48:34.056Z"
   },
   {
    "duration": 22,
    "start_time": "2021-09-29T22:48:34.122Z"
   },
   {
    "duration": 18,
    "start_time": "2021-09-29T22:48:34.147Z"
   },
   {
    "duration": 15,
    "start_time": "2021-09-29T22:48:34.168Z"
   },
   {
    "duration": 43,
    "start_time": "2021-09-29T22:48:34.185Z"
   },
   {
    "duration": 8,
    "start_time": "2021-09-29T22:48:34.230Z"
   },
   {
    "duration": 24,
    "start_time": "2021-09-29T22:48:34.240Z"
   },
   {
    "duration": 59,
    "start_time": "2021-09-29T22:48:34.267Z"
   },
   {
    "duration": 16,
    "start_time": "2021-09-29T22:48:34.328Z"
   },
   {
    "duration": 16,
    "start_time": "2021-09-29T22:48:34.346Z"
   },
   {
    "duration": 12,
    "start_time": "2021-09-29T22:48:34.365Z"
   },
   {
    "duration": 48,
    "start_time": "2021-09-29T22:48:34.380Z"
   },
   {
    "duration": 18,
    "start_time": "2021-09-29T22:48:34.430Z"
   },
   {
    "duration": 105,
    "start_time": "2021-09-29T22:48:34.452Z"
   },
   {
    "duration": 9,
    "start_time": "2021-09-29T22:48:34.559Z"
   },
   {
    "duration": 78,
    "start_time": "2021-09-29T22:48:34.571Z"
   },
   {
    "duration": 216,
    "start_time": "2021-09-29T22:48:34.651Z"
   },
   {
    "duration": 79,
    "start_time": "2021-09-29T22:48:34.869Z"
   },
   {
    "duration": 11,
    "start_time": "2021-09-29T22:48:34.950Z"
   },
   {
    "duration": 25,
    "start_time": "2021-09-29T22:48:34.963Z"
   },
   {
    "duration": 117,
    "start_time": "2021-09-29T22:48:34.990Z"
   },
   {
    "duration": 120,
    "start_time": "2021-09-29T22:48:35.110Z"
   },
   {
    "duration": 28,
    "start_time": "2021-09-29T22:48:35.233Z"
   },
   {
    "duration": 35,
    "start_time": "2021-09-29T22:48:35.263Z"
   },
   {
    "duration": 26,
    "start_time": "2021-09-29T22:48:35.329Z"
   },
   {
    "duration": 46,
    "start_time": "2021-09-29T22:48:35.358Z"
   },
   {
    "duration": 46,
    "start_time": "2021-09-29T22:48:35.422Z"
   },
   {
    "duration": 2,
    "start_time": "2021-09-29T22:48:35.471Z"
   },
   {
    "duration": 52,
    "start_time": "2021-09-29T22:48:35.476Z"
   },
   {
    "duration": 32,
    "start_time": "2021-09-29T22:48:35.531Z"
   },
   {
    "duration": 81,
    "start_time": "2021-09-29T22:48:35.566Z"
   },
   {
    "duration": 74,
    "start_time": "2021-09-29T22:48:35.649Z"
   },
   {
    "duration": 27,
    "start_time": "2021-09-29T22:48:35.726Z"
   },
   {
    "duration": 46,
    "start_time": "2021-09-29T22:48:35.755Z"
   },
   {
    "duration": 27,
    "start_time": "2021-09-29T22:48:35.803Z"
   },
   {
    "duration": 81,
    "start_time": "2021-09-29T22:48:35.832Z"
   },
   {
    "duration": 1609,
    "start_time": "2021-09-29T22:48:35.922Z"
   },
   {
    "duration": -238,
    "start_time": "2021-09-29T22:48:37.771Z"
   },
   {
    "duration": -245,
    "start_time": "2021-09-29T22:48:37.779Z"
   },
   {
    "duration": -522,
    "start_time": "2021-09-29T22:48:38.058Z"
   },
   {
    "duration": -532,
    "start_time": "2021-09-29T22:48:38.069Z"
   },
   {
    "duration": -538,
    "start_time": "2021-09-29T22:48:38.076Z"
   },
   {
    "duration": -548,
    "start_time": "2021-09-29T22:48:38.088Z"
   },
   {
    "duration": -553,
    "start_time": "2021-09-29T22:48:38.095Z"
   },
   {
    "duration": -564,
    "start_time": "2021-09-29T22:48:38.107Z"
   },
   {
    "duration": -569,
    "start_time": "2021-09-29T22:48:38.113Z"
   },
   {
    "duration": -578,
    "start_time": "2021-09-29T22:48:38.124Z"
   },
   {
    "duration": -588,
    "start_time": "2021-09-29T22:48:38.135Z"
   },
   {
    "duration": -594,
    "start_time": "2021-09-29T22:48:38.142Z"
   },
   {
    "duration": -605,
    "start_time": "2021-09-29T22:48:38.154Z"
   },
   {
    "duration": -610,
    "start_time": "2021-09-29T22:48:38.161Z"
   },
   {
    "duration": -620,
    "start_time": "2021-09-29T22:48:38.172Z"
   },
   {
    "duration": -626,
    "start_time": "2021-09-29T22:48:38.179Z"
   },
   {
    "duration": -634,
    "start_time": "2021-09-29T22:48:38.189Z"
   },
   {
    "duration": -639,
    "start_time": "2021-09-29T22:48:38.195Z"
   },
   {
    "duration": -649,
    "start_time": "2021-09-29T22:48:38.206Z"
   },
   {
    "duration": -656,
    "start_time": "2021-09-29T22:48:38.214Z"
   },
   {
    "duration": -664,
    "start_time": "2021-09-29T22:48:38.224Z"
   },
   {
    "duration": -675,
    "start_time": "2021-09-29T22:48:38.236Z"
   },
   {
    "duration": -680,
    "start_time": "2021-09-29T22:48:38.243Z"
   },
   {
    "duration": -713,
    "start_time": "2021-09-29T22:48:38.277Z"
   },
   {
    "duration": -724,
    "start_time": "2021-09-29T22:48:38.289Z"
   },
   {
    "duration": -730,
    "start_time": "2021-09-29T22:48:38.296Z"
   },
   {
    "duration": -742,
    "start_time": "2021-09-29T22:48:38.309Z"
   },
   {
    "duration": -754,
    "start_time": "2021-09-29T22:48:38.323Z"
   },
   {
    "duration": -708,
    "start_time": "2021-09-29T22:48:38.330Z"
   },
   {
    "duration": -719,
    "start_time": "2021-09-29T22:48:38.343Z"
   },
   {
    "duration": -730,
    "start_time": "2021-09-29T22:48:38.355Z"
   },
   {
    "duration": -736,
    "start_time": "2021-09-29T22:48:38.362Z"
   },
   {
    "duration": -748,
    "start_time": "2021-09-29T22:48:38.375Z"
   },
   {
    "duration": -760,
    "start_time": "2021-09-29T22:48:38.388Z"
   },
   {
    "duration": -765,
    "start_time": "2021-09-29T22:48:38.395Z"
   },
   {
    "duration": -778,
    "start_time": "2021-09-29T22:48:38.409Z"
   },
   {
    "duration": 304,
    "start_time": "2021-09-29T22:49:57.862Z"
   },
   {
    "duration": 11,
    "start_time": "2021-09-29T22:51:04.707Z"
   },
   {
    "duration": 1355,
    "start_time": "2021-09-29T22:52:01.019Z"
   },
   {
    "duration": 4,
    "start_time": "2021-09-29T22:52:02.377Z"
   },
   {
    "duration": 415,
    "start_time": "2021-09-29T22:52:02.384Z"
   },
   {
    "duration": 19,
    "start_time": "2021-09-29T22:52:02.802Z"
   },
   {
    "duration": 21,
    "start_time": "2021-09-29T22:52:02.824Z"
   },
   {
    "duration": 25,
    "start_time": "2021-09-29T22:52:02.848Z"
   },
   {
    "duration": 138,
    "start_time": "2021-09-29T22:52:02.876Z"
   },
   {
    "duration": 18,
    "start_time": "2021-09-29T22:52:03.018Z"
   },
   {
    "duration": 19,
    "start_time": "2021-09-29T22:52:03.039Z"
   },
   {
    "duration": 175,
    "start_time": "2021-09-29T22:52:03.061Z"
   },
   {
    "duration": 12,
    "start_time": "2021-09-29T22:52:03.238Z"
   },
   {
    "duration": 145,
    "start_time": "2021-09-29T22:52:03.252Z"
   },
   {
    "duration": 27,
    "start_time": "2021-09-29T22:52:03.399Z"
   },
   {
    "duration": 14,
    "start_time": "2021-09-29T22:52:03.429Z"
   },
   {
    "duration": 119,
    "start_time": "2021-09-29T22:52:03.445Z"
   },
   {
    "duration": 11,
    "start_time": "2021-09-29T22:52:03.567Z"
   },
   {
    "duration": 93,
    "start_time": "2021-09-29T22:52:03.581Z"
   },
   {
    "duration": 17,
    "start_time": "2021-09-29T22:52:03.676Z"
   },
   {
    "duration": 46,
    "start_time": "2021-09-29T22:52:03.695Z"
   },
   {
    "duration": 113,
    "start_time": "2021-09-29T22:52:03.744Z"
   },
   {
    "duration": 46,
    "start_time": "2021-09-29T22:52:03.859Z"
   },
   {
    "duration": 17,
    "start_time": "2021-09-29T22:52:03.923Z"
   },
   {
    "duration": 18,
    "start_time": "2021-09-29T22:52:03.947Z"
   },
   {
    "duration": 177,
    "start_time": "2021-09-29T22:52:03.969Z"
   },
   {
    "duration": 36,
    "start_time": "2021-09-29T22:52:04.148Z"
   },
   {
    "duration": 1010,
    "start_time": "2021-09-29T22:52:04.186Z"
   },
   {
    "duration": 24,
    "start_time": "2021-09-29T22:52:05.198Z"
   },
   {
    "duration": 16,
    "start_time": "2021-09-29T22:52:05.224Z"
   },
   {
    "duration": 29,
    "start_time": "2021-09-29T22:52:05.243Z"
   },
   {
    "duration": 226,
    "start_time": "2021-09-29T22:52:05.275Z"
   },
   {
    "duration": 21,
    "start_time": "2021-09-29T22:52:05.503Z"
   },
   {
    "duration": 26,
    "start_time": "2021-09-29T22:52:05.527Z"
   },
   {
    "duration": 44,
    "start_time": "2021-09-29T22:52:05.555Z"
   },
   {
    "duration": 239,
    "start_time": "2021-09-29T22:52:05.602Z"
   },
   {
    "duration": 247,
    "start_time": "2021-09-29T22:52:05.843Z"
   },
   {
    "duration": 13,
    "start_time": "2021-09-29T22:52:06.093Z"
   },
   {
    "duration": 11,
    "start_time": "2021-09-29T22:52:06.123Z"
   },
   {
    "duration": 30,
    "start_time": "2021-09-29T22:52:06.137Z"
   },
   {
    "duration": 256,
    "start_time": "2021-09-29T22:52:06.170Z"
   },
   {
    "duration": 15,
    "start_time": "2021-09-29T22:52:06.429Z"
   },
   {
    "duration": 42,
    "start_time": "2021-09-29T22:52:06.447Z"
   },
   {
    "duration": 41,
    "start_time": "2021-09-29T22:52:06.492Z"
   },
   {
    "duration": 24,
    "start_time": "2021-09-29T22:52:06.535Z"
   },
   {
    "duration": 39,
    "start_time": "2021-09-29T22:52:06.561Z"
   },
   {
    "duration": 26,
    "start_time": "2021-09-29T22:52:06.602Z"
   },
   {
    "duration": 21,
    "start_time": "2021-09-29T22:52:06.630Z"
   },
   {
    "duration": 17,
    "start_time": "2021-09-29T22:52:06.653Z"
   },
   {
    "duration": 47,
    "start_time": "2021-09-29T22:52:06.673Z"
   },
   {
    "duration": 28,
    "start_time": "2021-09-29T22:52:06.723Z"
   },
   {
    "duration": 35,
    "start_time": "2021-09-29T22:52:06.754Z"
   },
   {
    "duration": 18,
    "start_time": "2021-09-29T22:52:06.792Z"
   },
   {
    "duration": 24,
    "start_time": "2021-09-29T22:52:06.812Z"
   },
   {
    "duration": 22,
    "start_time": "2021-09-29T22:52:06.838Z"
   },
   {
    "duration": 37,
    "start_time": "2021-09-29T22:52:06.862Z"
   },
   {
    "duration": 29,
    "start_time": "2021-09-29T22:52:06.902Z"
   },
   {
    "duration": 36,
    "start_time": "2021-09-29T22:52:06.934Z"
   },
   {
    "duration": 110,
    "start_time": "2021-09-29T22:52:06.972Z"
   },
   {
    "duration": 8,
    "start_time": "2021-09-29T22:52:07.085Z"
   },
   {
    "duration": 73,
    "start_time": "2021-09-29T22:52:07.096Z"
   },
   {
    "duration": 221,
    "start_time": "2021-09-29T22:52:07.172Z"
   },
   {
    "duration": 73,
    "start_time": "2021-09-29T22:52:07.395Z"
   },
   {
    "duration": 10,
    "start_time": "2021-09-29T22:52:07.471Z"
   },
   {
    "duration": 38,
    "start_time": "2021-09-29T22:52:07.484Z"
   },
   {
    "duration": 108,
    "start_time": "2021-09-29T22:52:07.524Z"
   },
   {
    "duration": 114,
    "start_time": "2021-09-29T22:52:07.634Z"
   },
   {
    "duration": 30,
    "start_time": "2021-09-29T22:52:07.750Z"
   },
   {
    "duration": 55,
    "start_time": "2021-09-29T22:52:07.783Z"
   },
   {
    "duration": 40,
    "start_time": "2021-09-29T22:52:07.847Z"
   },
   {
    "duration": 59,
    "start_time": "2021-09-29T22:52:07.891Z"
   },
   {
    "duration": 47,
    "start_time": "2021-09-29T22:52:07.952Z"
   },
   {
    "duration": 23,
    "start_time": "2021-09-29T22:52:08.001Z"
   },
   {
    "duration": 43,
    "start_time": "2021-09-29T22:52:08.027Z"
   },
   {
    "duration": 102,
    "start_time": "2021-09-29T22:52:08.072Z"
   },
   {
    "duration": 27,
    "start_time": "2021-09-29T22:52:08.177Z"
   },
   {
    "duration": 71,
    "start_time": "2021-09-29T22:52:08.223Z"
   },
   {
    "duration": 71,
    "start_time": "2021-09-29T22:52:08.297Z"
   },
   {
    "duration": 28,
    "start_time": "2021-09-29T22:52:08.371Z"
   },
   {
    "duration": 29,
    "start_time": "2021-09-29T22:52:08.422Z"
   },
   {
    "duration": 20,
    "start_time": "2021-09-29T22:52:08.453Z"
   },
   {
    "duration": 105,
    "start_time": "2021-09-29T22:52:08.475Z"
   },
   {
    "duration": 404,
    "start_time": "2021-09-29T22:52:08.582Z"
   },
   {
    "duration": -236,
    "start_time": "2021-09-29T22:52:09.224Z"
   },
   {
    "duration": -248,
    "start_time": "2021-09-29T22:52:09.238Z"
   },
   {
    "duration": -262,
    "start_time": "2021-09-29T22:52:09.253Z"
   },
   {
    "duration": -275,
    "start_time": "2021-09-29T22:52:09.268Z"
   },
   {
    "duration": -282,
    "start_time": "2021-09-29T22:52:09.276Z"
   },
   {
    "duration": -294,
    "start_time": "2021-09-29T22:52:09.289Z"
   },
   {
    "duration": -306,
    "start_time": "2021-09-29T22:52:09.303Z"
   },
   {
    "duration": -395,
    "start_time": "2021-09-29T22:52:09.393Z"
   },
   {
    "duration": -401,
    "start_time": "2021-09-29T22:52:09.400Z"
   },
   {
    "duration": -423,
    "start_time": "2021-09-29T22:52:09.424Z"
   },
   {
    "duration": -434,
    "start_time": "2021-09-29T22:52:09.436Z"
   },
   {
    "duration": -441,
    "start_time": "2021-09-29T22:52:09.444Z"
   },
   {
    "duration": -452,
    "start_time": "2021-09-29T22:52:09.457Z"
   },
   {
    "duration": -464,
    "start_time": "2021-09-29T22:52:09.470Z"
   },
   {
    "duration": -473,
    "start_time": "2021-09-29T22:52:09.481Z"
   },
   {
    "duration": -480,
    "start_time": "2021-09-29T22:52:09.489Z"
   },
   {
    "duration": -489,
    "start_time": "2021-09-29T22:52:09.500Z"
   },
   {
    "duration": -496,
    "start_time": "2021-09-29T22:52:09.508Z"
   },
   {
    "duration": -506,
    "start_time": "2021-09-29T22:52:09.520Z"
   },
   {
    "duration": -512,
    "start_time": "2021-09-29T22:52:09.527Z"
   },
   {
    "duration": -522,
    "start_time": "2021-09-29T22:52:09.538Z"
   },
   {
    "duration": -533,
    "start_time": "2021-09-29T22:52:09.550Z"
   },
   {
    "duration": -538,
    "start_time": "2021-09-29T22:52:09.557Z"
   },
   {
    "duration": -549,
    "start_time": "2021-09-29T22:52:09.569Z"
   },
   {
    "duration": -555,
    "start_time": "2021-09-29T22:52:09.576Z"
   },
   {
    "duration": -568,
    "start_time": "2021-09-29T22:52:09.590Z"
   },
   {
    "duration": -577,
    "start_time": "2021-09-29T22:52:09.601Z"
   },
   {
    "duration": -583,
    "start_time": "2021-09-29T22:52:09.608Z"
   },
   {
    "duration": -594,
    "start_time": "2021-09-29T22:52:09.620Z"
   },
   {
    "duration": -621,
    "start_time": "2021-09-29T22:52:09.648Z"
   },
   {
    "duration": -626,
    "start_time": "2021-09-29T22:52:09.655Z"
   },
   {
    "duration": -637,
    "start_time": "2021-09-29T22:52:09.667Z"
   },
   {
    "duration": -643,
    "start_time": "2021-09-29T22:52:09.674Z"
   },
   {
    "duration": -654,
    "start_time": "2021-09-29T22:52:09.686Z"
   },
   {
    "duration": -660,
    "start_time": "2021-09-29T22:52:09.693Z"
   },
   {
    "duration": -671,
    "start_time": "2021-09-29T22:52:09.706Z"
   },
   {
    "duration": 11,
    "start_time": "2021-09-29T22:55:31.753Z"
   },
   {
    "duration": 11,
    "start_time": "2021-09-29T22:55:46.717Z"
   },
   {
    "duration": 1401,
    "start_time": "2021-09-29T22:56:31.500Z"
   },
   {
    "duration": 4,
    "start_time": "2021-09-29T22:56:32.904Z"
   },
   {
    "duration": 402,
    "start_time": "2021-09-29T22:56:32.911Z"
   },
   {
    "duration": 19,
    "start_time": "2021-09-29T22:56:33.316Z"
   },
   {
    "duration": 15,
    "start_time": "2021-09-29T22:56:33.338Z"
   },
   {
    "duration": 13,
    "start_time": "2021-09-29T22:56:33.356Z"
   },
   {
    "duration": 142,
    "start_time": "2021-09-29T22:56:33.372Z"
   },
   {
    "duration": 21,
    "start_time": "2021-09-29T22:56:33.523Z"
   },
   {
    "duration": 11,
    "start_time": "2021-09-29T22:56:33.547Z"
   },
   {
    "duration": 168,
    "start_time": "2021-09-29T22:56:33.561Z"
   },
   {
    "duration": 12,
    "start_time": "2021-09-29T22:56:33.732Z"
   },
   {
    "duration": 140,
    "start_time": "2021-09-29T22:56:33.746Z"
   },
   {
    "duration": 15,
    "start_time": "2021-09-29T22:56:33.889Z"
   },
   {
    "duration": 24,
    "start_time": "2021-09-29T22:56:33.906Z"
   },
   {
    "duration": 125,
    "start_time": "2021-09-29T22:56:33.932Z"
   },
   {
    "duration": 11,
    "start_time": "2021-09-29T22:56:34.059Z"
   },
   {
    "duration": 90,
    "start_time": "2021-09-29T22:56:34.073Z"
   },
   {
    "duration": 15,
    "start_time": "2021-09-29T22:56:34.166Z"
   },
   {
    "duration": 50,
    "start_time": "2021-09-29T22:56:34.183Z"
   },
   {
    "duration": 110,
    "start_time": "2021-09-29T22:56:34.236Z"
   },
   {
    "duration": 49,
    "start_time": "2021-09-29T22:56:34.349Z"
   },
   {
    "duration": 34,
    "start_time": "2021-09-29T22:56:34.401Z"
   },
   {
    "duration": 15,
    "start_time": "2021-09-29T22:56:34.442Z"
   },
   {
    "duration": 203,
    "start_time": "2021-09-29T22:56:34.461Z"
   },
   {
    "duration": 37,
    "start_time": "2021-09-29T22:56:34.666Z"
   },
   {
    "duration": 1027,
    "start_time": "2021-09-29T22:56:34.706Z"
   },
   {
    "duration": 12,
    "start_time": "2021-09-29T22:56:35.736Z"
   },
   {
    "duration": 15,
    "start_time": "2021-09-29T22:56:35.750Z"
   },
   {
    "duration": 54,
    "start_time": "2021-09-29T22:56:35.768Z"
   },
   {
    "duration": 243,
    "start_time": "2021-09-29T22:56:35.825Z"
   },
   {
    "duration": 12,
    "start_time": "2021-09-29T22:56:36.071Z"
   },
   {
    "duration": 21,
    "start_time": "2021-09-29T22:56:36.086Z"
   },
   {
    "duration": 17,
    "start_time": "2021-09-29T22:56:36.123Z"
   },
   {
    "duration": 239,
    "start_time": "2021-09-29T22:56:36.143Z"
   },
   {
    "duration": 239,
    "start_time": "2021-09-29T22:56:36.385Z"
   },
   {
    "duration": 12,
    "start_time": "2021-09-29T22:56:36.627Z"
   },
   {
    "duration": 17,
    "start_time": "2021-09-29T22:56:36.642Z"
   },
   {
    "duration": 23,
    "start_time": "2021-09-29T22:56:36.661Z"
   },
   {
    "duration": 270,
    "start_time": "2021-09-29T22:56:36.687Z"
   },
   {
    "duration": 15,
    "start_time": "2021-09-29T22:56:36.959Z"
   },
   {
    "duration": 48,
    "start_time": "2021-09-29T22:56:36.976Z"
   },
   {
    "duration": 15,
    "start_time": "2021-09-29T22:56:37.026Z"
   },
   {
    "duration": 18,
    "start_time": "2021-09-29T22:56:37.044Z"
   },
   {
    "duration": 39,
    "start_time": "2021-09-29T22:56:37.064Z"
   },
   {
    "duration": 34,
    "start_time": "2021-09-29T22:56:37.106Z"
   },
   {
    "duration": 35,
    "start_time": "2021-09-29T22:56:37.142Z"
   },
   {
    "duration": 9,
    "start_time": "2021-09-29T22:56:37.180Z"
   },
   {
    "duration": 53,
    "start_time": "2021-09-29T22:56:37.192Z"
   },
   {
    "duration": 17,
    "start_time": "2021-09-29T22:56:37.248Z"
   },
   {
    "duration": 33,
    "start_time": "2021-09-29T22:56:37.267Z"
   },
   {
    "duration": 25,
    "start_time": "2021-09-29T22:56:37.303Z"
   },
   {
    "duration": 23,
    "start_time": "2021-09-29T22:56:37.330Z"
   },
   {
    "duration": 23,
    "start_time": "2021-09-29T22:56:37.356Z"
   },
   {
    "duration": 21,
    "start_time": "2021-09-29T22:56:37.382Z"
   },
   {
    "duration": 9,
    "start_time": "2021-09-29T22:56:37.422Z"
   },
   {
    "duration": 26,
    "start_time": "2021-09-29T22:56:37.433Z"
   },
   {
    "duration": 96,
    "start_time": "2021-09-29T22:56:37.461Z"
   },
   {
    "duration": 8,
    "start_time": "2021-09-29T22:56:37.560Z"
   },
   {
    "duration": 75,
    "start_time": "2021-09-29T22:56:37.571Z"
   },
   {
    "duration": 230,
    "start_time": "2021-09-29T22:56:37.648Z"
   },
   {
    "duration": 75,
    "start_time": "2021-09-29T22:56:37.880Z"
   },
   {
    "duration": 10,
    "start_time": "2021-09-29T22:56:37.957Z"
   },
   {
    "duration": 19,
    "start_time": "2021-09-29T22:56:37.970Z"
   },
   {
    "duration": 120,
    "start_time": "2021-09-29T22:56:37.992Z"
   },
   {
    "duration": 107,
    "start_time": "2021-09-29T22:56:38.122Z"
   },
   {
    "duration": 28,
    "start_time": "2021-09-29T22:56:38.231Z"
   },
   {
    "duration": 46,
    "start_time": "2021-09-29T22:56:38.262Z"
   },
   {
    "duration": 27,
    "start_time": "2021-09-29T22:56:38.329Z"
   },
   {
    "duration": 63,
    "start_time": "2021-09-29T22:56:38.359Z"
   },
   {
    "duration": 45,
    "start_time": "2021-09-29T22:56:38.425Z"
   },
   {
    "duration": 5,
    "start_time": "2021-09-29T22:56:38.472Z"
   },
   {
    "duration": 51,
    "start_time": "2021-09-29T22:56:38.479Z"
   },
   {
    "duration": 21,
    "start_time": "2021-09-29T22:56:38.533Z"
   },
   {
    "duration": 35,
    "start_time": "2021-09-29T22:56:38.556Z"
   },
   {
    "duration": 40,
    "start_time": "2021-09-29T22:56:38.593Z"
   },
   {
    "duration": 28,
    "start_time": "2021-09-29T22:56:38.635Z"
   },
   {
    "duration": 32,
    "start_time": "2021-09-29T22:56:38.666Z"
   },
   {
    "duration": 35,
    "start_time": "2021-09-29T22:56:38.700Z"
   },
   {
    "duration": 36,
    "start_time": "2021-09-29T22:56:38.737Z"
   },
   {
    "duration": 98,
    "start_time": "2021-09-29T22:56:38.775Z"
   },
   {
    "duration": 418,
    "start_time": "2021-09-29T22:56:38.875Z"
   },
   {
    "duration": -857,
    "start_time": "2021-09-29T22:56:40.153Z"
   },
   {
    "duration": -862,
    "start_time": "2021-09-29T22:56:40.159Z"
   },
   {
    "duration": -876,
    "start_time": "2021-09-29T22:56:40.175Z"
   },
   {
    "duration": -978,
    "start_time": "2021-09-29T22:56:40.278Z"
   },
   {
    "duration": -987,
    "start_time": "2021-09-29T22:56:40.288Z"
   },
   {
    "duration": -992,
    "start_time": "2021-09-29T22:56:40.295Z"
   },
   {
    "duration": -1001,
    "start_time": "2021-09-29T22:56:40.305Z"
   },
   {
    "duration": -1006,
    "start_time": "2021-09-29T22:56:40.311Z"
   },
   {
    "duration": -1016,
    "start_time": "2021-09-29T22:56:40.323Z"
   },
   {
    "duration": -1036,
    "start_time": "2021-09-29T22:56:40.344Z"
   },
   {
    "duration": -1045,
    "start_time": "2021-09-29T22:56:40.355Z"
   },
   {
    "duration": -1051,
    "start_time": "2021-09-29T22:56:40.362Z"
   },
   {
    "duration": -1060,
    "start_time": "2021-09-29T22:56:40.372Z"
   },
   {
    "duration": -1065,
    "start_time": "2021-09-29T22:56:40.379Z"
   },
   {
    "duration": -1074,
    "start_time": "2021-09-29T22:56:40.389Z"
   },
   {
    "duration": -1091,
    "start_time": "2021-09-29T22:56:40.407Z"
   },
   {
    "duration": -1095,
    "start_time": "2021-09-29T22:56:40.413Z"
   },
   {
    "duration": -1158,
    "start_time": "2021-09-29T22:56:40.477Z"
   },
   {
    "duration": -1168,
    "start_time": "2021-09-29T22:56:40.488Z"
   },
   {
    "duration": -1185,
    "start_time": "2021-09-29T22:56:40.507Z"
   },
   {
    "duration": -1190,
    "start_time": "2021-09-29T22:56:40.513Z"
   },
   {
    "duration": -1200,
    "start_time": "2021-09-29T22:56:40.524Z"
   },
   {
    "duration": -1205,
    "start_time": "2021-09-29T22:56:40.530Z"
   },
   {
    "duration": -1215,
    "start_time": "2021-09-29T22:56:40.542Z"
   },
   {
    "duration": -1227,
    "start_time": "2021-09-29T22:56:40.555Z"
   },
   {
    "duration": -1232,
    "start_time": "2021-09-29T22:56:40.561Z"
   },
   {
    "duration": -1242,
    "start_time": "2021-09-29T22:56:40.573Z"
   },
   {
    "duration": -1257,
    "start_time": "2021-09-29T22:56:40.589Z"
   },
   {
    "duration": -1263,
    "start_time": "2021-09-29T22:56:40.596Z"
   },
   {
    "duration": -1274,
    "start_time": "2021-09-29T22:56:40.608Z"
   },
   {
    "duration": -1279,
    "start_time": "2021-09-29T22:56:40.615Z"
   },
   {
    "duration": -1290,
    "start_time": "2021-09-29T22:56:40.627Z"
   },
   {
    "duration": -1338,
    "start_time": "2021-09-29T22:56:40.677Z"
   },
   {
    "duration": -1348,
    "start_time": "2021-09-29T22:56:40.688Z"
   },
   {
    "duration": -1363,
    "start_time": "2021-09-29T22:56:40.704Z"
   },
   {
    "duration": -1368,
    "start_time": "2021-09-29T22:56:40.711Z"
   },
   {
    "duration": 313,
    "start_time": "2021-09-29T23:04:03.500Z"
   },
   {
    "duration": 181,
    "start_time": "2021-09-29T23:04:15.341Z"
   },
   {
    "duration": 25,
    "start_time": "2021-09-29T23:04:19.202Z"
   },
   {
    "duration": 6,
    "start_time": "2021-09-29T23:07:17.646Z"
   },
   {
    "duration": 7,
    "start_time": "2021-09-29T23:07:24.767Z"
   },
   {
    "duration": 6,
    "start_time": "2021-09-29T23:08:55.623Z"
   },
   {
    "duration": 1338,
    "start_time": "2021-09-29T23:10:55.440Z"
   },
   {
    "duration": 3,
    "start_time": "2021-09-29T23:10:56.781Z"
   },
   {
    "duration": 385,
    "start_time": "2021-09-29T23:10:56.788Z"
   },
   {
    "duration": 17,
    "start_time": "2021-09-29T23:10:57.176Z"
   },
   {
    "duration": 26,
    "start_time": "2021-09-29T23:10:57.196Z"
   },
   {
    "duration": 25,
    "start_time": "2021-09-29T23:10:57.224Z"
   },
   {
    "duration": 115,
    "start_time": "2021-09-29T23:10:57.251Z"
   },
   {
    "duration": 17,
    "start_time": "2021-09-29T23:10:57.370Z"
   },
   {
    "duration": 33,
    "start_time": "2021-09-29T23:10:57.390Z"
   },
   {
    "duration": 134,
    "start_time": "2021-09-29T23:10:57.425Z"
   },
   {
    "duration": 12,
    "start_time": "2021-09-29T23:10:57.562Z"
   },
   {
    "duration": 153,
    "start_time": "2021-09-29T23:10:57.576Z"
   },
   {
    "duration": 16,
    "start_time": "2021-09-29T23:10:57.731Z"
   },
   {
    "duration": 10,
    "start_time": "2021-09-29T23:10:57.749Z"
   },
   {
    "duration": 138,
    "start_time": "2021-09-29T23:10:57.762Z"
   },
   {
    "duration": 20,
    "start_time": "2021-09-29T23:10:57.902Z"
   },
   {
    "duration": 62,
    "start_time": "2021-09-29T23:10:57.924Z"
   },
   {
    "duration": 43,
    "start_time": "2021-09-29T23:10:57.988Z"
   },
   {
    "duration": 27,
    "start_time": "2021-09-29T23:10:58.033Z"
   },
   {
    "duration": 122,
    "start_time": "2021-09-29T23:10:58.063Z"
   },
   {
    "duration": 54,
    "start_time": "2021-09-29T23:10:58.188Z"
   },
   {
    "duration": 16,
    "start_time": "2021-09-29T23:10:58.245Z"
   },
   {
    "duration": 15,
    "start_time": "2021-09-29T23:10:58.271Z"
   },
   {
    "duration": 160,
    "start_time": "2021-09-29T23:10:58.323Z"
   },
   {
    "duration": 48,
    "start_time": "2021-09-29T23:10:58.486Z"
   },
   {
    "duration": 1011,
    "start_time": "2021-09-29T23:10:58.537Z"
   },
   {
    "duration": 12,
    "start_time": "2021-09-29T23:10:59.550Z"
   },
   {
    "duration": 16,
    "start_time": "2021-09-29T23:10:59.565Z"
   },
   {
    "duration": 49,
    "start_time": "2021-09-29T23:10:59.583Z"
   },
   {
    "duration": 237,
    "start_time": "2021-09-29T23:10:59.635Z"
   },
   {
    "duration": 12,
    "start_time": "2021-09-29T23:10:59.875Z"
   },
   {
    "duration": 10,
    "start_time": "2021-09-29T23:10:59.889Z"
   },
   {
    "duration": 16,
    "start_time": "2021-09-29T23:10:59.923Z"
   },
   {
    "duration": 246,
    "start_time": "2021-09-29T23:10:59.941Z"
   },
   {
    "duration": 230,
    "start_time": "2021-09-29T23:11:00.189Z"
   },
   {
    "duration": 11,
    "start_time": "2021-09-29T23:11:00.421Z"
   },
   {
    "duration": 19,
    "start_time": "2021-09-29T23:11:00.435Z"
   },
   {
    "duration": 22,
    "start_time": "2021-09-29T23:11:00.457Z"
   },
   {
    "duration": 281,
    "start_time": "2021-09-29T23:11:00.481Z"
   },
   {
    "duration": 16,
    "start_time": "2021-09-29T23:11:00.765Z"
   },
   {
    "duration": 48,
    "start_time": "2021-09-29T23:11:00.784Z"
   },
   {
    "duration": 17,
    "start_time": "2021-09-29T23:11:00.834Z"
   },
   {
    "duration": 15,
    "start_time": "2021-09-29T23:11:00.854Z"
   },
   {
    "duration": 58,
    "start_time": "2021-09-29T23:11:00.872Z"
   },
   {
    "duration": 23,
    "start_time": "2021-09-29T23:11:00.932Z"
   },
   {
    "duration": 17,
    "start_time": "2021-09-29T23:11:00.958Z"
   },
   {
    "duration": 46,
    "start_time": "2021-09-29T23:11:00.978Z"
   },
   {
    "duration": 11,
    "start_time": "2021-09-29T23:11:01.026Z"
   },
   {
    "duration": 27,
    "start_time": "2021-09-29T23:11:01.040Z"
   },
   {
    "duration": 46,
    "start_time": "2021-09-29T23:11:01.070Z"
   },
   {
    "duration": 20,
    "start_time": "2021-09-29T23:11:01.122Z"
   },
   {
    "duration": 23,
    "start_time": "2021-09-29T23:11:01.144Z"
   },
   {
    "duration": 26,
    "start_time": "2021-09-29T23:11:01.170Z"
   },
   {
    "duration": 32,
    "start_time": "2021-09-29T23:11:01.199Z"
   },
   {
    "duration": 34,
    "start_time": "2021-09-29T23:11:01.233Z"
   },
   {
    "duration": 34,
    "start_time": "2021-09-29T23:11:01.270Z"
   },
   {
    "duration": 121,
    "start_time": "2021-09-29T23:11:01.306Z"
   },
   {
    "duration": 9,
    "start_time": "2021-09-29T23:11:01.429Z"
   },
   {
    "duration": 76,
    "start_time": "2021-09-29T23:11:01.441Z"
   },
   {
    "duration": 217,
    "start_time": "2021-09-29T23:11:01.523Z"
   },
   {
    "duration": 83,
    "start_time": "2021-09-29T23:11:01.742Z"
   },
   {
    "duration": 11,
    "start_time": "2021-09-29T23:11:01.827Z"
   },
   {
    "duration": 41,
    "start_time": "2021-09-29T23:11:01.841Z"
   },
   {
    "duration": 119,
    "start_time": "2021-09-29T23:11:01.884Z"
   },
   {
    "duration": 118,
    "start_time": "2021-09-29T23:11:02.006Z"
   },
   {
    "duration": 31,
    "start_time": "2021-09-29T23:11:02.126Z"
   },
   {
    "duration": 59,
    "start_time": "2021-09-29T23:11:02.160Z"
   },
   {
    "duration": 28,
    "start_time": "2021-09-29T23:11:02.228Z"
   },
   {
    "duration": 60,
    "start_time": "2021-09-29T23:11:02.259Z"
   },
   {
    "duration": 45,
    "start_time": "2021-09-29T23:11:02.323Z"
   },
   {
    "duration": 20,
    "start_time": "2021-09-29T23:11:02.371Z"
   },
   {
    "duration": 44,
    "start_time": "2021-09-29T23:11:02.394Z"
   },
   {
    "duration": 14,
    "start_time": "2021-09-29T23:11:02.441Z"
   },
   {
    "duration": 11,
    "start_time": "2021-09-29T23:11:02.458Z"
   },
   {
    "duration": 13,
    "start_time": "2021-09-29T23:11:02.472Z"
   },
   {
    "duration": 422,
    "start_time": "2021-09-29T23:11:02.487Z"
   },
   {
    "duration": -1611,
    "start_time": "2021-09-29T23:11:04.523Z"
   },
   {
    "duration": -1619,
    "start_time": "2021-09-29T23:11:04.532Z"
   },
   {
    "duration": -1626,
    "start_time": "2021-09-29T23:11:04.540Z"
   },
   {
    "duration": -1888,
    "start_time": "2021-09-29T23:11:04.804Z"
   },
   {
    "duration": -1897,
    "start_time": "2021-09-29T23:11:04.814Z"
   },
   {
    "duration": -1911,
    "start_time": "2021-09-29T23:11:04.829Z"
   },
   {
    "duration": -1924,
    "start_time": "2021-09-29T23:11:04.844Z"
   },
   {
    "duration": -1937,
    "start_time": "2021-09-29T23:11:04.858Z"
   },
   {
    "duration": -1949,
    "start_time": "2021-09-29T23:11:04.871Z"
   },
   {
    "duration": -1956,
    "start_time": "2021-09-29T23:11:04.880Z"
   },
   {
    "duration": -1969,
    "start_time": "2021-09-29T23:11:04.895Z"
   },
   {
    "duration": -1981,
    "start_time": "2021-09-29T23:11:04.908Z"
   },
   {
    "duration": -1994,
    "start_time": "2021-09-29T23:11:04.922Z"
   },
   {
    "duration": -2000,
    "start_time": "2021-09-29T23:11:04.930Z"
   },
   {
    "duration": -2014,
    "start_time": "2021-09-29T23:11:04.945Z"
   },
   {
    "duration": -2026,
    "start_time": "2021-09-29T23:11:04.958Z"
   },
   {
    "duration": -2030,
    "start_time": "2021-09-29T23:11:04.964Z"
   },
   {
    "duration": -2044,
    "start_time": "2021-09-29T23:11:04.979Z"
   },
   {
    "duration": -2058,
    "start_time": "2021-09-29T23:11:04.994Z"
   },
   {
    "duration": -2070,
    "start_time": "2021-09-29T23:11:05.007Z"
   },
   {
    "duration": -2077,
    "start_time": "2021-09-29T23:11:05.016Z"
   },
   {
    "duration": -2089,
    "start_time": "2021-09-29T23:11:05.029Z"
   },
   {
    "duration": -2117,
    "start_time": "2021-09-29T23:11:05.058Z"
   },
   {
    "duration": -2129,
    "start_time": "2021-09-29T23:11:05.071Z"
   },
   {
    "duration": -2137,
    "start_time": "2021-09-29T23:11:05.081Z"
   },
   {
    "duration": -2150,
    "start_time": "2021-09-29T23:11:05.095Z"
   },
   {
    "duration": -2163,
    "start_time": "2021-09-29T23:11:05.109Z"
   },
   {
    "duration": -2177,
    "start_time": "2021-09-29T23:11:05.124Z"
   },
   {
    "duration": -2184,
    "start_time": "2021-09-29T23:11:05.132Z"
   },
   {
    "duration": -2194,
    "start_time": "2021-09-29T23:11:05.144Z"
   },
   {
    "duration": -2205,
    "start_time": "2021-09-29T23:11:05.156Z"
   },
   {
    "duration": -2212,
    "start_time": "2021-09-29T23:11:05.164Z"
   },
   {
    "duration": -2719,
    "start_time": "2021-09-29T23:11:05.672Z"
   },
   {
    "duration": -2732,
    "start_time": "2021-09-29T23:11:05.686Z"
   },
   {
    "duration": -2737,
    "start_time": "2021-09-29T23:11:05.693Z"
   },
   {
    "duration": -2742,
    "start_time": "2021-09-29T23:11:05.699Z"
   },
   {
    "duration": -2753,
    "start_time": "2021-09-29T23:11:05.711Z"
   },
   {
    "duration": -2766,
    "start_time": "2021-09-29T23:11:05.725Z"
   },
   {
    "duration": -2774,
    "start_time": "2021-09-29T23:11:05.735Z"
   },
   {
    "duration": -2786,
    "start_time": "2021-09-29T23:11:05.748Z"
   },
   {
    "duration": 5,
    "start_time": "2021-09-29T23:13:52.862Z"
   },
   {
    "duration": 7,
    "start_time": "2021-09-29T23:14:02.504Z"
   },
   {
    "duration": 7,
    "start_time": "2021-09-29T23:16:47.757Z"
   },
   {
    "duration": 372,
    "start_time": "2021-09-29T23:21:14.634Z"
   },
   {
    "duration": 296,
    "start_time": "2021-09-29T23:21:52.740Z"
   },
   {
    "duration": 306,
    "start_time": "2021-09-29T23:22:06.965Z"
   },
   {
    "duration": 273,
    "start_time": "2021-09-29T23:22:57.186Z"
   },
   {
    "duration": 260,
    "start_time": "2021-09-29T23:23:08.795Z"
   },
   {
    "duration": 377,
    "start_time": "2021-09-29T23:23:56.268Z"
   },
   {
    "duration": 349,
    "start_time": "2021-09-29T23:26:59.483Z"
   },
   {
    "duration": 288,
    "start_time": "2021-09-29T23:27:10.472Z"
   },
   {
    "duration": 329,
    "start_time": "2021-09-29T23:27:39.829Z"
   },
   {
    "duration": 325,
    "start_time": "2021-09-29T23:28:30.645Z"
   },
   {
    "duration": 315,
    "start_time": "2021-09-29T23:28:52.025Z"
   },
   {
    "duration": 283,
    "start_time": "2021-09-29T23:32:54.906Z"
   },
   {
    "duration": 306,
    "start_time": "2021-09-29T23:33:14.125Z"
   },
   {
    "duration": 304,
    "start_time": "2021-09-29T23:33:19.785Z"
   },
   {
    "duration": 292,
    "start_time": "2021-09-29T23:33:26.245Z"
   },
   {
    "duration": 289,
    "start_time": "2021-09-29T23:33:38.217Z"
   },
   {
    "duration": 313,
    "start_time": "2021-09-29T23:33:52.036Z"
   },
   {
    "duration": 415,
    "start_time": "2021-09-29T23:35:16.742Z"
   },
   {
    "duration": 312,
    "start_time": "2021-09-29T23:35:31.717Z"
   },
   {
    "duration": 15,
    "start_time": "2021-09-29T23:38:28.211Z"
   },
   {
    "duration": 106,
    "start_time": "2021-09-29T23:40:10.549Z"
   },
   {
    "duration": 4,
    "start_time": "2021-09-29T23:40:20.260Z"
   },
   {
    "duration": 5,
    "start_time": "2021-09-29T23:40:46.876Z"
   },
   {
    "duration": 4,
    "start_time": "2021-09-29T23:41:00.208Z"
   },
   {
    "duration": 10,
    "start_time": "2021-09-29T23:41:51.984Z"
   },
   {
    "duration": 340,
    "start_time": "2021-09-29T23:44:37.378Z"
   },
   {
    "duration": 596,
    "start_time": "2021-09-29T23:49:34.656Z"
   },
   {
    "duration": 323,
    "start_time": "2021-09-29T23:49:48.469Z"
   },
   {
    "duration": 378,
    "start_time": "2021-09-29T23:50:02.676Z"
   },
   {
    "duration": 316,
    "start_time": "2021-09-29T23:50:21.794Z"
   },
   {
    "duration": 512,
    "start_time": "2021-09-30T00:24:12.718Z"
   },
   {
    "duration": 317,
    "start_time": "2021-09-30T00:24:26.164Z"
   },
   {
    "duration": 314,
    "start_time": "2021-09-30T00:27:02.479Z"
   },
   {
    "duration": 293,
    "start_time": "2021-09-30T00:27:11.840Z"
   },
   {
    "duration": 375,
    "start_time": "2021-09-30T00:27:28.206Z"
   },
   {
    "duration": 287,
    "start_time": "2021-09-30T00:27:42.194Z"
   },
   {
    "duration": 563,
    "start_time": "2021-09-30T00:28:35.318Z"
   },
   {
    "duration": 345,
    "start_time": "2021-09-30T00:29:01.451Z"
   },
   {
    "duration": 442,
    "start_time": "2021-09-30T00:30:02.132Z"
   },
   {
    "duration": 337,
    "start_time": "2021-09-30T00:31:25.332Z"
   },
   {
    "duration": 341,
    "start_time": "2021-09-30T00:32:44.030Z"
   },
   {
    "duration": 10,
    "start_time": "2021-09-30T00:36:33.732Z"
   },
   {
    "duration": 374,
    "start_time": "2021-09-30T00:38:57.388Z"
   },
   {
    "duration": 450,
    "start_time": "2021-09-30T00:39:30.319Z"
   },
   {
    "duration": 423,
    "start_time": "2021-09-30T00:39:39.608Z"
   },
   {
    "duration": 384,
    "start_time": "2021-09-30T00:40:13.724Z"
   },
   {
    "duration": 317,
    "start_time": "2021-09-30T00:40:37.385Z"
   },
   {
    "duration": 304,
    "start_time": "2021-09-30T00:40:52.882Z"
   },
   {
    "duration": 539,
    "start_time": "2021-09-30T00:41:13.984Z"
   },
   {
    "duration": 402,
    "start_time": "2021-09-30T00:41:32.243Z"
   },
   {
    "duration": 8,
    "start_time": "2021-09-30T00:54:40.082Z"
   },
   {
    "duration": 9,
    "start_time": "2021-09-30T00:54:51.058Z"
   },
   {
    "duration": 10,
    "start_time": "2021-09-30T00:55:04.861Z"
   },
   {
    "duration": 345,
    "start_time": "2021-09-30T01:02:10.896Z"
   },
   {
    "duration": 419,
    "start_time": "2021-09-30T01:02:24.594Z"
   },
   {
    "duration": 9,
    "start_time": "2021-09-30T01:05:00.316Z"
   },
   {
    "duration": 406,
    "start_time": "2021-09-30T01:05:19.500Z"
   },
   {
    "duration": 10,
    "start_time": "2021-09-30T01:05:50.697Z"
   },
   {
    "duration": 9,
    "start_time": "2021-09-30T01:06:03.178Z"
   },
   {
    "duration": 413,
    "start_time": "2021-09-30T01:09:13.924Z"
   },
   {
    "duration": 313,
    "start_time": "2021-09-30T01:13:58.245Z"
   },
   {
    "duration": 357,
    "start_time": "2021-09-30T01:14:20.721Z"
   },
   {
    "duration": 712,
    "start_time": "2021-09-30T01:17:00.290Z"
   },
   {
    "duration": 7,
    "start_time": "2021-09-30T01:20:01.664Z"
   },
   {
    "duration": 7,
    "start_time": "2021-09-30T01:20:15.664Z"
   },
   {
    "duration": 8,
    "start_time": "2021-09-30T01:20:35.592Z"
   },
   {
    "duration": 6,
    "start_time": "2021-09-30T01:20:41.989Z"
   },
   {
    "duration": 7,
    "start_time": "2021-09-30T01:23:55.025Z"
   },
   {
    "duration": 183,
    "start_time": "2021-09-30T01:26:15.458Z"
   },
   {
    "duration": 291,
    "start_time": "2021-09-30T01:26:19.543Z"
   },
   {
    "duration": 320,
    "start_time": "2021-09-30T01:26:57.294Z"
   },
   {
    "duration": 25,
    "start_time": "2021-09-30T01:27:10.610Z"
   },
   {
    "duration": 11,
    "start_time": "2021-09-30T01:31:56.404Z"
   },
   {
    "duration": 6,
    "start_time": "2021-09-30T01:32:11.458Z"
   },
   {
    "duration": 11,
    "start_time": "2021-09-30T01:33:54.547Z"
   },
   {
    "duration": 5,
    "start_time": "2021-09-30T01:33:57.018Z"
   },
   {
    "duration": 431,
    "start_time": "2021-09-30T01:38:43.967Z"
   },
   {
    "duration": 318,
    "start_time": "2021-09-30T01:39:06.520Z"
   },
   {
    "duration": 24,
    "start_time": "2021-09-30T01:39:49.193Z"
   },
   {
    "duration": 30,
    "start_time": "2021-09-30T01:45:50.867Z"
   },
   {
    "duration": 34,
    "start_time": "2021-09-30T01:46:59.398Z"
   },
   {
    "duration": 1412,
    "start_time": "2021-09-30T01:52:42.540Z"
   },
   {
    "duration": 4,
    "start_time": "2021-09-30T01:52:43.954Z"
   },
   {
    "duration": 377,
    "start_time": "2021-09-30T01:52:43.961Z"
   },
   {
    "duration": 18,
    "start_time": "2021-09-30T01:52:44.341Z"
   },
   {
    "duration": 25,
    "start_time": "2021-09-30T01:52:44.361Z"
   },
   {
    "duration": 19,
    "start_time": "2021-09-30T01:52:44.388Z"
   },
   {
    "duration": 116,
    "start_time": "2021-09-30T01:52:44.409Z"
   },
   {
    "duration": 18,
    "start_time": "2021-09-30T01:52:44.529Z"
   },
   {
    "duration": 11,
    "start_time": "2021-09-30T01:52:44.550Z"
   },
   {
    "duration": 169,
    "start_time": "2021-09-30T01:52:44.563Z"
   },
   {
    "duration": 12,
    "start_time": "2021-09-30T01:52:44.734Z"
   },
   {
    "duration": 146,
    "start_time": "2021-09-30T01:52:44.748Z"
   },
   {
    "duration": 27,
    "start_time": "2021-09-30T01:52:44.896Z"
   },
   {
    "duration": 10,
    "start_time": "2021-09-30T01:52:44.926Z"
   },
   {
    "duration": 118,
    "start_time": "2021-09-30T01:52:44.939Z"
   },
   {
    "duration": 11,
    "start_time": "2021-09-30T01:52:45.059Z"
   },
   {
    "duration": 87,
    "start_time": "2021-09-30T01:52:45.072Z"
   },
   {
    "duration": 15,
    "start_time": "2021-09-30T01:52:45.161Z"
   },
   {
    "duration": 48,
    "start_time": "2021-09-30T01:52:45.178Z"
   },
   {
    "duration": 105,
    "start_time": "2021-09-30T01:52:45.228Z"
   },
   {
    "duration": 46,
    "start_time": "2021-09-30T01:52:45.335Z"
   },
   {
    "duration": 40,
    "start_time": "2021-09-30T01:52:45.383Z"
   },
   {
    "duration": 14,
    "start_time": "2021-09-30T01:52:45.430Z"
   },
   {
    "duration": 165,
    "start_time": "2021-09-30T01:52:45.448Z"
   },
   {
    "duration": 42,
    "start_time": "2021-09-30T01:52:45.616Z"
   },
   {
    "duration": 1022,
    "start_time": "2021-09-30T01:52:45.660Z"
   },
   {
    "duration": 12,
    "start_time": "2021-09-30T01:52:46.685Z"
   },
   {
    "duration": 33,
    "start_time": "2021-09-30T01:52:46.699Z"
   },
   {
    "duration": 21,
    "start_time": "2021-09-30T01:52:46.735Z"
   },
   {
    "duration": 237,
    "start_time": "2021-09-30T01:52:46.758Z"
   },
   {
    "duration": 25,
    "start_time": "2021-09-30T01:52:46.998Z"
   },
   {
    "duration": 10,
    "start_time": "2021-09-30T01:52:47.026Z"
   },
   {
    "duration": 24,
    "start_time": "2021-09-30T01:52:47.038Z"
   },
   {
    "duration": 242,
    "start_time": "2021-09-30T01:52:47.064Z"
   },
   {
    "duration": 222,
    "start_time": "2021-09-30T01:52:47.309Z"
   },
   {
    "duration": 11,
    "start_time": "2021-09-30T01:52:47.533Z"
   },
   {
    "duration": 19,
    "start_time": "2021-09-30T01:52:47.547Z"
   },
   {
    "duration": 19,
    "start_time": "2021-09-30T01:52:47.568Z"
   },
   {
    "duration": 266,
    "start_time": "2021-09-30T01:52:47.589Z"
   },
   {
    "duration": 16,
    "start_time": "2021-09-30T01:52:47.858Z"
   },
   {
    "duration": 53,
    "start_time": "2021-09-30T01:52:47.877Z"
   },
   {
    "duration": 25,
    "start_time": "2021-09-30T01:52:47.933Z"
   },
   {
    "duration": 10,
    "start_time": "2021-09-30T01:52:47.961Z"
   },
   {
    "duration": 51,
    "start_time": "2021-09-30T01:52:47.974Z"
   },
   {
    "duration": 24,
    "start_time": "2021-09-30T01:52:48.028Z"
   },
   {
    "duration": 26,
    "start_time": "2021-09-30T01:52:48.055Z"
   },
   {
    "duration": 44,
    "start_time": "2021-09-30T01:52:48.085Z"
   },
   {
    "duration": 25,
    "start_time": "2021-09-30T01:52:48.132Z"
   },
   {
    "duration": 16,
    "start_time": "2021-09-30T01:52:48.160Z"
   },
   {
    "duration": 49,
    "start_time": "2021-09-30T01:52:48.178Z"
   },
   {
    "duration": 18,
    "start_time": "2021-09-30T01:52:48.230Z"
   },
   {
    "duration": 21,
    "start_time": "2021-09-30T01:52:48.250Z"
   },
   {
    "duration": 48,
    "start_time": "2021-09-30T01:52:48.274Z"
   },
   {
    "duration": 12,
    "start_time": "2021-09-30T01:52:48.324Z"
   },
   {
    "duration": 21,
    "start_time": "2021-09-30T01:52:48.338Z"
   },
   {
    "duration": 30,
    "start_time": "2021-09-30T01:52:48.361Z"
   },
   {
    "duration": 84,
    "start_time": "2021-09-30T01:52:48.393Z"
   },
   {
    "duration": 8,
    "start_time": "2021-09-30T01:52:48.479Z"
   },
   {
    "duration": 75,
    "start_time": "2021-09-30T01:52:48.489Z"
   },
   {
    "duration": 212,
    "start_time": "2021-09-30T01:52:48.566Z"
   },
   {
    "duration": 80,
    "start_time": "2021-09-30T01:52:48.780Z"
   },
   {
    "duration": 10,
    "start_time": "2021-09-30T01:52:48.863Z"
   },
   {
    "duration": 30,
    "start_time": "2021-09-30T01:52:48.875Z"
   },
   {
    "duration": 102,
    "start_time": "2021-09-30T01:52:48.907Z"
   },
   {
    "duration": 106,
    "start_time": "2021-09-30T01:52:49.022Z"
   },
   {
    "duration": 28,
    "start_time": "2021-09-30T01:52:49.130Z"
   },
   {
    "duration": 44,
    "start_time": "2021-09-30T01:52:49.160Z"
   },
   {
    "duration": 27,
    "start_time": "2021-09-30T01:52:49.226Z"
   },
   {
    "duration": 35,
    "start_time": "2021-09-30T01:52:49.256Z"
   },
   {
    "duration": 71,
    "start_time": "2021-09-30T01:52:49.294Z"
   },
   {
    "duration": 19,
    "start_time": "2021-09-30T01:52:49.367Z"
   },
   {
    "duration": 34,
    "start_time": "2021-09-30T01:52:49.388Z"
   },
   {
    "duration": 340,
    "start_time": "2021-09-30T01:52:49.424Z"
   },
   {
    "duration": 11,
    "start_time": "2021-09-30T01:52:49.767Z"
   },
   {
    "duration": 507,
    "start_time": "2021-09-30T01:52:49.780Z"
   },
   {
    "duration": 10,
    "start_time": "2021-09-30T01:52:50.289Z"
   },
   {
    "duration": 364,
    "start_time": "2021-09-30T01:52:50.301Z"
   },
   {
    "duration": 32,
    "start_time": "2021-09-30T01:52:50.667Z"
   },
   {
    "duration": 209,
    "start_time": "2021-09-30T01:52:50.702Z"
   },
   {
    "duration": 28,
    "start_time": "2021-09-30T01:52:50.914Z"
   },
   {
    "duration": 400,
    "start_time": "2021-09-30T01:52:50.945Z"
   },
   {
    "duration": -98,
    "start_time": "2021-09-30T01:52:51.446Z"
   },
   {
    "duration": -112,
    "start_time": "2021-09-30T01:52:51.461Z"
   },
   {
    "duration": -123,
    "start_time": "2021-09-30T01:52:51.474Z"
   },
   {
    "duration": -128,
    "start_time": "2021-09-30T01:52:51.480Z"
   },
   {
    "duration": -140,
    "start_time": "2021-09-30T01:52:51.493Z"
   },
   {
    "duration": -153,
    "start_time": "2021-09-30T01:52:51.507Z"
   },
   {
    "duration": -157,
    "start_time": "2021-09-30T01:52:51.513Z"
   },
   {
    "duration": -169,
    "start_time": "2021-09-30T01:52:51.526Z"
   },
   {
    "duration": -247,
    "start_time": "2021-09-30T01:52:51.605Z"
   },
   {
    "duration": -251,
    "start_time": "2021-09-30T01:52:51.611Z"
   },
   {
    "duration": -262,
    "start_time": "2021-09-30T01:52:51.623Z"
   },
   {
    "duration": -269,
    "start_time": "2021-09-30T01:52:51.631Z"
   },
   {
    "duration": -282,
    "start_time": "2021-09-30T01:52:51.646Z"
   },
   {
    "duration": -294,
    "start_time": "2021-09-30T01:52:51.659Z"
   },
   {
    "duration": -306,
    "start_time": "2021-09-30T01:52:51.672Z"
   },
   {
    "duration": -311,
    "start_time": "2021-09-30T01:52:51.678Z"
   },
   {
    "duration": -337,
    "start_time": "2021-09-30T01:52:51.706Z"
   },
   {
    "duration": -342,
    "start_time": "2021-09-30T01:52:51.712Z"
   },
   {
    "duration": -353,
    "start_time": "2021-09-30T01:52:51.724Z"
   },
   {
    "duration": -357,
    "start_time": "2021-09-30T01:52:51.730Z"
   },
   {
    "duration": -368,
    "start_time": "2021-09-30T01:52:51.742Z"
   },
   {
    "duration": -374,
    "start_time": "2021-09-30T01:52:51.749Z"
   },
   {
    "duration": -384,
    "start_time": "2021-09-30T01:52:51.760Z"
   },
   {
    "duration": -393,
    "start_time": "2021-09-30T01:52:51.771Z"
   },
   {
    "duration": -399,
    "start_time": "2021-09-30T01:52:51.778Z"
   },
   {
    "duration": -409,
    "start_time": "2021-09-30T01:52:51.789Z"
   },
   {
    "duration": -413,
    "start_time": "2021-09-30T01:52:51.795Z"
   },
   {
    "duration": -423,
    "start_time": "2021-09-30T01:52:51.806Z"
   },
   {
    "duration": -428,
    "start_time": "2021-09-30T01:52:51.812Z"
   },
   {
    "duration": -438,
    "start_time": "2021-09-30T01:52:51.823Z"
   },
   {
    "duration": -408,
    "start_time": "2021-09-30T01:52:51.830Z"
   },
   {
    "duration": -417,
    "start_time": "2021-09-30T01:52:51.840Z"
   },
   {
    "duration": -422,
    "start_time": "2021-09-30T01:52:51.847Z"
   },
   {
    "duration": -431,
    "start_time": "2021-09-30T01:52:51.857Z"
   },
   {
    "duration": -437,
    "start_time": "2021-09-30T01:52:51.864Z"
   },
   {
    "duration": -445,
    "start_time": "2021-09-30T01:52:51.874Z"
   },
   {
    "duration": -451,
    "start_time": "2021-09-30T01:52:51.881Z"
   },
   {
    "duration": -461,
    "start_time": "2021-09-30T01:52:51.892Z"
   },
   {
    "duration": -467,
    "start_time": "2021-09-30T01:52:51.900Z"
   },
   {
    "duration": 6,
    "start_time": "2021-09-30T01:54:12.531Z"
   },
   {
    "duration": 8,
    "start_time": "2021-09-30T01:54:22.732Z"
   },
   {
    "duration": 26,
    "start_time": "2021-09-30T01:55:32.879Z"
   },
   {
    "duration": 307,
    "start_time": "2021-09-30T01:57:53.809Z"
   },
   {
    "duration": 4,
    "start_time": "2021-09-30T01:58:18.342Z"
   },
   {
    "duration": 315,
    "start_time": "2021-09-30T01:58:27.437Z"
   },
   {
    "duration": 388,
    "start_time": "2021-09-30T01:59:00.700Z"
   },
   {
    "duration": 24,
    "start_time": "2021-09-30T01:59:07.653Z"
   },
   {
    "duration": 24,
    "start_time": "2021-09-30T01:59:32.163Z"
   },
   {
    "duration": 23,
    "start_time": "2021-09-30T01:59:37.754Z"
   },
   {
    "duration": 25,
    "start_time": "2021-09-30T02:36:35.842Z"
   },
   {
    "duration": 24,
    "start_time": "2021-09-30T02:48:54.123Z"
   },
   {
    "duration": 22,
    "start_time": "2021-09-30T02:49:02.500Z"
   },
   {
    "duration": 23,
    "start_time": "2021-09-30T02:50:36.950Z"
   },
   {
    "duration": 1325,
    "start_time": "2021-09-30T02:55:56.158Z"
   },
   {
    "duration": 3,
    "start_time": "2021-09-30T02:55:57.485Z"
   },
   {
    "duration": 393,
    "start_time": "2021-09-30T02:55:57.491Z"
   },
   {
    "duration": 17,
    "start_time": "2021-09-30T02:55:57.887Z"
   },
   {
    "duration": 20,
    "start_time": "2021-09-30T02:55:57.906Z"
   },
   {
    "duration": 22,
    "start_time": "2021-09-30T02:55:57.928Z"
   },
   {
    "duration": 117,
    "start_time": "2021-09-30T02:55:57.952Z"
   },
   {
    "duration": 19,
    "start_time": "2021-09-30T02:55:58.073Z"
   },
   {
    "duration": 31,
    "start_time": "2021-09-30T02:55:58.095Z"
   },
   {
    "duration": 142,
    "start_time": "2021-09-30T02:55:58.129Z"
   },
   {
    "duration": 12,
    "start_time": "2021-09-30T02:55:58.273Z"
   },
   {
    "duration": 152,
    "start_time": "2021-09-30T02:55:58.287Z"
   },
   {
    "duration": 16,
    "start_time": "2021-09-30T02:55:58.441Z"
   },
   {
    "duration": 11,
    "start_time": "2021-09-30T02:55:58.459Z"
   },
   {
    "duration": 129,
    "start_time": "2021-09-30T02:55:58.472Z"
   },
   {
    "duration": 21,
    "start_time": "2021-09-30T02:55:58.603Z"
   },
   {
    "duration": 56,
    "start_time": "2021-09-30T02:55:58.626Z"
   },
   {
    "duration": 47,
    "start_time": "2021-09-30T02:55:58.684Z"
   },
   {
    "duration": 35,
    "start_time": "2021-09-30T02:55:58.733Z"
   },
   {
    "duration": 111,
    "start_time": "2021-09-30T02:55:58.771Z"
   },
   {
    "duration": 56,
    "start_time": "2021-09-30T02:55:58.884Z"
   },
   {
    "duration": 19,
    "start_time": "2021-09-30T02:55:58.942Z"
   },
   {
    "duration": 14,
    "start_time": "2021-09-30T02:55:58.970Z"
   },
   {
    "duration": 194,
    "start_time": "2021-09-30T02:55:58.988Z"
   },
   {
    "duration": 49,
    "start_time": "2021-09-30T02:55:59.184Z"
   },
   {
    "duration": 1141,
    "start_time": "2021-09-30T02:55:59.235Z"
   },
   {
    "duration": 11,
    "start_time": "2021-09-30T02:56:00.379Z"
   },
   {
    "duration": 39,
    "start_time": "2021-09-30T02:56:00.393Z"
   },
   {
    "duration": 22,
    "start_time": "2021-09-30T02:56:00.434Z"
   },
   {
    "duration": 254,
    "start_time": "2021-09-30T02:56:00.458Z"
   },
   {
    "duration": 19,
    "start_time": "2021-09-30T02:56:00.715Z"
   },
   {
    "duration": 14,
    "start_time": "2021-09-30T02:56:00.737Z"
   },
   {
    "duration": 32,
    "start_time": "2021-09-30T02:56:00.754Z"
   },
   {
    "duration": 249,
    "start_time": "2021-09-30T02:56:00.788Z"
   },
   {
    "duration": 228,
    "start_time": "2021-09-30T02:56:01.039Z"
   },
   {
    "duration": 12,
    "start_time": "2021-09-30T02:56:01.269Z"
   },
   {
    "duration": 25,
    "start_time": "2021-09-30T02:56:01.283Z"
   },
   {
    "duration": 43,
    "start_time": "2021-09-30T02:56:01.311Z"
   },
   {
    "duration": 258,
    "start_time": "2021-09-30T02:56:01.356Z"
   },
   {
    "duration": 18,
    "start_time": "2021-09-30T02:56:01.617Z"
   },
   {
    "duration": 50,
    "start_time": "2021-09-30T02:56:01.638Z"
   },
   {
    "duration": 15,
    "start_time": "2021-09-30T02:56:01.690Z"
   },
   {
    "duration": 5,
    "start_time": "2021-09-30T02:56:01.722Z"
   },
   {
    "duration": 34,
    "start_time": "2021-09-30T02:56:01.730Z"
   },
   {
    "duration": 38,
    "start_time": "2021-09-30T02:56:01.767Z"
   },
   {
    "duration": 57,
    "start_time": "2021-09-30T02:56:01.808Z"
   },
   {
    "duration": 22,
    "start_time": "2021-09-30T02:56:01.868Z"
   },
   {
    "duration": 26,
    "start_time": "2021-09-30T02:56:01.893Z"
   },
   {
    "duration": 37,
    "start_time": "2021-09-30T02:56:01.922Z"
   },
   {
    "duration": 32,
    "start_time": "2021-09-30T02:56:01.962Z"
   },
   {
    "duration": 49,
    "start_time": "2021-09-30T02:56:01.998Z"
   },
   {
    "duration": 35,
    "start_time": "2021-09-30T02:56:02.050Z"
   },
   {
    "duration": 41,
    "start_time": "2021-09-30T02:56:02.087Z"
   },
   {
    "duration": 18,
    "start_time": "2021-09-30T02:56:02.131Z"
   },
   {
    "duration": 18,
    "start_time": "2021-09-30T02:56:02.151Z"
   },
   {
    "duration": 15,
    "start_time": "2021-09-30T02:56:02.172Z"
   },
   {
    "duration": 107,
    "start_time": "2021-09-30T02:56:02.189Z"
   },
   {
    "duration": 25,
    "start_time": "2021-09-30T02:56:02.299Z"
   },
   {
    "duration": 54,
    "start_time": "2021-09-30T02:56:02.327Z"
   },
   {
    "duration": 229,
    "start_time": "2021-09-30T02:56:02.383Z"
   },
   {
    "duration": 64,
    "start_time": "2021-09-30T02:56:02.622Z"
   },
   {
    "duration": 11,
    "start_time": "2021-09-30T02:56:02.689Z"
   },
   {
    "duration": 11,
    "start_time": "2021-09-30T02:56:02.723Z"
   },
   {
    "duration": 130,
    "start_time": "2021-09-30T02:56:02.736Z"
   },
   {
    "duration": 118,
    "start_time": "2021-09-30T02:56:02.869Z"
   },
   {
    "duration": 38,
    "start_time": "2021-09-30T02:56:02.989Z"
   },
   {
    "duration": 49,
    "start_time": "2021-09-30T02:56:03.030Z"
   },
   {
    "duration": 39,
    "start_time": "2021-09-30T02:56:03.088Z"
   },
   {
    "duration": 38,
    "start_time": "2021-09-30T02:56:03.131Z"
   },
   {
    "duration": 70,
    "start_time": "2021-09-30T02:56:03.172Z"
   },
   {
    "duration": 20,
    "start_time": "2021-09-30T02:56:03.244Z"
   },
   {
    "duration": 21,
    "start_time": "2021-09-30T02:56:03.266Z"
   },
   {
    "duration": 363,
    "start_time": "2021-09-30T02:56:03.289Z"
   },
   {
    "duration": 10,
    "start_time": "2021-09-30T02:56:03.656Z"
   },
   {
    "duration": 507,
    "start_time": "2021-09-30T02:56:03.669Z"
   },
   {
    "duration": 11,
    "start_time": "2021-09-30T02:56:04.179Z"
   },
   {
    "duration": 369,
    "start_time": "2021-09-30T02:56:04.192Z"
   },
   {
    "duration": 33,
    "start_time": "2021-09-30T02:56:04.564Z"
   },
   {
    "duration": 204,
    "start_time": "2021-09-30T02:56:04.599Z"
   },
   {
    "duration": 32,
    "start_time": "2021-09-30T02:56:04.805Z"
   },
   {
    "duration": 23,
    "start_time": "2021-09-30T02:56:04.839Z"
   },
   {
    "duration": 24,
    "start_time": "2021-09-30T02:56:04.864Z"
   },
   {
    "duration": 47,
    "start_time": "2021-09-30T02:56:04.891Z"
   },
   {
    "duration": 37,
    "start_time": "2021-09-30T02:56:04.940Z"
   },
   {
    "duration": 428,
    "start_time": "2021-09-30T02:56:04.980Z"
   },
   {
    "duration": -161,
    "start_time": "2021-09-30T02:56:05.571Z"
   },
   {
    "duration": -175,
    "start_time": "2021-09-30T02:56:05.586Z"
   },
   {
    "duration": -185,
    "start_time": "2021-09-30T02:56:05.598Z"
   },
   {
    "duration": -193,
    "start_time": "2021-09-30T02:56:05.607Z"
   },
   {
    "duration": -205,
    "start_time": "2021-09-30T02:56:05.620Z"
   },
   {
    "duration": -216,
    "start_time": "2021-09-30T02:56:05.633Z"
   },
   {
    "duration": -223,
    "start_time": "2021-09-30T02:56:05.641Z"
   },
   {
    "duration": -235,
    "start_time": "2021-09-30T02:56:05.655Z"
   },
   {
    "duration": -247,
    "start_time": "2021-09-30T02:56:05.668Z"
   },
   {
    "duration": -257,
    "start_time": "2021-09-30T02:56:05.680Z"
   },
   {
    "duration": -265,
    "start_time": "2021-09-30T02:56:05.689Z"
   },
   {
    "duration": -276,
    "start_time": "2021-09-30T02:56:05.701Z"
   },
   {
    "duration": -286,
    "start_time": "2021-09-30T02:56:05.713Z"
   },
   {
    "duration": -294,
    "start_time": "2021-09-30T02:56:05.722Z"
   },
   {
    "duration": -305,
    "start_time": "2021-09-30T02:56:05.735Z"
   },
   {
    "duration": -316,
    "start_time": "2021-09-30T02:56:05.747Z"
   },
   {
    "duration": -324,
    "start_time": "2021-09-30T02:56:05.756Z"
   },
   {
    "duration": -333,
    "start_time": "2021-09-30T02:56:05.767Z"
   },
   {
    "duration": -340,
    "start_time": "2021-09-30T02:56:05.775Z"
   },
   {
    "duration": -360,
    "start_time": "2021-09-30T02:56:05.797Z"
   },
   {
    "duration": -366,
    "start_time": "2021-09-30T02:56:05.804Z"
   },
   {
    "duration": -377,
    "start_time": "2021-09-30T02:56:05.816Z"
   },
   {
    "duration": -382,
    "start_time": "2021-09-30T02:56:05.823Z"
   },
   {
    "duration": -394,
    "start_time": "2021-09-30T02:56:05.836Z"
   },
   {
    "duration": -405,
    "start_time": "2021-09-30T02:56:05.848Z"
   },
   {
    "duration": -412,
    "start_time": "2021-09-30T02:56:05.857Z"
   },
   {
    "duration": -421,
    "start_time": "2021-09-30T02:56:05.867Z"
   },
   {
    "duration": -429,
    "start_time": "2021-09-30T02:56:05.876Z"
   },
   {
    "duration": -438,
    "start_time": "2021-09-30T02:56:05.886Z"
   },
   {
    "duration": -446,
    "start_time": "2021-09-30T02:56:05.896Z"
   },
   {
    "duration": -453,
    "start_time": "2021-09-30T02:56:05.904Z"
   },
   {
    "duration": 17,
    "start_time": "2021-09-30T02:57:46.053Z"
   },
   {
    "duration": 17,
    "start_time": "2021-09-30T02:58:06.441Z"
   },
   {
    "duration": 9,
    "start_time": "2021-09-30T02:59:29.501Z"
   },
   {
    "duration": 8,
    "start_time": "2021-09-30T02:59:52.683Z"
   },
   {
    "duration": 8,
    "start_time": "2021-09-30T03:02:54.190Z"
   },
   {
    "duration": 8,
    "start_time": "2021-09-30T03:04:05.519Z"
   },
   {
    "duration": 9,
    "start_time": "2021-09-30T03:04:44.836Z"
   },
   {
    "duration": 2632,
    "start_time": "2021-09-30T03:07:01.250Z"
   },
   {
    "duration": 4,
    "start_time": "2021-09-30T03:07:03.885Z"
   },
   {
    "duration": 400,
    "start_time": "2021-09-30T03:07:03.892Z"
   },
   {
    "duration": 18,
    "start_time": "2021-09-30T03:07:04.295Z"
   },
   {
    "duration": 14,
    "start_time": "2021-09-30T03:07:04.316Z"
   },
   {
    "duration": 13,
    "start_time": "2021-09-30T03:07:04.332Z"
   },
   {
    "duration": 139,
    "start_time": "2021-09-30T03:07:04.348Z"
   },
   {
    "duration": 35,
    "start_time": "2021-09-30T03:07:04.491Z"
   },
   {
    "duration": 12,
    "start_time": "2021-09-30T03:07:04.529Z"
   },
   {
    "duration": 154,
    "start_time": "2021-09-30T03:07:04.544Z"
   },
   {
    "duration": 23,
    "start_time": "2021-09-30T03:07:04.702Z"
   },
   {
    "duration": 140,
    "start_time": "2021-09-30T03:07:04.728Z"
   },
   {
    "duration": 17,
    "start_time": "2021-09-30T03:07:04.872Z"
   },
   {
    "duration": 38,
    "start_time": "2021-09-30T03:07:04.892Z"
   },
   {
    "duration": 113,
    "start_time": "2021-09-30T03:07:04.933Z"
   },
   {
    "duration": 13,
    "start_time": "2021-09-30T03:07:05.049Z"
   },
   {
    "duration": 98,
    "start_time": "2021-09-30T03:07:05.064Z"
   },
   {
    "duration": 16,
    "start_time": "2021-09-30T03:07:05.165Z"
   },
   {
    "duration": 52,
    "start_time": "2021-09-30T03:07:05.183Z"
   },
   {
    "duration": 108,
    "start_time": "2021-09-30T03:07:05.237Z"
   },
   {
    "duration": 49,
    "start_time": "2021-09-30T03:07:05.347Z"
   },
   {
    "duration": 38,
    "start_time": "2021-09-30T03:07:05.399Z"
   },
   {
    "duration": 14,
    "start_time": "2021-09-30T03:07:05.447Z"
   },
   {
    "duration": 203,
    "start_time": "2021-09-30T03:07:05.467Z"
   },
   {
    "duration": 51,
    "start_time": "2021-09-30T03:07:05.672Z"
   },
   {
    "duration": 1130,
    "start_time": "2021-09-30T03:07:05.726Z"
   },
   {
    "duration": 14,
    "start_time": "2021-09-30T03:07:06.859Z"
   },
   {
    "duration": 24,
    "start_time": "2021-09-30T03:07:06.876Z"
   },
   {
    "duration": 39,
    "start_time": "2021-09-30T03:07:06.903Z"
   },
   {
    "duration": 246,
    "start_time": "2021-09-30T03:07:06.946Z"
   },
   {
    "duration": 13,
    "start_time": "2021-09-30T03:07:07.194Z"
   },
   {
    "duration": 12,
    "start_time": "2021-09-30T03:07:07.222Z"
   },
   {
    "duration": 18,
    "start_time": "2021-09-30T03:07:07.237Z"
   },
   {
    "duration": 253,
    "start_time": "2021-09-30T03:07:07.257Z"
   },
   {
    "duration": 240,
    "start_time": "2021-09-30T03:07:07.512Z"
   },
   {
    "duration": 13,
    "start_time": "2021-09-30T03:07:07.755Z"
   },
   {
    "duration": 18,
    "start_time": "2021-09-30T03:07:07.772Z"
   },
   {
    "duration": 45,
    "start_time": "2021-09-30T03:07:07.793Z"
   },
   {
    "duration": 303,
    "start_time": "2021-09-30T03:07:07.842Z"
   },
   {
    "duration": 14,
    "start_time": "2021-09-30T03:07:08.148Z"
   },
   {
    "duration": 47,
    "start_time": "2021-09-30T03:07:08.164Z"
   },
   {
    "duration": 22,
    "start_time": "2021-09-30T03:07:08.213Z"
   },
   {
    "duration": 47,
    "start_time": "2021-09-30T03:07:08.237Z"
   },
   {
    "duration": 55,
    "start_time": "2021-09-30T03:07:08.286Z"
   },
   {
    "duration": 24,
    "start_time": "2021-09-30T03:07:08.343Z"
   },
   {
    "duration": 19,
    "start_time": "2021-09-30T03:07:08.370Z"
   },
   {
    "duration": 35,
    "start_time": "2021-09-30T03:07:08.392Z"
   },
   {
    "duration": 8,
    "start_time": "2021-09-30T03:07:08.430Z"
   },
   {
    "duration": 34,
    "start_time": "2021-09-30T03:07:08.440Z"
   },
   {
    "duration": 30,
    "start_time": "2021-09-30T03:07:08.477Z"
   },
   {
    "duration": 30,
    "start_time": "2021-09-30T03:07:08.509Z"
   },
   {
    "duration": 15,
    "start_time": "2021-09-30T03:07:08.541Z"
   },
   {
    "duration": 23,
    "start_time": "2021-09-30T03:07:08.559Z"
   },
   {
    "duration": 45,
    "start_time": "2021-09-30T03:07:08.584Z"
   },
   {
    "duration": 7,
    "start_time": "2021-09-30T03:07:08.632Z"
   },
   {
    "duration": 35,
    "start_time": "2021-09-30T03:07:08.642Z"
   },
   {
    "duration": 92,
    "start_time": "2021-09-30T03:07:08.680Z"
   },
   {
    "duration": 8,
    "start_time": "2021-09-30T03:07:08.775Z"
   },
   {
    "duration": 79,
    "start_time": "2021-09-30T03:07:08.785Z"
   },
   {
    "duration": 220,
    "start_time": "2021-09-30T03:07:08.867Z"
   },
   {
    "duration": 76,
    "start_time": "2021-09-30T03:07:09.090Z"
   },
   {
    "duration": 11,
    "start_time": "2021-09-30T03:07:09.169Z"
   },
   {
    "duration": 40,
    "start_time": "2021-09-30T03:07:09.182Z"
   },
   {
    "duration": 120,
    "start_time": "2021-09-30T03:07:09.225Z"
   },
   {
    "duration": 119,
    "start_time": "2021-09-30T03:07:09.348Z"
   },
   {
    "duration": 30,
    "start_time": "2021-09-30T03:07:09.469Z"
   },
   {
    "duration": 48,
    "start_time": "2021-09-30T03:07:09.502Z"
   },
   {
    "duration": 27,
    "start_time": "2021-09-30T03:07:09.559Z"
   },
   {
    "duration": 69,
    "start_time": "2021-09-30T03:07:09.589Z"
   },
   {
    "duration": 64,
    "start_time": "2021-09-30T03:07:09.661Z"
   },
   {
    "duration": 19,
    "start_time": "2021-09-30T03:07:09.728Z"
   },
   {
    "duration": 11,
    "start_time": "2021-09-30T03:07:09.750Z"
   },
   {
    "duration": 363,
    "start_time": "2021-09-30T03:07:09.763Z"
   },
   {
    "duration": 10,
    "start_time": "2021-09-30T03:07:10.128Z"
   },
   {
    "duration": 512,
    "start_time": "2021-09-30T03:07:10.140Z"
   },
   {
    "duration": 10,
    "start_time": "2021-09-30T03:07:10.654Z"
   },
   {
    "duration": 407,
    "start_time": "2021-09-30T03:07:10.667Z"
   },
   {
    "duration": 45,
    "start_time": "2021-09-30T03:07:11.077Z"
   },
   {
    "duration": 206,
    "start_time": "2021-09-30T03:07:11.125Z"
   },
   {
    "duration": 24,
    "start_time": "2021-09-30T03:07:11.334Z"
   },
   {
    "duration": 23,
    "start_time": "2021-09-30T03:07:11.360Z"
   },
   {
    "duration": 54,
    "start_time": "2021-09-30T03:07:11.385Z"
   },
   {
    "duration": 8,
    "start_time": "2021-09-30T03:07:11.442Z"
   },
   {
    "duration": 12,
    "start_time": "2021-09-30T03:07:11.453Z"
   },
   {
    "duration": 61,
    "start_time": "2021-09-30T03:07:11.467Z"
   },
   {
    "duration": 396,
    "start_time": "2021-09-30T03:07:11.530Z"
   },
   {
    "duration": -204,
    "start_time": "2021-09-30T03:07:12.132Z"
   },
   {
    "duration": -214,
    "start_time": "2021-09-30T03:07:12.144Z"
   },
   {
    "duration": -232,
    "start_time": "2021-09-30T03:07:12.163Z"
   },
   {
    "duration": -238,
    "start_time": "2021-09-30T03:07:12.170Z"
   },
   {
    "duration": -250,
    "start_time": "2021-09-30T03:07:12.184Z"
   },
   {
    "duration": -263,
    "start_time": "2021-09-30T03:07:12.198Z"
   },
   {
    "duration": -272,
    "start_time": "2021-09-30T03:07:12.209Z"
   },
   {
    "duration": -278,
    "start_time": "2021-09-30T03:07:12.216Z"
   },
   {
    "duration": -290,
    "start_time": "2021-09-30T03:07:12.229Z"
   },
   {
    "duration": -297,
    "start_time": "2021-09-30T03:07:12.238Z"
   },
   {
    "duration": -308,
    "start_time": "2021-09-30T03:07:12.250Z"
   },
   {
    "duration": -319,
    "start_time": "2021-09-30T03:07:12.262Z"
   },
   {
    "duration": -325,
    "start_time": "2021-09-30T03:07:12.270Z"
   },
   {
    "duration": -335,
    "start_time": "2021-09-30T03:07:12.281Z"
   },
   {
    "duration": -347,
    "start_time": "2021-09-30T03:07:12.294Z"
   },
   {
    "duration": -353,
    "start_time": "2021-09-30T03:07:12.302Z"
   },
   {
    "duration": -363,
    "start_time": "2021-09-30T03:07:12.313Z"
   },
   {
    "duration": -381,
    "start_time": "2021-09-30T03:07:12.332Z"
   },
   {
    "duration": -390,
    "start_time": "2021-09-30T03:07:12.343Z"
   },
   {
    "duration": -396,
    "start_time": "2021-09-30T03:07:12.350Z"
   },
   {
    "duration": -406,
    "start_time": "2021-09-30T03:07:12.361Z"
   },
   {
    "duration": -412,
    "start_time": "2021-09-30T03:07:12.369Z"
   },
   {
    "duration": -421,
    "start_time": "2021-09-30T03:07:12.379Z"
   },
   {
    "duration": -427,
    "start_time": "2021-09-30T03:07:12.387Z"
   },
   {
    "duration": -437,
    "start_time": "2021-09-30T03:07:12.398Z"
   },
   {
    "duration": -447,
    "start_time": "2021-09-30T03:07:12.409Z"
   },
   {
    "duration": -453,
    "start_time": "2021-09-30T03:07:12.417Z"
   },
   {
    "duration": -463,
    "start_time": "2021-09-30T03:07:12.428Z"
   },
   {
    "duration": -414,
    "start_time": "2021-09-30T03:07:12.436Z"
   },
   {
    "duration": -422,
    "start_time": "2021-09-30T03:07:12.446Z"
   },
   {
    "duration": -429,
    "start_time": "2021-09-30T03:07:12.454Z"
   },
   {
    "duration": 1333,
    "start_time": "2021-09-30T03:09:28.250Z"
   },
   {
    "duration": 3,
    "start_time": "2021-09-30T03:09:29.586Z"
   },
   {
    "duration": 386,
    "start_time": "2021-09-30T03:09:29.592Z"
   },
   {
    "duration": 19,
    "start_time": "2021-09-30T03:09:29.981Z"
   },
   {
    "duration": 23,
    "start_time": "2021-09-30T03:09:30.003Z"
   },
   {
    "duration": 26,
    "start_time": "2021-09-30T03:09:30.029Z"
   },
   {
    "duration": 129,
    "start_time": "2021-09-30T03:09:30.057Z"
   },
   {
    "duration": 17,
    "start_time": "2021-09-30T03:09:30.190Z"
   },
   {
    "duration": 14,
    "start_time": "2021-09-30T03:09:30.224Z"
   },
   {
    "duration": 153,
    "start_time": "2021-09-30T03:09:30.241Z"
   },
   {
    "duration": 14,
    "start_time": "2021-09-30T03:09:30.396Z"
   },
   {
    "duration": 148,
    "start_time": "2021-09-30T03:09:30.423Z"
   },
   {
    "duration": 16,
    "start_time": "2021-09-30T03:09:30.574Z"
   },
   {
    "duration": 34,
    "start_time": "2021-09-30T03:09:30.593Z"
   },
   {
    "duration": 114,
    "start_time": "2021-09-30T03:09:30.630Z"
   },
   {
    "duration": 11,
    "start_time": "2021-09-30T03:09:30.747Z"
   },
   {
    "duration": 91,
    "start_time": "2021-09-30T03:09:30.760Z"
   },
   {
    "duration": 16,
    "start_time": "2021-09-30T03:09:30.853Z"
   },
   {
    "duration": 52,
    "start_time": "2021-09-30T03:09:30.871Z"
   },
   {
    "duration": 114,
    "start_time": "2021-09-30T03:09:30.925Z"
   },
   {
    "duration": 48,
    "start_time": "2021-09-30T03:09:31.042Z"
   },
   {
    "duration": 38,
    "start_time": "2021-09-30T03:09:31.093Z"
   },
   {
    "duration": 16,
    "start_time": "2021-09-30T03:09:31.140Z"
   },
   {
    "duration": 216,
    "start_time": "2021-09-30T03:09:31.162Z"
   },
   {
    "duration": 48,
    "start_time": "2021-09-30T03:09:31.380Z"
   },
   {
    "duration": 1028,
    "start_time": "2021-09-30T03:09:31.431Z"
   },
   {
    "duration": 13,
    "start_time": "2021-09-30T03:09:32.461Z"
   },
   {
    "duration": 23,
    "start_time": "2021-09-30T03:09:32.476Z"
   },
   {
    "duration": 36,
    "start_time": "2021-09-30T03:09:32.502Z"
   },
   {
    "duration": 232,
    "start_time": "2021-09-30T03:09:32.541Z"
   },
   {
    "duration": 12,
    "start_time": "2021-09-30T03:09:32.776Z"
   },
   {
    "duration": 34,
    "start_time": "2021-09-30T03:09:32.791Z"
   },
   {
    "duration": 15,
    "start_time": "2021-09-30T03:09:32.828Z"
   },
   {
    "duration": 262,
    "start_time": "2021-09-30T03:09:32.846Z"
   },
   {
    "duration": 235,
    "start_time": "2021-09-30T03:09:33.110Z"
   },
   {
    "duration": 12,
    "start_time": "2021-09-30T03:09:33.347Z"
   },
   {
    "duration": 17,
    "start_time": "2021-09-30T03:09:33.361Z"
   },
   {
    "duration": 24,
    "start_time": "2021-09-30T03:09:33.380Z"
   },
   {
    "duration": 240,
    "start_time": "2021-09-30T03:09:33.423Z"
   },
   {
    "duration": 15,
    "start_time": "2021-09-30T03:09:33.665Z"
   },
   {
    "duration": 45,
    "start_time": "2021-09-30T03:09:33.682Z"
   },
   {
    "duration": 26,
    "start_time": "2021-09-30T03:09:33.730Z"
   },
   {
    "duration": 46,
    "start_time": "2021-09-30T03:09:33.759Z"
   },
   {
    "duration": 49,
    "start_time": "2021-09-30T03:09:33.808Z"
   },
   {
    "duration": 23,
    "start_time": "2021-09-30T03:09:33.859Z"
   },
   {
    "duration": 18,
    "start_time": "2021-09-30T03:09:33.885Z"
   },
   {
    "duration": 10,
    "start_time": "2021-09-30T03:09:33.922Z"
   },
   {
    "duration": 42,
    "start_time": "2021-09-30T03:09:33.934Z"
   },
   {
    "duration": 37,
    "start_time": "2021-09-30T03:09:33.979Z"
   },
   {
    "duration": 46,
    "start_time": "2021-09-30T03:09:34.018Z"
   },
   {
    "duration": 31,
    "start_time": "2021-09-30T03:09:34.066Z"
   },
   {
    "duration": 32,
    "start_time": "2021-09-30T03:09:34.100Z"
   },
   {
    "duration": 49,
    "start_time": "2021-09-30T03:09:34.135Z"
   },
   {
    "duration": 32,
    "start_time": "2021-09-30T03:09:34.187Z"
   },
   {
    "duration": 34,
    "start_time": "2021-09-30T03:09:34.221Z"
   },
   {
    "duration": 37,
    "start_time": "2021-09-30T03:09:34.257Z"
   },
   {
    "duration": 94,
    "start_time": "2021-09-30T03:09:34.296Z"
   },
   {
    "duration": 9,
    "start_time": "2021-09-30T03:09:34.392Z"
   },
   {
    "duration": 65,
    "start_time": "2021-09-30T03:09:34.403Z"
   },
   {
    "duration": 228,
    "start_time": "2021-09-30T03:09:34.470Z"
   },
   {
    "duration": 78,
    "start_time": "2021-09-30T03:09:34.701Z"
   },
   {
    "duration": 13,
    "start_time": "2021-09-30T03:09:34.781Z"
   },
   {
    "duration": 30,
    "start_time": "2021-09-30T03:09:34.796Z"
   },
   {
    "duration": 109,
    "start_time": "2021-09-30T03:09:34.829Z"
   },
   {
    "duration": 113,
    "start_time": "2021-09-30T03:09:34.940Z"
   },
   {
    "duration": 29,
    "start_time": "2021-09-30T03:09:35.055Z"
   },
   {
    "duration": 52,
    "start_time": "2021-09-30T03:09:35.086Z"
   },
   {
    "duration": 26,
    "start_time": "2021-09-30T03:09:35.145Z"
   },
   {
    "duration": 62,
    "start_time": "2021-09-30T03:09:35.174Z"
   },
   {
    "duration": 45,
    "start_time": "2021-09-30T03:09:35.238Z"
   },
   {
    "duration": 39,
    "start_time": "2021-09-30T03:09:35.286Z"
   },
   {
    "duration": 13,
    "start_time": "2021-09-30T03:09:35.328Z"
   },
   {
    "duration": 373,
    "start_time": "2021-09-30T03:09:35.343Z"
   },
   {
    "duration": 9,
    "start_time": "2021-09-30T03:09:35.718Z"
   },
   {
    "duration": 502,
    "start_time": "2021-09-30T03:09:35.730Z"
   },
   {
    "duration": 11,
    "start_time": "2021-09-30T03:09:36.234Z"
   },
   {
    "duration": 366,
    "start_time": "2021-09-30T03:09:36.248Z"
   },
   {
    "duration": 35,
    "start_time": "2021-09-30T03:09:36.617Z"
   },
   {
    "duration": 199,
    "start_time": "2021-09-30T03:09:36.655Z"
   },
   {
    "duration": 24,
    "start_time": "2021-09-30T03:09:36.856Z"
   },
   {
    "duration": 46,
    "start_time": "2021-09-30T03:09:36.883Z"
   },
   {
    "duration": 22,
    "start_time": "2021-09-30T03:09:36.932Z"
   },
   {
    "duration": 8,
    "start_time": "2021-09-30T03:09:36.956Z"
   },
   {
    "duration": 11,
    "start_time": "2021-09-30T03:09:36.967Z"
   },
   {
    "duration": 58,
    "start_time": "2021-09-30T03:09:36.981Z"
   },
   {
    "duration": 414,
    "start_time": "2021-09-30T03:09:37.042Z"
   },
   {
    "duration": -107,
    "start_time": "2021-09-30T03:09:37.566Z"
   },
   {
    "duration": -120,
    "start_time": "2021-09-30T03:09:37.580Z"
   },
   {
    "duration": -127,
    "start_time": "2021-09-30T03:09:37.588Z"
   },
   {
    "duration": -136,
    "start_time": "2021-09-30T03:09:37.599Z"
   },
   {
    "duration": -148,
    "start_time": "2021-09-30T03:09:37.612Z"
   },
   {
    "duration": 110,
    "start_time": "2021-09-30T03:12:11.458Z"
   },
   {
    "duration": 93,
    "start_time": "2021-09-30T03:14:51.003Z"
   },
   {
    "duration": 9,
    "start_time": "2021-09-30T03:17:23.198Z"
   },
   {
    "duration": 9,
    "start_time": "2021-09-30T03:18:18.384Z"
   },
   {
    "duration": 9,
    "start_time": "2021-09-30T03:18:19.410Z"
   },
   {
    "duration": 27,
    "start_time": "2021-09-30T03:21:59.658Z"
   },
   {
    "duration": 24,
    "start_time": "2021-09-30T03:32:00.625Z"
   },
   {
    "duration": 9,
    "start_time": "2021-09-30T03:33:51.645Z"
   },
   {
    "duration": 1306,
    "start_time": "2021-09-30T03:36:55.562Z"
   },
   {
    "duration": 3,
    "start_time": "2021-09-30T03:36:56.871Z"
   },
   {
    "duration": 376,
    "start_time": "2021-09-30T03:36:56.877Z"
   },
   {
    "duration": 19,
    "start_time": "2021-09-30T03:36:57.255Z"
   },
   {
    "duration": 18,
    "start_time": "2021-09-30T03:36:57.276Z"
   },
   {
    "duration": 20,
    "start_time": "2021-09-30T03:36:57.296Z"
   },
   {
    "duration": 117,
    "start_time": "2021-09-30T03:36:57.322Z"
   },
   {
    "duration": 18,
    "start_time": "2021-09-30T03:36:57.442Z"
   },
   {
    "duration": 14,
    "start_time": "2021-09-30T03:36:57.464Z"
   },
   {
    "duration": 169,
    "start_time": "2021-09-30T03:36:57.480Z"
   },
   {
    "duration": 12,
    "start_time": "2021-09-30T03:36:57.652Z"
   },
   {
    "duration": 189,
    "start_time": "2021-09-30T03:36:57.667Z"
   },
   {
    "duration": 17,
    "start_time": "2021-09-30T03:36:57.859Z"
   },
   {
    "duration": 11,
    "start_time": "2021-09-30T03:36:57.878Z"
   },
   {
    "duration": 109,
    "start_time": "2021-09-30T03:36:57.923Z"
   },
   {
    "duration": 11,
    "start_time": "2021-09-30T03:36:58.034Z"
   },
   {
    "duration": 91,
    "start_time": "2021-09-30T03:36:58.047Z"
   },
   {
    "duration": 15,
    "start_time": "2021-09-30T03:36:58.140Z"
   },
   {
    "duration": 36,
    "start_time": "2021-09-30T03:36:58.157Z"
   },
   {
    "duration": 116,
    "start_time": "2021-09-30T03:36:58.195Z"
   },
   {
    "duration": 52,
    "start_time": "2021-09-30T03:36:58.313Z"
   },
   {
    "duration": 16,
    "start_time": "2021-09-30T03:36:58.368Z"
   },
   {
    "duration": 14,
    "start_time": "2021-09-30T03:36:58.424Z"
   },
   {
    "duration": 191,
    "start_time": "2021-09-30T03:36:58.442Z"
   },
   {
    "duration": 38,
    "start_time": "2021-09-30T03:36:58.636Z"
   },
   {
    "duration": 1006,
    "start_time": "2021-09-30T03:36:58.676Z"
   },
   {
    "duration": 12,
    "start_time": "2021-09-30T03:36:59.684Z"
   },
   {
    "duration": 31,
    "start_time": "2021-09-30T03:36:59.698Z"
   },
   {
    "duration": 20,
    "start_time": "2021-09-30T03:36:59.731Z"
   },
   {
    "duration": 246,
    "start_time": "2021-09-30T03:36:59.753Z"
   },
   {
    "duration": 25,
    "start_time": "2021-09-30T03:37:00.001Z"
   },
   {
    "duration": 10,
    "start_time": "2021-09-30T03:37:00.029Z"
   },
   {
    "duration": 25,
    "start_time": "2021-09-30T03:37:00.042Z"
   },
   {
    "duration": 266,
    "start_time": "2021-09-30T03:37:00.070Z"
   },
   {
    "duration": 237,
    "start_time": "2021-09-30T03:37:00.339Z"
   },
   {
    "duration": 11,
    "start_time": "2021-09-30T03:37:00.578Z"
   },
   {
    "duration": 33,
    "start_time": "2021-09-30T03:37:00.592Z"
   },
   {
    "duration": 15,
    "start_time": "2021-09-30T03:37:00.627Z"
   },
   {
    "duration": 268,
    "start_time": "2021-09-30T03:37:00.644Z"
   },
   {
    "duration": 21,
    "start_time": "2021-09-30T03:37:00.914Z"
   },
   {
    "duration": 34,
    "start_time": "2021-09-30T03:37:00.937Z"
   },
   {
    "duration": 51,
    "start_time": "2021-09-30T03:37:00.974Z"
   },
   {
    "duration": 29,
    "start_time": "2021-09-30T03:37:01.028Z"
   },
   {
    "duration": 45,
    "start_time": "2021-09-30T03:37:01.060Z"
   },
   {
    "duration": 24,
    "start_time": "2021-09-30T03:37:01.108Z"
   },
   {
    "duration": 20,
    "start_time": "2021-09-30T03:37:01.135Z"
   },
   {
    "duration": 19,
    "start_time": "2021-09-30T03:37:01.157Z"
   },
   {
    "duration": 43,
    "start_time": "2021-09-30T03:37:01.179Z"
   },
   {
    "duration": 12,
    "start_time": "2021-09-30T03:37:01.226Z"
   },
   {
    "duration": 30,
    "start_time": "2021-09-30T03:37:01.241Z"
   },
   {
    "duration": 64,
    "start_time": "2021-09-30T03:37:01.275Z"
   },
   {
    "duration": 20,
    "start_time": "2021-09-30T03:37:01.342Z"
   },
   {
    "duration": 35,
    "start_time": "2021-09-30T03:37:01.365Z"
   },
   {
    "duration": 13,
    "start_time": "2021-09-30T03:37:01.423Z"
   },
   {
    "duration": 18,
    "start_time": "2021-09-30T03:37:01.439Z"
   },
   {
    "duration": 27,
    "start_time": "2021-09-30T03:37:01.459Z"
   },
   {
    "duration": 106,
    "start_time": "2021-09-30T03:37:01.488Z"
   },
   {
    "duration": 9,
    "start_time": "2021-09-30T03:37:01.597Z"
   },
   {
    "duration": 82,
    "start_time": "2021-09-30T03:37:01.624Z"
   },
   {
    "duration": 213,
    "start_time": "2021-09-30T03:37:01.709Z"
   },
   {
    "duration": 65,
    "start_time": "2021-09-30T03:37:01.925Z"
   },
   {
    "duration": 33,
    "start_time": "2021-09-30T03:37:01.992Z"
   },
   {
    "duration": 31,
    "start_time": "2021-09-30T03:37:02.028Z"
   },
   {
    "duration": 107,
    "start_time": "2021-09-30T03:37:02.062Z"
   },
   {
    "duration": 114,
    "start_time": "2021-09-30T03:37:02.171Z"
   },
   {
    "duration": 43,
    "start_time": "2021-09-30T03:37:02.287Z"
   },
   {
    "duration": 30,
    "start_time": "2021-09-30T03:37:02.333Z"
   },
   {
    "duration": 56,
    "start_time": "2021-09-30T03:37:02.370Z"
   },
   {
    "duration": 40,
    "start_time": "2021-09-30T03:37:02.431Z"
   },
   {
    "duration": 78,
    "start_time": "2021-09-30T03:37:02.474Z"
   },
   {
    "duration": 20,
    "start_time": "2021-09-30T03:37:02.554Z"
   },
   {
    "duration": 23,
    "start_time": "2021-09-30T03:37:02.576Z"
   },
   {
    "duration": 369,
    "start_time": "2021-09-30T03:37:02.601Z"
   },
   {
    "duration": 9,
    "start_time": "2021-09-30T03:37:02.973Z"
   },
   {
    "duration": 546,
    "start_time": "2021-09-30T03:37:02.985Z"
   },
   {
    "duration": 11,
    "start_time": "2021-09-30T03:37:03.533Z"
   },
   {
    "duration": 361,
    "start_time": "2021-09-30T03:37:03.547Z"
   },
   {
    "duration": 42,
    "start_time": "2021-09-30T03:37:03.910Z"
   },
   {
    "duration": 202,
    "start_time": "2021-09-30T03:37:03.954Z"
   },
   {
    "duration": 26,
    "start_time": "2021-09-30T03:37:04.158Z"
   },
   {
    "duration": 49,
    "start_time": "2021-09-30T03:37:04.186Z"
   },
   {
    "duration": 46,
    "start_time": "2021-09-30T03:37:04.237Z"
   },
   {
    "duration": 16,
    "start_time": "2021-09-30T03:37:04.285Z"
   },
   {
    "duration": 21,
    "start_time": "2021-09-30T03:37:04.303Z"
   },
   {
    "duration": 36,
    "start_time": "2021-09-30T03:37:04.326Z"
   },
   {
    "duration": 20,
    "start_time": "2021-09-30T03:37:04.365Z"
   },
   {
    "duration": 8,
    "start_time": "2021-09-30T03:41:05.016Z"
   },
   {
    "duration": 9,
    "start_time": "2021-09-30T03:41:28.129Z"
   },
   {
    "duration": 9,
    "start_time": "2021-09-30T03:41:36.453Z"
   },
   {
    "duration": 8,
    "start_time": "2021-09-30T03:41:44.294Z"
   },
   {
    "duration": 8,
    "start_time": "2021-09-30T03:41:51.110Z"
   },
   {
    "duration": 8,
    "start_time": "2021-09-30T03:41:58.547Z"
   },
   {
    "duration": 1458,
    "start_time": "2021-09-30T03:42:23.861Z"
   },
   {
    "duration": 4,
    "start_time": "2021-09-30T03:42:25.321Z"
   },
   {
    "duration": 403,
    "start_time": "2021-09-30T03:42:25.328Z"
   },
   {
    "duration": 18,
    "start_time": "2021-09-30T03:42:25.734Z"
   },
   {
    "duration": 22,
    "start_time": "2021-09-30T03:42:25.754Z"
   },
   {
    "duration": 32,
    "start_time": "2021-09-30T03:42:25.778Z"
   },
   {
    "duration": 119,
    "start_time": "2021-09-30T03:42:25.823Z"
   },
   {
    "duration": 24,
    "start_time": "2021-09-30T03:42:25.947Z"
   },
   {
    "duration": 14,
    "start_time": "2021-09-30T03:42:25.974Z"
   },
   {
    "duration": 178,
    "start_time": "2021-09-30T03:42:25.991Z"
   },
   {
    "duration": 11,
    "start_time": "2021-09-30T03:42:26.172Z"
   },
   {
    "duration": 151,
    "start_time": "2021-09-30T03:42:26.185Z"
   },
   {
    "duration": 16,
    "start_time": "2021-09-30T03:42:26.339Z"
   },
   {
    "duration": 10,
    "start_time": "2021-09-30T03:42:26.358Z"
   },
   {
    "duration": 128,
    "start_time": "2021-09-30T03:42:26.371Z"
   },
   {
    "duration": 25,
    "start_time": "2021-09-30T03:42:26.501Z"
   },
   {
    "duration": 56,
    "start_time": "2021-09-30T03:42:26.529Z"
   },
   {
    "duration": 49,
    "start_time": "2021-09-30T03:42:26.587Z"
   },
   {
    "duration": 26,
    "start_time": "2021-09-30T03:42:26.639Z"
   },
   {
    "duration": 125,
    "start_time": "2021-09-30T03:42:26.667Z"
   },
   {
    "duration": 60,
    "start_time": "2021-09-30T03:42:26.794Z"
   },
   {
    "duration": 16,
    "start_time": "2021-09-30T03:42:26.857Z"
   },
   {
    "duration": 43,
    "start_time": "2021-09-30T03:42:26.880Z"
   },
   {
    "duration": 173,
    "start_time": "2021-09-30T03:42:26.927Z"
   },
   {
    "duration": 53,
    "start_time": "2021-09-30T03:42:27.103Z"
   },
   {
    "duration": 1165,
    "start_time": "2021-09-30T03:42:27.158Z"
   },
   {
    "duration": 12,
    "start_time": "2021-09-30T03:42:28.326Z"
   },
   {
    "duration": 27,
    "start_time": "2021-09-30T03:42:28.340Z"
   },
   {
    "duration": 27,
    "start_time": "2021-09-30T03:42:28.370Z"
   },
   {
    "duration": 255,
    "start_time": "2021-09-30T03:42:28.399Z"
   },
   {
    "duration": 13,
    "start_time": "2021-09-30T03:42:28.656Z"
   },
   {
    "duration": 11,
    "start_time": "2021-09-30T03:42:28.671Z"
   },
   {
    "duration": 49,
    "start_time": "2021-09-30T03:42:28.685Z"
   },
   {
    "duration": 245,
    "start_time": "2021-09-30T03:42:28.736Z"
   },
   {
    "duration": 233,
    "start_time": "2021-09-30T03:42:28.984Z"
   },
   {
    "duration": 12,
    "start_time": "2021-09-30T03:42:29.222Z"
   },
   {
    "duration": 10,
    "start_time": "2021-09-30T03:42:29.237Z"
   },
   {
    "duration": 15,
    "start_time": "2021-09-30T03:42:29.249Z"
   },
   {
    "duration": 280,
    "start_time": "2021-09-30T03:42:29.267Z"
   },
   {
    "duration": 15,
    "start_time": "2021-09-30T03:42:29.550Z"
   },
   {
    "duration": 27,
    "start_time": "2021-09-30T03:42:29.567Z"
   },
   {
    "duration": 16,
    "start_time": "2021-09-30T03:42:29.622Z"
   },
   {
    "duration": 6,
    "start_time": "2021-09-30T03:42:29.641Z"
   },
   {
    "duration": 31,
    "start_time": "2021-09-30T03:42:29.649Z"
   },
   {
    "duration": 54,
    "start_time": "2021-09-30T03:42:29.683Z"
   },
   {
    "duration": 18,
    "start_time": "2021-09-30T03:42:29.740Z"
   },
   {
    "duration": 9,
    "start_time": "2021-09-30T03:42:29.760Z"
   },
   {
    "duration": 52,
    "start_time": "2021-09-30T03:42:29.771Z"
   },
   {
    "duration": 9,
    "start_time": "2021-09-30T03:42:29.826Z"
   },
   {
    "duration": 32,
    "start_time": "2021-09-30T03:42:29.837Z"
   },
   {
    "duration": 51,
    "start_time": "2021-09-30T03:42:29.871Z"
   },
   {
    "duration": 16,
    "start_time": "2021-09-30T03:42:29.925Z"
   },
   {
    "duration": 15,
    "start_time": "2021-09-30T03:42:29.943Z"
   },
   {
    "duration": 11,
    "start_time": "2021-09-30T03:42:29.960Z"
   },
   {
    "duration": 53,
    "start_time": "2021-09-30T03:42:29.973Z"
   },
   {
    "duration": 13,
    "start_time": "2021-09-30T03:42:30.029Z"
   },
   {
    "duration": 106,
    "start_time": "2021-09-30T03:42:30.044Z"
   },
   {
    "duration": 8,
    "start_time": "2021-09-30T03:42:30.153Z"
   },
   {
    "duration": 78,
    "start_time": "2021-09-30T03:42:30.163Z"
   },
   {
    "duration": 238,
    "start_time": "2021-09-30T03:42:30.244Z"
   },
   {
    "duration": 92,
    "start_time": "2021-09-30T03:42:30.485Z"
   },
   {
    "duration": 11,
    "start_time": "2021-09-30T03:42:30.580Z"
   },
   {
    "duration": 31,
    "start_time": "2021-09-30T03:42:30.595Z"
   },
   {
    "duration": 126,
    "start_time": "2021-09-30T03:42:30.629Z"
   },
   {
    "duration": 124,
    "start_time": "2021-09-30T03:42:30.759Z"
   },
   {
    "duration": 51,
    "start_time": "2021-09-30T03:42:30.886Z"
   },
   {
    "duration": 30,
    "start_time": "2021-09-30T03:42:30.940Z"
   },
   {
    "duration": 52,
    "start_time": "2021-09-30T03:42:30.978Z"
   },
   {
    "duration": 57,
    "start_time": "2021-09-30T03:42:31.033Z"
   },
   {
    "duration": 57,
    "start_time": "2021-09-30T03:42:31.092Z"
   },
   {
    "duration": 21,
    "start_time": "2021-09-30T03:42:31.151Z"
   },
   {
    "duration": 48,
    "start_time": "2021-09-30T03:42:31.175Z"
   },
   {
    "duration": 372,
    "start_time": "2021-09-30T03:42:31.225Z"
   },
   {
    "duration": 10,
    "start_time": "2021-09-30T03:42:31.599Z"
   },
   {
    "duration": 515,
    "start_time": "2021-09-30T03:42:31.622Z"
   },
   {
    "duration": 11,
    "start_time": "2021-09-30T03:42:32.139Z"
   },
   {
    "duration": 524,
    "start_time": "2021-09-30T03:42:32.153Z"
   },
   {
    "duration": 46,
    "start_time": "2021-09-30T03:42:32.679Z"
   },
   {
    "duration": 192,
    "start_time": "2021-09-30T03:42:32.727Z"
   },
   {
    "duration": 26,
    "start_time": "2021-09-30T03:42:32.921Z"
   },
   {
    "duration": 23,
    "start_time": "2021-09-30T03:42:32.949Z"
   },
   {
    "duration": 49,
    "start_time": "2021-09-30T03:42:32.975Z"
   },
   {
    "duration": 11,
    "start_time": "2021-09-30T03:42:33.027Z"
   },
   {
    "duration": 30,
    "start_time": "2021-09-30T03:42:33.040Z"
   },
   {
    "duration": 44,
    "start_time": "2021-09-30T03:42:33.073Z"
   },
   {
    "duration": 26,
    "start_time": "2021-09-30T03:42:33.119Z"
   },
   {
    "duration": 1333,
    "start_time": "2021-09-30T03:48:45.139Z"
   },
   {
    "duration": 5,
    "start_time": "2021-09-30T03:48:46.475Z"
   },
   {
    "duration": 382,
    "start_time": "2021-09-30T03:48:46.485Z"
   },
   {
    "duration": 22,
    "start_time": "2021-09-30T03:48:46.870Z"
   },
   {
    "duration": 16,
    "start_time": "2021-09-30T03:48:46.895Z"
   },
   {
    "duration": 13,
    "start_time": "2021-09-30T03:48:46.923Z"
   },
   {
    "duration": 136,
    "start_time": "2021-09-30T03:48:46.940Z"
   },
   {
    "duration": 42,
    "start_time": "2021-09-30T03:48:47.082Z"
   },
   {
    "duration": 14,
    "start_time": "2021-09-30T03:48:47.128Z"
   },
   {
    "duration": 159,
    "start_time": "2021-09-30T03:48:47.144Z"
   },
   {
    "duration": 24,
    "start_time": "2021-09-30T03:48:47.306Z"
   },
   {
    "duration": 142,
    "start_time": "2021-09-30T03:48:47.332Z"
   },
   {
    "duration": 15,
    "start_time": "2021-09-30T03:48:47.476Z"
   },
   {
    "duration": 37,
    "start_time": "2021-09-30T03:48:47.495Z"
   },
   {
    "duration": 119,
    "start_time": "2021-09-30T03:48:47.535Z"
   },
   {
    "duration": 11,
    "start_time": "2021-09-30T03:48:47.658Z"
   },
   {
    "duration": 95,
    "start_time": "2021-09-30T03:48:47.672Z"
   },
   {
    "duration": 16,
    "start_time": "2021-09-30T03:48:47.769Z"
   },
   {
    "duration": 53,
    "start_time": "2021-09-30T03:48:47.787Z"
   },
   {
    "duration": 113,
    "start_time": "2021-09-30T03:48:47.843Z"
   },
   {
    "duration": 44,
    "start_time": "2021-09-30T03:48:47.959Z"
   },
   {
    "duration": 18,
    "start_time": "2021-09-30T03:48:48.022Z"
   },
   {
    "duration": 14,
    "start_time": "2021-09-30T03:48:48.047Z"
   },
   {
    "duration": 179,
    "start_time": "2021-09-30T03:48:48.065Z"
   },
   {
    "duration": 38,
    "start_time": "2021-09-30T03:48:48.247Z"
   },
   {
    "duration": 1052,
    "start_time": "2021-09-30T03:48:48.287Z"
   },
   {
    "duration": 11,
    "start_time": "2021-09-30T03:48:49.342Z"
   },
   {
    "duration": 13,
    "start_time": "2021-09-30T03:48:49.356Z"
   },
   {
    "duration": 53,
    "start_time": "2021-09-30T03:48:49.371Z"
   },
   {
    "duration": 223,
    "start_time": "2021-09-30T03:48:49.426Z"
   },
   {
    "duration": 12,
    "start_time": "2021-09-30T03:48:49.652Z"
   },
   {
    "duration": 10,
    "start_time": "2021-09-30T03:48:49.666Z"
   },
   {
    "duration": 45,
    "start_time": "2021-09-30T03:48:49.678Z"
   },
   {
    "duration": 232,
    "start_time": "2021-09-30T03:48:49.725Z"
   },
   {
    "duration": 222,
    "start_time": "2021-09-30T03:48:49.959Z"
   },
   {
    "duration": 12,
    "start_time": "2021-09-30T03:48:50.184Z"
   },
   {
    "duration": 27,
    "start_time": "2021-09-30T03:48:50.198Z"
   },
   {
    "duration": 16,
    "start_time": "2021-09-30T03:48:50.227Z"
   },
   {
    "duration": 260,
    "start_time": "2021-09-30T03:48:50.245Z"
   },
   {
    "duration": 20,
    "start_time": "2021-09-30T03:48:50.508Z"
   },
   {
    "duration": 30,
    "start_time": "2021-09-30T03:48:50.530Z"
   },
   {
    "duration": 16,
    "start_time": "2021-09-30T03:48:50.562Z"
   },
   {
    "duration": 12,
    "start_time": "2021-09-30T03:48:50.580Z"
   },
   {
    "duration": 23,
    "start_time": "2021-09-30T03:48:50.623Z"
   },
   {
    "duration": 22,
    "start_time": "2021-09-30T03:48:50.648Z"
   },
   {
    "duration": 52,
    "start_time": "2021-09-30T03:48:50.672Z"
   },
   {
    "duration": 9,
    "start_time": "2021-09-30T03:48:50.726Z"
   },
   {
    "duration": 10,
    "start_time": "2021-09-30T03:48:50.738Z"
   },
   {
    "duration": 11,
    "start_time": "2021-09-30T03:48:50.750Z"
   },
   {
    "duration": 75,
    "start_time": "2021-09-30T03:48:50.764Z"
   },
   {
    "duration": 19,
    "start_time": "2021-09-30T03:48:50.841Z"
   },
   {
    "duration": 15,
    "start_time": "2021-09-30T03:48:50.863Z"
   },
   {
    "duration": 57,
    "start_time": "2021-09-30T03:48:50.881Z"
   },
   {
    "duration": 16,
    "start_time": "2021-09-30T03:48:50.940Z"
   },
   {
    "duration": 11,
    "start_time": "2021-09-30T03:48:50.959Z"
   },
   {
    "duration": 54,
    "start_time": "2021-09-30T03:48:50.973Z"
   },
   {
    "duration": 97,
    "start_time": "2021-09-30T03:48:51.030Z"
   },
   {
    "duration": 8,
    "start_time": "2021-09-30T03:48:51.129Z"
   },
   {
    "duration": 57,
    "start_time": "2021-09-30T03:48:51.140Z"
   },
   {
    "duration": 215,
    "start_time": "2021-09-30T03:48:51.223Z"
   },
   {
    "duration": 62,
    "start_time": "2021-09-30T03:48:51.441Z"
   },
   {
    "duration": 23,
    "start_time": "2021-09-30T03:48:51.505Z"
   },
   {
    "duration": 17,
    "start_time": "2021-09-30T03:48:51.530Z"
   },
   {
    "duration": 131,
    "start_time": "2021-09-30T03:48:51.550Z"
   },
   {
    "duration": 105,
    "start_time": "2021-09-30T03:48:51.684Z"
   },
   {
    "duration": 45,
    "start_time": "2021-09-30T03:48:51.791Z"
   },
   {
    "duration": 30,
    "start_time": "2021-09-30T03:48:51.838Z"
   },
   {
    "duration": 47,
    "start_time": "2021-09-30T03:48:51.876Z"
   },
   {
    "duration": 37,
    "start_time": "2021-09-30T03:48:51.926Z"
   },
   {
    "duration": 81,
    "start_time": "2021-09-30T03:48:51.966Z"
   },
   {
    "duration": 22,
    "start_time": "2021-09-30T03:48:52.050Z"
   },
   {
    "duration": 11,
    "start_time": "2021-09-30T03:48:52.074Z"
   },
   {
    "duration": 374,
    "start_time": "2021-09-30T03:48:52.088Z"
   },
   {
    "duration": 9,
    "start_time": "2021-09-30T03:48:52.465Z"
   },
   {
    "duration": 502,
    "start_time": "2021-09-30T03:48:52.476Z"
   },
   {
    "duration": 9,
    "start_time": "2021-09-30T03:48:52.981Z"
   },
   {
    "duration": 371,
    "start_time": "2021-09-30T03:48:52.993Z"
   },
   {
    "duration": 33,
    "start_time": "2021-09-30T03:48:53.367Z"
   },
   {
    "duration": 225,
    "start_time": "2021-09-30T03:48:53.403Z"
   },
   {
    "duration": 25,
    "start_time": "2021-09-30T03:48:53.631Z"
   },
   {
    "duration": 24,
    "start_time": "2021-09-30T03:48:53.658Z"
   },
   {
    "duration": 49,
    "start_time": "2021-09-30T03:48:53.684Z"
   },
   {
    "duration": 8,
    "start_time": "2021-09-30T03:48:53.735Z"
   },
   {
    "duration": 14,
    "start_time": "2021-09-30T03:48:53.745Z"
   },
   {
    "duration": 23,
    "start_time": "2021-09-30T03:48:53.761Z"
   },
   {
    "duration": 9,
    "start_time": "2021-09-30T03:48:53.823Z"
   },
   {
    "duration": 1355,
    "start_time": "2021-09-30T03:59:34.409Z"
   },
   {
    "duration": 3,
    "start_time": "2021-09-30T03:59:35.767Z"
   },
   {
    "duration": 386,
    "start_time": "2021-09-30T03:59:35.774Z"
   },
   {
    "duration": 19,
    "start_time": "2021-09-30T03:59:36.163Z"
   },
   {
    "duration": 15,
    "start_time": "2021-09-30T03:59:36.185Z"
   },
   {
    "duration": 21,
    "start_time": "2021-09-30T03:59:36.203Z"
   },
   {
    "duration": 128,
    "start_time": "2021-09-30T03:59:36.228Z"
   },
   {
    "duration": 19,
    "start_time": "2021-09-30T03:59:36.360Z"
   },
   {
    "duration": 11,
    "start_time": "2021-09-30T03:59:36.382Z"
   },
   {
    "duration": 130,
    "start_time": "2021-09-30T03:59:36.423Z"
   },
   {
    "duration": 11,
    "start_time": "2021-09-30T03:59:36.556Z"
   },
   {
    "duration": 142,
    "start_time": "2021-09-30T03:59:36.569Z"
   },
   {
    "duration": 22,
    "start_time": "2021-09-30T03:59:36.713Z"
   },
   {
    "duration": 11,
    "start_time": "2021-09-30T03:59:36.737Z"
   },
   {
    "duration": 125,
    "start_time": "2021-09-30T03:59:36.750Z"
   },
   {
    "duration": 11,
    "start_time": "2021-09-30T03:59:36.877Z"
   },
   {
    "duration": 86,
    "start_time": "2021-09-30T03:59:36.890Z"
   },
   {
    "duration": 15,
    "start_time": "2021-09-30T03:59:36.978Z"
   },
   {
    "duration": 22,
    "start_time": "2021-09-30T03:59:37.022Z"
   },
   {
    "duration": 113,
    "start_time": "2021-09-30T03:59:37.046Z"
   },
   {
    "duration": 62,
    "start_time": "2021-09-30T03:59:37.162Z"
   },
   {
    "duration": 15,
    "start_time": "2021-09-30T03:59:37.226Z"
   },
   {
    "duration": 18,
    "start_time": "2021-09-30T03:59:37.248Z"
   },
   {
    "duration": 175,
    "start_time": "2021-09-30T03:59:37.269Z"
   },
   {
    "duration": 36,
    "start_time": "2021-09-30T03:59:37.446Z"
   },
   {
    "duration": 1043,
    "start_time": "2021-09-30T03:59:37.484Z"
   },
   {
    "duration": 12,
    "start_time": "2021-09-30T03:59:38.530Z"
   },
   {
    "duration": 13,
    "start_time": "2021-09-30T03:59:38.544Z"
   },
   {
    "duration": 18,
    "start_time": "2021-09-30T03:59:38.559Z"
   },
   {
    "duration": 264,
    "start_time": "2021-09-30T03:59:38.579Z"
   },
   {
    "duration": 12,
    "start_time": "2021-09-30T03:59:38.845Z"
   },
   {
    "duration": 9,
    "start_time": "2021-09-30T03:59:38.860Z"
   },
   {
    "duration": 19,
    "start_time": "2021-09-30T03:59:38.871Z"
   },
   {
    "duration": 236,
    "start_time": "2021-09-30T03:59:38.923Z"
   },
   {
    "duration": 228,
    "start_time": "2021-09-30T03:59:39.161Z"
   },
   {
    "duration": 12,
    "start_time": "2021-09-30T03:59:39.392Z"
   },
   {
    "duration": 13,
    "start_time": "2021-09-30T03:59:39.423Z"
   },
   {
    "duration": 15,
    "start_time": "2021-09-30T03:59:39.438Z"
   },
   {
    "duration": 270,
    "start_time": "2021-09-30T03:59:39.456Z"
   },
   {
    "duration": 15,
    "start_time": "2021-09-30T03:59:39.729Z"
   },
   {
    "duration": 35,
    "start_time": "2021-09-30T03:59:39.747Z"
   },
   {
    "duration": 46,
    "start_time": "2021-09-30T03:59:39.785Z"
   },
   {
    "duration": 9,
    "start_time": "2021-09-30T03:59:39.834Z"
   },
   {
    "duration": 27,
    "start_time": "2021-09-30T03:59:39.845Z"
   },
   {
    "duration": 62,
    "start_time": "2021-09-30T03:59:39.875Z"
   },
   {
    "duration": 21,
    "start_time": "2021-09-30T03:59:39.940Z"
   },
   {
    "duration": 12,
    "start_time": "2021-09-30T03:59:39.964Z"
   },
   {
    "duration": 54,
    "start_time": "2021-09-30T03:59:39.978Z"
   },
   {
    "duration": 20,
    "start_time": "2021-09-30T03:59:40.035Z"
   },
   {
    "duration": 46,
    "start_time": "2021-09-30T03:59:40.058Z"
   },
   {
    "duration": 32,
    "start_time": "2021-09-30T03:59:40.107Z"
   },
   {
    "duration": 31,
    "start_time": "2021-09-30T03:59:40.141Z"
   },
   {
    "duration": 25,
    "start_time": "2021-09-30T03:59:40.174Z"
   },
   {
    "duration": 31,
    "start_time": "2021-09-30T03:59:40.201Z"
   },
   {
    "duration": 27,
    "start_time": "2021-09-30T03:59:40.235Z"
   },
   {
    "duration": 33,
    "start_time": "2021-09-30T03:59:40.264Z"
   },
   {
    "duration": 103,
    "start_time": "2021-09-30T03:59:40.299Z"
   },
   {
    "duration": 8,
    "start_time": "2021-09-30T03:59:40.404Z"
   },
   {
    "duration": 56,
    "start_time": "2021-09-30T03:59:40.422Z"
   },
   {
    "duration": 222,
    "start_time": "2021-09-30T03:59:40.481Z"
   },
   {
    "duration": 71,
    "start_time": "2021-09-30T03:59:40.705Z"
   },
   {
    "duration": 10,
    "start_time": "2021-09-30T03:59:40.778Z"
   },
   {
    "duration": 35,
    "start_time": "2021-09-30T03:59:40.790Z"
   },
   {
    "duration": 115,
    "start_time": "2021-09-30T03:59:40.828Z"
   },
   {
    "duration": 157,
    "start_time": "2021-09-30T03:59:40.945Z"
   },
   {
    "duration": 39,
    "start_time": "2021-09-30T03:59:41.104Z"
   },
   {
    "duration": 30,
    "start_time": "2021-09-30T03:59:41.146Z"
   },
   {
    "duration": 54,
    "start_time": "2021-09-30T03:59:41.183Z"
   },
   {
    "duration": 37,
    "start_time": "2021-09-30T03:59:41.240Z"
   },
   {
    "duration": 76,
    "start_time": "2021-09-30T03:59:41.279Z"
   },
   {
    "duration": 20,
    "start_time": "2021-09-30T03:59:41.357Z"
   },
   {
    "duration": 15,
    "start_time": "2021-09-30T03:59:41.380Z"
   },
   {
    "duration": 470,
    "start_time": "2021-09-30T03:59:41.397Z"
   },
   {
    "duration": 10,
    "start_time": "2021-09-30T03:59:41.869Z"
   },
   {
    "duration": 622,
    "start_time": "2021-09-30T03:59:41.882Z"
   },
   {
    "duration": 20,
    "start_time": "2021-09-30T03:59:42.507Z"
   },
   {
    "duration": 371,
    "start_time": "2021-09-30T03:59:42.529Z"
   },
   {
    "duration": 42,
    "start_time": "2021-09-30T03:59:42.902Z"
   },
   {
    "duration": 200,
    "start_time": "2021-09-30T03:59:42.946Z"
   },
   {
    "duration": 27,
    "start_time": "2021-09-30T03:59:43.149Z"
   },
   {
    "duration": 50,
    "start_time": "2021-09-30T03:59:43.179Z"
   },
   {
    "duration": 21,
    "start_time": "2021-09-30T03:59:43.232Z"
   },
   {
    "duration": 8,
    "start_time": "2021-09-30T03:59:43.256Z"
   },
   {
    "duration": 9,
    "start_time": "2021-09-30T03:59:43.266Z"
   },
   {
    "duration": 57,
    "start_time": "2021-09-30T03:59:43.277Z"
   },
   {
    "duration": 8,
    "start_time": "2021-09-30T03:59:43.336Z"
   },
   {
    "duration": 180,
    "start_time": "2021-09-30T04:14:51.945Z"
   },
   {
    "duration": 396,
    "start_time": "2021-09-30T04:34:55.242Z"
   },
   {
    "duration": 283,
    "start_time": "2021-09-30T04:35:08.706Z"
   },
   {
    "duration": 287,
    "start_time": "2021-09-30T04:35:18.822Z"
   },
   {
    "duration": 1469,
    "start_time": "2021-09-30T04:43:32.814Z"
   },
   {
    "duration": 4,
    "start_time": "2021-09-30T04:43:34.286Z"
   },
   {
    "duration": 385,
    "start_time": "2021-09-30T04:43:34.293Z"
   },
   {
    "duration": 55,
    "start_time": "2021-09-30T04:43:34.682Z"
   },
   {
    "duration": 54,
    "start_time": "2021-09-30T04:43:34.755Z"
   },
   {
    "duration": 53,
    "start_time": "2021-09-30T04:43:34.827Z"
   },
   {
    "duration": 277,
    "start_time": "2021-09-30T04:43:34.883Z"
   },
   {
    "duration": 19,
    "start_time": "2021-09-30T04:43:35.165Z"
   },
   {
    "duration": 39,
    "start_time": "2021-09-30T04:43:35.188Z"
   },
   {
    "duration": 131,
    "start_time": "2021-09-30T04:43:35.230Z"
   },
   {
    "duration": 12,
    "start_time": "2021-09-30T04:43:35.363Z"
   },
   {
    "duration": 157,
    "start_time": "2021-09-30T04:43:35.377Z"
   },
   {
    "duration": 15,
    "start_time": "2021-09-30T04:43:35.537Z"
   },
   {
    "duration": 29,
    "start_time": "2021-09-30T04:43:35.555Z"
   },
   {
    "duration": 124,
    "start_time": "2021-09-30T04:43:35.586Z"
   },
   {
    "duration": 13,
    "start_time": "2021-09-30T04:43:35.722Z"
   },
   {
    "duration": 91,
    "start_time": "2021-09-30T04:43:35.737Z"
   },
   {
    "duration": 15,
    "start_time": "2021-09-30T04:43:35.830Z"
   },
   {
    "duration": 58,
    "start_time": "2021-09-30T04:43:35.848Z"
   },
   {
    "duration": 112,
    "start_time": "2021-09-30T04:43:35.909Z"
   },
   {
    "duration": 44,
    "start_time": "2021-09-30T04:43:36.024Z"
   },
   {
    "duration": 15,
    "start_time": "2021-09-30T04:43:36.071Z"
   },
   {
    "duration": 50,
    "start_time": "2021-09-30T04:43:36.094Z"
   },
   {
    "duration": 175,
    "start_time": "2021-09-30T04:43:36.147Z"
   },
   {
    "duration": 35,
    "start_time": "2021-09-30T04:43:36.324Z"
   },
   {
    "duration": 1005,
    "start_time": "2021-09-30T04:43:36.362Z"
   },
   {
    "duration": 11,
    "start_time": "2021-09-30T04:43:37.370Z"
   },
   {
    "duration": 41,
    "start_time": "2021-09-30T04:43:37.384Z"
   },
   {
    "duration": 39,
    "start_time": "2021-09-30T04:43:37.428Z"
   },
   {
    "duration": 222,
    "start_time": "2021-09-30T04:43:37.470Z"
   },
   {
    "duration": 29,
    "start_time": "2021-09-30T04:43:37.694Z"
   },
   {
    "duration": 13,
    "start_time": "2021-09-30T04:43:37.726Z"
   },
   {
    "duration": 53,
    "start_time": "2021-09-30T04:43:37.741Z"
   },
   {
    "duration": 255,
    "start_time": "2021-09-30T04:43:37.797Z"
   },
   {
    "duration": 227,
    "start_time": "2021-09-30T04:43:38.054Z"
   },
   {
    "duration": 11,
    "start_time": "2021-09-30T04:43:38.284Z"
   },
   {
    "duration": 34,
    "start_time": "2021-09-30T04:43:38.298Z"
   },
   {
    "duration": 21,
    "start_time": "2021-09-30T04:43:38.334Z"
   },
   {
    "duration": 274,
    "start_time": "2021-09-30T04:43:38.357Z"
   },
   {
    "duration": 15,
    "start_time": "2021-09-30T04:43:38.634Z"
   },
   {
    "duration": 48,
    "start_time": "2021-09-30T04:43:38.651Z"
   },
   {
    "duration": 45,
    "start_time": "2021-09-30T04:43:38.702Z"
   },
   {
    "duration": 27,
    "start_time": "2021-09-30T04:43:38.749Z"
   },
   {
    "duration": 51,
    "start_time": "2021-09-30T04:43:38.779Z"
   },
   {
    "duration": 22,
    "start_time": "2021-09-30T04:43:38.832Z"
   },
   {
    "duration": 27,
    "start_time": "2021-09-30T04:43:38.856Z"
   },
   {
    "duration": 30,
    "start_time": "2021-09-30T04:43:38.886Z"
   },
   {
    "duration": 34,
    "start_time": "2021-09-30T04:43:38.918Z"
   },
   {
    "duration": 33,
    "start_time": "2021-09-30T04:43:38.955Z"
   },
   {
    "duration": 38,
    "start_time": "2021-09-30T04:43:38.990Z"
   },
   {
    "duration": 26,
    "start_time": "2021-09-30T04:43:39.030Z"
   },
   {
    "duration": 27,
    "start_time": "2021-09-30T04:43:39.058Z"
   },
   {
    "duration": 35,
    "start_time": "2021-09-30T04:43:39.088Z"
   },
   {
    "duration": 25,
    "start_time": "2021-09-30T04:43:39.125Z"
   },
   {
    "duration": 24,
    "start_time": "2021-09-30T04:43:39.152Z"
   },
   {
    "duration": 36,
    "start_time": "2021-09-30T04:43:39.179Z"
   },
   {
    "duration": 113,
    "start_time": "2021-09-30T04:43:39.218Z"
   },
   {
    "duration": 10,
    "start_time": "2021-09-30T04:43:39.335Z"
   },
   {
    "duration": 79,
    "start_time": "2021-09-30T04:43:39.348Z"
   },
   {
    "duration": 218,
    "start_time": "2021-09-30T04:43:39.429Z"
   },
   {
    "duration": 75,
    "start_time": "2021-09-30T04:43:39.649Z"
   },
   {
    "duration": 11,
    "start_time": "2021-09-30T04:43:39.727Z"
   },
   {
    "duration": 41,
    "start_time": "2021-09-30T04:43:39.740Z"
   },
   {
    "duration": 118,
    "start_time": "2021-09-30T04:43:39.784Z"
   },
   {
    "duration": 117,
    "start_time": "2021-09-30T04:43:39.905Z"
   },
   {
    "duration": 29,
    "start_time": "2021-09-30T04:43:40.024Z"
   },
   {
    "duration": 52,
    "start_time": "2021-09-30T04:43:40.055Z"
   },
   {
    "duration": 34,
    "start_time": "2021-09-30T04:43:40.114Z"
   },
   {
    "duration": 51,
    "start_time": "2021-09-30T04:43:40.151Z"
   },
   {
    "duration": 52,
    "start_time": "2021-09-30T04:43:40.205Z"
   },
   {
    "duration": 19,
    "start_time": "2021-09-30T04:43:40.259Z"
   },
   {
    "duration": 54,
    "start_time": "2021-09-30T04:43:40.281Z"
   },
   {
    "duration": 360,
    "start_time": "2021-09-30T04:43:40.337Z"
   },
   {
    "duration": 22,
    "start_time": "2021-09-30T04:43:40.700Z"
   },
   {
    "duration": 531,
    "start_time": "2021-09-30T04:43:40.724Z"
   },
   {
    "duration": 11,
    "start_time": "2021-09-30T04:43:41.258Z"
   },
   {
    "duration": 368,
    "start_time": "2021-09-30T04:43:41.271Z"
   },
   {
    "duration": 34,
    "start_time": "2021-09-30T04:43:41.641Z"
   },
   {
    "duration": 214,
    "start_time": "2021-09-30T04:43:41.677Z"
   },
   {
    "duration": 34,
    "start_time": "2021-09-30T04:43:41.893Z"
   },
   {
    "duration": 24,
    "start_time": "2021-09-30T04:43:41.929Z"
   },
   {
    "duration": 40,
    "start_time": "2021-09-30T04:43:41.955Z"
   },
   {
    "duration": 29,
    "start_time": "2021-09-30T04:43:41.997Z"
   },
   {
    "duration": 15,
    "start_time": "2021-09-30T04:43:42.028Z"
   },
   {
    "duration": 34,
    "start_time": "2021-09-30T04:43:42.045Z"
   },
   {
    "duration": 23,
    "start_time": "2021-09-30T04:43:42.082Z"
   },
   {
    "duration": 1344,
    "start_time": "2021-09-30T04:47:23.431Z"
   },
   {
    "duration": 4,
    "start_time": "2021-09-30T04:47:24.778Z"
   },
   {
    "duration": 383,
    "start_time": "2021-09-30T04:47:24.785Z"
   },
   {
    "duration": 21,
    "start_time": "2021-09-30T04:47:25.171Z"
   },
   {
    "duration": 16,
    "start_time": "2021-09-30T04:47:25.195Z"
   },
   {
    "duration": 19,
    "start_time": "2021-09-30T04:47:25.213Z"
   },
   {
    "duration": 129,
    "start_time": "2021-09-30T04:47:25.235Z"
   },
   {
    "duration": 18,
    "start_time": "2021-09-30T04:47:25.368Z"
   },
   {
    "duration": 37,
    "start_time": "2021-09-30T04:47:25.389Z"
   },
   {
    "duration": 138,
    "start_time": "2021-09-30T04:47:25.428Z"
   },
   {
    "duration": 12,
    "start_time": "2021-09-30T04:47:25.569Z"
   },
   {
    "duration": 141,
    "start_time": "2021-09-30T04:47:25.583Z"
   },
   {
    "duration": 18,
    "start_time": "2021-09-30T04:47:25.727Z"
   },
   {
    "duration": 13,
    "start_time": "2021-09-30T04:47:25.748Z"
   },
   {
    "duration": 138,
    "start_time": "2021-09-30T04:47:25.764Z"
   },
   {
    "duration": 25,
    "start_time": "2021-09-30T04:47:25.906Z"
   },
   {
    "duration": 95,
    "start_time": "2021-09-30T04:47:25.934Z"
   },
   {
    "duration": 26,
    "start_time": "2021-09-30T04:47:26.032Z"
   },
   {
    "duration": 31,
    "start_time": "2021-09-30T04:47:26.061Z"
   },
   {
    "duration": 127,
    "start_time": "2021-09-30T04:47:26.095Z"
   },
   {
    "duration": 45,
    "start_time": "2021-09-30T04:47:26.225Z"
   },
   {
    "duration": 17,
    "start_time": "2021-09-30T04:47:26.272Z"
   },
   {
    "duration": 14,
    "start_time": "2021-09-30T04:47:26.325Z"
   },
   {
    "duration": 194,
    "start_time": "2021-09-30T04:47:26.343Z"
   },
   {
    "duration": 36,
    "start_time": "2021-09-30T04:47:26.539Z"
   },
   {
    "duration": 1018,
    "start_time": "2021-09-30T04:47:26.577Z"
   },
   {
    "duration": 24,
    "start_time": "2021-09-30T04:47:27.598Z"
   },
   {
    "duration": 14,
    "start_time": "2021-09-30T04:47:27.625Z"
   },
   {
    "duration": 19,
    "start_time": "2021-09-30T04:47:27.642Z"
   },
   {
    "duration": 258,
    "start_time": "2021-09-30T04:47:27.664Z"
   },
   {
    "duration": 11,
    "start_time": "2021-09-30T04:47:27.925Z"
   },
   {
    "duration": 16,
    "start_time": "2021-09-30T04:47:27.939Z"
   },
   {
    "duration": 31,
    "start_time": "2021-09-30T04:47:27.958Z"
   },
   {
    "duration": 236,
    "start_time": "2021-09-30T04:47:27.992Z"
   },
   {
    "duration": 227,
    "start_time": "2021-09-30T04:47:28.231Z"
   },
   {
    "duration": 12,
    "start_time": "2021-09-30T04:47:28.460Z"
   },
   {
    "duration": 10,
    "start_time": "2021-09-30T04:47:28.474Z"
   },
   {
    "duration": 42,
    "start_time": "2021-09-30T04:47:28.487Z"
   },
   {
    "duration": 257,
    "start_time": "2021-09-30T04:47:28.532Z"
   },
   {
    "duration": 31,
    "start_time": "2021-09-30T04:47:28.791Z"
   },
   {
    "duration": 35,
    "start_time": "2021-09-30T04:47:28.825Z"
   },
   {
    "duration": 32,
    "start_time": "2021-09-30T04:47:28.862Z"
   },
   {
    "duration": 22,
    "start_time": "2021-09-30T04:47:28.896Z"
   },
   {
    "duration": 36,
    "start_time": "2021-09-30T04:47:28.920Z"
   },
   {
    "duration": 23,
    "start_time": "2021-09-30T04:47:28.958Z"
   },
   {
    "duration": 18,
    "start_time": "2021-09-30T04:47:28.984Z"
   },
   {
    "duration": 9,
    "start_time": "2021-09-30T04:47:29.023Z"
   },
   {
    "duration": 31,
    "start_time": "2021-09-30T04:47:29.034Z"
   },
   {
    "duration": 24,
    "start_time": "2021-09-30T04:47:29.067Z"
   },
   {
    "duration": 28,
    "start_time": "2021-09-30T04:47:29.094Z"
   },
   {
    "duration": 18,
    "start_time": "2021-09-30T04:47:29.124Z"
   },
   {
    "duration": 24,
    "start_time": "2021-09-30T04:47:29.145Z"
   },
   {
    "duration": 15,
    "start_time": "2021-09-30T04:47:29.171Z"
   },
   {
    "duration": 48,
    "start_time": "2021-09-30T04:47:29.189Z"
   },
   {
    "duration": 14,
    "start_time": "2021-09-30T04:47:29.239Z"
   },
   {
    "duration": 14,
    "start_time": "2021-09-30T04:47:29.256Z"
   },
   {
    "duration": 103,
    "start_time": "2021-09-30T04:47:29.272Z"
   },
   {
    "duration": 9,
    "start_time": "2021-09-30T04:47:29.377Z"
   },
   {
    "duration": 77,
    "start_time": "2021-09-30T04:47:29.389Z"
   },
   {
    "duration": 215,
    "start_time": "2021-09-30T04:47:29.468Z"
   },
   {
    "duration": 76,
    "start_time": "2021-09-30T04:47:29.685Z"
   },
   {
    "duration": 11,
    "start_time": "2021-09-30T04:47:29.763Z"
   },
   {
    "duration": 25,
    "start_time": "2021-09-30T04:47:29.777Z"
   },
   {
    "duration": 128,
    "start_time": "2021-09-30T04:47:29.805Z"
   },
   {
    "duration": 121,
    "start_time": "2021-09-30T04:47:29.935Z"
   },
   {
    "duration": 29,
    "start_time": "2021-09-30T04:47:30.058Z"
   },
   {
    "duration": 58,
    "start_time": "2021-09-30T04:47:30.089Z"
   },
   {
    "duration": 26,
    "start_time": "2021-09-30T04:47:30.156Z"
   },
   {
    "duration": 64,
    "start_time": "2021-09-30T04:47:30.185Z"
   },
   {
    "duration": 53,
    "start_time": "2021-09-30T04:47:30.251Z"
   },
   {
    "duration": 26,
    "start_time": "2021-09-30T04:47:30.306Z"
   },
   {
    "duration": 36,
    "start_time": "2021-09-30T04:47:30.334Z"
   },
   {
    "duration": 370,
    "start_time": "2021-09-30T04:47:30.372Z"
   },
   {
    "duration": 1231,
    "start_time": "2021-09-30T18:33:26.047Z"
   },
   {
    "duration": 3,
    "start_time": "2021-09-30T18:33:27.280Z"
   },
   {
    "duration": 420,
    "start_time": "2021-09-30T18:33:27.286Z"
   },
   {
    "duration": 22,
    "start_time": "2021-09-30T18:33:27.709Z"
   },
   {
    "duration": 15,
    "start_time": "2021-09-30T18:33:27.733Z"
   },
   {
    "duration": 13,
    "start_time": "2021-09-30T18:33:27.750Z"
   },
   {
    "duration": 90,
    "start_time": "2021-09-30T18:33:27.776Z"
   },
   {
    "duration": 16,
    "start_time": "2021-09-30T18:33:27.877Z"
   },
   {
    "duration": 10,
    "start_time": "2021-09-30T18:33:27.896Z"
   },
   {
    "duration": 131,
    "start_time": "2021-09-30T18:33:27.909Z"
   },
   {
    "duration": 10,
    "start_time": "2021-09-30T18:33:28.042Z"
   },
   {
    "duration": 113,
    "start_time": "2021-09-30T18:33:28.076Z"
   },
   {
    "duration": 14,
    "start_time": "2021-09-30T18:33:28.190Z"
   },
   {
    "duration": 9,
    "start_time": "2021-09-30T18:33:28.205Z"
   },
   {
    "duration": 104,
    "start_time": "2021-09-30T18:33:28.216Z"
   },
   {
    "duration": 8,
    "start_time": "2021-09-30T18:33:28.322Z"
   },
   {
    "duration": 68,
    "start_time": "2021-09-30T18:33:28.332Z"
   },
   {
    "duration": 61,
    "start_time": "2021-09-30T18:33:28.402Z"
   },
   {
    "duration": 18,
    "start_time": "2021-09-30T18:33:28.465Z"
   },
   {
    "duration": 76,
    "start_time": "2021-09-30T18:33:28.486Z"
   },
   {
    "duration": 43,
    "start_time": "2021-09-30T18:33:28.564Z"
   },
   {
    "duration": 11,
    "start_time": "2021-09-30T18:33:28.609Z"
   },
   {
    "duration": 12,
    "start_time": "2021-09-30T18:33:28.622Z"
   },
   {
    "duration": 184,
    "start_time": "2021-09-30T18:33:28.635Z"
   },
   {
    "duration": 57,
    "start_time": "2021-09-30T18:33:28.821Z"
   },
   {
    "duration": 687,
    "start_time": "2021-09-30T18:33:28.879Z"
   },
   {
    "duration": 13,
    "start_time": "2021-09-30T18:33:29.580Z"
   },
   {
    "duration": 14,
    "start_time": "2021-09-30T18:33:29.597Z"
   },
   {
    "duration": 20,
    "start_time": "2021-09-30T18:33:29.613Z"
   },
   {
    "duration": 248,
    "start_time": "2021-09-30T18:33:29.636Z"
   },
   {
    "duration": 13,
    "start_time": "2021-09-30T18:33:29.886Z"
   },
   {
    "duration": 9,
    "start_time": "2021-09-30T18:33:29.901Z"
   },
   {
    "duration": 16,
    "start_time": "2021-09-30T18:33:29.912Z"
   },
   {
    "duration": 197,
    "start_time": "2021-09-30T18:33:29.930Z"
   },
   {
    "duration": 161,
    "start_time": "2021-09-30T18:33:30.129Z"
   },
   {
    "duration": 10,
    "start_time": "2021-09-30T18:33:30.292Z"
   },
   {
    "duration": 9,
    "start_time": "2021-09-30T18:33:30.304Z"
   },
   {
    "duration": 12,
    "start_time": "2021-09-30T18:33:30.316Z"
   },
   {
    "duration": 200,
    "start_time": "2021-09-30T18:33:30.330Z"
   },
   {
    "duration": 11,
    "start_time": "2021-09-30T18:33:30.532Z"
   },
   {
    "duration": 41,
    "start_time": "2021-09-30T18:33:30.545Z"
   },
   {
    "duration": 11,
    "start_time": "2021-09-30T18:33:30.588Z"
   },
   {
    "duration": 31,
    "start_time": "2021-09-30T18:33:30.601Z"
   },
   {
    "duration": 28,
    "start_time": "2021-09-30T18:33:30.634Z"
   },
   {
    "duration": 24,
    "start_time": "2021-09-30T18:33:30.664Z"
   },
   {
    "duration": 19,
    "start_time": "2021-09-30T18:33:30.690Z"
   },
   {
    "duration": 8,
    "start_time": "2021-09-30T18:33:30.710Z"
   },
   {
    "duration": 12,
    "start_time": "2021-09-30T18:33:30.720Z"
   },
   {
    "duration": 43,
    "start_time": "2021-09-30T18:33:30.735Z"
   },
   {
    "duration": 19,
    "start_time": "2021-09-30T18:33:30.780Z"
   },
   {
    "duration": 17,
    "start_time": "2021-09-30T18:33:30.801Z"
   },
   {
    "duration": 16,
    "start_time": "2021-09-30T18:33:30.820Z"
   },
   {
    "duration": 13,
    "start_time": "2021-09-30T18:33:30.877Z"
   },
   {
    "duration": 29,
    "start_time": "2021-09-30T18:33:30.892Z"
   },
   {
    "duration": 14,
    "start_time": "2021-09-30T18:33:30.923Z"
   },
   {
    "duration": 19,
    "start_time": "2021-09-30T18:33:30.939Z"
   },
   {
    "duration": 69,
    "start_time": "2021-09-30T18:33:30.960Z"
   },
   {
    "duration": 7,
    "start_time": "2021-09-30T18:33:31.031Z"
   },
   {
    "duration": 69,
    "start_time": "2021-09-30T18:33:31.040Z"
   },
   {
    "duration": 259,
    "start_time": "2021-09-30T18:33:31.112Z"
   },
   {
    "duration": 73,
    "start_time": "2021-09-30T18:33:31.377Z"
   },
   {
    "duration": 25,
    "start_time": "2021-09-30T18:33:31.452Z"
   },
   {
    "duration": 8,
    "start_time": "2021-09-30T18:33:31.479Z"
   },
   {
    "duration": 87,
    "start_time": "2021-09-30T18:33:31.489Z"
   },
   {
    "duration": 124,
    "start_time": "2021-09-30T18:33:31.579Z"
   },
   {
    "duration": 20,
    "start_time": "2021-09-30T18:33:31.705Z"
   },
   {
    "duration": 18,
    "start_time": "2021-09-30T18:33:31.727Z"
   },
   {
    "duration": 47,
    "start_time": "2021-09-30T18:33:31.747Z"
   },
   {
    "duration": 30,
    "start_time": "2021-09-30T18:33:31.795Z"
   },
   {
    "duration": 60,
    "start_time": "2021-09-30T18:33:31.827Z"
   },
   {
    "duration": 20,
    "start_time": "2021-09-30T18:33:31.890Z"
   },
   {
    "duration": 19,
    "start_time": "2021-09-30T18:33:31.912Z"
   },
   {
    "duration": 336,
    "start_time": "2021-09-30T18:33:31.933Z"
   },
   {
    "duration": 11,
    "start_time": "2021-09-30T18:33:32.271Z"
   },
   {
    "duration": 379,
    "start_time": "2021-09-30T18:33:32.285Z"
   },
   {
    "duration": 14,
    "start_time": "2021-09-30T18:33:32.666Z"
   },
   {
    "duration": 388,
    "start_time": "2021-09-30T18:33:32.683Z"
   },
   {
    "duration": 35,
    "start_time": "2021-09-30T18:33:33.078Z"
   },
   {
    "duration": 164,
    "start_time": "2021-09-30T18:33:33.114Z"
   },
   {
    "duration": 30,
    "start_time": "2021-09-30T18:33:33.280Z"
   },
   {
    "duration": 17,
    "start_time": "2021-09-30T18:33:33.316Z"
   },
   {
    "duration": 46,
    "start_time": "2021-09-30T18:33:33.335Z"
   },
   {
    "duration": 6,
    "start_time": "2021-09-30T18:33:33.384Z"
   },
   {
    "duration": 7,
    "start_time": "2021-09-30T18:33:33.392Z"
   },
   {
    "duration": 16,
    "start_time": "2021-09-30T18:33:33.401Z"
   },
   {
    "duration": 7,
    "start_time": "2021-09-30T18:33:33.419Z"
   },
   {
    "duration": 1429,
    "start_time": "2021-09-30T23:23:42.550Z"
   },
   {
    "duration": 4,
    "start_time": "2021-09-30T23:23:43.982Z"
   },
   {
    "duration": 610,
    "start_time": "2021-09-30T23:23:43.990Z"
   },
   {
    "duration": 22,
    "start_time": "2021-09-30T23:23:44.603Z"
   },
   {
    "duration": 23,
    "start_time": "2021-09-30T23:23:44.628Z"
   },
   {
    "duration": 15,
    "start_time": "2021-09-30T23:23:44.654Z"
   },
   {
    "duration": 150,
    "start_time": "2021-09-30T23:23:44.672Z"
   },
   {
    "duration": 21,
    "start_time": "2021-09-30T23:23:44.827Z"
   },
   {
    "duration": 15,
    "start_time": "2021-09-30T23:23:44.852Z"
   },
   {
    "duration": 191,
    "start_time": "2021-09-30T23:23:44.869Z"
   },
   {
    "duration": 12,
    "start_time": "2021-09-30T23:23:45.062Z"
   },
   {
    "duration": 155,
    "start_time": "2021-09-30T23:23:45.076Z"
   },
   {
    "duration": 15,
    "start_time": "2021-09-30T23:23:45.233Z"
   },
   {
    "duration": 10,
    "start_time": "2021-09-30T23:23:45.251Z"
   },
   {
    "duration": 143,
    "start_time": "2021-09-30T23:23:45.263Z"
   },
   {
    "duration": 17,
    "start_time": "2021-09-30T23:23:45.408Z"
   },
   {
    "duration": 95,
    "start_time": "2021-09-30T23:23:45.427Z"
   },
   {
    "duration": 16,
    "start_time": "2021-09-30T23:23:45.524Z"
   },
   {
    "duration": 22,
    "start_time": "2021-09-30T23:23:45.542Z"
   },
   {
    "duration": 129,
    "start_time": "2021-09-30T23:23:45.567Z"
   },
   {
    "duration": 60,
    "start_time": "2021-09-30T23:23:45.698Z"
   },
   {
    "duration": 17,
    "start_time": "2021-09-30T23:23:45.760Z"
   },
   {
    "duration": 43,
    "start_time": "2021-09-30T23:23:45.784Z"
   },
   {
    "duration": 172,
    "start_time": "2021-09-30T23:23:45.831Z"
   },
   {
    "duration": 49,
    "start_time": "2021-09-30T23:23:46.006Z"
   },
   {
    "duration": 1019,
    "start_time": "2021-09-30T23:23:46.058Z"
   },
   {
    "duration": 11,
    "start_time": "2021-09-30T23:23:47.080Z"
   },
   {
    "duration": 34,
    "start_time": "2021-09-30T23:23:47.094Z"
   },
   {
    "duration": 19,
    "start_time": "2021-09-30T23:23:47.130Z"
   },
   {
    "duration": 258,
    "start_time": "2021-09-30T23:23:47.151Z"
   },
   {
    "duration": 21,
    "start_time": "2021-09-30T23:23:47.411Z"
   },
   {
    "duration": 10,
    "start_time": "2021-09-30T23:23:47.434Z"
   },
   {
    "duration": 16,
    "start_time": "2021-09-30T23:23:47.447Z"
   },
   {
    "duration": 287,
    "start_time": "2021-09-30T23:23:47.466Z"
   },
   {
    "duration": 236,
    "start_time": "2021-09-30T23:23:47.755Z"
   },
   {
    "duration": 28,
    "start_time": "2021-09-30T23:23:47.994Z"
   },
   {
    "duration": 10,
    "start_time": "2021-09-30T23:23:48.025Z"
   },
   {
    "duration": 16,
    "start_time": "2021-09-30T23:23:48.037Z"
   },
   {
    "duration": 275,
    "start_time": "2021-09-30T23:23:48.055Z"
   },
   {
    "duration": 14,
    "start_time": "2021-09-30T23:23:48.333Z"
   },
   {
    "duration": 27,
    "start_time": "2021-09-30T23:23:48.350Z"
   },
   {
    "duration": 55,
    "start_time": "2021-09-30T23:23:48.379Z"
   },
   {
    "duration": 17,
    "start_time": "2021-09-30T23:23:48.436Z"
   },
   {
    "duration": 30,
    "start_time": "2021-09-30T23:23:48.455Z"
   },
   {
    "duration": 55,
    "start_time": "2021-09-30T23:23:48.487Z"
   },
   {
    "duration": 18,
    "start_time": "2021-09-30T23:23:48.545Z"
   },
   {
    "duration": 56,
    "start_time": "2021-09-30T23:23:48.566Z"
   },
   {
    "duration": 10,
    "start_time": "2021-09-30T23:23:48.625Z"
   },
   {
    "duration": 10,
    "start_time": "2021-09-30T23:23:48.637Z"
   },
   {
    "duration": 9,
    "start_time": "2021-09-30T23:23:48.649Z"
   },
   {
    "duration": 71,
    "start_time": "2021-09-30T23:23:48.660Z"
   },
   {
    "duration": 113,
    "start_time": "2021-09-30T23:23:48.733Z"
   },
   {
    "duration": 10,
    "start_time": "2021-09-30T23:23:48.848Z"
   },
   {
    "duration": 88,
    "start_time": "2021-09-30T23:23:48.861Z"
   },
   {
    "duration": 234,
    "start_time": "2021-09-30T23:23:48.951Z"
   },
   {
    "duration": 85,
    "start_time": "2021-09-30T23:23:49.188Z"
   },
   {
    "duration": 11,
    "start_time": "2021-09-30T23:23:49.275Z"
   },
   {
    "duration": 34,
    "start_time": "2021-09-30T23:23:49.289Z"
   },
   {
    "duration": 122,
    "start_time": "2021-09-30T23:23:49.326Z"
   },
   {
    "duration": 120,
    "start_time": "2021-09-30T23:23:49.450Z"
   },
   {
    "duration": 28,
    "start_time": "2021-09-30T23:23:49.573Z"
   },
   {
    "duration": 28,
    "start_time": "2021-09-30T23:23:49.623Z"
   },
   {
    "duration": 26,
    "start_time": "2021-09-30T23:23:49.654Z"
   },
   {
    "duration": 77,
    "start_time": "2021-09-30T23:23:49.683Z"
   },
   {
    "duration": 73,
    "start_time": "2021-09-30T23:23:49.762Z"
   },
   {
    "duration": 20,
    "start_time": "2021-09-30T23:23:49.837Z"
   },
   {
    "duration": 50,
    "start_time": "2021-09-30T23:23:49.860Z"
   },
   {
    "duration": 355,
    "start_time": "2021-09-30T23:23:49.917Z"
   },
   {
    "duration": 10,
    "start_time": "2021-09-30T23:23:50.275Z"
   },
   {
    "duration": 627,
    "start_time": "2021-09-30T23:23:50.287Z"
   },
   {
    "duration": 15,
    "start_time": "2021-09-30T23:23:50.916Z"
   },
   {
    "duration": 379,
    "start_time": "2021-09-30T23:23:50.934Z"
   },
   {
    "duration": 32,
    "start_time": "2021-09-30T23:23:51.323Z"
   },
   {
    "duration": 217,
    "start_time": "2021-09-30T23:23:51.357Z"
   },
   {
    "duration": 25,
    "start_time": "2021-09-30T23:23:51.576Z"
   },
   {
    "duration": 23,
    "start_time": "2021-09-30T23:23:51.623Z"
   },
   {
    "duration": 33,
    "start_time": "2021-09-30T23:23:51.648Z"
   },
   {
    "duration": 16,
    "start_time": "2021-09-30T23:23:51.684Z"
   },
   {
    "duration": 13,
    "start_time": "2021-09-30T23:23:51.723Z"
   },
   {
    "duration": 31,
    "start_time": "2021-09-30T23:23:51.739Z"
   },
   {
    "duration": 19,
    "start_time": "2021-09-30T23:23:51.773Z"
   },
   {
    "duration": 89,
    "start_time": "2021-09-30T23:28:06.951Z"
   },
   {
    "duration": 113,
    "start_time": "2021-09-30T23:29:05.180Z"
   },
   {
    "duration": 92,
    "start_time": "2021-09-30T23:29:20.599Z"
   },
   {
    "duration": 5,
    "start_time": "2021-09-30T23:29:29.604Z"
   },
   {
    "duration": 5,
    "start_time": "2021-09-30T23:31:53.247Z"
   },
   {
    "duration": 41,
    "start_time": "2021-09-30T23:36:01.234Z"
   },
   {
    "duration": 41,
    "start_time": "2021-09-30T23:36:34.663Z"
   },
   {
    "duration": 5,
    "start_time": "2021-09-30T23:37:59.396Z"
   },
   {
    "duration": 8,
    "start_time": "2021-09-30T23:51:48.369Z"
   },
   {
    "duration": 18,
    "start_time": "2021-09-30T23:52:01.665Z"
   },
   {
    "duration": 111,
    "start_time": "2021-09-30T23:52:43.347Z"
   },
   {
    "duration": 16,
    "start_time": "2021-10-01T00:09:28.537Z"
   },
   {
    "duration": 17,
    "start_time": "2021-10-01T00:10:06.394Z"
   },
   {
    "duration": 1323,
    "start_time": "2021-10-01T00:18:23.959Z"
   },
   {
    "duration": 4,
    "start_time": "2021-10-01T00:18:25.284Z"
   },
   {
    "duration": 390,
    "start_time": "2021-10-01T00:18:25.291Z"
   },
   {
    "duration": 20,
    "start_time": "2021-10-01T00:18:25.684Z"
   },
   {
    "duration": 17,
    "start_time": "2021-10-01T00:18:25.706Z"
   },
   {
    "duration": 17,
    "start_time": "2021-10-01T00:18:25.725Z"
   },
   {
    "duration": 140,
    "start_time": "2021-10-01T00:18:25.745Z"
   },
   {
    "duration": 35,
    "start_time": "2021-10-01T00:18:25.889Z"
   },
   {
    "duration": 13,
    "start_time": "2021-10-01T00:18:25.926Z"
   },
   {
    "duration": 172,
    "start_time": "2021-10-01T00:18:25.941Z"
   },
   {
    "duration": 16,
    "start_time": "2021-10-01T00:18:26.115Z"
   },
   {
    "duration": 148,
    "start_time": "2021-10-01T00:18:26.134Z"
   },
   {
    "duration": 15,
    "start_time": "2021-10-01T00:18:26.285Z"
   },
   {
    "duration": 27,
    "start_time": "2021-10-01T00:18:26.302Z"
   },
   {
    "duration": 128,
    "start_time": "2021-10-01T00:18:26.331Z"
   },
   {
    "duration": 11,
    "start_time": "2021-10-01T00:18:26.461Z"
   },
   {
    "duration": 98,
    "start_time": "2021-10-01T00:18:26.475Z"
   },
   {
    "duration": 15,
    "start_time": "2021-10-01T00:18:26.575Z"
   },
   {
    "duration": 53,
    "start_time": "2021-10-01T00:18:26.593Z"
   },
   {
    "duration": 140,
    "start_time": "2021-10-01T00:18:26.650Z"
   },
   {
    "duration": 61,
    "start_time": "2021-10-01T00:18:26.793Z"
   },
   {
    "duration": 20,
    "start_time": "2021-10-01T00:18:26.857Z"
   },
   {
    "duration": 15,
    "start_time": "2021-10-01T00:18:26.923Z"
   },
   {
    "duration": 201,
    "start_time": "2021-10-01T00:18:26.944Z"
   },
   {
    "duration": 39,
    "start_time": "2021-10-01T00:18:27.148Z"
   },
   {
    "duration": 1053,
    "start_time": "2021-10-01T00:18:27.190Z"
   },
   {
    "duration": 16,
    "start_time": "2021-10-01T00:18:28.246Z"
   },
   {
    "duration": 20,
    "start_time": "2021-10-01T00:18:28.265Z"
   },
   {
    "duration": 55,
    "start_time": "2021-10-01T00:18:28.288Z"
   },
   {
    "duration": 254,
    "start_time": "2021-10-01T00:18:28.346Z"
   },
   {
    "duration": 24,
    "start_time": "2021-10-01T00:18:28.603Z"
   },
   {
    "duration": 11,
    "start_time": "2021-10-01T00:18:28.630Z"
   },
   {
    "duration": 45,
    "start_time": "2021-10-01T00:18:28.644Z"
   },
   {
    "duration": 250,
    "start_time": "2021-10-01T00:18:28.691Z"
   },
   {
    "duration": 230,
    "start_time": "2021-10-01T00:18:28.943Z"
   },
   {
    "duration": 11,
    "start_time": "2021-10-01T00:18:29.175Z"
   },
   {
    "duration": 34,
    "start_time": "2021-10-01T00:18:29.188Z"
   },
   {
    "duration": 14,
    "start_time": "2021-10-01T00:18:29.225Z"
   },
   {
    "duration": 264,
    "start_time": "2021-10-01T00:18:29.242Z"
   },
   {
    "duration": 23,
    "start_time": "2021-10-01T00:18:29.509Z"
   },
   {
    "duration": 29,
    "start_time": "2021-10-01T00:18:29.536Z"
   },
   {
    "duration": 60,
    "start_time": "2021-10-01T00:18:29.568Z"
   },
   {
    "duration": 8,
    "start_time": "2021-10-01T00:18:29.631Z"
   },
   {
    "duration": 40,
    "start_time": "2021-10-01T00:18:29.641Z"
   },
   {
    "duration": 61,
    "start_time": "2021-10-01T00:18:29.684Z"
   },
   {
    "duration": 19,
    "start_time": "2021-10-01T00:18:29.748Z"
   },
   {
    "duration": 53,
    "start_time": "2021-10-01T00:18:29.769Z"
   },
   {
    "duration": 10,
    "start_time": "2021-10-01T00:18:29.825Z"
   },
   {
    "duration": 8,
    "start_time": "2021-10-01T00:18:29.838Z"
   },
   {
    "duration": 8,
    "start_time": "2021-10-01T00:18:29.849Z"
   },
   {
    "duration": 70,
    "start_time": "2021-10-01T00:18:29.860Z"
   },
   {
    "duration": 101,
    "start_time": "2021-10-01T00:18:29.933Z"
   },
   {
    "duration": 9,
    "start_time": "2021-10-01T00:18:30.036Z"
   },
   {
    "duration": 88,
    "start_time": "2021-10-01T00:18:30.048Z"
   },
   {
    "duration": 239,
    "start_time": "2021-10-01T00:18:30.139Z"
   },
   {
    "duration": 84,
    "start_time": "2021-10-01T00:18:30.381Z"
   },
   {
    "duration": 12,
    "start_time": "2021-10-01T00:18:30.467Z"
   },
   {
    "duration": 43,
    "start_time": "2021-10-01T00:18:30.481Z"
   },
   {
    "duration": 6,
    "start_time": "2021-10-01T00:18:30.526Z"
   },
   {
    "duration": 129,
    "start_time": "2021-10-01T00:18:30.534Z"
   },
   {
    "duration": 121,
    "start_time": "2021-10-01T00:18:30.665Z"
   },
   {
    "duration": 44,
    "start_time": "2021-10-01T00:18:30.789Z"
   },
   {
    "duration": 55,
    "start_time": "2021-10-01T00:18:30.835Z"
   },
   {
    "duration": 34,
    "start_time": "2021-10-01T00:18:30.892Z"
   },
   {
    "duration": 59,
    "start_time": "2021-10-01T00:18:30.928Z"
   },
   {
    "duration": 67,
    "start_time": "2021-10-01T00:18:30.990Z"
   },
   {
    "duration": 5,
    "start_time": "2021-10-01T00:18:31.059Z"
   },
   {
    "duration": 47,
    "start_time": "2021-10-01T00:18:31.076Z"
   },
   {
    "duration": 65,
    "start_time": "2021-10-01T00:18:31.126Z"
   },
   {
    "duration": 471,
    "start_time": "2021-10-01T00:18:31.194Z"
   },
   {
    "duration": 9,
    "start_time": "2021-10-01T00:18:31.668Z"
   },
   {
    "duration": 525,
    "start_time": "2021-10-01T00:18:31.679Z"
   },
   {
    "duration": 19,
    "start_time": "2021-10-01T00:18:32.206Z"
   },
   {
    "duration": 367,
    "start_time": "2021-10-01T00:18:32.228Z"
   },
   {
    "duration": 45,
    "start_time": "2021-10-01T00:18:32.597Z"
   },
   {
    "duration": 218,
    "start_time": "2021-10-01T00:18:32.645Z"
   },
   {
    "duration": 26,
    "start_time": "2021-10-01T00:18:32.865Z"
   },
   {
    "duration": 36,
    "start_time": "2021-10-01T00:18:32.894Z"
   },
   {
    "duration": 33,
    "start_time": "2021-10-01T00:18:32.933Z"
   },
   {
    "duration": 22,
    "start_time": "2021-10-01T00:18:32.969Z"
   },
   {
    "duration": 40,
    "start_time": "2021-10-01T00:18:32.994Z"
   },
   {
    "duration": 18,
    "start_time": "2021-10-01T00:18:33.037Z"
   },
   {
    "duration": 33,
    "start_time": "2021-10-01T00:18:33.058Z"
   },
   {
    "duration": 42,
    "start_time": "2021-10-01T00:18:33.094Z"
   },
   {
    "duration": 55,
    "start_time": "2021-10-01T00:18:33.139Z"
   },
   {
    "duration": 1368,
    "start_time": "2021-10-01T00:29:31.724Z"
   },
   {
    "duration": 4,
    "start_time": "2021-10-01T00:29:33.095Z"
   },
   {
    "duration": 412,
    "start_time": "2021-10-01T00:29:33.102Z"
   },
   {
    "duration": 19,
    "start_time": "2021-10-01T00:29:33.516Z"
   },
   {
    "duration": 17,
    "start_time": "2021-10-01T00:29:33.537Z"
   },
   {
    "duration": 14,
    "start_time": "2021-10-01T00:29:33.557Z"
   },
   {
    "duration": 151,
    "start_time": "2021-10-01T00:29:33.574Z"
   },
   {
    "duration": 19,
    "start_time": "2021-10-01T00:29:33.730Z"
   },
   {
    "duration": 12,
    "start_time": "2021-10-01T00:29:33.752Z"
   },
   {
    "duration": 186,
    "start_time": "2021-10-01T00:29:33.767Z"
   },
   {
    "duration": 12,
    "start_time": "2021-10-01T00:29:33.956Z"
   },
   {
    "duration": 145,
    "start_time": "2021-10-01T00:29:33.970Z"
   },
   {
    "duration": 18,
    "start_time": "2021-10-01T00:29:34.117Z"
   },
   {
    "duration": 10,
    "start_time": "2021-10-01T00:29:34.138Z"
   },
   {
    "duration": 138,
    "start_time": "2021-10-01T00:29:34.151Z"
   },
   {
    "duration": 31,
    "start_time": "2021-10-01T00:29:34.291Z"
   },
   {
    "duration": 58,
    "start_time": "2021-10-01T00:29:34.324Z"
   },
   {
    "duration": 44,
    "start_time": "2021-10-01T00:29:34.385Z"
   },
   {
    "duration": 30,
    "start_time": "2021-10-01T00:29:34.431Z"
   },
   {
    "duration": 122,
    "start_time": "2021-10-01T00:29:34.463Z"
   },
   {
    "duration": 58,
    "start_time": "2021-10-01T00:29:34.588Z"
   },
   {
    "duration": 17,
    "start_time": "2021-10-01T00:29:34.648Z"
   },
   {
    "duration": 14,
    "start_time": "2021-10-01T00:29:34.671Z"
   },
   {
    "duration": 216,
    "start_time": "2021-10-01T00:29:34.690Z"
   },
   {
    "duration": 52,
    "start_time": "2021-10-01T00:29:34.909Z"
   },
   {
    "duration": 1186,
    "start_time": "2021-10-01T00:29:34.964Z"
   },
   {
    "duration": 16,
    "start_time": "2021-10-01T00:29:36.153Z"
   },
   {
    "duration": 53,
    "start_time": "2021-10-01T00:29:36.172Z"
   },
   {
    "duration": 23,
    "start_time": "2021-10-01T00:29:36.229Z"
   },
   {
    "duration": 270,
    "start_time": "2021-10-01T00:29:36.255Z"
   },
   {
    "duration": 12,
    "start_time": "2021-10-01T00:29:36.527Z"
   },
   {
    "duration": 10,
    "start_time": "2021-10-01T00:29:36.542Z"
   },
   {
    "duration": 15,
    "start_time": "2021-10-01T00:29:36.555Z"
   },
   {
    "duration": 282,
    "start_time": "2021-10-01T00:29:36.572Z"
   },
   {
    "duration": 235,
    "start_time": "2021-10-01T00:29:36.856Z"
   },
   {
    "duration": 12,
    "start_time": "2021-10-01T00:29:37.093Z"
   },
   {
    "duration": 11,
    "start_time": "2021-10-01T00:29:37.123Z"
   },
   {
    "duration": 15,
    "start_time": "2021-10-01T00:29:37.136Z"
   },
   {
    "duration": 282,
    "start_time": "2021-10-01T00:29:37.153Z"
   },
   {
    "duration": 15,
    "start_time": "2021-10-01T00:29:37.437Z"
   },
   {
    "duration": 28,
    "start_time": "2021-10-01T00:29:37.454Z"
   },
   {
    "duration": 50,
    "start_time": "2021-10-01T00:29:37.485Z"
   },
   {
    "duration": 10,
    "start_time": "2021-10-01T00:29:37.537Z"
   },
   {
    "duration": 75,
    "start_time": "2021-10-01T00:29:37.549Z"
   },
   {
    "duration": 23,
    "start_time": "2021-10-01T00:29:37.626Z"
   },
   {
    "duration": 19,
    "start_time": "2021-10-01T00:29:37.651Z"
   },
   {
    "duration": 54,
    "start_time": "2021-10-01T00:29:37.672Z"
   },
   {
    "duration": 9,
    "start_time": "2021-10-01T00:29:37.728Z"
   },
   {
    "duration": 8,
    "start_time": "2021-10-01T00:29:37.740Z"
   },
   {
    "duration": 8,
    "start_time": "2021-10-01T00:29:37.750Z"
   },
   {
    "duration": 69,
    "start_time": "2021-10-01T00:29:37.760Z"
   },
   {
    "duration": 129,
    "start_time": "2021-10-01T00:29:37.832Z"
   },
   {
    "duration": 8,
    "start_time": "2021-10-01T00:29:37.963Z"
   },
   {
    "duration": 88,
    "start_time": "2021-10-01T00:29:37.974Z"
   },
   {
    "duration": 235,
    "start_time": "2021-10-01T00:29:38.064Z"
   },
   {
    "duration": 78,
    "start_time": "2021-10-01T00:29:38.301Z"
   },
   {
    "duration": 10,
    "start_time": "2021-10-01T00:29:38.381Z"
   },
   {
    "duration": 38,
    "start_time": "2021-10-01T00:29:38.393Z"
   },
   {
    "duration": 12,
    "start_time": "2021-10-01T00:29:38.433Z"
   },
   {
    "duration": 129,
    "start_time": "2021-10-01T00:29:38.447Z"
   },
   {
    "duration": 116,
    "start_time": "2021-10-01T00:29:38.579Z"
   },
   {
    "duration": 41,
    "start_time": "2021-10-01T00:29:38.697Z"
   },
   {
    "duration": 30,
    "start_time": "2021-10-01T00:29:38.740Z"
   },
   {
    "duration": 60,
    "start_time": "2021-10-01T00:29:38.772Z"
   },
   {
    "duration": 43,
    "start_time": "2021-10-01T00:29:38.834Z"
   },
   {
    "duration": 77,
    "start_time": "2021-10-01T00:29:38.880Z"
   },
   {
    "duration": 5,
    "start_time": "2021-10-01T00:29:38.959Z"
   },
   {
    "duration": 19,
    "start_time": "2021-10-01T00:29:38.971Z"
   },
   {
    "duration": 10,
    "start_time": "2021-10-01T00:29:39.022Z"
   },
   {
    "duration": 375,
    "start_time": "2021-10-01T00:29:39.034Z"
   },
   {
    "duration": 17,
    "start_time": "2021-10-01T00:29:39.411Z"
   },
   {
    "duration": 506,
    "start_time": "2021-10-01T00:29:39.430Z"
   },
   {
    "duration": 10,
    "start_time": "2021-10-01T00:29:39.938Z"
   },
   {
    "duration": 388,
    "start_time": "2021-10-01T00:29:39.950Z"
   },
   {
    "duration": 31,
    "start_time": "2021-10-01T00:29:40.341Z"
   },
   {
    "duration": 220,
    "start_time": "2021-10-01T00:29:40.374Z"
   },
   {
    "duration": 38,
    "start_time": "2021-10-01T00:29:40.596Z"
   },
   {
    "duration": 14,
    "start_time": "2021-10-01T00:29:40.636Z"
   },
   {
    "duration": 37,
    "start_time": "2021-10-01T00:29:40.652Z"
   },
   {
    "duration": 51,
    "start_time": "2021-10-01T00:29:40.692Z"
   },
   {
    "duration": 17,
    "start_time": "2021-10-01T00:29:40.746Z"
   },
   {
    "duration": 17,
    "start_time": "2021-10-01T00:29:40.766Z"
   },
   {
    "duration": 53,
    "start_time": "2021-10-01T00:29:40.786Z"
   },
   {
    "duration": 9,
    "start_time": "2021-10-01T00:29:40.842Z"
   },
   {
    "duration": 42,
    "start_time": "2021-10-01T00:29:40.853Z"
   },
   {
    "duration": 348,
    "start_time": "2021-10-01T10:24:16.534Z"
   },
   {
    "duration": 1436,
    "start_time": "2021-10-01T10:25:13.249Z"
   },
   {
    "duration": 5,
    "start_time": "2021-10-01T10:25:14.688Z"
   },
   {
    "duration": 941,
    "start_time": "2021-10-01T10:25:14.697Z"
   },
   {
    "duration": 20,
    "start_time": "2021-10-01T10:25:15.640Z"
   },
   {
    "duration": 18,
    "start_time": "2021-10-01T10:25:15.662Z"
   },
   {
    "duration": 15,
    "start_time": "2021-10-01T10:25:15.682Z"
   },
   {
    "duration": 141,
    "start_time": "2021-10-01T10:25:15.699Z"
   },
   {
    "duration": 31,
    "start_time": "2021-10-01T10:25:15.843Z"
   },
   {
    "duration": 12,
    "start_time": "2021-10-01T10:25:15.877Z"
   },
   {
    "duration": 165,
    "start_time": "2021-10-01T10:25:15.891Z"
   },
   {
    "duration": 18,
    "start_time": "2021-10-01T10:25:16.058Z"
   },
   {
    "duration": 150,
    "start_time": "2021-10-01T10:25:16.078Z"
   },
   {
    "duration": 16,
    "start_time": "2021-10-01T10:25:16.230Z"
   },
   {
    "duration": 11,
    "start_time": "2021-10-01T10:25:16.268Z"
   },
   {
    "duration": 134,
    "start_time": "2021-10-01T10:25:16.282Z"
   },
   {
    "duration": 11,
    "start_time": "2021-10-01T10:25:16.419Z"
   },
   {
    "duration": 86,
    "start_time": "2021-10-01T10:25:16.433Z"
   },
   {
    "duration": 16,
    "start_time": "2021-10-01T10:25:16.521Z"
   },
   {
    "duration": 48,
    "start_time": "2021-10-01T10:25:16.540Z"
   },
   {
    "duration": 123,
    "start_time": "2021-10-01T10:25:16.591Z"
   },
   {
    "duration": 63,
    "start_time": "2021-10-01T10:25:16.717Z"
   },
   {
    "duration": 17,
    "start_time": "2021-10-01T10:25:16.783Z"
   },
   {
    "duration": 26,
    "start_time": "2021-10-01T10:25:16.807Z"
   },
   {
    "duration": 288,
    "start_time": "2021-10-01T10:25:16.837Z"
   },
   {
    "duration": 66,
    "start_time": "2021-10-01T10:25:17.128Z"
   },
   {
    "duration": 1612,
    "start_time": "2021-10-01T10:25:17.197Z"
   },
   {
    "duration": 15,
    "start_time": "2021-10-01T10:25:18.812Z"
   },
   {
    "duration": 43,
    "start_time": "2021-10-01T10:25:18.830Z"
   },
   {
    "duration": 22,
    "start_time": "2021-10-01T10:25:18.876Z"
   },
   {
    "duration": 251,
    "start_time": "2021-10-01T10:25:18.901Z"
   },
   {
    "duration": 23,
    "start_time": "2021-10-01T10:25:19.155Z"
   },
   {
    "duration": 13,
    "start_time": "2021-10-01T10:25:19.180Z"
   },
   {
    "duration": 17,
    "start_time": "2021-10-01T10:25:19.196Z"
   },
   {
    "duration": 286,
    "start_time": "2021-10-01T10:25:19.216Z"
   },
   {
    "duration": 244,
    "start_time": "2021-10-01T10:25:19.506Z"
   },
   {
    "duration": 20,
    "start_time": "2021-10-01T10:25:19.753Z"
   },
   {
    "duration": 11,
    "start_time": "2021-10-01T10:25:19.775Z"
   },
   {
    "duration": 16,
    "start_time": "2021-10-01T10:25:19.789Z"
   },
   {
    "duration": 292,
    "start_time": "2021-10-01T10:25:19.807Z"
   },
   {
    "duration": 19,
    "start_time": "2021-10-01T10:25:20.102Z"
   },
   {
    "duration": 53,
    "start_time": "2021-10-01T10:25:20.124Z"
   },
   {
    "duration": 19,
    "start_time": "2021-10-01T10:25:20.179Z"
   },
   {
    "duration": 6,
    "start_time": "2021-10-01T10:25:20.200Z"
   },
   {
    "duration": 58,
    "start_time": "2021-10-01T10:25:20.209Z"
   },
   {
    "duration": 25,
    "start_time": "2021-10-01T10:25:20.270Z"
   },
   {
    "duration": 20,
    "start_time": "2021-10-01T10:25:20.299Z"
   },
   {
    "duration": 53,
    "start_time": "2021-10-01T10:25:20.322Z"
   },
   {
    "duration": 11,
    "start_time": "2021-10-01T10:25:20.378Z"
   },
   {
    "duration": 23,
    "start_time": "2021-10-01T10:25:20.392Z"
   },
   {
    "duration": 10,
    "start_time": "2021-10-01T10:25:20.418Z"
   },
   {
    "duration": 47,
    "start_time": "2021-10-01T10:25:20.430Z"
   },
   {
    "duration": 106,
    "start_time": "2021-10-01T10:25:20.480Z"
   },
   {
    "duration": 10,
    "start_time": "2021-10-01T10:25:20.589Z"
   },
   {
    "duration": 86,
    "start_time": "2021-10-01T10:25:20.601Z"
   },
   {
    "duration": 239,
    "start_time": "2021-10-01T10:25:20.689Z"
   },
   {
    "duration": 84,
    "start_time": "2021-10-01T10:25:20.931Z"
   },
   {
    "duration": 11,
    "start_time": "2021-10-01T10:25:21.017Z"
   },
   {
    "duration": 15,
    "start_time": "2021-10-01T10:25:21.030Z"
   },
   {
    "duration": 8,
    "start_time": "2021-10-01T10:25:21.068Z"
   },
   {
    "duration": 128,
    "start_time": "2021-10-01T10:25:21.079Z"
   },
   {
    "duration": 124,
    "start_time": "2021-10-01T10:25:21.209Z"
   },
   {
    "duration": 44,
    "start_time": "2021-10-01T10:25:21.335Z"
   },
   {
    "duration": 28,
    "start_time": "2021-10-01T10:25:21.381Z"
   },
   {
    "duration": 59,
    "start_time": "2021-10-01T10:25:21.411Z"
   },
   {
    "duration": 42,
    "start_time": "2021-10-01T10:25:21.472Z"
   },
   {
    "duration": 79,
    "start_time": "2021-10-01T10:25:21.516Z"
   },
   {
    "duration": 5,
    "start_time": "2021-10-01T10:25:21.597Z"
   },
   {
    "duration": 19,
    "start_time": "2021-10-01T10:25:21.609Z"
   },
   {
    "duration": 41,
    "start_time": "2021-10-01T10:25:21.631Z"
   },
   {
    "duration": 376,
    "start_time": "2021-10-01T10:25:21.675Z"
   },
   {
    "duration": 20,
    "start_time": "2021-10-01T10:25:22.054Z"
   },
   {
    "duration": 530,
    "start_time": "2021-10-01T10:25:22.076Z"
   },
   {
    "duration": 9,
    "start_time": "2021-10-01T10:25:22.609Z"
   },
   {
    "duration": 395,
    "start_time": "2021-10-01T10:25:22.621Z"
   },
   {
    "duration": 34,
    "start_time": "2021-10-01T10:25:23.019Z"
   },
   {
    "duration": 207,
    "start_time": "2021-10-01T10:25:23.068Z"
   },
   {
    "duration": 27,
    "start_time": "2021-10-01T10:25:23.277Z"
   },
   {
    "duration": 18,
    "start_time": "2021-10-01T10:25:23.307Z"
   },
   {
    "duration": 51,
    "start_time": "2021-10-01T10:25:23.328Z"
   },
   {
    "duration": 23,
    "start_time": "2021-10-01T10:25:23.382Z"
   },
   {
    "duration": 8,
    "start_time": "2021-10-01T10:25:23.407Z"
   },
   {
    "duration": 10,
    "start_time": "2021-10-01T10:25:23.418Z"
   },
   {
    "duration": 63,
    "start_time": "2021-10-01T10:25:23.430Z"
   },
   {
    "duration": 11,
    "start_time": "2021-10-01T10:25:23.496Z"
   },
   {
    "duration": 62,
    "start_time": "2021-10-01T10:25:23.509Z"
   },
   {
    "duration": 425,
    "start_time": "2021-10-01T10:26:21.150Z"
   },
   {
    "duration": 255,
    "start_time": "2021-10-01T10:26:34.538Z"
   },
   {
    "duration": 249,
    "start_time": "2021-10-01T10:26:45.491Z"
   },
   {
    "duration": 9,
    "start_time": "2021-10-01T10:28:00.178Z"
   },
   {
    "duration": 222,
    "start_time": "2021-10-01T10:28:15.144Z"
   },
   {
    "duration": 248,
    "start_time": "2021-10-01T10:28:26.814Z"
   }
  ],
  "kernelspec": {
   "display_name": "Python 3",
   "language": "python",
   "name": "python3"
  },
  "language_info": {
   "codemirror_mode": {
    "name": "ipython",
    "version": 3
   },
   "file_extension": ".py",
   "mimetype": "text/x-python",
   "name": "python",
   "nbconvert_exporter": "python",
   "pygments_lexer": "ipython3",
   "version": "3.7.6"
  },
  "toc": {
   "base_numbering": 1,
   "nav_menu": {},
   "number_sections": true,
   "sideBar": true,
   "skip_h1_title": true,
   "title_cell": "Table of Contents",
   "title_sidebar": "Contents",
   "toc_cell": false,
   "toc_position": {},
   "toc_section_display": true,
   "toc_window_display": false
  }
 },
 "nbformat": 4,
 "nbformat_minor": 2
}
